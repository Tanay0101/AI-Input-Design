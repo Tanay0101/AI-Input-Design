{
 "cells": [
  {
   "cell_type": "code",
   "execution_count": 1,
   "metadata": {},
   "outputs": [],
   "source": [
    "import os\n",
    "from copy import deepcopy\n",
    "\n",
    "from tqdm import tqdm\n",
    "import numpy as np\n",
    "import tensorflow as tf\n",
    "from tensorflow import keras\n",
    "import matplotlib.pyplot as plt\n",
    "\n",
    "from Environment import Environment, make_one_hot, give_mapping\n",
    "from Agent import Agent"
   ]
  },
  {
   "cell_type": "code",
   "execution_count": 2,
   "metadata": {},
   "outputs": [],
   "source": [
    "def give_prev_steps(prev_steps_assist, steps):\n",
    "    prev_steps_assist = [[0,0,0,0,-1,-1] for i in range(steps-1)]\n",
    "    return prev_steps_assist"
   ]
  },
  {
   "cell_type": "code",
   "execution_count": 3,
   "metadata": {
    "scrolled": true
   },
   "outputs": [
    {
     "name": "stdout",
     "output_type": "stream",
     "text": [
      "Model: \"functional_1\"\n",
      "__________________________________________________________________________________________________\n",
      "Layer (type)                    Output Shape         Param #     Connected to                     \n",
      "==================================================================================================\n",
      "input_1 (InputLayer)            [(None, 4)]          0                                            \n",
      "__________________________________________________________________________________________________\n",
      "tf_op_layer_strided_slice (Tens [(None, 2)]          0           input_1[0][0]                    \n",
      "__________________________________________________________________________________________________\n",
      "tf_op_layer_strided_slice_1 (Te [(None, 2)]          0           input_1[0][0]                    \n",
      "__________________________________________________________________________________________________\n",
      "subtract (Subtract)             (None, 2)            0           tf_op_layer_strided_slice[0][0]  \n",
      "                                                                 tf_op_layer_strided_slice_1[0][0]\n",
      "__________________________________________________________________________________________________\n",
      "dense (Dense)                   (None, 32)           96          subtract[0][0]                   \n",
      "__________________________________________________________________________________________________\n",
      "dense_1 (Dense)                 (None, 64)           2112        dense[0][0]                      \n",
      "__________________________________________________________________________________________________\n",
      "dense_2 (Dense)                 (None, 4)            260         dense_1[0][0]                    \n",
      "==================================================================================================\n",
      "Total params: 2,468\n",
      "Trainable params: 2,468\n",
      "Non-trainable params: 0\n",
      "__________________________________________________________________________________________________\n",
      "Model: \"functional_3\"\n",
      "__________________________________________________________________________________________________\n",
      "Layer (type)                    Output Shape         Param #     Connected to                     \n",
      "==================================================================================================\n",
      "input_3 (InputLayer)            [(None, 11, 11, 1)]  0                                            \n",
      "__________________________________________________________________________________________________\n",
      "input_2 (InputLayer)            [(None, 6, 6)]       0                                            \n",
      "__________________________________________________________________________________________________\n",
      "flatten (Flatten)               (None, 121)          0           input_3[0][0]                    \n",
      "__________________________________________________________________________________________________\n",
      "dense_3 (Dense)                 (None, 6, 32)        224         input_2[0][0]                    \n",
      "__________________________________________________________________________________________________\n",
      "dense_4 (Dense)                 (None, 64)           7808        flatten[0][0]                    \n",
      "__________________________________________________________________________________________________\n",
      "lstm (LSTM)                     (None, 32)           8320        dense_3[0][0]                    \n",
      "__________________________________________________________________________________________________\n",
      "dense_5 (Dense)                 (None, 32)           2080        dense_4[0][0]                    \n",
      "__________________________________________________________________________________________________\n",
      "concatenate (Concatenate)       (None, 64)           0           lstm[0][0]                       \n",
      "                                                                 dense_5[0][0]                    \n",
      "__________________________________________________________________________________________________\n",
      "dense_6 (Dense)                 (None, 32)           2080        concatenate[0][0]                \n",
      "__________________________________________________________________________________________________\n",
      "dense_7 (Dense)                 (None, 4)            132         dense_6[0][0]                    \n",
      "==================================================================================================\n",
      "Total params: 20,644\n",
      "Trainable params: 20,644\n",
      "Non-trainable params: 0\n",
      "__________________________________________________________________________________________________\n",
      "Model: \"functional_5\"\n",
      "__________________________________________________________________________________________________\n",
      "Layer (type)                    Output Shape         Param #     Connected to                     \n",
      "==================================================================================================\n",
      "input_4 (InputLayer)            [(None, 4)]          0                                            \n",
      "__________________________________________________________________________________________________\n",
      "tf_op_layer_strided_slice_2 (Te [(None, 2)]          0           input_4[0][0]                    \n",
      "__________________________________________________________________________________________________\n",
      "tf_op_layer_strided_slice_3 (Te [(None, 2)]          0           input_4[0][0]                    \n",
      "__________________________________________________________________________________________________\n",
      "subtract_1 (Subtract)           (None, 2)            0           tf_op_layer_strided_slice_2[0][0]\n",
      "                                                                 tf_op_layer_strided_slice_3[0][0]\n",
      "__________________________________________________________________________________________________\n",
      "input_6 (InputLayer)            [(None, 11, 11, 1)]  0                                            \n",
      "__________________________________________________________________________________________________\n",
      "dense_8 (Dense)                 (None, 32)           96          subtract_1[0][0]                 \n",
      "__________________________________________________________________________________________________\n",
      "input_5 (InputLayer)            [(None, 6, 6)]       0                                            \n",
      "__________________________________________________________________________________________________\n",
      "flatten_1 (Flatten)             (None, 121)          0           input_6[0][0]                    \n",
      "__________________________________________________________________________________________________\n",
      "dense_9 (Dense)                 (None, 64)           2112        dense_8[0][0]                    \n",
      "__________________________________________________________________________________________________\n",
      "dense_11 (Dense)                (None, 6, 32)        224         input_5[0][0]                    \n",
      "__________________________________________________________________________________________________\n",
      "dense_12 (Dense)                (None, 64)           7808        flatten_1[0][0]                  \n",
      "__________________________________________________________________________________________________\n",
      "input_7 (InputLayer)            [(None, 4)]          0                                            \n",
      "__________________________________________________________________________________________________\n",
      "dense_10 (Dense)                (None, 32)           2080        dense_9[0][0]                    \n",
      "__________________________________________________________________________________________________\n",
      "lstm_1 (LSTM)                   (None, 32)           8320        dense_11[0][0]                   \n",
      "__________________________________________________________________________________________________\n",
      "dense_13 (Dense)                (None, 32)           2080        dense_12[0][0]                   \n",
      "__________________________________________________________________________________________________\n",
      "dense_14 (Dense)                (None, 32)           160         input_7[0][0]                    \n",
      "__________________________________________________________________________________________________\n",
      "concatenate_1 (Concatenate)     (None, 128)          0           dense_10[0][0]                   \n",
      "                                                                 lstm_1[0][0]                     \n",
      "                                                                 dense_13[0][0]                   \n",
      "                                                                 dense_14[0][0]                   \n",
      "__________________________________________________________________________________________________\n",
      "dense_15 (Dense)                (None, 32)           4128        concatenate_1[0][0]              \n",
      "__________________________________________________________________________________________________\n",
      "dense_16 (Dense)                (None, 1)            33          dense_15[0][0]                   \n",
      "==================================================================================================\n",
      "Total params: 27,041\n",
      "Trainable params: 27,041\n",
      "Non-trainable params: 0\n",
      "__________________________________________________________________________________________________\n"
     ]
    }
   ],
   "source": [
    "N = 20\n",
    "batch_size = 5\n",
    "n_epochs = 4\n",
    "alpha = 0.0005\n",
    "memory_len = 6\n",
    "\n",
    "agent = Agent(gamma=0.99, alpha=alpha, gae_lambda=0.95, policy_clip=0.1,\\\n",
    "              batch_size=batch_size, N=N, n_epochs=n_epochs, memory_len = memory_len)\n",
    "\n",
    "\n",
    "n_games = 15000\n",
    "best_reached = 0\n",
    "score_history = []\n",
    "\n",
    "learn_iters = 0\n",
    "avg_score = 0\n",
    "n_steps = 0\n",
    "max_steps = 40\n",
    "reached = 0"
   ]
  },
  {
   "cell_type": "code",
   "execution_count": 4,
   "metadata": {
    "scrolled": true
   },
   "outputs": [
    {
     "name": "stderr",
     "output_type": "stream",
     "text": [
      "  0%|                                                                             | 1/15000 [00:03<13:46:55,  3.31s/it]"
     ]
    },
    {
     "name": "stdout",
     "output_type": "stream",
     "text": [
      "Episode: 0; Score: -40; Avg_score: -40.0; Timesteps: 40; Learning Steps: 2; Reached: 0\n",
      "Saving Models\n"
     ]
    },
    {
     "name": "stderr",
     "output_type": "stream",
     "text": [
      "  1%|▌                                                                           | 101/15000 [03:14<6:24:13,  1.55s/it]"
     ]
    },
    {
     "name": "stdout",
     "output_type": "stream",
     "text": [
      "Episode: 100; Score: -38; Avg_score: -27.83; Timesteps: 3208; Learning Steps: 160; Reached: 35\n",
      "Saving Models\n"
     ]
    },
    {
     "name": "stderr",
     "output_type": "stream",
     "text": [
      "  1%|█                                                                           | 201/15000 [05:38<4:59:43,  1.22s/it]"
     ]
    },
    {
     "name": "stdout",
     "output_type": "stream",
     "text": [
      "Episode: 200; Score: 8; Avg_score: -14.22; Timesteps: 5389; Learning Steps: 269; Reached: 69\n",
      "Saving Models\n"
     ]
    },
    {
     "name": "stderr",
     "output_type": "stream",
     "text": [
      "  2%|█▌                                                                          | 301/15000 [07:39<2:33:41,  1.59it/s]"
     ]
    },
    {
     "name": "stdout",
     "output_type": "stream",
     "text": [
      "Episode: 300; Score: 6; Avg_score: -9.85; Timesteps: 7232; Learning Steps: 361; Reached: 78\n",
      "Saving Models\n"
     ]
    },
    {
     "name": "stderr",
     "output_type": "stream",
     "text": [
      "  3%|██                                                                          | 401/15000 [09:05<2:35:35,  1.56it/s]"
     ]
    },
    {
     "name": "stdout",
     "output_type": "stream",
     "text": [
      "Episode: 400; Score: 10; Avg_score: -3.29; Timesteps: 8540; Learning Steps: 427; Reached: 89\n",
      "Saving Models\n"
     ]
    },
    {
     "name": "stderr",
     "output_type": "stream",
     "text": [
      "  3%|██▌                                                                         | 502/15000 [10:01<1:28:54,  2.72it/s]"
     ]
    },
    {
     "name": "stdout",
     "output_type": "stream",
     "text": [
      "Episode: 500; Score: 9; Avg_score: 2.48; Timesteps: 9392; Learning Steps: 469; Reached: 100\n",
      "Saving Models\n"
     ]
    },
    {
     "name": "stderr",
     "output_type": "stream",
     "text": [
      "  4%|███                                                                         | 602/15000 [10:41<1:10:51,  3.39it/s]"
     ]
    },
    {
     "name": "stdout",
     "output_type": "stream",
     "text": [
      "Episode: 600; Score: 5; Avg_score: 5.06; Timesteps: 9986; Learning Steps: 499; Reached: 100\n",
      "Saving Models\n"
     ]
    },
    {
     "name": "stderr",
     "output_type": "stream",
     "text": [
      "  5%|███▌                                                                        | 701/15000 [11:23<1:39:00,  2.41it/s]"
     ]
    },
    {
     "name": "stdout",
     "output_type": "stream",
     "text": [
      "Episode: 700; Score: 8; Avg_score: 4.61; Timesteps: 10625; Learning Steps: 531; Reached: 100\n",
      "Saving Models\n"
     ]
    },
    {
     "name": "stderr",
     "output_type": "stream",
     "text": [
      "  5%|████                                                                        | 801/15000 [12:12<2:49:59,  1.39it/s]"
     ]
    },
    {
     "name": "stdout",
     "output_type": "stream",
     "text": [
      "Episode: 800; Score: -1; Avg_score: 3.56; Timesteps: 11369; Learning Steps: 568; Reached: 100\n",
      "Saving Models\n"
     ]
    },
    {
     "name": "stderr",
     "output_type": "stream",
     "text": [
      "  6%|████▌                                                                       | 901/15000 [13:00<1:20:55,  2.90it/s]"
     ]
    },
    {
     "name": "stdout",
     "output_type": "stream",
     "text": [
      "Episode: 900; Score: 10; Avg_score: 3.6; Timesteps: 12109; Learning Steps: 605; Reached: 100\n",
      "Saving Models\n"
     ]
    },
    {
     "name": "stderr",
     "output_type": "stream",
     "text": [
      "  7%|█████                                                                      | 1001/15000 [13:47<2:28:59,  1.57it/s]"
     ]
    },
    {
     "name": "stdout",
     "output_type": "stream",
     "text": [
      "Episode: 1000; Score: 4; Avg_score: 4.08; Timesteps: 12801; Learning Steps: 640; Reached: 100\n",
      "Saving Models\n"
     ]
    },
    {
     "name": "stderr",
     "output_type": "stream",
     "text": [
      "  7%|█████▌                                                                     | 1101/15000 [14:42<2:27:57,  1.57it/s]"
     ]
    },
    {
     "name": "stdout",
     "output_type": "stream",
     "text": [
      "Episode: 1100; Score: 4; Avg_score: 2.34; Timesteps: 13645; Learning Steps: 682; Reached: 98\n",
      "Saving Models\n"
     ]
    },
    {
     "name": "stderr",
     "output_type": "stream",
     "text": [
      "  8%|██████                                                                     | 1201/15000 [15:34<2:16:52,  1.68it/s]"
     ]
    },
    {
     "name": "stdout",
     "output_type": "stream",
     "text": [
      "Episode: 1200; Score: 4; Avg_score: 3.09; Timesteps: 14425; Learning Steps: 721; Reached: 99\n",
      "Saving Models\n"
     ]
    },
    {
     "name": "stderr",
     "output_type": "stream",
     "text": [
      "  9%|██████▌                                                                    | 1301/15000 [16:29<1:57:34,  1.94it/s]"
     ]
    },
    {
     "name": "stdout",
     "output_type": "stream",
     "text": [
      "Episode: 1300; Score: 2; Avg_score: 0.98; Timesteps: 15273; Learning Steps: 763; Reached: 86\n"
     ]
    },
    {
     "name": "stderr",
     "output_type": "stream",
     "text": [
      "  9%|███████                                                                    | 1401/15000 [17:17<1:48:34,  2.09it/s]"
     ]
    },
    {
     "name": "stdout",
     "output_type": "stream",
     "text": [
      "Episode: 1400; Score: 4; Avg_score: 3.24; Timesteps: 15994; Learning Steps: 799; Reached: 95\n",
      "Saving Models\n"
     ]
    },
    {
     "name": "stderr",
     "output_type": "stream",
     "text": [
      " 10%|███████▌                                                                   | 1501/15000 [18:00<1:48:41,  2.07it/s]"
     ]
    },
    {
     "name": "stdout",
     "output_type": "stream",
     "text": [
      "Episode: 1500; Score: 5; Avg_score: 3.92; Timesteps: 16647; Learning Steps: 832; Reached: 95\n",
      "Saving Models\n"
     ]
    },
    {
     "name": "stderr",
     "output_type": "stream",
     "text": [
      " 11%|████████                                                                   | 1601/15000 [18:42<1:03:13,  3.53it/s]"
     ]
    },
    {
     "name": "stdout",
     "output_type": "stream",
     "text": [
      "Episode: 1600; Score: 6; Avg_score: 4.02; Timesteps: 17279; Learning Steps: 863; Reached: 94\n",
      "Saving Models\n"
     ]
    },
    {
     "name": "stderr",
     "output_type": "stream",
     "text": [
      " 11%|████████▌                                                                  | 1701/15000 [19:21<2:07:24,  1.74it/s]"
     ]
    },
    {
     "name": "stdout",
     "output_type": "stream",
     "text": [
      "Episode: 1700; Score: 3; Avg_score: 4.71; Timesteps: 17864; Learning Steps: 893; Reached: 96\n",
      "Saving Models\n"
     ]
    },
    {
     "name": "stderr",
     "output_type": "stream",
     "text": [
      " 12%|█████████                                                                  | 1801/15000 [20:03<1:21:13,  2.71it/s]"
     ]
    },
    {
     "name": "stdout",
     "output_type": "stream",
     "text": [
      "Episode: 1800; Score: 9; Avg_score: 3.85; Timesteps: 18513; Learning Steps: 925; Reached: 94\n",
      "Saving Models\n"
     ]
    },
    {
     "name": "stderr",
     "output_type": "stream",
     "text": [
      " 13%|█████████▌                                                                 | 1901/15000 [20:43<1:32:41,  2.36it/s]"
     ]
    },
    {
     "name": "stdout",
     "output_type": "stream",
     "text": [
      "Episode: 1900; Score: 7; Avg_score: 4.86; Timesteps: 19105; Learning Steps: 955; Reached: 98\n",
      "Saving Models\n"
     ]
    },
    {
     "name": "stderr",
     "output_type": "stream",
     "text": [
      " 13%|██████████                                                                 | 2001/15000 [21:23<2:06:07,  1.72it/s]"
     ]
    },
    {
     "name": "stdout",
     "output_type": "stream",
     "text": [
      "Episode: 2000; Score: 4; Avg_score: 4.92; Timesteps: 19702; Learning Steps: 985; Reached: 99\n",
      "Saving Models\n"
     ]
    },
    {
     "name": "stderr",
     "output_type": "stream",
     "text": [
      " 14%|██████████▌                                                                | 2101/15000 [22:04<1:23:51,  2.56it/s]"
     ]
    },
    {
     "name": "stdout",
     "output_type": "stream",
     "text": [
      "Episode: 2100; Score: 4; Avg_score: 3.14; Timesteps: 20334; Learning Steps: 1016; Reached: 86\n"
     ]
    },
    {
     "name": "stderr",
     "output_type": "stream",
     "text": [
      " 15%|███████████                                                                | 2201/15000 [22:42<1:12:15,  2.95it/s]"
     ]
    },
    {
     "name": "stdout",
     "output_type": "stream",
     "text": [
      "Episode: 2200; Score: 9; Avg_score: 4.63; Timesteps: 20916; Learning Steps: 1045; Reached: 95\n",
      "Saving Models\n"
     ]
    },
    {
     "name": "stderr",
     "output_type": "stream",
     "text": [
      " 15%|███████████▌                                                               | 2303/15000 [23:23<1:09:47,  3.03it/s]"
     ]
    },
    {
     "name": "stdout",
     "output_type": "stream",
     "text": [
      "Episode: 2300; Score: 4; Avg_score: 3.96; Timesteps: 21532; Learning Steps: 1076; Reached: 92\n",
      "Saving Models\n"
     ]
    },
    {
     "name": "stderr",
     "output_type": "stream",
     "text": [
      " 16%|████████████                                                               | 2401/15000 [24:08<1:32:43,  2.26it/s]"
     ]
    },
    {
     "name": "stdout",
     "output_type": "stream",
     "text": [
      "Episode: 2400; Score: 3; Avg_score: 1.06; Timesteps: 22218; Learning Steps: 1110; Reached: 72\n"
     ]
    },
    {
     "name": "stderr",
     "output_type": "stream",
     "text": [
      " 17%|████████████▌                                                              | 2501/15000 [24:57<1:25:42,  2.43it/s]"
     ]
    },
    {
     "name": "stdout",
     "output_type": "stream",
     "text": [
      "Episode: 2500; Score: 3; Avg_score: 1.48; Timesteps: 22939; Learning Steps: 1146; Reached: 79\n"
     ]
    },
    {
     "name": "stderr",
     "output_type": "stream",
     "text": [
      " 17%|█████████████                                                              | 2601/15000 [25:41<1:14:03,  2.79it/s]"
     ]
    },
    {
     "name": "stdout",
     "output_type": "stream",
     "text": [
      "Episode: 2600; Score: 5; Avg_score: -0.67; Timesteps: 23578; Learning Steps: 1178; Reached: 52\n"
     ]
    },
    {
     "name": "stderr",
     "output_type": "stream",
     "text": [
      " 18%|█████████████▌                                                             | 2702/15000 [26:25<1:30:23,  2.27it/s]"
     ]
    },
    {
     "name": "stdout",
     "output_type": "stream",
     "text": [
      "Episode: 2700; Score: 4; Avg_score: -1.52; Timesteps: 24203; Learning Steps: 1210; Reached: 43\n"
     ]
    },
    {
     "name": "stderr",
     "output_type": "stream",
     "text": [
      " 19%|██████████████                                                             | 2802/15000 [27:09<1:09:21,  2.93it/s]"
     ]
    },
    {
     "name": "stdout",
     "output_type": "stream",
     "text": [
      "Episode: 2800; Score: 10; Avg_score: -0.66; Timesteps: 24852; Learning Steps: 1242; Reached: 53\n"
     ]
    },
    {
     "name": "stderr",
     "output_type": "stream",
     "text": [
      " 19%|██████████████▌                                                            | 2901/15000 [27:53<1:12:19,  2.79it/s]"
     ]
    },
    {
     "name": "stdout",
     "output_type": "stream",
     "text": [
      "Episode: 2900; Score: -7; Avg_score: -1.28; Timesteps: 25497; Learning Steps: 1274; Reached: 47\n"
     ]
    },
    {
     "name": "stderr",
     "output_type": "stream",
     "text": [
      " 20%|███████████████▍                                                             | 3002/15000 [28:38<54:35,  3.66it/s]"
     ]
    },
    {
     "name": "stdout",
     "output_type": "stream",
     "text": [
      "Episode: 3000; Score: 5; Avg_score: -4.01; Timesteps: 26151; Learning Steps: 1307; Reached: 23\n"
     ]
    },
    {
     "name": "stderr",
     "output_type": "stream",
     "text": [
      " 21%|███████████████▌                                                           | 3102/15000 [29:16<1:01:30,  3.22it/s]"
     ]
    },
    {
     "name": "stdout",
     "output_type": "stream",
     "text": [
      "Episode: 3100; Score: -6; Avg_score: -3.52; Timesteps: 26701; Learning Steps: 1335; Reached: 18\n"
     ]
    },
    {
     "name": "stderr",
     "output_type": "stream",
     "text": [
      " 21%|████████████████                                                           | 3201/15000 [29:55<1:04:53,  3.03it/s]"
     ]
    },
    {
     "name": "stdout",
     "output_type": "stream",
     "text": [
      "Episode: 3200; Score: -6; Avg_score: -3.66; Timesteps: 27276; Learning Steps: 1363; Reached: 19\n"
     ]
    },
    {
     "name": "stderr",
     "output_type": "stream",
     "text": [
      " 22%|████████████████▌                                                          | 3302/15000 [30:35<1:07:01,  2.91it/s]"
     ]
    },
    {
     "name": "stdout",
     "output_type": "stream",
     "text": [
      "Episode: 3300; Score: 5; Avg_score: -2.96; Timesteps: 27847; Learning Steps: 1392; Reached: 25\n"
     ]
    },
    {
     "name": "stderr",
     "output_type": "stream",
     "text": [
      " 23%|█████████████████▍                                                           | 3402/15000 [31:14<48:42,  3.97it/s]"
     ]
    },
    {
     "name": "stdout",
     "output_type": "stream",
     "text": [
      "Episode: 3400; Score: -6; Avg_score: -2.35; Timesteps: 28412; Learning Steps: 1420; Reached: 30\n"
     ]
    },
    {
     "name": "stderr",
     "output_type": "stream",
     "text": [
      " 23%|█████████████████▌                                                         | 3502/15000 [31:52<1:04:27,  2.97it/s]"
     ]
    },
    {
     "name": "stdout",
     "output_type": "stream",
     "text": [
      "Episode: 3500; Score: -6; Avg_score: -0.7; Timesteps: 28966; Learning Steps: 1448; Reached: 44\n"
     ]
    },
    {
     "name": "stderr",
     "output_type": "stream",
     "text": [
      " 24%|██████████████████▍                                                          | 3601/15000 [32:28<59:03,  3.22it/s]"
     ]
    },
    {
     "name": "stdout",
     "output_type": "stream",
     "text": [
      "Episode: 3600; Score: 5; Avg_score: 1.53; Timesteps: 29495; Learning Steps: 1474; Reached: 62\n"
     ]
    },
    {
     "name": "stderr",
     "output_type": "stream",
     "text": [
      " 25%|███████████████████                                                          | 3702/15000 [33:04<49:21,  3.82it/s]"
     ]
    },
    {
     "name": "stdout",
     "output_type": "stream",
     "text": [
      "Episode: 3700; Score: 5; Avg_score: 2.04; Timesteps: 30006; Learning Steps: 1500; Reached: 65\n"
     ]
    },
    {
     "name": "stderr",
     "output_type": "stream",
     "text": [
      " 25%|███████████████████▌                                                         | 3802/15000 [33:41<51:01,  3.66it/s]"
     ]
    },
    {
     "name": "stdout",
     "output_type": "stream",
     "text": [
      "Episode: 3800; Score: 5; Avg_score: 2.67; Timesteps: 30553; Learning Steps: 1527; Reached: 74\n"
     ]
    },
    {
     "name": "stderr",
     "output_type": "stream",
     "text": [
      " 26%|████████████████████                                                         | 3901/15000 [34:17<56:19,  3.28it/s]"
     ]
    },
    {
     "name": "stdout",
     "output_type": "stream",
     "text": [
      "Episode: 3900; Score: -6; Avg_score: 2.59; Timesteps: 31075; Learning Steps: 1553; Reached: 71\n"
     ]
    },
    {
     "name": "stderr",
     "output_type": "stream",
     "text": [
      " 27%|████████████████████                                                       | 4002/15000 [34:54<1:01:44,  2.97it/s]"
     ]
    },
    {
     "name": "stdout",
     "output_type": "stream",
     "text": [
      "Episode: 4000; Score: 5; Avg_score: 2.28; Timesteps: 31606; Learning Steps: 1580; Reached: 69\n"
     ]
    },
    {
     "name": "stderr",
     "output_type": "stream",
     "text": [
      " 27%|█████████████████████                                                        | 4102/15000 [35:31<59:53,  3.03it/s]"
     ]
    },
    {
     "name": "stdout",
     "output_type": "stream",
     "text": [
      "Episode: 4100; Score: 5; Avg_score: 0.74; Timesteps: 32148; Learning Steps: 1607; Reached: 56\n"
     ]
    },
    {
     "name": "stderr",
     "output_type": "stream",
     "text": [
      " 28%|█████████████████████                                                      | 4201/15000 [36:09<1:00:04,  3.00it/s]"
     ]
    },
    {
     "name": "stdout",
     "output_type": "stream",
     "text": [
      "Episode: 4200; Score: 5; Avg_score: 1.64; Timesteps: 32699; Learning Steps: 1634; Reached: 65\n"
     ]
    },
    {
     "name": "stderr",
     "output_type": "stream",
     "text": [
      " 29%|█████████████████████▌                                                     | 4302/15000 [36:47<1:13:36,  2.42it/s]"
     ]
    },
    {
     "name": "stdout",
     "output_type": "stream",
     "text": [
      "Episode: 4300; Score: 8; Avg_score: 1.78; Timesteps: 33247; Learning Steps: 1662; Reached: 66\n"
     ]
    },
    {
     "name": "stderr",
     "output_type": "stream",
     "text": [
      " 29%|██████████████████████▌                                                      | 4402/15000 [37:22<43:19,  4.08it/s]"
     ]
    },
    {
     "name": "stdout",
     "output_type": "stream",
     "text": [
      "Episode: 4400; Score: 6; Avg_score: 3.85; Timesteps: 33753; Learning Steps: 1687; Reached: 81\n"
     ]
    },
    {
     "name": "stderr",
     "output_type": "stream",
     "text": [
      " 30%|███████████████████████                                                      | 4501/15000 [37:57<44:14,  3.96it/s]"
     ]
    },
    {
     "name": "stdout",
     "output_type": "stream",
     "text": [
      "Episode: 4500; Score: 5; Avg_score: 4.09; Timesteps: 34279; Learning Steps: 1713; Reached: 85\n"
     ]
    },
    {
     "name": "stderr",
     "output_type": "stream",
     "text": [
      " 31%|███████████████████████▌                                                     | 4601/15000 [38:35<34:47,  4.98it/s]"
     ]
    },
    {
     "name": "stdout",
     "output_type": "stream",
     "text": [
      "Episode: 4600; Score: 5; Avg_score: 3.09; Timesteps: 34817; Learning Steps: 1740; Reached: 77\n"
     ]
    },
    {
     "name": "stderr",
     "output_type": "stream",
     "text": [
      " 31%|████████████████████████▏                                                    | 4702/15000 [39:13<55:04,  3.12it/s]"
     ]
    },
    {
     "name": "stdout",
     "output_type": "stream",
     "text": [
      "Episode: 4700; Score: 6; Avg_score: 1.8; Timesteps: 35363; Learning Steps: 1768; Reached: 66\n"
     ]
    },
    {
     "name": "stderr",
     "output_type": "stream",
     "text": [
      " 32%|████████████████████████▋                                                    | 4801/15000 [39:48<42:08,  4.03it/s]"
     ]
    },
    {
     "name": "stdout",
     "output_type": "stream",
     "text": [
      "Episode: 4800; Score: 6; Avg_score: 3.21; Timesteps: 35878; Learning Steps: 1793; Reached: 76\n"
     ]
    },
    {
     "name": "stderr",
     "output_type": "stream",
     "text": [
      " 33%|█████████████████████████▏                                                   | 4902/15000 [40:23<55:27,  3.03it/s]"
     ]
    },
    {
     "name": "stdout",
     "output_type": "stream",
     "text": [
      "Episode: 4900; Score: 8; Avg_score: 3.91; Timesteps: 36389; Learning Steps: 1819; Reached: 82\n"
     ]
    },
    {
     "name": "stderr",
     "output_type": "stream",
     "text": [
      " 33%|█████████████████████████                                                  | 5002/15000 [41:02<1:07:04,  2.48it/s]"
     ]
    },
    {
     "name": "stdout",
     "output_type": "stream",
     "text": [
      "Episode: 5000; Score: 8; Avg_score: 0.53; Timesteps: 36941; Learning Steps: 1847; Reached: 55\n"
     ]
    },
    {
     "name": "stderr",
     "output_type": "stream",
     "text": [
      " 34%|██████████████████████████▏                                                  | 5101/15000 [41:39<51:29,  3.20it/s]"
     ]
    },
    {
     "name": "stdout",
     "output_type": "stream",
     "text": [
      "Episode: 5100; Score: 5; Avg_score: 1.16; Timesteps: 37496; Learning Steps: 1874; Reached: 61\n"
     ]
    },
    {
     "name": "stderr",
     "output_type": "stream",
     "text": [
      " 35%|██████████████████████████                                                 | 5202/15000 [42:16<1:07:32,  2.42it/s]"
     ]
    },
    {
     "name": "stdout",
     "output_type": "stream",
     "text": [
      "Episode: 5200; Score: -6; Avg_score: 4.09; Timesteps: 38022; Learning Steps: 1901; Reached: 85\n"
     ]
    },
    {
     "name": "stderr",
     "output_type": "stream",
     "text": [
      " 35%|██████████████████████████▌                                                | 5302/15000 [42:52<1:04:24,  2.51it/s]"
     ]
    },
    {
     "name": "stdout",
     "output_type": "stream",
     "text": [
      "Episode: 5300; Score: 5; Avg_score: 3.38; Timesteps: 38542; Learning Steps: 1927; Reached: 78\n"
     ]
    },
    {
     "name": "stderr",
     "output_type": "stream",
     "text": [
      " 36%|███████████████████████████▋                                                 | 5402/15000 [43:26<32:54,  4.86it/s]"
     ]
    },
    {
     "name": "stdout",
     "output_type": "stream",
     "text": [
      "Episode: 5400; Score: -6; Avg_score: 4.45; Timesteps: 39032; Learning Steps: 1951; Reached: 85\n"
     ]
    },
    {
     "name": "stderr",
     "output_type": "stream",
     "text": [
      " 37%|████████████████████████████▏                                                | 5501/15000 [43:59<39:55,  3.96it/s]"
     ]
    },
    {
     "name": "stdout",
     "output_type": "stream",
     "text": [
      "Episode: 5500; Score: 5; Avg_score: 4.48; Timesteps: 39519; Learning Steps: 1975; Reached: 85\n"
     ]
    },
    {
     "name": "stderr",
     "output_type": "stream",
     "text": [
      " 37%|████████████████████████████▊                                                | 5601/15000 [44:34<47:52,  3.27it/s]"
     ]
    },
    {
     "name": "stdout",
     "output_type": "stream",
     "text": [
      "Episode: 5600; Score: 6; Avg_score: 3.96; Timesteps: 40036; Learning Steps: 2001; Reached: 83\n"
     ]
    },
    {
     "name": "stderr",
     "output_type": "stream",
     "text": [
      " 38%|████████████████████████████▌                                              | 5702/15000 [45:11<1:06:59,  2.31it/s]"
     ]
    },
    {
     "name": "stdout",
     "output_type": "stream",
     "text": [
      "Episode: 5700; Score: -6; Avg_score: 4.21; Timesteps: 40561; Learning Steps: 2028; Reached: 86\n"
     ]
    },
    {
     "name": "stderr",
     "output_type": "stream",
     "text": [
      " 39%|█████████████████████████████                                              | 5803/15000 [45:49<1:03:23,  2.42it/s]"
     ]
    },
    {
     "name": "stdout",
     "output_type": "stream",
     "text": [
      "Episode: 5800; Score: -6; Avg_score: 1.85; Timesteps: 41102; Learning Steps: 2055; Reached: 66\n"
     ]
    },
    {
     "name": "stderr",
     "output_type": "stream",
     "text": [
      " 39%|██████████████████████████████▎                                              | 5901/15000 [46:23<51:27,  2.95it/s]"
     ]
    },
    {
     "name": "stdout",
     "output_type": "stream",
     "text": [
      "Episode: 5900; Score: 6; Avg_score: 5.01; Timesteps: 41613; Learning Steps: 2080; Reached: 92\n",
      "Saving Models\n"
     ]
    },
    {
     "name": "stderr",
     "output_type": "stream",
     "text": [
      " 40%|██████████████████████████████▊                                              | 6002/15000 [47:00<55:51,  2.69it/s]"
     ]
    },
    {
     "name": "stdout",
     "output_type": "stream",
     "text": [
      "Episode: 6000; Score: 9; Avg_score: 4.38; Timesteps: 42121; Learning Steps: 2106; Reached: 86\n"
     ]
    },
    {
     "name": "stderr",
     "output_type": "stream",
     "text": [
      " 41%|███████████████████████████████▎                                             | 6102/15000 [47:37<50:27,  2.94it/s]"
     ]
    },
    {
     "name": "stdout",
     "output_type": "stream",
     "text": [
      "Episode: 6100; Score: 5; Avg_score: 2.32; Timesteps: 42648; Learning Steps: 2132; Reached: 69\n"
     ]
    },
    {
     "name": "stderr",
     "output_type": "stream",
     "text": [
      " 41%|███████████████████████████████▊                                             | 6202/15000 [48:16<59:17,  2.47it/s]"
     ]
    },
    {
     "name": "stdout",
     "output_type": "stream",
     "text": [
      "Episode: 6200; Score: 5; Avg_score: 2.35; Timesteps: 43205; Learning Steps: 2160; Reached: 72\n"
     ]
    },
    {
     "name": "stderr",
     "output_type": "stream",
     "text": [
      " 42%|████████████████████████████████▎                                            | 6301/15000 [48:53<36:24,  3.98it/s]"
     ]
    },
    {
     "name": "stdout",
     "output_type": "stream",
     "text": [
      "Episode: 6300; Score: 6; Avg_score: 3.02; Timesteps: 43739; Learning Steps: 2186; Reached: 76\n"
     ]
    },
    {
     "name": "stderr",
     "output_type": "stream",
     "text": [
      " 43%|████████████████████████████████▊                                            | 6401/15000 [49:32<39:38,  3.62it/s]"
     ]
    },
    {
     "name": "stdout",
     "output_type": "stream",
     "text": [
      "Episode: 6400; Score: -6; Avg_score: 2.0; Timesteps: 44298; Learning Steps: 2214; Reached: 69\n"
     ]
    },
    {
     "name": "stderr",
     "output_type": "stream",
     "text": [
      " 43%|█████████████████████████████████▍                                           | 6502/15000 [50:10<45:54,  3.08it/s]"
     ]
    },
    {
     "name": "stdout",
     "output_type": "stream",
     "text": [
      "Episode: 6500; Score: 5; Avg_score: 2.82; Timesteps: 44830; Learning Steps: 2241; Reached: 74\n"
     ]
    },
    {
     "name": "stderr",
     "output_type": "stream",
     "text": [
      " 44%|█████████████████████████████████▉                                           | 6602/15000 [50:47<43:26,  3.22it/s]"
     ]
    },
    {
     "name": "stdout",
     "output_type": "stream",
     "text": [
      "Episode: 6600; Score: 5; Avg_score: 2.61; Timesteps: 45350; Learning Steps: 2267; Reached: 71\n"
     ]
    },
    {
     "name": "stderr",
     "output_type": "stream",
     "text": [
      " 45%|██████████████████████████████████▍                                          | 6701/15000 [51:23<34:44,  3.98it/s]"
     ]
    },
    {
     "name": "stdout",
     "output_type": "stream",
     "text": [
      "Episode: 6700; Score: 5; Avg_score: 2.31; Timesteps: 45878; Learning Steps: 2293; Reached: 69\n"
     ]
    },
    {
     "name": "stderr",
     "output_type": "stream",
     "text": [
      " 45%|██████████████████████████████████▉                                          | 6802/15000 [51:58<42:57,  3.18it/s]"
     ]
    },
    {
     "name": "stdout",
     "output_type": "stream",
     "text": [
      "Episode: 6800; Score: -6; Avg_score: 4.0; Timesteps: 46369; Learning Steps: 2318; Reached: 81\n"
     ]
    },
    {
     "name": "stderr",
     "output_type": "stream",
     "text": [
      " 46%|███████████████████████████████████▍                                         | 6902/15000 [52:37<45:03,  3.00it/s]"
     ]
    },
    {
     "name": "stdout",
     "output_type": "stream",
     "text": [
      "Episode: 6900; Score: -6; Avg_score: 2.98; Timesteps: 46907; Learning Steps: 2345; Reached: 76\n"
     ]
    },
    {
     "name": "stderr",
     "output_type": "stream",
     "text": [
      " 47%|███████████████████████████████████▉                                         | 7002/15000 [53:16<32:16,  4.13it/s]"
     ]
    },
    {
     "name": "stdout",
     "output_type": "stream",
     "text": [
      "Episode: 7000; Score: 5; Avg_score: 0.84; Timesteps: 47472; Learning Steps: 2373; Reached: 59\n"
     ]
    },
    {
     "name": "stderr",
     "output_type": "stream",
     "text": [
      " 47%|████████████████████████████████████▍                                        | 7102/15000 [53:54<44:55,  2.93it/s]"
     ]
    },
    {
     "name": "stdout",
     "output_type": "stream",
     "text": [
      "Episode: 7100; Score: 5; Avg_score: 2.22; Timesteps: 48009; Learning Steps: 2400; Reached: 69\n"
     ]
    },
    {
     "name": "stderr",
     "output_type": "stream",
     "text": [
      " 48%|████████████████████████████████████                                       | 7201/15000 [54:34<1:13:35,  1.77it/s]"
     ]
    },
    {
     "name": "stdout",
     "output_type": "stream",
     "text": [
      "Episode: 7200; Score: -6; Avg_score: 0.54; Timesteps: 48560; Learning Steps: 2428; Reached: 55\n"
     ]
    },
    {
     "name": "stderr",
     "output_type": "stream",
     "text": [
      " 49%|█████████████████████████████████████▍                                       | 7301/15000 [55:12<29:31,  4.35it/s]"
     ]
    },
    {
     "name": "stdout",
     "output_type": "stream",
     "text": [
      "Episode: 7300; Score: -6; Avg_score: 1.35; Timesteps: 49118; Learning Steps: 2455; Reached: 63\n"
     ]
    },
    {
     "name": "stderr",
     "output_type": "stream",
     "text": [
      " 49%|█████████████████████████████████████▉                                       | 7401/15000 [55:52<35:03,  3.61it/s]"
     ]
    },
    {
     "name": "stdout",
     "output_type": "stream",
     "text": [
      "Episode: 7400; Score: -6; Avg_score: -0.22; Timesteps: 49679; Learning Steps: 2483; Reached: 49\n"
     ]
    },
    {
     "name": "stderr",
     "output_type": "stream",
     "text": [
      " 50%|██████████████████████████████████████▌                                      | 7502/15000 [56:32<48:50,  2.56it/s]"
     ]
    },
    {
     "name": "stdout",
     "output_type": "stream",
     "text": [
      "Episode: 7500; Score: 8; Avg_score: 0.77; Timesteps: 50240; Learning Steps: 2512; Reached: 58\n"
     ]
    },
    {
     "name": "stderr",
     "output_type": "stream",
     "text": [
      " 51%|███████████████████████████████████████                                      | 7601/15000 [57:10<42:05,  2.93it/s]"
     ]
    },
    {
     "name": "stdout",
     "output_type": "stream",
     "text": [
      "Episode: 7600; Score: -6; Avg_score: 1.36; Timesteps: 50797; Learning Steps: 2539; Reached: 63\n"
     ]
    },
    {
     "name": "stderr",
     "output_type": "stream",
     "text": [
      " 51%|███████████████████████████████████████▌                                     | 7701/15000 [57:46<36:49,  3.30it/s]"
     ]
    },
    {
     "name": "stdout",
     "output_type": "stream",
     "text": [
      "Episode: 7700; Score: 5; Avg_score: 4.34; Timesteps: 51298; Learning Steps: 2564; Reached: 85\n"
     ]
    },
    {
     "name": "stderr",
     "output_type": "stream",
     "text": [
      " 52%|████████████████████████████████████████                                     | 7801/15000 [58:21<40:15,  2.98it/s]"
     ]
    },
    {
     "name": "stdout",
     "output_type": "stream",
     "text": [
      "Episode: 7800; Score: 5; Avg_score: 5.25; Timesteps: 51796; Learning Steps: 2589; Reached: 93\n",
      "Saving Models\n"
     ]
    },
    {
     "name": "stderr",
     "output_type": "stream",
     "text": [
      " 53%|████████████████████████████████████████▌                                    | 7903/15000 [58:57<44:32,  2.66it/s]"
     ]
    },
    {
     "name": "stdout",
     "output_type": "stream",
     "text": [
      "Episode: 7900; Score: 10; Avg_score: 4.42; Timesteps: 52300; Learning Steps: 2615; Reached: 86\n"
     ]
    },
    {
     "name": "stderr",
     "output_type": "stream",
     "text": [
      " 53%|█████████████████████████████████████████                                    | 8001/15000 [59:30<45:49,  2.55it/s]"
     ]
    },
    {
     "name": "stdout",
     "output_type": "stream",
     "text": [
      "Episode: 8000; Score: 6; Avg_score: 5.75; Timesteps: 52792; Learning Steps: 2639; Reached: 97\n",
      "Saving Models\n"
     ]
    },
    {
     "name": "stderr",
     "output_type": "stream",
     "text": [
      " 54%|████████████████████████████████████████▌                                  | 8101/15000 [1:00:05<46:39,  2.46it/s]"
     ]
    },
    {
     "name": "stdout",
     "output_type": "stream",
     "text": [
      "Episode: 8100; Score: 6; Avg_score: 5.48; Timesteps: 53289; Learning Steps: 2664; Reached: 95\n",
      "Saving Models\n"
     ]
    },
    {
     "name": "stderr",
     "output_type": "stream",
     "text": [
      " 55%|█████████████████████████████████████████                                  | 8202/15000 [1:00:42<26:08,  4.34it/s]"
     ]
    },
    {
     "name": "stdout",
     "output_type": "stream",
     "text": [
      "Episode: 8200; Score: 5; Avg_score: 3.85; Timesteps: 53806; Learning Steps: 2690; Reached: 82\n"
     ]
    },
    {
     "name": "stderr",
     "output_type": "stream",
     "text": [
      " 55%|█████████████████████████████████████████▌                                 | 8302/15000 [1:01:18<42:34,  2.62it/s]"
     ]
    },
    {
     "name": "stdout",
     "output_type": "stream",
     "text": [
      "Episode: 8300; Score: 6; Avg_score: 3.3; Timesteps: 54323; Learning Steps: 2716; Reached: 77\n"
     ]
    },
    {
     "name": "stderr",
     "output_type": "stream",
     "text": [
      " 56%|██████████████████████████████████████████                                 | 8402/15000 [1:01:56<46:56,  2.34it/s]"
     ]
    },
    {
     "name": "stdout",
     "output_type": "stream",
     "text": [
      "Episode: 8400; Score: -6; Avg_score: 2.3; Timesteps: 54863; Learning Steps: 2743; Reached: 70\n"
     ]
    },
    {
     "name": "stderr",
     "output_type": "stream",
     "text": [
      " 57%|██████████████████████████████████████████▌                                | 8501/15000 [1:02:34<36:27,  2.97it/s]"
     ]
    },
    {
     "name": "stdout",
     "output_type": "stream",
     "text": [
      "Episode: 8500; Score: 5; Avg_score: 2.08; Timesteps: 55414; Learning Steps: 2770; Reached: 69\n"
     ]
    },
    {
     "name": "stderr",
     "output_type": "stream",
     "text": [
      " 57%|███████████████████████████████████████████                                | 8602/15000 [1:03:14<29:06,  3.66it/s]"
     ]
    },
    {
     "name": "stdout",
     "output_type": "stream",
     "text": [
      "Episode: 8600; Score: -6; Avg_score: 1.78; Timesteps: 55962; Learning Steps: 2798; Reached: 66\n"
     ]
    },
    {
     "name": "stderr",
     "output_type": "stream",
     "text": [
      " 58%|███████████████████████████████████████████▌                               | 8702/15000 [1:03:51<33:36,  3.12it/s]"
     ]
    },
    {
     "name": "stdout",
     "output_type": "stream",
     "text": [
      "Episode: 8700; Score: 8; Avg_score: 2.97; Timesteps: 56490; Learning Steps: 2824; Reached: 75\n"
     ]
    },
    {
     "name": "stderr",
     "output_type": "stream",
     "text": [
      " 59%|████████████████████████████████████████████                               | 8802/15000 [1:04:28<33:05,  3.12it/s]"
     ]
    },
    {
     "name": "stdout",
     "output_type": "stream",
     "text": [
      "Episode: 8800; Score: 5; Avg_score: 3.71; Timesteps: 57010; Learning Steps: 2850; Reached: 81\n"
     ]
    },
    {
     "name": "stderr",
     "output_type": "stream",
     "text": [
      " 59%|████████████████████████████████████████████▌                              | 8902/15000 [1:05:04<38:38,  2.63it/s]"
     ]
    },
    {
     "name": "stdout",
     "output_type": "stream",
     "text": [
      "Episode: 8900; Score: 9; Avg_score: 3.09; Timesteps: 57526; Learning Steps: 2876; Reached: 75\n"
     ]
    },
    {
     "name": "stderr",
     "output_type": "stream",
     "text": [
      " 60%|█████████████████████████████████████████████                              | 9002/15000 [1:05:43<39:09,  2.55it/s]"
     ]
    },
    {
     "name": "stdout",
     "output_type": "stream",
     "text": [
      "Episode: 9000; Score: 6; Avg_score: 1.71; Timesteps: 58081; Learning Steps: 2904; Reached: 66\n"
     ]
    },
    {
     "name": "stderr",
     "output_type": "stream",
     "text": [
      " 61%|█████████████████████████████████████████████▌                             | 9102/15000 [1:06:21<41:49,  2.35it/s]"
     ]
    },
    {
     "name": "stdout",
     "output_type": "stream",
     "text": [
      "Episode: 9100; Score: 5; Avg_score: 2.29; Timesteps: 58622; Learning Steps: 2931; Reached: 70\n"
     ]
    },
    {
     "name": "stderr",
     "output_type": "stream",
     "text": [
      " 61%|██████████████████████████████████████████████                             | 9202/15000 [1:07:00<33:16,  2.90it/s]"
     ]
    },
    {
     "name": "stdout",
     "output_type": "stream",
     "text": [
      "Episode: 9200; Score: 5; Avg_score: 3.12; Timesteps: 59168; Learning Steps: 2958; Reached: 78\n"
     ]
    },
    {
     "name": "stderr",
     "output_type": "stream",
     "text": [
      " 62%|██████████████████████████████████████████████▌                            | 9301/15000 [1:07:38<34:00,  2.79it/s]"
     ]
    },
    {
     "name": "stdout",
     "output_type": "stream",
     "text": [
      "Episode: 9300; Score: 5; Avg_score: 3.3; Timesteps: 59707; Learning Steps: 2985; Reached: 79\n"
     ]
    },
    {
     "name": "stderr",
     "output_type": "stream",
     "text": [
      " 63%|███████████████████████████████████████████████                            | 9402/15000 [1:08:16<28:08,  3.31it/s]"
     ]
    },
    {
     "name": "stdout",
     "output_type": "stream",
     "text": [
      "Episode: 9400; Score: 5; Avg_score: 3.03; Timesteps: 60251; Learning Steps: 3012; Reached: 77\n"
     ]
    },
    {
     "name": "stderr",
     "output_type": "stream",
     "text": [
      " 63%|███████████████████████████████████████████████▌                           | 9502/15000 [1:08:52<26:27,  3.46it/s]"
     ]
    },
    {
     "name": "stdout",
     "output_type": "stream",
     "text": [
      "Episode: 9500; Score: 5; Avg_score: 3.97; Timesteps: 60767; Learning Steps: 3038; Reached: 83\n"
     ]
    },
    {
     "name": "stderr",
     "output_type": "stream",
     "text": [
      " 64%|████████████████████████████████████████████████                           | 9603/15000 [1:09:29<27:59,  3.21it/s]"
     ]
    },
    {
     "name": "stdout",
     "output_type": "stream",
     "text": [
      "Episode: 9600; Score: 5; Avg_score: 3.93; Timesteps: 61287; Learning Steps: 3064; Reached: 83\n"
     ]
    },
    {
     "name": "stderr",
     "output_type": "stream",
     "text": [
      " 65%|████████████████████████████████████████████████▌                          | 9701/15000 [1:10:03<38:25,  2.30it/s]"
     ]
    },
    {
     "name": "stdout",
     "output_type": "stream",
     "text": [
      "Episode: 9700; Score: 6; Avg_score: 5.96; Timesteps: 61769; Learning Steps: 3088; Reached: 98\n",
      "Saving Models\n"
     ]
    },
    {
     "name": "stderr",
     "output_type": "stream",
     "text": [
      " 65%|█████████████████████████████████████████████████                          | 9801/15000 [1:10:37<23:22,  3.71it/s]"
     ]
    },
    {
     "name": "stdout",
     "output_type": "stream",
     "text": [
      "Episode: 9800; Score: 6; Avg_score: 6.11; Timesteps: 62258; Learning Steps: 3112; Reached: 100\n",
      "Saving Models\n"
     ]
    },
    {
     "name": "stderr",
     "output_type": "stream",
     "text": [
      " 66%|█████████████████████████████████████████████████▌                         | 9902/15000 [1:11:11<31:23,  2.71it/s]"
     ]
    },
    {
     "name": "stdout",
     "output_type": "stream",
     "text": [
      "Episode: 9900; Score: 6; Avg_score: 5.84; Timesteps: 62741; Learning Steps: 3137; Reached: 97\n",
      "Saving Models\n"
     ]
    },
    {
     "name": "stderr",
     "output_type": "stream",
     "text": [
      " 67%|█████████████████████████████████████████████████▎                        | 10001/15000 [1:11:45<32:01,  2.60it/s]"
     ]
    },
    {
     "name": "stdout",
     "output_type": "stream",
     "text": [
      "Episode: 10000; Score: 6; Avg_score: 5.76; Timesteps: 63232; Learning Steps: 3161; Reached: 97\n",
      "Saving Models\n"
     ]
    },
    {
     "name": "stderr",
     "output_type": "stream",
     "text": [
      " 67%|█████████████████████████████████████████████████▊                        | 10101/15000 [1:12:20<46:26,  1.76it/s]"
     ]
    },
    {
     "name": "stdout",
     "output_type": "stream",
     "text": [
      "Episode: 10100; Score: 5; Avg_score: 5.79; Timesteps: 63720; Learning Steps: 3186; Reached: 97\n",
      "Saving Models\n"
     ]
    },
    {
     "name": "stderr",
     "output_type": "stream",
     "text": [
      " 68%|██████████████████████████████████████████████████▎                       | 10201/15000 [1:12:53<37:36,  2.13it/s]"
     ]
    },
    {
     "name": "stdout",
     "output_type": "stream",
     "text": [
      "Episode: 10200; Score: 6; Avg_score: 6.05; Timesteps: 64204; Learning Steps: 3210; Reached: 99\n",
      "Saving Models\n"
     ]
    },
    {
     "name": "stderr",
     "output_type": "stream",
     "text": [
      " 69%|██████████████████████████████████████████████████▊                       | 10302/15000 [1:13:26<32:26,  2.41it/s]"
     ]
    },
    {
     "name": "stdout",
     "output_type": "stream",
     "text": [
      "Episode: 10300; Score: 6; Avg_score: 6.09; Timesteps: 64684; Learning Steps: 3234; Reached: 99\n",
      "Saving Models\n"
     ]
    },
    {
     "name": "stderr",
     "output_type": "stream",
     "text": [
      " 69%|███████████████████████████████████████████████████▎                      | 10402/15000 [1:13:58<19:38,  3.90it/s]"
     ]
    },
    {
     "name": "stdout",
     "output_type": "stream",
     "text": [
      "Episode: 10400; Score: 6; Avg_score: 6.12; Timesteps: 65150; Learning Steps: 3257; Reached: 98\n",
      "Saving Models\n"
     ]
    },
    {
     "name": "stderr",
     "output_type": "stream",
     "text": [
      " 70%|███████████████████████████████████████████████████▊                      | 10501/15000 [1:14:31<19:22,  3.87it/s]"
     ]
    },
    {
     "name": "stdout",
     "output_type": "stream",
     "text": [
      "Episode: 10500; Score: 6; Avg_score: 5.46; Timesteps: 65638; Learning Steps: 3281; Reached: 94\n",
      "Saving Models\n"
     ]
    },
    {
     "name": "stderr",
     "output_type": "stream",
     "text": [
      " 71%|████████████████████████████████████████████████████▎                     | 10601/15000 [1:15:06<24:41,  2.97it/s]"
     ]
    },
    {
     "name": "stdout",
     "output_type": "stream",
     "text": [
      "Episode: 10600; Score: -6; Avg_score: 5.5; Timesteps: 66133; Learning Steps: 3306; Reached: 95\n",
      "Saving Models\n"
     ]
    },
    {
     "name": "stderr",
     "output_type": "stream",
     "text": [
      " 71%|████████████████████████████████████████████████████▊                     | 10702/15000 [1:15:41<21:02,  3.41it/s]"
     ]
    },
    {
     "name": "stdout",
     "output_type": "stream",
     "text": [
      "Episode: 10700; Score: 5; Avg_score: 6.02; Timesteps: 66631; Learning Steps: 3331; Reached: 100\n",
      "Saving Models\n"
     ]
    },
    {
     "name": "stderr",
     "output_type": "stream",
     "text": [
      " 72%|█████████████████████████████████████████████████████▎                    | 10801/15000 [1:16:14<34:17,  2.04it/s]"
     ]
    },
    {
     "name": "stdout",
     "output_type": "stream",
     "text": [
      "Episode: 10800; Score: 9; Avg_score: 6.3; Timesteps: 67101; Learning Steps: 3355; Reached: 100\n",
      "Saving Models\n"
     ]
    },
    {
     "name": "stderr",
     "output_type": "stream",
     "text": [
      " 73%|█████████████████████████████████████████████████████▊                    | 10902/15000 [1:16:47<18:38,  3.66it/s]"
     ]
    },
    {
     "name": "stdout",
     "output_type": "stream",
     "text": [
      "Episode: 10900; Score: 7; Avg_score: 5.99; Timesteps: 67591; Learning Steps: 3379; Reached: 99\n",
      "Saving Models\n"
     ]
    },
    {
     "name": "stderr",
     "output_type": "stream",
     "text": [
      " 73%|██████████████████████████████████████████████████████▎                   | 11001/15000 [1:17:21<19:15,  3.46it/s]"
     ]
    },
    {
     "name": "stdout",
     "output_type": "stream",
     "text": [
      "Episode: 11000; Score: 6; Avg_score: 5.8; Timesteps: 68078; Learning Steps: 3403; Reached: 97\n",
      "Saving Models\n"
     ]
    },
    {
     "name": "stderr",
     "output_type": "stream",
     "text": [
      " 74%|██████████████████████████████████████████████████████▊                   | 11101/15000 [1:17:54<17:34,  3.70it/s]"
     ]
    },
    {
     "name": "stdout",
     "output_type": "stream",
     "text": [
      "Episode: 11100; Score: 6; Avg_score: 5.97; Timesteps: 68559; Learning Steps: 3427; Reached: 98\n",
      "Saving Models\n"
     ]
    },
    {
     "name": "stderr",
     "output_type": "stream",
     "text": [
      " 75%|███████████████████████████████████████████████████████▎                  | 11201/15000 [1:18:28<14:29,  4.37it/s]"
     ]
    },
    {
     "name": "stdout",
     "output_type": "stream",
     "text": [
      "Episode: 11200; Score: 7; Avg_score: 5.44; Timesteps: 69038; Learning Steps: 3451; Reached: 93\n",
      "Saving Models\n"
     ]
    },
    {
     "name": "stderr",
     "output_type": "stream",
     "text": [
      " 75%|███████████████████████████████████████████████████████▊                  | 11301/15000 [1:19:02<18:22,  3.35it/s]"
     ]
    },
    {
     "name": "stdout",
     "output_type": "stream",
     "text": [
      "Episode: 11300; Score: 9; Avg_score: 5.67; Timesteps: 69516; Learning Steps: 3475; Reached: 95\n",
      "Saving Models\n"
     ]
    },
    {
     "name": "stderr",
     "output_type": "stream",
     "text": [
      " 76%|████████████████████████████████████████████████████████▎                 | 11403/15000 [1:19:36<15:38,  3.83it/s]"
     ]
    },
    {
     "name": "stdout",
     "output_type": "stream",
     "text": [
      "Episode: 11400; Score: 6; Avg_score: 5.7; Timesteps: 69991; Learning Steps: 3499; Reached: 95\n",
      "Saving Models\n"
     ]
    },
    {
     "name": "stderr",
     "output_type": "stream",
     "text": [
      " 77%|████████████████████████████████████████████████████████▋                 | 11502/15000 [1:20:09<18:41,  3.12it/s]"
     ]
    },
    {
     "name": "stdout",
     "output_type": "stream",
     "text": [
      "Episode: 11500; Score: 5; Avg_score: 5.89; Timesteps: 70469; Learning Steps: 3523; Reached: 97\n",
      "Saving Models\n"
     ]
    },
    {
     "name": "stderr",
     "output_type": "stream",
     "text": [
      " 77%|█████████████████████████████████████████████████████████▏                | 11602/15000 [1:20:45<24:29,  2.31it/s]"
     ]
    },
    {
     "name": "stdout",
     "output_type": "stream",
     "text": [
      "Episode: 11600; Score: 6; Avg_score: 5.54; Timesteps: 70960; Learning Steps: 3548; Reached: 95\n",
      "Saving Models\n"
     ]
    },
    {
     "name": "stderr",
     "output_type": "stream",
     "text": [
      " 78%|█████████████████████████████████████████████████████████▋                | 11702/15000 [1:21:19<14:05,  3.90it/s]"
     ]
    },
    {
     "name": "stdout",
     "output_type": "stream",
     "text": [
      "Episode: 11700; Score: 10; Avg_score: 5.97; Timesteps: 71452; Learning Steps: 3572; Reached: 99\n",
      "Saving Models\n"
     ]
    },
    {
     "name": "stderr",
     "output_type": "stream",
     "text": [
      " 79%|██████████████████████████████████████████████████████████▏               | 11801/15000 [1:21:53<21:19,  2.50it/s]"
     ]
    },
    {
     "name": "stdout",
     "output_type": "stream",
     "text": [
      "Episode: 11800; Score: 5; Avg_score: 6.06; Timesteps: 71946; Learning Steps: 3597; Reached: 100\n",
      "Saving Models\n"
     ]
    },
    {
     "name": "stderr",
     "output_type": "stream",
     "text": [
      " 79%|██████████████████████████████████████████████████████████▋               | 11902/15000 [1:22:28<21:51,  2.36it/s]"
     ]
    },
    {
     "name": "stdout",
     "output_type": "stream",
     "text": [
      "Episode: 11900; Score: 6; Avg_score: 5.84; Timesteps: 72440; Learning Steps: 3622; Reached: 98\n",
      "Saving Models\n"
     ]
    },
    {
     "name": "stderr",
     "output_type": "stream",
     "text": [
      " 80%|███████████████████████████████████████████████████████████▏              | 12001/15000 [1:23:01<14:55,  3.35it/s]"
     ]
    },
    {
     "name": "stdout",
     "output_type": "stream",
     "text": [
      "Episode: 12000; Score: 6; Avg_score: 6.11; Timesteps: 72918; Learning Steps: 3645; Reached: 99\n",
      "Saving Models\n"
     ]
    },
    {
     "name": "stderr",
     "output_type": "stream",
     "text": [
      " 81%|███████████████████████████████████████████████████████████▋              | 12101/15000 [1:23:35<11:46,  4.10it/s]"
     ]
    },
    {
     "name": "stdout",
     "output_type": "stream",
     "text": [
      "Episode: 12100; Score: 6; Avg_score: 5.76; Timesteps: 73398; Learning Steps: 3669; Reached: 96\n",
      "Saving Models\n"
     ]
    },
    {
     "name": "stderr",
     "output_type": "stream",
     "text": [
      " 81%|████████████████████████████████████████████████████████████▏             | 12201/15000 [1:24:10<12:46,  3.65it/s]"
     ]
    },
    {
     "name": "stdout",
     "output_type": "stream",
     "text": [
      "Episode: 12200; Score: 5; Avg_score: 5.57; Timesteps: 73897; Learning Steps: 3694; Reached: 96\n",
      "Saving Models\n"
     ]
    },
    {
     "name": "stderr",
     "output_type": "stream",
     "text": [
      " 82%|████████████████████████████████████████████████████████████▋             | 12303/15000 [1:24:45<17:29,  2.57it/s]"
     ]
    },
    {
     "name": "stdout",
     "output_type": "stream",
     "text": [
      "Episode: 12300; Score: 5; Avg_score: 6.12; Timesteps: 74385; Learning Steps: 3719; Reached: 100\n",
      "Saving Models\n"
     ]
    },
    {
     "name": "stderr",
     "output_type": "stream",
     "text": [
      " 83%|█████████████████████████████████████████████████████████████▏            | 12402/15000 [1:25:18<18:00,  2.40it/s]"
     ]
    },
    {
     "name": "stdout",
     "output_type": "stream",
     "text": [
      "Episode: 12400; Score: 6; Avg_score: 6.13; Timesteps: 74861; Learning Steps: 3743; Reached: 99\n",
      "Saving Models\n"
     ]
    },
    {
     "name": "stderr",
     "output_type": "stream",
     "text": [
      " 83%|█████████████████████████████████████████████████████████████▋            | 12501/15000 [1:25:53<21:44,  1.92it/s]"
     ]
    },
    {
     "name": "stdout",
     "output_type": "stream",
     "text": [
      "Episode: 12500; Score: 7; Avg_score: 6.01; Timesteps: 75360; Learning Steps: 3768; Reached: 100\n",
      "Saving Models\n"
     ]
    },
    {
     "name": "stderr",
     "output_type": "stream",
     "text": [
      " 84%|██████████████████████████████████████████████████████████████▏           | 12601/15000 [1:26:27<14:22,  2.78it/s]"
     ]
    },
    {
     "name": "stdout",
     "output_type": "stream",
     "text": [
      "Episode: 12600; Score: 5; Avg_score: 5.83; Timesteps: 75855; Learning Steps: 3792; Reached: 98\n",
      "Saving Models\n"
     ]
    },
    {
     "name": "stderr",
     "output_type": "stream",
     "text": [
      " 85%|██████████████████████████████████████████████████████████████▋           | 12702/15000 [1:27:02<12:08,  3.15it/s]"
     ]
    },
    {
     "name": "stdout",
     "output_type": "stream",
     "text": [
      "Episode: 12700; Score: 7; Avg_score: 5.97; Timesteps: 76347; Learning Steps: 3817; Reached: 99\n",
      "Saving Models\n"
     ]
    },
    {
     "name": "stderr",
     "output_type": "stream",
     "text": [
      " 85%|███████████████████████████████████████████████████████████████▏          | 12802/15000 [1:27:35<13:58,  2.62it/s]"
     ]
    },
    {
     "name": "stdout",
     "output_type": "stream",
     "text": [
      "Episode: 12800; Score: 9; Avg_score: 6.15; Timesteps: 76821; Learning Steps: 3841; Reached: 99\n",
      "Saving Models\n"
     ]
    },
    {
     "name": "stderr",
     "output_type": "stream",
     "text": [
      " 86%|███████████████████████████████████████████████████████████████▋          | 12901/15000 [1:28:09<11:55,  2.94it/s]"
     ]
    },
    {
     "name": "stdout",
     "output_type": "stream",
     "text": [
      "Episode: 12900; Score: 6; Avg_score: 5.86; Timesteps: 77313; Learning Steps: 3865; Reached: 98\n",
      "Saving Models\n"
     ]
    },
    {
     "name": "stderr",
     "output_type": "stream",
     "text": [
      " 87%|████████████████████████████████████████████████████████████████▏         | 13002/15000 [1:28:43<09:20,  3.56it/s]"
     ]
    },
    {
     "name": "stdout",
     "output_type": "stream",
     "text": [
      "Episode: 13000; Score: 6; Avg_score: 5.8; Timesteps: 77800; Learning Steps: 3890; Reached: 97\n",
      "Saving Models\n"
     ]
    },
    {
     "name": "stderr",
     "output_type": "stream",
     "text": [
      " 87%|████████████████████████████████████████████████████████████████▋         | 13102/15000 [1:29:18<09:19,  3.39it/s]"
     ]
    },
    {
     "name": "stdout",
     "output_type": "stream",
     "text": [
      "Episode: 13100; Score: 6; Avg_score: 4.55; Timesteps: 78302; Learning Steps: 3915; Reached: 87\n"
     ]
    },
    {
     "name": "stderr",
     "output_type": "stream",
     "text": [
      " 88%|█████████████████████████████████████████████████████████████████         | 13201/15000 [1:29:52<08:47,  3.41it/s]"
     ]
    },
    {
     "name": "stdout",
     "output_type": "stream",
     "text": [
      "Episode: 13200; Score: 6; Avg_score: 5.54; Timesteps: 78793; Learning Steps: 3939; Reached: 95\n",
      "Saving Models\n"
     ]
    },
    {
     "name": "stderr",
     "output_type": "stream",
     "text": [
      " 89%|█████████████████████████████████████████████████████████████████▌        | 13302/15000 [1:30:27<07:32,  3.76it/s]"
     ]
    },
    {
     "name": "stdout",
     "output_type": "stream",
     "text": [
      "Episode: 13300; Score: 6; Avg_score: 6.17; Timesteps: 79265; Learning Steps: 3963; Reached: 99\n",
      "Saving Models\n"
     ]
    },
    {
     "name": "stderr",
     "output_type": "stream",
     "text": [
      " 89%|██████████████████████████████████████████████████████████████████        | 13401/15000 [1:30:59<08:58,  2.97it/s]"
     ]
    },
    {
     "name": "stdout",
     "output_type": "stream",
     "text": [
      "Episode: 13400; Score: 6; Avg_score: 6.09; Timesteps: 79734; Learning Steps: 3986; Reached: 98\n",
      "Saving Models\n"
     ]
    },
    {
     "name": "stderr",
     "output_type": "stream",
     "text": [
      " 90%|██████████████████████████████████████████████████████████████████▌       | 13501/15000 [1:31:33<07:36,  3.28it/s]"
     ]
    },
    {
     "name": "stdout",
     "output_type": "stream",
     "text": [
      "Episode: 13500; Score: 10; Avg_score: 6.07; Timesteps: 80216; Learning Steps: 4010; Reached: 99\n",
      "Saving Models\n"
     ]
    },
    {
     "name": "stderr",
     "output_type": "stream",
     "text": [
      " 91%|███████████████████████████████████████████████████████████████████       | 13601/15000 [1:32:07<06:06,  3.82it/s]"
     ]
    },
    {
     "name": "stdout",
     "output_type": "stream",
     "text": [
      "Episode: 13600; Score: 6; Avg_score: 5.96; Timesteps: 80698; Learning Steps: 4034; Reached: 98\n",
      "Saving Models\n"
     ]
    },
    {
     "name": "stderr",
     "output_type": "stream",
     "text": [
      " 91%|███████████████████████████████████████████████████████████████████▌      | 13702/15000 [1:32:43<05:25,  3.98it/s]"
     ]
    },
    {
     "name": "stdout",
     "output_type": "stream",
     "text": [
      "Episode: 13700; Score: 9; Avg_score: 5.76; Timesteps: 81189; Learning Steps: 4059; Reached: 97\n",
      "Saving Models\n"
     ]
    },
    {
     "name": "stderr",
     "output_type": "stream",
     "text": [
      " 92%|████████████████████████████████████████████████████████████████████      | 13802/15000 [1:33:16<06:37,  3.02it/s]"
     ]
    },
    {
     "name": "stdout",
     "output_type": "stream",
     "text": [
      "Episode: 13800; Score: 7; Avg_score: 6.24; Timesteps: 81665; Learning Steps: 4083; Reached: 100\n",
      "Saving Models\n"
     ]
    },
    {
     "name": "stderr",
     "output_type": "stream",
     "text": [
      " 93%|████████████████████████████████████████████████████████████████████▌     | 13901/15000 [1:33:49<10:14,  1.79it/s]"
     ]
    },
    {
     "name": "stdout",
     "output_type": "stream",
     "text": [
      "Episode: 13900; Score: 6; Avg_score: 6.03; Timesteps: 82140; Learning Steps: 4107; Reached: 98\n",
      "Saving Models\n"
     ]
    },
    {
     "name": "stderr",
     "output_type": "stream",
     "text": [
      " 93%|█████████████████████████████████████████████████████████████████████     | 14001/15000 [1:34:22<04:16,  3.90it/s]"
     ]
    },
    {
     "name": "stdout",
     "output_type": "stream",
     "text": [
      "Episode: 14000; Score: 7; Avg_score: 6.0; Timesteps: 82618; Learning Steps: 4130; Reached: 98\n",
      "Saving Models\n"
     ]
    },
    {
     "name": "stderr",
     "output_type": "stream",
     "text": [
      " 94%|█████████████████████████████████████████████████████████████████████▌    | 14101/15000 [1:34:56<05:55,  2.53it/s]"
     ]
    },
    {
     "name": "stdout",
     "output_type": "stream",
     "text": [
      "Episode: 14100; Score: 7; Avg_score: 5.96; Timesteps: 83100; Learning Steps: 4155; Reached: 98\n",
      "Saving Models\n"
     ]
    },
    {
     "name": "stderr",
     "output_type": "stream",
     "text": [
      " 95%|██████████████████████████████████████████████████████████████████████    | 14202/15000 [1:35:29<04:10,  3.18it/s]"
     ]
    },
    {
     "name": "stdout",
     "output_type": "stream",
     "text": [
      "Episode: 14200; Score: 6; Avg_score: 6.26; Timesteps: 83574; Learning Steps: 4178; Reached: 100\n",
      "Saving Models\n"
     ]
    },
    {
     "name": "stderr",
     "output_type": "stream",
     "text": [
      " 95%|██████████████████████████████████████████████████████████████████████▌   | 14302/15000 [1:36:04<03:42,  3.14it/s]"
     ]
    },
    {
     "name": "stdout",
     "output_type": "stream",
     "text": [
      "Episode: 14300; Score: 5; Avg_score: 5.95; Timesteps: 84068; Learning Steps: 4203; Reached: 99\n",
      "Saving Models\n"
     ]
    },
    {
     "name": "stderr",
     "output_type": "stream",
     "text": [
      " 96%|███████████████████████████████████████████████████████████████████████   | 14401/15000 [1:36:38<02:52,  3.47it/s]"
     ]
    },
    {
     "name": "stdout",
     "output_type": "stream",
     "text": [
      "Episode: 14400; Score: 6; Avg_score: 6.0; Timesteps: 84557; Learning Steps: 4227; Reached: 99\n",
      "Saving Models\n"
     ]
    },
    {
     "name": "stderr",
     "output_type": "stream",
     "text": [
      " 97%|███████████████████████████████████████████████████████████████████████▌  | 14501/15000 [1:37:13<03:03,  2.72it/s]"
     ]
    },
    {
     "name": "stdout",
     "output_type": "stream",
     "text": [
      "Episode: 14500; Score: 6; Avg_score: 6.1; Timesteps: 85047; Learning Steps: 4252; Reached: 100\n",
      "Saving Models\n"
     ]
    },
    {
     "name": "stderr",
     "output_type": "stream",
     "text": [
      " 97%|████████████████████████████████████████████████████████████████████████  | 14600/15000 [1:37:47<01:44,  3.81it/s]"
     ]
    },
    {
     "name": "stdout",
     "output_type": "stream",
     "text": [
      "Episode: 14600; Score: 6; Avg_score: 5.87; Timesteps: 85538; Learning Steps: 4276; Reached: 98\n",
      "Saving Models\n"
     ]
    },
    {
     "name": "stderr",
     "output_type": "stream",
     "text": [
      " 98%|████████████████████████████████████████████████████████████████████████▌ | 14702/15000 [1:38:22<01:30,  3.30it/s]"
     ]
    },
    {
     "name": "stdout",
     "output_type": "stream",
     "text": [
      "Episode: 14700; Score: 6; Avg_score: 5.71; Timesteps: 86045; Learning Steps: 4302; Reached: 98\n",
      "Saving Models\n"
     ]
    },
    {
     "name": "stderr",
     "output_type": "stream",
     "text": [
      " 99%|█████████████████████████████████████████████████████████████████████████ | 14801/15000 [1:38:55<01:00,  3.28it/s]"
     ]
    },
    {
     "name": "stdout",
     "output_type": "stream",
     "text": [
      "Episode: 14800; Score: 5; Avg_score: 6.08; Timesteps: 86515; Learning Steps: 4325; Reached: 98\n",
      "Saving Models\n"
     ]
    },
    {
     "name": "stderr",
     "output_type": "stream",
     "text": [
      " 99%|█████████████████████████████████████████████████████████████████████████▌| 14901/15000 [1:39:29<00:26,  3.72it/s]"
     ]
    },
    {
     "name": "stdout",
     "output_type": "stream",
     "text": [
      "Episode: 14900; Score: 5; Avg_score: 6.22; Timesteps: 86993; Learning Steps: 4349; Reached: 100\n",
      "Saving Models\n"
     ]
    },
    {
     "name": "stderr",
     "output_type": "stream",
     "text": [
      "100%|██████████████████████████████████████████████████████████████████████████| 15000/15000 [1:40:06<00:00,  2.50it/s]\n"
     ]
    }
   ],
   "source": [
    "for i in tqdm(range(n_games)):\n",
    "    env = Environment(num_icons = np.random.randint(low = 3, high = 30))\n",
    "    env_cell_mapping = give_mapping(env.cells)\n",
    "    layout = env_cell_mapping[np.newaxis, :, :, np.newaxis]\n",
    "    done = False\n",
    "    episode_reward = 0\n",
    "    start, dest = env.give_start_dest()\n",
    "    user_state = [start[0], start[1], dest[0], dest[1]]\n",
    "    prev_steps_assist = []\n",
    "    prev_steps_assist = give_prev_steps(prev_steps_assist, memory_len)\n",
    "    step = 0\n",
    "    episode_reward = 0\n",
    "    curr_loc = user_state[:2]\n",
    "    target_loc = user_state[2:]\n",
    "    \n",
    "    while not done and step<max_steps:\n",
    "        step+=1\n",
    "        n_steps+=1\n",
    "        user_action, user_prob, asst_action, asst_prob, vals, asst_state, asst_output_one_hot\\\n",
    "        = agent.choose_action(user_state, layout, prev_steps_assist, test = False)\n",
    "        \n",
    "        \n",
    "        new_loc, reward, _, done = env.step(user_action, asst_action + 1, target_loc, curr_loc)\n",
    "        \n",
    "        if done:\n",
    "            reached+=1\n",
    "        \n",
    "        agent.remember(user_state, asst_state, layout, asst_output_one_hot,\\\n",
    "                       user_action, user_prob, asst_action, asst_prob, vals, reward, done)\n",
    "         \n",
    "        user_state = new_loc + target_loc\n",
    "        prev_steps_assist = asst_state[1:]\n",
    "        curr_loc = new_loc\n",
    "        episode_reward+=reward\n",
    "        \n",
    "        if n_steps%N==0:\n",
    "            agent.learn()\n",
    "            learn_iters+=1\n",
    "            \n",
    "    score_history.append(episode_reward)\n",
    "    avg_score = np.mean(score_history[-100:])\n",
    "    \n",
    "    if i%100==0:\n",
    "        if max_steps>10:\n",
    "            max_steps-=2\n",
    "            max_steps = max(max_steps, 10)\n",
    "            \n",
    "        elif i%500==0:\n",
    "            max_steps-=1\n",
    "            max_steps = max(max_steps, 6)\n",
    "    \n",
    "    if i%100==0:\n",
    "        print(f'Episode: {i}; Score: {episode_reward}; Avg_score: {avg_score}; Timesteps: {n_steps}; Learning Steps: {learn_iters}; Reached: {reached}')\n",
    "        \n",
    "        if reached>=best_reached:\n",
    "            best_reached = min(reached, 90)\n",
    "            agent.save_models()\n",
    "            \n",
    "        reached = 0"
   ]
  },
  {
   "cell_type": "code",
   "execution_count": 5,
   "metadata": {},
   "outputs": [
    {
     "name": "stdout",
     "output_type": "stream",
     "text": [
      "Loading Models\n",
      "WARNING:tensorflow:No training configuration found in the save file, so the model was *not* compiled. Compile it manually.\n",
      "WARNING:tensorflow:No training configuration found in the save file, so the model was *not* compiled. Compile it manually.\n",
      "WARNING:tensorflow:No training configuration found in the save file, so the model was *not* compiled. Compile it manually.\n"
     ]
    },
    {
     "name": "stderr",
     "output_type": "stream",
     "text": [
      "100%|██████████████████████████████████████████████████████████████████████████████| 5000/5000 [08:14<00:00, 10.11it/s]"
     ]
    },
    {
     "name": "stdout",
     "output_type": "stream",
     "text": [
      "4950\n",
      "[5168, 4346, 1103, 13515]\n"
     ]
    },
    {
     "name": "stderr",
     "output_type": "stream",
     "text": [
      "\n"
     ]
    }
   ],
   "source": [
    "distribution = [0, 0, 0, 0]\n",
    "reached = 0\n",
    "agent.load_models()\n",
    "max_steps = 6\n",
    "\n",
    "for i in tqdm(range(5000)):\n",
    "#     print('----------------------------------------------------------------------------------')\n",
    "    env = Environment(num_icons = np.random.randint(low = 3, high = 30))\n",
    "    env_cell_mapping = give_mapping(env.cells)\n",
    "    layout = env_cell_mapping[np.newaxis, :, :, np.newaxis]\n",
    "    done = False\n",
    "    episode_reward = 0\n",
    "    start, dest = env.give_start_dest()\n",
    "    user_state = [start[0], start[1], dest[0], dest[1]]\n",
    "    prev_steps_assist = []\n",
    "    prev_steps_assist = give_prev_steps(prev_steps_assist, memory_len)\n",
    "    step = 0\n",
    "    episode_reward = 0\n",
    "    curr_loc = user_state[:2]\n",
    "    target_loc = user_state[2:]\n",
    "    \n",
    "    while not done and step<max_steps:\n",
    "        step+=1\n",
    "        n_steps+=1\n",
    "        user_action, user_prob, asst_action, asst_prob, vals, asst_state, asst_output_one_hot\\\n",
    "        = agent.choose_action(user_state, layout, prev_steps_assist, test = True)\n",
    "        \n",
    "        distribution[asst_action]+=1\n",
    "        new_loc, reward, _, done = env.step(user_action, asst_action + 1, target_loc, curr_loc)\n",
    "        \n",
    "        if done:\n",
    "            reached+=1\n",
    "         \n",
    "        user_state = new_loc + target_loc\n",
    "        prev_steps_assist = asst_state[1:]\n",
    "        curr_loc = new_loc\n",
    "        episode_reward+=reward\n",
    "        \n",
    "print(reached)\n",
    "print(distribution)"
   ]
  },
  {
   "cell_type": "code",
   "execution_count": null,
   "metadata": {},
   "outputs": [],
   "source": []
  }
 ],
 "metadata": {
  "kernelspec": {
   "display_name": "tfgpu",
   "language": "python",
   "name": "tfgpu"
  },
  "language_info": {
   "codemirror_mode": {
    "name": "ipython",
    "version": 3
   },
   "file_extension": ".py",
   "mimetype": "text/x-python",
   "name": "python",
   "nbconvert_exporter": "python",
   "pygments_lexer": "ipython3",
   "version": "3.7.8"
  }
 },
 "nbformat": 4,
 "nbformat_minor": 4
}
