{
 "cells": [
  {
   "cell_type": "code",
   "execution_count": 1,
   "metadata": {},
   "outputs": [],
   "source": [
    "import os\n",
    "from copy import deepcopy\n",
    "\n",
    "from tqdm import tqdm\n",
    "import numpy as np\n",
    "import tensorflow as tf\n",
    "from tensorflow import keras\n",
    "import matplotlib.pyplot as plt\n",
    "\n",
    "from Environment import Environment, make_one_hot, give_mapping\n",
    "from Networks import UserActor, AsstActor, CentralizedCritic"
   ]
  },
  {
   "cell_type": "code",
   "execution_count": 2,
   "metadata": {},
   "outputs": [],
   "source": [
    "def give_prev_steps(prev_steps_assist, steps):\n",
    "    prev_steps_assist = [[0,0,0,0,-1,-1] for i in range(steps-1)]\n",
    "    return prev_steps_assist"
   ]
  },
  {
   "cell_type": "code",
   "execution_count": 3,
   "metadata": {},
   "outputs": [],
   "source": [
    "class Agent:\n",
    "    def __init__(self):\n",
    "        self.memory_len = 6\n",
    "        self.user_actor = UserActor()\n",
    "        self.asst_actor = AsstActor(self.memory_len)\n",
    "        \n",
    "        self.user_actor.model = tf.keras.models.load_model('user.h5')\n",
    "        self.asst_actor.model = tf.keras.models.load_model('asst.h5')\n",
    "        \n",
    "        self.optimizer_actors = tf.keras.optimizers.Adam(lr = 0.0001)\n",
    "        self.optimizer_critic = tf.keras.optimizers.Adam(lr = 0.0002)\n",
    "        self.huber_loss = tf.keras.losses.Huber()\n",
    "        \n",
    "        \n",
    "        self.gamma = 0.90\n",
    "#         self.env = Environment()\n",
    "#         self.env.cells = np.array([[0.1, 0.1], [0.9, 0.9], [0.1, 0.9], [0.9, 0.1], [0.5, 0.3], [0.5, 0.7]])\n",
    "#         self.env_cell_mapping = give_mapping(self.env.cells)\n",
    "#         self.env_cell_mapping = self.env_cell_mapping[np.newaxis, :, :, np.newaxis]\n",
    "        self.eps = 10e-6\n",
    "                \n",
    "    def trial(self, i):\n",
    "        if i%100==0:\n",
    "            self.env = Environment()\n",
    "            self.env_cell_mapping = give_mapping(self.env.cells)\n",
    "            self.env_cell_mapping = self.env_cell_mapping[np.newaxis, :, :, np.newaxis]\n",
    "        env = self.env\n",
    "        max_steps = 20\n",
    "        done = False\n",
    "        episode_reward = 0\n",
    "        start, dest = env.give_start_dest()\n",
    "        ob_user = [start[0], start[1], dest[0], dest[1]]\n",
    "        prev_steps_assist = []\n",
    "        prev_steps_assist = give_prev_steps(prev_steps_assist, self.memory_len)\n",
    "        step = 0\n",
    "        episode_reward = 0\n",
    "\n",
    "        while not done and step<max_steps:\n",
    "            curr_loc = ob_user[:2]\n",
    "            target_loc = ob_user[2:4]\n",
    "            step+=1\n",
    "#             print(ob_user)\n",
    "\n",
    "            ob_user = np.array(ob_user)[np.newaxis]\n",
    "            user_probs = self.user_actor.model(ob_user)\n",
    "            user_action = np.argmax(np.squeeze(user_probs))\n",
    "\n",
    "            action_user_one_hot = make_one_hot(user_action, 4)\n",
    "\n",
    "            ob_assist = [action_user_one_hot + curr_loc] \n",
    "            ob_assist = prev_steps_assist + ob_assist\n",
    "            ob_assist = np.array(ob_assist)[np.newaxis]\n",
    "\n",
    "            asst_probs = self.asst_actor.model([ob_assist, self.env_cell_mapping])\n",
    "#             print(asst_probs)\n",
    "            asst_action = np.argmax(np.squeeze(asst_probs)) \n",
    "            new_loc, reward_user, reward_assist, done = self.env.step(user_action, asst_action + 1, target_loc, curr_loc)\n",
    "\n",
    "            next_ob_user = new_loc[:]\n",
    "            next_ob_user = next_ob_user + target_loc\n",
    "\n",
    "            ob_user = next_ob_user\n",
    "            prev_steps_assist = np.squeeze(ob_assist).tolist()[1:]\n",
    "            episode_reward+=reward_user\n",
    "            \n",
    "        return (start, dest, step)\n",
    "\n",
    "\n"
   ]
  },
  {
   "cell_type": "code",
   "execution_count": 4,
   "metadata": {},
   "outputs": [
    {
     "name": "stdout",
     "output_type": "stream",
     "text": [
      "Model: \"functional_1\"\n",
      "__________________________________________________________________________________________________\n",
      "Layer (type)                    Output Shape         Param #     Connected to                     \n",
      "==================================================================================================\n",
      "input_1 (InputLayer)            [(None, 4)]          0                                            \n",
      "__________________________________________________________________________________________________\n",
      "tf_op_layer_strided_slice (Tens [(None, 2)]          0           input_1[0][0]                    \n",
      "__________________________________________________________________________________________________\n",
      "tf_op_layer_strided_slice_1 (Te [(None, 2)]          0           input_1[0][0]                    \n",
      "__________________________________________________________________________________________________\n",
      "subtract (Subtract)             (None, 2)            0           tf_op_layer_strided_slice[0][0]  \n",
      "                                                                 tf_op_layer_strided_slice_1[0][0]\n",
      "__________________________________________________________________________________________________\n",
      "dense (Dense)                   (None, 32)           96          subtract[0][0]                   \n",
      "__________________________________________________________________________________________________\n",
      "dense_1 (Dense)                 (None, 64)           2112        dense[0][0]                      \n",
      "__________________________________________________________________________________________________\n",
      "dense_2 (Dense)                 (None, 4)            260         dense_1[0][0]                    \n",
      "==================================================================================================\n",
      "Total params: 2,468\n",
      "Trainable params: 2,468\n",
      "Non-trainable params: 0\n",
      "__________________________________________________________________________________________________\n",
      "Model: \"functional_3\"\n",
      "__________________________________________________________________________________________________\n",
      "Layer (type)                    Output Shape         Param #     Connected to                     \n",
      "==================================================================================================\n",
      "input_3 (InputLayer)            [(None, 11, 11, 1)]  0                                            \n",
      "__________________________________________________________________________________________________\n",
      "conv2d (Conv2D)                 (None, 9, 9, 2)      20          input_3[0][0]                    \n",
      "__________________________________________________________________________________________________\n",
      "input_2 (InputLayer)            [(None, 6, 6)]       0                                            \n",
      "__________________________________________________________________________________________________\n",
      "max_pooling2d (MaxPooling2D)    (None, 4, 4, 2)      0           conv2d[0][0]                     \n",
      "__________________________________________________________________________________________________\n",
      "dense_3 (Dense)                 (None, 6, 32)        224         input_2[0][0]                    \n",
      "__________________________________________________________________________________________________\n",
      "flatten (Flatten)               (None, 32)           0           max_pooling2d[0][0]              \n",
      "__________________________________________________________________________________________________\n",
      "lstm (LSTM)                     (None, 32)           8320        dense_3[0][0]                    \n",
      "__________________________________________________________________________________________________\n",
      "dense_4 (Dense)                 (None, 32)           1056        flatten[0][0]                    \n",
      "__________________________________________________________________________________________________\n",
      "concatenate (Concatenate)       (None, 64)           0           lstm[0][0]                       \n",
      "                                                                 dense_4[0][0]                    \n",
      "__________________________________________________________________________________________________\n",
      "dense_5 (Dense)                 (None, 32)           2080        concatenate[0][0]                \n",
      "__________________________________________________________________________________________________\n",
      "dense_6 (Dense)                 (None, 4)            132         dense_5[0][0]                    \n",
      "==================================================================================================\n",
      "Total params: 11,832\n",
      "Trainable params: 11,832\n",
      "Non-trainable params: 0\n",
      "__________________________________________________________________________________________________\n",
      "WARNING:tensorflow:No training configuration found in the save file, so the model was *not* compiled. Compile it manually.\n",
      "WARNING:tensorflow:No training configuration found in the save file, so the model was *not* compiled. Compile it manually.\n"
     ]
    }
   ],
   "source": [
    "agent = Agent()"
   ]
  },
  {
   "cell_type": "code",
   "execution_count": 5,
   "metadata": {},
   "outputs": [
    {
     "name": "stderr",
     "output_type": "stream",
     "text": [
      "\r",
      "  0%|                                                                                         | 0/1000 [00:00<?, ?it/s]"
     ]
    },
    {
     "name": "stdout",
     "output_type": "stream",
     "text": [
      "Icon Locations:\n",
      "[[0.1 0.9]\n",
      " [0.5 0. ]\n",
      " [0.4 0.6]\n",
      " [0.7 0.7]\n",
      " [0.7 0.9]\n",
      " [0.2 0.4]]\n",
      "Icon usage Probabilities\n",
      "[0.16666667 0.16666667 0.16666667 0.16666667 0.16666667 0.16666667]\n"
     ]
    },
    {
     "name": "stderr",
     "output_type": "stream",
     "text": [
      " 10%|███████▉                                                                       | 101/1000 [00:05<00:36, 24.82it/s]"
     ]
    },
    {
     "name": "stdout",
     "output_type": "stream",
     "text": [
      "Icon Locations:\n",
      "[[0.4 0.4]\n",
      " [0.8 0.1]\n",
      " [0.4 0.4]\n",
      " [0.  0.4]\n",
      " [0.  0.6]\n",
      " [0.2 0.3]]\n",
      "Icon usage Probabilities\n",
      "[0.16666667 0.16666667 0.16666667 0.16666667 0.16666667 0.16666667]\n"
     ]
    },
    {
     "name": "stderr",
     "output_type": "stream",
     "text": [
      " 20%|████████████████                                                               | 204/1000 [00:10<00:35, 22.21it/s]"
     ]
    },
    {
     "name": "stdout",
     "output_type": "stream",
     "text": [
      "Icon Locations:\n",
      "[[0.7 0. ]\n",
      " [0.5 0.3]\n",
      " [0.1 0.5]\n",
      " [0.6 0.4]\n",
      " [0.2 0.1]\n",
      " [0.8 0.7]]\n",
      "Icon usage Probabilities\n",
      "[0.16666667 0.16666667 0.16666667 0.16666667 0.16666667 0.16666667]\n"
     ]
    },
    {
     "name": "stderr",
     "output_type": "stream",
     "text": [
      " 30%|███████████████████████▊                                                       | 302/1000 [00:14<00:29, 23.37it/s]"
     ]
    },
    {
     "name": "stdout",
     "output_type": "stream",
     "text": [
      "Icon Locations:\n",
      "[[0.4 0.5]\n",
      " [0.2 0.2]\n",
      " [0.3 0.2]\n",
      " [0.1 0.6]\n",
      " [0.7 0.1]\n",
      " [0.7 0.3]]\n",
      "Icon usage Probabilities\n",
      "[0.16666667 0.16666667 0.16666667 0.16666667 0.16666667 0.16666667]\n"
     ]
    },
    {
     "name": "stderr",
     "output_type": "stream",
     "text": [
      " 40%|███████████████████████████████▊                                               | 402/1000 [00:18<00:22, 26.34it/s]"
     ]
    },
    {
     "name": "stdout",
     "output_type": "stream",
     "text": [
      "Icon Locations:\n",
      "[[0.4 0.2]\n",
      " [0.3 0.3]\n",
      " [0.8 0.8]\n",
      " [0.8 0.4]\n",
      " [0.5 0.6]\n",
      " [0.4 0.1]]\n",
      "Icon usage Probabilities\n",
      "[0.16666667 0.16666667 0.16666667 0.16666667 0.16666667 0.16666667]\n"
     ]
    },
    {
     "name": "stderr",
     "output_type": "stream",
     "text": [
      " 50%|███████████████████████████████████████▋                                       | 503/1000 [00:23<00:20, 24.26it/s]"
     ]
    },
    {
     "name": "stdout",
     "output_type": "stream",
     "text": [
      "Icon Locations:\n",
      "[[0.9 0.8]\n",
      " [0.1 0.2]\n",
      " [0.8 0.5]\n",
      " [0.9 0.4]\n",
      " [0.8 0. ]\n",
      " [0.3 0. ]]\n",
      "Icon usage Probabilities\n",
      "[0.16666667 0.16666667 0.16666667 0.16666667 0.16666667 0.16666667]\n"
     ]
    },
    {
     "name": "stderr",
     "output_type": "stream",
     "text": [
      " 60%|███████████████████████████████████████████████▋                               | 603/1000 [00:27<00:16, 24.26it/s]"
     ]
    },
    {
     "name": "stdout",
     "output_type": "stream",
     "text": [
      "Icon Locations:\n",
      "[[0.  0. ]\n",
      " [0.5 0.8]\n",
      " [0.6 0.4]\n",
      " [0.2 0.4]\n",
      " [0.  0.9]\n",
      " [0.  0.7]]\n",
      "Icon usage Probabilities\n",
      "[0.16666667 0.16666667 0.16666667 0.16666667 0.16666667 0.16666667]\n"
     ]
    },
    {
     "name": "stderr",
     "output_type": "stream",
     "text": [
      " 70%|███████████████████████████████████████████████████████▍                       | 701/1000 [00:30<00:11, 26.27it/s]"
     ]
    },
    {
     "name": "stdout",
     "output_type": "stream",
     "text": [
      "Icon Locations:\n",
      "[[0.8 0.4]\n",
      " [0.4 0.6]\n",
      " [0.8 0.8]\n",
      " [0.8 0.4]\n",
      " [0.2 0.5]\n",
      " [0.6 0.8]]\n",
      "Icon usage Probabilities\n",
      "[0.16666667 0.16666667 0.16666667 0.16666667 0.16666667 0.16666667]\n"
     ]
    },
    {
     "name": "stderr",
     "output_type": "stream",
     "text": [
      " 80%|███████████████████████████████████████████████████████████████▍               | 803/1000 [00:34<00:08, 23.18it/s]"
     ]
    },
    {
     "name": "stdout",
     "output_type": "stream",
     "text": [
      "Icon Locations:\n",
      "[[0.  0.2]\n",
      " [0.3 0.5]\n",
      " [0.1 0.9]\n",
      " [0.1 0.1]\n",
      " [0.7 0.8]\n",
      " [0.8 0.6]]\n",
      "Icon usage Probabilities\n",
      "[0.16666667 0.16666667 0.16666667 0.16666667 0.16666667 0.16666667]\n"
     ]
    },
    {
     "name": "stderr",
     "output_type": "stream",
     "text": [
      " 90%|███████████████████████████████████████████████████████████████████████▎       | 902/1000 [00:39<00:04, 22.81it/s]"
     ]
    },
    {
     "name": "stdout",
     "output_type": "stream",
     "text": [
      "Icon Locations:\n",
      "[[0.  0.1]\n",
      " [0.6 0.5]\n",
      " [0.5 0.1]\n",
      " [0.7 0.5]\n",
      " [0.2 0.9]\n",
      " [0.1 0.2]]\n",
      "Icon usage Probabilities\n",
      "[0.16666667 0.16666667 0.16666667 0.16666667 0.16666667 0.16666667]\n"
     ]
    },
    {
     "name": "stderr",
     "output_type": "stream",
     "text": [
      "100%|██████████████████████████████████████████████████████████████████████████████| 1000/1000 [00:43<00:00, 22.98it/s]\n"
     ]
    }
   ],
   "source": [
    "norm_steps = []\n",
    "agent_steps = []\n",
    "for i in tqdm(range(1000)):\n",
    "    start, dest, step = agent.trial(i)\n",
    "    norm_steps.append(abs(start[0]-dest[0])*10 + abs(start[1]-dest[1])*10)\n",
    "    agent_steps.append(step)"
   ]
  },
  {
   "cell_type": "code",
   "execution_count": 6,
   "metadata": {},
   "outputs": [
    {
     "data": {
      "text/plain": [
       "6504.0"
      ]
     },
     "execution_count": 6,
     "metadata": {},
     "output_type": "execute_result"
    }
   ],
   "source": [
    "sum(norm_steps)"
   ]
  },
  {
   "cell_type": "code",
   "execution_count": 7,
   "metadata": {},
   "outputs": [
    {
     "data": {
      "text/plain": [
       "4861"
      ]
     },
     "execution_count": 7,
     "metadata": {},
     "output_type": "execute_result"
    }
   ],
   "source": [
    "sum(agent_steps)"
   ]
  },
  {
   "cell_type": "code",
   "execution_count": 8,
   "metadata": {},
   "outputs": [
    {
     "data": {
      "text/plain": [
       "0.7473862238622386"
      ]
     },
     "execution_count": 8,
     "metadata": {},
     "output_type": "execute_result"
    }
   ],
   "source": [
    "sum(agent_steps)/sum(norm_steps)"
   ]
  },
  {
   "cell_type": "code",
   "execution_count": null,
   "metadata": {},
   "outputs": [],
   "source": []
  }
 ],
 "metadata": {
  "kernelspec": {
   "display_name": "tfgpu",
   "language": "python",
   "name": "tfgpu"
  },
  "language_info": {
   "codemirror_mode": {
    "name": "ipython",
    "version": 3
   },
   "file_extension": ".py",
   "mimetype": "text/x-python",
   "name": "python",
   "nbconvert_exporter": "python",
   "pygments_lexer": "ipython3",
   "version": "3.7.8"
  }
 },
 "nbformat": 4,
 "nbformat_minor": 4
}
