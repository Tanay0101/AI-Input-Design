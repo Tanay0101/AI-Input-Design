{
 "cells": [
  {
   "cell_type": "code",
   "execution_count": 1,
   "metadata": {},
   "outputs": [],
   "source": [
    "import os\n",
    "from copy import deepcopy\n",
    "\n",
    "from tqdm import tqdm\n",
    "import numpy as np\n",
    "import tensorflow as tf\n",
    "from tensorflow import keras\n",
    "import matplotlib.pyplot as plt\n",
    "\n",
    "from Environment import Environment, make_one_hot, give_mapping\n",
    "from Networks import UserActor, AsstActor, CentralizedCritic"
   ]
  },
  {
   "cell_type": "code",
   "execution_count": 2,
   "metadata": {},
   "outputs": [],
   "source": [
    "def give_prev_steps(prev_steps_assist, steps):\n",
    "    prev_steps_assist = [[0,0,0,0,-1,-1] for i in range(steps-1)]\n",
    "    return prev_steps_assist"
   ]
  },
  {
   "cell_type": "code",
   "execution_count": 3,
   "metadata": {},
   "outputs": [],
   "source": [
    "class Agent:\n",
    "    def __init__(self):\n",
    "        self.memory_len = 4\n",
    "        self.user_actor = UserActor()\n",
    "        self.asst_actor = AsstActor(self.memory_len)\n",
    "        self.user_critic = CentralizedCritic(self.memory_len)\n",
    "        self.asst_critic = CentralizedCritic(self.memory_len)\n",
    "        self.optimizer_actors = tf.keras.optimizers.Adam(lr = 0.0001)\n",
    "        self.optimizer_critic = tf.keras.optimizers.Adam(lr = 0.0002)\n",
    "        self.huber_loss = tf.keras.losses.Huber()\n",
    "        \n",
    "        \n",
    "        self.gamma = 0.90\n",
    "        self.env = Environment()\n",
    "        self.env.cells = np.array([[0.7, 0.1], [0.1, 0.1], [0.5, 0.7], [0.6, 0.2], [0.7, 0.4], [0.2, 0.9]])\n",
    "        self.env_cell_mapping = give_mapping(self.env.cells)\n",
    "        self.env_cell_mapping = self.env_cell_mapping[np.newaxis, :, :, np.newaxis]\n",
    "        self.eps = 10e-6\n",
    "    \n",
    "    def learn(self):\n",
    "        env = self.env\n",
    "        max_steps = 40\n",
    "        running_reward = 0\n",
    "        reached = 0\n",
    "        best = 0\n",
    "        \n",
    "        for epoch in tqdm(range(30000)):\n",
    "            \n",
    "            user_action_probs_history = []\n",
    "            asst_action_probs_history = []\n",
    "            user_critic_value_history = []\n",
    "            asst_critic_value_history = []\n",
    "            rewards_history = []\n",
    "            returns = [] #Returns\n",
    "            \n",
    "            done = False\n",
    "            episode_reward = 0\n",
    "            start, dest = env.give_start_dest()\n",
    "            ob_user = [start[0], start[1], dest[0], dest[1]]\n",
    "            prev_steps_assist = []\n",
    "            prev_steps_assist = give_prev_steps(prev_steps_assist, self.memory_len)\n",
    "            step = 0\n",
    "            episode_reward = 0\n",
    "            \n",
    "            with tf.GradientTape(persistent = True) as tape:\n",
    "                while not done and step<max_steps:\n",
    "                    curr_loc = ob_user[:2]\n",
    "                    target_loc = ob_user[2:4]\n",
    "                    step+=1\n",
    "                    ob_user = np.array(ob_user)[np.newaxis]\n",
    "                    user_probs = self.user_actor.model(ob_user)\n",
    "                    user_action = np.random.choice(4, p=np.squeeze(user_probs))\n",
    "                    user_action_probs_history.append(tf.math.log(user_probs[0, user_action]))\n",
    "\n",
    "                    action_user_one_hot = make_one_hot(user_action, 4)\n",
    "\n",
    "                    ob_assist = [action_user_one_hot + curr_loc] \n",
    "                    ob_assist = prev_steps_assist + ob_assist\n",
    "                    ob_assist = np.array(ob_assist)[np.newaxis]\n",
    "                    \n",
    "                    asst_probs = self.asst_actor.model([ob_assist, self.env_cell_mapping])\n",
    "                    asst_action = np.random.choice(4, p=np.squeeze(asst_probs))\n",
    "                    asst_action_probs_history.append(tf.math.log(asst_probs[0, asst_action]))\n",
    "                    \n",
    "                    asst_output_one_hot = np.array(make_one_hot(asst_action, 4))[np.newaxis]\n",
    "                    \n",
    "                    user_critic_value = self.user_critic.model([ob_user, ob_assist, self.env_cell_mapping, asst_output_one_hot])\n",
    "                    user_critic_value_history.append(user_critic_value)\n",
    "                    \n",
    "                    asst_critic_value = self.asst_critic.model([ob_user, ob_assist, self.env_cell_mapping, asst_output_one_hot])\n",
    "                    asst_critic_value_history.append(asst_critic_value)\n",
    "                    \n",
    "                    new_loc, reward_user, reward_assist, done = self.env.step(user_action, asst_action + 1, target_loc, curr_loc)\n",
    "                    \n",
    "                    next_ob_user = new_loc[:]\n",
    "                    next_ob_user = next_ob_user + target_loc\n",
    "\n",
    "                    ob_user = next_ob_user\n",
    "                    prev_steps_assist = np.squeeze(ob_assist).tolist()[1:]\n",
    "                    \n",
    "                    rewards_history.append(reward_user)\n",
    "                    episode_reward+=reward_user\n",
    "                    \n",
    "                    if done:\n",
    "                        reached += 1\n",
    "\n",
    "                running_reward = 0.05 * episode_reward + (1 - 0.05) * running_reward\n",
    "\n",
    "                discounted_sum = 0\n",
    "                for r in rewards_history[::-1]:\n",
    "                    discounted_sum = r + self.gamma * discounted_sum\n",
    "                    returns.append(discounted_sum)\n",
    "                returns.reverse()\n",
    "                \n",
    "                user_critic_losses = []\n",
    "                asst_critic_losses = []\n",
    "                user_losses = []\n",
    "                asst_losses = []\n",
    "                \n",
    "                for log_prob_user, log_prob_asst, val_user, val_asst, ret in zip(user_action_probs_history, asst_action_probs_history, user_critic_value_history,\\\n",
    "                                                                 asst_critic_value_history, returns):\n",
    "                    diff_user = ret - val_user\n",
    "                    diff_asst = ret - val_asst\n",
    "                    user_losses.append(-log_prob_user*diff_user)\n",
    "                    asst_losses.append(-log_prob_asst*diff_asst)\n",
    "                    user_critic_losses.append(self.huber_loss(tf.expand_dims(val_user, 0), tf.expand_dims(ret, 0)))\n",
    "                    asst_critic_losses.append(self.huber_loss(tf.expand_dims(val_asst, 0), tf.expand_dims(ret, 0)))\n",
    "\n",
    "                user_loss = sum(user_losses)\n",
    "                asst_loss = sum(asst_losses)\n",
    "                user_critic_loss = sum(user_critic_losses)\n",
    "                asst_critic_loss = sum(asst_critic_losses)\n",
    "                \n",
    "            grads = tape.gradient(user_loss, self.user_actor.model.trainable_variables)\n",
    "            self.optimizer_actors.apply_gradients(zip(grads, self.user_actor.model.trainable_variables))\n",
    "\n",
    "            grads = tape.gradient(asst_loss, self.asst_actor.model.trainable_variables)\n",
    "            self.optimizer_actors.apply_gradients(zip(grads, self.asst_actor.model.trainable_variables))\n",
    "\n",
    "            grads = tape.gradient(user_critic_loss, self.user_critic.model.trainable_variables)\n",
    "            self.optimizer_critic.apply_gradients(zip(grads, self.user_critic.model.trainable_variables))\n",
    "            \n",
    "            grads = tape.gradient(asst_critic_loss, self.asst_critic.model.trainable_variables)\n",
    "            self.optimizer_critic.apply_gradients(zip(grads, self.asst_critic.model.trainable_variables))\n",
    "            \n",
    "            \n",
    "            if epoch%100 == 0:\n",
    "                print(running_reward)\n",
    "            \n",
    "            if epoch and epoch%100 == 0:\n",
    "                print(reached)\n",
    "                if reached>=best:\n",
    "                    best = reached\n",
    "                    tf.keras.models.save_model(self.user_actor.model, 'user.h5')\n",
    "                    tf.keras.models.save_model(self.asst_actor.model, 'asst.h5')\n",
    "                    tf.keras.models.save_model(self.user_critic.model, 'user_critic.h5')\n",
    "                    tf.keras.models.save_model(self.asst_critic.model, 'asst_critic.h5')\n",
    "                    \n",
    "                reached = 0\n",
    "                \n",
    "                if epoch%200 == 0:\n",
    "                    self.trial()\n",
    "                    \n",
    "                    if epoch%1000 == 0:\n",
    "                        max_steps -= 1\n",
    "                        max_steps = max(max_steps, 20)\n",
    "                \n",
    "                \n",
    "    def trial(self):\n",
    "        env = self.env\n",
    "        max_steps = 20\n",
    "        done = False\n",
    "        episode_reward = 0\n",
    "        start, dest = env.give_start_dest()\n",
    "        ob_user = [start[0], start[1], dest[0], dest[1]]\n",
    "        prev_steps_assist = []\n",
    "        prev_steps_assist = give_prev_steps(prev_steps_assist, self.memory_len)\n",
    "        step = 0\n",
    "        episode_reward = 0\n",
    "\n",
    "        while not done and step<max_steps:\n",
    "            curr_loc = ob_user[:2]\n",
    "            target_loc = ob_user[2:4]\n",
    "            step+=1\n",
    "            print(ob_user)\n",
    "\n",
    "            ob_user = np.array(ob_user)[np.newaxis]\n",
    "            user_probs = self.user_actor.model(ob_user)\n",
    "            user_action = np.argmax(np.squeeze(user_probs))\n",
    "\n",
    "            action_user_one_hot = make_one_hot(user_action, 4)\n",
    "\n",
    "            ob_assist = [action_user_one_hot + curr_loc] \n",
    "            ob_assist = prev_steps_assist + ob_assist\n",
    "            ob_assist = np.array(ob_assist)[np.newaxis]\n",
    "\n",
    "            asst_probs = self.asst_actor.model([ob_assist, self.env_cell_mapping])\n",
    "            print(asst_probs)\n",
    "            asst_action = np.argmax(np.squeeze(asst_probs)) \n",
    "            new_loc, reward_user, reward_assist, done = self.env.step(user_action, asst_action + 1, target_loc, curr_loc)\n",
    "\n",
    "            next_ob_user = new_loc[:]\n",
    "            next_ob_user = next_ob_user + target_loc\n",
    "\n",
    "            ob_user = next_ob_user\n",
    "            prev_steps_assist = np.squeeze(ob_assist).tolist()[1:]\n",
    "            episode_reward+=reward_user\n",
    "\n",
    "\n"
   ]
  },
  {
   "cell_type": "code",
   "execution_count": 4,
   "metadata": {
    "scrolled": false
   },
   "outputs": [
    {
     "name": "stdout",
     "output_type": "stream",
     "text": [
      "Model: \"functional_1\"\n",
      "__________________________________________________________________________________________________\n",
      "Layer (type)                    Output Shape         Param #     Connected to                     \n",
      "==================================================================================================\n",
      "input_1 (InputLayer)            [(None, 4)]          0                                            \n",
      "__________________________________________________________________________________________________\n",
      "tf_op_layer_strided_slice (Tens [(None, 2)]          0           input_1[0][0]                    \n",
      "__________________________________________________________________________________________________\n",
      "tf_op_layer_strided_slice_1 (Te [(None, 2)]          0           input_1[0][0]                    \n",
      "__________________________________________________________________________________________________\n",
      "subtract (Subtract)             (None, 2)            0           tf_op_layer_strided_slice[0][0]  \n",
      "                                                                 tf_op_layer_strided_slice_1[0][0]\n",
      "__________________________________________________________________________________________________\n",
      "dense (Dense)                   (None, 32)           96          subtract[0][0]                   \n",
      "__________________________________________________________________________________________________\n",
      "dense_1 (Dense)                 (None, 64)           2112        dense[0][0]                      \n",
      "__________________________________________________________________________________________________\n",
      "dense_2 (Dense)                 (None, 4)            260         dense_1[0][0]                    \n",
      "==================================================================================================\n",
      "Total params: 2,468\n",
      "Trainable params: 2,468\n",
      "Non-trainable params: 0\n",
      "__________________________________________________________________________________________________\n",
      "Model: \"functional_3\"\n",
      "__________________________________________________________________________________________________\n",
      "Layer (type)                    Output Shape         Param #     Connected to                     \n",
      "==================================================================================================\n",
      "input_3 (InputLayer)            [(None, 11, 11, 1)]  0                                            \n",
      "__________________________________________________________________________________________________\n",
      "conv2d (Conv2D)                 (None, 9, 9, 2)      20          input_3[0][0]                    \n",
      "__________________________________________________________________________________________________\n",
      "input_2 (InputLayer)            [(None, 4, 6)]       0                                            \n",
      "__________________________________________________________________________________________________\n",
      "max_pooling2d (MaxPooling2D)    (None, 4, 4, 2)      0           conv2d[0][0]                     \n",
      "__________________________________________________________________________________________________\n",
      "dense_3 (Dense)                 (None, 4, 32)        224         input_2[0][0]                    \n",
      "__________________________________________________________________________________________________\n",
      "flatten (Flatten)               (None, 32)           0           max_pooling2d[0][0]              \n",
      "__________________________________________________________________________________________________\n",
      "lstm (LSTM)                     (None, 32)           8320        dense_3[0][0]                    \n",
      "__________________________________________________________________________________________________\n",
      "dense_4 (Dense)                 (None, 32)           1056        flatten[0][0]                    \n",
      "__________________________________________________________________________________________________\n",
      "concatenate (Concatenate)       (None, 64)           0           lstm[0][0]                       \n",
      "                                                                 dense_4[0][0]                    \n",
      "__________________________________________________________________________________________________\n",
      "dense_5 (Dense)                 (None, 32)           2080        concatenate[0][0]                \n",
      "__________________________________________________________________________________________________\n",
      "dense_6 (Dense)                 (None, 4)            132         dense_5[0][0]                    \n",
      "==================================================================================================\n",
      "Total params: 11,832\n",
      "Trainable params: 11,832\n",
      "Non-trainable params: 0\n",
      "__________________________________________________________________________________________________\n",
      "Model: \"functional_5\"\n",
      "__________________________________________________________________________________________________\n",
      "Layer (type)                    Output Shape         Param #     Connected to                     \n",
      "==================================================================================================\n",
      "input_4 (InputLayer)            [(None, 4)]          0                                            \n",
      "__________________________________________________________________________________________________\n",
      "tf_op_layer_strided_slice_2 (Te [(None, 2)]          0           input_4[0][0]                    \n",
      "__________________________________________________________________________________________________\n",
      "tf_op_layer_strided_slice_3 (Te [(None, 2)]          0           input_4[0][0]                    \n",
      "__________________________________________________________________________________________________\n",
      "input_6 (InputLayer)            [(None, 11, 11, 1)]  0                                            \n",
      "__________________________________________________________________________________________________\n",
      "subtract_1 (Subtract)           (None, 2)            0           tf_op_layer_strided_slice_2[0][0]\n",
      "                                                                 tf_op_layer_strided_slice_3[0][0]\n",
      "__________________________________________________________________________________________________\n",
      "conv2d_1 (Conv2D)               (None, 9, 9, 2)      20          input_6[0][0]                    \n",
      "__________________________________________________________________________________________________\n",
      "dense_7 (Dense)                 (None, 32)           96          subtract_1[0][0]                 \n",
      "__________________________________________________________________________________________________\n",
      "input_5 (InputLayer)            [(None, 4, 6)]       0                                            \n",
      "__________________________________________________________________________________________________\n",
      "max_pooling2d_1 (MaxPooling2D)  (None, 4, 4, 2)      0           conv2d_1[0][0]                   \n",
      "__________________________________________________________________________________________________\n",
      "dense_8 (Dense)                 (None, 64)           2112        dense_7[0][0]                    \n",
      "__________________________________________________________________________________________________\n",
      "dense_10 (Dense)                (None, 4, 32)        224         input_5[0][0]                    \n",
      "__________________________________________________________________________________________________\n",
      "flatten_1 (Flatten)             (None, 32)           0           max_pooling2d_1[0][0]            \n",
      "__________________________________________________________________________________________________\n",
      "input_7 (InputLayer)            [(None, 4)]          0                                            \n",
      "__________________________________________________________________________________________________\n",
      "dense_9 (Dense)                 (None, 32)           2080        dense_8[0][0]                    \n",
      "__________________________________________________________________________________________________\n",
      "lstm_1 (LSTM)                   (None, 32)           8320        dense_10[0][0]                   \n",
      "__________________________________________________________________________________________________\n",
      "dense_11 (Dense)                (None, 32)           1056        flatten_1[0][0]                  \n",
      "__________________________________________________________________________________________________\n",
      "dense_12 (Dense)                (None, 32)           160         input_7[0][0]                    \n",
      "__________________________________________________________________________________________________\n",
      "concatenate_1 (Concatenate)     (None, 128)          0           dense_9[0][0]                    \n",
      "                                                                 lstm_1[0][0]                     \n",
      "                                                                 dense_11[0][0]                   \n",
      "                                                                 dense_12[0][0]                   \n",
      "__________________________________________________________________________________________________\n",
      "dense_13 (Dense)                (None, 32)           4128        concatenate_1[0][0]              \n",
      "__________________________________________________________________________________________________\n",
      "dense_14 (Dense)                (None, 1)            33          dense_13[0][0]                   \n",
      "==================================================================================================\n",
      "Total params: 18,229\n",
      "Trainable params: 18,229\n",
      "Non-trainable params: 0\n",
      "__________________________________________________________________________________________________\n"
     ]
    },
    {
     "name": "stdout",
     "output_type": "stream",
     "text": [
      "Model: \"functional_7\"\n",
      "__________________________________________________________________________________________________\n",
      "Layer (type)                    Output Shape         Param #     Connected to                     \n",
      "==================================================================================================\n",
      "input_8 (InputLayer)            [(None, 4)]          0                                            \n",
      "__________________________________________________________________________________________________\n",
      "tf_op_layer_strided_slice_4 (Te [(None, 2)]          0           input_8[0][0]                    \n",
      "__________________________________________________________________________________________________\n",
      "tf_op_layer_strided_slice_5 (Te [(None, 2)]          0           input_8[0][0]                    \n",
      "__________________________________________________________________________________________________\n",
      "input_10 (InputLayer)           [(None, 11, 11, 1)]  0                                            \n",
      "__________________________________________________________________________________________________\n",
      "subtract_2 (Subtract)           (None, 2)            0           tf_op_layer_strided_slice_4[0][0]\n",
      "                                                                 tf_op_layer_strided_slice_5[0][0]\n",
      "__________________________________________________________________________________________________\n",
      "conv2d_2 (Conv2D)               (None, 9, 9, 2)      20          input_10[0][0]                   \n",
      "__________________________________________________________________________________________________\n",
      "dense_15 (Dense)                (None, 32)           96          subtract_2[0][0]                 \n",
      "__________________________________________________________________________________________________\n",
      "input_9 (InputLayer)            [(None, 4, 6)]       0                                            \n",
      "__________________________________________________________________________________________________\n",
      "max_pooling2d_2 (MaxPooling2D)  (None, 4, 4, 2)      0           conv2d_2[0][0]                   \n",
      "__________________________________________________________________________________________________\n",
      "dense_16 (Dense)                (None, 64)           2112        dense_15[0][0]                   \n",
      "__________________________________________________________________________________________________\n",
      "dense_18 (Dense)                (None, 4, 32)        224         input_9[0][0]                    \n",
      "__________________________________________________________________________________________________\n",
      "flatten_2 (Flatten)             (None, 32)           0           max_pooling2d_2[0][0]            \n",
      "__________________________________________________________________________________________________\n",
      "input_11 (InputLayer)           [(None, 4)]          0                                            \n",
      "__________________________________________________________________________________________________\n",
      "dense_17 (Dense)                (None, 32)           2080        dense_16[0][0]                   \n",
      "__________________________________________________________________________________________________\n",
      "lstm_2 (LSTM)                   (None, 32)           8320        dense_18[0][0]                   \n",
      "__________________________________________________________________________________________________\n",
      "dense_19 (Dense)                (None, 32)           1056        flatten_2[0][0]                  \n",
      "__________________________________________________________________________________________________\n",
      "dense_20 (Dense)                (None, 32)           160         input_11[0][0]                   \n",
      "__________________________________________________________________________________________________\n",
      "concatenate_2 (Concatenate)     (None, 128)          0           dense_17[0][0]                   \n",
      "                                                                 lstm_2[0][0]                     \n",
      "                                                                 dense_19[0][0]                   \n",
      "                                                                 dense_20[0][0]                   \n",
      "__________________________________________________________________________________________________\n",
      "dense_21 (Dense)                (None, 32)           4128        concatenate_2[0][0]              \n",
      "__________________________________________________________________________________________________\n",
      "dense_22 (Dense)                (None, 1)            33          dense_21[0][0]                   \n",
      "==================================================================================================\n",
      "Total params: 18,229\n",
      "Trainable params: 18,229\n",
      "Non-trainable params: 0\n",
      "__________________________________________________________________________________________________\n",
      "Icon Locations:\n",
      "[[0.1 0.1]\n",
      " [0.  0. ]\n",
      " [0.2 0.2]\n",
      " [0.3 0.6]\n",
      " [0.5 0.6]\n",
      " [0.1 0. ]]\n",
      "Icon usage Probabilities\n",
      "[0.16666667 0.16666667 0.16666667 0.16666667 0.16666667 0.16666667]\n"
     ]
    }
   ],
   "source": [
    "agent = Agent()"
   ]
  },
  {
   "cell_type": "code",
   "execution_count": 5,
   "metadata": {
    "scrolled": true
   },
   "outputs": [
    {
     "name": "stderr",
     "output_type": "stream",
     "text": [
      "  0%|                                                                             | 1/30000 [00:05<49:27:49,  5.94s/it]"
     ]
    },
    {
     "name": "stdout",
     "output_type": "stream",
     "text": [
      "-2.0\n"
     ]
    },
    {
     "name": "stderr",
     "output_type": "stream",
     "text": [
      "  0%|▎                                                                          | 101/30000 [05:42<27:59:28,  3.37s/it]"
     ]
    },
    {
     "name": "stdout",
     "output_type": "stream",
     "text": [
      "-32.96327306068885\n",
      "21\n"
     ]
    },
    {
     "name": "stderr",
     "output_type": "stream",
     "text": [
      "  1%|▌                                                                          | 200/30000 [10:46<21:17:06,  2.57s/it]"
     ]
    },
    {
     "name": "stdout",
     "output_type": "stream",
     "text": [
      "-36.069409605292435\n",
      "18\n",
      "[0.4, 0.9, 0.6, 0.2]\n",
      "tf.Tensor([[0.19349806 0.3466455  0.24670254 0.21315384]], shape=(1, 4), dtype=float32)\n",
      "[0.2, 0.9, 0.6, 0.2]\n",
      "tf.Tensor([[0.20147534 0.35826245 0.23544517 0.20481709]], shape=(1, 4), dtype=float32)\n",
      "[0.0, 0.9, 0.6, 0.2]\n",
      "tf.Tensor([[0.20876299 0.36903018 0.22357441 0.19863242]], shape=(1, 4), dtype=float32)\n",
      "[0.0, 0.9, 0.6, 0.2]\n",
      "tf.Tensor([[0.21251573 0.37578097 0.21577115 0.19593216]], shape=(1, 4), dtype=float32)\n",
      "[0.0, 0.9, 0.6, 0.2]\n",
      "tf.Tensor([[0.21304215 0.37619877 0.21465172 0.19610733]], shape=(1, 4), dtype=float32)\n",
      "[0.0, 0.9, 0.6, 0.2]\n",
      "tf.Tensor([[0.21328154 0.3764022  0.21409416 0.19622211]], shape=(1, 4), dtype=float32)\n",
      "[0.0, 0.9, 0.6, 0.2]\n",
      "tf.Tensor([[0.21328154 0.3764022  0.21409416 0.19622211]], shape=(1, 4), dtype=float32)\n",
      "[0.0, 0.9, 0.6, 0.2]\n",
      "tf.Tensor([[0.21328154 0.3764022  0.21409416 0.19622211]], shape=(1, 4), dtype=float32)\n",
      "[0.0, 0.9, 0.6, 0.2]\n",
      "tf.Tensor([[0.21328154 0.3764022  0.21409416 0.19622211]], shape=(1, 4), dtype=float32)\n",
      "[0.0, 0.9, 0.6, 0.2]\n",
      "tf.Tensor([[0.21328154 0.3764022  0.21409416 0.19622211]], shape=(1, 4), dtype=float32)\n",
      "[0.0, 0.9, 0.6, 0.2]\n",
      "tf.Tensor([[0.21328154 0.3764022  0.21409416 0.19622211]], shape=(1, 4), dtype=float32)\n",
      "[0.0, 0.9, 0.6, 0.2]\n",
      "tf.Tensor([[0.21328154 0.3764022  0.21409416 0.19622211]], shape=(1, 4), dtype=float32)\n",
      "[0.0, 0.9, 0.6, 0.2]\n",
      "tf.Tensor([[0.21328154 0.3764022  0.21409416 0.19622211]], shape=(1, 4), dtype=float32)\n",
      "[0.0, 0.9, 0.6, 0.2]\n",
      "tf.Tensor([[0.21328154 0.3764022  0.21409416 0.19622211]], shape=(1, 4), dtype=float32)\n",
      "[0.0, 0.9, 0.6, 0.2]\n",
      "tf.Tensor([[0.21328154 0.3764022  0.21409416 0.19622211]], shape=(1, 4), dtype=float32)"
     ]
    },
    {
     "name": "stderr",
     "output_type": "stream",
     "text": [
      "\r",
      "  1%|▌                                                                          | 201/30000 [10:49<23:14:33,  2.81s/it]"
     ]
    },
    {
     "name": "stdout",
     "output_type": "stream",
     "text": [
      "\n",
      "[0.0, 0.9, 0.6, 0.2]\n",
      "tf.Tensor([[0.21328154 0.3764022  0.21409416 0.19622211]], shape=(1, 4), dtype=float32)\n",
      "[0.0, 0.9, 0.6, 0.2]\n",
      "tf.Tensor([[0.21328154 0.3764022  0.21409416 0.19622211]], shape=(1, 4), dtype=float32)\n",
      "[0.0, 0.9, 0.6, 0.2]\n",
      "tf.Tensor([[0.21328154 0.3764022  0.21409416 0.19622211]], shape=(1, 4), dtype=float32)\n",
      "[0.0, 0.9, 0.6, 0.2]\n",
      "tf.Tensor([[0.21328154 0.3764022  0.21409416 0.19622211]], shape=(1, 4), dtype=float32)\n",
      "[0.0, 0.9, 0.6, 0.2]\n",
      "tf.Tensor([[0.21328154 0.3764022  0.21409416 0.19622211]], shape=(1, 4), dtype=float32)\n"
     ]
    },
    {
     "name": "stderr",
     "output_type": "stream",
     "text": [
      "  1%|▊                                                                          | 301/30000 [15:49<29:47:45,  3.61s/it]"
     ]
    },
    {
     "name": "stdout",
     "output_type": "stream",
     "text": [
      "-37.491423782114545\n",
      "17\n"
     ]
    },
    {
     "name": "stderr",
     "output_type": "stream",
     "text": [
      "  1%|█                                                                          | 401/30000 [20:43<19:13:03,  2.34s/it]"
     ]
    },
    {
     "name": "stdout",
     "output_type": "stream",
     "text": [
      "-34.87193944382271\n",
      "12\n",
      "[0.9, 0.2, 0.2, 0.9]\n",
      "tf.Tensor([[0.21086097 0.34938744 0.21455385 0.2251978 ]], shape=(1, 4), dtype=float32)\n",
      "[0.7, 0.2, 0.2, 0.9]\n",
      "tf.Tensor([[0.21385188 0.35800603 0.20629732 0.22184476]], shape=(1, 4), dtype=float32)\n",
      "[0.5, 0.2, 0.2, 0.9]\n",
      "tf.Tensor([[0.2163678  0.36302525 0.20056924 0.2200377 ]], shape=(1, 4), dtype=float32)\n",
      "[0.3, 0.2, 0.2, 0.9]\n",
      "tf.Tensor([[0.2185828  0.36582845 0.1963404  0.21924838]], shape=(1, 4), dtype=float32)\n",
      "[0.1, 0.2, 0.2, 0.9]\n",
      "tf.Tensor([[0.21927358 0.3659579  0.19840461 0.21636388]], shape=(1, 4), dtype=float32)\n",
      "[0.1, 0.4, 0.2, 0.9]\n",
      "tf.Tensor([[0.22094177 0.364699   0.19906834 0.21529093]], shape=(1, 4), dtype=float32)\n",
      "[0.1, 0.6, 0.2, 0.9]\n",
      "tf.Tensor([[0.22211498 0.36303464 0.19924103 0.21560942]], shape=(1, 4), dtype=float32)\n",
      "[0.1, 0.8, 0.2, 0.9]\n",
      "tf.Tensor([[0.22286402 0.35972115 0.20030315 0.21711163]], shape=(1, 4), dtype=float32)\n",
      "[0.3, 0.8, 0.2, 0.9]\n",
      "tf.Tensor([[0.22531836 0.36604285 0.19696455 0.21167423]], shape=(1, 4), dtype=float32)\n",
      "[0.1, 0.8, 0.2, 0.9]\n",
      "tf.Tensor([[0.22642288 0.36379722 0.19719806 0.2125818 ]], shape=(1, 4), dtype=float32)\n",
      "[0.3, 0.8, 0.2, 0.9]\n",
      "tf.Tensor([[0.2261811  0.36972788 0.19507669 0.20901433]], shape=(1, 4), dtype=float32)\n",
      "[0.1, 0.8, 0.2, 0.9]\n",
      "tf.Tensor([[0.22687379 0.36721525 0.19610856 0.20980231]], shape=(1, 4), dtype=float32)\n",
      "[0.3, 0.8, 0.2, 0.9]\n",
      "tf.Tensor([[0.2261811  0.36972788 0.19507669 0.20901433]], shape=(1, 4), dtype=float32)\n",
      "[0.1, 0.8, 0.2, 0.9]\n",
      "tf.Tensor([[0.22687379 0.36721525 0.19610856 0.20980231]], shape=(1, 4), dtype=float32)\n",
      "[0.3, 0.8, 0.2, 0.9]\n",
      "tf.Tensor([[0.2261811  0.36972788 0.19507669 0.20901433]], shape=(1, 4), dtype=float32)\n",
      "[0.1, 0.8, 0.2, 0.9]\n",
      "tf.Tensor([[0.22687379 0.36721525 0.19610856 0.20980231]], shape=(1, 4), dtype=float32)\n",
      "[0.3, 0.8, 0.2, 0.9]\n",
      "tf.Tensor([[0.2261811  0.36972788 0.19507669 0.20901433]], shape=(1, 4), dtype=float32)\n",
      "[0.1, 0.8, 0.2, 0.9]\n",
      "tf.Tensor([[0.22687379 0.36721525 0.19610856 0.20980231]], shape=(1, 4), dtype=float32)\n",
      "[0.3, 0.8, 0.2, 0.9]\n",
      "tf.Tensor([[0.2261811  0.36972788 0.19507669 0.20901433]], shape=(1, 4), dtype=float32)\n",
      "[0.1, 0.8, 0.2, 0.9]\n",
      "tf.Tensor([[0.22687379 0.36721525 0.19610856 0.20980231]], shape=(1, 4), dtype=float32)\n"
     ]
    },
    {
     "name": "stderr",
     "output_type": "stream",
     "text": [
      "  2%|█▎                                                                         | 501/30000 [25:07<21:28:21,  2.62s/it]"
     ]
    },
    {
     "name": "stdout",
     "output_type": "stream",
     "text": [
      "-36.05139514977465\n",
      "12\n"
     ]
    },
    {
     "name": "stderr",
     "output_type": "stream",
     "text": [
      "  2%|█▌                                                                         | 600/30000 [29:50<23:16:53,  2.85s/it]"
     ]
    },
    {
     "name": "stdout",
     "output_type": "stream",
     "text": [
      "-36.06160258425996\n",
      "18\n",
      "[0.4, 0.5, 0.6, 0.2]\n",
      "tf.Tensor([[0.22493431 0.35404778 0.20107645 0.21994148]], shape=(1, 4), dtype=float32)\n",
      "[0.6, 0.5, 0.6, 0.2]\n",
      "tf.Tensor([[0.23068602 0.3680703  0.1899344  0.21130921]], shape=(1, 4), dtype=float32)\n",
      "[0.4, 0.5, 0.6, 0.2]\n",
      "tf.Tensor([[0.23361854 0.37292087 0.18536931 0.2080913 ]], shape=(1, 4), dtype=float32)\n",
      "[0.6, 0.5, 0.6, 0.2]\n",
      "tf.Tensor([[0.2352211  0.38134536 0.17787379 0.20555976]], shape=(1, 4), dtype=float32)\n",
      "[0.4, 0.5, 0.6, 0.2]\n",
      "tf.Tensor([[0.23643172 0.3804619  0.17833534 0.20477109]], shape=(1, 4), dtype=float32)\n",
      "[0.6, 0.5, 0.6, 0.2]\n",
      "tf.Tensor([[0.2352211  0.38134536 0.17787379 0.20555976]], shape=(1, 4), dtype=float32)\n",
      "[0.4, 0.5, 0.6, 0.2]\n",
      "tf.Tensor([[0.23643172 0.3804619  0.17833534 0.20477109]], shape=(1, 4), dtype=float32)\n",
      "[0.6, 0.5, 0.6, 0.2]\n",
      "tf.Tensor([[0.2352211  0.38134536 0.17787379 0.20555976]], shape=(1, 4), dtype=float32)\n",
      "[0.4, 0.5, 0.6, 0.2]\n",
      "tf.Tensor([[0.23643172 0.3804619  0.17833534 0.20477109]], shape=(1, 4), dtype=float32)\n",
      "[0.6, 0.5, 0.6, 0.2]\n",
      "tf.Tensor([[0.2352211  0.38134536 0.17787379 0.20555976]], shape=(1, 4), dtype=float32)\n",
      "[0.4, 0.5, 0.6, 0.2]\n",
      "tf.Tensor([[0.23643172 0.3804619  0.17833534 0.20477109]], shape=(1, 4), dtype=float32)\n",
      "[0.6, 0.5, 0.6, 0.2]\n",
      "tf.Tensor([[0.2352211  0.38134536 0.17787379 0.20555976]], shape=(1, 4), dtype=float32)\n",
      "[0.4, 0.5, 0.6, 0.2]\n",
      "tf.Tensor([[0.23643172 0.3804619  0.17833534 0.20477109]], shape=(1, 4), dtype=float32)\n",
      "[0.6, 0.5, 0.6, 0.2]\n",
      "tf.Tensor([[0.2352211  0.38134536 0.17787379 0.20555976]], shape=(1, 4), dtype=float32)\n",
      "[0.4, 0.5, 0.6, 0.2]\n",
      "tf.Tensor([[0.23643172 0.3804619  0.17833534 0.20477109]], shape=(1, 4), dtype=float32)\n",
      "[0.6, 0.5, 0.6, 0.2]\n",
      "tf.Tensor([[0.2352211  0.38134536 0.17787379 0.20555976]], shape=(1, 4), dtype=float32)\n",
      "[0.4, 0.5, 0.6, 0.2]\n",
      "tf.Tensor([[0.23643172 0.3804619  0.17833534 0.20477109]], shape=(1, 4), dtype=float32)\n"
     ]
    },
    {
     "name": "stderr",
     "output_type": "stream",
     "text": [
      "\r",
      "  2%|█▌                                                                         | 601/30000 [29:53<24:01:56,  2.94s/it]"
     ]
    },
    {
     "name": "stdout",
     "output_type": "stream",
     "text": [
      "[0.6, 0.5, 0.6, 0.2]\n",
      "tf.Tensor([[0.2352211  0.38134536 0.17787379 0.20555976]], shape=(1, 4), dtype=float32)\n",
      "[0.4, 0.5, 0.6, 0.2]\n",
      "tf.Tensor([[0.23643172 0.3804619  0.17833534 0.20477109]], shape=(1, 4), dtype=float32)\n",
      "[0.6, 0.5, 0.6, 0.2]\n",
      "tf.Tensor([[0.2352211  0.38134536 0.17787379 0.20555976]], shape=(1, 4), dtype=float32)\n"
     ]
    },
    {
     "name": "stderr",
     "output_type": "stream",
     "text": [
      "  2%|█▊                                                                         | 701/30000 [33:54<18:46:08,  2.31s/it]"
     ]
    },
    {
     "name": "stdout",
     "output_type": "stream",
     "text": [
      "-31.78728816146519\n",
      "25\n"
     ]
    },
    {
     "name": "stderr",
     "output_type": "stream",
     "text": [
      "  3%|██                                                                         | 800/30000 [38:35<18:22:20,  2.27s/it]"
     ]
    },
    {
     "name": "stdout",
     "output_type": "stream",
     "text": [
      "-33.11203907659804\n",
      "19\n",
      "[0.8, 0.5, 0.5, 0.7]\n",
      "tf.Tensor([[0.21785265 0.4008107  0.1684828  0.21285388]], shape=(1, 4), dtype=float32)\n",
      "[0.6, 0.5, 0.5, 0.7]\n",
      "tf.Tensor([[0.22080697 0.41035956 0.16213246 0.20670103]], shape=(1, 4), dtype=float32)\n",
      "[0.4, 0.5, 0.5, 0.7]\n",
      "tf.Tensor([[0.22126038 0.42162317 0.15668188 0.20043452]], shape=(1, 4), dtype=float32)\n",
      "[0.4, 0.7, 0.5, 0.7]\n",
      "tf.Tensor([[0.22279443 0.42502633 0.15301146 0.1991678 ]], shape=(1, 4), dtype=float32)\n",
      "[0.6, 0.7, 0.5, 0.7]\n",
      "tf.Tensor([[0.22239287 0.42467064 0.1533201  0.19961642]], shape=(1, 4), dtype=float32)\n",
      "[0.4, 0.7, 0.5, 0.7]\n",
      "tf.Tensor([[0.2235526  0.42239112 0.15359162 0.20046474]], shape=(1, 4), dtype=float32)\n",
      "[0.6, 0.7, 0.5, 0.7]\n",
      "tf.Tensor([[0.2241305  0.42146698 0.15285154 0.201551  ]], shape=(1, 4), dtype=float32)\n",
      "[0.4, 0.7, 0.5, 0.7]\n",
      "tf.Tensor([[0.22482854 0.42084867 0.1533885  0.20093429]], shape=(1, 4), dtype=float32)\n",
      "[0.6, 0.7, 0.5, 0.7]\n",
      "tf.Tensor([[0.2241305  0.42146698 0.15285154 0.201551  ]], shape=(1, 4), dtype=float32)\n",
      "[0.4, 0.7, 0.5, 0.7]\n",
      "tf.Tensor([[0.22482854 0.42084867 0.1533885  0.20093429]], shape=(1, 4), dtype=float32)\n",
      "[0.6, 0.7, 0.5, 0.7]\n",
      "tf.Tensor([[0.2241305  0.42146698 0.15285154 0.201551  ]], shape=(1, 4), dtype=float32)\n",
      "[0.4, 0.7, 0.5, 0.7]\n",
      "tf.Tensor([[0.22482854 0.42084867 0.1533885  0.20093429]], shape=(1, 4), dtype=float32)\n",
      "[0.6, 0.7, 0.5, 0.7]\n",
      "tf.Tensor([[0.2241305  0.42146698 0.15285154 0.201551  ]], shape=(1, 4), dtype=float32)\n",
      "[0.4, 0.7, 0.5, 0.7]\n",
      "tf.Tensor([[0.22482854 0.42084867 0.1533885  0.20093429]], shape=(1, 4), dtype=float32)\n",
      "[0.6, 0.7, 0.5, 0.7]\n",
      "tf.Tensor([[0.2241305  0.42146698 0.15285154 0.201551  ]], shape=(1, 4), dtype=float32)\n",
      "[0.4, 0.7, 0.5, 0.7]\n",
      "tf.Tensor([[0.22482854 0.42084867 0.1533885  0.20093429]], shape=(1, 4), dtype=float32)"
     ]
    },
    {
     "name": "stderr",
     "output_type": "stream",
     "text": [
      "\r",
      "  3%|██                                                                         | 801/30000 [38:39<20:48:57,  2.57s/it]"
     ]
    },
    {
     "name": "stdout",
     "output_type": "stream",
     "text": [
      "\n",
      "[0.6, 0.7, 0.5, 0.7]\n",
      "tf.Tensor([[0.2241305  0.42146698 0.15285154 0.201551  ]], shape=(1, 4), dtype=float32)\n",
      "[0.4, 0.7, 0.5, 0.7]\n",
      "tf.Tensor([[0.22482854 0.42084867 0.1533885  0.20093429]], shape=(1, 4), dtype=float32)\n",
      "[0.6, 0.7, 0.5, 0.7]\n",
      "tf.Tensor([[0.2241305  0.42146698 0.15285154 0.201551  ]], shape=(1, 4), dtype=float32)\n",
      "[0.4, 0.7, 0.5, 0.7]\n",
      "tf.Tensor([[0.22482854 0.42084867 0.1533885  0.20093429]], shape=(1, 4), dtype=float32)\n"
     ]
    },
    {
     "name": "stderr",
     "output_type": "stream",
     "text": [
      "  3%|██▎                                                                        | 901/30000 [43:40<26:42:27,  3.30s/it]"
     ]
    },
    {
     "name": "stdout",
     "output_type": "stream",
     "text": [
      "-32.764397518414114\n",
      "14\n"
     ]
    },
    {
     "name": "stderr",
     "output_type": "stream",
     "text": [
      "  3%|██▍                                                                       | 1000/30000 [49:17<23:19:38,  2.90s/it]"
     ]
    },
    {
     "name": "stdout",
     "output_type": "stream",
     "text": [
      "-32.5292783090659\n",
      "20\n",
      "[0.3, 0.1, 0.2, 0.9]\n",
      "tf.Tensor([[0.22228098 0.40127456 0.16565698 0.21078742]], shape=(1, 4), dtype=float32)\n",
      "[0.3, 0.3, 0.2, 0.9]\n",
      "tf.Tensor([[0.22428557 0.4168501  0.1580206  0.2008438 ]], shape=(1, 4), dtype=float32)\n",
      "[0.3, 0.5, 0.2, 0.9]\n",
      "tf.Tensor([[0.22749901 0.4297506  0.15160914 0.19114128]], shape=(1, 4), dtype=float32)\n",
      "[0.3, 0.7, 0.2, 0.9]\n",
      "tf.Tensor([[0.22951026 0.43611458 0.14703645 0.18733881]], shape=(1, 4), dtype=float32)\n",
      "[0.1, 0.7, 0.2, 0.9]\n",
      "tf.Tensor([[0.23354147 0.43176007 0.14527856 0.18941987]], shape=(1, 4), dtype=float32)\n",
      "[0.1, 0.9, 0.2, 0.9]\n",
      "tf.Tensor([[0.23651685 0.42870122 0.14302318 0.19175869]], shape=(1, 4), dtype=float32)\n",
      "[0.3, 0.9, 0.2, 0.9]\n",
      "tf.Tensor([[0.23690248 0.42848358 0.1416738  0.1929402 ]], shape=(1, 4), dtype=float32)\n",
      "[0.1, 0.9, 0.2, 0.9]\n",
      "tf.Tensor([[0.2391734  0.426562   0.14092635 0.1933383 ]], shape=(1, 4), dtype=float32)\n",
      "[0.3, 0.9, 0.2, 0.9]\n",
      "tf.Tensor([[0.2378032  0.42857468 0.14003788 0.19358423]], shape=(1, 4), dtype=float32)\n",
      "[0.1, 0.9, 0.2, 0.9]\n",
      "tf.Tensor([[0.2390271  0.42755166 0.14058289 0.19283837]], shape=(1, 4), dtype=float32)\n",
      "[0.3, 0.9, 0.2, 0.9]\n",
      "tf.Tensor([[0.2378032  0.42857468 0.14003788 0.19358423]], shape=(1, 4), dtype=float32)\n",
      "[0.1, 0.9, 0.2, 0.9]\n",
      "tf.Tensor([[0.2390271  0.42755166 0.14058289 0.19283837]], shape=(1, 4), dtype=float32)\n",
      "[0.3, 0.9, 0.2, 0.9]\n",
      "tf.Tensor([[0.2378032  0.42857468 0.14003788 0.19358423]], shape=(1, 4), dtype=float32)\n",
      "[0.1, 0.9, 0.2, 0.9]\n",
      "tf.Tensor([[0.2390271  0.42755166 0.14058289 0.19283837]], shape=(1, 4), dtype=float32)\n",
      "[0.3, 0.9, 0.2, 0.9]\n",
      "tf.Tensor([[0.2378032  0.42857468 0.14003788 0.19358423]], shape=(1, 4), dtype=float32)\n",
      "[0.1, 0.9, 0.2, 0.9]\n",
      "tf.Tensor([[0.2390271  0.42755166 0.14058289 0.19283837]], shape=(1, 4), dtype=float32)\n"
     ]
    },
    {
     "name": "stderr",
     "output_type": "stream",
     "text": [
      "\r",
      "  3%|██▍                                                                       | 1001/30000 [49:18<18:23:45,  2.28s/it]"
     ]
    },
    {
     "name": "stdout",
     "output_type": "stream",
     "text": [
      "[0.3, 0.9, 0.2, 0.9]\n",
      "tf.Tensor([[0.2378032  0.42857468 0.14003788 0.19358423]], shape=(1, 4), dtype=float32)\n",
      "[0.1, 0.9, 0.2, 0.9]\n",
      "tf.Tensor([[0.2390271  0.42755166 0.14058289 0.19283837]], shape=(1, 4), dtype=float32)\n",
      "[0.3, 0.9, 0.2, 0.9]\n",
      "tf.Tensor([[0.2378032  0.42857468 0.14003788 0.19358423]], shape=(1, 4), dtype=float32)\n",
      "[0.1, 0.9, 0.2, 0.9]\n",
      "tf.Tensor([[0.2390271  0.42755166 0.14058289 0.19283837]], shape=(1, 4), dtype=float32)\n"
     ]
    },
    {
     "name": "stderr",
     "output_type": "stream",
     "text": [
      "  4%|██▋                                                                       | 1101/30000 [53:57<28:38:48,  3.57s/it]"
     ]
    },
    {
     "name": "stdout",
     "output_type": "stream",
     "text": [
      "-31.386881508866495\n",
      "19\n"
     ]
    },
    {
     "name": "stderr",
     "output_type": "stream",
     "text": [
      "  4%|██▉                                                                       | 1201/30000 [58:59<19:53:15,  2.49s/it]"
     ]
    },
    {
     "name": "stdout",
     "output_type": "stream",
     "text": [
      "-33.579338656633084\n",
      "23\n",
      "[0.5, 0.5, 0.7, 0.1]\n",
      "tf.Tensor([[0.22497532 0.41068906 0.1579817  0.20635399]], shape=(1, 4), dtype=float32)\n",
      "[0.7, 0.5, 0.7, 0.1]\n",
      "tf.Tensor([[0.2322257  0.42055133 0.14843184 0.1987911 ]], shape=(1, 4), dtype=float32)\n",
      "[0.5, 0.5, 0.7, 0.1]\n",
      "tf.Tensor([[0.23425654 0.4250643  0.144977   0.19570214]], shape=(1, 4), dtype=float32)\n",
      "[0.7, 0.5, 0.7, 0.1]\n",
      "tf.Tensor([[0.23862499 0.4283576  0.14056034 0.19245711]], shape=(1, 4), dtype=float32)\n",
      "[0.5, 0.5, 0.7, 0.1]\n",
      "tf.Tensor([[0.23798876 0.42901146 0.14018492 0.1928148 ]], shape=(1, 4), dtype=float32)\n",
      "[0.7, 0.5, 0.7, 0.1]\n",
      "tf.Tensor([[0.23862499 0.4283576  0.14056034 0.19245711]], shape=(1, 4), dtype=float32)\n",
      "[0.5, 0.5, 0.7, 0.1]\n",
      "tf.Tensor([[0.23798876 0.42901146 0.14018492 0.1928148 ]], shape=(1, 4), dtype=float32)\n",
      "[0.7, 0.5, 0.7, 0.1]\n",
      "tf.Tensor([[0.23862499 0.4283576  0.14056034 0.19245711]], shape=(1, 4), dtype=float32)\n",
      "[0.5, 0.5, 0.7, 0.1]\n",
      "tf.Tensor([[0.23798876 0.42901146 0.14018492 0.1928148 ]], shape=(1, 4), dtype=float32)\n",
      "[0.7, 0.5, 0.7, 0.1]\n",
      "tf.Tensor([[0.23862499 0.4283576  0.14056034 0.19245711]], shape=(1, 4), dtype=float32)\n",
      "[0.5, 0.5, 0.7, 0.1]\n",
      "tf.Tensor([[0.23798876 0.42901146 0.14018492 0.1928148 ]], shape=(1, 4), dtype=float32)\n",
      "[0.7, 0.5, 0.7, 0.1]\n",
      "tf.Tensor([[0.23862499 0.4283576  0.14056034 0.19245711]], shape=(1, 4), dtype=float32)\n",
      "[0.5, 0.5, 0.7, 0.1]\n",
      "tf.Tensor([[0.23798876 0.42901146 0.14018492 0.1928148 ]], shape=(1, 4), dtype=float32)\n",
      "[0.7, 0.5, 0.7, 0.1]\n",
      "tf.Tensor([[0.23862499 0.4283576  0.14056034 0.19245711]], shape=(1, 4), dtype=float32)\n",
      "[0.5, 0.5, 0.7, 0.1]\n",
      "tf.Tensor([[0.23798876 0.42901146 0.14018492 0.1928148 ]], shape=(1, 4), dtype=float32)\n",
      "[0.7, 0.5, 0.7, 0.1]\n",
      "tf.Tensor([[0.23862499 0.4283576  0.14056034 0.19245711]], shape=(1, 4), dtype=float32)\n",
      "[0.5, 0.5, 0.7, 0.1]\n",
      "tf.Tensor([[0.23798876 0.42901146 0.14018492 0.1928148 ]], shape=(1, 4), dtype=float32)\n",
      "[0.7, 0.5, 0.7, 0.1]\n",
      "tf.Tensor([[0.23862499 0.4283576  0.14056034 0.19245711]], shape=(1, 4), dtype=float32)\n",
      "[0.5, 0.5, 0.7, 0.1]\n",
      "tf.Tensor([[0.23798876 0.42901146 0.14018492 0.1928148 ]], shape=(1, 4), dtype=float32)\n",
      "[0.7, 0.5, 0.7, 0.1]\n",
      "tf.Tensor([[0.23862499 0.4283576  0.14056034 0.19245711]], shape=(1, 4), dtype=float32)\n"
     ]
    },
    {
     "name": "stderr",
     "output_type": "stream",
     "text": [
      "  4%|███                                                                     | 1301/30000 [1:02:38<25:06:07,  3.15s/it]"
     ]
    },
    {
     "name": "stdout",
     "output_type": "stream",
     "text": [
      "-37.10950463611453\n",
      "17\n"
     ]
    },
    {
     "name": "stderr",
     "output_type": "stream",
     "text": [
      "  5%|███▎                                                                    | 1400/30000 [1:07:07<18:01:23,  2.27s/it]"
     ]
    },
    {
     "name": "stdout",
     "output_type": "stream",
     "text": [
      "-30.208434308461452\n",
      "28\n",
      "[0.7, 0.7, 0.6, 0.2]\n",
      "tf.Tensor([[0.24375418 0.4261521  0.14748086 0.18261284]], shape=(1, 4), dtype=float32)\n",
      "[0.5, 0.7, 0.6, 0.2]\n",
      "tf.Tensor([[0.25116387 0.42683506 0.14347868 0.17852248]], shape=(1, 4), dtype=float32)\n",
      "[0.3, 0.7, 0.6, 0.2]\n",
      "tf.Tensor([[0.25613597 0.42817485 0.13959248 0.17609668]], shape=(1, 4), dtype=float32)\n",
      "[0.5, 0.7, 0.6, 0.2]\n",
      "tf.Tensor([[0.2603887  0.42856154 0.13640255 0.17464726]], shape=(1, 4), dtype=float32)\n",
      "[0.3, 0.7, 0.6, 0.2]\n",
      "tf.Tensor([[0.26063994 0.4291284  0.13536294 0.17486873]], shape=(1, 4), dtype=float32)\n",
      "[0.5, 0.7, 0.6, 0.2]\n",
      "tf.Tensor([[0.2602427  0.4284897  0.13565142 0.17561622]], shape=(1, 4), dtype=float32)"
     ]
    },
    {
     "name": "stderr",
     "output_type": "stream",
     "text": [
      "\r",
      "  5%|███▎                                                                    | 1401/30000 [1:07:10<20:44:28,  2.61s/it]"
     ]
    },
    {
     "name": "stdout",
     "output_type": "stream",
     "text": [
      "\n",
      "[0.3, 0.7, 0.6, 0.2]\n",
      "tf.Tensor([[0.26063994 0.4291284  0.13536294 0.17486873]], shape=(1, 4), dtype=float32)\n",
      "[0.5, 0.7, 0.6, 0.2]\n",
      "tf.Tensor([[0.2602427  0.4284897  0.13565142 0.17561622]], shape=(1, 4), dtype=float32)\n",
      "[0.3, 0.7, 0.6, 0.2]\n",
      "tf.Tensor([[0.26063994 0.4291284  0.13536294 0.17486873]], shape=(1, 4), dtype=float32)\n",
      "[0.5, 0.7, 0.6, 0.2]\n",
      "tf.Tensor([[0.2602427  0.4284897  0.13565142 0.17561622]], shape=(1, 4), dtype=float32)\n",
      "[0.3, 0.7, 0.6, 0.2]\n",
      "tf.Tensor([[0.26063994 0.4291284  0.13536294 0.17486873]], shape=(1, 4), dtype=float32)\n",
      "[0.5, 0.7, 0.6, 0.2]\n",
      "tf.Tensor([[0.2602427  0.4284897  0.13565142 0.17561622]], shape=(1, 4), dtype=float32)\n",
      "[0.3, 0.7, 0.6, 0.2]\n",
      "tf.Tensor([[0.26063994 0.4291284  0.13536294 0.17486873]], shape=(1, 4), dtype=float32)\n",
      "[0.5, 0.7, 0.6, 0.2]\n",
      "tf.Tensor([[0.2602427  0.4284897  0.13565142 0.17561622]], shape=(1, 4), dtype=float32)\n",
      "[0.3, 0.7, 0.6, 0.2]\n",
      "tf.Tensor([[0.26063994 0.4291284  0.13536294 0.17486873]], shape=(1, 4), dtype=float32)\n",
      "[0.5, 0.7, 0.6, 0.2]\n",
      "tf.Tensor([[0.2602427  0.4284897  0.13565142 0.17561622]], shape=(1, 4), dtype=float32)\n",
      "[0.3, 0.7, 0.6, 0.2]\n",
      "tf.Tensor([[0.26063994 0.4291284  0.13536294 0.17486873]], shape=(1, 4), dtype=float32)\n",
      "[0.5, 0.7, 0.6, 0.2]\n",
      "tf.Tensor([[0.2602427  0.4284897  0.13565142 0.17561622]], shape=(1, 4), dtype=float32)\n",
      "[0.3, 0.7, 0.6, 0.2]\n",
      "tf.Tensor([[0.26063994 0.4291284  0.13536294 0.17486873]], shape=(1, 4), dtype=float32)\n",
      "[0.5, 0.7, 0.6, 0.2]\n",
      "tf.Tensor([[0.2602427  0.4284897  0.13565142 0.17561622]], shape=(1, 4), dtype=float32)\n"
     ]
    },
    {
     "name": "stderr",
     "output_type": "stream",
     "text": [
      "  5%|███▌                                                                    | 1501/30000 [1:11:09<13:51:53,  1.75s/it]"
     ]
    },
    {
     "name": "stdout",
     "output_type": "stream",
     "text": [
      "-29.592782803589973\n",
      "21\n"
     ]
    },
    {
     "name": "stderr",
     "output_type": "stream",
     "text": [
      "  5%|███▊                                                                    | 1600/30000 [1:15:19<24:00:55,  3.04s/it]"
     ]
    },
    {
     "name": "stdout",
     "output_type": "stream",
     "text": [
      "-32.090125591144776\n",
      "31\n",
      "[0.7, 0.4, 0.2, 0.9]\n",
      "tf.Tensor([[0.25528964 0.39744532 0.15727027 0.18999477]], shape=(1, 4), dtype=float32)\n",
      "[0.5, 0.4, 0.2, 0.9]\n",
      "tf.Tensor([[0.26230466 0.3992625  0.15279053 0.18564233]], shape=(1, 4), dtype=float32)\n",
      "[0.3, 0.4, 0.2, 0.9]\n",
      "tf.Tensor([[0.26745525 0.40409216 0.14745426 0.18099837]], shape=(1, 4), dtype=float32)\n",
      "[0.3, 0.6, 0.2, 0.9]\n",
      "tf.Tensor([[0.27125356 0.4082771  0.14463055 0.17583883]], shape=(1, 4), dtype=float32)\n",
      "[0.3, 0.8, 0.2, 0.9]\n",
      "tf.Tensor([[0.2708692  0.40615782 0.14578378 0.17718914]], shape=(1, 4), dtype=float32)\n",
      "[0.1, 0.8, 0.2, 0.9]\n",
      "tf.Tensor([[0.27273607 0.40362296 0.14397252 0.17966843]], shape=(1, 4), dtype=float32)\n",
      "[0.3, 0.8, 0.2, 0.9]\n",
      "tf.Tensor([[0.2738955  0.4007451  0.14433369 0.18102562]], shape=(1, 4), dtype=float32)\n",
      "[0.1, 0.8, 0.2, 0.9]\n",
      "tf.Tensor([[0.27624357 0.39897263 0.14256074 0.18222304]], shape=(1, 4), dtype=float32)\n",
      "[0.3, 0.8, 0.2, 0.9]\n",
      "tf.Tensor([[0.27519906 0.39881748 0.14294635 0.18303709]], shape=(1, 4), dtype=float32)\n",
      "[0.1, 0.8, 0.2, 0.9]\n",
      "tf.Tensor([[0.27624357 0.39897263 0.14256074 0.18222304]], shape=(1, 4), dtype=float32)\n",
      "[0.3, 0.8, 0.2, 0.9]\n",
      "tf.Tensor([[0.27519906 0.39881748 0.14294635 0.18303709]], shape=(1, 4), dtype=float32)\n",
      "[0.1, 0.8, 0.2, 0.9]\n",
      "tf.Tensor([[0.27624357 0.39897263 0.14256074 0.18222304]], shape=(1, 4), dtype=float32)\n",
      "[0.3, 0.8, 0.2, 0.9]\n",
      "tf.Tensor([[0.27519906 0.39881748 0.14294635 0.18303709]], shape=(1, 4), dtype=float32)\n",
      "[0.1, 0.8, 0.2, 0.9]\n",
      "tf.Tensor([[0.27624357 0.39897263 0.14256074 0.18222304]], shape=(1, 4), dtype=float32)\n",
      "[0.3, 0.8, 0.2, 0.9]\n",
      "tf.Tensor([[0.27519906 0.39881748 0.14294635 0.18303709]], shape=(1, 4), dtype=float32)\n",
      "[0.1, 0.8, 0.2, 0.9]\n",
      "tf.Tensor([[0.27624357 0.39897263 0.14256074 0.18222304]], shape=(1, 4), dtype=float32)\n",
      "[0.3, 0.8, 0.2, 0.9]\n",
      "tf.Tensor([[0.27519906 0.39881748 0.14294635 0.18303709]], shape=(1, 4), dtype=float32)\n",
      "[0.1, 0.8, 0.2, 0.9]\n",
      "tf.Tensor([[0.27624357 0.39897263 0.14256074 0.18222304]], shape=(1, 4), dtype=float32)\n",
      "[0.3, 0.8, 0.2, 0.9]\n",
      "tf.Tensor([[0.27519906 0.39881748 0.14294635 0.18303709]], shape=(1, 4), dtype=float32)"
     ]
    },
    {
     "name": "stderr",
     "output_type": "stream",
     "text": [
      "\r",
      "  5%|███▊                                                                    | 1601/30000 [1:15:23<25:23:37,  3.22s/it]"
     ]
    },
    {
     "name": "stdout",
     "output_type": "stream",
     "text": [
      "\n",
      "[0.1, 0.8, 0.2, 0.9]\n",
      "tf.Tensor([[0.27624357 0.39897263 0.14256074 0.18222304]], shape=(1, 4), dtype=float32)\n"
     ]
    },
    {
     "name": "stderr",
     "output_type": "stream",
     "text": [
      "  6%|████                                                                    | 1701/30000 [1:19:46<21:53:33,  2.79s/it]"
     ]
    },
    {
     "name": "stdout",
     "output_type": "stream",
     "text": [
      "-34.02409099302104\n",
      "27\n"
     ]
    },
    {
     "name": "stderr",
     "output_type": "stream",
     "text": [
      "  6%|████▎                                                                   | 1800/30000 [1:24:14<19:28:48,  2.49s/it]"
     ]
    },
    {
     "name": "stdout",
     "output_type": "stream",
     "text": [
      "-33.84360592577059\n",
      "22\n",
      "[0.3, 0.0, 0.7, 0.1]\n",
      "tf.Tensor([[0.23800959 0.43872276 0.14610885 0.17715876]], shape=(1, 4), dtype=float32)\n",
      "[0.5, 0.0, 0.7, 0.1]\n",
      "tf.Tensor([[0.24328107 0.43739453 0.1442721  0.17505231]], shape=(1, 4), dtype=float32)\n",
      "[0.7, 0.0, 0.7, 0.1]\n",
      "tf.Tensor([[0.24984753 0.43973166 0.13872755 0.17169334]], shape=(1, 4), dtype=float32)\n",
      "[0.5, 0.0, 0.7, 0.1]\n",
      "tf.Tensor([[0.25253564 0.43741128 0.13819765 0.17185546]], shape=(1, 4), dtype=float32)\n",
      "[0.7, 0.0, 0.7, 0.1]\n",
      "tf.Tensor([[0.25374103 0.44069204 0.13565864 0.16990824]], shape=(1, 4), dtype=float32)\n",
      "[0.5, 0.0, 0.7, 0.1]\n",
      "tf.Tensor([[0.2537014  0.43938842 0.13638851 0.17052163]], shape=(1, 4), dtype=float32)\n",
      "[0.7, 0.0, 0.7, 0.1]\n",
      "tf.Tensor([[0.25374103 0.44069204 0.13565864 0.16990824]], shape=(1, 4), dtype=float32)\n",
      "[0.5, 0.0, 0.7, 0.1]\n",
      "tf.Tensor([[0.2537014  0.43938842 0.13638851 0.17052163]], shape=(1, 4), dtype=float32)\n",
      "[0.7, 0.0, 0.7, 0.1]\n",
      "tf.Tensor([[0.25374103 0.44069204 0.13565864 0.16990824]], shape=(1, 4), dtype=float32)\n",
      "[0.5, 0.0, 0.7, 0.1]\n",
      "tf.Tensor([[0.2537014  0.43938842 0.13638851 0.17052163]], shape=(1, 4), dtype=float32)\n",
      "[0.7, 0.0, 0.7, 0.1]\n",
      "tf.Tensor([[0.25374103 0.44069204 0.13565864 0.16990824]], shape=(1, 4), dtype=float32)\n",
      "[0.5, 0.0, 0.7, 0.1]\n",
      "tf.Tensor([[0.2537014  0.43938842 0.13638851 0.17052163]], shape=(1, 4), dtype=float32)\n",
      "[0.7, 0.0, 0.7, 0.1]\n",
      "tf.Tensor([[0.25374103 0.44069204 0.13565864 0.16990824]], shape=(1, 4), dtype=float32)\n",
      "[0.5, 0.0, 0.7, 0.1]\n",
      "tf.Tensor([[0.2537014  0.43938842 0.13638851 0.17052163]], shape=(1, 4), dtype=float32)\n",
      "[0.7, 0.0, 0.7, 0.1]\n",
      "tf.Tensor([[0.25374103 0.44069204 0.13565864 0.16990824]], shape=(1, 4), dtype=float32)"
     ]
    },
    {
     "name": "stderr",
     "output_type": "stream",
     "text": [
      "\r",
      "  6%|████▎                                                                   | 1801/30000 [1:24:18<21:57:17,  2.80s/it]"
     ]
    },
    {
     "name": "stdout",
     "output_type": "stream",
     "text": [
      "\n",
      "[0.5, 0.0, 0.7, 0.1]\n",
      "tf.Tensor([[0.2537014  0.43938842 0.13638851 0.17052163]], shape=(1, 4), dtype=float32)\n",
      "[0.7, 0.0, 0.7, 0.1]\n",
      "tf.Tensor([[0.25374103 0.44069204 0.13565864 0.16990824]], shape=(1, 4), dtype=float32)\n",
      "[0.5, 0.0, 0.7, 0.1]\n",
      "tf.Tensor([[0.2537014  0.43938842 0.13638851 0.17052163]], shape=(1, 4), dtype=float32)\n",
      "[0.7, 0.0, 0.7, 0.1]\n",
      "tf.Tensor([[0.25374103 0.44069204 0.13565864 0.16990824]], shape=(1, 4), dtype=float32)\n",
      "[0.5, 0.0, 0.7, 0.1]\n",
      "tf.Tensor([[0.2537014  0.43938842 0.13638851 0.17052163]], shape=(1, 4), dtype=float32)\n"
     ]
    },
    {
     "name": "stderr",
     "output_type": "stream",
     "text": [
      "  6%|████▌                                                                   | 1901/30000 [1:28:35<22:16:25,  2.85s/it]"
     ]
    },
    {
     "name": "stdout",
     "output_type": "stream",
     "text": [
      "-30.99260111212931\n",
      "34\n"
     ]
    },
    {
     "name": "stderr",
     "output_type": "stream",
     "text": [
      "  7%|████▊                                                                   | 2001/30000 [1:33:02<23:29:55,  3.02s/it]"
     ]
    },
    {
     "name": "stdout",
     "output_type": "stream",
     "text": [
      "-33.144412140648846\n",
      "23\n",
      "[0.2, 0.3, 0.2, 0.9]\n",
      "tf.Tensor([[0.2624478  0.40825564 0.14761925 0.18167739]], shape=(1, 4), dtype=float32)\n",
      "[0.2, 0.5, 0.2, 0.9]\n",
      "tf.Tensor([[0.2690411  0.4090486  0.14446461 0.17744567]], shape=(1, 4), dtype=float32)\n",
      "[0.2, 0.7, 0.2, 0.9]\n",
      "tf.Tensor([[0.27371755 0.40891546 0.14342852 0.1739384 ]], shape=(1, 4), dtype=float32)\n"
     ]
    },
    {
     "name": "stderr",
     "output_type": "stream",
     "text": [
      "  7%|█████                                                                   | 2101/30000 [1:37:25<17:49:20,  2.30s/it]"
     ]
    },
    {
     "name": "stdout",
     "output_type": "stream",
     "text": [
      "-28.179762432808705\n",
      "27\n"
     ]
    },
    {
     "name": "stderr",
     "output_type": "stream",
     "text": [
      "  7%|█████▎                                                                  | 2200/30000 [1:41:34<19:36:29,  2.54s/it]"
     ]
    },
    {
     "name": "stdout",
     "output_type": "stream",
     "text": [
      "-30.984832829343095\n",
      "26\n",
      "[0.3, 0.6, 0.5, 0.7]\n",
      "tf.Tensor([[0.29526034 0.38562056 0.14223905 0.17688006]], shape=(1, 4), dtype=float32)\n",
      "[0.5, 0.6, 0.5, 0.7]\n",
      "tf.Tensor([[0.29889205 0.3933587  0.13695207 0.17079723]], shape=(1, 4), dtype=float32)\n",
      "[0.5, 0.8, 0.5, 0.7]\n",
      "tf.Tensor([[0.30095446 0.39846984 0.13398601 0.16658974]], shape=(1, 4), dtype=float32)\n",
      "[0.3, 0.8, 0.5, 0.7]\n",
      "tf.Tensor([[0.3035255  0.40087494 0.12977707 0.16582246]], shape=(1, 4), dtype=float32)\n",
      "[0.5, 0.8, 0.5, 0.7]\n",
      "tf.Tensor([[0.30422285 0.40064105 0.13018832 0.16494773]], shape=(1, 4), dtype=float32)\n",
      "[0.3, 0.8, 0.5, 0.7]\n",
      "tf.Tensor([[0.30649605 0.39828652 0.12856191 0.16665553]], shape=(1, 4), dtype=float32)\n",
      "[0.5, 0.8, 0.5, 0.7]\n",
      "tf.Tensor([[0.30599493 0.39778703 0.1289853  0.1672328 ]], shape=(1, 4), dtype=float32)\n",
      "[0.3, 0.8, 0.5, 0.7]\n",
      "tf.Tensor([[0.30649605 0.39828652 0.12856191 0.16665553]], shape=(1, 4), dtype=float32)\n",
      "[0.5, 0.8, 0.5, 0.7]\n",
      "tf.Tensor([[0.30599493 0.39778703 0.1289853  0.1672328 ]], shape=(1, 4), dtype=float32)\n",
      "[0.3, 0.8, 0.5, 0.7]\n",
      "tf.Tensor([[0.30649605 0.39828652 0.12856191 0.16665553]], shape=(1, 4), dtype=float32)\n",
      "[0.5, 0.8, 0.5, 0.7]\n",
      "tf.Tensor([[0.30599493 0.39778703 0.1289853  0.1672328 ]], shape=(1, 4), dtype=float32)\n",
      "[0.3, 0.8, 0.5, 0.7]\n",
      "tf.Tensor([[0.30649605 0.39828652 0.12856191 0.16665553]], shape=(1, 4), dtype=float32)\n",
      "[0.5, 0.8, 0.5, 0.7]\n",
      "tf.Tensor([[0.30599493 0.39778703 0.1289853  0.1672328 ]], shape=(1, 4), dtype=float32)\n",
      "[0.3, 0.8, 0.5, 0.7]\n",
      "tf.Tensor([[0.30649605 0.39828652 0.12856191 0.16665553]], shape=(1, 4), dtype=float32)\n",
      "[0.5, 0.8, 0.5, 0.7]\n",
      "tf.Tensor([[0.30599493 0.39778703 0.1289853  0.1672328 ]], shape=(1, 4), dtype=float32)\n",
      "[0.3, 0.8, 0.5, 0.7]\n",
      "tf.Tensor([[0.30649605 0.39828652 0.12856191 0.16665553]], shape=(1, 4), dtype=float32)"
     ]
    },
    {
     "name": "stderr",
     "output_type": "stream",
     "text": [
      "\r",
      "  7%|█████▎                                                                  | 2201/30000 [1:41:37<20:49:28,  2.70s/it]"
     ]
    },
    {
     "name": "stdout",
     "output_type": "stream",
     "text": [
      "\n",
      "[0.5, 0.8, 0.5, 0.7]\n",
      "tf.Tensor([[0.30599493 0.39778703 0.1289853  0.1672328 ]], shape=(1, 4), dtype=float32)\n",
      "[0.3, 0.8, 0.5, 0.7]\n",
      "tf.Tensor([[0.30649605 0.39828652 0.12856191 0.16665553]], shape=(1, 4), dtype=float32)\n",
      "[0.5, 0.8, 0.5, 0.7]\n",
      "tf.Tensor([[0.30599493 0.39778703 0.1289853  0.1672328 ]], shape=(1, 4), dtype=float32)\n",
      "[0.3, 0.8, 0.5, 0.7]\n",
      "tf.Tensor([[0.30649605 0.39828652 0.12856191 0.16665553]], shape=(1, 4), dtype=float32)\n"
     ]
    },
    {
     "name": "stderr",
     "output_type": "stream",
     "text": [
      "  8%|█████▌                                                                  | 2301/30000 [1:45:46<21:26:38,  2.79s/it]"
     ]
    },
    {
     "name": "stdout",
     "output_type": "stream",
     "text": [
      "-25.17558501856158\n",
      "42\n"
     ]
    },
    {
     "name": "stderr",
     "output_type": "stream",
     "text": [
      "  8%|█████▊                                                                  | 2400/30000 [1:49:36<15:26:38,  2.01s/it]"
     ]
    },
    {
     "name": "stdout",
     "output_type": "stream",
     "text": [
      "-26.704950753286376\n",
      "33\n",
      "[0.2, 0.2, 0.7, 0.1]\n",
      "tf.Tensor([[0.30601022 0.37850314 0.14311847 0.1723681 ]], shape=(1, 4), dtype=float32)\n",
      "[0.4, 0.2, 0.7, 0.1]\n",
      "tf.Tensor([[0.3066466  0.38268977 0.1398915  0.17077214]], shape=(1, 4), dtype=float32)\n",
      "[0.6, 0.2, 0.7, 0.1]\n",
      "tf.Tensor([[0.30485865 0.3880704  0.13699017 0.17008078]], shape=(1, 4), dtype=float32)\n",
      "[0.8, 0.2, 0.7, 0.1]\n",
      "tf.Tensor([[0.3057921  0.39440376 0.13123524 0.16856892]], shape=(1, 4), dtype=float32)\n",
      "[0.6, 0.2, 0.7, 0.1]\n",
      "tf.Tensor([[0.3048774  0.395531   0.1318332  0.16775835]], shape=(1, 4), dtype=float32)\n",
      "[0.8, 0.2, 0.7, 0.1]\n",
      "tf.Tensor([[0.30700684 0.39734226 0.12916462 0.16648631]], shape=(1, 4), dtype=float32)\n",
      "[0.6, 0.2, 0.7, 0.1]\n",
      "tf.Tensor([[0.30656764 0.3969082  0.13002025 0.16650392]], shape=(1, 4), dtype=float32)\n",
      "[0.8, 0.2, 0.7, 0.1]\n",
      "tf.Tensor([[0.30700684 0.39734226 0.12916462 0.16648631]], shape=(1, 4), dtype=float32)\n",
      "[0.6, 0.2, 0.7, 0.1]\n",
      "tf.Tensor([[0.30656764 0.3969082  0.13002025 0.16650392]], shape=(1, 4), dtype=float32)\n",
      "[0.8, 0.2, 0.7, 0.1]\n",
      "tf.Tensor([[0.30700684 0.39734226 0.12916462 0.16648631]], shape=(1, 4), dtype=float32)\n",
      "[0.6, 0.2, 0.7, 0.1]\n",
      "tf.Tensor([[0.30656764 0.3969082  0.13002025 0.16650392]], shape=(1, 4), dtype=float32)\n",
      "[0.8, 0.2, 0.7, 0.1]\n",
      "tf.Tensor([[0.30700684 0.39734226 0.12916462 0.16648631]], shape=(1, 4), dtype=float32)\n",
      "[0.6, 0.2, 0.7, 0.1]\n",
      "tf.Tensor([[0.30656764 0.3969082  0.13002025 0.16650392]], shape=(1, 4), dtype=float32)\n",
      "[0.8, 0.2, 0.7, 0.1]\n",
      "tf.Tensor([[0.30700684 0.39734226 0.12916462 0.16648631]], shape=(1, 4), dtype=float32)\n",
      "[0.6, 0.2, 0.7, 0.1]\n",
      "tf.Tensor([[0.30656764 0.3969082  0.13002025 0.16650392]], shape=(1, 4), dtype=float32)\n",
      "[0.8, 0.2, 0.7, 0.1]\n",
      "tf.Tensor([[0.30700684 0.39734226 0.12916462 0.16648631]], shape=(1, 4), dtype=float32)\n",
      "[0.6, 0.2, 0.7, 0.1]\n"
     ]
    },
    {
     "name": "stderr",
     "output_type": "stream",
     "text": [
      "\r",
      "  8%|█████▊                                                                  | 2401/30000 [1:49:39<17:42:55,  2.31s/it]"
     ]
    },
    {
     "name": "stdout",
     "output_type": "stream",
     "text": [
      "tf.Tensor([[0.30656764 0.3969082  0.13002025 0.16650392]], shape=(1, 4), dtype=float32)\n",
      "[0.8, 0.2, 0.7, 0.1]\n",
      "tf.Tensor([[0.30700684 0.39734226 0.12916462 0.16648631]], shape=(1, 4), dtype=float32)\n",
      "[0.6, 0.2, 0.7, 0.1]\n",
      "tf.Tensor([[0.30656764 0.3969082  0.13002025 0.16650392]], shape=(1, 4), dtype=float32)\n",
      "[0.8, 0.2, 0.7, 0.1]\n",
      "tf.Tensor([[0.30700684 0.39734226 0.12916462 0.16648631]], shape=(1, 4), dtype=float32)\n"
     ]
    },
    {
     "name": "stderr",
     "output_type": "stream",
     "text": [
      "  8%|██████                                                                  | 2501/30000 [1:53:48<21:58:05,  2.88s/it]"
     ]
    },
    {
     "name": "stdout",
     "output_type": "stream",
     "text": [
      "-28.06111908275359\n",
      "30\n"
     ]
    },
    {
     "name": "stderr",
     "output_type": "stream",
     "text": [
      "  9%|██████▏                                                                 | 2600/30000 [1:58:01<15:25:27,  2.03s/it]"
     ]
    },
    {
     "name": "stdout",
     "output_type": "stream",
     "text": [
      "-25.132157369719557\n",
      "38\n",
      "[0.1, 0.9, 0.2, 0.9]\n",
      "tf.Tensor([[0.34375286 0.354104   0.13080613 0.17133707]], shape=(1, 4), dtype=float32)\n",
      "[0.3, 0.9, 0.2, 0.9]\n",
      "tf.Tensor([[0.34979498 0.35554415 0.12644635 0.16821453]], shape=(1, 4), dtype=float32)\n",
      "[0.1, 0.9, 0.2, 0.9]\n",
      "tf.Tensor([[0.35586274 0.3579398  0.12084647 0.16535099]], shape=(1, 4), dtype=float32)\n",
      "[0.3, 0.9, 0.2, 0.9]\n",
      "tf.Tensor([[0.35844344 0.36017147 0.11717474 0.1642104 ]], shape=(1, 4), dtype=float32)\n",
      "[0.1, 0.9, 0.2, 0.9]\n",
      "tf.Tensor([[0.35925272 0.36138293 0.11627515 0.16308922]], shape=(1, 4), dtype=float32)\n",
      "[0.3, 0.9, 0.2, 0.9]\n",
      "tf.Tensor([[0.35844344 0.36017147 0.11717474 0.1642104 ]], shape=(1, 4), dtype=float32)\n",
      "[0.1, 0.9, 0.2, 0.9]\n",
      "tf.Tensor([[0.35925272 0.36138293 0.11627515 0.16308922]], shape=(1, 4), dtype=float32)\n",
      "[0.3, 0.9, 0.2, 0.9]\n",
      "tf.Tensor([[0.35844344 0.36017147 0.11717474 0.1642104 ]], shape=(1, 4), dtype=float32)\n",
      "[0.1, 0.9, 0.2, 0.9]\n",
      "tf.Tensor([[0.35925272 0.36138293 0.11627515 0.16308922]], shape=(1, 4), dtype=float32)\n",
      "[0.3, 0.9, 0.2, 0.9]\n",
      "tf.Tensor([[0.35844344 0.36017147 0.11717474 0.1642104 ]], shape=(1, 4), dtype=float32)\n",
      "[0.1, 0.9, 0.2, 0.9]\n",
      "tf.Tensor([[0.35925272 0.36138293 0.11627515 0.16308922]], shape=(1, 4), dtype=float32)\n",
      "[0.3, 0.9, 0.2, 0.9]\n",
      "tf.Tensor([[0.35844344 0.36017147 0.11717474 0.1642104 ]], shape=(1, 4), dtype=float32)\n",
      "[0.1, 0.9, 0.2, 0.9]\n",
      "tf.Tensor([[0.35925272 0.36138293 0.11627515 0.16308922]], shape=(1, 4), dtype=float32)\n",
      "[0.3, 0.9, 0.2, 0.9]\n",
      "tf.Tensor([[0.35844344 0.36017147 0.11717474 0.1642104 ]], shape=(1, 4), dtype=float32)\n",
      "[0.1, 0.9, 0.2, 0.9]\n",
      "tf.Tensor([[0.35925272 0.36138293 0.11627515 0.16308922]], shape=(1, 4), dtype=float32)\n",
      "[0.3, 0.9, 0.2, 0.9]\n",
      "tf.Tensor([[0.35844344 0.36017147 0.11717474 0.1642104 ]], shape=(1, 4), dtype=float32)\n",
      "[0.1, 0.9, 0.2, 0.9]\n"
     ]
    },
    {
     "name": "stderr",
     "output_type": "stream",
     "text": [
      "\r",
      "  9%|██████▏                                                                 | 2601/30000 [1:58:04<17:40:17,  2.32s/it]"
     ]
    },
    {
     "name": "stdout",
     "output_type": "stream",
     "text": [
      "tf.Tensor([[0.35925272 0.36138293 0.11627515 0.16308922]], shape=(1, 4), dtype=float32)\n",
      "[0.3, 0.9, 0.2, 0.9]\n",
      "tf.Tensor([[0.35844344 0.36017147 0.11717474 0.1642104 ]], shape=(1, 4), dtype=float32)\n",
      "[0.1, 0.9, 0.2, 0.9]\n",
      "tf.Tensor([[0.35925272 0.36138293 0.11627515 0.16308922]], shape=(1, 4), dtype=float32)\n",
      "[0.3, 0.9, 0.2, 0.9]\n",
      "tf.Tensor([[0.35844344 0.36017147 0.11717474 0.1642104 ]], shape=(1, 4), dtype=float32)\n"
     ]
    },
    {
     "name": "stderr",
     "output_type": "stream",
     "text": [
      "  9%|██████▍                                                                 | 2701/30000 [2:01:50<12:54:18,  1.70s/it]"
     ]
    },
    {
     "name": "stdout",
     "output_type": "stream",
     "text": [
      "-25.81464594942518\n",
      "39\n"
     ]
    },
    {
     "name": "stderr",
     "output_type": "stream",
     "text": [
      "  9%|██████▋                                                                 | 2800/30000 [2:05:55<21:59:02,  2.91s/it]"
     ]
    },
    {
     "name": "stdout",
     "output_type": "stream",
     "text": [
      "-28.851183764040673\n",
      "45\n",
      "[0.3, 0.0, 0.5, 0.7]\n",
      "tf.Tensor([[0.31961462 0.38167226 0.1359673  0.1627459 ]], shape=(1, 4), dtype=float32)\n",
      "[0.3, 0.2, 0.5, 0.7]\n",
      "tf.Tensor([[0.32472542 0.3855915  0.13140963 0.1582735 ]], shape=(1, 4), dtype=float32)\n",
      "[0.3, 0.4, 0.5, 0.7]\n",
      "tf.Tensor([[0.32410192 0.3879746  0.13162687 0.15629661]], shape=(1, 4), dtype=float32)\n",
      "[0.5, 0.4, 0.5, 0.7]\n",
      "tf.Tensor([[0.32488438 0.3959111  0.12596202 0.15324248]], shape=(1, 4), dtype=float32)\n",
      "[0.5, 0.6, 0.5, 0.7]\n",
      "tf.Tensor([[0.32635647 0.39699322 0.12481943 0.15183093]], shape=(1, 4), dtype=float32)\n",
      "[0.5, 0.8, 0.5, 0.7]\n",
      "tf.Tensor([[0.32642263 0.4062756  0.12121239 0.14608929]], shape=(1, 4), dtype=float32)"
     ]
    },
    {
     "name": "stderr",
     "output_type": "stream",
     "text": [
      "\r",
      "  9%|██████▋                                                                 | 2801/30000 [2:05:58<23:11:18,  3.07s/it]"
     ]
    },
    {
     "name": "stdout",
     "output_type": "stream",
     "text": [
      "\n",
      "[0.5, 0.6, 0.5, 0.7]\n",
      "tf.Tensor([[0.32948503 0.4055681  0.11998335 0.14496355]], shape=(1, 4), dtype=float32)\n",
      "[0.5, 0.8, 0.5, 0.7]\n",
      "tf.Tensor([[0.32843667 0.4124021  0.11776179 0.14139941]], shape=(1, 4), dtype=float32)\n",
      "[0.5, 0.6, 0.5, 0.7]\n",
      "tf.Tensor([[0.3312551  0.4081409  0.11760719 0.14299685]], shape=(1, 4), dtype=float32)\n",
      "[0.5, 0.8, 0.5, 0.7]\n",
      "tf.Tensor([[0.32843667 0.4124021  0.11776179 0.14139941]], shape=(1, 4), dtype=float32)\n",
      "[0.5, 0.6, 0.5, 0.7]\n",
      "tf.Tensor([[0.3312551  0.4081409  0.11760719 0.14299685]], shape=(1, 4), dtype=float32)\n",
      "[0.5, 0.8, 0.5, 0.7]\n",
      "tf.Tensor([[0.32843667 0.4124021  0.11776179 0.14139941]], shape=(1, 4), dtype=float32)\n",
      "[0.5, 0.6, 0.5, 0.7]\n",
      "tf.Tensor([[0.3312551  0.4081409  0.11760719 0.14299685]], shape=(1, 4), dtype=float32)\n",
      "[0.5, 0.8, 0.5, 0.7]\n",
      "tf.Tensor([[0.32843667 0.4124021  0.11776179 0.14139941]], shape=(1, 4), dtype=float32)\n",
      "[0.5, 0.6, 0.5, 0.7]\n",
      "tf.Tensor([[0.3312551  0.4081409  0.11760719 0.14299685]], shape=(1, 4), dtype=float32)\n",
      "[0.5, 0.8, 0.5, 0.7]\n",
      "tf.Tensor([[0.32843667 0.4124021  0.11776179 0.14139941]], shape=(1, 4), dtype=float32)\n",
      "[0.5, 0.6, 0.5, 0.7]\n",
      "tf.Tensor([[0.3312551  0.4081409  0.11760719 0.14299685]], shape=(1, 4), dtype=float32)\n",
      "[0.5, 0.8, 0.5, 0.7]\n",
      "tf.Tensor([[0.32843667 0.4124021  0.11776179 0.14139941]], shape=(1, 4), dtype=float32)\n",
      "[0.5, 0.6, 0.5, 0.7]\n",
      "tf.Tensor([[0.3312551  0.4081409  0.11760719 0.14299685]], shape=(1, 4), dtype=float32)\n",
      "[0.5, 0.8, 0.5, 0.7]\n",
      "tf.Tensor([[0.32843667 0.4124021  0.11776179 0.14139941]], shape=(1, 4), dtype=float32)\n"
     ]
    },
    {
     "name": "stderr",
     "output_type": "stream",
     "text": [
      " 10%|██████▉                                                                 | 2901/30000 [2:09:49<13:54:06,  1.85s/it]"
     ]
    },
    {
     "name": "stdout",
     "output_type": "stream",
     "text": [
      "-25.20864674712012\n",
      "42\n"
     ]
    },
    {
     "name": "stderr",
     "output_type": "stream",
     "text": [
      " 10%|███████▏                                                                | 3001/30000 [2:13:30<14:36:13,  1.95s/it]"
     ]
    },
    {
     "name": "stdout",
     "output_type": "stream",
     "text": [
      "-19.83025761187745\n",
      "45\n",
      "[0.8, 0.9, 0.2, 0.9]\n",
      "tf.Tensor([[0.34681103 0.3658482  0.12613863 0.16120218]], shape=(1, 4), dtype=float32)\n",
      "[0.6, 0.9, 0.2, 0.9]\n",
      "tf.Tensor([[0.34992376 0.37005267 0.12171406 0.15830949]], shape=(1, 4), dtype=float32)\n",
      "[0.4, 0.9, 0.2, 0.9]\n",
      "tf.Tensor([[0.3531687  0.37272936 0.1178766  0.15622537]], shape=(1, 4), dtype=float32)\n"
     ]
    },
    {
     "name": "stderr",
     "output_type": "stream",
     "text": [
      " 10%|███████▍                                                                | 3101/30000 [2:17:31<20:42:43,  2.77s/it]"
     ]
    },
    {
     "name": "stdout",
     "output_type": "stream",
     "text": [
      "-24.939907368305207\n",
      "41\n"
     ]
    },
    {
     "name": "stderr",
     "output_type": "stream",
     "text": [
      " 11%|███████▋                                                                | 3201/30000 [2:20:50<13:36:10,  1.83s/it]"
     ]
    },
    {
     "name": "stdout",
     "output_type": "stream",
     "text": [
      "-18.36692723666546\n",
      "52\n",
      "[0.0, 0.6, 0.1, 0.1]\n",
      "tf.Tensor([[0.3708641  0.3491438  0.11742234 0.16256976]], shape=(1, 4), dtype=float32)\n",
      "[0.0, 0.5, 0.1, 0.1]\n",
      "tf.Tensor([[0.37350577 0.35888588 0.11015715 0.15745126]], shape=(1, 4), dtype=float32)\n",
      "[0.0, 0.4, 0.1, 0.1]\n",
      "tf.Tensor([[0.37630925 0.3668346  0.1044343  0.15242183]], shape=(1, 4), dtype=float32)\n",
      "[0.0, 0.3, 0.1, 0.1]\n",
      "tf.Tensor([[0.37951216 0.3729303  0.10003816 0.14751942]], shape=(1, 4), dtype=float32)\n",
      "[0.0, 0.2, 0.1, 0.1]\n",
      "tf.Tensor([[0.37363702 0.36771408 0.10509884 0.15355004]], shape=(1, 4), dtype=float32)\n",
      "[0.1, 0.2, 0.1, 0.1]\n",
      "tf.Tensor([[0.37443653 0.36896947 0.10517062 0.15142332]], shape=(1, 4), dtype=float32)\n"
     ]
    },
    {
     "name": "stderr",
     "output_type": "stream",
     "text": [
      " 11%|███████▉                                                                | 3301/30000 [2:24:32<17:42:36,  2.39s/it]"
     ]
    },
    {
     "name": "stdout",
     "output_type": "stream",
     "text": [
      "-24.726544781198317\n",
      "43\n"
     ]
    },
    {
     "name": "stderr",
     "output_type": "stream",
     "text": [
      " 11%|████████▏                                                               | 3400/30000 [2:28:18<17:29:11,  2.37s/it]"
     ]
    },
    {
     "name": "stdout",
     "output_type": "stream",
     "text": [
      "-23.57823729848152\n",
      "46\n",
      "[0.3, 0.5, 0.7, 0.1]\n",
      "tf.Tensor([[0.38043663 0.3364982  0.11902942 0.16403572]], shape=(1, 4), dtype=float32)\n",
      "[0.4, 0.5, 0.7, 0.1]\n",
      "tf.Tensor([[0.37817594 0.3438471  0.11723138 0.16074559]], shape=(1, 4), dtype=float32)\n",
      "[0.5, 0.5, 0.7, 0.1]\n",
      "tf.Tensor([[0.37615788 0.35135964 0.11505726 0.15742524]], shape=(1, 4), dtype=float32)\n",
      "[0.6, 0.5, 0.7, 0.1]\n",
      "tf.Tensor([[0.37868163 0.36722693 0.106675   0.14741643]], shape=(1, 4), dtype=float32)\n",
      "[0.6, 0.4, 0.7, 0.1]\n",
      "tf.Tensor([[0.3817874  0.37571105 0.10189512 0.14060646]], shape=(1, 4), dtype=float32)\n",
      "[0.6, 0.3, 0.7, 0.1]\n",
      "tf.Tensor([[0.37864846 0.37405294 0.1035667  0.14373194]], shape=(1, 4), dtype=float32)\n",
      "[0.7, 0.3, 0.7, 0.1]\n",
      "tf.Tensor([[0.3819717  0.37966427 0.10109845 0.1372656 ]], shape=(1, 4), dtype=float32)\n",
      "[0.7, 0.2, 0.7, 0.1]\n",
      "tf.Tensor([[0.38109705 0.38385826 0.09947582 0.13556887]], shape=(1, 4), dtype=float32)\n",
      "[0.7, 0.0, 0.7, 0.1]\n",
      "tf.Tensor([[0.37886903 0.3839148  0.09981534 0.13740087]], shape=(1, 4), dtype=float32)\n",
      "[0.7, 0.2, 0.7, 0.1]\n",
      "tf.Tensor([[0.37906185 0.3901589  0.09831676 0.13246247]], shape=(1, 4), dtype=float32)\n",
      "[0.7, 0.0, 0.7, 0.1]\n",
      "tf.Tensor([[0.3779045  0.38772848 0.09915753 0.13520952]], shape=(1, 4), dtype=float32)\n",
      "[0.7, 0.2, 0.7, 0.1]\n",
      "tf.Tensor([[0.3772942  0.3888932  0.09951638 0.13429624]], shape=(1, 4), dtype=float32)\n",
      "[0.7, 0.0, 0.7, 0.1]\n",
      "tf.Tensor([[0.3779045  0.38772848 0.09915753 0.13520952]], shape=(1, 4), dtype=float32)\n",
      "[0.7, 0.2, 0.7, 0.1]\n",
      "tf.Tensor([[0.3772942  0.3888932  0.09951638 0.13429624]], shape=(1, 4), dtype=float32)\n",
      "[0.7, 0.0, 0.7, 0.1]\n",
      "tf.Tensor([[0.3779045  0.38772848 0.09915753 0.13520952]], shape=(1, 4), dtype=float32)\n",
      "[0.7, 0.2, 0.7, 0.1]\n",
      "tf.Tensor([[0.3772942  0.3888932  0.09951638 0.13429624]], shape=(1, 4), dtype=float32)"
     ]
    },
    {
     "name": "stderr",
     "output_type": "stream",
     "text": [
      "\r",
      " 11%|████████▏                                                               | 3401/30000 [2:28:20<18:04:51,  2.45s/it]"
     ]
    },
    {
     "name": "stdout",
     "output_type": "stream",
     "text": [
      "\n",
      "[0.7, 0.0, 0.7, 0.1]\n",
      "tf.Tensor([[0.3779045  0.38772848 0.09915753 0.13520952]], shape=(1, 4), dtype=float32)\n",
      "[0.7, 0.2, 0.7, 0.1]\n",
      "tf.Tensor([[0.3772942  0.3888932  0.09951638 0.13429624]], shape=(1, 4), dtype=float32)\n",
      "[0.7, 0.0, 0.7, 0.1]\n",
      "tf.Tensor([[0.3779045  0.38772848 0.09915753 0.13520952]], shape=(1, 4), dtype=float32)\n",
      "[0.7, 0.2, 0.7, 0.1]\n",
      "tf.Tensor([[0.3772942  0.3888932  0.09951638 0.13429624]], shape=(1, 4), dtype=float32)\n"
     ]
    },
    {
     "name": "stderr",
     "output_type": "stream",
     "text": [
      " 12%|████████▍                                                               | 3501/30000 [2:31:30<11:41:31,  1.59s/it]"
     ]
    },
    {
     "name": "stdout",
     "output_type": "stream",
     "text": [
      "-20.18609085271093\n",
      "57\n"
     ]
    },
    {
     "name": "stderr",
     "output_type": "stream",
     "text": [
      " 12%|████████▋                                                               | 3600/30000 [2:34:39<15:39:35,  2.14s/it]"
     ]
    },
    {
     "name": "stdout",
     "output_type": "stream",
     "text": [
      "-19.036979671491803\n",
      "62\n",
      "[0.0, 0.5, 0.1, 0.1]\n",
      "tf.Tensor([[0.39217824 0.37246382 0.09840354 0.13695443]], shape=(1, 4), dtype=float32)\n",
      "[0.0, 0.4, 0.1, 0.1]\n",
      "tf.Tensor([[0.396492   0.3836541  0.09210693 0.12774692]], shape=(1, 4), dtype=float32)\n",
      "[0.0, 0.3, 0.1, 0.1]\n",
      "tf.Tensor([[0.40027365 0.39249933 0.08637266 0.12085436]], shape=(1, 4), dtype=float32)\n",
      "[0.0, 0.2, 0.1, 0.1]\n",
      "tf.Tensor([[0.40176904 0.39371005 0.08347023 0.12105063]], shape=(1, 4), dtype=float32)\n",
      "[0.1, 0.2, 0.1, 0.1]\n",
      "tf.Tensor([[0.40054205 0.39468604 0.08507188 0.11969998]], shape=(1, 4), dtype=float32)"
     ]
    },
    {
     "name": "stderr",
     "output_type": "stream",
     "text": [
      "\r",
      " 12%|████████▋                                                               | 3601/30000 [2:34:43<18:07:56,  2.47s/it]"
     ]
    },
    {
     "name": "stdout",
     "output_type": "stream",
     "text": [
      "\n"
     ]
    },
    {
     "name": "stderr",
     "output_type": "stream",
     "text": [
      " 12%|████████▉                                                               | 3701/30000 [2:38:11<13:00:34,  1.78s/it]"
     ]
    },
    {
     "name": "stdout",
     "output_type": "stream",
     "text": [
      "-18.530240095739988\n",
      "60\n"
     ]
    },
    {
     "name": "stderr",
     "output_type": "stream",
     "text": [
      " 13%|█████████                                                               | 3801/30000 [2:41:10<11:51:28,  1.63s/it]"
     ]
    },
    {
     "name": "stdout",
     "output_type": "stream",
     "text": [
      "-16.658131538962245\n",
      "63\n",
      "[0.3, 0.3, 0.5, 0.7]\n",
      "tf.Tensor([[0.41910952 0.3637069  0.09118228 0.12600134]], shape=(1, 4), dtype=float32)\n",
      "[0.3, 0.4, 0.5, 0.7]\n",
      "tf.Tensor([[0.4194682  0.37070012 0.08844347 0.12138825]], shape=(1, 4), dtype=float32)\n",
      "[0.4, 0.4, 0.5, 0.7]\n",
      "tf.Tensor([[0.42290938 0.3772882  0.08457671 0.11522573]], shape=(1, 4), dtype=float32)\n",
      "[0.4, 0.5, 0.5, 0.7]\n",
      "tf.Tensor([[0.4252775  0.38368654 0.08082225 0.11021369]], shape=(1, 4), dtype=float32)\n",
      "[0.4, 0.6, 0.5, 0.7]\n",
      "tf.Tensor([[0.42327914 0.38536933 0.08041129 0.11094023]], shape=(1, 4), dtype=float32)\n",
      "[0.5, 0.6, 0.5, 0.7]\n",
      "tf.Tensor([[0.42589894 0.38527432 0.07995273 0.10887402]], shape=(1, 4), dtype=float32)\n"
     ]
    },
    {
     "name": "stderr",
     "output_type": "stream",
     "text": [
      " 13%|█████████▎                                                              | 3901/30000 [2:44:18<17:16:32,  2.38s/it]"
     ]
    },
    {
     "name": "stdout",
     "output_type": "stream",
     "text": [
      "-17.494360486637216\n",
      "68\n"
     ]
    },
    {
     "name": "stderr",
     "output_type": "stream",
     "text": [
      " 13%|█████████▌                                                              | 4001/30000 [2:47:32<17:46:41,  2.46s/it]"
     ]
    },
    {
     "name": "stdout",
     "output_type": "stream",
     "text": [
      "-17.08418655559762\n",
      "64\n",
      "[0.0, 0.0, 0.7, 0.4]\n",
      "tf.Tensor([[0.4424539  0.3566176  0.08268427 0.11824425]], shape=(1, 4), dtype=float32)\n",
      "[0.1, 0.0, 0.7, 0.4]\n",
      "tf.Tensor([[0.44670466 0.36059177 0.07954885 0.11315475]], shape=(1, 4), dtype=float32)\n",
      "[0.2, 0.0, 0.7, 0.4]\n",
      "tf.Tensor([[0.4487791  0.3653984  0.07670462 0.10911784]], shape=(1, 4), dtype=float32)\n",
      "[0.3, 0.0, 0.7, 0.4]\n",
      "tf.Tensor([[0.4490962  0.37064332 0.07412137 0.10613906]], shape=(1, 4), dtype=float32)\n",
      "[0.4, 0.0, 0.7, 0.4]\n",
      "tf.Tensor([[0.4456025  0.37287    0.07528461 0.10624285]], shape=(1, 4), dtype=float32)\n",
      "[0.5, 0.0, 0.7, 0.4]\n",
      "tf.Tensor([[0.44817907 0.37823406 0.073145   0.10044187]], shape=(1, 4), dtype=float32)\n",
      "[0.5, 0.1, 0.7, 0.4]\n",
      "tf.Tensor([[0.44955105 0.38316724 0.07124871 0.09603298]], shape=(1, 4), dtype=float32)\n",
      "[0.5, 0.2, 0.7, 0.4]\n",
      "tf.Tensor([[0.44593906 0.38601118 0.07169411 0.09635563]], shape=(1, 4), dtype=float32)\n",
      "[0.6, 0.2, 0.7, 0.4]\n",
      "tf.Tensor([[0.45147872 0.38699734 0.0692376  0.09228637]], shape=(1, 4), dtype=float32)\n",
      "[0.6, 0.3, 0.7, 0.4]\n",
      "tf.Tensor([[0.44587773 0.38817507 0.07096587 0.09498133]], shape=(1, 4), dtype=float32)\n",
      "[0.7, 0.3, 0.7, 0.4]\n",
      "tf.Tensor([[0.44852084 0.38815227 0.06996782 0.09335914]], shape=(1, 4), dtype=float32)\n"
     ]
    },
    {
     "name": "stderr",
     "output_type": "stream",
     "text": [
      " 14%|█████████▊                                                              | 4101/30000 [2:50:18<14:16:50,  1.99s/it]"
     ]
    },
    {
     "name": "stdout",
     "output_type": "stream",
     "text": [
      "-14.259655499088511\n",
      "71\n"
     ]
    },
    {
     "name": "stderr",
     "output_type": "stream",
     "text": [
      " 14%|██████████                                                              | 4200/30000 [2:53:05<12:12:47,  1.70s/it]"
     ]
    },
    {
     "name": "stdout",
     "output_type": "stream",
     "text": [
      "-15.26076327495772\n",
      "74\n",
      "[0.4, 0.6, 0.2, 0.9]\n",
      "tf.Tensor([[0.45161623 0.38795412 0.06892454 0.09150507]], shape=(1, 4), dtype=float32)\n",
      "[0.3, 0.6, 0.2, 0.9]\n",
      "tf.Tensor([[0.46645358 0.39094296 0.06147182 0.08113158]], shape=(1, 4), dtype=float32)\n",
      "[0.3, 0.7, 0.2, 0.9]\n",
      "tf.Tensor([[0.47886655 0.3937884  0.05494536 0.07239974]], shape=(1, 4), dtype=float32)\n",
      "[0.3, 0.8, 0.2, 0.9]\n",
      "tf.Tensor([[0.48074284 0.40338796 0.04995367 0.06591547]], shape=(1, 4), dtype=float32)\n",
      "[0.2, 0.8, 0.2, 0.9]\n",
      "tf.Tensor([[0.49013537 0.39520797 0.04919228 0.06546434]], shape=(1, 4), dtype=float32)"
     ]
    },
    {
     "name": "stderr",
     "output_type": "stream",
     "text": [
      "\r",
      " 14%|██████████                                                              | 4201/30000 [2:53:08<15:41:34,  2.19s/it]"
     ]
    },
    {
     "name": "stdout",
     "output_type": "stream",
     "text": [
      "\n"
     ]
    },
    {
     "name": "stderr",
     "output_type": "stream",
     "text": [
      " 14%|██████████▍                                                              | 4301/30000 [2:55:42<8:15:16,  1.16s/it]"
     ]
    },
    {
     "name": "stdout",
     "output_type": "stream",
     "text": [
      "-7.382524256841134\n",
      "78\n"
     ]
    },
    {
     "name": "stderr",
     "output_type": "stream",
     "text": [
      " 15%|██████████▌                                                             | 4400/30000 [2:58:22<11:20:41,  1.60s/it]"
     ]
    },
    {
     "name": "stdout",
     "output_type": "stream",
     "text": [
      "-9.153665263327122\n",
      "79\n",
      "[0.5, 0.3, 0.2, 0.9]\n",
      "tf.Tensor([[0.47903275 0.38638267 0.05539517 0.07918942]], shape=(1, 4), dtype=float32)\n",
      "[0.5, 0.4, 0.2, 0.9]\n",
      "tf.Tensor([[0.489366   0.39286458 0.04927589 0.06849355]], shape=(1, 4), dtype=float32)\n",
      "[0.5, 0.5, 0.2, 0.9]\n",
      "tf.Tensor([[0.49001598 0.40396857 0.04453764 0.06147785]], shape=(1, 4), dtype=float32)\n",
      "[0.4, 0.5, 0.2, 0.9]\n",
      "tf.Tensor([[0.50263655 0.40272605 0.03968964 0.0549478 ]], shape=(1, 4), dtype=float32)\n",
      "[0.4, 0.6, 0.2, 0.9]\n",
      "tf.Tensor([[0.5050399  0.40083337 0.03939793 0.05472878]], shape=(1, 4), dtype=float32)\n",
      "[0.4, 0.7, 0.2, 0.9]\n",
      "tf.Tensor([[0.49916977 0.4064949  0.03913978 0.05519547]], shape=(1, 4), dtype=float32)"
     ]
    },
    {
     "name": "stderr",
     "output_type": "stream",
     "text": [
      "\r",
      " 15%|██████████▌                                                             | 4401/30000 [2:58:24<13:04:44,  1.84s/it]"
     ]
    },
    {
     "name": "stdout",
     "output_type": "stream",
     "text": [
      "\n",
      "[0.3, 0.7, 0.2, 0.9]\n",
      "tf.Tensor([[0.507838   0.39881328 0.03868943 0.05465928]], shape=(1, 4), dtype=float32)\n",
      "[0.3, 0.8, 0.2, 0.9]\n",
      "tf.Tensor([[0.5017674  0.4053118  0.03811945 0.05480135]], shape=(1, 4), dtype=float32)\n",
      "[0.2, 0.8, 0.2, 0.9]\n",
      "tf.Tensor([[0.510108   0.39791223 0.03740838 0.05457139]], shape=(1, 4), dtype=float32)\n"
     ]
    },
    {
     "name": "stderr",
     "output_type": "stream",
     "text": [
      " 15%|██████████▊                                                             | 4501/30000 [3:00:45<11:46:15,  1.66s/it]"
     ]
    },
    {
     "name": "stdout",
     "output_type": "stream",
     "text": [
      "-13.086455300576983\n",
      "85\n"
     ]
    },
    {
     "name": "stderr",
     "output_type": "stream",
     "text": [
      " 15%|███████████                                                             | 4601/30000 [3:03:14<14:46:05,  2.09s/it]"
     ]
    },
    {
     "name": "stdout",
     "output_type": "stream",
     "text": [
      "-11.125446740459148\n",
      "83\n",
      "[0.8, 0.5, 0.5, 0.7]\n",
      "tf.Tensor([[0.48248723 0.392138   0.05226223 0.0731125 ]], shape=(1, 4), dtype=float32)\n",
      "[0.7, 0.5, 0.5, 0.7]\n",
      "tf.Tensor([[0.48824394 0.4030683  0.04571112 0.06297659]], shape=(1, 4), dtype=float32)\n",
      "[0.6, 0.5, 0.5, 0.7]\n",
      "tf.Tensor([[0.50392437 0.40468627 0.03847111 0.05291825]], shape=(1, 4), dtype=float32)\n",
      "[0.6, 0.6, 0.5, 0.7]\n",
      "tf.Tensor([[0.50602716 0.41349894 0.03387301 0.04660089]], shape=(1, 4), dtype=float32)\n",
      "[0.5, 0.6, 0.5, 0.7]\n",
      "tf.Tensor([[0.5137776  0.40684453 0.03354749 0.04583042]], shape=(1, 4), dtype=float32)\n"
     ]
    },
    {
     "name": "stderr",
     "output_type": "stream",
     "text": [
      " 16%|███████████▍                                                             | 4701/30000 [3:05:43<7:27:14,  1.06s/it]"
     ]
    },
    {
     "name": "stdout",
     "output_type": "stream",
     "text": [
      "-8.279624375203632\n",
      "86\n"
     ]
    },
    {
     "name": "stderr",
     "output_type": "stream",
     "text": [
      " 16%|███████████▌                                                            | 4801/30000 [3:07:51<10:29:23,  1.50s/it]"
     ]
    },
    {
     "name": "stdout",
     "output_type": "stream",
     "text": [
      "-6.5951104133609535\n",
      "93\n",
      "[0.9, 0.2, 0.7, 0.1]\n",
      "tf.Tensor([[0.5421374  0.34554592 0.04669727 0.06561937]], shape=(1, 4), dtype=float32)\n",
      "[0.8, 0.2, 0.7, 0.1]\n",
      "tf.Tensor([[0.5576345  0.34688666 0.03985205 0.05562686]], shape=(1, 4), dtype=float32)\n",
      "[0.7, 0.2, 0.7, 0.1]\n",
      "tf.Tensor([[0.5799892  0.34744388 0.03027713 0.04228974]], shape=(1, 4), dtype=float32)\n"
     ]
    },
    {
     "name": "stderr",
     "output_type": "stream",
     "text": [
      " 16%|███████████▉                                                             | 4901/30000 [3:10:01<5:51:20,  1.19it/s]"
     ]
    },
    {
     "name": "stdout",
     "output_type": "stream",
     "text": [
      "-6.455695619448351\n",
      "90\n"
     ]
    },
    {
     "name": "stderr",
     "output_type": "stream",
     "text": [
      " 17%|████████████▏                                                            | 5000/30000 [3:11:48<5:06:58,  1.36it/s]"
     ]
    },
    {
     "name": "stdout",
     "output_type": "stream",
     "text": [
      "-2.5701107727349317\n",
      "94\n",
      "[0.9, 0.5, 0.2, 0.9]\n",
      "tf.Tensor([[0.5929548  0.30756962 0.03846561 0.06100995]], shape=(1, 4), dtype=float32)\n",
      "[0.8, 0.5, 0.2, 0.9]\n",
      "tf.Tensor([[0.6152151  0.30321917 0.0315376  0.05002806]], shape=(1, 4), dtype=float32)\n",
      "[0.7, 0.5, 0.2, 0.9]\n",
      "tf.Tensor([[0.63539433 0.2972946  0.02527738 0.0420337 ]], shape=(1, 4), dtype=float32)\n",
      "[0.6, 0.5, 0.2, 0.9]\n",
      "tf.Tensor([[0.65315783 0.2907111  0.02043875 0.0356923 ]], shape=(1, 4), dtype=float32)\n",
      "[0.5, 0.5, 0.2, 0.9]\n",
      "tf.Tensor([[0.6655106  0.2803702  0.01993889 0.03418031]], shape=(1, 4), dtype=float32)"
     ]
    },
    {
     "name": "stderr",
     "output_type": "stream",
     "text": [
      "\r",
      " 17%|████████████▏                                                            | 5001/30000 [3:11:48<4:37:51,  1.50it/s]"
     ]
    },
    {
     "name": "stdout",
     "output_type": "stream",
     "text": [
      "\n",
      "[0.5, 0.6, 0.2, 0.9]\n",
      "tf.Tensor([[0.66104215 0.28450593 0.02005792 0.03439397]], shape=(1, 4), dtype=float32)\n",
      "[0.4, 0.6, 0.2, 0.9]\n",
      "tf.Tensor([[0.6709871  0.27565423 0.01969884 0.03365977]], shape=(1, 4), dtype=float32)\n",
      "[0.4, 0.7, 0.2, 0.9]\n",
      "tf.Tensor([[0.6671551  0.27960575 0.01965727 0.03358189]], shape=(1, 4), dtype=float32)\n",
      "[0.3, 0.7, 0.2, 0.9]\n",
      "tf.Tensor([[0.67622674 0.2714449  0.01909011 0.03323827]], shape=(1, 4), dtype=float32)\n",
      "[0.3, 0.8, 0.2, 0.9]\n",
      "tf.Tensor([[0.67266005 0.27537066 0.01892299 0.03304628]], shape=(1, 4), dtype=float32)\n",
      "[0.2, 0.8, 0.2, 0.9]\n",
      "tf.Tensor([[0.68289596 0.26630148 0.01826786 0.03253467]], shape=(1, 4), dtype=float32)\n"
     ]
    },
    {
     "name": "stderr",
     "output_type": "stream",
     "text": [
      " 17%|████████████▍                                                            | 5101/30000 [3:13:44<6:20:54,  1.09it/s]"
     ]
    },
    {
     "name": "stdout",
     "output_type": "stream",
     "text": [
      "-4.726019877680002\n",
      "92\n"
     ]
    },
    {
     "name": "stderr",
     "output_type": "stream",
     "text": [
      " 17%|████████████▋                                                            | 5200/30000 [3:15:45<6:17:30,  1.09it/s]"
     ]
    },
    {
     "name": "stdout",
     "output_type": "stream",
     "text": [
      "-3.306490965083433\n",
      "98\n",
      "[0.9, 0.9, 0.5, 0.7]\n",
      "tf.Tensor([[0.6162126  0.29143763 0.03529252 0.05705734]], shape=(1, 4), dtype=float32)\n",
      "[0.8, 0.9, 0.5, 0.7]\n",
      "tf.Tensor([[0.6602595  0.27179584 0.02542778 0.04251691]], shape=(1, 4), dtype=float32)\n",
      "[0.7, 0.9, 0.5, 0.7]\n",
      "tf.Tensor([[0.69842386 0.25136638 0.0182205  0.03198918]], shape=(1, 4), dtype=float32)\n",
      "[0.6, 0.9, 0.5, 0.7]\n",
      "tf.Tensor([[0.7360295  0.22877565 0.01256439 0.02263043]], shape=(1, 4), dtype=float32)\n",
      "[0.6, 0.8, 0.5, 0.7]\n",
      "tf.Tensor([[0.73570704 0.22913852 0.01223806 0.02291646]], shape=(1, 4), dtype=float32)"
     ]
    },
    {
     "name": "stderr",
     "output_type": "stream",
     "text": [
      "\r",
      " 17%|████████████▋                                                            | 5201/30000 [3:15:46<6:38:01,  1.04it/s]"
     ]
    },
    {
     "name": "stdout",
     "output_type": "stream",
     "text": [
      "\n",
      "[0.5, 0.8, 0.5, 0.7]\n",
      "tf.Tensor([[0.74268335 0.22410044 0.01170607 0.0215101 ]], shape=(1, 4), dtype=float32)\n"
     ]
    },
    {
     "name": "stderr",
     "output_type": "stream",
     "text": [
      " 18%|████████████▉                                                            | 5301/30000 [3:17:30<8:39:13,  1.26s/it]"
     ]
    },
    {
     "name": "stdout",
     "output_type": "stream",
     "text": [
      "-1.5817755157729934\n",
      "96\n"
     ]
    },
    {
     "name": "stderr",
     "output_type": "stream",
     "text": [
      " 18%|█████████████▏                                                           | 5401/30000 [3:19:08<7:23:06,  1.08s/it]"
     ]
    },
    {
     "name": "stdout",
     "output_type": "stream",
     "text": [
      "-2.8152972908123584\n",
      "99\n",
      "[0.1, 0.4, 0.1, 0.1]\n",
      "tf.Tensor([[0.64701104 0.27924275 0.02574813 0.04799805]], shape=(1, 4), dtype=float32)\n",
      "[0.1, 0.3, 0.1, 0.1]\n",
      "tf.Tensor([[0.7026255  0.24797903 0.01624697 0.03314851]], shape=(1, 4), dtype=float32)\n",
      "[0.1, 0.2, 0.1, 0.1]\n",
      "tf.Tensor([[0.7471336  0.21945408 0.01046622 0.02294607]], shape=(1, 4), dtype=float32)\n"
     ]
    },
    {
     "name": "stderr",
     "output_type": "stream",
     "text": [
      " 18%|█████████████▍                                                           | 5501/30000 [3:20:38<7:43:11,  1.13s/it]"
     ]
    },
    {
     "name": "stdout",
     "output_type": "stream",
     "text": [
      "-2.0404663145966215\n",
      "98\n"
     ]
    },
    {
     "name": "stderr",
     "output_type": "stream",
     "text": [
      " 19%|█████████████▋                                                           | 5601/30000 [3:22:14<6:08:20,  1.10it/s]"
     ]
    },
    {
     "name": "stdout",
     "output_type": "stream",
     "text": [
      "-1.9720184255845998\n",
      "97\n",
      "[0.4, 0.4, 0.2, 0.9]\n",
      "tf.Tensor([[0.6368742  0.28856614 0.0266142  0.04794549]], shape=(1, 4), dtype=float32)\n",
      "[0.4, 0.5, 0.2, 0.9]\n",
      "tf.Tensor([[0.68974906 0.25841996 0.01781663 0.03401443]], shape=(1, 4), dtype=float32)\n",
      "[0.4, 0.6, 0.2, 0.9]\n",
      "tf.Tensor([[0.73316646 0.23093013 0.01199764 0.0239058 ]], shape=(1, 4), dtype=float32)\n",
      "[0.4, 0.7, 0.2, 0.9]\n",
      "tf.Tensor([[0.762221   0.21208191 0.00823885 0.01745827]], shape=(1, 4), dtype=float32)\n",
      "[0.3, 0.7, 0.2, 0.9]\n",
      "tf.Tensor([[0.7697119  0.20524621 0.00787798 0.01716396]], shape=(1, 4), dtype=float32)\n",
      "[0.3, 0.8, 0.2, 0.9]\n",
      "tf.Tensor([[0.76500046 0.20983793 0.00785897 0.01730273]], shape=(1, 4), dtype=float32)\n",
      "[0.2, 0.8, 0.2, 0.9]\n",
      "tf.Tensor([[0.7734154  0.20209768 0.00751949 0.01696743]], shape=(1, 4), dtype=float32)\n"
     ]
    },
    {
     "name": "stderr",
     "output_type": "stream",
     "text": [
      " 19%|█████████████▊                                                           | 5701/30000 [3:23:53<5:48:14,  1.16it/s]"
     ]
    },
    {
     "name": "stdout",
     "output_type": "stream",
     "text": [
      "-1.0427151597243631\n",
      "99\n"
     ]
    },
    {
     "name": "stderr",
     "output_type": "stream",
     "text": [
      " 19%|██████████████                                                           | 5800/30000 [3:25:38<9:22:47,  1.40s/it]"
     ]
    },
    {
     "name": "stdout",
     "output_type": "stream",
     "text": [
      "-2.2841935203997727\n",
      "99\n",
      "[0.9, 0.9, 0.1, 0.1]\n",
      "tf.Tensor([[0.59347486 0.32814118 0.02914214 0.04924181]], shape=(1, 4), dtype=float32)\n",
      "[0.8, 0.9, 0.1, 0.1]\n",
      "tf.Tensor([[0.6580022  0.29126236 0.01784342 0.03289203]], shape=(1, 4), dtype=float32)\n",
      "[0.7, 0.9, 0.1, 0.1]\n",
      "tf.Tensor([[0.71346354 0.25407708 0.01057246 0.0218869 ]], shape=(1, 4), dtype=float32)\n",
      "[0.6, 0.9, 0.1, 0.1]\n",
      "tf.Tensor([[0.7590571  0.21984257 0.00649148 0.01460882]], shape=(1, 4), dtype=float32)\n",
      "[0.5, 0.9, 0.1, 0.1]\n",
      "tf.Tensor([[0.7667382  0.2139793  0.00594029 0.01334224]], shape=(1, 4), dtype=float32)\n",
      "[0.5, 0.8, 0.1, 0.1]\n",
      "tf.Tensor([[0.77438223 0.20831612 0.00526438 0.01203731]], shape=(1, 4), dtype=float32)"
     ]
    },
    {
     "name": "stderr",
     "output_type": "stream",
     "text": [
      "\r",
      " 19%|██████████████                                                           | 5801/30000 [3:25:39<8:52:04,  1.32s/it]"
     ]
    },
    {
     "name": "stdout",
     "output_type": "stream",
     "text": [
      "\n",
      "[0.5, 0.7, 0.1, 0.1]\n",
      "tf.Tensor([[0.7755847  0.20719393 0.00514263 0.01207873]], shape=(1, 4), dtype=float32)\n",
      "[0.4, 0.7, 0.1, 0.1]\n",
      "tf.Tensor([[0.78400505 0.20001963 0.00478447 0.01119082]], shape=(1, 4), dtype=float32)\n",
      "[0.4, 0.6, 0.1, 0.1]\n",
      "tf.Tensor([[0.78072435 0.20284992 0.00493149 0.01149429]], shape=(1, 4), dtype=float32)\n",
      "[0.4, 0.5, 0.1, 0.1]\n",
      "tf.Tensor([[0.770577   0.2107041  0.00560017 0.01311865]], shape=(1, 4), dtype=float32)\n",
      "[0.3, 0.5, 0.1, 0.1]\n",
      "tf.Tensor([[0.77992666 0.20287341 0.00514733 0.01205257]], shape=(1, 4), dtype=float32)\n",
      "[0.3, 0.4, 0.1, 0.1]\n",
      "tf.Tensor([[0.77676886 0.20554069 0.00530788 0.0123826 ]], shape=(1, 4), dtype=float32)\n",
      "[0.3, 0.3, 0.1, 0.1]\n",
      "tf.Tensor([[0.7650998  0.21440391 0.00612389 0.01437234]], shape=(1, 4), dtype=float32)\n",
      "[0.2, 0.3, 0.1, 0.1]\n",
      "tf.Tensor([[0.775359   0.20600513 0.00557052 0.01306536]], shape=(1, 4), dtype=float32)\n",
      "[0.2, 0.2, 0.1, 0.1]\n",
      "tf.Tensor([[0.7615012  0.21659036 0.00651236 0.01539605]], shape=(1, 4), dtype=float32)\n",
      "[0.1, 0.2, 0.1, 0.1]\n",
      "tf.Tensor([[0.759306   0.21770684 0.00692672 0.01606042]], shape=(1, 4), dtype=float32)\n"
     ]
    },
    {
     "name": "stderr",
     "output_type": "stream",
     "text": [
      " 20%|██████████████▎                                                          | 5901/30000 [3:27:17<7:05:33,  1.06s/it]"
     ]
    },
    {
     "name": "stdout",
     "output_type": "stream",
     "text": [
      "-1.290859689664258\n",
      "100\n"
     ]
    },
    {
     "name": "stderr",
     "output_type": "stream",
     "text": [
      " 20%|██████████████▌                                                          | 6001/30000 [3:28:55<6:18:28,  1.06it/s]"
     ]
    },
    {
     "name": "stdout",
     "output_type": "stream",
     "text": [
      "-0.8024972707057296\n",
      "96\n",
      "[0.5, 0.0, 0.2, 0.9]\n",
      "tf.Tensor([[0.6459874  0.27982023 0.02579392 0.04839846]], shape=(1, 4), dtype=float32)\n",
      "[0.5, 0.1, 0.2, 0.9]\n",
      "tf.Tensor([[0.7145303  0.23828249 0.01558039 0.03160678]], shape=(1, 4), dtype=float32)\n",
      "[0.5, 0.2, 0.2, 0.9]\n",
      "tf.Tensor([[0.77468497 0.1965364  0.00894701 0.01983161]], shape=(1, 4), dtype=float32)\n",
      "[0.5, 0.3, 0.2, 0.9]\n",
      "tf.Tensor([[0.8170013  0.16474901 0.0052552  0.0129945 ]], shape=(1, 4), dtype=float32)\n",
      "[0.5, 0.4, 0.2, 0.9]\n",
      "tf.Tensor([[0.81951815 0.16260764 0.00511445 0.01275979]], shape=(1, 4), dtype=float32)\n",
      "[0.5, 0.5, 0.2, 0.9]\n",
      "tf.Tensor([[0.82195187 0.16052787 0.00498246 0.01253779]], shape=(1, 4), dtype=float32)\n",
      "[0.5, 0.6, 0.2, 0.9]\n",
      "tf.Tensor([[0.816411   0.16550688 0.00516232 0.01291978]], shape=(1, 4), dtype=float32)\n",
      "[0.4, 0.6, 0.2, 0.9]\n",
      "tf.Tensor([[0.82277423 0.15955243 0.00494219 0.01273117]], shape=(1, 4), dtype=float32)\n",
      "[0.4, 0.7, 0.2, 0.9]\n",
      "tf.Tensor([[0.8170639  0.1647108  0.00509337 0.01313196]], shape=(1, 4), dtype=float32)\n",
      "[0.3, 0.7, 0.2, 0.9]\n",
      "tf.Tensor([[0.82349116 0.15864967 0.00490436 0.01295479]], shape=(1, 4), dtype=float32)\n",
      "[0.3, 0.8, 0.2, 0.9]\n",
      "tf.Tensor([[0.82135236 0.16097222 0.00485364 0.01282174]], shape=(1, 4), dtype=float32)\n",
      "[0.2, 0.8, 0.2, 0.9]\n",
      "tf.Tensor([[0.8286616  0.15416184 0.00462573 0.01255076]], shape=(1, 4), dtype=float32)\n"
     ]
    },
    {
     "name": "stderr",
     "output_type": "stream",
     "text": [
      " 20%|██████████████▊                                                          | 6101/30000 [3:30:20<3:47:33,  1.75it/s]"
     ]
    },
    {
     "name": "stdout",
     "output_type": "stream",
     "text": [
      "-0.7809259266687827\n",
      "98\n"
     ]
    },
    {
     "name": "stderr",
     "output_type": "stream",
     "text": [
      " 21%|███████████████                                                          | 6201/30000 [3:31:46<5:08:29,  1.29it/s]"
     ]
    },
    {
     "name": "stdout",
     "output_type": "stream",
     "text": [
      "0.43284169390550364\n",
      "100\n",
      "[0.6, 0.5, 0.7, 0.1]\n",
      "tf.Tensor([[0.6649741  0.2696133  0.02197362 0.04343899]], shape=(1, 4), dtype=float32)\n",
      "[0.6, 0.4, 0.7, 0.1]\n",
      "tf.Tensor([[0.75110716 0.21463877 0.01059652 0.02365757]], shape=(1, 4), dtype=float32)\n",
      "[0.6, 0.3, 0.7, 0.1]\n",
      "tf.Tensor([[0.8127144  0.168983   0.00521866 0.01308394]], shape=(1, 4), dtype=float32)\n",
      "[0.6, 0.2, 0.7, 0.1]\n",
      "tf.Tensor([[0.85512817 0.13424371 0.00270067 0.00792744]], shape=(1, 4), dtype=float32)\n",
      "[0.6, 0.1, 0.7, 0.1]\n",
      "tf.Tensor([[0.8444957  0.1426123  0.00329597 0.00959604]], shape=(1, 4), dtype=float32)\n"
     ]
    },
    {
     "name": "stderr",
     "output_type": "stream",
     "text": [
      " 21%|███████████████▎                                                         | 6301/30000 [3:33:02<5:52:50,  1.12it/s]"
     ]
    },
    {
     "name": "stdout",
     "output_type": "stream",
     "text": [
      "0.82686902409528\n",
      "100\n"
     ]
    },
    {
     "name": "stderr",
     "output_type": "stream",
     "text": [
      " 21%|███████████████▌                                                         | 6401/30000 [3:34:23<4:44:03,  1.38it/s]"
     ]
    },
    {
     "name": "stdout",
     "output_type": "stream",
     "text": [
      "2.082798649143136\n",
      "100\n",
      "[0.4, 0.5, 0.6, 0.2]\n",
      "tf.Tensor([[0.6328812  0.29949152 0.02391419 0.04371301]], shape=(1, 4), dtype=float32)\n",
      "[0.4, 0.4, 0.6, 0.2]\n",
      "tf.Tensor([[0.7253123  0.23876797 0.01158041 0.02433934]], shape=(1, 4), dtype=float32)\n",
      "[0.4, 0.3, 0.6, 0.2]\n",
      "tf.Tensor([[0.7867404  0.19098663 0.00651382 0.0157591 ]], shape=(1, 4), dtype=float32)\n",
      "[0.5, 0.3, 0.6, 0.2]\n",
      "tf.Tensor([[0.8402366  0.14782012 0.00326719 0.00867607]], shape=(1, 4), dtype=float32)\n",
      "[0.5, 0.2, 0.6, 0.2]\n",
      "tf.Tensor([[0.82341087 0.16168758 0.00411723 0.01078426]], shape=(1, 4), dtype=float32)\n"
     ]
    },
    {
     "name": "stderr",
     "output_type": "stream",
     "text": [
      " 22%|███████████████▊                                                         | 6501/30000 [3:35:45<4:33:26,  1.43it/s]"
     ]
    },
    {
     "name": "stdout",
     "output_type": "stream",
     "text": [
      "1.147198442669835\n",
      "99\n"
     ]
    },
    {
     "name": "stderr",
     "output_type": "stream",
     "text": [
      " 22%|████████████████                                                         | 6601/30000 [3:36:57<3:00:11,  2.16it/s]"
     ]
    },
    {
     "name": "stdout",
     "output_type": "stream",
     "text": [
      "2.9504931418818785\n",
      "100\n",
      "[0.2, 0.4, 0.2, 0.9]\n",
      "tf.Tensor([[0.6326028  0.29400346 0.0259429  0.04745083]], shape=(1, 4), dtype=float32)\n",
      "[0.2, 0.5, 0.2, 0.9]\n",
      "tf.Tensor([[0.72768605 0.23014294 0.01371666 0.0284544 ]], shape=(1, 4), dtype=float32)\n",
      "[0.2, 0.6, 0.2, 0.9]\n",
      "tf.Tensor([[0.819383   0.16016103 0.00587615 0.01457976]], shape=(1, 4), dtype=float32)\n",
      "[0.2, 0.7, 0.2, 0.9]\n",
      "tf.Tensor([[0.8768004  0.11306455 0.00260563 0.00752943]], shape=(1, 4), dtype=float32)\n",
      "[0.2, 0.8, 0.2, 0.9]\n",
      "tf.Tensor([[0.8809584  0.10950461 0.00241645 0.00712057]], shape=(1, 4), dtype=float32)\n"
     ]
    },
    {
     "name": "stderr",
     "output_type": "stream",
     "text": [
      " 22%|████████████████▎                                                        | 6701/30000 [3:38:06<3:51:27,  1.68it/s]"
     ]
    },
    {
     "name": "stdout",
     "output_type": "stream",
     "text": [
      "2.9450696871210744\n",
      "100\n"
     ]
    },
    {
     "name": "stderr",
     "output_type": "stream",
     "text": [
      " 23%|████████████████▌                                                        | 6801/30000 [3:39:11<4:00:56,  1.60it/s]"
     ]
    },
    {
     "name": "stdout",
     "output_type": "stream",
     "text": [
      "2.434659308409773\n",
      "100\n",
      "[0.4, 0.2, 0.1, 0.1]\n",
      "tf.Tensor([[0.60370415 0.3126341  0.03037466 0.05328706]], shape=(1, 4), dtype=float32)\n",
      "[0.3, 0.2, 0.1, 0.1]\n",
      "tf.Tensor([[0.69447255 0.25417876 0.01713833 0.03421044]], shape=(1, 4), dtype=float32)\n",
      "[0.2, 0.2, 0.1, 0.1]\n",
      "tf.Tensor([[0.7888747  0.18421635 0.00789127 0.01901765]], shape=(1, 4), dtype=float32)\n",
      "[0.1, 0.2, 0.1, 0.1]\n",
      "tf.Tensor([[0.87768346 0.11171627 0.00260953 0.00799071]], shape=(1, 4), dtype=float32)\n"
     ]
    },
    {
     "name": "stderr",
     "output_type": "stream",
     "text": [
      " 23%|████████████████▊                                                        | 6901/30000 [3:40:14<3:22:11,  1.90it/s]"
     ]
    },
    {
     "name": "stdout",
     "output_type": "stream",
     "text": [
      "3.336854060524937\n",
      "100\n"
     ]
    },
    {
     "name": "stderr",
     "output_type": "stream",
     "text": [
      " 23%|█████████████████                                                        | 7000/30000 [3:41:19<4:11:08,  1.53it/s]"
     ]
    },
    {
     "name": "stdout",
     "output_type": "stream",
     "text": [
      "1.8746308985900684\n",
      "100\n",
      "[0.3, 0.7, 0.7, 0.1]\n",
      "tf.Tensor([[0.5817707  0.32705858 0.03248611 0.05868457]], shape=(1, 4), dtype=float32)\n",
      "[0.3, 0.6, 0.7, 0.1]\n",
      "tf.Tensor([[0.73309714 0.2275806  0.01232524 0.02699698]], shape=(1, 4), dtype=float32)\n",
      "[0.3, 0.5, 0.7, 0.1]\n",
      "tf.Tensor([[0.8445854  0.13905415 0.00421197 0.01214856]], shape=(1, 4), dtype=float32)\n",
      "[0.4, 0.5, 0.7, 0.1]\n",
      "tf.Tensor([[0.9137156  0.08038876 0.00133755 0.00455811]], shape=(1, 4), dtype=float32)\n",
      "[0.4, 0.4, 0.7, 0.1]\n",
      "tf.Tensor([[0.9106756  0.08313154 0.00141738 0.00477553]], shape=(1, 4), dtype=float32)\n",
      "[0.4, 0.3, 0.7, 0.1]\n",
      "tf.Tensor([[0.90253305 0.08973053 0.00175475 0.00598159]], shape=(1, 4), dtype=float32)\n",
      "[0.5, 0.3, 0.7, 0.1]\n"
     ]
    },
    {
     "name": "stderr",
     "output_type": "stream",
     "text": [
      "\r",
      " 23%|█████████████████                                                        | 7001/30000 [3:41:20<5:39:56,  1.13it/s]"
     ]
    },
    {
     "name": "stdout",
     "output_type": "stream",
     "text": [
      "tf.Tensor([[0.911181   0.08270876 0.00141563 0.00469464]], shape=(1, 4), dtype=float32)\n",
      "[0.5, 0.2, 0.7, 0.1]\n",
      "tf.Tensor([[0.90156066 0.0905356  0.00182387 0.00607992]], shape=(1, 4), dtype=float32)\n",
      "[0.6, 0.2, 0.7, 0.1]\n",
      "tf.Tensor([[0.8965993  0.09497964 0.00204324 0.00637791]], shape=(1, 4), dtype=float32)\n",
      "[0.6, 0.1, 0.7, 0.1]\n",
      "tf.Tensor([[0.90190977 0.09028094 0.00182114 0.00598803]], shape=(1, 4), dtype=float32)\n"
     ]
    },
    {
     "name": "stderr",
     "output_type": "stream",
     "text": [
      " 24%|█████████████████▎                                                       | 7101/30000 [3:42:26<3:29:07,  1.83it/s]"
     ]
    },
    {
     "name": "stdout",
     "output_type": "stream",
     "text": [
      "2.509778490607227\n",
      "100\n"
     ]
    },
    {
     "name": "stderr",
     "output_type": "stream",
     "text": [
      " 24%|█████████████████▌                                                       | 7201/30000 [3:43:36<2:46:58,  2.28it/s]"
     ]
    },
    {
     "name": "stdout",
     "output_type": "stream",
     "text": [
      "3.138493757406551\n",
      "100\n",
      "[0.5, 0.6, 0.7, 0.4]\n",
      "tf.Tensor([[0.51388186 0.36071527 0.04469927 0.08070357]], shape=(1, 4), dtype=float32)\n",
      "[0.5, 0.5, 0.7, 0.4]\n",
      "tf.Tensor([[0.68472975 0.2523754  0.01968363 0.0432112 ]], shape=(1, 4), dtype=float32)\n",
      "[0.6, 0.5, 0.7, 0.4]\n",
      "tf.Tensor([[0.8562267  0.12713403 0.00427844 0.01236086]], shape=(1, 4), dtype=float32)\n",
      "[0.6, 0.4, 0.7, 0.4]\n",
      "tf.Tensor([[0.92439425 0.06983744 0.00123428 0.00453409]], shape=(1, 4), dtype=float32)\n"
     ]
    },
    {
     "name": "stderr",
     "output_type": "stream",
     "text": [
      " 24%|█████████████████▊                                                       | 7301/30000 [3:44:51<4:35:30,  1.37it/s]"
     ]
    },
    {
     "name": "stdout",
     "output_type": "stream",
     "text": [
      "2.5514990809415625\n",
      "100\n"
     ]
    },
    {
     "name": "stderr",
     "output_type": "stream",
     "text": [
      " 25%|██████████████████                                                       | 7401/30000 [3:46:03<4:30:34,  1.39it/s]"
     ]
    },
    {
     "name": "stdout",
     "output_type": "stream",
     "text": [
      "2.131960555690009\n",
      "100\n",
      "[0.9, 0.5, 0.7, 0.1]\n",
      "tf.Tensor([[0.3832828  0.45066407 0.06616455 0.09988853]], shape=(1, 4), dtype=float32)\n",
      "[0.9, 0.3, 0.7, 0.1]\n",
      "tf.Tensor([[0.6014556  0.31979927 0.02693549 0.05180962]], shape=(1, 4), dtype=float32)\n",
      "[0.8, 0.3, 0.7, 0.1]\n",
      "tf.Tensor([[0.85414994 0.13003594 0.00410362 0.01171054]], shape=(1, 4), dtype=float32)\n",
      "[0.8, 0.2, 0.7, 0.1]\n",
      "tf.Tensor([[0.9325865  0.06289492 0.00096406 0.00355456]], shape=(1, 4), dtype=float32)\n",
      "[0.7, 0.2, 0.7, 0.1]\n",
      "tf.Tensor([[0.93017435 0.06494363 0.00108175 0.00380036]], shape=(1, 4), dtype=float32)\n"
     ]
    },
    {
     "name": "stderr",
     "output_type": "stream",
     "text": [
      " 25%|██████████████████▎                                                      | 7501/30000 [3:47:05<3:34:01,  1.75it/s]"
     ]
    },
    {
     "name": "stdout",
     "output_type": "stream",
     "text": [
      "4.039211898777621\n",
      "100\n"
     ]
    },
    {
     "name": "stderr",
     "output_type": "stream",
     "text": [
      " 25%|██████████████████▍                                                      | 7600/30000 [3:48:03<3:13:19,  1.93it/s]"
     ]
    },
    {
     "name": "stdout",
     "output_type": "stream",
     "text": [
      "3.9169909179792786\n",
      "100\n",
      "[0.2, 0.9, 0.7, 0.1]\n",
      "tf.Tensor([[0.24453495 0.5189502  0.10598774 0.13052705]], shape=(1, 4), dtype=float32)\n",
      "[0.2, 0.7, 0.7, 0.1]\n",
      "tf.Tensor([[0.43718943 0.4260556  0.05393692 0.082818  ]], shape=(1, 4), dtype=float32)\n",
      "[0.3, 0.7, 0.7, 0.1]\n",
      "tf.Tensor([[0.7877602  0.18298991 0.00840806 0.02084182]], shape=(1, 4), dtype=float32)\n",
      "[0.3, 0.6, 0.7, 0.1]\n",
      "tf.Tensor([[0.9307019  0.06437417 0.00108486 0.00383904]], shape=(1, 4), dtype=float32)\n",
      "[0.3, 0.5, 0.7, 0.1]\n",
      "tf.Tensor([[0.924761   0.06921551 0.00129743 0.00472605]], shape=(1, 4), dtype=float32)\n",
      "[0.4, 0.5, 0.7, 0.1]\n",
      "tf.Tensor([[0.9304118  0.06460325 0.0011128  0.00387211]], shape=(1, 4), dtype=float32)\n",
      "[0.4, 0.4, 0.7, 0.1]\n",
      "tf.Tensor([[0.92319787 0.07049735 0.00138213 0.00492262]], shape=(1, 4), dtype=float32)"
     ]
    },
    {
     "name": "stderr",
     "output_type": "stream",
     "text": [
      " 25%|██████████████████▍                                                      | 7602/30000 [3:48:04<2:42:43,  2.29it/s]"
     ]
    },
    {
     "name": "stdout",
     "output_type": "stream",
     "text": [
      "\n",
      "[0.5, 0.4, 0.7, 0.1]\n",
      "tf.Tensor([[0.9184656  0.07470986 0.00160323 0.00522131]], shape=(1, 4), dtype=float32)\n",
      "[0.5, 0.3, 0.7, 0.1]\n",
      "tf.Tensor([[0.9267993  0.06788389 0.001213   0.00410382]], shape=(1, 4), dtype=float32)\n",
      "[0.5, 0.2, 0.7, 0.1]\n",
      "tf.Tensor([[0.9188034  0.07427497 0.00155336 0.00536827]], shape=(1, 4), dtype=float32)\n",
      "[0.6, 0.2, 0.7, 0.1]\n",
      "tf.Tensor([[0.9287623  0.06616299 0.00115935 0.00391533]], shape=(1, 4), dtype=float32)\n",
      "[0.6, 0.1, 0.7, 0.1]\n",
      "tf.Tensor([[0.91973495 0.07346801 0.00153394 0.00526309]], shape=(1, 4), dtype=float32)\n"
     ]
    },
    {
     "name": "stderr",
     "output_type": "stream",
     "text": [
      " 26%|██████████████████▋                                                      | 7701/30000 [3:48:57<3:11:51,  1.94it/s]"
     ]
    },
    {
     "name": "stdout",
     "output_type": "stream",
     "text": [
      "4.323629915177714\n",
      "100\n"
     ]
    },
    {
     "name": "stderr",
     "output_type": "stream",
     "text": [
      " 26%|██████████████████▉                                                      | 7801/30000 [3:50:01<5:40:28,  1.09it/s]"
     ]
    },
    {
     "name": "stdout",
     "output_type": "stream",
     "text": [
      "2.2734695156962927\n",
      "100\n",
      "[0.4, 0.1, 0.7, 0.4]\n",
      "tf.Tensor([[0.14681195 0.49499846 0.18474945 0.17344019]], shape=(1, 4), dtype=float32)\n",
      "[0.4, 0.3, 0.7, 0.4]\n",
      "tf.Tensor([[0.26122743 0.47582093 0.12748522 0.13546641]], shape=(1, 4), dtype=float32)\n",
      "[0.6, 0.3, 0.7, 0.4]\n",
      "tf.Tensor([[0.60919374 0.30145696 0.03504672 0.05430258]], shape=(1, 4), dtype=float32)\n",
      "[0.6, 0.4, 0.7, 0.4]\n",
      "tf.Tensor([[0.9114331  0.07794311 0.00286622 0.00775759]], shape=(1, 4), dtype=float32)\n"
     ]
    },
    {
     "name": "stderr",
     "output_type": "stream",
     "text": [
      " 26%|███████████████████▏                                                     | 7901/30000 [3:50:56<4:28:15,  1.37it/s]"
     ]
    },
    {
     "name": "stdout",
     "output_type": "stream",
     "text": [
      "3.462566861872891\n",
      "100\n"
     ]
    },
    {
     "name": "stderr",
     "output_type": "stream",
     "text": [
      " 27%|███████████████████▍                                                     | 8001/30000 [3:51:50<3:12:39,  1.90it/s]"
     ]
    },
    {
     "name": "stdout",
     "output_type": "stream",
     "text": [
      "3.957194262325672\n",
      "100\n",
      "[0.3, 0.4, 0.5, 0.7]\n",
      "tf.Tensor([[0.1183009  0.47099936 0.21326146 0.19743825]], shape=(1, 4), dtype=float32)\n",
      "[0.3, 0.6, 0.5, 0.7]\n",
      "tf.Tensor([[0.22856694 0.46766365 0.14789918 0.15587024]], shape=(1, 4), dtype=float32)\n",
      "[0.5, 0.6, 0.5, 0.7]\n",
      "tf.Tensor([[0.6310235  0.28071904 0.03433096 0.0539264 ]], shape=(1, 4), dtype=float32)\n"
     ]
    },
    {
     "name": "stderr",
     "output_type": "stream",
     "text": [
      " 27%|███████████████████▋                                                     | 8101/30000 [3:52:48<4:10:26,  1.46it/s]"
     ]
    },
    {
     "name": "stdout",
     "output_type": "stream",
     "text": [
      "4.012114765842307\n",
      "100\n"
     ]
    },
    {
     "name": "stderr",
     "output_type": "stream",
     "text": [
      " 27%|███████████████████▉                                                     | 8200/30000 [3:53:43<2:30:30,  2.41it/s]"
     ]
    },
    {
     "name": "stdout",
     "output_type": "stream",
     "text": [
      "4.940989822488986\n",
      "100\n",
      "[0.0, 0.0, 0.2, 0.9]\n",
      "tf.Tensor([[0.08234842 0.44676015 0.26186866 0.20902273]], shape=(1, 4), dtype=float32)\n",
      "[0.0, 0.2, 0.2, 0.9]\n",
      "tf.Tensor([[0.13998471 0.4601797  0.21661678 0.18321885]], shape=(1, 4), dtype=float32)\n",
      "[0.0, 0.4, 0.2, 0.9]\n",
      "tf.Tensor([[0.41980693 0.3947809  0.08710214 0.09831003]], shape=(1, 4), dtype=float32)\n",
      "[0.0, 0.5, 0.2, 0.9]\n",
      "tf.Tensor([[0.9207412  0.06871769 0.00311908 0.00742198]], shape=(1, 4), dtype=float32)\n",
      "[0.0, 0.6, 0.2, 0.9]\n",
      "tf.Tensor([[0.93281835 0.05886481 0.00233623 0.00598054]], shape=(1, 4), dtype=float32)\n",
      "[0.0, 0.7, 0.2, 0.9]\n",
      "tf.Tensor([[0.9359571  0.05675712 0.00198034 0.00530552]], shape=(1, 4), dtype=float32)\n",
      "[0.1, 0.7, 0.2, 0.9]\n"
     ]
    },
    {
     "name": "stderr",
     "output_type": "stream",
     "text": [
      "\r",
      " 27%|███████████████████▉                                                     | 8201/30000 [3:53:44<2:55:33,  2.07it/s]"
     ]
    },
    {
     "name": "stdout",
     "output_type": "stream",
     "text": [
      "tf.Tensor([[0.94170505 0.05187009 0.00172652 0.00469837]], shape=(1, 4), dtype=float32)\n",
      "[0.1, 0.8, 0.2, 0.9]\n",
      "tf.Tensor([[0.94027174 0.05343779 0.00166803 0.00462236]], shape=(1, 4), dtype=float32)\n",
      "[0.2, 0.8, 0.2, 0.9]\n",
      "tf.Tensor([[0.9428819  0.05111447 0.00160166 0.00440202]], shape=(1, 4), dtype=float32)\n"
     ]
    },
    {
     "name": "stderr",
     "output_type": "stream",
     "text": [
      " 28%|████████████████████▏                                                    | 8301/30000 [3:54:45<3:13:30,  1.87it/s]"
     ]
    },
    {
     "name": "stdout",
     "output_type": "stream",
     "text": [
      "4.342328735582133\n",
      "100\n"
     ]
    },
    {
     "name": "stderr",
     "output_type": "stream",
     "text": [
      " 28%|████████████████████▍                                                    | 8400/30000 [3:55:43<2:32:49,  2.36it/s]"
     ]
    },
    {
     "name": "stdout",
     "output_type": "stream",
     "text": [
      "4.638748807825145\n",
      "100\n",
      "[0.8, 0.7, 0.6, 0.2]\n",
      "tf.Tensor([[0.06454206 0.44080013 0.30828288 0.18637499]], shape=(1, 4), dtype=float32)\n",
      "[0.8, 0.5, 0.6, 0.2]\n",
      "tf.Tensor([[0.1569211  0.5035748  0.20824213 0.13126199]], shape=(1, 4), dtype=float32)\n",
      "[0.8, 0.3, 0.6, 0.2]\n",
      "tf.Tensor([[0.6626856  0.27590802 0.02895503 0.03245133]], shape=(1, 4), dtype=float32)\n",
      "[0.7, 0.3, 0.6, 0.2]\n",
      "tf.Tensor([[0.9512757  0.04546292 0.0009985  0.00226297]], shape=(1, 4), dtype=float32)\n",
      "[0.6, 0.3, 0.6, 0.2]\n",
      "tf.Tensor([[0.94713765 0.04912507 0.00118728 0.00254993]], shape=(1, 4), dtype=float32)"
     ]
    },
    {
     "name": "stderr",
     "output_type": "stream",
     "text": [
      "\r",
      " 28%|████████████████████▍                                                    | 8401/30000 [3:55:44<2:59:31,  2.01it/s]"
     ]
    },
    {
     "name": "stdout",
     "output_type": "stream",
     "text": [
      "\n"
     ]
    },
    {
     "name": "stderr",
     "output_type": "stream",
     "text": [
      " 28%|████████████████████▋                                                    | 8501/30000 [3:56:36<3:34:14,  1.67it/s]"
     ]
    },
    {
     "name": "stdout",
     "output_type": "stream",
     "text": [
      "4.254606343552757\n",
      "100\n"
     ]
    },
    {
     "name": "stderr",
     "output_type": "stream",
     "text": [
      " 29%|████████████████████▉                                                    | 8601/30000 [3:57:34<3:56:32,  1.51it/s]"
     ]
    },
    {
     "name": "stdout",
     "output_type": "stream",
     "text": [
      "3.7132001055373443\n",
      "99\n",
      "[0.3, 0.1, 0.7, 0.4]\n",
      "tf.Tensor([[0.05228008 0.4157615  0.3528993  0.17905909]], shape=(1, 4), dtype=float32)\n",
      "[0.5, 0.1, 0.7, 0.4]\n",
      "tf.Tensor([[0.08373461 0.44917688 0.30671176 0.16037679]], shape=(1, 4), dtype=float32)\n",
      "[0.5, 0.3, 0.7, 0.4]\n",
      "tf.Tensor([[0.3302963  0.44352382 0.13058218 0.09559772]], shape=(1, 4), dtype=float32)\n",
      "[0.7, 0.3, 0.7, 0.4]\n",
      "tf.Tensor([[0.9397177  0.05419574 0.00200966 0.00407684]], shape=(1, 4), dtype=float32)\n"
     ]
    },
    {
     "name": "stderr",
     "output_type": "stream",
     "text": [
      " 29%|█████████████████████▏                                                   | 8701/30000 [3:58:23<3:31:14,  1.68it/s]"
     ]
    },
    {
     "name": "stdout",
     "output_type": "stream",
     "text": [
      "4.764051689377578\n",
      "100\n"
     ]
    },
    {
     "name": "stderr",
     "output_type": "stream",
     "text": [
      " 29%|█████████████████████▍                                                   | 8801/30000 [3:59:13<3:34:57,  1.64it/s]"
     ]
    },
    {
     "name": "stdout",
     "output_type": "stream",
     "text": [
      "4.356497602075418\n",
      "100\n",
      "[0.8, 0.4, 0.7, 0.4]\n",
      "tf.Tensor([[0.05357419 0.39974564 0.36429632 0.1823839 ]], shape=(1, 4), dtype=float32)\n",
      "[0.6, 0.4, 0.7, 0.4]\n",
      "tf.Tensor([[0.10935429 0.43439582 0.29469112 0.1615588 ]], shape=(1, 4), dtype=float32)\n",
      "[0.8, 0.4, 0.7, 0.4]\n",
      "tf.Tensor([[0.5112599  0.35344216 0.07128549 0.0640124 ]], shape=(1, 4), dtype=float32)\n"
     ]
    },
    {
     "name": "stderr",
     "output_type": "stream",
     "text": [
      " 30%|█████████████████████▋                                                   | 8901/30000 [3:59:59<3:04:45,  1.90it/s]"
     ]
    },
    {
     "name": "stdout",
     "output_type": "stream",
     "text": [
      "4.748179339553046\n",
      "100\n"
     ]
    },
    {
     "name": "stderr",
     "output_type": "stream",
     "text": [
      " 30%|█████████████████████▉                                                   | 9000/30000 [4:00:44<2:34:17,  2.27it/s]"
     ]
    },
    {
     "name": "stdout",
     "output_type": "stream",
     "text": [
      "5.192786648187489\n",
      "100\n",
      "[0.8, 0.5, 0.1, 0.1]\n",
      "tf.Tensor([[0.04192156 0.37807193 0.42565042 0.15435612]], shape=(1, 4), dtype=float32)\n",
      "[0.5, 0.5, 0.1, 0.1]\n",
      "tf.Tensor([[0.07912966 0.42032543 0.36142465 0.1391202 ]], shape=(1, 4), dtype=float32)\n",
      "[0.3, 0.5, 0.1, 0.1]\n",
      "tf.Tensor([[0.45919856 0.39373556 0.08738397 0.0596819 ]], shape=(1, 4), dtype=float32)\n",
      "[0.3, 0.4, 0.1, 0.1]\n",
      "tf.Tensor([[9.6295941e-01 3.4351952e-02 8.5323799e-04 1.8354639e-03]], shape=(1, 4), dtype=float32)\n",
      "[0.3, 0.3, 0.1, 0.1]\n",
      "tf.Tensor([[9.6175557e-01 3.5385735e-02 8.8680402e-04 1.9719391e-03]], shape=(1, 4), dtype=float32)\n",
      "[0.2, 0.3, 0.1, 0.1]\n",
      "tf.Tensor([[9.6541113e-01 3.2162398e-02 7.5848465e-04 1.6679567e-03]], shape=(1, 4), dtype=float32)\n",
      "[0.2, 0.2, 0.1, 0.1]\n",
      "tf.Tensor([[0.9589646  0.0377463  0.00102592 0.00226323]], shape=(1, 4), dtype=float32)\n",
      "[0.1, 0.2, 0.1, 0.1]\n"
     ]
    },
    {
     "name": "stderr",
     "output_type": "stream",
     "text": [
      "\r",
      " 30%|█████████████████████▉                                                   | 9001/30000 [4:00:45<3:21:29,  1.74it/s]"
     ]
    },
    {
     "name": "stdout",
     "output_type": "stream",
     "text": [
      "tf.Tensor([[0.9536636  0.04225658 0.00133488 0.0027449 ]], shape=(1, 4), dtype=float32)\n"
     ]
    },
    {
     "name": "stderr",
     "output_type": "stream",
     "text": [
      " 30%|██████████████████████▏                                                  | 9101/30000 [4:01:31<2:35:03,  2.25it/s]"
     ]
    },
    {
     "name": "stdout",
     "output_type": "stream",
     "text": [
      "5.278448707468932\n",
      "100\n"
     ]
    },
    {
     "name": "stderr",
     "output_type": "stream",
     "text": [
      " 31%|██████████████████████▍                                                  | 9200/30000 [4:02:20<3:18:09,  1.75it/s]"
     ]
    },
    {
     "name": "stdout",
     "output_type": "stream",
     "text": [
      "4.162692901386646\n",
      "100\n",
      "[0.6, 0.0, 0.1, 0.1]\n",
      "tf.Tensor([[0.03488238 0.3641078  0.45603734 0.14497243]], shape=(1, 4), dtype=float32)\n",
      "[0.3, 0.0, 0.1, 0.1]\n",
      "tf.Tensor([[0.05286507 0.38061032 0.4279261  0.13859858]], shape=(1, 4), dtype=float32)\n",
      "[0.0, 0.0, 0.1, 0.1]\n",
      "tf.Tensor([[0.18754448 0.45313072 0.24606007 0.11326465]], shape=(1, 4), dtype=float32)\n",
      "[0.2, 0.0, 0.1, 0.1]\n",
      "tf.Tensor([[0.91870016 0.07191568 0.00386128 0.00552283]], shape=(1, 4), dtype=float32)\n",
      "[0.2, 0.1, 0.1, 0.1]\n",
      "tf.Tensor([[0.8856928  0.09921348 0.00660791 0.00848582]], shape=(1, 4), dtype=float32)"
     ]
    },
    {
     "name": "stderr",
     "output_type": "stream",
     "text": [
      "\r",
      " 31%|██████████████████████▍                                                  | 9201/30000 [4:02:20<3:18:15,  1.75it/s]"
     ]
    },
    {
     "name": "stdout",
     "output_type": "stream",
     "text": [
      "\n"
     ]
    },
    {
     "name": "stderr",
     "output_type": "stream",
     "text": [
      " 31%|██████████████████████▋                                                  | 9301/30000 [4:03:12<3:35:47,  1.60it/s]"
     ]
    },
    {
     "name": "stdout",
     "output_type": "stream",
     "text": [
      "4.894510252541537\n",
      "100\n"
     ]
    },
    {
     "name": "stderr",
     "output_type": "stream",
     "text": [
      " 31%|██████████████████████▊                                                  | 9400/30000 [4:04:03<2:35:30,  2.21it/s]"
     ]
    },
    {
     "name": "stdout",
     "output_type": "stream",
     "text": [
      "4.746285047353754\n",
      "100\n",
      "[0.0, 0.0, 0.5, 0.7]\n",
      "tf.Tensor([[0.0223209  0.35416156 0.50147235 0.1220452 ]], shape=(1, 4), dtype=float32)\n",
      "[0.0, 0.3, 0.5, 0.7]\n",
      "tf.Tensor([[0.02780538 0.33718634 0.51516986 0.11983847]], shape=(1, 4), dtype=float32)\n",
      "[0.3, 0.3, 0.5, 0.7]\n",
      "tf.Tensor([[0.07492171 0.4003369  0.4195157  0.10522569]], shape=(1, 4), dtype=float32)\n",
      "[0.3, 0.6, 0.5, 0.7]\n",
      "tf.Tensor([[0.87679994 0.10705583 0.00825682 0.00788749]], shape=(1, 4), dtype=float32)\n",
      "[0.4, 0.6, 0.5, 0.7]\n",
      "tf.Tensor([[0.89384544 0.0934611  0.00628817 0.00640529]], shape=(1, 4), dtype=float32)\n",
      "[0.5, 0.6, 0.5, 0.7]\n",
      "tf.Tensor([[0.9431814  0.05146851 0.00229867 0.00305145]], shape=(1, 4), dtype=float32)"
     ]
    },
    {
     "name": "stderr",
     "output_type": "stream",
     "text": [
      "\r",
      " 31%|██████████████████████▉                                                  | 9401/30000 [4:04:04<3:18:57,  1.73it/s]"
     ]
    },
    {
     "name": "stdout",
     "output_type": "stream",
     "text": [
      "\n"
     ]
    },
    {
     "name": "stderr",
     "output_type": "stream",
     "text": [
      " 32%|███████████████████████                                                  | 9501/30000 [4:04:56<3:00:34,  1.89it/s]"
     ]
    },
    {
     "name": "stdout",
     "output_type": "stream",
     "text": [
      "4.779437572360887\n",
      "100\n"
     ]
    },
    {
     "name": "stderr",
     "output_type": "stream",
     "text": [
      " 32%|███████████████████████▎                                                 | 9601/30000 [4:05:50<4:27:48,  1.27it/s]"
     ]
    },
    {
     "name": "stdout",
     "output_type": "stream",
     "text": [
      "4.083002423451593\n",
      "100\n",
      "[0.2, 0.4, 0.7, 0.4]\n",
      "tf.Tensor([[0.02045076 0.31996635 0.52535254 0.13423033]], shape=(1, 4), dtype=float32)\n",
      "[0.5, 0.4, 0.7, 0.4]\n",
      "tf.Tensor([[0.02545873 0.31635907 0.5300002  0.12818196]], shape=(1, 4), dtype=float32)\n",
      "[0.8, 0.4, 0.7, 0.4]\n",
      "tf.Tensor([[0.08452266 0.39784384 0.40510538 0.11252815]], shape=(1, 4), dtype=float32)\n",
      "[0.5, 0.4, 0.7, 0.4]\n",
      "tf.Tensor([[0.9213311  0.06931321 0.00446279 0.00489301]], shape=(1, 4), dtype=float32)\n",
      "[0.6, 0.4, 0.7, 0.4]\n",
      "tf.Tensor([[0.9423505  0.05160951 0.00268921 0.00335084]], shape=(1, 4), dtype=float32)\n"
     ]
    },
    {
     "name": "stderr",
     "output_type": "stream",
     "text": [
      " 32%|███████████████████████▌                                                 | 9701/30000 [4:06:43<2:12:57,  2.54it/s]"
     ]
    },
    {
     "name": "stdout",
     "output_type": "stream",
     "text": [
      "5.462175993608652\n",
      "100\n"
     ]
    },
    {
     "name": "stderr",
     "output_type": "stream",
     "text": [
      " 33%|███████████████████████▊                                                 | 9801/30000 [4:07:35<2:09:42,  2.60it/s]"
     ]
    },
    {
     "name": "stdout",
     "output_type": "stream",
     "text": [
      "4.80077570531385\n",
      "100\n",
      "[0.5, 0.1, 0.7, 0.1]\n",
      "tf.Tensor([[0.02270128 0.2847229  0.5166052  0.17597064]], shape=(1, 4), dtype=float32)\n",
      "[0.8, 0.1, 0.7, 0.1]\n",
      "tf.Tensor([[0.02644827 0.28387493 0.5223963  0.1672805 ]], shape=(1, 4), dtype=float32)\n",
      "[0.5, 0.1, 0.7, 0.1]\n",
      "tf.Tensor([[0.08731977 0.34246355 0.42039138 0.14982527]], shape=(1, 4), dtype=float32)\n",
      "[0.8, 0.1, 0.7, 0.1]\n",
      "tf.Tensor([[0.95259696 0.04111705 0.00253708 0.00374894]], shape=(1, 4), dtype=float32)\n"
     ]
    },
    {
     "name": "stderr",
     "output_type": "stream",
     "text": [
      " 33%|████████████████████████                                                 | 9901/30000 [4:08:27<3:12:16,  1.74it/s]"
     ]
    },
    {
     "name": "stdout",
     "output_type": "stream",
     "text": [
      "4.6661416631781805\n",
      "100\n"
     ]
    },
    {
     "name": "stderr",
     "output_type": "stream",
     "text": [
      " 33%|████████████████████████                                                | 10000/30000 [4:09:13<2:36:21,  2.13it/s]"
     ]
    },
    {
     "name": "stdout",
     "output_type": "stream",
     "text": [
      "4.696354732876822\n",
      "100\n",
      "[0.4, 0.9, 0.1, 0.1]\n",
      "tf.Tensor([[0.01881113 0.2961219  0.5022345  0.18283246]], shape=(1, 4), dtype=float32)\n",
      "[0.4, 0.6, 0.1, 0.1]\n",
      "tf.Tensor([[0.02311062 0.30351642 0.50033736 0.17303565]], shape=(1, 4), dtype=float32)\n",
      "[0.4, 0.3, 0.1, 0.1]\n",
      "tf.Tensor([[0.15721948 0.41473863 0.30294487 0.12509702]], shape=(1, 4), dtype=float32)\n",
      "[0.2, 0.3, 0.1, 0.1]\n",
      "tf.Tensor([[9.7965389e-01 1.9007493e-02 4.8101795e-04 8.5758453e-04]], shape=(1, 4), dtype=float32)\n",
      "[0.2, 0.2, 0.1, 0.1]\n",
      "tf.Tensor([[9.7418207e-01 2.3795048e-02 7.2636863e-04 1.2965158e-03]], shape=(1, 4), dtype=float32)\n",
      "[0.1, 0.2, 0.1, 0.1]\n"
     ]
    },
    {
     "name": "stderr",
     "output_type": "stream",
     "text": [
      "\r",
      " 33%|████████████████████████                                                | 10001/30000 [4:09:13<2:25:51,  2.29it/s]"
     ]
    },
    {
     "name": "stdout",
     "output_type": "stream",
     "text": [
      "tf.Tensor([[0.9669511  0.02989924 0.00119251 0.00195727]], shape=(1, 4), dtype=float32)\n"
     ]
    },
    {
     "name": "stderr",
     "output_type": "stream",
     "text": [
      " 34%|████████████████████████▏                                               | 10101/30000 [4:09:59<3:03:15,  1.81it/s]"
     ]
    },
    {
     "name": "stdout",
     "output_type": "stream",
     "text": [
      "4.801780123371375\n",
      "100\n"
     ]
    },
    {
     "name": "stderr",
     "output_type": "stream",
     "text": [
      " 34%|████████████████████████▍                                               | 10201/30000 [4:10:47<2:36:50,  2.10it/s]"
     ]
    },
    {
     "name": "stdout",
     "output_type": "stream",
     "text": [
      "4.737379763329823\n",
      "100\n",
      "[0.7, 0.3, 0.7, 0.1]\n",
      "tf.Tensor([[0.01706363 0.27898827 0.5198299  0.1841182 ]], shape=(1, 4), dtype=float32)\n",
      "[0.7, 0.0, 0.7, 0.1]\n",
      "tf.Tensor([[0.02107893 0.28902578 0.52126783 0.16862752]], shape=(1, 4), dtype=float32)\n",
      "[0.7, 0.3, 0.7, 0.1]\n",
      "tf.Tensor([[0.19165479 0.44228414 0.26626128 0.09979976]], shape=(1, 4), dtype=float32)\n"
     ]
    },
    {
     "name": "stderr",
     "output_type": "stream",
     "text": [
      " 34%|████████████████████████▋                                               | 10301/30000 [4:11:34<2:25:08,  2.26it/s]"
     ]
    },
    {
     "name": "stdout",
     "output_type": "stream",
     "text": [
      "5.1719236110819\n",
      "100\n"
     ]
    },
    {
     "name": "stderr",
     "output_type": "stream",
     "text": [
      " 35%|████████████████████████▉                                               | 10401/30000 [4:12:18<2:39:19,  2.05it/s]"
     ]
    },
    {
     "name": "stdout",
     "output_type": "stream",
     "text": [
      "4.949767929395552\n",
      "100\n",
      "[0.4, 0.6, 0.5, 0.7]\n",
      "tf.Tensor([[0.01603197 0.26303148 0.5207158  0.20022073]], shape=(1, 4), dtype=float32)\n",
      "[0.4, 0.9, 0.5, 0.7]\n",
      "tf.Tensor([[0.01986694 0.2792489  0.5190712  0.18181299]], shape=(1, 4), dtype=float32)\n",
      "[0.4, 0.6, 0.5, 0.7]\n",
      "tf.Tensor([[0.1674494  0.44100767 0.27757153 0.11397136]], shape=(1, 4), dtype=float32)\n",
      "[0.4, 0.8, 0.5, 0.7]\n",
      "tf.Tensor([[9.806818e-01 1.834823e-02 3.470120e-04 6.229503e-04]], shape=(1, 4), dtype=float32)\n",
      "[0.4, 0.7, 0.5, 0.7]\n",
      "tf.Tensor([[9.8082572e-01 1.8233763e-02 3.2307554e-04 6.1742991e-04]], shape=(1, 4), dtype=float32)\n"
     ]
    },
    {
     "name": "stderr",
     "output_type": "stream",
     "text": [
      " 35%|█████████████████████████▏                                              | 10501/30000 [4:13:07<3:31:53,  1.53it/s]"
     ]
    },
    {
     "name": "stdout",
     "output_type": "stream",
     "text": [
      "4.6886314734117445\n",
      "100\n"
     ]
    },
    {
     "name": "stderr",
     "output_type": "stream",
     "text": [
      " 35%|█████████████████████████▍                                              | 10601/30000 [4:13:55<2:39:36,  2.03it/s]"
     ]
    },
    {
     "name": "stdout",
     "output_type": "stream",
     "text": [
      "4.9630631876869264\n",
      "100\n",
      "[0.1, 0.7, 0.2, 0.9]\n",
      "tf.Tensor([[0.01394984 0.2683206  0.5185307  0.19919877]], shape=(1, 4), dtype=float32)\n",
      "[0.1, 1.0, 0.2, 0.9]\n",
      "tf.Tensor([[0.01636659 0.28094733 0.52051675 0.18216932]], shape=(1, 4), dtype=float32)\n",
      "[0.1, 0.7, 0.2, 0.9]\n",
      "tf.Tensor([[0.0997471  0.41923738 0.3520277  0.12898777]], shape=(1, 4), dtype=float32)\n",
      "[0.1, 0.9, 0.2, 0.9]\n",
      "tf.Tensor([[9.8057449e-01 1.8309940e-02 3.9269406e-04 7.2281406e-04]], shape=(1, 4), dtype=float32)\n"
     ]
    },
    {
     "name": "stderr",
     "output_type": "stream",
     "text": [
      " 36%|█████████████████████████▋                                              | 10701/30000 [4:14:45<2:29:36,  2.15it/s]"
     ]
    },
    {
     "name": "stdout",
     "output_type": "stream",
     "text": [
      "4.902437746988792\n",
      "100\n"
     ]
    },
    {
     "name": "stderr",
     "output_type": "stream",
     "text": [
      " 36%|█████████████████████████▉                                              | 10801/30000 [4:15:37<3:24:14,  1.57it/s]"
     ]
    },
    {
     "name": "stdout",
     "output_type": "stream",
     "text": [
      "4.657750746385932\n",
      "100\n",
      "[0.4, 0.4, 0.7, 0.1]\n",
      "tf.Tensor([[0.01436463 0.23335332 0.5247584  0.22752365]], shape=(1, 4), dtype=float32)\n",
      "[0.7, 0.4, 0.7, 0.1]\n",
      "tf.Tensor([[0.01509588 0.25820887 0.5328975  0.1937978 ]], shape=(1, 4), dtype=float32)\n"
     ]
    },
    {
     "name": "stderr",
     "output_type": "stream",
     "text": [
      " 36%|██████████████████████████▏                                             | 10901/30000 [4:16:25<2:42:02,  1.96it/s]"
     ]
    },
    {
     "name": "stdout",
     "output_type": "stream",
     "text": [
      "5.457392493308109\n",
      "100\n"
     ]
    },
    {
     "name": "stderr",
     "output_type": "stream",
     "text": [
      " 37%|██████████████████████████▍                                             | 11001/30000 [4:17:13<2:33:31,  2.06it/s]"
     ]
    },
    {
     "name": "stdout",
     "output_type": "stream",
     "text": [
      "5.714721353548677\n",
      "100\n",
      "[0.8, 0.1, 0.7, 0.1]\n",
      "tf.Tensor([[0.01241609 0.22721125 0.49983126 0.26054135]], shape=(1, 4), dtype=float32)\n",
      "[0.5, 0.1, 0.7, 0.1]\n",
      "tf.Tensor([[0.01544653 0.23921189 0.5075425  0.2377991 ]], shape=(1, 4), dtype=float32)\n",
      "[0.8, 0.1, 0.7, 0.1]\n",
      "tf.Tensor([[0.05865273 0.35825035 0.40572563 0.17737122]], shape=(1, 4), dtype=float32)\n",
      "[0.5, 0.1, 0.7, 0.1]\n",
      "tf.Tensor([[0.9643457  0.03284977 0.00116753 0.00163697]], shape=(1, 4), dtype=float32)\n",
      "[0.6, 0.1, 0.7, 0.1]\n",
      "tf.Tensor([[0.9493638  0.04597982 0.00207275 0.00258367]], shape=(1, 4), dtype=float32)\n"
     ]
    },
    {
     "name": "stderr",
     "output_type": "stream",
     "text": [
      " 37%|██████████████████████████▋                                             | 11101/30000 [4:17:59<3:16:07,  1.61it/s]"
     ]
    },
    {
     "name": "stdout",
     "output_type": "stream",
     "text": [
      "5.1394280875559994\n",
      "100\n"
     ]
    },
    {
     "name": "stderr",
     "output_type": "stream",
     "text": [
      " 37%|██████████████████████████▉                                             | 11200/30000 [4:18:43<2:12:50,  2.36it/s]"
     ]
    },
    {
     "name": "stdout",
     "output_type": "stream",
     "text": [
      "5.293003535133504\n",
      "100\n",
      "[0.5, 0.5, 0.7, 0.1]\n",
      "tf.Tensor([[0.00872134 0.24044023 0.52766347 0.22317493]], shape=(1, 4), dtype=float32)\n",
      "[0.5, 0.2, 0.7, 0.1]\n",
      "tf.Tensor([[0.01254306 0.2546301  0.5457823  0.18704449]], shape=(1, 4), dtype=float32)\n",
      "[0.8, 0.2, 0.7, 0.1]\n",
      "tf.Tensor([[0.09030912 0.47133622 0.3314998  0.10685492]], shape=(1, 4), dtype=float32)\n",
      "[0.8, 0.0, 0.7, 0.1]\n",
      "tf.Tensor([[9.8373783e-01 1.5571206e-02 2.7437814e-04 4.1654531e-04]], shape=(1, 4), dtype=float32)\n",
      "[0.7, 0.0, 0.7, 0.1]\n"
     ]
    },
    {
     "name": "stderr",
     "output_type": "stream",
     "text": [
      "\r",
      " 37%|██████████████████████████▉                                             | 11201/30000 [4:18:43<2:27:50,  2.12it/s]"
     ]
    },
    {
     "name": "stdout",
     "output_type": "stream",
     "text": [
      "tf.Tensor([[9.8119825e-01 1.7940182e-02 3.5652719e-04 5.0508545e-04]], shape=(1, 4), dtype=float32)\n"
     ]
    },
    {
     "name": "stderr",
     "output_type": "stream",
     "text": [
      " 38%|███████████████████████████                                             | 11301/30000 [4:19:27<1:59:50,  2.60it/s]"
     ]
    },
    {
     "name": "stdout",
     "output_type": "stream",
     "text": [
      "5.5794630647099135\n",
      "100\n"
     ]
    },
    {
     "name": "stderr",
     "output_type": "stream",
     "text": [
      " 38%|███████████████████████████▎                                            | 11400/30000 [4:20:10<2:10:24,  2.38it/s]"
     ]
    },
    {
     "name": "stdout",
     "output_type": "stream",
     "text": [
      "5.4910927267335445\n",
      "100\n",
      "[0.2, 0.3, 0.7, 0.4]\n",
      "tf.Tensor([[0.00820911 0.22469005 0.59070444 0.17639637]], shape=(1, 4), dtype=float32)\n",
      "[0.5, 0.3, 0.7, 0.4]\n",
      "tf.Tensor([[0.00980599 0.23960136 0.6039531  0.1466395 ]], shape=(1, 4), dtype=float32)\n",
      "[0.8, 0.3, 0.7, 0.4]\n",
      "tf.Tensor([[0.03096301 0.34500107 0.5111057  0.11293025]], shape=(1, 4), dtype=float32)\n",
      "[0.5, 0.3, 0.7, 0.4]\n",
      "tf.Tensor([[0.95334226 0.04343218 0.0017958  0.00142976]], shape=(1, 4), dtype=float32)\n",
      "[0.6, 0.3, 0.7, 0.4]\n",
      "tf.Tensor([[9.6937627e-01 2.8859129e-02 9.0616359e-04 8.5840980e-04]], shape=(1, 4), dtype=float32)\n",
      "[0.7, 0.3, 0.7, 0.4]\n",
      "tf.Tensor([[9.7952533e-01 1.9481998e-02 4.7475530e-04 5.1787071e-04]], shape=(1, 4), dtype=float32)"
     ]
    },
    {
     "name": "stderr",
     "output_type": "stream",
     "text": [
      "\r",
      " 38%|███████████████████████████▎                                            | 11401/30000 [4:20:11<2:53:02,  1.79it/s]"
     ]
    },
    {
     "name": "stdout",
     "output_type": "stream",
     "text": [
      "\n"
     ]
    },
    {
     "name": "stderr",
     "output_type": "stream",
     "text": [
      " 38%|███████████████████████████▌                                            | 11501/30000 [4:20:54<2:25:19,  2.12it/s]"
     ]
    },
    {
     "name": "stdout",
     "output_type": "stream",
     "text": [
      "5.145959106051086\n",
      "100\n"
     ]
    },
    {
     "name": "stderr",
     "output_type": "stream",
     "text": [
      " 39%|███████████████████████████▊                                            | 11601/30000 [4:21:34<2:10:01,  2.36it/s]"
     ]
    },
    {
     "name": "stdout",
     "output_type": "stream",
     "text": [
      "6.112218949733849\n",
      "100\n",
      "[0.4, 0.2, 0.6, 0.2]\n",
      "tf.Tensor([[0.0083665  0.21470504 0.5600781  0.21685034]], shape=(1, 4), dtype=float32)\n",
      "[0.7, 0.2, 0.6, 0.2]\n",
      "tf.Tensor([[0.00949618 0.23620555 0.5742036  0.18009472]], shape=(1, 4), dtype=float32)\n",
      "[0.4, 0.2, 0.6, 0.2]\n",
      "tf.Tensor([[0.0338616  0.34457356 0.48792383 0.13364102]], shape=(1, 4), dtype=float32)\n",
      "[0.7, 0.2, 0.6, 0.2]\n",
      "tf.Tensor([[0.95974135 0.03772904 0.0013451  0.00118445]], shape=(1, 4), dtype=float32)\n"
     ]
    },
    {
     "name": "stderr",
     "output_type": "stream",
     "text": [
      " 39%|████████████████████████████                                            | 11701/30000 [4:22:15<2:24:58,  2.10it/s]"
     ]
    },
    {
     "name": "stdout",
     "output_type": "stream",
     "text": [
      "5.733965265641158\n",
      "100\n"
     ]
    },
    {
     "name": "stderr",
     "output_type": "stream",
     "text": [
      " 39%|████████████████████████████▎                                           | 11801/30000 [4:23:01<2:28:45,  2.04it/s]"
     ]
    },
    {
     "name": "stdout",
     "output_type": "stream",
     "text": [
      "5.168932478560276\n",
      "100\n",
      "[0.9, 0.1, 0.7, 0.4]\n",
      "tf.Tensor([[0.00593917 0.21966515 0.5768059  0.19758976]], shape=(1, 4), dtype=float32)\n",
      "[0.9, 0.4, 0.7, 0.4]\n",
      "tf.Tensor([[0.00805591 0.23687285 0.59471136 0.16035987]], shape=(1, 4), dtype=float32)\n",
      "[0.6, 0.4, 0.7, 0.4]\n",
      "tf.Tensor([[0.05465712 0.4165372  0.42873472 0.10007092]], shape=(1, 4), dtype=float32)\n",
      "[0.9, 0.4, 0.7, 0.4]\n",
      "tf.Tensor([[9.8342979e-01 1.5942907e-02 3.0091024e-04 3.2644373e-04]], shape=(1, 4), dtype=float32)\n",
      "[0.8, 0.4, 0.7, 0.4]\n",
      "tf.Tensor([[9.8153025e-01 1.7724510e-02 3.5804950e-04 3.8712926e-04]], shape=(1, 4), dtype=float32)\n"
     ]
    },
    {
     "name": "stderr",
     "output_type": "stream",
     "text": [
      " 40%|████████████████████████████▌                                           | 11901/30000 [4:23:50<3:17:44,  1.53it/s]"
     ]
    },
    {
     "name": "stdout",
     "output_type": "stream",
     "text": [
      "5.227023261360641\n",
      "100\n"
     ]
    },
    {
     "name": "stderr",
     "output_type": "stream",
     "text": [
      " 40%|████████████████████████████▊                                           | 12000/30000 [4:24:36<2:39:00,  1.89it/s]"
     ]
    },
    {
     "name": "stdout",
     "output_type": "stream",
     "text": [
      "4.731604913953754\n",
      "100\n",
      "[0.0, 0.9, 0.6, 0.2]\n",
      "tf.Tensor([[0.00507577 0.20223562 0.6056297  0.18705893]], shape=(1, 4), dtype=float32)\n",
      "[0.3, 0.9, 0.6, 0.2]\n",
      "tf.Tensor([[0.00535395 0.22956602 0.6189204  0.14615968]], shape=(1, 4), dtype=float32)\n",
      "[0.3, 0.6, 0.6, 0.2]\n",
      "tf.Tensor([[0.03759237 0.42860562 0.44587776 0.08792423]], shape=(1, 4), dtype=float32)\n",
      "[0.3, 0.3, 0.6, 0.2]\n",
      "tf.Tensor([[9.877466e-01 1.183799e-02 1.842675e-04 2.311230e-04]], shape=(1, 4), dtype=float32)\n",
      "[0.4, 0.3, 0.6, 0.2]\n",
      "tf.Tensor([[9.8817420e-01 1.1420024e-02 1.7905675e-04 2.2669460e-04]], shape=(1, 4), dtype=float32)\n",
      "[0.5, 0.3, 0.6, 0.2]\n",
      "tf.Tensor([[9.8312080e-01 1.6195176e-02 3.2170670e-04 3.6236609e-04]], shape=(1, 4), dtype=float32)"
     ]
    },
    {
     "name": "stderr",
     "output_type": "stream",
     "text": [
      "\r",
      " 40%|████████████████████████████▊                                           | 12001/30000 [4:24:37<3:17:15,  1.52it/s]"
     ]
    },
    {
     "name": "stdout",
     "output_type": "stream",
     "text": [
      "\n",
      "[0.6, 0.3, 0.6, 0.2]\n",
      "tf.Tensor([[9.7334188e-01 2.5407502e-02 6.6095270e-04 5.8963837e-04]], shape=(1, 4), dtype=float32)\n"
     ]
    },
    {
     "name": "stderr",
     "output_type": "stream",
     "text": [
      " 40%|█████████████████████████████                                           | 12101/30000 [4:25:23<2:26:17,  2.04it/s]"
     ]
    },
    {
     "name": "stdout",
     "output_type": "stream",
     "text": [
      "5.916244081424338\n",
      "100\n"
     ]
    },
    {
     "name": "stderr",
     "output_type": "stream",
     "text": [
      " 41%|█████████████████████████████▎                                          | 12200/30000 [4:26:07<1:59:16,  2.49it/s]"
     ]
    },
    {
     "name": "stdout",
     "output_type": "stream",
     "text": [
      "5.689682907389771\n",
      "100\n",
      "[0.4, 0.1, 0.2, 0.9]\n",
      "tf.Tensor([[0.00378486 0.19966051 0.6157514  0.18080331]], shape=(1, 4), dtype=float32)\n",
      "[0.4, 0.4, 0.2, 0.9]\n",
      "tf.Tensor([[0.0043465  0.21586229 0.63665384 0.1431373 ]], shape=(1, 4), dtype=float32)\n",
      "[0.4, 0.7, 0.2, 0.9]\n",
      "tf.Tensor([[0.01689107 0.33299342 0.5489978  0.10111763]], shape=(1, 4), dtype=float32)\n",
      "[0.1, 0.7, 0.2, 0.9]\n",
      "tf.Tensor([[9.7941291e-01 1.9906159e-02 3.3681962e-04 3.4411540e-04]], shape=(1, 4), dtype=float32)\n",
      "[0.1, 0.8, 0.2, 0.9]\n",
      "tf.Tensor([[9.8055947e-01 1.8844811e-02 2.8752242e-04 3.0811928e-04]], shape=(1, 4), dtype=float32)\n",
      "[0.2, 0.8, 0.2, 0.9]\n"
     ]
    },
    {
     "name": "stderr",
     "output_type": "stream",
     "text": [
      "\r",
      " 41%|█████████████████████████████▎                                          | 12201/30000 [4:26:08<2:34:42,  1.92it/s]"
     ]
    },
    {
     "name": "stdout",
     "output_type": "stream",
     "text": [
      "tf.Tensor([[9.8255873e-01 1.6909508e-02 2.5202701e-04 2.7975466e-04]], shape=(1, 4), dtype=float32)\n"
     ]
    },
    {
     "name": "stderr",
     "output_type": "stream",
     "text": [
      " 41%|█████████████████████████████▌                                          | 12301/30000 [4:26:54<2:45:41,  1.78it/s]"
     ]
    },
    {
     "name": "stdout",
     "output_type": "stream",
     "text": [
      "5.623519941714668\n",
      "100\n"
     ]
    },
    {
     "name": "stderr",
     "output_type": "stream",
     "text": [
      " 41%|█████████████████████████████▊                                          | 12400/30000 [4:27:44<2:05:28,  2.34it/s]"
     ]
    },
    {
     "name": "stdout",
     "output_type": "stream",
     "text": [
      "5.470837651826525\n",
      "100\n",
      "[0.1, 0.2, 0.6, 0.2]\n",
      "tf.Tensor([[0.00469431 0.19006546 0.5941762  0.21106403]], shape=(1, 4), dtype=float32)\n",
      "[0.4, 0.2, 0.6, 0.2]\n",
      "tf.Tensor([[0.00546459 0.20533419 0.61179733 0.17740393]], shape=(1, 4), dtype=float32)"
     ]
    },
    {
     "name": "stderr",
     "output_type": "stream",
     "text": [
      "\r",
      " 41%|█████████████████████████████▊                                          | 12401/30000 [4:27:44<2:18:31,  2.12it/s]"
     ]
    },
    {
     "name": "stdout",
     "output_type": "stream",
     "text": [
      "\n",
      "[0.7, 0.2, 0.6, 0.2]\n",
      "tf.Tensor([[0.0139845  0.30071285 0.5558501  0.12945254]], shape=(1, 4), dtype=float32)\n",
      "[0.4, 0.2, 0.6, 0.2]\n",
      "tf.Tensor([[0.91821045 0.07678802 0.00310124 0.00190033]], shape=(1, 4), dtype=float32)\n",
      "[0.5, 0.2, 0.6, 0.2]\n",
      "tf.Tensor([[0.95011216 0.04754362 0.00135046 0.00099375]], shape=(1, 4), dtype=float32)\n"
     ]
    },
    {
     "name": "stderr",
     "output_type": "stream",
     "text": [
      " 42%|██████████████████████████████                                          | 12501/30000 [4:28:25<2:15:24,  2.15it/s]"
     ]
    },
    {
     "name": "stdout",
     "output_type": "stream",
     "text": [
      "5.639740409782356\n",
      "100\n"
     ]
    },
    {
     "name": "stderr",
     "output_type": "stream",
     "text": [
      " 42%|██████████████████████████████▏                                         | 12601/30000 [4:29:05<1:42:15,  2.84it/s]"
     ]
    },
    {
     "name": "stdout",
     "output_type": "stream",
     "text": [
      "6.192956092186358\n",
      "100\n",
      "[0.9, 0.4, 0.7, 0.4]\n",
      "tf.Tensor([[0.0037104  0.18410698 0.64619297 0.16598958]], shape=(1, 4), dtype=float32)\n",
      "[0.6, 0.4, 0.7, 0.4]\n",
      "tf.Tensor([[0.0050324  0.20996247 0.6569012  0.12810388]], shape=(1, 4), dtype=float32)\n",
      "[0.9, 0.4, 0.7, 0.4]\n",
      "tf.Tensor([[0.03514001 0.44837597 0.43950546 0.07697851]], shape=(1, 4), dtype=float32)\n"
     ]
    },
    {
     "name": "stderr",
     "output_type": "stream",
     "text": [
      " 42%|██████████████████████████████▍                                         | 12701/30000 [4:29:46<1:56:59,  2.46it/s]"
     ]
    },
    {
     "name": "stdout",
     "output_type": "stream",
     "text": [
      "5.757593544707592\n",
      "100\n"
     ]
    },
    {
     "name": "stderr",
     "output_type": "stream",
     "text": [
      " 43%|██████████████████████████████▋                                         | 12801/30000 [4:30:26<1:45:56,  2.71it/s]"
     ]
    },
    {
     "name": "stdout",
     "output_type": "stream",
     "text": [
      "6.0100968566455935\n",
      "100\n",
      "[0.4, 0.1, 0.7, 0.4]\n",
      "tf.Tensor([[0.00252309 0.14448683 0.72292227 0.13006781]], shape=(1, 4), dtype=float32)\n",
      "[0.4, 0.4, 0.7, 0.4]\n",
      "tf.Tensor([[0.00340435 0.15582266 0.73780096 0.10297205]], shape=(1, 4), dtype=float32)\n"
     ]
    },
    {
     "name": "stderr",
     "output_type": "stream",
     "text": [
      " 43%|██████████████████████████████▉                                         | 12901/30000 [4:31:07<1:53:19,  2.51it/s]"
     ]
    },
    {
     "name": "stdout",
     "output_type": "stream",
     "text": [
      "5.695414815783486\n",
      "100\n"
     ]
    },
    {
     "name": "stderr",
     "output_type": "stream",
     "text": [
      " 43%|███████████████████████████████▏                                        | 13000/30000 [4:31:49<1:47:57,  2.62it/s]"
     ]
    },
    {
     "name": "stdout",
     "output_type": "stream",
     "text": [
      "5.81884463778902\n",
      "100\n",
      "[0.0, 0.3, 0.5, 0.7]\n",
      "tf.Tensor([[0.00237325 0.11521601 0.7372714  0.14513935]], shape=(1, 4), dtype=float32)\n",
      "[0.3, 0.3, 0.5, 0.7]\n",
      "tf.Tensor([[0.00231946 0.13248047 0.7544063  0.11079369]], shape=(1, 4), dtype=float32)\n",
      "[0.3, 0.6, 0.5, 0.7]\n",
      "tf.Tensor([[0.00757727 0.21752754 0.6969562  0.07793896]], shape=(1, 4), dtype=float32)\n",
      "[0.6, 0.6, 0.5, 0.7]\n",
      "tf.Tensor([[9.2268091e-01 7.4882515e-02 1.7392102e-03 6.9734169e-04]], shape=(1, 4), dtype=float32)\n",
      "[0.5, 0.6, 0.5, 0.7]\n",
      "tf.Tensor([[9.5782638e-01 4.1279010e-02 5.8974040e-04 3.0484216e-04]], shape=(1, 4), dtype=float32)"
     ]
    },
    {
     "name": "stderr",
     "output_type": "stream",
     "text": [
      "\r",
      " 43%|███████████████████████████████▏                                        | 13001/30000 [4:31:50<2:03:35,  2.29it/s]"
     ]
    },
    {
     "name": "stdout",
     "output_type": "stream",
     "text": [
      "\n"
     ]
    },
    {
     "name": "stderr",
     "output_type": "stream",
     "text": [
      " 44%|███████████████████████████████▍                                        | 13101/30000 [4:32:32<1:51:45,  2.52it/s]"
     ]
    },
    {
     "name": "stdout",
     "output_type": "stream",
     "text": [
      "5.8217969142853025\n",
      "100\n"
     ]
    },
    {
     "name": "stderr",
     "output_type": "stream",
     "text": [
      " 44%|███████████████████████████████▋                                        | 13201/30000 [4:33:16<2:18:49,  2.02it/s]"
     ]
    },
    {
     "name": "stdout",
     "output_type": "stream",
     "text": [
      "5.553565791344266\n",
      "100\n",
      "[0.0, 0.6, 0.2, 0.9]\n",
      "tf.Tensor([[0.00201534 0.10076395 0.7070277  0.1901931 ]], shape=(1, 4), dtype=float32)\n",
      "[0.0, 0.9, 0.2, 0.9]\n",
      "tf.Tensor([[0.00233406 0.10422274 0.72888243 0.16456075]], shape=(1, 4), dtype=float32)\n",
      "[0.3, 0.9, 0.2, 0.9]\n",
      "tf.Tensor([[0.00828548 0.19919246 0.68435115 0.1081709 ]], shape=(1, 4), dtype=float32)\n",
      "[0.0, 0.9, 0.2, 0.9]\n",
      "tf.Tensor([[9.6735328e-01 3.1920087e-02 4.3485165e-04 2.9174230e-04]], shape=(1, 4), dtype=float32)\n",
      "[0.1, 0.9, 0.2, 0.9]\n",
      "tf.Tensor([[9.6706122e-01 3.2222033e-02 4.2787232e-04 2.8880776e-04]], shape=(1, 4), dtype=float32)\n"
     ]
    },
    {
     "name": "stderr",
     "output_type": "stream",
     "text": [
      " 44%|███████████████████████████████▉                                        | 13301/30000 [4:34:02<2:00:31,  2.31it/s]"
     ]
    },
    {
     "name": "stdout",
     "output_type": "stream",
     "text": [
      "5.727438323114285\n",
      "100\n"
     ]
    },
    {
     "name": "stderr",
     "output_type": "stream",
     "text": [
      " 45%|████████████████████████████████▏                                       | 13401/30000 [4:34:48<2:13:03,  2.08it/s]"
     ]
    },
    {
     "name": "stdout",
     "output_type": "stream",
     "text": [
      "5.7252876972045\n",
      "100\n",
      "[0.6, 0.9, 0.5, 0.7]\n",
      "tf.Tensor([[0.00171537 0.09368952 0.7130819  0.19151324]], shape=(1, 4), dtype=float32)\n",
      "[0.6, 0.6, 0.5, 0.7]\n",
      "tf.Tensor([[0.0021372  0.10706488 0.7288912  0.16190673]], shape=(1, 4), dtype=float32)\n",
      "[0.3, 0.6, 0.5, 0.7]\n",
      "tf.Tensor([[0.0182921  0.30524066 0.58157617 0.09489106]], shape=(1, 4), dtype=float32)\n",
      "[0.6, 0.6, 0.5, 0.7]\n",
      "tf.Tensor([[9.4929624e-01 4.9845047e-02 5.4510089e-04 3.1363766e-04]], shape=(1, 4), dtype=float32)\n",
      "[0.5, 0.6, 0.5, 0.7]\n",
      "tf.Tensor([[9.3409383e-01 6.4505860e-02 9.2411973e-04 4.7623401e-04]], shape=(1, 4), dtype=float32)\n"
     ]
    },
    {
     "name": "stderr",
     "output_type": "stream",
     "text": [
      " 45%|████████████████████████████████▍                                       | 13501/30000 [4:35:34<2:16:13,  2.02it/s]"
     ]
    },
    {
     "name": "stdout",
     "output_type": "stream",
     "text": [
      "5.7072267357373985\n",
      "100\n"
     ]
    },
    {
     "name": "stderr",
     "output_type": "stream",
     "text": [
      " 45%|████████████████████████████████▋                                       | 13600/30000 [4:36:17<1:56:39,  2.34it/s]"
     ]
    },
    {
     "name": "stdout",
     "output_type": "stream",
     "text": [
      "6.092271378017251\n",
      "100\n",
      "[0.1, 0.7, 0.6, 0.2]\n",
      "tf.Tensor([[0.00202076 0.07686525 0.6974812  0.22363283]], shape=(1, 4), dtype=float32)\n",
      "[0.4, 0.7, 0.6, 0.2]\n",
      "tf.Tensor([[0.00202433 0.09367099 0.7191894  0.18511526]], shape=(1, 4), dtype=float32)\n",
      "[0.4, 0.4, 0.6, 0.2]\n",
      "tf.Tensor([[0.01307396 0.24016657 0.63413125 0.11262824]], shape=(1, 4), dtype=float32)\n",
      "[0.7, 0.4, 0.6, 0.2]\n",
      "tf.Tensor([[9.4591451e-01 5.3084929e-02 6.6125451e-04 3.3931594e-04]], shape=(1, 4), dtype=float32)\n",
      "[0.7, 0.3, 0.6, 0.2]\n",
      "tf.Tensor([[9.5185363e-01 4.7299404e-02 5.4060365e-04 3.0632873e-04]], shape=(1, 4), dtype=float32)"
     ]
    },
    {
     "name": "stderr",
     "output_type": "stream",
     "text": [
      "\r",
      " 45%|████████████████████████████████▋                                       | 13601/30000 [4:36:18<2:05:02,  2.19it/s]"
     ]
    },
    {
     "name": "stdout",
     "output_type": "stream",
     "text": [
      "\n",
      "[0.6, 0.3, 0.6, 0.2]\n",
      "tf.Tensor([[9.4677442e-01 5.2244827e-02 6.4456026e-04 3.3620797e-04]], shape=(1, 4), dtype=float32)\n"
     ]
    },
    {
     "name": "stderr",
     "output_type": "stream",
     "text": [
      " 46%|████████████████████████████████▉                                       | 13701/30000 [4:37:02<2:03:53,  2.19it/s]"
     ]
    },
    {
     "name": "stdout",
     "output_type": "stream",
     "text": [
      "6.129062139184678\n",
      "100\n"
     ]
    },
    {
     "name": "stderr",
     "output_type": "stream",
     "text": [
      " 46%|█████████████████████████████████                                       | 13801/30000 [4:37:47<2:14:24,  2.01it/s]"
     ]
    },
    {
     "name": "stdout",
     "output_type": "stream",
     "text": [
      "5.4507371622474095\n",
      "100\n",
      "[0.2, 0.7, 0.7, 0.4]\n",
      "tf.Tensor([[0.00171098 0.08363588 0.66694206 0.24771103]], shape=(1, 4), dtype=float32)\n",
      "[0.5, 0.7, 0.7, 0.4]\n",
      "tf.Tensor([[0.00171236 0.1032346  0.69223106 0.20282203]], shape=(1, 4), dtype=float32)\n",
      "[0.5, 0.4, 0.7, 0.4]\n",
      "tf.Tensor([[0.01363063 0.2906727  0.5836772  0.11201951]], shape=(1, 4), dtype=float32)\n",
      "[0.8, 0.4, 0.7, 0.4]\n",
      "tf.Tensor([[9.3244976e-01 6.6290177e-02 8.3367393e-04 4.2638229e-04]], shape=(1, 4), dtype=float32)\n"
     ]
    },
    {
     "name": "stderr",
     "output_type": "stream",
     "text": [
      " 46%|█████████████████████████████████▎                                      | 13901/30000 [4:38:30<2:00:11,  2.23it/s]"
     ]
    },
    {
     "name": "stdout",
     "output_type": "stream",
     "text": [
      "5.880385999463955\n",
      "100\n"
     ]
    },
    {
     "name": "stderr",
     "output_type": "stream",
     "text": [
      " 47%|█████████████████████████████████▌                                      | 14001/30000 [4:39:11<2:05:56,  2.12it/s]"
     ]
    },
    {
     "name": "stdout",
     "output_type": "stream",
     "text": [
      "5.711890193402066\n",
      "100\n",
      "[0.6, 0.9, 0.6, 0.2]\n",
      "tf.Tensor([[0.00102686 0.106617   0.73149616 0.1608599 ]], shape=(1, 4), dtype=float32)\n",
      "[0.6, 0.6, 0.6, 0.2]\n",
      "tf.Tensor([[0.00128566 0.14449416 0.7462211  0.10799905]], shape=(1, 4), dtype=float32)\n",
      "[0.6, 0.3, 0.6, 0.2]\n",
      "tf.Tensor([[0.01563931 0.51725274 0.43133217 0.03577577]], shape=(1, 4), dtype=float32)\n",
      "[0.6, 0.1, 0.6, 0.2]\n",
      "tf.Tensor([[8.6620831e-01 1.3263462e-01 9.1075315e-04 2.4626090e-04]], shape=(1, 4), dtype=float32)\n"
     ]
    },
    {
     "name": "stderr",
     "output_type": "stream",
     "text": [
      " 47%|█████████████████████████████████▊                                      | 14101/30000 [4:39:52<2:31:54,  1.74it/s]"
     ]
    },
    {
     "name": "stdout",
     "output_type": "stream",
     "text": [
      "5.3546490437622065\n",
      "100\n"
     ]
    },
    {
     "name": "stderr",
     "output_type": "stream",
     "text": [
      " 47%|██████████████████████████████████                                      | 14201/30000 [4:40:37<2:09:04,  2.04it/s]"
     ]
    },
    {
     "name": "stdout",
     "output_type": "stream",
     "text": [
      "5.304726191401612\n",
      "100\n",
      "[0.5, 0.8, 0.6, 0.2]\n",
      "tf.Tensor([[0.00079658 0.08623149 0.77791435 0.13505754]], shape=(1, 4), dtype=float32)\n",
      "[0.5, 0.5, 0.6, 0.2]\n",
      "tf.Tensor([[0.00095149 0.11286767 0.79337114 0.09280973]], shape=(1, 4), dtype=float32)\n",
      "[0.5, 0.2, 0.6, 0.2]\n",
      "tf.Tensor([[0.01113562 0.40273198 0.5449963  0.04113607]], shape=(1, 4), dtype=float32)\n",
      "[0.8, 0.2, 0.6, 0.2]\n",
      "tf.Tensor([[7.7375335e-01 2.2356513e-01 2.2480930e-03 4.3347053e-04]], shape=(1, 4), dtype=float32)\n",
      "[0.7, 0.2, 0.6, 0.2]\n",
      "tf.Tensor([[7.3873889e-01 2.5729433e-01 3.3551923e-03 6.1161362e-04]], shape=(1, 4), dtype=float32)\n"
     ]
    },
    {
     "name": "stderr",
     "output_type": "stream",
     "text": [
      " 48%|██████████████████████████████████▎                                     | 14301/30000 [4:41:21<2:32:57,  1.71it/s]"
     ]
    },
    {
     "name": "stdout",
     "output_type": "stream",
     "text": [
      "4.404018060692906\n",
      "100\n"
     ]
    },
    {
     "name": "stderr",
     "output_type": "stream",
     "text": [
      " 48%|██████████████████████████████████▌                                     | 14401/30000 [4:42:06<2:20:44,  1.85it/s]"
     ]
    },
    {
     "name": "stdout",
     "output_type": "stream",
     "text": [
      "5.616811345822936\n",
      "100\n",
      "[0.1, 0.8, 0.1, 0.1]\n",
      "tf.Tensor([[6.1715167e-04 6.7054912e-02 8.3291024e-01 9.9417761e-02]], shape=(1, 4), dtype=float32)\n",
      "[0.1, 0.5, 0.1, 0.1]\n",
      "tf.Tensor([[7.1203377e-04 8.3522119e-02 8.4778202e-01 6.7983821e-02]], shape=(1, 4), dtype=float32)\n",
      "[0.1, 0.2, 0.1, 0.1]\n",
      "tf.Tensor([[0.01085647 0.38666135 0.5704748  0.0320074 ]], shape=(1, 4), dtype=float32)\n",
      "[0.1, 0.0, 0.1, 0.1]\n",
      "tf.Tensor([[8.7858301e-01 1.2032908e-01 8.7988726e-04 2.0801341e-04]], shape=(1, 4), dtype=float32)\n"
     ]
    },
    {
     "name": "stderr",
     "output_type": "stream",
     "text": [
      " 48%|██████████████████████████████████▊                                     | 14501/30000 [4:42:49<2:06:15,  2.05it/s]"
     ]
    },
    {
     "name": "stdout",
     "output_type": "stream",
     "text": [
      "5.789806391640307\n",
      "100\n"
     ]
    },
    {
     "name": "stderr",
     "output_type": "stream",
     "text": [
      " 49%|███████████████████████████████████                                     | 14600/30000 [4:43:32<2:03:00,  2.09it/s]"
     ]
    },
    {
     "name": "stdout",
     "output_type": "stream",
     "text": [
      "5.440573715587565\n",
      "100\n",
      "[0.5, 0.7, 0.2, 0.9]\n",
      "tf.Tensor([[6.1972497e-04 5.4580286e-02 8.4149474e-01 1.0330523e-01]], shape=(1, 4), dtype=float32)\n",
      "[0.2, 0.7, 0.2, 0.9]\n",
      "tf.Tensor([[7.2636275e-04 6.9254175e-02 8.6071140e-01 6.9307990e-02]], shape=(1, 4), dtype=float32)\n",
      "[0.2, 1.0, 0.2, 0.9]\n",
      "tf.Tensor([[0.01298932 0.36550677 0.5893664  0.03213762]], shape=(1, 4), dtype=float32)\n",
      "[0.2, 0.7, 0.2, 0.9]\n",
      "tf.Tensor([[8.7584931e-01 1.2294815e-01 9.7796647e-04 2.2464503e-04]], shape=(1, 4), dtype=float32)\n",
      "[0.2, 0.8, 0.2, 0.9]\n",
      "tf.Tensor([[8.8704830e-01 1.1192560e-01 8.2965981e-04 1.9652212e-04]], shape=(1, 4), dtype=float32)"
     ]
    },
    {
     "name": "stderr",
     "output_type": "stream",
     "text": [
      "\r",
      " 49%|███████████████████████████████████                                     | 14601/30000 [4:43:33<2:35:47,  1.65it/s]"
     ]
    },
    {
     "name": "stdout",
     "output_type": "stream",
     "text": [
      "\n"
     ]
    },
    {
     "name": "stderr",
     "output_type": "stream",
     "text": [
      " 49%|███████████████████████████████████▎                                    | 14701/30000 [4:44:20<1:55:41,  2.20it/s]"
     ]
    },
    {
     "name": "stdout",
     "output_type": "stream",
     "text": [
      "5.7352894913247745\n",
      "100\n"
     ]
    },
    {
     "name": "stderr",
     "output_type": "stream",
     "text": [
      " 49%|███████████████████████████████████▌                                    | 14801/30000 [4:45:05<2:12:34,  1.91it/s]"
     ]
    },
    {
     "name": "stdout",
     "output_type": "stream",
     "text": [
      "5.643658514560758\n",
      "100\n",
      "[0.7, 0.9, 0.7, 0.4]\n",
      "tf.Tensor([[5.9676083e-04 5.7748917e-02 8.3721584e-01 1.0443846e-01]], shape=(1, 4), dtype=float32)\n",
      "[0.7, 0.6, 0.7, 0.4]\n",
      "tf.Tensor([[0.00093555 0.09435958 0.84132326 0.06338165]], shape=(1, 4), dtype=float32)\n",
      "[0.7, 0.3, 0.7, 0.4]\n",
      "tf.Tensor([[0.05887419 0.6463037  0.27908728 0.01573481]], shape=(1, 4), dtype=float32)\n",
      "[0.7, 0.5, 0.7, 0.4]\n",
      "tf.Tensor([[8.8629746e-01 1.1296836e-01 6.0059450e-04 1.3359978e-04]], shape=(1, 4), dtype=float32)\n"
     ]
    },
    {
     "name": "stderr",
     "output_type": "stream",
     "text": [
      " 50%|███████████████████████████████████▊                                    | 14901/30000 [4:45:50<2:04:07,  2.03it/s]"
     ]
    },
    {
     "name": "stdout",
     "output_type": "stream",
     "text": [
      "5.467554596886341\n",
      "100\n"
     ]
    },
    {
     "name": "stderr",
     "output_type": "stream",
     "text": [
      " 50%|████████████████████████████████████                                    | 15001/30000 [4:46:36<1:57:58,  2.12it/s]"
     ]
    },
    {
     "name": "stdout",
     "output_type": "stream",
     "text": [
      "5.730046514167372\n",
      "100\n",
      "[0.7, 0.2, 0.1, 0.1]\n",
      "tf.Tensor([[7.2053151e-04 5.4397922e-02 8.2881361e-01 1.1606803e-01]], shape=(1, 4), dtype=float32)\n",
      "[0.4, 0.2, 0.1, 0.1]\n",
      "tf.Tensor([[0.00092867 0.07001141 0.83972436 0.08933558]], shape=(1, 4), dtype=float32)\n",
      "[0.1, 0.2, 0.1, 0.1]\n",
      "tf.Tensor([[0.01020098 0.30520445 0.637785   0.04680956]], shape=(1, 4), dtype=float32)\n",
      "[0.1, 0.0, 0.1, 0.1]\n",
      "tf.Tensor([[8.3276677e-01 1.6498740e-01 1.8793669e-03 3.6641318e-04]], shape=(1, 4), dtype=float32)\n"
     ]
    },
    {
     "name": "stderr",
     "output_type": "stream",
     "text": [
      " 50%|████████████████████████████████████▏                                   | 15101/30000 [4:47:25<2:12:57,  1.87it/s]"
     ]
    },
    {
     "name": "stdout",
     "output_type": "stream",
     "text": [
      "4.674869245755227\n",
      "100\n"
     ]
    },
    {
     "name": "stderr",
     "output_type": "stream",
     "text": [
      " 51%|████████████████████████████████████▍                                   | 15200/30000 [4:48:11<2:04:17,  1.98it/s]"
     ]
    },
    {
     "name": "stdout",
     "output_type": "stream",
     "text": [
      "4.684674064383763\n",
      "100\n",
      "[0.5, 0.2, 0.7, 0.4]\n",
      "tf.Tensor([[6.5084774e-04 5.6635957e-02 8.3224422e-01 1.1046889e-01]], shape=(1, 4), dtype=float32)\n",
      "[0.8, 0.2, 0.7, 0.4]\n",
      "tf.Tensor([[7.0497056e-04 7.7712364e-02 8.4760201e-01 7.3980674e-02]], shape=(1, 4), dtype=float32)\n",
      "[0.8, 0.5, 0.7, 0.4]\n",
      "tf.Tensor([[0.01012652 0.37571588 0.57888126 0.03527626]], shape=(1, 4), dtype=float32)\n",
      "[0.5, 0.5, 0.7, 0.4]\n",
      "tf.Tensor([[6.0346383e-01 3.9125177e-01 4.7169607e-03 5.6745025e-04]], shape=(1, 4), dtype=float32)\n",
      "[0.6, 0.5, 0.7, 0.4]\n",
      "tf.Tensor([[6.3254690e-01 3.6322847e-01 3.7534677e-03 4.7117655e-04]], shape=(1, 4), dtype=float32)\n",
      "[0.7, 0.5, 0.7, 0.4]\n",
      "tf.Tensor([[6.3641155e-01 3.5973665e-01 3.4330792e-03 4.1875168e-04]], shape=(1, 4), dtype=float32)\n"
     ]
    },
    {
     "name": "stderr",
     "output_type": "stream",
     "text": [
      " 51%|████████████████████████████████████▋                                   | 15301/30000 [4:48:56<1:34:07,  2.60it/s]"
     ]
    },
    {
     "name": "stdout",
     "output_type": "stream",
     "text": [
      "5.530950800023804\n",
      "100\n"
     ]
    },
    {
     "name": "stderr",
     "output_type": "stream",
     "text": [
      " 51%|████████████████████████████████████▉                                   | 15401/30000 [4:49:37<1:54:26,  2.13it/s]"
     ]
    },
    {
     "name": "stdout",
     "output_type": "stream",
     "text": [
      "5.727908992725824\n",
      "100\n",
      "[0.9, 0.5, 0.1, 0.1]\n",
      "tf.Tensor([[5.8318971e-04 5.8084980e-02 7.9674476e-01 1.4458701e-01]], shape=(1, 4), dtype=float32)\n",
      "[0.6, 0.5, 0.1, 0.1]\n",
      "tf.Tensor([[0.00088646 0.08837748 0.80279344 0.1079426 ]], shape=(1, 4), dtype=float32)\n",
      "[0.3, 0.5, 0.1, 0.1]\n",
      "tf.Tensor([[0.01551224 0.51455885 0.43718478 0.03274407]], shape=(1, 4), dtype=float32)\n",
      "[0.3, 0.3, 0.1, 0.1]\n",
      "tf.Tensor([[6.1064720e-01 3.8585958e-01 3.0530274e-03 4.4027303e-04]], shape=(1, 4), dtype=float32)\n",
      "[0.2, 0.3, 0.1, 0.1]\n",
      "tf.Tensor([[6.1659890e-01 3.8020277e-01 2.8099359e-03 3.8838680e-04]], shape=(1, 4), dtype=float32)\n",
      "[0.2, 0.2, 0.1, 0.1]\n",
      "tf.Tensor([[6.2606829e-01 3.7078080e-01 2.7437843e-03 4.0709696e-04]], shape=(1, 4), dtype=float32)\n",
      "[0.1, 0.2, 0.1, 0.1]\n",
      "tf.Tensor([[5.8712381e-01 4.0870908e-01 3.6769696e-03 4.9010408e-04]], shape=(1, 4), dtype=float32)\n"
     ]
    },
    {
     "name": "stderr",
     "output_type": "stream",
     "text": [
      " 52%|█████████████████████████████████████▏                                  | 15501/30000 [4:50:23<2:00:07,  2.01it/s]"
     ]
    },
    {
     "name": "stdout",
     "output_type": "stream",
     "text": [
      "5.279750152400979\n",
      "100\n"
     ]
    },
    {
     "name": "stderr",
     "output_type": "stream",
     "text": [
      " 52%|█████████████████████████████████████▍                                  | 15601/30000 [4:51:03<2:02:04,  1.97it/s]"
     ]
    },
    {
     "name": "stdout",
     "output_type": "stream",
     "text": [
      "5.58717754073545\n",
      "100\n",
      "[0.5, 0.8, 0.2, 0.9]\n",
      "tf.Tensor([[6.9387967e-04 6.0365725e-02 7.4352926e-01 1.9541107e-01]], shape=(1, 4), dtype=float32)\n",
      "[0.2, 0.8, 0.2, 0.9]\n",
      "tf.Tensor([[0.00098752 0.09143163 0.78470165 0.12287927]], shape=(1, 4), dtype=float32)\n",
      "[0.2, 1.0, 0.2, 0.9]\n",
      "tf.Tensor([[0.03405796 0.6509809  0.28972548 0.02523568]], shape=(1, 4), dtype=float32)\n",
      "[0.2, 0.8, 0.2, 0.9]\n",
      "tf.Tensor([[7.6869762e-01 2.3012456e-01 9.6051511e-04 2.1727038e-04]], shape=(1, 4), dtype=float32)\n"
     ]
    },
    {
     "name": "stderr",
     "output_type": "stream",
     "text": [
      " 52%|█████████████████████████████████████▋                                  | 15701/30000 [4:51:45<2:04:13,  1.92it/s]"
     ]
    },
    {
     "name": "stdout",
     "output_type": "stream",
     "text": [
      "5.058208182632804\n",
      "100\n"
     ]
    },
    {
     "name": "stderr",
     "output_type": "stream",
     "text": [
      " 53%|█████████████████████████████████████▉                                  | 15801/30000 [4:52:29<1:56:28,  2.03it/s]"
     ]
    },
    {
     "name": "stdout",
     "output_type": "stream",
     "text": [
      "5.584700982023092\n",
      "100\n",
      "[0.3, 0.1, 0.2, 0.9]\n",
      "tf.Tensor([[5.8046891e-04 6.1246719e-02 7.6679736e-01 1.7137547e-01]], shape=(1, 4), dtype=float32)\n",
      "[0.3, 0.4, 0.2, 0.9]\n",
      "tf.Tensor([[7.62193464e-04 8.27214867e-02 8.00028741e-01 1.16487615e-01]], shape=(1, 4), dtype=float32)\n",
      "[0.3, 0.7, 0.2, 0.9]\n",
      "tf.Tensor([[0.01340661 0.44763073 0.4992217  0.03974087]], shape=(1, 4), dtype=float32)\n",
      "[0.3, 1.0, 0.2, 0.9]\n",
      "tf.Tensor([[7.6082361e-01 2.3766626e-01 1.2564852e-03 2.5360566e-04]], shape=(1, 4), dtype=float32)\n",
      "[0.2, 1.0, 0.2, 0.9]\n",
      "tf.Tensor([[7.7453703e-01 2.2417524e-01 1.0685271e-03 2.1917826e-04]], shape=(1, 4), dtype=float32)\n"
     ]
    },
    {
     "name": "stderr",
     "output_type": "stream",
     "text": [
      " 53%|██████████████████████████████████████▏                                 | 15901/30000 [4:53:13<1:58:07,  1.99it/s]"
     ]
    },
    {
     "name": "stdout",
     "output_type": "stream",
     "text": [
      "5.6721485994518455\n",
      "100\n"
     ]
    },
    {
     "name": "stderr",
     "output_type": "stream",
     "text": [
      " 53%|██████████████████████████████████████▍                                 | 16001/30000 [4:53:57<1:39:29,  2.35it/s]"
     ]
    },
    {
     "name": "stdout",
     "output_type": "stream",
     "text": [
      "6.160094190720938\n",
      "100\n",
      "[0.3, 0.4, 0.6, 0.2]\n",
      "tf.Tensor([[6.3411129e-04 5.6154616e-02 7.5640762e-01 1.8680364e-01]], shape=(1, 4), dtype=float32)\n",
      "[0.6, 0.4, 0.6, 0.2]\n",
      "tf.Tensor([[0.00079262 0.09118563 0.7838277  0.12419403]], shape=(1, 4), dtype=float32)\n",
      "[0.6, 0.1, 0.6, 0.2]\n",
      "tf.Tensor([[0.01685637 0.52755016 0.42187345 0.03371998]], shape=(1, 4), dtype=float32)\n",
      "[0.6, 0.3, 0.6, 0.2]\n",
      "tf.Tensor([[7.5309932e-01 2.4547604e-01 1.2118896e-03 2.1267975e-04]], shape=(1, 4), dtype=float32)\n"
     ]
    },
    {
     "name": "stderr",
     "output_type": "stream",
     "text": [
      " 54%|██████████████████████████████████████▋                                 | 16101/30000 [4:54:43<2:00:20,  1.93it/s]"
     ]
    },
    {
     "name": "stdout",
     "output_type": "stream",
     "text": [
      "5.579144618414354\n",
      "100\n"
     ]
    },
    {
     "name": "stderr",
     "output_type": "stream",
     "text": [
      " 54%|██████████████████████████████████████▉                                 | 16201/30000 [4:55:27<1:46:39,  2.16it/s]"
     ]
    },
    {
     "name": "stdout",
     "output_type": "stream",
     "text": [
      "5.416316722270705\n",
      "100\n",
      "[0.4, 0.3, 0.2, 0.9]\n",
      "tf.Tensor([[5.5228634e-04 5.3110428e-02 7.3406696e-01 2.1227035e-01]], shape=(1, 4), dtype=float32)\n",
      "[0.4, 0.6, 0.2, 0.9]\n",
      "tf.Tensor([[7.2139688e-04 7.3418938e-02 7.8663594e-01 1.3922374e-01]], shape=(1, 4), dtype=float32)\n",
      "[0.4, 0.9, 0.2, 0.9]\n",
      "tf.Tensor([[0.01754145 0.47017434 0.46786928 0.04441495]], shape=(1, 4), dtype=float32)\n"
     ]
    },
    {
     "name": "stderr",
     "output_type": "stream",
     "text": [
      " 54%|███████████████████████████████████████                                 | 16301/30000 [4:56:11<1:38:07,  2.33it/s]"
     ]
    },
    {
     "name": "stdout",
     "output_type": "stream",
     "text": [
      "5.681612460884414\n",
      "100\n"
     ]
    },
    {
     "name": "stderr",
     "output_type": "stream",
     "text": [
      " 55%|███████████████████████████████████████▎                                | 16401/30000 [4:56:54<1:53:13,  2.00it/s]"
     ]
    },
    {
     "name": "stdout",
     "output_type": "stream",
     "text": [
      "5.858603682136125\n",
      "100\n",
      "[0.6, 0.3, 0.1, 0.1]\n",
      "tf.Tensor([[6.4533565e-04 5.8553804e-02 7.2890991e-01 2.1189091e-01]], shape=(1, 4), dtype=float32)\n",
      "[0.3, 0.3, 0.1, 0.1]\n",
      "tf.Tensor([[0.00096222 0.08826854 0.75023824 0.160531  ]], shape=(1, 4), dtype=float32)\n",
      "[0.0, 0.3, 0.1, 0.1]\n",
      "tf.Tensor([[0.01556541 0.4734031  0.45527568 0.05575585]], shape=(1, 4), dtype=float32)\n",
      "[0.0, 0.1, 0.1, 0.1]\n",
      "tf.Tensor([[7.9972255e-01 1.9865899e-01 1.3129232e-03 3.0553259e-04]], shape=(1, 4), dtype=float32)\n"
     ]
    },
    {
     "name": "stderr",
     "output_type": "stream",
     "text": [
      " 55%|███████████████████████████████████████▌                                | 16501/30000 [4:57:37<1:16:22,  2.95it/s]"
     ]
    },
    {
     "name": "stdout",
     "output_type": "stream",
     "text": [
      "5.957226917696297\n",
      "100\n"
     ]
    },
    {
     "name": "stderr",
     "output_type": "stream",
     "text": [
      " 55%|███████████████████████████████████████▊                                | 16601/30000 [4:58:17<1:45:43,  2.11it/s]"
     ]
    },
    {
     "name": "stdout",
     "output_type": "stream",
     "text": [
      "6.1726789288566986\n",
      "100\n",
      "[0.1, 0.5, 0.7, 0.1]\n",
      "tf.Tensor([[5.1720504e-04 5.4652110e-02 7.4615216e-01 1.9867857e-01]], shape=(1, 4), dtype=float32)\n",
      "[0.4, 0.5, 0.7, 0.1]\n",
      "tf.Tensor([[7.2508777e-04 9.6924521e-02 7.7557898e-01 1.2677142e-01]], shape=(1, 4), dtype=float32)\n",
      "[0.4, 0.2, 0.7, 0.1]\n",
      "tf.Tensor([[0.02119789 0.5933856  0.3521176  0.03329884]], shape=(1, 4), dtype=float32)\n",
      "[0.6, 0.2, 0.7, 0.1]\n",
      "tf.Tensor([[7.5953996e-01 2.3907100e-01 1.1600563e-03 2.2893875e-04]], shape=(1, 4), dtype=float32)\n",
      "[0.7, 0.2, 0.7, 0.1]\n",
      "tf.Tensor([[8.0100799e-01 1.9818610e-01 6.6826196e-04 1.3767614e-04]], shape=(1, 4), dtype=float32)\n"
     ]
    },
    {
     "name": "stderr",
     "output_type": "stream",
     "text": [
      " 56%|████████████████████████████████████████                                | 16701/30000 [4:58:56<1:53:20,  1.96it/s]"
     ]
    },
    {
     "name": "stdout",
     "output_type": "stream",
     "text": [
      "5.557232144489899\n",
      "100\n"
     ]
    },
    {
     "name": "stderr",
     "output_type": "stream",
     "text": [
      " 56%|████████████████████████████████████████▎                               | 16801/30000 [4:59:38<1:34:14,  2.33it/s]"
     ]
    },
    {
     "name": "stdout",
     "output_type": "stream",
     "text": [
      "6.034225540367799\n",
      "100\n",
      "[0.2, 0.1, 0.6, 0.2]\n",
      "tf.Tensor([[4.9325626e-04 7.0596300e-02 7.8465921e-01 1.4425123e-01]], shape=(1, 4), dtype=float32)\n",
      "[0.5, 0.1, 0.6, 0.2]\n",
      "tf.Tensor([[0.00087614 0.12223788 0.77467465 0.10221136]], shape=(1, 4), dtype=float32)\n",
      "[0.8, 0.1, 0.6, 0.2]\n",
      "tf.Tensor([[0.01066051 0.5355745  0.41842794 0.03533703]], shape=(1, 4), dtype=float32)\n",
      "[0.6, 0.1, 0.6, 0.2]\n",
      "tf.Tensor([[6.1601692e-01 3.8170815e-01 1.9904382e-03 2.8449850e-04]], shape=(1, 4), dtype=float32)\n"
     ]
    },
    {
     "name": "stderr",
     "output_type": "stream",
     "text": [
      " 56%|████████████████████████████████████████▌                               | 16901/30000 [5:00:19<1:37:20,  2.24it/s]"
     ]
    },
    {
     "name": "stdout",
     "output_type": "stream",
     "text": [
      "5.766859991562594\n",
      "100\n"
     ]
    },
    {
     "name": "stderr",
     "output_type": "stream",
     "text": [
      " 57%|████████████████████████████████████████▊                               | 17001/30000 [5:00:58<1:20:41,  2.68it/s]"
     ]
    },
    {
     "name": "stdout",
     "output_type": "stream",
     "text": [
      "6.166791374392232\n",
      "100\n",
      "[0.4, 0.2, 0.2, 0.9]\n",
      "tf.Tensor([[4.2636797e-04 8.0701485e-02 7.7845871e-01 1.4041346e-01]], shape=(1, 4), dtype=float32)\n",
      "[0.4, 0.5, 0.2, 0.9]\n",
      "tf.Tensor([[0.0008789  0.16281202 0.75484186 0.08146727]], shape=(1, 4), dtype=float32)\n",
      "[0.4, 0.8, 0.2, 0.9]\n",
      "tf.Tensor([[0.03029935 0.80539894 0.1530706  0.01123105]], shape=(1, 4), dtype=float32)\n",
      "[0.2, 0.8, 0.2, 0.9]\n",
      "tf.Tensor([[7.8430700e-01 2.1514264e-01 4.5143563e-04 9.8946563e-05]], shape=(1, 4), dtype=float32)\n"
     ]
    },
    {
     "name": "stderr",
     "output_type": "stream",
     "text": [
      " 57%|█████████████████████████████████████████                               | 17101/30000 [5:01:37<1:14:18,  2.89it/s]"
     ]
    },
    {
     "name": "stdout",
     "output_type": "stream",
     "text": [
      "6.046002302050042\n",
      "100\n"
     ]
    },
    {
     "name": "stderr",
     "output_type": "stream",
     "text": [
      " 57%|█████████████████████████████████████████▎                              | 17200/30000 [5:02:16<1:01:05,  3.49it/s]"
     ]
    },
    {
     "name": "stdout",
     "output_type": "stream",
     "text": [
      "6.6225930963982895\n",
      "100\n",
      "[0.7, 0.0, 0.2, 0.9]\n",
      "tf.Tensor([[4.894196e-04 7.654798e-02 7.433909e-01 1.795717e-01]], shape=(1, 4), dtype=float32)\n",
      "[0.7, 0.3, 0.2, 0.9]\n",
      "tf.Tensor([[0.00112781 0.1664684  0.7268266  0.10557727]], shape=(1, 4), dtype=float32)\n",
      "[0.7, 0.6, 0.2, 0.9]\n",
      "tf.Tensor([[0.06060118 0.8271446  0.10187108 0.01038308]], shape=(1, 4), dtype=float32)\n",
      "[0.5, 0.6, 0.2, 0.9]\n",
      "tf.Tensor([[8.5632187e-01 1.4331350e-01 2.8134134e-04 8.3278224e-05]], shape=(1, 4), dtype=float32)\n",
      "[0.4, 0.6, 0.2, 0.9]\n",
      "tf.Tensor([[8.6818117e-01 1.3149074e-01 2.4931764e-04 7.8748111e-05]], shape=(1, 4), dtype=float32)\n",
      "[0.4, 0.7, 0.2, 0.9]\n",
      "tf.Tensor([[8.4993976e-01 1.4964947e-01 3.1618596e-04 9.4534655e-05]], shape=(1, 4), dtype=float32)\n",
      "[0.3, 0.7, 0.2, 0.9]\n"
     ]
    },
    {
     "name": "stderr",
     "output_type": "stream",
     "text": [
      "\r",
      " 57%|█████████████████████████████████████████▎                              | 17201/30000 [5:02:17<1:16:48,  2.78it/s]"
     ]
    },
    {
     "name": "stdout",
     "output_type": "stream",
     "text": [
      "tf.Tensor([[8.6449534e-01 1.3515291e-01 2.6775998e-04 8.3980311e-05]], shape=(1, 4), dtype=float32)\n",
      "[0.3, 0.8, 0.2, 0.9]\n",
      "tf.Tensor([[8.6477900e-01 1.3489293e-01 2.5067871e-04 7.7382225e-05]], shape=(1, 4), dtype=float32)\n",
      "[0.2, 0.8, 0.2, 0.9]\n",
      "tf.Tensor([[8.6697984e-01 1.3268222e-01 2.5666677e-04 8.1339022e-05]], shape=(1, 4), dtype=float32)\n"
     ]
    },
    {
     "name": "stderr",
     "output_type": "stream",
     "text": [
      " 58%|█████████████████████████████████████████▌                              | 17301/30000 [5:02:55<1:28:23,  2.39it/s]"
     ]
    },
    {
     "name": "stdout",
     "output_type": "stream",
     "text": [
      "6.313056297444332\n",
      "100\n"
     ]
    },
    {
     "name": "stderr",
     "output_type": "stream",
     "text": [
      " 58%|█████████████████████████████████████████▊                              | 17401/30000 [5:03:39<2:18:36,  1.51it/s]"
     ]
    },
    {
     "name": "stdout",
     "output_type": "stream",
     "text": [
      "5.762461965099809\n",
      "100\n",
      "[0.0, 0.7, 0.5, 0.7]\n",
      "tf.Tensor([[4.2139605e-04 5.6196507e-02 7.2700250e-01 2.1637957e-01]], shape=(1, 4), dtype=float32)\n",
      "[0.3, 0.7, 0.5, 0.7]\n",
      "tf.Tensor([[0.00077257 0.10277949 0.7498984  0.14654954]], shape=(1, 4), dtype=float32)\n",
      "[0.6, 0.7, 0.5, 0.7]\n",
      "tf.Tensor([[0.02302754 0.6787001  0.2664613  0.03181113]], shape=(1, 4), dtype=float32)\n",
      "[0.4, 0.7, 0.5, 0.7]\n",
      "tf.Tensor([[8.0456144e-01 1.9477765e-01 5.1822513e-04 1.4274573e-04]], shape=(1, 4), dtype=float32)\n"
     ]
    },
    {
     "name": "stderr",
     "output_type": "stream",
     "text": [
      " 58%|██████████████████████████████████████████                              | 17501/30000 [5:04:18<1:30:14,  2.31it/s]"
     ]
    },
    {
     "name": "stdout",
     "output_type": "stream",
     "text": [
      "6.35848669975644\n",
      "100\n"
     ]
    },
    {
     "name": "stderr",
     "output_type": "stream",
     "text": [
      " 59%|██████████████████████████████████████████▏                             | 17601/30000 [5:05:00<1:51:01,  1.86it/s]"
     ]
    },
    {
     "name": "stdout",
     "output_type": "stream",
     "text": [
      "5.715341647455756\n",
      "100\n",
      "[0.2, 0.1, 0.5, 0.7]\n",
      "tf.Tensor([[3.4862533e-04 6.7360677e-02 7.3510152e-01 1.9718924e-01]], shape=(1, 4), dtype=float32)\n",
      "[0.2, 0.4, 0.5, 0.7]\n",
      "tf.Tensor([[6.2801817e-04 1.2621588e-01 7.4906367e-01 1.2409246e-01]], shape=(1, 4), dtype=float32)\n",
      "[0.2, 0.7, 0.5, 0.7]\n",
      "tf.Tensor([[0.02210594 0.7666567  0.1905892  0.02064815]], shape=(1, 4), dtype=float32)\n",
      "[0.4, 0.7, 0.5, 0.7]\n",
      "tf.Tensor([[7.8397214e-01 2.1554004e-01 3.7995126e-04 1.0776080e-04]], shape=(1, 4), dtype=float32)\n"
     ]
    },
    {
     "name": "stderr",
     "output_type": "stream",
     "text": [
      " 59%|██████████████████████████████████████████▍                             | 17701/30000 [5:05:40<1:33:53,  2.18it/s]"
     ]
    },
    {
     "name": "stdout",
     "output_type": "stream",
     "text": [
      "6.109284926190688\n",
      "100\n"
     ]
    },
    {
     "name": "stderr",
     "output_type": "stream",
     "text": [
      " 59%|██████████████████████████████████████████▋                             | 17801/30000 [5:06:24<1:31:36,  2.22it/s]"
     ]
    },
    {
     "name": "stdout",
     "output_type": "stream",
     "text": [
      "6.223262810532367\n",
      "100\n",
      "[0.0, 0.3, 0.2, 0.9]\n",
      "tf.Tensor([[2.4691431e-04 5.7188481e-02 8.2697737e-01 1.1558725e-01]], shape=(1, 4), dtype=float32)\n",
      "[0.0, 0.6, 0.2, 0.9]\n",
      "tf.Tensor([[3.6763889e-04 9.3181744e-02 8.3730274e-01 6.9147825e-02]], shape=(1, 4), dtype=float32)\n",
      "[0.0, 0.9, 0.2, 0.9]\n",
      "tf.Tensor([[0.01406122 0.7028629  0.26710862 0.01596729]], shape=(1, 4), dtype=float32)\n"
     ]
    },
    {
     "name": "stderr",
     "output_type": "stream",
     "text": [
      " 60%|██████████████████████████████████████████▉                             | 17901/30000 [5:07:06<1:44:58,  1.92it/s]"
     ]
    },
    {
     "name": "stdout",
     "output_type": "stream",
     "text": [
      "5.468648917625943\n",
      "100\n"
     ]
    },
    {
     "name": "stderr",
     "output_type": "stream",
     "text": [
      " 60%|███████████████████████████████████████████▏                            | 18001/30000 [5:07:48<1:22:05,  2.44it/s]"
     ]
    },
    {
     "name": "stdout",
     "output_type": "stream",
     "text": [
      "6.504800705573975\n",
      "100\n",
      "[0.0, 0.5, 0.2, 0.9]\n",
      "tf.Tensor([[2.0570404e-04 4.8353244e-02 8.6636412e-01 8.5076958e-02]], shape=(1, 4), dtype=float32)\n",
      "[0.0, 0.8, 0.2, 0.9]\n",
      "tf.Tensor([[3.627586e-04 7.926867e-02 8.696781e-01 5.069044e-02]], shape=(1, 4), dtype=float32)\n",
      "[0.3, 0.8, 0.2, 0.9]\n",
      "tf.Tensor([[0.03701856 0.8439789  0.11289757 0.00610502]], shape=(1, 4), dtype=float32)\n",
      "[0.3, 1.0, 0.2, 0.9]\n",
      "tf.Tensor([[8.2529747e-01 1.7447278e-01 1.8468400e-04 4.5086828e-05]], shape=(1, 4), dtype=float32)\n",
      "[0.2, 1.0, 0.2, 0.9]\n",
      "tf.Tensor([[8.2691002e-01 1.7286973e-01 1.7762561e-04 4.2617750e-05]], shape=(1, 4), dtype=float32)\n"
     ]
    },
    {
     "name": "stderr",
     "output_type": "stream",
     "text": [
      " 60%|███████████████████████████████████████████▍                            | 18101/30000 [5:08:27<1:38:49,  2.01it/s]"
     ]
    },
    {
     "name": "stdout",
     "output_type": "stream",
     "text": [
      "5.537042332650992\n",
      "100\n"
     ]
    },
    {
     "name": "stderr",
     "output_type": "stream",
     "text": [
      " 61%|███████████████████████████████████████████▋                            | 18201/30000 [5:09:07<1:44:22,  1.88it/s]"
     ]
    },
    {
     "name": "stdout",
     "output_type": "stream",
     "text": [
      "5.981682467094921\n",
      "100\n",
      "[0.9, 0.0, 0.1, 0.1]\n",
      "tf.Tensor([[2.1286176e-04 4.1419990e-02 8.7310332e-01 8.5263915e-02]], shape=(1, 4), dtype=float32)\n",
      "[0.6, 0.0, 0.1, 0.1]\n",
      "tf.Tensor([[2.8726677e-04 5.8341321e-02 8.8400012e-01 5.7371184e-02]], shape=(1, 4), dtype=float32)\n",
      "[0.3, 0.0, 0.1, 0.1]\n",
      "tf.Tensor([[0.01337192 0.5733215  0.39045864 0.02284788]], shape=(1, 4), dtype=float32)\n",
      "[0.1, 0.0, 0.1, 0.1]\n",
      "tf.Tensor([[7.7454144e-01 2.2488590e-01 4.7891238e-04 9.3858675e-05]], shape=(1, 4), dtype=float32)\n"
     ]
    },
    {
     "name": "stderr",
     "output_type": "stream",
     "text": [
      " 61%|███████████████████████████████████████████▉                            | 18301/30000 [5:09:46<1:46:09,  1.84it/s]"
     ]
    },
    {
     "name": "stdout",
     "output_type": "stream",
     "text": [
      "5.449580837000547\n",
      "100\n"
     ]
    },
    {
     "name": "stderr",
     "output_type": "stream",
     "text": [
      " 61%|████████████████████████████████████████████▏                           | 18401/30000 [5:10:25<1:02:09,  3.11it/s]"
     ]
    },
    {
     "name": "stdout",
     "output_type": "stream",
     "text": [
      "6.153285925185103\n",
      "100\n",
      "[0.7, 0.7, 0.5, 0.7]\n",
      "tf.Tensor([[1.3342967e-04 3.6225859e-02 8.9917862e-01 6.4462110e-02]], shape=(1, 4), dtype=float32)\n",
      "[0.4, 0.7, 0.5, 0.7]\n",
      "tf.Tensor([[2.6606597e-04 6.7655124e-02 8.9377487e-01 3.8303949e-02]], shape=(1, 4), dtype=float32)\n",
      "[0.7, 0.7, 0.5, 0.7]\n",
      "tf.Tensor([[0.02920824 0.84728175 0.11817294 0.00533704]], shape=(1, 4), dtype=float32)\n"
     ]
    },
    {
     "name": "stderr",
     "output_type": "stream",
     "text": [
      " 62%|████████████████████████████████████████████▍                           | 18501/30000 [5:11:04<1:06:31,  2.88it/s]"
     ]
    },
    {
     "name": "stdout",
     "output_type": "stream",
     "text": [
      "5.87372607953854\n",
      "100\n"
     ]
    },
    {
     "name": "stderr",
     "output_type": "stream",
     "text": [
      " 62%|████████████████████████████████████████████▋                           | 18601/30000 [5:11:41<1:32:18,  2.06it/s]"
     ]
    },
    {
     "name": "stdout",
     "output_type": "stream",
     "text": [
      "5.925253378766595\n",
      "100\n",
      "[0.7, 0.8, 0.6, 0.2]\n",
      "tf.Tensor([[1.1629846e-04 4.4731755e-02 9.0289950e-01 5.2252445e-02]], shape=(1, 4), dtype=float32)\n",
      "[0.7, 0.5, 0.6, 0.2]\n",
      "tf.Tensor([[4.9740722e-04 1.8866791e-01 7.8455061e-01 2.6284087e-02]], shape=(1, 4), dtype=float32)\n",
      "[0.7, 0.2, 0.6, 0.2]\n",
      "tf.Tensor([[0.06769203 0.9141699  0.01711108 0.0010269 ]], shape=(1, 4), dtype=float32)\n",
      "[0.5, 0.2, 0.6, 0.2]\n",
      "tf.Tensor([[7.3591179e-01 2.6383349e-01 2.1353978e-04 4.1143699e-05]], shape=(1, 4), dtype=float32)\n"
     ]
    },
    {
     "name": "stderr",
     "output_type": "stream",
     "text": [
      " 62%|████████████████████████████████████████████▉                           | 18701/30000 [5:12:20<1:25:51,  2.19it/s]"
     ]
    },
    {
     "name": "stdout",
     "output_type": "stream",
     "text": [
      "5.782523677689139\n",
      "100\n"
     ]
    },
    {
     "name": "stderr",
     "output_type": "stream",
     "text": [
      " 63%|█████████████████████████████████████████████                           | 18800/30000 [5:13:00<1:16:10,  2.45it/s]"
     ]
    },
    {
     "name": "stdout",
     "output_type": "stream",
     "text": [
      "5.47649380463787\n",
      "100\n",
      "[0.9, 0.1, 0.2, 0.9]\n",
      "tf.Tensor([[9.592517e-05 4.507063e-02 9.093957e-01 4.543777e-02]], shape=(1, 4), dtype=float32)\n",
      "[0.9, 0.4, 0.2, 0.9]\n",
      "tf.Tensor([[3.0512089e-04 1.2756529e-01 8.4214979e-01 2.9979812e-02]], shape=(1, 4), dtype=float32)\n",
      "[0.6, 0.4, 0.2, 0.9]\n",
      "tf.Tensor([[0.03566901 0.92677504 0.03593609 0.0016199 ]], shape=(1, 4), dtype=float32)\n",
      "[0.6, 0.6, 0.2, 0.9]\n",
      "tf.Tensor([[7.5438660e-01 2.4540533e-01 1.7363529e-04 3.4391673e-05]], shape=(1, 4), dtype=float32)\n",
      "[0.5, 0.6, 0.2, 0.9]\n",
      "tf.Tensor([[7.5939751e-01 2.4039736e-01 1.7038098e-04 3.4783632e-05]], shape=(1, 4), dtype=float32)\n",
      "[0.5, 0.7, 0.2, 0.9]\n",
      "tf.Tensor([[7.5573951e-01 2.4405435e-01 1.7183882e-04 3.4304598e-05]], shape=(1, 4), dtype=float32)"
     ]
    },
    {
     "name": "stderr",
     "output_type": "stream",
     "text": [
      "\r",
      " 63%|█████████████████████████████████████████████                           | 18801/30000 [5:13:00<1:39:20,  1.88it/s]"
     ]
    },
    {
     "name": "stdout",
     "output_type": "stream",
     "text": [
      "\n",
      "[0.4, 0.7, 0.2, 0.9]\n",
      "tf.Tensor([[7.5649929e-01 2.4329095e-01 1.7434968e-04 3.5427842e-05]], shape=(1, 4), dtype=float32)\n",
      "[0.4, 0.8, 0.2, 0.9]\n",
      "tf.Tensor([[7.6274782e-01 2.3706062e-01 1.5907794e-04 3.2480213e-05]], shape=(1, 4), dtype=float32)\n",
      "[0.3, 0.8, 0.2, 0.9]\n",
      "tf.Tensor([[7.6037443e-01 2.3942213e-01 1.6874386e-04 3.4749515e-05]], shape=(1, 4), dtype=float32)\n",
      "[0.3, 0.9, 0.2, 0.9]\n",
      "tf.Tensor([[7.6639140e-01 2.3342611e-01 1.5123880e-04 3.1283256e-05]], shape=(1, 4), dtype=float32)\n"
     ]
    },
    {
     "name": "stderr",
     "output_type": "stream",
     "text": [
      " 63%|█████████████████████████████████████████████▎                          | 18901/30000 [5:13:43<1:34:43,  1.95it/s]"
     ]
    },
    {
     "name": "stdout",
     "output_type": "stream",
     "text": [
      "5.950982258955457\n",
      "100\n"
     ]
    },
    {
     "name": "stderr",
     "output_type": "stream",
     "text": [
      " 63%|█████████████████████████████████████████████▌                          | 19000/30000 [5:14:24<1:40:24,  1.83it/s]"
     ]
    },
    {
     "name": "stdout",
     "output_type": "stream",
     "text": [
      "5.96442252230815\n",
      "100\n",
      "[0.4, 0.9, 0.7, 0.1]\n",
      "tf.Tensor([[8.0458347e-05 4.0365033e-02 9.1700029e-01 4.2554263e-02]], shape=(1, 4), dtype=float32)\n",
      "[0.4, 0.6, 0.7, 0.1]\n",
      "tf.Tensor([[2.12041734e-04 1.18584976e-01 8.57458591e-01 2.37444472e-02]], shape=(1, 4), dtype=float32)\n",
      "[0.4, 0.3, 0.7, 0.1]\n",
      "tf.Tensor([[0.03134993 0.9240826  0.04269676 0.00187083]], shape=(1, 4), dtype=float32)\n",
      "[0.6, 0.3, 0.7, 0.1]\n",
      "tf.Tensor([[8.0104959e-01 1.9878909e-01 1.3405015e-04 2.7256001e-05]], shape=(1, 4), dtype=float32)\n",
      "[0.6, 0.2, 0.7, 0.1]\n",
      "tf.Tensor([[7.8562760e-01 2.1415327e-01 1.8249305e-04 3.6685869e-05]], shape=(1, 4), dtype=float32)\n",
      "[0.7, 0.2, 0.7, 0.1]\n",
      "tf.Tensor([[7.7384925e-01 2.2593804e-01 1.7904413e-04 3.3669032e-05]], shape=(1, 4), dtype=float32)"
     ]
    },
    {
     "name": "stderr",
     "output_type": "stream",
     "text": [
      "\r",
      " 63%|█████████████████████████████████████████████▌                          | 19001/30000 [5:14:25<1:27:00,  2.11it/s]"
     ]
    },
    {
     "name": "stdout",
     "output_type": "stream",
     "text": [
      "\n"
     ]
    },
    {
     "name": "stderr",
     "output_type": "stream",
     "text": [
      " 64%|█████████████████████████████████████████████▊                          | 19101/30000 [5:15:08<1:26:18,  2.10it/s]"
     ]
    },
    {
     "name": "stdout",
     "output_type": "stream",
     "text": [
      "5.8368220046544135\n",
      "100\n"
     ]
    },
    {
     "name": "stderr",
     "output_type": "stream",
     "text": [
      " 64%|██████████████████████████████████████████████                          | 19201/30000 [5:15:50<1:19:07,  2.27it/s]"
     ]
    },
    {
     "name": "stdout",
     "output_type": "stream",
     "text": [
      "6.0700963053366825\n",
      "100\n",
      "[0.6, 0.7, 0.1, 0.1]\n",
      "tf.Tensor([[8.7409033e-05 3.8445700e-02 9.0837294e-01 5.3093929e-02]], shape=(1, 4), dtype=float32)\n",
      "[0.3, 0.7, 0.1, 0.1]\n",
      "tf.Tensor([[1.5196447e-04 8.0682598e-02 8.8703525e-01 3.2130215e-02]], shape=(1, 4), dtype=float32)\n",
      "[0.3, 0.4, 0.1, 0.1]\n",
      "tf.Tensor([[0.01477884 0.8925922  0.08912837 0.00350062]], shape=(1, 4), dtype=float32)\n",
      "[0.3, 0.2, 0.1, 0.1]\n",
      "tf.Tensor([[7.9654682e-01 2.0323718e-01 1.7648800e-04 3.9556591e-05]], shape=(1, 4), dtype=float32)\n",
      "[0.2, 0.2, 0.1, 0.1]\n",
      "tf.Tensor([[8.0581224e-01 1.9397767e-01 1.7069590e-04 3.9356204e-05]], shape=(1, 4), dtype=float32)\n",
      "[0.1, 0.2, 0.1, 0.1]\n",
      "tf.Tensor([[7.8515321e-01 2.1460028e-01 2.0390119e-04 4.2611646e-05]], shape=(1, 4), dtype=float32)\n"
     ]
    },
    {
     "name": "stderr",
     "output_type": "stream",
     "text": [
      " 64%|██████████████████████████████████████████████▎                         | 19301/30000 [5:16:30<1:12:20,  2.46it/s]"
     ]
    },
    {
     "name": "stdout",
     "output_type": "stream",
     "text": [
      "6.388714870799919\n",
      "100\n"
     ]
    },
    {
     "name": "stderr",
     "output_type": "stream",
     "text": [
      " 65%|██████████████████████████████████████████████▌                         | 19400/30000 [5:17:12<1:28:38,  1.99it/s]"
     ]
    },
    {
     "name": "stdout",
     "output_type": "stream",
     "text": [
      "5.902967245562399\n",
      "100\n",
      "[0.5, 0.0, 0.2, 0.9]\n",
      "tf.Tensor([[9.4076153e-05 3.6748305e-02 9.0479249e-01 5.8365166e-02]], shape=(1, 4), dtype=float32)\n",
      "[0.5, 0.3, 0.2, 0.9]\n",
      "tf.Tensor([[1.4114393e-04 6.2735967e-02 9.0221226e-01 3.4910660e-02]], shape=(1, 4), dtype=float32)\n",
      "[0.5, 0.6, 0.2, 0.9]\n",
      "tf.Tensor([[0.01445408 0.80571073 0.17216559 0.00766957]], shape=(1, 4), dtype=float32)\n",
      "[0.3, 0.6, 0.2, 0.9]\n",
      "tf.Tensor([[8.9292502e-01 1.0695938e-01 8.6439009e-05 2.9111980e-05]], shape=(1, 4), dtype=float32)\n",
      "[0.3, 0.7, 0.2, 0.9]\n",
      "tf.Tensor([[9.0138143e-01 9.8515406e-02 7.6003002e-05 2.7149219e-05]], shape=(1, 4), dtype=float32)\n",
      "[0.3, 0.8, 0.2, 0.9]\n",
      "tf.Tensor([[8.9377838e-01 1.0611061e-01 8.2673752e-05 2.8392988e-05]], shape=(1, 4), dtype=float32)"
     ]
    },
    {
     "name": "stderr",
     "output_type": "stream",
     "text": [
      "\r",
      " 65%|██████████████████████████████████████████████▌                         | 19401/30000 [5:17:12<1:36:20,  1.83it/s]"
     ]
    },
    {
     "name": "stdout",
     "output_type": "stream",
     "text": [
      "\n",
      "[0.2, 0.8, 0.2, 0.9]\n",
      "tf.Tensor([[9.072674e-01 9.263968e-02 6.786518e-05 2.505118e-05]], shape=(1, 4), dtype=float32)\n"
     ]
    },
    {
     "name": "stderr",
     "output_type": "stream",
     "text": [
      " 65%|██████████████████████████████████████████████▊                         | 19501/30000 [5:17:52<1:17:16,  2.26it/s]"
     ]
    },
    {
     "name": "stdout",
     "output_type": "stream",
     "text": [
      "5.988548898242029\n",
      "100\n"
     ]
    },
    {
     "name": "stderr",
     "output_type": "stream",
     "text": [
      " 65%|███████████████████████████████████████████████                         | 19601/30000 [5:18:32<1:03:46,  2.72it/s]"
     ]
    },
    {
     "name": "stdout",
     "output_type": "stream",
     "text": [
      "6.592084692121547\n",
      "100\n",
      "[0.5, 0.5, 0.1, 0.1]\n",
      "tf.Tensor([[1.3381477e-04 3.9317757e-02 8.3437353e-01 1.2617493e-01]], shape=(1, 4), dtype=float32)\n",
      "[0.2, 0.5, 0.1, 0.1]\n",
      "tf.Tensor([[2.1216573e-04 7.5496800e-02 8.4075028e-01 8.3540708e-02]], shape=(1, 4), dtype=float32)\n",
      "[0.2, 0.2, 0.1, 0.1]\n",
      "tf.Tensor([[0.01834211 0.81226224 0.15359892 0.01579681]], shape=(1, 4), dtype=float32)\n",
      "[0.0, 0.2, 0.1, 0.1]\n",
      "tf.Tensor([[9.0320522e-01 9.6683107e-02 7.5141579e-05 3.6489862e-05]], shape=(1, 4), dtype=float32)\n",
      "[0.0, 0.1, 0.1, 0.1]\n",
      "tf.Tensor([[9.0559137e-01 9.4290204e-02 7.8689191e-05 3.9789000e-05]], shape=(1, 4), dtype=float32)\n"
     ]
    },
    {
     "name": "stderr",
     "output_type": "stream",
     "text": [
      " 66%|███████████████████████████████████████████████▎                        | 19701/30000 [5:19:10<1:03:25,  2.71it/s]"
     ]
    },
    {
     "name": "stdout",
     "output_type": "stream",
     "text": [
      "6.379981403861408\n",
      "100\n"
     ]
    },
    {
     "name": "stderr",
     "output_type": "stream",
     "text": [
      " 66%|███████████████████████████████████████████████▌                        | 19801/30000 [5:19:49<1:05:30,  2.59it/s]"
     ]
    },
    {
     "name": "stdout",
     "output_type": "stream",
     "text": [
      "6.471327708237271\n",
      "100\n",
      "[0.2, 0.4, 0.7, 0.1]\n",
      "tf.Tensor([[1.1446145e-04 3.5514094e-02 8.7065649e-01 9.3714967e-02]], shape=(1, 4), dtype=float32)\n",
      "[0.5, 0.4, 0.7, 0.1]\n",
      "tf.Tensor([[2.0044092e-04 8.4685728e-02 8.5690868e-01 5.8205221e-02]], shape=(1, 4), dtype=float32)\n",
      "[0.5, 0.1, 0.7, 0.1]\n",
      "tf.Tensor([[0.02292786 0.8783036  0.09200212 0.00676652]], shape=(1, 4), dtype=float32)\n"
     ]
    },
    {
     "name": "stderr",
     "output_type": "stream",
     "text": [
      " 66%|███████████████████████████████████████████████▊                        | 19901/30000 [5:20:27<1:01:08,  2.75it/s]"
     ]
    },
    {
     "name": "stdout",
     "output_type": "stream",
     "text": [
      "6.27754971637756\n",
      "100\n"
     ]
    },
    {
     "name": "stderr",
     "output_type": "stream",
     "text": [
      " 67%|████████████████████████████████████████████████                        | 20001/30000 [5:21:03<1:06:49,  2.49it/s]"
     ]
    },
    {
     "name": "stdout",
     "output_type": "stream",
     "text": [
      "6.274524753931211\n",
      "100\n",
      "[0.2, 0.8, 0.6, 0.2]\n",
      "tf.Tensor([[6.469260e-05 3.348314e-02 8.977757e-01 6.867652e-02]], shape=(1, 4), dtype=float32)\n",
      "[0.2, 0.5, 0.6, 0.2]\n",
      "tf.Tensor([[1.2933261e-04 6.6861704e-02 8.8894689e-01 4.4062145e-02]], shape=(1, 4), dtype=float32)\n",
      "[0.5, 0.5, 0.6, 0.2]\n",
      "tf.Tensor([[0.01256543 0.8921373  0.09094305 0.00435423]], shape=(1, 4), dtype=float32)\n",
      "[0.5, 0.3, 0.6, 0.2]\n",
      "tf.Tensor([[8.4309024e-01 1.5677446e-01 1.0464406e-04 3.0665498e-05]], shape=(1, 4), dtype=float32)\n",
      "[0.6, 0.3, 0.6, 0.2]\n",
      "tf.Tensor([[8.3985156e-01 1.6002309e-01 9.7938326e-05 2.7411103e-05]], shape=(1, 4), dtype=float32)\n"
     ]
    },
    {
     "name": "stderr",
     "output_type": "stream",
     "text": [
      " 67%|████████████████████████████████████████████████▏                       | 20101/30000 [5:21:41<1:09:36,  2.37it/s]"
     ]
    },
    {
     "name": "stdout",
     "output_type": "stream",
     "text": [
      "5.819223353066358\n",
      "100\n"
     ]
    },
    {
     "name": "stderr",
     "output_type": "stream",
     "text": [
      " 67%|████████████████████████████████████████████████▍                       | 20201/30000 [5:22:17<1:11:46,  2.28it/s]"
     ]
    },
    {
     "name": "stdout",
     "output_type": "stream",
     "text": [
      "6.3135105164043495\n",
      "100\n",
      "[0.8, 0.0, 0.6, 0.2]\n",
      "tf.Tensor([[1.00710284e-04 3.82889025e-02 8.71151268e-01 9.04591307e-02]], shape=(1, 4), dtype=float32)\n",
      "[0.5, 0.0, 0.6, 0.2]\n",
      "tf.Tensor([[1.6159614e-04 8.0399536e-02 8.6236173e-01 5.7077173e-02]], shape=(1, 4), dtype=float32)\n",
      "[0.5, 0.3, 0.6, 0.2]\n",
      "tf.Tensor([[0.0197231  0.89000154 0.08423852 0.00603688]], shape=(1, 4), dtype=float32)\n",
      "[0.7, 0.3, 0.6, 0.2]\n",
      "tf.Tensor([[8.5134977e-01 1.4855152e-01 7.3867777e-05 2.4918338e-05]], shape=(1, 4), dtype=float32)\n",
      "[0.7, 0.2, 0.6, 0.2]\n",
      "tf.Tensor([[8.5137594e-01 1.4851828e-01 7.8402503e-05 2.7325641e-05]], shape=(1, 4), dtype=float32)\n"
     ]
    },
    {
     "name": "stderr",
     "output_type": "stream",
     "text": [
      " 68%|████████████████████████████████████████████████▋                       | 20301/30000 [5:22:54<1:05:16,  2.48it/s]"
     ]
    },
    {
     "name": "stdout",
     "output_type": "stream",
     "text": [
      "6.559265949644935\n",
      "100\n"
     ]
    },
    {
     "name": "stderr",
     "output_type": "stream",
     "text": [
      " 68%|████████████████████████████████████████████████▉                       | 20401/30000 [5:23:33<1:10:41,  2.26it/s]"
     ]
    },
    {
     "name": "stdout",
     "output_type": "stream",
     "text": [
      "6.846331107268276\n",
      "100\n",
      "[0.5, 0.5, 0.7, 0.1]\n",
      "tf.Tensor([[7.0729038e-05 3.7418906e-02 8.8015586e-01 8.2354456e-02]], shape=(1, 4), dtype=float32)\n",
      "[0.5, 0.2, 0.7, 0.1]\n",
      "tf.Tensor([[2.62390444e-04 1.21469386e-01 8.27817321e-01 5.04509322e-02]], shape=(1, 4), dtype=float32)\n",
      "[0.8, 0.2, 0.7, 0.1]\n",
      "tf.Tensor([[0.04181992 0.93523455 0.02108433 0.00186118]], shape=(1, 4), dtype=float32)\n",
      "[0.6, 0.2, 0.7, 0.1]\n",
      "tf.Tensor([[8.6977232e-01 1.3015115e-01 5.5023720e-05 2.1527572e-05]], shape=(1, 4), dtype=float32)\n",
      "[0.7, 0.2, 0.7, 0.1]\n",
      "tf.Tensor([[8.5724223e-01 1.4267969e-01 5.7350666e-05 2.0740392e-05]], shape=(1, 4), dtype=float32)\n"
     ]
    },
    {
     "name": "stderr",
     "output_type": "stream",
     "text": [
      " 68%|█████████████████████████████████████████████████▏                      | 20501/30000 [5:24:17<1:00:37,  2.61it/s]"
     ]
    },
    {
     "name": "stdout",
     "output_type": "stream",
     "text": [
      "6.013109609257474\n",
      "100\n"
     ]
    },
    {
     "name": "stderr",
     "output_type": "stream",
     "text": [
      " 69%|██████████████████████████████████████████████████▊                       | 20600/30000 [5:24:56<49:13,  3.18it/s]"
     ]
    },
    {
     "name": "stdout",
     "output_type": "stream",
     "text": [
      "6.7510716138709155\n",
      "100\n",
      "[0.0, 0.5, 0.2, 0.9]\n",
      "tf.Tensor([[5.5999615e-05 3.3380732e-02 8.9925408e-01 6.7309245e-02]], shape=(1, 4), dtype=float32)\n",
      "[0.0, 0.8, 0.2, 0.9]\n",
      "tf.Tensor([[1.1173354e-04 6.6956677e-02 8.9401329e-01 3.8918305e-02]], shape=(1, 4), dtype=float32)\n",
      "[0.3, 0.8, 0.2, 0.9]\n",
      "tf.Tensor([[0.02199777 0.9403682  0.03564866 0.00198542]], shape=(1, 4), dtype=float32)\n",
      "[0.3, 1.0, 0.2, 0.9]\n",
      "tf.Tensor([[8.7439317e-01 1.2555693e-01 3.6907371e-05 1.3030026e-05]], shape=(1, 4), dtype=float32)\n",
      "[0.3, 0.9, 0.2, 0.9]\n",
      "tf.Tensor([[8.7710917e-01 1.2284661e-01 3.2270607e-05 1.1997505e-05]], shape=(1, 4), dtype=float32)\n"
     ]
    },
    {
     "name": "stderr",
     "output_type": "stream",
     "text": [
      " 69%|█████████████████████████████████████████████████▋                      | 20701/30000 [5:25:40<1:01:12,  2.53it/s]"
     ]
    },
    {
     "name": "stdout",
     "output_type": "stream",
     "text": [
      "6.093714577791986\n",
      "100\n"
     ]
    },
    {
     "name": "stderr",
     "output_type": "stream",
     "text": [
      " 69%|█████████████████████████████████████████████████▉                      | 20800/30000 [5:26:21<1:10:37,  2.17it/s]"
     ]
    },
    {
     "name": "stdout",
     "output_type": "stream",
     "text": [
      "6.196728581956863\n",
      "100\n",
      "[0.4, 0.4, 0.6, 0.2]\n",
      "tf.Tensor([[6.5309316e-05 2.4491832e-02 8.9712328e-01 7.8319609e-02]], shape=(1, 4), dtype=float32)\n",
      "[0.7, 0.4, 0.6, 0.2]\n",
      "tf.Tensor([[8.8224617e-05 4.9922604e-02 9.0702569e-01 4.2963464e-02]], shape=(1, 4), dtype=float32)\n",
      "[0.7, 0.1, 0.6, 0.2]\n",
      "tf.Tensor([[0.02838409 0.9288641  0.04043696 0.00231481]], shape=(1, 4), dtype=float32)\n",
      "[0.7, 0.3, 0.6, 0.2]\n",
      "tf.Tensor([[9.25271928e-01 7.46906176e-02 2.67649357e-05 1.06647285e-05]], shape=(1, 4), dtype=float32)\n",
      "[0.7, 0.2, 0.6, 0.2]\n",
      "tf.Tensor([[9.2983687e-01 7.0125006e-02 2.6726178e-05 1.1409826e-05]], shape=(1, 4), dtype=float32)\n"
     ]
    },
    {
     "name": "stderr",
     "output_type": "stream",
     "text": [
      " 70%|███████████████████████████████████████████████████▌                      | 20901/30000 [5:27:02<57:11,  2.65it/s]"
     ]
    },
    {
     "name": "stdout",
     "output_type": "stream",
     "text": [
      "6.283110305318446\n",
      "100\n"
     ]
    },
    {
     "name": "stderr",
     "output_type": "stream",
     "text": [
      " 70%|██████████████████████████████████████████████████▍                     | 21001/30000 [5:27:44<1:10:52,  2.12it/s]"
     ]
    },
    {
     "name": "stdout",
     "output_type": "stream",
     "text": [
      "5.585952126545314\n",
      "100\n",
      "[0.0, 0.2, 0.2, 0.9]\n",
      "tf.Tensor([[4.709247e-05 2.559031e-02 9.064294e-01 6.793324e-02]], shape=(1, 4), dtype=float32)\n",
      "[0.0, 0.5, 0.2, 0.9]\n",
      "tf.Tensor([[6.4761691e-05 4.2474758e-02 9.2034400e-01 3.7116423e-02]], shape=(1, 4), dtype=float32)\n",
      "[0.0, 0.8, 0.2, 0.9]\n",
      "tf.Tensor([[0.01812289 0.90851444 0.06948312 0.00387951]], shape=(1, 4), dtype=float32)\n",
      "[0.2, 0.8, 0.2, 0.9]\n",
      "tf.Tensor([[9.3430030e-01 6.5672226e-02 1.8191415e-05 9.1879601e-06]], shape=(1, 4), dtype=float32)\n"
     ]
    },
    {
     "name": "stderr",
     "output_type": "stream",
     "text": [
      " 70%|████████████████████████████████████████████████████                      | 21101/30000 [5:28:20<57:03,  2.60it/s]"
     ]
    },
    {
     "name": "stdout",
     "output_type": "stream",
     "text": [
      "6.793134970015917\n",
      "100\n"
     ]
    },
    {
     "name": "stderr",
     "output_type": "stream",
     "text": [
      " 71%|████████████████████████████████████████████████████▎                     | 21201/30000 [5:28:55<59:27,  2.47it/s]"
     ]
    },
    {
     "name": "stdout",
     "output_type": "stream",
     "text": [
      "6.554194819909819\n",
      "100\n",
      "[0.1, 0.4, 0.2, 0.9]\n",
      "tf.Tensor([[4.2551321e-05 2.1977905e-02 9.1060907e-01 6.7370482e-02]], shape=(1, 4), dtype=float32)\n",
      "[0.1, 0.7, 0.2, 0.9]\n",
      "tf.Tensor([[5.3559452e-05 3.4595396e-02 9.2847878e-01 3.6872305e-02]], shape=(1, 4), dtype=float32)\n",
      "[0.1, 1.0, 0.2, 0.9]\n",
      "tf.Tensor([[0.01870992 0.8986514  0.07801137 0.00462725]], shape=(1, 4), dtype=float32)\n",
      "[0.3, 1.0, 0.2, 0.9]\n",
      "tf.Tensor([[9.4664603e-01 5.3327531e-02 1.6590775e-05 9.8352966e-06]], shape=(1, 4), dtype=float32)\n",
      "[0.3, 0.9, 0.2, 0.9]\n",
      "tf.Tensor([[9.4836521e-01 5.1611338e-02 1.4368372e-05 9.0423528e-06]], shape=(1, 4), dtype=float32)\n"
     ]
    },
    {
     "name": "stderr",
     "output_type": "stream",
     "text": [
      " 71%|████████████████████████████████████████████████████▌                     | 21301/30000 [5:29:31<59:14,  2.45it/s]"
     ]
    },
    {
     "name": "stdout",
     "output_type": "stream",
     "text": [
      "6.451355133764354\n",
      "100\n"
     ]
    },
    {
     "name": "stderr",
     "output_type": "stream",
     "text": [
      " 71%|████████████████████████████████████████████████████▊                     | 21401/30000 [5:30:08<55:57,  2.56it/s]"
     ]
    },
    {
     "name": "stdout",
     "output_type": "stream",
     "text": [
      "6.333626479700988\n",
      "100\n",
      "[0.8, 0.1, 0.7, 0.4]\n",
      "tf.Tensor([[4.1457297e-05 2.2536010e-02 9.0240031e-01 7.5022213e-02]], shape=(1, 4), dtype=float32)\n",
      "[0.8, 0.4, 0.7, 0.4]\n",
      "tf.Tensor([[5.9930982e-05 3.5122741e-02 9.1826683e-01 4.6550542e-02]], shape=(1, 4), dtype=float32)\n",
      "[0.5, 0.4, 0.7, 0.4]\n",
      "tf.Tensor([[0.017803   0.89490926 0.08200419 0.00528358]], shape=(1, 4), dtype=float32)\n"
     ]
    },
    {
     "name": "stderr",
     "output_type": "stream",
     "text": [
      " 72%|█████████████████████████████████████████████████████                     | 21501/30000 [5:30:46<56:41,  2.50it/s]"
     ]
    },
    {
     "name": "stdout",
     "output_type": "stream",
     "text": [
      "6.167810715456282\n",
      "100\n"
     ]
    },
    {
     "name": "stderr",
     "output_type": "stream",
     "text": [
      " 72%|█████████████████████████████████████████████████████▎                    | 21601/30000 [5:31:23<55:58,  2.50it/s]"
     ]
    },
    {
     "name": "stdout",
     "output_type": "stream",
     "text": [
      "6.452995205430167\n",
      "100\n",
      "[0.7, 0.8, 0.7, 0.1]\n",
      "tf.Tensor([[4.0455252e-05 2.4035852e-02 9.0388870e-01 7.2034992e-02]], shape=(1, 4), dtype=float32)\n",
      "[0.7, 0.5, 0.7, 0.1]\n",
      "tf.Tensor([[7.7285717e-05 6.3174687e-02 8.9943671e-01 3.7311416e-02]], shape=(1, 4), dtype=float32)\n",
      "[0.7, 0.2, 0.7, 0.1]\n",
      "tf.Tensor([[0.03716943 0.9493756  0.01246531 0.0009897 ]], shape=(1, 4), dtype=float32)\n",
      "[0.7, 0.0, 0.7, 0.1]\n",
      "tf.Tensor([[9.4299954e-01 5.6977354e-02 1.4542104e-05 8.5683032e-06]], shape=(1, 4), dtype=float32)\n"
     ]
    },
    {
     "name": "stderr",
     "output_type": "stream",
     "text": [
      " 72%|█████████████████████████████████████████████████████▌                    | 21701/30000 [5:31:59<54:25,  2.54it/s]"
     ]
    },
    {
     "name": "stdout",
     "output_type": "stream",
     "text": [
      "6.333691012920902\n",
      "100\n"
     ]
    },
    {
     "name": "stderr",
     "output_type": "stream",
     "text": [
      " 73%|████████████████████████████████████████████████████▎                   | 21801/30000 [5:32:36<1:03:18,  2.16it/s]"
     ]
    },
    {
     "name": "stdout",
     "output_type": "stream",
     "text": [
      "6.4836190782942955\n",
      "100\n",
      "[0.7, 0.6, 0.7, 0.1]\n",
      "tf.Tensor([[3.3150292e-05 2.0829991e-02 9.1018546e-01 6.8951465e-02]], shape=(1, 4), dtype=float32)\n",
      "[0.7, 0.3, 0.7, 0.1]\n",
      "tf.Tensor([[5.5007924e-05 4.9061112e-02 9.1498250e-01 3.5901397e-02]], shape=(1, 4), dtype=float32)\n",
      "[0.7, 0.0, 0.7, 0.1]\n",
      "tf.Tensor([[0.02752091 0.9534917  0.01777629 0.00121117]], shape=(1, 4), dtype=float32)\n",
      "[0.7, 0.2, 0.7, 0.1]\n",
      "tf.Tensor([[9.3266994e-01 6.7305759e-02 1.6039492e-05 8.2482220e-06]], shape=(1, 4), dtype=float32)\n"
     ]
    },
    {
     "name": "stderr",
     "output_type": "stream",
     "text": [
      " 73%|██████████████████████████████████████████████████████                    | 21901/30000 [5:33:16<51:40,  2.61it/s]"
     ]
    },
    {
     "name": "stdout",
     "output_type": "stream",
     "text": [
      "6.488949151287518\n",
      "100\n"
     ]
    },
    {
     "name": "stderr",
     "output_type": "stream",
     "text": [
      " 73%|██████████████████████████████████████████████████████▎                   | 22001/30000 [5:33:57<58:14,  2.29it/s]"
     ]
    },
    {
     "name": "stdout",
     "output_type": "stream",
     "text": [
      "6.122159044696689\n",
      "100\n",
      "[0.5, 0.4, 0.2, 0.9]\n",
      "tf.Tensor([[3.8714541e-05 2.3907736e-02 8.8957512e-01 8.6478375e-02]], shape=(1, 4), dtype=float32)\n",
      "[0.5, 0.7, 0.2, 0.9]\n",
      "tf.Tensor([[5.4989272e-05 3.9990637e-02 9.0991318e-01 5.0041180e-02]], shape=(1, 4), dtype=float32)\n",
      "[0.2, 0.7, 0.2, 0.9]\n",
      "tf.Tensor([[0.02631338 0.94774497 0.02389087 0.00205079]], shape=(1, 4), dtype=float32)\n"
     ]
    },
    {
     "name": "stderr",
     "output_type": "stream",
     "text": [
      " 74%|██████████████████████████████████████████████████████▌                   | 22101/30000 [5:34:37<48:09,  2.73it/s]"
     ]
    },
    {
     "name": "stdout",
     "output_type": "stream",
     "text": [
      "6.667132784816087\n",
      "100\n"
     ]
    },
    {
     "name": "stderr",
     "output_type": "stream",
     "text": [
      " 74%|█████████████████████████████████████████████████████▎                  | 22201/30000 [5:35:16<1:03:04,  2.06it/s]"
     ]
    },
    {
     "name": "stdout",
     "output_type": "stream",
     "text": [
      "6.282490993149478\n",
      "100\n",
      "[0.4, 0.5, 0.6, 0.2]\n",
      "tf.Tensor([[3.2068634e-05 1.9069614e-02 8.9280599e-01 8.8092379e-02]], shape=(1, 4), dtype=float32)\n",
      "[0.4, 0.2, 0.6, 0.2]\n",
      "tf.Tensor([[4.7746958e-05 3.0539906e-02 9.1716456e-01 5.2247774e-02]], shape=(1, 4), dtype=float32)\n",
      "[0.7, 0.2, 0.6, 0.2]\n",
      "tf.Tensor([[0.01557781 0.93040574 0.0500535  0.00396288]], shape=(1, 4), dtype=float32)\n",
      "[0.5, 0.2, 0.6, 0.2]\n",
      "tf.Tensor([[9.0821576e-01 9.1746964e-02 2.3656414e-05 1.3571139e-05]], shape=(1, 4), dtype=float32)\n"
     ]
    },
    {
     "name": "stderr",
     "output_type": "stream",
     "text": [
      " 74%|███████████████████████████████████████████████████████                   | 22301/30000 [5:35:54<50:33,  2.54it/s]"
     ]
    },
    {
     "name": "stdout",
     "output_type": "stream",
     "text": [
      "6.705609200155962\n",
      "100\n"
     ]
    },
    {
     "name": "stderr",
     "output_type": "stream",
     "text": [
      " 75%|███████████████████████████████████████████████████████▎                  | 22401/30000 [5:36:34<54:26,  2.33it/s]"
     ]
    },
    {
     "name": "stdout",
     "output_type": "stream",
     "text": [
      "6.608945270740561\n",
      "100\n",
      "[0.5, 0.0, 0.5, 0.7]\n",
      "tf.Tensor([[3.2769178e-05 2.2813585e-02 8.4947121e-01 1.2768248e-01]], shape=(1, 4), dtype=float32)\n",
      "[0.5, 0.3, 0.5, 0.7]\n",
      "tf.Tensor([[4.4630222e-05 3.9287157e-02 8.8282359e-01 7.7844717e-02]], shape=(1, 4), dtype=float32)\n",
      "[0.5, 0.6, 0.5, 0.7]\n",
      "tf.Tensor([[0.01172172 0.9533704  0.03168174 0.00322612]], shape=(1, 4), dtype=float32)\n",
      "[0.5, 0.8, 0.5, 0.7]\n",
      "tf.Tensor([[9.0944660e-01 9.0530634e-02 1.3165647e-05 9.6124450e-06]], shape=(1, 4), dtype=float32)\n"
     ]
    },
    {
     "name": "stderr",
     "output_type": "stream",
     "text": [
      " 75%|███████████████████████████████████████████████████████▌                  | 22501/30000 [5:37:12<55:58,  2.23it/s]"
     ]
    },
    {
     "name": "stdout",
     "output_type": "stream",
     "text": [
      "7.1132672650961775\n",
      "100\n"
     ]
    },
    {
     "name": "stderr",
     "output_type": "stream",
     "text": [
      " 75%|███████████████████████████████████████████████████████▋                  | 22601/30000 [5:37:51<37:29,  3.29it/s]"
     ]
    },
    {
     "name": "stdout",
     "output_type": "stream",
     "text": [
      "6.492013464587258\n",
      "100\n",
      "[0.4, 0.3, 0.5, 0.7]\n",
      "tf.Tensor([[3.7629517e-05 2.1523410e-02 8.1030321e-01 1.6813575e-01]], shape=(1, 4), dtype=float32)\n",
      "[0.4, 0.6, 0.5, 0.7]\n",
      "tf.Tensor([[5.1660831e-05 3.7372816e-02 8.5764939e-01 1.0492608e-01]], shape=(1, 4), dtype=float32)\n",
      "[0.4, 0.9, 0.5, 0.7]\n",
      "tf.Tensor([[0.01940066 0.95678604 0.0207828  0.00303049]], shape=(1, 4), dtype=float32)\n",
      "[0.4, 0.7, 0.5, 0.7]\n",
      "tf.Tensor([[9.5676178e-01 4.3223459e-02 6.9119988e-06 7.8303638e-06]], shape=(1, 4), dtype=float32)\n"
     ]
    },
    {
     "name": "stderr",
     "output_type": "stream",
     "text": [
      " 76%|███████████████████████████████████████████████████████▉                  | 22701/30000 [5:38:27<39:07,  3.11it/s]"
     ]
    },
    {
     "name": "stdout",
     "output_type": "stream",
     "text": [
      "6.674348368052501\n",
      "100\n"
     ]
    },
    {
     "name": "stderr",
     "output_type": "stream",
     "text": [
      " 76%|████████████████████████████████████████████████████████▏                 | 22801/30000 [5:39:01<52:20,  2.29it/s]"
     ]
    },
    {
     "name": "stdout",
     "output_type": "stream",
     "text": [
      "6.597076232055736\n",
      "100\n",
      "[0.2, 0.3, 0.7, 0.1]\n",
      "tf.Tensor([[3.4305423e-05 1.7926069e-02 8.2651532e-01 1.5552442e-01]], shape=(1, 4), dtype=float32)\n",
      "[0.5, 0.3, 0.7, 0.1]\n",
      "tf.Tensor([[4.0860079e-05 3.3841759e-02 8.6679673e-01 9.9320687e-02]], shape=(1, 4), dtype=float32)\n",
      "[0.5, 0.0, 0.7, 0.1]\n",
      "tf.Tensor([[0.01756601 0.95249474 0.02568862 0.00425058]], shape=(1, 4), dtype=float32)\n",
      "[0.7, 0.0, 0.7, 0.1]\n",
      "tf.Tensor([[9.3326026e-01 6.6721812e-02 8.8636834e-06 9.0489139e-06]], shape=(1, 4), dtype=float32)\n"
     ]
    },
    {
     "name": "stderr",
     "output_type": "stream",
     "text": [
      " 76%|████████████████████████████████████████████████████████▍                 | 22901/30000 [5:39:37<42:05,  2.81it/s]"
     ]
    },
    {
     "name": "stdout",
     "output_type": "stream",
     "text": [
      "6.7579543550837915\n",
      "100\n"
     ]
    },
    {
     "name": "stderr",
     "output_type": "stream",
     "text": [
      " 77%|████████████████████████████████████████████████████████▋                 | 23001/30000 [5:40:15<48:28,  2.41it/s]"
     ]
    },
    {
     "name": "stdout",
     "output_type": "stream",
     "text": [
      "6.21263581751632\n",
      "100\n",
      "[0.3, 0.8, 0.5, 0.7]\n",
      "tf.Tensor([[3.3721652e-05 1.6299730e-02 7.9795218e-01 1.8571433e-01]], shape=(1, 4), dtype=float32)\n",
      "[0.6, 0.8, 0.5, 0.7]\n",
      "tf.Tensor([[4.5383233e-05 3.1131918e-02 8.5056907e-01 1.1825370e-01]], shape=(1, 4), dtype=float32)\n",
      "[0.3, 0.8, 0.5, 0.7]\n",
      "tf.Tensor([[0.06514419 0.9280445  0.00529034 0.00152099]], shape=(1, 4), dtype=float32)\n",
      "[0.5, 0.8, 0.5, 0.7]\n",
      "tf.Tensor([[9.5718002e-01 4.2808913e-02 4.6632249e-06 6.3555608e-06]], shape=(1, 4), dtype=float32)\n"
     ]
    },
    {
     "name": "stderr",
     "output_type": "stream",
     "text": [
      " 77%|████████████████████████████████████████████████████████▉                 | 23101/30000 [5:40:51<40:30,  2.84it/s]"
     ]
    },
    {
     "name": "stdout",
     "output_type": "stream",
     "text": [
      "6.703415013079324\n",
      "100\n"
     ]
    },
    {
     "name": "stderr",
     "output_type": "stream",
     "text": [
      " 77%|█████████████████████████████████████████████████████████▏                | 23201/30000 [5:41:26<44:08,  2.57it/s]"
     ]
    },
    {
     "name": "stdout",
     "output_type": "stream",
     "text": [
      "6.476903461641848\n",
      "100\n",
      "[0.9, 0.7, 0.7, 0.4]\n",
      "tf.Tensor([[2.4878371e-05 1.4060632e-02 7.7140605e-01 2.1450844e-01]], shape=(1, 4), dtype=float32)\n",
      "[0.9, 0.4, 0.7, 0.4]\n",
      "tf.Tensor([[3.6759429e-05 2.5206491e-02 8.3106911e-01 1.4368771e-01]], shape=(1, 4), dtype=float32)\n",
      "[0.6, 0.4, 0.7, 0.4]\n",
      "tf.Tensor([[0.03759725 0.95066047 0.00914228 0.00259999]], shape=(1, 4), dtype=float32)\n",
      "[0.8, 0.4, 0.7, 0.4]\n",
      "tf.Tensor([[9.5173740e-01 4.8246320e-02 6.4901265e-06 9.7319589e-06]], shape=(1, 4), dtype=float32)\n"
     ]
    },
    {
     "name": "stderr",
     "output_type": "stream",
     "text": [
      " 78%|█████████████████████████████████████████████████████████▍                | 23301/30000 [5:42:02<42:43,  2.61it/s]"
     ]
    },
    {
     "name": "stdout",
     "output_type": "stream",
     "text": [
      "6.38074047010269\n",
      "100\n"
     ]
    },
    {
     "name": "stderr",
     "output_type": "stream",
     "text": [
      " 78%|█████████████████████████████████████████████████████████▋                | 23401/30000 [5:42:38<52:31,  2.09it/s]"
     ]
    },
    {
     "name": "stdout",
     "output_type": "stream",
     "text": [
      "6.451443783496041\n",
      "100\n",
      "[0.3, 0.8, 0.7, 0.4]\n",
      "tf.Tensor([[3.2975076e-05 1.3007253e-02 6.8503684e-01 3.0192298e-01]], shape=(1, 4), dtype=float32)\n",
      "[0.6, 0.8, 0.7, 0.4]\n",
      "tf.Tensor([[3.2253585e-05 1.8668003e-02 7.3812938e-01 2.4317031e-01]], shape=(1, 4), dtype=float32)\n",
      "[0.6, 0.5, 0.7, 0.4]\n",
      "tf.Tensor([[0.01164513 0.94368196 0.03730697 0.00736601]], shape=(1, 4), dtype=float32)\n",
      "[0.6, 0.3, 0.7, 0.4]\n",
      "tf.Tensor([[9.5271784e-01 4.7265515e-02 7.3636493e-06 9.2888749e-06]], shape=(1, 4), dtype=float32)\n",
      "[0.6, 0.4, 0.7, 0.4]\n",
      "tf.Tensor([[9.4906819e-01 5.0911728e-02 9.0533895e-06 1.1023098e-05]], shape=(1, 4), dtype=float32)\n"
     ]
    },
    {
     "name": "stderr",
     "output_type": "stream",
     "text": [
      " 78%|█████████████████████████████████████████████████████████▉                | 23501/30000 [5:43:17<45:30,  2.38it/s]"
     ]
    },
    {
     "name": "stdout",
     "output_type": "stream",
     "text": [
      "6.332511918985877\n",
      "100\n"
     ]
    },
    {
     "name": "stderr",
     "output_type": "stream",
     "text": [
      " 79%|██████████████████████████████████████████████████████████▏               | 23601/30000 [5:43:57<45:51,  2.33it/s]"
     ]
    },
    {
     "name": "stdout",
     "output_type": "stream",
     "text": [
      "6.530480744957917\n",
      "100\n",
      "[0.9, 0.9, 0.2, 0.9]\n",
      "tf.Tensor([[1.6765978e-05 9.1311745e-03 8.3269840e-01 1.5815370e-01]], shape=(1, 4), dtype=float32)\n",
      "[0.6, 0.9, 0.2, 0.9]\n",
      "tf.Tensor([[1.7404747e-05 1.1353219e-02 8.5886621e-01 1.2976314e-01]], shape=(1, 4), dtype=float32)\n",
      "[0.3, 0.9, 0.2, 0.9]\n",
      "tf.Tensor([[0.00134217 0.41354632 0.55297863 0.03213288]], shape=(1, 4), dtype=float32)\n",
      "[0.0, 0.9, 0.2, 0.9]\n",
      "tf.Tensor([[9.3488979e-01 6.5078340e-02 1.9822677e-05 1.2100766e-05]], shape=(1, 4), dtype=float32)\n",
      "[0.1, 0.9, 0.2, 0.9]\n",
      "tf.Tensor([[9.3595719e-01 6.4010099e-02 2.0185164e-05 1.2482535e-05]], shape=(1, 4), dtype=float32)\n"
     ]
    },
    {
     "name": "stderr",
     "output_type": "stream",
     "text": [
      " 79%|██████████████████████████████████████████████████████████▍               | 23701/30000 [5:44:40<48:42,  2.16it/s]"
     ]
    },
    {
     "name": "stdout",
     "output_type": "stream",
     "text": [
      "6.051327567379498\n",
      "100\n"
     ]
    },
    {
     "name": "stderr",
     "output_type": "stream",
     "text": [
      " 79%|██████████████████████████████████████████████████████████▋               | 23801/30000 [5:45:23<58:04,  1.78it/s]"
     ]
    },
    {
     "name": "stdout",
     "output_type": "stream",
     "text": [
      "5.6969885748477935\n",
      "100\n",
      "[0.8, 0.9, 0.6, 0.2]\n",
      "tf.Tensor([[1.5490185e-05 8.6132409e-03 7.4345803e-01 2.4791321e-01]], shape=(1, 4), dtype=float32)\n",
      "[0.8, 0.6, 0.6, 0.2]\n",
      "tf.Tensor([[1.5543303e-05 1.1735890e-02 7.9184073e-01 1.9640788e-01]], shape=(1, 4), dtype=float32)\n",
      "[0.8, 0.3, 0.6, 0.2]\n",
      "tf.Tensor([[0.00133289 0.63740164 0.3368161  0.02444931]], shape=(1, 4), dtype=float32)\n",
      "[0.6, 0.3, 0.6, 0.2]\n",
      "tf.Tensor([[7.6127177e-01 2.3864827e-01 5.6570534e-05 2.3407338e-05]], shape=(1, 4), dtype=float32)\n"
     ]
    },
    {
     "name": "stderr",
     "output_type": "stream",
     "text": [
      " 80%|██████████████████████████████████████████████████████████▉               | 23901/30000 [5:46:09<44:34,  2.28it/s]"
     ]
    },
    {
     "name": "stdout",
     "output_type": "stream",
     "text": [
      "5.654105445630778\n",
      "100\n"
     ]
    },
    {
     "name": "stderr",
     "output_type": "stream",
     "text": [
      " 80%|███████████████████████████████████████████████████████████▏              | 24000/30000 [5:46:52<41:11,  2.43it/s]"
     ]
    },
    {
     "name": "stdout",
     "output_type": "stream",
     "text": [
      "5.963401613861517\n",
      "100\n",
      "[0.2, 0.9, 0.7, 0.1]\n",
      "tf.Tensor([[1.2877208e-05 7.2921491e-03 8.1563318e-01 1.7706171e-01]], shape=(1, 4), dtype=float32)\n",
      "[0.2, 0.6, 0.7, 0.1]\n",
      "tf.Tensor([[1.4965709e-05 8.9462958e-03 8.5552704e-01 1.3551168e-01]], shape=(1, 4), dtype=float32)\n",
      "[0.5, 0.6, 0.7, 0.1]\n",
      "tf.Tensor([[3.3723508e-04 2.1092950e-01 7.5102293e-01 3.7710253e-02]], shape=(1, 4), dtype=float32)\n",
      "[0.5, 0.3, 0.7, 0.1]\n",
      "tf.Tensor([[8.5378748e-01 1.4614069e-01 5.0027083e-05 2.1848669e-05]], shape=(1, 4), dtype=float32)\n",
      "[0.6, 0.3, 0.7, 0.1]\n",
      "tf.Tensor([[8.6706066e-01 1.3288310e-01 3.9116756e-05 1.7160441e-05]], shape=(1, 4), dtype=float32)\n",
      "[0.6, 0.2, 0.7, 0.1]\n",
      "tf.Tensor([[8.6669856e-01 1.3323630e-01 4.5008252e-05 2.0168327e-05]], shape=(1, 4), dtype=float32)"
     ]
    },
    {
     "name": "stderr",
     "output_type": "stream",
     "text": [
      "\r",
      " 80%|███████████████████████████████████████████████████████████▏              | 24001/30000 [5:46:53<45:57,  2.18it/s]"
     ]
    },
    {
     "name": "stdout",
     "output_type": "stream",
     "text": [
      "\n",
      "[0.7, 0.2, 0.7, 0.1]\n",
      "tf.Tensor([[8.6968440e-01 1.3026045e-01 3.8303882e-05 1.6899263e-05]], shape=(1, 4), dtype=float32)\n"
     ]
    },
    {
     "name": "stderr",
     "output_type": "stream",
     "text": [
      " 80%|███████████████████████████████████████████████████████████▍              | 24101/30000 [5:47:36<38:04,  2.58it/s]"
     ]
    },
    {
     "name": "stdout",
     "output_type": "stream",
     "text": [
      "6.174792299208628\n",
      "100\n"
     ]
    },
    {
     "name": "stderr",
     "output_type": "stream",
     "text": [
      " 81%|███████████████████████████████████████████████████████████▋              | 24200/30000 [5:48:23<43:11,  2.24it/s]"
     ]
    },
    {
     "name": "stdout",
     "output_type": "stream",
     "text": [
      "6.384329461967787\n",
      "100\n",
      "[0.4, 0.0, 0.5, 0.7]\n",
      "tf.Tensor([[1.3713281e-05 7.4420692e-03 8.2086354e-01 1.7168075e-01]], shape=(1, 4), dtype=float32)\n",
      "[0.4, 0.3, 0.5, 0.7]\n",
      "tf.Tensor([[1.4014983e-05 9.1012390e-03 8.5327345e-01 1.3761127e-01]], shape=(1, 4), dtype=float32)\n",
      "[0.4, 0.6, 0.5, 0.7]\n",
      "tf.Tensor([[4.2549791e-04 2.3408264e-01 7.2787386e-01 3.7617981e-02]], shape=(1, 4), dtype=float32)\n",
      "[0.4, 0.9, 0.5, 0.7]\n",
      "tf.Tensor([[8.8125479e-01 1.1870125e-01 2.9545343e-05 1.4408276e-05]], shape=(1, 4), dtype=float32)\n",
      "[0.4, 0.8, 0.5, 0.7]\n",
      "tf.Tensor([[8.9087176e-01 1.0908887e-01 2.5522049e-05 1.3834621e-05]], shape=(1, 4), dtype=float32)"
     ]
    },
    {
     "name": "stderr",
     "output_type": "stream",
     "text": [
      "\r",
      " 81%|███████████████████████████████████████████████████████████▋              | 24201/30000 [5:48:23<52:14,  1.85it/s]"
     ]
    },
    {
     "name": "stdout",
     "output_type": "stream",
     "text": [
      "\n",
      "[0.5, 0.8, 0.5, 0.7]\n",
      "tf.Tensor([[8.94757748e-01 1.05206706e-01 2.31120903e-05 1.24336375e-05]], shape=(1, 4), dtype=float32)\n"
     ]
    },
    {
     "name": "stderr",
     "output_type": "stream",
     "text": [
      " 81%|███████████████████████████████████████████████████████████▉              | 24301/30000 [5:49:09<49:41,  1.91it/s]"
     ]
    },
    {
     "name": "stdout",
     "output_type": "stream",
     "text": [
      "6.071578046744123\n",
      "100\n"
     ]
    },
    {
     "name": "stderr",
     "output_type": "stream",
     "text": [
      " 81%|██████████████████████████████████████████████████████████▌             | 24401/30000 [5:49:54<1:01:47,  1.51it/s]"
     ]
    },
    {
     "name": "stdout",
     "output_type": "stream",
     "text": [
      "6.19829741995063\n",
      "100\n",
      "[0.9, 0.7, 0.2, 0.9]\n",
      "tf.Tensor([[1.5038211e-05 7.3372917e-03 8.4485191e-01 1.4779575e-01]], shape=(1, 4), dtype=float32)\n",
      "[0.6, 0.7, 0.2, 0.9]\n",
      "tf.Tensor([[1.6372012e-05 9.7792773e-03 8.8069803e-01 1.0950632e-01]], shape=(1, 4), dtype=float32)\n",
      "[0.3, 0.7, 0.2, 0.9]\n",
      "tf.Tensor([[0.00468847 0.7648762  0.2192151  0.01122025]], shape=(1, 4), dtype=float32)\n",
      "[0.3, 0.9, 0.2, 0.9]\n",
      "tf.Tensor([[9.3270075e-01 6.7274287e-02 1.6472159e-05 8.4789945e-06]], shape=(1, 4), dtype=float32)\n"
     ]
    },
    {
     "name": "stderr",
     "output_type": "stream",
     "text": [
      " 82%|██████████████████████████████████████████████████████████▊             | 24501/30000 [5:50:40<1:02:31,  1.47it/s]"
     ]
    },
    {
     "name": "stdout",
     "output_type": "stream",
     "text": [
      "6.2909029744063005\n",
      "100\n"
     ]
    },
    {
     "name": "stderr",
     "output_type": "stream",
     "text": [
      " 82%|████████████████████████████████████████████████████████████▋             | 24600/30000 [5:51:26<36:42,  2.45it/s]"
     ]
    },
    {
     "name": "stdout",
     "output_type": "stream",
     "text": [
      "6.006593449696972\n",
      "100\n",
      "[0.3, 0.5, 0.1, 0.1]\n",
      "tf.Tensor([[1.4129450e-05 6.1015575e-03 8.2920349e-01 1.6468082e-01]], shape=(1, 4), dtype=float32)\n",
      "[0.3, 0.2, 0.1, 0.1]\n",
      "tf.Tensor([[1.6368258e-05 7.6904721e-03 8.5982215e-01 1.3247094e-01]], shape=(1, 4), dtype=float32)\n",
      "[0.0, 0.2, 0.1, 0.1]\n",
      "tf.Tensor([[1.7483241e-04 7.5722553e-02 8.8237172e-01 4.1730877e-02]], shape=(1, 4), dtype=float32)\n",
      "[0.3, 0.2, 0.1, 0.1]\n",
      "tf.Tensor([[9.2157179e-01 7.8372419e-02 4.1368337e-05 1.4421622e-05]], shape=(1, 4), dtype=float32)"
     ]
    },
    {
     "name": "stderr",
     "output_type": "stream",
     "text": [
      "\r",
      " 82%|████████████████████████████████████████████████████████████▋             | 24601/30000 [5:51:27<49:52,  1.80it/s]"
     ]
    },
    {
     "name": "stdout",
     "output_type": "stream",
     "text": [
      "\n",
      "[0.2, 0.2, 0.1, 0.1]\n",
      "tf.Tensor([[9.0712309e-01 9.2799030e-02 5.8979000e-05 1.8899025e-05]], shape=(1, 4), dtype=float32)\n",
      "[0.1, 0.2, 0.1, 0.1]\n",
      "tf.Tensor([[9.0193415e-01 9.7992480e-02 5.6031469e-05 1.7291009e-05]], shape=(1, 4), dtype=float32)\n"
     ]
    },
    {
     "name": "stderr",
     "output_type": "stream",
     "text": [
      " 82%|████████████████████████████████████████████████████████████▉             | 24701/30000 [5:52:13<38:48,  2.28it/s]"
     ]
    },
    {
     "name": "stdout",
     "output_type": "stream",
     "text": [
      "6.220974355797286\n",
      "100\n"
     ]
    },
    {
     "name": "stderr",
     "output_type": "stream",
     "text": [
      " 83%|█████████████████████████████████████████████████████████████▏            | 24800/30000 [5:53:06<40:26,  2.14it/s]"
     ]
    },
    {
     "name": "stdout",
     "output_type": "stream",
     "text": [
      "5.908976887648959\n",
      "100\n",
      "[0.9, 0.0, 0.5, 0.7]\n",
      "tf.Tensor([[1.6236569e-05 6.0616434e-03 7.6272607e-01 2.3119605e-01]], shape=(1, 4), dtype=float32)\n",
      "[0.9, 0.3, 0.5, 0.7]\n",
      "tf.Tensor([[1.6297239e-05 7.4386033e-03 8.0472070e-01 1.8782440e-01]], shape=(1, 4), dtype=float32)\n",
      "[0.9, 0.6, 0.5, 0.7]\n",
      "tf.Tensor([[2.4515137e-04 1.1004929e-01 8.5223907e-01 3.7466455e-02]], shape=(1, 4), dtype=float32)\n",
      "[0.6, 0.6, 0.5, 0.7]\n",
      "tf.Tensor([[9.4647408e-01 5.3494629e-02 2.2533486e-05 8.8717634e-06]], shape=(1, 4), dtype=float32)"
     ]
    },
    {
     "name": "stderr",
     "output_type": "stream",
     "text": [
      "\r",
      " 83%|█████████████████████████████████████████████████████████████▏            | 24801/30000 [5:53:07<50:28,  1.72it/s]"
     ]
    },
    {
     "name": "stdout",
     "output_type": "stream",
     "text": [
      "\n",
      "[0.6, 0.7, 0.5, 0.7]\n",
      "tf.Tensor([[9.4789046e-01 5.2078199e-02 2.2233677e-05 9.0399562e-06]], shape=(1, 4), dtype=float32)\n"
     ]
    },
    {
     "name": "stderr",
     "output_type": "stream",
     "text": [
      " 83%|███████████████████████████████████████████████████████████▊            | 24900/30000 [5:54:14<1:00:19,  1.41it/s]"
     ]
    },
    {
     "name": "stdout",
     "output_type": "stream",
     "text": [
      "5.99856265491641\n",
      "100\n"
     ]
    },
    {
     "name": "stderr",
     "output_type": "stream",
     "text": [
      " 83%|█████████████████████████████████████████████████████████████▋            | 25000/30000 [5:55:21<44:02,  1.89it/s]"
     ]
    },
    {
     "name": "stdout",
     "output_type": "stream",
     "text": [
      "6.126608607370442\n",
      "100\n",
      "[0.0, 0.5, 0.5, 0.7]\n",
      "tf.Tensor([[2.0149144e-05 6.1554094e-03 7.5947142e-01 2.3435299e-01]], shape=(1, 4), dtype=float32)\n",
      "[0.3, 0.5, 0.5, 0.7]\n",
      "tf.Tensor([[1.6569438e-05 7.4280323e-03 8.0296737e-01 1.8958801e-01]], shape=(1, 4), dtype=float32)\n",
      "[0.3, 0.8, 0.5, 0.7]\n",
      "tf.Tensor([[2.0945813e-04 7.9958916e-02 8.7889093e-01 4.0940680e-02]], shape=(1, 4), dtype=float32)\n"
     ]
    },
    {
     "name": "stderr",
     "output_type": "stream",
     "text": [
      "\r",
      " 83%|█████████████████████████████████████████████████████████████▋            | 25001/30000 [5:55:21<49:47,  1.67it/s]"
     ]
    },
    {
     "name": "stdout",
     "output_type": "stream",
     "text": [
      "[0.6, 0.8, 0.5, 0.7]\n",
      "tf.Tensor([[9.4198984e-01 5.7975341e-02 2.5270896e-05 9.5689093e-06]], shape=(1, 4), dtype=float32)\n",
      "[0.5, 0.8, 0.5, 0.7]\n",
      "tf.Tensor([[9.4262868e-01 5.7338119e-02 2.4291867e-05 8.9173063e-06]], shape=(1, 4), dtype=float32)\n"
     ]
    },
    {
     "name": "stderr",
     "output_type": "stream",
     "text": [
      " 84%|█████████████████████████████████████████████████████████████▉            | 25101/30000 [5:56:22<57:04,  1.43it/s]"
     ]
    },
    {
     "name": "stdout",
     "output_type": "stream",
     "text": [
      "5.815950238560421\n",
      "100\n"
     ]
    },
    {
     "name": "stderr",
     "output_type": "stream",
     "text": [
      " 84%|██████████████████████████████████████████████████████████████▏           | 25200/30000 [5:57:25<41:01,  1.95it/s]"
     ]
    },
    {
     "name": "stdout",
     "output_type": "stream",
     "text": [
      "5.988637057362173\n",
      "100\n",
      "[0.0, 0.0, 0.6, 0.2]\n",
      "tf.Tensor([[2.3262161e-05 5.9488518e-03 6.8544042e-01 3.0858752e-01]], shape=(1, 4), dtype=float32)\n",
      "[0.3, 0.0, 0.6, 0.2]\n",
      "tf.Tensor([[2.4487887e-05 6.9261529e-03 7.2369325e-01 2.6935604e-01]], shape=(1, 4), dtype=float32)\n",
      "[0.6, 0.0, 0.6, 0.2]\n",
      "tf.Tensor([[3.2054537e-05 1.6162187e-02 8.8791001e-01 9.5895715e-02]], shape=(1, 4), dtype=float32)"
     ]
    },
    {
     "name": "stderr",
     "output_type": "stream",
     "text": [
      "\r",
      " 84%|██████████████████████████████████████████████████████████████▏           | 25201/30000 [5:57:26<47:06,  1.70it/s]"
     ]
    },
    {
     "name": "stdout",
     "output_type": "stream",
     "text": [
      "\n",
      "[0.6, 0.3, 0.6, 0.2]\n",
      "tf.Tensor([[8.9314425e-01 1.0676142e-01 7.4957788e-05 1.9424529e-05]], shape=(1, 4), dtype=float32)\n"
     ]
    },
    {
     "name": "stderr",
     "output_type": "stream",
     "text": [
      " 84%|██████████████████████████████████████████████████████████████▍           | 25301/30000 [5:58:19<28:46,  2.72it/s]"
     ]
    },
    {
     "name": "stdout",
     "output_type": "stream",
     "text": [
      "6.507423741028595\n",
      "100\n"
     ]
    },
    {
     "name": "stderr",
     "output_type": "stream",
     "text": [
      " 85%|██████████████████████████████████████████████████████████████▋           | 25400/30000 [5:59:16<36:53,  2.08it/s]"
     ]
    },
    {
     "name": "stdout",
     "output_type": "stream",
     "text": [
      "6.238277208502271\n",
      "100\n",
      "[0.0, 0.2, 0.2, 0.9]\n",
      "tf.Tensor([[1.9892130e-05 5.1307934e-03 5.7255560e-01 4.2229366e-01]], shape=(1, 4), dtype=float32)\n",
      "[0.0, 0.5, 0.2, 0.9]\n",
      "tf.Tensor([[1.9500154e-05 5.9786476e-03 6.2745714e-01 3.6654472e-01]], shape=(1, 4), dtype=float32)\n",
      "[0.0, 0.8, 0.2, 0.9]\n",
      "tf.Tensor([[3.4661425e-05 1.4079440e-02 8.5910010e-01 1.2678577e-01]], shape=(1, 4), dtype=float32)\n",
      "[0.3, 0.8, 0.2, 0.9]\n",
      "tf.Tensor([[9.3646812e-01 6.3472815e-02 4.4412984e-05 1.4610455e-05]], shape=(1, 4), dtype=float32)"
     ]
    },
    {
     "name": "stderr",
     "output_type": "stream",
     "text": [
      "\r",
      " 85%|██████████████████████████████████████████████████████████████▋           | 25401/30000 [5:59:17<33:39,  2.28it/s]"
     ]
    },
    {
     "name": "stdout",
     "output_type": "stream",
     "text": [
      "\n",
      "[0.3, 0.9, 0.2, 0.9]\n",
      "tf.Tensor([[9.43434477e-01 5.65219931e-02 3.21801745e-05 1.13799415e-05]], shape=(1, 4), dtype=float32)\n"
     ]
    },
    {
     "name": "stderr",
     "output_type": "stream",
     "text": [
      " 85%|██████████████████████████████████████████████████████████████▉           | 25501/30000 [6:00:08<39:29,  1.90it/s]"
     ]
    },
    {
     "name": "stdout",
     "output_type": "stream",
     "text": [
      "5.9529080964009875\n",
      "100\n"
     ]
    },
    {
     "name": "stderr",
     "output_type": "stream",
     "text": [
      " 85%|███████████████████████████████████████████████████████████████▏          | 25600/30000 [6:00:51<34:50,  2.11it/s]"
     ]
    },
    {
     "name": "stdout",
     "output_type": "stream",
     "text": [
      "6.252950542828534\n",
      "100\n",
      "[0.4, 0.0, 0.6, 0.2]\n",
      "tf.Tensor([[1.9511372e-05 4.6046884e-03 5.2313733e-01 4.7223848e-01]], shape=(1, 4), dtype=float32)\n",
      "[0.4, 0.3, 0.6, 0.2]\n",
      "tf.Tensor([[2.6952692e-05 5.6588803e-03 5.8321631e-01 4.1109791e-01]], shape=(1, 4), dtype=float32)\n",
      "[0.7, 0.3, 0.6, 0.2]\n",
      "tf.Tensor([[4.8869981e-05 1.8222036e-02 8.6106175e-01 1.2066743e-01]], shape=(1, 4), dtype=float32)\n",
      "[0.4, 0.3, 0.6, 0.2]\n",
      "tf.Tensor([[9.238160e-01 7.609233e-02 7.193258e-05 1.967319e-05]], shape=(1, 4), dtype=float32)"
     ]
    },
    {
     "name": "stderr",
     "output_type": "stream",
     "text": [
      "\r",
      " 85%|███████████████████████████████████████████████████████████████▏          | 25601/30000 [6:00:51<40:50,  1.79it/s]"
     ]
    },
    {
     "name": "stdout",
     "output_type": "stream",
     "text": [
      "\n",
      "[0.5, 0.3, 0.6, 0.2]\n",
      "tf.Tensor([[9.3677682e-01 6.3151821e-02 5.4455511e-05 1.6848535e-05]], shape=(1, 4), dtype=float32)\n",
      "[0.6, 0.3, 0.6, 0.2]\n",
      "tf.Tensor([[9.3865502e-01 6.1287086e-02 4.4583277e-05 1.3313871e-05]], shape=(1, 4), dtype=float32)\n"
     ]
    },
    {
     "name": "stderr",
     "output_type": "stream",
     "text": [
      " 86%|███████████████████████████████████████████████████████████████▍          | 25701/30000 [6:01:44<35:07,  2.04it/s]"
     ]
    },
    {
     "name": "stdout",
     "output_type": "stream",
     "text": [
      "5.997090616581752\n",
      "100\n"
     ]
    },
    {
     "name": "stderr",
     "output_type": "stream",
     "text": [
      " 86%|███████████████████████████████████████████████████████████████▋          | 25800/30000 [6:02:36<57:54,  1.21it/s]"
     ]
    },
    {
     "name": "stdout",
     "output_type": "stream",
     "text": [
      "5.973794254552149\n",
      "100\n",
      "[0.7, 0.9, 0.1, 0.1]\n",
      "tf.Tensor([[2.1034281e-05 3.9813421e-03 3.8462439e-01 6.1137325e-01]], shape=(1, 4), dtype=float32)\n",
      "[0.7, 0.5, 0.1, 0.1]\n",
      "tf.Tensor([[2.4591942e-05 5.7620169e-03 4.6374524e-01 5.3046817e-01]], shape=(1, 4), dtype=float32)"
     ]
    },
    {
     "name": "stderr",
     "output_type": "stream",
     "text": [
      "\r",
      " 86%|███████████████████████████████████████████████████████████████▋          | 25801/30000 [6:02:37<59:40,  1.17it/s]"
     ]
    },
    {
     "name": "stdout",
     "output_type": "stream",
     "text": [
      "\n",
      "[0.3, 0.5, 0.1, 0.1]\n",
      "tf.Tensor([[2.2082429e-04 8.9897282e-02 8.3752334e-01 7.2358564e-02]], shape=(1, 4), dtype=float32)\n",
      "[0.3, 0.2, 0.1, 0.1]\n",
      "tf.Tensor([[9.2632139e-01 7.3615290e-02 4.8570284e-05 1.4695553e-05]], shape=(1, 4), dtype=float32)\n",
      "[0.2, 0.2, 0.1, 0.1]\n",
      "tf.Tensor([[9.1503876e-01 8.4874816e-02 6.7254485e-05 1.9119821e-05]], shape=(1, 4), dtype=float32)\n",
      "[0.1, 0.2, 0.1, 0.1]\n",
      "tf.Tensor([[9.0382278e-01 9.6082516e-02 7.5498203e-05 1.9184601e-05]], shape=(1, 4), dtype=float32)\n"
     ]
    },
    {
     "name": "stderr",
     "output_type": "stream",
     "text": [
      " 86%|███████████████████████████████████████████████████████████████▉          | 25901/30000 [6:03:40<42:54,  1.59it/s]"
     ]
    },
    {
     "name": "stdout",
     "output_type": "stream",
     "text": [
      "5.94885450808425\n",
      "100\n"
     ]
    },
    {
     "name": "stderr",
     "output_type": "stream",
     "text": [
      " 87%|████████████████████████████████████████████████████████████████▏         | 26000/30000 [6:04:56<37:49,  1.76it/s]"
     ]
    },
    {
     "name": "stdout",
     "output_type": "stream",
     "text": [
      "6.210616554601096\n",
      "100\n",
      "[0.8, 0.4, 0.5, 0.7]\n",
      "tf.Tensor([[2.1547152e-05 3.2145958e-03 3.1665793e-01 6.8010598e-01]], shape=(1, 4), dtype=float32)\n",
      "[0.8, 0.8, 0.5, 0.7]\n",
      "tf.Tensor([[2.4535213e-05 4.5031533e-03 3.8626453e-01 6.0920781e-01]], shape=(1, 4), dtype=float32)\n",
      "[0.4, 0.8, 0.5, 0.7]\n",
      "tf.Tensor([[3.2653054e-04 8.0565654e-02 8.4438604e-01 7.4721746e-02]], shape=(1, 4), dtype=float32)"
     ]
    },
    {
     "name": "stderr",
     "output_type": "stream",
     "text": [
      "\r",
      " 87%|████████████████████████████████████████████████████████████████▏         | 26001/30000 [6:04:57<43:30,  1.53it/s]"
     ]
    },
    {
     "name": "stdout",
     "output_type": "stream",
     "text": [
      "\n",
      "[0.7, 0.8, 0.5, 0.7]\n",
      "tf.Tensor([[9.6029049e-01 3.9677285e-02 2.3765500e-05 8.4412877e-06]], shape=(1, 4), dtype=float32)\n",
      "[0.6, 0.8, 0.5, 0.7]\n",
      "tf.Tensor([[9.5975006e-01 4.0216856e-02 2.4339704e-05 8.7512781e-06]], shape=(1, 4), dtype=float32)\n",
      "[0.5, 0.8, 0.5, 0.7]\n",
      "tf.Tensor([[9.6059287e-01 3.9374191e-02 2.4411636e-05 8.4849780e-06]], shape=(1, 4), dtype=float32)\n"
     ]
    },
    {
     "name": "stderr",
     "output_type": "stream",
     "text": [
      " 87%|████████████████████████████████████████████████████████████████▍         | 26101/30000 [6:06:09<35:51,  1.81it/s]"
     ]
    },
    {
     "name": "stdout",
     "output_type": "stream",
     "text": [
      "6.1547865321874164\n",
      "100\n"
     ]
    },
    {
     "name": "stderr",
     "output_type": "stream",
     "text": [
      " 87%|████████████████████████████████████████████████████████████████▋         | 26200/30000 [6:07:01<33:14,  1.91it/s]"
     ]
    },
    {
     "name": "stdout",
     "output_type": "stream",
     "text": [
      "6.221039132291828\n",
      "100\n",
      "[0.7, 0.0, 0.1, 0.1]\n",
      "tf.Tensor([[3.1458268e-05 3.2275862e-03 2.8786653e-01 7.0887440e-01]], shape=(1, 4), dtype=float32)\n",
      "[0.3, 0.0, 0.1, 0.1]\n",
      "tf.Tensor([[3.4033288e-05 4.2765667e-03 3.4064451e-01 6.5504491e-01]], shape=(1, 4), dtype=float32)\n",
      "[0.0, 0.0, 0.1, 0.1]\n",
      "tf.Tensor([[9.2059461e-05 2.1176485e-02 7.7725279e-01 2.0147866e-01]], shape=(1, 4), dtype=float32)"
     ]
    },
    {
     "name": "stderr",
     "output_type": "stream",
     "text": [
      "\r",
      " 87%|████████████████████████████████████████████████████████████████▋         | 26201/30000 [6:07:02<39:19,  1.61it/s]"
     ]
    },
    {
     "name": "stdout",
     "output_type": "stream",
     "text": [
      "\n",
      "[0.0, 0.3, 0.1, 0.1]\n",
      "tf.Tensor([[9.6588922e-01 3.4065966e-02 3.4107619e-05 1.0721246e-05]], shape=(1, 4), dtype=float32)\n",
      "[0.0, 0.2, 0.1, 0.1]\n",
      "tf.Tensor([[9.5718044e-01 4.2755321e-02 4.9891500e-05 1.4307985e-05]], shape=(1, 4), dtype=float32)\n",
      "[0.1, 0.2, 0.1, 0.1]\n",
      "tf.Tensor([[9.5147252e-01 4.8462901e-02 5.1286199e-05 1.3232864e-05]], shape=(1, 4), dtype=float32)\n"
     ]
    },
    {
     "name": "stderr",
     "output_type": "stream",
     "text": [
      " 88%|████████████████████████████████████████████████████████████████▉         | 26301/30000 [6:07:58<51:55,  1.19it/s]"
     ]
    },
    {
     "name": "stdout",
     "output_type": "stream",
     "text": [
      "6.120575223677697\n",
      "100\n"
     ]
    },
    {
     "name": "stderr",
     "output_type": "stream",
     "text": [
      " 88%|███████████████████████████████████████████████████████████████▎        | 26400/30000 [6:09:08<1:15:34,  1.26s/it]"
     ]
    },
    {
     "name": "stdout",
     "output_type": "stream",
     "text": [
      "6.2810704332969145\n",
      "100\n",
      "[0.4, 0.7, 0.6, 0.2]\n",
      "tf.Tensor([[2.2825781e-05 2.4961575e-03 2.5552231e-01 7.4195868e-01]], shape=(1, 4), dtype=float32)\n",
      "[0.4, 0.3, 0.6, 0.2]\n",
      "tf.Tensor([[3.3360826e-05 3.8811776e-03 3.5253432e-01 6.4355111e-01]], shape=(1, 4), dtype=float32)\n",
      "[0.8, 0.3, 0.6, 0.2]\n",
      "tf.Tensor([[2.7047985e-04 5.7809167e-02 8.7144399e-01 7.0476294e-02]], shape=(1, 4), dtype=float32)\n",
      "[0.5, 0.3, 0.6, 0.2]\n",
      "tf.Tensor([[9.7811925e-01 2.1849694e-02 2.3997836e-05 6.9804923e-06]], shape=(1, 4), dtype=float32)\n",
      "[0.6, 0.3, 0.6, 0.2]\n",
      "tf.Tensor([[9.7907704e-01 2.0896593e-02 2.0550769e-05 5.7774159e-06]], shape=(1, 4), dtype=float32)"
     ]
    },
    {
     "name": "stderr",
     "output_type": "stream",
     "text": [
      "\r",
      " 88%|███████████████████████████████████████████████████████████████▎        | 26401/30000 [6:09:09<1:03:28,  1.06s/it]"
     ]
    },
    {
     "name": "stdout",
     "output_type": "stream",
     "text": [
      "\n"
     ]
    },
    {
     "name": "stderr",
     "output_type": "stream",
     "text": [
      " 88%|█████████████████████████████████████████████████████████████████▎        | 26501/30000 [6:10:24<27:00,  2.16it/s]"
     ]
    },
    {
     "name": "stdout",
     "output_type": "stream",
     "text": [
      "6.26588419359265\n",
      "100\n"
     ]
    },
    {
     "name": "stderr",
     "output_type": "stream",
     "text": [
      " 89%|█████████████████████████████████████████████████████████████████▌        | 26600/30000 [6:11:10<25:33,  2.22it/s]"
     ]
    },
    {
     "name": "stdout",
     "output_type": "stream",
     "text": [
      "6.218058889288389\n",
      "100\n",
      "[0.2, 0.8, 0.1, 0.1]\n",
      "tf.Tensor([[2.1969023e-05 2.1423895e-03 2.0796107e-01 7.8987449e-01]], shape=(1, 4), dtype=float32)\n",
      "[0.2, 0.4, 0.1, 0.1]\n",
      "tf.Tensor([[2.3622602e-05 3.0156588e-03 2.6207209e-01 7.3488861e-01]], shape=(1, 4), dtype=float32)\n",
      "[0.2, 0.0, 0.1, 0.1]\n",
      "tf.Tensor([[1.1106052e-04 2.7537532e-02 8.3632857e-01 1.3602285e-01]], shape=(1, 4), dtype=float32)\n",
      "[0.0, 0.0, 0.1, 0.1]\n",
      "tf.Tensor([[9.7962314e-01 2.0346515e-02 2.3915472e-05 6.4249502e-06]], shape=(1, 4), dtype=float32)\n",
      "[0.0, 0.1, 0.1, 0.1]\n",
      "tf.Tensor([[9.7658110e-01 2.3376724e-02 3.3622804e-05 8.5657193e-06]], shape=(1, 4), dtype=float32)"
     ]
    },
    {
     "name": "stderr",
     "output_type": "stream",
     "text": [
      "\r",
      " 89%|█████████████████████████████████████████████████████████████████▌        | 26601/30000 [6:11:11<30:09,  1.88it/s]"
     ]
    },
    {
     "name": "stdout",
     "output_type": "stream",
     "text": [
      "\n"
     ]
    },
    {
     "name": "stderr",
     "output_type": "stream",
     "text": [
      " 89%|█████████████████████████████████████████████████████████████████▊        | 26701/30000 [6:12:00<20:13,  2.72it/s]"
     ]
    },
    {
     "name": "stdout",
     "output_type": "stream",
     "text": [
      "6.84100889966068\n",
      "100\n"
     ]
    },
    {
     "name": "stderr",
     "output_type": "stream",
     "text": [
      " 89%|██████████████████████████████████████████████████████████████████        | 26800/30000 [6:13:12<25:21,  2.10it/s]"
     ]
    },
    {
     "name": "stdout",
     "output_type": "stream",
     "text": [
      "6.269886992568779\n",
      "100\n",
      "[0.0, 0.3, 0.1, 0.1]\n",
      "tf.Tensor([[2.0479834e-05 1.5350104e-03 1.3764323e-01 8.6080134e-01]], shape=(1, 4), dtype=float32)\n",
      "[0.0, 0.0, 0.1, 0.1]\n",
      "tf.Tensor([[2.0884112e-05 2.0256399e-03 1.6670455e-01 8.3124888e-01]], shape=(1, 4), dtype=float32)\n",
      "[0.0, 0.4, 0.1, 0.1]\n",
      "tf.Tensor([[4.5762910e-05 9.0997536e-03 5.1373988e-01 4.7711462e-01]], shape=(1, 4), dtype=float32)"
     ]
    },
    {
     "name": "stderr",
     "output_type": "stream",
     "text": [
      "\r",
      " 89%|██████████████████████████████████████████████████████████████████        | 26801/30000 [6:13:13<28:16,  1.89it/s]"
     ]
    },
    {
     "name": "stdout",
     "output_type": "stream",
     "text": [
      "\n",
      "[0.0, 0.1, 0.1, 0.1]\n",
      "tf.Tensor([[9.6608025e-01 3.3851843e-02 5.6265355e-05 1.1633324e-05]], shape=(1, 4), dtype=float32)\n"
     ]
    },
    {
     "name": "stderr",
     "output_type": "stream",
     "text": [
      " 90%|██████████████████████████████████████████████████████████████████▎       | 26901/30000 [6:14:11<28:20,  1.82it/s]"
     ]
    },
    {
     "name": "stdout",
     "output_type": "stream",
     "text": [
      "6.049857322955919\n",
      "100\n"
     ]
    },
    {
     "name": "stderr",
     "output_type": "stream",
     "text": [
      " 90%|██████████████████████████████████████████████████████████████████▌       | 27000/30000 [6:15:06<26:29,  1.89it/s]"
     ]
    },
    {
     "name": "stdout",
     "output_type": "stream",
     "text": [
      "5.932377523273465\n",
      "100\n",
      "[0.2, 0.7, 0.6, 0.2]\n",
      "tf.Tensor([[1.96400360e-05 1.17675308e-03 1.02589175e-01 8.96214485e-01]], shape=(1, 4), dtype=float32)\n",
      "[0.2, 0.3, 0.6, 0.2]\n",
      "tf.Tensor([[2.8807066e-05 1.8826580e-03 1.5051383e-01 8.4757471e-01]], shape=(1, 4), dtype=float32)\n",
      "[0.6, 0.3, 0.6, 0.2]\n",
      "tf.Tensor([[2.3133450e-04 3.8642921e-02 8.4443033e-01 1.1669535e-01]], shape=(1, 4), dtype=float32)"
     ]
    },
    {
     "name": "stderr",
     "output_type": "stream",
     "text": [
      "\r",
      " 90%|██████████████████████████████████████████████████████████████████▌       | 27001/30000 [6:15:07<30:28,  1.64it/s]"
     ]
    },
    {
     "name": "stdout",
     "output_type": "stream",
     "text": [
      "\n",
      "[0.6, 0.0, 0.6, 0.2]\n",
      "tf.Tensor([[9.8983473e-01 1.0149670e-02 1.2048078e-05 3.5485389e-06]], shape=(1, 4), dtype=float32)\n",
      "[0.6, 0.1, 0.6, 0.2]\n",
      "tf.Tensor([[9.9058318e-01 9.4024697e-03 1.1064561e-05 3.3554129e-06]], shape=(1, 4), dtype=float32)\n"
     ]
    },
    {
     "name": "stderr",
     "output_type": "stream",
     "text": [
      " 90%|██████████████████████████████████████████████████████████████████▊       | 27101/30000 [6:16:09<33:50,  1.43it/s]"
     ]
    },
    {
     "name": "stdout",
     "output_type": "stream",
     "text": [
      "6.528578684325996\n",
      "100\n"
     ]
    },
    {
     "name": "stderr",
     "output_type": "stream",
     "text": [
      " 91%|███████████████████████████████████████████████████████████████████       | 27200/30000 [6:17:23<21:51,  2.13it/s]"
     ]
    },
    {
     "name": "stdout",
     "output_type": "stream",
     "text": [
      "6.209765810326779\n",
      "100\n",
      "[0.3, 0.7, 0.7, 0.4]\n",
      "tf.Tensor([[1.7939225e-05 7.5397454e-04 8.6618163e-02 9.1260999e-01]], shape=(1, 4), dtype=float32)\n",
      "[0.7, 0.7, 0.7, 0.4]\n",
      "tf.Tensor([[1.8692655e-05 1.2395654e-03 1.3063991e-01 8.6810178e-01]], shape=(1, 4), dtype=float32)"
     ]
    },
    {
     "name": "stderr",
     "output_type": "stream",
     "text": [
      "\r",
      " 91%|███████████████████████████████████████████████████████████████████       | 27201/30000 [6:17:24<26:36,  1.75it/s]"
     ]
    },
    {
     "name": "stdout",
     "output_type": "stream",
     "text": [
      "\n",
      "[0.7, 0.3, 0.7, 0.4]\n",
      "tf.Tensor([[3.6349002e-04 5.4038975e-02 8.9645410e-01 4.9143437e-02]], shape=(1, 4), dtype=float32)\n",
      "[0.7, 0.6, 0.7, 0.4]\n",
      "tf.Tensor([[9.9181765e-01 8.1663160e-03 1.3023594e-05 3.0914634e-06]], shape=(1, 4), dtype=float32)\n",
      "[0.7, 0.5, 0.7, 0.4]\n",
      "tf.Tensor([[9.9157012e-01 8.4138419e-03 1.3064150e-05 3.0294332e-06]], shape=(1, 4), dtype=float32)\n"
     ]
    },
    {
     "name": "stderr",
     "output_type": "stream",
     "text": [
      " 91%|███████████████████████████████████████████████████████████████████▎      | 27301/30000 [6:18:17<24:16,  1.85it/s]"
     ]
    },
    {
     "name": "stdout",
     "output_type": "stream",
     "text": [
      "6.029247536904218\n",
      "100\n"
     ]
    },
    {
     "name": "stderr",
     "output_type": "stream",
     "text": [
      " 91%|███████████████████████████████████████████████████████████████████▌      | 27401/30000 [6:19:10<22:14,  1.95it/s]"
     ]
    },
    {
     "name": "stdout",
     "output_type": "stream",
     "text": [
      "6.128020653026876\n",
      "100\n",
      "[0.1, 0.0, 0.6, 0.2]\n",
      "tf.Tensor([[1.4977502e-05 5.5586110e-04 5.4803953e-02 9.4462520e-01]], shape=(1, 4), dtype=float32)\n",
      "[0.5, 0.0, 0.6, 0.2]\n",
      "tf.Tensor([[1.32397445e-05 7.34621251e-04 6.92760348e-02 9.29976046e-01]], shape=(1, 4), dtype=float32)\n",
      "[0.5, 0.4, 0.6, 0.2]\n",
      "tf.Tensor([[1.1244536e-04 1.5484000e-02 6.9734740e-01 2.8705624e-01]], shape=(1, 4), dtype=float32)\n",
      "[0.5, 0.1, 0.6, 0.2]\n",
      "tf.Tensor([[9.8824626e-01 1.1727116e-02 2.2246199e-05 4.3949094e-06]], shape=(1, 4), dtype=float32)\n",
      "[0.5, 0.2, 0.6, 0.2]\n",
      "tf.Tensor([[9.8957497e-01 1.0399020e-02 2.1312722e-05 4.7463814e-06]], shape=(1, 4), dtype=float32)\n"
     ]
    },
    {
     "name": "stderr",
     "output_type": "stream",
     "text": [
      " 92%|███████████████████████████████████████████████████████████████████▊      | 27501/30000 [6:19:56<26:31,  1.57it/s]"
     ]
    },
    {
     "name": "stdout",
     "output_type": "stream",
     "text": [
      "6.350195908483831\n",
      "100\n"
     ]
    },
    {
     "name": "stderr",
     "output_type": "stream",
     "text": [
      " 92%|████████████████████████████████████████████████████████████████████      | 27600/30000 [6:20:50<18:22,  2.18it/s]"
     ]
    },
    {
     "name": "stdout",
     "output_type": "stream",
     "text": [
      "6.05598263842379\n",
      "100\n",
      "[0.5, 0.4, 0.6, 0.2]\n",
      "tf.Tensor([[1.2870014e-05 5.9463992e-04 6.3704185e-02 9.3568838e-01]], shape=(1, 4), dtype=float32)\n",
      "[0.5, 0.0, 0.6, 0.2]\n",
      "tf.Tensor([[1.3790953e-05 9.8877994e-04 9.3600988e-02 9.0539646e-01]], shape=(1, 4), dtype=float32)\n",
      "[0.5, 0.4, 0.6, 0.2]\n",
      "tf.Tensor([[1.9403016e-04 3.6836956e-02 8.8712257e-01 7.5846434e-02]], shape=(1, 4), dtype=float32)\n",
      "[0.5, 0.1, 0.6, 0.2]\n",
      "tf.Tensor([[9.8876613e-01 1.1209964e-02 1.9979594e-05 3.9924221e-06]], shape=(1, 4), dtype=float32)"
     ]
    },
    {
     "name": "stderr",
     "output_type": "stream",
     "text": [
      "\r",
      " 92%|████████████████████████████████████████████████████████████████████      | 27601/30000 [6:20:52<42:57,  1.07s/it]"
     ]
    },
    {
     "name": "stdout",
     "output_type": "stream",
     "text": [
      "\n",
      "[0.5, 0.2, 0.6, 0.2]\n",
      "tf.Tensor([[9.8638225e-01 1.3580941e-02 3.0928564e-05 5.9225667e-06]], shape=(1, 4), dtype=float32)\n"
     ]
    },
    {
     "name": "stderr",
     "output_type": "stream",
     "text": [
      " 92%|████████████████████████████████████████████████████████████████████▎     | 27701/30000 [6:21:47<19:04,  2.01it/s]"
     ]
    },
    {
     "name": "stdout",
     "output_type": "stream",
     "text": [
      "6.575961300926141\n",
      "100\n"
     ]
    },
    {
     "name": "stderr",
     "output_type": "stream",
     "text": [
      " 93%|████████████████████████████████████████████████████████████████████▌     | 27800/30000 [6:22:59<17:59,  2.04it/s]"
     ]
    },
    {
     "name": "stdout",
     "output_type": "stream",
     "text": [
      "6.153139250393188\n",
      "100\n",
      "[0.4, 0.1, 0.6, 0.2]\n",
      "tf.Tensor([[1.5265461e-05 5.7274121e-04 5.2451883e-02 9.4696009e-01]], shape=(1, 4), dtype=float32)\n",
      "[0.8, 0.1, 0.6, 0.2]\n",
      "tf.Tensor([[1.9531057e-05 9.8611740e-04 8.2442008e-02 9.1655236e-01]], shape=(1, 4), dtype=float32)\n",
      "[0.4, 0.1, 0.6, 0.2]\n",
      "tf.Tensor([[4.0875954e-04 3.9200298e-02 8.7182051e-01 8.8570461e-02]], shape=(1, 4), dtype=float32)"
     ]
    },
    {
     "name": "stderr",
     "output_type": "stream",
     "text": [
      "\r",
      " 93%|████████████████████████████████████████████████████████████████████▌     | 27801/30000 [6:23:00<20:38,  1.78it/s]"
     ]
    },
    {
     "name": "stdout",
     "output_type": "stream",
     "text": [
      "\n",
      "[0.7, 0.1, 0.6, 0.2]\n",
      "tf.Tensor([[9.8609644e-01 1.3859900e-02 3.7247250e-05 6.4230030e-06]], shape=(1, 4), dtype=float32)\n",
      "[0.6, 0.1, 0.6, 0.2]\n",
      "tf.Tensor([[9.8770148e-01 1.2266344e-02 2.7563043e-05 4.5888569e-06]], shape=(1, 4), dtype=float32)\n"
     ]
    },
    {
     "name": "stderr",
     "output_type": "stream",
     "text": [
      " 93%|████████████████████████████████████████████████████████████████████▊     | 27901/30000 [6:23:56<22:01,  1.59it/s]"
     ]
    },
    {
     "name": "stdout",
     "output_type": "stream",
     "text": [
      "6.096372352315927\n",
      "100\n"
     ]
    },
    {
     "name": "stderr",
     "output_type": "stream",
     "text": [
      " 93%|█████████████████████████████████████████████████████████████████████     | 28000/30000 [6:24:54<20:40,  1.61it/s]"
     ]
    },
    {
     "name": "stdout",
     "output_type": "stream",
     "text": [
      "5.930250565167072\n",
      "100\n",
      "[0.3, 0.3, 0.7, 0.1]\n",
      "tf.Tensor([[1.1377528e-05 4.2001740e-04 3.7688404e-02 9.6188015e-01]], shape=(1, 4), dtype=float32)\n",
      "[0.7, 0.3, 0.7, 0.1]\n",
      "tf.Tensor([[1.21388475e-05 7.01115292e-04 5.91776855e-02 9.40109134e-01]], shape=(1, 4), dtype=float32)"
     ]
    },
    {
     "name": "stderr",
     "output_type": "stream",
     "text": [
      "\r",
      " 93%|█████████████████████████████████████████████████████████████████████     | 28001/30000 [6:24:55<23:47,  1.40it/s]"
     ]
    },
    {
     "name": "stdout",
     "output_type": "stream",
     "text": [
      "\n",
      "[0.7, 0.0, 0.7, 0.1]\n",
      "tf.Tensor([[6.075022e-04 8.219015e-02 8.805817e-01 3.662062e-02]], shape=(1, 4), dtype=float32)\n",
      "[0.7, 0.3, 0.7, 0.1]\n",
      "tf.Tensor([[9.86973524e-01 1.29949935e-02 2.76000992e-05 3.81869359e-06]], shape=(1, 4), dtype=float32)\n",
      "[0.7, 0.2, 0.7, 0.1]\n",
      "tf.Tensor([[9.8729521e-01 1.2675542e-02 2.5701296e-05 3.5603839e-06]], shape=(1, 4), dtype=float32)\n"
     ]
    },
    {
     "name": "stderr",
     "output_type": "stream",
     "text": [
      " 94%|█████████████████████████████████████████████████████████████████████▎    | 28101/30000 [6:25:44<19:54,  1.59it/s]"
     ]
    },
    {
     "name": "stdout",
     "output_type": "stream",
     "text": [
      "6.372243930151893\n",
      "100\n"
     ]
    },
    {
     "name": "stderr",
     "output_type": "stream",
     "text": [
      " 94%|█████████████████████████████████████████████████████████████████████▌    | 28200/30000 [6:26:37<13:10,  2.28it/s]"
     ]
    },
    {
     "name": "stdout",
     "output_type": "stream",
     "text": [
      "6.392070802644826\n",
      "100\n",
      "[0.9, 0.9, 0.6, 0.2]\n",
      "tf.Tensor([[6.2693202e-06 2.6851383e-04 2.9577885e-02 9.7014737e-01]], shape=(1, 4), dtype=float32)\n",
      "[0.9, 0.5, 0.6, 0.2]\n",
      "tf.Tensor([[9.156011e-06 6.331303e-04 6.211277e-02 9.372449e-01]], shape=(1, 4), dtype=float32)\n",
      "[0.9, 0.1, 0.6, 0.2]\n",
      "tf.Tensor([[0.00116865 0.14356136 0.836641   0.01862897]], shape=(1, 4), dtype=float32)\n",
      "[0.6, 0.1, 0.6, 0.2]\n",
      "tf.Tensor([[9.8823136e-01 1.1733036e-02 3.1793752e-05 3.8046132e-06]], shape=(1, 4), dtype=float32)"
     ]
    },
    {
     "name": "stderr",
     "output_type": "stream",
     "text": [
      "\r",
      " 94%|█████████████████████████████████████████████████████████████████████▌    | 28201/30000 [6:26:38<15:19,  1.96it/s]"
     ]
    },
    {
     "name": "stdout",
     "output_type": "stream",
     "text": [
      "\n"
     ]
    },
    {
     "name": "stderr",
     "output_type": "stream",
     "text": [
      " 94%|█████████████████████████████████████████████████████████████████████▊    | 28301/30000 [6:27:32<12:03,  2.35it/s]"
     ]
    },
    {
     "name": "stdout",
     "output_type": "stream",
     "text": [
      "6.742739467670254\n",
      "100\n"
     ]
    },
    {
     "name": "stderr",
     "output_type": "stream",
     "text": [
      " 95%|██████████████████████████████████████████████████████████████████████    | 28400/30000 [6:28:24<15:53,  1.68it/s]"
     ]
    },
    {
     "name": "stdout",
     "output_type": "stream",
     "text": [
      "6.047670580388564\n",
      "100\n",
      "[0.3, 0.1, 0.6, 0.2]\n",
      "tf.Tensor([[7.6986189e-06 2.5175113e-04 2.5495736e-02 9.7424477e-01]], shape=(1, 4), dtype=float32)\n",
      "[0.7, 0.1, 0.6, 0.2]\n",
      "tf.Tensor([[9.5976839e-06 3.6481980e-04 3.3993524e-02 9.6563208e-01]], shape=(1, 4), dtype=float32)\n",
      "[0.3, 0.1, 0.6, 0.2]\n"
     ]
    },
    {
     "name": "stderr",
     "output_type": "stream",
     "text": [
      "\r",
      " 95%|██████████████████████████████████████████████████████████████████████    | 28401/30000 [6:28:25<17:59,  1.48it/s]"
     ]
    },
    {
     "name": "stdout",
     "output_type": "stream",
     "text": [
      "tf.Tensor([[1.6731407e-04 1.6350489e-02 7.6741046e-01 2.1607174e-01]], shape=(1, 4), dtype=float32)\n",
      "[0.6, 0.1, 0.6, 0.2]\n",
      "tf.Tensor([[9.8737073e-01 1.2579278e-02 4.4707278e-05 5.2814135e-06]], shape=(1, 4), dtype=float32)\n"
     ]
    },
    {
     "name": "stderr",
     "output_type": "stream",
     "text": [
      " 95%|██████████████████████████████████████████████████████████████████████▎   | 28501/30000 [6:29:13<13:02,  1.92it/s]"
     ]
    },
    {
     "name": "stdout",
     "output_type": "stream",
     "text": [
      "6.187240262615629\n",
      "100\n"
     ]
    },
    {
     "name": "stderr",
     "output_type": "stream",
     "text": [
      " 95%|██████████████████████████████████████████████████████████████████████▌   | 28600/30000 [6:29:55<11:04,  2.11it/s]"
     ]
    },
    {
     "name": "stdout",
     "output_type": "stream",
     "text": [
      "5.949191822264241\n",
      "100\n",
      "[0.3, 0.4, 0.1, 0.1]\n",
      "tf.Tensor([[7.3760643e-06 3.1138037e-04 3.2106694e-02 9.6757454e-01]], shape=(1, 4), dtype=float32)\n",
      "[0.3, 0.0, 0.1, 0.1]\n",
      "tf.Tensor([[1.4070331e-05 7.7305053e-04 6.9954261e-02 9.2925858e-01]], shape=(1, 4), dtype=float32)\n",
      "[0.0, 0.0, 0.1, 0.1]\n",
      "tf.Tensor([[2.0834155e-04 3.1965666e-02 9.2432326e-01 4.3502688e-02]], shape=(1, 4), dtype=float32)\n",
      "[0.0, 0.3, 0.1, 0.1]\n",
      "tf.Tensor([[9.8700863e-01 1.2945142e-02 4.2439977e-05 3.8268172e-06]], shape=(1, 4), dtype=float32)\n",
      "[0.0, 0.2, 0.1, 0.1]\n",
      "tf.Tensor([[9.8476285e-01 1.5179076e-02 5.3581996e-05 4.3987561e-06]], shape=(1, 4), dtype=float32)"
     ]
    },
    {
     "name": "stderr",
     "output_type": "stream",
     "text": [
      "\r",
      " 95%|██████████████████████████████████████████████████████████████████████▌   | 28601/30000 [6:29:56<11:53,  1.96it/s]"
     ]
    },
    {
     "name": "stdout",
     "output_type": "stream",
     "text": [
      "\n",
      "[0.0, 0.1, 0.1, 0.1]\n",
      "tf.Tensor([[9.8377937e-01 1.6154032e-02 6.1416729e-05 5.2460091e-06]], shape=(1, 4), dtype=float32)\n"
     ]
    },
    {
     "name": "stderr",
     "output_type": "stream",
     "text": [
      " 96%|██████████████████████████████████████████████████████████████████████▊   | 28701/30000 [6:30:38<09:57,  2.17it/s]"
     ]
    },
    {
     "name": "stdout",
     "output_type": "stream",
     "text": [
      "6.281579520936456\n",
      "100\n"
     ]
    },
    {
     "name": "stderr",
     "output_type": "stream",
     "text": [
      " 96%|███████████████████████████████████████████████████████████████████████   | 28800/30000 [6:31:19<08:49,  2.27it/s]"
     ]
    },
    {
     "name": "stdout",
     "output_type": "stream",
     "text": [
      "6.259703631242203\n",
      "100\n",
      "[0.2, 0.3, 0.2, 0.9]\n",
      "tf.Tensor([[6.1689148e-06 2.5956787e-04 2.9144686e-02 9.7058952e-01]], shape=(1, 4), dtype=float32)\n",
      "[0.2, 0.7, 0.2, 0.9]\n",
      "tf.Tensor([[8.8046982e-06 5.2706018e-04 5.8835853e-02 9.4062823e-01]], shape=(1, 4), dtype=float32)\n",
      "[0.2, 1.0, 0.2, 0.9]\n",
      "tf.Tensor([[1.6080764e-04 3.2050200e-02 9.4417351e-01 2.3615478e-02]], shape=(1, 4), dtype=float32)\n",
      "[0.2, 0.7, 0.2, 0.9]\n",
      "tf.Tensor([[9.9047124e-01 9.4905300e-03 3.4973327e-05 3.3233609e-06]], shape=(1, 4), dtype=float32)\n",
      "[0.2, 0.8, 0.2, 0.9]\n",
      "tf.Tensor([[9.9137247e-01 8.5943574e-03 3.0186829e-05 3.0458323e-06]], shape=(1, 4), dtype=float32)"
     ]
    },
    {
     "name": "stderr",
     "output_type": "stream",
     "text": [
      "\r",
      " 96%|███████████████████████████████████████████████████████████████████████   | 28801/30000 [6:31:20<10:57,  1.82it/s]"
     ]
    },
    {
     "name": "stdout",
     "output_type": "stream",
     "text": [
      "\n"
     ]
    },
    {
     "name": "stderr",
     "output_type": "stream",
     "text": [
      " 96%|███████████████████████████████████████████████████████████████████████▎  | 28901/30000 [6:32:02<07:35,  2.41it/s]"
     ]
    },
    {
     "name": "stdout",
     "output_type": "stream",
     "text": [
      "6.5022122440875885\n",
      "100\n"
     ]
    },
    {
     "name": "stderr",
     "output_type": "stream",
     "text": [
      " 97%|███████████████████████████████████████████████████████████████████████▌  | 29000/30000 [6:32:48<08:40,  1.92it/s]"
     ]
    },
    {
     "name": "stdout",
     "output_type": "stream",
     "text": [
      "6.201442150541365\n",
      "100\n",
      "[0.2, 0.8, 0.7, 0.4]\n",
      "tf.Tensor([[6.8876680e-06 2.3385242e-04 2.4172319e-02 9.7558695e-01]], shape=(1, 4), dtype=float32)\n",
      "[0.6, 0.8, 0.7, 0.4]\n",
      "tf.Tensor([[8.4635340e-06 4.1625279e-04 4.1673265e-02 9.5790207e-01]], shape=(1, 4), dtype=float32)\n",
      "[0.6, 0.4, 0.7, 0.4]\n",
      "tf.Tensor([[0.0011703  0.09197945 0.8872391  0.01961116]], shape=(1, 4), dtype=float32)\n",
      "[0.9, 0.4, 0.7, 0.4]\n",
      "tf.Tensor([[9.9283916e-01 7.1300440e-03 2.7369264e-05 3.3490744e-06]], shape=(1, 4), dtype=float32)\n"
     ]
    },
    {
     "name": "stderr",
     "output_type": "stream",
     "text": [
      "\r",
      " 97%|███████████████████████████████████████████████████████████████████████▌  | 29001/30000 [6:32:48<09:15,  1.80it/s]"
     ]
    },
    {
     "name": "stdout",
     "output_type": "stream",
     "text": [
      "[0.8, 0.4, 0.7, 0.4]\n",
      "tf.Tensor([[9.9215925e-01 7.8060501e-03 3.1035441e-05 3.6871654e-06]], shape=(1, 4), dtype=float32)\n"
     ]
    },
    {
     "name": "stderr",
     "output_type": "stream",
     "text": [
      " 97%|███████████████████████████████████████████████████████████████████████▊  | 29101/30000 [6:33:35<07:55,  1.89it/s]"
     ]
    },
    {
     "name": "stdout",
     "output_type": "stream",
     "text": [
      "6.4597644741922675\n",
      "100\n"
     ]
    },
    {
     "name": "stderr",
     "output_type": "stream",
     "text": [
      " 97%|████████████████████████████████████████████████████████████████████████  | 29200/30000 [6:34:25<07:18,  1.83it/s]"
     ]
    },
    {
     "name": "stdout",
     "output_type": "stream",
     "text": [
      "6.009969749417045\n",
      "100\n",
      "[0.4, 0.9, 0.6, 0.2]\n",
      "tf.Tensor([[5.6243957e-06 1.8852272e-04 1.9778624e-02 9.8002726e-01]], shape=(1, 4), dtype=float32)\n",
      "[0.4, 0.5, 0.6, 0.2]\n",
      "tf.Tensor([[8.2307852e-06 3.9666463e-04 3.8568191e-02 9.6102691e-01]], shape=(1, 4), dtype=float32)\n",
      "[0.4, 0.1, 0.6, 0.2]\n",
      "tf.Tensor([[7.3560659e-04 6.4571165e-02 9.1435969e-01 2.0333525e-02]], shape=(1, 4), dtype=float32)\n",
      "[0.7, 0.1, 0.6, 0.2]"
     ]
    },
    {
     "name": "stderr",
     "output_type": "stream",
     "text": [
      "\r",
      " 97%|████████████████████████████████████████████████████████████████████████  | 29201/30000 [6:34:26<08:02,  1.66it/s]"
     ]
    },
    {
     "name": "stdout",
     "output_type": "stream",
     "text": [
      "\n",
      "tf.Tensor([[9.9426597e-01 5.7061077e-03 2.5009180e-05 2.9238427e-06]], shape=(1, 4), dtype=float32)\n",
      "[0.6, 0.1, 0.6, 0.2]\n",
      "tf.Tensor([[9.9482793e-01 5.1496821e-03 2.0176083e-05 2.1909964e-06]], shape=(1, 4), dtype=float32)\n"
     ]
    },
    {
     "name": "stderr",
     "output_type": "stream",
     "text": [
      " 98%|████████████████████████████████████████████████████████████████████████▎ | 29301/30000 [6:35:19<07:17,  1.60it/s]"
     ]
    },
    {
     "name": "stdout",
     "output_type": "stream",
     "text": [
      "6.159158049564932\n",
      "100\n"
     ]
    },
    {
     "name": "stderr",
     "output_type": "stream",
     "text": [
      " 98%|████████████████████████████████████████████████████████████████████████▌ | 29400/30000 [6:36:10<05:16,  1.89it/s]"
     ]
    },
    {
     "name": "stdout",
     "output_type": "stream",
     "text": [
      "6.578192274285254\n",
      "100\n",
      "[0.1, 0.0, 0.5, 0.7]\n",
      "tf.Tensor([[5.7462803e-06 1.8811246e-04 2.0654671e-02 9.7915149e-01]], shape=(1, 4), dtype=float32)\n",
      "[0.1, 0.4, 0.5, 0.7]\n",
      "tf.Tensor([[9.3021072e-06 2.9270188e-04 3.1505466e-02 9.6819246e-01]], shape=(1, 4), dtype=float32)"
     ]
    },
    {
     "name": "stderr",
     "output_type": "stream",
     "text": [
      "\r",
      " 98%|████████████████████████████████████████████████████████████████████████▌ | 29401/30000 [6:36:11<06:24,  1.56it/s]"
     ]
    },
    {
     "name": "stdout",
     "output_type": "stream",
     "text": [
      "\n",
      "[0.5, 0.4, 0.5, 0.7]\n",
      "tf.Tensor([[1.6340998e-04 1.8511508e-02 9.1661388e-01 6.4711221e-02]], shape=(1, 4), dtype=float32)\n"
     ]
    },
    {
     "name": "stderr",
     "output_type": "stream",
     "text": [
      " 98%|████████████████████████████████████████████████████████████████████████▊ | 29501/30000 [6:37:05<04:58,  1.67it/s]"
     ]
    },
    {
     "name": "stdout",
     "output_type": "stream",
     "text": [
      "6.146215383450216\n",
      "100\n"
     ]
    },
    {
     "name": "stderr",
     "output_type": "stream",
     "text": [
      " 99%|█████████████████████████████████████████████████████████████████████████ | 29600/30000 [6:37:57<03:42,  1.80it/s]"
     ]
    },
    {
     "name": "stdout",
     "output_type": "stream",
     "text": [
      "6.400304752798758\n",
      "100\n",
      "[0.4, 0.7, 0.7, 0.4]\n",
      "tf.Tensor([[6.5312302e-06 1.8091312e-04 2.9048270e-02 9.7076428e-01]], shape=(1, 4), dtype=float32)"
     ]
    },
    {
     "name": "stderr",
     "output_type": "stream",
     "text": [
      "\r",
      " 99%|█████████████████████████████████████████████████████████████████████████ | 29601/30000 [6:37:58<04:15,  1.56it/s]"
     ]
    },
    {
     "name": "stdout",
     "output_type": "stream",
     "text": [
      "\n",
      "[0.8, 0.7, 0.7, 0.4]\n",
      "tf.Tensor([[1.0191473e-05 5.2272133e-04 8.4321655e-02 9.1514540e-01]], shape=(1, 4), dtype=float32)\n",
      "[0.8, 0.3, 0.7, 0.4]\n",
      "tf.Tensor([[0.00180773 0.09076887 0.9013331  0.00609038]], shape=(1, 4), dtype=float32)\n",
      "[0.5, 0.3, 0.7, 0.4]\n",
      "tf.Tensor([[9.9659842e-01 3.3777438e-03 2.2030505e-05 1.8834768e-06]], shape=(1, 4), dtype=float32)\n",
      "[0.6, 0.3, 0.7, 0.4]\n",
      "tf.Tensor([[9.9677926e-01 3.2012202e-03 1.7994435e-05 1.4370040e-06]], shape=(1, 4), dtype=float32)\n",
      "[0.6, 0.4, 0.7, 0.4]\n",
      "tf.Tensor([[9.9657756e-01 3.3978703e-03 2.2684982e-05 1.9217518e-06]], shape=(1, 4), dtype=float32)\n"
     ]
    },
    {
     "name": "stderr",
     "output_type": "stream",
     "text": [
      " 99%|█████████████████████████████████████████████████████████████████████████▎| 29701/30000 [6:38:47<02:31,  1.97it/s]"
     ]
    },
    {
     "name": "stdout",
     "output_type": "stream",
     "text": [
      "6.178966099502066\n",
      "100\n"
     ]
    },
    {
     "name": "stderr",
     "output_type": "stream",
     "text": [
      " 99%|█████████████████████████████████████████████████████████████████████████▌| 29801/30000 [6:39:30<01:32,  2.16it/s]"
     ]
    },
    {
     "name": "stdout",
     "output_type": "stream",
     "text": [
      "6.561775849084646\n",
      "100\n",
      "[0.3, 0.6, 0.5, 0.7]\n",
      "tf.Tensor([[5.8231303e-06 1.6148953e-04 1.8599851e-02 9.8123288e-01]], shape=(1, 4), dtype=float32)\n",
      "[0.7, 0.6, 0.5, 0.7]\n",
      "tf.Tensor([[9.5609457e-06 4.1189845e-04 4.6363909e-02 9.5321465e-01]], shape=(1, 4), dtype=float32)\n",
      "[0.3, 0.6, 0.5, 0.7]\n",
      "tf.Tensor([[0.00796681 0.2057799  0.77790153 0.00835171]], shape=(1, 4), dtype=float32)\n",
      "[0.6, 0.6, 0.5, 0.7]\n",
      "tf.Tensor([[9.9603206e-01 3.9505945e-03 1.5820140e-05 1.5174222e-06]], shape=(1, 4), dtype=float32)\n",
      "[0.5, 0.6, 0.5, 0.7]\n",
      "tf.Tensor([[9.9638808e-01 3.5965657e-03 1.3958197e-05 1.3445087e-06]], shape=(1, 4), dtype=float32)\n"
     ]
    },
    {
     "name": "stderr",
     "output_type": "stream",
     "text": [
      "100%|█████████████████████████████████████████████████████████████████████████▊| 29901/30000 [6:40:14<00:45,  2.18it/s]"
     ]
    },
    {
     "name": "stdout",
     "output_type": "stream",
     "text": [
      "6.130616422849786\n",
      "100\n"
     ]
    },
    {
     "name": "stderr",
     "output_type": "stream",
     "text": [
      "100%|██████████████████████████████████████████████████████████████████████████| 30000/30000 [6:40:55<00:00,  1.25it/s]\n"
     ]
    }
   ],
   "source": [
    "agent.learn()"
   ]
  },
  {
   "cell_type": "code",
   "execution_count": 6,
   "metadata": {},
   "outputs": [
    {
     "name": "stdout",
     "output_type": "stream",
     "text": [
      "[0.9, 0.5, 0.2, 0.9]\n",
      "tf.Tensor([[4.8741913e-06 1.4729533e-04 1.6397215e-02 9.8345065e-01]], shape=(1, 4), dtype=float32)\n",
      "[0.5, 0.5, 0.2, 0.9]\n",
      "tf.Tensor([[7.0273422e-06 3.4951279e-04 3.8448174e-02 9.6119517e-01]], shape=(1, 4), dtype=float32)\n",
      "[0.5, 0.9, 0.2, 0.9]\n",
      "tf.Tensor([[0.00399614 0.1898915  0.7990075  0.00710481]], shape=(1, 4), dtype=float32)\n"
     ]
    }
   ],
   "source": [
    "agent.trial()"
   ]
  },
  {
   "cell_type": "code",
   "execution_count": null,
   "metadata": {},
   "outputs": [],
   "source": []
  }
 ],
 "metadata": {
  "kernelspec": {
   "display_name": "tfgpu",
   "language": "python",
   "name": "tfgpu"
  },
  "language_info": {
   "codemirror_mode": {
    "name": "ipython",
    "version": 3
   },
   "file_extension": ".py",
   "mimetype": "text/x-python",
   "name": "python",
   "nbconvert_exporter": "python",
   "pygments_lexer": "ipython3",
   "version": "3.7.8"
  }
 },
 "nbformat": 4,
 "nbformat_minor": 4
}
