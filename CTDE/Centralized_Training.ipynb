{
 "cells": [
  {
   "cell_type": "code",
   "execution_count": 1,
   "metadata": {},
   "outputs": [],
   "source": [
    "import os\n",
    "from copy import deepcopy\n",
    "\n",
    "from tqdm import tqdm\n",
    "import numpy as np\n",
    "import tensorflow as tf\n",
    "from tensorflow import keras\n",
    "import matplotlib.pyplot as plt\n",
    "\n",
    "from Environment import Environment, make_one_hot, give_mapping\n",
    "from Networks import UserActor, AsstActor, CentralizedCritic"
   ]
  },
  {
   "cell_type": "code",
   "execution_count": 2,
   "metadata": {},
   "outputs": [],
   "source": [
    "def give_prev_steps(prev_steps_assist, steps):\n",
    "    prev_steps_assist = [[0,0,0,0,-1,-1] for i in range(steps-1)]\n",
    "    return prev_steps_assist"
   ]
  },
  {
   "cell_type": "code",
   "execution_count": 3,
   "metadata": {},
   "outputs": [],
   "source": [
    "class Agent:\n",
    "    def __init__(self):\n",
    "        self.user_actor = UserActor()\n",
    "        self.asst_actor = AsstActor()\n",
    "        self.critic = CentralizedCritic()\n",
    "        self.optimizer_actors = tf.keras.optimizers.Adam(lr = 0.0001)\n",
    "        self.optimizer_critic = tf.keras.optimizers.Adam(lr = 0.0002)\n",
    "        self.huber_loss = tf.keras.losses.Huber()\n",
    "        self.memory_len = 4\n",
    "        \n",
    "        self.gamma = 0.90\n",
    "        self.env = Environment()\n",
    "        self.env.cells = np.array([[0.7, 0.1], [0.1, 0.1], [0.5, 0.7], [0.6, 0.2], [0.7, 0.4], [0.2, 0.9]])\n",
    "        self.env_cell_mapping = give_mapping(self.env.cells)\n",
    "        self.env_cell_mapping = self.env_cell_mapping[np.newaxis, :, :, np.newaxis]\n",
    "        self.eps = 10e-6\n",
    "    \n",
    "    def learn(self):\n",
    "        env = self.env\n",
    "        max_steps = 50\n",
    "        running_reward = 0\n",
    "        reached = 0\n",
    "        best = 0\n",
    "        \n",
    "        for epoch in tqdm(range(100000)):\n",
    "#             input_As = [] #Input of user agent\n",
    "#             input_Bs = [] #Input of assitant agent/output of user agent\n",
    "#             input_Cs = [] #Icon layout\n",
    "#             input_Ds = [] #Output of assitant agent\n",
    "            \n",
    "            user_action_probs_history = []\n",
    "            asst_action_probs_history = []\n",
    "            critic_value_history = []\n",
    "            rewards_history = []\n",
    "            returns = [] #Returns\n",
    "            \n",
    "            done = False\n",
    "            episode_reward = 0\n",
    "            start, dest = env.give_start_dest()\n",
    "            ob_user = [start[0], start[1], dest[0], dest[1]]\n",
    "            prev_steps_assist = []\n",
    "            prev_steps_assist = give_prev_steps(prev_steps_assist, self.memory_len)\n",
    "            step = 0\n",
    "            episode_reward = 0\n",
    "            \n",
    "            with tf.GradientTape(persistent = True) as tape:\n",
    "                while not done and step<max_steps:\n",
    "                    curr_loc = ob_user[:2]\n",
    "                    target_loc = ob_user[2:4]\n",
    "                    step+=1\n",
    "                    ob_user = np.array(ob_user)[np.newaxis]\n",
    "                    user_probs = self.user_actor.model(ob_user)\n",
    "                    user_action = np.random.choice(4, p=np.squeeze(user_probs))\n",
    "                    user_action_probs_history.append(tf.math.log(user_probs[0, user_action]))\n",
    "\n",
    "                    action_user_one_hot = make_one_hot(user_action, 4)\n",
    "\n",
    "                    ob_assist = [action_user_one_hot + curr_loc] \n",
    "                    ob_assist = prev_steps_assist + ob_assist\n",
    "                    ob_assist = np.array(ob_assist)[np.newaxis]\n",
    "                    \n",
    "                    asst_probs = self.asst_actor.model([ob_assist, self.env_cell_mapping])\n",
    "                    asst_action = np.random.choice(4, p=np.squeeze(asst_probs))\n",
    "                    asst_action_probs_history.append(tf.math.log(asst_probs[0, asst_action]))\n",
    "                    \n",
    "                    asst_output_one_hot = np.array(make_one_hot(asst_action, 4))[np.newaxis]\n",
    "                    \n",
    "                    critic_value = self.critic.model([ob_user, ob_assist, self.env_cell_mapping, asst_output_one_hot])\n",
    "                    critic_value_history.append(critic_value)\n",
    "                    \n",
    "                    new_loc, reward_user, reward_assist, done = self.env.step(user_action, asst_action + 1, target_loc, curr_loc)\n",
    "                    \n",
    "                    next_ob_user = new_loc[:]\n",
    "                    next_ob_user = next_ob_user + target_loc\n",
    "\n",
    "                    ob_user = next_ob_user\n",
    "                    prev_steps_assist = np.squeeze(ob_assist).tolist()[1:]\n",
    "                    \n",
    "                    rewards_history.append(reward_user)\n",
    "                    episode_reward+=reward_user\n",
    "                    \n",
    "                    if done:\n",
    "                        reached += 1\n",
    "\n",
    "                running_reward = 0.05 * episode_reward + (1 - 0.05) * running_reward\n",
    "\n",
    "                discounted_sum = 0\n",
    "                for r in rewards_history[::-1]:\n",
    "                    discounted_sum = r + self.gamma * discounted_sum\n",
    "                    returns.append(discounted_sum)\n",
    "                returns.reverse()\n",
    "                \n",
    "#                 returns = np.array(returns)\n",
    "#                 returns = (returns - np.mean(returns)) / (np.std(returns) + self.eps)\n",
    "#                 returns = returns.tolist()\n",
    "                \n",
    "                critic_losses = []\n",
    "                user_losses = []\n",
    "                asst_losses = []\n",
    "                \n",
    "                for log_prob_user, log_prob_asst, val, ret in zip(user_action_probs_history, asst_action_probs_history, critic_value_history,\\\n",
    "                                                                 returns):\n",
    "                    diff = ret - val\n",
    "                    user_losses.append(-log_prob_user*diff)\n",
    "                    asst_losses.append(-log_prob_asst*diff)\n",
    "                    critic_losses.append(self.huber_loss(tf.expand_dims(val, 0), tf.expand_dims(ret, 0)))\n",
    "\n",
    "                user_loss = sum(user_losses)\n",
    "                asst_loss = sum(asst_losses)\n",
    "                critic_loss = sum(critic_losses)\n",
    "\n",
    "            grads = tape.gradient(user_loss, self.user_actor.model.trainable_variables)\n",
    "            self.optimizer_actors.apply_gradients(zip(grads, self.user_actor.model.trainable_variables))\n",
    "\n",
    "            grads = tape.gradient(asst_loss, self.asst_actor.model.trainable_variables)\n",
    "            self.optimizer_actors.apply_gradients(zip(grads, self.asst_actor.model.trainable_variables))\n",
    "\n",
    "            grads = tape.gradient(critic_loss, self.critic.model.trainable_variables)\n",
    "            self.optimizer_critic.apply_gradients(zip(grads, self.critic.model.trainable_variables))\n",
    "            \n",
    "            if epoch%100 == 0:\n",
    "                print(running_reward)\n",
    "            \n",
    "            if epoch and epoch%100 == 0:\n",
    "                print(reached)\n",
    "                if reached>=best:\n",
    "                    best = reached\n",
    "                    tf.keras.models.save_model(self.user_actor.model, 'user.h5')\n",
    "                    tf.keras.models.save_model(self.asst_actor.model, 'asst.h5')\n",
    "                    tf.keras.models.save_model(self.critic.model, 'critic.h5')\n",
    "                reached = 0\n",
    "                \n",
    "                if epoch%200:\n",
    "                    self.trial()\n",
    "                \n",
    "                \n",
    "    def trial(self):\n",
    "        env = self.env\n",
    "        max_steps = 40\n",
    "        done = False\n",
    "        episode_reward = 0\n",
    "        start, dest = env.give_start_dest()\n",
    "        ob_user = [start[0], start[1], dest[0], dest[1]]\n",
    "        prev_steps_assist = []\n",
    "        prev_steps_assist = give_prev_steps(prev_steps_assist, self.memory_len)\n",
    "        step = 0\n",
    "        episode_reward = 0\n",
    "\n",
    "        while not done and step<max_steps:\n",
    "            curr_loc = ob_user[:2]\n",
    "            target_loc = ob_user[2:4]\n",
    "            step+=1\n",
    "            print(ob_user)\n",
    "\n",
    "            ob_user = np.array(ob_user)[np.newaxis]\n",
    "            user_probs = self.user_actor.model(ob_user)\n",
    "            user_action = np.argmax(np.squeeze(user_probs))\n",
    "\n",
    "            action_user_one_hot = make_one_hot(user_action, 4)\n",
    "\n",
    "            ob_assist = [action_user_one_hot + curr_loc] \n",
    "            ob_assist = prev_steps_assist + ob_assist\n",
    "            ob_assist = np.array(ob_assist)[np.newaxis]\n",
    "\n",
    "            asst_probs = self.asst_actor.model([ob_assist, self.env_cell_mapping])\n",
    "            print(asst_probs)\n",
    "            asst_action = np.argmax(np.squeeze(asst_probs)) \n",
    "            new_loc, reward_user, reward_assist, done = self.env.step(user_action, asst_action + 1, target_loc, curr_loc)\n",
    "\n",
    "            next_ob_user = new_loc[:]\n",
    "            next_ob_user = next_ob_user + target_loc\n",
    "\n",
    "            ob_user = next_ob_user\n",
    "            prev_steps_assist = np.squeeze(ob_assist).tolist()[1:]\n",
    "            episode_reward+=reward_user\n",
    "\n",
    "\n"
   ]
  },
  {
   "cell_type": "code",
   "execution_count": 4,
   "metadata": {
    "scrolled": false
   },
   "outputs": [
    {
     "name": "stdout",
     "output_type": "stream",
     "text": [
      "Model: \"functional_1\"\n",
      "__________________________________________________________________________________________________\n",
      "Layer (type)                    Output Shape         Param #     Connected to                     \n",
      "==================================================================================================\n",
      "input_1 (InputLayer)            [(None, 4)]          0                                            \n",
      "__________________________________________________________________________________________________\n",
      "tf_op_layer_strided_slice (Tens [(None, 2)]          0           input_1[0][0]                    \n",
      "__________________________________________________________________________________________________\n",
      "tf_op_layer_strided_slice_1 (Te [(None, 2)]          0           input_1[0][0]                    \n",
      "__________________________________________________________________________________________________\n",
      "subtract (Subtract)             (None, 2)            0           tf_op_layer_strided_slice[0][0]  \n",
      "                                                                 tf_op_layer_strided_slice_1[0][0]\n",
      "__________________________________________________________________________________________________\n",
      "dense (Dense)                   (None, 32)           96          subtract[0][0]                   \n",
      "__________________________________________________________________________________________________\n",
      "dense_1 (Dense)                 (None, 64)           2112        dense[0][0]                      \n",
      "__________________________________________________________________________________________________\n",
      "dense_2 (Dense)                 (None, 4)            260         dense_1[0][0]                    \n",
      "==================================================================================================\n",
      "Total params: 2,468\n",
      "Trainable params: 2,468\n",
      "Non-trainable params: 0\n",
      "__________________________________________________________________________________________________\n",
      "Model: \"functional_3\"\n",
      "__________________________________________________________________________________________________\n",
      "Layer (type)                    Output Shape         Param #     Connected to                     \n",
      "==================================================================================================\n",
      "input_3 (InputLayer)            [(None, 11, 11, 1)]  0                                            \n",
      "__________________________________________________________________________________________________\n",
      "conv2d (Conv2D)                 (None, 9, 9, 2)      20          input_3[0][0]                    \n",
      "__________________________________________________________________________________________________\n",
      "input_2 (InputLayer)            [(None, 4, 6)]       0                                            \n",
      "__________________________________________________________________________________________________\n",
      "max_pooling2d (MaxPooling2D)    (None, 4, 4, 2)      0           conv2d[0][0]                     \n",
      "__________________________________________________________________________________________________\n",
      "dense_3 (Dense)                 (None, 4, 32)        224         input_2[0][0]                    \n",
      "__________________________________________________________________________________________________\n",
      "flatten (Flatten)               (None, 32)           0           max_pooling2d[0][0]              \n",
      "__________________________________________________________________________________________________\n",
      "lstm (LSTM)                     (None, 32)           8320        dense_3[0][0]                    \n",
      "__________________________________________________________________________________________________\n",
      "dense_4 (Dense)                 (None, 32)           1056        flatten[0][0]                    \n",
      "__________________________________________________________________________________________________\n",
      "concatenate (Concatenate)       (None, 64)           0           lstm[0][0]                       \n",
      "                                                                 dense_4[0][0]                    \n",
      "__________________________________________________________________________________________________\n",
      "dense_5 (Dense)                 (None, 32)           2080        concatenate[0][0]                \n",
      "__________________________________________________________________________________________________\n",
      "dense_6 (Dense)                 (None, 4)            132         dense_5[0][0]                    \n",
      "==================================================================================================\n",
      "Total params: 11,832\n",
      "Trainable params: 11,832\n",
      "Non-trainable params: 0\n",
      "__________________________________________________________________________________________________\n",
      "Model: \"functional_5\"\n",
      "__________________________________________________________________________________________________\n",
      "Layer (type)                    Output Shape         Param #     Connected to                     \n",
      "==================================================================================================\n",
      "input_4 (InputLayer)            [(None, 4)]          0                                            \n",
      "__________________________________________________________________________________________________\n",
      "tf_op_layer_strided_slice_2 (Te [(None, 2)]          0           input_4[0][0]                    \n",
      "__________________________________________________________________________________________________\n",
      "tf_op_layer_strided_slice_3 (Te [(None, 2)]          0           input_4[0][0]                    \n",
      "__________________________________________________________________________________________________\n",
      "input_6 (InputLayer)            [(None, 11, 11, 1)]  0                                            \n",
      "__________________________________________________________________________________________________\n",
      "subtract_1 (Subtract)           (None, 2)            0           tf_op_layer_strided_slice_2[0][0]\n",
      "                                                                 tf_op_layer_strided_slice_3[0][0]\n",
      "__________________________________________________________________________________________________\n",
      "conv2d_1 (Conv2D)               (None, 9, 9, 2)      20          input_6[0][0]                    \n",
      "__________________________________________________________________________________________________\n",
      "dense_7 (Dense)                 (None, 32)           96          subtract_1[0][0]                 \n",
      "__________________________________________________________________________________________________\n",
      "input_5 (InputLayer)            [(None, 4, 6)]       0                                            \n",
      "__________________________________________________________________________________________________\n",
      "max_pooling2d_1 (MaxPooling2D)  (None, 4, 4, 2)      0           conv2d_1[0][0]                   \n",
      "__________________________________________________________________________________________________\n",
      "dense_8 (Dense)                 (None, 64)           2112        dense_7[0][0]                    \n",
      "__________________________________________________________________________________________________\n",
      "dense_10 (Dense)                (None, 4, 32)        224         input_5[0][0]                    \n",
      "__________________________________________________________________________________________________\n",
      "flatten_1 (Flatten)             (None, 32)           0           max_pooling2d_1[0][0]            \n",
      "__________________________________________________________________________________________________\n",
      "input_7 (InputLayer)            [(None, 4)]          0                                            \n",
      "__________________________________________________________________________________________________\n",
      "dense_9 (Dense)                 (None, 4)            260         dense_8[0][0]                    \n",
      "__________________________________________________________________________________________________\n",
      "lstm_1 (LSTM)                   (None, 32)           8320        dense_10[0][0]                   \n",
      "__________________________________________________________________________________________________\n",
      "dense_11 (Dense)                (None, 32)           1056        flatten_1[0][0]                  \n",
      "__________________________________________________________________________________________________\n",
      "dense_12 (Dense)                (None, 32)           160         input_7[0][0]                    \n",
      "__________________________________________________________________________________________________\n",
      "concatenate_1 (Concatenate)     (None, 100)          0           dense_9[0][0]                    \n",
      "                                                                 lstm_1[0][0]                     \n",
      "                                                                 dense_11[0][0]                   \n",
      "                                                                 dense_12[0][0]                   \n",
      "__________________________________________________________________________________________________\n",
      "dense_13 (Dense)                (None, 32)           3232        concatenate_1[0][0]              \n",
      "__________________________________________________________________________________________________\n",
      "dense_14 (Dense)                (None, 1)            33          dense_13[0][0]                   \n",
      "==================================================================================================\n",
      "Total params: 15,513\n",
      "Trainable params: 15,513\n",
      "Non-trainable params: 0\n",
      "__________________________________________________________________________________________________\n",
      "Icon Locations:\n",
      "[[0.4 0.1]\n",
      " [0.1 0.9]\n",
      " [0.8 0.4]\n",
      " [0.2 0.4]\n",
      " [0.9 0.7]\n",
      " [0.9 0.8]]\n",
      "Icon usage Probabilities\n",
      "[0.16666667 0.16666667 0.16666667 0.16666667 0.16666667 0.16666667]\n"
     ]
    }
   ],
   "source": [
    "agent = Agent()"
   ]
  },
  {
   "cell_type": "code",
   "execution_count": 5,
   "metadata": {
    "scrolled": true
   },
   "outputs": [
    {
     "name": "stderr",
     "output_type": "stream",
     "text": [
      "  0%|                                                                            | 1/100000 [00:03<87:22:49,  3.15s/it]"
     ]
    },
    {
     "name": "stdout",
     "output_type": "stream",
     "text": [
      "-0.75\n"
     ]
    },
    {
     "name": "stderr",
     "output_type": "stream",
     "text": [
      "  0%|                                                                          | 100/100000 [04:12<79:44:32,  2.87s/it]"
     ]
    },
    {
     "name": "stdout",
     "output_type": "stream",
     "text": [
      "-46.65408750724117\n",
      "20\n",
      "[0.6, 0.2, 0.5, 0.7]\n",
      "tf.Tensor([[0.26629087 0.24951543 0.23303398 0.25115973]], shape=(1, 4), dtype=float32)\n",
      "[0.6, 0.1, 0.5, 0.7]\n",
      "tf.Tensor([[0.25087932 0.26009727 0.23454188 0.2544815 ]], shape=(1, 4), dtype=float32)\n",
      "[0.6, 0.0, 0.5, 0.7]\n",
      "tf.Tensor([[0.23959439 0.26975098 0.23352346 0.2571312 ]], shape=(1, 4), dtype=float32)\n",
      "[0.6, 0.0, 0.5, 0.7]\n",
      "tf.Tensor([[0.2331702  0.27269793 0.23253459 0.26159728]], shape=(1, 4), dtype=float32)\n",
      "[0.6, 0.0, 0.5, 0.7]\n",
      "tf.Tensor([[0.23341382 0.2726923  0.23237285 0.26152107]], shape=(1, 4), dtype=float32)\n",
      "[0.6, 0.0, 0.5, 0.7]\n",
      "tf.Tensor([[0.233458   0.27270854 0.23234154 0.26149192]], shape=(1, 4), dtype=float32)\n",
      "[0.6, 0.0, 0.5, 0.7]\n",
      "tf.Tensor([[0.233458   0.27270854 0.23234154 0.26149192]], shape=(1, 4), dtype=float32)\n",
      "[0.6, 0.0, 0.5, 0.7]\n",
      "tf.Tensor([[0.233458   0.27270854 0.23234154 0.26149192]], shape=(1, 4), dtype=float32)\n",
      "[0.6, 0.0, 0.5, 0.7]\n",
      "tf.Tensor([[0.233458   0.27270854 0.23234154 0.26149192]], shape=(1, 4), dtype=float32)\n",
      "[0.6, 0.0, 0.5, 0.7]\n",
      "tf.Tensor([[0.233458   0.27270854 0.23234154 0.26149192]], shape=(1, 4), dtype=float32)\n",
      "[0.6, 0.0, 0.5, 0.7]\n",
      "tf.Tensor([[0.233458   0.27270854 0.23234154 0.26149192]], shape=(1, 4), dtype=float32)\n",
      "[0.6, 0.0, 0.5, 0.7]\n",
      "tf.Tensor([[0.233458   0.27270854 0.23234154 0.26149192]], shape=(1, 4), dtype=float32)\n",
      "[0.6, 0.0, 0.5, 0.7]\n",
      "tf.Tensor([[0.233458   0.27270854 0.23234154 0.26149192]], shape=(1, 4), dtype=float32)\n",
      "[0.6, 0.0, 0.5, 0.7]\n",
      "tf.Tensor([[0.233458   0.27270854 0.23234154 0.26149192]], shape=(1, 4), dtype=float32)\n",
      "[0.6, 0.0, 0.5, 0.7]\n",
      "tf.Tensor([[0.233458   0.27270854 0.23234154 0.26149192]], shape=(1, 4), dtype=float32)\n",
      "[0.6, 0.0, 0.5, 0.7]\n",
      "tf.Tensor([[0.233458   0.27270854 0.23234154 0.26149192]], shape=(1, 4), dtype=float32)\n",
      "[0.6, 0.0, 0.5, 0.7]\n",
      "tf.Tensor([[0.233458   0.27270854 0.23234154 0.26149192]], shape=(1, 4), dtype=float32)\n",
      "[0.6, 0.0, 0.5, 0.7]\n",
      "tf.Tensor([[0.233458   0.27270854 0.23234154 0.26149192]], shape=(1, 4), dtype=float32)\n",
      "[0.6, 0.0, 0.5, 0.7]\n",
      "tf.Tensor([[0.233458   0.27270854 0.23234154 0.26149192]], shape=(1, 4), dtype=float32)\n",
      "[0.6, 0.0, 0.5, 0.7]\n",
      "tf.Tensor([[0.233458   0.27270854 0.23234154 0.26149192]], shape=(1, 4), dtype=float32)\n",
      "[0.6, 0.0, 0.5, 0.7]\n",
      "tf.Tensor([[0.233458   0.27270854 0.23234154 0.26149192]], shape=(1, 4), dtype=float32)\n",
      "[0.6, 0.0, 0.5, 0.7]\n",
      "tf.Tensor([[0.233458   0.27270854 0.23234154 0.26149192]], shape=(1, 4), dtype=float32)\n",
      "[0.6, 0.0, 0.5, 0.7]\n",
      "tf.Tensor([[0.233458   0.27270854 0.23234154 0.26149192]], shape=(1, 4), dtype=float32)\n",
      "[0.6, 0.0, 0.5, 0.7]\n"
     ]
    },
    {
     "name": "stderr",
     "output_type": "stream",
     "text": [
      "\r",
      "  0%|                                                                          | 101/100000 [04:16<84:12:45,  3.03s/it]"
     ]
    },
    {
     "name": "stdout",
     "output_type": "stream",
     "text": [
      "tf.Tensor([[0.233458   0.27270854 0.23234154 0.26149192]], shape=(1, 4), dtype=float32)\n",
      "[0.6, 0.0, 0.5, 0.7]\n",
      "tf.Tensor([[0.233458   0.27270854 0.23234154 0.26149192]], shape=(1, 4), dtype=float32)\n",
      "[0.6, 0.0, 0.5, 0.7]\n",
      "tf.Tensor([[0.233458   0.27270854 0.23234154 0.26149192]], shape=(1, 4), dtype=float32)\n",
      "[0.6, 0.0, 0.5, 0.7]\n",
      "tf.Tensor([[0.233458   0.27270854 0.23234154 0.26149192]], shape=(1, 4), dtype=float32)\n",
      "[0.6, 0.0, 0.5, 0.7]\n",
      "tf.Tensor([[0.233458   0.27270854 0.23234154 0.26149192]], shape=(1, 4), dtype=float32)\n",
      "[0.6, 0.0, 0.5, 0.7]\n",
      "tf.Tensor([[0.233458   0.27270854 0.23234154 0.26149192]], shape=(1, 4), dtype=float32)\n",
      "[0.6, 0.0, 0.5, 0.7]\n",
      "tf.Tensor([[0.233458   0.27270854 0.23234154 0.26149192]], shape=(1, 4), dtype=float32)\n",
      "[0.6, 0.0, 0.5, 0.7]\n",
      "tf.Tensor([[0.233458   0.27270854 0.23234154 0.26149192]], shape=(1, 4), dtype=float32)\n",
      "[0.6, 0.0, 0.5, 0.7]\n",
      "tf.Tensor([[0.233458   0.27270854 0.23234154 0.26149192]], shape=(1, 4), dtype=float32)\n",
      "[0.6, 0.0, 0.5, 0.7]\n",
      "tf.Tensor([[0.233458   0.27270854 0.23234154 0.26149192]], shape=(1, 4), dtype=float32)\n",
      "[0.6, 0.0, 0.5, 0.7]\n",
      "tf.Tensor([[0.233458   0.27270854 0.23234154 0.26149192]], shape=(1, 4), dtype=float32)\n",
      "[0.6, 0.0, 0.5, 0.7]\n",
      "tf.Tensor([[0.233458   0.27270854 0.23234154 0.26149192]], shape=(1, 4), dtype=float32)\n",
      "[0.6, 0.0, 0.5, 0.7]\n",
      "tf.Tensor([[0.233458   0.27270854 0.23234154 0.26149192]], shape=(1, 4), dtype=float32)\n",
      "[0.6, 0.0, 0.5, 0.7]\n",
      "tf.Tensor([[0.233458   0.27270854 0.23234154 0.26149192]], shape=(1, 4), dtype=float32)\n",
      "[0.6, 0.0, 0.5, 0.7]\n",
      "tf.Tensor([[0.233458   0.27270854 0.23234154 0.26149192]], shape=(1, 4), dtype=float32)\n",
      "[0.6, 0.0, 0.5, 0.7]\n",
      "tf.Tensor([[0.233458   0.27270854 0.23234154 0.26149192]], shape=(1, 4), dtype=float32)\n",
      "[0.6, 0.0, 0.5, 0.7]\n",
      "tf.Tensor([[0.233458   0.27270854 0.23234154 0.26149192]], shape=(1, 4), dtype=float32)\n"
     ]
    },
    {
     "name": "stderr",
     "output_type": "stream",
     "text": [
      "  0%|▏                                                                         | 201/100000 [08:34<79:22:56,  2.86s/it]"
     ]
    },
    {
     "name": "stdout",
     "output_type": "stream",
     "text": [
      "-42.61514315240175\n",
      "17\n"
     ]
    },
    {
     "name": "stderr",
     "output_type": "stream",
     "text": [
      "  0%|▏                                                                         | 300/100000 [12:38<78:04:19,  2.82s/it]"
     ]
    },
    {
     "name": "stdout",
     "output_type": "stream",
     "text": [
      "-45.81495818914944\n",
      "24\n",
      "[0.5, 0.9, 0.1, 0.1]\n",
      "tf.Tensor([[0.3129612  0.23121719 0.21164976 0.2441718 ]], shape=(1, 4), dtype=float32)\n",
      "[0.5, 0.8, 0.1, 0.1]\n",
      "tf.Tensor([[0.29421988 0.2445315  0.21250725 0.24874142]], shape=(1, 4), dtype=float32)\n",
      "[0.5, 0.7, 0.1, 0.1]\n",
      "tf.Tensor([[0.28045377 0.254188   0.21369913 0.25165913]], shape=(1, 4), dtype=float32)\n",
      "[0.5, 0.6, 0.1, 0.1]\n",
      "tf.Tensor([[0.27116412 0.26070613 0.21452896 0.25360078]], shape=(1, 4), dtype=float32)\n",
      "[0.5, 0.5, 0.1, 0.1]\n",
      "tf.Tensor([[0.26996288 0.26179242 0.2152304  0.2530143 ]], shape=(1, 4), dtype=float32)\n",
      "[0.5, 0.4, 0.1, 0.1]\n",
      "tf.Tensor([[0.26939714 0.26214713 0.21557865 0.25287706]], shape=(1, 4), dtype=float32)\n",
      "[0.5, 0.3, 0.1, 0.1]\n",
      "tf.Tensor([[0.26923823 0.26250613 0.21573718 0.25251848]], shape=(1, 4), dtype=float32)\n",
      "[0.5, 0.2, 0.1, 0.1]\n",
      "tf.Tensor([[0.26968557 0.26262838 0.21555494 0.25213107]], shape=(1, 4), dtype=float32)\n",
      "[0.5, 0.1, 0.1, 0.1]\n",
      "tf.Tensor([[0.27034864 0.2627891  0.21528524 0.251577  ]], shape=(1, 4), dtype=float32)\n",
      "[0.5, 0.0, 0.1, 0.1]\n",
      "tf.Tensor([[0.27165025 0.2625559  0.21492203 0.25087187]], shape=(1, 4), dtype=float32)\n",
      "[0.5, 0.0, 0.1, 0.1]\n",
      "tf.Tensor([[0.27255017 0.26235923 0.2146777  0.25041285]], shape=(1, 4), dtype=float32)\n",
      "[0.5, 0.0, 0.1, 0.1]\n",
      "tf.Tensor([[0.27311116 0.26220056 0.21453212 0.25015616]], shape=(1, 4), dtype=float32)\n",
      "[0.5, 0.0, 0.1, 0.1]\n",
      "tf.Tensor([[0.27343547 0.2620709  0.21443875 0.2500549 ]], shape=(1, 4), dtype=float32)\n",
      "[0.5, 0.0, 0.1, 0.1]\n",
      "tf.Tensor([[0.27343547 0.2620709  0.21443875 0.2500549 ]], shape=(1, 4), dtype=float32)\n",
      "[0.5, 0.0, 0.1, 0.1]\n",
      "tf.Tensor([[0.27343547 0.2620709  0.21443875 0.2500549 ]], shape=(1, 4), dtype=float32)\n",
      "[0.5, 0.0, 0.1, 0.1]\n",
      "tf.Tensor([[0.27343547 0.2620709  0.21443875 0.2500549 ]], shape=(1, 4), dtype=float32)\n",
      "[0.5, 0.0, 0.1, 0.1]\n",
      "tf.Tensor([[0.27343547 0.2620709  0.21443875 0.2500549 ]], shape=(1, 4), dtype=float32)\n",
      "[0.5, 0.0, 0.1, 0.1]\n",
      "tf.Tensor([[0.27343547 0.2620709  0.21443875 0.2500549 ]], shape=(1, 4), dtype=float32)\n",
      "[0.5, 0.0, 0.1, 0.1]\n",
      "tf.Tensor([[0.27343547 0.2620709  0.21443875 0.2500549 ]], shape=(1, 4), dtype=float32)\n",
      "[0.5, 0.0, 0.1, 0.1]\n",
      "tf.Tensor([[0.27343547 0.2620709  0.21443875 0.2500549 ]], shape=(1, 4), dtype=float32)\n",
      "[0.5, 0.0, 0.1, 0.1]\n",
      "tf.Tensor([[0.27343547 0.2620709  0.21443875 0.2500549 ]], shape=(1, 4), dtype=float32)\n",
      "[0.5, 0.0, 0.1, 0.1]\n",
      "tf.Tensor([[0.27343547 0.2620709  0.21443875 0.2500549 ]], shape=(1, 4), dtype=float32)\n",
      "[0.5, 0.0, 0.1, 0.1]\n",
      "tf.Tensor([[0.27343547 0.2620709  0.21443875 0.2500549 ]], shape=(1, 4), dtype=float32)\n",
      "[0.5, 0.0, 0.1, 0.1]\n",
      "tf.Tensor([[0.27343547 0.2620709  0.21443875 0.2500549 ]], shape=(1, 4), dtype=float32)\n",
      "[0.5, 0.0, 0.1, 0.1]\n",
      "tf.Tensor([[0.27343547 0.2620709  0.21443875 0.2500549 ]], shape=(1, 4), dtype=float32)\n",
      "[0.5, 0.0, 0.1, 0.1]\n",
      "tf.Tensor([[0.27343547 0.2620709  0.21443875 0.2500549 ]], shape=(1, 4), dtype=float32)\n",
      "[0.5, 0.0, 0.1, 0.1]\n",
      "tf.Tensor([[0.27343547 0.2620709  0.21443875 0.2500549 ]], shape=(1, 4), dtype=float32)\n",
      "[0.5, 0.0, 0.1, 0.1]\n",
      "tf.Tensor([[0.27343547 0.2620709  0.21443875 0.2500549 ]], shape=(1, 4), dtype=float32)\n",
      "[0.5, 0.0, 0.1, 0.1]\n",
      "tf.Tensor([[0.27343547 0.2620709  0.21443875 0.2500549 ]], shape=(1, 4), dtype=float32)\n",
      "[0.5, 0.0, 0.1, 0.1]\n",
      "tf.Tensor([[0.27343547 0.2620709  0.21443875 0.2500549 ]], shape=(1, 4), dtype=float32)\n",
      "[0.5, 0.0, 0.1, 0.1]\n",
      "tf.Tensor([[0.27343547 0.2620709  0.21443875 0.2500549 ]], shape=(1, 4), dtype=float32)\n",
      "[0.5, 0.0, 0.1, 0.1]\n",
      "tf.Tensor([[0.27343547 0.2620709  0.21443875 0.2500549 ]], shape=(1, 4), dtype=float32)\n",
      "[0.5, 0.0, 0.1, 0.1]\n",
      "tf.Tensor([[0.27343547 0.2620709  0.21443875 0.2500549 ]], shape=(1, 4), dtype=float32)"
     ]
    },
    {
     "name": "stderr",
     "output_type": "stream",
     "text": [
      "\r",
      "  0%|▏                                                                         | 301/100000 [12:42<88:48:29,  3.21s/it]"
     ]
    },
    {
     "name": "stdout",
     "output_type": "stream",
     "text": [
      "\n",
      "[0.5, 0.0, 0.1, 0.1]\n",
      "tf.Tensor([[0.27343547 0.2620709  0.21443875 0.2500549 ]], shape=(1, 4), dtype=float32)\n",
      "[0.5, 0.0, 0.1, 0.1]\n",
      "tf.Tensor([[0.27343547 0.2620709  0.21443875 0.2500549 ]], shape=(1, 4), dtype=float32)\n",
      "[0.5, 0.0, 0.1, 0.1]\n",
      "tf.Tensor([[0.27343547 0.2620709  0.21443875 0.2500549 ]], shape=(1, 4), dtype=float32)\n",
      "[0.5, 0.0, 0.1, 0.1]\n",
      "tf.Tensor([[0.27343547 0.2620709  0.21443875 0.2500549 ]], shape=(1, 4), dtype=float32)\n",
      "[0.5, 0.0, 0.1, 0.1]\n",
      "tf.Tensor([[0.27343547 0.2620709  0.21443875 0.2500549 ]], shape=(1, 4), dtype=float32)\n",
      "[0.5, 0.0, 0.1, 0.1]\n",
      "tf.Tensor([[0.27343547 0.2620709  0.21443875 0.2500549 ]], shape=(1, 4), dtype=float32)\n",
      "[0.5, 0.0, 0.1, 0.1]\n",
      "tf.Tensor([[0.27343547 0.2620709  0.21443875 0.2500549 ]], shape=(1, 4), dtype=float32)\n"
     ]
    },
    {
     "name": "stderr",
     "output_type": "stream",
     "text": [
      "  0%|▎                                                                         | 400/100000 [16:49<72:24:23,  2.62s/it]"
     ]
    },
    {
     "name": "stdout",
     "output_type": "stream",
     "text": [
      "-40.87033406014721\n",
      "26\n"
     ]
    },
    {
     "name": "stderr",
     "output_type": "stream",
     "text": [
      "  0%|▎                                                                         | 500/100000 [20:45<67:11:57,  2.43s/it]"
     ]
    },
    {
     "name": "stdout",
     "output_type": "stream",
     "text": [
      "-41.77016117209553\n",
      "20\n",
      "[0.8, 0.2, 0.6, 0.2]\n",
      "tf.Tensor([[0.39878103 0.2055645  0.15845704 0.23719746]], shape=(1, 4), dtype=float32)\n",
      "[0.8, 0.1, 0.6, 0.2]\n",
      "tf.Tensor([[0.40426603 0.20934469 0.1535088  0.23288047]], shape=(1, 4), dtype=float32)\n",
      "[0.8, 0.2, 0.6, 0.2]\n",
      "tf.Tensor([[0.38950038 0.22099078 0.1546405  0.23486832]], shape=(1, 4), dtype=float32)\n",
      "[0.8, 0.1, 0.6, 0.2]\n",
      "tf.Tensor([[0.39659315 0.22091796 0.15117703 0.23131193]], shape=(1, 4), dtype=float32)\n",
      "[0.8, 0.2, 0.6, 0.2]\n",
      "tf.Tensor([[0.39056727 0.22412395 0.1519565  0.23335227]], shape=(1, 4), dtype=float32)\n",
      "[0.8, 0.1, 0.6, 0.2]\n",
      "tf.Tensor([[0.39659315 0.22091796 0.15117703 0.23131193]], shape=(1, 4), dtype=float32)\n",
      "[0.8, 0.2, 0.6, 0.2]\n",
      "tf.Tensor([[0.39056727 0.22412395 0.1519565  0.23335227]], shape=(1, 4), dtype=float32)\n",
      "[0.8, 0.1, 0.6, 0.2]\n",
      "tf.Tensor([[0.39659315 0.22091796 0.15117703 0.23131193]], shape=(1, 4), dtype=float32)\n",
      "[0.8, 0.2, 0.6, 0.2]\n",
      "tf.Tensor([[0.39056727 0.22412395 0.1519565  0.23335227]], shape=(1, 4), dtype=float32)\n",
      "[0.8, 0.1, 0.6, 0.2]\n",
      "tf.Tensor([[0.39659315 0.22091796 0.15117703 0.23131193]], shape=(1, 4), dtype=float32)\n",
      "[0.8, 0.2, 0.6, 0.2]\n",
      "tf.Tensor([[0.39056727 0.22412395 0.1519565  0.23335227]], shape=(1, 4), dtype=float32)\n",
      "[0.8, 0.1, 0.6, 0.2]\n",
      "tf.Tensor([[0.39659315 0.22091796 0.15117703 0.23131193]], shape=(1, 4), dtype=float32)\n",
      "[0.8, 0.2, 0.6, 0.2]\n",
      "tf.Tensor([[0.39056727 0.22412395 0.1519565  0.23335227]], shape=(1, 4), dtype=float32)\n",
      "[0.8, 0.1, 0.6, 0.2]\n",
      "tf.Tensor([[0.39659315 0.22091796 0.15117703 0.23131193]], shape=(1, 4), dtype=float32)\n",
      "[0.8, 0.2, 0.6, 0.2]\n",
      "tf.Tensor([[0.39056727 0.22412395 0.1519565  0.23335227]], shape=(1, 4), dtype=float32)\n",
      "[0.8, 0.1, 0.6, 0.2]\n",
      "tf.Tensor([[0.39659315 0.22091796 0.15117703 0.23131193]], shape=(1, 4), dtype=float32)\n",
      "[0.8, 0.2, 0.6, 0.2]\n",
      "tf.Tensor([[0.39056727 0.22412395 0.1519565  0.23335227]], shape=(1, 4), dtype=float32)\n",
      "[0.8, 0.1, 0.6, 0.2]\n",
      "tf.Tensor([[0.39659315 0.22091796 0.15117703 0.23131193]], shape=(1, 4), dtype=float32)\n",
      "[0.8, 0.2, 0.6, 0.2]\n",
      "tf.Tensor([[0.39056727 0.22412395 0.1519565  0.23335227]], shape=(1, 4), dtype=float32)\n",
      "[0.8, 0.1, 0.6, 0.2]\n",
      "tf.Tensor([[0.39659315 0.22091796 0.15117703 0.23131193]], shape=(1, 4), dtype=float32)\n",
      "[0.8, 0.2, 0.6, 0.2]\n",
      "tf.Tensor([[0.39056727 0.22412395 0.1519565  0.23335227]], shape=(1, 4), dtype=float32)\n",
      "[0.8, 0.1, 0.6, 0.2]\n",
      "tf.Tensor([[0.39659315 0.22091796 0.15117703 0.23131193]], shape=(1, 4), dtype=float32)\n",
      "[0.8, 0.2, 0.6, 0.2]\n",
      "tf.Tensor([[0.39056727 0.22412395 0.1519565  0.23335227]], shape=(1, 4), dtype=float32)\n",
      "[0.8, 0.1, 0.6, 0.2]\n",
      "tf.Tensor([[0.39659315 0.22091796 0.15117703 0.23131193]], shape=(1, 4), dtype=float32)\n",
      "[0.8, 0.2, 0.6, 0.2]\n",
      "tf.Tensor([[0.39056727 0.22412395 0.1519565  0.23335227]], shape=(1, 4), dtype=float32)\n",
      "[0.8, 0.1, 0.6, 0.2]\n",
      "tf.Tensor([[0.39659315 0.22091796 0.15117703 0.23131193]], shape=(1, 4), dtype=float32)\n",
      "[0.8, 0.2, 0.6, 0.2]\n",
      "tf.Tensor([[0.39056727 0.22412395 0.1519565  0.23335227]], shape=(1, 4), dtype=float32)\n",
      "[0.8, 0.1, 0.6, 0.2]\n",
      "tf.Tensor([[0.39659315 0.22091796 0.15117703 0.23131193]], shape=(1, 4), dtype=float32)\n",
      "[0.8, 0.2, 0.6, 0.2]\n",
      "tf.Tensor([[0.39056727 0.22412395 0.1519565  0.23335227]], shape=(1, 4), dtype=float32)\n",
      "[0.8, 0.1, 0.6, 0.2]\n",
      "tf.Tensor([[0.39659315 0.22091796 0.15117703 0.23131193]], shape=(1, 4), dtype=float32)\n",
      "[0.8, 0.2, 0.6, 0.2]\n",
      "tf.Tensor([[0.39056727 0.22412395 0.1519565  0.23335227]], shape=(1, 4), dtype=float32)\n",
      "[0.8, 0.1, 0.6, 0.2]\n",
      "tf.Tensor([[0.39659315 0.22091796 0.15117703 0.23131193]], shape=(1, 4), dtype=float32)\n",
      "[0.8, 0.2, 0.6, 0.2]\n",
      "tf.Tensor([[0.39056727 0.22412395 0.1519565  0.23335227]], shape=(1, 4), dtype=float32)\n",
      "[0.8, 0.1, 0.6, 0.2]\n",
      "tf.Tensor([[0.39659315 0.22091796 0.15117703 0.23131193]], shape=(1, 4), dtype=float32)\n",
      "[0.8, 0.2, 0.6, 0.2]\n"
     ]
    },
    {
     "name": "stderr",
     "output_type": "stream",
     "text": [
      "\r",
      "  1%|▎                                                                         | 501/100000 [20:48<72:50:50,  2.64s/it]"
     ]
    },
    {
     "name": "stdout",
     "output_type": "stream",
     "text": [
      "tf.Tensor([[0.39056727 0.22412395 0.1519565  0.23335227]], shape=(1, 4), dtype=float32)\n",
      "[0.8, 0.1, 0.6, 0.2]\n",
      "tf.Tensor([[0.39659315 0.22091796 0.15117703 0.23131193]], shape=(1, 4), dtype=float32)\n",
      "[0.8, 0.2, 0.6, 0.2]\n",
      "tf.Tensor([[0.39056727 0.22412395 0.1519565  0.23335227]], shape=(1, 4), dtype=float32)\n",
      "[0.8, 0.1, 0.6, 0.2]\n",
      "tf.Tensor([[0.39659315 0.22091796 0.15117703 0.23131193]], shape=(1, 4), dtype=float32)\n",
      "[0.8, 0.2, 0.6, 0.2]\n",
      "tf.Tensor([[0.39056727 0.22412395 0.1519565  0.23335227]], shape=(1, 4), dtype=float32)\n",
      "[0.8, 0.1, 0.6, 0.2]\n",
      "tf.Tensor([[0.39659315 0.22091796 0.15117703 0.23131193]], shape=(1, 4), dtype=float32)\n"
     ]
    },
    {
     "name": "stderr",
     "output_type": "stream",
     "text": [
      "  1%|▍                                                                         | 601/100000 [24:37<56:06:20,  2.03s/it]"
     ]
    },
    {
     "name": "stdout",
     "output_type": "stream",
     "text": [
      "-36.504833661954976\n",
      "40\n"
     ]
    },
    {
     "name": "stderr",
     "output_type": "stream",
     "text": [
      "  1%|▌                                                                         | 700/100000 [28:40<69:55:07,  2.53s/it]"
     ]
    },
    {
     "name": "stdout",
     "output_type": "stream",
     "text": [
      "-44.05922344161017\n",
      "18\n",
      "[0.0, 0.6, 0.2, 0.9]\n",
      "tf.Tensor([[0.46766073 0.18157747 0.1227352  0.22802658]], shape=(1, 4), dtype=float32)\n",
      "[0.0, 0.5, 0.2, 0.9]\n",
      "tf.Tensor([[0.45974785 0.18715347 0.12343294 0.22966576]], shape=(1, 4), dtype=float32)\n",
      "[0.0, 0.4, 0.2, 0.9]\n",
      "tf.Tensor([[0.44911242 0.19434611 0.12429352 0.23224787]], shape=(1, 4), dtype=float32)\n",
      "[0.0, 0.3, 0.2, 0.9]\n",
      "tf.Tensor([[0.45557407 0.19128905 0.12389965 0.22923723]], shape=(1, 4), dtype=float32)\n",
      "[0.0, 0.4, 0.2, 0.9]\n",
      "tf.Tensor([[0.45346734 0.19356346 0.12286907 0.23010013]], shape=(1, 4), dtype=float32)\n",
      "[0.0, 0.3, 0.2, 0.9]\n",
      "tf.Tensor([[0.4644786  0.18712722 0.12172963 0.2266645 ]], shape=(1, 4), dtype=float32)\n",
      "[0.0, 0.4, 0.2, 0.9]\n",
      "tf.Tensor([[0.46178058 0.18948    0.12064416 0.22809522]], shape=(1, 4), dtype=float32)\n",
      "[0.0, 0.3, 0.2, 0.9]\n",
      "tf.Tensor([[0.4644786  0.18712722 0.12172963 0.2266645 ]], shape=(1, 4), dtype=float32)\n",
      "[0.0, 0.4, 0.2, 0.9]\n",
      "tf.Tensor([[0.46178058 0.18948    0.12064416 0.22809522]], shape=(1, 4), dtype=float32)\n",
      "[0.0, 0.3, 0.2, 0.9]\n",
      "tf.Tensor([[0.4644786  0.18712722 0.12172963 0.2266645 ]], shape=(1, 4), dtype=float32)\n",
      "[0.0, 0.4, 0.2, 0.9]\n",
      "tf.Tensor([[0.46178058 0.18948    0.12064416 0.22809522]], shape=(1, 4), dtype=float32)\n",
      "[0.0, 0.3, 0.2, 0.9]\n",
      "tf.Tensor([[0.4644786  0.18712722 0.12172963 0.2266645 ]], shape=(1, 4), dtype=float32)\n",
      "[0.0, 0.4, 0.2, 0.9]\n",
      "tf.Tensor([[0.46178058 0.18948    0.12064416 0.22809522]], shape=(1, 4), dtype=float32)\n",
      "[0.0, 0.3, 0.2, 0.9]\n",
      "tf.Tensor([[0.4644786  0.18712722 0.12172963 0.2266645 ]], shape=(1, 4), dtype=float32)\n",
      "[0.0, 0.4, 0.2, 0.9]\n",
      "tf.Tensor([[0.46178058 0.18948    0.12064416 0.22809522]], shape=(1, 4), dtype=float32)\n",
      "[0.0, 0.3, 0.2, 0.9]\n",
      "tf.Tensor([[0.4644786  0.18712722 0.12172963 0.2266645 ]], shape=(1, 4), dtype=float32)\n",
      "[0.0, 0.4, 0.2, 0.9]\n",
      "tf.Tensor([[0.46178058 0.18948    0.12064416 0.22809522]], shape=(1, 4), dtype=float32)\n",
      "[0.0, 0.3, 0.2, 0.9]\n",
      "tf.Tensor([[0.4644786  0.18712722 0.12172963 0.2266645 ]], shape=(1, 4), dtype=float32)\n",
      "[0.0, 0.4, 0.2, 0.9]\n",
      "tf.Tensor([[0.46178058 0.18948    0.12064416 0.22809522]], shape=(1, 4), dtype=float32)\n",
      "[0.0, 0.3, 0.2, 0.9]\n",
      "tf.Tensor([[0.4644786  0.18712722 0.12172963 0.2266645 ]], shape=(1, 4), dtype=float32)\n",
      "[0.0, 0.4, 0.2, 0.9]\n",
      "tf.Tensor([[0.46178058 0.18948    0.12064416 0.22809522]], shape=(1, 4), dtype=float32)\n",
      "[0.0, 0.3, 0.2, 0.9]\n",
      "tf.Tensor([[0.4644786  0.18712722 0.12172963 0.2266645 ]], shape=(1, 4), dtype=float32)\n",
      "[0.0, 0.4, 0.2, 0.9]\n",
      "tf.Tensor([[0.46178058 0.18948    0.12064416 0.22809522]], shape=(1, 4), dtype=float32)\n",
      "[0.0, 0.3, 0.2, 0.9]\n",
      "tf.Tensor([[0.4644786  0.18712722 0.12172963 0.2266645 ]], shape=(1, 4), dtype=float32)\n",
      "[0.0, 0.4, 0.2, 0.9]\n",
      "tf.Tensor([[0.46178058 0.18948    0.12064416 0.22809522]], shape=(1, 4), dtype=float32)\n",
      "[0.0, 0.3, 0.2, 0.9]\n",
      "tf.Tensor([[0.4644786  0.18712722 0.12172963 0.2266645 ]], shape=(1, 4), dtype=float32)\n",
      "[0.0, 0.4, 0.2, 0.9]\n",
      "tf.Tensor([[0.46178058 0.18948    0.12064416 0.22809522]], shape=(1, 4), dtype=float32)\n",
      "[0.0, 0.3, 0.2, 0.9]\n",
      "tf.Tensor([[0.4644786  0.18712722 0.12172963 0.2266645 ]], shape=(1, 4), dtype=float32)\n",
      "[0.0, 0.4, 0.2, 0.9]\n",
      "tf.Tensor([[0.46178058 0.18948    0.12064416 0.22809522]], shape=(1, 4), dtype=float32)\n",
      "[0.0, 0.3, 0.2, 0.9]\n",
      "tf.Tensor([[0.4644786  0.18712722 0.12172963 0.2266645 ]], shape=(1, 4), dtype=float32)\n",
      "[0.0, 0.4, 0.2, 0.9]\n",
      "tf.Tensor([[0.46178058 0.18948    0.12064416 0.22809522]], shape=(1, 4), dtype=float32)\n",
      "[0.0, 0.3, 0.2, 0.9]\n",
      "tf.Tensor([[0.4644786  0.18712722 0.12172963 0.2266645 ]], shape=(1, 4), dtype=float32)\n",
      "[0.0, 0.4, 0.2, 0.9]\n",
      "tf.Tensor([[0.46178058 0.18948    0.12064416 0.22809522]], shape=(1, 4), dtype=float32)\n",
      "[0.0, 0.3, 0.2, 0.9]\n",
      "tf.Tensor([[0.4644786  0.18712722 0.12172963 0.2266645 ]], shape=(1, 4), dtype=float32)\n",
      "[0.0, 0.4, 0.2, 0.9]\n",
      "tf.Tensor([[0.46178058 0.18948    0.12064416 0.22809522]], shape=(1, 4), dtype=float32)\n",
      "[0.0, 0.3, 0.2, 0.9]\n",
      "tf.Tensor([[0.4644786  0.18712722 0.12172963 0.2266645 ]], shape=(1, 4), dtype=float32)\n",
      "[0.0, 0.4, 0.2, 0.9]\n",
      "tf.Tensor([[0.46178058 0.18948    0.12064416 0.22809522]], shape=(1, 4), dtype=float32)\n",
      "[0.0, 0.3, 0.2, 0.9]\n"
     ]
    },
    {
     "name": "stderr",
     "output_type": "stream",
     "text": [
      "\r",
      "  1%|▌                                                                         | 701/100000 [28:43<73:58:14,  2.68s/it]"
     ]
    },
    {
     "name": "stdout",
     "output_type": "stream",
     "text": [
      "tf.Tensor([[0.4644786  0.18712722 0.12172963 0.2266645 ]], shape=(1, 4), dtype=float32)\n",
      "[0.0, 0.4, 0.2, 0.9]\n",
      "tf.Tensor([[0.46178058 0.18948    0.12064416 0.22809522]], shape=(1, 4), dtype=float32)\n",
      "[0.0, 0.3, 0.2, 0.9]\n",
      "tf.Tensor([[0.4644786  0.18712722 0.12172963 0.2266645 ]], shape=(1, 4), dtype=float32)\n"
     ]
    },
    {
     "name": "stderr",
     "output_type": "stream",
     "text": [
      "  1%|▌                                                                         | 801/100000 [32:37<63:36:21,  2.31s/it]"
     ]
    },
    {
     "name": "stdout",
     "output_type": "stream",
     "text": [
      "-39.35569960337969\n",
      "25\n"
     ]
    },
    {
     "name": "stderr",
     "output_type": "stream",
     "text": [
      "  1%|▋                                                                         | 900/100000 [36:30<67:17:21,  2.44s/it]"
     ]
    },
    {
     "name": "stdout",
     "output_type": "stream",
     "text": [
      "-39.56699249139317\n",
      "31\n",
      "[0.3, 0.4, 0.5, 0.7]\n",
      "tf.Tensor([[0.4951961  0.17822014 0.1114995  0.21508422]], shape=(1, 4), dtype=float32)\n",
      "[0.3, 0.5, 0.5, 0.7]\n",
      "tf.Tensor([[0.48900026 0.18534207 0.11327795 0.21237977]], shape=(1, 4), dtype=float32)\n",
      "[0.2, 0.5, 0.5, 0.7]\n",
      "tf.Tensor([[0.47970024 0.19053729 0.11831803 0.21144441]], shape=(1, 4), dtype=float32)\n",
      "[0.1, 0.5, 0.5, 0.7]\n",
      "tf.Tensor([[0.46672037 0.19734164 0.1233875  0.21255048]], shape=(1, 4), dtype=float32)\n",
      "[0.0, 0.5, 0.5, 0.7]\n",
      "tf.Tensor([[0.45399347 0.20166305 0.12934177 0.21500164]], shape=(1, 4), dtype=float32)\n",
      "[0.0, 0.5, 0.5, 0.7]\n",
      "tf.Tensor([[0.45276564 0.20213886 0.1294884  0.21560717]], shape=(1, 4), dtype=float32)\n",
      "[0.0, 0.5, 0.5, 0.7]\n",
      "tf.Tensor([[0.45208818 0.20243777 0.12953404 0.21593998]], shape=(1, 4), dtype=float32)\n",
      "[0.0, 0.5, 0.5, 0.7]\n",
      "tf.Tensor([[0.45183954 0.20256367 0.12951206 0.21608476]], shape=(1, 4), dtype=float32)\n",
      "[0.0, 0.5, 0.5, 0.7]\n",
      "tf.Tensor([[0.45183954 0.20256367 0.12951206 0.21608476]], shape=(1, 4), dtype=float32)\n",
      "[0.0, 0.5, 0.5, 0.7]\n",
      "tf.Tensor([[0.45183954 0.20256367 0.12951206 0.21608476]], shape=(1, 4), dtype=float32)\n",
      "[0.0, 0.5, 0.5, 0.7]\n",
      "tf.Tensor([[0.45183954 0.20256367 0.12951206 0.21608476]], shape=(1, 4), dtype=float32)\n",
      "[0.0, 0.5, 0.5, 0.7]\n",
      "tf.Tensor([[0.45183954 0.20256367 0.12951206 0.21608476]], shape=(1, 4), dtype=float32)\n",
      "[0.0, 0.5, 0.5, 0.7]\n",
      "tf.Tensor([[0.45183954 0.20256367 0.12951206 0.21608476]], shape=(1, 4), dtype=float32)\n",
      "[0.0, 0.5, 0.5, 0.7]\n",
      "tf.Tensor([[0.45183954 0.20256367 0.12951206 0.21608476]], shape=(1, 4), dtype=float32)\n",
      "[0.0, 0.5, 0.5, 0.7]\n",
      "tf.Tensor([[0.45183954 0.20256367 0.12951206 0.21608476]], shape=(1, 4), dtype=float32)\n",
      "[0.0, 0.5, 0.5, 0.7]\n",
      "tf.Tensor([[0.45183954 0.20256367 0.12951206 0.21608476]], shape=(1, 4), dtype=float32)\n",
      "[0.0, 0.5, 0.5, 0.7]\n",
      "tf.Tensor([[0.45183954 0.20256367 0.12951206 0.21608476]], shape=(1, 4), dtype=float32)\n",
      "[0.0, 0.5, 0.5, 0.7]\n",
      "tf.Tensor([[0.45183954 0.20256367 0.12951206 0.21608476]], shape=(1, 4), dtype=float32)\n",
      "[0.0, 0.5, 0.5, 0.7]\n",
      "tf.Tensor([[0.45183954 0.20256367 0.12951206 0.21608476]], shape=(1, 4), dtype=float32)\n",
      "[0.0, 0.5, 0.5, 0.7]\n",
      "tf.Tensor([[0.45183954 0.20256367 0.12951206 0.21608476]], shape=(1, 4), dtype=float32)\n",
      "[0.0, 0.5, 0.5, 0.7]\n",
      "tf.Tensor([[0.45183954 0.20256367 0.12951206 0.21608476]], shape=(1, 4), dtype=float32)\n",
      "[0.0, 0.5, 0.5, 0.7]\n",
      "tf.Tensor([[0.45183954 0.20256367 0.12951206 0.21608476]], shape=(1, 4), dtype=float32)\n",
      "[0.0, 0.5, 0.5, 0.7]\n",
      "tf.Tensor([[0.45183954 0.20256367 0.12951206 0.21608476]], shape=(1, 4), dtype=float32)\n",
      "[0.0, 0.5, 0.5, 0.7]\n",
      "tf.Tensor([[0.45183954 0.20256367 0.12951206 0.21608476]], shape=(1, 4), dtype=float32)\n",
      "[0.0, 0.5, 0.5, 0.7]\n",
      "tf.Tensor([[0.45183954 0.20256367 0.12951206 0.21608476]], shape=(1, 4), dtype=float32)\n",
      "[0.0, 0.5, 0.5, 0.7]\n",
      "tf.Tensor([[0.45183954 0.20256367 0.12951206 0.21608476]], shape=(1, 4), dtype=float32)\n",
      "[0.0, 0.5, 0.5, 0.7]\n",
      "tf.Tensor([[0.45183954 0.20256367 0.12951206 0.21608476]], shape=(1, 4), dtype=float32)\n",
      "[0.0, 0.5, 0.5, 0.7]\n",
      "tf.Tensor([[0.45183954 0.20256367 0.12951206 0.21608476]], shape=(1, 4), dtype=float32)\n",
      "[0.0, 0.5, 0.5, 0.7]\n",
      "tf.Tensor([[0.45183954 0.20256367 0.12951206 0.21608476]], shape=(1, 4), dtype=float32)\n",
      "[0.0, 0.5, 0.5, 0.7]\n",
      "tf.Tensor([[0.45183954 0.20256367 0.12951206 0.21608476]], shape=(1, 4), dtype=float32)\n",
      "[0.0, 0.5, 0.5, 0.7]\n",
      "tf.Tensor([[0.45183954 0.20256367 0.12951206 0.21608476]], shape=(1, 4), dtype=float32)\n",
      "[0.0, 0.5, 0.5, 0.7]\n",
      "tf.Tensor([[0.45183954 0.20256367 0.12951206 0.21608476]], shape=(1, 4), dtype=float32)\n",
      "[0.0, 0.5, 0.5, 0.7]\n",
      "tf.Tensor([[0.45183954 0.20256367 0.12951206 0.21608476]], shape=(1, 4), dtype=float32)\n",
      "[0.0, 0.5, 0.5, 0.7]\n",
      "tf.Tensor([[0.45183954 0.20256367 0.12951206 0.21608476]], shape=(1, 4), dtype=float32)\n",
      "[0.0, 0.5, 0.5, 0.7]\n",
      "tf.Tensor([[0.45183954 0.20256367 0.12951206 0.21608476]], shape=(1, 4), dtype=float32)\n",
      "[0.0, 0.5, 0.5, 0.7]\n",
      "tf.Tensor([[0.45183954 0.20256367 0.12951206 0.21608476]], shape=(1, 4), dtype=float32)\n",
      "[0.0, 0.5, 0.5, 0.7]\n"
     ]
    },
    {
     "name": "stderr",
     "output_type": "stream",
     "text": [
      "\r",
      "  1%|▋                                                                         | 901/100000 [36:33<72:04:56,  2.62s/it]"
     ]
    },
    {
     "name": "stdout",
     "output_type": "stream",
     "text": [
      "tf.Tensor([[0.45183954 0.20256367 0.12951206 0.21608476]], shape=(1, 4), dtype=float32)\n",
      "[0.0, 0.5, 0.5, 0.7]\n",
      "tf.Tensor([[0.45183954 0.20256367 0.12951206 0.21608476]], shape=(1, 4), dtype=float32)\n",
      "[0.0, 0.5, 0.5, 0.7]\n",
      "tf.Tensor([[0.45183954 0.20256367 0.12951206 0.21608476]], shape=(1, 4), dtype=float32)\n",
      "[0.0, 0.5, 0.5, 0.7]\n",
      "tf.Tensor([[0.45183954 0.20256367 0.12951206 0.21608476]], shape=(1, 4), dtype=float32)\n"
     ]
    },
    {
     "name": "stderr",
     "output_type": "stream",
     "text": [
      "  1%|▋                                                                        | 1001/100000 [40:21<67:15:02,  2.45s/it]"
     ]
    },
    {
     "name": "stdout",
     "output_type": "stream",
     "text": [
      "-41.942387305864244\n",
      "29\n"
     ]
    },
    {
     "name": "stderr",
     "output_type": "stream",
     "text": [
      "  1%|▊                                                                        | 1101/100000 [44:25<69:09:36,  2.52s/it]"
     ]
    },
    {
     "name": "stdout",
     "output_type": "stream",
     "text": [
      "-39.3537129586547\n",
      "23\n",
      "[0.6, 0.7, 0.1, 0.1]\n",
      "tf.Tensor([[0.52887934 0.15903372 0.09733754 0.21474937]], shape=(1, 4), dtype=float32)\n",
      "[0.6, 0.6, 0.1, 0.1]\n",
      "tf.Tensor([[0.5228802  0.16437869 0.09669697 0.21604411]], shape=(1, 4), dtype=float32)\n",
      "[0.6, 0.5, 0.1, 0.1]\n",
      "tf.Tensor([[0.5090939  0.17380892 0.09725539 0.21984182]], shape=(1, 4), dtype=float32)\n",
      "[0.6, 0.4, 0.1, 0.1]\n",
      "tf.Tensor([[0.49757683 0.18196262 0.09843362 0.22202697]], shape=(1, 4), dtype=float32)\n",
      "[0.6, 0.3, 0.1, 0.1]\n",
      "tf.Tensor([[0.5074084  0.17853583 0.10181691 0.21223888]], shape=(1, 4), dtype=float32)\n",
      "[0.5, 0.3, 0.1, 0.1]\n",
      "tf.Tensor([[0.5026412  0.18061773 0.10147723 0.2152638 ]], shape=(1, 4), dtype=float32)\n",
      "[0.5, 0.2, 0.1, 0.1]\n",
      "tf.Tensor([[0.5099242  0.17734349 0.10403533 0.20869693]], shape=(1, 4), dtype=float32)\n",
      "[0.4, 0.2, 0.1, 0.1]\n",
      "tf.Tensor([[0.5097851  0.1768016  0.10609355 0.20731978]], shape=(1, 4), dtype=float32)\n",
      "[0.3, 0.2, 0.1, 0.1]\n",
      "tf.Tensor([[0.5042071  0.17883202 0.10465056 0.21231039]], shape=(1, 4), dtype=float32)\n",
      "[0.3, 0.1, 0.1, 0.1]\n",
      "tf.Tensor([[0.50650746 0.1775843  0.10637036 0.20953791]], shape=(1, 4), dtype=float32)\n",
      "[0.2, 0.1, 0.1, 0.1]\n",
      "tf.Tensor([[0.50585574 0.17800243 0.10688935 0.20925249]], shape=(1, 4), dtype=float32)\n"
     ]
    },
    {
     "name": "stderr",
     "output_type": "stream",
     "text": [
      "  1%|▉                                                                        | 1201/100000 [48:16<54:12:52,  1.98s/it]"
     ]
    },
    {
     "name": "stdout",
     "output_type": "stream",
     "text": [
      "-38.98408463181967\n",
      "35\n"
     ]
    },
    {
     "name": "stderr",
     "output_type": "stream",
     "text": [
      "  1%|▉                                                                        | 1301/100000 [52:10<60:28:55,  2.21s/it]"
     ]
    },
    {
     "name": "stdout",
     "output_type": "stream",
     "text": [
      "-38.97328987442228\n",
      "28\n",
      "[0.2, 0.3, 0.1, 0.1]\n",
      "tf.Tensor([[0.5278336  0.15556896 0.09241498 0.22418247]], shape=(1, 4), dtype=float32)\n",
      "[0.2, 0.2, 0.1, 0.1]\n",
      "tf.Tensor([[0.517667   0.16245909 0.09416496 0.2257089 ]], shape=(1, 4), dtype=float32)\n",
      "[0.2, 0.1, 0.1, 0.1]\n",
      "tf.Tensor([[0.5133322  0.16838193 0.09642108 0.2218648 ]], shape=(1, 4), dtype=float32)\n"
     ]
    },
    {
     "name": "stderr",
     "output_type": "stream",
     "text": [
      "  1%|█                                                                        | 1401/100000 [56:06<65:01:21,  2.37s/it]"
     ]
    },
    {
     "name": "stdout",
     "output_type": "stream",
     "text": [
      "-37.59053950621821\n",
      "30\n"
     ]
    },
    {
     "name": "stderr",
     "output_type": "stream",
     "text": [
      "  2%|█                                                                        | 1500/100000 [59:41<63:45:09,  2.33s/it]"
     ]
    },
    {
     "name": "stdout",
     "output_type": "stream",
     "text": [
      "-37.44135896811514\n",
      "30\n",
      "[0.1, 0.5, 0.7, 0.1]\n",
      "tf.Tensor([[0.57131654 0.15257473 0.07741919 0.1986895 ]], shape=(1, 4), dtype=float32)\n",
      "[0.1, 0.4, 0.7, 0.1]\n",
      "tf.Tensor([[0.561918   0.1595085  0.07828429 0.20028917]], shape=(1, 4), dtype=float32)\n",
      "[0.1, 0.3, 0.7, 0.1]\n",
      "tf.Tensor([[0.569653   0.16050668 0.07517286 0.19466747]], shape=(1, 4), dtype=float32)\n",
      "[0.2, 0.3, 0.7, 0.1]\n",
      "tf.Tensor([[0.5572223  0.16952622 0.07642353 0.19682792]], shape=(1, 4), dtype=float32)\n",
      "[0.2, 0.2, 0.7, 0.1]\n",
      "tf.Tensor([[0.5709186  0.16349597 0.07282818 0.19275722]], shape=(1, 4), dtype=float32)\n",
      "[0.3, 0.2, 0.7, 0.1]\n",
      "tf.Tensor([[0.5772041  0.16154487 0.06930728 0.19194373]], shape=(1, 4), dtype=float32)\n",
      "[0.4, 0.2, 0.7, 0.1]\n",
      "tf.Tensor([[0.56644833 0.16718118 0.07347927 0.19289121]], shape=(1, 4), dtype=float32)\n",
      "[0.4, 0.1, 0.7, 0.1]\n",
      "tf.Tensor([[0.57599133 0.16234317 0.06920147 0.19246398]], shape=(1, 4), dtype=float32)\n",
      "[0.5, 0.1, 0.7, 0.1]\n",
      "tf.Tensor([[0.57484376 0.1631384  0.06905489 0.19296293]], shape=(1, 4), dtype=float32)\n",
      "[0.6, 0.1, 0.7, 0.1]\n",
      "tf.Tensor([[0.5630194  0.17054875 0.07322757 0.19320425]], shape=(1, 4), dtype=float32)\n",
      "[0.6, 0.0, 0.7, 0.1]\n",
      "tf.Tensor([[0.57924646 0.16346638 0.0659524  0.19133475]], shape=(1, 4), dtype=float32)\n",
      "[0.6, 0.1, 0.7, 0.1]\n",
      "tf.Tensor([[0.5672095  0.17082149 0.07041495 0.19155407]], shape=(1, 4), dtype=float32)\n",
      "[0.6, 0.0, 0.7, 0.1]\n",
      "tf.Tensor([[0.5733667  0.16786356 0.06778543 0.1909843 ]], shape=(1, 4), dtype=float32)\n",
      "[0.6, 0.1, 0.7, 0.1]\n",
      "tf.Tensor([[0.569884   0.17048427 0.06910405 0.1905277 ]], shape=(1, 4), dtype=float32)\n",
      "[0.6, 0.0, 0.7, 0.1]\n",
      "tf.Tensor([[0.5733667  0.16786356 0.06778543 0.1909843 ]], shape=(1, 4), dtype=float32)\n",
      "[0.6, 0.1, 0.7, 0.1]\n",
      "tf.Tensor([[0.569884   0.17048427 0.06910405 0.1905277 ]], shape=(1, 4), dtype=float32)\n",
      "[0.6, 0.0, 0.7, 0.1]\n",
      "tf.Tensor([[0.5733667  0.16786356 0.06778543 0.1909843 ]], shape=(1, 4), dtype=float32)\n",
      "[0.6, 0.1, 0.7, 0.1]\n",
      "tf.Tensor([[0.569884   0.17048427 0.06910405 0.1905277 ]], shape=(1, 4), dtype=float32)\n",
      "[0.6, 0.0, 0.7, 0.1]\n",
      "tf.Tensor([[0.5733667  0.16786356 0.06778543 0.1909843 ]], shape=(1, 4), dtype=float32)\n",
      "[0.6, 0.1, 0.7, 0.1]\n",
      "tf.Tensor([[0.569884   0.17048427 0.06910405 0.1905277 ]], shape=(1, 4), dtype=float32)\n",
      "[0.6, 0.0, 0.7, 0.1]\n",
      "tf.Tensor([[0.5733667  0.16786356 0.06778543 0.1909843 ]], shape=(1, 4), dtype=float32)\n",
      "[0.6, 0.1, 0.7, 0.1]\n",
      "tf.Tensor([[0.569884   0.17048427 0.06910405 0.1905277 ]], shape=(1, 4), dtype=float32)\n",
      "[0.6, 0.0, 0.7, 0.1]\n",
      "tf.Tensor([[0.5733667  0.16786356 0.06778543 0.1909843 ]], shape=(1, 4), dtype=float32)\n",
      "[0.6, 0.1, 0.7, 0.1]\n",
      "tf.Tensor([[0.569884   0.17048427 0.06910405 0.1905277 ]], shape=(1, 4), dtype=float32)\n",
      "[0.6, 0.0, 0.7, 0.1]\n",
      "tf.Tensor([[0.5733667  0.16786356 0.06778543 0.1909843 ]], shape=(1, 4), dtype=float32)\n",
      "[0.6, 0.1, 0.7, 0.1]\n",
      "tf.Tensor([[0.569884   0.17048427 0.06910405 0.1905277 ]], shape=(1, 4), dtype=float32)\n",
      "[0.6, 0.0, 0.7, 0.1]\n",
      "tf.Tensor([[0.5733667  0.16786356 0.06778543 0.1909843 ]], shape=(1, 4), dtype=float32)\n",
      "[0.6, 0.1, 0.7, 0.1]\n",
      "tf.Tensor([[0.569884   0.17048427 0.06910405 0.1905277 ]], shape=(1, 4), dtype=float32)\n",
      "[0.6, 0.0, 0.7, 0.1]\n",
      "tf.Tensor([[0.5733667  0.16786356 0.06778543 0.1909843 ]], shape=(1, 4), dtype=float32)\n",
      "[0.6, 0.1, 0.7, 0.1]\n",
      "tf.Tensor([[0.569884   0.17048427 0.06910405 0.1905277 ]], shape=(1, 4), dtype=float32)\n",
      "[0.6, 0.0, 0.7, 0.1]\n",
      "tf.Tensor([[0.5733667  0.16786356 0.06778543 0.1909843 ]], shape=(1, 4), dtype=float32)\n",
      "[0.6, 0.1, 0.7, 0.1]\n",
      "tf.Tensor([[0.569884   0.17048427 0.06910405 0.1905277 ]], shape=(1, 4), dtype=float32)\n",
      "[0.6, 0.0, 0.7, 0.1]\n",
      "tf.Tensor([[0.5733667  0.16786356 0.06778543 0.1909843 ]], shape=(1, 4), dtype=float32)\n",
      "[0.6, 0.1, 0.7, 0.1]\n",
      "tf.Tensor([[0.569884   0.17048427 0.06910405 0.1905277 ]], shape=(1, 4), dtype=float32)\n",
      "[0.6, 0.0, 0.7, 0.1]\n",
      "tf.Tensor([[0.5733667  0.16786356 0.06778543 0.1909843 ]], shape=(1, 4), dtype=float32)\n",
      "[0.6, 0.1, 0.7, 0.1]\n",
      "tf.Tensor([[0.569884   0.17048427 0.06910405 0.1905277 ]], shape=(1, 4), dtype=float32)\n"
     ]
    },
    {
     "name": "stderr",
     "output_type": "stream",
     "text": [
      "\r",
      "  2%|█                                                                        | 1501/100000 [59:42<60:00:41,  2.19s/it]"
     ]
    },
    {
     "name": "stdout",
     "output_type": "stream",
     "text": [
      "[0.6, 0.0, 0.7, 0.1]\n",
      "tf.Tensor([[0.5733667  0.16786356 0.06778543 0.1909843 ]], shape=(1, 4), dtype=float32)\n",
      "[0.6, 0.1, 0.7, 0.1]\n",
      "tf.Tensor([[0.569884   0.17048427 0.06910405 0.1905277 ]], shape=(1, 4), dtype=float32)\n",
      "[0.6, 0.0, 0.7, 0.1]\n",
      "tf.Tensor([[0.5733667  0.16786356 0.06778543 0.1909843 ]], shape=(1, 4), dtype=float32)\n",
      "[0.6, 0.1, 0.7, 0.1]\n",
      "tf.Tensor([[0.569884   0.17048427 0.06910405 0.1905277 ]], shape=(1, 4), dtype=float32)\n"
     ]
    },
    {
     "name": "stderr",
     "output_type": "stream",
     "text": [
      "  2%|█▏                                                                     | 1601/100000 [1:03:25<68:23:58,  2.50s/it]"
     ]
    },
    {
     "name": "stdout",
     "output_type": "stream",
     "text": [
      "-37.02274309012579\n",
      "33\n"
     ]
    },
    {
     "name": "stderr",
     "output_type": "stream",
     "text": [
      "  2%|█▏                                                                     | 1700/100000 [1:07:24<59:09:08,  2.17s/it]"
     ]
    },
    {
     "name": "stdout",
     "output_type": "stream",
     "text": [
      "-39.10115545411909\n",
      "25\n",
      "[0.8, 0.2, 0.2, 0.9]\n",
      "tf.Tensor([[0.60434765 0.13915063 0.06430963 0.19219214]], shape=(1, 4), dtype=float32)\n",
      "[0.8, 0.3, 0.2, 0.9]\n",
      "tf.Tensor([[0.6095452  0.14235169 0.0585968  0.18950637]], shape=(1, 4), dtype=float32)\n",
      "[0.8, 0.4, 0.2, 0.9]\n",
      "tf.Tensor([[0.60566366 0.14840938 0.06187304 0.18405397]], shape=(1, 4), dtype=float32)\n",
      "[0.7, 0.4, 0.2, 0.9]\n",
      "tf.Tensor([[0.60656685 0.15038458 0.05871096 0.18433765]], shape=(1, 4), dtype=float32)\n",
      "[0.7, 0.5, 0.2, 0.9]\n",
      "tf.Tensor([[0.59915847 0.15257879 0.06515963 0.18310313]], shape=(1, 4), dtype=float32)\n",
      "[0.6, 0.5, 0.2, 0.9]\n",
      "tf.Tensor([[0.59716487 0.15110499 0.06508193 0.18664818]], shape=(1, 4), dtype=float32)\n",
      "[0.6, 0.6, 0.2, 0.9]\n",
      "tf.Tensor([[0.5968569  0.15175915 0.06603511 0.18534887]], shape=(1, 4), dtype=float32)\n",
      "[0.5, 0.6, 0.2, 0.9]\n",
      "tf.Tensor([[0.5863304  0.15445174 0.07245619 0.18676165]], shape=(1, 4), dtype=float32)\n",
      "[0.4, 0.6, 0.2, 0.9]\n",
      "tf.Tensor([[0.59277964 0.15057427 0.0675291  0.18911697]], shape=(1, 4), dtype=float32)\n",
      "[0.4, 0.7, 0.2, 0.9]\n",
      "tf.Tensor([[0.58564204 0.15283823 0.07226411 0.18925564]], shape=(1, 4), dtype=float32)\n",
      "[0.3, 0.7, 0.2, 0.9]\n",
      "tf.Tensor([[0.59261227 0.14868781 0.06770924 0.19099061]], shape=(1, 4), dtype=float32)\n",
      "[0.3, 0.8, 0.2, 0.9]\n",
      "tf.Tensor([[0.59371775 0.14890206 0.06735353 0.19002664]], shape=(1, 4), dtype=float32)\n",
      "[0.2, 0.8, 0.2, 0.9]\n",
      "tf.Tensor([[0.58214617 0.15316847 0.07320321 0.1914822 ]], shape=(1, 4), dtype=float32)\n",
      "[0.1, 0.8, 0.2, 0.9]\n",
      "tf.Tensor([[0.5803092  0.1539054  0.07360893 0.19217648]], shape=(1, 4), dtype=float32)\n",
      "[0.0, 0.8, 0.2, 0.9]\n",
      "tf.Tensor([[0.581649   0.15531415 0.07243571 0.19060117]], shape=(1, 4), dtype=float32)\n",
      "[0.1, 0.8, 0.2, 0.9]\n",
      "tf.Tensor([[0.5825246  0.15444356 0.07098501 0.19204682]], shape=(1, 4), dtype=float32)\n",
      "[0.0, 0.8, 0.2, 0.9]\n",
      "tf.Tensor([[0.5910876  0.15311867 0.06603558 0.1897582 ]], shape=(1, 4), dtype=float32)\n",
      "[0.1, 0.8, 0.2, 0.9]\n",
      "tf.Tensor([[0.59156334 0.15209317 0.06510285 0.19124062]], shape=(1, 4), dtype=float32)\n",
      "[0.0, 0.8, 0.2, 0.9]\n",
      "tf.Tensor([[0.5910876  0.15311867 0.06603558 0.1897582 ]], shape=(1, 4), dtype=float32)\n",
      "[0.1, 0.8, 0.2, 0.9]\n",
      "tf.Tensor([[0.59156334 0.15209317 0.06510285 0.19124062]], shape=(1, 4), dtype=float32)\n",
      "[0.0, 0.8, 0.2, 0.9]\n",
      "tf.Tensor([[0.5910876  0.15311867 0.06603558 0.1897582 ]], shape=(1, 4), dtype=float32)\n",
      "[0.1, 0.8, 0.2, 0.9]\n",
      "tf.Tensor([[0.59156334 0.15209317 0.06510285 0.19124062]], shape=(1, 4), dtype=float32)\n",
      "[0.0, 0.8, 0.2, 0.9]\n",
      "tf.Tensor([[0.5910876  0.15311867 0.06603558 0.1897582 ]], shape=(1, 4), dtype=float32)\n",
      "[0.1, 0.8, 0.2, 0.9]\n",
      "tf.Tensor([[0.59156334 0.15209317 0.06510285 0.19124062]], shape=(1, 4), dtype=float32)\n",
      "[0.0, 0.8, 0.2, 0.9]\n",
      "tf.Tensor([[0.5910876  0.15311867 0.06603558 0.1897582 ]], shape=(1, 4), dtype=float32)\n",
      "[0.1, 0.8, 0.2, 0.9]\n",
      "tf.Tensor([[0.59156334 0.15209317 0.06510285 0.19124062]], shape=(1, 4), dtype=float32)\n",
      "[0.0, 0.8, 0.2, 0.9]\n",
      "tf.Tensor([[0.5910876  0.15311867 0.06603558 0.1897582 ]], shape=(1, 4), dtype=float32)\n",
      "[0.1, 0.8, 0.2, 0.9]\n",
      "tf.Tensor([[0.59156334 0.15209317 0.06510285 0.19124062]], shape=(1, 4), dtype=float32)\n",
      "[0.0, 0.8, 0.2, 0.9]\n",
      "tf.Tensor([[0.5910876  0.15311867 0.06603558 0.1897582 ]], shape=(1, 4), dtype=float32)\n",
      "[0.1, 0.8, 0.2, 0.9]\n",
      "tf.Tensor([[0.59156334 0.15209317 0.06510285 0.19124062]], shape=(1, 4), dtype=float32)\n",
      "[0.0, 0.8, 0.2, 0.9]\n",
      "tf.Tensor([[0.5910876  0.15311867 0.06603558 0.1897582 ]], shape=(1, 4), dtype=float32)\n",
      "[0.1, 0.8, 0.2, 0.9]\n",
      "tf.Tensor([[0.59156334 0.15209317 0.06510285 0.19124062]], shape=(1, 4), dtype=float32)\n",
      "[0.0, 0.8, 0.2, 0.9]\n",
      "tf.Tensor([[0.5910876  0.15311867 0.06603558 0.1897582 ]], shape=(1, 4), dtype=float32)\n",
      "[0.1, 0.8, 0.2, 0.9]\n",
      "tf.Tensor([[0.59156334 0.15209317 0.06510285 0.19124062]], shape=(1, 4), dtype=float32)\n",
      "[0.0, 0.8, 0.2, 0.9]\n"
     ]
    },
    {
     "name": "stderr",
     "output_type": "stream",
     "text": [
      "\r",
      "  2%|█▏                                                                     | 1701/100000 [1:07:27<66:22:20,  2.43s/it]"
     ]
    },
    {
     "name": "stdout",
     "output_type": "stream",
     "text": [
      "tf.Tensor([[0.5910876  0.15311867 0.06603558 0.1897582 ]], shape=(1, 4), dtype=float32)\n",
      "[0.1, 0.8, 0.2, 0.9]\n",
      "tf.Tensor([[0.59156334 0.15209317 0.06510285 0.19124062]], shape=(1, 4), dtype=float32)\n",
      "[0.0, 0.8, 0.2, 0.9]\n",
      "tf.Tensor([[0.5910876  0.15311867 0.06603558 0.1897582 ]], shape=(1, 4), dtype=float32)\n",
      "[0.1, 0.8, 0.2, 0.9]\n",
      "tf.Tensor([[0.59156334 0.15209317 0.06510285 0.19124062]], shape=(1, 4), dtype=float32)\n",
      "[0.0, 0.8, 0.2, 0.9]\n",
      "tf.Tensor([[0.5910876  0.15311867 0.06603558 0.1897582 ]], shape=(1, 4), dtype=float32)\n",
      "[0.1, 0.8, 0.2, 0.9]\n",
      "tf.Tensor([[0.59156334 0.15209317 0.06510285 0.19124062]], shape=(1, 4), dtype=float32)\n"
     ]
    },
    {
     "name": "stderr",
     "output_type": "stream",
     "text": [
      "  2%|█▎                                                                     | 1801/100000 [1:11:06<54:20:43,  1.99s/it]"
     ]
    },
    {
     "name": "stdout",
     "output_type": "stream",
     "text": [
      "-35.598553537179306\n",
      "34\n"
     ]
    },
    {
     "name": "stderr",
     "output_type": "stream",
     "text": [
      "  2%|█▎                                                                     | 1900/100000 [1:15:00<65:14:43,  2.39s/it]"
     ]
    },
    {
     "name": "stdout",
     "output_type": "stream",
     "text": [
      "-37.76653036247081\n",
      "34\n",
      "[0.5, 0.0, 0.6, 0.2]\n",
      "tf.Tensor([[0.56777054 0.15651514 0.07647332 0.19924094]], shape=(1, 4), dtype=float32)\n",
      "[0.5, 0.1, 0.6, 0.2]\n",
      "tf.Tensor([[0.56855065 0.1616164  0.07286637 0.19696659]], shape=(1, 4), dtype=float32)\n",
      "[0.5, 0.2, 0.6, 0.2]\n",
      "tf.Tensor([[0.551153   0.17431623 0.07640848 0.19812231]], shape=(1, 4), dtype=float32)\n",
      "[0.5, 0.1, 0.6, 0.2]\n",
      "tf.Tensor([[0.5492437  0.17854194 0.07446259 0.19775179]], shape=(1, 4), dtype=float32)\n",
      "[0.5, 0.2, 0.6, 0.2]\n",
      "tf.Tensor([[0.53222334 0.18578368 0.08053495 0.201458  ]], shape=(1, 4), dtype=float32)\n",
      "[0.5, 0.1, 0.6, 0.2]\n",
      "tf.Tensor([[0.5373354  0.18296781 0.07925656 0.20044021]], shape=(1, 4), dtype=float32)\n",
      "[0.5, 0.2, 0.6, 0.2]\n",
      "tf.Tensor([[0.53222334 0.18578368 0.08053495 0.201458  ]], shape=(1, 4), dtype=float32)\n",
      "[0.5, 0.1, 0.6, 0.2]\n",
      "tf.Tensor([[0.5373354  0.18296781 0.07925656 0.20044021]], shape=(1, 4), dtype=float32)\n",
      "[0.5, 0.2, 0.6, 0.2]\n",
      "tf.Tensor([[0.53222334 0.18578368 0.08053495 0.201458  ]], shape=(1, 4), dtype=float32)\n",
      "[0.5, 0.1, 0.6, 0.2]\n",
      "tf.Tensor([[0.5373354  0.18296781 0.07925656 0.20044021]], shape=(1, 4), dtype=float32)\n",
      "[0.5, 0.2, 0.6, 0.2]\n",
      "tf.Tensor([[0.53222334 0.18578368 0.08053495 0.201458  ]], shape=(1, 4), dtype=float32)\n",
      "[0.5, 0.1, 0.6, 0.2]\n",
      "tf.Tensor([[0.5373354  0.18296781 0.07925656 0.20044021]], shape=(1, 4), dtype=float32)\n",
      "[0.5, 0.2, 0.6, 0.2]\n",
      "tf.Tensor([[0.53222334 0.18578368 0.08053495 0.201458  ]], shape=(1, 4), dtype=float32)\n",
      "[0.5, 0.1, 0.6, 0.2]\n",
      "tf.Tensor([[0.5373354  0.18296781 0.07925656 0.20044021]], shape=(1, 4), dtype=float32)\n",
      "[0.5, 0.2, 0.6, 0.2]\n",
      "tf.Tensor([[0.53222334 0.18578368 0.08053495 0.201458  ]], shape=(1, 4), dtype=float32)\n",
      "[0.5, 0.1, 0.6, 0.2]\n",
      "tf.Tensor([[0.5373354  0.18296781 0.07925656 0.20044021]], shape=(1, 4), dtype=float32)\n",
      "[0.5, 0.2, 0.6, 0.2]\n",
      "tf.Tensor([[0.53222334 0.18578368 0.08053495 0.201458  ]], shape=(1, 4), dtype=float32)\n",
      "[0.5, 0.1, 0.6, 0.2]\n",
      "tf.Tensor([[0.5373354  0.18296781 0.07925656 0.20044021]], shape=(1, 4), dtype=float32)\n",
      "[0.5, 0.2, 0.6, 0.2]\n",
      "tf.Tensor([[0.53222334 0.18578368 0.08053495 0.201458  ]], shape=(1, 4), dtype=float32)\n",
      "[0.5, 0.1, 0.6, 0.2]\n",
      "tf.Tensor([[0.5373354  0.18296781 0.07925656 0.20044021]], shape=(1, 4), dtype=float32)\n",
      "[0.5, 0.2, 0.6, 0.2]\n",
      "tf.Tensor([[0.53222334 0.18578368 0.08053495 0.201458  ]], shape=(1, 4), dtype=float32)\n",
      "[0.5, 0.1, 0.6, 0.2]\n",
      "tf.Tensor([[0.5373354  0.18296781 0.07925656 0.20044021]], shape=(1, 4), dtype=float32)\n",
      "[0.5, 0.2, 0.6, 0.2]\n",
      "tf.Tensor([[0.53222334 0.18578368 0.08053495 0.201458  ]], shape=(1, 4), dtype=float32)\n",
      "[0.5, 0.1, 0.6, 0.2]\n",
      "tf.Tensor([[0.5373354  0.18296781 0.07925656 0.20044021]], shape=(1, 4), dtype=float32)\n",
      "[0.5, 0.2, 0.6, 0.2]\n",
      "tf.Tensor([[0.53222334 0.18578368 0.08053495 0.201458  ]], shape=(1, 4), dtype=float32)\n",
      "[0.5, 0.1, 0.6, 0.2]\n",
      "tf.Tensor([[0.5373354  0.18296781 0.07925656 0.20044021]], shape=(1, 4), dtype=float32)\n",
      "[0.5, 0.2, 0.6, 0.2]\n",
      "tf.Tensor([[0.53222334 0.18578368 0.08053495 0.201458  ]], shape=(1, 4), dtype=float32)\n",
      "[0.5, 0.1, 0.6, 0.2]\n",
      "tf.Tensor([[0.5373354  0.18296781 0.07925656 0.20044021]], shape=(1, 4), dtype=float32)\n",
      "[0.5, 0.2, 0.6, 0.2]\n",
      "tf.Tensor([[0.53222334 0.18578368 0.08053495 0.201458  ]], shape=(1, 4), dtype=float32)\n",
      "[0.5, 0.1, 0.6, 0.2]\n",
      "tf.Tensor([[0.5373354  0.18296781 0.07925656 0.20044021]], shape=(1, 4), dtype=float32)\n",
      "[0.5, 0.2, 0.6, 0.2]\n",
      "tf.Tensor([[0.53222334 0.18578368 0.08053495 0.201458  ]], shape=(1, 4), dtype=float32)"
     ]
    },
    {
     "name": "stderr",
     "output_type": "stream",
     "text": [
      "\r",
      "  2%|█▎                                                                     | 1901/100000 [1:15:03<72:57:54,  2.68s/it]"
     ]
    },
    {
     "name": "stdout",
     "output_type": "stream",
     "text": [
      "\n",
      "[0.5, 0.1, 0.6, 0.2]\n",
      "tf.Tensor([[0.5373354  0.18296781 0.07925656 0.20044021]], shape=(1, 4), dtype=float32)\n",
      "[0.5, 0.2, 0.6, 0.2]\n",
      "tf.Tensor([[0.53222334 0.18578368 0.08053495 0.201458  ]], shape=(1, 4), dtype=float32)\n",
      "[0.5, 0.1, 0.6, 0.2]\n",
      "tf.Tensor([[0.5373354  0.18296781 0.07925656 0.20044021]], shape=(1, 4), dtype=float32)\n",
      "[0.5, 0.2, 0.6, 0.2]\n",
      "tf.Tensor([[0.53222334 0.18578368 0.08053495 0.201458  ]], shape=(1, 4), dtype=float32)\n",
      "[0.5, 0.1, 0.6, 0.2]\n",
      "tf.Tensor([[0.5373354  0.18296781 0.07925656 0.20044021]], shape=(1, 4), dtype=float32)\n",
      "[0.5, 0.2, 0.6, 0.2]\n",
      "tf.Tensor([[0.53222334 0.18578368 0.08053495 0.201458  ]], shape=(1, 4), dtype=float32)\n",
      "[0.5, 0.1, 0.6, 0.2]\n",
      "tf.Tensor([[0.5373354  0.18296781 0.07925656 0.20044021]], shape=(1, 4), dtype=float32)\n",
      "[0.5, 0.2, 0.6, 0.2]\n",
      "tf.Tensor([[0.53222334 0.18578368 0.08053495 0.201458  ]], shape=(1, 4), dtype=float32)\n",
      "[0.5, 0.1, 0.6, 0.2]\n",
      "tf.Tensor([[0.5373354  0.18296781 0.07925656 0.20044021]], shape=(1, 4), dtype=float32)\n"
     ]
    },
    {
     "name": "stderr",
     "output_type": "stream",
     "text": [
      "  2%|█▍                                                                     | 2001/100000 [1:18:46<50:09:05,  1.84s/it]"
     ]
    },
    {
     "name": "stdout",
     "output_type": "stream",
     "text": [
      "-37.4213217513132\n",
      "34\n"
     ]
    },
    {
     "name": "stderr",
     "output_type": "stream",
     "text": [
      "  2%|█▍                                                                     | 2100/100000 [1:22:38<78:14:49,  2.88s/it]"
     ]
    },
    {
     "name": "stdout",
     "output_type": "stream",
     "text": [
      "-41.83990948313167\n",
      "27\n",
      "[0.0, 0.1, 0.6, 0.2]\n",
      "tf.Tensor([[0.5717995  0.15352467 0.07704152 0.19763424]], shape=(1, 4), dtype=float32)\n",
      "[0.1, 0.1, 0.6, 0.2]\n",
      "tf.Tensor([[0.574717   0.15617506 0.0734077  0.1957002 ]], shape=(1, 4), dtype=float32)\n",
      "[0.2, 0.1, 0.6, 0.2]\n",
      "tf.Tensor([[0.5761162  0.15902315 0.06997642 0.19488424]], shape=(1, 4), dtype=float32)\n",
      "[0.3, 0.1, 0.6, 0.2]\n",
      "tf.Tensor([[0.5769089  0.16180032 0.06710674 0.1941841 ]], shape=(1, 4), dtype=float32)\n",
      "[0.4, 0.1, 0.6, 0.2]\n",
      "tf.Tensor([[0.57697    0.1624618  0.06602205 0.1945462 ]], shape=(1, 4), dtype=float32)\n",
      "[0.4, 0.2, 0.6, 0.2]\n",
      "tf.Tensor([[0.57799995 0.16291168 0.06633526 0.19275315]], shape=(1, 4), dtype=float32)\n",
      "[0.5, 0.2, 0.6, 0.2]\n",
      "tf.Tensor([[0.5662879  0.16912408 0.07156236 0.1930257 ]], shape=(1, 4), dtype=float32)\n",
      "[0.5, 0.1, 0.6, 0.2]\n",
      "tf.Tensor([[0.5697551  0.1673911  0.06977944 0.19307439]], shape=(1, 4), dtype=float32)\n",
      "[0.5, 0.2, 0.6, 0.2]\n",
      "tf.Tensor([[0.5535855  0.17477365 0.07541288 0.19622794]], shape=(1, 4), dtype=float32)\n",
      "[0.5, 0.1, 0.6, 0.2]\n",
      "tf.Tensor([[0.55985147 0.17204209 0.07346469 0.19464178]], shape=(1, 4), dtype=float32)\n",
      "[0.5, 0.2, 0.6, 0.2]\n",
      "tf.Tensor([[0.5544648  0.17492646 0.07476176 0.19584695]], shape=(1, 4), dtype=float32)\n",
      "[0.5, 0.1, 0.6, 0.2]\n",
      "tf.Tensor([[0.55985147 0.17204209 0.07346469 0.19464178]], shape=(1, 4), dtype=float32)\n",
      "[0.5, 0.2, 0.6, 0.2]\n",
      "tf.Tensor([[0.5544648  0.17492646 0.07476176 0.19584695]], shape=(1, 4), dtype=float32)\n",
      "[0.5, 0.1, 0.6, 0.2]\n",
      "tf.Tensor([[0.55985147 0.17204209 0.07346469 0.19464178]], shape=(1, 4), dtype=float32)\n",
      "[0.5, 0.2, 0.6, 0.2]\n",
      "tf.Tensor([[0.5544648  0.17492646 0.07476176 0.19584695]], shape=(1, 4), dtype=float32)\n",
      "[0.5, 0.1, 0.6, 0.2]\n",
      "tf.Tensor([[0.55985147 0.17204209 0.07346469 0.19464178]], shape=(1, 4), dtype=float32)\n",
      "[0.5, 0.2, 0.6, 0.2]\n",
      "tf.Tensor([[0.5544648  0.17492646 0.07476176 0.19584695]], shape=(1, 4), dtype=float32)\n",
      "[0.5, 0.1, 0.6, 0.2]\n",
      "tf.Tensor([[0.55985147 0.17204209 0.07346469 0.19464178]], shape=(1, 4), dtype=float32)\n",
      "[0.5, 0.2, 0.6, 0.2]\n",
      "tf.Tensor([[0.5544648  0.17492646 0.07476176 0.19584695]], shape=(1, 4), dtype=float32)\n",
      "[0.5, 0.1, 0.6, 0.2]\n",
      "tf.Tensor([[0.55985147 0.17204209 0.07346469 0.19464178]], shape=(1, 4), dtype=float32)\n",
      "[0.5, 0.2, 0.6, 0.2]\n",
      "tf.Tensor([[0.5544648  0.17492646 0.07476176 0.19584695]], shape=(1, 4), dtype=float32)\n",
      "[0.5, 0.1, 0.6, 0.2]\n",
      "tf.Tensor([[0.55985147 0.17204209 0.07346469 0.19464178]], shape=(1, 4), dtype=float32)\n",
      "[0.5, 0.2, 0.6, 0.2]\n",
      "tf.Tensor([[0.5544648  0.17492646 0.07476176 0.19584695]], shape=(1, 4), dtype=float32)\n",
      "[0.5, 0.1, 0.6, 0.2]\n",
      "tf.Tensor([[0.55985147 0.17204209 0.07346469 0.19464178]], shape=(1, 4), dtype=float32)\n",
      "[0.5, 0.2, 0.6, 0.2]\n",
      "tf.Tensor([[0.5544648  0.17492646 0.07476176 0.19584695]], shape=(1, 4), dtype=float32)\n",
      "[0.5, 0.1, 0.6, 0.2]\n",
      "tf.Tensor([[0.55985147 0.17204209 0.07346469 0.19464178]], shape=(1, 4), dtype=float32)\n",
      "[0.5, 0.2, 0.6, 0.2]\n",
      "tf.Tensor([[0.5544648  0.17492646 0.07476176 0.19584695]], shape=(1, 4), dtype=float32)\n",
      "[0.5, 0.1, 0.6, 0.2]\n",
      "tf.Tensor([[0.55985147 0.17204209 0.07346469 0.19464178]], shape=(1, 4), dtype=float32)\n",
      "[0.5, 0.2, 0.6, 0.2]\n",
      "tf.Tensor([[0.5544648  0.17492646 0.07476176 0.19584695]], shape=(1, 4), dtype=float32)\n",
      "[0.5, 0.1, 0.6, 0.2]\n",
      "tf.Tensor([[0.55985147 0.17204209 0.07346469 0.19464178]], shape=(1, 4), dtype=float32)\n",
      "[0.5, 0.2, 0.6, 0.2]\n",
      "tf.Tensor([[0.5544648  0.17492646 0.07476176 0.19584695]], shape=(1, 4), dtype=float32)\n",
      "[0.5, 0.1, 0.6, 0.2]\n",
      "tf.Tensor([[0.55985147 0.17204209 0.07346469 0.19464178]], shape=(1, 4), dtype=float32)"
     ]
    },
    {
     "name": "stderr",
     "output_type": "stream",
     "text": [
      "\r",
      "  2%|█▍                                                                     | 2101/100000 [1:22:40<71:01:09,  2.61s/it]"
     ]
    },
    {
     "name": "stdout",
     "output_type": "stream",
     "text": [
      "\n",
      "[0.5, 0.2, 0.6, 0.2]\n",
      "tf.Tensor([[0.5544648  0.17492646 0.07476176 0.19584695]], shape=(1, 4), dtype=float32)\n",
      "[0.5, 0.1, 0.6, 0.2]\n",
      "tf.Tensor([[0.55985147 0.17204209 0.07346469 0.19464178]], shape=(1, 4), dtype=float32)\n",
      "[0.5, 0.2, 0.6, 0.2]\n",
      "tf.Tensor([[0.5544648  0.17492646 0.07476176 0.19584695]], shape=(1, 4), dtype=float32)\n",
      "[0.5, 0.1, 0.6, 0.2]\n",
      "tf.Tensor([[0.55985147 0.17204209 0.07346469 0.19464178]], shape=(1, 4), dtype=float32)\n",
      "[0.5, 0.2, 0.6, 0.2]\n",
      "tf.Tensor([[0.5544648  0.17492646 0.07476176 0.19584695]], shape=(1, 4), dtype=float32)\n",
      "[0.5, 0.1, 0.6, 0.2]\n",
      "tf.Tensor([[0.55985147 0.17204209 0.07346469 0.19464178]], shape=(1, 4), dtype=float32)\n",
      "[0.5, 0.2, 0.6, 0.2]\n",
      "tf.Tensor([[0.5544648  0.17492646 0.07476176 0.19584695]], shape=(1, 4), dtype=float32)\n",
      "[0.5, 0.1, 0.6, 0.2]\n",
      "tf.Tensor([[0.55985147 0.17204209 0.07346469 0.19464178]], shape=(1, 4), dtype=float32)\n"
     ]
    },
    {
     "name": "stderr",
     "output_type": "stream",
     "text": [
      "  2%|█▌                                                                     | 2201/100000 [1:26:19<60:36:00,  2.23s/it]"
     ]
    },
    {
     "name": "stdout",
     "output_type": "stream",
     "text": [
      "-36.5074021382273\n",
      "39\n"
     ]
    },
    {
     "name": "stderr",
     "output_type": "stream",
     "text": [
      "  2%|█▋                                                                     | 2300/100000 [1:29:53<69:24:12,  2.56s/it]"
     ]
    },
    {
     "name": "stdout",
     "output_type": "stream",
     "text": [
      "-37.892725687414526\n",
      "36\n",
      "[0.6, 0.5, 0.7, 0.1]\n",
      "tf.Tensor([[0.5912878  0.15987124 0.07098511 0.17785586]], shape=(1, 4), dtype=float32)\n",
      "[0.6, 0.4, 0.7, 0.1]\n",
      "tf.Tensor([[0.5793313  0.16983637 0.07272257 0.17810972]], shape=(1, 4), dtype=float32)\n",
      "[0.6, 0.3, 0.7, 0.1]\n",
      "tf.Tensor([[0.5593406  0.18392321 0.07559471 0.18114147]], shape=(1, 4), dtype=float32)\n",
      "[0.6, 0.2, 0.7, 0.1]\n",
      "tf.Tensor([[0.5417337  0.19648233 0.07871695 0.18306702]], shape=(1, 4), dtype=float32)\n",
      "[0.6, 0.1, 0.7, 0.1]\n",
      "tf.Tensor([[0.54111814 0.19796102 0.0788039  0.18211693]], shape=(1, 4), dtype=float32)\n",
      "[0.6, 0.0, 0.7, 0.1]\n",
      "tf.Tensor([[0.57367545 0.18362758 0.07159532 0.17110169]], shape=(1, 4), dtype=float32)\n",
      "[0.6, 0.1, 0.7, 0.1]\n",
      "tf.Tensor([[0.5707581  0.18582211 0.07226405 0.17115568]], shape=(1, 4), dtype=float32)\n",
      "[0.6, 0.0, 0.7, 0.1]\n",
      "tf.Tensor([[0.58836365 0.17869473 0.06597928 0.1669623 ]], shape=(1, 4), dtype=float32)\n",
      "[0.6, 0.1, 0.7, 0.1]\n",
      "tf.Tensor([[0.5855691  0.18046129 0.06709287 0.16687676]], shape=(1, 4), dtype=float32)\n",
      "[0.6, 0.0, 0.7, 0.1]\n",
      "tf.Tensor([[0.58836365 0.17869473 0.06597928 0.1669623 ]], shape=(1, 4), dtype=float32)\n",
      "[0.6, 0.1, 0.7, 0.1]\n",
      "tf.Tensor([[0.5855691  0.18046129 0.06709287 0.16687676]], shape=(1, 4), dtype=float32)\n",
      "[0.6, 0.0, 0.7, 0.1]\n",
      "tf.Tensor([[0.58836365 0.17869473 0.06597928 0.1669623 ]], shape=(1, 4), dtype=float32)\n",
      "[0.6, 0.1, 0.7, 0.1]\n",
      "tf.Tensor([[0.5855691  0.18046129 0.06709287 0.16687676]], shape=(1, 4), dtype=float32)\n",
      "[0.6, 0.0, 0.7, 0.1]\n",
      "tf.Tensor([[0.58836365 0.17869473 0.06597928 0.1669623 ]], shape=(1, 4), dtype=float32)\n",
      "[0.6, 0.1, 0.7, 0.1]\n",
      "tf.Tensor([[0.5855691  0.18046129 0.06709287 0.16687676]], shape=(1, 4), dtype=float32)\n",
      "[0.6, 0.0, 0.7, 0.1]\n",
      "tf.Tensor([[0.58836365 0.17869473 0.06597928 0.1669623 ]], shape=(1, 4), dtype=float32)\n",
      "[0.6, 0.1, 0.7, 0.1]\n",
      "tf.Tensor([[0.5855691  0.18046129 0.06709287 0.16687676]], shape=(1, 4), dtype=float32)\n",
      "[0.6, 0.0, 0.7, 0.1]\n",
      "tf.Tensor([[0.58836365 0.17869473 0.06597928 0.1669623 ]], shape=(1, 4), dtype=float32)\n",
      "[0.6, 0.1, 0.7, 0.1]\n",
      "tf.Tensor([[0.5855691  0.18046129 0.06709287 0.16687676]], shape=(1, 4), dtype=float32)\n",
      "[0.6, 0.0, 0.7, 0.1]\n",
      "tf.Tensor([[0.58836365 0.17869473 0.06597928 0.1669623 ]], shape=(1, 4), dtype=float32)\n",
      "[0.6, 0.1, 0.7, 0.1]\n",
      "tf.Tensor([[0.5855691  0.18046129 0.06709287 0.16687676]], shape=(1, 4), dtype=float32)\n",
      "[0.6, 0.0, 0.7, 0.1]\n",
      "tf.Tensor([[0.58836365 0.17869473 0.06597928 0.1669623 ]], shape=(1, 4), dtype=float32)\n",
      "[0.6, 0.1, 0.7, 0.1]\n",
      "tf.Tensor([[0.5855691  0.18046129 0.06709287 0.16687676]], shape=(1, 4), dtype=float32)\n",
      "[0.6, 0.0, 0.7, 0.1]\n",
      "tf.Tensor([[0.58836365 0.17869473 0.06597928 0.1669623 ]], shape=(1, 4), dtype=float32)\n",
      "[0.6, 0.1, 0.7, 0.1]\n",
      "tf.Tensor([[0.5855691  0.18046129 0.06709287 0.16687676]], shape=(1, 4), dtype=float32)\n",
      "[0.6, 0.0, 0.7, 0.1]\n",
      "tf.Tensor([[0.58836365 0.17869473 0.06597928 0.1669623 ]], shape=(1, 4), dtype=float32)\n",
      "[0.6, 0.1, 0.7, 0.1]\n",
      "tf.Tensor([[0.5855691  0.18046129 0.06709287 0.16687676]], shape=(1, 4), dtype=float32)\n",
      "[0.6, 0.0, 0.7, 0.1]\n",
      "tf.Tensor([[0.58836365 0.17869473 0.06597928 0.1669623 ]], shape=(1, 4), dtype=float32)\n",
      "[0.6, 0.1, 0.7, 0.1]\n",
      "tf.Tensor([[0.5855691  0.18046129 0.06709287 0.16687676]], shape=(1, 4), dtype=float32)\n",
      "[0.6, 0.0, 0.7, 0.1]\n",
      "tf.Tensor([[0.58836365 0.17869473 0.06597928 0.1669623 ]], shape=(1, 4), dtype=float32)\n",
      "[0.6, 0.1, 0.7, 0.1]\n",
      "tf.Tensor([[0.5855691  0.18046129 0.06709287 0.16687676]], shape=(1, 4), dtype=float32)\n",
      "[0.6, 0.0, 0.7, 0.1]\n",
      "tf.Tensor([[0.58836365 0.17869473 0.06597928 0.1669623 ]], shape=(1, 4), dtype=float32)\n",
      "[0.6, 0.1, 0.7, 0.1]\n",
      "tf.Tensor([[0.5855691  0.18046129 0.06709287 0.16687676]], shape=(1, 4), dtype=float32)\n",
      "[0.6, 0.0, 0.7, 0.1]\n",
      "tf.Tensor([[0.58836365 0.17869473 0.06597928 0.1669623 ]], shape=(1, 4), dtype=float32)\n"
     ]
    },
    {
     "name": "stderr",
     "output_type": "stream",
     "text": [
      "\r",
      "  2%|█▋                                                                     | 2301/100000 [1:29:56<73:41:27,  2.72s/it]"
     ]
    },
    {
     "name": "stdout",
     "output_type": "stream",
     "text": [
      "[0.6, 0.1, 0.7, 0.1]\n",
      "tf.Tensor([[0.5855691  0.18046129 0.06709287 0.16687676]], shape=(1, 4), dtype=float32)\n",
      "[0.6, 0.0, 0.7, 0.1]\n",
      "tf.Tensor([[0.58836365 0.17869473 0.06597928 0.1669623 ]], shape=(1, 4), dtype=float32)\n",
      "[0.6, 0.1, 0.7, 0.1]\n",
      "tf.Tensor([[0.5855691  0.18046129 0.06709287 0.16687676]], shape=(1, 4), dtype=float32)\n",
      "[0.6, 0.0, 0.7, 0.1]\n",
      "tf.Tensor([[0.58836365 0.17869473 0.06597928 0.1669623 ]], shape=(1, 4), dtype=float32)\n",
      "[0.6, 0.1, 0.7, 0.1]\n",
      "tf.Tensor([[0.5855691  0.18046129 0.06709287 0.16687676]], shape=(1, 4), dtype=float32)\n",
      "[0.6, 0.0, 0.7, 0.1]\n",
      "tf.Tensor([[0.58836365 0.17869473 0.06597928 0.1669623 ]], shape=(1, 4), dtype=float32)\n"
     ]
    },
    {
     "name": "stderr",
     "output_type": "stream",
     "text": [
      "  2%|█▋                                                                     | 2400/100000 [1:33:42<64:30:50,  2.38s/it]"
     ]
    },
    {
     "name": "stdout",
     "output_type": "stream",
     "text": [
      "-38.22097978818225\n",
      "41\n"
     ]
    },
    {
     "name": "stderr",
     "output_type": "stream",
     "text": [
      "  2%|█▊                                                                     | 2500/100000 [1:37:09<48:17:16,  1.78s/it]"
     ]
    },
    {
     "name": "stdout",
     "output_type": "stream",
     "text": [
      "-27.786771166233073\n",
      "49\n"
     ]
    },
    {
     "name": "stderr",
     "output_type": "stream",
     "text": [
      "\r",
      "  3%|█▊                                                                     | 2501/100000 [1:37:12<59:31:01,  2.20s/it]"
     ]
    },
    {
     "name": "stdout",
     "output_type": "stream",
     "text": [
      "[0.7, 0.0, 0.5, 0.7]\n",
      "tf.Tensor([[0.6390696  0.14188781 0.05735949 0.1616831 ]], shape=(1, 4), dtype=float32)\n",
      "[0.7, 0.1, 0.5, 0.7]\n",
      "tf.Tensor([[0.64747036 0.14486511 0.05218962 0.15547495]], shape=(1, 4), dtype=float32)\n",
      "[0.7, 0.2, 0.5, 0.7]\n",
      "tf.Tensor([[0.6533511  0.14758055 0.04853336 0.15053499]], shape=(1, 4), dtype=float32)\n",
      "[0.7, 0.3, 0.5, 0.7]\n",
      "tf.Tensor([[0.65880585 0.14868477 0.04620143 0.14630786]], shape=(1, 4), dtype=float32)\n",
      "[0.7, 0.4, 0.5, 0.7]\n",
      "tf.Tensor([[0.65858185 0.14804322 0.04652128 0.14685366]], shape=(1, 4), dtype=float32)\n",
      "[0.7, 0.5, 0.5, 0.7]\n",
      "tf.Tensor([[0.65846324 0.14726418 0.04681112 0.14746141]], shape=(1, 4), dtype=float32)\n",
      "[0.7, 0.6, 0.5, 0.7]\n",
      "tf.Tensor([[0.6515941  0.14906168 0.05181238 0.14753184]], shape=(1, 4), dtype=float32)\n",
      "[0.6, 0.6, 0.5, 0.7]\n",
      "tf.Tensor([[0.64104694 0.15121573 0.05756423 0.15017307]], shape=(1, 4), dtype=float32)\n",
      "[0.5, 0.6, 0.5, 0.7]\n",
      "tf.Tensor([[0.638281   0.15003885 0.05832486 0.1533553 ]], shape=(1, 4), dtype=float32)\n"
     ]
    },
    {
     "name": "stderr",
     "output_type": "stream",
     "text": [
      "  3%|█▊                                                                     | 2601/100000 [1:40:30<33:00:44,  1.22s/it]"
     ]
    },
    {
     "name": "stdout",
     "output_type": "stream",
     "text": [
      "-30.7346745859607\n",
      "45\n"
     ]
    },
    {
     "name": "stderr",
     "output_type": "stream",
     "text": [
      "  3%|█▉                                                                     | 2700/100000 [1:43:51<72:18:00,  2.68s/it]"
     ]
    },
    {
     "name": "stdout",
     "output_type": "stream",
     "text": [
      "-32.55099863060864\n",
      "53\n",
      "[0.1, 0.1, 0.7, 0.4]\n",
      "tf.Tensor([[0.6476494  0.13593242 0.05565082 0.16076735]], shape=(1, 4), dtype=float32)\n",
      "[0.2, 0.1, 0.7, 0.4]\n",
      "tf.Tensor([[0.6538364  0.13624632 0.05267105 0.15724617]], shape=(1, 4), dtype=float32)\n",
      "[0.2, 0.2, 0.7, 0.4]\n",
      "tf.Tensor([[0.65865904 0.13843077 0.04988265 0.1530275 ]], shape=(1, 4), dtype=float32)\n",
      "[0.3, 0.2, 0.7, 0.4]\n",
      "tf.Tensor([[0.6582916  0.14224236 0.04828232 0.1511838 ]], shape=(1, 4), dtype=float32)\n",
      "[0.4, 0.2, 0.7, 0.4]\n",
      "tf.Tensor([[0.6614219  0.14099824 0.04729708 0.15028282]], shape=(1, 4), dtype=float32)\n",
      "[0.4, 0.3, 0.7, 0.4]\n",
      "tf.Tensor([[0.6604497  0.14227627 0.04768547 0.14958853]], shape=(1, 4), dtype=float32)\n",
      "[0.5, 0.3, 0.7, 0.4]\n",
      "tf.Tensor([[0.65891767 0.1436772  0.04830031 0.14910477]], shape=(1, 4), dtype=float32)\n",
      "[0.6, 0.3, 0.7, 0.4]\n",
      "tf.Tensor([[0.6648568  0.14178783 0.04627023 0.14708516]], shape=(1, 4), dtype=float32)\n",
      "[0.6, 0.4, 0.7, 0.4]\n",
      "tf.Tensor([[0.6579609  0.14449768 0.04943152 0.14810987]], shape=(1, 4), dtype=float32)\n",
      "[0.6, 0.3, 0.7, 0.4]\n",
      "tf.Tensor([[0.6649749  0.14149998 0.04759933 0.14592575]], shape=(1, 4), dtype=float32)\n",
      "[0.6, 0.4, 0.7, 0.4]\n",
      "tf.Tensor([[0.65579516 0.14597364 0.05088908 0.14734215]], shape=(1, 4), dtype=float32)\n",
      "[0.6, 0.3, 0.7, 0.4]\n",
      "tf.Tensor([[0.65793866 0.14451636 0.05044136 0.14710358]], shape=(1, 4), dtype=float32)\n",
      "[0.6, 0.4, 0.7, 0.4]\n",
      "tf.Tensor([[0.65579516 0.14597364 0.05088908 0.14734215]], shape=(1, 4), dtype=float32)\n",
      "[0.6, 0.3, 0.7, 0.4]\n",
      "tf.Tensor([[0.65793866 0.14451636 0.05044136 0.14710358]], shape=(1, 4), dtype=float32)\n",
      "[0.6, 0.4, 0.7, 0.4]\n",
      "tf.Tensor([[0.65579516 0.14597364 0.05088908 0.14734215]], shape=(1, 4), dtype=float32)\n",
      "[0.6, 0.3, 0.7, 0.4]\n",
      "tf.Tensor([[0.65793866 0.14451636 0.05044136 0.14710358]], shape=(1, 4), dtype=float32)\n",
      "[0.6, 0.4, 0.7, 0.4]\n",
      "tf.Tensor([[0.65579516 0.14597364 0.05088908 0.14734215]], shape=(1, 4), dtype=float32)\n",
      "[0.6, 0.3, 0.7, 0.4]\n",
      "tf.Tensor([[0.65793866 0.14451636 0.05044136 0.14710358]], shape=(1, 4), dtype=float32)\n",
      "[0.6, 0.4, 0.7, 0.4]\n",
      "tf.Tensor([[0.65579516 0.14597364 0.05088908 0.14734215]], shape=(1, 4), dtype=float32)\n",
      "[0.6, 0.3, 0.7, 0.4]\n",
      "tf.Tensor([[0.65793866 0.14451636 0.05044136 0.14710358]], shape=(1, 4), dtype=float32)\n",
      "[0.6, 0.4, 0.7, 0.4]\n",
      "tf.Tensor([[0.65579516 0.14597364 0.05088908 0.14734215]], shape=(1, 4), dtype=float32)\n",
      "[0.6, 0.3, 0.7, 0.4]\n",
      "tf.Tensor([[0.65793866 0.14451636 0.05044136 0.14710358]], shape=(1, 4), dtype=float32)\n",
      "[0.6, 0.4, 0.7, 0.4]\n",
      "tf.Tensor([[0.65579516 0.14597364 0.05088908 0.14734215]], shape=(1, 4), dtype=float32)\n",
      "[0.6, 0.3, 0.7, 0.4]\n",
      "tf.Tensor([[0.65793866 0.14451636 0.05044136 0.14710358]], shape=(1, 4), dtype=float32)\n",
      "[0.6, 0.4, 0.7, 0.4]\n",
      "tf.Tensor([[0.65579516 0.14597364 0.05088908 0.14734215]], shape=(1, 4), dtype=float32)\n",
      "[0.6, 0.3, 0.7, 0.4]\n",
      "tf.Tensor([[0.65793866 0.14451636 0.05044136 0.14710358]], shape=(1, 4), dtype=float32)\n",
      "[0.6, 0.4, 0.7, 0.4]\n",
      "tf.Tensor([[0.65579516 0.14597364 0.05088908 0.14734215]], shape=(1, 4), dtype=float32)\n",
      "[0.6, 0.3, 0.7, 0.4]\n",
      "tf.Tensor([[0.65793866 0.14451636 0.05044136 0.14710358]], shape=(1, 4), dtype=float32)\n",
      "[0.6, 0.4, 0.7, 0.4]\n",
      "tf.Tensor([[0.65579516 0.14597364 0.05088908 0.14734215]], shape=(1, 4), dtype=float32)\n",
      "[0.6, 0.3, 0.7, 0.4]\n",
      "tf.Tensor([[0.65793866 0.14451636 0.05044136 0.14710358]], shape=(1, 4), dtype=float32)\n",
      "[0.6, 0.4, 0.7, 0.4]\n",
      "tf.Tensor([[0.65579516 0.14597364 0.05088908 0.14734215]], shape=(1, 4), dtype=float32)\n",
      "[0.6, 0.3, 0.7, 0.4]\n",
      "tf.Tensor([[0.65793866 0.14451636 0.05044136 0.14710358]], shape=(1, 4), dtype=float32)\n",
      "[0.6, 0.4, 0.7, 0.4]\n",
      "tf.Tensor([[0.65579516 0.14597364 0.05088908 0.14734215]], shape=(1, 4), dtype=float32)\n",
      "[0.6, 0.3, 0.7, 0.4]\n",
      "tf.Tensor([[0.65793866 0.14451636 0.05044136 0.14710358]], shape=(1, 4), dtype=float32)\n",
      "[0.6, 0.4, 0.7, 0.4]\n",
      "tf.Tensor([[0.65579516 0.14597364 0.05088908 0.14734215]], shape=(1, 4), dtype=float32)\n",
      "[0.6, 0.3, 0.7, 0.4]\n",
      "tf.Tensor([[0.65793866 0.14451636 0.05044136 0.14710358]], shape=(1, 4), dtype=float32)\n",
      "[0.6, 0.4, 0.7, 0.4]\n",
      "tf.Tensor([[0.65579516 0.14597364 0.05088908 0.14734215]], shape=(1, 4), dtype=float32)"
     ]
    },
    {
     "name": "stderr",
     "output_type": "stream",
     "text": [
      "\r",
      "  3%|█▉                                                                     | 2701/100000 [1:43:53<67:11:25,  2.49s/it]"
     ]
    },
    {
     "name": "stdout",
     "output_type": "stream",
     "text": [
      "\n",
      "[0.6, 0.3, 0.7, 0.4]\n",
      "tf.Tensor([[0.65793866 0.14451636 0.05044136 0.14710358]], shape=(1, 4), dtype=float32)\n",
      "[0.6, 0.4, 0.7, 0.4]\n",
      "tf.Tensor([[0.65579516 0.14597364 0.05088908 0.14734215]], shape=(1, 4), dtype=float32)\n",
      "[0.6, 0.3, 0.7, 0.4]\n",
      "tf.Tensor([[0.65793866 0.14451636 0.05044136 0.14710358]], shape=(1, 4), dtype=float32)\n"
     ]
    },
    {
     "name": "stderr",
     "output_type": "stream",
     "text": [
      "  3%|█▉                                                                     | 2801/100000 [1:47:10<42:18:43,  1.57s/it]"
     ]
    },
    {
     "name": "stdout",
     "output_type": "stream",
     "text": [
      "-27.58257844100439\n",
      "48\n"
     ]
    },
    {
     "name": "stderr",
     "output_type": "stream",
     "text": [
      "  3%|██                                                                     | 2901/100000 [1:50:23<67:01:37,  2.49s/it]"
     ]
    },
    {
     "name": "stdout",
     "output_type": "stream",
     "text": [
      "-33.34654648815528\n",
      "52\n",
      "[0.7, 0.0, 0.5, 0.7]\n",
      "tf.Tensor([[0.6643902  0.13554116 0.05101142 0.14905721]], shape=(1, 4), dtype=float32)\n",
      "[0.7, 0.1, 0.5, 0.7]\n",
      "tf.Tensor([[0.6773022  0.13633904 0.04598451 0.14037429]], shape=(1, 4), dtype=float32)\n",
      "[0.7, 0.2, 0.5, 0.7]\n",
      "tf.Tensor([[0.68517464 0.1381448  0.04230033 0.13438024]], shape=(1, 4), dtype=float32)\n",
      "[0.7, 0.3, 0.5, 0.7]\n",
      "tf.Tensor([[0.69102675 0.13951166 0.03980642 0.12965521]], shape=(1, 4), dtype=float32)\n",
      "[0.7, 0.4, 0.5, 0.7]\n",
      "tf.Tensor([[0.69019663 0.13928734 0.04019144 0.13032459]], shape=(1, 4), dtype=float32)\n",
      "[0.7, 0.5, 0.5, 0.7]\n",
      "tf.Tensor([[0.68947005 0.13892287 0.04054695 0.13106012]], shape=(1, 4), dtype=float32)\n",
      "[0.7, 0.6, 0.5, 0.7]\n",
      "tf.Tensor([[0.6811483  0.14149424 0.0450553  0.13230217]], shape=(1, 4), dtype=float32)\n",
      "[0.6, 0.6, 0.5, 0.7]\n",
      "tf.Tensor([[0.67848915 0.14087844 0.04583913 0.13479319]], shape=(1, 4), dtype=float32)\n",
      "[0.6, 0.7, 0.5, 0.7]\n",
      "tf.Tensor([[0.6686147  0.14367788 0.05017347 0.13753393]], shape=(1, 4), dtype=float32)\n"
     ]
    },
    {
     "name": "stderr",
     "output_type": "stream",
     "text": [
      "  3%|██▏                                                                    | 3001/100000 [1:53:31<55:13:28,  2.05s/it]"
     ]
    },
    {
     "name": "stdout",
     "output_type": "stream",
     "text": [
      "-23.067249008155617\n",
      "64\n"
     ]
    },
    {
     "name": "stderr",
     "output_type": "stream",
     "text": [
      "  3%|██▏                                                                    | 3101/100000 [1:56:48<40:06:21,  1.49s/it]"
     ]
    },
    {
     "name": "stdout",
     "output_type": "stream",
     "text": [
      "-27.821814235250244\n",
      "55\n",
      "[0.5, 0.6, 0.2, 0.9]\n",
      "tf.Tensor([[0.6773504  0.13396873 0.04643115 0.1422498 ]], shape=(1, 4), dtype=float32)\n",
      "[0.5, 0.7, 0.2, 0.9]\n",
      "tf.Tensor([[0.67622894 0.13918614 0.04629987 0.13828504]], shape=(1, 4), dtype=float32)\n",
      "[0.4, 0.7, 0.2, 0.9]\n",
      "tf.Tensor([[0.68566805 0.13694745 0.04417651 0.13320805]], shape=(1, 4), dtype=float32)\n",
      "[0.4, 0.8, 0.2, 0.9]\n",
      "tf.Tensor([[0.6845921  0.13966513 0.04483168 0.13091107]], shape=(1, 4), dtype=float32)\n",
      "[0.3, 0.8, 0.2, 0.9]\n",
      "tf.Tensor([[0.67021596 0.14441913 0.04899484 0.13637002]], shape=(1, 4), dtype=float32)\n",
      "[0.2, 0.8, 0.2, 0.9]\n",
      "tf.Tensor([[0.68063605 0.13874418 0.04607068 0.13454902]], shape=(1, 4), dtype=float32)\n"
     ]
    },
    {
     "name": "stderr",
     "output_type": "stream",
     "text": [
      "  3%|██▎                                                                    | 3201/100000 [1:59:45<46:39:54,  1.74s/it]"
     ]
    },
    {
     "name": "stdout",
     "output_type": "stream",
     "text": [
      "-27.67794216607395\n",
      "62\n"
     ]
    },
    {
     "name": "stderr",
     "output_type": "stream",
     "text": [
      "  3%|██▎                                                                    | 3301/100000 [2:02:51<56:17:30,  2.10s/it]"
     ]
    },
    {
     "name": "stdout",
     "output_type": "stream",
     "text": [
      "-26.00616141496696\n",
      "59\n",
      "[0.1, 0.9, 0.1, 0.1]\n",
      "tf.Tensor([[0.67194104 0.13882867 0.04935709 0.13987318]], shape=(1, 4), dtype=float32)\n",
      "[0.1, 0.8, 0.1, 0.1]\n",
      "tf.Tensor([[0.66800505 0.1440457  0.0490662  0.13888298]], shape=(1, 4), dtype=float32)\n",
      "[0.1, 0.7, 0.1, 0.1]\n",
      "tf.Tensor([[0.66037536 0.15047675 0.04956878 0.13957915]], shape=(1, 4), dtype=float32)\n",
      "[0.1, 0.6, 0.1, 0.1]\n",
      "tf.Tensor([[0.647134   0.15908353 0.05108812 0.14269435]], shape=(1, 4), dtype=float32)\n",
      "[0.1, 0.5, 0.1, 0.1]\n",
      "tf.Tensor([[0.64083505 0.16207708 0.05261905 0.1444688 ]], shape=(1, 4), dtype=float32)\n",
      "[0.1, 0.4, 0.1, 0.1]\n",
      "tf.Tensor([[0.6360485  0.16454293 0.05394863 0.14546   ]], shape=(1, 4), dtype=float32)\n",
      "[0.1, 0.3, 0.1, 0.1]\n",
      "tf.Tensor([[0.63293254 0.16617873 0.05515157 0.14573708]], shape=(1, 4), dtype=float32)\n",
      "[0.1, 0.2, 0.1, 0.1]\n",
      "tf.Tensor([[0.6315978  0.16695994 0.05603568 0.14540657]], shape=(1, 4), dtype=float32)\n"
     ]
    },
    {
     "name": "stderr",
     "output_type": "stream",
     "text": [
      "  3%|██▍                                                                    | 3401/100000 [2:05:46<59:34:38,  2.22s/it]"
     ]
    },
    {
     "name": "stdout",
     "output_type": "stream",
     "text": [
      "-19.270704386831472\n",
      "68\n"
     ]
    },
    {
     "name": "stderr",
     "output_type": "stream",
     "text": [
      "  4%|██▍                                                                    | 3500/100000 [2:08:27<30:04:42,  1.12s/it]"
     ]
    },
    {
     "name": "stdout",
     "output_type": "stream",
     "text": [
      "-18.943469401954985\n",
      "75\n",
      "[0.8, 0.1, 0.5, 0.7]\n",
      "tf.Tensor([[0.7794896  0.09552266 0.03271415 0.09227365]], shape=(1, 4), dtype=float32)\n",
      "[0.8, 0.2, 0.5, 0.7]\n",
      "tf.Tensor([[0.79974025 0.09143058 0.02729102 0.08153808]], shape=(1, 4), dtype=float32)\n",
      "[0.8, 0.3, 0.5, 0.7]\n",
      "tf.Tensor([[0.8130588  0.08918843 0.02349246 0.0742603 ]], shape=(1, 4), dtype=float32)\n",
      "[0.8, 0.4, 0.5, 0.7]\n",
      "tf.Tensor([[0.8231858  0.08708082 0.02077011 0.06896329]], shape=(1, 4), dtype=float32)\n",
      "[0.8, 0.5, 0.5, 0.7]\n",
      "tf.Tensor([[0.8157288  0.08997103 0.02369859 0.0706016 ]], shape=(1, 4), dtype=float32)\n",
      "[0.7, 0.5, 0.5, 0.7]\n",
      "tf.Tensor([[0.8128737  0.0907921  0.02410065 0.07223353]], shape=(1, 4), dtype=float32)\n",
      "[0.7, 0.6, 0.5, 0.7]\n",
      "tf.Tensor([[0.80277747 0.09457494 0.0271849  0.0754627 ]], shape=(1, 4), dtype=float32)\n",
      "[0.6, 0.6, 0.5, 0.7]\n",
      "tf.Tensor([[0.7881028  0.09991106 0.03077347 0.08121261]], shape=(1, 4), dtype=float32)\n",
      "[0.5, 0.6, 0.5, 0.7]\n"
     ]
    },
    {
     "name": "stderr",
     "output_type": "stream",
     "text": [
      "\r",
      "  4%|██▍                                                                    | 3501/100000 [2:08:29<44:32:38,  1.66s/it]"
     ]
    },
    {
     "name": "stdout",
     "output_type": "stream",
     "text": [
      "tf.Tensor([[0.7949891  0.09638751 0.02861583 0.08000753]], shape=(1, 4), dtype=float32)\n"
     ]
    },
    {
     "name": "stderr",
     "output_type": "stream",
     "text": [
      "  4%|██▌                                                                    | 3601/100000 [2:10:50<42:44:23,  1.60s/it]"
     ]
    },
    {
     "name": "stdout",
     "output_type": "stream",
     "text": [
      "-16.32483307810363\n",
      "80\n"
     ]
    },
    {
     "name": "stderr",
     "output_type": "stream",
     "text": [
      "  4%|██▋                                                                    | 3701/100000 [2:13:36<69:11:12,  2.59s/it]"
     ]
    },
    {
     "name": "stdout",
     "output_type": "stream",
     "text": [
      "-24.282772304582068\n",
      "83\n",
      "[0.2, 0.5, 0.1, 0.1]\n",
      "tf.Tensor([[0.7873509  0.08758755 0.03200363 0.09305792]], shape=(1, 4), dtype=float32)\n",
      "[0.2, 0.4, 0.1, 0.1]\n",
      "tf.Tensor([[0.7866985  0.09071731 0.03128184 0.09130231]], shape=(1, 4), dtype=float32)\n",
      "[0.2, 0.3, 0.1, 0.1]\n",
      "tf.Tensor([[0.7835738  0.09480442 0.0311108  0.09051098]], shape=(1, 4), dtype=float32)\n",
      "[0.2, 0.2, 0.1, 0.1]\n",
      "tf.Tensor([[0.77675974 0.10061058 0.0315073  0.09112241]], shape=(1, 4), dtype=float32)\n",
      "[0.2, 0.1, 0.1, 0.1]\n",
      "tf.Tensor([[0.7893335  0.09423798 0.03035102 0.08607745]], shape=(1, 4), dtype=float32)\n"
     ]
    },
    {
     "name": "stderr",
     "output_type": "stream",
     "text": [
      "  4%|██▋                                                                    | 3800/100000 [2:15:54<31:54:33,  1.19s/it]"
     ]
    },
    {
     "name": "stdout",
     "output_type": "stream",
     "text": [
      "-14.926300207031428\n",
      "84\n"
     ]
    },
    {
     "name": "stderr",
     "output_type": "stream",
     "text": [
      "  4%|██▊                                                                    | 3901/100000 [2:17:59<30:01:06,  1.12s/it]"
     ]
    },
    {
     "name": "stdout",
     "output_type": "stream",
     "text": [
      "-13.14490249143811\n",
      "85\n",
      "[0.3, 0.6, 0.7, 0.4]\n",
      "tf.Tensor([[0.84537935 0.06858458 0.02203101 0.06400514]], shape=(1, 4), dtype=float32)\n",
      "[0.4, 0.6, 0.7, 0.4]\n",
      "tf.Tensor([[0.86181736 0.06377649 0.01834641 0.0560597 ]], shape=(1, 4), dtype=float32)\n",
      "[0.5, 0.6, 0.7, 0.4]\n",
      "tf.Tensor([[0.8631424  0.06557608 0.01715192 0.05412962]], shape=(1, 4), dtype=float32)\n",
      "[0.5, 0.5, 0.7, 0.4]\n",
      "tf.Tensor([[0.877366   0.06031569 0.0144863  0.04783196]], shape=(1, 4), dtype=float32)\n",
      "[0.6, 0.5, 0.7, 0.4]\n",
      "tf.Tensor([[0.8661621  0.06635606 0.01608691 0.05139494]], shape=(1, 4), dtype=float32)\n",
      "[0.6, 0.4, 0.7, 0.4]\n",
      "tf.Tensor([[0.86762357 0.06546307 0.01593769 0.05097564]], shape=(1, 4), dtype=float32)\n"
     ]
    },
    {
     "name": "stderr",
     "output_type": "stream",
     "text": [
      "  4%|██▊                                                                    | 4000/100000 [2:19:49<19:29:30,  1.37it/s]"
     ]
    },
    {
     "name": "stdout",
     "output_type": "stream",
     "text": [
      "-6.3004580897968765\n",
      "92\n"
     ]
    },
    {
     "name": "stderr",
     "output_type": "stream",
     "text": [
      "  4%|██▉                                                                    | 4100/100000 [2:21:27<38:45:07,  1.45s/it]"
     ]
    },
    {
     "name": "stdout",
     "output_type": "stream",
     "text": [
      "-11.825712457807425\n",
      "96\n",
      "[0.0, 0.0, 0.2, 0.9]\n",
      "tf.Tensor([[0.8556573  0.06284003 0.02057244 0.06093029]], shape=(1, 4), dtype=float32)\n",
      "[0.0, 0.1, 0.2, 0.9]\n",
      "tf.Tensor([[0.87268627 0.05690219 0.01686449 0.05354705]], shape=(1, 4), dtype=float32)\n",
      "[0.0, 0.2, 0.2, 0.9]\n",
      "tf.Tensor([[0.8872345  0.05164167 0.01393596 0.04718786]], shape=(1, 4), dtype=float32)\n",
      "[0.0, 0.3, 0.2, 0.9]\n",
      "tf.Tensor([[0.8993044  0.04715964 0.01167968 0.0418562 ]], shape=(1, 4), dtype=float32)\n",
      "[0.0, 0.4, 0.2, 0.9]\n",
      "tf.Tensor([[0.89993197 0.04682034 0.01159461 0.0416531 ]], shape=(1, 4), dtype=float32)\n",
      "[0.0, 0.5, 0.2, 0.9]\n",
      "tf.Tensor([[0.90107054 0.04629411 0.01140234 0.041233  ]], shape=(1, 4), dtype=float32)\n",
      "[0.0, 0.6, 0.2, 0.9]\n",
      "tf.Tensor([[0.90237916 0.04573086 0.01115447 0.04073543]], shape=(1, 4), dtype=float32)\n",
      "[0.0, 0.7, 0.2, 0.9]\n"
     ]
    },
    {
     "name": "stderr",
     "output_type": "stream",
     "text": [
      "\r",
      "  4%|██▉                                                                    | 4101/100000 [2:21:28<40:27:07,  1.52s/it]"
     ]
    },
    {
     "name": "stdout",
     "output_type": "stream",
     "text": [
      "tf.Tensor([[0.9040555  0.04500585 0.01081754 0.04012117]], shape=(1, 4), dtype=float32)\n",
      "[0.0, 0.8, 0.2, 0.9]\n",
      "tf.Tensor([[0.9080534  0.04391626 0.01047675 0.03755357]], shape=(1, 4), dtype=float32)\n",
      "[0.1, 0.8, 0.2, 0.9]\n",
      "tf.Tensor([[0.908358   0.0443134  0.010435   0.03689361]], shape=(1, 4), dtype=float32)\n",
      "[0.2, 0.8, 0.2, 0.9]\n",
      "tf.Tensor([[0.90865123 0.0439903  0.01007165 0.03728681]], shape=(1, 4), dtype=float32)\n"
     ]
    },
    {
     "name": "stderr",
     "output_type": "stream",
     "text": [
      "  4%|██▉                                                                    | 4201/100000 [2:23:30<41:27:13,  1.56s/it]"
     ]
    },
    {
     "name": "stdout",
     "output_type": "stream",
     "text": [
      "-11.761597115949263\n",
      "94\n"
     ]
    },
    {
     "name": "stderr",
     "output_type": "stream",
     "text": [
      "  4%|███                                                                    | 4300/100000 [2:25:16<41:41:51,  1.57s/it]"
     ]
    },
    {
     "name": "stdout",
     "output_type": "stream",
     "text": [
      "-7.227444513371205\n",
      "98\n",
      "[0.9, 0.1, 0.2, 0.9]\n",
      "tf.Tensor([[0.90963405 0.04112668 0.0116748  0.03756444]], shape=(1, 4), dtype=float32)\n",
      "[0.9, 0.2, 0.2, 0.9]\n",
      "tf.Tensor([[0.93776405 0.02996829 0.00675423 0.02551344]], shape=(1, 4), dtype=float32)\n",
      "[0.9, 0.3, 0.2, 0.9]\n",
      "tf.Tensor([[0.95481867 0.02251257 0.00405695 0.01861191]], shape=(1, 4), dtype=float32)\n",
      "[0.9, 0.4, 0.2, 0.9]\n",
      "tf.Tensor([[0.9614577  0.0197347  0.00326075 0.01554687]], shape=(1, 4), dtype=float32)\n",
      "[0.8, 0.4, 0.2, 0.9]\n",
      "tf.Tensor([[0.9612075  0.01969363 0.00327883 0.01582009]], shape=(1, 4), dtype=float32)\n",
      "[0.8, 0.5, 0.2, 0.9]\n",
      "tf.Tensor([[0.9553416  0.02268919 0.0041294  0.01783982]], shape=(1, 4), dtype=float32)\n",
      "[0.7, 0.5, 0.2, 0.9]\n",
      "tf.Tensor([[0.94724214 0.02653326 0.00531137 0.02091319]], shape=(1, 4), dtype=float32)\n",
      "[0.6, 0.5, 0.2, 0.9]\n",
      "tf.Tensor([[0.95124865 0.02447757 0.00466659 0.01960724]], shape=(1, 4), dtype=float32)\n",
      "[0.6, 0.6, 0.2, 0.9]\n",
      "tf.Tensor([[0.942322   0.02889704 0.0059643  0.02281668]], shape=(1, 4), dtype=float32)\n",
      "[0.5, 0.6, 0.2, 0.9]\n"
     ]
    },
    {
     "name": "stderr",
     "output_type": "stream",
     "text": [
      "\r",
      "  4%|███                                                                    | 4301/100000 [2:25:16<34:50:33,  1.31s/it]"
     ]
    },
    {
     "name": "stdout",
     "output_type": "stream",
     "text": [
      "tf.Tensor([[0.946157   0.02691404 0.00535093 0.02157807]], shape=(1, 4), dtype=float32)\n",
      "[0.5, 0.7, 0.2, 0.9]\n",
      "tf.Tensor([[0.94580495 0.02736364 0.0054049  0.0214265 ]], shape=(1, 4), dtype=float32)\n",
      "[0.4, 0.7, 0.2, 0.9]\n",
      "tf.Tensor([[0.94286484 0.02832688 0.0058002  0.02300815]], shape=(1, 4), dtype=float32)\n",
      "[0.4, 0.8, 0.2, 0.9]\n",
      "tf.Tensor([[0.9429674  0.028512   0.00579198 0.02272854]], shape=(1, 4), dtype=float32)\n",
      "[0.3, 0.8, 0.2, 0.9]\n",
      "tf.Tensor([[0.93458366 0.03243595 0.00705085 0.02592955]], shape=(1, 4), dtype=float32)\n",
      "[0.2, 0.8, 0.2, 0.9]\n",
      "tf.Tensor([[0.93862635 0.03004893 0.0063962  0.02492842]], shape=(1, 4), dtype=float32)\n"
     ]
    },
    {
     "name": "stderr",
     "output_type": "stream",
     "text": [
      "  4%|███                                                                    | 4401/100000 [2:26:44<23:24:53,  1.13it/s]"
     ]
    },
    {
     "name": "stdout",
     "output_type": "stream",
     "text": [
      "-6.441928020384196\n",
      "99\n"
     ]
    },
    {
     "name": "stderr",
     "output_type": "stream",
     "text": [
      "  5%|███▏                                                                   | 4501/100000 [2:28:11<16:50:25,  1.58it/s]"
     ]
    },
    {
     "name": "stdout",
     "output_type": "stream",
     "text": [
      "-3.2831217947644653\n",
      "97\n",
      "[0.1, 0.6, 0.6, 0.2]\n",
      "tf.Tensor([[0.887069   0.0526992  0.01579561 0.04443622]], shape=(1, 4), dtype=float32)\n",
      "[0.2, 0.6, 0.6, 0.2]\n",
      "tf.Tensor([[0.89764595 0.04996007 0.01290067 0.0394933 ]], shape=(1, 4), dtype=float32)\n",
      "[0.2, 0.5, 0.6, 0.2]\n",
      "tf.Tensor([[0.9209188  0.04006136 0.00887274 0.03014709]], shape=(1, 4), dtype=float32)\n",
      "[0.3, 0.5, 0.6, 0.2]\n",
      "tf.Tensor([[0.9280637  0.0377703  0.00729922 0.02686685]], shape=(1, 4), dtype=float32)\n",
      "[0.3, 0.4, 0.6, 0.2]\n",
      "tf.Tensor([[0.9291562  0.03700316 0.00725408 0.02658651]], shape=(1, 4), dtype=float32)\n",
      "[0.4, 0.4, 0.6, 0.2]\n",
      "tf.Tensor([[0.92829967 0.03782931 0.00724266 0.02662825]], shape=(1, 4), dtype=float32)\n",
      "[0.4, 0.3, 0.6, 0.2]\n",
      "tf.Tensor([[0.9295948  0.03695316 0.00714155 0.02631046]], shape=(1, 4), dtype=float32)\n",
      "[0.5, 0.3, 0.6, 0.2]\n",
      "tf.Tensor([[0.92948145 0.03742025 0.00705348 0.02604485]], shape=(1, 4), dtype=float32)\n",
      "[0.5, 0.2, 0.6, 0.2]\n",
      "tf.Tensor([[0.9309495  0.03643882 0.0068986  0.02571308]], shape=(1, 4), dtype=float32)\n"
     ]
    },
    {
     "name": "stderr",
     "output_type": "stream",
     "text": [
      "  5%|███▎                                                                   | 4601/100000 [2:29:33<21:53:21,  1.21it/s]"
     ]
    },
    {
     "name": "stdout",
     "output_type": "stream",
     "text": [
      "-5.171803318710328\n",
      "97\n"
     ]
    },
    {
     "name": "stderr",
     "output_type": "stream",
     "text": [
      "  5%|███▎                                                                   | 4700/100000 [2:30:59<23:55:48,  1.11it/s]"
     ]
    },
    {
     "name": "stdout",
     "output_type": "stream",
     "text": [
      "-4.84224920341076\n",
      "100\n"
     ]
    },
    {
     "name": "stderr",
     "output_type": "stream",
     "text": [
      "\r",
      "  5%|███▎                                                                   | 4701/100000 [2:31:00<25:22:06,  1.04it/s]"
     ]
    },
    {
     "name": "stdout",
     "output_type": "stream",
     "text": [
      "[0.1, 0.4, 0.7, 0.1]\n",
      "tf.Tensor([[0.8650047  0.06538507 0.0198883  0.04972192]], shape=(1, 4), dtype=float32)\n",
      "[0.2, 0.4, 0.7, 0.1]\n",
      "tf.Tensor([[0.89364594 0.05432099 0.01377608 0.03825705]], shape=(1, 4), dtype=float32)\n",
      "[0.3, 0.4, 0.7, 0.1]\n",
      "tf.Tensor([[0.9177021  0.04399713 0.00923883 0.02906197]], shape=(1, 4), dtype=float32)\n",
      "[0.4, 0.4, 0.7, 0.1]\n",
      "tf.Tensor([[0.9274623  0.04023934 0.00716252 0.02513584]], shape=(1, 4), dtype=float32)\n",
      "[0.4, 0.3, 0.7, 0.1]\n",
      "tf.Tensor([[0.9301018  0.03864632 0.00686722 0.02438467]], shape=(1, 4), dtype=float32)\n",
      "[0.5, 0.3, 0.7, 0.1]\n",
      "tf.Tensor([[0.9218676  0.04347882 0.00783563 0.026818  ]], shape=(1, 4), dtype=float32)\n",
      "[0.5, 0.2, 0.7, 0.1]\n",
      "tf.Tensor([[0.9235597  0.04235478 0.00764981 0.02643563]], shape=(1, 4), dtype=float32)\n",
      "[0.6, 0.2, 0.7, 0.1]\n",
      "tf.Tensor([[0.9238606  0.0426241  0.00752428 0.02599103]], shape=(1, 4), dtype=float32)\n",
      "[0.6, 0.1, 0.7, 0.1]\n",
      "tf.Tensor([[0.9262811  0.04107783 0.00720824 0.02543282]], shape=(1, 4), dtype=float32)\n"
     ]
    },
    {
     "name": "stderr",
     "output_type": "stream",
     "text": [
      "  5%|███▍                                                                   | 4801/100000 [2:32:21<32:46:08,  1.24s/it]"
     ]
    },
    {
     "name": "stdout",
     "output_type": "stream",
     "text": [
      "-4.726665375589729\n",
      "100\n"
     ]
    },
    {
     "name": "stderr",
     "output_type": "stream",
     "text": [
      "  5%|███▍                                                                   | 4901/100000 [2:33:44<20:29:15,  1.29it/s]"
     ]
    },
    {
     "name": "stdout",
     "output_type": "stream",
     "text": [
      "-0.47412616535867513\n",
      "99\n",
      "[0.3, 0.2, 0.1, 0.1]\n",
      "tf.Tensor([[0.85880685 0.06770474 0.02248827 0.05100009]], shape=(1, 4), dtype=float32)\n",
      "[0.2, 0.2, 0.1, 0.1]\n",
      "tf.Tensor([[0.88276106 0.05895621 0.01692968 0.04135304]], shape=(1, 4), dtype=float32)\n",
      "[0.1, 0.2, 0.1, 0.1]\n",
      "tf.Tensor([[0.89355487 0.05590081 0.01403076 0.03651351]], shape=(1, 4), dtype=float32)\n"
     ]
    },
    {
     "name": "stderr",
     "output_type": "stream",
     "text": [
      "  5%|███▌                                                                   | 5001/100000 [2:35:06<19:06:04,  1.38it/s]"
     ]
    },
    {
     "name": "stdout",
     "output_type": "stream",
     "text": [
      "-0.5348607007570384\n",
      "99\n"
     ]
    },
    {
     "name": "stderr",
     "output_type": "stream",
     "text": [
      "  5%|███▌                                                                   | 5101/100000 [2:36:15<20:56:02,  1.26it/s]"
     ]
    },
    {
     "name": "stdout",
     "output_type": "stream",
     "text": [
      "-0.35132503107737323\n",
      "100\n",
      "[0.0, 0.7, 0.2, 0.9]\n",
      "tf.Tensor([[0.86242956 0.06600743 0.02197752 0.0495855 ]], shape=(1, 4), dtype=float32)\n",
      "[0.0, 0.8, 0.2, 0.9]\n",
      "tf.Tensor([[0.9007228  0.050906   0.01379694 0.03457421]], shape=(1, 4), dtype=float32)\n",
      "[0.1, 0.8, 0.2, 0.9]\n",
      "tf.Tensor([[0.9290816  0.03836504 0.0084204  0.02413294]], shape=(1, 4), dtype=float32)\n",
      "[0.2, 0.8, 0.2, 0.9]\n",
      "tf.Tensor([[0.95049715 0.02777353 0.00481774 0.01691159]], shape=(1, 4), dtype=float32)\n"
     ]
    },
    {
     "name": "stderr",
     "output_type": "stream",
     "text": [
      "  5%|███▋                                                                   | 5201/100000 [2:37:25<17:15:22,  1.53it/s]"
     ]
    },
    {
     "name": "stdout",
     "output_type": "stream",
     "text": [
      "-0.7287010048576994\n",
      "100\n"
     ]
    },
    {
     "name": "stderr",
     "output_type": "stream",
     "text": [
      "  5%|███▊                                                                   | 5301/100000 [2:38:35<22:39:14,  1.16it/s]"
     ]
    },
    {
     "name": "stdout",
     "output_type": "stream",
     "text": [
      "-1.272186001236309\n",
      "100\n",
      "[0.8, 0.4, 0.5, 0.7]\n",
      "tf.Tensor([[0.88221145 0.06002856 0.01724177 0.0405183 ]], shape=(1, 4), dtype=float32)\n",
      "[0.8, 0.5, 0.5, 0.7]\n",
      "tf.Tensor([[0.9202753  0.04342245 0.00963599 0.02666632]], shape=(1, 4), dtype=float32)\n",
      "[0.7, 0.5, 0.5, 0.7]\n",
      "tf.Tensor([[0.9540022  0.02649244 0.00424218 0.01526313]], shape=(1, 4), dtype=float32)\n",
      "[0.7, 0.6, 0.5, 0.7]\n",
      "tf.Tensor([[0.96789485 0.01930507 0.00245985 0.01034034]], shape=(1, 4), dtype=float32)\n",
      "[0.6, 0.6, 0.5, 0.7]\n",
      "tf.Tensor([[0.96079755 0.02323531 0.0033234  0.01264376]], shape=(1, 4), dtype=float32)\n",
      "[0.5, 0.6, 0.5, 0.7]\n",
      "tf.Tensor([[0.9640705  0.02130308 0.00288881 0.01173762]], shape=(1, 4), dtype=float32)\n"
     ]
    },
    {
     "name": "stderr",
     "output_type": "stream",
     "text": [
      "  5%|███▊                                                                   | 5401/100000 [2:39:43<12:24:56,  2.12it/s]"
     ]
    },
    {
     "name": "stdout",
     "output_type": "stream",
     "text": [
      "0.31156301362994876\n",
      "99\n"
     ]
    },
    {
     "name": "stderr",
     "output_type": "stream",
     "text": [
      "  6%|███▉                                                                   | 5500/100000 [2:40:54<24:23:51,  1.08it/s]"
     ]
    },
    {
     "name": "stdout",
     "output_type": "stream",
     "text": [
      "-0.3073287556715284\n",
      "100\n",
      "[0.0, 0.8, 0.7, 0.1]\n",
      "tf.Tensor([[0.84167814 0.07604048 0.02649557 0.05578579]], shape=(1, 4), dtype=float32)\n",
      "[0.0, 0.7, 0.7, 0.1]\n",
      "tf.Tensor([[0.892513   0.05512566 0.01536837 0.03699294]], shape=(1, 4), dtype=float32)\n",
      "[0.1, 0.7, 0.7, 0.1]\n",
      "tf.Tensor([[0.9177813  0.04443705 0.00982362 0.02795809]], shape=(1, 4), dtype=float32)\n",
      "[0.1, 0.6, 0.7, 0.1]\n",
      "tf.Tensor([[0.94862604 0.02893081 0.00503539 0.01740785]], shape=(1, 4), dtype=float32)\n",
      "[0.2, 0.6, 0.7, 0.1]\n",
      "tf.Tensor([[0.94647884 0.03035573 0.0051791  0.01798632]], shape=(1, 4), dtype=float32)\n",
      "[0.2, 0.5, 0.7, 0.1]\n",
      "tf.Tensor([[0.9473027  0.02972507 0.0051688  0.01780344]], shape=(1, 4), dtype=float32)\n",
      "[0.3, 0.5, 0.7, 0.1]\n",
      "tf.Tensor([[0.94580615 0.03083328 0.0052396  0.01812093]], shape=(1, 4), dtype=float32)\n",
      "[0.3, 0.4, 0.7, 0.1]\n",
      "tf.Tensor([[0.9468755  0.03006686 0.00518151 0.01787608]], shape=(1, 4), dtype=float32)\n",
      "[0.4, 0.4, 0.7, 0.1]\n",
      "tf.Tensor([[0.946493   0.0306016  0.00512259 0.01778277]], shape=(1, 4), dtype=float32)\n",
      "[0.4, 0.3, 0.7, 0.1]\n"
     ]
    },
    {
     "name": "stderr",
     "output_type": "stream",
     "text": [
      "\r",
      "  6%|███▉                                                                   | 5501/100000 [2:40:54<21:39:11,  1.21it/s]"
     ]
    },
    {
     "name": "stdout",
     "output_type": "stream",
     "text": [
      "tf.Tensor([[0.9477715  0.02971513 0.00501745 0.01749597]], shape=(1, 4), dtype=float32)\n",
      "[0.5, 0.3, 0.7, 0.1]\n",
      "tf.Tensor([[0.9479223  0.02997058 0.00491007 0.01719702]], shape=(1, 4), dtype=float32)\n",
      "[0.5, 0.2, 0.7, 0.1]\n",
      "tf.Tensor([[0.9493526  0.02899014 0.00476551 0.01689169]], shape=(1, 4), dtype=float32)\n",
      "[0.6, 0.2, 0.7, 0.1]\n",
      "tf.Tensor([[0.9496132  0.02918196 0.00466829 0.01653653]], shape=(1, 4), dtype=float32)\n",
      "[0.6, 0.1, 0.7, 0.1]\n",
      "tf.Tensor([[0.9516609  0.02783864 0.00442629 0.01607427]], shape=(1, 4), dtype=float32)\n"
     ]
    },
    {
     "name": "stderr",
     "output_type": "stream",
     "text": [
      "  6%|███▉                                                                   | 5601/100000 [2:42:03<21:45:48,  1.20it/s]"
     ]
    },
    {
     "name": "stdout",
     "output_type": "stream",
     "text": [
      "-0.10276499589767102\n",
      "100\n"
     ]
    },
    {
     "name": "stderr",
     "output_type": "stream",
     "text": [
      "  6%|████                                                                   | 5701/100000 [2:43:09<24:31:23,  1.07it/s]"
     ]
    },
    {
     "name": "stdout",
     "output_type": "stream",
     "text": [
      "1.1808931822031374\n",
      "100\n",
      "[0.7, 0.3, 0.2, 0.9]\n",
      "tf.Tensor([[0.8708097  0.06488451 0.02010395 0.0442018 ]], shape=(1, 4), dtype=float32)\n",
      "[0.7, 0.4, 0.2, 0.9]\n",
      "tf.Tensor([[0.9307197  0.03791826 0.00801982 0.02334222]], shape=(1, 4), dtype=float32)\n",
      "[0.7, 0.5, 0.2, 0.9]\n",
      "tf.Tensor([[0.9633774  0.02137851 0.00310573 0.0121384 ]], shape=(1, 4), dtype=float32)\n",
      "[0.7, 0.6, 0.2, 0.9]\n",
      "tf.Tensor([[0.97584414 0.01477048 0.00165913 0.00772621]], shape=(1, 4), dtype=float32)\n",
      "[0.6, 0.6, 0.2, 0.9]\n",
      "tf.Tensor([[0.97527814 0.01497568 0.00172236 0.00802375]], shape=(1, 4), dtype=float32)\n",
      "[0.6, 0.7, 0.2, 0.9]\n",
      "tf.Tensor([[0.9706547  0.01775757 0.00221517 0.00937247]], shape=(1, 4), dtype=float32)\n",
      "[0.5, 0.7, 0.2, 0.9]\n",
      "tf.Tensor([[0.9636127  0.02171021 0.00305055 0.01162664]], shape=(1, 4), dtype=float32)\n",
      "[0.4, 0.7, 0.2, 0.9]\n",
      "tf.Tensor([[0.96657383 0.01990874 0.00266693 0.01085056]], shape=(1, 4), dtype=float32)\n",
      "[0.4, 0.8, 0.2, 0.9]\n",
      "tf.Tensor([[0.9588094  0.02436421 0.00360559 0.01322086]], shape=(1, 4), dtype=float32)\n",
      "[0.3, 0.8, 0.2, 0.9]\n",
      "tf.Tensor([[0.9622434  0.02226673 0.00316563 0.01232428]], shape=(1, 4), dtype=float32)\n",
      "[0.3, 0.9, 0.2, 0.9]\n",
      "tf.Tensor([[0.9626851  0.02224466 0.00311467 0.01195554]], shape=(1, 4), dtype=float32)\n"
     ]
    },
    {
     "name": "stderr",
     "output_type": "stream",
     "text": [
      "  6%|████                                                                   | 5801/100000 [2:44:22<24:18:11,  1.08it/s]"
     ]
    },
    {
     "name": "stdout",
     "output_type": "stream",
     "text": [
      "-0.7668058247131274\n",
      "100\n"
     ]
    },
    {
     "name": "stderr",
     "output_type": "stream",
     "text": [
      "  6%|████▏                                                                  | 5901/100000 [2:45:24<17:01:45,  1.53it/s]"
     ]
    },
    {
     "name": "stdout",
     "output_type": "stream",
     "text": [
      "1.5258604666574702\n",
      "100\n",
      "[0.6, 0.8, 0.5, 0.7]\n",
      "tf.Tensor([[0.7960332  0.10024598 0.03584417 0.06787659]], shape=(1, 4), dtype=float32)\n",
      "[0.6, 0.7, 0.5, 0.7]\n",
      "tf.Tensor([[0.85997456 0.07434906 0.02056565 0.04511069]], shape=(1, 4), dtype=float32)\n"
     ]
    },
    {
     "name": "stderr",
     "output_type": "stream",
     "text": [
      "  6%|████▎                                                                  | 6001/100000 [2:46:26<18:49:28,  1.39it/s]"
     ]
    },
    {
     "name": "stdout",
     "output_type": "stream",
     "text": [
      "0.6702935097065214\n",
      "100\n"
     ]
    },
    {
     "name": "stderr",
     "output_type": "stream",
     "text": [
      "  6%|████▎                                                                  | 6101/100000 [2:47:29<12:27:58,  2.09it/s]"
     ]
    },
    {
     "name": "stdout",
     "output_type": "stream",
     "text": [
      "0.9155146167238633\n",
      "100\n",
      "[0.9, 0.4, 0.6, 0.2]\n",
      "tf.Tensor([[0.7711126  0.11429153 0.043308   0.07128788]], shape=(1, 4), dtype=float32)\n",
      "[0.8, 0.4, 0.6, 0.2]\n",
      "tf.Tensor([[0.8319653  0.09225878 0.02518583 0.0505901 ]], shape=(1, 4), dtype=float32)\n",
      "[0.8, 0.3, 0.6, 0.2]\n",
      "tf.Tensor([[0.89927256 0.05953412 0.01182522 0.02936814]], shape=(1, 4), dtype=float32)\n",
      "[0.7, 0.3, 0.6, 0.2]\n",
      "tf.Tensor([[0.9294758  0.04503661 0.00624019 0.01924739]], shape=(1, 4), dtype=float32)\n",
      "[0.7, 0.2, 0.6, 0.2]\n",
      "tf.Tensor([[0.9284169  0.04509605 0.00664915 0.01983787]], shape=(1, 4), dtype=float32)\n"
     ]
    },
    {
     "name": "stderr",
     "output_type": "stream",
     "text": [
      "  6%|████▍                                                                  | 6201/100000 [2:48:22<13:16:22,  1.96it/s]"
     ]
    },
    {
     "name": "stdout",
     "output_type": "stream",
     "text": [
      "0.35792631167746064\n",
      "100\n"
     ]
    },
    {
     "name": "stderr",
     "output_type": "stream",
     "text": [
      "  6%|████▍                                                                  | 6301/100000 [2:49:14<11:59:25,  2.17it/s]"
     ]
    },
    {
     "name": "stdout",
     "output_type": "stream",
     "text": [
      "0.7545459657905293\n",
      "100\n",
      "[0.3, 0.6, 0.6, 0.2]\n",
      "tf.Tensor([[0.6810382  0.15487151 0.06460636 0.09948394]], shape=(1, 4), dtype=float32)\n",
      "[0.3, 0.5, 0.6, 0.2]\n",
      "tf.Tensor([[0.7414073  0.13626997 0.04378999 0.07853276]], shape=(1, 4), dtype=float32)\n",
      "[0.3, 0.4, 0.6, 0.2]\n",
      "tf.Tensor([[0.84280884 0.09006114 0.02077506 0.04635491]], shape=(1, 4), dtype=float32)\n",
      "[0.4, 0.4, 0.6, 0.2]\n",
      "tf.Tensor([[0.88874274 0.06873999 0.01124018 0.03127709]], shape=(1, 4), dtype=float32)\n",
      "[0.4, 0.3, 0.6, 0.2]\n",
      "tf.Tensor([[0.9122017  0.05470439 0.00841761 0.02467629]], shape=(1, 4), dtype=float32)\n",
      "[0.5, 0.3, 0.6, 0.2]\n",
      "tf.Tensor([[0.9131069  0.05478446 0.0080818  0.02402683]], shape=(1, 4), dtype=float32)\n",
      "[0.5, 0.2, 0.6, 0.2]\n",
      "tf.Tensor([[0.9148412  0.05347335 0.00792489 0.02376057]], shape=(1, 4), dtype=float32)\n"
     ]
    },
    {
     "name": "stderr",
     "output_type": "stream",
     "text": [
      "  6%|████▌                                                                  | 6401/100000 [2:50:06<15:30:32,  1.68it/s]"
     ]
    },
    {
     "name": "stdout",
     "output_type": "stream",
     "text": [
      "1.35968111346636\n",
      "100\n"
     ]
    },
    {
     "name": "stderr",
     "output_type": "stream",
     "text": [
      "  7%|████▌                                                                  | 6501/100000 [2:50:50<13:17:20,  1.95it/s]"
     ]
    },
    {
     "name": "stdout",
     "output_type": "stream",
     "text": [
      "2.197871829011475\n",
      "100\n",
      "[0.8, 0.2, 0.2, 0.9]\n",
      "tf.Tensor([[0.6344107  0.17839238 0.0804772  0.10671974]], shape=(1, 4), dtype=float32)\n",
      "[0.8, 0.3, 0.2, 0.9]\n",
      "tf.Tensor([[0.82713157 0.0975713  0.02622596 0.04907122]], shape=(1, 4), dtype=float32)\n",
      "[0.8, 0.4, 0.2, 0.9]\n",
      "tf.Tensor([[0.9322285  0.04342727 0.0062645  0.01807976]], shape=(1, 4), dtype=float32)\n",
      "[0.8, 0.5, 0.2, 0.9]\n",
      "tf.Tensor([[0.96639377 0.0232475  0.00210014 0.00825863]], shape=(1, 4), dtype=float32)\n",
      "[0.7, 0.5, 0.2, 0.9]\n",
      "tf.Tensor([[0.9657936  0.02350836 0.00216572 0.0085323 ]], shape=(1, 4), dtype=float32)\n",
      "[0.7, 0.6, 0.2, 0.9]\n",
      "tf.Tensor([[0.9590134  0.02792314 0.00287804 0.01018545]], shape=(1, 4), dtype=float32)\n",
      "[0.6, 0.6, 0.2, 0.9]\n",
      "tf.Tensor([[0.9550762  0.03017897 0.00331088 0.01143397]], shape=(1, 4), dtype=float32)\n",
      "[0.6, 0.7, 0.2, 0.9]\n",
      "tf.Tensor([[0.9551063  0.0304135  0.00328974 0.01119043]], shape=(1, 4), dtype=float32)\n",
      "[0.5, 0.7, 0.2, 0.9]\n",
      "tf.Tensor([[0.9435316  0.03751637 0.00467932 0.01427274]], shape=(1, 4), dtype=float32)\n",
      "[0.4, 0.7, 0.2, 0.9]\n",
      "tf.Tensor([[0.947617   0.03486715 0.0041203  0.01339557]], shape=(1, 4), dtype=float32)\n",
      "[0.4, 0.8, 0.2, 0.9]\n",
      "tf.Tensor([[0.9346903  0.04285754 0.00575169 0.01670038]], shape=(1, 4), dtype=float32)\n",
      "[0.3, 0.8, 0.2, 0.9]\n",
      "tf.Tensor([[0.93984264 0.03945079 0.0050701  0.01563648]], shape=(1, 4), dtype=float32)\n",
      "[0.3, 0.9, 0.2, 0.9]\n",
      "tf.Tensor([[0.9403021  0.03956546 0.0050069  0.01512555]], shape=(1, 4), dtype=float32)\n"
     ]
    },
    {
     "name": "stderr",
     "output_type": "stream",
     "text": [
      "  7%|████▋                                                                  | 6601/100000 [2:51:42<12:28:19,  2.08it/s]"
     ]
    },
    {
     "name": "stdout",
     "output_type": "stream",
     "text": [
      "2.4031120461275197\n",
      "100\n"
     ]
    },
    {
     "name": "stderr",
     "output_type": "stream",
     "text": [
      "  7%|████▊                                                                  | 6701/100000 [2:52:36<16:07:22,  1.61it/s]"
     ]
    },
    {
     "name": "stdout",
     "output_type": "stream",
     "text": [
      "1.4119121218660537\n",
      "100\n",
      "[0.8, 0.7, 0.7, 0.1]\n",
      "tf.Tensor([[0.43116367 0.25525177 0.15286215 0.16072242]], shape=(1, 4), dtype=float32)\n",
      "[0.8, 0.6, 0.7, 0.1]\n",
      "tf.Tensor([[0.565125   0.22618985 0.09136268 0.11732244]], shape=(1, 4), dtype=float32)\n",
      "[0.8, 0.5, 0.7, 0.1]\n",
      "tf.Tensor([[0.73800284 0.15642266 0.03827186 0.06730269]], shape=(1, 4), dtype=float32)\n",
      "[0.8, 0.4, 0.7, 0.1]\n",
      "tf.Tensor([[0.8737451  0.08474448 0.01194891 0.02956148]], shape=(1, 4), dtype=float32)\n",
      "[0.8, 0.3, 0.7, 0.1]\n",
      "tf.Tensor([[0.87238306 0.08559576 0.01218161 0.02983946]], shape=(1, 4), dtype=float32)\n",
      "[0.8, 0.2, 0.7, 0.1]\n",
      "tf.Tensor([[0.8709293  0.08650291 0.0124325  0.0301353 ]], shape=(1, 4), dtype=float32)\n",
      "[0.8, 0.1, 0.7, 0.1]\n",
      "tf.Tensor([[0.89385116 0.07005071 0.01059251 0.02550572]], shape=(1, 4), dtype=float32)\n"
     ]
    },
    {
     "name": "stderr",
     "output_type": "stream",
     "text": [
      "  7%|████▉                                                                   | 6801/100000 [2:53:31<9:47:32,  2.64it/s]"
     ]
    },
    {
     "name": "stdout",
     "output_type": "stream",
     "text": [
      "3.095278296551422\n",
      "100\n"
     ]
    },
    {
     "name": "stderr",
     "output_type": "stream",
     "text": [
      "  7%|████▉                                                                  | 6901/100000 [2:54:21<14:03:24,  1.84it/s]"
     ]
    },
    {
     "name": "stdout",
     "output_type": "stream",
     "text": [
      "3.0024293810762135\n",
      "100\n",
      "[0.2, 0.8, 0.5, 0.7]\n",
      "tf.Tensor([[0.30810493 0.29383305 0.22269073 0.17537133]], shape=(1, 4), dtype=float32)\n",
      "[0.3, 0.8, 0.5, 0.7]\n",
      "tf.Tensor([[0.48955333 0.252878   0.13620278 0.12136585]], shape=(1, 4), dtype=float32)\n",
      "[0.4, 0.8, 0.5, 0.7]\n",
      "tf.Tensor([[0.6840171  0.18550624 0.05812041 0.07235624]], shape=(1, 4), dtype=float32)\n",
      "[0.4, 0.7, 0.5, 0.7]\n",
      "tf.Tensor([[0.8907169  0.07444032 0.01205762 0.02278512]], shape=(1, 4), dtype=float32)\n"
     ]
    },
    {
     "name": "stderr",
     "output_type": "stream",
     "text": [
      "  7%|████▉                                                                  | 7001/100000 [2:55:12<13:45:13,  1.88it/s]"
     ]
    },
    {
     "name": "stdout",
     "output_type": "stream",
     "text": [
      "2.7365967805969524\n",
      "100\n"
     ]
    },
    {
     "name": "stderr",
     "output_type": "stream",
     "text": [
      "  7%|█████                                                                  | 7101/100000 [2:55:58<13:20:31,  1.93it/s]"
     ]
    },
    {
     "name": "stdout",
     "output_type": "stream",
     "text": [
      "3.3179604583637308\n",
      "100\n",
      "[0.9, 0.4, 0.2, 0.9]\n",
      "tf.Tensor([[0.20165189 0.31920788 0.26468024 0.21445999]], shape=(1, 4), dtype=float32)\n",
      "[0.7, 0.4, 0.2, 0.9]\n",
      "tf.Tensor([[0.37259394 0.3044324  0.17267969 0.15029396]], shape=(1, 4), dtype=float32)\n",
      "[0.7, 0.5, 0.2, 0.9]\n",
      "tf.Tensor([[0.7536948  0.15247846 0.04106577 0.05276099]], shape=(1, 4), dtype=float32)\n",
      "[0.7, 0.6, 0.2, 0.9]\n",
      "tf.Tensor([[0.9332391  0.04873089 0.00575643 0.0122736 ]], shape=(1, 4), dtype=float32)\n",
      "[0.6, 0.6, 0.2, 0.9]\n",
      "tf.Tensor([[0.9405758  0.04384018 0.0047277  0.01085623]], shape=(1, 4), dtype=float32)\n",
      "[0.6, 0.7, 0.2, 0.9]\n",
      "tf.Tensor([[0.92647237 0.05358829 0.0065222  0.01341715]], shape=(1, 4), dtype=float32)\n",
      "[0.5, 0.7, 0.2, 0.9]\n",
      "tf.Tensor([[0.9033208  0.06892762 0.00968727 0.01806432]], shape=(1, 4), dtype=float32)\n",
      "[0.4, 0.7, 0.2, 0.9]\n",
      "tf.Tensor([[0.9109236  0.06373823 0.00853071 0.01680748]], shape=(1, 4), dtype=float32)\n",
      "[0.4, 0.8, 0.2, 0.9]\n",
      "tf.Tensor([[0.88418573 0.08123238 0.01250848 0.02207333]], shape=(1, 4), dtype=float32)\n",
      "[0.3, 0.8, 0.2, 0.9]\n",
      "tf.Tensor([[0.89195967 0.07582973 0.01132783 0.02088276]], shape=(1, 4), dtype=float32)\n",
      "[0.3, 0.9, 0.2, 0.9]\n",
      "tf.Tensor([[0.888745   0.0786598  0.01167218 0.02092302]], shape=(1, 4), dtype=float32)\n"
     ]
    },
    {
     "name": "stderr",
     "output_type": "stream",
     "text": [
      "  7%|█████                                                                  | 7201/100000 [2:56:42<12:56:51,  1.99it/s]"
     ]
    },
    {
     "name": "stdout",
     "output_type": "stream",
     "text": [
      "2.458083707275849\n",
      "100\n"
     ]
    },
    {
     "name": "stderr",
     "output_type": "stream",
     "text": [
      "  7%|█████▏                                                                 | 7301/100000 [2:57:23<14:01:00,  1.84it/s]"
     ]
    },
    {
     "name": "stdout",
     "output_type": "stream",
     "text": [
      "2.768313329579257\n",
      "100\n",
      "[0.1, 0.0, 0.7, 0.4]\n",
      "tf.Tensor([[0.14111254 0.31212932 0.31983608 0.22692202]], shape=(1, 4), dtype=float32)\n",
      "[0.4, 0.0, 0.7, 0.4]\n",
      "tf.Tensor([[0.21369164 0.32604995 0.26554215 0.19471624]], shape=(1, 4), dtype=float32)\n",
      "[0.4, 0.2, 0.7, 0.4]\n",
      "tf.Tensor([[0.4598341  0.29235688 0.13116106 0.11664801]], shape=(1, 4), dtype=float32)\n",
      "[0.5, 0.2, 0.7, 0.4]\n",
      "tf.Tensor([[0.85253376 0.10414876 0.01668543 0.02663213]], shape=(1, 4), dtype=float32)\n",
      "[0.5, 0.3, 0.7, 0.4]\n",
      "tf.Tensor([[0.8933358  0.07829569 0.01006946 0.01829907]], shape=(1, 4), dtype=float32)\n",
      "[0.6, 0.3, 0.7, 0.4]\n",
      "tf.Tensor([[0.89774287 0.0754637  0.0093537  0.01743978]], shape=(1, 4), dtype=float32)\n",
      "[0.6, 0.4, 0.7, 0.4]\n",
      "tf.Tensor([[0.911214   0.06648984 0.00756074 0.01473544]], shape=(1, 4), dtype=float32)\n"
     ]
    },
    {
     "name": "stderr",
     "output_type": "stream",
     "text": [
      "  7%|█████▎                                                                 | 7401/100000 [2:58:07<13:10:22,  1.95it/s]"
     ]
    },
    {
     "name": "stdout",
     "output_type": "stream",
     "text": [
      "2.6325677286432496\n",
      "100\n"
     ]
    },
    {
     "name": "stderr",
     "output_type": "stream",
     "text": [
      "  8%|█████▎                                                                 | 7501/100000 [2:58:46<11:09:43,  2.30it/s]"
     ]
    },
    {
     "name": "stdout",
     "output_type": "stream",
     "text": [
      "3.031087638986902\n",
      "100\n",
      "[0.6, 0.8, 0.6, 0.2]\n",
      "tf.Tensor([[0.12590925 0.30487505 0.31903848 0.25017715]], shape=(1, 4), dtype=float32)\n",
      "[0.6, 0.5, 0.6, 0.2]\n",
      "tf.Tensor([[0.1786226  0.32034606 0.27349922 0.22753213]], shape=(1, 4), dtype=float32)\n",
      "[0.6, 0.3, 0.6, 0.2]\n",
      "tf.Tensor([[0.35952485 0.33655462 0.15436953 0.149551  ]], shape=(1, 4), dtype=float32)\n"
     ]
    },
    {
     "name": "stderr",
     "output_type": "stream",
     "text": [
      "  8%|█████▍                                                                  | 7601/100000 [2:59:27<8:22:50,  3.06it/s]"
     ]
    },
    {
     "name": "stdout",
     "output_type": "stream",
     "text": [
      "3.681408667052528\n",
      "100\n"
     ]
    },
    {
     "name": "stderr",
     "output_type": "stream",
     "text": [
      "  8%|█████▍                                                                 | 7701/100000 [3:00:06<10:09:48,  2.52it/s]"
     ]
    },
    {
     "name": "stdout",
     "output_type": "stream",
     "text": [
      "3.6876521475654975\n",
      "100\n",
      "[0.0, 0.5, 0.6, 0.2]\n",
      "tf.Tensor([[0.10913593 0.32537284 0.33073574 0.23475546]], shape=(1, 4), dtype=float32)\n",
      "[0.3, 0.5, 0.6, 0.2]\n",
      "tf.Tensor([[0.14044623 0.3175053  0.31352103 0.22852738]], shape=(1, 4), dtype=float32)\n",
      "[0.3, 0.3, 0.6, 0.2]\n",
      "tf.Tensor([[0.37888652 0.31477794 0.16890539 0.13743015]], shape=(1, 4), dtype=float32)\n",
      "[0.4, 0.3, 0.6, 0.2]\n",
      "tf.Tensor([[0.9038075  0.0666853  0.01161657 0.01789056]], shape=(1, 4), dtype=float32)\n",
      "[0.5, 0.3, 0.6, 0.2]\n",
      "tf.Tensor([[0.87823737 0.08468733 0.01463542 0.02243993]], shape=(1, 4), dtype=float32)\n",
      "[0.5, 0.2, 0.6, 0.2]\n",
      "tf.Tensor([[0.92515177 0.05340045 0.00789416 0.01355362]], shape=(1, 4), dtype=float32)\n"
     ]
    },
    {
     "name": "stderr",
     "output_type": "stream",
     "text": [
      "  8%|█████▌                                                                 | 7801/100000 [3:00:44<10:47:02,  2.37it/s]"
     ]
    },
    {
     "name": "stdout",
     "output_type": "stream",
     "text": [
      "3.608007005190055\n",
      "100\n"
     ]
    },
    {
     "name": "stderr",
     "output_type": "stream",
     "text": [
      "  8%|█████▌                                                                 | 7901/100000 [3:01:26<12:16:55,  2.08it/s]"
     ]
    },
    {
     "name": "stdout",
     "output_type": "stream",
     "text": [
      "3.2036666150139443\n",
      "100\n",
      "[0.0, 0.2, 0.1, 0.1]\n",
      "tf.Tensor([[0.07304533 0.35533044 0.34255067 0.22907364]], shape=(1, 4), dtype=float32)\n",
      "[0.0, 0.0, 0.1, 0.1]\n",
      "tf.Tensor([[0.08442375 0.3416281  0.34589255 0.22805554]], shape=(1, 4), dtype=float32)\n",
      "[0.0, 0.3, 0.1, 0.1]\n",
      "tf.Tensor([[0.1618358  0.37196845 0.27593952 0.19025624]], shape=(1, 4), dtype=float32)\n",
      "[0.0, 0.1, 0.1, 0.1]\n",
      "tf.Tensor([[0.652223   0.22672005 0.0618621  0.05919487]], shape=(1, 4), dtype=float32)\n"
     ]
    },
    {
     "name": "stderr",
     "output_type": "stream",
     "text": [
      "  8%|█████▊                                                                  | 8000/100000 [3:02:05<8:25:06,  3.04it/s]"
     ]
    },
    {
     "name": "stdout",
     "output_type": "stream",
     "text": [
      "4.951454903610104\n",
      "100\n"
     ]
    },
    {
     "name": "stderr",
     "output_type": "stream",
     "text": [
      "  8%|█████▊                                                                 | 8101/100000 [3:02:47<14:05:27,  1.81it/s]"
     ]
    },
    {
     "name": "stdout",
     "output_type": "stream",
     "text": [
      "3.5562144377242015\n",
      "100\n",
      "[0.1, 0.6, 0.6, 0.2]\n",
      "tf.Tensor([[0.05817722 0.3702985  0.35055587 0.22096844]], shape=(1, 4), dtype=float32)\n",
      "[0.3, 0.6, 0.6, 0.2]\n",
      "tf.Tensor([[0.07251717 0.35889354 0.3488747  0.21971464]], shape=(1, 4), dtype=float32)\n",
      "[0.3, 0.4, 0.6, 0.2]\n",
      "tf.Tensor([[0.21297555 0.40949082 0.23171853 0.14581509]], shape=(1, 4), dtype=float32)\n",
      "[0.5, 0.4, 0.6, 0.2]\n",
      "tf.Tensor([[0.8383318  0.12407016 0.01688507 0.02071297]], shape=(1, 4), dtype=float32)\n",
      "[0.5, 0.3, 0.6, 0.2]\n",
      "tf.Tensor([[0.7595379  0.18063657 0.02745122 0.03237439]], shape=(1, 4), dtype=float32)\n",
      "[0.5, 0.2, 0.6, 0.2]\n",
      "tf.Tensor([[0.85183406 0.11457773 0.01470898 0.01887921]], shape=(1, 4), dtype=float32)\n"
     ]
    },
    {
     "name": "stderr",
     "output_type": "stream",
     "text": [
      "  8%|█████▊                                                                 | 8201/100000 [3:03:28<10:57:13,  2.33it/s]"
     ]
    },
    {
     "name": "stdout",
     "output_type": "stream",
     "text": [
      "3.496265021814146\n",
      "100\n"
     ]
    },
    {
     "name": "stderr",
     "output_type": "stream",
     "text": [
      "  8%|█████▉                                                                  | 8301/100000 [3:04:08<9:11:02,  2.77it/s]"
     ]
    },
    {
     "name": "stdout",
     "output_type": "stream",
     "text": [
      "4.321508316225842\n",
      "100\n",
      "[0.3, 0.4, 0.7, 0.4]\n",
      "tf.Tensor([[0.0466158  0.3769305  0.35811043 0.21834327]], shape=(1, 4), dtype=float32)\n",
      "[0.5, 0.4, 0.7, 0.4]\n",
      "tf.Tensor([[0.06324675 0.35824183 0.36386538 0.21464598]], shape=(1, 4), dtype=float32)\n",
      "[0.8, 0.4, 0.7, 0.4]\n",
      "tf.Tensor([[0.2913288  0.39865002 0.19147941 0.1185418 ]], shape=(1, 4), dtype=float32)\n",
      "[0.6, 0.4, 0.7, 0.4]\n",
      "tf.Tensor([[0.95755875 0.03506797 0.00274653 0.00462679]], shape=(1, 4), dtype=float32)\n"
     ]
    },
    {
     "name": "stderr",
     "output_type": "stream",
     "text": [
      "  8%|█████▉                                                                 | 8401/100000 [3:04:49<11:34:47,  2.20it/s]"
     ]
    },
    {
     "name": "stdout",
     "output_type": "stream",
     "text": [
      "3.9411882493046315\n",
      "100\n"
     ]
    },
    {
     "name": "stderr",
     "output_type": "stream",
     "text": [
      "  9%|██████                                                                 | 8501/100000 [3:05:29<13:50:32,  1.84it/s]"
     ]
    },
    {
     "name": "stdout",
     "output_type": "stream",
     "text": [
      "3.6517922635806146\n",
      "100\n",
      "[0.8, 0.6, 0.1, 0.1]\n",
      "tf.Tensor([[0.0366021  0.37333634 0.37557605 0.21448559]], shape=(1, 4), dtype=float32)\n",
      "[0.5, 0.6, 0.1, 0.1]\n",
      "tf.Tensor([[0.04611449 0.36526123 0.37407893 0.21454534]], shape=(1, 4), dtype=float32)\n",
      "[0.5, 0.3, 0.1, 0.1]\n",
      "tf.Tensor([[0.14514418 0.41388938 0.278547   0.16241948]], shape=(1, 4), dtype=float32)\n",
      "[0.3, 0.3, 0.1, 0.1]\n",
      "tf.Tensor([[0.8473077  0.12196411 0.01413806 0.01659014]], shape=(1, 4), dtype=float32)\n",
      "[0.3, 0.2, 0.1, 0.1]\n",
      "tf.Tensor([[0.77352715 0.17280443 0.02649558 0.02717289]], shape=(1, 4), dtype=float32)\n",
      "[0.2, 0.2, 0.1, 0.1]\n",
      "tf.Tensor([[0.76925445 0.17662862 0.02651263 0.02760424]], shape=(1, 4), dtype=float32)\n",
      "[0.2, 0.1, 0.1, 0.1]\n",
      "tf.Tensor([[0.6918723  0.22555804 0.04270899 0.03986064]], shape=(1, 4), dtype=float32)\n"
     ]
    },
    {
     "name": "stderr",
     "output_type": "stream",
     "text": [
      "  9%|██████▏                                                                 | 8601/100000 [3:06:05<9:34:27,  2.65it/s]"
     ]
    },
    {
     "name": "stdout",
     "output_type": "stream",
     "text": [
      "4.922541171484091\n",
      "100\n"
     ]
    },
    {
     "name": "stderr",
     "output_type": "stream",
     "text": [
      "  9%|██████▏                                                                | 8701/100000 [3:06:43<10:02:57,  2.52it/s]"
     ]
    },
    {
     "name": "stdout",
     "output_type": "stream",
     "text": [
      "3.7199944449252076\n",
      "100\n",
      "[0.0, 0.3, 0.1, 0.1]\n",
      "tf.Tensor([[0.03358721 0.3653309  0.4174698  0.18361205]], shape=(1, 4), dtype=float32)\n",
      "[0.0, 0.0, 0.1, 0.1]\n",
      "tf.Tensor([[0.03727124 0.35940757 0.41850027 0.18482092]], shape=(1, 4), dtype=float32)\n",
      "[0.3, 0.0, 0.1, 0.1]\n",
      "tf.Tensor([[0.06602465 0.36810157 0.39007697 0.17579687]], shape=(1, 4), dtype=float32)\n",
      "[0.0, 0.0, 0.1, 0.1]\n",
      "tf.Tensor([[0.42410594 0.39699516 0.11393783 0.06496105]], shape=(1, 4), dtype=float32)\n",
      "[0.1, 0.0, 0.1, 0.1]\n",
      "tf.Tensor([[0.5225067  0.3432799  0.08200078 0.05221261]], shape=(1, 4), dtype=float32)\n"
     ]
    },
    {
     "name": "stderr",
     "output_type": "stream",
     "text": [
      "  9%|██████▏                                                                | 8801/100000 [3:07:23<10:48:47,  2.34it/s]"
     ]
    },
    {
     "name": "stdout",
     "output_type": "stream",
     "text": [
      "3.780003824531498\n",
      "100\n"
     ]
    },
    {
     "name": "stderr",
     "output_type": "stream",
     "text": [
      "  9%|██████▍                                                                 | 8901/100000 [3:08:01<8:05:08,  3.13it/s]"
     ]
    },
    {
     "name": "stdout",
     "output_type": "stream",
     "text": [
      "4.217281966956927\n",
      "100\n",
      "[0.0, 0.4, 0.7, 0.1]\n",
      "tf.Tensor([[0.0269329  0.36820853 0.4292626  0.17559597]], shape=(1, 4), dtype=float32)\n",
      "[0.3, 0.4, 0.7, 0.1]\n",
      "tf.Tensor([[0.03346819 0.36039755 0.43053612 0.17559811]], shape=(1, 4), dtype=float32)\n",
      "[0.6, 0.4, 0.7, 0.1]\n",
      "tf.Tensor([[0.07249727 0.41677496 0.3626851  0.14804262]], shape=(1, 4), dtype=float32)\n",
      "[0.6, 0.2, 0.7, 0.1]\n",
      "tf.Tensor([[0.6866745  0.25781432 0.03169742 0.02381372]], shape=(1, 4), dtype=float32)\n",
      "[0.6, 0.1, 0.7, 0.1]\n",
      "tf.Tensor([[0.7465712  0.21330714 0.02188969 0.01823193]], shape=(1, 4), dtype=float32)\n"
     ]
    },
    {
     "name": "stderr",
     "output_type": "stream",
     "text": [
      "  9%|██████▍                                                                | 9001/100000 [3:08:37<12:31:08,  2.02it/s]"
     ]
    },
    {
     "name": "stdout",
     "output_type": "stream",
     "text": [
      "3.7345670844428653\n",
      "100\n"
     ]
    },
    {
     "name": "stderr",
     "output_type": "stream",
     "text": [
      "  9%|██████▌                                                                 | 9101/100000 [3:09:16<9:35:03,  2.63it/s]"
     ]
    },
    {
     "name": "stdout",
     "output_type": "stream",
     "text": [
      "3.832815381780283\n",
      "100\n",
      "[0.6, 0.3, 0.7, 0.1]\n",
      "tf.Tensor([[0.02064098 0.35617742 0.4691159  0.15406565]], shape=(1, 4), dtype=float32)\n",
      "[0.6, 0.0, 0.7, 0.1]\n",
      "tf.Tensor([[0.02252497 0.35179436 0.4717804  0.15390028]], shape=(1, 4), dtype=float32)\n",
      "[0.6, 0.3, 0.7, 0.1]\n",
      "tf.Tensor([[0.05195017 0.43907505 0.37977034 0.1292045 ]], shape=(1, 4), dtype=float32)\n",
      "[0.6, 0.1, 0.7, 0.1]\n",
      "tf.Tensor([[0.5143453  0.407525   0.05212513 0.02600463]], shape=(1, 4), dtype=float32)\n"
     ]
    },
    {
     "name": "stderr",
     "output_type": "stream",
     "text": [
      "  9%|██████▌                                                                 | 9201/100000 [3:10:01<9:37:30,  2.62it/s]"
     ]
    },
    {
     "name": "stdout",
     "output_type": "stream",
     "text": [
      "2.7919034119695905\n",
      "100\n"
     ]
    },
    {
     "name": "stderr",
     "output_type": "stream",
     "text": [
      "  9%|██████▋                                                                 | 9301/100000 [3:10:39<7:48:47,  3.22it/s]"
     ]
    },
    {
     "name": "stdout",
     "output_type": "stream",
     "text": [
      "4.044230945737256\n",
      "100\n",
      "[0.6, 0.4, 0.1, 0.1]\n",
      "tf.Tensor([[0.0193034  0.32287398 0.5204196  0.13740306]], shape=(1, 4), dtype=float32)\n",
      "[0.3, 0.4, 0.1, 0.1]\n",
      "tf.Tensor([[0.02357475 0.3270756  0.5091163  0.1402334 ]], shape=(1, 4), dtype=float32)\n",
      "[0.3, 0.1, 0.1, 0.1]\n",
      "tf.Tensor([[0.0596446  0.4148256  0.40647706 0.11905271]], shape=(1, 4), dtype=float32)\n"
     ]
    },
    {
     "name": "stderr",
     "output_type": "stream",
     "text": [
      "  9%|██████▋                                                                | 9401/100000 [3:11:25<21:41:31,  1.16it/s]"
     ]
    },
    {
     "name": "stdout",
     "output_type": "stream",
     "text": [
      "0.8666738885312006\n",
      "100\n"
     ]
    },
    {
     "name": "stderr",
     "output_type": "stream",
     "text": [
      " 10%|██████▋                                                                | 9500/100000 [3:12:25<14:19:09,  1.76it/s]"
     ]
    },
    {
     "name": "stdout",
     "output_type": "stream",
     "text": [
      "0.048746962041768094\n",
      "100\n",
      "[0.0, 0.0, 0.5, 0.7]\n",
      "tf.Tensor([[0.01506165 0.28654188 0.58200127 0.11639516]], shape=(1, 4), dtype=float32)\n",
      "[0.0, 0.3, 0.5, 0.7]\n",
      "tf.Tensor([[0.01759911 0.28648534 0.578294   0.11762157]], shape=(1, 4), dtype=float32)\n",
      "[0.3, 0.3, 0.5, 0.7]\n",
      "tf.Tensor([[0.02725352 0.32387143 0.53934723 0.10952774]], shape=(1, 4), dtype=float32)\n",
      "[0.3, 0.6, 0.5, 0.7]\n",
      "tf.Tensor([[0.21901764 0.5501505  0.18786249 0.04296934]], shape=(1, 4), dtype=float32)\n",
      "[0.5, 0.6, 0.5, 0.7]\n",
      "tf.Tensor([[0.287658   0.542248   0.13754362 0.03255036]], shape=(1, 4), dtype=float32)\n",
      "[0.5, 0.8, 0.5, 0.7]\n",
      "tf.Tensor([[0.3019598  0.5519911  0.11601706 0.03003205]], shape=(1, 4), dtype=float32)\n",
      "[0.5, 0.6, 0.5, 0.7]\n",
      "tf.Tensor([[0.31946445 0.5424709  0.1096462  0.02841848]], shape=(1, 4), dtype=float32)\n",
      "[0.5, 0.8, 0.5, 0.7]\n",
      "tf.Tensor([[0.23494829 0.5793189  0.14693783 0.03879502]], shape=(1, 4), dtype=float32)\n",
      "[0.5, 0.6, 0.5, 0.7]\n",
      "tf.Tensor([[0.20651795 0.573958   0.17499138 0.04453268]], shape=(1, 4), dtype=float32)\n",
      "[0.5, 0.8, 0.5, 0.7]\n",
      "tf.Tensor([[0.23494829 0.5793189  0.14693783 0.03879502]], shape=(1, 4), dtype=float32)\n",
      "[0.5, 0.6, 0.5, 0.7]\n",
      "tf.Tensor([[0.20651795 0.573958   0.17499138 0.04453268]], shape=(1, 4), dtype=float32)\n",
      "[0.5, 0.8, 0.5, 0.7]\n",
      "tf.Tensor([[0.23494829 0.5793189  0.14693783 0.03879502]], shape=(1, 4), dtype=float32)\n",
      "[0.5, 0.6, 0.5, 0.7]\n",
      "tf.Tensor([[0.20651795 0.573958   0.17499138 0.04453268]], shape=(1, 4), dtype=float32)\n",
      "[0.5, 0.8, 0.5, 0.7]\n",
      "tf.Tensor([[0.23494829 0.5793189  0.14693783 0.03879502]], shape=(1, 4), dtype=float32)\n",
      "[0.5, 0.6, 0.5, 0.7]\n",
      "tf.Tensor([[0.20651795 0.573958   0.17499138 0.04453268]], shape=(1, 4), dtype=float32)\n",
      "[0.5, 0.8, 0.5, 0.7]\n",
      "tf.Tensor([[0.23494829 0.5793189  0.14693783 0.03879502]], shape=(1, 4), dtype=float32)\n",
      "[0.5, 0.6, 0.5, 0.7]\n",
      "tf.Tensor([[0.20651795 0.573958   0.17499138 0.04453268]], shape=(1, 4), dtype=float32)\n",
      "[0.5, 0.8, 0.5, 0.7]\n",
      "tf.Tensor([[0.23494829 0.5793189  0.14693783 0.03879502]], shape=(1, 4), dtype=float32)\n",
      "[0.5, 0.6, 0.5, 0.7]\n",
      "tf.Tensor([[0.20651795 0.573958   0.17499138 0.04453268]], shape=(1, 4), dtype=float32)\n",
      "[0.5, 0.8, 0.5, 0.7]\n",
      "tf.Tensor([[0.23494829 0.5793189  0.14693783 0.03879502]], shape=(1, 4), dtype=float32)\n",
      "[0.5, 0.6, 0.5, 0.7]\n",
      "tf.Tensor([[0.20651795 0.573958   0.17499138 0.04453268]], shape=(1, 4), dtype=float32)\n",
      "[0.5, 0.8, 0.5, 0.7]\n",
      "tf.Tensor([[0.23494829 0.5793189  0.14693783 0.03879502]], shape=(1, 4), dtype=float32)\n",
      "[0.5, 0.6, 0.5, 0.7]\n",
      "tf.Tensor([[0.20651795 0.573958   0.17499138 0.04453268]], shape=(1, 4), dtype=float32)\n",
      "[0.5, 0.8, 0.5, 0.7]\n",
      "tf.Tensor([[0.23494829 0.5793189  0.14693783 0.03879502]], shape=(1, 4), dtype=float32)\n",
      "[0.5, 0.6, 0.5, 0.7]\n",
      "tf.Tensor([[0.20651795 0.573958   0.17499138 0.04453268]], shape=(1, 4), dtype=float32)\n",
      "[0.5, 0.8, 0.5, 0.7]\n",
      "tf.Tensor([[0.23494829 0.5793189  0.14693783 0.03879502]], shape=(1, 4), dtype=float32)\n",
      "[0.5, 0.6, 0.5, 0.7]\n",
      "tf.Tensor([[0.20651795 0.573958   0.17499138 0.04453268]], shape=(1, 4), dtype=float32)\n",
      "[0.5, 0.8, 0.5, 0.7]\n",
      "tf.Tensor([[0.23494829 0.5793189  0.14693783 0.03879502]], shape=(1, 4), dtype=float32)\n",
      "[0.5, 0.6, 0.5, 0.7]\n",
      "tf.Tensor([[0.20651795 0.573958   0.17499138 0.04453268]], shape=(1, 4), dtype=float32)\n",
      "[0.5, 0.8, 0.5, 0.7]\n",
      "tf.Tensor([[0.23494829 0.5793189  0.14693783 0.03879502]], shape=(1, 4), dtype=float32)\n",
      "[0.5, 0.6, 0.5, 0.7]\n",
      "tf.Tensor([[0.20651795 0.573958   0.17499138 0.04453268]], shape=(1, 4), dtype=float32)\n",
      "[0.5, 0.8, 0.5, 0.7]\n",
      "tf.Tensor([[0.23494829 0.5793189  0.14693783 0.03879502]], shape=(1, 4), dtype=float32)"
     ]
    },
    {
     "name": "stderr",
     "output_type": "stream",
     "text": [
      "\r",
      " 10%|██████▋                                                                | 9501/100000 [3:12:26<15:20:07,  1.64it/s]"
     ]
    },
    {
     "name": "stdout",
     "output_type": "stream",
     "text": [
      "\n",
      "[0.5, 0.6, 0.5, 0.7]\n",
      "tf.Tensor([[0.20651795 0.573958   0.17499138 0.04453268]], shape=(1, 4), dtype=float32)\n",
      "[0.5, 0.8, 0.5, 0.7]\n",
      "tf.Tensor([[0.23494829 0.5793189  0.14693783 0.03879502]], shape=(1, 4), dtype=float32)\n",
      "[0.5, 0.6, 0.5, 0.7]\n",
      "tf.Tensor([[0.20651795 0.573958   0.17499138 0.04453268]], shape=(1, 4), dtype=float32)\n",
      "[0.5, 0.8, 0.5, 0.7]\n",
      "tf.Tensor([[0.23494829 0.5793189  0.14693783 0.03879502]], shape=(1, 4), dtype=float32)\n",
      "[0.5, 0.6, 0.5, 0.7]\n",
      "tf.Tensor([[0.20651795 0.573958   0.17499138 0.04453268]], shape=(1, 4), dtype=float32)\n",
      "[0.5, 0.8, 0.5, 0.7]\n",
      "tf.Tensor([[0.23494829 0.5793189  0.14693783 0.03879502]], shape=(1, 4), dtype=float32)\n",
      "[0.5, 0.6, 0.5, 0.7]\n",
      "tf.Tensor([[0.20651795 0.573958   0.17499138 0.04453268]], shape=(1, 4), dtype=float32)\n",
      "[0.5, 0.8, 0.5, 0.7]\n",
      "tf.Tensor([[0.23494829 0.5793189  0.14693783 0.03879502]], shape=(1, 4), dtype=float32)\n"
     ]
    },
    {
     "name": "stderr",
     "output_type": "stream",
     "text": [
      " 10%|██████▊                                                                | 9601/100000 [3:13:23<13:00:32,  1.93it/s]"
     ]
    },
    {
     "name": "stdout",
     "output_type": "stream",
     "text": [
      "1.5129029635353004\n",
      "100\n"
     ]
    },
    {
     "name": "stderr",
     "output_type": "stream",
     "text": [
      " 10%|██████▉                                                                | 9701/100000 [3:14:22<14:29:09,  1.73it/s]"
     ]
    },
    {
     "name": "stdout",
     "output_type": "stream",
     "text": [
      "0.40278656109863903\n",
      "100\n",
      "[0.6, 0.4, 0.7, 0.4]\n",
      "tf.Tensor([[0.01356812 0.28219736 0.6014309  0.10280369]], shape=(1, 4), dtype=float32)\n",
      "[0.9, 0.4, 0.7, 0.4]\n",
      "tf.Tensor([[0.01696966 0.28390604 0.59131247 0.10781187]], shape=(1, 4), dtype=float32)\n",
      "[0.6, 0.4, 0.7, 0.4]\n",
      "tf.Tensor([[0.04141732 0.39056596 0.48072997 0.08728679]], shape=(1, 4), dtype=float32)\n",
      "[0.9, 0.4, 0.7, 0.4]\n",
      "tf.Tensor([[0.4144357  0.4935216  0.07391407 0.01812857]], shape=(1, 4), dtype=float32)\n"
     ]
    },
    {
     "name": "stderr",
     "output_type": "stream",
     "text": [
      " 10%|██████▉                                                                | 9801/100000 [3:15:37<17:01:43,  1.47it/s]"
     ]
    },
    {
     "name": "stdout",
     "output_type": "stream",
     "text": [
      "-6.631424026854434\n",
      "95\n"
     ]
    },
    {
     "name": "stderr",
     "output_type": "stream",
     "text": [
      " 10%|███████                                                                | 9901/100000 [3:16:46<11:18:02,  2.21it/s]"
     ]
    },
    {
     "name": "stdout",
     "output_type": "stream",
     "text": [
      "-1.5368766128368563\n",
      "96\n",
      "[0.3, 0.3, 0.2, 0.9]\n",
      "tf.Tensor([[0.01203041 0.2662632  0.6259225  0.09578393]], shape=(1, 4), dtype=float32)\n",
      "[0.3, 0.6, 0.2, 0.9]\n",
      "tf.Tensor([[0.01364754 0.26815218 0.6214246  0.09677562]], shape=(1, 4), dtype=float32)\n",
      "[0.3, 0.9, 0.2, 0.9]\n",
      "tf.Tensor([[0.0245221  0.3043639  0.575338   0.09577592]], shape=(1, 4), dtype=float32)\n",
      "[0.0, 0.9, 0.2, 0.9]\n",
      "tf.Tensor([[0.21000928 0.533462   0.21440206 0.04212664]], shape=(1, 4), dtype=float32)\n"
     ]
    },
    {
     "name": "stderr",
     "output_type": "stream",
     "text": [
      " 10%|███████                                                               | 10001/100000 [3:18:03<17:13:10,  1.45it/s]"
     ]
    },
    {
     "name": "stdout",
     "output_type": "stream",
     "text": [
      "-1.3438210871836018\n",
      "97\n"
     ]
    },
    {
     "name": "stderr",
     "output_type": "stream",
     "text": [
      " 10%|███████                                                               | 10101/100000 [3:19:09<15:12:08,  1.64it/s]"
     ]
    },
    {
     "name": "stdout",
     "output_type": "stream",
     "text": [
      "-1.4401561298347736\n",
      "98\n",
      "[0.4, 0.3, 0.1, 0.1]\n",
      "tf.Tensor([[0.01196044 0.25099003 0.64534426 0.09170525]], shape=(1, 4), dtype=float32)\n",
      "[0.1, 0.3, 0.1, 0.1]\n",
      "tf.Tensor([[0.01433366 0.2592715  0.6308818  0.09551308]], shape=(1, 4), dtype=float32)\n",
      "[0.1, 0.0, 0.1, 0.1]\n",
      "tf.Tensor([[0.02036386 0.2794064  0.60594195 0.09428775]], shape=(1, 4), dtype=float32)\n",
      "[0.1, 0.3, 0.1, 0.1]\n",
      "tf.Tensor([[0.09580657 0.48740247 0.35171154 0.06507941]], shape=(1, 4), dtype=float32)\n"
     ]
    },
    {
     "name": "stderr",
     "output_type": "stream",
     "text": [
      " 10%|███████▏                                                              | 10201/100000 [3:20:24<25:47:53,  1.03s/it]"
     ]
    },
    {
     "name": "stdout",
     "output_type": "stream",
     "text": [
      "-1.7978313699321844\n",
      "100\n"
     ]
    },
    {
     "name": "stderr",
     "output_type": "stream",
     "text": [
      " 10%|███████▏                                                              | 10300/100000 [3:21:47<19:10:32,  1.30it/s]"
     ]
    },
    {
     "name": "stdout",
     "output_type": "stream",
     "text": [
      "-2.2205654020803833\n",
      "98\n",
      "[0.0, 0.4, 0.1, 0.1]\n",
      "tf.Tensor([[0.00888738 0.27394465 0.63162416 0.08554378]], shape=(1, 4), dtype=float32)\n",
      "[0.0, 0.1, 0.1, 0.1]\n",
      "tf.Tensor([[0.00935603 0.27298862 0.6318634  0.08579188]], shape=(1, 4), dtype=float32)\n",
      "[0.3, 0.1, 0.1, 0.1]\n",
      "tf.Tensor([[0.01419027 0.29584458 0.60321236 0.08675274]], shape=(1, 4), dtype=float32)\n",
      "[0.0, 0.1, 0.1, 0.1]\n",
      "tf.Tensor([[0.04643398 0.4549263  0.43541157 0.06322807]], shape=(1, 4), dtype=float32)\n",
      "[0.2, 0.1, 0.1, 0.1]\n",
      "tf.Tensor([[0.06694195 0.48912343 0.38528496 0.05864961]], shape=(1, 4), dtype=float32)\n",
      "[0.0, 0.1, 0.1, 0.1]\n",
      "tf.Tensor([[0.08823417 0.52474654 0.33583412 0.0511852 ]], shape=(1, 4), dtype=float32)\n",
      "[0.2, 0.1, 0.1, 0.1]\n",
      "tf.Tensor([[0.06513898 0.48512793 0.39040187 0.05933125]], shape=(1, 4), dtype=float32)\n",
      "[0.0, 0.1, 0.1, 0.1]\n",
      "tf.Tensor([[0.08507555 0.51992214 0.34284934 0.05215297]], shape=(1, 4), dtype=float32)\n",
      "[0.2, 0.1, 0.1, 0.1]\n",
      "tf.Tensor([[0.06513898 0.48512793 0.39040187 0.05933125]], shape=(1, 4), dtype=float32)\n",
      "[0.0, 0.1, 0.1, 0.1]\n",
      "tf.Tensor([[0.08507555 0.51992214 0.34284934 0.05215297]], shape=(1, 4), dtype=float32)\n",
      "[0.2, 0.1, 0.1, 0.1]\n",
      "tf.Tensor([[0.06513898 0.48512793 0.39040187 0.05933125]], shape=(1, 4), dtype=float32)\n",
      "[0.0, 0.1, 0.1, 0.1]\n",
      "tf.Tensor([[0.08507555 0.51992214 0.34284934 0.05215297]], shape=(1, 4), dtype=float32)\n",
      "[0.2, 0.1, 0.1, 0.1]\n",
      "tf.Tensor([[0.06513898 0.48512793 0.39040187 0.05933125]], shape=(1, 4), dtype=float32)\n",
      "[0.0, 0.1, 0.1, 0.1]\n",
      "tf.Tensor([[0.08507555 0.51992214 0.34284934 0.05215297]], shape=(1, 4), dtype=float32)\n",
      "[0.2, 0.1, 0.1, 0.1]\n",
      "tf.Tensor([[0.06513898 0.48512793 0.39040187 0.05933125]], shape=(1, 4), dtype=float32)\n",
      "[0.0, 0.1, 0.1, 0.1]\n",
      "tf.Tensor([[0.08507555 0.51992214 0.34284934 0.05215297]], shape=(1, 4), dtype=float32)\n",
      "[0.2, 0.1, 0.1, 0.1]\n",
      "tf.Tensor([[0.06513898 0.48512793 0.39040187 0.05933125]], shape=(1, 4), dtype=float32)\n",
      "[0.0, 0.1, 0.1, 0.1]\n",
      "tf.Tensor([[0.08507555 0.51992214 0.34284934 0.05215297]], shape=(1, 4), dtype=float32)\n",
      "[0.2, 0.1, 0.1, 0.1]\n",
      "tf.Tensor([[0.06513898 0.48512793 0.39040187 0.05933125]], shape=(1, 4), dtype=float32)\n",
      "[0.0, 0.1, 0.1, 0.1]\n",
      "tf.Tensor([[0.08507555 0.51992214 0.34284934 0.05215297]], shape=(1, 4), dtype=float32)\n",
      "[0.2, 0.1, 0.1, 0.1]\n",
      "tf.Tensor([[0.06513898 0.48512793 0.39040187 0.05933125]], shape=(1, 4), dtype=float32)\n",
      "[0.0, 0.1, 0.1, 0.1]\n",
      "tf.Tensor([[0.08507555 0.51992214 0.34284934 0.05215297]], shape=(1, 4), dtype=float32)\n",
      "[0.2, 0.1, 0.1, 0.1]\n",
      "tf.Tensor([[0.06513898 0.48512793 0.39040187 0.05933125]], shape=(1, 4), dtype=float32)\n",
      "[0.0, 0.1, 0.1, 0.1]\n",
      "tf.Tensor([[0.08507555 0.51992214 0.34284934 0.05215297]], shape=(1, 4), dtype=float32)\n",
      "[0.2, 0.1, 0.1, 0.1]\n",
      "tf.Tensor([[0.06513898 0.48512793 0.39040187 0.05933125]], shape=(1, 4), dtype=float32)\n",
      "[0.0, 0.1, 0.1, 0.1]\n",
      "tf.Tensor([[0.08507555 0.51992214 0.34284934 0.05215297]], shape=(1, 4), dtype=float32)\n",
      "[0.2, 0.1, 0.1, 0.1]\n",
      "tf.Tensor([[0.06513898 0.48512793 0.39040187 0.05933125]], shape=(1, 4), dtype=float32)\n",
      "[0.0, 0.1, 0.1, 0.1]\n",
      "tf.Tensor([[0.08507555 0.51992214 0.34284934 0.05215297]], shape=(1, 4), dtype=float32)\n",
      "[0.2, 0.1, 0.1, 0.1]\n",
      "tf.Tensor([[0.06513898 0.48512793 0.39040187 0.05933125]], shape=(1, 4), dtype=float32)\n",
      "[0.0, 0.1, 0.1, 0.1]\n",
      "tf.Tensor([[0.08507555 0.51992214 0.34284934 0.05215297]], shape=(1, 4), dtype=float32)\n",
      "[0.2, 0.1, 0.1, 0.1]\n",
      "tf.Tensor([[0.06513898 0.48512793 0.39040187 0.05933125]], shape=(1, 4), dtype=float32)\n",
      "[0.0, 0.1, 0.1, 0.1]\n",
      "tf.Tensor([[0.08507555 0.51992214 0.34284934 0.05215297]], shape=(1, 4), dtype=float32)\n",
      "[0.2, 0.1, 0.1, 0.1]\n"
     ]
    },
    {
     "name": "stderr",
     "output_type": "stream",
     "text": [
      "\r",
      " 10%|███████▏                                                              | 10301/100000 [3:21:48<17:49:36,  1.40it/s]"
     ]
    },
    {
     "name": "stdout",
     "output_type": "stream",
     "text": [
      "tf.Tensor([[0.06513898 0.48512793 0.39040187 0.05933125]], shape=(1, 4), dtype=float32)\n",
      "[0.0, 0.1, 0.1, 0.1]\n",
      "tf.Tensor([[0.08507555 0.51992214 0.34284934 0.05215297]], shape=(1, 4), dtype=float32)\n",
      "[0.2, 0.1, 0.1, 0.1]\n",
      "tf.Tensor([[0.06513898 0.48512793 0.39040187 0.05933125]], shape=(1, 4), dtype=float32)\n",
      "[0.0, 0.1, 0.1, 0.1]\n",
      "tf.Tensor([[0.08507555 0.51992214 0.34284934 0.05215297]], shape=(1, 4), dtype=float32)\n",
      "[0.2, 0.1, 0.1, 0.1]\n",
      "tf.Tensor([[0.06513898 0.48512793 0.39040187 0.05933125]], shape=(1, 4), dtype=float32)\n",
      "[0.0, 0.1, 0.1, 0.1]\n",
      "tf.Tensor([[0.08507555 0.51992214 0.34284934 0.05215297]], shape=(1, 4), dtype=float32)\n",
      "[0.2, 0.1, 0.1, 0.1]\n",
      "tf.Tensor([[0.06513898 0.48512793 0.39040187 0.05933125]], shape=(1, 4), dtype=float32)\n",
      "[0.0, 0.1, 0.1, 0.1]\n",
      "tf.Tensor([[0.08507555 0.51992214 0.34284934 0.05215297]], shape=(1, 4), dtype=float32)\n"
     ]
    },
    {
     "name": "stderr",
     "output_type": "stream",
     "text": [
      " 10%|███████▎                                                              | 10401/100000 [3:23:14<35:46:10,  1.44s/it]"
     ]
    },
    {
     "name": "stdout",
     "output_type": "stream",
     "text": [
      "-5.553627116561223\n",
      "99\n"
     ]
    },
    {
     "name": "stderr",
     "output_type": "stream",
     "text": [
      " 11%|███████▎                                                              | 10501/100000 [3:25:01<19:20:25,  1.29it/s]"
     ]
    },
    {
     "name": "stdout",
     "output_type": "stream",
     "text": [
      "-4.196094050986554\n",
      "97\n",
      "[0.2, 0.4, 0.1, 0.1]\n",
      "tf.Tensor([[0.00742331 0.3023068  0.6093754  0.08089449]], shape=(1, 4), dtype=float32)\n",
      "[0.2, 0.1, 0.1, 0.1]\n",
      "tf.Tensor([[0.00875578 0.3064837  0.60206133 0.08269924]], shape=(1, 4), dtype=float32)\n",
      "[0.0, 0.1, 0.1, 0.1]\n",
      "tf.Tensor([[0.0134649  0.35601583 0.5553491  0.07517019]], shape=(1, 4), dtype=float32)\n",
      "[0.3, 0.1, 0.1, 0.1]\n",
      "tf.Tensor([[0.05744645 0.56580204 0.3276276  0.04912387]], shape=(1, 4), dtype=float32)\n"
     ]
    },
    {
     "name": "stderr",
     "output_type": "stream",
     "text": [
      " 11%|███████▍                                                              | 10601/100000 [3:26:23<14:53:55,  1.67it/s]"
     ]
    },
    {
     "name": "stdout",
     "output_type": "stream",
     "text": [
      "0.4284229723267541\n",
      "99\n"
     ]
    },
    {
     "name": "stderr",
     "output_type": "stream",
     "text": [
      " 11%|███████▍                                                              | 10700/100000 [3:27:57<33:13:45,  1.34s/it]"
     ]
    },
    {
     "name": "stdout",
     "output_type": "stream",
     "text": [
      "-7.0349722628106255\n",
      "99\n",
      "[0.0, 0.2, 0.2, 0.9]\n",
      "tf.Tensor([[0.00584918 0.2910602  0.6321743  0.07091634]], shape=(1, 4), dtype=float32)\n",
      "[0.0, 0.5, 0.2, 0.9]\n",
      "tf.Tensor([[0.0063634  0.29196241 0.6309513  0.07072297]], shape=(1, 4), dtype=float32)\n",
      "[0.0, 0.8, 0.2, 0.9]\n",
      "tf.Tensor([[0.00989792 0.33331355 0.59385717 0.06293137]], shape=(1, 4), dtype=float32)\n",
      "[0.3, 0.8, 0.2, 0.9]\n",
      "tf.Tensor([[0.02980681 0.4984373  0.42868164 0.04307421]], shape=(1, 4), dtype=float32)\n",
      "[0.3, 1.0, 0.2, 0.9]\n",
      "tf.Tensor([[0.03655393 0.526837   0.39547965 0.04112943]], shape=(1, 4), dtype=float32)\n",
      "[0.1, 1.0, 0.2, 0.9]\n",
      "tf.Tensor([[0.03722578 0.54541504 0.3761489  0.04121027]], shape=(1, 4), dtype=float32)\n",
      "[0.1, 0.8, 0.2, 0.9]\n",
      "tf.Tensor([[0.03610415 0.53401226 0.3883707  0.04151295]], shape=(1, 4), dtype=float32)\n",
      "[0.3, 0.8, 0.2, 0.9]\n",
      "tf.Tensor([[0.03743912 0.534634   0.38660297 0.04132389]], shape=(1, 4), dtype=float32)\n",
      "[0.3, 1.0, 0.2, 0.9]\n",
      "tf.Tensor([[0.03060254 0.51097465 0.41463846 0.04378438]], shape=(1, 4), dtype=float32)\n",
      "[0.1, 1.0, 0.2, 0.9]\n",
      "tf.Tensor([[0.03764882 0.54843384 0.37306112 0.04085628]], shape=(1, 4), dtype=float32)\n",
      "[0.1, 0.8, 0.2, 0.9]\n",
      "tf.Tensor([[0.03610415 0.53401226 0.3883707  0.04151295]], shape=(1, 4), dtype=float32)\n",
      "[0.3, 0.8, 0.2, 0.9]\n",
      "tf.Tensor([[0.03743912 0.534634   0.38660297 0.04132389]], shape=(1, 4), dtype=float32)\n",
      "[0.3, 1.0, 0.2, 0.9]\n",
      "tf.Tensor([[0.03060254 0.51097465 0.41463846 0.04378438]], shape=(1, 4), dtype=float32)\n",
      "[0.1, 1.0, 0.2, 0.9]\n",
      "tf.Tensor([[0.03764882 0.54843384 0.37306112 0.04085628]], shape=(1, 4), dtype=float32)\n",
      "[0.1, 0.8, 0.2, 0.9]\n",
      "tf.Tensor([[0.03610415 0.53401226 0.3883707  0.04151295]], shape=(1, 4), dtype=float32)\n",
      "[0.3, 0.8, 0.2, 0.9]\n",
      "tf.Tensor([[0.03743912 0.534634   0.38660297 0.04132389]], shape=(1, 4), dtype=float32)\n",
      "[0.3, 1.0, 0.2, 0.9]\n",
      "tf.Tensor([[0.03060254 0.51097465 0.41463846 0.04378438]], shape=(1, 4), dtype=float32)\n",
      "[0.1, 1.0, 0.2, 0.9]\n",
      "tf.Tensor([[0.03764882 0.54843384 0.37306112 0.04085628]], shape=(1, 4), dtype=float32)\n",
      "[0.1, 0.8, 0.2, 0.9]\n",
      "tf.Tensor([[0.03610415 0.53401226 0.3883707  0.04151295]], shape=(1, 4), dtype=float32)\n",
      "[0.3, 0.8, 0.2, 0.9]\n",
      "tf.Tensor([[0.03743912 0.534634   0.38660297 0.04132389]], shape=(1, 4), dtype=float32)\n",
      "[0.3, 1.0, 0.2, 0.9]\n",
      "tf.Tensor([[0.03060254 0.51097465 0.41463846 0.04378438]], shape=(1, 4), dtype=float32)\n",
      "[0.1, 1.0, 0.2, 0.9]\n",
      "tf.Tensor([[0.03764882 0.54843384 0.37306112 0.04085628]], shape=(1, 4), dtype=float32)\n",
      "[0.1, 0.8, 0.2, 0.9]\n",
      "tf.Tensor([[0.03610415 0.53401226 0.3883707  0.04151295]], shape=(1, 4), dtype=float32)\n",
      "[0.3, 0.8, 0.2, 0.9]\n",
      "tf.Tensor([[0.03743912 0.534634   0.38660297 0.04132389]], shape=(1, 4), dtype=float32)\n",
      "[0.3, 1.0, 0.2, 0.9]\n",
      "tf.Tensor([[0.03060254 0.51097465 0.41463846 0.04378438]], shape=(1, 4), dtype=float32)\n",
      "[0.1, 1.0, 0.2, 0.9]\n",
      "tf.Tensor([[0.03764882 0.54843384 0.37306112 0.04085628]], shape=(1, 4), dtype=float32)\n",
      "[0.1, 0.8, 0.2, 0.9]\n",
      "tf.Tensor([[0.03610415 0.53401226 0.3883707  0.04151295]], shape=(1, 4), dtype=float32)\n",
      "[0.3, 0.8, 0.2, 0.9]\n",
      "tf.Tensor([[0.03743912 0.534634   0.38660297 0.04132389]], shape=(1, 4), dtype=float32)\n",
      "[0.3, 1.0, 0.2, 0.9]\n",
      "tf.Tensor([[0.03060254 0.51097465 0.41463846 0.04378438]], shape=(1, 4), dtype=float32)\n",
      "[0.1, 1.0, 0.2, 0.9]\n",
      "tf.Tensor([[0.03764882 0.54843384 0.37306112 0.04085628]], shape=(1, 4), dtype=float32)\n",
      "[0.1, 0.8, 0.2, 0.9]\n",
      "tf.Tensor([[0.03610415 0.53401226 0.3883707  0.04151295]], shape=(1, 4), dtype=float32)\n",
      "[0.3, 0.8, 0.2, 0.9]\n",
      "tf.Tensor([[0.03743912 0.534634   0.38660297 0.04132389]], shape=(1, 4), dtype=float32)\n",
      "[0.3, 1.0, 0.2, 0.9]\n",
      "tf.Tensor([[0.03060254 0.51097465 0.41463846 0.04378438]], shape=(1, 4), dtype=float32)\n",
      "[0.1, 1.0, 0.2, 0.9]\n",
      "tf.Tensor([[0.03764882 0.54843384 0.37306112 0.04085628]], shape=(1, 4), dtype=float32)\n",
      "[0.1, 0.8, 0.2, 0.9]\n",
      "tf.Tensor([[0.03610415 0.53401226 0.3883707  0.04151295]], shape=(1, 4), dtype=float32)\n",
      "[0.3, 0.8, 0.2, 0.9]\n"
     ]
    },
    {
     "name": "stderr",
     "output_type": "stream",
     "text": [
      "\r",
      " 11%|███████▍                                                              | 10701/100000 [3:27:58<27:59:07,  1.13s/it]"
     ]
    },
    {
     "name": "stdout",
     "output_type": "stream",
     "text": [
      "tf.Tensor([[0.03743912 0.534634   0.38660297 0.04132389]], shape=(1, 4), dtype=float32)\n",
      "[0.3, 1.0, 0.2, 0.9]\n",
      "tf.Tensor([[0.03060254 0.51097465 0.41463846 0.04378438]], shape=(1, 4), dtype=float32)\n",
      "[0.1, 1.0, 0.2, 0.9]\n",
      "tf.Tensor([[0.03764882 0.54843384 0.37306112 0.04085628]], shape=(1, 4), dtype=float32)\n",
      "[0.1, 0.8, 0.2, 0.9]\n",
      "tf.Tensor([[0.03610415 0.53401226 0.3883707  0.04151295]], shape=(1, 4), dtype=float32)\n",
      "[0.3, 0.8, 0.2, 0.9]\n",
      "tf.Tensor([[0.03743912 0.534634   0.38660297 0.04132389]], shape=(1, 4), dtype=float32)\n"
     ]
    },
    {
     "name": "stderr",
     "output_type": "stream",
     "text": [
      " 11%|███████▌                                                              | 10802/100000 [3:29:19<11:01:44,  2.25it/s]"
     ]
    },
    {
     "name": "stdout",
     "output_type": "stream",
     "text": [
      "-3.8481821357439716\n",
      "97\n"
     ]
    },
    {
     "name": "stderr",
     "output_type": "stream",
     "text": [
      " 11%|███████▋                                                              | 10900/100000 [3:30:34<33:17:35,  1.35s/it]"
     ]
    },
    {
     "name": "stdout",
     "output_type": "stream",
     "text": [
      "-5.822067215587314\n",
      "99\n",
      "[0.5, 0.2, 0.7, 0.1]\n",
      "tf.Tensor([[0.0050727  0.3090839  0.61252725 0.07331611]], shape=(1, 4), dtype=float32)\n",
      "[0.8, 0.2, 0.7, 0.1]\n",
      "tf.Tensor([[0.00624084 0.32239658 0.598396   0.07296665]], shape=(1, 4), dtype=float32)\n",
      "[0.5, 0.2, 0.7, 0.1]\n",
      "tf.Tensor([[0.01040654 0.3961113  0.5325741  0.060908  ]], shape=(1, 4), dtype=float32)\n",
      "[0.8, 0.2, 0.7, 0.1]\n",
      "tf.Tensor([[0.05629924 0.64362174 0.2683293  0.0317497 ]], shape=(1, 4), dtype=float32)\n",
      "[0.6, 0.2, 0.7, 0.1]\n",
      "tf.Tensor([[0.05282145 0.64493483 0.26903898 0.03320468]], shape=(1, 4), dtype=float32)\n",
      "[0.6, 0.0, 0.7, 0.1]\n",
      "tf.Tensor([[0.04021211 0.63002247 0.29575485 0.03401055]], shape=(1, 4), dtype=float32)\n",
      "[0.6, 0.2, 0.7, 0.1]\n",
      "tf.Tensor([[0.03625875 0.6226522  0.30448687 0.03660215]], shape=(1, 4), dtype=float32)\n",
      "[0.6, 0.0, 0.7, 0.1]\n",
      "tf.Tensor([[0.02531108 0.59130585 0.34518918 0.03819383]], shape=(1, 4), dtype=float32)\n",
      "[0.6, 0.2, 0.7, 0.1]\n",
      "tf.Tensor([[0.0283853  0.611899   0.32324344 0.03647226]], shape=(1, 4), dtype=float32)\n",
      "[0.6, 0.0, 0.7, 0.1]\n",
      "tf.Tensor([[0.02531108 0.59130585 0.34518918 0.03819383]], shape=(1, 4), dtype=float32)\n",
      "[0.6, 0.2, 0.7, 0.1]\n",
      "tf.Tensor([[0.0283853  0.611899   0.32324344 0.03647226]], shape=(1, 4), dtype=float32)\n",
      "[0.6, 0.0, 0.7, 0.1]\n",
      "tf.Tensor([[0.02531108 0.59130585 0.34518918 0.03819383]], shape=(1, 4), dtype=float32)\n",
      "[0.6, 0.2, 0.7, 0.1]\n",
      "tf.Tensor([[0.0283853  0.611899   0.32324344 0.03647226]], shape=(1, 4), dtype=float32)\n",
      "[0.6, 0.0, 0.7, 0.1]\n",
      "tf.Tensor([[0.02531108 0.59130585 0.34518918 0.03819383]], shape=(1, 4), dtype=float32)\n",
      "[0.6, 0.2, 0.7, 0.1]\n",
      "tf.Tensor([[0.0283853  0.611899   0.32324344 0.03647226]], shape=(1, 4), dtype=float32)\n",
      "[0.6, 0.0, 0.7, 0.1]\n",
      "tf.Tensor([[0.02531108 0.59130585 0.34518918 0.03819383]], shape=(1, 4), dtype=float32)\n",
      "[0.6, 0.2, 0.7, 0.1]\n",
      "tf.Tensor([[0.0283853  0.611899   0.32324344 0.03647226]], shape=(1, 4), dtype=float32)\n",
      "[0.6, 0.0, 0.7, 0.1]\n",
      "tf.Tensor([[0.02531108 0.59130585 0.34518918 0.03819383]], shape=(1, 4), dtype=float32)\n",
      "[0.6, 0.2, 0.7, 0.1]\n",
      "tf.Tensor([[0.0283853  0.611899   0.32324344 0.03647226]], shape=(1, 4), dtype=float32)\n",
      "[0.6, 0.0, 0.7, 0.1]\n",
      "tf.Tensor([[0.02531108 0.59130585 0.34518918 0.03819383]], shape=(1, 4), dtype=float32)\n",
      "[0.6, 0.2, 0.7, 0.1]\n",
      "tf.Tensor([[0.0283853  0.611899   0.32324344 0.03647226]], shape=(1, 4), dtype=float32)\n",
      "[0.6, 0.0, 0.7, 0.1]\n",
      "tf.Tensor([[0.02531108 0.59130585 0.34518918 0.03819383]], shape=(1, 4), dtype=float32)\n",
      "[0.6, 0.2, 0.7, 0.1]\n",
      "tf.Tensor([[0.0283853  0.611899   0.32324344 0.03647226]], shape=(1, 4), dtype=float32)\n",
      "[0.6, 0.0, 0.7, 0.1]\n",
      "tf.Tensor([[0.02531108 0.59130585 0.34518918 0.03819383]], shape=(1, 4), dtype=float32)\n",
      "[0.6, 0.2, 0.7, 0.1]\n",
      "tf.Tensor([[0.0283853  0.611899   0.32324344 0.03647226]], shape=(1, 4), dtype=float32)\n",
      "[0.6, 0.0, 0.7, 0.1]\n",
      "tf.Tensor([[0.02531108 0.59130585 0.34518918 0.03819383]], shape=(1, 4), dtype=float32)\n",
      "[0.6, 0.2, 0.7, 0.1]\n",
      "tf.Tensor([[0.0283853  0.611899   0.32324344 0.03647226]], shape=(1, 4), dtype=float32)\n",
      "[0.6, 0.0, 0.7, 0.1]\n",
      "tf.Tensor([[0.02531108 0.59130585 0.34518918 0.03819383]], shape=(1, 4), dtype=float32)\n",
      "[0.6, 0.2, 0.7, 0.1]\n",
      "tf.Tensor([[0.0283853  0.611899   0.32324344 0.03647226]], shape=(1, 4), dtype=float32)\n",
      "[0.6, 0.0, 0.7, 0.1]\n",
      "tf.Tensor([[0.02531108 0.59130585 0.34518918 0.03819383]], shape=(1, 4), dtype=float32)\n",
      "[0.6, 0.2, 0.7, 0.1]\n",
      "tf.Tensor([[0.0283853  0.611899   0.32324344 0.03647226]], shape=(1, 4), dtype=float32)\n",
      "[0.6, 0.0, 0.7, 0.1]\n",
      "tf.Tensor([[0.02531108 0.59130585 0.34518918 0.03819383]], shape=(1, 4), dtype=float32)\n",
      "[0.6, 0.2, 0.7, 0.1]\n",
      "tf.Tensor([[0.0283853  0.611899   0.32324344 0.03647226]], shape=(1, 4), dtype=float32)\n",
      "[0.6, 0.0, 0.7, 0.1]\n",
      "tf.Tensor([[0.02531108 0.59130585 0.34518918 0.03819383]], shape=(1, 4), dtype=float32)\n",
      "[0.6, 0.2, 0.7, 0.1]\n",
      "tf.Tensor([[0.0283853  0.611899   0.32324344 0.03647226]], shape=(1, 4), dtype=float32)\n"
     ]
    },
    {
     "name": "stderr",
     "output_type": "stream",
     "text": [
      "\r",
      " 11%|███████▋                                                              | 10901/100000 [3:30:35<31:23:26,  1.27s/it]"
     ]
    },
    {
     "name": "stdout",
     "output_type": "stream",
     "text": [
      "[0.6, 0.0, 0.7, 0.1]\n",
      "tf.Tensor([[0.02531108 0.59130585 0.34518918 0.03819383]], shape=(1, 4), dtype=float32)\n",
      "[0.6, 0.2, 0.7, 0.1]\n",
      "tf.Tensor([[0.0283853  0.611899   0.32324344 0.03647226]], shape=(1, 4), dtype=float32)\n",
      "[0.6, 0.0, 0.7, 0.1]\n",
      "tf.Tensor([[0.02531108 0.59130585 0.34518918 0.03819383]], shape=(1, 4), dtype=float32)\n",
      "[0.6, 0.2, 0.7, 0.1]\n",
      "tf.Tensor([[0.0283853  0.611899   0.32324344 0.03647226]], shape=(1, 4), dtype=float32)\n",
      "[0.6, 0.0, 0.7, 0.1]\n",
      "tf.Tensor([[0.02531108 0.59130585 0.34518918 0.03819383]], shape=(1, 4), dtype=float32)\n"
     ]
    },
    {
     "name": "stderr",
     "output_type": "stream",
     "text": [
      " 11%|███████▋                                                              | 11001/100000 [3:32:17<38:37:30,  1.56s/it]"
     ]
    },
    {
     "name": "stdout",
     "output_type": "stream",
     "text": [
      "-5.898138197881942\n",
      "96\n"
     ]
    },
    {
     "name": "stderr",
     "output_type": "stream",
     "text": [
      " 11%|███████▊                                                              | 11101/100000 [3:33:47<26:23:34,  1.07s/it]"
     ]
    },
    {
     "name": "stdout",
     "output_type": "stream",
     "text": [
      "-6.41331129007132\n",
      "96\n",
      "[0.0, 0.1, 0.5, 0.7]\n",
      "tf.Tensor([[0.00380701 0.31380352 0.6166868  0.06570268]], shape=(1, 4), dtype=float32)\n",
      "[0.0, 0.4, 0.5, 0.7]\n",
      "tf.Tensor([[0.00426891 0.31850594 0.6133957  0.06382948]], shape=(1, 4), dtype=float32)\n",
      "[0.3, 0.4, 0.5, 0.7]\n",
      "tf.Tensor([[0.00565692 0.36777154 0.5709693  0.05560226]], shape=(1, 4), dtype=float32)\n",
      "[0.3, 0.7, 0.5, 0.7]\n",
      "tf.Tensor([[0.0163028  0.54124695 0.4067019  0.03574833]], shape=(1, 4), dtype=float32)\n"
     ]
    },
    {
     "name": "stderr",
     "output_type": "stream",
     "text": [
      " 11%|███████▊                                                              | 11201/100000 [3:35:25<22:01:04,  1.12it/s]"
     ]
    },
    {
     "name": "stdout",
     "output_type": "stream",
     "text": [
      "-4.443985481017675\n",
      "96\n"
     ]
    },
    {
     "name": "stderr",
     "output_type": "stream",
     "text": [
      " 11%|███████▉                                                              | 11300/100000 [3:37:13<21:50:26,  1.13it/s]"
     ]
    },
    {
     "name": "stdout",
     "output_type": "stream",
     "text": [
      "-6.70859609929152\n",
      "94\n",
      "[0.9, 0.8, 0.7, 0.4]\n",
      "tf.Tensor([[0.00293522 0.30940518 0.626814   0.06084567]], shape=(1, 4), dtype=float32)\n",
      "[0.9, 0.5, 0.7, 0.4]\n",
      "tf.Tensor([[0.00323581 0.31251922 0.6240572  0.06018779]], shape=(1, 4), dtype=float32)\n",
      "[0.6, 0.5, 0.7, 0.4]\n",
      "tf.Tensor([[0.00447271 0.36206418 0.58233064 0.05113244]], shape=(1, 4), dtype=float32)\n",
      "[0.9, 0.5, 0.7, 0.4]\n",
      "tf.Tensor([[0.01726018 0.58000124 0.37089422 0.03184434]], shape=(1, 4), dtype=float32)\n",
      "[0.7, 0.5, 0.7, 0.4]\n",
      "tf.Tensor([[0.02486956 0.63080984 0.31569615 0.0286245 ]], shape=(1, 4), dtype=float32)\n",
      "[0.7, 0.3, 0.7, 0.4]\n",
      "tf.Tensor([[0.01779803 0.60237396 0.35068783 0.02914012]], shape=(1, 4), dtype=float32)\n",
      "[0.7, 0.5, 0.7, 0.4]\n",
      "tf.Tensor([[0.01558982 0.5896753  0.3627593  0.0319756 ]], shape=(1, 4), dtype=float32)\n",
      "[0.7, 0.3, 0.7, 0.4]\n",
      "tf.Tensor([[0.01005722 0.542021   0.41494095 0.03298084]], shape=(1, 4), dtype=float32)\n",
      "[0.7, 0.5, 0.7, 0.4]\n",
      "tf.Tensor([[0.01167152 0.57076156 0.38597688 0.03159007]], shape=(1, 4), dtype=float32)\n",
      "[0.7, 0.3, 0.7, 0.4]\n",
      "tf.Tensor([[0.01005722 0.542021   0.41494095 0.03298084]], shape=(1, 4), dtype=float32)\n",
      "[0.7, 0.5, 0.7, 0.4]\n",
      "tf.Tensor([[0.01167152 0.57076156 0.38597688 0.03159007]], shape=(1, 4), dtype=float32)\n",
      "[0.7, 0.3, 0.7, 0.4]\n",
      "tf.Tensor([[0.01005722 0.542021   0.41494095 0.03298084]], shape=(1, 4), dtype=float32)\n",
      "[0.7, 0.5, 0.7, 0.4]\n",
      "tf.Tensor([[0.01167152 0.57076156 0.38597688 0.03159007]], shape=(1, 4), dtype=float32)\n",
      "[0.7, 0.3, 0.7, 0.4]\n",
      "tf.Tensor([[0.01005722 0.542021   0.41494095 0.03298084]], shape=(1, 4), dtype=float32)\n",
      "[0.7, 0.5, 0.7, 0.4]\n",
      "tf.Tensor([[0.01167152 0.57076156 0.38597688 0.03159007]], shape=(1, 4), dtype=float32)\n",
      "[0.7, 0.3, 0.7, 0.4]\n",
      "tf.Tensor([[0.01005722 0.542021   0.41494095 0.03298084]], shape=(1, 4), dtype=float32)\n",
      "[0.7, 0.5, 0.7, 0.4]\n",
      "tf.Tensor([[0.01167152 0.57076156 0.38597688 0.03159007]], shape=(1, 4), dtype=float32)\n",
      "[0.7, 0.3, 0.7, 0.4]\n",
      "tf.Tensor([[0.01005722 0.542021   0.41494095 0.03298084]], shape=(1, 4), dtype=float32)\n",
      "[0.7, 0.5, 0.7, 0.4]\n",
      "tf.Tensor([[0.01167152 0.57076156 0.38597688 0.03159007]], shape=(1, 4), dtype=float32)\n",
      "[0.7, 0.3, 0.7, 0.4]\n",
      "tf.Tensor([[0.01005722 0.542021   0.41494095 0.03298084]], shape=(1, 4), dtype=float32)\n",
      "[0.7, 0.5, 0.7, 0.4]\n",
      "tf.Tensor([[0.01167152 0.57076156 0.38597688 0.03159007]], shape=(1, 4), dtype=float32)\n",
      "[0.7, 0.3, 0.7, 0.4]\n",
      "tf.Tensor([[0.01005722 0.542021   0.41494095 0.03298084]], shape=(1, 4), dtype=float32)\n",
      "[0.7, 0.5, 0.7, 0.4]\n",
      "tf.Tensor([[0.01167152 0.57076156 0.38597688 0.03159007]], shape=(1, 4), dtype=float32)\n",
      "[0.7, 0.3, 0.7, 0.4]\n",
      "tf.Tensor([[0.01005722 0.542021   0.41494095 0.03298084]], shape=(1, 4), dtype=float32)\n",
      "[0.7, 0.5, 0.7, 0.4]\n",
      "tf.Tensor([[0.01167152 0.57076156 0.38597688 0.03159007]], shape=(1, 4), dtype=float32)\n",
      "[0.7, 0.3, 0.7, 0.4]\n",
      "tf.Tensor([[0.01005722 0.542021   0.41494095 0.03298084]], shape=(1, 4), dtype=float32)\n",
      "[0.7, 0.5, 0.7, 0.4]\n",
      "tf.Tensor([[0.01167152 0.57076156 0.38597688 0.03159007]], shape=(1, 4), dtype=float32)\n",
      "[0.7, 0.3, 0.7, 0.4]\n",
      "tf.Tensor([[0.01005722 0.542021   0.41494095 0.03298084]], shape=(1, 4), dtype=float32)\n",
      "[0.7, 0.5, 0.7, 0.4]\n",
      "tf.Tensor([[0.01167152 0.57076156 0.38597688 0.03159007]], shape=(1, 4), dtype=float32)\n",
      "[0.7, 0.3, 0.7, 0.4]\n",
      "tf.Tensor([[0.01005722 0.542021   0.41494095 0.03298084]], shape=(1, 4), dtype=float32)\n",
      "[0.7, 0.5, 0.7, 0.4]\n",
      "tf.Tensor([[0.01167152 0.57076156 0.38597688 0.03159007]], shape=(1, 4), dtype=float32)\n",
      "[0.7, 0.3, 0.7, 0.4]\n",
      "tf.Tensor([[0.01005722 0.542021   0.41494095 0.03298084]], shape=(1, 4), dtype=float32)\n",
      "[0.7, 0.5, 0.7, 0.4]\n",
      "tf.Tensor([[0.01167152 0.57076156 0.38597688 0.03159007]], shape=(1, 4), dtype=float32)\n",
      "[0.7, 0.3, 0.7, 0.4]\n",
      "tf.Tensor([[0.01005722 0.542021   0.41494095 0.03298084]], shape=(1, 4), dtype=float32)\n",
      "[0.7, 0.5, 0.7, 0.4]\n"
     ]
    },
    {
     "name": "stderr",
     "output_type": "stream",
     "text": [
      "\r",
      " 11%|███████▉                                                              | 11301/100000 [3:37:14<23:55:14,  1.03it/s]"
     ]
    },
    {
     "name": "stdout",
     "output_type": "stream",
     "text": [
      "tf.Tensor([[0.01167152 0.57076156 0.38597688 0.03159007]], shape=(1, 4), dtype=float32)\n",
      "[0.7, 0.3, 0.7, 0.4]\n",
      "tf.Tensor([[0.01005722 0.542021   0.41494095 0.03298084]], shape=(1, 4), dtype=float32)\n",
      "[0.7, 0.5, 0.7, 0.4]\n",
      "tf.Tensor([[0.01167152 0.57076156 0.38597688 0.03159007]], shape=(1, 4), dtype=float32)\n",
      "[0.7, 0.3, 0.7, 0.4]\n",
      "tf.Tensor([[0.01005722 0.542021   0.41494095 0.03298084]], shape=(1, 4), dtype=float32)\n",
      "[0.7, 0.5, 0.7, 0.4]\n",
      "tf.Tensor([[0.01167152 0.57076156 0.38597688 0.03159007]], shape=(1, 4), dtype=float32)\n",
      "[0.7, 0.3, 0.7, 0.4]\n",
      "tf.Tensor([[0.01005722 0.542021   0.41494095 0.03298084]], shape=(1, 4), dtype=float32)\n"
     ]
    },
    {
     "name": "stderr",
     "output_type": "stream",
     "text": [
      " 11%|███████▉                                                              | 11401/100000 [3:38:42<28:02:01,  1.14s/it]"
     ]
    },
    {
     "name": "stdout",
     "output_type": "stream",
     "text": [
      "-7.543786793286622\n",
      "96\n"
     ]
    },
    {
     "name": "stderr",
     "output_type": "stream",
     "text": [
      " 12%|████████                                                              | 11501/100000 [3:40:02<17:04:51,  1.44it/s]"
     ]
    },
    {
     "name": "stdout",
     "output_type": "stream",
     "text": [
      "-1.865629696561273\n",
      "98\n",
      "[0.4, 0.2, 0.1, 0.1]\n",
      "tf.Tensor([[0.00303892 0.2887729  0.6529351  0.05525311]], shape=(1, 4), dtype=float32)\n",
      "[0.1, 0.2, 0.1, 0.1]\n",
      "tf.Tensor([[0.00358394 0.30026364 0.64069635 0.05545602]], shape=(1, 4), dtype=float32)\n",
      "[0.1, 0.0, 0.1, 0.1]\n",
      "tf.Tensor([[0.00474195 0.3366317  0.60823256 0.05039388]], shape=(1, 4), dtype=float32)\n",
      "[0.1, 0.3, 0.1, 0.1]\n",
      "tf.Tensor([[0.01403221 0.5107254  0.43794006 0.03730236]], shape=(1, 4), dtype=float32)\n"
     ]
    },
    {
     "name": "stderr",
     "output_type": "stream",
     "text": [
      " 12%|████████                                                              | 11601/100000 [3:41:24<25:29:49,  1.04s/it]"
     ]
    },
    {
     "name": "stdout",
     "output_type": "stream",
     "text": [
      "-2.1535806543477554\n",
      "99\n"
     ]
    },
    {
     "name": "stderr",
     "output_type": "stream",
     "text": [
      " 12%|████████▏                                                             | 11701/100000 [3:42:56<25:41:56,  1.05s/it]"
     ]
    },
    {
     "name": "stdout",
     "output_type": "stream",
     "text": [
      "-5.460087889292129\n",
      "97\n",
      "[0.3, 0.3, 0.2, 0.9]\n",
      "tf.Tensor([[0.00265015 0.3137564  0.63011813 0.05347537]], shape=(1, 4), dtype=float32)\n",
      "[0.3, 0.6, 0.2, 0.9]\n",
      "tf.Tensor([[0.00274407 0.32018524 0.6266322  0.05043847]], shape=(1, 4), dtype=float32)\n",
      "[0.3, 0.9, 0.2, 0.9]\n",
      "tf.Tensor([[0.00436645 0.38235548 0.5689443  0.04433381]], shape=(1, 4), dtype=float32)\n",
      "[0.0, 0.9, 0.2, 0.9]\n",
      "tf.Tensor([[0.01383662 0.5642935  0.39490017 0.02696967]], shape=(1, 4), dtype=float32)\n"
     ]
    },
    {
     "name": "stderr",
     "output_type": "stream",
     "text": [
      " 12%|████████▎                                                             | 11801/100000 [3:44:37<19:19:35,  1.27it/s]"
     ]
    },
    {
     "name": "stdout",
     "output_type": "stream",
     "text": [
      "-3.4585410168854\n",
      "97\n"
     ]
    },
    {
     "name": "stderr",
     "output_type": "stream",
     "text": [
      " 12%|████████▎                                                             | 11900/100000 [3:46:09<30:33:57,  1.25s/it]"
     ]
    },
    {
     "name": "stdout",
     "output_type": "stream",
     "text": [
      "-5.47059967916551\n",
      "98\n",
      "[0.4, 0.9, 0.6, 0.2]\n",
      "tf.Tensor([[0.00264706 0.31860828 0.6253785  0.05336617]], shape=(1, 4), dtype=float32)\n",
      "[0.4, 0.6, 0.6, 0.2]\n",
      "tf.Tensor([[0.00280063 0.32807937 0.6174496  0.05167051]], shape=(1, 4), dtype=float32)\n",
      "[0.4, 0.3, 0.6, 0.2]\n",
      "tf.Tensor([[0.00342594 0.36124808 0.58973294 0.04559305]], shape=(1, 4), dtype=float32)\n",
      "[0.7, 0.3, 0.6, 0.2]\n",
      "tf.Tensor([[0.00635861 0.48071226 0.47882193 0.03410723]], shape=(1, 4), dtype=float32)\n",
      "[0.7, 0.1, 0.6, 0.2]\n",
      "tf.Tensor([[0.00728947 0.50966114 0.45301187 0.03003753]], shape=(1, 4), dtype=float32)\n",
      "[0.7, 0.3, 0.6, 0.2]\n",
      "tf.Tensor([[0.00883099 0.5478933  0.41529456 0.02798118]], shape=(1, 4), dtype=float32)\n",
      "[0.7, 0.1, 0.6, 0.2]\n",
      "tf.Tensor([[0.00753453 0.5329081  0.43175176 0.02780558]], shape=(1, 4), dtype=float32)\n",
      "[0.7, 0.3, 0.6, 0.2]\n",
      "tf.Tensor([[0.00878574 0.56054956 0.40401414 0.02665059]], shape=(1, 4), dtype=float32)\n",
      "[0.7, 0.1, 0.6, 0.2]\n",
      "tf.Tensor([[0.00753453 0.5329081  0.43175176 0.02780558]], shape=(1, 4), dtype=float32)\n",
      "[0.7, 0.3, 0.6, 0.2]\n",
      "tf.Tensor([[0.00878574 0.56054956 0.40401414 0.02665059]], shape=(1, 4), dtype=float32)\n",
      "[0.7, 0.1, 0.6, 0.2]\n",
      "tf.Tensor([[0.00753453 0.5329081  0.43175176 0.02780558]], shape=(1, 4), dtype=float32)\n",
      "[0.7, 0.3, 0.6, 0.2]\n",
      "tf.Tensor([[0.00878574 0.56054956 0.40401414 0.02665059]], shape=(1, 4), dtype=float32)\n",
      "[0.7, 0.1, 0.6, 0.2]\n",
      "tf.Tensor([[0.00753453 0.5329081  0.43175176 0.02780558]], shape=(1, 4), dtype=float32)\n",
      "[0.7, 0.3, 0.6, 0.2]\n",
      "tf.Tensor([[0.00878574 0.56054956 0.40401414 0.02665059]], shape=(1, 4), dtype=float32)\n",
      "[0.7, 0.1, 0.6, 0.2]\n",
      "tf.Tensor([[0.00753453 0.5329081  0.43175176 0.02780558]], shape=(1, 4), dtype=float32)\n",
      "[0.7, 0.3, 0.6, 0.2]\n",
      "tf.Tensor([[0.00878574 0.56054956 0.40401414 0.02665059]], shape=(1, 4), dtype=float32)\n",
      "[0.7, 0.1, 0.6, 0.2]\n",
      "tf.Tensor([[0.00753453 0.5329081  0.43175176 0.02780558]], shape=(1, 4), dtype=float32)\n",
      "[0.7, 0.3, 0.6, 0.2]\n",
      "tf.Tensor([[0.00878574 0.56054956 0.40401414 0.02665059]], shape=(1, 4), dtype=float32)\n",
      "[0.7, 0.1, 0.6, 0.2]\n",
      "tf.Tensor([[0.00753453 0.5329081  0.43175176 0.02780558]], shape=(1, 4), dtype=float32)\n",
      "[0.7, 0.3, 0.6, 0.2]\n",
      "tf.Tensor([[0.00878574 0.56054956 0.40401414 0.02665059]], shape=(1, 4), dtype=float32)\n",
      "[0.7, 0.1, 0.6, 0.2]\n",
      "tf.Tensor([[0.00753453 0.5329081  0.43175176 0.02780558]], shape=(1, 4), dtype=float32)\n",
      "[0.7, 0.3, 0.6, 0.2]\n",
      "tf.Tensor([[0.00878574 0.56054956 0.40401414 0.02665059]], shape=(1, 4), dtype=float32)\n",
      "[0.7, 0.1, 0.6, 0.2]\n",
      "tf.Tensor([[0.00753453 0.5329081  0.43175176 0.02780558]], shape=(1, 4), dtype=float32)\n",
      "[0.7, 0.3, 0.6, 0.2]\n",
      "tf.Tensor([[0.00878574 0.56054956 0.40401414 0.02665059]], shape=(1, 4), dtype=float32)\n",
      "[0.7, 0.1, 0.6, 0.2]\n",
      "tf.Tensor([[0.00753453 0.5329081  0.43175176 0.02780558]], shape=(1, 4), dtype=float32)\n",
      "[0.7, 0.3, 0.6, 0.2]\n",
      "tf.Tensor([[0.00878574 0.56054956 0.40401414 0.02665059]], shape=(1, 4), dtype=float32)\n",
      "[0.7, 0.1, 0.6, 0.2]\n",
      "tf.Tensor([[0.00753453 0.5329081  0.43175176 0.02780558]], shape=(1, 4), dtype=float32)\n",
      "[0.7, 0.3, 0.6, 0.2]\n",
      "tf.Tensor([[0.00878574 0.56054956 0.40401414 0.02665059]], shape=(1, 4), dtype=float32)\n",
      "[0.7, 0.1, 0.6, 0.2]\n",
      "tf.Tensor([[0.00753453 0.5329081  0.43175176 0.02780558]], shape=(1, 4), dtype=float32)\n",
      "[0.7, 0.3, 0.6, 0.2]\n"
     ]
    },
    {
     "name": "stderr",
     "output_type": "stream",
     "text": [
      "\r",
      " 12%|████████▎                                                             | 11901/100000 [3:46:12<39:58:12,  1.63s/it]"
     ]
    },
    {
     "name": "stdout",
     "output_type": "stream",
     "text": [
      "tf.Tensor([[0.00878574 0.56054956 0.40401414 0.02665059]], shape=(1, 4), dtype=float32)\n",
      "[0.7, 0.1, 0.6, 0.2]\n",
      "tf.Tensor([[0.00753453 0.5329081  0.43175176 0.02780558]], shape=(1, 4), dtype=float32)\n",
      "[0.7, 0.3, 0.6, 0.2]\n",
      "tf.Tensor([[0.00878574 0.56054956 0.40401414 0.02665059]], shape=(1, 4), dtype=float32)\n",
      "[0.7, 0.1, 0.6, 0.2]\n",
      "tf.Tensor([[0.00753453 0.5329081  0.43175176 0.02780558]], shape=(1, 4), dtype=float32)\n",
      "[0.7, 0.3, 0.6, 0.2]\n",
      "tf.Tensor([[0.00878574 0.56054956 0.40401414 0.02665059]], shape=(1, 4), dtype=float32)\n",
      "[0.7, 0.1, 0.6, 0.2]\n",
      "tf.Tensor([[0.00753453 0.5329081  0.43175176 0.02780558]], shape=(1, 4), dtype=float32)\n",
      "[0.7, 0.3, 0.6, 0.2]\n",
      "tf.Tensor([[0.00878574 0.56054956 0.40401414 0.02665059]], shape=(1, 4), dtype=float32)\n",
      "[0.7, 0.1, 0.6, 0.2]\n",
      "tf.Tensor([[0.00753453 0.5329081  0.43175176 0.02780558]], shape=(1, 4), dtype=float32)\n",
      "[0.7, 0.3, 0.6, 0.2]\n",
      "tf.Tensor([[0.00878574 0.56054956 0.40401414 0.02665059]], shape=(1, 4), dtype=float32)\n",
      "[0.7, 0.1, 0.6, 0.2]\n",
      "tf.Tensor([[0.00753453 0.5329081  0.43175176 0.02780558]], shape=(1, 4), dtype=float32)\n",
      "[0.7, 0.3, 0.6, 0.2]\n",
      "tf.Tensor([[0.00878574 0.56054956 0.40401414 0.02665059]], shape=(1, 4), dtype=float32)\n"
     ]
    },
    {
     "name": "stderr",
     "output_type": "stream",
     "text": [
      " 12%|████████▍                                                             | 12001/100000 [3:47:40<34:16:19,  1.40s/it]"
     ]
    },
    {
     "name": "stdout",
     "output_type": "stream",
     "text": [
      "-4.228166241430709\n",
      "99\n"
     ]
    },
    {
     "name": "stderr",
     "output_type": "stream",
     "text": [
      " 12%|████████▍                                                             | 12100/100000 [3:49:16<19:48:33,  1.23it/s]"
     ]
    },
    {
     "name": "stdout",
     "output_type": "stream",
     "text": [
      "-3.514282227490319\n",
      "94\n",
      "[0.0, 0.9, 0.5, 0.7]\n",
      "tf.Tensor([[0.00251185 0.30313638 0.6485744  0.0457774 ]], shape=(1, 4), dtype=float32)\n",
      "[0.3, 0.9, 0.5, 0.7]\n",
      "tf.Tensor([[0.00273687 0.32398605 0.6296986  0.04357848]], shape=(1, 4), dtype=float32)\n",
      "[0.3, 0.6, 0.5, 0.7]\n",
      "tf.Tensor([[0.00390696 0.37855902 0.5812643  0.03626972]], shape=(1, 4), dtype=float32)\n",
      "[0.6, 0.6, 0.5, 0.7]\n",
      "tf.Tensor([[0.00913896 0.54075354 0.42766958 0.02243794]], shape=(1, 4), dtype=float32)\n",
      "[0.6, 0.8, 0.5, 0.7]\n",
      "tf.Tensor([[0.00686799 0.51993597 0.44844162 0.02475443]], shape=(1, 4), dtype=float32)\n",
      "[0.6, 0.6, 0.5, 0.7]\n",
      "tf.Tensor([[0.00829842 0.5527529  0.41726115 0.02168757]], shape=(1, 4), dtype=float32)\n",
      "[0.6, 0.8, 0.5, 0.7]\n",
      "tf.Tensor([[0.00633727 0.52837867 0.44132248 0.02396159]], shape=(1, 4), dtype=float32)\n",
      "[0.6, 0.6, 0.5, 0.7]\n",
      "tf.Tensor([[0.00546836 0.49814224 0.47142294 0.0249664 ]], shape=(1, 4), dtype=float32)\n",
      "[0.6, 0.8, 0.5, 0.7]\n",
      "tf.Tensor([[0.00633727 0.52837867 0.44132248 0.02396159]], shape=(1, 4), dtype=float32)\n",
      "[0.6, 0.6, 0.5, 0.7]\n",
      "tf.Tensor([[0.00546836 0.49814224 0.47142294 0.0249664 ]], shape=(1, 4), dtype=float32)\n",
      "[0.6, 0.8, 0.5, 0.7]\n",
      "tf.Tensor([[0.00633727 0.52837867 0.44132248 0.02396159]], shape=(1, 4), dtype=float32)\n",
      "[0.6, 0.6, 0.5, 0.7]\n",
      "tf.Tensor([[0.00546836 0.49814224 0.47142294 0.0249664 ]], shape=(1, 4), dtype=float32)\n",
      "[0.6, 0.8, 0.5, 0.7]\n",
      "tf.Tensor([[0.00633727 0.52837867 0.44132248 0.02396159]], shape=(1, 4), dtype=float32)\n",
      "[0.6, 0.6, 0.5, 0.7]\n",
      "tf.Tensor([[0.00546836 0.49814224 0.47142294 0.0249664 ]], shape=(1, 4), dtype=float32)\n",
      "[0.6, 0.8, 0.5, 0.7]\n",
      "tf.Tensor([[0.00633727 0.52837867 0.44132248 0.02396159]], shape=(1, 4), dtype=float32)\n",
      "[0.6, 0.6, 0.5, 0.7]\n",
      "tf.Tensor([[0.00546836 0.49814224 0.47142294 0.0249664 ]], shape=(1, 4), dtype=float32)\n",
      "[0.6, 0.8, 0.5, 0.7]\n",
      "tf.Tensor([[0.00633727 0.52837867 0.44132248 0.02396159]], shape=(1, 4), dtype=float32)\n",
      "[0.6, 0.6, 0.5, 0.7]\n",
      "tf.Tensor([[0.00546836 0.49814224 0.47142294 0.0249664 ]], shape=(1, 4), dtype=float32)\n",
      "[0.6, 0.8, 0.5, 0.7]\n",
      "tf.Tensor([[0.00633727 0.52837867 0.44132248 0.02396159]], shape=(1, 4), dtype=float32)\n",
      "[0.6, 0.6, 0.5, 0.7]\n",
      "tf.Tensor([[0.00546836 0.49814224 0.47142294 0.0249664 ]], shape=(1, 4), dtype=float32)\n",
      "[0.6, 0.8, 0.5, 0.7]\n",
      "tf.Tensor([[0.00633727 0.52837867 0.44132248 0.02396159]], shape=(1, 4), dtype=float32)\n",
      "[0.6, 0.6, 0.5, 0.7]\n",
      "tf.Tensor([[0.00546836 0.49814224 0.47142294 0.0249664 ]], shape=(1, 4), dtype=float32)\n",
      "[0.6, 0.8, 0.5, 0.7]\n",
      "tf.Tensor([[0.00633727 0.52837867 0.44132248 0.02396159]], shape=(1, 4), dtype=float32)\n",
      "[0.6, 0.6, 0.5, 0.7]\n",
      "tf.Tensor([[0.00546836 0.49814224 0.47142294 0.0249664 ]], shape=(1, 4), dtype=float32)\n",
      "[0.6, 0.8, 0.5, 0.7]\n",
      "tf.Tensor([[0.00633727 0.52837867 0.44132248 0.02396159]], shape=(1, 4), dtype=float32)\n",
      "[0.6, 0.6, 0.5, 0.7]\n",
      "tf.Tensor([[0.00546836 0.49814224 0.47142294 0.0249664 ]], shape=(1, 4), dtype=float32)\n",
      "[0.6, 0.8, 0.5, 0.7]\n",
      "tf.Tensor([[0.00633727 0.52837867 0.44132248 0.02396159]], shape=(1, 4), dtype=float32)\n",
      "[0.6, 0.6, 0.5, 0.7]\n",
      "tf.Tensor([[0.00546836 0.49814224 0.47142294 0.0249664 ]], shape=(1, 4), dtype=float32)\n",
      "[0.6, 0.8, 0.5, 0.7]\n",
      "tf.Tensor([[0.00633727 0.52837867 0.44132248 0.02396159]], shape=(1, 4), dtype=float32)\n",
      "[0.6, 0.6, 0.5, 0.7]\n",
      "tf.Tensor([[0.00546836 0.49814224 0.47142294 0.0249664 ]], shape=(1, 4), dtype=float32)\n",
      "[0.6, 0.8, 0.5, 0.7]\n",
      "tf.Tensor([[0.00633727 0.52837867 0.44132248 0.02396159]], shape=(1, 4), dtype=float32)\n",
      "[0.6, 0.6, 0.5, 0.7]\n",
      "tf.Tensor([[0.00546836 0.49814224 0.47142294 0.0249664 ]], shape=(1, 4), dtype=float32)\n",
      "[0.6, 0.8, 0.5, 0.7]\n",
      "tf.Tensor([[0.00633727 0.52837867 0.44132248 0.02396159]], shape=(1, 4), dtype=float32)\n",
      "[0.6, 0.6, 0.5, 0.7]\n",
      "tf.Tensor([[0.00546836 0.49814224 0.47142294 0.0249664 ]], shape=(1, 4), dtype=float32)\n"
     ]
    },
    {
     "name": "stderr",
     "output_type": "stream",
     "text": [
      "\r",
      " 12%|████████▍                                                             | 12101/100000 [3:49:16<18:17:02,  1.34it/s]"
     ]
    },
    {
     "name": "stdout",
     "output_type": "stream",
     "text": [
      "[0.6, 0.8, 0.5, 0.7]\n",
      "tf.Tensor([[0.00633727 0.52837867 0.44132248 0.02396159]], shape=(1, 4), dtype=float32)\n",
      "[0.6, 0.6, 0.5, 0.7]\n",
      "tf.Tensor([[0.00546836 0.49814224 0.47142294 0.0249664 ]], shape=(1, 4), dtype=float32)\n",
      "[0.6, 0.8, 0.5, 0.7]\n",
      "tf.Tensor([[0.00633727 0.52837867 0.44132248 0.02396159]], shape=(1, 4), dtype=float32)\n",
      "[0.6, 0.6, 0.5, 0.7]\n",
      "tf.Tensor([[0.00546836 0.49814224 0.47142294 0.0249664 ]], shape=(1, 4), dtype=float32)\n",
      "[0.6, 0.8, 0.5, 0.7]\n",
      "tf.Tensor([[0.00633727 0.52837867 0.44132248 0.02396159]], shape=(1, 4), dtype=float32)\n",
      "[0.6, 0.6, 0.5, 0.7]\n",
      "tf.Tensor([[0.00546836 0.49814224 0.47142294 0.0249664 ]], shape=(1, 4), dtype=float32)\n"
     ]
    },
    {
     "name": "stderr",
     "output_type": "stream",
     "text": [
      " 12%|████████▌                                                             | 12201/100000 [3:50:41<19:59:21,  1.22it/s]"
     ]
    },
    {
     "name": "stdout",
     "output_type": "stream",
     "text": [
      "-4.613201594488714\n",
      "99\n"
     ]
    },
    {
     "name": "stderr",
     "output_type": "stream",
     "text": [
      " 12%|████████▌                                                             | 12300/100000 [3:52:06<34:50:49,  1.43s/it]"
     ]
    },
    {
     "name": "stdout",
     "output_type": "stream",
     "text": [
      "-7.3561515439248755\n",
      "97\n",
      "[0.2, 0.8, 0.7, 0.1]\n",
      "tf.Tensor([[0.0021706  0.34681854 0.6060199  0.04499087]], shape=(1, 4), dtype=float32)\n",
      "[0.2, 0.5, 0.7, 0.1]\n",
      "tf.Tensor([[0.00242513 0.36885145 0.5879093  0.04081412]], shape=(1, 4), dtype=float32)\n",
      "[0.5, 0.5, 0.7, 0.1]\n",
      "tf.Tensor([[0.00337949 0.43064022 0.5305612  0.03541911]], shape=(1, 4), dtype=float32)\n",
      "[0.5, 0.2, 0.7, 0.1]\n",
      "tf.Tensor([[0.00742361 0.5731358  0.3963726  0.02306794]], shape=(1, 4), dtype=float32)\n",
      "[0.7, 0.2, 0.7, 0.1]\n",
      "tf.Tensor([[0.00879847 0.6090482  0.36091828 0.02123511]], shape=(1, 4), dtype=float32)\n",
      "[0.7, 0.0, 0.7, 0.1]\n",
      "tf.Tensor([[0.00736204 0.5988277  0.37290367 0.02090657]], shape=(1, 4), dtype=float32)\n",
      "[0.7, 0.2, 0.7, 0.1]\n",
      "tf.Tensor([[0.00878726 0.63127756 0.34058696 0.01934826]], shape=(1, 4), dtype=float32)\n",
      "[0.7, 0.0, 0.7, 0.1]\n",
      "tf.Tensor([[0.0077314  0.6209793  0.35213295 0.0191564 ]], shape=(1, 4), dtype=float32)\n",
      "[0.7, 0.2, 0.7, 0.1]\n",
      "tf.Tensor([[0.00880212 0.6428703  0.33002758 0.01829994]], shape=(1, 4), dtype=float32)\n",
      "[0.7, 0.0, 0.7, 0.1]\n",
      "tf.Tensor([[0.0077314  0.6209793  0.35213295 0.0191564 ]], shape=(1, 4), dtype=float32)\n",
      "[0.7, 0.2, 0.7, 0.1]\n",
      "tf.Tensor([[0.00880212 0.6428703  0.33002758 0.01829994]], shape=(1, 4), dtype=float32)\n",
      "[0.7, 0.0, 0.7, 0.1]\n",
      "tf.Tensor([[0.0077314  0.6209793  0.35213295 0.0191564 ]], shape=(1, 4), dtype=float32)\n",
      "[0.7, 0.2, 0.7, 0.1]\n",
      "tf.Tensor([[0.00880212 0.6428703  0.33002758 0.01829994]], shape=(1, 4), dtype=float32)\n",
      "[0.7, 0.0, 0.7, 0.1]\n",
      "tf.Tensor([[0.0077314  0.6209793  0.35213295 0.0191564 ]], shape=(1, 4), dtype=float32)\n",
      "[0.7, 0.2, 0.7, 0.1]\n",
      "tf.Tensor([[0.00880212 0.6428703  0.33002758 0.01829994]], shape=(1, 4), dtype=float32)\n",
      "[0.7, 0.0, 0.7, 0.1]\n",
      "tf.Tensor([[0.0077314  0.6209793  0.35213295 0.0191564 ]], shape=(1, 4), dtype=float32)\n",
      "[0.7, 0.2, 0.7, 0.1]\n",
      "tf.Tensor([[0.00880212 0.6428703  0.33002758 0.01829994]], shape=(1, 4), dtype=float32)\n",
      "[0.7, 0.0, 0.7, 0.1]\n",
      "tf.Tensor([[0.0077314  0.6209793  0.35213295 0.0191564 ]], shape=(1, 4), dtype=float32)\n",
      "[0.7, 0.2, 0.7, 0.1]\n",
      "tf.Tensor([[0.00880212 0.6428703  0.33002758 0.01829994]], shape=(1, 4), dtype=float32)\n",
      "[0.7, 0.0, 0.7, 0.1]\n",
      "tf.Tensor([[0.0077314  0.6209793  0.35213295 0.0191564 ]], shape=(1, 4), dtype=float32)\n",
      "[0.7, 0.2, 0.7, 0.1]\n",
      "tf.Tensor([[0.00880212 0.6428703  0.33002758 0.01829994]], shape=(1, 4), dtype=float32)\n",
      "[0.7, 0.0, 0.7, 0.1]\n",
      "tf.Tensor([[0.0077314  0.6209793  0.35213295 0.0191564 ]], shape=(1, 4), dtype=float32)\n",
      "[0.7, 0.2, 0.7, 0.1]\n",
      "tf.Tensor([[0.00880212 0.6428703  0.33002758 0.01829994]], shape=(1, 4), dtype=float32)\n",
      "[0.7, 0.0, 0.7, 0.1]\n",
      "tf.Tensor([[0.0077314  0.6209793  0.35213295 0.0191564 ]], shape=(1, 4), dtype=float32)\n",
      "[0.7, 0.2, 0.7, 0.1]\n",
      "tf.Tensor([[0.00880212 0.6428703  0.33002758 0.01829994]], shape=(1, 4), dtype=float32)\n",
      "[0.7, 0.0, 0.7, 0.1]\n",
      "tf.Tensor([[0.0077314  0.6209793  0.35213295 0.0191564 ]], shape=(1, 4), dtype=float32)\n",
      "[0.7, 0.2, 0.7, 0.1]\n",
      "tf.Tensor([[0.00880212 0.6428703  0.33002758 0.01829994]], shape=(1, 4), dtype=float32)\n",
      "[0.7, 0.0, 0.7, 0.1]\n",
      "tf.Tensor([[0.0077314  0.6209793  0.35213295 0.0191564 ]], shape=(1, 4), dtype=float32)\n",
      "[0.7, 0.2, 0.7, 0.1]\n",
      "tf.Tensor([[0.00880212 0.6428703  0.33002758 0.01829994]], shape=(1, 4), dtype=float32)\n",
      "[0.7, 0.0, 0.7, 0.1]\n",
      "tf.Tensor([[0.0077314  0.6209793  0.35213295 0.0191564 ]], shape=(1, 4), dtype=float32)\n",
      "[0.7, 0.2, 0.7, 0.1]\n",
      "tf.Tensor([[0.00880212 0.6428703  0.33002758 0.01829994]], shape=(1, 4), dtype=float32)\n",
      "[0.7, 0.0, 0.7, 0.1]\n",
      "tf.Tensor([[0.0077314  0.6209793  0.35213295 0.0191564 ]], shape=(1, 4), dtype=float32)\n",
      "[0.7, 0.2, 0.7, 0.1]\n"
     ]
    },
    {
     "name": "stderr",
     "output_type": "stream",
     "text": [
      "\r",
      " 12%|████████▌                                                             | 12301/100000 [3:52:07<30:03:08,  1.23s/it]"
     ]
    },
    {
     "name": "stdout",
     "output_type": "stream",
     "text": [
      "tf.Tensor([[0.00880212 0.6428703  0.33002758 0.01829994]], shape=(1, 4), dtype=float32)\n",
      "[0.7, 0.0, 0.7, 0.1]\n",
      "tf.Tensor([[0.0077314  0.6209793  0.35213295 0.0191564 ]], shape=(1, 4), dtype=float32)\n",
      "[0.7, 0.2, 0.7, 0.1]\n",
      "tf.Tensor([[0.00880212 0.6428703  0.33002758 0.01829994]], shape=(1, 4), dtype=float32)\n",
      "[0.7, 0.0, 0.7, 0.1]\n",
      "tf.Tensor([[0.0077314  0.6209793  0.35213295 0.0191564 ]], shape=(1, 4), dtype=float32)\n",
      "[0.7, 0.2, 0.7, 0.1]\n",
      "tf.Tensor([[0.00880212 0.6428703  0.33002758 0.01829994]], shape=(1, 4), dtype=float32)\n",
      "[0.7, 0.0, 0.7, 0.1]\n",
      "tf.Tensor([[0.0077314  0.6209793  0.35213295 0.0191564 ]], shape=(1, 4), dtype=float32)\n",
      "[0.7, 0.2, 0.7, 0.1]\n",
      "tf.Tensor([[0.00880212 0.6428703  0.33002758 0.01829994]], shape=(1, 4), dtype=float32)\n",
      "[0.7, 0.0, 0.7, 0.1]\n",
      "tf.Tensor([[0.0077314  0.6209793  0.35213295 0.0191564 ]], shape=(1, 4), dtype=float32)\n"
     ]
    },
    {
     "name": "stderr",
     "output_type": "stream",
     "text": [
      " 12%|████████▋                                                             | 12401/100000 [3:53:41<16:11:36,  1.50it/s]"
     ]
    },
    {
     "name": "stdout",
     "output_type": "stream",
     "text": [
      "-1.9673856744061247\n",
      "96\n"
     ]
    },
    {
     "name": "stderr",
     "output_type": "stream",
     "text": [
      " 12%|████████▊                                                             | 12500/100000 [3:55:25<18:00:41,  1.35it/s]"
     ]
    },
    {
     "name": "stdout",
     "output_type": "stream",
     "text": [
      "-5.0760306456735735\n",
      "97\n",
      "[0.9, 0.0, 0.5, 0.7]\n",
      "tf.Tensor([[0.0015396  0.35336095 0.61055297 0.03454652]], shape=(1, 4), dtype=float32)\n",
      "[0.9, 0.3, 0.5, 0.7]\n",
      "tf.Tensor([[0.00162054 0.38911623 0.58013284 0.02913049]], shape=(1, 4), dtype=float32)\n",
      "[0.9, 0.6, 0.5, 0.7]\n",
      "tf.Tensor([[0.00290395 0.47460258 0.49945349 0.02303992]], shape=(1, 4), dtype=float32)\n",
      "[0.6, 0.6, 0.5, 0.7]\n",
      "tf.Tensor([[0.01120374 0.6850841  0.29237515 0.011337  ]], shape=(1, 4), dtype=float32)\n",
      "[0.6, 0.8, 0.5, 0.7]\n",
      "tf.Tensor([[0.00932879 0.66001505 0.31700805 0.01364815]], shape=(1, 4), dtype=float32)\n",
      "[0.6, 0.6, 0.5, 0.7]\n",
      "tf.Tensor([[0.008619   0.63199717 0.34441653 0.01496727]], shape=(1, 4), dtype=float32)\n",
      "[0.6, 0.8, 0.5, 0.7]\n",
      "tf.Tensor([[0.00541351 0.59481066 0.38307753 0.01669822]], shape=(1, 4), dtype=float32)\n",
      "[0.6, 0.6, 0.5, 0.7]\n",
      "tf.Tensor([[0.00472671 0.56802386 0.40980563 0.01744381]], shape=(1, 4), dtype=float32)\n",
      "[0.6, 0.8, 0.5, 0.7]\n",
      "tf.Tensor([[0.00541351 0.59481066 0.38307753 0.01669822]], shape=(1, 4), dtype=float32)\n",
      "[0.6, 0.6, 0.5, 0.7]\n",
      "tf.Tensor([[0.00472671 0.56802386 0.40980563 0.01744381]], shape=(1, 4), dtype=float32)\n",
      "[0.6, 0.8, 0.5, 0.7]\n",
      "tf.Tensor([[0.00541351 0.59481066 0.38307753 0.01669822]], shape=(1, 4), dtype=float32)\n",
      "[0.6, 0.6, 0.5, 0.7]\n",
      "tf.Tensor([[0.00472671 0.56802386 0.40980563 0.01744381]], shape=(1, 4), dtype=float32)\n",
      "[0.6, 0.8, 0.5, 0.7]\n",
      "tf.Tensor([[0.00541351 0.59481066 0.38307753 0.01669822]], shape=(1, 4), dtype=float32)\n",
      "[0.6, 0.6, 0.5, 0.7]\n",
      "tf.Tensor([[0.00472671 0.56802386 0.40980563 0.01744381]], shape=(1, 4), dtype=float32)\n",
      "[0.6, 0.8, 0.5, 0.7]\n",
      "tf.Tensor([[0.00541351 0.59481066 0.38307753 0.01669822]], shape=(1, 4), dtype=float32)\n",
      "[0.6, 0.6, 0.5, 0.7]\n",
      "tf.Tensor([[0.00472671 0.56802386 0.40980563 0.01744381]], shape=(1, 4), dtype=float32)\n",
      "[0.6, 0.8, 0.5, 0.7]\n",
      "tf.Tensor([[0.00541351 0.59481066 0.38307753 0.01669822]], shape=(1, 4), dtype=float32)\n",
      "[0.6, 0.6, 0.5, 0.7]\n",
      "tf.Tensor([[0.00472671 0.56802386 0.40980563 0.01744381]], shape=(1, 4), dtype=float32)\n",
      "[0.6, 0.8, 0.5, 0.7]\n",
      "tf.Tensor([[0.00541351 0.59481066 0.38307753 0.01669822]], shape=(1, 4), dtype=float32)\n",
      "[0.6, 0.6, 0.5, 0.7]\n",
      "tf.Tensor([[0.00472671 0.56802386 0.40980563 0.01744381]], shape=(1, 4), dtype=float32)\n",
      "[0.6, 0.8, 0.5, 0.7]\n",
      "tf.Tensor([[0.00541351 0.59481066 0.38307753 0.01669822]], shape=(1, 4), dtype=float32)\n",
      "[0.6, 0.6, 0.5, 0.7]\n",
      "tf.Tensor([[0.00472671 0.56802386 0.40980563 0.01744381]], shape=(1, 4), dtype=float32)\n",
      "[0.6, 0.8, 0.5, 0.7]\n",
      "tf.Tensor([[0.00541351 0.59481066 0.38307753 0.01669822]], shape=(1, 4), dtype=float32)\n",
      "[0.6, 0.6, 0.5, 0.7]\n",
      "tf.Tensor([[0.00472671 0.56802386 0.40980563 0.01744381]], shape=(1, 4), dtype=float32)\n",
      "[0.6, 0.8, 0.5, 0.7]\n",
      "tf.Tensor([[0.00541351 0.59481066 0.38307753 0.01669822]], shape=(1, 4), dtype=float32)\n",
      "[0.6, 0.6, 0.5, 0.7]\n",
      "tf.Tensor([[0.00472671 0.56802386 0.40980563 0.01744381]], shape=(1, 4), dtype=float32)\n",
      "[0.6, 0.8, 0.5, 0.7]\n",
      "tf.Tensor([[0.00541351 0.59481066 0.38307753 0.01669822]], shape=(1, 4), dtype=float32)\n",
      "[0.6, 0.6, 0.5, 0.7]\n",
      "tf.Tensor([[0.00472671 0.56802386 0.40980563 0.01744381]], shape=(1, 4), dtype=float32)\n",
      "[0.6, 0.8, 0.5, 0.7]\n",
      "tf.Tensor([[0.00541351 0.59481066 0.38307753 0.01669822]], shape=(1, 4), dtype=float32)\n",
      "[0.6, 0.6, 0.5, 0.7]\n",
      "tf.Tensor([[0.00472671 0.56802386 0.40980563 0.01744381]], shape=(1, 4), dtype=float32)\n",
      "[0.6, 0.8, 0.5, 0.7]\n",
      "tf.Tensor([[0.00541351 0.59481066 0.38307753 0.01669822]], shape=(1, 4), dtype=float32)\n",
      "[0.6, 0.6, 0.5, 0.7]\n",
      "tf.Tensor([[0.00472671 0.56802386 0.40980563 0.01744381]], shape=(1, 4), dtype=float32)"
     ]
    },
    {
     "name": "stderr",
     "output_type": "stream",
     "text": [
      "\r",
      " 13%|████████▊                                                             | 12501/100000 [3:55:26<20:15:00,  1.20it/s]"
     ]
    },
    {
     "name": "stdout",
     "output_type": "stream",
     "text": [
      "\n",
      "[0.6, 0.8, 0.5, 0.7]\n",
      "tf.Tensor([[0.00541351 0.59481066 0.38307753 0.01669822]], shape=(1, 4), dtype=float32)\n",
      "[0.6, 0.6, 0.5, 0.7]\n",
      "tf.Tensor([[0.00472671 0.56802386 0.40980563 0.01744381]], shape=(1, 4), dtype=float32)\n",
      "[0.6, 0.8, 0.5, 0.7]\n",
      "tf.Tensor([[0.00541351 0.59481066 0.38307753 0.01669822]], shape=(1, 4), dtype=float32)\n",
      "[0.6, 0.6, 0.5, 0.7]\n",
      "tf.Tensor([[0.00472671 0.56802386 0.40980563 0.01744381]], shape=(1, 4), dtype=float32)\n",
      "[0.6, 0.8, 0.5, 0.7]\n",
      "tf.Tensor([[0.00541351 0.59481066 0.38307753 0.01669822]], shape=(1, 4), dtype=float32)\n",
      "[0.6, 0.6, 0.5, 0.7]\n",
      "tf.Tensor([[0.00472671 0.56802386 0.40980563 0.01744381]], shape=(1, 4), dtype=float32)\n",
      "[0.6, 0.8, 0.5, 0.7]\n",
      "tf.Tensor([[0.00541351 0.59481066 0.38307753 0.01669822]], shape=(1, 4), dtype=float32)\n",
      "[0.6, 0.6, 0.5, 0.7]\n",
      "tf.Tensor([[0.00472671 0.56802386 0.40980563 0.01744381]], shape=(1, 4), dtype=float32)\n"
     ]
    },
    {
     "name": "stderr",
     "output_type": "stream",
     "text": [
      " 13%|████████▊                                                             | 12601/100000 [3:56:43<13:09:25,  1.85it/s]"
     ]
    },
    {
     "name": "stdout",
     "output_type": "stream",
     "text": [
      "-0.6915034397108482\n",
      "99\n"
     ]
    },
    {
     "name": "stderr",
     "output_type": "stream",
     "text": [
      " 13%|████████▉                                                             | 12700/100000 [3:58:05<18:08:35,  1.34it/s]"
     ]
    },
    {
     "name": "stdout",
     "output_type": "stream",
     "text": [
      "-5.419672882561644\n",
      "97\n",
      "[0.7, 0.3, 0.6, 0.2]\n",
      "tf.Tensor([[0.00210379 0.35939997 0.6007944  0.03770186]], shape=(1, 4), dtype=float32)\n",
      "[0.7, 0.0, 0.6, 0.2]\n",
      "tf.Tensor([[0.00204379 0.3836465  0.5817058  0.03260391]], shape=(1, 4), dtype=float32)\n",
      "[0.7, 0.3, 0.6, 0.2]\n",
      "tf.Tensor([[0.00303326 0.45246637 0.5173124  0.02718794]], shape=(1, 4), dtype=float32)\n",
      "[0.7, 0.0, 0.6, 0.2]\n",
      "tf.Tensor([[0.00716559 0.6064914  0.36991316 0.01642987]], shape=(1, 4), dtype=float32)\n",
      "[0.7, 0.2, 0.6, 0.2]\n",
      "tf.Tensor([[0.01116087 0.6444238  0.3291817  0.0152337 ]], shape=(1, 4), dtype=float32)\n",
      "[0.5, 0.2, 0.6, 0.2]\n",
      "tf.Tensor([[0.0110697  0.6297224  0.3433102  0.01589766]], shape=(1, 4), dtype=float32)\n",
      "[0.7, 0.2, 0.6, 0.2]\n",
      "tf.Tensor([[0.01929643 0.6766761  0.28993115 0.01409629]], shape=(1, 4), dtype=float32)\n",
      "[0.5, 0.2, 0.6, 0.2]\n",
      "tf.Tensor([[0.02174559 0.674642   0.2893101  0.01430238]], shape=(1, 4), dtype=float32)\n",
      "[0.7, 0.2, 0.6, 0.2]\n",
      "tf.Tensor([[0.02020835 0.668477   0.29634058 0.01497405]], shape=(1, 4), dtype=float32)\n",
      "[0.5, 0.2, 0.6, 0.2]\n",
      "tf.Tensor([[0.02174559 0.674642   0.2893101  0.01430238]], shape=(1, 4), dtype=float32)\n",
      "[0.7, 0.2, 0.6, 0.2]\n",
      "tf.Tensor([[0.02020835 0.668477   0.29634058 0.01497405]], shape=(1, 4), dtype=float32)\n",
      "[0.5, 0.2, 0.6, 0.2]\n",
      "tf.Tensor([[0.02174559 0.674642   0.2893101  0.01430238]], shape=(1, 4), dtype=float32)\n",
      "[0.7, 0.2, 0.6, 0.2]\n",
      "tf.Tensor([[0.02020835 0.668477   0.29634058 0.01497405]], shape=(1, 4), dtype=float32)\n",
      "[0.5, 0.2, 0.6, 0.2]\n",
      "tf.Tensor([[0.02174559 0.674642   0.2893101  0.01430238]], shape=(1, 4), dtype=float32)\n",
      "[0.7, 0.2, 0.6, 0.2]\n",
      "tf.Tensor([[0.02020835 0.668477   0.29634058 0.01497405]], shape=(1, 4), dtype=float32)\n",
      "[0.5, 0.2, 0.6, 0.2]\n",
      "tf.Tensor([[0.02174559 0.674642   0.2893101  0.01430238]], shape=(1, 4), dtype=float32)\n",
      "[0.7, 0.2, 0.6, 0.2]\n",
      "tf.Tensor([[0.02020835 0.668477   0.29634058 0.01497405]], shape=(1, 4), dtype=float32)\n",
      "[0.5, 0.2, 0.6, 0.2]\n",
      "tf.Tensor([[0.02174559 0.674642   0.2893101  0.01430238]], shape=(1, 4), dtype=float32)\n",
      "[0.7, 0.2, 0.6, 0.2]\n",
      "tf.Tensor([[0.02020835 0.668477   0.29634058 0.01497405]], shape=(1, 4), dtype=float32)\n",
      "[0.5, 0.2, 0.6, 0.2]\n",
      "tf.Tensor([[0.02174559 0.674642   0.2893101  0.01430238]], shape=(1, 4), dtype=float32)\n",
      "[0.7, 0.2, 0.6, 0.2]\n",
      "tf.Tensor([[0.02020835 0.668477   0.29634058 0.01497405]], shape=(1, 4), dtype=float32)\n",
      "[0.5, 0.2, 0.6, 0.2]\n",
      "tf.Tensor([[0.02174559 0.674642   0.2893101  0.01430238]], shape=(1, 4), dtype=float32)\n",
      "[0.7, 0.2, 0.6, 0.2]\n",
      "tf.Tensor([[0.02020835 0.668477   0.29634058 0.01497405]], shape=(1, 4), dtype=float32)\n",
      "[0.5, 0.2, 0.6, 0.2]\n",
      "tf.Tensor([[0.02174559 0.674642   0.2893101  0.01430238]], shape=(1, 4), dtype=float32)\n",
      "[0.7, 0.2, 0.6, 0.2]\n",
      "tf.Tensor([[0.02020835 0.668477   0.29634058 0.01497405]], shape=(1, 4), dtype=float32)\n",
      "[0.5, 0.2, 0.6, 0.2]\n",
      "tf.Tensor([[0.02174559 0.674642   0.2893101  0.01430238]], shape=(1, 4), dtype=float32)\n",
      "[0.7, 0.2, 0.6, 0.2]\n",
      "tf.Tensor([[0.02020835 0.668477   0.29634058 0.01497405]], shape=(1, 4), dtype=float32)\n",
      "[0.5, 0.2, 0.6, 0.2]\n",
      "tf.Tensor([[0.02174559 0.674642   0.2893101  0.01430238]], shape=(1, 4), dtype=float32)\n",
      "[0.7, 0.2, 0.6, 0.2]\n",
      "tf.Tensor([[0.02020835 0.668477   0.29634058 0.01497405]], shape=(1, 4), dtype=float32)\n",
      "[0.5, 0.2, 0.6, 0.2]\n",
      "tf.Tensor([[0.02174559 0.674642   0.2893101  0.01430238]], shape=(1, 4), dtype=float32)\n",
      "[0.7, 0.2, 0.6, 0.2]\n"
     ]
    },
    {
     "name": "stderr",
     "output_type": "stream",
     "text": [
      "\r",
      " 13%|████████▉                                                             | 12701/100000 [3:58:06<20:07:58,  1.20it/s]"
     ]
    },
    {
     "name": "stdout",
     "output_type": "stream",
     "text": [
      "tf.Tensor([[0.02020835 0.668477   0.29634058 0.01497405]], shape=(1, 4), dtype=float32)\n",
      "[0.5, 0.2, 0.6, 0.2]\n",
      "tf.Tensor([[0.02174559 0.674642   0.2893101  0.01430238]], shape=(1, 4), dtype=float32)\n",
      "[0.7, 0.2, 0.6, 0.2]\n",
      "tf.Tensor([[0.02020835 0.668477   0.29634058 0.01497405]], shape=(1, 4), dtype=float32)\n",
      "[0.5, 0.2, 0.6, 0.2]\n",
      "tf.Tensor([[0.02174559 0.674642   0.2893101  0.01430238]], shape=(1, 4), dtype=float32)\n",
      "[0.7, 0.2, 0.6, 0.2]\n",
      "tf.Tensor([[0.02020835 0.668477   0.29634058 0.01497405]], shape=(1, 4), dtype=float32)\n",
      "[0.5, 0.2, 0.6, 0.2]\n",
      "tf.Tensor([[0.02174559 0.674642   0.2893101  0.01430238]], shape=(1, 4), dtype=float32)\n",
      "[0.7, 0.2, 0.6, 0.2]\n",
      "tf.Tensor([[0.02020835 0.668477   0.29634058 0.01497405]], shape=(1, 4), dtype=float32)\n",
      "[0.5, 0.2, 0.6, 0.2]\n",
      "tf.Tensor([[0.02174559 0.674642   0.2893101  0.01430238]], shape=(1, 4), dtype=float32)\n",
      "[0.7, 0.2, 0.6, 0.2]\n",
      "tf.Tensor([[0.02020835 0.668477   0.29634058 0.01497405]], shape=(1, 4), dtype=float32)\n",
      "[0.5, 0.2, 0.6, 0.2]\n",
      "tf.Tensor([[0.02174559 0.674642   0.2893101  0.01430238]], shape=(1, 4), dtype=float32)\n"
     ]
    },
    {
     "name": "stderr",
     "output_type": "stream",
     "text": [
      " 13%|████████▉                                                             | 12801/100000 [3:59:24<21:53:14,  1.11it/s]"
     ]
    },
    {
     "name": "stdout",
     "output_type": "stream",
     "text": [
      "-4.109642812445267\n",
      "98\n"
     ]
    },
    {
     "name": "stderr",
     "output_type": "stream",
     "text": [
      " 13%|█████████                                                             | 12900/100000 [4:00:39<16:54:58,  1.43it/s]"
     ]
    },
    {
     "name": "stdout",
     "output_type": "stream",
     "text": [
      "0.39052735873752237\n",
      "99\n",
      "[0.3, 0.6, 0.1, 0.1]\n",
      "tf.Tensor([[0.00230883 0.38152796 0.5797856  0.03637767]], shape=(1, 4), dtype=float32)\n",
      "[0.3, 0.3, 0.1, 0.1]\n",
      "tf.Tensor([[0.00272114 0.41056395 0.5525984  0.03411651]], shape=(1, 4), dtype=float32)\n",
      "[0.3, 0.0, 0.1, 0.1]\n",
      "tf.Tensor([[0.00420398 0.4582746  0.50666887 0.03085258]], shape=(1, 4), dtype=float32)\n",
      "[0.0, 0.0, 0.1, 0.1]\n",
      "tf.Tensor([[0.00858752 0.548276   0.4199681  0.02316837]], shape=(1, 4), dtype=float32)\n",
      "[0.0, 0.2, 0.1, 0.1]\n",
      "tf.Tensor([[0.01031088 0.5597766  0.40859553 0.02131697]], shape=(1, 4), dtype=float32)\n",
      "[0.2, 0.2, 0.1, 0.1]\n",
      "tf.Tensor([[0.01169509 0.5793074  0.38800403 0.02099346]], shape=(1, 4), dtype=float32)\n",
      "[0.2, 0.0, 0.1, 0.1]\n",
      "tf.Tensor([[0.00695687 0.5327794  0.43824577 0.02201794]], shape=(1, 4), dtype=float32)\n",
      "[0.2, 0.2, 0.1, 0.1]\n",
      "tf.Tensor([[0.00746496 0.5444747  0.42556745 0.02249288]], shape=(1, 4), dtype=float32)\n",
      "[0.2, 0.0, 0.1, 0.1]\n",
      "tf.Tensor([[0.00694616 0.53917295 0.431535   0.02234586]], shape=(1, 4), dtype=float32)\n",
      "[0.2, 0.2, 0.1, 0.1]\n",
      "tf.Tensor([[0.00747791 0.5534858  0.41711026 0.02192604]], shape=(1, 4), dtype=float32)\n",
      "[0.2, 0.0, 0.1, 0.1]\n",
      "tf.Tensor([[0.00694616 0.53917295 0.431535   0.02234586]], shape=(1, 4), dtype=float32)\n",
      "[0.2, 0.2, 0.1, 0.1]\n",
      "tf.Tensor([[0.00747791 0.5534858  0.41711026 0.02192604]], shape=(1, 4), dtype=float32)\n",
      "[0.2, 0.0, 0.1, 0.1]\n",
      "tf.Tensor([[0.00694616 0.53917295 0.431535   0.02234586]], shape=(1, 4), dtype=float32)\n",
      "[0.2, 0.2, 0.1, 0.1]\n",
      "tf.Tensor([[0.00747791 0.5534858  0.41711026 0.02192604]], shape=(1, 4), dtype=float32)\n",
      "[0.2, 0.0, 0.1, 0.1]\n",
      "tf.Tensor([[0.00694616 0.53917295 0.431535   0.02234586]], shape=(1, 4), dtype=float32)\n",
      "[0.2, 0.2, 0.1, 0.1]\n",
      "tf.Tensor([[0.00747791 0.5534858  0.41711026 0.02192604]], shape=(1, 4), dtype=float32)\n",
      "[0.2, 0.0, 0.1, 0.1]\n",
      "tf.Tensor([[0.00694616 0.53917295 0.431535   0.02234586]], shape=(1, 4), dtype=float32)\n",
      "[0.2, 0.2, 0.1, 0.1]\n",
      "tf.Tensor([[0.00747791 0.5534858  0.41711026 0.02192604]], shape=(1, 4), dtype=float32)\n",
      "[0.2, 0.0, 0.1, 0.1]\n",
      "tf.Tensor([[0.00694616 0.53917295 0.431535   0.02234586]], shape=(1, 4), dtype=float32)\n",
      "[0.2, 0.2, 0.1, 0.1]\n",
      "tf.Tensor([[0.00747791 0.5534858  0.41711026 0.02192604]], shape=(1, 4), dtype=float32)\n",
      "[0.2, 0.0, 0.1, 0.1]\n",
      "tf.Tensor([[0.00694616 0.53917295 0.431535   0.02234586]], shape=(1, 4), dtype=float32)\n",
      "[0.2, 0.2, 0.1, 0.1]\n",
      "tf.Tensor([[0.00747791 0.5534858  0.41711026 0.02192604]], shape=(1, 4), dtype=float32)\n",
      "[0.2, 0.0, 0.1, 0.1]\n",
      "tf.Tensor([[0.00694616 0.53917295 0.431535   0.02234586]], shape=(1, 4), dtype=float32)\n",
      "[0.2, 0.2, 0.1, 0.1]\n",
      "tf.Tensor([[0.00747791 0.5534858  0.41711026 0.02192604]], shape=(1, 4), dtype=float32)\n",
      "[0.2, 0.0, 0.1, 0.1]\n",
      "tf.Tensor([[0.00694616 0.53917295 0.431535   0.02234586]], shape=(1, 4), dtype=float32)\n",
      "[0.2, 0.2, 0.1, 0.1]\n",
      "tf.Tensor([[0.00747791 0.5534858  0.41711026 0.02192604]], shape=(1, 4), dtype=float32)\n",
      "[0.2, 0.0, 0.1, 0.1]\n",
      "tf.Tensor([[0.00694616 0.53917295 0.431535   0.02234586]], shape=(1, 4), dtype=float32)\n",
      "[0.2, 0.2, 0.1, 0.1]\n",
      "tf.Tensor([[0.00747791 0.5534858  0.41711026 0.02192604]], shape=(1, 4), dtype=float32)\n",
      "[0.2, 0.0, 0.1, 0.1]\n",
      "tf.Tensor([[0.00694616 0.53917295 0.431535   0.02234586]], shape=(1, 4), dtype=float32)\n",
      "[0.2, 0.2, 0.1, 0.1]\n"
     ]
    },
    {
     "name": "stderr",
     "output_type": "stream",
     "text": [
      "\r",
      " 13%|█████████                                                             | 12901/100000 [4:00:40<17:00:40,  1.42it/s]"
     ]
    },
    {
     "name": "stdout",
     "output_type": "stream",
     "text": [
      "tf.Tensor([[0.00747791 0.5534858  0.41711026 0.02192604]], shape=(1, 4), dtype=float32)\n",
      "[0.2, 0.0, 0.1, 0.1]\n",
      "tf.Tensor([[0.00694616 0.53917295 0.431535   0.02234586]], shape=(1, 4), dtype=float32)\n",
      "[0.2, 0.2, 0.1, 0.1]\n",
      "tf.Tensor([[0.00747791 0.5534858  0.41711026 0.02192604]], shape=(1, 4), dtype=float32)\n",
      "[0.2, 0.0, 0.1, 0.1]\n",
      "tf.Tensor([[0.00694616 0.53917295 0.431535   0.02234586]], shape=(1, 4), dtype=float32)\n",
      "[0.2, 0.2, 0.1, 0.1]\n",
      "tf.Tensor([[0.00747791 0.5534858  0.41711026 0.02192604]], shape=(1, 4), dtype=float32)\n",
      "[0.2, 0.0, 0.1, 0.1]\n",
      "tf.Tensor([[0.00694616 0.53917295 0.431535   0.02234586]], shape=(1, 4), dtype=float32)\n",
      "[0.2, 0.2, 0.1, 0.1]\n",
      "tf.Tensor([[0.00747791 0.5534858  0.41711026 0.02192604]], shape=(1, 4), dtype=float32)\n",
      "[0.2, 0.0, 0.1, 0.1]\n",
      "tf.Tensor([[0.00694616 0.53917295 0.431535   0.02234586]], shape=(1, 4), dtype=float32)\n",
      "[0.2, 0.2, 0.1, 0.1]\n",
      "tf.Tensor([[0.00747791 0.5534858  0.41711026 0.02192604]], shape=(1, 4), dtype=float32)\n",
      "[0.2, 0.0, 0.1, 0.1]\n",
      "tf.Tensor([[0.00694616 0.53917295 0.431535   0.02234586]], shape=(1, 4), dtype=float32)\n",
      "[0.2, 0.2, 0.1, 0.1]\n",
      "tf.Tensor([[0.00747791 0.5534858  0.41711026 0.02192604]], shape=(1, 4), dtype=float32)\n"
     ]
    },
    {
     "name": "stderr",
     "output_type": "stream",
     "text": [
      " 13%|█████████                                                             | 13001/100000 [4:02:08<22:36:50,  1.07it/s]"
     ]
    },
    {
     "name": "stdout",
     "output_type": "stream",
     "text": [
      "-0.8535713300348823\n",
      "97\n"
     ]
    },
    {
     "name": "stderr",
     "output_type": "stream",
     "text": [
      " 13%|█████████▏                                                            | 13100/100000 [4:03:35<27:50:07,  1.15s/it]"
     ]
    },
    {
     "name": "stdout",
     "output_type": "stream",
     "text": [
      "-1.164618163224409\n",
      "97\n",
      "[0.6, 0.8, 0.7, 0.1]\n",
      "tf.Tensor([[0.00195237 0.40127373 0.5594624  0.0373114 ]], shape=(1, 4), dtype=float32)\n",
      "[0.6, 0.5, 0.7, 0.1]\n",
      "tf.Tensor([[0.00217878 0.43272915 0.5312134  0.03387864]], shape=(1, 4), dtype=float32)\n",
      "[0.6, 0.2, 0.7, 0.1]\n",
      "tf.Tensor([[0.00267907 0.4791088  0.49026656 0.02794552]], shape=(1, 4), dtype=float32)\n",
      "[0.9, 0.2, 0.7, 0.1]\n",
      "tf.Tensor([[0.00613563 0.5890681  0.384925   0.01987127]], shape=(1, 4), dtype=float32)\n",
      "[0.7, 0.2, 0.7, 0.1]\n",
      "tf.Tensor([[0.00765714 0.6145595  0.35911754 0.01866586]], shape=(1, 4), dtype=float32)\n",
      "[0.7, 0.0, 0.7, 0.1]\n",
      "tf.Tensor([[0.00968773 0.64485747 0.32959566 0.01585915]], shape=(1, 4), dtype=float32)\n",
      "[0.7, 0.2, 0.7, 0.1]\n",
      "tf.Tensor([[0.00887947 0.64110535 0.33302188 0.0169933 ]], shape=(1, 4), dtype=float32)\n",
      "[0.7, 0.0, 0.7, 0.1]\n",
      "tf.Tensor([[0.00574278 0.60690254 0.37023398 0.01712065]], shape=(1, 4), dtype=float32)\n",
      "[0.7, 0.2, 0.7, 0.1]\n",
      "tf.Tensor([[0.00661703 0.62714064 0.349712   0.01653038]], shape=(1, 4), dtype=float32)\n",
      "[0.7, 0.0, 0.7, 0.1]\n",
      "tf.Tensor([[0.00574278 0.60690254 0.37023398 0.01712065]], shape=(1, 4), dtype=float32)\n",
      "[0.7, 0.2, 0.7, 0.1]\n",
      "tf.Tensor([[0.00661703 0.62714064 0.349712   0.01653038]], shape=(1, 4), dtype=float32)\n",
      "[0.7, 0.0, 0.7, 0.1]\n",
      "tf.Tensor([[0.00574278 0.60690254 0.37023398 0.01712065]], shape=(1, 4), dtype=float32)\n",
      "[0.7, 0.2, 0.7, 0.1]\n",
      "tf.Tensor([[0.00661703 0.62714064 0.349712   0.01653038]], shape=(1, 4), dtype=float32)\n",
      "[0.7, 0.0, 0.7, 0.1]\n",
      "tf.Tensor([[0.00574278 0.60690254 0.37023398 0.01712065]], shape=(1, 4), dtype=float32)\n",
      "[0.7, 0.2, 0.7, 0.1]\n",
      "tf.Tensor([[0.00661703 0.62714064 0.349712   0.01653038]], shape=(1, 4), dtype=float32)\n",
      "[0.7, 0.0, 0.7, 0.1]\n",
      "tf.Tensor([[0.00574278 0.60690254 0.37023398 0.01712065]], shape=(1, 4), dtype=float32)\n",
      "[0.7, 0.2, 0.7, 0.1]\n",
      "tf.Tensor([[0.00661703 0.62714064 0.349712   0.01653038]], shape=(1, 4), dtype=float32)\n",
      "[0.7, 0.0, 0.7, 0.1]\n",
      "tf.Tensor([[0.00574278 0.60690254 0.37023398 0.01712065]], shape=(1, 4), dtype=float32)\n",
      "[0.7, 0.2, 0.7, 0.1]\n",
      "tf.Tensor([[0.00661703 0.62714064 0.349712   0.01653038]], shape=(1, 4), dtype=float32)\n",
      "[0.7, 0.0, 0.7, 0.1]\n",
      "tf.Tensor([[0.00574278 0.60690254 0.37023398 0.01712065]], shape=(1, 4), dtype=float32)\n",
      "[0.7, 0.2, 0.7, 0.1]\n",
      "tf.Tensor([[0.00661703 0.62714064 0.349712   0.01653038]], shape=(1, 4), dtype=float32)\n",
      "[0.7, 0.0, 0.7, 0.1]\n",
      "tf.Tensor([[0.00574278 0.60690254 0.37023398 0.01712065]], shape=(1, 4), dtype=float32)\n",
      "[0.7, 0.2, 0.7, 0.1]\n",
      "tf.Tensor([[0.00661703 0.62714064 0.349712   0.01653038]], shape=(1, 4), dtype=float32)\n",
      "[0.7, 0.0, 0.7, 0.1]\n",
      "tf.Tensor([[0.00574278 0.60690254 0.37023398 0.01712065]], shape=(1, 4), dtype=float32)\n",
      "[0.7, 0.2, 0.7, 0.1]\n",
      "tf.Tensor([[0.00661703 0.62714064 0.349712   0.01653038]], shape=(1, 4), dtype=float32)\n",
      "[0.7, 0.0, 0.7, 0.1]\n",
      "tf.Tensor([[0.00574278 0.60690254 0.37023398 0.01712065]], shape=(1, 4), dtype=float32)\n",
      "[0.7, 0.2, 0.7, 0.1]\n",
      "tf.Tensor([[0.00661703 0.62714064 0.349712   0.01653038]], shape=(1, 4), dtype=float32)\n",
      "[0.7, 0.0, 0.7, 0.1]\n",
      "tf.Tensor([[0.00574278 0.60690254 0.37023398 0.01712065]], shape=(1, 4), dtype=float32)\n",
      "[0.7, 0.2, 0.7, 0.1]\n",
      "tf.Tensor([[0.00661703 0.62714064 0.349712   0.01653038]], shape=(1, 4), dtype=float32)\n",
      "[0.7, 0.0, 0.7, 0.1]\n",
      "tf.Tensor([[0.00574278 0.60690254 0.37023398 0.01712065]], shape=(1, 4), dtype=float32)\n",
      "[0.7, 0.2, 0.7, 0.1]\n",
      "tf.Tensor([[0.00661703 0.62714064 0.349712   0.01653038]], shape=(1, 4), dtype=float32)"
     ]
    },
    {
     "name": "stderr",
     "output_type": "stream",
     "text": [
      "\r",
      " 13%|█████████▏                                                            | 13101/100000 [4:03:36<26:36:04,  1.10s/it]"
     ]
    },
    {
     "name": "stdout",
     "output_type": "stream",
     "text": [
      "\n",
      "[0.7, 0.0, 0.7, 0.1]\n",
      "tf.Tensor([[0.00574278 0.60690254 0.37023398 0.01712065]], shape=(1, 4), dtype=float32)\n",
      "[0.7, 0.2, 0.7, 0.1]\n",
      "tf.Tensor([[0.00661703 0.62714064 0.349712   0.01653038]], shape=(1, 4), dtype=float32)\n",
      "[0.7, 0.0, 0.7, 0.1]\n",
      "tf.Tensor([[0.00574278 0.60690254 0.37023398 0.01712065]], shape=(1, 4), dtype=float32)\n",
      "[0.7, 0.2, 0.7, 0.1]\n",
      "tf.Tensor([[0.00661703 0.62714064 0.349712   0.01653038]], shape=(1, 4), dtype=float32)\n",
      "[0.7, 0.0, 0.7, 0.1]\n",
      "tf.Tensor([[0.00574278 0.60690254 0.37023398 0.01712065]], shape=(1, 4), dtype=float32)\n",
      "[0.7, 0.2, 0.7, 0.1]\n",
      "tf.Tensor([[0.00661703 0.62714064 0.349712   0.01653038]], shape=(1, 4), dtype=float32)\n",
      "[0.7, 0.0, 0.7, 0.1]\n",
      "tf.Tensor([[0.00574278 0.60690254 0.37023398 0.01712065]], shape=(1, 4), dtype=float32)\n",
      "[0.7, 0.2, 0.7, 0.1]\n",
      "tf.Tensor([[0.00661703 0.62714064 0.349712   0.01653038]], shape=(1, 4), dtype=float32)\n",
      "[0.7, 0.0, 0.7, 0.1]\n",
      "tf.Tensor([[0.00574278 0.60690254 0.37023398 0.01712065]], shape=(1, 4), dtype=float32)\n"
     ]
    },
    {
     "name": "stderr",
     "output_type": "stream",
     "text": [
      " 13%|█████████▏                                                            | 13201/100000 [4:05:06<22:19:29,  1.08it/s]"
     ]
    },
    {
     "name": "stdout",
     "output_type": "stream",
     "text": [
      "-3.6386173508507085\n",
      "99\n"
     ]
    },
    {
     "name": "stderr",
     "output_type": "stream",
     "text": [
      " 13%|█████████▎                                                            | 13300/100000 [4:06:34<23:18:47,  1.03it/s]"
     ]
    },
    {
     "name": "stdout",
     "output_type": "stream",
     "text": [
      "-4.378988710777882\n",
      "97\n",
      "[0.5, 0.0, 0.7, 0.1]\n",
      "tf.Tensor([[0.00200857 0.42873138 0.5373375  0.03192253]], shape=(1, 4), dtype=float32)\n",
      "[0.8, 0.0, 0.7, 0.1]\n",
      "tf.Tensor([[0.00196726 0.45958617 0.5116293  0.02681732]], shape=(1, 4), dtype=float32)\n",
      "[0.8, 0.3, 0.7, 0.1]\n",
      "tf.Tensor([[0.00283734 0.5252307  0.4503011  0.02163084]], shape=(1, 4), dtype=float32)\n",
      "[0.8, 0.1, 0.7, 0.1]\n",
      "tf.Tensor([[0.00825938 0.65372914 0.323843   0.01416851]], shape=(1, 4), dtype=float32)\n",
      "[0.6, 0.1, 0.7, 0.1]\n",
      "tf.Tensor([[0.00832703 0.657172   0.32101476 0.01348622]], shape=(1, 4), dtype=float32)\n",
      "[0.8, 0.1, 0.7, 0.1]\n",
      "tf.Tensor([[0.01073341 0.65572006 0.31855732 0.01498925]], shape=(1, 4), dtype=float32)\n",
      "[0.6, 0.1, 0.7, 0.1]\n",
      "tf.Tensor([[0.0157522  0.68759084 0.28391483 0.01274211]], shape=(1, 4), dtype=float32)\n",
      "[0.8, 0.1, 0.7, 0.1]\n",
      "tf.Tensor([[0.01470914 0.68206495 0.2898733  0.01335258]], shape=(1, 4), dtype=float32)\n",
      "[0.6, 0.1, 0.7, 0.1]\n",
      "tf.Tensor([[0.0157522  0.68759084 0.28391483 0.01274211]], shape=(1, 4), dtype=float32)\n",
      "[0.8, 0.1, 0.7, 0.1]\n",
      "tf.Tensor([[0.01470914 0.68206495 0.2898733  0.01335258]], shape=(1, 4), dtype=float32)\n",
      "[0.6, 0.1, 0.7, 0.1]\n",
      "tf.Tensor([[0.0157522  0.68759084 0.28391483 0.01274211]], shape=(1, 4), dtype=float32)\n",
      "[0.8, 0.1, 0.7, 0.1]\n",
      "tf.Tensor([[0.01470914 0.68206495 0.2898733  0.01335258]], shape=(1, 4), dtype=float32)\n",
      "[0.6, 0.1, 0.7, 0.1]\n",
      "tf.Tensor([[0.0157522  0.68759084 0.28391483 0.01274211]], shape=(1, 4), dtype=float32)\n",
      "[0.8, 0.1, 0.7, 0.1]\n",
      "tf.Tensor([[0.01470914 0.68206495 0.2898733  0.01335258]], shape=(1, 4), dtype=float32)\n",
      "[0.6, 0.1, 0.7, 0.1]\n",
      "tf.Tensor([[0.0157522  0.68759084 0.28391483 0.01274211]], shape=(1, 4), dtype=float32)\n",
      "[0.8, 0.1, 0.7, 0.1]\n",
      "tf.Tensor([[0.01470914 0.68206495 0.2898733  0.01335258]], shape=(1, 4), dtype=float32)\n",
      "[0.6, 0.1, 0.7, 0.1]\n",
      "tf.Tensor([[0.0157522  0.68759084 0.28391483 0.01274211]], shape=(1, 4), dtype=float32)\n",
      "[0.8, 0.1, 0.7, 0.1]\n",
      "tf.Tensor([[0.01470914 0.68206495 0.2898733  0.01335258]], shape=(1, 4), dtype=float32)\n",
      "[0.6, 0.1, 0.7, 0.1]\n",
      "tf.Tensor([[0.0157522  0.68759084 0.28391483 0.01274211]], shape=(1, 4), dtype=float32)\n",
      "[0.8, 0.1, 0.7, 0.1]\n",
      "tf.Tensor([[0.01470914 0.68206495 0.2898733  0.01335258]], shape=(1, 4), dtype=float32)\n",
      "[0.6, 0.1, 0.7, 0.1]\n",
      "tf.Tensor([[0.0157522  0.68759084 0.28391483 0.01274211]], shape=(1, 4), dtype=float32)\n",
      "[0.8, 0.1, 0.7, 0.1]\n",
      "tf.Tensor([[0.01470914 0.68206495 0.2898733  0.01335258]], shape=(1, 4), dtype=float32)\n",
      "[0.6, 0.1, 0.7, 0.1]\n",
      "tf.Tensor([[0.0157522  0.68759084 0.28391483 0.01274211]], shape=(1, 4), dtype=float32)\n",
      "[0.8, 0.1, 0.7, 0.1]\n",
      "tf.Tensor([[0.01470914 0.68206495 0.2898733  0.01335258]], shape=(1, 4), dtype=float32)\n",
      "[0.6, 0.1, 0.7, 0.1]\n",
      "tf.Tensor([[0.0157522  0.68759084 0.28391483 0.01274211]], shape=(1, 4), dtype=float32)\n",
      "[0.8, 0.1, 0.7, 0.1]\n",
      "tf.Tensor([[0.01470914 0.68206495 0.2898733  0.01335258]], shape=(1, 4), dtype=float32)\n",
      "[0.6, 0.1, 0.7, 0.1]\n",
      "tf.Tensor([[0.0157522  0.68759084 0.28391483 0.01274211]], shape=(1, 4), dtype=float32)\n",
      "[0.8, 0.1, 0.7, 0.1]\n",
      "tf.Tensor([[0.01470914 0.68206495 0.2898733  0.01335258]], shape=(1, 4), dtype=float32)\n",
      "[0.6, 0.1, 0.7, 0.1]\n",
      "tf.Tensor([[0.0157522  0.68759084 0.28391483 0.01274211]], shape=(1, 4), dtype=float32)\n",
      "[0.8, 0.1, 0.7, 0.1]\n",
      "tf.Tensor([[0.01470914 0.68206495 0.2898733  0.01335258]], shape=(1, 4), dtype=float32)\n",
      "[0.6, 0.1, 0.7, 0.1]\n",
      "tf.Tensor([[0.0157522  0.68759084 0.28391483 0.01274211]], shape=(1, 4), dtype=float32)\n",
      "[0.8, 0.1, 0.7, 0.1]\n",
      "tf.Tensor([[0.01470914 0.68206495 0.2898733  0.01335258]], shape=(1, 4), dtype=float32)\n"
     ]
    },
    {
     "name": "stderr",
     "output_type": "stream",
     "text": [
      "\r",
      " 13%|█████████▎                                                            | 13301/100000 [4:06:38<39:52:00,  1.66s/it]"
     ]
    },
    {
     "name": "stdout",
     "output_type": "stream",
     "text": [
      "[0.6, 0.1, 0.7, 0.1]\n",
      "tf.Tensor([[0.0157522  0.68759084 0.28391483 0.01274211]], shape=(1, 4), dtype=float32)\n",
      "[0.8, 0.1, 0.7, 0.1]\n",
      "tf.Tensor([[0.01470914 0.68206495 0.2898733  0.01335258]], shape=(1, 4), dtype=float32)\n",
      "[0.6, 0.1, 0.7, 0.1]\n",
      "tf.Tensor([[0.0157522  0.68759084 0.28391483 0.01274211]], shape=(1, 4), dtype=float32)\n",
      "[0.8, 0.1, 0.7, 0.1]\n",
      "tf.Tensor([[0.01470914 0.68206495 0.2898733  0.01335258]], shape=(1, 4), dtype=float32)\n",
      "[0.6, 0.1, 0.7, 0.1]\n",
      "tf.Tensor([[0.0157522  0.68759084 0.28391483 0.01274211]], shape=(1, 4), dtype=float32)\n",
      "[0.8, 0.1, 0.7, 0.1]\n",
      "tf.Tensor([[0.01470914 0.68206495 0.2898733  0.01335258]], shape=(1, 4), dtype=float32)\n",
      "[0.6, 0.1, 0.7, 0.1]\n",
      "tf.Tensor([[0.0157522  0.68759084 0.28391483 0.01274211]], shape=(1, 4), dtype=float32)\n",
      "[0.8, 0.1, 0.7, 0.1]\n",
      "tf.Tensor([[0.01470914 0.68206495 0.2898733  0.01335258]], shape=(1, 4), dtype=float32)\n"
     ]
    },
    {
     "name": "stderr",
     "output_type": "stream",
     "text": [
      " 13%|█████████▍                                                            | 13401/100000 [4:07:50<13:18:18,  1.81it/s]"
     ]
    },
    {
     "name": "stdout",
     "output_type": "stream",
     "text": [
      "-1.0466701055849696\n",
      "99\n"
     ]
    },
    {
     "name": "stderr",
     "output_type": "stream",
     "text": [
      " 14%|█████████▍                                                            | 13501/100000 [4:09:02<23:19:20,  1.03it/s]"
     ]
    },
    {
     "name": "stdout",
     "output_type": "stream",
     "text": [
      "-3.572137162154144\n",
      "98\n",
      "[0.5, 0.6, 0.1, 0.1]\n",
      "tf.Tensor([[0.00172015 0.45450535 0.51701915 0.02675526]], shape=(1, 4), dtype=float32)\n",
      "[0.5, 0.3, 0.1, 0.1]\n",
      "tf.Tensor([[0.00213501 0.48746967 0.48598406 0.02441121]], shape=(1, 4), dtype=float32)\n",
      "[0.3, 0.3, 0.1, 0.1]\n",
      "tf.Tensor([[0.00296885 0.5362356  0.439643   0.02115253]], shape=(1, 4), dtype=float32)\n",
      "[0.3, 0.1, 0.1, 0.1]\n",
      "tf.Tensor([[0.0074877  0.64035535 0.33654922 0.01560777]], shape=(1, 4), dtype=float32)\n"
     ]
    },
    {
     "name": "stderr",
     "output_type": "stream",
     "text": [
      " 14%|█████████▌                                                            | 13601/100000 [4:10:33<22:54:33,  1.05it/s]"
     ]
    },
    {
     "name": "stdout",
     "output_type": "stream",
     "text": [
      "-4.860260253064288\n",
      "96\n"
     ]
    },
    {
     "name": "stderr",
     "output_type": "stream",
     "text": [
      " 14%|█████████▌                                                            | 13699/100000 [4:11:57<19:39:59,  1.22it/s]"
     ]
    },
    {
     "name": "stdout",
     "output_type": "stream",
     "text": [
      "-1.6216013214148728\n",
      "98\n",
      "[0.6, 0.9, 0.7, 0.4]\n",
      "tf.Tensor([[0.00146705 0.4299333  0.5417046  0.02689501]], shape=(1, 4), dtype=float32)\n",
      "[0.6, 0.6, 0.7, 0.4]\n",
      "tf.Tensor([[0.00158222 0.46300668 0.51152706 0.02388406]], shape=(1, 4), dtype=float32)\n",
      "[0.6, 0.3, 0.7, 0.4]\n",
      "tf.Tensor([[0.00184956 0.5060129  0.472816   0.01932156]], shape=(1, 4), dtype=float32)\n",
      "[0.8, 0.3, 0.7, 0.4]\n",
      "tf.Tensor([[0.0028443  0.5939102  0.39036375 0.01288166]], shape=(1, 4), dtype=float32)\n",
      "[0.8, 0.5, 0.7, 0.4]\n",
      "tf.Tensor([[0.00437875 0.6239148  0.35956398 0.01214246]], shape=(1, 4), dtype=float32)\n",
      "[0.6, 0.5, 0.7, 0.4]\n",
      "tf.Tensor([[0.00565997 0.65572876 0.32730865 0.01130259]], shape=(1, 4), dtype=float32)\n",
      "[0.6, 0.3, 0.7, 0.4]\n",
      "tf.Tensor([[0.00531251 0.64366144 0.33950177 0.01152426]], shape=(1, 4), dtype=float32)\n",
      "[0.8, 0.3, 0.7, 0.4]\n",
      "tf.Tensor([[0.00527044 0.63917917 0.3440887  0.01146169]], shape=(1, 4), dtype=float32)\n",
      "[0.8, 0.5, 0.7, 0.4]\n",
      "tf.Tensor([[0.00446591 0.6253897  0.3580482  0.01209619]], shape=(1, 4), dtype=float32)\n",
      "[0.6, 0.5, 0.7, 0.4]\n",
      "tf.Tensor([[0.00565997 0.65572876 0.32730865 0.01130259]], shape=(1, 4), dtype=float32)\n",
      "[0.6, 0.3, 0.7, 0.4]\n",
      "tf.Tensor([[0.00531251 0.64366144 0.33950177 0.01152426]], shape=(1, 4), dtype=float32)\n",
      "[0.8, 0.3, 0.7, 0.4]\n",
      "tf.Tensor([[0.00527044 0.63917917 0.3440887  0.01146169]], shape=(1, 4), dtype=float32)\n",
      "[0.8, 0.5, 0.7, 0.4]\n",
      "tf.Tensor([[0.00446591 0.6253897  0.3580482  0.01209619]], shape=(1, 4), dtype=float32)\n",
      "[0.6, 0.5, 0.7, 0.4]\n",
      "tf.Tensor([[0.00565997 0.65572876 0.32730865 0.01130259]], shape=(1, 4), dtype=float32)\n",
      "[0.6, 0.3, 0.7, 0.4]\n",
      "tf.Tensor([[0.00531251 0.64366144 0.33950177 0.01152426]], shape=(1, 4), dtype=float32)\n",
      "[0.8, 0.3, 0.7, 0.4]\n",
      "tf.Tensor([[0.00527044 0.63917917 0.3440887  0.01146169]], shape=(1, 4), dtype=float32)\n",
      "[0.8, 0.5, 0.7, 0.4]\n",
      "tf.Tensor([[0.00446591 0.6253897  0.3580482  0.01209619]], shape=(1, 4), dtype=float32)\n",
      "[0.6, 0.5, 0.7, 0.4]\n",
      "tf.Tensor([[0.00565997 0.65572876 0.32730865 0.01130259]], shape=(1, 4), dtype=float32)\n",
      "[0.6, 0.3, 0.7, 0.4]\n",
      "tf.Tensor([[0.00531251 0.64366144 0.33950177 0.01152426]], shape=(1, 4), dtype=float32)\n",
      "[0.8, 0.3, 0.7, 0.4]\n",
      "tf.Tensor([[0.00527044 0.63917917 0.3440887  0.01146169]], shape=(1, 4), dtype=float32)\n",
      "[0.8, 0.5, 0.7, 0.4]\n",
      "tf.Tensor([[0.00446591 0.6253897  0.3580482  0.01209619]], shape=(1, 4), dtype=float32)\n",
      "[0.6, 0.5, 0.7, 0.4]\n",
      "tf.Tensor([[0.00565997 0.65572876 0.32730865 0.01130259]], shape=(1, 4), dtype=float32)\n",
      "[0.6, 0.3, 0.7, 0.4]\n",
      "tf.Tensor([[0.00531251 0.64366144 0.33950177 0.01152426]], shape=(1, 4), dtype=float32)\n",
      "[0.8, 0.3, 0.7, 0.4]\n",
      "tf.Tensor([[0.00527044 0.63917917 0.3440887  0.01146169]], shape=(1, 4), dtype=float32)\n",
      "[0.8, 0.5, 0.7, 0.4]\n",
      "tf.Tensor([[0.00446591 0.6253897  0.3580482  0.01209619]], shape=(1, 4), dtype=float32)\n",
      "[0.6, 0.5, 0.7, 0.4]\n",
      "tf.Tensor([[0.00565997 0.65572876 0.32730865 0.01130259]], shape=(1, 4), dtype=float32)\n",
      "[0.6, 0.3, 0.7, 0.4]\n",
      "tf.Tensor([[0.00531251 0.64366144 0.33950177 0.01152426]], shape=(1, 4), dtype=float32)\n",
      "[0.8, 0.3, 0.7, 0.4]\n",
      "tf.Tensor([[0.00527044 0.63917917 0.3440887  0.01146169]], shape=(1, 4), dtype=float32)\n",
      "[0.8, 0.5, 0.7, 0.4]\n",
      "tf.Tensor([[0.00446591 0.6253897  0.3580482  0.01209619]], shape=(1, 4), dtype=float32)\n",
      "[0.6, 0.5, 0.7, 0.4]\n",
      "tf.Tensor([[0.00565997 0.65572876 0.32730865 0.01130259]], shape=(1, 4), dtype=float32)\n",
      "[0.6, 0.3, 0.7, 0.4]\n",
      "tf.Tensor([[0.00531251 0.64366144 0.33950177 0.01152426]], shape=(1, 4), dtype=float32)\n",
      "[0.8, 0.3, 0.7, 0.4]\n",
      "tf.Tensor([[0.00527044 0.63917917 0.3440887  0.01146169]], shape=(1, 4), dtype=float32)\n",
      "[0.8, 0.5, 0.7, 0.4]\n",
      "tf.Tensor([[0.00446591 0.6253897  0.3580482  0.01209619]], shape=(1, 4), dtype=float32)"
     ]
    },
    {
     "name": "stderr",
     "output_type": "stream",
     "text": [
      "\r",
      " 14%|█████████▌                                                            | 13701/100000 [4:11:57<16:38:08,  1.44it/s]"
     ]
    },
    {
     "name": "stdout",
     "output_type": "stream",
     "text": [
      "\n",
      "[0.6, 0.5, 0.7, 0.4]\n",
      "tf.Tensor([[0.00565997 0.65572876 0.32730865 0.01130259]], shape=(1, 4), dtype=float32)\n",
      "[0.6, 0.3, 0.7, 0.4]\n",
      "tf.Tensor([[0.00531251 0.64366144 0.33950177 0.01152426]], shape=(1, 4), dtype=float32)\n",
      "[0.8, 0.3, 0.7, 0.4]\n",
      "tf.Tensor([[0.00527044 0.63917917 0.3440887  0.01146169]], shape=(1, 4), dtype=float32)\n",
      "[0.8, 0.5, 0.7, 0.4]\n",
      "tf.Tensor([[0.00446591 0.6253897  0.3580482  0.01209619]], shape=(1, 4), dtype=float32)\n",
      "[0.6, 0.5, 0.7, 0.4]\n",
      "tf.Tensor([[0.00565997 0.65572876 0.32730865 0.01130259]], shape=(1, 4), dtype=float32)\n",
      "[0.6, 0.3, 0.7, 0.4]\n",
      "tf.Tensor([[0.00531251 0.64366144 0.33950177 0.01152426]], shape=(1, 4), dtype=float32)\n",
      "[0.8, 0.3, 0.7, 0.4]\n",
      "tf.Tensor([[0.00527044 0.63917917 0.3440887  0.01146169]], shape=(1, 4), dtype=float32)\n"
     ]
    },
    {
     "name": "stderr",
     "output_type": "stream",
     "text": [
      " 14%|█████████▋                                                            | 13801/100000 [4:13:24<20:39:54,  1.16it/s]"
     ]
    },
    {
     "name": "stdout",
     "output_type": "stream",
     "text": [
      "-3.762832416326095\n",
      "98\n"
     ]
    },
    {
     "name": "stderr",
     "output_type": "stream",
     "text": [
      " 14%|█████████▋                                                            | 13900/100000 [4:15:01<25:18:06,  1.06s/it]"
     ]
    },
    {
     "name": "stdout",
     "output_type": "stream",
     "text": [
      "-4.459994184644066\n",
      "98\n",
      "[0.0, 0.1, 0.5, 0.7]\n",
      "tf.Tensor([[0.0018697  0.42691395 0.54534966 0.02586669]], shape=(1, 4), dtype=float32)\n",
      "[0.0, 0.4, 0.5, 0.7]\n",
      "tf.Tensor([[0.00222233 0.45411262 0.52054644 0.02311859]], shape=(1, 4), dtype=float32)\n",
      "[0.3, 0.4, 0.5, 0.7]\n",
      "tf.Tensor([[0.00280044 0.4976746  0.48053482 0.01899018]], shape=(1, 4), dtype=float32)\n",
      "[0.3, 0.6, 0.5, 0.7]\n",
      "tf.Tensor([[0.0062763  0.59569347 0.38513145 0.01289881]], shape=(1, 4), dtype=float32)\n",
      "[0.5, 0.6, 0.5, 0.7]\n",
      "tf.Tensor([[0.00644471 0.6073523  0.37431008 0.01189287]], shape=(1, 4), dtype=float32)\n",
      "[0.5, 0.8, 0.5, 0.7]\n",
      "tf.Tensor([[0.00545967 0.6152506  0.36709622 0.01219357]], shape=(1, 4), dtype=float32)\n",
      "[0.5, 0.6, 0.5, 0.7]\n",
      "tf.Tensor([[0.00512603 0.60480833 0.3778677  0.01219792]], shape=(1, 4), dtype=float32)\n",
      "[0.5, 0.8, 0.5, 0.7]\n",
      "tf.Tensor([[0.0039477  0.5942872  0.38853046 0.01323469]], shape=(1, 4), dtype=float32)\n",
      "[0.5, 0.6, 0.5, 0.7]\n",
      "tf.Tensor([[0.00355651 0.5750836  0.4076278  0.01373203]], shape=(1, 4), dtype=float32)\n",
      "[0.5, 0.8, 0.5, 0.7]\n",
      "tf.Tensor([[0.0039477  0.5942872  0.38853046 0.01323469]], shape=(1, 4), dtype=float32)\n",
      "[0.5, 0.6, 0.5, 0.7]\n",
      "tf.Tensor([[0.00355651 0.5750836  0.4076278  0.01373203]], shape=(1, 4), dtype=float32)\n",
      "[0.5, 0.8, 0.5, 0.7]\n",
      "tf.Tensor([[0.0039477  0.5942872  0.38853046 0.01323469]], shape=(1, 4), dtype=float32)\n",
      "[0.5, 0.6, 0.5, 0.7]\n",
      "tf.Tensor([[0.00355651 0.5750836  0.4076278  0.01373203]], shape=(1, 4), dtype=float32)\n",
      "[0.5, 0.8, 0.5, 0.7]\n",
      "tf.Tensor([[0.0039477  0.5942872  0.38853046 0.01323469]], shape=(1, 4), dtype=float32)\n",
      "[0.5, 0.6, 0.5, 0.7]\n",
      "tf.Tensor([[0.00355651 0.5750836  0.4076278  0.01373203]], shape=(1, 4), dtype=float32)\n",
      "[0.5, 0.8, 0.5, 0.7]\n",
      "tf.Tensor([[0.0039477  0.5942872  0.38853046 0.01323469]], shape=(1, 4), dtype=float32)\n",
      "[0.5, 0.6, 0.5, 0.7]\n",
      "tf.Tensor([[0.00355651 0.5750836  0.4076278  0.01373203]], shape=(1, 4), dtype=float32)\n",
      "[0.5, 0.8, 0.5, 0.7]\n",
      "tf.Tensor([[0.0039477  0.5942872  0.38853046 0.01323469]], shape=(1, 4), dtype=float32)\n",
      "[0.5, 0.6, 0.5, 0.7]\n",
      "tf.Tensor([[0.00355651 0.5750836  0.4076278  0.01373203]], shape=(1, 4), dtype=float32)\n",
      "[0.5, 0.8, 0.5, 0.7]\n",
      "tf.Tensor([[0.0039477  0.5942872  0.38853046 0.01323469]], shape=(1, 4), dtype=float32)\n",
      "[0.5, 0.6, 0.5, 0.7]\n",
      "tf.Tensor([[0.00355651 0.5750836  0.4076278  0.01373203]], shape=(1, 4), dtype=float32)\n",
      "[0.5, 0.8, 0.5, 0.7]\n",
      "tf.Tensor([[0.0039477  0.5942872  0.38853046 0.01323469]], shape=(1, 4), dtype=float32)\n",
      "[0.5, 0.6, 0.5, 0.7]\n",
      "tf.Tensor([[0.00355651 0.5750836  0.4076278  0.01373203]], shape=(1, 4), dtype=float32)\n",
      "[0.5, 0.8, 0.5, 0.7]\n",
      "tf.Tensor([[0.0039477  0.5942872  0.38853046 0.01323469]], shape=(1, 4), dtype=float32)\n",
      "[0.5, 0.6, 0.5, 0.7]\n",
      "tf.Tensor([[0.00355651 0.5750836  0.4076278  0.01373203]], shape=(1, 4), dtype=float32)\n",
      "[0.5, 0.8, 0.5, 0.7]\n",
      "tf.Tensor([[0.0039477  0.5942872  0.38853046 0.01323469]], shape=(1, 4), dtype=float32)\n",
      "[0.5, 0.6, 0.5, 0.7]\n",
      "tf.Tensor([[0.00355651 0.5750836  0.4076278  0.01373203]], shape=(1, 4), dtype=float32)\n",
      "[0.5, 0.8, 0.5, 0.7]\n",
      "tf.Tensor([[0.0039477  0.5942872  0.38853046 0.01323469]], shape=(1, 4), dtype=float32)"
     ]
    },
    {
     "name": "stderr",
     "output_type": "stream",
     "text": [
      "\r",
      " 14%|█████████▋                                                            | 13901/100000 [4:15:02<23:29:38,  1.02it/s]"
     ]
    },
    {
     "name": "stdout",
     "output_type": "stream",
     "text": [
      "\n",
      "[0.5, 0.6, 0.5, 0.7]\n",
      "tf.Tensor([[0.00355651 0.5750836  0.4076278  0.01373203]], shape=(1, 4), dtype=float32)\n",
      "[0.5, 0.8, 0.5, 0.7]\n",
      "tf.Tensor([[0.0039477  0.5942872  0.38853046 0.01323469]], shape=(1, 4), dtype=float32)\n",
      "[0.5, 0.6, 0.5, 0.7]\n",
      "tf.Tensor([[0.00355651 0.5750836  0.4076278  0.01373203]], shape=(1, 4), dtype=float32)\n",
      "[0.5, 0.8, 0.5, 0.7]\n",
      "tf.Tensor([[0.0039477  0.5942872  0.38853046 0.01323469]], shape=(1, 4), dtype=float32)\n",
      "[0.5, 0.6, 0.5, 0.7]\n",
      "tf.Tensor([[0.00355651 0.5750836  0.4076278  0.01373203]], shape=(1, 4), dtype=float32)\n",
      "[0.5, 0.8, 0.5, 0.7]\n",
      "tf.Tensor([[0.0039477  0.5942872  0.38853046 0.01323469]], shape=(1, 4), dtype=float32)\n",
      "[0.5, 0.6, 0.5, 0.7]\n",
      "tf.Tensor([[0.00355651 0.5750836  0.4076278  0.01373203]], shape=(1, 4), dtype=float32)\n",
      "[0.5, 0.8, 0.5, 0.7]\n",
      "tf.Tensor([[0.0039477  0.5942872  0.38853046 0.01323469]], shape=(1, 4), dtype=float32)\n",
      "[0.5, 0.6, 0.5, 0.7]\n",
      "tf.Tensor([[0.00355651 0.5750836  0.4076278  0.01373203]], shape=(1, 4), dtype=float32)\n",
      "[0.5, 0.8, 0.5, 0.7]\n",
      "tf.Tensor([[0.0039477  0.5942872  0.38853046 0.01323469]], shape=(1, 4), dtype=float32)\n",
      "[0.5, 0.6, 0.5, 0.7]\n",
      "tf.Tensor([[0.00355651 0.5750836  0.4076278  0.01373203]], shape=(1, 4), dtype=float32)\n",
      "[0.5, 0.8, 0.5, 0.7]\n",
      "tf.Tensor([[0.0039477  0.5942872  0.38853046 0.01323469]], shape=(1, 4), dtype=float32)\n"
     ]
    },
    {
     "name": "stderr",
     "output_type": "stream",
     "text": [
      " 14%|█████████▊                                                            | 14001/100000 [4:16:36<15:26:27,  1.55it/s]"
     ]
    },
    {
     "name": "stdout",
     "output_type": "stream",
     "text": [
      "-0.4861385386535657\n",
      "95\n"
     ]
    },
    {
     "name": "stderr",
     "output_type": "stream",
     "text": [
      " 14%|█████████▊                                                            | 14100/100000 [4:18:00<22:55:06,  1.04it/s]"
     ]
    },
    {
     "name": "stdout",
     "output_type": "stream",
     "text": [
      "-3.912127927469477\n",
      "97\n",
      "[0.2, 0.1, 0.7, 0.1]\n",
      "tf.Tensor([[0.00228633 0.4976648  0.47642645 0.02362251]], shape=(1, 4), dtype=float32)\n",
      "[0.4, 0.1, 0.7, 0.1]\n",
      "tf.Tensor([[0.0025726  0.5304236  0.44660044 0.02040342]], shape=(1, 4), dtype=float32)\n",
      "[0.6, 0.1, 0.7, 0.1]\n",
      "tf.Tensor([[0.00349848 0.583924   0.39661402 0.01596348]], shape=(1, 4), dtype=float32)\n",
      "[0.8, 0.1, 0.7, 0.1]\n",
      "tf.Tensor([[0.01026461 0.69465387 0.28466767 0.01041384]], shape=(1, 4), dtype=float32)\n",
      "[0.6, 0.1, 0.7, 0.1]\n",
      "tf.Tensor([[0.01128369 0.7100821  0.26922536 0.00940887]], shape=(1, 4), dtype=float32)\n",
      "[0.8, 0.1, 0.7, 0.1]\n",
      "tf.Tensor([[0.01527406 0.72854054 0.24692294 0.00926245]], shape=(1, 4), dtype=float32)\n",
      "[0.6, 0.1, 0.7, 0.1]\n",
      "tf.Tensor([[0.01648812 0.73235404 0.24229085 0.008867  ]], shape=(1, 4), dtype=float32)\n",
      "[0.8, 0.1, 0.7, 0.1]\n",
      "tf.Tensor([[0.01527406 0.72854054 0.24692294 0.00926245]], shape=(1, 4), dtype=float32)\n",
      "[0.6, 0.1, 0.7, 0.1]\n",
      "tf.Tensor([[0.01648812 0.73235404 0.24229085 0.008867  ]], shape=(1, 4), dtype=float32)\n",
      "[0.8, 0.1, 0.7, 0.1]\n",
      "tf.Tensor([[0.01527406 0.72854054 0.24692294 0.00926245]], shape=(1, 4), dtype=float32)\n",
      "[0.6, 0.1, 0.7, 0.1]\n",
      "tf.Tensor([[0.01648812 0.73235404 0.24229085 0.008867  ]], shape=(1, 4), dtype=float32)\n",
      "[0.8, 0.1, 0.7, 0.1]\n",
      "tf.Tensor([[0.01527406 0.72854054 0.24692294 0.00926245]], shape=(1, 4), dtype=float32)\n",
      "[0.6, 0.1, 0.7, 0.1]\n",
      "tf.Tensor([[0.01648812 0.73235404 0.24229085 0.008867  ]], shape=(1, 4), dtype=float32)\n",
      "[0.8, 0.1, 0.7, 0.1]\n",
      "tf.Tensor([[0.01527406 0.72854054 0.24692294 0.00926245]], shape=(1, 4), dtype=float32)\n",
      "[0.6, 0.1, 0.7, 0.1]\n",
      "tf.Tensor([[0.01648812 0.73235404 0.24229085 0.008867  ]], shape=(1, 4), dtype=float32)\n",
      "[0.8, 0.1, 0.7, 0.1]\n",
      "tf.Tensor([[0.01527406 0.72854054 0.24692294 0.00926245]], shape=(1, 4), dtype=float32)\n",
      "[0.6, 0.1, 0.7, 0.1]\n",
      "tf.Tensor([[0.01648812 0.73235404 0.24229085 0.008867  ]], shape=(1, 4), dtype=float32)\n",
      "[0.8, 0.1, 0.7, 0.1]\n",
      "tf.Tensor([[0.01527406 0.72854054 0.24692294 0.00926245]], shape=(1, 4), dtype=float32)\n",
      "[0.6, 0.1, 0.7, 0.1]\n",
      "tf.Tensor([[0.01648812 0.73235404 0.24229085 0.008867  ]], shape=(1, 4), dtype=float32)\n",
      "[0.8, 0.1, 0.7, 0.1]\n",
      "tf.Tensor([[0.01527406 0.72854054 0.24692294 0.00926245]], shape=(1, 4), dtype=float32)\n",
      "[0.6, 0.1, 0.7, 0.1]\n",
      "tf.Tensor([[0.01648812 0.73235404 0.24229085 0.008867  ]], shape=(1, 4), dtype=float32)\n",
      "[0.8, 0.1, 0.7, 0.1]\n",
      "tf.Tensor([[0.01527406 0.72854054 0.24692294 0.00926245]], shape=(1, 4), dtype=float32)\n",
      "[0.6, 0.1, 0.7, 0.1]\n",
      "tf.Tensor([[0.01648812 0.73235404 0.24229085 0.008867  ]], shape=(1, 4), dtype=float32)\n",
      "[0.8, 0.1, 0.7, 0.1]\n",
      "tf.Tensor([[0.01527406 0.72854054 0.24692294 0.00926245]], shape=(1, 4), dtype=float32)\n",
      "[0.6, 0.1, 0.7, 0.1]\n",
      "tf.Tensor([[0.01648812 0.73235404 0.24229085 0.008867  ]], shape=(1, 4), dtype=float32)\n",
      "[0.8, 0.1, 0.7, 0.1]\n",
      "tf.Tensor([[0.01527406 0.72854054 0.24692294 0.00926245]], shape=(1, 4), dtype=float32)\n",
      "[0.6, 0.1, 0.7, 0.1]\n",
      "tf.Tensor([[0.01648812 0.73235404 0.24229085 0.008867  ]], shape=(1, 4), dtype=float32)\n",
      "[0.8, 0.1, 0.7, 0.1]\n",
      "tf.Tensor([[0.01527406 0.72854054 0.24692294 0.00926245]], shape=(1, 4), dtype=float32)\n",
      "[0.6, 0.1, 0.7, 0.1]\n",
      "tf.Tensor([[0.01648812 0.73235404 0.24229085 0.008867  ]], shape=(1, 4), dtype=float32)\n",
      "[0.8, 0.1, 0.7, 0.1]\n",
      "tf.Tensor([[0.01527406 0.72854054 0.24692294 0.00926245]], shape=(1, 4), dtype=float32)\n",
      "[0.6, 0.1, 0.7, 0.1]\n",
      "tf.Tensor([[0.01648812 0.73235404 0.24229085 0.008867  ]], shape=(1, 4), dtype=float32)\n",
      "[0.8, 0.1, 0.7, 0.1]\n",
      "tf.Tensor([[0.01527406 0.72854054 0.24692294 0.00926245]], shape=(1, 4), dtype=float32)\n",
      "[0.6, 0.1, 0.7, 0.1]\n",
      "tf.Tensor([[0.01648812 0.73235404 0.24229085 0.008867  ]], shape=(1, 4), dtype=float32)\n",
      "[0.8, 0.1, 0.7, 0.1]\n"
     ]
    },
    {
     "name": "stderr",
     "output_type": "stream",
     "text": [
      "\r",
      " 14%|█████████▊                                                            | 14101/100000 [4:18:02<28:10:32,  1.18s/it]"
     ]
    },
    {
     "name": "stdout",
     "output_type": "stream",
     "text": [
      "tf.Tensor([[0.01527406 0.72854054 0.24692294 0.00926245]], shape=(1, 4), dtype=float32)\n",
      "[0.6, 0.1, 0.7, 0.1]\n",
      "tf.Tensor([[0.01648812 0.73235404 0.24229085 0.008867  ]], shape=(1, 4), dtype=float32)\n",
      "[0.8, 0.1, 0.7, 0.1]\n",
      "tf.Tensor([[0.01527406 0.72854054 0.24692294 0.00926245]], shape=(1, 4), dtype=float32)\n",
      "[0.6, 0.1, 0.7, 0.1]\n",
      "tf.Tensor([[0.01648812 0.73235404 0.24229085 0.008867  ]], shape=(1, 4), dtype=float32)\n",
      "[0.8, 0.1, 0.7, 0.1]\n",
      "tf.Tensor([[0.01527406 0.72854054 0.24692294 0.00926245]], shape=(1, 4), dtype=float32)\n",
      "[0.6, 0.1, 0.7, 0.1]\n",
      "tf.Tensor([[0.01648812 0.73235404 0.24229085 0.008867  ]], shape=(1, 4), dtype=float32)\n",
      "[0.8, 0.1, 0.7, 0.1]\n",
      "tf.Tensor([[0.01527406 0.72854054 0.24692294 0.00926245]], shape=(1, 4), dtype=float32)\n"
     ]
    },
    {
     "name": "stderr",
     "output_type": "stream",
     "text": [
      " 14%|█████████▉                                                            | 14201/100000 [4:19:14<18:43:21,  1.27it/s]"
     ]
    },
    {
     "name": "stdout",
     "output_type": "stream",
     "text": [
      "-2.1647197202100874\n",
      "99\n"
     ]
    },
    {
     "name": "stderr",
     "output_type": "stream",
     "text": [
      " 14%|██████████▏                                                            | 14301/100000 [4:20:34<9:34:56,  2.48it/s]"
     ]
    },
    {
     "name": "stdout",
     "output_type": "stream",
     "text": [
      "-1.0756261343312117\n",
      "99\n",
      "[0.7, 0.3, 0.7, 0.1]\n",
      "tf.Tensor([[0.00242972 0.5121539  0.46372432 0.02169201]], shape=(1, 4), dtype=float32)\n"
     ]
    },
    {
     "name": "stderr",
     "output_type": "stream",
     "text": [
      " 14%|██████████                                                            | 14401/100000 [4:21:56<30:02:11,  1.26s/it]"
     ]
    },
    {
     "name": "stdout",
     "output_type": "stream",
     "text": [
      "-3.1810600377172893\n",
      "99\n"
     ]
    },
    {
     "name": "stderr",
     "output_type": "stream",
     "text": [
      " 14%|██████████▏                                                           | 14500/100000 [4:23:24<38:29:52,  1.62s/it]"
     ]
    },
    {
     "name": "stdout",
     "output_type": "stream",
     "text": [
      "-3.3995597215699123\n",
      "98\n",
      "[0.8, 0.3, 0.7, 0.1]\n",
      "tf.Tensor([[0.00231609 0.5001901  0.4746887  0.02280513]], shape=(1, 4), dtype=float32)\n",
      "[0.8, 0.1, 0.7, 0.1]\n",
      "tf.Tensor([[0.00285208 0.5269147  0.4497518  0.02048137]], shape=(1, 4), dtype=float32)\n",
      "[0.6, 0.1, 0.7, 0.1]\n",
      "tf.Tensor([[0.00364774 0.56517607 0.41478482 0.01639134]], shape=(1, 4), dtype=float32)\n",
      "[0.8, 0.1, 0.7, 0.1]\n",
      "tf.Tensor([[0.00952242 0.65118736 0.32766837 0.01162187]], shape=(1, 4), dtype=float32)\n",
      "[0.6, 0.1, 0.7, 0.1]\n",
      "tf.Tensor([[0.01449988 0.67844516 0.29702216 0.01003281]], shape=(1, 4), dtype=float32)\n",
      "[0.8, 0.1, 0.7, 0.1]\n",
      "tf.Tensor([[0.0132725  0.6744937  0.3017785  0.01045532]], shape=(1, 4), dtype=float32)\n",
      "[0.6, 0.1, 0.7, 0.1]\n",
      "tf.Tensor([[0.01449988 0.67844516 0.29702216 0.01003281]], shape=(1, 4), dtype=float32)\n",
      "[0.8, 0.1, 0.7, 0.1]\n",
      "tf.Tensor([[0.0132725  0.6744937  0.3017785  0.01045532]], shape=(1, 4), dtype=float32)\n",
      "[0.6, 0.1, 0.7, 0.1]\n",
      "tf.Tensor([[0.01449988 0.67844516 0.29702216 0.01003281]], shape=(1, 4), dtype=float32)\n",
      "[0.8, 0.1, 0.7, 0.1]\n",
      "tf.Tensor([[0.0132725  0.6744937  0.3017785  0.01045532]], shape=(1, 4), dtype=float32)\n",
      "[0.6, 0.1, 0.7, 0.1]\n",
      "tf.Tensor([[0.01449988 0.67844516 0.29702216 0.01003281]], shape=(1, 4), dtype=float32)\n",
      "[0.8, 0.1, 0.7, 0.1]\n",
      "tf.Tensor([[0.0132725  0.6744937  0.3017785  0.01045532]], shape=(1, 4), dtype=float32)\n",
      "[0.6, 0.1, 0.7, 0.1]\n",
      "tf.Tensor([[0.01449988 0.67844516 0.29702216 0.01003281]], shape=(1, 4), dtype=float32)\n",
      "[0.8, 0.1, 0.7, 0.1]\n",
      "tf.Tensor([[0.0132725  0.6744937  0.3017785  0.01045532]], shape=(1, 4), dtype=float32)\n",
      "[0.6, 0.1, 0.7, 0.1]\n",
      "tf.Tensor([[0.01449988 0.67844516 0.29702216 0.01003281]], shape=(1, 4), dtype=float32)\n",
      "[0.8, 0.1, 0.7, 0.1]\n",
      "tf.Tensor([[0.0132725  0.6744937  0.3017785  0.01045532]], shape=(1, 4), dtype=float32)\n",
      "[0.6, 0.1, 0.7, 0.1]\n",
      "tf.Tensor([[0.01449988 0.67844516 0.29702216 0.01003281]], shape=(1, 4), dtype=float32)\n",
      "[0.8, 0.1, 0.7, 0.1]\n",
      "tf.Tensor([[0.0132725  0.6744937  0.3017785  0.01045532]], shape=(1, 4), dtype=float32)\n",
      "[0.6, 0.1, 0.7, 0.1]\n",
      "tf.Tensor([[0.01449988 0.67844516 0.29702216 0.01003281]], shape=(1, 4), dtype=float32)\n",
      "[0.8, 0.1, 0.7, 0.1]\n",
      "tf.Tensor([[0.0132725  0.6744937  0.3017785  0.01045532]], shape=(1, 4), dtype=float32)\n",
      "[0.6, 0.1, 0.7, 0.1]\n",
      "tf.Tensor([[0.01449988 0.67844516 0.29702216 0.01003281]], shape=(1, 4), dtype=float32)\n",
      "[0.8, 0.1, 0.7, 0.1]\n",
      "tf.Tensor([[0.0132725  0.6744937  0.3017785  0.01045532]], shape=(1, 4), dtype=float32)\n",
      "[0.6, 0.1, 0.7, 0.1]\n",
      "tf.Tensor([[0.01449988 0.67844516 0.29702216 0.01003281]], shape=(1, 4), dtype=float32)\n",
      "[0.8, 0.1, 0.7, 0.1]\n",
      "tf.Tensor([[0.0132725  0.6744937  0.3017785  0.01045532]], shape=(1, 4), dtype=float32)\n",
      "[0.6, 0.1, 0.7, 0.1]\n",
      "tf.Tensor([[0.01449988 0.67844516 0.29702216 0.01003281]], shape=(1, 4), dtype=float32)\n",
      "[0.8, 0.1, 0.7, 0.1]\n",
      "tf.Tensor([[0.0132725  0.6744937  0.3017785  0.01045532]], shape=(1, 4), dtype=float32)\n",
      "[0.6, 0.1, 0.7, 0.1]\n",
      "tf.Tensor([[0.01449988 0.67844516 0.29702216 0.01003281]], shape=(1, 4), dtype=float32)"
     ]
    },
    {
     "name": "stderr",
     "output_type": "stream",
     "text": [
      "\r",
      " 15%|██████████▏                                                           | 14501/100000 [4:23:26<37:12:03,  1.57s/it]"
     ]
    },
    {
     "name": "stdout",
     "output_type": "stream",
     "text": [
      "\n",
      "[0.8, 0.1, 0.7, 0.1]\n",
      "tf.Tensor([[0.0132725  0.6744937  0.3017785  0.01045532]], shape=(1, 4), dtype=float32)\n",
      "[0.6, 0.1, 0.7, 0.1]\n",
      "tf.Tensor([[0.01449988 0.67844516 0.29702216 0.01003281]], shape=(1, 4), dtype=float32)\n",
      "[0.8, 0.1, 0.7, 0.1]\n",
      "tf.Tensor([[0.0132725  0.6744937  0.3017785  0.01045532]], shape=(1, 4), dtype=float32)\n",
      "[0.6, 0.1, 0.7, 0.1]\n",
      "tf.Tensor([[0.01449988 0.67844516 0.29702216 0.01003281]], shape=(1, 4), dtype=float32)\n",
      "[0.8, 0.1, 0.7, 0.1]\n",
      "tf.Tensor([[0.0132725  0.6744937  0.3017785  0.01045532]], shape=(1, 4), dtype=float32)\n",
      "[0.6, 0.1, 0.7, 0.1]\n",
      "tf.Tensor([[0.01449988 0.67844516 0.29702216 0.01003281]], shape=(1, 4), dtype=float32)\n",
      "[0.8, 0.1, 0.7, 0.1]\n",
      "tf.Tensor([[0.0132725  0.6744937  0.3017785  0.01045532]], shape=(1, 4), dtype=float32)\n",
      "[0.6, 0.1, 0.7, 0.1]\n",
      "tf.Tensor([[0.01449988 0.67844516 0.29702216 0.01003281]], shape=(1, 4), dtype=float32)\n",
      "[0.8, 0.1, 0.7, 0.1]\n",
      "tf.Tensor([[0.0132725  0.6744937  0.3017785  0.01045532]], shape=(1, 4), dtype=float32)\n",
      "[0.6, 0.1, 0.7, 0.1]\n",
      "tf.Tensor([[0.01449988 0.67844516 0.29702216 0.01003281]], shape=(1, 4), dtype=float32)\n",
      "[0.8, 0.1, 0.7, 0.1]\n",
      "tf.Tensor([[0.0132725  0.6744937  0.3017785  0.01045532]], shape=(1, 4), dtype=float32)\n",
      "[0.6, 0.1, 0.7, 0.1]\n",
      "tf.Tensor([[0.01449988 0.67844516 0.29702216 0.01003281]], shape=(1, 4), dtype=float32)\n",
      "[0.8, 0.1, 0.7, 0.1]\n",
      "tf.Tensor([[0.0132725  0.6744937  0.3017785  0.01045532]], shape=(1, 4), dtype=float32)\n"
     ]
    },
    {
     "name": "stderr",
     "output_type": "stream",
     "text": [
      " 15%|██████████▏                                                           | 14601/100000 [4:25:07<27:57:20,  1.18s/it]"
     ]
    },
    {
     "name": "stdout",
     "output_type": "stream",
     "text": [
      "-3.1320080637632426\n",
      "99\n"
     ]
    },
    {
     "name": "stderr",
     "output_type": "stream",
     "text": [
      " 15%|██████████▎                                                           | 14700/100000 [4:26:24<12:19:29,  1.92it/s]"
     ]
    },
    {
     "name": "stdout",
     "output_type": "stream",
     "text": [
      "-0.8162076182753434\n",
      "98\n",
      "[0.9, 0.2, 0.7, 0.1]\n",
      "tf.Tensor([[0.00223297 0.4528778  0.5220926  0.0227967 ]], shape=(1, 4), dtype=float32)\n",
      "[0.6, 0.2, 0.7, 0.1]\n",
      "tf.Tensor([[0.00238914 0.47741514 0.50089943 0.01929631]], shape=(1, 4), dtype=float32)\n",
      "[0.9, 0.2, 0.7, 0.1]\n",
      "tf.Tensor([[0.00384572 0.5275172  0.4526681  0.01596895]], shape=(1, 4), dtype=float32)\n",
      "[0.7, 0.2, 0.7, 0.1]\n",
      "tf.Tensor([[0.00878549 0.6290271  0.35159075 0.01059659]], shape=(1, 4), dtype=float32)\n",
      "[0.7, 0.0, 0.7, 0.1]\n",
      "tf.Tensor([[0.00581986 0.59452087 0.38912067 0.01053861]], shape=(1, 4), dtype=float32)\n",
      "[0.7, 0.2, 0.7, 0.1]\n",
      "tf.Tensor([[0.00551982 0.60125893 0.38214406 0.01107719]], shape=(1, 4), dtype=float32)\n",
      "[0.7, 0.0, 0.7, 0.1]\n",
      "tf.Tensor([[0.00360958 0.5694599  0.41585764 0.01107283]], shape=(1, 4), dtype=float32)\n",
      "[0.7, 0.2, 0.7, 0.1]\n",
      "tf.Tensor([[0.00410733 0.5893409  0.3958838  0.01066801]], shape=(1, 4), dtype=float32)\n",
      "[0.7, 0.0, 0.7, 0.1]\n",
      "tf.Tensor([[0.00360958 0.5694599  0.41585764 0.01107283]], shape=(1, 4), dtype=float32)\n",
      "[0.7, 0.2, 0.7, 0.1]\n",
      "tf.Tensor([[0.00410733 0.5893409  0.3958838  0.01066801]], shape=(1, 4), dtype=float32)\n",
      "[0.7, 0.0, 0.7, 0.1]\n",
      "tf.Tensor([[0.00360958 0.5694599  0.41585764 0.01107283]], shape=(1, 4), dtype=float32)\n",
      "[0.7, 0.2, 0.7, 0.1]\n",
      "tf.Tensor([[0.00410733 0.5893409  0.3958838  0.01066801]], shape=(1, 4), dtype=float32)\n",
      "[0.7, 0.0, 0.7, 0.1]\n",
      "tf.Tensor([[0.00360958 0.5694599  0.41585764 0.01107283]], shape=(1, 4), dtype=float32)\n",
      "[0.7, 0.2, 0.7, 0.1]\n",
      "tf.Tensor([[0.00410733 0.5893409  0.3958838  0.01066801]], shape=(1, 4), dtype=float32)\n",
      "[0.7, 0.0, 0.7, 0.1]\n",
      "tf.Tensor([[0.00360958 0.5694599  0.41585764 0.01107283]], shape=(1, 4), dtype=float32)\n",
      "[0.7, 0.2, 0.7, 0.1]\n",
      "tf.Tensor([[0.00410733 0.5893409  0.3958838  0.01066801]], shape=(1, 4), dtype=float32)\n",
      "[0.7, 0.0, 0.7, 0.1]\n",
      "tf.Tensor([[0.00360958 0.5694599  0.41585764 0.01107283]], shape=(1, 4), dtype=float32)\n",
      "[0.7, 0.2, 0.7, 0.1]\n",
      "tf.Tensor([[0.00410733 0.5893409  0.3958838  0.01066801]], shape=(1, 4), dtype=float32)\n",
      "[0.7, 0.0, 0.7, 0.1]\n",
      "tf.Tensor([[0.00360958 0.5694599  0.41585764 0.01107283]], shape=(1, 4), dtype=float32)\n",
      "[0.7, 0.2, 0.7, 0.1]\n",
      "tf.Tensor([[0.00410733 0.5893409  0.3958838  0.01066801]], shape=(1, 4), dtype=float32)\n",
      "[0.7, 0.0, 0.7, 0.1]\n",
      "tf.Tensor([[0.00360958 0.5694599  0.41585764 0.01107283]], shape=(1, 4), dtype=float32)\n",
      "[0.7, 0.2, 0.7, 0.1]\n",
      "tf.Tensor([[0.00410733 0.5893409  0.3958838  0.01066801]], shape=(1, 4), dtype=float32)\n",
      "[0.7, 0.0, 0.7, 0.1]\n",
      "tf.Tensor([[0.00360958 0.5694599  0.41585764 0.01107283]], shape=(1, 4), dtype=float32)\n",
      "[0.7, 0.2, 0.7, 0.1]\n",
      "tf.Tensor([[0.00410733 0.5893409  0.3958838  0.01066801]], shape=(1, 4), dtype=float32)\n",
      "[0.7, 0.0, 0.7, 0.1]\n",
      "tf.Tensor([[0.00360958 0.5694599  0.41585764 0.01107283]], shape=(1, 4), dtype=float32)\n",
      "[0.7, 0.2, 0.7, 0.1]\n",
      "tf.Tensor([[0.00410733 0.5893409  0.3958838  0.01066801]], shape=(1, 4), dtype=float32)\n",
      "[0.7, 0.0, 0.7, 0.1]\n",
      "tf.Tensor([[0.00360958 0.5694599  0.41585764 0.01107283]], shape=(1, 4), dtype=float32)\n",
      "[0.7, 0.2, 0.7, 0.1]\n",
      "tf.Tensor([[0.00410733 0.5893409  0.3958838  0.01066801]], shape=(1, 4), dtype=float32)\n",
      "[0.7, 0.0, 0.7, 0.1]\n",
      "tf.Tensor([[0.00360958 0.5694599  0.41585764 0.01107283]], shape=(1, 4), dtype=float32)\n",
      "[0.7, 0.2, 0.7, 0.1]\n",
      "tf.Tensor([[0.00410733 0.5893409  0.3958838  0.01066801]], shape=(1, 4), dtype=float32)\n",
      "[0.7, 0.0, 0.7, 0.1]\n",
      "tf.Tensor([[0.00360958 0.5694599  0.41585764 0.01107283]], shape=(1, 4), dtype=float32)\n",
      "[0.7, 0.2, 0.7, 0.1]\n",
      "tf.Tensor([[0.00410733 0.5893409  0.3958838  0.01066801]], shape=(1, 4), dtype=float32)\n",
      "[0.7, 0.0, 0.7, 0.1]\n",
      "tf.Tensor([[0.00360958 0.5694599  0.41585764 0.01107283]], shape=(1, 4), dtype=float32)\n",
      "[0.7, 0.2, 0.7, 0.1]\n",
      "tf.Tensor([[0.00410733 0.5893409  0.3958838  0.01066801]], shape=(1, 4), dtype=float32)\n",
      "[0.7, 0.0, 0.7, 0.1]\n"
     ]
    },
    {
     "name": "stderr",
     "output_type": "stream",
     "text": [
      "\r",
      " 15%|██████████▎                                                           | 14701/100000 [4:26:25<17:34:26,  1.35it/s]"
     ]
    },
    {
     "name": "stdout",
     "output_type": "stream",
     "text": [
      "tf.Tensor([[0.00360958 0.5694599  0.41585764 0.01107283]], shape=(1, 4), dtype=float32)\n",
      "[0.7, 0.2, 0.7, 0.1]\n",
      "tf.Tensor([[0.00410733 0.5893409  0.3958838  0.01066801]], shape=(1, 4), dtype=float32)\n",
      "[0.7, 0.0, 0.7, 0.1]\n",
      "tf.Tensor([[0.00360958 0.5694599  0.41585764 0.01107283]], shape=(1, 4), dtype=float32)\n",
      "[0.7, 0.2, 0.7, 0.1]\n",
      "tf.Tensor([[0.00410733 0.5893409  0.3958838  0.01066801]], shape=(1, 4), dtype=float32)\n",
      "[0.7, 0.0, 0.7, 0.1]\n",
      "tf.Tensor([[0.00360958 0.5694599  0.41585764 0.01107283]], shape=(1, 4), dtype=float32)\n",
      "[0.7, 0.2, 0.7, 0.1]\n",
      "tf.Tensor([[0.00410733 0.5893409  0.3958838  0.01066801]], shape=(1, 4), dtype=float32)\n"
     ]
    },
    {
     "name": "stderr",
     "output_type": "stream",
     "text": [
      " 15%|██████████▎                                                           | 14801/100000 [4:27:41<15:22:44,  1.54it/s]"
     ]
    },
    {
     "name": "stdout",
     "output_type": "stream",
     "text": [
      "-1.1593085358982085\n",
      "98\n"
     ]
    },
    {
     "name": "stderr",
     "output_type": "stream",
     "text": [
      " 15%|██████████▍                                                           | 14900/100000 [4:29:04<10:59:55,  2.15it/s]"
     ]
    },
    {
     "name": "stdout",
     "output_type": "stream",
     "text": [
      "-1.0612490881744674\n",
      "99\n",
      "[0.4, 0.1, 0.1, 0.1]\n",
      "tf.Tensor([[0.0020163  0.5107871  0.46647307 0.02072343]], shape=(1, 4), dtype=float32)\n",
      "[0.2, 0.1, 0.1, 0.1]\n",
      "tf.Tensor([[0.00266056 0.53862685 0.43969154 0.01902099]], shape=(1, 4), dtype=float32)\n",
      "[0.0, 0.1, 0.1, 0.1]\n",
      "tf.Tensor([[0.00380487 0.56837267 0.4119831  0.01583936]], shape=(1, 4), dtype=float32)\n",
      "[0.2, 0.1, 0.1, 0.1]\n",
      "tf.Tensor([[0.01178606 0.66896975 0.30817422 0.01106995]], shape=(1, 4), dtype=float32)\n",
      "[0.0, 0.1, 0.1, 0.1]\n",
      "tf.Tensor([[0.00809374 0.63490444 0.3455751  0.01142674]], shape=(1, 4), dtype=float32)\n",
      "[0.2, 0.1, 0.1, 0.1]\n",
      "tf.Tensor([[0.00700254 0.6311072  0.34995842 0.01193178]], shape=(1, 4), dtype=float32)\n",
      "[0.0, 0.1, 0.1, 0.1]\n",
      "tf.Tensor([[0.00809374 0.63490444 0.3455751  0.01142674]], shape=(1, 4), dtype=float32)\n",
      "[0.2, 0.1, 0.1, 0.1]\n",
      "tf.Tensor([[0.00700254 0.6311072  0.34995842 0.01193178]], shape=(1, 4), dtype=float32)\n",
      "[0.0, 0.1, 0.1, 0.1]\n",
      "tf.Tensor([[0.00809374 0.63490444 0.3455751  0.01142674]], shape=(1, 4), dtype=float32)\n",
      "[0.2, 0.1, 0.1, 0.1]\n",
      "tf.Tensor([[0.00700254 0.6311072  0.34995842 0.01193178]], shape=(1, 4), dtype=float32)\n",
      "[0.0, 0.1, 0.1, 0.1]\n",
      "tf.Tensor([[0.00809374 0.63490444 0.3455751  0.01142674]], shape=(1, 4), dtype=float32)\n",
      "[0.2, 0.1, 0.1, 0.1]\n",
      "tf.Tensor([[0.00700254 0.6311072  0.34995842 0.01193178]], shape=(1, 4), dtype=float32)\n",
      "[0.0, 0.1, 0.1, 0.1]\n",
      "tf.Tensor([[0.00809374 0.63490444 0.3455751  0.01142674]], shape=(1, 4), dtype=float32)\n",
      "[0.2, 0.1, 0.1, 0.1]\n",
      "tf.Tensor([[0.00700254 0.6311072  0.34995842 0.01193178]], shape=(1, 4), dtype=float32)\n",
      "[0.0, 0.1, 0.1, 0.1]\n",
      "tf.Tensor([[0.00809374 0.63490444 0.3455751  0.01142674]], shape=(1, 4), dtype=float32)\n",
      "[0.2, 0.1, 0.1, 0.1]\n",
      "tf.Tensor([[0.00700254 0.6311072  0.34995842 0.01193178]], shape=(1, 4), dtype=float32)\n",
      "[0.0, 0.1, 0.1, 0.1]\n",
      "tf.Tensor([[0.00809374 0.63490444 0.3455751  0.01142674]], shape=(1, 4), dtype=float32)\n",
      "[0.2, 0.1, 0.1, 0.1]\n",
      "tf.Tensor([[0.00700254 0.6311072  0.34995842 0.01193178]], shape=(1, 4), dtype=float32)\n",
      "[0.0, 0.1, 0.1, 0.1]\n",
      "tf.Tensor([[0.00809374 0.63490444 0.3455751  0.01142674]], shape=(1, 4), dtype=float32)\n",
      "[0.2, 0.1, 0.1, 0.1]\n",
      "tf.Tensor([[0.00700254 0.6311072  0.34995842 0.01193178]], shape=(1, 4), dtype=float32)\n",
      "[0.0, 0.1, 0.1, 0.1]\n",
      "tf.Tensor([[0.00809374 0.63490444 0.3455751  0.01142674]], shape=(1, 4), dtype=float32)\n",
      "[0.2, 0.1, 0.1, 0.1]\n",
      "tf.Tensor([[0.00700254 0.6311072  0.34995842 0.01193178]], shape=(1, 4), dtype=float32)\n",
      "[0.0, 0.1, 0.1, 0.1]\n",
      "tf.Tensor([[0.00809374 0.63490444 0.3455751  0.01142674]], shape=(1, 4), dtype=float32)\n",
      "[0.2, 0.1, 0.1, 0.1]\n",
      "tf.Tensor([[0.00700254 0.6311072  0.34995842 0.01193178]], shape=(1, 4), dtype=float32)\n",
      "[0.0, 0.1, 0.1, 0.1]\n",
      "tf.Tensor([[0.00809374 0.63490444 0.3455751  0.01142674]], shape=(1, 4), dtype=float32)\n",
      "[0.2, 0.1, 0.1, 0.1]\n",
      "tf.Tensor([[0.00700254 0.6311072  0.34995842 0.01193178]], shape=(1, 4), dtype=float32)\n",
      "[0.0, 0.1, 0.1, 0.1]\n",
      "tf.Tensor([[0.00809374 0.63490444 0.3455751  0.01142674]], shape=(1, 4), dtype=float32)\n",
      "[0.2, 0.1, 0.1, 0.1]\n",
      "tf.Tensor([[0.00700254 0.6311072  0.34995842 0.01193178]], shape=(1, 4), dtype=float32)\n",
      "[0.0, 0.1, 0.1, 0.1]\n",
      "tf.Tensor([[0.00809374 0.63490444 0.3455751  0.01142674]], shape=(1, 4), dtype=float32)\n",
      "[0.2, 0.1, 0.1, 0.1]\n",
      "tf.Tensor([[0.00700254 0.6311072  0.34995842 0.01193178]], shape=(1, 4), dtype=float32)\n",
      "[0.0, 0.1, 0.1, 0.1]\n",
      "tf.Tensor([[0.00809374 0.63490444 0.3455751  0.01142674]], shape=(1, 4), dtype=float32)\n"
     ]
    },
    {
     "name": "stderr",
     "output_type": "stream",
     "text": [
      "\r",
      " 15%|██████████▍                                                           | 14901/100000 [4:29:05<17:14:34,  1.37it/s]"
     ]
    },
    {
     "name": "stdout",
     "output_type": "stream",
     "text": [
      "[0.2, 0.1, 0.1, 0.1]\n",
      "tf.Tensor([[0.00700254 0.6311072  0.34995842 0.01193178]], shape=(1, 4), dtype=float32)\n",
      "[0.0, 0.1, 0.1, 0.1]\n",
      "tf.Tensor([[0.00809374 0.63490444 0.3455751  0.01142674]], shape=(1, 4), dtype=float32)\n",
      "[0.2, 0.1, 0.1, 0.1]\n",
      "tf.Tensor([[0.00700254 0.6311072  0.34995842 0.01193178]], shape=(1, 4), dtype=float32)\n",
      "[0.0, 0.1, 0.1, 0.1]\n",
      "tf.Tensor([[0.00809374 0.63490444 0.3455751  0.01142674]], shape=(1, 4), dtype=float32)\n",
      "[0.2, 0.1, 0.1, 0.1]\n",
      "tf.Tensor([[0.00700254 0.6311072  0.34995842 0.01193178]], shape=(1, 4), dtype=float32)\n",
      "[0.0, 0.1, 0.1, 0.1]\n",
      "tf.Tensor([[0.00809374 0.63490444 0.3455751  0.01142674]], shape=(1, 4), dtype=float32)\n",
      "[0.2, 0.1, 0.1, 0.1]\n",
      "tf.Tensor([[0.00700254 0.6311072  0.34995842 0.01193178]], shape=(1, 4), dtype=float32)\n",
      "[0.0, 0.1, 0.1, 0.1]\n",
      "tf.Tensor([[0.00809374 0.63490444 0.3455751  0.01142674]], shape=(1, 4), dtype=float32)\n",
      "[0.2, 0.1, 0.1, 0.1]\n",
      "tf.Tensor([[0.00700254 0.6311072  0.34995842 0.01193178]], shape=(1, 4), dtype=float32)\n"
     ]
    },
    {
     "name": "stderr",
     "output_type": "stream",
     "text": [
      " 15%|██████████▌                                                           | 15001/100000 [4:30:37<20:33:51,  1.15it/s]"
     ]
    },
    {
     "name": "stdout",
     "output_type": "stream",
     "text": [
      "-7.894086976945071\n",
      "98\n"
     ]
    },
    {
     "name": "stderr",
     "output_type": "stream",
     "text": [
      " 15%|██████████▌                                                           | 15101/100000 [4:32:01<18:42:24,  1.26it/s]"
     ]
    },
    {
     "name": "stdout",
     "output_type": "stream",
     "text": [
      "-1.6691106378244438\n",
      "98\n",
      "[0.6, 0.5, 0.2, 0.9]\n",
      "tf.Tensor([[0.00132588 0.54005533 0.4403196  0.01829919]], shape=(1, 4), dtype=float32)\n",
      "[0.6, 0.7, 0.2, 0.9]\n",
      "tf.Tensor([[0.00170573 0.58021647 0.40211132 0.01596656]], shape=(1, 4), dtype=float32)\n",
      "[0.4, 0.7, 0.2, 0.9]\n",
      "tf.Tensor([[0.00209304 0.6107702  0.37475997 0.01237669]], shape=(1, 4), dtype=float32)\n",
      "[0.4, 0.9, 0.2, 0.9]\n",
      "tf.Tensor([[0.00529024 0.69894034 0.28742528 0.00834411]], shape=(1, 4), dtype=float32)\n"
     ]
    },
    {
     "name": "stderr",
     "output_type": "stream",
     "text": [
      " 15%|██████████▋                                                           | 15201/100000 [4:33:50<14:21:56,  1.64it/s]"
     ]
    },
    {
     "name": "stdout",
     "output_type": "stream",
     "text": [
      "-4.040562802899158\n",
      "97\n"
     ]
    },
    {
     "name": "stderr",
     "output_type": "stream",
     "text": [
      " 15%|██████████▋                                                           | 15301/100000 [4:35:23<18:44:16,  1.26it/s]"
     ]
    },
    {
     "name": "stdout",
     "output_type": "stream",
     "text": [
      "-5.4379257129709\n",
      "95\n",
      "[0.3, 0.3, 0.1, 0.1]\n",
      "tf.Tensor([[0.00187428 0.5604984  0.41857904 0.01904825]], shape=(1, 4), dtype=float32)\n",
      "[0.3, 0.1, 0.1, 0.1]\n",
      "tf.Tensor([[0.00230108 0.58252966 0.3977457  0.01742354]], shape=(1, 4), dtype=float32)\n"
     ]
    },
    {
     "name": "stderr",
     "output_type": "stream",
     "text": [
      " 15%|██████████▊                                                           | 15402/100000 [4:36:32<10:21:01,  2.27it/s]"
     ]
    },
    {
     "name": "stdout",
     "output_type": "stream",
     "text": [
      "-0.49516649226528864\n",
      "98\n"
     ]
    },
    {
     "name": "stderr",
     "output_type": "stream",
     "text": [
      " 16%|██████████▊                                                           | 15500/100000 [4:37:57<23:06:48,  1.02it/s]"
     ]
    },
    {
     "name": "stdout",
     "output_type": "stream",
     "text": [
      "-1.6114942718622753\n",
      "99\n",
      "[0.0, 0.8, 0.7, 0.1]\n",
      "tf.Tensor([[0.00186991 0.5359425  0.44143263 0.020755  ]], shape=(1, 4), dtype=float32)\n",
      "[0.0, 0.6, 0.7, 0.1]\n",
      "tf.Tensor([[0.00206084 0.5527225  0.42738706 0.01782961]], shape=(1, 4), dtype=float32)\n",
      "[0.2, 0.6, 0.7, 0.1]\n",
      "tf.Tensor([[0.0025378  0.59114563 0.39114735 0.01516925]], shape=(1, 4), dtype=float32)\n",
      "[0.2, 0.4, 0.7, 0.1]\n",
      "tf.Tensor([[0.00388764 0.62581927 0.35851458 0.01177846]], shape=(1, 4), dtype=float32)\n",
      "[0.4, 0.4, 0.7, 0.1]\n",
      "tf.Tensor([[0.00418862 0.6416603  0.34279633 0.01135479]], shape=(1, 4), dtype=float32)\n",
      "[0.4, 0.2, 0.7, 0.1]\n",
      "tf.Tensor([[0.00359244 0.62781656 0.3569097  0.01168128]], shape=(1, 4), dtype=float32)\n",
      "[0.6, 0.2, 0.7, 0.1]\n",
      "tf.Tensor([[0.00385911 0.6442788  0.34087452 0.01098757]], shape=(1, 4), dtype=float32)\n",
      "[0.6, 0.0, 0.7, 0.1]\n",
      "tf.Tensor([[0.00316971 0.62770003 0.35811746 0.0110128 ]], shape=(1, 4), dtype=float32)\n",
      "[0.6, 0.2, 0.7, 0.1]\n",
      "tf.Tensor([[0.003525   0.6480491  0.33810517 0.01032069]], shape=(1, 4), dtype=float32)\n",
      "[0.6, 0.0, 0.7, 0.1]\n",
      "tf.Tensor([[0.00302846 0.6308779  0.35565895 0.01043466]], shape=(1, 4), dtype=float32)\n",
      "[0.6, 0.2, 0.7, 0.1]\n",
      "tf.Tensor([[0.0034052  0.6503293  0.33632585 0.00993968]], shape=(1, 4), dtype=float32)\n",
      "[0.6, 0.0, 0.7, 0.1]\n",
      "tf.Tensor([[0.00302846 0.6308779  0.35565895 0.01043466]], shape=(1, 4), dtype=float32)\n",
      "[0.6, 0.2, 0.7, 0.1]\n",
      "tf.Tensor([[0.0034052  0.6503293  0.33632585 0.00993968]], shape=(1, 4), dtype=float32)\n",
      "[0.6, 0.0, 0.7, 0.1]\n",
      "tf.Tensor([[0.00302846 0.6308779  0.35565895 0.01043466]], shape=(1, 4), dtype=float32)\n",
      "[0.6, 0.2, 0.7, 0.1]\n",
      "tf.Tensor([[0.0034052  0.6503293  0.33632585 0.00993968]], shape=(1, 4), dtype=float32)\n",
      "[0.6, 0.0, 0.7, 0.1]\n",
      "tf.Tensor([[0.00302846 0.6308779  0.35565895 0.01043466]], shape=(1, 4), dtype=float32)\n",
      "[0.6, 0.2, 0.7, 0.1]\n",
      "tf.Tensor([[0.0034052  0.6503293  0.33632585 0.00993968]], shape=(1, 4), dtype=float32)\n",
      "[0.6, 0.0, 0.7, 0.1]\n",
      "tf.Tensor([[0.00302846 0.6308779  0.35565895 0.01043466]], shape=(1, 4), dtype=float32)\n",
      "[0.6, 0.2, 0.7, 0.1]\n",
      "tf.Tensor([[0.0034052  0.6503293  0.33632585 0.00993968]], shape=(1, 4), dtype=float32)\n",
      "[0.6, 0.0, 0.7, 0.1]\n",
      "tf.Tensor([[0.00302846 0.6308779  0.35565895 0.01043466]], shape=(1, 4), dtype=float32)\n",
      "[0.6, 0.2, 0.7, 0.1]\n",
      "tf.Tensor([[0.0034052  0.6503293  0.33632585 0.00993968]], shape=(1, 4), dtype=float32)\n",
      "[0.6, 0.0, 0.7, 0.1]\n",
      "tf.Tensor([[0.00302846 0.6308779  0.35565895 0.01043466]], shape=(1, 4), dtype=float32)\n",
      "[0.6, 0.2, 0.7, 0.1]\n",
      "tf.Tensor([[0.0034052  0.6503293  0.33632585 0.00993968]], shape=(1, 4), dtype=float32)\n",
      "[0.6, 0.0, 0.7, 0.1]\n",
      "tf.Tensor([[0.00302846 0.6308779  0.35565895 0.01043466]], shape=(1, 4), dtype=float32)\n",
      "[0.6, 0.2, 0.7, 0.1]\n",
      "tf.Tensor([[0.0034052  0.6503293  0.33632585 0.00993968]], shape=(1, 4), dtype=float32)\n",
      "[0.6, 0.0, 0.7, 0.1]\n",
      "tf.Tensor([[0.00302846 0.6308779  0.35565895 0.01043466]], shape=(1, 4), dtype=float32)\n",
      "[0.6, 0.2, 0.7, 0.1]\n",
      "tf.Tensor([[0.0034052  0.6503293  0.33632585 0.00993968]], shape=(1, 4), dtype=float32)\n",
      "[0.6, 0.0, 0.7, 0.1]\n",
      "tf.Tensor([[0.00302846 0.6308779  0.35565895 0.01043466]], shape=(1, 4), dtype=float32)\n",
      "[0.6, 0.2, 0.7, 0.1]\n",
      "tf.Tensor([[0.0034052  0.6503293  0.33632585 0.00993968]], shape=(1, 4), dtype=float32)\n",
      "[0.6, 0.0, 0.7, 0.1]\n",
      "tf.Tensor([[0.00302846 0.6308779  0.35565895 0.01043466]], shape=(1, 4), dtype=float32)\n",
      "[0.6, 0.2, 0.7, 0.1]\n",
      "tf.Tensor([[0.0034052  0.6503293  0.33632585 0.00993968]], shape=(1, 4), dtype=float32)\n",
      "[0.6, 0.0, 0.7, 0.1]\n",
      "tf.Tensor([[0.00302846 0.6308779  0.35565895 0.01043466]], shape=(1, 4), dtype=float32)\n",
      "[0.6, 0.2, 0.7, 0.1]\n"
     ]
    },
    {
     "name": "stderr",
     "output_type": "stream",
     "text": [
      "\r",
      " 16%|██████████▊                                                           | 15501/100000 [4:37:58<22:27:37,  1.05it/s]"
     ]
    },
    {
     "name": "stdout",
     "output_type": "stream",
     "text": [
      "tf.Tensor([[0.0034052  0.6503293  0.33632585 0.00993968]], shape=(1, 4), dtype=float32)\n",
      "[0.6, 0.0, 0.7, 0.1]\n",
      "tf.Tensor([[0.00302846 0.6308779  0.35565895 0.01043466]], shape=(1, 4), dtype=float32)\n",
      "[0.6, 0.2, 0.7, 0.1]\n",
      "tf.Tensor([[0.0034052  0.6503293  0.33632585 0.00993968]], shape=(1, 4), dtype=float32)\n",
      "[0.6, 0.0, 0.7, 0.1]\n",
      "tf.Tensor([[0.00302846 0.6308779  0.35565895 0.01043466]], shape=(1, 4), dtype=float32)\n",
      "[0.6, 0.2, 0.7, 0.1]\n",
      "tf.Tensor([[0.0034052  0.6503293  0.33632585 0.00993968]], shape=(1, 4), dtype=float32)\n",
      "[0.6, 0.0, 0.7, 0.1]\n",
      "tf.Tensor([[0.00302846 0.6308779  0.35565895 0.01043466]], shape=(1, 4), dtype=float32)\n",
      "[0.6, 0.2, 0.7, 0.1]\n",
      "tf.Tensor([[0.0034052  0.6503293  0.33632585 0.00993968]], shape=(1, 4), dtype=float32)\n",
      "[0.6, 0.0, 0.7, 0.1]\n",
      "tf.Tensor([[0.00302846 0.6308779  0.35565895 0.01043466]], shape=(1, 4), dtype=float32)\n"
     ]
    },
    {
     "name": "stderr",
     "output_type": "stream",
     "text": [
      " 16%|███████████                                                            | 15601/100000 [4:39:16<6:44:21,  3.48it/s]"
     ]
    },
    {
     "name": "stdout",
     "output_type": "stream",
     "text": [
      "0.9996522253546116\n",
      "100\n"
     ]
    },
    {
     "name": "stderr",
     "output_type": "stream",
     "text": [
      " 16%|██████████▉                                                           | 15700/100000 [4:40:41<11:49:56,  1.98it/s]"
     ]
    },
    {
     "name": "stdout",
     "output_type": "stream",
     "text": [
      "-1.0752789071822793\n",
      "98\n",
      "[0.0, 0.3, 0.1, 0.1]\n",
      "tf.Tensor([[0.00212353 0.52923137 0.44565406 0.02299105]], shape=(1, 4), dtype=float32)\n",
      "[0.0, 0.1, 0.1, 0.1]\n",
      "tf.Tensor([[0.00215602 0.536291   0.44085938 0.02069359]], shape=(1, 4), dtype=float32)\n",
      "[0.2, 0.1, 0.1, 0.1]\n",
      "tf.Tensor([[0.00316129 0.5743129  0.40426752 0.01825829]], shape=(1, 4), dtype=float32)\n",
      "[0.0, 0.1, 0.1, 0.1]\n",
      "tf.Tensor([[0.00506296 0.6077229  0.37290892 0.01430519]], shape=(1, 4), dtype=float32)\n",
      "[0.2, 0.1, 0.1, 0.1]\n",
      "tf.Tensor([[0.00693292 0.62535566 0.35385224 0.01385921]], shape=(1, 4), dtype=float32)\n",
      "[0.0, 0.1, 0.1, 0.1]\n",
      "tf.Tensor([[0.00770776 0.62274337 0.3560722  0.01347666]], shape=(1, 4), dtype=float32)\n",
      "[0.2, 0.1, 0.1, 0.1]\n",
      "tf.Tensor([[0.00693292 0.62535566 0.35385224 0.01385921]], shape=(1, 4), dtype=float32)\n",
      "[0.0, 0.1, 0.1, 0.1]\n",
      "tf.Tensor([[0.00770776 0.62274337 0.3560722  0.01347666]], shape=(1, 4), dtype=float32)\n",
      "[0.2, 0.1, 0.1, 0.1]\n",
      "tf.Tensor([[0.00693292 0.62535566 0.35385224 0.01385921]], shape=(1, 4), dtype=float32)\n",
      "[0.0, 0.1, 0.1, 0.1]\n",
      "tf.Tensor([[0.00770776 0.62274337 0.3560722  0.01347666]], shape=(1, 4), dtype=float32)\n",
      "[0.2, 0.1, 0.1, 0.1]\n",
      "tf.Tensor([[0.00693292 0.62535566 0.35385224 0.01385921]], shape=(1, 4), dtype=float32)\n",
      "[0.0, 0.1, 0.1, 0.1]\n",
      "tf.Tensor([[0.00770776 0.62274337 0.3560722  0.01347666]], shape=(1, 4), dtype=float32)\n",
      "[0.2, 0.1, 0.1, 0.1]\n",
      "tf.Tensor([[0.00693292 0.62535566 0.35385224 0.01385921]], shape=(1, 4), dtype=float32)\n",
      "[0.0, 0.1, 0.1, 0.1]\n",
      "tf.Tensor([[0.00770776 0.62274337 0.3560722  0.01347666]], shape=(1, 4), dtype=float32)\n",
      "[0.2, 0.1, 0.1, 0.1]\n",
      "tf.Tensor([[0.00693292 0.62535566 0.35385224 0.01385921]], shape=(1, 4), dtype=float32)\n",
      "[0.0, 0.1, 0.1, 0.1]\n",
      "tf.Tensor([[0.00770776 0.62274337 0.3560722  0.01347666]], shape=(1, 4), dtype=float32)\n",
      "[0.2, 0.1, 0.1, 0.1]\n",
      "tf.Tensor([[0.00693292 0.62535566 0.35385224 0.01385921]], shape=(1, 4), dtype=float32)\n",
      "[0.0, 0.1, 0.1, 0.1]\n",
      "tf.Tensor([[0.00770776 0.62274337 0.3560722  0.01347666]], shape=(1, 4), dtype=float32)\n",
      "[0.2, 0.1, 0.1, 0.1]\n",
      "tf.Tensor([[0.00693292 0.62535566 0.35385224 0.01385921]], shape=(1, 4), dtype=float32)\n",
      "[0.0, 0.1, 0.1, 0.1]\n",
      "tf.Tensor([[0.00770776 0.62274337 0.3560722  0.01347666]], shape=(1, 4), dtype=float32)\n",
      "[0.2, 0.1, 0.1, 0.1]\n",
      "tf.Tensor([[0.00693292 0.62535566 0.35385224 0.01385921]], shape=(1, 4), dtype=float32)\n",
      "[0.0, 0.1, 0.1, 0.1]\n",
      "tf.Tensor([[0.00770776 0.62274337 0.3560722  0.01347666]], shape=(1, 4), dtype=float32)\n",
      "[0.2, 0.1, 0.1, 0.1]\n",
      "tf.Tensor([[0.00693292 0.62535566 0.35385224 0.01385921]], shape=(1, 4), dtype=float32)\n",
      "[0.0, 0.1, 0.1, 0.1]\n",
      "tf.Tensor([[0.00770776 0.62274337 0.3560722  0.01347666]], shape=(1, 4), dtype=float32)\n",
      "[0.2, 0.1, 0.1, 0.1]\n",
      "tf.Tensor([[0.00693292 0.62535566 0.35385224 0.01385921]], shape=(1, 4), dtype=float32)\n",
      "[0.0, 0.1, 0.1, 0.1]\n",
      "tf.Tensor([[0.00770776 0.62274337 0.3560722  0.01347666]], shape=(1, 4), dtype=float32)\n",
      "[0.2, 0.1, 0.1, 0.1]\n",
      "tf.Tensor([[0.00693292 0.62535566 0.35385224 0.01385921]], shape=(1, 4), dtype=float32)\n",
      "[0.0, 0.1, 0.1, 0.1]\n",
      "tf.Tensor([[0.00770776 0.62274337 0.3560722  0.01347666]], shape=(1, 4), dtype=float32)\n",
      "[0.2, 0.1, 0.1, 0.1]\n",
      "tf.Tensor([[0.00693292 0.62535566 0.35385224 0.01385921]], shape=(1, 4), dtype=float32)\n",
      "[0.0, 0.1, 0.1, 0.1]\n",
      "tf.Tensor([[0.00770776 0.62274337 0.3560722  0.01347666]], shape=(1, 4), dtype=float32)\n",
      "[0.2, 0.1, 0.1, 0.1]\n",
      "tf.Tensor([[0.00693292 0.62535566 0.35385224 0.01385921]], shape=(1, 4), dtype=float32)\n",
      "[0.0, 0.1, 0.1, 0.1]\n",
      "tf.Tensor([[0.00770776 0.62274337 0.3560722  0.01347666]], shape=(1, 4), dtype=float32)\n",
      "[0.2, 0.1, 0.1, 0.1]\n",
      "tf.Tensor([[0.00693292 0.62535566 0.35385224 0.01385921]], shape=(1, 4), dtype=float32)\n",
      "[0.0, 0.1, 0.1, 0.1]\n"
     ]
    },
    {
     "name": "stderr",
     "output_type": "stream",
     "text": [
      "\r",
      " 16%|██████████▉                                                           | 15701/100000 [4:40:42<16:01:11,  1.46it/s]"
     ]
    },
    {
     "name": "stdout",
     "output_type": "stream",
     "text": [
      "tf.Tensor([[0.00770776 0.62274337 0.3560722  0.01347666]], shape=(1, 4), dtype=float32)\n",
      "[0.2, 0.1, 0.1, 0.1]\n",
      "tf.Tensor([[0.00693292 0.62535566 0.35385224 0.01385921]], shape=(1, 4), dtype=float32)\n",
      "[0.0, 0.1, 0.1, 0.1]\n",
      "tf.Tensor([[0.00770776 0.62274337 0.3560722  0.01347666]], shape=(1, 4), dtype=float32)\n",
      "[0.2, 0.1, 0.1, 0.1]\n",
      "tf.Tensor([[0.00693292 0.62535566 0.35385224 0.01385921]], shape=(1, 4), dtype=float32)\n",
      "[0.0, 0.1, 0.1, 0.1]\n",
      "tf.Tensor([[0.00770776 0.62274337 0.3560722  0.01347666]], shape=(1, 4), dtype=float32)\n",
      "[0.2, 0.1, 0.1, 0.1]\n",
      "tf.Tensor([[0.00693292 0.62535566 0.35385224 0.01385921]], shape=(1, 4), dtype=float32)\n",
      "[0.0, 0.1, 0.1, 0.1]\n",
      "tf.Tensor([[0.00770776 0.62274337 0.3560722  0.01347666]], shape=(1, 4), dtype=float32)\n"
     ]
    },
    {
     "name": "stderr",
     "output_type": "stream",
     "text": [
      " 16%|███████████                                                           | 15801/100000 [4:42:05<17:48:14,  1.31it/s]"
     ]
    },
    {
     "name": "stdout",
     "output_type": "stream",
     "text": [
      "-3.6734892465192805\n",
      "98\n"
     ]
    },
    {
     "name": "stderr",
     "output_type": "stream",
     "text": [
      " 16%|███████████▏                                                          | 15900/100000 [4:43:16<15:24:41,  1.52it/s]"
     ]
    },
    {
     "name": "stdout",
     "output_type": "stream",
     "text": [
      "-0.25101827843665053\n",
      "98\n",
      "[0.1, 0.1, 0.7, 0.4]\n",
      "tf.Tensor([[0.00160803 0.554074   0.4221049  0.02221305]], shape=(1, 4), dtype=float32)\n",
      "[0.3, 0.1, 0.7, 0.4]\n",
      "tf.Tensor([[0.00171688 0.5793418  0.3998749  0.0190664 ]], shape=(1, 4), dtype=float32)\n",
      "[0.5, 0.1, 0.7, 0.4]\n",
      "tf.Tensor([[0.00197623 0.6105507  0.37240523 0.01506785]], shape=(1, 4), dtype=float32)\n",
      "[0.5, 0.3, 0.7, 0.4]\n",
      "tf.Tensor([[0.00362658 0.672743   0.31329107 0.01033929]], shape=(1, 4), dtype=float32)\n",
      "[0.7, 0.3, 0.7, 0.4]\n",
      "tf.Tensor([[0.00342029 0.6777365  0.30943263 0.00941057]], shape=(1, 4), dtype=float32)\n",
      "[0.7, 0.5, 0.7, 0.4]\n",
      "tf.Tensor([[0.00320596 0.69251454 0.29504308 0.00923638]], shape=(1, 4), dtype=float32)\n",
      "[0.7, 0.3, 0.7, 0.4]\n",
      "tf.Tensor([[0.00286762 0.67766136 0.30999467 0.00947635]], shape=(1, 4), dtype=float32)\n",
      "[0.7, 0.5, 0.7, 0.4]\n",
      "tf.Tensor([[0.0025155  0.6848287  0.30290914 0.00974667]], shape=(1, 4), dtype=float32)\n",
      "[0.7, 0.3, 0.7, 0.4]\n",
      "tf.Tensor([[0.00218811 0.6631081  0.32431018 0.0103936 ]], shape=(1, 4), dtype=float32)\n",
      "[0.7, 0.5, 0.7, 0.4]\n",
      "tf.Tensor([[0.0025155  0.6848287  0.30290914 0.00974667]], shape=(1, 4), dtype=float32)\n",
      "[0.7, 0.3, 0.7, 0.4]\n",
      "tf.Tensor([[0.00218811 0.6631081  0.32431018 0.0103936 ]], shape=(1, 4), dtype=float32)\n",
      "[0.7, 0.5, 0.7, 0.4]\n",
      "tf.Tensor([[0.0025155  0.6848287  0.30290914 0.00974667]], shape=(1, 4), dtype=float32)\n",
      "[0.7, 0.3, 0.7, 0.4]\n",
      "tf.Tensor([[0.00218811 0.6631081  0.32431018 0.0103936 ]], shape=(1, 4), dtype=float32)\n",
      "[0.7, 0.5, 0.7, 0.4]\n",
      "tf.Tensor([[0.0025155  0.6848287  0.30290914 0.00974667]], shape=(1, 4), dtype=float32)\n",
      "[0.7, 0.3, 0.7, 0.4]\n",
      "tf.Tensor([[0.00218811 0.6631081  0.32431018 0.0103936 ]], shape=(1, 4), dtype=float32)\n",
      "[0.7, 0.5, 0.7, 0.4]\n",
      "tf.Tensor([[0.0025155  0.6848287  0.30290914 0.00974667]], shape=(1, 4), dtype=float32)\n",
      "[0.7, 0.3, 0.7, 0.4]\n",
      "tf.Tensor([[0.00218811 0.6631081  0.32431018 0.0103936 ]], shape=(1, 4), dtype=float32)\n",
      "[0.7, 0.5, 0.7, 0.4]\n",
      "tf.Tensor([[0.0025155  0.6848287  0.30290914 0.00974667]], shape=(1, 4), dtype=float32)\n",
      "[0.7, 0.3, 0.7, 0.4]\n",
      "tf.Tensor([[0.00218811 0.6631081  0.32431018 0.0103936 ]], shape=(1, 4), dtype=float32)\n",
      "[0.7, 0.5, 0.7, 0.4]\n",
      "tf.Tensor([[0.0025155  0.6848287  0.30290914 0.00974667]], shape=(1, 4), dtype=float32)\n",
      "[0.7, 0.3, 0.7, 0.4]\n",
      "tf.Tensor([[0.00218811 0.6631081  0.32431018 0.0103936 ]], shape=(1, 4), dtype=float32)\n",
      "[0.7, 0.5, 0.7, 0.4]\n",
      "tf.Tensor([[0.0025155  0.6848287  0.30290914 0.00974667]], shape=(1, 4), dtype=float32)\n",
      "[0.7, 0.3, 0.7, 0.4]\n",
      "tf.Tensor([[0.00218811 0.6631081  0.32431018 0.0103936 ]], shape=(1, 4), dtype=float32)\n",
      "[0.7, 0.5, 0.7, 0.4]\n",
      "tf.Tensor([[0.0025155  0.6848287  0.30290914 0.00974667]], shape=(1, 4), dtype=float32)\n",
      "[0.7, 0.3, 0.7, 0.4]\n",
      "tf.Tensor([[0.00218811 0.6631081  0.32431018 0.0103936 ]], shape=(1, 4), dtype=float32)\n",
      "[0.7, 0.5, 0.7, 0.4]\n",
      "tf.Tensor([[0.0025155  0.6848287  0.30290914 0.00974667]], shape=(1, 4), dtype=float32)\n",
      "[0.7, 0.3, 0.7, 0.4]\n",
      "tf.Tensor([[0.00218811 0.6631081  0.32431018 0.0103936 ]], shape=(1, 4), dtype=float32)\n",
      "[0.7, 0.5, 0.7, 0.4]\n",
      "tf.Tensor([[0.0025155  0.6848287  0.30290914 0.00974667]], shape=(1, 4), dtype=float32)"
     ]
    },
    {
     "name": "stderr",
     "output_type": "stream",
     "text": [
      "\r",
      " 16%|███████████▏                                                          | 15901/100000 [4:43:18<22:41:42,  1.03it/s]"
     ]
    },
    {
     "name": "stdout",
     "output_type": "stream",
     "text": [
      "\n",
      "[0.7, 0.3, 0.7, 0.4]\n",
      "tf.Tensor([[0.00218811 0.6631081  0.32431018 0.0103936 ]], shape=(1, 4), dtype=float32)\n",
      "[0.7, 0.5, 0.7, 0.4]\n",
      "tf.Tensor([[0.0025155  0.6848287  0.30290914 0.00974667]], shape=(1, 4), dtype=float32)\n",
      "[0.7, 0.3, 0.7, 0.4]\n",
      "tf.Tensor([[0.00218811 0.6631081  0.32431018 0.0103936 ]], shape=(1, 4), dtype=float32)\n",
      "[0.7, 0.5, 0.7, 0.4]\n",
      "tf.Tensor([[0.0025155  0.6848287  0.30290914 0.00974667]], shape=(1, 4), dtype=float32)\n",
      "[0.7, 0.3, 0.7, 0.4]\n",
      "tf.Tensor([[0.00218811 0.6631081  0.32431018 0.0103936 ]], shape=(1, 4), dtype=float32)\n",
      "[0.7, 0.5, 0.7, 0.4]\n",
      "tf.Tensor([[0.0025155  0.6848287  0.30290914 0.00974667]], shape=(1, 4), dtype=float32)\n",
      "[0.7, 0.3, 0.7, 0.4]\n",
      "tf.Tensor([[0.00218811 0.6631081  0.32431018 0.0103936 ]], shape=(1, 4), dtype=float32)\n",
      "[0.7, 0.5, 0.7, 0.4]\n",
      "tf.Tensor([[0.0025155  0.6848287  0.30290914 0.00974667]], shape=(1, 4), dtype=float32)\n",
      "[0.7, 0.3, 0.7, 0.4]\n",
      "tf.Tensor([[0.00218811 0.6631081  0.32431018 0.0103936 ]], shape=(1, 4), dtype=float32)\n",
      "[0.7, 0.5, 0.7, 0.4]\n",
      "tf.Tensor([[0.0025155  0.6848287  0.30290914 0.00974667]], shape=(1, 4), dtype=float32)\n",
      "[0.7, 0.3, 0.7, 0.4]\n",
      "tf.Tensor([[0.00218811 0.6631081  0.32431018 0.0103936 ]], shape=(1, 4), dtype=float32)\n",
      "[0.7, 0.5, 0.7, 0.4]\n",
      "tf.Tensor([[0.0025155  0.6848287  0.30290914 0.00974667]], shape=(1, 4), dtype=float32)\n"
     ]
    },
    {
     "name": "stderr",
     "output_type": "stream",
     "text": [
      " 16%|███████████▏                                                          | 16001/100000 [4:44:43<15:16:56,  1.53it/s]"
     ]
    },
    {
     "name": "stdout",
     "output_type": "stream",
     "text": [
      "0.4787070392533595\n",
      "95\n"
     ]
    },
    {
     "name": "stderr",
     "output_type": "stream",
     "text": [
      " 16%|███████████▎                                                          | 16100/100000 [4:45:54<32:14:19,  1.38s/it]"
     ]
    },
    {
     "name": "stdout",
     "output_type": "stream",
     "text": [
      "-3.67505943269886\n",
      "99\n",
      "[0.7, 0.1, 0.6, 0.2]\n",
      "tf.Tensor([[0.00128051 0.5515882  0.42882562 0.01830566]], shape=(1, 4), dtype=float32)\n",
      "[0.7, 0.3, 0.6, 0.2]\n",
      "tf.Tensor([[0.00170951 0.59384674 0.38857487 0.01586888]], shape=(1, 4), dtype=float32)\n",
      "[0.5, 0.3, 0.6, 0.2]\n",
      "tf.Tensor([[0.00220057 0.62886804 0.3569368  0.01199455]], shape=(1, 4), dtype=float32)\n",
      "[0.7, 0.3, 0.6, 0.2]\n",
      "tf.Tensor([[0.00597458 0.71426183 0.27190053 0.00786302]], shape=(1, 4), dtype=float32)\n",
      "[0.5, 0.3, 0.6, 0.2]\n",
      "tf.Tensor([[0.00670869 0.7056515  0.27950135 0.00813847]], shape=(1, 4), dtype=float32)\n",
      "[0.7, 0.3, 0.6, 0.2]\n",
      "tf.Tensor([[0.00630784 0.71070135 0.27475515 0.00823563]], shape=(1, 4), dtype=float32)\n",
      "[0.5, 0.3, 0.6, 0.2]\n",
      "tf.Tensor([[0.00670869 0.7056515  0.27950135 0.00813847]], shape=(1, 4), dtype=float32)\n",
      "[0.7, 0.3, 0.6, 0.2]\n",
      "tf.Tensor([[0.00630784 0.71070135 0.27475515 0.00823563]], shape=(1, 4), dtype=float32)\n",
      "[0.5, 0.3, 0.6, 0.2]\n",
      "tf.Tensor([[0.00670869 0.7056515  0.27950135 0.00813847]], shape=(1, 4), dtype=float32)\n",
      "[0.7, 0.3, 0.6, 0.2]\n",
      "tf.Tensor([[0.00630784 0.71070135 0.27475515 0.00823563]], shape=(1, 4), dtype=float32)\n",
      "[0.5, 0.3, 0.6, 0.2]\n",
      "tf.Tensor([[0.00670869 0.7056515  0.27950135 0.00813847]], shape=(1, 4), dtype=float32)\n",
      "[0.7, 0.3, 0.6, 0.2]\n",
      "tf.Tensor([[0.00630784 0.71070135 0.27475515 0.00823563]], shape=(1, 4), dtype=float32)\n",
      "[0.5, 0.3, 0.6, 0.2]\n",
      "tf.Tensor([[0.00670869 0.7056515  0.27950135 0.00813847]], shape=(1, 4), dtype=float32)\n",
      "[0.7, 0.3, 0.6, 0.2]\n",
      "tf.Tensor([[0.00630784 0.71070135 0.27475515 0.00823563]], shape=(1, 4), dtype=float32)\n",
      "[0.5, 0.3, 0.6, 0.2]\n",
      "tf.Tensor([[0.00670869 0.7056515  0.27950135 0.00813847]], shape=(1, 4), dtype=float32)\n",
      "[0.7, 0.3, 0.6, 0.2]\n",
      "tf.Tensor([[0.00630784 0.71070135 0.27475515 0.00823563]], shape=(1, 4), dtype=float32)\n",
      "[0.5, 0.3, 0.6, 0.2]\n",
      "tf.Tensor([[0.00670869 0.7056515  0.27950135 0.00813847]], shape=(1, 4), dtype=float32)\n",
      "[0.7, 0.3, 0.6, 0.2]\n",
      "tf.Tensor([[0.00630784 0.71070135 0.27475515 0.00823563]], shape=(1, 4), dtype=float32)\n",
      "[0.5, 0.3, 0.6, 0.2]\n",
      "tf.Tensor([[0.00670869 0.7056515  0.27950135 0.00813847]], shape=(1, 4), dtype=float32)\n",
      "[0.7, 0.3, 0.6, 0.2]\n",
      "tf.Tensor([[0.00630784 0.71070135 0.27475515 0.00823563]], shape=(1, 4), dtype=float32)\n",
      "[0.5, 0.3, 0.6, 0.2]\n",
      "tf.Tensor([[0.00670869 0.7056515  0.27950135 0.00813847]], shape=(1, 4), dtype=float32)\n",
      "[0.7, 0.3, 0.6, 0.2]\n",
      "tf.Tensor([[0.00630784 0.71070135 0.27475515 0.00823563]], shape=(1, 4), dtype=float32)\n",
      "[0.5, 0.3, 0.6, 0.2]\n",
      "tf.Tensor([[0.00670869 0.7056515  0.27950135 0.00813847]], shape=(1, 4), dtype=float32)\n",
      "[0.7, 0.3, 0.6, 0.2]\n",
      "tf.Tensor([[0.00630784 0.71070135 0.27475515 0.00823563]], shape=(1, 4), dtype=float32)\n",
      "[0.5, 0.3, 0.6, 0.2]\n",
      "tf.Tensor([[0.00670869 0.7056515  0.27950135 0.00813847]], shape=(1, 4), dtype=float32)\n",
      "[0.7, 0.3, 0.6, 0.2]\n",
      "tf.Tensor([[0.00630784 0.71070135 0.27475515 0.00823563]], shape=(1, 4), dtype=float32)\n",
      "[0.5, 0.3, 0.6, 0.2]\n",
      "tf.Tensor([[0.00670869 0.7056515  0.27950135 0.00813847]], shape=(1, 4), dtype=float32)\n",
      "[0.7, 0.3, 0.6, 0.2]\n",
      "tf.Tensor([[0.00630784 0.71070135 0.27475515 0.00823563]], shape=(1, 4), dtype=float32)\n",
      "[0.5, 0.3, 0.6, 0.2]\n",
      "tf.Tensor([[0.00670869 0.7056515  0.27950135 0.00813847]], shape=(1, 4), dtype=float32)\n",
      "[0.7, 0.3, 0.6, 0.2]\n",
      "tf.Tensor([[0.00630784 0.71070135 0.27475515 0.00823563]], shape=(1, 4), dtype=float32)\n",
      "[0.5, 0.3, 0.6, 0.2]\n",
      "tf.Tensor([[0.00670869 0.7056515  0.27950135 0.00813847]], shape=(1, 4), dtype=float32)\n",
      "[0.7, 0.3, 0.6, 0.2]\n",
      "tf.Tensor([[0.00630784 0.71070135 0.27475515 0.00823563]], shape=(1, 4), dtype=float32)\n",
      "[0.5, 0.3, 0.6, 0.2]\n",
      "tf.Tensor([[0.00670869 0.7056515  0.27950135 0.00813847]], shape=(1, 4), dtype=float32)"
     ]
    },
    {
     "name": "stderr",
     "output_type": "stream",
     "text": [
      "\r",
      " 16%|███████████▎                                                          | 16101/100000 [4:45:55<30:54:53,  1.33s/it]"
     ]
    },
    {
     "name": "stdout",
     "output_type": "stream",
     "text": [
      "\n",
      "[0.7, 0.3, 0.6, 0.2]\n",
      "tf.Tensor([[0.00630784 0.71070135 0.27475515 0.00823563]], shape=(1, 4), dtype=float32)\n",
      "[0.5, 0.3, 0.6, 0.2]\n",
      "tf.Tensor([[0.00670869 0.7056515  0.27950135 0.00813847]], shape=(1, 4), dtype=float32)\n",
      "[0.7, 0.3, 0.6, 0.2]\n",
      "tf.Tensor([[0.00630784 0.71070135 0.27475515 0.00823563]], shape=(1, 4), dtype=float32)\n",
      "[0.5, 0.3, 0.6, 0.2]\n",
      "tf.Tensor([[0.00670869 0.7056515  0.27950135 0.00813847]], shape=(1, 4), dtype=float32)\n",
      "[0.7, 0.3, 0.6, 0.2]\n",
      "tf.Tensor([[0.00630784 0.71070135 0.27475515 0.00823563]], shape=(1, 4), dtype=float32)\n",
      "[0.5, 0.3, 0.6, 0.2]\n",
      "tf.Tensor([[0.00670869 0.7056515  0.27950135 0.00813847]], shape=(1, 4), dtype=float32)\n",
      "[0.7, 0.3, 0.6, 0.2]\n",
      "tf.Tensor([[0.00630784 0.71070135 0.27475515 0.00823563]], shape=(1, 4), dtype=float32)\n"
     ]
    },
    {
     "name": "stderr",
     "output_type": "stream",
     "text": [
      " 16%|███████████▎                                                          | 16201/100000 [4:47:08<15:39:00,  1.49it/s]"
     ]
    },
    {
     "name": "stdout",
     "output_type": "stream",
     "text": [
      "-4.421186737047853\n",
      "98\n"
     ]
    },
    {
     "name": "stderr",
     "output_type": "stream",
     "text": [
      " 16%|███████████▍                                                          | 16300/100000 [4:48:20<26:37:16,  1.14s/it]"
     ]
    },
    {
     "name": "stdout",
     "output_type": "stream",
     "text": [
      "-5.155078812398928\n",
      "98\n",
      "[0.3, 0.9, 0.6, 0.2]\n",
      "tf.Tensor([[0.00154492 0.56007665 0.418809   0.01956944]], shape=(1, 4), dtype=float32)\n",
      "[0.3, 0.7, 0.6, 0.2]\n",
      "tf.Tensor([[0.00162964 0.5890797  0.392391   0.01689969]], shape=(1, 4), dtype=float32)\n",
      "[0.3, 0.5, 0.6, 0.2]\n",
      "tf.Tensor([[0.00185227 0.60855925 0.375789   0.01379953]], shape=(1, 4), dtype=float32)\n",
      "[0.5, 0.5, 0.6, 0.2]\n",
      "tf.Tensor([[0.00265525 0.6620998  0.32460338 0.01064166]], shape=(1, 4), dtype=float32)\n",
      "[0.5, 0.3, 0.6, 0.2]\n",
      "tf.Tensor([[0.00294918 0.65713364 0.32973424 0.01018288]], shape=(1, 4), dtype=float32)\n",
      "[0.7, 0.3, 0.6, 0.2]\n",
      "tf.Tensor([[0.00408592 0.6772347  0.30911666 0.00956277]], shape=(1, 4), dtype=float32)\n",
      "[0.5, 0.3, 0.6, 0.2]\n",
      "tf.Tensor([[0.00382708 0.6668626  0.31967136 0.00963893]], shape=(1, 4), dtype=float32)\n",
      "[0.7, 0.3, 0.6, 0.2]\n",
      "tf.Tensor([[0.00605344 0.69177663 0.29332766 0.00884224]], shape=(1, 4), dtype=float32)\n",
      "[0.5, 0.3, 0.6, 0.2]\n",
      "tf.Tensor([[0.00648244 0.68634087 0.29844788 0.0087288 ]], shape=(1, 4), dtype=float32)\n",
      "[0.7, 0.3, 0.6, 0.2]\n",
      "tf.Tensor([[0.00605344 0.69177663 0.29332766 0.00884224]], shape=(1, 4), dtype=float32)\n",
      "[0.5, 0.3, 0.6, 0.2]\n",
      "tf.Tensor([[0.00648244 0.68634087 0.29844788 0.0087288 ]], shape=(1, 4), dtype=float32)\n",
      "[0.7, 0.3, 0.6, 0.2]\n",
      "tf.Tensor([[0.00605344 0.69177663 0.29332766 0.00884224]], shape=(1, 4), dtype=float32)\n",
      "[0.5, 0.3, 0.6, 0.2]\n",
      "tf.Tensor([[0.00648244 0.68634087 0.29844788 0.0087288 ]], shape=(1, 4), dtype=float32)\n",
      "[0.7, 0.3, 0.6, 0.2]\n",
      "tf.Tensor([[0.00605344 0.69177663 0.29332766 0.00884224]], shape=(1, 4), dtype=float32)\n",
      "[0.5, 0.3, 0.6, 0.2]\n",
      "tf.Tensor([[0.00648244 0.68634087 0.29844788 0.0087288 ]], shape=(1, 4), dtype=float32)\n",
      "[0.7, 0.3, 0.6, 0.2]\n",
      "tf.Tensor([[0.00605344 0.69177663 0.29332766 0.00884224]], shape=(1, 4), dtype=float32)\n",
      "[0.5, 0.3, 0.6, 0.2]\n",
      "tf.Tensor([[0.00648244 0.68634087 0.29844788 0.0087288 ]], shape=(1, 4), dtype=float32)\n",
      "[0.7, 0.3, 0.6, 0.2]\n",
      "tf.Tensor([[0.00605344 0.69177663 0.29332766 0.00884224]], shape=(1, 4), dtype=float32)\n",
      "[0.5, 0.3, 0.6, 0.2]\n",
      "tf.Tensor([[0.00648244 0.68634087 0.29844788 0.0087288 ]], shape=(1, 4), dtype=float32)\n",
      "[0.7, 0.3, 0.6, 0.2]\n",
      "tf.Tensor([[0.00605344 0.69177663 0.29332766 0.00884224]], shape=(1, 4), dtype=float32)\n",
      "[0.5, 0.3, 0.6, 0.2]\n",
      "tf.Tensor([[0.00648244 0.68634087 0.29844788 0.0087288 ]], shape=(1, 4), dtype=float32)\n",
      "[0.7, 0.3, 0.6, 0.2]\n",
      "tf.Tensor([[0.00605344 0.69177663 0.29332766 0.00884224]], shape=(1, 4), dtype=float32)\n",
      "[0.5, 0.3, 0.6, 0.2]\n",
      "tf.Tensor([[0.00648244 0.68634087 0.29844788 0.0087288 ]], shape=(1, 4), dtype=float32)\n",
      "[0.7, 0.3, 0.6, 0.2]\n",
      "tf.Tensor([[0.00605344 0.69177663 0.29332766 0.00884224]], shape=(1, 4), dtype=float32)\n",
      "[0.5, 0.3, 0.6, 0.2]\n",
      "tf.Tensor([[0.00648244 0.68634087 0.29844788 0.0087288 ]], shape=(1, 4), dtype=float32)\n",
      "[0.7, 0.3, 0.6, 0.2]\n",
      "tf.Tensor([[0.00605344 0.69177663 0.29332766 0.00884224]], shape=(1, 4), dtype=float32)\n",
      "[0.5, 0.3, 0.6, 0.2]\n",
      "tf.Tensor([[0.00648244 0.68634087 0.29844788 0.0087288 ]], shape=(1, 4), dtype=float32)\n",
      "[0.7, 0.3, 0.6, 0.2]\n",
      "tf.Tensor([[0.00605344 0.69177663 0.29332766 0.00884224]], shape=(1, 4), dtype=float32)\n",
      "[0.5, 0.3, 0.6, 0.2]\n",
      "tf.Tensor([[0.00648244 0.68634087 0.29844788 0.0087288 ]], shape=(1, 4), dtype=float32)\n",
      "[0.7, 0.3, 0.6, 0.2]\n",
      "tf.Tensor([[0.00605344 0.69177663 0.29332766 0.00884224]], shape=(1, 4), dtype=float32)\n",
      "[0.5, 0.3, 0.6, 0.2]\n",
      "tf.Tensor([[0.00648244 0.68634087 0.29844788 0.0087288 ]], shape=(1, 4), dtype=float32)\n",
      "[0.7, 0.3, 0.6, 0.2]\n",
      "tf.Tensor([[0.00605344 0.69177663 0.29332766 0.00884224]], shape=(1, 4), dtype=float32)\n",
      "[0.5, 0.3, 0.6, 0.2]\n",
      "tf.Tensor([[0.00648244 0.68634087 0.29844788 0.0087288 ]], shape=(1, 4), dtype=float32)\n",
      "[0.7, 0.3, 0.6, 0.2]\n",
      "tf.Tensor([[0.00605344 0.69177663 0.29332766 0.00884224]], shape=(1, 4), dtype=float32)\n",
      "[0.5, 0.3, 0.6, 0.2]\n",
      "tf.Tensor([[0.00648244 0.68634087 0.29844788 0.0087288 ]], shape=(1, 4), dtype=float32)"
     ]
    },
    {
     "name": "stderr",
     "output_type": "stream",
     "text": [
      "\r",
      " 16%|███████████▍                                                          | 16301/100000 [4:48:22<34:40:15,  1.49s/it]"
     ]
    },
    {
     "name": "stdout",
     "output_type": "stream",
     "text": [
      "\n",
      "[0.7, 0.3, 0.6, 0.2]\n",
      "tf.Tensor([[0.00605344 0.69177663 0.29332766 0.00884224]], shape=(1, 4), dtype=float32)\n",
      "[0.5, 0.3, 0.6, 0.2]\n",
      "tf.Tensor([[0.00648244 0.68634087 0.29844788 0.0087288 ]], shape=(1, 4), dtype=float32)\n",
      "[0.7, 0.3, 0.6, 0.2]\n",
      "tf.Tensor([[0.00605344 0.69177663 0.29332766 0.00884224]], shape=(1, 4), dtype=float32)\n",
      "[0.5, 0.3, 0.6, 0.2]\n",
      "tf.Tensor([[0.00648244 0.68634087 0.29844788 0.0087288 ]], shape=(1, 4), dtype=float32)\n",
      "[0.7, 0.3, 0.6, 0.2]\n",
      "tf.Tensor([[0.00605344 0.69177663 0.29332766 0.00884224]], shape=(1, 4), dtype=float32)\n"
     ]
    },
    {
     "name": "stderr",
     "output_type": "stream",
     "text": [
      " 16%|███████████▍                                                          | 16401/100000 [4:49:29<10:34:29,  2.20it/s]"
     ]
    },
    {
     "name": "stdout",
     "output_type": "stream",
     "text": [
      "-2.2830030793628175\n",
      "96\n"
     ]
    },
    {
     "name": "stderr",
     "output_type": "stream",
     "text": [
      " 17%|███████████▌                                                          | 16501/100000 [4:50:38<14:55:42,  1.55it/s]"
     ]
    },
    {
     "name": "stdout",
     "output_type": "stream",
     "text": [
      "-0.5410118390430383\n",
      "100\n",
      "[0.5, 0.1, 0.7, 0.1]\n",
      "tf.Tensor([[0.00147265 0.5757324  0.4037565  0.01903844]], shape=(1, 4), dtype=float32)\n"
     ]
    },
    {
     "name": "stderr",
     "output_type": "stream",
     "text": [
      " 17%|███████████▌                                                          | 16601/100000 [4:51:50<28:45:43,  1.24s/it]"
     ]
    },
    {
     "name": "stdout",
     "output_type": "stream",
     "text": [
      "-4.6352895222868815\n",
      "98\n"
     ]
    },
    {
     "name": "stderr",
     "output_type": "stream",
     "text": [
      " 17%|███████████▋                                                          | 16700/100000 [4:52:58<32:54:52,  1.42s/it]"
     ]
    },
    {
     "name": "stdout",
     "output_type": "stream",
     "text": [
      "-4.476797355717415\n",
      "98\n",
      "[0.0, 0.9, 0.5, 0.7]\n",
      "tf.Tensor([[0.0015787  0.56725925 0.4129565  0.01820558]], shape=(1, 4), dtype=float32)\n",
      "[0.2, 0.9, 0.5, 0.7]\n",
      "tf.Tensor([[0.00177605 0.5994644  0.38422862 0.01453096]], shape=(1, 4), dtype=float32)\n",
      "[0.4, 0.9, 0.5, 0.7]\n",
      "tf.Tensor([[0.00229582 0.64300114 0.3431345  0.01156855]], shape=(1, 4), dtype=float32)\n",
      "[0.4, 0.7, 0.5, 0.7]\n",
      "tf.Tensor([[0.00407058 0.6893062  0.2985212  0.00810214]], shape=(1, 4), dtype=float32)\n",
      "[0.6, 0.7, 0.5, 0.7]\n",
      "tf.Tensor([[0.00386867 0.69641155 0.29135546 0.00836427]], shape=(1, 4), dtype=float32)\n",
      "[0.4, 0.7, 0.5, 0.7]\n",
      "tf.Tensor([[0.00366733 0.68293256 0.3048147  0.00858542]], shape=(1, 4), dtype=float32)\n",
      "[0.6, 0.7, 0.5, 0.7]\n",
      "tf.Tensor([[0.00587881 0.7092736  0.27711013 0.00773745]], shape=(1, 4), dtype=float32)\n",
      "[0.4, 0.7, 0.5, 0.7]\n",
      "tf.Tensor([[0.00627634 0.7001894  0.28571868 0.00781551]], shape=(1, 4), dtype=float32)\n",
      "[0.6, 0.7, 0.5, 0.7]\n",
      "tf.Tensor([[0.00587881 0.7092736  0.27711013 0.00773745]], shape=(1, 4), dtype=float32)\n",
      "[0.4, 0.7, 0.5, 0.7]\n",
      "tf.Tensor([[0.00627634 0.7001894  0.28571868 0.00781551]], shape=(1, 4), dtype=float32)\n",
      "[0.6, 0.7, 0.5, 0.7]\n",
      "tf.Tensor([[0.00587881 0.7092736  0.27711013 0.00773745]], shape=(1, 4), dtype=float32)\n",
      "[0.4, 0.7, 0.5, 0.7]\n",
      "tf.Tensor([[0.00627634 0.7001894  0.28571868 0.00781551]], shape=(1, 4), dtype=float32)\n",
      "[0.6, 0.7, 0.5, 0.7]\n",
      "tf.Tensor([[0.00587881 0.7092736  0.27711013 0.00773745]], shape=(1, 4), dtype=float32)\n",
      "[0.4, 0.7, 0.5, 0.7]\n",
      "tf.Tensor([[0.00627634 0.7001894  0.28571868 0.00781551]], shape=(1, 4), dtype=float32)\n",
      "[0.6, 0.7, 0.5, 0.7]\n",
      "tf.Tensor([[0.00587881 0.7092736  0.27711013 0.00773745]], shape=(1, 4), dtype=float32)\n",
      "[0.4, 0.7, 0.5, 0.7]\n",
      "tf.Tensor([[0.00627634 0.7001894  0.28571868 0.00781551]], shape=(1, 4), dtype=float32)\n",
      "[0.6, 0.7, 0.5, 0.7]\n",
      "tf.Tensor([[0.00587881 0.7092736  0.27711013 0.00773745]], shape=(1, 4), dtype=float32)\n",
      "[0.4, 0.7, 0.5, 0.7]\n",
      "tf.Tensor([[0.00627634 0.7001894  0.28571868 0.00781551]], shape=(1, 4), dtype=float32)\n",
      "[0.6, 0.7, 0.5, 0.7]\n",
      "tf.Tensor([[0.00587881 0.7092736  0.27711013 0.00773745]], shape=(1, 4), dtype=float32)\n",
      "[0.4, 0.7, 0.5, 0.7]\n",
      "tf.Tensor([[0.00627634 0.7001894  0.28571868 0.00781551]], shape=(1, 4), dtype=float32)\n",
      "[0.6, 0.7, 0.5, 0.7]\n",
      "tf.Tensor([[0.00587881 0.7092736  0.27711013 0.00773745]], shape=(1, 4), dtype=float32)\n",
      "[0.4, 0.7, 0.5, 0.7]\n",
      "tf.Tensor([[0.00627634 0.7001894  0.28571868 0.00781551]], shape=(1, 4), dtype=float32)\n",
      "[0.6, 0.7, 0.5, 0.7]\n",
      "tf.Tensor([[0.00587881 0.7092736  0.27711013 0.00773745]], shape=(1, 4), dtype=float32)\n",
      "[0.4, 0.7, 0.5, 0.7]\n",
      "tf.Tensor([[0.00627634 0.7001894  0.28571868 0.00781551]], shape=(1, 4), dtype=float32)\n",
      "[0.6, 0.7, 0.5, 0.7]\n",
      "tf.Tensor([[0.00587881 0.7092736  0.27711013 0.00773745]], shape=(1, 4), dtype=float32)\n",
      "[0.4, 0.7, 0.5, 0.7]\n",
      "tf.Tensor([[0.00627634 0.7001894  0.28571868 0.00781551]], shape=(1, 4), dtype=float32)\n",
      "[0.6, 0.7, 0.5, 0.7]\n",
      "tf.Tensor([[0.00587881 0.7092736  0.27711013 0.00773745]], shape=(1, 4), dtype=float32)\n",
      "[0.4, 0.7, 0.5, 0.7]\n",
      "tf.Tensor([[0.00627634 0.7001894  0.28571868 0.00781551]], shape=(1, 4), dtype=float32)\n",
      "[0.6, 0.7, 0.5, 0.7]\n",
      "tf.Tensor([[0.00587881 0.7092736  0.27711013 0.00773745]], shape=(1, 4), dtype=float32)\n",
      "[0.4, 0.7, 0.5, 0.7]\n",
      "tf.Tensor([[0.00627634 0.7001894  0.28571868 0.00781551]], shape=(1, 4), dtype=float32)\n",
      "[0.6, 0.7, 0.5, 0.7]\n",
      "tf.Tensor([[0.00587881 0.7092736  0.27711013 0.00773745]], shape=(1, 4), dtype=float32)"
     ]
    },
    {
     "name": "stderr",
     "output_type": "stream",
     "text": [
      "\r",
      " 17%|███████████▋                                                          | 16701/100000 [4:53:00<38:01:11,  1.64s/it]"
     ]
    },
    {
     "name": "stdout",
     "output_type": "stream",
     "text": [
      "\n",
      "[0.4, 0.7, 0.5, 0.7]\n",
      "tf.Tensor([[0.00627634 0.7001894  0.28571868 0.00781551]], shape=(1, 4), dtype=float32)\n",
      "[0.6, 0.7, 0.5, 0.7]\n",
      "tf.Tensor([[0.00587881 0.7092736  0.27711013 0.00773745]], shape=(1, 4), dtype=float32)\n",
      "[0.4, 0.7, 0.5, 0.7]\n",
      "tf.Tensor([[0.00627634 0.7001894  0.28571868 0.00781551]], shape=(1, 4), dtype=float32)\n",
      "[0.6, 0.7, 0.5, 0.7]\n",
      "tf.Tensor([[0.00587881 0.7092736  0.27711013 0.00773745]], shape=(1, 4), dtype=float32)\n",
      "[0.4, 0.7, 0.5, 0.7]\n",
      "tf.Tensor([[0.00627634 0.7001894  0.28571868 0.00781551]], shape=(1, 4), dtype=float32)\n",
      "[0.6, 0.7, 0.5, 0.7]\n",
      "tf.Tensor([[0.00587881 0.7092736  0.27711013 0.00773745]], shape=(1, 4), dtype=float32)\n",
      "[0.4, 0.7, 0.5, 0.7]\n",
      "tf.Tensor([[0.00627634 0.7001894  0.28571868 0.00781551]], shape=(1, 4), dtype=float32)\n",
      "[0.6, 0.7, 0.5, 0.7]\n",
      "tf.Tensor([[0.00587881 0.7092736  0.27711013 0.00773745]], shape=(1, 4), dtype=float32)\n",
      "[0.4, 0.7, 0.5, 0.7]\n",
      "tf.Tensor([[0.00627634 0.7001894  0.28571868 0.00781551]], shape=(1, 4), dtype=float32)\n"
     ]
    },
    {
     "name": "stderr",
     "output_type": "stream",
     "text": [
      " 17%|███████████▊                                                          | 16801/100000 [4:54:12<17:04:28,  1.35it/s]"
     ]
    },
    {
     "name": "stdout",
     "output_type": "stream",
     "text": [
      "-2.2035809509396684\n",
      "97\n"
     ]
    },
    {
     "name": "stderr",
     "output_type": "stream",
     "text": [
      " 17%|███████████▊                                                          | 16901/100000 [4:55:23<12:09:22,  1.90it/s]"
     ]
    },
    {
     "name": "stdout",
     "output_type": "stream",
     "text": [
      "0.06395653205327245\n",
      "100\n",
      "[0.9, 0.2, 0.7, 0.4]\n",
      "tf.Tensor([[0.00122584 0.5739536  0.40510246 0.01971811]], shape=(1, 4), dtype=float32)\n",
      "[0.9, 0.4, 0.7, 0.4]\n",
      "tf.Tensor([[0.00159171 0.61491895 0.3667321  0.01675724]], shape=(1, 4), dtype=float32)\n"
     ]
    },
    {
     "name": "stderr",
     "output_type": "stream",
     "text": [
      " 17%|███████████▉                                                          | 17001/100000 [4:56:32<16:54:29,  1.36it/s]"
     ]
    },
    {
     "name": "stdout",
     "output_type": "stream",
     "text": [
      "0.6355224295772184\n",
      "99\n"
     ]
    },
    {
     "name": "stderr",
     "output_type": "stream",
     "text": [
      " 17%|███████████▉                                                          | 17101/100000 [4:57:46<10:41:26,  2.15it/s]"
     ]
    },
    {
     "name": "stdout",
     "output_type": "stream",
     "text": [
      "0.34786471873549163\n",
      "98\n",
      "[0.9, 0.0, 0.7, 0.4]\n",
      "tf.Tensor([[0.00159792 0.65850955 0.32283062 0.01706185]], shape=(1, 4), dtype=float32)\n",
      "[0.9, 0.2, 0.7, 0.4]\n",
      "tf.Tensor([[0.00165721 0.68353    0.30163646 0.01317635]], shape=(1, 4), dtype=float32)\n",
      "[0.9, 0.4, 0.7, 0.4]\n",
      "tf.Tensor([[0.00269831 0.7254329  0.26180625 0.01006263]], shape=(1, 4), dtype=float32)\n"
     ]
    },
    {
     "name": "stderr",
     "output_type": "stream",
     "text": [
      " 17%|████████████                                                          | 17202/100000 [4:58:59<14:12:32,  1.62it/s]"
     ]
    },
    {
     "name": "stdout",
     "output_type": "stream",
     "text": [
      "-1.5240158683694782\n",
      "98\n"
     ]
    },
    {
     "name": "stderr",
     "output_type": "stream",
     "text": [
      " 17%|████████████                                                          | 17301/100000 [5:00:30<17:11:05,  1.34it/s]"
     ]
    },
    {
     "name": "stdout",
     "output_type": "stream",
     "text": [
      "-2.6155000806456328\n",
      "99\n",
      "[0.6, 0.3, 0.2, 0.9]\n",
      "tf.Tensor([[0.00160594 0.65639484 0.3227767  0.01922251]], shape=(1, 4), dtype=float32)\n",
      "[0.6, 0.5, 0.2, 0.9]\n",
      "tf.Tensor([[0.00165502 0.6791537  0.30393147 0.01525984]], shape=(1, 4), dtype=float32)\n",
      "[0.6, 0.7, 0.2, 0.9]\n",
      "tf.Tensor([[0.00245131 0.7171106  0.26854163 0.01189646]], shape=(1, 4), dtype=float32)\n",
      "[0.4, 0.7, 0.2, 0.9]\n",
      "tf.Tensor([[0.0043719  0.73515075 0.25210798 0.00836938]], shape=(1, 4), dtype=float32)\n",
      "[0.4, 0.9, 0.2, 0.9]\n",
      "tf.Tensor([[0.0048478  0.75081885 0.23583986 0.00849338]], shape=(1, 4), dtype=float32)\n"
     ]
    },
    {
     "name": "stderr",
     "output_type": "stream",
     "text": [
      " 17%|████████████▏                                                         | 17402/100000 [5:01:56<12:28:40,  1.84it/s]"
     ]
    },
    {
     "name": "stdout",
     "output_type": "stream",
     "text": [
      "0.15797107393084373\n",
      "99\n"
     ]
    },
    {
     "name": "stderr",
     "output_type": "stream",
     "text": [
      " 18%|████████████▎                                                         | 17500/100000 [5:04:10<27:43:47,  1.21s/it]"
     ]
    },
    {
     "name": "stdout",
     "output_type": "stream",
     "text": [
      "-2.1769093559829122\n",
      "97\n",
      "[0.5, 0.6, 0.5, 0.7]\n",
      "tf.Tensor([[0.0010876  0.65501195 0.32816884 0.01573162]], shape=(1, 4), dtype=float32)\n",
      "[0.5, 0.8, 0.5, 0.7]\n",
      "tf.Tensor([[0.00115485 0.688883   0.2971312  0.01283093]], shape=(1, 4), dtype=float32)\n",
      "[0.5, 0.6, 0.5, 0.7]\n",
      "tf.Tensor([[0.00118919 0.69209915 0.29638532 0.01032632]], shape=(1, 4), dtype=float32)\n",
      "[0.5, 0.8, 0.5, 0.7]\n",
      "tf.Tensor([[0.00160994 0.72906935 0.26168144 0.00763926]], shape=(1, 4), dtype=float32)\n",
      "[0.5, 0.6, 0.5, 0.7]\n",
      "tf.Tensor([[0.00145177 0.7117009  0.27866825 0.00817902]], shape=(1, 4), dtype=float32)\n",
      "[0.5, 0.8, 0.5, 0.7]\n",
      "tf.Tensor([[0.00160994 0.72906935 0.26168144 0.00763926]], shape=(1, 4), dtype=float32)\n",
      "[0.5, 0.6, 0.5, 0.7]\n",
      "tf.Tensor([[0.00145177 0.7117009  0.27866825 0.00817902]], shape=(1, 4), dtype=float32)\n",
      "[0.5, 0.8, 0.5, 0.7]\n",
      "tf.Tensor([[0.00160994 0.72906935 0.26168144 0.00763926]], shape=(1, 4), dtype=float32)\n",
      "[0.5, 0.6, 0.5, 0.7]\n",
      "tf.Tensor([[0.00145177 0.7117009  0.27866825 0.00817902]], shape=(1, 4), dtype=float32)\n",
      "[0.5, 0.8, 0.5, 0.7]\n",
      "tf.Tensor([[0.00160994 0.72906935 0.26168144 0.00763926]], shape=(1, 4), dtype=float32)\n",
      "[0.5, 0.6, 0.5, 0.7]\n",
      "tf.Tensor([[0.00145177 0.7117009  0.27866825 0.00817902]], shape=(1, 4), dtype=float32)\n",
      "[0.5, 0.8, 0.5, 0.7]\n",
      "tf.Tensor([[0.00160994 0.72906935 0.26168144 0.00763926]], shape=(1, 4), dtype=float32)\n",
      "[0.5, 0.6, 0.5, 0.7]\n",
      "tf.Tensor([[0.00145177 0.7117009  0.27866825 0.00817902]], shape=(1, 4), dtype=float32)\n",
      "[0.5, 0.8, 0.5, 0.7]\n",
      "tf.Tensor([[0.00160994 0.72906935 0.26168144 0.00763926]], shape=(1, 4), dtype=float32)\n",
      "[0.5, 0.6, 0.5, 0.7]\n",
      "tf.Tensor([[0.00145177 0.7117009  0.27866825 0.00817902]], shape=(1, 4), dtype=float32)\n",
      "[0.5, 0.8, 0.5, 0.7]\n",
      "tf.Tensor([[0.00160994 0.72906935 0.26168144 0.00763926]], shape=(1, 4), dtype=float32)\n",
      "[0.5, 0.6, 0.5, 0.7]\n",
      "tf.Tensor([[0.00145177 0.7117009  0.27866825 0.00817902]], shape=(1, 4), dtype=float32)\n",
      "[0.5, 0.8, 0.5, 0.7]\n",
      "tf.Tensor([[0.00160994 0.72906935 0.26168144 0.00763926]], shape=(1, 4), dtype=float32)\n",
      "[0.5, 0.6, 0.5, 0.7]\n",
      "tf.Tensor([[0.00145177 0.7117009  0.27866825 0.00817902]], shape=(1, 4), dtype=float32)\n",
      "[0.5, 0.8, 0.5, 0.7]\n",
      "tf.Tensor([[0.00160994 0.72906935 0.26168144 0.00763926]], shape=(1, 4), dtype=float32)\n",
      "[0.5, 0.6, 0.5, 0.7]\n",
      "tf.Tensor([[0.00145177 0.7117009  0.27866825 0.00817902]], shape=(1, 4), dtype=float32)\n",
      "[0.5, 0.8, 0.5, 0.7]\n",
      "tf.Tensor([[0.00160994 0.72906935 0.26168144 0.00763926]], shape=(1, 4), dtype=float32)\n",
      "[0.5, 0.6, 0.5, 0.7]\n",
      "tf.Tensor([[0.00145177 0.7117009  0.27866825 0.00817902]], shape=(1, 4), dtype=float32)\n",
      "[0.5, 0.8, 0.5, 0.7]\n",
      "tf.Tensor([[0.00160994 0.72906935 0.26168144 0.00763926]], shape=(1, 4), dtype=float32)\n",
      "[0.5, 0.6, 0.5, 0.7]\n",
      "tf.Tensor([[0.00145177 0.7117009  0.27866825 0.00817902]], shape=(1, 4), dtype=float32)\n",
      "[0.5, 0.8, 0.5, 0.7]\n",
      "tf.Tensor([[0.00160994 0.72906935 0.26168144 0.00763926]], shape=(1, 4), dtype=float32)\n",
      "[0.5, 0.6, 0.5, 0.7]\n",
      "tf.Tensor([[0.00145177 0.7117009  0.27866825 0.00817902]], shape=(1, 4), dtype=float32)\n",
      "[0.5, 0.8, 0.5, 0.7]\n",
      "tf.Tensor([[0.00160994 0.72906935 0.26168144 0.00763926]], shape=(1, 4), dtype=float32)\n",
      "[0.5, 0.6, 0.5, 0.7]\n",
      "tf.Tensor([[0.00145177 0.7117009  0.27866825 0.00817902]], shape=(1, 4), dtype=float32)\n",
      "[0.5, 0.8, 0.5, 0.7]\n",
      "tf.Tensor([[0.00160994 0.72906935 0.26168144 0.00763926]], shape=(1, 4), dtype=float32)\n",
      "[0.5, 0.6, 0.5, 0.7]\n",
      "tf.Tensor([[0.00145177 0.7117009  0.27866825 0.00817902]], shape=(1, 4), dtype=float32)\n",
      "[0.5, 0.8, 0.5, 0.7]\n",
      "tf.Tensor([[0.00160994 0.72906935 0.26168144 0.00763926]], shape=(1, 4), dtype=float32)\n",
      "[0.5, 0.6, 0.5, 0.7]\n",
      "tf.Tensor([[0.00145177 0.7117009  0.27866825 0.00817902]], shape=(1, 4), dtype=float32)"
     ]
    },
    {
     "name": "stderr",
     "output_type": "stream",
     "text": [
      "\r",
      " 18%|████████████▎                                                         | 17501/100000 [5:04:12<31:38:28,  1.38s/it]"
     ]
    },
    {
     "name": "stdout",
     "output_type": "stream",
     "text": [
      "\n",
      "[0.5, 0.8, 0.5, 0.7]\n",
      "tf.Tensor([[0.00160994 0.72906935 0.26168144 0.00763926]], shape=(1, 4), dtype=float32)\n",
      "[0.5, 0.6, 0.5, 0.7]\n",
      "tf.Tensor([[0.00145177 0.7117009  0.27866825 0.00817902]], shape=(1, 4), dtype=float32)\n",
      "[0.5, 0.8, 0.5, 0.7]\n",
      "tf.Tensor([[0.00160994 0.72906935 0.26168144 0.00763926]], shape=(1, 4), dtype=float32)\n",
      "[0.5, 0.6, 0.5, 0.7]\n",
      "tf.Tensor([[0.00145177 0.7117009  0.27866825 0.00817902]], shape=(1, 4), dtype=float32)\n",
      "[0.5, 0.8, 0.5, 0.7]\n",
      "tf.Tensor([[0.00160994 0.72906935 0.26168144 0.00763926]], shape=(1, 4), dtype=float32)\n",
      "[0.5, 0.6, 0.5, 0.7]\n",
      "tf.Tensor([[0.00145177 0.7117009  0.27866825 0.00817902]], shape=(1, 4), dtype=float32)\n",
      "[0.5, 0.8, 0.5, 0.7]\n",
      "tf.Tensor([[0.00160994 0.72906935 0.26168144 0.00763926]], shape=(1, 4), dtype=float32)\n"
     ]
    },
    {
     "name": "stderr",
     "output_type": "stream",
     "text": [
      " 18%|████████████▎                                                         | 17602/100000 [5:05:56<13:58:51,  1.64it/s]"
     ]
    },
    {
     "name": "stdout",
     "output_type": "stream",
     "text": [
      "-0.6239959176449639\n",
      "99\n"
     ]
    },
    {
     "name": "stderr",
     "output_type": "stream",
     "text": [
      " 18%|████████████▍                                                         | 17700/100000 [5:07:22<12:01:07,  1.90it/s]"
     ]
    },
    {
     "name": "stdout",
     "output_type": "stream",
     "text": [
      "-0.6206462365236295\n",
      "99\n",
      "[0.8, 0.3, 0.6, 0.2]\n",
      "tf.Tensor([[0.00106081 0.69337356 0.2920587  0.01350693]], shape=(1, 4), dtype=float32)\n",
      "[0.6, 0.3, 0.6, 0.2]\n",
      "tf.Tensor([[0.00108884 0.7164998  0.2713121  0.01109924]], shape=(1, 4), dtype=float32)\n",
      "[0.6, 0.1, 0.6, 0.2]\n",
      "tf.Tensor([[0.00114069 0.71497744 0.27514094 0.00874095]], shape=(1, 4), dtype=float32)\n",
      "[0.6, 0.3, 0.6, 0.2]\n",
      "tf.Tensor([[0.00177789 0.7580545  0.23400357 0.00616406]], shape=(1, 4), dtype=float32)\n",
      "[0.6, 0.1, 0.6, 0.2]\n",
      "tf.Tensor([[0.0012558  0.73056847 0.26176777 0.00640797]], shape=(1, 4), dtype=float32)\n",
      "[0.6, 0.3, 0.6, 0.2]\n",
      "tf.Tensor([[0.0013871  0.7545966  0.23816359 0.00585273]], shape=(1, 4), dtype=float32)\n",
      "[0.6, 0.1, 0.6, 0.2]\n",
      "tf.Tensor([[0.0012558  0.73056847 0.26176777 0.00640797]], shape=(1, 4), dtype=float32)\n",
      "[0.6, 0.3, 0.6, 0.2]\n",
      "tf.Tensor([[0.0013871  0.7545966  0.23816359 0.00585273]], shape=(1, 4), dtype=float32)\n",
      "[0.6, 0.1, 0.6, 0.2]\n",
      "tf.Tensor([[0.0012558  0.73056847 0.26176777 0.00640797]], shape=(1, 4), dtype=float32)\n",
      "[0.6, 0.3, 0.6, 0.2]\n",
      "tf.Tensor([[0.0013871  0.7545966  0.23816359 0.00585273]], shape=(1, 4), dtype=float32)\n",
      "[0.6, 0.1, 0.6, 0.2]\n",
      "tf.Tensor([[0.0012558  0.73056847 0.26176777 0.00640797]], shape=(1, 4), dtype=float32)\n",
      "[0.6, 0.3, 0.6, 0.2]\n",
      "tf.Tensor([[0.0013871  0.7545966  0.23816359 0.00585273]], shape=(1, 4), dtype=float32)\n",
      "[0.6, 0.1, 0.6, 0.2]\n",
      "tf.Tensor([[0.0012558  0.73056847 0.26176777 0.00640797]], shape=(1, 4), dtype=float32)\n",
      "[0.6, 0.3, 0.6, 0.2]\n",
      "tf.Tensor([[0.0013871  0.7545966  0.23816359 0.00585273]], shape=(1, 4), dtype=float32)\n",
      "[0.6, 0.1, 0.6, 0.2]\n",
      "tf.Tensor([[0.0012558  0.73056847 0.26176777 0.00640797]], shape=(1, 4), dtype=float32)\n",
      "[0.6, 0.3, 0.6, 0.2]\n",
      "tf.Tensor([[0.0013871  0.7545966  0.23816359 0.00585273]], shape=(1, 4), dtype=float32)\n",
      "[0.6, 0.1, 0.6, 0.2]\n",
      "tf.Tensor([[0.0012558  0.73056847 0.26176777 0.00640797]], shape=(1, 4), dtype=float32)\n",
      "[0.6, 0.3, 0.6, 0.2]\n",
      "tf.Tensor([[0.0013871  0.7545966  0.23816359 0.00585273]], shape=(1, 4), dtype=float32)\n",
      "[0.6, 0.1, 0.6, 0.2]\n",
      "tf.Tensor([[0.0012558  0.73056847 0.26176777 0.00640797]], shape=(1, 4), dtype=float32)\n",
      "[0.6, 0.3, 0.6, 0.2]\n",
      "tf.Tensor([[0.0013871  0.7545966  0.23816359 0.00585273]], shape=(1, 4), dtype=float32)\n",
      "[0.6, 0.1, 0.6, 0.2]\n",
      "tf.Tensor([[0.0012558  0.73056847 0.26176777 0.00640797]], shape=(1, 4), dtype=float32)\n",
      "[0.6, 0.3, 0.6, 0.2]\n",
      "tf.Tensor([[0.0013871  0.7545966  0.23816359 0.00585273]], shape=(1, 4), dtype=float32)\n",
      "[0.6, 0.1, 0.6, 0.2]\n",
      "tf.Tensor([[0.0012558  0.73056847 0.26176777 0.00640797]], shape=(1, 4), dtype=float32)\n",
      "[0.6, 0.3, 0.6, 0.2]\n",
      "tf.Tensor([[0.0013871  0.7545966  0.23816359 0.00585273]], shape=(1, 4), dtype=float32)\n",
      "[0.6, 0.1, 0.6, 0.2]\n",
      "tf.Tensor([[0.0012558  0.73056847 0.26176777 0.00640797]], shape=(1, 4), dtype=float32)\n",
      "[0.6, 0.3, 0.6, 0.2]\n",
      "tf.Tensor([[0.0013871  0.7545966  0.23816359 0.00585273]], shape=(1, 4), dtype=float32)\n",
      "[0.6, 0.1, 0.6, 0.2]\n",
      "tf.Tensor([[0.0012558  0.73056847 0.26176777 0.00640797]], shape=(1, 4), dtype=float32)\n",
      "[0.6, 0.3, 0.6, 0.2]\n",
      "tf.Tensor([[0.0013871  0.7545966  0.23816359 0.00585273]], shape=(1, 4), dtype=float32)\n",
      "[0.6, 0.1, 0.6, 0.2]\n",
      "tf.Tensor([[0.0012558  0.73056847 0.26176777 0.00640797]], shape=(1, 4), dtype=float32)\n",
      "[0.6, 0.3, 0.6, 0.2]\n",
      "tf.Tensor([[0.0013871  0.7545966  0.23816359 0.00585273]], shape=(1, 4), dtype=float32)\n",
      "[0.6, 0.1, 0.6, 0.2]\n"
     ]
    },
    {
     "name": "stderr",
     "output_type": "stream",
     "text": [
      "\r",
      " 18%|████████████▍                                                         | 17701/100000 [5:07:23<19:04:50,  1.20it/s]"
     ]
    },
    {
     "name": "stdout",
     "output_type": "stream",
     "text": [
      "tf.Tensor([[0.0012558  0.73056847 0.26176777 0.00640797]], shape=(1, 4), dtype=float32)\n",
      "[0.6, 0.3, 0.6, 0.2]\n",
      "tf.Tensor([[0.0013871  0.7545966  0.23816359 0.00585273]], shape=(1, 4), dtype=float32)\n",
      "[0.6, 0.1, 0.6, 0.2]\n",
      "tf.Tensor([[0.0012558  0.73056847 0.26176777 0.00640797]], shape=(1, 4), dtype=float32)\n",
      "[0.6, 0.3, 0.6, 0.2]\n",
      "tf.Tensor([[0.0013871  0.7545966  0.23816359 0.00585273]], shape=(1, 4), dtype=float32)\n",
      "[0.6, 0.1, 0.6, 0.2]\n",
      "tf.Tensor([[0.0012558  0.73056847 0.26176777 0.00640797]], shape=(1, 4), dtype=float32)\n",
      "[0.6, 0.3, 0.6, 0.2]\n",
      "tf.Tensor([[0.0013871  0.7545966  0.23816359 0.00585273]], shape=(1, 4), dtype=float32)\n",
      "[0.6, 0.1, 0.6, 0.2]\n",
      "tf.Tensor([[0.0012558  0.73056847 0.26176777 0.00640797]], shape=(1, 4), dtype=float32)\n",
      "[0.6, 0.3, 0.6, 0.2]\n",
      "tf.Tensor([[0.0013871  0.7545966  0.23816359 0.00585273]], shape=(1, 4), dtype=float32)\n",
      "[0.6, 0.1, 0.6, 0.2]\n",
      "tf.Tensor([[0.0012558  0.73056847 0.26176777 0.00640797]], shape=(1, 4), dtype=float32)\n",
      "[0.6, 0.3, 0.6, 0.2]\n",
      "tf.Tensor([[0.0013871  0.7545966  0.23816359 0.00585273]], shape=(1, 4), dtype=float32)\n"
     ]
    },
    {
     "name": "stderr",
     "output_type": "stream",
     "text": [
      " 18%|████████████▍                                                         | 17801/100000 [5:08:49<21:43:28,  1.05it/s]"
     ]
    },
    {
     "name": "stdout",
     "output_type": "stream",
     "text": [
      "-2.780214229081231\n",
      "98\n"
     ]
    },
    {
     "name": "stderr",
     "output_type": "stream",
     "text": [
      " 18%|████████████▌                                                         | 17900/100000 [5:10:08<18:38:46,  1.22it/s]"
     ]
    },
    {
     "name": "stdout",
     "output_type": "stream",
     "text": [
      "-2.124639411505779\n",
      "99\n",
      "[0.1, 0.2, 0.2, 0.9]\n",
      "tf.Tensor([[0.0010804  0.6476368  0.33758864 0.0136942 ]], shape=(1, 4), dtype=float32)\n",
      "[0.1, 0.4, 0.2, 0.9]\n",
      "tf.Tensor([[0.00111901 0.6619505  0.3254989  0.01143151]], shape=(1, 4), dtype=float32)\n",
      "[0.1, 0.6, 0.2, 0.9]\n",
      "tf.Tensor([[0.00130203 0.6743445  0.31514224 0.00921118]], shape=(1, 4), dtype=float32)\n",
      "[0.1, 0.8, 0.2, 0.9]\n",
      "tf.Tensor([[0.00181121 0.685636   0.30556542 0.00698743]], shape=(1, 4), dtype=float32)\n",
      "[0.1, 1.0, 0.2, 0.9]\n",
      "tf.Tensor([[0.00162172 0.70249665 0.28910747 0.00677423]], shape=(1, 4), dtype=float32)\n",
      "[0.1, 0.8, 0.2, 0.9]\n",
      "tf.Tensor([[0.00148617 0.6898499  0.30159673 0.00706718]], shape=(1, 4), dtype=float32)\n",
      "[0.1, 1.0, 0.2, 0.9]\n",
      "tf.Tensor([[0.00136995 0.70299184 0.28868625 0.00695205]], shape=(1, 4), dtype=float32)\n",
      "[0.1, 0.8, 0.2, 0.9]\n",
      "tf.Tensor([[0.00129859 0.690474   0.30089083 0.00733654]], shape=(1, 4), dtype=float32)\n",
      "[0.1, 1.0, 0.2, 0.9]\n",
      "tf.Tensor([[0.00136995 0.70299184 0.28868625 0.00695205]], shape=(1, 4), dtype=float32)\n",
      "[0.1, 0.8, 0.2, 0.9]\n",
      "tf.Tensor([[0.00129859 0.690474   0.30089083 0.00733654]], shape=(1, 4), dtype=float32)\n",
      "[0.1, 1.0, 0.2, 0.9]\n",
      "tf.Tensor([[0.00136995 0.70299184 0.28868625 0.00695205]], shape=(1, 4), dtype=float32)\n",
      "[0.1, 0.8, 0.2, 0.9]\n",
      "tf.Tensor([[0.00129859 0.690474   0.30089083 0.00733654]], shape=(1, 4), dtype=float32)\n",
      "[0.1, 1.0, 0.2, 0.9]\n",
      "tf.Tensor([[0.00136995 0.70299184 0.28868625 0.00695205]], shape=(1, 4), dtype=float32)\n",
      "[0.1, 0.8, 0.2, 0.9]\n",
      "tf.Tensor([[0.00129859 0.690474   0.30089083 0.00733654]], shape=(1, 4), dtype=float32)\n",
      "[0.1, 1.0, 0.2, 0.9]\n",
      "tf.Tensor([[0.00136995 0.70299184 0.28868625 0.00695205]], shape=(1, 4), dtype=float32)\n",
      "[0.1, 0.8, 0.2, 0.9]\n",
      "tf.Tensor([[0.00129859 0.690474   0.30089083 0.00733654]], shape=(1, 4), dtype=float32)\n",
      "[0.1, 1.0, 0.2, 0.9]\n",
      "tf.Tensor([[0.00136995 0.70299184 0.28868625 0.00695205]], shape=(1, 4), dtype=float32)\n",
      "[0.1, 0.8, 0.2, 0.9]\n",
      "tf.Tensor([[0.00129859 0.690474   0.30089083 0.00733654]], shape=(1, 4), dtype=float32)\n",
      "[0.1, 1.0, 0.2, 0.9]\n",
      "tf.Tensor([[0.00136995 0.70299184 0.28868625 0.00695205]], shape=(1, 4), dtype=float32)\n",
      "[0.1, 0.8, 0.2, 0.9]\n",
      "tf.Tensor([[0.00129859 0.690474   0.30089083 0.00733654]], shape=(1, 4), dtype=float32)\n",
      "[0.1, 1.0, 0.2, 0.9]\n",
      "tf.Tensor([[0.00136995 0.70299184 0.28868625 0.00695205]], shape=(1, 4), dtype=float32)\n",
      "[0.1, 0.8, 0.2, 0.9]\n",
      "tf.Tensor([[0.00129859 0.690474   0.30089083 0.00733654]], shape=(1, 4), dtype=float32)\n",
      "[0.1, 1.0, 0.2, 0.9]\n",
      "tf.Tensor([[0.00136995 0.70299184 0.28868625 0.00695205]], shape=(1, 4), dtype=float32)\n",
      "[0.1, 0.8, 0.2, 0.9]\n",
      "tf.Tensor([[0.00129859 0.690474   0.30089083 0.00733654]], shape=(1, 4), dtype=float32)\n",
      "[0.1, 1.0, 0.2, 0.9]\n",
      "tf.Tensor([[0.00136995 0.70299184 0.28868625 0.00695205]], shape=(1, 4), dtype=float32)\n",
      "[0.1, 0.8, 0.2, 0.9]\n",
      "tf.Tensor([[0.00129859 0.690474   0.30089083 0.00733654]], shape=(1, 4), dtype=float32)\n",
      "[0.1, 1.0, 0.2, 0.9]\n",
      "tf.Tensor([[0.00136995 0.70299184 0.28868625 0.00695205]], shape=(1, 4), dtype=float32)\n",
      "[0.1, 0.8, 0.2, 0.9]\n",
      "tf.Tensor([[0.00129859 0.690474   0.30089083 0.00733654]], shape=(1, 4), dtype=float32)\n",
      "[0.1, 1.0, 0.2, 0.9]\n",
      "tf.Tensor([[0.00136995 0.70299184 0.28868625 0.00695205]], shape=(1, 4), dtype=float32)\n",
      "[0.1, 0.8, 0.2, 0.9]\n",
      "tf.Tensor([[0.00129859 0.690474   0.30089083 0.00733654]], shape=(1, 4), dtype=float32)\n",
      "[0.1, 1.0, 0.2, 0.9]\n"
     ]
    },
    {
     "name": "stderr",
     "output_type": "stream",
     "text": [
      "\r",
      " 18%|████████████▌                                                         | 17901/100000 [5:10:10<26:33:18,  1.16s/it]"
     ]
    },
    {
     "name": "stdout",
     "output_type": "stream",
     "text": [
      "tf.Tensor([[0.00136995 0.70299184 0.28868625 0.00695205]], shape=(1, 4), dtype=float32)\n",
      "[0.1, 0.8, 0.2, 0.9]\n",
      "tf.Tensor([[0.00129859 0.690474   0.30089083 0.00733654]], shape=(1, 4), dtype=float32)\n",
      "[0.1, 1.0, 0.2, 0.9]\n",
      "tf.Tensor([[0.00136995 0.70299184 0.28868625 0.00695205]], shape=(1, 4), dtype=float32)\n",
      "[0.1, 0.8, 0.2, 0.9]\n",
      "tf.Tensor([[0.00129859 0.690474   0.30089083 0.00733654]], shape=(1, 4), dtype=float32)\n",
      "[0.1, 1.0, 0.2, 0.9]\n",
      "tf.Tensor([[0.00136995 0.70299184 0.28868625 0.00695205]], shape=(1, 4), dtype=float32)\n",
      "[0.1, 0.8, 0.2, 0.9]\n",
      "tf.Tensor([[0.00129859 0.690474   0.30089083 0.00733654]], shape=(1, 4), dtype=float32)\n",
      "[0.1, 1.0, 0.2, 0.9]\n",
      "tf.Tensor([[0.00136995 0.70299184 0.28868625 0.00695205]], shape=(1, 4), dtype=float32)\n",
      "[0.1, 0.8, 0.2, 0.9]\n",
      "tf.Tensor([[0.00129859 0.690474   0.30089083 0.00733654]], shape=(1, 4), dtype=float32)\n",
      "[0.1, 1.0, 0.2, 0.9]\n",
      "tf.Tensor([[0.00136995 0.70299184 0.28868625 0.00695205]], shape=(1, 4), dtype=float32)\n",
      "[0.1, 0.8, 0.2, 0.9]\n",
      "tf.Tensor([[0.00129859 0.690474   0.30089083 0.00733654]], shape=(1, 4), dtype=float32)\n"
     ]
    },
    {
     "name": "stderr",
     "output_type": "stream",
     "text": [
      " 18%|████████████▌                                                         | 18001/100000 [5:11:39<29:14:30,  1.28s/it]"
     ]
    },
    {
     "name": "stdout",
     "output_type": "stream",
     "text": [
      "-3.5279128086945173\n",
      "98\n"
     ]
    },
    {
     "name": "stderr",
     "output_type": "stream",
     "text": [
      " 18%|████████████▋                                                         | 18101/100000 [5:13:28<18:49:10,  1.21it/s]"
     ]
    },
    {
     "name": "stdout",
     "output_type": "stream",
     "text": [
      "-2.27203920928966\n",
      "98\n",
      "[0.9, 0.2, 0.7, 0.4]\n",
      "tf.Tensor([[5.8997324e-04 6.8605363e-01 3.0420372e-01 9.1526853e-03]], shape=(1, 4), dtype=float32)\n",
      "[0.9, 0.4, 0.7, 0.4]\n",
      "tf.Tensor([[0.00071835 0.71800876 0.27388301 0.00738985]], shape=(1, 4), dtype=float32)\n"
     ]
    },
    {
     "name": "stderr",
     "output_type": "stream",
     "text": [
      " 18%|████████████▋                                                         | 18201/100000 [5:15:12<13:45:05,  1.65it/s]"
     ]
    },
    {
     "name": "stdout",
     "output_type": "stream",
     "text": [
      "-1.0696269510964382\n",
      "100\n"
     ]
    },
    {
     "name": "stderr",
     "output_type": "stream",
     "text": [
      " 18%|████████████▉                                                          | 18300/100000 [5:16:30<5:27:03,  4.16it/s]"
     ]
    },
    {
     "name": "stdout",
     "output_type": "stream",
     "text": [
      "2.9598259385982586\n",
      "99\n",
      "[0.5, 0.3, 0.6, 0.2]\n",
      "tf.Tensor([[0.00086234 0.7144671  0.27362245 0.01104815]], shape=(1, 4), dtype=float32)\n",
      "[0.5, 0.1, 0.6, 0.2]\n",
      "tf.Tensor([[0.00079662 0.7157502  0.27434048 0.00911278]], shape=(1, 4), dtype=float32)\n",
      "[0.7, 0.1, 0.6, 0.2]\n",
      "tf.Tensor([[0.0008172  0.7178934  0.27429748 0.00699191]], shape=(1, 4), dtype=float32)\n",
      "[0.7, 0.3, 0.6, 0.2]\n",
      "tf.Tensor([[0.00124782 0.7611132  0.23277834 0.00486057]], shape=(1, 4), dtype=float32)\n",
      "[0.7, 0.1, 0.6, 0.2]\n",
      "tf.Tensor([[0.0013241  0.73505926 0.25890797 0.00470872]], shape=(1, 4), dtype=float32)\n",
      "[0.7, 0.3, 0.6, 0.2]\n",
      "tf.Tensor([[0.00122325 0.765004   0.22929129 0.0044815 ]], shape=(1, 4), dtype=float32)\n",
      "[0.7, 0.1, 0.6, 0.2]\n",
      "tf.Tensor([[0.00103148 0.7239789  0.26986307 0.00512655]], shape=(1, 4), dtype=float32)\n",
      "[0.7, 0.3, 0.6, 0.2]\n",
      "tf.Tensor([[0.00122325 0.765004   0.22929129 0.0044815 ]], shape=(1, 4), dtype=float32)\n",
      "[0.7, 0.1, 0.6, 0.2]\n",
      "tf.Tensor([[0.00103148 0.7239789  0.26986307 0.00512655]], shape=(1, 4), dtype=float32)\n",
      "[0.7, 0.3, 0.6, 0.2]\n",
      "tf.Tensor([[0.00122325 0.765004   0.22929129 0.0044815 ]], shape=(1, 4), dtype=float32)\n",
      "[0.7, 0.1, 0.6, 0.2]\n",
      "tf.Tensor([[0.00103148 0.7239789  0.26986307 0.00512655]], shape=(1, 4), dtype=float32)\n",
      "[0.7, 0.3, 0.6, 0.2]\n",
      "tf.Tensor([[0.00122325 0.765004   0.22929129 0.0044815 ]], shape=(1, 4), dtype=float32)\n",
      "[0.7, 0.1, 0.6, 0.2]\n",
      "tf.Tensor([[0.00103148 0.7239789  0.26986307 0.00512655]], shape=(1, 4), dtype=float32)\n",
      "[0.7, 0.3, 0.6, 0.2]\n",
      "tf.Tensor([[0.00122325 0.765004   0.22929129 0.0044815 ]], shape=(1, 4), dtype=float32)\n",
      "[0.7, 0.1, 0.6, 0.2]\n",
      "tf.Tensor([[0.00103148 0.7239789  0.26986307 0.00512655]], shape=(1, 4), dtype=float32)\n",
      "[0.7, 0.3, 0.6, 0.2]\n",
      "tf.Tensor([[0.00122325 0.765004   0.22929129 0.0044815 ]], shape=(1, 4), dtype=float32)\n",
      "[0.7, 0.1, 0.6, 0.2]\n",
      "tf.Tensor([[0.00103148 0.7239789  0.26986307 0.00512655]], shape=(1, 4), dtype=float32)\n",
      "[0.7, 0.3, 0.6, 0.2]\n",
      "tf.Tensor([[0.00122325 0.765004   0.22929129 0.0044815 ]], shape=(1, 4), dtype=float32)\n",
      "[0.7, 0.1, 0.6, 0.2]\n",
      "tf.Tensor([[0.00103148 0.7239789  0.26986307 0.00512655]], shape=(1, 4), dtype=float32)\n",
      "[0.7, 0.3, 0.6, 0.2]\n",
      "tf.Tensor([[0.00122325 0.765004   0.22929129 0.0044815 ]], shape=(1, 4), dtype=float32)\n",
      "[0.7, 0.1, 0.6, 0.2]\n",
      "tf.Tensor([[0.00103148 0.7239789  0.26986307 0.00512655]], shape=(1, 4), dtype=float32)\n",
      "[0.7, 0.3, 0.6, 0.2]\n",
      "tf.Tensor([[0.00122325 0.765004   0.22929129 0.0044815 ]], shape=(1, 4), dtype=float32)\n",
      "[0.7, 0.1, 0.6, 0.2]\n",
      "tf.Tensor([[0.00103148 0.7239789  0.26986307 0.00512655]], shape=(1, 4), dtype=float32)\n",
      "[0.7, 0.3, 0.6, 0.2]\n",
      "tf.Tensor([[0.00122325 0.765004   0.22929129 0.0044815 ]], shape=(1, 4), dtype=float32)\n",
      "[0.7, 0.1, 0.6, 0.2]\n",
      "tf.Tensor([[0.00103148 0.7239789  0.26986307 0.00512655]], shape=(1, 4), dtype=float32)\n",
      "[0.7, 0.3, 0.6, 0.2]\n",
      "tf.Tensor([[0.00122325 0.765004   0.22929129 0.0044815 ]], shape=(1, 4), dtype=float32)\n",
      "[0.7, 0.1, 0.6, 0.2]\n",
      "tf.Tensor([[0.00103148 0.7239789  0.26986307 0.00512655]], shape=(1, 4), dtype=float32)\n",
      "[0.7, 0.3, 0.6, 0.2]\n",
      "tf.Tensor([[0.00122325 0.765004   0.22929129 0.0044815 ]], shape=(1, 4), dtype=float32)\n",
      "[0.7, 0.1, 0.6, 0.2]\n",
      "tf.Tensor([[0.00103148 0.7239789  0.26986307 0.00512655]], shape=(1, 4), dtype=float32)\n",
      "[0.7, 0.3, 0.6, 0.2]\n",
      "tf.Tensor([[0.00122325 0.765004   0.22929129 0.0044815 ]], shape=(1, 4), dtype=float32)\n",
      "[0.7, 0.1, 0.6, 0.2]\n",
      "tf.Tensor([[0.00103148 0.7239789  0.26986307 0.00512655]], shape=(1, 4), dtype=float32)\n",
      "[0.7, 0.3, 0.6, 0.2]\n",
      "tf.Tensor([[0.00122325 0.765004   0.22929129 0.0044815 ]], shape=(1, 4), dtype=float32)\n",
      "[0.7, 0.1, 0.6, 0.2]\n"
     ]
    },
    {
     "name": "stderr",
     "output_type": "stream",
     "text": [
      "\r",
      " 18%|████████████▉                                                          | 18301/100000 [5:16:30<7:41:34,  2.95it/s]"
     ]
    },
    {
     "name": "stdout",
     "output_type": "stream",
     "text": [
      "tf.Tensor([[0.00103148 0.7239789  0.26986307 0.00512655]], shape=(1, 4), dtype=float32)\n",
      "[0.7, 0.3, 0.6, 0.2]\n",
      "tf.Tensor([[0.00122325 0.765004   0.22929129 0.0044815 ]], shape=(1, 4), dtype=float32)\n",
      "[0.7, 0.1, 0.6, 0.2]\n",
      "tf.Tensor([[0.00103148 0.7239789  0.26986307 0.00512655]], shape=(1, 4), dtype=float32)\n",
      "[0.7, 0.3, 0.6, 0.2]\n",
      "tf.Tensor([[0.00122325 0.765004   0.22929129 0.0044815 ]], shape=(1, 4), dtype=float32)\n",
      "[0.7, 0.1, 0.6, 0.2]\n",
      "tf.Tensor([[0.00103148 0.7239789  0.26986307 0.00512655]], shape=(1, 4), dtype=float32)\n",
      "[0.7, 0.3, 0.6, 0.2]\n",
      "tf.Tensor([[0.00122325 0.765004   0.22929129 0.0044815 ]], shape=(1, 4), dtype=float32)\n",
      "[0.7, 0.1, 0.6, 0.2]\n",
      "tf.Tensor([[0.00103148 0.7239789  0.26986307 0.00512655]], shape=(1, 4), dtype=float32)\n",
      "[0.7, 0.3, 0.6, 0.2]\n",
      "tf.Tensor([[0.00122325 0.765004   0.22929129 0.0044815 ]], shape=(1, 4), dtype=float32)\n"
     ]
    },
    {
     "name": "stderr",
     "output_type": "stream",
     "text": [
      " 18%|█████████████                                                          | 18401/100000 [5:17:40<8:20:54,  2.71it/s]"
     ]
    },
    {
     "name": "stdout",
     "output_type": "stream",
     "text": [
      "1.2404086939537646\n",
      "99\n"
     ]
    },
    {
     "name": "stderr",
     "output_type": "stream",
     "text": [
      " 18%|████████████▉                                                         | 18500/100000 [5:19:05<35:42:11,  1.58s/it]"
     ]
    },
    {
     "name": "stdout",
     "output_type": "stream",
     "text": [
      "-2.070694961884159\n",
      "99\n",
      "[0.8, 0.5, 0.5, 0.7]\n",
      "tf.Tensor([[0.00081813 0.75072634 0.23901427 0.00944125]], shape=(1, 4), dtype=float32)\n",
      "[0.6, 0.5, 0.5, 0.7]\n",
      "tf.Tensor([[7.2902610e-04 7.4883729e-01 2.4303260e-01 7.4010454e-03]], shape=(1, 4), dtype=float32)\n",
      "[0.6, 0.7, 0.5, 0.7]\n",
      "tf.Tensor([[0.00102593 0.7732855  0.21998405 0.00570456]], shape=(1, 4), dtype=float32)\n",
      "[0.4, 0.7, 0.5, 0.7]\n",
      "tf.Tensor([[0.00177951 0.7685866  0.22560126 0.0040327 ]], shape=(1, 4), dtype=float32)\n",
      "[0.6, 0.7, 0.5, 0.7]\n",
      "tf.Tensor([[0.00162502 0.78629714 0.20815757 0.0039202 ]], shape=(1, 4), dtype=float32)\n",
      "[0.4, 0.7, 0.5, 0.7]\n",
      "tf.Tensor([[0.00192198 0.7727726  0.22121078 0.0040947 ]], shape=(1, 4), dtype=float32)\n",
      "[0.6, 0.7, 0.5, 0.7]\n",
      "tf.Tensor([[0.0018045  0.78905725 0.20519067 0.00394762]], shape=(1, 4), dtype=float32)\n",
      "[0.4, 0.7, 0.5, 0.7]\n",
      "tf.Tensor([[0.00192198 0.7727726  0.22121078 0.0040947 ]], shape=(1, 4), dtype=float32)\n",
      "[0.6, 0.7, 0.5, 0.7]\n",
      "tf.Tensor([[0.0018045  0.78905725 0.20519067 0.00394762]], shape=(1, 4), dtype=float32)\n",
      "[0.4, 0.7, 0.5, 0.7]\n",
      "tf.Tensor([[0.00192198 0.7727726  0.22121078 0.0040947 ]], shape=(1, 4), dtype=float32)\n",
      "[0.6, 0.7, 0.5, 0.7]\n",
      "tf.Tensor([[0.0018045  0.78905725 0.20519067 0.00394762]], shape=(1, 4), dtype=float32)\n",
      "[0.4, 0.7, 0.5, 0.7]\n",
      "tf.Tensor([[0.00192198 0.7727726  0.22121078 0.0040947 ]], shape=(1, 4), dtype=float32)\n",
      "[0.6, 0.7, 0.5, 0.7]\n",
      "tf.Tensor([[0.0018045  0.78905725 0.20519067 0.00394762]], shape=(1, 4), dtype=float32)\n",
      "[0.4, 0.7, 0.5, 0.7]\n",
      "tf.Tensor([[0.00192198 0.7727726  0.22121078 0.0040947 ]], shape=(1, 4), dtype=float32)\n",
      "[0.6, 0.7, 0.5, 0.7]\n",
      "tf.Tensor([[0.0018045  0.78905725 0.20519067 0.00394762]], shape=(1, 4), dtype=float32)\n",
      "[0.4, 0.7, 0.5, 0.7]\n",
      "tf.Tensor([[0.00192198 0.7727726  0.22121078 0.0040947 ]], shape=(1, 4), dtype=float32)\n",
      "[0.6, 0.7, 0.5, 0.7]\n",
      "tf.Tensor([[0.0018045  0.78905725 0.20519067 0.00394762]], shape=(1, 4), dtype=float32)\n",
      "[0.4, 0.7, 0.5, 0.7]\n",
      "tf.Tensor([[0.00192198 0.7727726  0.22121078 0.0040947 ]], shape=(1, 4), dtype=float32)\n",
      "[0.6, 0.7, 0.5, 0.7]\n",
      "tf.Tensor([[0.0018045  0.78905725 0.20519067 0.00394762]], shape=(1, 4), dtype=float32)\n",
      "[0.4, 0.7, 0.5, 0.7]\n",
      "tf.Tensor([[0.00192198 0.7727726  0.22121078 0.0040947 ]], shape=(1, 4), dtype=float32)\n",
      "[0.6, 0.7, 0.5, 0.7]\n",
      "tf.Tensor([[0.0018045  0.78905725 0.20519067 0.00394762]], shape=(1, 4), dtype=float32)\n",
      "[0.4, 0.7, 0.5, 0.7]\n",
      "tf.Tensor([[0.00192198 0.7727726  0.22121078 0.0040947 ]], shape=(1, 4), dtype=float32)\n",
      "[0.6, 0.7, 0.5, 0.7]\n",
      "tf.Tensor([[0.0018045  0.78905725 0.20519067 0.00394762]], shape=(1, 4), dtype=float32)\n",
      "[0.4, 0.7, 0.5, 0.7]\n",
      "tf.Tensor([[0.00192198 0.7727726  0.22121078 0.0040947 ]], shape=(1, 4), dtype=float32)\n",
      "[0.6, 0.7, 0.5, 0.7]\n",
      "tf.Tensor([[0.0018045  0.78905725 0.20519067 0.00394762]], shape=(1, 4), dtype=float32)\n",
      "[0.4, 0.7, 0.5, 0.7]\n",
      "tf.Tensor([[0.00192198 0.7727726  0.22121078 0.0040947 ]], shape=(1, 4), dtype=float32)\n",
      "[0.6, 0.7, 0.5, 0.7]\n",
      "tf.Tensor([[0.0018045  0.78905725 0.20519067 0.00394762]], shape=(1, 4), dtype=float32)\n",
      "[0.4, 0.7, 0.5, 0.7]\n",
      "tf.Tensor([[0.00192198 0.7727726  0.22121078 0.0040947 ]], shape=(1, 4), dtype=float32)\n",
      "[0.6, 0.7, 0.5, 0.7]\n",
      "tf.Tensor([[0.0018045  0.78905725 0.20519067 0.00394762]], shape=(1, 4), dtype=float32)\n",
      "[0.4, 0.7, 0.5, 0.7]\n",
      "tf.Tensor([[0.00192198 0.7727726  0.22121078 0.0040947 ]], shape=(1, 4), dtype=float32)\n",
      "[0.6, 0.7, 0.5, 0.7]\n",
      "tf.Tensor([[0.0018045  0.78905725 0.20519067 0.00394762]], shape=(1, 4), dtype=float32)\n",
      "[0.4, 0.7, 0.5, 0.7]\n",
      "tf.Tensor([[0.00192198 0.7727726  0.22121078 0.0040947 ]], shape=(1, 4), dtype=float32)\n",
      "[0.6, 0.7, 0.5, 0.7]\n"
     ]
    },
    {
     "name": "stderr",
     "output_type": "stream",
     "text": [
      "\r",
      " 19%|████████████▉                                                         | 18501/100000 [5:19:07<35:37:38,  1.57s/it]"
     ]
    },
    {
     "name": "stdout",
     "output_type": "stream",
     "text": [
      "tf.Tensor([[0.0018045  0.78905725 0.20519067 0.00394762]], shape=(1, 4), dtype=float32)\n",
      "[0.4, 0.7, 0.5, 0.7]\n",
      "tf.Tensor([[0.00192198 0.7727726  0.22121078 0.0040947 ]], shape=(1, 4), dtype=float32)\n",
      "[0.6, 0.7, 0.5, 0.7]\n",
      "tf.Tensor([[0.0018045  0.78905725 0.20519067 0.00394762]], shape=(1, 4), dtype=float32)\n",
      "[0.4, 0.7, 0.5, 0.7]\n",
      "tf.Tensor([[0.00192198 0.7727726  0.22121078 0.0040947 ]], shape=(1, 4), dtype=float32)\n",
      "[0.6, 0.7, 0.5, 0.7]\n",
      "tf.Tensor([[0.0018045  0.78905725 0.20519067 0.00394762]], shape=(1, 4), dtype=float32)\n",
      "[0.4, 0.7, 0.5, 0.7]\n",
      "tf.Tensor([[0.00192198 0.7727726  0.22121078 0.0040947 ]], shape=(1, 4), dtype=float32)\n",
      "[0.6, 0.7, 0.5, 0.7]\n",
      "tf.Tensor([[0.0018045  0.78905725 0.20519067 0.00394762]], shape=(1, 4), dtype=float32)\n",
      "[0.4, 0.7, 0.5, 0.7]\n",
      "tf.Tensor([[0.00192198 0.7727726  0.22121078 0.0040947 ]], shape=(1, 4), dtype=float32)\n"
     ]
    },
    {
     "name": "stderr",
     "output_type": "stream",
     "text": [
      " 19%|█████████████                                                         | 18601/100000 [5:20:37<35:10:05,  1.56s/it]"
     ]
    },
    {
     "name": "stdout",
     "output_type": "stream",
     "text": [
      "-3.746691986525551\n",
      "95\n"
     ]
    },
    {
     "name": "stderr",
     "output_type": "stream",
     "text": [
      " 19%|█████████████                                                         | 18700/100000 [5:22:16<12:08:40,  1.86it/s]"
     ]
    },
    {
     "name": "stdout",
     "output_type": "stream",
     "text": [
      "0.30543374490648073\n",
      "99\n",
      "[0.4, 0.3, 0.6, 0.2]\n",
      "tf.Tensor([[0.00082985 0.71842766 0.27057278 0.01016964]], shape=(1, 4), dtype=float32)\n",
      "[0.6, 0.3, 0.6, 0.2]\n",
      "tf.Tensor([[0.00086476 0.74496925 0.24601576 0.00815029]], shape=(1, 4), dtype=float32)\n",
      "[0.6, 0.1, 0.6, 0.2]\n",
      "tf.Tensor([[0.00088646 0.71907717 0.27323535 0.00680109]], shape=(1, 4), dtype=float32)\n",
      "[0.6, 0.3, 0.6, 0.2]\n",
      "tf.Tensor([[0.00127667 0.748414   0.24544862 0.00486066]], shape=(1, 4), dtype=float32)\n",
      "[0.6, 0.1, 0.6, 0.2]\n",
      "tf.Tensor([[0.00107877 0.70571685 0.28784746 0.00535686]], shape=(1, 4), dtype=float32)\n",
      "[0.6, 0.3, 0.6, 0.2]\n",
      "tf.Tensor([[0.00123523 0.74706286 0.2470041  0.00469782]], shape=(1, 4), dtype=float32)\n",
      "[0.6, 0.1, 0.6, 0.2]\n",
      "tf.Tensor([[0.00107877 0.70571685 0.28784746 0.00535686]], shape=(1, 4), dtype=float32)\n",
      "[0.6, 0.3, 0.6, 0.2]\n",
      "tf.Tensor([[0.00123523 0.74706286 0.2470041  0.00469782]], shape=(1, 4), dtype=float32)\n",
      "[0.6, 0.1, 0.6, 0.2]\n",
      "tf.Tensor([[0.00107877 0.70571685 0.28784746 0.00535686]], shape=(1, 4), dtype=float32)\n",
      "[0.6, 0.3, 0.6, 0.2]\n",
      "tf.Tensor([[0.00123523 0.74706286 0.2470041  0.00469782]], shape=(1, 4), dtype=float32)\n",
      "[0.6, 0.1, 0.6, 0.2]\n",
      "tf.Tensor([[0.00107877 0.70571685 0.28784746 0.00535686]], shape=(1, 4), dtype=float32)\n",
      "[0.6, 0.3, 0.6, 0.2]\n",
      "tf.Tensor([[0.00123523 0.74706286 0.2470041  0.00469782]], shape=(1, 4), dtype=float32)\n",
      "[0.6, 0.1, 0.6, 0.2]\n",
      "tf.Tensor([[0.00107877 0.70571685 0.28784746 0.00535686]], shape=(1, 4), dtype=float32)\n",
      "[0.6, 0.3, 0.6, 0.2]\n",
      "tf.Tensor([[0.00123523 0.74706286 0.2470041  0.00469782]], shape=(1, 4), dtype=float32)\n",
      "[0.6, 0.1, 0.6, 0.2]\n",
      "tf.Tensor([[0.00107877 0.70571685 0.28784746 0.00535686]], shape=(1, 4), dtype=float32)\n",
      "[0.6, 0.3, 0.6, 0.2]\n",
      "tf.Tensor([[0.00123523 0.74706286 0.2470041  0.00469782]], shape=(1, 4), dtype=float32)\n",
      "[0.6, 0.1, 0.6, 0.2]\n",
      "tf.Tensor([[0.00107877 0.70571685 0.28784746 0.00535686]], shape=(1, 4), dtype=float32)\n",
      "[0.6, 0.3, 0.6, 0.2]\n",
      "tf.Tensor([[0.00123523 0.74706286 0.2470041  0.00469782]], shape=(1, 4), dtype=float32)\n",
      "[0.6, 0.1, 0.6, 0.2]\n",
      "tf.Tensor([[0.00107877 0.70571685 0.28784746 0.00535686]], shape=(1, 4), dtype=float32)\n",
      "[0.6, 0.3, 0.6, 0.2]\n",
      "tf.Tensor([[0.00123523 0.74706286 0.2470041  0.00469782]], shape=(1, 4), dtype=float32)\n",
      "[0.6, 0.1, 0.6, 0.2]\n",
      "tf.Tensor([[0.00107877 0.70571685 0.28784746 0.00535686]], shape=(1, 4), dtype=float32)\n",
      "[0.6, 0.3, 0.6, 0.2]\n",
      "tf.Tensor([[0.00123523 0.74706286 0.2470041  0.00469782]], shape=(1, 4), dtype=float32)\n",
      "[0.6, 0.1, 0.6, 0.2]\n",
      "tf.Tensor([[0.00107877 0.70571685 0.28784746 0.00535686]], shape=(1, 4), dtype=float32)\n",
      "[0.6, 0.3, 0.6, 0.2]\n",
      "tf.Tensor([[0.00123523 0.74706286 0.2470041  0.00469782]], shape=(1, 4), dtype=float32)\n",
      "[0.6, 0.1, 0.6, 0.2]\n",
      "tf.Tensor([[0.00107877 0.70571685 0.28784746 0.00535686]], shape=(1, 4), dtype=float32)\n",
      "[0.6, 0.3, 0.6, 0.2]\n",
      "tf.Tensor([[0.00123523 0.74706286 0.2470041  0.00469782]], shape=(1, 4), dtype=float32)\n",
      "[0.6, 0.1, 0.6, 0.2]\n",
      "tf.Tensor([[0.00107877 0.70571685 0.28784746 0.00535686]], shape=(1, 4), dtype=float32)\n",
      "[0.6, 0.3, 0.6, 0.2]\n",
      "tf.Tensor([[0.00123523 0.74706286 0.2470041  0.00469782]], shape=(1, 4), dtype=float32)\n",
      "[0.6, 0.1, 0.6, 0.2]\n",
      "tf.Tensor([[0.00107877 0.70571685 0.28784746 0.00535686]], shape=(1, 4), dtype=float32)\n",
      "[0.6, 0.3, 0.6, 0.2]\n",
      "tf.Tensor([[0.00123523 0.74706286 0.2470041  0.00469782]], shape=(1, 4), dtype=float32)\n",
      "[0.6, 0.1, 0.6, 0.2]\n",
      "tf.Tensor([[0.00107877 0.70571685 0.28784746 0.00535686]], shape=(1, 4), dtype=float32)\n",
      "[0.6, 0.3, 0.6, 0.2]\n",
      "tf.Tensor([[0.00123523 0.74706286 0.2470041  0.00469782]], shape=(1, 4), dtype=float32)\n",
      "[0.6, 0.1, 0.6, 0.2]\n",
      "tf.Tensor([[0.00107877 0.70571685 0.28784746 0.00535686]], shape=(1, 4), dtype=float32)\n",
      "[0.6, 0.3, 0.6, 0.2]\n",
      "tf.Tensor([[0.00123523 0.74706286 0.2470041  0.00469782]], shape=(1, 4), dtype=float32)\n",
      "[0.6, 0.1, 0.6, 0.2]\n",
      "tf.Tensor([[0.00107877 0.70571685 0.28784746 0.00535686]], shape=(1, 4), dtype=float32)\n",
      "[0.6, 0.3, 0.6, 0.2]\n",
      "tf.Tensor([[0.00123523 0.74706286 0.2470041  0.00469782]], shape=(1, 4), dtype=float32)\n",
      "[0.6, 0.1, 0.6, 0.2]\n",
      "tf.Tensor([[0.00107877 0.70571685 0.28784746 0.00535686]], shape=(1, 4), dtype=float32)\n",
      "[0.6, 0.3, 0.6, 0.2]\n",
      "tf.Tensor([[0.00123523 0.74706286 0.2470041  0.00469782]], shape=(1, 4), dtype=float32)"
     ]
    },
    {
     "name": "stderr",
     "output_type": "stream",
     "text": [
      "\r",
      " 19%|█████████████                                                         | 18701/100000 [5:22:17<15:49:29,  1.43it/s]"
     ]
    },
    {
     "name": "stdout",
     "output_type": "stream",
     "text": [
      "\n",
      "[0.6, 0.1, 0.6, 0.2]\n",
      "tf.Tensor([[0.00107877 0.70571685 0.28784746 0.00535686]], shape=(1, 4), dtype=float32)\n",
      "[0.6, 0.3, 0.6, 0.2]\n",
      "tf.Tensor([[0.00123523 0.74706286 0.2470041  0.00469782]], shape=(1, 4), dtype=float32)\n"
     ]
    },
    {
     "name": "stderr",
     "output_type": "stream",
     "text": [
      " 19%|█████████████▏                                                        | 18801/100000 [5:23:50<26:47:37,  1.19s/it]"
     ]
    },
    {
     "name": "stdout",
     "output_type": "stream",
     "text": [
      "-4.187957831820604\n",
      "99\n"
     ]
    },
    {
     "name": "stderr",
     "output_type": "stream",
     "text": [
      " 19%|█████████████▏                                                        | 18901/100000 [5:25:28<12:10:26,  1.85it/s]"
     ]
    },
    {
     "name": "stdout",
     "output_type": "stream",
     "text": [
      "-0.6143099772473204\n",
      "98\n",
      "[0.5, 0.1, 0.5, 0.7]\n",
      "tf.Tensor([[0.00074262 0.7238321  0.26535195 0.01007336]], shape=(1, 4), dtype=float32)\n",
      "[0.5, 0.3, 0.5, 0.7]\n",
      "tf.Tensor([[0.00073436 0.7263175  0.26482534 0.0081228 ]], shape=(1, 4), dtype=float32)\n",
      "[0.5, 0.5, 0.5, 0.7]\n",
      "tf.Tensor([[0.00085902 0.7181294  0.2746536  0.006358  ]], shape=(1, 4), dtype=float32)\n"
     ]
    },
    {
     "name": "stderr",
     "output_type": "stream",
     "text": [
      " 19%|█████████████▎                                                        | 19001/100000 [5:27:08<28:24:06,  1.26s/it]"
     ]
    },
    {
     "name": "stdout",
     "output_type": "stream",
     "text": [
      "-6.621515868770585\n",
      "98\n"
     ]
    },
    {
     "name": "stderr",
     "output_type": "stream",
     "text": [
      " 19%|█████████████▎                                                        | 19100/100000 [5:28:19<16:34:59,  1.36it/s]"
     ]
    },
    {
     "name": "stdout",
     "output_type": "stream",
     "text": [
      "0.5820064828205631\n",
      "100\n",
      "[0.8, 0.0, 0.1, 0.1]\n",
      "tf.Tensor([[7.4329897e-04 8.0261290e-01 1.8906705e-01 7.5767622e-03]], shape=(1, 4), dtype=float32)\n",
      "[0.6, 0.0, 0.1, 0.1]\n",
      "tf.Tensor([[0.00092286 0.8065117  0.18601815 0.0065473 ]], shape=(1, 4), dtype=float32)\n",
      "[0.4, 0.0, 0.1, 0.1]\n",
      "tf.Tensor([[0.00152459 0.8033544  0.18959299 0.00552801]], shape=(1, 4), dtype=float32)\n",
      "[0.2, 0.0, 0.1, 0.1]\n",
      "tf.Tensor([[0.00383001 0.78499067 0.20694031 0.00423903]], shape=(1, 4), dtype=float32)\n",
      "[0.2, 0.2, 0.1, 0.1]\n",
      "tf.Tensor([[0.0029507  0.8121364  0.18082033 0.0040926 ]], shape=(1, 4), dtype=float32)\n",
      "[0.2, 0.0, 0.1, 0.1]\n",
      "tf.Tensor([[0.0021156 0.7747314 0.2185547 0.0045983]], shape=(1, 4), dtype=float32)\n",
      "[0.2, 0.2, 0.1, 0.1]\n",
      "tf.Tensor([[0.00149622 0.8083021  0.1860402  0.00416146]], shape=(1, 4), dtype=float32)\n",
      "[0.2, 0.0, 0.1, 0.1]\n",
      "tf.Tensor([[0.00134108 0.7709958  0.22282276 0.00484038]], shape=(1, 4), dtype=float32)\n",
      "[0.2, 0.2, 0.1, 0.1]\n",
      "tf.Tensor([[0.00149622 0.8083021  0.1860402  0.00416146]], shape=(1, 4), dtype=float32)\n",
      "[0.2, 0.0, 0.1, 0.1]\n",
      "tf.Tensor([[0.00134108 0.7709958  0.22282276 0.00484038]], shape=(1, 4), dtype=float32)\n",
      "[0.2, 0.2, 0.1, 0.1]\n",
      "tf.Tensor([[0.00149622 0.8083021  0.1860402  0.00416146]], shape=(1, 4), dtype=float32)\n",
      "[0.2, 0.0, 0.1, 0.1]\n",
      "tf.Tensor([[0.00134108 0.7709958  0.22282276 0.00484038]], shape=(1, 4), dtype=float32)\n",
      "[0.2, 0.2, 0.1, 0.1]\n",
      "tf.Tensor([[0.00149622 0.8083021  0.1860402  0.00416146]], shape=(1, 4), dtype=float32)\n",
      "[0.2, 0.0, 0.1, 0.1]\n",
      "tf.Tensor([[0.00134108 0.7709958  0.22282276 0.00484038]], shape=(1, 4), dtype=float32)\n",
      "[0.2, 0.2, 0.1, 0.1]\n",
      "tf.Tensor([[0.00149622 0.8083021  0.1860402  0.00416146]], shape=(1, 4), dtype=float32)\n",
      "[0.2, 0.0, 0.1, 0.1]\n",
      "tf.Tensor([[0.00134108 0.7709958  0.22282276 0.00484038]], shape=(1, 4), dtype=float32)\n",
      "[0.2, 0.2, 0.1, 0.1]\n",
      "tf.Tensor([[0.00149622 0.8083021  0.1860402  0.00416146]], shape=(1, 4), dtype=float32)\n",
      "[0.2, 0.0, 0.1, 0.1]\n",
      "tf.Tensor([[0.00134108 0.7709958  0.22282276 0.00484038]], shape=(1, 4), dtype=float32)\n",
      "[0.2, 0.2, 0.1, 0.1]\n",
      "tf.Tensor([[0.00149622 0.8083021  0.1860402  0.00416146]], shape=(1, 4), dtype=float32)\n",
      "[0.2, 0.0, 0.1, 0.1]\n",
      "tf.Tensor([[0.00134108 0.7709958  0.22282276 0.00484038]], shape=(1, 4), dtype=float32)\n",
      "[0.2, 0.2, 0.1, 0.1]\n",
      "tf.Tensor([[0.00149622 0.8083021  0.1860402  0.00416146]], shape=(1, 4), dtype=float32)\n",
      "[0.2, 0.0, 0.1, 0.1]\n",
      "tf.Tensor([[0.00134108 0.7709958  0.22282276 0.00484038]], shape=(1, 4), dtype=float32)\n",
      "[0.2, 0.2, 0.1, 0.1]\n",
      "tf.Tensor([[0.00149622 0.8083021  0.1860402  0.00416146]], shape=(1, 4), dtype=float32)\n",
      "[0.2, 0.0, 0.1, 0.1]\n",
      "tf.Tensor([[0.00134108 0.7709958  0.22282276 0.00484038]], shape=(1, 4), dtype=float32)\n",
      "[0.2, 0.2, 0.1, 0.1]\n",
      "tf.Tensor([[0.00149622 0.8083021  0.1860402  0.00416146]], shape=(1, 4), dtype=float32)\n",
      "[0.2, 0.0, 0.1, 0.1]\n",
      "tf.Tensor([[0.00134108 0.7709958  0.22282276 0.00484038]], shape=(1, 4), dtype=float32)\n",
      "[0.2, 0.2, 0.1, 0.1]\n",
      "tf.Tensor([[0.00149622 0.8083021  0.1860402  0.00416146]], shape=(1, 4), dtype=float32)\n",
      "[0.2, 0.0, 0.1, 0.1]\n",
      "tf.Tensor([[0.00134108 0.7709958  0.22282276 0.00484038]], shape=(1, 4), dtype=float32)\n",
      "[0.2, 0.2, 0.1, 0.1]\n",
      "tf.Tensor([[0.00149622 0.8083021  0.1860402  0.00416146]], shape=(1, 4), dtype=float32)\n",
      "[0.2, 0.0, 0.1, 0.1]\n",
      "tf.Tensor([[0.00134108 0.7709958  0.22282276 0.00484038]], shape=(1, 4), dtype=float32)\n",
      "[0.2, 0.2, 0.1, 0.1]\n"
     ]
    },
    {
     "name": "stderr",
     "output_type": "stream",
     "text": [
      "\r",
      " 19%|█████████████▎                                                        | 19101/100000 [5:28:20<17:37:54,  1.27it/s]"
     ]
    },
    {
     "name": "stdout",
     "output_type": "stream",
     "text": [
      "tf.Tensor([[0.00149622 0.8083021  0.1860402  0.00416146]], shape=(1, 4), dtype=float32)\n",
      "[0.2, 0.0, 0.1, 0.1]\n",
      "tf.Tensor([[0.00134108 0.7709958  0.22282276 0.00484038]], shape=(1, 4), dtype=float32)\n",
      "[0.2, 0.2, 0.1, 0.1]\n",
      "tf.Tensor([[0.00149622 0.8083021  0.1860402  0.00416146]], shape=(1, 4), dtype=float32)\n",
      "[0.2, 0.0, 0.1, 0.1]\n",
      "tf.Tensor([[0.00134108 0.7709958  0.22282276 0.00484038]], shape=(1, 4), dtype=float32)\n",
      "[0.2, 0.2, 0.1, 0.1]\n",
      "tf.Tensor([[0.00149622 0.8083021  0.1860402  0.00416146]], shape=(1, 4), dtype=float32)\n",
      "[0.2, 0.0, 0.1, 0.1]\n",
      "tf.Tensor([[0.00134108 0.7709958  0.22282276 0.00484038]], shape=(1, 4), dtype=float32)\n",
      "[0.2, 0.2, 0.1, 0.1]\n",
      "tf.Tensor([[0.00149622 0.8083021  0.1860402  0.00416146]], shape=(1, 4), dtype=float32)\n",
      "[0.2, 0.0, 0.1, 0.1]\n",
      "tf.Tensor([[0.00134108 0.7709958  0.22282276 0.00484038]], shape=(1, 4), dtype=float32)\n",
      "[0.2, 0.2, 0.1, 0.1]\n",
      "tf.Tensor([[0.00149622 0.8083021  0.1860402  0.00416146]], shape=(1, 4), dtype=float32)\n",
      "[0.2, 0.0, 0.1, 0.1]\n",
      "tf.Tensor([[0.00134108 0.7709958  0.22282276 0.00484038]], shape=(1, 4), dtype=float32)\n"
     ]
    },
    {
     "name": "stderr",
     "output_type": "stream",
     "text": [
      " 19%|█████████████▍                                                        | 19201/100000 [5:30:06<34:25:24,  1.53s/it]"
     ]
    },
    {
     "name": "stdout",
     "output_type": "stream",
     "text": [
      "-7.44113533564018\n",
      "97\n"
     ]
    },
    {
     "name": "stderr",
     "output_type": "stream",
     "text": [
      " 19%|█████████████▌                                                        | 19301/100000 [5:31:25<10:43:40,  2.09it/s]"
     ]
    },
    {
     "name": "stdout",
     "output_type": "stream",
     "text": [
      "-0.6504989320083852\n",
      "100\n",
      "[0.1, 0.0, 0.7, 0.4]\n",
      "tf.Tensor([[7.0180849e-04 8.2087493e-01 1.7157643e-01 6.8468442e-03]], shape=(1, 4), dtype=float32)\n",
      "[0.3, 0.0, 0.7, 0.4]\n",
      "tf.Tensor([[7.1677379e-04 8.2220191e-01 1.7131041e-01 5.7708970e-03]], shape=(1, 4), dtype=float32)\n",
      "[0.3, 0.2, 0.7, 0.4]\n",
      "tf.Tensor([[0.00089749 0.8216018  0.17282698 0.00467374]], shape=(1, 4), dtype=float32)\n",
      "[0.5, 0.2, 0.7, 0.4]\n",
      "tf.Tensor([[0.00154358 0.7973336  0.19749558 0.00362723]], shape=(1, 4), dtype=float32)\n",
      "[0.5, 0.4, 0.7, 0.4]\n",
      "tf.Tensor([[0.00161448 0.8024918  0.19266544 0.00322821]], shape=(1, 4), dtype=float32)\n"
     ]
    },
    {
     "name": "stderr",
     "output_type": "stream",
     "text": [
      " 19%|█████████████▌                                                        | 19401/100000 [5:33:10<26:12:24,  1.17s/it]"
     ]
    },
    {
     "name": "stdout",
     "output_type": "stream",
     "text": [
      "-4.831941912392153\n",
      "96\n"
     ]
    },
    {
     "name": "stderr",
     "output_type": "stream",
     "text": [
      " 20%|█████████████▋                                                        | 19500/100000 [5:34:45<13:22:06,  1.67it/s]"
     ]
    },
    {
     "name": "stdout",
     "output_type": "stream",
     "text": [
      "-0.7104798188598458\n",
      "98\n",
      "[0.3, 0.8, 0.1, 0.1]\n",
      "tf.Tensor([[5.9347833e-04 8.5526323e-01 1.3860920e-01 5.5340533e-03]], shape=(1, 4), dtype=float32)\n",
      "[0.3, 0.6, 0.1, 0.1]\n",
      "tf.Tensor([[6.0799957e-04 8.5745662e-01 1.3724007e-01 4.6953009e-03]], shape=(1, 4), dtype=float32)\n",
      "[0.3, 0.4, 0.1, 0.1]\n",
      "tf.Tensor([[7.0281199e-04 8.5280383e-01 1.4239949e-01 4.0938915e-03]], shape=(1, 4), dtype=float32)\n",
      "[0.3, 0.2, 0.1, 0.1]\n",
      "tf.Tensor([[0.00110069 0.83259237 0.16265292 0.00365399]], shape=(1, 4), dtype=float32)\n",
      "[0.1, 0.2, 0.1, 0.1]\n",
      "tf.Tensor([[0.00138294 0.83448446 0.16041487 0.00371773]], shape=(1, 4), dtype=float32)\n",
      "[0.1, 0.0, 0.1, 0.1]\n",
      "tf.Tensor([[0.00166025 0.79737866 0.19675311 0.00420794]], shape=(1, 4), dtype=float32)\n",
      "[0.1, 0.2, 0.1, 0.1]\n",
      "tf.Tensor([[0.00202993 0.8281752  0.16606165 0.00373325]], shape=(1, 4), dtype=float32)\n",
      "[0.1, 0.0, 0.1, 0.1]\n",
      "tf.Tensor([[0.0014777  0.7975013  0.19685227 0.0041687 ]], shape=(1, 4), dtype=float32)\n",
      "[0.1, 0.2, 0.1, 0.1]\n",
      "tf.Tensor([[0.00158565 0.82903105 0.16580467 0.0035787 ]], shape=(1, 4), dtype=float32)\n",
      "[0.1, 0.0, 0.1, 0.1]\n",
      "tf.Tensor([[0.0014777  0.7975013  0.19685227 0.0041687 ]], shape=(1, 4), dtype=float32)\n",
      "[0.1, 0.2, 0.1, 0.1]\n",
      "tf.Tensor([[0.00158565 0.82903105 0.16580467 0.0035787 ]], shape=(1, 4), dtype=float32)\n",
      "[0.1, 0.0, 0.1, 0.1]\n",
      "tf.Tensor([[0.0014777  0.7975013  0.19685227 0.0041687 ]], shape=(1, 4), dtype=float32)\n",
      "[0.1, 0.2, 0.1, 0.1]\n",
      "tf.Tensor([[0.00158565 0.82903105 0.16580467 0.0035787 ]], shape=(1, 4), dtype=float32)\n",
      "[0.1, 0.0, 0.1, 0.1]\n",
      "tf.Tensor([[0.0014777  0.7975013  0.19685227 0.0041687 ]], shape=(1, 4), dtype=float32)\n",
      "[0.1, 0.2, 0.1, 0.1]\n",
      "tf.Tensor([[0.00158565 0.82903105 0.16580467 0.0035787 ]], shape=(1, 4), dtype=float32)\n",
      "[0.1, 0.0, 0.1, 0.1]\n",
      "tf.Tensor([[0.0014777  0.7975013  0.19685227 0.0041687 ]], shape=(1, 4), dtype=float32)\n",
      "[0.1, 0.2, 0.1, 0.1]\n",
      "tf.Tensor([[0.00158565 0.82903105 0.16580467 0.0035787 ]], shape=(1, 4), dtype=float32)\n",
      "[0.1, 0.0, 0.1, 0.1]\n",
      "tf.Tensor([[0.0014777  0.7975013  0.19685227 0.0041687 ]], shape=(1, 4), dtype=float32)\n",
      "[0.1, 0.2, 0.1, 0.1]\n",
      "tf.Tensor([[0.00158565 0.82903105 0.16580467 0.0035787 ]], shape=(1, 4), dtype=float32)\n",
      "[0.1, 0.0, 0.1, 0.1]\n",
      "tf.Tensor([[0.0014777  0.7975013  0.19685227 0.0041687 ]], shape=(1, 4), dtype=float32)\n",
      "[0.1, 0.2, 0.1, 0.1]\n",
      "tf.Tensor([[0.00158565 0.82903105 0.16580467 0.0035787 ]], shape=(1, 4), dtype=float32)\n",
      "[0.1, 0.0, 0.1, 0.1]\n",
      "tf.Tensor([[0.0014777  0.7975013  0.19685227 0.0041687 ]], shape=(1, 4), dtype=float32)\n",
      "[0.1, 0.2, 0.1, 0.1]\n",
      "tf.Tensor([[0.00158565 0.82903105 0.16580467 0.0035787 ]], shape=(1, 4), dtype=float32)\n",
      "[0.1, 0.0, 0.1, 0.1]\n",
      "tf.Tensor([[0.0014777  0.7975013  0.19685227 0.0041687 ]], shape=(1, 4), dtype=float32)\n",
      "[0.1, 0.2, 0.1, 0.1]\n",
      "tf.Tensor([[0.00158565 0.82903105 0.16580467 0.0035787 ]], shape=(1, 4), dtype=float32)\n",
      "[0.1, 0.0, 0.1, 0.1]\n",
      "tf.Tensor([[0.0014777  0.7975013  0.19685227 0.0041687 ]], shape=(1, 4), dtype=float32)\n",
      "[0.1, 0.2, 0.1, 0.1]\n",
      "tf.Tensor([[0.00158565 0.82903105 0.16580467 0.0035787 ]], shape=(1, 4), dtype=float32)\n",
      "[0.1, 0.0, 0.1, 0.1]\n",
      "tf.Tensor([[0.0014777  0.7975013  0.19685227 0.0041687 ]], shape=(1, 4), dtype=float32)\n",
      "[0.1, 0.2, 0.1, 0.1]\n",
      "tf.Tensor([[0.00158565 0.82903105 0.16580467 0.0035787 ]], shape=(1, 4), dtype=float32)\n",
      "[0.1, 0.0, 0.1, 0.1]\n",
      "tf.Tensor([[0.0014777  0.7975013  0.19685227 0.0041687 ]], shape=(1, 4), dtype=float32)\n",
      "[0.1, 0.2, 0.1, 0.1]\n",
      "tf.Tensor([[0.00158565 0.82903105 0.16580467 0.0035787 ]], shape=(1, 4), dtype=float32)\n",
      "[0.1, 0.0, 0.1, 0.1]\n",
      "tf.Tensor([[0.0014777  0.7975013  0.19685227 0.0041687 ]], shape=(1, 4), dtype=float32)\n",
      "[0.1, 0.2, 0.1, 0.1]\n",
      "tf.Tensor([[0.00158565 0.82903105 0.16580467 0.0035787 ]], shape=(1, 4), dtype=float32)\n",
      "[0.1, 0.0, 0.1, 0.1]\n",
      "tf.Tensor([[0.0014777  0.7975013  0.19685227 0.0041687 ]], shape=(1, 4), dtype=float32)\n",
      "[0.1, 0.2, 0.1, 0.1]\n",
      "tf.Tensor([[0.00158565 0.82903105 0.16580467 0.0035787 ]], shape=(1, 4), dtype=float32)\n",
      "[0.1, 0.0, 0.1, 0.1]\n",
      "tf.Tensor([[0.0014777  0.7975013  0.19685227 0.0041687 ]], shape=(1, 4), dtype=float32)\n",
      "[0.1, 0.2, 0.1, 0.1]\n",
      "tf.Tensor([[0.00158565 0.82903105 0.16580467 0.0035787 ]], shape=(1, 4), dtype=float32)\n",
      "[0.1, 0.0, 0.1, 0.1]\n",
      "tf.Tensor([[0.0014777  0.7975013  0.19685227 0.0041687 ]], shape=(1, 4), dtype=float32)\n",
      "[0.1, 0.2, 0.1, 0.1]\n",
      "tf.Tensor([[0.00158565 0.82903105 0.16580467 0.0035787 ]], shape=(1, 4), dtype=float32)\n",
      "[0.1, 0.0, 0.1, 0.1]\n",
      "tf.Tensor([[0.0014777  0.7975013  0.19685227 0.0041687 ]], shape=(1, 4), dtype=float32)"
     ]
    },
    {
     "name": "stderr",
     "output_type": "stream",
     "text": [
      "\r",
      " 20%|█████████████▋                                                        | 19501/100000 [5:34:46<15:35:22,  1.43it/s]"
     ]
    },
    {
     "name": "stdout",
     "output_type": "stream",
     "text": [
      "\n"
     ]
    },
    {
     "name": "stderr",
     "output_type": "stream",
     "text": [
      " 20%|█████████████▋                                                        | 19601/100000 [5:36:28<20:28:55,  1.09it/s]"
     ]
    },
    {
     "name": "stdout",
     "output_type": "stream",
     "text": [
      "-3.4355747964451524\n",
      "96\n"
     ]
    },
    {
     "name": "stderr",
     "output_type": "stream",
     "text": [
      " 20%|█████████████▊                                                        | 19700/100000 [5:37:56<19:57:11,  1.12it/s]"
     ]
    },
    {
     "name": "stdout",
     "output_type": "stream",
     "text": [
      "-3.975915981342449\n",
      "99\n",
      "[0.6, 0.1, 0.5, 0.7]\n",
      "tf.Tensor([[4.3025496e-04 8.8139367e-01 1.1418502e-01 3.9909934e-03]], shape=(1, 4), dtype=float32)\n",
      "[0.6, 0.3, 0.5, 0.7]\n",
      "tf.Tensor([[4.2677161e-04 8.7866467e-01 1.1767140e-01 3.2372097e-03]], shape=(1, 4), dtype=float32)\n",
      "[0.6, 0.5, 0.5, 0.7]\n",
      "tf.Tensor([[5.4602203e-04 8.5982275e-01 1.3704936e-01 2.5818811e-03]], shape=(1, 4), dtype=float32)\n",
      "[0.6, 0.7, 0.5, 0.7]\n",
      "tf.Tensor([[0.00122871 0.84896904 0.14797534 0.00182685]], shape=(1, 4), dtype=float32)\n",
      "[0.4, 0.7, 0.5, 0.7]\n",
      "tf.Tensor([[0.00115856 0.8322044  0.16464897 0.00198805]], shape=(1, 4), dtype=float32)\n",
      "[0.6, 0.7, 0.5, 0.7]\n",
      "tf.Tensor([[0.001312   0.85805374 0.13869172 0.00194254]], shape=(1, 4), dtype=float32)\n",
      "[0.4, 0.7, 0.5, 0.7]\n",
      "tf.Tensor([[0.00149407 0.8417811  0.15458535 0.00213941]], shape=(1, 4), dtype=float32)\n",
      "[0.6, 0.7, 0.5, 0.7]\n",
      "tf.Tensor([[0.00139171 0.86178744 0.13484387 0.00197694]], shape=(1, 4), dtype=float32)\n",
      "[0.4, 0.7, 0.5, 0.7]\n",
      "tf.Tensor([[0.00149407 0.8417811  0.15458535 0.00213941]], shape=(1, 4), dtype=float32)\n",
      "[0.6, 0.7, 0.5, 0.7]\n",
      "tf.Tensor([[0.00139171 0.86178744 0.13484387 0.00197694]], shape=(1, 4), dtype=float32)\n",
      "[0.4, 0.7, 0.5, 0.7]\n",
      "tf.Tensor([[0.00149407 0.8417811  0.15458535 0.00213941]], shape=(1, 4), dtype=float32)\n",
      "[0.6, 0.7, 0.5, 0.7]\n",
      "tf.Tensor([[0.00139171 0.86178744 0.13484387 0.00197694]], shape=(1, 4), dtype=float32)\n",
      "[0.4, 0.7, 0.5, 0.7]\n",
      "tf.Tensor([[0.00149407 0.8417811  0.15458535 0.00213941]], shape=(1, 4), dtype=float32)\n",
      "[0.6, 0.7, 0.5, 0.7]\n",
      "tf.Tensor([[0.00139171 0.86178744 0.13484387 0.00197694]], shape=(1, 4), dtype=float32)\n",
      "[0.4, 0.7, 0.5, 0.7]\n",
      "tf.Tensor([[0.00149407 0.8417811  0.15458535 0.00213941]], shape=(1, 4), dtype=float32)\n",
      "[0.6, 0.7, 0.5, 0.7]\n",
      "tf.Tensor([[0.00139171 0.86178744 0.13484387 0.00197694]], shape=(1, 4), dtype=float32)\n",
      "[0.4, 0.7, 0.5, 0.7]\n",
      "tf.Tensor([[0.00149407 0.8417811  0.15458535 0.00213941]], shape=(1, 4), dtype=float32)\n",
      "[0.6, 0.7, 0.5, 0.7]\n",
      "tf.Tensor([[0.00139171 0.86178744 0.13484387 0.00197694]], shape=(1, 4), dtype=float32)\n",
      "[0.4, 0.7, 0.5, 0.7]\n",
      "tf.Tensor([[0.00149407 0.8417811  0.15458535 0.00213941]], shape=(1, 4), dtype=float32)\n",
      "[0.6, 0.7, 0.5, 0.7]\n",
      "tf.Tensor([[0.00139171 0.86178744 0.13484387 0.00197694]], shape=(1, 4), dtype=float32)\n",
      "[0.4, 0.7, 0.5, 0.7]\n",
      "tf.Tensor([[0.00149407 0.8417811  0.15458535 0.00213941]], shape=(1, 4), dtype=float32)\n",
      "[0.6, 0.7, 0.5, 0.7]\n",
      "tf.Tensor([[0.00139171 0.86178744 0.13484387 0.00197694]], shape=(1, 4), dtype=float32)\n",
      "[0.4, 0.7, 0.5, 0.7]\n",
      "tf.Tensor([[0.00149407 0.8417811  0.15458535 0.00213941]], shape=(1, 4), dtype=float32)\n",
      "[0.6, 0.7, 0.5, 0.7]\n",
      "tf.Tensor([[0.00139171 0.86178744 0.13484387 0.00197694]], shape=(1, 4), dtype=float32)\n",
      "[0.4, 0.7, 0.5, 0.7]\n",
      "tf.Tensor([[0.00149407 0.8417811  0.15458535 0.00213941]], shape=(1, 4), dtype=float32)\n",
      "[0.6, 0.7, 0.5, 0.7]\n",
      "tf.Tensor([[0.00139171 0.86178744 0.13484387 0.00197694]], shape=(1, 4), dtype=float32)\n",
      "[0.4, 0.7, 0.5, 0.7]\n",
      "tf.Tensor([[0.00149407 0.8417811  0.15458535 0.00213941]], shape=(1, 4), dtype=float32)\n",
      "[0.6, 0.7, 0.5, 0.7]\n",
      "tf.Tensor([[0.00139171 0.86178744 0.13484387 0.00197694]], shape=(1, 4), dtype=float32)\n",
      "[0.4, 0.7, 0.5, 0.7]\n",
      "tf.Tensor([[0.00149407 0.8417811  0.15458535 0.00213941]], shape=(1, 4), dtype=float32)\n",
      "[0.6, 0.7, 0.5, 0.7]\n",
      "tf.Tensor([[0.00139171 0.86178744 0.13484387 0.00197694]], shape=(1, 4), dtype=float32)\n",
      "[0.4, 0.7, 0.5, 0.7]\n",
      "tf.Tensor([[0.00149407 0.8417811  0.15458535 0.00213941]], shape=(1, 4), dtype=float32)\n",
      "[0.6, 0.7, 0.5, 0.7]\n"
     ]
    },
    {
     "name": "stderr",
     "output_type": "stream",
     "text": [
      "\r",
      " 20%|█████████████▊                                                        | 19701/100000 [5:37:58<22:15:50,  1.00it/s]"
     ]
    },
    {
     "name": "stdout",
     "output_type": "stream",
     "text": [
      "tf.Tensor([[0.00139171 0.86178744 0.13484387 0.00197694]], shape=(1, 4), dtype=float32)\n",
      "[0.4, 0.7, 0.5, 0.7]\n",
      "tf.Tensor([[0.00149407 0.8417811  0.15458535 0.00213941]], shape=(1, 4), dtype=float32)\n",
      "[0.6, 0.7, 0.5, 0.7]\n",
      "tf.Tensor([[0.00139171 0.86178744 0.13484387 0.00197694]], shape=(1, 4), dtype=float32)\n",
      "[0.4, 0.7, 0.5, 0.7]\n",
      "tf.Tensor([[0.00149407 0.8417811  0.15458535 0.00213941]], shape=(1, 4), dtype=float32)\n",
      "[0.6, 0.7, 0.5, 0.7]\n",
      "tf.Tensor([[0.00139171 0.86178744 0.13484387 0.00197694]], shape=(1, 4), dtype=float32)\n",
      "[0.4, 0.7, 0.5, 0.7]\n",
      "tf.Tensor([[0.00149407 0.8417811  0.15458535 0.00213941]], shape=(1, 4), dtype=float32)\n",
      "[0.6, 0.7, 0.5, 0.7]\n",
      "tf.Tensor([[0.00139171 0.86178744 0.13484387 0.00197694]], shape=(1, 4), dtype=float32)\n",
      "[0.4, 0.7, 0.5, 0.7]\n",
      "tf.Tensor([[0.00149407 0.8417811  0.15458535 0.00213941]], shape=(1, 4), dtype=float32)\n",
      "[0.6, 0.7, 0.5, 0.7]\n",
      "tf.Tensor([[0.00139171 0.86178744 0.13484387 0.00197694]], shape=(1, 4), dtype=float32)\n"
     ]
    },
    {
     "name": "stderr",
     "output_type": "stream",
     "text": [
      " 20%|█████████████▊                                                        | 19801/100000 [5:39:39<21:49:01,  1.02it/s]"
     ]
    },
    {
     "name": "stdout",
     "output_type": "stream",
     "text": [
      "-4.722577719854723\n",
      "96\n"
     ]
    },
    {
     "name": "stderr",
     "output_type": "stream",
     "text": [
      " 20%|█████████████▉                                                        | 19900/100000 [5:41:09<15:40:14,  1.42it/s]"
     ]
    },
    {
     "name": "stdout",
     "output_type": "stream",
     "text": [
      "-0.7125781795937952\n",
      "99\n",
      "[0.8, 0.8, 0.7, 0.4]\n",
      "tf.Tensor([[3.4016359e-04 8.9235687e-01 1.0391879e-01 3.3841825e-03]], shape=(1, 4), dtype=float32)\n",
      "[0.8, 0.6, 0.7, 0.4]\n",
      "tf.Tensor([[3.1511745e-04 8.9129382e-01 1.0561648e-01 2.7745822e-03]], shape=(1, 4), dtype=float32)\n",
      "[0.8, 0.4, 0.7, 0.4]\n",
      "tf.Tensor([[3.82102065e-04 8.77871573e-01 1.19274564e-01 2.47179600e-03]], shape=(1, 4), dtype=float32)\n",
      "[0.6, 0.4, 0.7, 0.4]\n",
      "tf.Tensor([[5.9435150e-04 8.1333226e-01 1.8393904e-01 2.1343431e-03]], shape=(1, 4), dtype=float32)\n",
      "[0.8, 0.4, 0.7, 0.4]\n",
      "tf.Tensor([[0.00091845 0.83156466 0.16556175 0.00195516]], shape=(1, 4), dtype=float32)\n",
      "[0.6, 0.4, 0.7, 0.4]\n",
      "tf.Tensor([[0.00140051 0.8016761  0.19494686 0.00197649]], shape=(1, 4), dtype=float32)\n",
      "[0.8, 0.4, 0.7, 0.4]\n",
      "tf.Tensor([[0.00133898 0.830767   0.16608511 0.00180902]], shape=(1, 4), dtype=float32)\n",
      "[0.6, 0.4, 0.7, 0.4]\n",
      "tf.Tensor([[0.00140051 0.8016761  0.19494686 0.00197649]], shape=(1, 4), dtype=float32)\n",
      "[0.8, 0.4, 0.7, 0.4]\n",
      "tf.Tensor([[0.00133898 0.830767   0.16608511 0.00180902]], shape=(1, 4), dtype=float32)\n",
      "[0.6, 0.4, 0.7, 0.4]\n",
      "tf.Tensor([[0.00140051 0.8016761  0.19494686 0.00197649]], shape=(1, 4), dtype=float32)\n",
      "[0.8, 0.4, 0.7, 0.4]\n",
      "tf.Tensor([[0.00133898 0.830767   0.16608511 0.00180902]], shape=(1, 4), dtype=float32)\n",
      "[0.6, 0.4, 0.7, 0.4]\n",
      "tf.Tensor([[0.00140051 0.8016761  0.19494686 0.00197649]], shape=(1, 4), dtype=float32)\n",
      "[0.8, 0.4, 0.7, 0.4]\n",
      "tf.Tensor([[0.00133898 0.830767   0.16608511 0.00180902]], shape=(1, 4), dtype=float32)\n",
      "[0.6, 0.4, 0.7, 0.4]\n",
      "tf.Tensor([[0.00140051 0.8016761  0.19494686 0.00197649]], shape=(1, 4), dtype=float32)\n",
      "[0.8, 0.4, 0.7, 0.4]\n",
      "tf.Tensor([[0.00133898 0.830767   0.16608511 0.00180902]], shape=(1, 4), dtype=float32)\n",
      "[0.6, 0.4, 0.7, 0.4]\n",
      "tf.Tensor([[0.00140051 0.8016761  0.19494686 0.00197649]], shape=(1, 4), dtype=float32)\n",
      "[0.8, 0.4, 0.7, 0.4]\n",
      "tf.Tensor([[0.00133898 0.830767   0.16608511 0.00180902]], shape=(1, 4), dtype=float32)\n",
      "[0.6, 0.4, 0.7, 0.4]\n",
      "tf.Tensor([[0.00140051 0.8016761  0.19494686 0.00197649]], shape=(1, 4), dtype=float32)\n",
      "[0.8, 0.4, 0.7, 0.4]\n",
      "tf.Tensor([[0.00133898 0.830767   0.16608511 0.00180902]], shape=(1, 4), dtype=float32)\n",
      "[0.6, 0.4, 0.7, 0.4]\n",
      "tf.Tensor([[0.00140051 0.8016761  0.19494686 0.00197649]], shape=(1, 4), dtype=float32)\n",
      "[0.8, 0.4, 0.7, 0.4]\n",
      "tf.Tensor([[0.00133898 0.830767   0.16608511 0.00180902]], shape=(1, 4), dtype=float32)\n",
      "[0.6, 0.4, 0.7, 0.4]\n",
      "tf.Tensor([[0.00140051 0.8016761  0.19494686 0.00197649]], shape=(1, 4), dtype=float32)\n",
      "[0.8, 0.4, 0.7, 0.4]\n",
      "tf.Tensor([[0.00133898 0.830767   0.16608511 0.00180902]], shape=(1, 4), dtype=float32)\n",
      "[0.6, 0.4, 0.7, 0.4]\n",
      "tf.Tensor([[0.00140051 0.8016761  0.19494686 0.00197649]], shape=(1, 4), dtype=float32)\n",
      "[0.8, 0.4, 0.7, 0.4]\n",
      "tf.Tensor([[0.00133898 0.830767   0.16608511 0.00180902]], shape=(1, 4), dtype=float32)\n",
      "[0.6, 0.4, 0.7, 0.4]\n",
      "tf.Tensor([[0.00140051 0.8016761  0.19494686 0.00197649]], shape=(1, 4), dtype=float32)\n",
      "[0.8, 0.4, 0.7, 0.4]\n",
      "tf.Tensor([[0.00133898 0.830767   0.16608511 0.00180902]], shape=(1, 4), dtype=float32)\n",
      "[0.6, 0.4, 0.7, 0.4]\n",
      "tf.Tensor([[0.00140051 0.8016761  0.19494686 0.00197649]], shape=(1, 4), dtype=float32)\n"
     ]
    },
    {
     "name": "stderr",
     "output_type": "stream",
     "text": [
      "\r",
      " 20%|█████████████▉                                                        | 19901/100000 [5:41:11<18:54:44,  1.18it/s]"
     ]
    },
    {
     "name": "stdout",
     "output_type": "stream",
     "text": [
      "[0.8, 0.4, 0.7, 0.4]\n",
      "tf.Tensor([[0.00133898 0.830767   0.16608511 0.00180902]], shape=(1, 4), dtype=float32)\n",
      "[0.6, 0.4, 0.7, 0.4]\n",
      "tf.Tensor([[0.00140051 0.8016761  0.19494686 0.00197649]], shape=(1, 4), dtype=float32)\n",
      "[0.8, 0.4, 0.7, 0.4]\n",
      "tf.Tensor([[0.00133898 0.830767   0.16608511 0.00180902]], shape=(1, 4), dtype=float32)\n",
      "[0.6, 0.4, 0.7, 0.4]\n",
      "tf.Tensor([[0.00140051 0.8016761  0.19494686 0.00197649]], shape=(1, 4), dtype=float32)\n",
      "[0.8, 0.4, 0.7, 0.4]\n",
      "tf.Tensor([[0.00133898 0.830767   0.16608511 0.00180902]], shape=(1, 4), dtype=float32)\n",
      "[0.6, 0.4, 0.7, 0.4]\n",
      "tf.Tensor([[0.00140051 0.8016761  0.19494686 0.00197649]], shape=(1, 4), dtype=float32)\n",
      "[0.8, 0.4, 0.7, 0.4]\n",
      "tf.Tensor([[0.00133898 0.830767   0.16608511 0.00180902]], shape=(1, 4), dtype=float32)\n",
      "[0.6, 0.4, 0.7, 0.4]\n",
      "tf.Tensor([[0.00140051 0.8016761  0.19494686 0.00197649]], shape=(1, 4), dtype=float32)\n",
      "[0.8, 0.4, 0.7, 0.4]\n",
      "tf.Tensor([[0.00133898 0.830767   0.16608511 0.00180902]], shape=(1, 4), dtype=float32)\n",
      "[0.6, 0.4, 0.7, 0.4]\n",
      "tf.Tensor([[0.00140051 0.8016761  0.19494686 0.00197649]], shape=(1, 4), dtype=float32)\n",
      "[0.8, 0.4, 0.7, 0.4]\n",
      "tf.Tensor([[0.00133898 0.830767   0.16608511 0.00180902]], shape=(1, 4), dtype=float32)\n",
      "[0.6, 0.4, 0.7, 0.4]\n",
      "tf.Tensor([[0.00140051 0.8016761  0.19494686 0.00197649]], shape=(1, 4), dtype=float32)\n"
     ]
    },
    {
     "name": "stderr",
     "output_type": "stream",
     "text": [
      " 20%|██████████████                                                        | 20001/100000 [5:43:01<23:04:07,  1.04s/it]"
     ]
    },
    {
     "name": "stdout",
     "output_type": "stream",
     "text": [
      "-5.546417827303499\n",
      "94\n"
     ]
    },
    {
     "name": "stderr",
     "output_type": "stream",
     "text": [
      " 20%|██████████████                                                        | 20100/100000 [5:45:16<21:18:35,  1.04it/s]"
     ]
    },
    {
     "name": "stdout",
     "output_type": "stream",
     "text": [
      "-9.370370606053168\n",
      "94\n",
      "[0.2, 0.9, 0.5, 0.7]\n",
      "tf.Tensor([[2.9173485e-04 9.2330861e-01 7.4175812e-02 2.2238006e-03]], shape=(1, 4), dtype=float32)\n",
      "[0.4, 0.9, 0.5, 0.7]\n",
      "tf.Tensor([[2.9272932e-04 9.2752051e-01 7.0435882e-02 1.7509214e-03]], shape=(1, 4), dtype=float32)\n",
      "[0.4, 0.7, 0.5, 0.7]\n",
      "tf.Tensor([[3.2635653e-04 9.1305161e-01 8.5054003e-02 1.5680395e-03]], shape=(1, 4), dtype=float32)\n",
      "[0.6, 0.7, 0.5, 0.7]\n",
      "tf.Tensor([[6.3747622e-04 8.9291102e-01 1.0524621e-01 1.2052964e-03]], shape=(1, 4), dtype=float32)\n",
      "[0.4, 0.7, 0.5, 0.7]\n",
      "tf.Tensor([[5.7313143e-04 8.8107747e-01 1.1705275e-01 1.2966830e-03]], shape=(1, 4), dtype=float32)\n",
      "[0.6, 0.7, 0.5, 0.7]\n",
      "tf.Tensor([[0.00093695 0.88956505 0.10834676 0.00115127]], shape=(1, 4), dtype=float32)\n",
      "[0.4, 0.7, 0.5, 0.7]\n",
      "tf.Tensor([[0.00097896 0.8662162  0.13151091 0.00129403]], shape=(1, 4), dtype=float32)\n",
      "[0.6, 0.7, 0.5, 0.7]\n",
      "tf.Tensor([[0.00093695 0.88956505 0.10834676 0.00115127]], shape=(1, 4), dtype=float32)\n",
      "[0.4, 0.7, 0.5, 0.7]\n",
      "tf.Tensor([[0.00097896 0.8662162  0.13151091 0.00129403]], shape=(1, 4), dtype=float32)\n",
      "[0.6, 0.7, 0.5, 0.7]\n",
      "tf.Tensor([[0.00093695 0.88956505 0.10834676 0.00115127]], shape=(1, 4), dtype=float32)\n",
      "[0.4, 0.7, 0.5, 0.7]\n",
      "tf.Tensor([[0.00097896 0.8662162  0.13151091 0.00129403]], shape=(1, 4), dtype=float32)\n",
      "[0.6, 0.7, 0.5, 0.7]\n",
      "tf.Tensor([[0.00093695 0.88956505 0.10834676 0.00115127]], shape=(1, 4), dtype=float32)\n",
      "[0.4, 0.7, 0.5, 0.7]\n",
      "tf.Tensor([[0.00097896 0.8662162  0.13151091 0.00129403]], shape=(1, 4), dtype=float32)\n",
      "[0.6, 0.7, 0.5, 0.7]\n",
      "tf.Tensor([[0.00093695 0.88956505 0.10834676 0.00115127]], shape=(1, 4), dtype=float32)\n",
      "[0.4, 0.7, 0.5, 0.7]\n",
      "tf.Tensor([[0.00097896 0.8662162  0.13151091 0.00129403]], shape=(1, 4), dtype=float32)\n",
      "[0.6, 0.7, 0.5, 0.7]\n",
      "tf.Tensor([[0.00093695 0.88956505 0.10834676 0.00115127]], shape=(1, 4), dtype=float32)\n",
      "[0.4, 0.7, 0.5, 0.7]\n",
      "tf.Tensor([[0.00097896 0.8662162  0.13151091 0.00129403]], shape=(1, 4), dtype=float32)\n",
      "[0.6, 0.7, 0.5, 0.7]\n",
      "tf.Tensor([[0.00093695 0.88956505 0.10834676 0.00115127]], shape=(1, 4), dtype=float32)\n",
      "[0.4, 0.7, 0.5, 0.7]\n",
      "tf.Tensor([[0.00097896 0.8662162  0.13151091 0.00129403]], shape=(1, 4), dtype=float32)\n",
      "[0.6, 0.7, 0.5, 0.7]\n",
      "tf.Tensor([[0.00093695 0.88956505 0.10834676 0.00115127]], shape=(1, 4), dtype=float32)\n",
      "[0.4, 0.7, 0.5, 0.7]\n",
      "tf.Tensor([[0.00097896 0.8662162  0.13151091 0.00129403]], shape=(1, 4), dtype=float32)\n",
      "[0.6, 0.7, 0.5, 0.7]\n",
      "tf.Tensor([[0.00093695 0.88956505 0.10834676 0.00115127]], shape=(1, 4), dtype=float32)\n",
      "[0.4, 0.7, 0.5, 0.7]\n",
      "tf.Tensor([[0.00097896 0.8662162  0.13151091 0.00129403]], shape=(1, 4), dtype=float32)\n",
      "[0.6, 0.7, 0.5, 0.7]\n",
      "tf.Tensor([[0.00093695 0.88956505 0.10834676 0.00115127]], shape=(1, 4), dtype=float32)\n",
      "[0.4, 0.7, 0.5, 0.7]\n",
      "tf.Tensor([[0.00097896 0.8662162  0.13151091 0.00129403]], shape=(1, 4), dtype=float32)\n",
      "[0.6, 0.7, 0.5, 0.7]\n",
      "tf.Tensor([[0.00093695 0.88956505 0.10834676 0.00115127]], shape=(1, 4), dtype=float32)\n",
      "[0.4, 0.7, 0.5, 0.7]\n",
      "tf.Tensor([[0.00097896 0.8662162  0.13151091 0.00129403]], shape=(1, 4), dtype=float32)"
     ]
    },
    {
     "name": "stderr",
     "output_type": "stream",
     "text": [
      "\r",
      " 20%|██████████████                                                        | 20101/100000 [5:45:19<35:23:50,  1.59s/it]"
     ]
    },
    {
     "name": "stdout",
     "output_type": "stream",
     "text": [
      "\n",
      "[0.6, 0.7, 0.5, 0.7]\n",
      "tf.Tensor([[0.00093695 0.88956505 0.10834676 0.00115127]], shape=(1, 4), dtype=float32)\n",
      "[0.4, 0.7, 0.5, 0.7]\n",
      "tf.Tensor([[0.00097896 0.8662162  0.13151091 0.00129403]], shape=(1, 4), dtype=float32)\n",
      "[0.6, 0.7, 0.5, 0.7]\n",
      "tf.Tensor([[0.00093695 0.88956505 0.10834676 0.00115127]], shape=(1, 4), dtype=float32)\n",
      "[0.4, 0.7, 0.5, 0.7]\n",
      "tf.Tensor([[0.00097896 0.8662162  0.13151091 0.00129403]], shape=(1, 4), dtype=float32)\n",
      "[0.6, 0.7, 0.5, 0.7]\n",
      "tf.Tensor([[0.00093695 0.88956505 0.10834676 0.00115127]], shape=(1, 4), dtype=float32)\n",
      "[0.4, 0.7, 0.5, 0.7]\n",
      "tf.Tensor([[0.00097896 0.8662162  0.13151091 0.00129403]], shape=(1, 4), dtype=float32)\n",
      "[0.6, 0.7, 0.5, 0.7]\n",
      "tf.Tensor([[0.00093695 0.88956505 0.10834676 0.00115127]], shape=(1, 4), dtype=float32)\n",
      "[0.4, 0.7, 0.5, 0.7]\n",
      "tf.Tensor([[0.00097896 0.8662162  0.13151091 0.00129403]], shape=(1, 4), dtype=float32)\n",
      "[0.6, 0.7, 0.5, 0.7]\n",
      "tf.Tensor([[0.00093695 0.88956505 0.10834676 0.00115127]], shape=(1, 4), dtype=float32)\n",
      "[0.4, 0.7, 0.5, 0.7]\n",
      "tf.Tensor([[0.00097896 0.8662162  0.13151091 0.00129403]], shape=(1, 4), dtype=float32)\n",
      "[0.6, 0.7, 0.5, 0.7]\n",
      "tf.Tensor([[0.00093695 0.88956505 0.10834676 0.00115127]], shape=(1, 4), dtype=float32)\n",
      "[0.4, 0.7, 0.5, 0.7]\n",
      "tf.Tensor([[0.00097896 0.8662162  0.13151091 0.00129403]], shape=(1, 4), dtype=float32)\n",
      "[0.6, 0.7, 0.5, 0.7]\n",
      "tf.Tensor([[0.00093695 0.88956505 0.10834676 0.00115127]], shape=(1, 4), dtype=float32)\n"
     ]
    },
    {
     "name": "stderr",
     "output_type": "stream",
     "text": [
      " 20%|██████████████▏                                                       | 20190/100000 [5:46:43<22:50:34,  1.03s/it]\n"
     ]
    },
    {
     "ename": "KeyboardInterrupt",
     "evalue": "",
     "output_type": "error",
     "traceback": [
      "\u001b[1;31m---------------------------------------------------------------------------\u001b[0m",
      "\u001b[1;31mKeyboardInterrupt\u001b[0m                         Traceback (most recent call last)",
      "\u001b[1;32m<ipython-input-5-9b6c7a54f83c>\u001b[0m in \u001b[0;36m<module>\u001b[1;34m\u001b[0m\n\u001b[1;32m----> 1\u001b[1;33m \u001b[0magent\u001b[0m\u001b[1;33m.\u001b[0m\u001b[0mlearn\u001b[0m\u001b[1;33m(\u001b[0m\u001b[1;33m)\u001b[0m\u001b[1;33m\u001b[0m\u001b[1;33m\u001b[0m\u001b[0m\n\u001b[0m",
      "\u001b[1;32m<ipython-input-3-cfc1b84246e5>\u001b[0m in \u001b[0;36mlearn\u001b[1;34m(self)\u001b[0m\n\u001b[0;32m    116\u001b[0m             \u001b[0mself\u001b[0m\u001b[1;33m.\u001b[0m\u001b[0moptimizer_actors\u001b[0m\u001b[1;33m.\u001b[0m\u001b[0mapply_gradients\u001b[0m\u001b[1;33m(\u001b[0m\u001b[0mzip\u001b[0m\u001b[1;33m(\u001b[0m\u001b[0mgrads\u001b[0m\u001b[1;33m,\u001b[0m \u001b[0mself\u001b[0m\u001b[1;33m.\u001b[0m\u001b[0masst_actor\u001b[0m\u001b[1;33m.\u001b[0m\u001b[0mmodel\u001b[0m\u001b[1;33m.\u001b[0m\u001b[0mtrainable_variables\u001b[0m\u001b[1;33m)\u001b[0m\u001b[1;33m)\u001b[0m\u001b[1;33m\u001b[0m\u001b[1;33m\u001b[0m\u001b[0m\n\u001b[0;32m    117\u001b[0m \u001b[1;33m\u001b[0m\u001b[0m\n\u001b[1;32m--> 118\u001b[1;33m             \u001b[0mgrads\u001b[0m \u001b[1;33m=\u001b[0m \u001b[0mtape\u001b[0m\u001b[1;33m.\u001b[0m\u001b[0mgradient\u001b[0m\u001b[1;33m(\u001b[0m\u001b[0mcritic_loss\u001b[0m\u001b[1;33m,\u001b[0m \u001b[0mself\u001b[0m\u001b[1;33m.\u001b[0m\u001b[0mcritic\u001b[0m\u001b[1;33m.\u001b[0m\u001b[0mmodel\u001b[0m\u001b[1;33m.\u001b[0m\u001b[0mtrainable_variables\u001b[0m\u001b[1;33m)\u001b[0m\u001b[1;33m\u001b[0m\u001b[1;33m\u001b[0m\u001b[0m\n\u001b[0m\u001b[0;32m    119\u001b[0m             \u001b[0mself\u001b[0m\u001b[1;33m.\u001b[0m\u001b[0moptimizer_critic\u001b[0m\u001b[1;33m.\u001b[0m\u001b[0mapply_gradients\u001b[0m\u001b[1;33m(\u001b[0m\u001b[0mzip\u001b[0m\u001b[1;33m(\u001b[0m\u001b[0mgrads\u001b[0m\u001b[1;33m,\u001b[0m \u001b[0mself\u001b[0m\u001b[1;33m.\u001b[0m\u001b[0mcritic\u001b[0m\u001b[1;33m.\u001b[0m\u001b[0mmodel\u001b[0m\u001b[1;33m.\u001b[0m\u001b[0mtrainable_variables\u001b[0m\u001b[1;33m)\u001b[0m\u001b[1;33m)\u001b[0m\u001b[1;33m\u001b[0m\u001b[1;33m\u001b[0m\u001b[0m\n\u001b[0;32m    120\u001b[0m \u001b[1;33m\u001b[0m\u001b[0m\n",
      "\u001b[1;32m~\\AppData\\Roaming\\Python\\Python37\\site-packages\\tensorflow\\python\\eager\\backprop.py\u001b[0m in \u001b[0;36mgradient\u001b[1;34m(self, target, sources, output_gradients, unconnected_gradients)\u001b[0m\n\u001b[0;32m   1071\u001b[0m         \u001b[0moutput_gradients\u001b[0m\u001b[1;33m=\u001b[0m\u001b[0moutput_gradients\u001b[0m\u001b[1;33m,\u001b[0m\u001b[1;33m\u001b[0m\u001b[1;33m\u001b[0m\u001b[0m\n\u001b[0;32m   1072\u001b[0m         \u001b[0msources_raw\u001b[0m\u001b[1;33m=\u001b[0m\u001b[0mflat_sources_raw\u001b[0m\u001b[1;33m,\u001b[0m\u001b[1;33m\u001b[0m\u001b[1;33m\u001b[0m\u001b[0m\n\u001b[1;32m-> 1073\u001b[1;33m         unconnected_gradients=unconnected_gradients)\n\u001b[0m\u001b[0;32m   1074\u001b[0m \u001b[1;33m\u001b[0m\u001b[0m\n\u001b[0;32m   1075\u001b[0m     \u001b[1;32mif\u001b[0m \u001b[1;32mnot\u001b[0m \u001b[0mself\u001b[0m\u001b[1;33m.\u001b[0m\u001b[0m_persistent\u001b[0m\u001b[1;33m:\u001b[0m\u001b[1;33m\u001b[0m\u001b[1;33m\u001b[0m\u001b[0m\n",
      "\u001b[1;32m~\\AppData\\Roaming\\Python\\Python37\\site-packages\\tensorflow\\python\\eager\\imperative_grad.py\u001b[0m in \u001b[0;36mimperative_grad\u001b[1;34m(tape, target, sources, output_gradients, sources_raw, unconnected_gradients)\u001b[0m\n\u001b[0;32m     75\u001b[0m       \u001b[0moutput_gradients\u001b[0m\u001b[1;33m,\u001b[0m\u001b[1;33m\u001b[0m\u001b[1;33m\u001b[0m\u001b[0m\n\u001b[0;32m     76\u001b[0m       \u001b[0msources_raw\u001b[0m\u001b[1;33m,\u001b[0m\u001b[1;33m\u001b[0m\u001b[1;33m\u001b[0m\u001b[0m\n\u001b[1;32m---> 77\u001b[1;33m       compat.as_str(unconnected_gradients.value))\n\u001b[0m",
      "\u001b[1;32m~\\AppData\\Roaming\\Python\\Python37\\site-packages\\tensorflow\\python\\eager\\backprop.py\u001b[0m in \u001b[0;36m_gradient_function\u001b[1;34m(op_name, attr_tuple, num_inputs, inputs, outputs, out_grads, skip_input_indices, forward_pass_name_scope)\u001b[0m\n\u001b[0;32m    160\u001b[0m       \u001b[0mgradient_name_scope\u001b[0m \u001b[1;33m+=\u001b[0m \u001b[0mforward_pass_name_scope\u001b[0m \u001b[1;33m+\u001b[0m \u001b[1;34m\"/\"\u001b[0m\u001b[1;33m\u001b[0m\u001b[1;33m\u001b[0m\u001b[0m\n\u001b[0;32m    161\u001b[0m     \u001b[1;32mwith\u001b[0m \u001b[0mops\u001b[0m\u001b[1;33m.\u001b[0m\u001b[0mname_scope\u001b[0m\u001b[1;33m(\u001b[0m\u001b[0mgradient_name_scope\u001b[0m\u001b[1;33m)\u001b[0m\u001b[1;33m:\u001b[0m\u001b[1;33m\u001b[0m\u001b[1;33m\u001b[0m\u001b[0m\n\u001b[1;32m--> 162\u001b[1;33m       \u001b[1;32mreturn\u001b[0m \u001b[0mgrad_fn\u001b[0m\u001b[1;33m(\u001b[0m\u001b[0mmock_op\u001b[0m\u001b[1;33m,\u001b[0m \u001b[1;33m*\u001b[0m\u001b[0mout_grads\u001b[0m\u001b[1;33m)\u001b[0m\u001b[1;33m\u001b[0m\u001b[1;33m\u001b[0m\u001b[0m\n\u001b[0m\u001b[0;32m    163\u001b[0m   \u001b[1;32melse\u001b[0m\u001b[1;33m:\u001b[0m\u001b[1;33m\u001b[0m\u001b[1;33m\u001b[0m\u001b[0m\n\u001b[0;32m    164\u001b[0m     \u001b[1;32mreturn\u001b[0m \u001b[0mgrad_fn\u001b[0m\u001b[1;33m(\u001b[0m\u001b[0mmock_op\u001b[0m\u001b[1;33m,\u001b[0m \u001b[1;33m*\u001b[0m\u001b[0mout_grads\u001b[0m\u001b[1;33m)\u001b[0m\u001b[1;33m\u001b[0m\u001b[1;33m\u001b[0m\u001b[0m\n",
      "\u001b[1;32m~\\AppData\\Roaming\\Python\\Python37\\site-packages\\tensorflow\\python\\ops\\nn_grad.py\u001b[0m in \u001b[0;36m_BiasAddGrad\u001b[1;34m(op, received_grad)\u001b[0m\n\u001b[0;32m    350\u001b[0m   return (received_grad,\n\u001b[0;32m    351\u001b[0m           gen_nn_ops.bias_add_grad(\n\u001b[1;32m--> 352\u001b[1;33m               out_backprop=received_grad, data_format=data_format))\n\u001b[0m\u001b[0;32m    353\u001b[0m \u001b[1;33m\u001b[0m\u001b[0m\n\u001b[0;32m    354\u001b[0m \u001b[1;33m\u001b[0m\u001b[0m\n",
      "\u001b[1;32m~\\AppData\\Roaming\\Python\\Python37\\site-packages\\tensorflow\\python\\ops\\gen_nn_ops.py\u001b[0m in \u001b[0;36mbias_add_grad\u001b[1;34m(out_backprop, data_format, name)\u001b[0m\n\u001b[0;32m    752\u001b[0m       _result = pywrap_tfe.TFE_Py_FastPathExecute(\n\u001b[0;32m    753\u001b[0m         \u001b[0m_ctx\u001b[0m\u001b[1;33m.\u001b[0m\u001b[0m_context_handle\u001b[0m\u001b[1;33m,\u001b[0m \u001b[0mtld\u001b[0m\u001b[1;33m.\u001b[0m\u001b[0mdevice_name\u001b[0m\u001b[1;33m,\u001b[0m \u001b[1;34m\"BiasAddGrad\"\u001b[0m\u001b[1;33m,\u001b[0m \u001b[0mname\u001b[0m\u001b[1;33m,\u001b[0m\u001b[1;33m\u001b[0m\u001b[1;33m\u001b[0m\u001b[0m\n\u001b[1;32m--> 754\u001b[1;33m         tld.op_callbacks, out_backprop, \"data_format\", data_format)\n\u001b[0m\u001b[0;32m    755\u001b[0m       \u001b[1;32mreturn\u001b[0m \u001b[0m_result\u001b[0m\u001b[1;33m\u001b[0m\u001b[1;33m\u001b[0m\u001b[0m\n\u001b[0;32m    756\u001b[0m     \u001b[1;32mexcept\u001b[0m \u001b[0m_core\u001b[0m\u001b[1;33m.\u001b[0m\u001b[0m_NotOkStatusException\u001b[0m \u001b[1;32mas\u001b[0m \u001b[0me\u001b[0m\u001b[1;33m:\u001b[0m\u001b[1;33m\u001b[0m\u001b[1;33m\u001b[0m\u001b[0m\n",
      "\u001b[1;31mKeyboardInterrupt\u001b[0m: "
     ]
    }
   ],
   "source": [
    "agent.learn()"
   ]
  },
  {
   "cell_type": "code",
   "execution_count": null,
   "metadata": {},
   "outputs": [],
   "source": [
    "agent.trial()"
   ]
  },
  {
   "cell_type": "code",
   "execution_count": null,
   "metadata": {},
   "outputs": [],
   "source": []
  }
 ],
 "metadata": {
  "kernelspec": {
   "display_name": "tfgpu",
   "language": "python",
   "name": "tfgpu"
  },
  "language_info": {
   "codemirror_mode": {
    "name": "ipython",
    "version": 3
   },
   "file_extension": ".py",
   "mimetype": "text/x-python",
   "name": "python",
   "nbconvert_exporter": "python",
   "pygments_lexer": "ipython3",
   "version": "3.7.8"
  }
 },
 "nbformat": 4,
 "nbformat_minor": 4
}
