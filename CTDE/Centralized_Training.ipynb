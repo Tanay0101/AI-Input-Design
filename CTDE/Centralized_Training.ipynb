{
 "cells": [
  {
   "cell_type": "code",
   "execution_count": 1,
   "metadata": {},
   "outputs": [],
   "source": [
    "import os\n",
    "from copy import deepcopy\n",
    "\n",
    "from tqdm import tqdm\n",
    "import numpy as np\n",
    "import tensorflow as tf\n",
    "from tensorflow import keras\n",
    "import matplotlib.pyplot as plt\n",
    "\n",
    "from Environment import Environment, make_one_hot, give_mapping\n",
    "from Networks import UserActor, AsstActor, CentralizedCritic"
   ]
  },
  {
   "cell_type": "code",
   "execution_count": 2,
   "metadata": {},
   "outputs": [],
   "source": [
    "def give_prev_steps(prev_steps_assist, steps):\n",
    "    prev_steps_assist = [[0,0,0,0,-1,-1] for i in range(steps-1)]\n",
    "    return prev_steps_assist"
   ]
  },
  {
   "cell_type": "code",
   "execution_count": 3,
   "metadata": {},
   "outputs": [],
   "source": [
    "class Agent:\n",
    "    def __init__(self):\n",
    "        self.memory_len = 4\n",
    "        self.user_actor = UserActor()\n",
    "        self.asst_actor = AsstActor(self.memory_len)\n",
    "        self.user_critic = CentralizedCritic(self.memory_len)\n",
    "        self.asst_critic = CentralizedCritic(self.memory_len)\n",
    "        self.optimizer_actors = tf.keras.optimizers.Adam(lr = 0.0001)\n",
    "        self.optimizer_critic = tf.keras.optimizers.Adam(lr = 0.0002)\n",
    "        self.huber_loss = tf.keras.losses.Huber()\n",
    "        \n",
    "        \n",
    "        self.gamma = 0.90\n",
    "        self.env = Environment()\n",
    "        self.env.cells = np.array([[0.7, 0.1], [0.1, 0.1], [0.5, 0.7], [0.6, 0.2], [0.7, 0.4], [0.2, 0.9]])\n",
    "        self.env_cell_mapping = give_mapping(self.env.cells)\n",
    "        self.env_cell_mapping = self.env_cell_mapping[np.newaxis, :, :, np.newaxis]\n",
    "        self.eps = 10e-6\n",
    "    \n",
    "    def learn(self):\n",
    "        env = self.env\n",
    "        max_steps = 40\n",
    "        running_reward = 0\n",
    "        reached = 0\n",
    "        best = 0\n",
    "        \n",
    "        for epoch in tqdm(range(30000)):\n",
    "            \n",
    "            user_action_probs_history = []\n",
    "            asst_action_probs_history = []\n",
    "            user_critic_value_history = []\n",
    "            asst_critic_value_history = []\n",
    "            rewards_history = []\n",
    "            returns = [] #Returns\n",
    "            \n",
    "            done = False\n",
    "            episode_reward = 0\n",
    "            start, dest = env.give_start_dest()\n",
    "            ob_user = [start[0], start[1], dest[0], dest[1]]\n",
    "            prev_steps_assist = []\n",
    "            prev_steps_assist = give_prev_steps(prev_steps_assist, self.memory_len)\n",
    "            step = 0\n",
    "            episode_reward = 0\n",
    "            \n",
    "            with tf.GradientTape(persistent = True) as tape:\n",
    "                while not done and step<max_steps:\n",
    "                    curr_loc = ob_user[:2]\n",
    "                    target_loc = ob_user[2:4]\n",
    "                    step+=1\n",
    "                    ob_user = np.array(ob_user)[np.newaxis]\n",
    "                    user_probs = self.user_actor.model(ob_user)\n",
    "                    user_action = np.random.choice(4, p=np.squeeze(user_probs))\n",
    "                    user_action_probs_history.append(tf.math.log(user_probs[0, user_action]))\n",
    "\n",
    "                    action_user_one_hot = make_one_hot(user_action, 4)\n",
    "\n",
    "                    ob_assist = [action_user_one_hot + curr_loc] \n",
    "                    ob_assist = prev_steps_assist + ob_assist\n",
    "                    ob_assist = np.array(ob_assist)[np.newaxis]\n",
    "                    \n",
    "                    asst_probs = self.asst_actor.model([ob_assist, self.env_cell_mapping])\n",
    "                    asst_action = np.random.choice(4, p=np.squeeze(asst_probs))\n",
    "                    asst_action_probs_history.append(tf.math.log(asst_probs[0, asst_action]))\n",
    "                    \n",
    "                    asst_output_one_hot = np.array(make_one_hot(asst_action, 4))[np.newaxis]\n",
    "                    \n",
    "                    user_critic_value = self.user_critic.model([ob_user, ob_assist, self.env_cell_mapping, asst_output_one_hot])\n",
    "                    user_critic_value_history.append(user_critic_value)\n",
    "                    \n",
    "                    asst_critic_value = self.asst_critic.model([ob_user, ob_assist, self.env_cell_mapping, asst_output_one_hot])\n",
    "                    asst_critic_value_history.append(asst_critic_value)\n",
    "                    \n",
    "                    new_loc, reward_user, reward_assist, done = self.env.step(user_action, asst_action + 1, target_loc, curr_loc)\n",
    "                    \n",
    "                    next_ob_user = new_loc[:]\n",
    "                    next_ob_user = next_ob_user + target_loc\n",
    "\n",
    "                    ob_user = next_ob_user\n",
    "                    prev_steps_assist = np.squeeze(ob_assist).tolist()[1:]\n",
    "                    \n",
    "                    rewards_history.append(reward_user)\n",
    "                    episode_reward+=reward_user\n",
    "                    \n",
    "                    if done:\n",
    "                        reached += 1\n",
    "\n",
    "                running_reward = 0.05 * episode_reward + (1 - 0.05) * running_reward\n",
    "\n",
    "                discounted_sum = 0\n",
    "                for r in rewards_history[::-1]:\n",
    "                    discounted_sum = r + self.gamma * discounted_sum\n",
    "                    returns.append(discounted_sum)\n",
    "                returns.reverse()\n",
    "                \n",
    "                user_critic_losses = []\n",
    "                asst_critic_losses = []\n",
    "                user_losses = []\n",
    "                asst_losses = []\n",
    "                \n",
    "                for log_prob_user, log_prob_asst, val_user, val_asst, ret in zip(user_action_probs_history, asst_action_probs_history, user_critic_value_history,\\\n",
    "                                                                 asst_critic_value_history, returns):\n",
    "                    diff_user = ret - val_user\n",
    "                    diff_asst = ret - val_asst\n",
    "                    user_losses.append(-log_prob_user*diff_user)\n",
    "                    asst_losses.append(-log_prob_asst*diff_asst)\n",
    "                    user_critic_losses.append(self.huber_loss(tf.expand_dims(val_user, 0), tf.expand_dims(ret, 0)))\n",
    "                    asst_critic_losses.append(self.huber_loss(tf.expand_dims(val_asst, 0), tf.expand_dims(ret, 0)))\n",
    "\n",
    "                user_loss = sum(user_losses)\n",
    "                asst_loss = sum(asst_losses)\n",
    "                user_critic_loss = sum(user_critic_losses)\n",
    "                asst_critic_loss = sum(asst_critic_losses)\n",
    "                \n",
    "            grads = tape.gradient(user_loss, self.user_actor.model.trainable_variables)\n",
    "            self.optimizer_actors.apply_gradients(zip(grads, self.user_actor.model.trainable_variables))\n",
    "\n",
    "            grads = tape.gradient(asst_loss, self.asst_actor.model.trainable_variables)\n",
    "            self.optimizer_actors.apply_gradients(zip(grads, self.asst_actor.model.trainable_variables))\n",
    "\n",
    "            grads = tape.gradient(user_critic_loss, self.user_critic.model.trainable_variables)\n",
    "            self.optimizer_critic.apply_gradients(zip(grads, self.user_critic.model.trainable_variables))\n",
    "            \n",
    "            grads = tape.gradient(asst_critic_loss, self.asst_critic.model.trainable_variables)\n",
    "            self.optimizer_critic.apply_gradients(zip(grads, self.asst_critic.model.trainable_variables))\n",
    "            \n",
    "            \n",
    "            if epoch%100 == 0:\n",
    "                print(running_reward)\n",
    "            \n",
    "            if epoch and epoch%100 == 0:\n",
    "                print(reached)\n",
    "                if reached>=best:\n",
    "                    best = reached\n",
    "                    tf.keras.models.save_model(self.user_actor.model, 'user.h5')\n",
    "                    tf.keras.models.save_model(self.asst_actor.model, 'asst.h5')\n",
    "                    tf.keras.models.save_model(self.user_critic.model, 'user_critic.h5')\n",
    "                    tf.keras.models.save_model(self.asst_critic.model, 'asst_critic.h5')\n",
    "                    \n",
    "                reached = 0\n",
    "                \n",
    "                if epoch%200 == 0:\n",
    "                    self.trial()\n",
    "                    \n",
    "                    if epoch%1000 == 0:\n",
    "                        max_steps -= 1\n",
    "                        max_steps = max(max_steps, 20)\n",
    "                \n",
    "                \n",
    "    def trial(self):\n",
    "        env = self.env\n",
    "        max_steps = 20\n",
    "        done = False\n",
    "        episode_reward = 0\n",
    "        start, dest = env.give_start_dest()\n",
    "        ob_user = [start[0], start[1], dest[0], dest[1]]\n",
    "        prev_steps_assist = []\n",
    "        prev_steps_assist = give_prev_steps(prev_steps_assist, self.memory_len)\n",
    "        step = 0\n",
    "        episode_reward = 0\n",
    "\n",
    "        while not done and step<max_steps:\n",
    "            curr_loc = ob_user[:2]\n",
    "            target_loc = ob_user[2:4]\n",
    "            step+=1\n",
    "            print(ob_user)\n",
    "\n",
    "            ob_user = np.array(ob_user)[np.newaxis]\n",
    "            user_probs = self.user_actor.model(ob_user)\n",
    "            user_action = np.argmax(np.squeeze(user_probs))\n",
    "\n",
    "            action_user_one_hot = make_one_hot(user_action, 4)\n",
    "\n",
    "            ob_assist = [action_user_one_hot + curr_loc] \n",
    "            ob_assist = prev_steps_assist + ob_assist\n",
    "            ob_assist = np.array(ob_assist)[np.newaxis]\n",
    "\n",
    "            asst_probs = self.asst_actor.model([ob_assist, self.env_cell_mapping])\n",
    "            print(asst_probs)\n",
    "            asst_action = np.argmax(np.squeeze(asst_probs)) \n",
    "            new_loc, reward_user, reward_assist, done = self.env.step(user_action, asst_action + 1, target_loc, curr_loc)\n",
    "\n",
    "            next_ob_user = new_loc[:]\n",
    "            next_ob_user = next_ob_user + target_loc\n",
    "\n",
    "            ob_user = next_ob_user\n",
    "            prev_steps_assist = np.squeeze(ob_assist).tolist()[1:]\n",
    "            episode_reward+=reward_user\n",
    "\n",
    "\n"
   ]
  },
  {
   "cell_type": "code",
   "execution_count": 4,
   "metadata": {
    "scrolled": false
   },
   "outputs": [
    {
     "name": "stdout",
     "output_type": "stream",
     "text": [
      "Model: \"functional_1\"\n",
      "__________________________________________________________________________________________________\n",
      "Layer (type)                    Output Shape         Param #     Connected to                     \n",
      "==================================================================================================\n",
      "input_1 (InputLayer)            [(None, 4)]          0                                            \n",
      "__________________________________________________________________________________________________\n",
      "tf_op_layer_strided_slice (Tens [(None, 2)]          0           input_1[0][0]                    \n",
      "__________________________________________________________________________________________________\n",
      "tf_op_layer_strided_slice_1 (Te [(None, 2)]          0           input_1[0][0]                    \n",
      "__________________________________________________________________________________________________\n",
      "subtract (Subtract)             (None, 2)            0           tf_op_layer_strided_slice[0][0]  \n",
      "                                                                 tf_op_layer_strided_slice_1[0][0]\n",
      "__________________________________________________________________________________________________\n",
      "dense (Dense)                   (None, 32)           96          subtract[0][0]                   \n",
      "__________________________________________________________________________________________________\n",
      "dense_1 (Dense)                 (None, 64)           2112        dense[0][0]                      \n",
      "__________________________________________________________________________________________________\n",
      "dense_2 (Dense)                 (None, 4)            260         dense_1[0][0]                    \n",
      "==================================================================================================\n",
      "Total params: 2,468\n",
      "Trainable params: 2,468\n",
      "Non-trainable params: 0\n",
      "__________________________________________________________________________________________________\n",
      "Model: \"functional_3\"\n",
      "__________________________________________________________________________________________________\n",
      "Layer (type)                    Output Shape         Param #     Connected to                     \n",
      "==================================================================================================\n",
      "input_3 (InputLayer)            [(None, 11, 11, 1)]  0                                            \n",
      "__________________________________________________________________________________________________\n",
      "conv2d (Conv2D)                 (None, 9, 9, 2)      20          input_3[0][0]                    \n",
      "__________________________________________________________________________________________________\n",
      "input_2 (InputLayer)            [(None, 4, 6)]       0                                            \n",
      "__________________________________________________________________________________________________\n",
      "max_pooling2d (MaxPooling2D)    (None, 4, 4, 2)      0           conv2d[0][0]                     \n",
      "__________________________________________________________________________________________________\n",
      "dense_3 (Dense)                 (None, 4, 32)        224         input_2[0][0]                    \n",
      "__________________________________________________________________________________________________\n",
      "flatten (Flatten)               (None, 32)           0           max_pooling2d[0][0]              \n",
      "__________________________________________________________________________________________________\n",
      "lstm (LSTM)                     (None, 32)           8320        dense_3[0][0]                    \n",
      "__________________________________________________________________________________________________\n",
      "dense_4 (Dense)                 (None, 32)           1056        flatten[0][0]                    \n",
      "__________________________________________________________________________________________________\n",
      "concatenate (Concatenate)       (None, 64)           0           lstm[0][0]                       \n",
      "                                                                 dense_4[0][0]                    \n",
      "__________________________________________________________________________________________________\n",
      "dense_5 (Dense)                 (None, 32)           2080        concatenate[0][0]                \n",
      "__________________________________________________________________________________________________\n",
      "dense_6 (Dense)                 (None, 4)            132         dense_5[0][0]                    \n",
      "==================================================================================================\n",
      "Total params: 11,832\n",
      "Trainable params: 11,832\n",
      "Non-trainable params: 0\n",
      "__________________________________________________________________________________________________\n",
      "Model: \"functional_5\"\n",
      "__________________________________________________________________________________________________\n",
      "Layer (type)                    Output Shape         Param #     Connected to                     \n",
      "==================================================================================================\n",
      "input_4 (InputLayer)            [(None, 4)]          0                                            \n",
      "__________________________________________________________________________________________________\n",
      "tf_op_layer_strided_slice_2 (Te [(None, 2)]          0           input_4[0][0]                    \n",
      "__________________________________________________________________________________________________\n",
      "tf_op_layer_strided_slice_3 (Te [(None, 2)]          0           input_4[0][0]                    \n",
      "__________________________________________________________________________________________________\n",
      "input_6 (InputLayer)            [(None, 11, 11, 1)]  0                                            \n",
      "__________________________________________________________________________________________________\n",
      "subtract_1 (Subtract)           (None, 2)            0           tf_op_layer_strided_slice_2[0][0]\n",
      "                                                                 tf_op_layer_strided_slice_3[0][0]\n",
      "__________________________________________________________________________________________________\n",
      "conv2d_1 (Conv2D)               (None, 9, 9, 2)      20          input_6[0][0]                    \n",
      "__________________________________________________________________________________________________\n",
      "dense_7 (Dense)                 (None, 32)           96          subtract_1[0][0]                 \n",
      "__________________________________________________________________________________________________\n",
      "input_5 (InputLayer)            [(None, 4, 6)]       0                                            \n",
      "__________________________________________________________________________________________________\n",
      "max_pooling2d_1 (MaxPooling2D)  (None, 4, 4, 2)      0           conv2d_1[0][0]                   \n",
      "__________________________________________________________________________________________________\n",
      "dense_8 (Dense)                 (None, 64)           2112        dense_7[0][0]                    \n",
      "__________________________________________________________________________________________________\n",
      "dense_10 (Dense)                (None, 4, 32)        224         input_5[0][0]                    \n",
      "__________________________________________________________________________________________________\n",
      "flatten_1 (Flatten)             (None, 32)           0           max_pooling2d_1[0][0]            \n",
      "__________________________________________________________________________________________________\n",
      "input_7 (InputLayer)            [(None, 4)]          0                                            \n",
      "__________________________________________________________________________________________________\n",
      "dense_9 (Dense)                 (None, 32)           2080        dense_8[0][0]                    \n",
      "__________________________________________________________________________________________________\n",
      "lstm_1 (LSTM)                   (None, 32)           8320        dense_10[0][0]                   \n",
      "__________________________________________________________________________________________________\n",
      "dense_11 (Dense)                (None, 32)           1056        flatten_1[0][0]                  \n",
      "__________________________________________________________________________________________________\n",
      "dense_12 (Dense)                (None, 32)           160         input_7[0][0]                    \n",
      "__________________________________________________________________________________________________\n",
      "concatenate_1 (Concatenate)     (None, 128)          0           dense_9[0][0]                    \n",
      "                                                                 lstm_1[0][0]                     \n",
      "                                                                 dense_11[0][0]                   \n",
      "                                                                 dense_12[0][0]                   \n",
      "__________________________________________________________________________________________________\n",
      "dense_13 (Dense)                (None, 32)           4128        concatenate_1[0][0]              \n",
      "__________________________________________________________________________________________________\n",
      "dense_14 (Dense)                (None, 1)            33          dense_13[0][0]                   \n",
      "==================================================================================================\n",
      "Total params: 18,229\n",
      "Trainable params: 18,229\n",
      "Non-trainable params: 0\n",
      "__________________________________________________________________________________________________\n"
     ]
    },
    {
     "name": "stdout",
     "output_type": "stream",
     "text": [
      "Model: \"functional_7\"\n",
      "__________________________________________________________________________________________________\n",
      "Layer (type)                    Output Shape         Param #     Connected to                     \n",
      "==================================================================================================\n",
      "input_8 (InputLayer)            [(None, 4)]          0                                            \n",
      "__________________________________________________________________________________________________\n",
      "tf_op_layer_strided_slice_4 (Te [(None, 2)]          0           input_8[0][0]                    \n",
      "__________________________________________________________________________________________________\n",
      "tf_op_layer_strided_slice_5 (Te [(None, 2)]          0           input_8[0][0]                    \n",
      "__________________________________________________________________________________________________\n",
      "input_10 (InputLayer)           [(None, 11, 11, 1)]  0                                            \n",
      "__________________________________________________________________________________________________\n",
      "subtract_2 (Subtract)           (None, 2)            0           tf_op_layer_strided_slice_4[0][0]\n",
      "                                                                 tf_op_layer_strided_slice_5[0][0]\n",
      "__________________________________________________________________________________________________\n",
      "conv2d_2 (Conv2D)               (None, 9, 9, 2)      20          input_10[0][0]                   \n",
      "__________________________________________________________________________________________________\n",
      "dense_15 (Dense)                (None, 32)           96          subtract_2[0][0]                 \n",
      "__________________________________________________________________________________________________\n",
      "input_9 (InputLayer)            [(None, 4, 6)]       0                                            \n",
      "__________________________________________________________________________________________________\n",
      "max_pooling2d_2 (MaxPooling2D)  (None, 4, 4, 2)      0           conv2d_2[0][0]                   \n",
      "__________________________________________________________________________________________________\n",
      "dense_16 (Dense)                (None, 64)           2112        dense_15[0][0]                   \n",
      "__________________________________________________________________________________________________\n",
      "dense_18 (Dense)                (None, 4, 32)        224         input_9[0][0]                    \n",
      "__________________________________________________________________________________________________\n",
      "flatten_2 (Flatten)             (None, 32)           0           max_pooling2d_2[0][0]            \n",
      "__________________________________________________________________________________________________\n",
      "input_11 (InputLayer)           [(None, 4)]          0                                            \n",
      "__________________________________________________________________________________________________\n",
      "dense_17 (Dense)                (None, 32)           2080        dense_16[0][0]                   \n",
      "__________________________________________________________________________________________________\n",
      "lstm_2 (LSTM)                   (None, 32)           8320        dense_18[0][0]                   \n",
      "__________________________________________________________________________________________________\n",
      "dense_19 (Dense)                (None, 32)           1056        flatten_2[0][0]                  \n",
      "__________________________________________________________________________________________________\n",
      "dense_20 (Dense)                (None, 32)           160         input_11[0][0]                   \n",
      "__________________________________________________________________________________________________\n",
      "concatenate_2 (Concatenate)     (None, 128)          0           dense_17[0][0]                   \n",
      "                                                                 lstm_2[0][0]                     \n",
      "                                                                 dense_19[0][0]                   \n",
      "                                                                 dense_20[0][0]                   \n",
      "__________________________________________________________________________________________________\n",
      "dense_21 (Dense)                (None, 32)           4128        concatenate_2[0][0]              \n",
      "__________________________________________________________________________________________________\n",
      "dense_22 (Dense)                (None, 1)            33          dense_21[0][0]                   \n",
      "==================================================================================================\n",
      "Total params: 18,229\n",
      "Trainable params: 18,229\n",
      "Non-trainable params: 0\n",
      "__________________________________________________________________________________________________\n",
      "Icon Locations:\n",
      "[[0.9 0.4]\n",
      " [0.8 0.2]\n",
      " [0.1 0.6]\n",
      " [0.9 0.4]\n",
      " [0.7 0. ]\n",
      " [0.4 0.2]]\n",
      "Icon usage Probabilities\n",
      "[0.16666667 0.16666667 0.16666667 0.16666667 0.16666667 0.16666667]\n"
     ]
    }
   ],
   "source": [
    "agent = Agent()"
   ]
  },
  {
   "cell_type": "code",
   "execution_count": 5,
   "metadata": {
    "scrolled": true
   },
   "outputs": [
    {
     "name": "stderr",
     "output_type": "stream",
     "text": [
      "  0%|                                                                             | 1/30000 [00:05<42:06:12,  5.05s/it]"
     ]
    },
    {
     "name": "stdout",
     "output_type": "stream",
     "text": [
      "-2.0\n"
     ]
    },
    {
     "name": "stderr",
     "output_type": "stream",
     "text": [
      "  0%|▎                                                                          | 101/30000 [04:51<26:28:02,  3.19s/it]"
     ]
    },
    {
     "name": "stdout",
     "output_type": "stream",
     "text": [
      "-36.14820075912519\n",
      "21\n"
     ]
    },
    {
     "name": "stderr",
     "output_type": "stream",
     "text": [
      "  1%|▌                                                                          | 200/30000 [09:35<19:10:49,  2.32s/it]"
     ]
    },
    {
     "name": "stdout",
     "output_type": "stream",
     "text": [
      "-33.657586198904426\n",
      "15\n",
      "[0.6, 0.6, 0.7, 0.4]\n",
      "tf.Tensor([[0.30095667 0.20486178 0.27692947 0.21725208]], shape=(1, 4), dtype=float32)\n",
      "[0.7, 0.6, 0.7, 0.4]\n",
      "tf.Tensor([[0.2957715  0.21570912 0.26948315 0.21903615]], shape=(1, 4), dtype=float32)\n",
      "[0.8, 0.6, 0.7, 0.4]\n",
      "tf.Tensor([[0.29159722 0.22265004 0.26303595 0.22271678]], shape=(1, 4), dtype=float32)\n",
      "[0.9, 0.6, 0.7, 0.4]\n",
      "tf.Tensor([[0.28859216 0.22611584 0.25986817 0.22542377]], shape=(1, 4), dtype=float32)\n",
      "[1.0, 0.6, 0.7, 0.4]\n",
      "tf.Tensor([[0.28798774 0.22674307 0.25955424 0.22571494]], shape=(1, 4), dtype=float32)\n",
      "[1.0, 0.6, 0.7, 0.4]\n",
      "tf.Tensor([[0.28760308 0.22712258 0.259295   0.22597937]], shape=(1, 4), dtype=float32)\n",
      "[1.0, 0.6, 0.7, 0.4]\n",
      "tf.Tensor([[0.28739113 0.22730558 0.25914657 0.22615668]], shape=(1, 4), dtype=float32)\n",
      "[1.0, 0.6, 0.7, 0.4]\n",
      "tf.Tensor([[0.2872832  0.22740503 0.2590769  0.22623484]], shape=(1, 4), dtype=float32)\n",
      "[1.0, 0.6, 0.7, 0.4]\n",
      "tf.Tensor([[0.2872832  0.22740503 0.2590769  0.22623484]], shape=(1, 4), dtype=float32)\n",
      "[1.0, 0.6, 0.7, 0.4]\n",
      "tf.Tensor([[0.2872832  0.22740503 0.2590769  0.22623484]], shape=(1, 4), dtype=float32)\n",
      "[1.0, 0.6, 0.7, 0.4]\n",
      "tf.Tensor([[0.2872832  0.22740503 0.2590769  0.22623484]], shape=(1, 4), dtype=float32)\n",
      "[1.0, 0.6, 0.7, 0.4]\n",
      "tf.Tensor([[0.2872832  0.22740503 0.2590769  0.22623484]], shape=(1, 4), dtype=float32)\n",
      "[1.0, 0.6, 0.7, 0.4]\n",
      "tf.Tensor([[0.2872832  0.22740503 0.2590769  0.22623484]], shape=(1, 4), dtype=float32)\n",
      "[1.0, 0.6, 0.7, 0.4]\n",
      "tf.Tensor([[0.2872832  0.22740503 0.2590769  0.22623484]], shape=(1, 4), dtype=float32)\n",
      "[1.0, 0.6, 0.7, 0.4]\n",
      "tf.Tensor([[0.2872832  0.22740503 0.2590769  0.22623484]], shape=(1, 4), dtype=float32)\n",
      "[1.0, 0.6, 0.7, 0.4]\n",
      "tf.Tensor([[0.2872832  0.22740503 0.2590769  0.22623484]], shape=(1, 4), dtype=float32)\n",
      "[1.0, 0.6, 0.7, 0.4]\n",
      "tf.Tensor([[0.2872832  0.22740503 0.2590769  0.22623484]], shape=(1, 4), dtype=float32)"
     ]
    },
    {
     "name": "stderr",
     "output_type": "stream",
     "text": [
      "\r",
      "  1%|▌                                                                          | 201/30000 [09:38<21:42:45,  2.62s/it]"
     ]
    },
    {
     "name": "stdout",
     "output_type": "stream",
     "text": [
      "\n",
      "[1.0, 0.6, 0.7, 0.4]\n",
      "tf.Tensor([[0.2872832  0.22740503 0.2590769  0.22623484]], shape=(1, 4), dtype=float32)\n",
      "[1.0, 0.6, 0.7, 0.4]\n",
      "tf.Tensor([[0.2872832  0.22740503 0.2590769  0.22623484]], shape=(1, 4), dtype=float32)\n",
      "[1.0, 0.6, 0.7, 0.4]\n",
      "tf.Tensor([[0.2872832  0.22740503 0.2590769  0.22623484]], shape=(1, 4), dtype=float32)\n"
     ]
    },
    {
     "name": "stderr",
     "output_type": "stream",
     "text": [
      "  1%|▊                                                                          | 301/30000 [14:09<24:06:35,  2.92s/it]"
     ]
    },
    {
     "name": "stdout",
     "output_type": "stream",
     "text": [
      "-35.077462414765\n",
      "18\n"
     ]
    },
    {
     "name": "stderr",
     "output_type": "stream",
     "text": [
      "  1%|█                                                                          | 400/30000 [18:28<15:36:16,  1.90s/it]"
     ]
    },
    {
     "name": "stdout",
     "output_type": "stream",
     "text": [
      "-30.85183910076646\n",
      "20\n",
      "[0.6, 0.2, 0.5, 0.7]\n",
      "tf.Tensor([[0.28067034 0.20946397 0.28829607 0.22156957]], shape=(1, 4), dtype=float32)\n",
      "[0.3, 0.2, 0.5, 0.7]\n",
      "tf.Tensor([[0.28476557 0.21967092 0.2771462  0.21841735]], shape=(1, 4), dtype=float32)\n",
      "[0.4, 0.2, 0.5, 0.7]\n",
      "tf.Tensor([[0.28337145 0.22494306 0.27247068 0.21921477]], shape=(1, 4), dtype=float32)\n",
      "[0.5, 0.2, 0.5, 0.7]\n",
      "tf.Tensor([[0.27868992 0.23108749 0.27075952 0.21946308]], shape=(1, 4), dtype=float32)\n",
      "[0.4, 0.2, 0.5, 0.7]\n",
      "tf.Tensor([[0.28048298 0.22949365 0.26914665 0.22087674]], shape=(1, 4), dtype=float32)\n",
      "[0.5, 0.2, 0.5, 0.7]\n",
      "tf.Tensor([[0.27827927 0.2314208  0.27103528 0.21926464]], shape=(1, 4), dtype=float32)\n",
      "[0.4, 0.2, 0.5, 0.7]\n",
      "tf.Tensor([[0.27978843 0.2303658  0.26942354 0.22042225]], shape=(1, 4), dtype=float32)\n",
      "[0.5, 0.2, 0.5, 0.7]\n",
      "tf.Tensor([[0.27827927 0.2314208  0.27103528 0.21926464]], shape=(1, 4), dtype=float32)\n",
      "[0.4, 0.2, 0.5, 0.7]\n",
      "tf.Tensor([[0.27978843 0.2303658  0.26942354 0.22042225]], shape=(1, 4), dtype=float32)\n",
      "[0.5, 0.2, 0.5, 0.7]\n",
      "tf.Tensor([[0.27827927 0.2314208  0.27103528 0.21926464]], shape=(1, 4), dtype=float32)\n",
      "[0.4, 0.2, 0.5, 0.7]\n",
      "tf.Tensor([[0.27978843 0.2303658  0.26942354 0.22042225]], shape=(1, 4), dtype=float32)\n",
      "[0.5, 0.2, 0.5, 0.7]\n",
      "tf.Tensor([[0.27827927 0.2314208  0.27103528 0.21926464]], shape=(1, 4), dtype=float32)\n",
      "[0.4, 0.2, 0.5, 0.7]\n",
      "tf.Tensor([[0.27978843 0.2303658  0.26942354 0.22042225]], shape=(1, 4), dtype=float32)\n",
      "[0.5, 0.2, 0.5, 0.7]\n",
      "tf.Tensor([[0.27827927 0.2314208  0.27103528 0.21926464]], shape=(1, 4), dtype=float32)\n",
      "[0.4, 0.2, 0.5, 0.7]\n",
      "tf.Tensor([[0.27978843 0.2303658  0.26942354 0.22042225]], shape=(1, 4), dtype=float32)\n",
      "[0.5, 0.2, 0.5, 0.7]\n",
      "tf.Tensor([[0.27827927 0.2314208  0.27103528 0.21926464]], shape=(1, 4), dtype=float32)\n",
      "[0.4, 0.2, 0.5, 0.7]\n"
     ]
    },
    {
     "name": "stderr",
     "output_type": "stream",
     "text": [
      "\r",
      "  1%|█                                                                          | 401/30000 [18:31<18:40:23,  2.27s/it]"
     ]
    },
    {
     "name": "stdout",
     "output_type": "stream",
     "text": [
      "tf.Tensor([[0.27978843 0.2303658  0.26942354 0.22042225]], shape=(1, 4), dtype=float32)\n",
      "[0.5, 0.2, 0.5, 0.7]\n",
      "tf.Tensor([[0.27827927 0.2314208  0.27103528 0.21926464]], shape=(1, 4), dtype=float32)\n",
      "[0.4, 0.2, 0.5, 0.7]\n",
      "tf.Tensor([[0.27978843 0.2303658  0.26942354 0.22042225]], shape=(1, 4), dtype=float32)\n",
      "[0.5, 0.2, 0.5, 0.7]\n",
      "tf.Tensor([[0.27827927 0.2314208  0.27103528 0.21926464]], shape=(1, 4), dtype=float32)\n"
     ]
    },
    {
     "name": "stderr",
     "output_type": "stream",
     "text": [
      "  2%|█▎                                                                         | 501/30000 [22:58<23:24:23,  2.86s/it]"
     ]
    },
    {
     "name": "stdout",
     "output_type": "stream",
     "text": [
      "-34.741907134379716\n",
      "19\n"
     ]
    },
    {
     "name": "stderr",
     "output_type": "stream",
     "text": [
      "  2%|█▌                                                                         | 601/30000 [27:46<18:19:56,  2.24s/it]"
     ]
    },
    {
     "name": "stdout",
     "output_type": "stream",
     "text": [
      "-35.438391977384505\n",
      "15\n",
      "[0.4, 0.7, 0.5, 0.7]\n",
      "tf.Tensor([[0.27348083 0.2375131  0.2722948  0.21671131]], shape=(1, 4), dtype=float32)\n"
     ]
    },
    {
     "name": "stderr",
     "output_type": "stream",
     "text": [
      "  2%|█▊                                                                         | 701/30000 [32:31<21:58:24,  2.70s/it]"
     ]
    },
    {
     "name": "stdout",
     "output_type": "stream",
     "text": [
      "-35.187849007328886\n",
      "13\n"
     ]
    },
    {
     "name": "stderr",
     "output_type": "stream",
     "text": [
      "  3%|██                                                                         | 801/30000 [37:03<22:52:36,  2.82s/it]"
     ]
    },
    {
     "name": "stdout",
     "output_type": "stream",
     "text": [
      "-32.27432165538771\n",
      "20\n",
      "[0.6, 0.3, 0.6, 0.2]\n",
      "tf.Tensor([[0.27829424 0.24385196 0.26450872 0.2133451 ]], shape=(1, 4), dtype=float32)\n"
     ]
    },
    {
     "name": "stderr",
     "output_type": "stream",
     "text": [
      "  3%|██▎                                                                        | 901/30000 [41:25<24:36:53,  3.05s/it]"
     ]
    },
    {
     "name": "stdout",
     "output_type": "stream",
     "text": [
      "-33.50759488311279\n",
      "28\n"
     ]
    },
    {
     "name": "stderr",
     "output_type": "stream",
     "text": [
      "  3%|██▍                                                                       | 1000/30000 [45:55<24:12:40,  3.01s/it]"
     ]
    },
    {
     "name": "stdout",
     "output_type": "stream",
     "text": [
      "-36.884459868141185\n",
      "18\n",
      "[0.2, 0.0, 0.5, 0.7]\n",
      "tf.Tensor([[0.28342503 0.23126507 0.27757487 0.20773506]], shape=(1, 4), dtype=float32)\n",
      "[0.2, 0.1, 0.5, 0.7]\n",
      "tf.Tensor([[0.28441235 0.23545502 0.27125207 0.20888057]], shape=(1, 4), dtype=float32)\n",
      "[0.2, 0.2, 0.5, 0.7]\n",
      "tf.Tensor([[0.28945857 0.2428151  0.2592236  0.2085027 ]], shape=(1, 4), dtype=float32)\n",
      "[0.3, 0.2, 0.5, 0.7]\n",
      "tf.Tensor([[0.2878446  0.24555181 0.2563496  0.21025404]], shape=(1, 4), dtype=float32)\n",
      "[0.3, 0.3, 0.5, 0.7]\n",
      "tf.Tensor([[0.28545573 0.24797486 0.25579366 0.21077575]], shape=(1, 4), dtype=float32)\n",
      "[0.3, 0.4, 0.5, 0.7]\n",
      "tf.Tensor([[0.288575   0.25003847 0.25261208 0.20877443]], shape=(1, 4), dtype=float32)\n",
      "[0.4, 0.4, 0.5, 0.7]\n",
      "tf.Tensor([[0.28486988 0.25137785 0.25237855 0.21137376]], shape=(1, 4), dtype=float32)\n",
      "[0.4, 0.5, 0.5, 0.7]\n",
      "tf.Tensor([[0.28186414 0.25508186 0.2511655  0.21188846]], shape=(1, 4), dtype=float32)\n",
      "[0.4, 0.6, 0.5, 0.7]\n",
      "tf.Tensor([[0.28488216 0.25462538 0.25105214 0.20944038]], shape=(1, 4), dtype=float32)\n",
      "[0.5, 0.6, 0.5, 0.7]\n",
      "tf.Tensor([[0.2820873  0.25579512 0.25328895 0.20882863]], shape=(1, 4), dtype=float32)\n",
      "[0.4, 0.6, 0.5, 0.7]\n",
      "tf.Tensor([[0.2855772  0.25668576 0.25200796 0.20572905]], shape=(1, 4), dtype=float32)\n",
      "[0.5, 0.6, 0.5, 0.7]\n",
      "tf.Tensor([[0.28172627 0.2577874  0.25822338 0.20226295]], shape=(1, 4), dtype=float32)\n",
      "[0.4, 0.6, 0.5, 0.7]\n",
      "tf.Tensor([[0.28508884 0.257357   0.25494233 0.20261188]], shape=(1, 4), dtype=float32)\n",
      "[0.5, 0.6, 0.5, 0.7]\n",
      "tf.Tensor([[0.28172627 0.2577874  0.25822338 0.20226295]], shape=(1, 4), dtype=float32)\n",
      "[0.4, 0.6, 0.5, 0.7]\n",
      "tf.Tensor([[0.28508884 0.257357   0.25494233 0.20261188]], shape=(1, 4), dtype=float32)\n",
      "[0.5, 0.6, 0.5, 0.7]\n",
      "tf.Tensor([[0.28172627 0.2577874  0.25822338 0.20226295]], shape=(1, 4), dtype=float32)\n",
      "[0.4, 0.6, 0.5, 0.7]\n"
     ]
    },
    {
     "name": "stderr",
     "output_type": "stream",
     "text": [
      "\r",
      "  3%|██▍                                                                       | 1001/30000 [45:59<24:42:54,  3.07s/it]"
     ]
    },
    {
     "name": "stdout",
     "output_type": "stream",
     "text": [
      "tf.Tensor([[0.28508884 0.257357   0.25494233 0.20261188]], shape=(1, 4), dtype=float32)\n",
      "[0.5, 0.6, 0.5, 0.7]\n",
      "tf.Tensor([[0.28172627 0.2577874  0.25822338 0.20226295]], shape=(1, 4), dtype=float32)\n",
      "[0.4, 0.6, 0.5, 0.7]\n",
      "tf.Tensor([[0.28508884 0.257357   0.25494233 0.20261188]], shape=(1, 4), dtype=float32)\n",
      "[0.5, 0.6, 0.5, 0.7]\n",
      "tf.Tensor([[0.28172627 0.2577874  0.25822338 0.20226295]], shape=(1, 4), dtype=float32)\n"
     ]
    },
    {
     "name": "stderr",
     "output_type": "stream",
     "text": [
      "  4%|██▋                                                                       | 1101/30000 [50:11<21:43:47,  2.71s/it]"
     ]
    },
    {
     "name": "stdout",
     "output_type": "stream",
     "text": [
      "-30.906515592812628\n",
      "22\n"
     ]
    },
    {
     "name": "stderr",
     "output_type": "stream",
     "text": [
      "  4%|██▉                                                                       | 1201/30000 [54:44<21:33:09,  2.69s/it]"
     ]
    },
    {
     "name": "stdout",
     "output_type": "stream",
     "text": [
      "-32.71996957607425\n",
      "14\n",
      "[0.1, 0.8, 0.6, 0.2]\n",
      "tf.Tensor([[0.29291388 0.25032422 0.25954235 0.1972195 ]], shape=(1, 4), dtype=float32)\n",
      "[0.1, 0.7, 0.6, 0.2]\n",
      "tf.Tensor([[0.298774   0.25250876 0.25400653 0.19471072]], shape=(1, 4), dtype=float32)\n",
      "[0.2, 0.7, 0.6, 0.2]\n",
      "tf.Tensor([[0.30084664 0.2599303  0.24460253 0.19462056]], shape=(1, 4), dtype=float32)\n",
      "[0.2, 0.6, 0.6, 0.2]\n",
      "tf.Tensor([[0.30296734 0.2595797  0.24066049 0.19679245]], shape=(1, 4), dtype=float32)\n",
      "[0.3, 0.6, 0.6, 0.2]\n",
      "tf.Tensor([[0.3028073  0.26177043 0.24027838 0.19514391]], shape=(1, 4), dtype=float32)\n",
      "[0.3, 0.5, 0.6, 0.2]\n",
      "tf.Tensor([[0.30638167 0.25968343 0.23859766 0.19533727]], shape=(1, 4), dtype=float32)\n",
      "[0.3, 0.4, 0.6, 0.2]\n",
      "tf.Tensor([[0.30502477 0.25855887 0.23923653 0.19717985]], shape=(1, 4), dtype=float32)\n",
      "[0.4, 0.4, 0.6, 0.2]\n",
      "tf.Tensor([[0.30803126 0.2574175  0.23802896 0.1965222 ]], shape=(1, 4), dtype=float32)\n",
      "[0.4, 0.3, 0.6, 0.2]\n",
      "tf.Tensor([[0.30567205 0.25672698 0.23961402 0.197987  ]], shape=(1, 4), dtype=float32)\n",
      "[0.5, 0.3, 0.6, 0.2]\n",
      "tf.Tensor([[0.30521828 0.25853586 0.23948573 0.19676012]], shape=(1, 4), dtype=float32)\n",
      "[0.5, 0.2, 0.6, 0.2]\n",
      "tf.Tensor([[0.3059771  0.25618124 0.23975414 0.19808751]], shape=(1, 4), dtype=float32)\n"
     ]
    },
    {
     "name": "stderr",
     "output_type": "stream",
     "text": [
      "  4%|███▏                                                                      | 1301/30000 [58:57<19:34:16,  2.46s/it]"
     ]
    },
    {
     "name": "stdout",
     "output_type": "stream",
     "text": [
      "-28.87907212145868\n",
      "29\n"
     ]
    },
    {
     "name": "stderr",
     "output_type": "stream",
     "text": [
      "  5%|███▎                                                                    | 1401/30000 [1:03:14<18:54:07,  2.38s/it]"
     ]
    },
    {
     "name": "stdout",
     "output_type": "stream",
     "text": [
      "-30.676629922892506\n",
      "24\n",
      "[0.9, 0.2, 0.7, 0.4]\n",
      "tf.Tensor([[0.307314   0.23780572 0.27031374 0.18456657]], shape=(1, 4), dtype=float32)\n",
      "[0.8, 0.2, 0.7, 0.4]\n",
      "tf.Tensor([[0.3056071  0.24362877 0.26623517 0.18452902]], shape=(1, 4), dtype=float32)\n",
      "[0.7, 0.2, 0.7, 0.4]\n",
      "tf.Tensor([[0.30606234 0.2522913  0.25389305 0.18775332]], shape=(1, 4), dtype=float32)\n",
      "[0.7, 0.3, 0.7, 0.4]\n",
      "tf.Tensor([[0.30686316 0.25885472 0.2421299  0.19215223]], shape=(1, 4), dtype=float32)\n"
     ]
    },
    {
     "name": "stderr",
     "output_type": "stream",
     "text": [
      "  5%|███▌                                                                    | 1501/30000 [1:07:29<21:13:08,  2.68s/it]"
     ]
    },
    {
     "name": "stdout",
     "output_type": "stream",
     "text": [
      "-31.936123308736637\n",
      "28\n"
     ]
    },
    {
     "name": "stderr",
     "output_type": "stream",
     "text": [
      "  5%|███▊                                                                    | 1601/30000 [1:11:41<19:46:26,  2.51s/it]"
     ]
    },
    {
     "name": "stdout",
     "output_type": "stream",
     "text": [
      "-29.062774175647746\n",
      "27\n",
      "[0.5, 0.5, 0.2, 0.9]\n",
      "tf.Tensor([[0.31245127 0.23854673 0.26446185 0.18454023]], shape=(1, 4), dtype=float32)\n",
      "[0.4, 0.5, 0.2, 0.9]\n",
      "tf.Tensor([[0.3095623  0.24516237 0.26088682 0.18438849]], shape=(1, 4), dtype=float32)\n",
      "[0.3, 0.5, 0.2, 0.9]\n",
      "tf.Tensor([[0.30999997 0.25238356 0.25043482 0.18718162]], shape=(1, 4), dtype=float32)\n",
      "[0.3, 0.6, 0.2, 0.9]\n",
      "tf.Tensor([[0.3106654  0.25815877 0.24010992 0.19106591]], shape=(1, 4), dtype=float32)\n",
      "[0.3, 0.7, 0.2, 0.9]\n",
      "tf.Tensor([[0.31116652 0.25611255 0.24164686 0.1910741 ]], shape=(1, 4), dtype=float32)\n",
      "[0.2, 0.7, 0.2, 0.9]\n",
      "tf.Tensor([[0.31217238 0.25871703 0.23571807 0.19339249]], shape=(1, 4), dtype=float32)\n",
      "[0.2, 0.8, 0.2, 0.9]\n",
      "tf.Tensor([[0.31116617 0.2622149  0.23394786 0.1926711 ]], shape=(1, 4), dtype=float32)\n"
     ]
    },
    {
     "name": "stderr",
     "output_type": "stream",
     "text": [
      "  6%|████                                                                    | 1701/30000 [1:15:54<23:30:16,  2.99s/it]"
     ]
    },
    {
     "name": "stdout",
     "output_type": "stream",
     "text": [
      "-31.524020674111426\n",
      "32\n"
     ]
    },
    {
     "name": "stderr",
     "output_type": "stream",
     "text": [
      "  6%|████▎                                                                   | 1801/30000 [1:20:12<22:39:26,  2.89s/it]"
     ]
    },
    {
     "name": "stdout",
     "output_type": "stream",
     "text": [
      "-31.233836882460682\n",
      "25\n",
      "[0.6, 0.7, 0.1, 0.1]\n",
      "tf.Tensor([[0.34637666 0.23261741 0.25129098 0.16971493]], shape=(1, 4), dtype=float32)\n",
      "[0.5, 0.7, 0.1, 0.1]\n",
      "tf.Tensor([[0.34030664 0.24201982 0.24711278 0.17056069]], shape=(1, 4), dtype=float32)\n",
      "[0.4, 0.7, 0.1, 0.1]\n",
      "tf.Tensor([[0.34441808 0.24969205 0.2351456  0.17074424]], shape=(1, 4), dtype=float32)\n",
      "[0.4, 0.6, 0.1, 0.1]\n",
      "tf.Tensor([[0.34066242 0.25277084 0.23384295 0.1727238 ]], shape=(1, 4), dtype=float32)\n",
      "[0.3, 0.6, 0.1, 0.1]\n",
      "tf.Tensor([[0.34778565 0.25229517 0.22723848 0.17268077]], shape=(1, 4), dtype=float32)\n",
      "[0.3, 0.5, 0.1, 0.1]\n",
      "tf.Tensor([[0.35470492 0.24927172 0.2236768  0.17234659]], shape=(1, 4), dtype=float32)\n",
      "[0.3, 0.4, 0.1, 0.1]\n",
      "tf.Tensor([[0.34677792 0.24937421 0.2304753  0.1733726 ]], shape=(1, 4), dtype=float32)\n",
      "[0.2, 0.4, 0.1, 0.1]\n",
      "tf.Tensor([[0.35399106 0.24768727 0.2250772  0.17324449]], shape=(1, 4), dtype=float32)\n",
      "[0.2, 0.3, 0.1, 0.1]\n",
      "tf.Tensor([[0.35523397 0.24856797 0.22299156 0.1732065 ]], shape=(1, 4), dtype=float32)\n",
      "[0.2, 0.2, 0.1, 0.1]\n",
      "tf.Tensor([[0.3478959  0.24632628 0.2328773  0.1729005 ]], shape=(1, 4), dtype=float32)\n",
      "[0.1, 0.2, 0.1, 0.1]\n",
      "tf.Tensor([[0.35442448 0.2465254  0.22509402 0.17395611]], shape=(1, 4), dtype=float32)\n"
     ]
    },
    {
     "name": "stderr",
     "output_type": "stream",
     "text": [
      "  6%|████▌                                                                   | 1901/30000 [1:24:18<16:22:50,  2.10s/it]"
     ]
    },
    {
     "name": "stdout",
     "output_type": "stream",
     "text": [
      "-26.819521370917467\n",
      "34\n"
     ]
    },
    {
     "name": "stderr",
     "output_type": "stream",
     "text": [
      "  7%|████▊                                                                   | 2000/30000 [1:28:44<19:23:39,  2.49s/it]"
     ]
    },
    {
     "name": "stdout",
     "output_type": "stream",
     "text": [
      "-31.608960293915718\n",
      "24\n",
      "[0.7, 0.1, 0.6, 0.2]\n",
      "tf.Tensor([[0.34477296 0.23285326 0.25487962 0.16749418]], shape=(1, 4), dtype=float32)\n",
      "[0.6, 0.1, 0.6, 0.2]\n",
      "tf.Tensor([[0.3404064  0.23761038 0.2541044  0.16787882]], shape=(1, 4), dtype=float32)\n",
      "[0.5, 0.1, 0.6, 0.2]\n",
      "tf.Tensor([[0.34314606 0.24360925 0.24417341 0.16907129]], shape=(1, 4), dtype=float32)\n",
      "[0.6, 0.1, 0.6, 0.2]\n",
      "tf.Tensor([[0.33932    0.2455011  0.24606763 0.1691113 ]], shape=(1, 4), dtype=float32)\n",
      "[0.5, 0.1, 0.6, 0.2]\n",
      "tf.Tensor([[0.34389013 0.24672012 0.23964508 0.16974472]], shape=(1, 4), dtype=float32)\n",
      "[0.6, 0.1, 0.6, 0.2]\n",
      "tf.Tensor([[0.34065136 0.2455972  0.24436212 0.16938928]], shape=(1, 4), dtype=float32)\n",
      "[0.5, 0.1, 0.6, 0.2]\n",
      "tf.Tensor([[0.34389013 0.24672012 0.23964508 0.16974472]], shape=(1, 4), dtype=float32)\n",
      "[0.6, 0.1, 0.6, 0.2]\n",
      "tf.Tensor([[0.34065136 0.2455972  0.24436212 0.16938928]], shape=(1, 4), dtype=float32)\n",
      "[0.5, 0.1, 0.6, 0.2]\n",
      "tf.Tensor([[0.34389013 0.24672012 0.23964508 0.16974472]], shape=(1, 4), dtype=float32)\n",
      "[0.6, 0.1, 0.6, 0.2]\n",
      "tf.Tensor([[0.34065136 0.2455972  0.24436212 0.16938928]], shape=(1, 4), dtype=float32)\n",
      "[0.5, 0.1, 0.6, 0.2]\n",
      "tf.Tensor([[0.34389013 0.24672012 0.23964508 0.16974472]], shape=(1, 4), dtype=float32)\n",
      "[0.6, 0.1, 0.6, 0.2]\n",
      "tf.Tensor([[0.34065136 0.2455972  0.24436212 0.16938928]], shape=(1, 4), dtype=float32)\n",
      "[0.5, 0.1, 0.6, 0.2]\n",
      "tf.Tensor([[0.34389013 0.24672012 0.23964508 0.16974472]], shape=(1, 4), dtype=float32)\n",
      "[0.6, 0.1, 0.6, 0.2]\n",
      "tf.Tensor([[0.34065136 0.2455972  0.24436212 0.16938928]], shape=(1, 4), dtype=float32)\n",
      "[0.5, 0.1, 0.6, 0.2]\n",
      "tf.Tensor([[0.34389013 0.24672012 0.23964508 0.16974472]], shape=(1, 4), dtype=float32)\n",
      "[0.6, 0.1, 0.6, 0.2]\n",
      "tf.Tensor([[0.34065136 0.2455972  0.24436212 0.16938928]], shape=(1, 4), dtype=float32)\n"
     ]
    },
    {
     "name": "stderr",
     "output_type": "stream",
     "text": [
      "\r",
      "  7%|████▊                                                                   | 2001/30000 [1:28:47<20:55:33,  2.69s/it]"
     ]
    },
    {
     "name": "stdout",
     "output_type": "stream",
     "text": [
      "[0.5, 0.1, 0.6, 0.2]\n",
      "tf.Tensor([[0.34389013 0.24672012 0.23964508 0.16974472]], shape=(1, 4), dtype=float32)\n",
      "[0.6, 0.1, 0.6, 0.2]\n",
      "tf.Tensor([[0.34065136 0.2455972  0.24436212 0.16938928]], shape=(1, 4), dtype=float32)\n",
      "[0.5, 0.1, 0.6, 0.2]\n",
      "tf.Tensor([[0.34389013 0.24672012 0.23964508 0.16974472]], shape=(1, 4), dtype=float32)\n",
      "[0.6, 0.1, 0.6, 0.2]\n",
      "tf.Tensor([[0.34065136 0.2455972  0.24436212 0.16938928]], shape=(1, 4), dtype=float32)\n"
     ]
    },
    {
     "name": "stderr",
     "output_type": "stream",
     "text": [
      "  7%|█████                                                                   | 2101/30000 [1:33:04<19:13:58,  2.48s/it]"
     ]
    },
    {
     "name": "stdout",
     "output_type": "stream",
     "text": [
      "-32.68028536195914\n",
      "21\n"
     ]
    },
    {
     "name": "stderr",
     "output_type": "stream",
     "text": [
      "  7%|█████▎                                                                  | 2200/30000 [1:37:09<19:12:40,  2.49s/it]"
     ]
    },
    {
     "name": "stdout",
     "output_type": "stream",
     "text": [
      "-29.325008303922072\n",
      "27\n",
      "[0.8, 0.5, 0.5, 0.7]\n",
      "tf.Tensor([[0.36146513 0.23085238 0.24039923 0.16728331]], shape=(1, 4), dtype=float32)\n",
      "[0.7, 0.5, 0.5, 0.7]\n",
      "tf.Tensor([[0.3553855  0.23868488 0.23805073 0.16787884]], shape=(1, 4), dtype=float32)\n",
      "[0.6, 0.5, 0.5, 0.7]\n",
      "tf.Tensor([[0.35149798 0.24453758 0.23542194 0.16854252]], shape=(1, 4), dtype=float32)\n",
      "[0.5, 0.5, 0.5, 0.7]\n",
      "tf.Tensor([[0.3492798  0.25042674 0.2282533  0.17204015]], shape=(1, 4), dtype=float32)\n",
      "[0.5, 0.6, 0.5, 0.7]\n",
      "tf.Tensor([[0.34987766 0.24950024 0.2284939  0.17212825]], shape=(1, 4), dtype=float32)\n",
      "[0.4, 0.6, 0.5, 0.7]\n",
      "tf.Tensor([[0.35506693 0.24854265 0.22399478 0.17239565]], shape=(1, 4), dtype=float32)\n",
      "[0.5, 0.6, 0.5, 0.7]\n",
      "tf.Tensor([[0.35323542 0.24928491 0.22597967 0.17150003]], shape=(1, 4), dtype=float32)\n",
      "[0.4, 0.6, 0.5, 0.7]\n",
      "tf.Tensor([[0.35548082 0.24919665 0.22543576 0.16988677]], shape=(1, 4), dtype=float32)\n",
      "[0.5, 0.6, 0.5, 0.7]\n",
      "tf.Tensor([[0.3534196  0.2506522  0.22704306 0.16888507]], shape=(1, 4), dtype=float32)\n",
      "[0.4, 0.6, 0.5, 0.7]\n",
      "tf.Tensor([[0.35548082 0.24919665 0.22543576 0.16988677]], shape=(1, 4), dtype=float32)\n",
      "[0.5, 0.6, 0.5, 0.7]\n",
      "tf.Tensor([[0.3534196  0.2506522  0.22704306 0.16888507]], shape=(1, 4), dtype=float32)\n",
      "[0.4, 0.6, 0.5, 0.7]\n",
      "tf.Tensor([[0.35548082 0.24919665 0.22543576 0.16988677]], shape=(1, 4), dtype=float32)\n",
      "[0.5, 0.6, 0.5, 0.7]\n",
      "tf.Tensor([[0.3534196  0.2506522  0.22704306 0.16888507]], shape=(1, 4), dtype=float32)\n",
      "[0.4, 0.6, 0.5, 0.7]\n",
      "tf.Tensor([[0.35548082 0.24919665 0.22543576 0.16988677]], shape=(1, 4), dtype=float32)\n",
      "[0.5, 0.6, 0.5, 0.7]\n",
      "tf.Tensor([[0.3534196  0.2506522  0.22704306 0.16888507]], shape=(1, 4), dtype=float32)\n",
      "[0.4, 0.6, 0.5, 0.7]\n",
      "tf.Tensor([[0.35548082 0.24919665 0.22543576 0.16988677]], shape=(1, 4), dtype=float32)\n",
      "[0.5, 0.6, 0.5, 0.7]\n"
     ]
    },
    {
     "name": "stderr",
     "output_type": "stream",
     "text": [
      "\r",
      "  7%|█████▎                                                                  | 2201/30000 [1:37:10<17:07:54,  2.22s/it]"
     ]
    },
    {
     "name": "stdout",
     "output_type": "stream",
     "text": [
      "tf.Tensor([[0.3534196  0.2506522  0.22704306 0.16888507]], shape=(1, 4), dtype=float32)\n",
      "[0.4, 0.6, 0.5, 0.7]\n",
      "tf.Tensor([[0.35548082 0.24919665 0.22543576 0.16988677]], shape=(1, 4), dtype=float32)\n",
      "[0.5, 0.6, 0.5, 0.7]\n",
      "tf.Tensor([[0.3534196  0.2506522  0.22704306 0.16888507]], shape=(1, 4), dtype=float32)\n",
      "[0.4, 0.6, 0.5, 0.7]\n",
      "tf.Tensor([[0.35548082 0.24919665 0.22543576 0.16988677]], shape=(1, 4), dtype=float32)\n"
     ]
    },
    {
     "name": "stderr",
     "output_type": "stream",
     "text": [
      "  8%|█████▌                                                                  | 2301/30000 [1:41:04<19:46:38,  2.57s/it]"
     ]
    },
    {
     "name": "stdout",
     "output_type": "stream",
     "text": [
      "-25.88322767350436\n",
      "38\n"
     ]
    },
    {
     "name": "stderr",
     "output_type": "stream",
     "text": [
      "  8%|█████▊                                                                  | 2400/30000 [1:44:56<20:13:34,  2.64s/it]"
     ]
    },
    {
     "name": "stdout",
     "output_type": "stream",
     "text": [
      "-28.308106987000556\n",
      "38\n",
      "[0.7, 0.9, 0.2, 0.9]\n",
      "tf.Tensor([[0.37104    0.23502022 0.23647799 0.15746179]], shape=(1, 4), dtype=float32)\n",
      "[0.6, 0.9, 0.2, 0.9]\n",
      "tf.Tensor([[0.36478356 0.24489775 0.23224053 0.15807813]], shape=(1, 4), dtype=float32)\n",
      "[0.5, 0.9, 0.2, 0.9]\n"
     ]
    },
    {
     "name": "stderr",
     "output_type": "stream",
     "text": [
      "\r",
      "  8%|█████▊                                                                  | 2401/30000 [1:44:59<21:11:33,  2.76s/it]"
     ]
    },
    {
     "name": "stdout",
     "output_type": "stream",
     "text": [
      "tf.Tensor([[0.36097005 0.25194648 0.22825952 0.15882394]], shape=(1, 4), dtype=float32)\n",
      "[0.4, 0.9, 0.2, 0.9]\n",
      "tf.Tensor([[0.3587659  0.25688854 0.22472309 0.15962245]], shape=(1, 4), dtype=float32)\n",
      "[0.3, 0.9, 0.2, 0.9]\n",
      "tf.Tensor([[0.3590198  0.25661683 0.2250554  0.15930796]], shape=(1, 4), dtype=float32)\n"
     ]
    },
    {
     "name": "stderr",
     "output_type": "stream",
     "text": [
      "  8%|██████                                                                  | 2501/30000 [1:49:12<21:51:14,  2.86s/it]"
     ]
    },
    {
     "name": "stdout",
     "output_type": "stream",
     "text": [
      "-34.04089148625621\n",
      "24\n"
     ]
    },
    {
     "name": "stderr",
     "output_type": "stream",
     "text": [
      "  9%|██████▏                                                                 | 2601/30000 [1:53:22<19:55:12,  2.62s/it]"
     ]
    },
    {
     "name": "stdout",
     "output_type": "stream",
     "text": [
      "-30.218765566144445\n",
      "29\n",
      "[0.9, 0.0, 0.6, 0.2]\n",
      "tf.Tensor([[0.36684814 0.22647919 0.24802764 0.158645  ]], shape=(1, 4), dtype=float32)\n",
      "[0.8, 0.0, 0.6, 0.2]\n",
      "tf.Tensor([[0.36122435 0.2315071  0.24813047 0.15913802]], shape=(1, 4), dtype=float32)\n",
      "[0.7, 0.0, 0.6, 0.2]\n",
      "tf.Tensor([[0.35757652 0.23571564 0.24708079 0.15962702]], shape=(1, 4), dtype=float32)\n",
      "[0.6, 0.0, 0.6, 0.2]\n",
      "tf.Tensor([[0.3593562  0.23706785 0.2429481  0.16062787]], shape=(1, 4), dtype=float32)\n",
      "[0.6, 0.1, 0.6, 0.2]\n",
      "tf.Tensor([[0.36176208 0.23566033 0.24004075 0.16253684]], shape=(1, 4), dtype=float32)\n"
     ]
    },
    {
     "name": "stderr",
     "output_type": "stream",
     "text": [
      "  9%|██████▍                                                                 | 2701/30000 [1:57:16<17:39:03,  2.33s/it]"
     ]
    },
    {
     "name": "stdout",
     "output_type": "stream",
     "text": [
      "-29.627723743928367\n",
      "36\n"
     ]
    },
    {
     "name": "stderr",
     "output_type": "stream",
     "text": [
      "  9%|██████▋                                                                 | 2801/30000 [2:01:12<18:04:21,  2.39s/it]"
     ]
    },
    {
     "name": "stdout",
     "output_type": "stream",
     "text": [
      "-24.85000325143274\n",
      "33\n",
      "[0.6, 0.2, 0.7, 0.1]\n",
      "tf.Tensor([[0.3722743  0.22571974 0.24863245 0.15337355]], shape=(1, 4), dtype=float32)\n",
      "[0.7, 0.2, 0.7, 0.1]\n",
      "tf.Tensor([[0.37124673 0.23543748 0.2387005  0.15461525]], shape=(1, 4), dtype=float32)\n"
     ]
    },
    {
     "name": "stderr",
     "output_type": "stream",
     "text": [
      " 10%|██████▉                                                                 | 2901/30000 [2:05:07<18:25:59,  2.45s/it]"
     ]
    },
    {
     "name": "stdout",
     "output_type": "stream",
     "text": [
      "-25.292523097438888\n",
      "37\n"
     ]
    },
    {
     "name": "stderr",
     "output_type": "stream",
     "text": [
      " 10%|███████▏                                                                | 3001/30000 [2:08:41<19:53:21,  2.65s/it]"
     ]
    },
    {
     "name": "stdout",
     "output_type": "stream",
     "text": [
      "-24.720829325037318\n",
      "45\n",
      "[0.4, 0.8, 0.5, 0.7]\n",
      "tf.Tensor([[0.39190042 0.22532636 0.24496263 0.13781053]], shape=(1, 4), dtype=float32)\n",
      "[0.5, 0.8, 0.5, 0.7]\n",
      "tf.Tensor([[0.39105308 0.23382841 0.23723744 0.13788101]], shape=(1, 4), dtype=float32)\n"
     ]
    },
    {
     "name": "stderr",
     "output_type": "stream",
     "text": [
      " 10%|███████▍                                                                | 3101/30000 [2:12:23<13:52:59,  1.86s/it]"
     ]
    },
    {
     "name": "stdout",
     "output_type": "stream",
     "text": [
      "-25.952492606459575\n",
      "43\n"
     ]
    },
    {
     "name": "stderr",
     "output_type": "stream",
     "text": [
      " 11%|███████▋                                                                | 3200/30000 [2:16:01<18:14:26,  2.45s/it]"
     ]
    },
    {
     "name": "stdout",
     "output_type": "stream",
     "text": [
      "-24.62107548515299\n",
      "46\n",
      "[0.1, 0.4, 0.6, 0.2]\n",
      "tf.Tensor([[0.41405743 0.21924898 0.23379175 0.13290186]], shape=(1, 4), dtype=float32)\n",
      "[0.2, 0.4, 0.6, 0.2]\n",
      "tf.Tensor([[0.41258183 0.22787973 0.22482005 0.13471839]], shape=(1, 4), dtype=float32)\n",
      "[0.3, 0.4, 0.6, 0.2]\n",
      "tf.Tensor([[0.40693015 0.2332941  0.22156978 0.13820592]], shape=(1, 4), dtype=float32)\n"
     ]
    },
    {
     "name": "stderr",
     "output_type": "stream",
     "text": [
      "\r",
      " 11%|███████▋                                                                | 3201/30000 [2:16:04<19:26:52,  2.61s/it]"
     ]
    },
    {
     "name": "stdout",
     "output_type": "stream",
     "text": [
      "[0.4, 0.4, 0.6, 0.2]\n",
      "tf.Tensor([[0.40174583 0.23688449 0.21958871 0.14178096]], shape=(1, 4), dtype=float32)\n",
      "[0.5, 0.4, 0.6, 0.2]\n",
      "tf.Tensor([[0.40697518 0.23779787 0.21630849 0.13891849]], shape=(1, 4), dtype=float32)\n",
      "[0.5, 0.3, 0.6, 0.2]\n",
      "tf.Tensor([[0.4075711  0.23539312 0.21692583 0.14010996]], shape=(1, 4), dtype=float32)\n",
      "[0.6, 0.3, 0.6, 0.2]\n",
      "tf.Tensor([[0.41136324 0.23374473 0.21604842 0.13884355]], shape=(1, 4), dtype=float32)\n"
     ]
    },
    {
     "name": "stderr",
     "output_type": "stream",
     "text": [
      " 11%|███████▉                                                                | 3301/30000 [2:19:53<19:22:56,  2.61s/it]"
     ]
    },
    {
     "name": "stdout",
     "output_type": "stream",
     "text": [
      "-27.289928481544656\n",
      "36\n"
     ]
    },
    {
     "name": "stderr",
     "output_type": "stream",
     "text": [
      " 11%|████████▏                                                               | 3400/30000 [2:23:19<14:51:11,  2.01s/it]"
     ]
    },
    {
     "name": "stdout",
     "output_type": "stream",
     "text": [
      "-18.591997486535888\n",
      "50\n",
      "[0.1, 0.9, 0.6, 0.2]\n",
      "tf.Tensor([[0.44073427 0.21041964 0.22433728 0.12450886]], shape=(1, 4), dtype=float32)\n",
      "[0.1, 0.8, 0.6, 0.2]\n",
      "tf.Tensor([[0.44224223 0.21646222 0.21672556 0.12457009]], shape=(1, 4), dtype=float32)\n",
      "[0.1, 0.7, 0.6, 0.2]\n",
      "tf.Tensor([[0.44336718 0.22064528 0.20986418 0.12612335]], shape=(1, 4), dtype=float32)\n",
      "[0.2, 0.7, 0.6, 0.2]\n"
     ]
    },
    {
     "name": "stderr",
     "output_type": "stream",
     "text": [
      "\r",
      " 11%|████████▏                                                               | 3401/30000 [2:23:21<14:03:16,  1.90s/it]"
     ]
    },
    {
     "name": "stdout",
     "output_type": "stream",
     "text": [
      "tf.Tensor([[0.44420147 0.22113523 0.20842311 0.12624016]], shape=(1, 4), dtype=float32)\n",
      "[0.2, 0.6, 0.6, 0.2]\n",
      "tf.Tensor([[0.4401905  0.22187692 0.20931448 0.12861805]], shape=(1, 4), dtype=float32)\n",
      "[0.3, 0.6, 0.6, 0.2]\n",
      "tf.Tensor([[0.44087213 0.22300316 0.2088871  0.12723765]], shape=(1, 4), dtype=float32)\n",
      "[0.3, 0.5, 0.6, 0.2]\n",
      "tf.Tensor([[0.4412803  0.22027765 0.2094216  0.1290205 ]], shape=(1, 4), dtype=float32)\n",
      "[0.4, 0.5, 0.6, 0.2]\n",
      "tf.Tensor([[0.4419142  0.2214052  0.20894508 0.12773554]], shape=(1, 4), dtype=float32)\n",
      "[0.4, 0.4, 0.6, 0.2]\n",
      "tf.Tensor([[0.44235715 0.21884966 0.2095237  0.12926954]], shape=(1, 4), dtype=float32)\n",
      "[0.5, 0.4, 0.6, 0.2]\n",
      "tf.Tensor([[0.4429889  0.21997312 0.2089437  0.1280942 ]], shape=(1, 4), dtype=float32)\n",
      "[0.5, 0.3, 0.6, 0.2]\n",
      "tf.Tensor([[0.44338194 0.21777382 0.20950966 0.12933457]], shape=(1, 4), dtype=float32)\n",
      "[0.6, 0.3, 0.6, 0.2]\n",
      "tf.Tensor([[0.4437735  0.21875927 0.209132   0.12833516]], shape=(1, 4), dtype=float32)\n"
     ]
    },
    {
     "name": "stderr",
     "output_type": "stream",
     "text": [
      " 12%|████████▍                                                               | 3501/30000 [2:26:53<12:02:14,  1.64s/it]"
     ]
    },
    {
     "name": "stdout",
     "output_type": "stream",
     "text": [
      "-18.22336172740202\n",
      "47\n"
     ]
    },
    {
     "name": "stderr",
     "output_type": "stream",
     "text": [
      " 12%|████████▋                                                               | 3600/30000 [2:30:10<17:52:51,  2.44s/it]"
     ]
    },
    {
     "name": "stdout",
     "output_type": "stream",
     "text": [
      "-18.622065176031647\n",
      "57\n",
      "[0.7, 0.8, 0.2, 0.9]\n",
      "tf.Tensor([[0.47657147 0.20841043 0.20633708 0.10868102]], shape=(1, 4), dtype=float32)\n",
      "[0.6, 0.8, 0.2, 0.9]\n",
      "tf.Tensor([[0.4704935  0.21774176 0.20129815 0.11046661]], shape=(1, 4), dtype=float32)\n",
      "[0.5, 0.8, 0.2, 0.9]\n"
     ]
    },
    {
     "name": "stderr",
     "output_type": "stream",
     "text": [
      "\r",
      " 12%|████████▋                                                               | 3601/30000 [2:30:11<13:55:52,  1.90s/it]"
     ]
    },
    {
     "name": "stdout",
     "output_type": "stream",
     "text": [
      "tf.Tensor([[0.4650192  0.22478661 0.19759431 0.11259984]], shape=(1, 4), dtype=float32)\n",
      "[0.4, 0.8, 0.2, 0.9]\n",
      "tf.Tensor([[0.46056512 0.22984384 0.19484337 0.11474767]], shape=(1, 4), dtype=float32)\n",
      "[0.3, 0.8, 0.2, 0.9]\n",
      "tf.Tensor([[0.46034706 0.2297261  0.19525844 0.11466843]], shape=(1, 4), dtype=float32)\n",
      "[0.2, 0.8, 0.2, 0.9]\n",
      "tf.Tensor([[0.46112788 0.23307103 0.1907849  0.11501615]], shape=(1, 4), dtype=float32)\n"
     ]
    },
    {
     "name": "stderr",
     "output_type": "stream",
     "text": [
      " 12%|████████▉                                                               | 3701/30000 [2:33:39<14:44:09,  2.02s/it]"
     ]
    },
    {
     "name": "stdout",
     "output_type": "stream",
     "text": [
      "-19.319338079104018\n",
      "60\n"
     ]
    },
    {
     "name": "stderr",
     "output_type": "stream",
     "text": [
      " 13%|█████████                                                               | 3801/30000 [2:36:46<12:49:34,  1.76s/it]"
     ]
    },
    {
     "name": "stdout",
     "output_type": "stream",
     "text": [
      "-16.261072959473164\n",
      "62\n",
      "[0.8, 0.6, 0.7, 0.4]\n",
      "tf.Tensor([[0.50360584 0.21013859 0.19101688 0.09523864]], shape=(1, 4), dtype=float32)\n",
      "[0.8, 0.5, 0.7, 0.4]\n",
      "tf.Tensor([[0.49929368 0.21639815 0.18791495 0.09639325]], shape=(1, 4), dtype=float32)\n",
      "[0.7, 0.5, 0.7, 0.4]\n",
      "tf.Tensor([[0.500715   0.22224751 0.17932844 0.09770905]], shape=(1, 4), dtype=float32)\n"
     ]
    },
    {
     "name": "stderr",
     "output_type": "stream",
     "text": [
      " 13%|█████████▎                                                              | 3901/30000 [2:40:00<16:59:52,  2.34s/it]"
     ]
    },
    {
     "name": "stdout",
     "output_type": "stream",
     "text": [
      "-18.82866267017282\n",
      "64\n"
     ]
    },
    {
     "name": "stderr",
     "output_type": "stream",
     "text": [
      " 13%|█████████▌                                                              | 4001/30000 [2:43:15<11:06:20,  1.54s/it]"
     ]
    },
    {
     "name": "stdout",
     "output_type": "stream",
     "text": [
      "-19.891608888115787\n",
      "63\n",
      "[0.8, 0.1, 0.1, 0.1]\n",
      "tf.Tensor([[0.5492958  0.19822772 0.17486069 0.07761586]], shape=(1, 4), dtype=float32)\n",
      "[0.7, 0.1, 0.1, 0.1]\n",
      "tf.Tensor([[0.5491651  0.20140037 0.1718229  0.07761165]], shape=(1, 4), dtype=float32)\n",
      "[0.6, 0.1, 0.1, 0.1]\n",
      "tf.Tensor([[0.5502456  0.20347002 0.16865903 0.07762536]], shape=(1, 4), dtype=float32)\n",
      "[0.5, 0.1, 0.1, 0.1]\n",
      "tf.Tensor([[0.55206805 0.20460404 0.16570345 0.0776244 ]], shape=(1, 4), dtype=float32)\n",
      "[0.4, 0.1, 0.1, 0.1]\n",
      "tf.Tensor([[0.55189973 0.20442647 0.16608946 0.07758428]], shape=(1, 4), dtype=float32)\n",
      "[0.3, 0.1, 0.1, 0.1]\n",
      "tf.Tensor([[0.55168444 0.20429093 0.16652901 0.07749559]], shape=(1, 4), dtype=float32)\n",
      "[0.2, 0.1, 0.1, 0.1]\n",
      "tf.Tensor([[0.5515469  0.20423846 0.1669158  0.07729889]], shape=(1, 4), dtype=float32)\n"
     ]
    },
    {
     "name": "stderr",
     "output_type": "stream",
     "text": [
      " 14%|█████████▊                                                              | 4101/30000 [2:46:48<15:38:35,  2.17s/it]"
     ]
    },
    {
     "name": "stdout",
     "output_type": "stream",
     "text": [
      "-18.99580067967404\n",
      "55\n"
     ]
    },
    {
     "name": "stderr",
     "output_type": "stream",
     "text": [
      " 14%|██████████                                                              | 4201/30000 [2:49:46<11:23:48,  1.59s/it]"
     ]
    },
    {
     "name": "stdout",
     "output_type": "stream",
     "text": [
      "-15.391868457309442\n",
      "67\n",
      "[0.6, 0.1, 0.6, 0.2]\n",
      "tf.Tensor([[0.56603444 0.19933237 0.16495639 0.0696768 ]], shape=(1, 4), dtype=float32)\n"
     ]
    },
    {
     "name": "stderr",
     "output_type": "stream",
     "text": [
      " 14%|██████████▎                                                             | 4301/30000 [2:52:32<12:18:17,  1.72s/it]"
     ]
    },
    {
     "name": "stdout",
     "output_type": "stream",
     "text": [
      "-12.688657309087427\n",
      "76\n"
     ]
    },
    {
     "name": "stderr",
     "output_type": "stream",
     "text": [
      " 15%|██████████▌                                                             | 4401/30000 [2:55:22<12:23:59,  1.74s/it]"
     ]
    },
    {
     "name": "stdout",
     "output_type": "stream",
     "text": [
      "-14.6066917247475\n",
      "69\n",
      "[0.1, 0.8, 0.2, 0.9]\n",
      "tf.Tensor([[0.60718    0.18453349 0.15370424 0.05458229]], shape=(1, 4), dtype=float32)\n",
      "[0.2, 0.8, 0.2, 0.9]\n",
      "tf.Tensor([[0.6142303  0.18984948 0.14324805 0.0526722 ]], shape=(1, 4), dtype=float32)\n"
     ]
    },
    {
     "name": "stderr",
     "output_type": "stream",
     "text": [
      " 15%|██████████▉                                                              | 4501/30000 [2:57:55<9:41:07,  1.37s/it]"
     ]
    },
    {
     "name": "stdout",
     "output_type": "stream",
     "text": [
      "-8.825018449184945\n",
      "78\n"
     ]
    },
    {
     "name": "stderr",
     "output_type": "stream",
     "text": [
      " 15%|███████████                                                             | 4600/30000 [3:00:38<11:02:12,  1.56s/it]"
     ]
    },
    {
     "name": "stdout",
     "output_type": "stream",
     "text": [
      "-10.986414736762505\n",
      "79\n",
      "[0.0, 0.4, 0.7, 0.1]\n",
      "tf.Tensor([[0.6650965  0.14876659 0.14285396 0.04328294]], shape=(1, 4), dtype=float32)\n",
      "[0.1, 0.4, 0.7, 0.1]\n",
      "tf.Tensor([[0.6661967  0.1545275  0.1358341  0.04344163]], shape=(1, 4), dtype=float32)\n",
      "[0.2, 0.4, 0.7, 0.1]\n",
      "tf.Tensor([[0.666905   0.15905593 0.13020356 0.04383548]], shape=(1, 4), dtype=float32)\n",
      "[0.3, 0.4, 0.7, 0.1]\n"
     ]
    },
    {
     "name": "stderr",
     "output_type": "stream",
     "text": [
      "\r",
      " 15%|███████████▏                                                             | 4601/30000 [3:00:39<8:32:27,  1.21s/it]"
     ]
    },
    {
     "name": "stdout",
     "output_type": "stream",
     "text": [
      "tf.Tensor([[0.667046   0.16195315 0.1264858  0.0445151 ]], shape=(1, 4), dtype=float32)\n",
      "[0.4, 0.4, 0.7, 0.1]\n",
      "tf.Tensor([[0.67232466 0.15983747 0.12424994 0.04358802]], shape=(1, 4), dtype=float32)\n",
      "[0.4, 0.3, 0.7, 0.1]\n",
      "tf.Tensor([[0.6735245  0.15882075 0.12377656 0.04387816]], shape=(1, 4), dtype=float32)\n",
      "[0.5, 0.3, 0.7, 0.1]\n",
      "tf.Tensor([[0.67982656 0.15428108 0.12299305 0.04289928]], shape=(1, 4), dtype=float32)\n",
      "[0.5, 0.2, 0.7, 0.1]\n",
      "tf.Tensor([[0.68055946 0.15361202 0.12266499 0.0431635 ]], shape=(1, 4), dtype=float32)\n",
      "[0.6, 0.2, 0.7, 0.1]\n",
      "tf.Tensor([[0.67463726 0.1566869  0.12461881 0.04405703]], shape=(1, 4), dtype=float32)\n",
      "[0.7, 0.2, 0.7, 0.1]\n",
      "tf.Tensor([[0.6810274  0.15248778 0.12355636 0.04292851]], shape=(1, 4), dtype=float32)\n"
     ]
    },
    {
     "name": "stderr",
     "output_type": "stream",
     "text": [
      " 16%|███████████▍                                                             | 4701/30000 [3:03:06<8:55:15,  1.27s/it]"
     ]
    },
    {
     "name": "stdout",
     "output_type": "stream",
     "text": [
      "-7.505162178312427\n",
      "91\n"
     ]
    },
    {
     "name": "stderr",
     "output_type": "stream",
     "text": [
      " 16%|███████████▌                                                            | 4801/30000 [3:05:24<13:18:57,  1.90s/it]"
     ]
    },
    {
     "name": "stdout",
     "output_type": "stream",
     "text": [
      "-9.28502885706331\n",
      "86\n",
      "[0.0, 0.3, 0.1, 0.1]\n",
      "tf.Tensor([[0.6562316  0.16052859 0.1413588  0.04188105]], shape=(1, 4), dtype=float32)\n",
      "[0.0, 0.2, 0.1, 0.1]\n",
      "tf.Tensor([[0.6627274  0.16483787 0.1308848  0.04154997]], shape=(1, 4), dtype=float32)\n",
      "[0.0, 0.1, 0.1, 0.1]\n",
      "tf.Tensor([[0.66528285 0.1683363  0.12452257 0.04185827]], shape=(1, 4), dtype=float32)\n"
     ]
    },
    {
     "name": "stderr",
     "output_type": "stream",
     "text": [
      " 16%|███████████▉                                                             | 4901/30000 [3:07:44<6:59:25,  1.00s/it]"
     ]
    },
    {
     "name": "stdout",
     "output_type": "stream",
     "text": [
      "-5.485281917410589\n",
      "88\n"
     ]
    },
    {
     "name": "stderr",
     "output_type": "stream",
     "text": [
      " 17%|████████████▏                                                            | 5000/30000 [3:09:47<8:49:59,  1.27s/it]"
     ]
    },
    {
     "name": "stdout",
     "output_type": "stream",
     "text": [
      "-4.809371950837256\n",
      "94\n",
      "[0.9, 0.8, 0.7, 0.1]\n",
      "tf.Tensor([[0.71326214 0.14794914 0.11027514 0.02851361]], shape=(1, 4), dtype=float32)\n",
      "[0.9, 0.7, 0.7, 0.1]\n",
      "tf.Tensor([[0.7289438  0.14744338 0.09731734 0.02629544]], shape=(1, 4), dtype=float32)\n",
      "[0.9, 0.6, 0.7, 0.1]\n",
      "tf.Tensor([[0.74177355 0.1444077  0.0890104  0.02480827]], shape=(1, 4), dtype=float32)\n",
      "[0.9, 0.5, 0.7, 0.1]\n"
     ]
    },
    {
     "name": "stderr",
     "output_type": "stream",
     "text": [
      "\r",
      " 17%|████████████▏                                                            | 5001/30000 [3:09:49<9:13:58,  1.33s/it]"
     ]
    },
    {
     "name": "stdout",
     "output_type": "stream",
     "text": [
      "tf.Tensor([[0.75254375 0.14005184 0.08354722 0.02385729]], shape=(1, 4), dtype=float32)\n",
      "[0.9, 0.4, 0.7, 0.1]\n",
      "tf.Tensor([[0.7511934  0.14032342 0.08417695 0.02430621]], shape=(1, 4), dtype=float32)\n",
      "[0.9, 0.3, 0.7, 0.1]\n",
      "tf.Tensor([[0.7515199  0.13853285 0.08592659 0.02402064]], shape=(1, 4), dtype=float32)\n",
      "[0.8, 0.3, 0.7, 0.1]\n",
      "tf.Tensor([[0.74771357 0.14065622 0.08661906 0.02501113]], shape=(1, 4), dtype=float32)\n",
      "[0.8, 0.2, 0.7, 0.1]\n",
      "tf.Tensor([[0.74753666 0.1391624  0.08864433 0.02465669]], shape=(1, 4), dtype=float32)\n",
      "[0.7, 0.2, 0.7, 0.1]\n",
      "tf.Tensor([[0.74274725 0.14238773 0.08914839 0.02571671]], shape=(1, 4), dtype=float32)\n"
     ]
    },
    {
     "name": "stderr",
     "output_type": "stream",
     "text": [
      " 17%|████████████▍                                                            | 5101/30000 [3:11:59<7:36:21,  1.10s/it]"
     ]
    },
    {
     "name": "stdout",
     "output_type": "stream",
     "text": [
      "-4.641007723975233\n",
      "89\n"
     ]
    },
    {
     "name": "stderr",
     "output_type": "stream",
     "text": [
      " 17%|████████████▋                                                            | 5201/30000 [3:13:56<4:39:12,  1.48it/s]"
     ]
    },
    {
     "name": "stdout",
     "output_type": "stream",
     "text": [
      "-1.4348686976341232\n",
      "92\n",
      "[0.9, 0.1, 0.7, 0.4]\n",
      "tf.Tensor([[0.77040184 0.11686075 0.09211241 0.02062494]], shape=(1, 4), dtype=float32)\n",
      "[0.9, 0.2, 0.7, 0.4]\n",
      "tf.Tensor([[0.78218794 0.11411165 0.08442732 0.01927313]], shape=(1, 4), dtype=float32)\n",
      "[0.8, 0.2, 0.7, 0.4]\n",
      "tf.Tensor([[0.8047986  0.10739344 0.07114407 0.01666385]], shape=(1, 4), dtype=float32)\n",
      "[0.8, 0.3, 0.7, 0.4]\n",
      "tf.Tensor([[0.8116642  0.10453422 0.06778201 0.01601954]], shape=(1, 4), dtype=float32)\n",
      "[0.7, 0.3, 0.7, 0.4]\n",
      "tf.Tensor([[0.81343573 0.10482969 0.06616995 0.0155646 ]], shape=(1, 4), dtype=float32)\n"
     ]
    },
    {
     "name": "stderr",
     "output_type": "stream",
     "text": [
      " 18%|████████████▋                                                           | 5301/30000 [3:15:45<10:22:17,  1.51s/it]"
     ]
    },
    {
     "name": "stdout",
     "output_type": "stream",
     "text": [
      "-4.827796819413184\n",
      "95\n"
     ]
    },
    {
     "name": "stderr",
     "output_type": "stream",
     "text": [
      " 18%|█████████████▏                                                           | 5400/30000 [3:17:28<5:34:32,  1.23it/s]"
     ]
    },
    {
     "name": "stdout",
     "output_type": "stream",
     "text": [
      "-2.3404909917765764\n",
      "98\n",
      "[0.7, 0.6, 0.2, 0.9]\n",
      "tf.Tensor([[0.7397044  0.13935916 0.09674416 0.02419229]], shape=(1, 4), dtype=float32)\n",
      "[0.6, 0.6, 0.2, 0.9]\n",
      "tf.Tensor([[0.7528617  0.13798194 0.08706398 0.02209235]], shape=(1, 4), dtype=float32)\n",
      "[0.5, 0.6, 0.2, 0.9]\n",
      "tf.Tensor([[0.7654124  0.13577761 0.07847019 0.02033984]], shape=(1, 4), dtype=float32)\n",
      "[0.4, 0.6, 0.2, 0.9]\n"
     ]
    },
    {
     "name": "stderr",
     "output_type": "stream",
     "text": [
      "\r",
      " 18%|█████████████▏                                                           | 5401/30000 [3:17:29<5:33:14,  1.23it/s]"
     ]
    },
    {
     "name": "stdout",
     "output_type": "stream",
     "text": [
      "tf.Tensor([[0.7869994  0.12878862 0.06661529 0.01759664]], shape=(1, 4), dtype=float32)\n",
      "[0.4, 0.7, 0.2, 0.9]\n",
      "tf.Tensor([[0.7821987  0.13081858 0.06846842 0.01851431]], shape=(1, 4), dtype=float32)\n",
      "[0.3, 0.7, 0.2, 0.9]\n",
      "tf.Tensor([[0.79001945 0.12752938 0.0649143  0.01753687]], shape=(1, 4), dtype=float32)\n",
      "[0.3, 0.8, 0.2, 0.9]\n",
      "tf.Tensor([[0.79560226 0.12469752 0.06260888 0.01709133]], shape=(1, 4), dtype=float32)\n",
      "[0.3, 0.9, 0.2, 0.9]\n",
      "tf.Tensor([[0.78645474 0.12967525 0.06574647 0.0181235 ]], shape=(1, 4), dtype=float32)\n"
     ]
    },
    {
     "name": "stderr",
     "output_type": "stream",
     "text": [
      " 18%|█████████████▍                                                           | 5501/30000 [3:19:10<8:10:08,  1.20s/it]"
     ]
    },
    {
     "name": "stdout",
     "output_type": "stream",
     "text": [
      "-2.7568587584213344\n",
      "95\n"
     ]
    },
    {
     "name": "stderr",
     "output_type": "stream",
     "text": [
      " 19%|█████████████▋                                                           | 5600/30000 [3:20:46<6:40:39,  1.01it/s]"
     ]
    },
    {
     "name": "stdout",
     "output_type": "stream",
     "text": [
      "-0.981272632201543\n",
      "99\n",
      "[0.3, 0.4, 0.6, 0.2]\n",
      "tf.Tensor([[0.7502691  0.1359899  0.08980468 0.0239363 ]], shape=(1, 4), dtype=float32)\n",
      "[0.4, 0.4, 0.6, 0.2]\n",
      "tf.Tensor([[0.7690202  0.13291493 0.07696757 0.02109728]], shape=(1, 4), dtype=float32)\n",
      "[0.4, 0.3, 0.6, 0.2]\n",
      "tf.Tensor([[0.78285813 0.12964249 0.06790531 0.01959407]], shape=(1, 4), dtype=float32)\n",
      "[0.5, 0.3, 0.6, 0.2]\n"
     ]
    },
    {
     "name": "stderr",
     "output_type": "stream",
     "text": [
      "\r",
      " 19%|█████████████▋                                                           | 5601/30000 [3:20:46<6:05:51,  1.11it/s]"
     ]
    },
    {
     "name": "stdout",
     "output_type": "stream",
     "text": [
      "tf.Tensor([[0.79867804 0.12295557 0.06065603 0.01771029]], shape=(1, 4), dtype=float32)\n",
      "[0.5, 0.2, 0.6, 0.2]\n",
      "tf.Tensor([[0.80095744 0.1216081  0.05980499 0.01762954]], shape=(1, 4), dtype=float32)\n"
     ]
    },
    {
     "name": "stderr",
     "output_type": "stream",
     "text": [
      " 19%|█████████████▊                                                           | 5701/30000 [3:22:20<5:56:12,  1.14it/s]"
     ]
    },
    {
     "name": "stdout",
     "output_type": "stream",
     "text": [
      "0.40215008859798973\n",
      "98\n"
     ]
    },
    {
     "name": "stderr",
     "output_type": "stream",
     "text": [
      " 19%|██████████████                                                           | 5801/30000 [3:23:52<7:12:08,  1.07s/it]"
     ]
    },
    {
     "name": "stdout",
     "output_type": "stream",
     "text": [
      "-0.5072641505858815\n",
      "99\n",
      "[0.7, 0.1, 0.7, 0.4]\n",
      "tf.Tensor([[0.77166224 0.13183911 0.075794   0.02070471]], shape=(1, 4), dtype=float32)\n",
      "[0.7, 0.2, 0.7, 0.4]\n",
      "tf.Tensor([[0.80488247 0.11926937 0.05919292 0.01665521]], shape=(1, 4), dtype=float32)\n",
      "[0.7, 0.3, 0.7, 0.4]\n",
      "tf.Tensor([[0.83336586 0.10655704 0.04660539 0.01347177]], shape=(1, 4), dtype=float32)\n"
     ]
    },
    {
     "name": "stderr",
     "output_type": "stream",
     "text": [
      " 20%|██████████████▎                                                          | 5901/30000 [3:25:32<7:03:25,  1.05s/it]"
     ]
    },
    {
     "name": "stdout",
     "output_type": "stream",
     "text": [
      "-2.462803965079191\n",
      "100\n"
     ]
    },
    {
     "name": "stderr",
     "output_type": "stream",
     "text": [
      " 20%|██████████████▌                                                          | 6001/30000 [3:26:53<8:36:11,  1.29s/it]"
     ]
    },
    {
     "name": "stdout",
     "output_type": "stream",
     "text": [
      "-0.8126712684800187\n",
      "100\n",
      "[0.3, 0.3, 0.6, 0.2]\n",
      "tf.Tensor([[0.7991115  0.11873051 0.06412768 0.01803028]], shape=(1, 4), dtype=float32)\n",
      "[0.4, 0.3, 0.6, 0.2]\n",
      "tf.Tensor([[0.8169902  0.11379161 0.05363448 0.01558363]], shape=(1, 4), dtype=float32)\n",
      "[0.5, 0.3, 0.6, 0.2]\n",
      "tf.Tensor([[0.8398604  0.10482393 0.04255416 0.01276144]], shape=(1, 4), dtype=float32)\n",
      "[0.5, 0.2, 0.6, 0.2]\n",
      "tf.Tensor([[0.857986   0.09581939 0.03538517 0.0108094 ]], shape=(1, 4), dtype=float32)\n"
     ]
    },
    {
     "name": "stderr",
     "output_type": "stream",
     "text": [
      " 20%|██████████████▊                                                          | 6101/30000 [3:28:22<5:16:53,  1.26it/s]"
     ]
    },
    {
     "name": "stdout",
     "output_type": "stream",
     "text": [
      "0.06283134250940464\n",
      "100\n"
     ]
    },
    {
     "name": "stderr",
     "output_type": "stream",
     "text": [
      " 21%|███████████████                                                          | 6200/30000 [3:29:38<5:28:34,  1.21it/s]"
     ]
    },
    {
     "name": "stdout",
     "output_type": "stream",
     "text": [
      "0.7096697847045815\n",
      "100\n",
      "[0.7, 0.5, 0.2, 0.9]\n",
      "tf.Tensor([[0.81045955 0.11576273 0.05793387 0.01584387]], shape=(1, 4), dtype=float32)\n",
      "[0.6, 0.5, 0.2, 0.9]\n",
      "tf.Tensor([[0.83499545 0.10593079 0.04647718 0.01259656]], shape=(1, 4), dtype=float32)\n",
      "[0.5, 0.5, 0.2, 0.9]\n",
      "tf.Tensor([[0.8685185  0.09002665 0.03256142 0.00889343]], shape=(1, 4), dtype=float32)\n",
      "[0.5, 0.6, 0.2, 0.9]\n",
      "tf.Tensor([[0.88589287 0.0799709  0.02690214 0.00723417]], shape=(1, 4), dtype=float32)\n",
      "[0.4, 0.6, 0.2, 0.9]\n"
     ]
    },
    {
     "name": "stderr",
     "output_type": "stream",
     "text": [
      "\r",
      " 21%|███████████████                                                          | 6201/30000 [3:29:39<5:18:28,  1.25it/s]"
     ]
    },
    {
     "name": "stdout",
     "output_type": "stream",
     "text": [
      "tf.Tensor([[0.8921822  0.07635111 0.02480356 0.00666317]], shape=(1, 4), dtype=float32)\n",
      "[0.4, 0.7, 0.2, 0.9]\n",
      "tf.Tensor([[0.8893206  0.07789941 0.0256917  0.00708833]], shape=(1, 4), dtype=float32)\n",
      "[0.3, 0.7, 0.2, 0.9]\n",
      "tf.Tensor([[0.89057696 0.07756816 0.02512329 0.00673164]], shape=(1, 4), dtype=float32)\n",
      "[0.3, 0.8, 0.2, 0.9]\n",
      "tf.Tensor([[0.8878611  0.07911835 0.02587566 0.00714492]], shape=(1, 4), dtype=float32)\n",
      "[0.2, 0.8, 0.2, 0.9]\n",
      "tf.Tensor([[0.88917476 0.07863966 0.02540822 0.00677744]], shape=(1, 4), dtype=float32)\n"
     ]
    },
    {
     "name": "stderr",
     "output_type": "stream",
     "text": [
      " 21%|███████████████▎                                                         | 6301/30000 [3:31:12<8:02:21,  1.22s/it]"
     ]
    },
    {
     "name": "stdout",
     "output_type": "stream",
     "text": [
      "-1.2303484245918945\n",
      "99\n"
     ]
    },
    {
     "name": "stderr",
     "output_type": "stream",
     "text": [
      " 21%|███████████████▌                                                         | 6400/30000 [3:32:29<3:37:59,  1.80it/s]"
     ]
    },
    {
     "name": "stdout",
     "output_type": "stream",
     "text": [
      "2.0079855875470765\n",
      "100\n",
      "[0.0, 0.8, 0.5, 0.7]\n",
      "tf.Tensor([[0.819093   0.1120401  0.05382302 0.01504401]], shape=(1, 4), dtype=float32)\n",
      "[0.1, 0.8, 0.5, 0.7]\n",
      "tf.Tensor([[0.84258527 0.10357887 0.0419996  0.01183628]], shape=(1, 4), dtype=float32)\n",
      "[0.2, 0.8, 0.5, 0.7]\n",
      "tf.Tensor([[0.86542636 0.0932666  0.03214655 0.00916058]], shape=(1, 4), dtype=float32)\n",
      "[0.3, 0.8, 0.5, 0.7]\n",
      "tf.Tensor([[0.88530254 0.08137931 0.02614505 0.00717306]], shape=(1, 4), dtype=float32)\n"
     ]
    },
    {
     "name": "stderr",
     "output_type": "stream",
     "text": [
      "\r",
      " 21%|███████████████▌                                                         | 6401/30000 [3:32:30<4:22:43,  1.50it/s]"
     ]
    },
    {
     "name": "stdout",
     "output_type": "stream",
     "text": [
      "[0.4, 0.8, 0.5, 0.7]\n",
      "tf.Tensor([[0.889202   0.07936595 0.02469113 0.00674095]], shape=(1, 4), dtype=float32)\n",
      "[0.4, 0.7, 0.5, 0.7]\n",
      "tf.Tensor([[0.89267355 0.0767937  0.02398081 0.00655191]], shape=(1, 4), dtype=float32)\n"
     ]
    },
    {
     "name": "stderr",
     "output_type": "stream",
     "text": [
      " 22%|███████████████▊                                                         | 6501/30000 [3:33:51<5:40:04,  1.15it/s]"
     ]
    },
    {
     "name": "stdout",
     "output_type": "stream",
     "text": [
      "1.53187198630607\n",
      "100\n"
     ]
    },
    {
     "name": "stderr",
     "output_type": "stream",
     "text": [
      " 22%|████████████████                                                         | 6600/30000 [3:35:11<5:06:34,  1.27it/s]"
     ]
    },
    {
     "name": "stdout",
     "output_type": "stream",
     "text": [
      "0.832458316975478\n",
      "100\n",
      "[0.3, 0.5, 0.1, 0.1]\n",
      "tf.Tensor([[0.8209211  0.11064297 0.05311227 0.01532357]], shape=(1, 4), dtype=float32)\n",
      "[0.3, 0.4, 0.1, 0.1]\n",
      "tf.Tensor([[0.85441935 0.09624321 0.03801555 0.01132187]], shape=(1, 4), dtype=float32)\n",
      "[0.3, 0.3, 0.1, 0.1]\n",
      "tf.Tensor([[0.8855377  0.07868055 0.02779877 0.00798303]], shape=(1, 4), dtype=float32)\n",
      "[0.2, 0.3, 0.1, 0.1]\n"
     ]
    },
    {
     "name": "stderr",
     "output_type": "stream",
     "text": [
      "\r",
      " 22%|████████████████                                                         | 6601/30000 [3:35:12<6:09:41,  1.05it/s]"
     ]
    },
    {
     "name": "stdout",
     "output_type": "stream",
     "text": [
      "tf.Tensor([[0.9070262  0.06628374 0.02068656 0.00600357]], shape=(1, 4), dtype=float32)\n",
      "[0.2, 0.2, 0.1, 0.1]\n",
      "tf.Tensor([[0.9068226  0.06572567 0.02151832 0.0059333 ]], shape=(1, 4), dtype=float32)\n",
      "[0.1, 0.2, 0.1, 0.1]\n",
      "tf.Tensor([[0.89980274 0.07063724 0.02293297 0.00662706]], shape=(1, 4), dtype=float32)\n"
     ]
    },
    {
     "name": "stderr",
     "output_type": "stream",
     "text": [
      " 22%|████████████████▎                                                        | 6700/30000 [3:36:28<6:42:11,  1.04s/it]"
     ]
    },
    {
     "name": "stdout",
     "output_type": "stream",
     "text": [
      "0.7260487412919909\n",
      "100\n"
     ]
    },
    {
     "name": "stderr",
     "output_type": "stream",
     "text": [
      " 23%|████████████████▌                                                        | 6800/30000 [3:37:47<4:15:22,  1.51it/s]"
     ]
    },
    {
     "name": "stdout",
     "output_type": "stream",
     "text": [
      "1.8825682019942511\n",
      "100\n",
      "[0.0, 0.4, 0.6, 0.2]\n",
      "tf.Tensor([[0.81048435 0.11063805 0.06195203 0.01692557]], shape=(1, 4), dtype=float32)\n",
      "[0.1, 0.4, 0.6, 0.2]\n",
      "tf.Tensor([[0.84335047 0.09762516 0.04634836 0.01267608]], shape=(1, 4), dtype=float32)\n",
      "[0.2, 0.4, 0.6, 0.2]\n",
      "tf.Tensor([[0.8756791  0.08231602 0.03298127 0.00902363]], shape=(1, 4), dtype=float32)\n",
      "[0.3, 0.4, 0.6, 0.2]\n"
     ]
    },
    {
     "name": "stderr",
     "output_type": "stream",
     "text": [
      "\r",
      " 23%|████████████████▌                                                        | 6801/30000 [3:37:48<4:05:04,  1.58it/s]"
     ]
    },
    {
     "name": "stdout",
     "output_type": "stream",
     "text": [
      "tf.Tensor([[0.9047493  0.0661922  0.02288708 0.00617145]], shape=(1, 4), dtype=float32)\n",
      "[0.4, 0.4, 0.6, 0.2]\n",
      "tf.Tensor([[0.9096827  0.06316748 0.02144876 0.00570108]], shape=(1, 4), dtype=float32)\n",
      "[0.4, 0.3, 0.6, 0.2]\n",
      "tf.Tensor([[0.91421974 0.06012224 0.02029432 0.00536369]], shape=(1, 4), dtype=float32)\n",
      "[0.5, 0.3, 0.6, 0.2]\n",
      "tf.Tensor([[0.91835266 0.05736468 0.01921485 0.00506785]], shape=(1, 4), dtype=float32)\n",
      "[0.5, 0.2, 0.6, 0.2]\n",
      "tf.Tensor([[0.9224148  0.05462086 0.01819899 0.00476531]], shape=(1, 4), dtype=float32)\n"
     ]
    },
    {
     "name": "stderr",
     "output_type": "stream",
     "text": [
      " 23%|████████████████▊                                                        | 6901/30000 [3:38:57<6:22:57,  1.01it/s]"
     ]
    },
    {
     "name": "stdout",
     "output_type": "stream",
     "text": [
      "1.9656236013869826\n",
      "100\n"
     ]
    },
    {
     "name": "stderr",
     "output_type": "stream",
     "text": [
      " 23%|█████████████████                                                        | 7000/30000 [3:40:07<2:55:25,  2.19it/s]"
     ]
    },
    {
     "name": "stdout",
     "output_type": "stream",
     "text": [
      "2.9317539809311657\n",
      "100\n",
      "[0.3, 0.2, 0.2, 0.9]\n",
      "tf.Tensor([[0.7423808  0.14414325 0.08753517 0.02594078]], shape=(1, 4), dtype=float32)\n",
      "[0.3, 0.3, 0.2, 0.9]\n",
      "tf.Tensor([[0.8064091  0.12014902 0.05628164 0.0171602 ]], shape=(1, 4), dtype=float32)\n",
      "[0.3, 0.4, 0.2, 0.9]\n",
      "tf.Tensor([[0.8684549  0.08943404 0.03222104 0.00989011]], shape=(1, 4), dtype=float32)\n",
      "[0.3, 0.5, 0.2, 0.9]\n"
     ]
    },
    {
     "name": "stderr",
     "output_type": "stream",
     "text": [
      "\r",
      " 23%|█████████████████                                                        | 7001/30000 [3:40:08<3:01:09,  2.12it/s]"
     ]
    },
    {
     "name": "stdout",
     "output_type": "stream",
     "text": [
      "tf.Tensor([[0.9138236  0.06252789 0.01833674 0.00531175]], shape=(1, 4), dtype=float32)\n",
      "[0.3, 0.6, 0.2, 0.9]\n",
      "tf.Tensor([[0.91510266 0.06195091 0.01785272 0.00509369]], shape=(1, 4), dtype=float32)\n",
      "[0.3, 0.7, 0.2, 0.9]\n",
      "tf.Tensor([[0.9164052  0.06131942 0.01739176 0.00488365]], shape=(1, 4), dtype=float32)\n",
      "[0.3, 0.8, 0.2, 0.9]\n",
      "tf.Tensor([[0.9118086  0.06433699 0.01862657 0.00522785]], shape=(1, 4), dtype=float32)\n",
      "[0.2, 0.8, 0.2, 0.9]\n",
      "tf.Tensor([[0.9135462  0.06365054 0.01793044 0.00487283]], shape=(1, 4), dtype=float32)\n"
     ]
    },
    {
     "name": "stderr",
     "output_type": "stream",
     "text": [
      " 24%|█████████████████▎                                                       | 7101/30000 [3:41:23<3:24:58,  1.86it/s]"
     ]
    },
    {
     "name": "stdout",
     "output_type": "stream",
     "text": [
      "1.2271606245798754\n",
      "100\n"
     ]
    },
    {
     "name": "stderr",
     "output_type": "stream",
     "text": [
      " 24%|█████████████████▌                                                       | 7201/30000 [3:42:30<2:54:26,  2.18it/s]"
     ]
    },
    {
     "name": "stdout",
     "output_type": "stream",
     "text": [
      "3.248587292778585\n",
      "100\n",
      "[0.7, 0.2, 0.6, 0.2]\n",
      "tf.Tensor([[0.62167275 0.1865134  0.1489087  0.04290517]], shape=(1, 4), dtype=float32)\n"
     ]
    },
    {
     "name": "stderr",
     "output_type": "stream",
     "text": [
      " 24%|█████████████████▊                                                       | 7301/30000 [3:43:43<4:18:54,  1.46it/s]"
     ]
    },
    {
     "name": "stdout",
     "output_type": "stream",
     "text": [
      "1.6331858398831312\n",
      "99\n"
     ]
    },
    {
     "name": "stderr",
     "output_type": "stream",
     "text": [
      " 25%|██████████████████                                                       | 7400/30000 [3:44:51<3:38:03,  1.73it/s]"
     ]
    },
    {
     "name": "stdout",
     "output_type": "stream",
     "text": [
      "3.114363865756416\n",
      "100\n",
      "[0.6, 0.2, 0.5, 0.7]\n",
      "tf.Tensor([[0.53035194 0.20904969 0.2006119  0.05998648]], shape=(1, 4), dtype=float32)\n",
      "[0.6, 0.3, 0.5, 0.7]\n",
      "tf.Tensor([[0.65376884 0.18366984 0.12355498 0.03900629]], shape=(1, 4), dtype=float32)\n",
      "[0.6, 0.4, 0.5, 0.7]\n",
      "tf.Tensor([[0.8043797  0.12385588 0.05405468 0.01770968]], shape=(1, 4), dtype=float32)\n",
      "[0.6, 0.5, 0.5, 0.7]\n",
      "tf.Tensor([[0.9095254  0.06533416 0.01925812 0.00588237]], shape=(1, 4), dtype=float32)\n",
      "[0.6, 0.6, 0.5, 0.7]\n"
     ]
    },
    {
     "name": "stderr",
     "output_type": "stream",
     "text": [
      "\r",
      " 25%|██████████████████                                                       | 7401/30000 [3:44:52<3:35:14,  1.75it/s]"
     ]
    },
    {
     "name": "stdout",
     "output_type": "stream",
     "text": [
      "tf.Tensor([[0.9046001  0.06820354 0.02094581 0.0062506 ]], shape=(1, 4), dtype=float32)\n",
      "[0.5, 0.6, 0.5, 0.7]\n",
      "tf.Tensor([[0.9070111  0.06731485 0.01985366 0.00582045]], shape=(1, 4), dtype=float32)\n"
     ]
    },
    {
     "name": "stderr",
     "output_type": "stream",
     "text": [
      " 25%|██████████████████▎                                                      | 7501/30000 [3:45:56<3:53:56,  1.60it/s]"
     ]
    },
    {
     "name": "stdout",
     "output_type": "stream",
     "text": [
      "3.5459583755721993\n",
      "100\n"
     ]
    },
    {
     "name": "stderr",
     "output_type": "stream",
     "text": [
      " 25%|██████████████████▍                                                      | 7600/30000 [3:46:58<3:06:06,  2.01it/s]"
     ]
    },
    {
     "name": "stdout",
     "output_type": "stream",
     "text": [
      "3.9026718854005744\n",
      "100\n",
      "[0.7, 0.8, 0.6, 0.2]\n",
      "tf.Tensor([[0.38816467 0.22508104 0.30736604 0.07938825]], shape=(1, 4), dtype=float32)\n",
      "[0.7, 0.7, 0.6, 0.2]\n",
      "tf.Tensor([[0.5389241  0.21875614 0.1905788  0.05174098]], shape=(1, 4), dtype=float32)\n",
      "[0.7, 0.6, 0.6, 0.2]\n",
      "tf.Tensor([[0.76598185 0.1433484  0.07004236 0.02062737]], shape=(1, 4), dtype=float32)\n",
      "[0.7, 0.5, 0.6, 0.2]\n",
      "tf.Tensor([[0.9106076  0.06433302 0.01959902 0.00546043]], shape=(1, 4), dtype=float32)\n",
      "[0.7, 0.4, 0.6, 0.2]\n"
     ]
    },
    {
     "name": "stderr",
     "output_type": "stream",
     "text": [
      "\r",
      " 25%|██████████████████▍                                                      | 7601/30000 [3:46:59<3:41:11,  1.69it/s]"
     ]
    },
    {
     "name": "stdout",
     "output_type": "stream",
     "text": [
      "tf.Tensor([[0.9083696  0.06561105 0.02028432 0.00573501]], shape=(1, 4), dtype=float32)\n",
      "[0.7, 0.3, 0.6, 0.2]\n",
      "tf.Tensor([[0.90641356 0.0666797  0.02091522 0.00599155]], shape=(1, 4), dtype=float32)\n",
      "[0.7, 0.2, 0.6, 0.2]\n",
      "tf.Tensor([[0.9084121  0.06473264 0.0211657  0.00568958]], shape=(1, 4), dtype=float32)\n"
     ]
    },
    {
     "name": "stderr",
     "output_type": "stream",
     "text": [
      " 26%|██████████████████▋                                                      | 7701/30000 [3:48:01<5:02:50,  1.23it/s]"
     ]
    },
    {
     "name": "stdout",
     "output_type": "stream",
     "text": [
      "2.9707366909831014\n",
      "100\n"
     ]
    },
    {
     "name": "stderr",
     "output_type": "stream",
     "text": [
      " 26%|██████████████████▉                                                      | 7801/30000 [3:49:06<4:35:23,  1.34it/s]"
     ]
    },
    {
     "name": "stdout",
     "output_type": "stream",
     "text": [
      "2.897206001004277\n",
      "100\n",
      "[0.7, 0.3, 0.7, 0.4]\n",
      "tf.Tensor([[0.31292808 0.19942693 0.38858607 0.09905894]], shape=(1, 4), dtype=float32)\n",
      "[0.7, 0.6, 0.7, 0.4]\n",
      "tf.Tensor([[0.49376407 0.20942627 0.23355456 0.06325515]], shape=(1, 4), dtype=float32)\n",
      "[0.7, 0.5, 0.7, 0.4]\n",
      "tf.Tensor([[0.7626707  0.14135106 0.0730579  0.02292037]], shape=(1, 4), dtype=float32)\n"
     ]
    },
    {
     "name": "stderr",
     "output_type": "stream",
     "text": [
      " 26%|███████████████████▏                                                     | 7901/30000 [3:50:06<4:21:30,  1.41it/s]"
     ]
    },
    {
     "name": "stdout",
     "output_type": "stream",
     "text": [
      "3.822927193819331\n",
      "100\n"
     ]
    },
    {
     "name": "stderr",
     "output_type": "stream",
     "text": [
      " 27%|███████████████████▍                                                     | 8000/30000 [3:51:05<2:55:41,  2.09it/s]"
     ]
    },
    {
     "name": "stdout",
     "output_type": "stream",
     "text": [
      "4.34942656928913\n",
      "100\n",
      "[0.2, 0.3, 0.7, 0.4]\n",
      "tf.Tensor([[0.24310192 0.21224102 0.41489568 0.12976146]], shape=(1, 4), dtype=float32)\n",
      "[0.5, 0.3, 0.7, 0.4]\n",
      "tf.Tensor([[0.3493217  0.23575714 0.31559157 0.09932958]], shape=(1, 4), dtype=float32)\n",
      "[0.6, 0.3, 0.7, 0.4]\n",
      "tf.Tensor([[0.61769503 0.19438061 0.14136997 0.04655442]], shape=(1, 4), dtype=float32)\n",
      "[0.7, 0.3, 0.7, 0.4]\n"
     ]
    },
    {
     "name": "stderr",
     "output_type": "stream",
     "text": [
      "\r",
      " 27%|███████████████████▍                                                     | 8001/30000 [3:51:07<4:27:23,  1.37it/s]"
     ]
    },
    {
     "name": "stdout",
     "output_type": "stream",
     "text": [
      "tf.Tensor([[0.914699   0.06033404 0.01927922 0.00568775]], shape=(1, 4), dtype=float32)\n"
     ]
    },
    {
     "name": "stderr",
     "output_type": "stream",
     "text": [
      " 27%|███████████████████▋                                                     | 8101/30000 [3:52:05<3:43:14,  1.63it/s]"
     ]
    },
    {
     "name": "stdout",
     "output_type": "stream",
     "text": [
      "3.913620792019413\n",
      "100\n"
     ]
    },
    {
     "name": "stderr",
     "output_type": "stream",
     "text": [
      " 27%|███████████████████▉                                                     | 8201/30000 [3:53:03<4:13:32,  1.43it/s]"
     ]
    },
    {
     "name": "stdout",
     "output_type": "stream",
     "text": [
      "3.966806039791932\n",
      "100\n",
      "[0.0, 0.7, 0.1, 0.1]\n",
      "tf.Tensor([[0.22602059 0.2040484  0.43868196 0.13124913]], shape=(1, 4), dtype=float32)\n",
      "[0.0, 0.4, 0.1, 0.1]\n",
      "tf.Tensor([[0.3249472  0.23275807 0.33862785 0.10366682]], shape=(1, 4), dtype=float32)\n",
      "[0.0, 0.1, 0.1, 0.1]\n",
      "tf.Tensor([[0.5991343  0.19869973 0.15127313 0.05089279]], shape=(1, 4), dtype=float32)\n"
     ]
    },
    {
     "name": "stderr",
     "output_type": "stream",
     "text": [
      " 28%|████████████████████▏                                                    | 8301/30000 [3:54:01<4:39:24,  1.29it/s]"
     ]
    },
    {
     "name": "stdout",
     "output_type": "stream",
     "text": [
      "3.0953089171880026\n",
      "100\n"
     ]
    },
    {
     "name": "stderr",
     "output_type": "stream",
     "text": [
      " 28%|████████████████████▍                                                    | 8401/30000 [3:54:57<4:43:34,  1.27it/s]"
     ]
    },
    {
     "name": "stdout",
     "output_type": "stream",
     "text": [
      "4.334941935250948\n",
      "100\n",
      "[0.0, 0.6, 0.5, 0.7]\n",
      "tf.Tensor([[0.18789215 0.1957099  0.4735055  0.14289238]], shape=(1, 4), dtype=float32)\n",
      "[0.3, 0.6, 0.5, 0.7]\n",
      "tf.Tensor([[0.24308734 0.22028582 0.41134584 0.12528099]], shape=(1, 4), dtype=float32)\n",
      "[0.6, 0.6, 0.5, 0.7]\n",
      "tf.Tensor([[0.5416407  0.20781745 0.19391961 0.05662225]], shape=(1, 4), dtype=float32)\n",
      "[0.5, 0.6, 0.5, 0.7]\n",
      "tf.Tensor([[0.9517084  0.03519722 0.01055169 0.00254264]], shape=(1, 4), dtype=float32)\n"
     ]
    },
    {
     "name": "stderr",
     "output_type": "stream",
     "text": [
      " 28%|████████████████████▋                                                    | 8501/30000 [3:55:51<2:13:02,  2.69it/s]"
     ]
    },
    {
     "name": "stdout",
     "output_type": "stream",
     "text": [
      "4.488342717278504\n",
      "100\n"
     ]
    },
    {
     "name": "stderr",
     "output_type": "stream",
     "text": [
      " 29%|████████████████████▉                                                    | 8601/30000 [3:56:46<3:35:12,  1.66it/s]"
     ]
    },
    {
     "name": "stdout",
     "output_type": "stream",
     "text": [
      "3.6837244802510147\n",
      "100\n",
      "[0.3, 0.3, 0.2, 0.9]\n",
      "tf.Tensor([[0.1924863  0.19875315 0.45765698 0.15110357]], shape=(1, 4), dtype=float32)\n",
      "[0.3, 0.6, 0.2, 0.9]\n",
      "tf.Tensor([[0.27992043 0.2320646  0.36659065 0.12142431]], shape=(1, 4), dtype=float32)\n",
      "[0.3, 0.9, 0.2, 0.9]\n",
      "tf.Tensor([[0.6955914  0.1586993  0.11174881 0.03396059]], shape=(1, 4), dtype=float32)\n"
     ]
    },
    {
     "name": "stderr",
     "output_type": "stream",
     "text": [
      " 29%|█████████████████████▏                                                   | 8701/30000 [3:57:42<3:24:58,  1.73it/s]"
     ]
    },
    {
     "name": "stdout",
     "output_type": "stream",
     "text": [
      "4.0177516678201695\n",
      "100\n"
     ]
    },
    {
     "name": "stderr",
     "output_type": "stream",
     "text": [
      " 29%|█████████████████████▍                                                   | 8801/30000 [3:58:35<3:30:01,  1.68it/s]"
     ]
    },
    {
     "name": "stdout",
     "output_type": "stream",
     "text": [
      "4.104644783074472\n",
      "100\n",
      "[0.0, 0.5, 0.1, 0.1]\n",
      "tf.Tensor([[0.19214256 0.19989514 0.4643443  0.14361802]], shape=(1, 4), dtype=float32)\n",
      "[0.0, 0.2, 0.1, 0.1]\n",
      "tf.Tensor([[0.26393765 0.23398194 0.3825926  0.1194878 ]], shape=(1, 4), dtype=float32)\n",
      "[0.0, 0.0, 0.1, 0.1]\n",
      "tf.Tensor([[0.58555263 0.19627005 0.16564247 0.05253485]], shape=(1, 4), dtype=float32)\n",
      "[0.0, 0.1, 0.1, 0.1]\n",
      "tf.Tensor([[0.95909154 0.02928769 0.00923324 0.00238752]], shape=(1, 4), dtype=float32)\n"
     ]
    },
    {
     "name": "stderr",
     "output_type": "stream",
     "text": [
      " 30%|█████████████████████▋                                                   | 8901/30000 [3:59:28<2:50:11,  2.07it/s]"
     ]
    },
    {
     "name": "stdout",
     "output_type": "stream",
     "text": [
      "4.9453740673755116\n",
      "100\n"
     ]
    },
    {
     "name": "stderr",
     "output_type": "stream",
     "text": [
      " 30%|█████████████████████▉                                                   | 9000/30000 [4:00:14<2:41:57,  2.16it/s]"
     ]
    },
    {
     "name": "stdout",
     "output_type": "stream",
     "text": [
      "4.745978757899537\n",
      "100\n",
      "[0.7, 0.8, 0.1, 0.1]\n",
      "tf.Tensor([[0.17191757 0.2040474  0.46150804 0.16252702]], shape=(1, 4), dtype=float32)\n",
      "[0.7, 0.5, 0.1, 0.1]\n",
      "tf.Tensor([[0.2480603  0.2443934  0.37772882 0.12981741]], shape=(1, 4), dtype=float32)\n",
      "[0.4, 0.5, 0.1, 0.1]\n",
      "tf.Tensor([[0.7375063  0.14361311 0.09111156 0.02776902]], shape=(1, 4), dtype=float32)\n",
      "[0.4, 0.4, 0.1, 0.1]\n"
     ]
    },
    {
     "name": "stderr",
     "output_type": "stream",
     "text": [
      "\r",
      " 30%|█████████████████████▉                                                   | 9001/30000 [4:00:15<3:42:51,  1.57it/s]"
     ]
    },
    {
     "name": "stdout",
     "output_type": "stream",
     "text": [
      "tf.Tensor([[0.9781959  0.0164083  0.0043127  0.00108309]], shape=(1, 4), dtype=float32)\n",
      "[0.4, 0.3, 0.1, 0.1]\n",
      "tf.Tensor([[0.976188   0.0177119  0.0049275  0.00117265]], shape=(1, 4), dtype=float32)\n",
      "[0.3, 0.3, 0.1, 0.1]\n",
      "tf.Tensor([[0.9731939  0.01980679 0.00555939 0.00143999]], shape=(1, 4), dtype=float32)\n",
      "[0.3, 0.2, 0.1, 0.1]\n",
      "tf.Tensor([[0.9729715  0.01983166 0.00578555 0.00141134]], shape=(1, 4), dtype=float32)\n",
      "[0.2, 0.2, 0.1, 0.1]\n",
      "tf.Tensor([[0.96688485 0.02405906 0.00716208 0.00189406]], shape=(1, 4), dtype=float32)\n",
      "[0.2, 0.1, 0.1, 0.1]\n",
      "tf.Tensor([[0.96843886 0.02280794 0.00699739 0.00175576]], shape=(1, 4), dtype=float32)\n"
     ]
    },
    {
     "name": "stderr",
     "output_type": "stream",
     "text": [
      " 30%|██████████████████████▏                                                  | 9101/30000 [4:01:05<3:37:34,  1.60it/s]"
     ]
    },
    {
     "name": "stdout",
     "output_type": "stream",
     "text": [
      "4.953442147967199\n",
      "100\n"
     ]
    },
    {
     "name": "stderr",
     "output_type": "stream",
     "text": [
      " 31%|██████████████████████▍                                                  | 9200/30000 [4:01:52<3:16:38,  1.76it/s]"
     ]
    },
    {
     "name": "stdout",
     "output_type": "stream",
     "text": [
      "4.02509087125277\n",
      "100\n",
      "[0.2, 0.2, 0.1, 0.1]\n",
      "tf.Tensor([[0.16421016 0.22138852 0.4307342  0.18366714]], shape=(1, 4), dtype=float32)\n",
      "[0.2, 0.0, 0.1, 0.1]\n",
      "tf.Tensor([[0.2156876  0.2448206  0.38066006 0.15883173]], shape=(1, 4), dtype=float32)\n",
      "[0.2, 0.3, 0.1, 0.1]\n",
      "tf.Tensor([[0.6253798  0.1897528  0.13569891 0.04916845]], shape=(1, 4), dtype=float32)\n"
     ]
    },
    {
     "name": "stderr",
     "output_type": "stream",
     "text": [
      "\r",
      " 31%|██████████████████████▍                                                  | 9201/30000 [4:01:54<4:42:19,  1.23it/s]"
     ]
    },
    {
     "name": "stdout",
     "output_type": "stream",
     "text": [
      "[0.2, 0.2, 0.1, 0.1]\n",
      "tf.Tensor([[0.9673429  0.02374093 0.00695239 0.00196376]], shape=(1, 4), dtype=float32)\n",
      "[0.2, 0.1, 0.1, 0.1]\n",
      "tf.Tensor([[0.969059   0.0223481  0.00681759 0.00177528]], shape=(1, 4), dtype=float32)\n"
     ]
    },
    {
     "name": "stderr",
     "output_type": "stream",
     "text": [
      " 31%|██████████████████████▋                                                  | 9301/30000 [4:02:40<2:54:46,  1.97it/s]"
     ]
    },
    {
     "name": "stdout",
     "output_type": "stream",
     "text": [
      "5.489487431849489\n",
      "100\n"
     ]
    },
    {
     "name": "stderr",
     "output_type": "stream",
     "text": [
      " 31%|██████████████████████▊                                                  | 9400/30000 [4:03:29<2:23:12,  2.40it/s]"
     ]
    },
    {
     "name": "stdout",
     "output_type": "stream",
     "text": [
      "5.282252428361619\n",
      "100\n",
      "[0.1, 0.6, 0.6, 0.2]\n",
      "tf.Tensor([[0.13377935 0.20255962 0.48663205 0.17702895]], shape=(1, 4), dtype=float32)\n",
      "[0.4, 0.6, 0.6, 0.2]\n",
      "tf.Tensor([[0.20081669 0.23781206 0.4195196  0.14185172]], shape=(1, 4), dtype=float32)\n",
      "[0.4, 0.3, 0.6, 0.2]\n",
      "tf.Tensor([[0.5324456  0.22268237 0.1868718  0.05800029]], shape=(1, 4), dtype=float32)\n",
      "[0.5, 0.3, 0.6, 0.2]\n"
     ]
    },
    {
     "name": "stderr",
     "output_type": "stream",
     "text": [
      " 31%|██████████████████████▉                                                  | 9402/30000 [4:03:29<1:51:12,  3.09it/s]"
     ]
    },
    {
     "name": "stdout",
     "output_type": "stream",
     "text": [
      "tf.Tensor([[0.96633154 0.02476853 0.00705677 0.00184318]], shape=(1, 4), dtype=float32)\n",
      "[0.5, 0.2, 0.6, 0.2]\n",
      "tf.Tensor([[0.9722748  0.02054267 0.005751   0.00143157]], shape=(1, 4), dtype=float32)\n"
     ]
    },
    {
     "name": "stderr",
     "output_type": "stream",
     "text": [
      " 32%|███████████████████████                                                  | 9501/30000 [4:04:18<2:28:50,  2.30it/s]"
     ]
    },
    {
     "name": "stdout",
     "output_type": "stream",
     "text": [
      "5.3403453476522165\n",
      "100\n"
     ]
    },
    {
     "name": "stderr",
     "output_type": "stream",
     "text": [
      " 32%|███████████████████████▎                                                 | 9600/30000 [4:05:06<2:34:37,  2.20it/s]"
     ]
    },
    {
     "name": "stdout",
     "output_type": "stream",
     "text": [
      "5.449835423649097\n",
      "100\n",
      "[0.3, 0.0, 0.2, 0.9]\n",
      "tf.Tensor([[0.12471621 0.20951428 0.4565874  0.20918208]], shape=(1, 4), dtype=float32)\n",
      "[0.3, 0.3, 0.2, 0.9]\n",
      "tf.Tensor([[0.16020127 0.22513017 0.42313963 0.19152895]], shape=(1, 4), dtype=float32)\n",
      "[0.3, 0.6, 0.2, 0.9]\n",
      "tf.Tensor([[0.5132387  0.23062044 0.18586364 0.07027718]], shape=(1, 4), dtype=float32)\n"
     ]
    },
    {
     "name": "stderr",
     "output_type": "stream",
     "text": [
      "\r",
      " 32%|███████████████████████▎                                                 | 9601/30000 [4:05:07<3:01:44,  1.87it/s]"
     ]
    },
    {
     "name": "stdout",
     "output_type": "stream",
     "text": [
      "[0.3, 0.7, 0.2, 0.9]\n",
      "tf.Tensor([[0.9775514  0.01701255 0.00436384 0.0010722 ]], shape=(1, 4), dtype=float32)\n",
      "[0.3, 0.8, 0.2, 0.9]\n",
      "tf.Tensor([[0.9785502  0.01623759 0.00420667 0.0010056 ]], shape=(1, 4), dtype=float32)\n",
      "[0.2, 0.8, 0.2, 0.9]\n",
      "tf.Tensor([[9.8102194e-01 1.4613845e-02 3.5442945e-03 8.1988593e-04]], shape=(1, 4), dtype=float32)\n"
     ]
    },
    {
     "name": "stderr",
     "output_type": "stream",
     "text": [
      " 32%|███████████████████████▌                                                 | 9701/30000 [4:05:55<1:57:04,  2.89it/s]"
     ]
    },
    {
     "name": "stdout",
     "output_type": "stream",
     "text": [
      "5.846469653253545\n",
      "100\n"
     ]
    },
    {
     "name": "stderr",
     "output_type": "stream",
     "text": [
      " 33%|███████████████████████▊                                                 | 9800/30000 [4:06:41<2:29:44,  2.25it/s]"
     ]
    },
    {
     "name": "stdout",
     "output_type": "stream",
     "text": [
      "5.524227907354438\n",
      "100\n",
      "[0.8, 0.0, 0.7, 0.1]\n",
      "tf.Tensor([[0.12212978 0.21192352 0.4501551  0.21579166]], shape=(1, 4), dtype=float32)\n",
      "[0.5, 0.0, 0.7, 0.1]\n",
      "tf.Tensor([[0.16855632 0.23859946 0.4102211  0.1826232 ]], shape=(1, 4), dtype=float32)\n",
      "[0.8, 0.0, 0.7, 0.1]\n",
      "tf.Tensor([[0.55381465 0.20943849 0.1773633  0.05938359]], shape=(1, 4), dtype=float32)\n",
      "[0.7, 0.0, 0.7, 0.1]\n",
      "tf.Tensor([[9.7990406e-01 1.5185135e-02 3.9910427e-03 9.1965141e-04]], shape=(1, 4), dtype=float32)\n"
     ]
    },
    {
     "name": "stderr",
     "output_type": "stream",
     "text": [
      " 33%|████████████████████████                                                 | 9901/30000 [4:07:35<2:27:24,  2.27it/s]"
     ]
    },
    {
     "name": "stdout",
     "output_type": "stream",
     "text": [
      "5.207725180097263\n",
      "100\n"
     ]
    },
    {
     "name": "stderr",
     "output_type": "stream",
     "text": [
      " 33%|████████████████████████                                                | 10001/30000 [4:08:21<3:10:48,  1.75it/s]"
     ]
    },
    {
     "name": "stdout",
     "output_type": "stream",
     "text": [
      "5.018328414386193\n",
      "100\n",
      "[0.0, 0.1, 0.7, 0.1]\n",
      "tf.Tensor([[0.11311623 0.21265899 0.4215303  0.2526944 ]], shape=(1, 4), dtype=float32)\n",
      "[0.3, 0.1, 0.7, 0.1]\n",
      "tf.Tensor([[0.13496216 0.229456   0.3979027  0.23767917]], shape=(1, 4), dtype=float32)\n",
      "[0.6, 0.1, 0.7, 0.1]\n",
      "tf.Tensor([[0.37006715 0.2728025  0.24294274 0.11418761]], shape=(1, 4), dtype=float32)\n"
     ]
    },
    {
     "name": "stderr",
     "output_type": "stream",
     "text": [
      " 34%|████████████████████████▏                                               | 10101/30000 [4:09:08<3:06:54,  1.77it/s]"
     ]
    },
    {
     "name": "stdout",
     "output_type": "stream",
     "text": [
      "5.402994455297597\n",
      "100\n"
     ]
    },
    {
     "name": "stderr",
     "output_type": "stream",
     "text": [
      " 34%|████████████████████████▍                                               | 10201/30000 [4:09:58<2:49:49,  1.94it/s]"
     ]
    },
    {
     "name": "stdout",
     "output_type": "stream",
     "text": [
      "4.835648180466281\n",
      "100\n",
      "[0.4, 0.1, 0.7, 0.1]\n",
      "tf.Tensor([[0.125871   0.22734337 0.40202913 0.2447565 ]], shape=(1, 4), dtype=float32)\n"
     ]
    },
    {
     "name": "stderr",
     "output_type": "stream",
     "text": [
      " 34%|████████████████████████▋                                               | 10301/30000 [4:10:45<2:18:44,  2.37it/s]"
     ]
    },
    {
     "name": "stdout",
     "output_type": "stream",
     "text": [
      "5.69544146855675\n",
      "100\n"
     ]
    },
    {
     "name": "stderr",
     "output_type": "stream",
     "text": [
      " 35%|████████████████████████▉                                               | 10400/30000 [4:11:31<2:42:25,  2.01it/s]"
     ]
    },
    {
     "name": "stdout",
     "output_type": "stream",
     "text": [
      "4.991910654135927\n",
      "100\n",
      "[0.7, 0.2, 0.6, 0.2]\n",
      "tf.Tensor([[0.1175757  0.22303487 0.40205342 0.25733602]], shape=(1, 4), dtype=float32)\n",
      "[0.4, 0.2, 0.6, 0.2]\n",
      "tf.Tensor([[0.16306739 0.2601957  0.36105984 0.2156771 ]], shape=(1, 4), dtype=float32)\n"
     ]
    },
    {
     "name": "stderr",
     "output_type": "stream",
     "text": [
      "\r",
      " 35%|████████████████████████▉                                               | 10401/30000 [4:11:32<3:15:06,  1.67it/s]"
     ]
    },
    {
     "name": "stdout",
     "output_type": "stream",
     "text": [
      "[0.7, 0.2, 0.6, 0.2]\n",
      "tf.Tensor([[0.59727126 0.21871574 0.1316182  0.05239481]], shape=(1, 4), dtype=float32)\n"
     ]
    },
    {
     "name": "stderr",
     "output_type": "stream",
     "text": [
      " 35%|█████████████████████████▏                                              | 10501/30000 [4:12:16<2:06:25,  2.57it/s]"
     ]
    },
    {
     "name": "stdout",
     "output_type": "stream",
     "text": [
      "6.131441466793602\n",
      "100\n"
     ]
    },
    {
     "name": "stderr",
     "output_type": "stream",
     "text": [
      " 35%|█████████████████████████▍                                              | 10600/30000 [4:13:02<2:32:18,  2.12it/s]"
     ]
    },
    {
     "name": "stdout",
     "output_type": "stream",
     "text": [
      "5.397692447375966\n",
      "100\n",
      "[0.3, 0.1, 0.2, 0.9]\n",
      "tf.Tensor([[0.10628973 0.2132048  0.40872818 0.27177724]], shape=(1, 4), dtype=float32)\n",
      "[0.3, 0.4, 0.2, 0.9]\n",
      "tf.Tensor([[0.13925983 0.24178793 0.37530965 0.24364261]], shape=(1, 4), dtype=float32)\n",
      "[0.3, 0.7, 0.2, 0.9]\n",
      "tf.Tensor([[0.5718276  0.23993252 0.1304261  0.05781376]], shape=(1, 4), dtype=float32)\n",
      "[0.3, 0.8, 0.2, 0.9]\n"
     ]
    },
    {
     "name": "stderr",
     "output_type": "stream",
     "text": [
      "\r",
      " 35%|█████████████████████████▍                                              | 10601/30000 [4:13:03<2:54:34,  1.85it/s]"
     ]
    },
    {
     "name": "stdout",
     "output_type": "stream",
     "text": [
      "tf.Tensor([[9.8292327e-01 1.3672049e-02 2.7492188e-03 6.5544993e-04]], shape=(1, 4), dtype=float32)\n",
      "[0.2, 0.8, 0.2, 0.9]\n",
      "tf.Tensor([[9.8535442e-01 1.1905370e-02 2.2359397e-03 5.0419383e-04]], shape=(1, 4), dtype=float32)\n"
     ]
    },
    {
     "name": "stderr",
     "output_type": "stream",
     "text": [
      " 36%|█████████████████████████▋                                              | 10701/30000 [4:13:49<4:08:08,  1.30it/s]"
     ]
    },
    {
     "name": "stdout",
     "output_type": "stream",
     "text": [
      "4.534163618910827\n",
      "100\n"
     ]
    },
    {
     "name": "stderr",
     "output_type": "stream",
     "text": [
      " 36%|█████████████████████████▉                                              | 10800/30000 [4:14:34<2:41:07,  1.99it/s]"
     ]
    },
    {
     "name": "stdout",
     "output_type": "stream",
     "text": [
      "5.635539668829871\n",
      "100\n",
      "[0.5, 0.5, 0.7, 0.4]\n",
      "tf.Tensor([[0.11799798 0.23620275 0.36173746 0.28406173]], shape=(1, 4), dtype=float32)\n",
      "[0.8, 0.5, 0.7, 0.4]\n",
      "tf.Tensor([[0.17448905 0.2891592  0.32284197 0.21350978]], shape=(1, 4), dtype=float32)\n",
      "[0.5, 0.5, 0.7, 0.4]\n",
      "tf.Tensor([[0.6192798  0.23164822 0.10589329 0.04317876]], shape=(1, 4), dtype=float32)\n",
      "[0.6, 0.5, 0.7, 0.4]\n"
     ]
    },
    {
     "name": "stderr",
     "output_type": "stream",
     "text": [
      "\r",
      " 36%|█████████████████████████▉                                              | 10801/30000 [4:14:34<2:23:54,  2.22it/s]"
     ]
    },
    {
     "name": "stdout",
     "output_type": "stream",
     "text": [
      "tf.Tensor([[9.7885478e-01 1.6992725e-02 3.3342720e-03 8.1825297e-04]], shape=(1, 4), dtype=float32)\n",
      "[0.6, 0.4, 0.7, 0.4]\n",
      "tf.Tensor([[9.8064178e-01 1.5599835e-02 3.0411095e-03 7.1731594e-04]], shape=(1, 4), dtype=float32)\n"
     ]
    },
    {
     "name": "stderr",
     "output_type": "stream",
     "text": [
      " 36%|██████████████████████████▏                                             | 10901/30000 [4:15:24<3:27:20,  1.54it/s]"
     ]
    },
    {
     "name": "stdout",
     "output_type": "stream",
     "text": [
      "4.62868777855443\n",
      "100\n"
     ]
    },
    {
     "name": "stderr",
     "output_type": "stream",
     "text": [
      " 37%|██████████████████████████▍                                             | 11000/30000 [4:16:09<2:46:26,  1.90it/s]"
     ]
    },
    {
     "name": "stdout",
     "output_type": "stream",
     "text": [
      "5.598325826378559\n",
      "100\n",
      "[0.6, 0.5, 0.7, 0.4]\n",
      "tf.Tensor([[0.1181414  0.23414673 0.3648374  0.28287446]], shape=(1, 4), dtype=float32)\n",
      "[0.6, 0.2, 0.7, 0.4]\n",
      "tf.Tensor([[0.16442549 0.2786238  0.32587755 0.23107319]], shape=(1, 4), dtype=float32)\n",
      "[0.6, 0.5, 0.7, 0.4]\n",
      "tf.Tensor([[0.6862237  0.19858183 0.08157065 0.03362391]], shape=(1, 4), dtype=float32)\n",
      "[0.6, 0.4, 0.7, 0.4]\n"
     ]
    },
    {
     "name": "stderr",
     "output_type": "stream",
     "text": [
      "\r",
      " 37%|██████████████████████████▍                                             | 11001/30000 [4:16:09<2:40:49,  1.97it/s]"
     ]
    },
    {
     "name": "stdout",
     "output_type": "stream",
     "text": [
      "tf.Tensor([[9.8528522e-01 1.1958321e-02 2.2223096e-03 5.3413480e-04]], shape=(1, 4), dtype=float32)\n"
     ]
    },
    {
     "name": "stderr",
     "output_type": "stream",
     "text": [
      " 37%|██████████████████████████▋                                             | 11101/30000 [4:16:59<4:32:05,  1.16it/s]"
     ]
    },
    {
     "name": "stdout",
     "output_type": "stream",
     "text": [
      "4.371424215872859\n",
      "100\n"
     ]
    },
    {
     "name": "stderr",
     "output_type": "stream",
     "text": [
      " 37%|██████████████████████████▉                                             | 11201/30000 [4:17:44<2:27:12,  2.13it/s]"
     ]
    },
    {
     "name": "stdout",
     "output_type": "stream",
     "text": [
      "5.948014354010597\n",
      "100\n",
      "[0.8, 0.5, 0.7, 0.1]\n",
      "tf.Tensor([[0.11183855 0.23409526 0.36496612 0.28910005]], shape=(1, 4), dtype=float32)\n",
      "[0.8, 0.2, 0.7, 0.1]\n",
      "tf.Tensor([[0.17091489 0.29049963 0.32249334 0.21609217]], shape=(1, 4), dtype=float32)\n",
      "[0.8, 0.0, 0.7, 0.1]\n",
      "tf.Tensor([[0.63875026 0.21998504 0.10187697 0.0393877 ]], shape=(1, 4), dtype=float32)\n",
      "[0.7, 0.0, 0.7, 0.1]\n",
      "tf.Tensor([[9.8895532e-01 9.0554869e-03 1.6523303e-03 3.3692218e-04]], shape=(1, 4), dtype=float32)\n"
     ]
    },
    {
     "name": "stderr",
     "output_type": "stream",
     "text": [
      " 38%|███████████████████████████                                             | 11301/30000 [4:18:31<2:46:24,  1.87it/s]"
     ]
    },
    {
     "name": "stdout",
     "output_type": "stream",
     "text": [
      "4.9982390490264414\n",
      "100\n"
     ]
    },
    {
     "name": "stderr",
     "output_type": "stream",
     "text": [
      " 38%|███████████████████████████▎                                            | 11400/30000 [4:19:19<2:55:59,  1.76it/s]"
     ]
    },
    {
     "name": "stdout",
     "output_type": "stream",
     "text": [
      "4.969375409903477\n",
      "100\n",
      "[0.3, 0.1, 0.7, 0.1]\n",
      "tf.Tensor([[0.10890461 0.24504934 0.34750682 0.29853925]], shape=(1, 4), dtype=float32)\n",
      "[0.6, 0.1, 0.7, 0.1]\n",
      "tf.Tensor([[0.15456168 0.2954221  0.3052089  0.24480733]], shape=(1, 4), dtype=float32)\n",
      "[0.9, 0.1, 0.7, 0.1]\n",
      "tf.Tensor([[0.47490865 0.3115706  0.14616702 0.06735364]], shape=(1, 4), dtype=float32)\n",
      "[0.8, 0.1, 0.7, 0.1]\n"
     ]
    },
    {
     "name": "stderr",
     "output_type": "stream",
     "text": [
      "\r",
      " 38%|███████████████████████████▎                                            | 11401/30000 [4:19:20<2:46:06,  1.87it/s]"
     ]
    },
    {
     "name": "stdout",
     "output_type": "stream",
     "text": [
      "tf.Tensor([[9.8166579e-01 1.5034001e-02 2.7252594e-03 5.7488057e-04]], shape=(1, 4), dtype=float32)\n"
     ]
    },
    {
     "name": "stderr",
     "output_type": "stream",
     "text": [
      " 38%|███████████████████████████▌                                            | 11501/30000 [4:20:07<2:53:16,  1.78it/s]"
     ]
    },
    {
     "name": "stdout",
     "output_type": "stream",
     "text": [
      "5.008359976538784\n",
      "100\n"
     ]
    },
    {
     "name": "stderr",
     "output_type": "stream",
     "text": [
      " 39%|███████████████████████████▊                                            | 11600/30000 [4:20:52<1:47:44,  2.85it/s]"
     ]
    },
    {
     "name": "stdout",
     "output_type": "stream",
     "text": [
      "5.876238751436043\n",
      "100\n",
      "[0.0, 0.5, 0.7, 0.1]\n",
      "tf.Tensor([[0.11060144 0.2550874  0.33720928 0.29710186]], shape=(1, 4), dtype=float32)\n",
      "[0.3, 0.5, 0.7, 0.1]\n",
      "tf.Tensor([[0.18306221 0.3292005  0.28435767 0.2033796 ]], shape=(1, 4), dtype=float32)\n",
      "[0.3, 0.3, 0.7, 0.1]\n",
      "tf.Tensor([[0.5219238  0.30989012 0.11582808 0.05235803]], shape=(1, 4), dtype=float32)\n",
      "[0.4, 0.3, 0.7, 0.1]\n",
      "tf.Tensor([[9.7799826e-01 1.8333729e-02 2.9898770e-03 6.7815022e-04]], shape=(1, 4), dtype=float32)\n",
      "[0.5, 0.3, 0.7, 0.1]\n"
     ]
    },
    {
     "name": "stderr",
     "output_type": "stream",
     "text": [
      "\r",
      " 39%|███████████████████████████▊                                            | 11601/30000 [4:20:52<2:22:13,  2.16it/s]"
     ]
    },
    {
     "name": "stdout",
     "output_type": "stream",
     "text": [
      "tf.Tensor([[9.8111814e-01 1.5771462e-02 2.5279608e-03 5.8243907e-04]], shape=(1, 4), dtype=float32)\n",
      "[0.5, 0.2, 0.7, 0.1]\n",
      "tf.Tensor([[9.8043340e-01 1.6339995e-02 2.6390823e-03 5.8749749e-04]], shape=(1, 4), dtype=float32)\n",
      "[0.6, 0.2, 0.7, 0.1]\n",
      "tf.Tensor([[9.8156250e-01 1.5390254e-02 2.4776920e-03 5.6950323e-04]], shape=(1, 4), dtype=float32)\n",
      "[0.6, 0.1, 0.7, 0.1]\n",
      "tf.Tensor([[9.8389536e-01 1.3469844e-02 2.1669003e-03 4.6783892e-04]], shape=(1, 4), dtype=float32)\n"
     ]
    },
    {
     "name": "stderr",
     "output_type": "stream",
     "text": [
      " 39%|████████████████████████████                                            | 11701/30000 [4:21:36<2:14:06,  2.27it/s]"
     ]
    },
    {
     "name": "stdout",
     "output_type": "stream",
     "text": [
      "5.860900954329211\n",
      "100\n"
     ]
    },
    {
     "name": "stderr",
     "output_type": "stream",
     "text": [
      " 39%|████████████████████████████▎                                           | 11800/30000 [4:22:25<2:38:28,  1.91it/s]"
     ]
    },
    {
     "name": "stdout",
     "output_type": "stream",
     "text": [
      "4.53620581058093\n",
      "100\n",
      "[0.6, 0.5, 0.7, 0.1]\n",
      "tf.Tensor([[0.13033019 0.28390238 0.3102778  0.27548963]], shape=(1, 4), dtype=float32)\n",
      "[0.6, 0.2, 0.7, 0.1]\n",
      "tf.Tensor([[0.20471789 0.3529167  0.2589639  0.1834015 ]], shape=(1, 4), dtype=float32)\n",
      "[0.8, 0.2, 0.7, 0.1]\n",
      "tf.Tensor([[0.6957382  0.21618319 0.06339307 0.02468549]], shape=(1, 4), dtype=float32)\n",
      "[0.8, 0.1, 0.7, 0.1]\n"
     ]
    },
    {
     "name": "stderr",
     "output_type": "stream",
     "text": [
      "\r",
      " 39%|████████████████████████████▎                                           | 11801/30000 [4:22:25<2:34:00,  1.97it/s]"
     ]
    },
    {
     "name": "stdout",
     "output_type": "stream",
     "text": [
      "tf.Tensor([[9.8628134e-01 1.1637188e-02 1.7355744e-03 3.4582394e-04]], shape=(1, 4), dtype=float32)\n"
     ]
    },
    {
     "name": "stderr",
     "output_type": "stream",
     "text": [
      " 40%|████████████████████████████▌                                           | 11901/30000 [4:23:14<2:55:28,  1.72it/s]"
     ]
    },
    {
     "name": "stdout",
     "output_type": "stream",
     "text": [
      "5.238619330461869\n",
      "100\n"
     ]
    },
    {
     "name": "stderr",
     "output_type": "stream",
     "text": [
      " 40%|████████████████████████████▊                                           | 12001/30000 [4:23:55<2:18:01,  2.17it/s]"
     ]
    },
    {
     "name": "stdout",
     "output_type": "stream",
     "text": [
      "5.681834582798351\n",
      "100\n",
      "[0.1, 0.4, 0.1, 0.1]\n",
      "tf.Tensor([[0.11032443 0.2625634  0.3248887  0.3022235 ]], shape=(1, 4), dtype=float32)\n"
     ]
    },
    {
     "name": "stderr",
     "output_type": "stream",
     "text": [
      " 40%|█████████████████████████████                                           | 12101/30000 [4:24:39<2:06:18,  2.36it/s]"
     ]
    },
    {
     "name": "stdout",
     "output_type": "stream",
     "text": [
      "6.0829591446311415\n",
      "100\n"
     ]
    },
    {
     "name": "stderr",
     "output_type": "stream",
     "text": [
      " 41%|█████████████████████████████▎                                          | 12201/30000 [4:25:21<2:43:01,  1.82it/s]"
     ]
    },
    {
     "name": "stdout",
     "output_type": "stream",
     "text": [
      "5.952041611041825\n",
      "100\n",
      "[0.9, 0.4, 0.5, 0.7]\n",
      "tf.Tensor([[0.10865058 0.27267218 0.3167734  0.30190384]], shape=(1, 4), dtype=float32)\n",
      "[0.6, 0.4, 0.5, 0.7]\n",
      "tf.Tensor([[0.16712861 0.35117462 0.26398578 0.21771096]], shape=(1, 4), dtype=float32)\n",
      "[0.6, 0.6, 0.5, 0.7]\n",
      "tf.Tensor([[0.7064768  0.21592768 0.05605185 0.02154361]], shape=(1, 4), dtype=float32)\n",
      "[0.5, 0.6, 0.5, 0.7]\n",
      "tf.Tensor([[9.9171782e-01 7.2959629e-03 8.2467415e-04 1.6149416e-04]], shape=(1, 4), dtype=float32)\n"
     ]
    },
    {
     "name": "stderr",
     "output_type": "stream",
     "text": [
      " 41%|█████████████████████████████▌                                          | 12301/30000 [4:26:10<2:25:43,  2.02it/s]"
     ]
    },
    {
     "name": "stdout",
     "output_type": "stream",
     "text": [
      "5.198500700608877\n",
      "100\n"
     ]
    },
    {
     "name": "stderr",
     "output_type": "stream",
     "text": [
      " 41%|█████████████████████████████▊                                          | 12401/30000 [4:26:54<2:25:12,  2.02it/s]"
     ]
    },
    {
     "name": "stdout",
     "output_type": "stream",
     "text": [
      "5.443759858712669\n",
      "100\n",
      "[0.4, 0.2, 0.5, 0.7]\n",
      "tf.Tensor([[0.10413525 0.25807458 0.33137068 0.30641943]], shape=(1, 4), dtype=float32)\n",
      "[0.4, 0.5, 0.5, 0.7]\n",
      "tf.Tensor([[0.15000886 0.32378438 0.28047645 0.24573031]], shape=(1, 4), dtype=float32)\n",
      "[0.4, 0.7, 0.5, 0.7]\n",
      "tf.Tensor([[0.5850266  0.28570566 0.08828863 0.04097911]], shape=(1, 4), dtype=float32)\n"
     ]
    },
    {
     "name": "stderr",
     "output_type": "stream",
     "text": [
      " 42%|██████████████████████████████                                          | 12501/30000 [4:27:36<2:06:05,  2.31it/s]"
     ]
    },
    {
     "name": "stdout",
     "output_type": "stream",
     "text": [
      "5.810354964654417\n",
      "100\n"
     ]
    },
    {
     "name": "stderr",
     "output_type": "stream",
     "text": [
      " 42%|██████████████████████████████▏                                         | 12601/30000 [4:28:22<2:26:44,  1.98it/s]"
     ]
    },
    {
     "name": "stdout",
     "output_type": "stream",
     "text": [
      "5.9366775388577135\n",
      "100\n",
      "[0.2, 0.8, 0.5, 0.7]\n",
      "tf.Tensor([[0.10722637 0.2765145  0.30827138 0.30798778]], shape=(1, 4), dtype=float32)\n",
      "[0.5, 0.8, 0.5, 0.7]\n",
      "tf.Tensor([[0.16424799 0.3442531  0.26797596 0.22352293]], shape=(1, 4), dtype=float32)\n",
      "[0.5, 0.6, 0.5, 0.7]\n",
      "tf.Tensor([[0.50098747 0.34494516 0.10388896 0.05017843]], shape=(1, 4), dtype=float32)\n"
     ]
    },
    {
     "name": "stderr",
     "output_type": "stream",
     "text": [
      " 42%|██████████████████████████████▍                                         | 12701/30000 [4:29:06<2:14:26,  2.14it/s]"
     ]
    },
    {
     "name": "stdout",
     "output_type": "stream",
     "text": [
      "5.645199593930294\n",
      "100\n"
     ]
    },
    {
     "name": "stderr",
     "output_type": "stream",
     "text": [
      " 43%|██████████████████████████████▋                                         | 12801/30000 [4:29:51<2:11:21,  2.18it/s]"
     ]
    },
    {
     "name": "stdout",
     "output_type": "stream",
     "text": [
      "5.825639774307228\n",
      "100\n",
      "[0.0, 0.4, 0.6, 0.2]\n",
      "tf.Tensor([[0.10437556 0.27816248 0.30543888 0.31202313]], shape=(1, 4), dtype=float32)\n",
      "[0.4, 0.4, 0.6, 0.2]\n",
      "tf.Tensor([[0.14528373 0.33332232 0.2629127  0.2584813 ]], shape=(1, 4), dtype=float32)\n",
      "[0.4, 0.2, 0.6, 0.2]\n",
      "tf.Tensor([[0.35475382 0.40409234 0.14986724 0.0912866 ]], shape=(1, 4), dtype=float32)\n"
     ]
    },
    {
     "name": "stderr",
     "output_type": "stream",
     "text": [
      " 43%|██████████████████████████████▉                                         | 12901/30000 [4:30:32<2:12:30,  2.15it/s]"
     ]
    },
    {
     "name": "stdout",
     "output_type": "stream",
     "text": [
      "6.069328571651665\n",
      "100\n"
     ]
    },
    {
     "name": "stderr",
     "output_type": "stream",
     "text": [
      " 43%|███████████████████████████████▏                                        | 13000/30000 [4:31:14<1:53:26,  2.50it/s]"
     ]
    },
    {
     "name": "stdout",
     "output_type": "stream",
     "text": [
      "5.559145631949767\n",
      "100\n",
      "[0.8, 0.3, 0.5, 0.7]\n",
      "tf.Tensor([[0.1111405  0.3125934  0.27076554 0.30550057]], shape=(1, 4), dtype=float32)\n",
      "[0.8, 0.5, 0.5, 0.7]\n",
      "tf.Tensor([[0.15766211 0.38651508 0.21854079 0.23728198]], shape=(1, 4), dtype=float32)\n",
      "[0.6, 0.5, 0.5, 0.7]\n",
      "tf.Tensor([[0.55767787 0.33749688 0.06916444 0.03566081]], shape=(1, 4), dtype=float32)\n",
      "[0.6, 0.6, 0.5, 0.7]\n",
      "tf.Tensor([[9.9320143e-01 6.0128784e-03 6.5170095e-04 1.3404670e-04]], shape=(1, 4), dtype=float32)\n",
      "[0.5, 0.6, 0.5, 0.7]\n"
     ]
    },
    {
     "name": "stderr",
     "output_type": "stream",
     "text": [
      "\r",
      " 43%|███████████████████████████████▏                                        | 13001/30000 [4:31:14<2:05:12,  2.26it/s]"
     ]
    },
    {
     "name": "stdout",
     "output_type": "stream",
     "text": [
      "tf.Tensor([[9.9333364e-01 5.9326473e-03 6.0928863e-04 1.2437420e-04]], shape=(1, 4), dtype=float32)\n"
     ]
    },
    {
     "name": "stderr",
     "output_type": "stream",
     "text": [
      " 44%|███████████████████████████████▍                                        | 13101/30000 [4:31:59<2:00:29,  2.34it/s]"
     ]
    },
    {
     "name": "stdout",
     "output_type": "stream",
     "text": [
      "5.710744596502795\n",
      "100\n"
     ]
    },
    {
     "name": "stderr",
     "output_type": "stream",
     "text": [
      " 44%|███████████████████████████████▋                                        | 13201/30000 [4:32:42<2:43:32,  1.71it/s]"
     ]
    },
    {
     "name": "stdout",
     "output_type": "stream",
     "text": [
      "5.21637092201567\n",
      "100\n",
      "[0.1, 0.2, 0.1, 0.1]\n",
      "tf.Tensor([[0.11425348 0.31961218 0.26156458 0.30456972]], shape=(1, 4), dtype=float32)\n",
      "[0.1, 0.0, 0.1, 0.1]\n",
      "tf.Tensor([[0.13090685 0.35025293 0.23762572 0.28121448]], shape=(1, 4), dtype=float32)\n",
      "[0.1, 0.2, 0.1, 0.1]\n",
      "tf.Tensor([[0.3168551  0.44859    0.1343933  0.10016169]], shape=(1, 4), dtype=float32)\n",
      "[0.1, 0.0, 0.1, 0.1]\n",
      "tf.Tensor([[9.8005128e-01 1.7520975e-02 1.9223263e-03 5.0538499e-04]], shape=(1, 4), dtype=float32)\n"
     ]
    },
    {
     "name": "stderr",
     "output_type": "stream",
     "text": [
      " 44%|███████████████████████████████▉                                        | 13301/30000 [4:33:25<1:59:12,  2.33it/s]"
     ]
    },
    {
     "name": "stdout",
     "output_type": "stream",
     "text": [
      "5.651935607866128\n",
      "100\n"
     ]
    },
    {
     "name": "stderr",
     "output_type": "stream",
     "text": [
      " 45%|████████████████████████████████▏                                       | 13401/30000 [4:34:07<2:01:15,  2.28it/s]"
     ]
    },
    {
     "name": "stdout",
     "output_type": "stream",
     "text": [
      "6.0407704653661884\n",
      "100\n",
      "[0.5, 0.2, 0.5, 0.7]\n",
      "tf.Tensor([[0.09613892 0.2808675  0.30028698 0.32270658]], shape=(1, 4), dtype=float32)\n",
      "[0.5, 0.6, 0.5, 0.7]\n",
      "tf.Tensor([[0.11828725 0.32511187 0.2606294  0.29597145]], shape=(1, 4), dtype=float32)\n",
      "[0.5, 0.8, 0.5, 0.7]\n",
      "tf.Tensor([[0.3434999  0.4462501  0.12638634 0.08386359]], shape=(1, 4), dtype=float32)\n",
      "[0.5, 0.6, 0.5, 0.7]\n",
      "tf.Tensor([[9.8932135e-01 9.5781507e-03 9.0000028e-04 2.0048673e-04]], shape=(1, 4), dtype=float32)\n"
     ]
    },
    {
     "name": "stderr",
     "output_type": "stream",
     "text": [
      " 45%|████████████████████████████████▍                                       | 13501/30000 [4:34:51<1:49:36,  2.51it/s]"
     ]
    },
    {
     "name": "stdout",
     "output_type": "stream",
     "text": [
      "5.936440041846952\n",
      "100\n"
     ]
    },
    {
     "name": "stderr",
     "output_type": "stream",
     "text": [
      " 45%|████████████████████████████████▋                                       | 13601/30000 [4:35:35<2:04:53,  2.19it/s]"
     ]
    },
    {
     "name": "stdout",
     "output_type": "stream",
     "text": [
      "6.105142056284\n",
      "100\n",
      "[0.5, 0.0, 0.7, 0.4]\n",
      "tf.Tensor([[0.09419946 0.29717192 0.2833083  0.32532033]], shape=(1, 4), dtype=float32)\n",
      "[0.5, 0.4, 0.7, 0.4]\n",
      "tf.Tensor([[0.1255339  0.36643636 0.23270917 0.27532062]], shape=(1, 4), dtype=float32)\n"
     ]
    },
    {
     "name": "stderr",
     "output_type": "stream",
     "text": [
      " 46%|████████████████████████████████▉                                       | 13701/30000 [4:36:16<2:16:53,  1.98it/s]"
     ]
    },
    {
     "name": "stdout",
     "output_type": "stream",
     "text": [
      "6.2284096584861866\n",
      "100\n"
     ]
    },
    {
     "name": "stderr",
     "output_type": "stream",
     "text": [
      " 46%|█████████████████████████████████                                       | 13800/30000 [4:36:58<1:49:45,  2.46it/s]"
     ]
    },
    {
     "name": "stdout",
     "output_type": "stream",
     "text": [
      "5.929288610892192\n",
      "100\n",
      "[0.8, 0.5, 0.1, 0.1]\n",
      "tf.Tensor([[0.08792016 0.2922371  0.29056036 0.3292823 ]], shape=(1, 4), dtype=float32)\n",
      "[0.4, 0.5, 0.1, 0.1]\n",
      "tf.Tensor([[0.12072837 0.36145827 0.24099292 0.27682042]], shape=(1, 4), dtype=float32)\n",
      "[0.4, 0.3, 0.1, 0.1]\n",
      "tf.Tensor([[0.31493583 0.4958023  0.11618998 0.07307192]], shape=(1, 4), dtype=float32)\n",
      "[0.2, 0.3, 0.1, 0.1]\n",
      "tf.Tensor([[9.8461354e-01 1.3846821e-02 1.2435266e-03 2.9608730e-04]], shape=(1, 4), dtype=float32)\n",
      "[0.2, 0.2, 0.1, 0.1]\n"
     ]
    },
    {
     "name": "stderr",
     "output_type": "stream",
     "text": [
      "\r",
      " 46%|█████████████████████████████████                                       | 13801/30000 [4:36:59<2:12:54,  2.03it/s]"
     ]
    },
    {
     "name": "stdout",
     "output_type": "stream",
     "text": [
      "tf.Tensor([[9.8235530e-01 1.5813818e-02 1.4858883e-03 3.4499782e-04]], shape=(1, 4), dtype=float32)\n",
      "[0.1, 0.2, 0.1, 0.1]\n",
      "tf.Tensor([[9.7814047e-01 1.9511113e-02 1.8675596e-03 4.8085302e-04]], shape=(1, 4), dtype=float32)\n"
     ]
    },
    {
     "name": "stderr",
     "output_type": "stream",
     "text": [
      " 46%|█████████████████████████████████▎                                      | 13901/30000 [4:37:40<1:46:51,  2.51it/s]"
     ]
    },
    {
     "name": "stdout",
     "output_type": "stream",
     "text": [
      "5.986987342045532\n",
      "100\n"
     ]
    },
    {
     "name": "stderr",
     "output_type": "stream",
     "text": [
      " 47%|█████████████████████████████████▌                                      | 14001/30000 [4:38:22<2:39:09,  1.68it/s]"
     ]
    },
    {
     "name": "stdout",
     "output_type": "stream",
     "text": [
      "5.027765593286654\n",
      "100\n",
      "[0.4, 0.7, 0.1, 0.1]\n",
      "tf.Tensor([[0.089096   0.30006176 0.28726655 0.3235757 ]], shape=(1, 4), dtype=float32)\n",
      "[0.4, 0.3, 0.1, 0.1]\n",
      "tf.Tensor([[0.11247162 0.36097455 0.24494459 0.28160927]], shape=(1, 4), dtype=float32)\n",
      "[0.2, 0.3, 0.1, 0.1]\n",
      "tf.Tensor([[0.32058373 0.49380678 0.11521172 0.07039785]], shape=(1, 4), dtype=float32)\n",
      "[0.2, 0.1, 0.1, 0.1]\n",
      "tf.Tensor([[9.8572457e-01 1.2926816e-02 1.1044324e-03 2.4419517e-04]], shape=(1, 4), dtype=float32)\n"
     ]
    },
    {
     "name": "stderr",
     "output_type": "stream",
     "text": [
      " 47%|█████████████████████████████████▊                                      | 14101/30000 [4:39:05<2:15:14,  1.96it/s]"
     ]
    },
    {
     "name": "stdout",
     "output_type": "stream",
     "text": [
      "6.033847424852821\n",
      "100\n"
     ]
    },
    {
     "name": "stderr",
     "output_type": "stream",
     "text": [
      " 47%|██████████████████████████████████                                      | 14200/30000 [4:39:47<1:22:56,  3.17it/s]"
     ]
    },
    {
     "name": "stdout",
     "output_type": "stream",
     "text": [
      "6.081557827449335\n",
      "100\n",
      "[0.1, 0.6, 0.2, 0.9]\n",
      "tf.Tensor([[0.08086209 0.29505935 0.2977203  0.32635823]], shape=(1, 4), dtype=float32)\n",
      "[0.1, 1.0, 0.2, 0.9]\n",
      "tf.Tensor([[0.11134909 0.37566665 0.24127115 0.27171314]], shape=(1, 4), dtype=float32)\n",
      "[0.1, 0.8, 0.2, 0.9]\n",
      "tf.Tensor([[0.30323178 0.5291469  0.10275419 0.06486705]], shape=(1, 4), dtype=float32)\n",
      "[0.1, 1.0, 0.2, 0.9]\n",
      "tf.Tensor([[9.8298126e-01 1.5814882e-02 9.7680045e-04 2.2705116e-04]], shape=(1, 4), dtype=float32)\n",
      "[0.1, 0.9, 0.2, 0.9]\n",
      "tf.Tensor([[9.8315281e-01 1.5649837e-02 9.7972946e-04 2.1753738e-04]], shape=(1, 4), dtype=float32)\n"
     ]
    },
    {
     "name": "stderr",
     "output_type": "stream",
     "text": [
      " 48%|██████████████████████████████████▎                                     | 14301/30000 [4:40:33<2:19:12,  1.88it/s]"
     ]
    },
    {
     "name": "stdout",
     "output_type": "stream",
     "text": [
      "5.607878277047726\n",
      "100\n"
     ]
    },
    {
     "name": "stderr",
     "output_type": "stream",
     "text": [
      " 48%|██████████████████████████████████▌                                     | 14401/30000 [4:41:23<1:57:01,  2.22it/s]"
     ]
    },
    {
     "name": "stdout",
     "output_type": "stream",
     "text": [
      "5.6778104815467865\n",
      "100\n",
      "[0.7, 0.3, 0.1, 0.1]\n",
      "tf.Tensor([[0.07833596 0.30138278 0.29679346 0.3234878 ]], shape=(1, 4), dtype=float32)\n",
      "[0.3, 0.3, 0.1, 0.1]\n",
      "tf.Tensor([[0.10814557 0.38091522 0.24351506 0.26742417]], shape=(1, 4), dtype=float32)\n",
      "[0.3, 0.1, 0.1, 0.1]\n",
      "tf.Tensor([[0.26690012 0.54294103 0.1175869  0.07257201]], shape=(1, 4), dtype=float32)\n"
     ]
    },
    {
     "name": "stderr",
     "output_type": "stream",
     "text": [
      " 48%|██████████████████████████████████▊                                     | 14501/30000 [4:42:08<1:36:34,  2.67it/s]"
     ]
    },
    {
     "name": "stdout",
     "output_type": "stream",
     "text": [
      "6.168872338230358\n",
      "100\n"
     ]
    },
    {
     "name": "stderr",
     "output_type": "stream",
     "text": [
      " 49%|███████████████████████████████████                                     | 14600/30000 [4:42:51<1:54:09,  2.25it/s]"
     ]
    },
    {
     "name": "stdout",
     "output_type": "stream",
     "text": [
      "5.946629149510198\n",
      "100\n",
      "[0.9, 0.0, 0.7, 0.1]\n",
      "tf.Tensor([[0.06967908 0.281679   0.32793185 0.32071003]], shape=(1, 4), dtype=float32)\n",
      "[0.6, 0.0, 0.7, 0.1]\n",
      "tf.Tensor([[0.08134881 0.31615567 0.30122295 0.30127257]], shape=(1, 4), dtype=float32)\n",
      "[0.6, 0.2, 0.7, 0.1]\n",
      "tf.Tensor([[0.24495928 0.5397767  0.13154505 0.08371896]], shape=(1, 4), dtype=float32)\n",
      "[0.6, 0.0, 0.7, 0.1]\n"
     ]
    },
    {
     "name": "stderr",
     "output_type": "stream",
     "text": [
      "\r",
      " 49%|███████████████████████████████████                                     | 14601/30000 [4:42:52<2:04:28,  2.06it/s]"
     ]
    },
    {
     "name": "stdout",
     "output_type": "stream",
     "text": [
      "tf.Tensor([[9.8455393e-01 1.4506915e-02 7.7141705e-04 1.6772741e-04]], shape=(1, 4), dtype=float32)\n",
      "[0.6, 0.1, 0.7, 0.1]\n",
      "tf.Tensor([[9.8167831e-01 1.7059768e-02 1.0249115e-03 2.3691486e-04]], shape=(1, 4), dtype=float32)\n"
     ]
    },
    {
     "name": "stderr",
     "output_type": "stream",
     "text": [
      " 49%|███████████████████████████████████▎                                    | 14701/30000 [4:43:42<2:07:05,  2.01it/s]"
     ]
    },
    {
     "name": "stdout",
     "output_type": "stream",
     "text": [
      "5.502204836797021\n",
      "100\n"
     ]
    },
    {
     "name": "stderr",
     "output_type": "stream",
     "text": [
      " 49%|███████████████████████████████████▌                                    | 14801/30000 [4:44:25<2:21:53,  1.79it/s]"
     ]
    },
    {
     "name": "stdout",
     "output_type": "stream",
     "text": [
      "5.76525530844054\n",
      "100\n",
      "[0.4, 0.4, 0.2, 0.9]\n",
      "tf.Tensor([[0.06748684 0.27741024 0.32875445 0.32634848]], shape=(1, 4), dtype=float32)\n",
      "[0.4, 0.7, 0.2, 0.9]\n",
      "tf.Tensor([[0.08825445 0.3448552  0.27829736 0.28859305]], shape=(1, 4), dtype=float32)\n",
      "[0.2, 0.7, 0.2, 0.9]\n",
      "tf.Tensor([[0.25610518 0.5720644  0.10269608 0.06913429]], shape=(1, 4), dtype=float32)\n"
     ]
    },
    {
     "name": "stderr",
     "output_type": "stream",
     "text": [
      " 50%|███████████████████████████████████▊                                    | 14901/30000 [4:45:08<2:24:10,  1.75it/s]"
     ]
    },
    {
     "name": "stdout",
     "output_type": "stream",
     "text": [
      "6.0994002863646815\n",
      "100\n"
     ]
    },
    {
     "name": "stderr",
     "output_type": "stream",
     "text": [
      " 50%|████████████████████████████████████                                    | 15000/30000 [4:45:55<2:07:49,  1.96it/s]"
     ]
    },
    {
     "name": "stdout",
     "output_type": "stream",
     "text": [
      "5.931110307201553\n",
      "100\n",
      "[0.8, 0.3, 0.7, 0.4]\n",
      "tf.Tensor([[0.07747471 0.31496572 0.2943466  0.313213  ]], shape=(1, 4), dtype=float32)\n",
      "[0.6, 0.3, 0.7, 0.4]\n",
      "tf.Tensor([[0.11661613 0.44015044 0.21895319 0.22428024]], shape=(1, 4), dtype=float32)\n",
      "[0.8, 0.3, 0.7, 0.4]\n"
     ]
    },
    {
     "name": "stderr",
     "output_type": "stream",
     "text": [
      "\r",
      " 50%|████████████████████████████████████                                    | 15001/30000 [4:45:55<2:08:02,  1.95it/s]"
     ]
    },
    {
     "name": "stdout",
     "output_type": "stream",
     "text": [
      "tf.Tensor([[0.35713312 0.5590637  0.05689589 0.0269073 ]], shape=(1, 4), dtype=float32)\n",
      "[0.6, 0.3, 0.7, 0.4]\n",
      "tf.Tensor([[9.8375642e-01 1.5467519e-02 6.5258075e-04 1.2356933e-04]], shape=(1, 4), dtype=float32)\n",
      "[0.7, 0.3, 0.7, 0.4]\n",
      "tf.Tensor([[9.8558074e-01 1.3788538e-02 5.3367048e-04 9.7075230e-05]], shape=(1, 4), dtype=float32)\n"
     ]
    },
    {
     "name": "stderr",
     "output_type": "stream",
     "text": [
      " 50%|████████████████████████████████████▏                                   | 15101/30000 [4:46:36<2:09:56,  1.91it/s]"
     ]
    },
    {
     "name": "stdout",
     "output_type": "stream",
     "text": [
      "5.896390538276123\n",
      "100\n"
     ]
    },
    {
     "name": "stderr",
     "output_type": "stream",
     "text": [
      " 51%|████████████████████████████████████▍                                   | 15200/30000 [4:47:18<2:15:37,  1.82it/s]"
     ]
    },
    {
     "name": "stdout",
     "output_type": "stream",
     "text": [
      "6.033096758345226\n",
      "100\n",
      "[0.3, 0.6, 0.2, 0.9]\n",
      "tf.Tensor([[0.07119998 0.31939995 0.2886911  0.32070893]], shape=(1, 4), dtype=float32)\n"
     ]
    },
    {
     "name": "stderr",
     "output_type": "stream",
     "text": [
      "\r",
      " 51%|████████████████████████████████████▍                                   | 15201/30000 [4:47:19<2:29:09,  1.65it/s]"
     ]
    },
    {
     "name": "stdout",
     "output_type": "stream",
     "text": [
      "[0.3, 1.0, 0.2, 0.9]\n",
      "tf.Tensor([[0.10174224 0.44012156 0.21770878 0.24042735]], shape=(1, 4), dtype=float32)\n",
      "[0.1, 1.0, 0.2, 0.9]\n",
      "tf.Tensor([[0.2769768  0.6186399  0.0674108  0.03697257]], shape=(1, 4), dtype=float32)\n",
      "[0.1, 0.8, 0.2, 0.9]\n",
      "tf.Tensor([[9.7621119e-01 2.2803124e-02 8.2231365e-04 1.6336146e-04]], shape=(1, 4), dtype=float32)\n",
      "[0.2, 0.8, 0.2, 0.9]\n",
      "tf.Tensor([[9.7743177e-01 2.1728350e-02 7.0814637e-04 1.3172539e-04]], shape=(1, 4), dtype=float32)\n"
     ]
    },
    {
     "name": "stderr",
     "output_type": "stream",
     "text": [
      " 51%|████████████████████████████████████▋                                   | 15301/30000 [4:48:01<1:36:27,  2.54it/s]"
     ]
    },
    {
     "name": "stdout",
     "output_type": "stream",
     "text": [
      "6.048796069542012\n",
      "100\n"
     ]
    },
    {
     "name": "stderr",
     "output_type": "stream",
     "text": [
      " 51%|████████████████████████████████████▉                                   | 15400/30000 [4:48:44<1:32:47,  2.62it/s]"
     ]
    },
    {
     "name": "stdout",
     "output_type": "stream",
     "text": [
      "6.425575604146126\n",
      "100\n",
      "[0.1, 0.0, 0.7, 0.4]\n",
      "tf.Tensor([[0.06295148 0.3019547  0.30987376 0.32522008]], shape=(1, 4), dtype=float32)\n",
      "[0.5, 0.0, 0.7, 0.4]\n",
      "tf.Tensor([[0.07636347 0.35301882 0.278444   0.29217374]], shape=(1, 4), dtype=float32)\n",
      "[0.5, 0.2, 0.7, 0.4]\n",
      "tf.Tensor([[0.19274256 0.59000826 0.12769806 0.08955113]], shape=(1, 4), dtype=float32)\n",
      "[0.7, 0.2, 0.7, 0.4]\n"
     ]
    },
    {
     "name": "stderr",
     "output_type": "stream",
     "text": [
      "\r",
      " 51%|████████████████████████████████████▉                                   | 15401/30000 [4:48:45<1:57:01,  2.08it/s]"
     ]
    },
    {
     "name": "stdout",
     "output_type": "stream",
     "text": [
      "tf.Tensor([[9.7198987e-01 2.6799148e-02 1.0107814e-03 2.0019528e-04]], shape=(1, 4), dtype=float32)\n",
      "[0.7, 0.3, 0.7, 0.4]\n",
      "tf.Tensor([[9.7858560e-01 2.0528382e-02 7.4564660e-04 1.4031366e-04]], shape=(1, 4), dtype=float32)\n"
     ]
    },
    {
     "name": "stderr",
     "output_type": "stream",
     "text": [
      " 52%|█████████████████████████████████████▏                                  | 15501/30000 [4:49:34<1:56:24,  2.08it/s]"
     ]
    },
    {
     "name": "stdout",
     "output_type": "stream",
     "text": [
      "5.595813613254347\n",
      "100\n"
     ]
    },
    {
     "name": "stderr",
     "output_type": "stream",
     "text": [
      " 52%|█████████████████████████████████████▍                                  | 15601/30000 [4:50:20<1:28:15,  2.72it/s]"
     ]
    },
    {
     "name": "stdout",
     "output_type": "stream",
     "text": [
      "6.199469587436349\n",
      "100\n",
      "[0.8, 0.7, 0.6, 0.2]\n",
      "tf.Tensor([[0.07242493 0.36954167 0.26204994 0.29598343]], shape=(1, 4), dtype=float32)\n",
      "[0.8, 0.5, 0.6, 0.2]\n",
      "tf.Tensor([[0.10761805 0.4995931  0.18907647 0.20371243]], shape=(1, 4), dtype=float32)\n",
      "[0.8, 0.3, 0.6, 0.2]\n",
      "tf.Tensor([[0.27747956 0.6416129  0.05378077 0.02712679]], shape=(1, 4), dtype=float32)\n",
      "[0.6, 0.3, 0.6, 0.2]\n",
      "tf.Tensor([[9.7333896e-01 2.5612706e-02 8.6981640e-04 1.7855075e-04]], shape=(1, 4), dtype=float32)\n"
     ]
    },
    {
     "name": "stderr",
     "output_type": "stream",
     "text": [
      " 52%|█████████████████████████████████████▋                                  | 15701/30000 [4:51:07<2:18:15,  1.72it/s]"
     ]
    },
    {
     "name": "stdout",
     "output_type": "stream",
     "text": [
      "6.326036822289058\n",
      "100\n"
     ]
    },
    {
     "name": "stderr",
     "output_type": "stream",
     "text": [
      " 53%|█████████████████████████████████████▉                                  | 15800/30000 [4:51:55<2:23:00,  1.65it/s]"
     ]
    },
    {
     "name": "stdout",
     "output_type": "stream",
     "text": [
      "5.474384380875936\n",
      "100\n",
      "[0.2, 0.4, 0.6, 0.2]\n",
      "tf.Tensor([[0.07494604 0.4027625  0.24369997 0.27859148]], shape=(1, 4), dtype=float32)\n",
      "[0.4, 0.4, 0.6, 0.2]\n",
      "tf.Tensor([[0.10577976 0.52302176 0.1793734  0.19182508]], shape=(1, 4), dtype=float32)\n",
      "[0.6, 0.4, 0.6, 0.2]\n"
     ]
    },
    {
     "name": "stderr",
     "output_type": "stream",
     "text": [
      "\r",
      " 53%|█████████████████████████████████████▉                                  | 15801/30000 [4:51:55<2:30:55,  1.57it/s]"
     ]
    },
    {
     "name": "stdout",
     "output_type": "stream",
     "text": [
      "tf.Tensor([[0.239223   0.6643785  0.06282441 0.03357406]], shape=(1, 4), dtype=float32)\n"
     ]
    },
    {
     "name": "stderr",
     "output_type": "stream",
     "text": [
      " 53%|██████████████████████████████████████▏                                 | 15901/30000 [4:52:38<1:45:51,  2.22it/s]"
     ]
    },
    {
     "name": "stdout",
     "output_type": "stream",
     "text": [
      "6.4116721038706705\n",
      "100\n"
     ]
    },
    {
     "name": "stderr",
     "output_type": "stream",
     "text": [
      " 53%|██████████████████████████████████████▍                                 | 16000/30000 [4:53:21<1:34:49,  2.46it/s]"
     ]
    },
    {
     "name": "stdout",
     "output_type": "stream",
     "text": [
      "5.414698199381541\n",
      "100\n",
      "[0.1, 0.9, 0.2, 0.9]\n",
      "tf.Tensor([[0.07983047 0.464457   0.21547867 0.24023388]], shape=(1, 4), dtype=float32)\n",
      "[0.3, 0.9, 0.2, 0.9]\n",
      "tf.Tensor([[0.1089647  0.5853627  0.15097459 0.15469809]], shape=(1, 4), dtype=float32)\n",
      "[0.1, 0.9, 0.2, 0.9]\n",
      "tf.Tensor([[0.2177578  0.70636445 0.05037373 0.02550397]], shape=(1, 4), dtype=float32)\n",
      "[0.3, 0.9, 0.2, 0.9]\n"
     ]
    },
    {
     "name": "stderr",
     "output_type": "stream",
     "text": [
      "\r",
      " 53%|██████████████████████████████████████▍                                 | 16001/30000 [4:53:22<1:49:28,  2.13it/s]"
     ]
    },
    {
     "name": "stdout",
     "output_type": "stream",
     "text": [
      "tf.Tensor([[9.6113992e-01 3.7736386e-02 9.5591281e-04 1.6785691e-04]], shape=(1, 4), dtype=float32)\n"
     ]
    },
    {
     "name": "stderr",
     "output_type": "stream",
     "text": [
      " 54%|██████████████████████████████████████▋                                 | 16101/30000 [4:54:06<1:45:25,  2.20it/s]"
     ]
    },
    {
     "name": "stdout",
     "output_type": "stream",
     "text": [
      "6.210229295928158\n",
      "100\n"
     ]
    },
    {
     "name": "stderr",
     "output_type": "stream",
     "text": [
      " 54%|██████████████████████████████████████▉                                 | 16201/30000 [4:54:52<1:53:35,  2.02it/s]"
     ]
    },
    {
     "name": "stdout",
     "output_type": "stream",
     "text": [
      "5.474511942215969\n",
      "100\n",
      "[0.5, 0.4, 0.7, 0.4]\n",
      "tf.Tensor([[0.0674264  0.40177295 0.25194457 0.27885607]], shape=(1, 4), dtype=float32)\n"
     ]
    },
    {
     "name": "stderr",
     "output_type": "stream",
     "text": [
      " 54%|███████████████████████████████████████                                 | 16301/30000 [4:55:32<1:15:55,  3.01it/s]"
     ]
    },
    {
     "name": "stdout",
     "output_type": "stream",
     "text": [
      "6.693707660157135\n",
      "100\n"
     ]
    },
    {
     "name": "stderr",
     "output_type": "stream",
     "text": [
      " 55%|███████████████████████████████████████▎                                | 16400/30000 [4:56:14<2:05:02,  1.81it/s]"
     ]
    },
    {
     "name": "stdout",
     "output_type": "stream",
     "text": [
      "5.844010996349922\n",
      "100\n"
     ]
    },
    {
     "name": "stderr",
     "output_type": "stream",
     "text": [
      "\r",
      " 55%|███████████████████████████████████████▎                                | 16401/30000 [4:56:14<1:58:03,  1.92it/s]"
     ]
    },
    {
     "name": "stdout",
     "output_type": "stream",
     "text": [
      "[0.8, 0.5, 0.5, 0.7]\n",
      "tf.Tensor([[0.06955051 0.4446284  0.23190793 0.25391316]], shape=(1, 4), dtype=float32)\n",
      "[0.6, 0.5, 0.5, 0.7]\n",
      "tf.Tensor([[0.08754981 0.56426454 0.17329009 0.17489563]], shape=(1, 4), dtype=float32)\n",
      "[0.6, 0.7, 0.5, 0.7]\n",
      "tf.Tensor([[0.1816846  0.74451584 0.0482249  0.02557472]], shape=(1, 4), dtype=float32)\n",
      "[0.4, 0.7, 0.5, 0.7]\n",
      "tf.Tensor([[9.6234363e-01 3.6774289e-02 7.4199756e-04 1.4005756e-04]], shape=(1, 4), dtype=float32)\n"
     ]
    },
    {
     "name": "stderr",
     "output_type": "stream",
     "text": [
      " 55%|███████████████████████████████████████▌                                | 16501/30000 [4:56:57<1:51:16,  2.02it/s]"
     ]
    },
    {
     "name": "stdout",
     "output_type": "stream",
     "text": [
      "6.102463159718194\n",
      "100\n"
     ]
    },
    {
     "name": "stderr",
     "output_type": "stream",
     "text": [
      " 55%|███████████████████████████████████████▊                                | 16600/30000 [4:57:42<1:32:19,  2.42it/s]"
     ]
    },
    {
     "name": "stdout",
     "output_type": "stream",
     "text": [
      "6.268996646128729\n",
      "100\n",
      "[0.0, 0.2, 0.7, 0.4]\n",
      "tf.Tensor([[0.07788024 0.50288117 0.19291349 0.22632511]], shape=(1, 4), dtype=float32)\n",
      "[0.2, 0.2, 0.7, 0.4]\n",
      "tf.Tensor([[0.09962574 0.6121496  0.1374442  0.15078042]], shape=(1, 4), dtype=float32)\n",
      "[0.4, 0.2, 0.7, 0.4]\n",
      "tf.Tensor([[0.17009786 0.74854344 0.04788512 0.03347361]], shape=(1, 4), dtype=float32)\n",
      "[0.6, 0.2, 0.7, 0.4]\n",
      "tf.Tensor([[8.9845294e-01 9.9602289e-02 1.5877506e-03 3.5705674e-04]], shape=(1, 4), dtype=float32)\n",
      "[0.6, 0.3, 0.7, 0.4]\n",
      "tf.Tensor([[9.2000526e-01 7.8385830e-02 1.3164717e-03 2.9246404e-04]], shape=(1, 4), dtype=float32)\n",
      "[0.7, 0.3, 0.7, 0.4]\n"
     ]
    },
    {
     "name": "stderr",
     "output_type": "stream",
     "text": [
      "\r",
      " 55%|███████████████████████████████████████▊                                | 16601/30000 [4:57:42<1:36:09,  2.32it/s]"
     ]
    },
    {
     "name": "stdout",
     "output_type": "stream",
     "text": [
      "tf.Tensor([[9.3669075e-01 6.2194198e-02 9.2467543e-04 1.9037566e-04]], shape=(1, 4), dtype=float32)\n"
     ]
    },
    {
     "name": "stderr",
     "output_type": "stream",
     "text": [
      " 56%|████████████████████████████████████████                                | 16701/30000 [4:58:28<1:53:33,  1.95it/s]"
     ]
    },
    {
     "name": "stdout",
     "output_type": "stream",
     "text": [
      "5.785392130041872\n",
      "100\n"
     ]
    },
    {
     "name": "stderr",
     "output_type": "stream",
     "text": [
      " 56%|████████████████████████████████████████▎                               | 16801/30000 [4:59:13<2:15:41,  1.62it/s]"
     ]
    },
    {
     "name": "stdout",
     "output_type": "stream",
     "text": [
      "5.69797773270749\n",
      "100\n",
      "[0.5, 0.1, 0.7, 0.1]\n",
      "tf.Tensor([[0.07571524 0.5252465  0.18368556 0.21535273]], shape=(1, 4), dtype=float32)\n"
     ]
    },
    {
     "name": "stderr",
     "output_type": "stream",
     "text": [
      " 56%|████████████████████████████████████████▌                               | 16901/30000 [4:59:59<1:29:03,  2.45it/s]"
     ]
    },
    {
     "name": "stdout",
     "output_type": "stream",
     "text": [
      "5.830061723908191\n",
      "100\n"
     ]
    },
    {
     "name": "stderr",
     "output_type": "stream",
     "text": [
      " 57%|████████████████████████████████████████▊                               | 17000/30000 [5:00:48<2:21:03,  1.54it/s]"
     ]
    },
    {
     "name": "stdout",
     "output_type": "stream",
     "text": [
      "5.78401530096501\n",
      "100\n",
      "[0.2, 0.7, 0.6, 0.2]"
     ]
    },
    {
     "name": "stderr",
     "output_type": "stream",
     "text": [
      "\r",
      " 57%|████████████████████████████████████████▊                               | 17001/30000 [5:00:49<2:22:08,  1.52it/s]"
     ]
    },
    {
     "name": "stdout",
     "output_type": "stream",
     "text": [
      "\n",
      "tf.Tensor([[0.07149871 0.46883732 0.21390346 0.24576049]], shape=(1, 4), dtype=float32)\n",
      "[0.2, 0.5, 0.6, 0.2]\n",
      "tf.Tensor([[0.08691449 0.57903343 0.15701535 0.17703673]], shape=(1, 4), dtype=float32)\n",
      "[0.4, 0.5, 0.6, 0.2]\n",
      "tf.Tensor([[0.15316544 0.7416389  0.06130644 0.0438892 ]], shape=(1, 4), dtype=float32)\n",
      "[0.4, 0.3, 0.6, 0.2]\n",
      "tf.Tensor([[8.6113560e-01 1.3556147e-01 2.6462800e-03 6.5670337e-04]], shape=(1, 4), dtype=float32)\n",
      "[0.5, 0.3, 0.6, 0.2]\n",
      "tf.Tensor([[8.6038876e-01 1.3624848e-01 2.6716252e-03 6.9108495e-04]], shape=(1, 4), dtype=float32)\n",
      "[0.5, 0.2, 0.6, 0.2]\n",
      "tf.Tensor([[8.7919080e-01 1.1793787e-01 2.3106302e-03 5.6067272e-04]], shape=(1, 4), dtype=float32)\n"
     ]
    },
    {
     "name": "stderr",
     "output_type": "stream",
     "text": [
      " 57%|█████████████████████████████████████████                               | 17101/30000 [5:01:42<1:33:54,  2.29it/s]"
     ]
    },
    {
     "name": "stdout",
     "output_type": "stream",
     "text": [
      "6.134606730628159\n",
      "100\n"
     ]
    },
    {
     "name": "stderr",
     "output_type": "stream",
     "text": [
      " 57%|█████████████████████████████████████████▎                              | 17200/30000 [5:02:27<1:08:54,  3.10it/s]"
     ]
    },
    {
     "name": "stdout",
     "output_type": "stream",
     "text": [
      "6.004246651281099\n",
      "100\n",
      "[0.5, 0.4, 0.7, 0.1]\n",
      "tf.Tensor([[0.07310598 0.5122629  0.19457412 0.22005704]], shape=(1, 4), dtype=float32)\n",
      "[0.5, 0.2, 0.7, 0.1]\n",
      "tf.Tensor([[0.09157626 0.62609583 0.14040297 0.14192495]], shape=(1, 4), dtype=float32)\n",
      "[0.7, 0.2, 0.7, 0.1]\n",
      "tf.Tensor([[0.16449235 0.75865537 0.04819787 0.02865435]], shape=(1, 4), dtype=float32)\n",
      "[0.7, 0.0, 0.7, 0.1]\n"
     ]
    },
    {
     "name": "stderr",
     "output_type": "stream",
     "text": [
      "\r",
      " 57%|█████████████████████████████████████████▎                              | 17201/30000 [5:02:28<1:41:23,  2.10it/s]"
     ]
    },
    {
     "name": "stdout",
     "output_type": "stream",
     "text": [
      "tf.Tensor([[9.2800015e-01 7.0547037e-02 1.2049307e-03 2.4796725e-04]], shape=(1, 4), dtype=float32)\n"
     ]
    },
    {
     "name": "stderr",
     "output_type": "stream",
     "text": [
      " 58%|█████████████████████████████████████████▌                              | 17300/30000 [5:03:11<1:57:55,  1.79it/s]"
     ]
    },
    {
     "name": "stdout",
     "output_type": "stream",
     "text": [
      "5.601605462072062\n",
      "100\n"
     ]
    },
    {
     "name": "stderr",
     "output_type": "stream",
     "text": [
      " 58%|█████████████████████████████████████████▊                              | 17400/30000 [5:03:56<1:15:32,  2.78it/s]"
     ]
    },
    {
     "name": "stdout",
     "output_type": "stream",
     "text": [
      "6.158072217263485\n",
      "100\n",
      "[0.5, 0.4, 0.6, 0.2]\n",
      "tf.Tensor([[0.07228827 0.52835506 0.18665408 0.21270259]], shape=(1, 4), dtype=float32)\n",
      "[0.5, 0.2, 0.6, 0.2]\n",
      "tf.Tensor([[0.09150267 0.64721787 0.13075233 0.13052718]], shape=(1, 4), dtype=float32)\n",
      "[0.7, 0.2, 0.6, 0.2]\n",
      "tf.Tensor([[0.16145112 0.77554816 0.04035679 0.02264395]], shape=(1, 4), dtype=float32)\n",
      "[0.5, 0.2, 0.6, 0.2]\n"
     ]
    },
    {
     "name": "stderr",
     "output_type": "stream",
     "text": [
      "\r",
      " 58%|█████████████████████████████████████████▊                              | 17401/30000 [5:03:57<1:37:34,  2.15it/s]"
     ]
    },
    {
     "name": "stdout",
     "output_type": "stream",
     "text": [
      "tf.Tensor([[9.2321914e-01 7.5246133e-02 1.2786427e-03 2.5607532e-04]], shape=(1, 4), dtype=float32)\n"
     ]
    },
    {
     "name": "stderr",
     "output_type": "stream",
     "text": [
      " 58%|██████████████████████████████████████████                              | 17501/30000 [5:04:42<2:12:16,  1.57it/s]"
     ]
    },
    {
     "name": "stdout",
     "output_type": "stream",
     "text": [
      "5.376388823690862\n",
      "100\n"
     ]
    },
    {
     "name": "stderr",
     "output_type": "stream",
     "text": [
      " 59%|██████████████████████████████████████████▏                             | 17600/30000 [5:05:29<1:42:11,  2.02it/s]"
     ]
    },
    {
     "name": "stdout",
     "output_type": "stream",
     "text": [
      "5.32907304297658\n",
      "100\n",
      "[0.8, 0.9, 0.7, 0.4]\n",
      "tf.Tensor([[0.0711408  0.5612287  0.16367316 0.20395738]], shape=(1, 4), dtype=float32)\n",
      "[0.8, 0.7, 0.7, 0.4]\n",
      "tf.Tensor([[0.09370007 0.6898109  0.10670684 0.10978223]], shape=(1, 4), dtype=float32)\n",
      "[0.8, 0.5, 0.7, 0.4]\n",
      "tf.Tensor([[0.16357008 0.78785914 0.03090212 0.01766868]], shape=(1, 4), dtype=float32)\n",
      "[0.8, 0.3, 0.7, 0.4]\n"
     ]
    },
    {
     "name": "stderr",
     "output_type": "stream",
     "text": [
      "\r",
      " 59%|██████████████████████████████████████████▏                             | 17601/30000 [5:05:30<2:17:27,  1.50it/s]"
     ]
    },
    {
     "name": "stdout",
     "output_type": "stream",
     "text": [
      "tf.Tensor([[9.1263491e-01 8.5937500e-02 1.1948962e-03 2.3266132e-04]], shape=(1, 4), dtype=float32)\n",
      "[0.7, 0.3, 0.7, 0.4]\n",
      "tf.Tensor([[9.2299289e-01 7.5848855e-02 9.7467256e-04 1.8359491e-04]], shape=(1, 4), dtype=float32)\n"
     ]
    },
    {
     "name": "stderr",
     "output_type": "stream",
     "text": [
      " 59%|██████████████████████████████████████████▍                             | 17701/30000 [5:06:18<1:30:53,  2.26it/s]"
     ]
    },
    {
     "name": "stdout",
     "output_type": "stream",
     "text": [
      "6.28985729171653\n",
      "100\n"
     ]
    },
    {
     "name": "stderr",
     "output_type": "stream",
     "text": [
      " 59%|██████████████████████████████████████████▋                             | 17800/30000 [5:07:00<1:30:14,  2.25it/s]"
     ]
    },
    {
     "name": "stdout",
     "output_type": "stream",
     "text": [
      "6.043738974350171\n",
      "100\n",
      "[0.0, 0.7, 0.7, 0.4]\n",
      "tf.Tensor([[0.06590854 0.5563909  0.16651548 0.21118508]], shape=(1, 4), dtype=float32)\n",
      "[0.2, 0.7, 0.7, 0.4]\n",
      "tf.Tensor([[0.0786867  0.6633296  0.11771075 0.14027299]], shape=(1, 4), dtype=float32)\n",
      "[0.4, 0.7, 0.7, 0.4]\n",
      "tf.Tensor([[0.12597759 0.7941583  0.04616    0.03370406]], shape=(1, 4), dtype=float32)\n"
     ]
    },
    {
     "name": "stderr",
     "output_type": "stream",
     "text": [
      "\r",
      " 59%|██████████████████████████████████████████▋                             | 17801/30000 [5:07:01<1:24:16,  2.41it/s]"
     ]
    },
    {
     "name": "stdout",
     "output_type": "stream",
     "text": [
      "[0.4, 0.5, 0.7, 0.4]\n",
      "tf.Tensor([[7.8317034e-01 2.1292959e-01 3.1704409e-03 7.2965317e-04]], shape=(1, 4), dtype=float32)\n",
      "[0.5, 0.5, 0.7, 0.4]\n",
      "tf.Tensor([[8.1864995e-01 1.7816563e-01 2.6087260e-03 5.7563221e-04]], shape=(1, 4), dtype=float32)\n",
      "[0.6, 0.5, 0.7, 0.4]\n",
      "tf.Tensor([[8.2514083e-01 1.7167269e-01 2.5874528e-03 5.9899222e-04]], shape=(1, 4), dtype=float32)\n",
      "[0.6, 0.4, 0.7, 0.4]\n",
      "tf.Tensor([[8.4311312e-01 1.5420906e-01 2.2068494e-03 4.7092608e-04]], shape=(1, 4), dtype=float32)\n"
     ]
    },
    {
     "name": "stderr",
     "output_type": "stream",
     "text": [
      " 60%|██████████████████████████████████████████▉                             | 17901/30000 [5:07:45<1:40:19,  2.01it/s]"
     ]
    },
    {
     "name": "stdout",
     "output_type": "stream",
     "text": [
      "5.718044307221223\n",
      "100\n"
     ]
    },
    {
     "name": "stderr",
     "output_type": "stream",
     "text": [
      " 60%|███████████████████████████████████████████▏                            | 18000/30000 [5:08:33<1:25:30,  2.34it/s]"
     ]
    },
    {
     "name": "stdout",
     "output_type": "stream",
     "text": [
      "5.666346974289809\n",
      "100\n",
      "[0.3, 0.4, 0.1, 0.1]\n",
      "tf.Tensor([[0.06780629 0.57015616 0.16226056 0.19977699]], shape=(1, 4), dtype=float32)\n",
      "[0.3, 0.2, 0.1, 0.1]\n",
      "tf.Tensor([[0.07907118 0.66520745 0.117979   0.1377424 ]], shape=(1, 4), dtype=float32)\n",
      "[0.1, 0.2, 0.1, 0.1]\n",
      "tf.Tensor([[0.12968901 0.7891147  0.04713232 0.03406395]], shape=(1, 4), dtype=float32)\n",
      "[0.1, 0.0, 0.1, 0.1]\n"
     ]
    },
    {
     "name": "stderr",
     "output_type": "stream",
     "text": [
      "\r",
      " 60%|███████████████████████████████████████████▏                            | 18001/30000 [5:08:34<1:32:17,  2.17it/s]"
     ]
    },
    {
     "name": "stdout",
     "output_type": "stream",
     "text": [
      "tf.Tensor([[8.3414900e-01 1.6288644e-01 2.4212059e-03 5.4338016e-04]], shape=(1, 4), dtype=float32)\n"
     ]
    },
    {
     "name": "stderr",
     "output_type": "stream",
     "text": [
      " 60%|███████████████████████████████████████████▍                            | 18101/30000 [5:09:22<1:25:24,  2.32it/s]"
     ]
    },
    {
     "name": "stdout",
     "output_type": "stream",
     "text": [
      "6.022918497738948\n",
      "100\n"
     ]
    },
    {
     "name": "stderr",
     "output_type": "stream",
     "text": [
      " 61%|███████████████████████████████████████████▋                            | 18200/30000 [5:10:05<1:11:38,  2.74it/s]"
     ]
    },
    {
     "name": "stdout",
     "output_type": "stream",
     "text": [
      "6.186630454419954\n",
      "100\n",
      "[0.8, 0.6, 0.1, 0.1]\n",
      "tf.Tensor([[0.06475695 0.5610843  0.17156763 0.20259117]], shape=(1, 4), dtype=float32)\n",
      "[0.6, 0.6, 0.1, 0.1]\n",
      "tf.Tensor([[0.08134558 0.6798239  0.12080232 0.11802819]], shape=(1, 4), dtype=float32)\n",
      "[0.6, 0.4, 0.1, 0.1]\n",
      "tf.Tensor([[0.12730995 0.81327057 0.0369964  0.02242299]], shape=(1, 4), dtype=float32)\n",
      "[0.4, 0.4, 0.1, 0.1]\n"
     ]
    },
    {
     "name": "stderr",
     "output_type": "stream",
     "text": [
      "\r",
      " 61%|███████████████████████████████████████████▋                            | 18201/30000 [5:10:06<1:35:16,  2.06it/s]"
     ]
    },
    {
     "name": "stdout",
     "output_type": "stream",
     "text": [
      "tf.Tensor([[8.2965678e-01 1.6755526e-01 2.2781272e-03 5.0987105e-04]], shape=(1, 4), dtype=float32)\n",
      "[0.4, 0.3, 0.1, 0.1]\n",
      "tf.Tensor([[8.2323021e-01 1.7379685e-01 2.4442873e-03 5.2869960e-04]], shape=(1, 4), dtype=float32)\n",
      "[0.3, 0.3, 0.1, 0.1]\n",
      "tf.Tensor([[8.0973923e-01 1.8685161e-01 2.7597507e-03 6.4937479e-04]], shape=(1, 4), dtype=float32)\n",
      "[0.3, 0.2, 0.1, 0.1]\n",
      "tf.Tensor([[8.0203795e-01 1.9432232e-01 2.9624759e-03 6.7718007e-04]], shape=(1, 4), dtype=float32)\n",
      "[0.2, 0.2, 0.1, 0.1]\n",
      "tf.Tensor([[0.7843963  0.21145727 0.00332589 0.00082047]], shape=(1, 4), dtype=float32)\n",
      "[0.2, 0.1, 0.1, 0.1]\n",
      "tf.Tensor([[0.78182244 0.21390195 0.00345175 0.00082383]], shape=(1, 4), dtype=float32)\n"
     ]
    },
    {
     "name": "stderr",
     "output_type": "stream",
     "text": [
      " 61%|███████████████████████████████████████████▉                            | 18301/30000 [5:10:50<1:20:07,  2.43it/s]"
     ]
    },
    {
     "name": "stdout",
     "output_type": "stream",
     "text": [
      "6.077690149636036\n",
      "100\n"
     ]
    },
    {
     "name": "stderr",
     "output_type": "stream",
     "text": [
      " 61%|████████████████████████████████████████████▏                           | 18400/30000 [5:11:36<1:13:57,  2.61it/s]"
     ]
    },
    {
     "name": "stdout",
     "output_type": "stream",
     "text": [
      "6.036457684928494\n",
      "100\n",
      "[0.9, 0.0, 0.1, 0.1]\n",
      "tf.Tensor([[0.06390419 0.5222405  0.19050571 0.22334959]], shape=(1, 4), dtype=float32)\n",
      "[0.7, 0.0, 0.1, 0.1]\n",
      "tf.Tensor([[0.07551172 0.6286033  0.14395513 0.15192991]], shape=(1, 4), dtype=float32)\n",
      "[0.5, 0.0, 0.1, 0.1]\n"
     ]
    },
    {
     "name": "stderr",
     "output_type": "stream",
     "text": [
      "\r",
      " 61%|████████████████████████████████████████████▏                           | 18401/30000 [5:11:37<1:53:42,  1.70it/s]"
     ]
    },
    {
     "name": "stdout",
     "output_type": "stream",
     "text": [
      "tf.Tensor([[0.12107064 0.80041426 0.04718032 0.03133473]], shape=(1, 4), dtype=float32)\n",
      "[0.3, 0.0, 0.1, 0.1]\n",
      "tf.Tensor([[8.2709593e-01 1.7034282e-01 2.0945030e-03 4.6675754e-04]], shape=(1, 4), dtype=float32)\n",
      "[0.2, 0.0, 0.1, 0.1]\n",
      "tf.Tensor([[8.1937814e-01 1.7805038e-01 2.0963289e-03 4.7509032e-04]], shape=(1, 4), dtype=float32)\n",
      "[0.2, 0.1, 0.1, 0.1]\n",
      "tf.Tensor([[7.9199886e-01 2.0455842e-01 2.7659205e-03 6.7675929e-04]], shape=(1, 4), dtype=float32)\n"
     ]
    },
    {
     "name": "stderr",
     "output_type": "stream",
     "text": [
      " 62%|████████████████████████████████████████████▍                           | 18501/30000 [5:12:21<1:33:54,  2.04it/s]"
     ]
    },
    {
     "name": "stdout",
     "output_type": "stream",
     "text": [
      "5.522523635141689\n",
      "100\n"
     ]
    },
    {
     "name": "stderr",
     "output_type": "stream",
     "text": [
      " 62%|████████████████████████████████████████████▋                           | 18600/30000 [5:13:04<1:14:51,  2.54it/s]"
     ]
    },
    {
     "name": "stdout",
     "output_type": "stream",
     "text": [
      "5.187396055266369\n",
      "100\n",
      "[0.1, 0.4, 0.2, 0.9]\n",
      "tf.Tensor([[0.05793258 0.5010563  0.20896788 0.23204327]], shape=(1, 4), dtype=float32)\n",
      "[0.1, 0.6, 0.2, 0.9]\n",
      "tf.Tensor([[0.06738798 0.61204714 0.15770833 0.1628566 ]], shape=(1, 4), dtype=float32)\n",
      "[0.1, 0.8, 0.2, 0.9]\n",
      "tf.Tensor([[0.10722651 0.8012374  0.0531614  0.03837471]], shape=(1, 4), dtype=float32)\n",
      "[0.3, 0.8, 0.2, 0.9]\n",
      "tf.Tensor([[7.9133862e-01 2.0561326e-01 2.4862001e-03 5.6191691e-04]], shape=(1, 4), dtype=float32)\n",
      "[0.2, 0.8, 0.2, 0.9]\n"
     ]
    },
    {
     "name": "stderr",
     "output_type": "stream",
     "text": [
      "\r",
      " 62%|████████████████████████████████████████████▋                           | 18601/30000 [5:13:05<1:40:00,  1.90it/s]"
     ]
    },
    {
     "name": "stdout",
     "output_type": "stream",
     "text": [
      "tf.Tensor([[7.9857773e-01 1.9884756e-01 2.1197658e-03 4.5493298e-04]], shape=(1, 4), dtype=float32)\n"
     ]
    },
    {
     "name": "stderr",
     "output_type": "stream",
     "text": [
      " 62%|████████████████████████████████████████████▉                           | 18700/30000 [5:13:45<1:08:07,  2.76it/s]"
     ]
    },
    {
     "name": "stdout",
     "output_type": "stream",
     "text": [
      "5.810448107618457\n",
      "100\n"
     ]
    },
    {
     "name": "stderr",
     "output_type": "stream",
     "text": [
      " 63%|█████████████████████████████████████████████                           | 18800/30000 [5:14:26<1:04:16,  2.90it/s]"
     ]
    },
    {
     "name": "stdout",
     "output_type": "stream",
     "text": [
      "5.759972937443276\n",
      "100\n",
      "[0.6, 0.2, 0.2, 0.9]\n",
      "tf.Tensor([[0.05475022 0.49082077 0.20594321 0.2484858 ]], shape=(1, 4), dtype=float32)\n",
      "[0.6, 0.4, 0.2, 0.9]\n",
      "tf.Tensor([[0.0647714  0.6101381  0.15352046 0.17157003]], shape=(1, 4), dtype=float32)\n",
      "[0.6, 0.6, 0.2, 0.9]\n",
      "tf.Tensor([[0.10939755 0.8134867  0.04526285 0.03185289]], shape=(1, 4), dtype=float32)\n",
      "[0.4, 0.6, 0.2, 0.9]\n",
      "tf.Tensor([[8.4897763e-01 1.4930579e-01 1.4139684e-03 3.0261831e-04]], shape=(1, 4), dtype=float32)\n",
      "[0.4, 0.7, 0.2, 0.9]\n",
      "tf.Tensor([[8.3649176e-01 1.6153605e-01 1.6214724e-03 3.5070279e-04]], shape=(1, 4), dtype=float32)\n",
      "[0.3, 0.7, 0.2, 0.9]\n"
     ]
    },
    {
     "name": "stderr",
     "output_type": "stream",
     "text": [
      "\r",
      " 63%|█████████████████████████████████████████████                           | 18801/30000 [5:14:27<1:45:32,  1.77it/s]"
     ]
    },
    {
     "name": "stdout",
     "output_type": "stream",
     "text": [
      "tf.Tensor([[8.2991004e-01 1.6822432e-01 1.5398110e-03 3.2583161e-04]], shape=(1, 4), dtype=float32)\n",
      "[0.3, 0.8, 0.2, 0.9]\n",
      "tf.Tensor([[8.2387292e-01 1.7400116e-01 1.7438086e-03 3.8209703e-04]], shape=(1, 4), dtype=float32)\n",
      "[0.2, 0.8, 0.2, 0.9]\n",
      "tf.Tensor([[8.1555605e-01 1.8240356e-01 1.6797527e-03 3.6062274e-04]], shape=(1, 4), dtype=float32)\n"
     ]
    },
    {
     "name": "stderr",
     "output_type": "stream",
     "text": [
      " 63%|█████████████████████████████████████████████▎                          | 18901/30000 [5:15:07<1:21:45,  2.26it/s]"
     ]
    },
    {
     "name": "stdout",
     "output_type": "stream",
     "text": [
      "5.678864298056877\n",
      "100\n"
     ]
    },
    {
     "name": "stderr",
     "output_type": "stream",
     "text": [
      " 63%|█████████████████████████████████████████████▌                          | 19000/30000 [5:15:49<1:29:34,  2.05it/s]"
     ]
    },
    {
     "name": "stdout",
     "output_type": "stream",
     "text": [
      "5.292216253836344\n",
      "100\n",
      "[0.0, 0.7, 0.6, 0.2]\n",
      "tf.Tensor([[0.05013074 0.46901652 0.2168859  0.26396677]], shape=(1, 4), dtype=float32)\n",
      "[0.2, 0.7, 0.6, 0.2]\n",
      "tf.Tensor([[0.06320678 0.5913714  0.1650249  0.18039684]], shape=(1, 4), dtype=float32)\n",
      "[0.2, 0.5, 0.6, 0.2]\n",
      "tf.Tensor([[0.10064016 0.80612487 0.05318988 0.04004511]], shape=(1, 4), dtype=float32)\n"
     ]
    },
    {
     "name": "stderr",
     "output_type": "stream",
     "text": [
      "\r",
      " 63%|█████████████████████████████████████████████▌                          | 19001/30000 [5:15:50<2:03:06,  1.49it/s]"
     ]
    },
    {
     "name": "stdout",
     "output_type": "stream",
     "text": [
      "[0.4, 0.5, 0.6, 0.2]\n",
      "tf.Tensor([[0.65588194 0.3392887  0.00377685 0.00105248]], shape=(1, 4), dtype=float32)\n",
      "[0.4, 0.4, 0.6, 0.2]\n",
      "tf.Tensor([[0.67522275 0.31996349 0.00375481 0.00105897]], shape=(1, 4), dtype=float32)\n",
      "[0.4, 0.3, 0.6, 0.2]\n",
      "tf.Tensor([[0.6988202  0.2970719  0.00325783 0.00085003]], shape=(1, 4), dtype=float32)\n",
      "[0.5, 0.3, 0.6, 0.2]\n",
      "tf.Tensor([[0.70284057 0.29272875 0.0034683  0.00096233]], shape=(1, 4), dtype=float32)\n",
      "[0.5, 0.2, 0.6, 0.2]\n",
      "tf.Tensor([[0.72552437 0.27073097 0.00298007 0.00076456]], shape=(1, 4), dtype=float32)\n"
     ]
    },
    {
     "name": "stderr",
     "output_type": "stream",
     "text": [
      " 64%|█████████████████████████████████████████████▊                          | 19101/30000 [5:16:35<1:20:34,  2.25it/s]"
     ]
    },
    {
     "name": "stdout",
     "output_type": "stream",
     "text": [
      "5.995652915845538\n",
      "100\n"
     ]
    },
    {
     "name": "stderr",
     "output_type": "stream",
     "text": [
      " 64%|███████████████████████████████████████████████▎                          | 19200/30000 [5:17:18<50:17,  3.58it/s]"
     ]
    },
    {
     "name": "stdout",
     "output_type": "stream",
     "text": [
      "6.36552423636323\n",
      "100\n",
      "[0.0, 0.4, 0.7, 0.4]\n",
      "tf.Tensor([[0.05579138 0.47897166 0.20480546 0.2604315 ]], shape=(1, 4), dtype=float32)\n",
      "[0.2, 0.4, 0.7, 0.4]\n",
      "tf.Tensor([[0.06931912 0.6110435  0.14712904 0.17250828]], shape=(1, 4), dtype=float32)\n",
      "[0.4, 0.4, 0.7, 0.4]\n",
      "tf.Tensor([[0.11693925 0.8123589  0.04179948 0.02890237]], shape=(1, 4), dtype=float32)\n"
     ]
    },
    {
     "name": "stderr",
     "output_type": "stream",
     "text": [
      "\r",
      " 64%|███████████████████████████████████████████████▎                          | 19201/30000 [5:17:18<52:14,  3.44it/s]"
     ]
    },
    {
     "name": "stdout",
     "output_type": "stream",
     "text": [
      "[0.6, 0.4, 0.7, 0.4]\n",
      "tf.Tensor([[7.2697204e-01 2.6961312e-01 2.7534401e-03 6.6141918e-04]], shape=(1, 4), dtype=float32)\n"
     ]
    },
    {
     "name": "stderr",
     "output_type": "stream",
     "text": [
      " 64%|██████████████████████████████████████████████▎                         | 19301/30000 [5:18:03<1:27:30,  2.04it/s]"
     ]
    },
    {
     "name": "stdout",
     "output_type": "stream",
     "text": [
      "5.52042868797423\n",
      "100\n"
     ]
    },
    {
     "name": "stderr",
     "output_type": "stream",
     "text": [
      " 65%|██████████████████████████████████████████████▌                         | 19400/30000 [5:18:48<1:31:59,  1.92it/s]"
     ]
    },
    {
     "name": "stdout",
     "output_type": "stream",
     "text": [
      "6.4779759758990805\n",
      "100\n"
     ]
    },
    {
     "name": "stderr",
     "output_type": "stream",
     "text": [
      "\r",
      " 65%|██████████████████████████████████████████████▌                         | 19401/30000 [5:18:49<1:44:57,  1.68it/s]"
     ]
    },
    {
     "name": "stdout",
     "output_type": "stream",
     "text": [
      "[0.2, 0.1, 0.2, 0.9]\n",
      "tf.Tensor([[0.04635663 0.39153954 0.23399341 0.3281104 ]], shape=(1, 4), dtype=float32)\n",
      "[0.2, 0.3, 0.2, 0.9]\n",
      "tf.Tensor([[0.05653222 0.49803638 0.18668267 0.25874868]], shape=(1, 4), dtype=float32)\n",
      "[0.2, 0.5, 0.2, 0.9]\n",
      "tf.Tensor([[0.09244891 0.7619922  0.07286473 0.07269413]], shape=(1, 4), dtype=float32)\n",
      "[0.2, 0.7, 0.2, 0.9]\n",
      "tf.Tensor([[7.5531161e-01 2.4153374e-01 2.5399288e-03 6.1472575e-04]], shape=(1, 4), dtype=float32)\n",
      "[0.2, 0.8, 0.2, 0.9]\n",
      "tf.Tensor([[7.6512551e-01 2.3207040e-01 2.2709558e-03 5.3308002e-04]], shape=(1, 4), dtype=float32)\n"
     ]
    },
    {
     "name": "stderr",
     "output_type": "stream",
     "text": [
      " 65%|██████████████████████████████████████████████▊                         | 19501/30000 [5:19:45<1:12:20,  2.42it/s]"
     ]
    },
    {
     "name": "stdout",
     "output_type": "stream",
     "text": [
      "6.371205745341523\n",
      "100\n"
     ]
    },
    {
     "name": "stderr",
     "output_type": "stream",
     "text": [
      " 65%|███████████████████████████████████████████████                         | 19600/30000 [5:20:27<1:37:52,  1.77it/s]"
     ]
    },
    {
     "name": "stdout",
     "output_type": "stream",
     "text": [
      "5.751203986055786\n",
      "100\n",
      "[0.9, 0.7, 0.6, 0.2]\n",
      "tf.Tensor([[0.04952117 0.439787   0.2144745  0.2962174 ]], shape=(1, 4), dtype=float32)\n",
      "[0.9, 0.5, 0.6, 0.2]\n",
      "tf.Tensor([[0.06282518 0.5822475  0.15744638 0.19748089]], shape=(1, 4), dtype=float32)\n",
      "[0.9, 0.3, 0.6, 0.2]\n",
      "tf.Tensor([[0.10571843 0.82011414 0.04279597 0.03137147]], shape=(1, 4), dtype=float32)\n",
      "[0.7, 0.3, 0.6, 0.2]\n"
     ]
    },
    {
     "name": "stderr",
     "output_type": "stream",
     "text": [
      "\r",
      " 65%|███████████████████████████████████████████████                         | 19601/30000 [5:20:28<1:37:25,  1.78it/s]"
     ]
    },
    {
     "name": "stdout",
     "output_type": "stream",
     "text": [
      "tf.Tensor([[0.6934992  0.3026254  0.00307552 0.00079992]], shape=(1, 4), dtype=float32)\n",
      "[0.7, 0.2, 0.6, 0.2]\n",
      "tf.Tensor([[7.0298612e-01 2.9346672e-01 2.8640814e-03 6.8312848e-04]], shape=(1, 4), dtype=float32)\n"
     ]
    },
    {
     "name": "stderr",
     "output_type": "stream",
     "text": [
      " 66%|███████████████████████████████████████████████▎                        | 19701/30000 [5:21:14<1:16:28,  2.24it/s]"
     ]
    },
    {
     "name": "stdout",
     "output_type": "stream",
     "text": [
      "5.942013477836737\n",
      "100\n"
     ]
    },
    {
     "name": "stderr",
     "output_type": "stream",
     "text": [
      " 66%|███████████████████████████████████████████████▌                        | 19800/30000 [5:21:57<1:03:35,  2.67it/s]"
     ]
    },
    {
     "name": "stdout",
     "output_type": "stream",
     "text": [
      "5.786175901218201\n",
      "100\n",
      "[0.4, 0.7, 0.1, 0.1]\n",
      "tf.Tensor([[0.05354445 0.4577651  0.20626095 0.28242955]], shape=(1, 4), dtype=float32)\n",
      "[0.4, 0.5, 0.1, 0.1]\n",
      "tf.Tensor([[0.06783518 0.59111154 0.15393935 0.18711394]], shape=(1, 4), dtype=float32)\n",
      "[0.4, 0.3, 0.1, 0.1]\n",
      "tf.Tensor([[0.11037589 0.8069292  0.04692306 0.03577186]], shape=(1, 4), dtype=float32)\n",
      "[0.2, 0.3, 0.1, 0.1]\n"
     ]
    },
    {
     "name": "stderr",
     "output_type": "stream",
     "text": [
      "\r",
      " 66%|███████████████████████████████████████████████▌                        | 19801/30000 [5:21:58<1:13:57,  2.30it/s]"
     ]
    },
    {
     "name": "stdout",
     "output_type": "stream",
     "text": [
      "tf.Tensor([[0.70400447 0.29181284 0.00326234 0.00092036]], shape=(1, 4), dtype=float32)\n",
      "[0.2, 0.2, 0.1, 0.1]\n",
      "tf.Tensor([[0.69403374 0.3014316  0.00351386 0.00102087]], shape=(1, 4), dtype=float32)\n",
      "[0.2, 0.1, 0.1, 0.1]\n",
      "tf.Tensor([[0.68501836 0.3105286  0.00350477 0.0009483 ]], shape=(1, 4), dtype=float32)\n"
     ]
    },
    {
     "name": "stderr",
     "output_type": "stream",
     "text": [
      " 66%|███████████████████████████████████████████████▊                        | 19900/30000 [5:22:39<1:02:45,  2.68it/s]"
     ]
    },
    {
     "name": "stdout",
     "output_type": "stream",
     "text": [
      "5.987056684379469\n",
      "100\n"
     ]
    },
    {
     "name": "stderr",
     "output_type": "stream",
     "text": [
      " 67%|████████████████████████████████████████████████                        | 20001/30000 [5:23:20<1:29:57,  1.85it/s]"
     ]
    },
    {
     "name": "stdout",
     "output_type": "stream",
     "text": [
      "6.137133694507709\n",
      "100\n",
      "[0.2, 0.6, 0.7, 0.4]\n",
      "tf.Tensor([[0.0469467  0.42527345 0.22998857 0.29779124]], shape=(1, 4), dtype=float32)\n",
      "[0.4, 0.6, 0.7, 0.4]\n",
      "tf.Tensor([[0.05843288 0.56014687 0.17435329 0.20706697]], shape=(1, 4), dtype=float32)\n",
      "[0.6, 0.6, 0.7, 0.4]\n",
      "tf.Tensor([[0.10422104 0.8118932  0.0491503  0.0347355 ]], shape=(1, 4), dtype=float32)\n",
      "[0.6, 0.4, 0.7, 0.4]\n",
      "tf.Tensor([[7.294273e-01 2.675840e-01 2.413766e-03 5.749269e-04]], shape=(1, 4), dtype=float32)\n"
     ]
    },
    {
     "name": "stderr",
     "output_type": "stream",
     "text": [
      " 67%|████████████████████████████████████████████████▏                       | 20101/30000 [5:24:03<1:12:59,  2.26it/s]"
     ]
    },
    {
     "name": "stdout",
     "output_type": "stream",
     "text": [
      "6.018727035072485\n",
      "100\n"
     ]
    },
    {
     "name": "stderr",
     "output_type": "stream",
     "text": [
      " 67%|████████████████████████████████████████████████▍                       | 20200/30000 [5:24:45<1:09:59,  2.33it/s]"
     ]
    },
    {
     "name": "stdout",
     "output_type": "stream",
     "text": [
      "5.595438963676589\n",
      "100\n",
      "[0.5, 0.0, 0.1, 0.1]\n",
      "tf.Tensor([[0.04121773 0.32464775 0.29966864 0.33446595]], shape=(1, 4), dtype=float32)\n",
      "[0.1, 0.0, 0.1, 0.1]\n",
      "tf.Tensor([[0.046369   0.37857428 0.2823588  0.29269788]], shape=(1, 4), dtype=float32)\n",
      "[0.1, 0.2, 0.1, 0.1]\n",
      "tf.Tensor([[0.09146812 0.68064785 0.1296154  0.09826855]], shape=(1, 4), dtype=float32)\n",
      "[0.1, 0.0, 0.1, 0.1]\n"
     ]
    },
    {
     "name": "stderr",
     "output_type": "stream",
     "text": [
      "\r",
      " 67%|████████████████████████████████████████████████▍                       | 20201/30000 [5:24:46<1:27:16,  1.87it/s]"
     ]
    },
    {
     "name": "stdout",
     "output_type": "stream",
     "text": [
      "tf.Tensor([[0.7148091  0.28124148 0.00318955 0.00075984]], shape=(1, 4), dtype=float32)\n"
     ]
    },
    {
     "name": "stderr",
     "output_type": "stream",
     "text": [
      " 68%|████████████████████████████████████████████████▋                       | 20301/30000 [5:25:37<1:23:03,  1.95it/s]"
     ]
    },
    {
     "name": "stdout",
     "output_type": "stream",
     "text": [
      "4.999788516929886\n",
      "100\n"
     ]
    },
    {
     "name": "stderr",
     "output_type": "stream",
     "text": [
      " 68%|████████████████████████████████████████████████▉                       | 20400/30000 [5:26:22<1:08:27,  2.34it/s]"
     ]
    },
    {
     "name": "stdout",
     "output_type": "stream",
     "text": [
      "6.1650842794674166\n",
      "100\n",
      "[0.6, 0.1, 0.7, 0.1]\n",
      "tf.Tensor([[0.04491867 0.33641723 0.26708055 0.3515835 ]], shape=(1, 4), dtype=float32)\n",
      "[1.0, 0.1, 0.7, 0.1]\n",
      "tf.Tensor([[0.05565146 0.43555892 0.22047345 0.2883162 ]], shape=(1, 4), dtype=float32)\n",
      "[0.8, 0.1, 0.7, 0.1]\n",
      "tf.Tensor([[0.10603913 0.78325796 0.06245654 0.04824631]], shape=(1, 4), dtype=float32)"
     ]
    },
    {
     "name": "stderr",
     "output_type": "stream",
     "text": [
      "\r",
      " 68%|████████████████████████████████████████████████▉                       | 20401/30000 [5:26:22<1:13:40,  2.17it/s]"
     ]
    },
    {
     "name": "stdout",
     "output_type": "stream",
     "text": [
      "\n",
      "[0.6, 0.1, 0.7, 0.1]\n",
      "tf.Tensor([[7.1847057e-01 2.7834228e-01 2.5683562e-03 6.1881798e-04]], shape=(1, 4), dtype=float32)\n"
     ]
    },
    {
     "name": "stderr",
     "output_type": "stream",
     "text": [
      " 68%|█████████████████████████████████████████████████▏                      | 20501/30000 [5:27:09<1:17:06,  2.05it/s]"
     ]
    },
    {
     "name": "stdout",
     "output_type": "stream",
     "text": [
      "5.818614360252478\n",
      "100\n"
     ]
    },
    {
     "name": "stderr",
     "output_type": "stream",
     "text": [
      " 69%|█████████████████████████████████████████████████▍                      | 20600/30000 [5:27:52<1:03:36,  2.46it/s]"
     ]
    },
    {
     "name": "stdout",
     "output_type": "stream",
     "text": [
      "6.0789140812156575\n",
      "100\n",
      "[0.9, 0.5, 0.5, 0.7]\n",
      "tf.Tensor([[0.04167272 0.3153031  0.29022124 0.352803  ]], shape=(1, 4), dtype=float32)\n",
      "[0.5, 0.5, 0.5, 0.7]\n"
     ]
    },
    {
     "name": "stderr",
     "output_type": "stream",
     "text": [
      "\r",
      " 69%|█████████████████████████████████████████████████▍                      | 20601/30000 [5:27:53<1:20:16,  1.95it/s]"
     ]
    },
    {
     "name": "stdout",
     "output_type": "stream",
     "text": [
      "tf.Tensor([[0.04454855 0.34755993 0.2739002  0.33399135]], shape=(1, 4), dtype=float32)\n"
     ]
    },
    {
     "name": "stderr",
     "output_type": "stream",
     "text": [
      " 69%|█████████████████████████████████████████████████▋                      | 20701/30000 [5:28:45<1:09:16,  2.24it/s]"
     ]
    },
    {
     "name": "stdout",
     "output_type": "stream",
     "text": [
      "5.275312252189936\n",
      "100\n"
     ]
    },
    {
     "name": "stderr",
     "output_type": "stream",
     "text": [
      " 69%|█████████████████████████████████████████████████▉                      | 20800/30000 [5:29:28<1:03:59,  2.40it/s]"
     ]
    },
    {
     "name": "stdout",
     "output_type": "stream",
     "text": [
      "5.808857160674581\n",
      "100\n",
      "[0.1, 0.7, 0.2, 0.9]\n",
      "tf.Tensor([[0.03925204 0.304632   0.3143255  0.34179038]], shape=(1, 4), dtype=float32)\n",
      "[0.1, 1.0, 0.2, 0.9]\n",
      "tf.Tensor([[0.04563269 0.3557424  0.28823534 0.31038958]], shape=(1, 4), dtype=float32)\n",
      "[0.1, 0.8, 0.2, 0.9]\n",
      "tf.Tensor([[0.08929974 0.72589654 0.10280098 0.08200271]], shape=(1, 4), dtype=float32)\n",
      "[0.1, 1.0, 0.2, 0.9]\n",
      "tf.Tensor([[0.70319194 0.29319692 0.00286195 0.00074923]], shape=(1, 4), dtype=float32)\n",
      "[0.1, 0.9, 0.2, 0.9]\n"
     ]
    },
    {
     "name": "stderr",
     "output_type": "stream",
     "text": [
      " 69%|███████████████████████████████████████████████████▎                      | 20802/30000 [5:29:28<59:44,  2.57it/s]"
     ]
    },
    {
     "name": "stdout",
     "output_type": "stream",
     "text": [
      "tf.Tensor([[0.69497234 0.30123127 0.00303298 0.00076342]], shape=(1, 4), dtype=float32)\n"
     ]
    },
    {
     "name": "stderr",
     "output_type": "stream",
     "text": [
      " 70%|██████████████████████████████████████████████████▏                     | 20900/30000 [5:30:10<1:26:00,  1.76it/s]"
     ]
    },
    {
     "name": "stdout",
     "output_type": "stream",
     "text": [
      "5.123653553165744\n",
      "100\n"
     ]
    },
    {
     "name": "stderr",
     "output_type": "stream",
     "text": [
      " 70%|██████████████████████████████████████████████████▍                     | 21001/30000 [5:30:54<1:00:25,  2.48it/s]"
     ]
    },
    {
     "name": "stdout",
     "output_type": "stream",
     "text": [
      "5.864945170088855\n",
      "100\n",
      "[0.3, 0.1, 0.2, 0.9]\n",
      "tf.Tensor([[0.03401693 0.25093576 0.39812475 0.3169225 ]], shape=(1, 4), dtype=float32)\n",
      "[0.3, 0.4, 0.2, 0.9]\n",
      "tf.Tensor([[0.03593101 0.2680128  0.3855643  0.31049186]], shape=(1, 4), dtype=float32)\n",
      "[0.3, 0.7, 0.2, 0.9]\n",
      "tf.Tensor([[0.07190467 0.5742336  0.2098724  0.14398937]], shape=(1, 4), dtype=float32)\n",
      "[0.3, 0.9, 0.2, 0.9]\n",
      "tf.Tensor([[7.8716207e-01 2.0998840e-01 2.3649498e-03 4.8460989e-04]], shape=(1, 4), dtype=float32)\n"
     ]
    },
    {
     "name": "stderr",
     "output_type": "stream",
     "text": [
      " 70%|██████████████████████████████████████████████████▋                     | 21101/30000 [5:31:38<1:15:17,  1.97it/s]"
     ]
    },
    {
     "name": "stdout",
     "output_type": "stream",
     "text": [
      "5.6366979793670176\n",
      "100\n"
     ]
    },
    {
     "name": "stderr",
     "output_type": "stream",
     "text": [
      " 71%|██████████████████████████████████████████████████▉                     | 21200/30000 [5:32:18<1:18:20,  1.87it/s]"
     ]
    },
    {
     "name": "stdout",
     "output_type": "stream",
     "text": [
      "5.795577411218485\n",
      "100\n",
      "[0.0, 0.9, 0.7, 0.1]\n",
      "tf.Tensor([[0.03297956 0.2349019  0.4421402  0.28997838]], shape=(1, 4), dtype=float32)\n",
      "[0.0, 0.6, 0.7, 0.1]\n",
      "tf.Tensor([[0.03514104 0.26650324 0.41750312 0.2808526 ]], shape=(1, 4), dtype=float32)\n",
      "[0.3, 0.6, 0.7, 0.1]\n",
      "tf.Tensor([[0.08632448 0.62511253 0.1910813  0.0974817 ]], shape=(1, 4), dtype=float32)\n",
      "[0.3, 0.4, 0.7, 0.1]\n",
      "tf.Tensor([[0.6802338  0.3148388  0.00401694 0.00091049]], shape=(1, 4), dtype=float32)\n",
      "[0.4, 0.4, 0.7, 0.1]\n"
     ]
    },
    {
     "name": "stderr",
     "output_type": "stream",
     "text": [
      "\r",
      " 71%|██████████████████████████████████████████████████▉                     | 21201/30000 [5:32:19<1:38:37,  1.49it/s]"
     ]
    },
    {
     "name": "stdout",
     "output_type": "stream",
     "text": [
      "tf.Tensor([[0.7034436  0.292292   0.00349851 0.00076585]], shape=(1, 4), dtype=float32)\n",
      "[0.5, 0.4, 0.7, 0.1]\n",
      "tf.Tensor([[0.7141298  0.28152907 0.00352242 0.00081868]], shape=(1, 4), dtype=float32)\n",
      "[0.5, 0.3, 0.7, 0.1]\n",
      "tf.Tensor([[0.7246577  0.2712643  0.00331203 0.00076586]], shape=(1, 4), dtype=float32)\n",
      "[0.5, 0.2, 0.7, 0.1]\n",
      "tf.Tensor([[7.3873430e-01 2.5749502e-01 3.0957167e-03 6.7487563e-04]], shape=(1, 4), dtype=float32)\n",
      "[0.6, 0.2, 0.7, 0.1]\n",
      "tf.Tensor([[0.7188086  0.2765165  0.00377228 0.00090264]], shape=(1, 4), dtype=float32)\n",
      "[0.6, 0.1, 0.7, 0.1]\n",
      "tf.Tensor([[7.4622649e-01 2.5002012e-01 3.0800693e-03 6.7331927e-04]], shape=(1, 4), dtype=float32)\n"
     ]
    },
    {
     "name": "stderr",
     "output_type": "stream",
     "text": [
      " 71%|███████████████████████████████████████████████████                     | 21301/30000 [5:33:03<1:19:13,  1.83it/s]"
     ]
    },
    {
     "name": "stdout",
     "output_type": "stream",
     "text": [
      "5.537355052771658\n",
      "100\n"
     ]
    },
    {
     "name": "stderr",
     "output_type": "stream",
     "text": [
      " 71%|████████████████████████████████████████████████████▊                     | 21400/30000 [5:33:41<43:55,  3.26it/s]"
     ]
    },
    {
     "name": "stdout",
     "output_type": "stream",
     "text": [
      "6.492220415784981\n",
      "100\n",
      "[0.0, 0.6, 0.6, 0.2]\n",
      "tf.Tensor([[0.03296721 0.26057637 0.39763892 0.30881757]], shape=(1, 4), dtype=float32)\n",
      "[0.3, 0.6, 0.6, 0.2]\n",
      "tf.Tensor([[0.03899717 0.30527055 0.37577918 0.27995306]], shape=(1, 4), dtype=float32)\n",
      "[0.3, 0.3, 0.6, 0.2]\n"
     ]
    },
    {
     "name": "stderr",
     "output_type": "stream",
     "text": [
      "\r",
      " 71%|████████████████████████████████████████████████████▊                     | 21401/30000 [5:33:42<57:59,  2.47it/s]"
     ]
    },
    {
     "name": "stdout",
     "output_type": "stream",
     "text": [
      "tf.Tensor([[0.09194655 0.7084809  0.12926173 0.07031088]], shape=(1, 4), dtype=float32)\n",
      "[0.5, 0.3, 0.6, 0.2]\n",
      "tf.Tensor([[0.69456136 0.30106097 0.00354747 0.00083021]], shape=(1, 4), dtype=float32)\n",
      "[0.5, 0.2, 0.6, 0.2]\n",
      "tf.Tensor([[7.2718585e-01 2.6909122e-01 3.0539597e-03 6.6892320e-04]], shape=(1, 4), dtype=float32)\n"
     ]
    },
    {
     "name": "stderr",
     "output_type": "stream",
     "text": [
      " 72%|███████████████████████████████████████████████████▌                    | 21501/30000 [5:34:22<1:08:34,  2.07it/s]"
     ]
    },
    {
     "name": "stdout",
     "output_type": "stream",
     "text": [
      "5.94961049639449\n",
      "100\n"
     ]
    },
    {
     "name": "stderr",
     "output_type": "stream",
     "text": [
      " 72%|█████████████████████████████████████████████████████▎                    | 21601/30000 [5:35:08<57:20,  2.44it/s]"
     ]
    },
    {
     "name": "stdout",
     "output_type": "stream",
     "text": [
      "5.78008980177581\n",
      "100\n",
      "[0.0, 0.3, 0.1, 0.1]\n",
      "tf.Tensor([[0.0299274  0.23650019 0.44889006 0.2846824 ]], shape=(1, 4), dtype=float32)\n",
      "[0.0, 0.0, 0.1, 0.1]\n",
      "tf.Tensor([[0.02970983 0.24309109 0.45107827 0.2761208 ]], shape=(1, 4), dtype=float32)\n",
      "[0.0, 0.3, 0.1, 0.1]\n",
      "tf.Tensor([[0.06580229 0.51460195 0.2743011  0.14529459]], shape=(1, 4), dtype=float32)\n",
      "[0.0, 0.1, 0.1, 0.1]\n",
      "tf.Tensor([[0.6357892  0.3576283  0.00533568 0.00124684]], shape=(1, 4), dtype=float32)\n"
     ]
    },
    {
     "name": "stderr",
     "output_type": "stream",
     "text": [
      " 72%|████████████████████████████████████████████████████                    | 21701/30000 [5:35:49<1:08:34,  2.02it/s]"
     ]
    },
    {
     "name": "stdout",
     "output_type": "stream",
     "text": [
      "5.742471265010974\n",
      "100\n"
     ]
    },
    {
     "name": "stderr",
     "output_type": "stream",
     "text": [
      " 73%|█████████████████████████████████████████████████████▊                    | 21800/30000 [5:36:30<57:49,  2.36it/s]"
     ]
    },
    {
     "name": "stdout",
     "output_type": "stream",
     "text": [
      "5.561684342505387\n",
      "100\n",
      "[0.9, 0.6, 0.2, 0.9]\n",
      "tf.Tensor([[0.02527912 0.20391327 0.49462333 0.2761843 ]], shape=(1, 4), dtype=float32)\n",
      "[0.6, 0.6, 0.2, 0.9]\n",
      "tf.Tensor([[0.02871918 0.23851937 0.46923733 0.26352417]], shape=(1, 4), dtype=float32)\n",
      "[0.3, 0.6, 0.2, 0.9]\n",
      "tf.Tensor([[0.0854216  0.7381262  0.12911688 0.04733533]], shape=(1, 4), dtype=float32)\n",
      "[0.3, 0.8, 0.2, 0.9]\n",
      "tf.Tensor([[7.8837150e-01 2.0973538e-01 1.6266932e-03 2.6634790e-04]], shape=(1, 4), dtype=float32)\n",
      "[0.3, 0.9, 0.2, 0.9]\n"
     ]
    },
    {
     "name": "stderr",
     "output_type": "stream",
     "text": [
      "\r",
      " 73%|████████████████████████████████████████████████████▎                   | 21801/30000 [5:36:30<1:05:49,  2.08it/s]"
     ]
    },
    {
     "name": "stdout",
     "output_type": "stream",
     "text": [
      "tf.Tensor([[7.6847398e-01 2.2918503e-01 1.9992371e-03 3.4176273e-04]], shape=(1, 4), dtype=float32)\n"
     ]
    },
    {
     "name": "stderr",
     "output_type": "stream",
     "text": [
      " 73%|████████████████████████████████████████████████████▌                   | 21901/30000 [5:37:10<1:13:14,  1.84it/s]"
     ]
    },
    {
     "name": "stdout",
     "output_type": "stream",
     "text": [
      "5.622196820464545\n",
      "100\n"
     ]
    },
    {
     "name": "stderr",
     "output_type": "stream",
     "text": [
      " 73%|████████████████████████████████████████████████████▊                   | 22000/30000 [5:37:51<1:26:43,  1.54it/s]"
     ]
    },
    {
     "name": "stdout",
     "output_type": "stream",
     "text": [
      "5.162941195240894\n",
      "100\n",
      "[0.5, 0.5, 0.1, 0.1]\n",
      "tf.Tensor([[0.0242301  0.19846483 0.51811445 0.2591906 ]], shape=(1, 4), dtype=float32)\n",
      "[0.5, 0.2, 0.1, 0.1]\n",
      "tf.Tensor([[0.02706731 0.23889486 0.49268857 0.24134922]], shape=(1, 4), dtype=float32)\n",
      "[0.2, 0.2, 0.1, 0.1]\n",
      "tf.Tensor([[0.08636422 0.68908876 0.1691093  0.05543769]], shape=(1, 4), dtype=float32)\n",
      "[0.2, 0.0, 0.1, 0.1]\n",
      "tf.Tensor([[7.4152237e-01 2.5568107e-01 2.3978180e-03 3.9878106e-04]], shape=(1, 4), dtype=float32)\n",
      "[0.2, 0.1, 0.1, 0.1]\n"
     ]
    },
    {
     "name": "stderr",
     "output_type": "stream",
     "text": [
      "\r",
      " 73%|████████████████████████████████████████████████████▊                   | 22001/30000 [5:37:51<1:25:39,  1.56it/s]"
     ]
    },
    {
     "name": "stdout",
     "output_type": "stream",
     "text": [
      "tf.Tensor([[7.3566276e-01 2.6114225e-01 2.7320946e-03 4.6287637e-04]], shape=(1, 4), dtype=float32)\n"
     ]
    },
    {
     "name": "stderr",
     "output_type": "stream",
     "text": [
      " 74%|██████████████████████████████████████████████████████▌                   | 22101/30000 [5:38:30<55:48,  2.36it/s]"
     ]
    },
    {
     "name": "stdout",
     "output_type": "stream",
     "text": [
      "6.019983218063724\n",
      "100\n"
     ]
    },
    {
     "name": "stderr",
     "output_type": "stream",
     "text": [
      " 74%|█████████████████████████████████████████████████████▎                  | 22200/30000 [5:39:09<1:06:26,  1.96it/s]"
     ]
    },
    {
     "name": "stdout",
     "output_type": "stream",
     "text": [
      "5.824418331061261\n",
      "100\n",
      "[0.3, 0.2, 0.1, 0.1]\n",
      "tf.Tensor([[0.02468819 0.21909201 0.4861112  0.2701086 ]], shape=(1, 4), dtype=float32)\n",
      "[0.0, 0.2, 0.1, 0.1]\n",
      "tf.Tensor([[0.03309266 0.30241707 0.43814433 0.22634594]], shape=(1, 4), dtype=float32)\n",
      "[0.0, 0.0, 0.1, 0.1]\n",
      "tf.Tensor([[0.08549545 0.7319526  0.13357496 0.048977  ]], shape=(1, 4), dtype=float32)\n"
     ]
    },
    {
     "name": "stderr",
     "output_type": "stream",
     "text": [
      "\r",
      " 74%|█████████████████████████████████████████████████████▎                  | 22201/30000 [5:39:09<1:10:48,  1.84it/s]"
     ]
    },
    {
     "name": "stdout",
     "output_type": "stream",
     "text": [
      "[0.2, 0.0, 0.1, 0.1]\n",
      "tf.Tensor([[7.1546066e-01 2.8126606e-01 2.7892524e-03 4.8404408e-04]], shape=(1, 4), dtype=float32)\n",
      "[0.1, 0.0, 0.1, 0.1]\n",
      "tf.Tensor([[7.1104789e-01 2.8580785e-01 2.6883779e-03 4.5596351e-04]], shape=(1, 4), dtype=float32)\n"
     ]
    },
    {
     "name": "stderr",
     "output_type": "stream",
     "text": [
      " 74%|███████████████████████████████████████████████████████                   | 22301/30000 [5:39:50<55:42,  2.30it/s]"
     ]
    },
    {
     "name": "stdout",
     "output_type": "stream",
     "text": [
      "6.050676697765235\n",
      "100\n"
     ]
    },
    {
     "name": "stderr",
     "output_type": "stream",
     "text": [
      " 75%|███████████████████████████████████████████████████████▎                  | 22400/30000 [5:40:31<51:17,  2.47it/s]"
     ]
    },
    {
     "name": "stdout",
     "output_type": "stream",
     "text": [
      "5.53837308992729\n",
      "100\n",
      "[0.9, 0.5, 0.1, 0.1]\n",
      "tf.Tensor([[0.0232399  0.1991781  0.5137138  0.26386818]], shape=(1, 4), dtype=float32)\n",
      "[0.6, 0.5, 0.1, 0.1]\n",
      "tf.Tensor([[0.03179353 0.29936188 0.45307538 0.21576916]], shape=(1, 4), dtype=float32)\n",
      "[0.3, 0.5, 0.1, 0.1]\n",
      "tf.Tensor([[0.10414355 0.8124848  0.06569655 0.01767513]], shape=(1, 4), dtype=float32)\n",
      "[0.3, 0.3, 0.1, 0.1]\n",
      "tf.Tensor([[7.8368872e-01 2.1418957e-01 1.8048576e-03 3.1685951e-04]], shape=(1, 4), dtype=float32)\n",
      "[0.3, 0.2, 0.1, 0.1]\n"
     ]
    },
    {
     "name": "stderr",
     "output_type": "stream",
     "text": [
      "\r",
      " 75%|█████████████████████████████████████████████████████▊                  | 22401/30000 [5:40:32<1:00:05,  2.11it/s]"
     ]
    },
    {
     "name": "stdout",
     "output_type": "stream",
     "text": [
      "tf.Tensor([[7.7047741e-01 2.2718085e-01 2.0093638e-03 3.3240952e-04]], shape=(1, 4), dtype=float32)\n",
      "[0.2, 0.2, 0.1, 0.1]\n",
      "tf.Tensor([[7.3710150e-01 2.5957152e-01 2.7934997e-03 5.3351570e-04]], shape=(1, 4), dtype=float32)\n",
      "[0.2, 0.1, 0.1, 0.1]\n",
      "tf.Tensor([[7.4930459e-01 2.4775417e-01 2.5099230e-03 4.3138128e-04]], shape=(1, 4), dtype=float32)\n"
     ]
    },
    {
     "name": "stderr",
     "output_type": "stream",
     "text": [
      " 75%|███████████████████████████████████████████████████████▌                  | 22501/30000 [5:41:10<50:05,  2.49it/s]"
     ]
    },
    {
     "name": "stdout",
     "output_type": "stream",
     "text": [
      "6.488283648523237\n",
      "100\n"
     ]
    },
    {
     "name": "stderr",
     "output_type": "stream",
     "text": [
      " 75%|███████████████████████████████████████████████████████▋                  | 22600/30000 [5:41:48<46:45,  2.64it/s]"
     ]
    },
    {
     "name": "stdout",
     "output_type": "stream",
     "text": [
      "6.2680039944461425\n",
      "100\n",
      "[0.7, 0.5, 0.1, 0.1]\n",
      "tf.Tensor([[0.0216885  0.1840668  0.54572326 0.24852142]], shape=(1, 4), dtype=float32)\n",
      "[0.4, 0.5, 0.1, 0.1]\n",
      "tf.Tensor([[0.02712937 0.23452865 0.5082405  0.23010153]], shape=(1, 4), dtype=float32)\n",
      "[0.4, 0.2, 0.1, 0.1]\n",
      "tf.Tensor([[0.08985803 0.772374   0.1070486  0.03071937]], shape=(1, 4), dtype=float32)\n",
      "[0.2, 0.2, 0.1, 0.1]\n",
      "tf.Tensor([[7.0868748e-01 2.8835833e-01 2.5026563e-03 4.5157646e-04]], shape=(1, 4), dtype=float32)\n",
      "[0.2, 0.1, 0.1, 0.1]\n"
     ]
    },
    {
     "name": "stderr",
     "output_type": "stream",
     "text": [
      "\r",
      " 75%|███████████████████████████████████████████████████████▋                  | 22601/30000 [5:41:48<55:36,  2.22it/s]"
     ]
    },
    {
     "name": "stdout",
     "output_type": "stream",
     "text": [
      "tf.Tensor([[6.9332016e-01 3.0335948e-01 2.8329722e-03 4.8744073e-04]], shape=(1, 4), dtype=float32)\n"
     ]
    },
    {
     "name": "stderr",
     "output_type": "stream",
     "text": [
      " 76%|███████████████████████████████████████████████████████▉                  | 22701/30000 [5:42:31<48:13,  2.52it/s]"
     ]
    },
    {
     "name": "stdout",
     "output_type": "stream",
     "text": [
      "5.9036852328591145\n",
      "100\n"
     ]
    },
    {
     "name": "stderr",
     "output_type": "stream",
     "text": [
      " 76%|████████████████████████████████████████████████████████▏                 | 22801/30000 [5:43:10<57:23,  2.09it/s]"
     ]
    },
    {
     "name": "stdout",
     "output_type": "stream",
     "text": [
      "5.805397207389784\n",
      "100\n",
      "[0.3, 0.7, 0.1, 0.1]\n",
      "tf.Tensor([[0.02620879 0.21907473 0.48620835 0.2685082 ]], shape=(1, 4), dtype=float32)\n",
      "[0.3, 0.4, 0.1, 0.1]\n",
      "tf.Tensor([[0.03556844 0.31680018 0.42431632 0.2233151 ]], shape=(1, 4), dtype=float32)\n",
      "[0.3, 0.1, 0.1, 0.1]\n",
      "tf.Tensor([[0.09916303 0.79128444 0.08221228 0.0273402 ]], shape=(1, 4), dtype=float32)\n"
     ]
    },
    {
     "name": "stderr",
     "output_type": "stream",
     "text": [
      " 76%|██████████████████████████████████████████████████████▉                 | 22901/30000 [5:43:51<1:09:46,  1.70it/s]"
     ]
    },
    {
     "name": "stdout",
     "output_type": "stream",
     "text": [
      "5.397523433375688\n",
      "100\n"
     ]
    },
    {
     "name": "stderr",
     "output_type": "stream",
     "text": [
      " 77%|████████████████████████████████████████████████████████▋                 | 23000/30000 [5:44:29<36:43,  3.18it/s]"
     ]
    },
    {
     "name": "stdout",
     "output_type": "stream",
     "text": [
      "6.917895763413426\n",
      "100\n",
      "[0.2, 0.7, 0.1, 0.1]\n",
      "tf.Tensor([[0.02357705 0.19477285 0.52856326 0.25308678]], shape=(1, 4), dtype=float32)\n",
      "[0.2, 0.4, 0.1, 0.1]\n",
      "tf.Tensor([[0.02913672 0.24950172 0.48657334 0.23478828]], shape=(1, 4), dtype=float32)\n",
      "[0.2, 0.1, 0.1, 0.1]\n",
      "tf.Tensor([[0.09227231 0.7512875  0.11871667 0.03772348]], shape=(1, 4), dtype=float32)\n"
     ]
    },
    {
     "name": "stderr",
     "output_type": "stream",
     "text": [
      "\r",
      " 77%|████████████████████████████████████████████████████████▋                 | 23001/30000 [5:44:29<39:44,  2.93it/s]"
     ]
    },
    {
     "name": "stdout",
     "output_type": "stream",
     "text": [
      "[0.0, 0.1, 0.1, 0.1]\n",
      "tf.Tensor([[7.3356450e-01 2.6363853e-01 2.3861569e-03 4.1078951e-04]], shape=(1, 4), dtype=float32)\n"
     ]
    },
    {
     "name": "stderr",
     "output_type": "stream",
     "text": [
      " 77%|████████████████████████████████████████████████████████▉                 | 23101/30000 [5:45:09<51:51,  2.22it/s]"
     ]
    },
    {
     "name": "stdout",
     "output_type": "stream",
     "text": [
      "5.909375073622995\n",
      "100\n"
     ]
    },
    {
     "name": "stderr",
     "output_type": "stream",
     "text": [
      " 77%|█████████████████████████████████████████████████████████▏                | 23201/30000 [5:45:48<44:10,  2.57it/s]"
     ]
    },
    {
     "name": "stdout",
     "output_type": "stream",
     "text": [
      "6.378248745399451\n",
      "100\n",
      "[0.1, 0.2, 0.5, 0.7]\n",
      "tf.Tensor([[0.02191865 0.19555315 0.504182   0.27834624]], shape=(1, 4), dtype=float32)\n",
      "[0.1, 0.5, 0.5, 0.7]\n",
      "tf.Tensor([[0.02587491 0.24000394 0.4566547  0.2774664 ]], shape=(1, 4), dtype=float32)\n",
      "[0.4, 0.5, 0.5, 0.7]\n",
      "tf.Tensor([[0.08295079 0.7898681  0.09207441 0.0351067 ]], shape=(1, 4), dtype=float32)\n",
      "[0.4, 0.7, 0.5, 0.7]\n",
      "tf.Tensor([[7.6296031e-01 2.3529629e-01 1.4947206e-03 2.4866150e-04]], shape=(1, 4), dtype=float32)\n"
     ]
    },
    {
     "name": "stderr",
     "output_type": "stream",
     "text": [
      " 78%|█████████████████████████████████████████████████████████▍                | 23301/30000 [5:46:26<37:19,  2.99it/s]"
     ]
    },
    {
     "name": "stdout",
     "output_type": "stream",
     "text": [
      "6.550105920452412\n",
      "100\n"
     ]
    },
    {
     "name": "stderr",
     "output_type": "stream",
     "text": [
      " 78%|█████████████████████████████████████████████████████████▋                | 23400/30000 [5:47:06<46:42,  2.36it/s]"
     ]
    },
    {
     "name": "stdout",
     "output_type": "stream",
     "text": [
      "5.94777001523334\n",
      "100\n",
      "[0.7, 0.8, 0.6, 0.2]\n",
      "tf.Tensor([[0.02255044 0.18238923 0.5321268  0.26293352]], shape=(1, 4), dtype=float32)\n",
      "[0.7, 0.5, 0.6, 0.2]\n",
      "tf.Tensor([[0.02673935 0.21831203 0.49584126 0.25910738]], shape=(1, 4), dtype=float32)\n",
      "[0.7, 0.2, 0.6, 0.2]\n",
      "tf.Tensor([[0.10391703 0.79430145 0.07805322 0.02372839]], shape=(1, 4), dtype=float32)\n",
      "[0.5, 0.2, 0.6, 0.2]\n"
     ]
    },
    {
     "name": "stderr",
     "output_type": "stream",
     "text": [
      "\r",
      " 78%|█████████████████████████████████████████████████████████▋                | 23401/30000 [5:47:07<49:57,  2.20it/s]"
     ]
    },
    {
     "name": "stdout",
     "output_type": "stream",
     "text": [
      "tf.Tensor([[8.2594144e-01 1.7253114e-01 1.3235696e-03 2.0382775e-04]], shape=(1, 4), dtype=float32)\n"
     ]
    },
    {
     "name": "stderr",
     "output_type": "stream",
     "text": [
      " 78%|█████████████████████████████████████████████████████████▉                | 23501/30000 [5:47:46<46:56,  2.31it/s]"
     ]
    },
    {
     "name": "stdout",
     "output_type": "stream",
     "text": [
      "6.1601660720858975\n",
      "100\n"
     ]
    },
    {
     "name": "stderr",
     "output_type": "stream",
     "text": [
      " 79%|██████████████████████████████████████████████████████████▏               | 23600/30000 [5:48:26<42:25,  2.51it/s]"
     ]
    },
    {
     "name": "stdout",
     "output_type": "stream",
     "text": [
      "5.859076427071529\n",
      "100\n",
      "[0.1, 0.8, 0.1, 0.1]\n",
      "tf.Tensor([[0.01917925 0.15122648 0.5879868  0.24160744]], shape=(1, 4), dtype=float32)\n",
      "[0.1, 0.5, 0.1, 0.1]\n",
      "tf.Tensor([[0.02177883 0.17113872 0.5653129  0.24176955]], shape=(1, 4), dtype=float32)\n",
      "[0.1, 0.2, 0.1, 0.1]\n",
      "tf.Tensor([[0.06097127 0.47435546 0.3366889  0.12798436]], shape=(1, 4), dtype=float32)"
     ]
    },
    {
     "name": "stderr",
     "output_type": "stream",
     "text": [
      "\r",
      " 79%|██████████████████████████████████████████████████████████▏               | 23601/30000 [5:48:27<51:20,  2.08it/s]"
     ]
    },
    {
     "name": "stdout",
     "output_type": "stream",
     "text": [
      "\n",
      "[0.1, 0.0, 0.1, 0.1]\n",
      "tf.Tensor([[7.4602705e-01 2.5104108e-01 2.5107425e-03 4.2110652e-04]], shape=(1, 4), dtype=float32)\n"
     ]
    },
    {
     "name": "stderr",
     "output_type": "stream",
     "text": [
      " 79%|██████████████████████████████████████████████████████████▍               | 23701/30000 [5:49:07<47:55,  2.19it/s]"
     ]
    },
    {
     "name": "stdout",
     "output_type": "stream",
     "text": [
      "6.142310763963025\n",
      "100\n"
     ]
    },
    {
     "name": "stderr",
     "output_type": "stream",
     "text": [
      " 79%|██████████████████████████████████████████████████████████▋               | 23800/30000 [5:49:46<41:27,  2.49it/s]"
     ]
    },
    {
     "name": "stdout",
     "output_type": "stream",
     "text": [
      "6.000550719650799\n",
      "100\n",
      "[0.1, 0.8, 0.7, 0.4]\n",
      "tf.Tensor([[0.01751055 0.1472692  0.60615015 0.22907008]], shape=(1, 4), dtype=float32)\n",
      "[0.4, 0.8, 0.7, 0.4]\n",
      "tf.Tensor([[0.02019219 0.16667885 0.5868977  0.22623129]], shape=(1, 4), dtype=float32)\n"
     ]
    },
    {
     "name": "stderr",
     "output_type": "stream",
     "text": [
      " 79%|██████████████████████████████████████████████████████████▋               | 23802/30000 [5:49:47<38:09,  2.71it/s]"
     ]
    },
    {
     "name": "stdout",
     "output_type": "stream",
     "text": [
      "[0.4, 0.5, 0.7, 0.4]\n",
      "tf.Tensor([[0.07580623 0.6834796  0.18784824 0.05286592]], shape=(1, 4), dtype=float32)\n",
      "[0.6, 0.5, 0.7, 0.4]\n",
      "tf.Tensor([[7.2267997e-01 2.7470282e-01 2.2576705e-03 3.5952879e-04]], shape=(1, 4), dtype=float32)\n",
      "[0.6, 0.4, 0.7, 0.4]\n",
      "tf.Tensor([[7.4117458e-01 2.5647190e-01 2.0439723e-03 3.0956505e-04]], shape=(1, 4), dtype=float32)\n"
     ]
    },
    {
     "name": "stderr",
     "output_type": "stream",
     "text": [
      " 80%|██████████████████████████████████████████████████████████▉               | 23901/30000 [5:50:23<43:26,  2.34it/s]"
     ]
    },
    {
     "name": "stdout",
     "output_type": "stream",
     "text": [
      "6.7190774916794656\n",
      "100\n"
     ]
    },
    {
     "name": "stderr",
     "output_type": "stream",
     "text": [
      " 80%|███████████████████████████████████████████████████████████▏              | 24000/30000 [5:51:01<36:45,  2.72it/s]"
     ]
    },
    {
     "name": "stdout",
     "output_type": "stream",
     "text": [
      "6.177973272093294\n",
      "100\n",
      "[0.5, 0.0, 0.7, 0.4]\n",
      "tf.Tensor([[0.0162592  0.13330773 0.6202822  0.23015092]], shape=(1, 4), dtype=float32)\n",
      "[0.5, 0.3, 0.7, 0.4]\n",
      "tf.Tensor([[0.01892051 0.15760927 0.5862759  0.23719433]], shape=(1, 4), dtype=float32)\n",
      "[0.8, 0.3, 0.7, 0.4]\n",
      "tf.Tensor([[0.06802823 0.6042478  0.25358933 0.07413458]], shape=(1, 4), dtype=float32)\n",
      "[0.6, 0.3, 0.7, 0.4]\n"
     ]
    },
    {
     "name": "stderr",
     "output_type": "stream",
     "text": [
      " 80%|███████████████████████████████████████████████████████████▏              | 24002/30000 [5:51:02<36:44,  2.72it/s]"
     ]
    },
    {
     "name": "stdout",
     "output_type": "stream",
     "text": [
      "tf.Tensor([[7.7772528e-01 2.2024003e-01 1.7926923e-03 2.4197079e-04]], shape=(1, 4), dtype=float32)\n",
      "[0.7, 0.3, 0.7, 0.4]\n",
      "tf.Tensor([[8.1122756e-01 1.8740876e-01 1.2141508e-03 1.4953819e-04]], shape=(1, 4), dtype=float32)\n"
     ]
    },
    {
     "name": "stderr",
     "output_type": "stream",
     "text": [
      " 80%|███████████████████████████████████████████████████████████▍              | 24101/30000 [5:51:43<31:29,  3.12it/s]"
     ]
    },
    {
     "name": "stdout",
     "output_type": "stream",
     "text": [
      "6.113311555891583\n",
      "100\n"
     ]
    },
    {
     "name": "stderr",
     "output_type": "stream",
     "text": [
      " 81%|███████████████████████████████████████████████████████████▋              | 24201/30000 [5:52:24<42:15,  2.29it/s]"
     ]
    },
    {
     "name": "stdout",
     "output_type": "stream",
     "text": [
      "6.19300554761459\n",
      "100\n",
      "[0.5, 0.4, 0.6, 0.2]\n",
      "tf.Tensor([[0.0184853  0.14148979 0.602631   0.23739399]], shape=(1, 4), dtype=float32)\n",
      "[0.5, 0.1, 0.6, 0.2]\n",
      "tf.Tensor([[0.0198358  0.15874815 0.58540046 0.23601556]], shape=(1, 4), dtype=float32)\n",
      "[0.8, 0.1, 0.6, 0.2]\n",
      "tf.Tensor([[0.08099507 0.6494263  0.2127357  0.05684302]], shape=(1, 4), dtype=float32)\n",
      "[0.6, 0.1, 0.6, 0.2]\n",
      "tf.Tensor([[8.5377747e-01 1.4496733e-01 1.1230352e-03 1.3213970e-04]], shape=(1, 4), dtype=float32)\n"
     ]
    },
    {
     "name": "stderr",
     "output_type": "stream",
     "text": [
      " 81%|███████████████████████████████████████████████████████████▉              | 24301/30000 [5:53:03<41:55,  2.27it/s]"
     ]
    },
    {
     "name": "stdout",
     "output_type": "stream",
     "text": [
      "5.951575417722945\n",
      "100\n"
     ]
    },
    {
     "name": "stderr",
     "output_type": "stream",
     "text": [
      " 81%|████████████████████████████████████████████████████████████▏             | 24400/30000 [5:53:44<40:46,  2.29it/s]"
     ]
    },
    {
     "name": "stdout",
     "output_type": "stream",
     "text": [
      "5.8214457619387066\n",
      "100\n",
      "[0.8, 0.0, 0.7, 0.1]\n",
      "tf.Tensor([[0.01470815 0.12346603 0.6529457  0.20888019]], shape=(1, 4), dtype=float32)\n",
      "[0.5, 0.0, 0.7, 0.1]\n",
      "tf.Tensor([[0.01723566 0.1447088  0.6268213  0.21123432]], shape=(1, 4), dtype=float32)\n",
      "[0.8, 0.0, 0.7, 0.1]\n",
      "tf.Tensor([[0.08798228 0.7334263  0.1488801  0.02971128]], shape=(1, 4), dtype=float32)\n",
      "[0.6, 0.0, 0.7, 0.1]\n",
      "tf.Tensor([[8.71614754e-01 1.27181083e-01 1.08763261e-03 1.16527415e-04]], shape=(1, 4), dtype=float32)\n",
      "[0.7, 0.0, 0.7, 0.1]\n"
     ]
    },
    {
     "name": "stderr",
     "output_type": "stream",
     "text": [
      "\r",
      " 81%|████████████████████████████████████████████████████████████▏             | 24401/30000 [5:53:44<45:43,  2.04it/s]"
     ]
    },
    {
     "name": "stdout",
     "output_type": "stream",
     "text": [
      "tf.Tensor([[8.89015615e-01 1.10113434e-01 7.91228376e-04 7.97273242e-05]], shape=(1, 4), dtype=float32)\n"
     ]
    },
    {
     "name": "stderr",
     "output_type": "stream",
     "text": [
      " 82%|████████████████████████████████████████████████████████████▍             | 24501/30000 [5:54:25<42:03,  2.18it/s]"
     ]
    },
    {
     "name": "stdout",
     "output_type": "stream",
     "text": [
      "5.702256468331882\n",
      "100\n"
     ]
    },
    {
     "name": "stderr",
     "output_type": "stream",
     "text": [
      " 82%|████████████████████████████████████████████████████████████▋             | 24600/30000 [5:55:05<43:17,  2.08it/s]"
     ]
    },
    {
     "name": "stdout",
     "output_type": "stream",
     "text": [
      "5.30244546853817\n",
      "100\n",
      "[0.6, 0.0, 0.5, 0.7]\n",
      "tf.Tensor([[0.01461663 0.12179182 0.6386183  0.22497329]], shape=(1, 4), dtype=float32)\n",
      "[0.6, 0.3, 0.5, 0.7]\n",
      "tf.Tensor([[0.01607866 0.1362652  0.6226375  0.22501868]], shape=(1, 4), dtype=float32)\n",
      "[0.6, 0.6, 0.5, 0.7]\n",
      "tf.Tensor([[0.0773067  0.68465006 0.1911314  0.04691176]], shape=(1, 4), dtype=float32)\n",
      "[0.4, 0.6, 0.5, 0.7]\n",
      "tf.Tensor([[8.7398624e-01 1.2495416e-01 9.5424213e-04 1.0533029e-04]], shape=(1, 4), dtype=float32)"
     ]
    },
    {
     "name": "stderr",
     "output_type": "stream",
     "text": [
      "\r",
      " 82%|████████████████████████████████████████████████████████████▋             | 24601/30000 [5:55:06<50:57,  1.77it/s]"
     ]
    },
    {
     "name": "stdout",
     "output_type": "stream",
     "text": [
      "\n",
      "[0.5, 0.6, 0.5, 0.7]\n",
      "tf.Tensor([[8.8378251e-01 1.1541552e-01 7.2769576e-04 7.4257317e-05]], shape=(1, 4), dtype=float32)\n"
     ]
    },
    {
     "name": "stderr",
     "output_type": "stream",
     "text": [
      " 82%|████████████████████████████████████████████████████████████▉             | 24701/30000 [5:55:44<36:32,  2.42it/s]"
     ]
    },
    {
     "name": "stdout",
     "output_type": "stream",
     "text": [
      "6.283801801434291\n",
      "100\n"
     ]
    },
    {
     "name": "stderr",
     "output_type": "stream",
     "text": [
      " 83%|█████████████████████████████████████████████████████████████▏            | 24801/30000 [5:56:21<35:53,  2.41it/s]"
     ]
    },
    {
     "name": "stdout",
     "output_type": "stream",
     "text": [
      "6.2991736940867185\n",
      "100\n",
      "[0.6, 0.1, 0.5, 0.7]\n",
      "tf.Tensor([[0.01474551 0.12049206 0.6424991  0.22226335]], shape=(1, 4), dtype=float32)\n",
      "[0.6, 0.4, 0.5, 0.7]\n",
      "tf.Tensor([[0.01640281 0.13763915 0.62290156 0.22305651]], shape=(1, 4), dtype=float32)\n",
      "[0.6, 0.7, 0.5, 0.7]\n",
      "tf.Tensor([[0.08246627 0.7475897  0.13771977 0.03222429]], shape=(1, 4), dtype=float32)\n",
      "[0.4, 0.7, 0.5, 0.7]\n",
      "tf.Tensor([[8.5571069e-01 1.4321291e-01 9.6575089e-04 1.1063162e-04]], shape=(1, 4), dtype=float32)\n"
     ]
    },
    {
     "name": "stderr",
     "output_type": "stream",
     "text": [
      " 83%|█████████████████████████████████████████████████████████████▍            | 24901/30000 [5:57:00<31:26,  2.70it/s]"
     ]
    },
    {
     "name": "stdout",
     "output_type": "stream",
     "text": [
      "6.57925915211959\n",
      "100\n"
     ]
    },
    {
     "name": "stderr",
     "output_type": "stream",
     "text": [
      " 83%|█████████████████████████████████████████████████████████████▋            | 25000/30000 [5:57:39<41:22,  2.01it/s]"
     ]
    },
    {
     "name": "stdout",
     "output_type": "stream",
     "text": [
      "5.6385154891555045\n",
      "100\n",
      "[0.2, 0.1, 0.6, 0.2]\n",
      "tf.Tensor([[0.01786658 0.14664944 0.58998257 0.24550137]], shape=(1, 4), dtype=float32)\n",
      "[0.5, 0.1, 0.6, 0.2]\n",
      "tf.Tensor([[0.02122815 0.18330906 0.5628241  0.23263878]], shape=(1, 4), dtype=float32)\n",
      "[0.8, 0.1, 0.6, 0.2]\n",
      "tf.Tensor([[0.09871556 0.80824125 0.07720439 0.01583879]], shape=(1, 4), dtype=float32)\n",
      "[0.6, 0.1, 0.6, 0.2]\n"
     ]
    },
    {
     "name": "stderr",
     "output_type": "stream",
     "text": [
      "\r",
      " 83%|█████████████████████████████████████████████████████████████▋            | 25001/30000 [5:57:40<46:16,  1.80it/s]"
     ]
    },
    {
     "name": "stdout",
     "output_type": "stream",
     "text": [
      "tf.Tensor([[8.7200248e-01 1.2722026e-01 7.0368935e-04 7.3573166e-05]], shape=(1, 4), dtype=float32)\n"
     ]
    },
    {
     "name": "stderr",
     "output_type": "stream",
     "text": [
      " 84%|█████████████████████████████████████████████████████████████▉            | 25101/30000 [5:58:16<36:32,  2.23it/s]"
     ]
    },
    {
     "name": "stdout",
     "output_type": "stream",
     "text": [
      "6.423958755422921\n",
      "100\n"
     ]
    },
    {
     "name": "stderr",
     "output_type": "stream",
     "text": [
      " 84%|██████████████████████████████████████████████████████████████▏           | 25201/30000 [5:58:54<38:47,  2.06it/s]"
     ]
    },
    {
     "name": "stdout",
     "output_type": "stream",
     "text": [
      "6.089039270450867\n",
      "100\n",
      "[0.4, 0.7, 0.7, 0.4]\n",
      "tf.Tensor([[0.01658682 0.13585116 0.6067515  0.2408105 ]], shape=(1, 4), dtype=float32)\n",
      "[0.7, 0.7, 0.7, 0.4]\n",
      "tf.Tensor([[0.02005749 0.16670758 0.5800418  0.23319307]], shape=(1, 4), dtype=float32)\n"
     ]
    },
    {
     "name": "stderr",
     "output_type": "stream",
     "text": [
      " 84%|██████████████████████████████████████████████████████████████▍           | 25301/30000 [5:59:29<31:22,  2.50it/s]"
     ]
    },
    {
     "name": "stdout",
     "output_type": "stream",
     "text": [
      "6.671174412922244\n",
      "100\n"
     ]
    },
    {
     "name": "stderr",
     "output_type": "stream",
     "text": [
      " 85%|██████████████████████████████████████████████████████████████▋           | 25401/30000 [6:00:07<38:22,  2.00it/s]"
     ]
    },
    {
     "name": "stdout",
     "output_type": "stream",
     "text": [
      "6.124731472417316\n",
      "100\n",
      "[0.7, 0.0, 0.7, 0.4]\n",
      "tf.Tensor([[0.01384286 0.11660498 0.64419824 0.22535388]], shape=(1, 4), dtype=float32)\n",
      "[0.7, 0.3, 0.7, 0.4]\n",
      "tf.Tensor([[0.01471404 0.12667322 0.63435173 0.22426105]], shape=(1, 4), dtype=float32)\n",
      "[0.7, 0.6, 0.7, 0.4]\n",
      "tf.Tensor([[0.06228383 0.57775646 0.28587142 0.07408833]], shape=(1, 4), dtype=float32)\n"
     ]
    },
    {
     "name": "stderr",
     "output_type": "stream",
     "text": [
      " 85%|██████████████████████████████████████████████████████████████▉           | 25501/30000 [6:00:46<26:36,  2.82it/s]"
     ]
    },
    {
     "name": "stdout",
     "output_type": "stream",
     "text": [
      "6.6934783293609685\n",
      "100\n"
     ]
    },
    {
     "name": "stderr",
     "output_type": "stream",
     "text": [
      " 85%|███████████████████████████████████████████████████████████████▏          | 25600/30000 [6:01:24<26:33,  2.76it/s]"
     ]
    },
    {
     "name": "stdout",
     "output_type": "stream",
     "text": [
      "6.575213324886783\n",
      "100\n",
      "[0.2, 0.7, 0.1, 0.1]\n",
      "tf.Tensor([[0.01548549 0.13649121 0.6024264  0.24559689]], shape=(1, 4), dtype=float32)\n",
      "[0.2, 0.4, 0.1, 0.1]\n",
      "tf.Tensor([[0.01800486 0.16242445 0.5814414  0.23812926]], shape=(1, 4), dtype=float32)\n",
      "[0.2, 0.1, 0.1, 0.1]\n",
      "tf.Tensor([[0.0743249  0.6988111  0.18468279 0.04218116]], shape=(1, 4), dtype=float32)\n",
      "[0.0, 0.1, 0.1, 0.1]\n"
     ]
    },
    {
     "name": "stderr",
     "output_type": "stream",
     "text": [
      "\r",
      " 85%|███████████████████████████████████████████████████████████████▏          | 25601/30000 [6:01:25<31:52,  2.30it/s]"
     ]
    },
    {
     "name": "stdout",
     "output_type": "stream",
     "text": [
      "tf.Tensor([[8.3401906e-01 1.6441301e-01 1.4247680e-03 1.4310157e-04]], shape=(1, 4), dtype=float32)\n"
     ]
    },
    {
     "name": "stderr",
     "output_type": "stream",
     "text": [
      " 86%|███████████████████████████████████████████████████████████████▍          | 25701/30000 [6:02:02<23:46,  3.01it/s]"
     ]
    },
    {
     "name": "stdout",
     "output_type": "stream",
     "text": [
      "6.521735260308779\n",
      "100\n"
     ]
    },
    {
     "name": "stderr",
     "output_type": "stream",
     "text": [
      " 86%|███████████████████████████████████████████████████████████████▋          | 25800/30000 [6:02:40<23:24,  2.99it/s]"
     ]
    },
    {
     "name": "stdout",
     "output_type": "stream",
     "text": [
      "6.350806329777113\n",
      "100\n",
      "[0.0, 0.5, 0.2, 0.9]\n",
      "tf.Tensor([[0.01279126 0.11716921 0.63970953 0.23032998]], shape=(1, 4), dtype=float32)\n",
      "[0.0, 0.8, 0.2, 0.9]\n",
      "tf.Tensor([[0.01459146 0.13956615 0.61079067 0.23505168]], shape=(1, 4), dtype=float32)\n",
      "[0.3, 0.8, 0.2, 0.9]\n",
      "tf.Tensor([[0.06899852 0.71736157 0.17676955 0.03687038]], shape=(1, 4), dtype=float32)\n",
      "[0.1, 0.8, 0.2, 0.9]\n",
      "tf.Tensor([[8.8435924e-01 1.1467058e-01 8.9300022e-04 7.7227771e-05]], shape=(1, 4), dtype=float32)\n",
      "[0.2, 0.8, 0.2, 0.9]\n"
     ]
    },
    {
     "name": "stderr",
     "output_type": "stream",
     "text": [
      "\r",
      " 86%|███████████████████████████████████████████████████████████████▋          | 25801/30000 [6:02:41<29:09,  2.40it/s]"
     ]
    },
    {
     "name": "stdout",
     "output_type": "stream",
     "text": [
      "tf.Tensor([[8.9775902e-01 1.0153247e-01 6.5670110e-04 5.1776711e-05]], shape=(1, 4), dtype=float32)\n"
     ]
    },
    {
     "name": "stderr",
     "output_type": "stream",
     "text": [
      " 86%|███████████████████████████████████████████████████████████████▉          | 25900/30000 [6:03:15<24:55,  2.74it/s]"
     ]
    },
    {
     "name": "stdout",
     "output_type": "stream",
     "text": [
      "6.538899337124555\n",
      "100\n"
     ]
    },
    {
     "name": "stderr",
     "output_type": "stream",
     "text": [
      " 87%|████████████████████████████████████████████████████████████████▏         | 26001/30000 [6:03:57<26:52,  2.48it/s]"
     ]
    },
    {
     "name": "stdout",
     "output_type": "stream",
     "text": [
      "6.47583873361439\n",
      "100\n",
      "[0.9, 0.8, 0.7, 0.1]\n",
      "tf.Tensor([[0.0127396  0.11467096 0.6307934  0.24179599]], shape=(1, 4), dtype=float32)\n",
      "[0.9, 0.5, 0.7, 0.1]\n",
      "tf.Tensor([[0.01465916 0.13490602 0.61057043 0.2398644 ]], shape=(1, 4), dtype=float32)\n",
      "[0.9, 0.2, 0.7, 0.1]\n",
      "tf.Tensor([[0.08376342 0.77996427 0.11496345 0.02130875]], shape=(1, 4), dtype=float32)\n",
      "[0.7, 0.2, 0.7, 0.1]\n",
      "tf.Tensor([[8.9933294e-01 9.9713944e-02 8.6767186e-04 8.5408181e-05]], shape=(1, 4), dtype=float32)\n"
     ]
    },
    {
     "name": "stderr",
     "output_type": "stream",
     "text": [
      " 87%|████████████████████████████████████████████████████████████████▍         | 26101/30000 [6:04:34<28:11,  2.31it/s]"
     ]
    },
    {
     "name": "stdout",
     "output_type": "stream",
     "text": [
      "6.303384735432615\n",
      "100\n"
     ]
    },
    {
     "name": "stderr",
     "output_type": "stream",
     "text": [
      " 87%|████████████████████████████████████████████████████████████████▋         | 26200/30000 [6:05:11<24:50,  2.55it/s]"
     ]
    },
    {
     "name": "stdout",
     "output_type": "stream",
     "text": [
      "5.986045974067135\n",
      "100\n",
      "[0.6, 0.9, 0.7, 0.4]\n",
      "tf.Tensor([[0.01245438 0.11944042 0.63733006 0.23077513]], shape=(1, 4), dtype=float32)\n",
      "[0.6, 0.6, 0.7, 0.4]\n",
      "tf.Tensor([[0.01435109 0.139883   0.61659014 0.22917575]], shape=(1, 4), dtype=float32)\n",
      "[0.6, 0.3, 0.7, 0.4]\n",
      "tf.Tensor([[0.07922409 0.77066576 0.12754127 0.02256892]], shape=(1, 4), dtype=float32)\n",
      "[0.8, 0.3, 0.7, 0.4]\n"
     ]
    },
    {
     "name": "stderr",
     "output_type": "stream",
     "text": [
      "\r",
      " 87%|████████████████████████████████████████████████████████████████▋         | 26201/30000 [6:05:12<29:09,  2.17it/s]"
     ]
    },
    {
     "name": "stdout",
     "output_type": "stream",
     "text": [
      "tf.Tensor([[9.0290850e-01 9.6277885e-02 7.5156626e-04 6.2003994e-05]], shape=(1, 4), dtype=float32)\n",
      "[0.7, 0.3, 0.7, 0.4]\n",
      "tf.Tensor([[9.1773897e-01 8.1654884e-02 5.6192325e-04 4.4156932e-05]], shape=(1, 4), dtype=float32)\n"
     ]
    },
    {
     "name": "stderr",
     "output_type": "stream",
     "text": [
      " 88%|████████████████████████████████████████████████████████████████▊         | 26300/30000 [6:05:49<23:51,  2.58it/s]"
     ]
    },
    {
     "name": "stdout",
     "output_type": "stream",
     "text": [
      "6.526926779507379\n",
      "100\n"
     ]
    },
    {
     "name": "stderr",
     "output_type": "stream",
     "text": [
      " 88%|█████████████████████████████████████████████████████████████████         | 26401/30000 [6:06:28<24:03,  2.49it/s]"
     ]
    },
    {
     "name": "stdout",
     "output_type": "stream",
     "text": [
      "6.437626841912424\n",
      "100\n",
      "[0.2, 0.3, 0.7, 0.1]\n",
      "tf.Tensor([[0.00970609 0.10395062 0.6879293  0.19841401]], shape=(1, 4), dtype=float32)\n",
      "[0.5, 0.3, 0.7, 0.1]\n",
      "tf.Tensor([[0.01089785 0.1195755  0.6713437  0.198183  ]], shape=(1, 4), dtype=float32)\n",
      "[0.8, 0.3, 0.7, 0.1]\n",
      "tf.Tensor([[0.07031231 0.7641202  0.14436653 0.02120094]], shape=(1, 4), dtype=float32)\n",
      "[0.8, 0.1, 0.7, 0.1]\n",
      "tf.Tensor([[8.93547773e-01 1.05638675e-01 7.53441767e-04 5.99972191e-05]], shape=(1, 4), dtype=float32)\n"
     ]
    },
    {
     "name": "stderr",
     "output_type": "stream",
     "text": [
      " 88%|█████████████████████████████████████████████████████████████████▎        | 26501/30000 [6:07:06<23:41,  2.46it/s]"
     ]
    },
    {
     "name": "stdout",
     "output_type": "stream",
     "text": [
      "6.452634266608408\n",
      "100\n"
     ]
    },
    {
     "name": "stderr",
     "output_type": "stream",
     "text": [
      " 89%|█████████████████████████████████████████████████████████████████▌        | 26600/30000 [6:07:44<23:38,  2.40it/s]"
     ]
    },
    {
     "name": "stdout",
     "output_type": "stream",
     "text": [
      "5.934962939999742\n",
      "100\n",
      "[0.5, 0.3, 0.1, 0.1]\n",
      "tf.Tensor([[0.00782555 0.0848578  0.73663646 0.1706802 ]], shape=(1, 4), dtype=float32)\n",
      "[0.2, 0.3, 0.1, 0.1]\n"
     ]
    },
    {
     "name": "stderr",
     "output_type": "stream",
     "text": [
      "\r",
      " 89%|█████████████████████████████████████████████████████████████████▌        | 26601/30000 [6:07:44<28:38,  1.98it/s]"
     ]
    },
    {
     "name": "stdout",
     "output_type": "stream",
     "text": [
      "tf.Tensor([[0.00948746 0.09994569 0.7152273  0.17533955]], shape=(1, 4), dtype=float32)\n",
      "[0.2, 0.0, 0.1, 0.1]\n",
      "tf.Tensor([[0.03995555 0.49030817 0.4029932  0.06674316]], shape=(1, 4), dtype=float32)\n",
      "[0.2, 0.2, 0.1, 0.1]\n",
      "tf.Tensor([[8.8488901e-01 1.1403287e-01 1.0002559e-03 7.7815959e-05]], shape=(1, 4), dtype=float32)\n",
      "[0.1, 0.2, 0.1, 0.1]\n",
      "tf.Tensor([[8.5787278e-01 1.4051928e-01 1.4720894e-03 1.3587964e-04]], shape=(1, 4), dtype=float32)\n"
     ]
    },
    {
     "name": "stderr",
     "output_type": "stream",
     "text": [
      " 89%|█████████████████████████████████████████████████████████████████▊        | 26701/30000 [6:08:25<23:04,  2.38it/s]"
     ]
    },
    {
     "name": "stdout",
     "output_type": "stream",
     "text": [
      "6.097017040392157\n",
      "100\n"
     ]
    },
    {
     "name": "stderr",
     "output_type": "stream",
     "text": [
      " 89%|██████████████████████████████████████████████████████████████████        | 26801/30000 [6:09:03<24:11,  2.20it/s]"
     ]
    },
    {
     "name": "stdout",
     "output_type": "stream",
     "text": [
      "5.841506035566608\n",
      "100\n",
      "[0.6, 0.5, 0.6, 0.2]\n",
      "tf.Tensor([[0.00861061 0.09170974 0.71325505 0.18642466]], shape=(1, 4), dtype=float32)\n"
     ]
    },
    {
     "name": "stderr",
     "output_type": "stream",
     "text": [
      " 90%|██████████████████████████████████████████████████████████████████▎       | 26901/30000 [6:09:40<22:35,  2.29it/s]"
     ]
    },
    {
     "name": "stdout",
     "output_type": "stream",
     "text": [
      "6.298490975439901\n",
      "100\n"
     ]
    },
    {
     "name": "stderr",
     "output_type": "stream",
     "text": [
      " 90%|██████████████████████████████████████████████████████████████████▌       | 27000/30000 [6:10:18<19:51,  2.52it/s]"
     ]
    },
    {
     "name": "stdout",
     "output_type": "stream",
     "text": [
      "6.460597022770299\n",
      "100\n",
      "[0.5, 0.6, 0.1, 0.1]\n",
      "tf.Tensor([[0.00683616 0.08281996 0.74242043 0.16792342]], shape=(1, 4), dtype=float32)\n",
      "[0.5, 0.3, 0.1, 0.1]\n",
      "tf.Tensor([[0.00749773 0.09578419 0.728765   0.16795306]], shape=(1, 4), dtype=float32)\n",
      "[0.2, 0.3, 0.1, 0.1]\n",
      "tf.Tensor([[0.05940823 0.7321571  0.18627241 0.0221623 ]], shape=(1, 4), dtype=float32)\n"
     ]
    },
    {
     "name": "stderr",
     "output_type": "stream",
     "text": [
      "\r",
      " 90%|██████████████████████████████████████████████████████████████████▌       | 27001/30000 [6:10:19<23:05,  2.17it/s]"
     ]
    },
    {
     "name": "stdout",
     "output_type": "stream",
     "text": [
      "[0.2, 0.1, 0.1, 0.1]\n",
      "tf.Tensor([[9.0277481e-01 9.6383810e-02 7.8769954e-04 5.3639087e-05]], shape=(1, 4), dtype=float32)\n"
     ]
    },
    {
     "name": "stderr",
     "output_type": "stream",
     "text": [
      " 90%|██████████████████████████████████████████████████████████████████▊       | 27101/30000 [6:10:58<19:09,  2.52it/s]"
     ]
    },
    {
     "name": "stdout",
     "output_type": "stream",
     "text": [
      "6.329191366948696\n",
      "100\n"
     ]
    },
    {
     "name": "stderr",
     "output_type": "stream",
     "text": [
      " 91%|███████████████████████████████████████████████████████████████████       | 27200/30000 [6:11:34<15:33,  3.00it/s]"
     ]
    },
    {
     "name": "stdout",
     "output_type": "stream",
     "text": [
      "6.523690856723526\n",
      "100\n"
     ]
    },
    {
     "name": "stderr",
     "output_type": "stream",
     "text": [
      "\r",
      " 91%|███████████████████████████████████████████████████████████████████       | 27201/30000 [6:11:34<18:56,  2.46it/s]"
     ]
    },
    {
     "name": "stdout",
     "output_type": "stream",
     "text": [
      "[0.1, 0.4, 0.6, 0.2]\n",
      "tf.Tensor([[0.0061713  0.08186858 0.7449337  0.1670264 ]], shape=(1, 4), dtype=float32)\n",
      "[0.4, 0.4, 0.6, 0.2]\n",
      "tf.Tensor([[0.00781838 0.10399297 0.72567827 0.16251038]], shape=(1, 4), dtype=float32)\n",
      "[0.4, 0.1, 0.6, 0.2]\n",
      "tf.Tensor([[0.06725035 0.81186855 0.11043918 0.01044199]], shape=(1, 4), dtype=float32)\n",
      "[0.6, 0.1, 0.6, 0.2]\n",
      "tf.Tensor([[9.2203075e-01 7.7494897e-02 4.4901678e-04 2.5353207e-05]], shape=(1, 4), dtype=float32)\n"
     ]
    },
    {
     "name": "stderr",
     "output_type": "stream",
     "text": [
      " 91%|███████████████████████████████████████████████████████████████████▎      | 27301/30000 [6:12:13<16:54,  2.66it/s]"
     ]
    },
    {
     "name": "stdout",
     "output_type": "stream",
     "text": [
      "6.296908092058927\n",
      "100\n"
     ]
    },
    {
     "name": "stderr",
     "output_type": "stream",
     "text": [
      " 91%|███████████████████████████████████████████████████████████████████▌      | 27401/30000 [6:12:51<19:30,  2.22it/s]"
     ]
    },
    {
     "name": "stdout",
     "output_type": "stream",
     "text": [
      "6.269838439185975\n",
      "100\n",
      "[0.3, 0.5, 0.2, 0.9]\n",
      "tf.Tensor([[0.00550995 0.06899505 0.7635745  0.16192053]], shape=(1, 4), dtype=float32)\n",
      "[0.3, 0.8, 0.2, 0.9]\n",
      "tf.Tensor([[0.00626979 0.07998246 0.74565643 0.16809127]], shape=(1, 4), dtype=float32)\n",
      "[0.0, 0.8, 0.2, 0.9]\n",
      "tf.Tensor([[0.0390225  0.5666613  0.34588712 0.04842907]], shape=(1, 4), dtype=float32)\n",
      "[0.2, 0.8, 0.2, 0.9]\n",
      "tf.Tensor([[9.1811287e-01 8.1295237e-02 5.6075759e-04 3.1103413e-05]], shape=(1, 4), dtype=float32)\n"
     ]
    },
    {
     "name": "stderr",
     "output_type": "stream",
     "text": [
      " 92%|███████████████████████████████████████████████████████████████████▊      | 27501/30000 [6:13:31<15:14,  2.73it/s]"
     ]
    },
    {
     "name": "stdout",
     "output_type": "stream",
     "text": [
      "5.921656967624382\n",
      "100\n"
     ]
    },
    {
     "name": "stderr",
     "output_type": "stream",
     "text": [
      " 92%|████████████████████████████████████████████████████████████████████      | 27600/30000 [6:14:08<14:55,  2.68it/s]"
     ]
    },
    {
     "name": "stdout",
     "output_type": "stream",
     "text": [
      "6.296089814994636\n",
      "100\n",
      "[0.3, 0.5, 0.1, 0.1]\n",
      "tf.Tensor([[0.00567246 0.06834364 0.77271116 0.15327278]], shape=(1, 4), dtype=float32)\n",
      "[0.3, 0.2, 0.1, 0.1]\n",
      "tf.Tensor([[0.00582083 0.07298577 0.76936984 0.1518235 ]], shape=(1, 4), dtype=float32)\n",
      "[0.0, 0.2, 0.1, 0.1]\n",
      "tf.Tensor([[0.02491531 0.3150175  0.57527655 0.0847906 ]], shape=(1, 4), dtype=float32)\n",
      "[0.0, 0.0, 0.1, 0.1]\n",
      "tf.Tensor([[8.9731687e-01 1.0168848e-01 9.4249565e-04 5.2231120e-05]], shape=(1, 4), dtype=float32)\n",
      "[0.0, 0.1, 0.1, 0.1]\n"
     ]
    },
    {
     "name": "stderr",
     "output_type": "stream",
     "text": [
      "\r",
      " 92%|████████████████████████████████████████████████████████████████████      | 27601/30000 [6:14:09<17:39,  2.26it/s]"
     ]
    },
    {
     "name": "stdout",
     "output_type": "stream",
     "text": [
      "tf.Tensor([[8.7907183e-01 1.1956359e-01 1.2887347e-03 7.5860546e-05]], shape=(1, 4), dtype=float32)\n"
     ]
    },
    {
     "name": "stderr",
     "output_type": "stream",
     "text": [
      " 92%|████████████████████████████████████████████████████████████████████▎     | 27701/30000 [6:14:48<14:44,  2.60it/s]"
     ]
    },
    {
     "name": "stdout",
     "output_type": "stream",
     "text": [
      "6.092682941684715\n",
      "100\n"
     ]
    },
    {
     "name": "stderr",
     "output_type": "stream",
     "text": [
      " 93%|████████████████████████████████████████████████████████████████████▌     | 27800/30000 [6:15:27<17:31,  2.09it/s]"
     ]
    },
    {
     "name": "stdout",
     "output_type": "stream",
     "text": [
      "5.876727275219509\n",
      "100\n",
      "[0.6, 0.2, 0.7, 0.4]\n",
      "tf.Tensor([[0.00412044 0.05362986 0.80985814 0.1323915 ]], shape=(1, 4), dtype=float32)\n",
      "[0.6, 0.5, 0.7, 0.4]\n",
      "tf.Tensor([[0.00503748 0.06399163 0.79125524 0.13971564]], shape=(1, 4), dtype=float32)\n",
      "[0.6, 0.2, 0.7, 0.4]\n",
      "tf.Tensor([[0.02116037 0.31480792 0.59433585 0.06969588]], shape=(1, 4), dtype=float32)\n",
      "[0.6, 0.5, 0.7, 0.4]\n",
      "tf.Tensor([[8.8553339e-01 1.1342614e-01 9.8213332e-04 5.8342146e-05]], shape=(1, 4), dtype=float32)\n"
     ]
    },
    {
     "name": "stderr",
     "output_type": "stream",
     "text": [
      "\r",
      " 93%|████████████████████████████████████████████████████████████████████▌     | 27801/30000 [6:15:28<19:08,  1.91it/s]"
     ]
    },
    {
     "name": "stdout",
     "output_type": "stream",
     "text": [
      "[0.6, 0.4, 0.7, 0.4]\n",
      "tf.Tensor([[8.8512748e-01 1.1386294e-01 9.5613999e-04 5.3474549e-05]], shape=(1, 4), dtype=float32)\n"
     ]
    },
    {
     "name": "stderr",
     "output_type": "stream",
     "text": [
      " 93%|████████████████████████████████████████████████████████████████████▊     | 27901/30000 [6:16:06<14:34,  2.40it/s]"
     ]
    },
    {
     "name": "stdout",
     "output_type": "stream",
     "text": [
      "6.423898883884656\n",
      "100\n"
     ]
    },
    {
     "name": "stderr",
     "output_type": "stream",
     "text": [
      " 93%|█████████████████████████████████████████████████████████████████████     | 28000/30000 [6:16:47<09:23,  3.55it/s]"
     ]
    },
    {
     "name": "stdout",
     "output_type": "stream",
     "text": [
      "6.735773881123598\n",
      "100\n",
      "[0.1, 0.4, 0.6, 0.2]\n",
      "tf.Tensor([[0.00494661 0.06166337 0.7722197  0.16117026]], shape=(1, 4), dtype=float32)\n",
      "[0.4, 0.4, 0.6, 0.2]\n",
      "tf.Tensor([[0.00551656 0.0661539  0.76801646 0.16031311]], shape=(1, 4), dtype=float32)\n",
      "[0.4, 0.1, 0.6, 0.2]\n",
      "tf.Tensor([[0.01730814 0.23257995 0.6463384  0.10377351]], shape=(1, 4), dtype=float32)\n",
      "[0.7, 0.1, 0.6, 0.2]\n",
      "tf.Tensor([[8.9952505e-01 9.9561714e-02 8.7198545e-04 4.1290928e-05]], shape=(1, 4), dtype=float32)\n",
      "[0.7, 0.2, 0.6, 0.2]\n"
     ]
    },
    {
     "name": "stderr",
     "output_type": "stream",
     "text": [
      "\r",
      " 93%|█████████████████████████████████████████████████████████████████████     | 28001/30000 [6:16:47<12:01,  2.77it/s]"
     ]
    },
    {
     "name": "stdout",
     "output_type": "stream",
     "text": [
      "tf.Tensor([[9.0194964e-01 9.7036920e-02 9.6527586e-04 4.8072008e-05]], shape=(1, 4), dtype=float32)\n"
     ]
    },
    {
     "name": "stderr",
     "output_type": "stream",
     "text": [
      " 94%|█████████████████████████████████████████████████████████████████████▎    | 28101/30000 [6:17:30<15:01,  2.11it/s]"
     ]
    },
    {
     "name": "stdout",
     "output_type": "stream",
     "text": [
      "5.846286478570587\n",
      "100\n"
     ]
    },
    {
     "name": "stderr",
     "output_type": "stream",
     "text": [
      " 94%|█████████████████████████████████████████████████████████████████████▌    | 28200/30000 [6:18:16<14:42,  2.04it/s]"
     ]
    },
    {
     "name": "stdout",
     "output_type": "stream",
     "text": [
      "6.223596492784241\n",
      "100\n"
     ]
    },
    {
     "name": "stderr",
     "output_type": "stream",
     "text": [
      "\r",
      " 94%|█████████████████████████████████████████████████████████████████████▌    | 28201/30000 [6:18:17<15:56,  1.88it/s]"
     ]
    },
    {
     "name": "stdout",
     "output_type": "stream",
     "text": [
      "[0.1, 0.7, 0.7, 0.4]\n",
      "tf.Tensor([[0.00426696 0.05032635 0.79322124 0.15218553]], shape=(1, 4), dtype=float32)\n",
      "[0.4, 0.7, 0.7, 0.4]\n",
      "tf.Tensor([[0.00458371 0.05246461 0.7927257  0.15022603]], shape=(1, 4), dtype=float32)\n",
      "[0.4, 0.4, 0.7, 0.4]\n",
      "tf.Tensor([[0.00899221 0.11712783 0.7398506  0.13402934]], shape=(1, 4), dtype=float32)\n"
     ]
    },
    {
     "name": "stderr",
     "output_type": "stream",
     "text": [
      " 94%|█████████████████████████████████████████████████████████████████████▊    | 28301/30000 [6:19:02<11:21,  2.49it/s]"
     ]
    },
    {
     "name": "stdout",
     "output_type": "stream",
     "text": [
      "6.1414463785988245\n",
      "100\n"
     ]
    },
    {
     "name": "stderr",
     "output_type": "stream",
     "text": [
      " 95%|██████████████████████████████████████████████████████████████████████    | 28401/30000 [6:19:44<13:28,  1.98it/s]"
     ]
    },
    {
     "name": "stdout",
     "output_type": "stream",
     "text": [
      "5.848349788207719\n",
      "100\n",
      "[0.3, 0.9, 0.6, 0.2]\n",
      "tf.Tensor([[0.00381992 0.04482151 0.8093716  0.14198692]], shape=(1, 4), dtype=float32)\n",
      "[0.3, 0.6, 0.6, 0.2]\n",
      "tf.Tensor([[0.00412841 0.04827483 0.8052966  0.14230011]], shape=(1, 4), dtype=float32)\n",
      "[0.3, 0.3, 0.6, 0.2]\n",
      "tf.Tensor([[0.00660688 0.08690852 0.77705127 0.1294333 ]], shape=(1, 4), dtype=float32)\n",
      "[0.6, 0.3, 0.6, 0.2]\n",
      "tf.Tensor([[8.5006946e-01 1.4806335e-01 1.7649370e-03 1.0231717e-04]], shape=(1, 4), dtype=float32)\n"
     ]
    },
    {
     "name": "stderr",
     "output_type": "stream",
     "text": [
      " 95%|██████████████████████████████████████████████████████████████████████▎   | 28501/30000 [6:20:36<13:40,  1.83it/s]"
     ]
    },
    {
     "name": "stdout",
     "output_type": "stream",
     "text": [
      "5.633113094689882\n",
      "100\n"
     ]
    },
    {
     "name": "stderr",
     "output_type": "stream",
     "text": [
      " 95%|██████████████████████████████████████████████████████████████████████▌   | 28600/30000 [6:21:20<10:56,  2.13it/s]"
     ]
    },
    {
     "name": "stdout",
     "output_type": "stream",
     "text": [
      "5.51848382208106\n",
      "100\n",
      "[0.4, 0.7, 0.5, 0.7]\n",
      "tf.Tensor([[0.00336731 0.04362111 0.81008494 0.1429267 ]], shape=(1, 4), dtype=float32)\n",
      "[0.7, 0.7, 0.5, 0.7]\n",
      "tf.Tensor([[0.00330962 0.04331373 0.81470525 0.1386714 ]], shape=(1, 4), dtype=float32)\n",
      "[0.4, 0.7, 0.5, 0.7]\n",
      "tf.Tensor([[0.00610839 0.09400231 0.7807687  0.11912054]], shape=(1, 4), dtype=float32)\n",
      "[0.7, 0.7, 0.5, 0.7]\n",
      "tf.Tensor([[8.74390364e-01 1.24442615e-01 1.11612515e-03 5.08599260e-05]], shape=(1, 4), dtype=float32)\n"
     ]
    },
    {
     "name": "stderr",
     "output_type": "stream",
     "text": [
      "\r",
      " 95%|██████████████████████████████████████████████████████████████████████▌   | 28601/30000 [6:21:21<13:11,  1.77it/s]"
     ]
    },
    {
     "name": "stdout",
     "output_type": "stream",
     "text": [
      "[0.6, 0.7, 0.5, 0.7]\n",
      "tf.Tensor([[8.7232512e-01 1.2645999e-01 1.1618760e-03 5.3039479e-05]], shape=(1, 4), dtype=float32)\n"
     ]
    },
    {
     "name": "stderr",
     "output_type": "stream",
     "text": [
      " 96%|██████████████████████████████████████████████████████████████████████▊   | 28701/30000 [6:22:03<09:21,  2.31it/s]"
     ]
    },
    {
     "name": "stdout",
     "output_type": "stream",
     "text": [
      "6.078867610216856\n",
      "100\n"
     ]
    },
    {
     "name": "stderr",
     "output_type": "stream",
     "text": [
      " 96%|███████████████████████████████████████████████████████████████████████   | 28800/30000 [6:22:45<07:30,  2.66it/s]"
     ]
    },
    {
     "name": "stdout",
     "output_type": "stream",
     "text": [
      "5.99566381185443\n",
      "100\n",
      "[0.8, 0.0, 0.7, 0.1]\n",
      "tf.Tensor([[0.00348353 0.04350511 0.7976643  0.15534703]], shape=(1, 4), dtype=float32)\n",
      "[0.8, 0.3, 0.7, 0.1]\n",
      "tf.Tensor([[0.00413632 0.05014181 0.78258926 0.16313258]], shape=(1, 4), dtype=float32)\n",
      "[0.8, 0.0, 0.7, 0.1]\n",
      "tf.Tensor([[0.00521235 0.06939837 0.7875707  0.13781855]], shape=(1, 4), dtype=float32)\n",
      "[0.8, 0.3, 0.7, 0.1]\n",
      "tf.Tensor([[8.7640679e-01 1.2219774e-01 1.3223172e-03 7.3161042e-05]], shape=(1, 4), dtype=float32)\n",
      "[0.8, 0.2, 0.7, 0.1]\n"
     ]
    },
    {
     "name": "stderr",
     "output_type": "stream",
     "text": [
      "\r",
      " 96%|███████████████████████████████████████████████████████████████████████   | 28801/30000 [6:22:45<09:23,  2.13it/s]"
     ]
    },
    {
     "name": "stdout",
     "output_type": "stream",
     "text": [
      "tf.Tensor([[8.6710644e-01 1.3130243e-01 1.5042952e-03 8.6819360e-05]], shape=(1, 4), dtype=float32)\n",
      "[0.8, 0.1, 0.7, 0.1]\n",
      "tf.Tensor([[8.7327361e-01 1.2535477e-01 1.3055446e-03 6.6036497e-05]], shape=(1, 4), dtype=float32)\n"
     ]
    },
    {
     "name": "stderr",
     "output_type": "stream",
     "text": [
      " 96%|███████████████████████████████████████████████████████████████████████▎  | 28901/30000 [6:23:27<07:48,  2.35it/s]"
     ]
    },
    {
     "name": "stdout",
     "output_type": "stream",
     "text": [
      "5.909363762750247\n",
      "100\n"
     ]
    },
    {
     "name": "stderr",
     "output_type": "stream",
     "text": [
      " 97%|███████████████████████████████████████████████████████████████████████▌  | 29000/30000 [6:24:09<06:57,  2.39it/s]"
     ]
    },
    {
     "name": "stdout",
     "output_type": "stream",
     "text": [
      "5.727387219551925\n",
      "100\n",
      "[0.6, 0.5, 0.7, 0.4]\n",
      "tf.Tensor([[0.00354893 0.04222108 0.8055374  0.1486926 ]], shape=(1, 4), dtype=float32)\n",
      "[0.6, 0.2, 0.7, 0.4]\n",
      "tf.Tensor([[0.00309393 0.03858993 0.8220076  0.13630849]], shape=(1, 4), dtype=float32)\n",
      "[0.6, 0.5, 0.7, 0.4]\n",
      "tf.Tensor([[0.00551528 0.07438891 0.79968864 0.12040725]], shape=(1, 4), dtype=float32)\n",
      "[0.6, 0.2, 0.7, 0.4]\n",
      "tf.Tensor([[8.6961317e-01 1.2908696e-01 1.2434918e-03 5.6414541e-05]], shape=(1, 4), dtype=float32)\n",
      "[0.6, 0.3, 0.7, 0.4]\n"
     ]
    },
    {
     "name": "stderr",
     "output_type": "stream",
     "text": [
      "\r",
      " 97%|███████████████████████████████████████████████████████████████████████▌  | 29001/30000 [6:24:10<07:57,  2.09it/s]"
     ]
    },
    {
     "name": "stdout",
     "output_type": "stream",
     "text": [
      "tf.Tensor([[8.6013889e-01 1.3828018e-01 1.5085163e-03 7.2370662e-05]], shape=(1, 4), dtype=float32)\n",
      "[0.7, 0.3, 0.7, 0.4]\n",
      "tf.Tensor([[8.7685245e-01 1.2198557e-01 1.1130271e-03 4.8877773e-05]], shape=(1, 4), dtype=float32)\n"
     ]
    },
    {
     "name": "stderr",
     "output_type": "stream",
     "text": [
      " 97%|███████████████████████████████████████████████████████████████████████▊  | 29101/30000 [6:24:51<06:58,  2.15it/s]"
     ]
    },
    {
     "name": "stdout",
     "output_type": "stream",
     "text": [
      "6.035170098881983\n",
      "100\n"
     ]
    },
    {
     "name": "stderr",
     "output_type": "stream",
     "text": [
      " 97%|████████████████████████████████████████████████████████████████████████  | 29200/30000 [6:25:32<04:24,  3.03it/s]"
     ]
    },
    {
     "name": "stdout",
     "output_type": "stream",
     "text": [
      "5.950940837911531\n",
      "100\n",
      "[0.7, 0.2, 0.2, 0.9]\n",
      "tf.Tensor([[0.00223    0.02829427 0.85374594 0.11572971]], shape=(1, 4), dtype=float32)\n",
      "[0.7, 0.5, 0.2, 0.9]\n",
      "tf.Tensor([[0.0024557  0.03142828 0.84621596 0.11990003]], shape=(1, 4), dtype=float32)\n",
      "[0.4, 0.5, 0.2, 0.9]\n"
     ]
    },
    {
     "name": "stderr",
     "output_type": "stream",
     "text": [
      "\r",
      " 97%|████████████████████████████████████████████████████████████████████████  | 29201/30000 [6:25:33<05:34,  2.39it/s]"
     ]
    },
    {
     "name": "stdout",
     "output_type": "stream",
     "text": [
      "tf.Tensor([[0.00331936 0.04985047 0.8529627  0.0938675 ]], shape=(1, 4), dtype=float32)\n",
      "[0.4, 0.8, 0.2, 0.9]\n",
      "tf.Tensor([[8.1732088e-01 1.8090172e-01 1.7035655e-03 7.3804775e-05]], shape=(1, 4), dtype=float32)\n",
      "[0.3, 0.8, 0.2, 0.9]\n",
      "tf.Tensor([[8.0151147e-01 1.9652605e-01 1.8814919e-03 8.0964252e-05]], shape=(1, 4), dtype=float32)\n",
      "[0.2, 0.8, 0.2, 0.9]\n",
      "tf.Tensor([[8.0279040e-01 1.9546947e-01 1.6711055e-03 6.8999303e-05]], shape=(1, 4), dtype=float32)\n"
     ]
    },
    {
     "name": "stderr",
     "output_type": "stream",
     "text": [
      " 98%|████████████████████████████████████████████████████████████████████████▎ | 29301/30000 [6:26:16<06:06,  1.91it/s]"
     ]
    },
    {
     "name": "stdout",
     "output_type": "stream",
     "text": [
      "5.597561609268827\n",
      "100\n"
     ]
    },
    {
     "name": "stderr",
     "output_type": "stream",
     "text": [
      " 98%|████████████████████████████████████████████████████████████████████████▌ | 29401/30000 [6:26:55<04:17,  2.32it/s]"
     ]
    },
    {
     "name": "stdout",
     "output_type": "stream",
     "text": [
      "6.304786009376618\n",
      "100\n",
      "[0.3, 0.5, 0.6, 0.2]\n",
      "tf.Tensor([[0.00240579 0.03022821 0.85106784 0.11629821]], shape=(1, 4), dtype=float32)\n",
      "[0.3, 0.2, 0.6, 0.2]\n",
      "tf.Tensor([[0.0023308  0.03072259 0.85384613 0.11310048]], shape=(1, 4), dtype=float32)\n"
     ]
    },
    {
     "name": "stderr",
     "output_type": "stream",
     "text": [
      " 98%|████████████████████████████████████████████████████████████████████████▊ | 29501/30000 [6:27:37<03:38,  2.28it/s]"
     ]
    },
    {
     "name": "stdout",
     "output_type": "stream",
     "text": [
      "5.860176798170104\n",
      "100\n"
     ]
    },
    {
     "name": "stderr",
     "output_type": "stream",
     "text": [
      " 99%|█████████████████████████████████████████████████████████████████████████ | 29600/30000 [6:28:20<03:03,  2.18it/s]"
     ]
    },
    {
     "name": "stdout",
     "output_type": "stream",
     "text": [
      "5.376635313490908\n",
      "100\n",
      "[0.8, 0.2, 0.1, 0.1]\n",
      "tf.Tensor([[0.0021372  0.0273738  0.8526331  0.11785591]], shape=(1, 4), dtype=float32)\n",
      "[0.5, 0.2, 0.1, 0.1]\n",
      "tf.Tensor([[0.00223376 0.02871357 0.8521723  0.11688036]], shape=(1, 4), dtype=float32)\n",
      "[0.2, 0.2, 0.1, 0.1]\n"
     ]
    },
    {
     "name": "stderr",
     "output_type": "stream",
     "text": [
      "\r",
      " 99%|█████████████████████████████████████████████████████████████████████████ | 29601/30000 [6:28:21<03:56,  1.69it/s]"
     ]
    },
    {
     "name": "stdout",
     "output_type": "stream",
     "text": [
      "tf.Tensor([[0.00329263 0.04762208 0.8522892  0.09679608]], shape=(1, 4), dtype=float32)\n",
      "[0.0, 0.2, 0.1, 0.1]\n",
      "tf.Tensor([[7.6831073e-01 2.2755760e-01 3.9630192e-03 1.6865710e-04]], shape=(1, 4), dtype=float32)\n",
      "[0.0, 0.1, 0.1, 0.1]\n",
      "tf.Tensor([[7.2787851e-01 2.6712674e-01 4.7972174e-03 1.9749893e-04]], shape=(1, 4), dtype=float32)\n"
     ]
    },
    {
     "name": "stderr",
     "output_type": "stream",
     "text": [
      " 99%|█████████████████████████████████████████████████████████████████████████▎| 29701/30000 [6:29:04<02:47,  1.79it/s]"
     ]
    },
    {
     "name": "stdout",
     "output_type": "stream",
     "text": [
      "5.291423626774902\n",
      "100\n"
     ]
    },
    {
     "name": "stderr",
     "output_type": "stream",
     "text": [
      " 99%|█████████████████████████████████████████████████████████████████████████▌| 29800/30000 [6:29:47<01:34,  2.13it/s]"
     ]
    },
    {
     "name": "stdout",
     "output_type": "stream",
     "text": [
      "5.5353158171285335\n",
      "100\n",
      "[0.5, 0.9, 0.1, 0.1]\n",
      "tf.Tensor([[0.00224471 0.02767586 0.84605676 0.1240226 ]], shape=(1, 4), dtype=float32)\n",
      "[0.5, 0.6, 0.1, 0.1]\n",
      "tf.Tensor([[0.00239687 0.02961162 0.84537107 0.12262043]], shape=(1, 4), dtype=float32)\n",
      "[0.5, 0.3, 0.1, 0.1]\n"
     ]
    },
    {
     "name": "stderr",
     "output_type": "stream",
     "text": [
      "\r",
      " 99%|█████████████████████████████████████████████████████████████████████████▌| 29801/30000 [6:29:48<01:47,  1.85it/s]"
     ]
    },
    {
     "name": "stdout",
     "output_type": "stream",
     "text": [
      "tf.Tensor([[0.00357178 0.05343916 0.85059124 0.09239781]], shape=(1, 4), dtype=float32)\n",
      "[0.2, 0.3, 0.1, 0.1]\n",
      "tf.Tensor([[7.4425763e-01 2.5126782e-01 4.2911465e-03 1.8334831e-04]], shape=(1, 4), dtype=float32)\n",
      "[0.2, 0.2, 0.1, 0.1]\n",
      "tf.Tensor([[7.3877150e-01 2.5661257e-01 4.4404096e-03 1.7555486e-04]], shape=(1, 4), dtype=float32)\n",
      "[0.1, 0.2, 0.1, 0.1]\n",
      "tf.Tensor([[6.9422412e-01 2.9958943e-01 5.9252148e-03 2.6116471e-04]], shape=(1, 4), dtype=float32)\n"
     ]
    },
    {
     "name": "stderr",
     "output_type": "stream",
     "text": [
      "100%|█████████████████████████████████████████████████████████████████████████▊| 29901/30000 [6:30:31<00:43,  2.29it/s]"
     ]
    },
    {
     "name": "stdout",
     "output_type": "stream",
     "text": [
      "5.568676531110629\n",
      "100\n"
     ]
    },
    {
     "name": "stderr",
     "output_type": "stream",
     "text": [
      "100%|██████████████████████████████████████████████████████████████████████████| 30000/30000 [6:31:15<00:00,  1.28it/s]\n"
     ]
    }
   ],
   "source": [
    "agent.learn()"
   ]
  },
  {
   "cell_type": "code",
   "execution_count": 6,
   "metadata": {},
   "outputs": [
    {
     "name": "stdout",
     "output_type": "stream",
     "text": [
      "[0.6, 0.8, 0.2, 0.9]\n",
      "tf.Tensor([[0.00222562 0.02820751 0.8405395  0.12902743]], shape=(1, 4), dtype=float32)\n",
      "[0.3, 0.8, 0.2, 0.9]\n",
      "tf.Tensor([[0.00226528 0.02918461 0.84262556 0.12592454]], shape=(1, 4), dtype=float32)\n",
      "[0.0, 0.8, 0.2, 0.9]\n",
      "tf.Tensor([[0.00317042 0.05237334 0.8542315  0.0902248 ]], shape=(1, 4), dtype=float32)\n",
      "[0.3, 0.8, 0.2, 0.9]\n",
      "tf.Tensor([[6.6236001e-01 3.3305600e-01 4.4334321e-03 1.5058566e-04]], shape=(1, 4), dtype=float32)\n",
      "[0.2, 0.8, 0.2, 0.9]\n",
      "tf.Tensor([[6.6225559e-01 3.3352888e-01 4.0848325e-03 1.3068078e-04]], shape=(1, 4), dtype=float32)\n"
     ]
    }
   ],
   "source": [
    "agent.trial()"
   ]
  },
  {
   "cell_type": "code",
   "execution_count": null,
   "metadata": {},
   "outputs": [],
   "source": []
  }
 ],
 "metadata": {
  "kernelspec": {
   "display_name": "tfgpu",
   "language": "python",
   "name": "tfgpu"
  },
  "language_info": {
   "codemirror_mode": {
    "name": "ipython",
    "version": 3
   },
   "file_extension": ".py",
   "mimetype": "text/x-python",
   "name": "python",
   "nbconvert_exporter": "python",
   "pygments_lexer": "ipython3",
   "version": "3.7.8"
  }
 },
 "nbformat": 4,
 "nbformat_minor": 4
}
