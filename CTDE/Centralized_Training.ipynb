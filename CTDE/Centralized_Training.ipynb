{
 "cells": [
  {
   "cell_type": "code",
   "execution_count": 1,
   "metadata": {},
   "outputs": [],
   "source": [
    "import os\n",
    "from copy import deepcopy\n",
    "\n",
    "from tqdm import tqdm\n",
    "import numpy as np\n",
    "import tensorflow as tf\n",
    "from tensorflow import keras\n",
    "import matplotlib.pyplot as plt\n",
    "\n",
    "from Environment import Environment, make_one_hot, give_mapping\n",
    "from Networks import UserActor, AsstActor, CentralizedCritic"
   ]
  },
  {
   "cell_type": "code",
   "execution_count": 2,
   "metadata": {},
   "outputs": [],
   "source": [
    "def give_prev_steps(prev_steps_assist, steps):\n",
    "    prev_steps_assist = [[0,0,0,0,-1,-1] for i in range(steps-1)]\n",
    "    return prev_steps_assist"
   ]
  },
  {
   "cell_type": "code",
   "execution_count": 3,
   "metadata": {},
   "outputs": [],
   "source": [
    "class Agent:\n",
    "    def __init__(self):\n",
    "        self.memory_len = 4\n",
    "        self.user_actor = UserActor()\n",
    "        self.asst_actor = AsstActor(self.memory_len)\n",
    "        self.user_critic = CentralizedCritic(self.memory_len)\n",
    "        self.asst_critic = CentralizedCritic(self.memory_len)\n",
    "        self.optimizer_actors = tf.keras.optimizers.Adam(lr = 0.0001)\n",
    "        self.optimizer_critic = tf.keras.optimizers.Adam(lr = 0.0002)\n",
    "        self.huber_loss = tf.keras.losses.Huber()\n",
    "        \n",
    "        \n",
    "        self.gamma = 0.90\n",
    "        self.env = Environment()\n",
    "        self.env.cells = np.array([[0.7, 0.1], [0.1, 0.1], [0.5, 0.7], [0.6, 0.2], [0.7, 0.4], [0.2, 0.9]])\n",
    "        self.env_cell_mapping = give_mapping(self.env.cells)\n",
    "        self.env_cell_mapping = self.env_cell_mapping[np.newaxis, :, :, np.newaxis]\n",
    "        self.eps = 10e-6\n",
    "    \n",
    "    def learn(self):\n",
    "        env = self.env\n",
    "        max_steps = 40\n",
    "        running_reward = 0\n",
    "        reached = 0\n",
    "        best = 0\n",
    "        \n",
    "        for epoch in tqdm(range(100000)):\n",
    "            \n",
    "            user_action_probs_history = []\n",
    "            asst_action_probs_history = []\n",
    "            user_critic_value_history = []\n",
    "            asst_critic_value_history = []\n",
    "            rewards_history = []\n",
    "            returns = [] #Returns\n",
    "            \n",
    "            done = False\n",
    "            episode_reward = 0\n",
    "            start, dest = env.give_start_dest()\n",
    "            ob_user = [start[0], start[1], dest[0], dest[1]]\n",
    "            prev_steps_assist = []\n",
    "            prev_steps_assist = give_prev_steps(prev_steps_assist, self.memory_len)\n",
    "            step = 0\n",
    "            episode_reward = 0\n",
    "            \n",
    "            with tf.GradientTape(persistent = True) as tape:\n",
    "                while not done and step<max_steps:\n",
    "                    curr_loc = ob_user[:2]\n",
    "                    target_loc = ob_user[2:4]\n",
    "                    step+=1\n",
    "                    ob_user = np.array(ob_user)[np.newaxis]\n",
    "                    user_probs = self.user_actor.model(ob_user)\n",
    "                    user_action = np.random.choice(4, p=np.squeeze(user_probs))\n",
    "                    user_action_probs_history.append(tf.math.log(user_probs[0, user_action]))\n",
    "\n",
    "                    action_user_one_hot = make_one_hot(user_action, 4)\n",
    "\n",
    "                    ob_assist = [action_user_one_hot + curr_loc] \n",
    "                    ob_assist = prev_steps_assist + ob_assist\n",
    "                    ob_assist = np.array(ob_assist)[np.newaxis]\n",
    "                    \n",
    "                    asst_probs = self.asst_actor.model([ob_assist, self.env_cell_mapping])\n",
    "                    asst_action = np.random.choice(4, p=np.squeeze(asst_probs))\n",
    "                    asst_action_probs_history.append(tf.math.log(asst_probs[0, asst_action]))\n",
    "                    \n",
    "                    asst_output_one_hot = np.array(make_one_hot(asst_action, 4))[np.newaxis]\n",
    "                    \n",
    "                    user_critic_value = self.user_critic.model([ob_user, ob_assist, self.env_cell_mapping, asst_output_one_hot])\n",
    "                    user_critic_value_history.append(user_critic_value)\n",
    "                    \n",
    "                    asst_critic_value = self.asst_critic.model([ob_user, ob_assist, self.env_cell_mapping, asst_output_one_hot])\n",
    "                    asst_critic_value_history.append(asst_critic_value)\n",
    "                    \n",
    "                    new_loc, reward_user, reward_assist, done = self.env.step(user_action, asst_action + 1, target_loc, curr_loc)\n",
    "                    \n",
    "                    next_ob_user = new_loc[:]\n",
    "                    next_ob_user = next_ob_user + target_loc\n",
    "\n",
    "                    ob_user = next_ob_user\n",
    "                    prev_steps_assist = np.squeeze(ob_assist).tolist()[1:]\n",
    "                    \n",
    "                    rewards_history.append(reward_user)\n",
    "                    episode_reward+=reward_user\n",
    "                    \n",
    "                    if done:\n",
    "                        reached += 1\n",
    "\n",
    "                running_reward = 0.05 * episode_reward + (1 - 0.05) * running_reward\n",
    "\n",
    "                discounted_sum = 0\n",
    "                for r in rewards_history[::-1]:\n",
    "                    discounted_sum = r + self.gamma * discounted_sum\n",
    "                    returns.append(discounted_sum)\n",
    "                returns.reverse()\n",
    "                \n",
    "                user_critic_losses = []\n",
    "                asst_critic_losses = []\n",
    "                user_losses = []\n",
    "                asst_losses = []\n",
    "                \n",
    "                for log_prob_user, log_prob_asst, val_user, val_asst, ret in zip(user_action_probs_history, asst_action_probs_history, user_critic_value_history,\\\n",
    "                                                                 asst_critic_value_history, returns):\n",
    "                    diff_user = ret - val_user\n",
    "                    diff_asst = ret - val_asst\n",
    "                    user_losses.append(-log_prob_user*diff_user)\n",
    "                    asst_losses.append(-log_prob_asst*diff_asst)\n",
    "                    user_critic_losses.append(self.huber_loss(tf.expand_dims(val_user, 0), tf.expand_dims(ret, 0)))\n",
    "                    asst_critic_losses.append(self.huber_loss(tf.expand_dims(val_asst, 0), tf.expand_dims(ret, 0)))\n",
    "\n",
    "                user_loss = sum(user_losses)\n",
    "                asst_loss = sum(asst_losses)\n",
    "                user_critic_loss = sum(user_critic_losses)\n",
    "                asst_critic_loss = sum(asst_critic_losses)\n",
    "                \n",
    "            grads = tape.gradient(user_loss, self.user_actor.model.trainable_variables)\n",
    "            self.optimizer_actors.apply_gradients(zip(grads, self.user_actor.model.trainable_variables))\n",
    "\n",
    "            grads = tape.gradient(asst_loss, self.asst_actor.model.trainable_variables)\n",
    "            self.optimizer_actors.apply_gradients(zip(grads, self.asst_actor.model.trainable_variables))\n",
    "\n",
    "            grads = tape.gradient(user_critic_loss, self.user_critic.model.trainable_variables)\n",
    "            self.optimizer_critic.apply_gradients(zip(grads, self.user_critic.model.trainable_variables))\n",
    "            \n",
    "            grads = tape.gradient(asst_critic_loss, self.asst_critic.model.trainable_variables)\n",
    "            self.optimizer_critic.apply_gradients(zip(grads, self.asst_critic.model.trainable_variables))\n",
    "            \n",
    "            \n",
    "            if epoch%100 == 0:\n",
    "                print(running_reward)\n",
    "            \n",
    "            if epoch and epoch%100 == 0:\n",
    "                print(reached)\n",
    "                if reached>=best:\n",
    "                    best = reached\n",
    "                    tf.keras.models.save_model(self.user_actor.model, 'user.h5')\n",
    "                    tf.keras.models.save_model(self.asst_actor.model, 'asst.h5')\n",
    "                    tf.keras.models.save_model(self.user_critic.model, 'user_critic.h5')\n",
    "                    tf.keras.models.save_model(self.asst_critic.model, 'asst_critic.h5')\n",
    "                    \n",
    "                reached = 0\n",
    "                \n",
    "                if epoch%200 == 0:\n",
    "                    self.trial()\n",
    "                    \n",
    "                    if epoch%1000 == 0:\n",
    "                        if epoch<=10000:\n",
    "                            max_steps -= 2\n",
    "                            max_steps = max(max_steps, 10)\n",
    "                        \n",
    "                        elif epoch%2000 == 0:\n",
    "                            max_steps -= 1\n",
    "                            max_steps = max(max_steps, 10)\n",
    "                            \n",
    "                        \n",
    "    def trial(self):\n",
    "        env = self.env\n",
    "        max_steps = 10\n",
    "        done = False\n",
    "        episode_reward = 0\n",
    "        start, dest = env.give_start_dest()\n",
    "        ob_user = [start[0], start[1], dest[0], dest[1]]\n",
    "        prev_steps_assist = []\n",
    "        prev_steps_assist = give_prev_steps(prev_steps_assist, self.memory_len)\n",
    "        step = 0\n",
    "        episode_reward = 0\n",
    "\n",
    "        while not done and step<max_steps:\n",
    "            curr_loc = ob_user[:2]\n",
    "            target_loc = ob_user[2:4]\n",
    "            step+=1\n",
    "            print(ob_user)\n",
    "\n",
    "            ob_user = np.array(ob_user)[np.newaxis]\n",
    "            user_probs = self.user_actor.model(ob_user)\n",
    "            user_action = np.argmax(np.squeeze(user_probs))\n",
    "\n",
    "            action_user_one_hot = make_one_hot(user_action, 4)\n",
    "\n",
    "            ob_assist = [action_user_one_hot + curr_loc] \n",
    "            ob_assist = prev_steps_assist + ob_assist\n",
    "            ob_assist = np.array(ob_assist)[np.newaxis]\n",
    "\n",
    "            asst_probs = self.asst_actor.model([ob_assist, self.env_cell_mapping])\n",
    "            print(asst_probs)\n",
    "            asst_action = np.argmax(np.squeeze(asst_probs)) \n",
    "            new_loc, reward_user, reward_assist, done = self.env.step(user_action, asst_action + 1, target_loc, curr_loc)\n",
    "\n",
    "            next_ob_user = new_loc[:]\n",
    "            next_ob_user = next_ob_user + target_loc\n",
    "\n",
    "            ob_user = next_ob_user\n",
    "            prev_steps_assist = np.squeeze(ob_assist).tolist()[1:]\n",
    "            episode_reward+=reward_user\n",
    "\n",
    "\n"
   ]
  },
  {
   "cell_type": "code",
   "execution_count": 4,
   "metadata": {
    "scrolled": false
   },
   "outputs": [
    {
     "name": "stdout",
     "output_type": "stream",
     "text": [
      "Model: \"functional_1\"\n",
      "__________________________________________________________________________________________________\n",
      "Layer (type)                    Output Shape         Param #     Connected to                     \n",
      "==================================================================================================\n",
      "input_1 (InputLayer)            [(None, 4)]          0                                            \n",
      "__________________________________________________________________________________________________\n",
      "tf_op_layer_strided_slice (Tens [(None, 2)]          0           input_1[0][0]                    \n",
      "__________________________________________________________________________________________________\n",
      "tf_op_layer_strided_slice_1 (Te [(None, 2)]          0           input_1[0][0]                    \n",
      "__________________________________________________________________________________________________\n",
      "subtract (Subtract)             (None, 2)            0           tf_op_layer_strided_slice[0][0]  \n",
      "                                                                 tf_op_layer_strided_slice_1[0][0]\n",
      "__________________________________________________________________________________________________\n",
      "dense (Dense)                   (None, 32)           96          subtract[0][0]                   \n",
      "__________________________________________________________________________________________________\n",
      "dense_1 (Dense)                 (None, 64)           2112        dense[0][0]                      \n",
      "__________________________________________________________________________________________________\n",
      "dense_2 (Dense)                 (None, 4)            260         dense_1[0][0]                    \n",
      "==================================================================================================\n",
      "Total params: 2,468\n",
      "Trainable params: 2,468\n",
      "Non-trainable params: 0\n",
      "__________________________________________________________________________________________________\n",
      "Model: \"functional_3\"\n",
      "__________________________________________________________________________________________________\n",
      "Layer (type)                    Output Shape         Param #     Connected to                     \n",
      "==================================================================================================\n",
      "input_3 (InputLayer)            [(None, 11, 11, 1)]  0                                            \n",
      "__________________________________________________________________________________________________\n",
      "conv2d (Conv2D)                 (None, 9, 9, 2)      20          input_3[0][0]                    \n",
      "__________________________________________________________________________________________________\n",
      "input_2 (InputLayer)            [(None, 4, 6)]       0                                            \n",
      "__________________________________________________________________________________________________\n",
      "max_pooling2d (MaxPooling2D)    (None, 4, 4, 2)      0           conv2d[0][0]                     \n",
      "__________________________________________________________________________________________________\n",
      "dense_3 (Dense)                 (None, 4, 32)        224         input_2[0][0]                    \n",
      "__________________________________________________________________________________________________\n",
      "flatten (Flatten)               (None, 32)           0           max_pooling2d[0][0]              \n",
      "__________________________________________________________________________________________________\n",
      "lstm (LSTM)                     (None, 32)           8320        dense_3[0][0]                    \n",
      "__________________________________________________________________________________________________\n",
      "dense_4 (Dense)                 (None, 32)           1056        flatten[0][0]                    \n",
      "__________________________________________________________________________________________________\n",
      "concatenate (Concatenate)       (None, 64)           0           lstm[0][0]                       \n",
      "                                                                 dense_4[0][0]                    \n",
      "__________________________________________________________________________________________________\n",
      "dense_5 (Dense)                 (None, 32)           2080        concatenate[0][0]                \n",
      "__________________________________________________________________________________________________\n",
      "dense_6 (Dense)                 (None, 4)            132         dense_5[0][0]                    \n",
      "==================================================================================================\n",
      "Total params: 11,832\n",
      "Trainable params: 11,832\n",
      "Non-trainable params: 0\n",
      "__________________________________________________________________________________________________\n",
      "Model: \"functional_5\"\n",
      "__________________________________________________________________________________________________\n",
      "Layer (type)                    Output Shape         Param #     Connected to                     \n",
      "==================================================================================================\n",
      "input_4 (InputLayer)            [(None, 4)]          0                                            \n",
      "__________________________________________________________________________________________________\n",
      "tf_op_layer_strided_slice_2 (Te [(None, 2)]          0           input_4[0][0]                    \n",
      "__________________________________________________________________________________________________\n",
      "tf_op_layer_strided_slice_3 (Te [(None, 2)]          0           input_4[0][0]                    \n",
      "__________________________________________________________________________________________________\n",
      "input_6 (InputLayer)            [(None, 11, 11, 1)]  0                                            \n",
      "__________________________________________________________________________________________________\n",
      "subtract_1 (Subtract)           (None, 2)            0           tf_op_layer_strided_slice_2[0][0]\n",
      "                                                                 tf_op_layer_strided_slice_3[0][0]\n",
      "__________________________________________________________________________________________________\n",
      "conv2d_1 (Conv2D)               (None, 9, 9, 2)      20          input_6[0][0]                    \n",
      "__________________________________________________________________________________________________\n",
      "dense_7 (Dense)                 (None, 32)           96          subtract_1[0][0]                 \n",
      "__________________________________________________________________________________________________\n",
      "input_5 (InputLayer)            [(None, 4, 6)]       0                                            \n",
      "__________________________________________________________________________________________________\n",
      "max_pooling2d_1 (MaxPooling2D)  (None, 4, 4, 2)      0           conv2d_1[0][0]                   \n",
      "__________________________________________________________________________________________________\n",
      "dense_8 (Dense)                 (None, 64)           2112        dense_7[0][0]                    \n",
      "__________________________________________________________________________________________________\n",
      "dense_10 (Dense)                (None, 4, 32)        224         input_5[0][0]                    \n",
      "__________________________________________________________________________________________________\n",
      "flatten_1 (Flatten)             (None, 32)           0           max_pooling2d_1[0][0]            \n",
      "__________________________________________________________________________________________________\n",
      "input_7 (InputLayer)            [(None, 4)]          0                                            \n",
      "__________________________________________________________________________________________________\n",
      "dense_9 (Dense)                 (None, 32)           2080        dense_8[0][0]                    \n",
      "__________________________________________________________________________________________________\n",
      "lstm_1 (LSTM)                   (None, 32)           8320        dense_10[0][0]                   \n",
      "__________________________________________________________________________________________________\n",
      "dense_11 (Dense)                (None, 32)           1056        flatten_1[0][0]                  \n",
      "__________________________________________________________________________________________________\n",
      "dense_12 (Dense)                (None, 32)           160         input_7[0][0]                    \n",
      "__________________________________________________________________________________________________\n",
      "concatenate_1 (Concatenate)     (None, 128)          0           dense_9[0][0]                    \n",
      "                                                                 lstm_1[0][0]                     \n",
      "                                                                 dense_11[0][0]                   \n",
      "                                                                 dense_12[0][0]                   \n",
      "__________________________________________________________________________________________________\n",
      "dense_13 (Dense)                (None, 32)           4128        concatenate_1[0][0]              \n",
      "__________________________________________________________________________________________________\n",
      "dense_14 (Dense)                (None, 1)            33          dense_13[0][0]                   \n",
      "==================================================================================================\n",
      "Total params: 18,229\n",
      "Trainable params: 18,229\n",
      "Non-trainable params: 0\n",
      "__________________________________________________________________________________________________\n"
     ]
    },
    {
     "name": "stdout",
     "output_type": "stream",
     "text": [
      "Model: \"functional_7\"\n",
      "__________________________________________________________________________________________________\n",
      "Layer (type)                    Output Shape         Param #     Connected to                     \n",
      "==================================================================================================\n",
      "input_8 (InputLayer)            [(None, 4)]          0                                            \n",
      "__________________________________________________________________________________________________\n",
      "tf_op_layer_strided_slice_4 (Te [(None, 2)]          0           input_8[0][0]                    \n",
      "__________________________________________________________________________________________________\n",
      "tf_op_layer_strided_slice_5 (Te [(None, 2)]          0           input_8[0][0]                    \n",
      "__________________________________________________________________________________________________\n",
      "input_10 (InputLayer)           [(None, 11, 11, 1)]  0                                            \n",
      "__________________________________________________________________________________________________\n",
      "subtract_2 (Subtract)           (None, 2)            0           tf_op_layer_strided_slice_4[0][0]\n",
      "                                                                 tf_op_layer_strided_slice_5[0][0]\n",
      "__________________________________________________________________________________________________\n",
      "conv2d_2 (Conv2D)               (None, 9, 9, 2)      20          input_10[0][0]                   \n",
      "__________________________________________________________________________________________________\n",
      "dense_15 (Dense)                (None, 32)           96          subtract_2[0][0]                 \n",
      "__________________________________________________________________________________________________\n",
      "input_9 (InputLayer)            [(None, 4, 6)]       0                                            \n",
      "__________________________________________________________________________________________________\n",
      "max_pooling2d_2 (MaxPooling2D)  (None, 4, 4, 2)      0           conv2d_2[0][0]                   \n",
      "__________________________________________________________________________________________________\n",
      "dense_16 (Dense)                (None, 64)           2112        dense_15[0][0]                   \n",
      "__________________________________________________________________________________________________\n",
      "dense_18 (Dense)                (None, 4, 32)        224         input_9[0][0]                    \n",
      "__________________________________________________________________________________________________\n",
      "flatten_2 (Flatten)             (None, 32)           0           max_pooling2d_2[0][0]            \n",
      "__________________________________________________________________________________________________\n",
      "input_11 (InputLayer)           [(None, 4)]          0                                            \n",
      "__________________________________________________________________________________________________\n",
      "dense_17 (Dense)                (None, 32)           2080        dense_16[0][0]                   \n",
      "__________________________________________________________________________________________________\n",
      "lstm_2 (LSTM)                   (None, 32)           8320        dense_18[0][0]                   \n",
      "__________________________________________________________________________________________________\n",
      "dense_19 (Dense)                (None, 32)           1056        flatten_2[0][0]                  \n",
      "__________________________________________________________________________________________________\n",
      "dense_20 (Dense)                (None, 32)           160         input_11[0][0]                   \n",
      "__________________________________________________________________________________________________\n",
      "concatenate_2 (Concatenate)     (None, 128)          0           dense_17[0][0]                   \n",
      "                                                                 lstm_2[0][0]                     \n",
      "                                                                 dense_19[0][0]                   \n",
      "                                                                 dense_20[0][0]                   \n",
      "__________________________________________________________________________________________________\n",
      "dense_21 (Dense)                (None, 32)           4128        concatenate_2[0][0]              \n",
      "__________________________________________________________________________________________________\n",
      "dense_22 (Dense)                (None, 1)            33          dense_21[0][0]                   \n",
      "==================================================================================================\n",
      "Total params: 18,229\n",
      "Trainable params: 18,229\n",
      "Non-trainable params: 0\n",
      "__________________________________________________________________________________________________\n",
      "Icon Locations:\n",
      "[[0.2 0.9]\n",
      " [0.2 0.7]\n",
      " [0.6 0.3]\n",
      " [0.8 0.2]\n",
      " [0.7 0.3]\n",
      " [0.4 0.9]]\n",
      "Icon usage Probabilities\n",
      "[0.16666667 0.16666667 0.16666667 0.16666667 0.16666667 0.16666667]\n"
     ]
    }
   ],
   "source": [
    "agent = Agent()"
   ]
  },
  {
   "cell_type": "code",
   "execution_count": 5,
   "metadata": {
    "scrolled": true
   },
   "outputs": [
    {
     "name": "stderr",
     "output_type": "stream",
     "text": [
      "  0%|                                                                           | 1/100000 [00:05<141:19:34,  5.09s/it]"
     ]
    },
    {
     "name": "stdout",
     "output_type": "stream",
     "text": [
      "-2.0\n"
     ]
    },
    {
     "name": "stderr",
     "output_type": "stream",
     "text": [
      "  0%|                                                                          | 101/100000 [04:50<74:58:27,  2.70s/it]"
     ]
    },
    {
     "name": "stdout",
     "output_type": "stream",
     "text": [
      "-33.068390490207264\n",
      "18\n"
     ]
    },
    {
     "name": "stderr",
     "output_type": "stream",
     "text": [
      "  0%|▏                                                                         | 201/100000 [09:41<68:22:05,  2.47s/it]"
     ]
    },
    {
     "name": "stdout",
     "output_type": "stream",
     "text": [
      "-34.73842355629596\n",
      "18\n",
      "[0.2, 0.6, 0.2, 0.9]\n",
      "tf.Tensor([[0.2958621  0.23789984 0.22525759 0.24098049]], shape=(1, 4), dtype=float32)\n",
      "[0.2, 0.7, 0.2, 0.9]\n",
      "tf.Tensor([[0.29557455 0.2366126  0.2310625  0.23675035]], shape=(1, 4), dtype=float32)\n",
      "[0.2, 0.8, 0.2, 0.9]\n",
      "tf.Tensor([[0.29710978 0.23283185 0.23573866 0.23431975]], shape=(1, 4), dtype=float32)\n"
     ]
    },
    {
     "name": "stderr",
     "output_type": "stream",
     "text": [
      "  0%|▏                                                                         | 301/100000 [13:44<88:34:42,  3.20s/it]"
     ]
    },
    {
     "name": "stdout",
     "output_type": "stream",
     "text": [
      "-37.30310956862227\n",
      "10\n"
     ]
    },
    {
     "name": "stderr",
     "output_type": "stream",
     "text": [
      "  0%|▎                                                                         | 400/100000 [18:53<60:38:03,  2.19s/it]"
     ]
    },
    {
     "name": "stdout",
     "output_type": "stream",
     "text": [
      "-31.23921604575456\n",
      "22\n",
      "[0.4, 0.5, 0.5, 0.7]\n",
      "tf.Tensor([[0.2934123  0.24180296 0.22714871 0.23763599]], shape=(1, 4), dtype=float32)\n",
      "[0.4, 0.6, 0.5, 0.7]\n",
      "tf.Tensor([[0.2926734  0.245189   0.23362446 0.22851312]], shape=(1, 4), dtype=float32)\n",
      "[0.4, 0.5, 0.5, 0.7]\n",
      "tf.Tensor([[0.29351932 0.24229862 0.2375733  0.22660877]], shape=(1, 4), dtype=float32)"
     ]
    },
    {
     "name": "stderr",
     "output_type": "stream",
     "text": [
      "\r",
      "  0%|▎                                                                         | 401/100000 [18:57<72:25:52,  2.62s/it]"
     ]
    },
    {
     "name": "stdout",
     "output_type": "stream",
     "text": [
      "\n",
      "[0.4, 0.6, 0.5, 0.7]\n",
      "tf.Tensor([[0.29077557 0.25419715 0.23592679 0.21910049]], shape=(1, 4), dtype=float32)\n",
      "[0.4, 0.5, 0.5, 0.7]\n",
      "tf.Tensor([[0.29284683 0.24734469 0.23805833 0.22175016]], shape=(1, 4), dtype=float32)\n",
      "[0.4, 0.6, 0.5, 0.7]\n",
      "tf.Tensor([[0.29077557 0.25419715 0.23592679 0.21910049]], shape=(1, 4), dtype=float32)\n",
      "[0.4, 0.5, 0.5, 0.7]\n",
      "tf.Tensor([[0.29284683 0.24734469 0.23805833 0.22175016]], shape=(1, 4), dtype=float32)\n",
      "[0.4, 0.6, 0.5, 0.7]\n",
      "tf.Tensor([[0.29077557 0.25419715 0.23592679 0.21910049]], shape=(1, 4), dtype=float32)\n",
      "[0.4, 0.5, 0.5, 0.7]\n",
      "tf.Tensor([[0.29284683 0.24734469 0.23805833 0.22175016]], shape=(1, 4), dtype=float32)\n",
      "[0.4, 0.6, 0.5, 0.7]\n",
      "tf.Tensor([[0.29077557 0.25419715 0.23592679 0.21910049]], shape=(1, 4), dtype=float32)\n"
     ]
    },
    {
     "name": "stderr",
     "output_type": "stream",
     "text": [
      "  1%|▎                                                                         | 501/100000 [23:48<74:56:32,  2.71s/it]"
     ]
    },
    {
     "name": "stdout",
     "output_type": "stream",
     "text": [
      "-36.63281083318122\n",
      "15\n"
     ]
    },
    {
     "name": "stderr",
     "output_type": "stream",
     "text": [
      "  1%|▍                                                                         | 600/100000 [27:56<80:33:48,  2.92s/it]"
     ]
    },
    {
     "name": "stdout",
     "output_type": "stream",
     "text": [
      "-30.108186294388744\n",
      "28\n",
      "[0.0, 0.6, 0.7, 0.1]\n",
      "tf.Tensor([[0.29778984 0.2422532  0.22674385 0.23321308]], shape=(1, 4), dtype=float32)\n",
      "[0.1, 0.6, 0.7, 0.1]\n",
      "tf.Tensor([[0.29784817 0.24183647 0.2312295  0.22908582]], shape=(1, 4), dtype=float32)\n",
      "[0.2, 0.6, 0.7, 0.1]\n",
      "tf.Tensor([[0.298717   0.23996335 0.23522142 0.22609825]], shape=(1, 4), dtype=float32)\n",
      "[0.3, 0.6, 0.7, 0.1]\n",
      "tf.Tensor([[0.30060485 0.23815063 0.23724647 0.22399808]], shape=(1, 4), dtype=float32)\n"
     ]
    },
    {
     "name": "stderr",
     "output_type": "stream",
     "text": [
      "\r",
      "  1%|▍                                                                         | 601/100000 [27:58<72:32:51,  2.63s/it]"
     ]
    },
    {
     "name": "stdout",
     "output_type": "stream",
     "text": [
      "[0.4, 0.6, 0.7, 0.1]\n",
      "tf.Tensor([[0.30104434 0.23819219 0.2367552  0.2240083 ]], shape=(1, 4), dtype=float32)\n",
      "[0.5, 0.6, 0.7, 0.1]\n",
      "tf.Tensor([[0.30050138 0.24861422 0.23712102 0.21376339]], shape=(1, 4), dtype=float32)\n",
      "[0.5, 0.5, 0.7, 0.1]\n",
      "tf.Tensor([[0.2997472  0.25585952 0.23630552 0.20808777]], shape=(1, 4), dtype=float32)\n",
      "[0.5, 0.4, 0.7, 0.1]\n",
      "tf.Tensor([[0.2999378  0.25964496 0.2353872  0.20503   ]], shape=(1, 4), dtype=float32)\n",
      "[0.5, 0.3, 0.7, 0.1]\n",
      "tf.Tensor([[0.29899824 0.25368616 0.2350231  0.21229249]], shape=(1, 4), dtype=float32)\n",
      "[0.6, 0.3, 0.7, 0.1]\n",
      "tf.Tensor([[0.30107918 0.25235784 0.23621246 0.21035053]], shape=(1, 4), dtype=float32)\n"
     ]
    },
    {
     "name": "stderr",
     "output_type": "stream",
     "text": [
      "  1%|▌                                                                         | 701/100000 [32:45<80:26:55,  2.92s/it]"
     ]
    },
    {
     "name": "stdout",
     "output_type": "stream",
     "text": [
      "-30.826522868390445\n",
      "16\n"
     ]
    },
    {
     "name": "stderr",
     "output_type": "stream",
     "text": [
      "  1%|▌                                                                         | 801/100000 [38:01<90:03:55,  3.27s/it]"
     ]
    },
    {
     "name": "stdout",
     "output_type": "stream",
     "text": [
      "-33.46603351734802\n",
      "20\n",
      "[0.7, 0.3, 0.1, 0.1]\n",
      "tf.Tensor([[0.29961905 0.23801437 0.23673289 0.22563368]], shape=(1, 4), dtype=float32)\n",
      "[0.7, 0.4, 0.1, 0.1]\n",
      "tf.Tensor([[0.30041972 0.23645552 0.24356094 0.21956387]], shape=(1, 4), dtype=float32)\n",
      "[0.7, 0.5, 0.1, 0.1]\n",
      "tf.Tensor([[0.30326915 0.23493594 0.24630488 0.21549003]], shape=(1, 4), dtype=float32)\n",
      "[0.7, 0.6, 0.1, 0.1]\n",
      "tf.Tensor([[0.30437517 0.23892474 0.251315   0.20538507]], shape=(1, 4), dtype=float32)\n",
      "[0.7, 0.5, 0.1, 0.1]\n",
      "tf.Tensor([[0.30527508 0.23652032 0.251602   0.20660262]], shape=(1, 4), dtype=float32)\n",
      "[0.7, 0.6, 0.1, 0.1]\n",
      "tf.Tensor([[0.30233082 0.24693958 0.2511761  0.19955352]], shape=(1, 4), dtype=float32)\n",
      "[0.7, 0.5, 0.1, 0.1]\n",
      "tf.Tensor([[0.3037574  0.24139033 0.25212842 0.20272382]], shape=(1, 4), dtype=float32)\n",
      "[0.7, 0.6, 0.1, 0.1]\n",
      "tf.Tensor([[0.30233082 0.24693958 0.2511761  0.19955352]], shape=(1, 4), dtype=float32)\n",
      "[0.7, 0.5, 0.1, 0.1]\n",
      "tf.Tensor([[0.3037574  0.24139033 0.25212842 0.20272382]], shape=(1, 4), dtype=float32)\n",
      "[0.7, 0.6, 0.1, 0.1]\n",
      "tf.Tensor([[0.30233082 0.24693958 0.2511761  0.19955352]], shape=(1, 4), dtype=float32)\n"
     ]
    },
    {
     "name": "stderr",
     "output_type": "stream",
     "text": [
      "  1%|▋                                                                         | 901/100000 [43:10<84:37:11,  3.07s/it]"
     ]
    },
    {
     "name": "stdout",
     "output_type": "stream",
     "text": [
      "-33.55342056399658\n",
      "23\n"
     ]
    },
    {
     "name": "stderr",
     "output_type": "stream",
     "text": [
      "  1%|▋                                                                        | 1001/100000 [48:28<89:54:15,  3.27s/it]"
     ]
    },
    {
     "name": "stdout",
     "output_type": "stream",
     "text": [
      "-34.51350010193531\n",
      "19\n",
      "[0.0, 0.9, 0.7, 0.1]\n",
      "tf.Tensor([[0.298673   0.23968565 0.2296796  0.23196168]], shape=(1, 4), dtype=float32)\n",
      "[0.1, 0.9, 0.7, 0.1]\n",
      "tf.Tensor([[0.3002207  0.23629892 0.2364145  0.22706586]], shape=(1, 4), dtype=float32)\n",
      "[0.2, 0.9, 0.7, 0.1]\n",
      "tf.Tensor([[0.30149472 0.2333682  0.24204504 0.2230921 ]], shape=(1, 4), dtype=float32)\n",
      "[0.3, 0.9, 0.7, 0.1]\n",
      "tf.Tensor([[0.30283052 0.2399129  0.2459539  0.21130268]], shape=(1, 4), dtype=float32)\n",
      "[0.3, 0.8, 0.7, 0.1]\n",
      "tf.Tensor([[0.3014268  0.24758124 0.24453552 0.2064564 ]], shape=(1, 4), dtype=float32)\n",
      "[0.3, 0.7, 0.7, 0.1]\n",
      "tf.Tensor([[0.30116323 0.24194303 0.24428236 0.21261136]], shape=(1, 4), dtype=float32)\n",
      "[0.4, 0.7, 0.7, 0.1]\n",
      "tf.Tensor([[0.30115786 0.24778557 0.24408588 0.20697074]], shape=(1, 4), dtype=float32)\n",
      "[0.4, 0.6, 0.7, 0.1]\n",
      "tf.Tensor([[0.30138764 0.24765383 0.24382573 0.20713273]], shape=(1, 4), dtype=float32)\n",
      "[0.4, 0.5, 0.7, 0.1]\n",
      "tf.Tensor([[0.3013095  0.23910318 0.24350317 0.21608418]], shape=(1, 4), dtype=float32)\n",
      "[0.5, 0.5, 0.7, 0.1]\n",
      "tf.Tensor([[0.30198076 0.24346052 0.24383628 0.21072243]], shape=(1, 4), dtype=float32)\n"
     ]
    },
    {
     "name": "stderr",
     "output_type": "stream",
     "text": [
      "  1%|▊                                                                        | 1101/100000 [53:03<76:03:18,  2.77s/it]"
     ]
    },
    {
     "name": "stdout",
     "output_type": "stream",
     "text": [
      "-33.295660281815564\n",
      "21\n"
     ]
    },
    {
     "name": "stderr",
     "output_type": "stream",
     "text": [
      "  1%|▉                                                                        | 1201/100000 [57:38<74:21:19,  2.71s/it]"
     ]
    },
    {
     "name": "stdout",
     "output_type": "stream",
     "text": [
      "-31.85258416774619\n",
      "22\n",
      "[0.4, 0.1, 0.5, 0.7]\n",
      "tf.Tensor([[0.29594356 0.23755632 0.2337623  0.23273782]], shape=(1, 4), dtype=float32)\n",
      "[0.4, 0.2, 0.5, 0.7]\n",
      "tf.Tensor([[0.29651678 0.23484321 0.24056807 0.22807197]], shape=(1, 4), dtype=float32)\n",
      "[0.4, 0.3, 0.5, 0.7]\n",
      "tf.Tensor([[0.29884747 0.23082322 0.24519494 0.22513434]], shape=(1, 4), dtype=float32)\n",
      "[0.4, 0.4, 0.5, 0.7]\n",
      "tf.Tensor([[0.30175847 0.22726151 0.24834704 0.222633  ]], shape=(1, 4), dtype=float32)\n",
      "[0.4, 0.5, 0.5, 0.7]\n",
      "tf.Tensor([[0.30261853 0.2271927  0.24822703 0.22196178]], shape=(1, 4), dtype=float32)\n",
      "[0.4, 0.6, 0.5, 0.7]\n",
      "tf.Tensor([[0.30343503 0.22697322 0.2482348  0.22135699]], shape=(1, 4), dtype=float32)\n",
      "[0.4, 0.7, 0.5, 0.7]\n",
      "tf.Tensor([[0.30135968 0.22824793 0.24792667 0.22246574]], shape=(1, 4), dtype=float32)\n"
     ]
    },
    {
     "name": "stderr",
     "output_type": "stream",
     "text": [
      "  1%|▉                                                                      | 1301/100000 [1:01:58<62:09:25,  2.27s/it]"
     ]
    },
    {
     "name": "stdout",
     "output_type": "stream",
     "text": [
      "-31.0761876198705\n",
      "16\n"
     ]
    },
    {
     "name": "stderr",
     "output_type": "stream",
     "text": [
      "  1%|▉                                                                      | 1400/100000 [1:06:14<66:24:11,  2.42s/it]"
     ]
    },
    {
     "name": "stdout",
     "output_type": "stream",
     "text": [
      "-28.994029337684367\n",
      "28\n",
      "[0.3, 0.7, 0.7, 0.4]\n",
      "tf.Tensor([[0.29182175 0.24752033 0.22746724 0.23319067]], shape=(1, 4), dtype=float32)\n",
      "[0.4, 0.7, 0.7, 0.4]\n",
      "tf.Tensor([[0.29224136 0.24508332 0.23366931 0.22900599]], shape=(1, 4), dtype=float32)\n",
      "[0.5, 0.7, 0.7, 0.4]\n",
      "tf.Tensor([[0.29416925 0.24607897 0.24196038 0.21779135]], shape=(1, 4), dtype=float32)\n",
      "[0.5, 0.6, 0.7, 0.4]\n",
      "tf.Tensor([[0.29401603 0.24373066 0.24403691 0.21821634]], shape=(1, 4), dtype=float32)"
     ]
    },
    {
     "name": "stderr",
     "output_type": "stream",
     "text": [
      "\r",
      "  1%|▉                                                                      | 1401/100000 [1:06:18<73:01:16,  2.67s/it]"
     ]
    },
    {
     "name": "stdout",
     "output_type": "stream",
     "text": [
      "\n",
      "[0.6, 0.6, 0.7, 0.4]\n",
      "tf.Tensor([[0.29418552 0.25103375 0.24408177 0.21069896]], shape=(1, 4), dtype=float32)\n",
      "[0.6, 0.5, 0.7, 0.4]\n",
      "tf.Tensor([[0.29400507 0.2552963  0.24342367 0.20727494]], shape=(1, 4), dtype=float32)\n",
      "[0.6, 0.4, 0.7, 0.4]\n",
      "tf.Tensor([[0.293391   0.24684487 0.24335614 0.21640795]], shape=(1, 4), dtype=float32)\n"
     ]
    },
    {
     "name": "stderr",
     "output_type": "stream",
     "text": [
      "  2%|█                                                                      | 1501/100000 [1:10:30<69:22:29,  2.54s/it]"
     ]
    },
    {
     "name": "stdout",
     "output_type": "stream",
     "text": [
      "-30.539394831055706\n",
      "22\n"
     ]
    },
    {
     "name": "stderr",
     "output_type": "stream",
     "text": [
      "  2%|█▏                                                                     | 1601/100000 [1:14:49<73:08:58,  2.68s/it]"
     ]
    },
    {
     "name": "stdout",
     "output_type": "stream",
     "text": [
      "-29.615850890997237\n",
      "26\n",
      "[0.8, 0.8, 0.7, 0.1]\n",
      "tf.Tensor([[0.2957034  0.2559169  0.23682638 0.21155328]], shape=(1, 4), dtype=float32)\n",
      "[0.8, 0.7, 0.7, 0.1]\n",
      "tf.Tensor([[0.2951995  0.26914692 0.23967166 0.19598189]], shape=(1, 4), dtype=float32)\n",
      "[0.8, 0.6, 0.7, 0.1]\n",
      "tf.Tensor([[0.29564363 0.27898085 0.23961173 0.1857638 ]], shape=(1, 4), dtype=float32)\n",
      "[0.8, 0.5, 0.7, 0.1]\n",
      "tf.Tensor([[0.2958864  0.28459314 0.2397302  0.17979027]], shape=(1, 4), dtype=float32)\n",
      "[0.8, 0.4, 0.7, 0.1]\n",
      "tf.Tensor([[0.29697493 0.27945918 0.2408415  0.18272436]], shape=(1, 4), dtype=float32)\n",
      "[0.8, 0.3, 0.7, 0.1]\n",
      "tf.Tensor([[0.29801935 0.274287   0.24194092 0.1857527 ]], shape=(1, 4), dtype=float32)\n",
      "[0.8, 0.2, 0.7, 0.1]\n",
      "tf.Tensor([[0.29902384 0.2691066  0.24300927 0.18886036]], shape=(1, 4), dtype=float32)\n",
      "[0.8, 0.1, 0.7, 0.1]\n",
      "tf.Tensor([[0.3036847  0.26323146 0.24250649 0.19057733]], shape=(1, 4), dtype=float32)\n"
     ]
    },
    {
     "name": "stderr",
     "output_type": "stream",
     "text": [
      "  2%|█▏                                                                     | 1701/100000 [1:18:56<61:18:29,  2.25s/it]"
     ]
    },
    {
     "name": "stdout",
     "output_type": "stream",
     "text": [
      "-27.4583551979644\n",
      "30\n"
     ]
    },
    {
     "name": "stderr",
     "output_type": "stream",
     "text": [
      "  2%|█▎                                                                     | 1801/100000 [1:23:13<80:53:46,  2.97s/it]"
     ]
    },
    {
     "name": "stdout",
     "output_type": "stream",
     "text": [
      "-32.69541646960851\n",
      "20\n",
      "[0.1, 0.6, 0.2, 0.9]\n",
      "tf.Tensor([[0.2942288  0.25289512 0.22798339 0.22489272]], shape=(1, 4), dtype=float32)\n",
      "[0.1, 0.7, 0.2, 0.9]\n",
      "tf.Tensor([[0.2966713  0.25147223 0.23256841 0.21928805]], shape=(1, 4), dtype=float32)\n",
      "[0.1, 0.8, 0.2, 0.9]\n",
      "tf.Tensor([[0.2992619  0.24889489 0.23640251 0.2154407 ]], shape=(1, 4), dtype=float32)\n",
      "[0.1, 0.9, 0.2, 0.9]\n",
      "tf.Tensor([[0.3000662  0.24819133 0.23889717 0.21284528]], shape=(1, 4), dtype=float32)\n"
     ]
    },
    {
     "name": "stderr",
     "output_type": "stream",
     "text": [
      "  2%|█▎                                                                     | 1901/100000 [1:27:46<73:49:05,  2.71s/it]"
     ]
    },
    {
     "name": "stdout",
     "output_type": "stream",
     "text": [
      "-30.213881561410748\n",
      "24\n"
     ]
    },
    {
     "name": "stderr",
     "output_type": "stream",
     "text": [
      "  2%|█▍                                                                     | 2001/100000 [1:31:45<58:32:34,  2.15s/it]"
     ]
    },
    {
     "name": "stdout",
     "output_type": "stream",
     "text": [
      "-28.489468084301592\n",
      "25\n",
      "[0.2, 0.1, 0.7, 0.1]\n",
      "tf.Tensor([[0.28443524 0.2577636  0.22837663 0.22942455]], shape=(1, 4), dtype=float32)\n",
      "[0.3, 0.1, 0.7, 0.1]\n",
      "tf.Tensor([[0.28598234 0.25550202 0.23242061 0.22609502]], shape=(1, 4), dtype=float32)\n",
      "[0.4, 0.1, 0.7, 0.1]\n",
      "tf.Tensor([[0.28733304 0.25340578 0.23584512 0.22341609]], shape=(1, 4), dtype=float32)\n",
      "[0.5, 0.1, 0.7, 0.1]\n",
      "tf.Tensor([[0.2888118  0.25147817 0.23888645 0.2208236 ]], shape=(1, 4), dtype=float32)\n",
      "[0.6, 0.1, 0.7, 0.1]\n",
      "tf.Tensor([[0.28876236 0.2509029  0.24007532 0.22025943]], shape=(1, 4), dtype=float32)\n"
     ]
    },
    {
     "name": "stderr",
     "output_type": "stream",
     "text": [
      "  2%|█▍                                                                     | 2101/100000 [1:35:51<51:55:41,  1.91s/it]"
     ]
    },
    {
     "name": "stdout",
     "output_type": "stream",
     "text": [
      "-24.55081407496472\n",
      "28\n"
     ]
    },
    {
     "name": "stderr",
     "output_type": "stream",
     "text": [
      "  2%|█▌                                                                     | 2200/100000 [1:39:47<68:10:23,  2.51s/it]"
     ]
    },
    {
     "name": "stdout",
     "output_type": "stream",
     "text": [
      "-27.145690739543888\n",
      "30\n",
      "[0.4, 0.9, 0.7, 0.4]\n",
      "tf.Tensor([[0.28831142 0.2699072  0.2296366  0.21214476]], shape=(1, 4), dtype=float32)\n",
      "[0.4, 0.8, 0.7, 0.4]\n",
      "tf.Tensor([[0.28589135 0.28911874 0.22837612 0.19661376]], shape=(1, 4), dtype=float32)\n",
      "[0.4, 0.6, 0.7, 0.4]\n",
      "tf.Tensor([[0.28899765 0.2849116  0.22875278 0.197338  ]], shape=(1, 4), dtype=float32)\n",
      "[0.5, 0.6, 0.7, 0.4]\n",
      "tf.Tensor([[0.29209405 0.28082713 0.23072122 0.19635764]], shape=(1, 4), dtype=float32)\n",
      "[0.6, 0.6, 0.7, 0.4]\n",
      "tf.Tensor([[0.29191205 0.2834596  0.23195693 0.19267137]], shape=(1, 4), dtype=float32)\n",
      "[0.6, 0.5, 0.7, 0.4]\n"
     ]
    },
    {
     "name": "stderr",
     "output_type": "stream",
     "text": [
      "\r",
      "  2%|█▌                                                                     | 2201/100000 [1:39:49<61:41:19,  2.27s/it]"
     ]
    },
    {
     "name": "stdout",
     "output_type": "stream",
     "text": [
      "tf.Tensor([[0.29551467 0.2707093  0.2328095  0.20096652]], shape=(1, 4), dtype=float32)\n",
      "[0.7, 0.5, 0.7, 0.4]\n",
      "tf.Tensor([[0.2933728  0.28117222 0.23271026 0.1927447 ]], shape=(1, 4), dtype=float32)\n"
     ]
    },
    {
     "name": "stderr",
     "output_type": "stream",
     "text": [
      "  2%|█▋                                                                     | 2301/100000 [1:43:35<59:31:50,  2.19s/it]"
     ]
    },
    {
     "name": "stdout",
     "output_type": "stream",
     "text": [
      "-23.413255911337572\n",
      "36\n"
     ]
    },
    {
     "name": "stderr",
     "output_type": "stream",
     "text": [
      "  2%|█▋                                                                     | 2401/100000 [1:47:46<64:49:33,  2.39s/it]"
     ]
    },
    {
     "name": "stdout",
     "output_type": "stream",
     "text": [
      "-26.191030866328003\n",
      "28\n",
      "[0.2, 0.0, 0.6, 0.2]\n",
      "tf.Tensor([[0.3008469  0.25826547 0.21979326 0.2210944 ]], shape=(1, 4), dtype=float32)\n",
      "[0.3, 0.0, 0.6, 0.2]\n",
      "tf.Tensor([[0.30314475 0.25533307 0.22354676 0.21797545]], shape=(1, 4), dtype=float32)\n",
      "[0.4, 0.0, 0.6, 0.2]\n",
      "tf.Tensor([[0.30690047 0.2519322  0.22543135 0.21573597]], shape=(1, 4), dtype=float32)\n",
      "[0.5, 0.0, 0.6, 0.2]\n",
      "tf.Tensor([[0.31139034 0.24798138 0.22940035 0.21122786]], shape=(1, 4), dtype=float32)\n",
      "[0.5, 0.1, 0.6, 0.2]\n",
      "tf.Tensor([[0.31293407 0.2475482  0.2306783  0.20883948]], shape=(1, 4), dtype=float32)\n",
      "[0.5, 0.2, 0.6, 0.2]\n",
      "tf.Tensor([[0.31246984 0.24875975 0.2297535  0.20901689]], shape=(1, 4), dtype=float32)\n"
     ]
    },
    {
     "name": "stderr",
     "output_type": "stream",
     "text": [
      "  3%|█▊                                                                     | 2501/100000 [1:51:38<54:22:30,  2.01s/it]"
     ]
    },
    {
     "name": "stdout",
     "output_type": "stream",
     "text": [
      "-28.072921766169983\n",
      "30\n"
     ]
    },
    {
     "name": "stderr",
     "output_type": "stream",
     "text": [
      "  3%|█▊                                                                     | 2601/100000 [1:55:50<74:17:11,  2.75s/it]"
     ]
    },
    {
     "name": "stdout",
     "output_type": "stream",
     "text": [
      "-24.37267497783148\n",
      "29\n",
      "[0.5, 0.6, 0.1, 0.1]\n",
      "tf.Tensor([[0.29637486 0.27494785 0.22330478 0.20537253]], shape=(1, 4), dtype=float32)\n",
      "[0.5, 0.5, 0.1, 0.1]\n",
      "tf.Tensor([[0.29698208 0.28962073 0.2220179  0.19137931]], shape=(1, 4), dtype=float32)\n",
      "[0.5, 0.4, 0.1, 0.1]\n",
      "tf.Tensor([[0.2980629  0.29953092 0.22000328 0.18240294]], shape=(1, 4), dtype=float32)\n",
      "[0.5, 0.2, 0.1, 0.1]\n",
      "tf.Tensor([[0.30559993 0.30064818 0.21847291 0.17527895]], shape=(1, 4), dtype=float32)\n",
      "[0.4, 0.2, 0.1, 0.1]\n",
      "tf.Tensor([[0.31258297 0.2936482  0.21732396 0.17644492]], shape=(1, 4), dtype=float32)\n",
      "[0.3, 0.2, 0.1, 0.1]\n",
      "tf.Tensor([[0.3170333  0.28951365 0.21591185 0.17754124]], shape=(1, 4), dtype=float32)\n",
      "[0.2, 0.2, 0.1, 0.1]\n",
      "tf.Tensor([[0.3127001  0.28979874 0.21562348 0.18187772]], shape=(1, 4), dtype=float32)\n",
      "[0.2, 0.1, 0.1, 0.1]\n",
      "tf.Tensor([[0.31495488 0.28680128 0.21615005 0.18209381]], shape=(1, 4), dtype=float32)\n"
     ]
    },
    {
     "name": "stderr",
     "output_type": "stream",
     "text": [
      "  3%|█▉                                                                     | 2701/100000 [1:59:46<37:35:27,  1.39s/it]"
     ]
    },
    {
     "name": "stdout",
     "output_type": "stream",
     "text": [
      "-23.033563872634417\n",
      "32\n"
     ]
    },
    {
     "name": "stderr",
     "output_type": "stream",
     "text": [
      "  3%|█▉                                                                     | 2800/100000 [2:03:18<60:36:59,  2.25s/it]"
     ]
    },
    {
     "name": "stdout",
     "output_type": "stream",
     "text": [
      "-23.991798866499778\n",
      "41\n",
      "[0.6, 0.8, 0.2, 0.9]\n",
      "tf.Tensor([[0.30198961 0.28291482 0.22398698 0.19110858]], shape=(1, 4), dtype=float32)\n",
      "[0.5, 0.8, 0.2, 0.9]\n",
      "tf.Tensor([[0.30574995 0.30364844 0.22065748 0.16994418]], shape=(1, 4), dtype=float32)\n",
      "[0.4, 0.8, 0.2, 0.9]\n",
      "tf.Tensor([[0.31140104 0.3158922  0.21597628 0.15673044]], shape=(1, 4), dtype=float32)"
     ]
    },
    {
     "name": "stderr",
     "output_type": "stream",
     "text": [
      "\r",
      "  3%|█▉                                                                     | 2801/100000 [2:03:21<64:37:00,  2.39s/it]"
     ]
    },
    {
     "name": "stdout",
     "output_type": "stream",
     "text": [
      "\n",
      "[0.2, 0.8, 0.2, 0.9]\n",
      "tf.Tensor([[0.31329986 0.3103998  0.21692038 0.15937997]], shape=(1, 4), dtype=float32)\n"
     ]
    },
    {
     "name": "stderr",
     "output_type": "stream",
     "text": [
      "  3%|██                                                                     | 2901/100000 [2:07:18<50:47:07,  1.88s/it]"
     ]
    },
    {
     "name": "stdout",
     "output_type": "stream",
     "text": [
      "-26.128356669813424\n",
      "30\n"
     ]
    },
    {
     "name": "stderr",
     "output_type": "stream",
     "text": [
      "  3%|██▏                                                                    | 3001/100000 [2:11:09<56:45:40,  2.11s/it]"
     ]
    },
    {
     "name": "stdout",
     "output_type": "stream",
     "text": [
      "-27.11134045746729\n",
      "32\n",
      "[0.4, 0.2, 0.6, 0.2]\n",
      "tf.Tensor([[0.30115926 0.27234235 0.22255754 0.20394078]], shape=(1, 4), dtype=float32)\n",
      "[0.5, 0.2, 0.6, 0.2]\n",
      "tf.Tensor([[0.30505925 0.27268234 0.22592013 0.19633828]], shape=(1, 4), dtype=float32)\n"
     ]
    },
    {
     "name": "stderr",
     "output_type": "stream",
     "text": [
      "  3%|██▏                                                                    | 3101/100000 [2:14:52<70:50:34,  2.63s/it]"
     ]
    },
    {
     "name": "stdout",
     "output_type": "stream",
     "text": [
      "-26.774547769107038\n",
      "35\n"
     ]
    },
    {
     "name": "stderr",
     "output_type": "stream",
     "text": [
      "  3%|██▎                                                                    | 3201/100000 [2:18:36<67:40:00,  2.52s/it]"
     ]
    },
    {
     "name": "stdout",
     "output_type": "stream",
     "text": [
      "-26.507530848191646\n",
      "37\n",
      "[0.4, 0.0, 0.5, 0.7]\n",
      "tf.Tensor([[0.3117916  0.27274108 0.21774754 0.19771981]], shape=(1, 4), dtype=float32)\n",
      "[0.4, 0.1, 0.5, 0.7]\n",
      "tf.Tensor([[0.32030374 0.2707951  0.21949552 0.18940562]], shape=(1, 4), dtype=float32)\n",
      "[0.4, 0.2, 0.5, 0.7]\n",
      "tf.Tensor([[0.32775033 0.2709788  0.21916535 0.18210553]], shape=(1, 4), dtype=float32)\n",
      "[0.4, 0.3, 0.5, 0.7]\n",
      "tf.Tensor([[0.33223045 0.275305   0.21677813 0.17568645]], shape=(1, 4), dtype=float32)\n",
      "[0.4, 0.4, 0.5, 0.7]\n",
      "tf.Tensor([[0.33300602 0.2780387  0.21508811 0.1738672 ]], shape=(1, 4), dtype=float32)\n",
      "[0.4, 0.5, 0.5, 0.7]\n",
      "tf.Tensor([[0.333783   0.28052172 0.21359032 0.17210488]], shape=(1, 4), dtype=float32)\n",
      "[0.4, 0.6, 0.5, 0.7]\n",
      "tf.Tensor([[0.33051422 0.2881247  0.21073255 0.17062858]], shape=(1, 4), dtype=float32)\n",
      "[0.5, 0.6, 0.5, 0.7]\n",
      "tf.Tensor([[0.33324715 0.28812873 0.21045274 0.16817135]], shape=(1, 4), dtype=float32)\n"
     ]
    },
    {
     "name": "stderr",
     "output_type": "stream",
     "text": [
      "  3%|██▎                                                                    | 3301/100000 [2:21:46<55:54:18,  2.08s/it]"
     ]
    },
    {
     "name": "stdout",
     "output_type": "stream",
     "text": [
      "-21.570583915473613\n",
      "43\n"
     ]
    },
    {
     "name": "stderr",
     "output_type": "stream",
     "text": [
      "  3%|██▍                                                                    | 3401/100000 [2:25:27<64:55:08,  2.42s/it]"
     ]
    },
    {
     "name": "stdout",
     "output_type": "stream",
     "text": [
      "-21.766363966876803\n",
      "40\n",
      "[0.0, 0.6, 0.7, 0.1]\n",
      "tf.Tensor([[0.31814134 0.27745488 0.20728378 0.19711998]], shape=(1, 4), dtype=float32)\n",
      "[0.1, 0.6, 0.7, 0.1]\n",
      "tf.Tensor([[0.32445475 0.28278822 0.20486715 0.1878898 ]], shape=(1, 4), dtype=float32)\n",
      "[0.2, 0.6, 0.7, 0.1]\n",
      "tf.Tensor([[0.33009684 0.28970563 0.20108828 0.17910925]], shape=(1, 4), dtype=float32)\n",
      "[0.3, 0.6, 0.7, 0.1]\n",
      "tf.Tensor([[0.33132908 0.31788325 0.19114007 0.1596476 ]], shape=(1, 4), dtype=float32)\n",
      "[0.3, 0.5, 0.7, 0.1]\n",
      "tf.Tensor([[0.33225012 0.3147364  0.19101568 0.16199778]], shape=(1, 4), dtype=float32)\n",
      "[0.4, 0.5, 0.7, 0.1]\n",
      "tf.Tensor([[0.33066502 0.33218807 0.18569683 0.15145008]], shape=(1, 4), dtype=float32)\n",
      "[0.4, 0.3, 0.7, 0.1]\n",
      "tf.Tensor([[0.3323526  0.32390675 0.1873054  0.15643524]], shape=(1, 4), dtype=float32)\n",
      "[0.5, 0.3, 0.7, 0.1]\n",
      "tf.Tensor([[0.33482146 0.30567834 0.19392727 0.16557294]], shape=(1, 4), dtype=float32)\n",
      "[0.6, 0.3, 0.7, 0.1]\n",
      "tf.Tensor([[0.33543795 0.3181616  0.19016218 0.15623826]], shape=(1, 4), dtype=float32)\n",
      "[0.6, 0.2, 0.7, 0.1]\n",
      "tf.Tensor([[0.33672056 0.31648678 0.19107671 0.15571599]], shape=(1, 4), dtype=float32)\n"
     ]
    },
    {
     "name": "stderr",
     "output_type": "stream",
     "text": [
      "  4%|██▍                                                                    | 3501/100000 [2:28:54<56:28:50,  2.11s/it]"
     ]
    },
    {
     "name": "stdout",
     "output_type": "stream",
     "text": [
      "-23.599237575562412\n",
      "45\n"
     ]
    },
    {
     "name": "stderr",
     "output_type": "stream",
     "text": [
      "  4%|██▌                                                                    | 3601/100000 [2:32:32<50:53:31,  1.90s/it]"
     ]
    },
    {
     "name": "stdout",
     "output_type": "stream",
     "text": [
      "-24.69845832634255\n",
      "35\n",
      "[0.1, 0.9, 0.2, 0.9]\n",
      "tf.Tensor([[0.3482018  0.27236512 0.19362283 0.18581025]], shape=(1, 4), dtype=float32)\n"
     ]
    },
    {
     "name": "stderr",
     "output_type": "stream",
     "text": [
      "  4%|██▋                                                                    | 3701/100000 [2:36:01<42:09:54,  1.58s/it]"
     ]
    },
    {
     "name": "stdout",
     "output_type": "stream",
     "text": [
      "-18.429142239666795\n",
      "51\n"
     ]
    },
    {
     "name": "stderr",
     "output_type": "stream",
     "text": [
      "  4%|██▋                                                                    | 3801/100000 [2:39:40<57:50:48,  2.16s/it]"
     ]
    },
    {
     "name": "stdout",
     "output_type": "stream",
     "text": [
      "-25.17159201264625\n",
      "36\n",
      "[0.3, 0.1, 0.7, 0.4]\n",
      "tf.Tensor([[0.34946436 0.271832   0.18770228 0.19100134]], shape=(1, 4), dtype=float32)\n",
      "[0.4, 0.1, 0.7, 0.4]\n",
      "tf.Tensor([[0.35808504 0.27541235 0.18465964 0.18184298]], shape=(1, 4), dtype=float32)\n",
      "[0.5, 0.1, 0.7, 0.4]\n",
      "tf.Tensor([[0.36854073 0.27783194 0.18131681 0.17231049]], shape=(1, 4), dtype=float32)\n",
      "[0.5, 0.2, 0.7, 0.4]\n",
      "tf.Tensor([[0.3729719  0.28768831 0.17480831 0.16453151]], shape=(1, 4), dtype=float32)\n",
      "[0.6, 0.2, 0.7, 0.4]\n",
      "tf.Tensor([[0.3781745  0.2853023  0.174471   0.16205217]], shape=(1, 4), dtype=float32)\n",
      "[0.6, 0.3, 0.7, 0.4]\n",
      "tf.Tensor([[0.38118938 0.28585437 0.17304838 0.15990792]], shape=(1, 4), dtype=float32)\n",
      "[0.6, 0.4, 0.7, 0.4]\n",
      "tf.Tensor([[0.37849325 0.2956171  0.16843954 0.15745011]], shape=(1, 4), dtype=float32)\n"
     ]
    },
    {
     "name": "stderr",
     "output_type": "stream",
     "text": [
      "  4%|██▊                                                                    | 3901/100000 [2:42:52<63:01:42,  2.36s/it]"
     ]
    },
    {
     "name": "stdout",
     "output_type": "stream",
     "text": [
      "-20.75638077944198\n",
      "51\n"
     ]
    },
    {
     "name": "stderr",
     "output_type": "stream",
     "text": [
      "  4%|██▊                                                                    | 4000/100000 [2:46:11<45:46:38,  1.72s/it]"
     ]
    },
    {
     "name": "stdout",
     "output_type": "stream",
     "text": [
      "-19.29547475734954\n",
      "53\n",
      "[0.9, 0.3, 0.5, 0.7]\n",
      "tf.Tensor([[0.394149   0.26933157 0.1712395  0.16527992]], shape=(1, 4), dtype=float32)\n",
      "[0.8, 0.3, 0.5, 0.7]\n",
      "tf.Tensor([[0.41434294 0.2976593  0.15050797 0.13748983]], shape=(1, 4), dtype=float32)\n",
      "[0.7, 0.3, 0.5, 0.7]\n",
      "tf.Tensor([[0.4208037  0.30186623 0.14635497 0.13097507]], shape=(1, 4), dtype=float32)"
     ]
    },
    {
     "name": "stderr",
     "output_type": "stream",
     "text": [
      "\r",
      "  4%|██▊                                                                    | 4001/100000 [2:46:14<56:25:10,  2.12s/it]"
     ]
    },
    {
     "name": "stdout",
     "output_type": "stream",
     "text": [
      "\n",
      "[0.7, 0.4, 0.5, 0.7]\n",
      "tf.Tensor([[0.4261253  0.30489781 0.14295028 0.12602666]], shape=(1, 4), dtype=float32)\n",
      "[0.7, 0.5, 0.5, 0.7]\n",
      "tf.Tensor([[0.42237738 0.31367844 0.14113122 0.12281293]], shape=(1, 4), dtype=float32)\n",
      "[0.6, 0.5, 0.5, 0.7]\n",
      "tf.Tensor([[0.41811633 0.2993666  0.14964181 0.1328752 ]], shape=(1, 4), dtype=float32)\n",
      "[0.6, 0.6, 0.5, 0.7]\n",
      "tf.Tensor([[0.41862747 0.32577187 0.13699046 0.1186102 ]], shape=(1, 4), dtype=float32)\n",
      "[0.5, 0.6, 0.5, 0.7]\n",
      "tf.Tensor([[0.42055297 0.32204106 0.13697977 0.12042614]], shape=(1, 4), dtype=float32)\n"
     ]
    },
    {
     "name": "stderr",
     "output_type": "stream",
     "text": [
      "  4%|██▉                                                                    | 4101/100000 [2:49:16<49:19:40,  1.85s/it]"
     ]
    },
    {
     "name": "stdout",
     "output_type": "stream",
     "text": [
      "-19.5650053332852\n",
      "52\n"
     ]
    },
    {
     "name": "stderr",
     "output_type": "stream",
     "text": [
      "  4%|██▉                                                                    | 4201/100000 [2:52:23<55:02:26,  2.07s/it]"
     ]
    },
    {
     "name": "stdout",
     "output_type": "stream",
     "text": [
      "-20.313336882489086\n",
      "44\n",
      "[0.2, 0.2, 0.7, 0.1]\n",
      "tf.Tensor([[0.37498286 0.25318816 0.18259498 0.18923397]], shape=(1, 4), dtype=float32)\n",
      "[0.3, 0.2, 0.7, 0.1]\n",
      "tf.Tensor([[0.38775507 0.25464725 0.17924094 0.17835674]], shape=(1, 4), dtype=float32)\n",
      "[0.4, 0.2, 0.7, 0.1]\n",
      "tf.Tensor([[0.4001043  0.25765494 0.1740529  0.16818789]], shape=(1, 4), dtype=float32)\n",
      "[0.5, 0.2, 0.7, 0.1]\n",
      "tf.Tensor([[0.41086265 0.2637739  0.16701488 0.15834858]], shape=(1, 4), dtype=float32)\n",
      "[0.6, 0.2, 0.7, 0.1]\n",
      "tf.Tensor([[0.42019567 0.27905935 0.15671396 0.14403108]], shape=(1, 4), dtype=float32)\n",
      "[0.6, 0.1, 0.7, 0.1]\n",
      "tf.Tensor([[0.42415142 0.27555332 0.15602566 0.14426956]], shape=(1, 4), dtype=float32)\n"
     ]
    },
    {
     "name": "stderr",
     "output_type": "stream",
     "text": [
      "  4%|███                                                                    | 4301/100000 [2:55:33<44:21:23,  1.67s/it]"
     ]
    },
    {
     "name": "stdout",
     "output_type": "stream",
     "text": [
      "-17.32916370144975\n",
      "53\n"
     ]
    },
    {
     "name": "stderr",
     "output_type": "stream",
     "text": [
      "  4%|███                                                                    | 4400/100000 [2:58:17<39:07:42,  1.47s/it]"
     ]
    },
    {
     "name": "stdout",
     "output_type": "stream",
     "text": [
      "-16.833373595774436\n",
      "61\n",
      "[0.4, 0.1, 0.5, 0.7]\n",
      "tf.Tensor([[0.3862637  0.2527546  0.18128042 0.17970124]], shape=(1, 4), dtype=float32)\n",
      "[0.4, 0.2, 0.5, 0.7]\n",
      "tf.Tensor([[0.4064174  0.25236422 0.17637958 0.16483885]], shape=(1, 4), dtype=float32)\n",
      "[0.4, 0.3, 0.5, 0.7]\n",
      "tf.Tensor([[0.42486933 0.25432304 0.16877696 0.1520307 ]], shape=(1, 4), dtype=float32)\n",
      "[0.4, 0.4, 0.5, 0.7]\n",
      "tf.Tensor([[0.43862644 0.2614088  0.15966897 0.14029574]], shape=(1, 4), dtype=float32)\n"
     ]
    },
    {
     "name": "stderr",
     "output_type": "stream",
     "text": [
      "\r",
      "  4%|███                                                                    | 4401/100000 [2:58:19<46:06:48,  1.74s/it]"
     ]
    },
    {
     "name": "stdout",
     "output_type": "stream",
     "text": [
      "[0.4, 0.5, 0.5, 0.7]\n",
      "tf.Tensor([[0.4410462  0.26483303 0.15644829 0.13767244]], shape=(1, 4), dtype=float32)\n",
      "[0.4, 0.6, 0.5, 0.7]\n",
      "tf.Tensor([[0.43717626 0.27642065 0.15141763 0.13498537]], shape=(1, 4), dtype=float32)\n",
      "[0.5, 0.6, 0.5, 0.7]\n",
      "tf.Tensor([[0.44322145 0.27598602 0.14919685 0.1315956 ]], shape=(1, 4), dtype=float32)\n"
     ]
    },
    {
     "name": "stderr",
     "output_type": "stream",
     "text": [
      "  5%|███▏                                                                   | 4501/100000 [3:01:08<39:37:02,  1.49s/it]"
     ]
    },
    {
     "name": "stdout",
     "output_type": "stream",
     "text": [
      "-12.181882891661125\n",
      "65\n"
     ]
    },
    {
     "name": "stderr",
     "output_type": "stream",
     "text": [
      "  5%|███▎                                                                   | 4600/100000 [3:03:43<51:42:57,  1.95s/it]"
     ]
    },
    {
     "name": "stdout",
     "output_type": "stream",
     "text": [
      "-14.278721976850846\n",
      "67\n",
      "[0.4, 0.8, 0.2, 0.9]\n",
      "tf.Tensor([[0.4299667  0.27106503 0.15183662 0.14713165]], shape=(1, 4), dtype=float32)\n",
      "[0.3, 0.8, 0.2, 0.9]\n",
      "tf.Tensor([[0.45600253 0.31139916 0.12225033 0.11034801]], shape=(1, 4), dtype=float32)\n",
      "[0.2, 0.8, 0.2, 0.9]\n",
      "tf.Tensor([[0.47254604 0.3155964  0.11257734 0.09928017]], shape=(1, 4), dtype=float32)"
     ]
    },
    {
     "name": "stderr",
     "output_type": "stream",
     "text": [
      "\r",
      "  5%|███▎                                                                   | 4601/100000 [3:03:46<57:59:00,  2.19s/it]"
     ]
    },
    {
     "name": "stdout",
     "output_type": "stream",
     "text": [
      "\n"
     ]
    },
    {
     "name": "stderr",
     "output_type": "stream",
     "text": [
      "  5%|███▎                                                                   | 4701/100000 [3:06:33<47:12:35,  1.78s/it]"
     ]
    },
    {
     "name": "stdout",
     "output_type": "stream",
     "text": [
      "-12.458559590465917\n",
      "70\n"
     ]
    },
    {
     "name": "stderr",
     "output_type": "stream",
     "text": [
      "  5%|███▍                                                                   | 4801/100000 [3:09:10<31:24:02,  1.19s/it]"
     ]
    },
    {
     "name": "stdout",
     "output_type": "stream",
     "text": [
      "-10.549646019801202\n",
      "69\n",
      "[0.4, 0.3, 0.7, 0.1]\n",
      "tf.Tensor([[0.42236617 0.2523076  0.16399068 0.1613355 ]], shape=(1, 4), dtype=float32)\n",
      "[0.5, 0.3, 0.7, 0.1]\n",
      "tf.Tensor([[0.45053566 0.25467798 0.15351307 0.14127326]], shape=(1, 4), dtype=float32)\n",
      "[0.6, 0.3, 0.7, 0.1]\n",
      "tf.Tensor([[0.48067328 0.28167343 0.12870365 0.10894968]], shape=(1, 4), dtype=float32)\n",
      "[0.6, 0.2, 0.7, 0.1]\n",
      "tf.Tensor([[0.5040584  0.3010659  0.10887798 0.08599766]], shape=(1, 4), dtype=float32)\n",
      "[0.6, 0.1, 0.7, 0.1]\n",
      "tf.Tensor([[0.51089376 0.29281986 0.1093772  0.08690918]], shape=(1, 4), dtype=float32)\n"
     ]
    },
    {
     "name": "stderr",
     "output_type": "stream",
     "text": [
      "  5%|███▍                                                                   | 4901/100000 [3:11:34<32:49:15,  1.24s/it]"
     ]
    },
    {
     "name": "stdout",
     "output_type": "stream",
     "text": [
      "-11.265863914571474\n",
      "76\n"
     ]
    },
    {
     "name": "stderr",
     "output_type": "stream",
     "text": [
      "  5%|███▌                                                                   | 5001/100000 [3:14:15<41:01:46,  1.55s/it]"
     ]
    },
    {
     "name": "stdout",
     "output_type": "stream",
     "text": [
      "-10.10949101470979\n",
      "68\n",
      "[0.2, 0.3, 0.6, 0.2]\n",
      "tf.Tensor([[0.4193906  0.26478043 0.16068266 0.15514632]], shape=(1, 4), dtype=float32)\n",
      "[0.3, 0.3, 0.6, 0.2]\n",
      "tf.Tensor([[0.4406349  0.27347836 0.14974111 0.13614565]], shape=(1, 4), dtype=float32)\n",
      "[0.4, 0.3, 0.6, 0.2]\n",
      "tf.Tensor([[0.45921415 0.2874941  0.13553159 0.11776017]], shape=(1, 4), dtype=float32)\n",
      "[0.5, 0.3, 0.6, 0.2]\n",
      "tf.Tensor([[0.4769404  0.29922718 0.12217282 0.10165965]], shape=(1, 4), dtype=float32)\n",
      "[0.6, 0.3, 0.6, 0.2]\n",
      "tf.Tensor([[0.48234802 0.3214981  0.10939404 0.08675984]], shape=(1, 4), dtype=float32)\n"
     ]
    },
    {
     "name": "stderr",
     "output_type": "stream",
     "text": [
      "  5%|███▌                                                                   | 5101/100000 [3:16:48<54:06:20,  2.05s/it]"
     ]
    },
    {
     "name": "stdout",
     "output_type": "stream",
     "text": [
      "-12.681222754922393\n",
      "73\n"
     ]
    },
    {
     "name": "stderr",
     "output_type": "stream",
     "text": [
      "  5%|███▋                                                                   | 5200/100000 [3:18:56<19:29:59,  1.35it/s]"
     ]
    },
    {
     "name": "stdout",
     "output_type": "stream",
     "text": [
      "-7.817008250048659\n",
      "77\n",
      "[0.6, 0.7, 0.6, 0.2]\n",
      "tf.Tensor([[0.46781048 0.30183724 0.12472924 0.10562304]], shape=(1, 4), dtype=float32)\n",
      "[0.6, 0.6, 0.6, 0.2]\n",
      "tf.Tensor([[0.4923322  0.34951562 0.09063202 0.06752024]], shape=(1, 4), dtype=float32)\n",
      "[0.6, 0.5, 0.6, 0.2]\n",
      "tf.Tensor([[0.51698667 0.37152115 0.06655981 0.04493232]], shape=(1, 4), dtype=float32)\n",
      "[0.6, 0.4, 0.6, 0.2]\n",
      "tf.Tensor([[0.53977394 0.37671423 0.05121678 0.03229506]], shape=(1, 4), dtype=float32)\n",
      "[0.6, 0.3, 0.6, 0.2]\n"
     ]
    },
    {
     "name": "stderr",
     "output_type": "stream",
     "text": [
      "\r",
      "  5%|███▋                                                                   | 5201/100000 [3:18:58<33:30:35,  1.27s/it]"
     ]
    },
    {
     "name": "stdout",
     "output_type": "stream",
     "text": [
      "tf.Tensor([[0.54168886 0.37077263 0.05354829 0.03399023]], shape=(1, 4), dtype=float32)\n"
     ]
    },
    {
     "name": "stderr",
     "output_type": "stream",
     "text": [
      "  5%|███▊                                                                   | 5301/100000 [3:20:57<42:40:33,  1.62s/it]"
     ]
    },
    {
     "name": "stdout",
     "output_type": "stream",
     "text": [
      "-8.15039624032329\n",
      "83\n"
     ]
    },
    {
     "name": "stderr",
     "output_type": "stream",
     "text": [
      "  5%|███▊                                                                   | 5401/100000 [3:23:08<34:58:52,  1.33s/it]"
     ]
    },
    {
     "name": "stdout",
     "output_type": "stream",
     "text": [
      "-6.4944957089492235\n",
      "82\n",
      "[0.0, 0.5, 0.6, 0.2]\n",
      "tf.Tensor([[0.45584795 0.27499053 0.1422862  0.12687536]], shape=(1, 4), dtype=float32)\n",
      "[0.1, 0.5, 0.6, 0.2]\n",
      "tf.Tensor([[0.4746898  0.2954659  0.12526022 0.10458414]], shape=(1, 4), dtype=float32)\n",
      "[0.2, 0.5, 0.6, 0.2]\n",
      "tf.Tensor([[0.49302688 0.31531715 0.10737053 0.08428546]], shape=(1, 4), dtype=float32)\n",
      "[0.3, 0.5, 0.6, 0.2]\n",
      "tf.Tensor([[0.50942326 0.3324026  0.09114583 0.06702834]], shape=(1, 4), dtype=float32)\n",
      "[0.4, 0.5, 0.6, 0.2]\n",
      "tf.Tensor([[0.5120058  0.35638285 0.07838151 0.05322985]], shape=(1, 4), dtype=float32)\n",
      "[0.4, 0.4, 0.6, 0.2]\n",
      "tf.Tensor([[0.5186539  0.35520515 0.07542745 0.05071345]], shape=(1, 4), dtype=float32)\n",
      "[0.5, 0.4, 0.6, 0.2]\n",
      "tf.Tensor([[0.5206183  0.37143615 0.06626491 0.04168067]], shape=(1, 4), dtype=float32)\n",
      "[0.5, 0.3, 0.6, 0.2]\n",
      "tf.Tensor([[0.52826    0.36502668 0.06546754 0.0412458 ]], shape=(1, 4), dtype=float32)\n",
      "[0.6, 0.3, 0.6, 0.2]\n",
      "tf.Tensor([[0.5265956  0.3639475  0.06733502 0.04212192]], shape=(1, 4), dtype=float32)\n"
     ]
    },
    {
     "name": "stderr",
     "output_type": "stream",
     "text": [
      "  6%|███▉                                                                   | 5501/100000 [3:25:09<46:00:38,  1.75s/it]"
     ]
    },
    {
     "name": "stdout",
     "output_type": "stream",
     "text": [
      "-8.191214385995366\n",
      "87\n"
     ]
    },
    {
     "name": "stderr",
     "output_type": "stream",
     "text": [
      "  6%|███▉                                                                   | 5601/100000 [3:26:58<28:18:18,  1.08s/it]"
     ]
    },
    {
     "name": "stdout",
     "output_type": "stream",
     "text": [
      "-4.254676267784689\n",
      "84\n",
      "[0.3, 0.8, 0.7, 0.1]\n",
      "tf.Tensor([[0.47163492 0.31603163 0.11696465 0.09536885]], shape=(1, 4), dtype=float32)\n",
      "[0.3, 0.7, 0.7, 0.1]\n",
      "tf.Tensor([[0.5064467  0.3617224  0.07825191 0.05357897]], shape=(1, 4), dtype=float32)\n",
      "[0.3, 0.6, 0.7, 0.1]\n",
      "tf.Tensor([[0.5506302  0.36641684 0.05147163 0.03148136]], shape=(1, 4), dtype=float32)\n",
      "[0.3, 0.5, 0.7, 0.1]\n",
      "tf.Tensor([[0.5863011  0.34981126 0.04070238 0.02318528]], shape=(1, 4), dtype=float32)\n",
      "[0.4, 0.5, 0.7, 0.1]\n",
      "tf.Tensor([[0.5809758  0.35128552 0.04299036 0.02474838]], shape=(1, 4), dtype=float32)\n",
      "[0.4, 0.4, 0.7, 0.1]\n",
      "tf.Tensor([[0.5756137  0.34314245 0.05088047 0.03036344]], shape=(1, 4), dtype=float32)\n",
      "[0.5, 0.4, 0.7, 0.1]\n",
      "tf.Tensor([[0.56975687 0.34579432 0.05272016 0.03172866]], shape=(1, 4), dtype=float32)\n",
      "[0.5, 0.3, 0.7, 0.1]\n",
      "tf.Tensor([[0.5800669  0.33756253 0.05171461 0.03065588]], shape=(1, 4), dtype=float32)\n",
      "[0.6, 0.3, 0.7, 0.1]\n",
      "tf.Tensor([[0.5760313  0.33827677 0.05367278 0.03201909]], shape=(1, 4), dtype=float32)\n",
      "[0.6, 0.2, 0.7, 0.1]\n",
      "tf.Tensor([[0.58588684 0.33081025 0.05249189 0.03081099]], shape=(1, 4), dtype=float32)\n"
     ]
    },
    {
     "name": "stderr",
     "output_type": "stream",
     "text": [
      "  6%|████                                                                   | 5701/100000 [3:29:00<24:43:44,  1.06it/s]"
     ]
    },
    {
     "name": "stdout",
     "output_type": "stream",
     "text": [
      "-6.49100465697789\n",
      "81\n"
     ]
    },
    {
     "name": "stderr",
     "output_type": "stream",
     "text": [
      "  6%|████                                                                   | 5800/100000 [3:30:43<30:11:34,  1.15s/it]"
     ]
    },
    {
     "name": "stdout",
     "output_type": "stream",
     "text": [
      "-2.3086320426624316\n",
      "93\n",
      "[0.9, 0.8, 0.6, 0.2]\n",
      "tf.Tensor([[0.53273547 0.297854   0.09717752 0.07223298]], shape=(1, 4), dtype=float32)\n",
      "[0.9, 0.7, 0.6, 0.2]\n",
      "tf.Tensor([[0.6021802  0.310581   0.05423207 0.03300682]], shape=(1, 4), dtype=float32)\n",
      "[0.9, 0.6, 0.6, 0.2]\n",
      "tf.Tensor([[0.6673442  0.28511363 0.03116185 0.01638035]], shape=(1, 4), dtype=float32)\n",
      "[0.9, 0.5, 0.6, 0.2]\n",
      "tf.Tensor([[0.7098457  0.25983483 0.02065461 0.00966491]], shape=(1, 4), dtype=float32)\n",
      "[0.9, 0.4, 0.6, 0.2]\n"
     ]
    },
    {
     "name": "stderr",
     "output_type": "stream",
     "text": [
      "\r",
      "  6%|████                                                                   | 5801/100000 [3:30:44<29:04:26,  1.11s/it]"
     ]
    },
    {
     "name": "stdout",
     "output_type": "stream",
     "text": [
      "tf.Tensor([[0.7206681  0.24926044 0.02065235 0.00941922]], shape=(1, 4), dtype=float32)\n",
      "[0.8, 0.4, 0.6, 0.2]\n",
      "tf.Tensor([[0.72589266 0.24365026 0.02092665 0.0095304 ]], shape=(1, 4), dtype=float32)\n",
      "[0.7, 0.4, 0.6, 0.2]\n",
      "tf.Tensor([[0.7179701  0.24959052 0.02203707 0.01040235]], shape=(1, 4), dtype=float32)\n",
      "[0.7, 0.3, 0.6, 0.2]\n",
      "tf.Tensor([[0.7154393  0.25089768 0.02275501 0.01090806]], shape=(1, 4), dtype=float32)\n",
      "[0.7, 0.2, 0.6, 0.2]\n",
      "tf.Tensor([[0.7181342  0.24661942 0.02387306 0.01137322]], shape=(1, 4), dtype=float32)\n"
     ]
    },
    {
     "name": "stderr",
     "output_type": "stream",
     "text": [
      "  6%|████▏                                                                  | 5902/100000 [3:32:26<17:12:08,  1.52it/s]"
     ]
    },
    {
     "name": "stdout",
     "output_type": "stream",
     "text": [
      "-2.8848654513719283\n",
      "91\n"
     ]
    },
    {
     "name": "stderr",
     "output_type": "stream",
     "text": [
      "  6%|████▎                                                                  | 6000/100000 [3:34:13<30:46:59,  1.18s/it]"
     ]
    },
    {
     "name": "stdout",
     "output_type": "stream",
     "text": [
      "-3.9114086529438925\n",
      "97\n",
      "[0.7, 0.9, 0.6, 0.2]\n",
      "tf.Tensor([[0.54835725 0.28178352 0.0973824  0.07247682]], shape=(1, 4), dtype=float32)\n",
      "[0.7, 0.8, 0.6, 0.2]\n",
      "tf.Tensor([[0.63405025 0.2821805  0.05192519 0.03184406]], shape=(1, 4), dtype=float32)\n",
      "[0.7, 0.7, 0.6, 0.2]\n",
      "tf.Tensor([[0.71094805 0.24557295 0.02844751 0.01503152]], shape=(1, 4), dtype=float32)\n",
      "[0.7, 0.6, 0.6, 0.2]\n",
      "tf.Tensor([[0.7595212  0.21379058 0.01814692 0.00854119]], shape=(1, 4), dtype=float32)\n",
      "[0.7, 0.5, 0.6, 0.2]\n",
      "tf.Tensor([[0.75920534 0.21275665 0.01902677 0.00901116]], shape=(1, 4), dtype=float32)\n"
     ]
    },
    {
     "name": "stderr",
     "output_type": "stream",
     "text": [
      "\r",
      "  6%|████▎                                                                  | 6001/100000 [3:34:13<24:14:30,  1.08it/s]"
     ]
    },
    {
     "name": "stdout",
     "output_type": "stream",
     "text": [
      "[0.7, 0.4, 0.6, 0.2]\n",
      "tf.Tensor([[0.7588617  0.21159413 0.02000882 0.00953523]], shape=(1, 4), dtype=float32)\n",
      "[0.7, 0.3, 0.6, 0.2]\n",
      "tf.Tensor([[0.7680269  0.20280145 0.01990481 0.0092668 ]], shape=(1, 4), dtype=float32)\n",
      "[0.6, 0.3, 0.6, 0.2]\n",
      "tf.Tensor([[0.7633534  0.20517455 0.02127592 0.01019607]], shape=(1, 4), dtype=float32)\n"
     ]
    },
    {
     "name": "stderr",
     "output_type": "stream",
     "text": [
      "  6%|████▎                                                                  | 6101/100000 [3:35:48<17:07:35,  1.52it/s]"
     ]
    },
    {
     "name": "stdout",
     "output_type": "stream",
     "text": [
      "-1.228955254654907\n",
      "93\n"
     ]
    },
    {
     "name": "stderr",
     "output_type": "stream",
     "text": [
      "  6%|████▍                                                                  | 6201/100000 [3:37:29<31:19:43,  1.20s/it]"
     ]
    },
    {
     "name": "stdout",
     "output_type": "stream",
     "text": [
      "-2.8828824163793025\n",
      "90\n",
      "[0.8, 0.0, 0.6, 0.2]\n",
      "tf.Tensor([[0.6043364  0.21563506 0.10426663 0.07576194]], shape=(1, 4), dtype=float32)\n",
      "[0.7, 0.0, 0.6, 0.2]\n",
      "tf.Tensor([[0.6880678  0.19404718 0.07370687 0.04417824]], shape=(1, 4), dtype=float32)\n",
      "[0.7, 0.1, 0.6, 0.2]\n",
      "tf.Tensor([[0.79702336 0.1483685  0.03645323 0.01815487]], shape=(1, 4), dtype=float32)\n",
      "[0.6, 0.1, 0.6, 0.2]\n",
      "tf.Tensor([[0.84924144 0.11684553 0.02344905 0.01046397]], shape=(1, 4), dtype=float32)\n"
     ]
    },
    {
     "name": "stderr",
     "output_type": "stream",
     "text": [
      "  6%|████▍                                                                  | 6301/100000 [3:38:58<22:01:58,  1.18it/s]"
     ]
    },
    {
     "name": "stdout",
     "output_type": "stream",
     "text": [
      "-1.4846583908029032\n",
      "97\n"
     ]
    },
    {
     "name": "stderr",
     "output_type": "stream",
     "text": [
      "  6%|████▌                                                                  | 6400/100000 [3:40:18<15:37:26,  1.66it/s]"
     ]
    },
    {
     "name": "stdout",
     "output_type": "stream",
     "text": [
      "0.745190531459684\n",
      "99\n",
      "[0.2, 0.6, 0.7, 0.1]\n",
      "tf.Tensor([[0.5395664  0.24079075 0.12053005 0.09911279]], shape=(1, 4), dtype=float32)\n",
      "[0.3, 0.6, 0.7, 0.1]\n",
      "tf.Tensor([[0.63561314 0.24650513 0.07217611 0.04570561]], shape=(1, 4), dtype=float32)\n",
      "[0.3, 0.5, 0.7, 0.1]\n",
      "tf.Tensor([[0.72875684 0.20497087 0.04290003 0.02337226]], shape=(1, 4), dtype=float32)\n",
      "[0.4, 0.5, 0.7, 0.1]\n",
      "tf.Tensor([[0.8049408  0.16302784 0.02187909 0.01015225]], shape=(1, 4), dtype=float32)\n",
      "[0.4, 0.4, 0.7, 0.1]\n"
     ]
    },
    {
     "name": "stderr",
     "output_type": "stream",
     "text": [
      "\r",
      "  6%|████▌                                                                  | 6401/100000 [3:40:19<18:47:54,  1.38it/s]"
     ]
    },
    {
     "name": "stdout",
     "output_type": "stream",
     "text": [
      "tf.Tensor([[0.81775916 0.15257229 0.02041687 0.00925167]], shape=(1, 4), dtype=float32)\n",
      "[0.5, 0.4, 0.7, 0.1]\n",
      "tf.Tensor([[0.80689067 0.16067344 0.02218209 0.01025376]], shape=(1, 4), dtype=float32)\n",
      "[0.5, 0.3, 0.7, 0.1]\n",
      "tf.Tensor([[0.82044536 0.14977992 0.02053915 0.00923568]], shape=(1, 4), dtype=float32)\n",
      "[0.6, 0.3, 0.7, 0.1]\n",
      "tf.Tensor([[0.8109792  0.15657134 0.02226043 0.01018909]], shape=(1, 4), dtype=float32)\n",
      "[0.6, 0.2, 0.7, 0.1]\n",
      "tf.Tensor([[0.8244624  0.14591862 0.02050225 0.00911671]], shape=(1, 4), dtype=float32)\n",
      "[0.7, 0.2, 0.7, 0.1]\n",
      "tf.Tensor([[0.8164205  0.1514249  0.02215097 0.01000362]], shape=(1, 4), dtype=float32)\n"
     ]
    },
    {
     "name": "stderr",
     "output_type": "stream",
     "text": [
      "  7%|████▌                                                                  | 6501/100000 [3:41:44<19:57:51,  1.30it/s]"
     ]
    },
    {
     "name": "stdout",
     "output_type": "stream",
     "text": [
      "0.2457145920360964\n",
      "95\n"
     ]
    },
    {
     "name": "stderr",
     "output_type": "stream",
     "text": [
      "  7%|████▋                                                                  | 6601/100000 [3:43:10<12:18:23,  2.11it/s]"
     ]
    },
    {
     "name": "stdout",
     "output_type": "stream",
     "text": [
      "0.6068910319642453\n",
      "97\n",
      "[0.0, 0.9, 0.5, 0.7]\n",
      "tf.Tensor([[0.5536368  0.23309395 0.11869812 0.09457112]], shape=(1, 4), dtype=float32)\n",
      "[0.1, 0.9, 0.5, 0.7]\n",
      "tf.Tensor([[0.65223247 0.22040479 0.07747956 0.04988326]], shape=(1, 4), dtype=float32)\n",
      "[0.2, 0.9, 0.5, 0.7]\n",
      "tf.Tensor([[0.7604956  0.17618991 0.04135561 0.02195888]], shape=(1, 4), dtype=float32)\n",
      "[0.3, 0.9, 0.5, 0.7]\n",
      "tf.Tensor([[0.8423067  0.12754536 0.02084783 0.00930007]], shape=(1, 4), dtype=float32)\n",
      "[0.4, 0.9, 0.5, 0.7]\n",
      "tf.Tensor([[0.8515565  0.12415221 0.01703792 0.00725342]], shape=(1, 4), dtype=float32)\n",
      "[0.4, 0.8, 0.5, 0.7]\n",
      "tf.Tensor([[0.8631878  0.11524376 0.01526861 0.00629985]], shape=(1, 4), dtype=float32)\n",
      "[0.5, 0.8, 0.5, 0.7]\n",
      "tf.Tensor([[0.8704288  0.11131505 0.01304637 0.00520972]], shape=(1, 4), dtype=float32)\n"
     ]
    },
    {
     "name": "stderr",
     "output_type": "stream",
     "text": [
      "  7%|████▊                                                                  | 6701/100000 [3:44:27<16:42:28,  1.55it/s]"
     ]
    },
    {
     "name": "stdout",
     "output_type": "stream",
     "text": [
      "1.0651930565770533\n",
      "99\n"
     ]
    },
    {
     "name": "stderr",
     "output_type": "stream",
     "text": [
      "  7%|████▊                                                                  | 6800/100000 [3:45:37<19:56:49,  1.30it/s]"
     ]
    },
    {
     "name": "stdout",
     "output_type": "stream",
     "text": [
      "1.8892231268105677\n",
      "100\n",
      "[0.2, 0.4, 0.5, 0.7]\n",
      "tf.Tensor([[0.5245256  0.24215198 0.12664558 0.10667687]], shape=(1, 4), dtype=float32)\n",
      "[0.3, 0.4, 0.5, 0.7]\n",
      "tf.Tensor([[0.6256123  0.21689777 0.09331709 0.0641728 ]], shape=(1, 4), dtype=float32)\n",
      "[0.3, 0.5, 0.5, 0.7]\n",
      "tf.Tensor([[0.7230882  0.18883055 0.05590861 0.03217262]], shape=(1, 4), dtype=float32)\n"
     ]
    },
    {
     "name": "stderr",
     "output_type": "stream",
     "text": [
      "\r",
      "  7%|████▊                                                                  | 6801/100000 [3:45:38<21:28:05,  1.21it/s]"
     ]
    },
    {
     "name": "stdout",
     "output_type": "stream",
     "text": [
      "[0.4, 0.5, 0.5, 0.7]\n",
      "tf.Tensor([[0.82342404 0.1329379  0.02927909 0.01435897]], shape=(1, 4), dtype=float32)\n",
      "[0.4, 0.6, 0.5, 0.7]\n",
      "tf.Tensor([[0.82908213 0.13195801 0.02625731 0.01270262]], shape=(1, 4), dtype=float32)\n",
      "[0.5, 0.6, 0.5, 0.7]\n",
      "tf.Tensor([[0.844193   0.12134568 0.02348481 0.01097659]], shape=(1, 4), dtype=float32)\n"
     ]
    },
    {
     "name": "stderr",
     "output_type": "stream",
     "text": [
      "  7%|████▉                                                                  | 6901/100000 [3:46:52<17:12:16,  1.50it/s]"
     ]
    },
    {
     "name": "stdout",
     "output_type": "stream",
     "text": [
      "1.6709859727832215\n",
      "100\n"
     ]
    },
    {
     "name": "stderr",
     "output_type": "stream",
     "text": [
      "  7%|████▉                                                                  | 7001/100000 [3:48:09<17:38:58,  1.46it/s]"
     ]
    },
    {
     "name": "stdout",
     "output_type": "stream",
     "text": [
      "1.629664449194122\n",
      "98\n",
      "[0.7, 0.6, 0.2, 0.9]\n",
      "tf.Tensor([[0.59965795 0.23629236 0.09549763 0.06855208]], shape=(1, 4), dtype=float32)\n",
      "[0.6, 0.6, 0.2, 0.9]\n",
      "tf.Tensor([[0.765337   0.17914625 0.03606116 0.01945558]], shape=(1, 4), dtype=float32)\n",
      "[0.5, 0.6, 0.2, 0.9]\n",
      "tf.Tensor([[0.86607033 0.11479679 0.01341172 0.00572123]], shape=(1, 4), dtype=float32)\n",
      "[0.4, 0.6, 0.2, 0.9]\n",
      "tf.Tensor([[0.905946   0.08289451 0.00811724 0.00304218]], shape=(1, 4), dtype=float32)\n",
      "[0.4, 0.7, 0.2, 0.9]\n",
      "tf.Tensor([[0.90046066 0.08781181 0.00848547 0.00324197]], shape=(1, 4), dtype=float32)\n",
      "[0.3, 0.7, 0.2, 0.9]\n",
      "tf.Tensor([[0.8928881  0.09171862 0.01097459 0.00441861]], shape=(1, 4), dtype=float32)\n",
      "[0.3, 0.8, 0.2, 0.9]\n",
      "tf.Tensor([[0.8783843  0.10049307 0.01474809 0.00637453]], shape=(1, 4), dtype=float32)\n",
      "[0.3, 0.9, 0.2, 0.9]\n",
      "tf.Tensor([[0.88868564 0.09610382 0.01081261 0.00439783]], shape=(1, 4), dtype=float32)\n"
     ]
    },
    {
     "name": "stderr",
     "output_type": "stream",
     "text": [
      "  7%|█████                                                                  | 7101/100000 [3:49:28<26:19:35,  1.02s/it]"
     ]
    },
    {
     "name": "stdout",
     "output_type": "stream",
     "text": [
      "-0.7089301942242074\n",
      "98\n"
     ]
    },
    {
     "name": "stderr",
     "output_type": "stream",
     "text": [
      "  7%|█████                                                                  | 7201/100000 [3:50:44<16:29:41,  1.56it/s]"
     ]
    },
    {
     "name": "stdout",
     "output_type": "stream",
     "text": [
      "2.559178870748105\n",
      "98\n",
      "[0.5, 0.3, 0.5, 0.7]\n",
      "tf.Tensor([[0.47846603 0.24860315 0.14533284 0.12759793]], shape=(1, 4), dtype=float32)\n",
      "[0.5, 0.4, 0.5, 0.7]\n",
      "tf.Tensor([[0.59379816 0.22544679 0.10561373 0.07514127]], shape=(1, 4), dtype=float32)\n",
      "[0.5, 0.5, 0.5, 0.7]\n",
      "tf.Tensor([[0.7323143  0.17665496 0.05720749 0.03382325]], shape=(1, 4), dtype=float32)\n",
      "[0.5, 0.6, 0.5, 0.7]\n",
      "tf.Tensor([[0.8390697  0.12118801 0.02656753 0.01317481]], shape=(1, 4), dtype=float32)\n"
     ]
    },
    {
     "name": "stderr",
     "output_type": "stream",
     "text": [
      "  7%|█████▏                                                                 | 7301/100000 [3:51:58<20:10:16,  1.28it/s]"
     ]
    },
    {
     "name": "stdout",
     "output_type": "stream",
     "text": [
      "-0.5186290750692756\n",
      "98\n"
     ]
    },
    {
     "name": "stderr",
     "output_type": "stream",
     "text": [
      "  7%|█████▎                                                                 | 7401/100000 [3:53:12<20:15:47,  1.27it/s]"
     ]
    },
    {
     "name": "stdout",
     "output_type": "stream",
     "text": [
      "-0.21456245734368046\n",
      "98\n",
      "[0.5, 0.4, 0.2, 0.9]\n",
      "tf.Tensor([[0.45131412 0.25906447 0.15282069 0.13680069]], shape=(1, 4), dtype=float32)\n",
      "[0.5, 0.5, 0.2, 0.9]\n",
      "tf.Tensor([[0.5721133  0.24282496 0.10727313 0.07778863]], shape=(1, 4), dtype=float32)\n",
      "[0.5, 0.6, 0.2, 0.9]\n",
      "tf.Tensor([[0.75365186 0.18600512 0.03865835 0.02168469]], shape=(1, 4), dtype=float32)\n",
      "[0.4, 0.6, 0.2, 0.9]\n",
      "tf.Tensor([[0.8571802  0.11896291 0.01630595 0.00755093]], shape=(1, 4), dtype=float32)\n",
      "[0.4, 0.7, 0.2, 0.9]\n",
      "tf.Tensor([[0.87000686 0.11327405 0.01163598 0.00508308]], shape=(1, 4), dtype=float32)\n",
      "[0.3, 0.7, 0.2, 0.9]\n",
      "tf.Tensor([[0.8833144  0.10218091 0.01018589 0.00431873]], shape=(1, 4), dtype=float32)\n",
      "[0.3, 0.8, 0.2, 0.9]\n",
      "tf.Tensor([[0.8686839  0.11473447 0.01152174 0.00505989]], shape=(1, 4), dtype=float32)\n",
      "[0.2, 0.8, 0.2, 0.9]\n",
      "tf.Tensor([[0.8825332  0.10313767 0.01005518 0.00427386]], shape=(1, 4), dtype=float32)\n"
     ]
    },
    {
     "name": "stderr",
     "output_type": "stream",
     "text": [
      "  8%|█████▎                                                                 | 7501/100000 [3:54:21<22:03:13,  1.17it/s]"
     ]
    },
    {
     "name": "stdout",
     "output_type": "stream",
     "text": [
      "0.34675283429417025\n",
      "99\n"
     ]
    },
    {
     "name": "stderr",
     "output_type": "stream",
     "text": [
      "  8%|█████▍                                                                 | 7600/100000 [3:55:27<15:26:27,  1.66it/s]"
     ]
    },
    {
     "name": "stdout",
     "output_type": "stream",
     "text": [
      "2.2362570282365213\n",
      "100\n",
      "[0.1, 0.5, 0.6, 0.2]\n",
      "tf.Tensor([[0.4330322  0.26699692 0.15737164 0.14259924]], shape=(1, 4), dtype=float32)\n",
      "[0.2, 0.5, 0.6, 0.2]\n",
      "tf.Tensor([[0.5425182  0.2613008  0.11267219 0.08350877]], shape=(1, 4), dtype=float32)\n",
      "[0.3, 0.5, 0.6, 0.2]\n",
      "tf.Tensor([[0.6863009  0.21997987 0.05886777 0.03485145]], shape=(1, 4), dtype=float32)\n",
      "[0.4, 0.5, 0.6, 0.2]\n",
      "tf.Tensor([[0.8192175  0.15006225 0.02088792 0.00983236]], shape=(1, 4), dtype=float32)\n",
      "[0.4, 0.4, 0.6, 0.2]\n",
      "tf.Tensor([[0.8421322  0.13278008 0.01728071 0.007807  ]], shape=(1, 4), dtype=float32)"
     ]
    },
    {
     "name": "stderr",
     "output_type": "stream",
     "text": [
      "\r",
      "  8%|█████▍                                                                 | 7601/100000 [3:55:27<18:00:56,  1.42it/s]"
     ]
    },
    {
     "name": "stdout",
     "output_type": "stream",
     "text": [
      "\n",
      "[0.5, 0.4, 0.6, 0.2]\n",
      "tf.Tensor([[0.8561192  0.12450035 0.01352934 0.00585101]], shape=(1, 4), dtype=float32)\n",
      "[0.5, 0.3, 0.6, 0.2]\n",
      "tf.Tensor([[0.86989367 0.11481484 0.01081903 0.00447249]], shape=(1, 4), dtype=float32)\n",
      "[0.5, 0.2, 0.6, 0.2]\n",
      "tf.Tensor([[0.8674627  0.11448684 0.01271017 0.00534033]], shape=(1, 4), dtype=float32)\n"
     ]
    },
    {
     "name": "stderr",
     "output_type": "stream",
     "text": [
      "  8%|█████▍                                                                 | 7701/100000 [3:56:42<16:33:18,  1.55it/s]"
     ]
    },
    {
     "name": "stdout",
     "output_type": "stream",
     "text": [
      "0.4641843849443009\n",
      "97\n"
     ]
    },
    {
     "name": "stderr",
     "output_type": "stream",
     "text": [
      "  8%|█████▌                                                                 | 7800/100000 [3:57:39<18:38:08,  1.37it/s]"
     ]
    },
    {
     "name": "stdout",
     "output_type": "stream",
     "text": [
      "3.20892144529892\n",
      "100\n",
      "[0.4, 0.3, 0.5, 0.7]\n",
      "tf.Tensor([[0.41091365 0.2722248  0.16420904 0.1526525 ]], shape=(1, 4), dtype=float32)\n",
      "[0.4, 0.4, 0.5, 0.7]\n",
      "tf.Tensor([[0.5278412  0.26730254 0.11547244 0.08938381]], shape=(1, 4), dtype=float32)\n",
      "[0.4, 0.5, 0.5, 0.7]\n",
      "tf.Tensor([[0.68883264 0.2187254  0.05626689 0.03617509]], shape=(1, 4), dtype=float32)\n",
      "[0.4, 0.6, 0.5, 0.7]\n"
     ]
    },
    {
     "name": "stderr",
     "output_type": "stream",
     "text": [
      "\r",
      "  8%|█████▌                                                                 | 7801/100000 [3:57:39<18:16:25,  1.40it/s]"
     ]
    },
    {
     "name": "stdout",
     "output_type": "stream",
     "text": [
      "tf.Tensor([[0.81138307 0.15653165 0.02097102 0.01111432]], shape=(1, 4), dtype=float32)\n",
      "[0.5, 0.6, 0.5, 0.7]\n",
      "tf.Tensor([[0.82707757 0.1452241  0.01828052 0.00941772]], shape=(1, 4), dtype=float32)\n"
     ]
    },
    {
     "name": "stderr",
     "output_type": "stream",
     "text": [
      "  8%|█████▌                                                                 | 7901/100000 [3:58:48<16:15:06,  1.57it/s]"
     ]
    },
    {
     "name": "stdout",
     "output_type": "stream",
     "text": [
      "2.180718053848671\n",
      "98\n"
     ]
    },
    {
     "name": "stderr",
     "output_type": "stream",
     "text": [
      "  8%|█████▋                                                                 | 8000/100000 [3:59:50<15:55:01,  1.61it/s]"
     ]
    },
    {
     "name": "stdout",
     "output_type": "stream",
     "text": [
      "3.5683198720328893\n",
      "100\n",
      "[0.2, 0.9, 0.7, 0.4]\n",
      "tf.Tensor([[0.38990533 0.2860681  0.16644324 0.15758334]], shape=(1, 4), dtype=float32)\n",
      "[0.3, 0.9, 0.7, 0.4]\n",
      "tf.Tensor([[0.5191784  0.33217743 0.08559047 0.06305368]], shape=(1, 4), dtype=float32)\n",
      "[0.3, 0.8, 0.7, 0.4]\n",
      "tf.Tensor([[0.69923335 0.248747   0.03249554 0.0195241 ]], shape=(1, 4), dtype=float32)\n",
      "[0.4, 0.8, 0.7, 0.4]\n",
      "tf.Tensor([[0.8142444  0.16959423 0.01086771 0.00529367]], shape=(1, 4), dtype=float32)\n",
      "[0.4, 0.7, 0.7, 0.4]\n",
      "tf.Tensor([[0.8338414  0.15232529 0.00938604 0.00444731]], shape=(1, 4), dtype=float32)\n",
      "[0.5, 0.7, 0.7, 0.4]\n"
     ]
    },
    {
     "name": "stderr",
     "output_type": "stream",
     "text": [
      "\r",
      "  8%|█████▋                                                                 | 8001/100000 [3:59:50<15:00:28,  1.70it/s]"
     ]
    },
    {
     "name": "stdout",
     "output_type": "stream",
     "text": [
      "tf.Tensor([[0.8185757  0.16552477 0.01071569 0.00518388]], shape=(1, 4), dtype=float32)\n",
      "[0.5, 0.6, 0.7, 0.4]\n",
      "tf.Tensor([[0.8380507  0.1483382  0.00926402 0.00434702]], shape=(1, 4), dtype=float32)\n",
      "[0.6, 0.6, 0.7, 0.4]\n",
      "tf.Tensor([[0.8235596  0.16083306 0.01055244 0.00505499]], shape=(1, 4), dtype=float32)\n",
      "[0.6, 0.5, 0.7, 0.4]\n",
      "tf.Tensor([[0.8427393  0.14392738 0.00911031 0.00422306]], shape=(1, 4), dtype=float32)\n",
      "[0.7, 0.5, 0.7, 0.4]\n",
      "tf.Tensor([[0.8300371  0.15480267 0.01030103 0.00485923]], shape=(1, 4), dtype=float32)\n"
     ]
    },
    {
     "name": "stderr",
     "output_type": "stream",
     "text": [
      "  8%|█████▊                                                                 | 8101/100000 [4:00:55<14:46:52,  1.73it/s]"
     ]
    },
    {
     "name": "stdout",
     "output_type": "stream",
     "text": [
      "3.1100901573807103\n",
      "100\n"
     ]
    },
    {
     "name": "stderr",
     "output_type": "stream",
     "text": [
      "  8%|█████▊                                                                 | 8200/100000 [4:01:53<10:28:35,  2.43it/s]"
     ]
    },
    {
     "name": "stdout",
     "output_type": "stream",
     "text": [
      "3.5909957717254404\n",
      "100\n",
      "[0.9, 0.8, 0.7, 0.1]\n",
      "tf.Tensor([[0.38755113 0.30644858 0.16055372 0.14544657]], shape=(1, 4), dtype=float32)\n",
      "[0.9, 0.7, 0.7, 0.1]\n",
      "tf.Tensor([[0.5913425  0.30753437 0.05916277 0.0419604 ]], shape=(1, 4), dtype=float32)\n",
      "[0.9, 0.6, 0.7, 0.1]\n",
      "tf.Tensor([[0.78860104 0.18804048 0.01510332 0.0082552 ]], shape=(1, 4), dtype=float32)"
     ]
    },
    {
     "name": "stderr",
     "output_type": "stream",
     "text": [
      "\r",
      "  8%|█████▊                                                                 | 8201/100000 [4:01:54<15:58:12,  1.60it/s]"
     ]
    },
    {
     "name": "stdout",
     "output_type": "stream",
     "text": [
      "\n",
      "[0.9, 0.5, 0.7, 0.1]\n",
      "tf.Tensor([[0.8762661  0.11595191 0.00534165 0.00244038]], shape=(1, 4), dtype=float32)\n",
      "[0.9, 0.4, 0.7, 0.1]\n",
      "tf.Tensor([[0.8772413  0.11471166 0.00552114 0.00252585]], shape=(1, 4), dtype=float32)\n",
      "[0.9, 0.3, 0.7, 0.1]\n",
      "tf.Tensor([[0.88639134 0.10607678 0.00520414 0.00232775]], shape=(1, 4), dtype=float32)\n",
      "[0.8, 0.3, 0.7, 0.1]\n",
      "tf.Tensor([[0.8823961  0.10930733 0.00569326 0.00260326]], shape=(1, 4), dtype=float32)\n",
      "[0.8, 0.2, 0.7, 0.1]\n",
      "tf.Tensor([[0.8813468  0.10998312 0.00593995 0.00273005]], shape=(1, 4), dtype=float32)\n",
      "[0.8, 0.1, 0.7, 0.1]\n",
      "tf.Tensor([[0.8888053  0.1029904  0.00565227 0.00255197]], shape=(1, 4), dtype=float32)\n"
     ]
    },
    {
     "name": "stderr",
     "output_type": "stream",
     "text": [
      "  8%|█████▉                                                                 | 8301/100000 [4:02:52<22:53:11,  1.11it/s]"
     ]
    },
    {
     "name": "stdout",
     "output_type": "stream",
     "text": [
      "1.4061119381214044\n",
      "99\n"
     ]
    },
    {
     "name": "stderr",
     "output_type": "stream",
     "text": [
      "  8%|█████▉                                                                 | 8401/100000 [4:03:52<19:58:20,  1.27it/s]"
     ]
    },
    {
     "name": "stdout",
     "output_type": "stream",
     "text": [
      "2.9740958691091173\n",
      "100\n",
      "[0.6, 0.1, 0.7, 0.1]\n",
      "tf.Tensor([[0.30338717 0.2628219  0.21004999 0.22374095]], shape=(1, 4), dtype=float32)\n"
     ]
    },
    {
     "name": "stderr",
     "output_type": "stream",
     "text": [
      "  9%|██████                                                                 | 8501/100000 [4:04:48<20:38:05,  1.23it/s]"
     ]
    },
    {
     "name": "stdout",
     "output_type": "stream",
     "text": [
      "3.2396484833563854\n",
      "100\n"
     ]
    },
    {
     "name": "stderr",
     "output_type": "stream",
     "text": [
      "  9%|██████▏                                                                 | 8600/100000 [4:05:44<9:21:31,  2.71it/s]"
     ]
    },
    {
     "name": "stdout",
     "output_type": "stream",
     "text": [
      "3.905799200423398\n",
      "100\n",
      "[0.9, 0.2, 0.7, 0.1]\n",
      "tf.Tensor([[0.29419163 0.26327944 0.2170581  0.2254708 ]], shape=(1, 4), dtype=float32)\n",
      "[0.8, 0.2, 0.7, 0.1]\n",
      "tf.Tensor([[0.48670468 0.3129837  0.11218742 0.08812427]], shape=(1, 4), dtype=float32)\n",
      "[0.8, 0.1, 0.7, 0.1]\n",
      "tf.Tensor([[0.784223   0.17983225 0.02260254 0.01334219]], shape=(1, 4), dtype=float32)\n"
     ]
    },
    {
     "name": "stderr",
     "output_type": "stream",
     "text": [
      "  9%|██████▏                                                                | 8701/100000 [4:06:48<17:30:22,  1.45it/s]"
     ]
    },
    {
     "name": "stdout",
     "output_type": "stream",
     "text": [
      "2.6419490945209403\n",
      "100\n"
     ]
    },
    {
     "name": "stderr",
     "output_type": "stream",
     "text": [
      "  9%|██████▏                                                                | 8801/100000 [4:07:40<14:03:09,  1.80it/s]"
     ]
    },
    {
     "name": "stdout",
     "output_type": "stream",
     "text": [
      "4.438755678663934\n",
      "100\n",
      "[0.9, 0.4, 0.6, 0.2]\n",
      "tf.Tensor([[0.23074462 0.24570557 0.24238499 0.28116488]], shape=(1, 4), dtype=float32)\n",
      "[0.5, 0.4, 0.6, 0.2]\n",
      "tf.Tensor([[0.41170418 0.3268661  0.14247824 0.11895151]], shape=(1, 4), dtype=float32)\n",
      "[0.5, 0.3, 0.6, 0.2]\n",
      "tf.Tensor([[0.76431376 0.18608938 0.03053294 0.01906398]], shape=(1, 4), dtype=float32)\n",
      "[0.6, 0.3, 0.6, 0.2]\n",
      "tf.Tensor([[0.910304   0.08122549 0.00577635 0.00269413]], shape=(1, 4), dtype=float32)\n"
     ]
    },
    {
     "name": "stderr",
     "output_type": "stream",
     "text": [
      "  9%|██████▎                                                                | 8901/100000 [4:08:34<11:10:06,  2.27it/s]"
     ]
    },
    {
     "name": "stdout",
     "output_type": "stream",
     "text": [
      "4.3686320005693435\n",
      "99\n"
     ]
    },
    {
     "name": "stderr",
     "output_type": "stream",
     "text": [
      "  9%|██████▍                                                                | 9001/100000 [4:09:28<18:27:21,  1.37it/s]"
     ]
    },
    {
     "name": "stdout",
     "output_type": "stream",
     "text": [
      "3.05819122986981\n",
      "99\n",
      "[0.7, 0.5, 0.6, 0.2]\n",
      "tf.Tensor([[0.18866302 0.20591067 0.2750724  0.33035395]], shape=(1, 4), dtype=float32)\n",
      "[0.7, 0.1, 0.6, 0.2]\n",
      "tf.Tensor([[0.29308778 0.28908983 0.21604721 0.20177525]], shape=(1, 4), dtype=float32)\n",
      "[0.6, 0.1, 0.6, 0.2]\n",
      "tf.Tensor([[0.6991955  0.21562521 0.05100296 0.03417636]], shape=(1, 4), dtype=float32)\n"
     ]
    },
    {
     "name": "stderr",
     "output_type": "stream",
     "text": [
      "  9%|██████▍                                                                | 9101/100000 [4:10:19<11:13:48,  2.25it/s]"
     ]
    },
    {
     "name": "stdout",
     "output_type": "stream",
     "text": [
      "5.361024141756785\n",
      "100\n"
     ]
    },
    {
     "name": "stderr",
     "output_type": "stream",
     "text": [
      "  9%|██████▌                                                                | 9201/100000 [4:11:13<10:46:42,  2.34it/s]"
     ]
    },
    {
     "name": "stdout",
     "output_type": "stream",
     "text": [
      "4.7155618739696825\n",
      "100\n",
      "[0.5, 0.3, 0.5, 0.7]\n",
      "tf.Tensor([[0.1797729  0.1864419  0.27222255 0.3615626 ]], shape=(1, 4), dtype=float32)\n"
     ]
    },
    {
     "name": "stderr",
     "output_type": "stream",
     "text": [
      "  9%|██████▌                                                                | 9301/100000 [4:12:06<10:41:06,  2.36it/s]"
     ]
    },
    {
     "name": "stdout",
     "output_type": "stream",
     "text": [
      "3.771492369440766\n",
      "99\n"
     ]
    },
    {
     "name": "stderr",
     "output_type": "stream",
     "text": [
      "  9%|██████▋                                                                | 9401/100000 [4:12:58<13:08:35,  1.91it/s]"
     ]
    },
    {
     "name": "stdout",
     "output_type": "stream",
     "text": [
      "4.058305059663922\n",
      "100\n",
      "[0.1, 0.6, 0.1, 0.1]\n",
      "tf.Tensor([[0.1659738  0.19215484 0.2494671  0.39240426]], shape=(1, 4), dtype=float32)\n",
      "[0.1, 0.2, 0.1, 0.1]\n",
      "tf.Tensor([[0.1718823  0.22097033 0.2519158  0.3552315 ]], shape=(1, 4), dtype=float32)\n",
      "[0.1, 0.0, 0.1, 0.1]\n",
      "tf.Tensor([[0.36367336 0.309346   0.17410919 0.15287147]], shape=(1, 4), dtype=float32)\n"
     ]
    },
    {
     "name": "stderr",
     "output_type": "stream",
     "text": [
      " 10%|██████▋                                                                | 9501/100000 [4:13:50<12:05:09,  2.08it/s]"
     ]
    },
    {
     "name": "stdout",
     "output_type": "stream",
     "text": [
      "4.331072472192809\n",
      "100\n"
     ]
    },
    {
     "name": "stderr",
     "output_type": "stream",
     "text": [
      " 10%|██████▊                                                                | 9600/100000 [4:14:43<14:19:15,  1.75it/s]"
     ]
    },
    {
     "name": "stdout",
     "output_type": "stream",
     "text": [
      "3.1342634989477314\n",
      "100\n",
      "[0.2, 0.6, 0.5, 0.7]\n",
      "tf.Tensor([[0.16191974 0.19584955 0.26172116 0.38050947]], shape=(1, 4), dtype=float32)\n",
      "[0.6, 0.6, 0.5, 0.7]\n",
      "tf.Tensor([[0.16361663 0.21437427 0.26516256 0.35684657]], shape=(1, 4), dtype=float32)\n",
      "[0.6, 1.0, 0.5, 0.7]\n",
      "tf.Tensor([[0.3637705  0.35563117 0.1514775  0.12912081]], shape=(1, 4), dtype=float32)\n",
      "[0.6, 0.9, 0.5, 0.7]\n",
      "tf.Tensor([[0.88605016 0.10033333 0.00919623 0.00442029]], shape=(1, 4), dtype=float32)\n",
      "[0.6, 0.8, 0.5, 0.7]\n",
      "tf.Tensor([[0.9123315  0.07945302 0.0056723  0.00254316]], shape=(1, 4), dtype=float32)\n",
      "[0.6, 0.7, 0.5, 0.7]\n"
     ]
    },
    {
     "name": "stderr",
     "output_type": "stream",
     "text": [
      "\r",
      " 10%|██████▊                                                                | 9601/100000 [4:14:44<16:46:44,  1.50it/s]"
     ]
    },
    {
     "name": "stdout",
     "output_type": "stream",
     "text": [
      "tf.Tensor([[0.93566203 0.05954504 0.00341103 0.0013818 ]], shape=(1, 4), dtype=float32)\n"
     ]
    },
    {
     "name": "stderr",
     "output_type": "stream",
     "text": [
      " 10%|██████▉                                                                | 9701/100000 [4:15:34<13:40:51,  1.83it/s]"
     ]
    },
    {
     "name": "stdout",
     "output_type": "stream",
     "text": [
      "4.374103481750233\n",
      "100\n"
     ]
    },
    {
     "name": "stderr",
     "output_type": "stream",
     "text": [
      " 10%|██████▉                                                                | 9801/100000 [4:16:26<14:41:11,  1.71it/s]"
     ]
    },
    {
     "name": "stdout",
     "output_type": "stream",
     "text": [
      "4.335904591918212\n",
      "100\n",
      "[0.5, 0.5, 0.2, 0.9]\n",
      "tf.Tensor([[0.14600588 0.18378651 0.24930423 0.42090338]], shape=(1, 4), dtype=float32)\n",
      "[0.5, 0.9, 0.2, 0.9]\n",
      "tf.Tensor([[0.14692818 0.22537805 0.25406632 0.37362745]], shape=(1, 4), dtype=float32)\n",
      "[0.1, 0.9, 0.2, 0.9]\n",
      "tf.Tensor([[0.53800356 0.29687783 0.09258747 0.07253115]], shape=(1, 4), dtype=float32)\n"
     ]
    },
    {
     "name": "stderr",
     "output_type": "stream",
     "text": [
      " 10%|███████                                                                | 9901/100000 [4:17:15<10:43:22,  2.33it/s]"
     ]
    },
    {
     "name": "stdout",
     "output_type": "stream",
     "text": [
      "4.994018432222378\n",
      "100\n"
     ]
    },
    {
     "name": "stderr",
     "output_type": "stream",
     "text": [
      " 10%|███████                                                               | 10001/100000 [4:18:02<12:52:43,  1.94it/s]"
     ]
    },
    {
     "name": "stdout",
     "output_type": "stream",
     "text": [
      "4.989954862495231\n",
      "100\n",
      "[0.6, 0.1, 0.1, 0.1]\n",
      "tf.Tensor([[0.12726048 0.18000928 0.24853078 0.4441995 ]], shape=(1, 4), dtype=float32)\n",
      "[0.2, 0.1, 0.1, 0.1]\n",
      "tf.Tensor([[0.13413021 0.21157981 0.25992873 0.3943612 ]], shape=(1, 4), dtype=float32)\n",
      "[0.0, 0.1, 0.1, 0.1]\n",
      "tf.Tensor([[0.43364322 0.30575955 0.14242154 0.11817572]], shape=(1, 4), dtype=float32)\n"
     ]
    },
    {
     "name": "stderr",
     "output_type": "stream",
     "text": [
      " 10%|███████                                                               | 10101/100000 [4:18:55<13:45:37,  1.81it/s]"
     ]
    },
    {
     "name": "stdout",
     "output_type": "stream",
     "text": [
      "4.246555746402286\n",
      "100\n"
     ]
    },
    {
     "name": "stderr",
     "output_type": "stream",
     "text": [
      " 10%|███████▏                                                              | 10200/100000 [4:19:44<11:25:22,  2.18it/s]"
     ]
    },
    {
     "name": "stdout",
     "output_type": "stream",
     "text": [
      "5.034983995739461\n",
      "100\n",
      "[0.1, 0.5, 0.7, 0.4]\n",
      "tf.Tensor([[0.13240567 0.17281124 0.24200705 0.4527761 ]], shape=(1, 4), dtype=float32)\n",
      "[0.5, 0.5, 0.7, 0.4]\n",
      "tf.Tensor([[0.13489574 0.19384474 0.25061932 0.4206402 ]], shape=(1, 4), dtype=float32)\n",
      "[0.9, 0.5, 0.7, 0.4]\n",
      "tf.Tensor([[0.36358637 0.3448834  0.15463813 0.13689215]], shape=(1, 4), dtype=float32)\n",
      "[0.8, 0.5, 0.7, 0.4]\n",
      "tf.Tensor([[0.9587418  0.03696472 0.00313456 0.00115889]], shape=(1, 4), dtype=float32)\n",
      "[0.8, 0.4, 0.7, 0.4]\n",
      "tf.Tensor([[9.7567517e-01 2.2429477e-02 1.4340742e-03 4.6127290e-04]], shape=(1, 4), dtype=float32)\n"
     ]
    },
    {
     "name": "stderr",
     "output_type": "stream",
     "text": [
      " 10%|███████▏                                                              | 10301/100000 [4:20:30<15:24:48,  1.62it/s]"
     ]
    },
    {
     "name": "stdout",
     "output_type": "stream",
     "text": [
      "4.563073751638702\n",
      "100\n"
     ]
    },
    {
     "name": "stderr",
     "output_type": "stream",
     "text": [
      " 10%|███████▎                                                              | 10400/100000 [4:21:22<11:04:01,  2.25it/s]"
     ]
    },
    {
     "name": "stdout",
     "output_type": "stream",
     "text": [
      "4.324985710257726\n",
      "100\n",
      "[0.6, 0.8, 0.5, 0.7]\n",
      "tf.Tensor([[0.10613639 0.18132372 0.23313501 0.47940487]], shape=(1, 4), dtype=float32)\n",
      "[0.2, 0.8, 0.5, 0.7]\n",
      "tf.Tensor([[0.12409481 0.23354587 0.24280219 0.3995571 ]], shape=(1, 4), dtype=float32)\n",
      "[0.6, 0.8, 0.5, 0.7]\n",
      "tf.Tensor([[0.72510463 0.22085994 0.03272644 0.02130894]], shape=(1, 4), dtype=float32)\n",
      "[0.5, 0.8, 0.5, 0.7]\n",
      "tf.Tensor([[9.7629720e-01 2.2137115e-02 1.1773993e-03 3.8831469e-04]], shape=(1, 4), dtype=float32)\n"
     ]
    },
    {
     "name": "stderr",
     "output_type": "stream",
     "text": [
      " 11%|███████▎                                                              | 10501/100000 [4:22:09<10:17:24,  2.42it/s]"
     ]
    },
    {
     "name": "stdout",
     "output_type": "stream",
     "text": [
      "5.4331052528507655\n",
      "100\n"
     ]
    },
    {
     "name": "stderr",
     "output_type": "stream",
     "text": [
      " 11%|███████▍                                                              | 10600/100000 [4:23:02<19:53:25,  1.25it/s]"
     ]
    },
    {
     "name": "stdout",
     "output_type": "stream",
     "text": [
      "3.914569499457906\n",
      "100\n",
      "[0.8, 0.9, 0.5, 0.7]\n",
      "tf.Tensor([[0.10527518 0.17994338 0.24310915 0.47167227]], shape=(1, 4), dtype=float32)\n",
      "[0.4, 0.9, 0.5, 0.7]\n",
      "tf.Tensor([[0.12383544 0.274793   0.23603654 0.36533496]], shape=(1, 4), dtype=float32)\n",
      "[0.4, 0.5, 0.5, 0.7]\n",
      "tf.Tensor([[0.7626411  0.1924819  0.02854026 0.01633675]], shape=(1, 4), dtype=float32)\n",
      "[0.4, 0.6, 0.5, 0.7]\n",
      "tf.Tensor([[9.7881168e-01 1.9784171e-02 1.0873196e-03 3.1680666e-04]], shape=(1, 4), dtype=float32)\n",
      "[0.5, 0.6, 0.5, 0.7]\n"
     ]
    },
    {
     "name": "stderr",
     "output_type": "stream",
     "text": [
      "\r",
      " 11%|███████▍                                                              | 10601/100000 [4:23:02<18:59:57,  1.31it/s]"
     ]
    },
    {
     "name": "stdout",
     "output_type": "stream",
     "text": [
      "tf.Tensor([[9.7075361e-01 2.6553204e-02 2.0400835e-03 6.5308972e-04]], shape=(1, 4), dtype=float32)\n"
     ]
    },
    {
     "name": "stderr",
     "output_type": "stream",
     "text": [
      " 11%|███████▍                                                              | 10701/100000 [4:23:51<12:11:17,  2.04it/s]"
     ]
    },
    {
     "name": "stdout",
     "output_type": "stream",
     "text": [
      "5.014662997487941\n",
      "100\n"
     ]
    },
    {
     "name": "stderr",
     "output_type": "stream",
     "text": [
      " 11%|███████▌                                                              | 10800/100000 [4:24:39<11:16:18,  2.20it/s]"
     ]
    },
    {
     "name": "stdout",
     "output_type": "stream",
     "text": [
      "5.19295420851184\n",
      "100\n",
      "[0.2, 0.9, 0.6, 0.2]\n",
      "tf.Tensor([[0.10561407 0.17208095 0.23551722 0.48678777]], shape=(1, 4), dtype=float32)\n",
      "[0.2, 0.5, 0.6, 0.2]\n",
      "tf.Tensor([[0.11486059 0.2053743  0.2499575  0.42980757]], shape=(1, 4), dtype=float32)\n",
      "[0.6, 0.5, 0.6, 0.2]\n",
      "tf.Tensor([[0.3263642  0.42009705 0.13995908 0.11357964]], shape=(1, 4), dtype=float32)\n",
      "[0.6, 0.3, 0.6, 0.2]\n"
     ]
    },
    {
     "name": "stderr",
     "output_type": "stream",
     "text": [
      "\r",
      " 11%|███████▌                                                              | 10801/100000 [4:24:40<12:11:35,  2.03it/s]"
     ]
    },
    {
     "name": "stdout",
     "output_type": "stream",
     "text": [
      "tf.Tensor([[9.5790917e-01 3.8996622e-02 2.3246221e-03 7.6963473e-04]], shape=(1, 4), dtype=float32)\n"
     ]
    },
    {
     "name": "stderr",
     "output_type": "stream",
     "text": [
      " 11%|███████▋                                                              | 10901/100000 [4:25:28<15:39:32,  1.58it/s]"
     ]
    },
    {
     "name": "stdout",
     "output_type": "stream",
     "text": [
      "4.613209764208768\n",
      "100\n"
     ]
    },
    {
     "name": "stderr",
     "output_type": "stream",
     "text": [
      " 11%|███████▋                                                              | 11001/100000 [4:26:19<18:38:20,  1.33it/s]"
     ]
    },
    {
     "name": "stdout",
     "output_type": "stream",
     "text": [
      "4.229167539440434\n",
      "100\n",
      "[0.4, 0.9, 0.6, 0.2]\n",
      "tf.Tensor([[0.08691638 0.16953349 0.24340443 0.5001457 ]], shape=(1, 4), dtype=float32)\n",
      "[0.4, 0.5, 0.6, 0.2]\n",
      "tf.Tensor([[0.08995212 0.21187344 0.2573226  0.44085184]], shape=(1, 4), dtype=float32)\n",
      "[0.4, 0.1, 0.6, 0.2]\n",
      "tf.Tensor([[0.3738119  0.41558665 0.11768539 0.09291601]], shape=(1, 4), dtype=float32)\n",
      "[0.6, 0.1, 0.6, 0.2]\n",
      "tf.Tensor([[9.7317988e-01 2.4784781e-02 1.5464554e-03 4.8882427e-04]], shape=(1, 4), dtype=float32)\n"
     ]
    },
    {
     "name": "stderr",
     "output_type": "stream",
     "text": [
      " 11%|███████▊                                                              | 11101/100000 [4:27:03<11:52:57,  2.08it/s]"
     ]
    },
    {
     "name": "stdout",
     "output_type": "stream",
     "text": [
      "5.678780385686201\n",
      "100\n"
     ]
    },
    {
     "name": "stderr",
     "output_type": "stream",
     "text": [
      " 11%|███████▊                                                              | 11200/100000 [4:27:49<11:50:32,  2.08it/s]"
     ]
    },
    {
     "name": "stdout",
     "output_type": "stream",
     "text": [
      "5.109132018166105\n",
      "100\n",
      "[0.6, 0.8, 0.7, 0.4]\n",
      "tf.Tensor([[0.08304791 0.1829005  0.2298056  0.50424594]], shape=(1, 4), dtype=float32)\n",
      "[0.6, 0.4, 0.7, 0.4]\n",
      "tf.Tensor([[0.09235923 0.2546223  0.23536812 0.41765034]], shape=(1, 4), dtype=float32)\n",
      "[1.0, 0.4, 0.7, 0.4]\n"
     ]
    },
    {
     "name": "stderr",
     "output_type": "stream",
     "text": [
      "\r",
      " 11%|███████▊                                                              | 11201/100000 [4:27:50<12:59:45,  1.90it/s]"
     ]
    },
    {
     "name": "stdout",
     "output_type": "stream",
     "text": [
      "tf.Tensor([[0.55223334 0.37957656 0.04093564 0.02725443]], shape=(1, 4), dtype=float32)\n",
      "[0.9, 0.4, 0.7, 0.4]\n",
      "tf.Tensor([[9.7446895e-01 2.4653735e-02 6.7945279e-04 1.9778710e-04]], shape=(1, 4), dtype=float32)\n",
      "[0.8, 0.4, 0.7, 0.4]\n",
      "tf.Tensor([[9.7648275e-01 2.2720255e-02 6.1979430e-04 1.7722332e-04]], shape=(1, 4), dtype=float32)\n"
     ]
    },
    {
     "name": "stderr",
     "output_type": "stream",
     "text": [
      " 11%|███████▉                                                              | 11301/100000 [4:28:36<11:49:19,  2.08it/s]"
     ]
    },
    {
     "name": "stdout",
     "output_type": "stream",
     "text": [
      "5.1205705210869805\n",
      "100\n"
     ]
    },
    {
     "name": "stderr",
     "output_type": "stream",
     "text": [
      " 11%|███████▉                                                              | 11400/100000 [4:29:21<11:57:06,  2.06it/s]"
     ]
    },
    {
     "name": "stdout",
     "output_type": "stream",
     "text": [
      "5.083083693660185\n",
      "100\n",
      "[0.3, 0.2, 0.1, 0.1]\n",
      "tf.Tensor([[0.07453217 0.17833461 0.2363406  0.5107926 ]], shape=(1, 4), dtype=float32)\n",
      "[0.0, 0.2, 0.1, 0.1]\n",
      "tf.Tensor([[0.08895692 0.21398675 0.25107396 0.4459823 ]], shape=(1, 4), dtype=float32)\n",
      "[0.4, 0.2, 0.1, 0.1]\n",
      "tf.Tensor([[0.33752325 0.4576801  0.11218115 0.09261546]], shape=(1, 4), dtype=float32)\n",
      "[0.2, 0.2, 0.1, 0.1]\n",
      "tf.Tensor([[9.6086025e-01 3.7033979e-02 1.5659888e-03 5.3975737e-04]], shape=(1, 4), dtype=float32)\n",
      "[0.2, 0.1, 0.1, 0.1]\n"
     ]
    },
    {
     "name": "stderr",
     "output_type": "stream",
     "text": [
      "\r",
      " 11%|███████▉                                                              | 11401/100000 [4:29:22<12:46:13,  1.93it/s]"
     ]
    },
    {
     "name": "stdout",
     "output_type": "stream",
     "text": [
      "tf.Tensor([[9.5069367e-01 4.6437435e-02 2.1102168e-03 7.5866590e-04]], shape=(1, 4), dtype=float32)\n"
     ]
    },
    {
     "name": "stderr",
     "output_type": "stream",
     "text": [
      " 12%|████████                                                              | 11501/100000 [4:30:08<12:19:53,  1.99it/s]"
     ]
    },
    {
     "name": "stdout",
     "output_type": "stream",
     "text": [
      "4.78144778668653\n",
      "100\n"
     ]
    },
    {
     "name": "stderr",
     "output_type": "stream",
     "text": [
      " 12%|████████                                                              | 11600/100000 [4:30:52<10:13:57,  2.40it/s]"
     ]
    },
    {
     "name": "stdout",
     "output_type": "stream",
     "text": [
      "5.77928912493152\n",
      "100\n",
      "[0.3, 0.1, 0.1, 0.1]\n",
      "tf.Tensor([[0.06510504 0.16815291 0.22520156 0.54154056]], shape=(1, 4), dtype=float32)\n",
      "[0.0, 0.1, 0.1, 0.1]\n",
      "tf.Tensor([[0.07842983 0.20103331 0.24139434 0.47914255]], shape=(1, 4), dtype=float32)\n",
      "[0.4, 0.1, 0.1, 0.1]\n",
      "tf.Tensor([[0.24200033 0.4703819  0.14725526 0.14036252]], shape=(1, 4), dtype=float32)\n"
     ]
    },
    {
     "name": "stderr",
     "output_type": "stream",
     "text": [
      "\r",
      " 12%|████████                                                              | 11601/100000 [4:30:52<10:54:22,  2.25it/s]"
     ]
    },
    {
     "name": "stdout",
     "output_type": "stream",
     "text": [
      "[0.2, 0.1, 0.1, 0.1]\n",
      "tf.Tensor([[9.6526039e-01 3.3109922e-02 1.2379716e-03 3.9176905e-04]], shape=(1, 4), dtype=float32)\n"
     ]
    },
    {
     "name": "stderr",
     "output_type": "stream",
     "text": [
      " 12%|████████▎                                                              | 11701/100000 [4:31:38<9:27:06,  2.60it/s]"
     ]
    },
    {
     "name": "stdout",
     "output_type": "stream",
     "text": [
      "5.775785913342734\n",
      "100\n"
     ]
    },
    {
     "name": "stderr",
     "output_type": "stream",
     "text": [
      " 12%|████████▎                                                             | 11801/100000 [4:32:21<11:59:25,  2.04it/s]"
     ]
    },
    {
     "name": "stdout",
     "output_type": "stream",
     "text": [
      "5.680210224739127\n",
      "100\n",
      "[0.7, 0.8, 0.7, 0.1]\n",
      "tf.Tensor([[0.05942981 0.15911607 0.21484888 0.56660527]], shape=(1, 4), dtype=float32)\n",
      "[0.7, 0.4, 0.7, 0.1]\n",
      "tf.Tensor([[0.06621259 0.26919994 0.2145404  0.4500471 ]], shape=(1, 4), dtype=float32)\n",
      "[0.7, 0.0, 0.7, 0.1]\n",
      "tf.Tensor([[0.5873188  0.36173072 0.03108881 0.01986169]], shape=(1, 4), dtype=float32)\n"
     ]
    },
    {
     "name": "stderr",
     "output_type": "stream",
     "text": [
      " 12%|████████▎                                                             | 11901/100000 [4:33:05<11:06:58,  2.20it/s]"
     ]
    },
    {
     "name": "stdout",
     "output_type": "stream",
     "text": [
      "4.9517559029423905\n",
      "100\n"
     ]
    },
    {
     "name": "stderr",
     "output_type": "stream",
     "text": [
      " 12%|████████▍                                                             | 12000/100000 [4:33:50<13:58:35,  1.75it/s]"
     ]
    },
    {
     "name": "stdout",
     "output_type": "stream",
     "text": [
      "4.727749274882872\n",
      "100\n",
      "[0.1, 0.4, 0.2, 0.9]\n",
      "tf.Tensor([[0.06454229 0.15254737 0.2258441  0.5570662 ]], shape=(1, 4), dtype=float32)\n",
      "[0.1, 0.8, 0.2, 0.9]\n",
      "tf.Tensor([[0.0700913  0.18471968 0.2388013  0.50638777]], shape=(1, 4), dtype=float32)\n",
      "[0.5, 0.8, 0.2, 0.9]\n",
      "tf.Tensor([[0.29751226 0.5188917  0.09775887 0.08583718]], shape=(1, 4), dtype=float32)\n",
      "[0.3, 0.8, 0.2, 0.9]\n",
      "tf.Tensor([[9.6885288e-01 3.0259671e-02 6.8416586e-04 2.0325395e-04]], shape=(1, 4), dtype=float32)\n",
      "[0.2, 0.8, 0.2, 0.9]\n"
     ]
    },
    {
     "name": "stderr",
     "output_type": "stream",
     "text": [
      "\r",
      " 12%|████████▍                                                             | 12001/100000 [4:33:51<13:39:18,  1.79it/s]"
     ]
    },
    {
     "name": "stdout",
     "output_type": "stream",
     "text": [
      "tf.Tensor([[9.7865659e-01 2.0778986e-02 4.4272814e-04 1.2164881e-04]], shape=(1, 4), dtype=float32)\n"
     ]
    },
    {
     "name": "stderr",
     "output_type": "stream",
     "text": [
      " 12%|████████▌                                                              | 12101/100000 [4:34:30<9:27:46,  2.58it/s]"
     ]
    },
    {
     "name": "stdout",
     "output_type": "stream",
     "text": [
      "5.965136012447691\n",
      "100\n"
     ]
    },
    {
     "name": "stderr",
     "output_type": "stream",
     "text": [
      " 12%|████████▌                                                             | 12200/100000 [4:35:15<11:22:10,  2.15it/s]"
     ]
    },
    {
     "name": "stdout",
     "output_type": "stream",
     "text": [
      "4.805545826682201\n",
      "100\n",
      "[0.4, 0.2, 0.7, 0.1]\n",
      "tf.Tensor([[0.05812392 0.13504227 0.2264536  0.5803802 ]], shape=(1, 4), dtype=float32)\n",
      "[0.8, 0.2, 0.7, 0.1]\n",
      "tf.Tensor([[0.05598985 0.17393468 0.23422892 0.53584653]], shape=(1, 4), dtype=float32)\n",
      "[0.8, 0.0, 0.7, 0.1]\n",
      "tf.Tensor([[0.28479645 0.5580661  0.08854067 0.0685968 ]], shape=(1, 4), dtype=float32)\n",
      "[0.6, 0.0, 0.7, 0.1]\n",
      "tf.Tensor([[9.5953333e-01 3.9396480e-02 8.2819624e-04 2.4194385e-04]], shape=(1, 4), dtype=float32)\n",
      "[0.7, 0.0, 0.7, 0.1]\n"
     ]
    },
    {
     "name": "stderr",
     "output_type": "stream",
     "text": [
      "\r",
      " 12%|████████▌                                                             | 12201/100000 [4:35:15<11:45:25,  2.07it/s]"
     ]
    },
    {
     "name": "stdout",
     "output_type": "stream",
     "text": [
      "tf.Tensor([[9.6976131e-01 2.9482368e-02 5.9216382e-04 1.6412209e-04]], shape=(1, 4), dtype=float32)\n"
     ]
    },
    {
     "name": "stderr",
     "output_type": "stream",
     "text": [
      " 12%|████████▌                                                             | 12301/100000 [4:35:59<13:27:06,  1.81it/s]"
     ]
    },
    {
     "name": "stdout",
     "output_type": "stream",
     "text": [
      "5.09451746439368\n",
      "100\n"
     ]
    },
    {
     "name": "stderr",
     "output_type": "stream",
     "text": [
      " 12%|████████▋                                                             | 12401/100000 [4:36:40<13:20:24,  1.82it/s]"
     ]
    },
    {
     "name": "stdout",
     "output_type": "stream",
     "text": [
      "5.555426691144295\n",
      "100\n",
      "[0.7, 0.2, 0.2, 0.9]\n",
      "tf.Tensor([[0.05051805 0.13074529 0.21837653 0.6003601 ]], shape=(1, 4), dtype=float32)\n",
      "[0.7, 0.6, 0.2, 0.9]\n",
      "tf.Tensor([[0.04974039 0.2225379  0.22505316 0.50266856]], shape=(1, 4), dtype=float32)\n",
      "[0.3, 0.6, 0.2, 0.9]\n",
      "tf.Tensor([[0.45005643 0.47080445 0.04595067 0.03318845]], shape=(1, 4), dtype=float32)\n",
      "[0.3, 0.8, 0.2, 0.9]\n",
      "tf.Tensor([[9.7317928e-01 2.6301483e-02 4.0512491e-04 1.1414972e-04]], shape=(1, 4), dtype=float32)\n",
      "[0.2, 0.8, 0.2, 0.9]\n",
      "tf.Tensor([[9.7739762e-01 2.2156978e-02 3.4874567e-04 9.6647585e-05]], shape=(1, 4), dtype=float32)\n"
     ]
    },
    {
     "name": "stderr",
     "output_type": "stream",
     "text": [
      " 13%|████████▊                                                             | 12501/100000 [4:37:24<11:27:43,  2.12it/s]"
     ]
    },
    {
     "name": "stdout",
     "output_type": "stream",
     "text": [
      "5.537632236578697\n",
      "100\n"
     ]
    },
    {
     "name": "stderr",
     "output_type": "stream",
     "text": [
      " 13%|████████▊                                                             | 12600/100000 [4:38:09<11:08:32,  2.18it/s]"
     ]
    },
    {
     "name": "stdout",
     "output_type": "stream",
     "text": [
      "5.524912351945347\n",
      "100\n",
      "[0.0, 0.4, 0.5, 0.7]\n",
      "tf.Tensor([[0.04732408 0.13308106 0.23672296 0.582872  ]], shape=(1, 4), dtype=float32)\n",
      "[0.4, 0.4, 0.5, 0.7]\n",
      "tf.Tensor([[0.0489723  0.16211085 0.2475738  0.54134303]], shape=(1, 4), dtype=float32)\n",
      "[0.4, 0.8, 0.5, 0.7]\n",
      "tf.Tensor([[0.13318725 0.52612406 0.1583891  0.18229957]], shape=(1, 4), dtype=float32)\n",
      "[0.6, 0.8, 0.5, 0.7]\n",
      "tf.Tensor([[9.0416533e-01 9.3979537e-02 1.4163608e-03 4.3881455e-04]], shape=(1, 4), dtype=float32)\n"
     ]
    },
    {
     "name": "stderr",
     "output_type": "stream",
     "text": [
      "\r",
      " 13%|████████▊                                                             | 12601/100000 [4:38:09<11:35:41,  2.09it/s]"
     ]
    },
    {
     "name": "stdout",
     "output_type": "stream",
     "text": [
      "[0.5, 0.8, 0.5, 0.7]\n",
      "tf.Tensor([[9.2326534e-01 7.5653017e-02 8.4026385e-04 2.4139462e-04]], shape=(1, 4), dtype=float32)\n"
     ]
    },
    {
     "name": "stderr",
     "output_type": "stream",
     "text": [
      " 13%|█████████                                                              | 12701/100000 [4:38:49<9:24:50,  2.58it/s]"
     ]
    },
    {
     "name": "stdout",
     "output_type": "stream",
     "text": [
      "6.205173167666338\n",
      "100\n"
     ]
    },
    {
     "name": "stderr",
     "output_type": "stream",
     "text": [
      " 13%|████████▉                                                             | 12800/100000 [4:39:30<10:02:01,  2.41it/s]"
     ]
    },
    {
     "name": "stdout",
     "output_type": "stream",
     "text": [
      "5.633250713676632\n",
      "100\n",
      "[0.0, 0.2, 0.1, 0.1]\n",
      "tf.Tensor([[0.04403422 0.12865157 0.25567877 0.5716354 ]], shape=(1, 4), dtype=float32)\n",
      "[0.4, 0.2, 0.1, 0.1]\n",
      "tf.Tensor([[0.03892184 0.18415679 0.26406482 0.51285654]], shape=(1, 4), dtype=float32)\n",
      "[0.0, 0.2, 0.1, 0.1]\n",
      "tf.Tensor([[0.12838571 0.5403844  0.1590949  0.17213497]], shape=(1, 4), dtype=float32)\n",
      "[0.2, 0.2, 0.1, 0.1]\n",
      "tf.Tensor([[8.77856851e-01 1.19636804e-01 1.89935602e-03 6.06973364e-04]], shape=(1, 4), dtype=float32)\n",
      "[0.1, 0.2, 0.1, 0.1]\n"
     ]
    },
    {
     "name": "stderr",
     "output_type": "stream",
     "text": [
      "\r",
      " 13%|████████▉                                                             | 12801/100000 [4:39:31<11:23:29,  2.13it/s]"
     ]
    },
    {
     "name": "stdout",
     "output_type": "stream",
     "text": [
      "tf.Tensor([[9.0686488e-01 9.1648988e-02 1.1423765e-03 3.4371926e-04]], shape=(1, 4), dtype=float32)\n"
     ]
    },
    {
     "name": "stderr",
     "output_type": "stream",
     "text": [
      " 13%|█████████                                                             | 12901/100000 [4:40:13<11:18:07,  2.14it/s]"
     ]
    },
    {
     "name": "stdout",
     "output_type": "stream",
     "text": [
      "5.72340550100336\n",
      "100\n"
     ]
    },
    {
     "name": "stderr",
     "output_type": "stream",
     "text": [
      " 13%|█████████▏                                                             | 13000/100000 [4:40:56<9:01:48,  2.68it/s]"
     ]
    },
    {
     "name": "stdout",
     "output_type": "stream",
     "text": [
      "5.34841626834593\n",
      "100\n",
      "[0.4, 0.2, 0.5, 0.7]\n",
      "tf.Tensor([[0.03392452 0.11625338 0.25103056 0.5987916 ]], shape=(1, 4), dtype=float32)\n",
      "[0.4, 0.6, 0.5, 0.7]\n",
      "tf.Tensor([[0.03554473 0.1667843  0.26229763 0.5353734 ]], shape=(1, 4), dtype=float32)\n",
      "[0.8, 0.6, 0.5, 0.7]\n",
      "tf.Tensor([[0.11538208 0.711269   0.097734   0.07561491]], shape=(1, 4), dtype=float32)\n",
      "[0.6, 0.6, 0.5, 0.7]\n",
      "tf.Tensor([[9.0383041e-01 9.5237106e-02 7.4850995e-04 1.8405705e-04]], shape=(1, 4), dtype=float32)\n",
      "[0.5, 0.6, 0.5, 0.7]\n"
     ]
    },
    {
     "name": "stderr",
     "output_type": "stream",
     "text": [
      "\r",
      " 13%|█████████                                                             | 13001/100000 [4:40:57<11:08:44,  2.17it/s]"
     ]
    },
    {
     "name": "stdout",
     "output_type": "stream",
     "text": [
      "tf.Tensor([[9.3370414e-01 6.5682068e-02 4.9626565e-04 1.1758724e-04]], shape=(1, 4), dtype=float32)\n"
     ]
    },
    {
     "name": "stderr",
     "output_type": "stream",
     "text": [
      " 13%|█████████▏                                                            | 13101/100000 [4:41:40<13:52:25,  1.74it/s]"
     ]
    },
    {
     "name": "stdout",
     "output_type": "stream",
     "text": [
      "5.110876450846744\n",
      "100\n"
     ]
    },
    {
     "name": "stderr",
     "output_type": "stream",
     "text": [
      " 13%|█████████▎                                                             | 13200/100000 [4:42:23<8:28:53,  2.84it/s]"
     ]
    },
    {
     "name": "stdout",
     "output_type": "stream",
     "text": [
      "5.846518532856897\n",
      "100\n",
      "[0.2, 0.1, 0.7, 0.1]\n",
      "tf.Tensor([[0.03276572 0.11485949 0.23936409 0.6130107 ]], shape=(1, 4), dtype=float32)\n",
      "[0.6, 0.1, 0.7, 0.1]\n",
      "tf.Tensor([[0.03442487 0.17970566 0.24750336 0.53836614]], shape=(1, 4), dtype=float32)\n",
      "[1.0, 0.1, 0.7, 0.1]\n",
      "tf.Tensor([[0.11503795 0.7558007  0.07241311 0.05674826]], shape=(1, 4), dtype=float32)\n",
      "[0.8, 0.1, 0.7, 0.1]\n"
     ]
    },
    {
     "name": "stderr",
     "output_type": "stream",
     "text": [
      "\r",
      " 13%|█████████▏                                                            | 13201/100000 [4:42:24<10:40:03,  2.26it/s]"
     ]
    },
    {
     "name": "stdout",
     "output_type": "stream",
     "text": [
      "tf.Tensor([[8.7545675e-01 1.2370246e-01 6.6837511e-04 1.7244395e-04]], shape=(1, 4), dtype=float32)\n"
     ]
    },
    {
     "name": "stderr",
     "output_type": "stream",
     "text": [
      " 13%|█████████▍                                                             | 13301/100000 [4:43:05<9:47:56,  2.46it/s]"
     ]
    },
    {
     "name": "stdout",
     "output_type": "stream",
     "text": [
      "5.863046342109039\n",
      "100\n"
     ]
    },
    {
     "name": "stderr",
     "output_type": "stream",
     "text": [
      " 13%|█████████▍                                                            | 13401/100000 [4:43:49<10:15:18,  2.35it/s]"
     ]
    },
    {
     "name": "stdout",
     "output_type": "stream",
     "text": [
      "5.3801185323544285\n",
      "100\n",
      "[0.6, 0.3, 0.7, 0.4]\n",
      "tf.Tensor([[0.02573111 0.11225287 0.25807068 0.6039454 ]], shape=(1, 4), dtype=float32)\n",
      "[1.0, 0.3, 0.7, 0.4]\n",
      "tf.Tensor([[0.02190275 0.25389877 0.25140136 0.47279716]], shape=(1, 4), dtype=float32)\n",
      "[0.6, 0.3, 0.7, 0.4]\n",
      "tf.Tensor([[0.15994184 0.79454476 0.02740611 0.01810722]], shape=(1, 4), dtype=float32)\n",
      "[0.8, 0.3, 0.7, 0.4]\n",
      "tf.Tensor([[9.075175e-01 9.205585e-02 3.401099e-04 8.654076e-05]], shape=(1, 4), dtype=float32)\n",
      "[0.7, 0.3, 0.7, 0.4]\n",
      "tf.Tensor([[9.2716390e-01 7.2462425e-02 2.9783713e-04 7.5810720e-05]], shape=(1, 4), dtype=float32)\n"
     ]
    },
    {
     "name": "stderr",
     "output_type": "stream",
     "text": [
      " 14%|█████████▍                                                            | 13501/100000 [4:44:32<13:30:18,  1.78it/s]"
     ]
    },
    {
     "name": "stdout",
     "output_type": "stream",
     "text": [
      "5.090116391492384\n",
      "100\n"
     ]
    },
    {
     "name": "stderr",
     "output_type": "stream",
     "text": [
      " 14%|█████████▌                                                            | 13600/100000 [4:45:15<10:20:06,  2.32it/s]"
     ]
    },
    {
     "name": "stdout",
     "output_type": "stream",
     "text": [
      "5.666221481277449\n",
      "100\n",
      "[0.0, 0.2, 0.7, 0.4]\n",
      "tf.Tensor([[0.02821627 0.10284817 0.23961006 0.62932557]], shape=(1, 4), dtype=float32)\n",
      "[0.4, 0.2, 0.7, 0.4]\n",
      "tf.Tensor([[0.02835867 0.12951866 0.2536638  0.5884589 ]], shape=(1, 4), dtype=float32)\n",
      "[0.8, 0.2, 0.7, 0.4]\n",
      "tf.Tensor([[0.06870506 0.47853976 0.19270778 0.26004738]], shape=(1, 4), dtype=float32)\n",
      "[0.8, 0.4, 0.7, 0.4]\n",
      "tf.Tensor([[8.0101216e-01 1.9709980e-01 1.4542032e-03 4.3381500e-04]], shape=(1, 4), dtype=float32)\n"
     ]
    },
    {
     "name": "stderr",
     "output_type": "stream",
     "text": [
      " 14%|█████████▌                                                            | 13701/100000 [4:45:57<10:50:39,  2.21it/s]"
     ]
    },
    {
     "name": "stdout",
     "output_type": "stream",
     "text": [
      "5.575568651038861\n",
      "100\n"
     ]
    },
    {
     "name": "stderr",
     "output_type": "stream",
     "text": [
      " 14%|█████████▋                                                            | 13801/100000 [4:46:40<10:04:54,  2.37it/s]"
     ]
    },
    {
     "name": "stdout",
     "output_type": "stream",
     "text": [
      "5.732272243467861\n",
      "100\n",
      "[0.6, 0.5, 0.5, 0.7]\n",
      "tf.Tensor([[0.02074591 0.09845594 0.22694203 0.65385616]], shape=(1, 4), dtype=float32)\n",
      "[0.6, 0.9, 0.5, 0.7]\n",
      "tf.Tensor([[0.01973045 0.22079675 0.23012783 0.52934504]], shape=(1, 4), dtype=float32)\n",
      "[0.6, 0.5, 0.5, 0.7]\n",
      "tf.Tensor([[0.10530895 0.8313866  0.03584466 0.0274597 ]], shape=(1, 4), dtype=float32)\n",
      "[0.6, 0.7, 0.5, 0.7]\n",
      "tf.Tensor([[8.90716791e-01 1.08862735e-01 3.34412558e-04 8.60443688e-05]], shape=(1, 4), dtype=float32)\n"
     ]
    },
    {
     "name": "stderr",
     "output_type": "stream",
     "text": [
      " 14%|█████████▋                                                            | 13901/100000 [4:47:22<11:15:17,  2.12it/s]"
     ]
    },
    {
     "name": "stdout",
     "output_type": "stream",
     "text": [
      "5.643834279722496\n",
      "100\n"
     ]
    },
    {
     "name": "stderr",
     "output_type": "stream",
     "text": [
      " 14%|█████████▉                                                             | 14001/100000 [4:48:03<6:40:15,  3.58it/s]"
     ]
    },
    {
     "name": "stdout",
     "output_type": "stream",
     "text": [
      "6.336813089085579\n",
      "100\n",
      "[0.8, 0.4, 0.5, 0.7]\n",
      "tf.Tensor([[0.01576938 0.09790497 0.2487295  0.6375962 ]], shape=(1, 4), dtype=float32)\n",
      "[0.4, 0.4, 0.5, 0.7]\n",
      "tf.Tensor([[0.01970866 0.19996135 0.25945228 0.52087766]], shape=(1, 4), dtype=float32)\n",
      "[0.4, 0.8, 0.5, 0.7]\n",
      "tf.Tensor([[0.12051686 0.83317524 0.02766129 0.01864664]], shape=(1, 4), dtype=float32)\n",
      "[0.6, 0.8, 0.5, 0.7]\n",
      "tf.Tensor([[9.1077316e-01 8.8898659e-02 2.6673291e-04 6.1469618e-05]], shape=(1, 4), dtype=float32)\n",
      "[0.5, 0.8, 0.5, 0.7]\n",
      "tf.Tensor([[8.3720851e-01 1.6204377e-01 6.0018577e-04 1.4752071e-04]], shape=(1, 4), dtype=float32)\n"
     ]
    },
    {
     "name": "stderr",
     "output_type": "stream",
     "text": [
      " 14%|█████████▊                                                            | 14101/100000 [4:48:43<12:40:42,  1.88it/s]"
     ]
    },
    {
     "name": "stdout",
     "output_type": "stream",
     "text": [
      "5.761699496826461\n",
      "100\n"
     ]
    },
    {
     "name": "stderr",
     "output_type": "stream",
     "text": [
      " 14%|█████████▉                                                            | 14201/100000 [4:49:26<11:41:16,  2.04it/s]"
     ]
    },
    {
     "name": "stdout",
     "output_type": "stream",
     "text": [
      "5.362415059908968\n",
      "100\n",
      "[0.6, 0.9, 0.2, 0.9]\n",
      "tf.Tensor([[0.01279749 0.09672075 0.23525503 0.6552268 ]], shape=(1, 4), dtype=float32)\n"
     ]
    },
    {
     "name": "stderr",
     "output_type": "stream",
     "text": [
      " 14%|██████████                                                            | 14301/100000 [4:50:07<11:41:53,  2.03it/s]"
     ]
    },
    {
     "name": "stdout",
     "output_type": "stream",
     "text": [
      "5.694132272990332\n",
      "100\n"
     ]
    },
    {
     "name": "stderr",
     "output_type": "stream",
     "text": [
      " 14%|██████████                                                            | 14400/100000 [4:50:48<11:38:50,  2.04it/s]"
     ]
    },
    {
     "name": "stdout",
     "output_type": "stream",
     "text": [
      "5.526542014691997\n",
      "100\n",
      "[0.0, 0.0, 0.1, 0.1]\n",
      "tf.Tensor([[0.01926564 0.09696053 0.25412837 0.62964547]], shape=(1, 4), dtype=float32)\n",
      "[0.4, 0.0, 0.1, 0.1]\n",
      "tf.Tensor([[0.01540668 0.15122889 0.26519316 0.56817126]], shape=(1, 4), dtype=float32)\n",
      "[0.0, 0.0, 0.1, 0.1]\n",
      "tf.Tensor([[0.04386698 0.56438553 0.16582036 0.22592713]], shape=(1, 4), dtype=float32)\n",
      "[0.2, 0.0, 0.1, 0.1]\n",
      "tf.Tensor([[7.9004604e-01 2.0719260e-01 2.1217919e-03 6.3960534e-04]], shape=(1, 4), dtype=float32)\n",
      "[0.2, 0.1, 0.1, 0.1]\n"
     ]
    },
    {
     "name": "stderr",
     "output_type": "stream",
     "text": [
      "\r",
      " 14%|██████████                                                            | 14401/100000 [4:50:48<11:55:50,  1.99it/s]"
     ]
    },
    {
     "name": "stdout",
     "output_type": "stream",
     "text": [
      "tf.Tensor([[8.3406329e-01 1.6470186e-01 9.7039633e-04 2.6449881e-04]], shape=(1, 4), dtype=float32)\n"
     ]
    },
    {
     "name": "stderr",
     "output_type": "stream",
     "text": [
      " 15%|██████████▏                                                           | 14501/100000 [4:51:31<10:53:43,  2.18it/s]"
     ]
    },
    {
     "name": "stdout",
     "output_type": "stream",
     "text": [
      "5.544343368188274\n",
      "100\n"
     ]
    },
    {
     "name": "stderr",
     "output_type": "stream",
     "text": [
      " 15%|██████████▏                                                           | 14601/100000 [4:52:14<10:30:06,  2.26it/s]"
     ]
    },
    {
     "name": "stdout",
     "output_type": "stream",
     "text": [
      "5.817685730465421\n",
      "100\n",
      "[0.5, 0.1, 0.2, 0.9]\n",
      "tf.Tensor([[0.0139731  0.08241716 0.24296539 0.66064435]], shape=(1, 4), dtype=float32)\n",
      "[0.5, 0.5, 0.2, 0.9]\n",
      "tf.Tensor([[0.01354092 0.11850034 0.25996846 0.60799026]], shape=(1, 4), dtype=float32)\n",
      "[0.5, 0.9, 0.2, 0.9]\n",
      "tf.Tensor([[0.03066256 0.80113435 0.08492558 0.0832775 ]], shape=(1, 4), dtype=float32)\n",
      "[0.3, 0.9, 0.2, 0.9]\n",
      "tf.Tensor([[7.5140053e-01 2.4780598e-01 6.4318365e-04 1.5022270e-04]], shape=(1, 4), dtype=float32)\n"
     ]
    },
    {
     "name": "stderr",
     "output_type": "stream",
     "text": [
      " 15%|██████████▎                                                           | 14701/100000 [4:52:56<14:50:39,  1.60it/s]"
     ]
    },
    {
     "name": "stdout",
     "output_type": "stream",
     "text": [
      "5.051357661771203\n",
      "100\n"
     ]
    },
    {
     "name": "stderr",
     "output_type": "stream",
     "text": [
      " 15%|██████████▎                                                           | 14801/100000 [4:53:39<12:32:06,  1.89it/s]"
     ]
    },
    {
     "name": "stdout",
     "output_type": "stream",
     "text": [
      "5.746502548210903\n",
      "100\n",
      "[0.5, 0.4, 0.5, 0.7]\n",
      "tf.Tensor([[0.01265843 0.07632505 0.23362094 0.67739564]], shape=(1, 4), dtype=float32)\n",
      "[0.5, 0.8, 0.5, 0.7]\n",
      "tf.Tensor([[0.01108174 0.14939375 0.25166404 0.58786047]], shape=(1, 4), dtype=float32)\n",
      "[0.5, 0.4, 0.5, 0.7]\n",
      "tf.Tensor([[0.03347866 0.80855954 0.08261636 0.07534541]], shape=(1, 4), dtype=float32)\n",
      "[0.5, 0.6, 0.5, 0.7]\n",
      "tf.Tensor([[7.4612474e-01 2.5284800e-01 8.2835130e-04 1.9888727e-04]], shape=(1, 4), dtype=float32)\n"
     ]
    },
    {
     "name": "stderr",
     "output_type": "stream",
     "text": [
      " 15%|██████████▌                                                            | 14901/100000 [4:54:23<9:53:21,  2.39it/s]"
     ]
    },
    {
     "name": "stdout",
     "output_type": "stream",
     "text": [
      "5.286944582745192\n",
      "99\n"
     ]
    },
    {
     "name": "stderr",
     "output_type": "stream",
     "text": [
      " 15%|██████████▋                                                            | 15000/100000 [4:55:07<9:55:09,  2.38it/s]"
     ]
    },
    {
     "name": "stdout",
     "output_type": "stream",
     "text": [
      "4.937611767156967\n",
      "100\n",
      "[0.6, 0.9, 0.1, 0.1]\n",
      "tf.Tensor([[0.01049783 0.06846467 0.2269085  0.69412893]], shape=(1, 4), dtype=float32)\n",
      "[0.6, 0.5, 0.1, 0.1]\n",
      "tf.Tensor([[0.00881789 0.16231555 0.25120494 0.57766163]], shape=(1, 4), dtype=float32)\n",
      "[0.2, 0.5, 0.1, 0.1]\n",
      "tf.Tensor([[0.02847805 0.89390975 0.04310276 0.03450952]], shape=(1, 4), dtype=float32)\n"
     ]
    },
    {
     "name": "stderr",
     "output_type": "stream",
     "text": [
      "\r",
      " 15%|██████████▌                                                           | 15001/100000 [4:55:08<14:26:10,  1.64it/s]"
     ]
    },
    {
     "name": "stdout",
     "output_type": "stream",
     "text": [
      "[0.2, 0.3, 0.1, 0.1]\n",
      "tf.Tensor([[7.1988761e-01 2.7928817e-01 6.7525514e-04 1.4892324e-04]], shape=(1, 4), dtype=float32)\n",
      "[0.2, 0.2, 0.1, 0.1]\n",
      "tf.Tensor([[7.6183349e-01 2.3744245e-01 5.9337332e-04 1.3071080e-04]], shape=(1, 4), dtype=float32)\n",
      "[0.1, 0.2, 0.1, 0.1]\n",
      "tf.Tensor([[6.4661151e-01 3.5174033e-01 1.3182610e-03 3.2991605e-04]], shape=(1, 4), dtype=float32)\n"
     ]
    },
    {
     "name": "stderr",
     "output_type": "stream",
     "text": [
      " 15%|██████████▋                                                            | 15101/100000 [4:55:52<8:50:53,  2.67it/s]"
     ]
    },
    {
     "name": "stdout",
     "output_type": "stream",
     "text": [
      "5.608376760232853\n",
      "100\n"
     ]
    },
    {
     "name": "stderr",
     "output_type": "stream",
     "text": [
      " 15%|██████████▊                                                            | 15200/100000 [4:56:34<9:17:17,  2.54it/s]"
     ]
    },
    {
     "name": "stdout",
     "output_type": "stream",
     "text": [
      "5.732434995618708\n",
      "100\n",
      "[0.6, 0.5, 0.7, 0.4]\n",
      "tf.Tensor([[0.01087343 0.06473841 0.20960562 0.71478254]], shape=(1, 4), dtype=float32)\n",
      "[1.0, 0.5, 0.7, 0.4]\n",
      "tf.Tensor([[0.00822223 0.16220447 0.23326224 0.5963111 ]], shape=(1, 4), dtype=float32)\n",
      "[0.6, 0.5, 0.7, 0.4]\n",
      "tf.Tensor([[0.0384571  0.9117183  0.02868862 0.02113595]], shape=(1, 4), dtype=float32)\n",
      "[0.8, 0.5, 0.7, 0.4]\n"
     ]
    },
    {
     "name": "stderr",
     "output_type": "stream",
     "text": [
      "\r",
      " 15%|██████████▋                                                           | 15201/100000 [4:56:35<12:55:00,  1.82it/s]"
     ]
    },
    {
     "name": "stdout",
     "output_type": "stream",
     "text": [
      "tf.Tensor([[8.1138903e-01 1.8821664e-01 3.2885314e-04 6.5463151e-05]], shape=(1, 4), dtype=float32)\n",
      "[0.7, 0.5, 0.7, 0.4]\n",
      "tf.Tensor([[8.2130587e-01 1.7831312e-01 3.1778903e-04 6.3235406e-05]], shape=(1, 4), dtype=float32)\n"
     ]
    },
    {
     "name": "stderr",
     "output_type": "stream",
     "text": [
      " 15%|██████████▊                                                            | 15301/100000 [4:57:14<9:39:08,  2.44it/s]"
     ]
    },
    {
     "name": "stdout",
     "output_type": "stream",
     "text": [
      "6.057648442596901\n",
      "100\n"
     ]
    },
    {
     "name": "stderr",
     "output_type": "stream",
     "text": [
      " 15%|██████████▉                                                            | 15401/100000 [4:57:58<9:37:07,  2.44it/s]"
     ]
    },
    {
     "name": "stdout",
     "output_type": "stream",
     "text": [
      "6.123478967830237\n",
      "100\n",
      "[0.0, 0.4, 0.2, 0.9]\n",
      "tf.Tensor([[0.01227597 0.06902627 0.19444016 0.72425765]], shape=(1, 4), dtype=float32)\n",
      "[0.0, 0.8, 0.2, 0.9]\n",
      "tf.Tensor([[0.01210693 0.10179272 0.21395099 0.67214936]], shape=(1, 4), dtype=float32)\n",
      "[0.4, 0.8, 0.2, 0.9]\n",
      "tf.Tensor([[0.02376463 0.7045951  0.11339383 0.15824646]], shape=(1, 4), dtype=float32)\n",
      "[0.2, 0.8, 0.2, 0.9]\n",
      "tf.Tensor([[6.6740376e-01 3.3114824e-01 1.1620433e-03 2.8597674e-04]], shape=(1, 4), dtype=float32)\n"
     ]
    },
    {
     "name": "stderr",
     "output_type": "stream",
     "text": [
      " 16%|██████████▊                                                           | 15501/100000 [4:58:40<10:50:45,  2.16it/s]"
     ]
    },
    {
     "name": "stdout",
     "output_type": "stream",
     "text": [
      "5.331932529698445\n",
      "100\n"
     ]
    },
    {
     "name": "stderr",
     "output_type": "stream",
     "text": [
      " 16%|███████████                                                            | 15600/100000 [4:59:20<8:58:30,  2.61it/s]"
     ]
    },
    {
     "name": "stdout",
     "output_type": "stream",
     "text": [
      "5.665444414577892\n",
      "100\n",
      "[0.0, 0.5, 0.1, 0.1]\n",
      "tf.Tensor([[0.01023248 0.06003753 0.19568838 0.7340416 ]], shape=(1, 4), dtype=float32)\n",
      "[0.0, 0.1, 0.1, 0.1]\n",
      "tf.Tensor([[0.01184665 0.08268917 0.22349158 0.6819726 ]], shape=(1, 4), dtype=float32)\n",
      "[0.4, 0.1, 0.1, 0.1]\n",
      "tf.Tensor([[0.02366365 0.53621316 0.16781448 0.2723087 ]], shape=(1, 4), dtype=float32)\n",
      "[0.2, 0.1, 0.1, 0.1]\n",
      "tf.Tensor([[6.6348505e-01 3.3502585e-01 1.2029908e-03 2.8612665e-04]], shape=(1, 4), dtype=float32)\n"
     ]
    },
    {
     "name": "stderr",
     "output_type": "stream",
     "text": [
      " 16%|██████████▉                                                           | 15701/100000 [5:00:03<11:32:43,  2.03it/s]"
     ]
    },
    {
     "name": "stdout",
     "output_type": "stream",
     "text": [
      "5.779981074033971\n",
      "100\n"
     ]
    },
    {
     "name": "stderr",
     "output_type": "stream",
     "text": [
      " 16%|███████████                                                           | 15801/100000 [5:00:41<10:40:50,  2.19it/s]"
     ]
    },
    {
     "name": "stdout",
     "output_type": "stream",
     "text": [
      "6.1253299362087255\n",
      "100\n",
      "[0.9, 0.4, 0.1, 0.1]\n",
      "tf.Tensor([[0.00771093 0.06432594 0.20187473 0.7260884 ]], shape=(1, 4), dtype=float32)\n",
      "[0.5, 0.4, 0.1, 0.1]\n",
      "tf.Tensor([[0.00880343 0.25723115 0.21554027 0.5184251 ]], shape=(1, 4), dtype=float32)\n",
      "[0.1, 0.4, 0.1, 0.1]\n",
      "tf.Tensor([[0.0625367  0.9232477  0.00932505 0.00489063]], shape=(1, 4), dtype=float32)\n",
      "[0.1, 0.2, 0.1, 0.1]\n",
      "tf.Tensor([[8.2906973e-01 1.7052349e-01 3.4283978e-04 6.3949316e-05]], shape=(1, 4), dtype=float32)\n"
     ]
    },
    {
     "name": "stderr",
     "output_type": "stream",
     "text": [
      " 16%|███████████▏                                                          | 15901/100000 [5:01:19<10:13:57,  2.28it/s]"
     ]
    },
    {
     "name": "stdout",
     "output_type": "stream",
     "text": [
      "6.351980782140802\n",
      "100\n"
     ]
    },
    {
     "name": "stderr",
     "output_type": "stream",
     "text": [
      " 16%|███████████▎                                                           | 16000/100000 [5:01:58<7:44:17,  3.02it/s]"
     ]
    },
    {
     "name": "stdout",
     "output_type": "stream",
     "text": [
      "6.25582658264428\n",
      "100\n",
      "[0.0, 0.6, 0.7, 0.1]\n",
      "tf.Tensor([[0.01161833 0.06453409 0.2139803  0.7098673 ]], shape=(1, 4), dtype=float32)\n",
      "[0.4, 0.6, 0.7, 0.1]\n",
      "tf.Tensor([[0.00997095 0.10816155 0.23477043 0.64709705]], shape=(1, 4), dtype=float32)\n",
      "[0.4, 0.2, 0.7, 0.1]\n",
      "tf.Tensor([[0.0416034  0.8111636  0.07669145 0.07054144]], shape=(1, 4), dtype=float32)\n",
      "[0.6, 0.2, 0.7, 0.1]\n",
      "tf.Tensor([[7.9503345e-01 2.0418061e-01 6.5220584e-04 1.3367625e-04]], shape=(1, 4), dtype=float32)\n",
      "[0.7, 0.2, 0.7, 0.1]\n"
     ]
    },
    {
     "name": "stderr",
     "output_type": "stream",
     "text": [
      " 16%|███████████▎                                                           | 16002/100000 [5:01:59<7:36:01,  3.07it/s]"
     ]
    },
    {
     "name": "stdout",
     "output_type": "stream",
     "text": [
      "tf.Tensor([[8.1817657e-01 1.8128373e-01 4.5317822e-04 8.6430337e-05]], shape=(1, 4), dtype=float32)\n"
     ]
    },
    {
     "name": "stderr",
     "output_type": "stream",
     "text": [
      " 16%|███████████▎                                                          | 16101/100000 [5:02:36<10:10:03,  2.29it/s]"
     ]
    },
    {
     "name": "stdout",
     "output_type": "stream",
     "text": [
      "6.197498556916745\n",
      "100\n"
     ]
    },
    {
     "name": "stderr",
     "output_type": "stream",
     "text": [
      " 16%|███████████▎                                                          | 16200/100000 [5:03:15<10:45:38,  2.16it/s]"
     ]
    },
    {
     "name": "stdout",
     "output_type": "stream",
     "text": [
      "5.9705628394450105\n",
      "100\n",
      "[0.7, 0.0, 0.1, 0.1]\n",
      "tf.Tensor([[0.00765364 0.05175119 0.20412862 0.7364665 ]], shape=(1, 4), dtype=float32)\n",
      "[0.3, 0.0, 0.1, 0.1]\n",
      "tf.Tensor([[0.00807453 0.11175131 0.24439485 0.63577926]], shape=(1, 4), dtype=float32)\n",
      "[0.0, 0.0, 0.1, 0.1]\n",
      "tf.Tensor([[0.06786115 0.87020373 0.03717466 0.02476052]], shape=(1, 4), dtype=float32)\n",
      "[0.0, 0.2, 0.1, 0.1]\n",
      "tf.Tensor([[8.7999153e-01 1.1954919e-01 3.8000278e-04 7.9266669e-05]], shape=(1, 4), dtype=float32)\n"
     ]
    },
    {
     "name": "stderr",
     "output_type": "stream",
     "text": [
      "\r",
      " 16%|███████████▎                                                          | 16201/100000 [5:03:15<11:47:45,  1.97it/s]"
     ]
    },
    {
     "name": "stdout",
     "output_type": "stream",
     "text": [
      "[0.1, 0.2, 0.1, 0.1]\n",
      "tf.Tensor([[8.2135552e-01 1.7772493e-01 7.4835878e-04 1.7119675e-04]], shape=(1, 4), dtype=float32)\n"
     ]
    },
    {
     "name": "stderr",
     "output_type": "stream",
     "text": [
      " 16%|███████████▍                                                          | 16301/100000 [5:03:55<10:55:54,  2.13it/s]"
     ]
    },
    {
     "name": "stdout",
     "output_type": "stream",
     "text": [
      "5.744445299735265\n",
      "100\n"
     ]
    },
    {
     "name": "stderr",
     "output_type": "stream",
     "text": [
      " 16%|███████████▋                                                           | 16400/100000 [5:04:34<8:21:57,  2.78it/s]"
     ]
    },
    {
     "name": "stdout",
     "output_type": "stream",
     "text": [
      "5.811544963627907\n",
      "100\n",
      "[0.2, 0.2, 0.5, 0.7]\n",
      "tf.Tensor([[0.00961552 0.05111736 0.19499278 0.74427426]], shape=(1, 4), dtype=float32)\n",
      "[0.2, 0.6, 0.5, 0.7]\n",
      "tf.Tensor([[0.00930604 0.06465997 0.22063822 0.7053958 ]], shape=(1, 4), dtype=float32)\n",
      "[0.6, 0.6, 0.5, 0.7]\n",
      "tf.Tensor([[0.02803732 0.7692411  0.09540562 0.10731598]], shape=(1, 4), dtype=float32)\n"
     ]
    },
    {
     "name": "stderr",
     "output_type": "stream",
     "text": [
      "\r",
      " 16%|███████████▍                                                          | 16401/100000 [5:04:35<11:58:13,  1.94it/s]"
     ]
    },
    {
     "name": "stdout",
     "output_type": "stream",
     "text": [
      "[0.4, 0.6, 0.5, 0.7]\n",
      "tf.Tensor([[7.0939070e-01 2.8984588e-01 6.3181721e-04 1.3159508e-04]], shape=(1, 4), dtype=float32)\n",
      "[0.5, 0.6, 0.5, 0.7]\n",
      "tf.Tensor([[7.7879608e-01 2.2072290e-01 4.0279544e-04 7.8165322e-05]], shape=(1, 4), dtype=float32)\n"
     ]
    },
    {
     "name": "stderr",
     "output_type": "stream",
     "text": [
      " 17%|███████████▌                                                          | 16501/100000 [5:05:16<10:06:38,  2.29it/s]"
     ]
    },
    {
     "name": "stdout",
     "output_type": "stream",
     "text": [
      "5.636656466278695\n",
      "100\n"
     ]
    },
    {
     "name": "stderr",
     "output_type": "stream",
     "text": [
      " 17%|███████████▌                                                          | 16601/100000 [5:05:59<13:02:31,  1.78it/s]"
     ]
    },
    {
     "name": "stdout",
     "output_type": "stream",
     "text": [
      "5.464983237884455\n",
      "100\n",
      "[0.1, 0.4, 0.2, 0.9]\n",
      "tf.Tensor([[0.00917629 0.05017606 0.20924288 0.73140484]], shape=(1, 4), dtype=float32)\n",
      "[0.1, 0.8, 0.2, 0.9]\n",
      "tf.Tensor([[0.00854756 0.06231497 0.23576005 0.69337744]], shape=(1, 4), dtype=float32)\n",
      "[0.5, 0.8, 0.2, 0.9]\n",
      "tf.Tensor([[0.02532209 0.78798395 0.09150521 0.09518877]], shape=(1, 4), dtype=float32)\n",
      "[0.3, 0.8, 0.2, 0.9]\n",
      "tf.Tensor([[6.9572383e-01 3.0371040e-01 4.7450006e-04 9.1268623e-05]], shape=(1, 4), dtype=float32)\n",
      "[0.2, 0.8, 0.2, 0.9]\n",
      "tf.Tensor([[7.8336805e-01 2.1625388e-01 3.1891244e-04 5.9170638e-05]], shape=(1, 4), dtype=float32)\n"
     ]
    },
    {
     "name": "stderr",
     "output_type": "stream",
     "text": [
      " 17%|███████████▋                                                          | 16701/100000 [5:06:38<10:38:54,  2.17it/s]"
     ]
    },
    {
     "name": "stdout",
     "output_type": "stream",
     "text": [
      "5.877017807491169\n",
      "100\n"
     ]
    },
    {
     "name": "stderr",
     "output_type": "stream",
     "text": [
      " 17%|███████████▉                                                           | 16800/100000 [5:07:18<9:03:41,  2.55it/s]"
     ]
    },
    {
     "name": "stdout",
     "output_type": "stream",
     "text": [
      "6.085623585801028\n",
      "100\n",
      "[0.2, 0.7, 0.1, 0.1]\n",
      "tf.Tensor([[0.00726669 0.045183   0.18534444 0.7622059 ]], shape=(1, 4), dtype=float32)\n",
      "[0.2, 0.3, 0.1, 0.1]\n",
      "tf.Tensor([[0.00685924 0.0625274  0.21310084 0.71751255]], shape=(1, 4), dtype=float32)\n",
      "[0.2, 0.0, 0.1, 0.1]\n",
      "tf.Tensor([[0.0271202  0.79782724 0.08493373 0.09011878]], shape=(1, 4), dtype=float32)\n",
      "[0.0, 0.0, 0.1, 0.1]\n"
     ]
    },
    {
     "name": "stderr",
     "output_type": "stream",
     "text": [
      "\r",
      " 17%|███████████▊                                                          | 16801/100000 [5:07:19<10:00:13,  2.31it/s]"
     ]
    },
    {
     "name": "stdout",
     "output_type": "stream",
     "text": [
      "tf.Tensor([[8.0160677e-01 1.9776984e-01 5.1578699e-04 1.0762054e-04]], shape=(1, 4), dtype=float32)\n",
      "[0.1, 0.0, 0.1, 0.1]\n",
      "tf.Tensor([[8.2824773e-01 1.7097470e-01 6.3825829e-04 1.3926165e-04]], shape=(1, 4), dtype=float32)\n"
     ]
    },
    {
     "name": "stderr",
     "output_type": "stream",
     "text": [
      " 17%|███████████▉                                                           | 16901/100000 [5:07:58<9:50:41,  2.34it/s]"
     ]
    },
    {
     "name": "stdout",
     "output_type": "stream",
     "text": [
      "5.997682725169042\n",
      "100\n"
     ]
    },
    {
     "name": "stderr",
     "output_type": "stream",
     "text": [
      " 17%|████████████                                                           | 17001/100000 [5:08:38<9:59:56,  2.31it/s]"
     ]
    },
    {
     "name": "stdout",
     "output_type": "stream",
     "text": [
      "6.074964768624004\n",
      "100\n",
      "[0.4, 0.3, 0.5, 0.7]\n",
      "tf.Tensor([[0.00708638 0.03788823 0.15696055 0.79806495]], shape=(1, 4), dtype=float32)\n",
      "[0.4, 0.7, 0.5, 0.7]\n",
      "tf.Tensor([[0.00637324 0.0471862  0.17952774 0.7669129 ]], shape=(1, 4), dtype=float32)\n",
      "[0.8, 0.7, 0.5, 0.7]\n",
      "tf.Tensor([[0.02396304 0.8459407  0.06225479 0.06784144]], shape=(1, 4), dtype=float32)\n",
      "[0.6, 0.7, 0.5, 0.7]\n",
      "tf.Tensor([[7.4877393e-01 2.5088614e-01 2.8690763e-04 5.3038118e-05]], shape=(1, 4), dtype=float32)\n"
     ]
    },
    {
     "name": "stderr",
     "output_type": "stream",
     "text": [
      " 17%|███████████▉                                                          | 17101/100000 [5:09:18<10:32:25,  2.18it/s]"
     ]
    },
    {
     "name": "stdout",
     "output_type": "stream",
     "text": [
      "5.9144288147459685\n",
      "100\n"
     ]
    },
    {
     "name": "stderr",
     "output_type": "stream",
     "text": [
      " 17%|████████████                                                          | 17201/100000 [5:10:00<11:03:36,  2.08it/s]"
     ]
    },
    {
     "name": "stdout",
     "output_type": "stream",
     "text": [
      "5.550617484180918\n",
      "100\n",
      "[0.9, 0.6, 0.6, 0.2]\n",
      "tf.Tensor([[0.00474234 0.0287956  0.14565028 0.8208118 ]], shape=(1, 4), dtype=float32)\n",
      "[0.9, 0.2, 0.6, 0.2]\n",
      "tf.Tensor([[0.00398631 0.05818924 0.18842396 0.7494005 ]], shape=(1, 4), dtype=float32)\n",
      "[0.5, 0.2, 0.6, 0.2]\n",
      "tf.Tensor([[0.03574803 0.941857   0.01390094 0.00849403]], shape=(1, 4), dtype=float32)\n",
      "[0.7, 0.2, 0.6, 0.2]\n",
      "tf.Tensor([[7.6925224e-01 2.3048820e-01 2.2177026e-04 3.7719015e-05]], shape=(1, 4), dtype=float32)\n"
     ]
    },
    {
     "name": "stderr",
     "output_type": "stream",
     "text": [
      " 17%|████████████                                                          | 17301/100000 [5:10:41<13:56:22,  1.65it/s]"
     ]
    },
    {
     "name": "stdout",
     "output_type": "stream",
     "text": [
      "5.582964936435601\n",
      "100\n"
     ]
    },
    {
     "name": "stderr",
     "output_type": "stream",
     "text": [
      " 17%|████████████▏                                                         | 17401/100000 [5:11:21<10:43:37,  2.14it/s]"
     ]
    },
    {
     "name": "stdout",
     "output_type": "stream",
     "text": [
      "5.791549730999275\n",
      "100\n",
      "[0.7, 0.6, 0.5, 0.7]\n",
      "tf.Tensor([[0.00462742 0.03099002 0.16183615 0.80254644]], shape=(1, 4), dtype=float32)\n",
      "[0.3, 0.6, 0.5, 0.7]\n",
      "tf.Tensor([[0.00544102 0.06449815 0.20251893 0.7275419 ]], shape=(1, 4), dtype=float32)\n",
      "[0.7, 0.6, 0.5, 0.7]\n",
      "tf.Tensor([[0.05105007 0.93496644 0.00900649 0.00497696]], shape=(1, 4), dtype=float32)\n",
      "[0.5, 0.6, 0.5, 0.7]\n",
      "tf.Tensor([[8.9985186e-01 9.9964559e-02 1.5867951e-04 2.4847159e-05]], shape=(1, 4), dtype=float32)\n"
     ]
    },
    {
     "name": "stderr",
     "output_type": "stream",
     "text": [
      " 18%|████████████▎                                                         | 17501/100000 [5:11:58<10:51:53,  2.11it/s]"
     ]
    },
    {
     "name": "stdout",
     "output_type": "stream",
     "text": [
      "6.034288712743413\n",
      "100\n"
     ]
    },
    {
     "name": "stderr",
     "output_type": "stream",
     "text": [
      " 18%|████████████▎                                                         | 17601/100000 [5:12:39<11:10:52,  2.05it/s]"
     ]
    },
    {
     "name": "stdout",
     "output_type": "stream",
     "text": [
      "5.696170139274508\n",
      "100\n",
      "[0.9, 0.3, 0.7, 0.4]\n",
      "tf.Tensor([[0.00353241 0.0237999  0.12547189 0.84719586]], shape=(1, 4), dtype=float32)\n",
      "[0.5, 0.3, 0.7, 0.4]\n",
      "tf.Tensor([[0.00417023 0.04592211 0.16283143 0.78707623]], shape=(1, 4), dtype=float32)\n",
      "[0.9, 0.3, 0.7, 0.4]\n",
      "tf.Tensor([[0.04016605 0.9425341  0.01099075 0.00630911]], shape=(1, 4), dtype=float32)\n",
      "[0.7, 0.3, 0.7, 0.4]\n",
      "tf.Tensor([[8.93937826e-01 1.05875656e-01 1.62269062e-04 2.41931139e-05]], shape=(1, 4), dtype=float32)\n"
     ]
    },
    {
     "name": "stderr",
     "output_type": "stream",
     "text": [
      " 18%|████████████▌                                                          | 17701/100000 [5:13:19<9:32:07,  2.40it/s]"
     ]
    },
    {
     "name": "stdout",
     "output_type": "stream",
     "text": [
      "6.167420678988999\n",
      "100\n"
     ]
    },
    {
     "name": "stderr",
     "output_type": "stream",
     "text": [
      " 18%|████████████▋                                                          | 17801/100000 [5:13:59<9:45:01,  2.34it/s]"
     ]
    },
    {
     "name": "stdout",
     "output_type": "stream",
     "text": [
      "6.155938030956107\n",
      "100\n",
      "[0.9, 0.0, 0.1, 0.1]\n",
      "tf.Tensor([[0.0032373  0.02043744 0.11781384 0.85851145]], shape=(1, 4), dtype=float32)\n",
      "[0.5, 0.0, 0.1, 0.1]\n",
      "tf.Tensor([[0.00294665 0.03045981 0.14682032 0.8197732 ]], shape=(1, 4), dtype=float32)\n",
      "[0.1, 0.0, 0.1, 0.1]\n",
      "tf.Tensor([[0.04279068 0.8790837  0.04455081 0.03357474]], shape=(1, 4), dtype=float32)\n",
      "[0.1, 0.2, 0.1, 0.1]\n",
      "tf.Tensor([[9.1288650e-01 8.6859763e-02 2.1869139e-04 3.5133668e-05]], shape=(1, 4), dtype=float32)\n"
     ]
    },
    {
     "name": "stderr",
     "output_type": "stream",
     "text": [
      " 18%|████████████▋                                                          | 17901/100000 [5:14:36<8:25:41,  2.71it/s]"
     ]
    },
    {
     "name": "stdout",
     "output_type": "stream",
     "text": [
      "6.259421190695355\n",
      "100\n"
     ]
    },
    {
     "name": "stderr",
     "output_type": "stream",
     "text": [
      " 18%|████████████▌                                                         | 18000/100000 [5:15:14<10:22:50,  2.19it/s]"
     ]
    },
    {
     "name": "stdout",
     "output_type": "stream",
     "text": [
      "5.889030531609331\n",
      "100\n",
      "[0.8, 0.2, 0.6, 0.2]\n",
      "tf.Tensor([[0.00311693 0.021326   0.12061488 0.8549422 ]], shape=(1, 4), dtype=float32)\n",
      "[0.4, 0.2, 0.6, 0.2]\n",
      "tf.Tensor([[0.00401527 0.04576358 0.16307032 0.7871509 ]], shape=(1, 4), dtype=float32)\n"
     ]
    },
    {
     "name": "stderr",
     "output_type": "stream",
     "text": [
      " 18%|████████████▊                                                          | 18002/100000 [5:15:15<9:01:43,  2.52it/s]"
     ]
    },
    {
     "name": "stdout",
     "output_type": "stream",
     "text": [
      "[0.8, 0.2, 0.6, 0.2]\n",
      "tf.Tensor([[0.04614901 0.9371111  0.01111744 0.00562241]], shape=(1, 4), dtype=float32)\n"
     ]
    },
    {
     "name": "stderr",
     "output_type": "stream",
     "text": [
      " 18%|████████████▊                                                          | 18101/100000 [5:15:53<9:26:01,  2.41it/s]"
     ]
    },
    {
     "name": "stdout",
     "output_type": "stream",
     "text": [
      "6.423460391704264\n",
      "100\n"
     ]
    },
    {
     "name": "stderr",
     "output_type": "stream",
     "text": [
      " 18%|████████████▉                                                          | 18200/100000 [5:16:31<8:00:38,  2.84it/s]"
     ]
    },
    {
     "name": "stdout",
     "output_type": "stream",
     "text": [
      "6.239015496117298\n",
      "100\n",
      "[0.2, 0.6, 0.2, 0.9]\n",
      "tf.Tensor([[0.00466681 0.02610831 0.14425531 0.82496965]], shape=(1, 4), dtype=float32)\n",
      "[0.2, 1.0, 0.2, 0.9]\n",
      "tf.Tensor([[0.004359   0.05504766 0.17801256 0.76258075]], shape=(1, 4), dtype=float32)\n",
      "[0.2, 0.6, 0.2, 0.9]\n",
      "tf.Tensor([[0.04311362 0.92014736 0.02349556 0.01324351]], shape=(1, 4), dtype=float32)\n",
      "[0.2, 0.8, 0.2, 0.9]\n"
     ]
    },
    {
     "name": "stderr",
     "output_type": "stream",
     "text": [
      "\r",
      " 18%|████████████▉                                                          | 18201/100000 [5:16:32<9:10:32,  2.48it/s]"
     ]
    },
    {
     "name": "stdout",
     "output_type": "stream",
     "text": [
      "tf.Tensor([[8.6751759e-01 1.3221505e-01 2.3542854e-04 3.1897482e-05]], shape=(1, 4), dtype=float32)\n"
     ]
    },
    {
     "name": "stderr",
     "output_type": "stream",
     "text": [
      " 18%|████████████▉                                                          | 18301/100000 [5:17:10<9:21:06,  2.43it/s]"
     ]
    },
    {
     "name": "stdout",
     "output_type": "stream",
     "text": [
      "6.2280464686063715\n",
      "100\n"
     ]
    },
    {
     "name": "stderr",
     "output_type": "stream",
     "text": [
      " 18%|████████████▉                                                         | 18401/100000 [5:17:47<10:22:08,  2.19it/s]"
     ]
    },
    {
     "name": "stdout",
     "output_type": "stream",
     "text": [
      "6.118756139998807\n",
      "100\n",
      "[0.3, 0.3, 0.6, 0.2]\n",
      "tf.Tensor([[0.00436576 0.02532348 0.1478727  0.822438  ]], shape=(1, 4), dtype=float32)\n",
      "[0.7, 0.3, 0.6, 0.2]\n",
      "tf.Tensor([[0.00352642 0.04520365 0.17770241 0.7735676 ]], shape=(1, 4), dtype=float32)\n",
      "[0.7, 0.0, 0.6, 0.2]\n",
      "tf.Tensor([[0.03375404 0.91736495 0.03053434 0.01834665]], shape=(1, 4), dtype=float32)\n",
      "[0.7, 0.2, 0.6, 0.2]\n",
      "tf.Tensor([[8.3701593e-01 1.6275969e-01 1.9806091e-04 2.6356063e-05]], shape=(1, 4), dtype=float32)\n"
     ]
    },
    {
     "name": "stderr",
     "output_type": "stream",
     "text": [
      " 19%|████████████▉                                                         | 18501/100000 [5:18:24<10:38:19,  2.13it/s]"
     ]
    },
    {
     "name": "stdout",
     "output_type": "stream",
     "text": [
      "6.289545960504684\n",
      "100\n"
     ]
    },
    {
     "name": "stderr",
     "output_type": "stream",
     "text": [
      " 19%|█████████████                                                         | 18601/100000 [5:19:01<10:35:08,  2.14it/s]"
     ]
    },
    {
     "name": "stdout",
     "output_type": "stream",
     "text": [
      "6.44030913018247\n",
      "100\n",
      "[0.0, 0.0, 0.7, 0.1]\n",
      "tf.Tensor([[0.00479795 0.02442217 0.15480605 0.8159739 ]], shape=(1, 4), dtype=float32)\n",
      "[0.4, 0.0, 0.7, 0.1]\n",
      "tf.Tensor([[0.00453093 0.03075731 0.1778523  0.7868595 ]], shape=(1, 4), dtype=float32)\n",
      "[0.8, 0.0, 0.7, 0.1]\n",
      "tf.Tensor([[0.02712563 0.7207274  0.12117147 0.13097544]], shape=(1, 4), dtype=float32)\n",
      "[0.6, 0.0, 0.7, 0.1]\n",
      "tf.Tensor([[8.4150183e-01 1.5805483e-01 3.8829277e-04 5.4997367e-05]], shape=(1, 4), dtype=float32)\n",
      "[0.6, 0.1, 0.7, 0.1]\n",
      "tf.Tensor([[8.8825941e-01 1.1149375e-01 2.1753774e-04 2.9293191e-05]], shape=(1, 4), dtype=float32)\n"
     ]
    },
    {
     "name": "stderr",
     "output_type": "stream",
     "text": [
      " 19%|█████████████                                                         | 18701/100000 [5:19:39<10:52:31,  2.08it/s]"
     ]
    },
    {
     "name": "stdout",
     "output_type": "stream",
     "text": [
      "6.245329853504715\n",
      "100\n"
     ]
    },
    {
     "name": "stderr",
     "output_type": "stream",
     "text": [
      " 19%|█████████████▏                                                        | 18801/100000 [5:20:17<10:15:22,  2.20it/s]"
     ]
    },
    {
     "name": "stdout",
     "output_type": "stream",
     "text": [
      "6.253843979043601\n",
      "100\n",
      "[0.8, 0.4, 0.6, 0.2]\n",
      "tf.Tensor([[0.00258191 0.0189624  0.13703111 0.8414245 ]], shape=(1, 4), dtype=float32)\n",
      "[0.8, 0.0, 0.6, 0.2]\n",
      "tf.Tensor([[0.00270865 0.0694279  0.19492733 0.73293614]], shape=(1, 4), dtype=float32)\n",
      "[0.4, 0.0, 0.6, 0.2]\n",
      "tf.Tensor([[0.06312901 0.92816937 0.00618577 0.00251593]], shape=(1, 4), dtype=float32)\n",
      "[0.6, 0.0, 0.6, 0.2]\n",
      "tf.Tensor([[9.0106851e-01 9.8763764e-02 1.4883078e-04 1.8974493e-05]], shape=(1, 4), dtype=float32)\n",
      "[0.6, 0.1, 0.6, 0.2]\n",
      "tf.Tensor([[9.0652013e-01 9.3284994e-02 1.7197905e-04 2.2890530e-05]], shape=(1, 4), dtype=float32)\n"
     ]
    },
    {
     "name": "stderr",
     "output_type": "stream",
     "text": [
      " 19%|█████████████▏                                                        | 18901/100000 [5:20:57<11:18:58,  1.99it/s]"
     ]
    },
    {
     "name": "stdout",
     "output_type": "stream",
     "text": [
      "5.958149517923489\n",
      "100\n"
     ]
    },
    {
     "name": "stderr",
     "output_type": "stream",
     "text": [
      " 19%|█████████████▍                                                         | 19000/100000 [5:21:34<8:20:24,  2.70it/s]"
     ]
    },
    {
     "name": "stdout",
     "output_type": "stream",
     "text": [
      "6.425701342611432\n",
      "100\n",
      "[0.4, 0.2, 0.5, 0.7]\n",
      "tf.Tensor([[0.00276777 0.01637737 0.11779579 0.8630591 ]], shape=(1, 4), dtype=float32)\n",
      "[0.4, 0.6, 0.5, 0.7]\n",
      "tf.Tensor([[0.00249937 0.02218922 0.14046791 0.8348435 ]], shape=(1, 4), dtype=float32)\n",
      "[0.4, 1.0, 0.5, 0.7]\n",
      "tf.Tensor([[0.02674258 0.90775365 0.03865684 0.02684684]], shape=(1, 4), dtype=float32)\n",
      "[0.4, 0.8, 0.5, 0.7]\n",
      "tf.Tensor([[9.1486627e-01 8.4967248e-02 1.4810327e-04 1.8395880e-05]], shape=(1, 4), dtype=float32)\n",
      "[0.5, 0.8, 0.5, 0.7]\n"
     ]
    },
    {
     "name": "stderr",
     "output_type": "stream",
     "text": [
      "\r",
      " 19%|█████████████▍                                                         | 19001/100000 [5:21:35<9:24:41,  2.39it/s]"
     ]
    },
    {
     "name": "stdout",
     "output_type": "stream",
     "text": [
      "tf.Tensor([[9.0824401e-01 9.1605142e-02 1.3470628e-04 1.6123267e-05]], shape=(1, 4), dtype=float32)\n"
     ]
    },
    {
     "name": "stderr",
     "output_type": "stream",
     "text": [
      " 19%|█████████████▌                                                         | 19101/100000 [5:22:14<9:26:24,  2.38it/s]"
     ]
    },
    {
     "name": "stdout",
     "output_type": "stream",
     "text": [
      "6.052498969955511\n",
      "100\n"
     ]
    },
    {
     "name": "stderr",
     "output_type": "stream",
     "text": [
      " 19%|█████████████▍                                                        | 19201/100000 [5:22:52<10:44:01,  2.09it/s]"
     ]
    },
    {
     "name": "stdout",
     "output_type": "stream",
     "text": [
      "5.998273843681226\n",
      "100\n",
      "[0.6, 0.1, 0.1, 0.1]\n",
      "tf.Tensor([[0.00181039 0.01342551 0.09598492 0.88877916]], shape=(1, 4), dtype=float32)\n",
      "[0.2, 0.1, 0.1, 0.1]\n",
      "tf.Tensor([[0.00199099 0.0316907  0.13421571 0.83210266]], shape=(1, 4), dtype=float32)\n",
      "[0.0, 0.1, 0.1, 0.1]\n",
      "tf.Tensor([[0.04556465 0.92175585 0.0202951  0.01238446]], shape=(1, 4), dtype=float32)\n",
      "[0.2, 0.1, 0.1, 0.1]\n",
      "tf.Tensor([[9.5436078e-01 4.5538317e-02 8.9434252e-05 1.1426074e-05]], shape=(1, 4), dtype=float32)\n"
     ]
    },
    {
     "name": "stderr",
     "output_type": "stream",
     "text": [
      " 19%|█████████████▋                                                         | 19301/100000 [5:23:27<8:55:15,  2.51it/s]"
     ]
    },
    {
     "name": "stdout",
     "output_type": "stream",
     "text": [
      "6.6236868342564\n",
      "100\n"
     ]
    },
    {
     "name": "stderr",
     "output_type": "stream",
     "text": [
      " 19%|█████████████▊                                                         | 19400/100000 [5:24:03<9:20:11,  2.40it/s]"
     ]
    },
    {
     "name": "stdout",
     "output_type": "stream",
     "text": [
      "6.331997753624405\n",
      "100\n",
      "[0.7, 0.8, 0.1, 0.1]\n",
      "tf.Tensor([[0.00162589 0.01115872 0.09203255 0.89518285]], shape=(1, 4), dtype=float32)\n",
      "[0.7, 0.4, 0.1, 0.1]\n",
      "tf.Tensor([[0.00140215 0.0261202  0.12686796 0.8456097 ]], shape=(1, 4), dtype=float32)\n",
      "[0.3, 0.4, 0.1, 0.1]\n",
      "tf.Tensor([[0.03393739 0.95458764 0.0075602  0.00391472]], shape=(1, 4), dtype=float32)\n",
      "[0.3, 0.2, 0.1, 0.1]\n"
     ]
    },
    {
     "name": "stderr",
     "output_type": "stream",
     "text": [
      "\r",
      " 19%|█████████████▌                                                        | 19401/100000 [5:24:03<10:06:37,  2.21it/s]"
     ]
    },
    {
     "name": "stdout",
     "output_type": "stream",
     "text": [
      "tf.Tensor([[9.364659e-01 6.344868e-02 7.600441e-05 9.346853e-06]], shape=(1, 4), dtype=float32)\n",
      "[0.2, 0.2, 0.1, 0.1]\n",
      "tf.Tensor([[9.3469298e-01 6.5190554e-02 1.0293650e-04 1.3511773e-05]], shape=(1, 4), dtype=float32)\n",
      "[0.2, 0.1, 0.1, 0.1]\n",
      "tf.Tensor([[9.2318702e-01 7.6676086e-02 1.2074192e-04 1.6186212e-05]], shape=(1, 4), dtype=float32)\n"
     ]
    },
    {
     "name": "stderr",
     "output_type": "stream",
     "text": [
      " 20%|█████████████▋                                                        | 19501/100000 [5:24:41<10:20:20,  2.16it/s]"
     ]
    },
    {
     "name": "stdout",
     "output_type": "stream",
     "text": [
      "6.085146018209935\n",
      "100\n"
     ]
    },
    {
     "name": "stderr",
     "output_type": "stream",
     "text": [
      " 20%|█████████████▋                                                        | 19601/100000 [5:25:17<11:08:10,  2.01it/s]"
     ]
    },
    {
     "name": "stdout",
     "output_type": "stream",
     "text": [
      "6.241679251719375\n",
      "100\n",
      "[0.5, 0.0, 0.7, 0.4]\n",
      "tf.Tensor([[0.00208312 0.01218985 0.08724984 0.8984772 ]], shape=(1, 4), dtype=float32)\n",
      "[0.5, 0.4, 0.7, 0.4]\n",
      "tf.Tensor([[0.00187358 0.01585136 0.10318426 0.8790908 ]], shape=(1, 4), dtype=float32)\n",
      "[0.9, 0.4, 0.7, 0.4]\n",
      "tf.Tensor([[0.02614438 0.9111503  0.03456203 0.02814335]], shape=(1, 4), dtype=float32)\n"
     ]
    },
    {
     "name": "stderr",
     "output_type": "stream",
     "text": [
      " 20%|█████████████▊                                                        | 19701/100000 [5:25:55<10:15:20,  2.17it/s]"
     ]
    },
    {
     "name": "stdout",
     "output_type": "stream",
     "text": [
      "6.192345022965328\n",
      "100\n"
     ]
    },
    {
     "name": "stderr",
     "output_type": "stream",
     "text": [
      " 20%|██████████████                                                         | 19801/100000 [5:26:31<8:59:55,  2.48it/s]"
     ]
    },
    {
     "name": "stdout",
     "output_type": "stream",
     "text": [
      "6.57054516283155\n",
      "100\n",
      "[0.6, 0.0, 0.5, 0.7]\n",
      "tf.Tensor([[0.00153457 0.0103771  0.07001779 0.91807044]], shape=(1, 4), dtype=float32)\n",
      "[0.6, 0.4, 0.5, 0.7]\n",
      "tf.Tensor([[0.00142505 0.01437997 0.08648495 0.8977101 ]], shape=(1, 4), dtype=float32)\n",
      "[0.6, 0.8, 0.5, 0.7]\n",
      "tf.Tensor([[0.03044702 0.9361732  0.0202466  0.01313322]], shape=(1, 4), dtype=float32)\n",
      "[0.6, 0.6, 0.5, 0.7]\n",
      "tf.Tensor([[9.5300305e-01 4.6927668e-02 6.2801242e-05 6.4475371e-06]], shape=(1, 4), dtype=float32)\n",
      "[0.5, 0.6, 0.5, 0.7]\n",
      "tf.Tensor([[9.5937908e-01 4.0554728e-02 6.0004233e-05 6.1586120e-06]], shape=(1, 4), dtype=float32)\n"
     ]
    },
    {
     "name": "stderr",
     "output_type": "stream",
     "text": [
      " 20%|██████████████▏                                                        | 19901/100000 [5:27:07<9:46:11,  2.28it/s]"
     ]
    },
    {
     "name": "stdout",
     "output_type": "stream",
     "text": [
      "6.1376621871321255\n",
      "100\n"
     ]
    },
    {
     "name": "stderr",
     "output_type": "stream",
     "text": [
      " 20%|██████████████▏                                                        | 20000/100000 [5:27:43<8:05:25,  2.75it/s]"
     ]
    },
    {
     "name": "stdout",
     "output_type": "stream",
     "text": [
      "6.477751260333401\n",
      "100\n",
      "[0.0, 0.3, 0.2, 0.9]\n",
      "tf.Tensor([[0.00189777 0.01171846 0.0846791  0.9017047 ]], shape=(1, 4), dtype=float32)\n",
      "[0.0, 0.7, 0.2, 0.9]\n",
      "tf.Tensor([[0.00173907 0.01439668 0.09626999 0.8875942 ]], shape=(1, 4), dtype=float32)\n",
      "[0.4, 0.7, 0.2, 0.9]\n",
      "tf.Tensor([[0.02231981 0.7635015  0.08998456 0.12419411]], shape=(1, 4), dtype=float32)\n",
      "[0.2, 0.7, 0.2, 0.9]\n",
      "tf.Tensor([[9.55721557e-01 4.41544652e-02 1.11248395e-04 1.27339499e-05]], shape=(1, 4), dtype=float32)\n",
      "[0.2, 0.8, 0.2, 0.9]\n"
     ]
    },
    {
     "name": "stderr",
     "output_type": "stream",
     "text": [
      "\r",
      " 20%|██████████████▏                                                        | 20001/100000 [5:27:43<8:40:14,  2.56it/s]"
     ]
    },
    {
     "name": "stdout",
     "output_type": "stream",
     "text": [
      "tf.Tensor([[9.6696669e-01 3.2950383e-02 7.4770855e-05 8.1920361e-06]], shape=(1, 4), dtype=float32)\n"
     ]
    },
    {
     "name": "stderr",
     "output_type": "stream",
     "text": [
      " 20%|██████████████▎                                                        | 20101/100000 [5:28:20<9:54:55,  2.24it/s]"
     ]
    },
    {
     "name": "stdout",
     "output_type": "stream",
     "text": [
      "6.242881265189516\n",
      "100\n"
     ]
    },
    {
     "name": "stderr",
     "output_type": "stream",
     "text": [
      " 20%|██████████████▎                                                        | 20201/100000 [5:28:58<8:01:59,  2.76it/s]"
     ]
    },
    {
     "name": "stdout",
     "output_type": "stream",
     "text": [
      "6.26981916045289\n",
      "100\n",
      "[0.5, 0.3, 0.6, 0.2]\n",
      "tf.Tensor([[0.00150439 0.0098818  0.07755003 0.9110638 ]], shape=(1, 4), dtype=float32)\n",
      "[0.9, 0.3, 0.6, 0.2]\n",
      "tf.Tensor([[0.00102349 0.0157305  0.09625622 0.88698983]], shape=(1, 4), dtype=float32)\n",
      "[0.5, 0.3, 0.6, 0.2]\n",
      "tf.Tensor([[0.04022382 0.9322109  0.01787416 0.00969109]], shape=(1, 4), dtype=float32)\n",
      "[0.7, 0.3, 0.6, 0.2]\n",
      "tf.Tensor([[9.7194541e-01 2.7997043e-02 5.2563180e-05 5.0381818e-06]], shape=(1, 4), dtype=float32)\n",
      "[0.6, 0.3, 0.6, 0.2]\n",
      "tf.Tensor([[9.7365391e-01 2.6286343e-02 5.4481246e-05 5.3019976e-06]], shape=(1, 4), dtype=float32)\n"
     ]
    },
    {
     "name": "stderr",
     "output_type": "stream",
     "text": [
      " 20%|██████████████▍                                                        | 20301/100000 [5:29:35<9:13:40,  2.40it/s]"
     ]
    },
    {
     "name": "stdout",
     "output_type": "stream",
     "text": [
      "6.139648438615081\n",
      "100\n"
     ]
    },
    {
     "name": "stderr",
     "output_type": "stream",
     "text": [
      " 20%|██████████████▍                                                        | 20401/100000 [5:30:13<9:33:28,  2.31it/s]"
     ]
    },
    {
     "name": "stdout",
     "output_type": "stream",
     "text": [
      "6.2498540837067775\n",
      "100\n",
      "[0.8, 0.2, 0.7, 0.4]\n",
      "tf.Tensor([[0.0011072  0.00690553 0.06341235 0.92857486]], shape=(1, 4), dtype=float32)\n",
      "[0.8, 0.6, 0.7, 0.4]\n",
      "tf.Tensor([[8.576642e-04 9.424594e-03 7.720063e-02 9.125171e-01]], shape=(1, 4), dtype=float32)\n",
      "[0.8, 0.2, 0.7, 0.4]\n",
      "tf.Tensor([[0.04911257 0.9236585  0.0179677  0.00926129]], shape=(1, 4), dtype=float32)\n",
      "[0.8, 0.4, 0.7, 0.4]\n",
      "tf.Tensor([[9.7279197e-01 2.7156673e-02 4.6984605e-05 4.3904547e-06]], shape=(1, 4), dtype=float32)\n"
     ]
    },
    {
     "name": "stderr",
     "output_type": "stream",
     "text": [
      " 21%|██████████████▌                                                        | 20501/100000 [5:30:49<9:36:59,  2.30it/s]"
     ]
    },
    {
     "name": "stdout",
     "output_type": "stream",
     "text": [
      "6.459338620512647\n",
      "100\n"
     ]
    },
    {
     "name": "stderr",
     "output_type": "stream",
     "text": [
      " 21%|██████████████▋                                                        | 20600/100000 [5:31:25<7:51:25,  2.81it/s]"
     ]
    },
    {
     "name": "stdout",
     "output_type": "stream",
     "text": [
      "6.286666833804701\n",
      "100\n",
      "[0.0, 0.8, 0.7, 0.1]\n",
      "tf.Tensor([[0.00119648 0.00654502 0.06444264 0.9278158 ]], shape=(1, 4), dtype=float32)\n",
      "[0.4, 0.8, 0.7, 0.1]\n",
      "tf.Tensor([[8.2546094e-04 6.9492916e-03 6.7144707e-02 9.2508054e-01]], shape=(1, 4), dtype=float32)\n",
      "[0.4, 0.4, 0.7, 0.1]\n",
      "tf.Tensor([[0.01880182 0.5286401  0.15718232 0.29537576]], shape=(1, 4), dtype=float32)\n",
      "[0.6, 0.4, 0.7, 0.1]\n",
      "tf.Tensor([[9.7274899e-01 2.7155045e-02 8.7127315e-05 8.7476628e-06]], shape=(1, 4), dtype=float32)\n",
      "[0.6, 0.3, 0.7, 0.1]\n"
     ]
    },
    {
     "name": "stderr",
     "output_type": "stream",
     "text": [
      "\r",
      " 21%|██████████████▍                                                       | 20601/100000 [5:31:26<10:01:55,  2.20it/s]"
     ]
    },
    {
     "name": "stdout",
     "output_type": "stream",
     "text": [
      "tf.Tensor([[9.7709978e-01 2.2826141e-02 6.7527501e-05 6.5252925e-06]], shape=(1, 4), dtype=float32)\n",
      "[0.6, 0.2, 0.7, 0.1]\n",
      "tf.Tensor([[9.7873348e-01 2.1187533e-02 7.1854665e-05 7.0829660e-06]], shape=(1, 4), dtype=float32)\n",
      "[0.7, 0.2, 0.7, 0.1]\n",
      "tf.Tensor([[9.810433e-01 1.889277e-02 5.847142e-05 5.556668e-06]], shape=(1, 4), dtype=float32)\n"
     ]
    },
    {
     "name": "stderr",
     "output_type": "stream",
     "text": [
      " 21%|██████████████▋                                                        | 20701/100000 [5:32:04<9:54:52,  2.22it/s]"
     ]
    },
    {
     "name": "stdout",
     "output_type": "stream",
     "text": [
      "6.223086883786725\n",
      "100\n"
     ]
    },
    {
     "name": "stderr",
     "output_type": "stream",
     "text": [
      " 21%|██████████████▊                                                        | 20800/100000 [5:32:40<8:16:27,  2.66it/s]"
     ]
    },
    {
     "name": "stdout",
     "output_type": "stream",
     "text": [
      "6.529256234323678\n",
      "100\n",
      "[0.6, 0.6, 0.5, 0.7]\n",
      "tf.Tensor([[8.0920343e-04 5.5674859e-03 6.4629555e-02 9.2899370e-01]], shape=(1, 4), dtype=float32)\n",
      "[0.2, 0.6, 0.5, 0.7]\n",
      "tf.Tensor([[0.00100263 0.01021496 0.09208005 0.8967023 ]], shape=(1, 4), dtype=float32)\n",
      "[0.6, 0.6, 0.5, 0.7]\n",
      "tf.Tensor([[0.0602728  0.9205909  0.01330878 0.00582756]], shape=(1, 4), dtype=float32)\n",
      "[0.4, 0.6, 0.5, 0.7]\n",
      "tf.Tensor([[9.8681831e-01 1.3135365e-02 4.2764183e-05 3.6099509e-06]], shape=(1, 4), dtype=float32)\n",
      "[0.5, 0.6, 0.5, 0.7]\n",
      "tf.Tensor([[9.8558283e-01 1.4362138e-02 5.0712599e-05 4.3069958e-06]], shape=(1, 4), dtype=float32)\n"
     ]
    },
    {
     "name": "stderr",
     "output_type": "stream",
     "text": [
      " 21%|██████████████▋                                                       | 20901/100000 [5:33:18<11:48:57,  1.86it/s]"
     ]
    },
    {
     "name": "stdout",
     "output_type": "stream",
     "text": [
      "5.8507196193546385\n",
      "100\n"
     ]
    },
    {
     "name": "stderr",
     "output_type": "stream",
     "text": [
      " 21%|██████████████▉                                                        | 21000/100000 [5:33:52<8:35:51,  2.55it/s]"
     ]
    },
    {
     "name": "stdout",
     "output_type": "stream",
     "text": [
      "6.122553433883122\n",
      "100\n",
      "[0.0, 0.0, 0.6, 0.2]\n",
      "tf.Tensor([[0.00167194 0.00784216 0.07696725 0.91351855]], shape=(1, 4), dtype=float32)\n",
      "[0.4, 0.0, 0.6, 0.2]\n",
      "tf.Tensor([[0.00144095 0.00828524 0.08366377 0.9066101 ]], shape=(1, 4), dtype=float32)\n",
      "[0.8, 0.0, 0.6, 0.2]\n",
      "tf.Tensor([[0.01073824 0.14155164 0.219886   0.6278241 ]], shape=(1, 4), dtype=float32)\n",
      "[0.8, 0.4, 0.6, 0.2]\n"
     ]
    },
    {
     "name": "stderr",
     "output_type": "stream",
     "text": [
      "\r",
      " 21%|██████████████▋                                                       | 21001/100000 [5:33:53<11:31:58,  1.90it/s]"
     ]
    },
    {
     "name": "stdout",
     "output_type": "stream",
     "text": [
      "tf.Tensor([[9.72424150e-01 2.74382662e-02 1.27155596e-04 1.04472965e-05]], shape=(1, 4), dtype=float32)\n",
      "[0.7, 0.4, 0.6, 0.2]\n",
      "tf.Tensor([[9.8135650e-01 1.8565888e-02 7.2187264e-05 5.4240754e-06]], shape=(1, 4), dtype=float32)\n",
      "[0.7, 0.3, 0.6, 0.2]\n",
      "tf.Tensor([[9.8558515e-01 1.4369214e-02 4.2618667e-05 2.9551354e-06]], shape=(1, 4), dtype=float32)\n",
      "[0.6, 0.3, 0.6, 0.2]\n",
      "tf.Tensor([[9.8566818e-01 1.4282104e-02 4.6374560e-05 3.3114050e-06]], shape=(1, 4), dtype=float32)\n"
     ]
    },
    {
     "name": "stderr",
     "output_type": "stream",
     "text": [
      " 21%|██████████████▊                                                       | 21101/100000 [5:34:31<10:20:25,  2.12it/s]"
     ]
    },
    {
     "name": "stdout",
     "output_type": "stream",
     "text": [
      "6.186231212181276\n",
      "100\n"
     ]
    },
    {
     "name": "stderr",
     "output_type": "stream",
     "text": [
      " 21%|███████████████                                                        | 21201/100000 [5:35:09<6:16:17,  3.49it/s]"
     ]
    },
    {
     "name": "stdout",
     "output_type": "stream",
     "text": [
      "6.424974276688242\n",
      "100\n",
      "[0.3, 0.1, 0.7, 0.1]\n",
      "tf.Tensor([[0.00128212 0.00589672 0.06654306 0.9262781 ]], shape=(1, 4), dtype=float32)\n"
     ]
    },
    {
     "name": "stderr",
     "output_type": "stream",
     "text": [
      " 21%|██████████████▉                                                       | 21301/100000 [5:35:46<10:10:43,  2.15it/s]"
     ]
    },
    {
     "name": "stdout",
     "output_type": "stream",
     "text": [
      "6.1114856608935755\n",
      "100\n"
     ]
    },
    {
     "name": "stderr",
     "output_type": "stream",
     "text": [
      " 21%|███████████████▏                                                       | 21400/100000 [5:36:24<7:45:01,  2.82it/s]"
     ]
    },
    {
     "name": "stdout",
     "output_type": "stream",
     "text": [
      "6.106266442737677\n",
      "100\n",
      "[0.7, 0.8, 0.1, 0.1]\n",
      "tf.Tensor([[7.8525249e-04 4.6667429e-03 6.0718153e-02 9.3382990e-01]], shape=(1, 4), dtype=float32)\n",
      "[0.7, 0.4, 0.1, 0.1]\n",
      "tf.Tensor([[6.7555171e-04 8.6441711e-03 9.1898002e-02 8.9878225e-01]], shape=(1, 4), dtype=float32)\n",
      "[0.3, 0.4, 0.1, 0.1]\n",
      "tf.Tensor([[0.09442444 0.88358116 0.01825179 0.00374256]], shape=(1, 4), dtype=float32)\n",
      "[0.3, 0.2, 0.1, 0.1]\n",
      "tf.Tensor([[9.8926848e-01 1.0680905e-02 4.8468864e-05 2.0770499e-06]], shape=(1, 4), dtype=float32)\n"
     ]
    },
    {
     "name": "stderr",
     "output_type": "stream",
     "text": [
      "\r",
      " 21%|███████████████▏                                                       | 21401/100000 [5:36:25<9:22:50,  2.33it/s]"
     ]
    },
    {
     "name": "stdout",
     "output_type": "stream",
     "text": [
      "[0.2, 0.2, 0.1, 0.1]\n",
      "tf.Tensor([[9.9016881e-01 9.7788423e-03 5.0140698e-05 2.2587267e-06]], shape=(1, 4), dtype=float32)\n",
      "[0.1, 0.2, 0.1, 0.1]\n",
      "tf.Tensor([[9.8553026e-01 1.4376364e-02 8.8928806e-05 4.4315179e-06]], shape=(1, 4), dtype=float32)\n"
     ]
    },
    {
     "name": "stderr",
     "output_type": "stream",
     "text": [
      " 22%|███████████████▎                                                       | 21501/100000 [5:37:02<8:20:15,  2.62it/s]"
     ]
    },
    {
     "name": "stdout",
     "output_type": "stream",
     "text": [
      "6.376283281092745\n",
      "100\n"
     ]
    },
    {
     "name": "stderr",
     "output_type": "stream",
     "text": [
      " 22%|███████████████▎                                                       | 21600/100000 [5:37:37<7:32:06,  2.89it/s]"
     ]
    },
    {
     "name": "stdout",
     "output_type": "stream",
     "text": [
      "6.643611836192042\n",
      "100\n",
      "[0.1, 0.9, 0.6, 0.2]\n",
      "tf.Tensor([[0.00096543 0.00487047 0.06343141 0.9307328 ]], shape=(1, 4), dtype=float32)\n",
      "[0.1, 0.5, 0.6, 0.2]\n",
      "tf.Tensor([[0.00099474 0.00643972 0.07988534 0.9126802 ]], shape=(1, 4), dtype=float32)\n",
      "[0.5, 0.5, 0.6, 0.2]\n",
      "tf.Tensor([[0.02543634 0.4790664  0.2554269  0.24007022]], shape=(1, 4), dtype=float32)\n",
      "[0.5, 0.3, 0.6, 0.2]\n",
      "tf.Tensor([[9.8790759e-01 1.2000633e-02 8.7180953e-05 4.5061679e-06]], shape=(1, 4), dtype=float32)\n",
      "[0.6, 0.3, 0.6, 0.2]\n"
     ]
    },
    {
     "name": "stderr",
     "output_type": "stream",
     "text": [
      "\r",
      " 22%|███████████████▎                                                       | 21601/100000 [5:37:38<7:47:04,  2.80it/s]"
     ]
    },
    {
     "name": "stdout",
     "output_type": "stream",
     "text": [
      "tf.Tensor([[9.886232e-01 1.128854e-02 8.404685e-05 4.257165e-06]], shape=(1, 4), dtype=float32)\n"
     ]
    },
    {
     "name": "stderr",
     "output_type": "stream",
     "text": [
      " 22%|███████████████▏                                                      | 21701/100000 [5:38:16<10:22:29,  2.10it/s]"
     ]
    },
    {
     "name": "stdout",
     "output_type": "stream",
     "text": [
      "5.864102576852004\n",
      "100\n"
     ]
    },
    {
     "name": "stderr",
     "output_type": "stream",
     "text": [
      " 22%|███████████████▍                                                       | 21801/100000 [5:38:53<8:58:30,  2.42it/s]"
     ]
    },
    {
     "name": "stdout",
     "output_type": "stream",
     "text": [
      "6.453323800617503\n",
      "100\n",
      "[0.4, 0.9, 0.1, 0.1]\n",
      "tf.Tensor([[8.7816245e-04 3.9607035e-03 6.6420928e-02 9.2874020e-01]], shape=(1, 4), dtype=float32)\n",
      "[0.4, 0.5, 0.1, 0.1]\n",
      "tf.Tensor([[7.4389897e-04 4.6613561e-03 7.8894854e-02 9.1569984e-01]], shape=(1, 4), dtype=float32)\n",
      "[0.4, 0.1, 0.1, 0.1]\n",
      "tf.Tensor([[0.02191929 0.39398697 0.31208798 0.27200577]], shape=(1, 4), dtype=float32)\n",
      "[0.2, 0.1, 0.1, 0.1]\n",
      "tf.Tensor([[9.9001980e-01 9.9002775e-03 7.6419077e-05 3.4995562e-06]], shape=(1, 4), dtype=float32)\n"
     ]
    },
    {
     "name": "stderr",
     "output_type": "stream",
     "text": [
      " 22%|███████████████▌                                                       | 21901/100000 [5:39:32<8:55:27,  2.43it/s]"
     ]
    },
    {
     "name": "stdout",
     "output_type": "stream",
     "text": [
      "6.0468905948552525\n",
      "100\n"
     ]
    },
    {
     "name": "stderr",
     "output_type": "stream",
     "text": [
      " 22%|███████████████▌                                                       | 22000/100000 [5:40:09<6:34:23,  3.30it/s]"
     ]
    },
    {
     "name": "stdout",
     "output_type": "stream",
     "text": [
      "6.344214718961952\n",
      "100\n",
      "[0.0, 0.8, 0.2, 0.9]\n",
      "tf.Tensor([[0.00113693 0.00464721 0.08462838 0.9095875 ]], shape=(1, 4), dtype=float32)\n",
      "[0.4, 0.8, 0.2, 0.9]\n",
      "tf.Tensor([[6.568221e-04 4.534833e-03 9.504353e-02 8.997649e-01]], shape=(1, 4), dtype=float32)\n",
      "[0.0, 0.8, 0.2, 0.9]\n",
      "tf.Tensor([[0.02166288 0.31776866 0.37396592 0.28660256]], shape=(1, 4), dtype=float32)\n",
      "[0.3, 0.8, 0.2, 0.9]\n",
      "tf.Tensor([[9.9046725e-01 9.4369324e-03 9.2298091e-05 3.4455729e-06]], shape=(1, 4), dtype=float32)\n",
      "[0.2, 0.8, 0.2, 0.9]\n"
     ]
    },
    {
     "name": "stderr",
     "output_type": "stream",
     "text": [
      "\r",
      " 22%|███████████████▌                                                       | 22001/100000 [5:40:10<8:03:00,  2.69it/s]"
     ]
    },
    {
     "name": "stdout",
     "output_type": "stream",
     "text": [
      "tf.Tensor([[9.9278694e-01 7.1287691e-03 8.1234633e-05 3.0822296e-06]], shape=(1, 4), dtype=float32)\n"
     ]
    },
    {
     "name": "stderr",
     "output_type": "stream",
     "text": [
      " 22%|███████████████▋                                                       | 22101/100000 [5:40:49<9:10:46,  2.36it/s]"
     ]
    },
    {
     "name": "stdout",
     "output_type": "stream",
     "text": [
      "6.142069195686053\n",
      "100\n"
     ]
    },
    {
     "name": "stderr",
     "output_type": "stream",
     "text": [
      " 22%|███████████████▊                                                       | 22200/100000 [5:41:29<8:00:26,  2.70it/s]"
     ]
    },
    {
     "name": "stdout",
     "output_type": "stream",
     "text": [
      "6.059268302920662\n",
      "100\n",
      "[0.6, 0.9, 0.5, 0.7]\n",
      "tf.Tensor([[8.2066533e-04 3.8730272e-03 8.1512421e-02 9.1379392e-01]], shape=(1, 4), dtype=float32)\n",
      "[0.6, 0.5, 0.5, 0.7]\n",
      "tf.Tensor([[7.5592945e-04 4.9821190e-03 1.0803066e-01 8.8623136e-01]], shape=(1, 4), dtype=float32)\n",
      "[0.6, 0.9, 0.5, 0.7]\n",
      "tf.Tensor([[0.03525377 0.5556983  0.30866593 0.10038199]], shape=(1, 4), dtype=float32)\n"
     ]
    },
    {
     "name": "stderr",
     "output_type": "stream",
     "text": [
      "\r",
      " 22%|███████████████▊                                                       | 22201/100000 [5:41:29<8:27:27,  2.56it/s]"
     ]
    },
    {
     "name": "stdout",
     "output_type": "stream",
     "text": [
      "[0.6, 0.7, 0.5, 0.7]\n",
      "tf.Tensor([[9.9302506e-01 6.9056945e-03 6.7180277e-05 2.0661332e-06]], shape=(1, 4), dtype=float32)\n"
     ]
    },
    {
     "name": "stderr",
     "output_type": "stream",
     "text": [
      " 22%|███████████████▊                                                       | 22301/100000 [5:42:06<9:24:28,  2.29it/s]"
     ]
    },
    {
     "name": "stdout",
     "output_type": "stream",
     "text": [
      "6.484310622585333\n",
      "100\n"
     ]
    },
    {
     "name": "stderr",
     "output_type": "stream",
     "text": [
      " 22%|███████████████▉                                                       | 22400/100000 [5:42:45<8:28:09,  2.55it/s]"
     ]
    },
    {
     "name": "stdout",
     "output_type": "stream",
     "text": [
      "5.707354163584808\n",
      "100\n",
      "[0.3, 0.8, 0.6, 0.2]\n",
      "tf.Tensor([[0.0009625  0.0038585  0.08540174 0.9097773 ]], shape=(1, 4), dtype=float32)\n",
      "[0.3, 0.4, 0.6, 0.2]\n",
      "tf.Tensor([[0.00093225 0.00476366 0.10909565 0.8852084 ]], shape=(1, 4), dtype=float32)\n",
      "[0.7, 0.4, 0.6, 0.2]\n",
      "tf.Tensor([[0.01009312 0.13308771 0.49368596 0.36313325]], shape=(1, 4), dtype=float32)\n",
      "[0.7, 0.1, 0.6, 0.2]\n",
      "tf.Tensor([[9.89157200e-01 1.07005825e-02 1.38072035e-04 4.08786582e-06]], shape=(1, 4), dtype=float32)\n",
      "[0.6, 0.1, 0.6, 0.2]\n"
     ]
    },
    {
     "name": "stderr",
     "output_type": "stream",
     "text": [
      "\r",
      " 22%|███████████████▋                                                      | 22401/100000 [5:42:46<11:13:57,  1.92it/s]"
     ]
    },
    {
     "name": "stdout",
     "output_type": "stream",
     "text": [
      "tf.Tensor([[9.9129033e-01 8.5620806e-03 1.4309035e-04 4.4815524e-06]], shape=(1, 4), dtype=float32)\n"
     ]
    },
    {
     "name": "stderr",
     "output_type": "stream",
     "text": [
      " 23%|███████████████▉                                                       | 22501/100000 [5:43:25<9:30:02,  2.27it/s]"
     ]
    },
    {
     "name": "stdout",
     "output_type": "stream",
     "text": [
      "6.138026543293635\n",
      "100\n"
     ]
    },
    {
     "name": "stderr",
     "output_type": "stream",
     "text": [
      " 23%|████████████████                                                       | 22600/100000 [5:44:04<7:56:00,  2.71it/s]"
     ]
    },
    {
     "name": "stdout",
     "output_type": "stream",
     "text": [
      "5.828166466815716\n",
      "100\n",
      "[0.7, 0.3, 0.2, 0.9]\n",
      "tf.Tensor([[8.204245e-04 3.138968e-03 7.037953e-02 9.256610e-01]], shape=(1, 4), dtype=float32)\n",
      "[0.7, 0.7, 0.2, 0.9]\n",
      "tf.Tensor([[5.1387417e-04 3.4560440e-03 9.0718374e-02 9.0531176e-01]], shape=(1, 4), dtype=float32)\n",
      "[0.3, 0.7, 0.2, 0.9]\n",
      "tf.Tensor([[0.05914826 0.49577627 0.37009326 0.07498224]], shape=(1, 4), dtype=float32)\n",
      "[0.3, 0.9, 0.2, 0.9]\n",
      "tf.Tensor([[9.9545610e-01 4.4709994e-03 7.1290968e-05 1.6198716e-06]], shape=(1, 4), dtype=float32)\n"
     ]
    },
    {
     "name": "stderr",
     "output_type": "stream",
     "text": [
      " 23%|████████████████                                                       | 22701/100000 [5:44:44<8:38:54,  2.48it/s]"
     ]
    },
    {
     "name": "stdout",
     "output_type": "stream",
     "text": [
      "5.814024910362247\n",
      "100\n"
     ]
    },
    {
     "name": "stderr",
     "output_type": "stream",
     "text": [
      " 23%|████████████████▏                                                      | 22800/100000 [5:45:23<9:01:05,  2.38it/s]"
     ]
    },
    {
     "name": "stdout",
     "output_type": "stream",
     "text": [
      "6.000991414607147\n",
      "100\n",
      "[0.9, 0.1, 0.2, 0.9]\n",
      "tf.Tensor([[7.1519584e-04 2.8093010e-03 7.4259959e-02 9.2221552e-01]], shape=(1, 4), dtype=float32)\n",
      "[0.9, 0.5, 0.2, 0.9]\n",
      "tf.Tensor([[4.4671111e-04 3.1420896e-03 1.0081365e-01 8.9559764e-01]], shape=(1, 4), dtype=float32)\n",
      "[0.5, 0.5, 0.2, 0.9]\n",
      "tf.Tensor([[0.05874541 0.45891538 0.42635366 0.05598549]], shape=(1, 4), dtype=float32)\n",
      "[0.5, 0.7, 0.2, 0.9]\n",
      "tf.Tensor([[9.9527788e-01 4.6292157e-03 9.1308648e-05 1.5562475e-06]], shape=(1, 4), dtype=float32)\n",
      "[0.4, 0.7, 0.2, 0.9]\n",
      "tf.Tensor([[9.9548423e-01 4.4323513e-03 8.2094273e-05 1.3764143e-06]], shape=(1, 4), dtype=float32)\n",
      "[0.3, 0.7, 0.2, 0.9]\n"
     ]
    },
    {
     "name": "stderr",
     "output_type": "stream",
     "text": [
      "\r",
      " 23%|████████████████▏                                                      | 22801/100000 [5:45:23<9:55:48,  2.16it/s]"
     ]
    },
    {
     "name": "stdout",
     "output_type": "stream",
     "text": [
      "tf.Tensor([[9.9435717e-01 5.5132960e-03 1.2726417e-04 2.3178018e-06]], shape=(1, 4), dtype=float32)\n",
      "[0.3, 0.8, 0.2, 0.9]\n",
      "tf.Tensor([[9.9509758e-01 4.8104469e-03 9.0377689e-05 1.5652467e-06]], shape=(1, 4), dtype=float32)\n",
      "[0.2, 0.8, 0.2, 0.9]\n",
      "tf.Tensor([[9.9462354e-01 5.2520600e-03 1.2210170e-04 2.2990796e-06]], shape=(1, 4), dtype=float32)\n"
     ]
    },
    {
     "name": "stderr",
     "output_type": "stream",
     "text": [
      " 23%|████████████████▎                                                      | 22901/100000 [5:46:03<9:27:48,  2.26it/s]"
     ]
    },
    {
     "name": "stdout",
     "output_type": "stream",
     "text": [
      "5.812882713061761\n",
      "100\n"
     ]
    },
    {
     "name": "stderr",
     "output_type": "stream",
     "text": [
      " 23%|████████████████▎                                                      | 23000/100000 [5:46:41<8:39:44,  2.47it/s]"
     ]
    },
    {
     "name": "stdout",
     "output_type": "stream",
     "text": [
      "6.3831137383765375\n",
      "100\n",
      "[0.7, 0.4, 0.1, 0.1]\n",
      "tf.Tensor([[5.1528914e-04 2.1431178e-03 6.8405494e-02 9.2893612e-01]], shape=(1, 4), dtype=float32)\n",
      "[0.3, 0.4, 0.1, 0.1]\n",
      "tf.Tensor([[5.0961884e-04 2.8822457e-03 9.2585661e-02 9.0402246e-01]], shape=(1, 4), dtype=float32)\n",
      "[0.3, 0.0, 0.1, 0.1]\n",
      "tf.Tensor([[0.01596346 0.16343701 0.61846036 0.20213924]], shape=(1, 4), dtype=float32)\n",
      "[0.0, 0.0, 0.1, 0.1]\n"
     ]
    },
    {
     "name": "stderr",
     "output_type": "stream",
     "text": [
      "\r",
      " 23%|████████████████▎                                                      | 23001/100000 [5:46:41<9:30:17,  2.25it/s]"
     ]
    },
    {
     "name": "stdout",
     "output_type": "stream",
     "text": [
      "tf.Tensor([[9.9307245e-01 6.7236079e-03 1.9964726e-04 4.2809479e-06]], shape=(1, 4), dtype=float32)\n",
      "[0.0, 0.1, 0.1, 0.1]\n",
      "tf.Tensor([[9.88828182e-01 1.07596945e-02 4.01566474e-04 1.05095432e-05]], shape=(1, 4), dtype=float32)\n"
     ]
    },
    {
     "name": "stderr",
     "output_type": "stream",
     "text": [
      " 23%|████████████████▍                                                      | 23101/100000 [5:47:20<9:48:08,  2.18it/s]"
     ]
    },
    {
     "name": "stdout",
     "output_type": "stream",
     "text": [
      "5.9825843801984\n",
      "100\n"
     ]
    },
    {
     "name": "stderr",
     "output_type": "stream",
     "text": [
      " 23%|████████████████▍                                                      | 23200/100000 [5:47:58<8:43:38,  2.44it/s]"
     ]
    },
    {
     "name": "stdout",
     "output_type": "stream",
     "text": [
      "6.1487993799195\n",
      "100\n",
      "[0.8, 0.3, 0.6, 0.2]\n",
      "tf.Tensor([[4.0218173e-04 1.5880124e-03 5.8082890e-02 9.3992692e-01]], shape=(1, 4), dtype=float32)\n",
      "[0.4, 0.3, 0.6, 0.2]\n",
      "tf.Tensor([[4.4628346e-04 2.2721298e-03 8.3587594e-02 9.1369396e-01]], shape=(1, 4), dtype=float32)\n",
      "[0.8, 0.3, 0.6, 0.2]\n",
      "tf.Tensor([[0.01291695 0.12146161 0.6837279  0.18189353]], shape=(1, 4), dtype=float32)\n",
      "[0.5, 0.3, 0.6, 0.2]\n",
      "tf.Tensor([[9.9556786e-01 4.2717298e-03 1.5800081e-04 2.4902452e-06]], shape=(1, 4), dtype=float32)\n",
      "[0.6, 0.3, 0.6, 0.2]\n"
     ]
    },
    {
     "name": "stderr",
     "output_type": "stream",
     "text": [
      "\r",
      " 23%|████████████████▍                                                      | 23201/100000 [5:47:59<9:56:06,  2.15it/s]"
     ]
    },
    {
     "name": "stdout",
     "output_type": "stream",
     "text": [
      "tf.Tensor([[9.9453461e-01 5.2665765e-03 1.9567928e-04 3.1652119e-06]], shape=(1, 4), dtype=float32)\n"
     ]
    },
    {
     "name": "stderr",
     "output_type": "stream",
     "text": [
      " 23%|████████████████▎                                                     | 23301/100000 [5:48:39<10:36:31,  2.01it/s]"
     ]
    },
    {
     "name": "stdout",
     "output_type": "stream",
     "text": [
      "5.69606448270541\n",
      "100\n"
     ]
    },
    {
     "name": "stderr",
     "output_type": "stream",
     "text": [
      " 23%|████████████████▌                                                      | 23400/100000 [5:49:18<7:35:19,  2.80it/s]"
     ]
    },
    {
     "name": "stdout",
     "output_type": "stream",
     "text": [
      "6.051950542325358\n",
      "100\n",
      "[0.1, 0.7, 0.1, 0.1]\n",
      "tf.Tensor([[4.6467999e-04 1.6366846e-03 4.2943358e-02 9.5495528e-01]], shape=(1, 4), dtype=float32)\n",
      "[0.1, 0.3, 0.1, 0.1]\n",
      "tf.Tensor([[4.0798920e-04 1.6671726e-03 4.8717462e-02 9.4920737e-01]], shape=(1, 4), dtype=float32)\n",
      "[0.1, 0.0, 0.1, 0.1]\n",
      "tf.Tensor([[0.00096585 0.00542975 0.1389886  0.8546158 ]], shape=(1, 4), dtype=float32)\n",
      "[0.1, 0.4, 0.1, 0.1]\n",
      "tf.Tensor([[9.8245174e-01 1.6641760e-02 8.8727276e-04 1.9220881e-05]], shape=(1, 4), dtype=float32)\n",
      "[0.1, 0.3, 0.1, 0.1]\n",
      "tf.Tensor([[9.7818106e-01 2.0597722e-02 1.1936752e-03 2.7515316e-05]], shape=(1, 4), dtype=float32)\n",
      "[0.1, 0.2, 0.1, 0.1]\n"
     ]
    },
    {
     "name": "stderr",
     "output_type": "stream",
     "text": [
      "\r",
      " 23%|████████████████▌                                                      | 23401/100000 [5:49:19<9:12:16,  2.31it/s]"
     ]
    },
    {
     "name": "stdout",
     "output_type": "stream",
     "text": [
      "tf.Tensor([[9.7964382e-01 1.9233404e-02 1.0975351e-03 2.5269897e-05]], shape=(1, 4), dtype=float32)\n"
     ]
    },
    {
     "name": "stderr",
     "output_type": "stream",
     "text": [
      " 24%|████████████████▍                                                     | 23501/100000 [5:50:00<10:28:21,  2.03it/s]"
     ]
    },
    {
     "name": "stdout",
     "output_type": "stream",
     "text": [
      "5.561388919882058\n",
      "100\n"
     ]
    },
    {
     "name": "stderr",
     "output_type": "stream",
     "text": [
      " 24%|████████████████▊                                                      | 23600/100000 [5:50:42<9:23:12,  2.26it/s]"
     ]
    },
    {
     "name": "stdout",
     "output_type": "stream",
     "text": [
      "5.8330287603363065\n",
      "100\n",
      "[0.0, 0.1, 0.5, 0.7]\n",
      "tf.Tensor([[5.6592346e-04 1.8371303e-03 4.2329572e-02 9.5526737e-01]], shape=(1, 4), dtype=float32)\n",
      "[0.0, 0.5, 0.5, 0.7]\n",
      "tf.Tensor([[5.1140139e-04 1.8300962e-03 4.7492798e-02 9.5016569e-01]], shape=(1, 4), dtype=float32)\n",
      "[0.4, 0.5, 0.5, 0.7]\n",
      "tf.Tensor([[0.00143929 0.00688185 0.16761234 0.8240666 ]], shape=(1, 4), dtype=float32)\n",
      "[0.4, 0.9, 0.5, 0.7]\n",
      "tf.Tensor([[9.8658794e-01 1.2710466e-02 6.8783556e-04 1.3715591e-05]], shape=(1, 4), dtype=float32)\n",
      "[0.4, 0.8, 0.5, 0.7]\n",
      "tf.Tensor([[9.9107051e-01 8.5572647e-03 3.6619525e-04 6.0326552e-06]], shape=(1, 4), dtype=float32)\n",
      "[0.5, 0.8, 0.5, 0.7]\n"
     ]
    },
    {
     "name": "stderr",
     "output_type": "stream",
     "text": [
      "\r",
      " 24%|████████████████▊                                                      | 23601/100000 [5:50:43<9:57:35,  2.13it/s]"
     ]
    },
    {
     "name": "stdout",
     "output_type": "stream",
     "text": [
      "tf.Tensor([[9.9258840e-01 7.1369573e-03 2.7048591e-04 4.1103553e-06]], shape=(1, 4), dtype=float32)\n"
     ]
    },
    {
     "name": "stderr",
     "output_type": "stream",
     "text": [
      " 24%|████████████████▊                                                      | 23701/100000 [5:51:23<9:09:05,  2.32it/s]"
     ]
    },
    {
     "name": "stdout",
     "output_type": "stream",
     "text": [
      "5.960178319685495\n",
      "100\n"
     ]
    },
    {
     "name": "stderr",
     "output_type": "stream",
     "text": [
      " 24%|████████████████▉                                                      | 23800/100000 [5:52:03<8:47:27,  2.41it/s]"
     ]
    },
    {
     "name": "stdout",
     "output_type": "stream",
     "text": [
      "5.955512855173549\n",
      "100\n",
      "[0.9, 0.3, 0.6, 0.2]\n",
      "tf.Tensor([[2.8842691e-04 1.1211537e-03 4.1268382e-02 9.5732200e-01]], shape=(1, 4), dtype=float32)\n",
      "[0.5, 0.3, 0.6, 0.2]\n",
      "tf.Tensor([[3.1959909e-04 1.6875252e-03 6.4611509e-02 9.3338132e-01]], shape=(1, 4), dtype=float32)\n",
      "[0.9, 0.3, 0.6, 0.2]\n",
      "tf.Tensor([[0.02495156 0.19244653 0.6886518  0.09395009]], shape=(1, 4), dtype=float32)\n",
      "[0.6, 0.3, 0.6, 0.2]\n"
     ]
    },
    {
     "name": "stderr",
     "output_type": "stream",
     "text": [
      "\r",
      " 24%|████████████████▉                                                      | 23801/100000 [5:52:03<9:26:58,  2.24it/s]"
     ]
    },
    {
     "name": "stdout",
     "output_type": "stream",
     "text": [
      "tf.Tensor([[9.9680954e-01 3.0617679e-03 1.2717437e-04 1.5283586e-06]], shape=(1, 4), dtype=float32)\n"
     ]
    },
    {
     "name": "stderr",
     "output_type": "stream",
     "text": [
      " 24%|████████████████▋                                                     | 23901/100000 [5:52:43<10:16:08,  2.06it/s]"
     ]
    },
    {
     "name": "stdout",
     "output_type": "stream",
     "text": [
      "5.925895829643413\n",
      "100\n"
     ]
    },
    {
     "name": "stderr",
     "output_type": "stream",
     "text": [
      " 24%|█████████████████                                                      | 24001/100000 [5:53:23<9:30:40,  2.22it/s]"
     ]
    },
    {
     "name": "stdout",
     "output_type": "stream",
     "text": [
      "6.178601282727238\n",
      "100\n",
      "[0.5, 0.4, 0.5, 0.7]\n",
      "tf.Tensor([[3.2363675e-04 1.0995173e-03 3.4509916e-02 9.6406698e-01]], shape=(1, 4), dtype=float32)\n",
      "[0.5, 0.8, 0.5, 0.7]\n",
      "tf.Tensor([[2.4072644e-04 1.1751381e-03 4.4095557e-02 9.5448858e-01]], shape=(1, 4), dtype=float32)\n",
      "[0.5, 0.4, 0.5, 0.7]\n",
      "tf.Tensor([[0.0176803  0.09247168 0.7192423  0.17060573]], shape=(1, 4), dtype=float32)\n"
     ]
    },
    {
     "name": "stderr",
     "output_type": "stream",
     "text": [
      " 24%|█████████████████                                                      | 24101/100000 [5:54:01<8:22:21,  2.52it/s]"
     ]
    },
    {
     "name": "stdout",
     "output_type": "stream",
     "text": [
      "6.103576975348974\n",
      "100\n"
     ]
    },
    {
     "name": "stderr",
     "output_type": "stream",
     "text": [
      " 24%|█████████████████▏                                                     | 24200/100000 [5:54:39<6:31:09,  3.23it/s]"
     ]
    },
    {
     "name": "stdout",
     "output_type": "stream",
     "text": [
      "6.616793443863144\n",
      "100\n",
      "[0.5, 0.7, 0.7, 0.1]\n",
      "tf.Tensor([[2.2905017e-04 8.8851363e-04 2.9518498e-02 9.6936393e-01]], shape=(1, 4), dtype=float32)\n",
      "[0.5, 0.3, 0.7, 0.1]\n",
      "tf.Tensor([[2.4214236e-04 1.2819979e-03 4.9842764e-02 9.4863302e-01]], shape=(1, 4), dtype=float32)\n",
      "[0.9, 0.3, 0.7, 0.1]\n",
      "tf.Tensor([[0.02740248 0.18194914 0.71716654 0.07348184]], shape=(1, 4), dtype=float32)\n",
      "[0.9, 0.0, 0.7, 0.1]\n",
      "tf.Tensor([[9.9688369e-01 3.0111116e-03 1.0436595e-04 8.6020856e-07]], shape=(1, 4), dtype=float32)\n",
      "[0.8, 0.0, 0.7, 0.1]\n",
      "tf.Tensor([[9.9712294e-01 2.7566506e-03 1.1939358e-04 1.0734980e-06]], shape=(1, 4), dtype=float32)\n",
      "[0.8, 0.1, 0.7, 0.1]\n"
     ]
    },
    {
     "name": "stderr",
     "output_type": "stream",
     "text": [
      "\r",
      " 24%|█████████████████▏                                                     | 24201/100000 [5:54:39<7:57:07,  2.65it/s]"
     ]
    },
    {
     "name": "stdout",
     "output_type": "stream",
     "text": [
      "tf.Tensor([[9.9765450e-01 2.2630284e-03 8.1809201e-05 6.9154879e-07]], shape=(1, 4), dtype=float32)\n"
     ]
    },
    {
     "name": "stderr",
     "output_type": "stream",
     "text": [
      " 24%|█████████████████▎                                                     | 24301/100000 [5:55:15<8:25:49,  2.49it/s]"
     ]
    },
    {
     "name": "stdout",
     "output_type": "stream",
     "text": [
      "6.43338719018437\n",
      "100\n"
     ]
    },
    {
     "name": "stderr",
     "output_type": "stream",
     "text": [
      " 24%|█████████████████▎                                                     | 24400/100000 [5:55:52<7:00:47,  2.99it/s]"
     ]
    },
    {
     "name": "stdout",
     "output_type": "stream",
     "text": [
      "6.399058123723263\n",
      "100\n",
      "[0.6, 0.2, 0.1, 0.1]\n",
      "tf.Tensor([[2.0878021e-04 8.3584670e-04 3.6256790e-02 9.6269846e-01]], shape=(1, 4), dtype=float32)\n",
      "[0.2, 0.2, 0.1, 0.1]\n",
      "tf.Tensor([[2.3301720e-04 1.2304446e-03 5.8518857e-02 9.4001770e-01]], shape=(1, 4), dtype=float32)\n",
      "[0.2, 0.0, 0.1, 0.1]\n",
      "tf.Tensor([[0.01301137 0.06380385 0.783038   0.14014672]], shape=(1, 4), dtype=float32)\n",
      "[0.2, 0.3, 0.1, 0.1]\n",
      "tf.Tensor([[9.9607557e-01 3.6771907e-03 2.4500641e-04 2.2221238e-06]], shape=(1, 4), dtype=float32)\n",
      "[0.2, 0.2, 0.1, 0.1]\n",
      "tf.Tensor([[9.9255592e-01 6.9139050e-03 5.2507297e-04 5.1527572e-06]], shape=(1, 4), dtype=float32)\n",
      "[0.2, 0.1, 0.1, 0.1]\n"
     ]
    },
    {
     "name": "stderr",
     "output_type": "stream",
     "text": [
      "\r",
      " 24%|█████████████████▎                                                     | 24401/100000 [5:55:53<8:13:51,  2.55it/s]"
     ]
    },
    {
     "name": "stdout",
     "output_type": "stream",
     "text": [
      "tf.Tensor([[9.9416578e-01 5.4536578e-03 3.7713911e-04 3.4676498e-06]], shape=(1, 4), dtype=float32)\n"
     ]
    },
    {
     "name": "stderr",
     "output_type": "stream",
     "text": [
      " 25%|█████████████████▍                                                     | 24501/100000 [5:56:31<9:14:15,  2.27it/s]"
     ]
    },
    {
     "name": "stdout",
     "output_type": "stream",
     "text": [
      "5.957413047500126\n",
      "100\n"
     ]
    },
    {
     "name": "stderr",
     "output_type": "stream",
     "text": [
      " 25%|█████████████████▍                                                     | 24600/100000 [5:57:08<8:46:00,  2.39it/s]"
     ]
    },
    {
     "name": "stdout",
     "output_type": "stream",
     "text": [
      "5.8392554041841365\n",
      "100\n",
      "[0.9, 0.8, 0.1, 0.1]\n",
      "tf.Tensor([[1.1447099e-04 5.6199863e-04 2.9439764e-02 9.6988374e-01]], shape=(1, 4), dtype=float32)\n",
      "[0.5, 0.8, 0.1, 0.1]\n",
      "tf.Tensor([[1.9385114e-04 1.3916678e-03 8.8255830e-02 9.1015869e-01]], shape=(1, 4), dtype=float32)\n",
      "[0.5, 0.4, 0.1, 0.1]\n",
      "tf.Tensor([[0.08679465 0.3377595  0.56290895 0.0125369 ]], shape=(1, 4), dtype=float32)\n",
      "[0.2, 0.4, 0.1, 0.1]\n",
      "tf.Tensor([[9.9704200e-01 2.7886210e-03 1.6837001e-04 9.7133420e-07]], shape=(1, 4), dtype=float32)\n",
      "[0.2, 0.3, 0.1, 0.1]\n"
     ]
    },
    {
     "name": "stderr",
     "output_type": "stream",
     "text": [
      "\r",
      " 25%|█████████████████▏                                                    | 24601/100000 [5:57:09<10:06:17,  2.07it/s]"
     ]
    },
    {
     "name": "stdout",
     "output_type": "stream",
     "text": [
      "tf.Tensor([[9.9574006e-01 4.0026028e-03 2.5581074e-04 1.5925679e-06]], shape=(1, 4), dtype=float32)\n",
      "[0.2, 0.2, 0.1, 0.1]\n",
      "tf.Tensor([[9.9574149e-01 3.9901701e-03 2.6659394e-04 1.8072498e-06]], shape=(1, 4), dtype=float32)\n",
      "[0.2, 0.1, 0.1, 0.1]\n",
      "tf.Tensor([[9.9345487e-01 6.1098258e-03 4.3228533e-04 2.9294370e-06]], shape=(1, 4), dtype=float32)\n"
     ]
    },
    {
     "name": "stderr",
     "output_type": "stream",
     "text": [
      " 25%|█████████████████▌                                                     | 24701/100000 [5:57:46<7:46:05,  2.69it/s]"
     ]
    },
    {
     "name": "stdout",
     "output_type": "stream",
     "text": [
      "6.466359615826342\n",
      "100\n"
     ]
    },
    {
     "name": "stderr",
     "output_type": "stream",
     "text": [
      " 25%|█████████████████▌                                                     | 24800/100000 [5:58:23<8:15:33,  2.53it/s]"
     ]
    },
    {
     "name": "stdout",
     "output_type": "stream",
     "text": [
      "6.376978473236648\n",
      "100\n",
      "[0.5, 0.8, 0.5, 0.7]\n",
      "tf.Tensor([[1.3142038e-04 5.3352566e-04 2.0452490e-02 9.7888261e-01]], shape=(1, 4), dtype=float32)\n",
      "[0.5, 0.4, 0.5, 0.7]\n",
      "tf.Tensor([[1.2961804e-04 6.9503818e-04 3.2012489e-02 9.6716279e-01]], shape=(1, 4), dtype=float32)\n",
      "[0.5, 0.8, 0.5, 0.7]\n",
      "tf.Tensor([[0.01470546 0.09446859 0.8210255  0.06980044]], shape=(1, 4), dtype=float32)\n",
      "[0.5, 0.5, 0.5, 0.7]\n",
      "tf.Tensor([[9.9651104e-01 3.2704996e-03 2.1724988e-04 1.1539978e-06]], shape=(1, 4), dtype=float32)\n",
      "[0.5, 0.6, 0.5, 0.7]\n"
     ]
    },
    {
     "name": "stderr",
     "output_type": "stream",
     "text": [
      "\r",
      " 25%|█████████████████▌                                                     | 24801/100000 [5:58:24<9:04:35,  2.30it/s]"
     ]
    },
    {
     "name": "stdout",
     "output_type": "stream",
     "text": [
      "tf.Tensor([[9.9687946e-01 2.9141963e-03 2.0518563e-04 1.1579109e-06]], shape=(1, 4), dtype=float32)\n"
     ]
    },
    {
     "name": "stderr",
     "output_type": "stream",
     "text": [
      " 25%|█████████████████▋                                                     | 24901/100000 [5:59:01<7:19:19,  2.85it/s]"
     ]
    },
    {
     "name": "stdout",
     "output_type": "stream",
     "text": [
      "6.557928506434105\n",
      "100\n"
     ]
    },
    {
     "name": "stderr",
     "output_type": "stream",
     "text": [
      " 25%|█████████████████▌                                                    | 25001/100000 [5:59:37<10:18:54,  2.02it/s]"
     ]
    },
    {
     "name": "stdout",
     "output_type": "stream",
     "text": [
      "6.106526556707286\n",
      "100\n",
      "[0.7, 0.7, 0.6, 0.2]\n",
      "tf.Tensor([[1.03832754e-04 4.16266033e-04 1.74098462e-02 9.82069969e-01]], shape=(1, 4), dtype=float32)\n",
      "[0.7, 0.3, 0.6, 0.2]\n",
      "tf.Tensor([[8.9034351e-05 5.2032626e-04 2.7767528e-02 9.7162306e-01]], shape=(1, 4), dtype=float32)\n",
      "[0.7, 0.0, 0.6, 0.2]\n",
      "tf.Tensor([[0.02143345 0.09858012 0.8410303  0.03895609]], shape=(1, 4), dtype=float32)\n",
      "[0.7, 0.3, 0.6, 0.2]\n",
      "tf.Tensor([[9.9777693e-01 2.0460344e-03 1.7628049e-04 7.6282834e-07]], shape=(1, 4), dtype=float32)\n",
      "[0.7, 0.2, 0.6, 0.2]\n",
      "tf.Tensor([[9.9798453e-01 1.8643612e-03 1.5047114e-04 6.3710570e-07]], shape=(1, 4), dtype=float32)\n"
     ]
    },
    {
     "name": "stderr",
     "output_type": "stream",
     "text": [
      " 25%|█████████████████▊                                                     | 25101/100000 [6:00:17<9:16:00,  2.25it/s]"
     ]
    },
    {
     "name": "stdout",
     "output_type": "stream",
     "text": [
      "5.962477444055296\n",
      "100\n"
     ]
    },
    {
     "name": "stderr",
     "output_type": "stream",
     "text": [
      " 25%|█████████████████▉                                                     | 25201/100000 [6:00:57<9:31:51,  2.18it/s]"
     ]
    },
    {
     "name": "stdout",
     "output_type": "stream",
     "text": [
      "5.768114510505071\n",
      "100\n",
      "[0.6, 0.9, 0.5, 0.7]\n",
      "tf.Tensor([[8.6987719e-05 3.7129910e-04 1.3670474e-02 9.8587126e-01]], shape=(1, 4), dtype=float32)\n",
      "[0.6, 0.5, 0.5, 0.7]\n",
      "tf.Tensor([[9.4498042e-05 5.4265221e-04 2.5123429e-02 9.7423947e-01]], shape=(1, 4), dtype=float32)\n",
      "[0.6, 0.9, 0.5, 0.7]\n",
      "tf.Tensor([[0.03412885 0.17598026 0.7692152  0.02067567]], shape=(1, 4), dtype=float32)\n",
      "[0.6, 0.6, 0.5, 0.7]\n",
      "tf.Tensor([[9.9747485e-01 2.3380422e-03 1.8638729e-04 6.9902501e-07]], shape=(1, 4), dtype=float32)\n",
      "[0.6, 0.7, 0.5, 0.7]\n",
      "tf.Tensor([[9.9781322e-01 2.0427681e-03 1.4337164e-04 5.1805711e-07]], shape=(1, 4), dtype=float32)\n"
     ]
    },
    {
     "name": "stderr",
     "output_type": "stream",
     "text": [
      " 25%|█████████████████▉                                                     | 25301/100000 [6:01:33<6:21:57,  3.26it/s]"
     ]
    },
    {
     "name": "stdout",
     "output_type": "stream",
     "text": [
      "6.7795789346960005\n",
      "100\n"
     ]
    },
    {
     "name": "stderr",
     "output_type": "stream",
     "text": [
      " 25%|██████████████████                                                     | 25401/100000 [6:02:11<7:49:29,  2.65it/s]"
     ]
    },
    {
     "name": "stdout",
     "output_type": "stream",
     "text": [
      "6.34808282926253\n",
      "100\n",
      "[0.6, 0.4, 0.2, 0.9]\n",
      "tf.Tensor([[9.8400225e-05 3.8448389e-04 1.3431111e-02 9.8608601e-01]], shape=(1, 4), dtype=float32)\n",
      "[0.6, 0.8, 0.2, 0.9]\n",
      "tf.Tensor([[6.594129e-05 3.996089e-04 2.001333e-02 9.795211e-01]], shape=(1, 4), dtype=float32)\n",
      "[0.2, 0.8, 0.2, 0.9]\n",
      "tf.Tensor([[0.02841001 0.10043019 0.8409489  0.03021087]], shape=(1, 4), dtype=float32)\n",
      "[0.2, 1.0, 0.2, 0.9]\n",
      "tf.Tensor([[9.9805683e-01 1.7258687e-03 2.1649047e-04 8.0613313e-07]], shape=(1, 4), dtype=float32)\n"
     ]
    },
    {
     "name": "stderr",
     "output_type": "stream",
     "text": [
      " 26%|██████████████████                                                     | 25501/100000 [6:02:50<9:00:54,  2.30it/s]"
     ]
    },
    {
     "name": "stdout",
     "output_type": "stream",
     "text": [
      "6.145683726661039\n",
      "100\n"
     ]
    },
    {
     "name": "stderr",
     "output_type": "stream",
     "text": [
      " 26%|██████████████████▏                                                    | 25601/100000 [6:03:26<9:29:07,  2.18it/s]"
     ]
    },
    {
     "name": "stdout",
     "output_type": "stream",
     "text": [
      "6.590645395353753\n",
      "100\n",
      "[0.5, 0.1, 0.7, 0.1]\n",
      "tf.Tensor([[1.1612570e-04 4.3438221e-04 1.6064590e-02 9.8338497e-01]], shape=(1, 4), dtype=float32)\n",
      "[0.9, 0.1, 0.7, 0.1]\n",
      "tf.Tensor([[9.3057497e-05 5.4291403e-04 3.2193203e-02 9.6717083e-01]], shape=(1, 4), dtype=float32)\n",
      "[0.5, 0.1, 0.7, 0.1]\n",
      "tf.Tensor([[0.04298317 0.11559176 0.82207775 0.01934728]], shape=(1, 4), dtype=float32)\n",
      "[0.8, 0.1, 0.7, 0.1]\n",
      "tf.Tensor([[9.9840409e-01 1.4265134e-03 1.6879644e-04 5.0847160e-07]], shape=(1, 4), dtype=float32)\n"
     ]
    },
    {
     "name": "stderr",
     "output_type": "stream",
     "text": [
      " 26%|██████████████████▏                                                    | 25701/100000 [6:04:04<8:42:55,  2.37it/s]"
     ]
    },
    {
     "name": "stdout",
     "output_type": "stream",
     "text": [
      "6.305120679998546\n",
      "100\n"
     ]
    },
    {
     "name": "stderr",
     "output_type": "stream",
     "text": [
      " 26%|██████████████████▎                                                    | 25800/100000 [6:04:40<8:17:33,  2.49it/s]"
     ]
    },
    {
     "name": "stdout",
     "output_type": "stream",
     "text": [
      "6.42030901359185\n",
      "100\n",
      "[0.3, 0.2, 0.1, 0.1]\n",
      "tf.Tensor([[9.88094471e-05 4.31114197e-04 1.50211835e-02 9.84448850e-01]], shape=(1, 4), dtype=float32)\n",
      "[0.0, 0.2, 0.1, 0.1]\n",
      "tf.Tensor([[1.2183734e-04 6.7279994e-04 2.6448160e-02 9.7275710e-01]], shape=(1, 4), dtype=float32)\n",
      "[0.0, 0.0, 0.1, 0.1]\n",
      "tf.Tensor([[0.01505988 0.06832815 0.837321   0.07929103]], shape=(1, 4), dtype=float32)\n",
      "[0.0, 0.3, 0.1, 0.1]\n",
      "tf.Tensor([[9.9615991e-01 3.4648166e-03 3.7362837e-04 1.6089298e-06]], shape=(1, 4), dtype=float32)\n",
      "[0.0, 0.2, 0.1, 0.1]\n"
     ]
    },
    {
     "name": "stderr",
     "output_type": "stream",
     "text": [
      "\r",
      " 26%|██████████████████▎                                                    | 25801/100000 [6:04:41<9:33:51,  2.15it/s]"
     ]
    },
    {
     "name": "stdout",
     "output_type": "stream",
     "text": [
      "tf.Tensor([[9.9248171e-01 6.6396217e-03 8.7473128e-04 3.9706297e-06]], shape=(1, 4), dtype=float32)\n",
      "[0.0, 0.1, 0.1, 0.1]\n",
      "tf.Tensor([[9.9358785e-01 5.6285616e-03 7.7972835e-04 3.7835594e-06]], shape=(1, 4), dtype=float32)\n"
     ]
    },
    {
     "name": "stderr",
     "output_type": "stream",
     "text": [
      " 26%|██████████████████▍                                                    | 25901/100000 [6:05:19<7:02:17,  2.92it/s]"
     ]
    },
    {
     "name": "stdout",
     "output_type": "stream",
     "text": [
      "6.369915833300934\n",
      "100\n"
     ]
    },
    {
     "name": "stderr",
     "output_type": "stream",
     "text": [
      " 26%|██████████████████▍                                                    | 26000/100000 [6:05:57<9:02:44,  2.27it/s]"
     ]
    },
    {
     "name": "stdout",
     "output_type": "stream",
     "text": [
      "5.979982743246892\n",
      "100\n",
      "[0.1, 0.8, 0.6, 0.2]\n",
      "tf.Tensor([[8.0116894e-05 3.4994687e-04 1.1608283e-02 9.8796159e-01]], shape=(1, 4), dtype=float32)\n",
      "[0.1, 0.4, 0.6, 0.2]\n",
      "tf.Tensor([[8.7442815e-05 4.4183410e-04 1.7855348e-02 9.8161536e-01]], shape=(1, 4), dtype=float32)\n",
      "[0.5, 0.4, 0.6, 0.2]\n",
      "tf.Tensor([[0.0062719  0.03765543 0.8611635  0.09490918]], shape=(1, 4), dtype=float32)\n",
      "[0.5, 0.1, 0.6, 0.2]\n",
      "tf.Tensor([[9.9645483e-01 2.9981621e-03 5.4581324e-04 1.1860024e-06]], shape=(1, 4), dtype=float32)"
     ]
    },
    {
     "name": "stderr",
     "output_type": "stream",
     "text": [
      "\r",
      " 26%|██████████████████▍                                                    | 26001/100000 [6:05:58<9:31:35,  2.16it/s]"
     ]
    },
    {
     "name": "stdout",
     "output_type": "stream",
     "text": [
      "\n",
      "[0.5, 0.2, 0.6, 0.2]\n",
      "tf.Tensor([[9.9713397e-01 2.4243412e-03 4.4067414e-04 1.0465550e-06]], shape=(1, 4), dtype=float32)\n"
     ]
    },
    {
     "name": "stderr",
     "output_type": "stream",
     "text": [
      " 26%|██████████████████▌                                                    | 26101/100000 [6:06:36<8:28:20,  2.42it/s]"
     ]
    },
    {
     "name": "stdout",
     "output_type": "stream",
     "text": [
      "6.222665634394091\n",
      "100\n"
     ]
    },
    {
     "name": "stderr",
     "output_type": "stream",
     "text": [
      " 26%|██████████████████▌                                                    | 26200/100000 [6:07:15<7:41:42,  2.66it/s]"
     ]
    },
    {
     "name": "stdout",
     "output_type": "stream",
     "text": [
      "6.068751263113549\n",
      "100\n",
      "[0.6, 0.8, 0.5, 0.7]\n",
      "tf.Tensor([[4.5166311e-05 2.1243215e-04 1.0238078e-02 9.8950434e-01]], shape=(1, 4), dtype=float32)\n",
      "[0.2, 0.8, 0.5, 0.7]\n",
      "tf.Tensor([[9.732411e-05 5.746974e-04 3.867585e-02 9.606522e-01]], shape=(1, 4), dtype=float32)\n",
      "[0.6, 0.8, 0.5, 0.7]\n",
      "tf.Tensor([[0.05300964 0.14153285 0.79976064 0.00569693]], shape=(1, 4), dtype=float32)\n",
      "[0.3, 0.8, 0.5, 0.7]\n",
      "tf.Tensor([[9.9830353e-01 1.4045626e-03 2.9150714e-04 4.2576366e-07]], shape=(1, 4), dtype=float32)\n",
      "[0.4, 0.8, 0.5, 0.7]\n",
      "tf.Tensor([[9.9790287e-01 1.7305084e-03 3.6613923e-04 5.5240963e-07]], shape=(1, 4), dtype=float32)\n",
      "[0.4, 0.7, 0.5, 0.7]\n"
     ]
    },
    {
     "name": "stderr",
     "output_type": "stream",
     "text": [
      "\r",
      " 26%|██████████████████▌                                                    | 26201/100000 [6:07:15<9:02:53,  2.27it/s]"
     ]
    },
    {
     "name": "stdout",
     "output_type": "stream",
     "text": [
      "tf.Tensor([[9.9818701e-01 1.5059406e-03 3.0658097e-04 4.6102261e-07]], shape=(1, 4), dtype=float32)\n"
     ]
    },
    {
     "name": "stderr",
     "output_type": "stream",
     "text": [
      " 26%|██████████████████▋                                                    | 26301/100000 [6:07:53<9:32:52,  2.14it/s]"
     ]
    },
    {
     "name": "stdout",
     "output_type": "stream",
     "text": [
      "6.06389745439448\n",
      "100\n"
     ]
    },
    {
     "name": "stderr",
     "output_type": "stream",
     "text": [
      " 26%|██████████████████▋                                                    | 26401/100000 [6:08:31<7:40:09,  2.67it/s]"
     ]
    },
    {
     "name": "stdout",
     "output_type": "stream",
     "text": [
      "6.492846108504658\n",
      "100\n",
      "[0.6, 0.6, 0.1, 0.1]\n",
      "tf.Tensor([[5.5590848e-05 2.5835104e-04 1.0844117e-02 9.8884189e-01]], shape=(1, 4), dtype=float32)\n",
      "[0.6, 0.2, 0.1, 0.1]\n",
      "tf.Tensor([[7.1374234e-05 4.6650672e-04 3.1407271e-02 9.6805489e-01]], shape=(1, 4), dtype=float32)\n",
      "[0.2, 0.2, 0.1, 0.1]\n",
      "tf.Tensor([[0.0175244  0.07934933 0.8913428  0.01178348]], shape=(1, 4), dtype=float32)\n",
      "[0.2, 0.0, 0.1, 0.1]\n",
      "tf.Tensor([[9.9794215e-01 1.7396462e-03 3.1769203e-04 4.8844322e-07]], shape=(1, 4), dtype=float32)\n",
      "[0.1, 0.0, 0.1, 0.1]\n",
      "tf.Tensor([[9.9763298e-01 1.9096512e-03 4.5650706e-04 8.8290085e-07]], shape=(1, 4), dtype=float32)\n"
     ]
    },
    {
     "name": "stderr",
     "output_type": "stream",
     "text": [
      " 27%|██████████████████▊                                                    | 26501/100000 [6:09:08<8:56:06,  2.28it/s]"
     ]
    },
    {
     "name": "stdout",
     "output_type": "stream",
     "text": [
      "6.430598764433246\n",
      "100\n"
     ]
    },
    {
     "name": "stderr",
     "output_type": "stream",
     "text": [
      " 27%|██████████████████▉                                                    | 26600/100000 [6:09:45<8:13:45,  2.48it/s]"
     ]
    },
    {
     "name": "stdout",
     "output_type": "stream",
     "text": [
      "6.064064805497797\n",
      "100\n",
      "[0.7, 0.1, 0.2, 0.9]\n",
      "tf.Tensor([[5.8419675e-05 2.5086064e-04 1.0909092e-02 9.8878163e-01]], shape=(1, 4), dtype=float32)\n",
      "[0.7, 0.5, 0.2, 0.9]\n",
      "tf.Tensor([[4.9005390e-05 3.1848316e-04 2.2797432e-02 9.7683501e-01]], shape=(1, 4), dtype=float32)\n",
      "[0.3, 0.5, 0.2, 0.9]\n",
      "tf.Tensor([[0.01775663 0.0574664  0.9125536  0.0122234 ]], shape=(1, 4), dtype=float32)\n",
      "[0.3, 0.8, 0.2, 0.9]\n"
     ]
    },
    {
     "name": "stderr",
     "output_type": "stream",
     "text": [
      "\r",
      " 27%|██████████████████▉                                                    | 26601/100000 [6:09:46<9:30:02,  2.15it/s]"
     ]
    },
    {
     "name": "stdout",
     "output_type": "stream",
     "text": [
      "tf.Tensor([[9.9838889e-01 1.3100046e-03 3.0069909e-04 4.0701246e-07]], shape=(1, 4), dtype=float32)\n",
      "[0.2, 0.8, 0.2, 0.9]\n",
      "tf.Tensor([[9.9823320e-01 1.3981314e-03 3.6817323e-04 5.2601632e-07]], shape=(1, 4), dtype=float32)\n"
     ]
    },
    {
     "name": "stderr",
     "output_type": "stream",
     "text": [
      " 27%|██████████████████▉                                                    | 26701/100000 [6:10:24<9:36:28,  2.12it/s]"
     ]
    },
    {
     "name": "stdout",
     "output_type": "stream",
     "text": [
      "6.233713003116154\n",
      "100\n"
     ]
    },
    {
     "name": "stderr",
     "output_type": "stream",
     "text": [
      " 27%|███████████████████                                                    | 26801/100000 [6:11:00<8:45:29,  2.32it/s]"
     ]
    },
    {
     "name": "stdout",
     "output_type": "stream",
     "text": [
      "6.464666277034441\n",
      "100\n",
      "[0.7, 0.5, 0.6, 0.2]\n",
      "tf.Tensor([[3.9033741e-05 1.8174869e-04 8.9069866e-03 9.9087220e-01]], shape=(1, 4), dtype=float32)\n",
      "[0.7, 0.1, 0.6, 0.2]\n",
      "tf.Tensor([[3.7355210e-05 2.4226512e-04 1.9254118e-02 9.8046631e-01]], shape=(1, 4), dtype=float32)\n",
      "[0.3, 0.1, 0.6, 0.2]\n",
      "tf.Tensor([[0.00807141 0.03229053 0.9454264  0.01421161]], shape=(1, 4), dtype=float32)\n",
      "[0.6, 0.1, 0.6, 0.2]\n",
      "tf.Tensor([[9.9805212e-01 1.4125558e-03 5.3463643e-04 6.3853571e-07]], shape=(1, 4), dtype=float32)\n"
     ]
    },
    {
     "name": "stderr",
     "output_type": "stream",
     "text": [
      " 27%|███████████████████                                                    | 26901/100000 [6:11:37<7:58:37,  2.55it/s]"
     ]
    },
    {
     "name": "stdout",
     "output_type": "stream",
     "text": [
      "6.4606249751935785\n",
      "100\n"
     ]
    },
    {
     "name": "stderr",
     "output_type": "stream",
     "text": [
      " 27%|███████████████████▏                                                   | 27001/100000 [6:12:13<9:07:02,  2.22it/s]"
     ]
    },
    {
     "name": "stdout",
     "output_type": "stream",
     "text": [
      "6.216213661598624\n",
      "100\n",
      "[0.8, 0.7, 0.6, 0.2]\n",
      "tf.Tensor([[3.3229167e-05 1.5761169e-04 8.0588292e-03 9.9175030e-01]], shape=(1, 4), dtype=float32)\n",
      "[0.8, 0.3, 0.6, 0.2]\n",
      "tf.Tensor([[3.2837081e-05 2.2425783e-04 1.9596517e-02 9.8014647e-01]], shape=(1, 4), dtype=float32)\n",
      "[0.4, 0.3, 0.6, 0.2]\n",
      "tf.Tensor([[0.01042224 0.03953352 0.9418106  0.00823358]], shape=(1, 4), dtype=float32)\n",
      "[0.7, 0.3, 0.6, 0.2]\n",
      "tf.Tensor([[9.9813181e-01 1.4332812e-03 4.3457042e-04 3.7458324e-07]], shape=(1, 4), dtype=float32)\n",
      "[0.6, 0.3, 0.6, 0.2]\n",
      "tf.Tensor([[9.9800855e-01 1.4820221e-03 5.0897535e-04 5.0835791e-07]], shape=(1, 4), dtype=float32)\n"
     ]
    },
    {
     "name": "stderr",
     "output_type": "stream",
     "text": [
      " 27%|███████████████████▏                                                   | 27101/100000 [6:12:51<8:32:41,  2.37it/s]"
     ]
    },
    {
     "name": "stdout",
     "output_type": "stream",
     "text": [
      "5.87664016500251\n",
      "100\n"
     ]
    },
    {
     "name": "stderr",
     "output_type": "stream",
     "text": [
      " 27%|███████████████████▎                                                   | 27201/100000 [6:13:29<8:44:01,  2.32it/s]"
     ]
    },
    {
     "name": "stdout",
     "output_type": "stream",
     "text": [
      "6.367849044254167\n",
      "100\n",
      "[0.0, 0.4, 0.7, 0.1]\n",
      "tf.Tensor([[6.1264444e-05 2.4067824e-04 1.2641934e-02 9.8705614e-01]], shape=(1, 4), dtype=float32)\n",
      "[0.4, 0.4, 0.7, 0.1]\n",
      "tf.Tensor([[5.5468030e-05 2.7879287e-04 2.2111388e-02 9.7755438e-01]], shape=(1, 4), dtype=float32)\n",
      "[0.4, 0.0, 0.7, 0.1]\n",
      "tf.Tensor([[0.00445081 0.0141457  0.95004636 0.03135718]], shape=(1, 4), dtype=float32)\n",
      "[0.7, 0.0, 0.7, 0.1]\n",
      "tf.Tensor([[9.9710983e-01 1.8865321e-03 1.0027345e-03 9.8314706e-07]], shape=(1, 4), dtype=float32)\n"
     ]
    },
    {
     "name": "stderr",
     "output_type": "stream",
     "text": [
      " 27%|███████████████████▍                                                   | 27301/100000 [6:14:07<7:37:11,  2.65it/s]"
     ]
    },
    {
     "name": "stdout",
     "output_type": "stream",
     "text": [
      "6.299840695826325\n",
      "100\n"
     ]
    },
    {
     "name": "stderr",
     "output_type": "stream",
     "text": [
      " 27%|███████████████████▍                                                   | 27400/100000 [6:14:45<6:41:32,  3.01it/s]"
     ]
    },
    {
     "name": "stdout",
     "output_type": "stream",
     "text": [
      "6.3064440252702845\n",
      "100\n",
      "[0.6, 0.5, 0.7, 0.4]\n",
      "tf.Tensor([[4.7988899e-05 2.1664925e-04 1.5198454e-02 9.8453695e-01]], shape=(1, 4), dtype=float32)\n",
      "[1.0, 0.5, 0.7, 0.4]\n",
      "tf.Tensor([[1.8018336e-04 1.0930565e-03 1.5914832e-01 8.3957839e-01]], shape=(1, 4), dtype=float32)\n",
      "[0.6, 0.5, 0.7, 0.4]\n",
      "tf.Tensor([[0.15399426 0.09402329 0.7506593  0.00132316]], shape=(1, 4), dtype=float32)\n",
      "[0.9, 0.5, 0.7, 0.4]\n",
      "tf.Tensor([[9.9903572e-01 7.6380640e-04 2.0044485e-04 1.3590541e-07]], shape=(1, 4), dtype=float32)\n",
      "[0.8, 0.5, 0.7, 0.4]\n",
      "tf.Tensor([[9.9897349e-01 7.9256250e-04 2.3382223e-04 1.6822054e-07]], shape=(1, 4), dtype=float32)\n"
     ]
    },
    {
     "name": "stderr",
     "output_type": "stream",
     "text": [
      "\r",
      " 27%|███████████████████▍                                                   | 27401/100000 [6:14:45<8:22:57,  2.41it/s]"
     ]
    },
    {
     "name": "stdout",
     "output_type": "stream",
     "text": [
      "[0.8, 0.4, 0.7, 0.4]\n",
      "tf.Tensor([[9.9894315e-01 8.3310262e-04 2.2364414e-04 1.4775934e-07]], shape=(1, 4), dtype=float32)\n"
     ]
    },
    {
     "name": "stderr",
     "output_type": "stream",
     "text": [
      " 28%|███████████████████▌                                                   | 27501/100000 [6:15:21<7:55:07,  2.54it/s]"
     ]
    },
    {
     "name": "stdout",
     "output_type": "stream",
     "text": [
      "6.52886628209281\n",
      "100\n"
     ]
    },
    {
     "name": "stderr",
     "output_type": "stream",
     "text": [
      " 28%|███████████████████▌                                                   | 27600/100000 [6:15:57<5:50:52,  3.44it/s]"
     ]
    },
    {
     "name": "stdout",
     "output_type": "stream",
     "text": [
      "6.526985163311039\n",
      "100\n",
      "[0.5, 0.7, 0.6, 0.2]\n",
      "tf.Tensor([[3.1845277e-05 1.5351840e-04 7.6645054e-03 9.9215019e-01]], shape=(1, 4), dtype=float32)\n",
      "[0.5, 0.3, 0.6, 0.2]\n",
      "tf.Tensor([[3.2892207e-05 2.0034968e-04 1.4437791e-02 9.8532897e-01]], shape=(1, 4), dtype=float32)\n",
      "[0.5, 0.0, 0.6, 0.2]\n",
      "tf.Tensor([[0.00562679 0.02121654 0.95855063 0.01460604]], shape=(1, 4), dtype=float32)\n",
      "[0.5, 0.3, 0.6, 0.2]\n",
      "tf.Tensor([[9.9790084e-01 1.5295016e-03 5.6912372e-04 5.2028417e-07]], shape=(1, 4), dtype=float32)\n",
      "[0.5, 0.2, 0.6, 0.2]\n"
     ]
    },
    {
     "name": "stderr",
     "output_type": "stream",
     "text": [
      "\r",
      " 28%|███████████████████▌                                                   | 27601/100000 [6:15:57<7:40:56,  2.62it/s]"
     ]
    },
    {
     "name": "stdout",
     "output_type": "stream",
     "text": [
      "tf.Tensor([[9.9791723e-01 1.4856830e-03 5.9649046e-04 5.9631384e-07]], shape=(1, 4), dtype=float32)\n"
     ]
    },
    {
     "name": "stderr",
     "output_type": "stream",
     "text": [
      " 28%|███████████████████▋                                                   | 27701/100000 [6:16:35<8:33:48,  2.35it/s]"
     ]
    },
    {
     "name": "stdout",
     "output_type": "stream",
     "text": [
      "6.323688717934672\n",
      "100\n"
     ]
    },
    {
     "name": "stderr",
     "output_type": "stream",
     "text": [
      " 28%|███████████████████▋                                                   | 27801/100000 [6:17:12<7:47:28,  2.57it/s]"
     ]
    },
    {
     "name": "stdout",
     "output_type": "stream",
     "text": [
      "6.577971373844897\n",
      "100\n",
      "[0.4, 0.4, 0.2, 0.9]\n",
      "tf.Tensor([[3.8507962e-05 1.7010371e-04 7.6920395e-03 9.9209940e-01]], shape=(1, 4), dtype=float32)\n",
      "[0.4, 0.8, 0.2, 0.9]\n",
      "tf.Tensor([[3.2002088e-05 2.0159426e-04 1.5113177e-02 9.8465329e-01]], shape=(1, 4), dtype=float32)\n",
      "[0.0, 0.8, 0.2, 0.9]\n",
      "tf.Tensor([[0.01041039 0.03408759 0.94631314 0.00918887]], shape=(1, 4), dtype=float32)\n",
      "[0.3, 0.8, 0.2, 0.9]\n",
      "tf.Tensor([[9.9863559e-01 1.0524372e-03 3.1166567e-04 2.6372598e-07]], shape=(1, 4), dtype=float32)\n",
      "[0.2, 0.8, 0.2, 0.9]\n",
      "tf.Tensor([[9.9851555e-01 1.1058088e-03 3.7825727e-04 3.3731871e-07]], shape=(1, 4), dtype=float32)\n"
     ]
    },
    {
     "name": "stderr",
     "output_type": "stream",
     "text": [
      " 28%|███████████████████▊                                                   | 27901/100000 [6:17:50<8:36:29,  2.33it/s]"
     ]
    },
    {
     "name": "stdout",
     "output_type": "stream",
     "text": [
      "6.323799387711778\n",
      "100\n"
     ]
    },
    {
     "name": "stderr",
     "output_type": "stream",
     "text": [
      " 28%|███████████████████▉                                                   | 28000/100000 [6:18:26<7:06:39,  2.81it/s]"
     ]
    },
    {
     "name": "stdout",
     "output_type": "stream",
     "text": [
      "6.295921485938901\n",
      "100\n",
      "[0.8, 0.5, 0.7, 0.4]\n",
      "tf.Tensor([[2.4431247e-05 1.2123776e-04 6.2211961e-03 9.9363303e-01]], shape=(1, 4), dtype=float32)\n",
      "[0.8, 0.1, 0.7, 0.4]\n",
      "tf.Tensor([[3.7205358e-05 2.2698163e-04 1.7762868e-02 9.8197293e-01]], shape=(1, 4), dtype=float32)\n",
      "[0.8, 0.5, 0.7, 0.4]\n",
      "tf.Tensor([[0.02056308 0.0403929  0.9361987  0.00284535]], shape=(1, 4), dtype=float32)\n",
      "[0.8, 0.2, 0.7, 0.4]\n"
     ]
    },
    {
     "name": "stderr",
     "output_type": "stream",
     "text": [
      "\r",
      " 28%|███████████████████▉                                                   | 28001/100000 [6:18:27<8:13:10,  2.43it/s]"
     ]
    },
    {
     "name": "stdout",
     "output_type": "stream",
     "text": [
      "tf.Tensor([[9.9874520e-01 8.3523034e-04 4.1932109e-04 2.5318471e-07]], shape=(1, 4), dtype=float32)\n",
      "[0.8, 0.3, 0.7, 0.4]\n",
      "tf.Tensor([[9.9895978e-01 7.3481299e-04 3.0528542e-04 1.7567494e-07]], shape=(1, 4), dtype=float32)\n",
      "[0.7, 0.3, 0.7, 0.4]\n",
      "tf.Tensor([[9.9879956e-01 7.9776114e-04 4.0241063e-04 2.4392719e-07]], shape=(1, 4), dtype=float32)\n"
     ]
    },
    {
     "name": "stderr",
     "output_type": "stream",
     "text": [
      " 28%|███████████████████▉                                                   | 28101/100000 [6:19:04<8:03:52,  2.48it/s]"
     ]
    },
    {
     "name": "stdout",
     "output_type": "stream",
     "text": [
      "6.417643766740938\n",
      "100\n"
     ]
    },
    {
     "name": "stderr",
     "output_type": "stream",
     "text": [
      " 28%|████████████████████                                                   | 28201/100000 [6:19:41<7:12:07,  2.77it/s]"
     ]
    },
    {
     "name": "stdout",
     "output_type": "stream",
     "text": [
      "6.50583800610229\n",
      "100\n",
      "[0.6, 0.1, 0.1, 0.1]\n",
      "tf.Tensor([[1.6126896e-05 8.0234910e-05 3.7760579e-03 9.9612767e-01]], shape=(1, 4), dtype=float32)\n",
      "[0.2, 0.1, 0.1, 0.1]\n",
      "tf.Tensor([[1.5540680e-05 9.6940006e-05 6.1405385e-03 9.9374700e-01]], shape=(1, 4), dtype=float32)\n",
      "[0.0, 0.1, 0.1, 0.1]\n",
      "tf.Tensor([[0.00321465 0.01087718 0.9587477  0.02716054]], shape=(1, 4), dtype=float32)\n",
      "[0.3, 0.1, 0.1, 0.1]\n",
      "tf.Tensor([[9.9847263e-01 9.1711321e-04 6.0983095e-04 4.1344052e-07]], shape=(1, 4), dtype=float32)\n",
      "[0.2, 0.1, 0.1, 0.1]\n",
      "tf.Tensor([[9.9793220e-01 1.1834344e-03 8.8372856e-04 6.1341768e-07]], shape=(1, 4), dtype=float32)\n"
     ]
    },
    {
     "name": "stderr",
     "output_type": "stream",
     "text": [
      " 28%|████████████████████                                                   | 28301/100000 [6:20:19<8:33:58,  2.32it/s]"
     ]
    },
    {
     "name": "stdout",
     "output_type": "stream",
     "text": [
      "6.1386450169985425\n",
      "100\n"
     ]
    },
    {
     "name": "stderr",
     "output_type": "stream",
     "text": [
      " 28%|████████████████████▏                                                  | 28400/100000 [6:20:56<8:17:18,  2.40it/s]"
     ]
    },
    {
     "name": "stdout",
     "output_type": "stream",
     "text": [
      "6.164849037244859\n",
      "100\n",
      "[0.6, 0.4, 0.1, 0.1]\n",
      "tf.Tensor([[1.3922877e-05 7.3322284e-05 3.4750812e-03 9.9643779e-01]], shape=(1, 4), dtype=float32)\n",
      "[0.2, 0.4, 0.1, 0.1]\n",
      "tf.Tensor([[1.6825701e-05 1.1193918e-04 6.9810096e-03 9.9289024e-01]], shape=(1, 4), dtype=float32)\n",
      "[0.2, 0.0, 0.1, 0.1]\n",
      "tf.Tensor([[0.00488229 0.01582604 0.9716413  0.00765037]], shape=(1, 4), dtype=float32)\n",
      "[0.0, 0.0, 0.1, 0.1]\n",
      "tf.Tensor([[9.9829990e-01 9.4041449e-04 7.5921003e-04 4.9797569e-07]], shape=(1, 4), dtype=float32)\n"
     ]
    },
    {
     "name": "stderr",
     "output_type": "stream",
     "text": [
      "\r",
      " 28%|████████████████████▏                                                  | 28401/100000 [6:20:57<9:24:32,  2.11it/s]"
     ]
    },
    {
     "name": "stdout",
     "output_type": "stream",
     "text": [
      "[0.0, 0.1, 0.1, 0.1]\n",
      "tf.Tensor([[9.9738449e-01 1.3690117e-03 1.2455980e-03 9.6931694e-07]], shape=(1, 4), dtype=float32)\n"
     ]
    },
    {
     "name": "stderr",
     "output_type": "stream",
     "text": [
      " 29%|████████████████████▏                                                  | 28501/100000 [6:21:34<8:04:38,  2.46it/s]"
     ]
    },
    {
     "name": "stdout",
     "output_type": "stream",
     "text": [
      "6.30399911853286\n",
      "100\n"
     ]
    },
    {
     "name": "stderr",
     "output_type": "stream",
     "text": [
      " 29%|████████████████████▎                                                  | 28600/100000 [6:22:10<7:20:55,  2.70it/s]"
     ]
    },
    {
     "name": "stdout",
     "output_type": "stream",
     "text": [
      "6.18136578425602\n",
      "100\n",
      "[0.1, 0.0, 0.6, 0.2]\n",
      "tf.Tensor([[2.5161364e-05 1.0178474e-04 4.8489668e-03 9.9502414e-01]], shape=(1, 4), dtype=float32)\n",
      "[0.5, 0.0, 0.6, 0.2]\n",
      "tf.Tensor([[2.0531030e-05 1.0265975e-04 6.3832533e-03 9.9349362e-01]], shape=(1, 4), dtype=float32)\n",
      "[0.5, 0.4, 0.6, 0.2]\n",
      "tf.Tensor([[0.00299715 0.00663867 0.95765513 0.03270903]], shape=(1, 4), dtype=float32)\n",
      "[0.5, 0.1, 0.6, 0.2]\n",
      "tf.Tensor([[9.9843413e-01 6.9472083e-04 8.7065197e-04 4.4540107e-07]], shape=(1, 4), dtype=float32)\n"
     ]
    },
    {
     "name": "stderr",
     "output_type": "stream",
     "text": [
      "\r",
      " 29%|████████████████████▎                                                  | 28601/100000 [6:22:11<8:41:01,  2.28it/s]"
     ]
    },
    {
     "name": "stdout",
     "output_type": "stream",
     "text": [
      "[0.6, 0.1, 0.6, 0.2]\n",
      "tf.Tensor([[9.9876559e-01 5.5510044e-04 6.7909824e-04 3.2463998e-07]], shape=(1, 4), dtype=float32)\n"
     ]
    },
    {
     "name": "stderr",
     "output_type": "stream",
     "text": [
      " 29%|████████████████████▍                                                  | 28701/100000 [6:22:48<8:01:18,  2.47it/s]"
     ]
    },
    {
     "name": "stdout",
     "output_type": "stream",
     "text": [
      "6.1508572907004275\n",
      "100\n"
     ]
    },
    {
     "name": "stderr",
     "output_type": "stream",
     "text": [
      " 29%|████████████████████▍                                                  | 28801/100000 [6:23:26<9:32:51,  2.07it/s]"
     ]
    },
    {
     "name": "stdout",
     "output_type": "stream",
     "text": [
      "6.1108449278969115\n",
      "100\n",
      "[0.4, 0.4, 0.5, 0.7]\n",
      "tf.Tensor([[1.7977844e-05 7.7706187e-05 4.5833974e-03 9.9532098e-01]], shape=(1, 4), dtype=float32)\n",
      "[0.4, 0.8, 0.5, 0.7]\n",
      "tf.Tensor([[2.3558427e-05 1.2799246e-04 1.2537013e-02 9.8731136e-01]], shape=(1, 4), dtype=float32)\n",
      "[0.8, 0.8, 0.5, 0.7]\n",
      "tf.Tensor([[0.01387255 0.01362482 0.97126627 0.00123635]], shape=(1, 4), dtype=float32)\n",
      "[0.5, 0.8, 0.5, 0.7]\n",
      "tf.Tensor([[9.9902415e-01 4.1642977e-04 5.5930263e-04 1.3300287e-07]], shape=(1, 4), dtype=float32)\n"
     ]
    },
    {
     "name": "stderr",
     "output_type": "stream",
     "text": [
      " 29%|████████████████████▌                                                  | 28901/100000 [6:24:02<6:58:42,  2.83it/s]"
     ]
    },
    {
     "name": "stdout",
     "output_type": "stream",
     "text": [
      "6.668408917652132\n",
      "100\n"
     ]
    },
    {
     "name": "stderr",
     "output_type": "stream",
     "text": [
      " 29%|████████████████████▌                                                  | 29000/100000 [6:24:39<7:00:49,  2.81it/s]"
     ]
    },
    {
     "name": "stdout",
     "output_type": "stream",
     "text": [
      "6.474422990903939\n",
      "100\n",
      "[0.8, 0.8, 0.6, 0.2]\n",
      "tf.Tensor([[1.0727317e-05 5.2362779e-05 3.9348304e-03 9.9600214e-01]], shape=(1, 4), dtype=float32)\n",
      "[0.8, 0.4, 0.6, 0.2]\n",
      "tf.Tensor([[2.9713801e-05 1.6112131e-04 2.4846932e-02 9.7496223e-01]], shape=(1, 4), dtype=float32)\n",
      "[0.8, 0.0, 0.6, 0.2]\n",
      "tf.Tensor([[2.4532191e-02 1.0710062e-02 9.6418101e-01 5.7675451e-04]], shape=(1, 4), dtype=float32)\n",
      "[0.5, 0.0, 0.6, 0.2]\n",
      "tf.Tensor([[9.9921858e-01 2.2339240e-04 5.5797159e-04 1.0980239e-07]], shape=(1, 4), dtype=float32)\n",
      "[0.5, 0.1, 0.6, 0.2]\n"
     ]
    },
    {
     "name": "stderr",
     "output_type": "stream",
     "text": [
      "\r",
      " 29%|████████████████████▌                                                  | 29001/100000 [6:24:39<8:30:31,  2.32it/s]"
     ]
    },
    {
     "name": "stdout",
     "output_type": "stream",
     "text": [
      "tf.Tensor([[9.9923182e-01 2.2244231e-04 5.4569548e-04 1.2765096e-07]], shape=(1, 4), dtype=float32)\n",
      "[0.6, 0.1, 0.6, 0.2]\n",
      "tf.Tensor([[9.9922407e-01 2.2378149e-04 5.5195077e-04 1.4751137e-07]], shape=(1, 4), dtype=float32)\n"
     ]
    },
    {
     "name": "stderr",
     "output_type": "stream",
     "text": [
      " 29%|████████████████████▋                                                  | 29101/100000 [6:25:18<8:36:13,  2.29it/s]"
     ]
    },
    {
     "name": "stdout",
     "output_type": "stream",
     "text": [
      "6.2378628250558465\n",
      "100\n"
     ]
    },
    {
     "name": "stderr",
     "output_type": "stream",
     "text": [
      " 29%|████████████████████▋                                                  | 29201/100000 [6:25:55<7:37:58,  2.58it/s]"
     ]
    },
    {
     "name": "stdout",
     "output_type": "stream",
     "text": [
      "6.345778964909819\n",
      "100\n",
      "[0.0, 0.0, 0.5, 0.7]\n",
      "tf.Tensor([[2.5082329e-05 8.5691499e-05 6.3337763e-03 9.9355549e-01]], shape=(1, 4), dtype=float32)\n",
      "[0.0, 0.4, 0.5, 0.7]\n",
      "tf.Tensor([[3.7808131e-05 1.2683689e-04 1.3749992e-02 9.8608530e-01]], shape=(1, 4), dtype=float32)\n",
      "[0.4, 0.4, 0.5, 0.7]\n",
      "tf.Tensor([[0.00373433 0.00296672 0.9835316  0.00976733]], shape=(1, 4), dtype=float32)\n",
      "[0.4, 0.7, 0.5, 0.7]\n",
      "tf.Tensor([[9.9885964e-01 2.8852644e-04 8.5159350e-04 2.2210226e-07]], shape=(1, 4), dtype=float32)\n"
     ]
    },
    {
     "name": "stderr",
     "output_type": "stream",
     "text": [
      " 29%|████████████████████▊                                                  | 29301/100000 [6:26:32<8:14:24,  2.38it/s]"
     ]
    },
    {
     "name": "stdout",
     "output_type": "stream",
     "text": [
      "6.482420513283582\n",
      "100\n"
     ]
    },
    {
     "name": "stderr",
     "output_type": "stream",
     "text": [
      " 29%|████████████████████▊                                                  | 29400/100000 [6:27:07<5:47:31,  3.39it/s]"
     ]
    },
    {
     "name": "stdout",
     "output_type": "stream",
     "text": [
      "6.6086518773684935\n",
      "100\n",
      "[0.3, 0.4, 0.7, 0.1]\n",
      "tf.Tensor([[1.1418366e-05 4.8535439e-05 2.8219481e-03 9.9711812e-01]], shape=(1, 4), dtype=float32)\n",
      "[0.7, 0.4, 0.7, 0.1]\n",
      "tf.Tensor([[9.3342169e-06 5.3806587e-05 4.9200379e-03 9.9501687e-01]], shape=(1, 4), dtype=float32)\n",
      "[0.7, 0.0, 0.7, 0.1]\n",
      "tf.Tensor([[0.00450363 0.00368067 0.98917806 0.00263765]], shape=(1, 4), dtype=float32)\n",
      "[0.7, 0.3, 0.7, 0.1]\n"
     ]
    },
    {
     "name": "stderr",
     "output_type": "stream",
     "text": [
      "\r",
      " 29%|████████████████████▊                                                  | 29401/100000 [6:27:08<6:40:07,  2.94it/s]"
     ]
    },
    {
     "name": "stdout",
     "output_type": "stream",
     "text": [
      "tf.Tensor([[9.9921143e-01 1.9595314e-04 5.9246382e-04 1.2746602e-07]], shape=(1, 4), dtype=float32)\n",
      "[0.7, 0.2, 0.7, 0.1]\n",
      "tf.Tensor([[9.99251187e-01 1.86417456e-04 5.62242814e-04 1.14796386e-07]], shape=(1, 4), dtype=float32)\n"
     ]
    },
    {
     "name": "stderr",
     "output_type": "stream",
     "text": [
      " 30%|████████████████████▉                                                  | 29501/100000 [6:27:45<7:02:53,  2.78it/s]"
     ]
    },
    {
     "name": "stdout",
     "output_type": "stream",
     "text": [
      "6.479991324626826\n",
      "100\n"
     ]
    },
    {
     "name": "stderr",
     "output_type": "stream",
     "text": [
      " 30%|█████████████████████                                                  | 29600/100000 [6:28:21<7:05:46,  2.76it/s]"
     ]
    },
    {
     "name": "stdout",
     "output_type": "stream",
     "text": [
      "6.241002646312192\n",
      "100\n",
      "[0.3, 0.6, 0.6, 0.2]\n",
      "tf.Tensor([[9.269562e-06 4.265259e-05 2.054214e-03 9.978940e-01]], shape=(1, 4), dtype=float32)\n",
      "[0.3, 0.2, 0.6, 0.2]\n",
      "tf.Tensor([[9.5422420e-06 4.9314673e-05 3.1234203e-03 9.9681771e-01]], shape=(1, 4), dtype=float32)\n",
      "[0.7, 0.2, 0.6, 0.2]\n",
      "tf.Tensor([[0.00243371 0.0031574  0.9875787  0.00683013]], shape=(1, 4), dtype=float32)\n",
      "[0.4, 0.2, 0.6, 0.2]\n",
      "tf.Tensor([[9.9896669e-01 2.3109477e-04 8.0194307e-04 1.7055117e-07]], shape=(1, 4), dtype=float32)\n"
     ]
    },
    {
     "name": "stderr",
     "output_type": "stream",
     "text": [
      "\r",
      " 30%|█████████████████████                                                  | 29601/100000 [6:28:22<8:26:32,  2.32it/s]"
     ]
    },
    {
     "name": "stdout",
     "output_type": "stream",
     "text": [
      "[0.5, 0.2, 0.6, 0.2]\n",
      "tf.Tensor([[9.9911147e-01 2.0734551e-04 6.8096904e-04 1.6376738e-07]], shape=(1, 4), dtype=float32)\n"
     ]
    },
    {
     "name": "stderr",
     "output_type": "stream",
     "text": [
      " 30%|█████████████████████                                                  | 29701/100000 [6:28:57<8:25:02,  2.32it/s]"
     ]
    },
    {
     "name": "stdout",
     "output_type": "stream",
     "text": [
      "6.400065179409521\n",
      "100\n"
     ]
    },
    {
     "name": "stderr",
     "output_type": "stream",
     "text": [
      " 30%|█████████████████████▏                                                 | 29800/100000 [6:29:35<7:23:17,  2.64it/s]"
     ]
    },
    {
     "name": "stdout",
     "output_type": "stream",
     "text": [
      "6.192129063218076\n",
      "100\n",
      "[0.9, 0.9, 0.1, 0.1]\n",
      "tf.Tensor([[6.7479550e-06 3.4306777e-05 1.8589274e-03 9.9810010e-01]], shape=(1, 4), dtype=float32)\n",
      "[0.9, 0.5, 0.1, 0.1]\n",
      "tf.Tensor([[1.2817103e-05 8.2947299e-05 1.0132692e-02 9.8977143e-01]], shape=(1, 4), dtype=float32)\n",
      "[0.5, 0.5, 0.1, 0.1]\n",
      "tf.Tensor([[2.4554553e-02 9.4919093e-03 9.6533138e-01 6.2223466e-04]], shape=(1, 4), dtype=float32)\n",
      "[0.5, 0.2, 0.1, 0.1]\n",
      "tf.Tensor([[9.9939585e-01 1.6331584e-04 4.4071360e-04 6.9466076e-08]], shape=(1, 4), dtype=float32)\n"
     ]
    },
    {
     "name": "stderr",
     "output_type": "stream",
     "text": [
      "\r",
      " 30%|█████████████████████▏                                                 | 29801/100000 [6:29:35<8:53:30,  2.19it/s]"
     ]
    },
    {
     "name": "stdout",
     "output_type": "stream",
     "text": [
      "[0.4, 0.2, 0.1, 0.1]\n",
      "tf.Tensor([[9.994066e-01 1.631907e-04 4.301030e-04 7.866369e-08]], shape=(1, 4), dtype=float32)\n",
      "[0.3, 0.2, 0.1, 0.1]\n",
      "tf.Tensor([[9.9924743e-01 1.9697627e-04 5.5544981e-04 1.0639777e-07]], shape=(1, 4), dtype=float32)\n",
      "[0.2, 0.2, 0.1, 0.1]\n",
      "tf.Tensor([[9.9911648e-01 2.2179920e-04 6.6159089e-04 1.5088241e-07]], shape=(1, 4), dtype=float32)\n",
      "[0.2, 0.1, 0.1, 0.1]\n",
      "tf.Tensor([[9.9915147e-01 2.2530957e-04 6.2297989e-04 1.3877604e-07]], shape=(1, 4), dtype=float32)\n"
     ]
    },
    {
     "name": "stderr",
     "output_type": "stream",
     "text": [
      " 30%|█████████████████████▏                                                 | 29901/100000 [6:30:14<7:11:44,  2.71it/s]"
     ]
    },
    {
     "name": "stdout",
     "output_type": "stream",
     "text": [
      "5.9820663012360935\n",
      "100\n"
     ]
    },
    {
     "name": "stderr",
     "output_type": "stream",
     "text": [
      " 30%|█████████████████████▎                                                 | 30000/100000 [6:30:52<7:00:42,  2.77it/s]"
     ]
    },
    {
     "name": "stdout",
     "output_type": "stream",
     "text": [
      "6.396074755336637\n",
      "100\n",
      "[0.8, 0.0, 0.1, 0.1]\n",
      "tf.Tensor([[1.2526234e-05 5.0780476e-05 4.4079735e-03 9.9552876e-01]], shape=(1, 4), dtype=float32)\n",
      "[0.4, 0.0, 0.1, 0.1]\n",
      "tf.Tensor([[3.2348296e-05 1.4142771e-04 2.3240883e-02 9.7658533e-01]], shape=(1, 4), dtype=float32)\n",
      "[0.0, 0.0, 0.1, 0.1]\n",
      "tf.Tensor([[0.01238647 0.00643602 0.98000276 0.00117481]], shape=(1, 4), dtype=float32)\n",
      "[0.3, 0.0, 0.1, 0.1]\n"
     ]
    },
    {
     "name": "stderr",
     "output_type": "stream",
     "text": [
      "\r",
      " 30%|█████████████████████▎                                                 | 30001/100000 [6:30:52<6:47:53,  2.86it/s]"
     ]
    },
    {
     "name": "stdout",
     "output_type": "stream",
     "text": [
      "tf.Tensor([[9.9922752e-01 2.2933657e-04 5.4308714e-04 1.2850175e-07]], shape=(1, 4), dtype=float32)\n",
      "[0.2, 0.0, 0.1, 0.1]\n",
      "tf.Tensor([[9.9868697e-01 3.2263011e-04 9.9009031e-04 2.7914956e-07]], shape=(1, 4), dtype=float32)\n",
      "[0.2, 0.1, 0.1, 0.1]\n",
      "tf.Tensor([[9.9871206e-01 3.3719325e-04 9.5047383e-04 2.5296100e-07]], shape=(1, 4), dtype=float32)\n"
     ]
    },
    {
     "name": "stderr",
     "output_type": "stream",
     "text": [
      " 30%|█████████████████████▎                                                 | 30101/100000 [6:31:29<6:45:25,  2.87it/s]"
     ]
    },
    {
     "name": "stdout",
     "output_type": "stream",
     "text": [
      "6.533514473878251\n",
      "100\n"
     ]
    },
    {
     "name": "stderr",
     "output_type": "stream",
     "text": [
      " 30%|█████████████████████▍                                                 | 30201/100000 [6:32:07<8:45:53,  2.21it/s]"
     ]
    },
    {
     "name": "stdout",
     "output_type": "stream",
     "text": [
      "6.336803189812793\n",
      "100\n",
      "[0.6, 0.3, 0.7, 0.1]\n",
      "tf.Tensor([[1.5549145e-05 5.8204096e-05 4.9947863e-03 9.9493140e-01]], shape=(1, 4), dtype=float32)\n",
      "[0.6, 0.0, 0.7, 0.1]\n",
      "tf.Tensor([[4.5217581e-05 1.6097759e-04 2.5833124e-02 9.7396064e-01]], shape=(1, 4), dtype=float32)\n",
      "[1.0, 0.0, 0.7, 0.1]\n",
      "tf.Tensor([[1.8296164e-02 5.7712458e-03 9.7533256e-01 6.0007110e-04]], shape=(1, 4), dtype=float32)\n",
      "[0.7, 0.0, 0.7, 0.1]\n",
      "tf.Tensor([[9.9920088e-01 1.8281532e-04 6.1614183e-04 1.0785245e-07]], shape=(1, 4), dtype=float32)\n"
     ]
    },
    {
     "name": "stderr",
     "output_type": "stream",
     "text": [
      " 30%|█████████████████████▌                                                 | 30301/100000 [6:32:44<8:08:32,  2.38it/s]"
     ]
    },
    {
     "name": "stdout",
     "output_type": "stream",
     "text": [
      "6.277044886627863\n",
      "100\n"
     ]
    },
    {
     "name": "stderr",
     "output_type": "stream",
     "text": [
      " 30%|█████████████████████▌                                                 | 30401/100000 [6:33:22<9:02:10,  2.14it/s]"
     ]
    },
    {
     "name": "stdout",
     "output_type": "stream",
     "text": [
      "5.910125341856669\n",
      "100\n",
      "[0.1, 0.3, 0.5, 0.7]\n",
      "tf.Tensor([[2.3771840e-05 6.5848202e-05 7.1434136e-03 9.9276698e-01]], shape=(1, 4), dtype=float32)\n",
      "[0.5, 0.3, 0.5, 0.7]\n",
      "tf.Tensor([[4.3374861e-05 1.2558546e-04 2.3782969e-02 9.7604805e-01]], shape=(1, 4), dtype=float32)\n"
     ]
    },
    {
     "name": "stderr",
     "output_type": "stream",
     "text": [
      " 31%|█████████████████████▋                                                 | 30501/100000 [6:34:01<8:59:31,  2.15it/s]"
     ]
    },
    {
     "name": "stdout",
     "output_type": "stream",
     "text": [
      "6.137403843620788\n",
      "100\n"
     ]
    },
    {
     "name": "stderr",
     "output_type": "stream",
     "text": [
      " 31%|█████████████████████▋                                                 | 30600/100000 [6:34:37<8:08:49,  2.37it/s]"
     ]
    },
    {
     "name": "stdout",
     "output_type": "stream",
     "text": [
      "6.242311789127564\n",
      "100\n",
      "[0.8, 0.1, 0.1, 0.1]\n",
      "tf.Tensor([[1.2497706e-05 4.3767002e-05 5.0394209e-03 9.9490440e-01]], shape=(1, 4), dtype=float32)\n",
      "[0.4, 0.1, 0.1, 0.1]\n",
      "tf.Tensor([[2.2703825e-05 9.3760835e-05 1.9555511e-02 9.8032802e-01]], shape=(1, 4), dtype=float32)\n",
      "[0.0, 0.1, 0.1, 0.1]\n",
      "tf.Tensor([[0.00555674 0.00386741 0.98871523 0.00186061]], shape=(1, 4), dtype=float32)\n",
      "[0.3, 0.1, 0.1, 0.1]\n",
      "tf.Tensor([[9.9944347e-01 1.7324950e-04 3.8316415e-04 1.0645519e-07]], shape=(1, 4), dtype=float32)\n",
      "[0.2, 0.1, 0.1, 0.1]\n",
      "tf.Tensor([[9.9924219e-01 2.2181569e-04 5.3590618e-04 1.5706982e-07]], shape=(1, 4), dtype=float32)\n"
     ]
    },
    {
     "name": "stderr",
     "output_type": "stream",
     "text": [
      " 31%|█████████████████████▊                                                 | 30701/100000 [6:35:14<7:00:59,  2.74it/s]"
     ]
    },
    {
     "name": "stdout",
     "output_type": "stream",
     "text": [
      "6.660700842597255\n",
      "100\n"
     ]
    },
    {
     "name": "stderr",
     "output_type": "stream",
     "text": [
      " 31%|█████████████████████▊                                                 | 30801/100000 [6:35:51<7:28:42,  2.57it/s]"
     ]
    },
    {
     "name": "stdout",
     "output_type": "stream",
     "text": [
      "6.218950890844088\n",
      "100\n",
      "[0.2, 0.4, 0.7, 0.4]\n",
      "tf.Tensor([[1.7100956e-05 5.6389385e-05 4.1155331e-03 9.9581099e-01]], shape=(1, 4), dtype=float32)\n",
      "[0.6, 0.4, 0.7, 0.4]\n",
      "tf.Tensor([[1.5990037e-05 7.0426715e-05 8.2934611e-03 9.9162006e-01]], shape=(1, 4), dtype=float32)\n",
      "[1.0, 0.4, 0.7, 0.4]\n",
      "tf.Tensor([[0.00897006 0.00571189 0.98385054 0.0014675 ]], shape=(1, 4), dtype=float32)\n"
     ]
    },
    {
     "name": "stderr",
     "output_type": "stream",
     "text": [
      " 31%|█████████████████████▉                                                 | 30901/100000 [6:36:28<7:33:02,  2.54it/s]"
     ]
    },
    {
     "name": "stdout",
     "output_type": "stream",
     "text": [
      "6.676866439530345\n",
      "100\n"
     ]
    },
    {
     "name": "stderr",
     "output_type": "stream",
     "text": [
      " 31%|██████████████████████                                                 | 31000/100000 [6:37:06<7:45:33,  2.47it/s]"
     ]
    },
    {
     "name": "stdout",
     "output_type": "stream",
     "text": [
      "6.109135349287643\n",
      "100\n",
      "[0.8, 0.3, 0.6, 0.2]\n",
      "tf.Tensor([[9.3093977e-06 3.8026872e-05 2.9846539e-03 9.9696809e-01]], shape=(1, 4), dtype=float32)\n",
      "[0.4, 0.3, 0.6, 0.2]\n",
      "tf.Tensor([[1.7270437e-05 8.5363812e-05 1.0769567e-02 9.8912781e-01]], shape=(1, 4), dtype=float32)\n",
      "[0.8, 0.3, 0.6, 0.2]\n",
      "tf.Tensor([[2.0248551e-02 9.6319448e-03 9.6928835e-01 8.3115621e-04]], shape=(1, 4), dtype=float32)\n",
      "[0.5, 0.3, 0.6, 0.2]\n"
     ]
    },
    {
     "name": "stderr",
     "output_type": "stream",
     "text": [
      "\r",
      " 31%|██████████████████████                                                 | 31001/100000 [6:37:06<8:53:50,  2.15it/s]"
     ]
    },
    {
     "name": "stdout",
     "output_type": "stream",
     "text": [
      "tf.Tensor([[9.9948502e-01 1.7404350e-04 3.4074095e-04 8.4074934e-08]], shape=(1, 4), dtype=float32)\n",
      "[0.6, 0.3, 0.6, 0.2]\n",
      "tf.Tensor([[9.9949634e-01 1.7908236e-04 3.2448597e-04 8.2216971e-08]], shape=(1, 4), dtype=float32)\n"
     ]
    },
    {
     "name": "stderr",
     "output_type": "stream",
     "text": [
      " 31%|██████████████████████                                                 | 31101/100000 [6:37:45<7:55:36,  2.41it/s]"
     ]
    },
    {
     "name": "stdout",
     "output_type": "stream",
     "text": [
      "6.332702543575089\n",
      "100\n"
     ]
    },
    {
     "name": "stderr",
     "output_type": "stream",
     "text": [
      " 31%|██████████████████████▏                                                | 31200/100000 [6:38:21<7:14:04,  2.64it/s]"
     ]
    },
    {
     "name": "stdout",
     "output_type": "stream",
     "text": [
      "6.396840869662525\n",
      "100\n",
      "[0.6, 0.7, 0.2, 0.9]\n",
      "tf.Tensor([[7.7315763e-06 3.3754230e-05 2.6433163e-03 9.9731523e-01]], shape=(1, 4), dtype=float32)\n",
      "[0.2, 0.7, 0.2, 0.9]\n",
      "tf.Tensor([[1.3071286e-05 6.7606015e-05 8.1170108e-03 9.9180239e-01]], shape=(1, 4), dtype=float32)\n",
      "[0.2, 1.0, 0.2, 0.9]\n",
      "tf.Tensor([[0.00802057 0.00565388 0.9850639  0.00126162]], shape=(1, 4), dtype=float32)\n",
      "[0.2, 0.7, 0.2, 0.9]\n",
      "tf.Tensor([[9.9960321e-01 1.0210756e-04 2.9463047e-04 6.7643001e-08]], shape=(1, 4), dtype=float32)\n",
      "[0.2, 0.8, 0.2, 0.9]\n"
     ]
    },
    {
     "name": "stderr",
     "output_type": "stream",
     "text": [
      "\r",
      " 31%|██████████████████████▏                                                | 31201/100000 [6:38:21<8:53:01,  2.15it/s]"
     ]
    },
    {
     "name": "stdout",
     "output_type": "stream",
     "text": [
      "tf.Tensor([[9.99515414e-01 1.18158685e-04 3.66329274e-04 8.51159569e-08]], shape=(1, 4), dtype=float32)\n"
     ]
    },
    {
     "name": "stderr",
     "output_type": "stream",
     "text": [
      " 31%|██████████████████████▏                                                | 31301/100000 [6:38:59<7:42:12,  2.48it/s]"
     ]
    },
    {
     "name": "stdout",
     "output_type": "stream",
     "text": [
      "6.162942738109348\n",
      "100\n"
     ]
    },
    {
     "name": "stderr",
     "output_type": "stream",
     "text": [
      " 31%|██████████████████████▎                                                | 31401/100000 [6:39:37<8:55:36,  2.13it/s]"
     ]
    },
    {
     "name": "stdout",
     "output_type": "stream",
     "text": [
      "6.310755112878214\n",
      "100\n",
      "[0.7, 0.5, 0.2, 0.9]\n",
      "tf.Tensor([[6.8886216e-06 2.9422115e-05 2.0143457e-03 9.9794942e-01]], shape=(1, 4), dtype=float32)\n",
      "[0.3, 0.5, 0.2, 0.9]\n",
      "tf.Tensor([[8.8968363e-06 4.5888824e-05 4.2413501e-03 9.9570376e-01]], shape=(1, 4), dtype=float32)\n",
      "[0.3, 0.9, 0.2, 0.9]\n",
      "tf.Tensor([[0.00872921 0.00520687 0.9844939  0.00156999]], shape=(1, 4), dtype=float32)\n",
      "[0.0, 0.9, 0.2, 0.9]\n",
      "tf.Tensor([[9.9965239e-01 9.1519418e-05 2.5606455e-04 6.8990275e-08]], shape=(1, 4), dtype=float32)\n",
      "[0.1, 0.9, 0.2, 0.9]\n",
      "tf.Tensor([[9.9961323e-01 1.0189574e-04 2.8485156e-04 7.7686508e-08]], shape=(1, 4), dtype=float32)\n"
     ]
    },
    {
     "name": "stderr",
     "output_type": "stream",
     "text": [
      " 32%|██████████████████████▎                                                | 31501/100000 [6:40:14<8:34:22,  2.22it/s]"
     ]
    },
    {
     "name": "stdout",
     "output_type": "stream",
     "text": [
      "6.257665137994207\n",
      "100\n"
     ]
    },
    {
     "name": "stderr",
     "output_type": "stream",
     "text": [
      " 32%|██████████████████████▍                                                | 31600/100000 [6:40:51<7:34:56,  2.51it/s]"
     ]
    },
    {
     "name": "stdout",
     "output_type": "stream",
     "text": [
      "6.417823624916673\n",
      "100\n",
      "[0.0, 0.1, 0.5, 0.7]\n",
      "tf.Tensor([[1.4898329e-05 5.0425446e-05 2.8740859e-03 9.9706048e-01]], shape=(1, 4), dtype=float32)\n",
      "[0.4, 0.1, 0.5, 0.7]\n",
      "tf.Tensor([[1.2116050e-05 4.8393347e-05 3.5564608e-03 9.9638307e-01]], shape=(1, 4), dtype=float32)\n",
      "[0.4, 0.5, 0.5, 0.7]\n",
      "tf.Tensor([[0.00315969 0.00278557 0.9656844  0.02837027]], shape=(1, 4), dtype=float32)\n",
      "[0.4, 0.8, 0.5, 0.7]\n",
      "tf.Tensor([[9.99502182e-01 1.19596669e-04 3.78065277e-04 1.15089215e-07]], shape=(1, 4), dtype=float32)\n",
      "[0.5, 0.8, 0.5, 0.7]\n"
     ]
    },
    {
     "name": "stderr",
     "output_type": "stream",
     "text": [
      "\r",
      " 32%|██████████████████████▍                                                | 31601/100000 [6:40:52<7:51:05,  2.42it/s]"
     ]
    },
    {
     "name": "stdout",
     "output_type": "stream",
     "text": [
      "tf.Tensor([[9.996176e-01 9.933501e-05 2.829713e-04 7.721326e-08]], shape=(1, 4), dtype=float32)\n"
     ]
    },
    {
     "name": "stderr",
     "output_type": "stream",
     "text": [
      " 32%|██████████████████████▌                                                | 31701/100000 [6:41:28<7:21:28,  2.58it/s]"
     ]
    },
    {
     "name": "stdout",
     "output_type": "stream",
     "text": [
      "6.353567673289765\n",
      "100\n"
     ]
    },
    {
     "name": "stderr",
     "output_type": "stream",
     "text": [
      " 32%|██████████████████████▌                                                | 31800/100000 [6:42:04<6:37:02,  2.86it/s]"
     ]
    },
    {
     "name": "stdout",
     "output_type": "stream",
     "text": [
      "6.334545033269681\n",
      "100\n",
      "[0.9, 0.0, 0.2, 0.9]\n",
      "tf.Tensor([[9.9761955e-06 3.7192829e-05 2.5598949e-03 9.9739289e-01]], shape=(1, 4), dtype=float32)\n",
      "[0.9, 0.4, 0.2, 0.9]\n",
      "tf.Tensor([[1.0868318e-05 5.6349232e-05 7.7713090e-03 9.9216145e-01]], shape=(1, 4), dtype=float32)\n",
      "[0.5, 0.4, 0.2, 0.9]\n",
      "tf.Tensor([[4.0276662e-02 6.9823638e-03 9.5200527e-01 7.3568383e-04]], shape=(1, 4), dtype=float32)\n",
      "[0.5, 0.7, 0.2, 0.9]\n",
      "tf.Tensor([[9.9976379e-01 6.4757194e-05 1.7142323e-04 3.5169261e-08]], shape=(1, 4), dtype=float32)\n",
      "[0.4, 0.7, 0.2, 0.9]\n",
      "tf.Tensor([[9.9977094e-01 6.4196502e-05 1.6479897e-04 3.3229430e-08]], shape=(1, 4), dtype=float32)\n"
     ]
    },
    {
     "name": "stderr",
     "output_type": "stream",
     "text": [
      "\r",
      " 32%|██████████████████████▌                                                | 31801/100000 [6:42:05<7:47:30,  2.43it/s]"
     ]
    },
    {
     "name": "stdout",
     "output_type": "stream",
     "text": [
      "[0.3, 0.7, 0.2, 0.9]\n",
      "tf.Tensor([[9.9964917e-01 8.4920379e-05 2.6586218e-04 5.9623630e-08]], shape=(1, 4), dtype=float32)\n",
      "[0.3, 0.8, 0.2, 0.9]\n",
      "tf.Tensor([[9.9975163e-01 6.9631547e-05 1.7872384e-04 3.5802060e-08]], shape=(1, 4), dtype=float32)\n",
      "[0.2, 0.8, 0.2, 0.9]\n",
      "tf.Tensor([[9.9965537e-01 8.5267835e-05 2.5922383e-04 6.0873660e-08]], shape=(1, 4), dtype=float32)\n"
     ]
    },
    {
     "name": "stderr",
     "output_type": "stream",
     "text": [
      " 32%|██████████████████████▋                                                | 31901/100000 [6:42:41<7:15:31,  2.61it/s]"
     ]
    },
    {
     "name": "stdout",
     "output_type": "stream",
     "text": [
      "6.434413649749833\n",
      "100\n"
     ]
    },
    {
     "name": "stderr",
     "output_type": "stream",
     "text": [
      " 32%|██████████████████████▋                                                | 32001/100000 [6:43:18<6:54:19,  2.74it/s]"
     ]
    },
    {
     "name": "stdout",
     "output_type": "stream",
     "text": [
      "6.637755202543978\n",
      "100\n",
      "[0.7, 0.2, 0.7, 0.1]\n",
      "tf.Tensor([[7.6743754e-06 3.0834315e-05 1.7618329e-03 9.9819958e-01]], shape=(1, 4), dtype=float32)\n",
      "[0.7, 0.0, 0.7, 0.1]\n",
      "tf.Tensor([[8.6998925e-06 4.1529929e-05 3.2612733e-03 9.9668854e-01]], shape=(1, 4), dtype=float32)\n",
      "[0.7, 0.4, 0.7, 0.1]\n",
      "tf.Tensor([[0.01694883 0.00599453 0.9759124  0.00114427]], shape=(1, 4), dtype=float32)\n"
     ]
    },
    {
     "name": "stderr",
     "output_type": "stream",
     "text": [
      " 32%|██████████████████████▊                                                | 32101/100000 [6:43:55<9:22:39,  2.01it/s]"
     ]
    },
    {
     "name": "stdout",
     "output_type": "stream",
     "text": [
      "6.137434343913598\n",
      "100\n"
     ]
    },
    {
     "name": "stderr",
     "output_type": "stream",
     "text": [
      " 32%|██████████████████████▊                                                | 32200/100000 [6:44:31<6:58:44,  2.70it/s]"
     ]
    },
    {
     "name": "stdout",
     "output_type": "stream",
     "text": [
      "6.362945936635103\n",
      "100\n",
      "[0.0, 0.7, 0.2, 0.9]\n",
      "tf.Tensor([[1.0793494e-05 3.7475413e-05 2.4744482e-03 9.9747723e-01]], shape=(1, 4), dtype=float32)\n",
      "[0.4, 0.7, 0.2, 0.9]\n",
      "tf.Tensor([[9.3810631e-06 4.5893015e-05 5.3838231e-03 9.9456090e-01]], shape=(1, 4), dtype=float32)\n",
      "[0.0, 0.7, 0.2, 0.9]\n",
      "tf.Tensor([[0.00867153 0.00452968 0.9851835  0.00161528]], shape=(1, 4), dtype=float32)\n",
      "[0.3, 0.7, 0.2, 0.9]\n",
      "tf.Tensor([[9.9962223e-01 8.9333953e-05 2.8834495e-04 6.7426207e-08]], shape=(1, 4), dtype=float32)\n"
     ]
    },
    {
     "name": "stderr",
     "output_type": "stream",
     "text": [
      "\r",
      " 32%|██████████████████████▊                                                | 32201/100000 [6:44:32<8:17:38,  2.27it/s]"
     ]
    },
    {
     "name": "stdout",
     "output_type": "stream",
     "text": [
      "[0.3, 0.8, 0.2, 0.9]\n",
      "tf.Tensor([[9.9974602e-01 6.8519672e-05 1.8541217e-04 3.8857365e-08]], shape=(1, 4), dtype=float32)\n",
      "[0.2, 0.8, 0.2, 0.9]\n",
      "tf.Tensor([[9.9961686e-01 8.7876731e-05 2.9519002e-04 6.8175247e-08]], shape=(1, 4), dtype=float32)\n"
     ]
    },
    {
     "name": "stderr",
     "output_type": "stream",
     "text": [
      " 32%|██████████████████████▉                                                | 32301/100000 [6:45:10<7:46:53,  2.42it/s]"
     ]
    },
    {
     "name": "stdout",
     "output_type": "stream",
     "text": [
      "6.257582025044037\n",
      "100\n"
     ]
    },
    {
     "name": "stderr",
     "output_type": "stream",
     "text": [
      " 32%|███████████████████████                                                | 32401/100000 [6:45:48<7:39:54,  2.45it/s]"
     ]
    },
    {
     "name": "stdout",
     "output_type": "stream",
     "text": [
      "6.114081409523447\n",
      "100\n",
      "[0.4, 0.1, 0.7, 0.1]\n",
      "tf.Tensor([[1.0962237e-05 3.8226259e-05 2.5227827e-03 9.9742800e-01]], shape=(1, 4), dtype=float32)\n",
      "[0.8, 0.1, 0.7, 0.1]\n",
      "tf.Tensor([[9.3668668e-06 4.5232686e-05 5.5191237e-03 9.9442625e-01]], shape=(1, 4), dtype=float32)\n",
      "[0.4, 0.1, 0.7, 0.1]\n",
      "tf.Tensor([[0.01518226 0.00524567 0.9784551  0.0011169 ]], shape=(1, 4), dtype=float32)\n"
     ]
    },
    {
     "name": "stderr",
     "output_type": "stream",
     "text": [
      " 33%|███████████████████████                                                | 32501/100000 [6:46:24<6:56:41,  2.70it/s]"
     ]
    },
    {
     "name": "stdout",
     "output_type": "stream",
     "text": [
      "6.553271673280228\n",
      "100\n"
     ]
    },
    {
     "name": "stderr",
     "output_type": "stream",
     "text": [
      " 33%|███████████████████████▏                                               | 32600/100000 [6:46:59<6:59:51,  2.68it/s]"
     ]
    },
    {
     "name": "stdout",
     "output_type": "stream",
     "text": [
      "6.5577854517013945\n",
      "100\n",
      "[0.0, 0.8, 0.2, 0.9]\n",
      "tf.Tensor([[9.9640311e-06 3.6151625e-05 2.4528611e-03 9.9750096e-01]], shape=(1, 4), dtype=float32)\n",
      "[0.4, 0.8, 0.2, 0.9]\n",
      "tf.Tensor([[1.0291314e-05 5.2532894e-05 6.7292494e-03 9.9320787e-01]], shape=(1, 4), dtype=float32)\n",
      "[0.0, 0.8, 0.2, 0.9]\n",
      "tf.Tensor([[0.00882174 0.00463283 0.9852337  0.00131167]], shape=(1, 4), dtype=float32)\n",
      "[0.3, 0.8, 0.2, 0.9]\n"
     ]
    },
    {
     "name": "stderr",
     "output_type": "stream",
     "text": [
      "\r",
      " 33%|███████████████████████▏                                               | 32601/100000 [6:47:00<8:15:31,  2.27it/s]"
     ]
    },
    {
     "name": "stdout",
     "output_type": "stream",
     "text": [
      "tf.Tensor([[9.9969673e-01 7.7323239e-05 2.2594996e-04 4.1953982e-08]], shape=(1, 4), dtype=float32)\n",
      "[0.2, 0.8, 0.2, 0.9]\n",
      "tf.Tensor([[9.9963892e-01 8.3061597e-05 2.7798055e-04 5.8154715e-08]], shape=(1, 4), dtype=float32)\n"
     ]
    },
    {
     "name": "stderr",
     "output_type": "stream",
     "text": [
      " 33%|███████████████████████▏                                               | 32701/100000 [6:47:36<8:11:29,  2.28it/s]"
     ]
    },
    {
     "name": "stdout",
     "output_type": "stream",
     "text": [
      "6.5010262632298765\n",
      "100\n"
     ]
    },
    {
     "name": "stderr",
     "output_type": "stream",
     "text": [
      " 33%|███████████████████████▎                                               | 32801/100000 [6:48:12<8:01:14,  2.33it/s]"
     ]
    },
    {
     "name": "stdout",
     "output_type": "stream",
     "text": [
      "6.289934277607117\n",
      "100\n",
      "[0.0, 0.7, 0.6, 0.2]\n",
      "tf.Tensor([[1.0853830e-05 3.5775225e-05 2.8069881e-03 9.9714643e-01]], shape=(1, 4), dtype=float32)\n",
      "[0.4, 0.7, 0.6, 0.2]\n",
      "tf.Tensor([[1.1121973e-05 4.7754453e-05 5.9257885e-03 9.9401540e-01]], shape=(1, 4), dtype=float32)\n",
      "[0.4, 0.3, 0.6, 0.2]\n",
      "tf.Tensor([[0.00975397 0.00353968 0.98548776 0.0012186 ]], shape=(1, 4), dtype=float32)\n",
      "[0.7, 0.3, 0.6, 0.2]\n",
      "tf.Tensor([[9.9981111e-01 4.8984552e-05 1.3991032e-04 2.5525221e-08]], shape=(1, 4), dtype=float32)\n",
      "[0.6, 0.3, 0.6, 0.2]\n",
      "tf.Tensor([[9.9979323e-01 4.9631977e-05 1.5722624e-04 2.9929943e-08]], shape=(1, 4), dtype=float32)\n"
     ]
    },
    {
     "name": "stderr",
     "output_type": "stream",
     "text": [
      " 33%|███████████████████████▎                                               | 32901/100000 [6:48:48<7:35:22,  2.46it/s]"
     ]
    },
    {
     "name": "stdout",
     "output_type": "stream",
     "text": [
      "6.34173388104791\n",
      "100\n"
     ]
    },
    {
     "name": "stderr",
     "output_type": "stream",
     "text": [
      " 33%|███████████████████████▍                                               | 33000/100000 [6:49:25<6:59:05,  2.66it/s]"
     ]
    },
    {
     "name": "stdout",
     "output_type": "stream",
     "text": [
      "6.373271612129\n",
      "100\n",
      "[0.9, 0.1, 0.7, 0.4]\n",
      "tf.Tensor([[6.516013e-06 2.379098e-05 1.488576e-03 9.984811e-01]], shape=(1, 4), dtype=float32)\n",
      "[0.9, 0.5, 0.7, 0.4]\n",
      "tf.Tensor([[5.7762354e-06 2.8679991e-05 3.3247264e-03 9.9664080e-01]], shape=(1, 4), dtype=float32)\n",
      "[0.5, 0.5, 0.7, 0.4]\n",
      "tf.Tensor([[5.1744416e-02 5.1566358e-03 9.4256109e-01 5.3782953e-04]], shape=(1, 4), dtype=float32)\n",
      "[0.8, 0.5, 0.7, 0.4]\n",
      "tf.Tensor([[9.9984789e-01 3.6763617e-05 1.1533613e-04 1.8141058e-08]], shape=(1, 4), dtype=float32)\n",
      "[0.7, 0.5, 0.7, 0.4]\n"
     ]
    },
    {
     "name": "stderr",
     "output_type": "stream",
     "text": [
      "\r",
      " 33%|███████████████████████▍                                               | 33001/100000 [6:49:25<7:47:14,  2.39it/s]"
     ]
    },
    {
     "name": "stdout",
     "output_type": "stream",
     "text": [
      "tf.Tensor([[9.9982882e-01 3.9444916e-05 1.3170380e-04 2.2573037e-08]], shape=(1, 4), dtype=float32)\n"
     ]
    },
    {
     "name": "stderr",
     "output_type": "stream",
     "text": [
      " 33%|███████████████████████▌                                               | 33101/100000 [6:50:01<7:00:12,  2.65it/s]"
     ]
    },
    {
     "name": "stdout",
     "output_type": "stream",
     "text": [
      "6.40827692074123\n",
      "100\n"
     ]
    },
    {
     "name": "stderr",
     "output_type": "stream",
     "text": [
      " 33%|███████████████████████▏                                              | 33201/100000 [6:50:38<10:24:31,  1.78it/s]"
     ]
    },
    {
     "name": "stdout",
     "output_type": "stream",
     "text": [
      "6.00362264549667\n",
      "100\n",
      "[0.1, 0.2, 0.1, 0.1]\n",
      "tf.Tensor([[7.4337695e-06 2.6757525e-05 1.4893204e-03 9.9847656e-01]], shape=(1, 4), dtype=float32)\n",
      "[0.1, 0.0, 0.1, 0.1]\n",
      "tf.Tensor([[8.2904362e-06 3.0961157e-05 2.0176391e-03 9.9794310e-01]], shape=(1, 4), dtype=float32)\n",
      "[0.1, 0.4, 0.1, 0.1]\n",
      "tf.Tensor([[0.0020698  0.00221727 0.8913348  0.10437816]], shape=(1, 4), dtype=float32)\n"
     ]
    },
    {
     "name": "stderr",
     "output_type": "stream",
     "text": [
      " 33%|███████████████████████▋                                               | 33301/100000 [6:51:13<5:55:03,  3.13it/s]"
     ]
    },
    {
     "name": "stdout",
     "output_type": "stream",
     "text": [
      "6.809707479678739\n",
      "100\n"
     ]
    },
    {
     "name": "stderr",
     "output_type": "stream",
     "text": [
      " 33%|███████████████████████▋                                               | 33400/100000 [6:51:49<7:17:17,  2.54it/s]"
     ]
    },
    {
     "name": "stdout",
     "output_type": "stream",
     "text": [
      "6.34777395687554\n",
      "100\n",
      "[0.5, 0.4, 0.1, 0.1]\n",
      "tf.Tensor([[4.9317978e-06 1.9568315e-05 1.3252927e-03 9.9865025e-01]], shape=(1, 4), dtype=float32)\n",
      "[0.1, 0.4, 0.1, 0.1]\n",
      "tf.Tensor([[5.6537756e-06 2.7496408e-05 2.4774149e-03 9.9748945e-01]], shape=(1, 4), dtype=float32)\n",
      "[0.1, 0.0, 0.1, 0.1]\n",
      "tf.Tensor([[0.00504809 0.00242894 0.9904242  0.00209878]], shape=(1, 4), dtype=float32)\n",
      "[0.1, 0.3, 0.1, 0.1]\n",
      "tf.Tensor([[9.9962783e-01 7.4767908e-05 2.9737543e-04 6.3508359e-08]], shape=(1, 4), dtype=float32)\n",
      "[0.1, 0.2, 0.1, 0.1]\n",
      "tf.Tensor([[9.99395728e-01 1.09348286e-04 4.94826119e-04 1.06149216e-07]], shape=(1, 4), dtype=float32)\n"
     ]
    },
    {
     "name": "stderr",
     "output_type": "stream",
     "text": [
      " 34%|███████████████████████▊                                               | 33501/100000 [6:52:26<6:33:16,  2.82it/s]"
     ]
    },
    {
     "name": "stdout",
     "output_type": "stream",
     "text": [
      "6.735492793090114\n",
      "100\n"
     ]
    },
    {
     "name": "stderr",
     "output_type": "stream",
     "text": [
      " 34%|███████████████████████▊                                               | 33601/100000 [6:53:03<8:38:09,  2.14it/s]"
     ]
    },
    {
     "name": "stdout",
     "output_type": "stream",
     "text": [
      "6.130502806223898\n",
      "100\n",
      "[0.1, 0.5, 0.7, 0.1]\n",
      "tf.Tensor([[7.8064286e-06 2.5761405e-05 1.9538191e-03 9.9801266e-01]], shape=(1, 4), dtype=float32)\n",
      "[0.5, 0.5, 0.7, 0.1]\n",
      "tf.Tensor([[7.6681372e-06 3.2421674e-05 4.0258253e-03 9.9593401e-01]], shape=(1, 4), dtype=float32)\n",
      "[0.5, 0.1, 0.7, 0.1]\n",
      "tf.Tensor([[8.6117350e-03 2.3504363e-03 9.8827583e-01 7.6202053e-04]], shape=(1, 4), dtype=float32)\n",
      "[0.8, 0.1, 0.7, 0.1]\n",
      "tf.Tensor([[9.9974817e-01 4.4127719e-05 2.0773344e-04 2.5331847e-08]], shape=(1, 4), dtype=float32)\n"
     ]
    },
    {
     "name": "stderr",
     "output_type": "stream",
     "text": [
      " 34%|███████████████████████▉                                               | 33701/100000 [6:53:40<7:57:02,  2.32it/s]"
     ]
    },
    {
     "name": "stdout",
     "output_type": "stream",
     "text": [
      "6.4579682032847145\n",
      "100\n"
     ]
    },
    {
     "name": "stderr",
     "output_type": "stream",
     "text": [
      " 34%|███████████████████████▉                                               | 33800/100000 [6:54:16<7:35:33,  2.42it/s]"
     ]
    },
    {
     "name": "stdout",
     "output_type": "stream",
     "text": [
      "6.288645527721357\n",
      "100\n",
      "[0.4, 0.3, 0.2, 0.9]\n",
      "tf.Tensor([[6.4255050e-06 2.2820706e-05 1.4885612e-03 9.9848217e-01]], shape=(1, 4), dtype=float32)\n",
      "[0.4, 0.7, 0.2, 0.9]\n",
      "tf.Tensor([[4.7306967e-06 2.2921107e-05 2.4617929e-03 9.9751043e-01]], shape=(1, 4), dtype=float32)\n",
      "[0.0, 0.7, 0.2, 0.9]\n",
      "tf.Tensor([[0.00504638 0.00194182 0.9918601  0.00115179]], shape=(1, 4), dtype=float32)\n"
     ]
    },
    {
     "name": "stderr",
     "output_type": "stream",
     "text": [
      "\r",
      " 34%|███████████████████████▉                                               | 33801/100000 [6:54:16<9:00:18,  2.04it/s]"
     ]
    },
    {
     "name": "stdout",
     "output_type": "stream",
     "text": [
      "[0.3, 0.7, 0.2, 0.9]\n",
      "tf.Tensor([[9.9961191e-01 5.5879726e-05 3.3223612e-04 4.8856879e-08]], shape=(1, 4), dtype=float32)\n",
      "[0.3, 0.8, 0.2, 0.9]\n",
      "tf.Tensor([[9.9974626e-01 4.2914071e-05 2.1077046e-04 2.6700706e-08]], shape=(1, 4), dtype=float32)\n",
      "[0.2, 0.8, 0.2, 0.9]\n",
      "tf.Tensor([[9.9960226e-01 5.6074310e-05 3.4161049e-04 4.8271925e-08]], shape=(1, 4), dtype=float32)\n"
     ]
    },
    {
     "name": "stderr",
     "output_type": "stream",
     "text": [
      " 34%|████████████████████████                                               | 33901/100000 [6:54:53<6:11:13,  2.97it/s]"
     ]
    },
    {
     "name": "stdout",
     "output_type": "stream",
     "text": [
      "6.54784844254373\n",
      "100\n"
     ]
    },
    {
     "name": "stderr",
     "output_type": "stream",
     "text": [
      " 34%|████████████████████████▏                                              | 34001/100000 [6:55:30<8:32:10,  2.15it/s]"
     ]
    },
    {
     "name": "stdout",
     "output_type": "stream",
     "text": [
      "6.113933738650054\n",
      "100\n",
      "[0.5, 0.6, 0.6, 0.2]\n",
      "tf.Tensor([[5.6685635e-06 2.0137666e-05 1.2920442e-03 9.9868208e-01]], shape=(1, 4), dtype=float32)\n",
      "[0.5, 0.2, 0.6, 0.2]\n",
      "tf.Tensor([[1.0015800e-05 3.7335638e-05 4.2025917e-03 9.9575007e-01]], shape=(1, 4), dtype=float32)\n",
      "[0.9, 0.2, 0.6, 0.2]\n",
      "tf.Tensor([[8.832718e-02 4.835904e-03 9.065778e-01 2.590619e-04]], shape=(1, 4), dtype=float32)\n"
     ]
    },
    {
     "name": "stderr",
     "output_type": "stream",
     "text": [
      " 34%|████████████████████████▏                                              | 34101/100000 [6:56:06<6:55:05,  2.65it/s]"
     ]
    },
    {
     "name": "stdout",
     "output_type": "stream",
     "text": [
      "6.608842287225024\n",
      "100\n"
     ]
    },
    {
     "name": "stderr",
     "output_type": "stream",
     "text": [
      " 34%|████████████████████████▎                                              | 34200/100000 [6:56:42<6:24:29,  2.85it/s]"
     ]
    },
    {
     "name": "stdout",
     "output_type": "stream",
     "text": [
      "6.639581505797455\n",
      "100\n",
      "[0.4, 0.5, 0.6, 0.2]\n",
      "tf.Tensor([[4.9713308e-06 1.8648101e-05 1.1978114e-03 9.9877864e-01]], shape=(1, 4), dtype=float32)\n",
      "[0.4, 0.1, 0.6, 0.2]\n",
      "tf.Tensor([[5.424875e-06 2.321173e-05 2.130154e-03 9.978411e-01]], shape=(1, 4), dtype=float32)\n",
      "[0.8, 0.1, 0.6, 0.2]\n",
      "tf.Tensor([[5.7312991e-03 1.8262366e-03 9.9174410e-01 6.9839723e-04]], shape=(1, 4), dtype=float32)\n"
     ]
    },
    {
     "name": "stderr",
     "output_type": "stream",
     "text": [
      "\r",
      " 34%|████████████████████████▎                                              | 34201/100000 [6:56:42<7:25:48,  2.46it/s]"
     ]
    },
    {
     "name": "stdout",
     "output_type": "stream",
     "text": [
      "[0.5, 0.1, 0.6, 0.2]\n",
      "tf.Tensor([[9.9958283e-01 5.3484520e-05 3.6363906e-04 4.4196870e-08]], shape=(1, 4), dtype=float32)\n",
      "[0.5, 0.2, 0.6, 0.2]\n",
      "tf.Tensor([[9.9962437e-01 4.9772181e-05 3.2575824e-04 4.2393911e-08]], shape=(1, 4), dtype=float32)\n"
     ]
    },
    {
     "name": "stderr",
     "output_type": "stream",
     "text": [
      " 34%|████████████████████████▎                                              | 34301/100000 [6:57:18<7:33:11,  2.42it/s]"
     ]
    },
    {
     "name": "stdout",
     "output_type": "stream",
     "text": [
      "6.360315019844095\n",
      "100\n"
     ]
    },
    {
     "name": "stderr",
     "output_type": "stream",
     "text": [
      " 34%|████████████████████████▍                                              | 34400/100000 [6:57:55<6:24:46,  2.84it/s]"
     ]
    },
    {
     "name": "stdout",
     "output_type": "stream",
     "text": [
      "6.542975329039303\n",
      "100\n",
      "[0.4, 0.7, 0.7, 0.1]\n",
      "tf.Tensor([[4.8706224e-06 1.8548102e-05 1.1798361e-03 9.9879670e-01]], shape=(1, 4), dtype=float32)\n",
      "[0.4, 0.3, 0.7, 0.1]\n",
      "tf.Tensor([[4.6764835e-06 2.0977321e-05 1.8805213e-03 9.9809378e-01]], shape=(1, 4), dtype=float32)\n",
      "[0.8, 0.3, 0.7, 0.1]\n",
      "tf.Tensor([[0.00339068 0.00167451 0.9938287  0.00110608]], shape=(1, 4), dtype=float32)\n",
      "[0.8, 0.0, 0.7, 0.1]\n"
     ]
    },
    {
     "name": "stderr",
     "output_type": "stream",
     "text": [
      "\r",
      " 34%|████████████████████████▍                                              | 34401/100000 [6:57:55<7:44:48,  2.35it/s]"
     ]
    },
    {
     "name": "stdout",
     "output_type": "stream",
     "text": [
      "tf.Tensor([[9.9975520e-01 4.1321033e-05 2.0346258e-04 2.1914472e-08]], shape=(1, 4), dtype=float32)\n",
      "[0.7, 0.0, 0.7, 0.1]\n",
      "tf.Tensor([[9.9967563e-01 4.6904544e-05 2.7735258e-04 3.6945178e-08]], shape=(1, 4), dtype=float32)\n"
     ]
    },
    {
     "name": "stderr",
     "output_type": "stream",
     "text": [
      " 35%|████████████████████████▍                                              | 34501/100000 [6:58:31<7:55:51,  2.29it/s]"
     ]
    },
    {
     "name": "stdout",
     "output_type": "stream",
     "text": [
      "6.4209433537957175\n",
      "100\n"
     ]
    },
    {
     "name": "stderr",
     "output_type": "stream",
     "text": [
      " 35%|████████████████████████▌                                              | 34601/100000 [6:59:08<7:18:12,  2.49it/s]"
     ]
    },
    {
     "name": "stdout",
     "output_type": "stream",
     "text": [
      "6.625511445143784\n",
      "100\n",
      "[0.4, 0.0, 0.2, 0.9]\n",
      "tf.Tensor([[6.3677021e-06 1.9214827e-05 1.3994365e-03 9.9857497e-01]], shape=(1, 4), dtype=float32)\n",
      "[0.4, 0.4, 0.2, 0.9]\n",
      "tf.Tensor([[5.7583256e-06 1.9331223e-05 1.8638695e-03 9.9811101e-01]], shape=(1, 4), dtype=float32)\n",
      "[0.4, 0.8, 0.2, 0.9]\n",
      "tf.Tensor([[2.4997066e-03 9.1884058e-04 9.9348760e-01 3.0938545e-03]], shape=(1, 4), dtype=float32)\n",
      "[0.1, 0.8, 0.2, 0.9]\n",
      "tf.Tensor([[9.9964249e-01 4.4019198e-05 3.1354494e-04 4.1167446e-08]], shape=(1, 4), dtype=float32)\n",
      "[0.2, 0.8, 0.2, 0.9]\n",
      "tf.Tensor([[9.9968398e-01 4.0319410e-05 2.7575318e-04 3.5543000e-08]], shape=(1, 4), dtype=float32)\n"
     ]
    },
    {
     "name": "stderr",
     "output_type": "stream",
     "text": [
      " 35%|████████████████████████▋                                              | 34701/100000 [6:59:44<7:10:38,  2.53it/s]"
     ]
    },
    {
     "name": "stdout",
     "output_type": "stream",
     "text": [
      "6.785773472946876\n",
      "100\n"
     ]
    },
    {
     "name": "stderr",
     "output_type": "stream",
     "text": [
      " 35%|████████████████████████▋                                              | 34800/100000 [7:00:20<6:12:31,  2.92it/s]"
     ]
    },
    {
     "name": "stdout",
     "output_type": "stream",
     "text": [
      "6.387047740202918\n",
      "100\n",
      "[0.9, 0.8, 0.2, 0.9]\n",
      "tf.Tensor([[2.9561038e-06 1.1316051e-05 1.1070051e-03 9.9887866e-01]], shape=(1, 4), dtype=float32)\n",
      "[0.5, 0.8, 0.2, 0.9]\n",
      "tf.Tensor([[8.6666914e-06 3.9326296e-05 9.8961676e-03 9.9005580e-01]], shape=(1, 4), dtype=float32)\n",
      "[0.1, 0.8, 0.2, 0.9]\n",
      "tf.Tensor([[4.5975592e-02 3.0096385e-03 9.5078719e-01 2.2762734e-04]], shape=(1, 4), dtype=float32)\n",
      "[0.4, 0.8, 0.2, 0.9]\n",
      "tf.Tensor([[9.9981934e-01 2.6525031e-05 1.5411117e-04 1.4150493e-08]], shape=(1, 4), dtype=float32)\n",
      "[0.3, 0.8, 0.2, 0.9]\n",
      "tf.Tensor([[9.9979192e-01 2.9726782e-05 1.7834573e-04 1.7162007e-08]], shape=(1, 4), dtype=float32)\n"
     ]
    },
    {
     "name": "stderr",
     "output_type": "stream",
     "text": [
      "\r",
      " 35%|████████████████████████▋                                              | 34801/100000 [7:00:20<7:16:43,  2.49it/s]"
     ]
    },
    {
     "name": "stdout",
     "output_type": "stream",
     "text": [
      "[0.2, 0.8, 0.2, 0.9]\n",
      "tf.Tensor([[9.9967825e-01 3.8672541e-05 2.8302733e-04 3.0840916e-08]], shape=(1, 4), dtype=float32)\n"
     ]
    },
    {
     "name": "stderr",
     "output_type": "stream",
     "text": [
      " 35%|████████████████████████▊                                              | 34901/100000 [7:00:57<6:54:26,  2.62it/s]"
     ]
    },
    {
     "name": "stdout",
     "output_type": "stream",
     "text": [
      "6.5754038328056295\n",
      "100\n"
     ]
    },
    {
     "name": "stderr",
     "output_type": "stream",
     "text": [
      " 35%|████████████████████████▊                                              | 35000/100000 [7:01:33<7:17:03,  2.48it/s]"
     ]
    },
    {
     "name": "stdout",
     "output_type": "stream",
     "text": [
      "6.356831538581674\n",
      "100\n",
      "[0.7, 0.3, 0.7, 0.4]\n",
      "tf.Tensor([[4.43222052e-06 1.37607585e-05 1.28858967e-03 9.98693168e-01]], shape=(1, 4), dtype=float32)\n",
      "[0.7, 0.7, 0.7, 0.4]\n",
      "tf.Tensor([[3.4925799e-06 1.4413773e-05 2.0996942e-03 9.9788231e-01]], shape=(1, 4), dtype=float32)\n",
      "[0.7, 0.3, 0.7, 0.4]\n",
      "tf.Tensor([[4.9623190e-03 8.1684371e-04 9.9372202e-01 4.9882516e-04]], shape=(1, 4), dtype=float32)\n",
      "[0.7, 0.6, 0.7, 0.4]\n"
     ]
    },
    {
     "name": "stderr",
     "output_type": "stream",
     "text": [
      "\r",
      " 35%|████████████████████████▊                                              | 35001/100000 [7:01:33<8:21:51,  2.16it/s]"
     ]
    },
    {
     "name": "stdout",
     "output_type": "stream",
     "text": [
      "tf.Tensor([[9.9969780e-01 2.7521801e-05 2.7470422e-04 2.2859835e-08]], shape=(1, 4), dtype=float32)\n",
      "[0.7, 0.5, 0.7, 0.4]\n",
      "tf.Tensor([[9.9969912e-01 2.7544813e-05 2.7338578e-04 2.1384279e-08]], shape=(1, 4), dtype=float32)\n"
     ]
    },
    {
     "name": "stderr",
     "output_type": "stream",
     "text": [
      " 35%|████████████████████████▉                                              | 35101/100000 [7:02:11<7:02:22,  2.56it/s]"
     ]
    },
    {
     "name": "stdout",
     "output_type": "stream",
     "text": [
      "6.209693757316681\n",
      "100\n"
     ]
    },
    {
     "name": "stderr",
     "output_type": "stream",
     "text": [
      " 35%|████████████████████████▉                                              | 35201/100000 [7:02:47<7:51:24,  2.29it/s]"
     ]
    },
    {
     "name": "stdout",
     "output_type": "stream",
     "text": [
      "6.367507668928143\n",
      "100\n",
      "[0.8, 0.5, 0.2, 0.9]\n",
      "tf.Tensor([[4.1143990e-06 1.2950069e-05 1.7663876e-03 9.9821657e-01]], shape=(1, 4), dtype=float32)\n",
      "[0.4, 0.5, 0.2, 0.9]\n",
      "tf.Tensor([[6.7215474e-06 2.3568484e-05 5.3213038e-03 9.9464840e-01]], shape=(1, 4), dtype=float32)\n",
      "[0.4, 0.9, 0.2, 0.9]\n",
      "tf.Tensor([[8.5948613e-03 1.0554388e-03 9.9006104e-01 2.8873439e-04]], shape=(1, 4), dtype=float32)\n",
      "[0.1, 0.9, 0.2, 0.9]\n",
      "tf.Tensor([[9.9966598e-01 3.0634510e-05 3.0340289e-04 2.7314918e-08]], shape=(1, 4), dtype=float32)\n"
     ]
    },
    {
     "name": "stderr",
     "output_type": "stream",
     "text": [
      " 35%|█████████████████████████                                              | 35301/100000 [7:03:25<7:19:14,  2.45it/s]"
     ]
    },
    {
     "name": "stdout",
     "output_type": "stream",
     "text": [
      "6.351853644753403\n",
      "100\n"
     ]
    },
    {
     "name": "stderr",
     "output_type": "stream",
     "text": [
      " 35%|█████████████████████████▏                                             | 35401/100000 [7:04:01<8:41:13,  2.07it/s]"
     ]
    },
    {
     "name": "stdout",
     "output_type": "stream",
     "text": [
      "6.090589426783545\n",
      "100\n",
      "[0.1, 0.0, 0.1, 0.1]\n",
      "tf.Tensor([[8.6603604e-06 2.2566632e-05 2.2983451e-03 9.9767035e-01]], shape=(1, 4), dtype=float32)\n",
      "[0.1, 0.4, 0.1, 0.1]\n",
      "tf.Tensor([[6.5864124e-06 2.0316040e-05 2.6206824e-03 9.9735248e-01]], shape=(1, 4), dtype=float32)\n",
      "[0.1, 0.0, 0.1, 0.1]\n",
      "tf.Tensor([[1.5497839e-03 8.5752807e-04 9.6705794e-01 3.0534685e-02]], shape=(1, 4), dtype=float32)\n",
      "[0.1, 0.3, 0.1, 0.1]\n",
      "tf.Tensor([[9.991879e-01 6.918689e-05 7.428081e-04 9.602759e-08]], shape=(1, 4), dtype=float32)\n",
      "[0.1, 0.2, 0.1, 0.1]\n",
      "tf.Tensor([[9.9922824e-01 6.5876484e-05 7.0580788e-04 7.9802319e-08]], shape=(1, 4), dtype=float32)\n"
     ]
    },
    {
     "name": "stderr",
     "output_type": "stream",
     "text": [
      " 36%|█████████████████████████▏                                             | 35501/100000 [7:04:38<7:06:48,  2.52it/s]"
     ]
    },
    {
     "name": "stdout",
     "output_type": "stream",
     "text": [
      "6.447928978899444\n",
      "100\n"
     ]
    },
    {
     "name": "stderr",
     "output_type": "stream",
     "text": [
      " 36%|█████████████████████████▎                                             | 35600/100000 [7:05:15<6:38:35,  2.69it/s]"
     ]
    },
    {
     "name": "stdout",
     "output_type": "stream",
     "text": [
      "6.241982688914464\n",
      "100\n",
      "[0.1, 0.9, 0.2, 0.9]\n",
      "tf.Tensor([[5.3498047e-06 1.5904658e-05 1.7413677e-03 9.9823737e-01]], shape=(1, 4), dtype=float32)\n",
      "[0.5, 0.9, 0.2, 0.9]\n",
      "tf.Tensor([[5.5683327e-06 2.2574533e-05 5.4096822e-03 9.9456221e-01]], shape=(1, 4), dtype=float32)\n",
      "[0.1, 0.9, 0.2, 0.9]\n",
      "tf.Tensor([[6.9134510e-03 1.1002288e-03 9.9161410e-01 3.7220668e-04]], shape=(1, 4), dtype=float32)\n",
      "[0.4, 0.9, 0.2, 0.9]\n",
      "tf.Tensor([[9.9977630e-01 2.4959721e-05 1.9880629e-04 1.5310560e-08]], shape=(1, 4), dtype=float32)\n",
      "[0.3, 0.9, 0.2, 0.9]\n"
     ]
    },
    {
     "name": "stderr",
     "output_type": "stream",
     "text": [
      "\r",
      " 36%|█████████████████████████▎                                             | 35601/100000 [7:05:16<7:52:09,  2.27it/s]"
     ]
    },
    {
     "name": "stdout",
     "output_type": "stream",
     "text": [
      "tf.Tensor([[9.9978238e-01 2.4281251e-05 1.9331092e-04 1.5050649e-08]], shape=(1, 4), dtype=float32)\n"
     ]
    },
    {
     "name": "stderr",
     "output_type": "stream",
     "text": [
      " 36%|█████████████████████████▎                                             | 35701/100000 [7:05:53<6:55:36,  2.58it/s]"
     ]
    },
    {
     "name": "stdout",
     "output_type": "stream",
     "text": [
      "6.3938033633648175\n",
      "100\n"
     ]
    },
    {
     "name": "stderr",
     "output_type": "stream",
     "text": [
      " 36%|█████████████████████████▍                                             | 35801/100000 [7:06:29<7:22:20,  2.42it/s]"
     ]
    },
    {
     "name": "stdout",
     "output_type": "stream",
     "text": [
      "6.382817010696156\n",
      "100\n",
      "[0.9, 0.9, 0.6, 0.2]\n",
      "tf.Tensor([[3.3276635e-06 1.1760835e-05 1.1846912e-03 9.9880016e-01]], shape=(1, 4), dtype=float32)\n",
      "[0.9, 0.5, 0.6, 0.2]\n",
      "tf.Tensor([[7.0170836e-06 2.7967762e-05 6.5096961e-03 9.9345535e-01]], shape=(1, 4), dtype=float32)\n",
      "[0.9, 0.1, 0.6, 0.2]\n",
      "tf.Tensor([[6.6799194e-02 2.1988181e-03 9.3087137e-01 1.3063596e-04]], shape=(1, 4), dtype=float32)\n",
      "[0.6, 0.1, 0.6, 0.2]\n",
      "tf.Tensor([[9.9971348e-01 2.6344653e-05 2.6018085e-04 2.0598490e-08]], shape=(1, 4), dtype=float32)\n"
     ]
    },
    {
     "name": "stderr",
     "output_type": "stream",
     "text": [
      " 36%|█████████████████████████▍                                             | 35901/100000 [7:07:06<7:31:44,  2.36it/s]"
     ]
    },
    {
     "name": "stdout",
     "output_type": "stream",
     "text": [
      "6.249676554526428\n",
      "100\n"
     ]
    },
    {
     "name": "stderr",
     "output_type": "stream",
     "text": [
      " 36%|█████████████████████████▌                                             | 36001/100000 [7:07:42<8:02:48,  2.21it/s]"
     ]
    },
    {
     "name": "stdout",
     "output_type": "stream",
     "text": [
      "6.437302931317412\n",
      "100\n",
      "[0.9, 0.7, 0.2, 0.9]\n",
      "tf.Tensor([[2.4135593e-06 9.1522143e-06 8.3290867e-04 9.9915552e-01]], shape=(1, 4), dtype=float32)\n",
      "[0.5, 0.7, 0.2, 0.9]\n",
      "tf.Tensor([[3.6697886e-06 1.8009408e-05 3.4498405e-03 9.9652857e-01]], shape=(1, 4), dtype=float32)\n",
      "[0.1, 0.7, 0.2, 0.9]\n",
      "tf.Tensor([[2.9785974e-02 1.9147348e-03 9.6799701e-01 3.0225265e-04]], shape=(1, 4), dtype=float32)\n",
      "[0.1, 1.0, 0.2, 0.9]\n",
      "tf.Tensor([[9.9974805e-01 2.7004613e-05 2.2492462e-04 2.3859513e-08]], shape=(1, 4), dtype=float32)\n",
      "[0.2, 1.0, 0.2, 0.9]\n",
      "tf.Tensor([[9.9973553e-01 2.9933712e-05 2.3453456e-04 2.6841962e-08]], shape=(1, 4), dtype=float32)\n"
     ]
    },
    {
     "name": "stderr",
     "output_type": "stream",
     "text": [
      " 36%|█████████████████████████▋                                             | 36101/100000 [7:08:19<7:42:22,  2.30it/s]"
     ]
    },
    {
     "name": "stdout",
     "output_type": "stream",
     "text": [
      "6.30218591764231\n",
      "100\n"
     ]
    },
    {
     "name": "stderr",
     "output_type": "stream",
     "text": [
      " 36%|█████████████████████████▋                                             | 36200/100000 [7:08:55<6:45:27,  2.62it/s]"
     ]
    },
    {
     "name": "stdout",
     "output_type": "stream",
     "text": [
      "6.523130058183206\n",
      "100\n",
      "[0.0, 0.5, 0.7, 0.4]\n",
      "tf.Tensor([[4.8329371e-06 1.4957961e-05 1.2089420e-03 9.9877125e-01]], shape=(1, 4), dtype=float32)\n",
      "[0.4, 0.5, 0.7, 0.4]\n",
      "tf.Tensor([[3.6616743e-06 1.4815433e-05 1.8495747e-03 9.9813205e-01]], shape=(1, 4), dtype=float32)\n",
      "[0.8, 0.5, 0.7, 0.4]\n",
      "tf.Tensor([[4.6563912e-03 9.0837188e-04 9.9387896e-01 5.5626826e-04]], shape=(1, 4), dtype=float32)\n",
      "[0.5, 0.5, 0.7, 0.4]\n",
      "tf.Tensor([[9.9968684e-01 2.8994406e-05 2.8419198e-04 2.6023987e-08]], shape=(1, 4), dtype=float32)\n"
     ]
    },
    {
     "name": "stderr",
     "output_type": "stream",
     "text": [
      "\r",
      " 36%|█████████████████████████▋                                             | 36201/100000 [7:08:55<7:11:17,  2.47it/s]"
     ]
    },
    {
     "name": "stdout",
     "output_type": "stream",
     "text": [
      "[0.6, 0.5, 0.7, 0.4]\n",
      "tf.Tensor([[9.9974388e-01 2.4686771e-05 2.3147867e-04 2.0746267e-08]], shape=(1, 4), dtype=float32)\n",
      "[0.7, 0.5, 0.7, 0.4]\n",
      "tf.Tensor([[9.9978906e-01 2.2322098e-05 1.8859946e-04 1.6990477e-08]], shape=(1, 4), dtype=float32)\n"
     ]
    },
    {
     "name": "stderr",
     "output_type": "stream",
     "text": [
      " 36%|█████████████████████████▊                                             | 36301/100000 [7:09:31<6:33:23,  2.70it/s]"
     ]
    },
    {
     "name": "stdout",
     "output_type": "stream",
     "text": [
      "6.470740432005195\n",
      "100\n"
     ]
    },
    {
     "name": "stderr",
     "output_type": "stream",
     "text": [
      " 36%|█████████████████████████▊                                             | 36400/100000 [7:10:07<6:00:20,  2.94it/s]"
     ]
    },
    {
     "name": "stdout",
     "output_type": "stream",
     "text": [
      "6.327438782765833\n",
      "100\n",
      "[0.9, 0.4, 0.5, 0.7]\n",
      "tf.Tensor([[2.6087710e-06 9.6115182e-06 9.7241387e-04 9.9901533e-01]], shape=(1, 4), dtype=float32)\n",
      "[0.5, 0.4, 0.5, 0.7]\n",
      "tf.Tensor([[4.6474784e-06 1.8976589e-05 3.2968414e-03 9.9667954e-01]], shape=(1, 4), dtype=float32)\n",
      "[0.5, 0.8, 0.5, 0.7]\n",
      "tf.Tensor([[1.8237036e-02 1.4906349e-03 9.8001808e-01 2.5417213e-04]], shape=(1, 4), dtype=float32)\n",
      "[0.5, 0.5, 0.5, 0.7]\n",
      "tf.Tensor([[9.9968839e-01 2.8153434e-05 2.8351997e-04 2.6422152e-08]], shape=(1, 4), dtype=float32)\n",
      "[0.5, 0.6, 0.5, 0.7]\n"
     ]
    },
    {
     "name": "stderr",
     "output_type": "stream",
     "text": [
      "\r",
      " 36%|█████████████████████████▊                                             | 36401/100000 [7:10:08<7:42:54,  2.29it/s]"
     ]
    },
    {
     "name": "stdout",
     "output_type": "stream",
     "text": [
      "tf.Tensor([[9.9965191e-01 3.0261479e-05 3.1780382e-04 2.9009417e-08]], shape=(1, 4), dtype=float32)\n"
     ]
    },
    {
     "name": "stderr",
     "output_type": "stream",
     "text": [
      " 37%|█████████████████████████▉                                             | 36501/100000 [7:10:45<6:59:13,  2.52it/s]"
     ]
    },
    {
     "name": "stdout",
     "output_type": "stream",
     "text": [
      "6.233825163533339\n",
      "100\n"
     ]
    },
    {
     "name": "stderr",
     "output_type": "stream",
     "text": [
      " 37%|█████████████████████████▉                                             | 36600/100000 [7:11:20<7:06:44,  2.48it/s]"
     ]
    },
    {
     "name": "stdout",
     "output_type": "stream",
     "text": [
      "6.164091187137107\n",
      "100\n",
      "[0.7, 0.5, 0.5, 0.7]\n",
      "tf.Tensor([[2.7251108e-06 9.9473200e-06 9.8433217e-04 9.9900311e-01]], shape=(1, 4), dtype=float32)\n",
      "[0.3, 0.5, 0.5, 0.7]\n",
      "tf.Tensor([[4.7270091e-06 1.9256671e-05 3.4968401e-03 9.9647921e-01]], shape=(1, 4), dtype=float32)\n",
      "[0.7, 0.5, 0.5, 0.7]\n",
      "tf.Tensor([[2.0999895e-02 1.4896410e-03 9.7728330e-01 2.2715278e-04]], shape=(1, 4), dtype=float32)\n",
      "[0.4, 0.5, 0.5, 0.7]\n",
      "tf.Tensor([[9.9967813e-01 2.8364428e-05 2.9354441e-04 2.7200976e-08]], shape=(1, 4), dtype=float32)\n",
      "[0.4, 0.6, 0.5, 0.7]\n",
      "tf.Tensor([[9.9969661e-01 2.7468224e-05 2.7596054e-04 2.5218652e-08]], shape=(1, 4), dtype=float32)\n",
      "[0.5, 0.6, 0.5, 0.7]\n"
     ]
    },
    {
     "name": "stderr",
     "output_type": "stream",
     "text": [
      "\r",
      " 37%|█████████████████████████▉                                             | 36601/100000 [7:11:21<8:34:19,  2.05it/s]"
     ]
    },
    {
     "name": "stdout",
     "output_type": "stream",
     "text": [
      "tf.Tensor([[9.9970043e-01 2.6872231e-05 2.7277152e-04 2.5619844e-08]], shape=(1, 4), dtype=float32)\n"
     ]
    },
    {
     "name": "stderr",
     "output_type": "stream",
     "text": [
      " 37%|██████████████████████████                                             | 36701/100000 [7:11:58<6:12:36,  2.83it/s]"
     ]
    },
    {
     "name": "stdout",
     "output_type": "stream",
     "text": [
      "6.249680810730757\n",
      "100\n"
     ]
    },
    {
     "name": "stderr",
     "output_type": "stream",
     "text": [
      " 37%|██████████████████████████▏                                            | 36801/100000 [7:12:35<8:14:39,  2.13it/s]"
     ]
    },
    {
     "name": "stdout",
     "output_type": "stream",
     "text": [
      "6.202612959724641\n",
      "100\n",
      "[0.8, 0.5, 0.5, 0.7]\n",
      "tf.Tensor([[3.4989926e-06 1.1794930e-05 1.4860738e-03 9.9849868e-01]], shape=(1, 4), dtype=float32)\n",
      "[0.4, 0.5, 0.5, 0.7]\n",
      "tf.Tensor([[5.1733382e-06 2.0368219e-05 4.0887734e-03 9.9588567e-01]], shape=(1, 4), dtype=float32)\n",
      "[0.4, 0.9, 0.5, 0.7]\n",
      "tf.Tensor([[5.6873164e-03 8.9008594e-04 9.9305314e-01 3.6943838e-04]], shape=(1, 4), dtype=float32)\n",
      "[0.4, 0.6, 0.5, 0.7]\n",
      "tf.Tensor([[9.9981588e-01 1.9986303e-05 1.6410109e-04 1.5812148e-08]], shape=(1, 4), dtype=float32)\n",
      "[0.5, 0.6, 0.5, 0.7]\n",
      "tf.Tensor([[9.9978286e-01 2.2237435e-05 1.9490039e-04 1.8693436e-08]], shape=(1, 4), dtype=float32)\n"
     ]
    },
    {
     "name": "stderr",
     "output_type": "stream",
     "text": [
      " 37%|██████████████████████████▏                                            | 36901/100000 [7:13:13<7:09:43,  2.45it/s]"
     ]
    },
    {
     "name": "stdout",
     "output_type": "stream",
     "text": [
      "6.2657323522869985\n",
      "100\n"
     ]
    },
    {
     "name": "stderr",
     "output_type": "stream",
     "text": [
      " 37%|██████████████████████████▎                                            | 37001/100000 [7:13:50<7:19:00,  2.39it/s]"
     ]
    },
    {
     "name": "stdout",
     "output_type": "stream",
     "text": [
      "6.391226986138642\n",
      "100\n",
      "[0.7, 0.4, 0.6, 0.2]\n",
      "tf.Tensor([[2.7615031e-06 1.0680779e-05 8.5906946e-04 9.9912745e-01]], shape=(1, 4), dtype=float32)\n",
      "[0.7, 0.0, 0.6, 0.2]\n",
      "tf.Tensor([[2.7674912e-06 1.1529840e-05 1.2619291e-03 9.9872380e-01]], shape=(1, 4), dtype=float32)\n",
      "[0.7, 0.4, 0.6, 0.2]\n",
      "tf.Tensor([[1.2033199e-03 5.2546675e-04 9.9568355e-01 2.5877133e-03]], shape=(1, 4), dtype=float32)\n",
      "[0.7, 0.1, 0.6, 0.2]\n",
      "tf.Tensor([[9.9981195e-01 2.1598662e-05 1.6646431e-04 1.8818799e-08]], shape=(1, 4), dtype=float32)\n",
      "[0.6, 0.1, 0.6, 0.2]\n",
      "tf.Tensor([[9.9972814e-01 2.6267870e-05 2.4557181e-04 3.2891485e-08]], shape=(1, 4), dtype=float32)\n"
     ]
    },
    {
     "name": "stderr",
     "output_type": "stream",
     "text": [
      " 37%|██████████████████████████▎                                            | 37101/100000 [7:14:26<7:40:56,  2.27it/s]"
     ]
    },
    {
     "name": "stdout",
     "output_type": "stream",
     "text": [
      "6.318661050689051\n",
      "100\n"
     ]
    },
    {
     "name": "stderr",
     "output_type": "stream",
     "text": [
      " 37%|██████████████████████████▍                                            | 37201/100000 [7:15:02<7:47:56,  2.24it/s]"
     ]
    },
    {
     "name": "stdout",
     "output_type": "stream",
     "text": [
      "6.317505849656666\n",
      "100\n",
      "[0.5, 0.1, 0.1, 0.1]\n",
      "tf.Tensor([[2.9705357e-06 1.1042944e-05 8.4933895e-04 9.9913663e-01]], shape=(1, 4), dtype=float32)\n"
     ]
    },
    {
     "name": "stderr",
     "output_type": "stream",
     "text": [
      " 37%|██████████████████████████▍                                            | 37301/100000 [7:15:40<7:02:59,  2.47it/s]"
     ]
    },
    {
     "name": "stdout",
     "output_type": "stream",
     "text": [
      "6.333179601094273\n",
      "100\n"
     ]
    },
    {
     "name": "stderr",
     "output_type": "stream",
     "text": [
      " 37%|██████████████████████████▌                                            | 37401/100000 [7:16:17<5:35:26,  3.11it/s]"
     ]
    },
    {
     "name": "stdout",
     "output_type": "stream",
     "text": [
      "6.699906330197637\n",
      "100\n",
      "[0.9, 0.5, 0.2, 0.9]\n",
      "tf.Tensor([[2.3395662e-06 9.9735889e-06 9.8707667e-04 9.9900073e-01]], shape=(1, 4), dtype=float32)\n",
      "[0.5, 0.5, 0.2, 0.9]\n",
      "tf.Tensor([[3.6576323e-06 1.8290655e-05 3.0789794e-03 9.9689901e-01]], shape=(1, 4), dtype=float32)\n",
      "[0.5, 0.9, 0.2, 0.9]\n",
      "tf.Tensor([[9.0623284e-03 1.0642597e-03 9.8958546e-01 2.8794855e-04]], shape=(1, 4), dtype=float32)\n"
     ]
    },
    {
     "name": "stderr",
     "output_type": "stream",
     "text": [
      " 38%|██████████████████████████▋                                            | 37501/100000 [7:16:53<8:34:46,  2.02it/s]"
     ]
    },
    {
     "name": "stdout",
     "output_type": "stream",
     "text": [
      "6.3165575087132755\n",
      "100\n"
     ]
    },
    {
     "name": "stderr",
     "output_type": "stream",
     "text": [
      " 38%|██████████████████████████▋                                            | 37600/100000 [7:17:30<6:59:14,  2.48it/s]"
     ]
    },
    {
     "name": "stdout",
     "output_type": "stream",
     "text": [
      "6.133125411074253\n",
      "100\n",
      "[0.3, 0.2, 0.2, 0.9]\n",
      "tf.Tensor([[4.1883409e-06 1.5941278e-05 1.2469324e-03 9.9873298e-01]], shape=(1, 4), dtype=float32)\n",
      "[0.3, 0.6, 0.2, 0.9]\n",
      "tf.Tensor([[3.6139459e-06 1.6017964e-05 1.7451453e-03 9.9823523e-01]], shape=(1, 4), dtype=float32)\n",
      "[0.3, 1.0, 0.2, 0.9]\n",
      "tf.Tensor([[1.1913495e-03 6.5198966e-04 9.9552333e-01 2.6332666e-03]], shape=(1, 4), dtype=float32)\n",
      "[0.3, 0.7, 0.2, 0.9]\n",
      "tf.Tensor([[9.9965632e-01 3.4723449e-05 3.0897002e-04 3.3146502e-08]], shape=(1, 4), dtype=float32)\n"
     ]
    },
    {
     "name": "stderr",
     "output_type": "stream",
     "text": [
      "\r",
      " 38%|██████████████████████████▋                                            | 37601/100000 [7:17:31<7:39:57,  2.26it/s]"
     ]
    },
    {
     "name": "stdout",
     "output_type": "stream",
     "text": [
      "[0.3, 0.8, 0.2, 0.9]\n",
      "tf.Tensor([[9.9976522e-01 2.7288770e-05 2.0743368e-04 1.8040085e-08]], shape=(1, 4), dtype=float32)\n",
      "[0.2, 0.8, 0.2, 0.9]\n",
      "tf.Tensor([[9.9968922e-01 3.1178555e-05 2.7954180e-04 2.5754582e-08]], shape=(1, 4), dtype=float32)\n"
     ]
    },
    {
     "name": "stderr",
     "output_type": "stream",
     "text": [
      " 38%|██████████████████████████▊                                            | 37701/100000 [7:18:08<6:53:50,  2.51it/s]"
     ]
    },
    {
     "name": "stdout",
     "output_type": "stream",
     "text": [
      "6.333107527503147\n",
      "100\n"
     ]
    },
    {
     "name": "stderr",
     "output_type": "stream",
     "text": [
      " 38%|██████████████████████████▊                                            | 37800/100000 [7:18:44<6:48:51,  2.54it/s]"
     ]
    },
    {
     "name": "stdout",
     "output_type": "stream",
     "text": [
      "6.268684056463311\n",
      "100\n",
      "[0.3, 0.6, 0.1, 0.1]\n",
      "tf.Tensor([[2.8939537e-06 1.1405481e-05 1.1086965e-03 9.9887699e-01]], shape=(1, 4), dtype=float32)\n",
      "[0.3, 0.2, 0.1, 0.1]\n",
      "tf.Tensor([[2.3626772e-06 1.1227512e-05 1.6407364e-03 9.9834573e-01]], shape=(1, 4), dtype=float32)\n",
      "[0.0, 0.2, 0.1, 0.1]\n",
      "tf.Tensor([[7.679601e-04 4.061668e-04 9.948835e-01 3.942388e-03]], shape=(1, 4), dtype=float32)\n",
      "[0.3, 0.2, 0.1, 0.1]\n",
      "tf.Tensor([[9.9959546e-01 2.8772150e-05 3.7576345e-04 3.2597409e-08]], shape=(1, 4), dtype=float32)\n",
      "[0.2, 0.2, 0.1, 0.1]\n",
      "tf.Tensor([[9.994904e-01 3.449307e-05 4.751660e-04 4.862801e-08]], shape=(1, 4), dtype=float32)\n",
      "[0.2, 0.1, 0.1, 0.1]\n"
     ]
    },
    {
     "name": "stderr",
     "output_type": "stream",
     "text": [
      "\r",
      " 38%|██████████████████████████▊                                            | 37801/100000 [7:18:45<7:54:57,  2.18it/s]"
     ]
    },
    {
     "name": "stdout",
     "output_type": "stream",
     "text": [
      "tf.Tensor([[9.9950361e-01 3.4679822e-05 4.6170843e-04 4.3969301e-08]], shape=(1, 4), dtype=float32)\n"
     ]
    },
    {
     "name": "stderr",
     "output_type": "stream",
     "text": [
      " 38%|██████████████████████████▉                                            | 37901/100000 [7:19:21<6:47:00,  2.54it/s]"
     ]
    },
    {
     "name": "stdout",
     "output_type": "stream",
     "text": [
      "6.286408442851578\n",
      "100\n"
     ]
    },
    {
     "name": "stderr",
     "output_type": "stream",
     "text": [
      " 38%|██████████████████████████▉                                            | 38000/100000 [7:19:58<7:01:51,  2.45it/s]"
     ]
    },
    {
     "name": "stdout",
     "output_type": "stream",
     "text": [
      "6.221507459730997\n",
      "100\n",
      "[0.3, 0.3, 0.5, 0.7]\n",
      "tf.Tensor([[3.5233782e-06 1.2680129e-05 1.2532049e-03 9.9873060e-01]], shape=(1, 4), dtype=float32)\n",
      "[0.3, 0.7, 0.5, 0.7]\n",
      "tf.Tensor([[2.7509229e-06 1.2373920e-05 1.8680907e-03 9.9811685e-01]], shape=(1, 4), dtype=float32)\n",
      "[0.7, 0.7, 0.5, 0.7]\n",
      "tf.Tensor([[1.1288516e-03 3.3028171e-04 9.9771035e-01 8.3056337e-04]], shape=(1, 4), dtype=float32)\n",
      "[0.4, 0.7, 0.5, 0.7]\n",
      "tf.Tensor([[9.9967468e-01 2.0984435e-05 3.0436509e-04 2.2395030e-08]], shape=(1, 4), dtype=float32)\n"
     ]
    },
    {
     "name": "stderr",
     "output_type": "stream",
     "text": [
      " 38%|███████████████████████████                                            | 38101/100000 [7:20:35<6:11:03,  2.78it/s]"
     ]
    },
    {
     "name": "stdout",
     "output_type": "stream",
     "text": [
      "6.411843927135282\n",
      "100\n"
     ]
    },
    {
     "name": "stderr",
     "output_type": "stream",
     "text": [
      " 38%|███████████████████████████                                            | 38200/100000 [7:21:12<5:45:59,  2.98it/s]"
     ]
    },
    {
     "name": "stdout",
     "output_type": "stream",
     "text": [
      "6.251068561738871\n",
      "100\n",
      "[0.0, 0.9, 0.7, 0.1]\n",
      "tf.Tensor([[3.0219644e-06 1.1801605e-05 1.2367087e-03 9.9874842e-01]], shape=(1, 4), dtype=float32)\n",
      "[0.0, 0.5, 0.7, 0.1]\n",
      "tf.Tensor([[3.18655179e-06 1.38974765e-05 2.10228213e-03 9.97880578e-01]], shape=(1, 4), dtype=float32)\n",
      "[0.4, 0.5, 0.7, 0.1]\n",
      "tf.Tensor([[6.5780542e-04 3.1158925e-04 9.9722397e-01 1.8066108e-03]], shape=(1, 4), dtype=float32)\n",
      "[0.4, 0.2, 0.7, 0.1]\n",
      "tf.Tensor([[9.9943978e-01 2.9463810e-05 5.3077569e-04 3.2301894e-08]], shape=(1, 4), dtype=float32)\n",
      "[0.5, 0.2, 0.7, 0.1]\n"
     ]
    },
    {
     "name": "stderr",
     "output_type": "stream",
     "text": [
      "\r",
      " 38%|███████████████████████████                                            | 38201/100000 [7:21:13<7:38:16,  2.25it/s]"
     ]
    },
    {
     "name": "stdout",
     "output_type": "stream",
     "text": [
      "tf.Tensor([[9.9956828e-01 2.5144662e-05 4.0654952e-04 2.8894897e-08]], shape=(1, 4), dtype=float32)\n",
      "[0.6, 0.2, 0.7, 0.1]\n",
      "tf.Tensor([[9.9963129e-01 2.1872580e-05 3.4676859e-04 2.4155169e-08]], shape=(1, 4), dtype=float32)\n",
      "[0.7, 0.2, 0.7, 0.1]\n",
      "tf.Tensor([[9.9972457e-01 1.9317342e-05 2.5612235e-04 1.9479424e-08]], shape=(1, 4), dtype=float32)\n"
     ]
    },
    {
     "name": "stderr",
     "output_type": "stream",
     "text": [
      " 38%|███████████████████████████▏                                           | 38301/100000 [7:21:49<6:27:45,  2.65it/s]"
     ]
    },
    {
     "name": "stdout",
     "output_type": "stream",
     "text": [
      "6.470147528469357\n",
      "100\n"
     ]
    },
    {
     "name": "stderr",
     "output_type": "stream",
     "text": [
      " 38%|███████████████████████████▎                                           | 38400/100000 [7:22:25<6:08:20,  2.79it/s]"
     ]
    },
    {
     "name": "stdout",
     "output_type": "stream",
     "text": [
      "6.363839643395339\n",
      "100\n",
      "[0.4, 0.7, 0.6, 0.2]\n",
      "tf.Tensor([[1.9090230e-06 8.5751535e-06 5.8006431e-04 9.9940944e-01]], shape=(1, 4), dtype=float32)\n",
      "[0.4, 0.3, 0.6, 0.2]\n",
      "tf.Tensor([[1.7920091e-06 8.9958348e-06 8.6348364e-04 9.9912566e-01]], shape=(1, 4), dtype=float32)\n",
      "[0.8, 0.3, 0.6, 0.2]\n",
      "tf.Tensor([[1.0691696e-03 3.7888906e-04 9.9762934e-01 9.2261785e-04]], shape=(1, 4), dtype=float32)\n",
      "[0.5, 0.3, 0.6, 0.2]\n",
      "tf.Tensor([[9.9964237e-01 2.1030093e-05 3.3658982e-04 2.1860819e-08]], shape=(1, 4), dtype=float32)\n",
      "[0.6, 0.3, 0.6, 0.2]\n"
     ]
    },
    {
     "name": "stderr",
     "output_type": "stream",
     "text": [
      " 38%|███████████████████████████▎                                           | 38402/100000 [7:22:25<5:48:39,  2.94it/s]"
     ]
    },
    {
     "name": "stdout",
     "output_type": "stream",
     "text": [
      "tf.Tensor([[9.9972874e-01 1.8697501e-05 2.5248993e-04 1.8414809e-08]], shape=(1, 4), dtype=float32)\n"
     ]
    },
    {
     "name": "stderr",
     "output_type": "stream",
     "text": [
      " 39%|███████████████████████████▎                                           | 38501/100000 [7:23:01<8:18:40,  2.06it/s]"
     ]
    },
    {
     "name": "stdout",
     "output_type": "stream",
     "text": [
      "6.273866652445873\n",
      "100\n"
     ]
    },
    {
     "name": "stderr",
     "output_type": "stream",
     "text": [
      " 39%|███████████████████████████▍                                           | 38600/100000 [7:23:38<5:15:15,  3.25it/s]"
     ]
    },
    {
     "name": "stdout",
     "output_type": "stream",
     "text": [
      "6.573743755082865\n",
      "100\n",
      "[0.8, 0.5, 0.5, 0.7]\n",
      "tf.Tensor([[1.6130288e-06 7.6543192e-06 5.3257652e-04 9.9945813e-01]], shape=(1, 4), dtype=float32)\n",
      "[0.4, 0.5, 0.5, 0.7]\n",
      "tf.Tensor([[1.8869296e-06 1.0504174e-05 1.0574437e-03 9.9893016e-01]], shape=(1, 4), dtype=float32)\n",
      "[0.4, 0.9, 0.5, 0.7]\n",
      "tf.Tensor([[2.0942767e-03 7.1373739e-04 9.9666446e-01 5.2753015e-04]], shape=(1, 4), dtype=float32)\n",
      "[0.4, 0.6, 0.5, 0.7]\n",
      "tf.Tensor([[9.9970454e-01 2.4536104e-05 2.7082860e-04 2.1186235e-08]], shape=(1, 4), dtype=float32)\n",
      "[0.4, 0.7, 0.5, 0.7]\n"
     ]
    },
    {
     "name": "stderr",
     "output_type": "stream",
     "text": [
      "\r",
      " 39%|███████████████████████████▍                                           | 38601/100000 [7:23:38<6:45:40,  2.52it/s]"
     ]
    },
    {
     "name": "stdout",
     "output_type": "stream",
     "text": [
      "tf.Tensor([[9.9969506e-01 2.5133631e-05 2.7981043e-04 2.0751902e-08]], shape=(1, 4), dtype=float32)\n"
     ]
    },
    {
     "name": "stderr",
     "output_type": "stream",
     "text": [
      " 39%|███████████████████████████▍                                           | 38701/100000 [7:24:15<7:10:38,  2.37it/s]"
     ]
    },
    {
     "name": "stdout",
     "output_type": "stream",
     "text": [
      "6.411968820140631\n",
      "100\n"
     ]
    },
    {
     "name": "stderr",
     "output_type": "stream",
     "text": [
      " 39%|███████████████████████████▌                                           | 38800/100000 [7:24:51<6:24:09,  2.66it/s]"
     ]
    },
    {
     "name": "stdout",
     "output_type": "stream",
     "text": [
      "6.331432681410441\n",
      "100\n",
      "[0.7, 0.4, 0.2, 0.9]\n",
      "tf.Tensor([[1.7313578e-06 8.1391354e-06 5.7468051e-04 9.9941540e-01]], shape=(1, 4), dtype=float32)\n",
      "[0.3, 0.4, 0.2, 0.9]\n",
      "tf.Tensor([[2.1023702e-06 1.1157498e-05 1.1107511e-03 9.9887604e-01]], shape=(1, 4), dtype=float32)\n",
      "[0.3, 0.8, 0.2, 0.9]\n",
      "tf.Tensor([[2.2758031e-03 6.8935286e-04 9.9651968e-01 5.1525031e-04]], shape=(1, 4), dtype=float32)\n",
      "[0.0, 0.8, 0.2, 0.9]\n",
      "tf.Tensor([[9.9967897e-01 2.6768575e-05 2.9417605e-04 2.4350516e-08]], shape=(1, 4), dtype=float32)\n",
      "[0.1, 0.8, 0.2, 0.9]\n",
      "tf.Tensor([[9.9965143e-01 2.8471208e-05 3.2002846e-04 2.7476242e-08]], shape=(1, 4), dtype=float32)\n"
     ]
    },
    {
     "name": "stderr",
     "output_type": "stream",
     "text": [
      "\r",
      " 39%|███████████████████████████▌                                           | 38801/100000 [7:24:52<7:33:17,  2.25it/s]"
     ]
    },
    {
     "name": "stdout",
     "output_type": "stream",
     "text": [
      "[0.1, 0.9, 0.2, 0.9]\n",
      "tf.Tensor([[9.9969292e-01 2.6447569e-05 2.8067199e-04 2.2911317e-08]], shape=(1, 4), dtype=float32)\n"
     ]
    },
    {
     "name": "stderr",
     "output_type": "stream",
     "text": [
      " 39%|███████████████████████████▌                                           | 38901/100000 [7:25:28<6:00:41,  2.82it/s]"
     ]
    },
    {
     "name": "stdout",
     "output_type": "stream",
     "text": [
      "6.797739153718575\n",
      "100\n"
     ]
    },
    {
     "name": "stderr",
     "output_type": "stream",
     "text": [
      " 39%|███████████████████████████▋                                           | 39000/100000 [7:26:04<6:06:28,  2.77it/s]"
     ]
    },
    {
     "name": "stdout",
     "output_type": "stream",
     "text": [
      "6.336922336243753\n",
      "100\n",
      "[0.8, 0.5, 0.5, 0.7]\n",
      "tf.Tensor([[1.6857779e-06 7.8646253e-06 5.8337493e-04 9.9940705e-01]], shape=(1, 4), dtype=float32)\n",
      "[0.4, 0.5, 0.5, 0.7]\n",
      "tf.Tensor([[2.20356924e-06 1.25098495e-05 1.41990604e-03 9.98565376e-01]], shape=(1, 4), dtype=float32)\n",
      "[0.4, 0.9, 0.5, 0.7]\n",
      "tf.Tensor([[6.8774661e-03 1.0201134e-03 9.9183732e-01 2.6509041e-04]], shape=(1, 4), dtype=float32)\n",
      "[0.4, 0.6, 0.5, 0.7]\n"
     ]
    },
    {
     "name": "stderr",
     "output_type": "stream",
     "text": [
      "\r",
      " 39%|███████████████████████████▋                                           | 39001/100000 [7:26:04<6:56:12,  2.44it/s]"
     ]
    },
    {
     "name": "stdout",
     "output_type": "stream",
     "text": [
      "tf.Tensor([[9.9976176e-01 2.0659028e-05 2.1758825e-04 1.6519538e-08]], shape=(1, 4), dtype=float32)\n",
      "[0.4, 0.7, 0.5, 0.7]\n",
      "tf.Tensor([[9.9975997e-01 2.0792764e-05 2.1932203e-04 1.5740854e-08]], shape=(1, 4), dtype=float32)\n"
     ]
    },
    {
     "name": "stderr",
     "output_type": "stream",
     "text": [
      " 39%|███████████████████████████▊                                           | 39101/100000 [7:26:40<6:48:54,  2.48it/s]"
     ]
    },
    {
     "name": "stdout",
     "output_type": "stream",
     "text": [
      "6.407510871739885\n",
      "100\n"
     ]
    },
    {
     "name": "stderr",
     "output_type": "stream",
     "text": [
      " 39%|███████████████████████████▊                                           | 39200/100000 [7:27:18<6:47:33,  2.49it/s]"
     ]
    },
    {
     "name": "stdout",
     "output_type": "stream",
     "text": [
      "6.112794620727368\n",
      "100\n",
      "[0.8, 0.6, 0.2, 0.9]\n",
      "tf.Tensor([[1.5301523e-06 7.5131647e-06 5.7430041e-04 9.9941671e-01]], shape=(1, 4), dtype=float32)\n",
      "[0.4, 0.6, 0.2, 0.9]\n",
      "tf.Tensor([[1.9916890e-06 1.2250907e-05 1.4720738e-03 9.9851364e-01]], shape=(1, 4), dtype=float32)\n",
      "[0.4, 1.0, 0.2, 0.9]\n",
      "tf.Tensor([[1.0027218e-02 1.0726799e-03 9.8869729e-01 2.0289262e-04]], shape=(1, 4), dtype=float32)\n",
      "[0.1, 1.0, 0.2, 0.9]\n",
      "tf.Tensor([[9.9976772e-01 2.0149506e-05 2.1213740e-04 1.4967179e-08]], shape=(1, 4), dtype=float32)\n",
      "[0.2, 1.0, 0.2, 0.9]\n"
     ]
    },
    {
     "name": "stderr",
     "output_type": "stream",
     "text": [
      "\r",
      " 39%|███████████████████████████▊                                           | 39201/100000 [7:27:18<7:47:28,  2.17it/s]"
     ]
    },
    {
     "name": "stdout",
     "output_type": "stream",
     "text": [
      "tf.Tensor([[9.9976009e-01 2.1691318e-05 2.1817989e-04 1.5735630e-08]], shape=(1, 4), dtype=float32)\n"
     ]
    },
    {
     "name": "stderr",
     "output_type": "stream",
     "text": [
      " 39%|███████████████████████████▉                                           | 39301/100000 [7:27:56<7:31:48,  2.24it/s]"
     ]
    },
    {
     "name": "stdout",
     "output_type": "stream",
     "text": [
      "6.295417884027067\n",
      "100\n"
     ]
    },
    {
     "name": "stderr",
     "output_type": "stream",
     "text": [
      " 39%|███████████████████████████▉                                           | 39400/100000 [7:28:31<5:41:24,  2.96it/s]"
     ]
    },
    {
     "name": "stdout",
     "output_type": "stream",
     "text": [
      "6.4747637652384755\n",
      "100\n",
      "[0.6, 0.5, 0.5, 0.7]\n",
      "tf.Tensor([[1.9924055e-06 9.2829914e-06 6.6712790e-04 9.9932158e-01]], shape=(1, 4), dtype=float32)\n",
      "[0.6, 0.9, 0.5, 0.7]\n",
      "tf.Tensor([[1.7004738e-06 1.1111824e-05 1.2647164e-03 9.9872237e-01]], shape=(1, 4), dtype=float32)\n",
      "[0.6, 0.5, 0.5, 0.7]\n",
      "tf.Tensor([[6.6460450e-03 7.8751968e-04 9.9236602e-01 2.0034378e-04]], shape=(1, 4), dtype=float32)\n",
      "[0.6, 0.8, 0.5, 0.7]\n",
      "tf.Tensor([[9.9974054e-01 2.0055806e-05 2.3937190e-04 1.2911273e-08]], shape=(1, 4), dtype=float32)\n",
      "[0.6, 0.7, 0.5, 0.7]\n"
     ]
    },
    {
     "name": "stderr",
     "output_type": "stream",
     "text": [
      "\r",
      " 39%|███████████████████████████▉                                           | 39401/100000 [7:28:31<6:42:00,  2.51it/s]"
     ]
    },
    {
     "name": "stdout",
     "output_type": "stream",
     "text": [
      "tf.Tensor([[9.9977046e-01 1.8812916e-05 2.1071306e-04 9.4252428e-09]], shape=(1, 4), dtype=float32)\n"
     ]
    },
    {
     "name": "stderr",
     "output_type": "stream",
     "text": [
      " 40%|████████████████████████████                                           | 39501/100000 [7:29:09<6:26:25,  2.61it/s]"
     ]
    },
    {
     "name": "stdout",
     "output_type": "stream",
     "text": [
      "6.257287550128658\n",
      "100\n"
     ]
    },
    {
     "name": "stderr",
     "output_type": "stream",
     "text": [
      " 40%|████████████████████████████                                           | 39601/100000 [7:29:45<6:45:11,  2.48it/s]"
     ]
    },
    {
     "name": "stdout",
     "output_type": "stream",
     "text": [
      "6.357659228356673\n",
      "100\n",
      "[0.2, 0.7, 0.5, 0.7]\n",
      "tf.Tensor([[1.6129710e-06 7.9018537e-06 4.3662879e-04 9.9955386e-01]], shape=(1, 4), dtype=float32)\n",
      "[0.6, 0.7, 0.5, 0.7]\n",
      "tf.Tensor([[1.0097885e-06 6.6129487e-06 6.4415939e-04 9.9934822e-01]], shape=(1, 4), dtype=float32)\n",
      "[0.2, 0.7, 0.5, 0.7]\n",
      "tf.Tensor([[2.3037782e-03 6.4480642e-04 9.9659759e-01 4.5384743e-04]], shape=(1, 4), dtype=float32)\n"
     ]
    },
    {
     "name": "stderr",
     "output_type": "stream",
     "text": [
      " 40%|████████████████████████████▏                                          | 39701/100000 [7:30:22<6:45:10,  2.48it/s]"
     ]
    },
    {
     "name": "stdout",
     "output_type": "stream",
     "text": [
      "6.3443620273665005\n",
      "100\n"
     ]
    },
    {
     "name": "stderr",
     "output_type": "stream",
     "text": [
      " 40%|████████████████████████████▎                                          | 39800/100000 [7:30:58<6:38:47,  2.52it/s]"
     ]
    },
    {
     "name": "stdout",
     "output_type": "stream",
     "text": [
      "6.1271930834888\n",
      "100\n",
      "[0.1, 0.7, 0.7, 0.1]\n",
      "tf.Tensor([[2.3259158e-06 1.0927731e-05 6.8578735e-04 9.9930096e-01]], shape=(1, 4), dtype=float32)\n",
      "[0.5, 0.7, 0.7, 0.1]\n",
      "tf.Tensor([[1.6421322e-06 9.8595056e-06 9.5096271e-04 9.9903750e-01]], shape=(1, 4), dtype=float32)\n",
      "[0.5, 0.3, 0.7, 0.1]\n",
      "tf.Tensor([[1.9427034e-03 6.4861751e-04 9.9684590e-01 5.6279241e-04]], shape=(1, 4), dtype=float32)\n",
      "[0.8, 0.3, 0.7, 0.1]\n",
      "tf.Tensor([[9.9972767e-01 2.2284525e-05 2.4996040e-04 1.5094496e-08]], shape=(1, 4), dtype=float32)\n",
      "[0.8, 0.2, 0.7, 0.1]\n"
     ]
    },
    {
     "name": "stderr",
     "output_type": "stream",
     "text": [
      "\r",
      " 40%|████████████████████████████▎                                          | 39801/100000 [7:30:59<7:41:14,  2.18it/s]"
     ]
    },
    {
     "name": "stdout",
     "output_type": "stream",
     "text": [
      "tf.Tensor([[9.9973661e-01 2.1132360e-05 2.4223002e-04 1.3980397e-08]], shape=(1, 4), dtype=float32)\n",
      "[0.8, 0.1, 0.7, 0.1]\n",
      "tf.Tensor([[9.9977714e-01 1.9630981e-05 2.0323395e-04 1.1845411e-08]], shape=(1, 4), dtype=float32)\n"
     ]
    },
    {
     "name": "stderr",
     "output_type": "stream",
     "text": [
      " 40%|████████████████████████████▎                                          | 39901/100000 [7:31:36<6:55:15,  2.41it/s]"
     ]
    },
    {
     "name": "stdout",
     "output_type": "stream",
     "text": [
      "6.2427593308869955\n",
      "100\n"
     ]
    },
    {
     "name": "stderr",
     "output_type": "stream",
     "text": [
      " 40%|████████████████████████████▍                                          | 40000/100000 [7:32:12<6:17:54,  2.65it/s]"
     ]
    },
    {
     "name": "stdout",
     "output_type": "stream",
     "text": [
      "6.249031626701147\n",
      "100\n",
      "[0.9, 0.3, 0.6, 0.2]\n",
      "tf.Tensor([[1.4374535e-06 7.6022870e-06 5.7321932e-04 9.9941778e-01]], shape=(1, 4), dtype=float32)\n",
      "[0.5, 0.3, 0.6, 0.2]\n",
      "tf.Tensor([[1.6664185e-06 1.0636510e-05 1.2281149e-03 9.9875963e-01]], shape=(1, 4), dtype=float32)\n",
      "[0.9, 0.3, 0.6, 0.2]\n",
      "tf.Tensor([[6.8230433e-03 8.2018168e-04 9.9217355e-01 1.8324496e-04]], shape=(1, 4), dtype=float32)\n"
     ]
    },
    {
     "name": "stderr",
     "output_type": "stream",
     "text": [
      "\r",
      " 40%|████████████████████████████▍                                          | 40001/100000 [7:32:13<8:04:18,  2.06it/s]"
     ]
    },
    {
     "name": "stdout",
     "output_type": "stream",
     "text": [
      "[0.6, 0.3, 0.6, 0.2]\n",
      "tf.Tensor([[9.9974924e-01 1.9573119e-05 2.3116004e-04 1.3729923e-08]], shape=(1, 4), dtype=float32)\n"
     ]
    },
    {
     "name": "stderr",
     "output_type": "stream",
     "text": [
      " 40%|████████████████████████████▍                                          | 40101/100000 [7:32:49<7:18:09,  2.28it/s]"
     ]
    },
    {
     "name": "stdout",
     "output_type": "stream",
     "text": [
      "6.353272936852359\n",
      "100\n"
     ]
    },
    {
     "name": "stderr",
     "output_type": "stream",
     "text": [
      " 40%|████████████████████████████▌                                          | 40201/100000 [7:33:25<7:28:34,  2.22it/s]"
     ]
    },
    {
     "name": "stdout",
     "output_type": "stream",
     "text": [
      "6.425605809372136\n",
      "100\n",
      "[0.2, 0.6, 0.6, 0.2]\n",
      "tf.Tensor([[2.1630638e-06 1.0537877e-05 6.9989561e-04 9.9928743e-01]], shape=(1, 4), dtype=float32)\n",
      "[0.6, 0.6, 0.6, 0.2]\n",
      "tf.Tensor([[1.6304323e-06 1.0465186e-05 1.1329642e-03 9.9885488e-01]], shape=(1, 4), dtype=float32)\n"
     ]
    },
    {
     "name": "stderr",
     "output_type": "stream",
     "text": [
      " 40%|████████████████████████████▌                                          | 40301/100000 [7:34:02<7:13:13,  2.30it/s]"
     ]
    },
    {
     "name": "stdout",
     "output_type": "stream",
     "text": [
      "6.367837842584166\n",
      "100\n"
     ]
    },
    {
     "name": "stderr",
     "output_type": "stream",
     "text": [
      " 40%|████████████████████████████▋                                          | 40401/100000 [7:34:39<6:44:46,  2.45it/s]"
     ]
    },
    {
     "name": "stdout",
     "output_type": "stream",
     "text": [
      "6.468378250744031\n",
      "100\n",
      "[0.7, 0.5, 0.7, 0.4]\n",
      "tf.Tensor([[1.6520622e-06 8.7052531e-06 6.0947781e-04 9.9938011e-01]], shape=(1, 4), dtype=float32)\n",
      "[0.7, 0.1, 0.7, 0.4]\n",
      "tf.Tensor([[1.9300837e-06 1.1642870e-05 1.2174401e-03 9.9876899e-01]], shape=(1, 4), dtype=float32)\n",
      "[0.7, 0.5, 0.7, 0.4]\n",
      "tf.Tensor([[7.8526149e-03 8.3458790e-04 9.9112755e-01 1.8523003e-04]], shape=(1, 4), dtype=float32)\n",
      "[0.7, 0.2, 0.7, 0.4]\n",
      "tf.Tensor([[9.9970680e-01 2.0472906e-05 2.7267990e-04 1.5994900e-08]], shape=(1, 4), dtype=float32)\n",
      "[0.7, 0.3, 0.7, 0.4]\n",
      "tf.Tensor([[9.9971324e-01 2.0108460e-05 2.6662677e-04 1.6580037e-08]], shape=(1, 4), dtype=float32)\n"
     ]
    },
    {
     "name": "stderr",
     "output_type": "stream",
     "text": [
      " 41%|████████████████████████████▊                                          | 40501/100000 [7:35:17<7:04:34,  2.34it/s]"
     ]
    },
    {
     "name": "stdout",
     "output_type": "stream",
     "text": [
      "6.369271504118652\n",
      "100\n"
     ]
    },
    {
     "name": "stderr",
     "output_type": "stream",
     "text": [
      " 41%|████████████████████████████▊                                          | 40600/100000 [7:35:53<5:08:30,  3.21it/s]"
     ]
    },
    {
     "name": "stdout",
     "output_type": "stream",
     "text": [
      "6.57508393836737\n",
      "100\n",
      "[0.8, 0.9, 0.7, 0.1]\n",
      "tf.Tensor([[1.3457148e-06 7.7957238e-06 5.8097282e-04 9.9940991e-01]], shape=(1, 4), dtype=float32)\n",
      "[0.8, 0.5, 0.7, 0.1]\n",
      "tf.Tensor([[1.5580054e-06 1.2086817e-05 1.6333209e-03 9.9835300e-01]], shape=(1, 4), dtype=float32)\n",
      "[0.8, 0.1, 0.7, 0.1]\n",
      "tf.Tensor([[1.4356661e-02 1.0478734e-03 9.8447949e-01 1.1593289e-04]], shape=(1, 4), dtype=float32)\n",
      "[0.5, 0.1, 0.7, 0.1]\n",
      "tf.Tensor([[9.9968207e-01 2.1343831e-05 2.9661038e-04 1.5301527e-08]], shape=(1, 4), dtype=float32)\n",
      "[0.6, 0.1, 0.7, 0.1]\n",
      "tf.Tensor([[9.9970287e-01 2.0849817e-05 2.7618109e-04 1.6714429e-08]], shape=(1, 4), dtype=float32)\n"
     ]
    },
    {
     "name": "stderr",
     "output_type": "stream",
     "text": [
      " 41%|████████████████████████████▉                                          | 40701/100000 [7:36:31<7:36:16,  2.17it/s]"
     ]
    },
    {
     "name": "stdout",
     "output_type": "stream",
     "text": [
      "6.322566574270251\n",
      "100\n"
     ]
    },
    {
     "name": "stderr",
     "output_type": "stream",
     "text": [
      " 41%|████████████████████████████▉                                          | 40801/100000 [7:37:07<6:13:28,  2.64it/s]"
     ]
    },
    {
     "name": "stdout",
     "output_type": "stream",
     "text": [
      "6.584387715655342\n",
      "100\n",
      "[0.9, 0.0, 0.7, 0.1]\n",
      "tf.Tensor([[1.3490726e-06 7.4129957e-06 5.6607946e-04 9.9942517e-01]], shape=(1, 4), dtype=float32)\n",
      "[0.5, 0.0, 0.7, 0.1]\n",
      "tf.Tensor([[1.6467800e-06 1.0187329e-05 1.1358930e-03 9.9885225e-01]], shape=(1, 4), dtype=float32)\n",
      "[0.9, 0.0, 0.7, 0.1]\n",
      "tf.Tensor([[4.9369656e-03 6.6698954e-04 9.9418938e-01 2.0670886e-04]], shape=(1, 4), dtype=float32)\n",
      "[0.6, 0.0, 0.7, 0.1]\n",
      "tf.Tensor([[9.9963880e-01 2.3685874e-05 3.3744436e-04 2.1452927e-08]], shape=(1, 4), dtype=float32)\n",
      "[0.6, 0.1, 0.7, 0.1]\n",
      "tf.Tensor([[9.9963701e-01 2.3877998e-05 3.3914056e-04 2.2340942e-08]], shape=(1, 4), dtype=float32)\n"
     ]
    },
    {
     "name": "stderr",
     "output_type": "stream",
     "text": [
      " 41%|█████████████████████████████                                          | 40901/100000 [7:37:45<7:21:46,  2.23it/s]"
     ]
    },
    {
     "name": "stdout",
     "output_type": "stream",
     "text": [
      "6.2267863314970295\n",
      "100\n"
     ]
    },
    {
     "name": "stderr",
     "output_type": "stream",
     "text": [
      " 41%|█████████████████████████████                                          | 41001/100000 [7:38:22<6:39:17,  2.46it/s]"
     ]
    },
    {
     "name": "stdout",
     "output_type": "stream",
     "text": [
      "6.236494741057101\n",
      "100\n",
      "[0.5, 0.7, 0.6, 0.2]\n",
      "tf.Tensor([[1.114763e-06 6.848200e-06 7.522169e-04 9.992398e-01]], shape=(1, 4), dtype=float32)\n",
      "[0.5, 0.3, 0.6, 0.2]\n",
      "tf.Tensor([[1.1002097e-06 8.0111404e-06 1.4460542e-03 9.9854481e-01]], shape=(1, 4), dtype=float32)\n",
      "[0.9, 0.3, 0.6, 0.2]\n",
      "tf.Tensor([[4.8185556e-04 1.8271686e-04 9.9920100e-01 1.3450130e-04]], shape=(1, 4), dtype=float32)\n",
      "[0.6, 0.3, 0.6, 0.2]\n",
      "tf.Tensor([[9.9887878e-01 3.2197320e-05 1.0890210e-03 2.0801627e-08]], shape=(1, 4), dtype=float32)\n"
     ]
    },
    {
     "name": "stderr",
     "output_type": "stream",
     "text": [
      " 41%|█████████████████████████████▏                                         | 41101/100000 [7:38:59<7:06:33,  2.30it/s]"
     ]
    },
    {
     "name": "stdout",
     "output_type": "stream",
     "text": [
      "6.227891166943258\n",
      "100\n"
     ]
    },
    {
     "name": "stderr",
     "output_type": "stream",
     "text": [
      " 41%|█████████████████████████████▎                                         | 41201/100000 [7:39:36<7:28:22,  2.19it/s]"
     ]
    },
    {
     "name": "stdout",
     "output_type": "stream",
     "text": [
      "6.208325207827616\n",
      "100\n",
      "[0.9, 0.5, 0.7, 0.1]\n",
      "tf.Tensor([[1.2587111e-06 7.3480110e-06 9.8911300e-04 9.9900228e-01]], shape=(1, 4), dtype=float32)\n",
      "[0.9, 0.1, 0.7, 0.1]\n",
      "tf.Tensor([[1.4580500e-06 1.1327470e-05 3.5711385e-03 9.9641597e-01]], shape=(1, 4), dtype=float32)\n",
      "[0.5, 0.1, 0.7, 0.1]\n",
      "tf.Tensor([[1.4289356e-03 2.4107956e-04 9.9825889e-01 7.1036011e-05]], shape=(1, 4), dtype=float32)\n",
      "[0.8, 0.1, 0.7, 0.1]\n",
      "tf.Tensor([[9.9928194e-01 2.5469888e-05 6.9256558e-04 1.3563441e-08]], shape=(1, 4), dtype=float32)\n"
     ]
    },
    {
     "name": "stderr",
     "output_type": "stream",
     "text": [
      " 41%|█████████████████████████████▎                                         | 41301/100000 [7:40:13<7:15:34,  2.25it/s]"
     ]
    },
    {
     "name": "stdout",
     "output_type": "stream",
     "text": [
      "6.306715156490063\n",
      "100\n"
     ]
    },
    {
     "name": "stderr",
     "output_type": "stream",
     "text": [
      " 41%|█████████████████████████████▍                                         | 41400/100000 [7:40:51<6:53:17,  2.36it/s]"
     ]
    },
    {
     "name": "stdout",
     "output_type": "stream",
     "text": [
      "6.078780152287797\n",
      "100\n",
      "[0.4, 0.9, 0.7, 0.4]\n",
      "tf.Tensor([[1.4222336e-06 8.2503502e-06 9.9339301e-04 9.9899691e-01]], shape=(1, 4), dtype=float32)\n",
      "[0.4, 0.5, 0.7, 0.4]\n",
      "tf.Tensor([[1.5379146e-06 1.0688426e-05 2.2919804e-03 9.9769574e-01]], shape=(1, 4), dtype=float32)\n",
      "[0.8, 0.5, 0.7, 0.4]\n",
      "tf.Tensor([[6.1651540e-04 2.1386881e-04 9.9904090e-01 1.2877138e-04]], shape=(1, 4), dtype=float32)\n",
      "[0.8, 0.2, 0.7, 0.4]\n",
      "tf.Tensor([[9.9927670e-01 2.5493326e-05 6.9780246e-04 1.5219660e-08]], shape=(1, 4), dtype=float32)\n"
     ]
    },
    {
     "name": "stderr",
     "output_type": "stream",
     "text": [
      "\r",
      " 41%|█████████████████████████████▍                                         | 41401/100000 [7:40:52<7:25:52,  2.19it/s]"
     ]
    },
    {
     "name": "stdout",
     "output_type": "stream",
     "text": [
      "[0.8, 0.3, 0.7, 0.4]\n",
      "tf.Tensor([[9.9938738e-01 2.2754082e-05 5.8988738e-04 1.5119724e-08]], shape=(1, 4), dtype=float32)\n",
      "[0.8, 0.4, 0.7, 0.4]\n",
      "tf.Tensor([[9.9957043e-01 1.8744597e-05 4.1082950e-04 9.2664552e-09]], shape=(1, 4), dtype=float32)\n"
     ]
    },
    {
     "name": "stderr",
     "output_type": "stream",
     "text": [
      " 42%|█████████████████████████████▍                                         | 41501/100000 [7:41:30<6:30:42,  2.50it/s]"
     ]
    },
    {
     "name": "stdout",
     "output_type": "stream",
     "text": [
      "6.319224157833189\n",
      "100\n"
     ]
    },
    {
     "name": "stderr",
     "output_type": "stream",
     "text": [
      " 42%|█████████████████████████████▌                                         | 41600/100000 [7:42:07<6:10:20,  2.63it/s]"
     ]
    },
    {
     "name": "stdout",
     "output_type": "stream",
     "text": [
      "6.226452927713767\n",
      "100\n",
      "[0.6, 0.4, 0.1, 0.1]\n",
      "tf.Tensor([[1.2510969e-06 7.1588415e-06 9.5248170e-04 9.9903905e-01]], shape=(1, 4), dtype=float32)\n",
      "[0.2, 0.4, 0.1, 0.1]\n",
      "tf.Tensor([[1.3436614e-06 9.4186935e-06 1.9093376e-03 9.9808002e-01]], shape=(1, 4), dtype=float32)\n",
      "[0.2, 0.0, 0.1, 0.1]\n",
      "tf.Tensor([[5.3074368e-04 2.1634255e-04 9.9901319e-01 2.3974222e-04]], shape=(1, 4), dtype=float32)\n",
      "[0.2, 0.3, 0.1, 0.1]\n",
      "tf.Tensor([[9.9918789e-01 3.1668187e-05 7.8045466e-04 2.3279359e-08]], shape=(1, 4), dtype=float32)\n",
      "[0.2, 0.2, 0.1, 0.1]\n",
      "tf.Tensor([[9.9884218e-01 4.1051895e-05 1.1167149e-03 3.2493542e-08]], shape=(1, 4), dtype=float32)\n"
     ]
    },
    {
     "name": "stderr",
     "output_type": "stream",
     "text": [
      "\r",
      " 42%|█████████████████████████████▌                                         | 41601/100000 [7:42:07<7:14:44,  2.24it/s]"
     ]
    },
    {
     "name": "stdout",
     "output_type": "stream",
     "text": [
      "[0.2, 0.1, 0.1, 0.1]\n",
      "tf.Tensor([[9.9895382e-01 3.9603976e-05 1.0064964e-03 2.8712810e-08]], shape=(1, 4), dtype=float32)\n"
     ]
    },
    {
     "name": "stderr",
     "output_type": "stream",
     "text": [
      " 42%|█████████████████████████████▌                                         | 41701/100000 [7:42:43<6:11:47,  2.61it/s]"
     ]
    },
    {
     "name": "stdout",
     "output_type": "stream",
     "text": [
      "6.817830035752808\n",
      "100\n"
     ]
    },
    {
     "name": "stderr",
     "output_type": "stream",
     "text": [
      " 42%|█████████████████████████████▋                                         | 41801/100000 [7:43:20<6:29:07,  2.49it/s]"
     ]
    },
    {
     "name": "stdout",
     "output_type": "stream",
     "text": [
      "6.737682486225026\n",
      "100\n",
      "[0.9, 0.1, 0.5, 0.7]\n",
      "tf.Tensor([[1.5089778e-06 8.1528133e-06 9.8990160e-04 9.9900049e-01]], shape=(1, 4), dtype=float32)\n",
      "[0.9, 0.5, 0.5, 0.7]\n",
      "tf.Tensor([[1.3296199e-06 1.0169143e-05 2.7501055e-03 9.9723840e-01]], shape=(1, 4), dtype=float32)\n",
      "[0.5, 0.5, 0.5, 0.7]\n",
      "tf.Tensor([[2.677309e-03 2.982045e-04 9.969464e-01 7.813920e-05]], shape=(1, 4), dtype=float32)\n",
      "[0.5, 0.8, 0.5, 0.7]\n",
      "tf.Tensor([[9.99773204e-01 1.38279875e-05 2.12944287e-04 6.88434554e-09]], shape=(1, 4), dtype=float32)\n"
     ]
    },
    {
     "name": "stderr",
     "output_type": "stream",
     "text": [
      " 42%|█████████████████████████████▋                                         | 41901/100000 [7:43:57<5:48:17,  2.78it/s]"
     ]
    },
    {
     "name": "stdout",
     "output_type": "stream",
     "text": [
      "6.3433270825123165\n",
      "100\n"
     ]
    },
    {
     "name": "stderr",
     "output_type": "stream",
     "text": [
      " 42%|█████████████████████████████▊                                         | 42001/100000 [7:44:33<7:11:36,  2.24it/s]"
     ]
    },
    {
     "name": "stdout",
     "output_type": "stream",
     "text": [
      "6.341689672584086\n",
      "100\n",
      "[0.9, 0.5, 0.2, 0.9]\n",
      "tf.Tensor([[1.039626e-06 6.360190e-06 8.792050e-04 9.991134e-01]], shape=(1, 4), dtype=float32)\n",
      "[0.5, 0.5, 0.2, 0.9]\n",
      "tf.Tensor([[1.7766058e-06 1.2695236e-05 3.4976623e-03 9.9648786e-01]], shape=(1, 4), dtype=float32)\n",
      "[0.5, 0.9, 0.2, 0.9]\n",
      "tf.Tensor([[2.0896406e-03 3.1101442e-04 9.9753004e-01 6.9292269e-05]], shape=(1, 4), dtype=float32)\n"
     ]
    },
    {
     "name": "stderr",
     "output_type": "stream",
     "text": [
      " 42%|█████████████████████████████▉                                         | 42101/100000 [7:45:09<6:44:56,  2.38it/s]"
     ]
    },
    {
     "name": "stdout",
     "output_type": "stream",
     "text": [
      "6.430289221740403\n",
      "100\n"
     ]
    },
    {
     "name": "stderr",
     "output_type": "stream",
     "text": [
      " 42%|█████████████████████████████▉                                         | 42201/100000 [7:45:43<6:02:06,  2.66it/s]"
     ]
    },
    {
     "name": "stdout",
     "output_type": "stream",
     "text": [
      "6.649165549879362\n",
      "100\n",
      "[0.6, 0.8, 0.1, 0.1]\n",
      "tf.Tensor([[1.2513275e-06 7.5632720e-06 9.0612547e-04 9.9908507e-01]], shape=(1, 4), dtype=float32)\n",
      "[0.6, 0.4, 0.1, 0.1]\n",
      "tf.Tensor([[1.3663455e-06 1.0862701e-05 2.8367713e-03 9.9715096e-01]], shape=(1, 4), dtype=float32)\n",
      "[0.2, 0.4, 0.1, 0.1]\n",
      "tf.Tensor([[8.5305690e-04 2.5208958e-04 9.9876618e-01 1.2865644e-04]], shape=(1, 4), dtype=float32)\n",
      "[0.2, 0.1, 0.1, 0.1]\n",
      "tf.Tensor([[9.9969435e-01 1.8371424e-05 2.8730152e-04 8.7510594e-09]], shape=(1, 4), dtype=float32)\n"
     ]
    },
    {
     "name": "stderr",
     "output_type": "stream",
     "text": [
      " 42%|██████████████████████████████                                         | 42301/100000 [7:46:21<6:50:19,  2.34it/s]"
     ]
    },
    {
     "name": "stdout",
     "output_type": "stream",
     "text": [
      "6.26623551828574\n",
      "100\n"
     ]
    },
    {
     "name": "stderr",
     "output_type": "stream",
     "text": [
      " 42%|██████████████████████████████                                         | 42400/100000 [7:46:58<5:23:15,  2.97it/s]"
     ]
    },
    {
     "name": "stdout",
     "output_type": "stream",
     "text": [
      "6.43481144797994\n",
      "100\n",
      "[0.5, 0.3, 0.7, 0.4]\n",
      "tf.Tensor([[1.0036474e-06 6.1341875e-06 5.5466255e-04 9.9943823e-01]], shape=(1, 4), dtype=float32)\n",
      "[0.9, 0.3, 0.7, 0.4]\n",
      "tf.Tensor([[7.9632275e-07 7.1594250e-06 1.4278385e-03 9.9856418e-01]], shape=(1, 4), dtype=float32)\n",
      "[0.5, 0.3, 0.7, 0.4]\n",
      "tf.Tensor([[2.4312048e-03 3.2011452e-04 9.9715960e-01 8.9203408e-05]], shape=(1, 4), dtype=float32)\n"
     ]
    },
    {
     "name": "stderr",
     "output_type": "stream",
     "text": [
      "\r",
      " 42%|██████████████████████████████                                         | 42401/100000 [7:46:58<5:58:59,  2.67it/s]"
     ]
    },
    {
     "name": "stdout",
     "output_type": "stream",
     "text": [
      "[0.8, 0.3, 0.7, 0.4]\n",
      "tf.Tensor([[9.9981230e-01 1.2136735e-05 1.7553895e-04 5.3471392e-09]], shape=(1, 4), dtype=float32)\n",
      "[0.7, 0.3, 0.7, 0.4]\n",
      "tf.Tensor([[9.9973327e-01 1.4372157e-05 2.5231272e-04 8.4508045e-09]], shape=(1, 4), dtype=float32)\n"
     ]
    },
    {
     "name": "stderr",
     "output_type": "stream",
     "text": [
      " 43%|██████████████████████████████▏                                        | 42501/100000 [7:47:33<5:53:29,  2.71it/s]"
     ]
    },
    {
     "name": "stdout",
     "output_type": "stream",
     "text": [
      "6.662121485375633\n",
      "100\n"
     ]
    },
    {
     "name": "stderr",
     "output_type": "stream",
     "text": [
      " 43%|██████████████████████████████▏                                        | 42601/100000 [7:48:10<8:01:50,  1.99it/s]"
     ]
    },
    {
     "name": "stdout",
     "output_type": "stream",
     "text": [
      "5.926266909374883\n",
      "100\n",
      "[0.4, 0.6, 0.2, 0.9]\n",
      "tf.Tensor([[9.792947e-07 6.154482e-06 5.438306e-04 9.994491e-01]], shape=(1, 4), dtype=float32)\n",
      "[0.4, 1.0, 0.2, 0.9]\n",
      "tf.Tensor([[7.3620123e-07 6.6363409e-06 1.1354293e-03 9.9885714e-01]], shape=(1, 4), dtype=float32)\n",
      "[0.0, 1.0, 0.2, 0.9]\n",
      "tf.Tensor([[9.7459869e-04 2.5655644e-04 9.9861312e-01 1.5570388e-04]], shape=(1, 4), dtype=float32)\n",
      "[0.3, 1.0, 0.2, 0.9]\n",
      "tf.Tensor([[9.9973482e-01 1.5411440e-05 2.4973915e-04 7.8492972e-09]], shape=(1, 4), dtype=float32)\n",
      "[0.3, 0.9, 0.2, 0.9]\n",
      "tf.Tensor([[9.9977928e-01 1.3905526e-05 2.0679587e-04 5.4442122e-09]], shape=(1, 4), dtype=float32)\n"
     ]
    },
    {
     "name": "stderr",
     "output_type": "stream",
     "text": [
      " 43%|██████████████████████████████▎                                        | 42701/100000 [7:48:47<7:18:26,  2.18it/s]"
     ]
    },
    {
     "name": "stdout",
     "output_type": "stream",
     "text": [
      "6.106709092819837\n",
      "100\n"
     ]
    },
    {
     "name": "stderr",
     "output_type": "stream",
     "text": [
      " 43%|██████████████████████████████▍                                        | 42801/100000 [7:49:22<6:33:48,  2.42it/s]"
     ]
    },
    {
     "name": "stdout",
     "output_type": "stream",
     "text": [
      "6.374294829416771\n",
      "100\n",
      "[0.1, 0.8, 0.5, 0.7]\n",
      "tf.Tensor([[1.0150009e-06 6.3230204e-06 6.0848962e-04 9.9938405e-01]], shape=(1, 4), dtype=float32)\n",
      "[0.5, 0.8, 0.5, 0.7]\n",
      "tf.Tensor([[1.1075181e-06 9.0744061e-06 1.8310051e-03 9.9815875e-01]], shape=(1, 4), dtype=float32)\n",
      "[0.5, 0.4, 0.5, 0.7]\n",
      "tf.Tensor([[1.2166450e-03 2.5929697e-04 9.9840134e-01 1.2265528e-04]], shape=(1, 4), dtype=float32)\n"
     ]
    },
    {
     "name": "stderr",
     "output_type": "stream",
     "text": [
      " 43%|██████████████████████████████▍                                        | 42901/100000 [7:49:59<5:59:14,  2.65it/s]"
     ]
    },
    {
     "name": "stdout",
     "output_type": "stream",
     "text": [
      "6.4422498136092194\n",
      "100\n"
     ]
    },
    {
     "name": "stderr",
     "output_type": "stream",
     "text": [
      " 43%|██████████████████████████████▌                                        | 43000/100000 [7:50:35<6:41:02,  2.37it/s]"
     ]
    },
    {
     "name": "stdout",
     "output_type": "stream",
     "text": [
      "6.329196573044514\n",
      "100\n",
      "[0.9, 0.0, 0.6, 0.2]\n",
      "tf.Tensor([[5.3918529e-07 3.7712939e-06 3.1508660e-04 9.9968064e-01]], shape=(1, 4), dtype=float32)\n",
      "[0.5, 0.0, 0.6, 0.2]\n",
      "tf.Tensor([[6.7609614e-07 5.3141412e-06 6.5410859e-04 9.9933988e-01]], shape=(1, 4), dtype=float32)\n",
      "[0.5, 0.4, 0.6, 0.2]\n",
      "tf.Tensor([[8.6689700e-04 2.3886046e-04 9.9871826e-01 1.7595913e-04]], shape=(1, 4), dtype=float32)\n",
      "[0.5, 0.1, 0.6, 0.2]\n",
      "tf.Tensor([[9.9964643e-01 1.7739934e-05 3.3579266e-04 1.2519828e-08]], shape=(1, 4), dtype=float32)\n",
      "[0.5, 0.2, 0.6, 0.2]\n",
      "tf.Tensor([[9.9962902e-01 1.7924956e-05 3.5312175e-04 1.2892214e-08]], shape=(1, 4), dtype=float32)\n"
     ]
    },
    {
     "name": "stderr",
     "output_type": "stream",
     "text": [
      " 43%|██████████████████████████████▌                                        | 43101/100000 [7:51:12<6:08:16,  2.58it/s]"
     ]
    },
    {
     "name": "stdout",
     "output_type": "stream",
     "text": [
      "6.249876318002559\n",
      "100\n"
     ]
    },
    {
     "name": "stderr",
     "output_type": "stream",
     "text": [
      " 43%|██████████████████████████████▋                                        | 43201/100000 [7:51:49<5:28:40,  2.88it/s]"
     ]
    },
    {
     "name": "stdout",
     "output_type": "stream",
     "text": [
      "6.469495937348163\n",
      "100\n",
      "[0.4, 0.3, 0.5, 0.7]\n",
      "tf.Tensor([[1.2730248e-06 7.6811439e-06 6.7467074e-04 9.9931645e-01]], shape=(1, 4), dtype=float32)\n",
      "[0.4, 0.7, 0.5, 0.7]\n",
      "tf.Tensor([[1.0111065e-06 7.4733671e-06 1.0848128e-03 9.9890673e-01]], shape=(1, 4), dtype=float32)\n",
      "[0.8, 0.7, 0.5, 0.7]\n",
      "tf.Tensor([[8.7337085e-04 2.4600080e-04 9.9871922e-01 1.6142758e-04]], shape=(1, 4), dtype=float32)\n"
     ]
    },
    {
     "name": "stderr",
     "output_type": "stream",
     "text": [
      " 43%|██████████████████████████████▋                                        | 43301/100000 [7:52:27<6:28:29,  2.43it/s]"
     ]
    },
    {
     "name": "stdout",
     "output_type": "stream",
     "text": [
      "6.102655708044518\n",
      "100\n"
     ]
    },
    {
     "name": "stderr",
     "output_type": "stream",
     "text": [
      " 43%|██████████████████████████████▊                                        | 43401/100000 [7:53:02<7:06:38,  2.21it/s]"
     ]
    },
    {
     "name": "stdout",
     "output_type": "stream",
     "text": [
      "6.473403315708959\n",
      "100\n",
      "[0.1, 0.2, 0.1, 0.1]\n",
      "tf.Tensor([[1.2727681e-06 7.6949254e-06 6.6731992e-04 9.9932373e-01]], shape=(1, 4), dtype=float32)\n",
      "[0.1, 0.0, 0.1, 0.1]\n",
      "tf.Tensor([[1.3620046e-06 8.5175225e-06 9.3500764e-04 9.9905509e-01]], shape=(1, 4), dtype=float32)\n",
      "[0.1, 0.4, 0.1, 0.1]\n",
      "tf.Tensor([[3.9611783e-04 2.5603428e-04 9.9625480e-01 3.0930096e-03]], shape=(1, 4), dtype=float32)\n"
     ]
    },
    {
     "name": "stderr",
     "output_type": "stream",
     "text": [
      " 44%|██████████████████████████████▉                                        | 43501/100000 [7:53:40<6:14:31,  2.51it/s]"
     ]
    },
    {
     "name": "stdout",
     "output_type": "stream",
     "text": [
      "6.21152251561875\n",
      "100\n"
     ]
    },
    {
     "name": "stderr",
     "output_type": "stream",
     "text": [
      " 44%|██████████████████████████████▉                                        | 43601/100000 [7:54:16<5:41:56,  2.75it/s]"
     ]
    },
    {
     "name": "stdout",
     "output_type": "stream",
     "text": [
      "6.462477442090963\n",
      "100\n",
      "[0.2, 0.5, 0.2, 0.9]\n",
      "tf.Tensor([[1.3319296e-06 7.6691931e-06 6.7424768e-04 9.9931669e-01]], shape=(1, 4), dtype=float32)\n"
     ]
    },
    {
     "name": "stderr",
     "output_type": "stream",
     "text": [
      " 44%|███████████████████████████████                                        | 43701/100000 [7:54:54<6:37:33,  2.36it/s]"
     ]
    },
    {
     "name": "stdout",
     "output_type": "stream",
     "text": [
      "6.382687168608733\n",
      "100\n"
     ]
    },
    {
     "name": "stderr",
     "output_type": "stream",
     "text": [
      " 44%|███████████████████████████████                                        | 43800/100000 [7:55:30<5:35:00,  2.80it/s]"
     ]
    },
    {
     "name": "stdout",
     "output_type": "stream",
     "text": [
      "6.431625469787559\n",
      "100\n",
      "[0.1, 0.9, 0.7, 0.1]\n",
      "tf.Tensor([[1.090905e-06 6.872543e-06 6.142094e-04 9.993777e-01]], shape=(1, 4), dtype=float32)\n",
      "[0.1, 0.5, 0.7, 0.1]\n",
      "tf.Tensor([[1.0889802e-06 7.8232542e-06 1.0647652e-03 9.9892634e-01]], shape=(1, 4), dtype=float32)\n",
      "[0.5, 0.5, 0.7, 0.1]\n",
      "tf.Tensor([[5.9749506e-04 2.2963344e-04 9.9891651e-01 2.5643472e-04]], shape=(1, 4), dtype=float32)\n",
      "[0.5, 0.2, 0.7, 0.1]\n",
      "tf.Tensor([[9.9972695e-01 1.0871431e-05 2.6212772e-04 7.0163360e-09]], shape=(1, 4), dtype=float32)\n",
      "[0.6, 0.2, 0.7, 0.1]\n"
     ]
    },
    {
     "name": "stderr",
     "output_type": "stream",
     "text": [
      "\r",
      " 44%|███████████████████████████████                                        | 43801/100000 [7:55:30<6:49:09,  2.29it/s]"
     ]
    },
    {
     "name": "stdout",
     "output_type": "stream",
     "text": [
      "tf.Tensor([[9.9980158e-01 9.1302427e-06 1.8930063e-04 5.6293930e-09]], shape=(1, 4), dtype=float32)\n",
      "[0.6, 0.1, 0.7, 0.1]\n",
      "tf.Tensor([[9.9977535e-01 9.4404350e-06 2.1526712e-04 6.5829746e-09]], shape=(1, 4), dtype=float32)\n"
     ]
    },
    {
     "name": "stderr",
     "output_type": "stream",
     "text": [
      " 44%|███████████████████████████████▏                                       | 43901/100000 [7:56:07<6:22:32,  2.44it/s]"
     ]
    },
    {
     "name": "stdout",
     "output_type": "stream",
     "text": [
      "6.392878698204208\n",
      "100\n"
     ]
    },
    {
     "name": "stderr",
     "output_type": "stream",
     "text": [
      " 44%|███████████████████████████████▏                                       | 44001/100000 [7:56:44<7:06:57,  2.19it/s]"
     ]
    },
    {
     "name": "stdout",
     "output_type": "stream",
     "text": [
      "6.236611810986301\n",
      "100\n",
      "[0.4, 0.8, 0.1, 0.1]\n",
      "tf.Tensor([[8.789040e-07 5.565832e-06 3.811962e-04 9.996124e-01]], shape=(1, 4), dtype=float32)\n",
      "[0.4, 0.4, 0.1, 0.1]\n",
      "tf.Tensor([[7.3627587e-07 5.2530445e-06 4.9623323e-04 9.9949777e-01]], shape=(1, 4), dtype=float32)\n",
      "[0.4, 0.0, 0.1, 0.1]\n",
      "tf.Tensor([[4.8079202e-04 2.5651953e-04 9.9851519e-01 7.4757123e-04]], shape=(1, 4), dtype=float32)\n",
      "[0.1, 0.0, 0.1, 0.1]\n",
      "tf.Tensor([[9.9967802e-01 1.3413748e-05 3.0853975e-04 1.1917613e-08]], shape=(1, 4), dtype=float32)\n"
     ]
    },
    {
     "name": "stderr",
     "output_type": "stream",
     "text": [
      " 44%|███████████████████████████████▎                                       | 44101/100000 [7:57:22<7:00:19,  2.22it/s]"
     ]
    },
    {
     "name": "stdout",
     "output_type": "stream",
     "text": [
      "6.047556169033141\n",
      "100\n"
     ]
    },
    {
     "name": "stderr",
     "output_type": "stream",
     "text": [
      " 44%|███████████████████████████████▍                                       | 44201/100000 [7:57:58<7:05:08,  2.19it/s]"
     ]
    },
    {
     "name": "stdout",
     "output_type": "stream",
     "text": [
      "6.208378920205054\n",
      "100\n",
      "[0.2, 0.3, 0.7, 0.4]\n",
      "tf.Tensor([[1.2170553e-06 6.8476825e-06 5.0538784e-04 9.9948645e-01]], shape=(1, 4), dtype=float32)\n",
      "[0.6, 0.3, 0.7, 0.4]\n",
      "tf.Tensor([[9.7576060e-07 6.2659233e-06 7.2934543e-04 9.9926335e-01]], shape=(1, 4), dtype=float32)\n",
      "[0.6, 0.7, 0.7, 0.4]\n",
      "tf.Tensor([[1.1378507e-03 2.4326811e-04 9.9844092e-01 1.7789290e-04]], shape=(1, 4), dtype=float32)\n",
      "[0.6, 0.4, 0.7, 0.4]\n",
      "tf.Tensor([[9.9979073e-01 8.6189175e-06 2.0067497e-04 5.2176041e-09]], shape=(1, 4), dtype=float32)\n"
     ]
    },
    {
     "name": "stderr",
     "output_type": "stream",
     "text": [
      " 44%|███████████████████████████████▍                                       | 44301/100000 [7:58:34<6:32:30,  2.37it/s]"
     ]
    },
    {
     "name": "stdout",
     "output_type": "stream",
     "text": [
      "6.47055617262579\n",
      "100\n"
     ]
    },
    {
     "name": "stderr",
     "output_type": "stream",
     "text": [
      " 44%|███████████████████████████████▌                                       | 44401/100000 [7:59:12<6:36:04,  2.34it/s]"
     ]
    },
    {
     "name": "stdout",
     "output_type": "stream",
     "text": [
      "6.162093396597196\n",
      "100\n",
      "[0.8, 0.0, 0.7, 0.4]\n",
      "tf.Tensor([[9.7492227e-07 5.7921184e-06 4.5275362e-04 9.9954045e-01]], shape=(1, 4), dtype=float32)\n",
      "[0.8, 0.4, 0.7, 0.4]\n",
      "tf.Tensor([[6.7242934e-07 5.1111033e-06 7.1763358e-04 9.9927658e-01]], shape=(1, 4), dtype=float32)\n",
      "[0.4, 0.4, 0.7, 0.4]\n",
      "tf.Tensor([[2.2531499e-03 2.3942113e-04 9.9742413e-01 8.3312458e-05]], shape=(1, 4), dtype=float32)\n"
     ]
    },
    {
     "name": "stderr",
     "output_type": "stream",
     "text": [
      " 45%|███████████████████████████████▌                                       | 44501/100000 [7:59:48<5:13:46,  2.95it/s]"
     ]
    },
    {
     "name": "stdout",
     "output_type": "stream",
     "text": [
      "6.521597929201326\n",
      "100\n"
     ]
    },
    {
     "name": "stderr",
     "output_type": "stream",
     "text": [
      " 45%|███████████████████████████████▋                                       | 44600/100000 [8:00:26<5:30:27,  2.79it/s]"
     ]
    },
    {
     "name": "stdout",
     "output_type": "stream",
     "text": [
      "6.3115392255879685\n",
      "100\n",
      "[0.4, 0.0, 0.6, 0.2]\n",
      "tf.Tensor([[1.2272955e-06 6.8775903e-06 5.3612149e-04 9.9945575e-01]], shape=(1, 4), dtype=float32)\n",
      "[0.8, 0.0, 0.6, 0.2]\n",
      "tf.Tensor([[1.0239875e-06 6.5138315e-06 8.0561911e-04 9.9918681e-01]], shape=(1, 4), dtype=float32)\n",
      "[0.8, 0.4, 0.6, 0.2]\n",
      "tf.Tensor([[1.3475270e-03 2.1676111e-04 9.9831104e-01 1.2466125e-04]], shape=(1, 4), dtype=float32)\n",
      "[0.8, 0.1, 0.6, 0.2]\n",
      "tf.Tensor([[9.9968350e-01 1.0324850e-05 3.0610329e-04 6.0157177e-09]], shape=(1, 4), dtype=float32)\n",
      "[0.7, 0.1, 0.6, 0.2]\n",
      "tf.Tensor([[9.9958163e-01 1.1333359e-05 4.0709286e-04 8.1599323e-09]], shape=(1, 4), dtype=float32)\n",
      "[0.7, 0.2, 0.6, 0.2]\n"
     ]
    },
    {
     "name": "stderr",
     "output_type": "stream",
     "text": [
      "\r",
      " 45%|███████████████████████████████▋                                       | 44601/100000 [8:00:26<6:35:00,  2.34it/s]"
     ]
    },
    {
     "name": "stdout",
     "output_type": "stream",
     "text": [
      "tf.Tensor([[9.9970645e-01 9.4309207e-06 2.8406992e-04 5.0154991e-09]], shape=(1, 4), dtype=float32)\n"
     ]
    },
    {
     "name": "stderr",
     "output_type": "stream",
     "text": [
      " 45%|███████████████████████████████▋                                       | 44701/100000 [8:01:04<5:54:03,  2.60it/s]"
     ]
    },
    {
     "name": "stdout",
     "output_type": "stream",
     "text": [
      "6.5368385957267945\n",
      "100\n"
     ]
    },
    {
     "name": "stderr",
     "output_type": "stream",
     "text": [
      " 45%|███████████████████████████████▊                                       | 44801/100000 [8:01:40<7:58:24,  1.92it/s]"
     ]
    },
    {
     "name": "stdout",
     "output_type": "stream",
     "text": [
      "6.092431820572232\n",
      "100\n",
      "[0.4, 0.8, 0.1, 0.1]\n",
      "tf.Tensor([[8.8428260e-07 5.7239931e-06 4.5795378e-04 9.9953556e-01]], shape=(1, 4), dtype=float32)\n",
      "[0.4, 0.4, 0.1, 0.1]\n",
      "tf.Tensor([[7.8644405e-07 5.9983736e-06 7.1116688e-04 9.9928206e-01]], shape=(1, 4), dtype=float32)\n",
      "[0.4, 0.0, 0.1, 0.1]\n",
      "tf.Tensor([[7.4505020e-04 2.1593425e-04 9.9887234e-01 1.6672139e-04]], shape=(1, 4), dtype=float32)\n",
      "[0.1, 0.0, 0.1, 0.1]\n",
      "tf.Tensor([[9.9935740e-01 1.6550468e-05 6.2597310e-04 1.4163203e-08]], shape=(1, 4), dtype=float32)\n"
     ]
    },
    {
     "name": "stderr",
     "output_type": "stream",
     "text": [
      " 45%|███████████████████████████████▉                                       | 44901/100000 [8:02:17<6:10:40,  2.48it/s]"
     ]
    },
    {
     "name": "stdout",
     "output_type": "stream",
     "text": [
      "6.569631323103553\n",
      "100\n"
     ]
    },
    {
     "name": "stderr",
     "output_type": "stream",
     "text": [
      " 45%|███████████████████████████████▉                                       | 45000/100000 [8:02:52<4:33:49,  3.35it/s]"
     ]
    },
    {
     "name": "stdout",
     "output_type": "stream",
     "text": [
      "6.873086642304997\n",
      "100\n",
      "[0.9, 0.5, 0.6, 0.2]\n",
      "tf.Tensor([[7.2453321e-07 4.7810172e-06 4.2063987e-04 9.9957389e-01]], shape=(1, 4), dtype=float32)\n",
      "[0.9, 0.1, 0.6, 0.2]\n",
      "tf.Tensor([[6.297979e-07 5.468271e-06 8.980229e-04 9.990959e-01]], shape=(1, 4), dtype=float32)\n",
      "[0.5, 0.1, 0.6, 0.2]\n",
      "tf.Tensor([[4.2677787e-03 2.7888338e-04 9.9540097e-01 5.2426531e-05]], shape=(1, 4), dtype=float32)\n",
      "[0.5, 0.4, 0.6, 0.2]\n",
      "tf.Tensor([[9.9966502e-01 1.0158261e-05 3.2483242e-04 6.4596040e-09]], shape=(1, 4), dtype=float32)\n",
      "[0.5, 0.3, 0.6, 0.2]\n",
      "tf.Tensor([[9.9960035e-01 1.1550572e-05 3.8810159e-04 8.5211838e-09]], shape=(1, 4), dtype=float32)\n"
     ]
    },
    {
     "name": "stderr",
     "output_type": "stream",
     "text": [
      "\r",
      " 45%|███████████████████████████████▉                                       | 45001/100000 [8:02:53<5:58:19,  2.56it/s]"
     ]
    },
    {
     "name": "stdout",
     "output_type": "stream",
     "text": [
      "[0.6, 0.3, 0.6, 0.2]\n",
      "tf.Tensor([[9.9962044e-01 1.1489260e-05 3.6813348e-04 7.6969933e-09]], shape=(1, 4), dtype=float32)\n"
     ]
    },
    {
     "name": "stderr",
     "output_type": "stream",
     "text": [
      " 45%|████████████████████████████████                                       | 45101/100000 [8:03:29<5:41:36,  2.68it/s]"
     ]
    },
    {
     "name": "stdout",
     "output_type": "stream",
     "text": [
      "6.498617391942961\n",
      "100\n"
     ]
    },
    {
     "name": "stderr",
     "output_type": "stream",
     "text": [
      " 45%|████████████████████████████████                                       | 45200/100000 [8:04:04<5:44:19,  2.65it/s]"
     ]
    },
    {
     "name": "stdout",
     "output_type": "stream",
     "text": [
      "6.47083669796379\n",
      "100\n",
      "[0.8, 0.4, 0.5, 0.7]\n",
      "tf.Tensor([[8.4980240e-07 5.3420545e-06 4.5143304e-04 9.9954236e-01]], shape=(1, 4), dtype=float32)\n",
      "[0.8, 0.8, 0.5, 0.7]\n",
      "tf.Tensor([[6.3096257e-07 5.7429397e-06 9.6691429e-04 9.9902666e-01]], shape=(1, 4), dtype=float32)\n",
      "[0.4, 0.8, 0.5, 0.7]\n",
      "tf.Tensor([[6.6029271e-03 3.3275029e-04 9.9302024e-01 4.4036096e-05]], shape=(1, 4), dtype=float32)\n",
      "[0.7, 0.8, 0.5, 0.7]\n",
      "tf.Tensor([[9.9976999e-01 7.7736722e-06 2.2223781e-04 3.5057286e-09]], shape=(1, 4), dtype=float32)\n",
      "[0.6, 0.8, 0.5, 0.7]\n",
      "tf.Tensor([[9.9971515e-01 8.8356264e-06 2.7602675e-04 4.6825139e-09]], shape=(1, 4), dtype=float32)\n",
      "[0.6, 0.7, 0.5, 0.7]\n"
     ]
    },
    {
     "name": "stderr",
     "output_type": "stream",
     "text": [
      "\r",
      " 45%|████████████████████████████████                                       | 45201/100000 [8:04:05<6:46:16,  2.25it/s]"
     ]
    },
    {
     "name": "stdout",
     "output_type": "stream",
     "text": [
      "tf.Tensor([[9.9973339e-01 8.7681065e-06 2.5777475e-04 3.8563437e-09]], shape=(1, 4), dtype=float32)\n"
     ]
    },
    {
     "name": "stderr",
     "output_type": "stream",
     "text": [
      " 45%|████████████████████████████████▏                                      | 45301/100000 [8:04:42<6:27:32,  2.35it/s]"
     ]
    },
    {
     "name": "stdout",
     "output_type": "stream",
     "text": [
      "6.247733450848621\n",
      "100\n"
     ]
    },
    {
     "name": "stderr",
     "output_type": "stream",
     "text": [
      " 45%|████████████████████████████████▏                                      | 45401/100000 [8:05:19<5:02:40,  3.01it/s]"
     ]
    },
    {
     "name": "stdout",
     "output_type": "stream",
     "text": [
      "6.563503097488908\n",
      "100\n",
      "[0.1, 0.2, 0.1, 0.1]\n",
      "tf.Tensor([[1.2194881e-06 7.5251132e-06 5.0293317e-04 9.9948835e-01]], shape=(1, 4), dtype=float32)\n",
      "[0.1, 0.0, 0.1, 0.1]\n",
      "tf.Tensor([[1.3306536e-06 8.3094192e-06 6.8126514e-04 9.9930906e-01]], shape=(1, 4), dtype=float32)\n",
      "[0.1, 0.4, 0.1, 0.1]\n",
      "tf.Tensor([[6.2632456e-04 3.5505922e-04 9.9652326e-01 2.4954348e-03]], shape=(1, 4), dtype=float32)\n"
     ]
    },
    {
     "name": "stderr",
     "output_type": "stream",
     "text": [
      " 46%|████████████████████████████████▎                                      | 45501/100000 [8:05:56<7:15:20,  2.09it/s]"
     ]
    },
    {
     "name": "stdout",
     "output_type": "stream",
     "text": [
      "6.270747871186507\n",
      "100\n"
     ]
    },
    {
     "name": "stderr",
     "output_type": "stream",
     "text": [
      " 46%|████████████████████████████████▍                                      | 45601/100000 [8:06:34<6:35:06,  2.29it/s]"
     ]
    },
    {
     "name": "stdout",
     "output_type": "stream",
     "text": [
      "6.162332770259166\n",
      "100\n",
      "[0.4, 0.1, 0.1, 0.1]\n",
      "tf.Tensor([[9.1008337e-07 6.4529991e-06 4.6325743e-04 9.9952936e-01]], shape=(1, 4), dtype=float32)\n",
      "[0.0, 0.1, 0.1, 0.1]\n",
      "tf.Tensor([[1.0924934e-06 7.8846451e-06 7.3280046e-04 9.9925822e-01]], shape=(1, 4), dtype=float32)\n",
      "[0.4, 0.1, 0.1, 0.1]\n",
      "tf.Tensor([[4.5574806e-04 3.1981699e-04 9.9830037e-01 9.2412648e-04]], shape=(1, 4), dtype=float32)\n"
     ]
    },
    {
     "name": "stderr",
     "output_type": "stream",
     "text": [
      " 46%|████████████████████████████████▍                                      | 45701/100000 [8:07:11<5:39:04,  2.67it/s]"
     ]
    },
    {
     "name": "stdout",
     "output_type": "stream",
     "text": [
      "6.544039036258342\n",
      "100\n"
     ]
    },
    {
     "name": "stderr",
     "output_type": "stream",
     "text": [
      " 46%|████████████████████████████████▌                                      | 45801/100000 [8:07:50<6:46:15,  2.22it/s]"
     ]
    },
    {
     "name": "stdout",
     "output_type": "stream",
     "text": [
      "6.072015543333646\n",
      "100\n",
      "[0.7, 0.4, 0.5, 0.7]\n",
      "tf.Tensor([[9.1711729e-07 6.3670755e-06 4.5377767e-04 9.9953902e-01]], shape=(1, 4), dtype=float32)\n",
      "[0.7, 0.8, 0.5, 0.7]\n",
      "tf.Tensor([[6.503707e-07 6.254891e-06 8.316595e-04 9.991615e-01]], shape=(1, 4), dtype=float32)\n",
      "[0.3, 0.8, 0.5, 0.7]\n",
      "tf.Tensor([[4.3452987e-03 5.3530745e-04 9.9505299e-01 6.6390465e-05]], shape=(1, 4), dtype=float32)\n",
      "[0.6, 0.8, 0.5, 0.7]\n",
      "tf.Tensor([[9.99750435e-01 1.24888775e-05 2.36996697e-04 4.63795091e-09]], shape=(1, 4), dtype=float32)\n",
      "[0.5, 0.8, 0.5, 0.7]\n",
      "tf.Tensor([[9.9968410e-01 1.4401223e-05 3.0143969e-04 6.2730074e-09]], shape=(1, 4), dtype=float32)\n"
     ]
    },
    {
     "name": "stderr",
     "output_type": "stream",
     "text": [
      " 46%|████████████████████████████████▌                                      | 45901/100000 [8:08:26<6:01:30,  2.49it/s]"
     ]
    },
    {
     "name": "stdout",
     "output_type": "stream",
     "text": [
      "6.4510444015950315\n",
      "100\n"
     ]
    },
    {
     "name": "stderr",
     "output_type": "stream",
     "text": [
      " 46%|████████████████████████████████▋                                      | 46001/100000 [8:09:05<6:23:11,  2.35it/s]"
     ]
    },
    {
     "name": "stdout",
     "output_type": "stream",
     "text": [
      "6.136588218755958\n",
      "100\n",
      "[0.9, 0.2, 0.1, 0.1]\n",
      "tf.Tensor([[7.0407100e-07 5.1141205e-06 3.9565813e-04 9.9959856e-01]], shape=(1, 4), dtype=float32)\n",
      "[0.5, 0.2, 0.1, 0.1]\n",
      "tf.Tensor([[6.6661119e-07 6.0173843e-06 7.5698155e-04 9.9923635e-01]], shape=(1, 4), dtype=float32)\n",
      "[0.1, 0.2, 0.1, 0.1]\n",
      "tf.Tensor([[1.3128023e-03 4.0978711e-04 9.9812800e-01 1.4947991e-04]], shape=(1, 4), dtype=float32)\n",
      "[0.1, 0.0, 0.1, 0.1]\n",
      "tf.Tensor([[9.9954873e-01 1.9950749e-05 4.3136257e-04 1.3905521e-08]], shape=(1, 4), dtype=float32)\n"
     ]
    },
    {
     "name": "stderr",
     "output_type": "stream",
     "text": [
      " 46%|████████████████████████████████▋                                      | 46101/100000 [8:09:41<6:31:58,  2.29it/s]"
     ]
    },
    {
     "name": "stdout",
     "output_type": "stream",
     "text": [
      "6.2957291742026324\n",
      "100\n"
     ]
    },
    {
     "name": "stderr",
     "output_type": "stream",
     "text": [
      " 46%|████████████████████████████████▊                                      | 46200/100000 [8:10:17<6:14:22,  2.40it/s]"
     ]
    },
    {
     "name": "stdout",
     "output_type": "stream",
     "text": [
      "6.359690259367339\n",
      "100\n",
      "[0.2, 0.4, 0.7, 0.1]\n",
      "tf.Tensor([[1.1155773e-06 7.3364004e-06 4.8908126e-04 9.9950242e-01]], shape=(1, 4), dtype=float32)\n",
      "[0.6, 0.4, 0.7, 0.1]\n",
      "tf.Tensor([[7.9076239e-07 6.4629426e-06 6.9926976e-04 9.9929345e-01]], shape=(1, 4), dtype=float32)\n",
      "[0.6, 0.0, 0.7, 0.1]\n",
      "tf.Tensor([[2.3932522e-03 4.6557953e-04 9.9700397e-01 1.3714701e-04]], shape=(1, 4), dtype=float32)\n",
      "[0.6, 0.3, 0.7, 0.1]\n",
      "tf.Tensor([[9.9971336e-01 1.4536666e-05 2.7201392e-04 7.2174529e-09]], shape=(1, 4), dtype=float32)\n",
      "[0.6, 0.2, 0.7, 0.1]\n"
     ]
    },
    {
     "name": "stderr",
     "output_type": "stream",
     "text": [
      "\r",
      " 46%|████████████████████████████████▊                                      | 46201/100000 [8:10:18<5:49:05,  2.57it/s]"
     ]
    },
    {
     "name": "stdout",
     "output_type": "stream",
     "text": [
      "tf.Tensor([[9.9968028e-01 1.4801638e-05 3.0498247e-04 8.0579738e-09]], shape=(1, 4), dtype=float32)\n",
      "[0.7, 0.2, 0.7, 0.1]\n",
      "tf.Tensor([[9.9973959e-01 1.3337807e-05 2.4703681e-04 6.4753705e-09]], shape=(1, 4), dtype=float32)\n"
     ]
    },
    {
     "name": "stderr",
     "output_type": "stream",
     "text": [
      " 46%|████████████████████████████████▊                                      | 46301/100000 [8:10:55<6:46:30,  2.20it/s]"
     ]
    },
    {
     "name": "stdout",
     "output_type": "stream",
     "text": [
      "6.137281352646963\n",
      "100\n"
     ]
    },
    {
     "name": "stderr",
     "output_type": "stream",
     "text": [
      " 46%|████████████████████████████████▉                                      | 46400/100000 [8:11:31<3:59:44,  3.73it/s]"
     ]
    },
    {
     "name": "stdout",
     "output_type": "stream",
     "text": [
      "6.617946236399824\n",
      "100\n",
      "[0.7, 0.3, 0.7, 0.4]\n",
      "tf.Tensor([[8.9110034e-07 6.1830087e-06 4.3521804e-04 9.9955779e-01]], shape=(1, 4), dtype=float32)\n",
      "[0.7, 0.7, 0.7, 0.4]\n",
      "tf.Tensor([[7.1130273e-07 6.2870831e-06 7.2484586e-04 9.9926811e-01]], shape=(1, 4), dtype=float32)\n",
      "[0.7, 0.3, 0.7, 0.4]\n",
      "tf.Tensor([[4.8267939e-03 5.0584966e-04 9.9459732e-01 7.0048030e-05]], shape=(1, 4), dtype=float32)\n"
     ]
    },
    {
     "name": "stderr",
     "output_type": "stream",
     "text": [
      " 46%|████████████████████████████████▉                                      | 46402/100000 [8:11:32<4:23:07,  3.39it/s]"
     ]
    },
    {
     "name": "stdout",
     "output_type": "stream",
     "text": [
      "[0.7, 0.6, 0.7, 0.4]\n",
      "tf.Tensor([[9.9974495e-01 1.2419021e-05 2.4260704e-04 5.3356950e-09]], shape=(1, 4), dtype=float32)\n",
      "[0.7, 0.5, 0.7, 0.4]\n",
      "tf.Tensor([[9.9973863e-01 1.2624104e-05 2.4866991e-04 5.1510241e-09]], shape=(1, 4), dtype=float32)\n"
     ]
    },
    {
     "name": "stderr",
     "output_type": "stream",
     "text": [
      " 47%|█████████████████████████████████                                      | 46501/100000 [8:12:08<5:41:52,  2.61it/s]"
     ]
    },
    {
     "name": "stdout",
     "output_type": "stream",
     "text": [
      "6.322253478253573\n",
      "100\n"
     ]
    },
    {
     "name": "stderr",
     "output_type": "stream",
     "text": [
      " 47%|█████████████████████████████████                                      | 46601/100000 [8:12:46<6:27:09,  2.30it/s]"
     ]
    },
    {
     "name": "stdout",
     "output_type": "stream",
     "text": [
      "6.347593526557753\n",
      "100\n",
      "[0.6, 0.0, 0.6, 0.2]\n",
      "tf.Tensor([[9.8517660e-07 6.6717789e-06 4.5057904e-04 9.9954188e-01]], shape=(1, 4), dtype=float32)\n",
      "[0.6, 0.4, 0.6, 0.2]\n",
      "tf.Tensor([[7.693706e-07 6.148063e-06 6.290830e-04 9.993641e-01]], shape=(1, 4), dtype=float32)\n",
      "[0.6, 0.0, 0.6, 0.2]\n",
      "tf.Tensor([[2.1633042e-03 4.1710949e-04 9.9727374e-01 1.4583273e-04]], shape=(1, 4), dtype=float32)\n",
      "[0.6, 0.3, 0.6, 0.2]\n",
      "tf.Tensor([[9.9969971e-01 1.4274868e-05 2.8600343e-04 7.3089366e-09]], shape=(1, 4), dtype=float32)\n"
     ]
    },
    {
     "name": "stderr",
     "output_type": "stream",
     "text": [
      " 47%|█████████████████████████████████▏                                     | 46701/100000 [8:13:24<6:00:17,  2.47it/s]"
     ]
    },
    {
     "name": "stdout",
     "output_type": "stream",
     "text": [
      "6.2354497977502215\n",
      "100\n"
     ]
    },
    {
     "name": "stderr",
     "output_type": "stream",
     "text": [
      " 47%|█████████████████████████████████▏                                     | 46800/100000 [8:14:01<6:01:39,  2.45it/s]"
     ]
    },
    {
     "name": "stdout",
     "output_type": "stream",
     "text": [
      "6.331061046276946\n",
      "100\n",
      "[0.3, 0.6, 0.2, 0.9]\n",
      "tf.Tensor([[9.1460947e-07 6.3910675e-06 4.3586476e-04 9.9955684e-01]], shape=(1, 4), dtype=float32)\n",
      "[0.3, 1.0, 0.2, 0.9]\n",
      "tf.Tensor([[7.0063226e-07 6.1438436e-06 6.1754836e-04 9.9937564e-01]], shape=(1, 4), dtype=float32)\n",
      "[0.3, 0.6, 0.2, 0.9]\n",
      "tf.Tensor([[1.4965708e-03 4.0741634e-04 9.9793518e-01 1.6078514e-04]], shape=(1, 4), dtype=float32)\n",
      "[0.3, 0.9, 0.2, 0.9]\n",
      "tf.Tensor([[9.9972254e-01 1.3774194e-05 2.6367177e-04 5.3613034e-09]], shape=(1, 4), dtype=float32)\n"
     ]
    },
    {
     "name": "stderr",
     "output_type": "stream",
     "text": [
      " 47%|█████████████████████████████████▎                                     | 46901/100000 [8:14:39<6:04:20,  2.43it/s]"
     ]
    },
    {
     "name": "stdout",
     "output_type": "stream",
     "text": [
      "6.467927271280679\n",
      "100\n"
     ]
    },
    {
     "name": "stderr",
     "output_type": "stream",
     "text": [
      " 47%|█████████████████████████████████▎                                     | 47001/100000 [8:15:16<6:23:20,  2.30it/s]"
     ]
    },
    {
     "name": "stdout",
     "output_type": "stream",
     "text": [
      "6.411958815048278\n",
      "100\n",
      "[0.7, 0.2, 0.1, 0.1]\n",
      "tf.Tensor([[7.4882018e-07 5.2404835e-06 3.7737240e-04 9.9961662e-01]], shape=(1, 4), dtype=float32)\n",
      "[0.3, 0.2, 0.1, 0.1]\n",
      "tf.Tensor([[7.4501662e-07 6.3033403e-06 7.0870982e-04 9.9928433e-01]], shape=(1, 4), dtype=float32)\n",
      "[0.0, 0.2, 0.1, 0.1]\n",
      "tf.Tensor([[2.1061955e-03 5.0592865e-04 9.9722797e-01 1.5987776e-04]], shape=(1, 4), dtype=float32)\n",
      "[0.0, 0.0, 0.1, 0.1]\n",
      "tf.Tensor([[9.9964046e-01 1.8011064e-05 3.4147699e-04 1.2746488e-08]], shape=(1, 4), dtype=float32)\n",
      "[0.0, 0.1, 0.1, 0.1]\n",
      "tf.Tensor([[9.9955696e-01 2.1889400e-05 4.2104634e-04 1.7203458e-08]], shape=(1, 4), dtype=float32)\n"
     ]
    },
    {
     "name": "stderr",
     "output_type": "stream",
     "text": [
      " 47%|█████████████████████████████████▍                                     | 47101/100000 [8:15:55<6:30:14,  2.26it/s]"
     ]
    },
    {
     "name": "stdout",
     "output_type": "stream",
     "text": [
      "6.10338004101507\n",
      "100\n"
     ]
    },
    {
     "name": "stderr",
     "output_type": "stream",
     "text": [
      " 47%|█████████████████████████████████▌                                     | 47201/100000 [8:16:32<6:24:06,  2.29it/s]"
     ]
    },
    {
     "name": "stdout",
     "output_type": "stream",
     "text": [
      "6.451926913645692\n",
      "100\n",
      "[0.2, 0.4, 0.6, 0.2]\n",
      "tf.Tensor([[1.0357219e-06 6.7814108e-06 4.4233789e-04 9.9954981e-01]], shape=(1, 4), dtype=float32)\n",
      "[0.6, 0.4, 0.6, 0.2]\n",
      "tf.Tensor([[7.5624433e-07 6.1663000e-06 6.5308891e-04 9.9934000e-01]], shape=(1, 4), dtype=float32)\n",
      "[0.6, 0.0, 0.6, 0.2]\n",
      "tf.Tensor([[3.56979715e-03 5.03854069e-04 9.95810509e-01 1.15918265e-04]], shape=(1, 4), dtype=float32)\n",
      "[0.6, 0.3, 0.6, 0.2]\n",
      "tf.Tensor([[9.9973851e-01 1.3448043e-05 2.4795686e-04 6.4217862e-09]], shape=(1, 4), dtype=float32)\n"
     ]
    },
    {
     "name": "stderr",
     "output_type": "stream",
     "text": [
      " 47%|█████████████████████████████████▌                                     | 47301/100000 [8:17:08<6:11:03,  2.37it/s]"
     ]
    },
    {
     "name": "stdout",
     "output_type": "stream",
     "text": [
      "6.368292879438753\n",
      "100\n"
     ]
    },
    {
     "name": "stderr",
     "output_type": "stream",
     "text": [
      " 47%|█████████████████████████████████▋                                     | 47400/100000 [8:17:46<4:59:16,  2.93it/s]"
     ]
    },
    {
     "name": "stdout",
     "output_type": "stream",
     "text": [
      "6.484132452928424\n",
      "100\n",
      "[0.1, 0.6, 0.7, 0.1]\n",
      "tf.Tensor([[1.0235756e-06 6.6736984e-06 4.2880597e-04 9.9956340e-01]], shape=(1, 4), dtype=float32)\n",
      "[0.5, 0.6, 0.7, 0.1]\n",
      "tf.Tensor([[7.7773961e-07 6.5113995e-06 6.7484542e-04 9.9931788e-01]], shape=(1, 4), dtype=float32)\n",
      "[0.5, 0.2, 0.7, 0.1]\n",
      "tf.Tensor([[5.4342765e-03 6.3217728e-04 9.9383730e-01 9.6246666e-05]], shape=(1, 4), dtype=float32)\n",
      "[0.8, 0.2, 0.7, 0.1]\n"
     ]
    },
    {
     "name": "stderr",
     "output_type": "stream",
     "text": [
      "\r",
      " 47%|█████████████████████████████████▋                                     | 47401/100000 [8:17:46<5:48:32,  2.52it/s]"
     ]
    },
    {
     "name": "stdout",
     "output_type": "stream",
     "text": [
      "tf.Tensor([[9.99798954e-01 1.12696725e-05 1.89755636e-04 4.65190819e-09]], shape=(1, 4), dtype=float32)\n",
      "[0.8, 0.1, 0.7, 0.1]\n",
      "tf.Tensor([[9.9981886e-01 1.0563840e-05 1.7058234e-04 3.7743102e-09]], shape=(1, 4), dtype=float32)\n"
     ]
    },
    {
     "name": "stderr",
     "output_type": "stream",
     "text": [
      " 48%|█████████████████████████████████▋                                     | 47501/100000 [8:18:23<5:32:37,  2.63it/s]"
     ]
    },
    {
     "name": "stdout",
     "output_type": "stream",
     "text": [
      "6.518937298381742\n",
      "100\n"
     ]
    },
    {
     "name": "stderr",
     "output_type": "stream",
     "text": [
      " 48%|█████████████████████████████████▊                                     | 47601/100000 [8:19:01<5:47:25,  2.51it/s]"
     ]
    },
    {
     "name": "stdout",
     "output_type": "stream",
     "text": [
      "6.490721290396628\n",
      "100\n",
      "[0.7, 0.9, 0.7, 0.1]\n",
      "tf.Tensor([[6.0281246e-07 4.6809228e-06 3.4625540e-04 9.9964845e-01]], shape=(1, 4), dtype=float32)\n",
      "[0.7, 0.5, 0.7, 0.1]\n",
      "tf.Tensor([[5.5344498e-07 5.3149543e-06 6.3764193e-04 9.9935657e-01]], shape=(1, 4), dtype=float32)\n"
     ]
    },
    {
     "name": "stderr",
     "output_type": "stream",
     "text": [
      " 48%|█████████████████████████████████▊                                     | 47701/100000 [8:19:38<6:15:09,  2.32it/s]"
     ]
    },
    {
     "name": "stdout",
     "output_type": "stream",
     "text": [
      "6.108475212121612\n",
      "100\n"
     ]
    },
    {
     "name": "stderr",
     "output_type": "stream",
     "text": [
      " 48%|█████████████████████████████████▉                                     | 47800/100000 [8:20:14<5:16:19,  2.75it/s]"
     ]
    },
    {
     "name": "stdout",
     "output_type": "stream",
     "text": [
      "6.757477042259775\n",
      "100\n",
      "[0.7, 0.5, 0.7, 0.4]\n",
      "tf.Tensor([[6.1961248e-07 4.6627247e-06 3.4493883e-04 9.9964976e-01]], shape=(1, 4), dtype=float32)\n",
      "[0.7, 0.1, 0.7, 0.4]\n",
      "tf.Tensor([[6.7339806e-07 5.4716475e-06 5.9666624e-04 9.9939716e-01]], shape=(1, 4), dtype=float32)\n",
      "[0.7, 0.5, 0.7, 0.4]\n",
      "tf.Tensor([[1.7188719e-03 3.6006115e-04 9.9782783e-01 9.3276918e-05]], shape=(1, 4), dtype=float32)\n",
      "[0.7, 0.2, 0.7, 0.4]\n",
      "tf.Tensor([[9.9957663e-01 1.5236277e-05 4.0816044e-04 8.1317699e-09]], shape=(1, 4), dtype=float32)\n",
      "[0.7, 0.3, 0.7, 0.4]\n"
     ]
    },
    {
     "name": "stderr",
     "output_type": "stream",
     "text": [
      "\r",
      " 48%|█████████████████████████████████▉                                     | 47801/100000 [8:20:14<5:39:43,  2.56it/s]"
     ]
    },
    {
     "name": "stdout",
     "output_type": "stream",
     "text": [
      "tf.Tensor([[9.99582708e-01 1.50101405e-05 4.02310805e-04 8.52812310e-09]], shape=(1, 4), dtype=float32)\n"
     ]
    },
    {
     "name": "stderr",
     "output_type": "stream",
     "text": [
      " 48%|██████████████████████████████████                                     | 47901/100000 [8:20:52<5:36:12,  2.58it/s]"
     ]
    },
    {
     "name": "stdout",
     "output_type": "stream",
     "text": [
      "6.269193985686132\n",
      "100\n"
     ]
    },
    {
     "name": "stderr",
     "output_type": "stream",
     "text": [
      " 48%|██████████████████████████████████                                     | 48000/100000 [8:21:27<5:44:57,  2.51it/s]"
     ]
    },
    {
     "name": "stdout",
     "output_type": "stream",
     "text": [
      "6.365360901466755\n",
      "100\n",
      "[0.4, 0.5, 0.5, 0.7]\n",
      "tf.Tensor([[8.1672863e-07 5.5523142e-06 3.4865522e-04 9.9964499e-01]], shape=(1, 4), dtype=float32)\n",
      "[0.4, 0.9, 0.5, 0.7]\n",
      "tf.Tensor([[5.9985024e-07 4.9317237e-06 4.4073886e-04 9.9955374e-01]], shape=(1, 4), dtype=float32)\n",
      "[0.4, 0.5, 0.5, 0.7]\n",
      "tf.Tensor([[1.3279840e-03 4.6956423e-04 9.9785161e-01 3.5089854e-04]], shape=(1, 4), dtype=float32)\n",
      "[0.4, 0.8, 0.5, 0.7]\n",
      "tf.Tensor([[9.9985290e-01 1.1143229e-05 1.3598127e-04 4.8775228e-09]], shape=(1, 4), dtype=float32)\n",
      "[0.4, 0.7, 0.5, 0.7]"
     ]
    },
    {
     "name": "stderr",
     "output_type": "stream",
     "text": [
      "\r",
      " 48%|██████████████████████████████████                                     | 48001/100000 [8:21:28<5:59:03,  2.41it/s]"
     ]
    },
    {
     "name": "stdout",
     "output_type": "stream",
     "text": [
      "\n",
      "tf.Tensor([[9.9984562e-01 1.1082718e-05 1.4326005e-04 4.6498014e-09]], shape=(1, 4), dtype=float32)\n"
     ]
    },
    {
     "name": "stderr",
     "output_type": "stream",
     "text": [
      " 48%|██████████████████████████████████▏                                    | 48101/100000 [8:22:04<5:29:13,  2.63it/s]"
     ]
    },
    {
     "name": "stdout",
     "output_type": "stream",
     "text": [
      "6.500986351125588\n",
      "100\n"
     ]
    },
    {
     "name": "stderr",
     "output_type": "stream",
     "text": [
      " 48%|██████████████████████████████████▏                                    | 48201/100000 [8:22:41<5:54:38,  2.43it/s]"
     ]
    },
    {
     "name": "stdout",
     "output_type": "stream",
     "text": [
      "6.282762272466943\n",
      "100\n",
      "[0.0, 0.5, 0.1, 0.1]\n",
      "tf.Tensor([[6.6583908e-07 4.9051419e-06 3.0262012e-04 9.9969184e-01]], shape=(1, 4), dtype=float32)\n",
      "[0.0, 0.1, 0.1, 0.1]\n",
      "tf.Tensor([[7.4270105e-07 5.3972622e-06 4.1811113e-04 9.9957567e-01]], shape=(1, 4), dtype=float32)\n",
      "[0.4, 0.1, 0.1, 0.1]\n",
      "tf.Tensor([[4.4895214e-04 3.8664354e-04 9.9461395e-01 4.5505138e-03]], shape=(1, 4), dtype=float32)\n"
     ]
    },
    {
     "name": "stderr",
     "output_type": "stream",
     "text": [
      " 48%|██████████████████████████████████▎                                    | 48301/100000 [8:23:18<5:59:52,  2.39it/s]"
     ]
    },
    {
     "name": "stdout",
     "output_type": "stream",
     "text": [
      "6.282647206502437\n",
      "100\n"
     ]
    },
    {
     "name": "stderr",
     "output_type": "stream",
     "text": [
      " 48%|██████████████████████████████████▎                                    | 48401/100000 [8:23:54<5:42:13,  2.51it/s]"
     ]
    },
    {
     "name": "stdout",
     "output_type": "stream",
     "text": [
      "6.551971359916881\n",
      "100\n",
      "[0.1, 0.7, 0.7, 0.4]\n",
      "tf.Tensor([[6.3112793e-07 4.4872113e-06 2.9952370e-04 9.9969542e-01]], shape=(1, 4), dtype=float32)\n",
      "[0.5, 0.7, 0.7, 0.4]\n",
      "tf.Tensor([[4.5399145e-07 4.1410117e-06 4.5014435e-04 9.9954516e-01]], shape=(1, 4), dtype=float32)\n",
      "[0.5, 0.3, 0.7, 0.4]\n",
      "tf.Tensor([[1.6174072e-03 4.4037442e-04 9.9775666e-01 1.8550988e-04]], shape=(1, 4), dtype=float32)\n",
      "[0.8, 0.3, 0.7, 0.4]\n",
      "tf.Tensor([[9.9987626e-01 9.1562479e-06 1.1457145e-04 3.1506751e-09]], shape=(1, 4), dtype=float32)\n",
      "[0.7, 0.3, 0.7, 0.4]\n",
      "tf.Tensor([[9.9983215e-01 1.0232003e-05 1.5754503e-04 4.8701154e-09]], shape=(1, 4), dtype=float32)\n"
     ]
    },
    {
     "name": "stderr",
     "output_type": "stream",
     "text": [
      " 49%|██████████████████████████████████▍                                    | 48501/100000 [8:24:30<6:22:09,  2.25it/s]"
     ]
    },
    {
     "name": "stdout",
     "output_type": "stream",
     "text": [
      "6.416693629734032\n",
      "100\n"
     ]
    },
    {
     "name": "stderr",
     "output_type": "stream",
     "text": [
      " 49%|██████████████████████████████████▌                                    | 48600/100000 [8:25:06<4:34:48,  3.12it/s]"
     ]
    },
    {
     "name": "stdout",
     "output_type": "stream",
     "text": [
      "6.616070382944578\n",
      "100\n",
      "[0.8, 0.0, 0.1, 0.1]\n",
      "tf.Tensor([[5.6536078e-07 4.4983994e-06 2.5279811e-04 9.9974221e-01]], shape=(1, 4), dtype=float32)\n",
      "[0.4, 0.0, 0.1, 0.1]\n",
      "tf.Tensor([[5.6781323e-07 5.1889388e-06 4.3554272e-04 9.9955875e-01]], shape=(1, 4), dtype=float32)\n",
      "[0.0, 0.0, 0.1, 0.1]\n",
      "tf.Tensor([[1.6763101e-03 8.5971371e-04 9.9704486e-01 4.1904036e-04]], shape=(1, 4), dtype=float32)\n",
      "[0.3, 0.0, 0.1, 0.1]\n",
      "tf.Tensor([[9.9984610e-01 1.7525459e-05 1.3637489e-04 7.4750712e-09]], shape=(1, 4), dtype=float32)\n",
      "[0.2, 0.0, 0.1, 0.1]\n",
      "tf.Tensor([[9.99798834e-01 2.18902060e-05 1.79260445e-04 1.03750635e-08]], shape=(1, 4), dtype=float32)\n",
      "[0.1, 0.0, 0.1, 0.1]\n"
     ]
    },
    {
     "name": "stderr",
     "output_type": "stream",
     "text": [
      "\r",
      " 49%|██████████████████████████████████▌                                    | 48601/100000 [8:25:07<5:47:06,  2.47it/s]"
     ]
    },
    {
     "name": "stdout",
     "output_type": "stream",
     "text": [
      "tf.Tensor([[9.9968648e-01 2.8330900e-05 2.8519100e-04 1.9281662e-08]], shape=(1, 4), dtype=float32)\n"
     ]
    },
    {
     "name": "stderr",
     "output_type": "stream",
     "text": [
      " 49%|██████████████████████████████████▌                                    | 48701/100000 [8:25:44<6:32:17,  2.18it/s]"
     ]
    },
    {
     "name": "stdout",
     "output_type": "stream",
     "text": [
      "6.199627061583502\n",
      "100\n"
     ]
    },
    {
     "name": "stderr",
     "output_type": "stream",
     "text": [
      " 49%|██████████████████████████████████▋                                    | 48801/100000 [8:26:22<6:13:47,  2.28it/s]"
     ]
    },
    {
     "name": "stdout",
     "output_type": "stream",
     "text": [
      "6.189584108636163\n",
      "100\n",
      "[0.5, 0.3, 0.5, 0.7]\n",
      "tf.Tensor([[8.5939735e-07 6.8731961e-06 2.9268276e-04 9.9969959e-01]], shape=(1, 4), dtype=float32)\n"
     ]
    },
    {
     "name": "stderr",
     "output_type": "stream",
     "text": [
      " 49%|██████████████████████████████████▋                                    | 48901/100000 [8:26:58<5:17:40,  2.68it/s]"
     ]
    },
    {
     "name": "stdout",
     "output_type": "stream",
     "text": [
      "6.490297838235564\n",
      "100\n"
     ]
    },
    {
     "name": "stderr",
     "output_type": "stream",
     "text": [
      " 49%|██████████████████████████████████▊                                    | 49000/100000 [8:27:35<4:26:22,  3.19it/s]"
     ]
    },
    {
     "name": "stdout",
     "output_type": "stream",
     "text": [
      "6.457543202535423\n",
      "100\n",
      "[0.9, 0.7, 0.1, 0.1]\n",
      "tf.Tensor([[4.9371573e-07 4.4843905e-06 2.3034804e-04 9.9976462e-01]], shape=(1, 4), dtype=float32)\n",
      "[0.5, 0.7, 0.1, 0.1]\n",
      "tf.Tensor([[6.7194907e-07 8.8304778e-06 7.3019147e-04 9.9926025e-01]], shape=(1, 4), dtype=float32)\n",
      "[0.5, 0.3, 0.1, 0.1]\n",
      "tf.Tensor([[1.2274843e-02 3.2645157e-03 9.8434943e-01 1.1123736e-04]], shape=(1, 4), dtype=float32)\n",
      "[0.2, 0.3, 0.1, 0.1]\n",
      "tf.Tensor([[9.99866009e-01 2.23614024e-05 1.11504065e-04 6.28688301e-09]], shape=(1, 4), dtype=float32)\n",
      "[0.2, 0.2, 0.1, 0.1]\n"
     ]
    },
    {
     "name": "stderr",
     "output_type": "stream",
     "text": [
      "\r",
      " 49%|██████████████████████████████████▊                                    | 49001/100000 [8:27:36<5:41:03,  2.49it/s]"
     ]
    },
    {
     "name": "stdout",
     "output_type": "stream",
     "text": [
      "tf.Tensor([[9.9985337e-01 2.5147589e-05 1.2144059e-04 6.5824843e-09]], shape=(1, 4), dtype=float32)\n",
      "[0.1, 0.2, 0.1, 0.1]\n",
      "tf.Tensor([[9.9981993e-01 2.9507752e-05 1.5057258e-04 9.7728492e-09]], shape=(1, 4), dtype=float32)\n"
     ]
    },
    {
     "name": "stderr",
     "output_type": "stream",
     "text": [
      " 49%|██████████████████████████████████▊                                    | 49101/100000 [8:28:13<4:47:31,  2.95it/s]"
     ]
    },
    {
     "name": "stdout",
     "output_type": "stream",
     "text": [
      "6.492497151579468\n",
      "100\n"
     ]
    },
    {
     "name": "stderr",
     "output_type": "stream",
     "text": [
      " 49%|██████████████████████████████████▉                                    | 49200/100000 [8:28:49<5:33:19,  2.54it/s]"
     ]
    },
    {
     "name": "stdout",
     "output_type": "stream",
     "text": [
      "6.338002892241983\n",
      "100\n",
      "[0.4, 0.4, 0.7, 0.1]\n",
      "tf.Tensor([[7.7451392e-07 6.1798619e-06 2.7583732e-04 9.9971718e-01]], shape=(1, 4), dtype=float32)\n",
      "[0.8, 0.4, 0.7, 0.1]\n",
      "tf.Tensor([[5.9811885e-07 6.1713140e-06 4.6704451e-04 9.9952614e-01]], shape=(1, 4), dtype=float32)\n",
      "[0.8, 0.0, 0.7, 0.1]\n",
      "tf.Tensor([[5.7099601e-03 2.2194525e-03 9.9190652e-01 1.6406697e-04]], shape=(1, 4), dtype=float32)\n",
      "[0.5, 0.0, 0.7, 0.1]\n",
      "tf.Tensor([[9.9982220e-01 2.5514908e-05 1.5227578e-04 9.1562455e-09]], shape=(1, 4), dtype=float32)\n",
      "[0.6, 0.0, 0.7, 0.1]\n",
      "tf.Tensor([[9.9983752e-01 2.3607945e-05 1.3883090e-04 8.3670288e-09]], shape=(1, 4), dtype=float32)\n",
      "[0.7, 0.0, 0.7, 0.1]\n"
     ]
    },
    {
     "name": "stderr",
     "output_type": "stream",
     "text": [
      "\r",
      " 49%|██████████████████████████████████▉                                    | 49201/100000 [8:28:50<6:52:13,  2.05it/s]"
     ]
    },
    {
     "name": "stdout",
     "output_type": "stream",
     "text": [
      "tf.Tensor([[9.9983215e-01 2.4385847e-05 1.4336240e-04 9.7844213e-09]], shape=(1, 4), dtype=float32)\n"
     ]
    },
    {
     "name": "stderr",
     "output_type": "stream",
     "text": [
      " 49%|███████████████████████████████████                                    | 49301/100000 [8:29:26<5:50:14,  2.41it/s]"
     ]
    },
    {
     "name": "stdout",
     "output_type": "stream",
     "text": [
      "6.475232839622636\n",
      "100\n"
     ]
    },
    {
     "name": "stderr",
     "output_type": "stream",
     "text": [
      " 49%|███████████████████████████████████                                    | 49401/100000 [8:30:03<5:54:34,  2.38it/s]"
     ]
    },
    {
     "name": "stdout",
     "output_type": "stream",
     "text": [
      "6.502048291875065\n",
      "100\n",
      "[0.2, 0.1, 0.6, 0.2]\n",
      "tf.Tensor([[8.9363277e-07 6.2911363e-06 3.0264095e-04 9.9969018e-01]], shape=(1, 4), dtype=float32)\n",
      "[0.6, 0.1, 0.6, 0.2]\n",
      "tf.Tensor([[7.8349456e-07 6.0880134e-06 4.3929828e-04 9.9955374e-01]], shape=(1, 4), dtype=float32)\n",
      "[0.6, 0.5, 0.6, 0.2]\n",
      "tf.Tensor([[2.1346027e-03 1.3156928e-03 9.9614644e-01 4.0326195e-04]], shape=(1, 4), dtype=float32)\n"
     ]
    },
    {
     "name": "stderr",
     "output_type": "stream",
     "text": [
      " 50%|███████████████████████████████████▏                                   | 49501/100000 [8:30:42<5:35:05,  2.51it/s]"
     ]
    },
    {
     "name": "stdout",
     "output_type": "stream",
     "text": [
      "6.162492829141301\n",
      "100\n"
     ]
    },
    {
     "name": "stderr",
     "output_type": "stream",
     "text": [
      " 50%|███████████████████████████████████▏                                   | 49600/100000 [8:31:18<6:01:49,  2.32it/s]"
     ]
    },
    {
     "name": "stdout",
     "output_type": "stream",
     "text": [
      "6.230681388702182\n",
      "100\n",
      "[0.0, 0.8, 0.7, 0.1]\n",
      "tf.Tensor([[7.3273878e-07 5.4694251e-06 2.7638272e-04 9.9971741e-01]], shape=(1, 4), dtype=float32)\n",
      "[0.4, 0.8, 0.7, 0.1]\n",
      "tf.Tensor([[5.7198724e-07 5.6384720e-06 4.5332115e-04 9.9954057e-01]], shape=(1, 4), dtype=float32)\n",
      "[0.4, 0.4, 0.7, 0.1]\n",
      "tf.Tensor([[3.9637578e-03 1.6924690e-03 9.9412090e-01 2.2292991e-04]], shape=(1, 4), dtype=float32)\n",
      "[0.7, 0.4, 0.7, 0.1]\n",
      "tf.Tensor([[9.99880195e-01 1.78532591e-05 1.01854064e-04 4.75633044e-09]], shape=(1, 4), dtype=float32)\n",
      "[0.7, 0.3, 0.7, 0.1]\n",
      "tf.Tensor([[9.9988186e-01 1.7262597e-05 1.0079574e-04 4.5350510e-09]], shape=(1, 4), dtype=float32)\n",
      "[0.7, 0.2, 0.7, 0.1]\n"
     ]
    },
    {
     "name": "stderr",
     "output_type": "stream",
     "text": [
      "\r",
      " 50%|███████████████████████████████████▏                                   | 49601/100000 [8:31:19<5:34:51,  2.51it/s]"
     ]
    },
    {
     "name": "stdout",
     "output_type": "stream",
     "text": [
      "tf.Tensor([[9.9988759e-01 1.6716203e-05 9.5754032e-05 4.6431898e-09]], shape=(1, 4), dtype=float32)\n"
     ]
    },
    {
     "name": "stderr",
     "output_type": "stream",
     "text": [
      " 50%|███████████████████████████████████▎                                   | 49701/100000 [8:31:55<6:25:17,  2.18it/s]"
     ]
    },
    {
     "name": "stdout",
     "output_type": "stream",
     "text": [
      "6.149583468983778\n",
      "100\n"
     ]
    },
    {
     "name": "stderr",
     "output_type": "stream",
     "text": [
      " 50%|███████████████████████████████████▎                                   | 49801/100000 [8:32:31<5:06:52,  2.73it/s]"
     ]
    },
    {
     "name": "stdout",
     "output_type": "stream",
     "text": [
      "6.656043317656299\n",
      "100\n",
      "[0.9, 0.9, 0.6, 0.2]\n",
      "tf.Tensor([[4.1658117e-07 3.6893869e-06 2.1284711e-04 9.9978310e-01]], shape=(1, 4), dtype=float32)\n",
      "[0.9, 0.5, 0.6, 0.2]\n",
      "tf.Tensor([[4.2554115e-07 5.7591005e-06 6.3968194e-04 9.9935406e-01]], shape=(1, 4), dtype=float32)\n",
      "[0.5, 0.5, 0.6, 0.2]\n",
      "tf.Tensor([[6.3469163e-03 1.8620524e-03 9.9170011e-01 9.0967238e-05]], shape=(1, 4), dtype=float32)\n",
      "[0.5, 0.2, 0.6, 0.2]\n",
      "tf.Tensor([[9.9982196e-01 2.1153908e-05 1.5701079e-04 6.4093264e-09]], shape=(1, 4), dtype=float32)\n"
     ]
    },
    {
     "name": "stderr",
     "output_type": "stream",
     "text": [
      " 50%|███████████████████████████████████▍                                   | 49901/100000 [8:33:09<6:21:51,  2.19it/s]"
     ]
    },
    {
     "name": "stdout",
     "output_type": "stream",
     "text": [
      "6.211730325705947\n",
      "100\n"
     ]
    },
    {
     "name": "stderr",
     "output_type": "stream",
     "text": [
      " 50%|███████████████████████████████████▌                                   | 50001/100000 [8:33:46<5:38:24,  2.46it/s]"
     ]
    },
    {
     "name": "stdout",
     "output_type": "stream",
     "text": [
      "6.3400077197475\n",
      "100\n",
      "[0.8, 0.3, 0.7, 0.1]\n",
      "tf.Tensor([[5.7102710e-07 4.9417363e-06 2.3425823e-04 9.9976021e-01]], shape=(1, 4), dtype=float32)\n",
      "[0.8, 0.0, 0.7, 0.1]\n",
      "tf.Tensor([[7.7222296e-07 7.5474777e-06 5.4729730e-04 9.9944431e-01]], shape=(1, 4), dtype=float32)\n",
      "[0.8, 0.4, 0.7, 0.1]\n",
      "tf.Tensor([[1.3149653e-02 3.7670508e-03 9.8295975e-01 1.2350931e-04]], shape=(1, 4), dtype=float32)\n",
      "[0.8, 0.1, 0.7, 0.1]\n",
      "tf.Tensor([[9.9989176e-01 2.3854969e-05 8.4368672e-05 4.4155479e-09]], shape=(1, 4), dtype=float32)\n"
     ]
    },
    {
     "name": "stderr",
     "output_type": "stream",
     "text": [
      " 50%|███████████████████████████████████▌                                   | 50101/100000 [8:34:23<5:55:55,  2.34it/s]"
     ]
    },
    {
     "name": "stdout",
     "output_type": "stream",
     "text": [
      "6.315172989401836\n",
      "100\n"
     ]
    },
    {
     "name": "stderr",
     "output_type": "stream",
     "text": [
      " 50%|███████████████████████████████████▋                                   | 50200/100000 [8:35:00<4:33:25,  3.04it/s]"
     ]
    },
    {
     "name": "stdout",
     "output_type": "stream",
     "text": [
      "6.460225700216865\n",
      "100\n",
      "[0.8, 0.0, 0.7, 0.1]\n",
      "tf.Tensor([[7.4255746e-07 6.0573329e-06 2.4940603e-04 9.9974376e-01]], shape=(1, 4), dtype=float32)\n",
      "[0.8, 0.4, 0.7, 0.1]\n",
      "tf.Tensor([[7.564311e-07 8.109995e-06 5.529039e-04 9.994382e-01]], shape=(1, 4), dtype=float32)\n",
      "[0.8, 0.0, 0.7, 0.1]\n",
      "tf.Tensor([[6.8663076e-02 8.5842693e-03 9.2262530e-01 1.2740694e-04]], shape=(1, 4), dtype=float32)\n",
      "[0.8, 0.3, 0.7, 0.1]\n",
      "tf.Tensor([[9.9991226e-01 2.8802933e-05 5.8894027e-05 4.5132533e-09]], shape=(1, 4), dtype=float32)\n",
      "[0.8, 0.2, 0.7, 0.1]\n",
      "tf.Tensor([[9.9991632e-01 2.8873677e-05 5.4799610e-05 3.7911438e-09]], shape=(1, 4), dtype=float32)\n"
     ]
    },
    {
     "name": "stderr",
     "output_type": "stream",
     "text": [
      "\r",
      " 50%|███████████████████████████████████▋                                   | 50201/100000 [8:35:00<5:39:35,  2.44it/s]"
     ]
    },
    {
     "name": "stdout",
     "output_type": "stream",
     "text": [
      "[0.7, 0.2, 0.7, 0.1]\n",
      "tf.Tensor([[9.9990654e-01 3.0446605e-05 6.3005362e-05 4.8476418e-09]], shape=(1, 4), dtype=float32)\n"
     ]
    },
    {
     "name": "stderr",
     "output_type": "stream",
     "text": [
      " 50%|███████████████████████████████████▋                                   | 50301/100000 [8:35:36<4:51:04,  2.85it/s]"
     ]
    },
    {
     "name": "stdout",
     "output_type": "stream",
     "text": [
      "6.7731755617002385\n",
      "100\n"
     ]
    },
    {
     "name": "stderr",
     "output_type": "stream",
     "text": [
      " 50%|███████████████████████████████████▊                                   | 50401/100000 [8:36:13<5:21:15,  2.57it/s]"
     ]
    },
    {
     "name": "stdout",
     "output_type": "stream",
     "text": [
      "6.554407249661482\n",
      "100\n",
      "[0.6, 0.4, 0.7, 0.4]\n",
      "tf.Tensor([[7.3083402e-07 6.4463256e-06 2.2040316e-04 9.9977249e-01]], shape=(1, 4), dtype=float32)\n",
      "[1.0, 0.4, 0.7, 0.4]\n",
      "tf.Tensor([[6.3887347e-07 9.3161043e-06 5.7931134e-04 9.9941075e-01]], shape=(1, 4), dtype=float32)\n",
      "[0.6, 0.4, 0.7, 0.4]\n",
      "tf.Tensor([[1.3967283e-01 2.4608256e-02 8.3552170e-01 1.9725457e-04]], shape=(1, 4), dtype=float32)\n",
      "[0.9, 0.4, 0.7, 0.4]\n",
      "tf.Tensor([[9.9992454e-01 3.9095998e-05 3.6383310e-05 4.9822457e-09]], shape=(1, 4), dtype=float32)\n",
      "[0.8, 0.4, 0.7, 0.4]\n",
      "tf.Tensor([[9.999212e-01 4.035164e-05 3.842292e-05 5.284753e-09]], shape=(1, 4), dtype=float32)\n"
     ]
    },
    {
     "name": "stderr",
     "output_type": "stream",
     "text": [
      " 51%|███████████████████████████████████▊                                   | 50501/100000 [8:36:51<5:58:56,  2.30it/s]"
     ]
    },
    {
     "name": "stdout",
     "output_type": "stream",
     "text": [
      "6.295185166860866\n",
      "100\n"
     ]
    },
    {
     "name": "stderr",
     "output_type": "stream",
     "text": [
      " 51%|███████████████████████████████████▉                                   | 50600/100000 [8:37:29<4:56:59,  2.77it/s]"
     ]
    },
    {
     "name": "stdout",
     "output_type": "stream",
     "text": [
      "6.4624071902959255\n",
      "100\n",
      "[0.5, 0.4, 0.7, 0.1]\n",
      "tf.Tensor([[6.809802e-07 5.998953e-06 2.077222e-04 9.997856e-01]], shape=(1, 4), dtype=float32)\n",
      "[0.5, 0.0, 0.7, 0.1]\n",
      "tf.Tensor([[8.0508846e-07 7.5403091e-06 3.7047564e-04 9.9962115e-01]], shape=(1, 4), dtype=float32)\n",
      "[0.9, 0.0, 0.7, 0.1]\n",
      "tf.Tensor([[1.1388345e-02 8.4971748e-03 9.7965389e-01 4.6062178e-04]], shape=(1, 4), dtype=float32)\n",
      "[0.6, 0.0, 0.7, 0.1]\n",
      "tf.Tensor([[9.9986959e-01 4.7332032e-05 8.3062303e-05 1.3024274e-08]], shape=(1, 4), dtype=float32)\n",
      "[0.6, 0.1, 0.7, 0.1]\n"
     ]
    },
    {
     "name": "stderr",
     "output_type": "stream",
     "text": [
      "\r",
      " 51%|███████████████████████████████████▉                                   | 50601/100000 [8:37:29<5:39:51,  2.42it/s]"
     ]
    },
    {
     "name": "stdout",
     "output_type": "stream",
     "text": [
      "tf.Tensor([[9.9988067e-01 4.4562672e-05 7.4740325e-05 1.2620257e-08]], shape=(1, 4), dtype=float32)\n"
     ]
    },
    {
     "name": "stderr",
     "output_type": "stream",
     "text": [
      " 51%|███████████████████████████████████▉                                   | 50701/100000 [8:38:06<5:11:20,  2.64it/s]"
     ]
    },
    {
     "name": "stdout",
     "output_type": "stream",
     "text": [
      "6.506206210999808\n",
      "100\n"
     ]
    },
    {
     "name": "stderr",
     "output_type": "stream",
     "text": [
      " 51%|████████████████████████████████████                                   | 50801/100000 [8:38:44<5:45:30,  2.37it/s]"
     ]
    },
    {
     "name": "stdout",
     "output_type": "stream",
     "text": [
      "6.365168125158617\n",
      "100\n",
      "[0.6, 0.8, 0.2, 0.9]\n",
      "tf.Tensor([[4.6394192e-07 4.4595440e-06 1.8855601e-04 9.9980658e-01]], shape=(1, 4), dtype=float32)\n",
      "[0.2, 0.8, 0.2, 0.9]\n",
      "tf.Tensor([[6.4700896e-07 7.5786888e-06 4.8524429e-04 9.9950647e-01]], shape=(1, 4), dtype=float32)\n",
      "[0.2, 1.0, 0.2, 0.9]\n",
      "tf.Tensor([[7.2567100e-03 6.7818821e-03 9.8555344e-01 4.0806789e-04]], shape=(1, 4), dtype=float32)\n",
      "[0.2, 0.7, 0.2, 0.9]\n",
      "tf.Tensor([[9.9987340e-01 4.2670246e-05 8.3886705e-05 1.0952048e-08]], shape=(1, 4), dtype=float32)\n",
      "[0.2, 0.8, 0.2, 0.9]\n",
      "tf.Tensor([[9.9986410e-01 4.4826927e-05 9.1023721e-05 1.1439383e-08]], shape=(1, 4), dtype=float32)\n"
     ]
    },
    {
     "name": "stderr",
     "output_type": "stream",
     "text": [
      " 51%|████████████████████████████████████▏                                  | 50901/100000 [8:39:21<6:00:47,  2.27it/s]"
     ]
    },
    {
     "name": "stdout",
     "output_type": "stream",
     "text": [
      "6.3522017211830395\n",
      "100\n"
     ]
    },
    {
     "name": "stderr",
     "output_type": "stream",
     "text": [
      " 51%|████████████████████████████████████▏                                  | 51001/100000 [8:39:59<5:43:00,  2.38it/s]"
     ]
    },
    {
     "name": "stdout",
     "output_type": "stream",
     "text": [
      "6.295503998146363\n",
      "100\n",
      "[0.6, 0.7, 0.6, 0.2]\n",
      "tf.Tensor([[5.0148799e-07 4.9591340e-06 1.9880995e-04 9.9979573e-01]], shape=(1, 4), dtype=float32)\n",
      "[0.6, 0.3, 0.6, 0.2]\n",
      "tf.Tensor([[4.8562833e-07 5.6061594e-06 3.2706239e-04 9.9966681e-01]], shape=(1, 4), dtype=float32)\n",
      "[0.6, 0.0, 0.6, 0.2]\n",
      "tf.Tensor([[4.1048201e-03 4.8288014e-03 9.9049687e-01 5.6950608e-04]], shape=(1, 4), dtype=float32)\n",
      "[0.6, 0.3, 0.6, 0.2]\n",
      "tf.Tensor([[9.998759e-01 4.187466e-05 8.224134e-05 9.187476e-09]], shape=(1, 4), dtype=float32)\n"
     ]
    },
    {
     "name": "stderr",
     "output_type": "stream",
     "text": [
      " 51%|████████████████████████████████████▎                                  | 51101/100000 [8:40:36<5:42:26,  2.38it/s]"
     ]
    },
    {
     "name": "stdout",
     "output_type": "stream",
     "text": [
      "6.128131700327737\n",
      "100\n"
     ]
    },
    {
     "name": "stderr",
     "output_type": "stream",
     "text": [
      " 51%|████████████████████████████████████▎                                  | 51200/100000 [8:41:12<4:47:15,  2.83it/s]"
     ]
    },
    {
     "name": "stdout",
     "output_type": "stream",
     "text": [
      "6.386016653692592\n",
      "100\n",
      "[0.6, 0.9, 0.7, 0.1]\n",
      "tf.Tensor([[5.0251697e-07 5.0990629e-06 2.1466966e-04 9.9977976e-01]], shape=(1, 4), dtype=float32)\n",
      "[0.6, 0.5, 0.7, 0.1]\n",
      "tf.Tensor([[5.3508001e-07 6.8719824e-06 4.5054281e-04 9.9954212e-01]], shape=(1, 4), dtype=float32)\n",
      "[0.6, 0.1, 0.7, 0.1]\n",
      "tf.Tensor([[8.4812669e-03 6.7453571e-03 9.8441249e-01 3.6086928e-04]], shape=(1, 4), dtype=float32)\n",
      "[0.9, 0.1, 0.7, 0.1]\n",
      "tf.Tensor([[9.9993563e-01 2.6931742e-05 3.7392449e-05 3.9376200e-09]], shape=(1, 4), dtype=float32)\n",
      "[0.8, 0.1, 0.7, 0.1]\n",
      "tf.Tensor([[9.9993479e-01 2.7085029e-05 3.8155526e-05 4.6326871e-09]], shape=(1, 4), dtype=float32)\n"
     ]
    },
    {
     "name": "stderr",
     "output_type": "stream",
     "text": [
      " 51%|████████████████████████████████████▍                                  | 51301/100000 [8:41:48<4:24:22,  3.07it/s]"
     ]
    },
    {
     "name": "stdout",
     "output_type": "stream",
     "text": [
      "6.966751181656879\n",
      "100\n"
     ]
    },
    {
     "name": "stderr",
     "output_type": "stream",
     "text": [
      " 51%|████████████████████████████████████▍                                  | 51401/100000 [8:42:24<6:04:15,  2.22it/s]"
     ]
    },
    {
     "name": "stdout",
     "output_type": "stream",
     "text": [
      "6.471559825389622\n",
      "100\n",
      "[0.8, 0.6, 0.6, 0.2]\n",
      "tf.Tensor([[6.4685008e-07 6.1889946e-06 3.0711142e-04 9.9968612e-01]], shape=(1, 4), dtype=float32)\n",
      "[0.8, 0.2, 0.6, 0.2]\n",
      "tf.Tensor([[5.8327100e-07 7.2364710e-06 5.9821748e-04 9.9939394e-01]], shape=(1, 4), dtype=float32)\n",
      "[0.4, 0.2, 0.6, 0.2]\n",
      "tf.Tensor([[9.5681744e-03 6.6366815e-03 9.8345876e-01 3.3640908e-04]], shape=(1, 4), dtype=float32)\n",
      "[0.7, 0.2, 0.6, 0.2]\n",
      "tf.Tensor([[9.9993360e-01 2.7838874e-05 3.8520993e-05 4.6689275e-09]], shape=(1, 4), dtype=float32)\n"
     ]
    },
    {
     "name": "stderr",
     "output_type": "stream",
     "text": [
      " 52%|████████████████████████████████████▌                                  | 51501/100000 [8:43:01<5:02:59,  2.67it/s]"
     ]
    },
    {
     "name": "stdout",
     "output_type": "stream",
     "text": [
      "6.186858725682173\n",
      "100\n"
     ]
    },
    {
     "name": "stderr",
     "output_type": "stream",
     "text": [
      " 52%|████████████████████████████████████▋                                  | 51601/100000 [8:43:37<5:46:45,  2.33it/s]"
     ]
    },
    {
     "name": "stdout",
     "output_type": "stream",
     "text": [
      "6.428192886996565\n",
      "100\n",
      "[0.1, 0.5, 0.2, 0.9]\n",
      "tf.Tensor([[8.6429941e-07 7.7096711e-06 2.8602662e-04 9.9970537e-01]], shape=(1, 4), dtype=float32)\n",
      "[0.1, 0.9, 0.2, 0.9]\n",
      "tf.Tensor([[6.6705257e-07 6.5319964e-06 3.2944264e-04 9.9966347e-01]], shape=(1, 4), dtype=float32)\n",
      "[0.5, 0.9, 0.2, 0.9]\n",
      "tf.Tensor([[0.00109412 0.00418469 0.99222445 0.00249665]], shape=(1, 4), dtype=float32)\n"
     ]
    },
    {
     "name": "stderr",
     "output_type": "stream",
     "text": [
      " 52%|████████████████████████████████████▋                                  | 51701/100000 [8:44:14<5:35:08,  2.40it/s]"
     ]
    },
    {
     "name": "stdout",
     "output_type": "stream",
     "text": [
      "6.270511623298329\n",
      "100\n"
     ]
    },
    {
     "name": "stderr",
     "output_type": "stream",
     "text": [
      " 52%|████████████████████████████████████▊                                  | 51801/100000 [8:44:50<4:33:28,  2.94it/s]"
     ]
    },
    {
     "name": "stdout",
     "output_type": "stream",
     "text": [
      "6.595128259622792\n",
      "100\n",
      "[0.2, 0.5, 0.2, 0.9]\n",
      "tf.Tensor([[7.7039988e-07 7.5186099e-06 3.4171378e-04 9.9964988e-01]], shape=(1, 4), dtype=float32)\n"
     ]
    },
    {
     "name": "stderr",
     "output_type": "stream",
     "text": [
      " 52%|████████████████████████████████████▊                                  | 51901/100000 [8:45:27<5:40:16,  2.36it/s]"
     ]
    },
    {
     "name": "stdout",
     "output_type": "stream",
     "text": [
      "6.384283945050227\n",
      "100\n"
     ]
    },
    {
     "name": "stderr",
     "output_type": "stream",
     "text": [
      " 52%|████████████████████████████████████▉                                  | 52000/100000 [8:46:03<5:10:26,  2.58it/s]"
     ]
    },
    {
     "name": "stdout",
     "output_type": "stream",
     "text": [
      "6.302487023458134\n",
      "100\n",
      "[0.3, 0.7, 0.7, 0.4]\n",
      "tf.Tensor([[6.0096198e-07 5.7783177e-06 2.9345322e-04 9.9970019e-01]], shape=(1, 4), dtype=float32)\n",
      "[0.7, 0.7, 0.7, 0.4]\n",
      "tf.Tensor([[5.424617e-07 7.906516e-06 6.736999e-04 9.993179e-01]], shape=(1, 4), dtype=float32)\n",
      "[0.7, 0.3, 0.7, 0.4]\n",
      "tf.Tensor([[1.5380715e-02 6.5936311e-03 9.7790295e-01 1.2278349e-04]], shape=(1, 4), dtype=float32)\n",
      "[0.7, 0.6, 0.7, 0.4]\n",
      "tf.Tensor([[9.9990654e-01 3.2786720e-05 6.0626109e-05 4.0926174e-09]], shape=(1, 4), dtype=float32)\n",
      "[0.7, 0.5, 0.7, 0.4]\n",
      "tf.Tensor([[9.9990356e-01 3.3345616e-05 6.3097956e-05 4.0529797e-09]], shape=(1, 4), dtype=float32)\n"
     ]
    },
    {
     "name": "stderr",
     "output_type": "stream",
     "text": [
      " 52%|████████████████████████████████████▉                                  | 52101/100000 [8:46:39<5:24:28,  2.46it/s]"
     ]
    },
    {
     "name": "stdout",
     "output_type": "stream",
     "text": [
      "6.3368206380415355\n",
      "100\n"
     ]
    },
    {
     "name": "stderr",
     "output_type": "stream",
     "text": [
      " 52%|█████████████████████████████████████                                  | 52201/100000 [8:47:16<6:04:54,  2.18it/s]"
     ]
    },
    {
     "name": "stdout",
     "output_type": "stream",
     "text": [
      "6.2216031053920835\n",
      "100\n",
      "[0.3, 0.8, 0.7, 0.4]\n",
      "tf.Tensor([[4.9792783e-07 5.2802911e-06 2.7365933e-04 9.9972063e-01]], shape=(1, 4), dtype=float32)\n",
      "[0.3, 0.4, 0.7, 0.4]\n",
      "tf.Tensor([[5.0824445e-07 5.9090321e-06 4.4299595e-04 9.9955052e-01]], shape=(1, 4), dtype=float32)\n"
     ]
    },
    {
     "name": "stderr",
     "output_type": "stream",
     "text": [
      " 52%|█████████████████████████████████████▏                                 | 52301/100000 [8:47:54<5:37:54,  2.35it/s]"
     ]
    },
    {
     "name": "stdout",
     "output_type": "stream",
     "text": [
      "6.071378332356882\n",
      "100\n"
     ]
    },
    {
     "name": "stderr",
     "output_type": "stream",
     "text": [
      " 52%|█████████████████████████████████████▏                                 | 52401/100000 [8:48:31<5:32:33,  2.39it/s]"
     ]
    },
    {
     "name": "stdout",
     "output_type": "stream",
     "text": [
      "6.246646997716867\n",
      "100\n",
      "[0.7, 0.0, 0.6, 0.2]\n",
      "tf.Tensor([[5.5925494e-07 5.4370130e-06 2.8737000e-04 9.9970669e-01]], shape=(1, 4), dtype=float32)\n",
      "[0.7, 0.4, 0.6, 0.2]\n",
      "tf.Tensor([[4.5713995e-07 5.4389034e-06 4.4531174e-04 9.9954885e-01]], shape=(1, 4), dtype=float32)\n",
      "[0.7, 0.0, 0.6, 0.2]\n",
      "tf.Tensor([[3.1997673e-03 2.7732737e-03 9.9381554e-01 2.1152338e-04]], shape=(1, 4), dtype=float32)\n",
      "[0.7, 0.3, 0.6, 0.2]\n",
      "tf.Tensor([[9.9986506e-01 3.5644280e-05 9.9251731e-05 6.1009864e-09]], shape=(1, 4), dtype=float32)\n",
      "[0.7, 0.2, 0.6, 0.2]\n",
      "tf.Tensor([[9.9986982e-01 3.6151872e-05 9.4021918e-05 5.1307736e-09]], shape=(1, 4), dtype=float32)\n"
     ]
    },
    {
     "name": "stderr",
     "output_type": "stream",
     "text": [
      " 53%|█████████████████████████████████████▎                                 | 52501/100000 [8:49:08<4:54:12,  2.69it/s]"
     ]
    },
    {
     "name": "stdout",
     "output_type": "stream",
     "text": [
      "6.555966688301653\n",
      "100\n"
     ]
    },
    {
     "name": "stderr",
     "output_type": "stream",
     "text": [
      " 53%|█████████████████████████████████████▎                                 | 52600/100000 [8:49:44<5:01:01,  2.62it/s]"
     ]
    },
    {
     "name": "stdout",
     "output_type": "stream",
     "text": [
      "6.357668764776273\n",
      "100\n",
      "[0.0, 0.1, 0.5, 0.7]\n",
      "tf.Tensor([[8.8917551e-07 8.0613690e-06 4.2887926e-04 9.9956220e-01]], shape=(1, 4), dtype=float32)\n",
      "[0.0, 0.5, 0.5, 0.7]\n",
      "tf.Tensor([[9.044805e-07 9.475589e-06 7.181089e-04 9.992716e-01]], shape=(1, 4), dtype=float32)\n",
      "[0.4, 0.5, 0.5, 0.7]\n",
      "tf.Tensor([[2.5001336e-03 2.3358141e-03 9.9490052e-01 2.6354080e-04]], shape=(1, 4), dtype=float32)\n",
      "[0.4, 0.8, 0.5, 0.7]\n",
      "tf.Tensor([[9.9984515e-01 3.8890383e-05 1.1599268e-04 6.4548438e-09]], shape=(1, 4), dtype=float32)\n",
      "[0.5, 0.8, 0.5, 0.7]\n"
     ]
    },
    {
     "name": "stderr",
     "output_type": "stream",
     "text": [
      "\r",
      " 53%|█████████████████████████████████████▎                                 | 52601/100000 [8:49:45<5:33:54,  2.37it/s]"
     ]
    },
    {
     "name": "stdout",
     "output_type": "stream",
     "text": [
      "tf.Tensor([[9.9988139e-01 3.1960044e-05 8.6690277e-05 4.6000119e-09]], shape=(1, 4), dtype=float32)\n"
     ]
    },
    {
     "name": "stderr",
     "output_type": "stream",
     "text": [
      " 53%|█████████████████████████████████████▍                                 | 52701/100000 [8:50:22<6:12:10,  2.12it/s]"
     ]
    },
    {
     "name": "stdout",
     "output_type": "stream",
     "text": [
      "5.992492133383163\n",
      "100\n"
     ]
    },
    {
     "name": "stderr",
     "output_type": "stream",
     "text": [
      " 53%|█████████████████████████████████████▍                                 | 52800/100000 [8:50:59<5:19:04,  2.47it/s]"
     ]
    },
    {
     "name": "stdout",
     "output_type": "stream",
     "text": [
      "6.216007059043776\n",
      "100\n",
      "[0.1, 0.4, 0.5, 0.7]\n",
      "tf.Tensor([[7.9141665e-07 6.9268663e-06 2.7160349e-04 9.9972063e-01]], shape=(1, 4), dtype=float32)\n",
      "[0.5, 0.4, 0.5, 0.7]\n",
      "tf.Tensor([[8.8855489e-07 9.4259976e-06 5.7908584e-04 9.9941051e-01]], shape=(1, 4), dtype=float32)\n",
      "[0.5, 0.8, 0.5, 0.7]\n",
      "tf.Tensor([[1.40444532e-01 1.63661838e-02 8.43086541e-01 1.02803264e-04]], shape=(1, 4), dtype=float32)\n",
      "[0.5, 0.5, 0.5, 0.7]\n",
      "tf.Tensor([[9.9994445e-01 2.5844249e-05 2.9672909e-05 3.1677323e-09]], shape=(1, 4), dtype=float32)\n",
      "[0.5, 0.6, 0.5, 0.7]\n"
     ]
    },
    {
     "name": "stderr",
     "output_type": "stream",
     "text": [
      "\r",
      " 53%|█████████████████████████████████████▍                                 | 52801/100000 [8:51:00<6:03:57,  2.16it/s]"
     ]
    },
    {
     "name": "stdout",
     "output_type": "stream",
     "text": [
      "tf.Tensor([[9.9995232e-01 2.2564536e-05 2.5185816e-05 2.4621725e-09]], shape=(1, 4), dtype=float32)\n"
     ]
    },
    {
     "name": "stderr",
     "output_type": "stream",
     "text": [
      " 53%|█████████████████████████████████████▌                                 | 52901/100000 [8:51:39<5:57:35,  2.20it/s]"
     ]
    },
    {
     "name": "stdout",
     "output_type": "stream",
     "text": [
      "6.098522732724113\n",
      "100\n"
     ]
    },
    {
     "name": "stderr",
     "output_type": "stream",
     "text": [
      " 53%|█████████████████████████████████████▋                                 | 53000/100000 [8:52:14<4:58:57,  2.62it/s]"
     ]
    },
    {
     "name": "stdout",
     "output_type": "stream",
     "text": [
      "6.488789627339543\n",
      "100\n",
      "[0.1, 0.0, 0.1, 0.1]\n",
      "tf.Tensor([[9.1769414e-07 7.7257582e-06 2.8801488e-04 9.9970323e-01]], shape=(1, 4), dtype=float32)\n",
      "[0.1, 0.4, 0.1, 0.1]\n",
      "tf.Tensor([[8.3406292e-07 8.2008446e-06 4.1158119e-04 9.9957937e-01]], shape=(1, 4), dtype=float32)\n",
      "[0.1, 0.0, 0.1, 0.1]\n",
      "tf.Tensor([[1.7353417e-02 8.0351355e-03 9.7421592e-01 3.9551075e-04]], shape=(1, 4), dtype=float32)\n",
      "[0.1, 0.3, 0.1, 0.1]\n",
      "tf.Tensor([[9.9992836e-01 3.5543544e-05 3.6087091e-05 4.6992255e-09]], shape=(1, 4), dtype=float32)\n"
     ]
    },
    {
     "name": "stderr",
     "output_type": "stream",
     "text": [
      "\r",
      " 53%|█████████████████████████████████████▋                                 | 53001/100000 [8:52:14<5:33:08,  2.35it/s]"
     ]
    },
    {
     "name": "stdout",
     "output_type": "stream",
     "text": [
      "[0.1, 0.2, 0.1, 0.1]\n",
      "tf.Tensor([[9.9992931e-01 3.5217403e-05 3.5478522e-05 4.3998662e-09]], shape=(1, 4), dtype=float32)\n"
     ]
    },
    {
     "name": "stderr",
     "output_type": "stream",
     "text": [
      " 53%|█████████████████████████████████████▋                                 | 53101/100000 [8:52:51<5:29:01,  2.38it/s]"
     ]
    },
    {
     "name": "stdout",
     "output_type": "stream",
     "text": [
      "6.295451237892081\n",
      "100\n"
     ]
    },
    {
     "name": "stderr",
     "output_type": "stream",
     "text": [
      " 53%|█████████████████████████████████████▊                                 | 53200/100000 [8:53:26<5:14:29,  2.48it/s]"
     ]
    },
    {
     "name": "stdout",
     "output_type": "stream",
     "text": [
      "6.45355008270522\n",
      "100\n",
      "[0.1, 0.9, 0.6, 0.2]\n",
      "tf.Tensor([[5.2095032e-07 5.5446808e-06 2.4175078e-04 9.9975222e-01]], shape=(1, 4), dtype=float32)\n",
      "[0.1, 0.5, 0.6, 0.2]\n",
      "tf.Tensor([[5.9693059e-07 7.1347263e-06 4.3685772e-04 9.9955541e-01]], shape=(1, 4), dtype=float32)\n",
      "[0.5, 0.5, 0.6, 0.2]\n",
      "tf.Tensor([[4.9823299e-03 5.7073929e-03 9.8914576e-01 1.6449647e-04]], shape=(1, 4), dtype=float32)\n",
      "[0.5, 0.2, 0.6, 0.2]\n"
     ]
    },
    {
     "name": "stderr",
     "output_type": "stream",
     "text": [
      "\r",
      " 53%|█████████████████████████████████████▊                                 | 53201/100000 [8:53:27<5:54:22,  2.20it/s]"
     ]
    },
    {
     "name": "stdout",
     "output_type": "stream",
     "text": [
      "tf.Tensor([[9.998833e-01 4.643467e-05 7.019194e-05 4.158746e-09]], shape=(1, 4), dtype=float32)\n"
     ]
    },
    {
     "name": "stderr",
     "output_type": "stream",
     "text": [
      " 53%|█████████████████████████████████████▊                                 | 53301/100000 [8:54:03<5:19:54,  2.43it/s]"
     ]
    },
    {
     "name": "stdout",
     "output_type": "stream",
     "text": [
      "6.376133868424112\n",
      "100\n"
     ]
    },
    {
     "name": "stderr",
     "output_type": "stream",
     "text": [
      " 53%|█████████████████████████████████████▉                                 | 53400/100000 [8:54:39<4:45:31,  2.72it/s]"
     ]
    },
    {
     "name": "stdout",
     "output_type": "stream",
     "text": [
      "6.4103250408181225\n",
      "100\n",
      "[0.3, 0.2, 0.7, 0.1]\n",
      "tf.Tensor([[5.8978941e-07 5.4794182e-06 2.6682887e-04 9.9972707e-01]], shape=(1, 4), dtype=float32)\n",
      "[0.7, 0.2, 0.7, 0.1]\n",
      "tf.Tensor([[4.5541367e-07 5.2649734e-06 4.1977610e-04 9.9957448e-01]], shape=(1, 4), dtype=float32)\n",
      "[0.7, 0.0, 0.7, 0.1]\n",
      "tf.Tensor([[1.7727682e-02 5.2893138e-03 9.7689009e-01 9.2876078e-05]], shape=(1, 4), dtype=float32)\n",
      "[0.7, 0.3, 0.7, 0.1]\n",
      "tf.Tensor([[9.9991643e-01 2.9867833e-05 5.3679920e-05 2.8851299e-09]], shape=(1, 4), dtype=float32)\n",
      "[0.7, 0.2, 0.7, 0.1]\n"
     ]
    },
    {
     "name": "stderr",
     "output_type": "stream",
     "text": [
      "\r",
      " 53%|█████████████████████████████████████▉                                 | 53401/100000 [8:54:39<5:57:09,  2.17it/s]"
     ]
    },
    {
     "name": "stdout",
     "output_type": "stream",
     "text": [
      "tf.Tensor([[9.9991715e-01 2.9098190e-05 5.3707256e-05 2.7900258e-09]], shape=(1, 4), dtype=float32)\n"
     ]
    },
    {
     "name": "stderr",
     "output_type": "stream",
     "text": [
      " 54%|█████████████████████████████████████▉                                 | 53501/100000 [8:55:16<4:40:24,  2.76it/s]"
     ]
    },
    {
     "name": "stdout",
     "output_type": "stream",
     "text": [
      "6.499608166263984\n",
      "100\n"
     ]
    },
    {
     "name": "stderr",
     "output_type": "stream",
     "text": [
      " 54%|██████████████████████████████████████                                 | 53601/100000 [8:55:52<5:44:43,  2.24it/s]"
     ]
    },
    {
     "name": "stdout",
     "output_type": "stream",
     "text": [
      "6.525490319231525\n",
      "100\n",
      "[0.5, 0.5, 0.6, 0.2]\n",
      "tf.Tensor([[4.1466754e-07 4.3830487e-06 2.5016264e-04 9.9974507e-01]], shape=(1, 4), dtype=float32)\n",
      "[0.5, 0.1, 0.6, 0.2]\n",
      "tf.Tensor([[5.2378908e-07 6.0301245e-06 4.9440772e-04 9.9949908e-01]], shape=(1, 4), dtype=float32)\n",
      "[0.5, 0.5, 0.6, 0.2]\n",
      "tf.Tensor([[7.1058529e-03 3.2975287e-03 9.8953003e-01 6.6689776e-05]], shape=(1, 4), dtype=float32)\n",
      "[0.5, 0.2, 0.6, 0.2]\n",
      "tf.Tensor([[9.9986839e-01 3.5638892e-05 9.5933356e-05 4.0052606e-09]], shape=(1, 4), dtype=float32)\n"
     ]
    },
    {
     "name": "stderr",
     "output_type": "stream",
     "text": [
      " 54%|██████████████████████████████████████▏                                | 53701/100000 [8:56:29<5:27:50,  2.35it/s]"
     ]
    },
    {
     "name": "stdout",
     "output_type": "stream",
     "text": [
      "6.260665111861728\n",
      "100\n"
     ]
    },
    {
     "name": "stderr",
     "output_type": "stream",
     "text": [
      " 54%|██████████████████████████████████████▏                                | 53800/100000 [8:57:03<3:51:43,  3.32it/s]"
     ]
    },
    {
     "name": "stdout",
     "output_type": "stream",
     "text": [
      "6.700936583439452\n",
      "100\n",
      "[0.4, 0.0, 0.5, 0.7]\n",
      "tf.Tensor([[5.4676582e-07 5.2500855e-06 2.8157380e-04 9.9971253e-01]], shape=(1, 4), dtype=float32)\n",
      "[0.4, 0.4, 0.5, 0.7]\n",
      "tf.Tensor([[5.4496167e-07 5.7986063e-06 4.4475490e-04 9.9954885e-01]], shape=(1, 4), dtype=float32)\n",
      "[0.4, 0.8, 0.5, 0.7]\n",
      "tf.Tensor([[3.43517680e-03 2.47020507e-03 9.93975937e-01 1.18772085e-04]], shape=(1, 4), dtype=float32)\n",
      "[0.4, 0.5, 0.5, 0.7]\n"
     ]
    },
    {
     "name": "stderr",
     "output_type": "stream",
     "text": [
      "\r",
      " 54%|██████████████████████████████████████▏                                | 53801/100000 [8:57:03<5:19:26,  2.41it/s]"
     ]
    },
    {
     "name": "stdout",
     "output_type": "stream",
     "text": [
      "tf.Tensor([[9.9985921e-01 3.7391128e-05 1.0334088e-04 4.4722257e-09]], shape=(1, 4), dtype=float32)\n",
      "[0.4, 0.6, 0.5, 0.7]\n",
      "tf.Tensor([[9.9988222e-01 3.3171345e-05 8.4678039e-05 3.2565601e-09]], shape=(1, 4), dtype=float32)\n",
      "[0.5, 0.6, 0.5, 0.7]\n",
      "tf.Tensor([[9.9988627e-01 3.1437979e-05 8.2206592e-05 3.1974554e-09]], shape=(1, 4), dtype=float32)\n"
     ]
    },
    {
     "name": "stderr",
     "output_type": "stream",
     "text": [
      " 54%|██████████████████████████████████████▎                                | 53901/100000 [8:57:41<5:37:19,  2.28it/s]"
     ]
    },
    {
     "name": "stdout",
     "output_type": "stream",
     "text": [
      "6.226435569045472\n",
      "100\n"
     ]
    },
    {
     "name": "stderr",
     "output_type": "stream",
     "text": [
      " 54%|██████████████████████████████████████▎                                | 54000/100000 [8:58:18<5:16:42,  2.42it/s]"
     ]
    },
    {
     "name": "stdout",
     "output_type": "stream",
     "text": [
      "5.978423703784923\n",
      "100\n",
      "[0.8, 0.8, 0.2, 0.9]\n",
      "tf.Tensor([[2.8364349e-07 3.3001381e-06 2.2386550e-04 9.9977261e-01]], shape=(1, 4), dtype=float32)\n",
      "[0.4, 0.8, 0.2, 0.9]\n",
      "tf.Tensor([[5.0769870e-07 1.1239275e-05 1.4357313e-03 9.9855250e-01]], shape=(1, 4), dtype=float32)\n",
      "[0.0, 0.8, 0.2, 0.9]\n"
     ]
    },
    {
     "name": "stderr",
     "output_type": "stream",
     "text": [
      "\r",
      " 54%|██████████████████████████████████████▎                                | 54001/100000 [8:58:18<6:50:11,  1.87it/s]"
     ]
    },
    {
     "name": "stdout",
     "output_type": "stream",
     "text": [
      "tf.Tensor([[3.5421371e-02 6.8038981e-03 9.5773727e-01 3.7405043e-05]], shape=(1, 4), dtype=float32)\n",
      "[0.3, 0.8, 0.2, 0.9]\n",
      "tf.Tensor([[9.9989259e-01 3.0919917e-05 7.6537450e-05 3.0407175e-09]], shape=(1, 4), dtype=float32)\n",
      "[0.3, 0.9, 0.2, 0.9]\n",
      "tf.Tensor([[9.9991262e-01 2.8264518e-05 5.9169506e-05 2.1817681e-09]], shape=(1, 4), dtype=float32)\n"
     ]
    },
    {
     "name": "stderr",
     "output_type": "stream",
     "text": [
      " 54%|██████████████████████████████████████▍                                | 54101/100000 [8:58:55<6:10:02,  2.07it/s]"
     ]
    },
    {
     "name": "stdout",
     "output_type": "stream",
     "text": [
      "6.204620221745529\n",
      "100\n"
     ]
    },
    {
     "name": "stderr",
     "output_type": "stream",
     "text": [
      " 54%|██████████████████████████████████████▍                                | 54200/100000 [8:59:31<3:56:23,  3.23it/s]"
     ]
    },
    {
     "name": "stdout",
     "output_type": "stream",
     "text": [
      "6.692576791358871\n",
      "100\n",
      "[0.5, 0.3, 0.7, 0.1]\n",
      "tf.Tensor([[3.8992209e-07 4.2110541e-06 2.4840722e-04 9.9974698e-01]], shape=(1, 4), dtype=float32)\n",
      "[0.5, 0.0, 0.7, 0.1]\n",
      "tf.Tensor([[4.4090285e-07 5.1087591e-06 4.3572506e-04 9.9955863e-01]], shape=(1, 4), dtype=float32)\n",
      "[0.9, 0.0, 0.7, 0.1]\n",
      "tf.Tensor([[4.2984085e-03 2.5637820e-03 9.9306726e-01 7.0545575e-05]], shape=(1, 4), dtype=float32)\n"
     ]
    },
    {
     "name": "stderr",
     "output_type": "stream",
     "text": [
      "\r",
      " 54%|██████████████████████████████████████▍                                | 54201/100000 [8:59:31<5:04:12,  2.51it/s]"
     ]
    },
    {
     "name": "stdout",
     "output_type": "stream",
     "text": [
      "[0.6, 0.0, 0.7, 0.1]\n",
      "tf.Tensor([[9.9983180e-01 4.1563755e-05 1.2659554e-04 5.2167040e-09]], shape=(1, 4), dtype=float32)\n",
      "[0.7, 0.0, 0.7, 0.1]\n",
      "tf.Tensor([[9.9984622e-01 3.8548238e-05 1.1525193e-04 5.0490288e-09]], shape=(1, 4), dtype=float32)\n"
     ]
    },
    {
     "name": "stderr",
     "output_type": "stream",
     "text": [
      " 54%|██████████████████████████████████████▌                                | 54301/100000 [9:00:08<5:19:07,  2.39it/s]"
     ]
    },
    {
     "name": "stdout",
     "output_type": "stream",
     "text": [
      "6.184849973164708\n",
      "100\n"
     ]
    },
    {
     "name": "stderr",
     "output_type": "stream",
     "text": [
      " 54%|██████████████████████████████████████▌                                | 54400/100000 [9:00:42<3:18:57,  3.82it/s]"
     ]
    },
    {
     "name": "stdout",
     "output_type": "stream",
     "text": [
      "7.1168408176374545\n",
      "100\n",
      "[0.0, 0.5, 0.7, 0.4]\n",
      "tf.Tensor([[5.0508089e-07 5.0678818e-06 2.8500397e-04 9.9970943e-01]], shape=(1, 4), dtype=float32)\n",
      "[0.4, 0.5, 0.7, 0.4]\n",
      "tf.Tensor([[3.9228888e-07 4.7935446e-06 4.3235216e-04 9.9956244e-01]], shape=(1, 4), dtype=float32)\n",
      "[0.8, 0.5, 0.7, 0.4]\n",
      "tf.Tensor([[2.29193689e-03 2.13546935e-03 9.95470405e-01 1.02130514e-04]], shape=(1, 4), dtype=float32)\n",
      "[0.8, 0.2, 0.7, 0.4]\n",
      "tf.Tensor([[9.9984717e-01 3.8420367e-05 1.1435994e-04 4.1561061e-09]], shape=(1, 4), dtype=float32)\n",
      "[0.8, 0.3, 0.7, 0.4]\n"
     ]
    },
    {
     "name": "stderr",
     "output_type": "stream",
     "text": [
      "\r",
      " 54%|██████████████████████████████████████▌                                | 54401/100000 [9:00:43<4:05:48,  3.09it/s]"
     ]
    },
    {
     "name": "stdout",
     "output_type": "stream",
     "text": [
      "tf.Tensor([[9.9987042e-01 3.3018798e-05 9.6578791e-05 3.4207821e-09]], shape=(1, 4), dtype=float32)\n",
      "[0.8, 0.4, 0.7, 0.4]\n",
      "tf.Tensor([[9.9990761e-01 2.7409382e-05 6.5020555e-05 2.0372823e-09]], shape=(1, 4), dtype=float32)\n"
     ]
    },
    {
     "name": "stderr",
     "output_type": "stream",
     "text": [
      " 55%|██████████████████████████████████████▋                                | 54501/100000 [9:01:18<4:03:41,  3.11it/s]"
     ]
    },
    {
     "name": "stdout",
     "output_type": "stream",
     "text": [
      "6.725468168482928\n",
      "100\n"
     ]
    },
    {
     "name": "stderr",
     "output_type": "stream",
     "text": [
      " 55%|██████████████████████████████████████▊                                | 54600/100000 [9:01:53<5:27:18,  2.31it/s]"
     ]
    },
    {
     "name": "stdout",
     "output_type": "stream",
     "text": [
      "6.372967736724589\n",
      "100\n",
      "[0.2, 0.9, 0.1, 0.1]\n",
      "tf.Tensor([[3.6969988e-07 4.1830267e-06 2.4315456e-04 9.9975234e-01]], shape=(1, 4), dtype=float32)\n",
      "[0.2, 0.5, 0.1, 0.1]\n",
      "tf.Tensor([[3.6136188e-07 4.8307143e-06 3.8909592e-04 9.9960572e-01]], shape=(1, 4), dtype=float32)\n",
      "[0.2, 0.1, 0.1, 0.1]\n",
      "tf.Tensor([[1.2533423e-03 2.0165539e-03 9.9655509e-01 1.7493287e-04]], shape=(1, 4), dtype=float32)\n",
      "[0.0, 0.1, 0.1, 0.1]\n"
     ]
    },
    {
     "name": "stderr",
     "output_type": "stream",
     "text": [
      "\r",
      " 55%|██████████████████████████████████████▊                                | 54601/100000 [9:01:54<6:03:45,  2.08it/s]"
     ]
    },
    {
     "name": "stdout",
     "output_type": "stream",
     "text": [
      "tf.Tensor([[9.9976152e-01 5.8897389e-05 1.7965182e-04 7.6962294e-09]], shape=(1, 4), dtype=float32)\n"
     ]
    },
    {
     "name": "stderr",
     "output_type": "stream",
     "text": [
      " 55%|██████████████████████████████████████▊                                | 54701/100000 [9:02:30<4:54:23,  2.56it/s]"
     ]
    },
    {
     "name": "stdout",
     "output_type": "stream",
     "text": [
      "6.645454517225287\n",
      "100\n"
     ]
    },
    {
     "name": "stderr",
     "output_type": "stream",
     "text": [
      " 55%|██████████████████████████████████████▉                                | 54801/100000 [9:03:06<4:15:05,  2.95it/s]"
     ]
    },
    {
     "name": "stdout",
     "output_type": "stream",
     "text": [
      "6.779113438894496\n",
      "100\n",
      "[0.9, 0.3, 0.5, 0.7]\n",
      "tf.Tensor([[4.8359760e-07 5.0049634e-06 3.8298286e-04 9.9961156e-01]], shape=(1, 4), dtype=float32)\n",
      "[0.9, 0.7, 0.5, 0.7]\n",
      "tf.Tensor([[8.2725785e-07 1.7680199e-05 2.9367870e-03 9.9704462e-01]], shape=(1, 4), dtype=float32)\n"
     ]
    },
    {
     "name": "stderr",
     "output_type": "stream",
     "text": [
      " 55%|██████████████████████████████████████▉                                | 54901/100000 [9:03:42<4:48:17,  2.61it/s]"
     ]
    },
    {
     "name": "stdout",
     "output_type": "stream",
     "text": [
      "6.35035982937113\n",
      "100\n"
     ]
    },
    {
     "name": "stderr",
     "output_type": "stream",
     "text": [
      " 55%|███████████████████████████████████████                                | 55000/100000 [9:04:19<4:00:10,  3.12it/s]"
     ]
    },
    {
     "name": "stdout",
     "output_type": "stream",
     "text": [
      "6.477401983515375\n",
      "100\n",
      "[0.9, 0.7, 0.6, 0.2]\n",
      "tf.Tensor([[3.6233453e-07 4.0359769e-06 3.5407697e-04 9.9964154e-01]], shape=(1, 4), dtype=float32)\n",
      "[0.9, 0.3, 0.6, 0.2]\n",
      "tf.Tensor([[7.7236206e-07 1.6621270e-05 3.1969708e-03 9.9678564e-01]], shape=(1, 4), dtype=float32)\n",
      "[0.5, 0.3, 0.6, 0.2]\n",
      "tf.Tensor([[8.8308096e-02 6.0073179e-03 9.0566307e-01 2.1442498e-05]], shape=(1, 4), dtype=float32)\n",
      "[0.8, 0.3, 0.6, 0.2]\n",
      "tf.Tensor([[9.9991870e-01 2.2923587e-05 5.8432961e-05 1.7131142e-09]], shape=(1, 4), dtype=float32)\n",
      "[0.7, 0.3, 0.6, 0.2]\n",
      "tf.Tensor([[9.9990797e-01 2.4239645e-05 6.7878951e-05 2.4577280e-09]], shape=(1, 4), dtype=float32)\n",
      "[0.7, 0.2, 0.6, 0.2]\n"
     ]
    },
    {
     "name": "stderr",
     "output_type": "stream",
     "text": [
      "\r",
      " 55%|███████████████████████████████████████                                | 55001/100000 [9:04:19<4:46:23,  2.62it/s]"
     ]
    },
    {
     "name": "stdout",
     "output_type": "stream",
     "text": [
      "tf.Tensor([[9.9990439e-01 2.6254866e-05 6.9403504e-05 2.2901514e-09]], shape=(1, 4), dtype=float32)\n"
     ]
    },
    {
     "name": "stderr",
     "output_type": "stream",
     "text": [
      " 55%|███████████████████████████████████████                                | 55101/100000 [9:04:55<5:11:56,  2.40it/s]"
     ]
    },
    {
     "name": "stdout",
     "output_type": "stream",
     "text": [
      "6.688895453723058\n",
      "100\n"
     ]
    },
    {
     "name": "stderr",
     "output_type": "stream",
     "text": [
      " 55%|███████████████████████████████████████▏                               | 55200/100000 [9:05:32<4:38:19,  2.68it/s]"
     ]
    },
    {
     "name": "stdout",
     "output_type": "stream",
     "text": [
      "6.043470404444715\n",
      "100\n",
      "[0.2, 0.9, 0.7, 0.4]\n",
      "tf.Tensor([[4.8839689e-07 5.3946610e-06 3.8939554e-04 9.9960476e-01]], shape=(1, 4), dtype=float32)\n",
      "[0.2, 0.5, 0.7, 0.4]\n",
      "tf.Tensor([[5.9342995e-07 8.9196810e-06 9.4911444e-04 9.9904138e-01]], shape=(1, 4), dtype=float32)\n",
      "[0.6, 0.5, 0.7, 0.4]\n",
      "tf.Tensor([[5.8073318e-03 3.2696631e-03 9.9086189e-01 6.1060717e-05]], shape=(1, 4), dtype=float32)\n",
      "[0.9, 0.5, 0.7, 0.4]\n",
      "tf.Tensor([[9.9991524e-01 2.9987585e-05 5.4752905e-05 1.7331663e-09]], shape=(1, 4), dtype=float32)\n",
      "[0.8, 0.5, 0.7, 0.4]\n",
      "tf.Tensor([[9.9991214e-01 2.9208642e-05 5.8611404e-05 2.2380948e-09]], shape=(1, 4), dtype=float32)\n"
     ]
    },
    {
     "name": "stderr",
     "output_type": "stream",
     "text": [
      "\r",
      " 55%|███████████████████████████████████████▏                               | 55201/100000 [9:05:33<5:33:20,  2.24it/s]"
     ]
    },
    {
     "name": "stdout",
     "output_type": "stream",
     "text": [
      "[0.8, 0.4, 0.7, 0.4]\n",
      "tf.Tensor([[9.9992001e-01 2.8056273e-05 5.1921532e-05 1.7449198e-09]], shape=(1, 4), dtype=float32)\n"
     ]
    },
    {
     "name": "stderr",
     "output_type": "stream",
     "text": [
      " 55%|███████████████████████████████████████▎                               | 55301/100000 [9:06:09<4:51:37,  2.55it/s]"
     ]
    },
    {
     "name": "stdout",
     "output_type": "stream",
     "text": [
      "6.673189383966824\n",
      "100\n"
     ]
    },
    {
     "name": "stderr",
     "output_type": "stream",
     "text": [
      " 55%|███████████████████████████████████████▎                               | 55401/100000 [9:06:46<5:06:38,  2.42it/s]"
     ]
    },
    {
     "name": "stdout",
     "output_type": "stream",
     "text": [
      "6.459810379846495\n",
      "100\n",
      "[0.7, 0.1, 0.2, 0.9]\n",
      "tf.Tensor([[6.0557812e-07 5.7548659e-06 4.1012259e-04 9.9958354e-01]], shape=(1, 4), dtype=float32)\n",
      "[0.7, 0.5, 0.2, 0.9]\n",
      "tf.Tensor([[1.4542212e-06 2.1174326e-05 2.7230878e-03 9.9725431e-01]], shape=(1, 4), dtype=float32)\n",
      "[0.7, 0.9, 0.2, 0.9]\n",
      "tf.Tensor([[4.6167353e-01 1.0124357e-02 5.2818805e-01 1.4019794e-05]], shape=(1, 4), dtype=float32)\n",
      "[0.4, 0.9, 0.2, 0.9]\n",
      "tf.Tensor([[9.9995387e-01 2.0134488e-05 2.5968862e-05 1.1957786e-09]], shape=(1, 4), dtype=float32)\n",
      "[0.3, 0.9, 0.2, 0.9]\n",
      "tf.Tensor([[9.9995387e-01 2.0381174e-05 2.5699137e-05 1.1575965e-09]], shape=(1, 4), dtype=float32)\n"
     ]
    },
    {
     "name": "stderr",
     "output_type": "stream",
     "text": [
      " 56%|███████████████████████████████████████▍                               | 55501/100000 [9:07:23<4:59:52,  2.47it/s]"
     ]
    },
    {
     "name": "stdout",
     "output_type": "stream",
     "text": [
      "6.461072182316571\n",
      "100\n"
     ]
    },
    {
     "name": "stderr",
     "output_type": "stream",
     "text": [
      " 56%|███████████████████████████████████████▍                               | 55600/100000 [9:07:59<4:53:34,  2.52it/s]"
     ]
    },
    {
     "name": "stdout",
     "output_type": "stream",
     "text": [
      "6.062227922694492\n",
      "100\n",
      "[0.4, 0.5, 0.7, 0.4]\n",
      "tf.Tensor([[6.3182807e-07 6.0195557e-06 3.6788895e-04 9.9962544e-01]], shape=(1, 4), dtype=float32)\n",
      "[0.8, 0.5, 0.7, 0.4]\n",
      "tf.Tensor([[8.5203801e-06 1.1307565e-04 1.6849821e-02 9.8302853e-01]], shape=(1, 4), dtype=float32)\n",
      "[0.8, 0.1, 0.7, 0.4]\n",
      "tf.Tensor([[9.4036978e-01 3.5893477e-03 5.6039043e-02 1.8832833e-06]], shape=(1, 4), dtype=float32)\n",
      "[0.8, 0.2, 0.7, 0.4]\n",
      "tf.Tensor([[9.9996245e-01 1.8504183e-05 1.9098781e-05 1.4594993e-09]], shape=(1, 4), dtype=float32)\n"
     ]
    },
    {
     "name": "stderr",
     "output_type": "stream",
     "text": [
      "\r",
      " 56%|███████████████████████████████████████▍                               | 55601/100000 [9:07:59<6:10:28,  2.00it/s]"
     ]
    },
    {
     "name": "stdout",
     "output_type": "stream",
     "text": [
      "[0.8, 0.3, 0.7, 0.4]\n",
      "tf.Tensor([[9.9996424e-01 1.7549322e-05 1.8219855e-05 1.3758589e-09]], shape=(1, 4), dtype=float32)\n",
      "[0.8, 0.4, 0.7, 0.4]\n",
      "tf.Tensor([[9.9997258e-01 1.4993944e-05 1.2420855e-05 8.8500540e-10]], shape=(1, 4), dtype=float32)\n"
     ]
    },
    {
     "name": "stderr",
     "output_type": "stream",
     "text": [
      " 56%|███████████████████████████████████████▌                               | 55701/100000 [9:08:35<4:45:38,  2.58it/s]"
     ]
    },
    {
     "name": "stdout",
     "output_type": "stream",
     "text": [
      "6.592570975588283\n",
      "100\n"
     ]
    },
    {
     "name": "stderr",
     "output_type": "stream",
     "text": [
      " 56%|███████████████████████████████████████▌                               | 55800/100000 [9:09:11<5:09:42,  2.38it/s]"
     ]
    },
    {
     "name": "stdout",
     "output_type": "stream",
     "text": [
      "6.196624172562241\n",
      "100\n",
      "[0.0, 0.0, 0.6, 0.2]\n",
      "tf.Tensor([[8.9375521e-07 7.4653435e-06 3.3051087e-04 9.9966121e-01]], shape=(1, 4), dtype=float32)\n",
      "[0.4, 0.0, 0.6, 0.2]\n",
      "tf.Tensor([[1.0874982e-06 1.0822614e-05 7.3206116e-04 9.9925596e-01]], shape=(1, 4), dtype=float32)\n",
      "[0.8, 0.0, 0.6, 0.2]\n",
      "tf.Tensor([[4.1494077e-01 1.1919581e-02 5.7307589e-01 6.3803440e-05]], shape=(1, 4), dtype=float32)\n",
      "[0.8, 0.3, 0.6, 0.2]\n",
      "tf.Tensor([[9.99968290e-01 1.70451949e-05 1.46653465e-05 1.26012467e-09]], shape=(1, 4), dtype=float32)\n",
      "[0.7, 0.3, 0.6, 0.2]\n",
      "tf.Tensor([[9.9996984e-01 1.5540527e-05 1.4621588e-05 1.3356968e-09]], shape=(1, 4), dtype=float32)\n",
      "[0.7, 0.2, 0.6, 0.2]\n"
     ]
    },
    {
     "name": "stderr",
     "output_type": "stream",
     "text": [
      "\r",
      " 56%|███████████████████████████████████████▌                               | 55801/100000 [9:09:12<5:47:49,  2.12it/s]"
     ]
    },
    {
     "name": "stdout",
     "output_type": "stream",
     "text": [
      "tf.Tensor([[9.9997139e-01 1.5235974e-05 1.3324307e-05 1.0422293e-09]], shape=(1, 4), dtype=float32)\n"
     ]
    },
    {
     "name": "stderr",
     "output_type": "stream",
     "text": [
      " 56%|███████████████████████████████████████▋                               | 55901/100000 [9:09:51<5:01:46,  2.44it/s]"
     ]
    },
    {
     "name": "stdout",
     "output_type": "stream",
     "text": [
      "6.159598805272569\n",
      "100\n"
     ]
    },
    {
     "name": "stderr",
     "output_type": "stream",
     "text": [
      " 56%|███████████████████████████████████████▊                               | 56000/100000 [9:10:27<5:10:30,  2.36it/s]"
     ]
    },
    {
     "name": "stdout",
     "output_type": "stream",
     "text": [
      "6.355063548623881\n",
      "100\n",
      "[0.5, 0.4, 0.7, 0.1]\n",
      "tf.Tensor([[4.2607300e-07 4.5165334e-06 2.5612116e-04 9.9973899e-01]], shape=(1, 4), dtype=float32)\n",
      "[0.5, 0.0, 0.7, 0.1]\n",
      "tf.Tensor([[5.9323531e-07 7.3211386e-06 6.2279846e-04 9.9936932e-01]], shape=(1, 4), dtype=float32)\n",
      "[0.9, 0.0, 0.7, 0.1]\n",
      "tf.Tensor([[5.9411228e-02 7.9517383e-03 9.3257302e-01 6.3990665e-05]], shape=(1, 4), dtype=float32)\n",
      "[0.6, 0.0, 0.7, 0.1]\n",
      "tf.Tensor([[9.9990177e-01 3.3265482e-05 6.4935906e-05 4.6540025e-09]], shape=(1, 4), dtype=float32)\n"
     ]
    },
    {
     "name": "stderr",
     "output_type": "stream",
     "text": [
      "\r",
      " 56%|███████████████████████████████████████▊                               | 56001/100000 [9:10:27<5:15:45,  2.32it/s]"
     ]
    },
    {
     "name": "stdout",
     "output_type": "stream",
     "text": [
      "[0.6, 0.1, 0.7, 0.1]\n",
      "tf.Tensor([[9.9991083e-01 3.1359814e-05 5.7774880e-05 4.2559587e-09]], shape=(1, 4), dtype=float32)\n"
     ]
    },
    {
     "name": "stderr",
     "output_type": "stream",
     "text": [
      " 56%|███████████████████████████████████████▊                               | 56101/100000 [9:11:03<5:14:30,  2.33it/s]"
     ]
    },
    {
     "name": "stdout",
     "output_type": "stream",
     "text": [
      "6.301215467917206\n",
      "100\n"
     ]
    },
    {
     "name": "stderr",
     "output_type": "stream",
     "text": [
      " 56%|███████████████████████████████████████▉                               | 56200/100000 [9:11:39<4:41:19,  2.59it/s]"
     ]
    },
    {
     "name": "stdout",
     "output_type": "stream",
     "text": [
      "6.2895614659009835\n",
      "100\n",
      "[0.6, 0.8, 0.2, 0.9]\n",
      "tf.Tensor([[3.6854286e-07 4.1049143e-06 2.6301108e-04 9.9973243e-01]], shape=(1, 4), dtype=float32)\n",
      "[0.2, 0.8, 0.2, 0.9]\n",
      "tf.Tensor([[9.2313809e-07 1.6782857e-05 1.7680157e-03 9.9821424e-01]], shape=(1, 4), dtype=float32)\n",
      "[0.2, 1.0, 0.2, 0.9]\n",
      "tf.Tensor([[1.9166991e-01 1.5722703e-02 7.9255939e-01 4.8000740e-05]], shape=(1, 4), dtype=float32)\n",
      "[0.2, 0.7, 0.2, 0.9]\n",
      "tf.Tensor([[9.9993575e-01 2.9030491e-05 3.5171914e-05 2.8765037e-09]], shape=(1, 4), dtype=float32)\n",
      "[0.2, 0.8, 0.2, 0.9]\n"
     ]
    },
    {
     "name": "stderr",
     "output_type": "stream",
     "text": [
      " 56%|███████████████████████████████████████▉                               | 56202/100000 [9:11:40<4:26:36,  2.74it/s]"
     ]
    },
    {
     "name": "stdout",
     "output_type": "stream",
     "text": [
      "tf.Tensor([[9.9993622e-01 2.8798735e-05 3.4910303e-05 2.6724059e-09]], shape=(1, 4), dtype=float32)\n"
     ]
    },
    {
     "name": "stderr",
     "output_type": "stream",
     "text": [
      " 56%|███████████████████████████████████████▉                               | 56301/100000 [9:12:16<4:34:52,  2.65it/s]"
     ]
    },
    {
     "name": "stdout",
     "output_type": "stream",
     "text": [
      "6.224070765327223\n",
      "99\n"
     ]
    },
    {
     "name": "stderr",
     "output_type": "stream",
     "text": [
      " 56%|████████████████████████████████████████                               | 56401/100000 [9:12:52<5:34:11,  2.17it/s]"
     ]
    },
    {
     "name": "stdout",
     "output_type": "stream",
     "text": [
      "6.518455147716595\n",
      "100\n",
      "[0.8, 0.3, 0.7, 0.1]\n",
      "tf.Tensor([[2.9640859e-07 3.2201172e-06 1.4653036e-04 9.9984992e-01]], shape=(1, 4), dtype=float32)\n",
      "[0.8, 0.0, 0.7, 0.1]\n",
      "tf.Tensor([[3.6852879e-07 4.3317727e-06 2.8583012e-04 9.9970955e-01]], shape=(1, 4), dtype=float32)\n",
      "[0.8, 0.4, 0.7, 0.1]\n",
      "tf.Tensor([[1.0056839e-01 1.0788988e-02 8.8856035e-01 8.2158411e-05]], shape=(1, 4), dtype=float32)\n",
      "[0.8, 0.1, 0.7, 0.1]\n",
      "tf.Tensor([[9.9995136e-01 2.3528433e-05 2.5198500e-05 1.9585440e-09]], shape=(1, 4), dtype=float32)\n"
     ]
    },
    {
     "name": "stderr",
     "output_type": "stream",
     "text": [
      " 57%|████████████████████████████████████████                               | 56501/100000 [9:13:29<5:17:52,  2.28it/s]"
     ]
    },
    {
     "name": "stdout",
     "output_type": "stream",
     "text": [
      "6.292249537620458\n",
      "100\n"
     ]
    },
    {
     "name": "stderr",
     "output_type": "stream",
     "text": [
      " 57%|████████████████████████████████████████▏                              | 56601/100000 [9:14:06<4:24:21,  2.74it/s]"
     ]
    },
    {
     "name": "stdout",
     "output_type": "stream",
     "text": [
      "6.341401015031818\n",
      "100\n",
      "[0.6, 0.4, 0.6, 0.2]\n",
      "tf.Tensor([[2.8737807e-07 3.2657456e-06 1.5230177e-04 9.9984407e-01]], shape=(1, 4), dtype=float32)\n",
      "[0.6, 0.0, 0.6, 0.2]\n",
      "tf.Tensor([[3.2854274e-07 3.8825610e-06 2.4816825e-04 9.9974769e-01]], shape=(1, 4), dtype=float32)\n",
      "[0.6, 0.4, 0.6, 0.2]\n",
      "tf.Tensor([[1.1863770e-02 4.9354769e-03 9.8303854e-01 1.6220768e-04]], shape=(1, 4), dtype=float32)\n",
      "[0.6, 0.1, 0.6, 0.2]\n",
      "tf.Tensor([[9.9992251e-01 3.0293555e-05 4.7170732e-05 4.2935473e-09]], shape=(1, 4), dtype=float32)\n"
     ]
    },
    {
     "name": "stderr",
     "output_type": "stream",
     "text": [
      " 57%|████████████████████████████████████████▎                              | 56701/100000 [9:14:44<5:39:57,  2.12it/s]"
     ]
    },
    {
     "name": "stdout",
     "output_type": "stream",
     "text": [
      "5.984728948065906\n",
      "100\n"
     ]
    },
    {
     "name": "stderr",
     "output_type": "stream",
     "text": [
      " 57%|████████████████████████████████████████▎                              | 56800/100000 [9:15:20<3:55:54,  3.05it/s]"
     ]
    },
    {
     "name": "stdout",
     "output_type": "stream",
     "text": [
      "6.466855735945958\n",
      "100\n",
      "[0.1, 0.8, 0.1, 0.1]\n",
      "tf.Tensor([[3.1504408e-07 3.5595501e-06 1.6277115e-04 9.9983323e-01]], shape=(1, 4), dtype=float32)\n",
      "[0.1, 0.4, 0.1, 0.1]\n",
      "tf.Tensor([[2.9418536e-07 3.6539111e-06 2.0962348e-04 9.9978644e-01]], shape=(1, 4), dtype=float32)\n",
      "[0.1, 0.0, 0.1, 0.1]\n",
      "tf.Tensor([[0.00105448 0.0020848  0.9957474  0.00111328]], shape=(1, 4), dtype=float32)\n",
      "[0.1, 0.3, 0.1, 0.1]\n",
      "tf.Tensor([[9.9991214e-01 3.3906312e-05 5.4033419e-05 4.7542419e-09]], shape=(1, 4), dtype=float32)\n",
      "[0.1, 0.2, 0.1, 0.1]\n",
      "tf.Tensor([[9.9990058e-01 3.7779977e-05 6.1669678e-05 5.8848193e-09]], shape=(1, 4), dtype=float32)\n"
     ]
    },
    {
     "name": "stderr",
     "output_type": "stream",
     "text": [
      " 57%|████████████████████████████████████████▍                              | 56901/100000 [9:15:58<5:29:58,  2.18it/s]"
     ]
    },
    {
     "name": "stdout",
     "output_type": "stream",
     "text": [
      "6.251694842456363\n",
      "100\n"
     ]
    },
    {
     "name": "stderr",
     "output_type": "stream",
     "text": [
      " 57%|████████████████████████████████████████▍                              | 57000/100000 [9:16:33<3:53:55,  3.06it/s]"
     ]
    },
    {
     "name": "stdout",
     "output_type": "stream",
     "text": [
      "6.579099267814727\n",
      "100\n",
      "[0.1, 0.0, 0.2, 0.9]\n",
      "tf.Tensor([[4.4578451e-07 4.3820269e-06 1.9331707e-04 9.9980181e-01]], shape=(1, 4), dtype=float32)\n",
      "[0.1, 0.4, 0.2, 0.9]\n",
      "tf.Tensor([[4.141269e-07 4.255844e-06 2.388681e-04 9.997565e-01]], shape=(1, 4), dtype=float32)\n",
      "[0.1, 0.8, 0.2, 0.9]\n",
      "tf.Tensor([[0.00166883 0.00195163 0.9953218  0.00105782]], shape=(1, 4), dtype=float32)\n",
      "[0.4, 0.8, 0.2, 0.9]\n",
      "tf.Tensor([[9.9994874e-01 2.1454414e-05 2.9797924e-05 2.4691049e-09]], shape=(1, 4), dtype=float32)\n"
     ]
    },
    {
     "name": "stderr",
     "output_type": "stream",
     "text": [
      "\r",
      " 57%|████████████████████████████████████████▍                              | 57001/100000 [9:16:34<5:08:27,  2.32it/s]"
     ]
    },
    {
     "name": "stdout",
     "output_type": "stream",
     "text": [
      "[0.3, 0.8, 0.2, 0.9]\n",
      "tf.Tensor([[9.9993706e-01 2.3499641e-05 3.9448620e-05 3.4125378e-09]], shape=(1, 4), dtype=float32)\n",
      "[0.3, 0.9, 0.2, 0.9]\n",
      "tf.Tensor([[9.9995863e-01 1.7852992e-05 2.3539669e-05 1.7502038e-09]], shape=(1, 4), dtype=float32)\n"
     ]
    },
    {
     "name": "stderr",
     "output_type": "stream",
     "text": [
      " 57%|████████████████████████████████████████▌                              | 57101/100000 [9:17:11<4:37:22,  2.58it/s]"
     ]
    },
    {
     "name": "stdout",
     "output_type": "stream",
     "text": [
      "6.48803951901194\n",
      "100\n"
     ]
    },
    {
     "name": "stderr",
     "output_type": "stream",
     "text": [
      " 57%|████████████████████████████████████████▌                              | 57201/100000 [9:17:48<5:00:23,  2.37it/s]"
     ]
    },
    {
     "name": "stdout",
     "output_type": "stream",
     "text": [
      "6.372931228243711\n",
      "100\n",
      "[0.5, 0.0, 0.2, 0.9]\n",
      "tf.Tensor([[3.4927669e-07 3.5348432e-06 1.7096891e-04 9.9982518e-01]], shape=(1, 4), dtype=float32)\n",
      "[0.5, 0.4, 0.2, 0.9]\n",
      "tf.Tensor([[3.3221644e-07 3.6611223e-06 2.5205853e-04 9.9974388e-01]], shape=(1, 4), dtype=float32)\n",
      "[0.5, 0.8, 0.2, 0.9]\n",
      "tf.Tensor([[2.5982853e-02 4.6907733e-03 9.6917397e-01 1.5233757e-04]], shape=(1, 4), dtype=float32)\n",
      "[0.2, 0.8, 0.2, 0.9]\n",
      "tf.Tensor([[9.9994612e-01 2.0428437e-05 3.3457152e-05 3.2177943e-09]], shape=(1, 4), dtype=float32)\n"
     ]
    },
    {
     "name": "stderr",
     "output_type": "stream",
     "text": [
      " 57%|████████████████████████████████████████▋                              | 57301/100000 [9:18:24<4:31:43,  2.62it/s]"
     ]
    },
    {
     "name": "stdout",
     "output_type": "stream",
     "text": [
      "6.530056248727458\n",
      "100\n"
     ]
    },
    {
     "name": "stderr",
     "output_type": "stream",
     "text": [
      " 57%|████████████████████████████████████████▊                              | 57400/100000 [9:19:01<3:54:18,  3.03it/s]"
     ]
    },
    {
     "name": "stdout",
     "output_type": "stream",
     "text": [
      "6.463906537600286\n",
      "100\n",
      "[0.9, 0.3, 0.1, 0.1]\n",
      "tf.Tensor([[2.0892892e-07 2.2950039e-06 1.3517882e-04 9.9986231e-01]], shape=(1, 4), dtype=float32)\n",
      "[0.5, 0.3, 0.1, 0.1]\n",
      "tf.Tensor([[2.2329473e-07 2.9833852e-06 2.7300901e-04 9.9972373e-01]], shape=(1, 4), dtype=float32)\n",
      "[0.1, 0.3, 0.1, 0.1]\n",
      "tf.Tensor([[4.72377948e-02 5.69381565e-03 9.46953773e-01 1.14535724e-04]], shape=(1, 4), dtype=float32)\n"
     ]
    },
    {
     "name": "stderr",
     "output_type": "stream",
     "text": [
      "\r",
      " 57%|████████████████████████████████████████▊                              | 57401/100000 [9:19:01<4:49:06,  2.46it/s]"
     ]
    },
    {
     "name": "stdout",
     "output_type": "stream",
     "text": [
      "[0.1, 0.0, 0.1, 0.1]\n",
      "tf.Tensor([[9.999360e-01 2.158989e-05 4.240796e-05 4.685997e-09]], shape=(1, 4), dtype=float32)\n"
     ]
    },
    {
     "name": "stderr",
     "output_type": "stream",
     "text": [
      " 58%|████████████████████████████████████████▊                              | 57501/100000 [9:19:37<4:48:04,  2.46it/s]"
     ]
    },
    {
     "name": "stdout",
     "output_type": "stream",
     "text": [
      "6.667935943599308\n",
      "100\n"
     ]
    },
    {
     "name": "stderr",
     "output_type": "stream",
     "text": [
      " 58%|████████████████████████████████████████▉                              | 57601/100000 [9:20:13<4:02:06,  2.92it/s]"
     ]
    },
    {
     "name": "stdout",
     "output_type": "stream",
     "text": [
      "6.611152570551531\n",
      "100\n",
      "[0.1, 0.9, 0.1, 0.1]\n",
      "tf.Tensor([[2.9205893e-07 3.1423556e-06 1.5659310e-04 9.9983990e-01]], shape=(1, 4), dtype=float32)\n",
      "[0.1, 0.5, 0.1, 0.1]\n",
      "tf.Tensor([[2.8005314e-07 3.3840010e-06 2.1659858e-04 9.9977976e-01]], shape=(1, 4), dtype=float32)\n"
     ]
    },
    {
     "name": "stderr",
     "output_type": "stream",
     "text": [
      " 58%|████████████████████████████████████████▉                              | 57701/100000 [9:20:51<4:51:26,  2.42it/s]"
     ]
    },
    {
     "name": "stdout",
     "output_type": "stream",
     "text": [
      "6.360621513462861\n",
      "100\n"
     ]
    },
    {
     "name": "stderr",
     "output_type": "stream",
     "text": [
      " 58%|█████████████████████████████████████████                              | 57800/100000 [9:21:28<3:27:13,  3.39it/s]"
     ]
    },
    {
     "name": "stdout",
     "output_type": "stream",
     "text": [
      "6.307428311698301\n",
      "100\n",
      "[0.0, 0.1, 0.5, 0.7]\n",
      "tf.Tensor([[4.4504526e-07 4.0996970e-06 1.9216801e-04 9.9980336e-01]], shape=(1, 4), dtype=float32)\n",
      "[0.0, 0.5, 0.5, 0.7]\n",
      "tf.Tensor([[4.0530367e-07 3.9370375e-06 2.4494863e-04 9.9975079e-01]], shape=(1, 4), dtype=float32)\n",
      "[0.4, 0.5, 0.5, 0.7]\n",
      "tf.Tensor([[6.4023961e-03 2.1721467e-03 9.9096560e-01 4.5994276e-04]], shape=(1, 4), dtype=float32)\n",
      "[0.4, 0.8, 0.5, 0.7]\n",
      "tf.Tensor([[9.9996948e-01 1.1702923e-05 1.8841423e-05 1.8227473e-09]], shape=(1, 4), dtype=float32)\n"
     ]
    },
    {
     "name": "stderr",
     "output_type": "stream",
     "text": [
      "\r",
      " 58%|█████████████████████████████████████████                              | 57801/100000 [9:21:29<4:45:45,  2.46it/s]"
     ]
    },
    {
     "name": "stdout",
     "output_type": "stream",
     "text": [
      "[0.5, 0.8, 0.5, 0.7]\n",
      "tf.Tensor([[9.99977350e-01 9.25346012e-06 1.34007305e-05 1.25896360e-09]], shape=(1, 4), dtype=float32)\n"
     ]
    },
    {
     "name": "stderr",
     "output_type": "stream",
     "text": [
      " 58%|█████████████████████████████████████████                              | 57901/100000 [9:22:05<4:30:01,  2.60it/s]"
     ]
    },
    {
     "name": "stdout",
     "output_type": "stream",
     "text": [
      "6.6034646581048975\n",
      "100\n"
     ]
    },
    {
     "name": "stderr",
     "output_type": "stream",
     "text": [
      " 58%|█████████████████████████████████████████▏                             | 58000/100000 [9:22:44<4:19:21,  2.70it/s]"
     ]
    },
    {
     "name": "stdout",
     "output_type": "stream",
     "text": [
      "6.1775606850089595\n",
      "100\n",
      "[0.4, 0.7, 0.1, 0.1]\n",
      "tf.Tensor([[3.0687104e-07 3.1804498e-06 1.5155776e-04 9.9984491e-01]], shape=(1, 4), dtype=float32)\n",
      "[0.4, 0.3, 0.1, 0.1]\n",
      "tf.Tensor([[3.4376009e-07 4.3401528e-06 3.2339734e-04 9.9967194e-01]], shape=(1, 4), dtype=float32)\n",
      "[0.0, 0.3, 0.1, 0.1]\n",
      "tf.Tensor([[6.1635387e-01 9.6015325e-03 3.7400123e-01 4.3354288e-05]], shape=(1, 4), dtype=float32)\n",
      "[0.0, 0.2, 0.1, 0.1]\n",
      "tf.Tensor([[9.9997473e-01 1.3159350e-05 1.2097991e-05 1.9801394e-09]], shape=(1, 4), dtype=float32)\n",
      "[0.1, 0.2, 0.1, 0.1]\n"
     ]
    },
    {
     "name": "stderr",
     "output_type": "stream",
     "text": [
      "\r",
      " 58%|█████████████████████████████████████████▏                             | 58001/100000 [9:22:44<4:52:19,  2.39it/s]"
     ]
    },
    {
     "name": "stdout",
     "output_type": "stream",
     "text": [
      "tf.Tensor([[9.9998140e-01 1.0494589e-05 8.0775044e-06 1.3078176e-09]], shape=(1, 4), dtype=float32)\n"
     ]
    },
    {
     "name": "stderr",
     "output_type": "stream",
     "text": [
      " 58%|█████████████████████████████████████████▎                             | 58101/100000 [9:23:23<5:09:22,  2.26it/s]"
     ]
    },
    {
     "name": "stdout",
     "output_type": "stream",
     "text": [
      "6.017017332789862\n",
      "100\n"
     ]
    },
    {
     "name": "stderr",
     "output_type": "stream",
     "text": [
      " 58%|█████████████████████████████████████████▎                             | 58200/100000 [9:24:00<4:42:03,  2.47it/s]"
     ]
    },
    {
     "name": "stdout",
     "output_type": "stream",
     "text": [
      "6.095425845545769\n",
      "100\n",
      "[0.3, 0.0, 0.5, 0.7]\n",
      "tf.Tensor([[4.6809191e-07 4.1833569e-06 1.8134013e-04 9.9981409e-01]], shape=(1, 4), dtype=float32)\n",
      "[0.3, 0.4, 0.5, 0.7]\n",
      "tf.Tensor([[6.5960421e-07 6.6560387e-06 4.1535293e-04 9.9957734e-01]], shape=(1, 4), dtype=float32)\n",
      "[0.3, 0.8, 0.5, 0.7]\n",
      "tf.Tensor([[9.7673517e-01 1.4547169e-03 2.1807862e-02 2.1887727e-06]], shape=(1, 4), dtype=float32)\n",
      "[0.4, 0.8, 0.5, 0.7]\n",
      "tf.Tensor([[9.9999082e-01 5.6667322e-06 3.4767229e-06 5.0896337e-10]], shape=(1, 4), dtype=float32)\n",
      "[0.5, 0.8, 0.5, 0.7]\n"
     ]
    },
    {
     "name": "stderr",
     "output_type": "stream",
     "text": [
      "\r",
      " 58%|█████████████████████████████████████████▎                             | 58201/100000 [9:24:00<5:06:07,  2.28it/s]"
     ]
    },
    {
     "name": "stdout",
     "output_type": "stream",
     "text": [
      "tf.Tensor([[9.9999273e-01 4.6825617e-06 2.6410191e-06 3.8368919e-10]], shape=(1, 4), dtype=float32)\n"
     ]
    },
    {
     "name": "stderr",
     "output_type": "stream",
     "text": [
      " 58%|█████████████████████████████████████████▍                             | 58301/100000 [9:24:38<3:52:28,  2.99it/s]"
     ]
    },
    {
     "name": "stdout",
     "output_type": "stream",
     "text": [
      "6.603646544017322\n",
      "100\n"
     ]
    },
    {
     "name": "stderr",
     "output_type": "stream",
     "text": [
      " 58%|█████████████████████████████████████████▍                             | 58400/100000 [9:25:14<3:44:44,  3.09it/s]"
     ]
    },
    {
     "name": "stdout",
     "output_type": "stream",
     "text": [
      "6.6547110582491005\n",
      "100\n",
      "[0.5, 0.1, 0.7, 0.4]\n",
      "tf.Tensor([[3.8393114e-07 3.6711265e-06 1.7157820e-04 9.9982435e-01]], shape=(1, 4), dtype=float32)\n",
      "[0.5, 0.5, 0.7, 0.4]\n",
      "tf.Tensor([[4.6472968e-07 5.3312856e-06 3.9457768e-04 9.9959964e-01]], shape=(1, 4), dtype=float32)\n",
      "[0.9, 0.5, 0.7, 0.4]\n",
      "tf.Tensor([[9.7634286e-01 1.4261819e-03 2.2229545e-02 1.3255839e-06]], shape=(1, 4), dtype=float32)\n",
      "[0.8, 0.5, 0.7, 0.4]\n",
      "tf.Tensor([[9.9999082e-01 5.4030529e-06 3.7653365e-06 4.6453499e-10]], shape=(1, 4), dtype=float32)\n",
      "[0.8, 0.4, 0.7, 0.4]\n",
      "tf.Tensor([[9.9999118e-01 5.3433218e-06 3.4686925e-06 3.8017808e-10]], shape=(1, 4), dtype=float32)\n"
     ]
    },
    {
     "name": "stderr",
     "output_type": "stream",
     "text": [
      " 59%|█████████████████████████████████████████▌                             | 58501/100000 [9:25:53<5:18:51,  2.17it/s]"
     ]
    },
    {
     "name": "stdout",
     "output_type": "stream",
     "text": [
      "6.072089202031556\n",
      "100\n"
     ]
    },
    {
     "name": "stderr",
     "output_type": "stream",
     "text": [
      " 59%|█████████████████████████████████████████▌                             | 58600/100000 [9:26:32<4:48:33,  2.39it/s]"
     ]
    },
    {
     "name": "stdout",
     "output_type": "stream",
     "text": [
      "6.280667523642347\n",
      "100\n",
      "[0.2, 0.1, 0.5, 0.7]\n",
      "tf.Tensor([[4.5794840e-07 4.2758106e-06 1.8720135e-04 9.9980801e-01]], shape=(1, 4), dtype=float32)\n",
      "[0.2, 0.5, 0.5, 0.7]\n",
      "tf.Tensor([[4.7763268e-07 4.9841815e-06 3.1630124e-04 9.9967825e-01]], shape=(1, 4), dtype=float32)\n",
      "[0.6, 0.5, 0.5, 0.7]\n",
      "tf.Tensor([[7.786004e-01 5.727302e-03 2.156445e-01 2.781753e-05]], shape=(1, 4), dtype=float32)\n",
      "[0.6, 0.6, 0.5, 0.7]\n",
      "tf.Tensor([[9.999875e-01 7.113604e-06 5.368801e-06 7.345940e-10]], shape=(1, 4), dtype=float32)\n"
     ]
    },
    {
     "name": "stderr",
     "output_type": "stream",
     "text": [
      "\r",
      " 59%|█████████████████████████████████████████▌                             | 58601/100000 [9:26:32<4:23:03,  2.62it/s]"
     ]
    },
    {
     "name": "stdout",
     "output_type": "stream",
     "text": [
      "[0.6, 0.7, 0.5, 0.7]\n",
      "tf.Tensor([[9.9999130e-01 5.4844268e-06 3.2697546e-06 3.8575285e-10]], shape=(1, 4), dtype=float32)\n"
     ]
    },
    {
     "name": "stderr",
     "output_type": "stream",
     "text": [
      " 59%|█████████████████████████████████████████▋                             | 58701/100000 [9:27:08<5:00:27,  2.29it/s]"
     ]
    },
    {
     "name": "stdout",
     "output_type": "stream",
     "text": [
      "6.263321873482815\n",
      "100\n"
     ]
    },
    {
     "name": "stderr",
     "output_type": "stream",
     "text": [
      " 59%|█████████████████████████████████████████▋                             | 58800/100000 [9:27:42<4:20:30,  2.64it/s]"
     ]
    },
    {
     "name": "stdout",
     "output_type": "stream",
     "text": [
      "6.51134520173623\n",
      "100\n",
      "[0.2, 0.4, 0.7, 0.1]\n",
      "tf.Tensor([[4.3461105e-07 4.0265945e-06 1.8178092e-04 9.9981385e-01]], shape=(1, 4), dtype=float32)\n",
      "[0.6, 0.4, 0.7, 0.1]\n",
      "tf.Tensor([[5.5664378e-07 6.9437206e-06 5.2515295e-04 9.9946731e-01]], shape=(1, 4), dtype=float32)\n",
      "[0.6, 0.0, 0.7, 0.1]\n",
      "tf.Tensor([[9.9356174e-01 6.8189623e-04 5.7559698e-03 4.4255168e-07]], shape=(1, 4), dtype=float32)\n",
      "[0.6, 0.1, 0.7, 0.1]\n",
      "tf.Tensor([[9.9999046e-01 6.0873808e-06 3.5090327e-06 5.5543276e-10]], shape=(1, 4), dtype=float32)\n"
     ]
    },
    {
     "name": "stderr",
     "output_type": "stream",
     "text": [
      " 59%|█████████████████████████████████████████▊                             | 58901/100000 [9:28:20<4:08:22,  2.76it/s]"
     ]
    },
    {
     "name": "stdout",
     "output_type": "stream",
     "text": [
      "6.539599527571799\n",
      "100\n"
     ]
    },
    {
     "name": "stderr",
     "output_type": "stream",
     "text": [
      " 59%|█████████████████████████████████████████▉                             | 59000/100000 [9:28:56<4:37:34,  2.46it/s]"
     ]
    },
    {
     "name": "stdout",
     "output_type": "stream",
     "text": [
      "6.128053824175165\n",
      "100\n",
      "[0.4, 0.1, 0.6, 0.2]\n",
      "tf.Tensor([[4.3828675e-07 4.0227874e-06 1.8352055e-04 9.9981207e-01]], shape=(1, 4), dtype=float32)\n",
      "[0.8, 0.1, 0.6, 0.2]\n",
      "tf.Tensor([[5.1364924e-07 6.6059720e-06 5.4439798e-04 9.9944848e-01]], shape=(1, 4), dtype=float32)\n",
      "[0.4, 0.1, 0.6, 0.2]\n",
      "tf.Tensor([[9.9748212e-01 3.6616047e-04 2.1516196e-03 1.6506085e-07]], shape=(1, 4), dtype=float32)\n",
      "[0.5, 0.1, 0.6, 0.2]\n",
      "tf.Tensor([[9.9998903e-01 6.7556916e-06 4.1333592e-06 7.1749751e-10]], shape=(1, 4), dtype=float32)\n",
      "[0.5, 0.2, 0.6, 0.2]\n",
      "tf.Tensor([[9.9998987e-01 6.4132191e-06 3.7493407e-06 6.3527172e-10]], shape=(1, 4), dtype=float32)\n"
     ]
    },
    {
     "name": "stderr",
     "output_type": "stream",
     "text": [
      " 59%|█████████████████████████████████████████▉                             | 59101/100000 [9:29:33<4:00:45,  2.83it/s]"
     ]
    },
    {
     "name": "stdout",
     "output_type": "stream",
     "text": [
      "6.81339731368693\n",
      "100\n"
     ]
    },
    {
     "name": "stderr",
     "output_type": "stream",
     "text": [
      " 59%|██████████████████████████████████████████                             | 59200/100000 [9:30:09<3:38:58,  3.11it/s]"
     ]
    },
    {
     "name": "stdout",
     "output_type": "stream",
     "text": [
      "6.39777439960154\n",
      "100\n",
      "[0.2, 0.0, 0.7, 0.1]\n",
      "tf.Tensor([[4.5266046e-07 4.0218797e-06 1.3641112e-04 9.9985909e-01]], shape=(1, 4), dtype=float32)\n",
      "[0.6, 0.0, 0.7, 0.1]\n",
      "tf.Tensor([[5.5878468e-07 5.4745474e-06 2.8059797e-04 9.9971324e-01]], shape=(1, 4), dtype=float32)\n",
      "[0.6, 0.4, 0.7, 0.1]\n",
      "tf.Tensor([[9.8741817e-01 1.1983471e-03 1.1382013e-02 1.4147035e-06]], shape=(1, 4), dtype=float32)\n",
      "[0.6, 0.3, 0.7, 0.1]\n",
      "tf.Tensor([[9.9999332e-01 4.6083942e-06 2.0442060e-06 4.0656137e-10]], shape=(1, 4), dtype=float32)\n",
      "[0.6, 0.2, 0.7, 0.1]\n",
      "tf.Tensor([[9.9999261e-01 5.0525600e-06 2.3969405e-06 4.4929907e-10]], shape=(1, 4), dtype=float32)\n",
      "[0.7, 0.2, 0.7, 0.1]\n"
     ]
    },
    {
     "name": "stderr",
     "output_type": "stream",
     "text": [
      "\r",
      " 59%|██████████████████████████████████████████                             | 59201/100000 [9:30:10<4:52:03,  2.33it/s]"
     ]
    },
    {
     "name": "stdout",
     "output_type": "stream",
     "text": [
      "tf.Tensor([[9.9999475e-01 3.7085556e-06 1.5546124e-06 2.6824273e-10]], shape=(1, 4), dtype=float32)\n"
     ]
    },
    {
     "name": "stderr",
     "output_type": "stream",
     "text": [
      " 59%|██████████████████████████████████████████                             | 59301/100000 [9:30:47<4:33:54,  2.48it/s]"
     ]
    },
    {
     "name": "stdout",
     "output_type": "stream",
     "text": [
      "6.291899942244152\n",
      "100\n"
     ]
    },
    {
     "name": "stderr",
     "output_type": "stream",
     "text": [
      " 59%|██████████████████████████████████████████▏                            | 59401/100000 [9:31:24<5:36:05,  2.01it/s]"
     ]
    },
    {
     "name": "stdout",
     "output_type": "stream",
     "text": [
      "6.122570392909707\n",
      "100\n",
      "[0.5, 0.6, 0.2, 0.9]\n",
      "tf.Tensor([[2.93843044e-07 2.93762514e-06 1.12845315e-04 9.99883890e-01]], shape=(1, 4), dtype=float32)\n",
      "[0.5, 1.0, 0.2, 0.9]\n",
      "tf.Tensor([[4.4134703e-07 6.6370817e-06 4.5733165e-04 9.9953568e-01]], shape=(1, 4), dtype=float32)\n",
      "[0.1, 1.0, 0.2, 0.9]\n",
      "tf.Tensor([[9.9916327e-01 1.9720722e-04 6.3944119e-04 4.3844974e-08]], shape=(1, 4), dtype=float32)\n",
      "[0.2, 1.0, 0.2, 0.9]\n",
      "tf.Tensor([[9.9999428e-01 4.0346058e-06 1.6859997e-06 3.1044897e-10]], shape=(1, 4), dtype=float32)\n"
     ]
    },
    {
     "name": "stderr",
     "output_type": "stream",
     "text": [
      " 60%|██████████████████████████████████████████▏                            | 59501/100000 [9:32:00<5:06:31,  2.20it/s]"
     ]
    },
    {
     "name": "stdout",
     "output_type": "stream",
     "text": [
      "6.277872954696631\n",
      "100\n"
     ]
    },
    {
     "name": "stderr",
     "output_type": "stream",
     "text": [
      " 60%|██████████████████████████████████████████▎                            | 59600/100000 [9:32:34<3:44:05,  3.00it/s]"
     ]
    },
    {
     "name": "stdout",
     "output_type": "stream",
     "text": [
      "6.583439086206278\n",
      "100\n",
      "[0.8, 0.3, 0.7, 0.1]\n",
      "tf.Tensor([[3.0966595e-07 3.1301890e-06 1.3727469e-04 9.9985921e-01]], shape=(1, 4), dtype=float32)\n",
      "[0.8, 0.0, 0.7, 0.1]\n",
      "tf.Tensor([[8.297054e-07 9.799567e-06 6.641363e-04 9.993253e-01]], shape=(1, 4), dtype=float32)\n",
      "[0.8, 0.4, 0.7, 0.1]\n",
      "tf.Tensor([[9.9952590e-01 1.2161530e-04 3.5239334e-04 2.1981689e-08]], shape=(1, 4), dtype=float32)\n",
      "[0.8, 0.3, 0.7, 0.1]\n"
     ]
    },
    {
     "name": "stderr",
     "output_type": "stream",
     "text": [
      "\r",
      " 60%|██████████████████████████████████████████▎                            | 59601/100000 [9:32:35<4:41:52,  2.39it/s]"
     ]
    },
    {
     "name": "stdout",
     "output_type": "stream",
     "text": [
      "tf.Tensor([[9.9999511e-01 3.4034360e-06 1.4055438e-06 2.4553592e-10]], shape=(1, 4), dtype=float32)\n",
      "[0.8, 0.2, 0.7, 0.1]\n",
      "tf.Tensor([[9.9999511e-01 3.4838538e-06 1.4509781e-06 2.5261163e-10]], shape=(1, 4), dtype=float32)\n",
      "[0.8, 0.1, 0.7, 0.1]\n",
      "tf.Tensor([[9.9999499e-01 3.6318634e-06 1.4087803e-06 2.2488919e-10]], shape=(1, 4), dtype=float32)\n"
     ]
    },
    {
     "name": "stderr",
     "output_type": "stream",
     "text": [
      " 60%|██████████████████████████████████████████▍                            | 59701/100000 [9:33:11<4:03:26,  2.76it/s]"
     ]
    },
    {
     "name": "stdout",
     "output_type": "stream",
     "text": [
      "6.417408173662191\n",
      "100\n"
     ]
    },
    {
     "name": "stderr",
     "output_type": "stream",
     "text": [
      " 60%|██████████████████████████████████████████▍                            | 59800/100000 [9:33:47<3:33:44,  3.13it/s]"
     ]
    },
    {
     "name": "stdout",
     "output_type": "stream",
     "text": [
      "6.512887469972525\n",
      "100\n",
      "[0.1, 0.3, 0.7, 0.4]\n",
      "tf.Tensor([[4.949753e-07 4.487821e-06 1.723666e-04 9.998227e-01]], shape=(1, 4), dtype=float32)\n",
      "[0.5, 0.3, 0.7, 0.4]\n",
      "tf.Tensor([[5.6303099e-07 6.0473376e-06 3.6954123e-04 9.9962389e-01]], shape=(1, 4), dtype=float32)\n",
      "[0.9, 0.3, 0.7, 0.4]\n",
      "tf.Tensor([[9.9463391e-01 6.8910461e-04 4.6765851e-03 4.1822022e-07]], shape=(1, 4), dtype=float32)\n",
      "[0.8, 0.3, 0.7, 0.4]\n",
      "tf.Tensor([[9.9999297e-01 4.7939538e-06 2.2883164e-06 4.3422996e-10]], shape=(1, 4), dtype=float32)\n"
     ]
    },
    {
     "name": "stderr",
     "output_type": "stream",
     "text": [
      "\r",
      " 60%|██████████████████████████████████████████▍                            | 59801/100000 [9:33:48<4:15:52,  2.62it/s]"
     ]
    },
    {
     "name": "stdout",
     "output_type": "stream",
     "text": [
      "[0.8, 0.4, 0.7, 0.4]\n",
      "tf.Tensor([[9.9999523e-01 3.4021448e-06 1.3063095e-06 2.0569169e-10]], shape=(1, 4), dtype=float32)\n"
     ]
    },
    {
     "name": "stderr",
     "output_type": "stream",
     "text": [
      " 60%|██████████████████████████████████████████▌                            | 59901/100000 [9:34:23<4:55:37,  2.26it/s]"
     ]
    },
    {
     "name": "stdout",
     "output_type": "stream",
     "text": [
      "6.481011869673632\n",
      "100\n"
     ]
    },
    {
     "name": "stderr",
     "output_type": "stream",
     "text": [
      " 60%|██████████████████████████████████████████▌                            | 60000/100000 [9:34:58<3:51:04,  2.89it/s]"
     ]
    },
    {
     "name": "stdout",
     "output_type": "stream",
     "text": [
      "6.523706483955305\n",
      "100\n",
      "[0.7, 0.2, 0.6, 0.2]\n",
      "tf.Tensor([[3.0758687e-07 3.0830920e-06 1.3633013e-04 9.9986029e-01]], shape=(1, 4), dtype=float32)\n",
      "[0.3, 0.2, 0.6, 0.2]\n",
      "tf.Tensor([[5.9520573e-07 6.7269480e-06 4.2423417e-04 9.9956852e-01]], shape=(1, 4), dtype=float32)\n",
      "[0.7, 0.2, 0.6, 0.2]\n",
      "tf.Tensor([[9.9865228e-01 2.7972710e-04 1.0679096e-03 8.8972214e-08]], shape=(1, 4), dtype=float32)\n"
     ]
    },
    {
     "name": "stderr",
     "output_type": "stream",
     "text": [
      " 60%|██████████████████████████████████████████▋                            | 60101/100000 [9:35:35<4:30:51,  2.46it/s]"
     ]
    },
    {
     "name": "stdout",
     "output_type": "stream",
     "text": [
      "6.3544538770876775\n",
      "100\n"
     ]
    },
    {
     "name": "stderr",
     "output_type": "stream",
     "text": [
      " 60%|██████████████████████████████████████████▋                            | 60199/100000 [9:36:11<4:38:30,  2.38it/s]"
     ]
    },
    {
     "name": "stdout",
     "output_type": "stream",
     "text": [
      "6.113323631818838\n",
      "100\n",
      "[0.4, 0.9, 0.5, 0.7]\n",
      "tf.Tensor([[3.2318155e-07 3.4373099e-06 1.4237862e-04 9.9985373e-01]], shape=(1, 4), dtype=float32)\n",
      "[0.4, 0.5, 0.5, 0.7]\n",
      "tf.Tensor([[6.0193935e-07 7.3659739e-06 4.6165718e-04 9.9953043e-01]], shape=(1, 4), dtype=float32)\n",
      "[0.4, 0.9, 0.5, 0.7]\n",
      "tf.Tensor([[9.9446130e-01 7.6453027e-04 4.7738394e-03 3.9099916e-07]], shape=(1, 4), dtype=float32)\n",
      "[0.4, 0.8, 0.5, 0.7]\n",
      "tf.Tensor([[9.9999464e-01 3.8727612e-06 1.5542935e-06 2.9116085e-10]], shape=(1, 4), dtype=float32)\n",
      "[0.4, 0.7, 0.5, 0.7]\n"
     ]
    },
    {
     "name": "stderr",
     "output_type": "stream",
     "text": [
      "\r",
      " 60%|██████████████████████████████████████████▋                            | 60201/100000 [9:36:11<4:23:36,  2.52it/s]"
     ]
    },
    {
     "name": "stdout",
     "output_type": "stream",
     "text": [
      "tf.Tensor([[9.9999380e-01 4.3608793e-06 1.8282086e-06 3.2932834e-10]], shape=(1, 4), dtype=float32)\n"
     ]
    },
    {
     "name": "stderr",
     "output_type": "stream",
     "text": [
      " 60%|██████████████████████████████████████████▊                            | 60301/100000 [9:36:47<4:28:42,  2.46it/s]"
     ]
    },
    {
     "name": "stdout",
     "output_type": "stream",
     "text": [
      "6.409211971517849\n",
      "100\n"
     ]
    },
    {
     "name": "stderr",
     "output_type": "stream",
     "text": [
      " 60%|██████████████████████████████████████████▉                            | 60400/100000 [9:37:22<3:38:30,  3.02it/s]"
     ]
    },
    {
     "name": "stdout",
     "output_type": "stream",
     "text": [
      "6.494974295989163\n",
      "100\n",
      "[0.3, 0.8, 0.6, 0.2]\n",
      "tf.Tensor([[3.3768973e-07 3.5294215e-06 1.4490010e-04 9.9985123e-01]], shape=(1, 4), dtype=float32)\n",
      "[0.3, 0.4, 0.6, 0.2]\n",
      "tf.Tensor([[5.2040878e-07 6.1549831e-06 3.7517026e-04 9.9961817e-01]], shape=(1, 4), dtype=float32)\n",
      "[0.7, 0.4, 0.6, 0.2]\n",
      "tf.Tensor([[9.9434561e-01 7.8330841e-04 4.8706559e-03 4.3763026e-07]], shape=(1, 4), dtype=float32)\n",
      "[0.7, 0.3, 0.6, 0.2]\n",
      "tf.Tensor([[9.9999523e-01 3.4487839e-06 1.2925528e-06 2.4663052e-10]], shape=(1, 4), dtype=float32)\n"
     ]
    },
    {
     "name": "stderr",
     "output_type": "stream",
     "text": [
      "\r",
      " 60%|██████████████████████████████████████████▉                            | 60401/100000 [9:37:23<4:46:15,  2.31it/s]"
     ]
    },
    {
     "name": "stdout",
     "output_type": "stream",
     "text": [
      "[0.7, 0.2, 0.6, 0.2]\n",
      "tf.Tensor([[9.9999511e-01 3.5693358e-06 1.2625819e-06 2.2848475e-10]], shape=(1, 4), dtype=float32)\n"
     ]
    },
    {
     "name": "stderr",
     "output_type": "stream",
     "text": [
      " 61%|██████████████████████████████████████████▉                            | 60501/100000 [9:37:58<4:13:03,  2.60it/s]"
     ]
    },
    {
     "name": "stdout",
     "output_type": "stream",
     "text": [
      "6.4430252060160775\n",
      "100\n"
     ]
    },
    {
     "name": "stderr",
     "output_type": "stream",
     "text": [
      " 61%|███████████████████████████████████████████                            | 60600/100000 [9:38:35<4:45:37,  2.30it/s]"
     ]
    },
    {
     "name": "stdout",
     "output_type": "stream",
     "text": [
      "5.919203403565536\n",
      "100\n",
      "[0.2, 0.9, 0.7, 0.1]\n",
      "tf.Tensor([[3.5983635e-07 3.7315770e-06 1.4900928e-04 9.9984694e-01]], shape=(1, 4), dtype=float32)\n",
      "[0.2, 0.5, 0.7, 0.1]\n",
      "tf.Tensor([[6.4218875e-07 7.7215545e-06 4.6344823e-04 9.9952817e-01]], shape=(1, 4), dtype=float32)\n",
      "[0.6, 0.5, 0.7, 0.1]\n",
      "tf.Tensor([[9.9679595e-01 5.5535889e-04 2.6484181e-03 2.4142273e-07]], shape=(1, 4), dtype=float32)\n",
      "[0.6, 0.4, 0.7, 0.1]\n",
      "tf.Tensor([[9.999958e-01 3.151685e-06 1.057143e-06 2.151122e-10]], shape=(1, 4), dtype=float32)"
     ]
    },
    {
     "name": "stderr",
     "output_type": "stream",
     "text": [
      "\r",
      " 61%|███████████████████████████████████████████                            | 60601/100000 [9:38:35<5:39:43,  1.93it/s]"
     ]
    },
    {
     "name": "stdout",
     "output_type": "stream",
     "text": [
      "\n",
      "[0.6, 0.3, 0.7, 0.1]\n",
      "tf.Tensor([[9.9999571e-01 3.1867137e-06 1.0803077e-06 2.2393398e-10]], shape=(1, 4), dtype=float32)\n",
      "[0.6, 0.2, 0.7, 0.1]\n",
      "tf.Tensor([[9.9999583e-01 3.1285663e-06 1.0706279e-06 2.1423351e-10]], shape=(1, 4), dtype=float32)\n",
      "[0.6, 0.1, 0.7, 0.1]\n",
      "tf.Tensor([[9.9999464e-01 3.8975791e-06 1.4570384e-06 3.0071801e-10]], shape=(1, 4), dtype=float32)\n"
     ]
    },
    {
     "name": "stderr",
     "output_type": "stream",
     "text": [
      " 61%|███████████████████████████████████████████                            | 60701/100000 [9:39:12<4:53:38,  2.23it/s]"
     ]
    },
    {
     "name": "stdout",
     "output_type": "stream",
     "text": [
      "6.331893354767647\n",
      "100\n"
     ]
    },
    {
     "name": "stderr",
     "output_type": "stream",
     "text": [
      " 61%|███████████████████████████████████████████▏                           | 60801/100000 [9:39:48<3:58:33,  2.74it/s]"
     ]
    },
    {
     "name": "stdout",
     "output_type": "stream",
     "text": [
      "6.709457784869085\n",
      "100\n",
      "[0.0, 0.0, 0.7, 0.1]\n",
      "tf.Tensor([[6.1860459e-07 5.3337653e-06 1.9457657e-04 9.9979943e-01]], shape=(1, 4), dtype=float32)\n",
      "[0.4, 0.0, 0.7, 0.1]\n",
      "tf.Tensor([[7.3236458e-07 6.8999466e-06 3.7564716e-04 9.9961674e-01]], shape=(1, 4), dtype=float32)\n",
      "[0.8, 0.0, 0.7, 0.1]\n",
      "tf.Tensor([[9.9267370e-01 8.0453581e-04 6.5207127e-03 1.0644867e-06]], shape=(1, 4), dtype=float32)\n",
      "[0.8, 0.1, 0.7, 0.1]\n",
      "tf.Tensor([[9.9999535e-01 3.4707123e-06 1.1526691e-06 2.2812685e-10]], shape=(1, 4), dtype=float32)\n"
     ]
    },
    {
     "name": "stderr",
     "output_type": "stream",
     "text": [
      " 61%|███████████████████████████████████████████▏                           | 60901/100000 [9:40:22<4:38:57,  2.34it/s]"
     ]
    },
    {
     "name": "stdout",
     "output_type": "stream",
     "text": [
      "6.424173338171163\n",
      "100\n"
     ]
    },
    {
     "name": "stderr",
     "output_type": "stream",
     "text": [
      " 61%|███████████████████████████████████████████▎                           | 61000/100000 [9:40:58<4:37:42,  2.34it/s]"
     ]
    },
    {
     "name": "stdout",
     "output_type": "stream",
     "text": [
      "6.259268325439277\n",
      "100\n",
      "[0.0, 0.7, 0.1, 0.1]\n",
      "tf.Tensor([[4.1758810e-07 4.1703911e-06 1.5952424e-04 9.9983597e-01]], shape=(1, 4), dtype=float32)\n",
      "[0.0, 0.3, 0.1, 0.1]\n",
      "tf.Tensor([[5.1182201e-07 5.6911267e-06 2.7826420e-04 9.9971551e-01]], shape=(1, 4), dtype=float32)\n",
      "[0.0, 0.0, 0.1, 0.1]\n",
      "tf.Tensor([[7.2665089e-01 1.0135928e-02 2.6313394e-01 7.9281650e-05]], shape=(1, 4), dtype=float32)\n",
      "[0.1, 0.0, 0.1, 0.1]\n",
      "tf.Tensor([[9.9999082e-01 6.5127720e-06 2.6740447e-06 7.1969453e-10]], shape=(1, 4), dtype=float32)\n"
     ]
    },
    {
     "name": "stderr",
     "output_type": "stream",
     "text": [
      " 61%|███████████████████████████████████████████▍                           | 61101/100000 [9:41:35<5:05:30,  2.12it/s]"
     ]
    },
    {
     "name": "stdout",
     "output_type": "stream",
     "text": [
      "6.062562340986392\n",
      "100\n"
     ]
    },
    {
     "name": "stderr",
     "output_type": "stream",
     "text": [
      " 61%|███████████████████████████████████████████▍                           | 61201/100000 [9:42:10<4:59:06,  2.16it/s]"
     ]
    },
    {
     "name": "stdout",
     "output_type": "stream",
     "text": [
      "6.359855356176577\n",
      "100\n",
      "[0.4, 0.8, 0.7, 0.4]\n",
      "tf.Tensor([[3.4883018e-07 3.6557599e-06 1.5001105e-04 9.9984586e-01]], shape=(1, 4), dtype=float32)\n",
      "[0.4, 0.4, 0.7, 0.4]\n",
      "tf.Tensor([[8.5834137e-07 1.1337397e-05 7.1456487e-04 9.9927324e-01]], shape=(1, 4), dtype=float32)\n",
      "[0.8, 0.4, 0.7, 0.4]\n",
      "tf.Tensor([[9.9955744e-01 1.3571142e-04 3.0679119e-04 2.0978499e-08]], shape=(1, 4), dtype=float32)\n"
     ]
    },
    {
     "name": "stderr",
     "output_type": "stream",
     "text": [
      " 61%|███████████████████████████████████████████▌                           | 61301/100000 [9:42:46<4:33:58,  2.35it/s]"
     ]
    },
    {
     "name": "stdout",
     "output_type": "stream",
     "text": [
      "6.415353636173889\n",
      "100\n"
     ]
    },
    {
     "name": "stderr",
     "output_type": "stream",
     "text": [
      " 61%|███████████████████████████████████████████▌                           | 61400/100000 [9:43:22<4:28:17,  2.40it/s]"
     ]
    },
    {
     "name": "stdout",
     "output_type": "stream",
     "text": [
      "6.624233093453282\n",
      "100\n",
      "[0.9, 0.7, 0.1, 0.1]\n",
      "tf.Tensor([[2.7044709e-07 2.9942173e-06 1.4875300e-04 9.9984801e-01]], shape=(1, 4), dtype=float32)\n",
      "[0.5, 0.7, 0.1, 0.1]\n",
      "tf.Tensor([[7.6460183e-06 9.1319540e-05 9.3953740e-03 9.9050564e-01]], shape=(1, 4), dtype=float32)\n",
      "[0.5, 0.3, 0.1, 0.1]\n",
      "tf.Tensor([[9.9990869e-01 4.3637054e-05 4.7702582e-05 3.0178284e-09]], shape=(1, 4), dtype=float32)\n",
      "[0.4, 0.3, 0.1, 0.1]\n",
      "tf.Tensor([[9.9999583e-01 3.2428977e-06 9.7927455e-07 1.9400363e-10]], shape=(1, 4), dtype=float32)\n",
      "[0.3, 0.3, 0.1, 0.1]\n",
      "tf.Tensor([[9.9999511e-01 3.6611518e-06 1.1966056e-06 2.7024252e-10]], shape=(1, 4), dtype=float32)\n"
     ]
    },
    {
     "name": "stderr",
     "output_type": "stream",
     "text": [
      "\r",
      " 61%|███████████████████████████████████████████▌                           | 61401/100000 [9:43:22<4:54:49,  2.18it/s]"
     ]
    },
    {
     "name": "stdout",
     "output_type": "stream",
     "text": [
      "[0.3, 0.2, 0.1, 0.1]\n",
      "tf.Tensor([[9.9999464e-01 4.0568971e-06 1.2810633e-06 2.8516409e-10]], shape=(1, 4), dtype=float32)\n",
      "[0.2, 0.2, 0.1, 0.1]\n",
      "tf.Tensor([[9.9999428e-01 4.2854631e-06 1.4277937e-06 3.4978292e-10]], shape=(1, 4), dtype=float32)\n",
      "[0.2, 0.1, 0.1, 0.1]\n",
      "tf.Tensor([[9.9999368e-01 4.7470839e-06 1.5534667e-06 3.6328868e-10]], shape=(1, 4), dtype=float32)\n"
     ]
    },
    {
     "name": "stderr",
     "output_type": "stream",
     "text": [
      " 62%|███████████████████████████████████████████▋                           | 61501/100000 [9:43:58<4:01:02,  2.66it/s]"
     ]
    },
    {
     "name": "stdout",
     "output_type": "stream",
     "text": [
      "6.615082361737677\n",
      "100\n"
     ]
    },
    {
     "name": "stderr",
     "output_type": "stream",
     "text": [
      " 62%|███████████████████████████████████████████▋                           | 61600/100000 [9:44:33<3:07:23,  3.42it/s]"
     ]
    },
    {
     "name": "stdout",
     "output_type": "stream",
     "text": [
      "6.654316754670587\n",
      "100\n",
      "[0.1, 0.8, 0.2, 0.9]\n",
      "tf.Tensor([[4.2454460e-07 4.1809199e-06 1.7074868e-04 9.9982458e-01]], shape=(1, 4), dtype=float32)\n",
      "[0.1, 1.0, 0.2, 0.9]\n",
      "tf.Tensor([[6.3071383e-07 8.1608796e-06 4.9521594e-04 9.9949598e-01]], shape=(1, 4), dtype=float32)\n",
      "[0.1, 0.6, 0.2, 0.9]\n",
      "tf.Tensor([[9.9621022e-01 5.8668060e-04 3.2028100e-03 3.4334224e-07]], shape=(1, 4), dtype=float32)\n",
      "[0.1, 0.7, 0.2, 0.9]\n",
      "tf.Tensor([[9.9999404e-01 4.2926526e-06 1.6443536e-06 3.5827785e-10]], shape=(1, 4), dtype=float32)\n",
      "[0.1, 0.8, 0.2, 0.9]\n"
     ]
    },
    {
     "name": "stderr",
     "output_type": "stream",
     "text": [
      "\r",
      " 62%|███████████████████████████████████████████▋                           | 61601/100000 [9:44:34<4:37:50,  2.30it/s]"
     ]
    },
    {
     "name": "stdout",
     "output_type": "stream",
     "text": [
      "tf.Tensor([[9.9999428e-01 4.1501130e-06 1.5833411e-06 3.3825584e-10]], shape=(1, 4), dtype=float32)\n",
      "[0.1, 0.9, 0.2, 0.9]\n",
      "tf.Tensor([[9.9999452e-01 4.0101640e-06 1.4437636e-06 3.1108507e-10]], shape=(1, 4), dtype=float32)\n"
     ]
    },
    {
     "name": "stderr",
     "output_type": "stream",
     "text": [
      " 62%|███████████████████████████████████████████▊                           | 61701/100000 [9:45:12<3:59:58,  2.66it/s]"
     ]
    },
    {
     "name": "stdout",
     "output_type": "stream",
     "text": [
      "6.2128984719420455\n",
      "100\n"
     ]
    },
    {
     "name": "stderr",
     "output_type": "stream",
     "text": [
      " 62%|███████████████████████████████████████████▉                           | 61801/100000 [9:45:49<4:23:02,  2.42it/s]"
     ]
    },
    {
     "name": "stdout",
     "output_type": "stream",
     "text": [
      "6.344307981535168\n",
      "100\n",
      "[0.8, 0.5, 0.7, 0.1]\n",
      "tf.Tensor([[4.6677113e-07 5.2473411e-06 2.8112263e-04 9.9971312e-01]], shape=(1, 4), dtype=float32)\n",
      "[0.8, 0.1, 0.7, 0.1]\n",
      "tf.Tensor([[3.2039111e-06 5.2937514e-05 5.9130434e-03 9.9403077e-01]], shape=(1, 4), dtype=float32)\n",
      "[0.4, 0.1, 0.7, 0.1]\n",
      "tf.Tensor([[9.9962997e-01 1.5724284e-04 2.1265302e-04 1.5220657e-08]], shape=(1, 4), dtype=float32)\n",
      "[0.5, 0.1, 0.7, 0.1]\n",
      "tf.Tensor([[9.9998987e-01 7.9986694e-06 2.1805756e-06 4.5663270e-10]], shape=(1, 4), dtype=float32)\n",
      "[0.6, 0.1, 0.7, 0.1]\n",
      "tf.Tensor([[9.9998987e-01 7.9709744e-06 2.1644707e-06 4.7466897e-10]], shape=(1, 4), dtype=float32)\n"
     ]
    },
    {
     "name": "stderr",
     "output_type": "stream",
     "text": [
      " 62%|███████████████████████████████████████████▉                           | 61901/100000 [9:46:24<4:39:22,  2.27it/s]"
     ]
    },
    {
     "name": "stdout",
     "output_type": "stream",
     "text": [
      "6.29997194032212\n",
      "100\n"
     ]
    },
    {
     "name": "stderr",
     "output_type": "stream",
     "text": [
      " 62%|████████████████████████████████████████████                           | 62000/100000 [9:47:00<3:57:06,  2.67it/s]"
     ]
    },
    {
     "name": "stdout",
     "output_type": "stream",
     "text": [
      "6.268132856099898\n",
      "100\n",
      "[0.2, 0.7, 0.7, 0.4]\n",
      "tf.Tensor([[7.621028e-07 8.251026e-06 4.881318e-04 9.995028e-01]], shape=(1, 4), dtype=float32)\n",
      "[0.6, 0.7, 0.7, 0.4]\n",
      "tf.Tensor([[5.4009206e-06 8.9408750e-05 1.1544728e-02 9.8836040e-01]], shape=(1, 4), dtype=float32)\n",
      "[0.6, 0.3, 0.7, 0.4]\n",
      "tf.Tensor([[9.9652326e-01 7.2711689e-04 2.7494321e-03 1.5748334e-07]], shape=(1, 4), dtype=float32)\n",
      "[0.6, 0.4, 0.7, 0.4]\n",
      "tf.Tensor([[9.9998951e-01 7.9566025e-06 2.4947681e-06 3.8379774e-10]], shape=(1, 4), dtype=float32)\n"
     ]
    },
    {
     "name": "stderr",
     "output_type": "stream",
     "text": [
      " 62%|████████████████████████████████████████████                           | 62101/100000 [9:47:39<4:30:42,  2.33it/s]"
     ]
    },
    {
     "name": "stdout",
     "output_type": "stream",
     "text": [
      "6.241624120105594\n",
      "100\n"
     ]
    },
    {
     "name": "stderr",
     "output_type": "stream",
     "text": [
      " 62%|████████████████████████████████████████████▏                          | 62201/100000 [9:48:15<3:55:03,  2.68it/s]"
     ]
    },
    {
     "name": "stdout",
     "output_type": "stream",
     "text": [
      "6.3547162269730135\n",
      "100\n",
      "[0.9, 0.0, 0.1, 0.1]\n",
      "tf.Tensor([[5.8672913e-07 6.6010939e-06 3.6580072e-04 9.9962699e-01]], shape=(1, 4), dtype=float32)\n",
      "[0.5, 0.0, 0.1, 0.1]\n",
      "tf.Tensor([[1.2228652e-06 2.2235503e-05 2.0732225e-03 9.9790335e-01]], shape=(1, 4), dtype=float32)\n",
      "[0.1, 0.0, 0.1, 0.1]\n",
      "tf.Tensor([[9.9697673e-01 7.1998587e-04 2.3030695e-03 2.6088344e-07]], shape=(1, 4), dtype=float32)\n"
     ]
    },
    {
     "name": "stderr",
     "output_type": "stream",
     "text": [
      " 62%|████████████████████████████████████████████▏                          | 62301/100000 [9:48:52<3:43:27,  2.81it/s]"
     ]
    },
    {
     "name": "stdout",
     "output_type": "stream",
     "text": [
      "6.413136018774262\n",
      "100\n"
     ]
    },
    {
     "name": "stderr",
     "output_type": "stream",
     "text": [
      " 62%|████████████████████████████████████████████▎                          | 62400/100000 [9:49:27<4:24:43,  2.37it/s]"
     ]
    },
    {
     "name": "stdout",
     "output_type": "stream",
     "text": [
      "6.363027613529474\n",
      "100\n",
      "[0.8, 0.4, 0.7, 0.1]\n",
      "tf.Tensor([[7.6632932e-07 8.3547147e-06 4.5445727e-04 9.9953640e-01]], shape=(1, 4), dtype=float32)\n",
      "[0.8, 0.0, 0.7, 0.1]\n",
      "tf.Tensor([[2.2241336e-05 2.6225767e-04 2.9103769e-02 9.7061175e-01]], shape=(1, 4), dtype=float32)\n",
      "[0.8, 0.4, 0.7, 0.1]\n",
      "tf.Tensor([[9.9968719e-01 1.7249140e-04 1.4034490e-04 1.0903532e-08]], shape=(1, 4), dtype=float32)\n",
      "[0.8, 0.3, 0.7, 0.1]\n",
      "tf.Tensor([[9.9999177e-01 7.0050050e-06 1.1328233e-06 2.6767108e-10]], shape=(1, 4), dtype=float32)\n"
     ]
    },
    {
     "name": "stderr",
     "output_type": "stream",
     "text": [
      "\r",
      " 62%|████████████████████████████████████████████▎                          | 62401/100000 [9:49:28<4:31:49,  2.31it/s]"
     ]
    },
    {
     "name": "stdout",
     "output_type": "stream",
     "text": [
      "[0.8, 0.2, 0.7, 0.1]\n",
      "tf.Tensor([[9.9999154e-01 7.2138764e-06 1.1792321e-06 2.7995825e-10]], shape=(1, 4), dtype=float32)\n",
      "[0.8, 0.1, 0.7, 0.1]\n",
      "tf.Tensor([[9.9999130e-01 7.4741074e-06 1.1328974e-06 2.4558508e-10]], shape=(1, 4), dtype=float32)\n"
     ]
    },
    {
     "name": "stderr",
     "output_type": "stream",
     "text": [
      " 63%|████████████████████████████████████████████▍                          | 62501/100000 [9:50:05<3:47:25,  2.75it/s]"
     ]
    },
    {
     "name": "stdout",
     "output_type": "stream",
     "text": [
      "6.447411914154627\n",
      "100\n"
     ]
    },
    {
     "name": "stderr",
     "output_type": "stream",
     "text": [
      " 63%|████████████████████████████████████████████▍                          | 62601/100000 [9:50:41<4:29:48,  2.31it/s]"
     ]
    },
    {
     "name": "stdout",
     "output_type": "stream",
     "text": [
      "6.394760007639814\n",
      "100\n",
      "[0.7, 0.2, 0.7, 0.4]\n",
      "tf.Tensor([[1.5299248e-06 1.6634543e-05 1.0747847e-03 9.9890697e-01]], shape=(1, 4), dtype=float32)\n",
      "[0.7, 0.6, 0.7, 0.4]\n",
      "tf.Tensor([[4.3878952e-04 3.1972278e-03 7.2576594e-01 2.7059808e-01]], shape=(1, 4), dtype=float32)\n",
      "[0.7, 0.3, 0.7, 0.4]\n",
      "tf.Tensor([[9.9954754e-01 2.6657444e-04 1.8582230e-04 1.0243327e-08]], shape=(1, 4), dtype=float32)\n"
     ]
    },
    {
     "name": "stderr",
     "output_type": "stream",
     "text": [
      " 63%|████████████████████████████████████████████▌                          | 62701/100000 [9:51:16<4:32:54,  2.28it/s]"
     ]
    },
    {
     "name": "stdout",
     "output_type": "stream",
     "text": [
      "6.596592993681814\n",
      "100\n"
     ]
    },
    {
     "name": "stderr",
     "output_type": "stream",
     "text": [
      " 63%|████████████████████████████████████████████▌                          | 62801/100000 [9:51:49<2:55:17,  3.54it/s]"
     ]
    },
    {
     "name": "stdout",
     "output_type": "stream",
     "text": [
      "7.22913437125967\n",
      "100\n",
      "[0.2, 0.2, 0.7, 0.1]\n",
      "tf.Tensor([[3.8195358e-06 4.7695299e-05 3.3147982e-03 9.9663371e-01]], shape=(1, 4), dtype=float32)\n",
      "[0.6, 0.2, 0.7, 0.1]\n",
      "tf.Tensor([[8.1057602e-04 3.3196998e-03 9.7572666e-01 2.0143060e-02]], shape=(1, 4), dtype=float32)\n",
      "[0.6, 0.0, 0.7, 0.1]\n",
      "tf.Tensor([[9.9955529e-01 2.5536222e-04 1.8928667e-04 8.8751646e-09]], shape=(1, 4), dtype=float32)\n",
      "[0.6, 0.1, 0.7, 0.1]\n",
      "tf.Tensor([[9.9998128e-01 1.6058291e-05 2.6457028e-06 3.7484751e-10]], shape=(1, 4), dtype=float32)\n"
     ]
    },
    {
     "name": "stderr",
     "output_type": "stream",
     "text": [
      " 63%|████████████████████████████████████████████▋                          | 62901/100000 [9:52:22<3:58:00,  2.60it/s]"
     ]
    },
    {
     "name": "stdout",
     "output_type": "stream",
     "text": [
      "6.987118375146295\n",
      "100\n"
     ]
    },
    {
     "name": "stderr",
     "output_type": "stream",
     "text": [
      " 63%|████████████████████████████████████████████▋                          | 63001/100000 [9:52:57<3:25:02,  3.01it/s]"
     ]
    },
    {
     "name": "stdout",
     "output_type": "stream",
     "text": [
      "6.731551465363941\n",
      "98\n",
      "[0.6, 0.5, 0.7, 0.4]\n",
      "tf.Tensor([[4.6526420e-06 8.3538122e-05 6.3957698e-03 9.9351597e-01]], shape=(1, 4), dtype=float32)\n",
      "[0.6, 0.1, 0.7, 0.4]\n",
      "tf.Tensor([[0.00131428 0.00551611 0.99077153 0.00239804]], shape=(1, 4), dtype=float32)\n",
      "[0.6, 0.4, 0.7, 0.4]\n",
      "tf.Tensor([[9.9981922e-01 1.3532596e-04 4.5468536e-05 2.0921918e-09]], shape=(1, 4), dtype=float32)\n"
     ]
    },
    {
     "name": "stderr",
     "output_type": "stream",
     "text": [
      " 63%|████████████████████████████████████████████▊                          | 63101/100000 [9:53:31<3:19:28,  3.08it/s]"
     ]
    },
    {
     "name": "stdout",
     "output_type": "stream",
     "text": [
      "6.766960854355725\n",
      "99\n"
     ]
    },
    {
     "name": "stderr",
     "output_type": "stream",
     "text": [
      " 63%|████████████████████████████████████████████▊                          | 63200/100000 [9:54:02<3:07:29,  3.27it/s]"
     ]
    },
    {
     "name": "stdout",
     "output_type": "stream",
     "text": [
      "7.018170781054603\n",
      "100\n",
      "[0.9, 0.5, 0.1, 0.1]\n",
      "tf.Tensor([[8.41622114e-06 1.59364092e-04 1.47347795e-02 9.85097408e-01]], shape=(1, 4), dtype=float32)\n",
      "[0.5, 0.5, 0.1, 0.1]\n",
      "tf.Tensor([[2.2879043e-03 7.6762219e-03 9.8939937e-01 6.3637778e-04]], shape=(1, 4), dtype=float32)\n",
      "[0.5, 0.2, 0.1, 0.1]\n",
      "tf.Tensor([[9.9992681e-01 6.3020700e-05 1.0082128e-05 5.1950139e-10]], shape=(1, 4), dtype=float32)\n",
      "[0.4, 0.2, 0.1, 0.1]\n"
     ]
    },
    {
     "name": "stderr",
     "output_type": "stream",
     "text": [
      " 63%|████████████████████████████████████████████▊                          | 63202/100000 [9:54:03<3:05:28,  3.31it/s]"
     ]
    },
    {
     "name": "stdout",
     "output_type": "stream",
     "text": [
      "tf.Tensor([[9.9998605e-01 1.2778048e-05 1.1750160e-06 1.8906576e-10]], shape=(1, 4), dtype=float32)\n",
      "[0.3, 0.2, 0.1, 0.1]\n",
      "tf.Tensor([[9.9998438e-01 1.4351618e-05 1.3526599e-06 2.2856161e-10]], shape=(1, 4), dtype=float32)\n",
      "[0.2, 0.2, 0.1, 0.1]\n",
      "tf.Tensor([[9.9998331e-01 1.5115367e-05 1.5424982e-06 3.0092689e-10]], shape=(1, 4), dtype=float32)\n",
      "[0.2, 0.1, 0.1, 0.1]\n",
      "tf.Tensor([[9.9998128e-01 1.7091777e-05 1.7014600e-06 3.1975259e-10]], shape=(1, 4), dtype=float32)\n"
     ]
    },
    {
     "name": "stderr",
     "output_type": "stream",
     "text": [
      " 63%|████████████████████████████████████████████▉                          | 63301/100000 [9:54:36<3:56:46,  2.58it/s]"
     ]
    },
    {
     "name": "stdout",
     "output_type": "stream",
     "text": [
      "5.818649049861612\n",
      "99\n"
     ]
    },
    {
     "name": "stderr",
     "output_type": "stream",
     "text": [
      " 63%|█████████████████████████████████████████████                          | 63400/100000 [9:55:10<3:24:55,  2.98it/s]"
     ]
    },
    {
     "name": "stdout",
     "output_type": "stream",
     "text": [
      "6.52050535189853\n",
      "100\n",
      "[0.4, 0.4, 0.6, 0.2]\n",
      "tf.Tensor([[1.2915428e-05 1.7975309e-04 1.4999365e-02 9.8480797e-01]], shape=(1, 4), dtype=float32)\n",
      "[0.4, 0.0, 0.6, 0.2]\n",
      "tf.Tensor([[0.00206867 0.00568774 0.99078876 0.00145493]], shape=(1, 4), dtype=float32)\n",
      "[0.4, 0.3, 0.6, 0.2]\n",
      "tf.Tensor([[9.9987018e-01 1.0053076e-04 2.9358611e-05 1.4720400e-09]], shape=(1, 4), dtype=float32)\n"
     ]
    },
    {
     "name": "stderr",
     "output_type": "stream",
     "text": [
      "\r",
      " 63%|█████████████████████████████████████████████                          | 63401/100000 [9:55:11<4:01:40,  2.52it/s]"
     ]
    },
    {
     "name": "stdout",
     "output_type": "stream",
     "text": [
      "[0.5, 0.3, 0.6, 0.2]\n",
      "tf.Tensor([[9.9998772e-01 1.1050348e-05 1.1615579e-06 1.6427788e-10]], shape=(1, 4), dtype=float32)\n",
      "[0.5, 0.2, 0.6, 0.2]\n",
      "tf.Tensor([[9.9998379e-01 1.4503618e-05 1.7070977e-06 2.4844399e-10]], shape=(1, 4), dtype=float32)\n"
     ]
    },
    {
     "name": "stderr",
     "output_type": "stream",
     "text": [
      " 64%|█████████████████████████████████████████████                          | 63501/100000 [9:55:44<2:40:19,  3.79it/s]"
     ]
    },
    {
     "name": "stdout",
     "output_type": "stream",
     "text": [
      "7.051648610690055\n",
      "99\n"
     ]
    },
    {
     "name": "stderr",
     "output_type": "stream",
     "text": [
      " 64%|█████████████████████████████████████████████▏                         | 63601/100000 [9:56:19<3:26:28,  2.94it/s]"
     ]
    },
    {
     "name": "stdout",
     "output_type": "stream",
     "text": [
      "6.965727561975376\n",
      "99\n",
      "[0.0, 0.5, 0.5, 0.7]\n",
      "tf.Tensor([[6.8413879e-05 6.2762265e-04 7.8562789e-02 9.2074120e-01]], shape=(1, 4), dtype=float32)\n",
      "[0.4, 0.5, 0.5, 0.7]\n",
      "tf.Tensor([[2.7531364e-03 5.8652028e-03 9.9089819e-01 4.8353415e-04]], shape=(1, 4), dtype=float32)\n",
      "[0.4, 0.8, 0.5, 0.7]\n",
      "tf.Tensor([[9.9983501e-01 1.2336027e-04 4.1605414e-05 1.6286839e-09]], shape=(1, 4), dtype=float32)\n",
      "[0.4, 0.7, 0.5, 0.7]\n",
      "tf.Tensor([[9.9998629e-01 1.2357328e-05 1.3529192e-06 1.5780266e-10]], shape=(1, 4), dtype=float32)\n"
     ]
    },
    {
     "name": "stderr",
     "output_type": "stream",
     "text": [
      " 64%|█████████████████████████████████████████████▏                         | 63701/100000 [9:56:52<3:10:21,  3.18it/s]"
     ]
    },
    {
     "name": "stdout",
     "output_type": "stream",
     "text": [
      "6.817181190491168\n",
      "98\n"
     ]
    },
    {
     "name": "stderr",
     "output_type": "stream",
     "text": [
      " 64%|█████████████████████████████████████████████▎                         | 63801/100000 [9:57:27<4:11:59,  2.39it/s]"
     ]
    },
    {
     "name": "stdout",
     "output_type": "stream",
     "text": [
      "6.555635188776884\n",
      "98\n",
      "[0.8, 0.4, 0.1, 0.1]\n",
      "tf.Tensor([[1.3613384e-04 1.3496641e-03 2.3240256e-01 7.6611161e-01]], shape=(1, 4), dtype=float32)\n",
      "[0.4, 0.4, 0.1, 0.1]\n",
      "tf.Tensor([[7.1654469e-03 1.1635439e-02 9.8100370e-01 1.9544017e-04]], shape=(1, 4), dtype=float32)\n",
      "[0.4, 0.1, 0.1, 0.1]\n",
      "tf.Tensor([[9.9993777e-01 5.4141525e-05 8.0714544e-06 3.5463404e-10]], shape=(1, 4), dtype=float32)\n",
      "[0.3, 0.1, 0.1, 0.1]\n",
      "tf.Tensor([[9.9998474e-01 1.3999141e-05 1.2652797e-06 1.6835991e-10]], shape=(1, 4), dtype=float32)\n",
      "[0.2, 0.1, 0.1, 0.1]\n",
      "tf.Tensor([[9.9998271e-01 1.5817526e-05 1.4729986e-06 2.0679884e-10]], shape=(1, 4), dtype=float32)\n"
     ]
    },
    {
     "name": "stderr",
     "output_type": "stream",
     "text": [
      " 64%|█████████████████████████████████████████████▎                         | 63901/100000 [9:58:03<3:19:26,  3.02it/s]"
     ]
    },
    {
     "name": "stdout",
     "output_type": "stream",
     "text": [
      "6.79671450705448\n",
      "100\n"
     ]
    },
    {
     "name": "stderr",
     "output_type": "stream",
     "text": [
      " 64%|█████████████████████████████████████████████▍                         | 64001/100000 [9:58:39<4:15:56,  2.34it/s]"
     ]
    },
    {
     "name": "stdout",
     "output_type": "stream",
     "text": [
      "5.970405937539635\n",
      "99\n",
      "[0.6, 0.7, 0.7, 0.4]\n",
      "tf.Tensor([[7.4113719e-04 2.0380253e-03 9.7712588e-01 2.0095017e-02]], shape=(1, 4), dtype=float32)\n",
      "[0.6, 0.4, 0.7, 0.4]\n",
      "tf.Tensor([[3.1635189e-01 2.5708552e-02 6.5792054e-01 1.9097339e-05]], shape=(1, 4), dtype=float32)\n",
      "[0.9, 0.4, 0.7, 0.4]\n",
      "tf.Tensor([[9.9998379e-01 1.4070748e-05 2.1255648e-06 4.8267255e-11]], shape=(1, 4), dtype=float32)\n",
      "[0.8, 0.4, 0.7, 0.4]\n",
      "tf.Tensor([[9.9999404e-01 5.4009324e-06 6.0713745e-07 3.4351223e-11]], shape=(1, 4), dtype=float32)\n"
     ]
    },
    {
     "name": "stderr",
     "output_type": "stream",
     "text": [
      " 64%|█████████████████████████████████████████████▌                         | 64101/100000 [9:59:16<4:13:29,  2.36it/s]"
     ]
    },
    {
     "name": "stdout",
     "output_type": "stream",
     "text": [
      "6.3208084267252085\n",
      "100\n"
     ]
    },
    {
     "name": "stderr",
     "output_type": "stream",
     "text": [
      " 64%|█████████████████████████████████████████████▌                         | 64201/100000 [9:59:54<3:47:57,  2.62it/s]"
     ]
    },
    {
     "name": "stdout",
     "output_type": "stream",
     "text": [
      "5.719420570817365\n",
      "95\n",
      "[0.1, 0.6, 0.2, 0.9]\n",
      "tf.Tensor([[0.00186115 0.00254029 0.95034534 0.04525327]], shape=(1, 4), dtype=float32)\n",
      "[0.1, 0.9, 0.2, 0.9]\n",
      "tf.Tensor([[5.9703743e-01 1.6800608e-02 3.8614008e-01 2.1896141e-05]], shape=(1, 4), dtype=float32)\n"
     ]
    },
    {
     "name": "stderr",
     "output_type": "stream",
     "text": [
      " 64%|█████████████████████████████████████████████                         | 64301/100000 [10:00:32<4:38:31,  2.14it/s]"
     ]
    },
    {
     "name": "stdout",
     "output_type": "stream",
     "text": [
      "6.0223655046558795\n",
      "96\n"
     ]
    },
    {
     "name": "stderr",
     "output_type": "stream",
     "text": [
      " 64%|█████████████████████████████████████████████                         | 64401/100000 [10:01:12<4:33:00,  2.17it/s]"
     ]
    },
    {
     "name": "stdout",
     "output_type": "stream",
     "text": [
      "4.486599293819072\n",
      "93\n",
      "[0.3, 0.0, 0.6, 0.2]\n",
      "tf.Tensor([[0.00303429 0.00249897 0.98057693 0.01388976]], shape=(1, 4), dtype=float32)\n",
      "[0.6, 0.0, 0.6, 0.2]\n",
      "tf.Tensor([[8.8862580e-01 7.2404128e-03 1.0412844e-01 5.3581171e-06]], shape=(1, 4), dtype=float32)\n",
      "[0.6, 0.1, 0.6, 0.2]\n",
      "tf.Tensor([[9.9999309e-01 5.9986246e-06 9.9509350e-07 4.8124758e-11]], shape=(1, 4), dtype=float32)\n"
     ]
    },
    {
     "name": "stderr",
     "output_type": "stream",
     "text": [
      " 65%|█████████████████████████████████████████████▏                        | 64501/100000 [10:01:47<3:54:35,  2.52it/s]"
     ]
    },
    {
     "name": "stdout",
     "output_type": "stream",
     "text": [
      "5.187578735453891\n",
      "97\n"
     ]
    },
    {
     "name": "stderr",
     "output_type": "stream",
     "text": [
      " 65%|█████████████████████████████████████████████▏                        | 64601/100000 [10:02:24<4:00:34,  2.45it/s]"
     ]
    },
    {
     "name": "stdout",
     "output_type": "stream",
     "text": [
      "6.459103992591052\n",
      "97\n",
      "[0.6, 0.2, 0.5, 0.7]\n",
      "tf.Tensor([[0.01295715 0.00385381 0.98103034 0.00215878]], shape=(1, 4), dtype=float32)\n",
      "[0.6, 0.5, 0.5, 0.7]\n",
      "tf.Tensor([[9.9785256e-01 5.6223734e-04 1.5851564e-03 5.4030604e-08]], shape=(1, 4), dtype=float32)\n",
      "[0.6, 0.6, 0.5, 0.7]\n",
      "tf.Tensor([[9.9999785e-01 1.9845570e-06 1.6718811e-07 8.8666080e-12]], shape=(1, 4), dtype=float32)\n",
      "[0.6, 0.7, 0.5, 0.7]\n",
      "tf.Tensor([[9.9999869e-01 1.1984051e-06 7.6649627e-08 6.4683723e-12]], shape=(1, 4), dtype=float32)\n"
     ]
    },
    {
     "name": "stderr",
     "output_type": "stream",
     "text": [
      " 65%|█████████████████████████████████████████████▎                        | 64702/100000 [10:03:04<2:36:32,  3.76it/s]"
     ]
    },
    {
     "name": "stdout",
     "output_type": "stream",
     "text": [
      "6.650355906228044\n",
      "98\n"
     ]
    },
    {
     "name": "stderr",
     "output_type": "stream",
     "text": [
      " 65%|█████████████████████████████████████████████▎                        | 64801/100000 [10:03:43<5:18:58,  1.84it/s]"
     ]
    },
    {
     "name": "stdout",
     "output_type": "stream",
     "text": [
      "4.857283977617983\n",
      "93\n",
      "[0.8, 0.5, 0.6, 0.2]\n",
      "tf.Tensor([[1.966041e-02 5.057599e-03 9.743819e-01 9.001324e-04]], shape=(1, 4), dtype=float32)\n",
      "[0.8, 0.2, 0.6, 0.2]\n",
      "tf.Tensor([[9.9922550e-01 2.9986296e-04 4.7466575e-04 1.0414901e-08]], shape=(1, 4), dtype=float32)\n",
      "[0.7, 0.2, 0.6, 0.2]\n",
      "tf.Tensor([[9.99998450e-01 1.47208084e-06 1.06009836e-07 4.89378937e-12]], shape=(1, 4), dtype=float32)\n"
     ]
    },
    {
     "name": "stderr",
     "output_type": "stream",
     "text": [
      " 65%|█████████████████████████████████████████████▍                        | 64901/100000 [10:04:22<3:19:09,  2.94it/s]"
     ]
    },
    {
     "name": "stdout",
     "output_type": "stream",
     "text": [
      "5.021675331891563\n",
      "95\n"
     ]
    },
    {
     "name": "stderr",
     "output_type": "stream",
     "text": [
      " 65%|█████████████████████████████████████████████▌                        | 65001/100000 [10:05:06<5:26:19,  1.79it/s]"
     ]
    },
    {
     "name": "stdout",
     "output_type": "stream",
     "text": [
      "3.342647527871049\n",
      "91\n",
      "[0.0, 0.2, 0.7, 0.4]\n",
      "tf.Tensor([[0.07994972 0.00782605 0.91053    0.00169426]], shape=(1, 4), dtype=float32)\n",
      "[0.3, 0.2, 0.7, 0.4]\n",
      "tf.Tensor([[9.9925178e-01 2.7641820e-04 4.7177795e-04 2.4489733e-08]], shape=(1, 4), dtype=float32)\n",
      "[0.4, 0.2, 0.7, 0.4]\n",
      "tf.Tensor([[9.9999833e-01 1.5269120e-06 1.0717661e-07 8.2500699e-12]], shape=(1, 4), dtype=float32)\n",
      "[0.5, 0.2, 0.7, 0.4]\n",
      "tf.Tensor([[9.9999905e-01 9.7964858e-07 5.7655274e-08 6.8534609e-12]], shape=(1, 4), dtype=float32)\n",
      "[0.6, 0.2, 0.7, 0.4]\n",
      "tf.Tensor([[9.9999905e-01 9.0859663e-07 5.4920683e-08 6.4835676e-12]], shape=(1, 4), dtype=float32)\n",
      "[0.6, 0.3, 0.7, 0.4]\n",
      "tf.Tensor([[9.9999917e-01 8.0871018e-07 4.5795971e-08 5.0370567e-12]], shape=(1, 4), dtype=float32)\n",
      "[0.7, 0.3, 0.7, 0.4]\n",
      "tf.Tensor([[9.9999917e-01 7.8463273e-07 4.6244242e-08 5.0506023e-12]], shape=(1, 4), dtype=float32)\n"
     ]
    },
    {
     "name": "stderr",
     "output_type": "stream",
     "text": [
      " 65%|█████████████████████████████████████████████▌                        | 65101/100000 [10:05:42<3:59:34,  2.43it/s]"
     ]
    },
    {
     "name": "stdout",
     "output_type": "stream",
     "text": [
      "5.102541605958199\n",
      "96\n"
     ]
    },
    {
     "name": "stderr",
     "output_type": "stream",
     "text": [
      " 65%|█████████████████████████████████████████████▋                        | 65201/100000 [10:06:29<4:11:26,  2.31it/s]"
     ]
    },
    {
     "name": "stdout",
     "output_type": "stream",
     "text": [
      "3.365926129882013\n",
      "87\n",
      "[0.9, 0.1, 0.7, 0.1]\n",
      "tf.Tensor([[9.8231125e-01 2.2985700e-03 1.5388010e-02 2.2313407e-06]], shape=(1, 4), dtype=float32)\n",
      "[0.8, 0.1, 0.7, 0.1]\n",
      "tf.Tensor([[9.9999547e-01 3.9588126e-06 6.1489237e-07 2.0865048e-11]], shape=(1, 4), dtype=float32)\n"
     ]
    },
    {
     "name": "stderr",
     "output_type": "stream",
     "text": [
      " 65%|█████████████████████████████████████████████▋                        | 65301/100000 [10:07:18<4:58:40,  1.94it/s]"
     ]
    },
    {
     "name": "stdout",
     "output_type": "stream",
     "text": [
      "3.8389783071079946\n",
      "91\n"
     ]
    },
    {
     "name": "stderr",
     "output_type": "stream",
     "text": [
      " 65%|█████████████████████████████████████████████▊                        | 65401/100000 [10:08:09<4:58:34,  1.93it/s]"
     ]
    },
    {
     "name": "stdout",
     "output_type": "stream",
     "text": [
      "3.4169206326235098\n",
      "85\n",
      "[0.6, 0.5, 0.6, 0.2]\n",
      "tf.Tensor([[9.8733073e-01 1.9340226e-03 1.0734103e-02 1.1522870e-06]], shape=(1, 4), dtype=float32)\n",
      "[0.6, 0.4, 0.6, 0.2]\n",
      "tf.Tensor([[9.9999487e-01 4.4122548e-06 7.1840867e-07 1.8863222e-11]], shape=(1, 4), dtype=float32)\n",
      "[0.6, 0.3, 0.6, 0.2]\n",
      "tf.Tensor([[9.9999976e-01 2.3292154e-07 7.8253484e-09 4.5474263e-13]], shape=(1, 4), dtype=float32)\n"
     ]
    },
    {
     "name": "stderr",
     "output_type": "stream",
     "text": [
      " 66%|█████████████████████████████████████████████▊                        | 65502/100000 [10:09:02<3:18:49,  2.89it/s]"
     ]
    },
    {
     "name": "stdout",
     "output_type": "stream",
     "text": [
      "0.969902415483073\n",
      "85\n"
     ]
    },
    {
     "name": "stderr",
     "output_type": "stream",
     "text": [
      " 66%|█████████████████████████████████████████████▉                        | 65601/100000 [10:09:53<6:01:06,  1.59it/s]"
     ]
    },
    {
     "name": "stdout",
     "output_type": "stream",
     "text": [
      "1.6550413120396805\n",
      "79\n",
      "[0.9, 0.7, 0.5, 0.7]\n",
      "tf.Tensor([[9.9705112e-01 7.4110227e-04 2.2076422e-03 1.7764906e-07]], shape=(1, 4), dtype=float32)\n",
      "[0.8, 0.7, 0.5, 0.7]\n",
      "tf.Tensor([[9.9999797e-01 1.9172116e-06 1.7276639e-07 4.2740906e-12]], shape=(1, 4), dtype=float32)\n",
      "[0.7, 0.7, 0.5, 0.7]\n",
      "tf.Tensor([[9.9999988e-01 1.7626887e-07 4.5302087e-09 2.5501457e-13]], shape=(1, 4), dtype=float32)\n",
      "[0.6, 0.7, 0.5, 0.7]\n",
      "tf.Tensor([[9.9999988e-01 1.7381716e-07 4.7952327e-09 4.2303167e-13]], shape=(1, 4), dtype=float32)\n"
     ]
    },
    {
     "name": "stderr",
     "output_type": "stream",
     "text": [
      " 66%|█████████████████████████████████████████████▉                        | 65701/100000 [10:10:38<3:13:23,  2.96it/s]"
     ]
    },
    {
     "name": "stdout",
     "output_type": "stream",
     "text": [
      "4.054780879360705\n",
      "86\n"
     ]
    },
    {
     "name": "stderr",
     "output_type": "stream",
     "text": [
      " 66%|██████████████████████████████████████████████                        | 65801/100000 [10:11:27<4:52:37,  1.95it/s]"
     ]
    },
    {
     "name": "stdout",
     "output_type": "stream",
     "text": [
      "2.4459642925731746\n",
      "90\n",
      "[0.5, 0.1, 0.7, 0.4]\n",
      "tf.Tensor([[9.9273950e-01 1.1393764e-03 6.1202501e-03 8.6178500e-07]], shape=(1, 4), dtype=float32)\n",
      "[0.5, 0.2, 0.7, 0.4]\n",
      "tf.Tensor([[9.9999619e-01 3.3737122e-06 5.2275976e-07 2.1130268e-11]], shape=(1, 4), dtype=float32)\n",
      "[0.6, 0.2, 0.7, 0.4]\n",
      "tf.Tensor([[9.9999976e-01 2.7491100e-07 9.9048538e-09 7.3915852e-13]], shape=(1, 4), dtype=float32)\n",
      "[0.6, 0.3, 0.7, 0.4]\n",
      "tf.Tensor([[9.9999976e-01 2.1956727e-07 7.1660016e-09 7.1930195e-13]], shape=(1, 4), dtype=float32)\n",
      "[0.7, 0.3, 0.7, 0.4]\n",
      "tf.Tensor([[9.9999976e-01 2.1665666e-07 7.2732433e-09 7.3448566e-13]], shape=(1, 4), dtype=float32)\n"
     ]
    },
    {
     "name": "stderr",
     "output_type": "stream",
     "text": [
      " 66%|██████████████████████████████████████████████▏                       | 65901/100000 [10:12:15<5:41:03,  1.67it/s]"
     ]
    },
    {
     "name": "stdout",
     "output_type": "stream",
     "text": [
      "3.920353597839574\n",
      "89\n"
     ]
    },
    {
     "name": "stderr",
     "output_type": "stream",
     "text": [
      " 66%|██████████████████████████████████████████████▏                       | 66001/100000 [10:13:07<4:35:04,  2.06it/s]"
     ]
    },
    {
     "name": "stdout",
     "output_type": "stream",
     "text": [
      "3.2726577302090125\n",
      "87\n",
      "[0.3, 0.4, 0.1, 0.1]\n",
      "tf.Tensor([[9.9313146e-01 1.0225225e-03 5.8453432e-03 6.4743404e-07]], shape=(1, 4), dtype=float32)\n",
      "[0.3, 0.3, 0.1, 0.1]\n",
      "tf.Tensor([[9.9999559e-01 3.6215379e-06 8.0259906e-07 2.5007081e-11]], shape=(1, 4), dtype=float32)\n",
      "[0.3, 0.2, 0.1, 0.1]\n",
      "tf.Tensor([[9.9999976e-01 1.8655575e-07 6.9733495e-09 4.3594677e-13]], shape=(1, 4), dtype=float32)\n",
      "[0.2, 0.2, 0.1, 0.1]\n",
      "tf.Tensor([[9.9999976e-01 1.7927671e-07 7.3548803e-09 8.1432376e-13]], shape=(1, 4), dtype=float32)\n",
      "[0.2, 0.1, 0.1, 0.1]\n",
      "tf.Tensor([[9.9999976e-01 2.0015408e-07 7.9050517e-09 8.7562873e-13]], shape=(1, 4), dtype=float32)\n"
     ]
    },
    {
     "name": "stderr",
     "output_type": "stream",
     "text": [
      " 66%|██████████████████████████████████████████████▎                       | 66101/100000 [10:13:58<5:06:51,  1.84it/s]"
     ]
    },
    {
     "name": "stdout",
     "output_type": "stream",
     "text": [
      "2.997706440840916\n",
      "88\n"
     ]
    },
    {
     "name": "stderr",
     "output_type": "stream",
     "text": [
      " 66%|██████████████████████████████████████████████▎                       | 66201/100000 [10:14:41<3:52:25,  2.42it/s]"
     ]
    },
    {
     "name": "stdout",
     "output_type": "stream",
     "text": [
      "4.905619797687523\n",
      "89\n",
      "[0.4, 0.8, 0.5, 0.7]\n",
      "tf.Tensor([[9.9519205e-01 8.5368758e-04 3.9539365e-03 3.6359253e-07]], shape=(1, 4), dtype=float32)\n",
      "[0.4, 0.7, 0.5, 0.7]\n",
      "tf.Tensor([[9.9999797e-01 1.7730329e-06 2.3949300e-07 6.9103417e-12]], shape=(1, 4), dtype=float32)\n"
     ]
    },
    {
     "name": "stderr",
     "output_type": "stream",
     "text": [
      " 66%|██████████████████████████████████████████████▍                       | 66301/100000 [10:15:30<4:19:17,  2.17it/s]"
     ]
    },
    {
     "name": "stdout",
     "output_type": "stream",
     "text": [
      "3.5212815024348454\n",
      "86\n"
     ]
    },
    {
     "name": "stderr",
     "output_type": "stream",
     "text": [
      " 66%|██████████████████████████████████████████████▍                       | 66401/100000 [10:16:16<5:20:11,  1.75it/s]"
     ]
    },
    {
     "name": "stdout",
     "output_type": "stream",
     "text": [
      "4.182477652505217\n",
      "90\n",
      "[0.5, 0.5, 0.5, 0.7]\n",
      "tf.Tensor([[9.9973291e-01 9.8354751e-05 1.6875955e-04 1.4258204e-08]], shape=(1, 4), dtype=float32)\n",
      "[0.5, 0.6, 0.5, 0.7]\n",
      "tf.Tensor([[9.9999928e-01 6.8501799e-07 5.9081561e-08 2.4621952e-12]], shape=(1, 4), dtype=float32)\n"
     ]
    },
    {
     "name": "stderr",
     "output_type": "stream",
     "text": [
      " 67%|██████████████████████████████████████████████▌                       | 66501/100000 [10:17:06<4:18:36,  2.16it/s]"
     ]
    },
    {
     "name": "stdout",
     "output_type": "stream",
     "text": [
      "1.8692637828370064\n",
      "83\n"
     ]
    },
    {
     "name": "stderr",
     "output_type": "stream",
     "text": [
      " 67%|██████████████████████████████████████████████▌                       | 66601/100000 [10:18:01<5:02:13,  1.84it/s]"
     ]
    },
    {
     "name": "stdout",
     "output_type": "stream",
     "text": [
      "1.9078617607474504\n",
      "85\n",
      "[0.5, 0.6, 0.2, 0.9]\n",
      "tf.Tensor([[9.9975067e-01 9.4204566e-05 1.5514845e-04 1.2685461e-08]], shape=(1, 4), dtype=float32)\n",
      "[0.5, 0.7, 0.2, 0.9]\n",
      "tf.Tensor([[9.9999928e-01 7.0378451e-07 5.3488968e-08 1.9267582e-12]], shape=(1, 4), dtype=float32)\n",
      "[0.4, 0.7, 0.2, 0.9]\n",
      "tf.Tensor([[9.9999988e-01 9.9417115e-08 2.7895808e-09 2.0461080e-13]], shape=(1, 4), dtype=float32)\n",
      "[0.4, 0.8, 0.2, 0.9]\n",
      "tf.Tensor([[9.9999988e-01 8.7355090e-08 2.1752975e-09 2.1531880e-13]], shape=(1, 4), dtype=float32)\n",
      "[0.3, 0.8, 0.2, 0.9]\n",
      "tf.Tensor([[9.9999988e-01 1.0143751e-07 2.9401250e-09 3.1608459e-13]], shape=(1, 4), dtype=float32)\n",
      "[0.3, 0.9, 0.2, 0.9]\n",
      "tf.Tensor([[9.9999988e-01 8.8819966e-08 2.2030517e-09 2.2106744e-13]], shape=(1, 4), dtype=float32)\n"
     ]
    },
    {
     "name": "stderr",
     "output_type": "stream",
     "text": [
      " 67%|██████████████████████████████████████████████▋                       | 66701/100000 [10:18:48<4:33:55,  2.03it/s]"
     ]
    },
    {
     "name": "stdout",
     "output_type": "stream",
     "text": [
      "3.997670782236548\n",
      "88\n"
     ]
    },
    {
     "name": "stderr",
     "output_type": "stream",
     "text": [
      " 67%|██████████████████████████████████████████████▊                       | 66801/100000 [10:19:33<3:38:51,  2.53it/s]"
     ]
    },
    {
     "name": "stdout",
     "output_type": "stream",
     "text": [
      "3.211188786060158\n",
      "88\n",
      "[0.5, 0.3, 0.2, 0.9]\n",
      "tf.Tensor([[9.9968314e-01 1.1040279e-04 2.0647663e-04 1.8753067e-08]], shape=(1, 4), dtype=float32)\n",
      "[0.5, 0.4, 0.2, 0.9]\n",
      "tf.Tensor([[9.9999905e-01 7.9770285e-07 7.6959481e-08 3.4151536e-12]], shape=(1, 4), dtype=float32)\n",
      "[0.5, 0.5, 0.2, 0.9]\n",
      "tf.Tensor([[9.9999988e-01 1.0978705e-07 3.3199457e-09 2.5528757e-13]], shape=(1, 4), dtype=float32)\n",
      "[0.5, 0.6, 0.2, 0.9]\n",
      "tf.Tensor([[9.9999988e-01 9.9413320e-08 2.9922753e-09 3.1720191e-13]], shape=(1, 4), dtype=float32)\n",
      "[0.5, 0.7, 0.2, 0.9]\n",
      "tf.Tensor([[9.9999988e-01 8.7968552e-08 2.2444517e-09 2.2260125e-13]], shape=(1, 4), dtype=float32)\n",
      "[0.4, 0.7, 0.2, 0.9]\n",
      "tf.Tensor([[9.9999988e-01 1.0097404e-07 2.9928175e-09 3.1921571e-13]], shape=(1, 4), dtype=float32)\n",
      "[0.4, 0.8, 0.2, 0.9]\n",
      "tf.Tensor([[9.9999988e-01 8.7716565e-08 2.1843654e-09 2.1618876e-13]], shape=(1, 4), dtype=float32)\n",
      "[0.3, 0.8, 0.2, 0.9]\n",
      "tf.Tensor([[9.9999988e-01 1.0185667e-07 2.9524097e-09 3.1737801e-13]], shape=(1, 4), dtype=float32)\n",
      "[0.3, 0.9, 0.2, 0.9]\n",
      "tf.Tensor([[9.9999988e-01 8.9187331e-08 2.2122315e-09 2.2195894e-13]], shape=(1, 4), dtype=float32)\n"
     ]
    },
    {
     "name": "stderr",
     "output_type": "stream",
     "text": [
      " 67%|██████████████████████████████████████████████▊                       | 66901/100000 [10:20:18<4:26:41,  2.07it/s]"
     ]
    },
    {
     "name": "stdout",
     "output_type": "stream",
     "text": [
      "3.132523402012588\n",
      "91\n"
     ]
    },
    {
     "name": "stderr",
     "output_type": "stream",
     "text": [
      " 67%|██████████████████████████████████████████████▉                       | 67001/100000 [10:21:04<4:26:09,  2.07it/s]"
     ]
    },
    {
     "name": "stdout",
     "output_type": "stream",
     "text": [
      "3.3068171299763742\n",
      "91\n",
      "[0.7, 0.0, 0.7, 0.1]\n",
      "tf.Tensor([[9.9971288e-01 1.0093627e-04 1.8619152e-04 1.6664332e-08]], shape=(1, 4), dtype=float32)\n"
     ]
    },
    {
     "name": "stderr",
     "output_type": "stream",
     "text": [
      " 67%|██████████████████████████████████████████████▉                       | 67101/100000 [10:21:50<4:14:58,  2.15it/s]"
     ]
    },
    {
     "name": "stdout",
     "output_type": "stream",
     "text": [
      "3.598191970013666\n",
      "87\n"
     ]
    },
    {
     "name": "stderr",
     "output_type": "stream",
     "text": [
      " 67%|███████████████████████████████████████████████                       | 67202/100000 [10:22:37<4:16:29,  2.13it/s]"
     ]
    },
    {
     "name": "stdout",
     "output_type": "stream",
     "text": [
      "2.3815306889310284\n",
      "91\n",
      "[0.5, 0.2, 0.6, 0.2]\n",
      "tf.Tensor([[9.9975020e-01 9.7525713e-05 1.5227657e-04 1.2802834e-08]], shape=(1, 4), dtype=float32)\n"
     ]
    },
    {
     "name": "stderr",
     "output_type": "stream",
     "text": [
      " 67%|███████████████████████████████████████████████                       | 67301/100000 [10:23:27<3:12:08,  2.84it/s]"
     ]
    },
    {
     "name": "stdout",
     "output_type": "stream",
     "text": [
      "2.893901826877653\n",
      "86\n"
     ]
    },
    {
     "name": "stderr",
     "output_type": "stream",
     "text": [
      " 67%|███████████████████████████████████████████████▏                      | 67401/100000 [10:24:12<3:49:02,  2.37it/s]"
     ]
    },
    {
     "name": "stdout",
     "output_type": "stream",
     "text": [
      "4.4485164637891295\n",
      "92\n",
      "[0.7, 0.9, 0.1, 0.1]\n",
      "tf.Tensor([[9.9971503e-01 1.2116698e-04 1.6368866e-04 1.0167604e-08]], shape=(1, 4), dtype=float32)\n",
      "[0.7, 0.8, 0.1, 0.1]\n",
      "tf.Tensor([[9.9999940e-01 6.5276487e-07 4.4010914e-08 1.2387357e-12]], shape=(1, 4), dtype=float32)\n",
      "[0.7, 0.7, 0.1, 0.1]\n",
      "tf.Tensor([[9.9999988e-01 8.0800881e-08 1.9870370e-09 1.2064201e-13]], shape=(1, 4), dtype=float32)\n",
      "[0.7, 0.6, 0.1, 0.1]\n",
      "tf.Tensor([[9.9999988e-01 7.8171929e-08 2.1361632e-09 2.0193099e-13]], shape=(1, 4), dtype=float32)\n",
      "[0.7, 0.5, 0.1, 0.1]\n",
      "tf.Tensor([[9.9999988e-01 8.3478589e-08 2.1099356e-09 1.9319248e-13]], shape=(1, 4), dtype=float32)\n",
      "[0.6, 0.5, 0.1, 0.1]\n",
      "tf.Tensor([[9.9999988e-01 8.4860496e-08 2.3534801e-09 2.3287733e-13]], shape=(1, 4), dtype=float32)\n",
      "[0.6, 0.4, 0.1, 0.1]\n",
      "tf.Tensor([[9.9999988e-01 9.2394963e-08 2.4084872e-09 2.3412302e-13]], shape=(1, 4), dtype=float32)\n",
      "[0.5, 0.4, 0.1, 0.1]\n",
      "tf.Tensor([[9.9999988e-01 9.7414656e-08 2.5411684e-09 2.5659246e-13]], shape=(1, 4), dtype=float32)\n",
      "[0.4, 0.4, 0.1, 0.1]\n",
      "tf.Tensor([[9.9999988e-01 1.0122164e-07 2.9282827e-09 3.2074517e-13]], shape=(1, 4), dtype=float32)\n",
      "[0.4, 0.3, 0.1, 0.1]\n",
      "tf.Tensor([[9.9999988e-01 1.1085324e-07 3.0444620e-09 3.2959442e-13]], shape=(1, 4), dtype=float32)\n"
     ]
    },
    {
     "name": "stderr",
     "output_type": "stream",
     "text": [
      " 68%|███████████████████████████████████████████████▎                      | 67501/100000 [10:25:01<4:57:05,  1.82it/s]"
     ]
    },
    {
     "name": "stdout",
     "output_type": "stream",
     "text": [
      "3.79303409954598\n",
      "84\n"
     ]
    },
    {
     "name": "stderr",
     "output_type": "stream",
     "text": [
      " 68%|███████████████████████████████████████████████▎                      | 67601/100000 [10:25:49<4:01:56,  2.23it/s]"
     ]
    },
    {
     "name": "stdout",
     "output_type": "stream",
     "text": [
      "3.289916393748294\n",
      "89\n",
      "[0.6, 0.7, 0.6, 0.2]\n",
      "tf.Tensor([[9.9963963e-01 1.4191140e-04 2.1839382e-04 1.4985341e-08]], shape=(1, 4), dtype=float32)\n",
      "[0.6, 0.6, 0.6, 0.2]\n",
      "tf.Tensor([[9.9999917e-01 7.7791589e-07 5.9593905e-08 1.8231671e-12]], shape=(1, 4), dtype=float32)\n",
      "[0.6, 0.5, 0.6, 0.2]\n",
      "tf.Tensor([[9.9999988e-01 9.0767024e-08 2.3667188e-09 1.5279810e-13]], shape=(1, 4), dtype=float32)\n",
      "[0.6, 0.4, 0.6, 0.2]\n",
      "tf.Tensor([[9.9999988e-01 8.9526488e-08 2.5632101e-09 2.5824216e-13]], shape=(1, 4), dtype=float32)\n",
      "[0.6, 0.3, 0.6, 0.2]\n",
      "tf.Tensor([[9.9999988e-01 9.2645735e-08 2.6930493e-09 2.7555879e-13]], shape=(1, 4), dtype=float32)\n"
     ]
    },
    {
     "name": "stderr",
     "output_type": "stream",
     "text": [
      " 68%|███████████████████████████████████████████████▍                      | 67701/100000 [10:26:35<3:47:39,  2.36it/s]"
     ]
    },
    {
     "name": "stdout",
     "output_type": "stream",
     "text": [
      "3.429731640408786\n",
      "86\n"
     ]
    },
    {
     "name": "stderr",
     "output_type": "stream",
     "text": [
      " 68%|███████████████████████████████████████████████▍                      | 67801/100000 [10:27:19<2:55:18,  3.06it/s]"
     ]
    },
    {
     "name": "stdout",
     "output_type": "stream",
     "text": [
      "4.765289870344465\n",
      "93\n",
      "[0.3, 0.8, 0.5, 0.7]\n",
      "tf.Tensor([[9.9975330e-01 1.0101054e-04 1.4564660e-04 1.1163819e-08]], shape=(1, 4), dtype=float32)\n",
      "[0.4, 0.8, 0.5, 0.7]\n",
      "tf.Tensor([[9.9999905e-01 7.8252015e-07 6.2755021e-08 2.2494821e-12]], shape=(1, 4), dtype=float32)\n",
      "[0.4, 0.7, 0.5, 0.7]\n",
      "tf.Tensor([[9.9999988e-01 1.0015863e-07 2.6236846e-09 1.8222323e-13]], shape=(1, 4), dtype=float32)\n"
     ]
    },
    {
     "name": "stderr",
     "output_type": "stream",
     "text": [
      " 68%|███████████████████████████████████████████████▌                      | 67901/100000 [10:28:06<3:18:51,  2.69it/s]"
     ]
    },
    {
     "name": "stdout",
     "output_type": "stream",
     "text": [
      "4.072387658807545\n",
      "87\n"
     ]
    },
    {
     "name": "stderr",
     "output_type": "stream",
     "text": [
      " 68%|███████████████████████████████████████████████▌                      | 68001/100000 [10:28:53<5:43:47,  1.55it/s]"
     ]
    },
    {
     "name": "stdout",
     "output_type": "stream",
     "text": [
      "2.5287902508624596\n",
      "90\n",
      "[0.4, 0.3, 0.1, 0.1]\n",
      "tf.Tensor([[9.9948078e-01 1.7769406e-04 3.4158787e-04 2.9888817e-08]], shape=(1, 4), dtype=float32)\n",
      "[0.3, 0.3, 0.1, 0.1]\n",
      "tf.Tensor([[9.9999857e-01 1.3014296e-06 1.4432372e-07 5.5679120e-12]], shape=(1, 4), dtype=float32)\n",
      "[0.3, 0.2, 0.1, 0.1]\n",
      "tf.Tensor([[9.9999988e-01 1.2634088e-07 3.4518612e-09 2.5511819e-13]], shape=(1, 4), dtype=float32)\n",
      "[0.2, 0.2, 0.1, 0.1]\n",
      "tf.Tensor([[9.999999e-01 1.296604e-07 3.988200e-09 4.916594e-13]], shape=(1, 4), dtype=float32)\n",
      "[0.2, 0.1, 0.1, 0.1]\n",
      "tf.Tensor([[9.9999988e-01 1.4446604e-07 4.2820285e-09 5.2168144e-13]], shape=(1, 4), dtype=float32)\n"
     ]
    },
    {
     "name": "stderr",
     "output_type": "stream",
     "text": [
      " 68%|███████████████████████████████████████████████▋                      | 68101/100000 [10:29:29<3:36:46,  2.45it/s]"
     ]
    },
    {
     "name": "stdout",
     "output_type": "stream",
     "text": [
      "2.647768343688885\n",
      "86\n"
     ]
    },
    {
     "name": "stderr",
     "output_type": "stream",
     "text": [
      " 68%|███████████████████████████████████████████████▋                      | 68201/100000 [10:30:06<3:03:39,  2.89it/s]"
     ]
    },
    {
     "name": "stdout",
     "output_type": "stream",
     "text": [
      "2.7538848095922073\n",
      "85\n",
      "[0.4, 0.2, 0.5, 0.7]\n",
      "tf.Tensor([[9.9954718e-01 1.4342833e-04 3.0931161e-04 3.1395697e-08]], shape=(1, 4), dtype=float32)\n",
      "[0.4, 0.3, 0.5, 0.7]\n",
      "tf.Tensor([[9.9999881e-01 1.0707914e-06 1.2240321e-07 5.8612134e-12]], shape=(1, 4), dtype=float32)\n",
      "[0.4, 0.4, 0.5, 0.7]\n",
      "tf.Tensor([[9.9999988e-01 1.3267547e-07 4.2958290e-09 3.4880966e-13]], shape=(1, 4), dtype=float32)\n",
      "[0.4, 0.5, 0.5, 0.7]\n",
      "tf.Tensor([[9.9999988e-01 1.1664602e-07 3.6725953e-09 4.1683714e-13]], shape=(1, 4), dtype=float32)\n",
      "[0.4, 0.6, 0.5, 0.7]\n",
      "tf.Tensor([[9.9999988e-01 1.1052726e-07 3.3917271e-09 3.7462663e-13]], shape=(1, 4), dtype=float32)\n",
      "[0.4, 0.7, 0.5, 0.7]\n",
      "tf.Tensor([[9.99999881e-01 1.00022135e-07 2.81303136e-09 2.88850324e-13]], shape=(1, 4), dtype=float32)\n"
     ]
    },
    {
     "name": "stderr",
     "output_type": "stream",
     "text": [
      " 68%|███████████████████████████████████████████████▊                      | 68300/100000 [10:30:44<3:25:19,  2.57it/s]"
     ]
    },
    {
     "name": "stdout",
     "output_type": "stream",
     "text": [
      "1.5433429201544264\n",
      "78\n"
     ]
    },
    {
     "name": "stderr",
     "output_type": "stream",
     "text": [
      " 68%|███████████████████████████████████████████████▉                      | 68401/100000 [10:31:22<3:22:23,  2.60it/s]"
     ]
    },
    {
     "name": "stdout",
     "output_type": "stream",
     "text": [
      "3.7498407360186494\n",
      "88\n",
      "[0.9, 0.4, 0.5, 0.7]\n",
      "tf.Tensor([[9.9977964e-01 9.4808456e-05 1.2562668e-04 8.0356131e-09]], shape=(1, 4), dtype=float32)\n",
      "[0.8, 0.4, 0.5, 0.7]\n",
      "tf.Tensor([[9.9999952e-01 5.1700243e-07 3.4616328e-08 1.2364981e-12]], shape=(1, 4), dtype=float32)\n",
      "[0.8, 0.5, 0.5, 0.7]\n",
      "tf.Tensor([[9.9999988e-01 8.6378385e-08 2.0604143e-09 1.3130632e-13]], shape=(1, 4), dtype=float32)\n",
      "[0.7, 0.5, 0.5, 0.7]\n",
      "tf.Tensor([[9.9999988e-01 9.3012055e-08 2.6951099e-09 2.6391983e-13]], shape=(1, 4), dtype=float32)\n",
      "[0.7, 0.6, 0.5, 0.7]\n",
      "tf.Tensor([[9.9999988e-01 8.2786784e-08 2.0430002e-09 1.8922322e-13]], shape=(1, 4), dtype=float32)\n",
      "[0.6, 0.6, 0.5, 0.7]\n",
      "tf.Tensor([[9.999999e-01 9.518891e-08 2.744437e-09 2.738716e-13]], shape=(1, 4), dtype=float32)\n",
      "[0.6, 0.7, 0.5, 0.7]\n",
      "tf.Tensor([[9.9999988e-01 8.4902425e-08 2.0873279e-09 1.9702879e-13]], shape=(1, 4), dtype=float32)\n"
     ]
    },
    {
     "name": "stderr",
     "output_type": "stream",
     "text": [
      " 69%|███████████████████████████████████████████████▉                      | 68501/100000 [10:32:00<3:54:01,  2.24it/s]"
     ]
    },
    {
     "name": "stdout",
     "output_type": "stream",
     "text": [
      "2.4181044544413117\n",
      "86\n"
     ]
    },
    {
     "name": "stderr",
     "output_type": "stream",
     "text": [
      " 69%|████████████████████████████████████████████████                      | 68601/100000 [10:32:36<3:44:53,  2.33it/s]"
     ]
    },
    {
     "name": "stdout",
     "output_type": "stream",
     "text": [
      "3.23233750767615\n",
      "87\n",
      "[0.4, 0.4, 0.7, 0.4]\n",
      "tf.Tensor([[9.9971074e-01 1.1145582e-04 1.7779956e-04 1.4951834e-08]], shape=(1, 4), dtype=float32)\n",
      "[0.5, 0.4, 0.7, 0.4]\n",
      "tf.Tensor([[9.9999928e-01 6.6301209e-07 4.8654904e-08 2.1117390e-12]], shape=(1, 4), dtype=float32)\n",
      "[0.6, 0.4, 0.7, 0.4]\n",
      "tf.Tensor([[9.99999881e-01 1.10107486e-07 3.09503090e-09 2.32610074e-13]], shape=(1, 4), dtype=float32)\n"
     ]
    },
    {
     "name": "stderr",
     "output_type": "stream",
     "text": [
      " 69%|████████████████████████████████████████████████                      | 68701/100000 [10:33:14<3:23:10,  2.57it/s]"
     ]
    },
    {
     "name": "stdout",
     "output_type": "stream",
     "text": [
      "3.631810865273916\n",
      "88\n"
     ]
    },
    {
     "name": "stderr",
     "output_type": "stream",
     "text": [
      " 69%|████████████████████████████████████████████████▏                     | 68801/100000 [10:33:52<3:07:24,  2.77it/s]"
     ]
    },
    {
     "name": "stdout",
     "output_type": "stream",
     "text": [
      "2.651444693774246\n",
      "86\n",
      "[0.3, 0.1, 0.7, 0.1]\n",
      "tf.Tensor([[9.9954742e-01 1.5214540e-04 3.0032053e-04 3.0420473e-08]], shape=(1, 4), dtype=float32)\n",
      "[0.4, 0.1, 0.7, 0.1]\n",
      "tf.Tensor([[9.9999893e-01 1.0001752e-06 9.7033855e-08 4.9187681e-12]], shape=(1, 4), dtype=float32)\n",
      "[0.5, 0.1, 0.7, 0.1]\n",
      "tf.Tensor([[9.9999988e-01 1.4765251e-07 4.7145639e-09 3.9815869e-13]], shape=(1, 4), dtype=float32)\n",
      "[0.6, 0.1, 0.7, 0.1]\n",
      "tf.Tensor([[9.9999988e-01 1.2528884e-07 3.7779611e-09 4.2353222e-13]], shape=(1, 4), dtype=float32)\n"
     ]
    },
    {
     "name": "stderr",
     "output_type": "stream",
     "text": [
      " 69%|████████████████████████████████████████████████▏                     | 68901/100000 [10:34:29<2:51:24,  3.02it/s]"
     ]
    },
    {
     "name": "stdout",
     "output_type": "stream",
     "text": [
      "3.290976977906814\n",
      "86\n"
     ]
    },
    {
     "name": "stderr",
     "output_type": "stream",
     "text": [
      " 69%|████████████████████████████████████████████████▎                     | 69001/100000 [10:35:07<3:25:31,  2.51it/s]"
     ]
    },
    {
     "name": "stdout",
     "output_type": "stream",
     "text": [
      "3.3386575977324537\n",
      "87\n",
      "[0.6, 0.3, 0.2, 0.9]\n",
      "tf.Tensor([[9.99668360e-01 1.16356474e-04 2.15328677e-04 1.88803408e-08]], shape=(1, 4), dtype=float32)\n",
      "[0.6, 0.4, 0.2, 0.9]\n",
      "tf.Tensor([[9.9999905e-01 7.7725355e-07 7.0417002e-08 2.9731133e-12]], shape=(1, 4), dtype=float32)\n",
      "[0.6, 0.5, 0.2, 0.9]\n",
      "tf.Tensor([[9.9999988e-01 1.1024219e-07 3.2412457e-09 2.4065122e-13]], shape=(1, 4), dtype=float32)\n",
      "[0.6, 0.6, 0.2, 0.9]\n",
      "tf.Tensor([[9.9999988e-01 9.3171153e-08 2.3793925e-09 2.3247702e-13]], shape=(1, 4), dtype=float32)\n",
      "[0.5, 0.6, 0.2, 0.9]\n",
      "tf.Tensor([[9.9999988e-01 1.0645332e-07 3.1632106e-09 3.3144659e-13]], shape=(1, 4), dtype=float32)\n",
      "[0.5, 0.7, 0.2, 0.9]\n",
      "tf.Tensor([[9.9999988e-01 9.2770570e-08 2.3135041e-09 2.2537775e-13]], shape=(1, 4), dtype=float32)\n",
      "[0.4, 0.7, 0.2, 0.9]\n",
      "tf.Tensor([[9.9999988e-01 1.0718535e-07 3.1175869e-09 3.2888671e-13]], shape=(1, 4), dtype=float32)\n",
      "[0.4, 0.8, 0.2, 0.9]\n",
      "tf.Tensor([[9.9999988e-01 9.4346952e-08 2.3438620e-09 2.3163651e-13]], shape=(1, 4), dtype=float32)\n",
      "[0.3, 0.8, 0.2, 0.9]\n",
      "tf.Tensor([[9.9999988e-01 1.0950911e-07 3.1670200e-09 3.4008283e-13]], shape=(1, 4), dtype=float32)\n",
      "[0.3, 0.9, 0.2, 0.9]\n",
      "tf.Tensor([[9.9999988e-01 9.5927064e-08 2.3737308e-09 2.3781945e-13]], shape=(1, 4), dtype=float32)\n"
     ]
    },
    {
     "name": "stderr",
     "output_type": "stream",
     "text": [
      " 69%|████████████████████████████████████████████████▎                     | 69101/100000 [10:35:59<4:25:07,  1.94it/s]"
     ]
    },
    {
     "name": "stdout",
     "output_type": "stream",
     "text": [
      "2.720904221567055\n",
      "85\n"
     ]
    },
    {
     "name": "stderr",
     "output_type": "stream",
     "text": [
      " 69%|████████████████████████████████████████████████▍                     | 69201/100000 [10:36:47<3:50:44,  2.22it/s]"
     ]
    },
    {
     "name": "stdout",
     "output_type": "stream",
     "text": [
      "3.1867493421105046\n",
      "93\n",
      "[0.0, 0.5, 0.6, 0.2]\n",
      "tf.Tensor([[9.99779642e-01 9.39921811e-05 1.26293366e-04 1.21841905e-08]], shape=(1, 4), dtype=float32)\n",
      "[0.1, 0.5, 0.6, 0.2]\n",
      "tf.Tensor([[9.9999905e-01 8.3817520e-07 6.4718186e-08 3.4351248e-12]], shape=(1, 4), dtype=float32)\n",
      "[0.2, 0.5, 0.6, 0.2]\n",
      "tf.Tensor([[9.9999988e-01 1.2257365e-07 3.1846166e-09 2.8222856e-13]], shape=(1, 4), dtype=float32)\n",
      "[0.3, 0.5, 0.6, 0.2]\n",
      "tf.Tensor([[9.99999881e-01 1.02182796e-07 2.58835908e-09 3.23680942e-13]], shape=(1, 4), dtype=float32)\n",
      "[0.3, 0.4, 0.6, 0.2]\n",
      "tf.Tensor([[9.9999988e-01 1.1386951e-07 2.9813885e-09 3.6241973e-13]], shape=(1, 4), dtype=float32)\n",
      "[0.4, 0.4, 0.6, 0.2]\n",
      "tf.Tensor([[9.9999988e-01 9.3789673e-08 2.3521203e-09 2.7780214e-13]], shape=(1, 4), dtype=float32)\n",
      "[0.4, 0.3, 0.6, 0.2]\n",
      "tf.Tensor([[9.9999988e-01 1.0579970e-07 2.7567029e-09 3.1751124e-13]], shape=(1, 4), dtype=float32)\n",
      "[0.5, 0.3, 0.6, 0.2]\n",
      "tf.Tensor([[9.9999988e-01 9.0708006e-08 2.2785793e-09 2.6396363e-13]], shape=(1, 4), dtype=float32)\n",
      "[0.5, 0.2, 0.6, 0.2]\n",
      "tf.Tensor([[9.9999988e-01 1.0256434e-07 2.6861802e-09 3.0397272e-13]], shape=(1, 4), dtype=float32)\n"
     ]
    },
    {
     "name": "stderr",
     "output_type": "stream",
     "text": [
      " 69%|████████████████████████████████████████████████▌                     | 69301/100000 [10:37:36<3:35:06,  2.38it/s]"
     ]
    },
    {
     "name": "stdout",
     "output_type": "stream",
     "text": [
      "3.77444574331079\n",
      "85\n"
     ]
    },
    {
     "name": "stderr",
     "output_type": "stream",
     "text": [
      " 69%|████████████████████████████████████████████████▌                     | 69401/100000 [10:38:21<3:35:04,  2.37it/s]"
     ]
    },
    {
     "name": "stdout",
     "output_type": "stream",
     "text": [
      "3.503559435671835\n",
      "86\n",
      "[0.8, 0.4, 0.7, 0.1]\n",
      "tf.Tensor([[9.9986422e-01 6.7683555e-05 6.8038134e-05 4.3697401e-09]], shape=(1, 4), dtype=float32)\n",
      "[0.8, 0.3, 0.7, 0.1]\n",
      "tf.Tensor([[9.9999952e-01 4.9073839e-07 2.7227061e-08 9.3282381e-13]], shape=(1, 4), dtype=float32)\n",
      "[0.8, 0.2, 0.7, 0.1]\n",
      "tf.Tensor([[9.9999988e-01 7.8062570e-08 1.7915879e-09 1.2340828e-13]], shape=(1, 4), dtype=float32)\n",
      "[0.8, 0.1, 0.7, 0.1]\n",
      "tf.Tensor([[9.9999988e-01 7.8952922e-08 1.8173246e-09 1.7847968e-13]], shape=(1, 4), dtype=float32)\n"
     ]
    },
    {
     "name": "stderr",
     "output_type": "stream",
     "text": [
      " 70%|████████████████████████████████████████████████▋                     | 69501/100000 [10:39:08<3:18:40,  2.56it/s]"
     ]
    },
    {
     "name": "stdout",
     "output_type": "stream",
     "text": [
      "3.5815788534841486\n",
      "87\n"
     ]
    },
    {
     "name": "stderr",
     "output_type": "stream",
     "text": [
      " 70%|████████████████████████████████████████████████▋                     | 69601/100000 [10:39:58<3:28:59,  2.42it/s]"
     ]
    },
    {
     "name": "stdout",
     "output_type": "stream",
     "text": [
      "3.814584145908115\n",
      "89\n",
      "[0.2, 0.1, 0.2, 0.9]\n",
      "tf.Tensor([[9.9970621e-01 1.0792589e-04 1.8575594e-04 2.0835660e-08]], shape=(1, 4), dtype=float32)\n",
      "[0.2, 0.2, 0.2, 0.9]\n",
      "tf.Tensor([[9.9999869e-01 1.2190221e-06 1.4029192e-07 8.3512077e-12]], shape=(1, 4), dtype=float32)\n",
      "[0.2, 0.3, 0.2, 0.9]\n",
      "tf.Tensor([[9.9999988e-01 1.5346041e-07 4.8073763e-09 4.5897764e-13]], shape=(1, 4), dtype=float32)\n",
      "[0.2, 0.4, 0.2, 0.9]\n",
      "tf.Tensor([[9.9999988e-01 1.2985022e-07 3.8195869e-09 5.1624921e-13]], shape=(1, 4), dtype=float32)\n",
      "[0.2, 0.5, 0.2, 0.9]\n",
      "tf.Tensor([[9.9999988e-01 1.2139462e-07 3.4619887e-09 4.5234302e-13]], shape=(1, 4), dtype=float32)\n",
      "[0.2, 0.6, 0.2, 0.9]\n",
      "tf.Tensor([[9.9999988e-01 1.1395228e-07 3.1556056e-09 3.9954932e-13]], shape=(1, 4), dtype=float32)\n",
      "[0.2, 0.7, 0.2, 0.9]\n",
      "tf.Tensor([[9.9999988e-01 1.0730093e-07 2.8885532e-09 3.5498443e-13]], shape=(1, 4), dtype=float32)\n",
      "[0.2, 0.8, 0.2, 0.9]\n",
      "tf.Tensor([[9.9999988e-01 1.0128440e-07 2.6526126e-09 3.1669833e-13]], shape=(1, 4), dtype=float32)\n"
     ]
    },
    {
     "name": "stderr",
     "output_type": "stream",
     "text": [
      " 70%|████████████████████████████████████████████████▊                     | 69702/100000 [10:40:46<3:04:43,  2.73it/s]"
     ]
    },
    {
     "name": "stdout",
     "output_type": "stream",
     "text": [
      "3.1386855215364404\n",
      "85\n"
     ]
    },
    {
     "name": "stderr",
     "output_type": "stream",
     "text": [
      " 70%|████████████████████████████████████████████████▊                     | 69801/100000 [10:41:36<5:49:52,  1.44it/s]"
     ]
    },
    {
     "name": "stdout",
     "output_type": "stream",
     "text": [
      "2.7029815609579186\n",
      "87\n",
      "[0.6, 0.0, 0.2, 0.9]\n",
      "tf.Tensor([[9.9983644e-01 6.9582558e-05 9.3942770e-05 8.5319805e-09]], shape=(1, 4), dtype=float32)\n",
      "[0.6, 0.1, 0.2, 0.9]\n",
      "tf.Tensor([[9.9999928e-01 6.7590571e-07 5.4129597e-08 2.7232452e-12]], shape=(1, 4), dtype=float32)\n",
      "[0.6, 0.2, 0.2, 0.9]\n",
      "tf.Tensor([[9.9999988e-01 1.0960544e-07 3.0227467e-09 2.5419968e-13]], shape=(1, 4), dtype=float32)\n",
      "[0.6, 0.3, 0.2, 0.9]\n",
      "tf.Tensor([[9.9999988e-01 9.8464675e-08 2.6824323e-09 3.0785398e-13]], shape=(1, 4), dtype=float32)\n",
      "[0.6, 0.4, 0.2, 0.9]\n",
      "tf.Tensor([[9.9999988e-01 9.3880232e-08 2.4938720e-09 2.7936486e-13]], shape=(1, 4), dtype=float32)\n",
      "[0.6, 0.5, 0.2, 0.9]\n",
      "tf.Tensor([[9.9999988e-01 8.9613614e-08 2.3229532e-09 2.5412552e-13]], shape=(1, 4), dtype=float32)\n",
      "[0.6, 0.6, 0.2, 0.9]\n",
      "tf.Tensor([[9.9999988e-01 7.9657042e-08 1.7457518e-09 1.7926643e-13]], shape=(1, 4), dtype=float32)\n",
      "[0.5, 0.6, 0.2, 0.9]\n",
      "tf.Tensor([[9.9999988e-01 9.1084743e-08 2.3268334e-09 2.5604245e-13]], shape=(1, 4), dtype=float32)\n",
      "[0.5, 0.7, 0.2, 0.9]\n",
      "tf.Tensor([[9.9999988e-01 7.9340737e-08 1.6982387e-09 1.7397116e-13]], shape=(1, 4), dtype=float32)\n",
      "[0.4, 0.7, 0.2, 0.9]\n",
      "tf.Tensor([[9.9999988e-01 9.1721247e-08 2.2940951e-09 2.5424622e-13]], shape=(1, 4), dtype=float32)\n"
     ]
    },
    {
     "name": "stderr",
     "output_type": "stream",
     "text": [
      " 70%|████████████████████████████████████████████████▉                     | 69901/100000 [10:42:24<4:49:45,  1.73it/s]"
     ]
    },
    {
     "name": "stdout",
     "output_type": "stream",
     "text": [
      "3.564250886712566\n",
      "91\n"
     ]
    },
    {
     "name": "stderr",
     "output_type": "stream",
     "text": [
      " 70%|█████████████████████████████████████████████████                     | 70001/100000 [10:43:13<4:43:09,  1.77it/s]"
     ]
    },
    {
     "name": "stdout",
     "output_type": "stream",
     "text": [
      "3.5050312623285045\n",
      "90\n",
      "[0.8, 0.2, 0.7, 0.1]\n",
      "tf.Tensor([[9.9984705e-01 7.3522584e-05 7.9326317e-05 5.3980092e-09]], shape=(1, 4), dtype=float32)\n",
      "[0.8, 0.1, 0.7, 0.1]\n",
      "tf.Tensor([[9.9999952e-01 5.1316550e-07 2.7404985e-08 9.9088381e-13]], shape=(1, 4), dtype=float32)\n"
     ]
    },
    {
     "name": "stderr",
     "output_type": "stream",
     "text": [
      " 70%|█████████████████████████████████████████████████                     | 70101/100000 [10:44:03<3:59:45,  2.08it/s]"
     ]
    },
    {
     "name": "stdout",
     "output_type": "stream",
     "text": [
      "3.643657801527401\n",
      "85\n"
     ]
    },
    {
     "name": "stderr",
     "output_type": "stream",
     "text": [
      " 70%|█████████████████████████████████████████████████▏                    | 70201/100000 [10:44:54<3:46:52,  2.19it/s]"
     ]
    },
    {
     "name": "stdout",
     "output_type": "stream",
     "text": [
      "3.402128861896252\n",
      "87\n",
      "[0.3, 0.8, 0.7, 0.4]\n",
      "tf.Tensor([[9.9971336e-01 1.2555512e-04 1.6103202e-04 1.2016320e-08]], shape=(1, 4), dtype=float32)\n",
      "[0.3, 0.7, 0.7, 0.4]\n",
      "tf.Tensor([[9.9999928e-01 6.6635010e-07 3.9726434e-08 1.5412903e-12]], shape=(1, 4), dtype=float32)\n",
      "[0.4, 0.7, 0.7, 0.4]\n",
      "tf.Tensor([[9.9999988e-01 9.2006850e-08 2.1003914e-09 1.5720854e-13]], shape=(1, 4), dtype=float32)\n",
      "[0.4, 0.6, 0.7, 0.4]\n",
      "tf.Tensor([[9.9999988e-01 9.5128286e-08 2.2999969e-09 2.4676726e-13]], shape=(1, 4), dtype=float32)\n",
      "[0.5, 0.6, 0.7, 0.4]\n",
      "tf.Tensor([[9.9999988e-01 8.3584226e-08 1.9858928e-09 2.1760359e-13]], shape=(1, 4), dtype=float32)\n",
      "[0.5, 0.5, 0.7, 0.4]\n",
      "tf.Tensor([[9.9999988e-01 9.2661992e-08 2.2558551e-09 2.3847398e-13]], shape=(1, 4), dtype=float32)\n",
      "[0.6, 0.5, 0.7, 0.4]\n",
      "tf.Tensor([[9.9999988e-01 8.0962245e-08 1.9255497e-09 2.0693820e-13]], shape=(1, 4), dtype=float32)\n",
      "[0.6, 0.4, 0.7, 0.4]\n",
      "tf.Tensor([[9.9999988e-01 9.0163788e-08 2.2076874e-09 2.2954869e-13]], shape=(1, 4), dtype=float32)\n"
     ]
    },
    {
     "name": "stderr",
     "output_type": "stream",
     "text": [
      " 70%|█████████████████████████████████████████████████▏                    | 70301/100000 [10:45:43<2:28:38,  3.33it/s]"
     ]
    },
    {
     "name": "stdout",
     "output_type": "stream",
     "text": [
      "3.947173209295096\n",
      "90\n"
     ]
    },
    {
     "name": "stderr",
     "output_type": "stream",
     "text": [
      " 70%|█████████████████████████████████████████████████▎                    | 70402/100000 [10:46:30<3:52:59,  2.12it/s]"
     ]
    },
    {
     "name": "stdout",
     "output_type": "stream",
     "text": [
      "3.0618435978905687\n",
      "86\n",
      "[0.0, 0.1, 0.6, 0.2]\n",
      "tf.Tensor([[9.9965274e-01 1.3069074e-04 2.1650603e-04 2.5294909e-08]], shape=(1, 4), dtype=float32)\n",
      "[0.1, 0.1, 0.6, 0.2]\n",
      "tf.Tensor([[9.9999857e-01 1.3598227e-06 1.4204880e-07 9.0328404e-12]], shape=(1, 4), dtype=float32)\n",
      "[0.2, 0.1, 0.6, 0.2]\n",
      "tf.Tensor([[9.9999976e-01 1.8493458e-07 5.6575402e-09 5.7357694e-13]], shape=(1, 4), dtype=float32)\n",
      "[0.3, 0.1, 0.6, 0.2]\n",
      "tf.Tensor([[9.9999988e-01 1.5215019e-07 4.1920285e-09 5.7681464e-13]], shape=(1, 4), dtype=float32)\n",
      "[0.4, 0.1, 0.6, 0.2]\n",
      "tf.Tensor([[9.9999988e-01 1.3573322e-07 3.6485215e-09 4.7465401e-13]], shape=(1, 4), dtype=float32)\n",
      "[0.5, 0.1, 0.6, 0.2]\n",
      "tf.Tensor([[9.9999988e-01 1.2221879e-07 3.2122887e-09 3.9635458e-13]], shape=(1, 4), dtype=float32)\n",
      "[0.6, 0.1, 0.6, 0.2]\n",
      "tf.Tensor([[9.9999988e-01 1.1656240e-07 3.1805858e-09 3.8962065e-13]], shape=(1, 4), dtype=float32)\n"
     ]
    },
    {
     "name": "stderr",
     "output_type": "stream",
     "text": [
      " 71%|█████████████████████████████████████████████████▎                    | 70501/100000 [10:47:19<3:10:26,  2.58it/s]"
     ]
    },
    {
     "name": "stdout",
     "output_type": "stream",
     "text": [
      "3.3428158158413876\n",
      "84\n"
     ]
    },
    {
     "name": "stderr",
     "output_type": "stream",
     "text": [
      " 71%|█████████████████████████████████████████████████▍                    | 70601/100000 [10:48:05<2:45:40,  2.96it/s]"
     ]
    },
    {
     "name": "stdout",
     "output_type": "stream",
     "text": [
      "4.680322325269024\n",
      "91\n",
      "[0.2, 0.8, 0.1, 0.1]\n",
      "tf.Tensor([[9.9963892e-01 1.5035723e-04 2.1063612e-04 1.6671873e-08]], shape=(1, 4), dtype=float32)\n",
      "[0.2, 0.7, 0.1, 0.1]\n",
      "tf.Tensor([[9.9999869e-01 1.1418261e-06 9.3415537e-08 3.3525038e-12]], shape=(1, 4), dtype=float32)\n",
      "[0.2, 0.6, 0.1, 0.1]\n",
      "tf.Tensor([[9.9999988e-01 1.0617288e-07 2.4827613e-09 1.8162883e-13]], shape=(1, 4), dtype=float32)\n",
      "[0.2, 0.5, 0.1, 0.1]\n",
      "tf.Tensor([[9.99999881e-01 1.08003775e-07 2.74288281e-09 3.30087682e-13]], shape=(1, 4), dtype=float32)\n",
      "[0.2, 0.4, 0.1, 0.1]\n",
      "tf.Tensor([[9.9999988e-01 1.1255652e-07 2.9069138e-09 3.5635408e-13]], shape=(1, 4), dtype=float32)\n",
      "[0.2, 0.3, 0.1, 0.1]\n",
      "tf.Tensor([[9.9999988e-01 1.1703858e-07 3.0721463e-09 3.8301209e-13]], shape=(1, 4), dtype=float32)\n",
      "[0.2, 0.2, 0.1, 0.1]\n",
      "tf.Tensor([[9.9999988e-01 1.2172664e-07 3.2493854e-09 4.1228270e-13]], shape=(1, 4), dtype=float32)\n",
      "[0.2, 0.1, 0.1, 0.1]\n",
      "tf.Tensor([[9.9999988e-01 1.3250326e-07 3.3546812e-09 4.2035971e-13]], shape=(1, 4), dtype=float32)\n"
     ]
    },
    {
     "name": "stderr",
     "output_type": "stream",
     "text": [
      " 71%|█████████████████████████████████████████████████▍                    | 70701/100000 [10:48:51<3:49:13,  2.13it/s]"
     ]
    },
    {
     "name": "stdout",
     "output_type": "stream",
     "text": [
      "4.011016593372685\n",
      "92\n"
     ]
    },
    {
     "name": "stderr",
     "output_type": "stream",
     "text": [
      " 71%|█████████████████████████████████████████████████▌                    | 70802/100000 [10:49:41<3:44:35,  2.17it/s]"
     ]
    },
    {
     "name": "stdout",
     "output_type": "stream",
     "text": [
      "2.7258492987853398\n",
      "84\n",
      "[0.4, 0.5, 0.2, 0.9]\n",
      "tf.Tensor([[9.998241e-01 7.666596e-05 9.927597e-05 8.641736e-09]], shape=(1, 4), dtype=float32)\n",
      "[0.4, 0.6, 0.2, 0.9]\n",
      "tf.Tensor([[9.9999928e-01 6.7231463e-07 4.8815906e-08 2.2829466e-12]], shape=(1, 4), dtype=float32)\n",
      "[0.4, 0.7, 0.2, 0.9]\n",
      "tf.Tensor([[9.99999881e-01 1.02063986e-07 2.53297094e-09 2.03839929e-13]], shape=(1, 4), dtype=float32)\n",
      "[0.4, 0.8, 0.2, 0.9]\n",
      "tf.Tensor([[9.9999988e-01 8.6350546e-08 1.8628357e-09 1.9681507e-13]], shape=(1, 4), dtype=float32)\n",
      "[0.3, 0.8, 0.2, 0.9]\n",
      "tf.Tensor([[9.9999988e-01 9.9475344e-08 2.4937008e-09 2.8399920e-13]], shape=(1, 4), dtype=float32)\n",
      "[0.3, 0.9, 0.2, 0.9]\n",
      "tf.Tensor([[9.9999988e-01 8.6227438e-08 1.8143772e-09 1.9141393e-13]], shape=(1, 4), dtype=float32)\n"
     ]
    },
    {
     "name": "stderr",
     "output_type": "stream",
     "text": [
      " 71%|█████████████████████████████████████████████████▋                    | 70901/100000 [10:50:27<3:59:50,  2.02it/s]"
     ]
    },
    {
     "name": "stdout",
     "output_type": "stream",
     "text": [
      "4.262812981295204\n",
      "91\n"
     ]
    },
    {
     "name": "stderr",
     "output_type": "stream",
     "text": [
      " 71%|█████████████████████████████████████████████████▋                    | 71001/100000 [10:51:16<3:52:29,  2.08it/s]"
     ]
    },
    {
     "name": "stdout",
     "output_type": "stream",
     "text": [
      "2.624595244525121\n",
      "89\n",
      "[0.0, 0.7, 0.1, 0.1]\n",
      "tf.Tensor([[9.9942327e-01 2.1187551e-04 3.6490586e-04 3.3509583e-08]], shape=(1, 4), dtype=float32)\n",
      "[0.0, 0.6, 0.1, 0.1]\n",
      "tf.Tensor([[9.9999797e-01 1.8332830e-06 1.9554923e-07 7.7027967e-12]], shape=(1, 4), dtype=float32)\n",
      "[0.0, 0.5, 0.1, 0.1]\n",
      "tf.Tensor([[9.9999988e-01 1.3660537e-07 3.4635343e-09 2.6637208e-13]], shape=(1, 4), dtype=float32)\n",
      "[0.0, 0.4, 0.1, 0.1]\n",
      "tf.Tensor([[9.9999988e-01 1.3376427e-07 3.5241485e-09 4.6272041e-13]], shape=(1, 4), dtype=float32)\n",
      "[0.0, 0.3, 0.1, 0.1]\n",
      "tf.Tensor([[9.9999988e-01 1.3965028e-07 3.7462242e-09 5.0156786e-13]], shape=(1, 4), dtype=float32)\n",
      "[0.0, 0.2, 0.1, 0.1]\n",
      "tf.Tensor([[9.9999988e-01 1.4594137e-07 3.9889834e-09 5.4525118e-13]], shape=(1, 4), dtype=float32)\n",
      "[0.0, 0.1, 0.1, 0.1]\n",
      "tf.Tensor([[9.9999988e-01 1.7832645e-07 5.1390221e-09 7.1788479e-13]], shape=(1, 4), dtype=float32)\n"
     ]
    },
    {
     "name": "stderr",
     "output_type": "stream",
     "text": [
      " 71%|█████████████████████████████████████████████████▊                    | 71101/100000 [10:52:02<4:42:29,  1.70it/s]"
     ]
    },
    {
     "name": "stdout",
     "output_type": "stream",
     "text": [
      "4.416209185144916\n",
      "91\n"
     ]
    },
    {
     "name": "stderr",
     "output_type": "stream",
     "text": [
      " 71%|█████████████████████████████████████████████████▊                    | 71201/100000 [10:52:49<4:29:50,  1.78it/s]"
     ]
    },
    {
     "name": "stdout",
     "output_type": "stream",
     "text": [
      "3.319881294449354\n",
      "90\n",
      "[0.0, 0.9, 0.7, 0.4]\n",
      "tf.Tensor([[9.9979228e-01 9.4653267e-05 1.1306387e-04 9.5944053e-09]], shape=(1, 4), dtype=float32)\n",
      "[0.1, 0.9, 0.7, 0.4]\n",
      "tf.Tensor([[9.9999928e-01 7.0504007e-07 4.3540666e-08 1.9832766e-12]], shape=(1, 4), dtype=float32)\n",
      "[0.2, 0.9, 0.7, 0.4]\n",
      "tf.Tensor([[9.99999881e-01 1.04870495e-07 2.43275378e-09 2.01094648e-13]], shape=(1, 4), dtype=float32)\n",
      "[0.2, 0.8, 0.7, 0.4]\n",
      "tf.Tensor([[9.9999988e-01 1.0849538e-07 2.5897218e-09 2.9599421e-13]], shape=(1, 4), dtype=float32)\n",
      "[0.3, 0.8, 0.7, 0.4]\n",
      "tf.Tensor([[9.9999988e-01 9.2884598e-08 2.1681690e-09 2.4621483e-13]], shape=(1, 4), dtype=float32)\n",
      "[0.3, 0.7, 0.7, 0.4]\n",
      "tf.Tensor([[9.9999988e-01 1.0244742e-07 2.4332132e-09 2.6506903e-13]], shape=(1, 4), dtype=float32)\n",
      "[0.4, 0.7, 0.7, 0.4]\n",
      "tf.Tensor([[9.9999988e-01 9.0310607e-08 2.1182502e-09 2.3660417e-13]], shape=(1, 4), dtype=float32)\n",
      "[0.4, 0.6, 0.7, 0.4]\n",
      "tf.Tensor([[9.9999988e-01 9.9838395e-08 2.3900266e-09 2.5684413e-13]], shape=(1, 4), dtype=float32)\n",
      "[0.5, 0.6, 0.7, 0.4]\n",
      "tf.Tensor([[9.9999988e-01 8.7744674e-08 2.0642417e-09 2.2658030e-13]], shape=(1, 4), dtype=float32)\n",
      "[0.5, 0.5, 0.7, 0.4]\n",
      "tf.Tensor([[9.9999988e-01 9.7252027e-08 2.3441975e-09 2.4821836e-13]], shape=(1, 4), dtype=float32)\n"
     ]
    },
    {
     "name": "stderr",
     "output_type": "stream",
     "text": [
      " 71%|█████████████████████████████████████████████████▉                    | 71301/100000 [10:53:36<3:10:51,  2.51it/s]"
     ]
    },
    {
     "name": "stdout",
     "output_type": "stream",
     "text": [
      "4.046377288462747\n",
      "92\n"
     ]
    },
    {
     "name": "stderr",
     "output_type": "stream",
     "text": [
      " 71%|█████████████████████████████████████████████████▉                    | 71401/100000 [10:54:24<2:34:13,  3.09it/s]"
     ]
    },
    {
     "name": "stdout",
     "output_type": "stream",
     "text": [
      "4.924815267363626\n",
      "89\n",
      "[0.8, 0.4, 0.7, 0.1]\n",
      "tf.Tensor([[9.9982351e-01 8.5635234e-05 9.0983565e-05 6.0094725e-09]], shape=(1, 4), dtype=float32)\n",
      "[0.8, 0.3, 0.7, 0.1]\n",
      "tf.Tensor([[9.9999940e-01 5.7512864e-07 3.2272368e-08 1.0982149e-12]], shape=(1, 4), dtype=float32)\n",
      "[0.8, 0.2, 0.7, 0.1]\n",
      "tf.Tensor([[9.9999988e-01 8.7480139e-08 1.9676216e-09 1.3535509e-13]], shape=(1, 4), dtype=float32)\n",
      "[0.8, 0.1, 0.7, 0.1]\n",
      "tf.Tensor([[9.9999988e-01 8.8257110e-08 1.9925703e-09 1.9620750e-13]], shape=(1, 4), dtype=float32)\n"
     ]
    },
    {
     "name": "stderr",
     "output_type": "stream",
     "text": [
      " 72%|██████████████████████████████████████████████████                    | 71501/100000 [10:55:15<2:51:33,  2.77it/s]"
     ]
    },
    {
     "name": "stdout",
     "output_type": "stream",
     "text": [
      "3.0236091802572385\n",
      "80\n"
     ]
    },
    {
     "name": "stderr",
     "output_type": "stream",
     "text": [
      " 72%|██████████████████████████████████████████████████                    | 71601/100000 [10:56:04<3:19:57,  2.37it/s]"
     ]
    },
    {
     "name": "stdout",
     "output_type": "stream",
     "text": [
      "3.191445153920654\n",
      "84\n",
      "[0.3, 0.8, 0.1, 0.1]\n",
      "tf.Tensor([[9.9920952e-01 2.7124674e-04 5.1912246e-04 4.2473101e-08]], shape=(1, 4), dtype=float32)\n",
      "[0.3, 0.7, 0.1, 0.1]\n",
      "tf.Tensor([[9.9999833e-01 1.5175151e-06 1.4372731e-07 4.6439276e-12]], shape=(1, 4), dtype=float32)\n",
      "[0.3, 0.6, 0.1, 0.1]\n",
      "tf.Tensor([[9.9999988e-01 1.2557761e-07 3.2105245e-09 2.1841237e-13]], shape=(1, 4), dtype=float32)\n",
      "[0.3, 0.5, 0.1, 0.1]\n",
      "tf.Tensor([[9.9999988e-01 1.2556862e-07 3.4989582e-09 3.9154791e-13]], shape=(1, 4), dtype=float32)\n",
      "[0.3, 0.4, 0.1, 0.1]\n",
      "tf.Tensor([[9.9999988e-01 1.3066874e-07 3.7007926e-09 4.2182471e-13]], shape=(1, 4), dtype=float32)\n",
      "[0.3, 0.3, 0.1, 0.1]\n",
      "tf.Tensor([[9.9999988e-01 1.3574862e-07 3.9056638e-09 4.5286959e-13]], shape=(1, 4), dtype=float32)\n",
      "[0.3, 0.2, 0.1, 0.1]\n",
      "tf.Tensor([[9.9999988e-01 1.4671502e-07 3.9640757e-09 4.5020151e-13]], shape=(1, 4), dtype=float32)\n",
      "[0.2, 0.2, 0.1, 0.1]\n",
      "tf.Tensor([[9.9999988e-01 1.5009776e-07 4.3811244e-09 5.3999974e-13]], shape=(1, 4), dtype=float32)\n",
      "[0.2, 0.1, 0.1, 0.1]\n",
      "tf.Tensor([[9.9999988e-01 1.6796739e-07 4.7297219e-09 5.8412845e-13]], shape=(1, 4), dtype=float32)\n"
     ]
    },
    {
     "name": "stderr",
     "output_type": "stream",
     "text": [
      " 72%|██████████████████████████████████████████████████▏                   | 71701/100000 [10:56:51<3:38:11,  2.16it/s]"
     ]
    },
    {
     "name": "stdout",
     "output_type": "stream",
     "text": [
      "4.035473694994101\n",
      "89\n"
     ]
    },
    {
     "name": "stderr",
     "output_type": "stream",
     "text": [
      " 72%|██████████████████████████████████████████████████▎                   | 71801/100000 [10:57:40<3:05:58,  2.53it/s]"
     ]
    },
    {
     "name": "stdout",
     "output_type": "stream",
     "text": [
      "3.842333609816255\n",
      "87\n",
      "[0.9, 0.7, 0.7, 0.1]\n",
      "tf.Tensor([[9.9963367e-01 1.5551395e-04 2.1073145e-04 1.3346883e-08]], shape=(1, 4), dtype=float32)\n",
      "[0.9, 0.6, 0.7, 0.1]\n",
      "tf.Tensor([[9.9999928e-01 7.5056494e-07 4.6229612e-08 1.2943787e-12]], shape=(1, 4), dtype=float32)\n",
      "[0.9, 0.5, 0.7, 0.1]\n",
      "tf.Tensor([[9.9999988e-01 9.7781751e-08 2.2833000e-09 1.3757792e-13]], shape=(1, 4), dtype=float32)\n",
      "[0.9, 0.4, 0.7, 0.1]\n",
      "tf.Tensor([[9.9999988e-01 9.2970552e-08 2.4105093e-09 2.2220122e-13]], shape=(1, 4), dtype=float32)\n",
      "[0.9, 0.3, 0.7, 0.1]\n",
      "tf.Tensor([[9.9999988e-01 9.5680015e-08 2.5187541e-09 2.3515456e-13]], shape=(1, 4), dtype=float32)\n",
      "[0.9, 0.2, 0.7, 0.1]\n",
      "tf.Tensor([[9.9999988e-01 1.0144274e-07 2.4836186e-09 2.2364857e-13]], shape=(1, 4), dtype=float32)\n",
      "[0.8, 0.2, 0.7, 0.1]\n",
      "tf.Tensor([[9.9999988e-01 1.0318891e-07 2.7552360e-09 2.6861491e-13]], shape=(1, 4), dtype=float32)\n",
      "[0.8, 0.1, 0.7, 0.1]\n",
      "tf.Tensor([[9.99999881e-01 1.11450035e-07 2.81739143e-09 2.68606724e-13]], shape=(1, 4), dtype=float32)\n"
     ]
    },
    {
     "name": "stderr",
     "output_type": "stream",
     "text": [
      " 72%|██████████████████████████████████████████████████▎                   | 71900/100000 [10:58:26<3:25:52,  2.27it/s]"
     ]
    },
    {
     "name": "stdout",
     "output_type": "stream",
     "text": [
      "3.835537368408765\n",
      "89\n"
     ]
    },
    {
     "name": "stderr",
     "output_type": "stream",
     "text": [
      " 72%|██████████████████████████████████████████████████▍                   | 72001/100000 [10:59:16<4:56:05,  1.58it/s]"
     ]
    },
    {
     "name": "stdout",
     "output_type": "stream",
     "text": [
      "2.9320484226480152\n",
      "84\n",
      "[0.0, 0.5, 0.6, 0.2]\n",
      "tf.Tensor([[9.9901223e-01 2.9834805e-04 6.8933744e-04 7.7290672e-08]], shape=(1, 4), dtype=float32)\n",
      "[0.1, 0.5, 0.6, 0.2]\n",
      "tf.Tensor([[9.9999797e-01 1.7326594e-06 1.8142113e-07 8.8562309e-12]], shape=(1, 4), dtype=float32)\n",
      "[0.2, 0.5, 0.6, 0.2]\n",
      "tf.Tensor([[9.9999976e-01 1.8801013e-07 5.4160885e-09 4.5536583e-13]], shape=(1, 4), dtype=float32)\n",
      "[0.3, 0.5, 0.6, 0.2]\n",
      "tf.Tensor([[9.9999988e-01 1.5261654e-07 4.2372945e-09 5.1295323e-13]], shape=(1, 4), dtype=float32)\n",
      "[0.3, 0.4, 0.6, 0.2]\n",
      "tf.Tensor([[9.9999988e-01 1.6968012e-07 4.8712949e-09 5.7306422e-13]], shape=(1, 4), dtype=float32)\n",
      "[0.4, 0.4, 0.6, 0.2]\n",
      "tf.Tensor([[9.9999988e-01 1.4011265e-07 3.8518726e-09 4.3989004e-13]], shape=(1, 4), dtype=float32)\n",
      "[0.4, 0.3, 0.6, 0.2]\n",
      "tf.Tensor([[9.999999e-01 1.577563e-07 4.508280e-09 5.020762e-13]], shape=(1, 4), dtype=float32)\n",
      "[0.5, 0.3, 0.6, 0.2]\n",
      "tf.Tensor([[9.9999988e-01 1.3549382e-07 3.7318681e-09 4.1794216e-13]], shape=(1, 4), dtype=float32)\n",
      "[0.5, 0.2, 0.6, 0.2]\n",
      "tf.Tensor([[9.9999988e-01 1.5295282e-07 4.3944985e-09 4.8083748e-13]], shape=(1, 4), dtype=float32)\n"
     ]
    },
    {
     "name": "stderr",
     "output_type": "stream",
     "text": [
      " 72%|██████████████████████████████████████████████████▍                   | 72101/100000 [11:00:01<3:33:22,  2.18it/s]"
     ]
    },
    {
     "name": "stdout",
     "output_type": "stream",
     "text": [
      "4.459715019532736\n",
      "94\n"
     ]
    },
    {
     "name": "stderr",
     "output_type": "stream",
     "text": [
      " 72%|██████████████████████████████████████████████████▌                   | 72201/100000 [11:00:49<3:58:01,  1.95it/s]"
     ]
    },
    {
     "name": "stdout",
     "output_type": "stream",
     "text": [
      "3.2899315467783974\n",
      "88\n",
      "[0.9, 0.2, 0.5, 0.7]\n",
      "tf.Tensor([[9.9952412e-01 1.6687998e-04 3.0891795e-04 2.6195030e-08]], shape=(1, 4), dtype=float32)\n",
      "[0.9, 0.3, 0.5, 0.7]\n",
      "tf.Tensor([[9.999989e-01 9.046823e-07 7.055331e-08 2.698781e-12]], shape=(1, 4), dtype=float32)\n",
      "[0.9, 0.4, 0.5, 0.7]\n",
      "tf.Tensor([[9.9999988e-01 1.2533317e-07 2.9078120e-09 1.8588780e-13]], shape=(1, 4), dtype=float32)\n",
      "[0.8, 0.4, 0.5, 0.7]\n",
      "tf.Tensor([[9.9999988e-01 1.3093432e-07 3.6547969e-09 3.6091315e-13]], shape=(1, 4), dtype=float32)\n",
      "[0.8, 0.5, 0.5, 0.7]\n",
      "tf.Tensor([[9.9999988e-01 1.1370196e-07 2.6531488e-09 2.4289517e-13]], shape=(1, 4), dtype=float32)\n",
      "[0.7, 0.5, 0.5, 0.7]\n",
      "tf.Tensor([[9.9999988e-01 1.3173793e-07 3.6082581e-09 3.5864931e-13]], shape=(1, 4), dtype=float32)\n",
      "[0.7, 0.6, 0.5, 0.7]\n",
      "tf.Tensor([[9.9999988e-01 1.1734504e-07 2.7293194e-09 2.5554968e-13]], shape=(1, 4), dtype=float32)\n",
      "[0.6, 0.6, 0.5, 0.7]\n",
      "tf.Tensor([[9.9999988e-01 1.3481301e-07 3.6745711e-09 3.7222918e-13]], shape=(1, 4), dtype=float32)\n",
      "[0.6, 0.7, 0.5, 0.7]\n",
      "tf.Tensor([[9.9999988e-01 1.2027533e-07 2.7871772e-09 2.6592229e-13]], shape=(1, 4), dtype=float32)\n"
     ]
    },
    {
     "name": "stderr",
     "output_type": "stream",
     "text": [
      " 72%|██████████████████████████████████████████████████▌                   | 72301/100000 [11:01:36<3:46:18,  2.04it/s]"
     ]
    },
    {
     "name": "stdout",
     "output_type": "stream",
     "text": [
      "3.3798686644899902\n",
      "89\n"
     ]
    },
    {
     "name": "stderr",
     "output_type": "stream",
     "text": [
      " 72%|██████████████████████████████████████████████████▋                   | 72401/100000 [11:02:25<4:49:39,  1.59it/s]"
     ]
    },
    {
     "name": "stdout",
     "output_type": "stream",
     "text": [
      "1.9687151544780084\n",
      "87\n",
      "[0.8, 0.0, 0.6, 0.2]\n",
      "tf.Tensor([[9.9920315e-01 2.4280367e-04 5.5408961e-04 5.4501143e-08]], shape=(1, 4), dtype=float32)\n",
      "[0.8, 0.1, 0.6, 0.2]\n",
      "tf.Tensor([[9.9999845e-01 1.3915467e-06 1.2337671e-07 4.4450142e-12]], shape=(1, 4), dtype=float32)\n",
      "[0.7, 0.1, 0.6, 0.2]\n",
      "tf.Tensor([[9.9999988e-01 1.7129301e-07 4.9521893e-09 3.6745495e-13]], shape=(1, 4), dtype=float32)\n",
      "[0.7, 0.2, 0.6, 0.2]\n",
      "tf.Tensor([[9.9999988e-01 1.4396446e-07 3.6090841e-09 3.5929083e-13]], shape=(1, 4), dtype=float32)\n"
     ]
    },
    {
     "name": "stderr",
     "output_type": "stream",
     "text": [
      " 73%|██████████████████████████████████████████████████▊                   | 72501/100000 [11:03:16<3:24:19,  2.24it/s]"
     ]
    },
    {
     "name": "stdout",
     "output_type": "stream",
     "text": [
      "2.7832483441794915\n",
      "87\n"
     ]
    },
    {
     "name": "stderr",
     "output_type": "stream",
     "text": [
      " 73%|██████████████████████████████████████████████████▊                   | 72601/100000 [11:04:05<4:50:02,  1.57it/s]"
     ]
    },
    {
     "name": "stdout",
     "output_type": "stream",
     "text": [
      "2.5861540141289274\n",
      "88\n",
      "[0.3, 0.0, 0.7, 0.1]\n",
      "tf.Tensor([[9.9998641e-01 1.0618339e-05 2.9499904e-06 2.0983640e-10]], shape=(1, 4), dtype=float32)\n",
      "[0.4, 0.0, 0.7, 0.1]\n",
      "tf.Tensor([[9.9999964e-01 3.1655006e-07 8.9300114e-09 5.4331387e-13]], shape=(1, 4), dtype=float32)\n",
      "[0.5, 0.0, 0.7, 0.1]\n",
      "tf.Tensor([[9.9999988e-01 8.8775764e-08 1.3575172e-09 1.2964072e-13]], shape=(1, 4), dtype=float32)\n",
      "[0.6, 0.0, 0.7, 0.1]\n",
      "tf.Tensor([[9.9999988e-01 8.2050931e-08 1.2257411e-09 1.4385135e-13]], shape=(1, 4), dtype=float32)\n",
      "[0.7, 0.0, 0.7, 0.1]\n",
      "tf.Tensor([[9.9999988e-01 7.8226371e-08 1.2109433e-09 1.4057050e-13]], shape=(1, 4), dtype=float32)\n"
     ]
    },
    {
     "name": "stderr",
     "output_type": "stream",
     "text": [
      " 73%|██████████████████████████████████████████████████▉                   | 72702/100000 [11:04:51<3:25:03,  2.22it/s]"
     ]
    },
    {
     "name": "stdout",
     "output_type": "stream",
     "text": [
      "2.9506730988008165\n",
      "88\n"
     ]
    },
    {
     "name": "stderr",
     "output_type": "stream",
     "text": [
      " 73%|██████████████████████████████████████████████████▉                   | 72801/100000 [11:05:41<3:56:46,  1.91it/s]"
     ]
    },
    {
     "name": "stdout",
     "output_type": "stream",
     "text": [
      "3.0379495588772896\n",
      "86\n",
      "[0.3, 0.6, 0.7, 0.1]\n",
      "tf.Tensor([[9.9998093e-01 1.4903541e-05 4.1714011e-06 2.3455116e-10]], shape=(1, 4), dtype=float32)\n",
      "[0.3, 0.5, 0.7, 0.1]\n",
      "tf.Tensor([[9.9999964e-01 3.4282007e-07 9.2995851e-09 3.8437688e-13]], shape=(1, 4), dtype=float32)\n",
      "[0.3, 0.4, 0.7, 0.1]\n",
      "tf.Tensor([[9.9999988e-01 7.0945262e-08 9.2486557e-10 7.2856936e-14]], shape=(1, 4), dtype=float32)\n",
      "[0.4, 0.4, 0.7, 0.1]\n",
      "tf.Tensor([[9.999999e-01 6.591745e-08 9.139145e-10 1.010961e-13]], shape=(1, 4), dtype=float32)\n",
      "[0.4, 0.3, 0.7, 0.1]\n",
      "tf.Tensor([[9.9999988e-01 7.7132071e-08 1.1185071e-09 1.2623005e-13]], shape=(1, 4), dtype=float32)\n",
      "[0.5, 0.3, 0.7, 0.1]\n",
      "tf.Tensor([[9.9999988e-01 6.6335176e-08 9.3115277e-10 1.0423543e-13]], shape=(1, 4), dtype=float32)\n",
      "[0.5, 0.2, 0.7, 0.1]\n",
      "tf.Tensor([[9.9999988e-01 7.4735873e-08 1.0882293e-09 1.2085435e-13]], shape=(1, 4), dtype=float32)\n",
      "[0.6, 0.2, 0.7, 0.1]\n",
      "tf.Tensor([[9.9999988e-01 6.3786736e-08 8.9303159e-10 9.8097901e-14]], shape=(1, 4), dtype=float32)\n",
      "[0.6, 0.1, 0.7, 0.1]\n",
      "tf.Tensor([[9.9999988e-01 7.2402372e-08 1.0586378e-09 1.1563102e-13]], shape=(1, 4), dtype=float32)\n"
     ]
    },
    {
     "name": "stderr",
     "output_type": "stream",
     "text": [
      " 73%|███████████████████████████████████████████████████                   | 72901/100000 [11:06:29<3:09:58,  2.38it/s]"
     ]
    },
    {
     "name": "stdout",
     "output_type": "stream",
     "text": [
      "4.482604508229594\n",
      "87\n"
     ]
    },
    {
     "name": "stderr",
     "output_type": "stream",
     "text": [
      " 73%|███████████████████████████████████████████████████                   | 73001/100000 [11:07:16<4:21:25,  1.72it/s]"
     ]
    },
    {
     "name": "stdout",
     "output_type": "stream",
     "text": [
      "3.66776149328306\n",
      "88\n",
      "[0.7, 0.9, 0.7, 0.4]\n",
      "tf.Tensor([[9.9998868e-01 9.4128063e-06 1.9232555e-06 8.5324241e-11]], shape=(1, 4), dtype=float32)\n",
      "[0.7, 0.8, 0.7, 0.4]\n",
      "tf.Tensor([[9.9999976e-01 2.0299608e-07 3.7728483e-09 1.3035730e-13]], shape=(1, 4), dtype=float32)\n",
      "[0.7, 0.7, 0.7, 0.4]\n",
      "tf.Tensor([[1.0000000e+00 4.9620251e-08 5.6490207e-10 3.8947635e-14]], shape=(1, 4), dtype=float32)\n",
      "[0.7, 0.6, 0.7, 0.4]\n",
      "tf.Tensor([[1.0000000e+00 5.0458119e-08 6.5064737e-10 6.3800541e-14]], shape=(1, 4), dtype=float32)\n",
      "[0.7, 0.5, 0.7, 0.4]\n",
      "tf.Tensor([[1.0000000e+00 5.2039582e-08 6.8357980e-10 6.7845794e-14]], shape=(1, 4), dtype=float32)\n"
     ]
    },
    {
     "name": "stderr",
     "output_type": "stream",
     "text": [
      " 73%|███████████████████████████████████████████████████▏                  | 73101/100000 [11:08:01<3:37:11,  2.06it/s]"
     ]
    },
    {
     "name": "stdout",
     "output_type": "stream",
     "text": [
      "4.756716699830566\n",
      "93\n"
     ]
    },
    {
     "name": "stderr",
     "output_type": "stream",
     "text": [
      " 73%|███████████████████████████████████████████████████▏                  | 73201/100000 [11:08:51<5:01:51,  1.48it/s]"
     ]
    },
    {
     "name": "stdout",
     "output_type": "stream",
     "text": [
      "2.346512873190215\n",
      "89\n",
      "[0.1, 0.9, 0.7, 0.4]\n",
      "tf.Tensor([[9.9998879e-01 9.1640404e-06 2.0432865e-06 1.1859888e-10]], shape=(1, 4), dtype=float32)\n",
      "[0.2, 0.9, 0.7, 0.4]\n",
      "tf.Tensor([[9.9999976e-01 2.8195095e-07 6.7525008e-09 3.0434279e-13]], shape=(1, 4), dtype=float32)\n",
      "[0.2, 0.8, 0.7, 0.4]\n",
      "tf.Tensor([[9.999999e-01 6.658667e-08 8.181643e-10 6.548704e-14]], shape=(1, 4), dtype=float32)\n",
      "[0.3, 0.8, 0.7, 0.4]\n",
      "tf.Tensor([[9.9999988e-01 6.2205103e-08 8.1699786e-10 8.9300590e-14]], shape=(1, 4), dtype=float32)\n",
      "[0.3, 0.7, 0.7, 0.4]\n",
      "tf.Tensor([[9.9999988e-01 6.8258366e-08 9.0581015e-10 9.7176261e-14]], shape=(1, 4), dtype=float32)\n",
      "[0.4, 0.7, 0.7, 0.4]\n",
      "tf.Tensor([[9.9999988e-01 6.0463982e-08 7.9775403e-10 8.6013953e-14]], shape=(1, 4), dtype=float32)\n",
      "[0.4, 0.6, 0.7, 0.4]\n",
      "tf.Tensor([[9.9999988e-01 6.6481725e-08 8.8857827e-10 9.4117151e-14]], shape=(1, 4), dtype=float32)\n",
      "[0.5, 0.6, 0.7, 0.4]\n",
      "tf.Tensor([[1.0000000e+00 5.8662312e-08 7.7503037e-10 8.2336949e-14]], shape=(1, 4), dtype=float32)\n",
      "[0.5, 0.5, 0.7, 0.4]\n",
      "tf.Tensor([[9.999999e-01 6.472034e-08 8.703800e-10 9.094490e-14]], shape=(1, 4), dtype=float32)\n",
      "[0.6, 0.5, 0.7, 0.4]\n",
      "tf.Tensor([[1.0000000e+00 5.6750746e-08 7.4936207e-10 7.8305553e-14]], shape=(1, 4), dtype=float32)\n"
     ]
    },
    {
     "name": "stderr",
     "output_type": "stream",
     "text": [
      " 73%|███████████████████████████████████████████████████▎                  | 73301/100000 [11:09:35<4:04:12,  1.82it/s]"
     ]
    },
    {
     "name": "stdout",
     "output_type": "stream",
     "text": [
      "5.086971555851184\n",
      "89\n"
     ]
    },
    {
     "name": "stderr",
     "output_type": "stream",
     "text": [
      " 73%|███████████████████████████████████████████████████▍                  | 73401/100000 [11:10:26<3:06:50,  2.37it/s]"
     ]
    },
    {
     "name": "stdout",
     "output_type": "stream",
     "text": [
      "2.8052179085392943\n",
      "84\n",
      "[0.4, 0.1, 0.1, 0.1]\n",
      "tf.Tensor([[9.9998355e-01 1.2922167e-05 3.5710514e-06 2.2182275e-10]], shape=(1, 4), dtype=float32)\n",
      "[0.3, 0.1, 0.1, 0.1]\n",
      "tf.Tensor([[9.9999964e-01 3.5146900e-07 9.4688506e-09 4.7543219e-13]], shape=(1, 4), dtype=float32)\n",
      "[0.2, 0.1, 0.1, 0.1]\n",
      "tf.Tensor([[9.9999988e-01 8.6021110e-08 1.1635759e-09 1.0559556e-13]], shape=(1, 4), dtype=float32)\n"
     ]
    },
    {
     "name": "stderr",
     "output_type": "stream",
     "text": [
      " 74%|███████████████████████████████████████████████████▍                  | 73501/100000 [11:11:15<3:46:39,  1.95it/s]"
     ]
    },
    {
     "name": "stdout",
     "output_type": "stream",
     "text": [
      "3.527820456094327\n",
      "87\n"
     ]
    },
    {
     "name": "stderr",
     "output_type": "stream",
     "text": [
      " 74%|███████████████████████████████████████████████████▌                  | 73601/100000 [11:12:03<3:13:11,  2.28it/s]"
     ]
    },
    {
     "name": "stdout",
     "output_type": "stream",
     "text": [
      "4.112070226637374\n",
      "89\n",
      "[0.3, 0.5, 0.6, 0.2]\n",
      "tf.Tensor([[9.9998951e-01 8.6111659e-06 1.9535103e-06 1.1714395e-10]], shape=(1, 4), dtype=float32)\n",
      "[0.4, 0.5, 0.6, 0.2]\n",
      "tf.Tensor([[9.9999976e-01 2.6769990e-07 6.4699068e-09 3.0910246e-13]], shape=(1, 4), dtype=float32)\n",
      "[0.4, 0.4, 0.6, 0.2]\n",
      "tf.Tensor([[9.999999e-01 6.804610e-08 9.107978e-10 7.726966e-14]], shape=(1, 4), dtype=float32)\n",
      "[0.4, 0.3, 0.6, 0.2]\n",
      "tf.Tensor([[9.9999988e-01 7.7413581e-08 1.1144907e-09 1.2595732e-13]], shape=(1, 4), dtype=float32)\n",
      "[0.5, 0.3, 0.6, 0.2]\n",
      "tf.Tensor([[9.999999e-01 6.824483e-08 9.269018e-10 9.851754e-14]], shape=(1, 4), dtype=float32)\n",
      "[0.6, 0.3, 0.6, 0.2]\n",
      "tf.Tensor([[9.9999988e-01 6.1942259e-08 8.4462676e-10 9.1230510e-14]], shape=(1, 4), dtype=float32)\n"
     ]
    },
    {
     "name": "stderr",
     "output_type": "stream",
     "text": [
      " 74%|███████████████████████████████████████████████████▌                  | 73701/100000 [11:12:51<3:04:52,  2.37it/s]"
     ]
    },
    {
     "name": "stdout",
     "output_type": "stream",
     "text": [
      "4.162293266035745\n",
      "90\n"
     ]
    },
    {
     "name": "stderr",
     "output_type": "stream",
     "text": [
      " 74%|███████████████████████████████████████████████████▋                  | 73801/100000 [11:13:37<3:47:22,  1.92it/s]"
     ]
    },
    {
     "name": "stdout",
     "output_type": "stream",
     "text": [
      "2.633720871066744\n",
      "86\n",
      "[0.4, 0.1, 0.6, 0.2]\n",
      "tf.Tensor([[9.9998856e-01 9.1308357e-06 2.2616446e-06 1.4715089e-10]], shape=(1, 4), dtype=float32)\n",
      "[0.5, 0.1, 0.6, 0.2]\n",
      "tf.Tensor([[9.9999976e-01 2.5728053e-07 6.1849073e-09 3.4825387e-13]], shape=(1, 4), dtype=float32)\n",
      "[0.6, 0.1, 0.6, 0.2]\n",
      "tf.Tensor([[9.9999988e-01 8.0441978e-08 1.2144683e-09 1.1394434e-13]], shape=(1, 4), dtype=float32)\n"
     ]
    },
    {
     "name": "stderr",
     "output_type": "stream",
     "text": [
      " 74%|███████████████████████████████████████████████████▋                  | 73901/100000 [11:14:25<4:48:24,  1.51it/s]"
     ]
    },
    {
     "name": "stdout",
     "output_type": "stream",
     "text": [
      "3.342370354383235\n",
      "88\n"
     ]
    },
    {
     "name": "stderr",
     "output_type": "stream",
     "text": [
      " 74%|███████████████████████████████████████████████████▊                  | 74001/100000 [11:15:11<3:32:52,  2.04it/s]"
     ]
    },
    {
     "name": "stdout",
     "output_type": "stream",
     "text": [
      "4.459538743654354\n",
      "93\n",
      "[0.2, 0.2, 0.1, 0.1]\n",
      "tf.Tensor([[9.9997616e-01 1.7915710e-05 5.9436056e-06 3.8949829e-10]], shape=(1, 4), dtype=float32)\n",
      "[0.2, 0.1, 0.1, 0.1]\n",
      "tf.Tensor([[9.9999952e-01 4.2668671e-07 1.2649544e-08 6.2738009e-13]], shape=(1, 4), dtype=float32)\n"
     ]
    },
    {
     "name": "stderr",
     "output_type": "stream",
     "text": [
      " 74%|███████████████████████████████████████████████████▊                  | 74101/100000 [11:15:58<3:38:40,  1.97it/s]"
     ]
    },
    {
     "name": "stdout",
     "output_type": "stream",
     "text": [
      "4.0553724215623355\n",
      "91\n"
     ]
    },
    {
     "name": "stderr",
     "output_type": "stream",
     "text": [
      " 74%|███████████████████████████████████████████████████▉                  | 74201/100000 [11:16:48<4:31:42,  1.58it/s]"
     ]
    },
    {
     "name": "stdout",
     "output_type": "stream",
     "text": [
      "2.065428572997708\n",
      "83\n",
      "[0.4, 0.4, 0.7, 0.1]\n",
      "tf.Tensor([[9.9998236e-01 1.3878130e-05 3.8110554e-06 2.1640395e-10]], shape=(1, 4), dtype=float32)\n",
      "[0.4, 0.3, 0.7, 0.1]\n",
      "tf.Tensor([[9.9999976e-01 2.7068452e-07 6.2091141e-09 2.9275952e-13]], shape=(1, 4), dtype=float32)\n",
      "[0.5, 0.3, 0.7, 0.1]\n",
      "tf.Tensor([[9.999999e-01 6.746558e-08 8.926722e-10 7.409749e-14]], shape=(1, 4), dtype=float32)\n",
      "[0.5, 0.2, 0.7, 0.1]\n",
      "tf.Tensor([[9.9999988e-01 7.5875874e-08 1.0899035e-09 1.2126373e-13]], shape=(1, 4), dtype=float32)\n",
      "[0.6, 0.2, 0.7, 0.1]\n",
      "tf.Tensor([[9.9999988e-01 6.4764919e-08 8.9436797e-10 9.8424381e-14]], shape=(1, 4), dtype=float32)\n",
      "[0.6, 0.1, 0.7, 0.1]\n",
      "tf.Tensor([[9.9999988e-01 7.3507906e-08 1.0602667e-09 1.1602249e-13]], shape=(1, 4), dtype=float32)\n"
     ]
    },
    {
     "name": "stderr",
     "output_type": "stream",
     "text": [
      " 74%|████████████████████████████████████████████████████                  | 74301/100000 [11:17:34<2:56:20,  2.43it/s]"
     ]
    },
    {
     "name": "stdout",
     "output_type": "stream",
     "text": [
      "3.3020048303034693\n",
      "91\n"
     ]
    },
    {
     "name": "stderr",
     "output_type": "stream",
     "text": [
      " 74%|████████████████████████████████████████████████████                  | 74401/100000 [11:18:22<4:22:35,  1.62it/s]"
     ]
    },
    {
     "name": "stdout",
     "output_type": "stream",
     "text": [
      "2.7424350448157973\n",
      "89\n",
      "[0.0, 0.7, 0.1, 0.1]\n",
      "tf.Tensor([[9.9997163e-01 2.1394670e-05 7.0345873e-06 4.4151066e-10]], shape=(1, 4), dtype=float32)\n",
      "[0.0, 0.6, 0.1, 0.1]\n",
      "tf.Tensor([[9.9999952e-01 5.2303233e-07 1.7629276e-08 7.6802562e-13]], shape=(1, 4), dtype=float32)\n",
      "[0.0, 0.5, 0.1, 0.1]\n",
      "tf.Tensor([[9.9999988e-01 8.2460723e-08 1.1125537e-09 9.2196819e-14]], shape=(1, 4), dtype=float32)\n",
      "[0.0, 0.4, 0.1, 0.1]\n",
      "tf.Tensor([[9.9999988e-01 9.2114483e-08 1.3822208e-09 1.7435187e-13]], shape=(1, 4), dtype=float32)\n",
      "[0.0, 0.3, 0.1, 0.1]\n",
      "tf.Tensor([[9.9999988e-01 9.6175491e-08 1.4732927e-09 1.8914925e-13]], shape=(1, 4), dtype=float32)\n",
      "[0.0, 0.2, 0.1, 0.1]\n",
      "tf.Tensor([[9.9999988e-01 1.0051555e-07 1.5731654e-09 2.0573235e-13]], shape=(1, 4), dtype=float32)\n",
      "[0.0, 0.1, 0.1, 0.1]\n",
      "tf.Tensor([[9.9999988e-01 1.2070427e-07 1.9698223e-09 2.6606031e-13]], shape=(1, 4), dtype=float32)\n"
     ]
    },
    {
     "name": "stderr",
     "output_type": "stream",
     "text": [
      " 75%|████████████████████████████████████████████████████▏                 | 74502/100000 [11:19:11<2:10:10,  3.26it/s]"
     ]
    },
    {
     "name": "stdout",
     "output_type": "stream",
     "text": [
      "3.2324855184129677\n",
      "85\n"
     ]
    },
    {
     "name": "stderr",
     "output_type": "stream",
     "text": [
      " 75%|████████████████████████████████████████████████████▏                 | 74601/100000 [11:19:58<3:01:10,  2.34it/s]"
     ]
    },
    {
     "name": "stdout",
     "output_type": "stream",
     "text": [
      "4.860160778608191\n",
      "92\n",
      "[0.6, 0.5, 0.7, 0.1]\n",
      "tf.Tensor([[9.9998641e-01 1.1022694e-05 2.5884638e-06 1.3136285e-10]], shape=(1, 4), dtype=float32)\n",
      "[0.6, 0.4, 0.7, 0.1]\n",
      "tf.Tensor([[9.9999976e-01 2.4955017e-07 5.4468257e-09 2.1453169e-13]], shape=(1, 4), dtype=float32)\n",
      "[0.6, 0.3, 0.7, 0.1]\n",
      "tf.Tensor([[9.9999988e-01 6.0018635e-08 7.4936762e-10 5.6659714e-14]], shape=(1, 4), dtype=float32)\n",
      "[0.6, 0.2, 0.7, 0.1]\n",
      "tf.Tensor([[9.9999988e-01 6.2764286e-08 8.7352331e-10 9.3354090e-14]], shape=(1, 4), dtype=float32)\n",
      "[0.6, 0.1, 0.7, 0.1]\n",
      "tf.Tensor([[9.9999988e-01 7.0616252e-08 1.0010335e-09 1.0663772e-13]], shape=(1, 4), dtype=float32)\n"
     ]
    },
    {
     "name": "stderr",
     "output_type": "stream",
     "text": [
      " 75%|████████████████████████████████████████████████████▎                 | 74701/100000 [11:20:44<4:40:43,  1.50it/s]"
     ]
    },
    {
     "name": "stdout",
     "output_type": "stream",
     "text": [
      "1.8307748353160647\n",
      "86\n"
     ]
    },
    {
     "name": "stderr",
     "output_type": "stream",
     "text": [
      " 75%|████████████████████████████████████████████████████▎                 | 74801/100000 [11:21:34<2:38:34,  2.65it/s]"
     ]
    },
    {
     "name": "stdout",
     "output_type": "stream",
     "text": [
      "2.4255087268318203\n",
      "84\n",
      "[0.7, 0.7, 0.7, 0.4]\n",
      "tf.Tensor([[9.9998820e-01 9.7737920e-06 2.0587102e-06 9.5713611e-11]], shape=(1, 4), dtype=float32)\n",
      "[0.7, 0.6, 0.7, 0.4]\n",
      "tf.Tensor([[9.9999976e-01 2.1517718e-07 4.1258241e-09 1.5012905e-13]], shape=(1, 4), dtype=float32)\n",
      "[0.7, 0.5, 0.7, 0.4]\n",
      "tf.Tensor([[1.0000000e+00 5.3558530e-08 6.2430167e-10 4.4510741e-14]], shape=(1, 4), dtype=float32)\n"
     ]
    },
    {
     "name": "stderr",
     "output_type": "stream",
     "text": [
      " 75%|████████████████████████████████████████████████████▍                 | 74901/100000 [11:22:22<3:08:01,  2.22it/s]"
     ]
    },
    {
     "name": "stdout",
     "output_type": "stream",
     "text": [
      "3.163858842332053\n",
      "90\n"
     ]
    },
    {
     "name": "stderr",
     "output_type": "stream",
     "text": [
      " 75%|████████████████████████████████████████████████████▌                 | 75001/100000 [11:23:09<4:17:33,  1.62it/s]"
     ]
    },
    {
     "name": "stdout",
     "output_type": "stream",
     "text": [
      "3.2107955687279146\n",
      "81\n",
      "[0.8, 0.0, 0.7, 0.1]\n",
      "tf.Tensor([[9.99989271e-01 8.84154815e-06 1.96256451e-06 1.02153695e-10]], shape=(1, 4), dtype=float32)\n",
      "[0.7, 0.0, 0.7, 0.1]\n",
      "tf.Tensor([[9.9999976e-01 2.2747385e-07 5.3089924e-09 2.5704994e-13]], shape=(1, 4), dtype=float32)\n"
     ]
    },
    {
     "name": "stderr",
     "output_type": "stream",
     "text": [
      " 75%|████████████████████████████████████████████████████▌                 | 75101/100000 [11:23:58<3:28:33,  1.99it/s]"
     ]
    },
    {
     "name": "stdout",
     "output_type": "stream",
     "text": [
      "3.033599569261457\n",
      "86\n"
     ]
    },
    {
     "name": "stderr",
     "output_type": "stream",
     "text": [
      " 75%|████████████████████████████████████████████████████▋                 | 75201/100000 [11:24:47<3:43:39,  1.85it/s]"
     ]
    },
    {
     "name": "stdout",
     "output_type": "stream",
     "text": [
      "1.8257367720661066\n",
      "86\n",
      "[0.9, 0.6, 0.1, 0.1]\n",
      "tf.Tensor([[9.9999177e-01 6.9826415e-06 1.2298793e-06 5.3802914e-11]], shape=(1, 4), dtype=float32)\n",
      "[0.8, 0.6, 0.1, 0.1]\n",
      "tf.Tensor([[9.9999988e-01 1.6935566e-07 2.6072273e-09 9.8296622e-14]], shape=(1, 4), dtype=float32)\n",
      "[0.7, 0.6, 0.1, 0.1]\n",
      "tf.Tensor([[1.0000000e+00 5.3389627e-08 5.5283694e-10 3.9341929e-14]], shape=(1, 4), dtype=float32)\n",
      "[0.6, 0.6, 0.1, 0.1]\n",
      "tf.Tensor([[1.000000e+00 5.500670e-08 6.929673e-10 7.075802e-14]], shape=(1, 4), dtype=float32)\n",
      "[0.6, 0.5, 0.1, 0.1]\n",
      "tf.Tensor([[1.0000000e+00 5.9042286e-08 6.8793138e-10 6.9794282e-14]], shape=(1, 4), dtype=float32)\n",
      "[0.5, 0.5, 0.1, 0.1]\n",
      "tf.Tensor([[9.999999e-01 6.087397e-08 7.980340e-10 8.490136e-14]], shape=(1, 4), dtype=float32)\n",
      "[0.5, 0.4, 0.1, 0.1]\n",
      "tf.Tensor([[9.999999e-01 6.538564e-08 7.901204e-10 8.335869e-14]], shape=(1, 4), dtype=float32)\n",
      "[0.4, 0.4, 0.1, 0.1]\n",
      "tf.Tensor([[9.99999881e-01 6.78368153e-08 9.23016996e-10 1.03054846e-13]], shape=(1, 4), dtype=float32)\n",
      "[0.4, 0.3, 0.1, 0.1]\n",
      "tf.Tensor([[9.9999988e-01 7.3226637e-08 9.2502267e-10 1.0258125e-13]], shape=(1, 4), dtype=float32)\n",
      "[0.3, 0.3, 0.1, 0.1]\n",
      "tf.Tensor([[9.9999988e-01 7.6108655e-08 1.0752065e-09 1.2635459e-13]], shape=(1, 4), dtype=float32)\n"
     ]
    },
    {
     "name": "stderr",
     "output_type": "stream",
     "text": [
      " 75%|████████████████████████████████████████████████████▋                 | 75301/100000 [11:25:36<3:19:09,  2.07it/s]"
     ]
    },
    {
     "name": "stdout",
     "output_type": "stream",
     "text": [
      "3.0302766211637455\n",
      "92\n"
     ]
    },
    {
     "name": "stderr",
     "output_type": "stream",
     "text": [
      " 75%|████████████████████████████████████████████████████▊                 | 75401/100000 [11:26:24<2:31:27,  2.71it/s]"
     ]
    },
    {
     "name": "stdout",
     "output_type": "stream",
     "text": [
      "3.753049466307785\n",
      "89\n",
      "[0.6, 0.8, 0.6, 0.2]\n",
      "tf.Tensor([[9.9998689e-01 1.0793760e-05 2.3212367e-06 1.0995563e-10]], shape=(1, 4), dtype=float32)\n",
      "[0.6, 0.7, 0.6, 0.2]\n",
      "tf.Tensor([[9.9999976e-01 2.3543576e-07 4.6149613e-09 1.6829924e-13]], shape=(1, 4), dtype=float32)\n",
      "[0.6, 0.6, 0.6, 0.2]\n",
      "tf.Tensor([[1.0000000e+00 5.5670814e-08 6.3846933e-10 4.6024596e-14]], shape=(1, 4), dtype=float32)\n",
      "[0.6, 0.5, 0.6, 0.2]\n",
      "tf.Tensor([[1.0000000e+00 5.7693278e-08 7.4764744e-10 7.6815893e-14]], shape=(1, 4), dtype=float32)\n",
      "[0.6, 0.4, 0.6, 0.2]\n",
      "tf.Tensor([[9.999999e-01 5.972287e-08 7.890271e-10 8.220043e-14]], shape=(1, 4), dtype=float32)\n",
      "[0.6, 0.3, 0.6, 0.2]\n",
      "tf.Tensor([[9.9999988e-01 6.1775658e-08 8.3077273e-10 8.7752261e-14]], shape=(1, 4), dtype=float32)\n"
     ]
    },
    {
     "name": "stderr",
     "output_type": "stream",
     "text": [
      " 76%|████████████████████████████████████████████████████▊                 | 75501/100000 [11:27:12<2:23:24,  2.85it/s]"
     ]
    },
    {
     "name": "stdout",
     "output_type": "stream",
     "text": [
      "4.442548636032354\n",
      "85\n"
     ]
    },
    {
     "name": "stderr",
     "output_type": "stream",
     "text": [
      " 76%|████████████████████████████████████████████████████▉                 | 75601/100000 [11:28:00<2:49:25,  2.40it/s]"
     ]
    },
    {
     "name": "stdout",
     "output_type": "stream",
     "text": [
      "1.836582818134566\n",
      "82\n",
      "[0.7, 0.9, 0.5, 0.7]\n",
      "tf.Tensor([[9.9998832e-01 9.7898846e-06 1.9394001e-06 8.6463128e-11]], shape=(1, 4), dtype=float32)\n",
      "[0.7, 0.8, 0.5, 0.7]\n",
      "tf.Tensor([[9.9999976e-01 1.9566694e-07 2.9957414e-09 1.0645521e-13]], shape=(1, 4), dtype=float32)\n",
      "[0.6, 0.8, 0.5, 0.7]\n",
      "tf.Tensor([[1.0000000e+00 5.3146600e-08 5.8281396e-10 4.2037076e-14]], shape=(1, 4), dtype=float32)\n",
      "[0.6, 0.7, 0.5, 0.7]\n",
      "tf.Tensor([[1.0000000e+00 5.5688655e-08 6.1117883e-10 6.0011593e-14]], shape=(1, 4), dtype=float32)\n"
     ]
    },
    {
     "name": "stderr",
     "output_type": "stream",
     "text": [
      " 76%|████████████████████████████████████████████████████▉                 | 75701/100000 [11:28:48<3:17:05,  2.05it/s]"
     ]
    },
    {
     "name": "stdout",
     "output_type": "stream",
     "text": [
      "3.8560263202698595\n",
      "91\n"
     ]
    },
    {
     "name": "stderr",
     "output_type": "stream",
     "text": [
      " 76%|█████████████████████████████████████████████████████                 | 75801/100000 [11:29:36<4:22:56,  1.53it/s]"
     ]
    },
    {
     "name": "stdout",
     "output_type": "stream",
     "text": [
      "2.999415893576812\n",
      "88\n",
      "[0.9, 0.6, 0.7, 0.1]\n",
      "tf.Tensor([[9.9998999e-01 8.4137700e-06 1.6023788e-06 7.0846821e-11]], shape=(1, 4), dtype=float32)\n",
      "[0.9, 0.5, 0.7, 0.1]\n",
      "tf.Tensor([[9.9999976e-01 1.8910004e-07 3.2354333e-09 1.1527911e-13]], shape=(1, 4), dtype=float32)\n",
      "[0.9, 0.4, 0.7, 0.1]\n",
      "tf.Tensor([[1.000000e+00 5.136840e-08 5.743411e-10 3.968726e-14]], shape=(1, 4), dtype=float32)\n",
      "[0.9, 0.3, 0.7, 0.1]\n",
      "tf.Tensor([[1.0000000e+00 5.1448314e-08 6.4538574e-10 6.2375527e-14]], shape=(1, 4), dtype=float32)\n",
      "[0.9, 0.2, 0.7, 0.1]\n",
      "tf.Tensor([[1.000000e+00 5.375123e-08 6.170153e-10 5.853048e-14]], shape=(1, 4), dtype=float32)\n",
      "[0.8, 0.2, 0.7, 0.1]\n",
      "tf.Tensor([[1.0000000e+00 5.5589222e-08 7.1100575e-10 7.1217832e-14]], shape=(1, 4), dtype=float32)\n",
      "[0.8, 0.1, 0.7, 0.1]\n",
      "tf.Tensor([[1.0000000e+00 5.9333434e-08 7.0870809e-10 7.0493185e-14]], shape=(1, 4), dtype=float32)\n"
     ]
    },
    {
     "name": "stderr",
     "output_type": "stream",
     "text": [
      " 76%|█████████████████████████████████████████████████████▏                | 75901/100000 [11:30:24<3:51:18,  1.74it/s]"
     ]
    },
    {
     "name": "stdout",
     "output_type": "stream",
     "text": [
      "2.1736121055745636\n",
      "86\n"
     ]
    },
    {
     "name": "stderr",
     "output_type": "stream",
     "text": [
      " 76%|█████████████████████████████████████████████████████▏                | 76001/100000 [11:31:14<3:48:48,  1.75it/s]"
     ]
    },
    {
     "name": "stdout",
     "output_type": "stream",
     "text": [
      "2.476079733381518\n",
      "87\n",
      "[0.0, 0.7, 0.7, 0.4]\n",
      "tf.Tensor([[9.9998546e-01 1.1661677e-05 2.8768925e-06 1.8792955e-10]], shape=(1, 4), dtype=float32)\n",
      "[0.1, 0.7, 0.7, 0.4]\n",
      "tf.Tensor([[9.9999964e-01 3.0411155e-07 6.9555885e-09 3.7468371e-13]], shape=(1, 4), dtype=float32)\n",
      "[0.2, 0.7, 0.7, 0.4]\n",
      "tf.Tensor([[9.9999988e-01 7.9267224e-08 9.9057385e-10 8.7190685e-14]], shape=(1, 4), dtype=float32)\n",
      "[0.3, 0.7, 0.7, 0.4]\n",
      "tf.Tensor([[9.99999881e-01 7.40650776e-08 9.27945443e-10 1.02853374e-13]], shape=(1, 4), dtype=float32)\n",
      "[0.4, 0.7, 0.7, 0.4]\n",
      "tf.Tensor([[9.9999988e-01 6.8542782e-08 8.4227963e-10 9.0192759e-14]], shape=(1, 4), dtype=float32)\n",
      "[0.5, 0.7, 0.7, 0.4]\n",
      "tf.Tensor([[9.9999988e-01 6.1520154e-08 7.6639106e-10 8.2370871e-14]], shape=(1, 4), dtype=float32)\n",
      "[0.5, 0.6, 0.7, 0.4]\n",
      "tf.Tensor([[9.9999988e-01 6.7447694e-08 8.5498081e-10 9.0442885e-14]], shape=(1, 4), dtype=float32)\n",
      "[0.6, 0.6, 0.7, 0.4]\n",
      "tf.Tensor([[1.0000000e+00 5.7749535e-08 7.1244061e-10 7.3811156e-14]], shape=(1, 4), dtype=float32)\n",
      "[0.6, 0.5, 0.7, 0.4]\n",
      "tf.Tensor([[9.9999988e-01 6.3695921e-08 8.0052354e-10 8.1525119e-14]], shape=(1, 4), dtype=float32)\n",
      "[0.7, 0.5, 0.7, 0.4]\n",
      "tf.Tensor([[1.0000000e+00 5.5920374e-08 6.8946038e-10 7.0255867e-14]], shape=(1, 4), dtype=float32)\n"
     ]
    },
    {
     "name": "stderr",
     "output_type": "stream",
     "text": [
      " 76%|█████████████████████████████████████████████████████▎                | 76101/100000 [11:32:03<3:46:03,  1.76it/s]"
     ]
    },
    {
     "name": "stdout",
     "output_type": "stream",
     "text": [
      "2.100337140839861\n",
      "85\n"
     ]
    },
    {
     "name": "stderr",
     "output_type": "stream",
     "text": [
      " 76%|█████████████████████████████████████████████████████▎                | 76201/100000 [11:32:50<4:06:14,  1.61it/s]"
     ]
    },
    {
     "name": "stdout",
     "output_type": "stream",
     "text": [
      "2.3755477319828695\n",
      "91\n",
      "[0.3, 0.3, 0.5, 0.7]\n",
      "tf.Tensor([[9.9998474e-01 1.1785827e-05 3.4383340e-06 2.4256777e-10]], shape=(1, 4), dtype=float32)\n",
      "[0.3, 0.4, 0.5, 0.7]\n",
      "tf.Tensor([[9.9999964e-01 3.5647713e-07 1.0608170e-08 5.9930153e-13]], shape=(1, 4), dtype=float32)\n",
      "[0.3, 0.5, 0.5, 0.7]\n",
      "tf.Tensor([[9.9999988e-01 8.1189874e-08 1.0643311e-09 9.1634064e-14]], shape=(1, 4), dtype=float32)\n",
      "[0.4, 0.5, 0.5, 0.7]\n",
      "tf.Tensor([[9.9999988e-01 7.9302609e-08 1.1218443e-09 1.2926369e-13]], shape=(1, 4), dtype=float32)\n",
      "[0.4, 0.6, 0.5, 0.7]\n",
      "tf.Tensor([[9.999999e-01 7.144321e-08 9.124984e-10 9.916890e-14]], shape=(1, 4), dtype=float32)\n",
      "[0.5, 0.6, 0.5, 0.7]\n",
      "tf.Tensor([[9.99999881e-01 7.07343446e-08 9.41218326e-10 1.03264795e-13]], shape=(1, 4), dtype=float32)\n"
     ]
    },
    {
     "name": "stderr",
     "output_type": "stream",
     "text": [
      " 76%|█████████████████████████████████████████████████████▍                | 76301/100000 [11:33:37<3:43:43,  1.77it/s]"
     ]
    },
    {
     "name": "stdout",
     "output_type": "stream",
     "text": [
      "3.595062113782051\n",
      "85\n"
     ]
    },
    {
     "name": "stderr",
     "output_type": "stream",
     "text": [
      " 76%|█████████████████████████████████████████████████████▍                | 76401/100000 [11:34:25<2:52:45,  2.28it/s]"
     ]
    },
    {
     "name": "stdout",
     "output_type": "stream",
     "text": [
      "3.787795445734971\n",
      "89\n",
      "[0.4, 0.6, 0.6, 0.2]\n",
      "tf.Tensor([[9.9998224e-01 1.4158989e-05 3.5218272e-06 1.9114671e-10]], shape=(1, 4), dtype=float32)\n",
      "[0.4, 0.5, 0.6, 0.2]\n",
      "tf.Tensor([[9.9999964e-01 3.2391529e-07 7.5723001e-09 3.0805829e-13]], shape=(1, 4), dtype=float32)\n",
      "[0.4, 0.4, 0.6, 0.2]\n",
      "tf.Tensor([[9.999999e-01 7.206839e-08 8.605171e-10 6.687285e-14]], shape=(1, 4), dtype=float32)\n",
      "[0.5, 0.4, 0.6, 0.2]\n",
      "tf.Tensor([[9.999999e-01 6.626891e-08 8.419584e-10 9.104434e-14]], shape=(1, 4), dtype=float32)\n",
      "[0.5, 0.3, 0.6, 0.2]\n",
      "tf.Tensor([[9.9999988e-01 7.6741877e-08 1.0166461e-09 1.1158157e-13]], shape=(1, 4), dtype=float32)\n",
      "[0.6, 0.3, 0.6, 0.2]\n",
      "tf.Tensor([[9.9999988e-01 6.6212813e-08 8.4954493e-10 9.2620180e-14]], shape=(1, 4), dtype=float32)\n"
     ]
    },
    {
     "name": "stderr",
     "output_type": "stream",
     "text": [
      " 77%|█████████████████████████████████████████████████████▌                | 76501/100000 [11:35:15<3:18:09,  1.98it/s]"
     ]
    },
    {
     "name": "stdout",
     "output_type": "stream",
     "text": [
      "3.9057222301265107\n",
      "91\n"
     ]
    },
    {
     "name": "stderr",
     "output_type": "stream",
     "text": [
      " 77%|█████████████████████████████████████████████████████▌                | 76601/100000 [11:36:02<2:16:09,  2.86it/s]"
     ]
    },
    {
     "name": "stdout",
     "output_type": "stream",
     "text": [
      "4.896401412366582\n",
      "89\n",
      "[0.6, 0.3, 0.1, 0.1]\n",
      "tf.Tensor([[9.9998724e-01 1.0509445e-05 2.2701104e-06 1.2172933e-10]], shape=(1, 4), dtype=float32)\n",
      "[0.5, 0.3, 0.1, 0.1]\n",
      "tf.Tensor([[9.9999976e-01 2.6599309e-07 5.1595186e-09 2.2928613e-13]], shape=(1, 4), dtype=float32)\n",
      "[0.4, 0.3, 0.1, 0.1]\n",
      "tf.Tensor([[9.9999988e-01 7.4095176e-08 8.3286067e-10 6.8497745e-14]], shape=(1, 4), dtype=float32)\n",
      "[0.3, 0.3, 0.1, 0.1]\n",
      "tf.Tensor([[9.9999988e-01 8.0890317e-08 1.0873827e-09 1.2969094e-13]], shape=(1, 4), dtype=float32)\n",
      "[0.3, 0.2, 0.1, 0.1]\n",
      "tf.Tensor([[9.9999988e-01 8.7926779e-08 1.1131990e-09 1.3235231e-13]], shape=(1, 4), dtype=float32)\n",
      "[0.2, 0.2, 0.1, 0.1]\n",
      "tf.Tensor([[9.9999988e-01 9.0842541e-08 1.2712769e-09 1.5873404e-13]], shape=(1, 4), dtype=float32)\n",
      "[0.2, 0.1, 0.1, 0.1]\n",
      "tf.Tensor([[9.9999988e-01 9.9433613e-08 1.3216692e-09 1.6495217e-13]], shape=(1, 4), dtype=float32)\n"
     ]
    },
    {
     "name": "stderr",
     "output_type": "stream",
     "text": [
      " 77%|█████████████████████████████████████████████████████▋                | 76701/100000 [11:36:45<2:12:53,  2.92it/s]"
     ]
    },
    {
     "name": "stdout",
     "output_type": "stream",
     "text": [
      "4.090654780412079\n",
      "89\n"
     ]
    },
    {
     "name": "stderr",
     "output_type": "stream",
     "text": [
      " 77%|█████████████████████████████████████████████████████▊                | 76801/100000 [11:37:35<3:31:56,  1.82it/s]"
     ]
    },
    {
     "name": "stdout",
     "output_type": "stream",
     "text": [
      "3.4887777496246293\n",
      "87\n",
      "[0.5, 0.9, 0.5, 0.7]\n",
      "tf.Tensor([[9.9998510e-01 1.2260072e-05 2.6201164e-06 1.2676568e-10]], shape=(1, 4), dtype=float32)\n",
      "[0.5, 0.8, 0.5, 0.7]\n",
      "tf.Tensor([[9.9999976e-01 2.6737155e-07 5.2001141e-09 1.9080190e-13]], shape=(1, 4), dtype=float32)\n"
     ]
    },
    {
     "name": "stderr",
     "output_type": "stream",
     "text": [
      " 77%|█████████████████████████████████████████████████████▊                | 76901/100000 [11:38:22<3:16:48,  1.96it/s]"
     ]
    },
    {
     "name": "stdout",
     "output_type": "stream",
     "text": [
      "3.8820325149789565\n",
      "91\n"
     ]
    },
    {
     "name": "stderr",
     "output_type": "stream",
     "text": [
      " 77%|█████████████████████████████████████████████████████▉                | 77001/100000 [11:39:10<3:28:01,  1.84it/s]"
     ]
    },
    {
     "name": "stdout",
     "output_type": "stream",
     "text": [
      "2.6796491735180767\n",
      "87\n",
      "[0.7, 0.7, 0.7, 0.1]\n",
      "tf.Tensor([[9.9998736e-01 1.0509917e-05 2.0942439e-06 9.8251865e-11]], shape=(1, 4), dtype=float32)\n",
      "[0.7, 0.6, 0.7, 0.1]\n",
      "tf.Tensor([[9.9999976e-01 2.3363076e-07 4.1785770e-09 1.5336071e-13]], shape=(1, 4), dtype=float32)\n",
      "[0.7, 0.5, 0.7, 0.1]\n",
      "tf.Tensor([[1.0000000e+00 5.8216791e-08 6.3019734e-10 4.5359905e-14]], shape=(1, 4), dtype=float32)\n",
      "[0.7, 0.4, 0.7, 0.1]\n",
      "tf.Tensor([[9.9999988e-01 5.9724009e-08 7.2859446e-10 7.4200730e-14]], shape=(1, 4), dtype=float32)\n",
      "[0.7, 0.3, 0.7, 0.1]\n",
      "tf.Tensor([[9.9999988e-01 6.1650063e-08 7.6559481e-10 7.8975116e-14]], shape=(1, 4), dtype=float32)\n",
      "[0.7, 0.2, 0.7, 0.1]\n",
      "tf.Tensor([[9.9999988e-01 6.3693975e-08 8.0512041e-10 8.4162915e-14]], shape=(1, 4), dtype=float32)\n"
     ]
    },
    {
     "name": "stderr",
     "output_type": "stream",
     "text": [
      " 77%|█████████████████████████████████████████████████████▉                | 77101/100000 [11:39:59<3:25:14,  1.86it/s]"
     ]
    },
    {
     "name": "stdout",
     "output_type": "stream",
     "text": [
      "2.452852813359036\n",
      "83\n"
     ]
    },
    {
     "name": "stderr",
     "output_type": "stream",
     "text": [
      " 77%|██████████████████████████████████████████████████████                | 77201/100000 [11:40:46<3:28:40,  1.82it/s]"
     ]
    },
    {
     "name": "stdout",
     "output_type": "stream",
     "text": [
      "3.45470155075058\n",
      "89\n",
      "[0.8, 0.7, 0.6, 0.2]\n",
      "tf.Tensor([[9.9998856e-01 9.6779813e-06 1.8157131e-06 8.2109361e-11]], shape=(1, 4), dtype=float32)\n",
      "[0.8, 0.6, 0.6, 0.2]\n",
      "tf.Tensor([[9.9999976e-01 2.1602101e-07 3.6073147e-09 1.2931991e-13]], shape=(1, 4), dtype=float32)\n",
      "[0.8, 0.5, 0.6, 0.2]\n",
      "tf.Tensor([[1.0000000e+00 5.6042527e-08 5.8899152e-10 4.1402567e-14]], shape=(1, 4), dtype=float32)\n",
      "[0.8, 0.4, 0.6, 0.2]\n",
      "tf.Tensor([[1.0000000e+00 5.6679998e-08 6.7116801e-10 6.6469738e-14]], shape=(1, 4), dtype=float32)\n",
      "[0.8, 0.3, 0.6, 0.2]\n",
      "tf.Tensor([[1.0000000e+00 5.9462476e-08 6.4265754e-10 6.2598764e-14]], shape=(1, 4), dtype=float32)\n",
      "[0.7, 0.3, 0.6, 0.2]\n",
      "tf.Tensor([[9.9999988e-01 6.1493289e-08 7.4323825e-10 7.6431523e-14]], shape=(1, 4), dtype=float32)\n",
      "[0.7, 0.2, 0.6, 0.2]\n",
      "tf.Tensor([[9.999999e-01 6.591820e-08 7.417343e-10 7.592081e-14]], shape=(1, 4), dtype=float32)\n"
     ]
    },
    {
     "name": "stderr",
     "output_type": "stream",
     "text": [
      " 77%|██████████████████████████████████████████████████████                | 77288/100000 [11:41:27<3:26:08,  1.84it/s]\n"
     ]
    },
    {
     "ename": "KeyboardInterrupt",
     "evalue": "",
     "output_type": "error",
     "traceback": [
      "\u001b[1;31m---------------------------------------------------------------------------\u001b[0m",
      "\u001b[1;31mKeyboardInterrupt\u001b[0m                         Traceback (most recent call last)",
      "\u001b[1;32m<ipython-input-5-9b6c7a54f83c>\u001b[0m in \u001b[0;36m<module>\u001b[1;34m\u001b[0m\n\u001b[1;32m----> 1\u001b[1;33m \u001b[0magent\u001b[0m\u001b[1;33m.\u001b[0m\u001b[0mlearn\u001b[0m\u001b[1;33m(\u001b[0m\u001b[1;33m)\u001b[0m\u001b[1;33m\u001b[0m\u001b[1;33m\u001b[0m\u001b[0m\n\u001b[0m",
      "\u001b[1;32m<ipython-input-3-5e2bf57511ad>\u001b[0m in \u001b[0;36mlearn\u001b[1;34m(self)\u001b[0m\n\u001b[0;32m     59\u001b[0m                     \u001b[0mob_assist\u001b[0m \u001b[1;33m=\u001b[0m \u001b[0mnp\u001b[0m\u001b[1;33m.\u001b[0m\u001b[0marray\u001b[0m\u001b[1;33m(\u001b[0m\u001b[0mob_assist\u001b[0m\u001b[1;33m)\u001b[0m\u001b[1;33m[\u001b[0m\u001b[0mnp\u001b[0m\u001b[1;33m.\u001b[0m\u001b[0mnewaxis\u001b[0m\u001b[1;33m]\u001b[0m\u001b[1;33m\u001b[0m\u001b[1;33m\u001b[0m\u001b[0m\n\u001b[0;32m     60\u001b[0m \u001b[1;33m\u001b[0m\u001b[0m\n\u001b[1;32m---> 61\u001b[1;33m                     \u001b[0masst_probs\u001b[0m \u001b[1;33m=\u001b[0m \u001b[0mself\u001b[0m\u001b[1;33m.\u001b[0m\u001b[0masst_actor\u001b[0m\u001b[1;33m.\u001b[0m\u001b[0mmodel\u001b[0m\u001b[1;33m(\u001b[0m\u001b[1;33m[\u001b[0m\u001b[0mob_assist\u001b[0m\u001b[1;33m,\u001b[0m \u001b[0mself\u001b[0m\u001b[1;33m.\u001b[0m\u001b[0menv_cell_mapping\u001b[0m\u001b[1;33m]\u001b[0m\u001b[1;33m)\u001b[0m\u001b[1;33m\u001b[0m\u001b[1;33m\u001b[0m\u001b[0m\n\u001b[0m\u001b[0;32m     62\u001b[0m                     \u001b[0masst_action\u001b[0m \u001b[1;33m=\u001b[0m \u001b[0mnp\u001b[0m\u001b[1;33m.\u001b[0m\u001b[0mrandom\u001b[0m\u001b[1;33m.\u001b[0m\u001b[0mchoice\u001b[0m\u001b[1;33m(\u001b[0m\u001b[1;36m4\u001b[0m\u001b[1;33m,\u001b[0m \u001b[0mp\u001b[0m\u001b[1;33m=\u001b[0m\u001b[0mnp\u001b[0m\u001b[1;33m.\u001b[0m\u001b[0msqueeze\u001b[0m\u001b[1;33m(\u001b[0m\u001b[0masst_probs\u001b[0m\u001b[1;33m)\u001b[0m\u001b[1;33m)\u001b[0m\u001b[1;33m\u001b[0m\u001b[1;33m\u001b[0m\u001b[0m\n\u001b[0;32m     63\u001b[0m                     \u001b[0masst_action_probs_history\u001b[0m\u001b[1;33m.\u001b[0m\u001b[0mappend\u001b[0m\u001b[1;33m(\u001b[0m\u001b[0mtf\u001b[0m\u001b[1;33m.\u001b[0m\u001b[0mmath\u001b[0m\u001b[1;33m.\u001b[0m\u001b[0mlog\u001b[0m\u001b[1;33m(\u001b[0m\u001b[0masst_probs\u001b[0m\u001b[1;33m[\u001b[0m\u001b[1;36m0\u001b[0m\u001b[1;33m,\u001b[0m \u001b[0masst_action\u001b[0m\u001b[1;33m]\u001b[0m\u001b[1;33m)\u001b[0m\u001b[1;33m)\u001b[0m\u001b[1;33m\u001b[0m\u001b[1;33m\u001b[0m\u001b[0m\n",
      "\u001b[1;32m~\\AppData\\Roaming\\Python\\Python37\\site-packages\\tensorflow\\python\\keras\\engine\\base_layer.py\u001b[0m in \u001b[0;36m__call__\u001b[1;34m(self, *args, **kwargs)\u001b[0m\n\u001b[0;32m    983\u001b[0m \u001b[1;33m\u001b[0m\u001b[0m\n\u001b[0;32m    984\u001b[0m         \u001b[1;32mwith\u001b[0m \u001b[0mops\u001b[0m\u001b[1;33m.\u001b[0m\u001b[0menable_auto_cast_variables\u001b[0m\u001b[1;33m(\u001b[0m\u001b[0mself\u001b[0m\u001b[1;33m.\u001b[0m\u001b[0m_compute_dtype_object\u001b[0m\u001b[1;33m)\u001b[0m\u001b[1;33m:\u001b[0m\u001b[1;33m\u001b[0m\u001b[1;33m\u001b[0m\u001b[0m\n\u001b[1;32m--> 985\u001b[1;33m           \u001b[0moutputs\u001b[0m \u001b[1;33m=\u001b[0m \u001b[0mcall_fn\u001b[0m\u001b[1;33m(\u001b[0m\u001b[0minputs\u001b[0m\u001b[1;33m,\u001b[0m \u001b[1;33m*\u001b[0m\u001b[0margs\u001b[0m\u001b[1;33m,\u001b[0m \u001b[1;33m**\u001b[0m\u001b[0mkwargs\u001b[0m\u001b[1;33m)\u001b[0m\u001b[1;33m\u001b[0m\u001b[1;33m\u001b[0m\u001b[0m\n\u001b[0m\u001b[0;32m    986\u001b[0m \u001b[1;33m\u001b[0m\u001b[0m\n\u001b[0;32m    987\u001b[0m         \u001b[1;32mif\u001b[0m \u001b[0mself\u001b[0m\u001b[1;33m.\u001b[0m\u001b[0m_activity_regularizer\u001b[0m\u001b[1;33m:\u001b[0m\u001b[1;33m\u001b[0m\u001b[1;33m\u001b[0m\u001b[0m\n",
      "\u001b[1;32m~\\AppData\\Roaming\\Python\\Python37\\site-packages\\tensorflow\\python\\keras\\engine\\functional.py\u001b[0m in \u001b[0;36mcall\u001b[1;34m(self, inputs, training, mask)\u001b[0m\n\u001b[0;32m    384\u001b[0m     \"\"\"\n\u001b[0;32m    385\u001b[0m     return self._run_internal_graph(\n\u001b[1;32m--> 386\u001b[1;33m         inputs, training=training, mask=mask)\n\u001b[0m\u001b[0;32m    387\u001b[0m \u001b[1;33m\u001b[0m\u001b[0m\n\u001b[0;32m    388\u001b[0m   \u001b[1;32mdef\u001b[0m \u001b[0mcompute_output_shape\u001b[0m\u001b[1;33m(\u001b[0m\u001b[0mself\u001b[0m\u001b[1;33m,\u001b[0m \u001b[0minput_shape\u001b[0m\u001b[1;33m)\u001b[0m\u001b[1;33m:\u001b[0m\u001b[1;33m\u001b[0m\u001b[1;33m\u001b[0m\u001b[0m\n",
      "\u001b[1;32m~\\AppData\\Roaming\\Python\\Python37\\site-packages\\tensorflow\\python\\keras\\engine\\functional.py\u001b[0m in \u001b[0;36m_run_internal_graph\u001b[1;34m(self, inputs, training, mask)\u001b[0m\n\u001b[0;32m    506\u001b[0m \u001b[1;33m\u001b[0m\u001b[0m\n\u001b[0;32m    507\u001b[0m         \u001b[0margs\u001b[0m\u001b[1;33m,\u001b[0m \u001b[0mkwargs\u001b[0m \u001b[1;33m=\u001b[0m \u001b[0mnode\u001b[0m\u001b[1;33m.\u001b[0m\u001b[0mmap_arguments\u001b[0m\u001b[1;33m(\u001b[0m\u001b[0mtensor_dict\u001b[0m\u001b[1;33m)\u001b[0m\u001b[1;33m\u001b[0m\u001b[1;33m\u001b[0m\u001b[0m\n\u001b[1;32m--> 508\u001b[1;33m         \u001b[0moutputs\u001b[0m \u001b[1;33m=\u001b[0m \u001b[0mnode\u001b[0m\u001b[1;33m.\u001b[0m\u001b[0mlayer\u001b[0m\u001b[1;33m(\u001b[0m\u001b[1;33m*\u001b[0m\u001b[0margs\u001b[0m\u001b[1;33m,\u001b[0m \u001b[1;33m**\u001b[0m\u001b[0mkwargs\u001b[0m\u001b[1;33m)\u001b[0m\u001b[1;33m\u001b[0m\u001b[1;33m\u001b[0m\u001b[0m\n\u001b[0m\u001b[0;32m    509\u001b[0m \u001b[1;33m\u001b[0m\u001b[0m\n\u001b[0;32m    510\u001b[0m         \u001b[1;31m# Update tensor_dict.\u001b[0m\u001b[1;33m\u001b[0m\u001b[1;33m\u001b[0m\u001b[1;33m\u001b[0m\u001b[0m\n",
      "\u001b[1;32m~\\AppData\\Roaming\\Python\\Python37\\site-packages\\tensorflow\\python\\keras\\layers\\recurrent.py\u001b[0m in \u001b[0;36m__call__\u001b[1;34m(self, inputs, initial_state, constants, **kwargs)\u001b[0m\n\u001b[0;32m    661\u001b[0m \u001b[1;33m\u001b[0m\u001b[0m\n\u001b[0;32m    662\u001b[0m     \u001b[1;32mif\u001b[0m \u001b[0minitial_state\u001b[0m \u001b[1;32mis\u001b[0m \u001b[1;32mNone\u001b[0m \u001b[1;32mand\u001b[0m \u001b[0mconstants\u001b[0m \u001b[1;32mis\u001b[0m \u001b[1;32mNone\u001b[0m\u001b[1;33m:\u001b[0m\u001b[1;33m\u001b[0m\u001b[1;33m\u001b[0m\u001b[0m\n\u001b[1;32m--> 663\u001b[1;33m       \u001b[1;32mreturn\u001b[0m \u001b[0msuper\u001b[0m\u001b[1;33m(\u001b[0m\u001b[0mRNN\u001b[0m\u001b[1;33m,\u001b[0m \u001b[0mself\u001b[0m\u001b[1;33m)\u001b[0m\u001b[1;33m.\u001b[0m\u001b[0m__call__\u001b[0m\u001b[1;33m(\u001b[0m\u001b[0minputs\u001b[0m\u001b[1;33m,\u001b[0m \u001b[1;33m**\u001b[0m\u001b[0mkwargs\u001b[0m\u001b[1;33m)\u001b[0m\u001b[1;33m\u001b[0m\u001b[1;33m\u001b[0m\u001b[0m\n\u001b[0m\u001b[0;32m    664\u001b[0m \u001b[1;33m\u001b[0m\u001b[0m\n\u001b[0;32m    665\u001b[0m     \u001b[1;31m# If any of `initial_state` or `constants` are specified and are Keras\u001b[0m\u001b[1;33m\u001b[0m\u001b[1;33m\u001b[0m\u001b[1;33m\u001b[0m\u001b[0m\n",
      "\u001b[1;32m~\\AppData\\Roaming\\Python\\Python37\\site-packages\\tensorflow\\python\\keras\\engine\\base_layer.py\u001b[0m in \u001b[0;36m__call__\u001b[1;34m(self, *args, **kwargs)\u001b[0m\n\u001b[0;32m    983\u001b[0m \u001b[1;33m\u001b[0m\u001b[0m\n\u001b[0;32m    984\u001b[0m         \u001b[1;32mwith\u001b[0m \u001b[0mops\u001b[0m\u001b[1;33m.\u001b[0m\u001b[0menable_auto_cast_variables\u001b[0m\u001b[1;33m(\u001b[0m\u001b[0mself\u001b[0m\u001b[1;33m.\u001b[0m\u001b[0m_compute_dtype_object\u001b[0m\u001b[1;33m)\u001b[0m\u001b[1;33m:\u001b[0m\u001b[1;33m\u001b[0m\u001b[1;33m\u001b[0m\u001b[0m\n\u001b[1;32m--> 985\u001b[1;33m           \u001b[0moutputs\u001b[0m \u001b[1;33m=\u001b[0m \u001b[0mcall_fn\u001b[0m\u001b[1;33m(\u001b[0m\u001b[0minputs\u001b[0m\u001b[1;33m,\u001b[0m \u001b[1;33m*\u001b[0m\u001b[0margs\u001b[0m\u001b[1;33m,\u001b[0m \u001b[1;33m**\u001b[0m\u001b[0mkwargs\u001b[0m\u001b[1;33m)\u001b[0m\u001b[1;33m\u001b[0m\u001b[1;33m\u001b[0m\u001b[0m\n\u001b[0m\u001b[0;32m    986\u001b[0m \u001b[1;33m\u001b[0m\u001b[0m\n\u001b[0;32m    987\u001b[0m         \u001b[1;32mif\u001b[0m \u001b[0mself\u001b[0m\u001b[1;33m.\u001b[0m\u001b[0m_activity_regularizer\u001b[0m\u001b[1;33m:\u001b[0m\u001b[1;33m\u001b[0m\u001b[1;33m\u001b[0m\u001b[0m\n",
      "\u001b[1;32m~\\AppData\\Roaming\\Python\\Python37\\site-packages\\tensorflow\\python\\keras\\layers\\recurrent_v2.py\u001b[0m in \u001b[0;36mcall\u001b[1;34m(self, inputs, mask, training, initial_state)\u001b[0m\n\u001b[0;32m   1106\u001b[0m \u001b[1;33m\u001b[0m\u001b[0m\n\u001b[0;32m   1107\u001b[0m     \u001b[1;31m# LSTM does not support constants. Ignore it during process.\u001b[0m\u001b[1;33m\u001b[0m\u001b[1;33m\u001b[0m\u001b[1;33m\u001b[0m\u001b[0m\n\u001b[1;32m-> 1108\u001b[1;33m     \u001b[0minputs\u001b[0m\u001b[1;33m,\u001b[0m \u001b[0minitial_state\u001b[0m\u001b[1;33m,\u001b[0m \u001b[0m_\u001b[0m \u001b[1;33m=\u001b[0m \u001b[0mself\u001b[0m\u001b[1;33m.\u001b[0m\u001b[0m_process_inputs\u001b[0m\u001b[1;33m(\u001b[0m\u001b[0minputs\u001b[0m\u001b[1;33m,\u001b[0m \u001b[0minitial_state\u001b[0m\u001b[1;33m,\u001b[0m \u001b[1;32mNone\u001b[0m\u001b[1;33m)\u001b[0m\u001b[1;33m\u001b[0m\u001b[1;33m\u001b[0m\u001b[0m\n\u001b[0m\u001b[0;32m   1109\u001b[0m \u001b[1;33m\u001b[0m\u001b[0m\n\u001b[0;32m   1110\u001b[0m     \u001b[1;32mif\u001b[0m \u001b[0misinstance\u001b[0m\u001b[1;33m(\u001b[0m\u001b[0mmask\u001b[0m\u001b[1;33m,\u001b[0m \u001b[0mlist\u001b[0m\u001b[1;33m)\u001b[0m\u001b[1;33m:\u001b[0m\u001b[1;33m\u001b[0m\u001b[1;33m\u001b[0m\u001b[0m\n",
      "\u001b[1;32m~\\AppData\\Roaming\\Python\\Python37\\site-packages\\tensorflow\\python\\keras\\layers\\recurrent.py\u001b[0m in \u001b[0;36m_process_inputs\u001b[1;34m(self, inputs, initial_state, constants)\u001b[0m\n\u001b[0;32m    860\u001b[0m         \u001b[0minitial_state\u001b[0m \u001b[1;33m=\u001b[0m \u001b[0mself\u001b[0m\u001b[1;33m.\u001b[0m\u001b[0mstates\u001b[0m\u001b[1;33m\u001b[0m\u001b[1;33m\u001b[0m\u001b[0m\n\u001b[0;32m    861\u001b[0m     \u001b[1;32melif\u001b[0m \u001b[0minitial_state\u001b[0m \u001b[1;32mis\u001b[0m \u001b[1;32mNone\u001b[0m\u001b[1;33m:\u001b[0m\u001b[1;33m\u001b[0m\u001b[1;33m\u001b[0m\u001b[0m\n\u001b[1;32m--> 862\u001b[1;33m       \u001b[0minitial_state\u001b[0m \u001b[1;33m=\u001b[0m \u001b[0mself\u001b[0m\u001b[1;33m.\u001b[0m\u001b[0mget_initial_state\u001b[0m\u001b[1;33m(\u001b[0m\u001b[0minputs\u001b[0m\u001b[1;33m)\u001b[0m\u001b[1;33m\u001b[0m\u001b[1;33m\u001b[0m\u001b[0m\n\u001b[0m\u001b[0;32m    863\u001b[0m \u001b[1;33m\u001b[0m\u001b[0m\n\u001b[0;32m    864\u001b[0m     \u001b[1;32mif\u001b[0m \u001b[0mlen\u001b[0m\u001b[1;33m(\u001b[0m\u001b[0minitial_state\u001b[0m\u001b[1;33m)\u001b[0m \u001b[1;33m!=\u001b[0m \u001b[0mlen\u001b[0m\u001b[1;33m(\u001b[0m\u001b[0mself\u001b[0m\u001b[1;33m.\u001b[0m\u001b[0mstates\u001b[0m\u001b[1;33m)\u001b[0m\u001b[1;33m:\u001b[0m\u001b[1;33m\u001b[0m\u001b[1;33m\u001b[0m\u001b[0m\n",
      "\u001b[1;32m~\\AppData\\Roaming\\Python\\Python37\\site-packages\\tensorflow\\python\\keras\\layers\\recurrent.py\u001b[0m in \u001b[0;36mget_initial_state\u001b[1;34m(self, inputs)\u001b[0m\n\u001b[0;32m    639\u001b[0m       \u001b[0minputs\u001b[0m \u001b[1;33m=\u001b[0m \u001b[0mnest\u001b[0m\u001b[1;33m.\u001b[0m\u001b[0mflatten\u001b[0m\u001b[1;33m(\u001b[0m\u001b[0minputs\u001b[0m\u001b[1;33m)\u001b[0m\u001b[1;33m[\u001b[0m\u001b[1;36m0\u001b[0m\u001b[1;33m]\u001b[0m\u001b[1;33m\u001b[0m\u001b[1;33m\u001b[0m\u001b[0m\n\u001b[0;32m    640\u001b[0m \u001b[1;33m\u001b[0m\u001b[0m\n\u001b[1;32m--> 641\u001b[1;33m     \u001b[0minput_shape\u001b[0m \u001b[1;33m=\u001b[0m \u001b[0marray_ops\u001b[0m\u001b[1;33m.\u001b[0m\u001b[0mshape\u001b[0m\u001b[1;33m(\u001b[0m\u001b[0minputs\u001b[0m\u001b[1;33m)\u001b[0m\u001b[1;33m\u001b[0m\u001b[1;33m\u001b[0m\u001b[0m\n\u001b[0m\u001b[0;32m    642\u001b[0m     \u001b[0mbatch_size\u001b[0m \u001b[1;33m=\u001b[0m \u001b[0minput_shape\u001b[0m\u001b[1;33m[\u001b[0m\u001b[1;36m1\u001b[0m\u001b[1;33m]\u001b[0m \u001b[1;32mif\u001b[0m \u001b[0mself\u001b[0m\u001b[1;33m.\u001b[0m\u001b[0mtime_major\u001b[0m \u001b[1;32melse\u001b[0m \u001b[0minput_shape\u001b[0m\u001b[1;33m[\u001b[0m\u001b[1;36m0\u001b[0m\u001b[1;33m]\u001b[0m\u001b[1;33m\u001b[0m\u001b[1;33m\u001b[0m\u001b[0m\n\u001b[0;32m    643\u001b[0m     \u001b[0mdtype\u001b[0m \u001b[1;33m=\u001b[0m \u001b[0minputs\u001b[0m\u001b[1;33m.\u001b[0m\u001b[0mdtype\u001b[0m\u001b[1;33m\u001b[0m\u001b[1;33m\u001b[0m\u001b[0m\n",
      "\u001b[1;32m~\\AppData\\Roaming\\Python\\Python37\\site-packages\\tensorflow\\python\\util\\dispatch.py\u001b[0m in \u001b[0;36mwrapper\u001b[1;34m(*args, **kwargs)\u001b[0m\n\u001b[0;32m    199\u001b[0m     \u001b[1;34m\"\"\"Call target, and fall back on dispatchers if there is a TypeError.\"\"\"\u001b[0m\u001b[1;33m\u001b[0m\u001b[1;33m\u001b[0m\u001b[0m\n\u001b[0;32m    200\u001b[0m     \u001b[1;32mtry\u001b[0m\u001b[1;33m:\u001b[0m\u001b[1;33m\u001b[0m\u001b[1;33m\u001b[0m\u001b[0m\n\u001b[1;32m--> 201\u001b[1;33m       \u001b[1;32mreturn\u001b[0m \u001b[0mtarget\u001b[0m\u001b[1;33m(\u001b[0m\u001b[1;33m*\u001b[0m\u001b[0margs\u001b[0m\u001b[1;33m,\u001b[0m \u001b[1;33m**\u001b[0m\u001b[0mkwargs\u001b[0m\u001b[1;33m)\u001b[0m\u001b[1;33m\u001b[0m\u001b[1;33m\u001b[0m\u001b[0m\n\u001b[0m\u001b[0;32m    202\u001b[0m     \u001b[1;32mexcept\u001b[0m \u001b[1;33m(\u001b[0m\u001b[0mTypeError\u001b[0m\u001b[1;33m,\u001b[0m \u001b[0mValueError\u001b[0m\u001b[1;33m)\u001b[0m\u001b[1;33m:\u001b[0m\u001b[1;33m\u001b[0m\u001b[1;33m\u001b[0m\u001b[0m\n\u001b[0;32m    203\u001b[0m       \u001b[1;31m# Note: convert_to_eager_tensor currently raises a ValueError, not a\u001b[0m\u001b[1;33m\u001b[0m\u001b[1;33m\u001b[0m\u001b[1;33m\u001b[0m\u001b[0m\n",
      "\u001b[1;32m~\\AppData\\Roaming\\Python\\Python37\\site-packages\\tensorflow\\python\\ops\\array_ops.py\u001b[0m in \u001b[0;36mshape\u001b[1;34m(input, name, out_type)\u001b[0m\n\u001b[0;32m    626\u001b[0m     \u001b[0mA\u001b[0m\u001b[0;31m \u001b[0m\u001b[0;31m`\u001b[0m\u001b[0mTensor\u001b[0m\u001b[0;31m`\u001b[0m \u001b[0mof\u001b[0m \u001b[0mtype\u001b[0m\u001b[0;31m \u001b[0m\u001b[0;31m`\u001b[0m\u001b[0mout_type\u001b[0m\u001b[0;31m`\u001b[0m\u001b[1;33m.\u001b[0m\u001b[1;33m\u001b[0m\u001b[1;33m\u001b[0m\u001b[0m\n\u001b[0;32m    627\u001b[0m   \"\"\"\n\u001b[1;32m--> 628\u001b[1;33m   \u001b[1;32mreturn\u001b[0m \u001b[0mshape_internal\u001b[0m\u001b[1;33m(\u001b[0m\u001b[0minput\u001b[0m\u001b[1;33m,\u001b[0m \u001b[0mname\u001b[0m\u001b[1;33m,\u001b[0m \u001b[0moptimize\u001b[0m\u001b[1;33m=\u001b[0m\u001b[1;32mTrue\u001b[0m\u001b[1;33m,\u001b[0m \u001b[0mout_type\u001b[0m\u001b[1;33m=\u001b[0m\u001b[0mout_type\u001b[0m\u001b[1;33m)\u001b[0m\u001b[1;33m\u001b[0m\u001b[1;33m\u001b[0m\u001b[0m\n\u001b[0m\u001b[0;32m    629\u001b[0m \u001b[1;33m\u001b[0m\u001b[0m\n\u001b[0;32m    630\u001b[0m \u001b[1;33m\u001b[0m\u001b[0m\n",
      "\u001b[1;32m~\\AppData\\Roaming\\Python\\Python37\\site-packages\\tensorflow\\python\\ops\\array_ops.py\u001b[0m in \u001b[0;36mshape_internal\u001b[1;34m(input, name, optimize, out_type)\u001b[0m\n\u001b[0;32m    654\u001b[0m         \u001b[1;32mif\u001b[0m \u001b[0moptimize\u001b[0m \u001b[1;32mand\u001b[0m \u001b[0minput_shape\u001b[0m\u001b[1;33m.\u001b[0m\u001b[0mis_fully_defined\u001b[0m\u001b[1;33m(\u001b[0m\u001b[1;33m)\u001b[0m\u001b[1;33m:\u001b[0m\u001b[1;33m\u001b[0m\u001b[1;33m\u001b[0m\u001b[0m\n\u001b[0;32m    655\u001b[0m           \u001b[1;32mreturn\u001b[0m \u001b[0mconstant\u001b[0m\u001b[1;33m(\u001b[0m\u001b[0minput_shape\u001b[0m\u001b[1;33m.\u001b[0m\u001b[0mas_list\u001b[0m\u001b[1;33m(\u001b[0m\u001b[1;33m)\u001b[0m\u001b[1;33m,\u001b[0m \u001b[0mout_type\u001b[0m\u001b[1;33m,\u001b[0m \u001b[0mname\u001b[0m\u001b[1;33m=\u001b[0m\u001b[0mname\u001b[0m\u001b[1;33m)\u001b[0m\u001b[1;33m\u001b[0m\u001b[1;33m\u001b[0m\u001b[0m\n\u001b[1;32m--> 656\u001b[1;33m       \u001b[1;32mreturn\u001b[0m \u001b[0mgen_array_ops\u001b[0m\u001b[1;33m.\u001b[0m\u001b[0mshape\u001b[0m\u001b[1;33m(\u001b[0m\u001b[0minput\u001b[0m\u001b[1;33m,\u001b[0m \u001b[0mname\u001b[0m\u001b[1;33m=\u001b[0m\u001b[0mname\u001b[0m\u001b[1;33m,\u001b[0m \u001b[0mout_type\u001b[0m\u001b[1;33m=\u001b[0m\u001b[0mout_type\u001b[0m\u001b[1;33m)\u001b[0m\u001b[1;33m\u001b[0m\u001b[1;33m\u001b[0m\u001b[0m\n\u001b[0m\u001b[0;32m    657\u001b[0m \u001b[1;33m\u001b[0m\u001b[0m\n\u001b[0;32m    658\u001b[0m \u001b[1;33m\u001b[0m\u001b[0m\n",
      "\u001b[1;32m~\\AppData\\Roaming\\Python\\Python37\\site-packages\\tensorflow\\python\\ops\\gen_array_ops.py\u001b[0m in \u001b[0;36mshape\u001b[1;34m(input, out_type, name)\u001b[0m\n\u001b[0;32m   9018\u001b[0m       _result = pywrap_tfe.TFE_Py_FastPathExecute(\n\u001b[0;32m   9019\u001b[0m         \u001b[0m_ctx\u001b[0m\u001b[1;33m.\u001b[0m\u001b[0m_context_handle\u001b[0m\u001b[1;33m,\u001b[0m \u001b[0mtld\u001b[0m\u001b[1;33m.\u001b[0m\u001b[0mdevice_name\u001b[0m\u001b[1;33m,\u001b[0m \u001b[1;34m\"Shape\"\u001b[0m\u001b[1;33m,\u001b[0m \u001b[0mname\u001b[0m\u001b[1;33m,\u001b[0m\u001b[1;33m\u001b[0m\u001b[1;33m\u001b[0m\u001b[0m\n\u001b[1;32m-> 9020\u001b[1;33m         tld.op_callbacks, input, \"out_type\", out_type)\n\u001b[0m\u001b[0;32m   9021\u001b[0m       \u001b[1;32mreturn\u001b[0m \u001b[0m_result\u001b[0m\u001b[1;33m\u001b[0m\u001b[1;33m\u001b[0m\u001b[0m\n\u001b[0;32m   9022\u001b[0m     \u001b[1;32mexcept\u001b[0m \u001b[0m_core\u001b[0m\u001b[1;33m.\u001b[0m\u001b[0m_NotOkStatusException\u001b[0m \u001b[1;32mas\u001b[0m \u001b[0me\u001b[0m\u001b[1;33m:\u001b[0m\u001b[1;33m\u001b[0m\u001b[1;33m\u001b[0m\u001b[0m\n",
      "\u001b[1;31mKeyboardInterrupt\u001b[0m: "
     ]
    }
   ],
   "source": [
    "agent.learn()"
   ]
  },
  {
   "cell_type": "code",
   "execution_count": null,
   "metadata": {},
   "outputs": [],
   "source": [
    "agent.trial()"
   ]
  },
  {
   "cell_type": "code",
   "execution_count": null,
   "metadata": {},
   "outputs": [],
   "source": []
  }
 ],
 "metadata": {
  "kernelspec": {
   "display_name": "tfgpu",
   "language": "python",
   "name": "tfgpu"
  },
  "language_info": {
   "codemirror_mode": {
    "name": "ipython",
    "version": 3
   },
   "file_extension": ".py",
   "mimetype": "text/x-python",
   "name": "python",
   "nbconvert_exporter": "python",
   "pygments_lexer": "ipython3",
   "version": "3.7.8"
  }
 },
 "nbformat": 4,
 "nbformat_minor": 4
}
