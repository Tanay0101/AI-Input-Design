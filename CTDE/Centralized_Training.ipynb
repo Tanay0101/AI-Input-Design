{
 "cells": [
  {
   "cell_type": "code",
   "execution_count": 1,
   "metadata": {},
   "outputs": [],
   "source": [
    "import os\n",
    "from copy import deepcopy\n",
    "\n",
    "from tqdm import tqdm\n",
    "import numpy as np\n",
    "import tensorflow as tf\n",
    "from tensorflow import keras\n",
    "import matplotlib.pyplot as plt\n",
    "\n",
    "from Environment import Environment, make_one_hot, give_mapping\n",
    "from Networks import UserActor, AsstActor, CentralizedCritic"
   ]
  },
  {
   "cell_type": "code",
   "execution_count": 2,
   "metadata": {},
   "outputs": [],
   "source": [
    "def give_prev_steps(prev_steps_assist, steps):\n",
    "    prev_steps_assist = [[0,0,0,0,-1,-1] for i in range(steps-1)]\n",
    "    return prev_steps_assist"
   ]
  },
  {
   "cell_type": "code",
   "execution_count": 3,
   "metadata": {},
   "outputs": [],
   "source": [
    "class Agent:\n",
    "    def __init__(self):\n",
    "        self.user_actor = UserActor()\n",
    "        self.asst_actor = AsstActor()\n",
    "        self.critic = CentralizedCritic()\n",
    "        self.optimizer_actors = tf.keras.optimizers.Adam(lr = 0.0001)\n",
    "        self.optimizer_critic = tf.keras.optimizers.Adam(lr = 0.0002)\n",
    "        self.huber_loss = tf.keras.losses.Huber()\n",
    "        self.memory_len = 4\n",
    "        \n",
    "        self.gamma = 0.90\n",
    "        self.env = Environment()\n",
    "        self.env.cells = np.array([[0.7, 0.1], [0.1, 0.1], [0.5, 0.7], [0.6, 0.2], [0.7, 0.4], [0.2, 0.9]])\n",
    "        self.env_cell_mapping = give_mapping(self.env.cells)\n",
    "        self.env_cell_mapping = self.env_cell_mapping[np.newaxis, :, :, np.newaxis]\n",
    "        self.eps = 10e-6\n",
    "    \n",
    "    def learn(self):\n",
    "        env = self.env\n",
    "        max_steps = 40\n",
    "        running_reward = 0\n",
    "        reached = 0\n",
    "        best = 0\n",
    "        \n",
    "        for epoch in tqdm(range(30000)):\n",
    "            \n",
    "            user_action_probs_history = []\n",
    "            asst_action_probs_history = []\n",
    "            critic_value_history = []\n",
    "            rewards_history = []\n",
    "            returns = [] #Returns\n",
    "            \n",
    "            done = False\n",
    "            episode_reward = 0\n",
    "            start, dest = env.give_start_dest()\n",
    "            ob_user = [start[0], start[1], dest[0], dest[1]]\n",
    "            prev_steps_assist = []\n",
    "            prev_steps_assist = give_prev_steps(prev_steps_assist, self.memory_len)\n",
    "            step = 0\n",
    "            episode_reward = 0\n",
    "            \n",
    "            with tf.GradientTape(persistent = True) as tape:\n",
    "                while not done and step<max_steps:\n",
    "                    curr_loc = ob_user[:2]\n",
    "                    target_loc = ob_user[2:4]\n",
    "                    step+=1\n",
    "                    ob_user = np.array(ob_user)[np.newaxis]\n",
    "                    user_probs = self.user_actor.model(ob_user)\n",
    "                    user_action = np.random.choice(4, p=np.squeeze(user_probs))\n",
    "                    user_action_probs_history.append(tf.math.log(user_probs[0, user_action]))\n",
    "\n",
    "                    action_user_one_hot = make_one_hot(user_action, 4)\n",
    "\n",
    "                    ob_assist = [action_user_one_hot + curr_loc] \n",
    "                    ob_assist = prev_steps_assist + ob_assist\n",
    "                    ob_assist = np.array(ob_assist)[np.newaxis]\n",
    "                    \n",
    "                    asst_probs = self.asst_actor.model([ob_assist, self.env_cell_mapping])\n",
    "                    asst_action = np.random.choice(4, p=np.squeeze(asst_probs))\n",
    "                    asst_action_probs_history.append(tf.math.log(asst_probs[0, asst_action]))\n",
    "                    \n",
    "                    asst_output_one_hot = np.array(make_one_hot(asst_action, 4))[np.newaxis]\n",
    "                    \n",
    "                    critic_value = self.critic.model([ob_user, ob_assist, self.env_cell_mapping, asst_output_one_hot])\n",
    "                    critic_value_history.append(critic_value)\n",
    "                    \n",
    "                    new_loc, reward_user, reward_assist, done = self.env.step(user_action, asst_action + 1, target_loc, curr_loc)\n",
    "                    \n",
    "                    next_ob_user = new_loc[:]\n",
    "                    next_ob_user = next_ob_user + target_loc\n",
    "\n",
    "                    ob_user = next_ob_user\n",
    "                    prev_steps_assist = np.squeeze(ob_assist).tolist()[1:]\n",
    "                    \n",
    "                    rewards_history.append(reward_user)\n",
    "                    episode_reward+=reward_user\n",
    "                    \n",
    "                    if done:\n",
    "                        reached += 1\n",
    "\n",
    "                running_reward = 0.05 * episode_reward + (1 - 0.05) * running_reward\n",
    "\n",
    "                discounted_sum = 0\n",
    "                for r in rewards_history[::-1]:\n",
    "                    discounted_sum = r + self.gamma * discounted_sum\n",
    "                    returns.append(discounted_sum)\n",
    "                returns.reverse()\n",
    "                \n",
    "                critic_losses = []\n",
    "                user_losses = []\n",
    "                asst_losses = []\n",
    "                \n",
    "                for log_prob_user, log_prob_asst, val, ret in zip(user_action_probs_history, asst_action_probs_history, critic_value_history,\\\n",
    "                                                                 returns):\n",
    "                    diff = ret - val\n",
    "                    user_losses.append(-log_prob_user*diff)\n",
    "                    asst_losses.append(-log_prob_asst*diff)\n",
    "                    critic_losses.append(self.huber_loss(tf.expand_dims(val, 0), tf.expand_dims(ret, 0)))\n",
    "\n",
    "                user_loss = sum(user_losses)\n",
    "                asst_loss = sum(asst_losses)\n",
    "                critic_loss = sum(critic_losses)\n",
    "\n",
    "            grads = tape.gradient(user_loss, self.user_actor.model.trainable_variables)\n",
    "            self.optimizer_actors.apply_gradients(zip(grads, self.user_actor.model.trainable_variables))\n",
    "\n",
    "            grads = tape.gradient(asst_loss, self.asst_actor.model.trainable_variables)\n",
    "            self.optimizer_actors.apply_gradients(zip(grads, self.asst_actor.model.trainable_variables))\n",
    "\n",
    "            grads = tape.gradient(critic_loss, self.critic.model.trainable_variables)\n",
    "            self.optimizer_critic.apply_gradients(zip(grads, self.critic.model.trainable_variables))\n",
    "            \n",
    "            if epoch%100 == 0:\n",
    "                print(running_reward)\n",
    "            \n",
    "            if epoch and epoch%100 == 0:\n",
    "                print(reached)\n",
    "                if reached>=best:\n",
    "                    best = reached\n",
    "                    tf.keras.models.save_model(self.user_actor.model, 'user.h5')\n",
    "                    tf.keras.models.save_model(self.asst_actor.model, 'asst.h5')\n",
    "                    tf.keras.models.save_model(self.critic.model, 'critic.h5')\n",
    "                reached = 0\n",
    "                \n",
    "                if epoch%200 == 0:\n",
    "                    self.trial()\n",
    "                    \n",
    "                    if epoch%1000 == 0:\n",
    "                        max_steps -= 1\n",
    "                        max_steps = max(max_steps, 20)\n",
    "                \n",
    "                \n",
    "    def trial(self):\n",
    "        env = self.env\n",
    "        max_steps = 20\n",
    "        done = False\n",
    "        episode_reward = 0\n",
    "        start, dest = env.give_start_dest()\n",
    "        ob_user = [start[0], start[1], dest[0], dest[1]]\n",
    "        prev_steps_assist = []\n",
    "        prev_steps_assist = give_prev_steps(prev_steps_assist, self.memory_len)\n",
    "        step = 0\n",
    "        episode_reward = 0\n",
    "\n",
    "        while not done and step<max_steps:\n",
    "            curr_loc = ob_user[:2]\n",
    "            target_loc = ob_user[2:4]\n",
    "            step+=1\n",
    "            print(ob_user)\n",
    "\n",
    "            ob_user = np.array(ob_user)[np.newaxis]\n",
    "            user_probs = self.user_actor.model(ob_user)\n",
    "            user_action = np.argmax(np.squeeze(user_probs))\n",
    "\n",
    "            action_user_one_hot = make_one_hot(user_action, 4)\n",
    "\n",
    "            ob_assist = [action_user_one_hot + curr_loc] \n",
    "            ob_assist = prev_steps_assist + ob_assist\n",
    "            ob_assist = np.array(ob_assist)[np.newaxis]\n",
    "\n",
    "            asst_probs = self.asst_actor.model([ob_assist, self.env_cell_mapping])\n",
    "            print(asst_probs)\n",
    "            asst_action = np.argmax(np.squeeze(asst_probs)) \n",
    "            new_loc, reward_user, reward_assist, done = self.env.step(user_action, asst_action + 1, target_loc, curr_loc)\n",
    "\n",
    "            next_ob_user = new_loc[:]\n",
    "            next_ob_user = next_ob_user + target_loc\n",
    "\n",
    "            ob_user = next_ob_user\n",
    "            prev_steps_assist = np.squeeze(ob_assist).tolist()[1:]\n",
    "            episode_reward+=reward_user\n",
    "\n",
    "\n"
   ]
  },
  {
   "cell_type": "code",
   "execution_count": 4,
   "metadata": {
    "scrolled": false
   },
   "outputs": [
    {
     "name": "stdout",
     "output_type": "stream",
     "text": [
      "Model: \"functional_1\"\n",
      "__________________________________________________________________________________________________\n",
      "Layer (type)                    Output Shape         Param #     Connected to                     \n",
      "==================================================================================================\n",
      "input_1 (InputLayer)            [(None, 4)]          0                                            \n",
      "__________________________________________________________________________________________________\n",
      "tf_op_layer_strided_slice (Tens [(None, 2)]          0           input_1[0][0]                    \n",
      "__________________________________________________________________________________________________\n",
      "tf_op_layer_strided_slice_1 (Te [(None, 2)]          0           input_1[0][0]                    \n",
      "__________________________________________________________________________________________________\n",
      "subtract (Subtract)             (None, 2)            0           tf_op_layer_strided_slice[0][0]  \n",
      "                                                                 tf_op_layer_strided_slice_1[0][0]\n",
      "__________________________________________________________________________________________________\n",
      "dense (Dense)                   (None, 32)           96          subtract[0][0]                   \n",
      "__________________________________________________________________________________________________\n",
      "dense_1 (Dense)                 (None, 64)           2112        dense[0][0]                      \n",
      "__________________________________________________________________________________________________\n",
      "dense_2 (Dense)                 (None, 4)            260         dense_1[0][0]                    \n",
      "==================================================================================================\n",
      "Total params: 2,468\n",
      "Trainable params: 2,468\n",
      "Non-trainable params: 0\n",
      "__________________________________________________________________________________________________\n",
      "Model: \"functional_3\"\n",
      "__________________________________________________________________________________________________\n",
      "Layer (type)                    Output Shape         Param #     Connected to                     \n",
      "==================================================================================================\n",
      "input_3 (InputLayer)            [(None, 11, 11, 1)]  0                                            \n",
      "__________________________________________________________________________________________________\n",
      "conv2d (Conv2D)                 (None, 9, 9, 2)      20          input_3[0][0]                    \n",
      "__________________________________________________________________________________________________\n",
      "input_2 (InputLayer)            [(None, 4, 6)]       0                                            \n",
      "__________________________________________________________________________________________________\n",
      "max_pooling2d (MaxPooling2D)    (None, 4, 4, 2)      0           conv2d[0][0]                     \n",
      "__________________________________________________________________________________________________\n",
      "dense_3 (Dense)                 (None, 4, 32)        224         input_2[0][0]                    \n",
      "__________________________________________________________________________________________________\n",
      "flatten (Flatten)               (None, 32)           0           max_pooling2d[0][0]              \n",
      "__________________________________________________________________________________________________\n",
      "lstm (LSTM)                     (None, 32)           8320        dense_3[0][0]                    \n",
      "__________________________________________________________________________________________________\n",
      "dense_4 (Dense)                 (None, 32)           1056        flatten[0][0]                    \n",
      "__________________________________________________________________________________________________\n",
      "concatenate (Concatenate)       (None, 64)           0           lstm[0][0]                       \n",
      "                                                                 dense_4[0][0]                    \n",
      "__________________________________________________________________________________________________\n",
      "dense_5 (Dense)                 (None, 32)           2080        concatenate[0][0]                \n",
      "__________________________________________________________________________________________________\n",
      "dense_6 (Dense)                 (None, 4)            132         dense_5[0][0]                    \n",
      "==================================================================================================\n",
      "Total params: 11,832\n",
      "Trainable params: 11,832\n",
      "Non-trainable params: 0\n",
      "__________________________________________________________________________________________________\n",
      "Model: \"functional_5\"\n",
      "__________________________________________________________________________________________________\n",
      "Layer (type)                    Output Shape         Param #     Connected to                     \n",
      "==================================================================================================\n",
      "input_4 (InputLayer)            [(None, 4)]          0                                            \n",
      "__________________________________________________________________________________________________\n",
      "tf_op_layer_strided_slice_2 (Te [(None, 2)]          0           input_4[0][0]                    \n",
      "__________________________________________________________________________________________________\n",
      "tf_op_layer_strided_slice_3 (Te [(None, 2)]          0           input_4[0][0]                    \n",
      "__________________________________________________________________________________________________\n",
      "input_6 (InputLayer)            [(None, 11, 11, 1)]  0                                            \n",
      "__________________________________________________________________________________________________\n",
      "subtract_1 (Subtract)           (None, 2)            0           tf_op_layer_strided_slice_2[0][0]\n",
      "                                                                 tf_op_layer_strided_slice_3[0][0]\n",
      "__________________________________________________________________________________________________\n",
      "conv2d_1 (Conv2D)               (None, 9, 9, 2)      20          input_6[0][0]                    \n",
      "__________________________________________________________________________________________________\n",
      "dense_7 (Dense)                 (None, 32)           96          subtract_1[0][0]                 \n",
      "__________________________________________________________________________________________________\n",
      "input_5 (InputLayer)            [(None, 4, 6)]       0                                            \n",
      "__________________________________________________________________________________________________\n",
      "max_pooling2d_1 (MaxPooling2D)  (None, 4, 4, 2)      0           conv2d_1[0][0]                   \n",
      "__________________________________________________________________________________________________\n",
      "dense_8 (Dense)                 (None, 64)           2112        dense_7[0][0]                    \n",
      "__________________________________________________________________________________________________\n",
      "dense_10 (Dense)                (None, 4, 32)        224         input_5[0][0]                    \n",
      "__________________________________________________________________________________________________\n",
      "flatten_1 (Flatten)             (None, 32)           0           max_pooling2d_1[0][0]            \n",
      "__________________________________________________________________________________________________\n",
      "input_7 (InputLayer)            [(None, 4)]          0                                            \n",
      "__________________________________________________________________________________________________\n",
      "dense_9 (Dense)                 (None, 4)            260         dense_8[0][0]                    \n",
      "__________________________________________________________________________________________________\n",
      "lstm_1 (LSTM)                   (None, 32)           8320        dense_10[0][0]                   \n",
      "__________________________________________________________________________________________________\n",
      "dense_11 (Dense)                (None, 32)           1056        flatten_1[0][0]                  \n",
      "__________________________________________________________________________________________________\n",
      "dense_12 (Dense)                (None, 32)           160         input_7[0][0]                    \n",
      "__________________________________________________________________________________________________\n",
      "concatenate_1 (Concatenate)     (None, 100)          0           dense_9[0][0]                    \n",
      "                                                                 lstm_1[0][0]                     \n",
      "                                                                 dense_11[0][0]                   \n",
      "                                                                 dense_12[0][0]                   \n",
      "__________________________________________________________________________________________________\n",
      "dense_13 (Dense)                (None, 32)           3232        concatenate_1[0][0]              \n",
      "__________________________________________________________________________________________________\n",
      "dense_14 (Dense)                (None, 1)            33          dense_13[0][0]                   \n",
      "==================================================================================================\n",
      "Total params: 15,513\n",
      "Trainable params: 15,513\n",
      "Non-trainable params: 0\n",
      "__________________________________________________________________________________________________\n",
      "Icon Locations:\n",
      "[[0.4 0.2]\n",
      " [0.4 0.6]\n",
      " [0.2 0.3]\n",
      " [0.  0.3]\n",
      " [0.9 0.6]\n",
      " [0.7 0. ]]\n",
      "Icon usage Probabilities\n",
      "[0.16666667 0.16666667 0.16666667 0.16666667 0.16666667 0.16666667]\n"
     ]
    }
   ],
   "source": [
    "agent = Agent()"
   ]
  },
  {
   "cell_type": "code",
   "execution_count": null,
   "metadata": {
    "scrolled": true
   },
   "outputs": [
    {
     "name": "stderr",
     "output_type": "stream",
     "text": [
      "  0%|                                                                             | 1/30000 [00:03<28:24:04,  3.41s/it]"
     ]
    },
    {
     "name": "stdout",
     "output_type": "stream",
     "text": [
      "-2.0\n"
     ]
    },
    {
     "name": "stderr",
     "output_type": "stream",
     "text": [
      "  0%|▎                                                                          | 100/30000 [02:35<13:07:35,  1.58s/it]"
     ]
    },
    {
     "name": "stdout",
     "output_type": "stream",
     "text": [
      "-34.48307425177188\n",
      "18\n"
     ]
    },
    {
     "name": "stderr",
     "output_type": "stream",
     "text": [
      "  1%|▌                                                                          | 200/30000 [05:11<12:12:38,  1.48s/it]"
     ]
    },
    {
     "name": "stdout",
     "output_type": "stream",
     "text": [
      "-34.05263624720085\n",
      "20\n",
      "[0.9, 0.5, 0.2, 0.9]\n",
      "tf.Tensor([[0.24684553 0.26385668 0.2513152  0.23798262]], shape=(1, 4), dtype=float32)\n",
      "[1.0, 0.5, 0.2, 0.9]\n",
      "tf.Tensor([[0.24370046 0.2603243  0.25628167 0.23969361]], shape=(1, 4), dtype=float32)\n",
      "[1.0, 0.5, 0.2, 0.9]\n",
      "tf.Tensor([[0.23817359 0.26279375 0.25832558 0.24070707]], shape=(1, 4), dtype=float32)\n",
      "[1.0, 0.5, 0.2, 0.9]\n",
      "tf.Tensor([[0.23454688 0.26332456 0.26231062 0.23981792]], shape=(1, 4), dtype=float32)\n",
      "[1.0, 0.5, 0.2, 0.9]\n",
      "tf.Tensor([[0.23459326 0.26323298 0.26230556 0.23986825]], shape=(1, 4), dtype=float32)\n",
      "[1.0, 0.5, 0.2, 0.9]\n",
      "tf.Tensor([[0.23459326 0.26323298 0.26230556 0.23986825]], shape=(1, 4), dtype=float32)\n",
      "[1.0, 0.5, 0.2, 0.9]\n"
     ]
    },
    {
     "name": "stderr",
     "output_type": "stream",
     "text": [
      "\r",
      "  1%|▌                                                                          | 201/30000 [05:13<15:17:25,  1.85s/it]"
     ]
    },
    {
     "name": "stdout",
     "output_type": "stream",
     "text": [
      "tf.Tensor([[0.23459326 0.26323298 0.26230556 0.23986825]], shape=(1, 4), dtype=float32)\n",
      "[1.0, 0.5, 0.2, 0.9]\n",
      "tf.Tensor([[0.23459326 0.26323298 0.26230556 0.23986825]], shape=(1, 4), dtype=float32)\n",
      "[1.0, 0.5, 0.2, 0.9]\n",
      "tf.Tensor([[0.23459326 0.26323298 0.26230556 0.23986825]], shape=(1, 4), dtype=float32)\n",
      "[1.0, 0.5, 0.2, 0.9]\n",
      "tf.Tensor([[0.23459326 0.26323298 0.26230556 0.23986825]], shape=(1, 4), dtype=float32)\n",
      "[1.0, 0.5, 0.2, 0.9]\n",
      "tf.Tensor([[0.23459326 0.26323298 0.26230556 0.23986825]], shape=(1, 4), dtype=float32)\n",
      "[1.0, 0.5, 0.2, 0.9]\n",
      "tf.Tensor([[0.23459326 0.26323298 0.26230556 0.23986825]], shape=(1, 4), dtype=float32)\n",
      "[1.0, 0.5, 0.2, 0.9]\n",
      "tf.Tensor([[0.23459326 0.26323298 0.26230556 0.23986825]], shape=(1, 4), dtype=float32)\n",
      "[1.0, 0.5, 0.2, 0.9]\n",
      "tf.Tensor([[0.23459326 0.26323298 0.26230556 0.23986825]], shape=(1, 4), dtype=float32)\n",
      "[1.0, 0.5, 0.2, 0.9]\n",
      "tf.Tensor([[0.23459326 0.26323298 0.26230556 0.23986825]], shape=(1, 4), dtype=float32)\n",
      "[1.0, 0.5, 0.2, 0.9]\n",
      "tf.Tensor([[0.23459326 0.26323298 0.26230556 0.23986825]], shape=(1, 4), dtype=float32)\n",
      "[1.0, 0.5, 0.2, 0.9]\n",
      "tf.Tensor([[0.23459326 0.26323298 0.26230556 0.23986825]], shape=(1, 4), dtype=float32)\n",
      "[1.0, 0.5, 0.2, 0.9]\n",
      "tf.Tensor([[0.23459326 0.26323298 0.26230556 0.23986825]], shape=(1, 4), dtype=float32)\n",
      "[1.0, 0.5, 0.2, 0.9]\n",
      "tf.Tensor([[0.23459326 0.26323298 0.26230556 0.23986825]], shape=(1, 4), dtype=float32)\n",
      "[1.0, 0.5, 0.2, 0.9]\n",
      "tf.Tensor([[0.23459326 0.26323298 0.26230556 0.23986825]], shape=(1, 4), dtype=float32)\n"
     ]
    },
    {
     "name": "stderr",
     "output_type": "stream",
     "text": [
      "  1%|▊                                                                          | 301/30000 [07:52<11:25:19,  1.38s/it]"
     ]
    },
    {
     "name": "stdout",
     "output_type": "stream",
     "text": [
      "-32.19760507619369\n",
      "17\n"
     ]
    },
    {
     "name": "stderr",
     "output_type": "stream",
     "text": [
      "  1%|█                                                                          | 400/30000 [11:27<19:37:46,  2.39s/it]"
     ]
    },
    {
     "name": "stdout",
     "output_type": "stream",
     "text": [
      "-37.850576427623054\n",
      "19\n",
      "[0.3, 0.5, 0.6, 0.2]\n",
      "tf.Tensor([[0.24536118 0.27327868 0.2434324  0.2379277 ]], shape=(1, 4), dtype=float32)\n",
      "[0.5, 0.5, 0.6, 0.2]\n",
      "tf.Tensor([[0.23991613 0.27229086 0.24768777 0.24010523]], shape=(1, 4), dtype=float32)\n",
      "[0.5, 0.3, 0.6, 0.2]\n",
      "tf.Tensor([[0.23629281 0.27250704 0.24957597 0.24162415]], shape=(1, 4), dtype=float32)\n",
      "[0.5, 0.1, 0.6, 0.2]\n",
      "tf.Tensor([[0.22939906 0.27570122 0.25459197 0.2403077 ]], shape=(1, 4), dtype=float32)\n",
      "[0.3, 0.1, 0.6, 0.2]\n",
      "tf.Tensor([[0.23361354 0.2739151  0.25288987 0.23958148]], shape=(1, 4), dtype=float32)\n",
      "[0.3, 0.0, 0.6, 0.2]\n",
      "tf.Tensor([[0.23074071 0.2753068  0.25618652 0.237766  ]], shape=(1, 4), dtype=float32)\n",
      "[0.1, 0.0, 0.6, 0.2]\n",
      "tf.Tensor([[0.22977526 0.2753786  0.25896886 0.23587726]], shape=(1, 4), dtype=float32)\n",
      "[0.0, 0.0, 0.6, 0.2]\n",
      "tf.Tensor([[0.2348562  0.27306008 0.2546157  0.23746802]], shape=(1, 4), dtype=float32)\n",
      "[0.0, 0.0, 0.6, 0.2]\n",
      "tf.Tensor([[0.23677155 0.272009   0.25321075 0.23800865]], shape=(1, 4), dtype=float32)\n",
      "[0.0, 0.0, 0.6, 0.2]\n",
      "tf.Tensor([[0.23885785 0.27052155 0.25072792 0.23989263]], shape=(1, 4), dtype=float32)\n",
      "[0.0, 0.0, 0.6, 0.2]\n",
      "tf.Tensor([[0.2398213  0.26947582 0.24884285 0.24186002]], shape=(1, 4), dtype=float32)\n",
      "[0.0, 0.0, 0.6, 0.2]\n",
      "tf.Tensor([[0.2398213  0.26947582 0.24884285 0.24186002]], shape=(1, 4), dtype=float32)\n",
      "[0.0, 0.0, 0.6, 0.2]\n",
      "tf.Tensor([[0.2398213  0.26947582 0.24884285 0.24186002]], shape=(1, 4), dtype=float32)\n",
      "[0.0, 0.0, 0.6, 0.2]\n",
      "tf.Tensor([[0.2398213  0.26947582 0.24884285 0.24186002]], shape=(1, 4), dtype=float32)\n",
      "[0.0, 0.0, 0.6, 0.2]\n",
      "tf.Tensor([[0.2398213  0.26947582 0.24884285 0.24186002]], shape=(1, 4), dtype=float32)\n",
      "[0.0, 0.0, 0.6, 0.2]\n",
      "tf.Tensor([[0.2398213  0.26947582 0.24884285 0.24186002]], shape=(1, 4), dtype=float32)\n"
     ]
    },
    {
     "name": "stderr",
     "output_type": "stream",
     "text": [
      "\r",
      "  1%|█                                                                          | 401/30000 [11:30<19:36:48,  2.39s/it]"
     ]
    },
    {
     "name": "stdout",
     "output_type": "stream",
     "text": [
      "[0.0, 0.0, 0.6, 0.2]\n",
      "tf.Tensor([[0.2398213  0.26947582 0.24884285 0.24186002]], shape=(1, 4), dtype=float32)\n",
      "[0.0, 0.0, 0.6, 0.2]\n",
      "tf.Tensor([[0.2398213  0.26947582 0.24884285 0.24186002]], shape=(1, 4), dtype=float32)\n",
      "[0.0, 0.0, 0.6, 0.2]\n",
      "tf.Tensor([[0.2398213  0.26947582 0.24884285 0.24186002]], shape=(1, 4), dtype=float32)\n",
      "[0.0, 0.0, 0.6, 0.2]\n",
      "tf.Tensor([[0.2398213  0.26947582 0.24884285 0.24186002]], shape=(1, 4), dtype=float32)\n"
     ]
    },
    {
     "name": "stderr",
     "output_type": "stream",
     "text": [
      "  2%|█▎                                                                         | 501/30000 [15:05<19:07:56,  2.33s/it]"
     ]
    },
    {
     "name": "stdout",
     "output_type": "stream",
     "text": [
      "-34.90994249583307\n",
      "19\n"
     ]
    },
    {
     "name": "stderr",
     "output_type": "stream",
     "text": [
      "  2%|█▌                                                                         | 600/30000 [18:51<18:53:18,  2.31s/it]"
     ]
    },
    {
     "name": "stdout",
     "output_type": "stream",
     "text": [
      "-34.080673138602506\n",
      "19\n",
      "[0.0, 0.2, 0.7, 0.4]\n",
      "tf.Tensor([[0.25231877 0.27782422 0.23541228 0.2344447 ]], shape=(1, 4), dtype=float32)\n",
      "[0.0, 0.0, 0.7, 0.4]\n",
      "tf.Tensor([[0.24592073 0.2770041  0.24333265 0.2337425 ]], shape=(1, 4), dtype=float32)\n",
      "[0.0, 0.0, 0.7, 0.4]\n",
      "tf.Tensor([[0.24141523 0.2759526  0.24911979 0.23351237]], shape=(1, 4), dtype=float32)\n",
      "[0.0, 0.0, 0.7, 0.4]\n",
      "tf.Tensor([[0.23756212 0.27611127 0.25254348 0.23378317]], shape=(1, 4), dtype=float32)\n",
      "[0.0, 0.0, 0.7, 0.4]\n",
      "tf.Tensor([[0.23775448 0.2755091  0.2550988  0.23163764]], shape=(1, 4), dtype=float32)\n",
      "[0.0, 0.0, 0.7, 0.4]\n",
      "tf.Tensor([[0.23775448 0.2755091  0.2550988  0.23163764]], shape=(1, 4), dtype=float32)\n",
      "[0.0, 0.0, 0.7, 0.4]\n",
      "tf.Tensor([[0.23775448 0.2755091  0.2550988  0.23163764]], shape=(1, 4), dtype=float32)\n",
      "[0.0, 0.0, 0.7, 0.4]\n",
      "tf.Tensor([[0.23775448 0.2755091  0.2550988  0.23163764]], shape=(1, 4), dtype=float32)\n",
      "[0.0, 0.0, 0.7, 0.4]\n",
      "tf.Tensor([[0.23775448 0.2755091  0.2550988  0.23163764]], shape=(1, 4), dtype=float32)\n",
      "[0.0, 0.0, 0.7, 0.4]\n",
      "tf.Tensor([[0.23775448 0.2755091  0.2550988  0.23163764]], shape=(1, 4), dtype=float32)\n",
      "[0.0, 0.0, 0.7, 0.4]\n",
      "tf.Tensor([[0.23775448 0.2755091  0.2550988  0.23163764]], shape=(1, 4), dtype=float32)\n",
      "[0.0, 0.0, 0.7, 0.4]\n",
      "tf.Tensor([[0.23775448 0.2755091  0.2550988  0.23163764]], shape=(1, 4), dtype=float32)\n",
      "[0.0, 0.0, 0.7, 0.4]\n",
      "tf.Tensor([[0.23775448 0.2755091  0.2550988  0.23163764]], shape=(1, 4), dtype=float32)\n",
      "[0.0, 0.0, 0.7, 0.4]\n",
      "tf.Tensor([[0.23775448 0.2755091  0.2550988  0.23163764]], shape=(1, 4), dtype=float32)"
     ]
    },
    {
     "name": "stderr",
     "output_type": "stream",
     "text": [
      "\r",
      "  2%|█▌                                                                         | 601/30000 [18:54<19:51:55,  2.43s/it]"
     ]
    },
    {
     "name": "stdout",
     "output_type": "stream",
     "text": [
      "\n",
      "[0.0, 0.0, 0.7, 0.4]\n",
      "tf.Tensor([[0.23775448 0.2755091  0.2550988  0.23163764]], shape=(1, 4), dtype=float32)\n",
      "[0.0, 0.0, 0.7, 0.4]\n",
      "tf.Tensor([[0.23775448 0.2755091  0.2550988  0.23163764]], shape=(1, 4), dtype=float32)\n",
      "[0.0, 0.0, 0.7, 0.4]\n",
      "tf.Tensor([[0.23775448 0.2755091  0.2550988  0.23163764]], shape=(1, 4), dtype=float32)\n",
      "[0.0, 0.0, 0.7, 0.4]\n",
      "tf.Tensor([[0.23775448 0.2755091  0.2550988  0.23163764]], shape=(1, 4), dtype=float32)\n",
      "[0.0, 0.0, 0.7, 0.4]\n",
      "tf.Tensor([[0.23775448 0.2755091  0.2550988  0.23163764]], shape=(1, 4), dtype=float32)\n",
      "[0.0, 0.0, 0.7, 0.4]\n",
      "tf.Tensor([[0.23775448 0.2755091  0.2550988  0.23163764]], shape=(1, 4), dtype=float32)\n"
     ]
    },
    {
     "name": "stderr",
     "output_type": "stream",
     "text": [
      "  2%|█▊                                                                         | 701/30000 [22:46<19:40:00,  2.42s/it]"
     ]
    },
    {
     "name": "stdout",
     "output_type": "stream",
     "text": [
      "-34.792863596448264\n",
      "18\n"
     ]
    },
    {
     "name": "stderr",
     "output_type": "stream",
     "text": [
      "  3%|██                                                                         | 800/30000 [26:45<17:41:07,  2.18s/it]"
     ]
    },
    {
     "name": "stdout",
     "output_type": "stream",
     "text": [
      "-32.34181581902372\n",
      "21\n",
      "[0.1, 0.5, 0.6, 0.2]\n",
      "tf.Tensor([[0.25609857 0.28114596 0.23106162 0.23169382]], shape=(1, 4), dtype=float32)\n",
      "[0.1, 0.3, 0.6, 0.2]\n",
      "tf.Tensor([[0.2513981  0.2793677  0.23493753 0.23429668]], shape=(1, 4), dtype=float32)\n",
      "[0.1, 0.1, 0.6, 0.2]\n",
      "tf.Tensor([[0.24942638 0.27684522 0.23748864 0.23623973]], shape=(1, 4), dtype=float32)\n",
      "[0.1, 0.0, 0.6, 0.2]\n",
      "tf.Tensor([[0.24781361 0.27648062 0.23876373 0.23694207]], shape=(1, 4), dtype=float32)\n",
      "[0.1, 0.0, 0.6, 0.2]\n",
      "tf.Tensor([[0.24887866 0.2761762  0.23802404 0.23692106]], shape=(1, 4), dtype=float32)\n",
      "[0.1, 0.0, 0.6, 0.2]\n",
      "tf.Tensor([[0.24942414 0.27627194 0.23749453 0.23680939]], shape=(1, 4), dtype=float32)\n",
      "[0.1, 0.0, 0.6, 0.2]\n",
      "tf.Tensor([[0.24958023 0.27634376 0.2373158  0.2367602 ]], shape=(1, 4), dtype=float32)\n",
      "[0.1, 0.0, 0.6, 0.2]\n",
      "tf.Tensor([[0.24958023 0.27634376 0.2373158  0.2367602 ]], shape=(1, 4), dtype=float32)\n",
      "[0.1, 0.0, 0.6, 0.2]\n",
      "tf.Tensor([[0.24958023 0.27634376 0.2373158  0.2367602 ]], shape=(1, 4), dtype=float32)\n",
      "[0.1, 0.0, 0.6, 0.2]\n",
      "tf.Tensor([[0.24958023 0.27634376 0.2373158  0.2367602 ]], shape=(1, 4), dtype=float32)\n",
      "[0.1, 0.0, 0.6, 0.2]\n",
      "tf.Tensor([[0.24958023 0.27634376 0.2373158  0.2367602 ]], shape=(1, 4), dtype=float32)\n",
      "[0.1, 0.0, 0.6, 0.2]\n",
      "tf.Tensor([[0.24958023 0.27634376 0.2373158  0.2367602 ]], shape=(1, 4), dtype=float32)\n",
      "[0.1, 0.0, 0.6, 0.2]\n",
      "tf.Tensor([[0.24958023 0.27634376 0.2373158  0.2367602 ]], shape=(1, 4), dtype=float32)\n",
      "[0.1, 0.0, 0.6, 0.2]\n",
      "tf.Tensor([[0.24958023 0.27634376 0.2373158  0.2367602 ]], shape=(1, 4), dtype=float32)\n",
      "[0.1, 0.0, 0.6, 0.2]\n",
      "tf.Tensor([[0.24958023 0.27634376 0.2373158  0.2367602 ]], shape=(1, 4), dtype=float32)\n",
      "[0.1, 0.0, 0.6, 0.2]\n",
      "tf.Tensor([[0.24958023 0.27634376 0.2373158  0.2367602 ]], shape=(1, 4), dtype=float32)\n",
      "[0.1, 0.0, 0.6, 0.2]\n"
     ]
    },
    {
     "name": "stderr",
     "output_type": "stream",
     "text": [
      "\r",
      "  3%|██                                                                         | 801/30000 [26:48<19:39:23,  2.42s/it]"
     ]
    },
    {
     "name": "stdout",
     "output_type": "stream",
     "text": [
      "tf.Tensor([[0.24958023 0.27634376 0.2373158  0.2367602 ]], shape=(1, 4), dtype=float32)\n",
      "[0.1, 0.0, 0.6, 0.2]\n",
      "tf.Tensor([[0.24958023 0.27634376 0.2373158  0.2367602 ]], shape=(1, 4), dtype=float32)\n",
      "[0.1, 0.0, 0.6, 0.2]\n",
      "tf.Tensor([[0.24958023 0.27634376 0.2373158  0.2367602 ]], shape=(1, 4), dtype=float32)\n",
      "[0.1, 0.0, 0.6, 0.2]\n",
      "tf.Tensor([[0.24958023 0.27634376 0.2373158  0.2367602 ]], shape=(1, 4), dtype=float32)\n"
     ]
    },
    {
     "name": "stderr",
     "output_type": "stream",
     "text": [
      "  3%|██▎                                                                        | 901/30000 [30:43<16:38:43,  2.06s/it]"
     ]
    },
    {
     "name": "stdout",
     "output_type": "stream",
     "text": [
      "-31.439124691184585\n",
      "22\n"
     ]
    },
    {
     "name": "stderr",
     "output_type": "stream",
     "text": [
      "  3%|██▍                                                                       | 1000/30000 [34:02<16:33:03,  2.05s/it]"
     ]
    },
    {
     "name": "stdout",
     "output_type": "stream",
     "text": [
      "-30.37451574219795\n",
      "25\n",
      "[0.8, 0.5, 0.5, 0.7]\n",
      "tf.Tensor([[0.25767386 0.28366074 0.23051675 0.2281487 ]], shape=(1, 4), dtype=float32)\n",
      "[0.6, 0.5, 0.5, 0.7]\n",
      "tf.Tensor([[0.256012   0.2813676  0.23149799 0.2311224 ]], shape=(1, 4), dtype=float32)\n",
      "[0.6, 0.7, 0.5, 0.7]\n",
      "tf.Tensor([[0.2475812  0.2810172  0.23754539 0.23385623]], shape=(1, 4), dtype=float32)\n",
      "[0.4, 0.7, 0.5, 0.7]\n",
      "tf.Tensor([[0.24398574 0.28247967 0.23770651 0.23582807]], shape=(1, 4), dtype=float32)\n",
      "[0.4, 0.5, 0.5, 0.7]\n",
      "tf.Tensor([[0.24542066 0.28012884 0.23515975 0.23929073]], shape=(1, 4), dtype=float32)\n",
      "[0.4, 0.7, 0.5, 0.7]\n",
      "tf.Tensor([[0.24598652 0.28034082 0.23539852 0.23827414]], shape=(1, 4), dtype=float32)\n",
      "[0.4, 0.5, 0.5, 0.7]\n",
      "tf.Tensor([[0.24696049 0.278037   0.23341845 0.24158402]], shape=(1, 4), dtype=float32)\n",
      "[0.4, 0.7, 0.5, 0.7]\n",
      "tf.Tensor([[0.24602197 0.27863333 0.23426788 0.24107684]], shape=(1, 4), dtype=float32)\n",
      "[0.4, 0.5, 0.5, 0.7]\n",
      "tf.Tensor([[0.24696049 0.278037   0.23341845 0.24158402]], shape=(1, 4), dtype=float32)\n"
     ]
    },
    {
     "name": "stderr",
     "output_type": "stream",
     "text": [
      "\r",
      "  3%|██▍                                                                       | 1001/30000 [34:04<15:51:43,  1.97s/it]"
     ]
    },
    {
     "name": "stdout",
     "output_type": "stream",
     "text": [
      "[0.4, 0.7, 0.5, 0.7]\n",
      "tf.Tensor([[0.24602197 0.27863333 0.23426788 0.24107684]], shape=(1, 4), dtype=float32)\n",
      "[0.4, 0.5, 0.5, 0.7]\n",
      "tf.Tensor([[0.24696049 0.278037   0.23341845 0.24158402]], shape=(1, 4), dtype=float32)\n",
      "[0.4, 0.7, 0.5, 0.7]\n",
      "tf.Tensor([[0.24602197 0.27863333 0.23426788 0.24107684]], shape=(1, 4), dtype=float32)\n",
      "[0.4, 0.5, 0.5, 0.7]\n",
      "tf.Tensor([[0.24696049 0.278037   0.23341845 0.24158402]], shape=(1, 4), dtype=float32)\n",
      "[0.4, 0.7, 0.5, 0.7]\n",
      "tf.Tensor([[0.24602197 0.27863333 0.23426788 0.24107684]], shape=(1, 4), dtype=float32)\n",
      "[0.4, 0.5, 0.5, 0.7]\n",
      "tf.Tensor([[0.24696049 0.278037   0.23341845 0.24158402]], shape=(1, 4), dtype=float32)\n",
      "[0.4, 0.7, 0.5, 0.7]\n",
      "tf.Tensor([[0.24602197 0.27863333 0.23426788 0.24107684]], shape=(1, 4), dtype=float32)\n",
      "[0.4, 0.5, 0.5, 0.7]\n",
      "tf.Tensor([[0.24696049 0.278037   0.23341845 0.24158402]], shape=(1, 4), dtype=float32)\n",
      "[0.4, 0.7, 0.5, 0.7]\n",
      "tf.Tensor([[0.24602197 0.27863333 0.23426788 0.24107684]], shape=(1, 4), dtype=float32)\n",
      "[0.4, 0.5, 0.5, 0.7]\n",
      "tf.Tensor([[0.24696049 0.278037   0.23341845 0.24158402]], shape=(1, 4), dtype=float32)\n",
      "[0.4, 0.7, 0.5, 0.7]\n",
      "tf.Tensor([[0.24602197 0.27863333 0.23426788 0.24107684]], shape=(1, 4), dtype=float32)\n"
     ]
    },
    {
     "name": "stderr",
     "output_type": "stream",
     "text": [
      "  4%|██▋                                                                       | 1101/30000 [37:17<14:37:43,  1.82s/it]"
     ]
    },
    {
     "name": "stdout",
     "output_type": "stream",
     "text": [
      "-33.673732002912956\n",
      "20\n"
     ]
    },
    {
     "name": "stderr",
     "output_type": "stream",
     "text": [
      "  4%|██▉                                                                       | 1200/30000 [40:29<17:06:48,  2.14s/it]"
     ]
    },
    {
     "name": "stdout",
     "output_type": "stream",
     "text": [
      "-34.38013205264959\n",
      "21\n",
      "[0.0, 0.3, 0.7, 0.1]\n",
      "tf.Tensor([[0.26838824 0.28532    0.21669415 0.22959764]], shape=(1, 4), dtype=float32)\n",
      "[0.0, 0.1, 0.7, 0.1]\n",
      "tf.Tensor([[0.26341355 0.28331324 0.22021551 0.23305765]], shape=(1, 4), dtype=float32)\n",
      "[0.0, 0.0, 0.7, 0.1]\n",
      "tf.Tensor([[0.26031286 0.28153116 0.22257228 0.2355837 ]], shape=(1, 4), dtype=float32)\n",
      "[0.0, 0.0, 0.7, 0.1]\n",
      "tf.Tensor([[0.2583915  0.27951837 0.22459555 0.23749456]], shape=(1, 4), dtype=float32)\n",
      "[0.0, 0.0, 0.7, 0.1]\n",
      "tf.Tensor([[0.25887588 0.27977166 0.22405308 0.23729944]], shape=(1, 4), dtype=float32)\n",
      "[0.0, 0.0, 0.7, 0.1]\n",
      "tf.Tensor([[0.25902438 0.27983478 0.22388591 0.23725498]], shape=(1, 4), dtype=float32)\n",
      "[0.0, 0.0, 0.7, 0.1]\n",
      "tf.Tensor([[0.25902438 0.27983478 0.22388591 0.23725498]], shape=(1, 4), dtype=float32)\n",
      "[0.0, 0.0, 0.7, 0.1]\n",
      "tf.Tensor([[0.25902438 0.27983478 0.22388591 0.23725498]], shape=(1, 4), dtype=float32)\n",
      "[0.0, 0.0, 0.7, 0.1]\n",
      "tf.Tensor([[0.25902438 0.27983478 0.22388591 0.23725498]], shape=(1, 4), dtype=float32)\n",
      "[0.0, 0.0, 0.7, 0.1]\n",
      "tf.Tensor([[0.25902438 0.27983478 0.22388591 0.23725498]], shape=(1, 4), dtype=float32)\n",
      "[0.0, 0.0, 0.7, 0.1]\n",
      "tf.Tensor([[0.25902438 0.27983478 0.22388591 0.23725498]], shape=(1, 4), dtype=float32)\n",
      "[0.0, 0.0, 0.7, 0.1]\n",
      "tf.Tensor([[0.25902438 0.27983478 0.22388591 0.23725498]], shape=(1, 4), dtype=float32)\n",
      "[0.0, 0.0, 0.7, 0.1]\n",
      "tf.Tensor([[0.25902438 0.27983478 0.22388591 0.23725498]], shape=(1, 4), dtype=float32)\n",
      "[0.0, 0.0, 0.7, 0.1]\n",
      "tf.Tensor([[0.25902438 0.27983478 0.22388591 0.23725498]], shape=(1, 4), dtype=float32)\n",
      "[0.0, 0.0, 0.7, 0.1]\n",
      "tf.Tensor([[0.25902438 0.27983478 0.22388591 0.23725498]], shape=(1, 4), dtype=float32)\n",
      "[0.0, 0.0, 0.7, 0.1]\n",
      "tf.Tensor([[0.25902438 0.27983478 0.22388591 0.23725498]], shape=(1, 4), dtype=float32)\n",
      "[0.0, 0.0, 0.7, 0.1]\n"
     ]
    },
    {
     "name": "stderr",
     "output_type": "stream",
     "text": [
      "\r",
      "  4%|██▉                                                                       | 1201/30000 [40:30<14:23:19,  1.80s/it]"
     ]
    },
    {
     "name": "stdout",
     "output_type": "stream",
     "text": [
      "tf.Tensor([[0.25902438 0.27983478 0.22388591 0.23725498]], shape=(1, 4), dtype=float32)\n",
      "[0.0, 0.0, 0.7, 0.1]\n",
      "tf.Tensor([[0.25902438 0.27983478 0.22388591 0.23725498]], shape=(1, 4), dtype=float32)\n",
      "[0.0, 0.0, 0.7, 0.1]\n",
      "tf.Tensor([[0.25902438 0.27983478 0.22388591 0.23725498]], shape=(1, 4), dtype=float32)\n",
      "[0.0, 0.0, 0.7, 0.1]\n",
      "tf.Tensor([[0.25902438 0.27983478 0.22388591 0.23725498]], shape=(1, 4), dtype=float32)\n"
     ]
    },
    {
     "name": "stderr",
     "output_type": "stream",
     "text": [
      "  4%|███▏                                                                      | 1301/30000 [43:47<14:14:03,  1.79s/it]"
     ]
    },
    {
     "name": "stdout",
     "output_type": "stream",
     "text": [
      "-33.15551477715301\n",
      "13\n"
     ]
    },
    {
     "name": "stderr",
     "output_type": "stream",
     "text": [
      "  5%|███▍                                                                      | 1400/30000 [46:41<16:36:44,  2.09s/it]"
     ]
    },
    {
     "name": "stdout",
     "output_type": "stream",
     "text": [
      "-31.161260233802654\n",
      "27\n",
      "[0.0, 0.5, 0.5, 0.7]\n",
      "tf.Tensor([[0.28329134 0.28605592 0.21013366 0.22051905]], shape=(1, 4), dtype=float32)\n",
      "[0.0, 0.3, 0.5, 0.7]\n",
      "tf.Tensor([[0.2766629  0.2838738  0.2147729  0.22469047]], shape=(1, 4), dtype=float32)\n",
      "[0.2, 0.3, 0.5, 0.7]\n",
      "tf.Tensor([[0.2724341  0.27925587 0.2170623  0.23124775]], shape=(1, 4), dtype=float32)\n",
      "[0.2, 0.5, 0.5, 0.7]\n",
      "tf.Tensor([[0.2643376  0.28032798 0.21990924 0.23542519]], shape=(1, 4), dtype=float32)\n",
      "[0.4, 0.5, 0.5, 0.7]\n",
      "tf.Tensor([[0.26420912 0.2783008  0.220227   0.23726304]], shape=(1, 4), dtype=float32)\n",
      "[0.4, 0.7, 0.5, 0.7]\n",
      "tf.Tensor([[0.26430514 0.27837548 0.22089684 0.23642251]], shape=(1, 4), dtype=float32)\n",
      "[0.4, 0.5, 0.5, 0.7]\n",
      "tf.Tensor([[0.2646611  0.27757472 0.22090828 0.23685586]], shape=(1, 4), dtype=float32)\n",
      "[0.4, 0.7, 0.5, 0.7]\n",
      "tf.Tensor([[0.26536024 0.27772176 0.22084214 0.23607583]], shape=(1, 4), dtype=float32)\n",
      "[0.4, 0.5, 0.5, 0.7]\n",
      "tf.Tensor([[0.26642594 0.27683762 0.22016665 0.23656979]], shape=(1, 4), dtype=float32)\n",
      "[0.4, 0.7, 0.5, 0.7]\n"
     ]
    },
    {
     "name": "stderr",
     "output_type": "stream",
     "text": [
      "\r",
      "  5%|███▍                                                                      | 1401/30000 [46:44<17:34:54,  2.21s/it]"
     ]
    },
    {
     "name": "stdout",
     "output_type": "stream",
     "text": [
      "tf.Tensor([[0.26536024 0.27772176 0.22084214 0.23607583]], shape=(1, 4), dtype=float32)\n",
      "[0.4, 0.5, 0.5, 0.7]\n",
      "tf.Tensor([[0.26642594 0.27683762 0.22016665 0.23656979]], shape=(1, 4), dtype=float32)\n",
      "[0.4, 0.7, 0.5, 0.7]\n",
      "tf.Tensor([[0.26536024 0.27772176 0.22084214 0.23607583]], shape=(1, 4), dtype=float32)\n",
      "[0.4, 0.5, 0.5, 0.7]\n",
      "tf.Tensor([[0.26642594 0.27683762 0.22016665 0.23656979]], shape=(1, 4), dtype=float32)\n",
      "[0.4, 0.7, 0.5, 0.7]\n",
      "tf.Tensor([[0.26536024 0.27772176 0.22084214 0.23607583]], shape=(1, 4), dtype=float32)\n",
      "[0.4, 0.5, 0.5, 0.7]\n",
      "tf.Tensor([[0.26642594 0.27683762 0.22016665 0.23656979]], shape=(1, 4), dtype=float32)\n",
      "[0.4, 0.7, 0.5, 0.7]\n",
      "tf.Tensor([[0.26536024 0.27772176 0.22084214 0.23607583]], shape=(1, 4), dtype=float32)\n",
      "[0.4, 0.5, 0.5, 0.7]\n",
      "tf.Tensor([[0.26642594 0.27683762 0.22016665 0.23656979]], shape=(1, 4), dtype=float32)\n",
      "[0.4, 0.7, 0.5, 0.7]\n",
      "tf.Tensor([[0.26536024 0.27772176 0.22084214 0.23607583]], shape=(1, 4), dtype=float32)\n",
      "[0.4, 0.5, 0.5, 0.7]\n",
      "tf.Tensor([[0.26642594 0.27683762 0.22016665 0.23656979]], shape=(1, 4), dtype=float32)\n",
      "[0.4, 0.7, 0.5, 0.7]\n",
      "tf.Tensor([[0.26536024 0.27772176 0.22084214 0.23607583]], shape=(1, 4), dtype=float32)\n"
     ]
    },
    {
     "name": "stderr",
     "output_type": "stream",
     "text": [
      "  5%|███▋                                                                      | 1501/30000 [49:48<15:25:46,  1.95s/it]"
     ]
    },
    {
     "name": "stdout",
     "output_type": "stream",
     "text": [
      "-29.97092514062068\n",
      "22\n"
     ]
    },
    {
     "name": "stderr",
     "output_type": "stream",
     "text": [
      "  5%|███▉                                                                      | 1601/30000 [52:58<15:43:06,  1.99s/it]"
     ]
    },
    {
     "name": "stdout",
     "output_type": "stream",
     "text": [
      "-32.999862796217464\n",
      "26\n",
      "[0.7, 0.1, 0.6, 0.2]\n",
      "tf.Tensor([[0.29416236 0.2941557  0.20391661 0.2077653 ]], shape=(1, 4), dtype=float32)\n",
      "[0.6, 0.1, 0.6, 0.2]\n",
      "tf.Tensor([[0.2905593  0.29030585 0.20619908 0.21293575]], shape=(1, 4), dtype=float32)\n"
     ]
    },
    {
     "name": "stderr",
     "output_type": "stream",
     "text": [
      "  6%|████▏                                                                     | 1701/30000 [56:05<13:26:03,  1.71s/it]"
     ]
    },
    {
     "name": "stdout",
     "output_type": "stream",
     "text": [
      "-26.845455070865345\n",
      "22\n"
     ]
    },
    {
     "name": "stderr",
     "output_type": "stream",
     "text": [
      "  6%|████▍                                                                     | 1801/30000 [59:15<13:15:36,  1.69s/it]"
     ]
    },
    {
     "name": "stdout",
     "output_type": "stream",
     "text": [
      "-31.95912106431929\n",
      "21\n",
      "[0.9, 0.0, 0.2, 0.9]\n",
      "tf.Tensor([[0.2972862  0.29363984 0.20417054 0.2049034 ]], shape=(1, 4), dtype=float32)\n",
      "[0.8, 0.0, 0.2, 0.9]\n",
      "tf.Tensor([[0.29022297 0.2906503  0.21269147 0.20643528]], shape=(1, 4), dtype=float32)\n",
      "[0.6, 0.0, 0.2, 0.9]\n",
      "tf.Tensor([[0.28760776 0.28620598 0.21510832 0.211078  ]], shape=(1, 4), dtype=float32)\n",
      "[0.6, 0.1, 0.2, 0.9]\n",
      "tf.Tensor([[0.28127143 0.2833606  0.22391318 0.21145481]], shape=(1, 4), dtype=float32)\n",
      "[0.4, 0.1, 0.2, 0.9]\n",
      "tf.Tensor([[0.28155386 0.28341597 0.2185481  0.216482  ]], shape=(1, 4), dtype=float32)\n",
      "[0.4, 0.3, 0.2, 0.9]\n",
      "tf.Tensor([[0.28079516 0.28119597 0.21617715 0.22183171]], shape=(1, 4), dtype=float32)\n",
      "[0.4, 0.5, 0.2, 0.9]\n",
      "tf.Tensor([[0.27894112 0.28263825 0.22135594 0.21706471]], shape=(1, 4), dtype=float32)\n",
      "[0.2, 0.5, 0.2, 0.9]\n",
      "tf.Tensor([[0.27833176 0.2801687  0.21804085 0.22345869]], shape=(1, 4), dtype=float32)\n",
      "[0.2, 0.7, 0.2, 0.9]\n",
      "tf.Tensor([[0.27769285 0.27804273 0.21778847 0.22647598]], shape=(1, 4), dtype=float32)\n"
     ]
    },
    {
     "name": "stderr",
     "output_type": "stream",
     "text": [
      "  6%|████▌                                                                   | 1901/30000 [1:02:14<10:59:43,  1.41s/it]"
     ]
    },
    {
     "name": "stdout",
     "output_type": "stream",
     "text": [
      "-23.889965377874265\n",
      "33\n"
     ]
    },
    {
     "name": "stderr",
     "output_type": "stream",
     "text": [
      "  7%|████▊                                                                   | 2001/30000 [1:05:16<15:28:02,  1.99s/it]"
     ]
    },
    {
     "name": "stdout",
     "output_type": "stream",
     "text": [
      "-31.37836027629249\n",
      "29\n",
      "[0.7, 0.8, 0.6, 0.2]\n",
      "tf.Tensor([[0.31361222 0.29458496 0.19203807 0.19976476]], shape=(1, 4), dtype=float32)\n",
      "[0.7, 0.7, 0.6, 0.2]\n",
      "tf.Tensor([[0.30521682 0.29242837 0.19709216 0.20526263]], shape=(1, 4), dtype=float32)\n",
      "[0.7, 0.6, 0.6, 0.2]\n",
      "tf.Tensor([[0.2979027  0.2909295  0.2013772  0.20979059]], shape=(1, 4), dtype=float32)\n",
      "[0.7, 0.5, 0.6, 0.2]\n",
      "tf.Tensor([[0.2924008  0.2890034  0.20516777 0.21342804]], shape=(1, 4), dtype=float32)\n",
      "[0.7, 0.4, 0.6, 0.2]\n",
      "tf.Tensor([[0.29362452 0.28968894 0.20425165 0.21243489]], shape=(1, 4), dtype=float32)\n",
      "[0.7, 0.3, 0.6, 0.2]\n",
      "tf.Tensor([[0.29206598 0.28869054 0.2101818  0.20906171]], shape=(1, 4), dtype=float32)\n",
      "[0.6, 0.3, 0.6, 0.2]\n",
      "tf.Tensor([[0.29320893 0.28987673 0.20757695 0.20933737]], shape=(1, 4), dtype=float32)\n"
     ]
    },
    {
     "name": "stderr",
     "output_type": "stream",
     "text": [
      "  7%|█████                                                                   | 2101/30000 [1:08:10<10:19:35,  1.33s/it]"
     ]
    },
    {
     "name": "stdout",
     "output_type": "stream",
     "text": [
      "-23.28068672284051\n",
      "32\n"
     ]
    },
    {
     "name": "stderr",
     "output_type": "stream",
     "text": [
      "  7%|█████▎                                                                  | 2200/30000 [1:11:13<15:34:47,  2.02s/it]"
     ]
    },
    {
     "name": "stdout",
     "output_type": "stream",
     "text": [
      "-32.61648131264992\n",
      "23\n",
      "[0.6, 0.3, 0.7, 0.4]\n",
      "tf.Tensor([[0.31343082 0.291881   0.18770748 0.2069807 ]], shape=(1, 4), dtype=float32)\n",
      "[0.7, 0.3, 0.7, 0.4]\n",
      "tf.Tensor([[0.30468917 0.29033145 0.1967587  0.20822066]], shape=(1, 4), dtype=float32)\n",
      "[0.6, 0.3, 0.7, 0.4]\n",
      "tf.Tensor([[0.29941136 0.28685394 0.20025645 0.21347825]], shape=(1, 4), dtype=float32)\n",
      "[0.7, 0.3, 0.7, 0.4]\n",
      "tf.Tensor([[0.2928994  0.28346455 0.2102336  0.21340248]], shape=(1, 4), dtype=float32)\n",
      "[0.6, 0.3, 0.7, 0.4]\n",
      "tf.Tensor([[0.29401192 0.2837979  0.2069919  0.21519826]], shape=(1, 4), dtype=float32)\n",
      "[0.7, 0.3, 0.7, 0.4]\n",
      "tf.Tensor([[0.2928994  0.28346455 0.2102336  0.21340248]], shape=(1, 4), dtype=float32)\n",
      "[0.6, 0.3, 0.7, 0.4]\n",
      "tf.Tensor([[0.29401192 0.2837979  0.2069919  0.21519826]], shape=(1, 4), dtype=float32)\n",
      "[0.7, 0.3, 0.7, 0.4]\n",
      "tf.Tensor([[0.2928994  0.28346455 0.2102336  0.21340248]], shape=(1, 4), dtype=float32)\n",
      "[0.6, 0.3, 0.7, 0.4]\n",
      "tf.Tensor([[0.29401192 0.2837979  0.2069919  0.21519826]], shape=(1, 4), dtype=float32)\n",
      "[0.7, 0.3, 0.7, 0.4]\n",
      "tf.Tensor([[0.2928994  0.28346455 0.2102336  0.21340248]], shape=(1, 4), dtype=float32)\n",
      "[0.6, 0.3, 0.7, 0.4]\n",
      "tf.Tensor([[0.29401192 0.2837979  0.2069919  0.21519826]], shape=(1, 4), dtype=float32)\n",
      "[0.7, 0.3, 0.7, 0.4]\n",
      "tf.Tensor([[0.2928994  0.28346455 0.2102336  0.21340248]], shape=(1, 4), dtype=float32)\n",
      "[0.6, 0.3, 0.7, 0.4]\n",
      "tf.Tensor([[0.29401192 0.2837979  0.2069919  0.21519826]], shape=(1, 4), dtype=float32)\n",
      "[0.7, 0.3, 0.7, 0.4]\n",
      "tf.Tensor([[0.2928994  0.28346455 0.2102336  0.21340248]], shape=(1, 4), dtype=float32)\n",
      "[0.6, 0.3, 0.7, 0.4]\n",
      "tf.Tensor([[0.29401192 0.2837979  0.2069919  0.21519826]], shape=(1, 4), dtype=float32)\n",
      "[0.7, 0.3, 0.7, 0.4]\n",
      "tf.Tensor([[0.2928994  0.28346455 0.2102336  0.21340248]], shape=(1, 4), dtype=float32)\n"
     ]
    },
    {
     "name": "stderr",
     "output_type": "stream",
     "text": [
      "\r",
      "  7%|█████▎                                                                  | 2201/30000 [1:11:15<16:07:22,  2.09s/it]"
     ]
    },
    {
     "name": "stdout",
     "output_type": "stream",
     "text": [
      "[0.6, 0.3, 0.7, 0.4]\n",
      "tf.Tensor([[0.29401192 0.2837979  0.2069919  0.21519826]], shape=(1, 4), dtype=float32)\n",
      "[0.7, 0.3, 0.7, 0.4]\n",
      "tf.Tensor([[0.2928994  0.28346455 0.2102336  0.21340248]], shape=(1, 4), dtype=float32)\n",
      "[0.6, 0.3, 0.7, 0.4]\n",
      "tf.Tensor([[0.29401192 0.2837979  0.2069919  0.21519826]], shape=(1, 4), dtype=float32)\n",
      "[0.7, 0.3, 0.7, 0.4]\n",
      "tf.Tensor([[0.2928994  0.28346455 0.2102336  0.21340248]], shape=(1, 4), dtype=float32)\n"
     ]
    },
    {
     "name": "stderr",
     "output_type": "stream",
     "text": [
      "  8%|█████▌                                                                  | 2301/30000 [1:14:09<12:57:00,  1.68s/it]"
     ]
    },
    {
     "name": "stdout",
     "output_type": "stream",
     "text": [
      "-28.337328521541338\n",
      "31\n"
     ]
    },
    {
     "name": "stderr",
     "output_type": "stream",
     "text": [
      "  8%|█████▊                                                                  | 2400/30000 [1:17:02<15:44:37,  2.05s/it]"
     ]
    },
    {
     "name": "stdout",
     "output_type": "stream",
     "text": [
      "-29.08762227830632\n",
      "29\n",
      "[0.1, 0.5, 0.7, 0.1]\n",
      "tf.Tensor([[0.3157826  0.29443893 0.18725853 0.20251992]], shape=(1, 4), dtype=float32)\n",
      "[0.1, 0.4, 0.7, 0.1]\n",
      "tf.Tensor([[0.3091653  0.2917664  0.19150366 0.20756468]], shape=(1, 4), dtype=float32)\n",
      "[0.1, 0.3, 0.7, 0.1]\n",
      "tf.Tensor([[0.30269775 0.2904771  0.1953665  0.21145862]], shape=(1, 4), dtype=float32)\n",
      "[0.1, 0.2, 0.7, 0.1]\n",
      "tf.Tensor([[0.29826853 0.28905347 0.19832946 0.21434852]], shape=(1, 4), dtype=float32)\n",
      "[0.1, 0.1, 0.7, 0.1]\n",
      "tf.Tensor([[0.30016539 0.28989774 0.19686788 0.21306895]], shape=(1, 4), dtype=float32)\n",
      "[0.1, 0.0, 0.7, 0.1]\n",
      "tf.Tensor([[0.3028142  0.29003698 0.19449008 0.21265876]], shape=(1, 4), dtype=float32)\n",
      "[0.2, 0.0, 0.7, 0.1]\n",
      "tf.Tensor([[0.30420393 0.2901167  0.19331363 0.21236579]], shape=(1, 4), dtype=float32)\n",
      "[0.3, 0.0, 0.7, 0.1]\n",
      "tf.Tensor([[0.30322483 0.29062545 0.1927947  0.21335499]], shape=(1, 4), dtype=float32)\n",
      "[0.4, 0.0, 0.7, 0.1]\n",
      "tf.Tensor([[0.30190116 0.2912513  0.19263227 0.21421528]], shape=(1, 4), dtype=float32)\n",
      "[0.5, 0.0, 0.7, 0.1]\n",
      "tf.Tensor([[0.30185905 0.2917518  0.19225965 0.2141295 ]], shape=(1, 4), dtype=float32)\n",
      "[0.6, 0.0, 0.7, 0.1]\n",
      "tf.Tensor([[0.30190223 0.2922648  0.19183202 0.21400096]], shape=(1, 4), dtype=float32)\n",
      "[0.7, 0.0, 0.7, 0.1]\n",
      "tf.Tensor([[0.29994008 0.29139033 0.19917062 0.20949897]], shape=(1, 4), dtype=float32)\n",
      "[0.6, 0.0, 0.7, 0.1]\n",
      "tf.Tensor([[0.30152097 0.2914189  0.19636388 0.21069624]], shape=(1, 4), dtype=float32)\n",
      "[0.7, 0.0, 0.7, 0.1]\n",
      "tf.Tensor([[0.30013257 0.29048315 0.2025156  0.20686868]], shape=(1, 4), dtype=float32)\n",
      "[0.6, 0.0, 0.7, 0.1]\n",
      "tf.Tensor([[0.3021876  0.29050806 0.1987816  0.20852277]], shape=(1, 4), dtype=float32)\n",
      "[0.7, 0.0, 0.7, 0.1]\n",
      "tf.Tensor([[0.30013257 0.29048315 0.2025156  0.20686868]], shape=(1, 4), dtype=float32)\n",
      "[0.6, 0.0, 0.7, 0.1]\n",
      "tf.Tensor([[0.3021876  0.29050806 0.1987816  0.20852277]], shape=(1, 4), dtype=float32)\n"
     ]
    },
    {
     "name": "stderr",
     "output_type": "stream",
     "text": [
      "\r",
      "  8%|█████▊                                                                  | 2401/30000 [1:17:02<11:47:13,  1.54s/it]"
     ]
    },
    {
     "name": "stdout",
     "output_type": "stream",
     "text": [
      "[0.7, 0.0, 0.7, 0.1]\n",
      "tf.Tensor([[0.30013257 0.29048315 0.2025156  0.20686868]], shape=(1, 4), dtype=float32)\n",
      "[0.6, 0.0, 0.7, 0.1]\n",
      "tf.Tensor([[0.3021876  0.29050806 0.1987816  0.20852277]], shape=(1, 4), dtype=float32)\n",
      "[0.7, 0.0, 0.7, 0.1]\n",
      "tf.Tensor([[0.30013257 0.29048315 0.2025156  0.20686868]], shape=(1, 4), dtype=float32)\n"
     ]
    },
    {
     "name": "stderr",
     "output_type": "stream",
     "text": [
      "  8%|██████                                                                  | 2501/30000 [1:20:01<14:19:06,  1.87s/it]"
     ]
    },
    {
     "name": "stdout",
     "output_type": "stream",
     "text": [
      "-31.01241085117764\n",
      "27\n"
     ]
    },
    {
     "name": "stderr",
     "output_type": "stream",
     "text": [
      "  9%|██████▏                                                                 | 2600/30000 [1:22:58<10:55:28,  1.44s/it]"
     ]
    },
    {
     "name": "stdout",
     "output_type": "stream",
     "text": [
      "-28.884190578355845\n",
      "32\n",
      "[0.7, 0.1, 0.7, 0.4]\n",
      "tf.Tensor([[0.3260606  0.29143938 0.18131113 0.20118889]], shape=(1, 4), dtype=float32)\n",
      "[0.7, 0.2, 0.7, 0.4]\n",
      "tf.Tensor([[0.31941605 0.29187095 0.18742041 0.20129262]], shape=(1, 4), dtype=float32)\n",
      "[0.6, 0.2, 0.7, 0.4]\n",
      "tf.Tensor([[0.3166567  0.28520525 0.19132914 0.2068089 ]], shape=(1, 4), dtype=float32)\n",
      "[0.6, 0.3, 0.7, 0.4]\n",
      "tf.Tensor([[0.31280786 0.2832226  0.19301371 0.21095583]], shape=(1, 4), dtype=float32)\n",
      "[0.7, 0.3, 0.7, 0.4]\n",
      "tf.Tensor([[0.3129701  0.28355765 0.19751653 0.20595574]], shape=(1, 4), dtype=float32)\n",
      "[0.6, 0.3, 0.7, 0.4]\n",
      "tf.Tensor([[0.3134352  0.28441936 0.19301564 0.20912983]], shape=(1, 4), dtype=float32)\n",
      "[0.7, 0.3, 0.7, 0.4]\n",
      "tf.Tensor([[0.31451207 0.28410178 0.19765683 0.20372936]], shape=(1, 4), dtype=float32)\n",
      "[0.6, 0.3, 0.7, 0.4]\n",
      "tf.Tensor([[0.31566632 0.28412026 0.19448926 0.2057242 ]], shape=(1, 4), dtype=float32)\n",
      "[0.7, 0.3, 0.7, 0.4]\n",
      "tf.Tensor([[0.31451207 0.28410178 0.19765683 0.20372936]], shape=(1, 4), dtype=float32)\n",
      "[0.6, 0.3, 0.7, 0.4]\n",
      "tf.Tensor([[0.31566632 0.28412026 0.19448926 0.2057242 ]], shape=(1, 4), dtype=float32)\n",
      "[0.7, 0.3, 0.7, 0.4]\n",
      "tf.Tensor([[0.31451207 0.28410178 0.19765683 0.20372936]], shape=(1, 4), dtype=float32)\n",
      "[0.6, 0.3, 0.7, 0.4]\n",
      "tf.Tensor([[0.31566632 0.28412026 0.19448926 0.2057242 ]], shape=(1, 4), dtype=float32)\n",
      "[0.7, 0.3, 0.7, 0.4]\n",
      "tf.Tensor([[0.31451207 0.28410178 0.19765683 0.20372936]], shape=(1, 4), dtype=float32)\n",
      "[0.6, 0.3, 0.7, 0.4]\n",
      "tf.Tensor([[0.31566632 0.28412026 0.19448926 0.2057242 ]], shape=(1, 4), dtype=float32)\n",
      "[0.7, 0.3, 0.7, 0.4]\n",
      "tf.Tensor([[0.31451207 0.28410178 0.19765683 0.20372936]], shape=(1, 4), dtype=float32)\n",
      "[0.6, 0.3, 0.7, 0.4]\n",
      "tf.Tensor([[0.31566632 0.28412026 0.19448926 0.2057242 ]], shape=(1, 4), dtype=float32)\n",
      "[0.7, 0.3, 0.7, 0.4]\n",
      "tf.Tensor([[0.31451207 0.28410178 0.19765683 0.20372936]], shape=(1, 4), dtype=float32)\n",
      "[0.6, 0.3, 0.7, 0.4]\n",
      "tf.Tensor([[0.31566632 0.28412026 0.19448926 0.2057242 ]], shape=(1, 4), dtype=float32)\n",
      "[0.7, 0.3, 0.7, 0.4]\n"
     ]
    },
    {
     "name": "stderr",
     "output_type": "stream",
     "text": [
      "  9%|██████▎                                                                  | 2602/30000 [1:23:00<9:17:17,  1.22s/it]"
     ]
    },
    {
     "name": "stdout",
     "output_type": "stream",
     "text": [
      "tf.Tensor([[0.31451207 0.28410178 0.19765683 0.20372936]], shape=(1, 4), dtype=float32)\n",
      "[0.6, 0.3, 0.7, 0.4]\n",
      "tf.Tensor([[0.31566632 0.28412026 0.19448926 0.2057242 ]], shape=(1, 4), dtype=float32)\n"
     ]
    },
    {
     "name": "stderr",
     "output_type": "stream",
     "text": [
      "  9%|██████▍                                                                 | 2701/30000 [1:25:56<12:32:32,  1.65s/it]"
     ]
    },
    {
     "name": "stdout",
     "output_type": "stream",
     "text": [
      "-28.318429886130712\n",
      "27\n"
     ]
    },
    {
     "name": "stderr",
     "output_type": "stream",
     "text": [
      "  9%|██████▋                                                                 | 2800/30000 [1:28:46<14:34:19,  1.93s/it]"
     ]
    },
    {
     "name": "stdout",
     "output_type": "stream",
     "text": [
      "-27.117804914208588\n",
      "33\n",
      "[0.6, 0.5, 0.7, 0.1]\n",
      "tf.Tensor([[0.3306122  0.30055964 0.17657962 0.19224857]], shape=(1, 4), dtype=float32)\n",
      "[0.6, 0.4, 0.7, 0.1]\n",
      "tf.Tensor([[0.32704654 0.29835746 0.17887498 0.19572103]], shape=(1, 4), dtype=float32)\n",
      "[0.6, 0.3, 0.7, 0.1]\n",
      "tf.Tensor([[0.32416487 0.29676902 0.18068141 0.19838469]], shape=(1, 4), dtype=float32)\n",
      "[0.6, 0.2, 0.7, 0.1]\n",
      "tf.Tensor([[0.32213438 0.29578418 0.18202883 0.20005263]], shape=(1, 4), dtype=float32)\n",
      "[0.6, 0.1, 0.7, 0.1]\n",
      "tf.Tensor([[0.3229857  0.29651746 0.18139875 0.1990981 ]], shape=(1, 4), dtype=float32)\n",
      "[0.6, 0.0, 0.7, 0.1]\n",
      "tf.Tensor([[0.32318917 0.29597297 0.18011783 0.20072001]], shape=(1, 4), dtype=float32)\n",
      "[0.7, 0.0, 0.7, 0.1]\n",
      "tf.Tensor([[0.32251847 0.29366106 0.18669337 0.19712709]], shape=(1, 4), dtype=float32)\n",
      "[0.6, 0.0, 0.7, 0.1]\n",
      "tf.Tensor([[0.32288495 0.29311654 0.18459173 0.19940676]], shape=(1, 4), dtype=float32)\n",
      "[0.7, 0.0, 0.7, 0.1]\n"
     ]
    },
    {
     "name": "stderr",
     "output_type": "stream",
     "text": [
      "\r",
      "  9%|██████▋                                                                 | 2801/30000 [1:28:49<15:46:51,  2.09s/it]"
     ]
    },
    {
     "name": "stdout",
     "output_type": "stream",
     "text": [
      "tf.Tensor([[0.322913   0.29128408 0.19007313 0.19572973]], shape=(1, 4), dtype=float32)\n",
      "[0.6, 0.0, 0.7, 0.1]\n",
      "tf.Tensor([[0.3231289  0.29160365 0.18739323 0.19787426]], shape=(1, 4), dtype=float32)\n",
      "[0.7, 0.0, 0.7, 0.1]\n",
      "tf.Tensor([[0.322913   0.29128408 0.19007313 0.19572973]], shape=(1, 4), dtype=float32)\n",
      "[0.6, 0.0, 0.7, 0.1]\n",
      "tf.Tensor([[0.3231289  0.29160365 0.18739323 0.19787426]], shape=(1, 4), dtype=float32)\n",
      "[0.7, 0.0, 0.7, 0.1]\n",
      "tf.Tensor([[0.322913   0.29128408 0.19007313 0.19572973]], shape=(1, 4), dtype=float32)\n",
      "[0.6, 0.0, 0.7, 0.1]\n",
      "tf.Tensor([[0.3231289  0.29160365 0.18739323 0.19787426]], shape=(1, 4), dtype=float32)\n",
      "[0.7, 0.0, 0.7, 0.1]\n",
      "tf.Tensor([[0.322913   0.29128408 0.19007313 0.19572973]], shape=(1, 4), dtype=float32)\n",
      "[0.6, 0.0, 0.7, 0.1]\n",
      "tf.Tensor([[0.3231289  0.29160365 0.18739323 0.19787426]], shape=(1, 4), dtype=float32)\n",
      "[0.7, 0.0, 0.7, 0.1]\n",
      "tf.Tensor([[0.322913   0.29128408 0.19007313 0.19572973]], shape=(1, 4), dtype=float32)\n",
      "[0.6, 0.0, 0.7, 0.1]\n",
      "tf.Tensor([[0.3231289  0.29160365 0.18739323 0.19787426]], shape=(1, 4), dtype=float32)\n",
      "[0.7, 0.0, 0.7, 0.1]\n",
      "tf.Tensor([[0.322913   0.29128408 0.19007313 0.19572973]], shape=(1, 4), dtype=float32)\n",
      "[0.6, 0.0, 0.7, 0.1]\n",
      "tf.Tensor([[0.3231289  0.29160365 0.18739323 0.19787426]], shape=(1, 4), dtype=float32)\n"
     ]
    },
    {
     "name": "stderr",
     "output_type": "stream",
     "text": [
      " 10%|██████▉                                                                 | 2901/30000 [1:31:40<12:48:01,  1.70s/it]"
     ]
    },
    {
     "name": "stdout",
     "output_type": "stream",
     "text": [
      "-24.2500989073325\n",
      "36\n"
     ]
    },
    {
     "name": "stderr",
     "output_type": "stream",
     "text": [
      " 10%|███████▏                                                                | 3001/30000 [1:34:29<14:32:05,  1.94s/it]"
     ]
    },
    {
     "name": "stdout",
     "output_type": "stream",
     "text": [
      "-27.441127996435238\n",
      "37\n",
      "[0.6, 0.6, 0.6, 0.2]\n",
      "tf.Tensor([[0.33384025 0.30176    0.17715162 0.18724816]], shape=(1, 4), dtype=float32)\n",
      "[0.6, 0.5, 0.6, 0.2]\n",
      "tf.Tensor([[0.33070195 0.29988727 0.17968431 0.18972644]], shape=(1, 4), dtype=float32)\n",
      "[0.6, 0.4, 0.6, 0.2]\n",
      "tf.Tensor([[0.32859513 0.29875273 0.18144558 0.19120657]], shape=(1, 4), dtype=float32)\n",
      "[0.6, 0.3, 0.6, 0.2]\n",
      "tf.Tensor([[0.32741842 0.29787612 0.1827698  0.1919357 ]], shape=(1, 4), dtype=float32)\n"
     ]
    },
    {
     "name": "stderr",
     "output_type": "stream",
     "text": [
      " 10%|███████▍                                                                | 3101/30000 [1:37:19<13:57:11,  1.87s/it]"
     ]
    },
    {
     "name": "stdout",
     "output_type": "stream",
     "text": [
      "-29.356244202988645\n",
      "34\n"
     ]
    },
    {
     "name": "stderr",
     "output_type": "stream",
     "text": [
      " 11%|███████▋                                                                | 3200/30000 [1:39:56<10:55:03,  1.47s/it]"
     ]
    },
    {
     "name": "stdout",
     "output_type": "stream",
     "text": [
      "-27.622325860287003\n",
      "38\n",
      "[0.2, 0.8, 0.7, 0.4]\n",
      "tf.Tensor([[0.3430461  0.30856243 0.16858186 0.17980959]], shape=(1, 4), dtype=float32)\n",
      "[0.2, 0.7, 0.7, 0.4]\n",
      "tf.Tensor([[0.33731258 0.3048662  0.17290437 0.18491682]], shape=(1, 4), dtype=float32)\n",
      "[0.2, 0.6, 0.7, 0.4]\n",
      "tf.Tensor([[0.33322126 0.3021378  0.17652096 0.18812002]], shape=(1, 4), dtype=float32)\n",
      "[0.3, 0.6, 0.7, 0.4]\n",
      "tf.Tensor([[0.32922423 0.30082312 0.17915216 0.19080055]], shape=(1, 4), dtype=float32)\n",
      "[0.4, 0.6, 0.7, 0.4]\n",
      "tf.Tensor([[0.33100232 0.30071127 0.17915604 0.18913038]], shape=(1, 4), dtype=float32)\n",
      "[0.4, 0.5, 0.7, 0.4]\n",
      "tf.Tensor([[0.33289444 0.30081347 0.17862275 0.18766934]], shape=(1, 4), dtype=float32)\n",
      "[0.5, 0.5, 0.7, 0.4]\n",
      "tf.Tensor([[0.33348557 0.30237982 0.1771557  0.18697886]], shape=(1, 4), dtype=float32)\n",
      "[0.5, 0.4, 0.7, 0.4]\n",
      "tf.Tensor([[0.33507577 0.30316904 0.1754015  0.1863537 ]], shape=(1, 4), dtype=float32)\n",
      "[0.6, 0.4, 0.7, 0.4]\n",
      "tf.Tensor([[0.33635864 0.30400163 0.17510472 0.18453497]], shape=(1, 4), dtype=float32)\n"
     ]
    },
    {
     "name": "stderr",
     "output_type": "stream",
     "text": [
      "\r",
      " 11%|███████▋                                                                | 3201/30000 [1:39:58<12:43:48,  1.71s/it]"
     ]
    },
    {
     "name": "stdout",
     "output_type": "stream",
     "text": [
      "[0.6, 0.3, 0.7, 0.4]\n",
      "tf.Tensor([[0.338073   0.30448994 0.17339022 0.1840468 ]], shape=(1, 4), dtype=float32)\n",
      "[0.7, 0.3, 0.7, 0.4]\n",
      "tf.Tensor([[0.34082526 0.30302286 0.17794652 0.17820531]], shape=(1, 4), dtype=float32)\n",
      "[0.6, 0.3, 0.7, 0.4]\n",
      "tf.Tensor([[0.34098634 0.30367246 0.17602524 0.17931598]], shape=(1, 4), dtype=float32)\n",
      "[0.7, 0.3, 0.7, 0.4]\n",
      "tf.Tensor([[0.3426714  0.30184543 0.18021749 0.17526564]], shape=(1, 4), dtype=float32)\n",
      "[0.6, 0.3, 0.7, 0.4]\n",
      "tf.Tensor([[0.3419773  0.30233413 0.17855874 0.17712983]], shape=(1, 4), dtype=float32)\n",
      "[0.7, 0.3, 0.7, 0.4]\n",
      "tf.Tensor([[0.3426714  0.30184543 0.18021749 0.17526564]], shape=(1, 4), dtype=float32)\n",
      "[0.6, 0.3, 0.7, 0.4]\n",
      "tf.Tensor([[0.3419773  0.30233413 0.17855874 0.17712983]], shape=(1, 4), dtype=float32)\n",
      "[0.7, 0.3, 0.7, 0.4]\n",
      "tf.Tensor([[0.3426714  0.30184543 0.18021749 0.17526564]], shape=(1, 4), dtype=float32)\n",
      "[0.6, 0.3, 0.7, 0.4]\n",
      "tf.Tensor([[0.3419773  0.30233413 0.17855874 0.17712983]], shape=(1, 4), dtype=float32)\n",
      "[0.7, 0.3, 0.7, 0.4]\n",
      "tf.Tensor([[0.3426714  0.30184543 0.18021749 0.17526564]], shape=(1, 4), dtype=float32)\n",
      "[0.6, 0.3, 0.7, 0.4]\n",
      "tf.Tensor([[0.3419773  0.30233413 0.17855874 0.17712983]], shape=(1, 4), dtype=float32)\n"
     ]
    },
    {
     "name": "stderr",
     "output_type": "stream",
     "text": [
      " 11%|███████▉                                                                | 3301/30000 [1:42:34<11:47:24,  1.59s/it]"
     ]
    },
    {
     "name": "stdout",
     "output_type": "stream",
     "text": [
      "-22.098860110770588\n",
      "43\n"
     ]
    },
    {
     "name": "stderr",
     "output_type": "stream",
     "text": [
      " 11%|████████▏                                                               | 3400/30000 [1:45:09<12:29:48,  1.69s/it]"
     ]
    },
    {
     "name": "stdout",
     "output_type": "stream",
     "text": [
      "-22.643256826296646\n",
      "42\n",
      "[0.3, 0.1, 0.7, 0.4]\n",
      "tf.Tensor([[0.34713334 0.30704793 0.16762485 0.17819388]], shape=(1, 4), dtype=float32)\n",
      "[0.4, 0.1, 0.7, 0.4]\n",
      "tf.Tensor([[0.34498084 0.3042778  0.17040971 0.18033166]], shape=(1, 4), dtype=float32)\n",
      "[0.5, 0.1, 0.7, 0.4]\n",
      "tf.Tensor([[0.34127772 0.2991247  0.17618038 0.18341725]], shape=(1, 4), dtype=float32)\n",
      "[0.5, 0.2, 0.7, 0.4]\n",
      "tf.Tensor([[0.33925462 0.29666272 0.17831615 0.18576646]], shape=(1, 4), dtype=float32)\n",
      "[0.6, 0.2, 0.7, 0.4]\n",
      "tf.Tensor([[0.33681092 0.295521   0.1806329  0.1870352 ]], shape=(1, 4), dtype=float32)\n",
      "[0.6, 0.3, 0.7, 0.4]\n",
      "tf.Tensor([[0.33688685 0.2956327  0.18003687 0.1874436 ]], shape=(1, 4), dtype=float32)\n",
      "[0.7, 0.3, 0.7, 0.4]\n",
      "tf.Tensor([[0.34186208 0.2954595  0.18290983 0.17976864]], shape=(1, 4), dtype=float32)\n",
      "[0.6, 0.3, 0.7, 0.4]\n",
      "tf.Tensor([[0.34176865 0.29567373 0.18155546 0.1810022 ]], shape=(1, 4), dtype=float32)\n",
      "[0.7, 0.3, 0.7, 0.4]\n",
      "tf.Tensor([[0.34592617 0.29572555 0.18398446 0.1743638 ]], shape=(1, 4), dtype=float32)\n",
      "[0.6, 0.3, 0.7, 0.4]\n",
      "tf.Tensor([[0.34537205 0.29613858 0.18202503 0.1764643 ]], shape=(1, 4), dtype=float32)\n",
      "[0.7, 0.3, 0.7, 0.4]\n",
      "tf.Tensor([[0.34592617 0.29572555 0.18398446 0.1743638 ]], shape=(1, 4), dtype=float32)\n",
      "[0.6, 0.3, 0.7, 0.4]\n",
      "tf.Tensor([[0.34537205 0.29613858 0.18202503 0.1764643 ]], shape=(1, 4), dtype=float32)\n",
      "[0.7, 0.3, 0.7, 0.4]\n",
      "tf.Tensor([[0.34592617 0.29572555 0.18398446 0.1743638 ]], shape=(1, 4), dtype=float32)\n",
      "[0.6, 0.3, 0.7, 0.4]\n",
      "tf.Tensor([[0.34537205 0.29613858 0.18202503 0.1764643 ]], shape=(1, 4), dtype=float32)\n",
      "[0.7, 0.3, 0.7, 0.4]\n",
      "tf.Tensor([[0.34592617 0.29572555 0.18398446 0.1743638 ]], shape=(1, 4), dtype=float32)\n",
      "[0.6, 0.3, 0.7, 0.4]\n",
      "tf.Tensor([[0.34537205 0.29613858 0.18202503 0.1764643 ]], shape=(1, 4), dtype=float32)\n",
      "[0.7, 0.3, 0.7, 0.4]\n",
      "tf.Tensor([[0.34592617 0.29572555 0.18398446 0.1743638 ]], shape=(1, 4), dtype=float32)\n"
     ]
    },
    {
     "name": "stderr",
     "output_type": "stream",
     "text": [
      "\r",
      " 11%|████████▏                                                               | 3401/30000 [1:45:11<13:49:19,  1.87s/it]"
     ]
    },
    {
     "name": "stdout",
     "output_type": "stream",
     "text": [
      "[0.6, 0.3, 0.7, 0.4]\n",
      "tf.Tensor([[0.34537205 0.29613858 0.18202503 0.1764643 ]], shape=(1, 4), dtype=float32)\n",
      "[0.7, 0.3, 0.7, 0.4]\n",
      "tf.Tensor([[0.34592617 0.29572555 0.18398446 0.1743638 ]], shape=(1, 4), dtype=float32)\n",
      "[0.6, 0.3, 0.7, 0.4]\n",
      "tf.Tensor([[0.34537205 0.29613858 0.18202503 0.1764643 ]], shape=(1, 4), dtype=float32)\n"
     ]
    },
    {
     "name": "stderr",
     "output_type": "stream",
     "text": [
      " 12%|████████▌                                                                | 3501/30000 [1:47:46<7:22:29,  1.00s/it]"
     ]
    },
    {
     "name": "stdout",
     "output_type": "stream",
     "text": [
      "-21.374998553641763\n",
      "43\n"
     ]
    },
    {
     "name": "stderr",
     "output_type": "stream",
     "text": [
      " 12%|████████▋                                                               | 3601/30000 [1:50:09<13:41:04,  1.87s/it]"
     ]
    },
    {
     "name": "stdout",
     "output_type": "stream",
     "text": [
      "-23.56881612049626\n",
      "49\n",
      "[0.6, 0.5, 0.7, 0.4]\n",
      "tf.Tensor([[0.36862049 0.3085184  0.15764877 0.16521229]], shape=(1, 4), dtype=float32)\n",
      "[0.6, 0.4, 0.7, 0.4]\n",
      "tf.Tensor([[0.36809453 0.30224186 0.16290286 0.16676073]], shape=(1, 4), dtype=float32)\n"
     ]
    },
    {
     "name": "stderr",
     "output_type": "stream",
     "text": [
      " 12%|█████████                                                                | 3701/30000 [1:52:45<8:56:01,  1.22s/it]"
     ]
    },
    {
     "name": "stdout",
     "output_type": "stream",
     "text": [
      "-20.622851240250068\n",
      "48\n"
     ]
    },
    {
     "name": "stderr",
     "output_type": "stream",
     "text": [
      " 13%|█████████                                                               | 3801/30000 [1:55:17<11:15:16,  1.55s/it]"
     ]
    },
    {
     "name": "stdout",
     "output_type": "stream",
     "text": [
      "-18.148632384389387\n",
      "50\n",
      "[0.4, 0.5, 0.1, 0.1]\n",
      "tf.Tensor([[0.39084932 0.313748   0.1544668  0.1409359 ]], shape=(1, 4), dtype=float32)\n",
      "[0.3, 0.5, 0.1, 0.1]\n",
      "tf.Tensor([[0.38502622 0.31046322 0.15826298 0.14624749]], shape=(1, 4), dtype=float32)\n",
      "[0.3, 0.4, 0.1, 0.1]\n",
      "tf.Tensor([[0.37998226 0.30827388 0.1612922  0.15045165]], shape=(1, 4), dtype=float32)\n",
      "[0.3, 0.3, 0.1, 0.1]\n",
      "tf.Tensor([[0.38114104 0.3043016  0.1671841  0.1473732 ]], shape=(1, 4), dtype=float32)\n",
      "[0.2, 0.3, 0.1, 0.1]\n",
      "tf.Tensor([[0.37785244 0.3060756  0.16455056 0.15152144]], shape=(1, 4), dtype=float32)\n",
      "[0.2, 0.2, 0.1, 0.1]\n",
      "tf.Tensor([[0.38279408 0.3045741  0.16688852 0.14574334]], shape=(1, 4), dtype=float32)\n",
      "[0.1, 0.2, 0.1, 0.1]\n",
      "tf.Tensor([[0.38169253 0.3048415  0.16559498 0.14787099]], shape=(1, 4), dtype=float32)\n"
     ]
    },
    {
     "name": "stderr",
     "output_type": "stream",
     "text": [
      " 13%|█████████▍                                                               | 3901/30000 [1:57:55<9:54:48,  1.37s/it]"
     ]
    },
    {
     "name": "stdout",
     "output_type": "stream",
     "text": [
      "-20.940237744780653\n",
      "52\n"
     ]
    },
    {
     "name": "stderr",
     "output_type": "stream",
     "text": [
      " 13%|█████████▋                                                               | 4000/30000 [2:00:25<9:38:55,  1.34s/it]"
     ]
    },
    {
     "name": "stdout",
     "output_type": "stream",
     "text": [
      "-20.41553613204392\n",
      "55\n",
      "[0.9, 0.4, 0.1, 0.1]\n",
      "tf.Tensor([[0.40095174 0.3211491  0.14562245 0.13227668]], shape=(1, 4), dtype=float32)\n",
      "[0.8, 0.4, 0.1, 0.1]\n",
      "tf.Tensor([[0.40159577 0.3144761  0.15301658 0.13091153]], shape=(1, 4), dtype=float32)\n",
      "[0.7, 0.4, 0.1, 0.1]\n",
      "tf.Tensor([[0.40073723 0.3084274  0.16002865 0.13080671]], shape=(1, 4), dtype=float32)\n",
      "[0.6, 0.4, 0.1, 0.1]\n",
      "tf.Tensor([[0.39963567 0.3033339  0.16603835 0.13099204]], shape=(1, 4), dtype=float32)\n",
      "[0.5, 0.4, 0.1, 0.1]\n",
      "tf.Tensor([[0.398791   0.30378914 0.16589323 0.13152665]], shape=(1, 4), dtype=float32)\n",
      "[0.4, 0.4, 0.1, 0.1]\n",
      "tf.Tensor([[0.3980858  0.30432022 0.16565238 0.13194159]], shape=(1, 4), dtype=float32)\n",
      "[0.3, 0.4, 0.1, 0.1]\n",
      "tf.Tensor([[0.3948152  0.3077565  0.16070572 0.13672261]], shape=(1, 4), dtype=float32)\n",
      "[0.3, 0.3, 0.1, 0.1]\n",
      "tf.Tensor([[0.39383712 0.30809355 0.16174984 0.13631946]], shape=(1, 4), dtype=float32)\n",
      "[0.2, 0.3, 0.1, 0.1]\n",
      "tf.Tensor([[0.3906683  0.31061658 0.15811408 0.14060104]], shape=(1, 4), dtype=float32)\n"
     ]
    },
    {
     "name": "stderr",
     "output_type": "stream",
     "text": [
      "\r",
      " 13%|█████████▌                                                              | 4001/30000 [2:00:27<11:28:25,  1.59s/it]"
     ]
    },
    {
     "name": "stdout",
     "output_type": "stream",
     "text": [
      "[0.2, 0.2, 0.1, 0.1]\n",
      "tf.Tensor([[0.3913014  0.3106285  0.15922992 0.13884015]], shape=(1, 4), dtype=float32)\n",
      "[0.1, 0.2, 0.1, 0.1]\n",
      "tf.Tensor([[0.39077634 0.31097957 0.15769112 0.140553  ]], shape=(1, 4), dtype=float32)\n"
     ]
    },
    {
     "name": "stderr",
     "output_type": "stream",
     "text": [
      " 14%|█████████▊                                                              | 4101/30000 [2:02:49<10:04:33,  1.40s/it]"
     ]
    },
    {
     "name": "stdout",
     "output_type": "stream",
     "text": [
      "-14.441413712719758\n",
      "54\n"
     ]
    },
    {
     "name": "stderr",
     "output_type": "stream",
     "text": [
      " 14%|██████████▏                                                              | 4201/30000 [2:05:05<9:35:27,  1.34s/it]"
     ]
    },
    {
     "name": "stdout",
     "output_type": "stream",
     "text": [
      "-18.181617593237515\n",
      "57\n",
      "[0.3, 0.1, 0.5, 0.7]\n",
      "tf.Tensor([[0.42812178 0.32705647 0.1286216  0.1162002 ]], shape=(1, 4), dtype=float32)\n",
      "[0.3, 0.2, 0.5, 0.7]\n",
      "tf.Tensor([[0.4233669  0.32139668 0.13460903 0.12062737]], shape=(1, 4), dtype=float32)\n",
      "[0.3, 0.3, 0.5, 0.7]\n",
      "tf.Tensor([[0.41776085 0.31586942 0.14084418 0.12552555]], shape=(1, 4), dtype=float32)\n",
      "[0.3, 0.4, 0.5, 0.7]\n",
      "tf.Tensor([[0.41161904 0.3107787  0.1470146  0.13058768]], shape=(1, 4), dtype=float32)\n",
      "[0.3, 0.5, 0.5, 0.7]\n",
      "tf.Tensor([[0.4138797  0.31037948 0.14748907 0.12825182]], shape=(1, 4), dtype=float32)\n",
      "[0.4, 0.5, 0.5, 0.7]\n",
      "tf.Tensor([[0.4144234  0.30936486 0.14840436 0.12780736]], shape=(1, 4), dtype=float32)\n",
      "[0.4, 0.6, 0.5, 0.7]\n",
      "tf.Tensor([[0.41736543 0.30919355 0.14842314 0.12501794]], shape=(1, 4), dtype=float32)\n",
      "[0.5, 0.6, 0.5, 0.7]\n",
      "tf.Tensor([[0.41824    0.30825368 0.14920913 0.12429725]], shape=(1, 4), dtype=float32)\n"
     ]
    },
    {
     "name": "stderr",
     "output_type": "stream",
     "text": [
      " 14%|██████████▍                                                              | 4301/30000 [2:07:11<9:15:55,  1.30s/it]"
     ]
    },
    {
     "name": "stdout",
     "output_type": "stream",
     "text": [
      "-12.653052681306344\n",
      "70\n"
     ]
    },
    {
     "name": "stderr",
     "output_type": "stream",
     "text": [
      " 15%|██████████▋                                                              | 4401/30000 [2:09:26<8:24:06,  1.18s/it]"
     ]
    },
    {
     "name": "stdout",
     "output_type": "stream",
     "text": [
      "-17.35142783753072\n",
      "61\n",
      "[0.1, 0.7, 0.6, 0.2]\n",
      "tf.Tensor([[0.48066738 0.32476223 0.10576688 0.08880355]], shape=(1, 4), dtype=float32)\n",
      "[0.1, 0.6, 0.6, 0.2]\n",
      "tf.Tensor([[0.48098227 0.31924054 0.11003585 0.08974126]], shape=(1, 4), dtype=float32)\n",
      "[0.2, 0.6, 0.6, 0.2]\n",
      "tf.Tensor([[0.478688   0.31778935 0.11201812 0.09150458]], shape=(1, 4), dtype=float32)\n",
      "[0.2, 0.5, 0.6, 0.2]\n",
      "tf.Tensor([[0.47896066 0.31327096 0.11543403 0.09233436]], shape=(1, 4), dtype=float32)\n",
      "[0.3, 0.5, 0.6, 0.2]\n",
      "tf.Tensor([[0.48114064 0.3138593  0.11405543 0.0909446 ]], shape=(1, 4), dtype=float32)\n",
      "[0.3, 0.4, 0.6, 0.2]\n",
      "tf.Tensor([[0.4836492  0.3136451  0.11275166 0.08995402]], shape=(1, 4), dtype=float32)\n",
      "[0.4, 0.4, 0.6, 0.2]\n",
      "tf.Tensor([[0.4862105  0.31417215 0.11135729 0.08826011]], shape=(1, 4), dtype=float32)\n",
      "[0.4, 0.3, 0.6, 0.2]\n",
      "tf.Tensor([[0.4886432  0.31389198 0.11007664 0.08738822]], shape=(1, 4), dtype=float32)\n",
      "[0.5, 0.3, 0.6, 0.2]\n",
      "tf.Tensor([[0.49124035 0.31445277 0.10870074 0.08560607]], shape=(1, 4), dtype=float32)\n",
      "[0.5, 0.2, 0.6, 0.2]\n",
      "tf.Tensor([[0.49350825 0.31412175 0.10751984 0.08485015]], shape=(1, 4), dtype=float32)\n"
     ]
    },
    {
     "name": "stderr",
     "output_type": "stream",
     "text": [
      " 15%|██████████▉                                                              | 4501/30000 [2:11:47<8:42:38,  1.23s/it]"
     ]
    },
    {
     "name": "stdout",
     "output_type": "stream",
     "text": [
      "-17.702446192215284\n",
      "62\n"
     ]
    },
    {
     "name": "stderr",
     "output_type": "stream",
     "text": [
      " 15%|███████████▏                                                             | 4601/30000 [2:13:54<9:06:48,  1.29s/it]"
     ]
    },
    {
     "name": "stdout",
     "output_type": "stream",
     "text": [
      "-13.535121935911056\n",
      "69\n",
      "[0.8, 0.2, 0.2, 0.9]\n",
      "tf.Tensor([[0.54756355 0.30794787 0.08553786 0.0589507 ]], shape=(1, 4), dtype=float32)\n",
      "[0.7, 0.2, 0.2, 0.9]\n",
      "tf.Tensor([[0.5607179  0.30069375 0.08462583 0.0539626 ]], shape=(1, 4), dtype=float32)\n",
      "[0.6, 0.2, 0.2, 0.9]\n",
      "tf.Tensor([[0.57048106 0.2944562  0.08443294 0.05062977]], shape=(1, 4), dtype=float32)\n",
      "[0.5, 0.2, 0.2, 0.9]\n",
      "tf.Tensor([[0.57022357 0.29042584 0.08696296 0.05238756]], shape=(1, 4), dtype=float32)\n",
      "[0.5, 0.3, 0.2, 0.9]\n",
      "tf.Tensor([[0.5654605  0.29258206 0.08848667 0.05347076]], shape=(1, 4), dtype=float32)\n",
      "[0.4, 0.3, 0.2, 0.9]\n",
      "tf.Tensor([[0.55443376 0.29424942 0.09208655 0.05923027]], shape=(1, 4), dtype=float32)\n",
      "[0.4, 0.4, 0.2, 0.9]\n",
      "tf.Tensor([[0.5421883  0.29677862 0.09592786 0.06510526]], shape=(1, 4), dtype=float32)\n",
      "[0.4, 0.5, 0.2, 0.9]\n",
      "tf.Tensor([[0.5496699  0.29616615 0.09367837 0.06048558]], shape=(1, 4), dtype=float32)\n",
      "[0.3, 0.5, 0.2, 0.9]\n",
      "tf.Tensor([[0.53878313 0.29724455 0.09736181 0.06661053]], shape=(1, 4), dtype=float32)\n",
      "[0.3, 0.6, 0.2, 0.9]\n",
      "tf.Tensor([[0.5367152  0.29762322 0.09794785 0.06771365]], shape=(1, 4), dtype=float32)\n",
      "[0.3, 0.7, 0.2, 0.9]\n",
      "tf.Tensor([[0.54545313 0.29700616 0.09522773 0.06231296]], shape=(1, 4), dtype=float32)\n",
      "[0.2, 0.7, 0.2, 0.9]\n",
      "tf.Tensor([[0.53403294 0.29806587 0.0990974  0.06880372]], shape=(1, 4), dtype=float32)\n",
      "[0.2, 0.8, 0.2, 0.9]\n",
      "tf.Tensor([[0.53237987 0.29834747 0.09957663 0.06969611]], shape=(1, 4), dtype=float32)\n"
     ]
    },
    {
     "name": "stderr",
     "output_type": "stream",
     "text": [
      " 16%|███████████▍                                                             | 4701/30000 [2:15:52<6:21:02,  1.11it/s]"
     ]
    },
    {
     "name": "stdout",
     "output_type": "stream",
     "text": [
      "-14.324342221885743\n",
      "72\n"
     ]
    },
    {
     "name": "stderr",
     "output_type": "stream",
     "text": [
      " 16%|███████████▋                                                             | 4800/30000 [2:17:43<9:18:17,  1.33s/it]"
     ]
    },
    {
     "name": "stdout",
     "output_type": "stream",
     "text": [
      "-11.88171155689802\n",
      "78\n",
      "[0.4, 0.1, 0.2, 0.9]\n",
      "tf.Tensor([[0.56653243 0.29594192 0.08327497 0.05425074]], shape=(1, 4), dtype=float32)\n",
      "[0.4, 0.2, 0.2, 0.9]\n",
      "tf.Tensor([[0.56809026 0.29208833 0.0853779  0.05444356]], shape=(1, 4), dtype=float32)\n",
      "[0.4, 0.3, 0.2, 0.9]\n",
      "tf.Tensor([[0.5681772  0.2886329  0.08797401 0.05521585]], shape=(1, 4), dtype=float32)\n",
      "[0.4, 0.4, 0.2, 0.9]\n",
      "tf.Tensor([[0.5665695  0.2858708  0.09097794 0.05658178]], shape=(1, 4), dtype=float32)\n",
      "[0.4, 0.5, 0.2, 0.9]\n",
      "tf.Tensor([[0.56559557 0.28576177 0.09167411 0.05696861]], shape=(1, 4), dtype=float32)\n",
      "[0.4, 0.6, 0.2, 0.9]\n",
      "tf.Tensor([[0.57608116 0.28366727 0.08867613 0.05157549]], shape=(1, 4), dtype=float32)\n",
      "[0.3, 0.6, 0.2, 0.9]\n",
      "tf.Tensor([[0.5759589  0.2826951  0.08892191 0.05242402]], shape=(1, 4), dtype=float32)\n",
      "[0.3, 0.7, 0.2, 0.9]\n",
      "tf.Tensor([[0.5853568  0.2810959  0.08587039 0.04767693]], shape=(1, 4), dtype=float32)\n"
     ]
    },
    {
     "name": "stderr",
     "output_type": "stream",
     "text": [
      "\r",
      " 16%|███████████▋                                                             | 4801/30000 [2:17:44<7:15:43,  1.04s/it]"
     ]
    },
    {
     "name": "stdout",
     "output_type": "stream",
     "text": [
      "[0.2, 0.7, 0.2, 0.9]\n",
      "tf.Tensor([[0.5838466  0.28062564 0.08637328 0.04915441]], shape=(1, 4), dtype=float32)\n",
      "[0.2, 0.8, 0.2, 0.9]\n",
      "tf.Tensor([[0.56989384 0.28444582 0.09070403 0.05495636]], shape=(1, 4), dtype=float32)\n"
     ]
    },
    {
     "name": "stderr",
     "output_type": "stream",
     "text": [
      " 16%|███████████▉                                                             | 4901/30000 [2:19:32<9:00:11,  1.29s/it]"
     ]
    },
    {
     "name": "stdout",
     "output_type": "stream",
     "text": [
      "-10.534546793102441\n",
      "80\n"
     ]
    },
    {
     "name": "stderr",
     "output_type": "stream",
     "text": [
      " 17%|████████████▏                                                            | 5001/30000 [2:21:22<8:21:52,  1.20s/it]"
     ]
    },
    {
     "name": "stdout",
     "output_type": "stream",
     "text": [
      "-11.599603992467248\n",
      "77\n",
      "[0.7, 0.5, 0.5, 0.7]\n",
      "tf.Tensor([[0.5686856  0.2923312  0.0884165  0.05056666]], shape=(1, 4), dtype=float32)\n",
      "[0.6, 0.5, 0.5, 0.7]\n",
      "tf.Tensor([[0.5728114  0.2862751  0.09079903 0.05011448]], shape=(1, 4), dtype=float32)\n",
      "[0.6, 0.6, 0.5, 0.7]\n",
      "tf.Tensor([[0.58347565 0.28057054 0.09021595 0.04573785]], shape=(1, 4), dtype=float32)\n",
      "[0.5, 0.6, 0.5, 0.7]\n",
      "tf.Tensor([[0.5834501  0.2763252  0.09321976 0.04700498]], shape=(1, 4), dtype=float32)\n"
     ]
    },
    {
     "name": "stderr",
     "output_type": "stream",
     "text": [
      " 17%|████████████▍                                                            | 5101/30000 [2:22:54<3:53:19,  1.78it/s]"
     ]
    },
    {
     "name": "stdout",
     "output_type": "stream",
     "text": [
      "-3.765671307232253\n",
      "86\n"
     ]
    },
    {
     "name": "stderr",
     "output_type": "stream",
     "text": [
      " 17%|████████████▋                                                            | 5201/30000 [2:24:32<9:02:45,  1.31s/it]"
     ]
    },
    {
     "name": "stdout",
     "output_type": "stream",
     "text": [
      "-12.429165868541372\n",
      "83\n",
      "[0.7, 0.2, 0.7, 0.4]\n",
      "tf.Tensor([[0.6211779  0.27807033 0.0652253  0.03552645]], shape=(1, 4), dtype=float32)\n",
      "[0.7, 0.3, 0.7, 0.4]\n",
      "tf.Tensor([[0.6289617  0.27221435 0.06522449 0.0335995 ]], shape=(1, 4), dtype=float32)\n"
     ]
    },
    {
     "name": "stderr",
     "output_type": "stream",
     "text": [
      " 18%|████████████▉                                                            | 5301/30000 [2:26:06<6:43:21,  1.02it/s]"
     ]
    },
    {
     "name": "stdout",
     "output_type": "stream",
     "text": [
      "-5.779200812137308\n",
      "92\n"
     ]
    },
    {
     "name": "stderr",
     "output_type": "stream",
     "text": [
      " 18%|█████████████▏                                                           | 5401/30000 [2:27:36<6:10:41,  1.11it/s]"
     ]
    },
    {
     "name": "stdout",
     "output_type": "stream",
     "text": [
      "-6.452973167784781\n",
      "88\n",
      "[0.7, 0.0, 0.5, 0.7]\n",
      "tf.Tensor([[0.6141537  0.28737128 0.06321696 0.03525807]], shape=(1, 4), dtype=float32)\n",
      "[0.7, 0.1, 0.5, 0.7]\n",
      "tf.Tensor([[0.6223517  0.28138322 0.06303322 0.03323185]], shape=(1, 4), dtype=float32)\n",
      "[0.7, 0.2, 0.5, 0.7]\n",
      "tf.Tensor([[0.62920123 0.27583054 0.06320724 0.03176101]], shape=(1, 4), dtype=float32)\n",
      "[0.7, 0.3, 0.5, 0.7]\n",
      "tf.Tensor([[0.6341677  0.27118677 0.06379072 0.03085486]], shape=(1, 4), dtype=float32)\n",
      "[0.7, 0.4, 0.5, 0.7]\n",
      "tf.Tensor([[0.633898   0.27116016 0.06401206 0.03092971]], shape=(1, 4), dtype=float32)\n",
      "[0.7, 0.5, 0.5, 0.7]\n",
      "tf.Tensor([[0.6419028  0.2685686  0.06157721 0.02795131]], shape=(1, 4), dtype=float32)\n",
      "[0.6, 0.5, 0.5, 0.7]\n",
      "tf.Tensor([[0.643625   0.2671259  0.06115557 0.02809354]], shape=(1, 4), dtype=float32)\n",
      "[0.6, 0.6, 0.5, 0.7]\n",
      "tf.Tensor([[0.650594   0.26511464 0.05874836 0.02554297]], shape=(1, 4), dtype=float32)\n",
      "[0.5, 0.6, 0.5, 0.7]\n",
      "tf.Tensor([[0.6510172  0.26427528 0.05862369 0.02608383]], shape=(1, 4), dtype=float32)\n"
     ]
    },
    {
     "name": "stderr",
     "output_type": "stream",
     "text": [
      " 18%|█████████████▍                                                           | 5501/30000 [2:29:02<6:00:22,  1.13it/s]"
     ]
    },
    {
     "name": "stdout",
     "output_type": "stream",
     "text": [
      "-5.1885790570075425\n",
      "88\n"
     ]
    },
    {
     "name": "stderr",
     "output_type": "stream",
     "text": [
      " 19%|█████████████▋                                                           | 5601/30000 [2:30:17<5:30:10,  1.23it/s]"
     ]
    },
    {
     "name": "stdout",
     "output_type": "stream",
     "text": [
      "-4.070895302487148\n",
      "94\n",
      "[0.7, 0.8, 0.2, 0.9]\n",
      "tf.Tensor([[0.6552812  0.26765484 0.05198349 0.0250805 ]], shape=(1, 4), dtype=float32)\n",
      "[0.6, 0.8, 0.2, 0.9]\n",
      "tf.Tensor([[0.6765815  0.25493437 0.04810006 0.02038408]], shape=(1, 4), dtype=float32)\n",
      "[0.5, 0.8, 0.2, 0.9]\n",
      "tf.Tensor([[0.6941627  0.24382052 0.04493891 0.01707789]], shape=(1, 4), dtype=float32)\n",
      "[0.4, 0.8, 0.2, 0.9]\n",
      "tf.Tensor([[0.70721686 0.23511416 0.04275777 0.01491118]], shape=(1, 4), dtype=float32)\n",
      "[0.3, 0.8, 0.2, 0.9]\n",
      "tf.Tensor([[0.70282924 0.23746419 0.0439938  0.01571281]], shape=(1, 4), dtype=float32)\n",
      "[0.2, 0.8, 0.2, 0.9]\n",
      "tf.Tensor([[0.69153714 0.2426258  0.0472842  0.0185529 ]], shape=(1, 4), dtype=float32)\n"
     ]
    },
    {
     "name": "stderr",
     "output_type": "stream",
     "text": [
      " 19%|█████████████▊                                                           | 5701/30000 [2:31:42<3:37:55,  1.86it/s]"
     ]
    },
    {
     "name": "stdout",
     "output_type": "stream",
     "text": [
      "-5.232152683622094\n",
      "88\n"
     ]
    },
    {
     "name": "stderr",
     "output_type": "stream",
     "text": [
      " 19%|██████████████                                                           | 5801/30000 [2:33:02<6:20:22,  1.06it/s]"
     ]
    },
    {
     "name": "stdout",
     "output_type": "stream",
     "text": [
      "-5.639401040091549\n",
      "95\n",
      "[0.4, 0.7, 0.7, 0.4]\n",
      "tf.Tensor([[0.67538446 0.25500935 0.04733964 0.02226653]], shape=(1, 4), dtype=float32)\n",
      "[0.5, 0.7, 0.7, 0.4]\n",
      "tf.Tensor([[0.69371027 0.24521695 0.04257852 0.01849434]], shape=(1, 4), dtype=float32)\n",
      "[0.5, 0.6, 0.7, 0.4]\n",
      "tf.Tensor([[0.7112084  0.23354332 0.03965635 0.0155919 ]], shape=(1, 4), dtype=float32)\n",
      "[0.6, 0.6, 0.7, 0.4]\n",
      "tf.Tensor([[0.72959757 0.222724   0.0350379  0.01264043]], shape=(1, 4), dtype=float32)\n",
      "[0.6, 0.5, 0.7, 0.4]\n",
      "tf.Tensor([[0.7308482  0.22200026 0.03470318 0.01244847]], shape=(1, 4), dtype=float32)\n",
      "[0.7, 0.5, 0.7, 0.4]\n",
      "tf.Tensor([[0.7364084  0.21898675 0.03302664 0.01157812]], shape=(1, 4), dtype=float32)\n"
     ]
    },
    {
     "name": "stderr",
     "output_type": "stream",
     "text": [
      " 20%|██████████████▎                                                          | 5901/30000 [2:34:07<4:49:31,  1.39it/s]"
     ]
    },
    {
     "name": "stdout",
     "output_type": "stream",
     "text": [
      "-0.28829823537237836\n",
      "97\n"
     ]
    },
    {
     "name": "stderr",
     "output_type": "stream",
     "text": [
      " 20%|██████████████▌                                                          | 6000/30000 [2:35:09<3:58:28,  1.68it/s]"
     ]
    },
    {
     "name": "stdout",
     "output_type": "stream",
     "text": [
      "-2.0173611196809955\n",
      "99\n",
      "[0.5, 0.1, 0.2, 0.9]\n",
      "tf.Tensor([[0.6982359  0.24472977 0.03803561 0.01899866]], shape=(1, 4), dtype=float32)\n",
      "[0.5, 0.2, 0.2, 0.9]\n",
      "tf.Tensor([[0.7138084  0.2342284  0.03561205 0.01635114]], shape=(1, 4), dtype=float32)\n",
      "[0.5, 0.3, 0.2, 0.9]\n",
      "tf.Tensor([[0.72874033 0.2238898  0.03328162 0.01408817]], shape=(1, 4), dtype=float32)\n",
      "[0.5, 0.4, 0.2, 0.9]\n",
      "tf.Tensor([[0.7420098  0.21451385 0.03120629 0.01227002]], shape=(1, 4), dtype=float32)\n",
      "[0.5, 0.5, 0.2, 0.9]\n",
      "tf.Tensor([[0.7426724  0.2140059  0.03114448 0.01217726]], shape=(1, 4), dtype=float32)\n",
      "[0.5, 0.6, 0.2, 0.9]\n",
      "tf.Tensor([[0.7512919  0.209284   0.02893386 0.01049027]], shape=(1, 4), dtype=float32)\n",
      "[0.4, 0.6, 0.2, 0.9]\n",
      "tf.Tensor([[0.7546901  0.20662417 0.02833633 0.01034937]], shape=(1, 4), dtype=float32)\n",
      "[0.4, 0.7, 0.2, 0.9]\n",
      "tf.Tensor([[0.76231056 0.2024546  0.02626875 0.00896615]], shape=(1, 4), dtype=float32)\n",
      "[0.3, 0.7, 0.2, 0.9]\n"
     ]
    },
    {
     "name": "stderr",
     "output_type": "stream",
     "text": [
      "\r",
      " 20%|██████████████▌                                                          | 6001/30000 [2:35:11<6:59:52,  1.05s/it]"
     ]
    },
    {
     "name": "stdout",
     "output_type": "stream",
     "text": [
      "tf.Tensor([[0.76486    0.20036584 0.02580921 0.00896495]], shape=(1, 4), dtype=float32)\n",
      "[0.3, 0.8, 0.2, 0.9]\n",
      "tf.Tensor([[0.7570717  0.20577009 0.02750586 0.00965231]], shape=(1, 4), dtype=float32)\n",
      "[0.2, 0.8, 0.2, 0.9]\n",
      "tf.Tensor([[0.7594441  0.20378958 0.02706781 0.0096985 ]], shape=(1, 4), dtype=float32)\n"
     ]
    },
    {
     "name": "stderr",
     "output_type": "stream",
     "text": [
      " 20%|██████████████▊                                                          | 6101/30000 [2:36:13<4:33:34,  1.46it/s]"
     ]
    },
    {
     "name": "stdout",
     "output_type": "stream",
     "text": [
      "-1.5268782892536235\n",
      "99\n"
     ]
    },
    {
     "name": "stderr",
     "output_type": "stream",
     "text": [
      " 21%|███████████████                                                          | 6201/30000 [2:37:19<4:51:10,  1.36it/s]"
     ]
    },
    {
     "name": "stdout",
     "output_type": "stream",
     "text": [
      "-1.2021635424937898\n",
      "98\n",
      "[0.9, 0.2, 0.7, 0.1]\n",
      "tf.Tensor([[0.70231366 0.24410407 0.03683462 0.01674767]], shape=(1, 4), dtype=float32)\n",
      "[0.8, 0.2, 0.7, 0.1]\n",
      "tf.Tensor([[0.7388719  0.22090648 0.02931445 0.01090716]], shape=(1, 4), dtype=float32)\n",
      "[0.7, 0.2, 0.7, 0.1]\n",
      "tf.Tensor([[0.7647697  0.20381217 0.02356347 0.00785461]], shape=(1, 4), dtype=float32)\n"
     ]
    },
    {
     "name": "stderr",
     "output_type": "stream",
     "text": [
      " 21%|███████████████▎                                                         | 6301/30000 [2:38:26<4:02:10,  1.63it/s]"
     ]
    },
    {
     "name": "stdout",
     "output_type": "stream",
     "text": [
      "-1.830442747248787\n",
      "99\n"
     ]
    },
    {
     "name": "stderr",
     "output_type": "stream",
     "text": [
      " 21%|███████████████▌                                                         | 6401/30000 [2:39:30<3:15:04,  2.02it/s]"
     ]
    },
    {
     "name": "stdout",
     "output_type": "stream",
     "text": [
      "0.5351901957123395\n",
      "100\n",
      "[0.9, 0.5, 0.5, 0.7]\n",
      "tf.Tensor([[0.6935823  0.25085658 0.0375507  0.01801039]], shape=(1, 4), dtype=float32)\n",
      "[0.8, 0.5, 0.5, 0.7]\n",
      "tf.Tensor([[0.73489165 0.22521368 0.02877167 0.01112297]], shape=(1, 4), dtype=float32)\n",
      "[0.7, 0.5, 0.5, 0.7]\n",
      "tf.Tensor([[0.7686282  0.20215599 0.02215455 0.00706128]], shape=(1, 4), dtype=float32)\n",
      "[0.6, 0.5, 0.5, 0.7]\n",
      "tf.Tensor([[0.79138386 0.18511137 0.01831588 0.00518887]], shape=(1, 4), dtype=float32)\n",
      "[0.6, 0.6, 0.5, 0.7]\n",
      "tf.Tensor([[0.78470665 0.1902898  0.01939985 0.00560366]], shape=(1, 4), dtype=float32)\n",
      "[0.5, 0.6, 0.5, 0.7]\n",
      "tf.Tensor([[0.77547514 0.19599128 0.02172786 0.00680563]], shape=(1, 4), dtype=float32)\n"
     ]
    },
    {
     "name": "stderr",
     "output_type": "stream",
     "text": [
      " 22%|███████████████▊                                                         | 6501/30000 [2:40:32<3:28:07,  1.88it/s]"
     ]
    },
    {
     "name": "stdout",
     "output_type": "stream",
     "text": [
      "-0.14985393698402505\n",
      "98\n"
     ]
    },
    {
     "name": "stderr",
     "output_type": "stream",
     "text": [
      " 22%|████████████████                                                         | 6601/30000 [2:41:32<3:14:09,  2.01it/s]"
     ]
    },
    {
     "name": "stdout",
     "output_type": "stream",
     "text": [
      "0.13031424856064894\n",
      "100\n",
      "[0.6, 0.1, 0.7, 0.1]\n",
      "tf.Tensor([[0.6646522  0.26482952 0.04549434 0.02502393]], shape=(1, 4), dtype=float32)\n"
     ]
    },
    {
     "name": "stderr",
     "output_type": "stream",
     "text": [
      " 22%|████████████████▎                                                        | 6701/30000 [2:42:35<2:55:08,  2.22it/s]"
     ]
    },
    {
     "name": "stdout",
     "output_type": "stream",
     "text": [
      "-0.16732503901457635\n",
      "97\n"
     ]
    },
    {
     "name": "stderr",
     "output_type": "stream",
     "text": [
      " 23%|████████████████▌                                                        | 6801/30000 [2:43:31<4:14:39,  1.52it/s]"
     ]
    },
    {
     "name": "stdout",
     "output_type": "stream",
     "text": [
      "1.0772212664745338\n",
      "99\n",
      "[0.2, 0.4, 0.2, 0.9]\n",
      "tf.Tensor([[0.6447346  0.26779234 0.05473474 0.0327383 ]], shape=(1, 4), dtype=float32)\n",
      "[0.2, 0.5, 0.2, 0.9]\n",
      "tf.Tensor([[0.6702519  0.25445634 0.04888801 0.02640379]], shape=(1, 4), dtype=float32)\n",
      "[0.2, 0.6, 0.2, 0.9]\n",
      "tf.Tensor([[0.69845587 0.23890749 0.04228666 0.02034999]], shape=(1, 4), dtype=float32)\n",
      "[0.2, 0.7, 0.2, 0.9]\n",
      "tf.Tensor([[0.7272648  0.22208592 0.03553429 0.01511488]], shape=(1, 4), dtype=float32)\n",
      "[0.2, 0.8, 0.2, 0.9]\n",
      "tf.Tensor([[0.7301775  0.22038199 0.03483585 0.01460457]], shape=(1, 4), dtype=float32)\n"
     ]
    },
    {
     "name": "stderr",
     "output_type": "stream",
     "text": [
      " 23%|████████████████▊                                                        | 6901/30000 [2:44:26<3:02:38,  2.11it/s]"
     ]
    },
    {
     "name": "stdout",
     "output_type": "stream",
     "text": [
      "1.1684338978215565\n",
      "100\n"
     ]
    },
    {
     "name": "stderr",
     "output_type": "stream",
     "text": [
      " 23%|█████████████████                                                        | 7001/30000 [2:45:20<2:58:40,  2.15it/s]"
     ]
    },
    {
     "name": "stdout",
     "output_type": "stream",
     "text": [
      "1.3911028218178763\n",
      "99\n",
      "[0.4, 0.6, 0.1, 0.1]\n",
      "tf.Tensor([[0.6240254  0.2765879  0.06131276 0.03807395]], shape=(1, 4), dtype=float32)\n",
      "[0.4, 0.5, 0.1, 0.1]\n",
      "tf.Tensor([[0.6621248  0.26054984 0.05007247 0.02725297]], shape=(1, 4), dtype=float32)\n",
      "[0.4, 0.4, 0.1, 0.1]\n",
      "tf.Tensor([[0.7137243  0.23243286 0.03776082 0.01608208]], shape=(1, 4), dtype=float32)\n",
      "[0.3, 0.4, 0.1, 0.1]\n",
      "tf.Tensor([[0.7525209  0.20805226 0.02883102 0.01059574]], shape=(1, 4), dtype=float32)\n",
      "[0.3, 0.3, 0.1, 0.1]\n",
      "tf.Tensor([[0.7501726  0.20970543 0.02918634 0.01093564]], shape=(1, 4), dtype=float32)\n",
      "[0.3, 0.2, 0.1, 0.1]\n",
      "tf.Tensor([[0.7528234  0.20747001 0.02932031 0.01038625]], shape=(1, 4), dtype=float32)\n",
      "[0.2, 0.2, 0.1, 0.1]\n",
      "tf.Tensor([[0.7384089  0.21735893 0.03172871 0.0125034 ]], shape=(1, 4), dtype=float32)\n",
      "[0.2, 0.1, 0.1, 0.1]\n",
      "tf.Tensor([[0.74344045 0.21358714 0.03136164 0.01161078]], shape=(1, 4), dtype=float32)\n"
     ]
    },
    {
     "name": "stderr",
     "output_type": "stream",
     "text": [
      " 24%|█████████████████▎                                                       | 7101/30000 [2:46:19<3:27:41,  1.84it/s]"
     ]
    },
    {
     "name": "stdout",
     "output_type": "stream",
     "text": [
      "0.5546676158729911\n",
      "100\n"
     ]
    },
    {
     "name": "stderr",
     "output_type": "stream",
     "text": [
      " 24%|█████████████████▌                                                       | 7200/30000 [2:47:14<4:21:47,  1.45it/s]"
     ]
    },
    {
     "name": "stdout",
     "output_type": "stream",
     "text": [
      "0.44163025256847455\n",
      "100\n",
      "[0.7, 0.2, 0.2, 0.9]\n",
      "tf.Tensor([[0.616686   0.27158397 0.07000244 0.04172761]], shape=(1, 4), dtype=float32)\n",
      "[0.7, 0.3, 0.2, 0.9]\n",
      "tf.Tensor([[0.66260433 0.25066966 0.0581523  0.02857373]], shape=(1, 4), dtype=float32)\n",
      "[0.7, 0.4, 0.2, 0.9]\n",
      "tf.Tensor([[0.7273791  0.21579814 0.04168397 0.01513879]], shape=(1, 4), dtype=float32)\n",
      "[0.6, 0.4, 0.2, 0.9]\n",
      "tf.Tensor([[0.77364093 0.18559395 0.03155239 0.00921269]], shape=(1, 4), dtype=float32)\n",
      "[0.6, 0.5, 0.2, 0.9]\n",
      "tf.Tensor([[0.78462553 0.17868075 0.02887896 0.00781481]], shape=(1, 4), dtype=float32)\n",
      "[0.5, 0.5, 0.2, 0.9]\n",
      "tf.Tensor([[0.78746414 0.17658879 0.02825034 0.00769675]], shape=(1, 4), dtype=float32)\n",
      "[0.5, 0.6, 0.2, 0.9]\n",
      "tf.Tensor([[0.77745456 0.18336925 0.03056482 0.00861138]], shape=(1, 4), dtype=float32)\n",
      "[0.4, 0.6, 0.2, 0.9]\n",
      "tf.Tensor([[0.7803557  0.1812729  0.02988113 0.00849024]], shape=(1, 4), dtype=float32)\n"
     ]
    },
    {
     "name": "stderr",
     "output_type": "stream",
     "text": [
      "\r",
      " 24%|█████████████████▌                                                       | 7201/30000 [2:47:14<4:38:44,  1.36it/s]"
     ]
    },
    {
     "name": "stdout",
     "output_type": "stream",
     "text": [
      "[0.4, 0.7, 0.2, 0.9]\n",
      "tf.Tensor([[0.7703263  0.1879837  0.03224133 0.00944859]], shape=(1, 4), dtype=float32)\n",
      "[0.3, 0.7, 0.2, 0.9]\n",
      "tf.Tensor([[0.77312064 0.18598792 0.03154472 0.00934666]], shape=(1, 4), dtype=float32)\n",
      "[0.3, 0.8, 0.2, 0.9]\n",
      "tf.Tensor([[0.76269704 0.19282728 0.03408274 0.01039296]], shape=(1, 4), dtype=float32)\n",
      "[0.2, 0.8, 0.2, 0.9]\n",
      "tf.Tensor([[0.76527035 0.19100516 0.03339466 0.0103299 ]], shape=(1, 4), dtype=float32)\n"
     ]
    },
    {
     "name": "stderr",
     "output_type": "stream",
     "text": [
      " 24%|█████████████████▊                                                       | 7301/30000 [2:48:09<2:35:58,  2.43it/s]"
     ]
    },
    {
     "name": "stdout",
     "output_type": "stream",
     "text": [
      "1.9877394571554354\n",
      "98\n"
     ]
    },
    {
     "name": "stderr",
     "output_type": "stream",
     "text": [
      " 25%|██████████████████                                                       | 7401/30000 [2:49:02<3:21:56,  1.87it/s]"
     ]
    },
    {
     "name": "stdout",
     "output_type": "stream",
     "text": [
      "1.3579175158708732\n",
      "100\n",
      "[0.7, 0.8, 0.6, 0.2]\n",
      "tf.Tensor([[0.60999006 0.2747676  0.07047977 0.04476251]], shape=(1, 4), dtype=float32)\n",
      "[0.7, 0.7, 0.6, 0.2]\n",
      "tf.Tensor([[0.6803639  0.2424179  0.05143578 0.02578246]], shape=(1, 4), dtype=float32)\n",
      "[0.7, 0.6, 0.6, 0.2]\n",
      "tf.Tensor([[0.7540519  0.19919291 0.03399542 0.01275975]], shape=(1, 4), dtype=float32)\n",
      "[0.7, 0.5, 0.6, 0.2]\n",
      "tf.Tensor([[0.8148901  0.1573533  0.02174233 0.00601431]], shape=(1, 4), dtype=float32)\n",
      "[0.7, 0.4, 0.6, 0.2]\n",
      "tf.Tensor([[0.81386465 0.1581079  0.02191022 0.00611721]], shape=(1, 4), dtype=float32)\n",
      "[0.7, 0.3, 0.6, 0.2]\n",
      "tf.Tensor([[0.8127985  0.15888369 0.02209116 0.00622664]], shape=(1, 4), dtype=float32)\n",
      "[0.7, 0.2, 0.6, 0.2]\n",
      "tf.Tensor([[0.81623805 0.15604603 0.02193433 0.00578158]], shape=(1, 4), dtype=float32)\n"
     ]
    },
    {
     "name": "stderr",
     "output_type": "stream",
     "text": [
      " 25%|██████████████████▎                                                      | 7501/30000 [2:49:55<5:35:57,  1.12it/s]"
     ]
    },
    {
     "name": "stdout",
     "output_type": "stream",
     "text": [
      "-0.3838362158573778\n",
      "100\n"
     ]
    },
    {
     "name": "stderr",
     "output_type": "stream",
     "text": [
      " 25%|██████████████████▍                                                      | 7601/30000 [2:50:47<3:51:53,  1.61it/s]"
     ]
    },
    {
     "name": "stdout",
     "output_type": "stream",
     "text": [
      "0.5496670567403078\n",
      "100\n",
      "[0.0, 0.2, 0.6, 0.2]\n",
      "tf.Tensor([[0.5353241  0.28685516 0.10390374 0.073917  ]], shape=(1, 4), dtype=float32)\n",
      "[0.1, 0.2, 0.6, 0.2]\n",
      "tf.Tensor([[0.60185874 0.26055995 0.0855482  0.05203316]], shape=(1, 4), dtype=float32)\n",
      "[0.2, 0.2, 0.6, 0.2]\n",
      "tf.Tensor([[0.6771834  0.22655833 0.06530114 0.03095711]], shape=(1, 4), dtype=float32)\n",
      "[0.3, 0.2, 0.6, 0.2]\n",
      "tf.Tensor([[0.7573642  0.1834277  0.04407495 0.01513313]], shape=(1, 4), dtype=float32)\n",
      "[0.4, 0.2, 0.6, 0.2]\n",
      "tf.Tensor([[0.7709047  0.1756413  0.04036538 0.01308855]], shape=(1, 4), dtype=float32)\n",
      "[0.5, 0.2, 0.6, 0.2]\n",
      "tf.Tensor([[0.78343964 0.16820404 0.03700796 0.01134838]], shape=(1, 4), dtype=float32)\n"
     ]
    },
    {
     "name": "stderr",
     "output_type": "stream",
     "text": [
      " 26%|██████████████████▋                                                      | 7701/30000 [2:51:34<3:39:42,  1.69it/s]"
     ]
    },
    {
     "name": "stdout",
     "output_type": "stream",
     "text": [
      "1.4233495789883577\n",
      "100\n"
     ]
    },
    {
     "name": "stderr",
     "output_type": "stream",
     "text": [
      " 26%|██████████████████▉                                                      | 7801/30000 [2:52:24<3:36:31,  1.71it/s]"
     ]
    },
    {
     "name": "stdout",
     "output_type": "stream",
     "text": [
      "1.5698193218266743\n",
      "100\n",
      "[0.6, 0.6, 0.7, 0.4]\n",
      "tf.Tensor([[0.4697623  0.30376747 0.1321362  0.09433406]], shape=(1, 4), dtype=float32)\n",
      "[0.6, 0.5, 0.7, 0.4]\n",
      "tf.Tensor([[0.5839518  0.266679   0.09521144 0.05415782]], shape=(1, 4), dtype=float32)\n",
      "[0.6, 0.4, 0.7, 0.4]\n",
      "tf.Tensor([[0.7155492  0.20268016 0.05909615 0.02267461]], shape=(1, 4), dtype=float32)\n"
     ]
    },
    {
     "name": "stderr",
     "output_type": "stream",
     "text": [
      " 26%|███████████████████▏                                                     | 7901/30000 [2:53:13<2:21:10,  2.61it/s]"
     ]
    },
    {
     "name": "stdout",
     "output_type": "stream",
     "text": [
      "3.2604116667276957\n",
      "100\n"
     ]
    },
    {
     "name": "stderr",
     "output_type": "stream",
     "text": [
      " 27%|███████████████████▍                                                     | 8000/30000 [2:53:59<2:48:07,  2.18it/s]"
     ]
    },
    {
     "name": "stdout",
     "output_type": "stream",
     "text": [
      "3.2385844383284947\n",
      "100\n",
      "[0.8, 0.9, 0.6, 0.2]\n",
      "tf.Tensor([[0.37128794 0.31244376 0.17792054 0.13834769]], shape=(1, 4), dtype=float32)\n",
      "[0.8, 0.8, 0.6, 0.2]\n",
      "tf.Tensor([[0.50968164 0.28549293 0.12894775 0.07587771]], shape=(1, 4), dtype=float32)\n",
      "[0.8, 0.7, 0.6, 0.2]\n",
      "tf.Tensor([[0.7101083  0.20102786 0.0650942  0.02376968]], shape=(1, 4), dtype=float32)\n",
      "[0.8, 0.6, 0.6, 0.2]\n",
      "tf.Tensor([[0.84015244 0.1249648  0.02924165 0.00564105]], shape=(1, 4), dtype=float32)\n",
      "[0.8, 0.5, 0.6, 0.2]\n",
      "tf.Tensor([[0.8391197  0.12568562 0.02945135 0.00574339]], shape=(1, 4), dtype=float32)\n",
      "[0.8, 0.4, 0.6, 0.2]\n",
      "tf.Tensor([[0.84125984 0.12374947 0.02956325 0.00542747]], shape=(1, 4), dtype=float32)\n",
      "[0.7, 0.4, 0.6, 0.2]\n",
      "tf.Tensor([[0.8415499  0.12360539 0.02931694 0.0055278 ]], shape=(1, 4), dtype=float32)\n",
      "[0.7, 0.3, 0.6, 0.2]\n",
      "tf.Tensor([[0.84331495 0.12196422 0.02944356 0.00527732]], shape=(1, 4), dtype=float32)\n"
     ]
    },
    {
     "name": "stderr",
     "output_type": "stream",
     "text": [
      "\r",
      " 27%|███████████████████▍                                                     | 8001/30000 [2:54:00<2:59:14,  2.05it/s]"
     ]
    },
    {
     "name": "stdout",
     "output_type": "stream",
     "text": [
      "[0.6, 0.3, 0.6, 0.2]\n",
      "tf.Tensor([[0.84218514 0.12283932 0.02947314 0.00550247]], shape=(1, 4), dtype=float32)\n"
     ]
    },
    {
     "name": "stderr",
     "output_type": "stream",
     "text": [
      " 27%|███████████████████▋                                                     | 8101/30000 [2:54:48<2:32:40,  2.39it/s]"
     ]
    },
    {
     "name": "stdout",
     "output_type": "stream",
     "text": [
      "3.504125514657769\n",
      "99\n"
     ]
    },
    {
     "name": "stderr",
     "output_type": "stream",
     "text": [
      " 27%|███████████████████▉                                                     | 8200/30000 [2:55:34<3:50:26,  1.58it/s]"
     ]
    },
    {
     "name": "stdout",
     "output_type": "stream",
     "text": [
      "2.1205543820914263\n",
      "100\n",
      "[0.1, 0.1, 0.5, 0.7]\n",
      "tf.Tensor([[0.25484854 0.2935365  0.22656693 0.225048  ]], shape=(1, 4), dtype=float32)\n",
      "[0.1, 0.3, 0.5, 0.7]\n",
      "tf.Tensor([[0.2983661  0.29632065 0.21059714 0.19471611]], shape=(1, 4), dtype=float32)\n",
      "[0.1, 0.4, 0.5, 0.7]\n",
      "tf.Tensor([[0.400686   0.3011468  0.17101064 0.12715651]], shape=(1, 4), dtype=float32)\n",
      "[0.2, 0.4, 0.5, 0.7]\n",
      "tf.Tensor([[0.60137606 0.24236633 0.1038278  0.05242984]], shape=(1, 4), dtype=float32)\n",
      "[0.2, 0.5, 0.5, 0.7]\n",
      "tf.Tensor([[0.66509205 0.21350126 0.08469653 0.03671008]], shape=(1, 4), dtype=float32)\n",
      "[0.3, 0.5, 0.5, 0.7]\n",
      "tf.Tensor([[0.7253413  0.18428314 0.06633869 0.02403677]], shape=(1, 4), dtype=float32)\n",
      "[0.4, 0.5, 0.5, 0.7]\n",
      "tf.Tensor([[0.7220033  0.18685494 0.06660967 0.02453207]], shape=(1, 4), dtype=float32)\n",
      "[0.4, 0.6, 0.5, 0.7]\n",
      "tf.Tensor([[0.76372737 0.16526952 0.0542457  0.01675737]], shape=(1, 4), dtype=float32)\n",
      "[0.5, 0.6, 0.5, 0.7]\n"
     ]
    },
    {
     "name": "stderr",
     "output_type": "stream",
     "text": [
      "\r",
      " 27%|███████████████████▉                                                     | 8201/30000 [2:55:35<4:10:36,  1.45it/s]"
     ]
    },
    {
     "name": "stdout",
     "output_type": "stream",
     "text": [
      "tf.Tensor([[0.76421106 0.16570821 0.05354759 0.01653316]], shape=(1, 4), dtype=float32)\n"
     ]
    },
    {
     "name": "stderr",
     "output_type": "stream",
     "text": [
      " 28%|████████████████████▏                                                    | 8301/30000 [2:56:15<3:15:47,  1.85it/s]"
     ]
    },
    {
     "name": "stdout",
     "output_type": "stream",
     "text": [
      "3.261874265765999\n",
      "100\n"
     ]
    },
    {
     "name": "stderr",
     "output_type": "stream",
     "text": [
      " 28%|████████████████████▍                                                    | 8401/30000 [2:57:05<2:50:35,  2.11it/s]"
     ]
    },
    {
     "name": "stdout",
     "output_type": "stream",
     "text": [
      "1.3768831564751631\n",
      "99\n",
      "[0.4, 0.6, 0.7, 0.1]\n",
      "tf.Tensor([[0.22015709 0.28545812 0.24624205 0.24814278]], shape=(1, 4), dtype=float32)\n",
      "[0.4, 0.4, 0.7, 0.1]\n",
      "tf.Tensor([[0.28805897 0.30212104 0.21292238 0.19689766]], shape=(1, 4), dtype=float32)\n",
      "[0.6, 0.4, 0.7, 0.1]\n",
      "tf.Tensor([[0.5084865  0.28022656 0.13028641 0.08100048]], shape=(1, 4), dtype=float32)\n",
      "[0.6, 0.3, 0.7, 0.1]\n",
      "tf.Tensor([[0.80469334 0.14646135 0.03790344 0.01094185]], shape=(1, 4), dtype=float32)\n",
      "[0.6, 0.2, 0.7, 0.1]\n",
      "tf.Tensor([[0.81310993 0.14034718 0.03657338 0.00996956]], shape=(1, 4), dtype=float32)\n",
      "[0.7, 0.2, 0.7, 0.1]\n",
      "tf.Tensor([[0.8232543  0.13528758 0.03282274 0.00863539]], shape=(1, 4), dtype=float32)\n"
     ]
    },
    {
     "name": "stderr",
     "output_type": "stream",
     "text": [
      " 28%|████████████████████▋                                                    | 8501/30000 [2:57:45<4:22:25,  1.37it/s]"
     ]
    },
    {
     "name": "stdout",
     "output_type": "stream",
     "text": [
      "3.116859426436021\n",
      "100\n"
     ]
    },
    {
     "name": "stderr",
     "output_type": "stream",
     "text": [
      " 29%|████████████████████▉                                                    | 8601/30000 [2:58:22<2:11:29,  2.71it/s]"
     ]
    },
    {
     "name": "stdout",
     "output_type": "stream",
     "text": [
      "4.614586272128422\n",
      "100\n",
      "[0.0, 0.8, 0.1, 0.1]\n",
      "tf.Tensor([[0.18330672 0.27203017 0.28277504 0.26188803]], shape=(1, 4), dtype=float32)\n",
      "[0.0, 0.5, 0.1, 0.1]\n",
      "tf.Tensor([[0.226494   0.29012862 0.2511719  0.23220547]], shape=(1, 4), dtype=float32)\n",
      "[0.0, 0.3, 0.1, 0.1]\n",
      "tf.Tensor([[0.38461405 0.30594486 0.17775755 0.13168354]], shape=(1, 4), dtype=float32)\n",
      "[0.0, 0.2, 0.1, 0.1]\n",
      "tf.Tensor([[0.7491321  0.17456938 0.05515886 0.02113966]], shape=(1, 4), dtype=float32)\n",
      "[0.0, 0.1, 0.1, 0.1]\n",
      "tf.Tensor([[0.7439984  0.17475782 0.05847416 0.02276965]], shape=(1, 4), dtype=float32)\n"
     ]
    },
    {
     "name": "stderr",
     "output_type": "stream",
     "text": [
      " 29%|█████████████████████▏                                                   | 8701/30000 [2:59:02<1:51:15,  3.19it/s]"
     ]
    },
    {
     "name": "stdout",
     "output_type": "stream",
     "text": [
      "4.340395779700364\n",
      "100\n"
     ]
    },
    {
     "name": "stderr",
     "output_type": "stream",
     "text": [
      " 29%|█████████████████████▍                                                   | 8801/30000 [2:59:47<3:07:07,  1.89it/s]"
     ]
    },
    {
     "name": "stdout",
     "output_type": "stream",
     "text": [
      "3.2467770071185207\n",
      "100\n",
      "[0.8, 0.0, 0.6, 0.2]\n",
      "tf.Tensor([[0.14646205 0.26213264 0.3362091  0.25519618]], shape=(1, 4), dtype=float32)\n",
      "[0.5, 0.0, 0.6, 0.2]\n",
      "tf.Tensor([[0.18633275 0.27124757 0.29848585 0.24393383]], shape=(1, 4), dtype=float32)\n",
      "[0.5, 0.3, 0.6, 0.2]\n",
      "tf.Tensor([[0.44378477 0.29034418 0.16919643 0.09667463]], shape=(1, 4), dtype=float32)\n",
      "[0.5, 0.2, 0.6, 0.2]\n",
      "tf.Tensor([[0.85694104 0.10891625 0.02821588 0.0059268 ]], shape=(1, 4), dtype=float32)\n"
     ]
    },
    {
     "name": "stderr",
     "output_type": "stream",
     "text": [
      " 30%|█████████████████████▋                                                   | 8901/30000 [3:00:28<1:45:48,  3.32it/s]"
     ]
    },
    {
     "name": "stdout",
     "output_type": "stream",
     "text": [
      "3.8212312159344264\n",
      "100\n"
     ]
    },
    {
     "name": "stderr",
     "output_type": "stream",
     "text": [
      " 30%|█████████████████████▉                                                   | 9001/30000 [3:01:13<2:03:08,  2.84it/s]"
     ]
    },
    {
     "name": "stdout",
     "output_type": "stream",
     "text": [
      "4.118571226759078\n",
      "100\n",
      "[0.0, 0.7, 0.6, 0.2]\n",
      "tf.Tensor([[0.1209182  0.24725994 0.3879276  0.24389432]], shape=(1, 4), dtype=float32)\n",
      "[0.3, 0.7, 0.6, 0.2]\n",
      "tf.Tensor([[0.13564831 0.25311068 0.3595593  0.25168177]], shape=(1, 4), dtype=float32)\n",
      "[0.3, 0.4, 0.6, 0.2]\n",
      "tf.Tensor([[0.27303445 0.28606158 0.2669959  0.17390807]], shape=(1, 4), dtype=float32)\n",
      "[0.5, 0.4, 0.6, 0.2]\n",
      "tf.Tensor([[0.8257999  0.1235183  0.04007262 0.01060917]], shape=(1, 4), dtype=float32)\n",
      "[0.5, 0.3, 0.6, 0.2]\n",
      "tf.Tensor([[0.84964997 0.11076658 0.03188553 0.00769794]], shape=(1, 4), dtype=float32)\n",
      "[0.5, 0.2, 0.6, 0.2]\n",
      "tf.Tensor([[0.8578292  0.10490927 0.03030651 0.00695505]], shape=(1, 4), dtype=float32)\n"
     ]
    },
    {
     "name": "stderr",
     "output_type": "stream",
     "text": [
      " 30%|██████████████████████▏                                                  | 9101/30000 [3:01:50<2:39:26,  2.18it/s]"
     ]
    },
    {
     "name": "stdout",
     "output_type": "stream",
     "text": [
      "3.7484863942254463\n",
      "100\n"
     ]
    },
    {
     "name": "stderr",
     "output_type": "stream",
     "text": [
      " 31%|██████████████████████▍                                                  | 9200/30000 [3:02:27<2:15:14,  2.56it/s]"
     ]
    },
    {
     "name": "stdout",
     "output_type": "stream",
     "text": [
      "4.157440157202429\n",
      "100\n",
      "[0.8, 0.9, 0.1, 0.1]\n",
      "tf.Tensor([[0.0915315  0.23473449 0.44435862 0.22937542]], shape=(1, 4), dtype=float32)\n",
      "[0.8, 0.6, 0.1, 0.1]\n",
      "tf.Tensor([[0.11237508 0.25107667 0.3967134  0.23983485]], shape=(1, 4), dtype=float32)\n",
      "[0.5, 0.6, 0.1, 0.1]\n",
      "tf.Tensor([[0.40006852 0.29240942 0.20705345 0.10046852]], shape=(1, 4), dtype=float32)\n",
      "[0.5, 0.5, 0.1, 0.1]\n",
      "tf.Tensor([[0.9066147  0.07346153 0.01719576 0.00272802]], shape=(1, 4), dtype=float32)\n",
      "[0.4, 0.5, 0.1, 0.1]\n",
      "tf.Tensor([[0.9012508  0.07720599 0.0184175  0.00312576]], shape=(1, 4), dtype=float32)\n",
      "[0.4, 0.4, 0.1, 0.1]\n",
      "tf.Tensor([[0.88417244 0.0883914  0.02303541 0.00440077]], shape=(1, 4), dtype=float32)\n",
      "[0.3, 0.4, 0.1, 0.1]\n",
      "tf.Tensor([[0.8806587  0.09084526 0.02375235 0.00474366]], shape=(1, 4), dtype=float32)\n",
      "[0.3, 0.3, 0.1, 0.1]\n",
      "tf.Tensor([[0.86308396 0.10247821 0.02806083 0.00637699]], shape=(1, 4), dtype=float32)\n",
      "[0.3, 0.2, 0.1, 0.1]\n",
      "tf.Tensor([[0.8631881  0.1019429  0.02863153 0.00623751]], shape=(1, 4), dtype=float32)\n",
      "[0.2, 0.2, 0.1, 0.1]\n"
     ]
    },
    {
     "name": "stderr",
     "output_type": "stream",
     "text": [
      "\r",
      " 31%|██████████████████████▍                                                  | 9201/30000 [3:02:27<2:32:55,  2.27it/s]"
     ]
    },
    {
     "name": "stdout",
     "output_type": "stream",
     "text": [
      "tf.Tensor([[0.84139204 0.11580043 0.03414861 0.00865893]], shape=(1, 4), dtype=float32)\n",
      "[0.2, 0.1, 0.1, 0.1]\n",
      "tf.Tensor([[0.84121567 0.11536413 0.03493282 0.00848737]], shape=(1, 4), dtype=float32)\n"
     ]
    },
    {
     "name": "stderr",
     "output_type": "stream",
     "text": [
      " 31%|██████████████████████▋                                                  | 9301/30000 [3:03:06<2:40:25,  2.15it/s]"
     ]
    },
    {
     "name": "stdout",
     "output_type": "stream",
     "text": [
      "3.330848219951396\n",
      "100\n"
     ]
    },
    {
     "name": "stderr",
     "output_type": "stream",
     "text": [
      " 31%|██████████████████████▉                                                  | 9401/30000 [3:03:44<2:03:41,  2.78it/s]"
     ]
    },
    {
     "name": "stdout",
     "output_type": "stream",
     "text": [
      "3.8619229408254196\n",
      "99\n",
      "[0.2, 0.0, 0.7, 0.4]\n",
      "tf.Tensor([[0.07114971 0.23385192 0.48913977 0.20585868]], shape=(1, 4), dtype=float32)\n",
      "[0.5, 0.0, 0.7, 0.4]\n",
      "tf.Tensor([[0.07772843 0.23878346 0.46828645 0.21520159]], shape=(1, 4), dtype=float32)\n",
      "[0.5, 0.3, 0.7, 0.4]\n",
      "tf.Tensor([[0.13051523 0.26101407 0.38364416 0.22482648]], shape=(1, 4), dtype=float32)\n",
      "[0.8, 0.3, 0.7, 0.4]\n",
      "tf.Tensor([[0.8385591  0.11427256 0.03797072 0.00919761]], shape=(1, 4), dtype=float32)\n",
      "[0.7, 0.3, 0.7, 0.4]\n",
      "tf.Tensor([[0.8599619  0.10234915 0.03085038 0.00683848]], shape=(1, 4), dtype=float32)\n"
     ]
    },
    {
     "name": "stderr",
     "output_type": "stream",
     "text": [
      " 32%|███████████████████████                                                  | 9501/30000 [3:04:25<2:27:20,  2.32it/s]"
     ]
    },
    {
     "name": "stdout",
     "output_type": "stream",
     "text": [
      "3.8240377728643304\n",
      "100\n"
     ]
    },
    {
     "name": "stderr",
     "output_type": "stream",
     "text": [
      " 32%|███████████████████████▎                                                 | 9601/30000 [3:05:05<2:56:43,  1.92it/s]"
     ]
    },
    {
     "name": "stdout",
     "output_type": "stream",
     "text": [
      "3.4926584890646\n",
      "100\n",
      "[0.5, 0.4, 0.5, 0.7]\n",
      "tf.Tensor([[0.05368528 0.19761717 0.55077565 0.19792193]], shape=(1, 4), dtype=float32)\n"
     ]
    },
    {
     "name": "stderr",
     "output_type": "stream",
     "text": [
      " 32%|███████████████████████▌                                                 | 9701/30000 [3:05:42<2:29:44,  2.26it/s]"
     ]
    },
    {
     "name": "stdout",
     "output_type": "stream",
     "text": [
      "3.2383115814732455\n",
      "100\n"
     ]
    },
    {
     "name": "stderr",
     "output_type": "stream",
     "text": [
      " 33%|███████████████████████▊                                                 | 9801/30000 [3:06:22<2:21:26,  2.38it/s]"
     ]
    },
    {
     "name": "stdout",
     "output_type": "stream",
     "text": [
      "4.092452826479293\n",
      "99\n",
      "[0.5, 0.2, 0.6, 0.2]\n",
      "tf.Tensor([[0.04362666 0.17320798 0.5996953  0.18347009]], shape=(1, 4), dtype=float32)\n",
      "[0.8, 0.2, 0.6, 0.2]\n",
      "tf.Tensor([[0.04716559 0.17807561 0.5873689  0.18738988]], shape=(1, 4), dtype=float32)\n",
      "[0.5, 0.2, 0.6, 0.2]\n",
      "tf.Tensor([[0.12483551 0.23919888 0.44696325 0.18900238]], shape=(1, 4), dtype=float32)\n",
      "[0.8, 0.2, 0.6, 0.2]\n",
      "tf.Tensor([[0.90678215 0.07255825 0.01818761 0.00247193]], shape=(1, 4), dtype=float32)\n",
      "[0.7, 0.2, 0.6, 0.2]\n",
      "tf.Tensor([[0.91410995 0.06780036 0.01606997 0.00201969]], shape=(1, 4), dtype=float32)\n"
     ]
    },
    {
     "name": "stderr",
     "output_type": "stream",
     "text": [
      " 33%|████████████████████████                                                 | 9901/30000 [3:07:01<2:21:47,  2.36it/s]"
     ]
    },
    {
     "name": "stdout",
     "output_type": "stream",
     "text": [
      "3.87384311289318\n",
      "100\n"
     ]
    },
    {
     "name": "stderr",
     "output_type": "stream",
     "text": [
      " 33%|████████████████████████                                                | 10001/30000 [3:07:40<3:09:49,  1.76it/s]"
     ]
    },
    {
     "name": "stdout",
     "output_type": "stream",
     "text": [
      "4.090113990079664\n",
      "100\n",
      "[0.3, 0.3, 0.2, 0.9]\n",
      "tf.Tensor([[0.04146671 0.16533461 0.61048853 0.18271016]], shape=(1, 4), dtype=float32)\n",
      "[0.3, 0.6, 0.2, 0.9]\n",
      "tf.Tensor([[0.04735122 0.17149135 0.5908182  0.19033921]], shape=(1, 4), dtype=float32)\n",
      "[0.3, 0.9, 0.2, 0.9]\n",
      "tf.Tensor([[0.06761519 0.19563766 0.5292198  0.2075274 ]], shape=(1, 4), dtype=float32)\n",
      "[0.0, 0.9, 0.2, 0.9]\n",
      "tf.Tensor([[0.73731905 0.1615246  0.08108852 0.02006777]], shape=(1, 4), dtype=float32)\n",
      "[0.1, 0.9, 0.2, 0.9]\n",
      "tf.Tensor([[0.79275423 0.13440858 0.05993475 0.01290242]], shape=(1, 4), dtype=float32)\n"
     ]
    },
    {
     "name": "stderr",
     "output_type": "stream",
     "text": [
      " 34%|████████████████████████▏                                               | 10101/30000 [3:08:16<2:20:58,  2.35it/s]"
     ]
    },
    {
     "name": "stdout",
     "output_type": "stream",
     "text": [
      "4.344445314751145\n",
      "100\n"
     ]
    },
    {
     "name": "stderr",
     "output_type": "stream",
     "text": [
      " 34%|████████████████████████▍                                               | 10201/30000 [3:08:56<2:16:51,  2.41it/s]"
     ]
    },
    {
     "name": "stdout",
     "output_type": "stream",
     "text": [
      "4.012767821487537\n",
      "100\n",
      "[0.3, 0.7, 0.7, 0.4]\n",
      "tf.Tensor([[0.02998926 0.14871028 0.6576256  0.16367479]], shape=(1, 4), dtype=float32)\n",
      "[0.6, 0.7, 0.7, 0.4]\n",
      "tf.Tensor([[0.03306992 0.15380952 0.64508194 0.16803868]], shape=(1, 4), dtype=float32)\n",
      "[0.6, 0.4, 0.7, 0.4]\n",
      "tf.Tensor([[0.06491884 0.2000597  0.5360747  0.19894676]], shape=(1, 4), dtype=float32)\n",
      "[0.9, 0.4, 0.7, 0.4]\n",
      "tf.Tensor([[0.8465121  0.11118532 0.03651441 0.00578813]], shape=(1, 4), dtype=float32)\n",
      "[0.8, 0.4, 0.7, 0.4]\n",
      "tf.Tensor([[0.8664324  0.09974532 0.02965737 0.00416496]], shape=(1, 4), dtype=float32)\n"
     ]
    },
    {
     "name": "stderr",
     "output_type": "stream",
     "text": [
      " 34%|████████████████████████▋                                               | 10301/30000 [3:09:34<1:46:38,  3.08it/s]"
     ]
    },
    {
     "name": "stdout",
     "output_type": "stream",
     "text": [
      "4.741441507934959\n",
      "100\n"
     ]
    },
    {
     "name": "stderr",
     "output_type": "stream",
     "text": [
      " 35%|████████████████████████▉                                               | 10401/30000 [3:10:13<2:40:12,  2.04it/s]"
     ]
    },
    {
     "name": "stdout",
     "output_type": "stream",
     "text": [
      "3.464741888729425\n",
      "100\n",
      "[0.7, 0.3, 0.7, 0.4]\n",
      "tf.Tensor([[0.02487059 0.14306211 0.68084854 0.1512187 ]], shape=(1, 4), dtype=float32)\n",
      "[0.7, 0.6, 0.7, 0.4]\n",
      "tf.Tensor([[0.02695529 0.14944683 0.6693032  0.15429468]], shape=(1, 4), dtype=float32)\n",
      "[0.7, 0.3, 0.7, 0.4]\n",
      "tf.Tensor([[0.05223446 0.19323628 0.5654753  0.18905398]], shape=(1, 4), dtype=float32)\n",
      "[0.7, 0.6, 0.7, 0.4]\n",
      "tf.Tensor([[0.79181343 0.1497277  0.04883227 0.00962654]], shape=(1, 4), dtype=float32)\n",
      "[0.7, 0.5, 0.7, 0.4]\n",
      "tf.Tensor([[0.80907714 0.14082626 0.0422543  0.00784235]], shape=(1, 4), dtype=float32)\n"
     ]
    },
    {
     "name": "stderr",
     "output_type": "stream",
     "text": [
      " 35%|█████████████████████████▏                                              | 10501/30000 [3:10:53<2:03:21,  2.63it/s]"
     ]
    },
    {
     "name": "stdout",
     "output_type": "stream",
     "text": [
      "3.587287481905\n",
      "99\n"
     ]
    },
    {
     "name": "stderr",
     "output_type": "stream",
     "text": [
      " 35%|█████████████████████████▍                                              | 10601/30000 [3:11:29<1:42:52,  3.14it/s]"
     ]
    },
    {
     "name": "stdout",
     "output_type": "stream",
     "text": [
      "4.693962045816121\n",
      "100\n",
      "[0.1, 0.7, 0.6, 0.2]\n",
      "tf.Tensor([[0.01742029 0.12165206 0.7290305  0.13189715]], shape=(1, 4), dtype=float32)\n",
      "[0.4, 0.7, 0.6, 0.2]\n",
      "tf.Tensor([[0.01912144 0.12594448 0.7186478  0.13628627]], shape=(1, 4), dtype=float32)\n",
      "[0.4, 0.4, 0.6, 0.2]\n",
      "tf.Tensor([[0.03159539 0.15729734 0.64957535 0.16153197]], shape=(1, 4), dtype=float32)\n",
      "[0.7, 0.4, 0.6, 0.2]\n",
      "tf.Tensor([[0.7423382  0.17841464 0.06538583 0.01386134]], shape=(1, 4), dtype=float32)\n",
      "[0.7, 0.3, 0.6, 0.2]\n",
      "tf.Tensor([[0.78071845 0.15926996 0.05008793 0.0099237 ]], shape=(1, 4), dtype=float32)\n",
      "[0.7, 0.2, 0.6, 0.2]\n",
      "tf.Tensor([[0.80050075 0.14732166 0.04450193 0.00767569]], shape=(1, 4), dtype=float32)\n"
     ]
    },
    {
     "name": "stderr",
     "output_type": "stream",
     "text": [
      " 36%|█████████████████████████▋                                              | 10701/30000 [3:12:09<2:07:26,  2.52it/s]"
     ]
    },
    {
     "name": "stdout",
     "output_type": "stream",
     "text": [
      "3.6363280776883897\n",
      "100\n"
     ]
    },
    {
     "name": "stderr",
     "output_type": "stream",
     "text": [
      " 36%|█████████████████████████▉                                              | 10801/30000 [3:12:50<2:15:23,  2.36it/s]"
     ]
    },
    {
     "name": "stdout",
     "output_type": "stream",
     "text": [
      "2.764988187102531\n",
      "100\n",
      "[0.8, 0.7, 0.2, 0.9]\n",
      "tf.Tensor([[0.01077603 0.09461867 0.7838611  0.11074422]], shape=(1, 4), dtype=float32)\n",
      "[0.5, 0.7, 0.2, 0.9]\n",
      "tf.Tensor([[0.0120475  0.10113904 0.7711793  0.11563418]], shape=(1, 4), dtype=float32)\n",
      "[0.2, 0.7, 0.2, 0.9]\n",
      "tf.Tensor([[0.02215528 0.13107945 0.70519066 0.14157458]], shape=(1, 4), dtype=float32)\n",
      "[0.2, 1.0, 0.2, 0.9]\n",
      "tf.Tensor([[0.69020087 0.21213514 0.08318806 0.01447591]], shape=(1, 4), dtype=float32)\n"
     ]
    },
    {
     "name": "stderr",
     "output_type": "stream",
     "text": [
      " 36%|██████████████████████████▏                                             | 10901/30000 [3:13:41<2:20:08,  2.27it/s]"
     ]
    },
    {
     "name": "stdout",
     "output_type": "stream",
     "text": [
      "2.069649048463491\n",
      "98\n"
     ]
    },
    {
     "name": "stderr",
     "output_type": "stream",
     "text": [
      " 37%|██████████████████████████▍                                             | 11000/30000 [3:14:47<3:11:54,  1.65it/s]"
     ]
    },
    {
     "name": "stdout",
     "output_type": "stream",
     "text": [
      "-3.1843480966479176\n",
      "92\n",
      "[0.0, 0.8, 0.5, 0.7]\n",
      "tf.Tensor([[0.00926679 0.09441857 0.78924245 0.10707217]], shape=(1, 4), dtype=float32)\n",
      "[0.3, 0.8, 0.5, 0.7]\n",
      "tf.Tensor([[0.00999655 0.09834219 0.7816029  0.11005839]], shape=(1, 4), dtype=float32)\n",
      "[0.6, 0.8, 0.5, 0.7]\n",
      "tf.Tensor([[0.01349182 0.11166411 0.75343513 0.12140892]], shape=(1, 4), dtype=float32)\n",
      "[0.6, 0.5, 0.5, 0.7]\n",
      "tf.Tensor([[0.15448485 0.29300895 0.46457624 0.0879299 ]], shape=(1, 4), dtype=float32)\n",
      "[0.6, 0.8, 0.5, 0.7]\n",
      "tf.Tensor([[0.1868155  0.31148475 0.42367402 0.07802566]], shape=(1, 4), dtype=float32)\n",
      "[0.6, 0.5, 0.5, 0.7]\n",
      "tf.Tensor([[0.19846253 0.31783107 0.4073127  0.0763937 ]], shape=(1, 4), dtype=float32)\n",
      "[0.6, 0.8, 0.5, 0.7]\n",
      "tf.Tensor([[0.17978449 0.31296864 0.42659488 0.08065198]], shape=(1, 4), dtype=float32)\n",
      "[0.6, 0.5, 0.5, 0.7]\n",
      "tf.Tensor([[0.19846253 0.31783107 0.4073127  0.0763937 ]], shape=(1, 4), dtype=float32)\n",
      "[0.6, 0.8, 0.5, 0.7]\n",
      "tf.Tensor([[0.17978449 0.31296864 0.42659488 0.08065198]], shape=(1, 4), dtype=float32)\n",
      "[0.6, 0.5, 0.5, 0.7]\n",
      "tf.Tensor([[0.19846253 0.31783107 0.4073127  0.0763937 ]], shape=(1, 4), dtype=float32)\n",
      "[0.6, 0.8, 0.5, 0.7]\n",
      "tf.Tensor([[0.17978449 0.31296864 0.42659488 0.08065198]], shape=(1, 4), dtype=float32)\n",
      "[0.6, 0.5, 0.5, 0.7]\n",
      "tf.Tensor([[0.19846253 0.31783107 0.4073127  0.0763937 ]], shape=(1, 4), dtype=float32)\n",
      "[0.6, 0.8, 0.5, 0.7]\n",
      "tf.Tensor([[0.17978449 0.31296864 0.42659488 0.08065198]], shape=(1, 4), dtype=float32)\n",
      "[0.6, 0.5, 0.5, 0.7]\n",
      "tf.Tensor([[0.19846253 0.31783107 0.4073127  0.0763937 ]], shape=(1, 4), dtype=float32)\n",
      "[0.6, 0.8, 0.5, 0.7]\n",
      "tf.Tensor([[0.17978449 0.31296864 0.42659488 0.08065198]], shape=(1, 4), dtype=float32)\n",
      "[0.6, 0.5, 0.5, 0.7]\n",
      "tf.Tensor([[0.19846253 0.31783107 0.4073127  0.0763937 ]], shape=(1, 4), dtype=float32)\n",
      "[0.6, 0.8, 0.5, 0.7]\n",
      "tf.Tensor([[0.17978449 0.31296864 0.42659488 0.08065198]], shape=(1, 4), dtype=float32)\n",
      "[0.6, 0.5, 0.5, 0.7]\n"
     ]
    },
    {
     "name": "stderr",
     "output_type": "stream",
     "text": [
      "\r",
      " 37%|██████████████████████████▍                                             | 11001/30000 [3:14:48<3:13:15,  1.64it/s]"
     ]
    },
    {
     "name": "stdout",
     "output_type": "stream",
     "text": [
      "tf.Tensor([[0.19846253 0.31783107 0.4073127  0.0763937 ]], shape=(1, 4), dtype=float32)\n",
      "[0.6, 0.8, 0.5, 0.7]\n",
      "tf.Tensor([[0.17978449 0.31296864 0.42659488 0.08065198]], shape=(1, 4), dtype=float32)\n",
      "[0.6, 0.5, 0.5, 0.7]\n",
      "tf.Tensor([[0.19846253 0.31783107 0.4073127  0.0763937 ]], shape=(1, 4), dtype=float32)\n"
     ]
    },
    {
     "name": "stderr",
     "output_type": "stream",
     "text": [
      " 37%|██████████████████████████▋                                             | 11101/30000 [3:16:01<3:54:05,  1.35it/s]"
     ]
    },
    {
     "name": "stdout",
     "output_type": "stream",
     "text": [
      "-3.3816052438203625\n",
      "89\n"
     ]
    },
    {
     "name": "stderr",
     "output_type": "stream",
     "text": [
      " 37%|██████████████████████████▉                                             | 11201/30000 [3:17:10<2:50:26,  1.84it/s]"
     ]
    },
    {
     "name": "stdout",
     "output_type": "stream",
     "text": [
      "-1.486592289445861\n",
      "89\n",
      "[0.0, 0.5, 0.6, 0.2]\n",
      "tf.Tensor([[0.00581815 0.08210882 0.82567793 0.08639507]], shape=(1, 4), dtype=float32)\n",
      "[0.3, 0.5, 0.6, 0.2]\n",
      "tf.Tensor([[0.00630252 0.08553246 0.81922656 0.08893845]], shape=(1, 4), dtype=float32)\n",
      "[0.6, 0.5, 0.6, 0.2]\n",
      "tf.Tensor([[0.0085386  0.09746727 0.7949932  0.09900085]], shape=(1, 4), dtype=float32)\n"
     ]
    },
    {
     "name": "stderr",
     "output_type": "stream",
     "text": [
      " 38%|███████████████████████████                                             | 11301/30000 [3:18:31<3:56:14,  1.32it/s]"
     ]
    },
    {
     "name": "stdout",
     "output_type": "stream",
     "text": [
      "-7.055442114914399\n",
      "83\n"
     ]
    },
    {
     "name": "stderr",
     "output_type": "stream",
     "text": [
      " 38%|███████████████████████████▎                                            | 11400/30000 [3:19:45<2:55:08,  1.77it/s]"
     ]
    },
    {
     "name": "stdout",
     "output_type": "stream",
     "text": [
      "-3.540196157589971\n",
      "85\n",
      "[0.7, 0.4, 0.6, 0.2]\n",
      "tf.Tensor([[0.00454718 0.07438719 0.8418929  0.07917269]], shape=(1, 4), dtype=float32)\n",
      "[0.7, 0.1, 0.6, 0.2]\n",
      "tf.Tensor([[0.00529733 0.07881057 0.8317723  0.08411977]], shape=(1, 4), dtype=float32)\n",
      "[0.7, 0.4, 0.6, 0.2]\n",
      "tf.Tensor([[0.00715934 0.09159135 0.807755   0.0934943 ]], shape=(1, 4), dtype=float32)\n",
      "[0.7, 0.1, 0.6, 0.2]\n",
      "tf.Tensor([[0.08541586 0.29777187 0.52165586 0.09515641]], shape=(1, 4), dtype=float32)\n",
      "[0.7, 0.4, 0.6, 0.2]\n",
      "tf.Tensor([[0.06966135 0.27890536 0.5505438  0.10088953]], shape=(1, 4), dtype=float32)\n",
      "[0.7, 0.1, 0.6, 0.2]\n",
      "tf.Tensor([[0.08541586 0.29777187 0.52165586 0.09515641]], shape=(1, 4), dtype=float32)\n",
      "[0.7, 0.4, 0.6, 0.2]\n",
      "tf.Tensor([[0.06966135 0.27890536 0.5505438  0.10088953]], shape=(1, 4), dtype=float32)\n",
      "[0.7, 0.1, 0.6, 0.2]\n",
      "tf.Tensor([[0.08541586 0.29777187 0.52165586 0.09515641]], shape=(1, 4), dtype=float32)\n",
      "[0.7, 0.4, 0.6, 0.2]\n",
      "tf.Tensor([[0.06966135 0.27890536 0.5505438  0.10088953]], shape=(1, 4), dtype=float32)\n",
      "[0.7, 0.1, 0.6, 0.2]\n",
      "tf.Tensor([[0.08541586 0.29777187 0.52165586 0.09515641]], shape=(1, 4), dtype=float32)\n",
      "[0.7, 0.4, 0.6, 0.2]\n",
      "tf.Tensor([[0.06966135 0.27890536 0.5505438  0.10088953]], shape=(1, 4), dtype=float32)\n",
      "[0.7, 0.1, 0.6, 0.2]\n",
      "tf.Tensor([[0.08541586 0.29777187 0.52165586 0.09515641]], shape=(1, 4), dtype=float32)\n",
      "[0.7, 0.4, 0.6, 0.2]\n",
      "tf.Tensor([[0.06966135 0.27890536 0.5505438  0.10088953]], shape=(1, 4), dtype=float32)\n",
      "[0.7, 0.1, 0.6, 0.2]\n",
      "tf.Tensor([[0.08541586 0.29777187 0.52165586 0.09515641]], shape=(1, 4), dtype=float32)\n",
      "[0.7, 0.4, 0.6, 0.2]\n",
      "tf.Tensor([[0.06966135 0.27890536 0.5505438  0.10088953]], shape=(1, 4), dtype=float32)\n",
      "[0.7, 0.1, 0.6, 0.2]\n",
      "tf.Tensor([[0.08541586 0.29777187 0.52165586 0.09515641]], shape=(1, 4), dtype=float32)\n",
      "[0.7, 0.4, 0.6, 0.2]\n"
     ]
    },
    {
     "name": "stderr",
     "output_type": "stream",
     "text": [
      "\r",
      " 38%|███████████████████████████▎                                            | 11401/30000 [3:19:46<2:54:42,  1.77it/s]"
     ]
    },
    {
     "name": "stdout",
     "output_type": "stream",
     "text": [
      "tf.Tensor([[0.06966135 0.27890536 0.5505438  0.10088953]], shape=(1, 4), dtype=float32)\n",
      "[0.7, 0.1, 0.6, 0.2]\n",
      "tf.Tensor([[0.08541586 0.29777187 0.52165586 0.09515641]], shape=(1, 4), dtype=float32)\n",
      "[0.7, 0.4, 0.6, 0.2]\n",
      "tf.Tensor([[0.06966135 0.27890536 0.5505438  0.10088953]], shape=(1, 4), dtype=float32)\n",
      "[0.7, 0.1, 0.6, 0.2]\n",
      "tf.Tensor([[0.08541586 0.29777187 0.52165586 0.09515641]], shape=(1, 4), dtype=float32)\n"
     ]
    },
    {
     "name": "stderr",
     "output_type": "stream",
     "text": [
      " 38%|███████████████████████████▌                                            | 11501/30000 [3:21:04<4:13:47,  1.21it/s]"
     ]
    },
    {
     "name": "stdout",
     "output_type": "stream",
     "text": [
      "-7.183386417185103\n",
      "80\n"
     ]
    },
    {
     "name": "stderr",
     "output_type": "stream",
     "text": [
      " 39%|███████████████████████████▊                                            | 11600/30000 [3:22:23<4:07:40,  1.24it/s]"
     ]
    },
    {
     "name": "stdout",
     "output_type": "stream",
     "text": [
      "-5.935309035778408\n",
      "81\n",
      "[0.7, 0.0, 0.7, 0.1]\n",
      "tf.Tensor([[0.00416132 0.07371236 0.8441451  0.07798118]], shape=(1, 4), dtype=float32)\n",
      "[0.7, 0.3, 0.7, 0.1]\n",
      "tf.Tensor([[0.00438501 0.0766618  0.8398462  0.07910699]], shape=(1, 4), dtype=float32)\n",
      "[0.7, 0.0, 0.7, 0.1]\n",
      "tf.Tensor([[0.00622008 0.0882504  0.8150862  0.09044336]], shape=(1, 4), dtype=float32)\n",
      "[0.7, 0.3, 0.7, 0.1]\n",
      "tf.Tensor([[0.05275206 0.26628292 0.577252   0.10371305]], shape=(1, 4), dtype=float32)\n",
      "[0.7, 0.0, 0.7, 0.1]\n",
      "tf.Tensor([[0.06610497 0.28747693 0.5481411  0.09827702]], shape=(1, 4), dtype=float32)\n",
      "[0.7, 0.3, 0.7, 0.1]\n",
      "tf.Tensor([[0.05275206 0.26628292 0.577252   0.10371305]], shape=(1, 4), dtype=float32)\n",
      "[0.7, 0.0, 0.7, 0.1]\n",
      "tf.Tensor([[0.06610497 0.28747693 0.5481411  0.09827702]], shape=(1, 4), dtype=float32)\n",
      "[0.7, 0.3, 0.7, 0.1]\n",
      "tf.Tensor([[0.05275206 0.26628292 0.577252   0.10371305]], shape=(1, 4), dtype=float32)\n",
      "[0.7, 0.0, 0.7, 0.1]\n",
      "tf.Tensor([[0.06610497 0.28747693 0.5481411  0.09827702]], shape=(1, 4), dtype=float32)\n",
      "[0.7, 0.3, 0.7, 0.1]\n",
      "tf.Tensor([[0.05275206 0.26628292 0.577252   0.10371305]], shape=(1, 4), dtype=float32)\n",
      "[0.7, 0.0, 0.7, 0.1]\n",
      "tf.Tensor([[0.06610497 0.28747693 0.5481411  0.09827702]], shape=(1, 4), dtype=float32)\n",
      "[0.7, 0.3, 0.7, 0.1]\n",
      "tf.Tensor([[0.05275206 0.26628292 0.577252   0.10371305]], shape=(1, 4), dtype=float32)\n",
      "[0.7, 0.0, 0.7, 0.1]\n",
      "tf.Tensor([[0.06610497 0.28747693 0.5481411  0.09827702]], shape=(1, 4), dtype=float32)\n",
      "[0.7, 0.3, 0.7, 0.1]\n",
      "tf.Tensor([[0.05275206 0.26628292 0.577252   0.10371305]], shape=(1, 4), dtype=float32)\n",
      "[0.7, 0.0, 0.7, 0.1]\n",
      "tf.Tensor([[0.06610497 0.28747693 0.5481411  0.09827702]], shape=(1, 4), dtype=float32)\n",
      "[0.7, 0.3, 0.7, 0.1]\n",
      "tf.Tensor([[0.05275206 0.26628292 0.577252   0.10371305]], shape=(1, 4), dtype=float32)\n",
      "[0.7, 0.0, 0.7, 0.1]\n",
      "tf.Tensor([[0.06610497 0.28747693 0.5481411  0.09827702]], shape=(1, 4), dtype=float32)\n"
     ]
    },
    {
     "name": "stderr",
     "output_type": "stream",
     "text": [
      " 39%|███████████████████████████▊                                            | 11602/30000 [3:22:25<4:08:52,  1.23it/s]"
     ]
    },
    {
     "name": "stdout",
     "output_type": "stream",
     "text": [
      "[0.7, 0.3, 0.7, 0.1]\n",
      "tf.Tensor([[0.05275206 0.26628292 0.577252   0.10371305]], shape=(1, 4), dtype=float32)\n",
      "[0.7, 0.0, 0.7, 0.1]\n",
      "tf.Tensor([[0.06610497 0.28747693 0.5481411  0.09827702]], shape=(1, 4), dtype=float32)\n",
      "[0.7, 0.3, 0.7, 0.1]\n",
      "tf.Tensor([[0.05275206 0.26628292 0.577252   0.10371305]], shape=(1, 4), dtype=float32)\n"
     ]
    },
    {
     "name": "stderr",
     "output_type": "stream",
     "text": [
      " 39%|████████████████████████████                                            | 11701/30000 [3:23:48<3:18:01,  1.54it/s]"
     ]
    },
    {
     "name": "stdout",
     "output_type": "stream",
     "text": [
      "-6.837680533718756\n",
      "82\n"
     ]
    },
    {
     "name": "stderr",
     "output_type": "stream",
     "text": [
      " 39%|████████████████████████████▎                                           | 11800/30000 [3:25:02<4:46:13,  1.06it/s]"
     ]
    },
    {
     "name": "stdout",
     "output_type": "stream",
     "text": [
      "-4.881432757206183\n",
      "89\n",
      "[0.6, 0.4, 0.1, 0.1]\n",
      "tf.Tensor([[0.0035683  0.07961632 0.8434901  0.07332519]], shape=(1, 4), dtype=float32)\n",
      "[0.3, 0.4, 0.1, 0.1]\n",
      "tf.Tensor([[0.00425879 0.08660766 0.83150256 0.07763094]], shape=(1, 4), dtype=float32)\n",
      "[0.3, 0.1, 0.1, 0.1]\n",
      "tf.Tensor([[0.00571596 0.10022924 0.80845463 0.08560012]], shape=(1, 4), dtype=float32)\n",
      "[0.0, 0.1, 0.1, 0.1]\n",
      "tf.Tensor([[0.06007289 0.3114061  0.54183847 0.0866825 ]], shape=(1, 4), dtype=float32)\n",
      "[0.3, 0.1, 0.1, 0.1]\n",
      "tf.Tensor([[0.04245231 0.27538037 0.5884684  0.09369893]], shape=(1, 4), dtype=float32)\n",
      "[0.0, 0.1, 0.1, 0.1]\n",
      "tf.Tensor([[0.03157254 0.24008137 0.6229471  0.10539899]], shape=(1, 4), dtype=float32)\n",
      "[0.3, 0.1, 0.1, 0.1]\n",
      "tf.Tensor([[0.02787223 0.23003031 0.6378883  0.10420915]], shape=(1, 4), dtype=float32)\n",
      "[0.0, 0.1, 0.1, 0.1]\n",
      "tf.Tensor([[0.03157254 0.24008137 0.6229471  0.10539899]], shape=(1, 4), dtype=float32)\n",
      "[0.3, 0.1, 0.1, 0.1]\n",
      "tf.Tensor([[0.02787223 0.23003031 0.6378883  0.10420915]], shape=(1, 4), dtype=float32)\n",
      "[0.0, 0.1, 0.1, 0.1]\n",
      "tf.Tensor([[0.03157254 0.24008137 0.6229471  0.10539899]], shape=(1, 4), dtype=float32)\n",
      "[0.3, 0.1, 0.1, 0.1]\n",
      "tf.Tensor([[0.02787223 0.23003031 0.6378883  0.10420915]], shape=(1, 4), dtype=float32)\n",
      "[0.0, 0.1, 0.1, 0.1]\n",
      "tf.Tensor([[0.03157254 0.24008137 0.6229471  0.10539899]], shape=(1, 4), dtype=float32)\n",
      "[0.3, 0.1, 0.1, 0.1]\n",
      "tf.Tensor([[0.02787223 0.23003031 0.6378883  0.10420915]], shape=(1, 4), dtype=float32)\n",
      "[0.0, 0.1, 0.1, 0.1]\n",
      "tf.Tensor([[0.03157254 0.24008137 0.6229471  0.10539899]], shape=(1, 4), dtype=float32)\n",
      "[0.3, 0.1, 0.1, 0.1]\n",
      "tf.Tensor([[0.02787223 0.23003031 0.6378883  0.10420915]], shape=(1, 4), dtype=float32)\n",
      "[0.0, 0.1, 0.1, 0.1]\n",
      "tf.Tensor([[0.03157254 0.24008137 0.6229471  0.10539899]], shape=(1, 4), dtype=float32)\n",
      "[0.3, 0.1, 0.1, 0.1]\n",
      "tf.Tensor([[0.02787223 0.23003031 0.6378883  0.10420915]], shape=(1, 4), dtype=float32)\n"
     ]
    },
    {
     "name": "stderr",
     "output_type": "stream",
     "text": [
      "\r",
      " 39%|████████████████████████████▎                                           | 11801/30000 [3:25:03<4:07:24,  1.23it/s]"
     ]
    },
    {
     "name": "stdout",
     "output_type": "stream",
     "text": [
      "[0.0, 0.1, 0.1, 0.1]\n",
      "tf.Tensor([[0.03157254 0.24008137 0.6229471  0.10539899]], shape=(1, 4), dtype=float32)\n",
      "[0.3, 0.1, 0.1, 0.1]\n",
      "tf.Tensor([[0.02787223 0.23003031 0.6378883  0.10420915]], shape=(1, 4), dtype=float32)\n",
      "[0.0, 0.1, 0.1, 0.1]\n",
      "tf.Tensor([[0.03157254 0.24008137 0.6229471  0.10539899]], shape=(1, 4), dtype=float32)\n"
     ]
    },
    {
     "name": "stderr",
     "output_type": "stream",
     "text": [
      " 40%|████████████████████████████▌                                           | 11901/30000 [3:26:25<3:04:57,  1.63it/s]"
     ]
    },
    {
     "name": "stdout",
     "output_type": "stream",
     "text": [
      "-6.703846688412247\n",
      "80\n"
     ]
    },
    {
     "name": "stderr",
     "output_type": "stream",
     "text": [
      " 40%|████████████████████████████▊                                           | 12000/30000 [3:27:49<4:16:58,  1.17it/s]"
     ]
    },
    {
     "name": "stdout",
     "output_type": "stream",
     "text": [
      "-7.833069061126033\n",
      "74\n",
      "[0.8, 0.3, 0.7, 0.4]\n",
      "tf.Tensor([[0.00331482 0.07657857 0.84844416 0.07166248]], shape=(1, 4), dtype=float32)\n",
      "[0.8, 0.6, 0.7, 0.4]\n",
      "tf.Tensor([[0.00344069 0.07905355 0.8452871  0.07221864]], shape=(1, 4), dtype=float32)\n",
      "[0.8, 0.3, 0.7, 0.4]\n",
      "tf.Tensor([[0.00571133 0.0993205  0.80724037 0.08772777]], shape=(1, 4), dtype=float32)\n",
      "[0.8, 0.6, 0.7, 0.4]\n",
      "tf.Tensor([[0.068393   0.34714553 0.5083038  0.07615769]], shape=(1, 4), dtype=float32)\n",
      "[0.8, 0.3, 0.7, 0.4]\n",
      "tf.Tensor([[0.0756088  0.3565361  0.49371523 0.07413982]], shape=(1, 4), dtype=float32)\n",
      "[0.8, 0.6, 0.7, 0.4]\n",
      "tf.Tensor([[0.068393   0.34714553 0.5083038  0.07615769]], shape=(1, 4), dtype=float32)\n",
      "[0.8, 0.3, 0.7, 0.4]\n",
      "tf.Tensor([[0.0756088  0.3565361  0.49371523 0.07413982]], shape=(1, 4), dtype=float32)\n",
      "[0.8, 0.6, 0.7, 0.4]\n",
      "tf.Tensor([[0.068393   0.34714553 0.5083038  0.07615769]], shape=(1, 4), dtype=float32)\n",
      "[0.8, 0.3, 0.7, 0.4]\n",
      "tf.Tensor([[0.0756088  0.3565361  0.49371523 0.07413982]], shape=(1, 4), dtype=float32)\n",
      "[0.8, 0.6, 0.7, 0.4]\n",
      "tf.Tensor([[0.068393   0.34714553 0.5083038  0.07615769]], shape=(1, 4), dtype=float32)\n",
      "[0.8, 0.3, 0.7, 0.4]\n",
      "tf.Tensor([[0.0756088  0.3565361  0.49371523 0.07413982]], shape=(1, 4), dtype=float32)\n",
      "[0.8, 0.6, 0.7, 0.4]\n",
      "tf.Tensor([[0.068393   0.34714553 0.5083038  0.07615769]], shape=(1, 4), dtype=float32)\n",
      "[0.8, 0.3, 0.7, 0.4]\n",
      "tf.Tensor([[0.0756088  0.3565361  0.49371523 0.07413982]], shape=(1, 4), dtype=float32)\n",
      "[0.8, 0.6, 0.7, 0.4]\n",
      "tf.Tensor([[0.068393   0.34714553 0.5083038  0.07615769]], shape=(1, 4), dtype=float32)\n",
      "[0.8, 0.3, 0.7, 0.4]\n",
      "tf.Tensor([[0.0756088  0.3565361  0.49371523 0.07413982]], shape=(1, 4), dtype=float32)\n",
      "[0.8, 0.6, 0.7, 0.4]\n",
      "tf.Tensor([[0.068393   0.34714553 0.5083038  0.07615769]], shape=(1, 4), dtype=float32)\n"
     ]
    },
    {
     "name": "stderr",
     "output_type": "stream",
     "text": [
      " 40%|████████████████████████████▊                                           | 12002/30000 [3:27:50<2:48:39,  1.78it/s]"
     ]
    },
    {
     "name": "stdout",
     "output_type": "stream",
     "text": [
      "[0.8, 0.3, 0.7, 0.4]\n",
      "tf.Tensor([[0.0756088  0.3565361  0.49371523 0.07413982]], shape=(1, 4), dtype=float32)\n",
      "[0.8, 0.6, 0.7, 0.4]\n",
      "tf.Tensor([[0.068393   0.34714553 0.5083038  0.07615769]], shape=(1, 4), dtype=float32)\n",
      "[0.8, 0.3, 0.7, 0.4]\n",
      "tf.Tensor([[0.0756088  0.3565361  0.49371523 0.07413982]], shape=(1, 4), dtype=float32)\n",
      "[0.8, 0.6, 0.7, 0.4]\n",
      "tf.Tensor([[0.068393   0.34714553 0.5083038  0.07615769]], shape=(1, 4), dtype=float32)\n"
     ]
    },
    {
     "name": "stderr",
     "output_type": "stream",
     "text": [
      " 40%|█████████████████████████████                                           | 12100/30000 [3:29:02<2:49:38,  1.76it/s]"
     ]
    },
    {
     "name": "stdout",
     "output_type": "stream",
     "text": [
      "-1.9933047228952456\n",
      "86\n"
     ]
    },
    {
     "name": "stderr",
     "output_type": "stream",
     "text": [
      " 41%|█████████████████████████████▎                                          | 12200/30000 [3:30:23<3:34:01,  1.39it/s]"
     ]
    },
    {
     "name": "stdout",
     "output_type": "stream",
     "text": [
      "-6.121652267330741\n",
      "81\n",
      "[0.0, 0.8, 0.7, 0.1]\n",
      "tf.Tensor([[0.00362368 0.07878505 0.8419197  0.07567157]], shape=(1, 4), dtype=float32)\n",
      "[0.3, 0.8, 0.7, 0.1]\n",
      "tf.Tensor([[0.0040518  0.08271073 0.83477575 0.07846174]], shape=(1, 4), dtype=float32)\n",
      "[0.3, 0.5, 0.7, 0.1]\n",
      "tf.Tensor([[0.00624431 0.1037748  0.7988655  0.0911154 ]], shape=(1, 4), dtype=float32)\n",
      "[0.6, 0.5, 0.7, 0.1]\n",
      "tf.Tensor([[0.05305775 0.31444997 0.54570997 0.08678234]], shape=(1, 4), dtype=float32)\n",
      "[0.6, 0.2, 0.7, 0.1]\n",
      "tf.Tensor([[0.06250291 0.3439342  0.5127244  0.08083843]], shape=(1, 4), dtype=float32)\n",
      "[0.6, 0.0, 0.7, 0.1]\n",
      "tf.Tensor([[0.068756   0.34670502 0.5076102  0.07692876]], shape=(1, 4), dtype=float32)\n",
      "[0.9, 0.0, 0.7, 0.1]\n",
      "tf.Tensor([[0.07684511 0.36358917 0.4953117  0.06425402]], shape=(1, 4), dtype=float32)\n",
      "[0.6, 0.0, 0.7, 0.1]\n",
      "tf.Tensor([[0.07739805 0.35583693 0.5004597  0.06630533]], shape=(1, 4), dtype=float32)\n",
      "[0.9, 0.0, 0.7, 0.1]\n",
      "tf.Tensor([[0.06972333 0.34258127 0.52665657 0.06103881]], shape=(1, 4), dtype=float32)\n",
      "[0.6, 0.0, 0.7, 0.1]\n",
      "tf.Tensor([[0.07896586 0.3537898  0.5059668  0.06127754]], shape=(1, 4), dtype=float32)\n",
      "[0.9, 0.0, 0.7, 0.1]\n",
      "tf.Tensor([[0.06972333 0.34258127 0.52665657 0.06103881]], shape=(1, 4), dtype=float32)\n",
      "[0.6, 0.0, 0.7, 0.1]\n",
      "tf.Tensor([[0.07896586 0.3537898  0.5059668  0.06127754]], shape=(1, 4), dtype=float32)\n",
      "[0.9, 0.0, 0.7, 0.1]\n",
      "tf.Tensor([[0.06972333 0.34258127 0.52665657 0.06103881]], shape=(1, 4), dtype=float32)\n",
      "[0.6, 0.0, 0.7, 0.1]\n",
      "tf.Tensor([[0.07896586 0.3537898  0.5059668  0.06127754]], shape=(1, 4), dtype=float32)\n",
      "[0.9, 0.0, 0.7, 0.1]\n",
      "tf.Tensor([[0.06972333 0.34258127 0.52665657 0.06103881]], shape=(1, 4), dtype=float32)\n",
      "[0.6, 0.0, 0.7, 0.1]\n",
      "tf.Tensor([[0.07896586 0.3537898  0.5059668  0.06127754]], shape=(1, 4), dtype=float32)\n",
      "[0.9, 0.0, 0.7, 0.1]\n",
      "tf.Tensor([[0.06972333 0.34258127 0.52665657 0.06103881]], shape=(1, 4), dtype=float32)\n"
     ]
    },
    {
     "name": "stderr",
     "output_type": "stream",
     "text": [
      "\r",
      " 41%|█████████████████████████████▎                                          | 12201/30000 [3:30:25<4:49:04,  1.03it/s]"
     ]
    },
    {
     "name": "stdout",
     "output_type": "stream",
     "text": [
      "[0.6, 0.0, 0.7, 0.1]\n",
      "tf.Tensor([[0.07896586 0.3537898  0.5059668  0.06127754]], shape=(1, 4), dtype=float32)\n",
      "[0.9, 0.0, 0.7, 0.1]\n",
      "tf.Tensor([[0.06972333 0.34258127 0.52665657 0.06103881]], shape=(1, 4), dtype=float32)\n",
      "[0.6, 0.0, 0.7, 0.1]\n",
      "tf.Tensor([[0.07896586 0.3537898  0.5059668  0.06127754]], shape=(1, 4), dtype=float32)\n"
     ]
    },
    {
     "name": "stderr",
     "output_type": "stream",
     "text": [
      " 41%|█████████████████████████████▌                                          | 12301/30000 [3:31:43<4:01:57,  1.22it/s]"
     ]
    },
    {
     "name": "stdout",
     "output_type": "stream",
     "text": [
      "-5.188091774275422\n",
      "83\n"
     ]
    },
    {
     "name": "stderr",
     "output_type": "stream",
     "text": [
      " 41%|█████████████████████████████▊                                          | 12400/30000 [3:32:51<3:45:53,  1.30it/s]"
     ]
    },
    {
     "name": "stdout",
     "output_type": "stream",
     "text": [
      "-1.2493420429865323\n",
      "91\n",
      "[0.5, 0.4, 0.1, 0.1]\n",
      "tf.Tensor([[0.00289141 0.07638989 0.8521591  0.06855961]], shape=(1, 4), dtype=float32)\n",
      "[0.2, 0.4, 0.1, 0.1]\n",
      "tf.Tensor([[0.00355299 0.08472367 0.83899397 0.07272942]], shape=(1, 4), dtype=float32)\n",
      "[0.2, 0.1, 0.1, 0.1]\n",
      "tf.Tensor([[0.00489397 0.10116322 0.8139139  0.08002894]], shape=(1, 4), dtype=float32)\n",
      "[0.0, 0.1, 0.1, 0.1]\n",
      "tf.Tensor([[0.04332825 0.32014233 0.5570487  0.07948074]], shape=(1, 4), dtype=float32)\n",
      "[0.3, 0.1, 0.1, 0.1]\n",
      "tf.Tensor([[0.03235748 0.2853414  0.5990518  0.08324931]], shape=(1, 4), dtype=float32)\n",
      "[0.0, 0.1, 0.1, 0.1]\n",
      "tf.Tensor([[0.02451964 0.24440949 0.63790214 0.09316878]], shape=(1, 4), dtype=float32)\n",
      "[0.3, 0.1, 0.1, 0.1]\n",
      "tf.Tensor([[0.02404897 0.24688953 0.63980365 0.08925789]], shape=(1, 4), dtype=float32)\n",
      "[0.0, 0.1, 0.1, 0.1]\n",
      "tf.Tensor([[0.02715661 0.25796464 0.6240703  0.09080841]], shape=(1, 4), dtype=float32)\n",
      "[0.3, 0.1, 0.1, 0.1]\n",
      "tf.Tensor([[0.02404897 0.24688953 0.63980365 0.08925789]], shape=(1, 4), dtype=float32)\n",
      "[0.0, 0.1, 0.1, 0.1]\n",
      "tf.Tensor([[0.02715661 0.25796464 0.6240703  0.09080841]], shape=(1, 4), dtype=float32)\n",
      "[0.3, 0.1, 0.1, 0.1]\n",
      "tf.Tensor([[0.02404897 0.24688953 0.63980365 0.08925789]], shape=(1, 4), dtype=float32)\n",
      "[0.0, 0.1, 0.1, 0.1]\n",
      "tf.Tensor([[0.02715661 0.25796464 0.6240703  0.09080841]], shape=(1, 4), dtype=float32)\n",
      "[0.3, 0.1, 0.1, 0.1]\n",
      "tf.Tensor([[0.02404897 0.24688953 0.63980365 0.08925789]], shape=(1, 4), dtype=float32)\n",
      "[0.0, 0.1, 0.1, 0.1]\n",
      "tf.Tensor([[0.02715661 0.25796464 0.6240703  0.09080841]], shape=(1, 4), dtype=float32)\n",
      "[0.3, 0.1, 0.1, 0.1]\n",
      "tf.Tensor([[0.02404897 0.24688953 0.63980365 0.08925789]], shape=(1, 4), dtype=float32)\n",
      "[0.0, 0.1, 0.1, 0.1]\n",
      "tf.Tensor([[0.02715661 0.25796464 0.6240703  0.09080841]], shape=(1, 4), dtype=float32)\n",
      "[0.3, 0.1, 0.1, 0.1]\n",
      "tf.Tensor([[0.02404897 0.24688953 0.63980365 0.08925789]], shape=(1, 4), dtype=float32)\n"
     ]
    },
    {
     "name": "stderr",
     "output_type": "stream",
     "text": [
      "\r",
      " 41%|█████████████████████████████▊                                          | 12401/30000 [3:32:52<3:19:18,  1.47it/s]"
     ]
    },
    {
     "name": "stdout",
     "output_type": "stream",
     "text": [
      "[0.0, 0.1, 0.1, 0.1]\n",
      "tf.Tensor([[0.02715661 0.25796464 0.6240703  0.09080841]], shape=(1, 4), dtype=float32)\n",
      "[0.3, 0.1, 0.1, 0.1]\n",
      "tf.Tensor([[0.02404897 0.24688953 0.63980365 0.08925789]], shape=(1, 4), dtype=float32)\n",
      "[0.0, 0.1, 0.1, 0.1]\n",
      "tf.Tensor([[0.02715661 0.25796464 0.6240703  0.09080841]], shape=(1, 4), dtype=float32)\n"
     ]
    },
    {
     "name": "stderr",
     "output_type": "stream",
     "text": [
      " 42%|██████████████████████████████                                          | 12501/30000 [3:34:08<4:54:43,  1.01s/it]"
     ]
    },
    {
     "name": "stdout",
     "output_type": "stream",
     "text": [
      "-4.894050919152872\n",
      "83\n"
     ]
    },
    {
     "name": "stderr",
     "output_type": "stream",
     "text": [
      " 42%|██████████████████████████████▏                                         | 12600/30000 [3:35:29<5:06:29,  1.06s/it]"
     ]
    },
    {
     "name": "stdout",
     "output_type": "stream",
     "text": [
      "-5.688929528207624\n",
      "81\n",
      "[0.1, 0.0, 0.7, 0.4]\n",
      "tf.Tensor([[0.00329518 0.08078997 0.83941984 0.07649496]], shape=(1, 4), dtype=float32)\n",
      "[0.4, 0.0, 0.7, 0.4]\n",
      "tf.Tensor([[0.00367704 0.0829019  0.8336277  0.07979338]], shape=(1, 4), dtype=float32)\n",
      "[0.4, 0.3, 0.7, 0.4]\n",
      "tf.Tensor([[0.00482849 0.09647255 0.8096468  0.08905216]], shape=(1, 4), dtype=float32)\n",
      "[0.7, 0.3, 0.7, 0.4]\n",
      "tf.Tensor([[0.02386401 0.21994725 0.63665783 0.11953092]], shape=(1, 4), dtype=float32)\n",
      "[0.7, 0.6, 0.7, 0.4]\n",
      "tf.Tensor([[0.02944598 0.25697324 0.60574406 0.10783675]], shape=(1, 4), dtype=float32)\n",
      "[0.7, 0.3, 0.7, 0.4]\n",
      "tf.Tensor([[0.04612309 0.3126318  0.5470104  0.0942347 ]], shape=(1, 4), dtype=float32)\n",
      "[0.7, 0.6, 0.7, 0.4]\n",
      "tf.Tensor([[0.04882921 0.3292731  0.5312159  0.09068178]], shape=(1, 4), dtype=float32)\n",
      "[0.7, 0.3, 0.7, 0.4]\n",
      "tf.Tensor([[0.05421762 0.339665   0.5175437  0.0885737 ]], shape=(1, 4), dtype=float32)\n",
      "[0.7, 0.6, 0.7, 0.4]\n",
      "tf.Tensor([[0.04882921 0.3292731  0.5312159  0.09068178]], shape=(1, 4), dtype=float32)\n",
      "[0.7, 0.3, 0.7, 0.4]\n",
      "tf.Tensor([[0.05421762 0.339665   0.5175437  0.0885737 ]], shape=(1, 4), dtype=float32)\n",
      "[0.7, 0.6, 0.7, 0.4]\n",
      "tf.Tensor([[0.04882921 0.3292731  0.5312159  0.09068178]], shape=(1, 4), dtype=float32)\n",
      "[0.7, 0.3, 0.7, 0.4]\n",
      "tf.Tensor([[0.05421762 0.339665   0.5175437  0.0885737 ]], shape=(1, 4), dtype=float32)\n",
      "[0.7, 0.6, 0.7, 0.4]\n",
      "tf.Tensor([[0.04882921 0.3292731  0.5312159  0.09068178]], shape=(1, 4), dtype=float32)\n",
      "[0.7, 0.3, 0.7, 0.4]\n",
      "tf.Tensor([[0.05421762 0.339665   0.5175437  0.0885737 ]], shape=(1, 4), dtype=float32)\n",
      "[0.7, 0.6, 0.7, 0.4]\n",
      "tf.Tensor([[0.04882921 0.3292731  0.5312159  0.09068178]], shape=(1, 4), dtype=float32)\n",
      "[0.7, 0.3, 0.7, 0.4]\n",
      "tf.Tensor([[0.05421762 0.339665   0.5175437  0.0885737 ]], shape=(1, 4), dtype=float32)\n",
      "[0.7, 0.6, 0.7, 0.4]\n",
      "tf.Tensor([[0.04882921 0.3292731  0.5312159  0.09068178]], shape=(1, 4), dtype=float32)\n"
     ]
    },
    {
     "name": "stderr",
     "output_type": "stream",
     "text": [
      "\r",
      " 42%|██████████████████████████████▏                                         | 12601/30000 [3:35:29<4:11:23,  1.15it/s]"
     ]
    },
    {
     "name": "stdout",
     "output_type": "stream",
     "text": [
      "[0.7, 0.3, 0.7, 0.4]\n",
      "tf.Tensor([[0.05421762 0.339665   0.5175437  0.0885737 ]], shape=(1, 4), dtype=float32)\n",
      "[0.7, 0.6, 0.7, 0.4]\n",
      "tf.Tensor([[0.04882921 0.3292731  0.5312159  0.09068178]], shape=(1, 4), dtype=float32)\n",
      "[0.7, 0.3, 0.7, 0.4]\n",
      "tf.Tensor([[0.05421762 0.339665   0.5175437  0.0885737 ]], shape=(1, 4), dtype=float32)\n"
     ]
    },
    {
     "name": "stderr",
     "output_type": "stream",
     "text": [
      " 42%|██████████████████████████████▍                                         | 12701/30000 [3:36:45<3:49:07,  1.26it/s]"
     ]
    },
    {
     "name": "stdout",
     "output_type": "stream",
     "text": [
      "-6.077898159340782\n",
      "85\n"
     ]
    },
    {
     "name": "stderr",
     "output_type": "stream",
     "text": [
      " 43%|██████████████████████████████▋                                         | 12800/30000 [3:37:56<2:17:26,  2.09it/s]"
     ]
    },
    {
     "name": "stdout",
     "output_type": "stream",
     "text": [
      "-3.1669196167043867\n",
      "84\n",
      "[0.4, 0.2, 0.6, 0.2]\n",
      "tf.Tensor([[0.00334899 0.08765223 0.83148915 0.07750966]], shape=(1, 4), dtype=float32)\n",
      "[0.7, 0.2, 0.6, 0.2]\n",
      "tf.Tensor([[0.00335742 0.08805174 0.83147734 0.07711349]], shape=(1, 4), dtype=float32)\n",
      "[0.4, 0.2, 0.6, 0.2]\n",
      "tf.Tensor([[0.00537635 0.11308809 0.79196066 0.08957493]], shape=(1, 4), dtype=float32)\n",
      "[0.7, 0.2, 0.6, 0.2]\n",
      "tf.Tensor([[0.04849023 0.3439025  0.5303838  0.07722341]], shape=(1, 4), dtype=float32)\n",
      "[0.4, 0.2, 0.6, 0.2]\n",
      "tf.Tensor([[0.0522232  0.35117814 0.51732856 0.07927005]], shape=(1, 4), dtype=float32)\n",
      "[0.7, 0.2, 0.6, 0.2]\n",
      "tf.Tensor([[0.04849023 0.3439025  0.5303838  0.07722341]], shape=(1, 4), dtype=float32)\n",
      "[0.4, 0.2, 0.6, 0.2]\n",
      "tf.Tensor([[0.0522232  0.35117814 0.51732856 0.07927005]], shape=(1, 4), dtype=float32)\n",
      "[0.7, 0.2, 0.6, 0.2]\n",
      "tf.Tensor([[0.04849023 0.3439025  0.5303838  0.07722341]], shape=(1, 4), dtype=float32)\n",
      "[0.4, 0.2, 0.6, 0.2]\n",
      "tf.Tensor([[0.0522232  0.35117814 0.51732856 0.07927005]], shape=(1, 4), dtype=float32)\n",
      "[0.7, 0.2, 0.6, 0.2]\n",
      "tf.Tensor([[0.04849023 0.3439025  0.5303838  0.07722341]], shape=(1, 4), dtype=float32)\n",
      "[0.4, 0.2, 0.6, 0.2]\n",
      "tf.Tensor([[0.0522232  0.35117814 0.51732856 0.07927005]], shape=(1, 4), dtype=float32)\n",
      "[0.7, 0.2, 0.6, 0.2]\n",
      "tf.Tensor([[0.04849023 0.3439025  0.5303838  0.07722341]], shape=(1, 4), dtype=float32)\n",
      "[0.4, 0.2, 0.6, 0.2]\n",
      "tf.Tensor([[0.0522232  0.35117814 0.51732856 0.07927005]], shape=(1, 4), dtype=float32)\n",
      "[0.7, 0.2, 0.6, 0.2]\n",
      "tf.Tensor([[0.04849023 0.3439025  0.5303838  0.07722341]], shape=(1, 4), dtype=float32)\n",
      "[0.4, 0.2, 0.6, 0.2]\n",
      "tf.Tensor([[0.0522232  0.35117814 0.51732856 0.07927005]], shape=(1, 4), dtype=float32)\n",
      "[0.7, 0.2, 0.6, 0.2]\n",
      "tf.Tensor([[0.04849023 0.3439025  0.5303838  0.07722341]], shape=(1, 4), dtype=float32)\n",
      "[0.4, 0.2, 0.6, 0.2]\n",
      "tf.Tensor([[0.0522232  0.35117814 0.51732856 0.07927005]], shape=(1, 4), dtype=float32)\n",
      "[0.7, 0.2, 0.6, 0.2]\n"
     ]
    },
    {
     "name": "stderr",
     "output_type": "stream",
     "text": [
      "\r",
      " 43%|██████████████████████████████▋                                         | 12801/30000 [3:37:57<3:10:40,  1.50it/s]"
     ]
    },
    {
     "name": "stdout",
     "output_type": "stream",
     "text": [
      "tf.Tensor([[0.04849023 0.3439025  0.5303838  0.07722341]], shape=(1, 4), dtype=float32)\n",
      "[0.4, 0.2, 0.6, 0.2]\n",
      "tf.Tensor([[0.0522232  0.35117814 0.51732856 0.07927005]], shape=(1, 4), dtype=float32)\n",
      "[0.7, 0.2, 0.6, 0.2]\n",
      "tf.Tensor([[0.04849023 0.3439025  0.5303838  0.07722341]], shape=(1, 4), dtype=float32)\n"
     ]
    },
    {
     "name": "stderr",
     "output_type": "stream",
     "text": [
      " 43%|██████████████████████████████▉                                         | 12901/30000 [3:39:07<2:28:37,  1.92it/s]"
     ]
    },
    {
     "name": "stdout",
     "output_type": "stream",
     "text": [
      "-2.4209375502228516\n",
      "87\n"
     ]
    },
    {
     "name": "stderr",
     "output_type": "stream",
     "text": [
      " 43%|███████████████████████████████▏                                        | 13000/30000 [3:40:13<3:48:21,  1.24it/s]"
     ]
    },
    {
     "name": "stdout",
     "output_type": "stream",
     "text": [
      "-3.475414833777325\n",
      "85\n",
      "[0.8, 0.4, 0.2, 0.9]\n",
      "tf.Tensor([[0.00292178 0.07973427 0.8439744  0.07336956]], shape=(1, 4), dtype=float32)\n",
      "[0.5, 0.4, 0.2, 0.9]\n",
      "tf.Tensor([[0.00366657 0.08664744 0.8300669  0.07961907]], shape=(1, 4), dtype=float32)\n",
      "[0.5, 0.7, 0.2, 0.9]\n",
      "tf.Tensor([[0.00509538 0.10652076 0.80063903 0.08774487]], shape=(1, 4), dtype=float32)\n",
      "[0.2, 0.7, 0.2, 0.9]\n",
      "tf.Tensor([[0.0548854  0.34234804 0.5142473  0.08851925]], shape=(1, 4), dtype=float32)\n",
      "[0.2, 1.0, 0.2, 0.9]\n",
      "tf.Tensor([[0.04373811 0.31630418 0.5377338  0.10222396]], shape=(1, 4), dtype=float32)\n",
      "[0.2, 0.7, 0.2, 0.9]\n",
      "tf.Tensor([[0.04574573 0.3172421  0.5321132  0.10489897]], shape=(1, 4), dtype=float32)\n",
      "[0.2, 1.0, 0.2, 0.9]\n",
      "tf.Tensor([[0.04189258 0.30197227 0.5453084  0.11082675]], shape=(1, 4), dtype=float32)\n",
      "[0.2, 0.7, 0.2, 0.9]\n",
      "tf.Tensor([[0.04583342 0.30917877 0.53452414 0.11046363]], shape=(1, 4), dtype=float32)\n",
      "[0.2, 1.0, 0.2, 0.9]\n",
      "tf.Tensor([[0.04189258 0.30197227 0.5453084  0.11082675]], shape=(1, 4), dtype=float32)\n",
      "[0.2, 0.7, 0.2, 0.9]\n",
      "tf.Tensor([[0.04583342 0.30917877 0.53452414 0.11046363]], shape=(1, 4), dtype=float32)\n",
      "[0.2, 1.0, 0.2, 0.9]\n",
      "tf.Tensor([[0.04189258 0.30197227 0.5453084  0.11082675]], shape=(1, 4), dtype=float32)\n",
      "[0.2, 0.7, 0.2, 0.9]\n",
      "tf.Tensor([[0.04583342 0.30917877 0.53452414 0.11046363]], shape=(1, 4), dtype=float32)\n",
      "[0.2, 1.0, 0.2, 0.9]\n",
      "tf.Tensor([[0.04189258 0.30197227 0.5453084  0.11082675]], shape=(1, 4), dtype=float32)\n",
      "[0.2, 0.7, 0.2, 0.9]\n",
      "tf.Tensor([[0.04583342 0.30917877 0.53452414 0.11046363]], shape=(1, 4), dtype=float32)\n",
      "[0.2, 1.0, 0.2, 0.9]\n",
      "tf.Tensor([[0.04189258 0.30197227 0.5453084  0.11082675]], shape=(1, 4), dtype=float32)\n",
      "[0.2, 0.7, 0.2, 0.9]\n",
      "tf.Tensor([[0.04583342 0.30917877 0.53452414 0.11046363]], shape=(1, 4), dtype=float32)\n",
      "[0.2, 1.0, 0.2, 0.9]\n",
      "tf.Tensor([[0.04189258 0.30197227 0.5453084  0.11082675]], shape=(1, 4), dtype=float32)\n"
     ]
    },
    {
     "name": "stderr",
     "output_type": "stream",
     "text": [
      "\r",
      " 43%|███████████████████████████████▏                                        | 13001/30000 [3:40:14<3:59:46,  1.18it/s]"
     ]
    },
    {
     "name": "stdout",
     "output_type": "stream",
     "text": [
      "[0.2, 0.7, 0.2, 0.9]\n",
      "tf.Tensor([[0.04583342 0.30917877 0.53452414 0.11046363]], shape=(1, 4), dtype=float32)\n",
      "[0.2, 1.0, 0.2, 0.9]\n",
      "tf.Tensor([[0.04189258 0.30197227 0.5453084  0.11082675]], shape=(1, 4), dtype=float32)\n",
      "[0.2, 0.7, 0.2, 0.9]\n",
      "tf.Tensor([[0.04583342 0.30917877 0.53452414 0.11046363]], shape=(1, 4), dtype=float32)\n"
     ]
    },
    {
     "name": "stderr",
     "output_type": "stream",
     "text": [
      " 44%|███████████████████████████████▍                                        | 13101/30000 [3:41:20<4:12:38,  1.11it/s]"
     ]
    },
    {
     "name": "stdout",
     "output_type": "stream",
     "text": [
      "-2.1037175651163245\n",
      "90\n"
     ]
    },
    {
     "name": "stderr",
     "output_type": "stream",
     "text": [
      " 44%|███████████████████████████████▋                                        | 13200/30000 [3:42:23<1:46:40,  2.62it/s]"
     ]
    },
    {
     "name": "stdout",
     "output_type": "stream",
     "text": [
      "-0.41263896881057005\n",
      "93\n",
      "[0.6, 0.6, 0.7, 0.4]\n",
      "tf.Tensor([[0.00256109 0.07498582 0.8545001  0.067953  ]], shape=(1, 4), dtype=float32)\n",
      "[0.6, 0.3, 0.7, 0.4]\n",
      "tf.Tensor([[0.00292346 0.08133893 0.84431064 0.07142693]], shape=(1, 4), dtype=float32)\n",
      "[0.9, 0.3, 0.7, 0.4]\n",
      "tf.Tensor([[0.00420382 0.10183709 0.81515795 0.07880113]], shape=(1, 4), dtype=float32)\n",
      "[0.6, 0.3, 0.7, 0.4]\n",
      "tf.Tensor([[0.05393035 0.3668087  0.5098481  0.06941278]], shape=(1, 4), dtype=float32)\n",
      "[0.9, 0.3, 0.7, 0.4]\n",
      "tf.Tensor([[0.05255947 0.36069325 0.524673   0.06207427]], shape=(1, 4), dtype=float32)\n",
      "[0.6, 0.3, 0.7, 0.4]\n",
      "tf.Tensor([[0.05667103 0.36868152 0.51092345 0.06372403]], shape=(1, 4), dtype=float32)\n",
      "[0.9, 0.3, 0.7, 0.4]\n",
      "tf.Tensor([[0.05255947 0.36069325 0.524673   0.06207427]], shape=(1, 4), dtype=float32)\n",
      "[0.6, 0.3, 0.7, 0.4]\n",
      "tf.Tensor([[0.05667103 0.36868152 0.51092345 0.06372403]], shape=(1, 4), dtype=float32)\n",
      "[0.9, 0.3, 0.7, 0.4]\n",
      "tf.Tensor([[0.05255947 0.36069325 0.524673   0.06207427]], shape=(1, 4), dtype=float32)\n",
      "[0.6, 0.3, 0.7, 0.4]\n",
      "tf.Tensor([[0.05667103 0.36868152 0.51092345 0.06372403]], shape=(1, 4), dtype=float32)\n",
      "[0.9, 0.3, 0.7, 0.4]\n",
      "tf.Tensor([[0.05255947 0.36069325 0.524673   0.06207427]], shape=(1, 4), dtype=float32)\n",
      "[0.6, 0.3, 0.7, 0.4]\n",
      "tf.Tensor([[0.05667103 0.36868152 0.51092345 0.06372403]], shape=(1, 4), dtype=float32)\n",
      "[0.9, 0.3, 0.7, 0.4]\n",
      "tf.Tensor([[0.05255947 0.36069325 0.524673   0.06207427]], shape=(1, 4), dtype=float32)\n",
      "[0.6, 0.3, 0.7, 0.4]\n",
      "tf.Tensor([[0.05667103 0.36868152 0.51092345 0.06372403]], shape=(1, 4), dtype=float32)\n",
      "[0.9, 0.3, 0.7, 0.4]\n",
      "tf.Tensor([[0.05255947 0.36069325 0.524673   0.06207427]], shape=(1, 4), dtype=float32)\n",
      "[0.6, 0.3, 0.7, 0.4]\n",
      "tf.Tensor([[0.05667103 0.36868152 0.51092345 0.06372403]], shape=(1, 4), dtype=float32)\n",
      "[0.9, 0.3, 0.7, 0.4]\n"
     ]
    },
    {
     "name": "stderr",
     "output_type": "stream",
     "text": [
      "\r",
      " 44%|███████████████████████████████▋                                        | 13201/30000 [3:42:25<3:36:34,  1.29it/s]"
     ]
    },
    {
     "name": "stdout",
     "output_type": "stream",
     "text": [
      "tf.Tensor([[0.05255947 0.36069325 0.524673   0.06207427]], shape=(1, 4), dtype=float32)\n",
      "[0.6, 0.3, 0.7, 0.4]\n",
      "tf.Tensor([[0.05667103 0.36868152 0.51092345 0.06372403]], shape=(1, 4), dtype=float32)\n",
      "[0.9, 0.3, 0.7, 0.4]\n",
      "tf.Tensor([[0.05255947 0.36069325 0.524673   0.06207427]], shape=(1, 4), dtype=float32)\n",
      "[0.6, 0.3, 0.7, 0.4]\n",
      "tf.Tensor([[0.05667103 0.36868152 0.51092345 0.06372403]], shape=(1, 4), dtype=float32)\n"
     ]
    },
    {
     "name": "stderr",
     "output_type": "stream",
     "text": [
      " 44%|███████████████████████████████▉                                        | 13301/30000 [3:43:44<4:22:13,  1.06it/s]"
     ]
    },
    {
     "name": "stdout",
     "output_type": "stream",
     "text": [
      "-5.717389221273984\n",
      "82\n"
     ]
    },
    {
     "name": "stderr",
     "output_type": "stream",
     "text": [
      " 45%|████████████████████████████████▏                                       | 13400/30000 [3:44:55<2:56:53,  1.56it/s]"
     ]
    },
    {
     "name": "stdout",
     "output_type": "stream",
     "text": [
      "-2.8536000980985357\n",
      "90\n",
      "[0.9, 0.9, 0.7, 0.4]\n",
      "tf.Tensor([[0.00241927 0.07329634 0.856728   0.0675564 ]], shape=(1, 4), dtype=float32)\n",
      "[0.9, 0.6, 0.7, 0.4]\n",
      "tf.Tensor([[0.00263724 0.07876018 0.84946054 0.06914207]], shape=(1, 4), dtype=float32)\n",
      "[0.6, 0.6, 0.7, 0.4]\n",
      "tf.Tensor([[0.00464785 0.10811034 0.80541086 0.08183096]], shape=(1, 4), dtype=float32)\n",
      "[0.6, 0.3, 0.7, 0.4]\n",
      "tf.Tensor([[0.06492958 0.40866244 0.46056917 0.06583879]], shape=(1, 4), dtype=float32)\n",
      "[0.9, 0.3, 0.7, 0.4]\n",
      "tf.Tensor([[0.06320982 0.40118885 0.4754114  0.06019   ]], shape=(1, 4), dtype=float32)\n",
      "[0.6, 0.3, 0.7, 0.4]\n",
      "tf.Tensor([[0.05737787 0.38340595 0.48965654 0.06955963]], shape=(1, 4), dtype=float32)\n",
      "[0.9, 0.3, 0.7, 0.4]\n",
      "tf.Tensor([[0.05420155 0.37386954 0.50888    0.06304887]], shape=(1, 4), dtype=float32)\n",
      "[0.6, 0.3, 0.7, 0.4]\n",
      "tf.Tensor([[0.05946142 0.38401714 0.49227926 0.06424224]], shape=(1, 4), dtype=float32)\n",
      "[0.9, 0.3, 0.7, 0.4]\n",
      "tf.Tensor([[0.05420155 0.37386954 0.50888    0.06304887]], shape=(1, 4), dtype=float32)\n",
      "[0.6, 0.3, 0.7, 0.4]\n",
      "tf.Tensor([[0.05946142 0.38401714 0.49227926 0.06424224]], shape=(1, 4), dtype=float32)\n",
      "[0.9, 0.3, 0.7, 0.4]\n",
      "tf.Tensor([[0.05420155 0.37386954 0.50888    0.06304887]], shape=(1, 4), dtype=float32)\n",
      "[0.6, 0.3, 0.7, 0.4]\n",
      "tf.Tensor([[0.05946142 0.38401714 0.49227926 0.06424224]], shape=(1, 4), dtype=float32)\n",
      "[0.9, 0.3, 0.7, 0.4]\n",
      "tf.Tensor([[0.05420155 0.37386954 0.50888    0.06304887]], shape=(1, 4), dtype=float32)\n",
      "[0.6, 0.3, 0.7, 0.4]\n",
      "tf.Tensor([[0.05946142 0.38401714 0.49227926 0.06424224]], shape=(1, 4), dtype=float32)\n",
      "[0.9, 0.3, 0.7, 0.4]\n",
      "tf.Tensor([[0.05420155 0.37386954 0.50888    0.06304887]], shape=(1, 4), dtype=float32)\n",
      "[0.6, 0.3, 0.7, 0.4]\n",
      "tf.Tensor([[0.05946142 0.38401714 0.49227926 0.06424224]], shape=(1, 4), dtype=float32)\n",
      "[0.9, 0.3, 0.7, 0.4]\n",
      "tf.Tensor([[0.05420155 0.37386954 0.50888    0.06304887]], shape=(1, 4), dtype=float32)\n",
      "[0.6, 0.3, 0.7, 0.4]\n"
     ]
    },
    {
     "name": "stderr",
     "output_type": "stream",
     "text": [
      "\r",
      " 45%|████████████████████████████████▏                                       | 13401/30000 [3:44:56<4:00:23,  1.15it/s]"
     ]
    },
    {
     "name": "stdout",
     "output_type": "stream",
     "text": [
      "tf.Tensor([[0.05946142 0.38401714 0.49227926 0.06424224]], shape=(1, 4), dtype=float32)\n",
      "[0.9, 0.3, 0.7, 0.4]\n",
      "tf.Tensor([[0.05420155 0.37386954 0.50888    0.06304887]], shape=(1, 4), dtype=float32)\n",
      "[0.6, 0.3, 0.7, 0.4]\n",
      "tf.Tensor([[0.05946142 0.38401714 0.49227926 0.06424224]], shape=(1, 4), dtype=float32)\n"
     ]
    },
    {
     "name": "stderr",
     "output_type": "stream",
     "text": [
      " 45%|████████████████████████████████▍                                       | 13501/30000 [3:46:08<2:46:52,  1.65it/s]"
     ]
    },
    {
     "name": "stdout",
     "output_type": "stream",
     "text": [
      "-2.3987212708744727\n",
      "91\n"
     ]
    },
    {
     "name": "stderr",
     "output_type": "stream",
     "text": [
      " 45%|████████████████████████████████▋                                       | 13600/30000 [3:47:24<3:36:56,  1.26it/s]"
     ]
    },
    {
     "name": "stdout",
     "output_type": "stream",
     "text": [
      "-6.411481867885842\n",
      "80\n",
      "[0.1, 0.7, 0.2, 0.9]\n",
      "tf.Tensor([[0.00270287 0.07415627 0.85161465 0.0715262 ]], shape=(1, 4), dtype=float32)\n",
      "[0.1, 1.0, 0.2, 0.9]\n",
      "tf.Tensor([[0.00307743 0.08006673 0.8416139  0.07524195]], shape=(1, 4), dtype=float32)\n",
      "[0.1, 0.7, 0.2, 0.9]\n",
      "tf.Tensor([[0.00504567 0.09947067 0.80558604 0.08989756]], shape=(1, 4), dtype=float32)\n",
      "[0.1, 1.0, 0.2, 0.9]\n",
      "tf.Tensor([[0.02807757 0.25683734 0.6096774  0.10540775]], shape=(1, 4), dtype=float32)\n",
      "[0.1, 0.7, 0.2, 0.9]\n",
      "tf.Tensor([[0.03084048 0.26354378 0.6000381  0.10557768]], shape=(1, 4), dtype=float32)\n",
      "[0.1, 1.0, 0.2, 0.9]\n",
      "tf.Tensor([[0.02807757 0.25683734 0.6096774  0.10540775]], shape=(1, 4), dtype=float32)\n",
      "[0.1, 0.7, 0.2, 0.9]\n",
      "tf.Tensor([[0.03084048 0.26354378 0.6000381  0.10557768]], shape=(1, 4), dtype=float32)\n",
      "[0.1, 1.0, 0.2, 0.9]\n",
      "tf.Tensor([[0.02807757 0.25683734 0.6096774  0.10540775]], shape=(1, 4), dtype=float32)\n",
      "[0.1, 0.7, 0.2, 0.9]\n",
      "tf.Tensor([[0.03084048 0.26354378 0.6000381  0.10557768]], shape=(1, 4), dtype=float32)\n",
      "[0.1, 1.0, 0.2, 0.9]\n",
      "tf.Tensor([[0.02807757 0.25683734 0.6096774  0.10540775]], shape=(1, 4), dtype=float32)\n",
      "[0.1, 0.7, 0.2, 0.9]\n",
      "tf.Tensor([[0.03084048 0.26354378 0.6000381  0.10557768]], shape=(1, 4), dtype=float32)\n",
      "[0.1, 1.0, 0.2, 0.9]\n",
      "tf.Tensor([[0.02807757 0.25683734 0.6096774  0.10540775]], shape=(1, 4), dtype=float32)\n",
      "[0.1, 0.7, 0.2, 0.9]\n",
      "tf.Tensor([[0.03084048 0.26354378 0.6000381  0.10557768]], shape=(1, 4), dtype=float32)\n",
      "[0.1, 1.0, 0.2, 0.9]\n",
      "tf.Tensor([[0.02807757 0.25683734 0.6096774  0.10540775]], shape=(1, 4), dtype=float32)\n",
      "[0.1, 0.7, 0.2, 0.9]\n",
      "tf.Tensor([[0.03084048 0.26354378 0.6000381  0.10557768]], shape=(1, 4), dtype=float32)\n",
      "[0.1, 1.0, 0.2, 0.9]\n",
      "tf.Tensor([[0.02807757 0.25683734 0.6096774  0.10540775]], shape=(1, 4), dtype=float32)\n",
      "[0.1, 0.7, 0.2, 0.9]\n",
      "tf.Tensor([[0.03084048 0.26354378 0.6000381  0.10557768]], shape=(1, 4), dtype=float32)\n"
     ]
    },
    {
     "name": "stderr",
     "output_type": "stream",
     "text": [
      "\r",
      " 45%|████████████████████████████████▋                                       | 13601/30000 [3:47:26<4:49:10,  1.06s/it]"
     ]
    },
    {
     "name": "stdout",
     "output_type": "stream",
     "text": [
      "[0.1, 1.0, 0.2, 0.9]\n",
      "tf.Tensor([[0.02807757 0.25683734 0.6096774  0.10540775]], shape=(1, 4), dtype=float32)\n",
      "[0.1, 0.7, 0.2, 0.9]\n",
      "tf.Tensor([[0.03084048 0.26354378 0.6000381  0.10557768]], shape=(1, 4), dtype=float32)\n",
      "[0.1, 1.0, 0.2, 0.9]\n",
      "tf.Tensor([[0.02807757 0.25683734 0.6096774  0.10540775]], shape=(1, 4), dtype=float32)\n"
     ]
    },
    {
     "name": "stderr",
     "output_type": "stream",
     "text": [
      " 46%|████████████████████████████████▉                                       | 13701/30000 [3:48:37<3:37:54,  1.25it/s]"
     ]
    },
    {
     "name": "stdout",
     "output_type": "stream",
     "text": [
      "-4.015815271262738\n",
      "82\n"
     ]
    },
    {
     "name": "stderr",
     "output_type": "stream",
     "text": [
      " 46%|█████████████████████████████████                                       | 13800/30000 [3:49:53<1:52:26,  2.40it/s]"
     ]
    },
    {
     "name": "stdout",
     "output_type": "stream",
     "text": [
      "-4.109828333583515\n",
      "81\n",
      "[0.5, 0.5, 0.2, 0.9]\n",
      "tf.Tensor([[0.00271162 0.07495622 0.84866124 0.073671  ]], shape=(1, 4), dtype=float32)\n",
      "[0.5, 0.8, 0.2, 0.9]\n",
      "tf.Tensor([[0.00269176 0.07732663 0.8470752  0.07290641]], shape=(1, 4), dtype=float32)\n",
      "[0.2, 0.8, 0.2, 0.9]\n",
      "tf.Tensor([[0.00472619 0.10012581 0.8069998  0.08814824]], shape=(1, 4), dtype=float32)\n",
      "[0.2, 1.0, 0.2, 0.9]\n",
      "tf.Tensor([[0.03213124 0.29375646 0.57632273 0.09778956]], shape=(1, 4), dtype=float32)\n",
      "[0.2, 0.7, 0.2, 0.9]\n",
      "tf.Tensor([[0.03324233 0.28686246 0.57734364 0.10255157]], shape=(1, 4), dtype=float32)\n",
      "[0.2, 1.0, 0.2, 0.9]\n",
      "tf.Tensor([[0.03268279 0.2825244  0.57882214 0.10597066]], shape=(1, 4), dtype=float32)\n",
      "[0.2, 0.7, 0.2, 0.9]\n",
      "tf.Tensor([[0.03465621 0.28431582 0.57383096 0.107197  ]], shape=(1, 4), dtype=float32)\n",
      "[0.2, 1.0, 0.2, 0.9]\n",
      "tf.Tensor([[0.03176052 0.27811942 0.5831965  0.1069236 ]], shape=(1, 4), dtype=float32)\n",
      "[0.2, 0.7, 0.2, 0.9]\n",
      "tf.Tensor([[0.03465621 0.28431582 0.57383096 0.107197  ]], shape=(1, 4), dtype=float32)\n",
      "[0.2, 1.0, 0.2, 0.9]\n",
      "tf.Tensor([[0.03176052 0.27811942 0.5831965  0.1069236 ]], shape=(1, 4), dtype=float32)\n",
      "[0.2, 0.7, 0.2, 0.9]\n",
      "tf.Tensor([[0.03465621 0.28431582 0.57383096 0.107197  ]], shape=(1, 4), dtype=float32)\n",
      "[0.2, 1.0, 0.2, 0.9]\n",
      "tf.Tensor([[0.03176052 0.27811942 0.5831965  0.1069236 ]], shape=(1, 4), dtype=float32)\n",
      "[0.2, 0.7, 0.2, 0.9]\n",
      "tf.Tensor([[0.03465621 0.28431582 0.57383096 0.107197  ]], shape=(1, 4), dtype=float32)\n",
      "[0.2, 1.0, 0.2, 0.9]\n",
      "tf.Tensor([[0.03176052 0.27811942 0.5831965  0.1069236 ]], shape=(1, 4), dtype=float32)\n",
      "[0.2, 0.7, 0.2, 0.9]\n",
      "tf.Tensor([[0.03465621 0.28431582 0.57383096 0.107197  ]], shape=(1, 4), dtype=float32)\n",
      "[0.2, 1.0, 0.2, 0.9]\n",
      "tf.Tensor([[0.03176052 0.27811942 0.5831965  0.1069236 ]], shape=(1, 4), dtype=float32)\n",
      "[0.2, 0.7, 0.2, 0.9]\n",
      "tf.Tensor([[0.03465621 0.28431582 0.57383096 0.107197  ]], shape=(1, 4), dtype=float32)\n"
     ]
    },
    {
     "name": "stderr",
     "output_type": "stream",
     "text": [
      "\r",
      " 46%|█████████████████████████████████                                       | 13801/30000 [3:49:54<2:29:44,  1.80it/s]"
     ]
    },
    {
     "name": "stdout",
     "output_type": "stream",
     "text": [
      "[0.2, 1.0, 0.2, 0.9]\n",
      "tf.Tensor([[0.03176052 0.27811942 0.5831965  0.1069236 ]], shape=(1, 4), dtype=float32)\n",
      "[0.2, 0.7, 0.2, 0.9]\n",
      "tf.Tensor([[0.03465621 0.28431582 0.57383096 0.107197  ]], shape=(1, 4), dtype=float32)\n",
      "[0.2, 1.0, 0.2, 0.9]\n",
      "tf.Tensor([[0.03176052 0.27811942 0.5831965  0.1069236 ]], shape=(1, 4), dtype=float32)\n"
     ]
    },
    {
     "name": "stderr",
     "output_type": "stream",
     "text": [
      " 46%|█████████████████████████████████▎                                      | 13901/30000 [3:51:18<4:34:16,  1.02s/it]"
     ]
    },
    {
     "name": "stdout",
     "output_type": "stream",
     "text": [
      "-8.674393084049306\n",
      "71\n"
     ]
    },
    {
     "name": "stderr",
     "output_type": "stream",
     "text": [
      " 47%|█████████████████████████████████▌                                      | 14000/30000 [3:52:30<2:17:05,  1.95it/s]"
     ]
    },
    {
     "name": "stdout",
     "output_type": "stream",
     "text": [
      "-2.02007783295153\n",
      "86\n",
      "[0.1, 0.8, 0.7, 0.1]\n",
      "tf.Tensor([[0.00202098 0.06879308 0.8639659  0.06521995]], shape=(1, 4), dtype=float32)\n",
      "[0.1, 0.5, 0.7, 0.1]\n",
      "tf.Tensor([[0.00236153 0.0753599  0.8532615  0.0690171 ]], shape=(1, 4), dtype=float32)\n",
      "[0.4, 0.5, 0.7, 0.1]\n",
      "tf.Tensor([[0.00373137 0.09620184 0.8200869  0.07997988]], shape=(1, 4), dtype=float32)\n",
      "[0.4, 0.2, 0.7, 0.1]\n",
      "tf.Tensor([[0.02915923 0.29154718 0.5765601  0.1027335 ]], shape=(1, 4), dtype=float32)\n",
      "[0.7, 0.2, 0.7, 0.1]\n",
      "tf.Tensor([[0.03051018 0.30594963 0.5670005  0.09653971]], shape=(1, 4), dtype=float32)\n",
      "[0.7, 0.0, 0.7, 0.1]\n",
      "tf.Tensor([[0.03614124 0.32955387 0.53959244 0.09471245]], shape=(1, 4), dtype=float32)\n",
      "[0.7, 0.3, 0.7, 0.1]\n",
      "tf.Tensor([[0.03379203 0.324774   0.5487602  0.09267375]], shape=(1, 4), dtype=float32)\n",
      "[0.7, 0.0, 0.7, 0.1]\n",
      "tf.Tensor([[0.03852352 0.34114188 0.52819115 0.09214348]], shape=(1, 4), dtype=float32)\n",
      "[0.7, 0.3, 0.7, 0.1]\n",
      "tf.Tensor([[0.03164076 0.31534952 0.5587276  0.09428214]], shape=(1, 4), dtype=float32)\n",
      "[0.7, 0.0, 0.7, 0.1]\n",
      "tf.Tensor([[0.03803226 0.3392422  0.5303081  0.09241747]], shape=(1, 4), dtype=float32)\n",
      "[0.7, 0.3, 0.7, 0.1]\n",
      "tf.Tensor([[0.03164076 0.31534952 0.5587276  0.09428214]], shape=(1, 4), dtype=float32)\n",
      "[0.7, 0.0, 0.7, 0.1]\n",
      "tf.Tensor([[0.03803226 0.3392422  0.5303081  0.09241747]], shape=(1, 4), dtype=float32)\n",
      "[0.7, 0.3, 0.7, 0.1]\n",
      "tf.Tensor([[0.03164076 0.31534952 0.5587276  0.09428214]], shape=(1, 4), dtype=float32)\n",
      "[0.7, 0.0, 0.7, 0.1]\n",
      "tf.Tensor([[0.03803226 0.3392422  0.5303081  0.09241747]], shape=(1, 4), dtype=float32)\n",
      "[0.7, 0.3, 0.7, 0.1]\n",
      "tf.Tensor([[0.03164076 0.31534952 0.5587276  0.09428214]], shape=(1, 4), dtype=float32)\n",
      "[0.7, 0.0, 0.7, 0.1]\n",
      "tf.Tensor([[0.03803226 0.3392422  0.5303081  0.09241747]], shape=(1, 4), dtype=float32)\n",
      "[0.7, 0.3, 0.7, 0.1]\n",
      "tf.Tensor([[0.03164076 0.31534952 0.5587276  0.09428214]], shape=(1, 4), dtype=float32)\n"
     ]
    },
    {
     "name": "stderr",
     "output_type": "stream",
     "text": [
      "\r",
      " 47%|█████████████████████████████████▌                                      | 14001/30000 [3:52:31<3:12:35,  1.38it/s]"
     ]
    },
    {
     "name": "stdout",
     "output_type": "stream",
     "text": [
      "[0.7, 0.0, 0.7, 0.1]\n",
      "tf.Tensor([[0.03803226 0.3392422  0.5303081  0.09241747]], shape=(1, 4), dtype=float32)\n",
      "[0.7, 0.3, 0.7, 0.1]\n",
      "tf.Tensor([[0.03164076 0.31534952 0.5587276  0.09428214]], shape=(1, 4), dtype=float32)\n",
      "[0.7, 0.0, 0.7, 0.1]\n",
      "tf.Tensor([[0.03803226 0.3392422  0.5303081  0.09241747]], shape=(1, 4), dtype=float32)\n"
     ]
    },
    {
     "name": "stderr",
     "output_type": "stream",
     "text": [
      " 47%|█████████████████████████████████▊                                      | 14101/30000 [3:53:42<2:23:25,  1.85it/s]"
     ]
    },
    {
     "name": "stdout",
     "output_type": "stream",
     "text": [
      "-2.5375747756967555\n",
      "85\n"
     ]
    },
    {
     "name": "stderr",
     "output_type": "stream",
     "text": [
      " 47%|██████████████████████████████████                                      | 14200/30000 [3:54:59<1:48:20,  2.43it/s]"
     ]
    },
    {
     "name": "stdout",
     "output_type": "stream",
     "text": [
      "-2.9624183287671997\n",
      "76\n",
      "[0.7, 0.3, 0.1, 0.1]\n",
      "tf.Tensor([[0.00160716 0.05949525 0.87758726 0.06131035]], shape=(1, 4), dtype=float32)\n",
      "[0.4, 0.3, 0.1, 0.1]\n",
      "tf.Tensor([[0.00180131 0.06366795 0.8709685  0.06356221]], shape=(1, 4), dtype=float32)\n",
      "[0.1, 0.3, 0.1, 0.1]\n",
      "tf.Tensor([[0.00291626 0.08200606 0.84145635 0.07362134]], shape=(1, 4), dtype=float32)\n",
      "[0.1, 0.0, 0.1, 0.1]\n",
      "tf.Tensor([[0.02352834 0.25375733 0.61409724 0.10861716]], shape=(1, 4), dtype=float32)\n",
      "[0.1, 0.3, 0.1, 0.1]\n",
      "tf.Tensor([[0.01856358 0.21947931 0.6450337  0.11692344]], shape=(1, 4), dtype=float32)\n",
      "[0.1, 0.0, 0.1, 0.1]\n",
      "tf.Tensor([[0.01504041 0.1827267  0.67343676 0.12879616]], shape=(1, 4), dtype=float32)\n",
      "[0.1, 0.3, 0.1, 0.1]\n",
      "tf.Tensor([[0.01103463 0.15905698 0.7114803  0.11842806]], shape=(1, 4), dtype=float32)\n",
      "[0.1, 0.0, 0.1, 0.1]\n",
      "tf.Tensor([[0.01504041 0.1827267  0.67343676 0.12879616]], shape=(1, 4), dtype=float32)\n",
      "[0.1, 0.3, 0.1, 0.1]\n",
      "tf.Tensor([[0.01103463 0.15905698 0.7114803  0.11842806]], shape=(1, 4), dtype=float32)\n",
      "[0.1, 0.0, 0.1, 0.1]\n",
      "tf.Tensor([[0.01504041 0.1827267  0.67343676 0.12879616]], shape=(1, 4), dtype=float32)\n",
      "[0.1, 0.3, 0.1, 0.1]\n",
      "tf.Tensor([[0.01103463 0.15905698 0.7114803  0.11842806]], shape=(1, 4), dtype=float32)\n",
      "[0.1, 0.0, 0.1, 0.1]\n",
      "tf.Tensor([[0.01504041 0.1827267  0.67343676 0.12879616]], shape=(1, 4), dtype=float32)\n",
      "[0.1, 0.3, 0.1, 0.1]\n",
      "tf.Tensor([[0.01103463 0.15905698 0.7114803  0.11842806]], shape=(1, 4), dtype=float32)\n",
      "[0.1, 0.0, 0.1, 0.1]\n",
      "tf.Tensor([[0.01504041 0.1827267  0.67343676 0.12879616]], shape=(1, 4), dtype=float32)\n",
      "[0.1, 0.3, 0.1, 0.1]\n",
      "tf.Tensor([[0.01103463 0.15905698 0.7114803  0.11842806]], shape=(1, 4), dtype=float32)\n",
      "[0.1, 0.0, 0.1, 0.1]\n",
      "tf.Tensor([[0.01504041 0.1827267  0.67343676 0.12879616]], shape=(1, 4), dtype=float32)\n"
     ]
    },
    {
     "name": "stderr",
     "output_type": "stream",
     "text": [
      "\r",
      " 47%|██████████████████████████████████                                      | 14201/30000 [3:55:01<3:20:43,  1.31it/s]"
     ]
    },
    {
     "name": "stdout",
     "output_type": "stream",
     "text": [
      "[0.1, 0.3, 0.1, 0.1]\n",
      "tf.Tensor([[0.01103463 0.15905698 0.7114803  0.11842806]], shape=(1, 4), dtype=float32)\n",
      "[0.1, 0.0, 0.1, 0.1]\n",
      "tf.Tensor([[0.01504041 0.1827267  0.67343676 0.12879616]], shape=(1, 4), dtype=float32)\n",
      "[0.1, 0.3, 0.1, 0.1]\n",
      "tf.Tensor([[0.01103463 0.15905698 0.7114803  0.11842806]], shape=(1, 4), dtype=float32)\n",
      "[0.1, 0.0, 0.1, 0.1]\n",
      "tf.Tensor([[0.01504041 0.1827267  0.67343676 0.12879616]], shape=(1, 4), dtype=float32)\n"
     ]
    },
    {
     "name": "stderr",
     "output_type": "stream",
     "text": [
      " 48%|██████████████████████████████████▎                                     | 14301/30000 [3:56:13<3:08:19,  1.39it/s]"
     ]
    },
    {
     "name": "stdout",
     "output_type": "stream",
     "text": [
      "-5.14544049420032\n",
      "86\n"
     ]
    },
    {
     "name": "stderr",
     "output_type": "stream",
     "text": [
      " 48%|██████████████████████████████████▌                                     | 14400/30000 [3:57:36<4:17:35,  1.01it/s]"
     ]
    },
    {
     "name": "stdout",
     "output_type": "stream",
     "text": [
      "-8.060919332414091\n",
      "74\n",
      "[0.0, 0.3, 0.2, 0.9]\n",
      "tf.Tensor([[0.00175912 0.05895223 0.87576354 0.06352515]], shape=(1, 4), dtype=float32)\n",
      "[0.0, 0.6, 0.2, 0.9]\n",
      "tf.Tensor([[0.00208622 0.06332749 0.8668351  0.06775111]], shape=(1, 4), dtype=float32)\n",
      "[0.0, 0.9, 0.2, 0.9]\n",
      "tf.Tensor([[0.00292667 0.07632325 0.84308344 0.0776666 ]], shape=(1, 4), dtype=float32)\n",
      "[0.3, 0.9, 0.2, 0.9]\n",
      "tf.Tensor([[0.01142662 0.16452447 0.7096521  0.11439676]], shape=(1, 4), dtype=float32)\n",
      "[0.0, 0.9, 0.2, 0.9]\n",
      "tf.Tensor([[0.01716346 0.20589799 0.66075253 0.11618604]], shape=(1, 4), dtype=float32)\n",
      "[0.3, 0.9, 0.2, 0.9]\n",
      "tf.Tensor([[0.01989729 0.24057819 0.6379546  0.10156992]], shape=(1, 4), dtype=float32)\n",
      "[0.0, 0.9, 0.2, 0.9]\n",
      "tf.Tensor([[0.02020053 0.23450193 0.6387945  0.10650306]], shape=(1, 4), dtype=float32)\n",
      "[0.3, 0.9, 0.2, 0.9]\n",
      "tf.Tensor([[0.01989729 0.24057819 0.6379546  0.10156992]], shape=(1, 4), dtype=float32)\n",
      "[0.0, 0.9, 0.2, 0.9]\n",
      "tf.Tensor([[0.02020053 0.23450193 0.6387945  0.10650306]], shape=(1, 4), dtype=float32)\n",
      "[0.3, 0.9, 0.2, 0.9]\n",
      "tf.Tensor([[0.01989729 0.24057819 0.6379546  0.10156992]], shape=(1, 4), dtype=float32)\n",
      "[0.0, 0.9, 0.2, 0.9]\n",
      "tf.Tensor([[0.02020053 0.23450193 0.6387945  0.10650306]], shape=(1, 4), dtype=float32)\n",
      "[0.3, 0.9, 0.2, 0.9]\n",
      "tf.Tensor([[0.01989729 0.24057819 0.6379546  0.10156992]], shape=(1, 4), dtype=float32)\n",
      "[0.0, 0.9, 0.2, 0.9]\n",
      "tf.Tensor([[0.02020053 0.23450193 0.6387945  0.10650306]], shape=(1, 4), dtype=float32)\n",
      "[0.3, 0.9, 0.2, 0.9]\n",
      "tf.Tensor([[0.01989729 0.24057819 0.6379546  0.10156992]], shape=(1, 4), dtype=float32)\n",
      "[0.0, 0.9, 0.2, 0.9]\n",
      "tf.Tensor([[0.02020053 0.23450193 0.6387945  0.10650306]], shape=(1, 4), dtype=float32)\n",
      "[0.3, 0.9, 0.2, 0.9]\n",
      "tf.Tensor([[0.01989729 0.24057819 0.6379546  0.10156992]], shape=(1, 4), dtype=float32)\n",
      "[0.0, 0.9, 0.2, 0.9]\n",
      "tf.Tensor([[0.02020053 0.23450193 0.6387945  0.10650306]], shape=(1, 4), dtype=float32)\n"
     ]
    },
    {
     "name": "stderr",
     "output_type": "stream",
     "text": [
      "\r",
      " 48%|██████████████████████████████████▌                                     | 14401/30000 [3:57:37<4:06:31,  1.05it/s]"
     ]
    },
    {
     "name": "stdout",
     "output_type": "stream",
     "text": [
      "[0.3, 0.9, 0.2, 0.9]\n",
      "tf.Tensor([[0.01989729 0.24057819 0.6379546  0.10156992]], shape=(1, 4), dtype=float32)\n",
      "[0.0, 0.9, 0.2, 0.9]\n",
      "tf.Tensor([[0.02020053 0.23450193 0.6387945  0.10650306]], shape=(1, 4), dtype=float32)\n",
      "[0.3, 0.9, 0.2, 0.9]\n",
      "tf.Tensor([[0.01989729 0.24057819 0.6379546  0.10156992]], shape=(1, 4), dtype=float32)\n"
     ]
    },
    {
     "name": "stderr",
     "output_type": "stream",
     "text": [
      " 48%|██████████████████████████████████▊                                     | 14501/30000 [3:58:58<3:24:03,  1.27it/s]"
     ]
    },
    {
     "name": "stdout",
     "output_type": "stream",
     "text": [
      "-6.24295290240291\n",
      "73\n"
     ]
    },
    {
     "name": "stderr",
     "output_type": "stream",
     "text": [
      " 49%|███████████████████████████████████                                     | 14600/30000 [4:00:15<3:18:01,  1.30it/s]"
     ]
    },
    {
     "name": "stdout",
     "output_type": "stream",
     "text": [
      "-1.8852074913802774\n",
      "80\n",
      "[0.7, 0.1, 0.5, 0.7]\n",
      "tf.Tensor([[0.00131794 0.05639542 0.8878559  0.05443076]], shape=(1, 4), dtype=float32)\n",
      "[0.7, 0.4, 0.5, 0.7]\n",
      "tf.Tensor([[0.00154303 0.0606671  0.88005215 0.05773768]], shape=(1, 4), dtype=float32)\n",
      "[0.7, 0.7, 0.5, 0.7]\n",
      "tf.Tensor([[0.00213919 0.07599463 0.8581861  0.06368009]], shape=(1, 4), dtype=float32)\n",
      "[0.4, 0.7, 0.5, 0.7]\n",
      "tf.Tensor([[0.02354973 0.28350225 0.6039953  0.08895268]], shape=(1, 4), dtype=float32)\n",
      "[0.7, 0.7, 0.5, 0.7]\n",
      "tf.Tensor([[0.02464468 0.30131817 0.59374326 0.08029394]], shape=(1, 4), dtype=float32)\n",
      "[0.4, 0.7, 0.5, 0.7]\n",
      "tf.Tensor([[0.02637377 0.3061064  0.58502084 0.08249895]], shape=(1, 4), dtype=float32)\n",
      "[0.7, 0.7, 0.5, 0.7]\n",
      "tf.Tensor([[0.02494795 0.30269817 0.5927863  0.07956757]], shape=(1, 4), dtype=float32)\n",
      "[0.4, 0.7, 0.5, 0.7]\n",
      "tf.Tensor([[0.02637377 0.3061064  0.58502084 0.08249895]], shape=(1, 4), dtype=float32)\n",
      "[0.7, 0.7, 0.5, 0.7]\n",
      "tf.Tensor([[0.02494795 0.30269817 0.5927863  0.07956757]], shape=(1, 4), dtype=float32)\n",
      "[0.4, 0.7, 0.5, 0.7]\n",
      "tf.Tensor([[0.02637377 0.3061064  0.58502084 0.08249895]], shape=(1, 4), dtype=float32)\n",
      "[0.7, 0.7, 0.5, 0.7]\n",
      "tf.Tensor([[0.02494795 0.30269817 0.5927863  0.07956757]], shape=(1, 4), dtype=float32)\n",
      "[0.4, 0.7, 0.5, 0.7]\n",
      "tf.Tensor([[0.02637377 0.3061064  0.58502084 0.08249895]], shape=(1, 4), dtype=float32)\n",
      "[0.7, 0.7, 0.5, 0.7]\n",
      "tf.Tensor([[0.02494795 0.30269817 0.5927863  0.07956757]], shape=(1, 4), dtype=float32)\n",
      "[0.4, 0.7, 0.5, 0.7]\n",
      "tf.Tensor([[0.02637377 0.3061064  0.58502084 0.08249895]], shape=(1, 4), dtype=float32)\n",
      "[0.7, 0.7, 0.5, 0.7]\n",
      "tf.Tensor([[0.02494795 0.30269817 0.5927863  0.07956757]], shape=(1, 4), dtype=float32)\n",
      "[0.4, 0.7, 0.5, 0.7]\n",
      "tf.Tensor([[0.02637377 0.3061064  0.58502084 0.08249895]], shape=(1, 4), dtype=float32)\n",
      "[0.7, 0.7, 0.5, 0.7]\n",
      "tf.Tensor([[0.02494795 0.30269817 0.5927863  0.07956757]], shape=(1, 4), dtype=float32)\n"
     ]
    },
    {
     "name": "stderr",
     "output_type": "stream",
     "text": [
      "\r",
      " 49%|███████████████████████████████████                                     | 14601/30000 [4:00:15<2:46:57,  1.54it/s]"
     ]
    },
    {
     "name": "stdout",
     "output_type": "stream",
     "text": [
      "[0.4, 0.7, 0.5, 0.7]\n",
      "tf.Tensor([[0.02637377 0.3061064  0.58502084 0.08249895]], shape=(1, 4), dtype=float32)\n",
      "[0.7, 0.7, 0.5, 0.7]\n",
      "tf.Tensor([[0.02494795 0.30269817 0.5927863  0.07956757]], shape=(1, 4), dtype=float32)\n",
      "[0.4, 0.7, 0.5, 0.7]\n",
      "tf.Tensor([[0.02637377 0.3061064  0.58502084 0.08249895]], shape=(1, 4), dtype=float32)\n"
     ]
    },
    {
     "name": "stderr",
     "output_type": "stream",
     "text": [
      " 49%|███████████████████████████████████▎                                    | 14701/30000 [4:01:25<2:57:02,  1.44it/s]"
     ]
    },
    {
     "name": "stdout",
     "output_type": "stream",
     "text": [
      "-2.5260741906671482\n",
      "86\n"
     ]
    },
    {
     "name": "stderr",
     "output_type": "stream",
     "text": [
      " 49%|███████████████████████████████████▌                                    | 14800/30000 [4:02:48<3:02:48,  1.39it/s]"
     ]
    },
    {
     "name": "stdout",
     "output_type": "stream",
     "text": [
      "-8.382701026714535\n",
      "71\n",
      "[0.5, 0.0, 0.5, 0.7]\n",
      "tf.Tensor([[0.00127349 0.05627326 0.8879256  0.05452763]], shape=(1, 4), dtype=float32)\n",
      "[0.5, 0.3, 0.5, 0.7]\n",
      "tf.Tensor([[0.00150966 0.06066702 0.8796478  0.05817551]], shape=(1, 4), dtype=float32)\n",
      "[0.5, 0.6, 0.5, 0.7]\n",
      "tf.Tensor([[0.00240527 0.07626034 0.8518594  0.06947504]], shape=(1, 4), dtype=float32)\n",
      "[0.5, 0.9, 0.5, 0.7]\n",
      "tf.Tensor([[0.01834726 0.23768646 0.6406448  0.10332148]], shape=(1, 4), dtype=float32)\n",
      "[0.5, 0.6, 0.5, 0.7]\n",
      "tf.Tensor([[0.02517936 0.27600494 0.59993434 0.09888137]], shape=(1, 4), dtype=float32)\n",
      "[0.5, 0.9, 0.5, 0.7]\n",
      "tf.Tensor([[0.02822857 0.30572203 0.5739639  0.0920855 ]], shape=(1, 4), dtype=float32)\n",
      "[0.5, 0.6, 0.5, 0.7]\n",
      "tf.Tensor([[0.03086806 0.31265795 0.56372124 0.09275279]], shape=(1, 4), dtype=float32)\n",
      "[0.5, 0.9, 0.5, 0.7]\n",
      "tf.Tensor([[0.02822857 0.30572203 0.5739639  0.0920855 ]], shape=(1, 4), dtype=float32)\n",
      "[0.5, 0.6, 0.5, 0.7]\n",
      "tf.Tensor([[0.03086806 0.31265795 0.56372124 0.09275279]], shape=(1, 4), dtype=float32)\n",
      "[0.5, 0.9, 0.5, 0.7]\n",
      "tf.Tensor([[0.02822857 0.30572203 0.5739639  0.0920855 ]], shape=(1, 4), dtype=float32)\n",
      "[0.5, 0.6, 0.5, 0.7]\n",
      "tf.Tensor([[0.03086806 0.31265795 0.56372124 0.09275279]], shape=(1, 4), dtype=float32)\n",
      "[0.5, 0.9, 0.5, 0.7]\n",
      "tf.Tensor([[0.02822857 0.30572203 0.5739639  0.0920855 ]], shape=(1, 4), dtype=float32)\n",
      "[0.5, 0.6, 0.5, 0.7]\n",
      "tf.Tensor([[0.03086806 0.31265795 0.56372124 0.09275279]], shape=(1, 4), dtype=float32)\n",
      "[0.5, 0.9, 0.5, 0.7]\n",
      "tf.Tensor([[0.02822857 0.30572203 0.5739639  0.0920855 ]], shape=(1, 4), dtype=float32)\n",
      "[0.5, 0.6, 0.5, 0.7]\n",
      "tf.Tensor([[0.03086806 0.31265795 0.56372124 0.09275279]], shape=(1, 4), dtype=float32)\n",
      "[0.5, 0.9, 0.5, 0.7]\n",
      "tf.Tensor([[0.02822857 0.30572203 0.5739639  0.0920855 ]], shape=(1, 4), dtype=float32)\n",
      "[0.5, 0.6, 0.5, 0.7]\n",
      "tf.Tensor([[0.03086806 0.31265795 0.56372124 0.09275279]], shape=(1, 4), dtype=float32)"
     ]
    },
    {
     "name": "stderr",
     "output_type": "stream",
     "text": [
      "\r",
      " 49%|███████████████████████████████████▌                                    | 14801/30000 [4:02:49<3:51:58,  1.09it/s]"
     ]
    },
    {
     "name": "stdout",
     "output_type": "stream",
     "text": [
      "\n",
      "[0.5, 0.9, 0.5, 0.7]\n",
      "tf.Tensor([[0.02822857 0.30572203 0.5739639  0.0920855 ]], shape=(1, 4), dtype=float32)\n",
      "[0.5, 0.6, 0.5, 0.7]\n",
      "tf.Tensor([[0.03086806 0.31265795 0.56372124 0.09275279]], shape=(1, 4), dtype=float32)\n",
      "[0.5, 0.9, 0.5, 0.7]\n",
      "tf.Tensor([[0.02822857 0.30572203 0.5739639  0.0920855 ]], shape=(1, 4), dtype=float32)\n"
     ]
    },
    {
     "name": "stderr",
     "output_type": "stream",
     "text": [
      " 50%|███████████████████████████████████▊                                    | 14901/30000 [4:04:06<4:09:56,  1.01it/s]"
     ]
    },
    {
     "name": "stdout",
     "output_type": "stream",
     "text": [
      "-4.461211483900058\n",
      "86\n"
     ]
    },
    {
     "name": "stderr",
     "output_type": "stream",
     "text": [
      " 50%|████████████████████████████████████                                    | 15000/30000 [4:05:15<3:24:44,  1.22it/s]"
     ]
    },
    {
     "name": "stdout",
     "output_type": "stream",
     "text": [
      "-3.950847299623202\n",
      "86\n",
      "[0.0, 0.9, 0.6, 0.2]\n",
      "tf.Tensor([[0.0013059 0.0594484 0.8853728 0.0538729]], shape=(1, 4), dtype=float32)\n",
      "[0.0, 0.6, 0.6, 0.2]\n",
      "tf.Tensor([[0.00159204 0.06619529 0.8740993  0.05811334]], shape=(1, 4), dtype=float32)\n",
      "[0.3, 0.6, 0.6, 0.2]\n",
      "tf.Tensor([[0.00266242 0.08712118 0.8410208  0.06919565]], shape=(1, 4), dtype=float32)\n",
      "[0.3, 0.3, 0.6, 0.2]\n",
      "tf.Tensor([[0.02572126 0.2913994  0.5843658  0.09851363]], shape=(1, 4), dtype=float32)\n",
      "[0.6, 0.3, 0.6, 0.2]\n",
      "tf.Tensor([[0.02724348 0.3054683  0.5744175  0.09287071]], shape=(1, 4), dtype=float32)\n",
      "[0.6, 0.0, 0.6, 0.2]\n",
      "tf.Tensor([[0.03204168 0.32800505 0.5479323  0.09202095]], shape=(1, 4), dtype=float32)\n",
      "[0.6, 0.3, 0.6, 0.2]\n",
      "tf.Tensor([[0.03039839 0.32546127 0.55473584 0.08940446]], shape=(1, 4), dtype=float32)\n",
      "[0.6, 0.0, 0.6, 0.2]\n",
      "tf.Tensor([[0.03405154 0.33944568 0.5365772  0.08992555]], shape=(1, 4), dtype=float32)\n",
      "[0.6, 0.3, 0.6, 0.2]\n",
      "tf.Tensor([[0.02749675 0.3118422  0.56913376 0.09152734]], shape=(1, 4), dtype=float32)\n",
      "[0.6, 0.0, 0.6, 0.2]\n",
      "tf.Tensor([[0.03405154 0.33944568 0.5365772  0.08992555]], shape=(1, 4), dtype=float32)\n",
      "[0.6, 0.3, 0.6, 0.2]\n",
      "tf.Tensor([[0.02749675 0.3118422  0.56913376 0.09152734]], shape=(1, 4), dtype=float32)\n",
      "[0.6, 0.0, 0.6, 0.2]\n",
      "tf.Tensor([[0.03405154 0.33944568 0.5365772  0.08992555]], shape=(1, 4), dtype=float32)\n",
      "[0.6, 0.3, 0.6, 0.2]\n",
      "tf.Tensor([[0.02749675 0.3118422  0.56913376 0.09152734]], shape=(1, 4), dtype=float32)\n",
      "[0.6, 0.0, 0.6, 0.2]\n",
      "tf.Tensor([[0.03405154 0.33944568 0.5365772  0.08992555]], shape=(1, 4), dtype=float32)\n",
      "[0.6, 0.3, 0.6, 0.2]\n",
      "tf.Tensor([[0.02749675 0.3118422  0.56913376 0.09152734]], shape=(1, 4), dtype=float32)\n",
      "[0.6, 0.0, 0.6, 0.2]\n",
      "tf.Tensor([[0.03405154 0.33944568 0.5365772  0.08992555]], shape=(1, 4), dtype=float32)\n",
      "[0.6, 0.3, 0.6, 0.2]\n",
      "tf.Tensor([[0.02749675 0.3118422  0.56913376 0.09152734]], shape=(1, 4), dtype=float32)\n",
      "[0.6, 0.0, 0.6, 0.2]\n"
     ]
    },
    {
     "name": "stderr",
     "output_type": "stream",
     "text": [
      "\r",
      " 50%|████████████████████████████████████                                    | 15001/30000 [4:05:16<3:14:07,  1.29it/s]"
     ]
    },
    {
     "name": "stdout",
     "output_type": "stream",
     "text": [
      "tf.Tensor([[0.03405154 0.33944568 0.5365772  0.08992555]], shape=(1, 4), dtype=float32)\n",
      "[0.6, 0.3, 0.6, 0.2]\n",
      "tf.Tensor([[0.02749675 0.3118422  0.56913376 0.09152734]], shape=(1, 4), dtype=float32)\n",
      "[0.6, 0.0, 0.6, 0.2]\n",
      "tf.Tensor([[0.03405154 0.33944568 0.5365772  0.08992555]], shape=(1, 4), dtype=float32)\n"
     ]
    },
    {
     "name": "stderr",
     "output_type": "stream",
     "text": [
      " 50%|████████████████████████████████████▏                                   | 15102/30000 [4:06:26<2:22:39,  1.74it/s]"
     ]
    },
    {
     "name": "stdout",
     "output_type": "stream",
     "text": [
      "-4.730019841968776\n",
      "81\n"
     ]
    },
    {
     "name": "stderr",
     "output_type": "stream",
     "text": [
      " 51%|████████████████████████████████████▍                                   | 15200/30000 [4:07:35<3:42:31,  1.11it/s]"
     ]
    },
    {
     "name": "stdout",
     "output_type": "stream",
     "text": [
      "-4.31350695450536\n",
      "86\n",
      "[0.3, 0.4, 0.7, 0.4]\n",
      "tf.Tensor([[0.00108552 0.05666925 0.8927751  0.04947007]], shape=(1, 4), dtype=float32)\n",
      "[0.6, 0.4, 0.7, 0.4]\n",
      "tf.Tensor([[0.00123827 0.06130625 0.8856564  0.05179912]], shape=(1, 4), dtype=float32)\n",
      "[0.9, 0.4, 0.7, 0.4]\n",
      "tf.Tensor([[0.00179131 0.07734238 0.8627482  0.05811802]], shape=(1, 4), dtype=float32)\n",
      "[0.6, 0.4, 0.7, 0.4]\n",
      "tf.Tensor([[0.02471954 0.31720445 0.5790205  0.07905549]], shape=(1, 4), dtype=float32)\n",
      "[0.9, 0.4, 0.7, 0.4]\n",
      "tf.Tensor([[0.02636109 0.33324027 0.5711631  0.0692355 ]], shape=(1, 4), dtype=float32)\n",
      "[0.6, 0.4, 0.7, 0.4]\n",
      "tf.Tensor([[0.02844613 0.34099585 0.558726   0.07183195]], shape=(1, 4), dtype=float32)\n",
      "[0.9, 0.4, 0.7, 0.4]\n",
      "tf.Tensor([[0.02636109 0.33324027 0.5711631  0.0692355 ]], shape=(1, 4), dtype=float32)\n",
      "[0.6, 0.4, 0.7, 0.4]\n",
      "tf.Tensor([[0.02844613 0.34099585 0.558726   0.07183195]], shape=(1, 4), dtype=float32)\n",
      "[0.9, 0.4, 0.7, 0.4]\n",
      "tf.Tensor([[0.02636109 0.33324027 0.5711631  0.0692355 ]], shape=(1, 4), dtype=float32)\n",
      "[0.6, 0.4, 0.7, 0.4]\n",
      "tf.Tensor([[0.02844613 0.34099585 0.558726   0.07183195]], shape=(1, 4), dtype=float32)\n",
      "[0.9, 0.4, 0.7, 0.4]\n",
      "tf.Tensor([[0.02636109 0.33324027 0.5711631  0.0692355 ]], shape=(1, 4), dtype=float32)\n",
      "[0.6, 0.4, 0.7, 0.4]\n",
      "tf.Tensor([[0.02844613 0.34099585 0.558726   0.07183195]], shape=(1, 4), dtype=float32)\n",
      "[0.9, 0.4, 0.7, 0.4]\n",
      "tf.Tensor([[0.02636109 0.33324027 0.5711631  0.0692355 ]], shape=(1, 4), dtype=float32)\n",
      "[0.6, 0.4, 0.7, 0.4]\n",
      "tf.Tensor([[0.02844613 0.34099585 0.558726   0.07183195]], shape=(1, 4), dtype=float32)\n",
      "[0.9, 0.4, 0.7, 0.4]\n",
      "tf.Tensor([[0.02636109 0.33324027 0.5711631  0.0692355 ]], shape=(1, 4), dtype=float32)\n",
      "[0.6, 0.4, 0.7, 0.4]\n",
      "tf.Tensor([[0.02844613 0.34099585 0.558726   0.07183195]], shape=(1, 4), dtype=float32)\n"
     ]
    },
    {
     "name": "stderr",
     "output_type": "stream",
     "text": [
      "\r",
      " 51%|████████████████████████████████████▍                                   | 15201/30000 [4:07:36<3:49:21,  1.08it/s]"
     ]
    },
    {
     "name": "stdout",
     "output_type": "stream",
     "text": [
      "[0.9, 0.4, 0.7, 0.4]\n",
      "tf.Tensor([[0.02636109 0.33324027 0.5711631  0.0692355 ]], shape=(1, 4), dtype=float32)\n",
      "[0.6, 0.4, 0.7, 0.4]\n",
      "tf.Tensor([[0.02844613 0.34099585 0.558726   0.07183195]], shape=(1, 4), dtype=float32)\n",
      "[0.9, 0.4, 0.7, 0.4]\n",
      "tf.Tensor([[0.02636109 0.33324027 0.5711631  0.0692355 ]], shape=(1, 4), dtype=float32)\n",
      "[0.6, 0.4, 0.7, 0.4]\n",
      "tf.Tensor([[0.02844613 0.34099585 0.558726   0.07183195]], shape=(1, 4), dtype=float32)\n"
     ]
    },
    {
     "name": "stderr",
     "output_type": "stream",
     "text": [
      " 51%|████████████████████████████████████▋                                   | 15301/30000 [4:08:52<3:46:31,  1.08it/s]"
     ]
    },
    {
     "name": "stdout",
     "output_type": "stream",
     "text": [
      "-5.546141669675825\n",
      "84\n"
     ]
    },
    {
     "name": "stderr",
     "output_type": "stream",
     "text": [
      " 51%|████████████████████████████████████▉                                   | 15400/30000 [4:10:13<3:31:16,  1.15it/s]"
     ]
    },
    {
     "name": "stdout",
     "output_type": "stream",
     "text": [
      "-7.737300654644075\n",
      "75\n",
      "[0.6, 0.9, 0.7, 0.4]\n",
      "tf.Tensor([[8.0427335e-04 5.0679531e-02 9.0382278e-01 4.4693392e-02]], shape=(1, 4), dtype=float32)\n",
      "[0.6, 0.6, 0.7, 0.4]\n",
      "tf.Tensor([[0.00093591 0.05504562 0.89695364 0.04706488]], shape=(1, 4), dtype=float32)\n",
      "[0.6, 0.3, 0.7, 0.4]\n",
      "tf.Tensor([[0.00158996 0.07419169 0.8671311  0.05708729]], shape=(1, 4), dtype=float32)\n",
      "[0.9, 0.3, 0.7, 0.4]\n",
      "tf.Tensor([[0.02487122 0.33950695 0.56013083 0.075491  ]], shape=(1, 4), dtype=float32)\n",
      "[0.6, 0.3, 0.7, 0.4]\n",
      "tf.Tensor([[0.02476462 0.33370265 0.5624948  0.07903792]], shape=(1, 4), dtype=float32)\n",
      "[0.9, 0.3, 0.7, 0.4]\n",
      "tf.Tensor([[0.02083642 0.31848973 0.5863353  0.07433847]], shape=(1, 4), dtype=float32)\n",
      "[0.6, 0.3, 0.7, 0.4]\n",
      "tf.Tensor([[0.02289983 0.32717156 0.5730582  0.07687035]], shape=(1, 4), dtype=float32)\n",
      "[0.9, 0.3, 0.7, 0.4]\n",
      "tf.Tensor([[0.02083642 0.31848973 0.5863353  0.07433847]], shape=(1, 4), dtype=float32)\n",
      "[0.6, 0.3, 0.7, 0.4]\n",
      "tf.Tensor([[0.02289983 0.32717156 0.5730582  0.07687035]], shape=(1, 4), dtype=float32)\n",
      "[0.9, 0.3, 0.7, 0.4]\n",
      "tf.Tensor([[0.02083642 0.31848973 0.5863353  0.07433847]], shape=(1, 4), dtype=float32)\n",
      "[0.6, 0.3, 0.7, 0.4]\n",
      "tf.Tensor([[0.02289983 0.32717156 0.5730582  0.07687035]], shape=(1, 4), dtype=float32)\n",
      "[0.9, 0.3, 0.7, 0.4]\n",
      "tf.Tensor([[0.02083642 0.31848973 0.5863353  0.07433847]], shape=(1, 4), dtype=float32)\n",
      "[0.6, 0.3, 0.7, 0.4]\n",
      "tf.Tensor([[0.02289983 0.32717156 0.5730582  0.07687035]], shape=(1, 4), dtype=float32)\n",
      "[0.9, 0.3, 0.7, 0.4]\n",
      "tf.Tensor([[0.02083642 0.31848973 0.5863353  0.07433847]], shape=(1, 4), dtype=float32)\n",
      "[0.6, 0.3, 0.7, 0.4]\n",
      "tf.Tensor([[0.02289983 0.32717156 0.5730582  0.07687035]], shape=(1, 4), dtype=float32)\n",
      "[0.9, 0.3, 0.7, 0.4]\n",
      "tf.Tensor([[0.02083642 0.31848973 0.5863353  0.07433847]], shape=(1, 4), dtype=float32)\n",
      "[0.6, 0.3, 0.7, 0.4]\n",
      "tf.Tensor([[0.02289983 0.32717156 0.5730582  0.07687035]], shape=(1, 4), dtype=float32)\n"
     ]
    },
    {
     "name": "stderr",
     "output_type": "stream",
     "text": [
      "\r",
      " 51%|████████████████████████████████████▉                                   | 15401/30000 [4:10:14<3:33:24,  1.14it/s]"
     ]
    },
    {
     "name": "stdout",
     "output_type": "stream",
     "text": [
      "[0.9, 0.3, 0.7, 0.4]\n",
      "tf.Tensor([[0.02083642 0.31848973 0.5863353  0.07433847]], shape=(1, 4), dtype=float32)\n",
      "[0.6, 0.3, 0.7, 0.4]\n",
      "tf.Tensor([[0.02289983 0.32717156 0.5730582  0.07687035]], shape=(1, 4), dtype=float32)\n",
      "[0.9, 0.3, 0.7, 0.4]\n",
      "tf.Tensor([[0.02083642 0.31848973 0.5863353  0.07433847]], shape=(1, 4), dtype=float32)\n"
     ]
    },
    {
     "name": "stderr",
     "output_type": "stream",
     "text": [
      " 52%|█████████████████████████████████████▏                                  | 15501/30000 [4:11:25<2:35:15,  1.56it/s]"
     ]
    },
    {
     "name": "stdout",
     "output_type": "stream",
     "text": [
      "-4.133715578172925\n",
      "77\n"
     ]
    },
    {
     "name": "stderr",
     "output_type": "stream",
     "text": [
      " 52%|█████████████████████████████████████▍                                  | 15600/30000 [4:12:35<4:04:57,  1.02s/it]"
     ]
    },
    {
     "name": "stdout",
     "output_type": "stream",
     "text": [
      "-5.894574646827534\n",
      "83\n",
      "[0.1, 0.2, 0.5, 0.7]\n",
      "tf.Tensor([[8.8307395e-04 5.1118638e-02 9.0032327e-01 4.7674991e-02]], shape=(1, 4), dtype=float32)\n",
      "[0.1, 0.5, 0.5, 0.7]\n",
      "tf.Tensor([[0.00104021 0.05704952 0.89110327 0.050807  ]], shape=(1, 4), dtype=float32)\n",
      "[0.4, 0.5, 0.5, 0.7]\n",
      "tf.Tensor([[0.0015745  0.06752191 0.8708756  0.06002803]], shape=(1, 4), dtype=float32)\n",
      "[0.4, 0.8, 0.5, 0.7]\n",
      "tf.Tensor([[0.00996765 0.18376312 0.69648457 0.10978471]], shape=(1, 4), dtype=float32)\n",
      "[0.7, 0.8, 0.5, 0.7]\n",
      "tf.Tensor([[0.01495994 0.25240168 0.6368218  0.09581657]], shape=(1, 4), dtype=float32)\n",
      "[0.4, 0.8, 0.5, 0.7]\n",
      "tf.Tensor([[0.01737439 0.26995987 0.6172421  0.09542362]], shape=(1, 4), dtype=float32)\n",
      "[0.7, 0.8, 0.5, 0.7]\n",
      "tf.Tensor([[0.01873768 0.29280448 0.603717   0.08474085]], shape=(1, 4), dtype=float32)\n",
      "[0.4, 0.8, 0.5, 0.7]\n",
      "tf.Tensor([[0.02013792 0.29789189 0.5942164  0.08775376]], shape=(1, 4), dtype=float32)\n",
      "[0.7, 0.8, 0.5, 0.7]\n",
      "tf.Tensor([[0.01873768 0.29280448 0.603717   0.08474085]], shape=(1, 4), dtype=float32)\n",
      "[0.4, 0.8, 0.5, 0.7]\n",
      "tf.Tensor([[0.02013792 0.29789189 0.5942164  0.08775376]], shape=(1, 4), dtype=float32)\n",
      "[0.7, 0.8, 0.5, 0.7]\n",
      "tf.Tensor([[0.01873768 0.29280448 0.603717   0.08474085]], shape=(1, 4), dtype=float32)\n",
      "[0.4, 0.8, 0.5, 0.7]\n",
      "tf.Tensor([[0.02013792 0.29789189 0.5942164  0.08775376]], shape=(1, 4), dtype=float32)\n",
      "[0.7, 0.8, 0.5, 0.7]\n",
      "tf.Tensor([[0.01873768 0.29280448 0.603717   0.08474085]], shape=(1, 4), dtype=float32)\n",
      "[0.4, 0.8, 0.5, 0.7]\n",
      "tf.Tensor([[0.02013792 0.29789189 0.5942164  0.08775376]], shape=(1, 4), dtype=float32)\n",
      "[0.7, 0.8, 0.5, 0.7]\n",
      "tf.Tensor([[0.01873768 0.29280448 0.603717   0.08474085]], shape=(1, 4), dtype=float32)\n",
      "[0.4, 0.8, 0.5, 0.7]\n",
      "tf.Tensor([[0.02013792 0.29789189 0.5942164  0.08775376]], shape=(1, 4), dtype=float32)\n"
     ]
    },
    {
     "name": "stderr",
     "output_type": "stream",
     "text": [
      "\r",
      " 52%|█████████████████████████████████████▍                                  | 15601/30000 [4:12:36<3:25:45,  1.17it/s]"
     ]
    },
    {
     "name": "stdout",
     "output_type": "stream",
     "text": [
      "[0.7, 0.8, 0.5, 0.7]\n",
      "tf.Tensor([[0.01873768 0.29280448 0.603717   0.08474085]], shape=(1, 4), dtype=float32)\n",
      "[0.4, 0.8, 0.5, 0.7]\n",
      "tf.Tensor([[0.02013792 0.29789189 0.5942164  0.08775376]], shape=(1, 4), dtype=float32)\n",
      "[0.7, 0.8, 0.5, 0.7]\n",
      "tf.Tensor([[0.01873768 0.29280448 0.603717   0.08474085]], shape=(1, 4), dtype=float32)\n",
      "[0.4, 0.8, 0.5, 0.7]\n",
      "tf.Tensor([[0.02013792 0.29789189 0.5942164  0.08775376]], shape=(1, 4), dtype=float32)\n"
     ]
    },
    {
     "name": "stderr",
     "output_type": "stream",
     "text": [
      " 52%|█████████████████████████████████████▋                                  | 15701/30000 [4:13:51<1:50:34,  2.16it/s]"
     ]
    },
    {
     "name": "stdout",
     "output_type": "stream",
     "text": [
      "-1.6096376624220716\n",
      "82\n"
     ]
    },
    {
     "name": "stderr",
     "output_type": "stream",
     "text": [
      " 53%|█████████████████████████████████████▉                                  | 15800/30000 [4:15:08<3:39:54,  1.08it/s]"
     ]
    },
    {
     "name": "stdout",
     "output_type": "stream",
     "text": [
      "-6.830141842861151\n",
      "82\n",
      "[0.8, 0.1, 0.2, 0.9]\n",
      "tf.Tensor([[0.00096507 0.05288829 0.8958447  0.05030195]], shape=(1, 4), dtype=float32)\n",
      "[0.8, 0.4, 0.2, 0.9]\n",
      "tf.Tensor([[0.00101028 0.05689301 0.89126104 0.05083564]], shape=(1, 4), dtype=float32)\n",
      "[0.5, 0.4, 0.2, 0.9]\n",
      "tf.Tensor([[0.0018145  0.07414339 0.8605308  0.06351131]], shape=(1, 4), dtype=float32)\n",
      "[0.5, 0.7, 0.2, 0.9]\n",
      "tf.Tensor([[0.01909747 0.2947217  0.60175705 0.0844238 ]], shape=(1, 4), dtype=float32)\n",
      "[0.2, 0.7, 0.2, 0.9]\n",
      "tf.Tensor([[0.02048431 0.28895643 0.5991684  0.09139094]], shape=(1, 4), dtype=float32)\n",
      "[0.2, 1.0, 0.2, 0.9]\n",
      "tf.Tensor([[0.01863854 0.2691774  0.61513424 0.09704982]], shape=(1, 4), dtype=float32)\n",
      "[0.2, 0.7, 0.2, 0.9]\n",
      "tf.Tensor([[0.02013139 0.26734418 0.6113589  0.10116556]], shape=(1, 4), dtype=float32)\n",
      "[0.2, 1.0, 0.2, 0.9]\n",
      "tf.Tensor([[0.02057433 0.26916885 0.60795164 0.10230518]], shape=(1, 4), dtype=float32)\n",
      "[0.2, 0.7, 0.2, 0.9]\n",
      "tf.Tensor([[0.02308323 0.27834207 0.59569645 0.10287825]], shape=(1, 4), dtype=float32)\n",
      "[0.2, 1.0, 0.2, 0.9]\n",
      "tf.Tensor([[0.02057433 0.26916885 0.60795164 0.10230518]], shape=(1, 4), dtype=float32)\n",
      "[0.2, 0.7, 0.2, 0.9]\n",
      "tf.Tensor([[0.02308323 0.27834207 0.59569645 0.10287825]], shape=(1, 4), dtype=float32)\n",
      "[0.2, 1.0, 0.2, 0.9]\n",
      "tf.Tensor([[0.02057433 0.26916885 0.60795164 0.10230518]], shape=(1, 4), dtype=float32)\n",
      "[0.2, 0.7, 0.2, 0.9]\n",
      "tf.Tensor([[0.02308323 0.27834207 0.59569645 0.10287825]], shape=(1, 4), dtype=float32)\n",
      "[0.2, 1.0, 0.2, 0.9]\n",
      "tf.Tensor([[0.02057433 0.26916885 0.60795164 0.10230518]], shape=(1, 4), dtype=float32)\n",
      "[0.2, 0.7, 0.2, 0.9]\n",
      "tf.Tensor([[0.02308323 0.27834207 0.59569645 0.10287825]], shape=(1, 4), dtype=float32)\n",
      "[0.2, 1.0, 0.2, 0.9]\n",
      "tf.Tensor([[0.02057433 0.26916885 0.60795164 0.10230518]], shape=(1, 4), dtype=float32)\n",
      "[0.2, 0.7, 0.2, 0.9]\n",
      "tf.Tensor([[0.02308323 0.27834207 0.59569645 0.10287825]], shape=(1, 4), dtype=float32)\n",
      "[0.2, 1.0, 0.2, 0.9]\n"
     ]
    },
    {
     "name": "stderr",
     "output_type": "stream",
     "text": [
      "\r",
      " 53%|█████████████████████████████████████▉                                  | 15801/30000 [4:15:09<4:27:32,  1.13s/it]"
     ]
    },
    {
     "name": "stdout",
     "output_type": "stream",
     "text": [
      "tf.Tensor([[0.02057433 0.26916885 0.60795164 0.10230518]], shape=(1, 4), dtype=float32)\n",
      "[0.2, 0.7, 0.2, 0.9]\n",
      "tf.Tensor([[0.02308323 0.27834207 0.59569645 0.10287825]], shape=(1, 4), dtype=float32)\n",
      "[0.2, 1.0, 0.2, 0.9]\n",
      "tf.Tensor([[0.02057433 0.26916885 0.60795164 0.10230518]], shape=(1, 4), dtype=float32)\n"
     ]
    },
    {
     "name": "stderr",
     "output_type": "stream",
     "text": [
      " 53%|██████████████████████████████████████▏                                 | 15901/30000 [4:16:22<2:49:58,  1.38it/s]"
     ]
    },
    {
     "name": "stdout",
     "output_type": "stream",
     "text": [
      "-2.8928448300706835\n",
      "80\n"
     ]
    },
    {
     "name": "stderr",
     "output_type": "stream",
     "text": [
      " 53%|██████████████████████████████████████▍                                 | 15999/30000 [4:17:36<3:28:02,  1.12it/s]"
     ]
    },
    {
     "name": "stdout",
     "output_type": "stream",
     "text": [
      "-5.340646082465778\n",
      "77\n",
      "[0.0, 0.5, 0.1, 0.1]\n",
      "tf.Tensor([[8.9750963e-04 5.0048776e-02 8.9983690e-01 4.9216766e-02]], shape=(1, 4), dtype=float32)\n",
      "[0.0, 0.2, 0.1, 0.1]\n",
      "tf.Tensor([[0.00102654 0.05337493 0.89372176 0.05187671]], shape=(1, 4), dtype=float32)\n",
      "[0.3, 0.2, 0.1, 0.1]\n",
      "tf.Tensor([[0.00144851 0.0656323  0.8743127  0.05860653]], shape=(1, 4), dtype=float32)\n",
      "[0.0, 0.2, 0.1, 0.1]\n",
      "tf.Tensor([[0.01210832 0.21012427 0.67143166 0.10633578]], shape=(1, 4), dtype=float32)\n",
      "[0.3, 0.2, 0.1, 0.1]\n",
      "tf.Tensor([[0.00820806 0.17859542 0.71389115 0.09930542]], shape=(1, 4), dtype=float32)\n",
      "[0.0, 0.2, 0.1, 0.1]\n",
      "tf.Tensor([[0.00900789 0.18163279 0.7055164  0.10384301]], shape=(1, 4), dtype=float32)\n",
      "[0.3, 0.2, 0.1, 0.1]\n",
      "tf.Tensor([[0.00820806 0.17859542 0.71389115 0.09930542]], shape=(1, 4), dtype=float32)\n",
      "[0.0, 0.2, 0.1, 0.1]\n",
      "tf.Tensor([[0.00900789 0.18163279 0.7055164  0.10384301]], shape=(1, 4), dtype=float32)\n",
      "[0.3, 0.2, 0.1, 0.1]\n",
      "tf.Tensor([[0.00820806 0.17859542 0.71389115 0.09930542]], shape=(1, 4), dtype=float32)\n",
      "[0.0, 0.2, 0.1, 0.1]\n",
      "tf.Tensor([[0.00900789 0.18163279 0.7055164  0.10384301]], shape=(1, 4), dtype=float32)\n",
      "[0.3, 0.2, 0.1, 0.1]\n",
      "tf.Tensor([[0.00820806 0.17859542 0.71389115 0.09930542]], shape=(1, 4), dtype=float32)\n",
      "[0.0, 0.2, 0.1, 0.1]\n",
      "tf.Tensor([[0.00900789 0.18163279 0.7055164  0.10384301]], shape=(1, 4), dtype=float32)\n",
      "[0.3, 0.2, 0.1, 0.1]\n",
      "tf.Tensor([[0.00820806 0.17859542 0.71389115 0.09930542]], shape=(1, 4), dtype=float32)\n",
      "[0.0, 0.2, 0.1, 0.1]\n",
      "tf.Tensor([[0.00900789 0.18163279 0.7055164  0.10384301]], shape=(1, 4), dtype=float32)\n",
      "[0.3, 0.2, 0.1, 0.1]\n",
      "tf.Tensor([[0.00820806 0.17859542 0.71389115 0.09930542]], shape=(1, 4), dtype=float32)\n",
      "[0.0, 0.2, 0.1, 0.1]\n",
      "tf.Tensor([[0.00900789 0.18163279 0.7055164  0.10384301]], shape=(1, 4), dtype=float32)\n",
      "[0.3, 0.2, 0.1, 0.1]\n",
      "tf.Tensor([[0.00820806 0.17859542 0.71389115 0.09930542]], shape=(1, 4), dtype=float32)\n"
     ]
    },
    {
     "name": "stderr",
     "output_type": "stream",
     "text": [
      "\r",
      " 53%|██████████████████████████████████████▍                                 | 16001/30000 [4:17:36<2:44:41,  1.42it/s]"
     ]
    },
    {
     "name": "stdout",
     "output_type": "stream",
     "text": [
      "[0.0, 0.2, 0.1, 0.1]\n",
      "tf.Tensor([[0.00900789 0.18163279 0.7055164  0.10384301]], shape=(1, 4), dtype=float32)\n",
      "[0.3, 0.2, 0.1, 0.1]\n",
      "tf.Tensor([[0.00820806 0.17859542 0.71389115 0.09930542]], shape=(1, 4), dtype=float32)\n",
      "[0.0, 0.2, 0.1, 0.1]\n",
      "tf.Tensor([[0.00900789 0.18163279 0.7055164  0.10384301]], shape=(1, 4), dtype=float32)\n"
     ]
    },
    {
     "name": "stderr",
     "output_type": "stream",
     "text": [
      " 54%|██████████████████████████████████████▋                                 | 16101/30000 [4:18:47<2:47:45,  1.38it/s]"
     ]
    },
    {
     "name": "stdout",
     "output_type": "stream",
     "text": [
      "-3.7739953932395522\n",
      "90\n"
     ]
    },
    {
     "name": "stderr",
     "output_type": "stream",
     "text": [
      " 54%|██████████████████████████████████████▉                                 | 16200/30000 [4:19:54<2:52:46,  1.33it/s]"
     ]
    },
    {
     "name": "stdout",
     "output_type": "stream",
     "text": [
      "-1.975338491045059\n",
      "78\n",
      "[0.8, 0.3, 0.6, 0.2]\n",
      "tf.Tensor([[7.9656154e-04 4.9267057e-02 9.0032798e-01 4.9608327e-02]], shape=(1, 4), dtype=float32)\n",
      "[0.5, 0.3, 0.6, 0.2]\n",
      "tf.Tensor([[0.00096192 0.05372508 0.8921722  0.05314076]], shape=(1, 4), dtype=float32)\n",
      "[0.8, 0.3, 0.6, 0.2]\n",
      "tf.Tensor([[0.00137837 0.06773478 0.87023133 0.0606555 ]], shape=(1, 4), dtype=float32)\n",
      "[0.5, 0.3, 0.6, 0.2]\n",
      "tf.Tensor([[0.02217646 0.32309332 0.5611217  0.09360848]], shape=(1, 4), dtype=float32)\n",
      "[0.8, 0.3, 0.6, 0.2]\n",
      "tf.Tensor([[0.01990427 0.31306252 0.5762033  0.09082995]], shape=(1, 4), dtype=float32)\n",
      "[0.5, 0.3, 0.6, 0.2]\n",
      "tf.Tensor([[0.02217646 0.32309332 0.5611217  0.09360848]], shape=(1, 4), dtype=float32)\n",
      "[0.8, 0.3, 0.6, 0.2]\n",
      "tf.Tensor([[0.01990427 0.31306252 0.5762033  0.09082995]], shape=(1, 4), dtype=float32)\n",
      "[0.5, 0.3, 0.6, 0.2]\n",
      "tf.Tensor([[0.02217646 0.32309332 0.5611217  0.09360848]], shape=(1, 4), dtype=float32)\n",
      "[0.8, 0.3, 0.6, 0.2]\n",
      "tf.Tensor([[0.01990427 0.31306252 0.5762033  0.09082995]], shape=(1, 4), dtype=float32)\n",
      "[0.5, 0.3, 0.6, 0.2]\n",
      "tf.Tensor([[0.02217646 0.32309332 0.5611217  0.09360848]], shape=(1, 4), dtype=float32)\n",
      "[0.8, 0.3, 0.6, 0.2]\n",
      "tf.Tensor([[0.01990427 0.31306252 0.5762033  0.09082995]], shape=(1, 4), dtype=float32)\n",
      "[0.5, 0.3, 0.6, 0.2]\n",
      "tf.Tensor([[0.02217646 0.32309332 0.5611217  0.09360848]], shape=(1, 4), dtype=float32)\n",
      "[0.8, 0.3, 0.6, 0.2]\n",
      "tf.Tensor([[0.01990427 0.31306252 0.5762033  0.09082995]], shape=(1, 4), dtype=float32)\n",
      "[0.5, 0.3, 0.6, 0.2]\n",
      "tf.Tensor([[0.02217646 0.32309332 0.5611217  0.09360848]], shape=(1, 4), dtype=float32)\n",
      "[0.8, 0.3, 0.6, 0.2]\n",
      "tf.Tensor([[0.01990427 0.31306252 0.5762033  0.09082995]], shape=(1, 4), dtype=float32)\n",
      "[0.5, 0.3, 0.6, 0.2]\n",
      "tf.Tensor([[0.02217646 0.32309332 0.5611217  0.09360848]], shape=(1, 4), dtype=float32)\n",
      "[0.8, 0.3, 0.6, 0.2]\n"
     ]
    },
    {
     "name": "stderr",
     "output_type": "stream",
     "text": [
      "\r",
      " 54%|██████████████████████████████████████▉                                 | 16201/30000 [4:19:55<2:33:19,  1.50it/s]"
     ]
    },
    {
     "name": "stdout",
     "output_type": "stream",
     "text": [
      "tf.Tensor([[0.01990427 0.31306252 0.5762033  0.09082995]], shape=(1, 4), dtype=float32)\n",
      "[0.5, 0.3, 0.6, 0.2]\n",
      "tf.Tensor([[0.02217646 0.32309332 0.5611217  0.09360848]], shape=(1, 4), dtype=float32)\n",
      "[0.8, 0.3, 0.6, 0.2]\n",
      "tf.Tensor([[0.01990427 0.31306252 0.5762033  0.09082995]], shape=(1, 4), dtype=float32)\n",
      "[0.5, 0.3, 0.6, 0.2]\n",
      "tf.Tensor([[0.02217646 0.32309332 0.5611217  0.09360848]], shape=(1, 4), dtype=float32)\n"
     ]
    },
    {
     "name": "stderr",
     "output_type": "stream",
     "text": [
      " 54%|███████████████████████████████████████                                 | 16301/30000 [4:21:04<2:48:43,  1.35it/s]"
     ]
    },
    {
     "name": "stdout",
     "output_type": "stream",
     "text": [
      "-4.477551161230792\n",
      "78\n"
     ]
    },
    {
     "name": "stderr",
     "output_type": "stream",
     "text": [
      " 55%|███████████████████████████████████████▎                                | 16400/30000 [4:22:10<2:35:39,  1.46it/s]"
     ]
    },
    {
     "name": "stdout",
     "output_type": "stream",
     "text": [
      "-4.4002900899396975\n",
      "83\n",
      "[0.1, 0.3, 0.5, 0.7]\n",
      "tf.Tensor([[7.1805785e-04 4.8310343e-02 9.0431505e-01 4.6656568e-02]], shape=(1, 4), dtype=float32)\n",
      "[0.1, 0.6, 0.5, 0.7]\n",
      "tf.Tensor([[8.6148846e-04 5.4652952e-02 8.9427119e-01 5.0214380e-02]], shape=(1, 4), dtype=float32)\n",
      "[0.4, 0.6, 0.5, 0.7]\n",
      "tf.Tensor([[0.001265   0.0671431  0.8733251  0.05826683]], shape=(1, 4), dtype=float32)\n",
      "[0.7, 0.6, 0.5, 0.7]\n",
      "tf.Tensor([[0.00809106 0.20043135 0.69789296 0.09358458]], shape=(1, 4), dtype=float32)\n",
      "[0.4, 0.6, 0.5, 0.7]\n",
      "tf.Tensor([[0.01349169 0.2684464  0.63210464 0.08595727]], shape=(1, 4), dtype=float32)\n",
      "[0.7, 0.6, 0.5, 0.7]\n",
      "tf.Tensor([[0.01405653 0.29137287 0.6183924  0.07617817]], shape=(1, 4), dtype=float32)\n",
      "[0.4, 0.6, 0.5, 0.7]\n",
      "tf.Tensor([[0.01563417 0.3007547  0.6047311  0.07888002]], shape=(1, 4), dtype=float32)\n",
      "[0.7, 0.6, 0.5, 0.7]\n",
      "tf.Tensor([[0.01405653 0.29137287 0.6183924  0.07617817]], shape=(1, 4), dtype=float32)\n",
      "[0.4, 0.6, 0.5, 0.7]\n",
      "tf.Tensor([[0.01563417 0.3007547  0.6047311  0.07888002]], shape=(1, 4), dtype=float32)\n",
      "[0.7, 0.6, 0.5, 0.7]\n",
      "tf.Tensor([[0.01405653 0.29137287 0.6183924  0.07617817]], shape=(1, 4), dtype=float32)\n",
      "[0.4, 0.6, 0.5, 0.7]\n",
      "tf.Tensor([[0.01563417 0.3007547  0.6047311  0.07888002]], shape=(1, 4), dtype=float32)\n",
      "[0.7, 0.6, 0.5, 0.7]\n",
      "tf.Tensor([[0.01405653 0.29137287 0.6183924  0.07617817]], shape=(1, 4), dtype=float32)\n",
      "[0.4, 0.6, 0.5, 0.7]\n",
      "tf.Tensor([[0.01563417 0.3007547  0.6047311  0.07888002]], shape=(1, 4), dtype=float32)\n",
      "[0.7, 0.6, 0.5, 0.7]\n",
      "tf.Tensor([[0.01405653 0.29137287 0.6183924  0.07617817]], shape=(1, 4), dtype=float32)\n",
      "[0.4, 0.6, 0.5, 0.7]\n",
      "tf.Tensor([[0.01563417 0.3007547  0.6047311  0.07888002]], shape=(1, 4), dtype=float32)\n",
      "[0.7, 0.6, 0.5, 0.7]\n",
      "tf.Tensor([[0.01405653 0.29137287 0.6183924  0.07617817]], shape=(1, 4), dtype=float32)\n",
      "[0.4, 0.6, 0.5, 0.7]\n",
      "tf.Tensor([[0.01563417 0.3007547  0.6047311  0.07888002]], shape=(1, 4), dtype=float32)\n",
      "[0.7, 0.6, 0.5, 0.7]\n",
      "tf.Tensor([[0.01405653 0.29137287 0.6183924  0.07617817]], shape=(1, 4), dtype=float32)\n"
     ]
    },
    {
     "name": "stderr",
     "output_type": "stream",
     "text": [
      "\r",
      " 55%|███████████████████████████████████████▎                                | 16401/30000 [4:22:11<2:54:21,  1.30it/s]"
     ]
    },
    {
     "name": "stdout",
     "output_type": "stream",
     "text": [
      "[0.4, 0.6, 0.5, 0.7]\n",
      "tf.Tensor([[0.01563417 0.3007547  0.6047311  0.07888002]], shape=(1, 4), dtype=float32)\n",
      "[0.7, 0.6, 0.5, 0.7]\n",
      "tf.Tensor([[0.01405653 0.29137287 0.6183924  0.07617817]], shape=(1, 4), dtype=float32)\n"
     ]
    },
    {
     "name": "stderr",
     "output_type": "stream",
     "text": [
      " 55%|███████████████████████████████████████▌                                | 16501/30000 [4:23:28<3:26:11,  1.09it/s]"
     ]
    },
    {
     "name": "stdout",
     "output_type": "stream",
     "text": [
      "-6.73931477174337\n",
      "76\n"
     ]
    },
    {
     "name": "stderr",
     "output_type": "stream",
     "text": [
      " 55%|███████████████████████████████████████▊                                | 16600/30000 [4:24:42<3:52:16,  1.04s/it]"
     ]
    },
    {
     "name": "stdout",
     "output_type": "stream",
     "text": [
      "-6.98513206368815\n",
      "77\n",
      "[0.0, 0.2, 0.2, 0.9]\n",
      "tf.Tensor([[7.3758059e-04 5.2370481e-02 8.9817721e-01 4.8714623e-02]], shape=(1, 4), dtype=float32)\n",
      "[0.0, 0.5, 0.2, 0.9]\n",
      "tf.Tensor([[0.00091691 0.05791662 0.8877453  0.05342115]], shape=(1, 4), dtype=float32)\n",
      "[0.0, 0.8, 0.2, 0.9]\n",
      "tf.Tensor([[0.00139695 0.07397486 0.86162543 0.06300278]], shape=(1, 4), dtype=float32)\n",
      "[0.3, 0.8, 0.2, 0.9]\n",
      "tf.Tensor([[0.00556821 0.16097015 0.7362857  0.09717604]], shape=(1, 4), dtype=float32)\n",
      "[0.0, 0.8, 0.2, 0.9]\n",
      "tf.Tensor([[0.00874681 0.20446974 0.68326217 0.10352124]], shape=(1, 4), dtype=float32)\n",
      "[0.3, 0.8, 0.2, 0.9]\n",
      "tf.Tensor([[0.01006619 0.24156591 0.6571663  0.09120161]], shape=(1, 4), dtype=float32)\n",
      "[0.0, 0.8, 0.2, 0.9]\n",
      "tf.Tensor([[0.01041651 0.23641379 0.6569169  0.09625271]], shape=(1, 4), dtype=float32)\n",
      "[0.3, 0.8, 0.2, 0.9]\n",
      "tf.Tensor([[0.01006619 0.24156591 0.6571663  0.09120161]], shape=(1, 4), dtype=float32)\n",
      "[0.0, 0.8, 0.2, 0.9]\n",
      "tf.Tensor([[0.01041651 0.23641379 0.6569169  0.09625271]], shape=(1, 4), dtype=float32)\n",
      "[0.3, 0.8, 0.2, 0.9]\n",
      "tf.Tensor([[0.01006619 0.24156591 0.6571663  0.09120161]], shape=(1, 4), dtype=float32)\n",
      "[0.0, 0.8, 0.2, 0.9]\n",
      "tf.Tensor([[0.01041651 0.23641379 0.6569169  0.09625271]], shape=(1, 4), dtype=float32)\n",
      "[0.3, 0.8, 0.2, 0.9]\n",
      "tf.Tensor([[0.01006619 0.24156591 0.6571663  0.09120161]], shape=(1, 4), dtype=float32)\n",
      "[0.0, 0.8, 0.2, 0.9]\n",
      "tf.Tensor([[0.01041651 0.23641379 0.6569169  0.09625271]], shape=(1, 4), dtype=float32)\n",
      "[0.3, 0.8, 0.2, 0.9]\n",
      "tf.Tensor([[0.01006619 0.24156591 0.6571663  0.09120161]], shape=(1, 4), dtype=float32)\n",
      "[0.0, 0.8, 0.2, 0.9]\n",
      "tf.Tensor([[0.01041651 0.23641379 0.6569169  0.09625271]], shape=(1, 4), dtype=float32)\n",
      "[0.3, 0.8, 0.2, 0.9]\n",
      "tf.Tensor([[0.01006619 0.24156591 0.6571663  0.09120161]], shape=(1, 4), dtype=float32)\n",
      "[0.0, 0.8, 0.2, 0.9]\n",
      "tf.Tensor([[0.01041651 0.23641379 0.6569169  0.09625271]], shape=(1, 4), dtype=float32)\n"
     ]
    },
    {
     "name": "stderr",
     "output_type": "stream",
     "text": [
      "\r",
      " 55%|███████████████████████████████████████▊                                | 16601/30000 [4:24:43<4:10:24,  1.12s/it]"
     ]
    },
    {
     "name": "stdout",
     "output_type": "stream",
     "text": [
      "[0.3, 0.8, 0.2, 0.9]\n",
      "tf.Tensor([[0.01006619 0.24156591 0.6571663  0.09120161]], shape=(1, 4), dtype=float32)\n",
      "[0.0, 0.8, 0.2, 0.9]\n",
      "tf.Tensor([[0.01041651 0.23641379 0.6569169  0.09625271]], shape=(1, 4), dtype=float32)\n",
      "[0.3, 0.8, 0.2, 0.9]\n",
      "tf.Tensor([[0.01006619 0.24156591 0.6571663  0.09120161]], shape=(1, 4), dtype=float32)\n"
     ]
    },
    {
     "name": "stderr",
     "output_type": "stream",
     "text": [
      " 56%|████████████████████████████████████████                                | 16701/30000 [4:25:54<3:30:26,  1.05it/s]"
     ]
    },
    {
     "name": "stdout",
     "output_type": "stream",
     "text": [
      "-7.227359594983972\n",
      "74\n"
     ]
    },
    {
     "name": "stderr",
     "output_type": "stream",
     "text": [
      " 56%|████████████████████████████████████████▎                               | 16800/30000 [4:27:09<2:44:58,  1.33it/s]"
     ]
    },
    {
     "name": "stdout",
     "output_type": "stream",
     "text": [
      "-6.091332051946105\n",
      "73\n",
      "[0.2, 0.4, 0.2, 0.9]\n",
      "tf.Tensor([[5.652210e-04 4.575231e-02 9.105896e-01 4.309291e-02]], shape=(1, 4), dtype=float32)\n",
      "[0.2, 0.7, 0.2, 0.9]\n",
      "tf.Tensor([[6.8718218e-04 4.9779762e-02 9.0306646e-01 4.6466563e-02]], shape=(1, 4), dtype=float32)\n",
      "[0.2, 1.0, 0.2, 0.9]\n",
      "tf.Tensor([[0.00110242 0.06574979 0.8777115  0.05543634]], shape=(1, 4), dtype=float32)\n",
      "[0.2, 0.7, 0.2, 0.9]\n",
      "tf.Tensor([[0.00879994 0.18922125 0.6951358  0.10684302]], shape=(1, 4), dtype=float32)\n",
      "[0.2, 1.0, 0.2, 0.9]\n",
      "tf.Tensor([[0.01024223 0.21765304 0.6705863  0.10151845]], shape=(1, 4), dtype=float32)\n",
      "[0.2, 0.7, 0.2, 0.9]\n",
      "tf.Tensor([[0.01135481 0.22301589 0.6625823  0.10304701]], shape=(1, 4), dtype=float32)\n",
      "[0.2, 1.0, 0.2, 0.9]\n",
      "tf.Tensor([[0.01024223 0.21765304 0.6705863  0.10151845]], shape=(1, 4), dtype=float32)\n",
      "[0.2, 0.7, 0.2, 0.9]\n",
      "tf.Tensor([[0.01135481 0.22301589 0.6625823  0.10304701]], shape=(1, 4), dtype=float32)\n",
      "[0.2, 1.0, 0.2, 0.9]\n",
      "tf.Tensor([[0.01024223 0.21765304 0.6705863  0.10151845]], shape=(1, 4), dtype=float32)\n",
      "[0.2, 0.7, 0.2, 0.9]\n",
      "tf.Tensor([[0.01135481 0.22301589 0.6625823  0.10304701]], shape=(1, 4), dtype=float32)\n",
      "[0.2, 1.0, 0.2, 0.9]\n",
      "tf.Tensor([[0.01024223 0.21765304 0.6705863  0.10151845]], shape=(1, 4), dtype=float32)\n",
      "[0.2, 0.7, 0.2, 0.9]\n",
      "tf.Tensor([[0.01135481 0.22301589 0.6625823  0.10304701]], shape=(1, 4), dtype=float32)\n",
      "[0.2, 1.0, 0.2, 0.9]\n",
      "tf.Tensor([[0.01024223 0.21765304 0.6705863  0.10151845]], shape=(1, 4), dtype=float32)\n",
      "[0.2, 0.7, 0.2, 0.9]\n",
      "tf.Tensor([[0.01135481 0.22301589 0.6625823  0.10304701]], shape=(1, 4), dtype=float32)\n",
      "[0.2, 1.0, 0.2, 0.9]\n",
      "tf.Tensor([[0.01024223 0.21765304 0.6705863  0.10151845]], shape=(1, 4), dtype=float32)\n",
      "[0.2, 0.7, 0.2, 0.9]\n",
      "tf.Tensor([[0.01135481 0.22301589 0.6625823  0.10304701]], shape=(1, 4), dtype=float32)\n",
      "[0.2, 1.0, 0.2, 0.9]\n"
     ]
    },
    {
     "name": "stderr",
     "output_type": "stream",
     "text": [
      "\r",
      " 56%|████████████████████████████████████████▎                               | 16801/30000 [4:27:11<3:36:48,  1.01it/s]"
     ]
    },
    {
     "name": "stdout",
     "output_type": "stream",
     "text": [
      "tf.Tensor([[0.01024223 0.21765304 0.6705863  0.10151845]], shape=(1, 4), dtype=float32)\n",
      "[0.2, 0.7, 0.2, 0.9]\n",
      "tf.Tensor([[0.01135481 0.22301589 0.6625823  0.10304701]], shape=(1, 4), dtype=float32)\n",
      "[0.2, 1.0, 0.2, 0.9]\n",
      "tf.Tensor([[0.01024223 0.21765304 0.6705863  0.10151845]], shape=(1, 4), dtype=float32)\n",
      "[0.2, 0.7, 0.2, 0.9]\n",
      "tf.Tensor([[0.01135481 0.22301589 0.6625823  0.10304701]], shape=(1, 4), dtype=float32)\n"
     ]
    },
    {
     "name": "stderr",
     "output_type": "stream",
     "text": [
      " 56%|████████████████████████████████████████▌                               | 16901/30000 [4:28:25<2:53:55,  1.26it/s]"
     ]
    },
    {
     "name": "stdout",
     "output_type": "stream",
     "text": [
      "-4.523175996908551\n",
      "74\n"
     ]
    },
    {
     "name": "stderr",
     "output_type": "stream",
     "text": [
      " 57%|████████████████████████████████████████▊                               | 17000/30000 [4:29:46<3:03:31,  1.18it/s]"
     ]
    },
    {
     "name": "stdout",
     "output_type": "stream",
     "text": [
      "-4.407445582614531\n",
      "71\n",
      "[0.3, 0.4, 0.5, 0.7]\n",
      "tf.Tensor([[5.2215368e-04 4.5388371e-02 9.1326666e-01 4.0822875e-02]], shape=(1, 4), dtype=float32)\n",
      "[0.3, 0.7, 0.5, 0.7]\n",
      "tf.Tensor([[6.3699577e-04 5.2179359e-02 9.0282309e-01 4.4360489e-02]], shape=(1, 4), dtype=float32)\n",
      "[0.6, 0.7, 0.5, 0.7]\n",
      "tf.Tensor([[0.00091601 0.06585976 0.88335466 0.04986959]], shape=(1, 4), dtype=float32)\n",
      "[0.3, 0.7, 0.5, 0.7]\n",
      "tf.Tensor([[0.0095133  0.23443784 0.66731036 0.08873849]], shape=(1, 4), dtype=float32)\n",
      "[0.6, 0.7, 0.5, 0.7]\n",
      "tf.Tensor([[0.01034466 0.26108983 0.6507501  0.07781543]], shape=(1, 4), dtype=float32)\n",
      "[0.3, 0.7, 0.5, 0.7]\n",
      "tf.Tensor([[0.01096962 0.26348022 0.64416885 0.08138131]], shape=(1, 4), dtype=float32)\n",
      "[0.6, 0.7, 0.5, 0.7]\n",
      "tf.Tensor([[0.01034466 0.26108983 0.6507501  0.07781543]], shape=(1, 4), dtype=float32)\n",
      "[0.3, 0.7, 0.5, 0.7]\n",
      "tf.Tensor([[0.01096962 0.26348022 0.64416885 0.08138131]], shape=(1, 4), dtype=float32)\n",
      "[0.6, 0.7, 0.5, 0.7]\n",
      "tf.Tensor([[0.01034466 0.26108983 0.6507501  0.07781543]], shape=(1, 4), dtype=float32)\n",
      "[0.3, 0.7, 0.5, 0.7]\n",
      "tf.Tensor([[0.01096962 0.26348022 0.64416885 0.08138131]], shape=(1, 4), dtype=float32)\n",
      "[0.6, 0.7, 0.5, 0.7]\n",
      "tf.Tensor([[0.01034466 0.26108983 0.6507501  0.07781543]], shape=(1, 4), dtype=float32)\n",
      "[0.3, 0.7, 0.5, 0.7]\n",
      "tf.Tensor([[0.01096962 0.26348022 0.64416885 0.08138131]], shape=(1, 4), dtype=float32)\n",
      "[0.6, 0.7, 0.5, 0.7]\n",
      "tf.Tensor([[0.01034466 0.26108983 0.6507501  0.07781543]], shape=(1, 4), dtype=float32)\n",
      "[0.3, 0.7, 0.5, 0.7]\n",
      "tf.Tensor([[0.01096962 0.26348022 0.64416885 0.08138131]], shape=(1, 4), dtype=float32)\n",
      "[0.6, 0.7, 0.5, 0.7]\n",
      "tf.Tensor([[0.01034466 0.26108983 0.6507501  0.07781543]], shape=(1, 4), dtype=float32)\n",
      "[0.3, 0.7, 0.5, 0.7]\n",
      "tf.Tensor([[0.01096962 0.26348022 0.64416885 0.08138131]], shape=(1, 4), dtype=float32)\n"
     ]
    },
    {
     "name": "stderr",
     "output_type": "stream",
     "text": [
      "\r",
      " 57%|████████████████████████████████████████▊                               | 17001/30000 [4:29:46<2:46:12,  1.30it/s]"
     ]
    },
    {
     "name": "stdout",
     "output_type": "stream",
     "text": [
      "[0.6, 0.7, 0.5, 0.7]\n",
      "tf.Tensor([[0.01034466 0.26108983 0.6507501  0.07781543]], shape=(1, 4), dtype=float32)\n",
      "[0.3, 0.7, 0.5, 0.7]\n",
      "tf.Tensor([[0.01096962 0.26348022 0.64416885 0.08138131]], shape=(1, 4), dtype=float32)\n",
      "[0.6, 0.7, 0.5, 0.7]\n",
      "tf.Tensor([[0.01034466 0.26108983 0.6507501  0.07781543]], shape=(1, 4), dtype=float32)\n",
      "[0.3, 0.7, 0.5, 0.7]\n",
      "tf.Tensor([[0.01096962 0.26348022 0.64416885 0.08138131]], shape=(1, 4), dtype=float32)\n"
     ]
    },
    {
     "name": "stderr",
     "output_type": "stream",
     "text": [
      " 57%|█████████████████████████████████████████                               | 17101/30000 [4:31:03<2:32:38,  1.41it/s]"
     ]
    },
    {
     "name": "stdout",
     "output_type": "stream",
     "text": [
      "-4.463682818121251\n",
      "72\n"
     ]
    },
    {
     "name": "stderr",
     "output_type": "stream",
     "text": [
      " 57%|█████████████████████████████████████████▎                              | 17201/30000 [4:32:11<1:29:41,  2.38it/s]"
     ]
    },
    {
     "name": "stdout",
     "output_type": "stream",
     "text": [
      "-2.3787366205332217\n",
      "78\n",
      "[0.3, 0.5, 0.6, 0.2]\n",
      "tf.Tensor([[5.3127488e-04 5.1805094e-02 9.0377438e-01 4.3889284e-02]], shape=(1, 4), dtype=float32)\n",
      "[0.6, 0.5, 0.6, 0.2]\n",
      "tf.Tensor([[5.9886737e-04 5.5622581e-02 8.9816630e-01 4.5612272e-02]], shape=(1, 4), dtype=float32)\n"
     ]
    },
    {
     "name": "stderr",
     "output_type": "stream",
     "text": [
      " 58%|█████████████████████████████████████████▌                              | 17301/30000 [4:33:22<3:21:27,  1.05it/s]"
     ]
    },
    {
     "name": "stdout",
     "output_type": "stream",
     "text": [
      "-5.706030532544582\n",
      "76\n"
     ]
    },
    {
     "name": "stderr",
     "output_type": "stream",
     "text": [
      " 58%|█████████████████████████████████████████▊                              | 17400/30000 [4:34:32<2:23:46,  1.46it/s]"
     ]
    },
    {
     "name": "stdout",
     "output_type": "stream",
     "text": [
      "-3.563988815508042\n",
      "84\n",
      "[0.5, 0.8, 0.5, 0.7]\n",
      "tf.Tensor([[4.2999428e-04 4.6464548e-02 9.1328883e-01 3.9816603e-02]], shape=(1, 4), dtype=float32)\n",
      "[0.5, 0.5, 0.5, 0.7]\n",
      "tf.Tensor([[5.5475370e-04 5.0853159e-02 9.0407252e-01 4.4519514e-02]], shape=(1, 4), dtype=float32)\n",
      "[0.5, 0.8, 0.5, 0.7]\n",
      "tf.Tensor([[0.00094094 0.07075839 0.8748851  0.05341556]], shape=(1, 4), dtype=float32)\n",
      "[0.5, 0.5, 0.5, 0.7]\n",
      "tf.Tensor([[0.0117169  0.26912218 0.62418914 0.09497178]], shape=(1, 4), dtype=float32)\n",
      "[0.5, 0.8, 0.5, 0.7]\n",
      "tf.Tensor([[0.01069449 0.26426563 0.6319113  0.09312866]], shape=(1, 4), dtype=float32)\n",
      "[0.5, 0.5, 0.5, 0.7]\n",
      "tf.Tensor([[0.0117169  0.26912218 0.62418914 0.09497178]], shape=(1, 4), dtype=float32)\n",
      "[0.5, 0.8, 0.5, 0.7]\n",
      "tf.Tensor([[0.01069449 0.26426563 0.6319113  0.09312866]], shape=(1, 4), dtype=float32)\n",
      "[0.5, 0.5, 0.5, 0.7]\n",
      "tf.Tensor([[0.0117169  0.26912218 0.62418914 0.09497178]], shape=(1, 4), dtype=float32)\n",
      "[0.5, 0.8, 0.5, 0.7]\n",
      "tf.Tensor([[0.01069449 0.26426563 0.6319113  0.09312866]], shape=(1, 4), dtype=float32)\n",
      "[0.5, 0.5, 0.5, 0.7]\n",
      "tf.Tensor([[0.0117169  0.26912218 0.62418914 0.09497178]], shape=(1, 4), dtype=float32)\n",
      "[0.5, 0.8, 0.5, 0.7]\n",
      "tf.Tensor([[0.01069449 0.26426563 0.6319113  0.09312866]], shape=(1, 4), dtype=float32)\n",
      "[0.5, 0.5, 0.5, 0.7]\n",
      "tf.Tensor([[0.0117169  0.26912218 0.62418914 0.09497178]], shape=(1, 4), dtype=float32)\n",
      "[0.5, 0.8, 0.5, 0.7]\n",
      "tf.Tensor([[0.01069449 0.26426563 0.6319113  0.09312866]], shape=(1, 4), dtype=float32)\n",
      "[0.5, 0.5, 0.5, 0.7]\n",
      "tf.Tensor([[0.0117169  0.26912218 0.62418914 0.09497178]], shape=(1, 4), dtype=float32)\n",
      "[0.5, 0.8, 0.5, 0.7]\n",
      "tf.Tensor([[0.01069449 0.26426563 0.6319113  0.09312866]], shape=(1, 4), dtype=float32)\n",
      "[0.5, 0.5, 0.5, 0.7]\n",
      "tf.Tensor([[0.0117169  0.26912218 0.62418914 0.09497178]], shape=(1, 4), dtype=float32)\n"
     ]
    },
    {
     "name": "stderr",
     "output_type": "stream",
     "text": [
      "\r",
      " 58%|█████████████████████████████████████████▊                              | 17401/30000 [4:34:32<2:16:51,  1.53it/s]"
     ]
    },
    {
     "name": "stdout",
     "output_type": "stream",
     "text": [
      "[0.5, 0.8, 0.5, 0.7]\n",
      "tf.Tensor([[0.01069449 0.26426563 0.6319113  0.09312866]], shape=(1, 4), dtype=float32)\n",
      "[0.5, 0.5, 0.5, 0.7]\n",
      "tf.Tensor([[0.0117169  0.26912218 0.62418914 0.09497178]], shape=(1, 4), dtype=float32)\n",
      "[0.5, 0.8, 0.5, 0.7]\n",
      "tf.Tensor([[0.01069449 0.26426563 0.6319113  0.09312866]], shape=(1, 4), dtype=float32)\n",
      "[0.5, 0.5, 0.5, 0.7]\n",
      "tf.Tensor([[0.0117169  0.26912218 0.62418914 0.09497178]], shape=(1, 4), dtype=float32)\n"
     ]
    },
    {
     "name": "stderr",
     "output_type": "stream",
     "text": [
      " 58%|██████████████████████████████████████████                              | 17501/30000 [4:35:37<2:48:56,  1.23it/s]"
     ]
    },
    {
     "name": "stdout",
     "output_type": "stream",
     "text": [
      "-5.538427574380158\n",
      "77\n"
     ]
    },
    {
     "name": "stderr",
     "output_type": "stream",
     "text": [
      " 59%|██████████████████████████████████████████▏                             | 17601/30000 [4:36:52<2:12:05,  1.56it/s]"
     ]
    },
    {
     "name": "stdout",
     "output_type": "stream",
     "text": [
      "-3.9139817931055294\n",
      "76\n",
      "[0.3, 0.8, 0.6, 0.2]\n",
      "tf.Tensor([[3.6980910e-04 4.2305868e-02 9.2031980e-01 3.7004489e-02]], shape=(1, 4), dtype=float32)\n",
      "[0.3, 0.5, 0.6, 0.2]\n",
      "tf.Tensor([[4.4703600e-04 4.6434358e-02 9.1307348e-01 4.0045090e-02]], shape=(1, 4), dtype=float32)\n",
      "[0.6, 0.5, 0.6, 0.2]\n",
      "tf.Tensor([[7.2979677e-04 6.2044207e-02 8.8981593e-01 4.7410004e-02]], shape=(1, 4), dtype=float32)\n"
     ]
    },
    {
     "name": "stderr",
     "output_type": "stream",
     "text": [
      " 59%|██████████████████████████████████████████▍                             | 17701/30000 [4:38:03<2:59:15,  1.14it/s]"
     ]
    },
    {
     "name": "stdout",
     "output_type": "stream",
     "text": [
      "-4.551220999771226\n",
      "78\n"
     ]
    },
    {
     "name": "stderr",
     "output_type": "stream",
     "text": [
      " 59%|██████████████████████████████████████████▋                             | 17800/30000 [4:39:30<2:02:18,  1.66it/s]"
     ]
    },
    {
     "name": "stdout",
     "output_type": "stream",
     "text": [
      "-8.049776227231757\n",
      "61\n",
      "[0.5, 0.1, 0.7, 0.1]\n",
      "tf.Tensor([[2.5574159e-04 3.4775954e-02 9.3245918e-01 3.2509103e-02]], shape=(1, 4), dtype=float32)\n",
      "[0.8, 0.1, 0.7, 0.1]\n",
      "tf.Tensor([[2.6330980e-04 3.6392428e-02 9.3063653e-01 3.2707755e-02]], shape=(1, 4), dtype=float32)\n",
      "[0.5, 0.1, 0.7, 0.1]\n",
      "tf.Tensor([[4.2089587e-04 4.6438280e-02 9.1414809e-01 3.8992640e-02]], shape=(1, 4), dtype=float32)\n",
      "[0.8, 0.1, 0.7, 0.1]\n",
      "tf.Tensor([[0.00410173 0.18717353 0.7340912  0.0746335 ]], shape=(1, 4), dtype=float32)\n",
      "[0.5, 0.1, 0.7, 0.1]\n",
      "tf.Tensor([[0.00435962 0.1851965  0.73162013 0.07882376]], shape=(1, 4), dtype=float32)\n",
      "[0.8, 0.1, 0.7, 0.1]\n",
      "tf.Tensor([[0.00410173 0.18717353 0.7340912  0.0746335 ]], shape=(1, 4), dtype=float32)\n",
      "[0.5, 0.1, 0.7, 0.1]\n",
      "tf.Tensor([[0.00435962 0.1851965  0.73162013 0.07882376]], shape=(1, 4), dtype=float32)\n",
      "[0.8, 0.1, 0.7, 0.1]\n",
      "tf.Tensor([[0.00410173 0.18717353 0.7340912  0.0746335 ]], shape=(1, 4), dtype=float32)\n",
      "[0.5, 0.1, 0.7, 0.1]\n",
      "tf.Tensor([[0.00435962 0.1851965  0.73162013 0.07882376]], shape=(1, 4), dtype=float32)\n",
      "[0.8, 0.1, 0.7, 0.1]\n",
      "tf.Tensor([[0.00410173 0.18717353 0.7340912  0.0746335 ]], shape=(1, 4), dtype=float32)\n",
      "[0.5, 0.1, 0.7, 0.1]\n",
      "tf.Tensor([[0.00435962 0.1851965  0.73162013 0.07882376]], shape=(1, 4), dtype=float32)\n",
      "[0.8, 0.1, 0.7, 0.1]\n",
      "tf.Tensor([[0.00410173 0.18717353 0.7340912  0.0746335 ]], shape=(1, 4), dtype=float32)\n",
      "[0.5, 0.1, 0.7, 0.1]\n",
      "tf.Tensor([[0.00435962 0.1851965  0.73162013 0.07882376]], shape=(1, 4), dtype=float32)\n",
      "[0.8, 0.1, 0.7, 0.1]\n",
      "tf.Tensor([[0.00410173 0.18717353 0.7340912  0.0746335 ]], shape=(1, 4), dtype=float32)\n",
      "[0.5, 0.1, 0.7, 0.1]\n",
      "tf.Tensor([[0.00435962 0.1851965  0.73162013 0.07882376]], shape=(1, 4), dtype=float32)\n",
      "[0.8, 0.1, 0.7, 0.1]\n",
      "tf.Tensor([[0.00410173 0.18717353 0.7340912  0.0746335 ]], shape=(1, 4), dtype=float32)\n",
      "[0.5, 0.1, 0.7, 0.1]\n",
      "tf.Tensor([[0.00435962 0.1851965  0.73162013 0.07882376]], shape=(1, 4), dtype=float32)\n"
     ]
    },
    {
     "name": "stderr",
     "output_type": "stream",
     "text": [
      "\r",
      " 59%|██████████████████████████████████████████▋                             | 17801/30000 [4:39:31<2:00:07,  1.69it/s]"
     ]
    },
    {
     "name": "stdout",
     "output_type": "stream",
     "text": [
      "[0.8, 0.1, 0.7, 0.1]\n",
      "tf.Tensor([[0.00410173 0.18717353 0.7340912  0.0746335 ]], shape=(1, 4), dtype=float32)\n",
      "[0.5, 0.1, 0.7, 0.1]\n",
      "tf.Tensor([[0.00435962 0.1851965  0.73162013 0.07882376]], shape=(1, 4), dtype=float32)\n",
      "[0.8, 0.1, 0.7, 0.1]\n",
      "tf.Tensor([[0.00410173 0.18717353 0.7340912  0.0746335 ]], shape=(1, 4), dtype=float32)\n"
     ]
    },
    {
     "name": "stderr",
     "output_type": "stream",
     "text": [
      " 60%|██████████████████████████████████████████▉                             | 17901/30000 [4:40:48<2:49:17,  1.19it/s]"
     ]
    },
    {
     "name": "stdout",
     "output_type": "stream",
     "text": [
      "-7.4157442777851434\n",
      "70\n"
     ]
    },
    {
     "name": "stderr",
     "output_type": "stream",
     "text": [
      " 60%|███████████████████████████████████████████▏                            | 18001/30000 [4:42:00<2:13:53,  1.49it/s]"
     ]
    },
    {
     "name": "stdout",
     "output_type": "stream",
     "text": [
      "-3.1373301203829387\n",
      "77\n",
      "[0.8, 0.4, 0.5, 0.7]\n",
      "tf.Tensor([[3.8532127e-04 4.1155152e-02 9.1767865e-01 4.0780950e-02]], shape=(1, 4), dtype=float32)\n",
      "[0.5, 0.4, 0.5, 0.7]\n",
      "tf.Tensor([[5.1664875e-04 4.5436572e-02 9.0812504e-01 4.5921709e-02]], shape=(1, 4), dtype=float32)\n"
     ]
    },
    {
     "name": "stderr",
     "output_type": "stream",
     "text": [
      " 60%|███████████████████████████████████████████▍                            | 18101/30000 [4:43:08<1:47:43,  1.84it/s]"
     ]
    },
    {
     "name": "stdout",
     "output_type": "stream",
     "text": [
      "-2.6794012989268987\n",
      "80\n"
     ]
    },
    {
     "name": "stderr",
     "output_type": "stream",
     "text": [
      " 61%|███████████████████████████████████████████▋                            | 18200/30000 [4:44:14<2:12:59,  1.48it/s]"
     ]
    },
    {
     "name": "stdout",
     "output_type": "stream",
     "text": [
      "-4.510954497618717\n",
      "77\n",
      "[0.9, 0.4, 0.6, 0.2]\n",
      "tf.Tensor([[4.0038661e-04 4.6419207e-02 9.1246110e-01 4.0719304e-02]], shape=(1, 4), dtype=float32)\n",
      "[0.6, 0.4, 0.6, 0.2]\n",
      "tf.Tensor([[5.0893147e-04 5.2808903e-02 9.0251744e-01 4.4164792e-02]], shape=(1, 4), dtype=float32)\n",
      "[0.6, 0.1, 0.6, 0.2]\n",
      "tf.Tensor([[0.00097106 0.07254269 0.8697897  0.05669652]], shape=(1, 4), dtype=float32)\n",
      "[0.6, 0.4, 0.6, 0.2]\n",
      "tf.Tensor([[0.01260088 0.31128067 0.5922323  0.08388625]], shape=(1, 4), dtype=float32)\n",
      "[0.6, 0.1, 0.6, 0.2]\n",
      "tf.Tensor([[0.01351829 0.30567688 0.59068304 0.09012182]], shape=(1, 4), dtype=float32)\n",
      "[0.6, 0.4, 0.6, 0.2]\n",
      "tf.Tensor([[0.01189061 0.29182455 0.6072658  0.0890191 ]], shape=(1, 4), dtype=float32)\n",
      "[0.6, 0.1, 0.6, 0.2]\n",
      "tf.Tensor([[0.01351829 0.30567688 0.59068304 0.09012182]], shape=(1, 4), dtype=float32)\n",
      "[0.6, 0.4, 0.6, 0.2]\n",
      "tf.Tensor([[0.01189061 0.29182455 0.6072658  0.0890191 ]], shape=(1, 4), dtype=float32)\n",
      "[0.6, 0.1, 0.6, 0.2]\n",
      "tf.Tensor([[0.01351829 0.30567688 0.59068304 0.09012182]], shape=(1, 4), dtype=float32)\n",
      "[0.6, 0.4, 0.6, 0.2]\n",
      "tf.Tensor([[0.01189061 0.29182455 0.6072658  0.0890191 ]], shape=(1, 4), dtype=float32)\n",
      "[0.6, 0.1, 0.6, 0.2]\n",
      "tf.Tensor([[0.01351829 0.30567688 0.59068304 0.09012182]], shape=(1, 4), dtype=float32)\n",
      "[0.6, 0.4, 0.6, 0.2]\n",
      "tf.Tensor([[0.01189061 0.29182455 0.6072658  0.0890191 ]], shape=(1, 4), dtype=float32)\n",
      "[0.6, 0.1, 0.6, 0.2]\n",
      "tf.Tensor([[0.01351829 0.30567688 0.59068304 0.09012182]], shape=(1, 4), dtype=float32)\n",
      "[0.6, 0.4, 0.6, 0.2]\n",
      "tf.Tensor([[0.01189061 0.29182455 0.6072658  0.0890191 ]], shape=(1, 4), dtype=float32)\n",
      "[0.6, 0.1, 0.6, 0.2]\n",
      "tf.Tensor([[0.01351829 0.30567688 0.59068304 0.09012182]], shape=(1, 4), dtype=float32)\n",
      "[0.6, 0.4, 0.6, 0.2]\n",
      "tf.Tensor([[0.01189061 0.29182455 0.6072658  0.0890191 ]], shape=(1, 4), dtype=float32)\n",
      "[0.6, 0.1, 0.6, 0.2]\n",
      "tf.Tensor([[0.01351829 0.30567688 0.59068304 0.09012182]], shape=(1, 4), dtype=float32)\n",
      "[0.6, 0.4, 0.6, 0.2]\n",
      "tf.Tensor([[0.01189061 0.29182455 0.6072658  0.0890191 ]], shape=(1, 4), dtype=float32)\n"
     ]
    },
    {
     "name": "stderr",
     "output_type": "stream",
     "text": [
      "\r",
      " 61%|███████████████████████████████████████████▋                            | 18201/30000 [4:44:14<2:03:10,  1.60it/s]"
     ]
    },
    {
     "name": "stdout",
     "output_type": "stream",
     "text": [
      "[0.6, 0.1, 0.6, 0.2]\n",
      "tf.Tensor([[0.01351829 0.30567688 0.59068304 0.09012182]], shape=(1, 4), dtype=float32)\n",
      "[0.6, 0.4, 0.6, 0.2]\n",
      "tf.Tensor([[0.01189061 0.29182455 0.6072658  0.0890191 ]], shape=(1, 4), dtype=float32)\n"
     ]
    },
    {
     "name": "stderr",
     "output_type": "stream",
     "text": [
      " 61%|███████████████████████████████████████████▉                            | 18301/30000 [4:45:12<1:59:08,  1.64it/s]"
     ]
    },
    {
     "name": "stdout",
     "output_type": "stream",
     "text": [
      "-1.7523752627561806\n",
      "85\n"
     ]
    },
    {
     "name": "stderr",
     "output_type": "stream",
     "text": [
      " 61%|████████████████████████████████████████████▏                           | 18400/30000 [4:46:19<2:50:18,  1.14it/s]"
     ]
    },
    {
     "name": "stdout",
     "output_type": "stream",
     "text": [
      "-6.8960336506063475\n",
      "74\n",
      "[0.5, 0.9, 0.6, 0.2]\n",
      "tf.Tensor([[3.7533077e-04 4.5751806e-02 9.1416657e-01 3.9706275e-02]], shape=(1, 4), dtype=float32)\n",
      "[0.5, 0.6, 0.6, 0.2]\n",
      "tf.Tensor([[4.6873977e-04 5.2340996e-02 9.0430540e-01 4.2884916e-02]], shape=(1, 4), dtype=float32)\n",
      "[0.5, 0.3, 0.6, 0.2]\n",
      "tf.Tensor([[8.6314161e-04 7.3914059e-02 8.7124860e-01 5.3974252e-02]], shape=(1, 4), dtype=float32)\n",
      "[0.8, 0.3, 0.6, 0.2]\n",
      "tf.Tensor([[0.01020459 0.30779684 0.6074019  0.07459667]], shape=(1, 4), dtype=float32)\n",
      "[0.5, 0.3, 0.6, 0.2]\n",
      "tf.Tensor([[0.01048011 0.3048992  0.606098   0.0785227 ]], shape=(1, 4), dtype=float32)\n",
      "[0.8, 0.3, 0.6, 0.2]\n",
      "tf.Tensor([[0.00895788 0.29548737 0.62249213 0.07306264]], shape=(1, 4), dtype=float32)\n",
      "[0.5, 0.3, 0.6, 0.2]\n",
      "tf.Tensor([[0.00940555 0.2964608  0.61731744 0.07681626]], shape=(1, 4), dtype=float32)\n",
      "[0.8, 0.3, 0.6, 0.2]\n",
      "tf.Tensor([[0.00895788 0.29548737 0.62249213 0.07306264]], shape=(1, 4), dtype=float32)\n",
      "[0.5, 0.3, 0.6, 0.2]\n",
      "tf.Tensor([[0.00940555 0.2964608  0.61731744 0.07681626]], shape=(1, 4), dtype=float32)\n",
      "[0.8, 0.3, 0.6, 0.2]\n",
      "tf.Tensor([[0.00895788 0.29548737 0.62249213 0.07306264]], shape=(1, 4), dtype=float32)\n",
      "[0.5, 0.3, 0.6, 0.2]\n",
      "tf.Tensor([[0.00940555 0.2964608  0.61731744 0.07681626]], shape=(1, 4), dtype=float32)\n",
      "[0.8, 0.3, 0.6, 0.2]\n",
      "tf.Tensor([[0.00895788 0.29548737 0.62249213 0.07306264]], shape=(1, 4), dtype=float32)\n",
      "[0.5, 0.3, 0.6, 0.2]\n",
      "tf.Tensor([[0.00940555 0.2964608  0.61731744 0.07681626]], shape=(1, 4), dtype=float32)\n",
      "[0.8, 0.3, 0.6, 0.2]\n",
      "tf.Tensor([[0.00895788 0.29548737 0.62249213 0.07306264]], shape=(1, 4), dtype=float32)\n",
      "[0.5, 0.3, 0.6, 0.2]\n",
      "tf.Tensor([[0.00940555 0.2964608  0.61731744 0.07681626]], shape=(1, 4), dtype=float32)\n",
      "[0.8, 0.3, 0.6, 0.2]\n",
      "tf.Tensor([[0.00895788 0.29548737 0.62249213 0.07306264]], shape=(1, 4), dtype=float32)\n"
     ]
    },
    {
     "name": "stderr",
     "output_type": "stream",
     "text": [
      "\r",
      " 61%|████████████████████████████████████████████▏                           | 18401/30000 [4:46:19<2:23:29,  1.35it/s]"
     ]
    },
    {
     "name": "stdout",
     "output_type": "stream",
     "text": [
      "[0.5, 0.3, 0.6, 0.2]\n",
      "tf.Tensor([[0.00940555 0.2964608  0.61731744 0.07681626]], shape=(1, 4), dtype=float32)\n",
      "[0.8, 0.3, 0.6, 0.2]\n",
      "tf.Tensor([[0.00895788 0.29548737 0.62249213 0.07306264]], shape=(1, 4), dtype=float32)\n",
      "[0.5, 0.3, 0.6, 0.2]\n",
      "tf.Tensor([[0.00940555 0.2964608  0.61731744 0.07681626]], shape=(1, 4), dtype=float32)\n",
      "[0.8, 0.3, 0.6, 0.2]\n",
      "tf.Tensor([[0.00895788 0.29548737 0.62249213 0.07306264]], shape=(1, 4), dtype=float32)\n"
     ]
    },
    {
     "name": "stderr",
     "output_type": "stream",
     "text": [
      " 62%|████████████████████████████████████████████▍                           | 18501/30000 [4:47:32<3:11:59,  1.00s/it]"
     ]
    },
    {
     "name": "stdout",
     "output_type": "stream",
     "text": [
      "-4.271894476846759\n",
      "81\n"
     ]
    },
    {
     "name": "stderr",
     "output_type": "stream",
     "text": [
      " 62%|████████████████████████████████████████████▋                           | 18600/30000 [4:48:42<1:41:18,  1.88it/s]"
     ]
    },
    {
     "name": "stdout",
     "output_type": "stream",
     "text": [
      "-6.3375797512703045\n",
      "78\n",
      "[0.2, 0.4, 0.1, 0.1]\n",
      "tf.Tensor([[3.3715859e-04 4.3937590e-02 9.1823888e-01 3.7486337e-02]], shape=(1, 4), dtype=float32)\n",
      "[0.2, 0.1, 0.1, 0.1]\n",
      "tf.Tensor([[3.8553070e-04 4.8348997e-02 9.1213357e-01 3.9131869e-02]], shape=(1, 4), dtype=float32)\n",
      "[0.0, 0.1, 0.1, 0.1]\n",
      "tf.Tensor([[6.5424421e-04 6.3781440e-02 8.8779473e-01 4.7769632e-02]], shape=(1, 4), dtype=float32)\n",
      "[0.3, 0.1, 0.1, 0.1]\n",
      "tf.Tensor([[0.0045728  0.20134038 0.7135835  0.0805034 ]], shape=(1, 4), dtype=float32)\n",
      "[0.0, 0.1, 0.1, 0.1]\n",
      "tf.Tensor([[0.00344041 0.16312462 0.7504859  0.08294906]], shape=(1, 4), dtype=float32)\n",
      "[0.3, 0.1, 0.1, 0.1]\n",
      "tf.Tensor([[0.00363732 0.1759765  0.73952466 0.08086153]], shape=(1, 4), dtype=float32)\n",
      "[0.0, 0.1, 0.1, 0.1]\n",
      "tf.Tensor([[0.00375496 0.17159958 0.7398961  0.08474937]], shape=(1, 4), dtype=float32)\n",
      "[0.3, 0.1, 0.1, 0.1]\n",
      "tf.Tensor([[0.00363732 0.1759765  0.73952466 0.08086153]], shape=(1, 4), dtype=float32)\n",
      "[0.0, 0.1, 0.1, 0.1]\n",
      "tf.Tensor([[0.00375496 0.17159958 0.7398961  0.08474937]], shape=(1, 4), dtype=float32)\n",
      "[0.3, 0.1, 0.1, 0.1]\n",
      "tf.Tensor([[0.00363732 0.1759765  0.73952466 0.08086153]], shape=(1, 4), dtype=float32)\n",
      "[0.0, 0.1, 0.1, 0.1]\n",
      "tf.Tensor([[0.00375496 0.17159958 0.7398961  0.08474937]], shape=(1, 4), dtype=float32)\n",
      "[0.3, 0.1, 0.1, 0.1]\n",
      "tf.Tensor([[0.00363732 0.1759765  0.73952466 0.08086153]], shape=(1, 4), dtype=float32)\n",
      "[0.0, 0.1, 0.1, 0.1]\n",
      "tf.Tensor([[0.00375496 0.17159958 0.7398961  0.08474937]], shape=(1, 4), dtype=float32)\n",
      "[0.3, 0.1, 0.1, 0.1]\n",
      "tf.Tensor([[0.00363732 0.1759765  0.73952466 0.08086153]], shape=(1, 4), dtype=float32)\n",
      "[0.0, 0.1, 0.1, 0.1]\n",
      "tf.Tensor([[0.00375496 0.17159958 0.7398961  0.08474937]], shape=(1, 4), dtype=float32)\n",
      "[0.3, 0.1, 0.1, 0.1]\n",
      "tf.Tensor([[0.00363732 0.1759765  0.73952466 0.08086153]], shape=(1, 4), dtype=float32)\n",
      "[0.0, 0.1, 0.1, 0.1]\n",
      "tf.Tensor([[0.00375496 0.17159958 0.7398961  0.08474937]], shape=(1, 4), dtype=float32)\n",
      "[0.3, 0.1, 0.1, 0.1]\n"
     ]
    },
    {
     "name": "stderr",
     "output_type": "stream",
     "text": [
      "\r",
      " 62%|████████████████████████████████████████████▋                           | 18601/30000 [4:48:44<2:30:28,  1.26it/s]"
     ]
    },
    {
     "name": "stdout",
     "output_type": "stream",
     "text": [
      "tf.Tensor([[0.00363732 0.1759765  0.73952466 0.08086153]], shape=(1, 4), dtype=float32)\n",
      "[0.0, 0.1, 0.1, 0.1]\n",
      "tf.Tensor([[0.00375496 0.17159958 0.7398961  0.08474937]], shape=(1, 4), dtype=float32)\n",
      "[0.3, 0.1, 0.1, 0.1]\n",
      "tf.Tensor([[0.00363732 0.1759765  0.73952466 0.08086153]], shape=(1, 4), dtype=float32)\n"
     ]
    },
    {
     "name": "stderr",
     "output_type": "stream",
     "text": [
      " 62%|████████████████████████████████████████████▉                           | 18701/30000 [4:49:55<2:03:12,  1.53it/s]"
     ]
    },
    {
     "name": "stdout",
     "output_type": "stream",
     "text": [
      "-4.62658219744177\n",
      "77\n"
     ]
    },
    {
     "name": "stderr",
     "output_type": "stream",
     "text": [
      " 63%|█████████████████████████████████████████████                           | 18800/30000 [4:51:06<1:34:52,  1.97it/s]"
     ]
    },
    {
     "name": "stdout",
     "output_type": "stream",
     "text": [
      "-5.347028680073281\n",
      "76\n",
      "[0.1, 0.5, 0.7, 0.4]\n",
      "tf.Tensor([[3.3961504e-04 4.2149656e-02 9.1805631e-01 3.9454427e-02]], shape=(1, 4), dtype=float32)\n",
      "[0.4, 0.5, 0.7, 0.4]\n",
      "tf.Tensor([[4.0912651e-04 4.6911646e-02 9.1023290e-01 4.2446401e-02]], shape=(1, 4), dtype=float32)\n",
      "[0.7, 0.5, 0.7, 0.4]\n",
      "tf.Tensor([[6.7011605e-04 6.3588634e-02 8.8568270e-01 5.0058540e-02]], shape=(1, 4), dtype=float32)\n",
      "[0.7, 0.2, 0.7, 0.4]\n",
      "tf.Tensor([[0.010177   0.2862391  0.61727756 0.08630633]], shape=(1, 4), dtype=float32)\n",
      "[0.7, 0.5, 0.7, 0.4]\n",
      "tf.Tensor([[0.01080503 0.3143979  0.5955391  0.07925794]], shape=(1, 4), dtype=float32)\n",
      "[0.7, 0.2, 0.7, 0.4]\n",
      "tf.Tensor([[0.01174336 0.31860843 0.5883964  0.08125184]], shape=(1, 4), dtype=float32)\n",
      "[0.7, 0.5, 0.7, 0.4]\n",
      "tf.Tensor([[0.01072312 0.3129126  0.59711456 0.07924971]], shape=(1, 4), dtype=float32)\n",
      "[0.7, 0.2, 0.7, 0.4]\n",
      "tf.Tensor([[0.01174336 0.31860843 0.5883964  0.08125184]], shape=(1, 4), dtype=float32)\n",
      "[0.7, 0.5, 0.7, 0.4]\n",
      "tf.Tensor([[0.01072312 0.3129126  0.59711456 0.07924971]], shape=(1, 4), dtype=float32)\n",
      "[0.7, 0.2, 0.7, 0.4]\n",
      "tf.Tensor([[0.01174336 0.31860843 0.5883964  0.08125184]], shape=(1, 4), dtype=float32)\n",
      "[0.7, 0.5, 0.7, 0.4]\n",
      "tf.Tensor([[0.01072312 0.3129126  0.59711456 0.07924971]], shape=(1, 4), dtype=float32)\n",
      "[0.7, 0.2, 0.7, 0.4]\n",
      "tf.Tensor([[0.01174336 0.31860843 0.5883964  0.08125184]], shape=(1, 4), dtype=float32)\n",
      "[0.7, 0.5, 0.7, 0.4]\n",
      "tf.Tensor([[0.01072312 0.3129126  0.59711456 0.07924971]], shape=(1, 4), dtype=float32)\n",
      "[0.7, 0.2, 0.7, 0.4]\n",
      "tf.Tensor([[0.01174336 0.31860843 0.5883964  0.08125184]], shape=(1, 4), dtype=float32)\n",
      "[0.7, 0.5, 0.7, 0.4]\n",
      "tf.Tensor([[0.01072312 0.3129126  0.59711456 0.07924971]], shape=(1, 4), dtype=float32)\n",
      "[0.7, 0.2, 0.7, 0.4]\n",
      "tf.Tensor([[0.01174336 0.31860843 0.5883964  0.08125184]], shape=(1, 4), dtype=float32)\n",
      "[0.7, 0.5, 0.7, 0.4]\n",
      "tf.Tensor([[0.01072312 0.3129126  0.59711456 0.07924971]], shape=(1, 4), dtype=float32)\n"
     ]
    },
    {
     "name": "stderr",
     "output_type": "stream",
     "text": [
      "\r",
      " 63%|█████████████████████████████████████████████                           | 18801/30000 [4:51:07<1:59:03,  1.57it/s]"
     ]
    },
    {
     "name": "stdout",
     "output_type": "stream",
     "text": [
      "[0.7, 0.2, 0.7, 0.4]\n",
      "tf.Tensor([[0.01174336 0.31860843 0.5883964  0.08125184]], shape=(1, 4), dtype=float32)\n",
      "[0.7, 0.5, 0.7, 0.4]\n",
      "tf.Tensor([[0.01072312 0.3129126  0.59711456 0.07924971]], shape=(1, 4), dtype=float32)\n",
      "[0.7, 0.2, 0.7, 0.4]\n",
      "tf.Tensor([[0.01174336 0.31860843 0.5883964  0.08125184]], shape=(1, 4), dtype=float32)\n"
     ]
    },
    {
     "name": "stderr",
     "output_type": "stream",
     "text": [
      " 63%|█████████████████████████████████████████████▎                          | 18901/30000 [4:52:17<2:47:22,  1.11it/s]"
     ]
    },
    {
     "name": "stdout",
     "output_type": "stream",
     "text": [
      "-6.548387419797564\n",
      "72\n"
     ]
    },
    {
     "name": "stderr",
     "output_type": "stream",
     "text": [
      " 63%|█████████████████████████████████████████████▌                          | 19000/30000 [4:53:25<1:56:58,  1.57it/s]"
     ]
    },
    {
     "name": "stdout",
     "output_type": "stream",
     "text": [
      "-4.58575915634184\n",
      "79\n",
      "[0.0, 0.0, 0.6, 0.2]\n",
      "tf.Tensor([[3.4411432e-04 4.0426344e-02 9.1714829e-01 4.2081248e-02]], shape=(1, 4), dtype=float32)\n",
      "[0.3, 0.0, 0.6, 0.2]\n",
      "tf.Tensor([[4.0606863e-04 4.4428788e-02 9.0998715e-01 4.5177963e-02]], shape=(1, 4), dtype=float32)\n",
      "[0.6, 0.0, 0.6, 0.2]\n",
      "tf.Tensor([[6.5003405e-04 5.5050451e-02 8.8972211e-01 5.4577425e-02]], shape=(1, 4), dtype=float32)\n",
      "[0.6, 0.3, 0.6, 0.2]\n",
      "tf.Tensor([[0.0058723  0.20596719 0.6869684  0.10119215]], shape=(1, 4), dtype=float32)\n",
      "[0.6, 0.0, 0.6, 0.2]\n",
      "tf.Tensor([[0.00867986 0.24788631 0.6439265  0.09950727]], shape=(1, 4), dtype=float32)\n",
      "[0.6, 0.3, 0.6, 0.2]\n",
      "tf.Tensor([[0.01054684 0.29256666 0.6069573  0.08992919]], shape=(1, 4), dtype=float32)\n",
      "[0.6, 0.0, 0.6, 0.2]\n",
      "tf.Tensor([[0.01228862 0.3074507  0.5887865  0.09147423]], shape=(1, 4), dtype=float32)\n",
      "[0.6, 0.3, 0.6, 0.2]\n",
      "tf.Tensor([[0.01054684 0.29256666 0.6069573  0.08992919]], shape=(1, 4), dtype=float32)\n",
      "[0.6, 0.0, 0.6, 0.2]\n",
      "tf.Tensor([[0.01228862 0.3074507  0.5887865  0.09147423]], shape=(1, 4), dtype=float32)\n",
      "[0.6, 0.3, 0.6, 0.2]\n",
      "tf.Tensor([[0.01054684 0.29256666 0.6069573  0.08992919]], shape=(1, 4), dtype=float32)\n",
      "[0.6, 0.0, 0.6, 0.2]\n",
      "tf.Tensor([[0.01228862 0.3074507  0.5887865  0.09147423]], shape=(1, 4), dtype=float32)\n",
      "[0.6, 0.3, 0.6, 0.2]\n",
      "tf.Tensor([[0.01054684 0.29256666 0.6069573  0.08992919]], shape=(1, 4), dtype=float32)\n",
      "[0.6, 0.0, 0.6, 0.2]\n",
      "tf.Tensor([[0.01228862 0.3074507  0.5887865  0.09147423]], shape=(1, 4), dtype=float32)\n",
      "[0.6, 0.3, 0.6, 0.2]\n",
      "tf.Tensor([[0.01054684 0.29256666 0.6069573  0.08992919]], shape=(1, 4), dtype=float32)\n",
      "[0.6, 0.0, 0.6, 0.2]\n",
      "tf.Tensor([[0.01228862 0.3074507  0.5887865  0.09147423]], shape=(1, 4), dtype=float32)\n",
      "[0.6, 0.3, 0.6, 0.2]\n",
      "tf.Tensor([[0.01054684 0.29256666 0.6069573  0.08992919]], shape=(1, 4), dtype=float32)\n",
      "[0.6, 0.0, 0.6, 0.2]\n",
      "tf.Tensor([[0.01228862 0.3074507  0.5887865  0.09147423]], shape=(1, 4), dtype=float32)\n"
     ]
    },
    {
     "name": "stderr",
     "output_type": "stream",
     "text": [
      "\r",
      " 63%|█████████████████████████████████████████████▌                          | 19001/30000 [4:53:26<2:11:19,  1.40it/s]"
     ]
    },
    {
     "name": "stdout",
     "output_type": "stream",
     "text": [
      "[0.6, 0.3, 0.6, 0.2]\n",
      "tf.Tensor([[0.01054684 0.29256666 0.6069573  0.08992919]], shape=(1, 4), dtype=float32)\n",
      "[0.6, 0.0, 0.6, 0.2]\n",
      "tf.Tensor([[0.01228862 0.3074507  0.5887865  0.09147423]], shape=(1, 4), dtype=float32)\n",
      "[0.6, 0.3, 0.6, 0.2]\n",
      "tf.Tensor([[0.01054684 0.29256666 0.6069573  0.08992919]], shape=(1, 4), dtype=float32)\n"
     ]
    },
    {
     "name": "stderr",
     "output_type": "stream",
     "text": [
      " 64%|█████████████████████████████████████████████▊                          | 19101/30000 [4:54:34<2:04:37,  1.46it/s]"
     ]
    },
    {
     "name": "stdout",
     "output_type": "stream",
     "text": [
      "-3.984390951736049\n",
      "77\n"
     ]
    },
    {
     "name": "stderr",
     "output_type": "stream",
     "text": [
      " 64%|██████████████████████████████████████████████                          | 19200/30000 [4:55:37<2:18:54,  1.30it/s]"
     ]
    },
    {
     "name": "stdout",
     "output_type": "stream",
     "text": [
      "-4.646619127555687\n",
      "81\n",
      "[0.4, 0.5, 0.7, 0.4]\n",
      "tf.Tensor([[2.7236715e-04 3.5335112e-02 9.2656958e-01 3.7822962e-02]], shape=(1, 4), dtype=float32)\n",
      "[0.7, 0.5, 0.7, 0.4]\n",
      "tf.Tensor([[3.1069815e-04 3.8679957e-02 9.2137063e-01 3.9638709e-02]], shape=(1, 4), dtype=float32)\n",
      "[0.7, 0.2, 0.7, 0.4]\n",
      "tf.Tensor([[6.1063241e-04 5.4043815e-02 8.9325845e-01 5.2087095e-02]], shape=(1, 4), dtype=float32)\n",
      "[0.7, 0.5, 0.7, 0.4]\n",
      "tf.Tensor([[0.01195605 0.33090356 0.575983   0.08115742]], shape=(1, 4), dtype=float32)\n",
      "[0.7, 0.2, 0.7, 0.4]\n",
      "tf.Tensor([[0.01338278 0.3378187  0.5656841  0.08311445]], shape=(1, 4), dtype=float32)\n",
      "[0.7, 0.5, 0.7, 0.4]\n",
      "tf.Tensor([[0.01218325 0.33163336 0.5751509  0.08103247]], shape=(1, 4), dtype=float32)\n",
      "[0.7, 0.2, 0.7, 0.4]\n",
      "tf.Tensor([[0.01338278 0.3378187  0.5656841  0.08311445]], shape=(1, 4), dtype=float32)\n",
      "[0.7, 0.5, 0.7, 0.4]\n",
      "tf.Tensor([[0.01218325 0.33163336 0.5751509  0.08103247]], shape=(1, 4), dtype=float32)\n",
      "[0.7, 0.2, 0.7, 0.4]\n",
      "tf.Tensor([[0.01338278 0.3378187  0.5656841  0.08311445]], shape=(1, 4), dtype=float32)\n",
      "[0.7, 0.5, 0.7, 0.4]\n",
      "tf.Tensor([[0.01218325 0.33163336 0.5751509  0.08103247]], shape=(1, 4), dtype=float32)\n",
      "[0.7, 0.2, 0.7, 0.4]\n",
      "tf.Tensor([[0.01338278 0.3378187  0.5656841  0.08311445]], shape=(1, 4), dtype=float32)\n",
      "[0.7, 0.5, 0.7, 0.4]\n",
      "tf.Tensor([[0.01218325 0.33163336 0.5751509  0.08103247]], shape=(1, 4), dtype=float32)\n",
      "[0.7, 0.2, 0.7, 0.4]\n",
      "tf.Tensor([[0.01338278 0.3378187  0.5656841  0.08311445]], shape=(1, 4), dtype=float32)\n",
      "[0.7, 0.5, 0.7, 0.4]\n",
      "tf.Tensor([[0.01218325 0.33163336 0.5751509  0.08103247]], shape=(1, 4), dtype=float32)\n",
      "[0.7, 0.2, 0.7, 0.4]\n",
      "tf.Tensor([[0.01338278 0.3378187  0.5656841  0.08311445]], shape=(1, 4), dtype=float32)\n",
      "[0.7, 0.5, 0.7, 0.4]\n",
      "tf.Tensor([[0.01218325 0.33163336 0.5751509  0.08103247]], shape=(1, 4), dtype=float32)\n",
      "[0.7, 0.2, 0.7, 0.4]\n",
      "tf.Tensor([[0.01338278 0.3378187  0.5656841  0.08311445]], shape=(1, 4), dtype=float32)\n",
      "[0.7, 0.5, 0.7, 0.4]\n"
     ]
    },
    {
     "name": "stderr",
     "output_type": "stream",
     "text": [
      "\r",
      " 64%|██████████████████████████████████████████████                          | 19201/30000 [4:55:38<2:50:16,  1.06it/s]"
     ]
    },
    {
     "name": "stdout",
     "output_type": "stream",
     "text": [
      "tf.Tensor([[0.01218325 0.33163336 0.5751509  0.08103247]], shape=(1, 4), dtype=float32)\n",
      "[0.7, 0.2, 0.7, 0.4]\n",
      "tf.Tensor([[0.01338278 0.3378187  0.5656841  0.08311445]], shape=(1, 4), dtype=float32)\n",
      "[0.7, 0.5, 0.7, 0.4]\n",
      "tf.Tensor([[0.01218325 0.33163336 0.5751509  0.08103247]], shape=(1, 4), dtype=float32)\n"
     ]
    },
    {
     "name": "stderr",
     "output_type": "stream",
     "text": [
      " 64%|██████████████████████████████████████████████▎                         | 19301/30000 [4:56:45<2:07:22,  1.40it/s]"
     ]
    },
    {
     "name": "stdout",
     "output_type": "stream",
     "text": [
      "-3.162041737427192\n",
      "80\n"
     ]
    },
    {
     "name": "stderr",
     "output_type": "stream",
     "text": [
      " 65%|██████████████████████████████████████████████▌                         | 19401/30000 [4:57:49<1:53:52,  1.55it/s]"
     ]
    },
    {
     "name": "stdout",
     "output_type": "stream",
     "text": [
      "-2.308544335810632\n",
      "83\n",
      "[0.8, 0.4, 0.5, 0.7]\n",
      "tf.Tensor([[2.0060320e-04 2.9966336e-02 9.3690920e-01 3.2923955e-02]], shape=(1, 4), dtype=float32)\n",
      "[0.5, 0.4, 0.5, 0.7]\n",
      "tf.Tensor([[2.6822084e-04 3.2797031e-02 9.3011761e-01 3.6817186e-02]], shape=(1, 4), dtype=float32)\n"
     ]
    },
    {
     "name": "stderr",
     "output_type": "stream",
     "text": [
      " 65%|██████████████████████████████████████████████▊                         | 19501/30000 [4:59:00<1:37:39,  1.79it/s]"
     ]
    },
    {
     "name": "stdout",
     "output_type": "stream",
     "text": [
      "-3.2158617817217205\n",
      "75\n"
     ]
    },
    {
     "name": "stderr",
     "output_type": "stream",
     "text": [
      " 65%|███████████████████████████████████████████████                         | 19600/30000 [5:00:09<2:03:31,  1.40it/s]"
     ]
    },
    {
     "name": "stdout",
     "output_type": "stream",
     "text": [
      "-4.51590800884228\n",
      "77\n",
      "[0.1, 0.0, 0.7, 0.1]\n",
      "tf.Tensor([[2.1898508e-04 2.7633565e-02 9.3712598e-01 3.5021454e-02]], shape=(1, 4), dtype=float32)\n",
      "[0.4, 0.0, 0.7, 0.1]\n",
      "tf.Tensor([[2.4925362e-04 2.9473998e-02 9.3351275e-01 3.6764015e-02]], shape=(1, 4), dtype=float32)\n",
      "[0.7, 0.0, 0.7, 0.1]\n",
      "tf.Tensor([[3.9707340e-04 3.6189012e-02 9.1905373e-01 4.4360183e-02]], shape=(1, 4), dtype=float32)\n",
      "[0.7, 0.3, 0.7, 0.1]\n",
      "tf.Tensor([[0.00532587 0.18432072 0.7135094  0.09684398]], shape=(1, 4), dtype=float32)\n",
      "[0.7, 0.0, 0.7, 0.1]\n",
      "tf.Tensor([[0.00792201 0.22528249 0.6707297  0.09606577]], shape=(1, 4), dtype=float32)\n",
      "[0.7, 0.3, 0.7, 0.1]\n",
      "tf.Tensor([[0.00946728 0.26642582 0.6364486  0.0876583 ]], shape=(1, 4), dtype=float32)\n",
      "[0.7, 0.0, 0.7, 0.1]\n",
      "tf.Tensor([[0.01069905 0.27522257 0.6237498  0.09032862]], shape=(1, 4), dtype=float32)\n",
      "[0.7, 0.3, 0.7, 0.1]\n",
      "tf.Tensor([[0.00946728 0.26642582 0.6364486  0.0876583 ]], shape=(1, 4), dtype=float32)\n",
      "[0.7, 0.0, 0.7, 0.1]\n",
      "tf.Tensor([[0.01069905 0.27522257 0.6237498  0.09032862]], shape=(1, 4), dtype=float32)\n",
      "[0.7, 0.3, 0.7, 0.1]\n",
      "tf.Tensor([[0.00946728 0.26642582 0.6364486  0.0876583 ]], shape=(1, 4), dtype=float32)\n",
      "[0.7, 0.0, 0.7, 0.1]\n",
      "tf.Tensor([[0.01069905 0.27522257 0.6237498  0.09032862]], shape=(1, 4), dtype=float32)\n",
      "[0.7, 0.3, 0.7, 0.1]\n",
      "tf.Tensor([[0.00946728 0.26642582 0.6364486  0.0876583 ]], shape=(1, 4), dtype=float32)\n",
      "[0.7, 0.0, 0.7, 0.1]\n",
      "tf.Tensor([[0.01069905 0.27522257 0.6237498  0.09032862]], shape=(1, 4), dtype=float32)\n",
      "[0.7, 0.3, 0.7, 0.1]\n",
      "tf.Tensor([[0.00946728 0.26642582 0.6364486  0.0876583 ]], shape=(1, 4), dtype=float32)\n",
      "[0.7, 0.0, 0.7, 0.1]\n",
      "tf.Tensor([[0.01069905 0.27522257 0.6237498  0.09032862]], shape=(1, 4), dtype=float32)\n",
      "[0.7, 0.3, 0.7, 0.1]\n",
      "tf.Tensor([[0.00946728 0.26642582 0.6364486  0.0876583 ]], shape=(1, 4), dtype=float32)\n",
      "[0.7, 0.0, 0.7, 0.1]\n",
      "tf.Tensor([[0.01069905 0.27522257 0.6237498  0.09032862]], shape=(1, 4), dtype=float32)\n"
     ]
    },
    {
     "name": "stderr",
     "output_type": "stream",
     "text": [
      "\r",
      " 65%|███████████████████████████████████████████████                         | 19601/30000 [5:00:10<2:07:33,  1.36it/s]"
     ]
    },
    {
     "name": "stdout",
     "output_type": "stream",
     "text": [
      "[0.7, 0.3, 0.7, 0.1]\n",
      "tf.Tensor([[0.00946728 0.26642582 0.6364486  0.0876583 ]], shape=(1, 4), dtype=float32)\n",
      "[0.7, 0.0, 0.7, 0.1]\n",
      "tf.Tensor([[0.01069905 0.27522257 0.6237498  0.09032862]], shape=(1, 4), dtype=float32)\n",
      "[0.7, 0.3, 0.7, 0.1]\n",
      "tf.Tensor([[0.00946728 0.26642582 0.6364486  0.0876583 ]], shape=(1, 4), dtype=float32)\n"
     ]
    },
    {
     "name": "stderr",
     "output_type": "stream",
     "text": [
      " 66%|███████████████████████████████████████████████▎                        | 19701/30000 [5:01:25<1:57:48,  1.46it/s]"
     ]
    },
    {
     "name": "stdout",
     "output_type": "stream",
     "text": [
      "-8.18860572984258\n",
      "73\n"
     ]
    },
    {
     "name": "stderr",
     "output_type": "stream",
     "text": [
      " 66%|███████████████████████████████████████████████▌                        | 19800/30000 [5:02:33<2:02:04,  1.39it/s]"
     ]
    },
    {
     "name": "stdout",
     "output_type": "stream",
     "text": [
      "-2.561381811874494\n",
      "79\n",
      "[0.7, 0.6, 0.1, 0.1]\n",
      "tf.Tensor([[1.7877413e-04 2.6570391e-02 9.4000590e-01 3.3244956e-02]], shape=(1, 4), dtype=float32)\n",
      "[0.4, 0.6, 0.1, 0.1]\n",
      "tf.Tensor([[2.2800858e-04 2.9934458e-02 9.3374860e-01 3.6088966e-02]], shape=(1, 4), dtype=float32)\n",
      "[0.4, 0.3, 0.1, 0.1]\n",
      "tf.Tensor([[3.7862151e-04 4.1407183e-02 9.1427666e-01 4.3937560e-02]], shape=(1, 4), dtype=float32)\n",
      "[0.1, 0.3, 0.1, 0.1]\n",
      "tf.Tensor([[0.0086103  0.27641034 0.62756854 0.08741077]], shape=(1, 4), dtype=float32)\n",
      "[0.1, 0.0, 0.1, 0.1]\n",
      "tf.Tensor([[0.00710445 0.214057   0.67308336 0.10575513]], shape=(1, 4), dtype=float32)\n",
      "[0.1, 0.3, 0.1, 0.1]\n",
      "tf.Tensor([[0.00521821 0.1816147  0.70777386 0.10539319]], shape=(1, 4), dtype=float32)\n",
      "[0.1, 0.0, 0.1, 0.1]\n",
      "tf.Tensor([[0.00462881 0.15147462 0.7347863  0.10911033]], shape=(1, 4), dtype=float32)\n",
      "[0.1, 0.3, 0.1, 0.1]\n",
      "tf.Tensor([[0.00342924 0.1344181  0.76495546 0.09719717]], shape=(1, 4), dtype=float32)\n",
      "[0.1, 0.0, 0.1, 0.1]\n",
      "tf.Tensor([[0.00462881 0.15147462 0.7347863  0.10911033]], shape=(1, 4), dtype=float32)\n",
      "[0.1, 0.3, 0.1, 0.1]\n",
      "tf.Tensor([[0.00342924 0.1344181  0.76495546 0.09719717]], shape=(1, 4), dtype=float32)\n",
      "[0.1, 0.0, 0.1, 0.1]\n",
      "tf.Tensor([[0.00462881 0.15147462 0.7347863  0.10911033]], shape=(1, 4), dtype=float32)\n",
      "[0.1, 0.3, 0.1, 0.1]\n",
      "tf.Tensor([[0.00342924 0.1344181  0.76495546 0.09719717]], shape=(1, 4), dtype=float32)\n",
      "[0.1, 0.0, 0.1, 0.1]\n",
      "tf.Tensor([[0.00462881 0.15147462 0.7347863  0.10911033]], shape=(1, 4), dtype=float32)\n",
      "[0.1, 0.3, 0.1, 0.1]\n",
      "tf.Tensor([[0.00342924 0.1344181  0.76495546 0.09719717]], shape=(1, 4), dtype=float32)\n",
      "[0.1, 0.0, 0.1, 0.1]\n",
      "tf.Tensor([[0.00462881 0.15147462 0.7347863  0.10911033]], shape=(1, 4), dtype=float32)\n",
      "[0.1, 0.3, 0.1, 0.1]\n",
      "tf.Tensor([[0.00342924 0.1344181  0.76495546 0.09719717]], shape=(1, 4), dtype=float32)\n",
      "[0.1, 0.0, 0.1, 0.1]\n",
      "tf.Tensor([[0.00462881 0.15147462 0.7347863  0.10911033]], shape=(1, 4), dtype=float32)\n",
      "[0.1, 0.3, 0.1, 0.1]\n"
     ]
    },
    {
     "name": "stderr",
     "output_type": "stream",
     "text": [
      " 66%|███████████████████████████████████████████████▌                        | 19802/30000 [5:02:34<1:31:21,  1.86it/s]"
     ]
    },
    {
     "name": "stdout",
     "output_type": "stream",
     "text": [
      "tf.Tensor([[0.00342924 0.1344181  0.76495546 0.09719717]], shape=(1, 4), dtype=float32)\n",
      "[0.1, 0.0, 0.1, 0.1]\n",
      "tf.Tensor([[0.00462881 0.15147462 0.7347863  0.10911033]], shape=(1, 4), dtype=float32)\n",
      "[0.1, 0.3, 0.1, 0.1]\n",
      "tf.Tensor([[0.00342924 0.1344181  0.76495546 0.09719717]], shape=(1, 4), dtype=float32)\n"
     ]
    },
    {
     "name": "stderr",
     "output_type": "stream",
     "text": [
      " 66%|███████████████████████████████████████████████▊                        | 19901/30000 [5:03:40<1:26:36,  1.94it/s]"
     ]
    },
    {
     "name": "stdout",
     "output_type": "stream",
     "text": [
      "-2.4393961002767957\n",
      "76\n"
     ]
    },
    {
     "name": "stderr",
     "output_type": "stream",
     "text": [
      " 67%|████████████████████████████████████████████████                        | 20000/30000 [5:04:51<1:36:55,  1.72it/s]"
     ]
    },
    {
     "name": "stdout",
     "output_type": "stream",
     "text": [
      "-3.4884981773094843\n",
      "75\n",
      "[0.8, 0.7, 0.7, 0.1]\n",
      "tf.Tensor([[1.4984314e-04 2.3773793e-02 9.4408691e-01 3.1989351e-02]], shape=(1, 4), dtype=float32)\n",
      "[0.8, 0.4, 0.7, 0.1]\n",
      "tf.Tensor([[1.7598884e-04 2.5881605e-02 9.4008809e-01 3.3854324e-02]], shape=(1, 4), dtype=float32)\n",
      "[0.8, 0.1, 0.7, 0.1]\n",
      "tf.Tensor([[2.9359059e-04 3.5983879e-02 9.2188066e-01 4.1841846e-02]], shape=(1, 4), dtype=float32)\n",
      "[0.5, 0.1, 0.7, 0.1]\n",
      "tf.Tensor([[0.00914285 0.2934805  0.6010828  0.09629383]], shape=(1, 4), dtype=float32)\n",
      "[0.8, 0.1, 0.7, 0.1]\n",
      "tf.Tensor([[0.00749205 0.27756032 0.6236938  0.09125378]], shape=(1, 4), dtype=float32)\n",
      "[0.5, 0.1, 0.7, 0.1]\n",
      "tf.Tensor([[0.00673209 0.24014136 0.6516901  0.1014364 ]], shape=(1, 4), dtype=float32)\n",
      "[0.8, 0.1, 0.7, 0.1]\n",
      "tf.Tensor([[0.00649344 0.24807756 0.65052426 0.09490478]], shape=(1, 4), dtype=float32)\n",
      "[0.5, 0.1, 0.7, 0.1]\n",
      "tf.Tensor([[0.00673209 0.24014136 0.6516901  0.1014364 ]], shape=(1, 4), dtype=float32)\n",
      "[0.8, 0.1, 0.7, 0.1]\n",
      "tf.Tensor([[0.00649344 0.24807756 0.65052426 0.09490478]], shape=(1, 4), dtype=float32)\n",
      "[0.5, 0.1, 0.7, 0.1]\n",
      "tf.Tensor([[0.00673209 0.24014136 0.6516901  0.1014364 ]], shape=(1, 4), dtype=float32)\n",
      "[0.8, 0.1, 0.7, 0.1]\n",
      "tf.Tensor([[0.00649344 0.24807756 0.65052426 0.09490478]], shape=(1, 4), dtype=float32)\n",
      "[0.5, 0.1, 0.7, 0.1]\n",
      "tf.Tensor([[0.00673209 0.24014136 0.6516901  0.1014364 ]], shape=(1, 4), dtype=float32)\n",
      "[0.8, 0.1, 0.7, 0.1]\n",
      "tf.Tensor([[0.00649344 0.24807756 0.65052426 0.09490478]], shape=(1, 4), dtype=float32)\n",
      "[0.5, 0.1, 0.7, 0.1]\n",
      "tf.Tensor([[0.00673209 0.24014136 0.6516901  0.1014364 ]], shape=(1, 4), dtype=float32)\n",
      "[0.8, 0.1, 0.7, 0.1]\n",
      "tf.Tensor([[0.00649344 0.24807756 0.65052426 0.09490478]], shape=(1, 4), dtype=float32)\n",
      "[0.5, 0.1, 0.7, 0.1]\n",
      "tf.Tensor([[0.00673209 0.24014136 0.6516901  0.1014364 ]], shape=(1, 4), dtype=float32)\n",
      "[0.8, 0.1, 0.7, 0.1]\n",
      "tf.Tensor([[0.00649344 0.24807756 0.65052426 0.09490478]], shape=(1, 4), dtype=float32)\n"
     ]
    },
    {
     "name": "stderr",
     "output_type": "stream",
     "text": [
      "\r",
      " 67%|████████████████████████████████████████████████                        | 20001/30000 [5:04:51<1:31:03,  1.83it/s]"
     ]
    },
    {
     "name": "stdout",
     "output_type": "stream",
     "text": [
      "[0.5, 0.1, 0.7, 0.1]\n",
      "tf.Tensor([[0.00673209 0.24014136 0.6516901  0.1014364 ]], shape=(1, 4), dtype=float32)\n",
      "[0.8, 0.1, 0.7, 0.1]\n",
      "tf.Tensor([[0.00649344 0.24807756 0.65052426 0.09490478]], shape=(1, 4), dtype=float32)\n",
      "[0.5, 0.1, 0.7, 0.1]\n",
      "tf.Tensor([[0.00673209 0.24014136 0.6516901  0.1014364 ]], shape=(1, 4), dtype=float32)\n"
     ]
    },
    {
     "name": "stderr",
     "output_type": "stream",
     "text": [
      " 67%|████████████████████████████████████████████████▏                       | 20101/30000 [5:06:02<2:00:59,  1.36it/s]"
     ]
    },
    {
     "name": "stdout",
     "output_type": "stream",
     "text": [
      "-5.671613992467591\n",
      "68\n"
     ]
    },
    {
     "name": "stderr",
     "output_type": "stream",
     "text": [
      " 67%|████████████████████████████████████████████████▍                       | 20200/30000 [5:07:07<1:33:31,  1.75it/s]"
     ]
    },
    {
     "name": "stdout",
     "output_type": "stream",
     "text": [
      "-5.030990426317134\n",
      "74\n",
      "[0.5, 0.9, 0.6, 0.2]\n",
      "tf.Tensor([[1.3512395e-04 2.1979695e-02 9.4695967e-01 3.0925581e-02]], shape=(1, 4), dtype=float32)\n",
      "[0.5, 0.6, 0.6, 0.2]\n",
      "tf.Tensor([[1.6354155e-04 2.4254918e-02 9.4248962e-01 3.3091914e-02]], shape=(1, 4), dtype=float32)\n",
      "[0.5, 0.3, 0.6, 0.2]\n",
      "tf.Tensor([[2.9131674e-04 3.3326752e-02 9.2409456e-01 4.2287387e-02]], shape=(1, 4), dtype=float32)\n",
      "[0.8, 0.3, 0.6, 0.2]\n",
      "tf.Tensor([[0.00558388 0.21945252 0.6780007  0.09696288]], shape=(1, 4), dtype=float32)\n",
      "[0.5, 0.3, 0.6, 0.2]\n",
      "tf.Tensor([[0.00567589 0.21075794 0.68085605 0.10271011]], shape=(1, 4), dtype=float32)\n",
      "[0.8, 0.3, 0.6, 0.2]\n",
      "tf.Tensor([[0.00469997 0.2046484  0.69625396 0.09439776]], shape=(1, 4), dtype=float32)\n",
      "[0.5, 0.3, 0.6, 0.2]\n",
      "tf.Tensor([[0.00490909 0.1991775  0.6955468  0.10036667]], shape=(1, 4), dtype=float32)\n",
      "[0.8, 0.3, 0.6, 0.2]\n",
      "tf.Tensor([[0.00469997 0.2046484  0.69625396 0.09439776]], shape=(1, 4), dtype=float32)\n",
      "[0.5, 0.3, 0.6, 0.2]\n",
      "tf.Tensor([[0.00490909 0.1991775  0.6955468  0.10036667]], shape=(1, 4), dtype=float32)\n",
      "[0.8, 0.3, 0.6, 0.2]\n",
      "tf.Tensor([[0.00469997 0.2046484  0.69625396 0.09439776]], shape=(1, 4), dtype=float32)\n",
      "[0.5, 0.3, 0.6, 0.2]\n",
      "tf.Tensor([[0.00490909 0.1991775  0.6955468  0.10036667]], shape=(1, 4), dtype=float32)\n",
      "[0.8, 0.3, 0.6, 0.2]\n",
      "tf.Tensor([[0.00469997 0.2046484  0.69625396 0.09439776]], shape=(1, 4), dtype=float32)\n",
      "[0.5, 0.3, 0.6, 0.2]\n",
      "tf.Tensor([[0.00490909 0.1991775  0.6955468  0.10036667]], shape=(1, 4), dtype=float32)\n",
      "[0.8, 0.3, 0.6, 0.2]\n",
      "tf.Tensor([[0.00469997 0.2046484  0.69625396 0.09439776]], shape=(1, 4), dtype=float32)\n",
      "[0.5, 0.3, 0.6, 0.2]\n",
      "tf.Tensor([[0.00490909 0.1991775  0.6955468  0.10036667]], shape=(1, 4), dtype=float32)\n",
      "[0.8, 0.3, 0.6, 0.2]\n",
      "tf.Tensor([[0.00469997 0.2046484  0.69625396 0.09439776]], shape=(1, 4), dtype=float32)\n",
      "[0.5, 0.3, 0.6, 0.2]\n",
      "tf.Tensor([[0.00490909 0.1991775  0.6955468  0.10036667]], shape=(1, 4), dtype=float32)\n"
     ]
    },
    {
     "name": "stderr",
     "output_type": "stream",
     "text": [
      "\r",
      " 67%|████████████████████████████████████████████████▍                       | 20201/30000 [5:07:09<2:08:44,  1.27it/s]"
     ]
    },
    {
     "name": "stdout",
     "output_type": "stream",
     "text": [
      "[0.8, 0.3, 0.6, 0.2]\n",
      "tf.Tensor([[0.00469997 0.2046484  0.69625396 0.09439776]], shape=(1, 4), dtype=float32)\n",
      "[0.5, 0.3, 0.6, 0.2]\n",
      "tf.Tensor([[0.00490909 0.1991775  0.6955468  0.10036667]], shape=(1, 4), dtype=float32)\n",
      "[0.8, 0.3, 0.6, 0.2]\n",
      "tf.Tensor([[0.00469997 0.2046484  0.69625396 0.09439776]], shape=(1, 4), dtype=float32)\n"
     ]
    },
    {
     "name": "stderr",
     "output_type": "stream",
     "text": [
      " 68%|████████████████████████████████████████████████▋                       | 20301/30000 [5:08:20<1:28:12,  1.83it/s]"
     ]
    },
    {
     "name": "stdout",
     "output_type": "stream",
     "text": [
      "-4.188194895429609\n",
      "69\n"
     ]
    },
    {
     "name": "stderr",
     "output_type": "stream",
     "text": [
      " 68%|████████████████████████████████████████████████▉                       | 20400/30000 [5:09:23<2:12:28,  1.21it/s]"
     ]
    },
    {
     "name": "stdout",
     "output_type": "stream",
     "text": [
      "-6.033328481311038\n",
      "74\n",
      "[0.0, 0.3, 0.7, 0.1]\n",
      "tf.Tensor([[1.3736835e-04 2.2923278e-02 9.4597828e-01 3.0961070e-02]], shape=(1, 4), dtype=float32)\n",
      "[0.3, 0.3, 0.7, 0.1]\n",
      "tf.Tensor([[1.6364157e-04 2.5092090e-02 9.4165504e-01 3.3089228e-02]], shape=(1, 4), dtype=float32)\n",
      "[0.6, 0.3, 0.7, 0.1]\n",
      "tf.Tensor([[2.8263850e-04 3.5360005e-02 9.2316484e-01 4.1192506e-02]], shape=(1, 4), dtype=float32)\n",
      "[0.6, 0.0, 0.7, 0.1]\n",
      "tf.Tensor([[0.00559491 0.21061558 0.6804723  0.10331724]], shape=(1, 4), dtype=float32)\n",
      "[0.9, 0.0, 0.7, 0.1]\n",
      "tf.Tensor([[0.00598615 0.24825472 0.6552924  0.09046672]], shape=(1, 4), dtype=float32)\n",
      "[0.6, 0.0, 0.7, 0.1]\n",
      "tf.Tensor([[0.00647906 0.2517691  0.64650166 0.09525021]], shape=(1, 4), dtype=float32)\n",
      "[0.9, 0.0, 0.7, 0.1]\n",
      "tf.Tensor([[0.00501405 0.23496991 0.6717065  0.08830952]], shape=(1, 4), dtype=float32)\n",
      "[0.6, 0.0, 0.7, 0.1]\n",
      "tf.Tensor([[0.00549036 0.23487721 0.66562337 0.09400903]], shape=(1, 4), dtype=float32)\n",
      "[0.9, 0.0, 0.7, 0.1]\n",
      "tf.Tensor([[0.00501405 0.23496991 0.6717065  0.08830952]], shape=(1, 4), dtype=float32)\n",
      "[0.6, 0.0, 0.7, 0.1]\n",
      "tf.Tensor([[0.00549036 0.23487721 0.66562337 0.09400903]], shape=(1, 4), dtype=float32)\n",
      "[0.9, 0.0, 0.7, 0.1]\n",
      "tf.Tensor([[0.00501405 0.23496991 0.6717065  0.08830952]], shape=(1, 4), dtype=float32)\n",
      "[0.6, 0.0, 0.7, 0.1]\n",
      "tf.Tensor([[0.00549036 0.23487721 0.66562337 0.09400903]], shape=(1, 4), dtype=float32)\n",
      "[0.9, 0.0, 0.7, 0.1]\n",
      "tf.Tensor([[0.00501405 0.23496991 0.6717065  0.08830952]], shape=(1, 4), dtype=float32)\n",
      "[0.6, 0.0, 0.7, 0.1]\n",
      "tf.Tensor([[0.00549036 0.23487721 0.66562337 0.09400903]], shape=(1, 4), dtype=float32)\n",
      "[0.9, 0.0, 0.7, 0.1]\n",
      "tf.Tensor([[0.00501405 0.23496991 0.6717065  0.08830952]], shape=(1, 4), dtype=float32)\n",
      "[0.6, 0.0, 0.7, 0.1]\n",
      "tf.Tensor([[0.00549036 0.23487721 0.66562337 0.09400903]], shape=(1, 4), dtype=float32)\n",
      "[0.9, 0.0, 0.7, 0.1]\n",
      "tf.Tensor([[0.00501405 0.23496991 0.6717065  0.08830952]], shape=(1, 4), dtype=float32)\n",
      "[0.6, 0.0, 0.7, 0.1]\n",
      "tf.Tensor([[0.00549036 0.23487721 0.66562337 0.09400903]], shape=(1, 4), dtype=float32)\n",
      "[0.9, 0.0, 0.7, 0.1]\n"
     ]
    },
    {
     "name": "stderr",
     "output_type": "stream",
     "text": [
      "\r",
      " 68%|████████████████████████████████████████████████▉                       | 20401/30000 [5:09:25<2:35:32,  1.03it/s]"
     ]
    },
    {
     "name": "stdout",
     "output_type": "stream",
     "text": [
      "tf.Tensor([[0.00501405 0.23496991 0.6717065  0.08830952]], shape=(1, 4), dtype=float32)\n",
      "[0.6, 0.0, 0.7, 0.1]\n",
      "tf.Tensor([[0.00549036 0.23487721 0.66562337 0.09400903]], shape=(1, 4), dtype=float32)\n"
     ]
    },
    {
     "name": "stderr",
     "output_type": "stream",
     "text": [
      " 68%|█████████████████████████████████████████████████▏                      | 20501/30000 [5:10:26<1:20:19,  1.97it/s]"
     ]
    },
    {
     "name": "stdout",
     "output_type": "stream",
     "text": [
      "-0.8386661638241875\n",
      "85\n"
     ]
    },
    {
     "name": "stderr",
     "output_type": "stream",
     "text": [
      " 69%|█████████████████████████████████████████████████▍                      | 20600/30000 [5:11:32<1:28:37,  1.77it/s]"
     ]
    },
    {
     "name": "stdout",
     "output_type": "stream",
     "text": [
      "-2.7781716571535644\n",
      "77\n",
      "[0.5, 0.9, 0.6, 0.2]\n",
      "tf.Tensor([[1.13653725e-04 2.20113583e-02 9.49981272e-01 2.78937388e-02]], shape=(1, 4), dtype=float32)\n",
      "[0.5, 0.6, 0.6, 0.2]\n",
      "tf.Tensor([[1.4203766e-04 2.5010578e-02 9.4456297e-01 3.0284362e-02]], shape=(1, 4), dtype=float32)\n",
      "[0.5, 0.3, 0.6, 0.2]\n",
      "tf.Tensor([[2.9370005e-04 3.8472563e-02 9.2022830e-01 4.1005418e-02]], shape=(1, 4), dtype=float32)\n",
      "[0.8, 0.3, 0.6, 0.2]\n",
      "tf.Tensor([[0.00794192 0.30987653 0.6037344  0.07844719]], shape=(1, 4), dtype=float32)\n",
      "[0.5, 0.3, 0.6, 0.2]\n",
      "tf.Tensor([[0.00843432 0.30504173 0.60333234 0.08319162]], shape=(1, 4), dtype=float32)\n",
      "[0.8, 0.3, 0.6, 0.2]\n",
      "tf.Tensor([[0.00749904 0.3098393  0.60736763 0.07529411]], shape=(1, 4), dtype=float32)\n",
      "[0.5, 0.3, 0.6, 0.2]\n",
      "tf.Tensor([[0.00818118 0.30931333 0.6024048  0.08010072]], shape=(1, 4), dtype=float32)\n",
      "[0.8, 0.3, 0.6, 0.2]\n",
      "tf.Tensor([[0.00749904 0.3098393  0.60736763 0.07529411]], shape=(1, 4), dtype=float32)\n",
      "[0.5, 0.3, 0.6, 0.2]\n",
      "tf.Tensor([[0.00818118 0.30931333 0.6024048  0.08010072]], shape=(1, 4), dtype=float32)\n",
      "[0.8, 0.3, 0.6, 0.2]\n",
      "tf.Tensor([[0.00749904 0.3098393  0.60736763 0.07529411]], shape=(1, 4), dtype=float32)\n",
      "[0.5, 0.3, 0.6, 0.2]\n",
      "tf.Tensor([[0.00818118 0.30931333 0.6024048  0.08010072]], shape=(1, 4), dtype=float32)\n",
      "[0.8, 0.3, 0.6, 0.2]\n",
      "tf.Tensor([[0.00749904 0.3098393  0.60736763 0.07529411]], shape=(1, 4), dtype=float32)\n",
      "[0.5, 0.3, 0.6, 0.2]\n",
      "tf.Tensor([[0.00818118 0.30931333 0.6024048  0.08010072]], shape=(1, 4), dtype=float32)\n",
      "[0.8, 0.3, 0.6, 0.2]\n",
      "tf.Tensor([[0.00749904 0.3098393  0.60736763 0.07529411]], shape=(1, 4), dtype=float32)\n",
      "[0.5, 0.3, 0.6, 0.2]\n",
      "tf.Tensor([[0.00818118 0.30931333 0.6024048  0.08010072]], shape=(1, 4), dtype=float32)\n",
      "[0.8, 0.3, 0.6, 0.2]\n",
      "tf.Tensor([[0.00749904 0.3098393  0.60736763 0.07529411]], shape=(1, 4), dtype=float32)\n",
      "[0.5, 0.3, 0.6, 0.2]\n"
     ]
    },
    {
     "name": "stderr",
     "output_type": "stream",
     "text": [
      "\r",
      " 69%|█████████████████████████████████████████████████▍                      | 20601/30000 [5:11:32<1:31:39,  1.71it/s]"
     ]
    },
    {
     "name": "stdout",
     "output_type": "stream",
     "text": [
      "tf.Tensor([[0.00818118 0.30931333 0.6024048  0.08010072]], shape=(1, 4), dtype=float32)\n",
      "[0.8, 0.3, 0.6, 0.2]\n",
      "tf.Tensor([[0.00749904 0.3098393  0.60736763 0.07529411]], shape=(1, 4), dtype=float32)\n",
      "[0.5, 0.3, 0.6, 0.2]\n",
      "tf.Tensor([[0.00818118 0.30931333 0.6024048  0.08010072]], shape=(1, 4), dtype=float32)\n",
      "[0.8, 0.3, 0.6, 0.2]\n",
      "tf.Tensor([[0.00749904 0.3098393  0.60736763 0.07529411]], shape=(1, 4), dtype=float32)\n"
     ]
    },
    {
     "name": "stderr",
     "output_type": "stream",
     "text": [
      " 69%|█████████████████████████████████████████████████▋                      | 20701/30000 [5:12:28<1:07:16,  2.30it/s]"
     ]
    },
    {
     "name": "stdout",
     "output_type": "stream",
     "text": [
      "1.243383105622868\n",
      "87\n"
     ]
    },
    {
     "name": "stderr",
     "output_type": "stream",
     "text": [
      " 69%|█████████████████████████████████████████████████▉                      | 20800/30000 [5:13:33<1:40:10,  1.53it/s]"
     ]
    },
    {
     "name": "stdout",
     "output_type": "stream",
     "text": [
      "-2.1776640616773717\n",
      "78\n",
      "[0.5, 0.6, 0.7, 0.4]\n",
      "tf.Tensor([[1.1932660e-04 2.1871746e-02 9.4838977e-01 2.9619154e-02]], shape=(1, 4), dtype=float32)\n",
      "[0.8, 0.6, 0.7, 0.4]\n",
      "tf.Tensor([[1.3191826e-04 2.3612656e-02 9.4581330e-01 3.0442251e-02]], shape=(1, 4), dtype=float32)\n",
      "[0.8, 0.3, 0.7, 0.4]\n",
      "tf.Tensor([[2.4478964e-04 3.5751529e-02 9.2519706e-01 3.8806640e-02]], shape=(1, 4), dtype=float32)\n",
      "[0.5, 0.3, 0.7, 0.4]\n",
      "tf.Tensor([[0.00798879 0.29832312 0.60679024 0.08689786]], shape=(1, 4), dtype=float32)\n",
      "[0.8, 0.3, 0.7, 0.4]\n",
      "tf.Tensor([[0.0069221  0.29838064 0.61410826 0.08058898]], shape=(1, 4), dtype=float32)\n",
      "[0.5, 0.3, 0.7, 0.4]\n",
      "tf.Tensor([[0.00721941 0.2824271  0.62287444 0.08747905]], shape=(1, 4), dtype=float32)\n",
      "[0.8, 0.3, 0.7, 0.4]\n",
      "tf.Tensor([[0.00669082 0.28483775 0.62630045 0.08217096]], shape=(1, 4), dtype=float32)\n",
      "[0.5, 0.3, 0.7, 0.4]\n",
      "tf.Tensor([[0.00721941 0.2824271  0.62287444 0.08747905]], shape=(1, 4), dtype=float32)\n",
      "[0.8, 0.3, 0.7, 0.4]\n",
      "tf.Tensor([[0.00669082 0.28483775 0.62630045 0.08217096]], shape=(1, 4), dtype=float32)\n",
      "[0.5, 0.3, 0.7, 0.4]\n",
      "tf.Tensor([[0.00721941 0.2824271  0.62287444 0.08747905]], shape=(1, 4), dtype=float32)\n",
      "[0.8, 0.3, 0.7, 0.4]\n",
      "tf.Tensor([[0.00669082 0.28483775 0.62630045 0.08217096]], shape=(1, 4), dtype=float32)\n",
      "[0.5, 0.3, 0.7, 0.4]\n",
      "tf.Tensor([[0.00721941 0.2824271  0.62287444 0.08747905]], shape=(1, 4), dtype=float32)\n",
      "[0.8, 0.3, 0.7, 0.4]\n",
      "tf.Tensor([[0.00669082 0.28483775 0.62630045 0.08217096]], shape=(1, 4), dtype=float32)\n",
      "[0.5, 0.3, 0.7, 0.4]\n",
      "tf.Tensor([[0.00721941 0.2824271  0.62287444 0.08747905]], shape=(1, 4), dtype=float32)\n",
      "[0.8, 0.3, 0.7, 0.4]\n",
      "tf.Tensor([[0.00669082 0.28483775 0.62630045 0.08217096]], shape=(1, 4), dtype=float32)\n",
      "[0.5, 0.3, 0.7, 0.4]\n",
      "tf.Tensor([[0.00721941 0.2824271  0.62287444 0.08747905]], shape=(1, 4), dtype=float32)\n",
      "[0.8, 0.3, 0.7, 0.4]\n",
      "tf.Tensor([[0.00669082 0.28483775 0.62630045 0.08217096]], shape=(1, 4), dtype=float32)\n"
     ]
    },
    {
     "name": "stderr",
     "output_type": "stream",
     "text": [
      " 69%|█████████████████████████████████████████████████▉                      | 20802/30000 [5:13:33<1:13:43,  2.08it/s]"
     ]
    },
    {
     "name": "stdout",
     "output_type": "stream",
     "text": [
      "[0.5, 0.3, 0.7, 0.4]\n",
      "tf.Tensor([[0.00721941 0.2824271  0.62287444 0.08747905]], shape=(1, 4), dtype=float32)\n",
      "[0.8, 0.3, 0.7, 0.4]\n",
      "tf.Tensor([[0.00669082 0.28483775 0.62630045 0.08217096]], shape=(1, 4), dtype=float32)\n",
      "[0.5, 0.3, 0.7, 0.4]\n",
      "tf.Tensor([[0.00721941 0.2824271  0.62287444 0.08747905]], shape=(1, 4), dtype=float32)\n"
     ]
    },
    {
     "name": "stderr",
     "output_type": "stream",
     "text": [
      " 70%|██████████████████████████████████████████████████▏                     | 20901/30000 [5:14:41<2:23:51,  1.05it/s]"
     ]
    },
    {
     "name": "stdout",
     "output_type": "stream",
     "text": [
      "-4.268001224903179\n",
      "75\n"
     ]
    },
    {
     "name": "stderr",
     "output_type": "stream",
     "text": [
      " 70%|██████████████████████████████████████████████████▍                     | 21000/30000 [5:15:45<2:17:09,  1.09it/s]"
     ]
    },
    {
     "name": "stdout",
     "output_type": "stream",
     "text": [
      "-5.564191973078223\n",
      "77\n",
      "[0.0, 0.9, 0.7, 0.4]\n",
      "tf.Tensor([[8.9829991e-05 1.6934013e-02 9.5684296e-01 2.6133196e-02]], shape=(1, 4), dtype=float32)\n",
      "[0.3, 0.9, 0.7, 0.4]\n",
      "tf.Tensor([[1.0630434e-04 1.8802065e-02 9.5351237e-01 2.7579283e-02]], shape=(1, 4), dtype=float32)\n",
      "[0.3, 0.6, 0.7, 0.4]\n",
      "tf.Tensor([[1.9367256e-04 2.5846358e-02 9.3883586e-01 3.5124131e-02]], shape=(1, 4), dtype=float32)\n",
      "[0.6, 0.6, 0.7, 0.4]\n",
      "tf.Tensor([[0.00465175 0.18891859 0.7131873  0.09324237]], shape=(1, 4), dtype=float32)\n",
      "[0.6, 0.3, 0.7, 0.4]\n",
      "tf.Tensor([[0.00457893 0.18710212 0.71196246 0.0963565 ]], shape=(1, 4), dtype=float32)\n",
      "[0.9, 0.3, 0.7, 0.4]\n",
      "tf.Tensor([[0.00409364 0.1951447  0.71406597 0.08669566]], shape=(1, 4), dtype=float32)\n",
      "[0.6, 0.3, 0.7, 0.4]\n",
      "tf.Tensor([[0.00425088 0.19318166 0.7111577  0.0914098 ]], shape=(1, 4), dtype=float32)\n",
      "[0.9, 0.3, 0.7, 0.4]\n",
      "tf.Tensor([[0.00387347 0.19822255 0.71458024 0.08332371]], shape=(1, 4), dtype=float32)\n",
      "[0.6, 0.3, 0.7, 0.4]\n",
      "tf.Tensor([[0.00420452 0.19752467 0.7098001  0.08847068]], shape=(1, 4), dtype=float32)\n",
      "[0.9, 0.3, 0.7, 0.4]\n",
      "tf.Tensor([[0.00387347 0.19822255 0.71458024 0.08332371]], shape=(1, 4), dtype=float32)\n",
      "[0.6, 0.3, 0.7, 0.4]\n",
      "tf.Tensor([[0.00420452 0.19752467 0.7098001  0.08847068]], shape=(1, 4), dtype=float32)\n",
      "[0.9, 0.3, 0.7, 0.4]\n",
      "tf.Tensor([[0.00387347 0.19822255 0.71458024 0.08332371]], shape=(1, 4), dtype=float32)\n",
      "[0.6, 0.3, 0.7, 0.4]\n",
      "tf.Tensor([[0.00420452 0.19752467 0.7098001  0.08847068]], shape=(1, 4), dtype=float32)\n",
      "[0.9, 0.3, 0.7, 0.4]\n",
      "tf.Tensor([[0.00387347 0.19822255 0.71458024 0.08332371]], shape=(1, 4), dtype=float32)\n",
      "[0.6, 0.3, 0.7, 0.4]\n",
      "tf.Tensor([[0.00420452 0.19752467 0.7098001  0.08847068]], shape=(1, 4), dtype=float32)\n",
      "[0.9, 0.3, 0.7, 0.4]\n",
      "tf.Tensor([[0.00387347 0.19822255 0.71458024 0.08332371]], shape=(1, 4), dtype=float32)\n",
      "[0.6, 0.3, 0.7, 0.4]\n",
      "tf.Tensor([[0.00420452 0.19752467 0.7098001  0.08847068]], shape=(1, 4), dtype=float32)\n"
     ]
    },
    {
     "name": "stderr",
     "output_type": "stream",
     "text": [
      " 70%|██████████████████████████████████████████████████▍                     | 21002/30000 [5:15:46<1:33:57,  1.60it/s]"
     ]
    },
    {
     "name": "stdout",
     "output_type": "stream",
     "text": [
      "[0.9, 0.3, 0.7, 0.4]\n",
      "tf.Tensor([[0.00387347 0.19822255 0.71458024 0.08332371]], shape=(1, 4), dtype=float32)\n",
      "[0.6, 0.3, 0.7, 0.4]\n",
      "tf.Tensor([[0.00420452 0.19752467 0.7098001  0.08847068]], shape=(1, 4), dtype=float32)\n",
      "[0.9, 0.3, 0.7, 0.4]\n",
      "tf.Tensor([[0.00387347 0.19822255 0.71458024 0.08332371]], shape=(1, 4), dtype=float32)\n"
     ]
    },
    {
     "name": "stderr",
     "output_type": "stream",
     "text": [
      " 70%|██████████████████████████████████████████████████▋                     | 21101/30000 [5:16:58<2:14:35,  1.10it/s]"
     ]
    },
    {
     "name": "stdout",
     "output_type": "stream",
     "text": [
      "-6.5346586466880625\n",
      "68\n"
     ]
    },
    {
     "name": "stderr",
     "output_type": "stream",
     "text": [
      " 71%|██████████████████████████████████████████████████▉                     | 21200/30000 [5:18:04<1:35:19,  1.54it/s]"
     ]
    },
    {
     "name": "stdout",
     "output_type": "stream",
     "text": [
      "-4.2158577282541\n",
      "70\n",
      "[0.4, 0.2, 0.6, 0.2]\n",
      "tf.Tensor([[1.0129623e-04 2.0086374e-02 9.5218480e-01 2.7627623e-02]], shape=(1, 4), dtype=float32)\n",
      "[0.7, 0.2, 0.6, 0.2]\n",
      "tf.Tensor([[1.12934205e-04 2.21105441e-02 9.49172139e-01 2.86043920e-02]], shape=(1, 4), dtype=float32)\n",
      "[0.4, 0.2, 0.6, 0.2]\n",
      "tf.Tensor([[2.2055968e-04 3.2139089e-02 9.3021703e-01 3.7423290e-02]], shape=(1, 4), dtype=float32)\n",
      "[0.7, 0.2, 0.6, 0.2]\n",
      "tf.Tensor([[0.00490786 0.23590747 0.67507124 0.08411346]], shape=(1, 4), dtype=float32)\n",
      "[0.4, 0.2, 0.6, 0.2]\n",
      "tf.Tensor([[0.00528569 0.23317395 0.671782   0.08975834]], shape=(1, 4), dtype=float32)\n",
      "[0.7, 0.2, 0.6, 0.2]\n",
      "tf.Tensor([[0.00490786 0.23590747 0.67507124 0.08411346]], shape=(1, 4), dtype=float32)\n",
      "[0.4, 0.2, 0.6, 0.2]\n",
      "tf.Tensor([[0.00528569 0.23317395 0.671782   0.08975834]], shape=(1, 4), dtype=float32)\n",
      "[0.7, 0.2, 0.6, 0.2]\n",
      "tf.Tensor([[0.00490786 0.23590747 0.67507124 0.08411346]], shape=(1, 4), dtype=float32)\n",
      "[0.4, 0.2, 0.6, 0.2]\n",
      "tf.Tensor([[0.00528569 0.23317395 0.671782   0.08975834]], shape=(1, 4), dtype=float32)\n",
      "[0.7, 0.2, 0.6, 0.2]\n",
      "tf.Tensor([[0.00490786 0.23590747 0.67507124 0.08411346]], shape=(1, 4), dtype=float32)\n",
      "[0.4, 0.2, 0.6, 0.2]\n",
      "tf.Tensor([[0.00528569 0.23317395 0.671782   0.08975834]], shape=(1, 4), dtype=float32)\n",
      "[0.7, 0.2, 0.6, 0.2]\n",
      "tf.Tensor([[0.00490786 0.23590747 0.67507124 0.08411346]], shape=(1, 4), dtype=float32)\n",
      "[0.4, 0.2, 0.6, 0.2]\n",
      "tf.Tensor([[0.00528569 0.23317395 0.671782   0.08975834]], shape=(1, 4), dtype=float32)\n",
      "[0.7, 0.2, 0.6, 0.2]\n",
      "tf.Tensor([[0.00490786 0.23590747 0.67507124 0.08411346]], shape=(1, 4), dtype=float32)\n",
      "[0.4, 0.2, 0.6, 0.2]\n",
      "tf.Tensor([[0.00528569 0.23317395 0.671782   0.08975834]], shape=(1, 4), dtype=float32)\n",
      "[0.7, 0.2, 0.6, 0.2]\n",
      "tf.Tensor([[0.00490786 0.23590747 0.67507124 0.08411346]], shape=(1, 4), dtype=float32)\n",
      "[0.4, 0.2, 0.6, 0.2]\n",
      "tf.Tensor([[0.00528569 0.23317395 0.671782   0.08975834]], shape=(1, 4), dtype=float32)\n"
     ]
    },
    {
     "name": "stderr",
     "output_type": "stream",
     "text": [
      "\r",
      " 71%|██████████████████████████████████████████████████▉                     | 21201/30000 [5:18:06<2:04:51,  1.17it/s]"
     ]
    },
    {
     "name": "stdout",
     "output_type": "stream",
     "text": [
      "[0.7, 0.2, 0.6, 0.2]\n",
      "tf.Tensor([[0.00490786 0.23590747 0.67507124 0.08411346]], shape=(1, 4), dtype=float32)\n",
      "[0.4, 0.2, 0.6, 0.2]\n",
      "tf.Tensor([[0.00528569 0.23317395 0.671782   0.08975834]], shape=(1, 4), dtype=float32)\n",
      "[0.7, 0.2, 0.6, 0.2]\n",
      "tf.Tensor([[0.00490786 0.23590747 0.67507124 0.08411346]], shape=(1, 4), dtype=float32)\n"
     ]
    },
    {
     "name": "stderr",
     "output_type": "stream",
     "text": [
      " 71%|███████████████████████████████████████████████████                     | 21302/30000 [5:19:17<1:15:13,  1.93it/s]"
     ]
    },
    {
     "name": "stdout",
     "output_type": "stream",
     "text": [
      "-5.647115576332188\n",
      "67\n"
     ]
    },
    {
     "name": "stderr",
     "output_type": "stream",
     "text": [
      " 71%|███████████████████████████████████████████████████▎                    | 21400/30000 [5:20:19<1:38:12,  1.46it/s]"
     ]
    },
    {
     "name": "stdout",
     "output_type": "stream",
     "text": [
      "-3.3508844578881214\n",
      "76\n",
      "[0.8, 0.4, 0.2, 0.9]\n",
      "tf.Tensor([[7.1594892e-05 1.8170118e-02 9.5814979e-01 2.3608495e-02]], shape=(1, 4), dtype=float32)\n",
      "[0.5, 0.4, 0.2, 0.9]\n",
      "tf.Tensor([[9.7507575e-05 2.0092240e-02 9.5321161e-01 2.6598630e-02]], shape=(1, 4), dtype=float32)\n",
      "[0.5, 0.7, 0.2, 0.9]\n",
      "tf.Tensor([[1.7380432e-04 3.1115597e-02 9.3593711e-01 3.2773461e-02]], shape=(1, 4), dtype=float32)\n",
      "[0.2, 0.7, 0.2, 0.9]\n",
      "tf.Tensor([[0.00614428 0.2566151  0.65394455 0.08329607]], shape=(1, 4), dtype=float32)\n",
      "[0.2, 1.0, 0.2, 0.9]\n",
      "tf.Tensor([[0.00580546 0.24262196 0.66633683 0.08523573]], shape=(1, 4), dtype=float32)\n",
      "[0.2, 0.7, 0.2, 0.9]\n",
      "tf.Tensor([[0.00602585 0.23178077 0.67179644 0.09039694]], shape=(1, 4), dtype=float32)\n",
      "[0.2, 1.0, 0.2, 0.9]\n",
      "tf.Tensor([[0.00623403 0.23559415 0.66828895 0.08988292]], shape=(1, 4), dtype=float32)\n",
      "[0.2, 0.7, 0.2, 0.9]\n",
      "tf.Tensor([[0.00664944 0.23420641 0.66605985 0.09308431]], shape=(1, 4), dtype=float32)\n",
      "[0.2, 1.0, 0.2, 0.9]\n",
      "tf.Tensor([[0.00623403 0.23559415 0.66828895 0.08988292]], shape=(1, 4), dtype=float32)\n",
      "[0.2, 0.7, 0.2, 0.9]\n",
      "tf.Tensor([[0.00664944 0.23420641 0.66605985 0.09308431]], shape=(1, 4), dtype=float32)\n",
      "[0.2, 1.0, 0.2, 0.9]\n",
      "tf.Tensor([[0.00623403 0.23559415 0.66828895 0.08988292]], shape=(1, 4), dtype=float32)\n",
      "[0.2, 0.7, 0.2, 0.9]\n",
      "tf.Tensor([[0.00664944 0.23420641 0.66605985 0.09308431]], shape=(1, 4), dtype=float32)\n",
      "[0.2, 1.0, 0.2, 0.9]\n",
      "tf.Tensor([[0.00623403 0.23559415 0.66828895 0.08988292]], shape=(1, 4), dtype=float32)\n",
      "[0.2, 0.7, 0.2, 0.9]\n",
      "tf.Tensor([[0.00664944 0.23420641 0.66605985 0.09308431]], shape=(1, 4), dtype=float32)\n",
      "[0.2, 1.0, 0.2, 0.9]\n",
      "tf.Tensor([[0.00623403 0.23559415 0.66828895 0.08988292]], shape=(1, 4), dtype=float32)\n"
     ]
    },
    {
     "name": "stderr",
     "output_type": "stream",
     "text": [
      "\r",
      " 71%|███████████████████████████████████████████████████▎                    | 21401/30000 [5:20:20<1:36:20,  1.49it/s]"
     ]
    },
    {
     "name": "stdout",
     "output_type": "stream",
     "text": [
      "[0.2, 0.7, 0.2, 0.9]\n",
      "tf.Tensor([[0.00664944 0.23420641 0.66605985 0.09308431]], shape=(1, 4), dtype=float32)\n",
      "[0.2, 1.0, 0.2, 0.9]\n",
      "tf.Tensor([[0.00623403 0.23559415 0.66828895 0.08988292]], shape=(1, 4), dtype=float32)\n",
      "[0.2, 0.7, 0.2, 0.9]\n",
      "tf.Tensor([[0.00664944 0.23420641 0.66605985 0.09308431]], shape=(1, 4), dtype=float32)\n",
      "[0.2, 1.0, 0.2, 0.9]\n",
      "tf.Tensor([[0.00623403 0.23559415 0.66828895 0.08988292]], shape=(1, 4), dtype=float32)\n",
      "[0.2, 0.7, 0.2, 0.9]\n",
      "tf.Tensor([[0.00664944 0.23420641 0.66605985 0.09308431]], shape=(1, 4), dtype=float32)\n"
     ]
    },
    {
     "name": "stderr",
     "output_type": "stream",
     "text": [
      " 72%|███████████████████████████████████████████████████▌                    | 21501/30000 [5:21:28<1:02:20,  2.27it/s]"
     ]
    },
    {
     "name": "stdout",
     "output_type": "stream",
     "text": [
      "-3.273715279008964\n",
      "74\n"
     ]
    },
    {
     "name": "stderr",
     "output_type": "stream",
     "text": [
      " 72%|███████████████████████████████████████████████████▊                    | 21600/30000 [5:22:40<1:00:50,  2.30it/s]"
     ]
    },
    {
     "name": "stdout",
     "output_type": "stream",
     "text": [
      "-4.13476545915089\n",
      "69\n",
      "[0.3, 0.2, 0.7, 0.1]\n",
      "tf.Tensor([[6.0562848e-05 1.5548665e-02 9.6222198e-01 2.2168716e-02]], shape=(1, 4), dtype=float32)\n",
      "[0.6, 0.2, 0.7, 0.1]\n",
      "tf.Tensor([[7.0526199e-05 1.6851941e-02 9.5959371e-01 2.3483861e-02]], shape=(1, 4), dtype=float32)\n",
      "[0.9, 0.2, 0.7, 0.1]\n",
      "tf.Tensor([[1.1382039e-04 2.3803314e-02 9.4796437e-01 2.8118463e-02]], shape=(1, 4), dtype=float32)\n",
      "[0.6, 0.2, 0.7, 0.1]\n",
      "tf.Tensor([[0.00319663 0.18679582 0.7304691  0.07953844]], shape=(1, 4), dtype=float32)\n",
      "[0.9, 0.2, 0.7, 0.1]\n",
      "tf.Tensor([[0.00309348 0.20471714 0.7212058  0.07098363]], shape=(1, 4), dtype=float32)\n",
      "[0.6, 0.2, 0.7, 0.1]\n",
      "tf.Tensor([[0.00329035 0.200923   0.71977943 0.07600724]], shape=(1, 4), dtype=float32)\n",
      "[0.9, 0.2, 0.7, 0.1]\n",
      "tf.Tensor([[0.00309348 0.20471714 0.7212058  0.07098363]], shape=(1, 4), dtype=float32)\n",
      "[0.6, 0.2, 0.7, 0.1]\n",
      "tf.Tensor([[0.00329035 0.200923   0.71977943 0.07600724]], shape=(1, 4), dtype=float32)\n",
      "[0.9, 0.2, 0.7, 0.1]\n",
      "tf.Tensor([[0.00309348 0.20471714 0.7212058  0.07098363]], shape=(1, 4), dtype=float32)\n",
      "[0.6, 0.2, 0.7, 0.1]\n",
      "tf.Tensor([[0.00329035 0.200923   0.71977943 0.07600724]], shape=(1, 4), dtype=float32)\n",
      "[0.9, 0.2, 0.7, 0.1]\n",
      "tf.Tensor([[0.00309348 0.20471714 0.7212058  0.07098363]], shape=(1, 4), dtype=float32)\n",
      "[0.6, 0.2, 0.7, 0.1]\n",
      "tf.Tensor([[0.00329035 0.200923   0.71977943 0.07600724]], shape=(1, 4), dtype=float32)\n",
      "[0.9, 0.2, 0.7, 0.1]\n",
      "tf.Tensor([[0.00309348 0.20471714 0.7212058  0.07098363]], shape=(1, 4), dtype=float32)\n",
      "[0.6, 0.2, 0.7, 0.1]\n",
      "tf.Tensor([[0.00329035 0.200923   0.71977943 0.07600724]], shape=(1, 4), dtype=float32)\n",
      "[0.9, 0.2, 0.7, 0.1]\n",
      "tf.Tensor([[0.00309348 0.20471714 0.7212058  0.07098363]], shape=(1, 4), dtype=float32)\n",
      "[0.6, 0.2, 0.7, 0.1]\n",
      "tf.Tensor([[0.00329035 0.200923   0.71977943 0.07600724]], shape=(1, 4), dtype=float32)\n",
      "[0.9, 0.2, 0.7, 0.1]\n",
      "tf.Tensor([[0.00309348 0.20471714 0.7212058  0.07098363]], shape=(1, 4), dtype=float32)\n"
     ]
    },
    {
     "name": "stderr",
     "output_type": "stream",
     "text": [
      "\r",
      " 72%|███████████████████████████████████████████████████▊                    | 21601/30000 [5:22:42<1:37:13,  1.44it/s]"
     ]
    },
    {
     "name": "stdout",
     "output_type": "stream",
     "text": [
      "[0.6, 0.2, 0.7, 0.1]\n",
      "tf.Tensor([[0.00329035 0.200923   0.71977943 0.07600724]], shape=(1, 4), dtype=float32)\n",
      "[0.9, 0.2, 0.7, 0.1]\n",
      "tf.Tensor([[0.00309348 0.20471714 0.7212058  0.07098363]], shape=(1, 4), dtype=float32)\n",
      "[0.6, 0.2, 0.7, 0.1]\n",
      "tf.Tensor([[0.00329035 0.200923   0.71977943 0.07600724]], shape=(1, 4), dtype=float32)\n"
     ]
    },
    {
     "name": "stderr",
     "output_type": "stream",
     "text": [
      " 72%|████████████████████████████████████████████████████                    | 21701/30000 [5:24:03<2:19:15,  1.01s/it]"
     ]
    },
    {
     "name": "stdout",
     "output_type": "stream",
     "text": [
      "-11.093256531995044\n",
      "53\n"
     ]
    },
    {
     "name": "stderr",
     "output_type": "stream",
     "text": [
      " 73%|████████████████████████████████████████████████████▎                   | 21800/30000 [5:25:17<1:50:09,  1.24it/s]"
     ]
    },
    {
     "name": "stdout",
     "output_type": "stream",
     "text": [
      "-5.182966635342467\n",
      "66\n",
      "[0.7, 0.1, 0.2, 0.9]\n",
      "tf.Tensor([[5.4767581e-05 1.5258574e-02 9.6345788e-01 2.1228790e-02]], shape=(1, 4), dtype=float32)\n",
      "[0.7, 0.4, 0.2, 0.9]\n",
      "tf.Tensor([[6.102730e-05 1.720848e-02 9.608005e-01 2.192989e-02]], shape=(1, 4), dtype=float32)\n",
      "[0.4, 0.4, 0.2, 0.9]\n",
      "tf.Tensor([[1.2651354e-04 2.4477441e-02 9.4624323e-01 2.9152902e-02]], shape=(1, 4), dtype=float32)\n",
      "[0.4, 0.7, 0.2, 0.9]\n",
      "tf.Tensor([[0.0029011  0.18837577 0.73567617 0.073047  ]], shape=(1, 4), dtype=float32)\n",
      "[0.1, 0.7, 0.2, 0.9]\n",
      "tf.Tensor([[0.00301143 0.17278297 0.7436729  0.08053266]], shape=(1, 4), dtype=float32)\n",
      "[0.1, 1.0, 0.2, 0.9]\n",
      "tf.Tensor([[0.00314725 0.16927783 0.7447734  0.08280154]], shape=(1, 4), dtype=float32)\n",
      "[0.4, 1.0, 0.2, 0.9]\n",
      "tf.Tensor([[0.00259469 0.1711654  0.7525245  0.07371537]], shape=(1, 4), dtype=float32)\n",
      "[0.1, 1.0, 0.2, 0.9]\n",
      "tf.Tensor([[0.00329686 0.18134315 0.73544335 0.07991655]], shape=(1, 4), dtype=float32)\n",
      "[0.4, 1.0, 0.2, 0.9]\n",
      "tf.Tensor([[0.00308339 0.19835235 0.72758645 0.07097781]], shape=(1, 4), dtype=float32)\n",
      "[0.1, 1.0, 0.2, 0.9]\n",
      "tf.Tensor([[0.00307322 0.18695094 0.7340284  0.07594746]], shape=(1, 4), dtype=float32)\n",
      "[0.4, 1.0, 0.2, 0.9]\n",
      "tf.Tensor([[0.00308339 0.19835235 0.72758645 0.07097781]], shape=(1, 4), dtype=float32)\n",
      "[0.1, 1.0, 0.2, 0.9]\n",
      "tf.Tensor([[0.00307322 0.18695094 0.7340284  0.07594746]], shape=(1, 4), dtype=float32)\n",
      "[0.4, 1.0, 0.2, 0.9]\n",
      "tf.Tensor([[0.00308339 0.19835235 0.72758645 0.07097781]], shape=(1, 4), dtype=float32)\n",
      "[0.1, 1.0, 0.2, 0.9]\n",
      "tf.Tensor([[0.00307322 0.18695094 0.7340284  0.07594746]], shape=(1, 4), dtype=float32)\n",
      "[0.4, 1.0, 0.2, 0.9]\n",
      "tf.Tensor([[0.00308339 0.19835235 0.72758645 0.07097781]], shape=(1, 4), dtype=float32)\n",
      "[0.1, 1.0, 0.2, 0.9]\n",
      "tf.Tensor([[0.00307322 0.18695094 0.7340284  0.07594746]], shape=(1, 4), dtype=float32)\n",
      "[0.4, 1.0, 0.2, 0.9]\n",
      "tf.Tensor([[0.00308339 0.19835235 0.72758645 0.07097781]], shape=(1, 4), dtype=float32)\n"
     ]
    },
    {
     "name": "stderr",
     "output_type": "stream",
     "text": [
      "\r",
      " 73%|████████████████████████████████████████████████████▎                   | 21801/30000 [5:25:18<1:47:18,  1.27it/s]"
     ]
    },
    {
     "name": "stdout",
     "output_type": "stream",
     "text": [
      "[0.1, 1.0, 0.2, 0.9]\n",
      "tf.Tensor([[0.00307322 0.18695094 0.7340284  0.07594746]], shape=(1, 4), dtype=float32)\n",
      "[0.4, 1.0, 0.2, 0.9]\n",
      "tf.Tensor([[0.00308339 0.19835235 0.72758645 0.07097781]], shape=(1, 4), dtype=float32)\n",
      "[0.1, 1.0, 0.2, 0.9]\n",
      "tf.Tensor([[0.00307322 0.18695094 0.7340284  0.07594746]], shape=(1, 4), dtype=float32)\n"
     ]
    },
    {
     "name": "stderr",
     "output_type": "stream",
     "text": [
      " 73%|████████████████████████████████████████████████████▌                   | 21901/30000 [5:26:32<1:39:18,  1.36it/s]"
     ]
    },
    {
     "name": "stdout",
     "output_type": "stream",
     "text": [
      "-4.91572520204651\n",
      "68\n"
     ]
    },
    {
     "name": "stderr",
     "output_type": "stream",
     "text": [
      " 73%|████████████████████████████████████████████████████▊                   | 22000/30000 [5:27:48<1:29:01,  1.50it/s]"
     ]
    },
    {
     "name": "stdout",
     "output_type": "stream",
     "text": [
      "-4.61398140864373\n",
      "67\n",
      "[0.9, 0.7, 0.6, 0.2]\n",
      "tf.Tensor([[5.0598570e-05 1.6510420e-02 9.6303511e-01 2.0403873e-02]], shape=(1, 4), dtype=float32)\n",
      "[0.6, 0.7, 0.6, 0.2]\n",
      "tf.Tensor([[6.4923159e-05 1.8932194e-02 9.5890576e-01 2.2097116e-02]], shape=(1, 4), dtype=float32)\n",
      "[0.6, 0.4, 0.6, 0.2]\n",
      "tf.Tensor([[1.4046332e-04 3.1526029e-02 9.3874800e-01 2.9585544e-02]], shape=(1, 4), dtype=float32)\n",
      "[0.6, 0.1, 0.6, 0.2]\n",
      "tf.Tensor([[0.00528095 0.27189988 0.6484253  0.07439388]], shape=(1, 4), dtype=float32)\n",
      "[0.6, 0.4, 0.6, 0.2]\n",
      "tf.Tensor([[0.00463758 0.2523844  0.6680013  0.07497671]], shape=(1, 4), dtype=float32)\n",
      "[0.6, 0.1, 0.6, 0.2]\n",
      "tf.Tensor([[0.00482081 0.23745644 0.67716    0.08056269]], shape=(1, 4), dtype=float32)\n",
      "[0.6, 0.4, 0.6, 0.2]\n",
      "tf.Tensor([[0.00432007 0.23405157 0.68506867 0.07655978]], shape=(1, 4), dtype=float32)\n",
      "[0.6, 0.1, 0.6, 0.2]\n",
      "tf.Tensor([[0.00482081 0.23745644 0.67716    0.08056269]], shape=(1, 4), dtype=float32)\n",
      "[0.6, 0.4, 0.6, 0.2]\n",
      "tf.Tensor([[0.00432007 0.23405157 0.68506867 0.07655978]], shape=(1, 4), dtype=float32)\n",
      "[0.6, 0.1, 0.6, 0.2]\n",
      "tf.Tensor([[0.00482081 0.23745644 0.67716    0.08056269]], shape=(1, 4), dtype=float32)\n",
      "[0.6, 0.4, 0.6, 0.2]\n",
      "tf.Tensor([[0.00432007 0.23405157 0.68506867 0.07655978]], shape=(1, 4), dtype=float32)\n",
      "[0.6, 0.1, 0.6, 0.2]\n",
      "tf.Tensor([[0.00482081 0.23745644 0.67716    0.08056269]], shape=(1, 4), dtype=float32)\n",
      "[0.6, 0.4, 0.6, 0.2]\n",
      "tf.Tensor([[0.00432007 0.23405157 0.68506867 0.07655978]], shape=(1, 4), dtype=float32)\n",
      "[0.6, 0.1, 0.6, 0.2]\n",
      "tf.Tensor([[0.00482081 0.23745644 0.67716    0.08056269]], shape=(1, 4), dtype=float32)\n",
      "[0.6, 0.4, 0.6, 0.2]\n",
      "tf.Tensor([[0.00432007 0.23405157 0.68506867 0.07655978]], shape=(1, 4), dtype=float32)\n",
      "[0.6, 0.1, 0.6, 0.2]\n",
      "tf.Tensor([[0.00482081 0.23745644 0.67716    0.08056269]], shape=(1, 4), dtype=float32)\n",
      "[0.6, 0.4, 0.6, 0.2]\n",
      "tf.Tensor([[0.00432007 0.23405157 0.68506867 0.07655978]], shape=(1, 4), dtype=float32)\n"
     ]
    },
    {
     "name": "stderr",
     "output_type": "stream",
     "text": [
      "\r",
      " 73%|████████████████████████████████████████████████████▊                   | 22001/30000 [5:27:49<1:38:05,  1.36it/s]"
     ]
    },
    {
     "name": "stdout",
     "output_type": "stream",
     "text": [
      "[0.6, 0.1, 0.6, 0.2]\n",
      "tf.Tensor([[0.00482081 0.23745644 0.67716    0.08056269]], shape=(1, 4), dtype=float32)\n",
      "[0.6, 0.4, 0.6, 0.2]\n",
      "tf.Tensor([[0.00432007 0.23405157 0.68506867 0.07655978]], shape=(1, 4), dtype=float32)\n",
      "[0.6, 0.1, 0.6, 0.2]\n",
      "tf.Tensor([[0.00482081 0.23745644 0.67716    0.08056269]], shape=(1, 4), dtype=float32)\n"
     ]
    },
    {
     "name": "stderr",
     "output_type": "stream",
     "text": [
      " 74%|█████████████████████████████████████████████████████                   | 22101/30000 [5:28:58<1:44:33,  1.26it/s]"
     ]
    },
    {
     "name": "stdout",
     "output_type": "stream",
     "text": [
      "-4.76291710423007\n",
      "80\n"
     ]
    },
    {
     "name": "stderr",
     "output_type": "stream",
     "text": [
      " 74%|██████████████████████████████████████████████████████▊                   | 22200/30000 [5:30:05<46:17,  2.81it/s]"
     ]
    },
    {
     "name": "stdout",
     "output_type": "stream",
     "text": [
      "-2.5280180883688264\n",
      "74\n",
      "[0.8, 0.2, 0.7, 0.4]\n",
      "tf.Tensor([[4.3383174e-05 1.4218910e-02 9.6564227e-01 2.0095380e-02]], shape=(1, 4), dtype=float32)\n",
      "[0.8, 0.5, 0.7, 0.4]\n",
      "tf.Tensor([[4.7983965e-05 1.5935788e-02 9.6332401e-01 2.0692270e-02]], shape=(1, 4), dtype=float32)\n",
      "[0.5, 0.5, 0.7, 0.4]\n",
      "tf.Tensor([[9.9944918e-05 2.4395058e-02 9.4803005e-01 2.7474951e-02]], shape=(1, 4), dtype=float32)\n",
      "[0.8, 0.5, 0.7, 0.4]\n",
      "tf.Tensor([[0.00342955 0.24266586 0.6893164  0.06458826]], shape=(1, 4), dtype=float32)\n",
      "[0.5, 0.5, 0.7, 0.4]\n",
      "tf.Tensor([[0.00380938 0.24521813 0.6819771  0.06899539]], shape=(1, 4), dtype=float32)\n",
      "[0.8, 0.5, 0.7, 0.4]\n",
      "tf.Tensor([[0.00346165 0.24546358 0.68673277 0.06434198]], shape=(1, 4), dtype=float32)\n",
      "[0.5, 0.5, 0.7, 0.4]\n",
      "tf.Tensor([[0.00380938 0.24521813 0.6819771  0.06899539]], shape=(1, 4), dtype=float32)\n",
      "[0.8, 0.5, 0.7, 0.4]\n",
      "tf.Tensor([[0.00346165 0.24546358 0.68673277 0.06434198]], shape=(1, 4), dtype=float32)\n",
      "[0.5, 0.5, 0.7, 0.4]\n",
      "tf.Tensor([[0.00380938 0.24521813 0.6819771  0.06899539]], shape=(1, 4), dtype=float32)\n",
      "[0.8, 0.5, 0.7, 0.4]\n",
      "tf.Tensor([[0.00346165 0.24546358 0.68673277 0.06434198]], shape=(1, 4), dtype=float32)\n",
      "[0.5, 0.5, 0.7, 0.4]\n",
      "tf.Tensor([[0.00380938 0.24521813 0.6819771  0.06899539]], shape=(1, 4), dtype=float32)\n",
      "[0.8, 0.5, 0.7, 0.4]\n",
      "tf.Tensor([[0.00346165 0.24546358 0.68673277 0.06434198]], shape=(1, 4), dtype=float32)\n",
      "[0.5, 0.5, 0.7, 0.4]\n",
      "tf.Tensor([[0.00380938 0.24521813 0.6819771  0.06899539]], shape=(1, 4), dtype=float32)\n",
      "[0.8, 0.5, 0.7, 0.4]\n",
      "tf.Tensor([[0.00346165 0.24546358 0.68673277 0.06434198]], shape=(1, 4), dtype=float32)\n",
      "[0.5, 0.5, 0.7, 0.4]\n",
      "tf.Tensor([[0.00380938 0.24521813 0.6819771  0.06899539]], shape=(1, 4), dtype=float32)\n",
      "[0.8, 0.5, 0.7, 0.4]\n",
      "tf.Tensor([[0.00346165 0.24546358 0.68673277 0.06434198]], shape=(1, 4), dtype=float32)\n",
      "[0.5, 0.5, 0.7, 0.4]\n"
     ]
    },
    {
     "name": "stderr",
     "output_type": "stream",
     "text": [
      "\r",
      " 74%|█████████████████████████████████████████████████████▎                  | 22201/30000 [5:30:06<1:23:13,  1.56it/s]"
     ]
    },
    {
     "name": "stdout",
     "output_type": "stream",
     "text": [
      "tf.Tensor([[0.00380938 0.24521813 0.6819771  0.06899539]], shape=(1, 4), dtype=float32)\n",
      "[0.8, 0.5, 0.7, 0.4]\n",
      "tf.Tensor([[0.00346165 0.24546358 0.68673277 0.06434198]], shape=(1, 4), dtype=float32)\n",
      "[0.5, 0.5, 0.7, 0.4]\n",
      "tf.Tensor([[0.00380938 0.24521813 0.6819771  0.06899539]], shape=(1, 4), dtype=float32)\n",
      "[0.8, 0.5, 0.7, 0.4]\n",
      "tf.Tensor([[0.00346165 0.24546358 0.68673277 0.06434198]], shape=(1, 4), dtype=float32)\n"
     ]
    },
    {
     "name": "stderr",
     "output_type": "stream",
     "text": [
      " 74%|█████████████████████████████████████████████████████▌                  | 22301/30000 [5:31:17<1:58:58,  1.08it/s]"
     ]
    },
    {
     "name": "stdout",
     "output_type": "stream",
     "text": [
      "-7.314617751307034\n",
      "64\n"
     ]
    },
    {
     "name": "stderr",
     "output_type": "stream",
     "text": [
      " 75%|█████████████████████████████████████████████████████▊                  | 22400/30000 [5:32:20<1:18:55,  1.60it/s]"
     ]
    },
    {
     "name": "stdout",
     "output_type": "stream",
     "text": [
      "-4.092049225915626\n",
      "75\n",
      "[0.1, 0.5, 0.2, 0.9]\n",
      "tf.Tensor([[8.5235712e-05 2.0060582e-02 9.5168883e-01 2.8165383e-02]], shape=(1, 4), dtype=float32)\n",
      "[0.1, 0.8, 0.2, 0.9]\n",
      "tf.Tensor([[1.1620822e-04 2.4791380e-02 9.4278067e-01 3.2311723e-02]], shape=(1, 4), dtype=float32)\n",
      "[0.4, 0.8, 0.2, 0.9]\n",
      "tf.Tensor([[2.0567315e-04 3.7154052e-02 9.2345828e-01 3.9182074e-02]], shape=(1, 4), dtype=float32)\n",
      "[0.1, 0.8, 0.2, 0.9]\n",
      "tf.Tensor([[0.00411075 0.21062726 0.69434464 0.09091741]], shape=(1, 4), dtype=float32)\n",
      "[0.4, 0.8, 0.2, 0.9]\n",
      "tf.Tensor([[0.00436426 0.24864691 0.6688379  0.0781509 ]], shape=(1, 4), dtype=float32)\n",
      "[0.1, 0.8, 0.2, 0.9]\n",
      "tf.Tensor([[0.00452387 0.23909383 0.67210376 0.08427846]], shape=(1, 4), dtype=float32)\n",
      "[0.4, 0.8, 0.2, 0.9]\n",
      "tf.Tensor([[0.00436426 0.24864691 0.6688379  0.0781509 ]], shape=(1, 4), dtype=float32)\n",
      "[0.1, 0.8, 0.2, 0.9]\n",
      "tf.Tensor([[0.00452387 0.23909383 0.67210376 0.08427846]], shape=(1, 4), dtype=float32)\n",
      "[0.4, 0.8, 0.2, 0.9]\n",
      "tf.Tensor([[0.00436426 0.24864691 0.6688379  0.0781509 ]], shape=(1, 4), dtype=float32)\n",
      "[0.1, 0.8, 0.2, 0.9]\n",
      "tf.Tensor([[0.00452387 0.23909383 0.67210376 0.08427846]], shape=(1, 4), dtype=float32)\n",
      "[0.4, 0.8, 0.2, 0.9]\n",
      "tf.Tensor([[0.00436426 0.24864691 0.6688379  0.0781509 ]], shape=(1, 4), dtype=float32)\n",
      "[0.1, 0.8, 0.2, 0.9]\n",
      "tf.Tensor([[0.00452387 0.23909383 0.67210376 0.08427846]], shape=(1, 4), dtype=float32)\n",
      "[0.4, 0.8, 0.2, 0.9]\n",
      "tf.Tensor([[0.00436426 0.24864691 0.6688379  0.0781509 ]], shape=(1, 4), dtype=float32)\n",
      "[0.1, 0.8, 0.2, 0.9]\n",
      "tf.Tensor([[0.00452387 0.23909383 0.67210376 0.08427846]], shape=(1, 4), dtype=float32)\n",
      "[0.4, 0.8, 0.2, 0.9]\n",
      "tf.Tensor([[0.00436426 0.24864691 0.6688379  0.0781509 ]], shape=(1, 4), dtype=float32)\n",
      "[0.1, 0.8, 0.2, 0.9]\n",
      "tf.Tensor([[0.00452387 0.23909383 0.67210376 0.08427846]], shape=(1, 4), dtype=float32)\n",
      "[0.4, 0.8, 0.2, 0.9]\n",
      "tf.Tensor([[0.00436426 0.24864691 0.6688379  0.0781509 ]], shape=(1, 4), dtype=float32)\n",
      "[0.1, 0.8, 0.2, 0.9]\n"
     ]
    },
    {
     "name": "stderr",
     "output_type": "stream",
     "text": [
      "\r",
      " 75%|█████████████████████████████████████████████████████▊                  | 22401/30000 [5:32:22<1:43:43,  1.22it/s]"
     ]
    },
    {
     "name": "stdout",
     "output_type": "stream",
     "text": [
      "tf.Tensor([[0.00452387 0.23909383 0.67210376 0.08427846]], shape=(1, 4), dtype=float32)\n",
      "[0.4, 0.8, 0.2, 0.9]\n",
      "tf.Tensor([[0.00436426 0.24864691 0.6688379  0.0781509 ]], shape=(1, 4), dtype=float32)\n",
      "[0.1, 0.8, 0.2, 0.9]\n",
      "tf.Tensor([[0.00452387 0.23909383 0.67210376 0.08427846]], shape=(1, 4), dtype=float32)\n"
     ]
    },
    {
     "name": "stderr",
     "output_type": "stream",
     "text": [
      " 75%|██████████████████████████████████████████████████████                  | 22501/30000 [5:33:29<1:25:40,  1.46it/s]"
     ]
    },
    {
     "name": "stdout",
     "output_type": "stream",
     "text": [
      "-3.0935010199999438\n",
      "72\n"
     ]
    },
    {
     "name": "stderr",
     "output_type": "stream",
     "text": [
      " 75%|██████████████████████████████████████████████████████▏                 | 22601/30000 [5:34:33<1:36:08,  1.28it/s]"
     ]
    },
    {
     "name": "stdout",
     "output_type": "stream",
     "text": [
      "-3.4792696758643338\n",
      "80\n",
      "[0.8, 0.4, 0.5, 0.7]\n",
      "tf.Tensor([[8.5038955e-05 2.2285283e-02 9.4979894e-01 2.7830739e-02]], shape=(1, 4), dtype=float32)\n",
      "[0.5, 0.4, 0.5, 0.7]\n",
      "tf.Tensor([[1.2312907e-04 2.5489425e-02 9.4196075e-01 3.2426640e-02]], shape=(1, 4), dtype=float32)\n"
     ]
    },
    {
     "name": "stderr",
     "output_type": "stream",
     "text": [
      " 76%|██████████████████████████████████████████████████████▍                 | 22701/30000 [5:35:38<1:18:09,  1.56it/s]"
     ]
    },
    {
     "name": "stdout",
     "output_type": "stream",
     "text": [
      "-3.4747201014441083\n",
      "75\n"
     ]
    },
    {
     "name": "stderr",
     "output_type": "stream",
     "text": [
      " 76%|████████████████████████████████████████████████████████▏                 | 22800/30000 [5:36:43<51:27,  2.33it/s]"
     ]
    },
    {
     "name": "stdout",
     "output_type": "stream",
     "text": [
      "-1.7117095932446988\n",
      "78\n",
      "[0.0, 0.7, 0.1, 0.1]\n",
      "tf.Tensor([[7.5968317e-05 2.2558397e-02 9.5278913e-01 2.4576513e-02]], shape=(1, 4), dtype=float32)\n",
      "[0.0, 0.4, 0.1, 0.1]\n",
      "tf.Tensor([[1.08450535e-04 2.80811731e-02 9.43839133e-01 2.79712956e-02]], shape=(1, 4), dtype=float32)\n",
      "[0.0, 0.1, 0.1, 0.1]\n",
      "tf.Tensor([[2.2890925e-04 4.2791992e-02 9.1924584e-01 3.7733227e-02]], shape=(1, 4), dtype=float32)\n",
      "[0.3, 0.1, 0.1, 0.1]\n",
      "tf.Tensor([[0.00299211 0.21020453 0.7173245  0.06947891]], shape=(1, 4), dtype=float32)\n",
      "[0.0, 0.1, 0.1, 0.1]\n",
      "tf.Tensor([[0.00277243 0.19000275 0.7320466  0.07517821]], shape=(1, 4), dtype=float32)\n",
      "[0.3, 0.1, 0.1, 0.1]\n",
      "tf.Tensor([[0.0021806  0.1812005  0.74928576 0.06733312]], shape=(1, 4), dtype=float32)\n",
      "[0.0, 0.1, 0.1, 0.1]\n",
      "tf.Tensor([[0.00234374 0.17718418 0.74763644 0.0728356 ]], shape=(1, 4), dtype=float32)\n",
      "[0.3, 0.1, 0.1, 0.1]\n",
      "tf.Tensor([[0.0021806  0.1812005  0.74928576 0.06733312]], shape=(1, 4), dtype=float32)\n",
      "[0.0, 0.1, 0.1, 0.1]\n",
      "tf.Tensor([[0.00234374 0.17718418 0.74763644 0.0728356 ]], shape=(1, 4), dtype=float32)\n",
      "[0.3, 0.1, 0.1, 0.1]\n",
      "tf.Tensor([[0.0021806  0.1812005  0.74928576 0.06733312]], shape=(1, 4), dtype=float32)\n",
      "[0.0, 0.1, 0.1, 0.1]\n",
      "tf.Tensor([[0.00234374 0.17718418 0.74763644 0.0728356 ]], shape=(1, 4), dtype=float32)\n",
      "[0.3, 0.1, 0.1, 0.1]\n",
      "tf.Tensor([[0.0021806  0.1812005  0.74928576 0.06733312]], shape=(1, 4), dtype=float32)\n",
      "[0.0, 0.1, 0.1, 0.1]\n",
      "tf.Tensor([[0.00234374 0.17718418 0.74763644 0.0728356 ]], shape=(1, 4), dtype=float32)\n",
      "[0.3, 0.1, 0.1, 0.1]\n",
      "tf.Tensor([[0.0021806  0.1812005  0.74928576 0.06733312]], shape=(1, 4), dtype=float32)\n",
      "[0.0, 0.1, 0.1, 0.1]\n",
      "tf.Tensor([[0.00234374 0.17718418 0.74763644 0.0728356 ]], shape=(1, 4), dtype=float32)\n",
      "[0.3, 0.1, 0.1, 0.1]\n",
      "tf.Tensor([[0.0021806  0.1812005  0.74928576 0.06733312]], shape=(1, 4), dtype=float32)\n",
      "[0.0, 0.1, 0.1, 0.1]\n",
      "tf.Tensor([[0.00234374 0.17718418 0.74763644 0.0728356 ]], shape=(1, 4), dtype=float32)\n",
      "[0.3, 0.1, 0.1, 0.1]\n"
     ]
    },
    {
     "name": "stderr",
     "output_type": "stream",
     "text": [
      "\r",
      " 76%|████████████████████████████████████████████████████████▏                 | 22801/30000 [5:36:43<56:18,  2.13it/s]"
     ]
    },
    {
     "name": "stdout",
     "output_type": "stream",
     "text": [
      "tf.Tensor([[0.0021806  0.1812005  0.74928576 0.06733312]], shape=(1, 4), dtype=float32)\n",
      "[0.0, 0.1, 0.1, 0.1]\n",
      "tf.Tensor([[0.00234374 0.17718418 0.74763644 0.0728356 ]], shape=(1, 4), dtype=float32)\n",
      "[0.3, 0.1, 0.1, 0.1]\n",
      "tf.Tensor([[0.0021806  0.1812005  0.74928576 0.06733312]], shape=(1, 4), dtype=float32)\n"
     ]
    },
    {
     "name": "stderr",
     "output_type": "stream",
     "text": [
      " 76%|██████████████████████████████████████████████████████▉                 | 22901/30000 [5:37:48<1:26:23,  1.37it/s]"
     ]
    },
    {
     "name": "stdout",
     "output_type": "stream",
     "text": [
      "-6.09927025801147\n",
      "79\n"
     ]
    },
    {
     "name": "stderr",
     "output_type": "stream",
     "text": [
      " 77%|███████████████████████████████████████████████████████▏                | 23000/30000 [5:38:52<1:34:22,  1.24it/s]"
     ]
    },
    {
     "name": "stdout",
     "output_type": "stream",
     "text": [
      "-4.055846755140919\n",
      "76\n",
      "[0.9, 0.1, 0.7, 0.4]\n",
      "tf.Tensor([[4.9000915e-05 1.7440785e-02 9.6221548e-01 2.0294774e-02]], shape=(1, 4), dtype=float32)\n",
      "[0.9, 0.4, 0.7, 0.4]\n",
      "tf.Tensor([[5.9442515e-05 2.1522554e-02 9.5688796e-01 2.1530060e-02]], shape=(1, 4), dtype=float32)\n",
      "[0.6, 0.4, 0.7, 0.4]\n",
      "tf.Tensor([[1.4126042e-04 3.6053345e-02 9.3355161e-01 3.0253749e-02]], shape=(1, 4), dtype=float32)\n",
      "[0.9, 0.4, 0.7, 0.4]\n",
      "tf.Tensor([[0.00382251 0.291816   0.6495193  0.05484212]], shape=(1, 4), dtype=float32)\n",
      "[0.6, 0.4, 0.7, 0.4]\n",
      "tf.Tensor([[0.00414159 0.29714957 0.64046764 0.05824125]], shape=(1, 4), dtype=float32)\n",
      "[0.9, 0.4, 0.7, 0.4]\n",
      "tf.Tensor([[0.00381945 0.29261625 0.6486695  0.05489479]], shape=(1, 4), dtype=float32)\n",
      "[0.6, 0.4, 0.7, 0.4]\n",
      "tf.Tensor([[0.00414159 0.29714957 0.64046764 0.05824125]], shape=(1, 4), dtype=float32)\n",
      "[0.9, 0.4, 0.7, 0.4]\n",
      "tf.Tensor([[0.00381945 0.29261625 0.6486695  0.05489479]], shape=(1, 4), dtype=float32)\n",
      "[0.6, 0.4, 0.7, 0.4]\n",
      "tf.Tensor([[0.00414159 0.29714957 0.64046764 0.05824125]], shape=(1, 4), dtype=float32)\n",
      "[0.9, 0.4, 0.7, 0.4]\n",
      "tf.Tensor([[0.00381945 0.29261625 0.6486695  0.05489479]], shape=(1, 4), dtype=float32)\n",
      "[0.6, 0.4, 0.7, 0.4]\n",
      "tf.Tensor([[0.00414159 0.29714957 0.64046764 0.05824125]], shape=(1, 4), dtype=float32)\n",
      "[0.9, 0.4, 0.7, 0.4]\n",
      "tf.Tensor([[0.00381945 0.29261625 0.6486695  0.05489479]], shape=(1, 4), dtype=float32)\n",
      "[0.6, 0.4, 0.7, 0.4]\n",
      "tf.Tensor([[0.00414159 0.29714957 0.64046764 0.05824125]], shape=(1, 4), dtype=float32)\n",
      "[0.9, 0.4, 0.7, 0.4]\n",
      "tf.Tensor([[0.00381945 0.29261625 0.6486695  0.05489479]], shape=(1, 4), dtype=float32)\n",
      "[0.6, 0.4, 0.7, 0.4]\n",
      "tf.Tensor([[0.00414159 0.29714957 0.64046764 0.05824125]], shape=(1, 4), dtype=float32)\n",
      "[0.9, 0.4, 0.7, 0.4]\n",
      "tf.Tensor([[0.00381945 0.29261625 0.6486695  0.05489479]], shape=(1, 4), dtype=float32)\n",
      "[0.6, 0.4, 0.7, 0.4]\n"
     ]
    },
    {
     "name": "stderr",
     "output_type": "stream",
     "text": [
      "\r",
      " 77%|███████████████████████████████████████████████████████▏                | 23001/30000 [5:38:52<1:18:47,  1.48it/s]"
     ]
    },
    {
     "name": "stdout",
     "output_type": "stream",
     "text": [
      "tf.Tensor([[0.00414159 0.29714957 0.64046764 0.05824125]], shape=(1, 4), dtype=float32)\n",
      "[0.9, 0.4, 0.7, 0.4]\n",
      "tf.Tensor([[0.00381945 0.29261625 0.6486695  0.05489479]], shape=(1, 4), dtype=float32)\n",
      "[0.6, 0.4, 0.7, 0.4]\n",
      "tf.Tensor([[0.00414159 0.29714957 0.64046764 0.05824125]], shape=(1, 4), dtype=float32)\n",
      "[0.9, 0.4, 0.7, 0.4]\n",
      "tf.Tensor([[0.00381945 0.29261625 0.6486695  0.05489479]], shape=(1, 4), dtype=float32)\n"
     ]
    },
    {
     "name": "stderr",
     "output_type": "stream",
     "text": [
      " 77%|███████████████████████████████████████████████████████▍                | 23101/30000 [5:39:59<1:39:04,  1.16it/s]"
     ]
    },
    {
     "name": "stdout",
     "output_type": "stream",
     "text": [
      "-6.070487652797785\n",
      "74\n"
     ]
    },
    {
     "name": "stderr",
     "output_type": "stream",
     "text": [
      " 77%|███████████████████████████████████████████████████████▋                | 23200/30000 [5:41:12<1:36:05,  1.18it/s]"
     ]
    },
    {
     "name": "stdout",
     "output_type": "stream",
     "text": [
      "-6.808188281672804\n",
      "68\n",
      "[0.5, 0.9, 0.7, 0.4]\n",
      "tf.Tensor([[3.9843962e-05 1.7284183e-02 9.6382749e-01 1.8848458e-02]], shape=(1, 4), dtype=float32)\n",
      "[0.5, 0.6, 0.7, 0.4]\n",
      "tf.Tensor([[5.4792894e-05 2.0684559e-02 9.5765144e-01 2.1609150e-02]], shape=(1, 4), dtype=float32)\n",
      "[0.8, 0.6, 0.7, 0.4]\n",
      "tf.Tensor([[1.1133442e-04 3.3878852e-02 9.3802273e-01 2.7987039e-02]], shape=(1, 4), dtype=float32)\n",
      "[0.8, 0.3, 0.7, 0.4]\n",
      "tf.Tensor([[0.00277053 0.25862902 0.67830396 0.06029649]], shape=(1, 4), dtype=float32)\n",
      "[0.5, 0.3, 0.7, 0.4]\n",
      "tf.Tensor([[0.00336075 0.2695709  0.6626153  0.06445303]], shape=(1, 4), dtype=float32)\n",
      "[0.8, 0.3, 0.7, 0.4]\n",
      "tf.Tensor([[0.00270995 0.26208308 0.6763811  0.05882585]], shape=(1, 4), dtype=float32)\n",
      "[0.5, 0.3, 0.7, 0.4]\n",
      "tf.Tensor([[0.00328528 0.26647785 0.66642    0.06381696]], shape=(1, 4), dtype=float32)\n",
      "[0.8, 0.3, 0.7, 0.4]\n",
      "tf.Tensor([[0.00306733 0.27203202 0.665979   0.05892164]], shape=(1, 4), dtype=float32)\n",
      "[0.5, 0.3, 0.7, 0.4]\n",
      "tf.Tensor([[0.00328528 0.26647785 0.66642    0.06381696]], shape=(1, 4), dtype=float32)\n",
      "[0.8, 0.3, 0.7, 0.4]\n",
      "tf.Tensor([[0.00306733 0.27203202 0.665979   0.05892164]], shape=(1, 4), dtype=float32)\n",
      "[0.5, 0.3, 0.7, 0.4]\n",
      "tf.Tensor([[0.00328528 0.26647785 0.66642    0.06381696]], shape=(1, 4), dtype=float32)\n",
      "[0.8, 0.3, 0.7, 0.4]\n",
      "tf.Tensor([[0.00306733 0.27203202 0.665979   0.05892164]], shape=(1, 4), dtype=float32)\n",
      "[0.5, 0.3, 0.7, 0.4]\n",
      "tf.Tensor([[0.00328528 0.26647785 0.66642    0.06381696]], shape=(1, 4), dtype=float32)\n",
      "[0.8, 0.3, 0.7, 0.4]\n",
      "tf.Tensor([[0.00306733 0.27203202 0.665979   0.05892164]], shape=(1, 4), dtype=float32)\n",
      "[0.5, 0.3, 0.7, 0.4]\n",
      "tf.Tensor([[0.00328528 0.26647785 0.66642    0.06381696]], shape=(1, 4), dtype=float32)\n",
      "[0.8, 0.3, 0.7, 0.4]\n",
      "tf.Tensor([[0.00306733 0.27203202 0.665979   0.05892164]], shape=(1, 4), dtype=float32)\n",
      "[0.5, 0.3, 0.7, 0.4]\n"
     ]
    },
    {
     "name": "stderr",
     "output_type": "stream",
     "text": [
      "\r",
      " 77%|███████████████████████████████████████████████████████▋                | 23201/30000 [5:41:12<1:33:26,  1.21it/s]"
     ]
    },
    {
     "name": "stdout",
     "output_type": "stream",
     "text": [
      "tf.Tensor([[0.00328528 0.26647785 0.66642    0.06381696]], shape=(1, 4), dtype=float32)\n",
      "[0.8, 0.3, 0.7, 0.4]\n",
      "tf.Tensor([[0.00306733 0.27203202 0.665979   0.05892164]], shape=(1, 4), dtype=float32)\n",
      "[0.5, 0.3, 0.7, 0.4]\n",
      "tf.Tensor([[0.00328528 0.26647785 0.66642    0.06381696]], shape=(1, 4), dtype=float32)\n",
      "[0.8, 0.3, 0.7, 0.4]\n",
      "tf.Tensor([[0.00306733 0.27203202 0.665979   0.05892164]], shape=(1, 4), dtype=float32)\n"
     ]
    },
    {
     "name": "stderr",
     "output_type": "stream",
     "text": [
      " 78%|███████████████████████████████████████████████████████▉                | 23301/30000 [5:42:16<1:33:03,  1.20it/s]"
     ]
    },
    {
     "name": "stdout",
     "output_type": "stream",
     "text": [
      "-5.178010412690097\n",
      "75\n"
     ]
    },
    {
     "name": "stderr",
     "output_type": "stream",
     "text": [
      " 78%|████████████████████████████████████████████████████████▏               | 23400/30000 [5:43:18<1:27:37,  1.26it/s]"
     ]
    },
    {
     "name": "stdout",
     "output_type": "stream",
     "text": [
      "-4.488619612389679\n",
      "73\n",
      "[0.7, 0.6, 0.1, 0.1]\n",
      "tf.Tensor([[3.4104603e-05 1.5971793e-02 9.6634012e-01 1.7653964e-02]], shape=(1, 4), dtype=float32)\n",
      "[0.4, 0.6, 0.1, 0.1]\n",
      "tf.Tensor([[4.9007722e-05 1.9707762e-02 9.6032119e-01 1.9921985e-02]], shape=(1, 4), dtype=float32)\n",
      "[0.4, 0.3, 0.1, 0.1]\n",
      "tf.Tensor([[1.0408831e-04 3.3348862e-02 9.3989700e-01 2.6650038e-02]], shape=(1, 4), dtype=float32)\n",
      "[0.1, 0.3, 0.1, 0.1]\n",
      "tf.Tensor([[0.00356465 0.27974764 0.6551094  0.06157832]], shape=(1, 4), dtype=float32)\n",
      "[0.1, 0.0, 0.1, 0.1]\n",
      "tf.Tensor([[0.00292372 0.21151796 0.70980674 0.07575158]], shape=(1, 4), dtype=float32)\n",
      "[0.1, 0.3, 0.1, 0.1]\n",
      "tf.Tensor([[0.0023464  0.19200905 0.7328007  0.07284387]], shape=(1, 4), dtype=float32)\n",
      "[0.1, 0.0, 0.1, 0.1]\n",
      "tf.Tensor([[0.00200321 0.15154673 0.76417506 0.08227505]], shape=(1, 4), dtype=float32)\n",
      "[0.1, 0.3, 0.1, 0.1]\n",
      "tf.Tensor([[0.00157109 0.1417343  0.782795   0.07389965]], shape=(1, 4), dtype=float32)\n",
      "[0.1, 0.0, 0.1, 0.1]\n",
      "tf.Tensor([[0.00200321 0.15154673 0.76417506 0.08227505]], shape=(1, 4), dtype=float32)\n",
      "[0.1, 0.3, 0.1, 0.1]\n",
      "tf.Tensor([[0.00157109 0.1417343  0.782795   0.07389965]], shape=(1, 4), dtype=float32)\n",
      "[0.1, 0.0, 0.1, 0.1]\n",
      "tf.Tensor([[0.00200321 0.15154673 0.76417506 0.08227505]], shape=(1, 4), dtype=float32)\n",
      "[0.1, 0.3, 0.1, 0.1]\n",
      "tf.Tensor([[0.00157109 0.1417343  0.782795   0.07389965]], shape=(1, 4), dtype=float32)\n",
      "[0.1, 0.0, 0.1, 0.1]\n",
      "tf.Tensor([[0.00200321 0.15154673 0.76417506 0.08227505]], shape=(1, 4), dtype=float32)\n",
      "[0.1, 0.3, 0.1, 0.1]\n",
      "tf.Tensor([[0.00157109 0.1417343  0.782795   0.07389965]], shape=(1, 4), dtype=float32)\n",
      "[0.1, 0.0, 0.1, 0.1]\n",
      "tf.Tensor([[0.00200321 0.15154673 0.76417506 0.08227505]], shape=(1, 4), dtype=float32)\n",
      "[0.1, 0.3, 0.1, 0.1]\n",
      "tf.Tensor([[0.00157109 0.1417343  0.782795   0.07389965]], shape=(1, 4), dtype=float32)\n",
      "[0.1, 0.0, 0.1, 0.1]\n",
      "tf.Tensor([[0.00200321 0.15154673 0.76417506 0.08227505]], shape=(1, 4), dtype=float32)\n",
      "[0.1, 0.3, 0.1, 0.1]\n"
     ]
    },
    {
     "name": "stderr",
     "output_type": "stream",
     "text": [
      " 78%|████████████████████████████████████████████████████████▏               | 23402/30000 [5:43:19<1:06:36,  1.65it/s]"
     ]
    },
    {
     "name": "stdout",
     "output_type": "stream",
     "text": [
      "tf.Tensor([[0.00157109 0.1417343  0.782795   0.07389965]], shape=(1, 4), dtype=float32)\n",
      "[0.1, 0.0, 0.1, 0.1]\n",
      "tf.Tensor([[0.00200321 0.15154673 0.76417506 0.08227505]], shape=(1, 4), dtype=float32)\n",
      "[0.1, 0.3, 0.1, 0.1]\n",
      "tf.Tensor([[0.00157109 0.1417343  0.782795   0.07389965]], shape=(1, 4), dtype=float32)\n"
     ]
    },
    {
     "name": "stderr",
     "output_type": "stream",
     "text": [
      " 78%|█████████████████████████████████████████████████████████▉                | 23501/30000 [5:44:21<41:04,  2.64it/s]"
     ]
    },
    {
     "name": "stdout",
     "output_type": "stream",
     "text": [
      "-0.45303175137545576\n",
      "83\n"
     ]
    },
    {
     "name": "stderr",
     "output_type": "stream",
     "text": [
      " 79%|████████████████████████████████████████████████████████▋               | 23600/30000 [5:45:28<1:14:37,  1.43it/s]"
     ]
    },
    {
     "name": "stdout",
     "output_type": "stream",
     "text": [
      "-4.834806228160499\n",
      "73\n",
      "[0.8, 0.0, 0.5, 0.7]\n",
      "tf.Tensor([[3.8120317e-05 1.6011609e-02 9.6545136e-01 1.8498851e-02]], shape=(1, 4), dtype=float32)\n",
      "[0.8, 0.3, 0.5, 0.7]\n",
      "tf.Tensor([[5.2010630e-05 1.9124093e-02 9.5997787e-01 2.0846132e-02]], shape=(1, 4), dtype=float32)\n",
      "[0.8, 0.6, 0.5, 0.7]\n",
      "tf.Tensor([[1.11205656e-04 3.38477977e-02 9.38478708e-01 2.75623314e-02]], shape=(1, 4), dtype=float32)\n",
      "[0.5, 0.6, 0.5, 0.7]\n",
      "tf.Tensor([[0.00525141 0.31754878 0.61321443 0.06398538]], shape=(1, 4), dtype=float32)\n",
      "[0.5, 0.9, 0.5, 0.7]\n",
      "tf.Tensor([[0.00518393 0.3242232  0.6085676  0.0620252 ]], shape=(1, 4), dtype=float32)\n",
      "[0.5, 0.6, 0.5, 0.7]\n",
      "tf.Tensor([[0.00533621 0.31901327 0.6099991  0.06565142]], shape=(1, 4), dtype=float32)\n",
      "[0.5, 0.9, 0.5, 0.7]\n",
      "tf.Tensor([[0.00481112 0.30115592 0.62774724 0.06628574]], shape=(1, 4), dtype=float32)\n",
      "[0.5, 0.6, 0.5, 0.7]\n",
      "tf.Tensor([[0.00490136 0.292646   0.63272226 0.06973042]], shape=(1, 4), dtype=float32)\n",
      "[0.5, 0.9, 0.5, 0.7]\n",
      "tf.Tensor([[0.00481112 0.30115592 0.62774724 0.06628574]], shape=(1, 4), dtype=float32)\n",
      "[0.5, 0.6, 0.5, 0.7]\n",
      "tf.Tensor([[0.00490136 0.292646   0.63272226 0.06973042]], shape=(1, 4), dtype=float32)\n",
      "[0.5, 0.9, 0.5, 0.7]\n",
      "tf.Tensor([[0.00481112 0.30115592 0.62774724 0.06628574]], shape=(1, 4), dtype=float32)\n",
      "[0.5, 0.6, 0.5, 0.7]\n",
      "tf.Tensor([[0.00490136 0.292646   0.63272226 0.06973042]], shape=(1, 4), dtype=float32)\n",
      "[0.5, 0.9, 0.5, 0.7]\n",
      "tf.Tensor([[0.00481112 0.30115592 0.62774724 0.06628574]], shape=(1, 4), dtype=float32)\n",
      "[0.5, 0.6, 0.5, 0.7]\n",
      "tf.Tensor([[0.00490136 0.292646   0.63272226 0.06973042]], shape=(1, 4), dtype=float32)\n",
      "[0.5, 0.9, 0.5, 0.7]\n",
      "tf.Tensor([[0.00481112 0.30115592 0.62774724 0.06628574]], shape=(1, 4), dtype=float32)\n",
      "[0.5, 0.6, 0.5, 0.7]\n",
      "tf.Tensor([[0.00490136 0.292646   0.63272226 0.06973042]], shape=(1, 4), dtype=float32)\n",
      "[0.5, 0.9, 0.5, 0.7]\n",
      "tf.Tensor([[0.00481112 0.30115592 0.62774724 0.06628574]], shape=(1, 4), dtype=float32)\n",
      "[0.5, 0.6, 0.5, 0.7]\n",
      "tf.Tensor([[0.00490136 0.292646   0.63272226 0.06973042]], shape=(1, 4), dtype=float32)\n"
     ]
    },
    {
     "name": "stderr",
     "output_type": "stream",
     "text": [
      "\r",
      " 79%|████████████████████████████████████████████████████████▋               | 23601/30000 [5:45:28<1:06:59,  1.59it/s]"
     ]
    },
    {
     "name": "stdout",
     "output_type": "stream",
     "text": [
      "[0.5, 0.9, 0.5, 0.7]\n",
      "tf.Tensor([[0.00481112 0.30115592 0.62774724 0.06628574]], shape=(1, 4), dtype=float32)\n",
      "[0.5, 0.6, 0.5, 0.7]\n",
      "tf.Tensor([[0.00490136 0.292646   0.63272226 0.06973042]], shape=(1, 4), dtype=float32)\n"
     ]
    },
    {
     "name": "stderr",
     "output_type": "stream",
     "text": [
      " 79%|████████████████████████████████████████████████████████▉               | 23701/30000 [5:46:41<1:21:20,  1.29it/s]"
     ]
    },
    {
     "name": "stdout",
     "output_type": "stream",
     "text": [
      "-5.966167504895498\n",
      "65\n"
     ]
    },
    {
     "name": "stderr",
     "output_type": "stream",
     "text": [
      " 79%|█████████████████████████████████████████████████████████               | 23800/30000 [5:47:47<1:22:59,  1.25it/s]"
     ]
    },
    {
     "name": "stdout",
     "output_type": "stream",
     "text": [
      "-4.958538656961962\n",
      "69\n",
      "[0.1, 0.9, 0.1, 0.1]\n",
      "tf.Tensor([[3.2188062e-05 1.5809659e-02 9.6827334e-01 1.5884809e-02]], shape=(1, 4), dtype=float32)\n",
      "[0.1, 0.6, 0.1, 0.1]\n",
      "tf.Tensor([[4.4418914e-05 1.9139299e-02 9.6316630e-01 1.7650025e-02]], shape=(1, 4), dtype=float32)\n",
      "[0.1, 0.3, 0.1, 0.1]\n",
      "tf.Tensor([[1.1220761e-04 3.4045059e-02 9.4032621e-01 2.5516571e-02]], shape=(1, 4), dtype=float32)\n",
      "[0.1, 0.0, 0.1, 0.1]\n",
      "tf.Tensor([[0.00357418 0.23476443 0.6909933  0.07066812]], shape=(1, 4), dtype=float32)\n",
      "[0.1, 0.3, 0.1, 0.1]\n",
      "tf.Tensor([[0.00301798 0.22535904 0.70491457 0.06670842]], shape=(1, 4), dtype=float32)\n",
      "[0.1, 0.0, 0.1, 0.1]\n",
      "tf.Tensor([[0.00216126 0.16681972 0.7563368  0.07468224]], shape=(1, 4), dtype=float32)\n",
      "[0.1, 0.3, 0.1, 0.1]\n",
      "tf.Tensor([[0.00159919 0.15057616 0.77930826 0.06851637]], shape=(1, 4), dtype=float32)\n",
      "[0.1, 0.0, 0.1, 0.1]\n",
      "tf.Tensor([[0.00216126 0.16681972 0.7563368  0.07468224]], shape=(1, 4), dtype=float32)\n",
      "[0.1, 0.3, 0.1, 0.1]\n",
      "tf.Tensor([[0.00159919 0.15057616 0.77930826 0.06851637]], shape=(1, 4), dtype=float32)\n",
      "[0.1, 0.0, 0.1, 0.1]\n",
      "tf.Tensor([[0.00216126 0.16681972 0.7563368  0.07468224]], shape=(1, 4), dtype=float32)\n",
      "[0.1, 0.3, 0.1, 0.1]\n",
      "tf.Tensor([[0.00159919 0.15057616 0.77930826 0.06851637]], shape=(1, 4), dtype=float32)\n",
      "[0.1, 0.0, 0.1, 0.1]\n",
      "tf.Tensor([[0.00216126 0.16681972 0.7563368  0.07468224]], shape=(1, 4), dtype=float32)\n",
      "[0.1, 0.3, 0.1, 0.1]\n",
      "tf.Tensor([[0.00159919 0.15057616 0.77930826 0.06851637]], shape=(1, 4), dtype=float32)\n",
      "[0.1, 0.0, 0.1, 0.1]\n",
      "tf.Tensor([[0.00216126 0.16681972 0.7563368  0.07468224]], shape=(1, 4), dtype=float32)\n",
      "[0.1, 0.3, 0.1, 0.1]\n",
      "tf.Tensor([[0.00159919 0.15057616 0.77930826 0.06851637]], shape=(1, 4), dtype=float32)\n",
      "[0.1, 0.0, 0.1, 0.1]\n",
      "tf.Tensor([[0.00216126 0.16681972 0.7563368  0.07468224]], shape=(1, 4), dtype=float32)\n",
      "[0.1, 0.3, 0.1, 0.1]\n",
      "tf.Tensor([[0.00159919 0.15057616 0.77930826 0.06851637]], shape=(1, 4), dtype=float32)\n"
     ]
    },
    {
     "name": "stderr",
     "output_type": "stream",
     "text": [
      "\r",
      " 79%|█████████████████████████████████████████████████████████               | 23801/30000 [5:47:48<1:24:10,  1.23it/s]"
     ]
    },
    {
     "name": "stdout",
     "output_type": "stream",
     "text": [
      "[0.1, 0.0, 0.1, 0.1]\n",
      "tf.Tensor([[0.00216126 0.16681972 0.7563368  0.07468224]], shape=(1, 4), dtype=float32)\n",
      "[0.1, 0.3, 0.1, 0.1]\n",
      "tf.Tensor([[0.00159919 0.15057616 0.77930826 0.06851637]], shape=(1, 4), dtype=float32)\n",
      "[0.1, 0.0, 0.1, 0.1]\n",
      "tf.Tensor([[0.00216126 0.16681972 0.7563368  0.07468224]], shape=(1, 4), dtype=float32)\n"
     ]
    },
    {
     "name": "stderr",
     "output_type": "stream",
     "text": [
      " 80%|█████████████████████████████████████████████████████████▎              | 23901/30000 [5:48:54<1:03:09,  1.61it/s]"
     ]
    },
    {
     "name": "stdout",
     "output_type": "stream",
     "text": [
      "-3.425449624507272\n",
      "76\n"
     ]
    },
    {
     "name": "stderr",
     "output_type": "stream",
     "text": [
      " 80%|█████████████████████████████████████████████████████████▌              | 24000/30000 [5:50:01<1:01:47,  1.62it/s]"
     ]
    },
    {
     "name": "stdout",
     "output_type": "stream",
     "text": [
      "-2.5553405117296526\n",
      "75\n",
      "[0.5, 0.3, 0.5, 0.7]\n",
      "tf.Tensor([[1.9949592e-05 1.1157295e-02 9.7604442e-01 1.2778344e-02]], shape=(1, 4), dtype=float32)\n",
      "[0.5, 0.6, 0.5, 0.7]\n",
      "tf.Tensor([[2.6368672e-05 1.2863995e-02 9.7297388e-01 1.4135693e-02]], shape=(1, 4), dtype=float32)\n",
      "[0.5, 0.9, 0.5, 0.7]\n",
      "tf.Tensor([[5.5833956e-05 2.1563880e-02 9.5987874e-01 1.8501554e-02]], shape=(1, 4), dtype=float32)\n",
      "[0.5, 0.6, 0.5, 0.7]\n",
      "tf.Tensor([[0.00350288 0.24971399 0.6928822  0.05390097]], shape=(1, 4), dtype=float32)\n",
      "[0.5, 0.9, 0.5, 0.7]\n",
      "tf.Tensor([[0.00336293 0.26705977 0.6796974  0.04987988]], shape=(1, 4), dtype=float32)\n",
      "[0.5, 0.6, 0.5, 0.7]\n",
      "tf.Tensor([[0.0033616  0.2549063  0.6889858  0.05274634]], shape=(1, 4), dtype=float32)\n",
      "[0.5, 0.9, 0.5, 0.7]\n",
      "tf.Tensor([[0.00336293 0.26705977 0.6796974  0.04987988]], shape=(1, 4), dtype=float32)\n",
      "[0.5, 0.6, 0.5, 0.7]\n",
      "tf.Tensor([[0.0033616  0.2549063  0.6889858  0.05274634]], shape=(1, 4), dtype=float32)\n",
      "[0.5, 0.9, 0.5, 0.7]\n",
      "tf.Tensor([[0.00336293 0.26705977 0.6796974  0.04987988]], shape=(1, 4), dtype=float32)\n",
      "[0.5, 0.6, 0.5, 0.7]\n",
      "tf.Tensor([[0.0033616  0.2549063  0.6889858  0.05274634]], shape=(1, 4), dtype=float32)\n",
      "[0.5, 0.9, 0.5, 0.7]\n",
      "tf.Tensor([[0.00336293 0.26705977 0.6796974  0.04987988]], shape=(1, 4), dtype=float32)\n",
      "[0.5, 0.6, 0.5, 0.7]\n",
      "tf.Tensor([[0.0033616  0.2549063  0.6889858  0.05274634]], shape=(1, 4), dtype=float32)\n",
      "[0.5, 0.9, 0.5, 0.7]\n",
      "tf.Tensor([[0.00336293 0.26705977 0.6796974  0.04987988]], shape=(1, 4), dtype=float32)\n",
      "[0.5, 0.6, 0.5, 0.7]\n",
      "tf.Tensor([[0.0033616  0.2549063  0.6889858  0.05274634]], shape=(1, 4), dtype=float32)\n",
      "[0.5, 0.9, 0.5, 0.7]\n",
      "tf.Tensor([[0.00336293 0.26705977 0.6796974  0.04987988]], shape=(1, 4), dtype=float32)\n",
      "[0.5, 0.6, 0.5, 0.7]\n",
      "tf.Tensor([[0.0033616  0.2549063  0.6889858  0.05274634]], shape=(1, 4), dtype=float32)\n",
      "[0.5, 0.9, 0.5, 0.7]\n"
     ]
    },
    {
     "name": "stderr",
     "output_type": "stream",
     "text": [
      "\r",
      " 80%|█████████████████████████████████████████████████████████▌              | 24001/30000 [5:50:02<1:06:58,  1.49it/s]"
     ]
    },
    {
     "name": "stdout",
     "output_type": "stream",
     "text": [
      "tf.Tensor([[0.00336293 0.26705977 0.6796974  0.04987988]], shape=(1, 4), dtype=float32)\n",
      "[0.5, 0.6, 0.5, 0.7]\n",
      "tf.Tensor([[0.0033616  0.2549063  0.6889858  0.05274634]], shape=(1, 4), dtype=float32)\n",
      "[0.5, 0.9, 0.5, 0.7]\n",
      "tf.Tensor([[0.00336293 0.26705977 0.6796974  0.04987988]], shape=(1, 4), dtype=float32)\n",
      "[0.5, 0.6, 0.5, 0.7]\n",
      "tf.Tensor([[0.0033616  0.2549063  0.6889858  0.05274634]], shape=(1, 4), dtype=float32)\n"
     ]
    },
    {
     "name": "stderr",
     "output_type": "stream",
     "text": [
      " 80%|███████████████████████████████████████████████████████████▍              | 24101/30000 [5:51:07<50:04,  1.96it/s]"
     ]
    },
    {
     "name": "stdout",
     "output_type": "stream",
     "text": [
      "-4.163969148230458\n",
      "68\n"
     ]
    },
    {
     "name": "stderr",
     "output_type": "stream",
     "text": [
      " 81%|██████████████████████████████████████████████████████████              | 24200/30000 [5:52:11<1:13:32,  1.31it/s]"
     ]
    },
    {
     "name": "stdout",
     "output_type": "stream",
     "text": [
      "-4.460813909864352\n",
      "79\n",
      "[0.1, 0.2, 0.7, 0.4]\n",
      "tf.Tensor([[2.3762777e-05 1.3709307e-02 9.7276527e-01 1.3501650e-02]], shape=(1, 4), dtype=float32)\n",
      "[0.4, 0.2, 0.7, 0.4]\n",
      "tf.Tensor([[2.9568660e-05 1.5574875e-02 9.6987981e-01 1.4515643e-02]], shape=(1, 4), dtype=float32)\n",
      "[0.7, 0.2, 0.7, 0.4]\n",
      "tf.Tensor([[6.5562475e-05 2.4253035e-02 9.5558196e-01 2.0099321e-02]], shape=(1, 4), dtype=float32)\n",
      "[0.7, 0.5, 0.7, 0.4]\n",
      "tf.Tensor([[0.00296161 0.26388195 0.6835386  0.04961785]], shape=(1, 4), dtype=float32)\n",
      "[0.7, 0.2, 0.7, 0.4]\n",
      "tf.Tensor([[0.00414512 0.3061535  0.63944536 0.05025601]], shape=(1, 4), dtype=float32)\n",
      "[0.7, 0.5, 0.7, 0.4]\n",
      "tf.Tensor([[0.00433179 0.33067015 0.6185306  0.04646745]], shape=(1, 4), dtype=float32)\n",
      "[0.7, 0.2, 0.7, 0.4]\n",
      "tf.Tensor([[0.00448991 0.33047882 0.6163717  0.04865959]], shape=(1, 4), dtype=float32)\n",
      "[0.7, 0.5, 0.7, 0.4]\n",
      "tf.Tensor([[0.00433179 0.33067015 0.6185306  0.04646745]], shape=(1, 4), dtype=float32)\n",
      "[0.7, 0.2, 0.7, 0.4]\n",
      "tf.Tensor([[0.00448991 0.33047882 0.6163717  0.04865959]], shape=(1, 4), dtype=float32)\n",
      "[0.7, 0.5, 0.7, 0.4]\n",
      "tf.Tensor([[0.00433179 0.33067015 0.6185306  0.04646745]], shape=(1, 4), dtype=float32)\n",
      "[0.7, 0.2, 0.7, 0.4]\n",
      "tf.Tensor([[0.00448991 0.33047882 0.6163717  0.04865959]], shape=(1, 4), dtype=float32)\n",
      "[0.7, 0.5, 0.7, 0.4]\n",
      "tf.Tensor([[0.00433179 0.33067015 0.6185306  0.04646745]], shape=(1, 4), dtype=float32)\n",
      "[0.7, 0.2, 0.7, 0.4]\n",
      "tf.Tensor([[0.00448991 0.33047882 0.6163717  0.04865959]], shape=(1, 4), dtype=float32)\n",
      "[0.7, 0.5, 0.7, 0.4]\n",
      "tf.Tensor([[0.00433179 0.33067015 0.6185306  0.04646745]], shape=(1, 4), dtype=float32)\n",
      "[0.7, 0.2, 0.7, 0.4]\n",
      "tf.Tensor([[0.00448991 0.33047882 0.6163717  0.04865959]], shape=(1, 4), dtype=float32)\n",
      "[0.7, 0.5, 0.7, 0.4]\n",
      "tf.Tensor([[0.00433179 0.33067015 0.6185306  0.04646745]], shape=(1, 4), dtype=float32)\n",
      "[0.7, 0.2, 0.7, 0.4]\n",
      "tf.Tensor([[0.00448991 0.33047882 0.6163717  0.04865959]], shape=(1, 4), dtype=float32)\n"
     ]
    },
    {
     "name": "stderr",
     "output_type": "stream",
     "text": [
      "\r",
      " 81%|██████████████████████████████████████████████████████████              | 24201/30000 [5:52:12<1:20:11,  1.21it/s]"
     ]
    },
    {
     "name": "stdout",
     "output_type": "stream",
     "text": [
      "[0.7, 0.5, 0.7, 0.4]\n",
      "tf.Tensor([[0.00433179 0.33067015 0.6185306  0.04646745]], shape=(1, 4), dtype=float32)\n",
      "[0.7, 0.2, 0.7, 0.4]\n",
      "tf.Tensor([[0.00448991 0.33047882 0.6163717  0.04865959]], shape=(1, 4), dtype=float32)\n",
      "[0.7, 0.5, 0.7, 0.4]\n",
      "tf.Tensor([[0.00433179 0.33067015 0.6185306  0.04646745]], shape=(1, 4), dtype=float32)\n"
     ]
    },
    {
     "name": "stderr",
     "output_type": "stream",
     "text": [
      " 81%|███████████████████████████████████████████████████████████▉              | 24301/30000 [5:53:19<59:41,  1.59it/s]"
     ]
    },
    {
     "name": "stdout",
     "output_type": "stream",
     "text": [
      "-5.281345869447391\n",
      "76\n"
     ]
    },
    {
     "name": "stderr",
     "output_type": "stream",
     "text": [
      " 81%|██████████████████████████████████████████████████████████▌             | 24400/30000 [5:54:34<1:04:51,  1.44it/s]"
     ]
    },
    {
     "name": "stdout",
     "output_type": "stream",
     "text": [
      "-4.369150161657045\n",
      "67\n",
      "[0.3, 0.7, 0.7, 0.1]\n",
      "tf.Tensor([[1.8279054e-05 1.1833030e-02 9.7664499e-01 1.1503772e-02]], shape=(1, 4), dtype=float32)\n",
      "[0.3, 0.4, 0.7, 0.1]\n",
      "tf.Tensor([[2.3422081e-05 1.3265339e-02 9.7404295e-01 1.2668248e-02]], shape=(1, 4), dtype=float32)\n",
      "[0.6, 0.4, 0.7, 0.1]\n",
      "tf.Tensor([[5.3436648e-05 2.3259398e-02 9.5931399e-01 1.7373268e-02]], shape=(1, 4), dtype=float32)\n",
      "[0.6, 0.1, 0.7, 0.1]\n",
      "tf.Tensor([[0.00258923 0.23995228 0.7108788  0.04657968]], shape=(1, 4), dtype=float32)\n",
      "[0.9, 0.1, 0.7, 0.1]\n",
      "tf.Tensor([[0.00235556 0.2569858  0.7009185  0.03974019]], shape=(1, 4), dtype=float32)\n",
      "[0.6, 0.1, 0.7, 0.1]\n",
      "tf.Tensor([[0.00260226 0.26142207 0.6934511  0.04252452]], shape=(1, 4), dtype=float32)\n",
      "[0.9, 0.1, 0.7, 0.1]\n",
      "tf.Tensor([[0.00241522 0.27416146 0.6862638  0.03715957]], shape=(1, 4), dtype=float32)\n",
      "[0.6, 0.1, 0.7, 0.1]\n",
      "tf.Tensor([[0.0027762  0.27928913 0.67768615 0.04024849]], shape=(1, 4), dtype=float32)\n",
      "[0.9, 0.1, 0.7, 0.1]\n",
      "tf.Tensor([[0.00241522 0.27416146 0.6862638  0.03715957]], shape=(1, 4), dtype=float32)\n",
      "[0.6, 0.1, 0.7, 0.1]\n",
      "tf.Tensor([[0.0027762  0.27928913 0.67768615 0.04024849]], shape=(1, 4), dtype=float32)\n",
      "[0.9, 0.1, 0.7, 0.1]\n",
      "tf.Tensor([[0.00241522 0.27416146 0.6862638  0.03715957]], shape=(1, 4), dtype=float32)\n",
      "[0.6, 0.1, 0.7, 0.1]\n",
      "tf.Tensor([[0.0027762  0.27928913 0.67768615 0.04024849]], shape=(1, 4), dtype=float32)\n",
      "[0.9, 0.1, 0.7, 0.1]\n",
      "tf.Tensor([[0.00241522 0.27416146 0.6862638  0.03715957]], shape=(1, 4), dtype=float32)\n",
      "[0.6, 0.1, 0.7, 0.1]\n",
      "tf.Tensor([[0.0027762  0.27928913 0.67768615 0.04024849]], shape=(1, 4), dtype=float32)\n",
      "[0.9, 0.1, 0.7, 0.1]\n",
      "tf.Tensor([[0.00241522 0.27416146 0.6862638  0.03715957]], shape=(1, 4), dtype=float32)\n",
      "[0.6, 0.1, 0.7, 0.1]\n",
      "tf.Tensor([[0.0027762  0.27928913 0.67768615 0.04024849]], shape=(1, 4), dtype=float32)\n",
      "[0.9, 0.1, 0.7, 0.1]\n",
      "tf.Tensor([[0.00241522 0.27416146 0.6862638  0.03715957]], shape=(1, 4), dtype=float32)\n",
      "[0.6, 0.1, 0.7, 0.1]\n",
      "tf.Tensor([[0.0027762  0.27928913 0.67768615 0.04024849]], shape=(1, 4), dtype=float32)\n"
     ]
    },
    {
     "name": "stderr",
     "output_type": "stream",
     "text": [
      "\r",
      " 81%|██████████████████████████████████████████████████████████▌             | 24401/30000 [5:54:34<1:02:39,  1.49it/s]"
     ]
    },
    {
     "name": "stdout",
     "output_type": "stream",
     "text": [
      "[0.9, 0.1, 0.7, 0.1]\n",
      "tf.Tensor([[0.00241522 0.27416146 0.6862638  0.03715957]], shape=(1, 4), dtype=float32)\n",
      "[0.6, 0.1, 0.7, 0.1]\n",
      "tf.Tensor([[0.0027762  0.27928913 0.67768615 0.04024849]], shape=(1, 4), dtype=float32)\n"
     ]
    },
    {
     "name": "stderr",
     "output_type": "stream",
     "text": [
      " 82%|██████████████████████████████████████████████████████████▊             | 24501/30000 [5:55:42<1:01:11,  1.50it/s]"
     ]
    },
    {
     "name": "stdout",
     "output_type": "stream",
     "text": [
      "-6.177563792131052\n",
      "69\n"
     ]
    },
    {
     "name": "stderr",
     "output_type": "stream",
     "text": [
      " 82%|████████████████████████████████████████████████████████████▋             | 24600/30000 [5:56:50<54:00,  1.67it/s]"
     ]
    },
    {
     "name": "stdout",
     "output_type": "stream",
     "text": [
      "-5.562076616415309\n",
      "73\n",
      "[0.3, 0.0, 0.5, 0.7]\n",
      "tf.Tensor([[2.2502636e-05 1.1566416e-02 9.7479284e-01 1.3618201e-02]], shape=(1, 4), dtype=float32)\n",
      "[0.3, 0.3, 0.5, 0.7]\n",
      "tf.Tensor([[3.0643787e-05 1.3479790e-02 9.7121900e-01 1.5270570e-02]], shape=(1, 4), dtype=float32)\n",
      "[0.3, 0.6, 0.5, 0.7]\n",
      "tf.Tensor([[6.6440516e-05 2.2266973e-02 9.5679736e-01 2.0869188e-02]], shape=(1, 4), dtype=float32)\n",
      "[0.6, 0.6, 0.5, 0.7]\n",
      "tf.Tensor([[0.00216047 0.19921662 0.7451959  0.05342694]], shape=(1, 4), dtype=float32)\n",
      "[0.3, 0.6, 0.5, 0.7]\n",
      "tf.Tensor([[0.00321407 0.24720407 0.6961033  0.05347864]], shape=(1, 4), dtype=float32)\n",
      "[0.6, 0.6, 0.5, 0.7]\n",
      "tf.Tensor([[0.00350654 0.29299572 0.6588036  0.04469414]], shape=(1, 4), dtype=float32)\n",
      "[0.3, 0.6, 0.5, 0.7]\n",
      "tf.Tensor([[0.0038468  0.29414028 0.6539124  0.04810056]], shape=(1, 4), dtype=float32)\n",
      "[0.6, 0.6, 0.5, 0.7]\n",
      "tf.Tensor([[0.00350654 0.29299572 0.6588036  0.04469414]], shape=(1, 4), dtype=float32)\n",
      "[0.3, 0.6, 0.5, 0.7]\n",
      "tf.Tensor([[0.0038468  0.29414028 0.6539124  0.04810056]], shape=(1, 4), dtype=float32)\n",
      "[0.6, 0.6, 0.5, 0.7]\n",
      "tf.Tensor([[0.00350654 0.29299572 0.6588036  0.04469414]], shape=(1, 4), dtype=float32)\n",
      "[0.3, 0.6, 0.5, 0.7]\n",
      "tf.Tensor([[0.0038468  0.29414028 0.6539124  0.04810056]], shape=(1, 4), dtype=float32)\n",
      "[0.6, 0.6, 0.5, 0.7]\n",
      "tf.Tensor([[0.00350654 0.29299572 0.6588036  0.04469414]], shape=(1, 4), dtype=float32)\n",
      "[0.3, 0.6, 0.5, 0.7]\n",
      "tf.Tensor([[0.0038468  0.29414028 0.6539124  0.04810056]], shape=(1, 4), dtype=float32)\n",
      "[0.6, 0.6, 0.5, 0.7]\n",
      "tf.Tensor([[0.00350654 0.29299572 0.6588036  0.04469414]], shape=(1, 4), dtype=float32)\n",
      "[0.3, 0.6, 0.5, 0.7]\n",
      "tf.Tensor([[0.0038468  0.29414028 0.6539124  0.04810056]], shape=(1, 4), dtype=float32)\n",
      "[0.6, 0.6, 0.5, 0.7]\n",
      "tf.Tensor([[0.00350654 0.29299572 0.6588036  0.04469414]], shape=(1, 4), dtype=float32)\n",
      "[0.3, 0.6, 0.5, 0.7]\n",
      "tf.Tensor([[0.0038468  0.29414028 0.6539124  0.04810056]], shape=(1, 4), dtype=float32)\n",
      "[0.6, 0.6, 0.5, 0.7]\n",
      "tf.Tensor([[0.00350654 0.29299572 0.6588036  0.04469414]], shape=(1, 4), dtype=float32)\n"
     ]
    },
    {
     "name": "stderr",
     "output_type": "stream",
     "text": [
      "\r",
      " 82%|███████████████████████████████████████████████████████████             | 24601/30000 [5:56:51<1:12:18,  1.24it/s]"
     ]
    },
    {
     "name": "stdout",
     "output_type": "stream",
     "text": [
      "[0.3, 0.6, 0.5, 0.7]\n",
      "tf.Tensor([[0.0038468  0.29414028 0.6539124  0.04810056]], shape=(1, 4), dtype=float32)\n",
      "[0.6, 0.6, 0.5, 0.7]\n",
      "tf.Tensor([[0.00350654 0.29299572 0.6588036  0.04469414]], shape=(1, 4), dtype=float32)\n"
     ]
    },
    {
     "name": "stderr",
     "output_type": "stream",
     "text": [
      " 82%|████████████████████████████████████████████████████████████▉             | 24701/30000 [5:57:55<40:29,  2.18it/s]"
     ]
    },
    {
     "name": "stdout",
     "output_type": "stream",
     "text": [
      "-1.59025923006108\n",
      "76\n"
     ]
    },
    {
     "name": "stderr",
     "output_type": "stream",
     "text": [
      " 83%|█████████████████████████████████████████████████████████████▏            | 24800/30000 [5:58:52<40:52,  2.12it/s]"
     ]
    },
    {
     "name": "stdout",
     "output_type": "stream",
     "text": [
      "-1.4529349417709967\n",
      "82\n",
      "[0.3, 0.3, 0.1, 0.1]\n",
      "tf.Tensor([[2.37429704e-05 1.36873415e-02 9.73074794e-01 1.32142110e-02]], shape=(1, 4), dtype=float32)\n",
      "[0.0, 0.3, 0.1, 0.1]\n",
      "tf.Tensor([[3.4916298e-05 1.6838592e-02 9.6800393e-01 1.5122472e-02]], shape=(1, 4), dtype=float32)\n",
      "[0.0, 0.0, 0.1, 0.1]\n",
      "tf.Tensor([[7.5046672e-05 2.6306238e-02 9.5262825e-01 2.0990454e-02]], shape=(1, 4), dtype=float32)\n",
      "[0.3, 0.0, 0.1, 0.1]\n",
      "tf.Tensor([[0.00206321 0.20924069 0.7387684  0.04992772]], shape=(1, 4), dtype=float32)\n",
      "[0.0, 0.0, 0.1, 0.1]\n",
      "tf.Tensor([[0.00181663 0.17586967 0.76531225 0.05700153]], shape=(1, 4), dtype=float32)\n",
      "[0.3, 0.0, 0.1, 0.1]\n",
      "tf.Tensor([[0.0013661  0.16509308 0.78379995 0.04974083]], shape=(1, 4), dtype=float32)\n",
      "[0.0, 0.0, 0.1, 0.1]\n",
      "tf.Tensor([[0.00149179 0.16160348 0.7824998  0.05440503]], shape=(1, 4), dtype=float32)\n",
      "[0.3, 0.0, 0.1, 0.1]\n",
      "tf.Tensor([[0.0013661  0.16509308 0.78379995 0.04974083]], shape=(1, 4), dtype=float32)\n",
      "[0.0, 0.0, 0.1, 0.1]\n",
      "tf.Tensor([[0.00149179 0.16160348 0.7824998  0.05440503]], shape=(1, 4), dtype=float32)\n",
      "[0.3, 0.0, 0.1, 0.1]\n",
      "tf.Tensor([[0.0013661  0.16509308 0.78379995 0.04974083]], shape=(1, 4), dtype=float32)\n",
      "[0.0, 0.0, 0.1, 0.1]\n",
      "tf.Tensor([[0.00149179 0.16160348 0.7824998  0.05440503]], shape=(1, 4), dtype=float32)\n",
      "[0.3, 0.0, 0.1, 0.1]\n",
      "tf.Tensor([[0.0013661  0.16509308 0.78379995 0.04974083]], shape=(1, 4), dtype=float32)\n",
      "[0.0, 0.0, 0.1, 0.1]\n",
      "tf.Tensor([[0.00149179 0.16160348 0.7824998  0.05440503]], shape=(1, 4), dtype=float32)\n",
      "[0.3, 0.0, 0.1, 0.1]\n",
      "tf.Tensor([[0.0013661  0.16509308 0.78379995 0.04974083]], shape=(1, 4), dtype=float32)\n",
      "[0.0, 0.0, 0.1, 0.1]\n",
      "tf.Tensor([[0.00149179 0.16160348 0.7824998  0.05440503]], shape=(1, 4), dtype=float32)\n",
      "[0.3, 0.0, 0.1, 0.1]\n",
      "tf.Tensor([[0.0013661  0.16509308 0.78379995 0.04974083]], shape=(1, 4), dtype=float32)\n",
      "[0.0, 0.0, 0.1, 0.1]\n",
      "tf.Tensor([[0.00149179 0.16160348 0.7824998  0.05440503]], shape=(1, 4), dtype=float32)\n",
      "[0.3, 0.0, 0.1, 0.1]\n",
      "tf.Tensor([[0.0013661  0.16509308 0.78379995 0.04974083]], shape=(1, 4), dtype=float32)\n",
      "[0.0, 0.0, 0.1, 0.1]\n"
     ]
    },
    {
     "name": "stderr",
     "output_type": "stream",
     "text": [
      "\r",
      " 83%|█████████████████████████████████████████████████████████████▏            | 24801/30000 [5:58:53<45:38,  1.90it/s]"
     ]
    },
    {
     "name": "stdout",
     "output_type": "stream",
     "text": [
      "tf.Tensor([[0.00149179 0.16160348 0.7824998  0.05440503]], shape=(1, 4), dtype=float32)\n",
      "[0.3, 0.0, 0.1, 0.1]\n",
      "tf.Tensor([[0.0013661  0.16509308 0.78379995 0.04974083]], shape=(1, 4), dtype=float32)\n"
     ]
    },
    {
     "name": "stderr",
     "output_type": "stream",
     "text": [
      " 83%|█████████████████████████████████████████████████████████████▍            | 24902/30000 [5:59:56<52:58,  1.60it/s]"
     ]
    },
    {
     "name": "stdout",
     "output_type": "stream",
     "text": [
      "-5.894426374441865\n",
      "76\n"
     ]
    },
    {
     "name": "stderr",
     "output_type": "stream",
     "text": [
      " 83%|█████████████████████████████████████████████████████████████▋            | 25000/30000 [6:01:01<49:28,  1.68it/s]"
     ]
    },
    {
     "name": "stdout",
     "output_type": "stream",
     "text": [
      "-3.4745547624470867\n",
      "73\n",
      "[0.3, 0.0, 0.6, 0.2]\n",
      "tf.Tensor([[2.2210141e-05 1.2405137e-02 9.7515351e-01 1.2419215e-02]], shape=(1, 4), dtype=float32)\n",
      "[0.6, 0.0, 0.6, 0.2]\n",
      "tf.Tensor([[3.0158979e-05 1.4124216e-02 9.7190666e-01 1.3938878e-02]], shape=(1, 4), dtype=float32)\n",
      "[0.6, 0.3, 0.6, 0.2]\n",
      "tf.Tensor([[7.2028241e-05 2.6164046e-02 9.5440942e-01 1.9354502e-02]], shape=(1, 4), dtype=float32)\n",
      "[0.6, 0.0, 0.6, 0.2]\n",
      "tf.Tensor([[0.00470035 0.30051598 0.6444171  0.0503666 ]], shape=(1, 4), dtype=float32)\n",
      "[0.6, 0.3, 0.6, 0.2]\n",
      "tf.Tensor([[0.00578039 0.35299724 0.5960733  0.04514905]], shape=(1, 4), dtype=float32)\n",
      "[0.6, 0.0, 0.6, 0.2]\n",
      "tf.Tensor([[0.00626299 0.3593272  0.5870544  0.04735535]], shape=(1, 4), dtype=float32)\n",
      "[0.6, 0.3, 0.6, 0.2]\n",
      "tf.Tensor([[0.00578039 0.35299724 0.5960733  0.04514905]], shape=(1, 4), dtype=float32)\n",
      "[0.6, 0.0, 0.6, 0.2]\n",
      "tf.Tensor([[0.00626299 0.3593272  0.5870544  0.04735535]], shape=(1, 4), dtype=float32)\n",
      "[0.6, 0.3, 0.6, 0.2]\n",
      "tf.Tensor([[0.00578039 0.35299724 0.5960733  0.04514905]], shape=(1, 4), dtype=float32)\n",
      "[0.6, 0.0, 0.6, 0.2]\n",
      "tf.Tensor([[0.00626299 0.3593272  0.5870544  0.04735535]], shape=(1, 4), dtype=float32)\n",
      "[0.6, 0.3, 0.6, 0.2]\n",
      "tf.Tensor([[0.00578039 0.35299724 0.5960733  0.04514905]], shape=(1, 4), dtype=float32)\n",
      "[0.6, 0.0, 0.6, 0.2]\n",
      "tf.Tensor([[0.00626299 0.3593272  0.5870544  0.04735535]], shape=(1, 4), dtype=float32)\n",
      "[0.6, 0.3, 0.6, 0.2]\n",
      "tf.Tensor([[0.00578039 0.35299724 0.5960733  0.04514905]], shape=(1, 4), dtype=float32)\n",
      "[0.6, 0.0, 0.6, 0.2]\n",
      "tf.Tensor([[0.00626299 0.3593272  0.5870544  0.04735535]], shape=(1, 4), dtype=float32)\n",
      "[0.6, 0.3, 0.6, 0.2]\n",
      "tf.Tensor([[0.00578039 0.35299724 0.5960733  0.04514905]], shape=(1, 4), dtype=float32)\n",
      "[0.6, 0.0, 0.6, 0.2]\n",
      "tf.Tensor([[0.00626299 0.3593272  0.5870544  0.04735535]], shape=(1, 4), dtype=float32)\n",
      "[0.6, 0.3, 0.6, 0.2]\n",
      "tf.Tensor([[0.00578039 0.35299724 0.5960733  0.04514905]], shape=(1, 4), dtype=float32)\n"
     ]
    },
    {
     "name": "stderr",
     "output_type": "stream",
     "text": [
      "\r",
      " 83%|█████████████████████████████████████████████████████████████▋            | 25001/30000 [6:01:02<50:08,  1.66it/s]"
     ]
    },
    {
     "name": "stdout",
     "output_type": "stream",
     "text": [
      "[0.6, 0.0, 0.6, 0.2]\n",
      "tf.Tensor([[0.00626299 0.3593272  0.5870544  0.04735535]], shape=(1, 4), dtype=float32)\n",
      "[0.6, 0.3, 0.6, 0.2]\n",
      "tf.Tensor([[0.00578039 0.35299724 0.5960733  0.04514905]], shape=(1, 4), dtype=float32)\n",
      "[0.6, 0.0, 0.6, 0.2]\n",
      "tf.Tensor([[0.00626299 0.3593272  0.5870544  0.04735535]], shape=(1, 4), dtype=float32)\n"
     ]
    },
    {
     "name": "stderr",
     "output_type": "stream",
     "text": [
      " 84%|█████████████████████████████████████████████████████████████▉            | 25101/30000 [6:02:08<47:36,  1.72it/s]"
     ]
    },
    {
     "name": "stdout",
     "output_type": "stream",
     "text": [
      "-2.5778885958007782\n",
      "77\n"
     ]
    },
    {
     "name": "stderr",
     "output_type": "stream",
     "text": [
      " 84%|████████████████████████████████████████████████████████████▍           | 25200/30000 [6:03:11<1:03:48,  1.25it/s]"
     ]
    },
    {
     "name": "stdout",
     "output_type": "stream",
     "text": [
      "-3.9004004883489167\n",
      "79\n",
      "[0.0, 0.6, 0.1, 0.1]\n",
      "tf.Tensor([[2.3494522e-05 1.3628179e-02 9.7409588e-01 1.2252425e-02]], shape=(1, 4), dtype=float32)\n",
      "[0.0, 0.3, 0.1, 0.1]\n",
      "tf.Tensor([[3.3782686e-05 1.6928030e-02 9.6905261e-01 1.3985544e-02]], shape=(1, 4), dtype=float32)\n",
      "[0.0, 0.0, 0.1, 0.1]\n",
      "tf.Tensor([[7.7672121e-05 2.7349036e-02 9.5255047e-01 2.0022757e-02]], shape=(1, 4), dtype=float32)\n",
      "[0.3, 0.0, 0.1, 0.1]\n",
      "tf.Tensor([[0.00252967 0.23960401 0.7141379  0.04372841]], shape=(1, 4), dtype=float32)\n",
      "[0.0, 0.0, 0.1, 0.1]\n",
      "tf.Tensor([[0.00197203 0.19459765 0.75502    0.04841031]], shape=(1, 4), dtype=float32)\n",
      "[0.3, 0.0, 0.1, 0.1]\n",
      "tf.Tensor([[0.0014446  0.18044588 0.7761917  0.04191775]], shape=(1, 4), dtype=float32)\n",
      "[0.0, 0.0, 0.1, 0.1]\n",
      "tf.Tensor([[0.00153898 0.17369774 0.7785732  0.04619009]], shape=(1, 4), dtype=float32)\n",
      "[0.3, 0.0, 0.1, 0.1]\n",
      "tf.Tensor([[0.0014446  0.18044588 0.7761917  0.04191775]], shape=(1, 4), dtype=float32)\n",
      "[0.0, 0.0, 0.1, 0.1]\n",
      "tf.Tensor([[0.00153898 0.17369774 0.7785732  0.04619009]], shape=(1, 4), dtype=float32)\n",
      "[0.3, 0.0, 0.1, 0.1]\n",
      "tf.Tensor([[0.0014446  0.18044588 0.7761917  0.04191775]], shape=(1, 4), dtype=float32)\n",
      "[0.0, 0.0, 0.1, 0.1]\n",
      "tf.Tensor([[0.00153898 0.17369774 0.7785732  0.04619009]], shape=(1, 4), dtype=float32)\n",
      "[0.3, 0.0, 0.1, 0.1]\n",
      "tf.Tensor([[0.0014446  0.18044588 0.7761917  0.04191775]], shape=(1, 4), dtype=float32)\n",
      "[0.0, 0.0, 0.1, 0.1]\n",
      "tf.Tensor([[0.00153898 0.17369774 0.7785732  0.04619009]], shape=(1, 4), dtype=float32)\n",
      "[0.3, 0.0, 0.1, 0.1]\n",
      "tf.Tensor([[0.0014446  0.18044588 0.7761917  0.04191775]], shape=(1, 4), dtype=float32)\n",
      "[0.0, 0.0, 0.1, 0.1]\n",
      "tf.Tensor([[0.00153898 0.17369774 0.7785732  0.04619009]], shape=(1, 4), dtype=float32)\n",
      "[0.3, 0.0, 0.1, 0.1]\n",
      "tf.Tensor([[0.0014446  0.18044588 0.7761917  0.04191775]], shape=(1, 4), dtype=float32)\n"
     ]
    },
    {
     "name": "stderr",
     "output_type": "stream",
     "text": [
      "\r",
      " 84%|████████████████████████████████████████████████████████████▍           | 25201/30000 [6:03:12<1:02:12,  1.29it/s]"
     ]
    },
    {
     "name": "stdout",
     "output_type": "stream",
     "text": [
      "[0.0, 0.0, 0.1, 0.1]\n",
      "tf.Tensor([[0.00153898 0.17369774 0.7785732  0.04619009]], shape=(1, 4), dtype=float32)\n",
      "[0.3, 0.0, 0.1, 0.1]\n",
      "tf.Tensor([[0.0014446  0.18044588 0.7761917  0.04191775]], shape=(1, 4), dtype=float32)\n",
      "[0.0, 0.0, 0.1, 0.1]\n",
      "tf.Tensor([[0.00153898 0.17369774 0.7785732  0.04619009]], shape=(1, 4), dtype=float32)\n",
      "[0.3, 0.0, 0.1, 0.1]\n",
      "tf.Tensor([[0.0014446  0.18044588 0.7761917  0.04191775]], shape=(1, 4), dtype=float32)\n"
     ]
    },
    {
     "name": "stderr",
     "output_type": "stream",
     "text": [
      " 84%|██████████████████████████████████████████████████████████████▍           | 25301/30000 [6:04:14<41:55,  1.87it/s]"
     ]
    },
    {
     "name": "stdout",
     "output_type": "stream",
     "text": [
      "-1.6359557301483159\n",
      "81\n"
     ]
    },
    {
     "name": "stderr",
     "output_type": "stream",
     "text": [
      " 85%|██████████████████████████████████████████████████████████████▋           | 25400/30000 [6:05:11<40:17,  1.90it/s]"
     ]
    },
    {
     "name": "stdout",
     "output_type": "stream",
     "text": [
      "-0.9954560908913223\n",
      "83\n",
      "[0.4, 0.4, 0.5, 0.7]\n",
      "tf.Tensor([[1.8289626e-05 1.1378375e-02 9.7771788e-01 1.0885439e-02]], shape=(1, 4), dtype=float32)\n",
      "[0.4, 0.7, 0.5, 0.7]\n",
      "tf.Tensor([[2.36742944e-05 1.36654777e-02 9.74500000e-01 1.18108075e-02]], shape=(1, 4), dtype=float32)\n",
      "[0.7, 0.7, 0.5, 0.7]\n",
      "tf.Tensor([[5.8171165e-05 2.5755281e-02 9.5746660e-01 1.6719993e-02]], shape=(1, 4), dtype=float32)\n",
      "[0.4, 0.7, 0.5, 0.7]\n",
      "tf.Tensor([[0.00563634 0.35319436 0.6066441  0.03452523]], shape=(1, 4), dtype=float32)\n",
      "[0.7, 0.7, 0.5, 0.7]\n",
      "tf.Tensor([[0.0056844  0.37153888 0.5940227  0.02875402]], shape=(1, 4), dtype=float32)\n",
      "[0.4, 0.7, 0.5, 0.7]\n",
      "tf.Tensor([[0.00615591 0.37677306 0.58630794 0.03076307]], shape=(1, 4), dtype=float32)\n",
      "[0.7, 0.7, 0.5, 0.7]\n",
      "tf.Tensor([[0.0056844  0.37153888 0.5940227  0.02875402]], shape=(1, 4), dtype=float32)\n",
      "[0.4, 0.7, 0.5, 0.7]\n",
      "tf.Tensor([[0.00615591 0.37677306 0.58630794 0.03076307]], shape=(1, 4), dtype=float32)\n",
      "[0.7, 0.7, 0.5, 0.7]\n",
      "tf.Tensor([[0.0056844  0.37153888 0.5940227  0.02875402]], shape=(1, 4), dtype=float32)\n",
      "[0.4, 0.7, 0.5, 0.7]\n",
      "tf.Tensor([[0.00615591 0.37677306 0.58630794 0.03076307]], shape=(1, 4), dtype=float32)\n",
      "[0.7, 0.7, 0.5, 0.7]\n",
      "tf.Tensor([[0.0056844  0.37153888 0.5940227  0.02875402]], shape=(1, 4), dtype=float32)\n",
      "[0.4, 0.7, 0.5, 0.7]\n",
      "tf.Tensor([[0.00615591 0.37677306 0.58630794 0.03076307]], shape=(1, 4), dtype=float32)\n",
      "[0.7, 0.7, 0.5, 0.7]\n",
      "tf.Tensor([[0.0056844  0.37153888 0.5940227  0.02875402]], shape=(1, 4), dtype=float32)\n",
      "[0.4, 0.7, 0.5, 0.7]\n",
      "tf.Tensor([[0.00615591 0.37677306 0.58630794 0.03076307]], shape=(1, 4), dtype=float32)\n",
      "[0.7, 0.7, 0.5, 0.7]\n",
      "tf.Tensor([[0.0056844  0.37153888 0.5940227  0.02875402]], shape=(1, 4), dtype=float32)\n",
      "[0.4, 0.7, 0.5, 0.7]\n",
      "tf.Tensor([[0.00615591 0.37677306 0.58630794 0.03076307]], shape=(1, 4), dtype=float32)\n",
      "[0.7, 0.7, 0.5, 0.7]\n",
      "tf.Tensor([[0.0056844  0.37153888 0.5940227  0.02875402]], shape=(1, 4), dtype=float32)\n",
      "[0.4, 0.7, 0.5, 0.7]\n"
     ]
    },
    {
     "name": "stderr",
     "output_type": "stream",
     "text": [
      "\r",
      " 85%|██████████████████████████████████████████████████████████████▋           | 25401/30000 [6:05:11<37:32,  2.04it/s]"
     ]
    },
    {
     "name": "stdout",
     "output_type": "stream",
     "text": [
      "tf.Tensor([[0.00615591 0.37677306 0.58630794 0.03076307]], shape=(1, 4), dtype=float32)\n",
      "[0.7, 0.7, 0.5, 0.7]\n",
      "tf.Tensor([[0.0056844  0.37153888 0.5940227  0.02875402]], shape=(1, 4), dtype=float32)\n",
      "[0.4, 0.7, 0.5, 0.7]\n",
      "tf.Tensor([[0.00615591 0.37677306 0.58630794 0.03076307]], shape=(1, 4), dtype=float32)\n"
     ]
    },
    {
     "name": "stderr",
     "output_type": "stream",
     "text": [
      " 85%|██████████████████████████████████████████████████████████████▉           | 25501/30000 [6:06:26<57:55,  1.29it/s]"
     ]
    },
    {
     "name": "stdout",
     "output_type": "stream",
     "text": [
      "-5.9485316760528795\n",
      "71\n"
     ]
    },
    {
     "name": "stderr",
     "output_type": "stream",
     "text": [
      " 85%|███████████████████████████████████████████████████████████████▏          | 25600/30000 [6:07:36<53:32,  1.37it/s]"
     ]
    },
    {
     "name": "stdout",
     "output_type": "stream",
     "text": [
      "-5.644997728451893\n",
      "67\n",
      "[0.2, 0.8, 0.7, 0.1]\n",
      "tf.Tensor([[1.4366903e-05 1.0737234e-02 9.7930855e-01 9.9398019e-03]], shape=(1, 4), dtype=float32)\n",
      "[0.2, 0.5, 0.7, 0.1]\n",
      "tf.Tensor([[1.8924797e-05 1.2254940e-02 9.7666627e-01 1.1059935e-02]], shape=(1, 4), dtype=float32)\n",
      "[0.5, 0.5, 0.7, 0.1]\n",
      "tf.Tensor([[4.7667785e-05 2.2850167e-02 9.6142840e-01 1.5673773e-02]], shape=(1, 4), dtype=float32)\n",
      "[0.5, 0.2, 0.7, 0.1]\n",
      "tf.Tensor([[0.00288292 0.26825365 0.68887436 0.03998901]], shape=(1, 4), dtype=float32)\n",
      "[0.8, 0.2, 0.7, 0.1]\n",
      "tf.Tensor([[0.00270138 0.27704385 0.6871657  0.033089  ]], shape=(1, 4), dtype=float32)\n",
      "[0.5, 0.2, 0.7, 0.1]\n",
      "tf.Tensor([[0.00282598 0.28106892 0.68089926 0.03520587]], shape=(1, 4), dtype=float32)\n",
      "[0.8, 0.2, 0.7, 0.1]\n",
      "tf.Tensor([[0.00257776 0.27348498 0.6939491  0.02998824]], shape=(1, 4), dtype=float32)\n",
      "[0.5, 0.2, 0.7, 0.1]\n",
      "tf.Tensor([[0.00267914 0.2737518  0.6908619  0.03270713]], shape=(1, 4), dtype=float32)\n",
      "[0.8, 0.2, 0.7, 0.1]\n",
      "tf.Tensor([[0.00257776 0.27348498 0.6939491  0.02998824]], shape=(1, 4), dtype=float32)\n",
      "[0.5, 0.2, 0.7, 0.1]\n",
      "tf.Tensor([[0.00267914 0.2737518  0.6908619  0.03270713]], shape=(1, 4), dtype=float32)\n",
      "[0.8, 0.2, 0.7, 0.1]\n",
      "tf.Tensor([[0.00257776 0.27348498 0.6939491  0.02998824]], shape=(1, 4), dtype=float32)\n",
      "[0.5, 0.2, 0.7, 0.1]\n",
      "tf.Tensor([[0.00267914 0.2737518  0.6908619  0.03270713]], shape=(1, 4), dtype=float32)\n",
      "[0.8, 0.2, 0.7, 0.1]\n",
      "tf.Tensor([[0.00257776 0.27348498 0.6939491  0.02998824]], shape=(1, 4), dtype=float32)\n",
      "[0.5, 0.2, 0.7, 0.1]\n",
      "tf.Tensor([[0.00267914 0.2737518  0.6908619  0.03270713]], shape=(1, 4), dtype=float32)\n",
      "[0.8, 0.2, 0.7, 0.1]\n",
      "tf.Tensor([[0.00257776 0.27348498 0.6939491  0.02998824]], shape=(1, 4), dtype=float32)\n",
      "[0.5, 0.2, 0.7, 0.1]\n",
      "tf.Tensor([[0.00267914 0.2737518  0.6908619  0.03270713]], shape=(1, 4), dtype=float32)\n",
      "[0.8, 0.2, 0.7, 0.1]\n",
      "tf.Tensor([[0.00257776 0.27348498 0.6939491  0.02998824]], shape=(1, 4), dtype=float32)\n",
      "[0.5, 0.2, 0.7, 0.1]\n"
     ]
    },
    {
     "name": "stderr",
     "output_type": "stream",
     "text": [
      "\r",
      " 85%|███████████████████████████████████████████████████████████████▏          | 25601/30000 [6:07:36<48:48,  1.50it/s]"
     ]
    },
    {
     "name": "stdout",
     "output_type": "stream",
     "text": [
      "tf.Tensor([[0.00267914 0.2737518  0.6908619  0.03270713]], shape=(1, 4), dtype=float32)\n",
      "[0.8, 0.2, 0.7, 0.1]\n",
      "tf.Tensor([[0.00257776 0.27348498 0.6939491  0.02998824]], shape=(1, 4), dtype=float32)\n",
      "[0.5, 0.2, 0.7, 0.1]\n",
      "tf.Tensor([[0.00267914 0.2737518  0.6908619  0.03270713]], shape=(1, 4), dtype=float32)\n"
     ]
    },
    {
     "name": "stderr",
     "output_type": "stream",
     "text": [
      " 86%|███████████████████████████████████████████████████████████████▍          | 25701/30000 [6:08:37<47:21,  1.51it/s]"
     ]
    },
    {
     "name": "stdout",
     "output_type": "stream",
     "text": [
      "-2.6204891862298423\n",
      "82\n"
     ]
    },
    {
     "name": "stderr",
     "output_type": "stream",
     "text": [
      " 86%|█████████████████████████████████████████████████████████████▉          | 25800/30000 [6:09:44<1:03:58,  1.09it/s]"
     ]
    },
    {
     "name": "stdout",
     "output_type": "stream",
     "text": [
      "-6.475537862068251\n",
      "73\n",
      "[0.1, 0.6, 0.6, 0.2]\n",
      "tf.Tensor([[1.0173128e-05 8.1021488e-03 9.8328710e-01 8.6005563e-03]], shape=(1, 4), dtype=float32)\n",
      "[0.4, 0.6, 0.6, 0.2]\n",
      "tf.Tensor([[1.3420648e-05 9.8661399e-03 9.8084301e-01 9.2775114e-03]], shape=(1, 4), dtype=float32)\n",
      "[0.4, 0.3, 0.6, 0.2]\n",
      "tf.Tensor([[2.9567016e-05 1.5717810e-02 9.7149491e-01 1.2757631e-02]], shape=(1, 4), dtype=float32)\n",
      "[0.7, 0.3, 0.6, 0.2]\n",
      "tf.Tensor([[0.0022677  0.25813898 0.7085463  0.03104698]], shape=(1, 4), dtype=float32)\n",
      "[0.4, 0.3, 0.6, 0.2]\n",
      "tf.Tensor([[0.00237385 0.25428474 0.70973766 0.03360372]], shape=(1, 4), dtype=float32)\n",
      "[0.7, 0.3, 0.6, 0.2]\n",
      "tf.Tensor([[0.0021646  0.25764123 0.71231824 0.02787595]], shape=(1, 4), dtype=float32)\n",
      "[0.4, 0.3, 0.6, 0.2]\n",
      "tf.Tensor([[0.00222376 0.24738692 0.7193281  0.03106119]], shape=(1, 4), dtype=float32)\n",
      "[0.7, 0.3, 0.6, 0.2]\n",
      "tf.Tensor([[0.0021646  0.25764123 0.71231824 0.02787595]], shape=(1, 4), dtype=float32)\n",
      "[0.4, 0.3, 0.6, 0.2]\n",
      "tf.Tensor([[0.00222376 0.24738692 0.7193281  0.03106119]], shape=(1, 4), dtype=float32)\n",
      "[0.7, 0.3, 0.6, 0.2]\n",
      "tf.Tensor([[0.0021646  0.25764123 0.71231824 0.02787595]], shape=(1, 4), dtype=float32)\n",
      "[0.4, 0.3, 0.6, 0.2]\n",
      "tf.Tensor([[0.00222376 0.24738692 0.7193281  0.03106119]], shape=(1, 4), dtype=float32)\n",
      "[0.7, 0.3, 0.6, 0.2]\n",
      "tf.Tensor([[0.0021646  0.25764123 0.71231824 0.02787595]], shape=(1, 4), dtype=float32)\n",
      "[0.4, 0.3, 0.6, 0.2]\n",
      "tf.Tensor([[0.00222376 0.24738692 0.7193281  0.03106119]], shape=(1, 4), dtype=float32)\n",
      "[0.7, 0.3, 0.6, 0.2]\n",
      "tf.Tensor([[0.0021646  0.25764123 0.71231824 0.02787595]], shape=(1, 4), dtype=float32)\n",
      "[0.4, 0.3, 0.6, 0.2]\n",
      "tf.Tensor([[0.00222376 0.24738692 0.7193281  0.03106119]], shape=(1, 4), dtype=float32)\n",
      "[0.7, 0.3, 0.6, 0.2]\n",
      "tf.Tensor([[0.0021646  0.25764123 0.71231824 0.02787595]], shape=(1, 4), dtype=float32)\n",
      "[0.4, 0.3, 0.6, 0.2]\n"
     ]
    },
    {
     "name": "stderr",
     "output_type": "stream",
     "text": [
      "\r",
      " 86%|█████████████████████████████████████████████████████████████▉          | 25801/30000 [6:09:46<1:11:55,  1.03s/it]"
     ]
    },
    {
     "name": "stdout",
     "output_type": "stream",
     "text": [
      "tf.Tensor([[0.00222376 0.24738692 0.7193281  0.03106119]], shape=(1, 4), dtype=float32)\n",
      "[0.7, 0.3, 0.6, 0.2]\n",
      "tf.Tensor([[0.0021646  0.25764123 0.71231824 0.02787595]], shape=(1, 4), dtype=float32)\n",
      "[0.4, 0.3, 0.6, 0.2]\n",
      "tf.Tensor([[0.00222376 0.24738692 0.7193281  0.03106119]], shape=(1, 4), dtype=float32)\n",
      "[0.7, 0.3, 0.6, 0.2]\n",
      "tf.Tensor([[0.0021646  0.25764123 0.71231824 0.02787595]], shape=(1, 4), dtype=float32)\n"
     ]
    },
    {
     "name": "stderr",
     "output_type": "stream",
     "text": [
      " 86%|███████████████████████████████████████████████████████████████▉          | 25901/30000 [6:10:54<53:21,  1.28it/s]"
     ]
    },
    {
     "name": "stdout",
     "output_type": "stream",
     "text": [
      "-4.717345526902552\n",
      "73\n"
     ]
    },
    {
     "name": "stderr",
     "output_type": "stream",
     "text": [
      " 87%|████████████████████████████████████████████████████████████████▏         | 26000/30000 [6:12:10<58:28,  1.14it/s]"
     ]
    },
    {
     "name": "stdout",
     "output_type": "stream",
     "text": [
      "-8.864442189545496\n",
      "61\n",
      "[0.5, 0.6, 0.1, 0.1]\n",
      "tf.Tensor([[8.0758064e-06 7.4408567e-03 9.8495561e-01 7.5953831e-03]], shape=(1, 4), dtype=float32)\n",
      "[0.2, 0.6, 0.1, 0.1]\n",
      "tf.Tensor([[1.1591692e-05 9.0971356e-03 9.8232907e-01 8.5622584e-03]], shape=(1, 4), dtype=float32)\n",
      "[0.2, 0.3, 0.1, 0.1]\n",
      "tf.Tensor([[2.6608615e-05 1.5597249e-02 9.7273684e-01 1.1639237e-02]], shape=(1, 4), dtype=float32)\n",
      "[0.2, 0.0, 0.1, 0.1]\n",
      "tf.Tensor([[0.00117392 0.17942083 0.79055035 0.02885492]], shape=(1, 4), dtype=float32)\n",
      "[0.0, 0.0, 0.1, 0.1]\n",
      "tf.Tensor([[0.00095314 0.13801958 0.8265671  0.03446013]], shape=(1, 4), dtype=float32)\n",
      "[0.3, 0.0, 0.1, 0.1]\n",
      "tf.Tensor([[5.3536682e-04 1.0632056e-01 8.6360675e-01 2.9537277e-02]], shape=(1, 4), dtype=float32)\n",
      "[0.0, 0.0, 0.1, 0.1]\n",
      "tf.Tensor([[3.2045841e-04 7.0394054e-02 8.9819956e-01 3.1085966e-02]], shape=(1, 4), dtype=float32)\n",
      "[0.3, 0.0, 0.1, 0.1]\n",
      "tf.Tensor([[3.8853273e-04 8.6502232e-02 8.8386697e-01 2.9242337e-02]], shape=(1, 4), dtype=float32)\n",
      "[0.0, 0.0, 0.1, 0.1]\n",
      "tf.Tensor([[3.6950927e-04 7.7268645e-02 8.9034671e-01 3.2015119e-02]], shape=(1, 4), dtype=float32)\n",
      "[0.3, 0.0, 0.1, 0.1]\n",
      "tf.Tensor([[3.8853273e-04 8.6502232e-02 8.8386697e-01 2.9242337e-02]], shape=(1, 4), dtype=float32)\n",
      "[0.0, 0.0, 0.1, 0.1]\n",
      "tf.Tensor([[3.6950927e-04 7.7268645e-02 8.9034671e-01 3.2015119e-02]], shape=(1, 4), dtype=float32)\n",
      "[0.3, 0.0, 0.1, 0.1]\n",
      "tf.Tensor([[3.8853273e-04 8.6502232e-02 8.8386697e-01 2.9242337e-02]], shape=(1, 4), dtype=float32)\n",
      "[0.0, 0.0, 0.1, 0.1]\n",
      "tf.Tensor([[3.6950927e-04 7.7268645e-02 8.9034671e-01 3.2015119e-02]], shape=(1, 4), dtype=float32)\n",
      "[0.3, 0.0, 0.1, 0.1]\n",
      "tf.Tensor([[3.8853273e-04 8.6502232e-02 8.8386697e-01 2.9242337e-02]], shape=(1, 4), dtype=float32)\n",
      "[0.0, 0.0, 0.1, 0.1]\n",
      "tf.Tensor([[3.6950927e-04 7.7268645e-02 8.9034671e-01 3.2015119e-02]], shape=(1, 4), dtype=float32)\n",
      "[0.3, 0.0, 0.1, 0.1]\n",
      "tf.Tensor([[3.8853273e-04 8.6502232e-02 8.8386697e-01 2.9242337e-02]], shape=(1, 4), dtype=float32)\n",
      "[0.0, 0.0, 0.1, 0.1]\n",
      "tf.Tensor([[3.6950927e-04 7.7268645e-02 8.9034671e-01 3.2015119e-02]], shape=(1, 4), dtype=float32)\n"
     ]
    },
    {
     "name": "stderr",
     "output_type": "stream",
     "text": [
      "\r",
      " 87%|████████████████████████████████████████████████████████████████▏         | 26001/30000 [6:12:11<58:21,  1.14it/s]"
     ]
    },
    {
     "name": "stdout",
     "output_type": "stream",
     "text": [
      "[0.3, 0.0, 0.1, 0.1]\n",
      "tf.Tensor([[3.8853273e-04 8.6502232e-02 8.8386697e-01 2.9242337e-02]], shape=(1, 4), dtype=float32)\n",
      "[0.0, 0.0, 0.1, 0.1]\n",
      "tf.Tensor([[3.6950927e-04 7.7268645e-02 8.9034671e-01 3.2015119e-02]], shape=(1, 4), dtype=float32)\n",
      "[0.3, 0.0, 0.1, 0.1]\n",
      "tf.Tensor([[3.8853273e-04 8.6502232e-02 8.8386697e-01 2.9242337e-02]], shape=(1, 4), dtype=float32)\n"
     ]
    },
    {
     "name": "stderr",
     "output_type": "stream",
     "text": [
      " 87%|████████████████████████████████████████████████████████████████▍         | 26101/30000 [6:13:22<53:42,  1.21it/s]"
     ]
    },
    {
     "name": "stdout",
     "output_type": "stream",
     "text": [
      "-7.921020766694827\n",
      "66\n"
     ]
    },
    {
     "name": "stderr",
     "output_type": "stream",
     "text": [
      " 87%|████████████████████████████████████████████████████████████████▋         | 26200/30000 [6:14:34<37:02,  1.71it/s]"
     ]
    },
    {
     "name": "stdout",
     "output_type": "stream",
     "text": [
      "-2.9632009554485905\n",
      "76\n",
      "[0.6, 0.6, 0.1, 0.1]\n",
      "tf.Tensor([[6.3349421e-06 6.8870094e-03 9.8631686e-01 6.7897905e-03]], shape=(1, 4), dtype=float32)\n",
      "[0.3, 0.6, 0.1, 0.1]\n",
      "tf.Tensor([[8.9811638e-06 8.3809597e-03 9.8398894e-01 7.6210853e-03]], shape=(1, 4), dtype=float32)\n",
      "[0.3, 0.3, 0.1, 0.1]\n",
      "tf.Tensor([[1.80732168e-05 1.37306815e-02 9.76500869e-01 9.75046307e-03]], shape=(1, 4), dtype=float32)\n",
      "[0.0, 0.3, 0.1, 0.1]\n",
      "tf.Tensor([[0.00141319 0.21632476 0.7547751  0.02748691]], shape=(1, 4), dtype=float32)\n",
      "[0.0, 0.0, 0.1, 0.1]\n",
      "tf.Tensor([[0.00109478 0.16402975 0.80257016 0.03230535]], shape=(1, 4), dtype=float32)\n",
      "[0.3, 0.0, 0.1, 0.1]\n",
      "tf.Tensor([[5.8914034e-04 1.2273229e-01 8.4882712e-01 2.7851386e-02]], shape=(1, 4), dtype=float32)\n",
      "[0.0, 0.0, 0.1, 0.1]\n",
      "tf.Tensor([[5.65394992e-04 1.06815845e-01 8.60632241e-01 3.19865346e-02]], shape=(1, 4), dtype=float32)\n",
      "[0.3, 0.0, 0.1, 0.1]\n",
      "tf.Tensor([[3.6193203e-04 9.0595953e-02 8.8207453e-01 2.6967613e-02]], shape=(1, 4), dtype=float32)\n",
      "[0.0, 0.0, 0.1, 0.1]\n",
      "tf.Tensor([[3.3683976e-04 7.9667553e-02 8.9048594e-01 2.9509714e-02]], shape=(1, 4), dtype=float32)\n",
      "[0.3, 0.0, 0.1, 0.1]\n",
      "tf.Tensor([[3.6193203e-04 9.0595953e-02 8.8207453e-01 2.6967613e-02]], shape=(1, 4), dtype=float32)\n",
      "[0.0, 0.0, 0.1, 0.1]\n",
      "tf.Tensor([[3.3683976e-04 7.9667553e-02 8.9048594e-01 2.9509714e-02]], shape=(1, 4), dtype=float32)\n",
      "[0.3, 0.0, 0.1, 0.1]\n",
      "tf.Tensor([[3.6193203e-04 9.0595953e-02 8.8207453e-01 2.6967613e-02]], shape=(1, 4), dtype=float32)\n",
      "[0.0, 0.0, 0.1, 0.1]\n",
      "tf.Tensor([[3.3683976e-04 7.9667553e-02 8.9048594e-01 2.9509714e-02]], shape=(1, 4), dtype=float32)\n",
      "[0.3, 0.0, 0.1, 0.1]\n",
      "tf.Tensor([[3.6193203e-04 9.0595953e-02 8.8207453e-01 2.6967613e-02]], shape=(1, 4), dtype=float32)\n",
      "[0.0, 0.0, 0.1, 0.1]\n",
      "tf.Tensor([[3.3683976e-04 7.9667553e-02 8.9048594e-01 2.9509714e-02]], shape=(1, 4), dtype=float32)\n",
      "[0.3, 0.0, 0.1, 0.1]\n",
      "tf.Tensor([[3.6193203e-04 9.0595953e-02 8.8207453e-01 2.6967613e-02]], shape=(1, 4), dtype=float32)\n",
      "[0.0, 0.0, 0.1, 0.1]\n",
      "tf.Tensor([[3.3683976e-04 7.9667553e-02 8.9048594e-01 2.9509714e-02]], shape=(1, 4), dtype=float32)\n"
     ]
    },
    {
     "name": "stderr",
     "output_type": "stream",
     "text": [
      "\r",
      " 87%|████████████████████████████████████████████████████████████████▋         | 26201/30000 [6:14:34<32:57,  1.92it/s]"
     ]
    },
    {
     "name": "stdout",
     "output_type": "stream",
     "text": [
      "[0.3, 0.0, 0.1, 0.1]\n",
      "tf.Tensor([[3.6193203e-04 9.0595953e-02 8.8207453e-01 2.6967613e-02]], shape=(1, 4), dtype=float32)\n",
      "[0.0, 0.0, 0.1, 0.1]\n",
      "tf.Tensor([[3.3683976e-04 7.9667553e-02 8.9048594e-01 2.9509714e-02]], shape=(1, 4), dtype=float32)\n",
      "[0.3, 0.0, 0.1, 0.1]\n",
      "tf.Tensor([[3.6193203e-04 9.0595953e-02 8.8207453e-01 2.6967613e-02]], shape=(1, 4), dtype=float32)\n"
     ]
    },
    {
     "name": "stderr",
     "output_type": "stream",
     "text": [
      " 88%|████████████████████████████████████████████████████████████████▉         | 26301/30000 [6:15:47<48:07,  1.28it/s]"
     ]
    },
    {
     "name": "stdout",
     "output_type": "stream",
     "text": [
      "-4.2629763948806705\n",
      "73\n"
     ]
    },
    {
     "name": "stderr",
     "output_type": "stream",
     "text": [
      " 88%|█████████████████████████████████████████████████████████████████         | 26400/30000 [6:16:59<49:20,  1.22it/s]"
     ]
    },
    {
     "name": "stdout",
     "output_type": "stream",
     "text": [
      "-5.730988767492321\n",
      "70\n",
      "[0.1, 0.8, 0.5, 0.7]\n",
      "tf.Tensor([[7.255927e-06 7.339900e-03 9.853011e-01 7.351719e-03]], shape=(1, 4), dtype=float32)\n",
      "[0.4, 0.8, 0.5, 0.7]\n",
      "tf.Tensor([[9.268501e-06 8.540499e-03 9.834691e-01 7.981099e-03]], shape=(1, 4), dtype=float32)\n",
      "[0.7, 0.8, 0.5, 0.7]\n",
      "tf.Tensor([[1.98976140e-05 1.48222307e-02 9.74682093e-01 1.04758255e-02]], shape=(1, 4), dtype=float32)\n",
      "[0.4, 0.8, 0.5, 0.7]\n",
      "tf.Tensor([[0.00227556 0.2632822  0.70725304 0.02718922]], shape=(1, 4), dtype=float32)\n",
      "[0.7, 0.8, 0.5, 0.7]\n",
      "tf.Tensor([[0.0020626  0.27576068 0.69923675 0.02294   ]], shape=(1, 4), dtype=float32)\n",
      "[0.4, 0.8, 0.5, 0.7]\n",
      "tf.Tensor([[0.0020081  0.26283273 0.70978594 0.02537322]], shape=(1, 4), dtype=float32)\n",
      "[0.7, 0.8, 0.5, 0.7]\n",
      "tf.Tensor([[0.0020626  0.27576068 0.69923675 0.02294   ]], shape=(1, 4), dtype=float32)\n",
      "[0.4, 0.8, 0.5, 0.7]\n",
      "tf.Tensor([[0.0020081  0.26283273 0.70978594 0.02537322]], shape=(1, 4), dtype=float32)\n",
      "[0.7, 0.8, 0.5, 0.7]\n",
      "tf.Tensor([[0.0020626  0.27576068 0.69923675 0.02294   ]], shape=(1, 4), dtype=float32)\n",
      "[0.4, 0.8, 0.5, 0.7]\n",
      "tf.Tensor([[0.0020081  0.26283273 0.70978594 0.02537322]], shape=(1, 4), dtype=float32)\n",
      "[0.7, 0.8, 0.5, 0.7]\n",
      "tf.Tensor([[0.0020626  0.27576068 0.69923675 0.02294   ]], shape=(1, 4), dtype=float32)\n",
      "[0.4, 0.8, 0.5, 0.7]\n",
      "tf.Tensor([[0.0020081  0.26283273 0.70978594 0.02537322]], shape=(1, 4), dtype=float32)\n",
      "[0.7, 0.8, 0.5, 0.7]\n",
      "tf.Tensor([[0.0020626  0.27576068 0.69923675 0.02294   ]], shape=(1, 4), dtype=float32)\n",
      "[0.4, 0.8, 0.5, 0.7]\n",
      "tf.Tensor([[0.0020081  0.26283273 0.70978594 0.02537322]], shape=(1, 4), dtype=float32)\n",
      "[0.7, 0.8, 0.5, 0.7]\n",
      "tf.Tensor([[0.0020626  0.27576068 0.69923675 0.02294   ]], shape=(1, 4), dtype=float32)\n",
      "[0.4, 0.8, 0.5, 0.7]\n",
      "tf.Tensor([[0.0020081  0.26283273 0.70978594 0.02537322]], shape=(1, 4), dtype=float32)\n",
      "[0.7, 0.8, 0.5, 0.7]\n",
      "tf.Tensor([[0.0020626  0.27576068 0.69923675 0.02294   ]], shape=(1, 4), dtype=float32)\n",
      "[0.4, 0.8, 0.5, 0.7]\n",
      "tf.Tensor([[0.0020081  0.26283273 0.70978594 0.02537322]], shape=(1, 4), dtype=float32)\n",
      "[0.7, 0.8, 0.5, 0.7]\n"
     ]
    },
    {
     "name": "stderr",
     "output_type": "stream",
     "text": [
      "\r",
      " 88%|█████████████████████████████████████████████████████████████████         | 26401/30000 [6:17:00<51:03,  1.17it/s]"
     ]
    },
    {
     "name": "stdout",
     "output_type": "stream",
     "text": [
      "tf.Tensor([[0.0020626  0.27576068 0.69923675 0.02294   ]], shape=(1, 4), dtype=float32)\n",
      "[0.4, 0.8, 0.5, 0.7]\n",
      "tf.Tensor([[0.0020081  0.26283273 0.70978594 0.02537322]], shape=(1, 4), dtype=float32)\n"
     ]
    },
    {
     "name": "stderr",
     "output_type": "stream",
     "text": [
      " 88%|█████████████████████████████████████████████████████████████████▎        | 26501/30000 [6:18:10<25:50,  2.26it/s]"
     ]
    },
    {
     "name": "stdout",
     "output_type": "stream",
     "text": [
      "-3.358713452301513\n",
      "76\n"
     ]
    },
    {
     "name": "stderr",
     "output_type": "stream",
     "text": [
      " 89%|█████████████████████████████████████████████████████████████████▌        | 26600/30000 [6:19:13<34:30,  1.64it/s]"
     ]
    },
    {
     "name": "stdout",
     "output_type": "stream",
     "text": [
      "-1.7060404510756106\n",
      "79\n",
      "[0.9, 0.6, 0.6, 0.2]\n",
      "tf.Tensor([[5.8041655e-06 7.0777894e-03 9.8652899e-01 6.3873446e-03]], shape=(1, 4), dtype=float32)\n",
      "[0.6, 0.6, 0.6, 0.2]\n",
      "tf.Tensor([[7.978237e-06 8.527669e-03 9.843859e-01 7.078469e-03]], shape=(1, 4), dtype=float32)\n",
      "[0.6, 0.3, 0.6, 0.2]\n",
      "tf.Tensor([[2.1590313e-05 1.6887475e-02 9.7268277e-01 1.0408139e-02]], shape=(1, 4), dtype=float32)\n",
      "[0.6, 0.0, 0.6, 0.2]\n",
      "tf.Tensor([[0.00307284 0.34410167 0.6268073  0.02601827]], shape=(1, 4), dtype=float32)\n",
      "[0.6, 0.3, 0.6, 0.2]\n",
      "tf.Tensor([[0.00307314 0.34683618 0.62348443 0.02660624]], shape=(1, 4), dtype=float32)\n",
      "[0.6, 0.0, 0.6, 0.2]\n",
      "tf.Tensor([[0.00339007 0.33488414 0.63262165 0.02910416]], shape=(1, 4), dtype=float32)\n",
      "[0.6, 0.3, 0.6, 0.2]\n",
      "tf.Tensor([[0.00344649 0.35017598 0.6193401  0.02703741]], shape=(1, 4), dtype=float32)\n",
      "[0.6, 0.0, 0.6, 0.2]\n",
      "tf.Tensor([[0.00339007 0.33488414 0.63262165 0.02910416]], shape=(1, 4), dtype=float32)\n",
      "[0.6, 0.3, 0.6, 0.2]\n",
      "tf.Tensor([[0.00344649 0.35017598 0.6193401  0.02703741]], shape=(1, 4), dtype=float32)\n",
      "[0.6, 0.0, 0.6, 0.2]\n",
      "tf.Tensor([[0.00339007 0.33488414 0.63262165 0.02910416]], shape=(1, 4), dtype=float32)\n",
      "[0.6, 0.3, 0.6, 0.2]\n",
      "tf.Tensor([[0.00344649 0.35017598 0.6193401  0.02703741]], shape=(1, 4), dtype=float32)\n",
      "[0.6, 0.0, 0.6, 0.2]\n",
      "tf.Tensor([[0.00339007 0.33488414 0.63262165 0.02910416]], shape=(1, 4), dtype=float32)\n",
      "[0.6, 0.3, 0.6, 0.2]\n",
      "tf.Tensor([[0.00344649 0.35017598 0.6193401  0.02703741]], shape=(1, 4), dtype=float32)\n",
      "[0.6, 0.0, 0.6, 0.2]\n",
      "tf.Tensor([[0.00339007 0.33488414 0.63262165 0.02910416]], shape=(1, 4), dtype=float32)\n",
      "[0.6, 0.3, 0.6, 0.2]\n",
      "tf.Tensor([[0.00344649 0.35017598 0.6193401  0.02703741]], shape=(1, 4), dtype=float32)\n",
      "[0.6, 0.0, 0.6, 0.2]\n",
      "tf.Tensor([[0.00339007 0.33488414 0.63262165 0.02910416]], shape=(1, 4), dtype=float32)\n",
      "[0.6, 0.3, 0.6, 0.2]\n",
      "tf.Tensor([[0.00344649 0.35017598 0.6193401  0.02703741]], shape=(1, 4), dtype=float32)\n"
     ]
    },
    {
     "name": "stderr",
     "output_type": "stream",
     "text": [
      "\r",
      " 89%|█████████████████████████████████████████████████████████████████▌        | 26601/30000 [6:19:13<30:19,  1.87it/s]"
     ]
    },
    {
     "name": "stdout",
     "output_type": "stream",
     "text": [
      "[0.6, 0.0, 0.6, 0.2]\n",
      "tf.Tensor([[0.00339007 0.33488414 0.63262165 0.02910416]], shape=(1, 4), dtype=float32)\n",
      "[0.6, 0.3, 0.6, 0.2]\n",
      "tf.Tensor([[0.00344649 0.35017598 0.6193401  0.02703741]], shape=(1, 4), dtype=float32)\n",
      "[0.6, 0.0, 0.6, 0.2]\n",
      "tf.Tensor([[0.00339007 0.33488414 0.63262165 0.02910416]], shape=(1, 4), dtype=float32)\n"
     ]
    },
    {
     "name": "stderr",
     "output_type": "stream",
     "text": [
      " 89%|█████████████████████████████████████████████████████████████████▊        | 26701/30000 [6:20:28<33:17,  1.65it/s]"
     ]
    },
    {
     "name": "stdout",
     "output_type": "stream",
     "text": [
      "-7.422816643005802\n",
      "67\n"
     ]
    },
    {
     "name": "stderr",
     "output_type": "stream",
     "text": [
      " 89%|██████████████████████████████████████████████████████████████████        | 26800/30000 [6:21:41<40:09,  1.33it/s]"
     ]
    },
    {
     "name": "stdout",
     "output_type": "stream",
     "text": [
      "-5.1655215976090965\n",
      "70\n",
      "[0.1, 0.3, 0.7, 0.1]\n",
      "tf.Tensor([[5.0703425e-06 6.6444203e-03 9.8751605e-01 5.8344873e-03]], shape=(1, 4), dtype=float32)\n",
      "[0.4, 0.3, 0.7, 0.1]\n",
      "tf.Tensor([[6.4812452e-06 7.7229072e-03 9.8592466e-01 6.3460115e-03]], shape=(1, 4), dtype=float32)\n",
      "[0.7, 0.3, 0.7, 0.1]\n",
      "tf.Tensor([[1.5373462e-05 1.4009322e-02 9.7724199e-01 8.7334095e-03]], shape=(1, 4), dtype=float32)\n",
      "[0.7, 0.0, 0.7, 0.1]\n",
      "tf.Tensor([[0.00158636 0.22979136 0.74431175 0.0243106 ]], shape=(1, 4), dtype=float32)\n",
      "[0.7, 0.3, 0.7, 0.1]\n",
      "tf.Tensor([[0.00181143 0.27215937 0.7043301  0.02169905]], shape=(1, 4), dtype=float32)\n",
      "[0.7, 0.0, 0.7, 0.1]\n",
      "tf.Tensor([[0.00202402 0.27133602 0.70354086 0.02309907]], shape=(1, 4), dtype=float32)\n",
      "[0.7, 0.3, 0.7, 0.1]\n",
      "tf.Tensor([[0.00219564 0.29084086 0.68549544 0.021468  ]], shape=(1, 4), dtype=float32)\n",
      "[0.7, 0.0, 0.7, 0.1]\n",
      "tf.Tensor([[0.00202402 0.27133602 0.70354086 0.02309907]], shape=(1, 4), dtype=float32)\n",
      "[0.7, 0.3, 0.7, 0.1]\n",
      "tf.Tensor([[0.00219564 0.29084086 0.68549544 0.021468  ]], shape=(1, 4), dtype=float32)\n",
      "[0.7, 0.0, 0.7, 0.1]\n",
      "tf.Tensor([[0.00202402 0.27133602 0.70354086 0.02309907]], shape=(1, 4), dtype=float32)\n",
      "[0.7, 0.3, 0.7, 0.1]\n",
      "tf.Tensor([[0.00219564 0.29084086 0.68549544 0.021468  ]], shape=(1, 4), dtype=float32)\n",
      "[0.7, 0.0, 0.7, 0.1]\n",
      "tf.Tensor([[0.00202402 0.27133602 0.70354086 0.02309907]], shape=(1, 4), dtype=float32)\n",
      "[0.7, 0.3, 0.7, 0.1]\n",
      "tf.Tensor([[0.00219564 0.29084086 0.68549544 0.021468  ]], shape=(1, 4), dtype=float32)\n",
      "[0.7, 0.0, 0.7, 0.1]\n",
      "tf.Tensor([[0.00202402 0.27133602 0.70354086 0.02309907]], shape=(1, 4), dtype=float32)\n",
      "[0.7, 0.3, 0.7, 0.1]\n",
      "tf.Tensor([[0.00219564 0.29084086 0.68549544 0.021468  ]], shape=(1, 4), dtype=float32)\n",
      "[0.7, 0.0, 0.7, 0.1]\n",
      "tf.Tensor([[0.00202402 0.27133602 0.70354086 0.02309907]], shape=(1, 4), dtype=float32)\n"
     ]
    },
    {
     "name": "stderr",
     "output_type": "stream",
     "text": [
      "\r",
      " 89%|██████████████████████████████████████████████████████████████████        | 26801/30000 [6:21:42<49:20,  1.08it/s]"
     ]
    },
    {
     "name": "stdout",
     "output_type": "stream",
     "text": [
      "[0.7, 0.3, 0.7, 0.1]\n",
      "tf.Tensor([[0.00219564 0.29084086 0.68549544 0.021468  ]], shape=(1, 4), dtype=float32)\n",
      "[0.7, 0.0, 0.7, 0.1]\n",
      "tf.Tensor([[0.00202402 0.27133602 0.70354086 0.02309907]], shape=(1, 4), dtype=float32)\n",
      "[0.7, 0.3, 0.7, 0.1]\n",
      "tf.Tensor([[0.00219564 0.29084086 0.68549544 0.021468  ]], shape=(1, 4), dtype=float32)\n",
      "[0.7, 0.0, 0.7, 0.1]\n",
      "tf.Tensor([[0.00202402 0.27133602 0.70354086 0.02309907]], shape=(1, 4), dtype=float32)\n"
     ]
    },
    {
     "name": "stderr",
     "output_type": "stream",
     "text": [
      " 90%|██████████████████████████████████████████████████████████████████▎       | 26901/30000 [6:22:57<40:03,  1.29it/s]"
     ]
    },
    {
     "name": "stdout",
     "output_type": "stream",
     "text": [
      "-8.06808738277947\n",
      "65\n"
     ]
    },
    {
     "name": "stderr",
     "output_type": "stream",
     "text": [
      " 90%|██████████████████████████████████████████████████████████████████▌       | 27000/30000 [6:24:06<26:14,  1.91it/s]"
     ]
    },
    {
     "name": "stdout",
     "output_type": "stream",
     "text": [
      "-4.031611839456403\n",
      "72\n",
      "[0.6, 0.3, 0.7, 0.1]\n",
      "tf.Tensor([[4.5784031e-06 7.0258183e-03 9.8776037e-01 5.2092327e-03]], shape=(1, 4), dtype=float32)\n",
      "[0.6, 0.0, 0.7, 0.1]\n",
      "tf.Tensor([[5.8567684e-06 7.9574035e-03 9.8629516e-01 5.7415226e-03]], shape=(1, 4), dtype=float32)\n",
      "[0.9, 0.0, 0.7, 0.1]\n",
      "tf.Tensor([[1.4803955e-05 1.5943386e-02 9.7576129e-01 8.2805818e-03]], shape=(1, 4), dtype=float32)\n",
      "[0.6, 0.0, 0.7, 0.1]\n",
      "tf.Tensor([[0.00140264 0.25642028 0.7227447  0.01943236]], shape=(1, 4), dtype=float32)\n",
      "[0.9, 0.0, 0.7, 0.1]\n",
      "tf.Tensor([[0.00124036 0.25424737 0.7282955  0.01621676]], shape=(1, 4), dtype=float32)\n",
      "[0.6, 0.0, 0.7, 0.1]\n",
      "tf.Tensor([[0.00115655 0.2336817  0.7468531  0.01830863]], shape=(1, 4), dtype=float32)\n",
      "[0.9, 0.0, 0.7, 0.1]\n",
      "tf.Tensor([[0.00124036 0.25424737 0.7282955  0.01621676]], shape=(1, 4), dtype=float32)\n",
      "[0.6, 0.0, 0.7, 0.1]\n",
      "tf.Tensor([[0.00115655 0.2336817  0.7468531  0.01830863]], shape=(1, 4), dtype=float32)\n",
      "[0.9, 0.0, 0.7, 0.1]\n",
      "tf.Tensor([[0.00124036 0.25424737 0.7282955  0.01621676]], shape=(1, 4), dtype=float32)\n",
      "[0.6, 0.0, 0.7, 0.1]\n",
      "tf.Tensor([[0.00115655 0.2336817  0.7468531  0.01830863]], shape=(1, 4), dtype=float32)\n",
      "[0.9, 0.0, 0.7, 0.1]\n",
      "tf.Tensor([[0.00124036 0.25424737 0.7282955  0.01621676]], shape=(1, 4), dtype=float32)\n",
      "[0.6, 0.0, 0.7, 0.1]\n",
      "tf.Tensor([[0.00115655 0.2336817  0.7468531  0.01830863]], shape=(1, 4), dtype=float32)\n",
      "[0.9, 0.0, 0.7, 0.1]\n",
      "tf.Tensor([[0.00124036 0.25424737 0.7282955  0.01621676]], shape=(1, 4), dtype=float32)\n",
      "[0.6, 0.0, 0.7, 0.1]\n",
      "tf.Tensor([[0.00115655 0.2336817  0.7468531  0.01830863]], shape=(1, 4), dtype=float32)\n",
      "[0.9, 0.0, 0.7, 0.1]\n",
      "tf.Tensor([[0.00124036 0.25424737 0.7282955  0.01621676]], shape=(1, 4), dtype=float32)\n",
      "[0.6, 0.0, 0.7, 0.1]\n",
      "tf.Tensor([[0.00115655 0.2336817  0.7468531  0.01830863]], shape=(1, 4), dtype=float32)\n",
      "[0.9, 0.0, 0.7, 0.1]\n",
      "tf.Tensor([[0.00124036 0.25424737 0.7282955  0.01621676]], shape=(1, 4), dtype=float32)\n",
      "[0.6, 0.0, 0.7, 0.1]\n"
     ]
    },
    {
     "name": "stderr",
     "output_type": "stream",
     "text": [
      "\r",
      " 90%|██████████████████████████████████████████████████████████████████▌       | 27001/30000 [6:24:06<31:47,  1.57it/s]"
     ]
    },
    {
     "name": "stdout",
     "output_type": "stream",
     "text": [
      "tf.Tensor([[0.00115655 0.2336817  0.7468531  0.01830863]], shape=(1, 4), dtype=float32)\n",
      "[0.9, 0.0, 0.7, 0.1]\n",
      "tf.Tensor([[0.00124036 0.25424737 0.7282955  0.01621676]], shape=(1, 4), dtype=float32)\n",
      "[0.6, 0.0, 0.7, 0.1]\n",
      "tf.Tensor([[0.00115655 0.2336817  0.7468531  0.01830863]], shape=(1, 4), dtype=float32)\n"
     ]
    },
    {
     "name": "stderr",
     "output_type": "stream",
     "text": [
      " 90%|██████████████████████████████████████████████████████████████████▊       | 27101/30000 [6:25:14<19:07,  2.53it/s]"
     ]
    },
    {
     "name": "stdout",
     "output_type": "stream",
     "text": [
      "-4.968675682388106\n",
      "75\n"
     ]
    },
    {
     "name": "stderr",
     "output_type": "stream",
     "text": [
      " 91%|███████████████████████████████████████████████████████████████████       | 27201/30000 [6:26:28<38:32,  1.21it/s]"
     ]
    },
    {
     "name": "stdout",
     "output_type": "stream",
     "text": [
      "-6.784046103322185\n",
      "66\n",
      "[0.8, 0.7, 0.5, 0.7]\n",
      "tf.Tensor([[4.6478494e-06 6.7003728e-03 9.8740965e-01 5.8852723e-03]], shape=(1, 4), dtype=float32)\n"
     ]
    },
    {
     "name": "stderr",
     "output_type": "stream",
     "text": [
      " 91%|███████████████████████████████████████████████████████████████████▎      | 27301/30000 [6:27:40<34:47,  1.29it/s]"
     ]
    },
    {
     "name": "stdout",
     "output_type": "stream",
     "text": [
      "-4.619736114371475\n",
      "73\n"
     ]
    },
    {
     "name": "stderr",
     "output_type": "stream",
     "text": [
      " 91%|███████████████████████████████████████████████████████████████████▌      | 27400/30000 [6:28:46<41:48,  1.04it/s]"
     ]
    },
    {
     "name": "stdout",
     "output_type": "stream",
     "text": [
      "-1.275665283413435\n",
      "81\n",
      "[0.5, 0.6, 0.7, 0.1]\n",
      "tf.Tensor([[6.0760967e-06 7.7681267e-03 9.8524255e-01 6.9832043e-03]], shape=(1, 4), dtype=float32)\n",
      "[0.5, 0.3, 0.7, 0.1]\n",
      "tf.Tensor([[7.9434976e-06 8.9090783e-03 9.8334277e-01 7.7402932e-03]], shape=(1, 4), dtype=float32)\n",
      "[0.8, 0.3, 0.7, 0.1]\n",
      "tf.Tensor([[2.2783768e-05 1.8970829e-02 9.6930403e-01 1.1702367e-02]], shape=(1, 4), dtype=float32)\n",
      "[0.8, 0.0, 0.7, 0.1]\n",
      "tf.Tensor([[0.00206517 0.33302253 0.63994783 0.02496442]], shape=(1, 4), dtype=float32)\n",
      "[0.5, 0.0, 0.7, 0.1]\n",
      "tf.Tensor([[0.00222593 0.32556176 0.6451178  0.02709452]], shape=(1, 4), dtype=float32)\n",
      "[0.8, 0.0, 0.7, 0.1]\n",
      "tf.Tensor([[0.0016842  0.30916968 0.66503745 0.02410874]], shape=(1, 4), dtype=float32)\n",
      "[0.5, 0.0, 0.7, 0.1]\n",
      "tf.Tensor([[0.00168605 0.2845973  0.6864432  0.02727342]], shape=(1, 4), dtype=float32)\n",
      "[0.8, 0.0, 0.7, 0.1]\n",
      "tf.Tensor([[0.00171007 0.29712385 0.6767535  0.02441257]], shape=(1, 4), dtype=float32)\n",
      "[0.5, 0.0, 0.7, 0.1]\n",
      "tf.Tensor([[0.00168605 0.2845973  0.6864432  0.02727342]], shape=(1, 4), dtype=float32)\n",
      "[0.8, 0.0, 0.7, 0.1]\n",
      "tf.Tensor([[0.00171007 0.29712385 0.6767535  0.02441257]], shape=(1, 4), dtype=float32)\n",
      "[0.5, 0.0, 0.7, 0.1]\n",
      "tf.Tensor([[0.00168605 0.2845973  0.6864432  0.02727342]], shape=(1, 4), dtype=float32)\n",
      "[0.8, 0.0, 0.7, 0.1]\n",
      "tf.Tensor([[0.00171007 0.29712385 0.6767535  0.02441257]], shape=(1, 4), dtype=float32)\n",
      "[0.5, 0.0, 0.7, 0.1]\n",
      "tf.Tensor([[0.00168605 0.2845973  0.6864432  0.02727342]], shape=(1, 4), dtype=float32)\n",
      "[0.8, 0.0, 0.7, 0.1]\n",
      "tf.Tensor([[0.00171007 0.29712385 0.6767535  0.02441257]], shape=(1, 4), dtype=float32)"
     ]
    },
    {
     "name": "stderr",
     "output_type": "stream",
     "text": [
      "\r",
      " 91%|███████████████████████████████████████████████████████████████████▌      | 27401/30000 [6:28:47<42:10,  1.03it/s]"
     ]
    },
    {
     "name": "stdout",
     "output_type": "stream",
     "text": [
      "\n",
      "[0.5, 0.0, 0.7, 0.1]\n",
      "tf.Tensor([[0.00168605 0.2845973  0.6864432  0.02727342]], shape=(1, 4), dtype=float32)\n",
      "[0.8, 0.0, 0.7, 0.1]\n",
      "tf.Tensor([[0.00171007 0.29712385 0.6767535  0.02441257]], shape=(1, 4), dtype=float32)\n",
      "[0.5, 0.0, 0.7, 0.1]\n",
      "tf.Tensor([[0.00168605 0.2845973  0.6864432  0.02727342]], shape=(1, 4), dtype=float32)\n",
      "[0.8, 0.0, 0.7, 0.1]\n",
      "tf.Tensor([[0.00171007 0.29712385 0.6767535  0.02441257]], shape=(1, 4), dtype=float32)\n",
      "[0.5, 0.0, 0.7, 0.1]\n",
      "tf.Tensor([[0.00168605 0.2845973  0.6864432  0.02727342]], shape=(1, 4), dtype=float32)\n",
      "[0.8, 0.0, 0.7, 0.1]\n",
      "tf.Tensor([[0.00171007 0.29712385 0.6767535  0.02441257]], shape=(1, 4), dtype=float32)\n"
     ]
    },
    {
     "name": "stderr",
     "output_type": "stream",
     "text": [
      " 92%|███████████████████████████████████████████████████████████████████▊      | 27501/30000 [6:30:03<36:40,  1.14it/s]"
     ]
    },
    {
     "name": "stdout",
     "output_type": "stream",
     "text": [
      "-7.248942986154273\n",
      "74\n"
     ]
    },
    {
     "name": "stderr",
     "output_type": "stream",
     "text": [
      " 92%|████████████████████████████████████████████████████████████████████      | 27600/30000 [6:31:09<24:18,  1.65it/s]"
     ]
    },
    {
     "name": "stdout",
     "output_type": "stream",
     "text": [
      "-2.9609893400371337\n",
      "71\n",
      "[0.4, 0.6, 0.5, 0.7]\n",
      "tf.Tensor([[6.397909e-06 6.760756e-03 9.853814e-01 7.851475e-03]], shape=(1, 4), dtype=float32)\n",
      "[0.7, 0.6, 0.5, 0.7]\n",
      "tf.Tensor([[8.0590626e-06 8.1048273e-03 9.8349774e-01 8.3893603e-03]], shape=(1, 4), dtype=float32)\n",
      "[0.4, 0.6, 0.5, 0.7]\n",
      "tf.Tensor([[2.0437716e-05 1.4191568e-02 9.7363532e-01 1.2152776e-02]], shape=(1, 4), dtype=float32)\n",
      "[0.7, 0.6, 0.5, 0.7]\n",
      "tf.Tensor([[0.00146373 0.22356524 0.7477133  0.02725763]], shape=(1, 4), dtype=float32)\n",
      "[0.4, 0.6, 0.5, 0.7]\n",
      "tf.Tensor([[0.00138974 0.20571916 0.76243764 0.03045348]], shape=(1, 4), dtype=float32)\n",
      "[0.7, 0.6, 0.5, 0.7]\n",
      "tf.Tensor([[0.00146373 0.22356524 0.7477133  0.02725763]], shape=(1, 4), dtype=float32)\n",
      "[0.4, 0.6, 0.5, 0.7]\n",
      "tf.Tensor([[0.00138974 0.20571916 0.76243764 0.03045348]], shape=(1, 4), dtype=float32)\n",
      "[0.7, 0.6, 0.5, 0.7]\n",
      "tf.Tensor([[0.00146373 0.22356524 0.7477133  0.02725763]], shape=(1, 4), dtype=float32)\n",
      "[0.4, 0.6, 0.5, 0.7]\n",
      "tf.Tensor([[0.00138974 0.20571916 0.76243764 0.03045348]], shape=(1, 4), dtype=float32)\n",
      "[0.7, 0.6, 0.5, 0.7]\n",
      "tf.Tensor([[0.00146373 0.22356524 0.7477133  0.02725763]], shape=(1, 4), dtype=float32)\n",
      "[0.4, 0.6, 0.5, 0.7]\n",
      "tf.Tensor([[0.00138974 0.20571916 0.76243764 0.03045348]], shape=(1, 4), dtype=float32)\n",
      "[0.7, 0.6, 0.5, 0.7]\n",
      "tf.Tensor([[0.00146373 0.22356524 0.7477133  0.02725763]], shape=(1, 4), dtype=float32)\n",
      "[0.4, 0.6, 0.5, 0.7]\n",
      "tf.Tensor([[0.00138974 0.20571916 0.76243764 0.03045348]], shape=(1, 4), dtype=float32)\n",
      "[0.7, 0.6, 0.5, 0.7]\n",
      "tf.Tensor([[0.00146373 0.22356524 0.7477133  0.02725763]], shape=(1, 4), dtype=float32)\n",
      "[0.4, 0.6, 0.5, 0.7]\n",
      "tf.Tensor([[0.00138974 0.20571916 0.76243764 0.03045348]], shape=(1, 4), dtype=float32)\n",
      "[0.7, 0.6, 0.5, 0.7]\n",
      "tf.Tensor([[0.00146373 0.22356524 0.7477133  0.02725763]], shape=(1, 4), dtype=float32)\n",
      "[0.4, 0.6, 0.5, 0.7]\n",
      "tf.Tensor([[0.00138974 0.20571916 0.76243764 0.03045348]], shape=(1, 4), dtype=float32)\n",
      "[0.7, 0.6, 0.5, 0.7]\n"
     ]
    },
    {
     "name": "stderr",
     "output_type": "stream",
     "text": [
      "\r",
      " 92%|████████████████████████████████████████████████████████████████████      | 27601/30000 [6:31:10<28:51,  1.39it/s]"
     ]
    },
    {
     "name": "stdout",
     "output_type": "stream",
     "text": [
      "tf.Tensor([[0.00146373 0.22356524 0.7477133  0.02725763]], shape=(1, 4), dtype=float32)\n",
      "[0.4, 0.6, 0.5, 0.7]\n",
      "tf.Tensor([[0.00138974 0.20571916 0.76243764 0.03045348]], shape=(1, 4), dtype=float32)\n",
      "[0.7, 0.6, 0.5, 0.7]\n",
      "tf.Tensor([[0.00146373 0.22356524 0.7477133  0.02725763]], shape=(1, 4), dtype=float32)\n"
     ]
    },
    {
     "name": "stderr",
     "output_type": "stream",
     "text": [
      " 92%|████████████████████████████████████████████████████████████████████▎     | 27701/30000 [6:32:25<25:46,  1.49it/s]"
     ]
    },
    {
     "name": "stdout",
     "output_type": "stream",
     "text": [
      "-6.504707908881221\n",
      "65\n"
     ]
    },
    {
     "name": "stderr",
     "output_type": "stream",
     "text": [
      " 93%|████████████████████████████████████████████████████████████████████▌     | 27800/30000 [6:33:39<22:31,  1.63it/s]"
     ]
    },
    {
     "name": "stdout",
     "output_type": "stream",
     "text": [
      "-7.0043845136539264\n",
      "62\n",
      "[0.1, 0.2, 0.1, 0.1]\n",
      "tf.Tensor([[5.8384212e-06 6.4725014e-03 9.8627162e-01 7.2500543e-03]], shape=(1, 4), dtype=float32)\n",
      "[0.1, 0.0, 0.1, 0.1]\n",
      "tf.Tensor([[7.526001e-06 6.880198e-03 9.849567e-01 8.155604e-03]], shape=(1, 4), dtype=float32)\n",
      "[0.1, 0.3, 0.1, 0.1]\n",
      "tf.Tensor([[1.8779476e-05 1.3008593e-02 9.7571295e-01 1.1259647e-02]], shape=(1, 4), dtype=float32)\n",
      "[0.1, 0.0, 0.1, 0.1]\n",
      "tf.Tensor([[6.2633411e-04 9.9877447e-02 8.5975993e-01 3.9736312e-02]], shape=(1, 4), dtype=float32)\n",
      "[0.1, 0.3, 0.1, 0.1]\n",
      "tf.Tensor([[6.9276115e-04 1.1653354e-01 8.4651440e-01 3.6259346e-02]], shape=(1, 4), dtype=float32)\n",
      "[0.1, 0.0, 0.1, 0.1]\n",
      "tf.Tensor([[6.74707873e-04 1.04634784e-01 8.54893327e-01 3.97972353e-02]], shape=(1, 4), dtype=float32)\n",
      "[0.1, 0.3, 0.1, 0.1]\n",
      "tf.Tensor([[6.9276115e-04 1.1653354e-01 8.4651440e-01 3.6259346e-02]], shape=(1, 4), dtype=float32)\n",
      "[0.1, 0.0, 0.1, 0.1]\n",
      "tf.Tensor([[6.74707873e-04 1.04634784e-01 8.54893327e-01 3.97972353e-02]], shape=(1, 4), dtype=float32)\n",
      "[0.1, 0.3, 0.1, 0.1]\n",
      "tf.Tensor([[6.9276115e-04 1.1653354e-01 8.4651440e-01 3.6259346e-02]], shape=(1, 4), dtype=float32)\n",
      "[0.1, 0.0, 0.1, 0.1]\n",
      "tf.Tensor([[6.74707873e-04 1.04634784e-01 8.54893327e-01 3.97972353e-02]], shape=(1, 4), dtype=float32)\n",
      "[0.1, 0.3, 0.1, 0.1]\n",
      "tf.Tensor([[6.9276115e-04 1.1653354e-01 8.4651440e-01 3.6259346e-02]], shape=(1, 4), dtype=float32)\n",
      "[0.1, 0.0, 0.1, 0.1]\n",
      "tf.Tensor([[6.74707873e-04 1.04634784e-01 8.54893327e-01 3.97972353e-02]], shape=(1, 4), dtype=float32)\n",
      "[0.1, 0.3, 0.1, 0.1]\n",
      "tf.Tensor([[6.9276115e-04 1.1653354e-01 8.4651440e-01 3.6259346e-02]], shape=(1, 4), dtype=float32)\n",
      "[0.1, 0.0, 0.1, 0.1]\n",
      "tf.Tensor([[6.74707873e-04 1.04634784e-01 8.54893327e-01 3.97972353e-02]], shape=(1, 4), dtype=float32)\n",
      "[0.1, 0.3, 0.1, 0.1]\n",
      "tf.Tensor([[6.9276115e-04 1.1653354e-01 8.4651440e-01 3.6259346e-02]], shape=(1, 4), dtype=float32)\n",
      "[0.1, 0.0, 0.1, 0.1]\n",
      "tf.Tensor([[6.74707873e-04 1.04634784e-01 8.54893327e-01 3.97972353e-02]], shape=(1, 4), dtype=float32)\n",
      "[0.1, 0.3, 0.1, 0.1]\n"
     ]
    },
    {
     "name": "stderr",
     "output_type": "stream",
     "text": [
      "\r",
      " 93%|████████████████████████████████████████████████████████████████████▌     | 27801/30000 [6:33:40<30:12,  1.21it/s]"
     ]
    },
    {
     "name": "stdout",
     "output_type": "stream",
     "text": [
      "tf.Tensor([[6.9276115e-04 1.1653354e-01 8.4651440e-01 3.6259346e-02]], shape=(1, 4), dtype=float32)\n",
      "[0.1, 0.0, 0.1, 0.1]\n",
      "tf.Tensor([[6.74707873e-04 1.04634784e-01 8.54893327e-01 3.97972353e-02]], shape=(1, 4), dtype=float32)\n",
      "[0.1, 0.3, 0.1, 0.1]\n",
      "tf.Tensor([[6.9276115e-04 1.1653354e-01 8.4651440e-01 3.6259346e-02]], shape=(1, 4), dtype=float32)\n",
      "[0.1, 0.0, 0.1, 0.1]\n",
      "tf.Tensor([[6.74707873e-04 1.04634784e-01 8.54893327e-01 3.97972353e-02]], shape=(1, 4), dtype=float32)\n"
     ]
    },
    {
     "name": "stderr",
     "output_type": "stream",
     "text": [
      " 93%|████████████████████████████████████████████████████████████████████▊     | 27901/30000 [6:34:51<22:36,  1.55it/s]"
     ]
    },
    {
     "name": "stdout",
     "output_type": "stream",
     "text": [
      "-4.884834762697463\n",
      "64\n"
     ]
    },
    {
     "name": "stderr",
     "output_type": "stream",
     "text": [
      " 93%|█████████████████████████████████████████████████████████████████████     | 28000/30000 [6:36:07<31:52,  1.05it/s]"
     ]
    },
    {
     "name": "stdout",
     "output_type": "stream",
     "text": [
      "-7.0927726105176205\n",
      "65\n",
      "[0.2, 0.5, 0.7, 0.1]\n",
      "tf.Tensor([[7.0697170e-06 6.5628868e-03 9.8485667e-01 8.5734501e-03]], shape=(1, 4), dtype=float32)\n",
      "[0.5, 0.5, 0.7, 0.1]\n",
      "tf.Tensor([[9.378149e-06 7.880571e-03 9.827136e-01 9.396544e-03]], shape=(1, 4), dtype=float32)\n",
      "[0.5, 0.2, 0.7, 0.1]\n",
      "tf.Tensor([[2.1142809e-05 1.2894658e-02 9.7410280e-01 1.2981454e-02]], shape=(1, 4), dtype=float32)\n",
      "[0.8, 0.2, 0.7, 0.1]\n",
      "tf.Tensor([[0.00105215 0.1696978  0.7946334  0.03461662]], shape=(1, 4), dtype=float32)\n",
      "[0.5, 0.2, 0.7, 0.1]\n",
      "tf.Tensor([[0.00093952 0.15217721 0.80860394 0.03827919]], shape=(1, 4), dtype=float32)\n",
      "[0.8, 0.2, 0.7, 0.1]\n",
      "tf.Tensor([[0.00092844 0.16156209 0.80585355 0.03165595]], shape=(1, 4), dtype=float32)\n",
      "[0.5, 0.2, 0.7, 0.1]\n",
      "tf.Tensor([[0.00083696 0.143198   0.8201808  0.03578427]], shape=(1, 4), dtype=float32)\n",
      "[0.8, 0.2, 0.7, 0.1]\n",
      "tf.Tensor([[0.00092844 0.16156209 0.80585355 0.03165595]], shape=(1, 4), dtype=float32)\n",
      "[0.5, 0.2, 0.7, 0.1]\n",
      "tf.Tensor([[0.00083696 0.143198   0.8201808  0.03578427]], shape=(1, 4), dtype=float32)\n",
      "[0.8, 0.2, 0.7, 0.1]\n",
      "tf.Tensor([[0.00092844 0.16156209 0.80585355 0.03165595]], shape=(1, 4), dtype=float32)\n",
      "[0.5, 0.2, 0.7, 0.1]\n",
      "tf.Tensor([[0.00083696 0.143198   0.8201808  0.03578427]], shape=(1, 4), dtype=float32)\n",
      "[0.8, 0.2, 0.7, 0.1]\n",
      "tf.Tensor([[0.00092844 0.16156209 0.80585355 0.03165595]], shape=(1, 4), dtype=float32)\n",
      "[0.5, 0.2, 0.7, 0.1]\n",
      "tf.Tensor([[0.00083696 0.143198   0.8201808  0.03578427]], shape=(1, 4), dtype=float32)\n",
      "[0.8, 0.2, 0.7, 0.1]\n",
      "tf.Tensor([[0.00092844 0.16156209 0.80585355 0.03165595]], shape=(1, 4), dtype=float32)\n",
      "[0.5, 0.2, 0.7, 0.1]\n",
      "tf.Tensor([[0.00083696 0.143198   0.8201808  0.03578427]], shape=(1, 4), dtype=float32)\n",
      "[0.8, 0.2, 0.7, 0.1]\n"
     ]
    },
    {
     "name": "stderr",
     "output_type": "stream",
     "text": [
      "\r",
      " 93%|█████████████████████████████████████████████████████████████████████     | 28001/30000 [6:36:07<30:33,  1.09it/s]"
     ]
    },
    {
     "name": "stdout",
     "output_type": "stream",
     "text": [
      "tf.Tensor([[0.00092844 0.16156209 0.80585355 0.03165595]], shape=(1, 4), dtype=float32)\n",
      "[0.5, 0.2, 0.7, 0.1]\n",
      "tf.Tensor([[0.00083696 0.143198   0.8201808  0.03578427]], shape=(1, 4), dtype=float32)\n",
      "[0.8, 0.2, 0.7, 0.1]\n",
      "tf.Tensor([[0.00092844 0.16156209 0.80585355 0.03165595]], shape=(1, 4), dtype=float32)\n",
      "[0.5, 0.2, 0.7, 0.1]\n",
      "tf.Tensor([[0.00083696 0.143198   0.8201808  0.03578427]], shape=(1, 4), dtype=float32)\n",
      "[0.8, 0.2, 0.7, 0.1]\n",
      "tf.Tensor([[0.00092844 0.16156209 0.80585355 0.03165595]], shape=(1, 4), dtype=float32)\n"
     ]
    },
    {
     "name": "stderr",
     "output_type": "stream",
     "text": [
      " 94%|█████████████████████████████████████████████████████████████████████▎    | 28101/30000 [6:37:27<30:36,  1.03it/s]"
     ]
    },
    {
     "name": "stdout",
     "output_type": "stream",
     "text": [
      "-9.650776259184173\n",
      "62\n"
     ]
    },
    {
     "name": "stderr",
     "output_type": "stream",
     "text": [
      " 94%|█████████████████████████████████████████████████████████████████████▌    | 28200/30000 [6:38:44<15:23,  1.95it/s]"
     ]
    },
    {
     "name": "stdout",
     "output_type": "stream",
     "text": [
      "-5.923504711823055\n",
      "58\n",
      "[0.9, 0.6, 0.6, 0.2]\n",
      "tf.Tensor([[7.5818998e-06 6.9853268e-03 9.8348159e-01 9.5255412e-03]], shape=(1, 4), dtype=float32)\n",
      "[0.6, 0.6, 0.6, 0.2]\n",
      "tf.Tensor([[1.0273528e-05 8.1760334e-03 9.8118949e-01 1.0624193e-02]], shape=(1, 4), dtype=float32)\n",
      "[0.6, 0.3, 0.6, 0.2]\n",
      "tf.Tensor([[2.5667810e-05 1.5355069e-02 9.6971548e-01 1.4903857e-02]], shape=(1, 4), dtype=float32)\n",
      "[0.6, 0.0, 0.6, 0.2]\n",
      "tf.Tensor([[0.00152318 0.19682978 0.756786   0.04486103]], shape=(1, 4), dtype=float32)\n",
      "[0.6, 0.3, 0.6, 0.2]\n",
      "tf.Tensor([[0.00163099 0.20799305 0.74616677 0.04420919]], shape=(1, 4), dtype=float32)\n",
      "[0.6, 0.0, 0.6, 0.2]\n",
      "tf.Tensor([[0.00191111 0.20352477 0.74598056 0.04858362]], shape=(1, 4), dtype=float32)\n",
      "[0.6, 0.3, 0.6, 0.2]\n",
      "tf.Tensor([[0.00224525 0.23973815 0.71381897 0.04419766]], shape=(1, 4), dtype=float32)\n",
      "[0.6, 0.0, 0.6, 0.2]\n",
      "tf.Tensor([[0.00191111 0.20352477 0.74598056 0.04858362]], shape=(1, 4), dtype=float32)\n",
      "[0.6, 0.3, 0.6, 0.2]\n",
      "tf.Tensor([[0.00224525 0.23973815 0.71381897 0.04419766]], shape=(1, 4), dtype=float32)\n",
      "[0.6, 0.0, 0.6, 0.2]\n",
      "tf.Tensor([[0.00191111 0.20352477 0.74598056 0.04858362]], shape=(1, 4), dtype=float32)\n",
      "[0.6, 0.3, 0.6, 0.2]\n",
      "tf.Tensor([[0.00224525 0.23973815 0.71381897 0.04419766]], shape=(1, 4), dtype=float32)\n",
      "[0.6, 0.0, 0.6, 0.2]\n",
      "tf.Tensor([[0.00191111 0.20352477 0.74598056 0.04858362]], shape=(1, 4), dtype=float32)\n",
      "[0.6, 0.3, 0.6, 0.2]\n",
      "tf.Tensor([[0.00224525 0.23973815 0.71381897 0.04419766]], shape=(1, 4), dtype=float32)\n",
      "[0.6, 0.0, 0.6, 0.2]\n",
      "tf.Tensor([[0.00191111 0.20352477 0.74598056 0.04858362]], shape=(1, 4), dtype=float32)\n",
      "[0.6, 0.3, 0.6, 0.2]\n",
      "tf.Tensor([[0.00224525 0.23973815 0.71381897 0.04419766]], shape=(1, 4), dtype=float32)\n",
      "[0.6, 0.0, 0.6, 0.2]\n",
      "tf.Tensor([[0.00191111 0.20352477 0.74598056 0.04858362]], shape=(1, 4), dtype=float32)\n",
      "[0.6, 0.3, 0.6, 0.2]\n"
     ]
    },
    {
     "name": "stderr",
     "output_type": "stream",
     "text": [
      "\r",
      " 94%|█████████████████████████████████████████████████████████████████████▌    | 28201/30000 [6:38:45<22:44,  1.32it/s]"
     ]
    },
    {
     "name": "stdout",
     "output_type": "stream",
     "text": [
      "tf.Tensor([[0.00224525 0.23973815 0.71381897 0.04419766]], shape=(1, 4), dtype=float32)\n",
      "[0.6, 0.0, 0.6, 0.2]\n",
      "tf.Tensor([[0.00191111 0.20352477 0.74598056 0.04858362]], shape=(1, 4), dtype=float32)\n",
      "[0.6, 0.3, 0.6, 0.2]\n",
      "tf.Tensor([[0.00224525 0.23973815 0.71381897 0.04419766]], shape=(1, 4), dtype=float32)\n",
      "[0.6, 0.0, 0.6, 0.2]\n",
      "tf.Tensor([[0.00191111 0.20352477 0.74598056 0.04858362]], shape=(1, 4), dtype=float32)\n"
     ]
    },
    {
     "name": "stderr",
     "output_type": "stream",
     "text": [
      " 94%|█████████████████████████████████████████████████████████████████████▊    | 28301/30000 [6:40:04<27:31,  1.03it/s]"
     ]
    },
    {
     "name": "stdout",
     "output_type": "stream",
     "text": [
      "-7.969405847728646\n",
      "58\n"
     ]
    },
    {
     "name": "stderr",
     "output_type": "stream",
     "text": [
      " 95%|██████████████████████████████████████████████████████████████████████    | 28400/30000 [6:41:14<19:20,  1.38it/s]"
     ]
    },
    {
     "name": "stdout",
     "output_type": "stream",
     "text": [
      "-4.187291440552066\n",
      "74\n",
      "[0.6, 0.4, 0.2, 0.9]\n",
      "tf.Tensor([[8.5981437e-06 7.6517393e-03 9.8198539e-01 1.0354310e-02]], shape=(1, 4), dtype=float32)\n",
      "[0.6, 0.7, 0.2, 0.9]\n",
      "tf.Tensor([[1.0762214e-05 9.2366850e-03 9.7963655e-01 1.1116006e-02]], shape=(1, 4), dtype=float32)\n",
      "[0.3, 0.7, 0.2, 0.9]\n",
      "tf.Tensor([[3.1887819e-05 1.6603218e-02 9.6626341e-01 1.7101435e-02]], shape=(1, 4), dtype=float32)\n",
      "[0.3, 1.0, 0.2, 0.9]\n",
      "tf.Tensor([[0.00203596 0.24210055 0.7168297  0.03903381]], shape=(1, 4), dtype=float32)\n",
      "[0.0, 1.0, 0.2, 0.9]\n",
      "tf.Tensor([[0.0014548  0.19232023 0.7609068  0.04531809]], shape=(1, 4), dtype=float32)\n",
      "[0.3, 1.0, 0.2, 0.9]\n",
      "tf.Tensor([[0.00157855 0.21403062 0.743752   0.04063882]], shape=(1, 4), dtype=float32)\n",
      "[0.0, 1.0, 0.2, 0.9]\n",
      "tf.Tensor([[0.00109244 0.16621213 0.7870253  0.04567011]], shape=(1, 4), dtype=float32)\n",
      "[0.3, 1.0, 0.2, 0.9]\n",
      "tf.Tensor([[0.00129596 0.19530615 0.76310396 0.04029392]], shape=(1, 4), dtype=float32)\n",
      "[0.0, 1.0, 0.2, 0.9]\n",
      "tf.Tensor([[0.00109244 0.16621213 0.7870253  0.04567011]], shape=(1, 4), dtype=float32)\n",
      "[0.3, 1.0, 0.2, 0.9]\n",
      "tf.Tensor([[0.00129596 0.19530615 0.76310396 0.04029392]], shape=(1, 4), dtype=float32)\n",
      "[0.0, 1.0, 0.2, 0.9]\n",
      "tf.Tensor([[0.00109244 0.16621213 0.7870253  0.04567011]], shape=(1, 4), dtype=float32)\n",
      "[0.3, 1.0, 0.2, 0.9]\n",
      "tf.Tensor([[0.00129596 0.19530615 0.76310396 0.04029392]], shape=(1, 4), dtype=float32)\n",
      "[0.0, 1.0, 0.2, 0.9]\n",
      "tf.Tensor([[0.00109244 0.16621213 0.7870253  0.04567011]], shape=(1, 4), dtype=float32)\n",
      "[0.3, 1.0, 0.2, 0.9]\n",
      "tf.Tensor([[0.00129596 0.19530615 0.76310396 0.04029392]], shape=(1, 4), dtype=float32)\n",
      "[0.0, 1.0, 0.2, 0.9]\n",
      "tf.Tensor([[0.00109244 0.16621213 0.7870253  0.04567011]], shape=(1, 4), dtype=float32)\n",
      "[0.3, 1.0, 0.2, 0.9]\n",
      "tf.Tensor([[0.00129596 0.19530615 0.76310396 0.04029392]], shape=(1, 4), dtype=float32)\n",
      "[0.0, 1.0, 0.2, 0.9]\n"
     ]
    },
    {
     "name": "stderr",
     "output_type": "stream",
     "text": [
      "\r",
      " 95%|██████████████████████████████████████████████████████████████████████    | 28401/30000 [6:41:16<24:16,  1.10it/s]"
     ]
    },
    {
     "name": "stdout",
     "output_type": "stream",
     "text": [
      "tf.Tensor([[0.00109244 0.16621213 0.7870253  0.04567011]], shape=(1, 4), dtype=float32)\n",
      "[0.3, 1.0, 0.2, 0.9]\n",
      "tf.Tensor([[0.00129596 0.19530615 0.76310396 0.04029392]], shape=(1, 4), dtype=float32)\n",
      "[0.0, 1.0, 0.2, 0.9]\n",
      "tf.Tensor([[0.00109244 0.16621213 0.7870253  0.04567011]], shape=(1, 4), dtype=float32)\n",
      "[0.3, 1.0, 0.2, 0.9]\n",
      "tf.Tensor([[0.00129596 0.19530615 0.76310396 0.04029392]], shape=(1, 4), dtype=float32)\n"
     ]
    },
    {
     "name": "stderr",
     "output_type": "stream",
     "text": [
      " 95%|██████████████████████████████████████████████████████████████████████▎   | 28501/30000 [6:42:37<24:51,  1.00it/s]"
     ]
    },
    {
     "name": "stdout",
     "output_type": "stream",
     "text": [
      "-8.933034838265549\n",
      "65\n"
     ]
    },
    {
     "name": "stderr",
     "output_type": "stream",
     "text": [
      " 95%|██████████████████████████████████████████████████████████████████████▌   | 28600/30000 [6:43:47<16:42,  1.40it/s]"
     ]
    },
    {
     "name": "stdout",
     "output_type": "stream",
     "text": [
      "-4.272486439987393\n",
      "71\n",
      "[0.1, 0.5, 0.5, 0.7]\n",
      "tf.Tensor([[4.8687807e-06 5.7038730e-03 9.8669678e-01 7.5944262e-03]], shape=(1, 4), dtype=float32)\n",
      "[0.4, 0.5, 0.5, 0.7]\n",
      "tf.Tensor([[6.7880551e-06 6.5873428e-03 9.8474878e-01 8.6570745e-03]], shape=(1, 4), dtype=float32)\n",
      "[0.4, 0.8, 0.5, 0.7]\n",
      "tf.Tensor([[1.6856724e-05 1.1680786e-02 9.7595870e-01 1.2343664e-02]], shape=(1, 4), dtype=float32)\n",
      "[0.7, 0.8, 0.5, 0.7]\n",
      "tf.Tensor([[0.0014895  0.20211476 0.76386374 0.03253203]], shape=(1, 4), dtype=float32)\n",
      "[0.4, 0.8, 0.5, 0.7]\n",
      "tf.Tensor([[0.00165819 0.20564002 0.75895274 0.03374906]], shape=(1, 4), dtype=float32)\n",
      "[0.7, 0.8, 0.5, 0.7]\n",
      "tf.Tensor([[0.00111025 0.19112466 0.7792172  0.02854785]], shape=(1, 4), dtype=float32)\n",
      "[0.4, 0.8, 0.5, 0.7]\n",
      "tf.Tensor([[0.0009804  0.16789205 0.7990094  0.03211819]], shape=(1, 4), dtype=float32)\n",
      "[0.7, 0.8, 0.5, 0.7]\n",
      "tf.Tensor([[0.00111025 0.19112466 0.7792172  0.02854785]], shape=(1, 4), dtype=float32)\n",
      "[0.4, 0.8, 0.5, 0.7]\n",
      "tf.Tensor([[0.0009804  0.16789205 0.7990094  0.03211819]], shape=(1, 4), dtype=float32)\n",
      "[0.7, 0.8, 0.5, 0.7]\n",
      "tf.Tensor([[0.00111025 0.19112466 0.7792172  0.02854785]], shape=(1, 4), dtype=float32)\n",
      "[0.4, 0.8, 0.5, 0.7]\n",
      "tf.Tensor([[0.0009804  0.16789205 0.7990094  0.03211819]], shape=(1, 4), dtype=float32)\n",
      "[0.7, 0.8, 0.5, 0.7]\n",
      "tf.Tensor([[0.00111025 0.19112466 0.7792172  0.02854785]], shape=(1, 4), dtype=float32)\n",
      "[0.4, 0.8, 0.5, 0.7]\n",
      "tf.Tensor([[0.0009804  0.16789205 0.7990094  0.03211819]], shape=(1, 4), dtype=float32)\n",
      "[0.7, 0.8, 0.5, 0.7]\n",
      "tf.Tensor([[0.00111025 0.19112466 0.7792172  0.02854785]], shape=(1, 4), dtype=float32)\n",
      "[0.4, 0.8, 0.5, 0.7]\n",
      "tf.Tensor([[0.0009804  0.16789205 0.7990094  0.03211819]], shape=(1, 4), dtype=float32)\n",
      "[0.7, 0.8, 0.5, 0.7]\n",
      "tf.Tensor([[0.00111025 0.19112466 0.7792172  0.02854785]], shape=(1, 4), dtype=float32)\n",
      "[0.4, 0.8, 0.5, 0.7]\n",
      "tf.Tensor([[0.0009804  0.16789205 0.7990094  0.03211819]], shape=(1, 4), dtype=float32)\n"
     ]
    },
    {
     "name": "stderr",
     "output_type": "stream",
     "text": [
      "\r",
      " 95%|██████████████████████████████████████████████████████████████████████▌   | 28601/30000 [6:43:49<20:53,  1.12it/s]"
     ]
    },
    {
     "name": "stdout",
     "output_type": "stream",
     "text": [
      "[0.7, 0.8, 0.5, 0.7]\n",
      "tf.Tensor([[0.00111025 0.19112466 0.7792172  0.02854785]], shape=(1, 4), dtype=float32)\n",
      "[0.4, 0.8, 0.5, 0.7]\n",
      "tf.Tensor([[0.0009804  0.16789205 0.7990094  0.03211819]], shape=(1, 4), dtype=float32)\n",
      "[0.7, 0.8, 0.5, 0.7]\n",
      "tf.Tensor([[0.00111025 0.19112466 0.7792172  0.02854785]], shape=(1, 4), dtype=float32)\n"
     ]
    },
    {
     "name": "stderr",
     "output_type": "stream",
     "text": [
      " 96%|██████████████████████████████████████████████████████████████████████▊   | 28701/30000 [6:45:03<13:08,  1.65it/s]"
     ]
    },
    {
     "name": "stdout",
     "output_type": "stream",
     "text": [
      "-5.417961892577444\n",
      "71\n"
     ]
    },
    {
     "name": "stderr",
     "output_type": "stream",
     "text": [
      " 96%|██████████████████████████████████████████████████████████████████████▉   | 28763/30000 [6:45:46<13:51,  1.49it/s]"
     ]
    }
   ],
   "source": [
    "agent.learn()"
   ]
  },
  {
   "cell_type": "code",
   "execution_count": null,
   "metadata": {},
   "outputs": [],
   "source": [
    "agent.trial()"
   ]
  },
  {
   "cell_type": "code",
   "execution_count": null,
   "metadata": {},
   "outputs": [],
   "source": []
  }
 ],
 "metadata": {
  "kernelspec": {
   "display_name": "tfgpu",
   "language": "python",
   "name": "tfgpu"
  },
  "language_info": {
   "codemirror_mode": {
    "name": "ipython",
    "version": 3
   },
   "file_extension": ".py",
   "mimetype": "text/x-python",
   "name": "python",
   "nbconvert_exporter": "python",
   "pygments_lexer": "ipython3",
   "version": "3.7.8"
  }
 },
 "nbformat": 4,
 "nbformat_minor": 4
}
