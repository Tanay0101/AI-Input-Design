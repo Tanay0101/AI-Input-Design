{
 "cells": [
  {
   "cell_type": "code",
   "execution_count": 1,
   "metadata": {},
   "outputs": [],
   "source": [
    "import os\n",
    "from copy import deepcopy\n",
    "\n",
    "from tqdm import tqdm\n",
    "import numpy as np\n",
    "import tensorflow as tf\n",
    "from tensorflow import keras\n",
    "import matplotlib.pyplot as plt\n",
    "\n",
    "from Environment import Environment, make_one_hot, give_mapping\n",
    "from Networks import UserActor, AsstActor, CentralizedCritic"
   ]
  },
  {
   "cell_type": "code",
   "execution_count": 2,
   "metadata": {},
   "outputs": [],
   "source": [
    "def give_prev_steps(prev_steps_assist, steps):\n",
    "    prev_steps_assist = [[0,0,0,0,-1,-1] for i in range(steps-1)]\n",
    "    return prev_steps_assist"
   ]
  },
  {
   "cell_type": "code",
   "execution_count": 8,
   "metadata": {},
   "outputs": [],
   "source": [
    "class Agent:\n",
    "    def __init__(self):\n",
    "        self.memory_len = 6\n",
    "        self.user_actor = UserActor()\n",
    "        self.asst_actor = AsstActor(self.memory_len)\n",
    "        self.user_critic = CentralizedCritic(self.memory_len)\n",
    "        self.asst_critic = CentralizedCritic(self.memory_len)\n",
    "        self.optimizer_actors = tf.keras.optimizers.Adam(lr = 0.0001)\n",
    "        self.optimizer_critic = tf.keras.optimizers.Adam(lr = 0.0002)\n",
    "        \n",
    "        self.gamma = 0.90\n",
    "        self.env = Environment()\n",
    "        self.env.cells = np.array([[0.1, 0.1], [0.9, 0.9], [0.1, 0.9], [0.9, 0.1], [0.5, 0.3], [0.5, 0.7]])\n",
    "        self.env_cell_mapping = give_mapping(self.env.cells)\n",
    "        self.env_cell_mapping = self.env_cell_mapping[np.newaxis, :, :, np.newaxis]\n",
    "        self.eps = 10e-6\n",
    "    \n",
    "    def learn(self):\n",
    "        max_steps = 40\n",
    "        running_reward = 0\n",
    "        reached = 0\n",
    "        best = 0\n",
    "        \n",
    "        for epoch in tqdm(range(100000)):\n",
    "            \n",
    "            user_action_probs_history = []\n",
    "            asst_action_probs_history = []\n",
    "            user_critic_value_history = []\n",
    "            asst_critic_value_history = []\n",
    "            rewards_history = []\n",
    "            returns = [] #Returns\n",
    "            \n",
    "            \n",
    "            env = self.env\n",
    "#             if epoch%100==0:\n",
    "#                 self.env = Environment()\n",
    "#                 env = self.env\n",
    "#         #         self.env.cells = np.array([[0.1, 0.1], [0.9, 0.9], [0.1, 0.9], [0.9, 0.1], [0.5, 0.3], [0.5, 0.7]])\n",
    "#                 self.env_cell_mapping = give_mapping(self.env.cells)\n",
    "#                 self.env_cell_mapping = self.env_cell_mapping[np.newaxis, :, :, np.newaxis]\n",
    "            \n",
    "            done = False\n",
    "            episode_reward = 0\n",
    "            start, dest = env.give_start_dest()\n",
    "            ob_user = [start[0], start[1], dest[0], dest[1]]\n",
    "            prev_steps_assist = []\n",
    "            prev_steps_assist = give_prev_steps(prev_steps_assist, self.memory_len)\n",
    "            step = 0\n",
    "            episode_reward = 0\n",
    "            \n",
    "            with tf.GradientTape(persistent = True) as tape:\n",
    "                while not done and step<max_steps:\n",
    "                    curr_loc = ob_user[:2]\n",
    "                    target_loc = ob_user[2:4]\n",
    "                    step+=1\n",
    "                    ob_user = np.array(ob_user)[np.newaxis]\n",
    "                    user_probs = self.user_actor.model(ob_user)\n",
    "                    user_action = np.random.choice(4, p=np.squeeze(user_probs))\n",
    "                    user_action_probs_history.append(tf.math.log(user_probs[0, user_action]))\n",
    "\n",
    "                    action_user_one_hot = make_one_hot(user_action, 4)\n",
    "\n",
    "                    ob_assist = [action_user_one_hot + curr_loc] \n",
    "                    ob_assist = prev_steps_assist + ob_assist\n",
    "                    ob_assist = np.array(ob_assist)[np.newaxis]\n",
    "                    \n",
    "                    asst_probs = self.asst_actor.model(ob_assist)\n",
    "                    asst_action = np.random.choice(4, p=np.squeeze(asst_probs))\n",
    "                    asst_action_probs_history.append(tf.math.log(asst_probs[0, asst_action]))\n",
    "                    \n",
    "                    asst_output_one_hot = np.array(make_one_hot(asst_action, 4))[np.newaxis]\n",
    "                    \n",
    "                    user_critic_value = self.user_critic.model([ob_user, ob_assist, asst_output_one_hot])\n",
    "                    user_critic_value_history.append(user_critic_value)\n",
    "                    \n",
    "                    asst_critic_value = self.asst_critic.model([ob_user, ob_assist, asst_output_one_hot])\n",
    "                    asst_critic_value_history.append(asst_critic_value)\n",
    "                    \n",
    "                    new_loc, reward_user, reward_assist, done = self.env.step(user_action, asst_action + 1, target_loc, curr_loc)\n",
    "                    \n",
    "                    next_ob_user = new_loc[:]\n",
    "                    next_ob_user = next_ob_user + target_loc\n",
    "\n",
    "                    ob_user = next_ob_user\n",
    "                    prev_steps_assist = np.squeeze(ob_assist).tolist()[1:]\n",
    "                    \n",
    "                    rewards_history.append(reward_user)\n",
    "                    episode_reward+=reward_user\n",
    "                    \n",
    "                    if done:\n",
    "                        reached += 1\n",
    "\n",
    "                running_reward = 0.05 * episode_reward + (1 - 0.05) * running_reward\n",
    "\n",
    "                discounted_sum = 0\n",
    "                for r in rewards_history[::-1]:\n",
    "                    discounted_sum = r + self.gamma * discounted_sum\n",
    "                    returns.append(discounted_sum)\n",
    "                returns.reverse()\n",
    "                \n",
    "                user_critic_losses = []\n",
    "                asst_critic_losses = []\n",
    "                user_losses = []\n",
    "                asst_losses = []\n",
    "                \n",
    "                for log_prob_user, log_prob_asst, val_user, val_asst, ret in zip(user_action_probs_history, asst_action_probs_history, user_critic_value_history,\\\n",
    "                                                                 asst_critic_value_history, returns):\n",
    "                    diff_user = ret - val_user\n",
    "                    diff_asst = ret - val_asst\n",
    "                    user_losses.append(-log_prob_user*diff_user)\n",
    "                    asst_losses.append(-log_prob_asst*diff_asst)\n",
    "                    user_critic_losses.append(self.huber_loss(tf.expand_dims(val_user, 0), tf.expand_dims(ret, 0)))\n",
    "                    asst_critic_losses.append(self.huber_loss(tf.expand_dims(val_asst, 0), tf.expand_dims(ret, 0)))\n",
    "\n",
    "                user_loss = sum(user_losses)\n",
    "                asst_loss = sum(asst_losses)\n",
    "                user_critic_loss = sum(user_critic_losses)\n",
    "                asst_critic_loss = sum(asst_critic_losses)\n",
    "                \n",
    "            grads = tape.gradient(user_loss, self.user_actor.model.trainable_variables)\n",
    "            self.optimizer_actors.apply_gradients(zip(grads, self.user_actor.model.trainable_variables))\n",
    "\n",
    "            grads = tape.gradient(asst_loss, self.asst_actor.model.trainable_variables)\n",
    "            self.optimizer_actors.apply_gradients(zip(grads, self.asst_actor.model.trainable_variables))\n",
    "\n",
    "            grads = tape.gradient(user_critic_loss, self.user_critic.model.trainable_variables)\n",
    "            self.optimizer_critic.apply_gradients(zip(grads, self.user_critic.model.trainable_variables))\n",
    "            \n",
    "            grads = tape.gradient(asst_critic_loss, self.asst_critic.model.trainable_variables)\n",
    "            self.optimizer_critic.apply_gradients(zip(grads, self.asst_critic.model.trainable_variables))\n",
    "            \n",
    "            \n",
    "            if epoch%100 == 0:\n",
    "                print(running_reward)\n",
    "            \n",
    "            if epoch and epoch%100 == 0:\n",
    "                print(reached)\n",
    "                if reached>=best:\n",
    "                    best = reached\n",
    "                    tf.keras.models.save_model(self.user_actor.model, 'user.h5')\n",
    "                    tf.keras.models.save_model(self.asst_actor.model, 'asst.h5')\n",
    "                    tf.keras.models.save_model(self.user_critic.model, 'user_critic.h5')\n",
    "                    tf.keras.models.save_model(self.asst_critic.model, 'asst_critic.h5')\n",
    "                    \n",
    "                reached = 0\n",
    "                \n",
    "                if epoch%200 == 0:\n",
    "                    self.trial()\n",
    "                    \n",
    "                    if epoch%1000 == 0:\n",
    "                        if epoch<=10000:\n",
    "                            max_steps -= 2\n",
    "                            max_steps = max(max_steps, 10)\n",
    "                        \n",
    "                        elif epoch%2000 == 0:\n",
    "                            max_steps -= 1\n",
    "                            max_steps = max(max_steps, 6)\n",
    "                            \n",
    "                        \n",
    "    def trial(self):\n",
    "        env = self.env\n",
    "        max_steps = 10\n",
    "        done = False\n",
    "        episode_reward = 0\n",
    "        start, dest = env.give_start_dest()\n",
    "        ob_user = [start[0], start[1], dest[0], dest[1]]\n",
    "        prev_steps_assist = []\n",
    "        prev_steps_assist = give_prev_steps(prev_steps_assist, self.memory_len)\n",
    "        step = 0\n",
    "        episode_reward = 0\n",
    "\n",
    "        while not done and step<max_steps:\n",
    "            curr_loc = ob_user[:2]\n",
    "            target_loc = ob_user[2:4]\n",
    "            step+=1\n",
    "#             print(ob_user)\n",
    "\n",
    "            ob_user = np.array(ob_user)[np.newaxis]\n",
    "            user_probs = self.user_actor.model(ob_user)\n",
    "            user_action = np.argmax(np.squeeze(user_probs))\n",
    "\n",
    "            action_user_one_hot = make_one_hot(user_action, 4)\n",
    "\n",
    "            ob_assist = [action_user_one_hot + curr_loc] \n",
    "            ob_assist = prev_steps_assist + ob_assist\n",
    "            ob_assist = np.array(ob_assist)[np.newaxis]\n",
    "\n",
    "            asst_probs = self.asst_actor.model(ob_assist)\n",
    "#             print(asst_probs)\n",
    "            asst_action = np.argmax(np.squeeze(asst_probs)) \n",
    "            gain_freq[asst_action]+=1\n",
    "            new_loc, reward_user, reward_assist, done = self.env.step(user_action, asst_action + 1, target_loc, curr_loc)\n",
    "\n",
    "            next_ob_user = new_loc[:]\n",
    "            next_ob_user = next_ob_user + target_loc\n",
    "\n",
    "            ob_user = next_ob_user\n",
    "            prev_steps_assist = np.squeeze(ob_assist).tolist()[1:]\n",
    "            episode_reward+=reward_user\n",
    "\n",
    "\n"
   ]
  },
  {
   "cell_type": "code",
   "execution_count": 9,
   "metadata": {
    "scrolled": true
   },
   "outputs": [
    {
     "name": "stdout",
     "output_type": "stream",
     "text": [
      "Model: \"functional_9\"\n",
      "__________________________________________________________________________________________________\n",
      "Layer (type)                    Output Shape         Param #     Connected to                     \n",
      "==================================================================================================\n",
      "input_9 (InputLayer)            [(None, 4)]          0                                            \n",
      "__________________________________________________________________________________________________\n",
      "tf_op_layer_strided_slice_6 (Te [(None, 2)]          0           input_9[0][0]                    \n",
      "__________________________________________________________________________________________________\n",
      "tf_op_layer_strided_slice_7 (Te [(None, 2)]          0           input_9[0][0]                    \n",
      "__________________________________________________________________________________________________\n",
      "subtract_3 (Subtract)           (None, 2)            0           tf_op_layer_strided_slice_6[0][0]\n",
      "                                                                 tf_op_layer_strided_slice_7[0][0]\n",
      "__________________________________________________________________________________________________\n",
      "dense_20 (Dense)                (None, 32)           96          subtract_3[0][0]                 \n",
      "__________________________________________________________________________________________________\n",
      "dense_21 (Dense)                (None, 64)           2112        dense_20[0][0]                   \n",
      "__________________________________________________________________________________________________\n",
      "dense_22 (Dense)                (None, 4)            260         dense_21[0][0]                   \n",
      "==================================================================================================\n",
      "Total params: 2,468\n",
      "Trainable params: 2,468\n",
      "Non-trainable params: 0\n",
      "__________________________________________________________________________________________________\n",
      "Model: \"functional_11\"\n",
      "_________________________________________________________________\n",
      "Layer (type)                 Output Shape              Param #   \n",
      "=================================================================\n",
      "input_10 (InputLayer)        [(None, 6, 6)]            0         \n",
      "_________________________________________________________________\n",
      "dense_23 (Dense)             (None, 6, 32)             224       \n",
      "_________________________________________________________________\n",
      "lstm_3 (LSTM)                (None, 32)                8320      \n",
      "_________________________________________________________________\n",
      "dense_24 (Dense)             (None, 32)                1056      \n",
      "_________________________________________________________________\n",
      "dense_25 (Dense)             (None, 4)                 132       \n",
      "=================================================================\n",
      "Total params: 9,732\n",
      "Trainable params: 9,732\n",
      "Non-trainable params: 0\n",
      "_________________________________________________________________\n",
      "Model: \"functional_13\"\n",
      "__________________________________________________________________________________________________\n",
      "Layer (type)                    Output Shape         Param #     Connected to                     \n",
      "==================================================================================================\n",
      "input_11 (InputLayer)           [(None, 4)]          0                                            \n",
      "__________________________________________________________________________________________________\n",
      "tf_op_layer_strided_slice_8 (Te [(None, 2)]          0           input_11[0][0]                   \n",
      "__________________________________________________________________________________________________\n",
      "tf_op_layer_strided_slice_9 (Te [(None, 2)]          0           input_11[0][0]                   \n",
      "__________________________________________________________________________________________________\n",
      "subtract_4 (Subtract)           (None, 2)            0           tf_op_layer_strided_slice_8[0][0]\n",
      "                                                                 tf_op_layer_strided_slice_9[0][0]\n",
      "__________________________________________________________________________________________________\n",
      "dense_26 (Dense)                (None, 32)           96          subtract_4[0][0]                 \n",
      "__________________________________________________________________________________________________\n",
      "input_12 (InputLayer)           [(None, 6, 6)]       0                                            \n",
      "__________________________________________________________________________________________________\n",
      "dense_27 (Dense)                (None, 64)           2112        dense_26[0][0]                   \n",
      "__________________________________________________________________________________________________\n",
      "dense_29 (Dense)                (None, 6, 32)        224         input_12[0][0]                   \n",
      "__________________________________________________________________________________________________\n",
      "input_13 (InputLayer)           [(None, 4)]          0                                            \n",
      "__________________________________________________________________________________________________\n",
      "dense_28 (Dense)                (None, 32)           2080        dense_27[0][0]                   \n",
      "__________________________________________________________________________________________________\n",
      "lstm_4 (LSTM)                   (None, 32)           8320        dense_29[0][0]                   \n",
      "__________________________________________________________________________________________________\n",
      "dense_30 (Dense)                (None, 32)           160         input_13[0][0]                   \n",
      "__________________________________________________________________________________________________\n",
      "concatenate_2 (Concatenate)     (None, 96)           0           dense_28[0][0]                   \n",
      "                                                                 lstm_4[0][0]                     \n",
      "                                                                 dense_30[0][0]                   \n",
      "__________________________________________________________________________________________________\n",
      "dense_31 (Dense)                (None, 32)           3104        concatenate_2[0][0]              \n",
      "__________________________________________________________________________________________________\n",
      "dense_32 (Dense)                (None, 1)            33          dense_31[0][0]                   \n",
      "==================================================================================================\n",
      "Total params: 16,129\n",
      "Trainable params: 16,129\n",
      "Non-trainable params: 0\n",
      "__________________________________________________________________________________________________\n",
      "Model: \"functional_15\"\n",
      "__________________________________________________________________________________________________\n",
      "Layer (type)                    Output Shape         Param #     Connected to                     \n",
      "==================================================================================================\n",
      "input_14 (InputLayer)           [(None, 4)]          0                                            \n",
      "__________________________________________________________________________________________________\n",
      "tf_op_layer_strided_slice_10 (T [(None, 2)]          0           input_14[0][0]                   \n",
      "__________________________________________________________________________________________________\n",
      "tf_op_layer_strided_slice_11 (T [(None, 2)]          0           input_14[0][0]                   \n",
      "__________________________________________________________________________________________________\n",
      "subtract_5 (Subtract)           (None, 2)            0           tf_op_layer_strided_slice_10[0][0\n",
      "                                                                 tf_op_layer_strided_slice_11[0][0\n",
      "__________________________________________________________________________________________________\n",
      "dense_33 (Dense)                (None, 32)           96          subtract_5[0][0]                 \n",
      "__________________________________________________________________________________________________\n",
      "input_15 (InputLayer)           [(None, 6, 6)]       0                                            \n",
      "__________________________________________________________________________________________________\n",
      "dense_34 (Dense)                (None, 64)           2112        dense_33[0][0]                   \n",
      "__________________________________________________________________________________________________\n",
      "dense_36 (Dense)                (None, 6, 32)        224         input_15[0][0]                   \n",
      "__________________________________________________________________________________________________\n",
      "input_16 (InputLayer)           [(None, 4)]          0                                            \n",
      "__________________________________________________________________________________________________\n",
      "dense_35 (Dense)                (None, 32)           2080        dense_34[0][0]                   \n",
      "__________________________________________________________________________________________________\n",
      "lstm_5 (LSTM)                   (None, 32)           8320        dense_36[0][0]                   \n",
      "__________________________________________________________________________________________________\n",
      "dense_37 (Dense)                (None, 32)           160         input_16[0][0]                   \n",
      "__________________________________________________________________________________________________\n",
      "concatenate_3 (Concatenate)     (None, 96)           0           dense_35[0][0]                   \n",
      "                                                                 lstm_5[0][0]                     \n",
      "                                                                 dense_37[0][0]                   \n",
      "__________________________________________________________________________________________________\n",
      "dense_38 (Dense)                (None, 32)           3104        concatenate_3[0][0]              \n",
      "__________________________________________________________________________________________________\n",
      "dense_39 (Dense)                (None, 1)            33          dense_38[0][0]                   \n",
      "==================================================================================================\n",
      "Total params: 16,129\n",
      "Trainable params: 16,129\n",
      "Non-trainable params: 0\n",
      "__________________________________________________________________________________________________\n",
      "WARNING:tensorflow:No training configuration found in the save file, so the model was *not* compiled. Compile it manually.\n"
     ]
    },
    {
     "name": "stdout",
     "output_type": "stream",
     "text": [
      "WARNING:tensorflow:No training configuration found in the save file, so the model was *not* compiled. Compile it manually.\n",
      "Icon Locations:\n",
      "[[0.  0.3]\n",
      " [0.9 0.4]\n",
      " [0.4 0.7]\n",
      " [0.3 0.5]\n",
      " [0.9 0.1]\n",
      " [0.6 0.7]]\n",
      "Icon usage Probabilities\n",
      "[0.16666667 0.16666667 0.16666667 0.16666667 0.16666667 0.16666667]\n"
     ]
    }
   ],
   "source": [
    "agent = Agent()"
   ]
  },
  {
   "cell_type": "code",
   "execution_count": 5,
   "metadata": {},
   "outputs": [],
   "source": [
    "# agent.user_actor.model = tf.keras.models.load_model('user.h5')\n",
    "# agent.user_critic.model = tf.keras.models.load_model('user_critic.h5')\n",
    "# agent.asst_actor.model = tf.keras.models.load_model('asst.h5')\n",
    "# agent.asst_critic.model = tf.keras.models.load_model('asst_critic.h5')"
   ]
  },
  {
   "cell_type": "code",
   "execution_count": 6,
   "metadata": {
    "scrolled": true
   },
   "outputs": [
    {
     "name": "stderr",
     "output_type": "stream",
     "text": [
      "  0%|                                                                            | 1/100000 [00:02<71:29:58,  2.57s/it]"
     ]
    },
    {
     "name": "stdout",
     "output_type": "stream",
     "text": [
      "-2.0\n"
     ]
    },
    {
     "name": "stderr",
     "output_type": "stream",
     "text": [
      "  0%|                                                                          | 101/100000 [04:37<54:41:04,  1.97s/it]"
     ]
    },
    {
     "name": "stdout",
     "output_type": "stream",
     "text": [
      "-33.975394392852955\n",
      "12\n"
     ]
    },
    {
     "name": "stderr",
     "output_type": "stream",
     "text": [
      "  0%|▏                                                                         | 200/100000 [09:07<76:24:21,  2.76s/it]"
     ]
    },
    {
     "name": "stdout",
     "output_type": "stream",
     "text": [
      "-33.48539261847584\n",
      "13\n",
      "[0.3, 0.8, 0.9, 0.9]\n",
      "tf.Tensor([[0.280877   0.23288698 0.23519354 0.25104254]], shape=(1, 4), dtype=float32)\n",
      "[0.3, 0.7, 0.9, 0.9]\n",
      "tf.Tensor([[0.281829   0.23321794 0.23450685 0.25044617]], shape=(1, 4), dtype=float32)\n",
      "[0.3, 0.6, 0.9, 0.9]\n",
      "tf.Tensor([[0.2789592  0.23424608 0.23793837 0.2488563 ]], shape=(1, 4), dtype=float32)\n",
      "[0.2, 0.6, 0.9, 0.9]\n",
      "tf.Tensor([[0.28229347 0.23425335 0.23948729 0.24396592]], shape=(1, 4), dtype=float32)\n",
      "[0.2, 0.5, 0.9, 0.9]\n",
      "tf.Tensor([[0.27885064 0.23924883 0.24030602 0.24159452]], shape=(1, 4), dtype=float32)\n",
      "[0.1, 0.5, 0.9, 0.9]\n",
      "tf.Tensor([[0.27784646 0.2437553  0.23988433 0.23851387]], shape=(1, 4), dtype=float32)\n",
      "[0.0, 0.5, 0.9, 0.9]\n",
      "tf.Tensor([[0.28160787 0.23947619 0.24457896 0.23433705]], shape=(1, 4), dtype=float32)\n",
      "[0.0, 0.4, 0.9, 0.9]\n",
      "tf.Tensor([[0.27736518 0.24421318 0.24288015 0.23554151]], shape=(1, 4), dtype=float32)\n",
      "[0.0, 0.4, 0.9, 0.9]\n",
      "tf.Tensor([[0.27606818 0.24620406 0.24085528 0.23687251]], shape=(1, 4), dtype=float32)\n",
      "[0.0, 0.4, 0.9, 0.9]\n"
     ]
    },
    {
     "name": "stderr",
     "output_type": "stream",
     "text": [
      "\r",
      "  0%|▏                                                                         | 201/100000 [09:08<65:44:17,  2.37s/it]"
     ]
    },
    {
     "name": "stdout",
     "output_type": "stream",
     "text": [
      "tf.Tensor([[0.27665576 0.2461696  0.24168679 0.23548786]], shape=(1, 4), dtype=float32)\n"
     ]
    },
    {
     "name": "stderr",
     "output_type": "stream",
     "text": [
      "  0%|▏                                                                         | 301/100000 [13:41<78:55:37,  2.85s/it]"
     ]
    },
    {
     "name": "stdout",
     "output_type": "stream",
     "text": [
      "-34.865132971792825\n",
      "13\n"
     ]
    },
    {
     "name": "stderr",
     "output_type": "stream",
     "text": [
      "  0%|▎                                                                         | 400/100000 [18:14<81:30:02,  2.95s/it]"
     ]
    },
    {
     "name": "stdout",
     "output_type": "stream",
     "text": [
      "-36.86885343046675\n",
      "13\n",
      "[0.8, 0.0, 0.9, 0.9]\n",
      "tf.Tensor([[0.27603853 0.22901861 0.22362499 0.27131778]], shape=(1, 4), dtype=float32)\n",
      "[0.8, 0.1, 0.9, 0.9]\n",
      "tf.Tensor([[0.27128905 0.22855246 0.2213626  0.27879578]], shape=(1, 4), dtype=float32)\n",
      "[0.8, 0.5, 0.9, 0.9]\n",
      "tf.Tensor([[0.2701196  0.2269433  0.2174229  0.28551427]], shape=(1, 4), dtype=float32)\n",
      "[0.8, 0.9, 0.9, 0.9]\n",
      "tf.Tensor([[0.28628287 0.21903512 0.21359764 0.2810844 ]], shape=(1, 4), dtype=float32)\n",
      "[0.8, 0.8, 0.9, 0.9]\n",
      "tf.Tensor([[0.2830308  0.22082786 0.2093344  0.2868069 ]], shape=(1, 4), dtype=float32)\n",
      "[0.8, 1.0, 0.9, 0.9]\n",
      "tf.Tensor([[0.29491055 0.21607365 0.20704895 0.28196687]], shape=(1, 4), dtype=float32)\n",
      "[0.8, 0.9, 0.9, 0.9]\n",
      "tf.Tensor([[0.29914707 0.21636343 0.20528862 0.2792009 ]], shape=(1, 4), dtype=float32)\n",
      "[0.8, 0.8, 0.9, 0.9]\n"
     ]
    },
    {
     "name": "stderr",
     "output_type": "stream",
     "text": [
      "\r",
      "  0%|▎                                                                         | 401/100000 [18:17<82:39:04,  2.99s/it]"
     ]
    },
    {
     "name": "stdout",
     "output_type": "stream",
     "text": [
      "tf.Tensor([[0.29211557 0.21767291 0.20302288 0.2871886 ]], shape=(1, 4), dtype=float32)\n",
      "[0.8, 0.9, 0.9, 0.9]\n",
      "tf.Tensor([[0.2985641  0.2152912  0.20159176 0.28455296]], shape=(1, 4), dtype=float32)\n",
      "[0.8, 0.8, 0.9, 0.9]\n",
      "tf.Tensor([[0.2910609  0.21738103 0.20189169 0.28966638]], shape=(1, 4), dtype=float32)\n"
     ]
    },
    {
     "name": "stderr",
     "output_type": "stream",
     "text": [
      "  1%|▎                                                                         | 501/100000 [23:05<82:57:47,  3.00s/it]"
     ]
    },
    {
     "name": "stdout",
     "output_type": "stream",
     "text": [
      "-37.024428199555935\n",
      "11\n"
     ]
    },
    {
     "name": "stderr",
     "output_type": "stream",
     "text": [
      "  1%|▍                                                                         | 600/100000 [27:52<81:08:22,  2.94s/it]"
     ]
    },
    {
     "name": "stdout",
     "output_type": "stream",
     "text": [
      "-34.51315478861014\n",
      "13\n",
      "[0.0, 0.2, 0.5, 0.3]\n",
      "tf.Tensor([[0.28475165 0.2034099  0.21251176 0.29932675]], shape=(1, 4), dtype=float32)\n",
      "[0.0, 0.6, 0.5, 0.3]\n",
      "tf.Tensor([[0.27805662 0.199305   0.21356243 0.3090759 ]], shape=(1, 4), dtype=float32)\n",
      "[0.0, 1.0, 0.5, 0.3]\n",
      "tf.Tensor([[0.28043193 0.19660941 0.20916948 0.31378916]], shape=(1, 4), dtype=float32)\n",
      "[0.0, 1.0, 0.5, 0.3]\n",
      "tf.Tensor([[0.2836     0.19642635 0.20410042 0.31587324]], shape=(1, 4), dtype=float32)\n",
      "[0.0, 1.0, 0.5, 0.3]\n",
      "tf.Tensor([[0.28459632 0.19841293 0.20001958 0.31697118]], shape=(1, 4), dtype=float32)\n",
      "[0.0, 1.0, 0.5, 0.3]\n",
      "tf.Tensor([[0.28588125 0.19986948 0.1965669  0.31768245]], shape=(1, 4), dtype=float32)\n",
      "[0.0, 1.0, 0.5, 0.3]\n",
      "tf.Tensor([[0.2866204  0.1999548  0.19439714 0.31902772]], shape=(1, 4), dtype=float32)\n",
      "[0.0, 1.0, 0.5, 0.3]\n",
      "tf.Tensor([[0.28701133 0.1998835  0.19333059 0.31977454]], shape=(1, 4), dtype=float32)\n",
      "[0.0, 1.0, 0.5, 0.3]\n",
      "tf.Tensor([[0.28701133 0.1998835  0.19333059 0.31977454]], shape=(1, 4), dtype=float32)\n",
      "[0.0, 1.0, 0.5, 0.3]"
     ]
    },
    {
     "name": "stderr",
     "output_type": "stream",
     "text": [
      "\r",
      "  1%|▍                                                                         | 601/100000 [27:56<87:07:50,  3.16s/it]"
     ]
    },
    {
     "name": "stdout",
     "output_type": "stream",
     "text": [
      "\n",
      "tf.Tensor([[0.28701133 0.1998835  0.19333059 0.31977454]], shape=(1, 4), dtype=float32)\n"
     ]
    },
    {
     "name": "stderr",
     "output_type": "stream",
     "text": [
      "  1%|▌                                                                         | 701/100000 [32:57<82:25:48,  2.99s/it]"
     ]
    },
    {
     "name": "stdout",
     "output_type": "stream",
     "text": [
      "-31.43511996930997\n",
      "22\n"
     ]
    },
    {
     "name": "stderr",
     "output_type": "stream",
     "text": [
      "  1%|▌                                                                         | 801/100000 [38:01<63:55:16,  2.32s/it]"
     ]
    },
    {
     "name": "stdout",
     "output_type": "stream",
     "text": [
      "-33.317582769277124\n",
      "12\n",
      "[0.8, 0.1, 0.5, 0.3]\n",
      "tf.Tensor([[0.29757354 0.19203232 0.1979207  0.31247348]], shape=(1, 4), dtype=float32)\n",
      "[0.8, 0.5, 0.5, 0.3]\n",
      "tf.Tensor([[0.29384667 0.19089793 0.19509834 0.32015708]], shape=(1, 4), dtype=float32)\n",
      "[0.8, 0.9, 0.5, 0.3]\n",
      "tf.Tensor([[0.29504037 0.1881249  0.18916792 0.32766688]], shape=(1, 4), dtype=float32)\n",
      "[0.8, 1.0, 0.5, 0.3]\n",
      "tf.Tensor([[0.29581478 0.18587254 0.18404815 0.33426455]], shape=(1, 4), dtype=float32)\n",
      "[0.8, 1.0, 0.5, 0.3]\n",
      "tf.Tensor([[0.2975198  0.18351644 0.1798256  0.33913812]], shape=(1, 4), dtype=float32)\n",
      "[0.8, 1.0, 0.5, 0.3]\n",
      "tf.Tensor([[0.3005246  0.1814038  0.17614476 0.34192684]], shape=(1, 4), dtype=float32)\n",
      "[0.8, 1.0, 0.5, 0.3]\n",
      "tf.Tensor([[0.30147752 0.18010607 0.17429405 0.34412232]], shape=(1, 4), dtype=float32)\n",
      "[0.8, 1.0, 0.5, 0.3]\n",
      "tf.Tensor([[0.30197802 0.17923129 0.17324948 0.34554118]], shape=(1, 4), dtype=float32)\n",
      "[0.8, 1.0, 0.5, 0.3]\n",
      "tf.Tensor([[0.3020713  0.17902224 0.17303774 0.3458687 ]], shape=(1, 4), dtype=float32)\n",
      "[0.8, 1.0, 0.5, 0.3]\n",
      "tf.Tensor([[0.3020713  0.17902224 0.17303774 0.3458687 ]], shape=(1, 4), dtype=float32)\n"
     ]
    },
    {
     "name": "stderr",
     "output_type": "stream",
     "text": [
      "  1%|▋                                                                         | 901/100000 [42:50<83:42:18,  3.04s/it]"
     ]
    },
    {
     "name": "stdout",
     "output_type": "stream",
     "text": [
      "-36.632003206596146\n",
      "19\n"
     ]
    },
    {
     "name": "stderr",
     "output_type": "stream",
     "text": [
      "  1%|▋                                                                        | 1000/100000 [47:11<68:24:23,  2.49s/it]"
     ]
    },
    {
     "name": "stdout",
     "output_type": "stream",
     "text": [
      "-32.906127453806725\n",
      "22\n",
      "[0.4, 0.3, 0.9, 0.1]\n",
      "tf.Tensor([[0.30380985 0.18081394 0.19131404 0.32406214]], shape=(1, 4), dtype=float32)\n",
      "[0.4, 0.7, 0.9, 0.1]\n",
      "tf.Tensor([[0.3002404  0.17861739 0.18894438 0.33219787]], shape=(1, 4), dtype=float32)\n",
      "[0.4, 1.0, 0.9, 0.1]\n",
      "tf.Tensor([[0.30099237 0.17598104 0.18302175 0.34000486]], shape=(1, 4), dtype=float32)\n",
      "[0.4, 1.0, 0.9, 0.1]\n",
      "tf.Tensor([[0.30302712 0.1750908  0.17769156 0.34419054]], shape=(1, 4), dtype=float32)\n",
      "[0.4, 1.0, 0.9, 0.1]\n",
      "tf.Tensor([[0.3052344  0.17516643 0.17279415 0.34680504]], shape=(1, 4), dtype=float32)\n",
      "[0.4, 1.0, 0.9, 0.1]\n",
      "tf.Tensor([[0.30683544 0.17527704 0.16977571 0.34811184]], shape=(1, 4), dtype=float32)\n",
      "[0.4, 1.0, 0.9, 0.1]\n",
      "tf.Tensor([[0.30785587 0.17427918 0.16761586 0.350249  ]], shape=(1, 4), dtype=float32)\n",
      "[0.4, 1.0, 0.9, 0.1]\n",
      "tf.Tensor([[0.30836913 0.17369603 0.16669542 0.35123944]], shape=(1, 4), dtype=float32)\n",
      "[0.4, 1.0, 0.9, 0.1]\n"
     ]
    },
    {
     "name": "stderr",
     "output_type": "stream",
     "text": [
      "\r",
      "  1%|▋                                                                        | 1001/100000 [47:14<73:16:08,  2.66s/it]"
     ]
    },
    {
     "name": "stdout",
     "output_type": "stream",
     "text": [
      "tf.Tensor([[0.30836913 0.17369603 0.16669542 0.35123944]], shape=(1, 4), dtype=float32)\n",
      "[0.4, 1.0, 0.9, 0.1]\n",
      "tf.Tensor([[0.30836913 0.17369603 0.16669542 0.35123944]], shape=(1, 4), dtype=float32)\n"
     ]
    },
    {
     "name": "stderr",
     "output_type": "stream",
     "text": [
      "  1%|▊                                                                        | 1101/100000 [51:36<78:18:15,  2.85s/it]"
     ]
    },
    {
     "name": "stdout",
     "output_type": "stream",
     "text": [
      "-34.41260947831387\n",
      "15\n"
     ]
    },
    {
     "name": "stderr",
     "output_type": "stream",
     "text": [
      "  1%|▉                                                                        | 1201/100000 [56:04<67:54:13,  2.47s/it]"
     ]
    },
    {
     "name": "stdout",
     "output_type": "stream",
     "text": [
      "-30.811404303080483\n",
      "17\n",
      "[0.4, 0.7, 0.9, 0.1]\n",
      "tf.Tensor([[0.30389884 0.17113382 0.19321579 0.33175159]], shape=(1, 4), dtype=float32)\n",
      "[0.4, 1.0, 0.9, 0.1]\n",
      "tf.Tensor([[0.30242875 0.16598812 0.18653432 0.34504882]], shape=(1, 4), dtype=float32)\n",
      "[0.4, 1.0, 0.9, 0.1]\n",
      "tf.Tensor([[0.3007974  0.16304404 0.1804779  0.35568064]], shape=(1, 4), dtype=float32)\n",
      "[0.4, 1.0, 0.9, 0.1]\n",
      "tf.Tensor([[0.30248594 0.1615929  0.17465732 0.36126375]], shape=(1, 4), dtype=float32)\n",
      "[0.4, 1.0, 0.9, 0.1]\n",
      "tf.Tensor([[0.303825   0.16084988 0.17080441 0.36452076]], shape=(1, 4), dtype=float32)\n",
      "[0.4, 1.0, 0.9, 0.1]\n",
      "tf.Tensor([[0.3065442  0.15942699 0.16769834 0.3663305 ]], shape=(1, 4), dtype=float32)\n",
      "[0.4, 1.0, 0.9, 0.1]\n",
      "tf.Tensor([[0.3069041  0.15876722 0.16677852 0.36755016]], shape=(1, 4), dtype=float32)\n",
      "[0.4, 1.0, 0.9, 0.1]\n",
      "tf.Tensor([[0.3069041  0.15876722 0.16677852 0.36755016]], shape=(1, 4), dtype=float32)\n",
      "[0.4, 1.0, 0.9, 0.1]\n",
      "tf.Tensor([[0.3069041  0.15876722 0.16677852 0.36755016]], shape=(1, 4), dtype=float32)\n",
      "[0.4, 1.0, 0.9, 0.1]\n",
      "tf.Tensor([[0.3069041  0.15876722 0.16677852 0.36755016]], shape=(1, 4), dtype=float32)\n"
     ]
    },
    {
     "name": "stderr",
     "output_type": "stream",
     "text": [
      "  1%|▉                                                                      | 1301/100000 [1:00:42<65:30:39,  2.39s/it]"
     ]
    },
    {
     "name": "stdout",
     "output_type": "stream",
     "text": [
      "-31.036541367238186\n",
      "15\n"
     ]
    },
    {
     "name": "stderr",
     "output_type": "stream",
     "text": [
      "  1%|▉                                                                      | 1401/100000 [1:05:26<84:28:43,  3.08s/it]"
     ]
    },
    {
     "name": "stdout",
     "output_type": "stream",
     "text": [
      "-31.444644842322575\n",
      "20\n",
      "[0.5, 0.4, 0.5, 0.3]\n",
      "tf.Tensor([[0.34572515 0.1638073  0.18117757 0.30928996]], shape=(1, 4), dtype=float32)\n"
     ]
    },
    {
     "name": "stderr",
     "output_type": "stream",
     "text": [
      "  2%|█                                                                      | 1501/100000 [1:10:13<85:54:44,  3.14s/it]"
     ]
    },
    {
     "name": "stdout",
     "output_type": "stream",
     "text": [
      "-33.472869297923495\n",
      "20\n"
     ]
    },
    {
     "name": "stderr",
     "output_type": "stream",
     "text": [
      "  2%|█▏                                                                     | 1601/100000 [1:15:06<81:09:22,  2.97s/it]"
     ]
    },
    {
     "name": "stdout",
     "output_type": "stream",
     "text": [
      "-36.569864102717986\n",
      "10\n",
      "[0.5, 0.7, 0.1, 0.1]\n",
      "tf.Tensor([[0.3409915  0.16566676 0.17538129 0.31796035]], shape=(1, 4), dtype=float32)\n",
      "[0.5, 0.6, 0.1, 0.1]\n",
      "tf.Tensor([[0.34209427 0.16433273 0.17087886 0.32269412]], shape=(1, 4), dtype=float32)\n",
      "[0.5, 0.5, 0.1, 0.1]\n",
      "tf.Tensor([[0.3250017  0.16915718 0.16978405 0.33605707]], shape=(1, 4), dtype=float32)\n",
      "[0.5, 0.9, 0.1, 0.1]\n",
      "tf.Tensor([[0.33832198 0.16158938 0.16236284 0.3377257 ]], shape=(1, 4), dtype=float32)\n",
      "[0.5, 0.8, 0.1, 0.1]\n",
      "tf.Tensor([[0.34365293 0.15858749 0.15791352 0.3398461 ]], shape=(1, 4), dtype=float32)\n",
      "[0.5, 0.7, 0.1, 0.1]\n",
      "tf.Tensor([[0.34617487 0.15712102 0.154203   0.34250116]], shape=(1, 4), dtype=float32)\n",
      "[0.5, 0.6, 0.1, 0.1]\n",
      "tf.Tensor([[0.3457785  0.15814808 0.15426958 0.3418038 ]], shape=(1, 4), dtype=float32)\n",
      "[0.5, 0.5, 0.1, 0.1]\n",
      "tf.Tensor([[0.33022106 0.16357417 0.15865307 0.3475517 ]], shape=(1, 4), dtype=float32)\n",
      "[0.5, 0.9, 0.1, 0.1]\n",
      "tf.Tensor([[0.3437062  0.15618859 0.15429015 0.34581512]], shape=(1, 4), dtype=float32)\n",
      "[0.5, 0.5, 0.1, 0.1]\n",
      "tf.Tensor([[0.3268931  0.1636899  0.1586729  0.35074404]], shape=(1, 4), dtype=float32)\n"
     ]
    },
    {
     "name": "stderr",
     "output_type": "stream",
     "text": [
      "  2%|█▏                                                                     | 1701/100000 [1:19:38<92:37:32,  3.39s/it]"
     ]
    },
    {
     "name": "stdout",
     "output_type": "stream",
     "text": [
      "-33.243680922000856\n",
      "19\n"
     ]
    },
    {
     "name": "stderr",
     "output_type": "stream",
     "text": [
      "  2%|█▎                                                                     | 1800/100000 [1:24:01<80:40:33,  2.96s/it]"
     ]
    },
    {
     "name": "stdout",
     "output_type": "stream",
     "text": [
      "-31.690950857364708\n",
      "26\n",
      "[0.1, 0.5, 0.5, 0.3]\n",
      "tf.Tensor([[0.32554966 0.1691779  0.18049225 0.32478017]], shape=(1, 4), dtype=float32)\n",
      "[0.1, 0.6, 0.5, 0.3]\n",
      "tf.Tensor([[0.32136625 0.16560617 0.17861636 0.3344112 ]], shape=(1, 4), dtype=float32)\n",
      "[0.1, 1.0, 0.5, 0.3]\n",
      "tf.Tensor([[0.32122976 0.15919654 0.17236638 0.34720725]], shape=(1, 4), dtype=float32)\n",
      "[0.1, 1.0, 0.5, 0.3]\n",
      "tf.Tensor([[0.32288972 0.15530439 0.16641831 0.3553876 ]], shape=(1, 4), dtype=float32)\n",
      "[0.1, 1.0, 0.5, 0.3]\n",
      "tf.Tensor([[0.3269714  0.15202543 0.16065143 0.36035174]], shape=(1, 4), dtype=float32)\n",
      "[0.1, 1.0, 0.5, 0.3]\n",
      "tf.Tensor([[0.33167997 0.14947951 0.15550089 0.36333966]], shape=(1, 4), dtype=float32)\n",
      "[0.1, 1.0, 0.5, 0.3]\n"
     ]
    },
    {
     "name": "stderr",
     "output_type": "stream",
     "text": [
      "\r",
      "  2%|█▎                                                                     | 1801/100000 [1:24:04<83:19:48,  3.05s/it]"
     ]
    },
    {
     "name": "stdout",
     "output_type": "stream",
     "text": [
      "tf.Tensor([[0.33316237 0.1481995  0.15311056 0.36552766]], shape=(1, 4), dtype=float32)\n",
      "[0.1, 1.0, 0.5, 0.3]\n",
      "tf.Tensor([[0.33414817 0.1473065  0.15150319 0.36704212]], shape=(1, 4), dtype=float32)\n",
      "[0.1, 1.0, 0.5, 0.3]\n",
      "tf.Tensor([[0.33414817 0.1473065  0.15150319 0.36704212]], shape=(1, 4), dtype=float32)\n",
      "[0.1, 1.0, 0.5, 0.3]\n",
      "tf.Tensor([[0.33414817 0.1473065  0.15150319 0.36704212]], shape=(1, 4), dtype=float32)\n"
     ]
    },
    {
     "name": "stderr",
     "output_type": "stream",
     "text": [
      "  2%|█▎                                                                     | 1901/100000 [1:28:27<80:19:00,  2.95s/it]"
     ]
    },
    {
     "name": "stdout",
     "output_type": "stream",
     "text": [
      "-32.28222927776922\n",
      "22\n"
     ]
    },
    {
     "name": "stderr",
     "output_type": "stream",
     "text": [
      "  2%|█▍                                                                     | 2000/100000 [1:32:48<79:20:26,  2.91s/it]"
     ]
    },
    {
     "name": "stdout",
     "output_type": "stream",
     "text": [
      "-33.283707823245265\n",
      "27\n",
      "[0.2, 0.0, 0.9, 0.1]\n",
      "tf.Tensor([[0.34541193 0.15343119 0.17400497 0.32715183]], shape=(1, 4), dtype=float32)\n",
      "[0.2, 0.1, 0.9, 0.1]\n",
      "tf.Tensor([[0.33885178 0.15550587 0.17608036 0.329562  ]], shape=(1, 4), dtype=float32)\n",
      "[0.2, 0.2, 0.9, 0.1]\n",
      "tf.Tensor([[0.33365023 0.15743454 0.17761524 0.33129996]], shape=(1, 4), dtype=float32)\n",
      "[0.2, 0.3, 0.9, 0.1]\n",
      "tf.Tensor([[0.3302539  0.15788968 0.17763305 0.33422348]], shape=(1, 4), dtype=float32)\n",
      "[0.2, 0.7, 0.9, 0.1]\n",
      "tf.Tensor([[0.33415025 0.15316056 0.17410913 0.33858004]], shape=(1, 4), dtype=float32)\n"
     ]
    },
    {
     "name": "stderr",
     "output_type": "stream",
     "text": [
      "\r",
      "  2%|█▍                                                                     | 2001/100000 [1:32:51<81:09:10,  2.98s/it]"
     ]
    },
    {
     "name": "stdout",
     "output_type": "stream",
     "text": [
      "[0.2, 1.0, 0.9, 0.1]\n",
      "tf.Tensor([[0.34063756 0.14807199 0.1682573  0.34303308]], shape=(1, 4), dtype=float32)\n",
      "[0.2, 1.0, 0.9, 0.1]\n",
      "tf.Tensor([[0.34579772 0.14397828 0.16262606 0.3475979 ]], shape=(1, 4), dtype=float32)\n",
      "[0.2, 1.0, 0.9, 0.1]\n",
      "tf.Tensor([[0.3497902  0.14086281 0.15803309 0.35131386]], shape=(1, 4), dtype=float32)\n",
      "[0.2, 1.0, 0.9, 0.1]\n",
      "tf.Tensor([[0.3528947  0.13846476 0.15437046 0.35427007]], shape=(1, 4), dtype=float32)\n",
      "[0.2, 1.0, 0.9, 0.1]\n",
      "tf.Tensor([[0.35528117 0.13663097 0.15153457 0.35655323]], shape=(1, 4), dtype=float32)\n"
     ]
    },
    {
     "name": "stderr",
     "output_type": "stream",
     "text": [
      "  2%|█▍                                                                     | 2101/100000 [1:36:55<75:18:11,  2.77s/it]"
     ]
    },
    {
     "name": "stdout",
     "output_type": "stream",
     "text": [
      "-24.312526865792837\n",
      "28\n"
     ]
    },
    {
     "name": "stderr",
     "output_type": "stream",
     "text": [
      "  2%|█▌                                                                     | 2201/100000 [1:40:44<48:18:54,  1.78s/it]"
     ]
    },
    {
     "name": "stdout",
     "output_type": "stream",
     "text": [
      "-28.587521816126102\n",
      "22\n",
      "[0.7, 0.0, 0.9, 0.1]\n",
      "tf.Tensor([[0.37095037 0.1515742  0.17945154 0.29802385]], shape=(1, 4), dtype=float32)\n",
      "[0.7, 0.1, 0.9, 0.1]\n",
      "tf.Tensor([[0.3664947  0.15601535 0.17968039 0.29780957]], shape=(1, 4), dtype=float32)\n",
      "[0.7, 0.2, 0.9, 0.1]\n",
      "tf.Tensor([[0.36271462 0.16008846 0.17913324 0.29806378]], shape=(1, 4), dtype=float32)\n",
      "[0.7, 0.3, 0.9, 0.1]\n",
      "tf.Tensor([[0.3799493  0.15503792 0.17308135 0.29193145]], shape=(1, 4), dtype=float32)\n",
      "[0.7, 0.2, 0.9, 0.1]\n",
      "tf.Tensor([[0.3699672  0.16088699 0.17566311 0.29348278]], shape=(1, 4), dtype=float32)\n",
      "[0.7, 0.3, 0.9, 0.1]\n",
      "tf.Tensor([[0.38408348 0.15631314 0.17025588 0.2893476 ]], shape=(1, 4), dtype=float32)\n",
      "[0.7, 0.2, 0.9, 0.1]\n",
      "tf.Tensor([[0.37355468 0.16088103 0.17242733 0.29313692]], shape=(1, 4), dtype=float32)\n",
      "[0.7, 0.3, 0.9, 0.1]\n",
      "tf.Tensor([[0.38603228 0.1552512  0.16688019 0.29183635]], shape=(1, 4), dtype=float32)\n",
      "[0.7, 0.2, 0.9, 0.1]\n",
      "tf.Tensor([[0.37479705 0.1599845  0.1697378  0.29548064]], shape=(1, 4), dtype=float32)\n",
      "[0.7, 0.3, 0.9, 0.1]\n",
      "tf.Tensor([[0.38603228 0.1552512  0.16688019 0.29183635]], shape=(1, 4), dtype=float32)\n"
     ]
    },
    {
     "name": "stderr",
     "output_type": "stream",
     "text": [
      "  2%|█▋                                                                     | 2301/100000 [1:44:40<58:28:06,  2.15s/it]"
     ]
    },
    {
     "name": "stdout",
     "output_type": "stream",
     "text": [
      "-29.042933639905332\n",
      "21\n"
     ]
    },
    {
     "name": "stderr",
     "output_type": "stream",
     "text": [
      "  2%|█▋                                                                     | 2401/100000 [1:48:38<66:17:56,  2.45s/it]"
     ]
    },
    {
     "name": "stdout",
     "output_type": "stream",
     "text": [
      "-30.852044964868124\n",
      "17\n",
      "[0.0, 0.6, 0.5, 0.3]\n",
      "tf.Tensor([[0.37751418 0.13607745 0.17353858 0.31286985]], shape=(1, 4), dtype=float32)\n",
      "[0.0, 0.7, 0.5, 0.3]\n",
      "tf.Tensor([[0.3727896  0.13508995 0.17315033 0.31897017]], shape=(1, 4), dtype=float32)\n",
      "[0.0, 0.8, 0.5, 0.3]\n",
      "tf.Tensor([[0.39263222 0.12766215 0.16796343 0.3117422 ]], shape=(1, 4), dtype=float32)\n",
      "[0.0, 0.7, 0.5, 0.3]\n",
      "tf.Tensor([[0.38036647 0.1304006  0.1678412  0.3213918 ]], shape=(1, 4), dtype=float32)\n",
      "[0.0, 0.8, 0.5, 0.3]\n",
      "tf.Tensor([[0.40114912 0.12291948 0.16261578 0.31331566]], shape=(1, 4), dtype=float32)\n",
      "[0.0, 0.7, 0.5, 0.3]\n",
      "tf.Tensor([[0.39104578 0.12667716 0.16142169 0.32085532]], shape=(1, 4), dtype=float32)\n",
      "[0.0, 0.8, 0.5, 0.3]\n",
      "tf.Tensor([[0.40899897 0.11988335 0.15855771 0.31256   ]], shape=(1, 4), dtype=float32)\n",
      "[0.0, 0.7, 0.5, 0.3]\n",
      "tf.Tensor([[0.39622545 0.12410239 0.15933709 0.32033512]], shape=(1, 4), dtype=float32)\n",
      "[0.0, 0.8, 0.5, 0.3]\n",
      "tf.Tensor([[0.40899897 0.11988335 0.15855771 0.31256   ]], shape=(1, 4), dtype=float32)\n",
      "[0.0, 0.7, 0.5, 0.3]\n",
      "tf.Tensor([[0.39622545 0.12410239 0.15933709 0.32033512]], shape=(1, 4), dtype=float32)\n"
     ]
    },
    {
     "name": "stderr",
     "output_type": "stream",
     "text": [
      "  3%|█▊                                                                     | 2501/100000 [1:52:36<69:29:34,  2.57s/it]"
     ]
    },
    {
     "name": "stdout",
     "output_type": "stream",
     "text": [
      "-31.351965338424467\n",
      "17\n"
     ]
    },
    {
     "name": "stderr",
     "output_type": "stream",
     "text": [
      "  3%|█▊                                                                     | 2600/100000 [1:56:24<47:36:19,  1.76s/it]"
     ]
    },
    {
     "name": "stdout",
     "output_type": "stream",
     "text": [
      "-24.847592765739215\n",
      "28\n",
      "[0.8, 0.0, 0.5, 0.3]\n",
      "tf.Tensor([[0.41710526 0.11414951 0.1503899  0.31835532]], shape=(1, 4), dtype=float32)\n",
      "[0.8, 0.1, 0.5, 0.3]\n",
      "tf.Tensor([[0.41339305 0.11670043 0.1498718  0.32003477]], shape=(1, 4), dtype=float32)\n",
      "[0.8, 0.2, 0.5, 0.3]\n",
      "tf.Tensor([[0.41544622 0.1164231  0.14847119 0.31965947]], shape=(1, 4), dtype=float32)\n",
      "[0.8, 0.3, 0.5, 0.3]\n",
      "tf.Tensor([[0.41899264 0.11555258 0.14711492 0.31833988]], shape=(1, 4), dtype=float32)\n",
      "[0.8, 0.4, 0.5, 0.3]\n",
      "tf.Tensor([[0.41846225 0.12012801 0.15501754 0.3063922 ]], shape=(1, 4), dtype=float32)\n",
      "[0.7, 0.4, 0.5, 0.3]\n",
      "tf.Tensor([[0.41238987 0.12611166 0.16396376 0.29753467]], shape=(1, 4), dtype=float32)\n",
      "[0.6, 0.4, 0.5, 0.3]\n",
      "tf.Tensor([[0.41034198 0.12525895 0.16209425 0.3023048 ]], shape=(1, 4), dtype=float32)\n",
      "[0.6, 0.5, 0.5, 0.3]\n"
     ]
    },
    {
     "name": "stderr",
     "output_type": "stream",
     "text": [
      "\r",
      "  3%|█▊                                                                     | 2601/100000 [1:56:27<56:34:46,  2.09s/it]"
     ]
    },
    {
     "name": "stdout",
     "output_type": "stream",
     "text": [
      "tf.Tensor([[0.43249527 0.11572367 0.1556725  0.29610854]], shape=(1, 4), dtype=float32)\n",
      "[0.6, 0.4, 0.5, 0.3]\n",
      "tf.Tensor([[0.42110002 0.11934239 0.15668172 0.30287588]], shape=(1, 4), dtype=float32)\n",
      "[0.6, 0.5, 0.5, 0.3]\n",
      "tf.Tensor([[0.44007    0.11077438 0.1504963  0.29865935]], shape=(1, 4), dtype=float32)\n"
     ]
    },
    {
     "name": "stderr",
     "output_type": "stream",
     "text": [
      "  3%|█▉                                                                     | 2701/100000 [2:00:19<63:20:11,  2.34s/it]"
     ]
    },
    {
     "name": "stdout",
     "output_type": "stream",
     "text": [
      "-27.399159888636156\n",
      "20\n"
     ]
    },
    {
     "name": "stderr",
     "output_type": "stream",
     "text": [
      "  3%|█▉                                                                     | 2800/100000 [2:04:10<66:33:37,  2.47s/it]"
     ]
    },
    {
     "name": "stdout",
     "output_type": "stream",
     "text": [
      "-29.612052116283838\n",
      "30\n",
      "[0.1, 0.1, 0.5, 0.7]\n",
      "tf.Tensor([[0.41640207 0.11929739 0.16077766 0.30352288]], shape=(1, 4), dtype=float32)\n",
      "[0.1, 0.2, 0.5, 0.7]\n",
      "tf.Tensor([[0.40850374 0.12093449 0.16369306 0.30686873]], shape=(1, 4), dtype=float32)\n",
      "[0.1, 0.3, 0.5, 0.7]\n",
      "tf.Tensor([[0.40502605 0.12084614 0.16564259 0.30848518]], shape=(1, 4), dtype=float32)\n",
      "[0.1, 0.4, 0.5, 0.7]\n",
      "tf.Tensor([[0.40416533 0.11944143 0.16622439 0.3101689 ]], shape=(1, 4), dtype=float32)\n",
      "[0.1, 0.5, 0.5, 0.7]\n",
      "tf.Tensor([[0.40407482 0.11781238 0.16580902 0.31230375]], shape=(1, 4), dtype=float32)\n",
      "[0.1, 0.6, 0.5, 0.7]\n",
      "tf.Tensor([[0.4300751  0.10268626 0.14701574 0.32022282]], shape=(1, 4), dtype=float32)\n",
      "[0.2, 0.6, 0.5, 0.7]\n",
      "tf.Tensor([[0.42566365 0.10533863 0.14901254 0.31998518]], shape=(1, 4), dtype=float32)"
     ]
    },
    {
     "name": "stderr",
     "output_type": "stream",
     "text": [
      "\r",
      "  3%|█▉                                                                     | 2801/100000 [2:04:13<69:00:08,  2.56s/it]"
     ]
    },
    {
     "name": "stdout",
     "output_type": "stream",
     "text": [
      "\n",
      "[0.2, 0.7, 0.5, 0.7]\n",
      "tf.Tensor([[0.4518742  0.09179062 0.13141328 0.32492185]], shape=(1, 4), dtype=float32)\n",
      "[0.3, 0.7, 0.5, 0.7]\n",
      "tf.Tensor([[0.44565067 0.0957166  0.13458867 0.3240441 ]], shape=(1, 4), dtype=float32)\n",
      "[0.3, 0.8, 0.5, 0.7]\n",
      "tf.Tensor([[0.46994254 0.08387196 0.11968598 0.32649946]], shape=(1, 4), dtype=float32)\n"
     ]
    },
    {
     "name": "stderr",
     "output_type": "stream",
     "text": [
      "  3%|██                                                                     | 2901/100000 [2:08:07<49:28:17,  1.83s/it]"
     ]
    },
    {
     "name": "stdout",
     "output_type": "stream",
     "text": [
      "-27.962280182860322\n",
      "23\n"
     ]
    },
    {
     "name": "stderr",
     "output_type": "stream",
     "text": [
      "  3%|██▏                                                                    | 3001/100000 [2:11:54<49:30:50,  1.84s/it]"
     ]
    },
    {
     "name": "stdout",
     "output_type": "stream",
     "text": [
      "-24.864186402513564\n",
      "25\n",
      "[0.4, 0.3, 0.5, 0.7]\n",
      "tf.Tensor([[0.4712403  0.10891524 0.14670987 0.27313456]], shape=(1, 4), dtype=float32)\n",
      "[0.4, 0.4, 0.5, 0.7]\n",
      "tf.Tensor([[0.4672037  0.11064274 0.14930543 0.2728481 ]], shape=(1, 4), dtype=float32)\n",
      "[0.4, 0.5, 0.5, 0.7]\n",
      "tf.Tensor([[0.47033477 0.10909086 0.15021431 0.27036005]], shape=(1, 4), dtype=float32)\n",
      "[0.4, 0.6, 0.5, 0.7]\n",
      "tf.Tensor([[0.4737528  0.10724963 0.1500146  0.26898307]], shape=(1, 4), dtype=float32)\n",
      "[0.4, 0.7, 0.5, 0.7]\n",
      "tf.Tensor([[0.47771025 0.10542456 0.1493339  0.2675313 ]], shape=(1, 4), dtype=float32)\n",
      "[0.4, 0.8, 0.5, 0.7]\n",
      "tf.Tensor([[0.50818485 0.09630583 0.14281417 0.2526951 ]], shape=(1, 4), dtype=float32)\n",
      "[0.4, 0.7, 0.5, 0.7]\n",
      "tf.Tensor([[0.5004783  0.09886281 0.14415321 0.25650564]], shape=(1, 4), dtype=float32)\n",
      "[0.4, 0.8, 0.5, 0.7]\n",
      "tf.Tensor([[0.5288074  0.09005305 0.13658899 0.24455053]], shape=(1, 4), dtype=float32)\n",
      "[0.4, 0.7, 0.5, 0.7]\n",
      "tf.Tensor([[0.5155614  0.09418836 0.1392735  0.2509768 ]], shape=(1, 4), dtype=float32)\n",
      "[0.4, 0.8, 0.5, 0.7]\n",
      "tf.Tensor([[0.5394578  0.0866492  0.13281913 0.24107388]], shape=(1, 4), dtype=float32)\n"
     ]
    },
    {
     "name": "stderr",
     "output_type": "stream",
     "text": [
      "  3%|██▏                                                                    | 3101/100000 [2:15:20<62:33:02,  2.32s/it]"
     ]
    },
    {
     "name": "stdout",
     "output_type": "stream",
     "text": [
      "-24.477273981416488\n",
      "30\n"
     ]
    },
    {
     "name": "stderr",
     "output_type": "stream",
     "text": [
      "  3%|██▎                                                                    | 3200/100000 [2:18:43<48:52:12,  1.82s/it]"
     ]
    },
    {
     "name": "stdout",
     "output_type": "stream",
     "text": [
      "-24.3624410489346\n",
      "36\n",
      "[0.6, 0.2, 0.9, 0.9]\n",
      "tf.Tensor([[0.4642073  0.11381804 0.15770681 0.2642679 ]], shape=(1, 4), dtype=float32)\n",
      "[0.6, 0.3, 0.9, 0.9]\n",
      "tf.Tensor([[0.46140033 0.11538979 0.15923738 0.26397246]], shape=(1, 4), dtype=float32)\n",
      "[0.6, 0.4, 0.9, 0.9]\n",
      "tf.Tensor([[0.46504778 0.11360129 0.15917142 0.2621795 ]], shape=(1, 4), dtype=float32)\n",
      "[0.6, 0.5, 0.9, 0.9]\n",
      "tf.Tensor([[0.46826935 0.11178686 0.15854652 0.26139727]], shape=(1, 4), dtype=float32)\n",
      "[0.6, 0.6, 0.9, 0.9]\n",
      "tf.Tensor([[0.47154763 0.10995994 0.1576167  0.2608757 ]], shape=(1, 4), dtype=float32)\n",
      "[0.6, 0.7, 0.9, 0.9]\n",
      "tf.Tensor([[0.4755541  0.10786815 0.15618922 0.26038852]], shape=(1, 4), dtype=float32)\n",
      "[0.6, 0.8, 0.9, 0.9]\n",
      "tf.Tensor([[0.5092179  0.09224463 0.13831489 0.26022258]], shape=(1, 4), dtype=float32)"
     ]
    },
    {
     "name": "stderr",
     "output_type": "stream",
     "text": [
      "\r",
      "  3%|██▎                                                                    | 3201/100000 [2:18:45<56:24:42,  2.10s/it]"
     ]
    },
    {
     "name": "stdout",
     "output_type": "stream",
     "text": [
      "\n",
      "[0.7, 0.8, 0.9, 0.9]\n",
      "tf.Tensor([[0.5055606  0.09485435 0.13996373 0.25962135]], shape=(1, 4), dtype=float32)\n",
      "[0.7, 0.9, 0.9, 0.9]\n",
      "tf.Tensor([[0.53720486 0.08142849 0.1242943  0.2570724 ]], shape=(1, 4), dtype=float32)\n",
      "[0.8, 0.9, 0.9, 0.9]\n",
      "tf.Tensor([[0.53246546 0.08475166 0.12697537 0.2558075 ]], shape=(1, 4), dtype=float32)\n"
     ]
    },
    {
     "name": "stderr",
     "output_type": "stream",
     "text": [
      "  3%|██▎                                                                    | 3301/100000 [2:22:12<65:05:08,  2.42s/it]"
     ]
    },
    {
     "name": "stdout",
     "output_type": "stream",
     "text": [
      "-25.703648502253472\n",
      "37\n"
     ]
    },
    {
     "name": "stderr",
     "output_type": "stream",
     "text": [
      "  3%|██▍                                                                    | 3401/100000 [2:25:53<56:08:56,  2.09s/it]"
     ]
    },
    {
     "name": "stdout",
     "output_type": "stream",
     "text": [
      "-28.191434932189534\n",
      "24\n",
      "[0.3, 0.8, 0.5, 0.3]\n",
      "tf.Tensor([[0.49775493 0.10322855 0.15083867 0.24817795]], shape=(1, 4), dtype=float32)\n",
      "[0.3, 0.7, 0.5, 0.3]\n",
      "tf.Tensor([[0.50495833 0.10089476 0.15111344 0.24303347]], shape=(1, 4), dtype=float32)\n",
      "[0.3, 0.6, 0.5, 0.3]\n",
      "tf.Tensor([[0.51165855 0.09845551 0.15012605 0.23975979]], shape=(1, 4), dtype=float32)\n",
      "[0.3, 0.5, 0.5, 0.3]\n",
      "tf.Tensor([[0.51488155 0.09683744 0.14901172 0.23926927]], shape=(1, 4), dtype=float32)\n",
      "[0.3, 0.4, 0.5, 0.3]\n",
      "tf.Tensor([[0.530504   0.08793087 0.13812906 0.24343616]], shape=(1, 4), dtype=float32)\n",
      "[0.4, 0.4, 0.5, 0.3]\n",
      "tf.Tensor([[0.53142    0.08786374 0.13723142 0.24348481]], shape=(1, 4), dtype=float32)\n",
      "[0.4, 0.3, 0.5, 0.3]\n",
      "tf.Tensor([[0.50913405 0.09531545 0.14501654 0.250534  ]], shape=(1, 4), dtype=float32)\n",
      "[0.4, 0.4, 0.5, 0.3]\n",
      "tf.Tensor([[0.51615167 0.09333067 0.14294168 0.24757603]], shape=(1, 4), dtype=float32)\n",
      "[0.4, 0.3, 0.5, 0.3]\n",
      "tf.Tensor([[0.49675122 0.10016323 0.15021764 0.25286803]], shape=(1, 4), dtype=float32)\n",
      "[0.4, 0.4, 0.5, 0.3]\n",
      "tf.Tensor([[0.50663906 0.0973142  0.14751624 0.2485305 ]], shape=(1, 4), dtype=float32)\n"
     ]
    },
    {
     "name": "stderr",
     "output_type": "stream",
     "text": [
      "  4%|██▍                                                                    | 3501/100000 [2:29:01<44:50:33,  1.67s/it]"
     ]
    },
    {
     "name": "stdout",
     "output_type": "stream",
     "text": [
      "-22.32357746333154\n",
      "43\n"
     ]
    },
    {
     "name": "stderr",
     "output_type": "stream",
     "text": [
      "  4%|██▌                                                                    | 3601/100000 [2:32:24<47:35:11,  1.78s/it]"
     ]
    },
    {
     "name": "stdout",
     "output_type": "stream",
     "text": [
      "-23.20754590039295\n",
      "34\n",
      "[0.8, 0.8, 0.5, 0.7]\n",
      "tf.Tensor([[0.49095234 0.10472531 0.15024938 0.25407305]], shape=(1, 4), dtype=float32)\n",
      "[0.7, 0.8, 0.5, 0.7]\n",
      "tf.Tensor([[0.49117258 0.10611015 0.15637946 0.24633776]], shape=(1, 4), dtype=float32)\n",
      "[0.6, 0.8, 0.5, 0.7]\n",
      "tf.Tensor([[0.52005893 0.09704196 0.15153787 0.23136126]], shape=(1, 4), dtype=float32)\n",
      "[0.6, 0.7, 0.5, 0.7]\n",
      "tf.Tensor([[0.51430756 0.09843957 0.15243775 0.23481518]], shape=(1, 4), dtype=float32)\n",
      "[0.6, 0.8, 0.5, 0.7]\n",
      "tf.Tensor([[0.5404818  0.08962417 0.14574608 0.22414802]], shape=(1, 4), dtype=float32)\n",
      "[0.6, 0.7, 0.5, 0.7]\n",
      "tf.Tensor([[0.5301822  0.09296915 0.147444   0.2294047 ]], shape=(1, 4), dtype=float32)\n",
      "[0.6, 0.8, 0.5, 0.7]\n",
      "tf.Tensor([[0.5504674  0.08486149 0.13837309 0.22629805]], shape=(1, 4), dtype=float32)\n",
      "[0.6, 0.7, 0.5, 0.7]\n",
      "tf.Tensor([[0.5382327  0.0874634  0.13846995 0.23583399]], shape=(1, 4), dtype=float32)\n",
      "[0.6, 0.8, 0.5, 0.7]\n",
      "tf.Tensor([[0.551179   0.08377647 0.13493271 0.23011184]], shape=(1, 4), dtype=float32)\n",
      "[0.6, 0.7, 0.5, 0.7]\n",
      "tf.Tensor([[0.5382327  0.0874634  0.13846995 0.23583399]], shape=(1, 4), dtype=float32)\n"
     ]
    },
    {
     "name": "stderr",
     "output_type": "stream",
     "text": [
      "  4%|██▋                                                                    | 3701/100000 [2:35:34<42:49:41,  1.60s/it]"
     ]
    },
    {
     "name": "stdout",
     "output_type": "stream",
     "text": [
      "-22.02501521145155\n",
      "43\n"
     ]
    },
    {
     "name": "stderr",
     "output_type": "stream",
     "text": [
      "  4%|██▋                                                                    | 3801/100000 [2:39:02<44:13:04,  1.65s/it]"
     ]
    },
    {
     "name": "stdout",
     "output_type": "stream",
     "text": [
      "-24.81647733415861\n",
      "28\n",
      "[0.3, 0.0, 0.9, 0.9]\n",
      "tf.Tensor([[0.49014395 0.09771813 0.14104734 0.2710906 ]], shape=(1, 4), dtype=float32)\n",
      "[0.3, 0.1, 0.9, 0.9]\n",
      "tf.Tensor([[0.48316365 0.10057307 0.1463045  0.26995882]], shape=(1, 4), dtype=float32)\n",
      "[0.3, 0.2, 0.9, 0.9]\n",
      "tf.Tensor([[0.4807649  0.10143478 0.15080552 0.26699486]], shape=(1, 4), dtype=float32)\n",
      "[0.3, 0.3, 0.9, 0.9]\n",
      "tf.Tensor([[0.47724038 0.10249257 0.15482529 0.26544172]], shape=(1, 4), dtype=float32)\n",
      "[0.3, 0.4, 0.9, 0.9]\n",
      "tf.Tensor([[0.4741208  0.10286172 0.15741555 0.26560187]], shape=(1, 4), dtype=float32)\n",
      "[0.3, 0.5, 0.9, 0.9]\n",
      "tf.Tensor([[0.50661045 0.08847678 0.13957322 0.26533955]], shape=(1, 4), dtype=float32)\n",
      "[0.4, 0.5, 0.9, 0.9]\n",
      "tf.Tensor([[0.50187045 0.09094963 0.1421507  0.2650292 ]], shape=(1, 4), dtype=float32)\n",
      "[0.4, 0.6, 0.9, 0.9]\n",
      "tf.Tensor([[0.53697187 0.07698011 0.12333405 0.262714  ]], shape=(1, 4), dtype=float32)\n",
      "[0.5, 0.6, 0.9, 0.9]\n",
      "tf.Tensor([[0.5308652  0.08046196 0.12688234 0.2617905 ]], shape=(1, 4), dtype=float32)\n",
      "[0.5, 0.7, 0.9, 0.9]\n",
      "tf.Tensor([[0.5620057  0.06874129 0.11109938 0.25815362]], shape=(1, 4), dtype=float32)\n"
     ]
    },
    {
     "name": "stderr",
     "output_type": "stream",
     "text": [
      "  4%|██▊                                                                    | 3901/100000 [2:42:24<50:04:42,  1.88s/it]"
     ]
    },
    {
     "name": "stdout",
     "output_type": "stream",
     "text": [
      "-23.111235106004543\n",
      "41\n"
     ]
    },
    {
     "name": "stderr",
     "output_type": "stream",
     "text": [
      "  4%|██▊                                                                    | 4001/100000 [2:45:44<45:08:22,  1.69s/it]"
     ]
    },
    {
     "name": "stdout",
     "output_type": "stream",
     "text": [
      "-22.07796374804536\n",
      "38\n",
      "[0.6, 0.3, 0.9, 0.1]\n",
      "tf.Tensor([[0.6285434  0.05396594 0.08870251 0.22878817]], shape=(1, 4), dtype=float32)\n",
      "[0.7, 0.3, 0.9, 0.1]\n",
      "tf.Tensor([[0.65628445 0.04904668 0.08488856 0.20978032]], shape=(1, 4), dtype=float32)\n",
      "[0.7, 0.2, 0.9, 0.1]\n",
      "tf.Tensor([[0.6751494  0.04363736 0.07741065 0.20380263]], shape=(1, 4), dtype=float32)\n",
      "[0.8, 0.2, 0.9, 0.1]\n",
      "tf.Tensor([[0.694904   0.03986431 0.07429957 0.19093211]], shape=(1, 4), dtype=float32)\n",
      "[0.8, 0.1, 0.9, 0.1]\n",
      "tf.Tensor([[0.70686185 0.03683273 0.06876354 0.18754189]], shape=(1, 4), dtype=float32)\n"
     ]
    },
    {
     "name": "stderr",
     "output_type": "stream",
     "text": [
      "  4%|██▉                                                                    | 4101/100000 [2:48:55<56:05:25,  2.11s/it]"
     ]
    },
    {
     "name": "stdout",
     "output_type": "stream",
     "text": [
      "-24.734901793271902\n",
      "37\n"
     ]
    },
    {
     "name": "stderr",
     "output_type": "stream",
     "text": [
      "  4%|██▉                                                                    | 4201/100000 [2:51:55<37:27:28,  1.41s/it]"
     ]
    },
    {
     "name": "stdout",
     "output_type": "stream",
     "text": [
      "-18.209122312935023\n",
      "47\n",
      "[0.9, 0.3, 0.9, 0.1]\n",
      "tf.Tensor([[0.6489105  0.05393745 0.09307811 0.20407395]], shape=(1, 4), dtype=float32)\n",
      "[0.9, 0.2, 0.9, 0.1]\n",
      "tf.Tensor([[0.676473   0.04815026 0.08798008 0.1873965 ]], shape=(1, 4), dtype=float32)\n"
     ]
    },
    {
     "name": "stderr",
     "output_type": "stream",
     "text": [
      "  4%|███                                                                    | 4301/100000 [2:54:52<40:17:17,  1.52s/it]"
     ]
    },
    {
     "name": "stdout",
     "output_type": "stream",
     "text": [
      "-15.911333581942058\n",
      "49\n"
     ]
    },
    {
     "name": "stderr",
     "output_type": "stream",
     "text": [
      "  4%|███                                                                    | 4400/100000 [2:57:46<46:00:26,  1.73s/it]"
     ]
    },
    {
     "name": "stdout",
     "output_type": "stream",
     "text": [
      "-17.3459017015079\n",
      "49\n",
      "[0.5, 0.8, 0.9, 0.1]\n",
      "tf.Tensor([[0.6812843  0.04904447 0.09119978 0.17847143]], shape=(1, 4), dtype=float32)\n",
      "[0.5, 0.7, 0.9, 0.1]\n",
      "tf.Tensor([[0.71161956 0.04281651 0.08573454 0.15982951]], shape=(1, 4), dtype=float32)\n",
      "[0.5, 0.6, 0.9, 0.1]\n",
      "tf.Tensor([[0.7354588  0.03813701 0.08056138 0.14584276]], shape=(1, 4), dtype=float32)\n",
      "[0.5, 0.5, 0.9, 0.1]\n",
      "tf.Tensor([[0.7531068  0.03263407 0.07060011 0.14365904]], shape=(1, 4), dtype=float32)\n",
      "[0.6, 0.5, 0.9, 0.1]\n",
      "tf.Tensor([[0.7735092  0.02921617 0.06608038 0.13119426]], shape=(1, 4), dtype=float32)\n",
      "[0.6, 0.4, 0.9, 0.1]\n",
      "tf.Tensor([[0.78550136 0.02735681 0.06350089 0.12364092]], shape=(1, 4), dtype=float32)\n",
      "[0.6, 0.3, 0.9, 0.1]\n",
      "tf.Tensor([[0.7817454  0.02717927 0.0609756  0.13009968]], shape=(1, 4), dtype=float32)\n",
      "[0.7, 0.3, 0.9, 0.1]\n"
     ]
    },
    {
     "name": "stderr",
     "output_type": "stream",
     "text": [
      "\r",
      "  4%|███                                                                    | 4401/100000 [2:57:47<38:36:27,  1.45s/it]"
     ]
    },
    {
     "name": "stdout",
     "output_type": "stream",
     "text": [
      "tf.Tensor([[0.7835916  0.02716135 0.06162967 0.12761737]], shape=(1, 4), dtype=float32)\n",
      "[0.7, 0.2, 0.9, 0.1]\n",
      "tf.Tensor([[0.78140736 0.02714678 0.05946764 0.13197827]], shape=(1, 4), dtype=float32)\n",
      "[0.8, 0.2, 0.9, 0.1]\n",
      "tf.Tensor([[0.7789211  0.02811599 0.06280804 0.13015477]], shape=(1, 4), dtype=float32)\n"
     ]
    },
    {
     "name": "stderr",
     "output_type": "stream",
     "text": [
      "  5%|███▏                                                                   | 4501/100000 [3:00:41<50:19:08,  1.90s/it]"
     ]
    },
    {
     "name": "stdout",
     "output_type": "stream",
     "text": [
      "-19.065747545960313\n",
      "49\n"
     ]
    },
    {
     "name": "stderr",
     "output_type": "stream",
     "text": [
      "  5%|███▎                                                                   | 4600/100000 [3:03:22<40:44:23,  1.54s/it]"
     ]
    },
    {
     "name": "stdout",
     "output_type": "stream",
     "text": [
      "-15.069315103663723\n",
      "55\n",
      "[0.5, 0.9, 0.9, 0.1]\n",
      "tf.Tensor([[0.74082434 0.03563488 0.069808   0.15373279]], shape=(1, 4), dtype=float32)\n",
      "[0.5, 0.8, 0.9, 0.1]\n",
      "tf.Tensor([[0.7674895  0.03083918 0.0647821  0.13688922]], shape=(1, 4), dtype=float32)\n",
      "[0.5, 0.7, 0.9, 0.1]\n",
      "tf.Tensor([[0.78755075 0.02734571 0.06003229 0.12507127]], shape=(1, 4), dtype=float32)\n",
      "[0.5, 0.6, 0.9, 0.1]\n",
      "tf.Tensor([[0.8020316  0.02491358 0.0561633  0.11689154]], shape=(1, 4), dtype=float32)\n",
      "[0.5, 0.5, 0.9, 0.1]\n",
      "tf.Tensor([[0.8139089  0.0211479  0.04896841 0.11597487]], shape=(1, 4), dtype=float32)\n",
      "[0.6, 0.5, 0.9, 0.1]\n",
      "tf.Tensor([[0.8277119  0.01917328 0.04582853 0.10728639]], shape=(1, 4), dtype=float32)\n",
      "[0.6, 0.4, 0.9, 0.1]\n",
      "tf.Tensor([[0.8236634  0.01904305 0.04403107 0.11326251]], shape=(1, 4), dtype=float32)\n",
      "[0.7, 0.4, 0.9, 0.1]\n",
      "tf.Tensor([[0.82728827 0.01896609 0.04433334 0.10941226]], shape=(1, 4), dtype=float32)\n",
      "[0.7, 0.3, 0.9, 0.1]\n",
      "tf.Tensor([[0.8243233  0.01892317 0.04278003 0.11397346]], shape=(1, 4), dtype=float32)\n",
      "[0.8, 0.3, 0.9, 0.1]\n"
     ]
    },
    {
     "name": "stderr",
     "output_type": "stream",
     "text": [
      "\r",
      "  5%|███▎                                                                   | 4601/100000 [3:03:25<48:31:57,  1.83s/it]"
     ]
    },
    {
     "name": "stdout",
     "output_type": "stream",
     "text": [
      "tf.Tensor([[0.8303648  0.01843489 0.04260942 0.10859086]], shape=(1, 4), dtype=float32)\n"
     ]
    },
    {
     "name": "stderr",
     "output_type": "stream",
     "text": [
      "  5%|███▎                                                                   | 4701/100000 [3:06:09<38:44:45,  1.46s/it]"
     ]
    },
    {
     "name": "stdout",
     "output_type": "stream",
     "text": [
      "-11.060358517542882\n",
      "64\n"
     ]
    },
    {
     "name": "stderr",
     "output_type": "stream",
     "text": [
      "  5%|███▍                                                                   | 4801/100000 [3:08:54<46:04:25,  1.74s/it]"
     ]
    },
    {
     "name": "stdout",
     "output_type": "stream",
     "text": [
      "-16.096599548358927\n",
      "62\n",
      "[0.9, 0.2, 0.1, 0.1]\n",
      "tf.Tensor([[0.7394246  0.04243741 0.07147506 0.14666285]], shape=(1, 4), dtype=float32)\n",
      "[0.8, 0.2, 0.1, 0.1]\n",
      "tf.Tensor([[0.732637   0.04563111 0.07760978 0.1441221 ]], shape=(1, 4), dtype=float32)\n",
      "[0.7, 0.2, 0.1, 0.1]\n",
      "tf.Tensor([[0.72264814 0.04938919 0.08481143 0.14315124]], shape=(1, 4), dtype=float32)\n",
      "[0.6, 0.2, 0.1, 0.1]\n",
      "tf.Tensor([[0.7093001  0.05376849 0.09319058 0.14374082]], shape=(1, 4), dtype=float32)\n",
      "[0.5, 0.2, 0.1, 0.1]\n",
      "tf.Tensor([[0.69285786 0.05808826 0.10269808 0.14635587]], shape=(1, 4), dtype=float32)\n",
      "[0.4, 0.2, 0.1, 0.1]\n",
      "tf.Tensor([[0.6751804  0.06244155 0.11284425 0.14953381]], shape=(1, 4), dtype=float32)\n",
      "[0.3, 0.2, 0.1, 0.1]\n",
      "tf.Tensor([[0.6767209  0.06095102 0.11204972 0.15027831]], shape=(1, 4), dtype=float32)\n",
      "[0.2, 0.2, 0.1, 0.1]\n",
      "tf.Tensor([[0.72445357 0.04737855 0.09337827 0.13478954]], shape=(1, 4), dtype=float32)\n",
      "[0.2, 0.1, 0.1, 0.1]\n",
      "tf.Tensor([[0.71860105 0.04870166 0.09424603 0.13845126]], shape=(1, 4), dtype=float32)\n"
     ]
    },
    {
     "name": "stderr",
     "output_type": "stream",
     "text": [
      "  5%|███▍                                                                   | 4901/100000 [3:11:30<36:45:00,  1.39s/it]"
     ]
    },
    {
     "name": "stdout",
     "output_type": "stream",
     "text": [
      "-13.069708595719058\n",
      "63\n"
     ]
    },
    {
     "name": "stderr",
     "output_type": "stream",
     "text": [
      "  5%|███▌                                                                   | 5001/100000 [3:13:57<28:43:11,  1.09s/it]"
     ]
    },
    {
     "name": "stdout",
     "output_type": "stream",
     "text": [
      "-9.063339254307817\n",
      "75\n",
      "[0.4, 0.5, 0.1, 0.9]\n",
      "tf.Tensor([[0.7868906  0.03168065 0.05970978 0.12171896]], shape=(1, 4), dtype=float32)\n",
      "[0.4, 0.6, 0.1, 0.9]\n",
      "tf.Tensor([[0.80090755 0.02874267 0.05706198 0.11328787]], shape=(1, 4), dtype=float32)\n",
      "[0.4, 0.7, 0.1, 0.9]\n",
      "tf.Tensor([[0.8125757  0.02674394 0.05635724 0.10432316]], shape=(1, 4), dtype=float32)\n",
      "[0.3, 0.7, 0.1, 0.9]\n",
      "tf.Tensor([[0.8234345  0.02446476 0.05354174 0.09855894]], shape=(1, 4), dtype=float32)\n",
      "[0.3, 0.8, 0.1, 0.9]\n",
      "tf.Tensor([[0.83301926 0.02240219 0.0520849  0.09249365]], shape=(1, 4), dtype=float32)\n",
      "[0.2, 0.8, 0.1, 0.9]\n",
      "tf.Tensor([[0.8419579  0.02052028 0.04921747 0.08830428]], shape=(1, 4), dtype=float32)\n",
      "[0.2, 0.9, 0.1, 0.9]\n",
      "tf.Tensor([[0.84609    0.01957273 0.04853881 0.08579841]], shape=(1, 4), dtype=float32)\n"
     ]
    },
    {
     "name": "stderr",
     "output_type": "stream",
     "text": [
      "  5%|███▌                                                                   | 5101/100000 [3:16:10<43:14:39,  1.64s/it]"
     ]
    },
    {
     "name": "stdout",
     "output_type": "stream",
     "text": [
      "-12.750474821609275\n",
      "73\n"
     ]
    },
    {
     "name": "stderr",
     "output_type": "stream",
     "text": [
      "  5%|███▋                                                                   | 5201/100000 [3:18:26<45:05:05,  1.71s/it]"
     ]
    },
    {
     "name": "stdout",
     "output_type": "stream",
     "text": [
      "-9.148235167659065\n",
      "78\n",
      "[0.9, 0.3, 0.9, 0.1]\n",
      "tf.Tensor([[0.89856195 0.0125369  0.02948858 0.05941264]], shape=(1, 4), dtype=float32)\n",
      "[0.9, 0.2, 0.9, 0.1]\n",
      "tf.Tensor([[0.91890585 0.00954788 0.02412267 0.04742355]], shape=(1, 4), dtype=float32)\n"
     ]
    },
    {
     "name": "stderr",
     "output_type": "stream",
     "text": [
      "  5%|███▊                                                                   | 5301/100000 [3:20:42<33:59:56,  1.29s/it]"
     ]
    },
    {
     "name": "stdout",
     "output_type": "stream",
     "text": [
      "-9.731021764379046\n",
      "72\n"
     ]
    },
    {
     "name": "stderr",
     "output_type": "stream",
     "text": [
      "  5%|███▊                                                                   | 5400/100000 [3:22:41<38:34:10,  1.47s/it]"
     ]
    },
    {
     "name": "stdout",
     "output_type": "stream",
     "text": [
      "-8.607196841531948\n",
      "85\n",
      "[0.1, 0.1, 0.5, 0.7]\n",
      "tf.Tensor([[0.87197816 0.01685891 0.03918941 0.0719735 ]], shape=(1, 4), dtype=float32)\n",
      "[0.1, 0.2, 0.5, 0.7]\n",
      "tf.Tensor([[0.8768833  0.01582821 0.03839928 0.06888909]], shape=(1, 4), dtype=float32)\n",
      "[0.1, 0.3, 0.5, 0.7]\n",
      "tf.Tensor([[0.9087641  0.00999505 0.02674835 0.05449257]], shape=(1, 4), dtype=float32)\n",
      "[0.2, 0.3, 0.5, 0.7]\n",
      "tf.Tensor([[0.9096708  0.01011464 0.0274455  0.05276905]], shape=(1, 4), dtype=float32)\n",
      "[0.2, 0.4, 0.5, 0.7]\n",
      "tf.Tensor([[0.9341045  0.00627185 0.01861481 0.04100878]], shape=(1, 4), dtype=float32)\n",
      "[0.3, 0.4, 0.5, 0.7]\n",
      "tf.Tensor([[0.9362551  0.00618148 0.01873212 0.03883128]], shape=(1, 4), dtype=float32)\n",
      "[0.3, 0.5, 0.5, 0.7]\n",
      "tf.Tensor([[0.95195097 0.00397975 0.01303407 0.03103523]], shape=(1, 4), dtype=float32)\n",
      "[0.4, 0.5, 0.5, 0.7]"
     ]
    },
    {
     "name": "stderr",
     "output_type": "stream",
     "text": [
      "\r",
      "  5%|███▊                                                                   | 5401/100000 [3:22:44<46:22:58,  1.77s/it]"
     ]
    },
    {
     "name": "stdout",
     "output_type": "stream",
     "text": [
      "\n",
      "tf.Tensor([[0.9519782  0.00416801 0.0135727  0.03028113]], shape=(1, 4), dtype=float32)\n",
      "[0.4, 0.6, 0.5, 0.7]\n",
      "tf.Tensor([[0.9464168  0.00494403 0.01577706 0.03286206]], shape=(1, 4), dtype=float32)\n",
      "[0.4, 0.7, 0.5, 0.7]\n",
      "tf.Tensor([[0.95835775 0.00326263 0.01128242 0.02709725]], shape=(1, 4), dtype=float32)\n"
     ]
    },
    {
     "name": "stderr",
     "output_type": "stream",
     "text": [
      "  6%|███▉                                                                   | 5501/100000 [3:24:39<28:49:15,  1.10s/it]"
     ]
    },
    {
     "name": "stdout",
     "output_type": "stream",
     "text": [
      "-5.420880925158504\n",
      "84\n"
     ]
    },
    {
     "name": "stderr",
     "output_type": "stream",
     "text": [
      "  6%|███▉                                                                   | 5601/100000 [3:26:35<42:24:40,  1.62s/it]"
     ]
    },
    {
     "name": "stdout",
     "output_type": "stream",
     "text": [
      "-6.98376665982615\n",
      "88\n",
      "[0.2, 0.7, 0.5, 0.3]\n",
      "tf.Tensor([[0.86756074 0.01830088 0.04013816 0.07400023]], shape=(1, 4), dtype=float32)\n",
      "[0.2, 0.6, 0.5, 0.3]\n",
      "tf.Tensor([[0.9023648  0.01138789 0.02783978 0.05840753]], shape=(1, 4), dtype=float32)\n",
      "[0.3, 0.6, 0.5, 0.3]\n",
      "tf.Tensor([[0.92873615 0.00761999 0.02086203 0.04278179]], shape=(1, 4), dtype=float32)\n",
      "[0.3, 0.5, 0.5, 0.3]\n",
      "tf.Tensor([[0.94741786 0.00482717 0.0143924  0.03336249]], shape=(1, 4), dtype=float32)\n",
      "[0.4, 0.5, 0.5, 0.3]\n",
      "tf.Tensor([[0.9601431  0.00336366 0.01113036 0.02536286]], shape=(1, 4), dtype=float32)\n",
      "[0.4, 0.4, 0.5, 0.3]\n",
      "tf.Tensor([[0.9689766  0.00234598 0.00825967 0.02041759]], shape=(1, 4), dtype=float32)\n",
      "[0.5, 0.4, 0.5, 0.3]\n",
      "tf.Tensor([[0.969068   0.00238007 0.00843886 0.02011311]], shape=(1, 4), dtype=float32)\n"
     ]
    },
    {
     "name": "stderr",
     "output_type": "stream",
     "text": [
      "  6%|████                                                                   | 5701/100000 [3:28:27<29:50:03,  1.14s/it]"
     ]
    },
    {
     "name": "stdout",
     "output_type": "stream",
     "text": [
      "-4.354079316203124\n",
      "93\n"
     ]
    },
    {
     "name": "stderr",
     "output_type": "stream",
     "text": [
      "  6%|████                                                                   | 5800/100000 [3:30:12<30:11:50,  1.15s/it]"
     ]
    },
    {
     "name": "stdout",
     "output_type": "stream",
     "text": [
      "-3.948401614542967\n",
      "95\n",
      "[0.5, 0.3, 0.9, 0.9]\n",
      "tf.Tensor([[0.7660597  0.04305584 0.0761495  0.11473493]], shape=(1, 4), dtype=float32)\n",
      "[0.5, 0.4, 0.9, 0.9]\n",
      "tf.Tensor([[0.80699015 0.03311276 0.06441274 0.09548428]], shape=(1, 4), dtype=float32)\n",
      "[0.5, 0.5, 0.9, 0.9]\n",
      "tf.Tensor([[0.873647   0.01806518 0.04036507 0.06792285]], shape=(1, 4), dtype=float32)\n",
      "[0.6, 0.5, 0.9, 0.9]\n",
      "tf.Tensor([[0.89828783 0.01412127 0.03363875 0.0539521 ]], shape=(1, 4), dtype=float32)\n",
      "[0.6, 0.6, 0.9, 0.9]\n",
      "tf.Tensor([[0.93546873 0.00737645 0.02024848 0.03690634]], shape=(1, 4), dtype=float32)\n",
      "[0.7, 0.6, 0.9, 0.9]\n",
      "tf.Tensor([[0.9476552  0.00583762 0.01715384 0.02935339]], shape=(1, 4), dtype=float32)\n",
      "[0.7, 0.7, 0.9, 0.9]\n",
      "tf.Tensor([[0.9519463  0.00528809 0.0159503  0.02681535]], shape=(1, 4), dtype=float32)"
     ]
    },
    {
     "name": "stderr",
     "output_type": "stream",
     "text": [
      "\r",
      "  6%|████                                                                   | 5801/100000 [3:30:13<28:34:49,  1.09s/it]"
     ]
    },
    {
     "name": "stdout",
     "output_type": "stream",
     "text": [
      "\n",
      "[0.7, 0.8, 0.9, 0.9]\n",
      "tf.Tensor([[0.9622076  0.0036305  0.01182702 0.02233481]], shape=(1, 4), dtype=float32)\n",
      "[0.8, 0.8, 0.9, 0.9]\n",
      "tf.Tensor([[0.9576746  0.00442809 0.01396334 0.02393393]], shape=(1, 4), dtype=float32)\n",
      "[0.8, 0.9, 0.9, 0.9]\n",
      "tf.Tensor([[0.96606654 0.00314019 0.01060857 0.02018468]], shape=(1, 4), dtype=float32)\n"
     ]
    },
    {
     "name": "stderr",
     "output_type": "stream",
     "text": [
      "  6%|████▏                                                                  | 5901/100000 [3:31:55<23:41:22,  1.10it/s]"
     ]
    },
    {
     "name": "stdout",
     "output_type": "stream",
     "text": [
      "-2.8838313465334693\n",
      "95\n"
     ]
    },
    {
     "name": "stderr",
     "output_type": "stream",
     "text": [
      "  6%|████▎                                                                  | 6000/100000 [3:33:38<18:03:45,  1.45it/s]"
     ]
    },
    {
     "name": "stdout",
     "output_type": "stream",
     "text": [
      "-2.063502239006201\n",
      "96\n",
      "[0.7, 0.9, 0.5, 0.3]\n",
      "tf.Tensor([[0.71928924 0.05780526 0.0976975  0.12520796]], shape=(1, 4), dtype=float32)\n",
      "[0.7, 0.8, 0.5, 0.3]\n",
      "tf.Tensor([[0.8238363  0.03180593 0.06342927 0.08092853]], shape=(1, 4), dtype=float32)\n",
      "[0.7, 0.7, 0.5, 0.3]\n",
      "tf.Tensor([[0.89367306 0.01678874 0.03940102 0.05013715]], shape=(1, 4), dtype=float32)\n",
      "[0.7, 0.6, 0.5, 0.3]\n",
      "tf.Tensor([[0.9345007  0.00897101 0.02494907 0.03157921]], shape=(1, 4), dtype=float32)\n",
      "[0.7, 0.5, 0.5, 0.3]\n",
      "tf.Tensor([[0.95702595 0.00521534 0.01682681 0.0209319 ]], shape=(1, 4), dtype=float32)\n",
      "[0.7, 0.4, 0.5, 0.3]\n",
      "tf.Tensor([[0.961613   0.00455122 0.01570307 0.01813277]], shape=(1, 4), dtype=float32)\n",
      "[0.6, 0.4, 0.5, 0.3]\n",
      "tf.Tensor([[0.96305835 0.00429998 0.01524956 0.0173922 ]], shape=(1, 4), dtype=float32)\n",
      "[0.6, 0.3, 0.5, 0.3]\n",
      "tf.Tensor([[0.9491978  0.0065901  0.02098501 0.02322713]], shape=(1, 4), dtype=float32)"
     ]
    },
    {
     "name": "stderr",
     "output_type": "stream",
     "text": [
      "\r",
      "  6%|████▎                                                                  | 6001/100000 [3:33:38<16:03:16,  1.63it/s]"
     ]
    },
    {
     "name": "stdout",
     "output_type": "stream",
     "text": [
      "\n"
     ]
    },
    {
     "name": "stderr",
     "output_type": "stream",
     "text": [
      "  6%|████▎                                                                  | 6101/100000 [3:35:20<28:09:17,  1.08s/it]"
     ]
    },
    {
     "name": "stdout",
     "output_type": "stream",
     "text": [
      "-4.680935538124826\n",
      "94\n"
     ]
    },
    {
     "name": "stderr",
     "output_type": "stream",
     "text": [
      "  6%|████▍                                                                  | 6201/100000 [3:36:53<34:44:10,  1.33s/it]"
     ]
    },
    {
     "name": "stdout",
     "output_type": "stream",
     "text": [
      "-4.12891933524035\n",
      "92\n",
      "[0.5, 0.0, 0.5, 0.3]\n",
      "tf.Tensor([[0.5275778  0.11878884 0.15618356 0.19744977]], shape=(1, 4), dtype=float32)\n",
      "[0.5, 0.1, 0.5, 0.3]\n",
      "tf.Tensor([[0.60893494 0.08956837 0.13406837 0.16742833]], shape=(1, 4), dtype=float32)\n",
      "[0.5, 0.2, 0.5, 0.3]\n",
      "tf.Tensor([[0.6971231  0.06325589 0.10778786 0.13183305]], shape=(1, 4), dtype=float32)\n"
     ]
    },
    {
     "name": "stderr",
     "output_type": "stream",
     "text": [
      "  6%|████▍                                                                  | 6301/100000 [3:38:24<22:19:30,  1.17it/s]"
     ]
    },
    {
     "name": "stdout",
     "output_type": "stream",
     "text": [
      "-1.1818967524324582\n",
      "96\n"
     ]
    },
    {
     "name": "stderr",
     "output_type": "stream",
     "text": [
      "  6%|████▌                                                                  | 6401/100000 [3:39:48<25:19:59,  1.03it/s]"
     ]
    },
    {
     "name": "stdout",
     "output_type": "stream",
     "text": [
      "-0.1785244474412044\n",
      "99\n",
      "[0.6, 0.0, 0.9, 0.1]\n",
      "tf.Tensor([[0.49433973 0.13013464 0.16353442 0.21199124]], shape=(1, 4), dtype=float32)\n",
      "[0.7, 0.0, 0.9, 0.1]\n",
      "tf.Tensor([[0.63747436 0.08109313 0.11660142 0.16483107]], shape=(1, 4), dtype=float32)\n",
      "[0.8, 0.0, 0.9, 0.1]\n",
      "tf.Tensor([[0.77932256 0.04176397 0.07155935 0.10735411]], shape=(1, 4), dtype=float32)\n",
      "[0.9, 0.0, 0.9, 0.1]\n",
      "tf.Tensor([[0.85832477 0.02451592 0.0490768  0.06808246]], shape=(1, 4), dtype=float32)\n"
     ]
    },
    {
     "name": "stderr",
     "output_type": "stream",
     "text": [
      "  7%|████▌                                                                  | 6501/100000 [3:41:16<18:21:12,  1.42it/s]"
     ]
    },
    {
     "name": "stdout",
     "output_type": "stream",
     "text": [
      "-1.1908488321622865\n",
      "96\n"
     ]
    },
    {
     "name": "stderr",
     "output_type": "stream",
     "text": [
      "  7%|████▋                                                                  | 6601/100000 [3:42:32<13:40:26,  1.90it/s]"
     ]
    },
    {
     "name": "stdout",
     "output_type": "stream",
     "text": [
      "1.2179569364735596\n",
      "100\n",
      "[0.2, 0.5, 0.5, 0.3]\n",
      "tf.Tensor([[0.38601303 0.16507904 0.19611472 0.25279325]], shape=(1, 4), dtype=float32)\n",
      "[0.3, 0.5, 0.5, 0.3]\n",
      "tf.Tensor([[0.53685385 0.10622765 0.14215742 0.21476105]], shape=(1, 4), dtype=float32)\n",
      "[0.4, 0.5, 0.5, 0.3]\n",
      "tf.Tensor([[0.71264154 0.05717379 0.09202791 0.13815683]], shape=(1, 4), dtype=float32)\n",
      "[0.4, 0.4, 0.5, 0.3]\n",
      "tf.Tensor([[0.8521853  0.0239018  0.04736951 0.07654326]], shape=(1, 4), dtype=float32)\n",
      "[0.5, 0.4, 0.5, 0.3]\n",
      "tf.Tensor([[0.93005955 0.00981139 0.02418879 0.03594027]], shape=(1, 4), dtype=float32)\n"
     ]
    },
    {
     "name": "stderr",
     "output_type": "stream",
     "text": [
      "  7%|████▊                                                                  | 6701/100000 [3:43:47<18:41:32,  1.39it/s]"
     ]
    },
    {
     "name": "stdout",
     "output_type": "stream",
     "text": [
      "1.5067155710972373\n",
      "97\n"
     ]
    },
    {
     "name": "stderr",
     "output_type": "stream",
     "text": [
      "  7%|████▊                                                                  | 6801/100000 [3:45:01<23:23:58,  1.11it/s]"
     ]
    },
    {
     "name": "stdout",
     "output_type": "stream",
     "text": [
      "0.5054469622927427\n",
      "99\n",
      "[0.9, 0.2, 0.1, 0.9]\n",
      "tf.Tensor([[0.26324308 0.24481943 0.24225652 0.24968094]], shape=(1, 4), dtype=float32)\n",
      "[0.8, 0.2, 0.1, 0.9]\n",
      "tf.Tensor([[0.3148679  0.21367331 0.23493263 0.23652616]], shape=(1, 4), dtype=float32)\n",
      "[0.7, 0.2, 0.1, 0.9]\n",
      "tf.Tensor([[0.43082002 0.15870103 0.20417678 0.20630209]], shape=(1, 4), dtype=float32)\n",
      "[0.7, 0.3, 0.1, 0.9]\n",
      "tf.Tensor([[0.5723529  0.10704624 0.16261333 0.15798753]], shape=(1, 4), dtype=float32)\n",
      "[0.6, 0.3, 0.1, 0.9]\n",
      "tf.Tensor([[0.74074924 0.05716189 0.10420317 0.09788573]], shape=(1, 4), dtype=float32)\n",
      "[0.6, 0.4, 0.1, 0.9]\n",
      "tf.Tensor([[0.85126466 0.02838317 0.06266026 0.05769197]], shape=(1, 4), dtype=float32)\n",
      "[0.5, 0.4, 0.1, 0.9]\n",
      "tf.Tensor([[0.866949   0.02467038 0.05617286 0.05220775]], shape=(1, 4), dtype=float32)\n",
      "[0.5, 0.5, 0.1, 0.9]\n",
      "tf.Tensor([[0.8736639  0.02252391 0.05295221 0.05085994]], shape=(1, 4), dtype=float32)\n",
      "[0.4, 0.5, 0.1, 0.9]\n",
      "tf.Tensor([[0.87636787 0.02196606 0.05236777 0.04929839]], shape=(1, 4), dtype=float32)\n",
      "[0.4, 0.6, 0.1, 0.9]\n",
      "tf.Tensor([[0.8832413  0.01994906 0.04904655 0.04776308]], shape=(1, 4), dtype=float32)\n"
     ]
    },
    {
     "name": "stderr",
     "output_type": "stream",
     "text": [
      "  7%|████▉                                                                  | 6901/100000 [3:46:19<16:05:27,  1.61it/s]"
     ]
    },
    {
     "name": "stdout",
     "output_type": "stream",
     "text": [
      "-0.4321123754075046\n",
      "97\n"
     ]
    },
    {
     "name": "stderr",
     "output_type": "stream",
     "text": [
      "  7%|████▉                                                                  | 7001/100000 [3:47:34<28:54:36,  1.12s/it]"
     ]
    },
    {
     "name": "stdout",
     "output_type": "stream",
     "text": [
      "-0.6586451246701357\n",
      "99\n",
      "[0.0, 0.1, 0.1, 0.9]\n",
      "tf.Tensor([[0.22515374 0.27370754 0.24121623 0.25992253]], shape=(1, 4), dtype=float32)\n",
      "[0.0, 0.3, 0.1, 0.9]\n",
      "tf.Tensor([[0.23533098 0.25326315 0.24290217 0.26850367]], shape=(1, 4), dtype=float32)\n",
      "[0.0, 0.7, 0.1, 0.9]\n",
      "tf.Tensor([[0.33998337 0.18666528 0.22504334 0.24830802]], shape=(1, 4), dtype=float32)\n",
      "[0.0, 0.8, 0.1, 0.9]\n",
      "tf.Tensor([[0.5389462  0.10801488 0.1689195  0.18411943]], shape=(1, 4), dtype=float32)\n",
      "[0.0, 0.9, 0.1, 0.9]\n",
      "tf.Tensor([[0.80675524 0.0342645  0.0711913  0.08778894]], shape=(1, 4), dtype=float32)\n"
     ]
    },
    {
     "name": "stderr",
     "output_type": "stream",
     "text": [
      "  7%|█████                                                                  | 7101/100000 [3:48:41<11:34:55,  2.23it/s]"
     ]
    },
    {
     "name": "stdout",
     "output_type": "stream",
     "text": [
      "1.5422744641409705\n",
      "99\n"
     ]
    },
    {
     "name": "stderr",
     "output_type": "stream",
     "text": [
      "  7%|█████                                                                  | 7200/100000 [3:49:42<13:57:03,  1.85it/s]"
     ]
    },
    {
     "name": "stdout",
     "output_type": "stream",
     "text": [
      "2.3775165044369557\n",
      "100\n",
      "[0.9, 0.5, 0.1, 0.1]\n",
      "tf.Tensor([[0.21099047 0.288416   0.23743191 0.2631616 ]], shape=(1, 4), dtype=float32)\n",
      "[0.7, 0.5, 0.1, 0.1]\n",
      "tf.Tensor([[0.23093984 0.26602268 0.2419986  0.26103887]], shape=(1, 4), dtype=float32)\n",
      "[0.5, 0.5, 0.1, 0.1]\n",
      "tf.Tensor([[0.41178435 0.17720123 0.21200593 0.19900851]], shape=(1, 4), dtype=float32)\n",
      "[0.5, 0.4, 0.1, 0.1]\n",
      "tf.Tensor([[0.621754   0.09757518 0.15034601 0.13032481]], shape=(1, 4), dtype=float32)\n",
      "[0.4, 0.4, 0.1, 0.1]\n",
      "tf.Tensor([[0.86769956 0.02710036 0.05768327 0.04751676]], shape=(1, 4), dtype=float32)\n",
      "[0.4, 0.3, 0.1, 0.1]\n",
      "tf.Tensor([[0.94439423 0.00981462 0.0252516  0.02053951]], shape=(1, 4), dtype=float32)\n",
      "[0.3, 0.3, 0.1, 0.1]\n",
      "tf.Tensor([[0.9556068  0.00737856 0.02061624 0.01639836]], shape=(1, 4), dtype=float32)\n",
      "[0.3, 0.2, 0.1, 0.1]\n",
      "tf.Tensor([[0.94977033 0.00865744 0.02281188 0.01876038]], shape=(1, 4), dtype=float32)"
     ]
    },
    {
     "name": "stderr",
     "output_type": "stream",
     "text": [
      "\r",
      "  7%|█████                                                                  | 7201/100000 [3:49:44<19:44:32,  1.31it/s]"
     ]
    },
    {
     "name": "stdout",
     "output_type": "stream",
     "text": [
      "\n",
      "[0.2, 0.2, 0.1, 0.1]\n",
      "tf.Tensor([[0.94283503 0.00993196 0.02633574 0.02089716]], shape=(1, 4), dtype=float32)\n",
      "[0.2, 0.1, 0.1, 0.1]\n",
      "tf.Tensor([[0.9368426  0.01136107 0.02847349 0.02332286]], shape=(1, 4), dtype=float32)\n"
     ]
    },
    {
     "name": "stderr",
     "output_type": "stream",
     "text": [
      "  7%|█████▏                                                                 | 7301/100000 [3:50:50<18:59:34,  1.36it/s]"
     ]
    },
    {
     "name": "stdout",
     "output_type": "stream",
     "text": [
      "2.011686439901853\n",
      "100\n"
     ]
    },
    {
     "name": "stderr",
     "output_type": "stream",
     "text": [
      "  7%|█████▎                                                                 | 7401/100000 [3:52:02<21:02:47,  1.22it/s]"
     ]
    },
    {
     "name": "stdout",
     "output_type": "stream",
     "text": [
      "1.697546939779864\n",
      "99\n",
      "[0.9, 0.5, 0.1, 0.9]\n",
      "tf.Tensor([[0.19134314 0.315956   0.22787216 0.2648286 ]], shape=(1, 4), dtype=float32)\n",
      "[0.7, 0.5, 0.1, 0.9]\n",
      "tf.Tensor([[0.20611285 0.2949585  0.23537408 0.26355457]], shape=(1, 4), dtype=float32)\n",
      "[0.5, 0.5, 0.1, 0.9]\n",
      "tf.Tensor([[0.2734577  0.24198715 0.2420174  0.2425378 ]], shape=(1, 4), dtype=float32)\n",
      "[0.5, 0.6, 0.1, 0.9]\n",
      "tf.Tensor([[0.50754946 0.13461095 0.19284445 0.16499513]], shape=(1, 4), dtype=float32)\n",
      "[0.4, 0.6, 0.1, 0.9]\n",
      "tf.Tensor([[0.79392195 0.04672098 0.08806949 0.07128756]], shape=(1, 4), dtype=float32)\n",
      "[0.4, 0.7, 0.1, 0.9]\n",
      "tf.Tensor([[0.9359578  0.0114473  0.0291673  0.02342744]], shape=(1, 4), dtype=float32)\n",
      "[0.3, 0.7, 0.1, 0.9]\n",
      "tf.Tensor([[0.94167525 0.01017833 0.02666158 0.02148491]], shape=(1, 4), dtype=float32)\n",
      "[0.3, 0.8, 0.1, 0.9]\n",
      "tf.Tensor([[0.945168   0.00923552 0.02476436 0.02083205]], shape=(1, 4), dtype=float32)\n",
      "[0.2, 0.8, 0.1, 0.9]\n",
      "tf.Tensor([[0.9470431  0.00888293 0.02418633 0.01988764]], shape=(1, 4), dtype=float32)\n",
      "[0.2, 0.9, 0.1, 0.9]\n",
      "tf.Tensor([[0.9511353  0.00789544 0.0220513  0.018918  ]], shape=(1, 4), dtype=float32)\n"
     ]
    },
    {
     "name": "stderr",
     "output_type": "stream",
     "text": [
      "  8%|█████▎                                                                 | 7501/100000 [3:53:14<19:20:39,  1.33it/s]"
     ]
    },
    {
     "name": "stdout",
     "output_type": "stream",
     "text": [
      "0.4483939777350776\n",
      "96\n"
     ]
    },
    {
     "name": "stderr",
     "output_type": "stream",
     "text": [
      "  8%|█████▍                                                                 | 7601/100000 [3:54:16<17:06:46,  1.50it/s]"
     ]
    },
    {
     "name": "stdout",
     "output_type": "stream",
     "text": [
      "1.9427900798485183\n",
      "99\n",
      "[0.3, 0.9, 0.5, 0.3]\n",
      "tf.Tensor([[0.16184486 0.35853985 0.21657193 0.2630433 ]], shape=(1, 4), dtype=float32)\n",
      "[0.3, 0.7, 0.5, 0.3]\n",
      "tf.Tensor([[0.17209643 0.33929133 0.22133042 0.2672818 ]], shape=(1, 4), dtype=float32)\n",
      "[0.3, 0.5, 0.5, 0.3]\n",
      "tf.Tensor([[0.26391783 0.25765887 0.21435325 0.26407006]], shape=(1, 4), dtype=float32)\n",
      "[0.7, 0.5, 0.5, 0.3]\n",
      "tf.Tensor([[0.6197291  0.10566869 0.1276373  0.1469649 ]], shape=(1, 4), dtype=float32)\n",
      "[0.7, 0.4, 0.5, 0.3]\n",
      "tf.Tensor([[0.8940816  0.02214166 0.04229929 0.04147751]], shape=(1, 4), dtype=float32)\n",
      "[0.6, 0.4, 0.5, 0.3]\n",
      "tf.Tensor([[0.9789914  0.00323055 0.0093812  0.00839692]], shape=(1, 4), dtype=float32)\n",
      "[0.6, 0.3, 0.5, 0.3]\n",
      "tf.Tensor([[0.96918845 0.00519055 0.01357226 0.01204867]], shape=(1, 4), dtype=float32)\n"
     ]
    },
    {
     "name": "stderr",
     "output_type": "stream",
     "text": [
      "  8%|█████▍                                                                 | 7701/100000 [3:55:21<13:51:17,  1.85it/s]"
     ]
    },
    {
     "name": "stdout",
     "output_type": "stream",
     "text": [
      "1.9894402572741623\n",
      "99\n"
     ]
    },
    {
     "name": "stderr",
     "output_type": "stream",
     "text": [
      "  8%|█████▌                                                                 | 7801/100000 [3:56:24<15:27:29,  1.66it/s]"
     ]
    },
    {
     "name": "stdout",
     "output_type": "stream",
     "text": [
      "2.3109348585173324\n",
      "100\n",
      "[0.7, 0.6, 0.5, 0.7]\n",
      "tf.Tensor([[0.16475613 0.3396369  0.2311777  0.2644293 ]], shape=(1, 4), dtype=float32)\n",
      "[0.5, 0.6, 0.5, 0.7]\n",
      "tf.Tensor([[0.16588472 0.32867154 0.23375222 0.27169153]], shape=(1, 4), dtype=float32)\n",
      "[0.5, 0.8, 0.5, 0.7]\n",
      "tf.Tensor([[0.19300349 0.30402878 0.23273535 0.27023235]], shape=(1, 4), dtype=float32)\n",
      "[0.5, 0.6, 0.5, 0.7]\n",
      "tf.Tensor([[0.43246213 0.17174688 0.1986111  0.19717984]], shape=(1, 4), dtype=float32)\n"
     ]
    },
    {
     "name": "stderr",
     "output_type": "stream",
     "text": [
      "  8%|█████▌                                                                 | 7901/100000 [3:57:26<15:00:19,  1.70it/s]"
     ]
    },
    {
     "name": "stdout",
     "output_type": "stream",
     "text": [
      "2.591611764102498\n",
      "100\n"
     ]
    },
    {
     "name": "stderr",
     "output_type": "stream",
     "text": [
      "  8%|█████▋                                                                 | 8001/100000 [3:58:27<15:33:39,  1.64it/s]"
     ]
    },
    {
     "name": "stdout",
     "output_type": "stream",
     "text": [
      "3.180486423568156\n",
      "100\n",
      "[0.1, 0.9, 0.9, 0.9]\n",
      "tf.Tensor([[0.12314691 0.3904109  0.22691719 0.25952503]], shape=(1, 4), dtype=float32)\n",
      "[0.3, 0.9, 0.9, 0.9]\n",
      "tf.Tensor([[0.13184102 0.37088603 0.23514548 0.2621275 ]], shape=(1, 4), dtype=float32)\n",
      "[0.5, 0.9, 0.9, 0.9]\n",
      "tf.Tensor([[0.19310844 0.30508935 0.22445308 0.27734914]], shape=(1, 4), dtype=float32)\n",
      "[0.7, 0.9, 0.9, 0.9]\n",
      "tf.Tensor([[0.6002334  0.10628785 0.12764476 0.16583408]], shape=(1, 4), dtype=float32)\n",
      "[0.8, 0.9, 0.9, 0.9]\n",
      "tf.Tensor([[0.94530284 0.00947916 0.0193653  0.02585276]], shape=(1, 4), dtype=float32)\n"
     ]
    },
    {
     "name": "stderr",
     "output_type": "stream",
     "text": [
      "  8%|█████▊                                                                 | 8101/100000 [3:59:30<14:10:47,  1.80it/s]"
     ]
    },
    {
     "name": "stdout",
     "output_type": "stream",
     "text": [
      "2.1947165609804595\n",
      "99\n"
     ]
    },
    {
     "name": "stderr",
     "output_type": "stream",
     "text": [
      "  8%|█████▊                                                                 | 8201/100000 [4:00:37<18:37:09,  1.37it/s]"
     ]
    },
    {
     "name": "stdout",
     "output_type": "stream",
     "text": [
      "1.7280870491706515\n",
      "100\n",
      "[0.4, 0.3, 0.1, 0.1]\n",
      "tf.Tensor([[0.13554338 0.38619933 0.22506398 0.2531933 ]], shape=(1, 4), dtype=float32)\n",
      "[0.2, 0.3, 0.1, 0.1]\n",
      "tf.Tensor([[0.13773404 0.3797224  0.2234612  0.25908235]], shape=(1, 4), dtype=float32)\n",
      "[0.2, 0.1, 0.1, 0.1]\n",
      "tf.Tensor([[0.16057546 0.34752017 0.2317174  0.260187  ]], shape=(1, 4), dtype=float32)\n",
      "[0.0, 0.1, 0.1, 0.1]\n",
      "tf.Tensor([[0.22823629 0.28001145 0.24026427 0.25148797]], shape=(1, 4), dtype=float32)\n",
      "[0.2, 0.1, 0.1, 0.1]\n",
      "tf.Tensor([[0.5874873  0.11386555 0.1590587  0.13958849]], shape=(1, 4), dtype=float32)\n"
     ]
    },
    {
     "name": "stderr",
     "output_type": "stream",
     "text": [
      "  8%|█████▉                                                                 | 8301/100000 [4:01:38<23:30:49,  1.08it/s]"
     ]
    },
    {
     "name": "stdout",
     "output_type": "stream",
     "text": [
      "1.7221589502199746\n",
      "99\n"
     ]
    },
    {
     "name": "stderr",
     "output_type": "stream",
     "text": [
      "  8%|█████▉                                                                 | 8401/100000 [4:02:38<16:44:36,  1.52it/s]"
     ]
    },
    {
     "name": "stdout",
     "output_type": "stream",
     "text": [
      "2.358992828973471\n",
      "99\n",
      "[0.0, 0.0, 0.5, 0.7]\n",
      "tf.Tensor([[0.1135246  0.395211   0.23433053 0.25693378]], shape=(1, 4), dtype=float32)\n",
      "[0.0, 0.2, 0.5, 0.7]\n",
      "tf.Tensor([[0.11590864 0.38042736 0.23988833 0.26377568]], shape=(1, 4), dtype=float32)\n",
      "[0.2, 0.2, 0.5, 0.7]\n",
      "tf.Tensor([[0.13158527 0.3536255  0.24656487 0.2682244 ]], shape=(1, 4), dtype=float32)\n",
      "[0.2, 0.4, 0.5, 0.7]\n",
      "tf.Tensor([[0.17336969 0.30627927 0.23669411 0.28365692]], shape=(1, 4), dtype=float32)\n",
      "[0.4, 0.4, 0.5, 0.7]\n",
      "tf.Tensor([[0.5201375  0.13195503 0.16596211 0.18194537]], shape=(1, 4), dtype=float32)\n",
      "[0.4, 0.5, 0.5, 0.7]\n",
      "tf.Tensor([[0.92200065 0.0149163  0.03089602 0.03218708]], shape=(1, 4), dtype=float32)\n",
      "[0.4, 0.6, 0.5, 0.7]\n",
      "tf.Tensor([[0.96291    0.00602325 0.01458189 0.01648488]], shape=(1, 4), dtype=float32)\n",
      "[0.5, 0.6, 0.5, 0.7]\n",
      "tf.Tensor([[0.96033764 0.00670702 0.01616658 0.01678883]], shape=(1, 4), dtype=float32)\n"
     ]
    },
    {
     "name": "stderr",
     "output_type": "stream",
     "text": [
      "  9%|██████                                                                 | 8501/100000 [4:03:36<14:00:05,  1.82it/s]"
     ]
    },
    {
     "name": "stdout",
     "output_type": "stream",
     "text": [
      "3.1121172422222108\n",
      "100\n"
     ]
    },
    {
     "name": "stderr",
     "output_type": "stream",
     "text": [
      "  9%|██████                                                                 | 8601/100000 [4:04:35<14:55:04,  1.70it/s]"
     ]
    },
    {
     "name": "stdout",
     "output_type": "stream",
     "text": [
      "2.899120580758801\n",
      "100\n",
      "[0.7, 0.1, 0.9, 0.9]\n",
      "tf.Tensor([[0.10340574 0.41608232 0.22663309 0.2538789 ]], shape=(1, 4), dtype=float32)\n",
      "[0.7, 0.3, 0.9, 0.9]\n",
      "tf.Tensor([[0.11230748 0.3950327  0.23068781 0.26197198]], shape=(1, 4), dtype=float32)\n",
      "[0.7, 0.5, 0.9, 0.9]\n",
      "tf.Tensor([[0.12916644 0.37182972 0.2325137  0.26649013]], shape=(1, 4), dtype=float32)\n",
      "[0.7, 0.7, 0.9, 0.9]\n",
      "tf.Tensor([[0.2504638  0.28699103 0.2289293  0.23361577]], shape=(1, 4), dtype=float32)\n",
      "[0.7, 0.9, 0.9, 0.9]\n",
      "tf.Tensor([[0.8274196  0.04053923 0.06702218 0.06501903]], shape=(1, 4), dtype=float32)\n",
      "[0.8, 0.9, 0.9, 0.9]\n",
      "tf.Tensor([[0.9839618  0.00223753 0.00699676 0.00680379]], shape=(1, 4), dtype=float32)\n"
     ]
    },
    {
     "name": "stderr",
     "output_type": "stream",
     "text": [
      "  9%|██████▏                                                                | 8701/100000 [4:05:32<18:07:23,  1.40it/s]"
     ]
    },
    {
     "name": "stdout",
     "output_type": "stream",
     "text": [
      "3.050281989178009\n",
      "100\n"
     ]
    },
    {
     "name": "stderr",
     "output_type": "stream",
     "text": [
      "  9%|██████▏                                                                | 8800/100000 [4:06:27<12:18:40,  2.06it/s]"
     ]
    },
    {
     "name": "stdout",
     "output_type": "stream",
     "text": [
      "3.2245205830877794\n",
      "100\n",
      "[0.0, 0.3, 0.9, 0.9]\n",
      "tf.Tensor([[0.0842643  0.42610607 0.22890857 0.26072103]], shape=(1, 4), dtype=float32)\n",
      "[0.2, 0.3, 0.9, 0.9]\n",
      "tf.Tensor([[0.09373011 0.41366073 0.23082197 0.26178715]], shape=(1, 4), dtype=float32)\n",
      "[0.4, 0.3, 0.9, 0.9]\n",
      "tf.Tensor([[0.11654194 0.39093846 0.22902402 0.2634956 ]], shape=(1, 4), dtype=float32)\n",
      "[0.6, 0.3, 0.9, 0.9]\n",
      "tf.Tensor([[0.24971493 0.28393248 0.2192774  0.24707521]], shape=(1, 4), dtype=float32)\n",
      "[0.6, 0.5, 0.9, 0.9]\n",
      "tf.Tensor([[0.81483984 0.04559668 0.07014766 0.06941587]], shape=(1, 4), dtype=float32)\n",
      "[0.6, 0.6, 0.9, 0.9]\n",
      "tf.Tensor([[0.9873416  0.00177943 0.0054383  0.00544074]], shape=(1, 4), dtype=float32)\n",
      "[0.7, 0.6, 0.9, 0.9]\n",
      "tf.Tensor([[0.9866368  0.00195737 0.00594337 0.0054625 ]], shape=(1, 4), dtype=float32)\n",
      "[0.7, 0.7, 0.9, 0.9]\n",
      "tf.Tensor([[0.9894125  0.00142534 0.00466218 0.00449988]], shape=(1, 4), dtype=float32)\n",
      "[0.8, 0.7, 0.9, 0.9]\n"
     ]
    },
    {
     "name": "stderr",
     "output_type": "stream",
     "text": [
      "\r",
      "  9%|██████▏                                                                | 8801/100000 [4:06:28<17:36:13,  1.44it/s]"
     ]
    },
    {
     "name": "stdout",
     "output_type": "stream",
     "text": [
      "tf.Tensor([[0.988395   0.00164472 0.00526411 0.00469618]], shape=(1, 4), dtype=float32)\n",
      "[0.8, 0.8, 0.9, 0.9]\n",
      "tf.Tensor([[9.9235725e-01 9.6160080e-04 3.4178759e-03 3.2632174e-03]], shape=(1, 4), dtype=float32)\n"
     ]
    },
    {
     "name": "stderr",
     "output_type": "stream",
     "text": [
      "  9%|██████▎                                                                | 8901/100000 [4:07:24<16:01:32,  1.58it/s]"
     ]
    },
    {
     "name": "stdout",
     "output_type": "stream",
     "text": [
      "3.567894415925919\n",
      "100\n"
     ]
    },
    {
     "name": "stderr",
     "output_type": "stream",
     "text": [
      "  9%|██████▍                                                                | 9001/100000 [4:08:18<12:02:06,  2.10it/s]"
     ]
    },
    {
     "name": "stdout",
     "output_type": "stream",
     "text": [
      "3.8243215958642147\n",
      "99\n",
      "[0.9, 0.8, 0.1, 0.9]\n",
      "tf.Tensor([[0.08900212 0.40510884 0.24153441 0.26435468]], shape=(1, 4), dtype=float32)\n",
      "[0.7, 0.8, 0.1, 0.9]\n",
      "tf.Tensor([[0.10284878 0.38979748 0.24343275 0.26392096]], shape=(1, 4), dtype=float32)\n",
      "[0.5, 0.8, 0.1, 0.9]\n",
      "tf.Tensor([[0.13766177 0.35897237 0.25072134 0.25264454]], shape=(1, 4), dtype=float32)\n",
      "[0.3, 0.8, 0.1, 0.9]\n",
      "tf.Tensor([[0.39475614 0.19267061 0.25028577 0.16228752]], shape=(1, 4), dtype=float32)\n",
      "[0.2, 0.8, 0.1, 0.9]\n",
      "tf.Tensor([[0.8770831  0.02653322 0.05855924 0.03782446]], shape=(1, 4), dtype=float32)\n",
      "[0.2, 0.9, 0.1, 0.9]\n",
      "tf.Tensor([[0.98497665 0.00222295 0.00739473 0.0054056 ]], shape=(1, 4), dtype=float32)\n"
     ]
    },
    {
     "name": "stderr",
     "output_type": "stream",
     "text": [
      "  9%|██████▍                                                                | 9101/100000 [4:09:10<14:09:15,  1.78it/s]"
     ]
    },
    {
     "name": "stdout",
     "output_type": "stream",
     "text": [
      "4.34468589850284\n",
      "100\n"
     ]
    },
    {
     "name": "stderr",
     "output_type": "stream",
     "text": [
      "  9%|██████▌                                                                | 9201/100000 [4:10:05<16:53:08,  1.49it/s]"
     ]
    },
    {
     "name": "stdout",
     "output_type": "stream",
     "text": [
      "2.8660190033736126\n",
      "100\n",
      "[0.5, 0.9, 0.5, 0.7]\n",
      "tf.Tensor([[0.07327945 0.42314315 0.23166431 0.2719131 ]], shape=(1, 4), dtype=float32)\n"
     ]
    },
    {
     "name": "stderr",
     "output_type": "stream",
     "text": [
      "  9%|██████▌                                                                | 9301/100000 [4:10:58<13:30:21,  1.87it/s]"
     ]
    },
    {
     "name": "stdout",
     "output_type": "stream",
     "text": [
      "3.837531441092038\n",
      "100\n"
     ]
    },
    {
     "name": "stderr",
     "output_type": "stream",
     "text": [
      "  9%|██████▋                                                                | 9401/100000 [4:11:50<13:30:20,  1.86it/s]"
     ]
    },
    {
     "name": "stdout",
     "output_type": "stream",
     "text": [
      "4.295914153577927\n",
      "100\n",
      "[0.3, 0.6, 0.9, 0.1]\n",
      "tf.Tensor([[0.06101483 0.4376995  0.2302451  0.2710405 ]], shape=(1, 4), dtype=float32)\n",
      "[0.5, 0.6, 0.9, 0.1]\n",
      "tf.Tensor([[0.06948961 0.43503302 0.22797988 0.26749742]], shape=(1, 4), dtype=float32)\n",
      "[0.5, 0.4, 0.9, 0.1]\n",
      "tf.Tensor([[0.08486185 0.42610326 0.22504275 0.26399216]], shape=(1, 4), dtype=float32)\n",
      "[0.7, 0.4, 0.9, 0.1]\n",
      "tf.Tensor([[0.24643761 0.31615612 0.22190182 0.21550441]], shape=(1, 4), dtype=float32)\n",
      "[0.7, 0.2, 0.9, 0.1]\n",
      "tf.Tensor([[0.91552216 0.01984344 0.03521425 0.02942017]], shape=(1, 4), dtype=float32)\n",
      "[0.8, 0.2, 0.9, 0.1]\n",
      "tf.Tensor([[9.9300343e-01 9.7657717e-04 3.4413452e-03 2.5786385e-03]], shape=(1, 4), dtype=float32)\n",
      "[0.9, 0.2, 0.9, 0.1]\n",
      "tf.Tensor([[9.9324954e-01 9.3367638e-04 3.3994536e-03 2.4174224e-03]], shape=(1, 4), dtype=float32)\n"
     ]
    },
    {
     "name": "stderr",
     "output_type": "stream",
     "text": [
      " 10%|██████▋                                                                | 9501/100000 [4:12:46<15:28:16,  1.62it/s]"
     ]
    },
    {
     "name": "stdout",
     "output_type": "stream",
     "text": [
      "4.058489233552505\n",
      "100\n"
     ]
    },
    {
     "name": "stderr",
     "output_type": "stream",
     "text": [
      " 10%|██████▊                                                                | 9601/100000 [4:13:40<15:48:42,  1.59it/s]"
     ]
    },
    {
     "name": "stdout",
     "output_type": "stream",
     "text": [
      "3.6894998481650516\n",
      "100\n",
      "[0.2, 0.3, 0.9, 0.1]\n",
      "tf.Tensor([[0.06025006 0.43173546 0.23360252 0.27441186]], shape=(1, 4), dtype=float32)\n",
      "[0.4, 0.3, 0.9, 0.1]\n",
      "tf.Tensor([[0.06591515 0.426489   0.23437716 0.27321866]], shape=(1, 4), dtype=float32)\n",
      "[0.6, 0.3, 0.9, 0.1]\n",
      "tf.Tensor([[0.0802682  0.4139158  0.23446925 0.27134672]], shape=(1, 4), dtype=float32)\n",
      "[0.8, 0.3, 0.9, 0.1]\n",
      "tf.Tensor([[0.1862479  0.35255042 0.222569   0.2386327 ]], shape=(1, 4), dtype=float32)\n",
      "[0.8, 0.1, 0.9, 0.1]\n",
      "tf.Tensor([[0.8801881  0.03087872 0.04809293 0.04084027]], shape=(1, 4), dtype=float32)\n"
     ]
    },
    {
     "name": "stderr",
     "output_type": "stream",
     "text": [
      " 10%|██████▉                                                                 | 9701/100000 [4:14:31<7:19:51,  3.42it/s]"
     ]
    },
    {
     "name": "stdout",
     "output_type": "stream",
     "text": [
      "4.9493824494466345\n",
      "100\n"
     ]
    },
    {
     "name": "stderr",
     "output_type": "stream",
     "text": [
      " 10%|██████▉                                                                | 9800/100000 [4:15:24<13:10:46,  1.90it/s]"
     ]
    },
    {
     "name": "stdout",
     "output_type": "stream",
     "text": [
      "3.556117225101771\n",
      "100\n",
      "[0.6, 0.2, 0.5, 0.3]\n",
      "tf.Tensor([[0.07123745 0.40531138 0.2466398  0.27681136]], shape=(1, 4), dtype=float32)\n",
      "[0.4, 0.2, 0.5, 0.3]\n",
      "tf.Tensor([[0.0673433  0.4092412  0.24118903 0.28222647]], shape=(1, 4), dtype=float32)\n",
      "[0.6, 0.2, 0.5, 0.3]\n",
      "tf.Tensor([[0.0939803  0.37843287 0.2519131  0.27567372]], shape=(1, 4), dtype=float32)\n",
      "[0.4, 0.2, 0.5, 0.3]\n",
      "tf.Tensor([[0.13577324 0.36245728 0.24488871 0.2568808 ]], shape=(1, 4), dtype=float32)\n",
      "[0.6, 0.2, 0.5, 0.3]\n",
      "tf.Tensor([[0.6953151  0.08709804 0.12941296 0.08817381]], shape=(1, 4), dtype=float32)\n",
      "[0.5, 0.2, 0.5, 0.3]\n",
      "tf.Tensor([[0.98188907 0.00327651 0.00941627 0.00541827]], shape=(1, 4), dtype=float32)\n"
     ]
    },
    {
     "name": "stderr",
     "output_type": "stream",
     "text": [
      " 10%|███████                                                                | 9901/100000 [4:16:18<18:48:41,  1.33it/s]"
     ]
    },
    {
     "name": "stdout",
     "output_type": "stream",
     "text": [
      "2.4087899403454966\n",
      "99\n"
     ]
    },
    {
     "name": "stderr",
     "output_type": "stream",
     "text": [
      " 10%|███████                                                               | 10001/100000 [4:17:09<13:23:06,  1.87it/s]"
     ]
    },
    {
     "name": "stdout",
     "output_type": "stream",
     "text": [
      "3.8889084449656663\n",
      "100\n",
      "[0.2, 0.1, 0.9, 0.1]\n",
      "tf.Tensor([[0.04936002 0.45282018 0.22238755 0.27543232]], shape=(1, 4), dtype=float32)\n",
      "[0.4, 0.1, 0.9, 0.1]\n",
      "tf.Tensor([[0.05423843 0.44311035 0.2260523  0.27659896]], shape=(1, 4), dtype=float32)\n",
      "[0.6, 0.1, 0.9, 0.1]\n",
      "tf.Tensor([[0.06635114 0.42604938 0.23001197 0.2775875 ]], shape=(1, 4), dtype=float32)\n",
      "[0.8, 0.1, 0.9, 0.1]\n",
      "tf.Tensor([[0.1397265  0.37980556 0.2131364  0.2673315 ]], shape=(1, 4), dtype=float32)\n",
      "[1.0, 0.1, 0.9, 0.1]\n",
      "tf.Tensor([[0.8320487  0.04651587 0.06811775 0.05331769]], shape=(1, 4), dtype=float32)\n"
     ]
    },
    {
     "name": "stderr",
     "output_type": "stream",
     "text": [
      " 10%|███████                                                               | 10101/100000 [4:18:00<15:49:17,  1.58it/s]"
     ]
    },
    {
     "name": "stdout",
     "output_type": "stream",
     "text": [
      "4.433779999078572\n",
      "100\n"
     ]
    },
    {
     "name": "stderr",
     "output_type": "stream",
     "text": [
      " 10%|███████▏                                                              | 10201/100000 [4:18:47<14:36:55,  1.71it/s]"
     ]
    },
    {
     "name": "stdout",
     "output_type": "stream",
     "text": [
      "4.253668948436899\n",
      "100\n",
      "[0.1, 0.2, 0.1, 0.9]\n",
      "tf.Tensor([[0.0434139  0.48026648 0.22077113 0.25554854]], shape=(1, 4), dtype=float32)\n",
      "[0.1, 0.4, 0.1, 0.9]\n",
      "tf.Tensor([[0.04519793 0.47448766 0.22275525 0.25755912]], shape=(1, 4), dtype=float32)\n",
      "[0.1, 0.6, 0.1, 0.9]\n",
      "tf.Tensor([[0.05077969 0.46695024 0.22401816 0.25825182]], shape=(1, 4), dtype=float32)\n",
      "[0.1, 0.8, 0.1, 0.9]\n",
      "tf.Tensor([[0.06750481 0.44617787 0.22808869 0.25822854]], shape=(1, 4), dtype=float32)\n",
      "[0.1, 1.0, 0.1, 0.9]\n",
      "tf.Tensor([[0.53268415 0.15218008 0.18831536 0.12682039]], shape=(1, 4), dtype=float32)\n"
     ]
    },
    {
     "name": "stderr",
     "output_type": "stream",
     "text": [
      " 10%|███████▏                                                              | 10301/100000 [4:19:38<12:47:51,  1.95it/s]"
     ]
    },
    {
     "name": "stdout",
     "output_type": "stream",
     "text": [
      "4.211444870860293\n",
      "100\n"
     ]
    },
    {
     "name": "stderr",
     "output_type": "stream",
     "text": [
      " 10%|███████▎                                                              | 10401/100000 [4:20:30<16:52:14,  1.48it/s]"
     ]
    },
    {
     "name": "stdout",
     "output_type": "stream",
     "text": [
      "3.607135478829038\n",
      "100\n",
      "[0.7, 0.8, 0.5, 0.3]\n",
      "tf.Tensor([[0.03189922 0.5254237  0.20850132 0.2341758 ]], shape=(1, 4), dtype=float32)\n",
      "[0.7, 0.6, 0.5, 0.3]\n",
      "tf.Tensor([[0.03383448 0.5344633  0.20094933 0.23075287]], shape=(1, 4), dtype=float32)\n",
      "[0.7, 0.4, 0.5, 0.3]\n",
      "tf.Tensor([[0.05344929 0.49020538 0.2188409  0.23750442]], shape=(1, 4), dtype=float32)\n",
      "[0.5, 0.4, 0.5, 0.3]\n",
      "tf.Tensor([[0.13438356 0.4437467  0.23385985 0.18800992]], shape=(1, 4), dtype=float32)\n",
      "[0.5, 0.2, 0.5, 0.3]\n",
      "tf.Tensor([[0.92421246 0.01963335 0.03638919 0.01976504]], shape=(1, 4), dtype=float32)\n"
     ]
    },
    {
     "name": "stderr",
     "output_type": "stream",
     "text": [
      " 11%|███████▎                                                              | 10501/100000 [4:21:24<10:51:24,  2.29it/s]"
     ]
    },
    {
     "name": "stdout",
     "output_type": "stream",
     "text": [
      "4.448910224914081\n",
      "100\n"
     ]
    },
    {
     "name": "stderr",
     "output_type": "stream",
     "text": [
      " 11%|███████▌                                                               | 10600/100000 [4:22:14<8:14:55,  3.01it/s]"
     ]
    },
    {
     "name": "stdout",
     "output_type": "stream",
     "text": [
      "4.758211890528846\n",
      "100\n",
      "[0.2, 0.9, 0.9, 0.1]\n",
      "tf.Tensor([[0.03526828 0.49696428 0.22216119 0.2456062 ]], shape=(1, 4), dtype=float32)\n",
      "[0.2, 0.7, 0.9, 0.1]\n",
      "tf.Tensor([[0.03410386 0.51301575 0.21342793 0.23945251]], shape=(1, 4), dtype=float32)\n",
      "[0.4, 0.7, 0.9, 0.1]\n",
      "tf.Tensor([[0.04239734 0.51612574 0.20609547 0.2353815 ]], shape=(1, 4), dtype=float32)\n",
      "[0.4, 0.5, 0.9, 0.1]\n",
      "tf.Tensor([[0.11630223 0.46886826 0.21186306 0.20296654]], shape=(1, 4), dtype=float32)\n",
      "[0.6, 0.5, 0.9, 0.1]\n",
      "tf.Tensor([[0.9661817  0.00811632 0.0156816  0.01002032]], shape=(1, 4), dtype=float32)\n",
      "[0.6, 0.4, 0.9, 0.1]\n",
      "tf.Tensor([[9.9797791e-01 3.1296228e-04 1.0794280e-03 6.2965986e-04]], shape=(1, 4), dtype=float32)\n",
      "[0.7, 0.4, 0.9, 0.1]\n",
      "tf.Tensor([[9.9779129e-01 3.4601908e-04 1.1744386e-03 6.8819040e-04]], shape=(1, 4), dtype=float32)\n",
      "[0.7, 0.3, 0.9, 0.1]\n",
      "tf.Tensor([[9.9783677e-01 3.4100990e-04 1.1573927e-03 6.6481950e-04]], shape=(1, 4), dtype=float32)"
     ]
    },
    {
     "name": "stderr",
     "output_type": "stream",
     "text": [
      "\r",
      " 11%|███████▍                                                              | 10601/100000 [4:22:15<10:34:43,  2.35it/s]"
     ]
    },
    {
     "name": "stdout",
     "output_type": "stream",
     "text": [
      "\n",
      "[0.8, 0.3, 0.9, 0.1]\n",
      "tf.Tensor([[9.9767452e-01 3.6962799e-04 1.2396849e-03 7.1616715e-04]], shape=(1, 4), dtype=float32)\n",
      "[0.8, 0.2, 0.9, 0.1]\n",
      "tf.Tensor([[9.9775368e-01 3.5860753e-04 1.2061512e-03 6.8154308e-04]], shape=(1, 4), dtype=float32)\n"
     ]
    },
    {
     "name": "stderr",
     "output_type": "stream",
     "text": [
      " 11%|███████▍                                                              | 10701/100000 [4:23:06<15:12:24,  1.63it/s]"
     ]
    },
    {
     "name": "stdout",
     "output_type": "stream",
     "text": [
      "4.358712817886684\n",
      "100\n"
     ]
    },
    {
     "name": "stderr",
     "output_type": "stream",
     "text": [
      " 11%|███████▌                                                              | 10801/100000 [4:23:56<13:48:48,  1.79it/s]"
     ]
    },
    {
     "name": "stdout",
     "output_type": "stream",
     "text": [
      "4.033901691452109\n",
      "100\n",
      "[0.9, 0.5, 0.5, 0.7]\n",
      "tf.Tensor([[0.03817445 0.4855362  0.22521439 0.25107494]], shape=(1, 4), dtype=float32)\n",
      "[0.7, 0.5, 0.5, 0.7]\n",
      "tf.Tensor([[0.04317092 0.48223516 0.2246765  0.24991736]], shape=(1, 4), dtype=float32)\n",
      "[0.5, 0.5, 0.5, 0.7]\n",
      "tf.Tensor([[0.04739075 0.48697716 0.21375042 0.25188172]], shape=(1, 4), dtype=float32)\n"
     ]
    },
    {
     "name": "stderr",
     "output_type": "stream",
     "text": [
      " 11%|███████▋                                                              | 10901/100000 [4:24:47<14:09:26,  1.75it/s]"
     ]
    },
    {
     "name": "stdout",
     "output_type": "stream",
     "text": [
      "3.9172704354077115\n",
      "100\n"
     ]
    },
    {
     "name": "stderr",
     "output_type": "stream",
     "text": [
      " 11%|███████▋                                                              | 11001/100000 [4:25:37<11:08:05,  2.22it/s]"
     ]
    },
    {
     "name": "stdout",
     "output_type": "stream",
     "text": [
      "4.5192224766088644\n",
      "99\n",
      "[0.4, 0.8, 0.9, 0.9]\n",
      "tf.Tensor([[0.02761058 0.5258726  0.20403957 0.24247728]], shape=(1, 4), dtype=float32)\n",
      "[0.6, 0.8, 0.9, 0.9]\n",
      "tf.Tensor([[0.02741291 0.5497148  0.19226083 0.23061153]], shape=(1, 4), dtype=float32)\n",
      "[0.8, 0.8, 0.9, 0.9]\n",
      "tf.Tensor([[0.03302677 0.5745076  0.17722045 0.21524517]], shape=(1, 4), dtype=float32)\n",
      "[1.0, 0.8, 0.9, 0.9]\n",
      "tf.Tensor([[0.19961676 0.41929674 0.2135633  0.1675232 ]], shape=(1, 4), dtype=float32)\n",
      "[1.0, 1.0, 0.9, 0.9]\n",
      "tf.Tensor([[0.98833805 0.00250013 0.00551766 0.00364418]], shape=(1, 4), dtype=float32)\n",
      "[1.0, 0.9, 0.9, 0.9]\n",
      "tf.Tensor([[9.9828464e-01 2.8039745e-04 8.5808657e-04 5.7677564e-04]], shape=(1, 4), dtype=float32)\n"
     ]
    },
    {
     "name": "stderr",
     "output_type": "stream",
     "text": [
      " 11%|███████▊                                                              | 11101/100000 [4:26:26<12:42:39,  1.94it/s]"
     ]
    },
    {
     "name": "stdout",
     "output_type": "stream",
     "text": [
      "4.6274950773725685\n",
      "100\n"
     ]
    },
    {
     "name": "stderr",
     "output_type": "stream",
     "text": [
      " 11%|███████▊                                                              | 11201/100000 [4:27:16<22:36:25,  1.09it/s]"
     ]
    },
    {
     "name": "stdout",
     "output_type": "stream",
     "text": [
      "3.1229039360178543\n",
      "100\n",
      "[0.7, 0.9, 0.9, 0.9]\n",
      "tf.Tensor([[0.02762243 0.5077408  0.21016471 0.25447214]], shape=(1, 4), dtype=float32)\n"
     ]
    },
    {
     "name": "stderr",
     "output_type": "stream",
     "text": [
      " 11%|███████▉                                                              | 11301/100000 [4:28:08<14:19:54,  1.72it/s]"
     ]
    },
    {
     "name": "stdout",
     "output_type": "stream",
     "text": [
      "3.58904356111298\n",
      "100\n"
     ]
    },
    {
     "name": "stderr",
     "output_type": "stream",
     "text": [
      " 11%|███████▉                                                              | 11400/100000 [4:28:56<12:18:19,  2.00it/s]"
     ]
    },
    {
     "name": "stdout",
     "output_type": "stream",
     "text": [
      "4.6045292093511145\n",
      "100\n",
      "[0.4, 0.9, 0.1, 0.1]\n",
      "tf.Tensor([[0.02914508 0.49320534 0.20970811 0.2679415 ]], shape=(1, 4), dtype=float32)\n",
      "[0.4, 0.7, 0.1, 0.1]\n",
      "tf.Tensor([[0.02971506 0.51561695 0.1979617  0.25670633]], shape=(1, 4), dtype=float32)\n",
      "[0.4, 0.5, 0.1, 0.1]\n",
      "tf.Tensor([[0.03509405 0.5268974  0.19157775 0.24643083]], shape=(1, 4), dtype=float32)\n",
      "[0.4, 0.3, 0.1, 0.1]\n",
      "tf.Tensor([[0.11325486 0.46595332 0.23228697 0.18850483]], shape=(1, 4), dtype=float32)\n",
      "[0.2, 0.3, 0.1, 0.1]\n",
      "tf.Tensor([[0.9634893  0.00875131 0.01851333 0.00924613]], shape=(1, 4), dtype=float32)\n",
      "[0.2, 0.2, 0.1, 0.1]\n",
      "tf.Tensor([[9.9724764e-01 4.7162356e-04 1.4569650e-03 8.2371139e-04]], shape=(1, 4), dtype=float32)\n",
      "[0.1, 0.2, 0.1, 0.1]\n"
     ]
    },
    {
     "name": "stderr",
     "output_type": "stream",
     "text": [
      "\r",
      " 11%|███████▉                                                              | 11401/100000 [4:28:57<13:18:59,  1.85it/s]"
     ]
    },
    {
     "name": "stdout",
     "output_type": "stream",
     "text": [
      "tf.Tensor([[9.9722975e-01 4.6260285e-04 1.5040273e-03 8.0365484e-04]], shape=(1, 4), dtype=float32)\n"
     ]
    },
    {
     "name": "stderr",
     "output_type": "stream",
     "text": [
      " 12%|████████                                                              | 11501/100000 [4:29:41<14:53:26,  1.65it/s]"
     ]
    },
    {
     "name": "stdout",
     "output_type": "stream",
     "text": [
      "4.7125353812380775\n",
      "100\n"
     ]
    },
    {
     "name": "stderr",
     "output_type": "stream",
     "text": [
      " 12%|████████                                                              | 11600/100000 [4:30:29<12:23:40,  1.98it/s]"
     ]
    },
    {
     "name": "stdout",
     "output_type": "stream",
     "text": [
      "4.727620104204591\n",
      "100\n",
      "[0.7, 0.2, 0.1, 0.9]\n",
      "tf.Tensor([[0.03603105 0.46501592 0.2208747  0.27807835]], shape=(1, 4), dtype=float32)\n",
      "[0.7, 0.4, 0.1, 0.9]\n",
      "tf.Tensor([[0.04284098 0.45614928 0.23085243 0.27015725]], shape=(1, 4), dtype=float32)\n",
      "[0.5, 0.4, 0.1, 0.9]\n",
      "tf.Tensor([[0.04553043 0.46504614 0.22023807 0.2691854 ]], shape=(1, 4), dtype=float32)\n",
      "[0.5, 0.6, 0.1, 0.9]\n",
      "tf.Tensor([[0.07699548 0.4459766  0.23893966 0.23808832]], shape=(1, 4), dtype=float32)\n",
      "[0.3, 0.6, 0.1, 0.9]\n",
      "tf.Tensor([[0.68444675 0.10390912 0.13958366 0.0720605 ]], shape=(1, 4), dtype=float32)\n",
      "[0.3, 0.7, 0.1, 0.9]\n",
      "tf.Tensor([[0.992301   0.00154003 0.00376485 0.00239405]], shape=(1, 4), dtype=float32)\n",
      "[0.2, 0.7, 0.1, 0.9]\n",
      "tf.Tensor([[0.99333864 0.00131513 0.00331277 0.00203341]], shape=(1, 4), dtype=float32)"
     ]
    },
    {
     "name": "stderr",
     "output_type": "stream",
     "text": [
      "\r",
      " 12%|████████                                                              | 11601/100000 [4:30:29<11:55:17,  2.06it/s]"
     ]
    },
    {
     "name": "stdout",
     "output_type": "stream",
     "text": [
      "\n",
      "[0.2, 0.8, 0.1, 0.9]\n",
      "tf.Tensor([[0.99423146 0.00111427 0.00284778 0.00180656]], shape=(1, 4), dtype=float32)\n",
      "[0.2, 0.9, 0.1, 0.9]\n",
      "tf.Tensor([[0.9946636  0.00100519 0.00260794 0.0017233 ]], shape=(1, 4), dtype=float32)\n"
     ]
    },
    {
     "name": "stderr",
     "output_type": "stream",
     "text": [
      " 12%|████████▏                                                             | 11701/100000 [4:31:22<13:51:19,  1.77it/s]"
     ]
    },
    {
     "name": "stdout",
     "output_type": "stream",
     "text": [
      "3.7310764004765855\n",
      "100\n"
     ]
    },
    {
     "name": "stderr",
     "output_type": "stream",
     "text": [
      " 12%|████████▎                                                             | 11800/100000 [4:32:09<13:17:45,  1.84it/s]"
     ]
    },
    {
     "name": "stdout",
     "output_type": "stream",
     "text": [
      "4.1007776632658\n",
      "100\n",
      "[0.5, 0.1, 0.9, 0.9]\n",
      "tf.Tensor([[0.03963418 0.4304078  0.24075317 0.28920493]], shape=(1, 4), dtype=float32)\n",
      "[0.5, 0.3, 0.9, 0.9]\n",
      "tf.Tensor([[0.04037402 0.4382944  0.23608853 0.285243  ]], shape=(1, 4), dtype=float32)\n",
      "[0.5, 0.5, 0.9, 0.9]\n",
      "tf.Tensor([[0.03756141 0.46740046 0.22302724 0.27201092]], shape=(1, 4), dtype=float32)\n",
      "[0.7, 0.5, 0.9, 0.9]\n",
      "tf.Tensor([[0.06308591 0.47803202 0.22245002 0.23643206]], shape=(1, 4), dtype=float32)\n",
      "[0.7, 0.7, 0.9, 0.9]\n",
      "tf.Tensor([[0.83901966 0.05297071 0.06590991 0.04209981]], shape=(1, 4), dtype=float32)\n",
      "[0.8, 0.7, 0.9, 0.9]\n",
      "tf.Tensor([[9.9702990e-01 5.5750360e-04 1.4035515e-03 1.0089899e-03]], shape=(1, 4), dtype=float32)\n",
      "[0.8, 0.8, 0.9, 0.9]\n",
      "tf.Tensor([[9.9835098e-01 2.8005557e-04 7.7353709e-04 5.9536728e-04]], shape=(1, 4), dtype=float32)\n",
      "[0.9, 0.8, 0.9, 0.9]\n"
     ]
    },
    {
     "name": "stderr",
     "output_type": "stream",
     "text": [
      "\r",
      " 12%|████████▎                                                             | 11801/100000 [4:32:10<13:52:35,  1.77it/s]"
     ]
    },
    {
     "name": "stdout",
     "output_type": "stream",
     "text": [
      "tf.Tensor([[9.9846375e-01 2.6830687e-04 7.2664820e-04 5.4128811e-04]], shape=(1, 4), dtype=float32)\n"
     ]
    },
    {
     "name": "stderr",
     "output_type": "stream",
     "text": [
      " 12%|████████▎                                                             | 11901/100000 [4:32:53<11:02:29,  2.22it/s]"
     ]
    },
    {
     "name": "stdout",
     "output_type": "stream",
     "text": [
      "4.977928718020809\n",
      "100\n"
     ]
    },
    {
     "name": "stderr",
     "output_type": "stream",
     "text": [
      " 12%|████████▍                                                             | 12001/100000 [4:33:39<12:55:47,  1.89it/s]"
     ]
    },
    {
     "name": "stdout",
     "output_type": "stream",
     "text": [
      "4.582844409086333\n",
      "100\n",
      "[0.9, 0.4, 0.5, 0.3]\n",
      "tf.Tensor([[0.04767932 0.39713553 0.27554175 0.27964342]], shape=(1, 4), dtype=float32)\n",
      "[0.7, 0.4, 0.5, 0.3]\n",
      "tf.Tensor([[0.05148868 0.40390792 0.27122167 0.27338165]], shape=(1, 4), dtype=float32)\n",
      "[0.5, 0.4, 0.5, 0.3]\n",
      "tf.Tensor([[0.04815101 0.44206703 0.24523412 0.26454794]], shape=(1, 4), dtype=float32)\n",
      "[0.5, 0.2, 0.5, 0.3]\n",
      "tf.Tensor([[0.08181229 0.4517318  0.24645638 0.21999948]], shape=(1, 4), dtype=float32)\n",
      "[0.5, 0.4, 0.5, 0.3]\n",
      "tf.Tensor([[0.83471894 0.0530251  0.07593977 0.03631617]], shape=(1, 4), dtype=float32)\n"
     ]
    },
    {
     "name": "stderr",
     "output_type": "stream",
     "text": [
      " 12%|████████▍                                                             | 12101/100000 [4:34:29<10:27:24,  2.33it/s]"
     ]
    },
    {
     "name": "stdout",
     "output_type": "stream",
     "text": [
      "4.6845801932176085\n",
      "100\n"
     ]
    },
    {
     "name": "stderr",
     "output_type": "stream",
     "text": [
      " 12%|████████▌                                                             | 12201/100000 [4:35:17<13:18:11,  1.83it/s]"
     ]
    },
    {
     "name": "stdout",
     "output_type": "stream",
     "text": [
      "4.579870233675344\n",
      "100\n",
      "[0.5, 0.0, 0.9, 0.1]\n",
      "tf.Tensor([[0.03961953 0.3825507  0.27476168 0.30306804]], shape=(1, 4), dtype=float32)\n",
      "[0.7, 0.0, 0.9, 0.1]\n",
      "tf.Tensor([[0.03869848 0.40048453 0.26717845 0.29363856]], shape=(1, 4), dtype=float32)\n",
      "[0.9, 0.0, 0.9, 0.1]\n",
      "tf.Tensor([[0.04746743 0.40459663 0.26037404 0.2875619 ]], shape=(1, 4), dtype=float32)\n",
      "[0.9, 0.2, 0.9, 0.1]\n",
      "tf.Tensor([[0.06284265 0.48348886 0.22437051 0.22929798]], shape=(1, 4), dtype=float32)\n",
      "[0.9, 0.0, 0.9, 0.1]\n",
      "tf.Tensor([[0.84877414 0.05164177 0.06375199 0.03583215]], shape=(1, 4), dtype=float32)\n"
     ]
    },
    {
     "name": "stderr",
     "output_type": "stream",
     "text": [
      " 12%|████████▌                                                             | 12301/100000 [4:36:07<11:28:51,  2.12it/s]"
     ]
    },
    {
     "name": "stdout",
     "output_type": "stream",
     "text": [
      "4.361124680960676\n",
      "100\n"
     ]
    },
    {
     "name": "stderr",
     "output_type": "stream",
     "text": [
      " 12%|████████▋                                                             | 12401/100000 [4:36:50<12:08:57,  2.00it/s]"
     ]
    },
    {
     "name": "stdout",
     "output_type": "stream",
     "text": [
      "4.97411383366961\n",
      "100\n",
      "[0.6, 0.9, 0.1, 0.9]\n",
      "tf.Tensor([[0.04166901 0.38129702 0.29339448 0.28363952]], shape=(1, 4), dtype=float32)\n",
      "[0.4, 0.9, 0.1, 0.9]\n",
      "tf.Tensor([[0.04341427 0.3987618  0.28263456 0.27518934]], shape=(1, 4), dtype=float32)\n",
      "[0.2, 0.9, 0.1, 0.9]\n",
      "tf.Tensor([[0.04993702 0.41845706 0.26758683 0.26401907]], shape=(1, 4), dtype=float32)\n",
      "[0.0, 0.9, 0.1, 0.9]\n",
      "tf.Tensor([[0.08715724 0.4501398  0.26441243 0.19829057]], shape=(1, 4), dtype=float32)\n",
      "[0.2, 0.9, 0.1, 0.9]\n",
      "tf.Tensor([[0.933595   0.01597142 0.03398602 0.01644743]], shape=(1, 4), dtype=float32)\n"
     ]
    },
    {
     "name": "stderr",
     "output_type": "stream",
     "text": [
      " 13%|████████▉                                                              | 12501/100000 [4:37:38<8:18:28,  2.93it/s]"
     ]
    },
    {
     "name": "stdout",
     "output_type": "stream",
     "text": [
      "5.068079240450369\n",
      "100\n"
     ]
    },
    {
     "name": "stderr",
     "output_type": "stream",
     "text": [
      " 13%|████████▊                                                             | 12601/100000 [4:38:25<13:19:45,  1.82it/s]"
     ]
    },
    {
     "name": "stdout",
     "output_type": "stream",
     "text": [
      "4.449022262357376\n",
      "100\n",
      "[0.5, 0.0, 0.9, 0.1]\n",
      "tf.Tensor([[0.03163892 0.39987245 0.28501108 0.2834776 ]], shape=(1, 4), dtype=float32)\n",
      "[0.7, 0.0, 0.9, 0.1]\n",
      "tf.Tensor([[0.03026276 0.42119896 0.27429244 0.27424583]], shape=(1, 4), dtype=float32)\n",
      "[0.9, 0.0, 0.9, 0.1]\n",
      "tf.Tensor([[0.03697555 0.42828143 0.26444134 0.2703016 ]], shape=(1, 4), dtype=float32)\n",
      "[0.9, 0.2, 0.9, 0.1]\n",
      "tf.Tensor([[0.04426798 0.50889766 0.22108863 0.22574574]], shape=(1, 4), dtype=float32)\n",
      "[0.9, 0.0, 0.9, 0.1]\n",
      "tf.Tensor([[0.7515996  0.09672008 0.09936772 0.05231247]], shape=(1, 4), dtype=float32)\n"
     ]
    },
    {
     "name": "stderr",
     "output_type": "stream",
     "text": [
      " 13%|████████▉                                                             | 12701/100000 [4:39:14<13:24:13,  1.81it/s]"
     ]
    },
    {
     "name": "stdout",
     "output_type": "stream",
     "text": [
      "4.234036623402059\n",
      "100\n"
     ]
    },
    {
     "name": "stderr",
     "output_type": "stream",
     "text": [
      " 13%|████████▉                                                             | 12801/100000 [4:40:02<11:58:44,  2.02it/s]"
     ]
    },
    {
     "name": "stdout",
     "output_type": "stream",
     "text": [
      "4.753247861922404\n",
      "100\n",
      "[0.6, 0.4, 0.1, 0.9]\n",
      "tf.Tensor([[0.04507281 0.37448075 0.30690336 0.27354306]], shape=(1, 4), dtype=float32)\n",
      "[0.4, 0.4, 0.1, 0.9]\n",
      "tf.Tensor([[0.04290063 0.39651823 0.28577596 0.2748052 ]], shape=(1, 4), dtype=float32)\n",
      "[0.4, 0.6, 0.1, 0.9]\n",
      "tf.Tensor([[0.05282795 0.4088682  0.2780637  0.26024017]], shape=(1, 4), dtype=float32)\n",
      "[0.2, 0.6, 0.1, 0.9]\n",
      "tf.Tensor([[0.09005439 0.43772495 0.2677598  0.20446084]], shape=(1, 4), dtype=float32)\n",
      "[0.2, 0.8, 0.1, 0.9]\n",
      "tf.Tensor([[0.8926861  0.02824983 0.05424247 0.0248215 ]], shape=(1, 4), dtype=float32)\n",
      "[0.1, 0.8, 0.1, 0.9]\n",
      "tf.Tensor([[9.9720722e-01 5.0462817e-04 1.4637586e-03 8.2436955e-04]], shape=(1, 4), dtype=float32)\n"
     ]
    },
    {
     "name": "stderr",
     "output_type": "stream",
     "text": [
      " 13%|█████████                                                             | 12901/100000 [4:40:49<10:27:29,  2.31it/s]"
     ]
    },
    {
     "name": "stdout",
     "output_type": "stream",
     "text": [
      "4.782452603133384\n",
      "100\n"
     ]
    },
    {
     "name": "stderr",
     "output_type": "stream",
     "text": [
      " 13%|█████████                                                             | 13001/100000 [4:41:34<10:42:09,  2.26it/s]"
     ]
    },
    {
     "name": "stdout",
     "output_type": "stream",
     "text": [
      "5.047630739987247\n",
      "100\n",
      "[0.7, 0.1, 0.9, 0.9]\n",
      "tf.Tensor([[0.04057991 0.3843786  0.2884378  0.28660372]], shape=(1, 4), dtype=float32)\n",
      "[0.7, 0.3, 0.9, 0.9]\n",
      "tf.Tensor([[0.0399595  0.40087157 0.27699995 0.282169  ]], shape=(1, 4), dtype=float32)\n",
      "[0.7, 0.5, 0.9, 0.9]\n",
      "tf.Tensor([[0.04172915 0.42381904 0.26071817 0.27373365]], shape=(1, 4), dtype=float32)\n",
      "[0.7, 0.7, 0.9, 0.9]\n",
      "tf.Tensor([[0.05239715 0.5191389  0.22240277 0.2060612 ]], shape=(1, 4), dtype=float32)\n",
      "[0.9, 0.7, 0.9, 0.9]\n",
      "tf.Tensor([[0.8422858  0.05571782 0.06821597 0.03378038]], shape=(1, 4), dtype=float32)\n",
      "[0.9, 0.8, 0.9, 0.9]\n",
      "tf.Tensor([[9.9781030e-01 4.3172130e-04 1.1055307e-03 6.5259938e-04]], shape=(1, 4), dtype=float32)\n"
     ]
    },
    {
     "name": "stderr",
     "output_type": "stream",
     "text": [
      " 13%|█████████▎                                                             | 13101/100000 [4:42:18<8:17:22,  2.91it/s]"
     ]
    },
    {
     "name": "stdout",
     "output_type": "stream",
     "text": [
      "4.849933757358117\n",
      "100\n"
     ]
    },
    {
     "name": "stderr",
     "output_type": "stream",
     "text": [
      " 13%|█████████▏                                                            | 13201/100000 [4:43:05<14:44:56,  1.63it/s]"
     ]
    },
    {
     "name": "stdout",
     "output_type": "stream",
     "text": [
      "4.466823082989528\n",
      "100\n",
      "[0.2, 0.6, 0.9, 0.1]\n",
      "tf.Tensor([[0.03574903 0.3665966  0.30147812 0.29617625]], shape=(1, 4), dtype=float32)\n",
      "[0.4, 0.6, 0.9, 0.1]\n",
      "tf.Tensor([[0.03328234 0.4019225  0.2842948  0.28050035]], shape=(1, 4), dtype=float32)\n",
      "[0.6, 0.6, 0.9, 0.1]\n",
      "tf.Tensor([[0.03253123 0.46448162 0.24828935 0.2546978 ]], shape=(1, 4), dtype=float32)\n",
      "[0.6, 0.4, 0.9, 0.1]\n",
      "tf.Tensor([[0.0532097  0.55583245 0.21070273 0.18025512]], shape=(1, 4), dtype=float32)\n",
      "[0.8, 0.4, 0.9, 0.1]\n",
      "tf.Tensor([[0.9621337  0.01154647 0.0175489  0.00877089]], shape=(1, 4), dtype=float32)\n",
      "[0.8, 0.3, 0.9, 0.1]\n",
      "tf.Tensor([[9.9885678e-01 2.1361273e-04 5.8716175e-04 3.4247959e-04]], shape=(1, 4), dtype=float32)\n",
      "[0.8, 0.2, 0.9, 0.1]\n",
      "tf.Tensor([[9.9890590e-01 2.0375404e-04 5.6916452e-04 3.2117096e-04]], shape=(1, 4), dtype=float32)\n",
      "[0.9, 0.2, 0.9, 0.1]\n",
      "tf.Tensor([[9.9895477e-01 1.9446615e-04 5.4284622e-04 3.0798037e-04]], shape=(1, 4), dtype=float32)\n"
     ]
    },
    {
     "name": "stderr",
     "output_type": "stream",
     "text": [
      " 13%|█████████▍                                                             | 13301/100000 [4:43:49<9:27:05,  2.55it/s]"
     ]
    },
    {
     "name": "stdout",
     "output_type": "stream",
     "text": [
      "5.209937623035452\n",
      "100\n"
     ]
    },
    {
     "name": "stderr",
     "output_type": "stream",
     "text": [
      " 13%|█████████▍                                                            | 13401/100000 [4:44:33<10:20:16,  2.33it/s]"
     ]
    },
    {
     "name": "stdout",
     "output_type": "stream",
     "text": [
      "4.984084396448713\n",
      "100\n",
      "[0.6, 0.3, 0.9, 0.1]\n",
      "tf.Tensor([[0.03062209 0.39589313 0.26941106 0.3040737 ]], shape=(1, 4), dtype=float32)\n",
      "[0.8, 0.3, 0.9, 0.1]\n",
      "tf.Tensor([[0.02751832 0.4455197  0.24504489 0.2819171 ]], shape=(1, 4), dtype=float32)\n",
      "[0.8, 0.1, 0.9, 0.1]\n",
      "tf.Tensor([[0.02807379 0.4963929  0.21831957 0.25721368]], shape=(1, 4), dtype=float32)\n",
      "[1.0, 0.1, 0.9, 0.1]\n",
      "tf.Tensor([[0.06232265 0.53041106 0.2160884  0.1911779 ]], shape=(1, 4), dtype=float32)\n",
      "[0.8, 0.1, 0.9, 0.1]\n",
      "tf.Tensor([[0.95050126 0.01567292 0.02282178 0.01100395]], shape=(1, 4), dtype=float32)\n"
     ]
    },
    {
     "name": "stderr",
     "output_type": "stream",
     "text": [
      " 14%|█████████▍                                                            | 13501/100000 [4:45:17<12:57:54,  1.85it/s]"
     ]
    },
    {
     "name": "stdout",
     "output_type": "stream",
     "text": [
      "4.940293364736791\n",
      "100\n"
     ]
    },
    {
     "name": "stderr",
     "output_type": "stream",
     "text": [
      " 14%|█████████▌                                                            | 13601/100000 [4:46:02<11:40:12,  2.06it/s]"
     ]
    },
    {
     "name": "stdout",
     "output_type": "stream",
     "text": [
      "4.945477131845762\n",
      "100\n",
      "[0.9, 0.7, 0.9, 0.1]\n",
      "tf.Tensor([[0.03306342 0.40893394 0.26738933 0.29061332]], shape=(1, 4), dtype=float32)\n",
      "[0.9, 0.5, 0.9, 0.1]\n",
      "tf.Tensor([[0.03127515 0.46979612 0.23366661 0.26526216]], shape=(1, 4), dtype=float32)\n",
      "[0.9, 0.3, 0.9, 0.1]\n",
      "tf.Tensor([[0.04208482 0.56827956 0.20257239 0.1870632 ]], shape=(1, 4), dtype=float32)\n"
     ]
    },
    {
     "name": "stderr",
     "output_type": "stream",
     "text": [
      " 14%|█████████▌                                                            | 13701/100000 [4:46:46<11:39:46,  2.06it/s]"
     ]
    },
    {
     "name": "stdout",
     "output_type": "stream",
     "text": [
      "5.15111128625542\n",
      "100\n"
     ]
    },
    {
     "name": "stderr",
     "output_type": "stream",
     "text": [
      " 14%|█████████▋                                                            | 13801/100000 [4:47:31<10:21:33,  2.31it/s]"
     ]
    },
    {
     "name": "stdout",
     "output_type": "stream",
     "text": [
      "4.888368765302691\n",
      "100\n",
      "[0.8, 0.6, 0.1, 0.9]\n",
      "tf.Tensor([[0.04357277 0.38261944 0.28382733 0.28998056]], shape=(1, 4), dtype=float32)\n",
      "[0.6, 0.6, 0.1, 0.9]\n",
      "tf.Tensor([[0.0470021  0.40057513 0.2740636  0.27835917]], shape=(1, 4), dtype=float32)\n",
      "[0.4, 0.6, 0.1, 0.9]\n",
      "tf.Tensor([[0.05756281 0.4190053  0.26298738 0.26044446]], shape=(1, 4), dtype=float32)\n",
      "[0.2, 0.6, 0.1, 0.9]\n",
      "tf.Tensor([[0.13856445 0.41379234 0.27873012 0.168913  ]], shape=(1, 4), dtype=float32)\n",
      "[0.2, 0.8, 0.1, 0.9]\n",
      "tf.Tensor([[0.93930876 0.01592023 0.03169114 0.01307989]], shape=(1, 4), dtype=float32)\n",
      "[0.2, 0.9, 0.1, 0.9]\n",
      "tf.Tensor([[9.9752980e-01 4.6947633e-04 1.2964383e-03 7.0427364e-04]], shape=(1, 4), dtype=float32)\n"
     ]
    },
    {
     "name": "stderr",
     "output_type": "stream",
     "text": [
      " 14%|█████████▋                                                            | 13901/100000 [4:48:19<13:51:56,  1.72it/s]"
     ]
    },
    {
     "name": "stdout",
     "output_type": "stream",
     "text": [
      "4.457945228189002\n",
      "100\n"
     ]
    },
    {
     "name": "stderr",
     "output_type": "stream",
     "text": [
      " 14%|█████████▊                                                            | 14001/100000 [4:49:02<12:48:02,  1.87it/s]"
     ]
    },
    {
     "name": "stdout",
     "output_type": "stream",
     "text": [
      "4.796683845405919\n",
      "100\n",
      "[0.3, 0.8, 0.1, 0.9]\n",
      "tf.Tensor([[0.04570746 0.3885252  0.2791425  0.28662482]], shape=(1, 4), dtype=float32)\n",
      "[0.1, 0.8, 0.1, 0.9]\n",
      "tf.Tensor([[0.04427464 0.42087904 0.2557829  0.2790634 ]], shape=(1, 4), dtype=float32)\n",
      "[0.1, 1.0, 0.1, 0.9]\n",
      "tf.Tensor([[0.06434001 0.4911963  0.2444663  0.19999735]], shape=(1, 4), dtype=float32)\n",
      "[0.1, 0.8, 0.1, 0.9]\n",
      "tf.Tensor([[0.4912854  0.20362025 0.22029288 0.08480155]], shape=(1, 4), dtype=float32)\n"
     ]
    },
    {
     "name": "stderr",
     "output_type": "stream",
     "text": [
      " 14%|██████████                                                             | 14101/100000 [4:49:43<9:20:27,  2.55it/s]"
     ]
    },
    {
     "name": "stdout",
     "output_type": "stream",
     "text": [
      "5.514902510633169\n",
      "100\n"
     ]
    },
    {
     "name": "stderr",
     "output_type": "stream",
     "text": [
      " 14%|█████████▉                                                            | 14201/100000 [4:50:26<10:16:36,  2.32it/s]"
     ]
    },
    {
     "name": "stdout",
     "output_type": "stream",
     "text": [
      "5.076949568833987\n",
      "100\n",
      "[0.7, 0.6, 0.9, 0.1]\n",
      "tf.Tensor([[0.03315789 0.42163408 0.25104818 0.29415986]], shape=(1, 4), dtype=float32)\n",
      "[0.7, 0.4, 0.9, 0.1]\n",
      "tf.Tensor([[0.03473799 0.48193738 0.22455499 0.25876963]], shape=(1, 4), dtype=float32)\n",
      "[0.7, 0.2, 0.9, 0.1]\n",
      "tf.Tensor([[0.06943514 0.5441551  0.21703297 0.1693768 ]], shape=(1, 4), dtype=float32)\n",
      "[0.9, 0.2, 0.9, 0.1]\n",
      "tf.Tensor([[0.89484525 0.03780605 0.04826858 0.01908008]], shape=(1, 4), dtype=float32)\n"
     ]
    },
    {
     "name": "stderr",
     "output_type": "stream",
     "text": [
      " 14%|██████████                                                            | 14301/100000 [4:51:09<11:14:12,  2.12it/s]"
     ]
    },
    {
     "name": "stdout",
     "output_type": "stream",
     "text": [
      "5.1460120369637\n",
      "100\n"
     ]
    },
    {
     "name": "stderr",
     "output_type": "stream",
     "text": [
      " 14%|██████████                                                            | 14401/100000 [4:51:55<12:33:00,  1.89it/s]"
     ]
    },
    {
     "name": "stdout",
     "output_type": "stream",
     "text": [
      "4.448342881299222\n",
      "100\n",
      "[0.4, 0.9, 0.1, 0.1]\n",
      "tf.Tensor([[0.03634797 0.37753204 0.27679366 0.3093263 ]], shape=(1, 4), dtype=float32)\n",
      "[0.4, 0.7, 0.1, 0.1]\n",
      "tf.Tensor([[0.03645457 0.42569172 0.25165844 0.2861952 ]], shape=(1, 4), dtype=float32)\n",
      "[0.4, 0.5, 0.1, 0.1]\n",
      "tf.Tensor([[0.05764794 0.506327   0.23865688 0.19736816]], shape=(1, 4), dtype=float32)\n",
      "[0.4, 0.3, 0.1, 0.1]\n",
      "tf.Tensor([[0.58533156 0.16708894 0.18025759 0.06732183]], shape=(1, 4), dtype=float32)\n",
      "[0.3, 0.3, 0.1, 0.1]\n",
      "tf.Tensor([[0.9947082  0.00117186 0.00279508 0.00132479]], shape=(1, 4), dtype=float32)\n",
      "[0.2, 0.3, 0.1, 0.1]\n",
      "tf.Tensor([[9.9930608e-01 1.2328454e-04 3.7081304e-04 1.9978543e-04]], shape=(1, 4), dtype=float32)\n",
      "[0.2, 0.2, 0.1, 0.1]\n",
      "tf.Tensor([[9.9896383e-01 1.9631379e-04 5.4276339e-04 2.9704106e-04]], shape=(1, 4), dtype=float32)\n",
      "[0.1, 0.2, 0.1, 0.1]\n",
      "tf.Tensor([[9.9896300e-01 1.8954996e-04 5.6104222e-04 2.8636341e-04]], shape=(1, 4), dtype=float32)\n"
     ]
    },
    {
     "name": "stderr",
     "output_type": "stream",
     "text": [
      " 15%|██████████▏                                                           | 14501/100000 [4:52:38<11:29:40,  2.07it/s]"
     ]
    },
    {
     "name": "stdout",
     "output_type": "stream",
     "text": [
      "4.965070788459189\n",
      "100\n"
     ]
    },
    {
     "name": "stderr",
     "output_type": "stream",
     "text": [
      " 15%|██████████▏                                                           | 14601/100000 [4:53:20<11:46:09,  2.02it/s]"
     ]
    },
    {
     "name": "stdout",
     "output_type": "stream",
     "text": [
      "5.775696128241633\n",
      "100\n",
      "[0.3, 0.2, 0.1, 0.9]\n",
      "tf.Tensor([[0.0394657  0.36846402 0.28236678 0.30970356]], shape=(1, 4), dtype=float32)\n",
      "[0.3, 0.4, 0.1, 0.9]\n",
      "tf.Tensor([[0.03940305 0.3847749  0.2747691  0.301053  ]], shape=(1, 4), dtype=float32)\n",
      "[0.3, 0.6, 0.1, 0.9]\n",
      "tf.Tensor([[0.04261655 0.40952197 0.2618005  0.28606096]], shape=(1, 4), dtype=float32)\n",
      "[0.3, 0.8, 0.1, 0.9]\n",
      "tf.Tensor([[0.09399733 0.4375627  0.27660748 0.19183251]], shape=(1, 4), dtype=float32)\n",
      "[0.1, 0.8, 0.1, 0.9]\n",
      "tf.Tensor([[0.93612725 0.01807702 0.03220358 0.01359219]], shape=(1, 4), dtype=float32)\n"
     ]
    },
    {
     "name": "stderr",
     "output_type": "stream",
     "text": [
      " 15%|██████████▎                                                           | 14701/100000 [4:54:03<11:09:12,  2.12it/s]"
     ]
    },
    {
     "name": "stdout",
     "output_type": "stream",
     "text": [
      "5.176705583612287\n",
      "100\n"
     ]
    },
    {
     "name": "stderr",
     "output_type": "stream",
     "text": [
      " 15%|██████████▎                                                           | 14800/100000 [4:54:46<12:36:07,  1.88it/s]"
     ]
    },
    {
     "name": "stdout",
     "output_type": "stream",
     "text": [
      "4.959086022175734\n",
      "100\n",
      "[0.9, 0.5, 0.1, 0.9]\n",
      "tf.Tensor([[0.04400054 0.3553718  0.29955998 0.30106774]], shape=(1, 4), dtype=float32)\n",
      "[0.7, 0.5, 0.1, 0.9]\n",
      "tf.Tensor([[0.04724262 0.37129542 0.2919649  0.28949708]], shape=(1, 4), dtype=float32)\n",
      "[0.5, 0.5, 0.1, 0.9]\n",
      "tf.Tensor([[0.0565723  0.38957748 0.28022975 0.27362043]], shape=(1, 4), dtype=float32)\n",
      "[0.3, 0.5, 0.1, 0.9]\n",
      "tf.Tensor([[0.11814375 0.41661555 0.2899068  0.17533393]], shape=(1, 4), dtype=float32)\n",
      "[0.3, 0.7, 0.1, 0.9]\n",
      "tf.Tensor([[0.95371616 0.01298478 0.02375991 0.00953917]], shape=(1, 4), dtype=float32)\n",
      "[0.2, 0.7, 0.1, 0.9]\n",
      "tf.Tensor([[9.9885511e-01 2.4874910e-04 5.9009128e-04 3.0603056e-04]], shape=(1, 4), dtype=float32)\n",
      "[0.2, 0.8, 0.1, 0.9]\n"
     ]
    },
    {
     "name": "stderr",
     "output_type": "stream",
     "text": [
      "\r",
      " 15%|██████████▎                                                           | 14801/100000 [4:54:47<13:21:16,  1.77it/s]"
     ]
    },
    {
     "name": "stdout",
     "output_type": "stream",
     "text": [
      "tf.Tensor([[9.9879980e-01 2.5838372e-04 6.0486974e-04 3.3693662e-04]], shape=(1, 4), dtype=float32)\n",
      "[0.1, 0.8, 0.1, 0.9]\n",
      "tf.Tensor([[9.9888057e-01 2.3962605e-04 5.7241751e-04 3.0743956e-04]], shape=(1, 4), dtype=float32)\n"
     ]
    },
    {
     "name": "stderr",
     "output_type": "stream",
     "text": [
      " 15%|██████████▍                                                           | 14901/100000 [4:55:31<14:37:50,  1.62it/s]"
     ]
    },
    {
     "name": "stdout",
     "output_type": "stream",
     "text": [
      "4.783022328830962\n",
      "100\n"
     ]
    },
    {
     "name": "stderr",
     "output_type": "stream",
     "text": [
      " 15%|██████████▌                                                           | 15000/100000 [4:56:11<12:44:29,  1.85it/s]"
     ]
    },
    {
     "name": "stdout",
     "output_type": "stream",
     "text": [
      "5.155040567294824\n",
      "100\n",
      "[0.4, 0.8, 0.1, 0.1]\n",
      "tf.Tensor([[0.0345196  0.36926177 0.29553154 0.30068716]], shape=(1, 4), dtype=float32)\n",
      "[0.4, 0.6, 0.1, 0.1]\n",
      "tf.Tensor([[0.0339612  0.4105386  0.27469015 0.28080997]], shape=(1, 4), dtype=float32)\n",
      "[0.4, 0.4, 0.1, 0.1]\n",
      "tf.Tensor([[0.05281191 0.42355108 0.28415328 0.23948368]], shape=(1, 4), dtype=float32)\n",
      "[0.2, 0.4, 0.1, 0.1]\n",
      "tf.Tensor([[0.40053645 0.2659455  0.25065362 0.08286437]], shape=(1, 4), dtype=float32)\n",
      "[0.2, 0.3, 0.1, 0.1]\n",
      "tf.Tensor([[9.9760652e-01 5.2999530e-04 1.2833418e-03 5.8011588e-04]], shape=(1, 4), dtype=float32)\n",
      "[0.2, 0.2, 0.1, 0.1]\n",
      "tf.Tensor([[9.9951613e-01 9.6649215e-05 2.4503129e-04 1.4231331e-04]], shape=(1, 4), dtype=float32)\n",
      "[0.1, 0.2, 0.1, 0.1]\n",
      "tf.Tensor([[9.9955791e-01 8.5123931e-05 2.3104750e-04 1.2593211e-04]], shape=(1, 4), dtype=float32)"
     ]
    },
    {
     "name": "stderr",
     "output_type": "stream",
     "text": [
      " 15%|██████████▌                                                           | 15002/100000 [4:56:12<10:08:03,  2.33it/s]"
     ]
    },
    {
     "name": "stdout",
     "output_type": "stream",
     "text": [
      "\n"
     ]
    },
    {
     "name": "stderr",
     "output_type": "stream",
     "text": [
      " 15%|██████████▋                                                            | 15101/100000 [4:56:54<7:47:53,  3.02it/s]"
     ]
    },
    {
     "name": "stdout",
     "output_type": "stream",
     "text": [
      "5.853213455534764\n",
      "100\n"
     ]
    },
    {
     "name": "stderr",
     "output_type": "stream",
     "text": [
      " 15%|██████████▋                                                           | 15200/100000 [4:57:35<11:33:14,  2.04it/s]"
     ]
    },
    {
     "name": "stdout",
     "output_type": "stream",
     "text": [
      "5.029576501880972\n",
      "100\n",
      "[0.3, 0.1, 0.9, 0.9]\n",
      "tf.Tensor([[0.04051057 0.37610972 0.2845722  0.29880756]], shape=(1, 4), dtype=float32)\n",
      "[0.3, 0.3, 0.9, 0.9]\n",
      "tf.Tensor([[0.03497325 0.38742116 0.2849147  0.29269093]], shape=(1, 4), dtype=float32)\n",
      "[0.5, 0.3, 0.9, 0.9]\n",
      "tf.Tensor([[0.04105239 0.40826023 0.27336386 0.27732354]], shape=(1, 4), dtype=float32)\n",
      "[0.5, 0.5, 0.9, 0.9]\n",
      "tf.Tensor([[0.05834721 0.47709182 0.26580226 0.19875877]], shape=(1, 4), dtype=float32)\n",
      "[0.7, 0.5, 0.9, 0.9]\n",
      "tf.Tensor([[0.92561    0.02447356 0.03539597 0.01452048]], shape=(1, 4), dtype=float32)\n",
      "[0.7, 0.6, 0.9, 0.9]\n",
      "tf.Tensor([[9.9908066e-01 1.9967866e-04 4.7656012e-04 2.4312145e-04]], shape=(1, 4), dtype=float32)\n",
      "[0.7, 0.7, 0.9, 0.9]\n"
     ]
    },
    {
     "name": "stderr",
     "output_type": "stream",
     "text": [
      "\r",
      " 15%|██████████▋                                                           | 15201/100000 [4:57:36<12:12:35,  1.93it/s]"
     ]
    },
    {
     "name": "stdout",
     "output_type": "stream",
     "text": [
      "tf.Tensor([[9.9947959e-01 1.0386630e-04 2.7068786e-04 1.4584784e-04]], shape=(1, 4), dtype=float32)\n",
      "[0.8, 0.7, 0.9, 0.9]\n",
      "tf.Tensor([[9.9938583e-01 1.2872288e-04 3.2016565e-04 1.6541054e-04]], shape=(1, 4), dtype=float32)\n",
      "[0.8, 0.8, 0.9, 0.9]\n",
      "tf.Tensor([[9.9959189e-01 7.9724276e-05 2.1286568e-04 1.1553577e-04]], shape=(1, 4), dtype=float32)\n",
      "[0.9, 0.8, 0.9, 0.9]\n",
      "tf.Tensor([[9.9950039e-01 1.0296987e-04 2.6111631e-04 1.3560354e-04]], shape=(1, 4), dtype=float32)\n"
     ]
    },
    {
     "name": "stderr",
     "output_type": "stream",
     "text": [
      " 15%|██████████▋                                                           | 15301/100000 [4:58:19<11:16:17,  2.09it/s]"
     ]
    },
    {
     "name": "stdout",
     "output_type": "stream",
     "text": [
      "5.076462300018618\n",
      "100\n"
     ]
    },
    {
     "name": "stderr",
     "output_type": "stream",
     "text": [
      " 15%|██████████▊                                                           | 15401/100000 [4:59:03<12:48:39,  1.83it/s]"
     ]
    },
    {
     "name": "stdout",
     "output_type": "stream",
     "text": [
      "4.935894976381101\n",
      "100\n",
      "[0.4, 0.9, 0.1, 0.9]\n",
      "tf.Tensor([[0.04754366 0.34762943 0.29982093 0.305006  ]], shape=(1, 4), dtype=float32)\n",
      "[0.2, 0.9, 0.1, 0.9]\n",
      "tf.Tensor([[0.04831025 0.37127516 0.29041842 0.2899962 ]], shape=(1, 4), dtype=float32)\n",
      "[0.0, 0.9, 0.1, 0.9]\n",
      "tf.Tensor([[0.04738063 0.4115761  0.27907136 0.26197198]], shape=(1, 4), dtype=float32)\n",
      "[0.2, 0.9, 0.1, 0.9]\n",
      "tf.Tensor([[0.16091679 0.40121606 0.3077561  0.13011101]], shape=(1, 4), dtype=float32)\n",
      "[0.0, 0.9, 0.1, 0.9]\n",
      "tf.Tensor([[0.990867   0.00230553 0.00482313 0.00200436]], shape=(1, 4), dtype=float32)\n"
     ]
    },
    {
     "name": "stderr",
     "output_type": "stream",
     "text": [
      " 16%|██████████▊                                                           | 15501/100000 [4:59:45<10:16:05,  2.29it/s]"
     ]
    },
    {
     "name": "stdout",
     "output_type": "stream",
     "text": [
      "5.714248458275775\n",
      "100\n"
     ]
    },
    {
     "name": "stderr",
     "output_type": "stream",
     "text": [
      " 16%|██████████▉                                                           | 15601/100000 [5:00:29<11:59:20,  1.96it/s]"
     ]
    },
    {
     "name": "stdout",
     "output_type": "stream",
     "text": [
      "4.743051977063885\n",
      "100\n",
      "[0.6, 0.7, 0.9, 0.1]\n",
      "tf.Tensor([[0.03318428 0.4105461  0.25889742 0.29737222]], shape=(1, 4), dtype=float32)\n",
      "[0.6, 0.5, 0.9, 0.1]\n",
      "tf.Tensor([[0.02978755 0.4612362  0.23767    0.2713062 ]], shape=(1, 4), dtype=float32)\n",
      "[0.6, 0.3, 0.9, 0.1]\n",
      "tf.Tensor([[0.03431593 0.52267575 0.23446935 0.20853901]], shape=(1, 4), dtype=float32)\n",
      "[0.8, 0.3, 0.9, 0.1]\n",
      "tf.Tensor([[0.19594048 0.48233294 0.23914267 0.08258398]], shape=(1, 4), dtype=float32)\n",
      "[0.8, 0.1, 0.9, 0.1]\n",
      "tf.Tensor([[9.9715912e-01 7.6481781e-04 1.4542976e-03 6.2180730e-04]], shape=(1, 4), dtype=float32)\n"
     ]
    },
    {
     "name": "stderr",
     "output_type": "stream",
     "text": [
      " 16%|██████████▉                                                           | 15701/100000 [5:01:13<13:22:23,  1.75it/s]"
     ]
    },
    {
     "name": "stdout",
     "output_type": "stream",
     "text": [
      "4.801135221660832\n",
      "100\n"
     ]
    },
    {
     "name": "stderr",
     "output_type": "stream",
     "text": [
      " 16%|███████████                                                           | 15801/100000 [5:01:56<11:47:27,  1.98it/s]"
     ]
    },
    {
     "name": "stdout",
     "output_type": "stream",
     "text": [
      "4.73685894841752\n",
      "100\n",
      "[0.3, 0.4, 0.5, 0.3]\n",
      "tf.Tensor([[0.02986657 0.4186731  0.26671627 0.28474408]], shape=(1, 4), dtype=float32)\n",
      "[0.5, 0.4, 0.5, 0.3]\n",
      "tf.Tensor([[0.02506212 0.48181304 0.23793375 0.255191  ]], shape=(1, 4), dtype=float32)\n",
      "[0.5, 0.2, 0.5, 0.3]\n",
      "tf.Tensor([[0.03024376 0.49850318 0.23645927 0.23479374]], shape=(1, 4), dtype=float32)\n",
      "[0.5, 0.4, 0.5, 0.3]\n",
      "tf.Tensor([[0.05803681 0.61393297 0.21120262 0.11682763]], shape=(1, 4), dtype=float32)\n",
      "[0.5, 0.2, 0.5, 0.3]\n",
      "tf.Tensor([[0.97811437 0.00739317 0.01064889 0.00384362]], shape=(1, 4), dtype=float32)\n"
     ]
    },
    {
     "name": "stderr",
     "output_type": "stream",
     "text": [
      " 16%|███████████▏                                                          | 15901/100000 [5:02:40<11:23:50,  2.05it/s]"
     ]
    },
    {
     "name": "stdout",
     "output_type": "stream",
     "text": [
      "4.649228503486175\n",
      "100\n"
     ]
    },
    {
     "name": "stderr",
     "output_type": "stream",
     "text": [
      " 16%|███████████▏                                                          | 16001/100000 [5:03:25<10:34:47,  2.21it/s]"
     ]
    },
    {
     "name": "stdout",
     "output_type": "stream",
     "text": [
      "4.749237283765078\n",
      "100\n",
      "[0.2, 0.9, 0.5, 0.3]\n",
      "tf.Tensor([[0.02750768 0.456725   0.23451385 0.2812534 ]], shape=(1, 4), dtype=float32)\n",
      "[0.2, 0.7, 0.5, 0.3]\n",
      "tf.Tensor([[0.02413112 0.5082067  0.21314377 0.25451842]], shape=(1, 4), dtype=float32)\n",
      "[0.2, 0.5, 0.5, 0.3]\n",
      "tf.Tensor([[0.02538047 0.5602247  0.21127027 0.20312455]], shape=(1, 4), dtype=float32)\n",
      "[0.4, 0.5, 0.5, 0.3]\n",
      "tf.Tensor([[0.08500863 0.6132191  0.2127701  0.08900223]], shape=(1, 4), dtype=float32)\n",
      "[0.4, 0.3, 0.5, 0.3]\n",
      "tf.Tensor([[9.9507219e-01 1.4871777e-03 2.5100897e-03 9.3052990e-04]], shape=(1, 4), dtype=float32)\n"
     ]
    },
    {
     "name": "stderr",
     "output_type": "stream",
     "text": [
      " 16%|███████████▎                                                          | 16101/100000 [5:04:11<10:34:09,  2.20it/s]"
     ]
    },
    {
     "name": "stdout",
     "output_type": "stream",
     "text": [
      "5.0176944469710305\n",
      "100\n"
     ]
    },
    {
     "name": "stderr",
     "output_type": "stream",
     "text": [
      " 16%|███████████▌                                                           | 16201/100000 [5:04:56<9:36:16,  2.42it/s]"
     ]
    },
    {
     "name": "stdout",
     "output_type": "stream",
     "text": [
      "4.857679644481118\n",
      "100\n",
      "[0.5, 0.1, 0.9, 0.9]\n",
      "tf.Tensor([[0.03171878 0.44103104 0.24146794 0.28578222]], shape=(1, 4), dtype=float32)\n",
      "[0.5, 0.3, 0.9, 0.9]\n",
      "tf.Tensor([[0.0292283  0.4604741  0.23433404 0.2759635 ]], shape=(1, 4), dtype=float32)\n",
      "[0.5, 0.5, 0.9, 0.9]\n",
      "tf.Tensor([[0.02266252 0.50369006 0.21973097 0.2539165 ]], shape=(1, 4), dtype=float32)\n",
      "[0.7, 0.5, 0.9, 0.9]\n",
      "tf.Tensor([[0.0282431  0.5601047  0.20728578 0.20436637]], shape=(1, 4), dtype=float32)\n",
      "[0.7, 0.7, 0.9, 0.9]\n",
      "tf.Tensor([[0.35362458 0.380178   0.1995637  0.0666337 ]], shape=(1, 4), dtype=float32)\n",
      "[0.9, 0.7, 0.9, 0.9]\n",
      "tf.Tensor([[9.9867260e-01 3.8187476e-04 6.5496290e-04 2.9043452e-04]], shape=(1, 4), dtype=float32)\n",
      "[0.9, 0.8, 0.9, 0.9]\n",
      "tf.Tensor([[9.9905354e-01 2.6947522e-04 4.6725085e-04 2.0975826e-04]], shape=(1, 4), dtype=float32)\n"
     ]
    },
    {
     "name": "stderr",
     "output_type": "stream",
     "text": [
      " 16%|███████████▍                                                          | 16301/100000 [5:05:41<10:22:42,  2.24it/s]"
     ]
    },
    {
     "name": "stdout",
     "output_type": "stream",
     "text": [
      "5.145513967037696\n",
      "100\n"
     ]
    },
    {
     "name": "stderr",
     "output_type": "stream",
     "text": [
      " 16%|███████████▍                                                          | 16401/100000 [5:06:25<10:39:23,  2.18it/s]"
     ]
    },
    {
     "name": "stdout",
     "output_type": "stream",
     "text": [
      "5.182050257010666\n",
      "100\n",
      "[0.2, 0.9, 0.1, 0.9]\n",
      "tf.Tensor([[0.03165168 0.4460811  0.2630123  0.2592548 ]], shape=(1, 4), dtype=float32)\n",
      "[0.0, 0.9, 0.1, 0.9]\n",
      "tf.Tensor([[0.02288074 0.49587843 0.2385657  0.24267505]], shape=(1, 4), dtype=float32)\n",
      "[0.2, 0.9, 0.1, 0.9]\n",
      "tf.Tensor([[0.02682316 0.536008   0.23193069 0.20523807]], shape=(1, 4), dtype=float32)\n",
      "[0.0, 0.9, 0.1, 0.9]\n",
      "tf.Tensor([[0.0374391  0.6480244  0.20514435 0.1093922 ]], shape=(1, 4), dtype=float32)\n",
      "[0.2, 0.9, 0.1, 0.9]\n",
      "tf.Tensor([[0.96202135 0.01271168 0.01987823 0.00538868]], shape=(1, 4), dtype=float32)\n"
     ]
    },
    {
     "name": "stderr",
     "output_type": "stream",
     "text": [
      " 17%|███████████▌                                                          | 16501/100000 [5:07:09<11:54:20,  1.95it/s]"
     ]
    },
    {
     "name": "stdout",
     "output_type": "stream",
     "text": [
      "4.879651184011733\n",
      "100\n"
     ]
    },
    {
     "name": "stderr",
     "output_type": "stream",
     "text": [
      " 17%|███████████▌                                                          | 16601/100000 [5:07:53<12:07:15,  1.91it/s]"
     ]
    },
    {
     "name": "stdout",
     "output_type": "stream",
     "text": [
      "5.226370100390915\n",
      "100\n",
      "[0.0, 0.0, 0.5, 0.7]\n",
      "tf.Tensor([[0.04056334 0.39319274 0.2763068  0.28993714]], shape=(1, 4), dtype=float32)\n",
      "[0.0, 0.2, 0.5, 0.7]\n",
      "tf.Tensor([[0.03234591 0.40901974 0.27439576 0.28423858]], shape=(1, 4), dtype=float32)\n",
      "[0.2, 0.2, 0.5, 0.7]\n",
      "tf.Tensor([[0.03462541 0.43395466 0.2638838  0.26753622]], shape=(1, 4), dtype=float32)\n",
      "[0.2, 0.4, 0.5, 0.7]\n",
      "tf.Tensor([[0.02709926 0.487936   0.24280962 0.24215516]], shape=(1, 4), dtype=float32)\n",
      "[0.4, 0.4, 0.5, 0.7]\n",
      "tf.Tensor([[0.05516542 0.5913406  0.22424212 0.12925188]], shape=(1, 4), dtype=float32)\n",
      "[0.4, 0.6, 0.5, 0.7]\n",
      "tf.Tensor([[9.9534202e-01 1.4594659e-03 2.3647870e-03 8.3378033e-04]], shape=(1, 4), dtype=float32)\n",
      "[0.5, 0.6, 0.5, 0.7]\n",
      "tf.Tensor([[9.9773681e-01 6.9642055e-04 1.1453899e-03 4.2141826e-04]], shape=(1, 4), dtype=float32)\n"
     ]
    },
    {
     "name": "stderr",
     "output_type": "stream",
     "text": [
      " 17%|███████████▋                                                          | 16701/100000 [5:08:36<11:44:35,  1.97it/s]"
     ]
    },
    {
     "name": "stdout",
     "output_type": "stream",
     "text": [
      "4.964386394553218\n",
      "100\n"
     ]
    },
    {
     "name": "stderr",
     "output_type": "stream",
     "text": [
      " 17%|███████████▊                                                          | 16801/100000 [5:09:20<11:07:43,  2.08it/s]"
     ]
    },
    {
     "name": "stdout",
     "output_type": "stream",
     "text": [
      "4.926296713859466\n",
      "100\n",
      "[0.6, 0.8, 0.9, 0.9]\n",
      "tf.Tensor([[0.03486929 0.39667618 0.28437626 0.28407833]], shape=(1, 4), dtype=float32)\n",
      "[0.8, 0.8, 0.9, 0.9]\n",
      "tf.Tensor([[0.02716118 0.45490223 0.26258844 0.25534815]], shape=(1, 4), dtype=float32)\n",
      "[1.0, 0.8, 0.9, 0.9]\n",
      "tf.Tensor([[0.02525139 0.5183801  0.23686495 0.21950361]], shape=(1, 4), dtype=float32)\n",
      "[1.0, 1.0, 0.9, 0.9]\n",
      "tf.Tensor([[0.02803264 0.65114665 0.20297447 0.11784621]], shape=(1, 4), dtype=float32)\n",
      "[0.8, 1.0, 0.9, 0.9]\n",
      "tf.Tensor([[0.7385625  0.1386639  0.1071975  0.01557616]], shape=(1, 4), dtype=float32)\n",
      "[0.9, 1.0, 0.9, 0.9]\n",
      "tf.Tensor([[9.9939764e-01 1.7932476e-04 3.2104296e-04 1.0195424e-04]], shape=(1, 4), dtype=float32)\n"
     ]
    },
    {
     "name": "stderr",
     "output_type": "stream",
     "text": [
      " 17%|███████████▊                                                          | 16901/100000 [5:10:06<11:08:21,  2.07it/s]"
     ]
    },
    {
     "name": "stdout",
     "output_type": "stream",
     "text": [
      "4.733083677042192\n",
      "100\n"
     ]
    },
    {
     "name": "stderr",
     "output_type": "stream",
     "text": [
      " 17%|███████████▉                                                          | 17001/100000 [5:10:51<11:25:44,  2.02it/s]"
     ]
    },
    {
     "name": "stdout",
     "output_type": "stream",
     "text": [
      "4.503004316023688\n",
      "99\n",
      "[0.7, 0.2, 0.5, 0.7]\n",
      "tf.Tensor([[0.04601885 0.3837595  0.2876694  0.28255224]], shape=(1, 4), dtype=float32)\n",
      "[0.7, 0.4, 0.5, 0.7]\n",
      "tf.Tensor([[0.04075072 0.4079679  0.27859297 0.2726884 ]], shape=(1, 4), dtype=float32)\n",
      "[0.7, 0.6, 0.5, 0.7]\n",
      "tf.Tensor([[0.04105216 0.4311101  0.27718547 0.25065228]], shape=(1, 4), dtype=float32)\n",
      "[0.5, 0.6, 0.5, 0.7]\n",
      "tf.Tensor([[0.03515092 0.49545628 0.25063094 0.21876192]], shape=(1, 4), dtype=float32)\n",
      "[0.5, 0.8, 0.5, 0.7]\n",
      "tf.Tensor([[0.0913443  0.6257938  0.21678935 0.06607248]], shape=(1, 4), dtype=float32)\n",
      "[0.5, 0.6, 0.5, 0.7]\n",
      "tf.Tensor([[9.9692959e-01 1.1068304e-03 1.5280575e-03 4.3550547e-04]], shape=(1, 4), dtype=float32)\n"
     ]
    },
    {
     "name": "stderr",
     "output_type": "stream",
     "text": [
      " 17%|███████████▉                                                          | 17101/100000 [5:11:37<11:58:26,  1.92it/s]"
     ]
    },
    {
     "name": "stdout",
     "output_type": "stream",
     "text": [
      "4.622759376292157\n",
      "100\n"
     ]
    },
    {
     "name": "stderr",
     "output_type": "stream",
     "text": [
      " 17%|████████████                                                          | 17200/100000 [5:12:21<10:30:12,  2.19it/s]"
     ]
    },
    {
     "name": "stdout",
     "output_type": "stream",
     "text": [
      "4.5909062263310005\n",
      "100\n",
      "[0.2, 0.4, 0.9, 0.9]\n",
      "tf.Tensor([[0.03658288 0.39397955 0.30060026 0.2688372 ]], shape=(1, 4), dtype=float32)\n",
      "[0.4, 0.4, 0.9, 0.9]\n",
      "tf.Tensor([[0.0315681  0.4251571  0.2896989  0.25357592]], shape=(1, 4), dtype=float32)\n",
      "[0.6, 0.4, 0.9, 0.9]\n",
      "tf.Tensor([[0.03188442 0.4522418  0.27592617 0.23994757]], shape=(1, 4), dtype=float32)\n",
      "[0.6, 0.6, 0.9, 0.9]\n",
      "tf.Tensor([[0.02104939 0.53101575 0.24161471 0.20632015]], shape=(1, 4), dtype=float32)\n",
      "[0.8, 0.6, 0.9, 0.9]\n",
      "tf.Tensor([[0.02835426 0.69353724 0.18097772 0.09713083]], shape=(1, 4), dtype=float32)\n",
      "[0.8, 0.8, 0.9, 0.9]\n",
      "tf.Tensor([[9.9831295e-01 6.0758629e-04 8.0742745e-04 2.7203781e-04]], shape=(1, 4), dtype=float32)\n",
      "[0.9, 0.8, 0.9, 0.9]\n",
      "tf.Tensor([[9.9837649e-01 5.9959025e-04 7.6991331e-04 2.5392813e-04]], shape=(1, 4), dtype=float32)"
     ]
    },
    {
     "name": "stderr",
     "output_type": "stream",
     "text": [
      "\r",
      " 17%|████████████                                                          | 17201/100000 [5:12:22<13:34:15,  1.69it/s]"
     ]
    },
    {
     "name": "stdout",
     "output_type": "stream",
     "text": [
      "\n"
     ]
    },
    {
     "name": "stderr",
     "output_type": "stream",
     "text": [
      " 17%|████████████                                                          | 17301/100000 [5:13:07<13:17:24,  1.73it/s]"
     ]
    },
    {
     "name": "stdout",
     "output_type": "stream",
     "text": [
      "4.63365120043216\n",
      "100\n"
     ]
    },
    {
     "name": "stderr",
     "output_type": "stream",
     "text": [
      " 17%|████████████▏                                                         | 17400/100000 [5:13:52<12:02:32,  1.91it/s]"
     ]
    },
    {
     "name": "stdout",
     "output_type": "stream",
     "text": [
      "4.527724960802062\n",
      "100\n",
      "[0.0, 0.6, 0.9, 0.1]\n",
      "tf.Tensor([[0.0458604  0.34690496 0.33027023 0.27696443]], shape=(1, 4), dtype=float32)\n",
      "[0.2, 0.6, 0.9, 0.1]\n",
      "tf.Tensor([[0.03990667 0.37835813 0.32011688 0.26161844]], shape=(1, 4), dtype=float32)\n",
      "[0.4, 0.6, 0.9, 0.1]\n",
      "tf.Tensor([[0.03268654 0.4243009  0.30280054 0.24021195]], shape=(1, 4), dtype=float32)\n",
      "[0.6, 0.6, 0.9, 0.1]\n",
      "tf.Tensor([[0.02291736 0.53601193 0.24882974 0.192241  ]], shape=(1, 4), dtype=float32)\n",
      "[0.6, 0.4, 0.9, 0.1]\n",
      "tf.Tensor([[0.02690571 0.73924166 0.16425776 0.06959493]], shape=(1, 4), dtype=float32)\n",
      "[0.8, 0.4, 0.9, 0.1]\n",
      "tf.Tensor([[9.9898213e-01 3.7168877e-04 4.7170438e-04 1.7449009e-04]], shape=(1, 4), dtype=float32)\n",
      "[0.8, 0.3, 0.9, 0.1]\n",
      "tf.Tensor([[9.9921787e-01 2.8492522e-04 3.6234857e-04 1.3482309e-04]], shape=(1, 4), dtype=float32)\n",
      "[0.8, 0.2, 0.9, 0.1]\n",
      "tf.Tensor([[9.99333322e-01 2.39466855e-04 3.14168952e-04 1.13001624e-04]], shape=(1, 4), dtype=float32)\n",
      "[0.9, 0.2, 0.9, 0.1]\n"
     ]
    },
    {
     "name": "stderr",
     "output_type": "stream",
     "text": [
      " 17%|████████████▎                                                          | 17402/100000 [5:13:53<9:59:37,  2.30it/s]"
     ]
    },
    {
     "name": "stdout",
     "output_type": "stream",
     "text": [
      "tf.Tensor([[9.9943072e-01 2.0392875e-04 2.6498936e-04 1.0033709e-04]], shape=(1, 4), dtype=float32)\n"
     ]
    },
    {
     "name": "stderr",
     "output_type": "stream",
     "text": [
      " 18%|████████████▎                                                         | 17501/100000 [5:14:38<13:07:07,  1.75it/s]"
     ]
    },
    {
     "name": "stdout",
     "output_type": "stream",
     "text": [
      "4.582584122326131\n",
      "100\n"
     ]
    },
    {
     "name": "stderr",
     "output_type": "stream",
     "text": [
      " 18%|████████████▎                                                         | 17601/100000 [5:15:25<11:30:15,  1.99it/s]"
     ]
    },
    {
     "name": "stdout",
     "output_type": "stream",
     "text": [
      "4.796699343497717\n",
      "100\n",
      "[0.3, 0.5, 0.1, 0.1]\n",
      "tf.Tensor([[0.05780306 0.31747785 0.35102743 0.2736917 ]], shape=(1, 4), dtype=float32)\n",
      "[0.3, 0.2, 0.1, 0.1]\n",
      "tf.Tensor([[0.06241074 0.33238533 0.34832212 0.25688183]], shape=(1, 4), dtype=float32)\n",
      "[0.0, 0.2, 0.1, 0.1]\n",
      "tf.Tensor([[0.04838552 0.34971032 0.34718853 0.25471553]], shape=(1, 4), dtype=float32)\n",
      "[0.2, 0.2, 0.1, 0.1]\n",
      "tf.Tensor([[0.04982221 0.39970168 0.320152   0.23032407]], shape=(1, 4), dtype=float32)\n",
      "[0.0, 0.2, 0.1, 0.1]\n",
      "tf.Tensor([[0.03945467 0.60688263 0.23718403 0.11647866]], shape=(1, 4), dtype=float32)\n",
      "[0.2, 0.2, 0.1, 0.1]\n",
      "tf.Tensor([[9.9735200e-01 1.0268604e-03 1.1977786e-03 4.2343457e-04]], shape=(1, 4), dtype=float32)\n",
      "[0.1, 0.2, 0.1, 0.1]\n",
      "tf.Tensor([[0.99043894 0.00385333 0.00448952 0.00121822]], shape=(1, 4), dtype=float32)\n"
     ]
    },
    {
     "name": "stderr",
     "output_type": "stream",
     "text": [
      " 18%|████████████▍                                                         | 17701/100000 [5:16:10<10:47:17,  2.12it/s]"
     ]
    },
    {
     "name": "stdout",
     "output_type": "stream",
     "text": [
      "4.742253609579903\n",
      "100\n"
     ]
    },
    {
     "name": "stderr",
     "output_type": "stream",
     "text": [
      " 18%|████████████▍                                                         | 17800/100000 [5:16:53<10:32:55,  2.16it/s]"
     ]
    },
    {
     "name": "stdout",
     "output_type": "stream",
     "text": [
      "5.198883289948346\n",
      "100\n",
      "[0.7, 0.7, 0.5, 0.3]\n",
      "tf.Tensor([[0.07701768 0.30658624 0.34011272 0.27628335]], shape=(1, 4), dtype=float32)\n",
      "[0.7, 0.4, 0.5, 0.3]\n",
      "tf.Tensor([[0.08132518 0.3153375  0.34363592 0.25970134]], shape=(1, 4), dtype=float32)\n",
      "[0.4, 0.4, 0.5, 0.3]\n",
      "tf.Tensor([[0.05903537 0.34119758 0.34451082 0.25525624]], shape=(1, 4), dtype=float32)\n",
      "[0.7, 0.4, 0.5, 0.3]\n",
      "tf.Tensor([[0.05605753 0.3974991  0.3195299  0.22691344]], shape=(1, 4), dtype=float32)\n",
      "[0.5, 0.4, 0.5, 0.3]\n",
      "tf.Tensor([[0.06712633 0.669992   0.20443235 0.05844931]], shape=(1, 4), dtype=float32)\n",
      "[0.5, 0.2, 0.5, 0.3]\n",
      "tf.Tensor([[9.9854654e-01 5.8716885e-04 6.3707557e-04 2.2908805e-04]], shape=(1, 4), dtype=float32)"
     ]
    },
    {
     "name": "stderr",
     "output_type": "stream",
     "text": [
      "\r",
      " 18%|████████████▍                                                         | 17801/100000 [5:16:54<11:35:53,  1.97it/s]"
     ]
    },
    {
     "name": "stdout",
     "output_type": "stream",
     "text": [
      "\n"
     ]
    },
    {
     "name": "stderr",
     "output_type": "stream",
     "text": [
      " 18%|████████████▌                                                         | 17901/100000 [5:17:40<13:05:57,  1.74it/s]"
     ]
    },
    {
     "name": "stdout",
     "output_type": "stream",
     "text": [
      "4.420794692539129\n",
      "100\n"
     ]
    },
    {
     "name": "stderr",
     "output_type": "stream",
     "text": [
      " 18%|████████████▌                                                         | 18001/100000 [5:18:24<10:58:54,  2.07it/s]"
     ]
    },
    {
     "name": "stdout",
     "output_type": "stream",
     "text": [
      "4.685178651123552\n",
      "100\n",
      "[0.9, 0.8, 0.9, 0.9]\n",
      "tf.Tensor([[0.11673458 0.29566643 0.318691   0.26890808]], shape=(1, 4), dtype=float32)\n",
      "[0.9, 1.0, 0.9, 0.9]\n",
      "tf.Tensor([[0.08853765 0.32258373 0.3297338  0.25914487]], shape=(1, 4), dtype=float32)\n",
      "[0.9, 0.7, 0.9, 0.9]\n",
      "tf.Tensor([[0.07741856 0.34738266 0.32506087 0.25013778]], shape=(1, 4), dtype=float32)\n"
     ]
    },
    {
     "name": "stderr",
     "output_type": "stream",
     "text": [
      " 18%|████████████▋                                                         | 18101/100000 [5:19:07<10:25:31,  2.18it/s]"
     ]
    },
    {
     "name": "stdout",
     "output_type": "stream",
     "text": [
      "5.055004115479672\n",
      "100\n"
     ]
    },
    {
     "name": "stderr",
     "output_type": "stream",
     "text": [
      " 18%|████████████▋                                                         | 18201/100000 [5:19:52<10:54:49,  2.08it/s]"
     ]
    },
    {
     "name": "stdout",
     "output_type": "stream",
     "text": [
      "4.970357300021813\n",
      "100\n",
      "[0.8, 0.8, 0.5, 0.3]\n",
      "tf.Tensor([[0.12825057 0.3144493  0.30506662 0.2522335 ]], shape=(1, 4), dtype=float32)\n",
      "[0.8, 0.6, 0.5, 0.3]\n",
      "tf.Tensor([[0.12563792 0.31901246 0.31586125 0.23948838]], shape=(1, 4), dtype=float32)\n",
      "[0.6, 0.6, 0.5, 0.3]\n",
      "tf.Tensor([[0.08742217 0.367833   0.31470472 0.23004012]], shape=(1, 4), dtype=float32)\n",
      "[0.6, 0.4, 0.5, 0.3]\n",
      "tf.Tensor([[0.07099328 0.41433007 0.31413665 0.20053999]], shape=(1, 4), dtype=float32)\n",
      "[0.4, 0.4, 0.5, 0.3]\n",
      "tf.Tensor([[0.11653535 0.6281825  0.21286996 0.04241221]], shape=(1, 4), dtype=float32)\n",
      "[0.6, 0.4, 0.5, 0.3]\n",
      "tf.Tensor([[9.9857438e-01 5.7257526e-04 6.1118341e-04 2.4192581e-04]], shape=(1, 4), dtype=float32)\n",
      "[0.5, 0.4, 0.5, 0.3]\n",
      "tf.Tensor([[9.9830997e-01 6.8109046e-04 7.5099827e-04 2.5801896e-04]], shape=(1, 4), dtype=float32)\n"
     ]
    },
    {
     "name": "stderr",
     "output_type": "stream",
     "text": [
      " 18%|████████████▉                                                          | 18301/100000 [5:20:39<9:20:28,  2.43it/s]"
     ]
    },
    {
     "name": "stdout",
     "output_type": "stream",
     "text": [
      "4.667584761821481\n",
      "100\n"
     ]
    },
    {
     "name": "stderr",
     "output_type": "stream",
     "text": [
      " 18%|████████████▉                                                         | 18401/100000 [5:21:24<10:32:07,  2.15it/s]"
     ]
    },
    {
     "name": "stdout",
     "output_type": "stream",
     "text": [
      "5.207811034973182\n",
      "100\n",
      "[0.4, 0.4, 0.1, 0.9]\n",
      "tf.Tensor([[0.14707074 0.28404188 0.3194108  0.2494766 ]], shape=(1, 4), dtype=float32)\n",
      "[0.4, 0.7, 0.1, 0.9]\n",
      "tf.Tensor([[0.13285358 0.29710233 0.331151   0.23889314]], shape=(1, 4), dtype=float32)\n",
      "[0.1, 0.7, 0.1, 0.9]\n",
      "tf.Tensor([[0.11486482 0.31486297 0.33349058 0.2367816 ]], shape=(1, 4), dtype=float32)\n",
      "[0.1, 1.0, 0.1, 0.9]\n",
      "tf.Tensor([[0.07252166 0.3922904  0.31786352 0.21732445]], shape=(1, 4), dtype=float32)\n",
      "[0.1, 0.8, 0.1, 0.9]\n",
      "tf.Tensor([[0.0592397  0.6267342  0.23292653 0.08109959]], shape=(1, 4), dtype=float32)\n",
      "[0.1, 1.0, 0.1, 0.9]\n",
      "tf.Tensor([[9.9739993e-01 1.0872971e-03 1.1503284e-03 3.6234906e-04]], shape=(1, 4), dtype=float32)\n"
     ]
    },
    {
     "name": "stderr",
     "output_type": "stream",
     "text": [
      " 19%|████████████▉                                                         | 18501/100000 [5:22:10<11:46:00,  1.92it/s]"
     ]
    },
    {
     "name": "stdout",
     "output_type": "stream",
     "text": [
      "4.61116592560509\n",
      "100\n"
     ]
    },
    {
     "name": "stderr",
     "output_type": "stream",
     "text": [
      " 19%|█████████████                                                         | 18601/100000 [5:22:56<10:42:38,  2.11it/s]"
     ]
    },
    {
     "name": "stdout",
     "output_type": "stream",
     "text": [
      "4.74190832706563\n",
      "100\n",
      "[0.8, 0.5, 0.1, 0.9]\n",
      "tf.Tensor([[0.17206453 0.2750323  0.31438828 0.23851489]], shape=(1, 4), dtype=float32)\n",
      "[0.5, 0.5, 0.1, 0.9]\n",
      "tf.Tensor([[0.15195921 0.28811088 0.3208355  0.2390944 ]], shape=(1, 4), dtype=float32)\n",
      "[0.5, 0.8, 0.1, 0.9]\n",
      "tf.Tensor([[0.13054311 0.31246227 0.33010194 0.22689267]], shape=(1, 4), dtype=float32)\n",
      "[0.2, 0.8, 0.1, 0.9]\n",
      "tf.Tensor([[0.08870796 0.3662529  0.32683983 0.21819928]], shape=(1, 4), dtype=float32)\n",
      "[0.2, 1.0, 0.1, 0.9]\n",
      "tf.Tensor([[0.06137089 0.6237398  0.24059413 0.07429523]], shape=(1, 4), dtype=float32)\n",
      "[0.0, 1.0, 0.1, 0.9]\n",
      "tf.Tensor([[9.9518764e-01 2.0647203e-03 2.2212816e-03 5.2624132e-04]], shape=(1, 4), dtype=float32)\n",
      "[0.1, 1.0, 0.1, 0.9]\n",
      "tf.Tensor([[9.9656171e-01 1.4680254e-03 1.5591782e-03 4.1114597e-04]], shape=(1, 4), dtype=float32)\n"
     ]
    },
    {
     "name": "stderr",
     "output_type": "stream",
     "text": [
      " 19%|█████████████                                                         | 18701/100000 [5:23:41<11:03:43,  2.04it/s]"
     ]
    },
    {
     "name": "stdout",
     "output_type": "stream",
     "text": [
      "4.68804117548966\n",
      "100\n"
     ]
    },
    {
     "name": "stderr",
     "output_type": "stream",
     "text": [
      " 19%|█████████████▎                                                         | 18801/100000 [5:24:27<9:07:55,  2.47it/s]"
     ]
    },
    {
     "name": "stdout",
     "output_type": "stream",
     "text": [
      "4.888856118855441\n",
      "100\n",
      "[0.0, 0.4, 0.5, 0.3]\n",
      "tf.Tensor([[0.19049056 0.25890857 0.3226039  0.22799698]], shape=(1, 4), dtype=float32)\n",
      "[0.3, 0.4, 0.5, 0.3]\n",
      "tf.Tensor([[0.1680479  0.27492374 0.33302212 0.22400624]], shape=(1, 4), dtype=float32)\n",
      "[0.6, 0.4, 0.5, 0.3]\n",
      "tf.Tensor([[0.14053902 0.30555436 0.33724388 0.21666269]], shape=(1, 4), dtype=float32)\n",
      "[0.3, 0.4, 0.5, 0.3]\n",
      "tf.Tensor([[0.09050187 0.34892622 0.35469326 0.20587857]], shape=(1, 4), dtype=float32)\n",
      "[0.6, 0.4, 0.5, 0.3]\n",
      "tf.Tensor([[0.04978718 0.5756755  0.26726466 0.10727268]], shape=(1, 4), dtype=float32)\n",
      "[0.4, 0.4, 0.5, 0.3]\n",
      "tf.Tensor([[0.98488706 0.00784533 0.0060223  0.00124537]], shape=(1, 4), dtype=float32)\n",
      "[0.5, 0.4, 0.5, 0.3]\n",
      "tf.Tensor([[9.9229020e-01 3.8745387e-03 3.1058907e-03 7.2921574e-04]], shape=(1, 4), dtype=float32)\n"
     ]
    },
    {
     "name": "stderr",
     "output_type": "stream",
     "text": [
      " 19%|█████████████▏                                                        | 18901/100000 [5:25:12<10:14:31,  2.20it/s]"
     ]
    },
    {
     "name": "stdout",
     "output_type": "stream",
     "text": [
      "4.900084625918976\n",
      "100\n"
     ]
    },
    {
     "name": "stderr",
     "output_type": "stream",
     "text": [
      " 19%|█████████████▍                                                         | 19001/100000 [5:25:57<9:32:20,  2.36it/s]"
     ]
    },
    {
     "name": "stdout",
     "output_type": "stream",
     "text": [
      "5.429204349817987\n",
      "100\n",
      "[0.9, 0.5, 0.9, 0.1]\n",
      "tf.Tensor([[0.2059201  0.27239567 0.297212   0.22447218]], shape=(1, 4), dtype=float32)\n",
      "[0.9, 0.2, 0.9, 0.1]\n",
      "tf.Tensor([[0.16941871 0.2932843  0.31714344 0.2201536 ]], shape=(1, 4), dtype=float32)\n",
      "[0.9, 0.0, 0.9, 0.1]\n",
      "tf.Tensor([[0.13930854 0.31057093 0.32972485 0.22039567]], shape=(1, 4), dtype=float32)\n",
      "[0.9, 0.3, 0.9, 0.1]\n",
      "tf.Tensor([[0.05883081 0.4895826  0.29913467 0.15245184]], shape=(1, 4), dtype=float32)\n"
     ]
    },
    {
     "name": "stderr",
     "output_type": "stream",
     "text": [
      " 19%|█████████████▌                                                         | 19101/100000 [5:26:40<9:23:12,  2.39it/s]"
     ]
    },
    {
     "name": "stdout",
     "output_type": "stream",
     "text": [
      "5.4973932416745654\n",
      "100\n"
     ]
    },
    {
     "name": "stderr",
     "output_type": "stream",
     "text": [
      " 19%|█████████████▍                                                        | 19201/100000 [5:27:23<11:16:41,  1.99it/s]"
     ]
    },
    {
     "name": "stdout",
     "output_type": "stream",
     "text": [
      "4.716702039269264\n",
      "100\n",
      "[0.7, 0.7, 0.1, 0.9]\n",
      "tf.Tensor([[0.24630332 0.2470583  0.28806305 0.2185753 ]], shape=(1, 4), dtype=float32)\n",
      "[0.4, 0.7, 0.1, 0.9]\n",
      "tf.Tensor([[0.2148067  0.26753157 0.30075237 0.2169093 ]], shape=(1, 4), dtype=float32)\n",
      "[0.1, 0.7, 0.1, 0.9]\n",
      "tf.Tensor([[0.17945683 0.2940982  0.31118795 0.21525711]], shape=(1, 4), dtype=float32)\n",
      "[0.1, 1.0, 0.1, 0.9]\n",
      "tf.Tensor([[0.09392094 0.3980246  0.31159705 0.19645736]], shape=(1, 4), dtype=float32)\n",
      "[0.1, 0.8, 0.1, 0.9]\n",
      "tf.Tensor([[0.04257141 0.7181357  0.19352911 0.0457638 ]], shape=(1, 4), dtype=float32)\n",
      "[0.1, 1.0, 0.1, 0.9]\n",
      "tf.Tensor([[9.9112660e-01 4.8002764e-03 3.3391144e-03 7.3406519e-04]], shape=(1, 4), dtype=float32)\n"
     ]
    },
    {
     "name": "stderr",
     "output_type": "stream",
     "text": [
      " 19%|█████████████▌                                                        | 19301/100000 [5:28:07<10:07:25,  2.21it/s]"
     ]
    },
    {
     "name": "stdout",
     "output_type": "stream",
     "text": [
      "4.955708739677464\n",
      "100\n"
     ]
    },
    {
     "name": "stderr",
     "output_type": "stream",
     "text": [
      " 19%|█████████████▌                                                        | 19401/100000 [5:28:53<12:20:51,  1.81it/s]"
     ]
    },
    {
     "name": "stdout",
     "output_type": "stream",
     "text": [
      "4.877718992720188\n",
      "100\n",
      "[0.3, 0.0, 0.9, 0.1]\n",
      "tf.Tensor([[0.26980808 0.21819095 0.28893554 0.2230655 ]], shape=(1, 4), dtype=float32)\n",
      "[0.6, 0.0, 0.9, 0.1]\n",
      "tf.Tensor([[0.23603751 0.23378015 0.30685514 0.2233272 ]], shape=(1, 4), dtype=float32)\n",
      "[0.9, 0.0, 0.9, 0.1]\n",
      "tf.Tensor([[0.19033876 0.26155677 0.3212985  0.22680598]], shape=(1, 4), dtype=float32)\n",
      "[0.9, 0.3, 0.9, 0.1]\n",
      "tf.Tensor([[0.0962134  0.3333002  0.35457203 0.21591444]], shape=(1, 4), dtype=float32)\n",
      "[0.9, 0.0, 0.9, 0.1]\n",
      "tf.Tensor([[0.03745601 0.6762308  0.2083033  0.07800982]], shape=(1, 4), dtype=float32)\n",
      "[0.9, 0.2, 0.9, 0.1]\n",
      "tf.Tensor([[0.984062   0.00986311 0.00499    0.0010849 ]], shape=(1, 4), dtype=float32)\n"
     ]
    },
    {
     "name": "stderr",
     "output_type": "stream",
     "text": [
      " 20%|█████████████▋                                                        | 19501/100000 [5:29:37<11:17:46,  1.98it/s]"
     ]
    },
    {
     "name": "stdout",
     "output_type": "stream",
     "text": [
      "4.912761665565477\n",
      "100\n"
     ]
    },
    {
     "name": "stderr",
     "output_type": "stream",
     "text": [
      " 20%|█████████████▋                                                        | 19601/100000 [5:30:21<11:20:52,  1.97it/s]"
     ]
    },
    {
     "name": "stdout",
     "output_type": "stream",
     "text": [
      "4.939407003220412\n",
      "100\n",
      "[0.4, 0.1, 0.5, 0.3]\n",
      "tf.Tensor([[0.27429748 0.2236497  0.27926368 0.2227892 ]], shape=(1, 4), dtype=float32)\n",
      "[0.4, 0.4, 0.5, 0.3]\n",
      "tf.Tensor([[0.24875422 0.22446674 0.30577436 0.2210047 ]], shape=(1, 4), dtype=float32)\n",
      "[0.7, 0.4, 0.5, 0.3]\n",
      "tf.Tensor([[0.19767877 0.26325294 0.32023248 0.21883586]], shape=(1, 4), dtype=float32)\n",
      "[0.4, 0.4, 0.5, 0.3]\n",
      "tf.Tensor([[0.1167527  0.31515595 0.35670987 0.21138154]], shape=(1, 4), dtype=float32)\n",
      "[0.7, 0.4, 0.5, 0.3]\n",
      "tf.Tensor([[0.04217335 0.6720843  0.2150785  0.07066387]], shape=(1, 4), dtype=float32)\n",
      "[0.5, 0.4, 0.5, 0.3]\n",
      "tf.Tensor([[9.9416804e-01 3.3506548e-03 2.0012807e-03 4.8013654e-04]], shape=(1, 4), dtype=float32)\n"
     ]
    },
    {
     "name": "stderr",
     "output_type": "stream",
     "text": [
      " 20%|█████████████▊                                                        | 19701/100000 [5:31:07<13:34:27,  1.64it/s]"
     ]
    },
    {
     "name": "stdout",
     "output_type": "stream",
     "text": [
      "4.771007928290023\n",
      "100\n"
     ]
    },
    {
     "name": "stderr",
     "output_type": "stream",
     "text": [
      " 20%|██████████████                                                         | 19800/100000 [5:31:51<8:49:31,  2.52it/s]"
     ]
    },
    {
     "name": "stdout",
     "output_type": "stream",
     "text": [
      "4.862899661998015\n",
      "100\n",
      "[0.6, 0.1, 0.1, 0.9]\n",
      "tf.Tensor([[0.3229068  0.21601474 0.25154006 0.20953834]], shape=(1, 4), dtype=float32)\n",
      "[0.6, 0.2, 0.1, 0.9]\n",
      "tf.Tensor([[0.2891885  0.22921859 0.26871303 0.21287987]], shape=(1, 4), dtype=float32)\n",
      "[0.6, 0.3, 0.1, 0.9]\n",
      "tf.Tensor([[0.24553527 0.24952851 0.28712732 0.21780887]], shape=(1, 4), dtype=float32)\n",
      "[0.6, 0.6, 0.1, 0.9]\n",
      "tf.Tensor([[0.17060064 0.29868174 0.31950408 0.21121351]], shape=(1, 4), dtype=float32)\n",
      "[0.3, 0.6, 0.1, 0.9]\n",
      "tf.Tensor([[0.0476499  0.6330935  0.23005308 0.08920353]], shape=(1, 4), dtype=float32)\n",
      "[0.3, 0.8, 0.1, 0.9]\n",
      "tf.Tensor([[0.983676   0.00975872 0.00538767 0.0011776 ]], shape=(1, 4), dtype=float32)\n",
      "[0.2, 0.8, 0.1, 0.9]\n"
     ]
    },
    {
     "name": "stderr",
     "output_type": "stream",
     "text": [
      "\r",
      " 20%|█████████████▊                                                        | 19801/100000 [5:31:52<12:07:02,  1.84it/s]"
     ]
    },
    {
     "name": "stdout",
     "output_type": "stream",
     "text": [
      "tf.Tensor([[9.8824894e-01 6.9858674e-03 3.9408840e-03 8.2418299e-04]], shape=(1, 4), dtype=float32)\n",
      "[0.2, 0.9, 0.1, 0.9]\n",
      "tf.Tensor([[9.9234021e-01 4.3664528e-03 2.6520272e-03 6.4128736e-04]], shape=(1, 4), dtype=float32)\n"
     ]
    },
    {
     "name": "stderr",
     "output_type": "stream",
     "text": [
      " 20%|█████████████▉                                                        | 19901/100000 [5:32:34<11:19:08,  1.97it/s]"
     ]
    },
    {
     "name": "stdout",
     "output_type": "stream",
     "text": [
      "5.09347261131802\n",
      "100\n"
     ]
    },
    {
     "name": "stderr",
     "output_type": "stream",
     "text": [
      " 20%|██████████████                                                        | 20001/100000 [5:33:18<13:27:35,  1.65it/s]"
     ]
    },
    {
     "name": "stdout",
     "output_type": "stream",
     "text": [
      "4.687799015458384\n",
      "100\n",
      "[0.6, 0.0, 0.1, 0.1]\n",
      "tf.Tensor([[0.28000513 0.23313195 0.2702322  0.21663068]], shape=(1, 4), dtype=float32)\n",
      "[0.5, 0.0, 0.1, 0.1]\n",
      "tf.Tensor([[0.24766423 0.2503722  0.28513142 0.21683215]], shape=(1, 4), dtype=float32)\n",
      "[0.2, 0.0, 0.1, 0.1]\n",
      "tf.Tensor([[0.22013551 0.26504132 0.29547977 0.21934342]], shape=(1, 4), dtype=float32)\n",
      "[0.2, 0.3, 0.1, 0.1]\n",
      "tf.Tensor([[0.13107379 0.3381973  0.31912136 0.21160744]], shape=(1, 4), dtype=float32)\n",
      "[0.2, 0.1, 0.1, 0.1]\n",
      "tf.Tensor([[0.04996457 0.63756484 0.22685133 0.08561928]], shape=(1, 4), dtype=float32)\n",
      "[0.0, 0.1, 0.1, 0.1]\n",
      "tf.Tensor([[0.9775839  0.01405363 0.00715591 0.00120648]], shape=(1, 4), dtype=float32)\n"
     ]
    },
    {
     "name": "stderr",
     "output_type": "stream",
     "text": [
      " 20%|██████████████▎                                                        | 20101/100000 [5:34:01<8:33:49,  2.59it/s]"
     ]
    },
    {
     "name": "stdout",
     "output_type": "stream",
     "text": [
      "5.637950578689883\n",
      "100\n"
     ]
    },
    {
     "name": "stderr",
     "output_type": "stream",
     "text": [
      " 20%|██████████████▏                                                       | 20201/100000 [5:34:43<11:42:29,  1.89it/s]"
     ]
    },
    {
     "name": "stdout",
     "output_type": "stream",
     "text": [
      "5.175556419676085\n",
      "100\n",
      "[0.2, 0.0, 0.1, 0.1]\n",
      "tf.Tensor([[0.29545426 0.20779501 0.27446702 0.22228372]], shape=(1, 4), dtype=float32)\n",
      "[0.2, 0.1, 0.1, 0.1]\n",
      "tf.Tensor([[0.25454718 0.22804946 0.29596707 0.22143625]], shape=(1, 4), dtype=float32)\n",
      "[0.0, 0.1, 0.1, 0.1]\n",
      "tf.Tensor([[0.23611492 0.22415125 0.3172696  0.22246422]], shape=(1, 4), dtype=float32)\n",
      "[0.3, 0.1, 0.1, 0.1]\n",
      "tf.Tensor([[0.16376142 0.28549826 0.33435595 0.21638432]], shape=(1, 4), dtype=float32)\n",
      "[0.0, 0.1, 0.1, 0.1]\n",
      "tf.Tensor([[0.04944228 0.56822485 0.2690657  0.11326719]], shape=(1, 4), dtype=float32)\n",
      "[0.2, 0.1, 0.1, 0.1]\n",
      "tf.Tensor([[0.9123435  0.05803209 0.02552238 0.00410214]], shape=(1, 4), dtype=float32)\n"
     ]
    },
    {
     "name": "stderr",
     "output_type": "stream",
     "text": [
      " 20%|██████████████▏                                                       | 20301/100000 [5:35:27<10:27:04,  2.12it/s]"
     ]
    },
    {
     "name": "stdout",
     "output_type": "stream",
     "text": [
      "4.722848109546742\n",
      "100\n"
     ]
    },
    {
     "name": "stderr",
     "output_type": "stream",
     "text": [
      " 20%|██████████████▍                                                        | 20401/100000 [5:36:13<8:51:20,  2.50it/s]"
     ]
    },
    {
     "name": "stdout",
     "output_type": "stream",
     "text": [
      "4.98000133395962\n",
      "100\n",
      "[0.4, 0.3, 0.5, 0.3]\n",
      "tf.Tensor([[0.3311383  0.187161   0.2776881  0.20401265]], shape=(1, 4), dtype=float32)\n"
     ]
    },
    {
     "name": "stderr",
     "output_type": "stream",
     "text": [
      " 21%|██████████████▎                                                       | 20501/100000 [5:36:57<10:45:57,  2.05it/s]"
     ]
    },
    {
     "name": "stdout",
     "output_type": "stream",
     "text": [
      "4.789809211524137\n",
      "100\n"
     ]
    },
    {
     "name": "stderr",
     "output_type": "stream",
     "text": [
      " 21%|██████████████▍                                                       | 20601/100000 [5:37:42<12:10:27,  1.81it/s]"
     ]
    },
    {
     "name": "stdout",
     "output_type": "stream",
     "text": [
      "4.370665546706356\n",
      "100\n",
      "[0.5, 0.3, 0.5, 0.7]\n",
      "tf.Tensor([[0.27726856 0.22036985 0.29164627 0.21071538]], shape=(1, 4), dtype=float32)\n",
      "[0.5, 0.6, 0.5, 0.7]\n",
      "tf.Tensor([[0.21507497 0.2534119  0.31908593 0.21242718]], shape=(1, 4), dtype=float32)\n",
      "[0.5, 0.9, 0.5, 0.7]\n",
      "tf.Tensor([[0.1075791  0.35221022 0.3400324  0.20017825]], shape=(1, 4), dtype=float32)\n"
     ]
    },
    {
     "name": "stderr",
     "output_type": "stream",
     "text": [
      " 21%|██████████████▍                                                       | 20701/100000 [5:38:27<11:27:12,  1.92it/s]"
     ]
    },
    {
     "name": "stdout",
     "output_type": "stream",
     "text": [
      "5.223671617116448\n",
      "100\n"
     ]
    },
    {
     "name": "stderr",
     "output_type": "stream",
     "text": [
      " 21%|██████████████▊                                                        | 20800/100000 [5:39:10<8:56:30,  2.46it/s]"
     ]
    },
    {
     "name": "stdout",
     "output_type": "stream",
     "text": [
      "5.0543001043092834\n",
      "100\n",
      "[0.8, 0.0, 0.1, 0.9]\n",
      "tf.Tensor([[0.2883595  0.22395581 0.27645904 0.21122572]], shape=(1, 4), dtype=float32)\n",
      "[0.8, 0.1, 0.1, 0.9]\n",
      "tf.Tensor([[0.2379829  0.24634668 0.30051336 0.21515702]], shape=(1, 4), dtype=float32)\n",
      "[0.8, 0.4, 0.1, 0.9]\n",
      "tf.Tensor([[0.18052353 0.28261936 0.3290134  0.20784377]], shape=(1, 4), dtype=float32)\n",
      "[0.5, 0.4, 0.1, 0.9]\n",
      "tf.Tensor([[0.08624963 0.3834133  0.33306494 0.19727208]], shape=(1, 4), dtype=float32)\n",
      "[0.5, 0.6, 0.1, 0.9]\n",
      "tf.Tensor([[0.02103752 0.83658105 0.11465816 0.0277234 ]], shape=(1, 4), dtype=float32)\n",
      "[0.3, 0.6, 0.1, 0.9]\n",
      "tf.Tensor([[9.8739690e-01 8.7638665e-03 3.1432344e-03 6.9598900e-04]], shape=(1, 4), dtype=float32)\n",
      "[0.3, 0.7, 0.1, 0.9]\n",
      "tf.Tensor([[9.9050188e-01 6.5289852e-03 2.4108340e-03 5.5844226e-04]], shape=(1, 4), dtype=float32)\n",
      "[0.3, 0.8, 0.1, 0.9]\n",
      "tf.Tensor([[9.9321508e-01 4.4891695e-03 1.8139388e-03 4.8191089e-04]], shape=(1, 4), dtype=float32)"
     ]
    },
    {
     "name": "stderr",
     "output_type": "stream",
     "text": [
      "\r",
      " 21%|██████████████▌                                                       | 20801/100000 [5:39:11<10:32:18,  2.09it/s]"
     ]
    },
    {
     "name": "stdout",
     "output_type": "stream",
     "text": [
      "\n",
      "[0.2, 0.8, 0.1, 0.9]\n",
      "tf.Tensor([[9.9234396e-01 5.1603611e-03 2.0106216e-03 4.8518498e-04]], shape=(1, 4), dtype=float32)\n",
      "[0.2, 0.9, 0.1, 0.9]\n",
      "tf.Tensor([[9.9466777e-01 3.4694590e-03 1.4598758e-03 4.0293147e-04]], shape=(1, 4), dtype=float32)\n"
     ]
    },
    {
     "name": "stderr",
     "output_type": "stream",
     "text": [
      " 21%|██████████████▊                                                        | 20901/100000 [5:39:53<9:59:47,  2.20it/s]"
     ]
    },
    {
     "name": "stdout",
     "output_type": "stream",
     "text": [
      "5.403033590956726\n",
      "100\n"
     ]
    },
    {
     "name": "stderr",
     "output_type": "stream",
     "text": [
      " 21%|██████████████▋                                                       | 21001/100000 [5:40:36<10:25:03,  2.11it/s]"
     ]
    },
    {
     "name": "stdout",
     "output_type": "stream",
     "text": [
      "5.249133787440275\n",
      "100\n",
      "[0.9, 0.2, 0.5, 0.3]\n",
      "tf.Tensor([[0.29294416 0.20378016 0.28851902 0.21475664]], shape=(1, 4), dtype=float32)\n",
      "[0.8, 0.2, 0.5, 0.3]\n",
      "tf.Tensor([[0.24821189 0.22490846 0.31147358 0.21540599]], shape=(1, 4), dtype=float32)\n",
      "[0.5, 0.2, 0.5, 0.3]\n",
      "tf.Tensor([[0.19879848 0.25165576 0.32908577 0.22046001]], shape=(1, 4), dtype=float32)\n",
      "[0.5, 0.5, 0.5, 0.3]\n",
      "tf.Tensor([[0.07955105 0.38084412 0.34787953 0.19172534]], shape=(1, 4), dtype=float32)\n"
     ]
    },
    {
     "name": "stderr",
     "output_type": "stream",
     "text": [
      " 21%|██████████████▉                                                        | 21101/100000 [5:41:19<9:23:52,  2.33it/s]"
     ]
    },
    {
     "name": "stdout",
     "output_type": "stream",
     "text": [
      "5.281902464282713\n",
      "100\n"
     ]
    },
    {
     "name": "stderr",
     "output_type": "stream",
     "text": [
      " 21%|██████████████▊                                                       | 21201/100000 [5:42:03<13:02:25,  1.68it/s]"
     ]
    },
    {
     "name": "stdout",
     "output_type": "stream",
     "text": [
      "4.617994714795104\n",
      "100\n",
      "[0.0, 0.3, 0.9, 0.1]\n",
      "tf.Tensor([[0.4109024  0.13222373 0.25672102 0.20015283]], shape=(1, 4), dtype=float32)\n",
      "[0.1, 0.3, 0.9, 0.1]\n",
      "tf.Tensor([[0.37095052 0.14525703 0.27876043 0.20503211]], shape=(1, 4), dtype=float32)\n",
      "[0.2, 0.3, 0.9, 0.1]\n",
      "tf.Tensor([[0.3063092  0.1682495  0.31474397 0.21069734]], shape=(1, 4), dtype=float32)\n",
      "[0.5, 0.3, 0.9, 0.1]\n",
      "tf.Tensor([[0.16002397 0.24335957 0.37880132 0.2178152 ]], shape=(1, 4), dtype=float32)\n",
      "[0.8, 0.3, 0.9, 0.1]\n",
      "tf.Tensor([[0.01253277 0.8346738  0.12081329 0.03198018]], shape=(1, 4), dtype=float32)\n",
      "[0.8, 0.1, 0.9, 0.1]\n",
      "tf.Tensor([[9.9224418e-01 5.6702890e-03 1.6926717e-03 3.9278087e-04]], shape=(1, 4), dtype=float32)\n"
     ]
    },
    {
     "name": "stderr",
     "output_type": "stream",
     "text": [
      " 21%|██████████████▉                                                       | 21301/100000 [5:42:47<11:44:26,  1.86it/s]"
     ]
    },
    {
     "name": "stdout",
     "output_type": "stream",
     "text": [
      "4.831974590474683\n",
      "100\n"
     ]
    },
    {
     "name": "stderr",
     "output_type": "stream",
     "text": [
      " 21%|██████████████▉                                                       | 21401/100000 [5:43:32<12:39:54,  1.72it/s]"
     ]
    },
    {
     "name": "stdout",
     "output_type": "stream",
     "text": [
      "4.697139145146337\n",
      "100\n",
      "[0.8, 0.4, 0.1, 0.1]\n",
      "tf.Tensor([[0.33050185 0.1863374  0.26607567 0.21708502]], shape=(1, 4), dtype=float32)\n",
      "[0.7, 0.4, 0.1, 0.1]\n",
      "tf.Tensor([[0.2722504  0.21297939 0.2950299  0.2197403 ]], shape=(1, 4), dtype=float32)\n",
      "[0.4, 0.4, 0.1, 0.1]\n",
      "tf.Tensor([[0.16851509 0.27843553 0.33305955 0.21998987]], shape=(1, 4), dtype=float32)\n",
      "[0.4, 0.1, 0.1, 0.1]\n",
      "tf.Tensor([[0.07811045 0.4117482  0.3392424  0.17089896]], shape=(1, 4), dtype=float32)\n",
      "[0.2, 0.1, 0.1, 0.1]\n",
      "tf.Tensor([[0.01777305 0.8756462  0.09045085 0.01612995]], shape=(1, 4), dtype=float32)\n",
      "[0.0, 0.1, 0.1, 0.1]\n",
      "tf.Tensor([[9.964665e-01 2.436964e-03 8.736201e-04 2.229491e-04]], shape=(1, 4), dtype=float32)\n"
     ]
    },
    {
     "name": "stderr",
     "output_type": "stream",
     "text": [
      " 22%|███████████████▎                                                       | 21501/100000 [5:44:16<8:20:29,  2.61it/s]"
     ]
    },
    {
     "name": "stdout",
     "output_type": "stream",
     "text": [
      "5.531987601060833\n",
      "100\n"
     ]
    },
    {
     "name": "stderr",
     "output_type": "stream",
     "text": [
      " 22%|███████████████                                                       | 21601/100000 [5:45:01<11:13:56,  1.94it/s]"
     ]
    },
    {
     "name": "stdout",
     "output_type": "stream",
     "text": [
      "5.078066218774563\n",
      "100\n",
      "[0.1, 0.5, 0.5, 0.7]\n",
      "tf.Tensor([[0.43622184 0.14843866 0.21722233 0.19811721]], shape=(1, 4), dtype=float32)\n",
      "[0.2, 0.5, 0.5, 0.7]\n",
      "tf.Tensor([[0.38013667 0.16967961 0.24376129 0.20642248]], shape=(1, 4), dtype=float32)\n",
      "[0.3, 0.5, 0.5, 0.7]\n",
      "tf.Tensor([[0.28073293 0.212963   0.2922585  0.21404557]], shape=(1, 4), dtype=float32)\n",
      "[0.6, 0.5, 0.5, 0.7]\n",
      "tf.Tensor([[0.08943033 0.3616972  0.33621836 0.21265411]], shape=(1, 4), dtype=float32)\n",
      "[0.6, 0.7, 0.5, 0.7]\n",
      "tf.Tensor([[0.00764146 0.92038965 0.06007833 0.01189054]], shape=(1, 4), dtype=float32)\n",
      "[0.4, 0.7, 0.5, 0.7]\n",
      "tf.Tensor([[9.9476045e-01 3.8191711e-03 1.1595816e-03 2.6080335e-04]], shape=(1, 4), dtype=float32)\n"
     ]
    },
    {
     "name": "stderr",
     "output_type": "stream",
     "text": [
      " 22%|███████████████▏                                                      | 21701/100000 [5:45:45<13:08:05,  1.66it/s]"
     ]
    },
    {
     "name": "stdout",
     "output_type": "stream",
     "text": [
      "4.760668113370334\n",
      "100\n"
     ]
    },
    {
     "name": "stderr",
     "output_type": "stream",
     "text": [
      " 22%|███████████████▍                                                       | 21801/100000 [5:46:26<6:29:14,  3.35it/s]"
     ]
    },
    {
     "name": "stdout",
     "output_type": "stream",
     "text": [
      "6.053160087960306\n",
      "100\n",
      "[0.2, 0.0, 0.5, 0.7]\n",
      "tf.Tensor([[0.41782242 0.15660378 0.21769969 0.20787409]], shape=(1, 4), dtype=float32)\n",
      "[0.2, 0.1, 0.5, 0.7]\n",
      "tf.Tensor([[0.37525037 0.17030595 0.23943503 0.21500856]], shape=(1, 4), dtype=float32)\n",
      "[0.2, 0.2, 0.5, 0.7]\n",
      "tf.Tensor([[0.32092836 0.19166014 0.26502284 0.22238861]], shape=(1, 4), dtype=float32)\n",
      "[0.2, 0.3, 0.5, 0.7]\n",
      "tf.Tensor([[0.21970615 0.23952404 0.31192097 0.22884887]], shape=(1, 4), dtype=float32)\n",
      "[0.2, 0.6, 0.5, 0.7]\n",
      "tf.Tensor([[0.03112798 0.6707639  0.21827123 0.07983689]], shape=(1, 4), dtype=float32)\n",
      "[0.4, 0.6, 0.5, 0.7]\n",
      "tf.Tensor([[0.9145371  0.06991186 0.01385457 0.00169651]], shape=(1, 4), dtype=float32)\n",
      "[0.5, 0.6, 0.5, 0.7]\n",
      "tf.Tensor([[0.96255213 0.02949617 0.00689549 0.00105624]], shape=(1, 4), dtype=float32)\n"
     ]
    },
    {
     "name": "stderr",
     "output_type": "stream",
     "text": [
      " 22%|███████████████▎                                                      | 21901/100000 [5:47:09<11:52:03,  1.83it/s]"
     ]
    },
    {
     "name": "stdout",
     "output_type": "stream",
     "text": [
      "4.924598114991228\n",
      "100\n"
     ]
    },
    {
     "name": "stderr",
     "output_type": "stream",
     "text": [
      " 22%|███████████████▌                                                       | 22001/100000 [5:47:53<9:29:30,  2.28it/s]"
     ]
    },
    {
     "name": "stdout",
     "output_type": "stream",
     "text": [
      "5.102829251679234\n",
      "100\n",
      "[0.8, 0.7, 0.9, 0.9]\n",
      "tf.Tensor([[0.38656145 0.16261874 0.2369128  0.21390702]], shape=(1, 4), dtype=float32)\n",
      "[0.8, 0.8, 0.9, 0.9]\n",
      "tf.Tensor([[0.30566606 0.19369785 0.27527997 0.22535603]], shape=(1, 4), dtype=float32)\n",
      "[0.8, 0.9, 0.9, 0.9]\n",
      "tf.Tensor([[0.17585683 0.2576799  0.34434393 0.2221193 ]], shape=(1, 4), dtype=float32)\n",
      "[1.0, 0.9, 0.9, 0.9]\n",
      "tf.Tensor([[0.03323997 0.65965927 0.23263876 0.07446192]], shape=(1, 4), dtype=float32)\n",
      "[0.8, 0.9, 0.9, 0.9]\n",
      "tf.Tensor([[0.01193849 0.9497781  0.03580646 0.00247693]], shape=(1, 4), dtype=float32)\n",
      "[1.0, 0.9, 0.9, 0.9]\n",
      "tf.Tensor([[9.9671435e-01 2.3905849e-03 7.1857485e-04 1.7650097e-04]], shape=(1, 4), dtype=float32)\n"
     ]
    },
    {
     "name": "stderr",
     "output_type": "stream",
     "text": [
      " 22%|███████████████▋                                                       | 22101/100000 [5:48:36<9:10:14,  2.36it/s]"
     ]
    },
    {
     "name": "stdout",
     "output_type": "stream",
     "text": [
      "5.284068926916091\n",
      "100\n"
     ]
    },
    {
     "name": "stderr",
     "output_type": "stream",
     "text": [
      " 22%|███████████████▌                                                      | 22201/100000 [5:49:20<10:07:12,  2.14it/s]"
     ]
    },
    {
     "name": "stdout",
     "output_type": "stream",
     "text": [
      "5.238442316772493\n",
      "100\n",
      "[0.2, 0.1, 0.1, 0.9]\n",
      "tf.Tensor([[0.3740784  0.1606816  0.24269792 0.22254205]], shape=(1, 4), dtype=float32)\n",
      "[0.2, 0.2, 0.1, 0.9]\n",
      "tf.Tensor([[0.3126867  0.18251663 0.27434817 0.23044848]], shape=(1, 4), dtype=float32)\n",
      "[0.2, 0.3, 0.1, 0.9]\n",
      "tf.Tensor([[0.22919881 0.22142024 0.31489307 0.23448786]], shape=(1, 4), dtype=float32)\n",
      "[0.2, 0.6, 0.1, 0.9]\n",
      "tf.Tensor([[0.08656234 0.35497513 0.3518067  0.20665582]], shape=(1, 4), dtype=float32)\n",
      "[0.2, 0.8, 0.1, 0.9]\n",
      "tf.Tensor([[0.01032268 0.89416766 0.08060858 0.01490102]], shape=(1, 4), dtype=float32)\n",
      "[0.0, 0.8, 0.1, 0.9]\n",
      "tf.Tensor([[0.89986086 0.08519913 0.01363182 0.0013083 ]], shape=(1, 4), dtype=float32)\n",
      "[0.1, 0.8, 0.1, 0.9]\n",
      "tf.Tensor([[0.9483217  0.04268485 0.00803372 0.00095981]], shape=(1, 4), dtype=float32)\n"
     ]
    },
    {
     "name": "stderr",
     "output_type": "stream",
     "text": [
      " 22%|███████████████▊                                                       | 22301/100000 [5:50:03<9:06:39,  2.37it/s]"
     ]
    },
    {
     "name": "stdout",
     "output_type": "stream",
     "text": [
      "5.338867520665271\n",
      "100\n"
     ]
    },
    {
     "name": "stderr",
     "output_type": "stream",
     "text": [
      " 22%|███████████████▉                                                       | 22401/100000 [5:50:46<8:41:31,  2.48it/s]"
     ]
    },
    {
     "name": "stdout",
     "output_type": "stream",
     "text": [
      "5.619771934835899\n",
      "100\n",
      "[0.2, 0.8, 0.9, 0.9]\n",
      "tf.Tensor([[0.35918322 0.16342089 0.26287135 0.21452446]], shape=(1, 4), dtype=float32)\n",
      "[0.3, 0.8, 0.9, 0.9]\n",
      "tf.Tensor([[0.2670348  0.20484823 0.3099356  0.2181814 ]], shape=(1, 4), dtype=float32)\n",
      "[0.6, 0.8, 0.9, 0.9]\n",
      "tf.Tensor([[0.11204382 0.31531194 0.36480948 0.20783477]], shape=(1, 4), dtype=float32)\n",
      "[0.9, 0.8, 0.9, 0.9]\n",
      "tf.Tensor([[0.01762109 0.74782866 0.1822041  0.05234621]], shape=(1, 4), dtype=float32)\n",
      "[0.9, 1.0, 0.9, 0.9]\n",
      "tf.Tensor([[0.0033384  0.9720845  0.02256593 0.00201118]], shape=(1, 4), dtype=float32)\n",
      "[0.9, 0.8, 0.9, 0.9]\n",
      "tf.Tensor([[9.9137992e-01 6.9813179e-03 1.4042866e-03 2.3444406e-04]], shape=(1, 4), dtype=float32)\n"
     ]
    },
    {
     "name": "stderr",
     "output_type": "stream",
     "text": [
      " 23%|███████████████▉                                                       | 22501/100000 [5:51:30<9:25:04,  2.29it/s]"
     ]
    },
    {
     "name": "stdout",
     "output_type": "stream",
     "text": [
      "5.190070440636848\n",
      "100\n"
     ]
    },
    {
     "name": "stderr",
     "output_type": "stream",
     "text": [
      " 23%|███████████████▊                                                      | 22601/100000 [5:52:12<12:40:02,  1.70it/s]"
     ]
    },
    {
     "name": "stdout",
     "output_type": "stream",
     "text": [
      "4.916612733884566\n",
      "100\n",
      "[0.7, 0.4, 0.9, 0.1]\n",
      "tf.Tensor([[0.28252462 0.19536506 0.28785443 0.23425591]], shape=(1, 4), dtype=float32)\n",
      "[0.7, 0.1, 0.9, 0.1]\n",
      "tf.Tensor([[0.22367775 0.20763202 0.3353923  0.23329797]], shape=(1, 4), dtype=float32)\n",
      "[1.0, 0.1, 0.9, 0.1]\n",
      "tf.Tensor([[0.13095663 0.27437347 0.3721843  0.22248556]], shape=(1, 4), dtype=float32)\n",
      "[0.7, 0.1, 0.9, 0.1]\n",
      "tf.Tensor([[0.02799804 0.646536   0.24792558 0.0775404 ]], shape=(1, 4), dtype=float32)\n"
     ]
    },
    {
     "name": "stderr",
     "output_type": "stream",
     "text": [
      " 23%|███████████████▉                                                      | 22701/100000 [5:52:59<12:05:03,  1.78it/s]"
     ]
    },
    {
     "name": "stdout",
     "output_type": "stream",
     "text": [
      "4.121595246741125\n",
      "99\n"
     ]
    },
    {
     "name": "stderr",
     "output_type": "stream",
     "text": [
      " 23%|████████████████▏                                                      | 22801/100000 [5:53:44<8:52:57,  2.41it/s]"
     ]
    },
    {
     "name": "stdout",
     "output_type": "stream",
     "text": [
      "4.955431456039958\n",
      "100\n",
      "[0.9, 0.1, 0.1, 0.1]\n",
      "tf.Tensor([[0.32905653 0.17724405 0.28002012 0.21367931]], shape=(1, 4), dtype=float32)\n",
      "[0.8, 0.1, 0.1, 0.1]\n",
      "tf.Tensor([[0.26248878 0.20470318 0.3163626  0.21644542]], shape=(1, 4), dtype=float32)\n",
      "[0.5, 0.1, 0.1, 0.1]\n",
      "tf.Tensor([[0.19137853 0.2447859  0.35032088 0.21351464]], shape=(1, 4), dtype=float32)\n",
      "[0.2, 0.1, 0.1, 0.1]\n",
      "tf.Tensor([[0.08551752 0.38234338 0.3699619  0.16217713]], shape=(1, 4), dtype=float32)\n",
      "[0.0, 0.1, 0.1, 0.1]\n",
      "tf.Tensor([[0.00766474 0.92084885 0.06323092 0.00825555]], shape=(1, 4), dtype=float32)\n",
      "[0.2, 0.1, 0.1, 0.1]\n",
      "tf.Tensor([[0.9121906  0.07591276 0.01070694 0.00118971]], shape=(1, 4), dtype=float32)\n"
     ]
    },
    {
     "name": "stderr",
     "output_type": "stream",
     "text": [
      " 23%|████████████████▎                                                      | 22901/100000 [5:54:30<9:33:09,  2.24it/s]"
     ]
    },
    {
     "name": "stdout",
     "output_type": "stream",
     "text": [
      "5.005487093506962\n",
      "99\n"
     ]
    },
    {
     "name": "stderr",
     "output_type": "stream",
     "text": [
      " 23%|████████████████▎                                                      | 23001/100000 [5:55:12<8:36:24,  2.49it/s]"
     ]
    },
    {
     "name": "stdout",
     "output_type": "stream",
     "text": [
      "5.725523902947247\n",
      "100\n",
      "[0.1, 0.8, 0.5, 0.3]\n",
      "tf.Tensor([[0.32336098 0.20145133 0.27197948 0.20320825]], shape=(1, 4), dtype=float32)\n",
      "[0.1, 0.7, 0.5, 0.3]\n",
      "tf.Tensor([[0.2589313  0.21818703 0.32298142 0.19990027]], shape=(1, 4), dtype=float32)\n",
      "[0.4, 0.7, 0.5, 0.3]\n",
      "tf.Tensor([[0.08516445 0.3766506  0.3656605  0.17252444]], shape=(1, 4), dtype=float32)\n",
      "[0.4, 0.5, 0.5, 0.3]\n",
      "tf.Tensor([[0.00979647 0.8543304  0.11693088 0.01894222]], shape=(1, 4), dtype=float32)\n",
      "[0.4, 0.3, 0.5, 0.3]\n",
      "tf.Tensor([[0.00536905 0.975226   0.01829576 0.00110924]], shape=(1, 4), dtype=float32)\n",
      "[0.6, 0.3, 0.5, 0.3]\n",
      "tf.Tensor([[9.97376680e-01 2.12757313e-03 3.88885121e-04 1.06836065e-04]], shape=(1, 4), dtype=float32)\n"
     ]
    },
    {
     "name": "stderr",
     "output_type": "stream",
     "text": [
      " 23%|████████████████▏                                                     | 23101/100000 [5:55:53<10:27:48,  2.04it/s]"
     ]
    },
    {
     "name": "stdout",
     "output_type": "stream",
     "text": [
      "5.352194876410897\n",
      "100\n"
     ]
    },
    {
     "name": "stderr",
     "output_type": "stream",
     "text": [
      " 23%|████████████████▍                                                      | 23201/100000 [5:56:34<9:33:11,  2.23it/s]"
     ]
    },
    {
     "name": "stdout",
     "output_type": "stream",
     "text": [
      "5.41433487144401\n",
      "100\n",
      "[0.0, 0.4, 0.1, 0.9]\n",
      "tf.Tensor([[0.3799339  0.18362388 0.23989606 0.19654617]], shape=(1, 4), dtype=float32)\n",
      "[0.0, 0.5, 0.1, 0.9]\n",
      "tf.Tensor([[0.30546418 0.2165668  0.27650937 0.20145969]], shape=(1, 4), dtype=float32)\n",
      "[0.0, 0.6, 0.1, 0.9]\n",
      "tf.Tensor([[0.20686984 0.26877958 0.3221772  0.20217334]], shape=(1, 4), dtype=float32)\n",
      "[0.0, 0.9, 0.1, 0.9]\n",
      "tf.Tensor([[0.05438345 0.47985214 0.33594352 0.12982096]], shape=(1, 4), dtype=float32)\n",
      "[0.2, 0.9, 0.1, 0.9]\n",
      "tf.Tensor([[0.00495447 0.9419043  0.04743971 0.00570151]], shape=(1, 4), dtype=float32)\n",
      "[0.0, 0.9, 0.1, 0.9]\n",
      "tf.Tensor([[9.0686977e-01 8.3362244e-02 8.9770863e-03 7.9088547e-04]], shape=(1, 4), dtype=float32)\n"
     ]
    },
    {
     "name": "stderr",
     "output_type": "stream",
     "text": [
      " 23%|████████████████▌                                                      | 23301/100000 [5:57:19<7:54:52,  2.69it/s]"
     ]
    },
    {
     "name": "stdout",
     "output_type": "stream",
     "text": [
      "5.222382135630321\n",
      "100\n"
     ]
    },
    {
     "name": "stderr",
     "output_type": "stream",
     "text": [
      " 23%|████████████████▌                                                      | 23401/100000 [5:58:02<9:18:36,  2.29it/s]"
     ]
    },
    {
     "name": "stdout",
     "output_type": "stream",
     "text": [
      "5.256321288581146\n",
      "100\n",
      "[0.4, 0.0, 0.9, 0.1]\n",
      "tf.Tensor([[0.40108854 0.162798   0.24280952 0.19330393]], shape=(1, 4), dtype=float32)\n",
      "[0.5, 0.0, 0.9, 0.1]\n",
      "tf.Tensor([[0.32498372 0.19036041 0.2848185  0.19983743]], shape=(1, 4), dtype=float32)\n",
      "[0.6, 0.0, 0.9, 0.1]\n",
      "tf.Tensor([[0.20031351 0.24364448 0.35475844 0.20128357]], shape=(1, 4), dtype=float32)\n",
      "[0.9, 0.0, 0.9, 0.1]\n",
      "tf.Tensor([[0.05432053 0.46442875 0.34995222 0.13129842]], shape=(1, 4), dtype=float32)\n",
      "[0.9, 0.2, 0.9, 0.1]\n",
      "tf.Tensor([[0.00293698 0.95619166 0.03648346 0.0043879 ]], shape=(1, 4), dtype=float32)\n",
      "[0.9, 0.0, 0.9, 0.1]\n",
      "tf.Tensor([[0.69182444 0.28850764 0.01807367 0.00159427]], shape=(1, 4), dtype=float32)\n"
     ]
    },
    {
     "name": "stderr",
     "output_type": "stream",
     "text": [
      " 24%|████████████████▋                                                      | 23501/100000 [5:58:46<9:38:51,  2.20it/s]"
     ]
    },
    {
     "name": "stdout",
     "output_type": "stream",
     "text": [
      "4.651925837604916\n",
      "100\n"
     ]
    },
    {
     "name": "stderr",
     "output_type": "stream",
     "text": [
      " 24%|████████████████▌                                                     | 23601/100000 [5:59:32<12:52:39,  1.65it/s]"
     ]
    },
    {
     "name": "stdout",
     "output_type": "stream",
     "text": [
      "4.335301539780151\n",
      "100\n",
      "[0.7, 0.4, 0.5, 0.3]\n",
      "tf.Tensor([[0.33056262 0.19044049 0.26638582 0.21261099]], shape=(1, 4), dtype=float32)\n",
      "[0.6, 0.4, 0.5, 0.3]\n",
      "tf.Tensor([[0.22689644 0.23960318 0.31703734 0.21646307]], shape=(1, 4), dtype=float32)\n",
      "[0.6, 0.1, 0.5, 0.3]\n",
      "tf.Tensor([[0.14693527 0.27953056 0.35968688 0.21384734]], shape=(1, 4), dtype=float32)\n",
      "[0.6, 0.4, 0.5, 0.3]\n",
      "tf.Tensor([[0.02781957 0.6352069  0.26356778 0.07340576]], shape=(1, 4), dtype=float32)\n",
      "[0.6, 0.2, 0.5, 0.3]\n",
      "tf.Tensor([[0.00349328 0.960664   0.03203592 0.00380675]], shape=(1, 4), dtype=float32)\n",
      "[0.6, 0.4, 0.5, 0.3]\n",
      "tf.Tensor([[9.2458713e-01 6.8854660e-02 5.8811456e-03 6.7691342e-04]], shape=(1, 4), dtype=float32)\n",
      "[0.6, 0.3, 0.5, 0.3]\n",
      "tf.Tensor([[0.889746   0.10043447 0.00877482 0.00104468]], shape=(1, 4), dtype=float32)\n"
     ]
    },
    {
     "name": "stderr",
     "output_type": "stream",
     "text": [
      " 24%|████████████████▌                                                     | 23701/100000 [6:00:18<10:26:15,  2.03it/s]"
     ]
    },
    {
     "name": "stdout",
     "output_type": "stream",
     "text": [
      "4.509010112390561\n",
      "100\n"
     ]
    },
    {
     "name": "stderr",
     "output_type": "stream",
     "text": [
      " 24%|████████████████▋                                                     | 23801/100000 [6:01:04<10:51:27,  1.95it/s]"
     ]
    },
    {
     "name": "stdout",
     "output_type": "stream",
     "text": [
      "4.914673913517342\n",
      "98\n",
      "[0.1, 0.9, 0.1, 0.1]\n",
      "tf.Tensor([[0.27853036 0.20330821 0.2962459  0.22191556]], shape=(1, 4), dtype=float32)\n",
      "[0.1, 0.6, 0.1, 0.1]\n",
      "tf.Tensor([[0.19120875 0.24546878 0.3466676  0.21665491]], shape=(1, 4), dtype=float32)\n",
      "[0.1, 0.3, 0.1, 0.1]\n",
      "tf.Tensor([[0.08782376 0.32829586 0.38501227 0.19886811]], shape=(1, 4), dtype=float32)\n",
      "[0.1, 0.0, 0.1, 0.1]\n",
      "tf.Tensor([[0.02691264 0.60418665 0.2925674  0.07633322]], shape=(1, 4), dtype=float32)\n",
      "[0.1, 0.2, 0.1, 0.1]\n",
      "tf.Tensor([[0.00328526 0.96701515 0.0272534  0.00244617]], shape=(1, 4), dtype=float32)\n",
      "[0.1, 0.0, 0.1, 0.1]\n",
      "tf.Tensor([[9.9335527e-01 5.7174140e-03 7.6156505e-04 1.6573873e-04]], shape=(1, 4), dtype=float32)\n"
     ]
    },
    {
     "name": "stderr",
     "output_type": "stream",
     "text": [
      " 24%|████████████████▋                                                     | 23901/100000 [6:01:47<10:54:40,  1.94it/s]"
     ]
    },
    {
     "name": "stdout",
     "output_type": "stream",
     "text": [
      "4.813028992405361\n",
      "100\n"
     ]
    },
    {
     "name": "stderr",
     "output_type": "stream",
     "text": [
      " 24%|█████████████████                                                      | 24000/100000 [6:02:31<9:22:38,  2.25it/s]"
     ]
    },
    {
     "name": "stdout",
     "output_type": "stream",
     "text": [
      "5.546427582338737\n",
      "100\n",
      "[0.2, 0.0, 0.9, 0.9]\n",
      "tf.Tensor([[0.3430853  0.17050144 0.27255347 0.21385977]], shape=(1, 4), dtype=float32)\n",
      "[0.3, 0.0, 0.9, 0.9]\n",
      "tf.Tensor([[0.2555368  0.21596703 0.30680946 0.2216867 ]], shape=(1, 4), dtype=float32)\n",
      "[0.3, 0.3, 0.9, 0.9]\n",
      "tf.Tensor([[0.17393366 0.2401956  0.37164629 0.21422443]], shape=(1, 4), dtype=float32)\n",
      "[0.6, 0.3, 0.9, 0.9]\n",
      "tf.Tensor([[0.05934895 0.37123957 0.39573595 0.17367548]], shape=(1, 4), dtype=float32)\n",
      "[0.6, 0.6, 0.9, 0.9]\n",
      "tf.Tensor([[0.00460636 0.9012384  0.08181991 0.01233534]], shape=(1, 4), dtype=float32)\n",
      "[0.8, 0.6, 0.9, 0.9]\n",
      "tf.Tensor([[0.07352282 0.8884636  0.03629678 0.00171688]], shape=(1, 4), dtype=float32)\n",
      "[0.8, 0.8, 0.9, 0.9]\n",
      "tf.Tensor([[0.15086836 0.8135622  0.034156   0.00141344]], shape=(1, 4), dtype=float32)\n",
      "[1.0, 0.8, 0.9, 0.9]\n",
      "tf.Tensor([[0.4099499  0.5570401  0.03143074 0.0015792 ]], shape=(1, 4), dtype=float32)"
     ]
    },
    {
     "name": "stderr",
     "output_type": "stream",
     "text": [
      "\r",
      " 24%|█████████████████                                                      | 24001/100000 [6:02:31<9:52:58,  2.14it/s]"
     ]
    },
    {
     "name": "stdout",
     "output_type": "stream",
     "text": [
      "\n",
      "[1.0, 1.0, 0.9, 0.9]\n",
      "tf.Tensor([[0.61133635 0.36224487 0.02492886 0.00148983]], shape=(1, 4), dtype=float32)\n",
      "[0.9, 1.0, 0.9, 0.9]\n",
      "tf.Tensor([[0.8184891  0.16850884 0.01216977 0.00083232]], shape=(1, 4), dtype=float32)\n"
     ]
    },
    {
     "name": "stderr",
     "output_type": "stream",
     "text": [
      " 24%|█████████████████                                                      | 24101/100000 [6:03:20<9:38:39,  2.19it/s]"
     ]
    },
    {
     "name": "stdout",
     "output_type": "stream",
     "text": [
      "4.815835834490605\n",
      "100\n"
     ]
    },
    {
     "name": "stderr",
     "output_type": "stream",
     "text": [
      " 24%|████████████████▉                                                     | 24201/100000 [6:04:05<11:44:41,  1.79it/s]"
     ]
    },
    {
     "name": "stdout",
     "output_type": "stream",
     "text": [
      "5.025975253313654\n",
      "100\n",
      "[0.3, 0.3, 0.1, 0.9]\n",
      "tf.Tensor([[0.23293702 0.24863294 0.2963532  0.2220768 ]], shape=(1, 4), dtype=float32)\n",
      "[0.3, 0.6, 0.1, 0.9]\n",
      "tf.Tensor([[0.15371054 0.29357958 0.33861166 0.21409823]], shape=(1, 4), dtype=float32)\n",
      "[0.3, 0.9, 0.1, 0.9]\n",
      "tf.Tensor([[0.07788313 0.36888435 0.3675928  0.18563966]], shape=(1, 4), dtype=float32)\n"
     ]
    },
    {
     "name": "stderr",
     "output_type": "stream",
     "text": [
      " 24%|█████████████████▎                                                     | 24301/100000 [6:04:50<8:44:26,  2.41it/s]"
     ]
    },
    {
     "name": "stdout",
     "output_type": "stream",
     "text": [
      "5.667382460235531\n",
      "100\n"
     ]
    },
    {
     "name": "stderr",
     "output_type": "stream",
     "text": [
      " 24%|█████████████████▎                                                     | 24400/100000 [6:05:38<8:28:47,  2.48it/s]"
     ]
    },
    {
     "name": "stdout",
     "output_type": "stream",
     "text": [
      "4.279307010480119\n",
      "100\n",
      "[0.2, 0.1, 0.9, 0.9]\n",
      "tf.Tensor([[0.32984397 0.18616247 0.2761819  0.20781162]], shape=(1, 4), dtype=float32)\n",
      "[0.3, 0.1, 0.9, 0.9]\n",
      "tf.Tensor([[0.23756738 0.23647375 0.3124386  0.2135202 ]], shape=(1, 4), dtype=float32)\n",
      "[0.3, 0.4, 0.9, 0.9]\n",
      "tf.Tensor([[0.14989336 0.2698467  0.37957776 0.20068215]], shape=(1, 4), dtype=float32)\n",
      "[0.6, 0.4, 0.9, 0.9]\n",
      "tf.Tensor([[0.04636667 0.42722356 0.38695064 0.13945918]], shape=(1, 4), dtype=float32)\n",
      "[0.6, 0.6, 0.9, 0.9]\n",
      "tf.Tensor([[0.00347302 0.90980875 0.07721106 0.0095072 ]], shape=(1, 4), dtype=float32)\n",
      "[0.8, 0.6, 0.9, 0.9]\n",
      "tf.Tensor([[0.02211876 0.94702005 0.02973361 0.00112762]], shape=(1, 4), dtype=float32)\n",
      "[0.8, 0.8, 0.9, 0.9]\n",
      "tf.Tensor([[4.3330111e-02 9.2728812e-01 2.8457986e-02 9.2378212e-04]], shape=(1, 4), dtype=float32)"
     ]
    },
    {
     "name": "stderr",
     "output_type": "stream",
     "text": [
      "\r",
      " 24%|█████████████████                                                     | 24401/100000 [6:05:39<11:26:17,  1.84it/s]"
     ]
    },
    {
     "name": "stdout",
     "output_type": "stream",
     "text": [
      "\n",
      "[1.0, 0.8, 0.9, 0.9]\n",
      "tf.Tensor([[0.1113861  0.85392505 0.03357694 0.00111193]], shape=(1, 4), dtype=float32)\n",
      "[1.0, 1.0, 0.9, 0.9]\n",
      "tf.Tensor([[0.19815183 0.76415426 0.03647582 0.00121807]], shape=(1, 4), dtype=float32)\n",
      "[0.8, 1.0, 0.9, 0.9]\n",
      "tf.Tensor([[0.29813105 0.6697814  0.03112444 0.00096305]], shape=(1, 4), dtype=float32)\n"
     ]
    },
    {
     "name": "stderr",
     "output_type": "stream",
     "text": [
      " 25%|█████████████████▍                                                     | 24501/100000 [6:06:28<9:53:55,  2.12it/s]"
     ]
    },
    {
     "name": "stdout",
     "output_type": "stream",
     "text": [
      "4.208095651028883\n",
      "97\n"
     ]
    },
    {
     "name": "stderr",
     "output_type": "stream",
     "text": [
      " 25%|█████████████████▏                                                    | 24601/100000 [6:07:17<11:26:34,  1.83it/s]"
     ]
    },
    {
     "name": "stdout",
     "output_type": "stream",
     "text": [
      "4.0727357984019905\n",
      "99\n",
      "[0.1, 0.2, 0.1, 0.1]\n",
      "tf.Tensor([[0.2962573  0.22927305 0.27222955 0.2022401 ]], shape=(1, 4), dtype=float32)\n"
     ]
    },
    {
     "name": "stderr",
     "output_type": "stream",
     "text": [
      " 25%|█████████████████▌                                                     | 24701/100000 [6:08:11<9:41:42,  2.16it/s]"
     ]
    },
    {
     "name": "stdout",
     "output_type": "stream",
     "text": [
      "2.763118012278458\n",
      "96\n"
     ]
    },
    {
     "name": "stderr",
     "output_type": "stream",
     "text": [
      " 25%|█████████████████▎                                                    | 24801/100000 [6:09:03<12:13:05,  1.71it/s]"
     ]
    },
    {
     "name": "stdout",
     "output_type": "stream",
     "text": [
      "3.2168256395868697\n",
      "98\n",
      "[0.2, 0.1, 0.5, 0.7]\n",
      "tf.Tensor([[0.3119     0.22486402 0.26072612 0.20250985]], shape=(1, 4), dtype=float32)\n",
      "[0.2, 0.2, 0.5, 0.7]\n",
      "tf.Tensor([[0.24713944 0.25453237 0.2953886  0.20293951]], shape=(1, 4), dtype=float32)\n",
      "[0.2, 0.5, 0.5, 0.7]\n",
      "tf.Tensor([[0.1742262  0.28632626 0.34690708 0.19254048]], shape=(1, 4), dtype=float32)\n",
      "[0.5, 0.5, 0.5, 0.7]\n",
      "tf.Tensor([[0.05823855 0.4137126  0.37794054 0.15010832]], shape=(1, 4), dtype=float32)\n"
     ]
    },
    {
     "name": "stderr",
     "output_type": "stream",
     "text": [
      " 25%|█████████████████▍                                                    | 24901/100000 [6:09:54<10:07:12,  2.06it/s]"
     ]
    },
    {
     "name": "stdout",
     "output_type": "stream",
     "text": [
      "2.975993162919255\n",
      "93\n"
     ]
    },
    {
     "name": "stderr",
     "output_type": "stream",
     "text": [
      " 25%|█████████████████▊                                                     | 25001/100000 [6:10:40<7:55:10,  2.63it/s]"
     ]
    },
    {
     "name": "stdout",
     "output_type": "stream",
     "text": [
      "4.529617994156331\n",
      "98\n",
      "[0.0, 0.6, 0.9, 0.1]\n",
      "tf.Tensor([[0.35641932 0.19298965 0.25667217 0.19391891]], shape=(1, 4), dtype=float32)\n",
      "[0.1, 0.6, 0.9, 0.1]\n",
      "tf.Tensor([[0.28720146 0.2235339  0.29424822 0.1950164 ]], shape=(1, 4), dtype=float32)\n",
      "[0.4, 0.6, 0.9, 0.1]\n",
      "tf.Tensor([[0.17579886 0.27861884 0.35634798 0.18923432]], shape=(1, 4), dtype=float32)\n",
      "[0.7, 0.6, 0.9, 0.1]\n",
      "tf.Tensor([[0.03183577 0.49754366 0.37151477 0.09910575]], shape=(1, 4), dtype=float32)\n",
      "[0.7, 0.4, 0.9, 0.1]\n",
      "tf.Tensor([[0.00234911 0.93193835 0.06074836 0.00496424]], shape=(1, 4), dtype=float32)\n",
      "[0.7, 0.2, 0.9, 0.1]\n",
      "tf.Tensor([[5.8462441e-02 9.1048473e-01 3.0182399e-02 8.7045459e-04]], shape=(1, 4), dtype=float32)\n",
      "[0.9, 0.2, 0.9, 0.1]\n",
      "tf.Tensor([[0.26641843 0.70157945 0.03087061 0.00113153]], shape=(1, 4), dtype=float32)\n",
      "[0.9, 0.0, 0.9, 0.1]\n",
      "tf.Tensor([[0.7842498  0.19947174 0.0152189  0.00105952]], shape=(1, 4), dtype=float32)\n"
     ]
    },
    {
     "name": "stderr",
     "output_type": "stream",
     "text": [
      " 25%|█████████████████▊                                                     | 25100/100000 [6:11:27<8:25:39,  2.47it/s]"
     ]
    },
    {
     "name": "stdout",
     "output_type": "stream",
     "text": [
      "4.828828999307382\n",
      "98\n"
     ]
    },
    {
     "name": "stderr",
     "output_type": "stream",
     "text": [
      " 25%|█████████████████▉                                                     | 25200/100000 [6:12:12<7:50:24,  2.65it/s]"
     ]
    },
    {
     "name": "stdout",
     "output_type": "stream",
     "text": [
      "5.007530679193231\n",
      "100\n",
      "[0.4, 0.4, 0.1, 0.1]\n",
      "tf.Tensor([[0.28341648 0.22938111 0.27792147 0.20928094]], shape=(1, 4), dtype=float32)\n",
      "[0.3, 0.4, 0.1, 0.1]\n",
      "tf.Tensor([[0.18898723 0.2793741  0.32601497 0.20562373]], shape=(1, 4), dtype=float32)\n",
      "[0.3, 0.1, 0.1, 0.1]\n",
      "tf.Tensor([[0.1370486  0.30576494 0.36274076 0.19444564]], shape=(1, 4), dtype=float32)\n",
      "[0.0, 0.1, 0.1, 0.1]\n",
      "tf.Tensor([[0.0428337  0.4640891  0.3863567  0.10672054]], shape=(1, 4), dtype=float32)\n",
      "[0.2, 0.1, 0.1, 0.1]\n",
      "tf.Tensor([[0.00645729 0.9172485  0.0700095  0.00628472]], shape=(1, 4), dtype=float32)\n",
      "[0.0, 0.1, 0.1, 0.1]\n",
      "tf.Tensor([[9.7508061e-01 2.1831106e-02 2.7740200e-03 3.1419963e-04]], shape=(1, 4), dtype=float32)"
     ]
    },
    {
     "name": "stderr",
     "output_type": "stream",
     "text": [
      "\r",
      " 25%|█████████████████▉                                                     | 25201/100000 [6:12:13<7:39:21,  2.71it/s]"
     ]
    },
    {
     "name": "stdout",
     "output_type": "stream",
     "text": [
      "\n"
     ]
    },
    {
     "name": "stderr",
     "output_type": "stream",
     "text": [
      " 25%|█████████████████▋                                                    | 25301/100000 [6:13:00<10:41:10,  1.94it/s]"
     ]
    },
    {
     "name": "stdout",
     "output_type": "stream",
     "text": [
      "3.4975970757240527\n",
      "97\n"
     ]
    },
    {
     "name": "stderr",
     "output_type": "stream",
     "text": [
      " 25%|█████████████████▊                                                    | 25401/100000 [6:13:53<14:02:01,  1.48it/s]"
     ]
    },
    {
     "name": "stdout",
     "output_type": "stream",
     "text": [
      "2.7108869979892267\n",
      "97\n",
      "[0.9, 0.6, 0.1, 0.1]\n",
      "tf.Tensor([[0.25352114 0.24034943 0.29507303 0.2110563 ]], shape=(1, 4), dtype=float32)\n",
      "[0.6, 0.6, 0.1, 0.1]\n",
      "tf.Tensor([[0.14520463 0.30112186 0.35253388 0.20113961]], shape=(1, 4), dtype=float32)\n",
      "[0.6, 0.3, 0.1, 0.1]\n",
      "tf.Tensor([[0.09073313 0.3371806  0.39504778 0.17703858]], shape=(1, 4), dtype=float32)\n",
      "[0.3, 0.3, 0.1, 0.1]\n",
      "tf.Tensor([[0.02837922 0.5972056  0.31373933 0.06067586]], shape=(1, 4), dtype=float32)\n",
      "[0.1, 0.3, 0.1, 0.1]\n",
      "tf.Tensor([[0.00345335 0.9578407  0.03688284 0.00182311]], shape=(1, 4), dtype=float32)\n"
     ]
    },
    {
     "name": "stderr",
     "output_type": "stream",
     "text": [
      " 26%|█████████████████▊                                                    | 25501/100000 [6:14:41<12:37:14,  1.64it/s]"
     ]
    },
    {
     "name": "stdout",
     "output_type": "stream",
     "text": [
      "4.1154054182634185\n",
      "100\n"
     ]
    },
    {
     "name": "stderr",
     "output_type": "stream",
     "text": [
      " 26%|██████████████████▏                                                    | 25601/100000 [6:15:31<9:31:09,  2.17it/s]"
     ]
    },
    {
     "name": "stdout",
     "output_type": "stream",
     "text": [
      "4.336282944291147\n",
      "99\n",
      "[0.9, 0.3, 0.9, 0.1]\n",
      "tf.Tensor([[0.19052295 0.28856808 0.3066107  0.21429816]], shape=(1, 4), dtype=float32)\n",
      "[0.9, 0.0, 0.9, 0.1]\n",
      "tf.Tensor([[0.13347863 0.30793792 0.34851944 0.21006402]], shape=(1, 4), dtype=float32)\n",
      "[0.9, 0.3, 0.9, 0.1]\n",
      "tf.Tensor([[0.04095819 0.42283055 0.40716326 0.12904797]], shape=(1, 4), dtype=float32)\n"
     ]
    },
    {
     "name": "stderr",
     "output_type": "stream",
     "text": [
      " 26%|██████████████████▏                                                    | 25701/100000 [6:16:17<7:34:43,  2.72it/s]"
     ]
    },
    {
     "name": "stdout",
     "output_type": "stream",
     "text": [
      "4.86040133255594\n",
      "98\n"
     ]
    },
    {
     "name": "stderr",
     "output_type": "stream",
     "text": [
      " 26%|██████████████████                                                    | 25801/100000 [6:17:01<10:43:18,  1.92it/s]"
     ]
    },
    {
     "name": "stdout",
     "output_type": "stream",
     "text": [
      "5.016482877573121\n",
      "100\n",
      "[0.9, 0.8, 0.5, 0.7]\n",
      "tf.Tensor([[0.19558652 0.2837052  0.3146606  0.2060477 ]], shape=(1, 4), dtype=float32)\n",
      "[0.6, 0.8, 0.5, 0.7]\n",
      "tf.Tensor([[0.12742046 0.3227506  0.35779172 0.19203721]], shape=(1, 4), dtype=float32)\n",
      "[0.3, 0.8, 0.5, 0.7]\n",
      "tf.Tensor([[0.05234742 0.39408487 0.41930255 0.13426517]], shape=(1, 4), dtype=float32)\n",
      "[0.6, 0.8, 0.5, 0.7]\n",
      "tf.Tensor([[0.01208965 0.73627484 0.22421579 0.02741981]], shape=(1, 4), dtype=float32)\n",
      "[0.4, 0.8, 0.5, 0.7]\n",
      "tf.Tensor([[0.00306263 0.9631383  0.03273278 0.00106641]], shape=(1, 4), dtype=float32)\n",
      "[0.6, 0.8, 0.5, 0.7]\n",
      "tf.Tensor([[9.5921141e-01 3.5369858e-02 5.0224224e-03 3.9623489e-04]], shape=(1, 4), dtype=float32)\n",
      "[0.5, 0.8, 0.5, 0.7]\n",
      "tf.Tensor([[9.4482583e-01 4.8797097e-02 5.9884116e-03 3.8858474e-04]], shape=(1, 4), dtype=float32)\n"
     ]
    },
    {
     "name": "stderr",
     "output_type": "stream",
     "text": [
      " 26%|██████████████████▏                                                   | 25900/100000 [6:17:49<11:39:27,  1.77it/s]"
     ]
    },
    {
     "name": "stdout",
     "output_type": "stream",
     "text": [
      "4.299894954693682\n",
      "99\n"
     ]
    },
    {
     "name": "stderr",
     "output_type": "stream",
     "text": [
      " 26%|██████████████████▏                                                   | 26001/100000 [6:18:36<10:55:15,  1.88it/s]"
     ]
    },
    {
     "name": "stdout",
     "output_type": "stream",
     "text": [
      "3.4634487603715765\n",
      "96\n",
      "[0.2, 0.4, 0.9, 0.1]\n",
      "tf.Tensor([[0.22898893 0.25925505 0.30070424 0.21105175]], shape=(1, 4), dtype=float32)\n",
      "[0.5, 0.4, 0.9, 0.1]\n",
      "tf.Tensor([[0.15075049 0.30048442 0.34855768 0.20020743]], shape=(1, 4), dtype=float32)\n",
      "[0.8, 0.4, 0.9, 0.1]\n",
      "tf.Tensor([[0.04711153 0.4029288  0.4046733  0.14528638]], shape=(1, 4), dtype=float32)\n",
      "[0.8, 0.1, 0.9, 0.1]\n",
      "tf.Tensor([[0.01133139 0.6844053  0.26547804 0.03878527]], shape=(1, 4), dtype=float32)\n",
      "[1.0, 0.1, 0.9, 0.1]\n",
      "tf.Tensor([[0.00238845 0.9299643  0.06354249 0.00410475]], shape=(1, 4), dtype=float32)\n",
      "[0.8, 0.1, 0.9, 0.1]\n",
      "tf.Tensor([[0.07532473 0.87961864 0.04411406 0.00094253]], shape=(1, 4), dtype=float32)\n",
      "[1.0, 0.1, 0.9, 0.1]\n",
      "tf.Tensor([[0.49415562 0.4607414  0.04348983 0.00161318]], shape=(1, 4), dtype=float32)\n"
     ]
    },
    {
     "name": "stderr",
     "output_type": "stream",
     "text": [
      " 26%|██████████████████▌                                                    | 26101/100000 [6:19:25<7:10:47,  2.86it/s]"
     ]
    },
    {
     "name": "stdout",
     "output_type": "stream",
     "text": [
      "4.659988611283329\n",
      "96\n"
     ]
    },
    {
     "name": "stderr",
     "output_type": "stream",
     "text": [
      " 26%|██████████████████▌                                                    | 26201/100000 [6:20:15<9:44:38,  2.10it/s]"
     ]
    },
    {
     "name": "stdout",
     "output_type": "stream",
     "text": [
      "4.401771711947457\n",
      "98\n",
      "[0.0, 0.8, 0.1, 0.9]\n",
      "tf.Tensor([[0.19885473 0.2742955  0.32477632 0.20207345]], shape=(1, 4), dtype=float32)\n",
      "[0.3, 0.8, 0.1, 0.9]\n",
      "tf.Tensor([[0.12672561 0.32769528 0.35902286 0.18655626]], shape=(1, 4), dtype=float32)\n",
      "[0.0, 0.8, 0.1, 0.9]\n",
      "tf.Tensor([[0.05846672 0.3727756  0.41913638 0.14962135]], shape=(1, 4), dtype=float32)\n",
      "[0.3, 0.8, 0.1, 0.9]\n",
      "tf.Tensor([[0.01728279 0.62089413 0.31391668 0.04790642]], shape=(1, 4), dtype=float32)\n",
      "[0.1, 0.8, 0.1, 0.9]\n",
      "tf.Tensor([[0.00254652 0.9287453  0.06546102 0.003247  ]], shape=(1, 4), dtype=float32)\n",
      "[0.1, 1.0, 0.1, 0.9]\n",
      "tf.Tensor([[0.68782496 0.28058073 0.03054823 0.00104598]], shape=(1, 4), dtype=float32)\n"
     ]
    },
    {
     "name": "stderr",
     "output_type": "stream",
     "text": [
      " 26%|██████████████████▋                                                    | 26301/100000 [6:21:03<8:48:32,  2.32it/s]"
     ]
    },
    {
     "name": "stdout",
     "output_type": "stream",
     "text": [
      "4.733919029110112\n",
      "100\n"
     ]
    },
    {
     "name": "stderr",
     "output_type": "stream",
     "text": [
      " 26%|██████████████████▍                                                   | 26401/100000 [6:21:49<12:03:20,  1.70it/s]"
     ]
    },
    {
     "name": "stdout",
     "output_type": "stream",
     "text": [
      "4.010035183101646\n",
      "100\n",
      "[0.9, 0.9, 0.9, 0.1]\n",
      "tf.Tensor([[0.12240284 0.36493    0.32924974 0.1834175 ]], shape=(1, 4), dtype=float32)\n",
      "[0.9, 0.7, 0.9, 0.1]\n",
      "tf.Tensor([[0.04418247 0.43984666 0.39139244 0.12457844]], shape=(1, 4), dtype=float32)\n",
      "[0.9, 0.5, 0.9, 0.1]\n",
      "tf.Tensor([[0.0103917 0.7067723 0.2516657 0.0311703]], shape=(1, 4), dtype=float32)\n",
      "[0.9, 0.3, 0.9, 0.1]\n",
      "tf.Tensor([[0.00172468 0.93732315 0.05817031 0.00278189]], shape=(1, 4), dtype=float32)\n"
     ]
    },
    {
     "name": "stderr",
     "output_type": "stream",
     "text": [
      " 27%|██████████████████▊                                                    | 26501/100000 [6:22:34<8:43:55,  2.34it/s]"
     ]
    },
    {
     "name": "stdout",
     "output_type": "stream",
     "text": [
      "5.136118862712606\n",
      "99\n"
     ]
    },
    {
     "name": "stderr",
     "output_type": "stream",
     "text": [
      " 27%|██████████████████▌                                                   | 26601/100000 [6:23:23<10:49:17,  1.88it/s]"
     ]
    },
    {
     "name": "stdout",
     "output_type": "stream",
     "text": [
      "4.0402730466474726\n",
      "99\n",
      "[0.4, 0.1, 0.5, 0.7]\n",
      "tf.Tensor([[0.17551076 0.3103646  0.31213254 0.2019921 ]], shape=(1, 4), dtype=float32)\n",
      "[0.4, 0.4, 0.5, 0.7]\n",
      "tf.Tensor([[0.11374671 0.34456927 0.3531112  0.18857278]], shape=(1, 4), dtype=float32)\n",
      "[0.4, 0.7, 0.5, 0.7]\n",
      "tf.Tensor([[0.05258707 0.3876465  0.41132814 0.14843833]], shape=(1, 4), dtype=float32)\n",
      "[0.7, 0.7, 0.5, 0.7]\n",
      "tf.Tensor([[0.01831774 0.6128586  0.31472176 0.0541019 ]], shape=(1, 4), dtype=float32)\n"
     ]
    },
    {
     "name": "stderr",
     "output_type": "stream",
     "text": [
      " 27%|██████████████████▋                                                   | 26701/100000 [6:24:12<11:57:11,  1.70it/s]"
     ]
    },
    {
     "name": "stdout",
     "output_type": "stream",
     "text": [
      "3.822611907950419\n",
      "98\n"
     ]
    },
    {
     "name": "stderr",
     "output_type": "stream",
     "text": [
      " 27%|███████████████████                                                    | 26801/100000 [6:25:01<9:56:43,  2.04it/s]"
     ]
    },
    {
     "name": "stdout",
     "output_type": "stream",
     "text": [
      "3.62514562929839\n",
      "97\n",
      "[0.5, 0.4, 0.1, 0.9]\n",
      "tf.Tensor([[0.14515297 0.3519389  0.3194716  0.18343657]], shape=(1, 4), dtype=float32)\n",
      "[0.5, 0.6, 0.1, 0.9]\n",
      "tf.Tensor([[0.08293843 0.39280275 0.35944843 0.16481048]], shape=(1, 4), dtype=float32)\n",
      "[0.5, 0.8, 0.1, 0.9]\n",
      "tf.Tensor([[0.03978112 0.4542756  0.39519137 0.11075198]], shape=(1, 4), dtype=float32)\n",
      "[0.3, 0.8, 0.1, 0.9]\n",
      "tf.Tensor([[0.01151921 0.72560096 0.23206699 0.03081278]], shape=(1, 4), dtype=float32)\n",
      "[0.1, 0.8, 0.1, 0.9]\n",
      "tf.Tensor([[0.00203696 0.94817084 0.04742656 0.00236567]], shape=(1, 4), dtype=float32)\n",
      "[0.1, 1.0, 0.1, 0.9]\n",
      "tf.Tensor([[0.3174662  0.63784903 0.04359859 0.00108612]], shape=(1, 4), dtype=float32)\n",
      "[0.1, 0.8, 0.1, 0.9]\n",
      "tf.Tensor([[0.67011017 0.30118778 0.02760678 0.0010952 ]], shape=(1, 4), dtype=float32)\n"
     ]
    },
    {
     "name": "stderr",
     "output_type": "stream",
     "text": [
      " 27%|███████████████████                                                    | 26901/100000 [6:25:47<8:51:31,  2.29it/s]"
     ]
    },
    {
     "name": "stdout",
     "output_type": "stream",
     "text": [
      "4.107967102077547\n",
      "97\n"
     ]
    },
    {
     "name": "stderr",
     "output_type": "stream",
     "text": [
      " 27%|███████████████████▏                                                   | 27001/100000 [6:26:38<8:07:17,  2.50it/s]"
     ]
    },
    {
     "name": "stdout",
     "output_type": "stream",
     "text": [
      "4.461478801827119\n",
      "99\n",
      "[0.3, 0.7, 0.9, 0.1]\n",
      "tf.Tensor([[0.13266063 0.34972382 0.33210957 0.18550599]], shape=(1, 4), dtype=float32)\n",
      "[0.5, 0.7, 0.9, 0.1]\n",
      "tf.Tensor([[0.04321369 0.47153312 0.35660726 0.12864597]], shape=(1, 4), dtype=float32)\n",
      "[0.5, 0.5, 0.9, 0.1]\n",
      "tf.Tensor([[0.0129682  0.6700904  0.26987237 0.04706908]], shape=(1, 4), dtype=float32)\n",
      "[0.7, 0.5, 0.9, 0.1]\n",
      "tf.Tensor([[0.00158769 0.9285284  0.06534614 0.00453772]], shape=(1, 4), dtype=float32)\n",
      "[0.7, 0.3, 0.9, 0.1]\n",
      "tf.Tensor([[7.0372131e-04 9.8418337e-01 1.4516144e-02 5.9687305e-04]], shape=(1, 4), dtype=float32)\n",
      "[0.9, 0.3, 0.9, 0.1]\n",
      "tf.Tensor([[0.35015854 0.62420976 0.02485822 0.00077345]], shape=(1, 4), dtype=float32)\n"
     ]
    },
    {
     "name": "stderr",
     "output_type": "stream",
     "text": [
      " 27%|███████████████████▏                                                   | 27101/100000 [6:27:26<9:57:59,  2.03it/s]"
     ]
    },
    {
     "name": "stdout",
     "output_type": "stream",
     "text": [
      "4.016807324431658\n",
      "96\n"
     ]
    },
    {
     "name": "stderr",
     "output_type": "stream",
     "text": [
      " 27%|███████████████████▎                                                   | 27201/100000 [6:28:14<9:53:01,  2.05it/s]"
     ]
    },
    {
     "name": "stdout",
     "output_type": "stream",
     "text": [
      "4.6255277764808485\n",
      "94\n",
      "[0.8, 0.1, 0.1, 0.9]\n",
      "tf.Tensor([[0.12994951 0.3496062  0.3298498  0.1905945 ]], shape=(1, 4), dtype=float32)\n",
      "[0.8, 0.3, 0.1, 0.9]\n",
      "tf.Tensor([[0.07183993 0.3857098  0.37135157 0.17109872]], shape=(1, 4), dtype=float32)\n",
      "[0.8, 0.5, 0.1, 0.9]\n",
      "tf.Tensor([[0.0347672  0.47440147 0.3882941  0.10253721]], shape=(1, 4), dtype=float32)\n",
      "[0.6, 0.5, 0.1, 0.9]\n",
      "tf.Tensor([[0.00843379 0.78521585 0.18349195 0.02285836]], shape=(1, 4), dtype=float32)\n",
      "[0.6, 0.7, 0.1, 0.9]\n",
      "tf.Tensor([[0.00283711 0.956928   0.03845586 0.00177904]], shape=(1, 4), dtype=float32)\n",
      "[0.4, 0.7, 0.1, 0.9]\n",
      "tf.Tensor([[0.5883855  0.37796605 0.03258982 0.00105867]], shape=(1, 4), dtype=float32)\n",
      "[0.4, 0.8, 0.1, 0.9]\n",
      "tf.Tensor([[8.4348917e-01 1.4011945e-01 1.5629439e-02 7.6187588e-04]], shape=(1, 4), dtype=float32)\n",
      "[0.3, 0.8, 0.1, 0.9]\n",
      "tf.Tensor([[9.5017880e-01 4.3430902e-02 5.9645702e-03 4.2569559e-04]], shape=(1, 4), dtype=float32)\n",
      "[0.2, 0.8, 0.1, 0.9]\n",
      "tf.Tensor([[8.8765049e-01 9.9565275e-02 1.2173621e-02 6.1051932e-04]], shape=(1, 4), dtype=float32)\n",
      "[0.2, 0.9, 0.1, 0.9]\n",
      "tf.Tensor([[9.6902668e-01 2.6752641e-02 3.9024036e-03 3.1828051e-04]], shape=(1, 4), dtype=float32)\n"
     ]
    },
    {
     "name": "stderr",
     "output_type": "stream",
     "text": [
      " 27%|███████████████████▍                                                   | 27301/100000 [6:29:00<9:02:38,  2.23it/s]"
     ]
    },
    {
     "name": "stdout",
     "output_type": "stream",
     "text": [
      "4.807344717493877\n",
      "99\n"
     ]
    },
    {
     "name": "stderr",
     "output_type": "stream",
     "text": [
      " 27%|███████████████████▍                                                   | 27401/100000 [6:29:46<8:20:01,  2.42it/s]"
     ]
    },
    {
     "name": "stdout",
     "output_type": "stream",
     "text": [
      "5.060124154216182\n",
      "99\n",
      "[0.7, 0.0, 0.9, 0.1]\n",
      "tf.Tensor([[0.11942881 0.36043435 0.34433997 0.17579685]], shape=(1, 4), dtype=float32)\n",
      "[0.9, 0.0, 0.9, 0.1]\n",
      "tf.Tensor([[0.06612369 0.39831516 0.37276053 0.16280064]], shape=(1, 4), dtype=float32)\n",
      "[0.9, 0.2, 0.9, 0.1]\n",
      "tf.Tensor([[0.01611933 0.61658525 0.30924127 0.0580541 ]], shape=(1, 4), dtype=float32)\n",
      "[0.9, 0.0, 0.9, 0.1]\n",
      "tf.Tensor([[0.00514538 0.84670365 0.13444993 0.01370116]], shape=(1, 4), dtype=float32)\n",
      "[0.9, 0.2, 0.9, 0.1]\n",
      "tf.Tensor([[1.4378128e-03 9.7873425e-01 1.9000564e-02 8.2746998e-04]], shape=(1, 4), dtype=float32)\n",
      "[0.9, 0.0, 0.9, 0.1]\n",
      "tf.Tensor([[8.6747563e-01 1.2253283e-01 9.4285160e-03 5.6307839e-04]], shape=(1, 4), dtype=float32)\n"
     ]
    },
    {
     "name": "stderr",
     "output_type": "stream",
     "text": [
      " 28%|███████████████████▎                                                  | 27501/100000 [6:30:31<10:25:26,  1.93it/s]"
     ]
    },
    {
     "name": "stdout",
     "output_type": "stream",
     "text": [
      "4.710235466676957\n",
      "100\n"
     ]
    },
    {
     "name": "stderr",
     "output_type": "stream",
     "text": [
      " 28%|███████████████████▌                                                   | 27601/100000 [6:31:17<9:10:10,  2.19it/s]"
     ]
    },
    {
     "name": "stdout",
     "output_type": "stream",
     "text": [
      "5.084813110410288\n",
      "100\n",
      "[0.9, 0.8, 0.5, 0.3]\n",
      "tf.Tensor([[0.07276062 0.43290228 0.33902535 0.1553118 ]], shape=(1, 4), dtype=float32)\n",
      "[0.9, 0.6, 0.5, 0.3]\n",
      "tf.Tensor([[0.03878682 0.47321323 0.37850708 0.10949302]], shape=(1, 4), dtype=float32)\n",
      "[0.7, 0.6, 0.5, 0.3]\n",
      "tf.Tensor([[0.00662584 0.80104417 0.1726684  0.01966169]], shape=(1, 4), dtype=float32)\n",
      "[0.7, 0.4, 0.5, 0.3]\n",
      "tf.Tensor([[0.00211901 0.943577   0.05138221 0.00292191]], shape=(1, 4), dtype=float32)\n",
      "[0.5, 0.4, 0.5, 0.3]\n",
      "tf.Tensor([[6.9414400e-03 9.7304505e-01 1.9581601e-02 4.3185835e-04]], shape=(1, 4), dtype=float32)\n",
      "[0.5, 0.2, 0.5, 0.3]\n",
      "tf.Tensor([[9.9307394e-01 6.1050830e-03 7.1861164e-04 1.0242124e-04]], shape=(1, 4), dtype=float32)\n"
     ]
    },
    {
     "name": "stderr",
     "output_type": "stream",
     "text": [
      " 28%|███████████████████▋                                                   | 27701/100000 [6:32:02<8:34:28,  2.34it/s]"
     ]
    },
    {
     "name": "stdout",
     "output_type": "stream",
     "text": [
      "5.046282796971827\n",
      "100\n"
     ]
    },
    {
     "name": "stderr",
     "output_type": "stream",
     "text": [
      " 28%|███████████████████▋                                                   | 27801/100000 [6:32:49<8:02:05,  2.50it/s]"
     ]
    },
    {
     "name": "stdout",
     "output_type": "stream",
     "text": [
      "5.202491305579236\n",
      "98\n",
      "[0.5, 0.6, 0.5, 0.7]\n",
      "tf.Tensor([[0.12375173 0.37165612 0.32771543 0.1768767 ]], shape=(1, 4), dtype=float32)\n",
      "[0.5, 0.8, 0.5, 0.7]\n",
      "tf.Tensor([[0.04484612 0.467751   0.35712987 0.13027294]], shape=(1, 4), dtype=float32)\n",
      "[0.5, 0.6, 0.5, 0.7]\n",
      "tf.Tensor([[0.0194389 0.5809418 0.3317612 0.0678581]], shape=(1, 4), dtype=float32)\n",
      "[0.5, 0.8, 0.5, 0.7]\n",
      "tf.Tensor([[0.00228778 0.91261286 0.07915492 0.00594438]], shape=(1, 4), dtype=float32)\n",
      "[0.5, 0.6, 0.5, 0.7]\n",
      "tf.Tensor([[1.3355734e-03 9.7905082e-01 1.8824881e-02 7.8870711e-04]], shape=(1, 4), dtype=float32)\n",
      "[0.5, 0.8, 0.5, 0.7]\n",
      "tf.Tensor([[8.2245779e-01 1.6602403e-01 1.0974786e-02 5.4338435e-04]], shape=(1, 4), dtype=float32)\n"
     ]
    },
    {
     "name": "stderr",
     "output_type": "stream",
     "text": [
      " 28%|███████████████████▊                                                   | 27901/100000 [6:33:36<6:57:58,  2.87it/s]"
     ]
    },
    {
     "name": "stdout",
     "output_type": "stream",
     "text": [
      "4.728378476967382\n",
      "99\n"
     ]
    },
    {
     "name": "stderr",
     "output_type": "stream",
     "text": [
      " 28%|███████████████████▉                                                   | 28001/100000 [6:34:21<8:26:00,  2.37it/s]"
     ]
    },
    {
     "name": "stdout",
     "output_type": "stream",
     "text": [
      "5.429185171228883\n",
      "99\n",
      "[0.7, 0.2, 0.5, 0.3]\n",
      "tf.Tensor([[0.11848479 0.3641515  0.3420838  0.17527986]], shape=(1, 4), dtype=float32)\n",
      "[0.5, 0.2, 0.5, 0.3]\n",
      "tf.Tensor([[0.06408589 0.4086481  0.3689822  0.1582838 ]], shape=(1, 4), dtype=float32)\n",
      "[0.5, 0.4, 0.5, 0.3]\n",
      "tf.Tensor([[0.01731799 0.6164758  0.30610543 0.06010071]], shape=(1, 4), dtype=float32)\n",
      "[0.5, 0.2, 0.5, 0.3]\n",
      "tf.Tensor([[0.0049846  0.8557119  0.12613393 0.01316967]], shape=(1, 4), dtype=float32)\n",
      "[0.5, 0.4, 0.5, 0.3]\n",
      "tf.Tensor([[1.6165834e-03 9.7762752e-01 1.9930437e-02 8.2548033e-04]], shape=(1, 4), dtype=float32)\n",
      "[0.5, 0.2, 0.5, 0.3]\n",
      "tf.Tensor([[9.0242773e-01 8.9176267e-02 7.8831110e-03 5.1291659e-04]], shape=(1, 4), dtype=float32)\n"
     ]
    },
    {
     "name": "stderr",
     "output_type": "stream",
     "text": [
      " 28%|███████████████████▉                                                   | 28101/100000 [6:35:07<9:24:56,  2.12it/s]"
     ]
    },
    {
     "name": "stdout",
     "output_type": "stream",
     "text": [
      "4.586418820029706\n",
      "100\n"
     ]
    },
    {
     "name": "stderr",
     "output_type": "stream",
     "text": [
      " 28%|███████████████████▋                                                  | 28201/100000 [6:35:53<11:08:29,  1.79it/s]"
     ]
    },
    {
     "name": "stdout",
     "output_type": "stream",
     "text": [
      "3.87610880503845\n",
      "98\n",
      "[0.8, 0.1, 0.1, 0.1]\n",
      "tf.Tensor([[0.10093608 0.38734192 0.33993867 0.17178343]], shape=(1, 4), dtype=float32)\n",
      "[0.6, 0.1, 0.1, 0.1]\n",
      "tf.Tensor([[0.05974535 0.43459907 0.35384163 0.15181392]], shape=(1, 4), dtype=float32)\n",
      "[0.4, 0.1, 0.1, 0.1]\n",
      "tf.Tensor([[0.03176627 0.5398143  0.3364501  0.09196931]], shape=(1, 4), dtype=float32)\n",
      "[0.2, 0.1, 0.1, 0.1]\n",
      "tf.Tensor([[0.01026537 0.80344176 0.16307066 0.02322218]], shape=(1, 4), dtype=float32)\n",
      "[0.0, 0.1, 0.1, 0.1]\n",
      "tf.Tensor([[0.00379613 0.9623954  0.03233659 0.00147186]], shape=(1, 4), dtype=float32)\n",
      "[0.2, 0.1, 0.1, 0.1]\n",
      "tf.Tensor([[9.7999740e-01 1.7185692e-02 2.5307385e-03 2.8612133e-04]], shape=(1, 4), dtype=float32)\n"
     ]
    },
    {
     "name": "stderr",
     "output_type": "stream",
     "text": [
      " 28%|████████████████████                                                   | 28301/100000 [6:36:36<8:27:21,  2.36it/s]"
     ]
    },
    {
     "name": "stdout",
     "output_type": "stream",
     "text": [
      "5.453124715372642\n",
      "99\n"
     ]
    },
    {
     "name": "stderr",
     "output_type": "stream",
     "text": [
      " 28%|███████████████████▉                                                  | 28401/100000 [6:37:21<10:00:30,  1.99it/s]"
     ]
    },
    {
     "name": "stdout",
     "output_type": "stream",
     "text": [
      "4.833033406375021\n",
      "99\n",
      "[0.4, 0.8, 0.5, 0.3]\n",
      "tf.Tensor([[0.05237369 0.4870013  0.31637505 0.14424993]], shape=(1, 4), dtype=float32)\n",
      "[0.4, 0.6, 0.5, 0.3]\n",
      "tf.Tensor([[0.016057   0.6455523  0.27899727 0.05939344]], shape=(1, 4), dtype=float32)\n",
      "[0.4, 0.4, 0.5, 0.3]\n",
      "tf.Tensor([[0.00450065 0.8483157  0.13275094 0.01443263]], shape=(1, 4), dtype=float32)\n",
      "[0.6, 0.4, 0.5, 0.3]\n",
      "tf.Tensor([[0.00175443 0.9504461  0.04515303 0.00264641]], shape=(1, 4), dtype=float32)\n",
      "[0.4, 0.4, 0.5, 0.3]\n",
      "tf.Tensor([[1.0796782e-02 9.6588421e-01 2.2818172e-02 5.0077139e-04]], shape=(1, 4), dtype=float32)\n",
      "[0.6, 0.4, 0.5, 0.3]\n",
      "tf.Tensor([[9.9700242e-01 2.5134915e-03 4.1458057e-04 6.9542992e-05]], shape=(1, 4), dtype=float32)\n",
      "[0.5, 0.4, 0.5, 0.3]\n",
      "tf.Tensor([[9.9643779e-01 3.0244594e-03 4.7166995e-04 6.5999207e-05]], shape=(1, 4), dtype=float32)\n"
     ]
    },
    {
     "name": "stderr",
     "output_type": "stream",
     "text": [
      " 29%|████████████████████▏                                                  | 28501/100000 [6:38:05<9:33:06,  2.08it/s]"
     ]
    },
    {
     "name": "stdout",
     "output_type": "stream",
     "text": [
      "4.716591747315851\n",
      "100\n"
     ]
    },
    {
     "name": "stderr",
     "output_type": "stream",
     "text": [
      " 29%|████████████████████▎                                                  | 28601/100000 [6:38:48<8:05:22,  2.45it/s]"
     ]
    },
    {
     "name": "stdout",
     "output_type": "stream",
     "text": [
      "5.266517868491528\n",
      "100\n",
      "[0.2, 0.3, 0.1, 0.9]\n",
      "tf.Tensor([[0.10719336 0.37186018 0.33831146 0.18263492]], shape=(1, 4), dtype=float32)\n",
      "[0.2, 0.5, 0.1, 0.9]\n",
      "tf.Tensor([[0.06084976 0.4163786  0.35974744 0.16302422]], shape=(1, 4), dtype=float32)\n",
      "[0.2, 0.7, 0.1, 0.9]\n",
      "tf.Tensor([[0.02681349 0.4999758  0.36287162 0.11033918]], shape=(1, 4), dtype=float32)\n",
      "[0.2, 0.9, 0.1, 0.9]\n",
      "tf.Tensor([[0.00830586 0.75680625 0.20472337 0.0301645 ]], shape=(1, 4), dtype=float32)\n",
      "[0.0, 0.9, 0.1, 0.9]\n",
      "tf.Tensor([[0.00140318 0.96185225 0.03491933 0.00182518]], shape=(1, 4), dtype=float32)\n",
      "[0.2, 0.9, 0.1, 0.9]\n",
      "tf.Tensor([[0.5385843  0.42076117 0.03950817 0.00114644]], shape=(1, 4), dtype=float32)\n"
     ]
    },
    {
     "name": "stderr",
     "output_type": "stream",
     "text": [
      " 29%|████████████████████▍                                                  | 28701/100000 [6:39:30<8:41:40,  2.28it/s]"
     ]
    },
    {
     "name": "stdout",
     "output_type": "stream",
     "text": [
      "5.357354468182\n",
      "99\n"
     ]
    },
    {
     "name": "stderr",
     "output_type": "stream",
     "text": [
      " 29%|████████████████████▍                                                  | 28801/100000 [6:40:15<8:34:13,  2.31it/s]"
     ]
    },
    {
     "name": "stdout",
     "output_type": "stream",
     "text": [
      "5.252431542708593\n",
      "100\n",
      "[0.6, 0.1, 0.5, 0.3]\n",
      "tf.Tensor([[0.08857597 0.3819014  0.3507195  0.17880309]], shape=(1, 4), dtype=float32)\n",
      "[0.6, 0.3, 0.5, 0.3]\n",
      "tf.Tensor([[0.05422733 0.41921452 0.3688805  0.15767771]], shape=(1, 4), dtype=float32)\n",
      "[0.4, 0.3, 0.5, 0.3]\n",
      "tf.Tensor([[0.01958522 0.54916495 0.3449629  0.08628688]], shape=(1, 4), dtype=float32)\n",
      "[0.6, 0.3, 0.5, 0.3]\n",
      "tf.Tensor([[0.00690739 0.8002061  0.16999362 0.02289281]], shape=(1, 4), dtype=float32)\n",
      "[0.4, 0.3, 0.5, 0.3]\n",
      "tf.Tensor([[0.00150136 0.9678101  0.02923382 0.00145469]], shape=(1, 4), dtype=float32)\n",
      "[0.6, 0.3, 0.5, 0.3]\n",
      "tf.Tensor([[8.9942676e-01 8.8895634e-02 1.1017652e-02 6.6001719e-04]], shape=(1, 4), dtype=float32)\n"
     ]
    },
    {
     "name": "stderr",
     "output_type": "stream",
     "text": [
      " 29%|████████████████████▌                                                  | 28901/100000 [6:40:59<8:43:48,  2.26it/s]"
     ]
    },
    {
     "name": "stdout",
     "output_type": "stream",
     "text": [
      "4.917211193906631\n",
      "100\n"
     ]
    },
    {
     "name": "stderr",
     "output_type": "stream",
     "text": [
      " 29%|████████████████████▎                                                 | 29001/100000 [6:41:45<10:44:37,  1.84it/s]"
     ]
    },
    {
     "name": "stdout",
     "output_type": "stream",
     "text": [
      "4.518141955439798\n",
      "99\n",
      "[0.7, 0.4, 0.1, 0.9]\n",
      "tf.Tensor([[0.07261638 0.41730383 0.3377625  0.1723173 ]], shape=(1, 4), dtype=float32)\n",
      "[0.7, 0.6, 0.1, 0.9]\n",
      "tf.Tensor([[0.03640017 0.48298234 0.34801573 0.13260183]], shape=(1, 4), dtype=float32)\n",
      "[0.5, 0.6, 0.1, 0.9]\n",
      "tf.Tensor([[0.01314941 0.67447025 0.25746077 0.05491951]], shape=(1, 4), dtype=float32)\n",
      "[0.5, 0.8, 0.1, 0.9]\n",
      "tf.Tensor([[0.0031937  0.9039965  0.08467975 0.00813002]], shape=(1, 4), dtype=float32)\n",
      "[0.3, 0.8, 0.1, 0.9]\n",
      "tf.Tensor([[0.00323554 0.9673399  0.02841893 0.00100569]], shape=(1, 4), dtype=float32)\n",
      "[0.1, 0.8, 0.1, 0.9]\n",
      "tf.Tensor([[9.2527616e-01 6.6218272e-02 8.0560185e-03 4.4953689e-04]], shape=(1, 4), dtype=float32)\n"
     ]
    },
    {
     "name": "stderr",
     "output_type": "stream",
     "text": [
      " 29%|████████████████████▋                                                  | 29102/100000 [6:42:30<6:58:10,  2.83it/s]"
     ]
    },
    {
     "name": "stdout",
     "output_type": "stream",
     "text": [
      "4.7330866901370685\n",
      "99\n"
     ]
    },
    {
     "name": "stderr",
     "output_type": "stream",
     "text": [
      " 29%|████████████████████▋                                                  | 29201/100000 [6:43:15<8:20:18,  2.36it/s]"
     ]
    },
    {
     "name": "stdout",
     "output_type": "stream",
     "text": [
      "4.813296029803175\n",
      "100\n",
      "[0.5, 0.3, 0.9, 0.1]\n",
      "tf.Tensor([[0.08239585 0.42132273 0.33354005 0.16274135]], shape=(1, 4), dtype=float32)\n",
      "[0.7, 0.3, 0.9, 0.1]\n",
      "tf.Tensor([[0.03096177 0.50559765 0.3393078  0.12413283]], shape=(1, 4), dtype=float32)\n",
      "[0.9, 0.3, 0.9, 0.1]\n",
      "tf.Tensor([[0.00574791 0.7947117  0.17307821 0.0264622 ]], shape=(1, 4), dtype=float32)\n"
     ]
    },
    {
     "name": "stderr",
     "output_type": "stream",
     "text": [
      " 29%|████████████████████▊                                                  | 29302/100000 [6:43:59<5:23:38,  3.64it/s]"
     ]
    },
    {
     "name": "stdout",
     "output_type": "stream",
     "text": [
      "5.560660940454368\n",
      "96\n"
     ]
    },
    {
     "name": "stderr",
     "output_type": "stream",
     "text": [
      " 29%|████████████████████▊                                                  | 29401/100000 [6:44:44<9:04:55,  2.16it/s]"
     ]
    },
    {
     "name": "stdout",
     "output_type": "stream",
     "text": [
      "4.951037663456906\n",
      "99\n",
      "[0.5, 0.0, 0.5, 0.3]\n",
      "tf.Tensor([[0.09215669 0.4051116  0.33478883 0.16794293]], shape=(1, 4), dtype=float32)\n",
      "[0.5, 0.2, 0.5, 0.3]\n",
      "tf.Tensor([[0.05115943 0.44641647 0.35038194 0.15204225]], shape=(1, 4), dtype=float32)\n",
      "[0.5, 0.4, 0.5, 0.3]\n",
      "tf.Tensor([[0.01425013 0.629223   0.2935212  0.06300566]], shape=(1, 4), dtype=float32)\n",
      "[0.5, 0.2, 0.5, 0.3]\n",
      "tf.Tensor([[0.00508908 0.83162576 0.1450879  0.01819717]], shape=(1, 4), dtype=float32)\n",
      "[0.5, 0.4, 0.5, 0.3]\n",
      "tf.Tensor([[0.0011272  0.97485435 0.02279916 0.00121932]], shape=(1, 4), dtype=float32)\n",
      "[0.5, 0.2, 0.5, 0.3]\n",
      "tf.Tensor([[0.48620418 0.48177087 0.0309432  0.00108172]], shape=(1, 4), dtype=float32)\n"
     ]
    },
    {
     "name": "stderr",
     "output_type": "stream",
     "text": [
      " 30%|████████████████████▉                                                  | 29501/100000 [6:45:28<9:38:21,  2.03it/s]"
     ]
    },
    {
     "name": "stdout",
     "output_type": "stream",
     "text": [
      "4.829314416096056\n",
      "100\n"
     ]
    },
    {
     "name": "stderr",
     "output_type": "stream",
     "text": [
      " 30%|█████████████████████                                                  | 29601/100000 [6:46:13<9:34:10,  2.04it/s]"
     ]
    },
    {
     "name": "stdout",
     "output_type": "stream",
     "text": [
      "4.2871094427578855\n",
      "98\n",
      "[0.1, 0.7, 0.9, 0.9]\n",
      "tf.Tensor([[0.10505795 0.39664066 0.33313143 0.16516995]], shape=(1, 4), dtype=float32)\n",
      "[0.3, 0.7, 0.9, 0.9]\n",
      "tf.Tensor([[0.05102231 0.45544034 0.35187683 0.14166062]], shape=(1, 4), dtype=float32)\n",
      "[0.5, 0.7, 0.9, 0.9]\n",
      "tf.Tensor([[0.01489945 0.6019105  0.31217086 0.07101928]], shape=(1, 4), dtype=float32)\n",
      "[0.7, 0.7, 0.9, 0.9]\n",
      "tf.Tensor([[0.0033506  0.85510486 0.12742451 0.01411999]], shape=(1, 4), dtype=float32)\n",
      "[0.7, 0.9, 0.9, 0.9]\n",
      "tf.Tensor([[6.6372770e-04 9.7583485e-01 2.2412341e-02 1.0890361e-03]], shape=(1, 4), dtype=float32)\n"
     ]
    },
    {
     "name": "stderr",
     "output_type": "stream",
     "text": [
      " 30%|█████████████████████                                                  | 29701/100000 [6:46:56<8:42:13,  2.24it/s]"
     ]
    },
    {
     "name": "stdout",
     "output_type": "stream",
     "text": [
      "5.42729080631226\n",
      "98\n"
     ]
    },
    {
     "name": "stderr",
     "output_type": "stream",
     "text": [
      " 30%|█████████████████████▏                                                 | 29801/100000 [6:47:39<9:52:00,  1.98it/s]"
     ]
    },
    {
     "name": "stdout",
     "output_type": "stream",
     "text": [
      "4.98131335030739\n",
      "100\n",
      "[0.8, 0.1, 0.9, 0.9]\n",
      "tf.Tensor([[0.10888395 0.394133   0.3142935  0.18268958]], shape=(1, 4), dtype=float32)\n",
      "[0.8, 0.3, 0.9, 0.9]\n",
      "tf.Tensor([[0.05979202 0.43242213 0.34458408 0.16320173]], shape=(1, 4), dtype=float32)\n",
      "[0.8, 0.5, 0.9, 0.9]\n",
      "tf.Tensor([[0.02484544 0.5331966  0.34302884 0.098929  ]], shape=(1, 4), dtype=float32)\n",
      "[0.8, 0.7, 0.9, 0.9]\n",
      "tf.Tensor([[0.00594297 0.8219843  0.1518633  0.02020933]], shape=(1, 4), dtype=float32)\n",
      "[0.8, 0.9, 0.9, 0.9]\n",
      "tf.Tensor([[0.00145302 0.97569364 0.0218002  0.00105315]], shape=(1, 4), dtype=float32)\n",
      "[1.0, 0.9, 0.9, 0.9]\n",
      "tf.Tensor([[0.72954637 0.25016838 0.01954127 0.00074389]], shape=(1, 4), dtype=float32)\n"
     ]
    },
    {
     "name": "stderr",
     "output_type": "stream",
     "text": [
      " 30%|█████████████████████▏                                                 | 29901/100000 [6:48:20<8:43:12,  2.23it/s]"
     ]
    },
    {
     "name": "stdout",
     "output_type": "stream",
     "text": [
      "5.312881617786129\n",
      "99\n"
     ]
    },
    {
     "name": "stderr",
     "output_type": "stream",
     "text": [
      " 30%|█████████████████████▎                                                 | 30001/100000 [6:49:05<9:51:53,  1.97it/s]"
     ]
    },
    {
     "name": "stdout",
     "output_type": "stream",
     "text": [
      "4.9553910378084325\n",
      "100\n",
      "[0.4, 0.7, 0.5, 0.3]\n",
      "tf.Tensor([[0.07004792 0.45860338 0.3150086  0.15634006]], shape=(1, 4), dtype=float32)\n",
      "[0.4, 0.5, 0.5, 0.3]\n",
      "tf.Tensor([[0.02419279 0.55009043 0.3272106  0.09850623]], shape=(1, 4), dtype=float32)\n",
      "[0.4, 0.3, 0.5, 0.3]\n",
      "tf.Tensor([[0.00825494 0.7380852  0.2194221  0.03423779]], shape=(1, 4), dtype=float32)\n",
      "[0.6, 0.3, 0.5, 0.3]\n",
      "tf.Tensor([[0.00247934 0.9215053  0.07051643 0.00549903]], shape=(1, 4), dtype=float32)\n",
      "[0.4, 0.3, 0.5, 0.3]\n",
      "tf.Tensor([[5.0357268e-03 9.7492290e-01 1.9495413e-02 5.4605532e-04]], shape=(1, 4), dtype=float32)\n",
      "[0.6, 0.3, 0.5, 0.3]\n",
      "tf.Tensor([[9.9670702e-01 2.8220483e-03 3.9258186e-04 7.8433521e-05]], shape=(1, 4), dtype=float32)\n"
     ]
    },
    {
     "name": "stderr",
     "output_type": "stream",
     "text": [
      " 30%|█████████████████████▎                                                 | 30101/100000 [6:49:48<7:53:46,  2.46it/s]"
     ]
    },
    {
     "name": "stdout",
     "output_type": "stream",
     "text": [
      "5.391643459327435\n",
      "100\n"
     ]
    },
    {
     "name": "stderr",
     "output_type": "stream",
     "text": [
      " 30%|█████████████████████▍                                                 | 30201/100000 [6:50:32<8:11:26,  2.37it/s]"
     ]
    },
    {
     "name": "stdout",
     "output_type": "stream",
     "text": [
      "5.338295202994581\n",
      "99\n",
      "[0.7, 0.3, 0.5, 0.3]\n",
      "tf.Tensor([[0.1032249  0.42486247 0.29903424 0.17287835]], shape=(1, 4), dtype=float32)\n"
     ]
    },
    {
     "name": "stderr",
     "output_type": "stream",
     "text": [
      " 30%|█████████████████████▏                                                | 30301/100000 [6:51:15<11:01:07,  1.76it/s]"
     ]
    },
    {
     "name": "stdout",
     "output_type": "stream",
     "text": [
      "4.503219544182085\n",
      "100\n"
     ]
    },
    {
     "name": "stderr",
     "output_type": "stream",
     "text": [
      " 30%|█████████████████████▌                                                 | 30401/100000 [6:51:58<8:55:19,  2.17it/s]"
     ]
    },
    {
     "name": "stdout",
     "output_type": "stream",
     "text": [
      "5.262283281251542\n",
      "99\n",
      "[0.0, 0.7, 0.9, 0.1]\n",
      "tf.Tensor([[0.08812844 0.4304759  0.31501636 0.16637932]], shape=(1, 4), dtype=float32)\n",
      "[0.2, 0.7, 0.9, 0.1]\n",
      "tf.Tensor([[0.04075381 0.49879858 0.3217208  0.13872688]], shape=(1, 4), dtype=float32)\n",
      "[0.4, 0.7, 0.9, 0.1]\n",
      "tf.Tensor([[0.01209975 0.6577317  0.2677815  0.06238699]], shape=(1, 4), dtype=float32)\n",
      "[0.6, 0.7, 0.9, 0.1]\n",
      "tf.Tensor([[0.00170471 0.9166647  0.07478943 0.00684118]], shape=(1, 4), dtype=float32)\n",
      "[0.6, 0.5, 0.9, 0.1]\n",
      "tf.Tensor([[7.3969481e-04 9.8162901e-01 1.6835473e-02 7.9582387e-04]], shape=(1, 4), dtype=float32)\n",
      "[0.8, 0.5, 0.9, 0.1]\n",
      "tf.Tensor([[8.6654419e-01 1.2463696e-01 8.3818818e-03 4.3694602e-04]], shape=(1, 4), dtype=float32)\n",
      "[0.8, 0.4, 0.9, 0.1]\n",
      "tf.Tensor([[9.7151089e-01 2.6141478e-02 2.1598313e-03 1.8784510e-04]], shape=(1, 4), dtype=float32)\n",
      "[0.8, 0.3, 0.9, 0.1]\n",
      "tf.Tensor([[9.9329811e-01 6.0227644e-03 5.9639668e-04 8.2735372e-05]], shape=(1, 4), dtype=float32)\n",
      "[0.8, 0.2, 0.9, 0.1]\n",
      "tf.Tensor([[9.9726546e-01 2.4221765e-03 2.6323725e-04 4.9239992e-05]], shape=(1, 4), dtype=float32)\n",
      "[0.9, 0.2, 0.9, 0.1]\n",
      "tf.Tensor([[9.9535501e-01 4.1515785e-03 4.2599716e-04 6.7518602e-05]], shape=(1, 4), dtype=float32)\n"
     ]
    },
    {
     "name": "stderr",
     "output_type": "stream",
     "text": [
      " 31%|█████████████████████▋                                                 | 30501/100000 [6:52:40<8:09:51,  2.36it/s]"
     ]
    },
    {
     "name": "stdout",
     "output_type": "stream",
     "text": [
      "5.245821396665331\n",
      "99\n"
     ]
    },
    {
     "name": "stderr",
     "output_type": "stream",
     "text": [
      " 31%|█████████████████████▋                                                 | 30601/100000 [6:53:23<8:30:20,  2.27it/s]"
     ]
    },
    {
     "name": "stdout",
     "output_type": "stream",
     "text": [
      "5.568700062191106\n",
      "100\n",
      "[0.8, 0.0, 0.9, 0.9]\n",
      "tf.Tensor([[0.09608054 0.40251097 0.32073766 0.18067081]], shape=(1, 4), dtype=float32)\n",
      "[0.8, 0.2, 0.9, 0.9]\n",
      "tf.Tensor([[0.05040508 0.44739974 0.3415501  0.16064505]], shape=(1, 4), dtype=float32)\n",
      "[0.8, 0.4, 0.9, 0.9]\n",
      "tf.Tensor([[0.02161726 0.5744796  0.3157765  0.08812667]], shape=(1, 4), dtype=float32)\n",
      "[0.8, 0.6, 0.9, 0.9]\n",
      "tf.Tensor([[0.00530933 0.84524274 0.13149174 0.01795629]], shape=(1, 4), dtype=float32)\n",
      "[0.8, 0.8, 0.9, 0.9]\n",
      "tf.Tensor([[0.00131056 0.97730947 0.02026184 0.00111805]], shape=(1, 4), dtype=float32)\n",
      "[1.0, 0.8, 0.9, 0.9]\n",
      "tf.Tensor([[0.59127325 0.3847801  0.02308155 0.00086512]], shape=(1, 4), dtype=float32)\n",
      "[1.0, 0.9, 0.9, 0.9]\n",
      "tf.Tensor([[7.7677298e-01 2.0767342e-01 1.4850063e-02 7.0367282e-04]], shape=(1, 4), dtype=float32)\n"
     ]
    },
    {
     "name": "stderr",
     "output_type": "stream",
     "text": [
      " 31%|█████████████████████▊                                                 | 30701/100000 [6:54:08<8:58:53,  2.14it/s]"
     ]
    },
    {
     "name": "stdout",
     "output_type": "stream",
     "text": [
      "4.050559777617568\n",
      "96\n"
     ]
    },
    {
     "name": "stderr",
     "output_type": "stream",
     "text": [
      " 31%|█████████████████████▊                                                 | 30801/100000 [6:54:48<7:13:45,  2.66it/s]"
     ]
    },
    {
     "name": "stdout",
     "output_type": "stream",
     "text": [
      "5.705165827941061\n",
      "99\n",
      "[0.1, 0.4, 0.1, 0.1]\n",
      "tf.Tensor([[0.07104623 0.4444232  0.3268959  0.15763459]], shape=(1, 4), dtype=float32)\n",
      "[0.1, 0.2, 0.1, 0.1]\n",
      "tf.Tensor([[0.03055858 0.51911676 0.33413067 0.11619398]], shape=(1, 4), dtype=float32)\n",
      "[0.1, 0.0, 0.1, 0.1]\n",
      "tf.Tensor([[0.01807242 0.58651614 0.32081902 0.0745924 ]], shape=(1, 4), dtype=float32)\n",
      "[0.1, 0.2, 0.1, 0.1]\n",
      "tf.Tensor([[0.00341339 0.8867103  0.10067858 0.00919777]], shape=(1, 4), dtype=float32)\n",
      "[0.1, 0.0, 0.1, 0.1]\n",
      "tf.Tensor([[0.00607222 0.9637983  0.02884606 0.00128345]], shape=(1, 4), dtype=float32)\n",
      "[0.1, 0.2, 0.1, 0.1]\n",
      "tf.Tensor([[9.9772543e-01 1.9749294e-03 2.4391353e-04 5.5603901e-05]], shape=(1, 4), dtype=float32)\n"
     ]
    },
    {
     "name": "stderr",
     "output_type": "stream",
     "text": [
      " 31%|█████████████████████▉                                                 | 30901/100000 [6:55:31<6:51:26,  2.80it/s]"
     ]
    },
    {
     "name": "stdout",
     "output_type": "stream",
     "text": [
      "4.931090234687064\n",
      "99\n"
     ]
    },
    {
     "name": "stderr",
     "output_type": "stream",
     "text": [
      " 31%|██████████████████████                                                 | 31001/100000 [6:56:14<8:29:36,  2.26it/s]"
     ]
    },
    {
     "name": "stdout",
     "output_type": "stream",
     "text": [
      "5.035515722891874\n",
      "99\n",
      "[0.6, 0.8, 0.5, 0.7]\n",
      "tf.Tensor([[0.0947099  0.39903298 0.33174172 0.17451538]], shape=(1, 4), dtype=float32)\n",
      "[0.4, 0.8, 0.5, 0.7]\n",
      "tf.Tensor([[0.04163366 0.45810905 0.3559956  0.14426163]], shape=(1, 4), dtype=float32)\n",
      "[0.6, 0.8, 0.5, 0.7]\n",
      "tf.Tensor([[0.01784101 0.6132911  0.30336866 0.06549919]], shape=(1, 4), dtype=float32)\n",
      "[0.4, 0.8, 0.5, 0.7]\n",
      "tf.Tensor([[0.00263676 0.90368736 0.08636191 0.00731397]], shape=(1, 4), dtype=float32)\n",
      "[0.6, 0.8, 0.5, 0.7]\n",
      "tf.Tensor([[2.6190050e-03 9.7218060e-01 2.4378248e-02 8.2227966e-04]], shape=(1, 4), dtype=float32)\n",
      "[0.4, 0.8, 0.5, 0.7]\n",
      "tf.Tensor([[9.8975044e-01 9.1514988e-03 9.9217577e-04 1.0595620e-04]], shape=(1, 4), dtype=float32)\n",
      "[0.5, 0.8, 0.5, 0.7]\n",
      "tf.Tensor([[9.7169781e-01 2.5724916e-02 2.3893255e-03 1.8788141e-04]], shape=(1, 4), dtype=float32)\n"
     ]
    },
    {
     "name": "stderr",
     "output_type": "stream",
     "text": [
      " 31%|██████████████████████                                                 | 31101/100000 [6:56:57<7:09:21,  2.67it/s]"
     ]
    },
    {
     "name": "stdout",
     "output_type": "stream",
     "text": [
      "5.245071389496837\n",
      "100\n"
     ]
    },
    {
     "name": "stderr",
     "output_type": "stream",
     "text": [
      " 31%|██████████████████████▏                                                | 31201/100000 [6:57:41<8:44:16,  2.19it/s]"
     ]
    },
    {
     "name": "stdout",
     "output_type": "stream",
     "text": [
      "4.877776894175747\n",
      "99\n",
      "[0.9, 0.8, 0.1, 0.1]\n",
      "tf.Tensor([[0.06692239 0.44070056 0.33749387 0.1548832 ]], shape=(1, 4), dtype=float32)\n",
      "[0.7, 0.8, 0.1, 0.1]\n",
      "tf.Tensor([[0.01656456 0.62770206 0.2887745  0.06695887]], shape=(1, 4), dtype=float32)\n",
      "[0.7, 0.6, 0.1, 0.1]\n",
      "tf.Tensor([[0.00720026 0.80901134 0.16246523 0.02132311]], shape=(1, 4), dtype=float32)\n",
      "[0.5, 0.6, 0.1, 0.1]\n",
      "tf.Tensor([[0.00114983 0.9653535  0.03187658 0.00162008]], shape=(1, 4), dtype=float32)\n",
      "[0.5, 0.4, 0.1, 0.1]\n",
      "tf.Tensor([[7.9778424e-03 9.7022444e-01 2.1237645e-02 5.6000293e-04]], shape=(1, 4), dtype=float32)\n",
      "[0.3, 0.4, 0.1, 0.1]\n",
      "tf.Tensor([[9.9539667e-01 4.1524312e-03 3.8002583e-04 7.0894108e-05]], shape=(1, 4), dtype=float32)\n",
      "[0.3, 0.3, 0.1, 0.1]\n",
      "tf.Tensor([[9.9621636e-01 3.3730550e-03 3.3357085e-04 7.6944336e-05]], shape=(1, 4), dtype=float32)\n",
      "[0.2, 0.3, 0.1, 0.1]\n",
      "tf.Tensor([[9.9610656e-01 3.4890063e-03 3.3562037e-04 6.8907466e-05]], shape=(1, 4), dtype=float32)\n",
      "[0.2, 0.2, 0.1, 0.1]\n",
      "tf.Tensor([[9.9651670e-01 3.0896328e-03 3.1705917e-04 7.6569115e-05]], shape=(1, 4), dtype=float32)\n",
      "[0.1, 0.2, 0.1, 0.1]\n",
      "tf.Tensor([[9.9621058e-01 3.3807161e-03 3.3744655e-04 7.1400071e-05]], shape=(1, 4), dtype=float32)\n"
     ]
    },
    {
     "name": "stderr",
     "output_type": "stream",
     "text": [
      " 31%|██████████████████████▏                                                | 31301/100000 [6:58:26<8:52:45,  2.15it/s]"
     ]
    },
    {
     "name": "stdout",
     "output_type": "stream",
     "text": [
      "4.388300972371663\n",
      "97\n"
     ]
    },
    {
     "name": "stderr",
     "output_type": "stream",
     "text": [
      " 31%|██████████████████████▎                                                | 31401/100000 [6:59:14<9:29:28,  2.01it/s]"
     ]
    },
    {
     "name": "stdout",
     "output_type": "stream",
     "text": [
      "3.9745032865120375\n",
      "98\n",
      "[0.7, 0.1, 0.1, 0.1]\n",
      "tf.Tensor([[0.10386589 0.37965047 0.33885044 0.17763318]], shape=(1, 4), dtype=float32)\n",
      "[0.5, 0.1, 0.1, 0.1]\n",
      "tf.Tensor([[0.06649956 0.41739613 0.35532987 0.1607744 ]], shape=(1, 4), dtype=float32)\n",
      "[0.3, 0.1, 0.1, 0.1]\n",
      "tf.Tensor([[0.03720221 0.49523053 0.3543363  0.113231  ]], shape=(1, 4), dtype=float32)\n"
     ]
    },
    {
     "name": "stderr",
     "output_type": "stream",
     "text": [
      " 32%|██████████████████████▎                                                | 31501/100000 [6:59:58<9:21:02,  2.03it/s]"
     ]
    },
    {
     "name": "stdout",
     "output_type": "stream",
     "text": [
      "5.306413771689374\n",
      "100\n"
     ]
    },
    {
     "name": "stderr",
     "output_type": "stream",
     "text": [
      " 32%|██████████████████████▍                                                | 31601/100000 [7:00:42<8:48:03,  2.16it/s]"
     ]
    },
    {
     "name": "stdout",
     "output_type": "stream",
     "text": [
      "5.236613269964011\n",
      "99\n",
      "[0.8, 0.8, 0.9, 0.1]\n",
      "tf.Tensor([[0.05564836 0.48114836 0.32081026 0.14239304]], shape=(1, 4), dtype=float32)\n",
      "[0.8, 0.6, 0.9, 0.1]\n",
      "tf.Tensor([[0.01657896 0.63116884 0.28808627 0.06416602]], shape=(1, 4), dtype=float32)\n",
      "[0.8, 0.4, 0.9, 0.1]\n",
      "tf.Tensor([[0.00389254 0.8723654  0.11239017 0.01135196]], shape=(1, 4), dtype=float32)\n",
      "[0.8, 0.2, 0.9, 0.1]\n",
      "tf.Tensor([[0.00106657 0.97295594 0.02461773 0.00135973]], shape=(1, 4), dtype=float32)\n",
      "[1.0, 0.2, 0.9, 0.1]\n",
      "tf.Tensor([[2.5563119e-02 9.5591247e-01 1.7923201e-02 6.0125999e-04]], shape=(1, 4), dtype=float32)\n",
      "[0.8, 0.2, 0.9, 0.1]\n",
      "tf.Tensor([[9.9767929e-01 2.1231316e-03 1.5447392e-04 4.3058204e-05]], shape=(1, 4), dtype=float32)\n",
      "[0.9, 0.2, 0.9, 0.1]\n",
      "tf.Tensor([[9.9772388e-01 2.0861467e-03 1.4691304e-04 4.3046537e-05]], shape=(1, 4), dtype=float32)\n"
     ]
    },
    {
     "name": "stderr",
     "output_type": "stream",
     "text": [
      " 32%|██████████████████████▌                                                | 31701/100000 [7:01:26<7:39:35,  2.48it/s]"
     ]
    },
    {
     "name": "stdout",
     "output_type": "stream",
     "text": [
      "5.0099506679720545\n",
      "99\n"
     ]
    },
    {
     "name": "stderr",
     "output_type": "stream",
     "text": [
      " 32%|██████████████████████▌                                                | 31801/100000 [7:02:10<8:39:25,  2.19it/s]"
     ]
    },
    {
     "name": "stdout",
     "output_type": "stream",
     "text": [
      "5.258765058433705\n",
      "100\n",
      "[0.9, 0.3, 0.5, 0.3]\n",
      "tf.Tensor([[0.08141992 0.43378624 0.32260412 0.16218968]], shape=(1, 4), dtype=float32)\n",
      "[0.7, 0.3, 0.5, 0.3]\n",
      "tf.Tensor([[0.04244817 0.5018041  0.3263036  0.1294441 ]], shape=(1, 4), dtype=float32)\n"
     ]
    },
    {
     "name": "stderr",
     "output_type": "stream",
     "text": [
      " 32%|██████████████████████▋                                                | 31901/100000 [7:02:56<9:10:14,  2.06it/s]"
     ]
    },
    {
     "name": "stdout",
     "output_type": "stream",
     "text": [
      "4.683058249322471\n",
      "100\n"
     ]
    },
    {
     "name": "stderr",
     "output_type": "stream",
     "text": [
      " 32%|██████████████████████▋                                                | 32001/100000 [7:03:41<8:58:04,  2.11it/s]"
     ]
    },
    {
     "name": "stdout",
     "output_type": "stream",
     "text": [
      "4.806573435821618\n",
      "99\n",
      "[0.9, 0.8, 0.5, 0.7]\n",
      "tf.Tensor([[0.05435199 0.5012332  0.3025838  0.14183092]], shape=(1, 4), dtype=float32)\n",
      "[0.7, 0.8, 0.5, 0.7]\n",
      "tf.Tensor([[0.02285969 0.6202482  0.2788202  0.07807196]], shape=(1, 4), dtype=float32)\n",
      "[0.5, 0.8, 0.5, 0.7]\n",
      "tf.Tensor([[0.00378513 0.8880535  0.09666979 0.01149152]], shape=(1, 4), dtype=float32)\n",
      "[0.5, 0.6, 0.5, 0.7]\n",
      "tf.Tensor([[0.00136247 0.96399295 0.03252525 0.00211935]], shape=(1, 4), dtype=float32)\n",
      "[0.5, 0.8, 0.5, 0.7]\n",
      "tf.Tensor([[4.7559771e-03 9.8239249e-01 1.2499597e-02 3.5191694e-04]], shape=(1, 4), dtype=float32)\n",
      "[0.5, 0.6, 0.5, 0.7]\n",
      "tf.Tensor([[9.9139106e-01 7.9720132e-03 5.3291704e-04 1.0397925e-04]], shape=(1, 4), dtype=float32)\n"
     ]
    },
    {
     "name": "stderr",
     "output_type": "stream",
     "text": [
      " 32%|██████████████████████▊                                                | 32101/100000 [7:04:27<8:55:01,  2.12it/s]"
     ]
    },
    {
     "name": "stdout",
     "output_type": "stream",
     "text": [
      "3.8573429904091547\n",
      "92\n"
     ]
    },
    {
     "name": "stderr",
     "output_type": "stream",
     "text": [
      " 32%|██████████████████████▊                                                | 32201/100000 [7:05:14<7:06:12,  2.65it/s]"
     ]
    },
    {
     "name": "stdout",
     "output_type": "stream",
     "text": [
      "4.360010753327753\n",
      "96\n",
      "[0.3, 0.9, 0.1, 0.9]\n",
      "tf.Tensor([[0.0698199  0.46230793 0.31401417 0.15385799]], shape=(1, 4), dtype=float32)\n"
     ]
    },
    {
     "name": "stderr",
     "output_type": "stream",
     "text": [
      " 32%|██████████████████████▉                                                | 32301/100000 [7:06:00<9:08:04,  2.06it/s]"
     ]
    },
    {
     "name": "stdout",
     "output_type": "stream",
     "text": [
      "3.485764125397071\n",
      "94\n"
     ]
    },
    {
     "name": "stderr",
     "output_type": "stream",
     "text": [
      " 32%|███████████████████████                                                | 32401/100000 [7:06:44<8:08:13,  2.31it/s]"
     ]
    },
    {
     "name": "stdout",
     "output_type": "stream",
     "text": [
      "4.961237087851882\n",
      "95\n",
      "[0.9, 0.9, 0.1, 0.1]\n",
      "tf.Tensor([[0.05247704 0.47170457 0.31657228 0.15924609]], shape=(1, 4), dtype=float32)\n",
      "[0.9, 0.7, 0.1, 0.1]\n",
      "tf.Tensor([[0.0280725  0.53413004 0.3290239  0.10877357]], shape=(1, 4), dtype=float32)\n",
      "[0.7, 0.7, 0.1, 0.1]\n",
      "tf.Tensor([[0.00508728 0.83781236 0.13768774 0.01941269]], shape=(1, 4), dtype=float32)\n",
      "[0.7, 0.5, 0.1, 0.1]\n",
      "tf.Tensor([[0.00185677 0.94906443 0.04568592 0.00339281]], shape=(1, 4), dtype=float32)\n",
      "[0.5, 0.5, 0.1, 0.1]\n",
      "tf.Tensor([[5.7957126e-03 9.7421783e-01 1.9340001e-02 6.4644590e-04]], shape=(1, 4), dtype=float32)\n",
      "[0.3, 0.5, 0.1, 0.1]\n",
      "tf.Tensor([[9.9558419e-01 4.0420606e-03 3.0297777e-04 7.0766677e-05]], shape=(1, 4), dtype=float32)\n",
      "[0.3, 0.4, 0.1, 0.1]\n",
      "tf.Tensor([[9.9476445e-01 4.7949837e-03 3.6205101e-04 7.8545687e-05]], shape=(1, 4), dtype=float32)\n",
      "[0.3, 0.3, 0.1, 0.1]\n",
      "tf.Tensor([[9.9559033e-01 3.9953040e-03 3.2738363e-04 8.7160333e-05]], shape=(1, 4), dtype=float32)\n",
      "[0.2, 0.3, 0.1, 0.1]\n",
      "tf.Tensor([[9.9487102e-01 4.6732323e-03 3.7096260e-04 8.4801737e-05]], shape=(1, 4), dtype=float32)\n",
      "[0.2, 0.2, 0.1, 0.1]\n",
      "tf.Tensor([[9.9542147e-01 4.1345749e-03 3.5052901e-04 9.3445655e-05]], shape=(1, 4), dtype=float32)\n"
     ]
    },
    {
     "name": "stderr",
     "output_type": "stream",
     "text": [
      " 33%|███████████████████████                                                | 32501/100000 [7:07:29<6:37:04,  2.83it/s]"
     ]
    },
    {
     "name": "stdout",
     "output_type": "stream",
     "text": [
      "4.887255861190924\n",
      "95\n"
     ]
    },
    {
     "name": "stderr",
     "output_type": "stream",
     "text": [
      " 33%|███████████████████████▏                                               | 32601/100000 [7:08:10<8:23:25,  2.23it/s]"
     ]
    },
    {
     "name": "stdout",
     "output_type": "stream",
     "text": [
      "5.472821360356884\n",
      "98\n",
      "[0.2, 0.0, 0.1, 0.1]\n",
      "tf.Tensor([[0.11328158 0.37542    0.3252075  0.18609096]], shape=(1, 4), dtype=float32)\n",
      "[0.2, 0.2, 0.1, 0.1]\n",
      "tf.Tensor([[0.07966353 0.40907016 0.34307    0.16819629]], shape=(1, 4), dtype=float32)\n",
      "[0.0, 0.2, 0.1, 0.1]\n",
      "tf.Tensor([[0.04300958 0.43672323 0.3646477  0.15561943]], shape=(1, 4), dtype=float32)\n",
      "[0.2, 0.2, 0.1, 0.1]\n",
      "tf.Tensor([[0.02109781 0.6090501  0.29456636 0.0752857 ]], shape=(1, 4), dtype=float32)\n",
      "[0.0, 0.2, 0.1, 0.1]\n",
      "tf.Tensor([[0.00346173 0.9215247  0.06879715 0.00621641]], shape=(1, 4), dtype=float32)\n",
      "[0.2, 0.2, 0.1, 0.1]\n",
      "tf.Tensor([[9.0536922e-01 8.7794691e-02 6.0687256e-03 7.6735305e-04]], shape=(1, 4), dtype=float32)\n",
      "[0.1, 0.2, 0.1, 0.1]\n",
      "tf.Tensor([[9.8990726e-01 9.3144681e-03 6.3731556e-04 1.4086737e-04]], shape=(1, 4), dtype=float32)\n"
     ]
    },
    {
     "name": "stderr",
     "output_type": "stream",
     "text": [
      " 33%|███████████████████████▏                                               | 32701/100000 [7:08:53<7:39:43,  2.44it/s]"
     ]
    },
    {
     "name": "stdout",
     "output_type": "stream",
     "text": [
      "4.6011847735405915\n",
      "97\n"
     ]
    },
    {
     "name": "stderr",
     "output_type": "stream",
     "text": [
      " 33%|███████████████████████▎                                               | 32801/100000 [7:09:39<9:02:29,  2.06it/s]"
     ]
    },
    {
     "name": "stdout",
     "output_type": "stream",
     "text": [
      "4.690862982366511\n",
      "98\n",
      "[0.3, 0.5, 0.9, 0.9]\n",
      "tf.Tensor([[0.11342727 0.37237254 0.3286745  0.18552576]], shape=(1, 4), dtype=float32)\n",
      "[0.5, 0.5, 0.9, 0.9]\n",
      "tf.Tensor([[0.06220413 0.42403132 0.34960434 0.16416016]], shape=(1, 4), dtype=float32)\n",
      "[0.7, 0.5, 0.9, 0.9]\n",
      "tf.Tensor([[0.02762498 0.50979584 0.34005508 0.122524  ]], shape=(1, 4), dtype=float32)\n",
      "[0.7, 0.7, 0.9, 0.9]\n",
      "tf.Tensor([[0.00768478 0.7736648  0.18566391 0.03298653]], shape=(1, 4), dtype=float32)\n",
      "[0.7, 0.9, 0.9, 0.9]\n",
      "tf.Tensor([[0.00103696 0.97030514 0.02674113 0.0019168 ]], shape=(1, 4), dtype=float32)\n"
     ]
    },
    {
     "name": "stderr",
     "output_type": "stream",
     "text": [
      " 33%|███████████████████████▎                                               | 32901/100000 [7:10:24<8:41:56,  2.14it/s]"
     ]
    },
    {
     "name": "stdout",
     "output_type": "stream",
     "text": [
      "4.904968136832474\n",
      "98\n"
     ]
    },
    {
     "name": "stderr",
     "output_type": "stream",
     "text": [
      " 33%|███████████████████████▍                                               | 33001/100000 [7:11:07<7:24:10,  2.51it/s]"
     ]
    },
    {
     "name": "stdout",
     "output_type": "stream",
     "text": [
      "5.175212689529581\n",
      "97\n",
      "[0.4, 0.1, 0.5, 0.7]\n",
      "tf.Tensor([[0.10732519 0.4114812  0.29597542 0.18521817]], shape=(1, 4), dtype=float32)\n",
      "[0.4, 0.3, 0.5, 0.7]\n",
      "tf.Tensor([[0.06675366 0.45322278 0.31127355 0.16875006]], shape=(1, 4), dtype=float32)\n",
      "[0.4, 0.5, 0.5, 0.7]\n",
      "tf.Tensor([[0.03356957 0.5177729  0.3128729  0.13578458]], shape=(1, 4), dtype=float32)\n",
      "[0.4, 0.7, 0.5, 0.7]\n",
      "tf.Tensor([[0.0086109  0.76230496 0.19017044 0.03891366]], shape=(1, 4), dtype=float32)\n",
      "[0.6, 0.7, 0.5, 0.7]\n",
      "tf.Tensor([[0.00235093 0.9569775  0.03760548 0.00306601]], shape=(1, 4), dtype=float32)\n",
      "[0.4, 0.7, 0.5, 0.7]\n",
      "tf.Tensor([[9.4996780e-01 4.7000427e-02 2.7306778e-03 3.0107395e-04]], shape=(1, 4), dtype=float32)\n"
     ]
    },
    {
     "name": "stderr",
     "output_type": "stream",
     "text": [
      " 33%|███████████████████████▌                                               | 33101/100000 [7:11:48<8:18:43,  2.24it/s]"
     ]
    },
    {
     "name": "stdout",
     "output_type": "stream",
     "text": [
      "4.990850565407862\n",
      "98\n"
     ]
    },
    {
     "name": "stderr",
     "output_type": "stream",
     "text": [
      " 33%|███████████████████████▌                                               | 33201/100000 [7:12:30<7:35:41,  2.44it/s]"
     ]
    },
    {
     "name": "stdout",
     "output_type": "stream",
     "text": [
      "5.3826819067183695\n",
      "99\n",
      "[0.4, 0.6, 0.5, 0.7]\n",
      "tf.Tensor([[0.09252947 0.40146688 0.33380732 0.17219628]], shape=(1, 4), dtype=float32)\n",
      "[0.6, 0.6, 0.5, 0.7]\n",
      "tf.Tensor([[0.05085825 0.46194577 0.3303059  0.15689002]], shape=(1, 4), dtype=float32)\n",
      "[0.6, 0.8, 0.5, 0.7]\n",
      "tf.Tensor([[0.02227082 0.55411917 0.32786953 0.09574042]], shape=(1, 4), dtype=float32)\n",
      "[0.4, 0.8, 0.5, 0.7]\n",
      "tf.Tensor([[0.0044508  0.84186035 0.1356429  0.01804597]], shape=(1, 4), dtype=float32)\n",
      "[0.6, 0.8, 0.5, 0.7]\n",
      "tf.Tensor([[0.00143494 0.97254837 0.02459928 0.00141747]], shape=(1, 4), dtype=float32)\n",
      "[0.4, 0.8, 0.5, 0.7]\n",
      "tf.Tensor([[9.8126125e-01 1.7559830e-02 1.0285132e-03 1.5031581e-04]], shape=(1, 4), dtype=float32)\n",
      "[0.5, 0.8, 0.5, 0.7]\n",
      "tf.Tensor([[9.9361378e-01 5.9400285e-03 3.6753682e-04 7.8693636e-05]], shape=(1, 4), dtype=float32)\n"
     ]
    },
    {
     "name": "stderr",
     "output_type": "stream",
     "text": [
      " 33%|███████████████████████▎                                              | 33301/100000 [7:13:15<10:20:11,  1.79it/s]"
     ]
    },
    {
     "name": "stdout",
     "output_type": "stream",
     "text": [
      "4.3283061764486614\n",
      "96\n"
     ]
    },
    {
     "name": "stderr",
     "output_type": "stream",
     "text": [
      " 33%|███████████████████████▋                                               | 33401/100000 [7:14:00<9:06:33,  2.03it/s]"
     ]
    },
    {
     "name": "stdout",
     "output_type": "stream",
     "text": [
      "5.040526737763433\n",
      "100\n",
      "[0.3, 0.8, 0.1, 0.9]\n",
      "tf.Tensor([[0.10087374 0.4091914  0.3160011  0.1739337 ]], shape=(1, 4), dtype=float32)\n",
      "[0.1, 0.8, 0.1, 0.9]\n",
      "tf.Tensor([[0.0604321  0.45085537 0.3299183  0.15879418]], shape=(1, 4), dtype=float32)\n",
      "[0.1, 1.0, 0.1, 0.9]\n",
      "tf.Tensor([[0.01822742 0.5918744  0.30561766 0.08428053]], shape=(1, 4), dtype=float32)\n",
      "[0.1, 0.8, 0.1, 0.9]\n",
      "tf.Tensor([[0.00619718 0.80919355 0.16154908 0.02306011]], shape=(1, 4), dtype=float32)\n",
      "[0.1, 1.0, 0.1, 0.9]\n",
      "tf.Tensor([[2.1471898e-03 9.7900051e-01 1.7995231e-02 8.5713633e-04]], shape=(1, 4), dtype=float32)\n",
      "[0.1, 0.8, 0.1, 0.9]\n",
      "tf.Tensor([[9.9592292e-01 3.7585448e-03 2.4873851e-04 6.9769980e-05]], shape=(1, 4), dtype=float32)\n"
     ]
    },
    {
     "name": "stderr",
     "output_type": "stream",
     "text": [
      " 34%|███████████████████████▊                                               | 33501/100000 [7:14:44<6:34:47,  2.81it/s]"
     ]
    },
    {
     "name": "stdout",
     "output_type": "stream",
     "text": [
      "4.631020931335146\n",
      "98\n"
     ]
    },
    {
     "name": "stderr",
     "output_type": "stream",
     "text": [
      " 34%|███████████████████████▊                                               | 33601/100000 [7:15:27<6:37:53,  2.78it/s]"
     ]
    },
    {
     "name": "stdout",
     "output_type": "stream",
     "text": [
      "5.3201060447844135\n",
      "98\n",
      "[0.0, 0.1, 0.5, 0.7]\n",
      "tf.Tensor([[0.11102724 0.39321125 0.3075591  0.18820241]], shape=(1, 4), dtype=float32)\n",
      "[0.0, 0.3, 0.5, 0.7]\n",
      "tf.Tensor([[0.08346764 0.39405566 0.34783998 0.17463669]], shape=(1, 4), dtype=float32)\n",
      "[0.2, 0.3, 0.5, 0.7]\n",
      "tf.Tensor([[0.0529381  0.45038098 0.3335895  0.16309142]], shape=(1, 4), dtype=float32)\n",
      "[0.2, 0.5, 0.5, 0.7]\n",
      "tf.Tensor([[0.01975461 0.5177593  0.35130483 0.11118127]], shape=(1, 4), dtype=float32)\n",
      "[0.4, 0.5, 0.5, 0.7]\n",
      "tf.Tensor([[0.00503527 0.8142991  0.1569427  0.0237229 ]], shape=(1, 4), dtype=float32)\n",
      "[0.4, 0.7, 0.5, 0.7]\n",
      "tf.Tensor([[3.9958553e-03 9.7905385e-01 1.6293989e-02 6.5625110e-04]], shape=(1, 4), dtype=float32)\n",
      "[0.6, 0.7, 0.5, 0.7]\n",
      "tf.Tensor([[1.4143174e-02 9.6280718e-01 2.2324041e-02 7.2551327e-04]], shape=(1, 4), dtype=float32)\n",
      "[0.4, 0.7, 0.5, 0.7]\n",
      "tf.Tensor([[1.03545815e-01 8.73209715e-01 2.25674193e-02 6.76992058e-04]], shape=(1, 4), dtype=float32)\n",
      "[0.6, 0.7, 0.5, 0.7]\n",
      "tf.Tensor([[0.4415847  0.5371129  0.02031048 0.00099193]], shape=(1, 4), dtype=float32)\n",
      "[0.4, 0.7, 0.5, 0.7]\n",
      "tf.Tensor([[8.8715070e-01 1.0746947e-01 4.9945838e-03 3.8530186e-04]], shape=(1, 4), dtype=float32)\n"
     ]
    },
    {
     "name": "stderr",
     "output_type": "stream",
     "text": [
      " 34%|███████████████████████▉                                               | 33701/100000 [7:16:12<7:13:12,  2.55it/s]"
     ]
    },
    {
     "name": "stdout",
     "output_type": "stream",
     "text": [
      "4.828417435823467\n",
      "96\n"
     ]
    },
    {
     "name": "stderr",
     "output_type": "stream",
     "text": [
      " 34%|███████████████████████▉                                               | 33801/100000 [7:16:56<7:03:45,  2.60it/s]"
     ]
    },
    {
     "name": "stdout",
     "output_type": "stream",
     "text": [
      "4.641871634284431\n",
      "96\n",
      "[0.7, 0.5, 0.5, 0.7]\n",
      "tf.Tensor([[0.09420741 0.39051118 0.3226988  0.19258264]], shape=(1, 4), dtype=float32)\n",
      "[0.7, 0.7, 0.5, 0.7]\n",
      "tf.Tensor([[0.05760935 0.42924562 0.34636295 0.16678211]], shape=(1, 4), dtype=float32)\n"
     ]
    },
    {
     "name": "stderr",
     "output_type": "stream",
     "text": [
      " 34%|████████████████████████                                               | 33901/100000 [7:17:38<7:14:39,  2.53it/s]"
     ]
    },
    {
     "name": "stdout",
     "output_type": "stream",
     "text": [
      "5.162981775326541\n",
      "99\n"
     ]
    },
    {
     "name": "stderr",
     "output_type": "stream",
     "text": [
      " 34%|████████████████████████▏                                              | 34001/100000 [7:18:20<7:54:36,  2.32it/s]"
     ]
    },
    {
     "name": "stdout",
     "output_type": "stream",
     "text": [
      "5.452591125304292\n",
      "98\n",
      "[0.9, 0.8, 0.1, 0.9]\n",
      "tf.Tensor([[0.09016816 0.3758779  0.3488362  0.18511774]], shape=(1, 4), dtype=float32)\n",
      "[0.7, 0.8, 0.1, 0.9]\n",
      "tf.Tensor([[0.0517543  0.42010668 0.36707288 0.16106613]], shape=(1, 4), dtype=float32)\n",
      "[0.5, 0.8, 0.1, 0.9]\n",
      "tf.Tensor([[0.0246058  0.5136862  0.3629509  0.09875713]], shape=(1, 4), dtype=float32)\n",
      "[0.3, 0.8, 0.1, 0.9]\n",
      "tf.Tensor([[0.00702478 0.81951606 0.15544274 0.01801643]], shape=(1, 4), dtype=float32)\n",
      "[0.1, 0.8, 0.1, 0.9]\n",
      "tf.Tensor([[0.0094297  0.957222   0.03226366 0.00108468]], shape=(1, 4), dtype=float32)\n",
      "[0.1, 1.0, 0.1, 0.9]\n",
      "tf.Tensor([[9.9832016e-01 1.5477361e-03 1.0238715e-04 2.9731951e-05]], shape=(1, 4), dtype=float32)\n"
     ]
    },
    {
     "name": "stderr",
     "output_type": "stream",
     "text": [
      " 34%|████████████████████████▏                                              | 34101/100000 [7:19:02<8:05:03,  2.26it/s]"
     ]
    },
    {
     "name": "stdout",
     "output_type": "stream",
     "text": [
      "4.980662913365117\n",
      "98\n"
     ]
    },
    {
     "name": "stderr",
     "output_type": "stream",
     "text": [
      " 34%|████████████████████████▎                                              | 34201/100000 [7:19:45<9:13:33,  1.98it/s]"
     ]
    },
    {
     "name": "stdout",
     "output_type": "stream",
     "text": [
      "4.978461498683934\n",
      "98\n",
      "[0.4, 0.3, 0.9, 0.1]\n",
      "tf.Tensor([[0.11089736 0.31299803 0.37356704 0.20253755]], shape=(1, 4), dtype=float32)\n",
      "[0.7, 0.3, 0.9, 0.1]\n",
      "tf.Tensor([[0.06860793 0.3450067  0.40429816 0.18208714]], shape=(1, 4), dtype=float32)\n",
      "[1.0, 0.3, 0.9, 0.1]\n",
      "tf.Tensor([[0.01982304 0.4767983  0.38627762 0.11710107]], shape=(1, 4), dtype=float32)\n",
      "[1.0, 0.1, 0.9, 0.1]\n",
      "tf.Tensor([[0.01085845 0.6909424  0.25332886 0.04487032]], shape=(1, 4), dtype=float32)\n",
      "[0.8, 0.1, 0.9, 0.1]\n",
      "tf.Tensor([[0.00142884 0.9678078  0.02890822 0.00185507]], shape=(1, 4), dtype=float32)\n",
      "[1.0, 0.1, 0.9, 0.1]\n",
      "tf.Tensor([[9.9384886e-01 5.6949630e-03 3.7531540e-04 8.0959151e-05]], shape=(1, 4), dtype=float32)\n"
     ]
    },
    {
     "name": "stderr",
     "output_type": "stream",
     "text": [
      " 34%|████████████████████████▎                                              | 34301/100000 [7:20:28<8:12:10,  2.22it/s]"
     ]
    },
    {
     "name": "stdout",
     "output_type": "stream",
     "text": [
      "4.456005189694947\n",
      "95\n"
     ]
    },
    {
     "name": "stderr",
     "output_type": "stream",
     "text": [
      " 34%|████████████████████████▍                                              | 34401/100000 [7:21:09<7:27:58,  2.44it/s]"
     ]
    },
    {
     "name": "stdout",
     "output_type": "stream",
     "text": [
      "5.169705473104389\n",
      "96\n",
      "[0.0, 0.8, 0.1, 0.1]\n",
      "tf.Tensor([[0.08499627 0.37160105 0.35398126 0.18942149]], shape=(1, 4), dtype=float32)\n",
      "[0.0, 0.6, 0.1, 0.1]\n",
      "tf.Tensor([[0.04305362 0.432295   0.3647023  0.15994915]], shape=(1, 4), dtype=float32)\n",
      "[0.0, 0.4, 0.1, 0.1]\n",
      "tf.Tensor([[0.01707562 0.5294835  0.36241493 0.09102589]], shape=(1, 4), dtype=float32)\n",
      "[0.0, 0.2, 0.1, 0.1]\n",
      "tf.Tensor([[0.00521653 0.7659869  0.2038802  0.02491633]], shape=(1, 4), dtype=float32)\n",
      "[0.2, 0.2, 0.1, 0.1]\n",
      "tf.Tensor([[1.41026580e-03 9.84439313e-01 1.35003235e-02 6.50097441e-04]], shape=(1, 4), dtype=float32)\n",
      "[0.2, 0.0, 0.1, 0.1]\n",
      "tf.Tensor([[9.9844104e-01 1.4331491e-03 9.3174065e-05 3.2587057e-05]], shape=(1, 4), dtype=float32)\n",
      "[0.1, 0.0, 0.1, 0.1]\n",
      "tf.Tensor([[9.9797171e-01 1.8681460e-03 1.2217612e-04 3.7917329e-05]], shape=(1, 4), dtype=float32)\n"
     ]
    },
    {
     "name": "stderr",
     "output_type": "stream",
     "text": [
      " 35%|████████████████████████▍                                              | 34501/100000 [7:21:50<6:48:13,  2.67it/s]"
     ]
    },
    {
     "name": "stdout",
     "output_type": "stream",
     "text": [
      "5.340156474305505\n",
      "97\n"
     ]
    },
    {
     "name": "stderr",
     "output_type": "stream",
     "text": [
      " 35%|████████████████████████▌                                              | 34601/100000 [7:22:33<8:34:13,  2.12it/s]"
     ]
    },
    {
     "name": "stdout",
     "output_type": "stream",
     "text": [
      "5.065576760361284\n",
      "98\n",
      "[0.8, 0.0, 0.5, 0.3]\n",
      "tf.Tensor([[0.11014756 0.3517631  0.32557794 0.21251139]], shape=(1, 4), dtype=float32)\n",
      "[0.8, 0.2, 0.5, 0.3]\n",
      "tf.Tensor([[0.07922766 0.37602517 0.35262734 0.19211978]], shape=(1, 4), dtype=float32)\n",
      "[0.6, 0.2, 0.5, 0.3]\n",
      "tf.Tensor([[0.04804171 0.42338288 0.3567694  0.17180598]], shape=(1, 4), dtype=float32)\n",
      "[0.4, 0.2, 0.5, 0.3]\n",
      "tf.Tensor([[0.01620848 0.58762324 0.31711343 0.07905491]], shape=(1, 4), dtype=float32)\n",
      "[0.6, 0.2, 0.5, 0.3]\n",
      "tf.Tensor([[0.00322896 0.9349837  0.05682272 0.00496466]], shape=(1, 4), dtype=float32)\n",
      "[0.4, 0.2, 0.5, 0.3]\n",
      "tf.Tensor([[9.9652809e-01 3.1862101e-03 2.3420922e-04 5.1392250e-05]], shape=(1, 4), dtype=float32)\n",
      "[0.5, 0.2, 0.5, 0.3]\n",
      "tf.Tensor([[9.9766183e-01 2.1405553e-03 1.5515849e-04 4.2487853e-05]], shape=(1, 4), dtype=float32)\n"
     ]
    },
    {
     "name": "stderr",
     "output_type": "stream",
     "text": [
      " 35%|████████████████████████▋                                              | 34701/100000 [7:23:15<7:07:31,  2.55it/s]"
     ]
    },
    {
     "name": "stdout",
     "output_type": "stream",
     "text": [
      "4.8512689965995435\n",
      "95\n"
     ]
    },
    {
     "name": "stderr",
     "output_type": "stream",
     "text": [
      " 35%|████████████████████████▋                                              | 34801/100000 [7:23:57<8:55:26,  2.03it/s]"
     ]
    },
    {
     "name": "stdout",
     "output_type": "stream",
     "text": [
      "4.605925786949397\n",
      "96\n",
      "[0.4, 0.3, 0.9, 0.1]\n",
      "tf.Tensor([[0.14060652 0.30866322 0.33101943 0.21971083]], shape=(1, 4), dtype=float32)\n",
      "[0.7, 0.3, 0.9, 0.1]\n",
      "tf.Tensor([[0.09295535 0.3384494  0.36602813 0.20256713]], shape=(1, 4), dtype=float32)\n",
      "[1.0, 0.3, 0.9, 0.1]\n",
      "tf.Tensor([[0.02742676 0.457088   0.37145334 0.1440319 ]], shape=(1, 4), dtype=float32)\n",
      "[1.0, 0.1, 0.9, 0.1]\n",
      "tf.Tensor([[0.01366274 0.64342785 0.28362232 0.05928711]], shape=(1, 4), dtype=float32)\n",
      "[0.8, 0.1, 0.9, 0.1]\n",
      "tf.Tensor([[0.00129691 0.96660846 0.03009451 0.00200017]], shape=(1, 4), dtype=float32)\n",
      "[1.0, 0.1, 0.9, 0.1]\n",
      "tf.Tensor([[9.9676192e-01 2.9817736e-03 2.0395427e-04 5.2381136e-05]], shape=(1, 4), dtype=float32)\n"
     ]
    },
    {
     "name": "stderr",
     "output_type": "stream",
     "text": [
      " 35%|████████████████████████▊                                              | 34901/100000 [7:24:38<7:04:34,  2.56it/s]"
     ]
    },
    {
     "name": "stdout",
     "output_type": "stream",
     "text": [
      "4.086813751994203\n",
      "96\n"
     ]
    },
    {
     "name": "stderr",
     "output_type": "stream",
     "text": [
      " 35%|████████████████████████▊                                              | 35001/100000 [7:25:22<8:19:09,  2.17it/s]"
     ]
    },
    {
     "name": "stdout",
     "output_type": "stream",
     "text": [
      "4.474150860282319\n",
      "98\n",
      "[0.9, 0.4, 0.9, 0.1]\n",
      "tf.Tensor([[0.10686957 0.3772006  0.3101168  0.20581299]], shape=(1, 4), dtype=float32)\n",
      "[0.9, 0.2, 0.9, 0.1]\n",
      "tf.Tensor([[0.04410105 0.4501563  0.3342916  0.17145093]], shape=(1, 4), dtype=float32)\n",
      "[0.9, 0.0, 0.9, 0.1]\n",
      "tf.Tensor([[0.02397792 0.49960276 0.36089477 0.11552461]], shape=(1, 4), dtype=float32)\n",
      "[0.9, 0.2, 0.9, 0.1]\n",
      "tf.Tensor([[0.00259847 0.9025591  0.08582734 0.00901499]], shape=(1, 4), dtype=float32)\n",
      "[0.9, 0.0, 0.9, 0.1]\n",
      "tf.Tensor([[4.2405669e-03 9.8355341e-01 1.1612501e-02 5.9349719e-04]], shape=(1, 4), dtype=float32)\n",
      "[0.9, 0.2, 0.9, 0.1]\n",
      "tf.Tensor([[9.9866688e-01 1.2443215e-03 6.7169880e-05 2.1711659e-05]], shape=(1, 4), dtype=float32)\n"
     ]
    },
    {
     "name": "stderr",
     "output_type": "stream",
     "text": [
      " 35%|████████████████████████▉                                              | 35101/100000 [7:26:04<9:49:13,  1.84it/s]"
     ]
    },
    {
     "name": "stdout",
     "output_type": "stream",
     "text": [
      "4.845980286047505\n",
      "100\n"
     ]
    },
    {
     "name": "stderr",
     "output_type": "stream",
     "text": [
      " 35%|████████████████████████▉                                              | 35201/100000 [7:26:48<8:45:16,  2.06it/s]"
     ]
    },
    {
     "name": "stdout",
     "output_type": "stream",
     "text": [
      "4.4870451865046235\n",
      "93\n",
      "[0.0, 0.2, 0.9, 0.1]\n",
      "tf.Tensor([[0.1713756  0.29360637 0.3206294  0.21438865]], shape=(1, 4), dtype=float32)\n",
      "[0.3, 0.2, 0.9, 0.1]\n",
      "tf.Tensor([[0.13088377 0.31864616 0.34580797 0.20466213]], shape=(1, 4), dtype=float32)\n",
      "[0.6, 0.2, 0.9, 0.1]\n",
      "tf.Tensor([[0.07619026 0.35656455 0.38137552 0.18586971]], shape=(1, 4), dtype=float32)\n",
      "[0.9, 0.2, 0.9, 0.1]\n",
      "tf.Tensor([[0.01587999 0.5383834  0.35396388 0.09177265]], shape=(1, 4), dtype=float32)\n",
      "[0.9, 0.0, 0.9, 0.1]\n",
      "tf.Tensor([[0.00304622 0.8850548  0.1007349  0.01116414]], shape=(1, 4), dtype=float32)\n",
      "[0.9, 0.2, 0.9, 0.1]\n",
      "tf.Tensor([[2.0920227e-01 7.7740419e-01 1.2693086e-02 7.0039340e-04]], shape=(1, 4), dtype=float32)\n",
      "[0.9, 0.0, 0.9, 0.1]\n",
      "tf.Tensor([[9.7368920e-01 2.5174638e-02 9.6604769e-04 1.6999182e-04]], shape=(1, 4), dtype=float32)\n"
     ]
    },
    {
     "name": "stderr",
     "output_type": "stream",
     "text": [
      " 35%|█████████████████████████                                              | 35301/100000 [7:27:31<8:38:33,  2.08it/s]"
     ]
    },
    {
     "name": "stdout",
     "output_type": "stream",
     "text": [
      "4.450504791108426\n",
      "93\n"
     ]
    },
    {
     "name": "stderr",
     "output_type": "stream",
     "text": [
      " 35%|█████████████████████████▏                                             | 35401/100000 [7:28:14<9:43:24,  1.85it/s]"
     ]
    },
    {
     "name": "stdout",
     "output_type": "stream",
     "text": [
      "3.9465276355133883\n",
      "96\n",
      "[0.1, 0.6, 0.9, 0.9]\n",
      "tf.Tensor([[0.122476   0.34506044 0.32738805 0.20507553]], shape=(1, 4), dtype=float32)\n",
      "[0.3, 0.6, 0.9, 0.9]\n",
      "tf.Tensor([[0.07674368 0.3795871  0.35898122 0.1846881 ]], shape=(1, 4), dtype=float32)\n",
      "[0.5, 0.6, 0.9, 0.9]\n",
      "tf.Tensor([[0.02952842 0.45368668 0.37633425 0.14045063]], shape=(1, 4), dtype=float32)\n",
      "[0.7, 0.6, 0.9, 0.9]\n",
      "tf.Tensor([[0.00843122 0.6966231  0.25052974 0.04441598]], shape=(1, 4), dtype=float32)\n",
      "[0.7, 0.8, 0.9, 0.9]\n",
      "tf.Tensor([[7.4584578e-04 9.7275484e-01 2.4933498e-02 1.5658130e-03]], shape=(1, 4), dtype=float32)\n",
      "[0.9, 0.8, 0.9, 0.9]\n",
      "tf.Tensor([[9.9341124e-01 6.1988835e-03 3.2133062e-04 6.8614725e-05]], shape=(1, 4), dtype=float32)\n"
     ]
    },
    {
     "name": "stderr",
     "output_type": "stream",
     "text": [
      " 36%|█████████████████████████▏                                             | 35501/100000 [7:28:53<5:45:10,  3.11it/s]"
     ]
    },
    {
     "name": "stdout",
     "output_type": "stream",
     "text": [
      "5.599366012090809\n",
      "96\n"
     ]
    },
    {
     "name": "stderr",
     "output_type": "stream",
     "text": [
      " 36%|█████████████████████████▎                                             | 35601/100000 [7:29:37<7:40:55,  2.33it/s]"
     ]
    },
    {
     "name": "stdout",
     "output_type": "stream",
     "text": [
      "4.752226504386153\n",
      "95\n",
      "[0.0, 0.2, 0.9, 0.1]\n",
      "tf.Tensor([[0.11667345 0.35073826 0.32655203 0.20603633]], shape=(1, 4), dtype=float32)\n",
      "[0.2, 0.2, 0.9, 0.1]\n",
      "tf.Tensor([[0.07948237 0.37796584 0.352493   0.1900588 ]], shape=(1, 4), dtype=float32)\n",
      "[0.4, 0.2, 0.9, 0.1]\n",
      "tf.Tensor([[0.03642919 0.43377054 0.36563087 0.1641694 ]], shape=(1, 4), dtype=float32)\n",
      "[0.6, 0.2, 0.9, 0.1]\n",
      "tf.Tensor([[0.01044384 0.63626814 0.29085767 0.0624304 ]], shape=(1, 4), dtype=float32)\n",
      "[0.8, 0.2, 0.9, 0.1]\n",
      "tf.Tensor([[0.00110513 0.9456866  0.04925667 0.00395152]], shape=(1, 4), dtype=float32)\n",
      "[1.0, 0.2, 0.9, 0.1]\n",
      "tf.Tensor([[9.3317378e-01 6.3686587e-02 2.7337654e-03 4.0579503e-04]], shape=(1, 4), dtype=float32)\n",
      "[0.9, 0.2, 0.9, 0.1]\n",
      "tf.Tensor([[9.9423850e-01 5.4359394e-03 2.6320599e-04 6.2377490e-05]], shape=(1, 4), dtype=float32)\n"
     ]
    },
    {
     "name": "stderr",
     "output_type": "stream",
     "text": [
      " 36%|█████████████████████████▎                                             | 35701/100000 [7:30:20<8:24:55,  2.12it/s]"
     ]
    },
    {
     "name": "stdout",
     "output_type": "stream",
     "text": [
      "5.139572735290712\n",
      "98\n"
     ]
    },
    {
     "name": "stderr",
     "output_type": "stream",
     "text": [
      " 36%|█████████████████████████▍                                             | 35801/100000 [7:31:02<7:43:27,  2.31it/s]"
     ]
    },
    {
     "name": "stdout",
     "output_type": "stream",
     "text": [
      "4.5698493779177864\n",
      "98\n",
      "[0.7, 0.8, 0.9, 0.1]\n",
      "tf.Tensor([[0.06989841 0.45587948 0.29954773 0.17467439]], shape=(1, 4), dtype=float32)\n",
      "[0.7, 0.6, 0.9, 0.1]\n",
      "tf.Tensor([[0.02181337 0.57786286 0.3016381  0.09868564]], shape=(1, 4), dtype=float32)\n",
      "[0.7, 0.4, 0.9, 0.1]\n",
      "tf.Tensor([[0.00439557 0.8292988  0.14568639 0.02061917]], shape=(1, 4), dtype=float32)\n",
      "[0.7, 0.2, 0.9, 0.1]\n",
      "tf.Tensor([[7.6524616e-04 9.7410655e-01 2.3551160e-02 1.5771153e-03]], shape=(1, 4), dtype=float32)\n",
      "[0.9, 0.2, 0.9, 0.1]\n",
      "tf.Tensor([[3.5499271e-02 9.5680928e-01 7.3651676e-03 3.2635377e-04]], shape=(1, 4), dtype=float32)\n",
      "[0.9, 0.0, 0.9, 0.1]\n",
      "tf.Tensor([[9.9884075e-01 1.0896848e-03 4.7407499e-05 2.2089151e-05]], shape=(1, 4), dtype=float32)\n"
     ]
    },
    {
     "name": "stderr",
     "output_type": "stream",
     "text": [
      " 36%|█████████████████████████▍                                             | 35901/100000 [7:31:44<7:12:10,  2.47it/s]"
     ]
    },
    {
     "name": "stdout",
     "output_type": "stream",
     "text": [
      "4.7902226680309745\n",
      "96\n"
     ]
    },
    {
     "name": "stderr",
     "output_type": "stream",
     "text": [
      " 36%|█████████████████████████▌                                             | 36001/100000 [7:32:25<8:08:29,  2.18it/s]"
     ]
    },
    {
     "name": "stdout",
     "output_type": "stream",
     "text": [
      "5.179237799736591\n",
      "99\n",
      "[0.2, 0.7, 0.9, 0.9]\n",
      "tf.Tensor([[0.14707185 0.30925786 0.32869098 0.21497928]], shape=(1, 4), dtype=float32)\n",
      "[0.5, 0.7, 0.9, 0.9]\n",
      "tf.Tensor([[0.08974648 0.35200006 0.36458868 0.19366483]], shape=(1, 4), dtype=float32)\n",
      "[0.8, 0.7, 0.9, 0.9]\n",
      "tf.Tensor([[0.03747066 0.43926322 0.37128338 0.15198272]], shape=(1, 4), dtype=float32)\n",
      "[0.8, 0.9, 0.9, 0.9]\n",
      "tf.Tensor([[0.00561369 0.7639124  0.19860806 0.03186594]], shape=(1, 4), dtype=float32)\n",
      "[1.0, 0.9, 0.9, 0.9]\n",
      "tf.Tensor([[6.4379192e-04 9.8360634e-01 1.4802943e-02 9.4679173e-04]], shape=(1, 4), dtype=float32)\n",
      "[0.8, 0.9, 0.9, 0.9]\n",
      "tf.Tensor([[9.9431592e-01 5.4523125e-03 1.8234523e-04 4.9423052e-05]], shape=(1, 4), dtype=float32)\n"
     ]
    },
    {
     "name": "stderr",
     "output_type": "stream",
     "text": [
      " 36%|█████████████████████████▋                                             | 36101/100000 [7:33:04<5:07:50,  3.46it/s]"
     ]
    },
    {
     "name": "stdout",
     "output_type": "stream",
     "text": [
      "5.167795820833757\n",
      "88\n"
     ]
    },
    {
     "name": "stderr",
     "output_type": "stream",
     "text": [
      " 36%|█████████████████████████▋                                             | 36201/100000 [7:33:47<8:43:56,  2.03it/s]"
     ]
    },
    {
     "name": "stdout",
     "output_type": "stream",
     "text": [
      "2.987663302324296\n",
      "91\n",
      "[0.7, 0.8, 0.5, 0.7]\n",
      "tf.Tensor([[0.16495118 0.34227276 0.2949705  0.19780558]], shape=(1, 4), dtype=float32)\n",
      "[0.5, 0.8, 0.5, 0.7]\n",
      "tf.Tensor([[0.07396746 0.440989   0.3188273  0.16621631]], shape=(1, 4), dtype=float32)\n",
      "[0.5, 0.6, 0.5, 0.7]\n",
      "tf.Tensor([[0.03855553 0.4914278  0.35125864 0.11875802]], shape=(1, 4), dtype=float32)\n",
      "[0.5, 0.8, 0.5, 0.7]\n",
      "tf.Tensor([[0.00372297 0.8732351  0.11140285 0.01163905]], shape=(1, 4), dtype=float32)\n",
      "[0.5, 0.6, 0.5, 0.7]\n",
      "tf.Tensor([[4.3486655e-03 9.8487306e-01 1.0297715e-02 4.8054775e-04]], shape=(1, 4), dtype=float32)\n",
      "[0.5, 0.8, 0.5, 0.7]\n",
      "tf.Tensor([[9.9883062e-01 1.1102806e-03 3.9537736e-05 1.9524685e-05]], shape=(1, 4), dtype=float32)\n"
     ]
    },
    {
     "name": "stderr",
     "output_type": "stream",
     "text": [
      " 36%|█████████████████████████▊                                             | 36301/100000 [7:34:29<7:36:05,  2.33it/s]"
     ]
    },
    {
     "name": "stdout",
     "output_type": "stream",
     "text": [
      "4.096128597975695\n",
      "88\n"
     ]
    },
    {
     "name": "stderr",
     "output_type": "stream",
     "text": [
      " 36%|█████████████████████████▊                                             | 36401/100000 [7:35:10<7:01:51,  2.51it/s]"
     ]
    },
    {
     "name": "stdout",
     "output_type": "stream",
     "text": [
      "4.525628999931328\n",
      "92\n",
      "[0.6, 0.7, 0.9, 0.9]\n",
      "tf.Tensor([[0.19518243 0.28725234 0.30852097 0.20904428]], shape=(1, 4), dtype=float32)\n",
      "[0.9, 0.7, 0.9, 0.9]\n",
      "tf.Tensor([[0.12036549 0.34979275 0.33199567 0.19784604]], shape=(1, 4), dtype=float32)\n"
     ]
    },
    {
     "name": "stderr",
     "output_type": "stream",
     "text": [
      " 37%|█████████████████████████▉                                             | 36501/100000 [7:35:52<7:29:41,  2.35it/s]"
     ]
    },
    {
     "name": "stdout",
     "output_type": "stream",
     "text": [
      "4.220805970272142\n",
      "92\n"
     ]
    },
    {
     "name": "stderr",
     "output_type": "stream",
     "text": [
      " 37%|█████████████████████████▉                                             | 36601/100000 [7:36:33<7:02:12,  2.50it/s]"
     ]
    },
    {
     "name": "stdout",
     "output_type": "stream",
     "text": [
      "5.0918001035641565\n",
      "90\n",
      "[0.3, 0.2, 0.5, 0.7]\n",
      "tf.Tensor([[0.2085906  0.29065835 0.27670103 0.22405006]], shape=(1, 4), dtype=float32)\n",
      "[0.3, 0.4, 0.5, 0.7]\n",
      "tf.Tensor([[0.15403563 0.3241978  0.30670276 0.21506378]], shape=(1, 4), dtype=float32)\n",
      "[0.3, 0.6, 0.5, 0.7]\n",
      "tf.Tensor([[0.09336679 0.35352916 0.35731673 0.19578733]], shape=(1, 4), dtype=float32)\n",
      "[0.6, 0.6, 0.5, 0.7]\n",
      "tf.Tensor([[0.0271653  0.5027052  0.3589868  0.11114272]], shape=(1, 4), dtype=float32)\n",
      "[0.6, 0.8, 0.5, 0.7]\n",
      "tf.Tensor([[0.00161351 0.96782523 0.02804376 0.00251746]], shape=(1, 4), dtype=float32)\n",
      "[0.4, 0.8, 0.5, 0.7]\n",
      "tf.Tensor([[9.9133742e-01 8.3927996e-03 2.1545726e-04 5.4369000e-05]], shape=(1, 4), dtype=float32)\n",
      "[0.5, 0.8, 0.5, 0.7]\n",
      "tf.Tensor([[9.9735701e-01 2.5519361e-03 6.6947432e-05 2.4106868e-05]], shape=(1, 4), dtype=float32)\n"
     ]
    },
    {
     "name": "stderr",
     "output_type": "stream",
     "text": [
      " 37%|██████████████████████████                                             | 36701/100000 [7:37:14<7:21:44,  2.39it/s]"
     ]
    },
    {
     "name": "stdout",
     "output_type": "stream",
     "text": [
      "4.638825175900957\n",
      "94\n"
     ]
    },
    {
     "name": "stderr",
     "output_type": "stream",
     "text": [
      " 37%|██████████████████████████▏                                            | 36801/100000 [7:37:54<7:29:19,  2.34it/s]"
     ]
    },
    {
     "name": "stdout",
     "output_type": "stream",
     "text": [
      "4.554142029803605\n",
      "93\n",
      "[0.3, 0.1, 0.5, 0.3]\n",
      "tf.Tensor([[0.19978091 0.30970392 0.2752807  0.21523446]], shape=(1, 4), dtype=float32)\n",
      "[0.3, 0.3, 0.5, 0.3]\n",
      "tf.Tensor([[0.15617834 0.31803966 0.32003403 0.20574793]], shape=(1, 4), dtype=float32)\n",
      "[0.6, 0.3, 0.5, 0.3]\n",
      "tf.Tensor([[0.09638438 0.38915807 0.32950103 0.18495658]], shape=(1, 4), dtype=float32)\n",
      "[0.4, 0.3, 0.5, 0.3]\n",
      "tf.Tensor([[0.02281306 0.5283155  0.35161027 0.09726111]], shape=(1, 4), dtype=float32)\n",
      "[0.6, 0.3, 0.5, 0.3]\n",
      "tf.Tensor([[0.00190776 0.9716381  0.02420053 0.00225361]], shape=(1, 4), dtype=float32)\n",
      "[0.4, 0.3, 0.5, 0.3]\n",
      "tf.Tensor([[9.9812812e-01 1.7926231e-03 5.7243869e-05 2.1990420e-05]], shape=(1, 4), dtype=float32)\n"
     ]
    },
    {
     "name": "stderr",
     "output_type": "stream",
     "text": [
      " 37%|██████████████████████████▏                                            | 36902/100000 [7:38:35<6:13:21,  2.82it/s]"
     ]
    },
    {
     "name": "stdout",
     "output_type": "stream",
     "text": [
      "4.660441078738049\n",
      "91\n"
     ]
    },
    {
     "name": "stderr",
     "output_type": "stream",
     "text": [
      " 37%|██████████████████████████▎                                            | 37001/100000 [7:39:17<8:18:59,  2.10it/s]"
     ]
    },
    {
     "name": "stdout",
     "output_type": "stream",
     "text": [
      "4.638869352387716\n",
      "92\n",
      "[0.7, 0.0, 0.9, 0.9]\n",
      "tf.Tensor([[0.19376928 0.32555622 0.2596254  0.22104909]], shape=(1, 4), dtype=float32)\n",
      "[0.7, 0.2, 0.9, 0.9]\n",
      "tf.Tensor([[0.13538723 0.3633313  0.2903525  0.21092902]], shape=(1, 4), dtype=float32)\n",
      "[0.7, 0.4, 0.9, 0.9]\n",
      "tf.Tensor([[0.07076683 0.42796665 0.31277826 0.1884882 ]], shape=(1, 4), dtype=float32)\n",
      "[0.7, 0.6, 0.9, 0.9]\n",
      "tf.Tensor([[0.01712412 0.652388   0.26429954 0.06618837]], shape=(1, 4), dtype=float32)\n",
      "[0.7, 0.8, 0.9, 0.9]\n",
      "tf.Tensor([[1.3669973e-03 9.8915571e-01 8.7731248e-03 7.0414116e-04]], shape=(1, 4), dtype=float32)\n",
      "[0.9, 0.8, 0.9, 0.9]\n",
      "tf.Tensor([[9.9798954e-01 1.9289980e-03 5.9553637e-05 2.1943981e-05]], shape=(1, 4), dtype=float32)\n"
     ]
    },
    {
     "name": "stderr",
     "output_type": "stream",
     "text": [
      " 37%|██████████████████████████▎                                            | 37101/100000 [7:39:56<7:04:51,  2.47it/s]"
     ]
    },
    {
     "name": "stdout",
     "output_type": "stream",
     "text": [
      "4.466555016969708\n",
      "93\n"
     ]
    },
    {
     "name": "stderr",
     "output_type": "stream",
     "text": [
      " 37%|██████████████████████████▍                                            | 37201/100000 [7:40:37<6:21:04,  2.75it/s]"
     ]
    },
    {
     "name": "stdout",
     "output_type": "stream",
     "text": [
      "4.149168738935355\n",
      "89\n",
      "[0.3, 0.3, 0.1, 0.9]\n",
      "tf.Tensor([[0.18195699 0.3372344  0.2656264  0.21518216]], shape=(1, 4), dtype=float32)\n",
      "[0.3, 0.5, 0.1, 0.9]\n",
      "tf.Tensor([[0.12396411 0.38144836 0.29423988 0.20034759]], shape=(1, 4), dtype=float32)\n",
      "[0.3, 0.7, 0.1, 0.9]\n",
      "tf.Tensor([[0.06124893 0.46058187 0.30936944 0.16879974]], shape=(1, 4), dtype=float32)\n",
      "[0.3, 0.9, 0.1, 0.9]\n",
      "tf.Tensor([[0.01352732 0.69844395 0.24029708 0.04773158]], shape=(1, 4), dtype=float32)\n"
     ]
    },
    {
     "name": "stderr",
     "output_type": "stream",
     "text": [
      " 37%|██████████████████████████▍                                            | 37302/100000 [7:41:18<5:00:52,  3.47it/s]"
     ]
    },
    {
     "name": "stdout",
     "output_type": "stream",
     "text": [
      "5.066188738069347\n",
      "90\n"
     ]
    },
    {
     "name": "stderr",
     "output_type": "stream",
     "text": [
      " 37%|██████████████████████████▌                                            | 37401/100000 [7:41:59<6:29:19,  2.68it/s]"
     ]
    },
    {
     "name": "stdout",
     "output_type": "stream",
     "text": [
      "5.419782991976833\n",
      "92\n",
      "[0.2, 0.4, 0.5, 0.3]\n",
      "tf.Tensor([[0.2187242  0.28228503 0.2697605  0.22923028]], shape=(1, 4), dtype=float32)\n",
      "[0.4, 0.4, 0.5, 0.3]\n",
      "tf.Tensor([[0.15191783 0.3249053  0.30703372 0.2161431 ]], shape=(1, 4), dtype=float32)\n",
      "[0.6, 0.4, 0.5, 0.3]\n",
      "tf.Tensor([[0.0732087  0.4209897  0.3242144  0.18158714]], shape=(1, 4), dtype=float32)\n",
      "[0.4, 0.4, 0.5, 0.3]\n",
      "tf.Tensor([[0.01066875 0.7278005  0.22111411 0.04041663]], shape=(1, 4), dtype=float32)\n",
      "[0.6, 0.4, 0.5, 0.3]\n",
      "tf.Tensor([[1.3481806e-03 9.8894823e-01 9.1152405e-03 5.8833562e-04]], shape=(1, 4), dtype=float32)\n",
      "[0.4, 0.4, 0.5, 0.3]\n",
      "tf.Tensor([[9.9922848e-01 7.3462521e-04 2.5472098e-05 1.1428770e-05]], shape=(1, 4), dtype=float32)\n",
      "[0.5, 0.4, 0.5, 0.3]\n",
      "tf.Tensor([[9.9938524e-01 5.8534223e-04 1.9563753e-05 9.8687797e-06]], shape=(1, 4), dtype=float32)\n"
     ]
    },
    {
     "name": "stderr",
     "output_type": "stream",
     "text": [
      " 38%|██████████████████████████▋                                            | 37501/100000 [7:42:40<7:30:01,  2.31it/s]"
     ]
    },
    {
     "name": "stdout",
     "output_type": "stream",
     "text": [
      "5.056147830751669\n",
      "92\n"
     ]
    },
    {
     "name": "stderr",
     "output_type": "stream",
     "text": [
      " 38%|██████████████████████████▋                                            | 37601/100000 [7:43:20<6:26:47,  2.69it/s]"
     ]
    },
    {
     "name": "stdout",
     "output_type": "stream",
     "text": [
      "4.832969751990621\n",
      "91\n",
      "[0.9, 0.7, 0.9, 0.9]\n",
      "tf.Tensor([[0.16337147 0.35352185 0.26058593 0.22252078]], shape=(1, 4), dtype=float32)\n"
     ]
    },
    {
     "name": "stderr",
     "output_type": "stream",
     "text": [
      " 38%|██████████████████████████▊                                            | 37701/100000 [7:44:02<7:34:53,  2.28it/s]"
     ]
    },
    {
     "name": "stdout",
     "output_type": "stream",
     "text": [
      "4.756308393882582\n",
      "91\n"
     ]
    },
    {
     "name": "stderr",
     "output_type": "stream",
     "text": [
      " 38%|██████████████████████████▊                                            | 37801/100000 [7:44:44<7:57:16,  2.17it/s]"
     ]
    },
    {
     "name": "stdout",
     "output_type": "stream",
     "text": [
      "4.655024138037097\n",
      "90\n",
      "[0.6, 0.7, 0.5, 0.7]\n",
      "tf.Tensor([[0.18032444 0.33628845 0.2652847  0.21810235]], shape=(1, 4), dtype=float32)\n",
      "[0.4, 0.7, 0.5, 0.7]\n",
      "tf.Tensor([[0.11386501 0.37014806 0.313956   0.20203097]], shape=(1, 4), dtype=float32)\n",
      "[0.6, 0.7, 0.5, 0.7]\n",
      "tf.Tensor([[0.04733384 0.5004265  0.32213035 0.13010931]], shape=(1, 4), dtype=float32)\n",
      "[0.4, 0.7, 0.5, 0.7]\n",
      "tf.Tensor([[0.0037192  0.88819647 0.09692147 0.01116281]], shape=(1, 4), dtype=float32)\n",
      "[0.6, 0.7, 0.5, 0.7]\n",
      "tf.Tensor([[4.0964293e-03 9.8865473e-01 6.9871498e-03 2.6159603e-04]], shape=(1, 4), dtype=float32)\n",
      "[0.4, 0.7, 0.5, 0.7]\n",
      "tf.Tensor([[9.9938238e-01 5.8972783e-04 1.8329507e-05 9.5361765e-06]], shape=(1, 4), dtype=float32)\n"
     ]
    },
    {
     "name": "stderr",
     "output_type": "stream",
     "text": [
      " 38%|██████████████████████████▉                                            | 37901/100000 [7:45:27<7:35:28,  2.27it/s]"
     ]
    },
    {
     "name": "stdout",
     "output_type": "stream",
     "text": [
      "4.255558715649937\n",
      "90\n"
     ]
    },
    {
     "name": "stderr",
     "output_type": "stream",
     "text": [
      " 38%|██████████████████████████▉                                            | 38001/100000 [7:46:09<7:42:14,  2.24it/s]"
     ]
    },
    {
     "name": "stdout",
     "output_type": "stream",
     "text": [
      "4.8468200942323865\n",
      "90\n",
      "[0.6, 0.2, 0.1, 0.9]\n",
      "tf.Tensor([[0.19160205 0.31840345 0.255189   0.23480546]], shape=(1, 4), dtype=float32)\n",
      "[0.6, 0.4, 0.1, 0.9]\n",
      "tf.Tensor([[0.13399391 0.35838237 0.28537527 0.2222485 ]], shape=(1, 4), dtype=float32)\n",
      "[0.6, 0.6, 0.1, 0.9]\n",
      "tf.Tensor([[0.07692979 0.42372844 0.3084358  0.19090597]], shape=(1, 4), dtype=float32)\n",
      "[0.4, 0.6, 0.1, 0.9]\n",
      "tf.Tensor([[0.02003583 0.5907747  0.30621868 0.08297087]], shape=(1, 4), dtype=float32)\n",
      "[0.4, 0.8, 0.1, 0.9]\n",
      "tf.Tensor([[0.00155886 0.9834366  0.01397025 0.00103429]], shape=(1, 4), dtype=float32)\n",
      "[0.2, 0.8, 0.1, 0.9]\n",
      "tf.Tensor([[9.9797636e-01 1.9355539e-03 6.3813248e-05 2.4262343e-05]], shape=(1, 4), dtype=float32)\n",
      "[0.2, 0.9, 0.1, 0.9]\n",
      "tf.Tensor([[9.9862123e-01 1.3159687e-03 4.3517779e-05 1.9337989e-05]], shape=(1, 4), dtype=float32)\n"
     ]
    },
    {
     "name": "stderr",
     "output_type": "stream",
     "text": [
      " 38%|███████████████████████████                                            | 38101/100000 [7:46:46<4:59:50,  3.44it/s]"
     ]
    },
    {
     "name": "stdout",
     "output_type": "stream",
     "text": [
      "4.06847176193001\n",
      "73\n"
     ]
    },
    {
     "name": "stderr",
     "output_type": "stream",
     "text": [
      " 38%|███████████████████████████                                            | 38201/100000 [7:47:24<7:57:12,  2.16it/s]"
     ]
    },
    {
     "name": "stdout",
     "output_type": "stream",
     "text": [
      "1.9672631069486268\n",
      "68\n",
      "[0.4, 0.6, 0.9, 0.9]\n",
      "tf.Tensor([[0.1339855  0.39874798 0.25366896 0.21359752]], shape=(1, 4), dtype=float32)\n",
      "[0.6, 0.6, 0.9, 0.9]\n",
      "tf.Tensor([[0.08235908 0.44758928 0.2796852  0.1903664 ]], shape=(1, 4), dtype=float32)\n",
      "[0.8, 0.6, 0.9, 0.9]\n",
      "tf.Tensor([[0.03644663 0.52724457 0.28824928 0.14805956]], shape=(1, 4), dtype=float32)\n",
      "[0.8, 0.8, 0.9, 0.9]\n",
      "tf.Tensor([[0.00498871 0.7716268  0.19115824 0.0322262 ]], shape=(1, 4), dtype=float32)\n",
      "[1.0, 0.8, 0.9, 0.9]\n",
      "tf.Tensor([[6.878804e-04 9.910047e-01 7.797610e-03 5.097289e-04]], shape=(1, 4), dtype=float32)\n",
      "[1.0, 1.0, 0.9, 0.9]\n",
      "tf.Tensor([[9.9920517e-01 7.5582118e-04 2.6501080e-05 1.2592028e-05]], shape=(1, 4), dtype=float32)\n",
      "[0.9, 1.0, 0.9, 0.9]\n",
      "tf.Tensor([[9.9936718e-01 6.0459727e-04 1.8939558e-05 9.2528335e-06]], shape=(1, 4), dtype=float32)\n"
     ]
    },
    {
     "name": "stderr",
     "output_type": "stream",
     "text": [
      " 38%|███████████████████████████▏                                           | 38301/100000 [7:48:03<6:53:01,  2.49it/s]"
     ]
    },
    {
     "name": "stdout",
     "output_type": "stream",
     "text": [
      "2.2592654028056605\n",
      "71\n"
     ]
    },
    {
     "name": "stderr",
     "output_type": "stream",
     "text": [
      " 38%|███████████████████████████▎                                           | 38401/100000 [7:48:42<7:41:55,  2.22it/s]"
     ]
    },
    {
     "name": "stdout",
     "output_type": "stream",
     "text": [
      "1.9481521100711865\n",
      "70\n",
      "[0.4, 0.4, 0.1, 0.9]\n",
      "tf.Tensor([[0.12707464 0.44526684 0.22789814 0.19976038]], shape=(1, 4), dtype=float32)\n",
      "[0.4, 0.6, 0.1, 0.9]\n",
      "tf.Tensor([[0.08147469 0.49367926 0.24513654 0.17970951]], shape=(1, 4), dtype=float32)\n",
      "[0.4, 0.8, 0.1, 0.9]\n",
      "tf.Tensor([[0.04297299 0.56526667 0.25329992 0.1384604 ]], shape=(1, 4), dtype=float32)\n",
      "[0.2, 0.8, 0.1, 0.9]\n",
      "tf.Tensor([[0.01143259 0.68752265 0.24463958 0.05640519]], shape=(1, 4), dtype=float32)\n",
      "[0.2, 1.0, 0.1, 0.9]\n",
      "tf.Tensor([[0.00143201 0.9807962  0.01674066 0.00103116]], shape=(1, 4), dtype=float32)\n",
      "[0.0, 1.0, 0.1, 0.9]\n",
      "tf.Tensor([[9.9940121e-01 5.6509906e-04 2.3372910e-05 1.0330621e-05]], shape=(1, 4), dtype=float32)\n",
      "[0.1, 1.0, 0.1, 0.9]\n",
      "tf.Tensor([[9.9958760e-01 3.8931755e-04 1.5285405e-05 7.8815074e-06]], shape=(1, 4), dtype=float32)\n"
     ]
    },
    {
     "name": "stderr",
     "output_type": "stream",
     "text": [
      " 39%|███████████████████████████▎                                           | 38501/100000 [7:49:21<6:15:01,  2.73it/s]"
     ]
    },
    {
     "name": "stdout",
     "output_type": "stream",
     "text": [
      "2.4979737743643353\n",
      "62\n"
     ]
    },
    {
     "name": "stderr",
     "output_type": "stream",
     "text": [
      " 39%|███████████████████████████▍                                           | 38601/100000 [7:50:01<7:01:37,  2.43it/s]"
     ]
    },
    {
     "name": "stdout",
     "output_type": "stream",
     "text": [
      "3.0241345731665796\n",
      "64\n",
      "[0.8, 0.0, 0.1, 0.1]\n",
      "tf.Tensor([[0.17000382 0.39878806 0.23119196 0.20001623]], shape=(1, 4), dtype=float32)\n",
      "[0.6, 0.0, 0.1, 0.1]\n",
      "tf.Tensor([[0.13138947 0.42612222 0.2531443  0.18934396]], shape=(1, 4), dtype=float32)\n",
      "[0.4, 0.0, 0.1, 0.1]\n",
      "tf.Tensor([[0.09165767 0.46776065 0.2660565  0.17452519]], shape=(1, 4), dtype=float32)\n",
      "[0.2, 0.0, 0.1, 0.1]\n",
      "tf.Tensor([[0.0406776  0.5534312  0.29080802 0.11508314]], shape=(1, 4), dtype=float32)\n",
      "[0.2, 0.2, 0.1, 0.1]\n",
      "tf.Tensor([[0.0059746  0.9494518  0.04086714 0.00370642]], shape=(1, 4), dtype=float32)\n",
      "[0.0, 0.2, 0.1, 0.1]\n",
      "tf.Tensor([[9.9946731e-01 5.0024810e-04 2.2025321e-05 1.0398232e-05]], shape=(1, 4), dtype=float32)\n",
      "[0.1, 0.2, 0.1, 0.1]\n",
      "tf.Tensor([[9.9944884e-01 5.1822688e-04 2.1979045e-05 1.0952155e-05]], shape=(1, 4), dtype=float32)\n"
     ]
    },
    {
     "name": "stderr",
     "output_type": "stream",
     "text": [
      " 39%|███████████████████████████▍                                           | 38701/100000 [7:50:41<6:59:01,  2.44it/s]"
     ]
    },
    {
     "name": "stdout",
     "output_type": "stream",
     "text": [
      "1.5479935051774305\n",
      "69\n"
     ]
    },
    {
     "name": "stderr",
     "output_type": "stream",
     "text": [
      " 39%|███████████████████████████▌                                           | 38801/100000 [7:51:20<7:06:09,  2.39it/s]"
     ]
    },
    {
     "name": "stdout",
     "output_type": "stream",
     "text": [
      "2.327069201351246\n",
      "67\n",
      "[0.6, 0.1, 0.5, 0.7]\n",
      "tf.Tensor([[0.17345153 0.42187572 0.2212712  0.18340151]], shape=(1, 4), dtype=float32)\n",
      "[0.6, 0.3, 0.5, 0.7]\n",
      "tf.Tensor([[0.12059684 0.46538833 0.2439862  0.17002861]], shape=(1, 4), dtype=float32)\n",
      "[0.6, 0.5, 0.5, 0.7]\n",
      "tf.Tensor([[0.06485905 0.5307019  0.2567884  0.14765067]], shape=(1, 4), dtype=float32)\n",
      "[0.6, 0.7, 0.5, 0.7]\n",
      "tf.Tensor([[0.01963693 0.65645    0.26272738 0.06118576]], shape=(1, 4), dtype=float32)\n",
      "[0.4, 0.7, 0.5, 0.7]\n",
      "tf.Tensor([[1.1845720e-03 9.8507637e-01 1.2897500e-02 8.4162387e-04]], shape=(1, 4), dtype=float32)\n",
      "[0.6, 0.7, 0.5, 0.7]\n",
      "tf.Tensor([[9.9904233e-01 9.0750592e-04 3.3886801e-05 1.6234739e-05]], shape=(1, 4), dtype=float32)\n"
     ]
    },
    {
     "name": "stderr",
     "output_type": "stream",
     "text": [
      " 39%|███████████████████████████▌                                           | 38901/100000 [7:51:58<5:40:50,  2.99it/s]"
     ]
    },
    {
     "name": "stdout",
     "output_type": "stream",
     "text": [
      "3.4730890133045023\n",
      "69\n"
     ]
    },
    {
     "name": "stderr",
     "output_type": "stream",
     "text": [
      " 39%|███████████████████████████▋                                           | 39001/100000 [7:52:36<7:15:37,  2.33it/s]"
     ]
    },
    {
     "name": "stdout",
     "output_type": "stream",
     "text": [
      "1.9514733179900905\n",
      "60\n",
      "[0.1, 0.1, 0.1, 0.9]\n",
      "tf.Tensor([[0.17937233 0.44323888 0.20916097 0.16822787]], shape=(1, 4), dtype=float32)\n",
      "[0.1, 0.3, 0.1, 0.9]\n",
      "tf.Tensor([[0.1310885  0.49036017 0.22226459 0.15628672]], shape=(1, 4), dtype=float32)\n",
      "[0.1, 0.5, 0.1, 0.9]\n",
      "tf.Tensor([[0.07883818 0.55353653 0.22837959 0.13924557]], shape=(1, 4), dtype=float32)\n",
      "[0.1, 0.7, 0.1, 0.9]\n",
      "tf.Tensor([[0.0273568  0.6660445  0.23081502 0.07578371]], shape=(1, 4), dtype=float32)\n"
     ]
    },
    {
     "name": "stderr",
     "output_type": "stream",
     "text": [
      " 39%|███████████████████████████▊                                           | 39101/100000 [7:53:15<7:11:39,  2.35it/s]"
     ]
    },
    {
     "name": "stdout",
     "output_type": "stream",
     "text": [
      "2.8089765879341764\n",
      "70\n"
     ]
    },
    {
     "name": "stderr",
     "output_type": "stream",
     "text": [
      " 39%|███████████████████████████▊                                           | 39201/100000 [7:53:53<5:52:01,  2.88it/s]"
     ]
    },
    {
     "name": "stdout",
     "output_type": "stream",
     "text": [
      "3.3616803892631473\n",
      "75\n",
      "[0.1, 0.0, 0.1, 0.9]\n",
      "tf.Tensor([[0.18452723 0.45304695 0.20211981 0.16030602]], shape=(1, 4), dtype=float32)\n",
      "[0.1, 0.2, 0.1, 0.9]\n",
      "tf.Tensor([[0.14013563 0.49366358 0.21658868 0.14961217]], shape=(1, 4), dtype=float32)\n",
      "[0.1, 0.4, 0.1, 0.9]\n",
      "tf.Tensor([[0.08968205 0.5507958  0.22434413 0.13517801]], shape=(1, 4), dtype=float32)\n",
      "[0.1, 0.6, 0.1, 0.9]\n",
      "tf.Tensor([[0.03643637 0.6448776  0.23466268 0.08402327]], shape=(1, 4), dtype=float32)\n",
      "[0.1, 0.8, 0.1, 0.9]\n",
      "tf.Tensor([[0.0032482  0.9313596  0.05964161 0.00575061]], shape=(1, 4), dtype=float32)\n",
      "[0.1, 1.0, 0.1, 0.9]\n",
      "tf.Tensor([[9.9752074e-01 2.3680204e-03 8.3777893e-05 2.7344109e-05]], shape=(1, 4), dtype=float32)\n"
     ]
    },
    {
     "name": "stderr",
     "output_type": "stream",
     "text": [
      " 39%|███████████████████████████▉                                           | 39301/100000 [7:54:32<5:39:20,  2.98it/s]"
     ]
    },
    {
     "name": "stdout",
     "output_type": "stream",
     "text": [
      "2.5473548693197983\n",
      "69\n"
     ]
    },
    {
     "name": "stderr",
     "output_type": "stream",
     "text": [
      " 39%|███████████████████████████▉                                           | 39401/100000 [7:55:10<6:53:21,  2.44it/s]"
     ]
    },
    {
     "name": "stdout",
     "output_type": "stream",
     "text": [
      "3.213079285195361\n",
      "77\n",
      "[0.1, 0.7, 0.9, 0.1]\n",
      "tf.Tensor([[0.17279637 0.45509532 0.21596988 0.15613844]], shape=(1, 4), dtype=float32)\n",
      "[0.3, 0.7, 0.9, 0.1]\n",
      "tf.Tensor([[0.09616346 0.5332716  0.23443544 0.13612942]], shape=(1, 4), dtype=float32)\n",
      "[0.5, 0.7, 0.9, 0.1]\n",
      "tf.Tensor([[0.01908878 0.72243434 0.20987539 0.04860146]], shape=(1, 4), dtype=float32)\n",
      "[0.5, 0.5, 0.9, 0.1]\n",
      "tf.Tensor([[0.00244761 0.96319324 0.03199726 0.0023619 ]], shape=(1, 4), dtype=float32)\n",
      "[0.7, 0.5, 0.9, 0.1]\n",
      "tf.Tensor([[9.6129608e-01 3.7899643e-02 6.9377071e-04 1.1042091e-04]], shape=(1, 4), dtype=float32)\n",
      "[0.7, 0.4, 0.9, 0.1]\n",
      "tf.Tensor([[9.9984014e-01 1.5082945e-04 5.1639649e-06 3.8861990e-06]], shape=(1, 4), dtype=float32)\n",
      "[0.7, 0.3, 0.9, 0.1]\n",
      "tf.Tensor([[9.9984336e-01 1.4752014e-04 5.2419668e-06 3.7806376e-06]], shape=(1, 4), dtype=float32)\n",
      "[0.8, 0.3, 0.9, 0.1]\n",
      "tf.Tensor([[9.9985492e-01 1.3676212e-04 4.6876576e-06 3.6456856e-06]], shape=(1, 4), dtype=float32)\n",
      "[0.8, 0.2, 0.9, 0.1]\n",
      "tf.Tensor([[9.9984264e-01 1.4824353e-04 5.3033800e-06 3.8008325e-06]], shape=(1, 4), dtype=float32)\n",
      "[0.9, 0.2, 0.9, 0.1]\n",
      "tf.Tensor([[9.9985683e-01 1.3495576e-04 4.6278119e-06 3.6029269e-06]], shape=(1, 4), dtype=float32)\n"
     ]
    },
    {
     "name": "stderr",
     "output_type": "stream",
     "text": [
      " 40%|████████████████████████████                                           | 39501/100000 [7:55:47<6:56:05,  2.42it/s]"
     ]
    },
    {
     "name": "stdout",
     "output_type": "stream",
     "text": [
      "3.795332883436891\n",
      "80\n"
     ]
    },
    {
     "name": "stderr",
     "output_type": "stream",
     "text": [
      " 40%|████████████████████████████                                           | 39601/100000 [7:56:24<6:30:04,  2.58it/s]"
     ]
    },
    {
     "name": "stdout",
     "output_type": "stream",
     "text": [
      "4.81478592288369\n",
      "77\n",
      "[0.9, 0.4, 0.9, 0.9]\n",
      "tf.Tensor([[0.13341825 0.49969143 0.21330248 0.15358774]], shape=(1, 4), dtype=float32)\n",
      "[0.9, 0.6, 0.9, 0.9]\n",
      "tf.Tensor([[0.05845011 0.60387045 0.22712657 0.11055287]], shape=(1, 4), dtype=float32)\n",
      "[0.9, 0.8, 0.9, 0.9]\n",
      "tf.Tensor([[0.01337746 0.78899944 0.16665629 0.03096679]], shape=(1, 4), dtype=float32)\n",
      "[0.9, 1.0, 0.9, 0.9]\n",
      "tf.Tensor([[4.9959770e-03 9.8297060e-01 1.1364617e-02 6.6884392e-04]], shape=(1, 4), dtype=float32)\n",
      "[0.9, 0.8, 0.9, 0.9]\n",
      "tf.Tensor([[9.9461234e-01 5.1920931e-03 1.6188476e-04 3.3788958e-05]], shape=(1, 4), dtype=float32)\n"
     ]
    },
    {
     "name": "stderr",
     "output_type": "stream",
     "text": [
      " 40%|████████████████████████████▏                                          | 39701/100000 [7:57:00<6:48:41,  2.46it/s]"
     ]
    },
    {
     "name": "stdout",
     "output_type": "stream",
     "text": [
      "4.269971814565976\n",
      "86\n"
     ]
    },
    {
     "name": "stderr",
     "output_type": "stream",
     "text": [
      " 40%|████████████████████████████▎                                          | 39801/100000 [7:57:38<7:08:33,  2.34it/s]"
     ]
    },
    {
     "name": "stdout",
     "output_type": "stream",
     "text": [
      "0.9635469700528898\n",
      "72\n",
      "[0.9, 0.4, 0.9, 0.9]\n",
      "tf.Tensor([[0.10348698 0.5292929  0.21127313 0.15594707]], shape=(1, 4), dtype=float32)\n",
      "[0.9, 0.6, 0.9, 0.9]\n",
      "tf.Tensor([[0.03898926 0.6484539  0.22056025 0.09199661]], shape=(1, 4), dtype=float32)\n",
      "[0.9, 0.8, 0.9, 0.9]\n",
      "tf.Tensor([[0.00719918 0.891112   0.08850367 0.01318505]], shape=(1, 4), dtype=float32)\n",
      "[0.9, 1.0, 0.9, 0.9]\n",
      "tf.Tensor([[2.4452886e-02 9.6528339e-01 9.7706988e-03 4.9311912e-04]], shape=(1, 4), dtype=float32)\n",
      "[0.9, 0.8, 0.9, 0.9]\n",
      "tf.Tensor([[9.9929893e-01 6.6515524e-04 2.6093139e-05 9.7161992e-06]], shape=(1, 4), dtype=float32)\n"
     ]
    },
    {
     "name": "stderr",
     "output_type": "stream",
     "text": [
      " 40%|████████████████████████████▎                                          | 39901/100000 [7:58:16<7:20:52,  2.27it/s]"
     ]
    },
    {
     "name": "stdout",
     "output_type": "stream",
     "text": [
      "2.6994298243292834\n",
      "78\n"
     ]
    },
    {
     "name": "stderr",
     "output_type": "stream",
     "text": [
      " 40%|████████████████████████████▍                                          | 40001/100000 [7:58:53<5:55:05,  2.82it/s]"
     ]
    },
    {
     "name": "stdout",
     "output_type": "stream",
     "text": [
      "3.437793442175982\n",
      "84\n",
      "[0.5, 0.2, 0.1, 0.1]\n",
      "tf.Tensor([[0.10309454 0.54105103 0.20280512 0.15304926]], shape=(1, 4), dtype=float32)\n",
      "[0.3, 0.2, 0.1, 0.1]\n",
      "tf.Tensor([[0.05433486 0.6340489  0.20713264 0.10448366]], shape=(1, 4), dtype=float32)\n",
      "[0.1, 0.2, 0.1, 0.1]\n",
      "tf.Tensor([[0.01071536 0.89025545 0.08425488 0.01477431]], shape=(1, 4), dtype=float32)\n",
      "[0.1, 0.0, 0.1, 0.1]\n",
      "tf.Tensor([[0.08605519 0.88612026 0.02590367 0.00192089]], shape=(1, 4), dtype=float32)\n",
      "[0.1, 0.2, 0.1, 0.1]\n",
      "tf.Tensor([[9.9971730e-01 2.6106989e-04 1.4378164e-05 7.2053804e-06]], shape=(1, 4), dtype=float32)\n"
     ]
    },
    {
     "name": "stderr",
     "output_type": "stream",
     "text": [
      " 40%|████████████████████████████▍                                          | 40101/100000 [7:59:29<6:08:33,  2.71it/s]"
     ]
    },
    {
     "name": "stdout",
     "output_type": "stream",
     "text": [
      "3.942780005370116\n",
      "83\n"
     ]
    },
    {
     "name": "stderr",
     "output_type": "stream",
     "text": [
      " 40%|████████████████████████████▌                                          | 40201/100000 [8:00:06<6:25:31,  2.59it/s]"
     ]
    },
    {
     "name": "stdout",
     "output_type": "stream",
     "text": [
      "3.585910778219472\n",
      "75\n",
      "[0.3, 0.6, 0.5, 0.3]\n",
      "tf.Tensor([[0.07432352 0.61193985 0.17830679 0.1354299 ]], shape=(1, 4), dtype=float32)\n",
      "[0.3, 0.4, 0.5, 0.3]\n",
      "tf.Tensor([[0.03243756 0.6743363  0.20874482 0.08448132]], shape=(1, 4), dtype=float32)\n",
      "[0.5, 0.4, 0.5, 0.3]\n",
      "tf.Tensor([[0.00438994 0.9411985  0.04828998 0.00612153]], shape=(1, 4), dtype=float32)\n",
      "[0.5, 0.2, 0.5, 0.3]\n",
      "tf.Tensor([[0.12523063 0.8622186  0.01167366 0.00087709]], shape=(1, 4), dtype=float32)\n",
      "[0.5, 0.4, 0.5, 0.3]\n",
      "tf.Tensor([[9.9983335e-01 1.5561578e-04 6.7554843e-06 4.1144140e-06]], shape=(1, 4), dtype=float32)\n"
     ]
    },
    {
     "name": "stderr",
     "output_type": "stream",
     "text": [
      " 40%|████████████████████████████▌                                          | 40301/100000 [8:00:42<6:00:25,  2.76it/s]"
     ]
    },
    {
     "name": "stdout",
     "output_type": "stream",
     "text": [
      "4.154354159778359\n",
      "82\n"
     ]
    },
    {
     "name": "stderr",
     "output_type": "stream",
     "text": [
      " 40%|████████████████████████████▋                                          | 40401/100000 [8:01:18<7:00:40,  2.36it/s]"
     ]
    },
    {
     "name": "stdout",
     "output_type": "stream",
     "text": [
      "5.1987820122528525\n",
      "88\n",
      "[0.7, 0.5, 0.1, 0.9]\n",
      "tf.Tensor([[0.12583269 0.51543385 0.20139731 0.15733607]], shape=(1, 4), dtype=float32)\n",
      "[0.5, 0.5, 0.1, 0.9]\n",
      "tf.Tensor([[0.05799969 0.61092615 0.20848064 0.12259354]], shape=(1, 4), dtype=float32)\n",
      "[0.5, 0.7, 0.1, 0.9]\n",
      "tf.Tensor([[0.01542906 0.8049256  0.14586312 0.03378227]], shape=(1, 4), dtype=float32)\n",
      "[0.3, 0.7, 0.1, 0.9]\n",
      "tf.Tensor([[0.01217514 0.9684004  0.0180466  0.00137783]], shape=(1, 4), dtype=float32)\n",
      "[0.3, 0.9, 0.1, 0.9]\n",
      "tf.Tensor([[9.9916542e-01 7.8023848e-04 3.9196442e-05 1.5157850e-05]], shape=(1, 4), dtype=float32)\n",
      "[0.2, 0.9, 0.1, 0.9]\n",
      "tf.Tensor([[9.9988782e-01 1.0382819e-04 4.7661365e-06 3.5874928e-06]], shape=(1, 4), dtype=float32)\n"
     ]
    },
    {
     "name": "stderr",
     "output_type": "stream",
     "text": [
      " 41%|████████████████████████████▊                                          | 40502/100000 [8:01:55<4:35:06,  3.60it/s]"
     ]
    },
    {
     "name": "stdout",
     "output_type": "stream",
     "text": [
      "4.263834669283932\n",
      "90\n"
     ]
    },
    {
     "name": "stderr",
     "output_type": "stream",
     "text": [
      " 41%|████████████████████████████▊                                          | 40601/100000 [8:02:31<5:04:51,  3.25it/s]"
     ]
    },
    {
     "name": "stdout",
     "output_type": "stream",
     "text": [
      "5.046611829636117\n",
      "87\n",
      "[0.2, 0.9, 0.5, 0.3]\n",
      "tf.Tensor([[0.09065183 0.6035609  0.17156836 0.13421895]], shape=(1, 4), dtype=float32)\n",
      "[0.2, 0.7, 0.5, 0.3]\n",
      "tf.Tensor([[0.04562987 0.6519498  0.19912139 0.10329894]], shape=(1, 4), dtype=float32)\n",
      "[0.4, 0.7, 0.5, 0.3]\n",
      "tf.Tensor([[0.00573845 0.89055765 0.08916167 0.01454224]], shape=(1, 4), dtype=float32)\n",
      "[0.4, 0.5, 0.5, 0.3]\n",
      "tf.Tensor([[1.2217101e-02 9.7942221e-01 7.8419326e-03 5.1877979e-04]], shape=(1, 4), dtype=float32)\n",
      "[0.4, 0.3, 0.5, 0.3]\n",
      "tf.Tensor([[9.9975461e-01 2.3082887e-04 9.4176585e-06 5.1243273e-06]], shape=(1, 4), dtype=float32)\n"
     ]
    },
    {
     "name": "stderr",
     "output_type": "stream",
     "text": [
      " 41%|████████████████████████████▉                                          | 40702/100000 [8:03:07<4:05:32,  4.03it/s]"
     ]
    },
    {
     "name": "stdout",
     "output_type": "stream",
     "text": [
      "4.064557588593327\n",
      "76\n"
     ]
    },
    {
     "name": "stderr",
     "output_type": "stream",
     "text": [
      " 41%|████████████████████████████▉                                          | 40801/100000 [8:03:44<6:28:27,  2.54it/s]"
     ]
    },
    {
     "name": "stdout",
     "output_type": "stream",
     "text": [
      "4.879317102273667\n",
      "85\n",
      "[0.2, 0.4, 0.1, 0.9]\n",
      "tf.Tensor([[0.13677016 0.5039775  0.19573878 0.1635136 ]], shape=(1, 4), dtype=float32)\n",
      "[0.2, 0.6, 0.1, 0.9]\n",
      "tf.Tensor([[0.06861106 0.593337   0.19828364 0.13976832]], shape=(1, 4), dtype=float32)\n",
      "[0.2, 0.8, 0.1, 0.9]\n",
      "tf.Tensor([[0.02165797 0.74771    0.17504941 0.05558258]], shape=(1, 4), dtype=float32)\n",
      "[0.0, 0.8, 0.1, 0.9]\n",
      "tf.Tensor([[0.0045116  0.97026896 0.02260601 0.00261329]], shape=(1, 4), dtype=float32)\n",
      "[0.0, 1.0, 0.1, 0.9]\n",
      "tf.Tensor([[9.9308127e-01 6.6553522e-03 2.1741482e-04 4.5881148e-05]], shape=(1, 4), dtype=float32)\n",
      "[0.1, 1.0, 0.1, 0.9]\n",
      "tf.Tensor([[9.9990368e-01 9.0106521e-05 3.4980599e-06 2.7614039e-06]], shape=(1, 4), dtype=float32)\n"
     ]
    },
    {
     "name": "stderr",
     "output_type": "stream",
     "text": [
      " 41%|█████████████████████████████                                          | 40901/100000 [8:04:20<6:04:30,  2.70it/s]"
     ]
    },
    {
     "name": "stdout",
     "output_type": "stream",
     "text": [
      "4.519372264820441\n",
      "84\n"
     ]
    },
    {
     "name": "stderr",
     "output_type": "stream",
     "text": [
      " 41%|█████████████████████████████                                          | 41001/100000 [8:04:56<6:41:17,  2.45it/s]"
     ]
    },
    {
     "name": "stdout",
     "output_type": "stream",
     "text": [
      "4.456455474047251\n",
      "86\n",
      "[0.5, 0.6, 0.5, 0.3]\n",
      "tf.Tensor([[0.07120249 0.62346536 0.17392252 0.13140969]], shape=(1, 4), dtype=float32)\n",
      "[0.5, 0.4, 0.5, 0.3]\n",
      "tf.Tensor([[0.0212574  0.7584049  0.15975194 0.06058579]], shape=(1, 4), dtype=float32)\n",
      "[0.5, 0.2, 0.5, 0.3]\n",
      "tf.Tensor([[0.00583708 0.8962753  0.08452114 0.01336639]], shape=(1, 4), dtype=float32)\n",
      "[0.5, 0.4, 0.5, 0.3]\n",
      "tf.Tensor([[6.208148e-03 9.872228e-01 6.150013e-03 4.190132e-04]], shape=(1, 4), dtype=float32)\n",
      "[0.5, 0.2, 0.5, 0.3]\n",
      "tf.Tensor([[9.994947e-01 4.783092e-04 1.802261e-05 9.026594e-06]], shape=(1, 4), dtype=float32)\n"
     ]
    },
    {
     "name": "stderr",
     "output_type": "stream",
     "text": [
      " 41%|█████████████████████████████▏                                         | 41101/100000 [8:05:34<5:23:03,  3.04it/s]"
     ]
    },
    {
     "name": "stdout",
     "output_type": "stream",
     "text": [
      "3.998389019332422\n",
      "80\n"
     ]
    },
    {
     "name": "stderr",
     "output_type": "stream",
     "text": [
      " 41%|█████████████████████████████▎                                         | 41201/100000 [8:06:11<6:31:49,  2.50it/s]"
     ]
    },
    {
     "name": "stdout",
     "output_type": "stream",
     "text": [
      "3.8525215542897704\n",
      "82\n",
      "[0.2, 0.3, 0.9, 0.1]\n",
      "tf.Tensor([[0.08916081 0.5741781  0.1913928  0.14526823]], shape=(1, 4), dtype=float32)\n",
      "[0.4, 0.3, 0.9, 0.1]\n",
      "tf.Tensor([[0.03407121 0.67199415 0.19364898 0.10028573]], shape=(1, 4), dtype=float32)\n",
      "[0.6, 0.3, 0.9, 0.1]\n",
      "tf.Tensor([[0.0051678  0.8676578  0.10720255 0.01997183]], shape=(1, 4), dtype=float32)\n",
      "[0.8, 0.3, 0.9, 0.1]\n",
      "tf.Tensor([[1.1292247e-03 9.9286616e-01 5.5358191e-03 4.6882589e-04]], shape=(1, 4), dtype=float32)\n",
      "[0.8, 0.1, 0.9, 0.1]\n",
      "tf.Tensor([[9.9662942e-01 3.2641324e-03 8.2009028e-05 2.4456454e-05]], shape=(1, 4), dtype=float32)\n"
     ]
    },
    {
     "name": "stderr",
     "output_type": "stream",
     "text": [
      " 41%|█████████████████████████████▎                                         | 41301/100000 [8:06:47<5:32:55,  2.94it/s]"
     ]
    },
    {
     "name": "stdout",
     "output_type": "stream",
     "text": [
      "5.300949313441252\n",
      "80\n"
     ]
    },
    {
     "name": "stderr",
     "output_type": "stream",
     "text": [
      " 41%|█████████████████████████████▍                                         | 41401/100000 [8:07:24<6:01:01,  2.71it/s]"
     ]
    },
    {
     "name": "stdout",
     "output_type": "stream",
     "text": [
      "4.9789326679049895\n",
      "78\n",
      "[0.1, 0.8, 0.9, 0.1]\n",
      "tf.Tensor([[0.04451814 0.6344331  0.19649379 0.12455503]], shape=(1, 4), dtype=float32)\n",
      "[0.3, 0.8, 0.9, 0.1]\n",
      "tf.Tensor([[0.0099007 0.7958442 0.1551428 0.0391123]], shape=(1, 4), dtype=float32)\n",
      "[0.5, 0.8, 0.9, 0.1]\n",
      "tf.Tensor([[0.00104353 0.9784515  0.01884802 0.00165685]], shape=(1, 4), dtype=float32)\n",
      "[0.5, 0.6, 0.9, 0.1]\n",
      "tf.Tensor([[1.38907535e-02 9.81198311e-01 4.68348851e-03 2.27329016e-04]], shape=(1, 4), dtype=float32)\n",
      "[0.7, 0.6, 0.9, 0.1]\n",
      "tf.Tensor([[9.9976426e-01 2.2336739e-04 8.0194714e-06 4.3811642e-06]], shape=(1, 4), dtype=float32)\n",
      "[0.7, 0.5, 0.9, 0.1]\n",
      "tf.Tensor([[9.9992704e-01 6.8187466e-05 2.6274761e-06 2.1223698e-06]], shape=(1, 4), dtype=float32)\n",
      "[0.7, 0.4, 0.9, 0.1]\n",
      "tf.Tensor([[9.9992764e-01 6.7542307e-05 2.6141884e-06 2.1189248e-06]], shape=(1, 4), dtype=float32)\n",
      "[0.7, 0.3, 0.9, 0.1]\n",
      "tf.Tensor([[9.9992883e-01 6.6543580e-05 2.6718042e-06 2.0741857e-06]], shape=(1, 4), dtype=float32)\n",
      "[0.8, 0.3, 0.9, 0.1]\n",
      "tf.Tensor([[9.9992800e-01 6.7232191e-05 2.6019272e-06 2.1057529e-06]], shape=(1, 4), dtype=float32)\n",
      "[0.8, 0.2, 0.9, 0.1]\n",
      "tf.Tensor([[9.9992824e-01 6.6922395e-05 2.7071178e-06 2.0867615e-06]], shape=(1, 4), dtype=float32)\n"
     ]
    },
    {
     "name": "stderr",
     "output_type": "stream",
     "text": [
      " 42%|█████████████████████████████▍                                         | 41501/100000 [8:08:03<6:11:25,  2.62it/s]"
     ]
    },
    {
     "name": "stdout",
     "output_type": "stream",
     "text": [
      "3.149108520692427\n",
      "77\n"
     ]
    },
    {
     "name": "stderr",
     "output_type": "stream",
     "text": [
      " 42%|█████████████████████████████▌                                         | 41601/100000 [8:08:38<6:53:18,  2.35it/s]"
     ]
    },
    {
     "name": "stdout",
     "output_type": "stream",
     "text": [
      "3.93519283589052\n",
      "84\n",
      "[0.8, 0.8, 0.9, 0.9]\n",
      "tf.Tensor([[0.02771451 0.71026707 0.18239576 0.07962264]], shape=(1, 4), dtype=float32)\n",
      "[0.8, 1.0, 0.9, 0.9]\n",
      "tf.Tensor([[0.00312718 0.91384834 0.07213131 0.01089315]], shape=(1, 4), dtype=float32)\n",
      "[1.0, 1.0, 0.9, 0.9]\n",
      "tf.Tensor([[8.5627934e-04 9.8884457e-01 9.6479636e-03 6.5114594e-04]], shape=(1, 4), dtype=float32)\n",
      "[0.8, 1.0, 0.9, 0.9]\n",
      "tf.Tensor([[3.3196378e-02 9.6189415e-01 4.7443039e-03 1.6511836e-04]], shape=(1, 4), dtype=float32)\n",
      "[1.0, 1.0, 0.9, 0.9]\n",
      "tf.Tensor([[9.9974245e-01 2.4340759e-04 9.2661376e-06 4.8754200e-06]], shape=(1, 4), dtype=float32)\n",
      "[0.9, 1.0, 0.9, 0.9]\n",
      "tf.Tensor([[9.9992895e-01 6.6644439e-05 2.4365158e-06 2.0615726e-06]], shape=(1, 4), dtype=float32)\n"
     ]
    },
    {
     "name": "stderr",
     "output_type": "stream",
     "text": [
      " 42%|█████████████████████████████▌                                         | 41702/100000 [8:09:15<4:20:56,  3.72it/s]"
     ]
    },
    {
     "name": "stdout",
     "output_type": "stream",
     "text": [
      "5.721396591392127\n",
      "89\n"
     ]
    },
    {
     "name": "stderr",
     "output_type": "stream",
     "text": [
      " 42%|█████████████████████████████▋                                         | 41801/100000 [8:09:52<6:31:01,  2.48it/s]"
     ]
    },
    {
     "name": "stdout",
     "output_type": "stream",
     "text": [
      "3.7020204144237345\n",
      "79\n",
      "[0.6, 0.3, 0.5, 0.7]\n",
      "tf.Tensor([[0.04569866 0.65467006 0.18228175 0.11734959]], shape=(1, 4), dtype=float32)\n",
      "[0.6, 0.5, 0.5, 0.7]\n",
      "tf.Tensor([[0.01451756 0.7696257  0.1643778  0.05147886]], shape=(1, 4), dtype=float32)\n",
      "[0.6, 0.7, 0.5, 0.7]\n",
      "tf.Tensor([[0.0027562  0.9447683  0.04679833 0.00567722]], shape=(1, 4), dtype=float32)\n",
      "[0.4, 0.7, 0.5, 0.7]\n",
      "tf.Tensor([[2.3745268e-03 9.9238515e-01 4.9751974e-03 2.6508866e-04]], shape=(1, 4), dtype=float32)\n",
      "[0.6, 0.7, 0.5, 0.7]\n",
      "tf.Tensor([[9.9876899e-01 1.1694734e-03 4.5735695e-05 1.5827402e-05]], shape=(1, 4), dtype=float32)\n"
     ]
    },
    {
     "name": "stderr",
     "output_type": "stream",
     "text": [
      " 42%|█████████████████████████████▋                                         | 41901/100000 [8:10:31<4:46:59,  3.37it/s]"
     ]
    },
    {
     "name": "stdout",
     "output_type": "stream",
     "text": [
      "3.582987782743693\n",
      "79\n"
     ]
    },
    {
     "name": "stderr",
     "output_type": "stream",
     "text": [
      " 42%|█████████████████████████████▊                                         | 42001/100000 [8:11:07<5:10:19,  3.12it/s]"
     ]
    },
    {
     "name": "stdout",
     "output_type": "stream",
     "text": [
      "4.733343688297962\n",
      "84\n",
      "[0.2, 0.9, 0.1, 0.1]\n",
      "tf.Tensor([[0.01296479 0.82732004 0.11517049 0.04454475]], shape=(1, 4), dtype=float32)\n",
      "[0.2, 0.7, 0.1, 0.1]\n",
      "tf.Tensor([[0.00190738 0.9498709  0.04203914 0.0061825 ]], shape=(1, 4), dtype=float32)\n",
      "[0.2, 0.5, 0.1, 0.1]\n",
      "tf.Tensor([[4.3296712e-04 9.9213320e-01 6.9667553e-03 4.6707477e-04]], shape=(1, 4), dtype=float32)\n",
      "[0.2, 0.3, 0.1, 0.1]\n",
      "tf.Tensor([[4.8556551e-03 9.9259251e-01 2.4252369e-03 1.2664034e-04]], shape=(1, 4), dtype=float32)\n",
      "[0.2, 0.1, 0.1, 0.1]\n",
      "tf.Tensor([[9.9968576e-01 2.9763638e-04 1.0003747e-05 6.5306103e-06]], shape=(1, 4), dtype=float32)\n"
     ]
    },
    {
     "name": "stderr",
     "output_type": "stream",
     "text": [
      " 42%|█████████████████████████████▉                                         | 42101/100000 [8:11:44<6:02:58,  2.66it/s]"
     ]
    },
    {
     "name": "stdout",
     "output_type": "stream",
     "text": [
      "4.116279558009584\n",
      "80\n"
     ]
    },
    {
     "name": "stderr",
     "output_type": "stream",
     "text": [
      " 42%|█████████████████████████████▉                                         | 42201/100000 [8:12:21<6:22:23,  2.52it/s]"
     ]
    },
    {
     "name": "stdout",
     "output_type": "stream",
     "text": [
      "3.1775738112752947\n",
      "78\n",
      "[0.1, 0.4, 0.9, 0.1]\n",
      "tf.Tensor([[0.0371437  0.6547677  0.1963185  0.11177015]], shape=(1, 4), dtype=float32)\n",
      "[0.3, 0.4, 0.9, 0.1]\n",
      "tf.Tensor([[0.01037491 0.77638465 0.17019281 0.04304765]], shape=(1, 4), dtype=float32)\n",
      "[0.5, 0.4, 0.9, 0.1]\n",
      "tf.Tensor([[0.00135211 0.9552255  0.03944279 0.00397964]], shape=(1, 4), dtype=float32)\n",
      "[0.7, 0.4, 0.9, 0.1]\n",
      "tf.Tensor([[7.5235363e-04 9.9594563e-01 3.1037077e-03 1.9828325e-04]], shape=(1, 4), dtype=float32)\n",
      "[0.7, 0.2, 0.9, 0.1]\n",
      "tf.Tensor([[9.9907231e-01 8.9300436e-04 2.4215829e-05 1.0483680e-05]], shape=(1, 4), dtype=float32)\n",
      "[0.8, 0.2, 0.9, 0.1]\n",
      "tf.Tensor([[9.9991882e-01 7.6278004e-05 2.6016651e-06 2.2737813e-06]], shape=(1, 4), dtype=float32)\n",
      "[0.9, 0.2, 0.9, 0.1]\n",
      "tf.Tensor([[9.9992251e-01 7.2823503e-05 2.3814912e-06 2.2217678e-06]], shape=(1, 4), dtype=float32)\n"
     ]
    },
    {
     "name": "stderr",
     "output_type": "stream",
     "text": [
      " 42%|██████████████████████████████                                         | 42301/100000 [8:12:58<6:44:52,  2.38it/s]"
     ]
    },
    {
     "name": "stdout",
     "output_type": "stream",
     "text": [
      "3.2647331536390434\n",
      "77\n"
     ]
    },
    {
     "name": "stderr",
     "output_type": "stream",
     "text": [
      " 42%|██████████████████████████████                                         | 42401/100000 [8:13:34<6:28:28,  2.47it/s]"
     ]
    },
    {
     "name": "stdout",
     "output_type": "stream",
     "text": [
      "4.221212626950432\n",
      "80\n",
      "[0.1, 0.3, 0.1, 0.9]\n",
      "tf.Tensor([[0.06075695 0.59612256 0.20472515 0.13839531]], shape=(1, 4), dtype=float32)\n",
      "[0.1, 0.5, 0.1, 0.9]\n",
      "tf.Tensor([[0.02650289 0.68024063 0.20472965 0.08852681]], shape=(1, 4), dtype=float32)\n",
      "[0.1, 0.7, 0.1, 0.9]\n",
      "tf.Tensor([[0.00618902 0.84077746 0.12755786 0.02547571]], shape=(1, 4), dtype=float32)\n"
     ]
    },
    {
     "name": "stderr",
     "output_type": "stream",
     "text": [
      " 43%|██████████████████████████████▏                                        | 42501/100000 [8:14:11<6:17:09,  2.54it/s]"
     ]
    },
    {
     "name": "stdout",
     "output_type": "stream",
     "text": [
      "4.604339154527105\n",
      "88\n"
     ]
    },
    {
     "name": "stderr",
     "output_type": "stream",
     "text": [
      " 43%|██████████████████████████████▏                                        | 42601/100000 [8:14:47<5:51:30,  2.72it/s]"
     ]
    },
    {
     "name": "stdout",
     "output_type": "stream",
     "text": [
      "4.20104600176543\n",
      "81\n",
      "[0.6, 0.7, 0.5, 0.7]\n",
      "tf.Tensor([[0.04001114 0.6570692  0.20579013 0.09712953]], shape=(1, 4), dtype=float32)\n",
      "[0.4, 0.7, 0.5, 0.7]\n",
      "tf.Tensor([[0.00831139 0.80070645 0.16181248 0.02916974]], shape=(1, 4), dtype=float32)\n",
      "[0.6, 0.7, 0.5, 0.7]\n",
      "tf.Tensor([[0.00181099 0.96174324 0.03399255 0.00245325]], shape=(1, 4), dtype=float32)\n",
      "[0.4, 0.7, 0.5, 0.7]\n",
      "tf.Tensor([[9.0087233e-03 9.8509604e-01 5.6817606e-03 2.1349275e-04]], shape=(1, 4), dtype=float32)\n",
      "[0.6, 0.7, 0.5, 0.7]\n",
      "tf.Tensor([[9.9977022e-01 2.1569121e-04 8.6980272e-06 5.3457188e-06]], shape=(1, 4), dtype=float32)\n"
     ]
    },
    {
     "name": "stderr",
     "output_type": "stream",
     "text": [
      " 43%|██████████████████████████████▎                                        | 42701/100000 [8:15:22<6:45:35,  2.35it/s]"
     ]
    },
    {
     "name": "stdout",
     "output_type": "stream",
     "text": [
      "4.555262429399502\n",
      "86\n"
     ]
    },
    {
     "name": "stderr",
     "output_type": "stream",
     "text": [
      " 43%|██████████████████████████████▍                                        | 42801/100000 [8:16:00<5:15:10,  3.02it/s]"
     ]
    },
    {
     "name": "stdout",
     "output_type": "stream",
     "text": [
      "4.626323309494786\n",
      "84\n",
      "[0.0, 0.1, 0.1, 0.9]\n",
      "tf.Tensor([[0.07781189 0.5499296  0.23087153 0.141387  ]], shape=(1, 4), dtype=float32)\n",
      "[0.0, 0.3, 0.1, 0.9]\n",
      "tf.Tensor([[0.04009405 0.61430657 0.23683085 0.10876852]], shape=(1, 4), dtype=float32)\n",
      "[0.0, 0.5, 0.1, 0.9]\n",
      "tf.Tensor([[0.0135685  0.7132234  0.22298421 0.05022392]], shape=(1, 4), dtype=float32)\n",
      "[0.0, 0.7, 0.1, 0.9]\n",
      "tf.Tensor([[0.00238351 0.9527769  0.04116396 0.00367571]], shape=(1, 4), dtype=float32)\n",
      "[0.0, 0.9, 0.1, 0.9]\n",
      "tf.Tensor([[6.9249505e-01 3.0249622e-01 4.5999088e-03 4.0888076e-04]], shape=(1, 4), dtype=float32)\n"
     ]
    },
    {
     "name": "stderr",
     "output_type": "stream",
     "text": [
      " 43%|██████████████████████████████▍                                        | 42901/100000 [8:16:35<5:48:10,  2.73it/s]"
     ]
    },
    {
     "name": "stdout",
     "output_type": "stream",
     "text": [
      "4.320286595901908\n",
      "80\n"
     ]
    },
    {
     "name": "stderr",
     "output_type": "stream",
     "text": [
      " 43%|██████████████████████████████▌                                        | 43001/100000 [8:17:12<6:59:47,  2.26it/s]"
     ]
    },
    {
     "name": "stdout",
     "output_type": "stream",
     "text": [
      "3.1892669517902714\n",
      "80\n",
      "[0.6, 0.2, 0.5, 0.7]\n",
      "tf.Tensor([[0.05404121 0.59313357 0.21797413 0.13485105]], shape=(1, 4), dtype=float32)\n",
      "[0.6, 0.4, 0.5, 0.7]\n",
      "tf.Tensor([[0.02111916 0.68058044 0.22629811 0.07200226]], shape=(1, 4), dtype=float32)\n",
      "[0.6, 0.6, 0.5, 0.7]\n",
      "tf.Tensor([[0.00468692 0.88987076 0.09340309 0.01203909]], shape=(1, 4), dtype=float32)\n",
      "[0.4, 0.6, 0.5, 0.7]\n",
      "tf.Tensor([[1.8082032e-03 9.9140960e-01 6.4019947e-03 3.8022661e-04]], shape=(1, 4), dtype=float32)\n",
      "[0.6, 0.6, 0.5, 0.7]\n",
      "tf.Tensor([[9.9863738e-01 1.2983760e-03 4.6992005e-05 1.7316121e-05]], shape=(1, 4), dtype=float32)\n",
      "[0.5, 0.6, 0.5, 0.7]\n",
      "tf.Tensor([[9.9989629e-01 9.7309181e-05 3.5121539e-06 2.9638802e-06]], shape=(1, 4), dtype=float32)\n"
     ]
    },
    {
     "name": "stderr",
     "output_type": "stream",
     "text": [
      " 43%|██████████████████████████████▌                                        | 43101/100000 [8:17:50<5:42:29,  2.77it/s]"
     ]
    },
    {
     "name": "stdout",
     "output_type": "stream",
     "text": [
      "4.420948588080526\n",
      "85\n"
     ]
    },
    {
     "name": "stderr",
     "output_type": "stream",
     "text": [
      " 43%|██████████████████████████████▋                                        | 43201/100000 [8:18:26<6:13:45,  2.53it/s]"
     ]
    },
    {
     "name": "stdout",
     "output_type": "stream",
     "text": [
      "4.579905413891686\n",
      "85\n",
      "[0.6, 0.2, 0.1, 0.9]\n",
      "tf.Tensor([[0.04500054 0.6172393  0.21620396 0.1215562 ]], shape=(1, 4), dtype=float32)\n",
      "[0.6, 0.4, 0.1, 0.9]\n",
      "tf.Tensor([[0.01567536 0.7219561  0.20736338 0.0550052 ]], shape=(1, 4), dtype=float32)\n",
      "[0.6, 0.6, 0.1, 0.9]\n",
      "tf.Tensor([[0.00358884 0.9337827  0.05666639 0.00596204]], shape=(1, 4), dtype=float32)\n",
      "[0.4, 0.6, 0.1, 0.9]\n",
      "tf.Tensor([[8.6530624e-03 9.8137271e-01 9.4605135e-03 5.1366625e-04]], shape=(1, 4), dtype=float32)\n",
      "[0.4, 0.8, 0.1, 0.9]\n",
      "tf.Tensor([[9.9955267e-01 4.2000899e-04 1.8359031e-05 8.9942914e-06]], shape=(1, 4), dtype=float32)\n",
      "[0.3, 0.8, 0.1, 0.9]\n",
      "tf.Tensor([[9.9992669e-01 6.7981484e-05 2.8689838e-06 2.4832939e-06]], shape=(1, 4), dtype=float32)\n",
      "[0.2, 0.8, 0.1, 0.9]\n",
      "tf.Tensor([[9.9993026e-01 6.4647829e-05 2.7351132e-06 2.3975938e-06]], shape=(1, 4), dtype=float32)\n",
      "[0.1, 0.8, 0.1, 0.9]\n",
      "tf.Tensor([[9.9993360e-01 6.1574981e-05 2.5359827e-06 2.2288530e-06]], shape=(1, 4), dtype=float32)\n"
     ]
    },
    {
     "name": "stderr",
     "output_type": "stream",
     "text": [
      " 43%|██████████████████████████████▋                                        | 43301/100000 [8:19:02<5:32:16,  2.84it/s]"
     ]
    },
    {
     "name": "stdout",
     "output_type": "stream",
     "text": [
      "3.479238254153562\n",
      "83\n"
     ]
    },
    {
     "name": "stderr",
     "output_type": "stream",
     "text": [
      " 43%|██████████████████████████████▊                                        | 43401/100000 [8:19:40<4:04:51,  3.85it/s]"
     ]
    },
    {
     "name": "stdout",
     "output_type": "stream",
     "text": [
      "4.680910913414043\n",
      "73\n",
      "[0.9, 0.8, 0.1, 0.9]\n",
      "tf.Tensor([[0.04386264 0.61649036 0.2324208  0.10722609]], shape=(1, 4), dtype=float32)\n",
      "[0.7, 0.8, 0.1, 0.9]\n",
      "tf.Tensor([[0.01284995 0.7638654  0.18956785 0.03371685]], shape=(1, 4), dtype=float32)\n",
      "[0.5, 0.8, 0.1, 0.9]\n",
      "tf.Tensor([[0.00309229 0.95911884 0.0354385  0.00235025]], shape=(1, 4), dtype=float32)\n",
      "[0.3, 0.8, 0.1, 0.9]\n",
      "tf.Tensor([[1.6165027e-01 8.2422566e-01 1.3501168e-02 6.2282628e-04]], shape=(1, 4), dtype=float32)\n",
      "[0.1, 0.8, 0.1, 0.9]\n",
      "tf.Tensor([[9.9984324e-01 1.4579701e-04 6.7494207e-06 4.2056322e-06]], shape=(1, 4), dtype=float32)\n"
     ]
    },
    {
     "name": "stderr",
     "output_type": "stream",
     "text": [
      " 44%|██████████████████████████████▉                                        | 43501/100000 [8:20:15<5:32:45,  2.83it/s]"
     ]
    },
    {
     "name": "stdout",
     "output_type": "stream",
     "text": [
      "4.208727258548751\n",
      "81\n"
     ]
    },
    {
     "name": "stderr",
     "output_type": "stream",
     "text": [
      " 44%|██████████████████████████████▉                                        | 43601/100000 [8:20:50<4:10:16,  3.76it/s]"
     ]
    },
    {
     "name": "stdout",
     "output_type": "stream",
     "text": [
      "5.673116497302549\n",
      "89\n",
      "[0.8, 0.2, 0.1, 0.1]\n",
      "tf.Tensor([[0.06091732 0.5708938  0.22669464 0.14149423]], shape=(1, 4), dtype=float32)\n",
      "[0.6, 0.2, 0.1, 0.1]\n",
      "tf.Tensor([[0.02842907 0.6545864  0.23778214 0.0792025 ]], shape=(1, 4), dtype=float32)\n",
      "[0.4, 0.2, 0.1, 0.1]\n",
      "tf.Tensor([[0.00816994 0.863749   0.11296487 0.01511615]], shape=(1, 4), dtype=float32)\n",
      "[0.2, 0.2, 0.1, 0.1]\n",
      "tf.Tensor([[0.01518812 0.9646419  0.01913903 0.00103092]], shape=(1, 4), dtype=float32)\n",
      "[0.0, 0.2, 0.1, 0.1]\n",
      "tf.Tensor([[9.99702275e-01 2.78930849e-04 1.28966585e-05 5.85385214e-06]], shape=(1, 4), dtype=float32)\n",
      "[0.1, 0.2, 0.1, 0.1]\n",
      "tf.Tensor([[9.9993885e-01 5.7093635e-05 2.2208571e-06 1.7840442e-06]], shape=(1, 4), dtype=float32)\n"
     ]
    },
    {
     "name": "stderr",
     "output_type": "stream",
     "text": [
      " 44%|███████████████████████████████                                        | 43701/100000 [8:21:27<5:16:41,  2.96it/s]"
     ]
    },
    {
     "name": "stdout",
     "output_type": "stream",
     "text": [
      "3.797402316239531\n",
      "78\n"
     ]
    },
    {
     "name": "stderr",
     "output_type": "stream",
     "text": [
      " 44%|███████████████████████████████                                        | 43801/100000 [8:22:04<6:43:35,  2.32it/s]"
     ]
    },
    {
     "name": "stdout",
     "output_type": "stream",
     "text": [
      "2.5399539998315914\n",
      "78\n",
      "[0.1, 0.1, 0.9, 0.9]\n",
      "tf.Tensor([[0.06798363 0.5210724  0.2607936  0.15015034]], shape=(1, 4), dtype=float32)\n",
      "[0.3, 0.1, 0.9, 0.9]\n",
      "tf.Tensor([[0.03492652 0.5813026  0.26924625 0.11452472]], shape=(1, 4), dtype=float32)\n",
      "[0.3, 0.3, 0.9, 0.9]\n",
      "tf.Tensor([[0.00760767 0.74947494 0.21094729 0.03197013]], shape=(1, 4), dtype=float32)\n",
      "[0.5, 0.3, 0.9, 0.9]\n",
      "tf.Tensor([[0.00162928 0.97576797 0.02121664 0.00138608]], shape=(1, 4), dtype=float32)\n",
      "[0.5, 0.5, 0.9, 0.9]\n",
      "tf.Tensor([[9.9212742e-01 7.6599340e-03 1.7466996e-04 3.8018330e-05]], shape=(1, 4), dtype=float32)\n",
      "[0.6, 0.5, 0.9, 0.9]\n",
      "tf.Tensor([[9.9991131e-01 8.3513049e-05 2.8416468e-06 2.2154823e-06]], shape=(1, 4), dtype=float32)\n",
      "[0.6, 0.6, 0.9, 0.9]\n",
      "tf.Tensor([[9.9992836e-01 6.7575347e-05 2.2059166e-06 1.7432870e-06]], shape=(1, 4), dtype=float32)\n",
      "[0.7, 0.6, 0.9, 0.9]\n",
      "tf.Tensor([[9.9991941e-01 7.6017197e-05 2.5379209e-06 2.0305033e-06]], shape=(1, 4), dtype=float32)\n",
      "[0.7, 0.7, 0.9, 0.9]\n",
      "tf.Tensor([[9.9993372e-01 6.2602776e-05 2.0155107e-06 1.6342306e-06]], shape=(1, 4), dtype=float32)\n",
      "[0.8, 0.7, 0.9, 0.9]\n",
      "tf.Tensor([[9.9992478e-01 7.0870527e-05 2.3308708e-06 1.9003033e-06]], shape=(1, 4), dtype=float32)\n"
     ]
    },
    {
     "name": "stderr",
     "output_type": "stream",
     "text": [
      " 44%|███████████████████████████████▏                                       | 43900/100000 [8:22:39<6:27:07,  2.42it/s]"
     ]
    },
    {
     "name": "stdout",
     "output_type": "stream",
     "text": [
      "4.635936145208783\n",
      "83\n"
     ]
    },
    {
     "name": "stderr",
     "output_type": "stream",
     "text": [
      " 44%|███████████████████████████████▏                                       | 44001/100000 [8:23:17<6:31:33,  2.38it/s]"
     ]
    },
    {
     "name": "stdout",
     "output_type": "stream",
     "text": [
      "3.6535704597415872\n",
      "82\n",
      "[0.7, 0.5, 0.1, 0.1]\n",
      "tf.Tensor([[0.05909789 0.57124186 0.23038268 0.1392776 ]], shape=(1, 4), dtype=float32)\n",
      "[0.5, 0.5, 0.1, 0.1]\n",
      "tf.Tensor([[0.02507086 0.6626441  0.2370076  0.07527756]], shape=(1, 4), dtype=float32)\n",
      "[0.3, 0.5, 0.1, 0.1]\n",
      "tf.Tensor([[0.00284528 0.928899   0.06250808 0.00574764]], shape=(1, 4), dtype=float32)\n",
      "[0.3, 0.3, 0.1, 0.1]\n",
      "tf.Tensor([[5.3287065e-03 9.8522907e-01 9.0117920e-03 4.3030406e-04]], shape=(1, 4), dtype=float32)\n",
      "[0.1, 0.3, 0.1, 0.1]\n",
      "tf.Tensor([[9.9973434e-01 2.5178370e-04 9.1112252e-06 4.7983349e-06]], shape=(1, 4), dtype=float32)\n",
      "[0.1, 0.2, 0.1, 0.1]\n",
      "tf.Tensor([[9.9993122e-01 6.4830645e-05 2.1629141e-06 1.7740614e-06]], shape=(1, 4), dtype=float32)\n"
     ]
    },
    {
     "name": "stderr",
     "output_type": "stream",
     "text": [
      " 44%|███████████████████████████████▎                                       | 44102/100000 [8:23:55<4:47:02,  3.25it/s]"
     ]
    },
    {
     "name": "stdout",
     "output_type": "stream",
     "text": [
      "3.664987627157087\n",
      "75\n"
     ]
    },
    {
     "name": "stderr",
     "output_type": "stream",
     "text": [
      " 44%|███████████████████████████████▍                                       | 44201/100000 [8:24:31<6:21:22,  2.44it/s]"
     ]
    },
    {
     "name": "stdout",
     "output_type": "stream",
     "text": [
      "4.652334591313349\n",
      "85\n",
      "[0.8, 0.2, 0.9, 0.9]\n",
      "tf.Tensor([[0.04223027 0.6092032  0.21790355 0.13066296]], shape=(1, 4), dtype=float32)\n",
      "[0.8, 0.4, 0.9, 0.9]\n",
      "tf.Tensor([[0.01277087 0.74807173 0.18975018 0.04940724]], shape=(1, 4), dtype=float32)\n",
      "[0.8, 0.6, 0.9, 0.9]\n",
      "tf.Tensor([[0.00203527 0.9544727  0.03977358 0.0037185 ]], shape=(1, 4), dtype=float32)\n",
      "[0.8, 0.8, 0.9, 0.9]\n",
      "tf.Tensor([[2.5547780e-03 9.9380422e-01 3.4851339e-03 1.5573393e-04]], shape=(1, 4), dtype=float32)\n",
      "[1.0, 0.8, 0.9, 0.9]\n",
      "tf.Tensor([[9.9937099e-01 6.0392648e-04 1.7909908e-05 7.3256833e-06]], shape=(1, 4), dtype=float32)\n",
      "[0.9, 0.8, 0.9, 0.9]\n",
      "tf.Tensor([[9.9991596e-01 7.9483463e-05 2.5231452e-06 1.9978747e-06]], shape=(1, 4), dtype=float32)\n"
     ]
    },
    {
     "name": "stderr",
     "output_type": "stream",
     "text": [
      " 44%|███████████████████████████████▍                                       | 44301/100000 [8:25:07<6:11:38,  2.50it/s]"
     ]
    },
    {
     "name": "stdout",
     "output_type": "stream",
     "text": [
      "3.7245498080188355\n",
      "83\n"
     ]
    },
    {
     "name": "stderr",
     "output_type": "stream",
     "text": [
      " 44%|███████████████████████████████▌                                       | 44401/100000 [8:25:44<6:04:45,  2.54it/s]"
     ]
    },
    {
     "name": "stdout",
     "output_type": "stream",
     "text": [
      "3.4712569342727164\n",
      "85\n",
      "[0.4, 0.0, 0.5, 0.3]\n",
      "tf.Tensor([[0.06392158 0.5402794  0.23948091 0.15631807]], shape=(1, 4), dtype=float32)\n",
      "[0.4, 0.2, 0.5, 0.3]\n",
      "tf.Tensor([[0.02111009 0.6381935  0.2542255  0.08647097]], shape=(1, 4), dtype=float32)\n",
      "[0.6, 0.2, 0.5, 0.3]\n",
      "tf.Tensor([[0.00591839 0.8601011  0.11686996 0.01711069]], shape=(1, 4), dtype=float32)\n",
      "[0.4, 0.2, 0.5, 0.3]\n",
      "tf.Tensor([[1.3059294e-03 9.9194664e-01 6.3338289e-03 4.1358746e-04]], shape=(1, 4), dtype=float32)\n",
      "[0.6, 0.2, 0.5, 0.3]\n",
      "tf.Tensor([[9.9831796e-01 1.6121416e-03 5.1479547e-05 1.8391869e-05]], shape=(1, 4), dtype=float32)\n",
      "[0.5, 0.2, 0.5, 0.3]\n",
      "tf.Tensor([[9.9989510e-01 9.9206365e-05 3.2436785e-06 2.4985468e-06]], shape=(1, 4), dtype=float32)\n"
     ]
    },
    {
     "name": "stderr",
     "output_type": "stream",
     "text": [
      " 45%|███████████████████████████████▌                                       | 44501/100000 [8:26:21<5:44:33,  2.68it/s]"
     ]
    },
    {
     "name": "stdout",
     "output_type": "stream",
     "text": [
      "4.551245041139251\n",
      "79\n"
     ]
    },
    {
     "name": "stderr",
     "output_type": "stream",
     "text": [
      " 45%|███████████████████████████████▋                                       | 44601/100000 [8:26:57<5:21:23,  2.87it/s]"
     ]
    },
    {
     "name": "stdout",
     "output_type": "stream",
     "text": [
      "5.4896183502322025\n",
      "87\n",
      "[0.8, 0.2, 0.9, 0.1]\n",
      "tf.Tensor([[0.04227094 0.61399823 0.20975505 0.13397579]], shape=(1, 4), dtype=float32)\n",
      "[1.0, 0.2, 0.9, 0.1]\n",
      "tf.Tensor([[0.01807629 0.6952788  0.21986757 0.06677734]], shape=(1, 4), dtype=float32)\n",
      "[0.8, 0.2, 0.9, 0.1]\n",
      "tf.Tensor([[0.00191943 0.95084786 0.04314744 0.00408529]], shape=(1, 4), dtype=float32)\n",
      "[1.0, 0.2, 0.9, 0.1]\n",
      "tf.Tensor([[2.5490106e-03 9.9242061e-01 4.7620581e-03 2.6831101e-04]], shape=(1, 4), dtype=float32)\n",
      "[0.8, 0.2, 0.9, 0.1]\n",
      "tf.Tensor([[9.9966526e-01 3.2034284e-04 9.6108306e-06 4.7511762e-06]], shape=(1, 4), dtype=float32)\n",
      "[0.9, 0.2, 0.9, 0.1]\n",
      "tf.Tensor([[9.9993491e-01 6.1739353e-05 1.8396211e-06 1.5858600e-06]], shape=(1, 4), dtype=float32)\n"
     ]
    },
    {
     "name": "stderr",
     "output_type": "stream",
     "text": [
      " 45%|███████████████████████████████▋                                       | 44701/100000 [8:27:33<5:29:33,  2.80it/s]"
     ]
    },
    {
     "name": "stdout",
     "output_type": "stream",
     "text": [
      "4.10090618116567\n",
      "81\n"
     ]
    },
    {
     "name": "stderr",
     "output_type": "stream",
     "text": [
      " 45%|███████████████████████████████▊                                       | 44801/100000 [8:28:10<5:43:27,  2.68it/s]"
     ]
    },
    {
     "name": "stdout",
     "output_type": "stream",
     "text": [
      "4.682718711380738\n",
      "91\n",
      "[0.6, 0.4, 0.9, 0.1]\n",
      "tf.Tensor([[0.03492526 0.62586445 0.20579743 0.13341287]], shape=(1, 4), dtype=float32)\n",
      "[0.8, 0.4, 0.9, 0.1]\n",
      "tf.Tensor([[0.00412988 0.88850653 0.08749434 0.01986935]], shape=(1, 4), dtype=float32)\n",
      "[0.8, 0.2, 0.9, 0.1]\n",
      "tf.Tensor([[6.8293646e-04 9.8601866e-01 1.2246468e-02 1.0518373e-03]], shape=(1, 4), dtype=float32)\n",
      "[1.0, 0.2, 0.9, 0.1]\n",
      "tf.Tensor([[2.4040213e-03 9.9484879e-01 2.5954731e-03 1.5168256e-04]], shape=(1, 4), dtype=float32)\n",
      "[0.8, 0.2, 0.9, 0.1]\n",
      "tf.Tensor([[9.9959487e-01 3.9045332e-04 9.7112197e-06 5.0467706e-06]], shape=(1, 4), dtype=float32)\n",
      "[0.9, 0.2, 0.9, 0.1]\n",
      "tf.Tensor([[9.9990916e-01 8.6596665e-05 2.3068867e-06 2.0008129e-06]], shape=(1, 4), dtype=float32)\n"
     ]
    },
    {
     "name": "stderr",
     "output_type": "stream",
     "text": [
      " 45%|███████████████████████████████▉                                       | 44901/100000 [8:28:47<5:41:46,  2.69it/s]"
     ]
    },
    {
     "name": "stdout",
     "output_type": "stream",
     "text": [
      "3.496374526334562\n",
      "82\n"
     ]
    },
    {
     "name": "stderr",
     "output_type": "stream",
     "text": [
      " 45%|███████████████████████████████▉                                       | 45001/100000 [8:29:23<5:57:42,  2.56it/s]"
     ]
    },
    {
     "name": "stdout",
     "output_type": "stream",
     "text": [
      "5.020956931130345\n",
      "83\n",
      "[0.5, 0.9, 0.5, 0.7]\n",
      "tf.Tensor([[0.02066499 0.70707154 0.17885011 0.09341334]], shape=(1, 4), dtype=float32)\n"
     ]
    },
    {
     "name": "stderr",
     "output_type": "stream",
     "text": [
      " 45%|████████████████████████████████                                       | 45101/100000 [8:30:00<6:14:20,  2.44it/s]"
     ]
    },
    {
     "name": "stdout",
     "output_type": "stream",
     "text": [
      "3.6323955382081845\n",
      "80\n"
     ]
    },
    {
     "name": "stderr",
     "output_type": "stream",
     "text": [
      " 45%|████████████████████████████████                                       | 45201/100000 [8:30:36<6:28:39,  2.35it/s]"
     ]
    },
    {
     "name": "stdout",
     "output_type": "stream",
     "text": [
      "2.568694499810557\n",
      "78\n",
      "[0.6, 0.5, 0.5, 0.7]\n",
      "tf.Tensor([[0.05376706 0.5484203  0.23005778 0.16775483]], shape=(1, 4), dtype=float32)\n",
      "[0.6, 0.7, 0.5, 0.7]\n",
      "tf.Tensor([[0.02043461 0.67542    0.22201584 0.08212953]], shape=(1, 4), dtype=float32)\n",
      "[0.4, 0.7, 0.5, 0.7]\n",
      "tf.Tensor([[0.00252325 0.9411619  0.05059885 0.00571598]], shape=(1, 4), dtype=float32)\n",
      "[0.6, 0.7, 0.5, 0.7]\n",
      "tf.Tensor([[4.7666430e-03 9.8875952e-01 6.1564730e-03 3.1745664e-04]], shape=(1, 4), dtype=float32)\n",
      "[0.4, 0.7, 0.5, 0.7]\n",
      "tf.Tensor([[9.9967813e-01 3.0759056e-04 9.5967207e-06 4.6516507e-06]], shape=(1, 4), dtype=float32)\n"
     ]
    },
    {
     "name": "stderr",
     "output_type": "stream",
     "text": [
      " 45%|████████████████████████████████▏                                      | 45301/100000 [8:31:12<5:58:13,  2.54it/s]"
     ]
    },
    {
     "name": "stdout",
     "output_type": "stream",
     "text": [
      "4.708066851544852\n",
      "87\n"
     ]
    },
    {
     "name": "stderr",
     "output_type": "stream",
     "text": [
      " 45%|████████████████████████████████▏                                      | 45401/100000 [8:31:50<6:10:41,  2.45it/s]"
     ]
    },
    {
     "name": "stdout",
     "output_type": "stream",
     "text": [
      "3.279622302437841\n",
      "85\n",
      "[0.3, 0.3, 0.1, 0.9]\n",
      "tf.Tensor([[0.07470103 0.52644414 0.22583331 0.17302158]], shape=(1, 4), dtype=float32)\n",
      "[0.3, 0.5, 0.1, 0.9]\n",
      "tf.Tensor([[0.03526558 0.6020781  0.2315366  0.13111967]], shape=(1, 4), dtype=float32)\n",
      "[0.3, 0.7, 0.1, 0.9]\n",
      "tf.Tensor([[0.00974532 0.77552867 0.1736074  0.04111864]], shape=(1, 4), dtype=float32)\n",
      "[0.3, 0.9, 0.1, 0.9]\n",
      "tf.Tensor([[0.00221509 0.9833454  0.01331663 0.00112293]], shape=(1, 4), dtype=float32)\n"
     ]
    },
    {
     "name": "stderr",
     "output_type": "stream",
     "text": [
      " 46%|████████████████████████████████▎                                      | 45501/100000 [8:32:27<4:39:56,  3.24it/s]"
     ]
    },
    {
     "name": "stdout",
     "output_type": "stream",
     "text": [
      "3.9721980139344044\n",
      "76\n"
     ]
    },
    {
     "name": "stderr",
     "output_type": "stream",
     "text": [
      " 46%|████████████████████████████████▍                                      | 45601/100000 [8:33:03<5:28:57,  2.76it/s]"
     ]
    },
    {
     "name": "stdout",
     "output_type": "stream",
     "text": [
      "3.9923288745721273\n",
      "77\n",
      "[0.3, 0.1, 0.9, 0.1]\n",
      "tf.Tensor([[0.05350662 0.5480632  0.23721503 0.16121516]], shape=(1, 4), dtype=float32)\n",
      "[0.5, 0.1, 0.9, 0.1]\n",
      "tf.Tensor([[0.01948978 0.62835646 0.2499961  0.10215759]], shape=(1, 4), dtype=float32)\n",
      "[0.7, 0.1, 0.9, 0.1]\n",
      "tf.Tensor([[0.00318333 0.87918174 0.1034335  0.01420146]], shape=(1, 4), dtype=float32)\n"
     ]
    },
    {
     "name": "stderr",
     "output_type": "stream",
     "text": [
      " 46%|████████████████████████████████▍                                      | 45701/100000 [8:33:41<5:33:06,  2.72it/s]"
     ]
    },
    {
     "name": "stdout",
     "output_type": "stream",
     "text": [
      "2.7451944819748597\n",
      "77\n"
     ]
    },
    {
     "name": "stderr",
     "output_type": "stream",
     "text": [
      " 46%|████████████████████████████████▌                                      | 45801/100000 [8:34:17<6:12:36,  2.42it/s]"
     ]
    },
    {
     "name": "stdout",
     "output_type": "stream",
     "text": [
      "4.788095481784543\n",
      "84\n",
      "[0.8, 0.7, 0.9, 0.1]\n",
      "tf.Tensor([[0.02347127 0.681929   0.18103866 0.11356112]], shape=(1, 4), dtype=float32)\n",
      "[0.8, 0.5, 0.9, 0.1]\n",
      "tf.Tensor([[0.00470465 0.8438923  0.12400057 0.02740263]], shape=(1, 4), dtype=float32)\n",
      "[0.8, 0.3, 0.9, 0.1]\n",
      "tf.Tensor([[7.2534551e-04 9.8415691e-01 1.4049782e-02 1.0679881e-03]], shape=(1, 4), dtype=float32)\n",
      "[0.8, 0.1, 0.9, 0.1]\n",
      "tf.Tensor([[1.9943375e-02 9.7691739e-01 2.9983593e-03 1.4091213e-04]], shape=(1, 4), dtype=float32)\n",
      "[1.0, 0.1, 0.9, 0.1]\n",
      "tf.Tensor([[9.9984050e-01 1.5221657e-04 4.5647926e-06 2.7078224e-06]], shape=(1, 4), dtype=float32)\n"
     ]
    },
    {
     "name": "stderr",
     "output_type": "stream",
     "text": [
      " 46%|████████████████████████████████▌                                      | 45901/100000 [8:34:55<5:41:12,  2.64it/s]"
     ]
    },
    {
     "name": "stdout",
     "output_type": "stream",
     "text": [
      "4.836280712172076\n",
      "83\n"
     ]
    },
    {
     "name": "stderr",
     "output_type": "stream",
     "text": [
      " 46%|████████████████████████████████▋                                      | 46001/100000 [8:35:31<6:08:11,  2.44it/s]"
     ]
    },
    {
     "name": "stdout",
     "output_type": "stream",
     "text": [
      "4.4385926133530385\n",
      "83\n",
      "[0.3, 0.5, 0.1, 0.9]\n",
      "tf.Tensor([[0.05966336 0.5484832  0.22597633 0.16587707]], shape=(1, 4), dtype=float32)\n",
      "[0.3, 0.7, 0.1, 0.9]\n",
      "tf.Tensor([[0.02450162 0.6368609  0.23135625 0.10728119]], shape=(1, 4), dtype=float32)\n",
      "[0.3, 0.9, 0.1, 0.9]\n",
      "tf.Tensor([[0.00485496 0.87763137 0.10083154 0.01668201]], shape=(1, 4), dtype=float32)\n"
     ]
    },
    {
     "name": "stderr",
     "output_type": "stream",
     "text": [
      " 46%|████████████████████████████████▋                                      | 46101/100000 [8:36:09<5:32:14,  2.70it/s]"
     ]
    },
    {
     "name": "stdout",
     "output_type": "stream",
     "text": [
      "3.0557127123804393\n",
      "79\n"
     ]
    },
    {
     "name": "stderr",
     "output_type": "stream",
     "text": [
      " 46%|████████████████████████████████▊                                      | 46201/100000 [8:36:47<5:46:34,  2.59it/s]"
     ]
    },
    {
     "name": "stdout",
     "output_type": "stream",
     "text": [
      "3.1555475470022407\n",
      "77\n",
      "[0.7, 0.5, 0.5, 0.7]\n",
      "tf.Tensor([[0.04352643 0.59600073 0.21026255 0.15021038]], shape=(1, 4), dtype=float32)\n",
      "[0.7, 0.7, 0.5, 0.7]\n",
      "tf.Tensor([[0.01687822 0.6981636  0.20663188 0.07832623]], shape=(1, 4), dtype=float32)\n"
     ]
    },
    {
     "name": "stderr",
     "output_type": "stream",
     "text": [
      " 46%|████████████████████████████████▊                                      | 46302/100000 [8:37:24<4:11:13,  3.56it/s]"
     ]
    },
    {
     "name": "stdout",
     "output_type": "stream",
     "text": [
      "4.981891877814213\n",
      "84\n"
     ]
    },
    {
     "name": "stderr",
     "output_type": "stream",
     "text": [
      " 46%|████████████████████████████████▉                                      | 46401/100000 [8:38:01<6:13:32,  2.39it/s]"
     ]
    },
    {
     "name": "stdout",
     "output_type": "stream",
     "text": [
      "2.8230449639468755\n",
      "78\n",
      "[0.5, 0.3, 0.5, 0.7]\n",
      "tf.Tensor([[0.03856916 0.6028383  0.20905584 0.14953677]], shape=(1, 4), dtype=float32)\n",
      "[0.5, 0.5, 0.5, 0.7]\n",
      "tf.Tensor([[0.01502247 0.69104177 0.20718086 0.08675487]], shape=(1, 4), dtype=float32)\n"
     ]
    },
    {
     "name": "stderr",
     "output_type": "stream",
     "text": [
      " 47%|█████████████████████████████████                                      | 46501/100000 [8:38:37<5:30:38,  2.70it/s]"
     ]
    },
    {
     "name": "stdout",
     "output_type": "stream",
     "text": [
      "4.132724090763928\n",
      "88\n"
     ]
    },
    {
     "name": "stderr",
     "output_type": "stream",
     "text": [
      " 47%|█████████████████████████████████                                      | 46601/100000 [8:39:13<6:16:09,  2.37it/s]"
     ]
    },
    {
     "name": "stdout",
     "output_type": "stream",
     "text": [
      "3.9401207585619558\n",
      "84\n",
      "[0.3, 0.5, 0.9, 0.1]\n",
      "tf.Tensor([[0.0333231  0.6013706  0.21698833 0.1483179 ]], shape=(1, 4), dtype=float32)\n",
      "[0.5, 0.5, 0.9, 0.1]\n",
      "tf.Tensor([[0.00975848 0.6945703  0.22053201 0.07513925]], shape=(1, 4), dtype=float32)\n",
      "[0.7, 0.5, 0.9, 0.1]\n",
      "tf.Tensor([[8.6275802e-04 9.5834452e-01 3.6776595e-02 4.0161633e-03]], shape=(1, 4), dtype=float32)\n",
      "[0.7, 0.3, 0.9, 0.1]\n",
      "tf.Tensor([[9.2624797e-04 9.9646407e-01 2.4631119e-03 1.4653176e-04]], shape=(1, 4), dtype=float32)\n",
      "[0.9, 0.3, 0.9, 0.1]\n",
      "tf.Tensor([[9.9975663e-01 2.3438208e-04 5.9484646e-06 3.0268070e-06]], shape=(1, 4), dtype=float32)\n",
      "[0.9, 0.2, 0.9, 0.1]\n",
      "tf.Tensor([[9.9994123e-01 5.6044239e-05 1.5731626e-06 1.2181467e-06]], shape=(1, 4), dtype=float32)\n"
     ]
    },
    {
     "name": "stderr",
     "output_type": "stream",
     "text": [
      " 47%|█████████████████████████████████▏                                     | 46701/100000 [8:39:50<5:12:17,  2.84it/s]"
     ]
    },
    {
     "name": "stdout",
     "output_type": "stream",
     "text": [
      "4.841640501069072\n",
      "81\n"
     ]
    },
    {
     "name": "stderr",
     "output_type": "stream",
     "text": [
      " 47%|█████████████████████████████████▏                                     | 46801/100000 [8:40:28<6:22:44,  2.32it/s]"
     ]
    },
    {
     "name": "stdout",
     "output_type": "stream",
     "text": [
      "2.257467947476454\n",
      "79\n",
      "[0.4, 0.3, 0.1, 0.9]\n",
      "tf.Tensor([[0.02859842 0.60988957 0.22963735 0.13187459]], shape=(1, 4), dtype=float32)\n",
      "[0.4, 0.5, 0.1, 0.9]\n",
      "tf.Tensor([[0.01044184 0.72055095 0.20951359 0.05949363]], shape=(1, 4), dtype=float32)\n",
      "[0.4, 0.7, 0.1, 0.9]\n",
      "tf.Tensor([[0.00215685 0.94417876 0.04833758 0.00532676]], shape=(1, 4), dtype=float32)\n",
      "[0.2, 0.7, 0.1, 0.9]\n",
      "tf.Tensor([[5.2593495e-03 9.8824781e-01 6.1763395e-03 3.1656184e-04]], shape=(1, 4), dtype=float32)\n",
      "[0.2, 0.9, 0.1, 0.9]\n",
      "tf.Tensor([[9.997055e-01 2.824149e-04 7.756569e-06 4.311001e-06]], shape=(1, 4), dtype=float32)\n"
     ]
    },
    {
     "name": "stderr",
     "output_type": "stream",
     "text": [
      " 47%|█████████████████████████████████▎                                     | 46901/100000 [8:41:06<5:41:33,  2.59it/s]"
     ]
    },
    {
     "name": "stdout",
     "output_type": "stream",
     "text": [
      "2.9485993897484133\n",
      "75\n"
     ]
    },
    {
     "name": "stderr",
     "output_type": "stream",
     "text": [
      " 47%|█████████████████████████████████▎                                     | 47001/100000 [8:41:42<6:34:01,  2.24it/s]"
     ]
    },
    {
     "name": "stdout",
     "output_type": "stream",
     "text": [
      "3.5811502239937734\n",
      "80\n",
      "[0.2, 0.7, 0.5, 0.7]\n",
      "tf.Tensor([[0.02352893 0.55486536 0.29866883 0.12293692]], shape=(1, 4), dtype=float32)\n",
      "[0.4, 0.7, 0.5, 0.7]\n",
      "tf.Tensor([[0.00589766 0.7498739  0.21081682 0.03341164]], shape=(1, 4), dtype=float32)\n",
      "[0.6, 0.7, 0.5, 0.7]\n",
      "tf.Tensor([[0.00111893 0.9684808  0.02846808 0.00193205]], shape=(1, 4), dtype=float32)\n",
      "[0.4, 0.7, 0.5, 0.7]\n",
      "tf.Tensor([[8.3118426e-03 9.8851317e-01 3.0535001e-03 1.2148823e-04]], shape=(1, 4), dtype=float32)\n",
      "[0.6, 0.7, 0.5, 0.7]\n",
      "tf.Tensor([[9.9985611e-01 1.3863263e-04 2.9684763e-06 2.3171601e-06]], shape=(1, 4), dtype=float32)\n"
     ]
    },
    {
     "name": "stderr",
     "output_type": "stream",
     "text": [
      " 47%|█████████████████████████████████▍                                     | 47101/100000 [8:42:19<5:27:47,  2.69it/s]"
     ]
    },
    {
     "name": "stdout",
     "output_type": "stream",
     "text": [
      "3.0858211258158486\n",
      "76\n"
     ]
    },
    {
     "name": "stderr",
     "output_type": "stream",
     "text": [
      " 47%|█████████████████████████████████▌                                     | 47201/100000 [8:42:55<6:00:56,  2.44it/s]"
     ]
    },
    {
     "name": "stdout",
     "output_type": "stream",
     "text": [
      "4.043957978729553\n",
      "84\n",
      "[0.0, 0.7, 0.1, 0.9]\n",
      "tf.Tensor([[0.02584359 0.58555496 0.26698223 0.12161916]], shape=(1, 4), dtype=float32)\n",
      "[0.0, 0.9, 0.1, 0.9]\n",
      "tf.Tensor([[0.00706345 0.6991795  0.2471244  0.04663265]], shape=(1, 4), dtype=float32)\n",
      "[0.2, 0.9, 0.1, 0.9]\n",
      "tf.Tensor([[0.00125992 0.9460535  0.04887627 0.00381033]], shape=(1, 4), dtype=float32)\n",
      "[0.0, 0.9, 0.1, 0.9]\n",
      "tf.Tensor([[6.8612915e-04 9.9673438e-01 2.4747995e-03 1.0465828e-04]], shape=(1, 4), dtype=float32)\n",
      "[0.2, 0.9, 0.1, 0.9]\n",
      "tf.Tensor([[9.9961889e-01 3.6940197e-04 7.3081205e-06 4.3746409e-06]], shape=(1, 4), dtype=float32)\n"
     ]
    },
    {
     "name": "stderr",
     "output_type": "stream",
     "text": [
      " 47%|█████████████████████████████████▌                                     | 47301/100000 [8:43:34<6:15:47,  2.34it/s]"
     ]
    },
    {
     "name": "stdout",
     "output_type": "stream",
     "text": [
      "2.540215963463898\n",
      "77\n"
     ]
    },
    {
     "name": "stderr",
     "output_type": "stream",
     "text": [
      " 47%|█████████████████████████████████▋                                     | 47401/100000 [8:44:10<5:16:15,  2.77it/s]"
     ]
    },
    {
     "name": "stdout",
     "output_type": "stream",
     "text": [
      "5.16416555680802\n",
      "83\n",
      "[0.3, 0.4, 0.9, 0.9]\n",
      "tf.Tensor([[0.02558537 0.5446075  0.28839526 0.14141189]], shape=(1, 4), dtype=float32)\n",
      "[0.5, 0.4, 0.9, 0.9]\n",
      "tf.Tensor([[0.01104005 0.6331175  0.28253403 0.07330847]], shape=(1, 4), dtype=float32)\n",
      "[0.5, 0.6, 0.9, 0.9]\n",
      "tf.Tensor([[0.0012685  0.9270177  0.06522875 0.00648502]], shape=(1, 4), dtype=float32)\n",
      "[0.7, 0.6, 0.9, 0.9]\n",
      "tf.Tensor([[2.9570071e-04 9.9553984e-01 3.9347783e-03 2.2966445e-04]], shape=(1, 4), dtype=float32)\n",
      "[0.7, 0.8, 0.9, 0.9]\n",
      "tf.Tensor([[9.8001206e-01 1.9796267e-02 1.5796324e-04 3.3749460e-05]], shape=(1, 4), dtype=float32)\n",
      "[0.8, 0.8, 0.9, 0.9]\n",
      "tf.Tensor([[9.9990773e-01 8.9458888e-05 1.3587554e-06 1.4280487e-06]], shape=(1, 4), dtype=float32)\n",
      "[0.9, 0.8, 0.9, 0.9]\n",
      "tf.Tensor([[9.9988806e-01 1.0841898e-04 1.6965023e-06 1.7383642e-06]], shape=(1, 4), dtype=float32)\n"
     ]
    },
    {
     "name": "stderr",
     "output_type": "stream",
     "text": [
      " 48%|█████████████████████████████████▋                                     | 47500/100000 [8:44:47<4:58:04,  2.94it/s]"
     ]
    },
    {
     "name": "stdout",
     "output_type": "stream",
     "text": [
      "3.4405255138261173\n",
      "81\n"
     ]
    },
    {
     "name": "stderr",
     "output_type": "stream",
     "text": [
      " 48%|█████████████████████████████████▊                                     | 47601/100000 [8:45:23<4:51:56,  2.99it/s]"
     ]
    },
    {
     "name": "stdout",
     "output_type": "stream",
     "text": [
      "4.635854352019346\n",
      "82\n",
      "[0.0, 0.4, 0.1, 0.9]\n",
      "tf.Tensor([[0.02353066 0.5617644  0.28350538 0.13119954]], shape=(1, 4), dtype=float32)\n",
      "[0.0, 0.6, 0.1, 0.9]\n",
      "tf.Tensor([[0.00839161 0.70487386 0.23057728 0.05615725]], shape=(1, 4), dtype=float32)\n",
      "[0.0, 0.8, 0.1, 0.9]\n",
      "tf.Tensor([[0.00099709 0.95600826 0.03919757 0.00379705]], shape=(1, 4), dtype=float32)\n",
      "[0.2, 0.8, 0.1, 0.9]\n",
      "tf.Tensor([[5.5067387e-04 9.9651378e-01 2.7735014e-03 1.6207100e-04]], shape=(1, 4), dtype=float32)\n",
      "[0.0, 0.8, 0.1, 0.9]\n",
      "tf.Tensor([[9.9889225e-01 1.0841398e-03 1.6663595e-05 6.8561999e-06]], shape=(1, 4), dtype=float32)\n",
      "[0.1, 0.8, 0.1, 0.9]\n",
      "tf.Tensor([[9.9989879e-01 9.7891811e-05 1.6645321e-06 1.6983968e-06]], shape=(1, 4), dtype=float32)\n"
     ]
    },
    {
     "name": "stderr",
     "output_type": "stream",
     "text": [
      " 48%|█████████████████████████████████▊                                     | 47701/100000 [8:45:58<4:55:28,  2.95it/s]"
     ]
    },
    {
     "name": "stdout",
     "output_type": "stream",
     "text": [
      "3.9795571157260685\n",
      "87\n"
     ]
    },
    {
     "name": "stderr",
     "output_type": "stream",
     "text": [
      " 48%|█████████████████████████████████▉                                     | 47801/100000 [8:46:33<5:22:50,  2.69it/s]"
     ]
    },
    {
     "name": "stdout",
     "output_type": "stream",
     "text": [
      "5.1432346145803525\n",
      "90\n",
      "[0.0, 0.1, 0.1, 0.9]\n",
      "tf.Tensor([[0.03592984 0.4782924  0.3182047  0.16757312]], shape=(1, 4), dtype=float32)\n",
      "[0.0, 0.3, 0.1, 0.9]\n",
      "tf.Tensor([[0.01716007 0.54267305 0.3243802  0.11578668]], shape=(1, 4), dtype=float32)\n",
      "[0.0, 0.5, 0.1, 0.9]\n",
      "tf.Tensor([[0.00533967 0.77903265 0.18244521 0.03318258]], shape=(1, 4), dtype=float32)\n",
      "[0.0, 0.7, 0.1, 0.9]\n",
      "tf.Tensor([[9.6904708e-04 9.8269421e-01 1.5099199e-02 1.2374925e-03]], shape=(1, 4), dtype=float32)\n",
      "[0.0, 0.9, 0.1, 0.9]\n",
      "tf.Tensor([[9.5186454e-01 4.7572102e-02 4.8568443e-04 7.7772456e-05]], shape=(1, 4), dtype=float32)\n"
     ]
    },
    {
     "name": "stderr",
     "output_type": "stream",
     "text": [
      " 48%|██████████████████████████████████                                     | 47901/100000 [8:47:10<4:20:43,  3.33it/s]"
     ]
    },
    {
     "name": "stdout",
     "output_type": "stream",
     "text": [
      "4.861470646077228\n",
      "89\n"
     ]
    },
    {
     "name": "stderr",
     "output_type": "stream",
     "text": [
      " 48%|██████████████████████████████████                                     | 48001/100000 [8:47:47<5:59:41,  2.41it/s]"
     ]
    },
    {
     "name": "stdout",
     "output_type": "stream",
     "text": [
      "4.092466060274555\n",
      "83\n",
      "[0.4, 0.6, 0.9, 0.1]\n",
      "tf.Tensor([[0.01923759 0.5225213  0.3174139  0.14082722]], shape=(1, 4), dtype=float32)\n",
      "[0.6, 0.6, 0.9, 0.1]\n",
      "tf.Tensor([[0.00289743 0.83127797 0.1426666  0.02315795]], shape=(1, 4), dtype=float32)\n",
      "[0.6, 0.4, 0.9, 0.1]\n",
      "tf.Tensor([[5.0240988e-04 9.8257107e-01 1.5839702e-02 1.0868879e-03]], shape=(1, 4), dtype=float32)\n",
      "[0.8, 0.4, 0.9, 0.1]\n",
      "tf.Tensor([[4.4042561e-03 9.9370921e-01 1.7935411e-03 9.2985683e-05]], shape=(1, 4), dtype=float32)\n",
      "[0.8, 0.2, 0.9, 0.1]\n",
      "tf.Tensor([[9.99894977e-01 1.01590245e-04 1.90707635e-06 1.52401060e-06]], shape=(1, 4), dtype=float32)\n",
      "[0.9, 0.2, 0.9, 0.1]\n",
      "tf.Tensor([[9.9995553e-01 4.2649914e-05 8.0237101e-07 8.9761426e-07]], shape=(1, 4), dtype=float32)\n"
     ]
    },
    {
     "name": "stderr",
     "output_type": "stream",
     "text": [
      " 48%|██████████████████████████████████▏                                    | 48101/100000 [8:48:24<6:00:45,  2.40it/s]"
     ]
    },
    {
     "name": "stdout",
     "output_type": "stream",
     "text": [
      "2.805065891712087\n",
      "82\n"
     ]
    },
    {
     "name": "stderr",
     "output_type": "stream",
     "text": [
      " 48%|██████████████████████████████████▏                                    | 48201/100000 [8:49:00<5:08:40,  2.80it/s]"
     ]
    },
    {
     "name": "stdout",
     "output_type": "stream",
     "text": [
      "5.243372891109607\n",
      "89\n",
      "[0.2, 0.3, 0.1, 0.1]\n",
      "tf.Tensor([[0.01676566 0.6020343  0.26168355 0.11951653]], shape=(1, 4), dtype=float32)\n",
      "[0.2, 0.1, 0.1, 0.1]\n",
      "tf.Tensor([[0.01046962 0.6459553  0.27479246 0.06878264]], shape=(1, 4), dtype=float32)\n",
      "[0.0, 0.1, 0.1, 0.1]\n",
      "tf.Tensor([[0.00189616 0.9199834  0.07102349 0.00709686]], shape=(1, 4), dtype=float32)\n",
      "[0.2, 0.1, 0.1, 0.1]\n",
      "tf.Tensor([[2.1161512e-03 9.9265528e-01 4.9172626e-03 3.1133735e-04]], shape=(1, 4), dtype=float32)\n",
      "[0.0, 0.1, 0.1, 0.1]\n",
      "tf.Tensor([[9.9983621e-01 1.5790289e-04 3.4772031e-06 2.3961318e-06]], shape=(1, 4), dtype=float32)\n"
     ]
    },
    {
     "name": "stderr",
     "output_type": "stream",
     "text": [
      " 48%|██████████████████████████████████▎                                    | 48301/100000 [8:49:38<4:42:03,  3.05it/s]"
     ]
    },
    {
     "name": "stdout",
     "output_type": "stream",
     "text": [
      "2.5950715308924868\n",
      "78\n"
     ]
    },
    {
     "name": "stderr",
     "output_type": "stream",
     "text": [
      " 48%|██████████████████████████████████▎                                    | 48401/100000 [8:50:14<6:00:26,  2.39it/s]"
     ]
    },
    {
     "name": "stdout",
     "output_type": "stream",
     "text": [
      "3.7970010315615452\n",
      "86\n",
      "[0.1, 0.4, 0.5, 0.3]\n",
      "tf.Tensor([[0.03488143 0.4620283  0.33871654 0.16437373]], shape=(1, 4), dtype=float32)\n",
      "[0.3, 0.4, 0.5, 0.3]\n",
      "tf.Tensor([[0.01229873 0.5109275  0.3565771  0.12019674]], shape=(1, 4), dtype=float32)\n",
      "[0.5, 0.4, 0.5, 0.3]\n",
      "tf.Tensor([[0.00160446 0.86461467 0.11890361 0.01487729]], shape=(1, 4), dtype=float32)\n",
      "[0.5, 0.2, 0.5, 0.3]\n",
      "tf.Tensor([[4.8510547e-04 9.9226463e-01 6.7767985e-03 4.7345943e-04]], shape=(1, 4), dtype=float32)\n",
      "[0.5, 0.4, 0.5, 0.3]\n",
      "tf.Tensor([[9.9951470e-01 4.7276332e-04 7.9109859e-06 4.7027033e-06]], shape=(1, 4), dtype=float32)\n"
     ]
    },
    {
     "name": "stderr",
     "output_type": "stream",
     "text": [
      " 49%|██████████████████████████████████▍                                    | 48501/100000 [8:50:50<4:42:58,  3.03it/s]"
     ]
    },
    {
     "name": "stdout",
     "output_type": "stream",
     "text": [
      "4.353377064496122\n",
      "85\n"
     ]
    },
    {
     "name": "stderr",
     "output_type": "stream",
     "text": [
      " 49%|██████████████████████████████████▌                                    | 48601/100000 [8:51:27<5:09:05,  2.77it/s]"
     ]
    },
    {
     "name": "stdout",
     "output_type": "stream",
     "text": [
      "4.423329676911839\n",
      "86\n",
      "[0.1, 0.2, 0.1, 0.1]\n",
      "tf.Tensor([[0.02615738 0.55569416 0.27487412 0.14327434]], shape=(1, 4), dtype=float32)\n",
      "[0.1, 0.0, 0.1, 0.1]\n",
      "tf.Tensor([[0.02052237 0.5170889  0.32244587 0.13994294]], shape=(1, 4), dtype=float32)\n",
      "[0.1, 0.2, 0.1, 0.1]\n",
      "tf.Tensor([[0.00393768 0.72917545 0.22445633 0.04243053]], shape=(1, 4), dtype=float32)\n",
      "[0.1, 0.0, 0.1, 0.1]\n",
      "tf.Tensor([[9.2247740e-04 9.7056657e-01 2.6495099e-02 2.0158801e-03]], shape=(1, 4), dtype=float32)\n",
      "[0.1, 0.2, 0.1, 0.1]\n",
      "tf.Tensor([[9.9857259e-01 1.3904509e-03 2.5761727e-05 1.1200553e-05]], shape=(1, 4), dtype=float32)\n"
     ]
    },
    {
     "name": "stderr",
     "output_type": "stream",
     "text": [
      " 49%|██████████████████████████████████▌                                    | 48701/100000 [8:52:02<5:15:29,  2.71it/s]"
     ]
    },
    {
     "name": "stdout",
     "output_type": "stream",
     "text": [
      "5.128685705775434\n",
      "90\n"
     ]
    },
    {
     "name": "stderr",
     "output_type": "stream",
     "text": [
      " 49%|██████████████████████████████████▋                                    | 48801/100000 [8:52:39<5:41:48,  2.50it/s]"
     ]
    },
    {
     "name": "stdout",
     "output_type": "stream",
     "text": [
      "2.9729030033880264\n",
      "78\n",
      "[0.5, 0.8, 0.5, 0.7]\n",
      "tf.Tensor([[0.01643537 0.56611896 0.29210022 0.12534553]], shape=(1, 4), dtype=float32)\n",
      "[0.5, 0.6, 0.5, 0.7]\n",
      "tf.Tensor([[0.00970877 0.5569923  0.34412193 0.08917702]], shape=(1, 4), dtype=float32)\n",
      "[0.5, 0.8, 0.5, 0.7]\n",
      "tf.Tensor([[8.8851131e-04 9.1080838e-01 8.1102781e-02 7.2003407e-03]], shape=(1, 4), dtype=float32)\n",
      "[0.5, 0.6, 0.5, 0.7]\n",
      "tf.Tensor([[4.0845937e-04 9.9616182e-01 3.2444806e-03 1.8511288e-04]], shape=(1, 4), dtype=float32)\n",
      "[0.5, 0.8, 0.5, 0.7]\n",
      "tf.Tensor([[9.9975258e-01 2.4100985e-04 3.8024878e-06 2.5643183e-06]], shape=(1, 4), dtype=float32)\n"
     ]
    },
    {
     "name": "stderr",
     "output_type": "stream",
     "text": [
      " 49%|██████████████████████████████████▋                                    | 48901/100000 [8:53:16<4:48:30,  2.95it/s]"
     ]
    },
    {
     "name": "stdout",
     "output_type": "stream",
     "text": [
      "4.87230228533414\n",
      "86\n"
     ]
    },
    {
     "name": "stderr",
     "output_type": "stream",
     "text": [
      " 49%|██████████████████████████████████▊                                    | 49001/100000 [8:53:51<5:02:24,  2.81it/s]"
     ]
    },
    {
     "name": "stdout",
     "output_type": "stream",
     "text": [
      "4.167737048459552\n",
      "89\n",
      "[0.4, 0.3, 0.5, 0.7]\n",
      "tf.Tensor([[0.04563783 0.41755483 0.36866778 0.1681395 ]], shape=(1, 4), dtype=float32)\n",
      "[0.4, 0.5, 0.5, 0.7]\n",
      "tf.Tensor([[0.02197726 0.44974685 0.38248077 0.14579514]], shape=(1, 4), dtype=float32)\n",
      "[0.4, 0.7, 0.5, 0.7]\n",
      "tf.Tensor([[0.00545458 0.61667526 0.32748082 0.05038937]], shape=(1, 4), dtype=float32)\n",
      "[0.6, 0.7, 0.5, 0.7]\n",
      "tf.Tensor([[9.5956889e-04 9.8275650e-01 1.5333955e-02 9.4996236e-04]], shape=(1, 4), dtype=float32)\n",
      "[0.4, 0.7, 0.5, 0.7]\n",
      "tf.Tensor([[9.9953532e-01 4.5206814e-04 8.5120337e-06 4.2249444e-06]], shape=(1, 4), dtype=float32)\n"
     ]
    },
    {
     "name": "stderr",
     "output_type": "stream",
     "text": [
      " 49%|██████████████████████████████████▊                                    | 49102/100000 [8:54:27<4:29:57,  3.14it/s]"
     ]
    },
    {
     "name": "stdout",
     "output_type": "stream",
     "text": [
      "5.456970530937319\n",
      "86\n"
     ]
    },
    {
     "name": "stderr",
     "output_type": "stream",
     "text": [
      " 49%|██████████████████████████████████▉                                    | 49201/100000 [8:55:03<4:08:04,  3.41it/s]"
     ]
    },
    {
     "name": "stdout",
     "output_type": "stream",
     "text": [
      "4.498685974621363\n",
      "86\n",
      "[0.4, 0.1, 0.5, 0.7]\n",
      "tf.Tensor([[0.03723957 0.4371394  0.36288977 0.16273123]], shape=(1, 4), dtype=float32)\n",
      "[0.4, 0.3, 0.5, 0.7]\n",
      "tf.Tensor([[0.01778623 0.46962574 0.3715934  0.1409947 ]], shape=(1, 4), dtype=float32)\n",
      "[0.4, 0.5, 0.5, 0.7]\n",
      "tf.Tensor([[0.00653655 0.6150088  0.32063392 0.05782074]], shape=(1, 4), dtype=float32)\n",
      "[0.4, 0.7, 0.5, 0.7]\n",
      "tf.Tensor([[7.5676240e-04 9.8393536e-01 1.4383655e-02 9.2421897e-04]], shape=(1, 4), dtype=float32)\n",
      "[0.6, 0.7, 0.5, 0.7]\n",
      "tf.Tensor([[9.9881113e-01 1.1554026e-03 2.3688708e-05 9.7076509e-06]], shape=(1, 4), dtype=float32)\n"
     ]
    },
    {
     "name": "stderr",
     "output_type": "stream",
     "text": [
      " 49%|███████████████████████████████████                                    | 49301/100000 [8:55:39<5:42:08,  2.47it/s]"
     ]
    },
    {
     "name": "stdout",
     "output_type": "stream",
     "text": [
      "4.195149949944062\n",
      "88\n"
     ]
    },
    {
     "name": "stderr",
     "output_type": "stream",
     "text": [
      " 49%|███████████████████████████████████                                    | 49401/100000 [8:56:16<5:43:28,  2.46it/s]"
     ]
    },
    {
     "name": "stdout",
     "output_type": "stream",
     "text": [
      "3.9440694989635157\n",
      "85\n",
      "[0.7, 0.1, 0.1, 0.9]\n",
      "tf.Tensor([[0.03837596 0.40538076 0.3829255  0.17331779]], shape=(1, 4), dtype=float32)\n",
      "[0.7, 0.3, 0.1, 0.9]\n",
      "tf.Tensor([[0.01822602 0.43177634 0.39652997 0.1534677 ]], shape=(1, 4), dtype=float32)\n",
      "[0.7, 0.5, 0.1, 0.9]\n",
      "tf.Tensor([[0.00720236 0.5924576  0.3369188  0.06342129]], shape=(1, 4), dtype=float32)\n",
      "[0.5, 0.5, 0.1, 0.9]\n",
      "tf.Tensor([[0.00128237 0.9736574  0.02330858 0.00175164]], shape=(1, 4), dtype=float32)\n",
      "[0.5, 0.7, 0.1, 0.9]\n",
      "tf.Tensor([[9.9894518e-01 1.0227978e-03 2.2346285e-05 9.5980567e-06]], shape=(1, 4), dtype=float32)\n",
      "[0.4, 0.7, 0.1, 0.9]\n",
      "tf.Tensor([[9.9992502e-01 7.2170878e-05 1.4329396e-06 1.3927814e-06]], shape=(1, 4), dtype=float32)\n",
      "[0.3, 0.7, 0.1, 0.9]\n",
      "tf.Tensor([[9.9992824e-01 6.9092981e-05 1.3222660e-06 1.2745235e-06]], shape=(1, 4), dtype=float32)\n",
      "[0.3, 0.8, 0.1, 0.9]\n",
      "tf.Tensor([[9.9993086e-01 6.6561544e-05 1.3017374e-06 1.2857131e-06]], shape=(1, 4), dtype=float32)\n",
      "[0.2, 0.8, 0.1, 0.9]\n",
      "tf.Tensor([[9.9993110e-01 6.6234825e-05 1.2998310e-06 1.2901462e-06]], shape=(1, 4), dtype=float32)\n",
      "[0.1, 0.8, 0.1, 0.9]\n",
      "tf.Tensor([[9.9993277e-01 6.4828455e-05 1.2331092e-06 1.2107657e-06]], shape=(1, 4), dtype=float32)\n"
     ]
    },
    {
     "name": "stderr",
     "output_type": "stream",
     "text": [
      " 50%|███████████████████████████████████▏                                   | 49501/100000 [8:56:52<5:47:08,  2.42it/s]"
     ]
    },
    {
     "name": "stdout",
     "output_type": "stream",
     "text": [
      "3.3307134912637455\n",
      "79\n"
     ]
    },
    {
     "name": "stderr",
     "output_type": "stream",
     "text": [
      " 50%|███████████████████████████████████▏                                   | 49601/100000 [8:57:28<5:39:35,  2.47it/s]"
     ]
    },
    {
     "name": "stdout",
     "output_type": "stream",
     "text": [
      "4.133216693791072\n",
      "87\n",
      "[0.8, 0.3, 0.1, 0.9]\n",
      "tf.Tensor([[0.03890877 0.4350274  0.3505488  0.175515  ]], shape=(1, 4), dtype=float32)\n",
      "[0.8, 0.5, 0.1, 0.9]\n",
      "tf.Tensor([[0.01810891 0.4911056  0.3485596  0.14222588]], shape=(1, 4), dtype=float32)\n",
      "[0.6, 0.5, 0.1, 0.9]\n",
      "tf.Tensor([[0.00661994 0.6277528  0.30513164 0.06049562]], shape=(1, 4), dtype=float32)\n",
      "[0.6, 0.7, 0.1, 0.9]\n",
      "tf.Tensor([[1.1958849e-03 9.8528975e-01 1.2563898e-02 9.5042994e-04]], shape=(1, 4), dtype=float32)\n",
      "[0.4, 0.7, 0.1, 0.9]\n",
      "tf.Tensor([[9.9952698e-01 4.5780206e-04 9.9171584e-06 5.3888734e-06]], shape=(1, 4), dtype=float32)\n",
      "[0.3, 0.7, 0.1, 0.9]\n",
      "tf.Tensor([[9.9992859e-01 6.8942471e-05 1.2860352e-06 1.2458072e-06]], shape=(1, 4), dtype=float32)\n",
      "[0.3, 0.8, 0.1, 0.9]\n",
      "tf.Tensor([[9.9993086e-01 6.6459870e-05 1.2663064e-06 1.2559211e-06]], shape=(1, 4), dtype=float32)\n",
      "[0.2, 0.8, 0.1, 0.9]\n",
      "tf.Tensor([[9.9993122e-01 6.6429799e-05 1.2284686e-06 1.2043217e-06]], shape=(1, 4), dtype=float32)\n",
      "[0.2, 0.9, 0.1, 0.9]\n",
      "tf.Tensor([[9.9993384e-01 6.3751788e-05 1.2008923e-06 1.2048201e-06]], shape=(1, 4), dtype=float32)\n"
     ]
    },
    {
     "name": "stderr",
     "output_type": "stream",
     "text": [
      " 50%|███████████████████████████████████▎                                   | 49701/100000 [8:58:04<5:26:21,  2.57it/s]"
     ]
    },
    {
     "name": "stdout",
     "output_type": "stream",
     "text": [
      "4.43880159123253\n",
      "84\n"
     ]
    },
    {
     "name": "stderr",
     "output_type": "stream",
     "text": [
      " 50%|███████████████████████████████████▎                                   | 49801/100000 [8:58:40<5:57:57,  2.34it/s]"
     ]
    },
    {
     "name": "stdout",
     "output_type": "stream",
     "text": [
      "4.648250301661944\n",
      "88\n",
      "[0.4, 0.8, 0.9, 0.1]\n",
      "tf.Tensor([[0.02635404 0.49550346 0.3286245  0.14951797]], shape=(1, 4), dtype=float32)\n",
      "[0.6, 0.8, 0.9, 0.1]\n",
      "tf.Tensor([[0.00568729 0.6428073  0.27029964 0.08120567]], shape=(1, 4), dtype=float32)\n",
      "[0.6, 0.6, 0.9, 0.1]\n",
      "tf.Tensor([[8.2269072e-04 9.1187537e-01 7.8590050e-02 8.7118689e-03]], shape=(1, 4), dtype=float32)\n",
      "[0.6, 0.4, 0.9, 0.1]\n",
      "tf.Tensor([[9.0374221e-04 9.9682415e-01 2.1369944e-03 1.3509272e-04]], shape=(1, 4), dtype=float32)\n",
      "[0.8, 0.4, 0.9, 0.1]\n",
      "tf.Tensor([[9.9988973e-01 1.0712313e-04 1.7177050e-06 1.4711082e-06]], shape=(1, 4), dtype=float32)\n",
      "[0.8, 0.3, 0.9, 0.1]\n",
      "tf.Tensor([[9.9995089e-01 4.7457244e-05 7.8164936e-07 8.5525420e-07]], shape=(1, 4), dtype=float32)\n",
      "[0.8, 0.2, 0.9, 0.1]\n",
      "tf.Tensor([[9.9994957e-01 4.8764050e-05 8.3387306e-07 8.4731812e-07]], shape=(1, 4), dtype=float32)\n",
      "[0.9, 0.2, 0.9, 0.1]\n",
      "tf.Tensor([[9.9995148e-01 4.6954196e-05 7.7155590e-07 8.4499493e-07]], shape=(1, 4), dtype=float32)\n"
     ]
    },
    {
     "name": "stderr",
     "output_type": "stream",
     "text": [
      " 50%|███████████████████████████████████▍                                   | 49901/100000 [8:59:16<5:50:17,  2.38it/s]"
     ]
    },
    {
     "name": "stdout",
     "output_type": "stream",
     "text": [
      "2.549220239602639\n",
      "80\n"
     ]
    },
    {
     "name": "stderr",
     "output_type": "stream",
     "text": [
      " 50%|███████████████████████████████████▌                                   | 50001/100000 [8:59:52<4:36:45,  3.01it/s]"
     ]
    },
    {
     "name": "stdout",
     "output_type": "stream",
     "text": [
      "4.81614796614701\n",
      "88\n",
      "[0.1, 0.0, 0.9, 0.1]\n",
      "tf.Tensor([[0.03788629 0.4901887  0.31676602 0.1551589 ]], shape=(1, 4), dtype=float32)\n",
      "[0.3, 0.0, 0.9, 0.1]\n",
      "tf.Tensor([[0.01824298 0.51618934 0.33140707 0.13416065]], shape=(1, 4), dtype=float32)\n",
      "[0.5, 0.0, 0.9, 0.1]\n",
      "tf.Tensor([[0.0050114  0.6151105  0.30783495 0.07204311]], shape=(1, 4), dtype=float32)\n",
      "[0.7, 0.0, 0.9, 0.1]\n",
      "tf.Tensor([[5.0473062e-04 9.8477942e-01 1.3489084e-02 1.2267639e-03]], shape=(1, 4), dtype=float32)\n",
      "[0.9, 0.0, 0.9, 0.1]\n",
      "tf.Tensor([[9.9895406e-01 1.0201469e-03 1.6540571e-05 9.1407228e-06]], shape=(1, 4), dtype=float32)\n"
     ]
    },
    {
     "name": "stderr",
     "output_type": "stream",
     "text": [
      " 50%|███████████████████████████████████▌                                   | 50101/100000 [9:00:29<5:17:51,  2.62it/s]"
     ]
    },
    {
     "name": "stdout",
     "output_type": "stream",
     "text": [
      "4.140203502669277\n",
      "82\n"
     ]
    },
    {
     "name": "stderr",
     "output_type": "stream",
     "text": [
      " 50%|███████████████████████████████████▋                                   | 50201/100000 [9:01:06<5:06:54,  2.70it/s]"
     ]
    },
    {
     "name": "stdout",
     "output_type": "stream",
     "text": [
      "4.122702700611254\n",
      "82\n",
      "[0.6, 0.8, 0.9, 0.1]\n",
      "tf.Tensor([[0.01481746 0.62706757 0.2481943  0.10992058]], shape=(1, 4), dtype=float32)\n",
      "[0.6, 0.6, 0.9, 0.1]\n",
      "tf.Tensor([[0.00371466 0.72600335 0.21910365 0.05117831]], shape=(1, 4), dtype=float32)\n",
      "[0.6, 0.4, 0.9, 0.1]\n",
      "tf.Tensor([[6.0702284e-04 9.5536411e-01 4.0284615e-02 3.7443200e-03]], shape=(1, 4), dtype=float32)\n",
      "[0.8, 0.4, 0.9, 0.1]\n",
      "tf.Tensor([[1.439644e-03 9.969747e-01 1.493174e-03 9.241795e-05]], shape=(1, 4), dtype=float32)\n",
      "[0.8, 0.2, 0.9, 0.1]\n",
      "tf.Tensor([[9.9985254e-01 1.4372001e-04 2.0701364e-06 1.6862575e-06]], shape=(1, 4), dtype=float32)\n",
      "[0.9, 0.2, 0.9, 0.1]\n",
      "tf.Tensor([[9.9993229e-01 6.5717264e-05 9.3588073e-07 1.0328478e-06]], shape=(1, 4), dtype=float32)\n"
     ]
    },
    {
     "name": "stderr",
     "output_type": "stream",
     "text": [
      " 50%|███████████████████████████████████▋                                   | 50301/100000 [9:01:43<5:24:42,  2.55it/s]"
     ]
    },
    {
     "name": "stdout",
     "output_type": "stream",
     "text": [
      "4.951063659868185\n",
      "91\n"
     ]
    },
    {
     "name": "stderr",
     "output_type": "stream",
     "text": [
      " 50%|███████████████████████████████████▊                                   | 50401/100000 [9:02:19<5:19:38,  2.59it/s]"
     ]
    },
    {
     "name": "stdout",
     "output_type": "stream",
     "text": [
      "5.83582991807596\n",
      "90\n",
      "[0.2, 0.9, 0.9, 0.9]\n",
      "tf.Tensor([[0.02178859 0.53662705 0.31947696 0.12210739]], shape=(1, 4), dtype=float32)\n",
      "[0.4, 0.9, 0.9, 0.9]\n",
      "tf.Tensor([[0.00625064 0.5926237  0.31640324 0.08472238]], shape=(1, 4), dtype=float32)\n",
      "[0.6, 0.9, 0.9, 0.9]\n",
      "tf.Tensor([[7.2563376e-04 9.0371811e-01 8.7088577e-02 8.4675550e-03]], shape=(1, 4), dtype=float32)\n",
      "[0.8, 0.9, 0.9, 0.9]\n",
      "tf.Tensor([[5.8990944e-04 9.9737382e-01 1.9341824e-03 1.0196906e-04]], shape=(1, 4), dtype=float32)\n",
      "[1.0, 0.9, 0.9, 0.9]\n",
      "tf.Tensor([[9.9981600e-01 1.7900692e-04 2.7508274e-06 2.2534980e-06]], shape=(1, 4), dtype=float32)\n"
     ]
    },
    {
     "name": "stderr",
     "output_type": "stream",
     "text": [
      " 51%|███████████████████████████████████▊                                   | 50501/100000 [9:02:54<4:41:26,  2.93it/s]"
     ]
    },
    {
     "name": "stdout",
     "output_type": "stream",
     "text": [
      "4.331621196926681\n",
      "88\n"
     ]
    },
    {
     "name": "stderr",
     "output_type": "stream",
     "text": [
      " 51%|███████████████████████████████████▉                                   | 50601/100000 [9:03:29<5:43:38,  2.40it/s]"
     ]
    },
    {
     "name": "stdout",
     "output_type": "stream",
     "text": [
      "3.8757676948415254\n",
      "83\n",
      "[0.9, 0.4, 0.5, 0.3]\n",
      "tf.Tensor([[0.01610069 0.61585206 0.2576387  0.11040857]], shape=(1, 4), dtype=float32)\n",
      "[0.7, 0.4, 0.5, 0.3]\n",
      "tf.Tensor([[0.00601935 0.69127446 0.24516837 0.05753786]], shape=(1, 4), dtype=float32)\n",
      "[0.5, 0.4, 0.5, 0.3]\n",
      "tf.Tensor([[4.8150332e-04 9.6898556e-01 2.8028646e-02 2.5042952e-03]], shape=(1, 4), dtype=float32)\n",
      "[0.5, 0.2, 0.5, 0.3]\n",
      "tf.Tensor([[1.7153454e-03 9.9520916e-01 2.9026719e-03 1.7275951e-04]], shape=(1, 4), dtype=float32)\n",
      "[0.5, 0.4, 0.5, 0.3]\n",
      "tf.Tensor([[9.9975795e-01 2.3576718e-04 3.6129061e-06 2.7863662e-06]], shape=(1, 4), dtype=float32)\n"
     ]
    },
    {
     "name": "stderr",
     "output_type": "stream",
     "text": [
      " 51%|███████████████████████████████████▉                                   | 50701/100000 [9:04:07<5:13:05,  2.62it/s]"
     ]
    },
    {
     "name": "stdout",
     "output_type": "stream",
     "text": [
      "3.0634639707476103\n",
      "81\n"
     ]
    },
    {
     "name": "stderr",
     "output_type": "stream",
     "text": [
      " 51%|████████████████████████████████████                                   | 50801/100000 [9:04:43<4:07:41,  3.31it/s]"
     ]
    },
    {
     "name": "stdout",
     "output_type": "stream",
     "text": [
      "4.426516048468009\n",
      "84\n",
      "[0.9, 0.2, 0.9, 0.9]\n",
      "tf.Tensor([[0.01531008 0.5944958  0.27490348 0.11529063]], shape=(1, 4), dtype=float32)\n",
      "[0.9, 0.4, 0.9, 0.9]\n",
      "tf.Tensor([[0.00535785 0.662155   0.26769435 0.06479286]], shape=(1, 4), dtype=float32)\n",
      "[0.9, 0.6, 0.9, 0.9]\n",
      "tf.Tensor([[8.903376e-04 9.271304e-01 6.481200e-02 7.167250e-03]], shape=(1, 4), dtype=float32)\n",
      "[0.9, 0.8, 0.9, 0.9]\n",
      "tf.Tensor([[5.3478102e-04 9.9662554e-01 2.6627304e-03 1.7696458e-04]], shape=(1, 4), dtype=float32)\n",
      "[0.9, 1.0, 0.9, 0.9]\n",
      "tf.Tensor([[9.9943501e-01 5.5374164e-04 7.0216729e-06 4.1754347e-06]], shape=(1, 4), dtype=float32)\n"
     ]
    },
    {
     "name": "stderr",
     "output_type": "stream",
     "text": [
      " 51%|████████████████████████████████████▏                                  | 50901/100000 [9:05:18<5:22:53,  2.53it/s]"
     ]
    },
    {
     "name": "stdout",
     "output_type": "stream",
     "text": [
      "5.385271836871988\n",
      "88\n"
     ]
    },
    {
     "name": "stderr",
     "output_type": "stream",
     "text": [
      " 51%|████████████████████████████████████▏                                  | 51001/100000 [9:05:54<3:49:08,  3.56it/s]"
     ]
    },
    {
     "name": "stdout",
     "output_type": "stream",
     "text": [
      "4.824005482426536\n",
      "82\n",
      "[0.3, 0.2, 0.5, 0.7]\n",
      "tf.Tensor([[0.01525034 0.60320586 0.2694672  0.11207663]], shape=(1, 4), dtype=float32)\n",
      "[0.3, 0.4, 0.5, 0.7]\n",
      "tf.Tensor([[0.00625959 0.65679085 0.26366633 0.07328326]], shape=(1, 4), dtype=float32)\n",
      "[0.3, 0.6, 0.5, 0.7]\n",
      "tf.Tensor([[8.114557e-04 9.144902e-01 7.582775e-02 8.870620e-03]], shape=(1, 4), dtype=float32)\n",
      "[0.5, 0.6, 0.5, 0.7]\n",
      "tf.Tensor([[3.2145236e-04 9.9585682e-01 3.5639761e-03 2.5768258e-04]], shape=(1, 4), dtype=float32)\n",
      "[0.5, 0.8, 0.5, 0.7]\n",
      "tf.Tensor([[9.9919838e-01 7.8455691e-04 1.0994142e-05 6.1201304e-06]], shape=(1, 4), dtype=float32)\n"
     ]
    },
    {
     "name": "stderr",
     "output_type": "stream",
     "text": [
      " 51%|████████████████████████████████████▎                                  | 51101/100000 [9:06:30<5:31:26,  2.46it/s]"
     ]
    },
    {
     "name": "stdout",
     "output_type": "stream",
     "text": [
      "3.9326634365687676\n",
      "83\n"
     ]
    },
    {
     "name": "stderr",
     "output_type": "stream",
     "text": [
      " 51%|████████████████████████████████████▎                                  | 51201/100000 [9:07:05<5:01:17,  2.70it/s]"
     ]
    },
    {
     "name": "stdout",
     "output_type": "stream",
     "text": [
      "5.290091418831111\n",
      "83\n",
      "[0.9, 0.1, 0.1, 0.9]\n",
      "tf.Tensor([[0.01620501 0.58381546 0.28278464 0.11719499]], shape=(1, 4), dtype=float32)\n",
      "[0.9, 0.3, 0.1, 0.9]\n",
      "tf.Tensor([[0.00590102 0.65519273 0.27436578 0.06454059]], shape=(1, 4), dtype=float32)\n",
      "[0.9, 0.5, 0.1, 0.9]\n",
      "tf.Tensor([[0.00104343 0.9271575  0.06490389 0.00689519]], shape=(1, 4), dtype=float32)\n",
      "[0.7, 0.5, 0.1, 0.9]\n",
      "tf.Tensor([[6.4677198e-04 9.9576616e-01 3.3849992e-03 2.0201421e-04]], shape=(1, 4), dtype=float32)\n",
      "[0.5, 0.5, 0.1, 0.9]\n",
      "tf.Tensor([[9.99277771e-01 7.04311824e-04 1.15231505e-05 6.42445866e-06]], shape=(1, 4), dtype=float32)\n",
      "[0.5, 0.6, 0.1, 0.9]\n",
      "tf.Tensor([[9.99886751e-01 1.09741835e-04 1.68030977e-06 1.73312947e-06]], shape=(1, 4), dtype=float32)\n",
      "[0.5, 0.7, 0.1, 0.9]\n",
      "tf.Tensor([[9.9989188e-01 1.0461441e-04 1.6475211e-06 1.7467282e-06]], shape=(1, 4), dtype=float32)\n",
      "[0.4, 0.7, 0.1, 0.9]\n",
      "tf.Tensor([[9.9989402e-01 1.0245960e-04 1.6224524e-06 1.7365171e-06]], shape=(1, 4), dtype=float32)\n",
      "[0.3, 0.7, 0.1, 0.9]\n",
      "tf.Tensor([[9.99892712e-01 1.04019484e-04 1.59686249e-06 1.68286329e-06]], shape=(1, 4), dtype=float32)\n",
      "[0.3, 0.8, 0.1, 0.9]\n",
      "tf.Tensor([[9.99894261e-01 1.02496764e-04 1.60658306e-06 1.72060652e-06]], shape=(1, 4), dtype=float32)\n"
     ]
    },
    {
     "name": "stderr",
     "output_type": "stream",
     "text": [
      " 51%|████████████████████████████████████▍                                  | 51301/100000 [9:07:43<5:18:00,  2.55it/s]"
     ]
    },
    {
     "name": "stdout",
     "output_type": "stream",
     "text": [
      "4.023974976733051\n",
      "85\n"
     ]
    },
    {
     "name": "stderr",
     "output_type": "stream",
     "text": [
      " 51%|████████████████████████████████████▍                                  | 51401/100000 [9:08:19<5:16:44,  2.56it/s]"
     ]
    },
    {
     "name": "stdout",
     "output_type": "stream",
     "text": [
      "5.012102088366614\n",
      "86\n",
      "[0.8, 0.0, 0.1, 0.9]\n",
      "tf.Tensor([[0.02087992 0.5454457  0.31131062 0.12236368]], shape=(1, 4), dtype=float32)\n",
      "[0.8, 0.2, 0.1, 0.9]\n",
      "tf.Tensor([[0.00859419 0.5956858  0.31505114 0.08066889]], shape=(1, 4), dtype=float32)\n",
      "[0.8, 0.4, 0.1, 0.9]\n",
      "tf.Tensor([[0.00211731 0.8637497  0.12009142 0.01404159]], shape=(1, 4), dtype=float32)\n",
      "[0.6, 0.4, 0.1, 0.9]\n",
      "tf.Tensor([[6.057021e-04 9.933543e-01 5.660194e-03 3.797582e-04]], shape=(1, 4), dtype=float32)\n",
      "[0.6, 0.6, 0.1, 0.9]\n",
      "tf.Tensor([[9.9872738e-01 1.2406488e-03 2.1523056e-05 1.0315988e-05]], shape=(1, 4), dtype=float32)\n",
      "[0.5, 0.6, 0.1, 0.9]\n",
      "tf.Tensor([[9.9988365e-01 1.1253932e-04 1.8690956e-06 1.9206341e-06]], shape=(1, 4), dtype=float32)\n",
      "[0.4, 0.6, 0.1, 0.9]\n",
      "tf.Tensor([[9.99887824e-01 1.08604705e-04 1.73788317e-06 1.77352251e-06]], shape=(1, 4), dtype=float32)\n",
      "[0.4, 0.7, 0.1, 0.9]\n",
      "tf.Tensor([[9.9989319e-01 1.0336923e-04 1.6895134e-06 1.7699247e-06]], shape=(1, 4), dtype=float32)\n",
      "[0.3, 0.7, 0.1, 0.9]\n",
      "tf.Tensor([[9.99891996e-01 1.04645456e-04 1.65976371e-06 1.71451586e-06]], shape=(1, 4), dtype=float32)\n",
      "[0.3, 0.8, 0.1, 0.9]\n",
      "tf.Tensor([[9.9989760e-01 9.9121018e-05 1.6003523e-06 1.6967208e-06]], shape=(1, 4), dtype=float32)\n"
     ]
    },
    {
     "name": "stderr",
     "output_type": "stream",
     "text": [
      " 52%|████████████████████████████████████▌                                  | 51501/100000 [9:08:56<4:59:44,  2.70it/s]"
     ]
    },
    {
     "name": "stdout",
     "output_type": "stream",
     "text": [
      "4.309373718113389\n",
      "83\n"
     ]
    },
    {
     "name": "stderr",
     "output_type": "stream",
     "text": [
      " 52%|████████████████████████████████████▋                                  | 51601/100000 [9:09:33<5:25:08,  2.48it/s]"
     ]
    },
    {
     "name": "stdout",
     "output_type": "stream",
     "text": [
      "3.9329670208412866\n",
      "80\n",
      "[0.6, 0.3, 0.9, 0.1]\n",
      "tf.Tensor([[0.00766885 0.6587473  0.25239486 0.08118896]], shape=(1, 4), dtype=float32)\n",
      "[0.8, 0.3, 0.9, 0.1]\n",
      "tf.Tensor([[0.00101245 0.8791463  0.10556384 0.01427745]], shape=(1, 4), dtype=float32)\n",
      "[0.8, 0.1, 0.9, 0.1]\n",
      "tf.Tensor([[1.6098974e-04 9.8925215e-01 9.9280057e-03 6.5887050e-04]], shape=(1, 4), dtype=float32)\n",
      "[1.0, 0.1, 0.9, 0.1]\n",
      "tf.Tensor([[9.562171e-04 9.976030e-01 1.358515e-03 8.226979e-05]], shape=(1, 4), dtype=float32)\n",
      "[0.8, 0.1, 0.9, 0.1]\n",
      "tf.Tensor([[9.9978966e-01 2.0518438e-04 2.7198901e-06 2.3583918e-06]], shape=(1, 4), dtype=float32)\n"
     ]
    },
    {
     "name": "stderr",
     "output_type": "stream",
     "text": [
      " 52%|████████████████████████████████████▋                                  | 51701/100000 [9:10:09<3:40:29,  3.65it/s]"
     ]
    },
    {
     "name": "stdout",
     "output_type": "stream",
     "text": [
      "4.353603373705542\n",
      "79\n"
     ]
    },
    {
     "name": "stderr",
     "output_type": "stream",
     "text": [
      " 52%|████████████████████████████████████▊                                  | 51801/100000 [9:10:45<5:28:36,  2.44it/s]"
     ]
    },
    {
     "name": "stdout",
     "output_type": "stream",
     "text": [
      "4.08188467302267\n",
      "83\n",
      "[0.7, 0.4, 0.9, 0.1]\n",
      "tf.Tensor([[0.00790043 0.67938626 0.23983628 0.07287709]], shape=(1, 4), dtype=float32)\n",
      "[0.7, 0.2, 0.9, 0.1]\n",
      "tf.Tensor([[0.00251872 0.76918    0.20124581 0.02705546]], shape=(1, 4), dtype=float32)\n",
      "[0.9, 0.2, 0.9, 0.1]\n",
      "tf.Tensor([[1.7604428e-04 9.8494381e-01 1.4085061e-02 7.9513300e-04]], shape=(1, 4), dtype=float32)\n",
      "[0.9, 0.0, 0.9, 0.1]\n",
      "tf.Tensor([[8.7737472e-04 9.9761885e-01 1.4185183e-03 8.5207408e-05]], shape=(1, 4), dtype=float32)\n",
      "[0.9, 0.2, 0.9, 0.1]\n",
      "tf.Tensor([[9.9977559e-01 2.1916404e-04 2.6888210e-06 2.4445039e-06]], shape=(1, 4), dtype=float32)\n"
     ]
    },
    {
     "name": "stderr",
     "output_type": "stream",
     "text": [
      " 52%|████████████████████████████████████▊                                  | 51901/100000 [9:11:20<5:20:51,  2.50it/s]"
     ]
    },
    {
     "name": "stdout",
     "output_type": "stream",
     "text": [
      "4.361138215691256\n",
      "87\n"
     ]
    },
    {
     "name": "stderr",
     "output_type": "stream",
     "text": [
      " 52%|████████████████████████████████████▉                                  | 52001/100000 [9:11:56<5:25:39,  2.46it/s]"
     ]
    },
    {
     "name": "stdout",
     "output_type": "stream",
     "text": [
      "3.5737856248457733\n",
      "84\n",
      "[0.2, 0.5, 0.1, 0.9]\n",
      "tf.Tensor([[0.02224997 0.5222212  0.3313187  0.12421019]], shape=(1, 4), dtype=float32)\n",
      "[0.2, 0.7, 0.1, 0.9]\n",
      "tf.Tensor([[0.00788209 0.6134113  0.31043565 0.068271  ]], shape=(1, 4), dtype=float32)\n",
      "[0.2, 0.9, 0.1, 0.9]\n",
      "tf.Tensor([[0.00097402 0.9442043  0.05017163 0.00465002]], shape=(1, 4), dtype=float32)\n",
      "[0.0, 0.9, 0.1, 0.9]\n",
      "tf.Tensor([[6.5724785e-04 9.9726945e-01 1.9821119e-03 9.1131893e-05]], shape=(1, 4), dtype=float32)\n",
      "[0.2, 0.9, 0.1, 0.9]\n",
      "tf.Tensor([[9.9950457e-01 4.8377749e-04 7.0132469e-06 4.6873561e-06]], shape=(1, 4), dtype=float32)\n"
     ]
    },
    {
     "name": "stderr",
     "output_type": "stream",
     "text": [
      " 52%|████████████████████████████████████▉                                  | 52101/100000 [9:12:32<4:12:56,  3.16it/s]"
     ]
    },
    {
     "name": "stdout",
     "output_type": "stream",
     "text": [
      "4.785292056862451\n",
      "83\n"
     ]
    },
    {
     "name": "stderr",
     "output_type": "stream",
     "text": [
      " 52%|█████████████████████████████████████                                  | 52201/100000 [9:13:08<5:10:13,  2.57it/s]"
     ]
    },
    {
     "name": "stdout",
     "output_type": "stream",
     "text": [
      "4.24975446670982\n",
      "80\n",
      "[0.0, 0.1, 0.1, 0.1]\n",
      "tf.Tensor([[0.03470008 0.45204967 0.37345377 0.13979636]], shape=(1, 4), dtype=float32)\n",
      "[0.2, 0.1, 0.1, 0.1]\n",
      "tf.Tensor([[0.0169657  0.54750925 0.33246845 0.10305667]], shape=(1, 4), dtype=float32)\n",
      "[0.0, 0.1, 0.1, 0.1]\n",
      "tf.Tensor([[0.00380431 0.78446364 0.18721569 0.02451639]], shape=(1, 4), dtype=float32)\n",
      "[0.2, 0.1, 0.1, 0.1]\n",
      "tf.Tensor([[5.593367e-04 9.927168e-01 6.287751e-03 4.361976e-04]], shape=(1, 4), dtype=float32)\n",
      "[0.0, 0.1, 0.1, 0.1]\n",
      "tf.Tensor([[9.9902666e-01 9.5282833e-04 1.3443441e-05 7.0785095e-06]], shape=(1, 4), dtype=float32)\n"
     ]
    },
    {
     "name": "stderr",
     "output_type": "stream",
     "text": [
      " 52%|█████████████████████████████████████▏                                 | 52301/100000 [9:13:45<5:22:32,  2.46it/s]"
     ]
    },
    {
     "name": "stdout",
     "output_type": "stream",
     "text": [
      "4.275962498992513\n",
      "81\n"
     ]
    },
    {
     "name": "stderr",
     "output_type": "stream",
     "text": [
      " 52%|█████████████████████████████████████▏                                 | 52401/100000 [9:14:22<4:50:26,  2.73it/s]"
     ]
    },
    {
     "name": "stdout",
     "output_type": "stream",
     "text": [
      "3.9013974807756497\n",
      "82\n",
      "[0.0, 0.2, 0.9, 0.1]\n",
      "tf.Tensor([[0.04453133 0.42100728 0.39277893 0.14168243]], shape=(1, 4), dtype=float32)\n",
      "[0.2, 0.2, 0.9, 0.1]\n",
      "tf.Tensor([[0.02059349 0.44987705 0.40585956 0.12366994]], shape=(1, 4), dtype=float32)\n",
      "[0.4, 0.2, 0.9, 0.1]\n",
      "tf.Tensor([[0.00541903 0.572684   0.36501566 0.05688134]], shape=(1, 4), dtype=float32)\n",
      "[0.6, 0.2, 0.9, 0.1]\n",
      "tf.Tensor([[3.6287110e-04 9.8182434e-01 1.6790923e-02 1.0218845e-03]], shape=(1, 4), dtype=float32)\n",
      "[0.8, 0.2, 0.9, 0.1]\n",
      "tf.Tensor([[9.9645555e-01 3.4889723e-03 3.8845166e-05 1.6676868e-05]], shape=(1, 4), dtype=float32)\n",
      "[0.9, 0.2, 0.9, 0.1]\n",
      "tf.Tensor([[9.9990273e-01 9.4682327e-05 1.2180104e-06 1.4659959e-06]], shape=(1, 4), dtype=float32)\n"
     ]
    },
    {
     "name": "stderr",
     "output_type": "stream",
     "text": [
      " 53%|█████████████████████████████████████▎                                 | 52501/100000 [9:14:59<5:21:56,  2.46it/s]"
     ]
    },
    {
     "name": "stdout",
     "output_type": "stream",
     "text": [
      "3.0504514113481846\n",
      "85\n"
     ]
    },
    {
     "name": "stderr",
     "output_type": "stream",
     "text": [
      " 53%|█████████████████████████████████████▎                                 | 52601/100000 [9:15:35<5:36:13,  2.35it/s]"
     ]
    },
    {
     "name": "stdout",
     "output_type": "stream",
     "text": [
      "2.4301352408201096\n",
      "80\n",
      "[0.6, 0.5, 0.5, 0.3]\n",
      "tf.Tensor([[0.01392349 0.59758025 0.2880338  0.10046243]], shape=(1, 4), dtype=float32)\n",
      "[0.6, 0.3, 0.5, 0.3]\n",
      "tf.Tensor([[0.00778508 0.6370735  0.29960805 0.05553338]], shape=(1, 4), dtype=float32)\n",
      "[0.4, 0.3, 0.5, 0.3]\n",
      "tf.Tensor([[8.3314249e-04 9.5288664e-01 4.3177579e-02 3.1027261e-03]], shape=(1, 4), dtype=float32)\n",
      "[0.6, 0.3, 0.5, 0.3]\n",
      "tf.Tensor([[1.14654470e-03 9.96523023e-01 2.21406459e-03 1.16413255e-04]], shape=(1, 4), dtype=float32)\n",
      "[0.4, 0.3, 0.5, 0.3]\n",
      "tf.Tensor([[9.9978870e-01 2.0618910e-04 2.7534661e-06 2.4105761e-06]], shape=(1, 4), dtype=float32)\n"
     ]
    },
    {
     "name": "stderr",
     "output_type": "stream",
     "text": [
      " 53%|█████████████████████████████████████▍                                 | 52701/100000 [9:16:12<4:35:10,  2.86it/s]"
     ]
    },
    {
     "name": "stdout",
     "output_type": "stream",
     "text": [
      "3.809958567914963\n",
      "85\n"
     ]
    },
    {
     "name": "stderr",
     "output_type": "stream",
     "text": [
      " 53%|█████████████████████████████████████▍                                 | 52801/100000 [9:16:46<5:50:58,  2.24it/s]"
     ]
    },
    {
     "name": "stdout",
     "output_type": "stream",
     "text": [
      "4.29503805686816\n",
      "88\n",
      "[0.1, 0.0, 0.1, 0.9]\n",
      "tf.Tensor([[0.02816652 0.47362787 0.36259016 0.13561547]], shape=(1, 4), dtype=float32)\n",
      "[0.1, 0.2, 0.1, 0.9]\n",
      "tf.Tensor([[0.01397222 0.5165641  0.36671427 0.1027495 ]], shape=(1, 4), dtype=float32)\n",
      "[0.1, 0.4, 0.1, 0.9]\n",
      "tf.Tensor([[0.00458028 0.7349636  0.22802074 0.0324353 ]], shape=(1, 4), dtype=float32)\n",
      "[0.1, 0.6, 0.1, 0.9]\n",
      "tf.Tensor([[6.9838023e-04 9.8710781e-01 1.1379129e-02 8.1461563e-04]], shape=(1, 4), dtype=float32)\n",
      "[0.1, 0.8, 0.1, 0.9]\n",
      "tf.Tensor([[9.7879422e-01 2.0934228e-02 2.1707235e-04 5.4544220e-05]], shape=(1, 4), dtype=float32)\n"
     ]
    },
    {
     "name": "stderr",
     "output_type": "stream",
     "text": [
      " 53%|█████████████████████████████████████▌                                 | 52901/100000 [9:17:22<4:55:03,  2.66it/s]"
     ]
    },
    {
     "name": "stdout",
     "output_type": "stream",
     "text": [
      "3.6881726823843994\n",
      "80\n"
     ]
    },
    {
     "name": "stderr",
     "output_type": "stream",
     "text": [
      " 53%|█████████████████████████████████████▋                                 | 53001/100000 [9:18:01<3:48:10,  3.43it/s]"
     ]
    },
    {
     "name": "stdout",
     "output_type": "stream",
     "text": [
      "3.655049415441702\n",
      "81\n",
      "[0.7, 0.8, 0.9, 0.9]\n",
      "tf.Tensor([[0.00807101 0.5672324  0.34606656 0.07863013]], shape=(1, 4), dtype=float32)\n",
      "[0.9, 0.8, 0.9, 0.9]\n",
      "tf.Tensor([[0.00219447 0.80325055 0.17654967 0.01800532]], shape=(1, 4), dtype=float32)\n",
      "[0.9, 1.0, 0.9, 0.9]\n",
      "tf.Tensor([[1.2631623e-04 9.9416792e-01 5.4651839e-03 2.4060618e-04]], shape=(1, 4), dtype=float32)\n",
      "[0.9, 0.8, 0.9, 0.9]\n",
      "tf.Tensor([[6.3620475e-03 9.9218905e-01 1.3902643e-03 5.8723948e-05]], shape=(1, 4), dtype=float32)\n",
      "[0.9, 1.0, 0.9, 0.9]\n",
      "tf.Tensor([[9.9982125e-01 1.7525950e-04 1.7785516e-06 1.7792573e-06]], shape=(1, 4), dtype=float32)\n"
     ]
    },
    {
     "name": "stderr",
     "output_type": "stream",
     "text": [
      " 53%|█████████████████████████████████████▋                                 | 53101/100000 [9:18:36<5:11:50,  2.51it/s]"
     ]
    },
    {
     "name": "stdout",
     "output_type": "stream",
     "text": [
      "4.727909628243462\n",
      "87\n"
     ]
    },
    {
     "name": "stderr",
     "output_type": "stream",
     "text": [
      " 53%|█████████████████████████████████████▊                                 | 53201/100000 [9:19:14<5:52:31,  2.21it/s]"
     ]
    },
    {
     "name": "stdout",
     "output_type": "stream",
     "text": [
      "3.6851675406423645\n",
      "82\n",
      "[0.2, 0.1, 0.9, 0.1]\n",
      "tf.Tensor([[0.01694079 0.5106249  0.35789758 0.11453676]], shape=(1, 4), dtype=float32)\n",
      "[0.4, 0.1, 0.9, 0.1]\n",
      "tf.Tensor([[0.00559947 0.58289605 0.34948695 0.06201756]], shape=(1, 4), dtype=float32)\n",
      "[0.6, 0.1, 0.9, 0.1]\n",
      "tf.Tensor([[8.0536935e-04 9.1326088e-01 8.0220014e-02 5.7136235e-03]], shape=(1, 4), dtype=float32)\n",
      "[0.8, 0.1, 0.9, 0.1]\n",
      "tf.Tensor([[2.6352669e-04 9.9813640e-01 1.5126241e-03 8.7319750e-05]], shape=(1, 4), dtype=float32)\n",
      "[1.0, 0.1, 0.9, 0.1]\n",
      "tf.Tensor([[9.9951029e-01 4.7879267e-04 6.0594307e-06 4.8563224e-06]], shape=(1, 4), dtype=float32)\n"
     ]
    },
    {
     "name": "stderr",
     "output_type": "stream",
     "text": [
      " 53%|█████████████████████████████████████▊                                 | 53301/100000 [9:19:50<4:33:13,  2.85it/s]"
     ]
    },
    {
     "name": "stdout",
     "output_type": "stream",
     "text": [
      "4.199097408775901\n",
      "82\n"
     ]
    },
    {
     "name": "stderr",
     "output_type": "stream",
     "text": [
      " 53%|█████████████████████████████████████▉                                 | 53401/100000 [9:20:27<4:44:49,  2.73it/s]"
     ]
    },
    {
     "name": "stdout",
     "output_type": "stream",
     "text": [
      "5.1891508452130175\n",
      "79\n",
      "[0.9, 0.9, 0.1, 0.1]\n",
      "tf.Tensor([[0.00603459 0.6457104  0.2864431  0.06181192]], shape=(1, 4), dtype=float32)\n",
      "[0.9, 0.7, 0.1, 0.1]\n",
      "tf.Tensor([[0.00225116 0.80282366 0.17791706 0.01700812]], shape=(1, 4), dtype=float32)\n",
      "[0.7, 0.7, 0.1, 0.1]\n",
      "tf.Tensor([[1.5669609e-04 9.9238402e-01 7.1669174e-03 2.9230214e-04]], shape=(1, 4), dtype=float32)\n",
      "[0.7, 0.5, 0.1, 0.1]\n",
      "tf.Tensor([[3.9569600e-03 9.9445575e-01 1.5302278e-03 5.7098943e-05]], shape=(1, 4), dtype=float32)\n",
      "[0.5, 0.5, 0.1, 0.1]\n",
      "tf.Tensor([[9.9981719e-01 1.7893221e-04 1.9442089e-06 1.9720815e-06]], shape=(1, 4), dtype=float32)\n",
      "[0.5, 0.4, 0.1, 0.1]\n",
      "tf.Tensor([[9.9987650e-01 1.2027891e-04 1.4623186e-06 1.7495554e-06]], shape=(1, 4), dtype=float32)\n",
      "[0.4, 0.4, 0.1, 0.1]\n",
      "tf.Tensor([[9.99897242e-01 1.00275334e-04 1.10371047e-06 1.41330247e-06]], shape=(1, 4), dtype=float32)\n",
      "[0.4, 0.3, 0.1, 0.1]\n",
      "tf.Tensor([[9.9987233e-01 1.2431369e-04 1.5441034e-06 1.8249278e-06]], shape=(1, 4), dtype=float32)\n",
      "[0.3, 0.3, 0.1, 0.1]\n",
      "tf.Tensor([[9.99893546e-01 1.03821956e-04 1.16269962e-06 1.46672073e-06]], shape=(1, 4), dtype=float32)\n",
      "[0.3, 0.2, 0.1, 0.1]\n",
      "tf.Tensor([[9.9986899e-01 1.2738416e-04 1.6098552e-06 1.8810957e-06]], shape=(1, 4), dtype=float32)\n"
     ]
    },
    {
     "name": "stderr",
     "output_type": "stream",
     "text": [
      " 54%|█████████████████████████████████████▉                                 | 53501/100000 [9:21:03<4:21:48,  2.96it/s]"
     ]
    },
    {
     "name": "stdout",
     "output_type": "stream",
     "text": [
      "4.542452726509254\n",
      "89\n"
     ]
    },
    {
     "name": "stderr",
     "output_type": "stream",
     "text": [
      " 54%|██████████████████████████████████████                                 | 53601/100000 [9:21:40<4:44:53,  2.71it/s]"
     ]
    },
    {
     "name": "stdout",
     "output_type": "stream",
     "text": [
      "4.566785240489205\n",
      "86\n",
      "[0.9, 0.0, 0.9, 0.9]\n",
      "tf.Tensor([[0.018862   0.47848693 0.37975374 0.1228973 ]], shape=(1, 4), dtype=float32)\n",
      "[0.9, 0.2, 0.9, 0.9]\n",
      "tf.Tensor([[0.00776319 0.5377504  0.38228396 0.0722025 ]], shape=(1, 4), dtype=float32)\n",
      "[0.9, 0.4, 0.9, 0.9]\n",
      "tf.Tensor([[0.00182877 0.85207224 0.13494945 0.01114961]], shape=(1, 4), dtype=float32)\n",
      "[0.9, 0.6, 0.9, 0.9]\n",
      "tf.Tensor([[4.6012559e-04 9.9615735e-01 3.1973883e-03 1.8509422e-04]], shape=(1, 4), dtype=float32)\n",
      "[0.9, 0.8, 0.9, 0.9]\n",
      "tf.Tensor([[9.9843830e-01 1.5382648e-03 1.5612824e-05 7.8386511e-06]], shape=(1, 4), dtype=float32)\n"
     ]
    },
    {
     "name": "stderr",
     "output_type": "stream",
     "text": [
      " 54%|██████████████████████████████████████▏                                | 53701/100000 [9:22:15<4:04:03,  3.16it/s]"
     ]
    },
    {
     "name": "stdout",
     "output_type": "stream",
     "text": [
      "5.0155704063835485\n",
      "92\n"
     ]
    },
    {
     "name": "stderr",
     "output_type": "stream",
     "text": [
      " 54%|██████████████████████████████████████▏                                | 53801/100000 [9:22:52<5:02:21,  2.55it/s]"
     ]
    },
    {
     "name": "stdout",
     "output_type": "stream",
     "text": [
      "4.265525143289971\n",
      "85\n",
      "[0.3, 0.7, 0.5, 0.7]\n",
      "tf.Tensor([[0.01602421 0.45212826 0.42037484 0.11147273]], shape=(1, 4), dtype=float32)\n"
     ]
    },
    {
     "name": "stderr",
     "output_type": "stream",
     "text": [
      " 54%|██████████████████████████████████████▎                                | 53900/100000 [9:23:28<5:23:06,  2.38it/s]"
     ]
    },
    {
     "name": "stdout",
     "output_type": "stream",
     "text": [
      "3.2798403935789793\n",
      "82\n"
     ]
    },
    {
     "name": "stderr",
     "output_type": "stream",
     "text": [
      " 54%|██████████████████████████████████████▎                                | 54001/100000 [9:24:05<4:58:17,  2.57it/s]"
     ]
    },
    {
     "name": "stdout",
     "output_type": "stream",
     "text": [
      "4.698848560074486\n",
      "88\n",
      "[0.3, 0.1, 0.9, 0.9]\n",
      "tf.Tensor([[0.02710814 0.41065016 0.42683154 0.13541014]], shape=(1, 4), dtype=float32)\n",
      "[0.3, 0.4, 0.9, 0.9]\n",
      "tf.Tensor([[0.008504   0.4410044  0.46605274 0.08443887]], shape=(1, 4), dtype=float32)\n",
      "[0.6, 0.4, 0.9, 0.9]\n",
      "tf.Tensor([[0.00280784 0.7531556  0.22428696 0.01974955]], shape=(1, 4), dtype=float32)\n",
      "[0.6, 0.6, 0.9, 0.9]\n",
      "tf.Tensor([[3.4784109e-04 9.9678206e-01 2.7156589e-03 1.5448681e-04]], shape=(1, 4), dtype=float32)\n",
      "[0.8, 0.6, 0.9, 0.9]\n",
      "tf.Tensor([[9.9892431e-01 1.0587891e-03 1.0183925e-05 6.7027222e-06]], shape=(1, 4), dtype=float32)\n",
      "[0.8, 0.7, 0.9, 0.9]\n",
      "tf.Tensor([[9.9986029e-01 1.3654743e-04 1.3470316e-06 1.7885598e-06]], shape=(1, 4), dtype=float32)\n",
      "[0.8, 0.8, 0.9, 0.9]\n",
      "tf.Tensor([[9.9989462e-01 1.0306177e-04 9.5008807e-07 1.3316354e-06]], shape=(1, 4), dtype=float32)\n",
      "[0.9, 0.8, 0.9, 0.9]\n",
      "tf.Tensor([[9.9987411e-01 1.2313906e-04 1.1759494e-06 1.6026255e-06]], shape=(1, 4), dtype=float32)\n"
     ]
    },
    {
     "name": "stderr",
     "output_type": "stream",
     "text": [
      " 54%|██████████████████████████████████████▍                                | 54101/100000 [9:24:41<4:24:36,  2.89it/s]"
     ]
    },
    {
     "name": "stdout",
     "output_type": "stream",
     "text": [
      "4.04843844939373\n",
      "85\n"
     ]
    },
    {
     "name": "stderr",
     "output_type": "stream",
     "text": [
      " 54%|██████████████████████████████████████▍                                | 54201/100000 [9:25:18<5:34:58,  2.28it/s]"
     ]
    },
    {
     "name": "stdout",
     "output_type": "stream",
     "text": [
      "4.405290989561001\n",
      "87\n",
      "[0.0, 0.8, 0.5, 0.3]\n",
      "tf.Tensor([[0.01738795 0.37905756 0.4791011  0.12445346]], shape=(1, 4), dtype=float32)\n",
      "[0.3, 0.8, 0.5, 0.3]\n",
      "tf.Tensor([[0.00357123 0.6044483  0.35014498 0.04183545]], shape=(1, 4), dtype=float32)\n",
      "[0.3, 0.6, 0.5, 0.3]\n",
      "tf.Tensor([[3.6362335e-04 9.6584284e-01 3.2270733e-02 1.5227799e-03]], shape=(1, 4), dtype=float32)\n",
      "[0.3, 0.4, 0.5, 0.3]\n",
      "tf.Tensor([[1.3081911e-03 9.9747378e-01 1.1623742e-03 5.5619093e-05]], shape=(1, 4), dtype=float32)\n",
      "[0.5, 0.4, 0.5, 0.3]\n",
      "tf.Tensor([[9.9978834e-01 2.0736868e-04 1.9671015e-06 2.2493391e-06]], shape=(1, 4), dtype=float32)\n"
     ]
    },
    {
     "name": "stderr",
     "output_type": "stream",
     "text": [
      " 54%|██████████████████████████████████████▌                                | 54301/100000 [9:25:54<4:46:24,  2.66it/s]"
     ]
    },
    {
     "name": "stdout",
     "output_type": "stream",
     "text": [
      "4.389390259965482\n",
      "82\n"
     ]
    },
    {
     "name": "stderr",
     "output_type": "stream",
     "text": [
      " 54%|██████████████████████████████████████▌                                | 54401/100000 [9:26:31<4:53:19,  2.59it/s]"
     ]
    },
    {
     "name": "stdout",
     "output_type": "stream",
     "text": [
      "4.185332643410076\n",
      "85\n",
      "[0.2, 0.8, 0.5, 0.7]\n",
      "tf.Tensor([[0.01197154 0.44914195 0.43188277 0.1070037 ]], shape=(1, 4), dtype=float32)\n",
      "[0.4, 0.8, 0.5, 0.7]\n",
      "tf.Tensor([[0.00298083 0.5890693  0.36828166 0.03966825]], shape=(1, 4), dtype=float32)\n",
      "[0.6, 0.8, 0.5, 0.7]\n",
      "tf.Tensor([[1.5726312e-04 9.7649878e-01 2.2389678e-02 9.5436670e-04]], shape=(1, 4), dtype=float32)\n",
      "[0.6, 0.6, 0.5, 0.7]\n",
      "tf.Tensor([[4.3831047e-04 9.9859148e-01 9.2740968e-04 4.2735115e-05]], shape=(1, 4), dtype=float32)\n",
      "[0.4, 0.6, 0.5, 0.7]\n",
      "tf.Tensor([[9.997352e-01 2.606964e-04 1.946708e-06 2.267779e-06]], shape=(1, 4), dtype=float32)\n",
      "[0.5, 0.6, 0.5, 0.7]\n",
      "tf.Tensor([[9.9985445e-01 1.4255616e-04 1.1375272e-06 1.7432413e-06]], shape=(1, 4), dtype=float32)\n"
     ]
    },
    {
     "name": "stderr",
     "output_type": "stream",
     "text": [
      " 55%|██████████████████████████████████████▋                                | 54500/100000 [9:27:07<4:28:33,  2.82it/s]"
     ]
    },
    {
     "name": "stdout",
     "output_type": "stream",
     "text": [
      "4.92725594871066\n",
      "82\n"
     ]
    },
    {
     "name": "stderr",
     "output_type": "stream",
     "text": [
      " 55%|██████████████████████████████████████▊                                | 54601/100000 [9:27:43<4:29:43,  2.81it/s]"
     ]
    },
    {
     "name": "stdout",
     "output_type": "stream",
     "text": [
      "5.810227319954848\n",
      "90\n",
      "[0.2, 0.0, 0.9, 0.9]\n",
      "tf.Tensor([[0.02469778 0.40787598 0.4335716  0.13385461]], shape=(1, 4), dtype=float32)\n",
      "[0.2, 0.3, 0.9, 0.9]\n",
      "tf.Tensor([[0.00822769 0.4329428  0.47227186 0.08655767]], shape=(1, 4), dtype=float32)\n",
      "[0.5, 0.3, 0.9, 0.9]\n",
      "tf.Tensor([[0.00302195 0.69458294 0.2763576  0.02603755]], shape=(1, 4), dtype=float32)\n",
      "[0.5, 0.5, 0.9, 0.9]\n",
      "tf.Tensor([[2.1575735e-04 9.9494165e-01 4.6047023e-03 2.3796949e-04]], shape=(1, 4), dtype=float32)\n",
      "[0.7, 0.5, 0.9, 0.9]\n",
      "tf.Tensor([[9.9566537e-01 4.2876666e-03 3.1060463e-05 1.5861757e-05]], shape=(1, 4), dtype=float32)\n",
      "[0.7, 0.6, 0.9, 0.9]\n",
      "tf.Tensor([[9.9983382e-01 1.6285866e-04 1.3375566e-06 1.9762110e-06]], shape=(1, 4), dtype=float32)\n",
      "[0.7, 0.7, 0.9, 0.9]\n",
      "tf.Tensor([[9.9987686e-01 1.2075040e-04 9.1714736e-07 1.4382181e-06]], shape=(1, 4), dtype=float32)\n",
      "[0.8, 0.7, 0.9, 0.9]\n",
      "tf.Tensor([[9.9985242e-01 1.4455686e-04 1.1440787e-06 1.7437417e-06]], shape=(1, 4), dtype=float32)\n",
      "[0.8, 0.8, 0.9, 0.9]\n",
      "tf.Tensor([[9.99883652e-01 1.14240385e-04 8.52214441e-07 1.36294966e-06]], shape=(1, 4), dtype=float32)\n",
      "[0.9, 0.8, 0.9, 0.9]\n",
      "tf.Tensor([[9.9985886e-01 1.3837148e-04 1.0748267e-06 1.6615998e-06]], shape=(1, 4), dtype=float32)\n"
     ]
    },
    {
     "name": "stderr",
     "output_type": "stream",
     "text": [
      " 55%|██████████████████████████████████████▊                                | 54701/100000 [9:28:20<4:39:32,  2.70it/s]"
     ]
    },
    {
     "name": "stdout",
     "output_type": "stream",
     "text": [
      "4.939070984225579\n",
      "85\n"
     ]
    },
    {
     "name": "stderr",
     "output_type": "stream",
     "text": [
      " 55%|██████████████████████████████████████▉                                | 54801/100000 [9:28:57<5:13:57,  2.40it/s]"
     ]
    },
    {
     "name": "stdout",
     "output_type": "stream",
     "text": [
      "4.174276162447228\n",
      "89\n",
      "[0.1, 0.4, 0.9, 0.1]\n",
      "tf.Tensor([[0.01684412 0.4204268  0.4436771  0.11905207]], shape=(1, 4), dtype=float32)\n",
      "[0.4, 0.4, 0.9, 0.1]\n",
      "tf.Tensor([[0.00513729 0.5174588  0.41471168 0.06269218]], shape=(1, 4), dtype=float32)\n",
      "[0.6, 0.4, 0.9, 0.1]\n",
      "tf.Tensor([[5.9075264e-04 9.0803885e-01 8.6222082e-02 5.1484662e-03]], shape=(1, 4), dtype=float32)\n",
      "[0.8, 0.4, 0.9, 0.1]\n",
      "tf.Tensor([[1.3379930e-04 9.9888939e-01 9.2412514e-04 5.2642834e-05]], shape=(1, 4), dtype=float32)\n",
      "[0.8, 0.2, 0.9, 0.1]\n",
      "tf.Tensor([[9.9960059e-01 3.9357538e-04 2.8885170e-06 2.9715552e-06]], shape=(1, 4), dtype=float32)\n",
      "[0.9, 0.2, 0.9, 0.1]\n",
      "tf.Tensor([[9.9988925e-01 1.0854398e-04 8.2189041e-07 1.3702975e-06]], shape=(1, 4), dtype=float32)\n"
     ]
    },
    {
     "name": "stderr",
     "output_type": "stream",
     "text": [
      " 55%|██████████████████████████████████████▉                                | 54901/100000 [9:29:33<4:37:46,  2.71it/s]"
     ]
    },
    {
     "name": "stdout",
     "output_type": "stream",
     "text": [
      "5.5741705660241845\n",
      "92\n"
     ]
    },
    {
     "name": "stderr",
     "output_type": "stream",
     "text": [
      " 55%|███████████████████████████████████████                                | 55001/100000 [9:30:09<4:22:37,  2.86it/s]"
     ]
    },
    {
     "name": "stdout",
     "output_type": "stream",
     "text": [
      "5.473445691836207\n",
      "86\n",
      "[0.4, 0.8, 0.9, 0.1]\n",
      "tf.Tensor([[0.01208622 0.4301706  0.45094514 0.10679794]], shape=(1, 4), dtype=float32)\n",
      "[0.7, 0.8, 0.9, 0.1]\n",
      "tf.Tensor([[0.00182389 0.70522    0.26951322 0.02344291]], shape=(1, 4), dtype=float32)\n",
      "[0.7, 0.6, 0.9, 0.1]\n",
      "tf.Tensor([[1.3491683e-04 9.8371410e-01 1.5584623e-02 5.6626485e-04]], shape=(1, 4), dtype=float32)\n",
      "[0.7, 0.4, 0.9, 0.1]\n",
      "tf.Tensor([[4.5040209e-04 9.9890304e-01 6.1955216e-04 2.7049522e-05]], shape=(1, 4), dtype=float32)\n",
      "[0.7, 0.2, 0.9, 0.1]\n",
      "tf.Tensor([[9.9968076e-01 3.1482204e-04 2.1838509e-06 2.2301369e-06]], shape=(1, 4), dtype=float32)\n",
      "[0.8, 0.2, 0.9, 0.1]\n",
      "tf.Tensor([[9.9985826e-01 1.3922530e-04 1.0271891e-06 1.4101726e-06]], shape=(1, 4), dtype=float32)\n",
      "[0.9, 0.2, 0.9, 0.1]\n",
      "tf.Tensor([[9.9986529e-01 1.3229977e-04 9.4011352e-07 1.3972015e-06]], shape=(1, 4), dtype=float32)\n"
     ]
    },
    {
     "name": "stderr",
     "output_type": "stream",
     "text": [
      " 55%|███████████████████████████████████████                                | 55101/100000 [9:30:46<5:05:18,  2.45it/s]"
     ]
    },
    {
     "name": "stdout",
     "output_type": "stream",
     "text": [
      "3.586915016495628\n",
      "82\n"
     ]
    },
    {
     "name": "stderr",
     "output_type": "stream",
     "text": [
      " 55%|███████████████████████████████████████▏                               | 55201/100000 [9:31:22<5:24:32,  2.30it/s]"
     ]
    },
    {
     "name": "stdout",
     "output_type": "stream",
     "text": [
      "4.142186511552666\n",
      "90\n",
      "[0.9, 0.3, 0.1, 0.1]\n",
      "tf.Tensor([[0.01764627 0.43943185 0.42756313 0.11535869]], shape=(1, 4), dtype=float32)\n",
      "[0.7, 0.3, 0.1, 0.1]\n",
      "tf.Tensor([[0.0070001  0.5447594  0.39035618 0.05788432]], shape=(1, 4), dtype=float32)\n",
      "[0.5, 0.3, 0.1, 0.1]\n",
      "tf.Tensor([[0.00119089 0.9053154  0.0879826  0.00551114]], shape=(1, 4), dtype=float32)\n",
      "[0.3, 0.3, 0.1, 0.1]\n",
      "tf.Tensor([[4.0560882e-04 9.9721885e-01 2.2782309e-03 9.7366123e-05]], shape=(1, 4), dtype=float32)\n",
      "[0.1, 0.3, 0.1, 0.1]\n",
      "tf.Tensor([[9.9938333e-01 6.0713169e-04 5.3068106e-06 4.1572835e-06]], shape=(1, 4), dtype=float32)\n",
      "[0.1, 0.2, 0.1, 0.1]\n",
      "tf.Tensor([[9.9984169e-01 1.5540737e-04 1.2068157e-06 1.6390887e-06]], shape=(1, 4), dtype=float32)\n"
     ]
    },
    {
     "name": "stderr",
     "output_type": "stream",
     "text": [
      " 55%|███████████████████████████████████████▎                               | 55301/100000 [9:32:00<4:45:39,  2.61it/s]"
     ]
    },
    {
     "name": "stdout",
     "output_type": "stream",
     "text": [
      "4.75735479869601\n",
      "86\n"
     ]
    },
    {
     "name": "stderr",
     "output_type": "stream",
     "text": [
      " 55%|███████████████████████████████████████▎                               | 55401/100000 [9:32:37<4:50:47,  2.56it/s]"
     ]
    },
    {
     "name": "stdout",
     "output_type": "stream",
     "text": [
      "3.8697380532070147\n",
      "82\n",
      "[0.1, 0.0, 0.1, 0.1]\n",
      "tf.Tensor([[0.03603271 0.37651843 0.44713807 0.14031076]], shape=(1, 4), dtype=float32)\n",
      "[0.1, 0.3, 0.1, 0.1]\n",
      "tf.Tensor([[0.01103958 0.47427917 0.41579372 0.09888745]], shape=(1, 4), dtype=float32)\n"
     ]
    },
    {
     "name": "stderr",
     "output_type": "stream",
     "text": [
      " 56%|███████████████████████████████████████▍                               | 55501/100000 [9:33:15<4:34:03,  2.71it/s]"
     ]
    },
    {
     "name": "stdout",
     "output_type": "stream",
     "text": [
      "3.7490637789179235\n",
      "79\n"
     ]
    },
    {
     "name": "stderr",
     "output_type": "stream",
     "text": [
      " 56%|███████████████████████████████████████▍                               | 55601/100000 [9:33:51<4:44:47,  2.60it/s]"
     ]
    },
    {
     "name": "stdout",
     "output_type": "stream",
     "text": [
      "4.355845953618972\n",
      "90\n",
      "[0.0, 0.2, 0.9, 0.1]\n",
      "tf.Tensor([[0.03220706 0.3481744  0.47558877 0.1440298 ]], shape=(1, 4), dtype=float32)\n",
      "[0.3, 0.2, 0.9, 0.1]\n",
      "tf.Tensor([[0.01466731 0.3652319  0.49530965 0.12479109]], shape=(1, 4), dtype=float32)\n",
      "[0.6, 0.2, 0.9, 0.1]\n",
      "tf.Tensor([[0.00415343 0.5015255  0.44315007 0.05117104]], shape=(1, 4), dtype=float32)\n",
      "[0.8, 0.2, 0.9, 0.1]\n",
      "tf.Tensor([[2.3093517e-04 9.8757088e-01 1.1692125e-02 5.0598232e-04]], shape=(1, 4), dtype=float32)\n",
      "[0.8, 0.0, 0.9, 0.1]\n",
      "tf.Tensor([[9.987733e-01 1.211587e-03 9.006325e-06 6.051932e-06]], shape=(1, 4), dtype=float32)\n",
      "[0.9, 0.0, 0.9, 0.1]\n",
      "tf.Tensor([[9.9983883e-01 1.5797124e-04 1.3944782e-06 1.7620461e-06]], shape=(1, 4), dtype=float32)\n"
     ]
    },
    {
     "name": "stderr",
     "output_type": "stream",
     "text": [
      " 56%|███████████████████████████████████████▌                               | 55701/100000 [9:34:27<3:46:04,  3.27it/s]"
     ]
    },
    {
     "name": "stdout",
     "output_type": "stream",
     "text": [
      "5.029188725779547\n",
      "80\n"
     ]
    },
    {
     "name": "stderr",
     "output_type": "stream",
     "text": [
      " 56%|███████████████████████████████████████▌                               | 55801/100000 [9:35:03<4:06:45,  2.99it/s]"
     ]
    },
    {
     "name": "stdout",
     "output_type": "stream",
     "text": [
      "4.726957133569166\n",
      "91\n",
      "[0.2, 0.9, 0.5, 0.3]\n",
      "tf.Tensor([[0.01468599 0.49796212 0.38208202 0.10526996]], shape=(1, 4), dtype=float32)\n",
      "[0.2, 0.7, 0.5, 0.3]\n",
      "tf.Tensor([[0.00438211 0.5898576  0.3554653  0.05029504]], shape=(1, 4), dtype=float32)\n",
      "[0.2, 0.5, 0.5, 0.3]\n",
      "tf.Tensor([[0.00088953 0.8813196  0.11147965 0.0063111 ]], shape=(1, 4), dtype=float32)\n",
      "[0.4, 0.5, 0.5, 0.3]\n",
      "tf.Tensor([[3.9235584e-04 9.9857855e-01 9.7747834e-04 5.1690036e-05]], shape=(1, 4), dtype=float32)\n",
      "[0.4, 0.3, 0.5, 0.3]\n",
      "tf.Tensor([[9.9974054e-01 2.5562206e-04 1.8337710e-06 2.0032055e-06]], shape=(1, 4), dtype=float32)\n"
     ]
    },
    {
     "name": "stderr",
     "output_type": "stream",
     "text": [
      " 56%|███████████████████████████████████████▋                               | 55901/100000 [9:35:38<4:36:26,  2.66it/s]"
     ]
    },
    {
     "name": "stdout",
     "output_type": "stream",
     "text": [
      "4.713514169246802\n",
      "88\n"
     ]
    },
    {
     "name": "stderr",
     "output_type": "stream",
     "text": [
      " 56%|███████████████████████████████████████▊                               | 56001/100000 [9:36:12<3:50:55,  3.18it/s]"
     ]
    },
    {
     "name": "stdout",
     "output_type": "stream",
     "text": [
      "5.327954970819806\n",
      "91\n",
      "[0.8, 0.8, 0.9, 0.1]\n",
      "tf.Tensor([[0.01072697 0.53264356 0.35965532 0.09697407]], shape=(1, 4), dtype=float32)\n",
      "[0.8, 0.6, 0.9, 0.1]\n",
      "tf.Tensor([[0.00271537 0.6350349  0.32344705 0.03880268]], shape=(1, 4), dtype=float32)\n",
      "[0.8, 0.4, 0.9, 0.1]\n",
      "tf.Tensor([[2.8925756e-04 9.5711613e-01 4.0721349e-02 1.8732214e-03]], shape=(1, 4), dtype=float32)\n",
      "[0.8, 0.2, 0.9, 0.1]\n",
      "tf.Tensor([[5.3952594e-04 9.9871111e-01 7.0981425e-04 3.9523467e-05]], shape=(1, 4), dtype=float32)\n",
      "[0.8, 0.0, 0.9, 0.1]\n",
      "tf.Tensor([[9.9964035e-01 3.5441085e-04 2.6023647e-06 2.6680900e-06]], shape=(1, 4), dtype=float32)\n",
      "[0.8, 0.1, 0.9, 0.1]\n",
      "tf.Tensor([[9.9986804e-01 1.2967047e-04 9.5944847e-07 1.3321943e-06]], shape=(1, 4), dtype=float32)\n"
     ]
    },
    {
     "name": "stderr",
     "output_type": "stream",
     "text": [
      " 56%|███████████████████████████████████████▊                               | 56101/100000 [9:36:49<3:49:40,  3.19it/s]"
     ]
    },
    {
     "name": "stdout",
     "output_type": "stream",
     "text": [
      "4.92107736855261\n",
      "88\n"
     ]
    },
    {
     "name": "stderr",
     "output_type": "stream",
     "text": [
      " 56%|███████████████████████████████████████▉                               | 56201/100000 [9:37:27<4:34:07,  2.66it/s]"
     ]
    },
    {
     "name": "stdout",
     "output_type": "stream",
     "text": [
      "5.285330539760396\n",
      "93\n",
      "[0.4, 0.7, 0.1, 0.9]\n",
      "tf.Tensor([[0.02892421 0.43540484 0.40766692 0.128004  ]], shape=(1, 4), dtype=float32)\n",
      "[0.2, 0.7, 0.1, 0.9]\n",
      "tf.Tensor([[0.01384958 0.45026267 0.43073493 0.10515277]], shape=(1, 4), dtype=float32)\n",
      "[0.2, 0.9, 0.1, 0.9]\n",
      "tf.Tensor([[0.00263688 0.81257075 0.17071454 0.0140778 ]], shape=(1, 4), dtype=float32)\n",
      "[0.0, 0.9, 0.1, 0.9]\n",
      "tf.Tensor([[2.97855283e-03 9.94349182e-01 2.56528310e-03 1.07032916e-04]], shape=(1, 4), dtype=float32)\n",
      "[0.2, 0.9, 0.1, 0.9]\n",
      "tf.Tensor([[9.9981886e-01 1.7759865e-04 1.6937968e-06 1.9381696e-06]], shape=(1, 4), dtype=float32)\n"
     ]
    },
    {
     "name": "stderr",
     "output_type": "stream",
     "text": [
      " 56%|███████████████████████████████████████▉                               | 56301/100000 [9:38:02<5:11:55,  2.33it/s]"
     ]
    },
    {
     "name": "stdout",
     "output_type": "stream",
     "text": [
      "5.125110637215176\n",
      "90\n"
     ]
    },
    {
     "name": "stderr",
     "output_type": "stream",
     "text": [
      " 56%|████████████████████████████████████████                               | 56401/100000 [9:38:39<4:20:34,  2.79it/s]"
     ]
    },
    {
     "name": "stdout",
     "output_type": "stream",
     "text": [
      "4.8800036066473425\n",
      "90\n",
      "[0.2, 0.2, 0.9, 0.9]\n",
      "tf.Tensor([[0.03190787 0.3603785  0.464488   0.14322561]], shape=(1, 4), dtype=float32)\n",
      "[0.5, 0.2, 0.9, 0.9]\n",
      "tf.Tensor([[0.01612423 0.40252504 0.45061514 0.13073568]], shape=(1, 4), dtype=float32)\n",
      "[0.5, 0.5, 0.9, 0.9]\n",
      "tf.Tensor([[0.00324549 0.66811025 0.29906383 0.02958037]], shape=(1, 4), dtype=float32)\n",
      "[0.7, 0.5, 0.9, 0.9]\n",
      "tf.Tensor([[4.7951229e-04 9.9652439e-01 2.7902834e-03 2.0587724e-04]], shape=(1, 4), dtype=float32)\n",
      "[0.7, 0.7, 0.9, 0.9]\n",
      "tf.Tensor([[9.9958545e-01 4.0956662e-04 2.4028914e-06 2.6702091e-06]], shape=(1, 4), dtype=float32)\n",
      "[0.8, 0.7, 0.9, 0.9]\n",
      "tf.Tensor([[9.99885678e-01 1.12393674e-04 7.04431784e-07 1.24073847e-06]], shape=(1, 4), dtype=float32)\n",
      "[0.8, 0.8, 0.9, 0.9]\n",
      "tf.Tensor([[9.9990499e-01 9.3476076e-05 5.5444411e-07 1.0065149e-06]], shape=(1, 4), dtype=float32)\n",
      "[0.9, 0.8, 0.9, 0.9]\n",
      "tf.Tensor([[9.99892831e-01 1.05343956e-04 6.45022283e-07 1.16234628e-06]], shape=(1, 4), dtype=float32)\n"
     ]
    },
    {
     "name": "stderr",
     "output_type": "stream",
     "text": [
      " 57%|████████████████████████████████████████                               | 56501/100000 [9:39:13<4:30:31,  2.68it/s]"
     ]
    },
    {
     "name": "stdout",
     "output_type": "stream",
     "text": [
      "4.576100386970062\n",
      "88\n"
     ]
    },
    {
     "name": "stderr",
     "output_type": "stream",
     "text": [
      " 57%|████████████████████████████████████████▏                              | 56601/100000 [9:39:50<4:29:26,  2.68it/s]"
     ]
    },
    {
     "name": "stdout",
     "output_type": "stream",
     "text": [
      "4.8228128969904045\n",
      "86\n",
      "[0.4, 0.4, 0.1, 0.1]\n",
      "tf.Tensor([[0.01719108 0.49680993 0.37776127 0.10823769]], shape=(1, 4), dtype=float32)\n",
      "[0.4, 0.2, 0.1, 0.1]\n",
      "tf.Tensor([[0.01072671 0.5162601  0.38993075 0.08308244]], shape=(1, 4), dtype=float32)\n",
      "[0.2, 0.2, 0.1, 0.1]\n",
      "tf.Tensor([[0.00119153 0.87986827 0.11069223 0.00824787]], shape=(1, 4), dtype=float32)\n",
      "[0.2, 0.0, 0.1, 0.1]\n",
      "tf.Tensor([[5.1019579e-04 9.9773163e-01 1.6459133e-03 1.1223522e-04]], shape=(1, 4), dtype=float32)\n",
      "[0.0, 0.0, 0.1, 0.1]\n",
      "tf.Tensor([[9.9973232e-01 2.6382224e-04 1.7121099e-06 2.1407213e-06]], shape=(1, 4), dtype=float32)\n",
      "[0.1, 0.0, 0.1, 0.1]\n",
      "tf.Tensor([[9.9986744e-01 1.3018685e-04 8.8390840e-07 1.4917299e-06]], shape=(1, 4), dtype=float32)\n"
     ]
    },
    {
     "name": "stderr",
     "output_type": "stream",
     "text": [
      " 57%|████████████████████████████████████████▎                              | 56702/100000 [9:40:27<3:15:06,  3.70it/s]"
     ]
    },
    {
     "name": "stdout",
     "output_type": "stream",
     "text": [
      "3.8081410295657085\n",
      "85\n"
     ]
    },
    {
     "name": "stderr",
     "output_type": "stream",
     "text": [
      " 57%|████████████████████████████████████████▎                              | 56801/100000 [9:41:02<4:21:37,  2.75it/s]"
     ]
    },
    {
     "name": "stdout",
     "output_type": "stream",
     "text": [
      "4.431117694768381\n",
      "85\n",
      "[0.4, 0.9, 0.1, 0.9]\n",
      "tf.Tensor([[0.03004843 0.4239936  0.4204288  0.1255292 ]], shape=(1, 4), dtype=float32)\n",
      "[0.2, 0.9, 0.1, 0.9]\n",
      "tf.Tensor([[0.01187166 0.4894681  0.41299492 0.08566526]], shape=(1, 4), dtype=float32)\n",
      "[0.0, 0.9, 0.1, 0.9]\n",
      "tf.Tensor([[0.00204438 0.80195254 0.18276827 0.0132348 ]], shape=(1, 4), dtype=float32)\n",
      "[0.2, 0.9, 0.1, 0.9]\n",
      "tf.Tensor([[1.0395835e-03 9.9717915e-01 1.7017426e-03 7.9521458e-05]], shape=(1, 4), dtype=float32)\n",
      "[0.0, 0.9, 0.1, 0.9]\n",
      "tf.Tensor([[9.9980444e-01 1.9275481e-04 1.1892960e-06 1.7127315e-06]], shape=(1, 4), dtype=float32)\n"
     ]
    },
    {
     "name": "stderr",
     "output_type": "stream",
     "text": [
      " 57%|████████████████████████████████████████▍                              | 56901/100000 [9:41:38<4:37:42,  2.59it/s]"
     ]
    },
    {
     "name": "stdout",
     "output_type": "stream",
     "text": [
      "4.811533462268228\n",
      "89\n"
     ]
    },
    {
     "name": "stderr",
     "output_type": "stream",
     "text": [
      " 57%|████████████████████████████████████████▍                              | 57001/100000 [9:42:14<5:06:41,  2.34it/s]"
     ]
    },
    {
     "name": "stdout",
     "output_type": "stream",
     "text": [
      "4.728084819152686\n",
      "88\n",
      "[0.7, 0.2, 0.1, 0.9]\n",
      "tf.Tensor([[0.03288849 0.35033253 0.46568584 0.15109307]], shape=(1, 4), dtype=float32)\n",
      "[0.7, 0.5, 0.1, 0.9]\n",
      "tf.Tensor([[0.01234811 0.42945194 0.45434663 0.10385332]], shape=(1, 4), dtype=float32)\n",
      "[0.4, 0.5, 0.1, 0.9]\n",
      "tf.Tensor([[0.00362757 0.7416393  0.23067258 0.0240605 ]], shape=(1, 4), dtype=float32)\n",
      "[0.4, 0.7, 0.1, 0.9]\n",
      "tf.Tensor([[8.1611099e-04 9.9683005e-01 2.2069216e-03 1.4688281e-04]], shape=(1, 4), dtype=float32)\n",
      "[0.2, 0.7, 0.1, 0.9]\n",
      "tf.Tensor([[9.9945456e-01 5.3812424e-04 3.4895397e-06 3.8261810e-06]], shape=(1, 4), dtype=float32)\n",
      "[0.2, 0.8, 0.1, 0.9]\n",
      "tf.Tensor([[9.9986899e-01 1.2860420e-04 8.0830034e-07 1.5248811e-06]], shape=(1, 4), dtype=float32)\n",
      "[0.1, 0.8, 0.1, 0.9]\n",
      "tf.Tensor([[9.9986780e-01 1.2996595e-04 7.9228079e-07 1.4865016e-06]], shape=(1, 4), dtype=float32)\n"
     ]
    },
    {
     "name": "stderr",
     "output_type": "stream",
     "text": [
      " 57%|████████████████████████████████████████▌                              | 57101/100000 [9:42:50<3:51:51,  3.08it/s]"
     ]
    },
    {
     "name": "stdout",
     "output_type": "stream",
     "text": [
      "4.57479606844181\n",
      "87\n"
     ]
    },
    {
     "name": "stderr",
     "output_type": "stream",
     "text": [
      " 57%|████████████████████████████████████████▌                              | 57201/100000 [9:43:26<3:52:38,  3.07it/s]"
     ]
    },
    {
     "name": "stdout",
     "output_type": "stream",
     "text": [
      "5.964307568083621\n",
      "87\n",
      "[0.7, 0.0, 0.1, 0.9]\n",
      "tf.Tensor([[0.03229541 0.3234995  0.49161023 0.15259486]], shape=(1, 4), dtype=float32)\n",
      "[0.7, 0.3, 0.1, 0.9]\n",
      "tf.Tensor([[0.01342932 0.3794363  0.49622998 0.11090434]], shape=(1, 4), dtype=float32)\n",
      "[0.7, 0.6, 0.1, 0.9]\n",
      "tf.Tensor([[0.00250571 0.8396942  0.14551139 0.0122887 ]], shape=(1, 4), dtype=float32)\n",
      "[0.5, 0.6, 0.1, 0.9]\n",
      "tf.Tensor([[9.6793048e-04 9.9706918e-01 1.8548614e-03 1.0819120e-04]], shape=(1, 4), dtype=float32)\n",
      "[0.3, 0.6, 0.1, 0.9]\n",
      "tf.Tensor([[9.9935752e-01 6.3445256e-04 3.9316810e-06 4.0289506e-06]], shape=(1, 4), dtype=float32)\n",
      "[0.3, 0.7, 0.1, 0.9]\n",
      "tf.Tensor([[9.9985206e-01 1.4547593e-04 8.6490286e-07 1.5480324e-06]], shape=(1, 4), dtype=float32)\n",
      "[0.3, 0.8, 0.1, 0.9]\n",
      "tf.Tensor([[9.9986577e-01 1.3198188e-04 7.9991077e-07 1.4858692e-06]], shape=(1, 4), dtype=float32)\n",
      "[0.2, 0.8, 0.1, 0.9]\n",
      "tf.Tensor([[9.9986994e-01 1.2775547e-04 7.7805430e-07 1.4627888e-06]], shape=(1, 4), dtype=float32)\n",
      "[0.1, 0.8, 0.1, 0.9]\n",
      "tf.Tensor([[9.9986351e-01 1.3425997e-04 7.9471857e-07 1.4682035e-06]], shape=(1, 4), dtype=float32)\n"
     ]
    },
    {
     "name": "stderr",
     "output_type": "stream",
     "text": [
      " 57%|████████████████████████████████████████▋                              | 57301/100000 [9:44:03<4:33:58,  2.60it/s]"
     ]
    },
    {
     "name": "stdout",
     "output_type": "stream",
     "text": [
      "5.053608233919642\n",
      "90\n"
     ]
    },
    {
     "name": "stderr",
     "output_type": "stream",
     "text": [
      " 57%|████████████████████████████████████████▊                              | 57401/100000 [9:44:39<4:36:27,  2.57it/s]"
     ]
    },
    {
     "name": "stdout",
     "output_type": "stream",
     "text": [
      "5.457024196806404\n",
      "89\n",
      "[0.6, 0.4, 0.5, 0.7]\n",
      "tf.Tensor([[0.02804519 0.32229412 0.50042814 0.14923252]], shape=(1, 4), dtype=float32)\n",
      "[0.6, 0.7, 0.5, 0.7]\n",
      "tf.Tensor([[0.00884146 0.47399297 0.44973418 0.06743137]], shape=(1, 4), dtype=float32)\n",
      "[0.4, 0.7, 0.5, 0.7]\n",
      "tf.Tensor([[7.7015429e-04 9.5840812e-01 3.8664099e-02 2.1576618e-03]], shape=(1, 4), dtype=float32)\n",
      "[0.6, 0.7, 0.5, 0.7]\n",
      "tf.Tensor([[2.5719034e-03 9.9622202e-01 1.1526037e-03 5.3401371e-05]], shape=(1, 4), dtype=float32)\n",
      "[0.4, 0.7, 0.5, 0.7]\n",
      "tf.Tensor([[9.9972314e-01 2.7356579e-04 1.4637545e-06 1.9152449e-06]], shape=(1, 4), dtype=float32)\n"
     ]
    },
    {
     "name": "stderr",
     "output_type": "stream",
     "text": [
      " 57%|████████████████████████████████████████▊                              | 57500/100000 [9:45:14<3:51:46,  3.06it/s]"
     ]
    },
    {
     "name": "stdout",
     "output_type": "stream",
     "text": [
      "6.147589247708156\n",
      "87\n"
     ]
    },
    {
     "name": "stderr",
     "output_type": "stream",
     "text": [
      " 58%|████████████████████████████████████████▉                              | 57601/100000 [9:45:49<4:29:11,  2.63it/s]"
     ]
    },
    {
     "name": "stdout",
     "output_type": "stream",
     "text": [
      "5.5160087959490225\n",
      "87\n",
      "[0.8, 0.8, 0.1, 0.1]\n",
      "tf.Tensor([[0.01372511 0.414629   0.46101654 0.11062931]], shape=(1, 4), dtype=float32)\n",
      "[0.8, 0.5, 0.1, 0.1]\n",
      "tf.Tensor([[0.00635754 0.5220277  0.42319956 0.04841528]], shape=(1, 4), dtype=float32)\n",
      "[0.6, 0.5, 0.1, 0.1]\n",
      "tf.Tensor([[5.8742746e-04 9.7653562e-01 2.1790015e-02 1.0868887e-03]], shape=(1, 4), dtype=float32)\n",
      "[0.4, 0.5, 0.1, 0.1]\n",
      "tf.Tensor([[3.4571036e-03 9.9571949e-01 7.8593276e-04 3.7523710e-05]], shape=(1, 4), dtype=float32)\n",
      "[0.4, 0.3, 0.1, 0.1]\n",
      "tf.Tensor([[9.9974662e-01 2.4950283e-04 1.5849098e-06 2.2644122e-06]], shape=(1, 4), dtype=float32)\n",
      "[0.3, 0.3, 0.1, 0.1]\n",
      "tf.Tensor([[9.9988258e-01 1.1548079e-04 6.4686930e-07 1.2641518e-06]], shape=(1, 4), dtype=float32)\n",
      "[0.3, 0.2, 0.1, 0.1]\n",
      "tf.Tensor([[9.9985373e-01 1.4358168e-04 9.3221666e-07 1.6485537e-06]], shape=(1, 4), dtype=float32)\n",
      "[0.2, 0.2, 0.1, 0.1]\n",
      "tf.Tensor([[9.9987781e-01 1.2016029e-04 6.8459718e-07 1.3114621e-06]], shape=(1, 4), dtype=float32)\n",
      "[0.2, 0.1, 0.1, 0.1]\n",
      "tf.Tensor([[9.9985468e-01 1.4266282e-04 9.3370966e-07 1.6524699e-06]], shape=(1, 4), dtype=float32)\n"
     ]
    },
    {
     "name": "stderr",
     "output_type": "stream",
     "text": [
      " 58%|████████████████████████████████████████▉                              | 57701/100000 [9:46:26<4:09:26,  2.83it/s]"
     ]
    },
    {
     "name": "stdout",
     "output_type": "stream",
     "text": [
      "4.695179897048801\n",
      "91\n"
     ]
    },
    {
     "name": "stderr",
     "output_type": "stream",
     "text": [
      " 58%|█████████████████████████████████████████                              | 57801/100000 [9:47:02<4:34:42,  2.56it/s]"
     ]
    },
    {
     "name": "stdout",
     "output_type": "stream",
     "text": [
      "4.364802748152578\n",
      "88\n",
      "[0.6, 0.2, 0.5, 0.7]\n",
      "tf.Tensor([[0.04151668 0.28563246 0.5172971  0.15555368]], shape=(1, 4), dtype=float32)\n",
      "[0.6, 0.5, 0.5, 0.7]\n",
      "tf.Tensor([[0.017289   0.30272654 0.55731225 0.12267225]], shape=(1, 4), dtype=float32)\n",
      "[0.6, 0.8, 0.5, 0.7]\n",
      "tf.Tensor([[0.00204374 0.80194664 0.18422377 0.01178585]], shape=(1, 4), dtype=float32)\n",
      "[0.6, 0.6, 0.5, 0.7]\n",
      "tf.Tensor([[6.5316114e-04 9.9765068e-01 1.6084420e-03 8.7798187e-05]], shape=(1, 4), dtype=float32)\n",
      "[0.4, 0.6, 0.5, 0.7]\n",
      "tf.Tensor([[9.9952066e-01 4.7408135e-04 2.4913593e-06 2.7255917e-06]], shape=(1, 4), dtype=float32)\n",
      "[0.5, 0.6, 0.5, 0.7]\n",
      "tf.Tensor([[9.9985683e-01 1.4073505e-04 8.2977317e-07 1.5060556e-06]], shape=(1, 4), dtype=float32)\n"
     ]
    },
    {
     "name": "stderr",
     "output_type": "stream",
     "text": [
      " 58%|█████████████████████████████████████████                              | 57901/100000 [9:47:39<4:22:31,  2.67it/s]"
     ]
    },
    {
     "name": "stdout",
     "output_type": "stream",
     "text": [
      "4.60378432238964\n",
      "88\n"
     ]
    },
    {
     "name": "stderr",
     "output_type": "stream",
     "text": [
      " 58%|█████████████████████████████████████████▏                             | 58001/100000 [9:48:15<4:27:10,  2.62it/s]"
     ]
    },
    {
     "name": "stdout",
     "output_type": "stream",
     "text": [
      "4.986889033370711\n",
      "88\n",
      "[0.9, 0.3, 0.5, 0.7]\n",
      "tf.Tensor([[0.03174162 0.26187053 0.55473304 0.15165487]], shape=(1, 4), dtype=float32)\n",
      "[0.9, 0.6, 0.5, 0.7]\n",
      "tf.Tensor([[0.01104532 0.38846016 0.53106046 0.06943399]], shape=(1, 4), dtype=float32)\n",
      "[0.6, 0.6, 0.5, 0.7]\n",
      "tf.Tensor([[0.00139772 0.9342178  0.06128862 0.00309578]], shape=(1, 4), dtype=float32)\n",
      "[0.4, 0.6, 0.5, 0.7]\n",
      "tf.Tensor([[2.7665896e-03 9.9607724e-01 1.1108532e-03 4.5354820e-05]], shape=(1, 4), dtype=float32)\n",
      "[0.6, 0.6, 0.5, 0.7]\n",
      "tf.Tensor([[9.9967253e-01 3.2299780e-04 1.9609479e-06 2.6445455e-06]], shape=(1, 4), dtype=float32)\n",
      "[0.5, 0.6, 0.5, 0.7]\n",
      "tf.Tensor([[9.9985421e-01 1.4338757e-04 8.3770300e-07 1.5999365e-06]], shape=(1, 4), dtype=float32)\n"
     ]
    },
    {
     "name": "stderr",
     "output_type": "stream",
     "text": [
      " 58%|█████████████████████████████████████████▎                             | 58101/100000 [9:48:51<4:16:46,  2.72it/s]"
     ]
    },
    {
     "name": "stdout",
     "output_type": "stream",
     "text": [
      "3.3026417529309504\n",
      "81\n"
     ]
    },
    {
     "name": "stderr",
     "output_type": "stream",
     "text": [
      " 58%|█████████████████████████████████████████▎                             | 58201/100000 [9:49:26<5:10:53,  2.24it/s]"
     ]
    },
    {
     "name": "stdout",
     "output_type": "stream",
     "text": [
      "5.104887489937313\n",
      "92\n",
      "[0.3, 0.2, 0.9, 0.9]\n",
      "tf.Tensor([[0.04608968 0.25556245 0.53512585 0.16322204]], shape=(1, 4), dtype=float32)\n",
      "[0.3, 0.5, 0.9, 0.9]\n",
      "tf.Tensor([[0.0169584  0.23962682 0.6160379  0.12737687]], shape=(1, 4), dtype=float32)\n",
      "[0.6, 0.5, 0.9, 0.9]\n",
      "tf.Tensor([[0.00637271 0.5071177  0.4473302  0.0391794 ]], shape=(1, 4), dtype=float32)\n",
      "[0.6, 0.7, 0.9, 0.9]\n",
      "tf.Tensor([[5.2429806e-04 9.9705029e-01 2.2930831e-03 1.3230112e-04]], shape=(1, 4), dtype=float32)\n",
      "[0.8, 0.7, 0.9, 0.9]\n",
      "tf.Tensor([[9.9934965e-01 6.4276822e-04 3.6336548e-06 3.8882026e-06]], shape=(1, 4), dtype=float32)\n",
      "[0.8, 0.8, 0.9, 0.9]\n",
      "tf.Tensor([[9.9988735e-01 1.1087794e-04 6.1253928e-07 1.2263148e-06]], shape=(1, 4), dtype=float32)\n",
      "[0.9, 0.8, 0.9, 0.9]\n",
      "tf.Tensor([[9.9987411e-01 1.2374851e-04 7.0619268e-07 1.4061445e-06]], shape=(1, 4), dtype=float32)\n"
     ]
    },
    {
     "name": "stderr",
     "output_type": "stream",
     "text": [
      " 58%|█████████████████████████████████████████▍                             | 58301/100000 [9:50:02<4:31:54,  2.56it/s]"
     ]
    },
    {
     "name": "stdout",
     "output_type": "stream",
     "text": [
      "4.564466359305232\n",
      "92\n"
     ]
    },
    {
     "name": "stderr",
     "output_type": "stream",
     "text": [
      " 58%|█████████████████████████████████████████▍                             | 58401/100000 [9:50:39<4:32:08,  2.55it/s]"
     ]
    },
    {
     "name": "stdout",
     "output_type": "stream",
     "text": [
      "4.925591485568029\n",
      "87\n",
      "[0.0, 0.1, 0.9, 0.1]\n",
      "tf.Tensor([[0.03168055 0.23492213 0.58079267 0.15260471]], shape=(1, 4), dtype=float32)\n",
      "[0.3, 0.1, 0.9, 0.1]\n",
      "tf.Tensor([[0.01222179 0.29212615 0.58565533 0.10999678]], shape=(1, 4), dtype=float32)\n",
      "[0.6, 0.1, 0.9, 0.1]\n",
      "tf.Tensor([[0.00239177 0.7360981  0.24528812 0.01622193]], shape=(1, 4), dtype=float32)\n",
      "[0.8, 0.1, 0.9, 0.1]\n",
      "tf.Tensor([[3.8477613e-04 9.9839419e-01 1.1440779e-03 7.6847668e-05]], shape=(1, 4), dtype=float32)\n",
      "[1.0, 0.1, 0.9, 0.1]\n",
      "tf.Tensor([[9.9947256e-01 5.2016752e-04 3.1284235e-06 4.1160101e-06]], shape=(1, 4), dtype=float32)\n"
     ]
    },
    {
     "name": "stderr",
     "output_type": "stream",
     "text": [
      " 59%|█████████████████████████████████████████▌                             | 58501/100000 [9:51:15<4:21:56,  2.64it/s]"
     ]
    },
    {
     "name": "stdout",
     "output_type": "stream",
     "text": [
      "4.990775201091201\n",
      "93\n"
     ]
    },
    {
     "name": "stderr",
     "output_type": "stream",
     "text": [
      " 59%|█████████████████████████████████████████▌                             | 58601/100000 [9:51:51<4:43:34,  2.43it/s]"
     ]
    },
    {
     "name": "stdout",
     "output_type": "stream",
     "text": [
      "4.341498985376172\n",
      "90\n",
      "[0.2, 0.8, 0.9, 0.1]\n",
      "tf.Tensor([[0.02493951 0.23129453 0.6055224  0.13824353]], shape=(1, 4), dtype=float32)\n",
      "[0.5, 0.8, 0.9, 0.1]\n",
      "tf.Tensor([[0.00512361 0.4384831  0.50575817 0.05063507]], shape=(1, 4), dtype=float32)\n",
      "[0.5, 0.5, 0.9, 0.1]\n",
      "tf.Tensor([[6.7613862e-04 9.3825084e-01 5.8823992e-02 2.2490665e-03]], shape=(1, 4), dtype=float32)\n",
      "[0.7, 0.5, 0.9, 0.1]\n",
      "tf.Tensor([[1.0729047e-03 9.9818343e-01 7.1027223e-04 3.3375698e-05]], shape=(1, 4), dtype=float32)\n",
      "[0.7, 0.3, 0.9, 0.1]\n",
      "tf.Tensor([[9.9986458e-01 1.3324796e-04 8.3356366e-07 1.3311458e-06]], shape=(1, 4), dtype=float32)\n",
      "[0.8, 0.3, 0.9, 0.1]\n",
      "tf.Tensor([[9.9993932e-01 5.9449205e-05 3.8334673e-07 8.9186307e-07]], shape=(1, 4), dtype=float32)\n",
      "[0.8, 0.2, 0.9, 0.1]\n",
      "tf.Tensor([[9.9993896e-01 5.9758862e-05 3.8858954e-07 8.9880456e-07]], shape=(1, 4), dtype=float32)\n",
      "[0.8, 0.1, 0.9, 0.1]\n",
      "tf.Tensor([[9.9993527e-01 6.3310137e-05 4.2743389e-07 9.0398055e-07]], shape=(1, 4), dtype=float32)\n"
     ]
    },
    {
     "name": "stderr",
     "output_type": "stream",
     "text": [
      " 59%|█████████████████████████████████████████▋                             | 58701/100000 [9:52:28<3:52:36,  2.96it/s]"
     ]
    },
    {
     "name": "stdout",
     "output_type": "stream",
     "text": [
      "5.48414604355946\n",
      "89\n"
     ]
    },
    {
     "name": "stderr",
     "output_type": "stream",
     "text": [
      " 59%|█████████████████████████████████████████▋                             | 58801/100000 [9:53:04<3:50:08,  2.98it/s]"
     ]
    },
    {
     "name": "stdout",
     "output_type": "stream",
     "text": [
      "4.923263038327812\n",
      "91\n",
      "[0.0, 0.6, 0.1, 0.9]\n",
      "tf.Tensor([[0.03493294 0.2928738  0.51112145 0.1610718 ]], shape=(1, 4), dtype=float32)\n",
      "[0.0, 0.9, 0.1, 0.9]\n",
      "tf.Tensor([[0.01120567 0.327191   0.560757   0.10084634]], shape=(1, 4), dtype=float32)\n",
      "[0.3, 0.9, 0.1, 0.9]\n",
      "tf.Tensor([[0.00148721 0.88677675 0.10518128 0.00655493]], shape=(1, 4), dtype=float32)\n"
     ]
    },
    {
     "name": "stderr",
     "output_type": "stream",
     "text": [
      " 59%|█████████████████████████████████████████▊                             | 58901/100000 [9:53:40<4:33:47,  2.50it/s]"
     ]
    },
    {
     "name": "stdout",
     "output_type": "stream",
     "text": [
      "4.134679796263336\n",
      "88\n"
     ]
    },
    {
     "name": "stderr",
     "output_type": "stream",
     "text": [
      " 59%|█████████████████████████████████████████▉                             | 59001/100000 [9:54:16<3:20:10,  3.41it/s]"
     ]
    },
    {
     "name": "stdout",
     "output_type": "stream",
     "text": [
      "5.493233315543498\n",
      "84\n",
      "[0.7, 0.7, 0.1, 0.1]\n",
      "tf.Tensor([[0.01449971 0.36177707 0.49520394 0.1285193 ]], shape=(1, 4), dtype=float32)\n",
      "[0.7, 0.4, 0.1, 0.1]\n",
      "tf.Tensor([[0.00717971 0.498168   0.44203    0.05262225]], shape=(1, 4), dtype=float32)\n",
      "[0.5, 0.4, 0.1, 0.1]\n",
      "tf.Tensor([[6.9742085e-04 9.7293043e-01 2.5079191e-02 1.2929639e-03]], shape=(1, 4), dtype=float32)\n",
      "[0.3, 0.4, 0.1, 0.1]\n",
      "tf.Tensor([[2.7357286e-03 9.9633008e-01 8.9271867e-04 4.1574745e-05]], shape=(1, 4), dtype=float32)\n",
      "[0.3, 0.2, 0.1, 0.1]\n",
      "tf.Tensor([[9.9983907e-01 1.5786616e-04 1.1863295e-06 1.8949395e-06]], shape=(1, 4), dtype=float32)\n",
      "[0.2, 0.2, 0.1, 0.1]\n",
      "tf.Tensor([[9.9991798e-01 8.0094724e-05 6.1793202e-07 1.3068017e-06]], shape=(1, 4), dtype=float32)\n",
      "[0.1, 0.2, 0.1, 0.1]\n",
      "tf.Tensor([[9.9993050e-01 6.7941684e-05 4.6478243e-07 1.0439092e-06]], shape=(1, 4), dtype=float32)\n"
     ]
    },
    {
     "name": "stderr",
     "output_type": "stream",
     "text": [
      " 59%|█████████████████████████████████████████▉                             | 59101/100000 [9:54:52<3:50:08,  2.96it/s]"
     ]
    },
    {
     "name": "stdout",
     "output_type": "stream",
     "text": [
      "4.247053834277984\n",
      "83\n"
     ]
    },
    {
     "name": "stderr",
     "output_type": "stream",
     "text": [
      " 59%|██████████████████████████████████████████                             | 59201/100000 [9:55:27<3:53:59,  2.91it/s]"
     ]
    },
    {
     "name": "stdout",
     "output_type": "stream",
     "text": [
      "5.039080083652905\n",
      "89\n",
      "[0.0, 0.6, 0.5, 0.3]\n",
      "tf.Tensor([[0.03396883 0.21497427 0.5987971  0.15225984]], shape=(1, 4), dtype=float32)\n",
      "[0.3, 0.6, 0.5, 0.3]\n",
      "tf.Tensor([[0.00814323 0.38267937 0.5374348  0.07174256]], shape=(1, 4), dtype=float32)\n",
      "[0.3, 0.3, 0.5, 0.3]\n",
      "tf.Tensor([[0.00145137 0.8519287  0.14018814 0.00643179]], shape=(1, 4), dtype=float32)\n"
     ]
    },
    {
     "name": "stderr",
     "output_type": "stream",
     "text": [
      " 59%|██████████████████████████████████████████                             | 59301/100000 [9:56:03<4:20:35,  2.60it/s]"
     ]
    },
    {
     "name": "stdout",
     "output_type": "stream",
     "text": [
      "5.412121426289093\n",
      "92\n"
     ]
    },
    {
     "name": "stderr",
     "output_type": "stream",
     "text": [
      " 59%|██████████████████████████████████████████▏                            | 59401/100000 [9:56:41<4:06:07,  2.75it/s]"
     ]
    },
    {
     "name": "stdout",
     "output_type": "stream",
     "text": [
      "5.583548430833584\n",
      "91\n",
      "[0.8, 0.2, 0.1, 0.9]\n",
      "tf.Tensor([[0.05019581 0.26083833 0.5093617  0.17960416]], shape=(1, 4), dtype=float32)\n",
      "[0.8, 0.5, 0.1, 0.9]\n",
      "tf.Tensor([[0.02063429 0.3055408  0.53690124 0.1369237 ]], shape=(1, 4), dtype=float32)\n",
      "[0.5, 0.5, 0.1, 0.9]\n",
      "tf.Tensor([[0.00705667 0.5260615  0.42343023 0.04345163]], shape=(1, 4), dtype=float32)\n",
      "[0.5, 0.7, 0.1, 0.9]\n",
      "tf.Tensor([[5.2805751e-04 9.9636203e-01 2.9508239e-03 1.5900863e-04]], shape=(1, 4), dtype=float32)\n",
      "[0.3, 0.7, 0.1, 0.9]\n",
      "tf.Tensor([[9.9941480e-01 5.7800330e-04 3.5310920e-06 3.6650063e-06]], shape=(1, 4), dtype=float32)\n",
      "[0.3, 0.8, 0.1, 0.9]\n",
      "tf.Tensor([[9.9991667e-01 8.1630584e-05 5.1756632e-07 1.1798188e-06]], shape=(1, 4), dtype=float32)\n",
      "[0.2, 0.8, 0.1, 0.9]\n",
      "tf.Tensor([[9.9992001e-01 7.8272475e-05 4.9862876e-07 1.1557688e-06]], shape=(1, 4), dtype=float32)\n",
      "[0.1, 0.8, 0.1, 0.9]\n",
      "tf.Tensor([[9.9991417e-01 8.4123756e-05 5.1943420e-07 1.1718028e-06]], shape=(1, 4), dtype=float32)\n"
     ]
    },
    {
     "name": "stderr",
     "output_type": "stream",
     "text": [
      " 60%|██████████████████████████████████████████▏                            | 59501/100000 [9:57:17<4:22:37,  2.57it/s]"
     ]
    },
    {
     "name": "stdout",
     "output_type": "stream",
     "text": [
      "5.027177789075717\n",
      "87\n"
     ]
    },
    {
     "name": "stderr",
     "output_type": "stream",
     "text": [
      " 60%|██████████████████████████████████████████▎                            | 59601/100000 [9:57:53<4:14:57,  2.64it/s]"
     ]
    },
    {
     "name": "stdout",
     "output_type": "stream",
     "text": [
      "4.374436131490435\n",
      "90\n",
      "[0.3, 0.3, 0.5, 0.3]\n",
      "tf.Tensor([[0.04830236 0.27260655 0.49558666 0.18350445]], shape=(1, 4), dtype=float32)\n",
      "[0.6, 0.3, 0.5, 0.3]\n",
      "tf.Tensor([[0.02278982 0.3464415  0.47458324 0.15618542]], shape=(1, 4), dtype=float32)\n",
      "[0.3, 0.3, 0.5, 0.3]\n",
      "tf.Tensor([[0.00532613 0.55095714 0.39684173 0.04687504]], shape=(1, 4), dtype=float32)\n"
     ]
    },
    {
     "name": "stderr",
     "output_type": "stream",
     "text": [
      " 60%|██████████████████████████████████████████▍                            | 59701/100000 [9:58:28<4:13:14,  2.65it/s]"
     ]
    },
    {
     "name": "stdout",
     "output_type": "stream",
     "text": [
      "5.654317291815276\n",
      "91\n"
     ]
    },
    {
     "name": "stderr",
     "output_type": "stream",
     "text": [
      " 60%|██████████████████████████████████████████▍                            | 59801/100000 [9:59:04<4:25:05,  2.53it/s]"
     ]
    },
    {
     "name": "stdout",
     "output_type": "stream",
     "text": [
      "5.439597888361559\n",
      "92\n",
      "[0.3, 0.2, 0.9, 0.1]\n",
      "tf.Tensor([[0.04949561 0.24516717 0.5248174  0.18051982]], shape=(1, 4), dtype=float32)\n",
      "[0.6, 0.2, 0.9, 0.1]\n",
      "tf.Tensor([[0.02129956 0.24213408 0.5797464  0.15681991]], shape=(1, 4), dtype=float32)\n",
      "[0.9, 0.2, 0.9, 0.1]\n",
      "tf.Tensor([[0.00361918 0.4821871  0.46731108 0.0468826 ]], shape=(1, 4), dtype=float32)\n",
      "[0.9, 0.0, 0.9, 0.1]\n",
      "tf.Tensor([[4.6569618e-04 9.9501038e-01 4.2374609e-03 2.8648248e-04]], shape=(1, 4), dtype=float32)\n",
      "[0.9, 0.2, 0.9, 0.1]\n",
      "tf.Tensor([[9.9964345e-01 3.5234206e-04 1.6445674e-06 2.4594542e-06]], shape=(1, 4), dtype=float32)\n"
     ]
    },
    {
     "name": "stderr",
     "output_type": "stream",
     "text": [
      " 60%|██████████████████████████████████████████▌                            | 59901/100000 [9:59:39<3:47:38,  2.94it/s]"
     ]
    },
    {
     "name": "stdout",
     "output_type": "stream",
     "text": [
      "5.135327879790599\n",
      "87\n"
     ]
    },
    {
     "name": "stderr",
     "output_type": "stream",
     "text": [
      " 60%|██████████████████████████████████████████                            | 60001/100000 [10:00:14<3:50:32,  2.89it/s]"
     ]
    },
    {
     "name": "stdout",
     "output_type": "stream",
     "text": [
      "4.883471481713714\n",
      "91\n",
      "[0.1, 0.0, 0.5, 0.7]\n",
      "tf.Tensor([[0.05460595 0.27135414 0.48726052 0.18677941]], shape=(1, 4), dtype=float32)\n",
      "[0.1, 0.3, 0.5, 0.7]\n",
      "tf.Tensor([[0.02494626 0.24277692 0.57128805 0.16098881]], shape=(1, 4), dtype=float32)\n",
      "[0.4, 0.3, 0.5, 0.7]\n",
      "tf.Tensor([[0.01017125 0.3760337  0.5238777  0.08991741]], shape=(1, 4), dtype=float32)\n",
      "[0.4, 0.6, 0.5, 0.7]\n",
      "tf.Tensor([[6.3576607e-04 9.9281210e-01 6.1474233e-03 4.0460550e-04]], shape=(1, 4), dtype=float32)\n",
      "[0.6, 0.6, 0.5, 0.7]\n",
      "tf.Tensor([[9.9912614e-01 8.6443283e-04 4.8163797e-06 4.6860191e-06]], shape=(1, 4), dtype=float32)\n",
      "[0.5, 0.6, 0.5, 0.7]\n",
      "tf.Tensor([[9.9990726e-01 9.1128401e-05 5.2767587e-07 1.1188330e-06]], shape=(1, 4), dtype=float32)\n"
     ]
    },
    {
     "name": "stderr",
     "output_type": "stream",
     "text": [
      " 60%|██████████████████████████████████████████                            | 60101/100000 [10:00:49<4:07:34,  2.69it/s]"
     ]
    },
    {
     "name": "stdout",
     "output_type": "stream",
     "text": [
      "4.727557631506566\n",
      "88\n"
     ]
    },
    {
     "name": "stderr",
     "output_type": "stream",
     "text": [
      " 60%|██████████████████████████████████████████▏                           | 60201/100000 [10:01:26<4:30:08,  2.46it/s]"
     ]
    },
    {
     "name": "stdout",
     "output_type": "stream",
     "text": [
      "5.59792231220005\n",
      "92\n",
      "[0.2, 0.5, 0.1, 0.1]\n",
      "tf.Tensor([[0.02182912 0.30319476 0.5295071  0.14546901]], shape=(1, 4), dtype=float32)\n",
      "[0.2, 0.2, 0.1, 0.1]\n",
      "tf.Tensor([[0.01317663 0.34474358 0.53568023 0.10639954]], shape=(1, 4), dtype=float32)\n",
      "[0.0, 0.2, 0.1, 0.1]\n",
      "tf.Tensor([[0.00145324 0.85590017 0.13481747 0.0078292 ]], shape=(1, 4), dtype=float32)\n",
      "[0.0, 0.0, 0.1, 0.1]\n",
      "tf.Tensor([[6.2411401e-04 9.9835300e-01 9.7450137e-04 4.8410984e-05]], shape=(1, 4), dtype=float32)\n",
      "[0.2, 0.0, 0.1, 0.1]\n",
      "tf.Tensor([[9.9977022e-01 2.2620137e-04 1.4279435e-06 2.1501244e-06]], shape=(1, 4), dtype=float32)\n",
      "[0.1, 0.0, 0.1, 0.1]\n",
      "tf.Tensor([[9.9989843e-01 9.9629549e-05 6.2244334e-07 1.2542503e-06]], shape=(1, 4), dtype=float32)\n"
     ]
    },
    {
     "name": "stderr",
     "output_type": "stream",
     "text": [
      " 60%|██████████████████████████████████████████▏                           | 60301/100000 [10:02:02<4:40:30,  2.36it/s]"
     ]
    },
    {
     "name": "stdout",
     "output_type": "stream",
     "text": [
      "3.722374016760053\n",
      "87\n"
     ]
    },
    {
     "name": "stderr",
     "output_type": "stream",
     "text": [
      " 60%|██████████████████████████████████████████▎                           | 60401/100000 [10:02:37<4:30:45,  2.44it/s]"
     ]
    },
    {
     "name": "stdout",
     "output_type": "stream",
     "text": [
      "5.200351274127202\n",
      "91\n",
      "[0.8, 0.5, 0.9, 0.1]\n",
      "tf.Tensor([[0.02415282 0.27571866 0.5587995  0.141329  ]], shape=(1, 4), dtype=float32)\n",
      "[0.8, 0.2, 0.9, 0.1]\n",
      "tf.Tensor([[0.01017282 0.25488314 0.63084865 0.10409539]], shape=(1, 4), dtype=float32)\n",
      "[1.0, 0.2, 0.9, 0.1]\n",
      "tf.Tensor([[0.0026546  0.7407998  0.24248049 0.0140651 ]], shape=(1, 4), dtype=float32)\n",
      "[0.8, 0.2, 0.9, 0.1]\n",
      "tf.Tensor([[5.3354335e-04 9.9858093e-01 8.4479863e-04 4.0692619e-05]], shape=(1, 4), dtype=float32)\n",
      "[1.0, 0.2, 0.9, 0.1]\n",
      "tf.Tensor([[9.9979371e-01 2.0316098e-04 1.1817083e-06 1.8952276e-06]], shape=(1, 4), dtype=float32)\n",
      "[0.9, 0.2, 0.9, 0.1]\n",
      "tf.Tensor([[9.9993074e-01 6.8007372e-05 3.6242622e-07 8.9020688e-07]], shape=(1, 4), dtype=float32)\n"
     ]
    },
    {
     "name": "stderr",
     "output_type": "stream",
     "text": [
      " 61%|██████████████████████████████████████████▎                           | 60501/100000 [10:03:12<4:02:34,  2.71it/s]"
     ]
    },
    {
     "name": "stdout",
     "output_type": "stream",
     "text": [
      "5.252882681110051\n",
      "88\n"
     ]
    },
    {
     "name": "stderr",
     "output_type": "stream",
     "text": [
      " 61%|██████████████████████████████████████████▍                           | 60601/100000 [10:03:50<4:28:19,  2.45it/s]"
     ]
    },
    {
     "name": "stdout",
     "output_type": "stream",
     "text": [
      "3.956819430258089\n",
      "87\n",
      "[0.7, 0.7, 0.1, 0.9]\n",
      "tf.Tensor([[0.03976072 0.25984952 0.54470986 0.15567982]], shape=(1, 4), dtype=float32)\n",
      "[0.4, 0.7, 0.1, 0.9]\n",
      "tf.Tensor([[0.01727763 0.27306086 0.5860075  0.12365396]], shape=(1, 4), dtype=float32)\n",
      "[0.1, 0.7, 0.1, 0.9]\n",
      "tf.Tensor([[0.00487343 0.5958083  0.37157246 0.02774578]], shape=(1, 4), dtype=float32)\n"
     ]
    },
    {
     "name": "stderr",
     "output_type": "stream",
     "text": [
      " 61%|██████████████████████████████████████████▍                           | 60701/100000 [10:04:26<4:01:54,  2.71it/s]"
     ]
    },
    {
     "name": "stdout",
     "output_type": "stream",
     "text": [
      "5.353622361763031\n",
      "92\n"
     ]
    },
    {
     "name": "stderr",
     "output_type": "stream",
     "text": [
      " 61%|██████████████████████████████████████████▌                           | 60801/100000 [10:05:01<3:41:19,  2.95it/s]"
     ]
    },
    {
     "name": "stdout",
     "output_type": "stream",
     "text": [
      "4.809750729943724\n",
      "90\n",
      "[0.5, 0.5, 0.5, 0.3]\n",
      "tf.Tensor([[0.03011677 0.23683858 0.57718176 0.15586296]], shape=(1, 4), dtype=float32)\n",
      "[0.5, 0.2, 0.5, 0.3]\n",
      "tf.Tensor([[0.02444626 0.19593741 0.6231773  0.15643905]], shape=(1, 4), dtype=float32)\n",
      "[0.5, 0.5, 0.5, 0.3]\n",
      "tf.Tensor([[0.00500749 0.33798462 0.59361863 0.0633892 ]], shape=(1, 4), dtype=float32)\n",
      "[0.5, 0.2, 0.5, 0.3]\n",
      "tf.Tensor([[5.0223654e-04 9.9011958e-01 8.9555597e-03 4.2271271e-04]], shape=(1, 4), dtype=float32)\n",
      "[0.5, 0.4, 0.5, 0.3]\n",
      "tf.Tensor([[9.9932337e-01 6.7049306e-04 2.9320668e-06 3.2161879e-06]], shape=(1, 4), dtype=float32)\n"
     ]
    },
    {
     "name": "stderr",
     "output_type": "stream",
     "text": [
      " 61%|██████████████████████████████████████████▋                           | 60901/100000 [10:05:38<4:12:52,  2.58it/s]"
     ]
    },
    {
     "name": "stdout",
     "output_type": "stream",
     "text": [
      "5.703802805177539\n",
      "99\n"
     ]
    },
    {
     "name": "stderr",
     "output_type": "stream",
     "text": [
      " 61%|██████████████████████████████████████████▋                           | 61001/100000 [10:06:14<3:53:57,  2.78it/s]"
     ]
    },
    {
     "name": "stdout",
     "output_type": "stream",
     "text": [
      "5.3222252704302\n",
      "89\n",
      "[0.1, 0.5, 0.1, 0.1]\n",
      "tf.Tensor([[0.03611299 0.23715562 0.5577917  0.16893971]], shape=(1, 4), dtype=float32)\n",
      "[0.1, 0.2, 0.1, 0.1]\n",
      "tf.Tensor([[0.01816687 0.2370816  0.5982921  0.14645943]], shape=(1, 4), dtype=float32)\n",
      "[0.1, 0.0, 0.1, 0.1]\n",
      "tf.Tensor([[0.01108832 0.25799465 0.61842567 0.11249135]], shape=(1, 4), dtype=float32)\n",
      "[0.1, 0.3, 0.1, 0.1]\n",
      "tf.Tensor([[4.6517368e-04 9.8782271e-01 1.1194062e-02 5.1811145e-04]], shape=(1, 4), dtype=float32)\n"
     ]
    },
    {
     "name": "stderr",
     "output_type": "stream",
     "text": [
      " 61%|██████████████████████████████████████████▊                           | 61102/100000 [10:06:49<3:20:58,  3.23it/s]"
     ]
    },
    {
     "name": "stdout",
     "output_type": "stream",
     "text": [
      "5.859360436059591\n",
      "92\n"
     ]
    },
    {
     "name": "stderr",
     "output_type": "stream",
     "text": [
      " 61%|██████████████████████████████████████████▊                           | 61201/100000 [10:07:26<4:00:59,  2.68it/s]"
     ]
    },
    {
     "name": "stdout",
     "output_type": "stream",
     "text": [
      "6.01195240451379\n",
      "97\n",
      "[0.2, 0.6, 0.9, 0.1]\n",
      "tf.Tensor([[0.04351558 0.16292955 0.60280615 0.1907487 ]], shape=(1, 4), dtype=float32)\n",
      "[0.5, 0.6, 0.9, 0.1]\n",
      "tf.Tensor([[0.01848308 0.14989601 0.6694381  0.16218281]], shape=(1, 4), dtype=float32)\n",
      "[0.8, 0.6, 0.9, 0.1]\n",
      "tf.Tensor([[0.00344144 0.37340117 0.5678424  0.05531504]], shape=(1, 4), dtype=float32)\n",
      "[0.8, 0.3, 0.9, 0.1]\n",
      "tf.Tensor([[1.6388121e-04 9.9829334e-01 1.4596644e-03 8.3164057e-05]], shape=(1, 4), dtype=float32)\n",
      "[0.8, 0.1, 0.9, 0.1]\n",
      "tf.Tensor([[9.9928880e-01 7.0605165e-04 2.4354738e-06 2.7979943e-06]], shape=(1, 4), dtype=float32)\n"
     ]
    },
    {
     "name": "stderr",
     "output_type": "stream",
     "text": [
      " 61%|██████████████████████████████████████████▉                           | 61301/100000 [10:08:02<3:53:12,  2.77it/s]"
     ]
    },
    {
     "name": "stdout",
     "output_type": "stream",
     "text": [
      "5.098079896635716\n",
      "86\n"
     ]
    },
    {
     "name": "stderr",
     "output_type": "stream",
     "text": [
      " 61%|██████████████████████████████████████████▉                           | 61401/100000 [10:08:39<3:46:51,  2.84it/s]"
     ]
    },
    {
     "name": "stdout",
     "output_type": "stream",
     "text": [
      "4.668941243571991\n",
      "90\n",
      "[0.6, 0.8, 0.5, 0.7]\n",
      "tf.Tensor([[0.03096059 0.23919192 0.5551629  0.17468448]], shape=(1, 4), dtype=float32)\n",
      "[0.3, 0.8, 0.5, 0.7]\n",
      "tf.Tensor([[0.00984295 0.24047264 0.62907237 0.12061208]], shape=(1, 4), dtype=float32)\n",
      "[0.6, 0.8, 0.5, 0.7]\n",
      "tf.Tensor([[0.00120051 0.91241604 0.08150059 0.00488292]], shape=(1, 4), dtype=float32)\n",
      "[0.4, 0.8, 0.5, 0.7]\n",
      "tf.Tensor([[1.4049920e-03 9.9793553e-01 6.3113426e-04 2.8489123e-05]], shape=(1, 4), dtype=float32)\n",
      "[0.6, 0.8, 0.5, 0.7]\n",
      "tf.Tensor([[9.9982351e-01 1.7408749e-04 8.6812901e-07 1.5882425e-06]], shape=(1, 4), dtype=float32)\n",
      "[0.5, 0.8, 0.5, 0.7]\n",
      "tf.Tensor([[9.9993360e-01 6.5249485e-05 3.0867764e-07 8.8143810e-07]], shape=(1, 4), dtype=float32)\n"
     ]
    },
    {
     "name": "stderr",
     "output_type": "stream",
     "text": [
      " 62%|███████████████████████████████████████████                           | 61501/100000 [10:09:15<4:15:53,  2.51it/s]"
     ]
    },
    {
     "name": "stdout",
     "output_type": "stream",
     "text": [
      "3.914023509167225\n",
      "88\n"
     ]
    },
    {
     "name": "stderr",
     "output_type": "stream",
     "text": [
      " 62%|███████████████████████████████████████████                           | 61601/100000 [10:09:50<3:24:22,  3.13it/s]"
     ]
    },
    {
     "name": "stdout",
     "output_type": "stream",
     "text": [
      "5.128155399467385\n",
      "91\n",
      "[0.1, 0.7, 0.5, 0.3]\n",
      "tf.Tensor([[0.02590356 0.16364692 0.6358644  0.17458515]], shape=(1, 4), dtype=float32)\n",
      "[0.4, 0.7, 0.5, 0.3]\n",
      "tf.Tensor([[0.0070115  0.27569932 0.6146249  0.10266428]], shape=(1, 4), dtype=float32)\n",
      "[0.4, 0.4, 0.5, 0.3]\n",
      "tf.Tensor([[0.0013245  0.8161043  0.17344452 0.00912666]], shape=(1, 4), dtype=float32)\n",
      "[0.6, 0.4, 0.5, 0.3]\n",
      "tf.Tensor([[6.6642347e-04 9.9851769e-01 7.7460310e-04 4.1255287e-05]], shape=(1, 4), dtype=float32)\n",
      "[0.4, 0.4, 0.5, 0.3]\n",
      "tf.Tensor([[9.9979609e-01 2.0142806e-04 9.1803929e-07 1.5718485e-06]], shape=(1, 4), dtype=float32)\n",
      "[0.5, 0.4, 0.5, 0.3]\n",
      "tf.Tensor([[9.9992990e-01 6.8752292e-05 3.4084124e-07 9.4988968e-07]], shape=(1, 4), dtype=float32)\n"
     ]
    },
    {
     "name": "stderr",
     "output_type": "stream",
     "text": [
      " 62%|███████████████████████████████████████████▏                          | 61701/100000 [10:10:27<4:00:00,  2.66it/s]"
     ]
    },
    {
     "name": "stdout",
     "output_type": "stream",
     "text": [
      "3.894913784995608\n",
      "85\n"
     ]
    },
    {
     "name": "stderr",
     "output_type": "stream",
     "text": [
      " 62%|███████████████████████████████████████████▎                          | 61801/100000 [10:11:03<4:07:15,  2.57it/s]"
     ]
    },
    {
     "name": "stdout",
     "output_type": "stream",
     "text": [
      "4.80222488041999\n",
      "90\n",
      "[0.5, 0.0, 0.5, 0.7]\n",
      "tf.Tensor([[0.02933636 0.2034456  0.58376074 0.18345724]], shape=(1, 4), dtype=float32)\n",
      "[0.5, 0.3, 0.5, 0.7]\n",
      "tf.Tensor([[0.01429945 0.20327373 0.62545604 0.15697086]], shape=(1, 4), dtype=float32)\n",
      "[0.5, 0.6, 0.5, 0.7]\n",
      "tf.Tensor([[0.00515113 0.35917214 0.5762557  0.05942107]], shape=(1, 4), dtype=float32)\n",
      "[0.5, 0.9, 0.5, 0.7]\n",
      "tf.Tensor([[3.8919554e-04 9.9670130e-01 2.7599717e-03 1.4945044e-04]], shape=(1, 4), dtype=float32)\n"
     ]
    },
    {
     "name": "stderr",
     "output_type": "stream",
     "text": [
      " 62%|███████████████████████████████████████████▎                          | 61902/100000 [10:11:40<3:25:26,  3.09it/s]"
     ]
    },
    {
     "name": "stdout",
     "output_type": "stream",
     "text": [
      "4.722739702718121\n",
      "88\n"
     ]
    },
    {
     "name": "stderr",
     "output_type": "stream",
     "text": [
      " 62%|███████████████████████████████████████████▍                          | 62001/100000 [10:12:16<4:15:14,  2.48it/s]"
     ]
    },
    {
     "name": "stdout",
     "output_type": "stream",
     "text": [
      "5.046320621568843\n",
      "88\n",
      "[0.0, 0.3, 0.9, 0.1]\n",
      "tf.Tensor([[0.03331429 0.19183758 0.5891432  0.18570496]], shape=(1, 4), dtype=float32)\n",
      "[0.3, 0.3, 0.9, 0.1]\n",
      "tf.Tensor([[0.0139912  0.18109709 0.6457299  0.15918182]], shape=(1, 4), dtype=float32)\n",
      "[0.6, 0.3, 0.9, 0.1]\n",
      "tf.Tensor([[0.00345126 0.36710584 0.5710914  0.05835139]], shape=(1, 4), dtype=float32)\n",
      "[0.9, 0.3, 0.9, 0.1]\n",
      "tf.Tensor([[2.9061112e-04 9.9816459e-01 1.4517268e-03 9.3174749e-05]], shape=(1, 4), dtype=float32)\n"
     ]
    },
    {
     "name": "stderr",
     "output_type": "stream",
     "text": [
      " 62%|███████████████████████████████████████████▍                          | 62101/100000 [10:12:52<3:18:22,  3.18it/s]"
     ]
    },
    {
     "name": "stdout",
     "output_type": "stream",
     "text": [
      "4.349414636403976\n",
      "86\n"
     ]
    },
    {
     "name": "stderr",
     "output_type": "stream",
     "text": [
      " 62%|███████████████████████████████████████████▌                          | 62201/100000 [10:13:25<3:57:40,  2.65it/s]"
     ]
    },
    {
     "name": "stdout",
     "output_type": "stream",
     "text": [
      "5.1662260075124316\n",
      "92\n",
      "[0.7, 0.7, 0.5, 0.3]\n",
      "tf.Tensor([[0.01625849 0.23992465 0.5860915  0.15772532]], shape=(1, 4), dtype=float32)\n",
      "[0.7, 0.4, 0.5, 0.3]\n",
      "tf.Tensor([[0.00950368 0.27378514 0.6019254  0.11478575]], shape=(1, 4), dtype=float32)\n",
      "[0.4, 0.4, 0.5, 0.3]\n",
      "tf.Tensor([[0.00146715 0.78864115 0.19937171 0.01051997]], shape=(1, 4), dtype=float32)\n",
      "[0.6, 0.4, 0.5, 0.3]\n",
      "tf.Tensor([[1.5355269e-03 9.9720508e-01 1.2025561e-03 5.6779427e-05]], shape=(1, 4), dtype=float32)\n",
      "[0.4, 0.4, 0.5, 0.3]\n",
      "tf.Tensor([[9.9988711e-01 1.1101758e-04 6.6009562e-07 1.2330070e-06]], shape=(1, 4), dtype=float32)\n",
      "[0.5, 0.4, 0.5, 0.3]\n",
      "tf.Tensor([[9.9995017e-01 4.8692000e-05 2.9864051e-07 8.3722750e-07]], shape=(1, 4), dtype=float32)\n"
     ]
    },
    {
     "name": "stderr",
     "output_type": "stream",
     "text": [
      " 62%|███████████████████████████████████████████▌                          | 62301/100000 [10:14:03<3:54:23,  2.68it/s]"
     ]
    },
    {
     "name": "stdout",
     "output_type": "stream",
     "text": [
      "4.72067900285725\n",
      "88\n"
     ]
    },
    {
     "name": "stderr",
     "output_type": "stream",
     "text": [
      " 62%|███████████████████████████████████████████▋                          | 62401/100000 [10:14:38<4:07:18,  2.53it/s]"
     ]
    },
    {
     "name": "stdout",
     "output_type": "stream",
     "text": [
      "4.90445398243193\n",
      "87\n",
      "[0.5, 0.2, 0.5, 0.3]\n",
      "tf.Tensor([[0.02479819 0.20149241 0.5794156  0.19429386]], shape=(1, 4), dtype=float32)\n",
      "[0.5, 0.5, 0.5, 0.3]\n",
      "tf.Tensor([[0.00638753 0.28281814 0.58680207 0.12399231]], shape=(1, 4), dtype=float32)\n",
      "[0.5, 0.2, 0.5, 0.3]\n",
      "tf.Tensor([[0.00325973 0.5495314  0.409723   0.03748585]], shape=(1, 4), dtype=float32)\n",
      "[0.5, 0.4, 0.5, 0.3]\n",
      "tf.Tensor([[4.0714911e-04 9.9790275e-01 1.5912107e-03 9.8869881e-05]], shape=(1, 4), dtype=float32)\n",
      "[0.5, 0.2, 0.5, 0.3]\n",
      "tf.Tensor([[9.9964976e-01 3.4536919e-04 2.0422199e-06 2.8474324e-06]], shape=(1, 4), dtype=float32)\n"
     ]
    },
    {
     "name": "stderr",
     "output_type": "stream",
     "text": [
      " 63%|███████████████████████████████████████████▊                          | 62501/100000 [10:15:13<3:49:10,  2.73it/s]"
     ]
    },
    {
     "name": "stdout",
     "output_type": "stream",
     "text": [
      "5.274672879518832\n",
      "95\n"
     ]
    },
    {
     "name": "stderr",
     "output_type": "stream",
     "text": [
      " 63%|███████████████████████████████████████████▊                          | 62601/100000 [10:15:49<4:40:54,  2.22it/s]"
     ]
    },
    {
     "name": "stdout",
     "output_type": "stream",
     "text": [
      "4.149841585848451\n",
      "89\n",
      "[0.9, 0.1, 0.1, 0.9]\n",
      "tf.Tensor([[0.02191699 0.18588433 0.6036126  0.18858615]], shape=(1, 4), dtype=float32)\n",
      "[0.9, 0.4, 0.1, 0.9]\n",
      "tf.Tensor([[0.00999931 0.23630875 0.61715156 0.13654038]], shape=(1, 4), dtype=float32)\n",
      "[0.6, 0.4, 0.1, 0.9]\n",
      "tf.Tensor([[0.00349919 0.5355005  0.42468053 0.03631968]], shape=(1, 4), dtype=float32)\n",
      "[0.6, 0.6, 0.1, 0.9]\n",
      "tf.Tensor([[5.6351139e-04 9.9724698e-01 2.0785907e-03 1.1087766e-04]], shape=(1, 4), dtype=float32)\n",
      "[0.4, 0.6, 0.1, 0.9]\n",
      "tf.Tensor([[9.9966073e-01 3.3427501e-04 2.1024875e-06 2.8043205e-06]], shape=(1, 4), dtype=float32)\n",
      "[0.4, 0.7, 0.1, 0.9]\n",
      "tf.Tensor([[9.9993193e-01 6.6418193e-05 4.5967761e-07 1.1761072e-06]], shape=(1, 4), dtype=float32)\n",
      "[0.3, 0.7, 0.1, 0.9]\n",
      "tf.Tensor([[9.9993086e-01 6.7546585e-05 4.4674525e-07 1.1315765e-06]], shape=(1, 4), dtype=float32)\n",
      "[0.3, 0.8, 0.1, 0.9]\n",
      "tf.Tensor([[9.9993443e-01 6.3927051e-05 4.3815862e-07 1.1394695e-06]], shape=(1, 4), dtype=float32)\n",
      "[0.2, 0.8, 0.1, 0.9]\n",
      "tf.Tensor([[9.9993634e-01 6.2107472e-05 4.2856664e-07 1.1274291e-06]], shape=(1, 4), dtype=float32)\n",
      "[0.1, 0.8, 0.1, 0.9]\n",
      "tf.Tensor([[9.9993205e-01 6.6349065e-05 4.3912388e-07 1.1240392e-06]], shape=(1, 4), dtype=float32)\n"
     ]
    },
    {
     "name": "stderr",
     "output_type": "stream",
     "text": [
      " 63%|███████████████████████████████████████████▉                          | 62701/100000 [10:16:24<4:00:10,  2.59it/s]"
     ]
    },
    {
     "name": "stdout",
     "output_type": "stream",
     "text": [
      "4.16190417051366\n",
      "89\n"
     ]
    },
    {
     "name": "stderr",
     "output_type": "stream",
     "text": [
      " 63%|███████████████████████████████████████████▉                          | 62801/100000 [10:16:59<4:21:34,  2.37it/s]"
     ]
    },
    {
     "name": "stdout",
     "output_type": "stream",
     "text": [
      "5.337248835804703\n",
      "90\n",
      "[0.0, 0.8, 0.9, 0.1]\n",
      "tf.Tensor([[0.0193518  0.12549299 0.6922569  0.16289832]], shape=(1, 4), dtype=float32)\n",
      "[0.3, 0.8, 0.9, 0.1]\n",
      "tf.Tensor([[0.00799218 0.13792692 0.72281134 0.13126957]], shape=(1, 4), dtype=float32)\n",
      "[0.6, 0.8, 0.9, 0.1]\n",
      "tf.Tensor([[0.00139227 0.59282947 0.3839407  0.02183754]], shape=(1, 4), dtype=float32)\n",
      "[0.6, 0.6, 0.9, 0.1]\n",
      "tf.Tensor([[5.2618090e-04 9.9850452e-01 9.2068902e-04 4.8515212e-05]], shape=(1, 4), dtype=float32)\n",
      "[0.6, 0.4, 0.9, 0.1]\n",
      "tf.Tensor([[9.9986625e-01 1.3161417e-04 7.1976245e-07 1.3708607e-06]], shape=(1, 4), dtype=float32)\n",
      "[0.7, 0.4, 0.9, 0.1]\n",
      "tf.Tensor([[9.9994802e-01 5.0749371e-05 3.0444642e-07 8.9030721e-07]], shape=(1, 4), dtype=float32)\n",
      "[0.7, 0.3, 0.9, 0.1]\n",
      "tf.Tensor([[9.9994600e-01 5.2862310e-05 3.2211898e-07 8.6341493e-07]], shape=(1, 4), dtype=float32)\n",
      "[0.8, 0.3, 0.9, 0.1]\n",
      "tf.Tensor([[9.9994898e-01 4.9777045e-05 2.9830201e-07 8.7496926e-07]], shape=(1, 4), dtype=float32)\n",
      "[0.8, 0.2, 0.9, 0.1]\n",
      "tf.Tensor([[9.9994600e-01 5.2841195e-05 3.2478508e-07 8.6578132e-07]], shape=(1, 4), dtype=float32)\n",
      "[0.9, 0.2, 0.9, 0.1]\n",
      "tf.Tensor([[9.9994886e-01 4.9953138e-05 2.9823883e-07 8.7164773e-07]], shape=(1, 4), dtype=float32)\n"
     ]
    },
    {
     "name": "stderr",
     "output_type": "stream",
     "text": [
      " 63%|████████████████████████████████████████████                          | 62901/100000 [10:17:35<3:03:28,  3.37it/s]"
     ]
    },
    {
     "name": "stdout",
     "output_type": "stream",
     "text": [
      "6.206976320994867\n",
      "96\n"
     ]
    },
    {
     "name": "stderr",
     "output_type": "stream",
     "text": [
      " 63%|████████████████████████████████████████████                          | 63001/100000 [10:18:10<3:24:06,  3.02it/s]"
     ]
    },
    {
     "name": "stdout",
     "output_type": "stream",
     "text": [
      "5.497076854412024\n",
      "86\n",
      "[0.1, 0.0, 0.9, 0.9]\n",
      "tf.Tensor([[0.02797831 0.13536148 0.6464938  0.19016646]], shape=(1, 4), dtype=float32)\n",
      "[0.4, 0.0, 0.9, 0.9]\n",
      "tf.Tensor([[0.01968217 0.15593773 0.6421322  0.18224783]], shape=(1, 4), dtype=float32)\n",
      "[0.4, 0.3, 0.9, 0.9]\n",
      "tf.Tensor([[0.0089271  0.20114437 0.65473175 0.13519679]], shape=(1, 4), dtype=float32)\n",
      "[0.4, 0.6, 0.9, 0.9]\n",
      "tf.Tensor([[7.4873131e-04 9.6672028e-01 3.0631481e-02 1.8995699e-03]], shape=(1, 4), dtype=float32)\n",
      "[0.6, 0.6, 0.9, 0.9]\n",
      "tf.Tensor([[9.9890280e-01 1.0866874e-03 5.3917161e-06 5.1652532e-06]], shape=(1, 4), dtype=float32)\n",
      "[0.7, 0.6, 0.9, 0.9]\n",
      "tf.Tensor([[9.9993122e-01 6.7100453e-05 4.3637615e-07 1.1340248e-06]], shape=(1, 4), dtype=float32)\n",
      "[0.7, 0.7, 0.9, 0.9]\n",
      "tf.Tensor([[9.9992824e-01 7.0059068e-05 4.5457494e-07 1.1697325e-06]], shape=(1, 4), dtype=float32)\n",
      "[0.7, 0.8, 0.9, 0.9]\n",
      "tf.Tensor([[9.999454e-01 5.345843e-05 3.209465e-07 8.829831e-07]], shape=(1, 4), dtype=float32)\n",
      "[0.8, 0.8, 0.9, 0.9]\n",
      "tf.Tensor([[9.9994981e-01 4.9075657e-05 2.9121486e-07 8.2466545e-07]], shape=(1, 4), dtype=float32)\n",
      "[0.9, 0.8, 0.9, 0.9]\n",
      "tf.Tensor([[9.9994063e-01 5.8075522e-05 3.6310237e-07 1.0002170e-06]], shape=(1, 4), dtype=float32)\n"
     ]
    },
    {
     "name": "stderr",
     "output_type": "stream",
     "text": [
      " 63%|████████████████████████████████████████████▏                         | 63101/100000 [10:18:45<3:36:09,  2.85it/s]"
     ]
    },
    {
     "name": "stdout",
     "output_type": "stream",
     "text": [
      "5.331994841206243\n",
      "91\n"
     ]
    },
    {
     "name": "stderr",
     "output_type": "stream",
     "text": [
      " 63%|████████████████████████████████████████████▏                         | 63201/100000 [10:19:22<3:24:58,  2.99it/s]"
     ]
    },
    {
     "name": "stdout",
     "output_type": "stream",
     "text": [
      "5.529801793254469\n",
      "90\n",
      "[0.5, 0.8, 0.9, 0.1]\n",
      "tf.Tensor([[0.01479488 0.18446152 0.6488444  0.15189911]], shape=(1, 4), dtype=float32)\n",
      "[0.5, 0.5, 0.9, 0.1]\n",
      "tf.Tensor([[0.00660867 0.1942358  0.6956075  0.10354804]], shape=(1, 4), dtype=float32)\n",
      "[0.8, 0.5, 0.9, 0.1]\n",
      "tf.Tensor([[6.477059e-04 9.063420e-01 8.894770e-02 4.062569e-03]], shape=(1, 4), dtype=float32)\n",
      "[0.8, 0.3, 0.9, 0.1]\n",
      "tf.Tensor([[2.7878785e-03 9.9665207e-01 5.2371796e-04 3.6342932e-05]], shape=(1, 4), dtype=float32)\n",
      "[0.8, 0.1, 0.9, 0.1]\n",
      "tf.Tensor([[9.9988985e-01 1.0831324e-04 5.4595768e-07 1.2084286e-06]], shape=(1, 4), dtype=float32)\n"
     ]
    },
    {
     "name": "stderr",
     "output_type": "stream",
     "text": [
      " 63%|████████████████████████████████████████████▎                         | 63301/100000 [10:19:58<3:32:57,  2.87it/s]"
     ]
    },
    {
     "name": "stdout",
     "output_type": "stream",
     "text": [
      "4.491908762424008\n",
      "85\n"
     ]
    },
    {
     "name": "stderr",
     "output_type": "stream",
     "text": [
      " 63%|████████████████████████████████████████████▍                         | 63401/100000 [10:20:34<3:51:04,  2.64it/s]"
     ]
    },
    {
     "name": "stdout",
     "output_type": "stream",
     "text": [
      "5.3331879143948715\n",
      "89\n",
      "[0.6, 0.5, 0.9, 0.9]\n",
      "tf.Tensor([[0.01625059 0.18249021 0.6380405  0.16321865]], shape=(1, 4), dtype=float32)\n",
      "[0.6, 0.8, 0.9, 0.9]\n",
      "tf.Tensor([[0.0043517 0.322931  0.6102217 0.0624957]], shape=(1, 4), dtype=float32)\n",
      "[0.9, 0.8, 0.9, 0.9]\n",
      "tf.Tensor([[4.6335920e-04 9.8049521e-01 1.8030901e-02 1.0106233e-03]], shape=(1, 4), dtype=float32)\n",
      "[0.9, 1.0, 0.9, 0.9]\n",
      "tf.Tensor([[1.1105882e-02 9.8830813e-01 5.4432836e-04 4.1688025e-05]], shape=(1, 4), dtype=float32)\n",
      "[0.9, 0.8, 0.9, 0.9]\n",
      "tf.Tensor([[9.9983859e-01 1.5897273e-04 7.6874926e-07 1.6786448e-06]], shape=(1, 4), dtype=float32)\n"
     ]
    },
    {
     "name": "stderr",
     "output_type": "stream",
     "text": [
      " 64%|████████████████████████████████████████████▍                         | 63501/100000 [10:21:11<3:18:29,  3.06it/s]"
     ]
    },
    {
     "name": "stdout",
     "output_type": "stream",
     "text": [
      "5.466508562077197\n",
      "90\n"
     ]
    },
    {
     "name": "stderr",
     "output_type": "stream",
     "text": [
      " 64%|████████████████████████████████████████████▌                         | 63601/100000 [10:21:47<3:57:57,  2.55it/s]"
     ]
    },
    {
     "name": "stdout",
     "output_type": "stream",
     "text": [
      "5.217133227551254\n",
      "86\n",
      "[0.3, 0.1, 0.5, 0.3]\n",
      "tf.Tensor([[0.02568975 0.15528783 0.6397974  0.17922509]], shape=(1, 4), dtype=float32)\n",
      "[0.3, 0.4, 0.5, 0.3]\n",
      "tf.Tensor([[0.00944674 0.16206354 0.7012144  0.12727535]], shape=(1, 4), dtype=float32)\n",
      "[0.6, 0.4, 0.5, 0.3]\n",
      "tf.Tensor([[0.00296476 0.66786104 0.30759475 0.0215794 ]], shape=(1, 4), dtype=float32)\n",
      "[0.4, 0.4, 0.5, 0.3]\n",
      "tf.Tensor([[5.6848972e-04 9.9824703e-01 1.1235421e-03 6.0933162e-05]], shape=(1, 4), dtype=float32)\n",
      "[0.6, 0.4, 0.5, 0.3]\n",
      "tf.Tensor([[9.9970204e-01 2.9314859e-04 1.7652072e-06 3.0328017e-06]], shape=(1, 4), dtype=float32)\n",
      "[0.5, 0.4, 0.5, 0.3]\n",
      "tf.Tensor([[9.9993742e-01 6.1020219e-05 3.5991766e-07 1.1581335e-06]], shape=(1, 4), dtype=float32)\n"
     ]
    },
    {
     "name": "stderr",
     "output_type": "stream",
     "text": [
      " 64%|████████████████████████████████████████████▌                         | 63701/100000 [10:22:24<3:55:21,  2.57it/s]"
     ]
    },
    {
     "name": "stdout",
     "output_type": "stream",
     "text": [
      "3.4803024392551247\n",
      "88\n"
     ]
    },
    {
     "name": "stderr",
     "output_type": "stream",
     "text": [
      " 64%|████████████████████████████████████████████▋                         | 63801/100000 [10:22:59<4:06:45,  2.44it/s]"
     ]
    },
    {
     "name": "stdout",
     "output_type": "stream",
     "text": [
      "4.220110938347597\n",
      "89\n",
      "[0.7, 0.9, 0.9, 0.1]\n",
      "tf.Tensor([[0.01241355 0.17516957 0.6647648  0.14765203]], shape=(1, 4), dtype=float32)\n",
      "[0.7, 0.6, 0.9, 0.1]\n",
      "tf.Tensor([[0.00406781 0.28720698 0.64105904 0.06766621]], shape=(1, 4), dtype=float32)\n",
      "[0.7, 0.3, 0.9, 0.1]\n",
      "tf.Tensor([[5.967877e-04 9.465942e-01 5.074176e-02 2.067175e-03]], shape=(1, 4), dtype=float32)\n",
      "[0.9, 0.3, 0.9, 0.1]\n",
      "tf.Tensor([[1.5372047e-03 9.9794763e-01 4.8645565e-04 2.8707193e-05]], shape=(1, 4), dtype=float32)\n"
     ]
    },
    {
     "name": "stderr",
     "output_type": "stream",
     "text": [
      " 64%|████████████████████████████████████████████▋                         | 63901/100000 [10:23:37<4:15:58,  2.35it/s]"
     ]
    },
    {
     "name": "stdout",
     "output_type": "stream",
     "text": [
      "3.1419990735919168\n",
      "80\n"
     ]
    },
    {
     "name": "stderr",
     "output_type": "stream",
     "text": [
      " 64%|████████████████████████████████████████████▊                         | 64001/100000 [10:24:13<4:13:08,  2.37it/s]"
     ]
    },
    {
     "name": "stdout",
     "output_type": "stream",
     "text": [
      "4.810165337383108\n",
      "90\n",
      "[0.2, 0.9, 0.5, 0.3]\n",
      "tf.Tensor([[0.01281273 0.16999297 0.67895895 0.13823535]], shape=(1, 4), dtype=float32)\n",
      "[0.2, 0.6, 0.5, 0.3]\n",
      "tf.Tensor([[0.00601402 0.17668507 0.73438215 0.08291879]], shape=(1, 4), dtype=float32)\n",
      "[0.5, 0.6, 0.5, 0.3]\n",
      "tf.Tensor([[6.1174756e-04 8.8137037e-01 1.1420253e-01 3.8153983e-03]], shape=(1, 4), dtype=float32)\n",
      "[0.5, 0.4, 0.5, 0.3]\n",
      "tf.Tensor([[8.0080971e-04 9.9856710e-01 6.0192152e-04 3.0110905e-05]], shape=(1, 4), dtype=float32)\n",
      "[0.5, 0.2, 0.5, 0.3]\n",
      "tf.Tensor([[9.9982375e-01 1.7315352e-04 1.0039320e-06 2.1477103e-06]], shape=(1, 4), dtype=float32)\n"
     ]
    },
    {
     "name": "stderr",
     "output_type": "stream",
     "text": [
      " 64%|████████████████████████████████████████████▊                         | 64101/100000 [10:24:50<3:46:58,  2.64it/s]"
     ]
    },
    {
     "name": "stdout",
     "output_type": "stream",
     "text": [
      "4.0337832204859545\n",
      "84\n"
     ]
    },
    {
     "name": "stderr",
     "output_type": "stream",
     "text": [
      " 64%|████████████████████████████████████████████▉                         | 64201/100000 [10:25:27<3:24:23,  2.92it/s]"
     ]
    },
    {
     "name": "stdout",
     "output_type": "stream",
     "text": [
      "5.635030412325745\n",
      "92\n",
      "[0.4, 0.9, 0.5, 0.7]\n",
      "tf.Tensor([[0.00856795 0.21243706 0.6558333  0.12316161]], shape=(1, 4), dtype=float32)\n",
      "[0.4, 0.6, 0.5, 0.7]\n",
      "tf.Tensor([[0.00322273 0.46072397 0.5011393  0.03491398]], shape=(1, 4), dtype=float32)\n",
      "[0.7, 0.6, 0.5, 0.7]\n",
      "tf.Tensor([[2.6704499e-04 9.9340123e-01 6.0579544e-03 2.7379082e-04]], shape=(1, 4), dtype=float32)\n",
      "[0.5, 0.6, 0.5, 0.7]\n",
      "tf.Tensor([[2.391218e-02 9.752848e-01 7.419030e-04 6.116379e-05]], shape=(1, 4), dtype=float32)\n",
      "[0.5, 0.8, 0.5, 0.7]\n",
      "tf.Tensor([[9.9989402e-01 1.0377152e-04 5.5256629e-07 1.5377985e-06]], shape=(1, 4), dtype=float32)\n"
     ]
    },
    {
     "name": "stderr",
     "output_type": "stream",
     "text": [
      " 64%|█████████████████████████████████████████████                         | 64301/100000 [10:26:03<3:19:22,  2.98it/s]"
     ]
    },
    {
     "name": "stdout",
     "output_type": "stream",
     "text": [
      "4.892570183155301\n",
      "92\n"
     ]
    },
    {
     "name": "stderr",
     "output_type": "stream",
     "text": [
      " 64%|█████████████████████████████████████████████                         | 64401/100000 [10:26:38<3:30:23,  2.82it/s]"
     ]
    },
    {
     "name": "stdout",
     "output_type": "stream",
     "text": [
      "6.1094623322775945\n",
      "93\n",
      "[0.8, 0.5, 0.1, 0.1]\n",
      "tf.Tensor([[0.01797752 0.16690533 0.6545955  0.1605217 ]], shape=(1, 4), dtype=float32)\n",
      "[0.5, 0.5, 0.1, 0.1]\n",
      "tf.Tensor([[0.00435133 0.31752464 0.6185416  0.05958241]], shape=(1, 4), dtype=float32)\n",
      "[0.5, 0.2, 0.1, 0.1]\n",
      "tf.Tensor([[6.7791360e-04 9.6521884e-01 3.2539107e-02 1.5640414e-03]], shape=(1, 4), dtype=float32)\n",
      "[0.3, 0.2, 0.1, 0.1]\n",
      "tf.Tensor([[1.0864297e-03 9.9814034e-01 7.3571014e-04 3.7472833e-05]], shape=(1, 4), dtype=float32)\n",
      "[0.1, 0.2, 0.1, 0.1]\n",
      "tf.Tensor([[9.9979812e-01 1.9851905e-04 9.2688765e-07 2.3284426e-06]], shape=(1, 4), dtype=float32)\n"
     ]
    },
    {
     "name": "stderr",
     "output_type": "stream",
     "text": [
      " 65%|█████████████████████████████████████████████▏                        | 64501/100000 [10:27:14<3:50:15,  2.57it/s]"
     ]
    },
    {
     "name": "stdout",
     "output_type": "stream",
     "text": [
      "5.542173383089082\n",
      "94\n"
     ]
    },
    {
     "name": "stderr",
     "output_type": "stream",
     "text": [
      " 65%|█████████████████████████████████████████████▏                        | 64601/100000 [10:27:50<3:47:44,  2.59it/s]"
     ]
    },
    {
     "name": "stdout",
     "output_type": "stream",
     "text": [
      "5.417254808499713\n",
      "89\n",
      "[0.6, 0.6, 0.5, 0.3]\n",
      "tf.Tensor([[0.01289468 0.1538414  0.6921854  0.1410785 ]], shape=(1, 4), dtype=float32)\n",
      "[0.6, 0.3, 0.5, 0.3]\n",
      "tf.Tensor([[0.00815901 0.21248828 0.69007283 0.08927985]], shape=(1, 4), dtype=float32)\n",
      "[0.3, 0.3, 0.5, 0.3]\n",
      "tf.Tensor([[0.00098147 0.8516798  0.14146377 0.00587503]], shape=(1, 4), dtype=float32)\n"
     ]
    },
    {
     "name": "stderr",
     "output_type": "stream",
     "text": [
      " 65%|█████████████████████████████████████████████▎                        | 64701/100000 [10:28:26<3:26:06,  2.85it/s]"
     ]
    },
    {
     "name": "stdout",
     "output_type": "stream",
     "text": [
      "4.799820158577251\n",
      "90\n"
     ]
    },
    {
     "name": "stderr",
     "output_type": "stream",
     "text": [
      " 65%|█████████████████████████████████████████████▎                        | 64801/100000 [10:29:02<3:26:02,  2.85it/s]"
     ]
    },
    {
     "name": "stdout",
     "output_type": "stream",
     "text": [
      "5.575409567119233\n",
      "90\n",
      "[0.6, 0.6, 0.5, 0.3]\n",
      "tf.Tensor([[0.01063864 0.16333145 0.6932342  0.13279569]], shape=(1, 4), dtype=float32)\n",
      "[0.6, 0.3, 0.5, 0.3]\n",
      "tf.Tensor([[0.00615229 0.25628775 0.6717938  0.06576619]], shape=(1, 4), dtype=float32)\n",
      "[0.3, 0.3, 0.5, 0.3]\n",
      "tf.Tensor([[5.1360228e-04 9.5601660e-01 4.1825596e-02 1.6441725e-03]], shape=(1, 4), dtype=float32)\n"
     ]
    },
    {
     "name": "stderr",
     "output_type": "stream",
     "text": [
      " 65%|█████████████████████████████████████████████▍                        | 64901/100000 [10:29:36<3:24:50,  2.86it/s]"
     ]
    },
    {
     "name": "stdout",
     "output_type": "stream",
     "text": [
      "5.708818440720574\n",
      "92\n"
     ]
    },
    {
     "name": "stderr",
     "output_type": "stream",
     "text": [
      " 65%|█████████████████████████████████████████████▌                        | 65001/100000 [10:30:15<3:05:23,  3.15it/s]"
     ]
    },
    {
     "name": "stdout",
     "output_type": "stream",
     "text": [
      "5.334005804266012\n",
      "87\n",
      "[0.9, 0.4, 0.5, 0.7]\n",
      "tf.Tensor([[0.0202807  0.14425592 0.66522783 0.17023559]], shape=(1, 4), dtype=float32)\n",
      "[0.9, 0.7, 0.5, 0.7]\n",
      "tf.Tensor([[0.00740496 0.22892712 0.6821746  0.08149331]], shape=(1, 4), dtype=float32)\n",
      "[0.6, 0.7, 0.5, 0.7]\n",
      "tf.Tensor([[6.8986526e-04 9.5375663e-01 4.3401655e-02 2.1517857e-03]], shape=(1, 4), dtype=float32)\n",
      "[0.4, 0.7, 0.5, 0.7]\n",
      "tf.Tensor([[2.9873193e-04 9.9931169e-01 3.7106150e-04 1.8442388e-05]], shape=(1, 4), dtype=float32)\n",
      "[0.6, 0.7, 0.5, 0.7]\n",
      "tf.Tensor([[9.9961346e-01 3.8162971e-04 1.3852788e-06 3.3998181e-06]], shape=(1, 4), dtype=float32)\n"
     ]
    },
    {
     "name": "stderr",
     "output_type": "stream",
     "text": [
      " 65%|█████████████████████████████████████████████▌                        | 65101/100000 [10:30:51<3:53:48,  2.49it/s]"
     ]
    },
    {
     "name": "stdout",
     "output_type": "stream",
     "text": [
      "5.120010482020136\n",
      "89\n"
     ]
    },
    {
     "name": "stderr",
     "output_type": "stream",
     "text": [
      " 65%|█████████████████████████████████████████████▋                        | 65201/100000 [10:31:27<3:36:08,  2.68it/s]"
     ]
    },
    {
     "name": "stdout",
     "output_type": "stream",
     "text": [
      "4.946126566896957\n",
      "90\n",
      "[0.0, 0.7, 0.5, 0.7]\n",
      "tf.Tensor([[0.01843653 0.11159086 0.7053494  0.16462322]], shape=(1, 4), dtype=float32)\n",
      "[0.3, 0.7, 0.5, 0.7]\n",
      "tf.Tensor([[0.00635972 0.16469896 0.7330026  0.09593874]], shape=(1, 4), dtype=float32)\n",
      "[0.6, 0.7, 0.5, 0.7]\n",
      "tf.Tensor([[6.6768884e-04 9.2903334e-01 6.6731617e-02 3.5673294e-03]], shape=(1, 4), dtype=float32)\n",
      "[0.4, 0.7, 0.5, 0.7]\n",
      "tf.Tensor([[1.7708018e-04 9.9950278e-01 3.0298851e-04 1.7168742e-05]], shape=(1, 4), dtype=float32)\n",
      "[0.6, 0.7, 0.5, 0.7]\n",
      "tf.Tensor([[9.9963057e-01 3.6486029e-04 1.2244551e-06 3.2837661e-06]], shape=(1, 4), dtype=float32)\n"
     ]
    },
    {
     "name": "stderr",
     "output_type": "stream",
     "text": [
      " 65%|█████████████████████████████████████████████▋                        | 65301/100000 [10:32:04<3:13:22,  2.99it/s]"
     ]
    },
    {
     "name": "stdout",
     "output_type": "stream",
     "text": [
      "5.048780745094422\n",
      "88\n"
     ]
    },
    {
     "name": "stderr",
     "output_type": "stream",
     "text": [
      " 65%|█████████████████████████████████████████████▊                        | 65401/100000 [10:32:40<3:32:07,  2.72it/s]"
     ]
    },
    {
     "name": "stdout",
     "output_type": "stream",
     "text": [
      "4.623250473241894\n",
      "90\n",
      "[0.2, 0.1, 0.1, 0.9]\n",
      "tf.Tensor([[0.03008465 0.14015174 0.63645494 0.19330865]], shape=(1, 4), dtype=float32)\n",
      "[0.2, 0.4, 0.1, 0.9]\n",
      "tf.Tensor([[0.01572747 0.15376268 0.66718054 0.16332936]], shape=(1, 4), dtype=float32)\n",
      "[0.2, 0.7, 0.1, 0.9]\n",
      "tf.Tensor([[0.00526284 0.35336414 0.58231497 0.05905803]], shape=(1, 4), dtype=float32)\n",
      "[0.2, 1.0, 0.1, 0.9]\n",
      "tf.Tensor([[9.6251330e-05 9.9829513e-01 1.5198218e-03 8.8747278e-05]], shape=(1, 4), dtype=float32)\n",
      "[0.2, 0.8, 0.1, 0.9]\n",
      "tf.Tensor([[9.0639764e-01 9.3418345e-02 1.2069607e-04 6.3302097e-05]], shape=(1, 4), dtype=float32)\n",
      "[0.1, 0.8, 0.1, 0.9]\n",
      "tf.Tensor([[9.9967074e-01 3.2477453e-04 9.7103873e-07 3.5403261e-06]], shape=(1, 4), dtype=float32)\n"
     ]
    },
    {
     "name": "stderr",
     "output_type": "stream",
     "text": [
      " 66%|█████████████████████████████████████████████▊                        | 65501/100000 [10:33:16<2:54:06,  3.30it/s]"
     ]
    },
    {
     "name": "stdout",
     "output_type": "stream",
     "text": [
      "5.930253729247875\n",
      "91\n"
     ]
    },
    {
     "name": "stderr",
     "output_type": "stream",
     "text": [
      " 66%|█████████████████████████████████████████████▉                        | 65601/100000 [10:33:50<3:40:21,  2.60it/s]"
     ]
    },
    {
     "name": "stdout",
     "output_type": "stream",
     "text": [
      "5.0741794812740935\n",
      "90\n",
      "[0.4, 0.0, 0.1, 0.1]\n",
      "tf.Tensor([[0.02724149 0.15133746 0.6425368  0.17888422]], shape=(1, 4), dtype=float32)\n",
      "[0.1, 0.0, 0.1, 0.1]\n",
      "tf.Tensor([[0.01611309 0.15195145 0.6735895  0.15834594]], shape=(1, 4), dtype=float32)\n",
      "[0.1, 0.3, 0.1, 0.1]\n",
      "tf.Tensor([[0.0028326  0.64325655 0.33013663 0.02377425]], shape=(1, 4), dtype=float32)\n"
     ]
    },
    {
     "name": "stderr",
     "output_type": "stream",
     "text": [
      " 66%|█████████████████████████████████████████████▉                        | 65701/100000 [10:34:26<3:36:28,  2.64it/s]"
     ]
    },
    {
     "name": "stdout",
     "output_type": "stream",
     "text": [
      "5.003094108613934\n",
      "90\n"
     ]
    },
    {
     "name": "stderr",
     "output_type": "stream",
     "text": [
      " 66%|██████████████████████████████████████████████                        | 65801/100000 [10:35:03<3:27:49,  2.74it/s]"
     ]
    },
    {
     "name": "stdout",
     "output_type": "stream",
     "text": [
      "4.851989343473305\n",
      "85\n",
      "[0.9, 0.3, 0.5, 0.3]\n",
      "tf.Tensor([[0.02862305 0.12968676 0.6495248  0.19216536]], shape=(1, 4), dtype=float32)\n",
      "[0.6, 0.3, 0.5, 0.3]\n",
      "tf.Tensor([[0.01544608 0.14633663 0.6749055  0.16331181]], shape=(1, 4), dtype=float32)\n",
      "[0.3, 0.3, 0.5, 0.3]\n",
      "tf.Tensor([[0.00423039 0.3589     0.58970284 0.04716675]], shape=(1, 4), dtype=float32)\n",
      "[0.6, 0.3, 0.5, 0.3]\n",
      "tf.Tensor([[1.3306837e-04 9.9901903e-01 7.9274154e-04 5.5174907e-05]], shape=(1, 4), dtype=float32)\n",
      "[0.4, 0.3, 0.5, 0.3]\n",
      "tf.Tensor([[9.9839669e-01 1.5925351e-03 3.6596773e-06 6.9939783e-06]], shape=(1, 4), dtype=float32)\n"
     ]
    },
    {
     "name": "stderr",
     "output_type": "stream",
     "text": [
      " 66%|██████████████████████████████████████████████▏                       | 65901/100000 [10:35:39<3:04:28,  3.08it/s]"
     ]
    },
    {
     "name": "stdout",
     "output_type": "stream",
     "text": [
      "5.115573765606453\n",
      "90\n"
     ]
    },
    {
     "name": "stderr",
     "output_type": "stream",
     "text": [
      " 66%|██████████████████████████████████████████████▏                       | 66001/100000 [10:36:16<3:38:43,  2.59it/s]"
     ]
    },
    {
     "name": "stdout",
     "output_type": "stream",
     "text": [
      "4.6600563480258925\n",
      "86\n",
      "[0.7, 0.1, 0.1, 0.1]\n",
      "tf.Tensor([[0.0367434  0.13175023 0.6310242  0.20048219]], shape=(1, 4), dtype=float32)\n",
      "[0.4, 0.1, 0.1, 0.1]\n",
      "tf.Tensor([[0.02337712 0.13300355 0.66303056 0.18058886]], shape=(1, 4), dtype=float32)\n"
     ]
    },
    {
     "name": "stderr",
     "output_type": "stream",
     "text": [
      " 66%|██████████████████████████████████████████████▎                       | 66101/100000 [10:36:51<3:06:36,  3.03it/s]"
     ]
    },
    {
     "name": "stdout",
     "output_type": "stream",
     "text": [
      "5.361803658667784\n",
      "90\n"
     ]
    },
    {
     "name": "stderr",
     "output_type": "stream",
     "text": [
      " 66%|██████████████████████████████████████████████▎                       | 66201/100000 [10:37:28<3:29:26,  2.69it/s]"
     ]
    },
    {
     "name": "stdout",
     "output_type": "stream",
     "text": [
      "4.017895455005741\n",
      "85\n",
      "[0.3, 0.7, 0.5, 0.7]\n",
      "tf.Tensor([[0.02723789 0.09074847 0.68569696 0.1963167 ]], shape=(1, 4), dtype=float32)\n",
      "[0.6, 0.7, 0.5, 0.7]\n",
      "tf.Tensor([[0.01675492 0.12501195 0.6839082  0.17432491]], shape=(1, 4), dtype=float32)\n",
      "[0.3, 0.7, 0.5, 0.7]\n",
      "tf.Tensor([[0.00446494 0.17917328 0.7327972  0.08356467]], shape=(1, 4), dtype=float32)\n",
      "[0.6, 0.7, 0.5, 0.7]\n",
      "tf.Tensor([[1.4693929e-04 9.9851042e-01 1.2531694e-03 8.9564121e-05]], shape=(1, 4), dtype=float32)\n",
      "[0.4, 0.7, 0.5, 0.7]\n",
      "tf.Tensor([[9.9900013e-01 9.9172548e-04 2.3939178e-06 5.7691304e-06]], shape=(1, 4), dtype=float32)\n"
     ]
    },
    {
     "name": "stderr",
     "output_type": "stream",
     "text": [
      " 66%|██████████████████████████████████████████████▍                       | 66301/100000 [10:38:03<2:27:06,  3.82it/s]"
     ]
    },
    {
     "name": "stdout",
     "output_type": "stream",
     "text": [
      "6.021227889336837\n",
      "96\n"
     ]
    },
    {
     "name": "stderr",
     "output_type": "stream",
     "text": [
      " 66%|██████████████████████████████████████████████▍                       | 66401/100000 [10:38:39<3:23:29,  2.75it/s]"
     ]
    },
    {
     "name": "stdout",
     "output_type": "stream",
     "text": [
      "5.46348058112587\n",
      "91\n",
      "[0.2, 0.5, 0.1, 0.9]\n",
      "tf.Tensor([[0.03429952 0.11899833 0.6285326  0.21816963]], shape=(1, 4), dtype=float32)\n",
      "[0.2, 0.8, 0.1, 0.9]\n",
      "tf.Tensor([[0.01834399 0.12791704 0.6707543  0.18298465]], shape=(1, 4), dtype=float32)\n",
      "[0.0, 0.8, 0.1, 0.9]\n",
      "tf.Tensor([[0.00654368 0.14443898 0.737278   0.11173937]], shape=(1, 4), dtype=float32)\n",
      "[0.3, 0.8, 0.1, 0.9]\n",
      "tf.Tensor([[2.5198513e-04 9.9579167e-01 3.7059803e-03 2.5033767e-04]], shape=(1, 4), dtype=float32)\n",
      "[0.1, 0.8, 0.1, 0.9]\n",
      "tf.Tensor([[9.9844790e-01 1.5387044e-03 4.3682953e-06 8.8846600e-06]], shape=(1, 4), dtype=float32)\n"
     ]
    },
    {
     "name": "stderr",
     "output_type": "stream",
     "text": [
      " 67%|██████████████████████████████████████████████▌                       | 66501/100000 [10:39:15<3:08:30,  2.96it/s]"
     ]
    },
    {
     "name": "stdout",
     "output_type": "stream",
     "text": [
      "5.718773178651751\n",
      "88\n"
     ]
    },
    {
     "name": "stderr",
     "output_type": "stream",
     "text": [
      " 67%|██████████████████████████████████████████████▌                       | 66601/100000 [10:39:50<3:33:14,  2.61it/s]"
     ]
    },
    {
     "name": "stdout",
     "output_type": "stream",
     "text": [
      "5.404322050674949\n",
      "93\n",
      "[0.7, 0.0, 0.1, 0.9]\n",
      "tf.Tensor([[0.03818326 0.1263685  0.6096907  0.22575755]], shape=(1, 4), dtype=float32)\n",
      "[0.7, 0.3, 0.1, 0.9]\n",
      "tf.Tensor([[0.02283603 0.12350017 0.6508068  0.20285699]], shape=(1, 4), dtype=float32)\n",
      "[0.7, 0.6, 0.1, 0.9]\n",
      "tf.Tensor([[0.00992076 0.18017374 0.6801959  0.12970962]], shape=(1, 4), dtype=float32)\n",
      "[0.4, 0.6, 0.1, 0.9]\n",
      "tf.Tensor([[5.9948105e-04 9.8738468e-01 1.1105863e-02 9.1000524e-04]], shape=(1, 4), dtype=float32)\n",
      "[0.4, 0.8, 0.1, 0.9]\n",
      "tf.Tensor([[9.9620181e-01 3.7733528e-03 9.7656402e-06 1.5108597e-05]], shape=(1, 4), dtype=float32)\n",
      "[0.3, 0.8, 0.1, 0.9]\n",
      "tf.Tensor([[9.9981695e-01 1.7937571e-04 5.9491947e-07 3.1258924e-06]], shape=(1, 4), dtype=float32)\n",
      "[0.2, 0.8, 0.1, 0.9]\n",
      "tf.Tensor([[9.9982589e-01 1.7042404e-04 5.6927507e-07 3.0517415e-06]], shape=(1, 4), dtype=float32)\n",
      "[0.1, 0.8, 0.1, 0.9]\n",
      "tf.Tensor([[9.9981958e-01 1.7686472e-04 5.6783625e-07 3.0022700e-06]], shape=(1, 4), dtype=float32)\n"
     ]
    },
    {
     "name": "stderr",
     "output_type": "stream",
     "text": [
      " 67%|██████████████████████████████████████████████▋                       | 66701/100000 [10:40:27<3:27:19,  2.68it/s]"
     ]
    },
    {
     "name": "stdout",
     "output_type": "stream",
     "text": [
      "3.952866119918184\n",
      "91\n"
     ]
    },
    {
     "name": "stderr",
     "output_type": "stream",
     "text": [
      " 67%|██████████████████████████████████████████████▊                       | 66801/100000 [10:41:03<3:42:31,  2.49it/s]"
     ]
    },
    {
     "name": "stdout",
     "output_type": "stream",
     "text": [
      "4.476709770579886\n",
      "90\n",
      "[0.1, 0.1, 0.9, 0.1]\n",
      "tf.Tensor([[0.04618035 0.10382259 0.6351037  0.21489337]], shape=(1, 4), dtype=float32)\n",
      "[0.4, 0.1, 0.9, 0.1]\n",
      "tf.Tensor([[0.02612721 0.09231857 0.6850173  0.19653694]], shape=(1, 4), dtype=float32)\n",
      "[0.7, 0.1, 0.9, 0.1]\n",
      "tf.Tensor([[0.01017282 0.10512086 0.7296903  0.15501605]], shape=(1, 4), dtype=float32)\n",
      "[1.0, 0.1, 0.9, 0.1]\n",
      "tf.Tensor([[8.8298001e-04 9.4490874e-01 5.0240550e-02 3.9676717e-03]], shape=(1, 4), dtype=float32)\n",
      "[0.8, 0.1, 0.9, 0.1]\n",
      "tf.Tensor([[9.7388250e-01 2.6040725e-02 3.6433306e-05 4.0277915e-05]], shape=(1, 4), dtype=float32)\n"
     ]
    },
    {
     "name": "stderr",
     "output_type": "stream",
     "text": [
      " 67%|██████████████████████████████████████████████▊                       | 66901/100000 [10:41:38<3:21:28,  2.74it/s]"
     ]
    },
    {
     "name": "stdout",
     "output_type": "stream",
     "text": [
      "5.503980309330951\n",
      "91\n"
     ]
    },
    {
     "name": "stderr",
     "output_type": "stream",
     "text": [
      " 67%|██████████████████████████████████████████████▉                       | 67001/100000 [10:42:15<3:07:31,  2.93it/s]"
     ]
    },
    {
     "name": "stdout",
     "output_type": "stream",
     "text": [
      "4.922399648798757\n",
      "94\n",
      "[0.5, 0.0, 0.5, 0.7]\n",
      "tf.Tensor([[0.04794797 0.12547612 0.6035689  0.22300704]], shape=(1, 4), dtype=float32)\n",
      "[0.5, 0.3, 0.5, 0.7]\n",
      "tf.Tensor([[0.02767986 0.1179627  0.652264   0.20209347]], shape=(1, 4), dtype=float32)\n",
      "[0.5, 0.6, 0.5, 0.7]\n",
      "tf.Tensor([[0.01219664 0.15211564 0.6891674  0.14652033]], shape=(1, 4), dtype=float32)\n",
      "[0.5, 0.9, 0.5, 0.7]\n",
      "tf.Tensor([[3.4209347e-04 9.9382389e-01 5.3627398e-03 4.7124515e-04]], shape=(1, 4), dtype=float32)\n"
     ]
    },
    {
     "name": "stderr",
     "output_type": "stream",
     "text": [
      " 67%|██████████████████████████████████████████████▉                       | 67101/100000 [10:42:52<3:33:41,  2.57it/s]"
     ]
    },
    {
     "name": "stdout",
     "output_type": "stream",
     "text": [
      "4.180280477112585\n",
      "88\n"
     ]
    },
    {
     "name": "stderr",
     "output_type": "stream",
     "text": [
      " 67%|███████████████████████████████████████████████                       | 67201/100000 [10:43:29<3:37:35,  2.51it/s]"
     ]
    },
    {
     "name": "stdout",
     "output_type": "stream",
     "text": [
      "5.00858052274628\n",
      "94\n",
      "[0.9, 0.6, 0.1, 0.1]\n",
      "tf.Tensor([[0.04524183 0.13672213 0.6042715  0.21376456]], shape=(1, 4), dtype=float32)\n",
      "[0.6, 0.6, 0.1, 0.1]\n",
      "tf.Tensor([[0.0159039  0.12765269 0.6789357  0.17750771]], shape=(1, 4), dtype=float32)\n",
      "[0.6, 0.3, 0.1, 0.1]\n",
      "tf.Tensor([[0.00840704 0.23956975 0.66422707 0.08779614]], shape=(1, 4), dtype=float32)\n",
      "[0.3, 0.3, 0.1, 0.1]\n",
      "tf.Tensor([[3.313635e-04 9.987802e-01 8.132622e-04 7.520631e-05]], shape=(1, 4), dtype=float32)\n",
      "[0.3, 0.1, 0.1, 0.1]\n",
      "tf.Tensor([[9.9956292e-01 4.3007720e-04 1.4708576e-06 5.6011304e-06]], shape=(1, 4), dtype=float32)\n",
      "[0.2, 0.1, 0.1, 0.1]\n",
      "tf.Tensor([[9.9983943e-01 1.5647658e-04 5.9996330e-07 3.5139137e-06]], shape=(1, 4), dtype=float32)\n"
     ]
    },
    {
     "name": "stderr",
     "output_type": "stream",
     "text": [
      " 67%|███████████████████████████████████████████████                       | 67301/100000 [10:44:06<3:16:08,  2.78it/s]"
     ]
    },
    {
     "name": "stdout",
     "output_type": "stream",
     "text": [
      "4.153191927161069\n",
      "91\n"
     ]
    },
    {
     "name": "stderr",
     "output_type": "stream",
     "text": [
      " 67%|███████████████████████████████████████████████▏                      | 67401/100000 [10:44:42<3:43:40,  2.43it/s]"
     ]
    },
    {
     "name": "stdout",
     "output_type": "stream",
     "text": [
      "5.1058017803838665\n",
      "93\n",
      "[0.7, 0.0, 0.9, 0.1]\n",
      "tf.Tensor([[0.03251923 0.08689965 0.6493868  0.23119429]], shape=(1, 4), dtype=float32)\n",
      "[1.0, 0.0, 0.9, 0.1]\n",
      "tf.Tensor([[0.02111687 0.12591043 0.6443048  0.20866789]], shape=(1, 4), dtype=float32)\n",
      "[0.7, 0.0, 0.9, 0.1]\n",
      "tf.Tensor([[0.00518413 0.40016425 0.5300268  0.06462483]], shape=(1, 4), dtype=float32)\n",
      "[1.0, 0.0, 0.9, 0.1]\n",
      "tf.Tensor([[4.7333812e-04 9.9898070e-01 4.8383276e-04 6.2008650e-05]], shape=(1, 4), dtype=float32)\n",
      "[0.8, 0.0, 0.9, 0.1]\n",
      "tf.Tensor([[9.9953663e-01 4.5773597e-04 1.0493379e-06 4.5466372e-06]], shape=(1, 4), dtype=float32)\n",
      "[0.9, 0.0, 0.9, 0.1]\n",
      "tf.Tensor([[9.9981850e-01 1.7783332e-04 4.9336199e-07 3.2094574e-06]], shape=(1, 4), dtype=float32)\n"
     ]
    },
    {
     "name": "stderr",
     "output_type": "stream",
     "text": [
      " 68%|███████████████████████████████████████████████▎                      | 67501/100000 [10:45:18<3:10:23,  2.84it/s]"
     ]
    },
    {
     "name": "stdout",
     "output_type": "stream",
     "text": [
      "5.480570578986583\n",
      "89\n"
     ]
    },
    {
     "name": "stderr",
     "output_type": "stream",
     "text": [
      " 68%|███████████████████████████████████████████████▎                      | 67601/100000 [10:45:53<2:49:20,  3.19it/s]"
     ]
    },
    {
     "name": "stdout",
     "output_type": "stream",
     "text": [
      "5.966467319238723\n",
      "96\n",
      "[0.0, 0.5, 0.1, 0.9]\n",
      "tf.Tensor([[0.04429184 0.09993788 0.6187117  0.23705857]], shape=(1, 4), dtype=float32)\n",
      "[0.0, 0.8, 0.1, 0.9]\n",
      "tf.Tensor([[0.02491358 0.09992106 0.663901   0.21126439]], shape=(1, 4), dtype=float32)\n",
      "[0.0, 1.0, 0.1, 0.9]\n",
      "tf.Tensor([[0.00724058 0.14523432 0.73008996 0.11743522]], shape=(1, 4), dtype=float32)\n",
      "[0.3, 1.0, 0.1, 0.9]\n",
      "tf.Tensor([[4.0118652e-04 9.9837047e-01 1.1230521e-03 1.0534690e-04]], shape=(1, 4), dtype=float32)\n",
      "[0.1, 1.0, 0.1, 0.9]\n",
      "tf.Tensor([[9.9945396e-01 5.3991767e-04 1.2434217e-06 4.9069267e-06]], shape=(1, 4), dtype=float32)\n"
     ]
    },
    {
     "name": "stderr",
     "output_type": "stream",
     "text": [
      " 68%|███████████████████████████████████████████████▍                      | 67701/100000 [10:46:29<3:00:11,  2.99it/s]"
     ]
    },
    {
     "name": "stdout",
     "output_type": "stream",
     "text": [
      "4.824441751493548\n",
      "92\n"
     ]
    },
    {
     "name": "stderr",
     "output_type": "stream",
     "text": [
      " 68%|███████████████████████████████████████████████▍                      | 67801/100000 [10:47:06<3:42:34,  2.41it/s]"
     ]
    },
    {
     "name": "stdout",
     "output_type": "stream",
     "text": [
      "5.136367199983024\n",
      "93\n",
      "[0.8, 0.2, 0.5, 0.7]\n",
      "tf.Tensor([[0.04078182 0.09466296 0.60663444 0.25792077]], shape=(1, 4), dtype=float32)\n",
      "[0.8, 0.5, 0.5, 0.7]\n",
      "tf.Tensor([[0.02323301 0.10637638 0.64847755 0.22191304]], shape=(1, 4), dtype=float32)\n",
      "[0.5, 0.5, 0.5, 0.7]\n",
      "tf.Tensor([[0.01039709 0.14947937 0.6934595  0.14666398]], shape=(1, 4), dtype=float32)\n",
      "[0.5, 0.8, 0.5, 0.7]\n",
      "tf.Tensor([[3.09347990e-04 9.98505354e-01 1.07303064e-03 1.12273636e-04]], shape=(1, 4), dtype=float32)\n",
      "[0.5, 0.6, 0.5, 0.7]\n",
      "tf.Tensor([[9.9917275e-01 8.1904570e-04 1.8938464e-06 6.3071948e-06]], shape=(1, 4), dtype=float32)\n"
     ]
    },
    {
     "name": "stderr",
     "output_type": "stream",
     "text": [
      " 68%|███████████████████████████████████████████████▌                      | 67901/100000 [10:47:41<3:23:30,  2.63it/s]"
     ]
    },
    {
     "name": "stdout",
     "output_type": "stream",
     "text": [
      "5.292813088401801\n",
      "91\n"
     ]
    },
    {
     "name": "stderr",
     "output_type": "stream",
     "text": [
      " 68%|███████████████████████████████████████████████▌                      | 68001/100000 [10:48:20<3:39:47,  2.43it/s]"
     ]
    },
    {
     "name": "stdout",
     "output_type": "stream",
     "text": [
      "3.3038390612629245\n",
      "85\n",
      "[0.9, 0.6, 0.1, 0.1]\n",
      "tf.Tensor([[0.03631144 0.10854763 0.6109357  0.24420528]], shape=(1, 4), dtype=float32)\n",
      "[0.6, 0.6, 0.1, 0.1]\n",
      "tf.Tensor([[0.01330244 0.12124959 0.66360337 0.20184462]], shape=(1, 4), dtype=float32)\n",
      "[0.6, 0.3, 0.1, 0.1]\n",
      "tf.Tensor([[0.00599452 0.42526206 0.5074396  0.0613038 ]], shape=(1, 4), dtype=float32)\n",
      "[0.3, 0.3, 0.1, 0.1]\n",
      "tf.Tensor([[5.1159726e-04 9.9903631e-01 4.1177933e-04 4.0262021e-05]], shape=(1, 4), dtype=float32)\n",
      "[0.3, 0.1, 0.1, 0.1]\n",
      "tf.Tensor([[9.9957818e-01 4.1574362e-04 1.1757337e-06 4.9320183e-06]], shape=(1, 4), dtype=float32)\n",
      "[0.2, 0.1, 0.1, 0.1]\n",
      "tf.Tensor([[9.9981600e-01 1.7995089e-04 5.6853702e-07 3.4174971e-06]], shape=(1, 4), dtype=float32)\n"
     ]
    },
    {
     "name": "stderr",
     "output_type": "stream",
     "text": [
      " 68%|███████████████████████████████████████████████▋                      | 68101/100000 [10:48:56<3:29:01,  2.54it/s]"
     ]
    },
    {
     "name": "stdout",
     "output_type": "stream",
     "text": [
      "4.903635756225036\n",
      "93\n"
     ]
    },
    {
     "name": "stderr",
     "output_type": "stream",
     "text": [
      " 68%|███████████████████████████████████████████████▋                      | 68201/100000 [10:49:32<3:30:33,  2.52it/s]"
     ]
    },
    {
     "name": "stdout",
     "output_type": "stream",
     "text": [
      "5.103414877604387\n",
      "93\n",
      "[0.4, 0.4, 0.9, 0.1]\n",
      "tf.Tensor([[0.03103074 0.08008392 0.62310624 0.2657791 ]], shape=(1, 4), dtype=float32)\n",
      "[0.7, 0.4, 0.9, 0.1]\n",
      "tf.Tensor([[0.01210592 0.11342373 0.65136254 0.22310778]], shape=(1, 4), dtype=float32)\n",
      "[0.7, 0.1, 0.9, 0.1]\n",
      "tf.Tensor([[0.0037338  0.35318354 0.5710397  0.07204302]], shape=(1, 4), dtype=float32)\n",
      "[1.0, 0.1, 0.9, 0.1]\n",
      "tf.Tensor([[4.1370600e-04 9.9914372e-01 3.9643006e-04 4.6259251e-05]], shape=(1, 4), dtype=float32)\n",
      "[0.8, 0.1, 0.9, 0.1]\n",
      "tf.Tensor([[9.9950385e-01 4.9100601e-04 1.0227661e-06 4.0311165e-06]], shape=(1, 4), dtype=float32)\n"
     ]
    },
    {
     "name": "stderr",
     "output_type": "stream",
     "text": [
      " 68%|███████████████████████████████████████████████▊                      | 68300/100000 [10:50:07<3:18:30,  2.66it/s]"
     ]
    },
    {
     "name": "stdout",
     "output_type": "stream",
     "text": [
      "5.652636763533324\n",
      "92\n"
     ]
    },
    {
     "name": "stderr",
     "output_type": "stream",
     "text": [
      " 68%|███████████████████████████████████████████████▉                      | 68401/100000 [10:50:43<3:31:32,  2.49it/s]"
     ]
    },
    {
     "name": "stdout",
     "output_type": "stream",
     "text": [
      "5.574179965237947\n",
      "96\n",
      "[0.1, 0.4, 0.9, 0.1]\n",
      "tf.Tensor([[0.03558571 0.0765776  0.62460864 0.26322797]], shape=(1, 4), dtype=float32)\n",
      "[0.4, 0.4, 0.9, 0.1]\n",
      "tf.Tensor([[0.02001476 0.07632475 0.66396016 0.23970035]], shape=(1, 4), dtype=float32)\n",
      "[0.7, 0.4, 0.9, 0.1]\n",
      "tf.Tensor([[0.00509    0.15124846 0.68685156 0.15680997]], shape=(1, 4), dtype=float32)\n",
      "[0.7, 0.1, 0.9, 0.1]\n",
      "tf.Tensor([[1.9252530e-04 9.9869967e-01 9.9280768e-04 1.1498711e-04]], shape=(1, 4), dtype=float32)\n"
     ]
    },
    {
     "name": "stderr",
     "output_type": "stream",
     "text": [
      " 69%|███████████████████████████████████████████████▉                      | 68501/100000 [10:51:20<3:13:44,  2.71it/s]"
     ]
    },
    {
     "name": "stdout",
     "output_type": "stream",
     "text": [
      "5.445968789807499\n",
      "95\n"
     ]
    },
    {
     "name": "stderr",
     "output_type": "stream",
     "text": [
      " 69%|████████████████████████████████████████████████                      | 68601/100000 [10:51:56<2:59:19,  2.92it/s]"
     ]
    },
    {
     "name": "stdout",
     "output_type": "stream",
     "text": [
      "5.691304707698421\n",
      "94\n",
      "[0.9, 0.0, 0.9, 0.1]\n",
      "tf.Tensor([[0.03776708 0.10320955 0.5672542  0.29176918]], shape=(1, 4), dtype=float32)\n",
      "[0.9, 0.3, 0.9, 0.1]\n",
      "tf.Tensor([[0.01236155 0.11378355 0.63537383 0.23848109]], shape=(1, 4), dtype=float32)\n",
      "[0.9, 0.0, 0.9, 0.1]\n",
      "tf.Tensor([[0.00719502 0.19358249 0.65072256 0.14849992]], shape=(1, 4), dtype=float32)\n",
      "[0.9, 0.3, 0.9, 0.1]\n",
      "tf.Tensor([[2.5261275e-04 9.9911290e-01 5.6284812e-04 7.1557981e-05]], shape=(1, 4), dtype=float32)\n"
     ]
    },
    {
     "name": "stderr",
     "output_type": "stream",
     "text": [
      " 69%|████████████████████████████████████████████████                      | 68700/100000 [10:52:32<3:17:21,  2.64it/s]"
     ]
    },
    {
     "name": "stdout",
     "output_type": "stream",
     "text": [
      "5.68345641721107\n",
      "90\n"
     ]
    },
    {
     "name": "stderr",
     "output_type": "stream",
     "text": [
      " 69%|████████████████████████████████████████████████▏                     | 68801/100000 [10:53:07<2:51:58,  3.02it/s]"
     ]
    },
    {
     "name": "stdout",
     "output_type": "stream",
     "text": [
      "6.249014846266785\n",
      "96\n",
      "[0.7, 0.1, 0.1, 0.9]\n",
      "tf.Tensor([[0.04336031 0.10928213 0.55450153 0.29285607]], shape=(1, 4), dtype=float32)\n",
      "[0.7, 0.4, 0.1, 0.9]\n",
      "tf.Tensor([[0.02453477 0.10625324 0.5997187  0.26949322]], shape=(1, 4), dtype=float32)\n",
      "[0.7, 0.7, 0.1, 0.9]\n",
      "tf.Tensor([[0.00953079 0.17593881 0.6518846  0.16264576]], shape=(1, 4), dtype=float32)\n",
      "[0.4, 0.7, 0.1, 0.9]\n",
      "tf.Tensor([[4.2178159e-04 9.9768317e-01 1.7227703e-03 1.7227702e-04]], shape=(1, 4), dtype=float32)\n",
      "[0.2, 0.7, 0.1, 0.9]\n",
      "tf.Tensor([[9.9893206e-01 1.0586742e-03 2.4579874e-06 6.7671190e-06]], shape=(1, 4), dtype=float32)\n",
      "[0.2, 0.8, 0.1, 0.9]\n",
      "tf.Tensor([[9.9978966e-01 2.0666531e-04 5.5018666e-07 3.1159675e-06]], shape=(1, 4), dtype=float32)\n",
      "[0.1, 0.8, 0.1, 0.9]\n",
      "tf.Tensor([[9.9978417e-01 2.1221719e-04 5.3940420e-07 3.0279787e-06]], shape=(1, 4), dtype=float32)\n"
     ]
    },
    {
     "name": "stderr",
     "output_type": "stream",
     "text": [
      " 69%|████████████████████████████████████████████████▏                     | 68901/100000 [10:53:45<3:17:37,  2.62it/s]"
     ]
    },
    {
     "name": "stdout",
     "output_type": "stream",
     "text": [
      "5.371933038909604\n",
      "88\n"
     ]
    },
    {
     "name": "stderr",
     "output_type": "stream",
     "text": [
      " 69%|████████████████████████████████████████████████▎                     | 69001/100000 [10:54:22<3:10:52,  2.71it/s]"
     ]
    },
    {
     "name": "stdout",
     "output_type": "stream",
     "text": [
      "5.206404852050179\n",
      "92\n",
      "[0.1, 0.4, 0.5, 0.3]\n",
      "tf.Tensor([[0.04342038 0.08163774 0.60240734 0.27253452]], shape=(1, 4), dtype=float32)\n",
      "[0.4, 0.4, 0.5, 0.3]\n",
      "tf.Tensor([[0.02350254 0.07412963 0.65145564 0.25091216]], shape=(1, 4), dtype=float32)\n",
      "[0.7, 0.4, 0.5, 0.3]\n",
      "tf.Tensor([[0.0105313  0.12265567 0.66694146 0.19987158]], shape=(1, 4), dtype=float32)\n",
      "[0.4, 0.4, 0.5, 0.3]\n",
      "tf.Tensor([[2.4248243e-04 9.9735022e-01 2.2031036e-03 2.0428884e-04]], shape=(1, 4), dtype=float32)\n",
      "[0.6, 0.4, 0.5, 0.3]\n",
      "tf.Tensor([[9.9913555e-01 8.5734582e-04 1.6658062e-06 5.4608431e-06]], shape=(1, 4), dtype=float32)\n",
      "[0.6, 0.3, 0.5, 0.3]\n",
      "tf.Tensor([[9.9978513e-01 2.1096971e-04 5.9321394e-07 3.3605870e-06]], shape=(1, 4), dtype=float32)\n"
     ]
    },
    {
     "name": "stderr",
     "output_type": "stream",
     "text": [
      " 69%|████████████████████████████████████████████████▎                     | 69101/100000 [10:54:59<2:50:56,  3.01it/s]"
     ]
    },
    {
     "name": "stdout",
     "output_type": "stream",
     "text": [
      "5.527769572040386\n",
      "91\n"
     ]
    },
    {
     "name": "stderr",
     "output_type": "stream",
     "text": [
      " 69%|████████████████████████████████████████████████▍                     | 69201/100000 [10:55:34<3:08:40,  2.72it/s]"
     ]
    },
    {
     "name": "stdout",
     "output_type": "stream",
     "text": [
      "5.713884748144408\n",
      "92\n",
      "[0.4, 0.7, 0.9, 0.9]\n",
      "tf.Tensor([[0.02991111 0.06854061 0.6493111  0.25223714]], shape=(1, 4), dtype=float32)\n",
      "[0.7, 0.7, 0.9, 0.9]\n",
      "tf.Tensor([[0.01359751 0.06885073 0.69968426 0.21786745]], shape=(1, 4), dtype=float32)\n",
      "[1.0, 0.7, 0.9, 0.9]\n",
      "tf.Tensor([[0.00450434 0.15357903 0.7303515  0.11156512]], shape=(1, 4), dtype=float32)\n",
      "[1.0, 1.0, 0.9, 0.9]\n",
      "tf.Tensor([[2.1933013e-04 9.9938977e-01 3.5687085e-04 3.4031913e-05]], shape=(1, 4), dtype=float32)\n",
      "[1.0, 0.8, 0.9, 0.9]\n",
      "tf.Tensor([[9.9943703e-01 5.5706810e-04 1.1666973e-06 4.6906789e-06]], shape=(1, 4), dtype=float32)\n",
      "[0.9, 0.8, 0.9, 0.9]\n",
      "tf.Tensor([[9.9979562e-01 2.0099792e-04 4.7632045e-07 2.9989587e-06]], shape=(1, 4), dtype=float32)\n"
     ]
    },
    {
     "name": "stderr",
     "output_type": "stream",
     "text": [
      " 69%|████████████████████████████████████████████████▌                     | 69301/100000 [10:56:12<3:15:12,  2.62it/s]"
     ]
    },
    {
     "name": "stdout",
     "output_type": "stream",
     "text": [
      "3.9193080195577963\n",
      "91\n"
     ]
    },
    {
     "name": "stderr",
     "output_type": "stream",
     "text": [
      " 69%|████████████████████████████████████████████████▌                     | 69401/100000 [10:56:48<3:15:51,  2.60it/s]"
     ]
    },
    {
     "name": "stdout",
     "output_type": "stream",
     "text": [
      "5.485125377933997\n",
      "93\n",
      "[0.8, 0.4, 0.5, 0.7]\n",
      "tf.Tensor([[0.03517411 0.08352549 0.60308796 0.27821246]], shape=(1, 4), dtype=float32)\n",
      "[0.8, 0.7, 0.5, 0.7]\n",
      "tf.Tensor([[0.0180061  0.09041698 0.65547186 0.23610516]], shape=(1, 4), dtype=float32)\n"
     ]
    },
    {
     "name": "stderr",
     "output_type": "stream",
     "text": [
      " 70%|████████████████████████████████████████████████▋                     | 69501/100000 [10:57:24<2:37:05,  3.24it/s]"
     ]
    },
    {
     "name": "stdout",
     "output_type": "stream",
     "text": [
      "5.532019852368232\n",
      "93\n"
     ]
    },
    {
     "name": "stderr",
     "output_type": "stream",
     "text": [
      " 70%|████████████████████████████████████████████████▋                     | 69601/100000 [10:58:02<3:20:22,  2.53it/s]"
     ]
    },
    {
     "name": "stdout",
     "output_type": "stream",
     "text": [
      "3.381963941807598\n",
      "86\n",
      "[0.2, 0.2, 0.9, 0.1]\n",
      "tf.Tensor([[0.03941799 0.06941501 0.61894834 0.27221864]], shape=(1, 4), dtype=float32)\n",
      "[0.5, 0.2, 0.9, 0.1]\n",
      "tf.Tensor([[0.02214997 0.06388254 0.6639529  0.2500146 ]], shape=(1, 4), dtype=float32)\n",
      "[0.8, 0.2, 0.9, 0.1]\n",
      "tf.Tensor([[0.00681096 0.07990099 0.7322753  0.18101276]], shape=(1, 4), dtype=float32)\n",
      "[1.0, 0.2, 0.9, 0.1]\n",
      "tf.Tensor([[1.7064877e-04 9.9750656e-01 2.1071497e-03 2.1567129e-04]], shape=(1, 4), dtype=float32)\n",
      "[1.0, 0.0, 0.9, 0.1]\n",
      "tf.Tensor([[9.9853098e-01 1.4572499e-03 2.8917705e-06 8.9845407e-06]], shape=(1, 4), dtype=float32)\n",
      "[0.9, 0.0, 0.9, 0.1]\n",
      "tf.Tensor([[9.9975830e-01 2.3739580e-04 6.1176615e-07 3.6496015e-06]], shape=(1, 4), dtype=float32)\n"
     ]
    },
    {
     "name": "stderr",
     "output_type": "stream",
     "text": [
      " 70%|████████████████████████████████████████████████▊                     | 69701/100000 [10:58:40<3:00:01,  2.81it/s]"
     ]
    },
    {
     "name": "stdout",
     "output_type": "stream",
     "text": [
      "4.236004241873982\n",
      "85\n"
     ]
    },
    {
     "name": "stderr",
     "output_type": "stream",
     "text": [
      " 70%|████████████████████████████████████████████████▊                     | 69801/100000 [10:59:17<3:02:24,  2.76it/s]"
     ]
    },
    {
     "name": "stdout",
     "output_type": "stream",
     "text": [
      "4.676314268423808\n",
      "92\n",
      "[0.1, 0.0, 0.1, 0.9]\n",
      "tf.Tensor([[0.04336827 0.07813648 0.58934605 0.2891492 ]], shape=(1, 4), dtype=float32)\n",
      "[0.1, 0.3, 0.1, 0.9]\n",
      "tf.Tensor([[0.02758916 0.0750348  0.6272654  0.27011067]], shape=(1, 4), dtype=float32)\n",
      "[0.1, 0.6, 0.1, 0.9]\n",
      "tf.Tensor([[0.01200136 0.09739632 0.6894613  0.20114101]], shape=(1, 4), dtype=float32)\n"
     ]
    },
    {
     "name": "stderr",
     "output_type": "stream",
     "text": [
      " 70%|████████████████████████████████████████████████▉                     | 69901/100000 [10:59:53<2:22:50,  3.51it/s]"
     ]
    },
    {
     "name": "stdout",
     "output_type": "stream",
     "text": [
      "5.910413179374825\n",
      "91\n"
     ]
    },
    {
     "name": "stderr",
     "output_type": "stream",
     "text": [
      " 70%|█████████████████████████████████████████████████                     | 70001/100000 [11:00:29<3:08:49,  2.65it/s]"
     ]
    },
    {
     "name": "stdout",
     "output_type": "stream",
     "text": [
      "5.339253988362552\n",
      "87\n",
      "[0.7, 0.5, 0.9, 0.9]\n",
      "tf.Tensor([[0.03470122 0.06896695 0.61376566 0.28256616]], shape=(1, 4), dtype=float32)\n",
      "[0.7, 0.8, 0.9, 0.9]\n",
      "tf.Tensor([[0.01195491 0.05595534 0.70449513 0.22759464]], shape=(1, 4), dtype=float32)\n",
      "[1.0, 0.8, 0.9, 0.9]\n",
      "tf.Tensor([[0.00437334 0.3229564  0.61146915 0.06120099]], shape=(1, 4), dtype=float32)\n",
      "[0.7, 0.8, 0.9, 0.9]\n",
      "tf.Tensor([[8.4700994e-04 9.9882776e-01 2.9517588e-04 3.0010386e-05]], shape=(1, 4), dtype=float32)\n",
      "[0.9, 0.8, 0.9, 0.9]\n",
      "tf.Tensor([[9.9945098e-01 5.4301927e-04 9.7712109e-07 5.0057297e-06]], shape=(1, 4), dtype=float32)\n"
     ]
    },
    {
     "name": "stderr",
     "output_type": "stream",
     "text": [
      " 70%|█████████████████████████████████████████████████                     | 70101/100000 [11:01:06<3:05:41,  2.68it/s]"
     ]
    },
    {
     "name": "stdout",
     "output_type": "stream",
     "text": [
      "5.711575372015416\n",
      "95\n"
     ]
    },
    {
     "name": "stderr",
     "output_type": "stream",
     "text": [
      " 70%|█████████████████████████████████████████████████▏                    | 70201/100000 [11:01:42<3:24:17,  2.43it/s]"
     ]
    },
    {
     "name": "stdout",
     "output_type": "stream",
     "text": [
      "4.998155346026251\n",
      "90\n",
      "[0.0, 0.1, 0.9, 0.1]\n",
      "tf.Tensor([[0.03791987 0.05375493 0.6347011  0.2736241 ]], shape=(1, 4), dtype=float32)\n",
      "[0.3, 0.1, 0.9, 0.1]\n",
      "tf.Tensor([[0.02361803 0.05052628 0.6686422  0.2572135 ]], shape=(1, 4), dtype=float32)\n",
      "[0.6, 0.1, 0.9, 0.1]\n",
      "tf.Tensor([[0.00814693 0.05715391 0.72942275 0.20527643]], shape=(1, 4), dtype=float32)\n"
     ]
    },
    {
     "name": "stderr",
     "output_type": "stream",
     "text": [
      " 70%|█████████████████████████████████████████████████▏                    | 70301/100000 [11:02:18<2:25:35,  3.40it/s]"
     ]
    },
    {
     "name": "stdout",
     "output_type": "stream",
     "text": [
      "5.486666826828901\n",
      "93\n"
     ]
    },
    {
     "name": "stderr",
     "output_type": "stream",
     "text": [
      " 70%|█████████████████████████████████████████████████▎                    | 70401/100000 [11:02:54<2:47:32,  2.94it/s]"
     ]
    },
    {
     "name": "stdout",
     "output_type": "stream",
     "text": [
      "5.779535900548812\n",
      "92\n",
      "[0.8, 0.9, 0.9, 0.9]\n",
      "tf.Tensor([[0.02403278 0.04556642 0.67567456 0.2547262 ]], shape=(1, 4), dtype=float32)\n",
      "[1.0, 0.9, 0.9, 0.9]\n",
      "tf.Tensor([[0.0116134  0.05850393 0.71224695 0.21763575]], shape=(1, 4), dtype=float32)\n",
      "[0.7, 0.9, 0.9, 0.9]\n",
      "tf.Tensor([[0.0023816  0.5647624  0.40566787 0.02718804]], shape=(1, 4), dtype=float32)\n"
     ]
    },
    {
     "name": "stderr",
     "output_type": "stream",
     "text": [
      " 71%|█████████████████████████████████████████████████▎                    | 70501/100000 [11:03:29<2:55:09,  2.81it/s]"
     ]
    },
    {
     "name": "stdout",
     "output_type": "stream",
     "text": [
      "5.78417600580011\n",
      "94\n"
     ]
    },
    {
     "name": "stderr",
     "output_type": "stream",
     "text": [
      " 71%|█████████████████████████████████████████████████▍                    | 70601/100000 [11:04:06<2:56:47,  2.77it/s]"
     ]
    },
    {
     "name": "stdout",
     "output_type": "stream",
     "text": [
      "5.632666759741676\n",
      "95\n",
      "[0.4, 0.2, 0.9, 0.9]\n",
      "tf.Tensor([[0.03940862 0.06470181 0.6258443  0.27004525]], shape=(1, 4), dtype=float32)\n",
      "[0.4, 0.5, 0.9, 0.9]\n",
      "tf.Tensor([[0.01577373 0.04603151 0.7171016  0.22109318]], shape=(1, 4), dtype=float32)\n",
      "[0.7, 0.5, 0.9, 0.9]\n",
      "tf.Tensor([[0.0070067  0.07209432 0.79249793 0.12840101]], shape=(1, 4), dtype=float32)\n",
      "[0.7, 0.8, 0.9, 0.9]\n",
      "tf.Tensor([[2.0111457e-04 9.9852377e-01 1.1763544e-03 9.8647273e-05]], shape=(1, 4), dtype=float32)\n",
      "[0.9, 0.8, 0.9, 0.9]\n",
      "tf.Tensor([[9.9760950e-01 2.3757345e-03 3.4420918e-06 1.1281859e-05]], shape=(1, 4), dtype=float32)\n"
     ]
    },
    {
     "name": "stderr",
     "output_type": "stream",
     "text": [
      " 71%|█████████████████████████████████████████████████▍                    | 70701/100000 [11:04:43<2:42:29,  3.01it/s]"
     ]
    },
    {
     "name": "stdout",
     "output_type": "stream",
     "text": [
      "5.624532913423956\n",
      "91\n"
     ]
    },
    {
     "name": "stderr",
     "output_type": "stream",
     "text": [
      " 71%|█████████████████████████████████████████████████▌                    | 70801/100000 [11:05:19<3:05:00,  2.63it/s]"
     ]
    },
    {
     "name": "stdout",
     "output_type": "stream",
     "text": [
      "4.540917377171523\n",
      "91\n",
      "[0.2, 0.6, 0.5, 0.3]\n",
      "tf.Tensor([[0.02598989 0.04186022 0.6840934  0.24805646]], shape=(1, 4), dtype=float32)\n",
      "[0.5, 0.6, 0.5, 0.3]\n",
      "tf.Tensor([[0.00972949 0.05192469 0.7316304  0.20671545]], shape=(1, 4), dtype=float32)\n"
     ]
    },
    {
     "name": "stderr",
     "output_type": "stream",
     "text": [
      " 71%|█████████████████████████████████████████████████▋                    | 70901/100000 [11:05:56<2:58:59,  2.71it/s]"
     ]
    },
    {
     "name": "stdout",
     "output_type": "stream",
     "text": [
      "5.561211324721987\n",
      "91\n"
     ]
    },
    {
     "name": "stderr",
     "output_type": "stream",
     "text": [
      " 71%|█████████████████████████████████████████████████▋                    | 71001/100000 [11:06:31<2:51:07,  2.82it/s]"
     ]
    },
    {
     "name": "stdout",
     "output_type": "stream",
     "text": [
      "5.866214177688034\n",
      "93\n",
      "[0.6, 0.7, 0.1, 0.1]\n",
      "tf.Tensor([[0.0211333  0.05483452 0.6727123  0.25131983]], shape=(1, 4), dtype=float32)\n",
      "[0.6, 0.4, 0.1, 0.1]\n",
      "tf.Tensor([[0.01397881 0.06284057 0.7158251  0.20735556]], shape=(1, 4), dtype=float32)\n",
      "[0.3, 0.4, 0.1, 0.1]\n",
      "tf.Tensor([[0.0026886  0.3366666  0.62569404 0.03495079]], shape=(1, 4), dtype=float32)\n",
      "[0.3, 0.1, 0.1, 0.1]\n",
      "tf.Tensor([[1.13466034e-04 9.99552071e-01 3.09679977e-04 2.47873122e-05]], shape=(1, 4), dtype=float32)\n"
     ]
    },
    {
     "name": "stderr",
     "output_type": "stream",
     "text": [
      " 71%|█████████████████████████████████████████████████▊                    | 71101/100000 [11:07:06<3:05:39,  2.59it/s]"
     ]
    },
    {
     "name": "stdout",
     "output_type": "stream",
     "text": [
      "5.938395935290529\n",
      "93\n"
     ]
    },
    {
     "name": "stderr",
     "output_type": "stream",
     "text": [
      " 71%|█████████████████████████████████████████████████▊                    | 71201/100000 [11:07:41<2:32:33,  3.15it/s]"
     ]
    },
    {
     "name": "stdout",
     "output_type": "stream",
     "text": [
      "5.6814009204413995\n",
      "92\n",
      "[0.8, 0.1, 0.5, 0.7]\n",
      "tf.Tensor([[0.03666927 0.0628864  0.61518914 0.2852552 ]], shape=(1, 4), dtype=float32)\n",
      "[0.8, 0.4, 0.5, 0.7]\n",
      "tf.Tensor([[0.01892683 0.05666129 0.6704017  0.25401014]], shape=(1, 4), dtype=float32)\n",
      "[0.8, 0.7, 0.5, 0.7]\n",
      "tf.Tensor([[0.00637831 0.09981258 0.79864824 0.09516083]], shape=(1, 4), dtype=float32)\n"
     ]
    },
    {
     "name": "stderr",
     "output_type": "stream",
     "text": [
      " 71%|█████████████████████████████████████████████████▉                    | 71301/100000 [11:08:17<2:35:53,  3.07it/s]"
     ]
    },
    {
     "name": "stdout",
     "output_type": "stream",
     "text": [
      "5.516209664355662\n",
      "93\n"
     ]
    },
    {
     "name": "stderr",
     "output_type": "stream",
     "text": [
      " 71%|█████████████████████████████████████████████████▉                    | 71401/100000 [11:08:52<2:43:07,  2.92it/s]"
     ]
    },
    {
     "name": "stdout",
     "output_type": "stream",
     "text": [
      "6.2991982652452885\n",
      "97\n",
      "[0.2, 0.7, 0.1, 0.9]\n",
      "tf.Tensor([[0.03235717 0.05867985 0.6321048  0.27685818]], shape=(1, 4), dtype=float32)\n",
      "[0.2, 1.0, 0.1, 0.9]\n",
      "tf.Tensor([[0.0148032  0.056526   0.6967795  0.23189133]], shape=(1, 4), dtype=float32)\n",
      "[0.0, 1.0, 0.1, 0.9]\n",
      "tf.Tensor([[0.00352657 0.08852086 0.8368695  0.07108307]], shape=(1, 4), dtype=float32)\n",
      "[0.3, 1.0, 0.1, 0.9]\n",
      "tf.Tensor([[1.5939167e-04 9.9925381e-01 5.4891070e-04 3.7880469e-05]], shape=(1, 4), dtype=float32)\n",
      "[0.1, 1.0, 0.1, 0.9]\n",
      "tf.Tensor([[9.9912077e-01 8.6886395e-04 1.3996660e-06 8.9624627e-06]], shape=(1, 4), dtype=float32)\n"
     ]
    },
    {
     "name": "stderr",
     "output_type": "stream",
     "text": [
      " 72%|██████████████████████████████████████████████████                    | 71501/100000 [11:09:29<2:52:25,  2.75it/s]"
     ]
    },
    {
     "name": "stdout",
     "output_type": "stream",
     "text": [
      "5.279146373158719\n",
      "92\n"
     ]
    },
    {
     "name": "stderr",
     "output_type": "stream",
     "text": [
      " 72%|██████████████████████████████████████████████████                    | 71601/100000 [11:10:04<3:05:48,  2.55it/s]"
     ]
    },
    {
     "name": "stdout",
     "output_type": "stream",
     "text": [
      "5.530544205889109\n",
      "94\n",
      "[0.8, 0.4, 0.9, 0.1]\n",
      "tf.Tensor([[0.02153548 0.05671313 0.6367935  0.2849579 ]], shape=(1, 4), dtype=float32)\n",
      "[0.8, 0.1, 0.9, 0.1]\n",
      "tf.Tensor([[0.01012497 0.04512064 0.71018755 0.23456688]], shape=(1, 4), dtype=float32)\n",
      "[1.0, 0.1, 0.9, 0.1]\n",
      "tf.Tensor([[0.00410776 0.1549488  0.7712813  0.06966217]], shape=(1, 4), dtype=float32)\n",
      "[0.7, 0.1, 0.9, 0.1]\n",
      "tf.Tensor([[1.0295170e-04 9.9956042e-01 3.0834053e-04 2.8293931e-05]], shape=(1, 4), dtype=float32)\n"
     ]
    },
    {
     "name": "stderr",
     "output_type": "stream",
     "text": [
      " 72%|██████████████████████████████████████████████████▏                   | 71701/100000 [11:10:41<2:29:13,  3.16it/s]"
     ]
    },
    {
     "name": "stdout",
     "output_type": "stream",
     "text": [
      "4.268469984781788\n",
      "91\n"
     ]
    },
    {
     "name": "stderr",
     "output_type": "stream",
     "text": [
      " 72%|██████████████████████████████████████████████████▎                   | 71801/100000 [11:11:18<2:53:13,  2.71it/s]"
     ]
    },
    {
     "name": "stdout",
     "output_type": "stream",
     "text": [
      "5.284115083884378\n",
      "90\n",
      "[0.4, 0.0, 0.5, 0.3]\n",
      "tf.Tensor([[0.04501369 0.06057877 0.5818486  0.31255898]], shape=(1, 4), dtype=float32)\n",
      "[0.4, 0.3, 0.5, 0.3]\n",
      "tf.Tensor([[0.01862467 0.04240594 0.66992307 0.2690463 ]], shape=(1, 4), dtype=float32)\n",
      "[0.7, 0.3, 0.5, 0.3]\n",
      "tf.Tensor([[0.00889831 0.07615875 0.7672087  0.14773424]], shape=(1, 4), dtype=float32)\n",
      "[0.4, 0.3, 0.5, 0.3]\n",
      "tf.Tensor([[1.9196163e-04 9.9754554e-01 2.0955105e-03 1.6695946e-04]], shape=(1, 4), dtype=float32)\n",
      "[0.6, 0.3, 0.5, 0.3]\n",
      "tf.Tensor([[9.9698740e-01 2.9874386e-03 5.0518279e-06 2.0130392e-05]], shape=(1, 4), dtype=float32)\n"
     ]
    },
    {
     "name": "stderr",
     "output_type": "stream",
     "text": [
      " 72%|██████████████████████████████████████████████████▎                   | 71901/100000 [11:11:56<2:54:46,  2.68it/s]"
     ]
    },
    {
     "name": "stdout",
     "output_type": "stream",
     "text": [
      "4.585610244182669\n",
      "90\n"
     ]
    },
    {
     "name": "stderr",
     "output_type": "stream",
     "text": [
      " 72%|██████████████████████████████████████████████████▍                   | 72001/100000 [11:12:32<3:03:53,  2.54it/s]"
     ]
    },
    {
     "name": "stdout",
     "output_type": "stream",
     "text": [
      "4.81367095169527\n",
      "93\n",
      "[0.0, 0.9, 0.9, 0.9]\n",
      "tf.Tensor([[0.0249122  0.03663188 0.67775244 0.26070356]], shape=(1, 4), dtype=float32)\n",
      "[0.3, 0.9, 0.9, 0.9]\n",
      "tf.Tensor([[0.00963882 0.03495667 0.74244416 0.21296033]], shape=(1, 4), dtype=float32)\n",
      "[0.6, 0.9, 0.9, 0.9]\n",
      "tf.Tensor([[0.00219761 0.3087865  0.6495759  0.03943996]], shape=(1, 4), dtype=float32)\n"
     ]
    },
    {
     "name": "stderr",
     "output_type": "stream",
     "text": [
      " 72%|██████████████████████████████████████████████████▍                   | 72101/100000 [11:13:08<2:57:24,  2.62it/s]"
     ]
    },
    {
     "name": "stdout",
     "output_type": "stream",
     "text": [
      "6.245054130352497\n",
      "96\n"
     ]
    },
    {
     "name": "stderr",
     "output_type": "stream",
     "text": [
      " 72%|██████████████████████████████████████████████████▌                   | 72201/100000 [11:13:44<3:26:06,  2.25it/s]"
     ]
    },
    {
     "name": "stdout",
     "output_type": "stream",
     "text": [
      "4.814105509904072\n",
      "93\n",
      "[0.6, 0.8, 0.5, 0.7]\n",
      "tf.Tensor([[0.03179607 0.05146387 0.6366341  0.28010604]], shape=(1, 4), dtype=float32)\n",
      "[0.3, 0.8, 0.5, 0.7]\n",
      "tf.Tensor([[0.01154224 0.03643982 0.72325486 0.22876304]], shape=(1, 4), dtype=float32)\n",
      "[0.6, 0.8, 0.5, 0.7]\n",
      "tf.Tensor([[0.0037656  0.21907568 0.7267993  0.05035941]], shape=(1, 4), dtype=float32)\n",
      "[0.3, 0.8, 0.5, 0.7]\n",
      "tf.Tensor([[2.3777621e-04 9.9951994e-01 2.2414941e-04 1.8166553e-05]], shape=(1, 4), dtype=float32)\n",
      "[0.5, 0.8, 0.5, 0.7]\n",
      "tf.Tensor([[9.9918467e-01 8.0466759e-04 1.0328583e-06 9.5483756e-06]], shape=(1, 4), dtype=float32)\n"
     ]
    },
    {
     "name": "stderr",
     "output_type": "stream",
     "text": [
      " 72%|██████████████████████████████████████████████████▌                   | 72301/100000 [11:14:20<2:43:24,  2.83it/s]"
     ]
    },
    {
     "name": "stdout",
     "output_type": "stream",
     "text": [
      "5.840824755841018\n",
      "95\n"
     ]
    },
    {
     "name": "stderr",
     "output_type": "stream",
     "text": [
      " 72%|██████████████████████████████████████████████████▋                   | 72402/100000 [11:14:56<2:16:21,  3.37it/s]"
     ]
    },
    {
     "name": "stdout",
     "output_type": "stream",
     "text": [
      "5.644479388465999\n",
      "95\n",
      "[0.7, 0.8, 0.1, 0.1]\n",
      "tf.Tensor([[0.02163102 0.04519312 0.66062117 0.27255467]], shape=(1, 4), dtype=float32)\n",
      "[0.7, 0.5, 0.1, 0.1]\n",
      "tf.Tensor([[0.01465178 0.04998056 0.70621246 0.22915518]], shape=(1, 4), dtype=float32)\n",
      "[0.4, 0.5, 0.1, 0.1]\n",
      "tf.Tensor([[0.00309119 0.20436831 0.7448007  0.04773975]], shape=(1, 4), dtype=float32)\n",
      "[0.4, 0.2, 0.1, 0.1]\n",
      "tf.Tensor([[1.9528710e-04 9.9947435e-01 3.0160879e-04 2.8830049e-05]], shape=(1, 4), dtype=float32)\n",
      "[0.2, 0.2, 0.1, 0.1]\n",
      "tf.Tensor([[9.9890828e-01 1.0761158e-03 1.8021993e-06 1.3816763e-05]], shape=(1, 4), dtype=float32)\n",
      "[0.1, 0.2, 0.1, 0.1]\n",
      "tf.Tensor([[9.9955815e-01 4.3257858e-04 6.8482876e-07 8.6341224e-06]], shape=(1, 4), dtype=float32)\n"
     ]
    },
    {
     "name": "stderr",
     "output_type": "stream",
     "text": [
      " 72%|██████████████████████████████████████████████████▊                   | 72500/100000 [11:15:30<2:53:16,  2.65it/s]"
     ]
    },
    {
     "name": "stdout",
     "output_type": "stream",
     "text": [
      "4.698795624733897\n",
      "87\n"
     ]
    },
    {
     "name": "stderr",
     "output_type": "stream",
     "text": [
      " 73%|██████████████████████████████████████████████████▊                   | 72601/100000 [11:16:07<2:55:40,  2.60it/s]"
     ]
    },
    {
     "name": "stdout",
     "output_type": "stream",
     "text": [
      "5.746565868040412\n",
      "94\n",
      "[0.7, 0.0, 0.5, 0.7]\n",
      "tf.Tensor([[0.03606085 0.04884668 0.6284518  0.28664058]], shape=(1, 4), dtype=float32)\n",
      "[0.7, 0.3, 0.5, 0.7]\n",
      "tf.Tensor([[0.01944975 0.0423154  0.67983794 0.2583969 ]], shape=(1, 4), dtype=float32)\n",
      "[0.7, 0.6, 0.5, 0.7]\n",
      "tf.Tensor([[0.00777843 0.06222044 0.80945337 0.12054785]], shape=(1, 4), dtype=float32)\n",
      "[0.4, 0.6, 0.5, 0.7]\n",
      "tf.Tensor([[3.1576402e-04 9.9757212e-01 1.9495566e-03 1.6254450e-04]], shape=(1, 4), dtype=float32)\n",
      "[0.4, 0.8, 0.5, 0.7]\n",
      "tf.Tensor([[9.9900657e-01 9.8236394e-04 1.4259292e-06 9.6698977e-06]], shape=(1, 4), dtype=float32)\n",
      "[0.5, 0.8, 0.5, 0.7]\n",
      "tf.Tensor([[9.9977475e-01 2.1925815e-04 3.7148203e-07 5.6092354e-06]], shape=(1, 4), dtype=float32)\n"
     ]
    },
    {
     "name": "stderr",
     "output_type": "stream",
     "text": [
      " 73%|██████████████████████████████████████████████████▉                   | 72701/100000 [11:16:42<2:43:05,  2.79it/s]"
     ]
    },
    {
     "name": "stdout",
     "output_type": "stream",
     "text": [
      "6.154522909207172\n",
      "98\n"
     ]
    },
    {
     "name": "stderr",
     "output_type": "stream",
     "text": [
      " 73%|██████████████████████████████████████████████████▉                   | 72801/100000 [11:17:19<2:13:19,  3.40it/s]"
     ]
    },
    {
     "name": "stdout",
     "output_type": "stream",
     "text": [
      "5.716510585273668\n",
      "93\n",
      "[0.4, 0.2, 0.1, 0.9]\n",
      "tf.Tensor([[0.03747315 0.04650055 0.63459814 0.2814282 ]], shape=(1, 4), dtype=float32)\n",
      "[0.4, 0.5, 0.1, 0.9]\n",
      "tf.Tensor([[0.02052126 0.04016581 0.6862212  0.25309172]], shape=(1, 4), dtype=float32)\n",
      "[0.4, 0.8, 0.1, 0.9]\n",
      "tf.Tensor([[0.00775501 0.05429458 0.81749785 0.12045249]], shape=(1, 4), dtype=float32)\n",
      "[0.1, 0.8, 0.1, 0.9]\n",
      "tf.Tensor([[3.1513008e-04 9.9708098e-01 2.4190554e-03 1.8483964e-04]], shape=(1, 4), dtype=float32)\n",
      "[0.1, 1.0, 0.1, 0.9]\n",
      "tf.Tensor([[9.9909174e-01 8.9672260e-04 1.3827216e-06 1.0161988e-05]], shape=(1, 4), dtype=float32)\n"
     ]
    },
    {
     "name": "stderr",
     "output_type": "stream",
     "text": [
      " 73%|███████████████████████████████████████████████████                   | 72901/100000 [11:17:54<2:33:12,  2.95it/s]"
     ]
    },
    {
     "name": "stdout",
     "output_type": "stream",
     "text": [
      "6.156134746996324\n",
      "94\n"
     ]
    },
    {
     "name": "stderr",
     "output_type": "stream",
     "text": [
      " 73%|███████████████████████████████████████████████████                   | 73001/100000 [11:18:30<2:48:55,  2.66it/s]"
     ]
    },
    {
     "name": "stdout",
     "output_type": "stream",
     "text": [
      "5.489522160007978\n",
      "92\n",
      "[0.4, 0.7, 0.1, 0.9]\n",
      "tf.Tensor([[0.02821445 0.04563314 0.6550424  0.27110994]], shape=(1, 4), dtype=float32)\n",
      "[0.1, 0.7, 0.1, 0.9]\n",
      "tf.Tensor([[0.01549161 0.03773025 0.7007322  0.24604595]], shape=(1, 4), dtype=float32)\n",
      "[0.1, 1.0, 0.1, 0.9]\n",
      "tf.Tensor([[0.00346895 0.06485494 0.86028224 0.07139385]], shape=(1, 4), dtype=float32)\n",
      "[0.1, 0.7, 0.1, 0.9]\n",
      "tf.Tensor([[2.0605253e-04 9.9919695e-01 5.5004429e-04 4.6925026e-05]], shape=(1, 4), dtype=float32)\n"
     ]
    },
    {
     "name": "stderr",
     "output_type": "stream",
     "text": [
      " 73%|███████████████████████████████████████████████████▏                  | 73101/100000 [11:19:07<2:31:29,  2.96it/s]"
     ]
    },
    {
     "name": "stdout",
     "output_type": "stream",
     "text": [
      "5.358341620387849\n",
      "92\n"
     ]
    },
    {
     "name": "stderr",
     "output_type": "stream",
     "text": [
      " 73%|███████████████████████████████████████████████████▏                  | 73201/100000 [11:19:44<2:48:22,  2.65it/s]"
     ]
    },
    {
     "name": "stdout",
     "output_type": "stream",
     "text": [
      "5.342446930567283\n",
      "93\n",
      "[0.9, 0.8, 0.9, 0.1]\n",
      "tf.Tensor([[0.01757236 0.0308465  0.6892894  0.26229173]], shape=(1, 4), dtype=float32)\n",
      "[0.9, 0.5, 0.9, 0.1]\n",
      "tf.Tensor([[0.00709718 0.02847803 0.7841474  0.1802774 ]], shape=(1, 4), dtype=float32)\n",
      "[0.9, 0.2, 0.9, 0.1]\n",
      "tf.Tensor([[0.00199713 0.13154195 0.8300807  0.03638021]], shape=(1, 4), dtype=float32)\n",
      "[0.9, 0.0, 0.9, 0.1]\n",
      "tf.Tensor([[2.4371318e-04 9.9949229e-01 2.3816338e-04 2.5863770e-05]], shape=(1, 4), dtype=float32)\n",
      "[0.9, 0.2, 0.9, 0.1]\n",
      "tf.Tensor([[9.993186e-01 6.711651e-04 9.201202e-07 9.348779e-06]], shape=(1, 4), dtype=float32)\n"
     ]
    },
    {
     "name": "stderr",
     "output_type": "stream",
     "text": [
      " 73%|███████████████████████████████████████████████████▎                  | 73301/100000 [11:20:19<2:34:43,  2.88it/s]"
     ]
    },
    {
     "name": "stdout",
     "output_type": "stream",
     "text": [
      "4.982635777406542\n",
      "91\n"
     ]
    },
    {
     "name": "stderr",
     "output_type": "stream",
     "text": [
      " 73%|███████████████████████████████████████████████████▍                  | 73401/100000 [11:20:56<2:39:08,  2.79it/s]"
     ]
    },
    {
     "name": "stdout",
     "output_type": "stream",
     "text": [
      "4.727475913351024\n",
      "93\n",
      "[0.5, 0.2, 0.1, 0.9]\n",
      "tf.Tensor([[0.03438662 0.04011471 0.6069577  0.318541  ]], shape=(1, 4), dtype=float32)\n",
      "[0.5, 0.5, 0.1, 0.9]\n",
      "tf.Tensor([[0.01872673 0.03309308 0.6560689  0.29211125]], shape=(1, 4), dtype=float32)\n",
      "[0.5, 0.8, 0.1, 0.9]\n",
      "tf.Tensor([[0.00748729 0.04229215 0.80141544 0.1488051 ]], shape=(1, 4), dtype=float32)\n",
      "[0.2, 0.8, 0.1, 0.9]\n",
      "tf.Tensor([[3.1013144e-04 9.9652487e-01 2.9326400e-03 2.3222722e-04]], shape=(1, 4), dtype=float32)\n",
      "[0.2, 1.0, 0.1, 0.9]\n",
      "tf.Tensor([[9.9853420e-01 1.4490415e-03 2.2840809e-06 1.4479100e-05]], shape=(1, 4), dtype=float32)\n",
      "[0.1, 1.0, 0.1, 0.9]\n",
      "tf.Tensor([[9.9967003e-01 3.2228560e-04 5.0845404e-07 7.3205902e-06]], shape=(1, 4), dtype=float32)\n"
     ]
    },
    {
     "name": "stderr",
     "output_type": "stream",
     "text": [
      " 74%|███████████████████████████████████████████████████▍                  | 73501/100000 [11:21:32<2:40:14,  2.76it/s]"
     ]
    },
    {
     "name": "stdout",
     "output_type": "stream",
     "text": [
      "5.306164962269583\n",
      "93\n"
     ]
    },
    {
     "name": "stderr",
     "output_type": "stream",
     "text": [
      " 74%|███████████████████████████████████████████████████▌                  | 73601/100000 [11:22:08<2:41:04,  2.73it/s]"
     ]
    },
    {
     "name": "stdout",
     "output_type": "stream",
     "text": [
      "5.4497991925533995\n",
      "93\n",
      "[0.0, 0.3, 0.9, 0.1]\n",
      "tf.Tensor([[0.02751233 0.02759939 0.64419913 0.30068907]], shape=(1, 4), dtype=float32)\n",
      "[0.3, 0.3, 0.9, 0.1]\n",
      "tf.Tensor([[0.01328009 0.02334473 0.6965784  0.26679677]], shape=(1, 4), dtype=float32)\n",
      "[0.6, 0.3, 0.9, 0.1]\n",
      "tf.Tensor([[0.0038452  0.0283939  0.8610111  0.10674983]], shape=(1, 4), dtype=float32)\n",
      "[0.9, 0.3, 0.9, 0.1]\n",
      "tf.Tensor([[9.6666030e-05 9.9909711e-01 7.4166653e-04 6.4510365e-05]], shape=(1, 4), dtype=float32)\n"
     ]
    },
    {
     "name": "stderr",
     "output_type": "stream",
     "text": [
      " 74%|███████████████████████████████████████████████████▌                  | 73701/100000 [11:22:44<2:49:15,  2.59it/s]"
     ]
    },
    {
     "name": "stdout",
     "output_type": "stream",
     "text": [
      "4.743072137739258\n",
      "93\n"
     ]
    },
    {
     "name": "stderr",
     "output_type": "stream",
     "text": [
      " 74%|███████████████████████████████████████████████████▋                  | 73801/100000 [11:23:20<2:14:39,  3.24it/s]"
     ]
    },
    {
     "name": "stdout",
     "output_type": "stream",
     "text": [
      "5.954690947711261\n",
      "93\n",
      "[0.4, 0.2, 0.5, 0.3]\n",
      "tf.Tensor([[0.03021703 0.03874084 0.61001164 0.32103053]], shape=(1, 4), dtype=float32)\n",
      "[0.4, 0.5, 0.5, 0.3]\n",
      "tf.Tensor([[0.01010124 0.03070444 0.6913968  0.2677975 ]], shape=(1, 4), dtype=float32)\n",
      "[0.4, 0.2, 0.5, 0.3]\n",
      "tf.Tensor([[0.00579251 0.04156365 0.8352428  0.11740109]], shape=(1, 4), dtype=float32)\n",
      "[0.4, 0.5, 0.5, 0.3]\n",
      "tf.Tensor([[1.5446941e-04 9.9855536e-01 1.1999697e-03 9.0087458e-05]], shape=(1, 4), dtype=float32)\n",
      "[0.4, 0.3, 0.5, 0.3]\n",
      "tf.Tensor([[9.98837173e-01 1.15009688e-03 1.54238421e-06 1.11524905e-05]], shape=(1, 4), dtype=float32)\n"
     ]
    },
    {
     "name": "stderr",
     "output_type": "stream",
     "text": [
      " 74%|███████████████████████████████████████████████████▋                  | 73901/100000 [11:23:58<2:56:05,  2.47it/s]"
     ]
    },
    {
     "name": "stdout",
     "output_type": "stream",
     "text": [
      "5.301752311793198\n",
      "92\n"
     ]
    },
    {
     "name": "stderr",
     "output_type": "stream",
     "text": [
      " 74%|███████████████████████████████████████████████████▊                  | 74001/100000 [11:24:32<2:33:35,  2.82it/s]"
     ]
    },
    {
     "name": "stdout",
     "output_type": "stream",
     "text": [
      "6.545391678352297\n",
      "99\n",
      "[0.2, 0.4, 0.5, 0.3]\n",
      "tf.Tensor([[0.02583222 0.02674748 0.65609586 0.29132444]], shape=(1, 4), dtype=float32)\n",
      "[0.5, 0.4, 0.5, 0.3]\n",
      "tf.Tensor([[0.01072246 0.0271923  0.7074314  0.25465387]], shape=(1, 4), dtype=float32)\n",
      "[0.5, 0.1, 0.5, 0.3]\n",
      "tf.Tensor([[0.00584744 0.03316428 0.84259397 0.11839426]], shape=(1, 4), dtype=float32)\n",
      "[0.5, 0.4, 0.5, 0.3]\n",
      "tf.Tensor([[1.2688372e-04 9.9868006e-01 1.1125823e-03 8.0532147e-05]], shape=(1, 4), dtype=float32)\n",
      "[0.5, 0.2, 0.5, 0.3]\n",
      "tf.Tensor([[9.9874288e-01 1.2420496e-03 1.8589807e-06 1.3268550e-05]], shape=(1, 4), dtype=float32)\n"
     ]
    },
    {
     "name": "stderr",
     "output_type": "stream",
     "text": [
      " 74%|███████████████████████████████████████████████████▊                  | 74101/100000 [11:25:08<2:29:18,  2.89it/s]"
     ]
    },
    {
     "name": "stdout",
     "output_type": "stream",
     "text": [
      "5.519418642915547\n",
      "96\n"
     ]
    },
    {
     "name": "stderr",
     "output_type": "stream",
     "text": [
      " 74%|███████████████████████████████████████████████████▉                  | 74201/100000 [11:25:44<2:28:59,  2.89it/s]"
     ]
    },
    {
     "name": "stdout",
     "output_type": "stream",
     "text": [
      "5.2235321068074265\n",
      "94\n",
      "[0.3, 0.2, 0.1, 0.9]\n",
      "tf.Tensor([[0.01951949 0.03086345 0.6720702  0.2775469 ]], shape=(1, 4), dtype=float32)\n",
      "[0.3, 0.5, 0.1, 0.9]\n",
      "tf.Tensor([[0.00909469 0.03287811 0.7983929  0.15963423]], shape=(1, 4), dtype=float32)\n",
      "[0.3, 0.8, 0.1, 0.9]\n",
      "tf.Tensor([[0.00282418 0.7355795  0.24680187 0.01479441]], shape=(1, 4), dtype=float32)\n",
      "[0.1, 0.8, 0.1, 0.9]\n",
      "tf.Tensor([[1.6127155e-03 9.9807346e-01 2.8351182e-04 3.0166420e-05]], shape=(1, 4), dtype=float32)\n",
      "[0.1, 1.0, 0.1, 0.9]\n",
      "tf.Tensor([[9.9913955e-01 8.4877090e-04 1.0453042e-06 1.0626806e-05]], shape=(1, 4), dtype=float32)\n"
     ]
    },
    {
     "name": "stderr",
     "output_type": "stream",
     "text": [
      " 74%|████████████████████████████████████████████████████                  | 74301/100000 [11:26:21<2:22:38,  3.00it/s]"
     ]
    },
    {
     "name": "stdout",
     "output_type": "stream",
     "text": [
      "5.7069359187921425\n",
      "91\n"
     ]
    },
    {
     "name": "stderr",
     "output_type": "stream",
     "text": [
      " 74%|████████████████████████████████████████████████████                  | 74401/100000 [11:26:58<2:36:42,  2.72it/s]"
     ]
    },
    {
     "name": "stdout",
     "output_type": "stream",
     "text": [
      "6.001294076077838\n",
      "97\n",
      "[0.0, 0.0, 0.1, 0.1]\n",
      "tf.Tensor([[0.0365264  0.03086805 0.62357116 0.30903432]], shape=(1, 4), dtype=float32)\n",
      "[0.0, 0.3, 0.1, 0.1]\n",
      "tf.Tensor([[0.01462061 0.02363378 0.6925729  0.26917276]], shape=(1, 4), dtype=float32)\n",
      "[0.0, 0.0, 0.1, 0.1]\n",
      "tf.Tensor([[0.00920639 0.02669607 0.80027103 0.16382651]], shape=(1, 4), dtype=float32)\n",
      "[0.0, 0.3, 0.1, 0.1]\n",
      "tf.Tensor([[3.8635341e-04 9.8894262e-01 1.0074192e-02 5.9686671e-04]], shape=(1, 4), dtype=float32)\n",
      "[0.0, 0.1, 0.1, 0.1]\n",
      "tf.Tensor([[9.9662519e-01 3.3514008e-03 4.0554537e-06 1.9369976e-05]], shape=(1, 4), dtype=float32)\n"
     ]
    },
    {
     "name": "stderr",
     "output_type": "stream",
     "text": [
      " 75%|████████████████████████████████████████████████████▏                 | 74501/100000 [11:27:35<2:24:25,  2.94it/s]"
     ]
    },
    {
     "name": "stdout",
     "output_type": "stream",
     "text": [
      "5.884019882225014\n",
      "97\n"
     ]
    },
    {
     "name": "stderr",
     "output_type": "stream",
     "text": [
      " 75%|████████████████████████████████████████████████████▏                 | 74601/100000 [11:28:10<2:11:10,  3.23it/s]"
     ]
    },
    {
     "name": "stdout",
     "output_type": "stream",
     "text": [
      "5.666169785640375\n",
      "93\n",
      "[0.0, 0.3, 0.5, 0.3]\n",
      "tf.Tensor([[0.02402324 0.02112573 0.67104053 0.28381044]], shape=(1, 4), dtype=float32)\n",
      "[0.3, 0.3, 0.5, 0.3]\n",
      "tf.Tensor([[0.01050059 0.01754682 0.72965556 0.24229696]], shape=(1, 4), dtype=float32)\n",
      "[0.6, 0.3, 0.5, 0.3]\n",
      "tf.Tensor([[0.0044092  0.03709668 0.869544   0.08895005]], shape=(1, 4), dtype=float32)\n",
      "[0.3, 0.3, 0.5, 0.3]\n",
      "tf.Tensor([[1.1322896e-04 9.9944431e-01 4.0801009e-04 3.4468165e-05]], shape=(1, 4), dtype=float32)\n"
     ]
    },
    {
     "name": "stderr",
     "output_type": "stream",
     "text": [
      " 75%|████████████████████████████████████████████████████▎                 | 74701/100000 [11:28:47<2:47:48,  2.51it/s]"
     ]
    },
    {
     "name": "stdout",
     "output_type": "stream",
     "text": [
      "4.61388777436297\n",
      "92\n"
     ]
    },
    {
     "name": "stderr",
     "output_type": "stream",
     "text": [
      " 75%|████████████████████████████████████████████████████▎                 | 74801/100000 [11:29:21<2:12:21,  3.17it/s]"
     ]
    },
    {
     "name": "stdout",
     "output_type": "stream",
     "text": [
      "5.135291760324044\n",
      "95\n",
      "[0.0, 0.8, 0.9, 0.9]\n",
      "tf.Tensor([[0.02056878 0.02011338 0.69098    0.2683378 ]], shape=(1, 4), dtype=float32)\n",
      "[0.3, 0.8, 0.9, 0.9]\n",
      "tf.Tensor([[0.00800854 0.01691922 0.7831417  0.19193058]], shape=(1, 4), dtype=float32)\n",
      "[0.6, 0.8, 0.9, 0.9]\n",
      "tf.Tensor([[0.00182936 0.07059498 0.88911265 0.03846303]], shape=(1, 4), dtype=float32)\n",
      "[0.9, 0.8, 0.9, 0.9]\n",
      "tf.Tensor([[1.7849161e-04 9.9950147e-01 2.9872684e-04 2.1327178e-05]], shape=(1, 4), dtype=float32)\n",
      "[0.9, 1.0, 0.9, 0.9]\n",
      "tf.Tensor([[9.9925846e-01 7.3119538e-04 1.0087373e-06 9.4184898e-06]], shape=(1, 4), dtype=float32)\n"
     ]
    },
    {
     "name": "stderr",
     "output_type": "stream",
     "text": [
      " 75%|████████████████████████████████████████████████████▍                 | 74902/100000 [11:29:58<2:05:49,  3.32it/s]"
     ]
    },
    {
     "name": "stdout",
     "output_type": "stream",
     "text": [
      "5.739501864903875\n",
      "94\n"
     ]
    },
    {
     "name": "stderr",
     "output_type": "stream",
     "text": [
      " 75%|████████████████████████████████████████████████████▌                 | 75001/100000 [11:30:36<2:39:28,  2.61it/s]"
     ]
    },
    {
     "name": "stdout",
     "output_type": "stream",
     "text": [
      "5.679354865503622\n",
      "95\n",
      "[0.7, 0.5, 0.1, 0.1]\n",
      "tf.Tensor([[0.02352732 0.02960353 0.6694506  0.27741858]], shape=(1, 4), dtype=float32)\n",
      "[0.4, 0.5, 0.1, 0.1]\n",
      "tf.Tensor([[0.00779267 0.02134412 0.778843   0.19202015]], shape=(1, 4), dtype=float32)\n",
      "[0.4, 0.2, 0.1, 0.1]\n",
      "tf.Tensor([[0.00376629 0.04328623 0.8967169  0.05623059]], shape=(1, 4), dtype=float32)\n",
      "[0.1, 0.2, 0.1, 0.1]\n",
      "tf.Tensor([[9.550018e-05 9.992865e-01 5.837294e-04 3.436056e-05]], shape=(1, 4), dtype=float32)\n",
      "[0.1, 0.0, 0.1, 0.1]\n",
      "tf.Tensor([[9.9840039e-01 1.5804446e-03 2.7899430e-06 1.6443884e-05]], shape=(1, 4), dtype=float32)\n"
     ]
    },
    {
     "name": "stderr",
     "output_type": "stream",
     "text": [
      " 75%|████████████████████████████████████████████████████▌                 | 75101/100000 [11:31:12<2:38:52,  2.61it/s]"
     ]
    },
    {
     "name": "stdout",
     "output_type": "stream",
     "text": [
      "5.947245626868485\n",
      "93\n"
     ]
    },
    {
     "name": "stderr",
     "output_type": "stream",
     "text": [
      " 75%|████████████████████████████████████████████████████▋                 | 75201/100000 [11:31:48<2:56:24,  2.34it/s]"
     ]
    },
    {
     "name": "stdout",
     "output_type": "stream",
     "text": [
      "5.455150458701948\n",
      "95\n",
      "[0.6, 0.9, 0.5, 0.3]\n",
      "tf.Tensor([[0.01153979 0.01976986 0.72432625 0.24436411]], shape=(1, 4), dtype=float32)\n",
      "[0.6, 0.6, 0.5, 0.3]\n",
      "tf.Tensor([[0.0046175  0.01753556 0.84719926 0.13064766]], shape=(1, 4), dtype=float32)\n",
      "[0.6, 0.3, 0.5, 0.3]\n",
      "tf.Tensor([[0.00238201 0.10681853 0.86082685 0.02997267]], shape=(1, 4), dtype=float32)\n",
      "[0.3, 0.3, 0.5, 0.3]\n",
      "tf.Tensor([[1.2282650e-04 9.9963391e-01 2.2719069e-04 1.5917341e-05]], shape=(1, 4), dtype=float32)\n"
     ]
    },
    {
     "name": "stderr",
     "output_type": "stream",
     "text": [
      " 75%|████████████████████████████████████████████████████▋                 | 75301/100000 [11:32:24<2:35:43,  2.64it/s]"
     ]
    },
    {
     "name": "stdout",
     "output_type": "stream",
     "text": [
      "5.159883488981779\n",
      "96\n"
     ]
    },
    {
     "name": "stderr",
     "output_type": "stream",
     "text": [
      " 75%|████████████████████████████████████████████████████▊                 | 75401/100000 [11:32:59<2:15:31,  3.02it/s]"
     ]
    },
    {
     "name": "stdout",
     "output_type": "stream",
     "text": [
      "6.1377527098312425\n",
      "96\n",
      "[0.2, 0.0, 0.5, 0.3]\n",
      "tf.Tensor([[0.0215431  0.02486245 0.6852072  0.26838732]], shape=(1, 4), dtype=float32)\n",
      "[0.2, 0.3, 0.5, 0.3]\n",
      "tf.Tensor([[0.0073195  0.01546108 0.8008948  0.17632459]], shape=(1, 4), dtype=float32)\n"
     ]
    },
    {
     "name": "stderr",
     "output_type": "stream",
     "text": [
      " 76%|████████████████████████████████████████████████████▊                 | 75501/100000 [11:33:34<2:42:55,  2.51it/s]"
     ]
    },
    {
     "name": "stdout",
     "output_type": "stream",
     "text": [
      "5.449447229870754\n",
      "93\n"
     ]
    },
    {
     "name": "stderr",
     "output_type": "stream",
     "text": [
      " 76%|████████████████████████████████████████████████████▉                 | 75601/100000 [11:34:12<2:41:46,  2.51it/s]"
     ]
    },
    {
     "name": "stdout",
     "output_type": "stream",
     "text": [
      "5.032354626743374\n",
      "94\n",
      "[0.7, 0.4, 0.5, 0.7]\n",
      "tf.Tensor([[0.01849465 0.0233401  0.6841418  0.27402347]], shape=(1, 4), dtype=float32)\n",
      "[0.7, 0.7, 0.5, 0.7]\n",
      "tf.Tensor([[0.0085978  0.02097589 0.7764278  0.19399853]], shape=(1, 4), dtype=float32)\n",
      "[0.4, 0.7, 0.5, 0.7]\n",
      "tf.Tensor([[0.00200357 0.02586323 0.92439485 0.04773827]], shape=(1, 4), dtype=float32)\n",
      "[0.7, 0.7, 0.5, 0.7]\n",
      "tf.Tensor([[9.4588562e-05 9.9927169e-01 5.9884379e-04 3.4926117e-05]], shape=(1, 4), dtype=float32)\n"
     ]
    },
    {
     "name": "stderr",
     "output_type": "stream",
     "text": [
      " 76%|████████████████████████████████████████████████████▉                 | 75701/100000 [11:34:48<2:35:15,  2.61it/s]"
     ]
    },
    {
     "name": "stdout",
     "output_type": "stream",
     "text": [
      "4.5035653237919675\n",
      "91\n"
     ]
    },
    {
     "name": "stderr",
     "output_type": "stream",
     "text": [
      " 76%|█████████████████████████████████████████████████████                 | 75801/100000 [11:35:25<2:28:38,  2.71it/s]"
     ]
    },
    {
     "name": "stdout",
     "output_type": "stream",
     "text": [
      "5.170130264383825\n",
      "91\n",
      "[0.3, 0.6, 0.5, 0.3]\n",
      "tf.Tensor([[0.01129316 0.01955269 0.717001   0.2521532 ]], shape=(1, 4), dtype=float32)\n",
      "[0.3, 0.3, 0.5, 0.3]\n",
      "tf.Tensor([[0.00528664 0.01310624 0.8124408  0.16916633]], shape=(1, 4), dtype=float32)\n",
      "[0.6, 0.3, 0.5, 0.3]\n",
      "tf.Tensor([[0.00232658 0.0280826  0.91330415 0.05628668]], shape=(1, 4), dtype=float32)\n",
      "[0.3, 0.3, 0.5, 0.3]\n",
      "tf.Tensor([[8.707825e-05 9.993937e-01 4.865720e-04 3.260266e-05]], shape=(1, 4), dtype=float32)\n"
     ]
    },
    {
     "name": "stderr",
     "output_type": "stream",
     "text": [
      " 76%|█████████████████████████████████████████████████████▏                | 75901/100000 [11:36:00<2:32:11,  2.64it/s]"
     ]
    },
    {
     "name": "stdout",
     "output_type": "stream",
     "text": [
      "4.941562977294268\n",
      "93\n"
     ]
    },
    {
     "name": "stderr",
     "output_type": "stream",
     "text": [
      " 76%|█████████████████████████████████████████████████████▏                | 76001/100000 [11:36:36<2:42:12,  2.47it/s]"
     ]
    },
    {
     "name": "stdout",
     "output_type": "stream",
     "text": [
      "5.1911104216757336\n",
      "90\n",
      "[0.3, 0.7, 0.5, 0.7]\n",
      "tf.Tensor([[0.01208144 0.01438021 0.7283527  0.24518564]], shape=(1, 4), dtype=float32)\n",
      "[0.6, 0.7, 0.5, 0.7]\n",
      "tf.Tensor([[0.00665764 0.01730018 0.7992387  0.17680347]], shape=(1, 4), dtype=float32)\n",
      "[0.3, 0.7, 0.5, 0.7]\n",
      "tf.Tensor([[0.00154326 0.03894697 0.9192526  0.04025718]], shape=(1, 4), dtype=float32)\n",
      "[0.6, 0.7, 0.5, 0.7]\n",
      "tf.Tensor([[1.21350466e-04 9.99475420e-01 3.78031196e-04 2.53133621e-05]], shape=(1, 4), dtype=float32)\n",
      "[0.4, 0.7, 0.5, 0.7]\n",
      "tf.Tensor([[9.9935955e-01 6.2877126e-04 1.0344085e-06 1.0588595e-05]], shape=(1, 4), dtype=float32)\n"
     ]
    },
    {
     "name": "stderr",
     "output_type": "stream",
     "text": [
      " 76%|█████████████████████████████████████████████████████▎                | 76101/100000 [11:37:10<2:22:30,  2.80it/s]"
     ]
    },
    {
     "name": "stdout",
     "output_type": "stream",
     "text": [
      "4.892038953791957\n",
      "94\n"
     ]
    },
    {
     "name": "stderr",
     "output_type": "stream",
     "text": [
      " 76%|█████████████████████████████████████████████████████▎                | 76201/100000 [11:37:46<2:29:58,  2.64it/s]"
     ]
    },
    {
     "name": "stdout",
     "output_type": "stream",
     "text": [
      "5.255439031620574\n",
      "93\n",
      "[0.4, 0.4, 0.1, 0.1]\n",
      "tf.Tensor([[0.01293533 0.01818617 0.7028041  0.26607445]], shape=(1, 4), dtype=float32)\n",
      "[0.4, 0.1, 0.1, 0.1]\n",
      "tf.Tensor([[0.01058306 0.01997019 0.7322621  0.23718476]], shape=(1, 4), dtype=float32)\n"
     ]
    },
    {
     "name": "stderr",
     "output_type": "stream",
     "text": [
      " 76%|█████████████████████████████████████████████████████▍                | 76301/100000 [11:38:21<1:51:51,  3.53it/s]"
     ]
    },
    {
     "name": "stdout",
     "output_type": "stream",
     "text": [
      "6.358269565381494\n",
      "97\n"
     ]
    },
    {
     "name": "stderr",
     "output_type": "stream",
     "text": [
      " 76%|█████████████████████████████████████████████████████▍                | 76401/100000 [11:38:55<2:22:54,  2.75it/s]"
     ]
    },
    {
     "name": "stdout",
     "output_type": "stream",
     "text": [
      "5.904694958565981\n",
      "97\n",
      "[0.2, 0.7, 0.5, 0.3]\n",
      "tf.Tensor([[0.01628098 0.01424166 0.69658786 0.2728894 ]], shape=(1, 4), dtype=float32)\n",
      "[0.5, 0.7, 0.5, 0.3]\n",
      "tf.Tensor([[0.00619642 0.0130618  0.7520021  0.22873963]], shape=(1, 4), dtype=float32)\n",
      "[0.5, 0.4, 0.5, 0.3]\n",
      "tf.Tensor([[0.00192398 0.0160858  0.9120116  0.06997852]], shape=(1, 4), dtype=float32)\n",
      "[0.5, 0.1, 0.5, 0.3]\n",
      "tf.Tensor([[9.9710524e-05 9.9856132e-01 1.2639681e-03 7.4967582e-05]], shape=(1, 4), dtype=float32)\n"
     ]
    },
    {
     "name": "stderr",
     "output_type": "stream",
     "text": [
      " 77%|█████████████████████████████████████████████████████▌                | 76501/100000 [11:39:33<2:16:32,  2.87it/s]"
     ]
    },
    {
     "name": "stdout",
     "output_type": "stream",
     "text": [
      "4.595480944815512\n",
      "86\n"
     ]
    },
    {
     "name": "stderr",
     "output_type": "stream",
     "text": [
      " 77%|█████████████████████████████████████████████████████▌                | 76601/100000 [11:40:09<2:45:03,  2.36it/s]"
     ]
    },
    {
     "name": "stdout",
     "output_type": "stream",
     "text": [
      "5.060754788247051\n",
      "87\n",
      "[0.2, 0.1, 0.9, 0.9]\n",
      "tf.Tensor([[0.02984889 0.02537006 0.63118154 0.3135995 ]], shape=(1, 4), dtype=float32)\n",
      "[0.2, 0.4, 0.9, 0.9]\n",
      "tf.Tensor([[0.01244665 0.01393253 0.7086426  0.26497817]], shape=(1, 4), dtype=float32)\n",
      "[0.5, 0.4, 0.9, 0.9]\n",
      "tf.Tensor([[0.00669641 0.01522458 0.7826746  0.19540441]], shape=(1, 4), dtype=float32)\n",
      "[0.5, 0.7, 0.9, 0.9]\n",
      "tf.Tensor([[0.00131884 0.855995   0.1363826  0.00630353]], shape=(1, 4), dtype=float32)\n",
      "[0.7, 0.7, 0.9, 0.9]\n",
      "tf.Tensor([[9.9919039e-01 7.9544081e-04 1.6876193e-06 1.2459809e-05]], shape=(1, 4), dtype=float32)\n",
      "[0.7, 0.8, 0.9, 0.9]\n",
      "tf.Tensor([[9.9986148e-01 1.3256386e-04 3.1522396e-07 5.6598265e-06]], shape=(1, 4), dtype=float32)\n",
      "[0.8, 0.8, 0.9, 0.9]\n",
      "tf.Tensor([[9.9984622e-01 1.4694109e-04 3.8022290e-07 6.4889732e-06]], shape=(1, 4), dtype=float32)\n",
      "[0.8, 0.9, 0.9, 0.9]\n",
      "tf.Tensor([[9.9986732e-01 1.2697958e-04 2.9564333e-07 5.4788643e-06]], shape=(1, 4), dtype=float32)\n"
     ]
    },
    {
     "name": "stderr",
     "output_type": "stream",
     "text": [
      " 77%|█████████████████████████████████████████████████████▋                | 76701/100000 [11:40:45<2:27:13,  2.64it/s]"
     ]
    },
    {
     "name": "stdout",
     "output_type": "stream",
     "text": [
      "5.413939787203172\n",
      "92\n"
     ]
    },
    {
     "name": "stderr",
     "output_type": "stream",
     "text": [
      " 77%|█████████████████████████████████████████████████████▊                | 76801/100000 [11:41:21<2:19:04,  2.78it/s]"
     ]
    },
    {
     "name": "stdout",
     "output_type": "stream",
     "text": [
      "5.87760857229525\n",
      "94\n",
      "[0.6, 0.1, 0.5, 0.7]\n",
      "tf.Tensor([[0.02520171 0.02308524 0.6402494  0.31146368]], shape=(1, 4), dtype=float32)\n",
      "[0.6, 0.4, 0.5, 0.7]\n",
      "tf.Tensor([[0.01298844 0.01749212 0.6936166  0.27590278]], shape=(1, 4), dtype=float32)\n",
      "[0.6, 0.7, 0.5, 0.7]\n",
      "tf.Tensor([[0.00545856 0.0191347  0.8401716  0.13523519]], shape=(1, 4), dtype=float32)\n",
      "[0.3, 0.7, 0.5, 0.7]\n",
      "tf.Tensor([[3.7975554e-04 9.9451375e-01 4.8351297e-03 2.7135582e-04]], shape=(1, 4), dtype=float32)\n"
     ]
    },
    {
     "name": "stderr",
     "output_type": "stream",
     "text": [
      " 77%|█████████████████████████████████████████████████████▊                | 76901/100000 [11:41:57<2:10:46,  2.94it/s]"
     ]
    },
    {
     "name": "stdout",
     "output_type": "stream",
     "text": [
      "5.977572384629617\n",
      "94\n"
     ]
    },
    {
     "name": "stderr",
     "output_type": "stream",
     "text": [
      " 77%|█████████████████████████████████████████████████████▉                | 77001/100000 [11:42:34<2:35:46,  2.46it/s]"
     ]
    },
    {
     "name": "stdout",
     "output_type": "stream",
     "text": [
      "5.566254468370656\n",
      "94\n",
      "[0.8, 0.9, 0.9, 0.9]\n",
      "tf.Tensor([[0.01233739 0.01317373 0.70693344 0.26755542]], shape=(1, 4), dtype=float32)\n",
      "[1.0, 0.9, 0.9, 0.9]\n",
      "tf.Tensor([[0.00615471 0.01444136 0.78788984 0.19151412]], shape=(1, 4), dtype=float32)\n",
      "[0.7, 0.9, 0.9, 0.9]\n",
      "tf.Tensor([[0.00137291 0.05037949 0.9144681  0.03377945]], shape=(1, 4), dtype=float32)\n",
      "[1.0, 0.9, 0.9, 0.9]\n",
      "tf.Tensor([[9.3240599e-04 9.9864954e-01 3.8835302e-04 2.9777975e-05]], shape=(1, 4), dtype=float32)\n",
      "[0.8, 0.9, 0.9, 0.9]\n",
      "tf.Tensor([[9.9980098e-01 1.9208362e-04 4.2431557e-07 6.4824389e-06]], shape=(1, 4), dtype=float32)\n"
     ]
    },
    {
     "name": "stderr",
     "output_type": "stream",
     "text": [
      " 77%|█████████████████████████████████████████████████████▉                | 77101/100000 [11:43:07<2:19:59,  2.73it/s]"
     ]
    },
    {
     "name": "stdout",
     "output_type": "stream",
     "text": [
      "6.457368211781952\n",
      "96\n"
     ]
    },
    {
     "name": "stderr",
     "output_type": "stream",
     "text": [
      " 77%|██████████████████████████████████████████████████████                | 77201/100000 [11:43:43<2:06:18,  3.01it/s]"
     ]
    },
    {
     "name": "stdout",
     "output_type": "stream",
     "text": [
      "6.078498382456715\n",
      "95\n",
      "[0.4, 0.7, 0.9, 0.1]\n",
      "tf.Tensor([[0.01490777 0.01335516 0.68449616 0.28724086]], shape=(1, 4), dtype=float32)\n",
      "[0.7, 0.7, 0.9, 0.1]\n",
      "tf.Tensor([[0.00502783 0.01172816 0.7649497  0.2182943 ]], shape=(1, 4), dtype=float32)\n",
      "[0.7, 0.4, 0.9, 0.1]\n",
      "tf.Tensor([[0.00133066 0.01761851 0.9295034  0.05154746]], shape=(1, 4), dtype=float32)\n",
      "[0.7, 0.1, 0.9, 0.1]\n",
      "tf.Tensor([[1.8659982e-04 9.9935824e-01 4.2015302e-04 3.4967605e-05]], shape=(1, 4), dtype=float32)\n"
     ]
    },
    {
     "name": "stderr",
     "output_type": "stream",
     "text": [
      " 77%|██████████████████████████████████████████████████████                | 77300/100000 [11:44:17<2:25:25,  2.60it/s]"
     ]
    },
    {
     "name": "stdout",
     "output_type": "stream",
     "text": [
      "6.114854971726871\n",
      "95\n"
     ]
    },
    {
     "name": "stderr",
     "output_type": "stream",
     "text": [
      " 77%|██████████████████████████████████████████████████████▏               | 77401/100000 [11:44:54<2:23:18,  2.63it/s]"
     ]
    },
    {
     "name": "stdout",
     "output_type": "stream",
     "text": [
      "5.169832845220614\n",
      "94\n",
      "[0.9, 0.0, 0.1, 0.1]\n",
      "tf.Tensor([[0.02601161 0.02475354 0.6244093  0.32482547]], shape=(1, 4), dtype=float32)\n",
      "[0.6, 0.0, 0.1, 0.1]\n",
      "tf.Tensor([[0.01618058 0.0215744  0.6634073  0.29883763]], shape=(1, 4), dtype=float32)\n",
      "[0.3, 0.0, 0.1, 0.1]\n",
      "tf.Tensor([[0.0079628  0.02360031 0.77980614 0.18863069]], shape=(1, 4), dtype=float32)\n",
      "[0.0, 0.0, 0.1, 0.1]\n",
      "tf.Tensor([[4.8667940e-04 9.9337065e-01 5.7848655e-03 3.5770462e-04]], shape=(1, 4), dtype=float32)\n",
      "[0.2, 0.0, 0.1, 0.1]\n",
      "tf.Tensor([[9.99491572e-01 4.93277446e-04 1.58830437e-06 1.35823075e-05]], shape=(1, 4), dtype=float32)\n",
      "[0.1, 0.0, 0.1, 0.1]\n",
      "tf.Tensor([[9.9980277e-01 1.8788665e-04 6.2958992e-07 8.7986618e-06]], shape=(1, 4), dtype=float32)\n"
     ]
    },
    {
     "name": "stderr",
     "output_type": "stream",
     "text": [
      " 78%|██████████████████████████████████████████████████████▎               | 77501/100000 [11:45:30<2:33:44,  2.44it/s]"
     ]
    },
    {
     "name": "stdout",
     "output_type": "stream",
     "text": [
      "5.369196293073343\n",
      "96\n"
     ]
    },
    {
     "name": "stderr",
     "output_type": "stream",
     "text": [
      " 78%|██████████████████████████████████████████████████████▎               | 77601/100000 [11:46:05<2:21:53,  2.63it/s]"
     ]
    },
    {
     "name": "stdout",
     "output_type": "stream",
     "text": [
      "6.185923529256375\n",
      "99\n",
      "[0.7, 0.3, 0.1, 0.9]\n",
      "tf.Tensor([[0.02492645 0.02055273 0.6136635  0.34085733]], shape=(1, 4), dtype=float32)\n",
      "[0.7, 0.6, 0.1, 0.9]\n",
      "tf.Tensor([[0.01277243 0.01789986 0.6689679  0.3003598 ]], shape=(1, 4), dtype=float32)\n",
      "[0.4, 0.6, 0.1, 0.9]\n",
      "tf.Tensor([[0.00477606 0.01887964 0.83898926 0.13735507]], shape=(1, 4), dtype=float32)\n",
      "[0.4, 0.9, 0.1, 0.9]\n",
      "tf.Tensor([[3.72259121e-04 9.98001516e-01 1.52468740e-03 1.01510195e-04]], shape=(1, 4), dtype=float32)\n",
      "[0.2, 0.9, 0.1, 0.9]\n",
      "tf.Tensor([[9.9965119e-01 3.3765472e-04 9.3806483e-07 1.0260127e-05]], shape=(1, 4), dtype=float32)\n"
     ]
    },
    {
     "name": "stderr",
     "output_type": "stream",
     "text": [
      " 78%|██████████████████████████████████████████████████████▍               | 77701/100000 [11:46:41<2:09:43,  2.86it/s]"
     ]
    },
    {
     "name": "stdout",
     "output_type": "stream",
     "text": [
      "5.232034378281916\n",
      "95\n"
     ]
    },
    {
     "name": "stderr",
     "output_type": "stream",
     "text": [
      " 78%|██████████████████████████████████████████████████████▍               | 77801/100000 [11:47:17<2:25:48,  2.54it/s]"
     ]
    },
    {
     "name": "stdout",
     "output_type": "stream",
     "text": [
      "5.147225724502794\n",
      "93\n",
      "[0.1, 0.4, 0.1, 0.1]\n",
      "tf.Tensor([[0.01667486 0.02025616 0.64665204 0.31641698]], shape=(1, 4), dtype=float32)\n"
     ]
    },
    {
     "name": "stderr",
     "output_type": "stream",
     "text": [
      " 78%|██████████████████████████████████████████████████████▌               | 77901/100000 [11:47:52<2:17:44,  2.67it/s]"
     ]
    },
    {
     "name": "stdout",
     "output_type": "stream",
     "text": [
      "4.557616754291014\n",
      "89\n"
     ]
    },
    {
     "name": "stderr",
     "output_type": "stream",
     "text": [
      " 78%|██████████████████████████████████████████████████████▌               | 78001/100000 [11:48:29<2:29:34,  2.45it/s]"
     ]
    },
    {
     "name": "stdout",
     "output_type": "stream",
     "text": [
      "3.8809022221885545\n",
      "91\n",
      "[0.2, 0.0, 0.9, 0.1]\n",
      "tf.Tensor([[0.01500944 0.01646259 0.67334425 0.29518378]], shape=(1, 4), dtype=float32)\n",
      "[0.5, 0.0, 0.9, 0.1]\n",
      "tf.Tensor([[0.00598482 0.01316837 0.7614523  0.2193945 ]], shape=(1, 4), dtype=float32)\n",
      "[0.8, 0.0, 0.9, 0.1]\n",
      "tf.Tensor([[0.00142295 0.022355   0.9235374  0.05268468]], shape=(1, 4), dtype=float32)\n",
      "[1.0, 0.0, 0.9, 0.1]\n",
      "tf.Tensor([[2.0936494e-04 9.9907923e-01 6.5290387e-04 5.8509100e-05]], shape=(1, 4), dtype=float32)\n",
      "[0.8, 0.0, 0.9, 0.1]\n",
      "tf.Tensor([[9.9967241e-01 3.1727494e-04 7.1617507e-07 9.6259973e-06]], shape=(1, 4), dtype=float32)\n",
      "[0.9, 0.0, 0.9, 0.1]\n",
      "tf.Tensor([[9.9982065e-01 1.7024444e-04 4.8084587e-07 8.7177505e-06]], shape=(1, 4), dtype=float32)\n"
     ]
    },
    {
     "name": "stderr",
     "output_type": "stream",
     "text": [
      " 78%|██████████████████████████████████████████████████████▋               | 78101/100000 [11:49:04<2:11:25,  2.78it/s]"
     ]
    },
    {
     "name": "stdout",
     "output_type": "stream",
     "text": [
      "6.106959581967691\n",
      "96\n"
     ]
    },
    {
     "name": "stderr",
     "output_type": "stream",
     "text": [
      " 78%|██████████████████████████████████████████████████████▋               | 78201/100000 [11:49:41<2:18:50,  2.62it/s]"
     ]
    },
    {
     "name": "stdout",
     "output_type": "stream",
     "text": [
      "5.899205437121832\n",
      "96\n",
      "[0.0, 0.7, 0.1, 0.1]\n",
      "tf.Tensor([[0.01541578 0.02048326 0.6414769  0.32262394]], shape=(1, 4), dtype=float32)\n",
      "[0.0, 0.4, 0.1, 0.1]\n",
      "tf.Tensor([[0.00754992 0.01689965 0.7005783  0.27497214]], shape=(1, 4), dtype=float32)\n",
      "[0.0, 0.1, 0.1, 0.1]\n",
      "tf.Tensor([[0.00247435 0.01446913 0.8886368  0.09441975]], shape=(1, 4), dtype=float32)\n",
      "[0.3, 0.1, 0.1, 0.1]\n",
      "tf.Tensor([[1.7194958e-04 9.9650228e-01 3.1565744e-03 1.6927939e-04]], shape=(1, 4), dtype=float32)\n"
     ]
    },
    {
     "name": "stderr",
     "output_type": "stream",
     "text": [
      " 78%|██████████████████████████████████████████████████████▊               | 78301/100000 [11:50:18<2:09:39,  2.79it/s]"
     ]
    },
    {
     "name": "stdout",
     "output_type": "stream",
     "text": [
      "6.039546992389538\n",
      "95\n"
     ]
    },
    {
     "name": "stderr",
     "output_type": "stream",
     "text": [
      " 78%|██████████████████████████████████████████████████████▉               | 78401/100000 [11:50:53<2:25:41,  2.47it/s]"
     ]
    },
    {
     "name": "stdout",
     "output_type": "stream",
     "text": [
      "5.51512954889986\n",
      "94\n",
      "[0.8, 0.8, 0.9, 0.1]\n",
      "tf.Tensor([[0.00774464 0.01733073 0.61579835 0.35912633]], shape=(1, 4), dtype=float32)\n",
      "[0.8, 0.5, 0.9, 0.1]\n",
      "tf.Tensor([[0.00280796 0.01691013 0.77702504 0.20325677]], shape=(1, 4), dtype=float32)\n",
      "[0.8, 0.2, 0.9, 0.1]\n",
      "tf.Tensor([[0.0012906  0.29131225 0.6768789  0.03051819]], shape=(1, 4), dtype=float32)\n",
      "[1.0, 0.2, 0.9, 0.1]\n",
      "tf.Tensor([[1.1524512e-03 9.9867404e-01 1.5016827e-04 2.3462437e-05]], shape=(1, 4), dtype=float32)\n",
      "[1.0, 0.0, 0.9, 0.1]\n",
      "tf.Tensor([[9.9966490e-01 3.2277667e-04 7.7798074e-07 1.1404674e-05]], shape=(1, 4), dtype=float32)\n",
      "[0.9, 0.0, 0.9, 0.1]\n",
      "tf.Tensor([[9.9977595e-01 2.1407392e-04 5.2258883e-07 9.5128944e-06]], shape=(1, 4), dtype=float32)\n"
     ]
    },
    {
     "name": "stderr",
     "output_type": "stream",
     "text": [
      " 79%|██████████████████████████████████████████████████████▉               | 78501/100000 [11:51:29<2:24:56,  2.47it/s]"
     ]
    },
    {
     "name": "stdout",
     "output_type": "stream",
     "text": [
      "5.134322801241306\n",
      "95\n"
     ]
    },
    {
     "name": "stderr",
     "output_type": "stream",
     "text": [
      " 79%|███████████████████████████████████████████████████████               | 78601/100000 [11:52:04<2:23:40,  2.48it/s]"
     ]
    },
    {
     "name": "stdout",
     "output_type": "stream",
     "text": [
      "5.286586972143503\n",
      "95\n",
      "[0.7, 0.3, 0.1, 0.1]\n",
      "tf.Tensor([[0.01686417 0.02393542 0.5886246  0.37057585]], shape=(1, 4), dtype=float32)\n",
      "[0.4, 0.3, 0.1, 0.1]\n",
      "tf.Tensor([[0.00875471 0.02059356 0.6370358  0.333616  ]], shape=(1, 4), dtype=float32)\n",
      "[0.1, 0.3, 0.1, 0.1]\n",
      "tf.Tensor([[0.0019887  0.02784051 0.868356   0.10181484]], shape=(1, 4), dtype=float32)\n",
      "[0.1, 0.0, 0.1, 0.1]\n",
      "tf.Tensor([[1.5881239e-04 9.9904436e-01 7.3997915e-04 5.6894409e-05]], shape=(1, 4), dtype=float32)\n",
      "[0.1, 0.2, 0.1, 0.1]\n",
      "tf.Tensor([[9.9960417e-01 3.8456207e-04 8.4211632e-07 1.0479412e-05]], shape=(1, 4), dtype=float32)\n"
     ]
    },
    {
     "name": "stderr",
     "output_type": "stream",
     "text": [
      " 79%|███████████████████████████████████████████████████████               | 78701/100000 [11:52:40<2:09:13,  2.75it/s]"
     ]
    },
    {
     "name": "stdout",
     "output_type": "stream",
     "text": [
      "4.977804011052982\n",
      "95\n"
     ]
    },
    {
     "name": "stderr",
     "output_type": "stream",
     "text": [
      " 79%|███████████████████████████████████████████████████████▏              | 78801/100000 [11:53:16<2:05:15,  2.82it/s]"
     ]
    },
    {
     "name": "stdout",
     "output_type": "stream",
     "text": [
      "5.506020257306344\n",
      "96\n",
      "[0.9, 0.9, 0.1, 0.9]\n",
      "tf.Tensor([[0.01027919 0.01892444 0.6305102  0.34028617]], shape=(1, 4), dtype=float32)\n",
      "[0.6, 0.9, 0.1, 0.9]\n",
      "tf.Tensor([[0.00398793 0.0188776  0.7778557  0.1992788 ]], shape=(1, 4), dtype=float32)\n",
      "[0.3, 0.9, 0.1, 0.9]\n",
      "tf.Tensor([[0.00146176 0.67139286 0.31142145 0.0157239 ]], shape=(1, 4), dtype=float32)\n"
     ]
    },
    {
     "name": "stderr",
     "output_type": "stream",
     "text": [
      " 79%|███████████████████████████████████████████████████████▏              | 78900/100000 [11:53:53<2:07:40,  2.75it/s]"
     ]
    },
    {
     "name": "stdout",
     "output_type": "stream",
     "text": [
      "5.687700647348698\n",
      "97\n"
     ]
    },
    {
     "name": "stderr",
     "output_type": "stream",
     "text": [
      " 79%|███████████████████████████████████████████████████████▎              | 79001/100000 [11:54:28<2:19:34,  2.51it/s]"
     ]
    },
    {
     "name": "stdout",
     "output_type": "stream",
     "text": [
      "6.067032901952255\n",
      "97\n",
      "[0.6, 0.6, 0.9, 0.1]\n",
      "tf.Tensor([[0.00825392 0.01677986 0.6195882  0.35537812]], shape=(1, 4), dtype=float32)\n",
      "[0.6, 0.3, 0.9, 0.1]\n",
      "tf.Tensor([[0.00325383 0.0126773  0.76479304 0.21927586]], shape=(1, 4), dtype=float32)\n",
      "[0.9, 0.3, 0.9, 0.1]\n",
      "tf.Tensor([[8.0060971e-04 1.2843029e-01 8.3368510e-01 3.7083961e-02]], shape=(1, 4), dtype=float32)\n",
      "[0.9, 0.0, 0.9, 0.1]\n",
      "tf.Tensor([[7.3616195e-04 9.9903905e-01 1.9636116e-04 2.8517283e-05]], shape=(1, 4), dtype=float32)\n",
      "[0.9, 0.2, 0.9, 0.1]\n",
      "tf.Tensor([[9.9970120e-01 2.8882377e-04 5.2804830e-07 9.3722956e-06]], shape=(1, 4), dtype=float32)\n"
     ]
    },
    {
     "name": "stderr",
     "output_type": "stream",
     "text": [
      " 79%|███████████████████████████████████████████████████████▎              | 79101/100000 [11:55:04<1:49:29,  3.18it/s]"
     ]
    },
    {
     "name": "stdout",
     "output_type": "stream",
     "text": [
      "5.892365254494463\n",
      "93\n"
     ]
    },
    {
     "name": "stderr",
     "output_type": "stream",
     "text": [
      " 79%|███████████████████████████████████████████████████████▍              | 79201/100000 [11:55:40<2:06:38,  2.74it/s]"
     ]
    },
    {
     "name": "stdout",
     "output_type": "stream",
     "text": [
      "5.330996252992535\n",
      "92\n",
      "[0.3, 0.9, 0.1, 0.1]\n",
      "tf.Tensor([[0.00978404 0.01703046 0.6185486  0.3546369 ]], shape=(1, 4), dtype=float32)\n",
      "[0.3, 0.6, 0.1, 0.1]\n",
      "tf.Tensor([[0.00402736 0.01396714 0.6932526  0.2887528 ]], shape=(1, 4), dtype=float32)\n",
      "[0.3, 0.3, 0.1, 0.1]\n",
      "tf.Tensor([[0.001111   0.02495161 0.905816   0.0681214 ]], shape=(1, 4), dtype=float32)\n",
      "[0.3, 0.0, 0.1, 0.1]\n",
      "tf.Tensor([[1.5831977e-04 9.9942881e-01 3.7414083e-04 3.8692546e-05]], shape=(1, 4), dtype=float32)\n",
      "[0.1, 0.0, 0.1, 0.1]\n",
      "tf.Tensor([[9.9958354e-01 4.0287845e-04 9.4306824e-07 1.2588522e-05]], shape=(1, 4), dtype=float32)\n"
     ]
    },
    {
     "name": "stderr",
     "output_type": "stream",
     "text": [
      " 79%|███████████████████████████████████████████████████████▌              | 79301/100000 [11:56:16<2:02:00,  2.83it/s]"
     ]
    },
    {
     "name": "stdout",
     "output_type": "stream",
     "text": [
      "5.140335273605865\n",
      "93\n"
     ]
    },
    {
     "name": "stderr",
     "output_type": "stream",
     "text": [
      " 79%|███████████████████████████████████████████████████████▌              | 79401/100000 [11:56:52<2:12:21,  2.59it/s]"
     ]
    },
    {
     "name": "stdout",
     "output_type": "stream",
     "text": [
      "5.104339995696475\n",
      "94\n",
      "[0.2, 0.8, 0.1, 0.1]\n",
      "tf.Tensor([[0.01078653 0.01803526 0.6074056  0.36377263]], shape=(1, 4), dtype=float32)\n",
      "[0.2, 0.5, 0.1, 0.1]\n",
      "tf.Tensor([[0.00481155 0.01454113 0.66916347 0.31148386]], shape=(1, 4), dtype=float32)\n",
      "[0.2, 0.2, 0.1, 0.1]\n",
      "tf.Tensor([[0.00141877 0.02158652 0.88151675 0.0954779 ]], shape=(1, 4), dtype=float32)\n",
      "[0.2, 0.0, 0.1, 0.1]\n",
      "tf.Tensor([[1.2407053e-04 9.9930692e-01 5.1687058e-04 5.2074065e-05]], shape=(1, 4), dtype=float32)\n",
      "[0.0, 0.0, 0.1, 0.1]\n",
      "tf.Tensor([[9.9956566e-01 4.2060210e-04 9.8709609e-07 1.2780291e-05]], shape=(1, 4), dtype=float32)\n",
      "[0.0, 0.1, 0.1, 0.1]\n",
      "tf.Tensor([[9.9979776e-01 1.9370015e-04 4.2551005e-07 8.0827322e-06]], shape=(1, 4), dtype=float32)\n"
     ]
    },
    {
     "name": "stderr",
     "output_type": "stream",
     "text": [
      " 80%|███████████████████████████████████████████████████████▋              | 79501/100000 [11:57:27<1:37:32,  3.50it/s]"
     ]
    },
    {
     "name": "stdout",
     "output_type": "stream",
     "text": [
      "5.252779338071446\n",
      "94\n"
     ]
    },
    {
     "name": "stderr",
     "output_type": "stream",
     "text": [
      " 80%|███████████████████████████████████████████████████████▋              | 79601/100000 [11:58:05<2:17:20,  2.48it/s]"
     ]
    },
    {
     "name": "stdout",
     "output_type": "stream",
     "text": [
      "5.018443552391053\n",
      "89\n",
      "[0.8, 0.7, 0.5, 0.3]\n",
      "tf.Tensor([[0.00761974 0.01637525 0.62800324 0.34800178]], shape=(1, 4), dtype=float32)\n",
      "[0.8, 0.4, 0.5, 0.3]\n",
      "tf.Tensor([[0.00515473 0.01747463 0.7086705  0.2687001 ]], shape=(1, 4), dtype=float32)\n",
      "[0.5, 0.4, 0.5, 0.3]\n",
      "tf.Tensor([[0.00091947 0.03451274 0.9129778  0.05158999]], shape=(1, 4), dtype=float32)\n",
      "[0.5, 0.1, 0.5, 0.3]\n",
      "tf.Tensor([[2.2661802e-04 9.9942952e-01 3.1440001e-04 2.9479666e-05]], shape=(1, 4), dtype=float32)\n"
     ]
    },
    {
     "name": "stderr",
     "output_type": "stream",
     "text": [
      " 80%|███████████████████████████████████████████████████████▊              | 79701/100000 [11:58:40<2:02:53,  2.75it/s]"
     ]
    },
    {
     "name": "stdout",
     "output_type": "stream",
     "text": [
      "5.5563110099724105\n",
      "92\n"
     ]
    },
    {
     "name": "stderr",
     "output_type": "stream",
     "text": [
      " 80%|███████████████████████████████████████████████████████▊              | 79801/100000 [11:59:16<2:06:15,  2.67it/s]"
     ]
    },
    {
     "name": "stdout",
     "output_type": "stream",
     "text": [
      "5.998875079108574\n",
      "99\n",
      "[0.9, 0.6, 0.9, 0.1]\n",
      "tf.Tensor([[0.00876308 0.0166408  0.62373537 0.35086074]], shape=(1, 4), dtype=float32)\n",
      "[0.9, 0.3, 0.9, 0.1]\n",
      "tf.Tensor([[0.00317625 0.01361739 0.7461624  0.23704387]], shape=(1, 4), dtype=float32)\n",
      "[0.9, 0.0, 0.9, 0.1]\n",
      "tf.Tensor([[0.00137541 0.02461769 0.91152155 0.06248532]], shape=(1, 4), dtype=float32)\n",
      "[0.9, 0.3, 0.9, 0.1]\n",
      "tf.Tensor([[1.7588498e-04 9.9957579e-01 2.2480053e-04 2.3447950e-05]], shape=(1, 4), dtype=float32)\n"
     ]
    },
    {
     "name": "stderr",
     "output_type": "stream",
     "text": [
      " 80%|███████████████████████████████████████████████████████▉              | 79901/100000 [11:59:53<2:04:09,  2.70it/s]"
     ]
    },
    {
     "name": "stdout",
     "output_type": "stream",
     "text": [
      "5.3825664968369455\n",
      "93\n"
     ]
    },
    {
     "name": "stderr",
     "output_type": "stream",
     "text": [
      " 80%|████████████████████████████████████████████████████████              | 80001/100000 [12:00:28<2:00:20,  2.77it/s]"
     ]
    },
    {
     "name": "stdout",
     "output_type": "stream",
     "text": [
      "5.9732971177551875\n",
      "95\n",
      "[0.1, 0.8, 0.5, 0.7]\n",
      "tf.Tensor([[0.00982306 0.01524848 0.63868564 0.33624285]], shape=(1, 4), dtype=float32)\n",
      "[0.4, 0.8, 0.5, 0.7]\n",
      "tf.Tensor([[0.00323559 0.01192613 0.74377006 0.24106826]], shape=(1, 4), dtype=float32)\n",
      "[0.7, 0.8, 0.5, 0.7]\n",
      "tf.Tensor([[8.7938376e-04 3.7982777e-02 9.0982991e-01 5.1307973e-02]], shape=(1, 4), dtype=float32)\n",
      "[0.4, 0.8, 0.5, 0.7]\n",
      "tf.Tensor([[7.3942669e-05 9.9969375e-01 2.1609679e-04 1.6334747e-05]], shape=(1, 4), dtype=float32)\n",
      "[0.6, 0.8, 0.5, 0.7]\n",
      "tf.Tensor([[9.9963605e-01 3.5321669e-04 6.0912362e-07 1.0127373e-05]], shape=(1, 4), dtype=float32)\n",
      "[0.6, 0.7, 0.5, 0.7]\n",
      "tf.Tensor([[9.99756396e-01 2.32551625e-04 5.56689656e-07 1.04656465e-05]], shape=(1, 4), dtype=float32)\n"
     ]
    },
    {
     "name": "stderr",
     "output_type": "stream",
     "text": [
      " 80%|████████████████████████████████████████████████████████              | 80101/100000 [12:01:03<1:56:53,  2.84it/s]"
     ]
    },
    {
     "name": "stdout",
     "output_type": "stream",
     "text": [
      "5.953828637334003\n",
      "97\n"
     ]
    },
    {
     "name": "stderr",
     "output_type": "stream",
     "text": [
      " 80%|████████████████████████████████████████████████████████▏             | 80201/100000 [12:01:38<1:36:53,  3.41it/s]"
     ]
    },
    {
     "name": "stdout",
     "output_type": "stream",
     "text": [
      "6.403286068068064\n",
      "98\n",
      "[0.4, 0.8, 0.5, 0.7]\n",
      "tf.Tensor([[0.00793421 0.01449804 0.64335996 0.3342078 ]], shape=(1, 4), dtype=float32)\n",
      "[0.7, 0.8, 0.5, 0.7]\n",
      "tf.Tensor([[0.0036667  0.01688101 0.7656244  0.21382791]], shape=(1, 4), dtype=float32)\n",
      "[0.4, 0.8, 0.5, 0.7]\n",
      "tf.Tensor([[7.52628199e-04 1.05064556e-01 8.61164153e-01 3.30186263e-02]], shape=(1, 4), dtype=float32)\n",
      "[0.7, 0.8, 0.5, 0.7]\n",
      "tf.Tensor([[9.6867385e-05 9.9968803e-01 2.0049006e-04 1.4599649e-05]], shape=(1, 4), dtype=float32)\n",
      "[0.5, 0.8, 0.5, 0.7]\n",
      "tf.Tensor([[9.9926573e-01 7.1830128e-04 1.0389915e-06 1.4887047e-05]], shape=(1, 4), dtype=float32)\n"
     ]
    },
    {
     "name": "stderr",
     "output_type": "stream",
     "text": [
      " 80%|████████████████████████████████████████████████████████▏             | 80301/100000 [12:02:12<1:40:50,  3.26it/s]"
     ]
    },
    {
     "name": "stdout",
     "output_type": "stream",
     "text": [
      "5.646049098202692\n",
      "94\n"
     ]
    },
    {
     "name": "stderr",
     "output_type": "stream",
     "text": [
      " 80%|████████████████████████████████████████████████████████▎             | 80401/100000 [12:02:48<2:02:21,  2.67it/s]"
     ]
    },
    {
     "name": "stdout",
     "output_type": "stream",
     "text": [
      "5.7929714275293005\n",
      "92\n",
      "[0.2, 0.2, 0.9, 0.9]\n",
      "tf.Tensor([[0.00999    0.01669136 0.6084971  0.3648216 ]], shape=(1, 4), dtype=float32)\n",
      "[0.5, 0.2, 0.9, 0.9]\n",
      "tf.Tensor([[0.00568541 0.01677675 0.64433175 0.3332061 ]], shape=(1, 4), dtype=float32)\n",
      "[0.5, 0.5, 0.9, 0.9]\n",
      "tf.Tensor([[0.00179105 0.02021861 0.8532008  0.12478961]], shape=(1, 4), dtype=float32)\n",
      "[0.5, 0.8, 0.9, 0.9]\n",
      "tf.Tensor([[4.6814945e-05 9.9934870e-01 5.6267530e-04 4.1842122e-05]], shape=(1, 4), dtype=float32)\n",
      "[0.7, 0.8, 0.9, 0.9]\n",
      "tf.Tensor([[9.9862325e-01 1.3578263e-03 1.6415735e-06 1.7222839e-05]], shape=(1, 4), dtype=float32)\n",
      "[0.8, 0.8, 0.9, 0.9]\n",
      "tf.Tensor([[9.9958664e-01 4.0094001e-04 6.1600946e-07 1.1740366e-05]], shape=(1, 4), dtype=float32)\n",
      "[0.9, 0.8, 0.9, 0.9]\n",
      "tf.Tensor([[9.9952281e-01 4.6265111e-04 7.7509623e-07 1.3733853e-05]], shape=(1, 4), dtype=float32)\n"
     ]
    },
    {
     "name": "stderr",
     "output_type": "stream",
     "text": [
      " 81%|████████████████████████████████████████████████████████▎             | 80501/100000 [12:03:24<2:03:18,  2.64it/s]"
     ]
    },
    {
     "name": "stdout",
     "output_type": "stream",
     "text": [
      "5.502676821579416\n",
      "95\n"
     ]
    },
    {
     "name": "stderr",
     "output_type": "stream",
     "text": [
      " 81%|████████████████████████████████████████████████████████▍             | 80601/100000 [12:03:58<2:10:46,  2.47it/s]"
     ]
    },
    {
     "name": "stdout",
     "output_type": "stream",
     "text": [
      "5.874380646849071\n",
      "97\n",
      "[0.4, 0.4, 0.9, 0.9]\n",
      "tf.Tensor([[0.01022513 0.01879963 0.5970419  0.37393332]], shape=(1, 4), dtype=float32)\n",
      "[0.4, 0.7, 0.9, 0.9]\n",
      "tf.Tensor([[0.00282962 0.0116046  0.73425835 0.25130746]], shape=(1, 4), dtype=float32)\n",
      "[0.7, 0.7, 0.9, 0.9]\n",
      "tf.Tensor([[8.8034139e-04 2.1051172e-02 9.0960497e-01 6.8463512e-02]], shape=(1, 4), dtype=float32)\n",
      "[0.7, 1.0, 0.9, 0.9]\n",
      "tf.Tensor([[4.2714186e-05 9.9964178e-01 2.9405518e-04 2.1500438e-05]], shape=(1, 4), dtype=float32)\n",
      "[0.9, 1.0, 0.9, 0.9]\n",
      "tf.Tensor([[9.9885380e-01 1.1275180e-03 1.3966269e-06 1.7266768e-05]], shape=(1, 4), dtype=float32)\n"
     ]
    },
    {
     "name": "stderr",
     "output_type": "stream",
     "text": [
      " 81%|████████████████████████████████████████████████████████▍             | 80701/100000 [12:04:35<2:05:26,  2.56it/s]"
     ]
    },
    {
     "name": "stdout",
     "output_type": "stream",
     "text": [
      "4.7265101714186795\n",
      "91\n"
     ]
    },
    {
     "name": "stderr",
     "output_type": "stream",
     "text": [
      " 81%|████████████████████████████████████████████████████████▌             | 80801/100000 [12:05:11<1:58:33,  2.70it/s]"
     ]
    },
    {
     "name": "stdout",
     "output_type": "stream",
     "text": [
      "4.858363613005687\n",
      "93\n",
      "[0.8, 0.4, 0.5, 0.7]\n",
      "tf.Tensor([[0.00763484 0.01890577 0.6134163  0.36004305]], shape=(1, 4), dtype=float32)\n",
      "[0.8, 0.7, 0.5, 0.7]\n",
      "tf.Tensor([[0.00323566 0.0187721  0.75073683 0.2272554 ]], shape=(1, 4), dtype=float32)\n"
     ]
    },
    {
     "name": "stderr",
     "output_type": "stream",
     "text": [
      " 81%|████████████████████████████████████████████████████████▋             | 80901/100000 [12:05:47<2:17:54,  2.31it/s]"
     ]
    },
    {
     "name": "stdout",
     "output_type": "stream",
     "text": [
      "5.050777114363973\n",
      "96\n"
     ]
    },
    {
     "name": "stderr",
     "output_type": "stream",
     "text": [
      " 81%|████████████████████████████████████████████████████████▋             | 81001/100000 [12:06:22<1:59:43,  2.64it/s]"
     ]
    },
    {
     "name": "stdout",
     "output_type": "stream",
     "text": [
      "5.371836109572034\n",
      "91\n",
      "[0.2, 0.9, 0.5, 0.3]\n",
      "tf.Tensor([[0.00348547 0.02466813 0.6636465  0.3081999 ]], shape=(1, 4), dtype=float32)\n",
      "[0.2, 0.6, 0.5, 0.3]\n",
      "tf.Tensor([[0.00116754 0.03536526 0.8724873  0.09097981]], shape=(1, 4), dtype=float32)\n",
      "[0.5, 0.6, 0.5, 0.3]\n",
      "tf.Tensor([[6.6242690e-05 9.9388969e-01 5.6767687e-03 3.6731982e-04]], shape=(1, 4), dtype=float32)\n",
      "[0.5, 0.4, 0.5, 0.3]\n",
      "tf.Tensor([[4.9747843e-03 9.9489009e-01 1.0250585e-04 3.2621014e-05]], shape=(1, 4), dtype=float32)\n",
      "[0.5, 0.2, 0.5, 0.3]\n",
      "tf.Tensor([[9.9919742e-01 7.8219979e-04 1.2937073e-06 1.9030082e-05]], shape=(1, 4), dtype=float32)\n"
     ]
    },
    {
     "name": "stderr",
     "output_type": "stream",
     "text": [
      " 81%|████████████████████████████████████████████████████████▊             | 81101/100000 [12:06:59<2:06:42,  2.49it/s]"
     ]
    },
    {
     "name": "stdout",
     "output_type": "stream",
     "text": [
      "4.37624717524301\n",
      "85\n"
     ]
    },
    {
     "name": "stderr",
     "output_type": "stream",
     "text": [
      " 81%|████████████████████████████████████████████████████████▊             | 81201/100000 [12:07:34<1:46:46,  2.93it/s]"
     ]
    },
    {
     "name": "stdout",
     "output_type": "stream",
     "text": [
      "5.085652950749112\n",
      "87\n",
      "[0.9, 0.0, 0.1, 0.1]\n",
      "tf.Tensor([[0.00636584 0.03333762 0.6494869  0.31080955]], shape=(1, 4), dtype=float32)\n",
      "[0.6, 0.0, 0.1, 0.1]\n",
      "tf.Tensor([[0.00294931 0.05449751 0.8054147  0.1371385 ]], shape=(1, 4), dtype=float32)\n",
      "[0.3, 0.0, 0.1, 0.1]\n",
      "tf.Tensor([[3.8083366e-04 9.5909411e-01 3.7985940e-02 2.5390810e-03]], shape=(1, 4), dtype=float32)\n",
      "[0.1, 0.0, 0.1, 0.1]\n",
      "tf.Tensor([[1.1778234e-04 9.9968791e-01 1.7848985e-04 1.5877720e-05]], shape=(1, 4), dtype=float32)\n",
      "[0.1, 0.2, 0.1, 0.1]\n",
      "tf.Tensor([[9.9842513e-01 1.5477166e-03 2.4025710e-06 2.4720885e-05]], shape=(1, 4), dtype=float32)\n"
     ]
    },
    {
     "name": "stderr",
     "output_type": "stream",
     "text": [
      " 81%|████████████████████████████████████████████████████████▉             | 81301/100000 [12:08:10<1:55:05,  2.71it/s]"
     ]
    },
    {
     "name": "stdout",
     "output_type": "stream",
     "text": [
      "4.346507835617693\n",
      "85\n"
     ]
    },
    {
     "name": "stderr",
     "output_type": "stream",
     "text": [
      " 81%|████████████████████████████████████████████████████████▉             | 81401/100000 [12:08:48<1:38:51,  3.14it/s]"
     ]
    },
    {
     "name": "stdout",
     "output_type": "stream",
     "text": [
      "5.340634276745255\n",
      "88\n",
      "[0.5, 0.4, 0.5, 0.3]\n",
      "tf.Tensor([[0.0030533  0.02450227 0.7148029  0.25764158]], shape=(1, 4), dtype=float32)\n",
      "[0.5, 0.1, 0.5, 0.3]\n",
      "tf.Tensor([[0.00169725 0.03174376 0.8574711  0.10908791]], shape=(1, 4), dtype=float32)\n",
      "[0.5, 0.4, 0.5, 0.3]\n",
      "tf.Tensor([[1.8745557e-04 9.3949866e-01 5.7866096e-02 2.4476566e-03]], shape=(1, 4), dtype=float32)\n",
      "[0.5, 0.2, 0.5, 0.3]\n",
      "tf.Tensor([[9.4479510e-05 9.9977440e-01 1.1903609e-04 1.2014208e-05]], shape=(1, 4), dtype=float32)\n",
      "[0.5, 0.4, 0.5, 0.3]\n",
      "tf.Tensor([[9.9855703e-01 1.4187355e-03 2.0013988e-06 2.2318565e-05]], shape=(1, 4), dtype=float32)\n"
     ]
    },
    {
     "name": "stderr",
     "output_type": "stream",
     "text": [
      " 82%|█████████████████████████████████████████████████████████             | 81501/100000 [12:09:25<1:55:25,  2.67it/s]"
     ]
    },
    {
     "name": "stdout",
     "output_type": "stream",
     "text": [
      "3.935927769394472\n",
      "91\n"
     ]
    },
    {
     "name": "stderr",
     "output_type": "stream",
     "text": [
      " 82%|█████████████████████████████████████████████████████████             | 81601/100000 [12:10:01<2:17:31,  2.23it/s]"
     ]
    },
    {
     "name": "stdout",
     "output_type": "stream",
     "text": [
      "4.777691485216564\n",
      "92\n",
      "[0.0, 0.3, 0.9, 0.9]\n",
      "tf.Tensor([[0.00698003 0.01637584 0.61818415 0.35846   ]], shape=(1, 4), dtype=float32)\n",
      "[0.3, 0.3, 0.9, 0.9]\n",
      "tf.Tensor([[0.00239281 0.01439578 0.74342495 0.23978642]], shape=(1, 4), dtype=float32)\n",
      "[0.6, 0.3, 0.9, 0.9]\n",
      "tf.Tensor([[6.8138022e-04 3.1455226e-02 9.0661669e-01 6.1246648e-02]], shape=(1, 4), dtype=float32)\n",
      "[0.6, 0.6, 0.9, 0.9]\n",
      "tf.Tensor([[2.3971654e-05 9.9952614e-01 4.2246096e-04 2.7348489e-05]], shape=(1, 4), dtype=float32)\n",
      "[0.6, 0.8, 0.9, 0.9]\n",
      "tf.Tensor([[9.9550974e-01 4.4556204e-03 4.9229789e-06 2.9819554e-05]], shape=(1, 4), dtype=float32)\n",
      "[0.7, 0.8, 0.9, 0.9]\n",
      "tf.Tensor([[9.9946660e-01 5.1778089e-04 9.1238297e-07 1.4649227e-05]], shape=(1, 4), dtype=float32)\n",
      "[0.8, 0.8, 0.9, 0.9]\n",
      "tf.Tensor([[9.9939358e-01 5.8815640e-04 1.1354805e-06 1.7053442e-05]], shape=(1, 4), dtype=float32)\n",
      "[0.8, 0.9, 0.9, 0.9]\n",
      "tf.Tensor([[9.9945527e-01 5.2901794e-04 9.1571036e-07 1.4741022e-05]], shape=(1, 4), dtype=float32)\n"
     ]
    },
    {
     "name": "stderr",
     "output_type": "stream",
     "text": [
      " 82%|█████████████████████████████████████████████████████████▏            | 81701/100000 [12:10:37<1:50:58,  2.75it/s]"
     ]
    },
    {
     "name": "stdout",
     "output_type": "stream",
     "text": [
      "4.593782681340747\n",
      "90\n"
     ]
    },
    {
     "name": "stderr",
     "output_type": "stream",
     "text": [
      " 82%|█████████████████████████████████████████████████████████▎            | 81801/100000 [12:11:14<1:51:46,  2.71it/s]"
     ]
    },
    {
     "name": "stdout",
     "output_type": "stream",
     "text": [
      "5.871494486129362\n",
      "92\n",
      "[0.5, 0.4, 0.1, 0.1]\n",
      "tf.Tensor([[0.00870736 0.02364194 0.62226266 0.345388  ]], shape=(1, 4), dtype=float32)\n",
      "[0.2, 0.4, 0.1, 0.1]\n",
      "tf.Tensor([[0.00231828 0.01865596 0.7588173  0.22020842]], shape=(1, 4), dtype=float32)\n",
      "[0.2, 0.1, 0.1, 0.1]\n",
      "tf.Tensor([[0.00101319 0.05068777 0.8978799  0.05041912]], shape=(1, 4), dtype=float32)\n",
      "[0.0, 0.1, 0.1, 0.1]\n",
      "tf.Tensor([[3.6603553e-05 9.9961782e-01 3.2460806e-04 2.0953425e-05]], shape=(1, 4), dtype=float32)\n",
      "[0.2, 0.1, 0.1, 0.1]\n",
      "tf.Tensor([[9.9855810e-01 1.4126024e-03 3.0485141e-06 2.6165588e-05]], shape=(1, 4), dtype=float32)\n"
     ]
    },
    {
     "name": "stderr",
     "output_type": "stream",
     "text": [
      " 82%|█████████████████████████████████████████████████████████▎            | 81901/100000 [12:11:50<1:58:53,  2.54it/s]"
     ]
    },
    {
     "name": "stdout",
     "output_type": "stream",
     "text": [
      "4.6231412573992685\n",
      "90\n"
     ]
    },
    {
     "name": "stderr",
     "output_type": "stream",
     "text": [
      " 82%|█████████████████████████████████████████████████████████▍            | 82001/100000 [12:12:25<1:42:41,  2.92it/s]"
     ]
    },
    {
     "name": "stdout",
     "output_type": "stream",
     "text": [
      "6.198982075348409\n",
      "96\n",
      "[0.3, 0.2, 0.1, 0.9]\n",
      "tf.Tensor([[0.01099201 0.02213919 0.60547936 0.3613894 ]], shape=(1, 4), dtype=float32)\n",
      "[0.3, 0.5, 0.1, 0.9]\n",
      "tf.Tensor([[0.00472905 0.01801197 0.6918653  0.28539374]], shape=(1, 4), dtype=float32)\n",
      "[0.3, 0.8, 0.1, 0.9]\n",
      "tf.Tensor([[0.00124578 0.03221102 0.89521974 0.0713235 ]], shape=(1, 4), dtype=float32)\n",
      "[0.0, 0.8, 0.1, 0.9]\n",
      "tf.Tensor([[5.2821768e-05 9.9900657e-01 8.9237787e-04 4.8276739e-05]], shape=(1, 4), dtype=float32)\n",
      "[0.0, 1.0, 0.1, 0.9]\n",
      "tf.Tensor([[9.9719280e-01 2.7770565e-03 3.9824840e-06 2.6097860e-05]], shape=(1, 4), dtype=float32)\n",
      "[0.1, 1.0, 0.1, 0.9]\n",
      "tf.Tensor([[9.9950790e-01 4.7582050e-04 8.9507409e-07 1.5393005e-05]], shape=(1, 4), dtype=float32)\n"
     ]
    },
    {
     "name": "stderr",
     "output_type": "stream",
     "text": [
      " 82%|█████████████████████████████████████████████████████████▍            | 82101/100000 [12:13:01<1:55:12,  2.59it/s]"
     ]
    },
    {
     "name": "stdout",
     "output_type": "stream",
     "text": [
      "5.190234355455781\n",
      "90\n"
     ]
    },
    {
     "name": "stderr",
     "output_type": "stream",
     "text": [
      " 82%|█████████████████████████████████████████████████████████▌            | 82201/100000 [12:13:39<2:00:19,  2.47it/s]"
     ]
    },
    {
     "name": "stdout",
     "output_type": "stream",
     "text": [
      "4.679266157958919\n",
      "87\n",
      "[0.8, 0.6, 0.5, 0.7]\n",
      "tf.Tensor([[0.0073878 0.02107   0.6423922 0.32915  ]], shape=(1, 4), dtype=float32)\n",
      "[0.5, 0.6, 0.5, 0.7]\n",
      "tf.Tensor([[0.00274531 0.01732549 0.7939374  0.1859918 ]], shape=(1, 4), dtype=float32)\n",
      "[0.5, 0.9, 0.5, 0.7]\n",
      "tf.Tensor([[4.8275560e-04 1.1009614e-01 8.6424851e-01 2.5172524e-02]], shape=(1, 4), dtype=float32)\n",
      "[0.5, 0.6, 0.5, 0.7]\n",
      "tf.Tensor([[4.8324036e-05 9.9966967e-01 2.6567350e-04 1.6376218e-05]], shape=(1, 4), dtype=float32)\n",
      "[0.5, 0.8, 0.5, 0.7]\n",
      "tf.Tensor([[9.9865049e-01 1.3259766e-03 2.1305168e-06 2.1460261e-05]], shape=(1, 4), dtype=float32)\n"
     ]
    },
    {
     "name": "stderr",
     "output_type": "stream",
     "text": [
      " 82%|█████████████████████████████████████████████████████████▌            | 82301/100000 [12:14:14<1:47:51,  2.74it/s]"
     ]
    },
    {
     "name": "stdout",
     "output_type": "stream",
     "text": [
      "5.7353082023527575\n",
      "94\n"
     ]
    },
    {
     "name": "stderr",
     "output_type": "stream",
     "text": [
      " 82%|█████████████████████████████████████████████████████████▋            | 82401/100000 [12:14:50<1:19:41,  3.68it/s]"
     ]
    },
    {
     "name": "stdout",
     "output_type": "stream",
     "text": [
      "5.168139535176662\n",
      "88\n",
      "[0.1, 0.1, 0.9, 0.1]\n",
      "tf.Tensor([[0.00890692 0.0142082  0.63285995 0.3440249 ]], shape=(1, 4), dtype=float32)\n",
      "[0.4, 0.1, 0.9, 0.1]\n",
      "tf.Tensor([[0.00331808 0.01097589 0.70682585 0.27888012]], shape=(1, 4), dtype=float32)\n",
      "[0.7, 0.1, 0.9, 0.1]\n",
      "tf.Tensor([[6.2671542e-04 1.4722493e-02 9.2222869e-01 6.2422045e-02]], shape=(1, 4), dtype=float32)\n",
      "[1.0, 0.1, 0.9, 0.1]\n",
      "tf.Tensor([[3.6331010e-05 9.9868232e-01 1.2180749e-03 6.3368323e-05]], shape=(1, 4), dtype=float32)\n",
      "[0.8, 0.1, 0.9, 0.1]\n",
      "tf.Tensor([[9.9656624e-01 3.4006587e-03 4.4909052e-06 2.8684439e-05]], shape=(1, 4), dtype=float32)\n"
     ]
    },
    {
     "name": "stderr",
     "output_type": "stream",
     "text": [
      " 83%|█████████████████████████████████████████████████████████▊            | 82501/100000 [12:15:25<1:39:26,  2.93it/s]"
     ]
    },
    {
     "name": "stdout",
     "output_type": "stream",
     "text": [
      "5.8466808151150245\n",
      "98\n"
     ]
    },
    {
     "name": "stderr",
     "output_type": "stream",
     "text": [
      " 83%|█████████████████████████████████████████████████████████▊            | 82601/100000 [12:16:01<1:53:13,  2.56it/s]"
     ]
    },
    {
     "name": "stdout",
     "output_type": "stream",
     "text": [
      "5.287653971423921\n",
      "95\n",
      "[0.9, 0.9, 0.1, 0.9]\n",
      "tf.Tensor([[0.00863258 0.02033137 0.6141317  0.3569043 ]], shape=(1, 4), dtype=float32)\n",
      "[0.6, 0.9, 0.1, 0.9]\n",
      "tf.Tensor([[0.00318715 0.01857886 0.7521151  0.22611894]], shape=(1, 4), dtype=float32)\n",
      "[0.3, 0.9, 0.1, 0.9]\n",
      "tf.Tensor([[8.5671619e-04 9.7773902e-02 8.6751950e-01 3.3849932e-02]], shape=(1, 4), dtype=float32)\n",
      "[0.0, 0.9, 0.1, 0.9]\n",
      "tf.Tensor([[4.4746768e-05 9.9974138e-01 2.0247744e-04 1.1406905e-05]], shape=(1, 4), dtype=float32)\n",
      "[0.2, 0.9, 0.1, 0.9]\n",
      "tf.Tensor([[9.9886680e-01 1.1103029e-03 1.9825375e-06 2.0912677e-05]], shape=(1, 4), dtype=float32)\n"
     ]
    },
    {
     "name": "stderr",
     "output_type": "stream",
     "text": [
      " 83%|█████████████████████████████████████████████████████████▉            | 82701/100000 [12:16:37<1:45:15,  2.74it/s]"
     ]
    },
    {
     "name": "stdout",
     "output_type": "stream",
     "text": [
      "4.78418014660678\n",
      "93\n"
     ]
    },
    {
     "name": "stderr",
     "output_type": "stream",
     "text": [
      " 83%|█████████████████████████████████████████████████████████▉            | 82801/100000 [12:17:15<2:00:27,  2.38it/s]"
     ]
    },
    {
     "name": "stdout",
     "output_type": "stream",
     "text": [
      "5.0172646955977305\n",
      "92\n",
      "[0.6, 0.2, 0.9, 0.9]\n",
      "tf.Tensor([[0.00997385 0.02029068 0.60009354 0.36964196]], shape=(1, 4), dtype=float32)\n",
      "[0.6, 0.5, 0.9, 0.9]\n",
      "tf.Tensor([[0.00404832 0.01652644 0.69619155 0.28323376]], shape=(1, 4), dtype=float32)\n",
      "[0.6, 0.8, 0.9, 0.9]\n",
      "tf.Tensor([[7.2177482e-04 4.2012036e-02 9.0956414e-01 4.7702063e-02]], shape=(1, 4), dtype=float32)\n",
      "[0.9, 0.8, 0.9, 0.9]\n",
      "tf.Tensor([[4.3099477e-05 9.9973530e-01 2.0437664e-04 1.7220736e-05]], shape=(1, 4), dtype=float32)\n",
      "[0.9, 1.0, 0.9, 0.9]\n",
      "tf.Tensor([[9.9787092e-01 2.1038714e-03 2.2189988e-06 2.2989912e-05]], shape=(1, 4), dtype=float32)\n"
     ]
    },
    {
     "name": "stderr",
     "output_type": "stream",
     "text": [
      " 83%|██████████████████████████████████████████████████████████            | 82901/100000 [12:17:51<1:47:40,  2.65it/s]"
     ]
    },
    {
     "name": "stdout",
     "output_type": "stream",
     "text": [
      "6.0069980170443475\n",
      "98\n"
     ]
    },
    {
     "name": "stderr",
     "output_type": "stream",
     "text": [
      " 83%|██████████████████████████████████████████████████████████            | 83001/100000 [12:18:25<1:46:44,  2.65it/s]"
     ]
    },
    {
     "name": "stdout",
     "output_type": "stream",
     "text": [
      "6.299728468925269\n",
      "98\n",
      "[0.7, 0.0, 0.5, 0.7]\n",
      "tf.Tensor([[0.01331075 0.02382204 0.5728959  0.3899713 ]], shape=(1, 4), dtype=float32)\n",
      "[0.7, 0.3, 0.5, 0.7]\n",
      "tf.Tensor([[0.00586096 0.01865568 0.62817484 0.34730846]], shape=(1, 4), dtype=float32)\n",
      "[0.7, 0.6, 0.5, 0.7]\n",
      "tf.Tensor([[0.00180535 0.03407848 0.8563964  0.10771972]], shape=(1, 4), dtype=float32)\n",
      "[0.4, 0.6, 0.5, 0.7]\n",
      "tf.Tensor([[3.5139470e-05 9.9959189e-01 3.4657458e-04 2.6482883e-05]], shape=(1, 4), dtype=float32)\n",
      "[0.6, 0.6, 0.5, 0.7]\n",
      "tf.Tensor([[9.9556750e-01 4.3909387e-03 5.1915849e-06 3.6314294e-05]], shape=(1, 4), dtype=float32)\n",
      "[0.5, 0.6, 0.5, 0.7]\n",
      "tf.Tensor([[9.9900740e-01 9.6854445e-04 1.4919201e-06 2.2455113e-05]], shape=(1, 4), dtype=float32)\n"
     ]
    },
    {
     "name": "stderr",
     "output_type": "stream",
     "text": [
      " 83%|██████████████████████████████████████████████████████████▏           | 83101/100000 [12:19:00<1:32:41,  3.04it/s]"
     ]
    },
    {
     "name": "stdout",
     "output_type": "stream",
     "text": [
      "6.085889241566235\n",
      "96\n"
     ]
    },
    {
     "name": "stderr",
     "output_type": "stream",
     "text": [
      " 83%|██████████████████████████████████████████████████████████▏           | 83201/100000 [12:19:37<1:41:00,  2.77it/s]"
     ]
    },
    {
     "name": "stdout",
     "output_type": "stream",
     "text": [
      "5.1564560415660825\n",
      "91\n",
      "[0.3, 0.6, 0.9, 0.1]\n",
      "tf.Tensor([[0.00928781 0.01751472 0.60203755 0.37115997]], shape=(1, 4), dtype=float32)\n",
      "[0.6, 0.6, 0.9, 0.1]\n",
      "tf.Tensor([[0.00289886 0.01704008 0.6783436  0.30171746]], shape=(1, 4), dtype=float32)\n",
      "[0.6, 0.3, 0.9, 0.1]\n",
      "tf.Tensor([[6.1743590e-04 3.3120826e-02 9.1374302e-01 5.2518666e-02]], shape=(1, 4), dtype=float32)\n",
      "[0.9, 0.3, 0.9, 0.1]\n",
      "tf.Tensor([[2.1807220e-05 9.9983811e-01 1.2792893e-04 1.2136075e-05]], shape=(1, 4), dtype=float32)\n"
     ]
    },
    {
     "name": "stderr",
     "output_type": "stream",
     "text": [
      " 83%|██████████████████████████████████████████████████████████▎           | 83301/100000 [12:20:14<1:41:23,  2.75it/s]"
     ]
    },
    {
     "name": "stdout",
     "output_type": "stream",
     "text": [
      "5.823898192221953\n",
      "95\n"
     ]
    },
    {
     "name": "stderr",
     "output_type": "stream",
     "text": [
      " 83%|██████████████████████████████████████████████████████████▍           | 83401/100000 [12:20:51<1:56:53,  2.37it/s]"
     ]
    },
    {
     "name": "stdout",
     "output_type": "stream",
     "text": [
      "4.994316495158346\n",
      "91\n",
      "[0.1, 0.9, 0.5, 0.7]\n",
      "tf.Tensor([[0.0092029  0.01785746 0.59452814 0.37841144]], shape=(1, 4), dtype=float32)\n",
      "[0.4, 0.9, 0.5, 0.7]\n",
      "tf.Tensor([[0.00274227 0.01875839 0.70682114 0.2716781 ]], shape=(1, 4), dtype=float32)\n",
      "[0.4, 0.6, 0.5, 0.7]\n",
      "tf.Tensor([[6.1418198e-04 7.8000233e-02 8.8182765e-01 3.9557997e-02]], shape=(1, 4), dtype=float32)\n",
      "[0.7, 0.6, 0.5, 0.7]\n",
      "tf.Tensor([[3.5020883e-05 9.9982673e-01 1.2700082e-04 1.1205715e-05]], shape=(1, 4), dtype=float32)\n",
      "[0.5, 0.6, 0.5, 0.7]\n",
      "tf.Tensor([[9.9682885e-01 3.1357158e-03 3.3946535e-06 3.1978732e-05]], shape=(1, 4), dtype=float32)\n"
     ]
    },
    {
     "name": "stderr",
     "output_type": "stream",
     "text": [
      " 84%|██████████████████████████████████████████████████████████▍           | 83501/100000 [12:21:27<1:52:49,  2.44it/s]"
     ]
    },
    {
     "name": "stdout",
     "output_type": "stream",
     "text": [
      "4.87097986854456\n",
      "91\n"
     ]
    },
    {
     "name": "stderr",
     "output_type": "stream",
     "text": [
      " 84%|██████████████████████████████████████████████████████████▌           | 83601/100000 [12:22:04<1:47:57,  2.53it/s]"
     ]
    },
    {
     "name": "stdout",
     "output_type": "stream",
     "text": [
      "5.498932553336254\n",
      "97\n",
      "[0.9, 0.4, 0.1, 0.9]\n",
      "tf.Tensor([[0.01618687 0.02918712 0.5734618  0.38116422]], shape=(1, 4), dtype=float32)\n",
      "[0.6, 0.4, 0.1, 0.9]\n",
      "tf.Tensor([[0.00708251 0.02064988 0.629734   0.3425336 ]], shape=(1, 4), dtype=float32)\n",
      "[0.6, 0.7, 0.1, 0.9]\n",
      "tf.Tensor([[0.00183274 0.03453479 0.86739147 0.09624103]], shape=(1, 4), dtype=float32)\n",
      "[0.3, 0.7, 0.1, 0.9]\n",
      "tf.Tensor([[4.0274052e-05 9.9944538e-01 4.8525905e-04 2.9063196e-05]], shape=(1, 4), dtype=float32)\n",
      "[0.1, 0.7, 0.1, 0.9]\n",
      "tf.Tensor([[9.9698859e-01 2.9782495e-03 3.8760732e-06 2.9193874e-05]], shape=(1, 4), dtype=float32)\n",
      "[0.1, 0.8, 0.1, 0.9]\n",
      "tf.Tensor([[9.9916947e-01 8.0962712e-04 1.2875981e-06 1.9664756e-05]], shape=(1, 4), dtype=float32)\n"
     ]
    },
    {
     "name": "stderr",
     "output_type": "stream",
     "text": [
      " 84%|██████████████████████████████████████████████████████████▌           | 83701/100000 [12:22:40<1:32:24,  2.94it/s]"
     ]
    },
    {
     "name": "stdout",
     "output_type": "stream",
     "text": [
      "5.643447952651505\n",
      "93\n"
     ]
    },
    {
     "name": "stderr",
     "output_type": "stream",
     "text": [
      " 84%|██████████████████████████████████████████████████████████▋           | 83801/100000 [12:23:16<1:51:49,  2.41it/s]"
     ]
    },
    {
     "name": "stdout",
     "output_type": "stream",
     "text": [
      "5.103738072297271\n",
      "93\n",
      "[0.7, 0.1, 0.1, 0.9]\n",
      "tf.Tensor([[0.01613419 0.02570981 0.5649932  0.39316282]], shape=(1, 4), dtype=float32)\n",
      "[0.7, 0.4, 0.1, 0.9]\n",
      "tf.Tensor([[0.00800187 0.0237183  0.61795557 0.35032436]], shape=(1, 4), dtype=float32)\n",
      "[0.4, 0.4, 0.1, 0.9]\n",
      "tf.Tensor([[0.00240311 0.0258155  0.83232397 0.13945745]], shape=(1, 4), dtype=float32)\n",
      "[0.4, 0.7, 0.1, 0.9]\n",
      "tf.Tensor([[5.5274999e-05 9.9860901e-01 1.2618345e-03 7.3946096e-05]], shape=(1, 4), dtype=float32)\n",
      "[0.2, 0.7, 0.1, 0.9]\n",
      "tf.Tensor([[9.9392492e-01 6.0283383e-03 6.8392114e-06 3.9936029e-05]], shape=(1, 4), dtype=float32)\n",
      "[0.2, 0.8, 0.1, 0.9]\n",
      "tf.Tensor([[9.9917728e-01 7.9987745e-04 1.3910194e-06 2.1477808e-05]], shape=(1, 4), dtype=float32)\n",
      "[0.1, 0.8, 0.1, 0.9]\n",
      "tf.Tensor([[9.9915540e-01 8.2256767e-04 1.3264912e-06 2.0744055e-05]], shape=(1, 4), dtype=float32)\n"
     ]
    },
    {
     "name": "stderr",
     "output_type": "stream",
     "text": [
      " 84%|██████████████████████████████████████████████████████████▋           | 83901/100000 [12:23:54<1:45:05,  2.55it/s]"
     ]
    },
    {
     "name": "stdout",
     "output_type": "stream",
     "text": [
      "5.726632654178231\n",
      "94\n"
     ]
    },
    {
     "name": "stderr",
     "output_type": "stream",
     "text": [
      " 84%|██████████████████████████████████████████████████████████▊           | 84001/100000 [12:24:31<1:53:02,  2.36it/s]"
     ]
    },
    {
     "name": "stdout",
     "output_type": "stream",
     "text": [
      "5.73146132326945\n",
      "94\n",
      "[0.7, 0.5, 0.9, 0.9]\n",
      "tf.Tensor([[0.01032224 0.02259853 0.5925878  0.37449136]], shape=(1, 4), dtype=float32)\n",
      "[0.7, 0.8, 0.9, 0.9]\n",
      "tf.Tensor([[0.00240044 0.01776672 0.7793054  0.20052736]], shape=(1, 4), dtype=float32)\n",
      "[1.0, 0.8, 0.9, 0.9]\n",
      "tf.Tensor([[0.00083354 0.31381848 0.65842474 0.0269232 ]], shape=(1, 4), dtype=float32)\n",
      "[0.7, 0.8, 0.9, 0.9]\n",
      "tf.Tensor([[1.8168402e-04 9.9968028e-01 1.2697374e-04 1.1027109e-05]], shape=(1, 4), dtype=float32)\n",
      "[0.9, 0.8, 0.9, 0.9]\n",
      "tf.Tensor([[9.9893147e-01 1.0477245e-03 1.4747219e-06 1.9390318e-05]], shape=(1, 4), dtype=float32)\n"
     ]
    },
    {
     "name": "stderr",
     "output_type": "stream",
     "text": [
      " 84%|██████████████████████████████████████████████████████████▊           | 84101/100000 [12:25:07<1:27:39,  3.02it/s]"
     ]
    },
    {
     "name": "stdout",
     "output_type": "stream",
     "text": [
      "5.370678574543068\n",
      "90\n"
     ]
    },
    {
     "name": "stderr",
     "output_type": "stream",
     "text": [
      " 84%|██████████████████████████████████████████████████████████▉           | 84201/100000 [12:25:41<1:38:46,  2.67it/s]"
     ]
    },
    {
     "name": "stdout",
     "output_type": "stream",
     "text": [
      "5.379390060889107\n",
      "94\n",
      "[0.1, 0.0, 0.1, 0.9]\n",
      "tf.Tensor([[0.01668788 0.02531415 0.57284254 0.3851554 ]], shape=(1, 4), dtype=float32)\n",
      "[0.1, 0.3, 0.1, 0.9]\n",
      "tf.Tensor([[0.00868753 0.01973567 0.6181475  0.35342926]], shape=(1, 4), dtype=float32)\n",
      "[0.1, 0.6, 0.1, 0.9]\n",
      "tf.Tensor([[0.00283484 0.01888443 0.7921302  0.18615048]], shape=(1, 4), dtype=float32)\n"
     ]
    },
    {
     "name": "stderr",
     "output_type": "stream",
     "text": [
      " 84%|███████████████████████████████████████████████████████████           | 84301/100000 [12:26:17<1:41:32,  2.58it/s]"
     ]
    },
    {
     "name": "stdout",
     "output_type": "stream",
     "text": [
      "4.8464226691748955\n",
      "92\n"
     ]
    },
    {
     "name": "stderr",
     "output_type": "stream",
     "text": [
      " 84%|███████████████████████████████████████████████████████████           | 84401/100000 [12:26:54<1:29:28,  2.91it/s]"
     ]
    },
    {
     "name": "stdout",
     "output_type": "stream",
     "text": [
      "6.0336867072354785\n",
      "91\n",
      "[0.1, 0.1, 0.5, 0.3]\n",
      "tf.Tensor([[0.01145775 0.01626257 0.6091099  0.36316982]], shape=(1, 4), dtype=float32)\n",
      "[0.4, 0.1, 0.5, 0.3]\n",
      "tf.Tensor([[0.00723955 0.01647324 0.6364625  0.33982474]], shape=(1, 4), dtype=float32)\n",
      "[0.4, 0.4, 0.5, 0.3]\n",
      "tf.Tensor([[0.00135172 0.01617602 0.8483471  0.13412525]], shape=(1, 4), dtype=float32)\n",
      "[0.4, 0.1, 0.5, 0.3]\n",
      "tf.Tensor([[9.4483388e-05 9.9471962e-01 4.9358415e-03 2.5000333e-04]], shape=(1, 4), dtype=float32)\n",
      "[0.4, 0.3, 0.5, 0.3]\n",
      "tf.Tensor([[9.9768436e-01 2.2879960e-03 2.7849685e-06 2.4831790e-05]], shape=(1, 4), dtype=float32)\n"
     ]
    },
    {
     "name": "stderr",
     "output_type": "stream",
     "text": [
      " 85%|███████████████████████████████████████████████████████████▏          | 84501/100000 [12:27:28<1:33:06,  2.77it/s]"
     ]
    },
    {
     "name": "stdout",
     "output_type": "stream",
     "text": [
      "6.024415975706397\n",
      "97\n"
     ]
    },
    {
     "name": "stderr",
     "output_type": "stream",
     "text": [
      " 85%|███████████████████████████████████████████████████████████▏          | 84601/100000 [12:28:04<1:39:03,  2.59it/s]"
     ]
    },
    {
     "name": "stdout",
     "output_type": "stream",
     "text": [
      "4.80777359479557\n",
      "91\n",
      "[0.4, 0.5, 0.9, 0.1]\n",
      "tf.Tensor([[0.00980284 0.01404314 0.6247538  0.3514002 ]], shape=(1, 4), dtype=float32)\n",
      "[0.7, 0.5, 0.9, 0.1]\n",
      "tf.Tensor([[0.0030885  0.01181555 0.6943713  0.29072466]], shape=(1, 4), dtype=float32)\n",
      "[0.7, 0.2, 0.9, 0.1]\n",
      "tf.Tensor([[6.0385477e-04 1.3047368e-02 9.3061137e-01 5.5737481e-02]], shape=(1, 4), dtype=float32)\n",
      "[1.0, 0.2, 0.9, 0.1]\n",
      "tf.Tensor([[3.5938203e-05 9.9954200e-01 3.9559483e-04 2.6414091e-05]], shape=(1, 4), dtype=float32)\n",
      "[0.8, 0.2, 0.9, 0.1]\n",
      "tf.Tensor([[9.9884665e-01 1.1310655e-03 1.6137092e-06 2.0648093e-05]], shape=(1, 4), dtype=float32)\n",
      "[0.8, 0.1, 0.9, 0.1]\n",
      "tf.Tensor([[9.9951339e-01 4.7094384e-04 8.5245392e-07 1.4931635e-05]], shape=(1, 4), dtype=float32)\n"
     ]
    },
    {
     "name": "stderr",
     "output_type": "stream",
     "text": [
      " 85%|███████████████████████████████████████████████████████████▎          | 84701/100000 [12:28:40<1:36:39,  2.64it/s]"
     ]
    },
    {
     "name": "stdout",
     "output_type": "stream",
     "text": [
      "6.038579667426699\n",
      "97\n"
     ]
    },
    {
     "name": "stderr",
     "output_type": "stream",
     "text": [
      " 85%|███████████████████████████████████████████████████████████▎          | 84801/100000 [12:29:17<1:42:08,  2.48it/s]"
     ]
    },
    {
     "name": "stdout",
     "output_type": "stream",
     "text": [
      "3.6179508752660015\n",
      "86\n",
      "[0.6, 0.6, 0.1, 0.9]\n",
      "tf.Tensor([[0.01277349 0.01950781 0.59751403 0.37020475]], shape=(1, 4), dtype=float32)\n",
      "[0.3, 0.6, 0.1, 0.9]\n",
      "tf.Tensor([[0.00544152 0.01291493 0.6595883  0.32205528]], shape=(1, 4), dtype=float32)\n",
      "[0.3, 0.9, 0.1, 0.9]\n",
      "tf.Tensor([[0.00118593 0.01791542 0.9032012  0.07769731]], shape=(1, 4), dtype=float32)\n",
      "[0.0, 0.9, 0.1, 0.9]\n",
      "tf.Tensor([[4.4446897e-05 9.9953949e-01 3.9506223e-04 2.0917245e-05]], shape=(1, 4), dtype=float32)\n",
      "[0.2, 0.9, 0.1, 0.9]\n",
      "tf.Tensor([[9.9883181e-01 1.1446896e-03 1.9995950e-06 2.1466512e-05]], shape=(1, 4), dtype=float32)\n"
     ]
    },
    {
     "name": "stderr",
     "output_type": "stream",
     "text": [
      " 85%|███████████████████████████████████████████████████████████▍          | 84901/100000 [12:29:54<1:24:13,  2.99it/s]"
     ]
    },
    {
     "name": "stdout",
     "output_type": "stream",
     "text": [
      "5.395101879505464\n",
      "94\n"
     ]
    },
    {
     "name": "stderr",
     "output_type": "stream",
     "text": [
      " 85%|███████████████████████████████████████████████████████████▌          | 85001/100000 [12:30:30<1:43:18,  2.42it/s]"
     ]
    },
    {
     "name": "stdout",
     "output_type": "stream",
     "text": [
      "4.611231263798976\n",
      "91\n",
      "[0.8, 0.0, 0.1, 0.9]\n",
      "tf.Tensor([[0.0091394  0.01611836 0.619688   0.35505426]], shape=(1, 4), dtype=float32)\n",
      "[0.8, 0.3, 0.1, 0.9]\n",
      "tf.Tensor([[0.0039371  0.0156562  0.75070894 0.22969782]], shape=(1, 4), dtype=float32)\n",
      "[0.5, 0.3, 0.1, 0.9]\n",
      "tf.Tensor([[8.9181709e-04 2.3797082e-02 9.3072945e-01 4.4581588e-02]], shape=(1, 4), dtype=float32)\n",
      "[0.5, 0.6, 0.1, 0.9]\n",
      "tf.Tensor([[6.3110710e-05 9.9961084e-01 3.0601860e-04 2.0010868e-05]], shape=(1, 4), dtype=float32)\n",
      "[0.3, 0.6, 0.1, 0.9]\n",
      "tf.Tensor([[9.9828053e-01 1.6917466e-03 2.4092342e-06 2.5294050e-05]], shape=(1, 4), dtype=float32)\n",
      "[0.3, 0.7, 0.1, 0.9]\n",
      "tf.Tensor([[9.9939418e-01 5.8492640e-04 1.1156161e-06 1.9764004e-05]], shape=(1, 4), dtype=float32)\n",
      "[0.2, 0.7, 0.1, 0.9]\n",
      "tf.Tensor([[9.9937540e-01 6.0443359e-04 1.0623137e-06 1.9063646e-05]], shape=(1, 4), dtype=float32)\n",
      "[0.2, 0.8, 0.1, 0.9]\n",
      "tf.Tensor([[9.9941099e-01 5.6868762e-04 1.0673357e-06 1.9314617e-05]], shape=(1, 4), dtype=float32)\n",
      "[0.1, 0.8, 0.1, 0.9]\n",
      "tf.Tensor([[9.9939251e-01 5.8768032e-04 1.0233449e-06 1.8749681e-05]], shape=(1, 4), dtype=float32)\n"
     ]
    },
    {
     "name": "stderr",
     "output_type": "stream",
     "text": [
      " 85%|███████████████████████████████████████████████████████████▌          | 85101/100000 [12:31:07<1:31:00,  2.73it/s]"
     ]
    },
    {
     "name": "stdout",
     "output_type": "stream",
     "text": [
      "6.178012530161861\n",
      "98\n"
     ]
    },
    {
     "name": "stderr",
     "output_type": "stream",
     "text": [
      " 85%|███████████████████████████████████████████████████████████▋          | 85201/100000 [12:31:43<1:42:30,  2.41it/s]"
     ]
    },
    {
     "name": "stdout",
     "output_type": "stream",
     "text": [
      "5.502846541796995\n",
      "97\n",
      "[0.6, 0.6, 0.1, 0.9]\n",
      "tf.Tensor([[0.00996992 0.01724738 0.61564827 0.3571345 ]], shape=(1, 4), dtype=float32)\n",
      "[0.3, 0.6, 0.1, 0.9]\n",
      "tf.Tensor([[0.00383099 0.01186658 0.7316216  0.25268087]], shape=(1, 4), dtype=float32)\n",
      "[0.3, 0.9, 0.1, 0.9]\n",
      "tf.Tensor([[7.4044528e-04 2.2592491e-02 9.3505466e-01 4.1612364e-02]], shape=(1, 4), dtype=float32)\n",
      "[0.0, 0.9, 0.1, 0.9]\n",
      "tf.Tensor([[5.5417251e-05 9.9971920e-01 2.1249946e-04 1.2833997e-05]], shape=(1, 4), dtype=float32)\n",
      "[0.2, 0.9, 0.1, 0.9]\n",
      "tf.Tensor([[9.9891305e-01 1.0634757e-03 1.6709971e-06 2.1837861e-05]], shape=(1, 4), dtype=float32)\n"
     ]
    },
    {
     "name": "stderr",
     "output_type": "stream",
     "text": [
      " 85%|███████████████████████████████████████████████████████████▋          | 85302/100000 [12:32:19<1:05:33,  3.74it/s]"
     ]
    },
    {
     "name": "stdout",
     "output_type": "stream",
     "text": [
      "5.957822199346848\n",
      "96\n"
     ]
    },
    {
     "name": "stderr",
     "output_type": "stream",
     "text": [
      " 85%|███████████████████████████████████████████████████████████▊          | 85401/100000 [12:32:56<1:41:18,  2.40it/s]"
     ]
    },
    {
     "name": "stdout",
     "output_type": "stream",
     "text": [
      "5.6896482068151055\n",
      "94\n",
      "[0.1, 0.6, 0.9, 0.1]\n",
      "tf.Tensor([[0.00633882 0.01200234 0.6371498  0.344509  ]], shape=(1, 4), dtype=float32)\n",
      "[0.4, 0.6, 0.9, 0.1]\n",
      "tf.Tensor([[0.00166451 0.01007688 0.8367128  0.15154588]], shape=(1, 4), dtype=float32)\n",
      "[0.7, 0.6, 0.9, 0.1]\n",
      "tf.Tensor([[2.9740678e-04 7.0976168e-02 9.0733451e-01 2.1391856e-02]], shape=(1, 4), dtype=float32)\n",
      "[0.7, 0.3, 0.9, 0.1]\n",
      "tf.Tensor([[7.3398594e-05 9.9980539e-01 1.1188738e-04 9.3461376e-06]], shape=(1, 4), dtype=float32)\n",
      "[0.9, 0.3, 0.9, 0.1]\n",
      "tf.Tensor([[9.9903560e-01 9.4385614e-04 1.1971333e-06 1.9424489e-05]], shape=(1, 4), dtype=float32)\n",
      "[0.9, 0.2, 0.9, 0.1]\n",
      "tf.Tensor([[9.9950624e-01 4.7620898e-04 7.4824067e-07 1.6823067e-05]], shape=(1, 4), dtype=float32)\n"
     ]
    },
    {
     "name": "stderr",
     "output_type": "stream",
     "text": [
      " 86%|███████████████████████████████████████████████████████████▊          | 85501/100000 [12:33:31<1:25:19,  2.83it/s]"
     ]
    },
    {
     "name": "stdout",
     "output_type": "stream",
     "text": [
      "5.114164343202318\n",
      "94\n"
     ]
    },
    {
     "name": "stderr",
     "output_type": "stream",
     "text": [
      " 86%|███████████████████████████████████████████████████████████▉          | 85601/100000 [12:34:09<1:42:20,  2.35it/s]"
     ]
    },
    {
     "name": "stdout",
     "output_type": "stream",
     "text": [
      "4.061797454350708\n",
      "89\n",
      "[0.2, 0.2, 0.9, 0.1]\n",
      "tf.Tensor([[0.0068211  0.01293962 0.63508636 0.34515294]], shape=(1, 4), dtype=float32)\n",
      "[0.5, 0.2, 0.9, 0.1]\n",
      "tf.Tensor([[0.00199657 0.0103719  0.81820464 0.1694269 ]], shape=(1, 4), dtype=float32)\n",
      "[0.8, 0.2, 0.9, 0.1]\n",
      "tf.Tensor([[2.9734743e-04 2.7216069e-02 9.4897759e-01 2.3508996e-02]], shape=(1, 4), dtype=float32)\n",
      "[1.0, 0.2, 0.9, 0.1]\n",
      "tf.Tensor([[2.88168649e-05 9.99805510e-01 1.54243869e-04 1.14037875e-05]], shape=(1, 4), dtype=float32)\n",
      "[1.0, 0.0, 0.9, 0.1]\n",
      "tf.Tensor([[9.9843532e-01 1.5360459e-03 2.2572749e-06 2.6374379e-05]], shape=(1, 4), dtype=float32)\n",
      "[0.9, 0.0, 0.9, 0.1]\n",
      "tf.Tensor([[9.9935383e-01 6.2505138e-04 1.1083051e-06 2.0063426e-05]], shape=(1, 4), dtype=float32)\n"
     ]
    },
    {
     "name": "stderr",
     "output_type": "stream",
     "text": [
      " 86%|███████████████████████████████████████████████████████████▉          | 85701/100000 [12:34:44<1:33:39,  2.54it/s]"
     ]
    },
    {
     "name": "stdout",
     "output_type": "stream",
     "text": [
      "4.964439712410878\n",
      "92\n"
     ]
    },
    {
     "name": "stderr",
     "output_type": "stream",
     "text": [
      " 86%|████████████████████████████████████████████████████████████          | 85801/100000 [12:35:21<1:33:55,  2.52it/s]"
     ]
    },
    {
     "name": "stdout",
     "output_type": "stream",
     "text": [
      "5.555084661344046\n",
      "95\n",
      "[0.4, 0.5, 0.1, 0.1]\n",
      "tf.Tensor([[0.00781203 0.01483011 0.60336727 0.37399057]], shape=(1, 4), dtype=float32)\n",
      "[0.4, 0.2, 0.1, 0.1]\n",
      "tf.Tensor([[0.00517273 0.01626042 0.72335994 0.2552069 ]], shape=(1, 4), dtype=float32)\n",
      "[0.1, 0.2, 0.1, 0.1]\n",
      "tf.Tensor([[7.4907404e-04 1.9046817e-02 9.3312550e-01 4.7078650e-02]], shape=(1, 4), dtype=float32)\n",
      "[0.1, 0.0, 0.1, 0.1]\n",
      "tf.Tensor([[5.5092874e-05 9.9930573e-01 6.0551125e-04 3.3705681e-05]], shape=(1, 4), dtype=float32)\n",
      "[0.1, 0.2, 0.1, 0.1]\n",
      "tf.Tensor([[9.9873537e-01 1.2397491e-03 1.7708213e-06 2.3127879e-05]], shape=(1, 4), dtype=float32)\n"
     ]
    },
    {
     "name": "stderr",
     "output_type": "stream",
     "text": [
      " 86%|████████████████████████████████████████████████████████████▏         | 85902/100000 [12:35:57<1:09:02,  3.40it/s]"
     ]
    },
    {
     "name": "stdout",
     "output_type": "stream",
     "text": [
      "5.857608073313749\n",
      "96\n"
     ]
    },
    {
     "name": "stderr",
     "output_type": "stream",
     "text": [
      " 86%|████████████████████████████████████████████████████████████▏         | 86001/100000 [12:36:32<1:35:32,  2.44it/s]"
     ]
    },
    {
     "name": "stdout",
     "output_type": "stream",
     "text": [
      "5.575006092806333\n",
      "95\n",
      "[0.1, 0.2, 0.9, 0.1]\n",
      "tf.Tensor([[0.01102942 0.01386137 0.5969456  0.37816367]], shape=(1, 4), dtype=float32)\n",
      "[0.4, 0.2, 0.9, 0.1]\n",
      "tf.Tensor([[0.00362664 0.01095074 0.7354155  0.25000706]], shape=(1, 4), dtype=float32)\n",
      "[0.7, 0.2, 0.9, 0.1]\n",
      "tf.Tensor([[4.9217197e-04 2.3066098e-02 9.4120711e-01 3.5234589e-02]], shape=(1, 4), dtype=float32)\n",
      "[1.0, 0.2, 0.9, 0.1]\n",
      "tf.Tensor([[3.9393908e-05 9.9977475e-01 1.7209211e-04 1.3704863e-05]], shape=(1, 4), dtype=float32)\n",
      "[1.0, 0.0, 0.9, 0.1]\n",
      "tf.Tensor([[9.9921894e-01 7.6079654e-04 1.4031101e-06 1.8845607e-05]], shape=(1, 4), dtype=float32)\n",
      "[0.9, 0.0, 0.9, 0.1]\n",
      "tf.Tensor([[9.9968934e-01 2.9594626e-04 6.7080055e-07 1.4119977e-05]], shape=(1, 4), dtype=float32)\n"
     ]
    },
    {
     "name": "stderr",
     "output_type": "stream",
     "text": [
      " 86%|████████████████████████████████████████████████████████████▎         | 86101/100000 [12:37:07<1:28:00,  2.63it/s]"
     ]
    },
    {
     "name": "stdout",
     "output_type": "stream",
     "text": [
      "5.771786361933302\n",
      "96\n"
     ]
    },
    {
     "name": "stderr",
     "output_type": "stream",
     "text": [
      " 86%|████████████████████████████████████████████████████████████▎         | 86201/100000 [12:37:43<1:18:04,  2.95it/s]"
     ]
    },
    {
     "name": "stdout",
     "output_type": "stream",
     "text": [
      "5.926017327073377\n",
      "94\n",
      "[0.5, 0.2, 0.9, 0.9]\n",
      "tf.Tensor([[0.015902   0.01894189 0.542973   0.42218313]], shape=(1, 4), dtype=float32)\n",
      "[0.5, 0.5, 0.9, 0.9]\n",
      "tf.Tensor([[0.00443271 0.01086647 0.6747931  0.30990767]], shape=(1, 4), dtype=float32)\n",
      "[0.8, 0.5, 0.9, 0.9]\n",
      "tf.Tensor([[0.00105608 0.0151181  0.9071785  0.07664732]], shape=(1, 4), dtype=float32)\n",
      "[0.8, 0.8, 0.9, 0.9]\n",
      "tf.Tensor([[4.4116321e-05 9.9954045e-01 3.9111366e-04 2.4408950e-05]], shape=(1, 4), dtype=float32)\n",
      "[1.0, 0.8, 0.9, 0.9]\n",
      "tf.Tensor([[9.9911147e-01 8.6950453e-04 1.3872068e-06 1.7595446e-05]], shape=(1, 4), dtype=float32)\n",
      "[0.9, 0.8, 0.9, 0.9]\n",
      "tf.Tensor([[9.9971253e-01 2.7410165e-04 5.4992438e-07 1.2768841e-05]], shape=(1, 4), dtype=float32)\n"
     ]
    },
    {
     "name": "stderr",
     "output_type": "stream",
     "text": [
      " 86%|████████████████████████████████████████████████████████████▍         | 86301/100000 [12:38:20<1:30:12,  2.53it/s]"
     ]
    },
    {
     "name": "stdout",
     "output_type": "stream",
     "text": [
      "4.758164246794563\n",
      "91\n"
     ]
    },
    {
     "name": "stderr",
     "output_type": "stream",
     "text": [
      " 86%|████████████████████████████████████████████████████████████▍         | 86401/100000 [12:38:56<1:25:15,  2.66it/s]"
     ]
    },
    {
     "name": "stdout",
     "output_type": "stream",
     "text": [
      "5.6394726978516365\n",
      "95\n",
      "[0.5, 0.6, 0.1, 0.1]\n",
      "tf.Tensor([[0.01092342 0.01582536 0.5480513  0.42519996]], shape=(1, 4), dtype=float32)\n",
      "[0.5, 0.3, 0.1, 0.1]\n",
      "tf.Tensor([[0.00737326 0.01637111 0.6205528  0.35570273]], shape=(1, 4), dtype=float32)\n",
      "[0.2, 0.3, 0.1, 0.1]\n",
      "tf.Tensor([[0.00113588 0.0167451  0.89817995 0.08393915]], shape=(1, 4), dtype=float32)\n",
      "[0.2, 0.0, 0.1, 0.1]\n",
      "tf.Tensor([[7.4096562e-05 9.9871719e-01 1.1475207e-03 6.1326893e-05]], shape=(1, 4), dtype=float32)\n",
      "[0.0, 0.0, 0.1, 0.1]\n",
      "tf.Tensor([[9.99357164e-01 6.26606983e-04 1.10084329e-06 1.50775195e-05]], shape=(1, 4), dtype=float32)\n",
      "[0.1, 0.0, 0.1, 0.1]\n",
      "tf.Tensor([[9.9968386e-01 3.0111437e-04 7.3881313e-07 1.4339589e-05]], shape=(1, 4), dtype=float32)\n"
     ]
    },
    {
     "name": "stderr",
     "output_type": "stream",
     "text": [
      " 87%|████████████████████████████████████████████████████████████▌         | 86501/100000 [12:39:30<1:29:59,  2.50it/s]"
     ]
    },
    {
     "name": "stdout",
     "output_type": "stream",
     "text": [
      "5.892905820556742\n",
      "97\n"
     ]
    },
    {
     "name": "stderr",
     "output_type": "stream",
     "text": [
      " 87%|████████████████████████████████████████████████████████████▌         | 86601/100000 [12:40:08<1:36:27,  2.32it/s]"
     ]
    },
    {
     "name": "stdout",
     "output_type": "stream",
     "text": [
      "4.23227187235741\n",
      "94\n",
      "[0.5, 0.7, 0.1, 0.9]\n",
      "tf.Tensor([[0.01187715 0.0211252  0.5564387  0.410559  ]], shape=(1, 4), dtype=float32)\n",
      "[0.2, 0.7, 0.1, 0.9]\n",
      "tf.Tensor([[0.00426308 0.01687537 0.7483752  0.23048635]], shape=(1, 4), dtype=float32)\n",
      "[0.2, 1.0, 0.1, 0.9]\n",
      "tf.Tensor([[6.5575680e-04 8.2127802e-02 8.9018965e-01 2.7026761e-02]], shape=(1, 4), dtype=float32)\n",
      "[0.2, 0.7, 0.1, 0.9]\n",
      "tf.Tensor([[1.85504890e-04 9.99585092e-01 2.15275228e-04 1.40319125e-05]], shape=(1, 4), dtype=float32)\n",
      "[0.2, 0.9, 0.1, 0.9]\n",
      "tf.Tensor([[9.9947745e-01 5.0526240e-04 1.0063388e-06 1.6356276e-05]], shape=(1, 4), dtype=float32)\n"
     ]
    },
    {
     "name": "stderr",
     "output_type": "stream",
     "text": [
      " 87%|████████████████████████████████████████████████████████████▋         | 86702/100000 [12:40:43<1:05:57,  3.36it/s]"
     ]
    },
    {
     "name": "stdout",
     "output_type": "stream",
     "text": [
      "4.8699916364856755\n",
      "96\n"
     ]
    },
    {
     "name": "stderr",
     "output_type": "stream",
     "text": [
      " 87%|████████████████████████████████████████████████████████████▊         | 86801/100000 [12:41:18<1:16:39,  2.87it/s]"
     ]
    },
    {
     "name": "stdout",
     "output_type": "stream",
     "text": [
      "5.366629331482928\n",
      "96\n",
      "[0.6, 0.7, 0.9, 0.9]\n",
      "tf.Tensor([[0.00855758 0.01365196 0.5815568  0.3962337 ]], shape=(1, 4), dtype=float32)\n",
      "[0.9, 0.7, 0.9, 0.9]\n",
      "tf.Tensor([[0.00295559 0.01327102 0.7900469  0.19372652]], shape=(1, 4), dtype=float32)\n",
      "[0.9, 1.0, 0.9, 0.9]\n",
      "tf.Tensor([[3.6210724e-04 4.0237229e-02 9.3618178e-01 2.3218893e-02]], shape=(1, 4), dtype=float32)\n",
      "[0.9, 0.7, 0.9, 0.9]\n",
      "tf.Tensor([[1.0398834e-04 9.9971062e-01 1.7357286e-04 1.1797698e-05]], shape=(1, 4), dtype=float32)\n"
     ]
    },
    {
     "name": "stderr",
     "output_type": "stream",
     "text": [
      " 87%|████████████████████████████████████████████████████████████▊         | 86901/100000 [12:41:55<1:22:32,  2.64it/s]"
     ]
    },
    {
     "name": "stdout",
     "output_type": "stream",
     "text": [
      "5.717666357035669\n",
      "96\n"
     ]
    },
    {
     "name": "stderr",
     "output_type": "stream",
     "text": [
      " 87%|████████████████████████████████████████████████████████████▉         | 87001/100000 [12:42:32<1:27:55,  2.46it/s]"
     ]
    },
    {
     "name": "stdout",
     "output_type": "stream",
     "text": [
      "5.5773188485238885\n",
      "94\n",
      "[0.2, 0.1, 0.9, 0.1]\n",
      "tf.Tensor([[0.01288528 0.01554019 0.5507174  0.42085707]], shape=(1, 4), dtype=float32)\n",
      "[0.5, 0.1, 0.9, 0.1]\n",
      "tf.Tensor([[0.00437739 0.0119768  0.6942523  0.2893934 ]], shape=(1, 4), dtype=float32)\n",
      "[0.8, 0.1, 0.9, 0.1]\n",
      "tf.Tensor([[5.0774292e-04 1.4276540e-02 9.4381297e-01 4.1402709e-02]], shape=(1, 4), dtype=float32)\n",
      "[1.0, 0.1, 0.9, 0.1]\n",
      "tf.Tensor([[4.1210744e-05 9.9926382e-01 6.6055142e-04 3.4413562e-05]], shape=(1, 4), dtype=float32)\n",
      "[0.8, 0.1, 0.9, 0.1]\n",
      "tf.Tensor([[9.991014e-01 8.801332e-04 1.320898e-06 1.711001e-05]], shape=(1, 4), dtype=float32)\n"
     ]
    },
    {
     "name": "stderr",
     "output_type": "stream",
     "text": [
      " 87%|████████████████████████████████████████████████████████████▉         | 87101/100000 [12:43:08<1:13:19,  2.93it/s]"
     ]
    },
    {
     "name": "stdout",
     "output_type": "stream",
     "text": [
      "5.738211842279064\n",
      "93\n"
     ]
    },
    {
     "name": "stderr",
     "output_type": "stream",
     "text": [
      " 87%|█████████████████████████████████████████████████████████████         | 87201/100000 [12:43:43<1:05:51,  3.24it/s]"
     ]
    },
    {
     "name": "stdout",
     "output_type": "stream",
     "text": [
      "6.427649307004065\n",
      "94\n",
      "[0.6, 0.3, 0.1, 0.9]\n",
      "tf.Tensor([[0.01502226 0.02062022 0.54879135 0.41556624]], shape=(1, 4), dtype=float32)\n",
      "[0.6, 0.6, 0.1, 0.9]\n",
      "tf.Tensor([[0.0055966  0.01981005 0.71244174 0.26215166]], shape=(1, 4), dtype=float32)\n",
      "[0.3, 0.6, 0.1, 0.9]\n",
      "tf.Tensor([[0.00094183 0.02175269 0.92867666 0.04862888]], shape=(1, 4), dtype=float32)\n",
      "[0.3, 0.9, 0.1, 0.9]\n",
      "tf.Tensor([[5.9072499e-05 9.9934870e-01 5.6833291e-04 2.3860097e-05]], shape=(1, 4), dtype=float32)\n"
     ]
    },
    {
     "name": "stderr",
     "output_type": "stream",
     "text": [
      " 87%|█████████████████████████████████████████████████████████████         | 87301/100000 [12:44:18<1:25:37,  2.47it/s]"
     ]
    },
    {
     "name": "stdout",
     "output_type": "stream",
     "text": [
      "5.680908508468865\n",
      "96\n"
     ]
    },
    {
     "name": "stderr",
     "output_type": "stream",
     "text": [
      " 87%|█████████████████████████████████████████████████████████████▏        | 87401/100000 [12:44:54<1:26:11,  2.44it/s]"
     ]
    },
    {
     "name": "stdout",
     "output_type": "stream",
     "text": [
      "5.251767837479793\n",
      "95\n",
      "[0.9, 0.7, 0.1, 0.1]\n",
      "tf.Tensor([[0.01037862 0.0221047  0.5909325  0.3765842 ]], shape=(1, 4), dtype=float32)\n",
      "[0.6, 0.7, 0.1, 0.1]\n",
      "tf.Tensor([[0.00167115 0.01797631 0.85845524 0.12189732]], shape=(1, 4), dtype=float32)\n",
      "[0.6, 0.4, 0.1, 0.1]\n",
      "tf.Tensor([[6.3100620e-04 9.6382894e-02 8.8477403e-01 1.8212076e-02]], shape=(1, 4), dtype=float32)\n",
      "[0.3, 0.4, 0.1, 0.1]\n",
      "tf.Tensor([[2.8468230e-05 9.9978322e-01 1.7928056e-04 9.0611857e-06]], shape=(1, 4), dtype=float32)\n",
      "[0.3, 0.2, 0.1, 0.1]\n",
      "tf.Tensor([[9.9936479e-01 6.1455119e-04 1.3770361e-06 1.9211897e-05]], shape=(1, 4), dtype=float32)\n",
      "[0.2, 0.2, 0.1, 0.1]\n",
      "tf.Tensor([[9.9972349e-01 2.6187944e-04 5.8879590e-07 1.4098191e-05]], shape=(1, 4), dtype=float32)\n",
      "[0.2, 0.1, 0.1, 0.1]\n",
      "tf.Tensor([[9.9967885e-01 3.0338365e-04 8.5253737e-07 1.6865830e-05]], shape=(1, 4), dtype=float32)\n"
     ]
    },
    {
     "name": "stderr",
     "output_type": "stream",
     "text": [
      " 88%|█████████████████████████████████████████████████████████████▎        | 87501/100000 [12:45:28<1:19:53,  2.61it/s]"
     ]
    },
    {
     "name": "stdout",
     "output_type": "stream",
     "text": [
      "5.887560874076553\n",
      "95\n"
     ]
    },
    {
     "name": "stderr",
     "output_type": "stream",
     "text": [
      " 88%|█████████████████████████████████████████████████████████████▎        | 87601/100000 [12:46:04<1:19:15,  2.61it/s]"
     ]
    },
    {
     "name": "stdout",
     "output_type": "stream",
     "text": [
      "5.764132195978856\n",
      "93\n",
      "[0.1, 0.2, 0.1, 0.9]\n",
      "tf.Tensor([[0.02022363 0.02681689 0.53485394 0.41810554]], shape=(1, 4), dtype=float32)\n",
      "[0.1, 0.5, 0.1, 0.9]\n",
      "tf.Tensor([[0.00848834 0.01981072 0.6086966  0.36300442]], shape=(1, 4), dtype=float32)\n",
      "[0.1, 0.8, 0.1, 0.9]\n",
      "tf.Tensor([[0.00165719 0.01829435 0.87815243 0.10189608]], shape=(1, 4), dtype=float32)\n",
      "[0.1, 1.0, 0.1, 0.9]\n",
      "tf.Tensor([[6.8855508e-05 9.8917806e-01 1.0482694e-02 2.7044181e-04]], shape=(1, 4), dtype=float32)\n",
      "[0.1, 0.8, 0.1, 0.9]\n",
      "tf.Tensor([[9.9590766e-01 4.0529887e-03 5.5637652e-06 3.3681656e-05]], shape=(1, 4), dtype=float32)\n"
     ]
    },
    {
     "name": "stderr",
     "output_type": "stream",
     "text": [
      " 88%|█████████████████████████████████████████████████████████████▍        | 87701/100000 [12:46:39<1:12:34,  2.82it/s]"
     ]
    },
    {
     "name": "stdout",
     "output_type": "stream",
     "text": [
      "6.2514258747176745\n",
      "99\n"
     ]
    },
    {
     "name": "stderr",
     "output_type": "stream",
     "text": [
      " 88%|█████████████████████████████████████████████████████████████▍        | 87801/100000 [12:47:14<1:09:46,  2.91it/s]"
     ]
    },
    {
     "name": "stdout",
     "output_type": "stream",
     "text": [
      "5.724875041160891\n",
      "93\n",
      "[0.4, 0.6, 0.1, 0.1]\n",
      "tf.Tensor([[0.01039887 0.02185096 0.56474346 0.40300664]], shape=(1, 4), dtype=float32)\n",
      "[0.4, 0.3, 0.1, 0.1]\n",
      "tf.Tensor([[0.00617217 0.02322238 0.70260644 0.26799908]], shape=(1, 4), dtype=float32)\n",
      "[0.1, 0.3, 0.1, 0.1]\n",
      "tf.Tensor([[6.4478884e-04 2.4193035e-02 9.3643844e-01 3.8723689e-02]], shape=(1, 4), dtype=float32)\n",
      "[0.1, 0.0, 0.1, 0.1]\n",
      "tf.Tensor([[3.7211641e-05 9.9890184e-01 1.0257312e-03 3.5274676e-05]], shape=(1, 4), dtype=float32)\n",
      "[0.1, 0.2, 0.1, 0.1]\n",
      "tf.Tensor([[9.9917042e-01 8.0937659e-04 1.4335320e-06 1.8801033e-05]], shape=(1, 4), dtype=float32)\n"
     ]
    },
    {
     "name": "stderr",
     "output_type": "stream",
     "text": [
      " 88%|█████████████████████████████████████████████████████████████▌        | 87901/100000 [12:47:52<1:17:09,  2.61it/s]"
     ]
    },
    {
     "name": "stdout",
     "output_type": "stream",
     "text": [
      "5.268781642756636\n",
      "96\n"
     ]
    },
    {
     "name": "stderr",
     "output_type": "stream",
     "text": [
      " 88%|█████████████████████████████████████████████████████████████▌        | 88001/100000 [12:48:28<1:14:02,  2.70it/s]"
     ]
    },
    {
     "name": "stdout",
     "output_type": "stream",
     "text": [
      "5.427052667894666\n",
      "94\n",
      "[0.4, 0.1, 0.9, 0.1]\n",
      "tf.Tensor([[0.01031161 0.01695818 0.58655274 0.38617748]], shape=(1, 4), dtype=float32)\n",
      "[0.7, 0.1, 0.9, 0.1]\n",
      "tf.Tensor([[0.00264051 0.01351677 0.7881486  0.19569416]], shape=(1, 4), dtype=float32)\n",
      "[1.0, 0.1, 0.9, 0.1]\n",
      "tf.Tensor([[4.7192108e-04 2.4935585e-02 9.4575697e-01 2.8835459e-02]], shape=(1, 4), dtype=float32)\n",
      "[0.7, 0.1, 0.9, 0.1]\n",
      "tf.Tensor([[1.7962549e-05 9.9964511e-01 3.2443000e-04 1.2520189e-05]], shape=(1, 4), dtype=float32)\n"
     ]
    },
    {
     "name": "stderr",
     "output_type": "stream",
     "text": [
      " 88%|█████████████████████████████████████████████████████████████▋        | 88101/100000 [12:49:05<1:02:07,  3.19it/s]"
     ]
    },
    {
     "name": "stdout",
     "output_type": "stream",
     "text": [
      "6.231953680309652\n",
      "94\n"
     ]
    },
    {
     "name": "stderr",
     "output_type": "stream",
     "text": [
      " 88%|█████████████████████████████████████████████████████████████▋        | 88201/100000 [12:49:40<1:17:30,  2.54it/s]"
     ]
    },
    {
     "name": "stdout",
     "output_type": "stream",
     "text": [
      "5.6009364571493245\n",
      "91\n",
      "[0.2, 0.9, 0.9, 0.1]\n",
      "tf.Tensor([[0.00678993 0.01547894 0.604989   0.37274212]], shape=(1, 4), dtype=float32)\n",
      "[0.5, 0.9, 0.9, 0.1]\n",
      "tf.Tensor([[0.00115298 0.01669891 0.87357444 0.10857365]], shape=(1, 4), dtype=float32)\n",
      "[0.5, 0.6, 0.9, 0.1]\n",
      "tf.Tensor([[3.3385836e-04 2.1297136e-01 7.7383113e-01 1.2863625e-02]], shape=(1, 4), dtype=float32)\n",
      "[0.8, 0.6, 0.9, 0.1]\n",
      "tf.Tensor([[3.6522106e-05 9.9984491e-01 1.1221891e-04 6.3752836e-06]], shape=(1, 4), dtype=float32)\n",
      "[0.8, 0.4, 0.9, 0.1]\n",
      "tf.Tensor([[9.9948251e-01 5.0152926e-04 8.3026981e-07 1.5083682e-05]], shape=(1, 4), dtype=float32)\n",
      "[0.8, 0.3, 0.9, 0.1]\n",
      "tf.Tensor([[9.9973649e-01 2.4988630e-04 5.1204853e-07 1.3162891e-05]], shape=(1, 4), dtype=float32)\n",
      "[0.8, 0.2, 0.9, 0.1]\n",
      "tf.Tensor([[9.9972337e-01 2.6359002e-04 5.4009820e-07 1.2403319e-05]], shape=(1, 4), dtype=float32)\n",
      "[0.9, 0.2, 0.9, 0.1]\n",
      "tf.Tensor([[9.9973875e-01 2.4783658e-04 4.9767857e-07 1.2892862e-05]], shape=(1, 4), dtype=float32)\n"
     ]
    },
    {
     "name": "stderr",
     "output_type": "stream",
     "text": [
      " 88%|█████████████████████████████████████████████████████████████▊        | 88301/100000 [12:50:18<1:19:41,  2.45it/s]"
     ]
    },
    {
     "name": "stdout",
     "output_type": "stream",
     "text": [
      "5.374346057785779\n",
      "94\n"
     ]
    },
    {
     "name": "stderr",
     "output_type": "stream",
     "text": [
      " 88%|█████████████████████████████████████████████████████████████▉        | 88401/100000 [12:50:52<1:11:04,  2.72it/s]"
     ]
    },
    {
     "name": "stdout",
     "output_type": "stream",
     "text": [
      "5.267724882491352\n",
      "86\n",
      "[0.8, 0.1, 0.5, 0.7]\n",
      "tf.Tensor([[0.00506878 0.02226037 0.6917008  0.28097007]], shape=(1, 4), dtype=float32)\n",
      "[0.8, 0.4, 0.5, 0.7]\n",
      "tf.Tensor([[0.0011221  0.02601848 0.90723515 0.06562434]], shape=(1, 4), dtype=float32)\n",
      "[0.8, 0.7, 0.5, 0.7]\n",
      "tf.Tensor([[2.1136158e-04 9.4264436e-01 5.5936873e-02 1.2073857e-03]], shape=(1, 4), dtype=float32)\n",
      "[0.6, 0.7, 0.5, 0.7]\n",
      "tf.Tensor([[4.1044090e-04 9.9940336e-01 1.7602963e-04 1.0124127e-05]], shape=(1, 4), dtype=float32)\n",
      "[0.4, 0.7, 0.5, 0.7]\n",
      "tf.Tensor([[9.9943680e-01 5.4758188e-04 9.7825489e-07 1.4655316e-05]], shape=(1, 4), dtype=float32)\n"
     ]
    },
    {
     "name": "stderr",
     "output_type": "stream",
     "text": [
      " 89%|█████████████████████████████████████████████████████████████▉        | 88501/100000 [12:51:32<1:17:26,  2.47it/s]"
     ]
    },
    {
     "name": "stdout",
     "output_type": "stream",
     "text": [
      "4.909951719218935\n",
      "95\n"
     ]
    },
    {
     "name": "stderr",
     "output_type": "stream",
     "text": [
      " 89%|██████████████████████████████████████████████████████████████        | 88601/100000 [12:52:11<1:07:31,  2.81it/s]"
     ]
    },
    {
     "name": "stdout",
     "output_type": "stream",
     "text": [
      "5.436781823338295\n",
      "95\n",
      "[0.4, 0.7, 0.1, 0.1]\n",
      "tf.Tensor([[0.00589862 0.02233314 0.6046031  0.3671651 ]], shape=(1, 4), dtype=float32)\n",
      "[0.4, 0.4, 0.1, 0.1]\n",
      "tf.Tensor([[0.00143117 0.02152352 0.85994196 0.11710336]], shape=(1, 4), dtype=float32)\n",
      "[0.4, 0.1, 0.1, 0.1]\n",
      "tf.Tensor([[5.4488209e-04 1.7148602e-01 8.1172222e-01 1.6246837e-02]], shape=(1, 4), dtype=float32)\n"
     ]
    },
    {
     "name": "stderr",
     "output_type": "stream",
     "text": [
      " 89%|██████████████████████████████████████████████████████████████        | 88701/100000 [12:52:46<1:11:34,  2.63it/s]"
     ]
    },
    {
     "name": "stdout",
     "output_type": "stream",
     "text": [
      "6.2525881381075425\n",
      "95\n"
     ]
    },
    {
     "name": "stderr",
     "output_type": "stream",
     "text": [
      " 89%|██████████████████████████████████████████████████████████████▏       | 88801/100000 [12:53:22<1:13:29,  2.54it/s]"
     ]
    },
    {
     "name": "stdout",
     "output_type": "stream",
     "text": [
      "5.808325495994234\n",
      "95\n",
      "[0.7, 0.6, 0.9, 0.1]\n",
      "tf.Tensor([[0.00521323 0.02544224 0.5888492  0.38049537]], shape=(1, 4), dtype=float32)\n",
      "[0.7, 0.3, 0.9, 0.1]\n",
      "tf.Tensor([[0.00114533 0.02140257 0.8821328  0.09531932]], shape=(1, 4), dtype=float32)\n",
      "[1.0, 0.3, 0.9, 0.1]\n",
      "tf.Tensor([[2.3960473e-04 4.8790592e-01 5.0374055e-01 8.1138955e-03]], shape=(1, 4), dtype=float32)\n",
      "[1.0, 0.0, 0.9, 0.1]\n",
      "tf.Tensor([[5.2199703e-05 9.9981862e-01 1.2197829e-04 7.2514795e-06]], shape=(1, 4), dtype=float32)\n",
      "[1.0, 0.2, 0.9, 0.1]\n",
      "tf.Tensor([[9.9943465e-01 5.4933061e-04 9.6508711e-07 1.5051349e-05]], shape=(1, 4), dtype=float32)\n",
      "[1.0, 0.1, 0.9, 0.1]\n",
      "tf.Tensor([[9.9970007e-01 2.8372480e-04 8.2314745e-07 1.5389945e-05]], shape=(1, 4), dtype=float32)\n"
     ]
    },
    {
     "name": "stderr",
     "output_type": "stream",
     "text": [
      " 89%|██████████████████████████████████████████████████████████████▏       | 88901/100000 [12:53:59<1:03:11,  2.93it/s]"
     ]
    },
    {
     "name": "stdout",
     "output_type": "stream",
     "text": [
      "5.102738061834133\n",
      "91\n"
     ]
    },
    {
     "name": "stderr",
     "output_type": "stream",
     "text": [
      " 89%|██████████████████████████████████████████████████████████████▎       | 89001/100000 [12:54:35<1:06:15,  2.77it/s]"
     ]
    },
    {
     "name": "stdout",
     "output_type": "stream",
     "text": [
      "5.415185556163503\n",
      "94\n",
      "[0.9, 0.5, 0.1, 0.9]\n",
      "tf.Tensor([[0.01228599 0.02780275 0.54083264 0.4190787 ]], shape=(1, 4), dtype=float32)\n",
      "[0.6, 0.5, 0.1, 0.9]\n",
      "tf.Tensor([[0.00425985 0.0193487  0.6933281  0.28306332]], shape=(1, 4), dtype=float32)\n",
      "[0.6, 0.8, 0.1, 0.9]\n",
      "tf.Tensor([[5.7790242e-04 2.9891403e-02 9.3459189e-01 3.4938768e-02]], shape=(1, 4), dtype=float32)\n",
      "[0.3, 0.8, 0.1, 0.9]\n",
      "tf.Tensor([[2.40398404e-05 9.99506474e-01 4.55757487e-04 1.37368115e-05]], shape=(1, 4), dtype=float32)\n",
      "[0.1, 0.8, 0.1, 0.9]\n",
      "tf.Tensor([[9.9910247e-01 8.7733683e-04 1.7680022e-06 1.8502662e-05]], shape=(1, 4), dtype=float32)\n"
     ]
    },
    {
     "name": "stderr",
     "output_type": "stream",
     "text": [
      " 89%|██████████████████████████████████████████████████████████████▎       | 89101/100000 [12:55:12<1:16:53,  2.36it/s]"
     ]
    },
    {
     "name": "stdout",
     "output_type": "stream",
     "text": [
      "5.044038069008029\n",
      "90\n"
     ]
    },
    {
     "name": "stderr",
     "output_type": "stream",
     "text": [
      " 89%|██████████████████████████████████████████████████████████████▍       | 89201/100000 [12:55:48<1:08:38,  2.62it/s]"
     ]
    },
    {
     "name": "stdout",
     "output_type": "stream",
     "text": [
      "6.0967823511339\n",
      "98\n",
      "[0.7, 0.1, 0.9, 0.9]\n",
      "tf.Tensor([[0.01323992 0.02522725 0.51981264 0.4417201 ]], shape=(1, 4), dtype=float32)\n",
      "[0.7, 0.4, 0.9, 0.9]\n",
      "tf.Tensor([[0.00479678 0.01875544 0.64144444 0.33500326]], shape=(1, 4), dtype=float32)\n",
      "[0.7, 0.7, 0.9, 0.9]\n",
      "tf.Tensor([[6.6304329e-04 2.1639889e-02 9.2295706e-01 5.4739982e-02]], shape=(1, 4), dtype=float32)\n",
      "[0.7, 1.0, 0.9, 0.9]\n",
      "tf.Tensor([[1.2971454e-05 9.9964106e-01 3.3349119e-04 1.2414675e-05]], shape=(1, 4), dtype=float32)\n",
      "[0.9, 1.0, 0.9, 0.9]\n",
      "tf.Tensor([[9.9797136e-01 2.0053852e-03 2.0819011e-06 2.1136311e-05]], shape=(1, 4), dtype=float32)\n"
     ]
    },
    {
     "name": "stderr",
     "output_type": "stream",
     "text": [
      " 89%|██████████████████████████████████████████████████████████████▌       | 89301/100000 [12:56:23<1:08:11,  2.61it/s]"
     ]
    },
    {
     "name": "stdout",
     "output_type": "stream",
     "text": [
      "5.109980881177979\n",
      "88\n"
     ]
    },
    {
     "name": "stderr",
     "output_type": "stream",
     "text": [
      " 89%|██████████████████████████████████████████████████████████████▌       | 89401/100000 [12:56:59<1:08:51,  2.57it/s]"
     ]
    },
    {
     "name": "stdout",
     "output_type": "stream",
     "text": [
      "4.989923100591073\n",
      "91\n",
      "[0.3, 0.0, 0.9, 0.9]\n",
      "tf.Tensor([[0.00814073 0.02263565 0.56749886 0.4017248 ]], shape=(1, 4), dtype=float32)\n",
      "[0.3, 0.3, 0.9, 0.9]\n",
      "tf.Tensor([[0.00149771 0.02002959 0.8604711  0.11800151]], shape=(1, 4), dtype=float32)\n",
      "[0.6, 0.3, 0.9, 0.9]\n",
      "tf.Tensor([[5.1877671e-04 7.0231974e-01 2.8896794e-01 8.1935134e-03]], shape=(1, 4), dtype=float32)\n",
      "[0.6, 0.5, 0.9, 0.9]\n",
      "tf.Tensor([[3.0072712e-04 9.9955946e-01 1.2960870e-04 1.0101326e-05]], shape=(1, 4), dtype=float32)\n",
      "[0.6, 0.7, 0.9, 0.9]\n",
      "tf.Tensor([[9.9963212e-01 3.5628772e-04 5.9939975e-07 1.0923577e-05]], shape=(1, 4), dtype=float32)\n",
      "[0.7, 0.7, 0.9, 0.9]\n",
      "tf.Tensor([[9.9979824e-01 1.9107768e-04 4.1960985e-07 1.0219660e-05]], shape=(1, 4), dtype=float32)\n",
      "[0.7, 0.8, 0.9, 0.9]\n",
      "tf.Tensor([[9.9982339e-01 1.6746491e-04 3.3228091e-07 8.8245915e-06]], shape=(1, 4), dtype=float32)\n",
      "[0.8, 0.8, 0.9, 0.9]\n",
      "tf.Tensor([[9.9982733e-01 1.6373686e-04 3.2129449e-07 8.5920192e-06]], shape=(1, 4), dtype=float32)\n",
      "[0.9, 0.8, 0.9, 0.9]\n",
      "tf.Tensor([[9.9981040e-01 1.7946026e-04 3.8014838e-07 9.7454276e-06]], shape=(1, 4), dtype=float32)\n"
     ]
    },
    {
     "name": "stderr",
     "output_type": "stream",
     "text": [
      " 90%|██████████████████████████████████████████████████████████████▋       | 89501/100000 [12:57:34<1:07:48,  2.58it/s]"
     ]
    },
    {
     "name": "stdout",
     "output_type": "stream",
     "text": [
      "5.217790725339344\n",
      "94\n"
     ]
    },
    {
     "name": "stderr",
     "output_type": "stream",
     "text": [
      " 90%|██████████████████████████████████████████████████████████████▋       | 89601/100000 [12:58:11<1:04:51,  2.67it/s]"
     ]
    },
    {
     "name": "stdout",
     "output_type": "stream",
     "text": [
      "5.984764697662523\n",
      "97\n",
      "[0.0, 0.8, 0.9, 0.9]\n",
      "tf.Tensor([[0.00847108 0.01717425 0.57541245 0.39894223]], shape=(1, 4), dtype=float32)\n",
      "[0.3, 0.8, 0.9, 0.9]\n",
      "tf.Tensor([[0.00181202 0.01435828 0.8148453  0.16898428]], shape=(1, 4), dtype=float32)\n",
      "[0.6, 0.8, 0.9, 0.9]\n",
      "tf.Tensor([[2.7274829e-04 1.7397752e-01 8.0996871e-01 1.5780946e-02]], shape=(1, 4), dtype=float32)\n",
      "[0.9, 0.8, 0.9, 0.9]\n",
      "tf.Tensor([[6.9129092e-05 9.9981076e-01 1.1371967e-04 6.4867077e-06]], shape=(1, 4), dtype=float32)\n",
      "[0.9, 1.0, 0.9, 0.9]\n",
      "tf.Tensor([[9.9971277e-01 2.7620883e-04 4.8912932e-07 1.0482010e-05]], shape=(1, 4), dtype=float32)\n"
     ]
    },
    {
     "name": "stderr",
     "output_type": "stream",
     "text": [
      " 90%|████████████████████████████████████████████████████████████████▌       | 89701/100000 [12:58:47<56:51,  3.02it/s]"
     ]
    },
    {
     "name": "stdout",
     "output_type": "stream",
     "text": [
      "5.1727214355119004\n",
      "91\n"
     ]
    },
    {
     "name": "stderr",
     "output_type": "stream",
     "text": [
      " 90%|██████████████████████████████████████████████████████████████▊       | 89801/100000 [12:59:22<1:14:45,  2.27it/s]"
     ]
    },
    {
     "name": "stdout",
     "output_type": "stream",
     "text": [
      "5.530408953962685\n",
      "93\n",
      "[0.2, 0.1, 0.9, 0.9]\n",
      "tf.Tensor([[0.01033887 0.0186182  0.56794906 0.4030938 ]], shape=(1, 4), dtype=float32)\n",
      "[0.5, 0.1, 0.9, 0.9]\n",
      "tf.Tensor([[0.00464249 0.01758801 0.6693803  0.3083892 ]], shape=(1, 4), dtype=float32)\n",
      "[0.5, 0.4, 0.9, 0.9]\n",
      "tf.Tensor([[6.2252837e-04 1.9139411e-02 9.3039346e-01 4.9844701e-02]], shape=(1, 4), dtype=float32)\n",
      "[0.5, 0.7, 0.9, 0.9]\n",
      "tf.Tensor([[2.0466501e-05 9.9964654e-01 3.2012459e-04 1.2880882e-05]], shape=(1, 4), dtype=float32)\n",
      "[0.7, 0.7, 0.9, 0.9]\n",
      "tf.Tensor([[9.9953246e-01 4.5527649e-04 7.4444097e-07 1.1505705e-05]], shape=(1, 4), dtype=float32)\n",
      "[0.8, 0.7, 0.9, 0.9]\n",
      "tf.Tensor([[9.9980623e-01 1.8328635e-04 4.2374398e-07 1.0005649e-05]], shape=(1, 4), dtype=float32)\n",
      "[0.8, 0.8, 0.9, 0.9]\n",
      "tf.Tensor([[9.9982482e-01 1.6601747e-04 3.4796696e-07 8.7675371e-06]], shape=(1, 4), dtype=float32)\n",
      "[0.9, 0.8, 0.9, 0.9]\n",
      "tf.Tensor([[9.9981159e-01 1.7835503e-04 4.0085911e-07 9.7392331e-06]], shape=(1, 4), dtype=float32)\n"
     ]
    },
    {
     "name": "stderr",
     "output_type": "stream",
     "text": [
      " 90%|██████████████████████████████████████████████████████████████▉       | 89900/100000 [12:59:58<1:01:28,  2.74it/s]"
     ]
    },
    {
     "name": "stdout",
     "output_type": "stream",
     "text": [
      "6.134693979487112\n",
      "96\n"
     ]
    },
    {
     "name": "stderr",
     "output_type": "stream",
     "text": [
      " 90%|████████████████████████████████████████████████████████████████▊       | 90001/100000 [13:00:41<59:10,  2.82it/s]"
     ]
    },
    {
     "name": "stdout",
     "output_type": "stream",
     "text": [
      "5.675465644978048\n",
      "96\n",
      "[0.3, 0.6, 0.1, 0.9]\n",
      "tf.Tensor([[0.01665667 0.03078352 0.52653956 0.42602032]], shape=(1, 4), dtype=float32)\n",
      "[0.3, 0.9, 0.1, 0.9]\n",
      "tf.Tensor([[0.00516157 0.02840052 0.7047504  0.26168752]], shape=(1, 4), dtype=float32)\n",
      "[0.0, 0.9, 0.1, 0.9]\n",
      "tf.Tensor([[5.4525980e-04 5.4689560e-02 9.1890186e-01 2.5863279e-02]], shape=(1, 4), dtype=float32)\n",
      "[0.3, 0.9, 0.1, 0.9]\n",
      "tf.Tensor([[4.8623402e-05 9.9975246e-01 1.9059084e-04 8.2860051e-06]], shape=(1, 4), dtype=float32)\n"
     ]
    },
    {
     "name": "stderr",
     "output_type": "stream",
     "text": [
      " 90%|████████████████████████████████████████████████████████████████▊       | 90101/100000 [13:01:16<54:22,  3.03it/s]"
     ]
    },
    {
     "name": "stdout",
     "output_type": "stream",
     "text": [
      "5.323336702760126\n",
      "94\n"
     ]
    },
    {
     "name": "stderr",
     "output_type": "stream",
     "text": [
      " 90%|███████████████████████████████████████████████████████████████▏      | 90201/100000 [13:01:53<1:04:22,  2.54it/s]"
     ]
    },
    {
     "name": "stdout",
     "output_type": "stream",
     "text": [
      "5.791769080305829\n",
      "95\n",
      "[0.2, 0.4, 0.9, 0.9]\n",
      "tf.Tensor([[0.01719734 0.02570147 0.49738154 0.4597196 ]], shape=(1, 4), dtype=float32)\n",
      "[0.5, 0.4, 0.9, 0.9]\n",
      "tf.Tensor([[0.00724897 0.02401148 0.59395945 0.3747801 ]], shape=(1, 4), dtype=float32)\n",
      "[0.5, 0.7, 0.9, 0.9]\n",
      "tf.Tensor([[6.0039578e-04 3.3749118e-02 9.2477787e-01 4.0872727e-02]], shape=(1, 4), dtype=float32)\n",
      "[0.8, 0.7, 0.9, 0.9]\n",
      "tf.Tensor([[2.8883926e-05 9.9979633e-01 1.6548020e-04 9.3587541e-06]], shape=(1, 4), dtype=float32)\n",
      "[0.8, 0.9, 0.9, 0.9]\n",
      "tf.Tensor([[9.9948871e-01 4.9787411e-04 7.5840455e-07 1.2653802e-05]], shape=(1, 4), dtype=float32)\n"
     ]
    },
    {
     "name": "stderr",
     "output_type": "stream",
     "text": [
      " 90%|███████████████████████████████████████████████████████████████▏      | 90301/100000 [13:02:31<1:07:10,  2.41it/s]"
     ]
    },
    {
     "name": "stdout",
     "output_type": "stream",
     "text": [
      "5.454696499552619\n",
      "96\n"
     ]
    },
    {
     "name": "stderr",
     "output_type": "stream",
     "text": [
      " 90%|███████████████████████████████████████████████████████████████▎      | 90401/100000 [13:03:10<1:10:52,  2.26it/s]"
     ]
    },
    {
     "name": "stdout",
     "output_type": "stream",
     "text": [
      "6.039111917277112\n",
      "98\n",
      "[0.6, 0.0, 0.5, 0.3]\n",
      "tf.Tensor([[0.02293414 0.03141239 0.47926846 0.46638507]], shape=(1, 4), dtype=float32)\n",
      "[0.6, 0.3, 0.5, 0.3]\n",
      "tf.Tensor([[0.01091517 0.02786656 0.53877854 0.4224398 ]], shape=(1, 4), dtype=float32)\n",
      "[0.3, 0.3, 0.5, 0.3]\n",
      "tf.Tensor([[0.00148421 0.0213913  0.86987734 0.10724718]], shape=(1, 4), dtype=float32)\n",
      "[0.6, 0.3, 0.5, 0.3]\n",
      "tf.Tensor([[3.9753868e-05 9.9858057e-01 1.3307374e-03 4.8891052e-05]], shape=(1, 4), dtype=float32)\n",
      "[0.4, 0.3, 0.5, 0.3]\n",
      "tf.Tensor([[9.9921322e-01 7.7015674e-04 1.2632020e-06 1.5258885e-05]], shape=(1, 4), dtype=float32)\n"
     ]
    },
    {
     "name": "stderr",
     "output_type": "stream",
     "text": [
      " 91%|███████████████████████████████████████████████████████████████▎      | 90501/100000 [13:03:48<1:05:24,  2.42it/s]"
     ]
    },
    {
     "name": "stdout",
     "output_type": "stream",
     "text": [
      "5.7285512687590145\n",
      "97\n"
     ]
    },
    {
     "name": "stderr",
     "output_type": "stream",
     "text": [
      " 91%|███████████████████████████████████████████████████████████████▍      | 90601/100000 [13:04:26<1:02:45,  2.50it/s]"
     ]
    },
    {
     "name": "stdout",
     "output_type": "stream",
     "text": [
      "4.948861460386367\n",
      "94\n",
      "[0.6, 0.6, 0.9, 0.1]\n",
      "tf.Tensor([[0.01272564 0.02510862 0.49765903 0.4645068 ]], shape=(1, 4), dtype=float32)\n",
      "[0.6, 0.3, 0.9, 0.1]\n",
      "tf.Tensor([[0.00507739 0.015265   0.5884832  0.39117438]], shape=(1, 4), dtype=float32)\n",
      "[0.9, 0.3, 0.9, 0.1]\n",
      "tf.Tensor([[5.0906301e-04 1.9738564e-02 9.2333782e-01 5.6414548e-02]], shape=(1, 4), dtype=float32)\n",
      "[0.9, 0.0, 0.9, 0.1]\n",
      "tf.Tensor([[2.5504653e-05 9.9949563e-01 4.5805387e-04 2.0852989e-05]], shape=(1, 4), dtype=float32)\n",
      "[0.9, 0.2, 0.9, 0.1]\n",
      "tf.Tensor([[9.994004e-01 5.837559e-04 9.103383e-07 1.489097e-05]], shape=(1, 4), dtype=float32)\n"
     ]
    },
    {
     "name": "stderr",
     "output_type": "stream",
     "text": [
      " 91%|█████████████████████████████████████████████████████████████████▎      | 90701/100000 [13:05:05<53:27,  2.90it/s]"
     ]
    },
    {
     "name": "stdout",
     "output_type": "stream",
     "text": [
      "5.955241128016163\n",
      "96\n"
     ]
    },
    {
     "name": "stderr",
     "output_type": "stream",
     "text": [
      " 91%|███████████████████████████████████████████████████████████████▌      | 90801/100000 [13:05:41<1:05:31,  2.34it/s]"
     ]
    },
    {
     "name": "stdout",
     "output_type": "stream",
     "text": [
      "5.62605698596265\n",
      "98\n",
      "[0.4, 0.3, 0.1, 0.1]\n",
      "tf.Tensor([[0.01976763 0.03412884 0.481152   0.4649515 ]], shape=(1, 4), dtype=float32)\n",
      "[0.1, 0.3, 0.1, 0.1]\n",
      "tf.Tensor([[0.00576934 0.02245326 0.5622894  0.409488  ]], shape=(1, 4), dtype=float32)\n",
      "[0.1, 0.0, 0.1, 0.1]\n",
      "tf.Tensor([[0.00145507 0.0227592  0.8745514  0.10123431]], shape=(1, 4), dtype=float32)\n",
      "[0.1, 0.3, 0.1, 0.1]\n",
      "tf.Tensor([[2.9189245e-05 9.9894315e-01 9.9374028e-04 3.3915381e-05]], shape=(1, 4), dtype=float32)\n"
     ]
    },
    {
     "name": "stderr",
     "output_type": "stream",
     "text": [
      " 91%|███████████████████████████████████████████████████████████████▋      | 90901/100000 [13:06:21<1:00:21,  2.51it/s]"
     ]
    },
    {
     "name": "stdout",
     "output_type": "stream",
     "text": [
      "5.183455867452533\n",
      "93\n"
     ]
    },
    {
     "name": "stderr",
     "output_type": "stream",
     "text": [
      " 91%|███████████████████████████████████████████████████████████████▋      | 91001/100000 [13:07:02<1:17:35,  1.93it/s]"
     ]
    },
    {
     "name": "stdout",
     "output_type": "stream",
     "text": [
      "5.4756512231063885\n",
      "92\n",
      "[0.4, 0.4, 0.5, 0.3]\n",
      "tf.Tensor([[0.01173719 0.02432763 0.5077596  0.45617557]], shape=(1, 4), dtype=float32)\n",
      "[0.4, 0.1, 0.5, 0.3]\n",
      "tf.Tensor([[0.00629536 0.01877964 0.5856739  0.38925102]], shape=(1, 4), dtype=float32)\n",
      "[0.4, 0.4, 0.5, 0.3]\n",
      "tf.Tensor([[6.0879492e-04 2.2333337e-02 9.2226094e-01 5.4796904e-02]], shape=(1, 4), dtype=float32)\n",
      "[0.4, 0.1, 0.5, 0.3]\n",
      "tf.Tensor([[4.384403e-05 9.992755e-01 6.548694e-04 2.579068e-05]], shape=(1, 4), dtype=float32)\n",
      "[0.4, 0.3, 0.5, 0.3]\n",
      "tf.Tensor([[9.9974471e-01 2.4509203e-04 5.4516153e-07 9.4961642e-06]], shape=(1, 4), dtype=float32)\n"
     ]
    },
    {
     "name": "stderr",
     "output_type": "stream",
     "text": [
      " 91%|█████████████████████████████████████████████████████████████████▌      | 91101/100000 [13:07:43<53:27,  2.77it/s]"
     ]
    },
    {
     "name": "stdout",
     "output_type": "stream",
     "text": [
      "6.537990064364794\n",
      "100\n"
     ]
    },
    {
     "name": "stderr",
     "output_type": "stream",
     "text": [
      " 91%|███████████████████████████████████████████████████████████████▊      | 91201/100000 [13:08:26<1:01:38,  2.38it/s]"
     ]
    },
    {
     "name": "stdout",
     "output_type": "stream",
     "text": [
      "5.989541280141396\n",
      "96\n",
      "[0.1, 0.5, 0.9, 0.1]\n",
      "tf.Tensor([[0.01521728 0.02005212 0.514109   0.4506216 ]], shape=(1, 4), dtype=float32)\n",
      "[0.4, 0.5, 0.9, 0.1]\n",
      "tf.Tensor([[0.00440187 0.01450098 0.6297285  0.35136858]], shape=(1, 4), dtype=float32)\n",
      "[0.7, 0.5, 0.9, 0.1]\n",
      "tf.Tensor([[3.2022994e-04 2.4444796e-02 9.4123477e-01 3.4000207e-02]], shape=(1, 4), dtype=float32)\n",
      "[0.7, 0.2, 0.9, 0.1]\n",
      "tf.Tensor([[3.3961162e-05 9.9981004e-01 1.4777812e-04 8.2545703e-06]], shape=(1, 4), dtype=float32)\n",
      "[0.9, 0.2, 0.9, 0.1]\n",
      "tf.Tensor([[9.9980444e-01 1.8640632e-04 4.1761396e-07 8.7056533e-06]], shape=(1, 4), dtype=float32)\n"
     ]
    },
    {
     "name": "stderr",
     "output_type": "stream",
     "text": [
      " 91%|███████████████████████████████████████████████████████████████▉      | 91301/100000 [13:09:08<1:03:46,  2.27it/s]"
     ]
    },
    {
     "name": "stdout",
     "output_type": "stream",
     "text": [
      "4.622973526744892\n",
      "94\n"
     ]
    },
    {
     "name": "stderr",
     "output_type": "stream",
     "text": [
      " 91%|█████████████████████████████████████████████████████████████████▊      | 91401/100000 [13:09:50<55:18,  2.59it/s]"
     ]
    },
    {
     "name": "stdout",
     "output_type": "stream",
     "text": [
      "6.154846821475263\n",
      "95\n",
      "[0.6, 0.6, 0.1, 0.1]\n",
      "tf.Tensor([[0.01203276 0.02272793 0.48077977 0.4844595 ]], shape=(1, 4), dtype=float32)\n",
      "[0.6, 0.2, 0.1, 0.1]\n",
      "tf.Tensor([[0.00720241 0.02295372 0.55614    0.41370383]], shape=(1, 4), dtype=float32)\n",
      "[0.3, 0.2, 0.1, 0.1]\n",
      "tf.Tensor([[0.00105955 0.03299914 0.9024386  0.06350269]], shape=(1, 4), dtype=float32)\n",
      "[0.0, 0.2, 0.1, 0.1]\n",
      "tf.Tensor([[3.0840452e-05 9.9963868e-01 3.1668867e-04 1.3648547e-05]], shape=(1, 4), dtype=float32)\n",
      "[0.0, 0.0, 0.1, 0.1]\n",
      "tf.Tensor([[9.9977595e-01 2.1439142e-04 5.5025151e-07 9.0071262e-06]], shape=(1, 4), dtype=float32)\n",
      "[0.1, 0.0, 0.1, 0.1]\n",
      "tf.Tensor([[9.9985492e-01 1.3514906e-04 4.5129732e-07 9.4307825e-06]], shape=(1, 4), dtype=float32)\n"
     ]
    },
    {
     "name": "stderr",
     "output_type": "stream",
     "text": [
      " 92%|█████████████████████████████████████████████████████████████████▉      | 91501/100000 [13:10:33<54:49,  2.58it/s]"
     ]
    },
    {
     "name": "stdout",
     "output_type": "stream",
     "text": [
      "5.309610209550917\n",
      "94\n"
     ]
    },
    {
     "name": "stderr",
     "output_type": "stream",
     "text": [
      " 92%|█████████████████████████████████████████████████████████████████▉      | 91601/100000 [13:11:12<55:11,  2.54it/s]"
     ]
    },
    {
     "name": "stdout",
     "output_type": "stream",
     "text": [
      "6.223028645838824\n",
      "95\n",
      "[0.3, 0.0, 0.5, 0.7]\n",
      "tf.Tensor([[0.02973879 0.02963164 0.4339452  0.5066843 ]], shape=(1, 4), dtype=float32)\n",
      "[0.3, 0.4, 0.5, 0.7]\n",
      "tf.Tensor([[0.0137622  0.02170317 0.48987633 0.47465837]], shape=(1, 4), dtype=float32)\n",
      "[0.3, 0.7, 0.5, 0.7]\n",
      "tf.Tensor([[0.00161614 0.01734958 0.8422593  0.13877495]], shape=(1, 4), dtype=float32)\n",
      "[0.6, 0.7, 0.5, 0.7]\n",
      "tf.Tensor([[4.7391841e-05 9.9854326e-01 1.3601936e-03 4.9162976e-05]], shape=(1, 4), dtype=float32)\n",
      "[0.4, 0.7, 0.5, 0.7]\n",
      "tf.Tensor([[9.9965775e-01 3.3149842e-04 7.0607751e-07 9.9510289e-06]], shape=(1, 4), dtype=float32)\n"
     ]
    },
    {
     "name": "stderr",
     "output_type": "stream",
     "text": [
      " 92%|██████████████████████████████████████████████████████████████████      | 91701/100000 [13:11:55<50:54,  2.72it/s]"
     ]
    },
    {
     "name": "stdout",
     "output_type": "stream",
     "text": [
      "5.449114482025733\n",
      "94\n"
     ]
    },
    {
     "name": "stderr",
     "output_type": "stream",
     "text": [
      " 92%|██████████████████████████████████████████████████████████████████      | 91801/100000 [13:12:36<57:35,  2.37it/s]"
     ]
    },
    {
     "name": "stdout",
     "output_type": "stream",
     "text": [
      "6.295404378401398\n",
      "96\n",
      "[0.2, 0.2, 0.9, 0.1]\n",
      "tf.Tensor([[0.02440467 0.02271236 0.43940067 0.5134823 ]], shape=(1, 4), dtype=float32)\n",
      "[0.6, 0.2, 0.9, 0.1]\n",
      "tf.Tensor([[0.00879692 0.0169244  0.5087988  0.46547988]], shape=(1, 4), dtype=float32)\n",
      "[0.9, 0.2, 0.9, 0.1]\n",
      "tf.Tensor([[6.6249288e-04 2.4679953e-02 9.0174896e-01 7.2908528e-02]], shape=(1, 4), dtype=float32)\n",
      "[0.9, 0.0, 0.9, 0.1]\n",
      "tf.Tensor([[3.3609795e-05 9.9973351e-01 2.1952025e-04 1.3350145e-05]], shape=(1, 4), dtype=float32)\n",
      "[0.9, 0.2, 0.9, 0.1]\n",
      "tf.Tensor([[9.9975902e-01 2.3082769e-04 5.2536882e-07 9.7013453e-06]], shape=(1, 4), dtype=float32)\n"
     ]
    },
    {
     "name": "stderr",
     "output_type": "stream",
     "text": [
      " 92%|████████████████████████████████████████████████████████████████▎     | 91901/100000 [13:13:19<1:06:18,  2.04it/s]"
     ]
    },
    {
     "name": "stdout",
     "output_type": "stream",
     "text": [
      "4.2831031919513265\n",
      "95\n"
     ]
    },
    {
     "name": "stderr",
     "output_type": "stream",
     "text": [
      " 92%|██████████████████████████████████████████████████████████████████▏     | 92001/100000 [13:14:02<52:54,  2.52it/s]"
     ]
    },
    {
     "name": "stdout",
     "output_type": "stream",
     "text": [
      "5.2004602651769956\n",
      "94\n",
      "[0.5, 0.3, 0.5, 0.7]\n",
      "tf.Tensor([[0.02529725 0.02834887 0.44275668 0.5035972 ]], shape=(1, 4), dtype=float32)\n"
     ]
    },
    {
     "name": "stderr",
     "output_type": "stream",
     "text": [
      " 92%|██████████████████████████████████████████████████████████████████▎     | 92101/100000 [13:14:44<57:02,  2.31it/s]"
     ]
    },
    {
     "name": "stdout",
     "output_type": "stream",
     "text": [
      "5.909877281995604\n",
      "95\n"
     ]
    },
    {
     "name": "stderr",
     "output_type": "stream",
     "text": [
      " 92%|██████████████████████████████████████████████████████████████████▍     | 92201/100000 [13:15:27<59:10,  2.20it/s]"
     ]
    },
    {
     "name": "stdout",
     "output_type": "stream",
     "text": [
      "5.613160289808592\n",
      "96\n",
      "[0.7, 0.2, 0.1, 0.9]\n",
      "tf.Tensor([[0.02494272 0.02777039 0.45856175 0.48872513]], shape=(1, 4), dtype=float32)\n",
      "[0.7, 0.6, 0.1, 0.9]\n",
      "tf.Tensor([[0.0101137  0.02371562 0.52840525 0.4377654 ]], shape=(1, 4), dtype=float32)\n",
      "[0.4, 0.6, 0.1, 0.9]\n",
      "tf.Tensor([[0.00119896 0.02795055 0.9006282  0.07022221]], shape=(1, 4), dtype=float32)\n",
      "[0.4, 0.9, 0.1, 0.9]\n",
      "tf.Tensor([[5.6813653e-05 9.9963582e-01 2.9531214e-04 1.2035511e-05]], shape=(1, 4), dtype=float32)\n",
      "[0.2, 0.9, 0.1, 0.9]\n",
      "tf.Tensor([[9.9974722e-01 2.4206356e-04 6.7773021e-07 1.0063978e-05]], shape=(1, 4), dtype=float32)\n"
     ]
    },
    {
     "name": "stderr",
     "output_type": "stream",
     "text": [
      " 92%|██████████████████████████████████████████████████████████████████▍     | 92301/100000 [13:16:09<58:26,  2.20it/s]"
     ]
    },
    {
     "name": "stdout",
     "output_type": "stream",
     "text": [
      "5.961184509220702\n",
      "95\n"
     ]
    },
    {
     "name": "stderr",
     "output_type": "stream",
     "text": [
      " 92%|██████████████████████████████████████████████████████████████████▌     | 92401/100000 [13:16:50<51:58,  2.44it/s]"
     ]
    },
    {
     "name": "stdout",
     "output_type": "stream",
     "text": [
      "5.7802864767989846\n",
      "95\n",
      "[0.3, 0.3, 0.5, 0.3]\n",
      "tf.Tensor([[0.02047327 0.02034745 0.48699462 0.47218466]], shape=(1, 4), dtype=float32)\n",
      "[0.6, 0.3, 0.5, 0.3]\n",
      "tf.Tensor([[0.01245978 0.02343789 0.52737945 0.43672284]], shape=(1, 4), dtype=float32)\n",
      "[0.3, 0.3, 0.5, 0.3]\n",
      "tf.Tensor([[0.00103121 0.01551318 0.88680154 0.09665403]], shape=(1, 4), dtype=float32)\n",
      "[0.6, 0.3, 0.5, 0.3]\n",
      "tf.Tensor([[2.9214398e-05 9.9925107e-01 6.9546496e-04 2.4334653e-05]], shape=(1, 4), dtype=float32)\n",
      "[0.4, 0.3, 0.5, 0.3]\n",
      "tf.Tensor([[9.9970394e-01 2.8602104e-04 6.6790966e-07 9.3432291e-06]], shape=(1, 4), dtype=float32)\n"
     ]
    },
    {
     "name": "stderr",
     "output_type": "stream",
     "text": [
      " 93%|██████████████████████████████████████████████████████████████████▌     | 92501/100000 [13:17:31<58:28,  2.14it/s]"
     ]
    },
    {
     "name": "stdout",
     "output_type": "stream",
     "text": [
      "5.498013144686477\n",
      "98\n"
     ]
    },
    {
     "name": "stderr",
     "output_type": "stream",
     "text": [
      " 93%|██████████████████████████████████████████████████████████████████▋     | 92601/100000 [13:18:14<56:25,  2.19it/s]"
     ]
    },
    {
     "name": "stdout",
     "output_type": "stream",
     "text": [
      "4.762722673894202\n",
      "92\n",
      "[0.3, 0.0, 0.9, 0.9]\n",
      "tf.Tensor([[0.01749459 0.02464158 0.5081575  0.44970638]], shape=(1, 4), dtype=float32)\n",
      "[0.3, 0.3, 0.9, 0.9]\n",
      "tf.Tensor([[0.00359704 0.01694352 0.7091248  0.27033463]], shape=(1, 4), dtype=float32)\n",
      "[0.6, 0.3, 0.9, 0.9]\n",
      "tf.Tensor([[0.00085805 0.24284564 0.7305612  0.02573515]], shape=(1, 4), dtype=float32)\n",
      "[0.6, 0.6, 0.9, 0.9]\n",
      "tf.Tensor([[4.8217375e-04 9.9937135e-01 1.3526702e-04 1.1369630e-05]], shape=(1, 4), dtype=float32)\n",
      "[0.6, 0.8, 0.9, 0.9]\n",
      "tf.Tensor([[9.996866e-01 3.032038e-04 5.734418e-07 9.653686e-06]], shape=(1, 4), dtype=float32)\n",
      "[0.7, 0.8, 0.9, 0.9]\n",
      "tf.Tensor([[9.9983346e-01 1.5818914e-04 3.4802969e-07 8.0058744e-06]], shape=(1, 4), dtype=float32)\n",
      "[0.8, 0.8, 0.9, 0.9]\n",
      "tf.Tensor([[9.9981982e-01 1.7077393e-04 4.0914858e-07 9.0984140e-06]], shape=(1, 4), dtype=float32)\n",
      "[0.8, 0.9, 0.9, 0.9]\n",
      "tf.Tensor([[9.9983442e-01 1.5719314e-04 3.4075214e-07 7.9821957e-06]], shape=(1, 4), dtype=float32)\n"
     ]
    },
    {
     "name": "stderr",
     "output_type": "stream",
     "text": [
      " 93%|██████████████████████████████████████████████████████████████████▋     | 92701/100000 [13:18:56<54:06,  2.25it/s]"
     ]
    },
    {
     "name": "stdout",
     "output_type": "stream",
     "text": [
      "4.375461942513394\n",
      "94\n"
     ]
    },
    {
     "name": "stderr",
     "output_type": "stream",
     "text": [
      " 93%|██████████████████████████████████████████████████████████████████▊     | 92801/100000 [13:19:39<50:51,  2.36it/s]"
     ]
    },
    {
     "name": "stdout",
     "output_type": "stream",
     "text": [
      "5.672722655040851\n",
      "95\n",
      "[0.2, 0.7, 0.1, 0.1]\n",
      "tf.Tensor([[0.01482084 0.02254738 0.5150339  0.44759798]], shape=(1, 4), dtype=float32)\n",
      "[0.2, 0.4, 0.1, 0.1]\n",
      "tf.Tensor([[0.00523633 0.01849321 0.611833   0.3644374 ]], shape=(1, 4), dtype=float32)\n",
      "[0.2, 0.1, 0.1, 0.1]\n",
      "tf.Tensor([[0.00094235 0.02835796 0.91493976 0.05575991]], shape=(1, 4), dtype=float32)\n",
      "[0.0, 0.1, 0.1, 0.1]\n",
      "tf.Tensor([[1.9341396e-05 9.9979120e-01 1.8099665e-04 8.4896783e-06]], shape=(1, 4), dtype=float32)\n",
      "[0.2, 0.1, 0.1, 0.1]\n",
      "tf.Tensor([[9.9955243e-01 4.3234514e-04 1.0926202e-06 1.4170003e-05]], shape=(1, 4), dtype=float32)\n"
     ]
    },
    {
     "name": "stderr",
     "output_type": "stream",
     "text": [
      " 93%|██████████████████████████████████████████████████████████████████▉     | 92901/100000 [13:20:21<43:53,  2.70it/s]"
     ]
    },
    {
     "name": "stdout",
     "output_type": "stream",
     "text": [
      "6.238350447497788\n",
      "91\n"
     ]
    },
    {
     "name": "stderr",
     "output_type": "stream",
     "text": [
      " 93%|██████████████████████████████████████████████████████████████████▉     | 93001/100000 [13:21:06<47:39,  2.45it/s]"
     ]
    },
    {
     "name": "stdout",
     "output_type": "stream",
     "text": [
      "5.520378907007119\n",
      "95\n",
      "[0.9, 0.9, 0.5, 0.3]\n",
      "tf.Tensor([[0.0146595  0.01926336 0.49102378 0.4750534 ]], shape=(1, 4), dtype=float32)\n",
      "[0.9, 0.6, 0.5, 0.3]\n",
      "tf.Tensor([[0.00708466 0.01846193 0.57956094 0.3948925 ]], shape=(1, 4), dtype=float32)\n",
      "[0.6, 0.6, 0.5, 0.3]\n",
      "tf.Tensor([[4.7900464e-04 3.4407087e-02 9.3087262e-01 3.4241311e-02]], shape=(1, 4), dtype=float32)\n",
      "[0.6, 0.3, 0.5, 0.3]\n",
      "tf.Tensor([[2.7815146e-05 9.9983907e-01 1.2661214e-04 6.6136604e-06]], shape=(1, 4), dtype=float32)\n",
      "[0.4, 0.3, 0.5, 0.3]\n",
      "tf.Tensor([[9.9960560e-01 3.8333010e-04 7.4696464e-07 1.0396607e-05]], shape=(1, 4), dtype=float32)\n"
     ]
    },
    {
     "name": "stderr",
     "output_type": "stream",
     "text": [
      " 93%|███████████████████████████████████████████████████████████████████     | 93101/100000 [13:21:47<47:50,  2.40it/s]"
     ]
    },
    {
     "name": "stdout",
     "output_type": "stream",
     "text": [
      "5.883183928946734\n",
      "96\n"
     ]
    },
    {
     "name": "stderr",
     "output_type": "stream",
     "text": [
      " 93%|███████████████████████████████████████████████████████████████████     | 93201/100000 [13:22:29<51:44,  2.19it/s]"
     ]
    },
    {
     "name": "stdout",
     "output_type": "stream",
     "text": [
      "5.880342642897797\n",
      "95\n",
      "[0.2, 0.5, 0.9, 0.1]\n",
      "tf.Tensor([[0.02055259 0.01594659 0.45433372 0.50916713]], shape=(1, 4), dtype=float32)\n",
      "[0.6, 0.5, 0.9, 0.1]\n",
      "tf.Tensor([[0.00768987 0.01373977 0.5033082  0.47526214]], shape=(1, 4), dtype=float32)\n",
      "[0.6, 0.2, 0.9, 0.1]\n",
      "tf.Tensor([[8.7624369e-04 1.0938735e-02 8.7941706e-01 1.0876797e-01]], shape=(1, 4), dtype=float32)\n",
      "[0.9, 0.2, 0.9, 0.1]\n",
      "tf.Tensor([[1.35001601e-05 9.99678254e-01 2.95062317e-04 1.32017485e-05]], shape=(1, 4), dtype=float32)\n",
      "[0.9, 0.0, 0.9, 0.1]\n",
      "tf.Tensor([[9.9935383e-01 6.3131651e-04 1.1692556e-06 1.3748801e-05]], shape=(1, 4), dtype=float32)\n"
     ]
    },
    {
     "name": "stderr",
     "output_type": "stream",
     "text": [
      " 93%|███████████████████████████████████████████████████████████████████▏    | 93301/100000 [13:23:11<44:56,  2.48it/s]"
     ]
    },
    {
     "name": "stdout",
     "output_type": "stream",
     "text": [
      "5.851324575692572\n",
      "95\n"
     ]
    },
    {
     "name": "stderr",
     "output_type": "stream",
     "text": [
      " 93%|███████████████████████████████████████████████████████████████████▏    | 93401/100000 [13:23:53<48:38,  2.26it/s]"
     ]
    },
    {
     "name": "stdout",
     "output_type": "stream",
     "text": [
      "5.873518756996562\n",
      "92\n",
      "[0.2, 0.4, 0.9, 0.1]\n",
      "tf.Tensor([[0.02081713 0.01511209 0.46991447 0.49415633]], shape=(1, 4), dtype=float32)\n",
      "[0.6, 0.4, 0.9, 0.1]\n",
      "tf.Tensor([[0.00753841 0.01045727 0.53819096 0.4438133 ]], shape=(1, 4), dtype=float32)\n",
      "[0.9, 0.4, 0.9, 0.1]\n",
      "tf.Tensor([[5.4113398e-04 1.1940488e-02 9.1343379e-01 7.4084565e-02]], shape=(1, 4), dtype=float32)\n"
     ]
    },
    {
     "name": "stderr",
     "output_type": "stream",
     "text": [
      " 94%|███████████████████████████████████████████████████████████████████▎    | 93501/100000 [13:24:34<45:31,  2.38it/s]"
     ]
    },
    {
     "name": "stdout",
     "output_type": "stream",
     "text": [
      "5.492323484121912\n",
      "93\n"
     ]
    },
    {
     "name": "stderr",
     "output_type": "stream",
     "text": [
      " 94%|███████████████████████████████████████████████████████████████████▍    | 93601/100000 [13:25:16<48:25,  2.20it/s]"
     ]
    },
    {
     "name": "stdout",
     "output_type": "stream",
     "text": [
      "5.860857902094778\n",
      "96\n",
      "[0.1, 0.1, 0.5, 0.3]\n",
      "tf.Tensor([[0.03259509 0.01897194 0.45322546 0.49520755]], shape=(1, 4), dtype=float32)\n",
      "[0.5, 0.1, 0.5, 0.3]\n",
      "tf.Tensor([[0.01980834 0.0179192  0.4874544  0.474818  ]], shape=(1, 4), dtype=float32)\n",
      "[0.5, 0.4, 0.5, 0.3]\n",
      "tf.Tensor([[0.00250437 0.01295842 0.729622   0.25491515]], shape=(1, 4), dtype=float32)\n",
      "[0.5, 0.1, 0.5, 0.3]\n",
      "tf.Tensor([[9.4702002e-05 9.9333972e-01 6.3525797e-03 2.1290603e-04]], shape=(1, 4), dtype=float32)\n"
     ]
    },
    {
     "name": "stderr",
     "output_type": "stream",
     "text": [
      " 94%|███████████████████████████████████████████████████████████████████▍    | 93701/100000 [13:25:58<38:56,  2.70it/s]"
     ]
    },
    {
     "name": "stdout",
     "output_type": "stream",
     "text": [
      "6.14242085587017\n",
      "96\n"
     ]
    },
    {
     "name": "stderr",
     "output_type": "stream",
     "text": [
      " 94%|███████████████████████████████████████████████████████████████████▌    | 93801/100000 [13:26:40<48:47,  2.12it/s]"
     ]
    },
    {
     "name": "stdout",
     "output_type": "stream",
     "text": [
      "5.633575614585831\n",
      "96\n",
      "[0.8, 0.9, 0.9, 0.9]\n",
      "tf.Tensor([[0.01504133 0.01394402 0.52050406 0.45051056]], shape=(1, 4), dtype=float32)\n",
      "[1.0, 0.9, 0.9, 0.9]\n",
      "tf.Tensor([[0.00439196 0.01391644 0.6882956  0.29339603]], shape=(1, 4), dtype=float32)\n",
      "[0.7, 0.9, 0.9, 0.9]\n",
      "tf.Tensor([[5.5442448e-04 2.3174489e-01 7.5104004e-01 1.6660616e-02]], shape=(1, 4), dtype=float32)\n",
      "[1.0, 0.9, 0.9, 0.9]\n",
      "tf.Tensor([[4.6255594e-04 9.9942064e-01 1.0961120e-04 7.2555372e-06]], shape=(1, 4), dtype=float32)\n",
      "[0.8, 0.9, 0.9, 0.9]\n",
      "tf.Tensor([[9.9984777e-01 1.4507090e-04 3.2370062e-07 6.7548276e-06]], shape=(1, 4), dtype=float32)\n"
     ]
    },
    {
     "name": "stderr",
     "output_type": "stream",
     "text": [
      " 94%|███████████████████████████████████████████████████████████████████▌    | 93901/100000 [13:27:23<40:19,  2.52it/s]"
     ]
    },
    {
     "name": "stdout",
     "output_type": "stream",
     "text": [
      "5.687294545651407\n",
      "94\n"
     ]
    },
    {
     "name": "stderr",
     "output_type": "stream",
     "text": [
      " 94%|███████████████████████████████████████████████████████████████████▋    | 94001/100000 [13:28:06<44:46,  2.23it/s]"
     ]
    },
    {
     "name": "stdout",
     "output_type": "stream",
     "text": [
      "5.308304134746493\n",
      "94\n",
      "[0.8, 0.0, 0.1, 0.9]\n",
      "tf.Tensor([[0.023866   0.02072763 0.4679783  0.48742807]], shape=(1, 4), dtype=float32)\n",
      "[0.8, 0.4, 0.1, 0.9]\n",
      "tf.Tensor([[0.01027938 0.01762561 0.5299156  0.4421795 ]], shape=(1, 4), dtype=float32)\n",
      "[0.5, 0.4, 0.1, 0.9]\n",
      "tf.Tensor([[0.00123936 0.01942745 0.9006582  0.078675  ]], shape=(1, 4), dtype=float32)\n",
      "[0.5, 0.7, 0.1, 0.9]\n",
      "tf.Tensor([[6.2394625e-05 9.9971598e-01 2.1206515e-04 9.5376136e-06]], shape=(1, 4), dtype=float32)\n",
      "[0.3, 0.7, 0.1, 0.9]\n",
      "tf.Tensor([[9.9973267e-01 2.5732533e-04 6.4872989e-07 9.3678018e-06]], shape=(1, 4), dtype=float32)\n",
      "[0.3, 0.8, 0.1, 0.9]\n",
      "tf.Tensor([[9.9986756e-01 1.2371644e-04 4.1234895e-07 8.3757795e-06]], shape=(1, 4), dtype=float32)\n",
      "[0.2, 0.8, 0.1, 0.9]\n",
      "tf.Tensor([[9.9986839e-01 1.2277413e-04 4.1367744e-07 8.4454250e-06]], shape=(1, 4), dtype=float32)\n",
      "[0.1, 0.8, 0.1, 0.9]\n",
      "tf.Tensor([[9.9986649e-01 1.2518502e-04 3.8389317e-07 8.0102018e-06]], shape=(1, 4), dtype=float32)\n"
     ]
    },
    {
     "name": "stderr",
     "output_type": "stream",
     "text": [
      " 94%|███████████████████████████████████████████████████████████████████▊    | 94101/100000 [13:28:48<48:33,  2.02it/s]"
     ]
    },
    {
     "name": "stdout",
     "output_type": "stream",
     "text": [
      "5.791903273636766\n",
      "92\n"
     ]
    },
    {
     "name": "stderr",
     "output_type": "stream",
     "text": [
      " 94%|███████████████████████████████████████████████████████████████████▊    | 94201/100000 [13:29:30<44:32,  2.17it/s]"
     ]
    },
    {
     "name": "stdout",
     "output_type": "stream",
     "text": [
      "5.582875523635439\n",
      "95\n",
      "[0.3, 0.1, 0.9, 0.1]\n",
      "tf.Tensor([[0.02194281 0.01655566 0.4542776  0.5072239 ]], shape=(1, 4), dtype=float32)\n",
      "[0.7, 0.1, 0.9, 0.1]\n",
      "tf.Tensor([[0.00766808 0.01149382 0.524116   0.45672217]], shape=(1, 4), dtype=float32)\n",
      "[1.0, 0.1, 0.9, 0.1]\n",
      "tf.Tensor([[0.00107238 0.01965558 0.89362615 0.08564583]], shape=(1, 4), dtype=float32)\n",
      "[0.7, 0.1, 0.9, 0.1]\n",
      "tf.Tensor([[2.9882331e-05 9.9983811e-01 1.2491814e-04 7.0456654e-06]], shape=(1, 4), dtype=float32)\n"
     ]
    },
    {
     "name": "stderr",
     "output_type": "stream",
     "text": [
      " 94%|███████████████████████████████████████████████████████████████████▉    | 94301/100000 [13:30:13<39:26,  2.41it/s]"
     ]
    },
    {
     "name": "stdout",
     "output_type": "stream",
     "text": [
      "5.813348820572927\n",
      "99\n"
     ]
    },
    {
     "name": "stderr",
     "output_type": "stream",
     "text": [
      " 94%|███████████████████████████████████████████████████████████████████▉    | 94401/100000 [13:30:52<40:30,  2.30it/s]"
     ]
    },
    {
     "name": "stdout",
     "output_type": "stream",
     "text": [
      "5.170111524676877\n",
      "96\n",
      "[0.8, 0.0, 0.9, 0.9]\n",
      "tf.Tensor([[0.02590184 0.02000481 0.42020178 0.5338915 ]], shape=(1, 4), dtype=float32)\n",
      "[0.8, 0.4, 0.9, 0.9]\n",
      "tf.Tensor([[0.01082061 0.01333668 0.4750394  0.50080335]], shape=(1, 4), dtype=float32)\n",
      "[0.8, 0.8, 0.9, 0.9]\n",
      "tf.Tensor([[0.00098831 0.01150974 0.8813522  0.10614977]], shape=(1, 4), dtype=float32)\n",
      "[1.0, 0.8, 0.9, 0.9]\n",
      "tf.Tensor([[3.7314680e-05 9.9970090e-01 2.5068107e-04 1.1255207e-05]], shape=(1, 4), dtype=float32)\n",
      "[0.8, 0.8, 0.9, 0.9]\n",
      "tf.Tensor([[9.9975449e-01 2.3687679e-04 5.0021214e-07 8.0752952e-06]], shape=(1, 4), dtype=float32)\n",
      "[0.9, 0.8, 0.9, 0.9]\n",
      "tf.Tensor([[9.9986959e-01 1.2232491e-04 3.4483946e-07 7.7268824e-06]], shape=(1, 4), dtype=float32)\n"
     ]
    },
    {
     "name": "stderr",
     "output_type": "stream",
     "text": [
      " 95%|████████████████████████████████████████████████████████████████████    | 94501/100000 [13:31:35<36:26,  2.52it/s]"
     ]
    },
    {
     "name": "stdout",
     "output_type": "stream",
     "text": [
      "5.943039601555469\n",
      "95\n"
     ]
    },
    {
     "name": "stderr",
     "output_type": "stream",
     "text": [
      " 95%|████████████████████████████████████████████████████████████████████    | 94601/100000 [13:32:16<38:11,  2.36it/s]"
     ]
    },
    {
     "name": "stdout",
     "output_type": "stream",
     "text": [
      "6.27035352089081\n",
      "99\n",
      "[0.8, 0.1, 0.5, 0.7]\n",
      "tf.Tensor([[0.01942328 0.01780822 0.41823903 0.54452944]], shape=(1, 4), dtype=float32)\n",
      "[0.8, 0.5, 0.5, 0.7]\n",
      "tf.Tensor([[0.0082023  0.01453843 0.47789583 0.49936345]], shape=(1, 4), dtype=float32)\n",
      "[0.4, 0.5, 0.5, 0.7]\n",
      "tf.Tensor([[0.00108244 0.0144911  0.88474184 0.09968464]], shape=(1, 4), dtype=float32)\n",
      "[0.4, 0.8, 0.5, 0.7]\n",
      "tf.Tensor([[3.3343058e-05 9.9975544e-01 2.0202548e-04 9.1812417e-06]], shape=(1, 4), dtype=float32)\n",
      "[0.4, 0.6, 0.5, 0.7]\n",
      "tf.Tensor([[9.9975842e-01 2.3284038e-04 5.2724118e-07 8.2495008e-06]], shape=(1, 4), dtype=float32)\n",
      "[0.5, 0.6, 0.5, 0.7]\n",
      "tf.Tensor([[9.9985981e-01 1.3152589e-04 4.0076759e-07 8.3834193e-06]], shape=(1, 4), dtype=float32)\n"
     ]
    },
    {
     "name": "stderr",
     "output_type": "stream",
     "text": [
      " 95%|████████████████████████████████████████████████████████████████████▏   | 94701/100000 [13:32:58<40:42,  2.17it/s]"
     ]
    },
    {
     "name": "stdout",
     "output_type": "stream",
     "text": [
      "4.905852218712575\n",
      "95\n"
     ]
    },
    {
     "name": "stderr",
     "output_type": "stream",
     "text": [
      " 95%|████████████████████████████████████████████████████████████████████▎   | 94801/100000 [13:33:40<34:16,  2.53it/s]"
     ]
    },
    {
     "name": "stdout",
     "output_type": "stream",
     "text": [
      "6.001135755360604\n",
      "97\n",
      "[0.1, 0.3, 0.5, 0.3]\n",
      "tf.Tensor([[0.02441262 0.01531117 0.40190396 0.5583723 ]], shape=(1, 4), dtype=float32)\n"
     ]
    },
    {
     "name": "stderr",
     "output_type": "stream",
     "text": [
      " 95%|████████████████████████████████████████████████████████████████████▎   | 94901/100000 [13:34:22<37:14,  2.28it/s]"
     ]
    },
    {
     "name": "stdout",
     "output_type": "stream",
     "text": [
      "5.302489684881061\n",
      "93\n"
     ]
    },
    {
     "name": "stderr",
     "output_type": "stream",
     "text": [
      " 95%|████████████████████████████████████████████████████████████████████▍   | 95001/100000 [13:35:05<40:22,  2.06it/s]"
     ]
    },
    {
     "name": "stdout",
     "output_type": "stream",
     "text": [
      "5.446175241885839\n",
      "97\n",
      "[0.5, 0.6, 0.5, 0.3]\n",
      "tf.Tensor([[0.01808446 0.01634903 0.40937763 0.5561889 ]], shape=(1, 4), dtype=float32)\n",
      "[0.5, 0.2, 0.5, 0.3]\n",
      "tf.Tensor([[0.01039981 0.01256853 0.47753584 0.49949583]], shape=(1, 4), dtype=float32)\n",
      "[0.5, 0.6, 0.5, 0.3]\n",
      "tf.Tensor([[8.4245199e-04 1.3803904e-02 9.0128642e-01 8.4067270e-02]], shape=(1, 4), dtype=float32)\n"
     ]
    },
    {
     "name": "stderr",
     "output_type": "stream",
     "text": [
      " 95%|████████████████████████████████████████████████████████████████████▍   | 95101/100000 [13:35:47<43:34,  1.87it/s]"
     ]
    },
    {
     "name": "stdout",
     "output_type": "stream",
     "text": [
      "6.049039839096212\n",
      "98\n"
     ]
    },
    {
     "name": "stderr",
     "output_type": "stream",
     "text": [
      " 95%|████████████████████████████████████████████████████████████████████▌   | 95201/100000 [13:36:28<37:31,  2.13it/s]"
     ]
    },
    {
     "name": "stdout",
     "output_type": "stream",
     "text": [
      "5.816590316791376\n",
      "96\n",
      "[0.0, 0.5, 0.9, 0.9]\n",
      "tf.Tensor([[0.02060904 0.01374465 0.43646592 0.5291804 ]], shape=(1, 4), dtype=float32)\n",
      "[0.4, 0.5, 0.9, 0.9]\n",
      "tf.Tensor([[0.00794115 0.00938685 0.4979989  0.48467317]], shape=(1, 4), dtype=float32)\n",
      "[0.7, 0.5, 0.9, 0.9]\n",
      "tf.Tensor([[0.00091805 0.00900248 0.88136333 0.1087162 ]], shape=(1, 4), dtype=float32)\n",
      "[0.7, 0.8, 0.9, 0.9]\n",
      "tf.Tensor([[2.1994087e-05 9.9971801e-01 2.5071739e-04 9.2125338e-06]], shape=(1, 4), dtype=float32)\n",
      "[0.9, 0.8, 0.9, 0.9]\n",
      "tf.Tensor([[9.9973804e-01 2.5267247e-04 5.6666909e-07 8.7396702e-06]], shape=(1, 4), dtype=float32)\n"
     ]
    },
    {
     "name": "stderr",
     "output_type": "stream",
     "text": [
      " 95%|████████████████████████████████████████████████████████████████████▌   | 95301/100000 [13:37:09<30:33,  2.56it/s]"
     ]
    },
    {
     "name": "stdout",
     "output_type": "stream",
     "text": [
      "5.696720398705321\n",
      "97\n"
     ]
    },
    {
     "name": "stderr",
     "output_type": "stream",
     "text": [
      " 95%|████████████████████████████████████████████████████████████████████▋   | 95401/100000 [13:37:53<38:02,  2.01it/s]"
     ]
    },
    {
     "name": "stdout",
     "output_type": "stream",
     "text": [
      "5.67962972053015\n",
      "95\n",
      "[0.8, 0.8, 0.9, 0.9]\n",
      "tf.Tensor([[0.01117402 0.01153913 0.4903441  0.48694274]], shape=(1, 4), dtype=float32)\n",
      "[1.0, 0.8, 0.9, 0.9]\n",
      "tf.Tensor([[0.00331912 0.01101143 0.6601835  0.32548603]], shape=(1, 4), dtype=float32)\n",
      "[0.7, 0.8, 0.9, 0.9]\n",
      "tf.Tensor([[2.7511155e-04 5.7477839e-02 9.2542922e-01 1.6817793e-02]], shape=(1, 4), dtype=float32)\n",
      "[1.0, 0.8, 0.9, 0.9]\n",
      "tf.Tensor([[1.1413948e-04 9.9975532e-01 1.2531489e-04 5.2194478e-06]], shape=(1, 4), dtype=float32)\n",
      "[0.8, 0.8, 0.9, 0.9]\n",
      "tf.Tensor([[9.9982798e-01 1.6441560e-04 3.8724724e-07 7.2725875e-06]], shape=(1, 4), dtype=float32)\n",
      "[0.9, 0.8, 0.9, 0.9]\n",
      "tf.Tensor([[9.99871850e-01 1.20038516e-04 3.41783277e-07 7.69025246e-06]], shape=(1, 4), dtype=float32)\n"
     ]
    },
    {
     "name": "stderr",
     "output_type": "stream",
     "text": [
      " 96%|████████████████████████████████████████████████████████████████████▊   | 95501/100000 [13:38:36<28:42,  2.61it/s]"
     ]
    },
    {
     "name": "stdout",
     "output_type": "stream",
     "text": [
      "5.151015075640984\n",
      "96\n"
     ]
    },
    {
     "name": "stderr",
     "output_type": "stream",
     "text": [
      " 96%|████████████████████████████████████████████████████████████████████▊   | 95601/100000 [13:39:16<25:59,  2.82it/s]"
     ]
    },
    {
     "name": "stdout",
     "output_type": "stream",
     "text": [
      "6.252536729062787\n",
      "93\n",
      "[0.6, 0.0, 0.1, 0.9]\n",
      "tf.Tensor([[0.02018875 0.01757318 0.43496102 0.527277  ]], shape=(1, 4), dtype=float32)\n",
      "[0.6, 0.4, 0.1, 0.9]\n",
      "tf.Tensor([[0.00761349 0.01149418 0.4979495  0.48294282]], shape=(1, 4), dtype=float32)\n",
      "[0.6, 0.7, 0.1, 0.9]\n",
      "tf.Tensor([[0.00098859 0.01407102 0.88789    0.09705038]], shape=(1, 4), dtype=float32)\n",
      "[0.3, 0.7, 0.1, 0.9]\n",
      "tf.Tensor([[3.67878492e-05 9.99552310e-01 3.97832977e-04 1.30227445e-05]], shape=(1, 4), dtype=float32)\n",
      "[0.1, 0.7, 0.1, 0.9]\n",
      "tf.Tensor([[9.9968779e-01 3.0106906e-04 7.9298769e-07 1.0313764e-05]], shape=(1, 4), dtype=float32)\n",
      "[0.1, 0.8, 0.1, 0.9]\n",
      "tf.Tensor([[9.9984956e-01 1.4112110e-04 4.5311913e-07 8.7629714e-06]], shape=(1, 4), dtype=float32)\n"
     ]
    },
    {
     "name": "stderr",
     "output_type": "stream",
     "text": [
      " 96%|████████████████████████████████████████████████████████████████████▉   | 95701/100000 [13:39:58<31:15,  2.29it/s]"
     ]
    },
    {
     "name": "stdout",
     "output_type": "stream",
     "text": [
      "5.9703776423626005\n",
      "97\n"
     ]
    },
    {
     "name": "stderr",
     "output_type": "stream",
     "text": [
      " 96%|████████████████████████████████████████████████████████████████████▉   | 95801/100000 [13:40:41<22:46,  3.07it/s]"
     ]
    },
    {
     "name": "stdout",
     "output_type": "stream",
     "text": [
      "5.737873310693681\n",
      "95\n",
      "[0.1, 0.5, 0.9, 0.9]\n",
      "tf.Tensor([[0.01609102 0.01271909 0.44285724 0.5283326 ]], shape=(1, 4), dtype=float32)\n",
      "[0.5, 0.5, 0.9, 0.9]\n",
      "tf.Tensor([[0.00505077 0.00844261 0.5190964  0.46741024]], shape=(1, 4), dtype=float32)\n",
      "[0.8, 0.5, 0.9, 0.9]\n",
      "tf.Tensor([[4.3464376e-04 9.6656661e-03 9.2431462e-01 6.5585159e-02]], shape=(1, 4), dtype=float32)\n",
      "[0.8, 0.8, 0.9, 0.9]\n",
      "tf.Tensor([[2.2673914e-05 9.9983549e-01 1.3592548e-04 5.9082872e-06]], shape=(1, 4), dtype=float32)\n",
      "[1.0, 0.8, 0.9, 0.9]\n",
      "tf.Tensor([[9.9976581e-01 2.2448887e-04 6.0725603e-07 9.0247986e-06]], shape=(1, 4), dtype=float32)\n",
      "[0.9, 0.8, 0.9, 0.9]\n",
      "tf.Tensor([[9.9986291e-01 1.2880299e-04 3.8298782e-07 7.8733547e-06]], shape=(1, 4), dtype=float32)\n"
     ]
    },
    {
     "name": "stderr",
     "output_type": "stream",
     "text": [
      " 96%|█████████████████████████████████████████████████████████████████████   | 95901/100000 [13:41:23<28:18,  2.41it/s]"
     ]
    },
    {
     "name": "stdout",
     "output_type": "stream",
     "text": [
      "5.16331374553176\n",
      "95\n"
     ]
    },
    {
     "name": "stderr",
     "output_type": "stream",
     "text": [
      " 96%|█████████████████████████████████████████████████████████████████████   | 96001/100000 [13:42:05<34:02,  1.96it/s]"
     ]
    },
    {
     "name": "stdout",
     "output_type": "stream",
     "text": [
      "5.556345273517309\n",
      "95\n",
      "[0.0, 0.3, 0.5, 0.3]\n",
      "tf.Tensor([[0.01437198 0.01249374 0.42863137 0.54450285]], shape=(1, 4), dtype=float32)\n",
      "[0.4, 0.3, 0.5, 0.3]\n",
      "tf.Tensor([[0.00440646 0.00849294 0.50746745 0.47963327]], shape=(1, 4), dtype=float32)\n",
      "[0.7, 0.3, 0.5, 0.3]\n",
      "tf.Tensor([[4.7403766e-04 1.4800546e-02 9.2540789e-01 5.9317403e-02]], shape=(1, 4), dtype=float32)\n",
      "[0.4, 0.3, 0.5, 0.3]\n",
      "tf.Tensor([[2.2998353e-05 9.9981409e-01 1.5673249e-04 6.1734336e-06]], shape=(1, 4), dtype=float32)\n",
      "[0.6, 0.3, 0.5, 0.3]\n",
      "tf.Tensor([[9.9973804e-01 2.5076786e-04 7.7577346e-07 1.0361180e-05]], shape=(1, 4), dtype=float32)\n"
     ]
    },
    {
     "name": "stderr",
     "output_type": "stream",
     "text": [
      " 96%|█████████████████████████████████████████████████████████████████████▏  | 96101/100000 [13:42:46<19:10,  3.39it/s]"
     ]
    },
    {
     "name": "stdout",
     "output_type": "stream",
     "text": [
      "6.3045225907029225\n",
      "98\n"
     ]
    },
    {
     "name": "stderr",
     "output_type": "stream",
     "text": [
      " 96%|█████████████████████████████████████████████████████████████████████▎  | 96201/100000 [13:43:28<27:09,  2.33it/s]"
     ]
    },
    {
     "name": "stdout",
     "output_type": "stream",
     "text": [
      "6.058048473608765\n",
      "95\n",
      "[0.7, 0.5, 0.1, 0.9]\n",
      "tf.Tensor([[0.01621958 0.01748493 0.42213628 0.5441592 ]], shape=(1, 4), dtype=float32)\n",
      "[0.3, 0.5, 0.1, 0.9]\n",
      "tf.Tensor([[0.00569896 0.01022134 0.49934947 0.48473024]], shape=(1, 4), dtype=float32)\n",
      "[0.3, 0.8, 0.1, 0.9]\n",
      "tf.Tensor([[5.4363516e-04 1.3366653e-02 9.2517757e-01 6.0912173e-02]], shape=(1, 4), dtype=float32)\n",
      "[0.0, 0.8, 0.1, 0.9]\n",
      "tf.Tensor([[2.6972019e-05 9.9972385e-01 2.4239124e-04 6.7352926e-06]], shape=(1, 4), dtype=float32)\n",
      "[0.2, 0.8, 0.1, 0.9]\n",
      "tf.Tensor([[9.997621e-01 2.279256e-04 6.986622e-07 9.298197e-06]], shape=(1, 4), dtype=float32)\n",
      "[0.1, 0.8, 0.1, 0.9]\n",
      "tf.Tensor([[9.9985027e-01 1.4066166e-04 4.7143757e-07 8.5527054e-06]], shape=(1, 4), dtype=float32)\n"
     ]
    },
    {
     "name": "stderr",
     "output_type": "stream",
     "text": [
      " 96%|█████████████████████████████████████████████████████████████████████▎  | 96301/100000 [13:44:10<28:07,  2.19it/s]"
     ]
    },
    {
     "name": "stdout",
     "output_type": "stream",
     "text": [
      "5.375733778093995\n",
      "95\n"
     ]
    },
    {
     "name": "stderr",
     "output_type": "stream",
     "text": [
      " 96%|█████████████████████████████████████████████████████████████████████▍  | 96401/100000 [13:44:51<24:01,  2.50it/s]"
     ]
    },
    {
     "name": "stdout",
     "output_type": "stream",
     "text": [
      "5.822146681468267\n",
      "95\n",
      "[0.0, 0.9, 0.1, 0.9]\n",
      "tf.Tensor([[0.01591764 0.01409146 0.4024155  0.5675754 ]], shape=(1, 4), dtype=float32)\n",
      "[0.4, 0.9, 0.1, 0.9]\n",
      "tf.Tensor([[0.00683933 0.01383195 0.46631342 0.5130153 ]], shape=(1, 4), dtype=float32)\n",
      "[0.0, 0.9, 0.1, 0.9]\n",
      "tf.Tensor([[3.5227792e-04 1.1618422e-02 9.3706667e-01 5.0962590e-02]], shape=(1, 4), dtype=float32)\n",
      "[0.3, 0.9, 0.1, 0.9]\n",
      "tf.Tensor([[2.7613298e-05 9.9975997e-01 2.0613757e-04 6.2287108e-06]], shape=(1, 4), dtype=float32)\n"
     ]
    },
    {
     "name": "stderr",
     "output_type": "stream",
     "text": [
      " 97%|█████████████████████████████████████████████████████████████████████▍  | 96501/100000 [13:45:34<22:30,  2.59it/s]"
     ]
    },
    {
     "name": "stdout",
     "output_type": "stream",
     "text": [
      "5.878293098643213\n",
      "95\n"
     ]
    },
    {
     "name": "stderr",
     "output_type": "stream",
     "text": [
      " 97%|█████████████████████████████████████████████████████████████████████▌  | 96601/100000 [13:46:15<24:09,  2.34it/s]"
     ]
    },
    {
     "name": "stdout",
     "output_type": "stream",
     "text": [
      "5.668837210659368\n",
      "94\n",
      "[0.2, 0.6, 0.9, 0.1]\n",
      "tf.Tensor([[0.01594613 0.01524457 0.38922346 0.57958585]], shape=(1, 4), dtype=float32)\n",
      "[0.6, 0.6, 0.9, 0.1]\n",
      "tf.Tensor([[0.00409639 0.01205201 0.47280437 0.5110473 ]], shape=(1, 4), dtype=float32)\n",
      "[0.6, 0.2, 0.9, 0.1]\n",
      "tf.Tensor([[2.7100914e-04 1.2000926e-02 9.5068502e-01 3.7043106e-02]], shape=(1, 4), dtype=float32)\n",
      "[0.9, 0.2, 0.9, 0.1]\n",
      "tf.Tensor([[2.1611679e-05 9.9983072e-01 1.4209388e-04 5.5914220e-06]], shape=(1, 4), dtype=float32)\n",
      "[0.9, 0.0, 0.9, 0.1]\n",
      "tf.Tensor([[9.9975032e-01 2.3968310e-04 6.6251647e-07 9.3473245e-06]], shape=(1, 4), dtype=float32)\n"
     ]
    },
    {
     "name": "stderr",
     "output_type": "stream",
     "text": [
      " 97%|█████████████████████████████████████████████████████████████████████▌  | 96701/100000 [13:46:57<25:09,  2.19it/s]"
     ]
    },
    {
     "name": "stdout",
     "output_type": "stream",
     "text": [
      "5.567202249467383\n",
      "96\n"
     ]
    },
    {
     "name": "stderr",
     "output_type": "stream",
     "text": [
      " 97%|█████████████████████████████████████████████████████████████████████▋  | 96801/100000 [13:47:40<25:22,  2.10it/s]"
     ]
    },
    {
     "name": "stdout",
     "output_type": "stream",
     "text": [
      "5.433462185754799\n",
      "93\n",
      "[0.9, 0.0, 0.1, 0.1]\n",
      "tf.Tensor([[0.0219903  0.0279375  0.35786098 0.59221125]], shape=(1, 4), dtype=float32)\n",
      "[0.5, 0.0, 0.1, 0.1]\n",
      "tf.Tensor([[0.01008668 0.02207547 0.41238934 0.5554485 ]], shape=(1, 4), dtype=float32)\n",
      "[0.1, 0.0, 0.1, 0.1]\n",
      "tf.Tensor([[0.00119636 0.02001609 0.8643693  0.1144183 ]], shape=(1, 4), dtype=float32)\n",
      "[0.1, 0.3, 0.1, 0.1]\n",
      "tf.Tensor([[3.0492858e-05 9.9953353e-01 4.2505821e-04 1.1018532e-05]], shape=(1, 4), dtype=float32)\n"
     ]
    },
    {
     "name": "stderr",
     "output_type": "stream",
     "text": [
      " 97%|█████████████████████████████████████████████████████████████████████▊  | 96901/100000 [13:48:18<14:38,  3.53it/s]"
     ]
    },
    {
     "name": "stdout",
     "output_type": "stream",
     "text": [
      "5.798486806921406\n",
      "95\n"
     ]
    },
    {
     "name": "stderr",
     "output_type": "stream",
     "text": [
      " 97%|█████████████████████████████████████████████████████████████████████▊  | 97001/100000 [13:49:02<24:03,  2.08it/s]"
     ]
    },
    {
     "name": "stdout",
     "output_type": "stream",
     "text": [
      "5.123649156088599\n",
      "91\n",
      "[0.9, 0.0, 0.1, 0.9]\n",
      "tf.Tensor([[0.01411196 0.0192879  0.35517383 0.6114263 ]], shape=(1, 4), dtype=float32)\n",
      "[0.9, 0.4, 0.1, 0.9]\n",
      "tf.Tensor([[0.00485017 0.01566648 0.42989567 0.5495877 ]], shape=(1, 4), dtype=float32)\n",
      "[0.5, 0.4, 0.1, 0.9]\n",
      "tf.Tensor([[4.3597035e-04 2.1065995e-02 9.3790621e-01 4.0591851e-02]], shape=(1, 4), dtype=float32)\n",
      "[0.5, 0.7, 0.1, 0.9]\n",
      "tf.Tensor([[4.7266760e-05 9.9967885e-01 2.6702930e-04 6.8192876e-06]], shape=(1, 4), dtype=float32)\n",
      "[0.3, 0.7, 0.1, 0.9]\n",
      "tf.Tensor([[9.9972755e-01 2.6159544e-04 8.2445069e-07 1.0022423e-05]], shape=(1, 4), dtype=float32)\n",
      "[0.2, 0.7, 0.1, 0.9]\n",
      "tf.Tensor([[9.9984336e-01 1.4744574e-04 5.1182104e-07 8.7043318e-06]], shape=(1, 4), dtype=float32)\n",
      "[0.2, 0.8, 0.1, 0.9]\n",
      "tf.Tensor([[9.9984896e-01 1.4156799e-04 5.3329387e-07 8.9941605e-06]], shape=(1, 4), dtype=float32)\n",
      "[0.1, 0.8, 0.1, 0.9]\n",
      "tf.Tensor([[9.9984598e-01 1.4488261e-04 4.9802298e-07 8.5800857e-06]], shape=(1, 4), dtype=float32)\n"
     ]
    },
    {
     "name": "stderr",
     "output_type": "stream",
     "text": [
      " 97%|█████████████████████████████████████████████████████████████████████▉  | 97101/100000 [13:49:43<19:09,  2.52it/s]"
     ]
    },
    {
     "name": "stdout",
     "output_type": "stream",
     "text": [
      "5.396300284019862\n",
      "96\n"
     ]
    },
    {
     "name": "stderr",
     "output_type": "stream",
     "text": [
      " 97%|█████████████████████████████████████████████████████████████████████▉  | 97201/100000 [13:50:24<20:37,  2.26it/s]"
     ]
    },
    {
     "name": "stdout",
     "output_type": "stream",
     "text": [
      "6.025544357978262\n",
      "96\n",
      "[0.3, 0.5, 0.5, 0.7]\n",
      "tf.Tensor([[0.01058983 0.01478907 0.3567247  0.6178964 ]], shape=(1, 4), dtype=float32)\n",
      "[0.7, 0.5, 0.5, 0.7]\n",
      "tf.Tensor([[0.00467636 0.01487848 0.4227831  0.55766207]], shape=(1, 4), dtype=float32)\n",
      "[0.3, 0.5, 0.5, 0.7]\n",
      "tf.Tensor([[2.3644682e-04 1.2225388e-02 9.4402438e-01 4.3513793e-02]], shape=(1, 4), dtype=float32)\n",
      "[0.6, 0.5, 0.5, 0.7]\n",
      "tf.Tensor([[3.1488751e-05 9.9961275e-01 3.4763600e-04 8.2656225e-06]], shape=(1, 4), dtype=float32)\n",
      "[0.6, 0.7, 0.5, 0.7]\n",
      "tf.Tensor([[9.9989617e-01 9.6781638e-05 4.3021274e-07 6.6106709e-06]], shape=(1, 4), dtype=float32)\n"
     ]
    },
    {
     "name": "stderr",
     "output_type": "stream",
     "text": [
      " 97%|██████████████████████████████████████████████████████████████████████  | 97301/100000 [13:51:06<18:54,  2.38it/s]"
     ]
    },
    {
     "name": "stdout",
     "output_type": "stream",
     "text": [
      "5.899797019479225\n",
      "95\n"
     ]
    },
    {
     "name": "stderr",
     "output_type": "stream",
     "text": [
      " 97%|██████████████████████████████████████████████████████████████████████▏ | 97401/100000 [13:51:49<21:03,  2.06it/s]"
     ]
    },
    {
     "name": "stdout",
     "output_type": "stream",
     "text": [
      "4.948155936681708\n",
      "95\n",
      "[0.7, 0.5, 0.5, 0.7]\n",
      "tf.Tensor([[0.00833402 0.02024334 0.37738183 0.5940408 ]], shape=(1, 4), dtype=float32)\n",
      "[0.3, 0.5, 0.5, 0.7]\n",
      "tf.Tensor([[0.00230433 0.01225208 0.527055   0.4583885 ]], shape=(1, 4), dtype=float32)\n",
      "[0.3, 0.8, 0.5, 0.7]\n",
      "tf.Tensor([[1.3807716e-04 1.3325390e-02 9.6343040e-01 2.3106055e-02]], shape=(1, 4), dtype=float32)\n",
      "[0.6, 0.8, 0.5, 0.7]\n",
      "tf.Tensor([[5.0808780e-05 9.9958450e-01 3.5766925e-04 7.0710162e-06]], shape=(1, 4), dtype=float32)\n",
      "[0.4, 0.8, 0.5, 0.7]\n",
      "tf.Tensor([[9.999149e-01 7.905437e-05 3.247192e-07 5.737525e-06]], shape=(1, 4), dtype=float32)\n",
      "[0.4, 0.7, 0.5, 0.7]\n",
      "tf.Tensor([[9.9994135e-01 5.3427684e-05 2.3516665e-07 4.9527002e-06]], shape=(1, 4), dtype=float32)\n"
     ]
    },
    {
     "name": "stderr",
     "output_type": "stream",
     "text": [
      " 98%|██████████████████████████████████████████████████████████████████████▏ | 97501/100000 [13:52:31<18:30,  2.25it/s]"
     ]
    },
    {
     "name": "stdout",
     "output_type": "stream",
     "text": [
      "5.616376797006631\n",
      "93\n"
     ]
    },
    {
     "name": "stderr",
     "output_type": "stream",
     "text": [
      " 98%|██████████████████████████████████████████████████████████████████████▎ | 97601/100000 [13:53:13<18:07,  2.21it/s]"
     ]
    },
    {
     "name": "stdout",
     "output_type": "stream",
     "text": [
      "5.613393951623315\n",
      "95\n",
      "[0.7, 0.3, 0.5, 0.7]\n",
      "tf.Tensor([[0.00818767 0.01730664 0.3815308  0.5929749 ]], shape=(1, 4), dtype=float32)\n",
      "[0.7, 0.7, 0.5, 0.7]\n",
      "tf.Tensor([[0.00241316 0.01458582 0.56050617 0.4224948 ]], shape=(1, 4), dtype=float32)\n",
      "[0.4, 0.7, 0.5, 0.7]\n",
      "tf.Tensor([[1.3444277e-04 1.3070077e-02 9.6620578e-01 2.0589652e-02]], shape=(1, 4), dtype=float32)\n",
      "[0.7, 0.7, 0.5, 0.7]\n",
      "tf.Tensor([[4.155922e-05 9.995339e-01 4.166524e-04 7.808701e-06]], shape=(1, 4), dtype=float32)\n"
     ]
    },
    {
     "name": "stderr",
     "output_type": "stream",
     "text": [
      " 98%|██████████████████████████████████████████████████████████████████████▎ | 97701/100000 [13:53:56<15:47,  2.43it/s]"
     ]
    },
    {
     "name": "stdout",
     "output_type": "stream",
     "text": [
      "5.5153670491841345\n",
      "93\n"
     ]
    },
    {
     "name": "stderr",
     "output_type": "stream",
     "text": [
      " 98%|██████████████████████████████████████████████████████████████████████▍ | 97801/100000 [13:54:36<16:30,  2.22it/s]"
     ]
    },
    {
     "name": "stdout",
     "output_type": "stream",
     "text": [
      "5.266897696159374\n",
      "96\n",
      "[0.3, 0.8, 0.1, 0.9]\n",
      "tf.Tensor([[0.00711776 0.01764456 0.3829042  0.5923335 ]], shape=(1, 4), dtype=float32)\n",
      "[0.0, 0.8, 0.1, 0.9]\n",
      "tf.Tensor([[0.00119031 0.01037205 0.71166205 0.27677557]], shape=(1, 4), dtype=float32)\n",
      "[0.3, 0.8, 0.1, 0.9]\n",
      "tf.Tensor([[1.4060824e-04 3.3158217e-02 9.5457953e-01 1.2121629e-02]], shape=(1, 4), dtype=float32)\n",
      "[0.0, 0.8, 0.1, 0.9]\n",
      "tf.Tensor([[9.6762131e-05 9.9960226e-01 2.9536759e-04 5.5779437e-06]], shape=(1, 4), dtype=float32)\n",
      "[0.2, 0.8, 0.1, 0.9]\n",
      "tf.Tensor([[9.9991453e-01 7.8775811e-05 3.8353178e-07 6.3189418e-06]], shape=(1, 4), dtype=float32)\n",
      "[0.1, 0.8, 0.1, 0.9]\n",
      "tf.Tensor([[9.9993336e-01 6.0373171e-05 2.9743808e-07 6.0681155e-06]], shape=(1, 4), dtype=float32)\n"
     ]
    },
    {
     "name": "stderr",
     "output_type": "stream",
     "text": [
      " 98%|██████████████████████████████████████████████████████████████████████▍ | 97901/100000 [13:55:18<16:53,  2.07it/s]"
     ]
    },
    {
     "name": "stdout",
     "output_type": "stream",
     "text": [
      "5.302631239802527\n",
      "94\n"
     ]
    },
    {
     "name": "stderr",
     "output_type": "stream",
     "text": [
      " 98%|██████████████████████████████████████████████████████████████████████▌ | 98001/100000 [13:56:00<14:22,  2.32it/s]"
     ]
    },
    {
     "name": "stdout",
     "output_type": "stream",
     "text": [
      "6.0596977464372115\n",
      "99\n",
      "[0.0, 0.2, 0.5, 0.3]\n",
      "tf.Tensor([[0.01154526 0.01480319 0.2994506  0.67420095]], shape=(1, 4), dtype=float32)\n",
      "[0.4, 0.2, 0.5, 0.3]\n",
      "tf.Tensor([[0.0065845  0.01337941 0.33421594 0.6458202 ]], shape=(1, 4), dtype=float32)\n",
      "[0.4, 0.6, 0.5, 0.3]\n",
      "tf.Tensor([[6.1783759e-04 1.1439479e-02 7.7012998e-01 2.1781267e-01]], shape=(1, 4), dtype=float32)\n",
      "[0.4, 0.3, 0.5, 0.3]\n",
      "tf.Tensor([[7.7395911e-05 9.7458684e-01 2.4973653e-02 3.6213949e-04]], shape=(1, 4), dtype=float32)\n",
      "[0.6, 0.3, 0.5, 0.3]\n",
      "tf.Tensor([[9.9974364e-01 2.4593700e-04 8.5652562e-07 9.4829766e-06]], shape=(1, 4), dtype=float32)\n"
     ]
    },
    {
     "name": "stderr",
     "output_type": "stream",
     "text": [
      " 98%|██████████████████████████████████████████████████████████████████████▋ | 98101/100000 [13:56:41<12:54,  2.45it/s]"
     ]
    },
    {
     "name": "stdout",
     "output_type": "stream",
     "text": [
      "5.770722587844858\n",
      "97\n"
     ]
    },
    {
     "name": "stderr",
     "output_type": "stream",
     "text": [
      " 98%|██████████████████████████████████████████████████████████████████████▋ | 98201/100000 [13:57:22<13:01,  2.30it/s]"
     ]
    },
    {
     "name": "stdout",
     "output_type": "stream",
     "text": [
      "5.655340936515254\n",
      "95\n",
      "[0.6, 0.9, 0.5, 0.3]\n",
      "tf.Tensor([[0.00707692 0.01577732 0.30830652 0.66883934]], shape=(1, 4), dtype=float32)\n",
      "[0.6, 0.5, 0.5, 0.3]\n",
      "tf.Tensor([[0.00194228 0.01256683 0.4497051  0.53578573]], shape=(1, 4), dtype=float32)\n",
      "[0.6, 0.1, 0.5, 0.3]\n",
      "tf.Tensor([[2.2574871e-04 1.1238247e-02 9.4514501e-01 4.3391090e-02]], shape=(1, 4), dtype=float32)\n",
      "[0.6, 0.4, 0.5, 0.3]\n",
      "tf.Tensor([[3.08587805e-05 9.99243140e-01 7.12520326e-04 1.35097225e-05]], shape=(1, 4), dtype=float32)\n",
      "[0.4, 0.4, 0.5, 0.3]\n",
      "tf.Tensor([[9.9985480e-01 1.3778427e-04 4.6542411e-07 6.9601851e-06]], shape=(1, 4), dtype=float32)\n",
      "[0.5, 0.4, 0.5, 0.3]\n",
      "tf.Tensor([[9.9991536e-01 7.7474877e-05 3.1909323e-07 6.7700407e-06]], shape=(1, 4), dtype=float32)\n"
     ]
    },
    {
     "name": "stderr",
     "output_type": "stream",
     "text": [
      " 98%|██████████████████████████████████████████████████████████████████████▊ | 98301/100000 [13:58:04<11:32,  2.45it/s]"
     ]
    },
    {
     "name": "stdout",
     "output_type": "stream",
     "text": [
      "4.836865708574596\n",
      "90\n"
     ]
    },
    {
     "name": "stderr",
     "output_type": "stream",
     "text": [
      " 98%|██████████████████████████████████████████████████████████████████████▊ | 98401/100000 [13:58:47<12:16,  2.17it/s]"
     ]
    },
    {
     "name": "stdout",
     "output_type": "stream",
     "text": [
      "6.079417796013394\n",
      "100\n",
      "[0.5, 0.8, 0.9, 0.1]\n",
      "tf.Tensor([[0.00709216 0.01463027 0.28012884 0.6981488 ]], shape=(1, 4), dtype=float32)\n",
      "[0.5, 0.4, 0.9, 0.1]\n",
      "tf.Tensor([[0.00215597 0.00837428 0.38727063 0.60219914]], shape=(1, 4), dtype=float32)\n",
      "[0.9, 0.4, 0.9, 0.1]\n",
      "tf.Tensor([[1.2593326e-04 9.8436577e-03 9.5254719e-01 3.7483223e-02]], shape=(1, 4), dtype=float32)\n"
     ]
    },
    {
     "name": "stderr",
     "output_type": "stream",
     "text": [
      " 99%|██████████████████████████████████████████████████████████████████████▉ | 98501/100000 [13:59:28<10:56,  2.28it/s]"
     ]
    },
    {
     "name": "stdout",
     "output_type": "stream",
     "text": [
      "5.836110088987457\n",
      "98\n"
     ]
    },
    {
     "name": "stderr",
     "output_type": "stream",
     "text": [
      " 99%|██████████████████████████████████████████████████████████████████████▉ | 98601/100000 [14:00:11<08:54,  2.62it/s]"
     ]
    },
    {
     "name": "stdout",
     "output_type": "stream",
     "text": [
      "5.1764605355879745\n",
      "94\n",
      "[0.2, 0.3, 0.1, 0.1]\n",
      "tf.Tensor([[0.00960023 0.01857851 0.29263684 0.67918444]], shape=(1, 4), dtype=float32)\n",
      "[0.2, 0.0, 0.1, 0.1]\n",
      "tf.Tensor([[0.00509393 0.01709831 0.37963307 0.5981747 ]], shape=(1, 4), dtype=float32)\n",
      "[0.0, 0.0, 0.1, 0.1]\n",
      "tf.Tensor([[2.7344038e-04 1.2620366e-02 9.4682860e-01 4.0277626e-02]], shape=(1, 4), dtype=float32)\n",
      "[0.3, 0.0, 0.1, 0.1]\n",
      "tf.Tensor([[3.9005721e-05 9.9925905e-01 6.8902428e-04 1.3025157e-05]], shape=(1, 4), dtype=float32)\n",
      "[0.1, 0.0, 0.1, 0.1]\n",
      "tf.Tensor([[9.9982244e-01 1.6805576e-04 7.2295313e-07 8.8075067e-06]], shape=(1, 4), dtype=float32)\n"
     ]
    },
    {
     "name": "stderr",
     "output_type": "stream",
     "text": [
      " 99%|███████████████████████████████████████████████████████████████████████ | 98701/100000 [14:00:52<09:13,  2.35it/s]"
     ]
    },
    {
     "name": "stdout",
     "output_type": "stream",
     "text": [
      "5.304360226447135\n",
      "93\n"
     ]
    },
    {
     "name": "stderr",
     "output_type": "stream",
     "text": [
      " 99%|███████████████████████████████████████████████████████████████████████▏| 98801/100000 [14:01:32<09:28,  2.11it/s]"
     ]
    },
    {
     "name": "stdout",
     "output_type": "stream",
     "text": [
      "5.768668942317023\n",
      "94\n",
      "[0.8, 0.0, 0.9, 0.1]\n",
      "tf.Tensor([[0.01063848 0.01503104 0.3141733  0.6601572 ]], shape=(1, 4), dtype=float32)\n",
      "[1.0, 0.0, 0.9, 0.1]\n",
      "tf.Tensor([[0.00390191 0.01560156 0.46434817 0.5161484 ]], shape=(1, 4), dtype=float32)\n",
      "[0.6, 0.0, 0.9, 0.1]\n",
      "tf.Tensor([[1.8611275e-04 1.3597537e-02 9.6384388e-01 2.2372425e-02]], shape=(1, 4), dtype=float32)\n",
      "[0.9, 0.0, 0.9, 0.1]\n",
      "tf.Tensor([[4.7875837e-05 9.9971658e-01 2.2914005e-04 6.3471616e-06]], shape=(1, 4), dtype=float32)\n",
      "[0.9, 0.2, 0.9, 0.1]\n",
      "tf.Tensor([[9.9986589e-01 1.2703547e-04 3.9159559e-07 6.6966645e-06]], shape=(1, 4), dtype=float32)\n"
     ]
    },
    {
     "name": "stderr",
     "output_type": "stream",
     "text": [
      " 99%|███████████████████████████████████████████████████████████████████████▏| 98901/100000 [14:02:20<07:31,  2.43it/s]"
     ]
    },
    {
     "name": "stdout",
     "output_type": "stream",
     "text": [
      "5.941603884086934\n",
      "98\n"
     ]
    },
    {
     "name": "stderr",
     "output_type": "stream",
     "text": [
      " 99%|███████████████████████████████████████████████████████████████████████▎| 99001/100000 [14:03:00<07:31,  2.21it/s]"
     ]
    },
    {
     "name": "stdout",
     "output_type": "stream",
     "text": [
      "6.296909583497317\n",
      "95\n",
      "[0.4, 0.5, 0.9, 0.9]\n",
      "tf.Tensor([[0.01232063 0.0143728  0.29743353 0.67587304]], shape=(1, 4), dtype=float32)\n",
      "[0.8, 0.5, 0.9, 0.9]\n",
      "tf.Tensor([[0.0037133  0.01036407 0.39520976 0.5907129 ]], shape=(1, 4), dtype=float32)\n",
      "[0.8, 0.9, 0.9, 0.9]\n",
      "tf.Tensor([[1.4785491e-04 9.6311513e-03 9.6406031e-01 2.6160741e-02]], shape=(1, 4), dtype=float32)\n",
      "[1.0, 0.9, 0.9, 0.9]\n",
      "tf.Tensor([[4.3370637e-05 9.9970514e-01 2.4594559e-04 5.5030096e-06]], shape=(1, 4), dtype=float32)\n",
      "[0.8, 0.9, 0.9, 0.9]\n",
      "tf.Tensor([[9.9986744e-01 1.2610166e-04 3.6362812e-07 6.1164833e-06]], shape=(1, 4), dtype=float32)\n"
     ]
    },
    {
     "name": "stderr",
     "output_type": "stream",
     "text": [
      " 99%|███████████████████████████████████████████████████████████████████████▎| 99101/100000 [14:03:43<06:41,  2.24it/s]"
     ]
    },
    {
     "name": "stdout",
     "output_type": "stream",
     "text": [
      "5.733880320792353\n",
      "97\n"
     ]
    },
    {
     "name": "stderr",
     "output_type": "stream",
     "text": [
      " 99%|███████████████████████████████████████████████████████████████████████▍| 99201/100000 [14:04:24<05:33,  2.39it/s]"
     ]
    },
    {
     "name": "stdout",
     "output_type": "stream",
     "text": [
      "5.657114253889386\n",
      "97\n",
      "[0.1, 0.9, 0.5, 0.3]\n",
      "tf.Tensor([[0.00726687 0.01561157 0.31885567 0.65826595]], shape=(1, 4), dtype=float32)\n",
      "[0.1, 0.5, 0.5, 0.3]\n",
      "tf.Tensor([[0.00145977 0.01172952 0.73644954 0.25036114]], shape=(1, 4), dtype=float32)\n",
      "[0.4, 0.5, 0.5, 0.3]\n",
      "tf.Tensor([[1.5050800e-04 8.7748319e-02 9.0321994e-01 8.8812262e-03]], shape=(1, 4), dtype=float32)\n",
      "[0.4, 0.2, 0.5, 0.3]\n",
      "tf.Tensor([[7.4161129e-04 9.9911231e-01 1.3935899e-04 6.6225066e-06]], shape=(1, 4), dtype=float32)\n",
      "[0.6, 0.2, 0.5, 0.3]\n",
      "tf.Tensor([[9.9985802e-01 1.3396954e-04 4.5574404e-07 7.4633472e-06]], shape=(1, 4), dtype=float32)\n",
      "[0.6, 0.3, 0.5, 0.3]\n",
      "tf.Tensor([[9.9988818e-01 1.0269408e-04 4.5276258e-07 8.5354941e-06]], shape=(1, 4), dtype=float32)\n"
     ]
    },
    {
     "name": "stderr",
     "output_type": "stream",
     "text": [
      " 99%|███████████████████████████████████████████████████████████████████████▍| 99301/100000 [14:05:06<05:19,  2.19it/s]"
     ]
    },
    {
     "name": "stdout",
     "output_type": "stream",
     "text": [
      "5.4569884887926845\n",
      "91\n"
     ]
    },
    {
     "name": "stderr",
     "output_type": "stream",
     "text": [
      " 99%|███████████████████████████████████████████████████████████████████████▌| 99401/100000 [14:05:55<04:03,  2.46it/s]"
     ]
    },
    {
     "name": "stdout",
     "output_type": "stream",
     "text": [
      "5.562181202187541\n",
      "96\n",
      "[0.1, 0.0, 0.1, 0.9]\n",
      "tf.Tensor([[0.01661273 0.01808236 0.32946628 0.6358387 ]], shape=(1, 4), dtype=float32)\n",
      "[0.1, 0.4, 0.1, 0.9]\n",
      "tf.Tensor([[0.00480393 0.01175795 0.46771976 0.5157184 ]], shape=(1, 4), dtype=float32)\n",
      "[0.1, 0.8, 0.1, 0.9]\n",
      "tf.Tensor([[2.8314395e-04 8.9871949e-03 9.5736194e-01 3.3367764e-02]], shape=(1, 4), dtype=float32)\n",
      "[0.1, 1.0, 0.1, 0.9]\n",
      "tf.Tensor([[4.0931274e-05 9.9956769e-01 3.8397123e-04 7.3316055e-06]], shape=(1, 4), dtype=float32)\n",
      "[0.1, 0.8, 0.1, 0.9]\n",
      "tf.Tensor([[9.9978417e-01 2.0735456e-04 5.4075156e-07 7.8512903e-06]], shape=(1, 4), dtype=float32)\n"
     ]
    },
    {
     "name": "stderr",
     "output_type": "stream",
     "text": [
      "100%|███████████████████████████████████████████████████████████████████████▋| 99501/100000 [14:06:41<03:42,  2.24it/s]"
     ]
    },
    {
     "name": "stdout",
     "output_type": "stream",
     "text": [
      "5.185270410852723\n",
      "93\n"
     ]
    },
    {
     "name": "stderr",
     "output_type": "stream",
     "text": [
      "100%|███████████████████████████████████████████████████████████████████████▋| 99601/100000 [14:07:24<02:48,  2.37it/s]"
     ]
    },
    {
     "name": "stdout",
     "output_type": "stream",
     "text": [
      "3.1424543708864072\n",
      "76\n",
      "[0.4, 0.1, 0.5, 0.3]\n",
      "tf.Tensor([[0.0042637  0.01406107 0.58605355 0.3956216 ]], shape=(1, 4), dtype=float32)\n",
      "[0.4, 0.4, 0.5, 0.3]\n",
      "tf.Tensor([[4.2472081e-04 1.3667846e-02 9.5724052e-01 2.8666839e-02]], shape=(1, 4), dtype=float32)\n",
      "[0.7, 0.4, 0.5, 0.3]\n",
      "tf.Tensor([[1.9353650e-04 9.9390900e-01 5.8067678e-03 9.0709684e-05]], shape=(1, 4), dtype=float32)\n",
      "[0.5, 0.4, 0.5, 0.3]\n",
      "tf.Tensor([[9.9769574e-01 2.2846346e-03 3.7206839e-06 1.5878952e-05]], shape=(1, 4), dtype=float32)\n"
     ]
    },
    {
     "name": "stderr",
     "output_type": "stream",
     "text": [
      "100%|███████████████████████████████████████████████████████████████████████▊| 99701/100000 [14:08:02<01:38,  3.03it/s]"
     ]
    },
    {
     "name": "stdout",
     "output_type": "stream",
     "text": [
      "5.657978665227531\n",
      "94\n"
     ]
    },
    {
     "name": "stderr",
     "output_type": "stream",
     "text": [
      "100%|███████████████████████████████████████████████████████████████████████▊| 99801/100000 [14:08:39<01:25,  2.33it/s]"
     ]
    },
    {
     "name": "stdout",
     "output_type": "stream",
     "text": [
      "5.689408424233788\n",
      "91\n",
      "[0.2, 0.9, 0.1, 0.1]\n",
      "tf.Tensor([[0.00777196 0.01377086 0.36341876 0.61503845]], shape=(1, 4), dtype=float32)\n",
      "[0.2, 0.5, 0.1, 0.1]\n",
      "tf.Tensor([[0.00114351 0.01311493 0.85631114 0.12943037]], shape=(1, 4), dtype=float32)\n",
      "[0.2, 0.2, 0.1, 0.1]\n",
      "tf.Tensor([[0.00080279 0.7404729  0.25591376 0.00281044]], shape=(1, 4), dtype=float32)\n",
      "[0.0, 0.2, 0.1, 0.1]\n",
      "tf.Tensor([[9.9123865e-01 8.7253619e-03 1.0906146e-05 2.5021262e-05]], shape=(1, 4), dtype=float32)\n",
      "[0.1, 0.2, 0.1, 0.1]\n",
      "tf.Tensor([[9.9993813e-01 5.6878875e-05 2.3278815e-07 4.7537515e-06]], shape=(1, 4), dtype=float32)\n"
     ]
    },
    {
     "name": "stderr",
     "output_type": "stream",
     "text": [
      "100%|███████████████████████████████████████████████████████████████████████▉| 99901/100000 [14:09:17<00:22,  4.31it/s]"
     ]
    },
    {
     "name": "stdout",
     "output_type": "stream",
     "text": [
      "6.865262997183933\n",
      "92\n"
     ]
    },
    {
     "name": "stderr",
     "output_type": "stream",
     "text": [
      "100%|███████████████████████████████████████████████████████████████████████| 100000/100000 [14:09:54<00:00,  1.96it/s]\n"
     ]
    }
   ],
   "source": [
    "agent.learn()"
   ]
  },
  {
   "cell_type": "code",
   "execution_count": 10,
   "metadata": {},
   "outputs": [
    {
     "name": "stderr",
     "output_type": "stream",
     "text": [
      "100%|██████████████████████████████████████████████████████████████████████████████| 1000/1000 [00:32<00:00, 30.90it/s]"
     ]
    },
    {
     "name": "stdout",
     "output_type": "stream",
     "text": [
      "[1001, 834, 948, 1971]\n"
     ]
    },
    {
     "name": "stderr",
     "output_type": "stream",
     "text": [
      "\n"
     ]
    }
   ],
   "source": [
    "agent.trial()"
   ]
  },
  {
   "cell_type": "code",
   "execution_count": null,
   "metadata": {},
   "outputs": [],
   "source": [
    "gain_freq = [0,0,0,0]\n",
    "for epoch in tqdm(range(1000)):\n",
    "    agent.trial()\n",
    "\n",
    "print(gain_freq)"
   ]
  }
 ],
 "metadata": {
  "kernelspec": {
   "display_name": "Python 3.7 (tensorflow)",
   "language": "python",
   "name": "tensorflow"
  },
  "language_info": {
   "codemirror_mode": {
    "name": "ipython",
    "version": 3
   },
   "file_extension": ".py",
   "mimetype": "text/x-python",
   "name": "python",
   "nbconvert_exporter": "python",
   "pygments_lexer": "ipython3",
   "version": "3.7.6"
  }
 },
 "nbformat": 4,
 "nbformat_minor": 4
}
