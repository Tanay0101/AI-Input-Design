{
 "cells": [
  {
   "cell_type": "code",
   "execution_count": 1,
   "metadata": {},
   "outputs": [],
   "source": [
    "import tensorflow as tf\n",
    "from tensorflow import keras\n",
    "from tensorflow.keras.layers import Input, Dense\n",
    "from tensorflow.keras.models import Model\n",
    "from Environment import *\n",
    "from tqdm import tqdm\n",
    "import matplotlib.pyplot as plt"
   ]
  },
  {
   "cell_type": "code",
   "execution_count": 2,
   "metadata": {},
   "outputs": [],
   "source": [
    "'''\n",
    "Direction mapping:\n",
    "0: left = [-1, 0]\n",
    "1: right = [1, 0]\n",
    "2: up = [0, -1]\n",
    "3: down = [0, 1]\n",
    "'''\n",
    "\n",
    "class User_Agent:\n",
    "    def __init__(self):\n",
    "        #model\n",
    "        #-----------------------------------------------------\n",
    "        input_A = Input(shape = (4,))    #curr_x, curr_y, target_x, target_y\n",
    "        x = Dense(32, activation = 'relu')(input_A)\n",
    "        x = Dense(16, activation = 'relu')(x)\n",
    "        x = Dense(4)(x) #left, right, down, up\n",
    "        \n",
    "        self.model = Model(inputs = input_A, outputs = x)\n",
    "        print(self.model.summary())\n",
    "        #---------------------------------------------------\n",
    "        \n",
    "        self.target_model = tf.keras.models.clone_model(self.model)\n",
    "        self.target_model.set_weights(self.model.get_weights())\n",
    "        \n",
    "        self.loss_fn = tf.keras.losses.mean_squared_error\n",
    "        self.optimizer = tf.keras.optimizers.Adam(lr = 0.005)\n",
    "        self.batch_size = 128\n",
    "        self.replay_buffer_size = 1024\n",
    "        self.replay_buffer = Replay_Buffer(self.replay_buffer_size)\n",
    "        self.epsilon = 1\n",
    "        self.gamma = 0.9\n",
    "        \n",
    "    def exp_policy(self, state):\n",
    "        if np.random.rand()<self.epsilon:\n",
    "            return np.random.randint(4)\n",
    "        else:\n",
    "            state = np.array(state)[np.newaxis]\n",
    "            Q_values = self.model(state)\n",
    "            return np.argmax(Q_values[0])\n",
    "        \n",
    "    def sample_experience(self):\n",
    "        indices = np.random.randint(len(self.replay_buffer.state_history), size = self.batch_size)\n",
    "        \n",
    "        states = np.array([self.replay_buffer.state_history[i] for i in indices])\n",
    "        actions = np.array([self.replay_buffer.action_history[i] for i in indices])\n",
    "        next_states = np.array([self.replay_buffer.next_state_history[i] for i in indices])\n",
    "        rewards = np.array([self.replay_buffer.rewards_history[i] for i in indices])\n",
    "        dones = np.array([self.replay_buffer.done_history[i] for i in indices])\n",
    "        \n",
    "        return states, actions, next_states, rewards, dones\n",
    "    \n",
    "\n",
    "    def play_one_step(self, env, state, mod_agent):\n",
    "        action_user = self.exp_policy(state)\n",
    "        action_user_one_hot = make_one_hot(action_user, 4)\n",
    "        curr_loc = state[:2]\n",
    "        target_loc = state[2:]\n",
    "        action_user_one_hot.extend(curr_loc)\n",
    "        mod_state = action_user_one_hot[:]\n",
    "        mod_state = np.array(mod_state)\n",
    "        new_loc, reward, done = mod_agent.play_one_step(env, mod_state, curr_loc, target_loc, self)\n",
    "        next_state = [new_loc[0], new_loc[1], target_loc[0], target_loc[1]]\n",
    "        self.replay_buffer.append(state, action_user, reward, next_state, done)\n",
    "        \n",
    "        return next_state, reward, done\n",
    "    \n",
    "    def train(self):\n",
    "        states, actions, next_states, rewards, dones = self.sample_experience()\n",
    "        next_Q_values = self.target_model(next_states)\n",
    "        max_next_Q_values = np.max(next_Q_values, axis= 1)\n",
    "        target_Q_values = rewards + (1-dones)*self.gamma*max_next_Q_values\n",
    "        \n",
    "        mask = tf.one_hot(actions, 4)\n",
    "        \n",
    "        with tf.GradientTape() as tape:\n",
    "            all_Q_values = self.model(states)\n",
    "            Q_values = tf.reduce_sum(all_Q_values*mask, axis = 1, keepdims = True)\n",
    "            loss = tf.reduce_mean(self.loss_fn(target_Q_values, Q_values))\n",
    "\n",
    "        grads = tape.gradient(loss, self.model.trainable_variables)\n",
    "        self.optimizer.apply_gradients(zip(grads, self.model.trainable_variables))"
   ]
  },
  {
   "cell_type": "code",
   "execution_count": 3,
   "metadata": {},
   "outputs": [],
   "source": [
    "class Mod_Agent:\n",
    "    def __init__(self):\n",
    "        #model\n",
    "        #-----------------------------------------------------\n",
    "        input_A = Input(shape = (6,))   #direction of motion_one_hot(4), curr_x, curr_y\n",
    "        x = Dense(32, activation = 'relu')(input_A)\n",
    "        x = Dense(16, activation = 'relu')(x)\n",
    "        x = Dense(4)(x) #modulate by 1,2,3,4 \n",
    "        \n",
    "        self.model = Model(inputs = input_A, outputs = x)\n",
    "        print(self.model.summary())\n",
    "        #---------------------------------------------------\n",
    "        \n",
    "        self.target_model = tf.keras.models.clone_model(self.model)\n",
    "        self.target_model.set_weights(self.model.get_weights())\n",
    "        \n",
    "        self.loss_fn = tf.keras.losses.mean_squared_error\n",
    "        self.optimizer = tf.keras.optimizers.Adam(lr = 0.05)\n",
    "        self.batch_size = 128\n",
    "        self.replay_buffer_size = 1024\n",
    "        self.replay_buffer = Replay_Buffer(self.replay_buffer_size)\n",
    "        self.epsilon = 1\n",
    "        self.steps_per_epoch = 1\n",
    "        self.gamma = 0.9\n",
    "    \n",
    "    def exp_policy(self, state):\n",
    "        if np.random.rand()<self.epsilon:\n",
    "            return np.random.randint(4)\n",
    "        else:\n",
    "            state = np.array(state)[np.newaxis]\n",
    "            Q_values = self.model(state)\n",
    "            return np.argmax(Q_values[0])+1\n",
    "        \n",
    "        \n",
    "    def sample_experience(self):\n",
    "        indices = np.random.randint(len(self.replay_buffer.state_history), size = self.batch_size)\n",
    "        \n",
    "        states = np.array([self.replay_buffer.state_history[i] for i in indices])\n",
    "        actions = np.array([self.replay_buffer.action_history[i] for i in indices])\n",
    "        next_states = np.array([self.replay_buffer.next_state_history[i] for i in indices])\n",
    "        rewards = np.array([self.replay_buffer.rewards_history[i] for i in indices])\n",
    "        dones = np.array([self.replay_buffer.done_history[i] for i in indices])\n",
    "        \n",
    "        return states, actions, next_states, rewards, dones\n",
    "    \n",
    "    def play_one_step(self, env, state, curr_loc, target_loc, user_agent):\n",
    "        #Agent not aware of target location\n",
    "        action_mod = self.exp_policy(state)\n",
    "        action_user = np.argmax(state[:4])\n",
    "#         print(action_user)\n",
    "        action_mod = 1\n",
    "        new_loc, reward, done = env.step(action_user, action_mod, target_loc, curr_loc)\n",
    "        next_dir = user_agent.exp_policy(np.array([new_loc[0], new_loc[1], target_loc[0], target_loc[1]]))\n",
    "        \n",
    "        next_dir_one_hot = make_one_hot(next_dir, 4)\n",
    "        next_dir_one_hot.extend(new_loc)\n",
    "        next_state = next_dir_one_hot[:]\n",
    "        next_state = np.array(next_state)\n",
    "        \n",
    "        self.replay_buffer.append(state, action_mod-1, reward, next_state, done)\n",
    "        \n",
    "        \n",
    "        return new_loc, reward, done\n",
    "    \n",
    "    def train(self):\n",
    "        states, actions, next_states, rewards, dones = self.sample_experience()\n",
    "        next_Q_values = self.target_model(next_states)\n",
    "        max_next_Q_values = np.max(next_Q_values, axis= 1)\n",
    "        target_Q_values = rewards + (1-dones)*self.gamma*max_next_Q_values\n",
    "        \n",
    "        mask = tf.one_hot(actions, 4)\n",
    "        \n",
    "        with tf.GradientTape() as tape:\n",
    "            all_Q_values = self.model(states)\n",
    "            Q_values = tf.reduce_sum(all_Q_values*mask, axis = 1, keepdims = True)\n",
    "            loss = tf.reduce_mean(self.loss_fn(target_Q_values, Q_values))\n",
    "\n",
    "        grads = tape.gradient(loss, self.model.trainable_variables)\n",
    "        self.optimizer.apply_gradients(zip(grads, self.model.trainable_variables))\n",
    "            "
   ]
  },
  {
   "cell_type": "code",
   "execution_count": 4,
   "metadata": {},
   "outputs": [
    {
     "name": "stdout",
     "output_type": "stream",
     "text": [
      "Icon Locations:\n",
      "[[0.4 0.1]\n",
      " [0.1 0.9]\n",
      " [0.9 0.7]\n",
      " [0.2 0.3]\n",
      " [0.9 0.2]\n",
      " [0.1 0.2]]\n",
      "Icon usage Probabilities\n",
      "[0.16666667 0.16666667 0.16666667 0.16666667 0.16666667 0.16666667]\n",
      "Model: \"functional_1\"\n",
      "_________________________________________________________________\n",
      "Layer (type)                 Output Shape              Param #   \n",
      "=================================================================\n",
      "input_1 (InputLayer)         [(None, 4)]               0         \n",
      "_________________________________________________________________\n",
      "dense (Dense)                (None, 32)                160       \n",
      "_________________________________________________________________\n",
      "dense_1 (Dense)              (None, 16)                528       \n",
      "_________________________________________________________________\n",
      "dense_2 (Dense)              (None, 4)                 68        \n",
      "=================================================================\n",
      "Total params: 756\n",
      "Trainable params: 756\n",
      "Non-trainable params: 0\n",
      "_________________________________________________________________\n",
      "None\n",
      "Model: \"functional_3\"\n",
      "_________________________________________________________________\n",
      "Layer (type)                 Output Shape              Param #   \n",
      "=================================================================\n",
      "input_2 (InputLayer)         [(None, 6)]               0         \n",
      "_________________________________________________________________\n",
      "dense_3 (Dense)              (None, 32)                224       \n",
      "_________________________________________________________________\n",
      "dense_4 (Dense)              (None, 16)                528       \n",
      "_________________________________________________________________\n",
      "dense_5 (Dense)              (None, 4)                 68        \n",
      "=================================================================\n",
      "Total params: 820\n",
      "Trainable params: 820\n",
      "Non-trainable params: 0\n",
      "_________________________________________________________________\n",
      "None\n"
     ]
    }
   ],
   "source": [
    "env = Environment()\n",
    "user_agent = User_Agent()\n",
    "mod_agent = Mod_Agent()"
   ]
  },
  {
   "cell_type": "code",
   "execution_count": 5,
   "metadata": {
    "scrolled": true
   },
   "outputs": [
    {
     "name": "stderr",
     "output_type": "stream",
     "text": [
      "\r",
      "  0%|                                                                                        | 0/10000 [00:00<?, ?it/s]"
     ]
    },
    {
     "name": "stdout",
     "output_type": "stream",
     "text": [
      "Mean Reward = -29.999999999999996\n",
      "0\n",
      "Mean Reward = -29.890000000000004\n",
      "0\n",
      "Mean Reward = -29.03\n",
      "0\n"
     ]
    },
    {
     "name": "stderr",
     "output_type": "stream",
     "text": [
      "\r",
      "  0%|▏                                                                             | 29/10000 [00:00<00:34, 287.01it/s]"
     ]
    },
    {
     "name": "stdout",
     "output_type": "stream",
     "text": [
      "Mean Reward = -31.369999999999994\n",
      "0\n",
      "Mean Reward = -29.409999999999997\n",
      "0\n",
      "Mean Reward = -29.6\n",
      "0\n"
     ]
    },
    {
     "name": "stderr",
     "output_type": "stream",
     "text": [
      "  1%|▍                                                                              | 61/10000 [00:02<12:49, 12.92it/s]"
     ]
    },
    {
     "name": "stdout",
     "output_type": "stream",
     "text": [
      "Mean Reward = -26.25\n",
      "0\n"
     ]
    },
    {
     "name": "stderr",
     "output_type": "stream",
     "text": [
      "\r",
      "  1%|▌                                                                              | 67/10000 [00:03<20:04,  8.25it/s]"
     ]
    },
    {
     "name": "stdout",
     "output_type": "stream",
     "text": [
      "Mean Reward = -28.639999999999997\n",
      "0\n"
     ]
    },
    {
     "name": "stderr",
     "output_type": "stream",
     "text": [
      "  1%|▌                                                                              | 76/10000 [00:06<31:01,  5.33it/s]"
     ]
    },
    {
     "name": "stdout",
     "output_type": "stream",
     "text": [
      "Updated Weights\n"
     ]
    },
    {
     "name": "stderr",
     "output_type": "stream",
     "text": [
      "  1%|▋                                                                              | 81/10000 [00:07<36:01,  4.59it/s]"
     ]
    },
    {
     "name": "stdout",
     "output_type": "stream",
     "text": [
      "Mean Reward = -27.26\n",
      "0\n"
     ]
    },
    {
     "name": "stderr",
     "output_type": "stream",
     "text": [
      "  1%|▋                                                                              | 91/10000 [00:09<38:38,  4.27it/s]"
     ]
    },
    {
     "name": "stdout",
     "output_type": "stream",
     "text": [
      "Mean Reward = -23.93\n",
      "0\n"
     ]
    },
    {
     "name": "stderr",
     "output_type": "stream",
     "text": [
      "  1%|▊                                                                             | 101/10000 [00:12<37:48,  4.36it/s]"
     ]
    },
    {
     "name": "stdout",
     "output_type": "stream",
     "text": [
      "Updated Weights\n",
      "Mean Reward = -28.26\n",
      "0\n"
     ]
    },
    {
     "name": "stderr",
     "output_type": "stream",
     "text": [
      "  1%|▊                                                                             | 111/10000 [00:14<38:15,  4.31it/s]"
     ]
    },
    {
     "name": "stdout",
     "output_type": "stream",
     "text": [
      "Mean Reward = -26.959999999999997\n",
      "0\n"
     ]
    },
    {
     "name": "stderr",
     "output_type": "stream",
     "text": [
      "  1%|▉                                                                             | 121/10000 [00:17<39:48,  4.14it/s]"
     ]
    },
    {
     "name": "stdout",
     "output_type": "stream",
     "text": [
      "Mean Reward = -27.580000000000002\n",
      "0\n"
     ]
    },
    {
     "name": "stderr",
     "output_type": "stream",
     "text": [
      "  1%|▉                                                                             | 126/10000 [00:18<40:50,  4.03it/s]"
     ]
    },
    {
     "name": "stdout",
     "output_type": "stream",
     "text": [
      "Updated Weights\n"
     ]
    },
    {
     "name": "stderr",
     "output_type": "stream",
     "text": [
      "  1%|█                                                                             | 131/10000 [00:19<41:25,  3.97it/s]"
     ]
    },
    {
     "name": "stdout",
     "output_type": "stream",
     "text": [
      "Mean Reward = -30.149999999999995\n",
      "0\n"
     ]
    },
    {
     "name": "stderr",
     "output_type": "stream",
     "text": [
      "  1%|█                                                                             | 141/10000 [00:22<40:12,  4.09it/s]"
     ]
    },
    {
     "name": "stdout",
     "output_type": "stream",
     "text": [
      "Mean Reward = -30.909999999999997\n",
      "0\n"
     ]
    },
    {
     "name": "stderr",
     "output_type": "stream",
     "text": [
      "  2%|█▏                                                                            | 151/10000 [00:24<38:20,  4.28it/s]"
     ]
    },
    {
     "name": "stdout",
     "output_type": "stream",
     "text": [
      "Updated Weights\n",
      "Mean Reward = -28.740000000000002\n",
      "0\n"
     ]
    },
    {
     "name": "stderr",
     "output_type": "stream",
     "text": [
      "  2%|█▎                                                                            | 161/10000 [00:26<36:05,  4.54it/s]"
     ]
    },
    {
     "name": "stdout",
     "output_type": "stream",
     "text": [
      "Mean Reward = -28.419999999999998\n",
      "0\n"
     ]
    },
    {
     "name": "stderr",
     "output_type": "stream",
     "text": [
      "  2%|█▎                                                                            | 171/10000 [00:29<39:16,  4.17it/s]"
     ]
    },
    {
     "name": "stdout",
     "output_type": "stream",
     "text": [
      "Mean Reward = -31.98\n",
      "0\n"
     ]
    },
    {
     "name": "stderr",
     "output_type": "stream",
     "text": [
      "  2%|█▎                                                                            | 176/10000 [00:30<36:57,  4.43it/s]"
     ]
    },
    {
     "name": "stdout",
     "output_type": "stream",
     "text": [
      "Updated Weights\n"
     ]
    },
    {
     "name": "stderr",
     "output_type": "stream",
     "text": [
      "  2%|█▍                                                                            | 181/10000 [00:31<42:08,  3.88it/s]"
     ]
    },
    {
     "name": "stdout",
     "output_type": "stream",
     "text": [
      "Mean Reward = -31.660000000000004\n",
      "0\n"
     ]
    },
    {
     "name": "stderr",
     "output_type": "stream",
     "text": [
      "  2%|█▍                                                                            | 191/10000 [00:33<38:32,  4.24it/s]"
     ]
    },
    {
     "name": "stdout",
     "output_type": "stream",
     "text": [
      "Mean Reward = -27.3\n",
      "0\n"
     ]
    },
    {
     "name": "stderr",
     "output_type": "stream",
     "text": [
      "  2%|█▌                                                                            | 201/10000 [00:36<36:36,  4.46it/s]"
     ]
    },
    {
     "name": "stdout",
     "output_type": "stream",
     "text": [
      "Updated Weights\n",
      "Mean Reward = -28.93\n",
      "0\n"
     ]
    },
    {
     "name": "stderr",
     "output_type": "stream",
     "text": [
      "  2%|█▋                                                                            | 211/10000 [00:38<42:41,  3.82it/s]"
     ]
    },
    {
     "name": "stdout",
     "output_type": "stream",
     "text": [
      "Mean Reward = -26.939999999999998\n",
      "0\n"
     ]
    },
    {
     "name": "stderr",
     "output_type": "stream",
     "text": [
      "  2%|█▋                                                                            | 221/10000 [00:41<42:28,  3.84it/s]"
     ]
    },
    {
     "name": "stdout",
     "output_type": "stream",
     "text": [
      "Mean Reward = -25.47\n",
      "0\n"
     ]
    },
    {
     "name": "stderr",
     "output_type": "stream",
     "text": [
      "  2%|█▊                                                                            | 226/10000 [00:42<37:12,  4.38it/s]"
     ]
    },
    {
     "name": "stdout",
     "output_type": "stream",
     "text": [
      "Updated Weights\n"
     ]
    },
    {
     "name": "stderr",
     "output_type": "stream",
     "text": [
      "  2%|█▊                                                                            | 231/10000 [00:43<41:31,  3.92it/s]"
     ]
    },
    {
     "name": "stdout",
     "output_type": "stream",
     "text": [
      "Mean Reward = -27.6\n",
      "0\n"
     ]
    },
    {
     "name": "stderr",
     "output_type": "stream",
     "text": [
      "  2%|█▉                                                                            | 241/10000 [00:46<41:07,  3.95it/s]"
     ]
    },
    {
     "name": "stdout",
     "output_type": "stream",
     "text": [
      "Mean Reward = -30.699999999999996\n",
      "0\n"
     ]
    },
    {
     "name": "stderr",
     "output_type": "stream",
     "text": [
      "  3%|█▉                                                                            | 251/10000 [00:48<40:25,  4.02it/s]"
     ]
    },
    {
     "name": "stdout",
     "output_type": "stream",
     "text": [
      "Updated Weights\n",
      "Mean Reward = -28.619999999999997\n",
      "0\n"
     ]
    },
    {
     "name": "stderr",
     "output_type": "stream",
     "text": [
      "  3%|██                                                                            | 261/10000 [00:51<41:51,  3.88it/s]"
     ]
    },
    {
     "name": "stdout",
     "output_type": "stream",
     "text": [
      "Mean Reward = -31.46\n",
      "0\n"
     ]
    },
    {
     "name": "stderr",
     "output_type": "stream",
     "text": [
      "  3%|██                                                                            | 271/10000 [00:53<41:08,  3.94it/s]"
     ]
    },
    {
     "name": "stdout",
     "output_type": "stream",
     "text": [
      "Mean Reward = -32.739999999999995\n",
      "0\n"
     ]
    },
    {
     "name": "stderr",
     "output_type": "stream",
     "text": [
      "  3%|██▏                                                                           | 276/10000 [00:54<38:03,  4.26it/s]"
     ]
    },
    {
     "name": "stdout",
     "output_type": "stream",
     "text": [
      "Updated Weights\n"
     ]
    },
    {
     "name": "stderr",
     "output_type": "stream",
     "text": [
      "  3%|██▏                                                                           | 281/10000 [00:56<41:56,  3.86it/s]"
     ]
    },
    {
     "name": "stdout",
     "output_type": "stream",
     "text": [
      "Mean Reward = -32.14\n",
      "0\n"
     ]
    },
    {
     "name": "stderr",
     "output_type": "stream",
     "text": [
      "  3%|██▎                                                                           | 291/10000 [00:58<37:17,  4.34it/s]"
     ]
    },
    {
     "name": "stdout",
     "output_type": "stream",
     "text": [
      "Mean Reward = -27.05\n",
      "0\n"
     ]
    },
    {
     "name": "stderr",
     "output_type": "stream",
     "text": [
      "  3%|██▎                                                                           | 301/10000 [01:01<39:56,  4.05it/s]"
     ]
    },
    {
     "name": "stdout",
     "output_type": "stream",
     "text": [
      "Updated Weights\n",
      "Mean Reward = -35.42\n",
      "0\n"
     ]
    },
    {
     "name": "stderr",
     "output_type": "stream",
     "text": [
      "  3%|██▍                                                                           | 311/10000 [01:03<41:32,  3.89it/s]"
     ]
    },
    {
     "name": "stdout",
     "output_type": "stream",
     "text": [
      "Mean Reward = -30.03\n",
      "0\n"
     ]
    },
    {
     "name": "stderr",
     "output_type": "stream",
     "text": [
      "  3%|██▌                                                                           | 321/10000 [01:06<37:26,  4.31it/s]"
     ]
    },
    {
     "name": "stdout",
     "output_type": "stream",
     "text": [
      "Mean Reward = -28.839999999999996\n",
      "0\n"
     ]
    },
    {
     "name": "stderr",
     "output_type": "stream",
     "text": [
      "  3%|██▌                                                                           | 326/10000 [01:07<38:02,  4.24it/s]"
     ]
    },
    {
     "name": "stdout",
     "output_type": "stream",
     "text": [
      "Updated Weights\n"
     ]
    },
    {
     "name": "stderr",
     "output_type": "stream",
     "text": [
      "  3%|██▌                                                                           | 331/10000 [01:08<38:54,  4.14it/s]"
     ]
    },
    {
     "name": "stdout",
     "output_type": "stream",
     "text": [
      "Mean Reward = -27.630000000000003\n",
      "0\n"
     ]
    },
    {
     "name": "stderr",
     "output_type": "stream",
     "text": [
      "  3%|██▋                                                                           | 341/10000 [01:10<37:24,  4.30it/s]"
     ]
    },
    {
     "name": "stdout",
     "output_type": "stream",
     "text": [
      "Mean Reward = -26.540000000000003\n",
      "0\n"
     ]
    },
    {
     "name": "stderr",
     "output_type": "stream",
     "text": [
      "  4%|██▋                                                                           | 351/10000 [01:13<37:04,  4.34it/s]"
     ]
    },
    {
     "name": "stdout",
     "output_type": "stream",
     "text": [
      "Updated Weights\n",
      "Mean Reward = -31.47\n",
      "0\n"
     ]
    },
    {
     "name": "stderr",
     "output_type": "stream",
     "text": [
      "  4%|██▊                                                                           | 361/10000 [01:15<37:22,  4.30it/s]"
     ]
    },
    {
     "name": "stdout",
     "output_type": "stream",
     "text": [
      "Mean Reward = -30.98\n",
      "0\n"
     ]
    },
    {
     "name": "stderr",
     "output_type": "stream",
     "text": [
      "  4%|██▉                                                                           | 371/10000 [01:17<38:11,  4.20it/s]"
     ]
    },
    {
     "name": "stdout",
     "output_type": "stream",
     "text": [
      "Mean Reward = -31.060000000000002\n",
      "0\n"
     ]
    },
    {
     "name": "stderr",
     "output_type": "stream",
     "text": [
      "  4%|██▉                                                                           | 376/10000 [01:18<37:34,  4.27it/s]"
     ]
    },
    {
     "name": "stdout",
     "output_type": "stream",
     "text": [
      "Updated Weights\n"
     ]
    },
    {
     "name": "stderr",
     "output_type": "stream",
     "text": [
      "  4%|██▉                                                                           | 381/10000 [01:20<37:16,  4.30it/s]"
     ]
    },
    {
     "name": "stdout",
     "output_type": "stream",
     "text": [
      "Mean Reward = -29.93\n",
      "0\n"
     ]
    },
    {
     "name": "stderr",
     "output_type": "stream",
     "text": [
      "  4%|███                                                                           | 391/10000 [01:22<37:36,  4.26it/s]"
     ]
    },
    {
     "name": "stdout",
     "output_type": "stream",
     "text": [
      "Mean Reward = -29.270000000000003\n",
      "0\n"
     ]
    },
    {
     "name": "stderr",
     "output_type": "stream",
     "text": [
      "  4%|███▏                                                                          | 401/10000 [01:24<41:32,  3.85it/s]"
     ]
    },
    {
     "name": "stdout",
     "output_type": "stream",
     "text": [
      "Updated Weights\n",
      "Mean Reward = -31.6\n",
      "0\n"
     ]
    },
    {
     "name": "stderr",
     "output_type": "stream",
     "text": [
      "  4%|███▏                                                                          | 403/10000 [01:25<33:55,  4.71it/s]\n"
     ]
    },
    {
     "ename": "KeyboardInterrupt",
     "evalue": "",
     "output_type": "error",
     "traceback": [
      "\u001b[1;31m---------------------------------------------------------------------------\u001b[0m",
      "\u001b[1;31mKeyboardInterrupt\u001b[0m                         Traceback (most recent call last)",
      "\u001b[1;32m<ipython-input-5-84f8cb90d61b>\u001b[0m in \u001b[0;36m<module>\u001b[1;34m\u001b[0m\n\u001b[0;32m     20\u001b[0m             \u001b[0mreached\u001b[0m\u001b[1;33m+=\u001b[0m\u001b[1;36m1\u001b[0m\u001b[1;33m\u001b[0m\u001b[1;33m\u001b[0m\u001b[0m\n\u001b[0;32m     21\u001b[0m         \u001b[1;32mif\u001b[0m \u001b[0mepoch\u001b[0m\u001b[1;33m>\u001b[0m\u001b[1;36m50\u001b[0m\u001b[1;33m:\u001b[0m\u001b[1;33m\u001b[0m\u001b[1;33m\u001b[0m\u001b[0m\n\u001b[1;32m---> 22\u001b[1;33m             \u001b[0muser_agent\u001b[0m\u001b[1;33m.\u001b[0m\u001b[0mtrain\u001b[0m\u001b[1;33m(\u001b[0m\u001b[1;33m)\u001b[0m\u001b[1;33m\u001b[0m\u001b[1;33m\u001b[0m\u001b[0m\n\u001b[0m\u001b[0;32m     23\u001b[0m \u001b[1;31m#             mod_agent.train()\u001b[0m\u001b[1;33m\u001b[0m\u001b[1;33m\u001b[0m\u001b[1;33m\u001b[0m\u001b[0m\n\u001b[0;32m     24\u001b[0m \u001b[1;33m\u001b[0m\u001b[0m\n",
      "\u001b[1;32m<ipython-input-2-6b9f588470f6>\u001b[0m in \u001b[0;36mtrain\u001b[1;34m(self)\u001b[0m\n\u001b[0;32m     78\u001b[0m             \u001b[0mloss\u001b[0m \u001b[1;33m=\u001b[0m \u001b[0mtf\u001b[0m\u001b[1;33m.\u001b[0m\u001b[0mreduce_mean\u001b[0m\u001b[1;33m(\u001b[0m\u001b[0mself\u001b[0m\u001b[1;33m.\u001b[0m\u001b[0mloss_fn\u001b[0m\u001b[1;33m(\u001b[0m\u001b[0mtarget_Q_values\u001b[0m\u001b[1;33m,\u001b[0m \u001b[0mQ_values\u001b[0m\u001b[1;33m)\u001b[0m\u001b[1;33m)\u001b[0m\u001b[1;33m\u001b[0m\u001b[1;33m\u001b[0m\u001b[0m\n\u001b[0;32m     79\u001b[0m \u001b[1;33m\u001b[0m\u001b[0m\n\u001b[1;32m---> 80\u001b[1;33m         \u001b[0mgrads\u001b[0m \u001b[1;33m=\u001b[0m \u001b[0mtape\u001b[0m\u001b[1;33m.\u001b[0m\u001b[0mgradient\u001b[0m\u001b[1;33m(\u001b[0m\u001b[0mloss\u001b[0m\u001b[1;33m,\u001b[0m \u001b[0mself\u001b[0m\u001b[1;33m.\u001b[0m\u001b[0mmodel\u001b[0m\u001b[1;33m.\u001b[0m\u001b[0mtrainable_variables\u001b[0m\u001b[1;33m)\u001b[0m\u001b[1;33m\u001b[0m\u001b[1;33m\u001b[0m\u001b[0m\n\u001b[0m\u001b[0;32m     81\u001b[0m         \u001b[0mself\u001b[0m\u001b[1;33m.\u001b[0m\u001b[0moptimizer\u001b[0m\u001b[1;33m.\u001b[0m\u001b[0mapply_gradients\u001b[0m\u001b[1;33m(\u001b[0m\u001b[0mzip\u001b[0m\u001b[1;33m(\u001b[0m\u001b[0mgrads\u001b[0m\u001b[1;33m,\u001b[0m \u001b[0mself\u001b[0m\u001b[1;33m.\u001b[0m\u001b[0mmodel\u001b[0m\u001b[1;33m.\u001b[0m\u001b[0mtrainable_variables\u001b[0m\u001b[1;33m)\u001b[0m\u001b[1;33m)\u001b[0m\u001b[1;33m\u001b[0m\u001b[1;33m\u001b[0m\u001b[0m\n",
      "\u001b[1;32m~\\AppData\\Roaming\\Python\\Python37\\site-packages\\tensorflow\\python\\eager\\backprop.py\u001b[0m in \u001b[0;36mgradient\u001b[1;34m(self, target, sources, output_gradients, unconnected_gradients)\u001b[0m\n\u001b[0;32m   1071\u001b[0m         \u001b[0moutput_gradients\u001b[0m\u001b[1;33m=\u001b[0m\u001b[0moutput_gradients\u001b[0m\u001b[1;33m,\u001b[0m\u001b[1;33m\u001b[0m\u001b[1;33m\u001b[0m\u001b[0m\n\u001b[0;32m   1072\u001b[0m         \u001b[0msources_raw\u001b[0m\u001b[1;33m=\u001b[0m\u001b[0mflat_sources_raw\u001b[0m\u001b[1;33m,\u001b[0m\u001b[1;33m\u001b[0m\u001b[1;33m\u001b[0m\u001b[0m\n\u001b[1;32m-> 1073\u001b[1;33m         unconnected_gradients=unconnected_gradients)\n\u001b[0m\u001b[0;32m   1074\u001b[0m \u001b[1;33m\u001b[0m\u001b[0m\n\u001b[0;32m   1075\u001b[0m     \u001b[1;32mif\u001b[0m \u001b[1;32mnot\u001b[0m \u001b[0mself\u001b[0m\u001b[1;33m.\u001b[0m\u001b[0m_persistent\u001b[0m\u001b[1;33m:\u001b[0m\u001b[1;33m\u001b[0m\u001b[1;33m\u001b[0m\u001b[0m\n",
      "\u001b[1;32m~\\AppData\\Roaming\\Python\\Python37\\site-packages\\tensorflow\\python\\eager\\imperative_grad.py\u001b[0m in \u001b[0;36mimperative_grad\u001b[1;34m(tape, target, sources, output_gradients, sources_raw, unconnected_gradients)\u001b[0m\n\u001b[0;32m     75\u001b[0m       \u001b[0moutput_gradients\u001b[0m\u001b[1;33m,\u001b[0m\u001b[1;33m\u001b[0m\u001b[1;33m\u001b[0m\u001b[0m\n\u001b[0;32m     76\u001b[0m       \u001b[0msources_raw\u001b[0m\u001b[1;33m,\u001b[0m\u001b[1;33m\u001b[0m\u001b[1;33m\u001b[0m\u001b[0m\n\u001b[1;32m---> 77\u001b[1;33m       compat.as_str(unconnected_gradients.value))\n\u001b[0m",
      "\u001b[1;32m~\\AppData\\Roaming\\Python\\Python37\\site-packages\\tensorflow\\python\\eager\\backprop.py\u001b[0m in \u001b[0;36m_gradient_function\u001b[1;34m(op_name, attr_tuple, num_inputs, inputs, outputs, out_grads, skip_input_indices, forward_pass_name_scope)\u001b[0m\n\u001b[0;32m    160\u001b[0m       \u001b[0mgradient_name_scope\u001b[0m \u001b[1;33m+=\u001b[0m \u001b[0mforward_pass_name_scope\u001b[0m \u001b[1;33m+\u001b[0m \u001b[1;34m\"/\"\u001b[0m\u001b[1;33m\u001b[0m\u001b[1;33m\u001b[0m\u001b[0m\n\u001b[0;32m    161\u001b[0m     \u001b[1;32mwith\u001b[0m \u001b[0mops\u001b[0m\u001b[1;33m.\u001b[0m\u001b[0mname_scope\u001b[0m\u001b[1;33m(\u001b[0m\u001b[0mgradient_name_scope\u001b[0m\u001b[1;33m)\u001b[0m\u001b[1;33m:\u001b[0m\u001b[1;33m\u001b[0m\u001b[1;33m\u001b[0m\u001b[0m\n\u001b[1;32m--> 162\u001b[1;33m       \u001b[1;32mreturn\u001b[0m \u001b[0mgrad_fn\u001b[0m\u001b[1;33m(\u001b[0m\u001b[0mmock_op\u001b[0m\u001b[1;33m,\u001b[0m \u001b[1;33m*\u001b[0m\u001b[0mout_grads\u001b[0m\u001b[1;33m)\u001b[0m\u001b[1;33m\u001b[0m\u001b[1;33m\u001b[0m\u001b[0m\n\u001b[0m\u001b[0;32m    163\u001b[0m   \u001b[1;32melse\u001b[0m\u001b[1;33m:\u001b[0m\u001b[1;33m\u001b[0m\u001b[1;33m\u001b[0m\u001b[0m\n\u001b[0;32m    164\u001b[0m     \u001b[1;32mreturn\u001b[0m \u001b[0mgrad_fn\u001b[0m\u001b[1;33m(\u001b[0m\u001b[0mmock_op\u001b[0m\u001b[1;33m,\u001b[0m \u001b[1;33m*\u001b[0m\u001b[0mout_grads\u001b[0m\u001b[1;33m)\u001b[0m\u001b[1;33m\u001b[0m\u001b[1;33m\u001b[0m\u001b[0m\n",
      "\u001b[1;32m~\\AppData\\Roaming\\Python\\Python37\\site-packages\\tensorflow\\python\\ops\\math_grad.py\u001b[0m in \u001b[0;36m_MeanGrad\u001b[1;34m(op, grad)\u001b[0m\n\u001b[0;32m    250\u001b[0m \u001b[1;32mdef\u001b[0m \u001b[0m_MeanGrad\u001b[0m\u001b[1;33m(\u001b[0m\u001b[0mop\u001b[0m\u001b[1;33m,\u001b[0m \u001b[0mgrad\u001b[0m\u001b[1;33m)\u001b[0m\u001b[1;33m:\u001b[0m\u001b[1;33m\u001b[0m\u001b[1;33m\u001b[0m\u001b[0m\n\u001b[0;32m    251\u001b[0m   \u001b[1;34m\"\"\"Gradient for Mean.\"\"\"\u001b[0m\u001b[1;33m\u001b[0m\u001b[1;33m\u001b[0m\u001b[0m\n\u001b[1;32m--> 252\u001b[1;33m   \u001b[0msum_grad\u001b[0m \u001b[1;33m=\u001b[0m \u001b[0m_SumGrad\u001b[0m\u001b[1;33m(\u001b[0m\u001b[0mop\u001b[0m\u001b[1;33m,\u001b[0m \u001b[0mgrad\u001b[0m\u001b[1;33m)\u001b[0m\u001b[1;33m[\u001b[0m\u001b[1;36m0\u001b[0m\u001b[1;33m]\u001b[0m\u001b[1;33m\u001b[0m\u001b[1;33m\u001b[0m\u001b[0m\n\u001b[0m\u001b[0;32m    253\u001b[0m   \u001b[0minput_shape\u001b[0m \u001b[1;33m=\u001b[0m \u001b[0mop\u001b[0m\u001b[1;33m.\u001b[0m\u001b[0minputs\u001b[0m\u001b[1;33m[\u001b[0m\u001b[1;36m0\u001b[0m\u001b[1;33m]\u001b[0m\u001b[1;33m.\u001b[0m\u001b[0m_shape_tuple\u001b[0m\u001b[1;33m(\u001b[0m\u001b[1;33m)\u001b[0m  \u001b[1;31m# pylint: disable=protected-access\u001b[0m\u001b[1;33m\u001b[0m\u001b[1;33m\u001b[0m\u001b[0m\n\u001b[0;32m    254\u001b[0m   \u001b[0moutput_shape\u001b[0m \u001b[1;33m=\u001b[0m \u001b[0mop\u001b[0m\u001b[1;33m.\u001b[0m\u001b[0moutputs\u001b[0m\u001b[1;33m[\u001b[0m\u001b[1;36m0\u001b[0m\u001b[1;33m]\u001b[0m\u001b[1;33m.\u001b[0m\u001b[0m_shape_tuple\u001b[0m\u001b[1;33m(\u001b[0m\u001b[1;33m)\u001b[0m  \u001b[1;31m# pylint: disable=protected-access\u001b[0m\u001b[1;33m\u001b[0m\u001b[1;33m\u001b[0m\u001b[0m\n",
      "\u001b[1;32m~\\AppData\\Roaming\\Python\\Python37\\site-packages\\tensorflow\\python\\ops\\math_grad.py\u001b[0m in \u001b[0;36m_SumGrad\u001b[1;34m(op, grad)\u001b[0m\n\u001b[0;32m    152\u001b[0m   \u001b[0minput_0_shape\u001b[0m \u001b[1;33m=\u001b[0m \u001b[0mop\u001b[0m\u001b[1;33m.\u001b[0m\u001b[0minputs\u001b[0m\u001b[1;33m[\u001b[0m\u001b[1;36m0\u001b[0m\u001b[1;33m]\u001b[0m\u001b[1;33m.\u001b[0m\u001b[0m_shape_tuple\u001b[0m\u001b[1;33m(\u001b[0m\u001b[1;33m)\u001b[0m  \u001b[1;31m# pylint: disable=protected-access\u001b[0m\u001b[1;33m\u001b[0m\u001b[1;33m\u001b[0m\u001b[0m\n\u001b[0;32m    153\u001b[0m   \u001b[1;32mif\u001b[0m \u001b[0minput_0_shape\u001b[0m \u001b[1;32mis\u001b[0m \u001b[1;32mnot\u001b[0m \u001b[1;32mNone\u001b[0m\u001b[1;33m:\u001b[0m\u001b[1;33m\u001b[0m\u001b[1;33m\u001b[0m\u001b[0m\n\u001b[1;32m--> 154\u001b[1;33m     \u001b[0maxes\u001b[0m \u001b[1;33m=\u001b[0m \u001b[0mtensor_util\u001b[0m\u001b[1;33m.\u001b[0m\u001b[0mconstant_value\u001b[0m\u001b[1;33m(\u001b[0m\u001b[0mop\u001b[0m\u001b[1;33m.\u001b[0m\u001b[0minputs\u001b[0m\u001b[1;33m[\u001b[0m\u001b[1;36m1\u001b[0m\u001b[1;33m]\u001b[0m\u001b[1;33m)\u001b[0m\u001b[1;33m\u001b[0m\u001b[1;33m\u001b[0m\u001b[0m\n\u001b[0m\u001b[0;32m    155\u001b[0m     \u001b[1;32mif\u001b[0m \u001b[0maxes\u001b[0m \u001b[1;32mis\u001b[0m \u001b[1;32mnot\u001b[0m \u001b[1;32mNone\u001b[0m\u001b[1;33m:\u001b[0m\u001b[1;33m\u001b[0m\u001b[1;33m\u001b[0m\u001b[0m\n\u001b[0;32m    156\u001b[0m       \u001b[0mrank\u001b[0m \u001b[1;33m=\u001b[0m \u001b[0mlen\u001b[0m\u001b[1;33m(\u001b[0m\u001b[0minput_0_shape\u001b[0m\u001b[1;33m)\u001b[0m\u001b[1;33m\u001b[0m\u001b[1;33m\u001b[0m\u001b[0m\n",
      "\u001b[1;32m~\\AppData\\Roaming\\Python\\Python37\\site-packages\\tensorflow\\python\\framework\\tensor_util.py\u001b[0m in \u001b[0;36mconstant_value\u001b[1;34m(tensor, partial)\u001b[0m\n\u001b[0;32m    827\u001b[0m   \"\"\"\n\u001b[0;32m    828\u001b[0m   \u001b[1;32mif\u001b[0m \u001b[0misinstance\u001b[0m\u001b[1;33m(\u001b[0m\u001b[0mtensor\u001b[0m\u001b[1;33m,\u001b[0m \u001b[0mops\u001b[0m\u001b[1;33m.\u001b[0m\u001b[0mEagerTensor\u001b[0m\u001b[1;33m)\u001b[0m\u001b[1;33m:\u001b[0m\u001b[1;33m\u001b[0m\u001b[1;33m\u001b[0m\u001b[0m\n\u001b[1;32m--> 829\u001b[1;33m     \u001b[1;32mreturn\u001b[0m \u001b[0mtensor\u001b[0m\u001b[1;33m.\u001b[0m\u001b[0mnumpy\u001b[0m\u001b[1;33m(\u001b[0m\u001b[1;33m)\u001b[0m\u001b[1;33m\u001b[0m\u001b[1;33m\u001b[0m\u001b[0m\n\u001b[0m\u001b[0;32m    830\u001b[0m   \u001b[1;32mif\u001b[0m \u001b[1;32mnot\u001b[0m \u001b[0mis_tensor\u001b[0m\u001b[1;33m(\u001b[0m\u001b[0mtensor\u001b[0m\u001b[1;33m)\u001b[0m\u001b[1;33m:\u001b[0m\u001b[1;33m\u001b[0m\u001b[1;33m\u001b[0m\u001b[0m\n\u001b[0;32m    831\u001b[0m     \u001b[1;32mreturn\u001b[0m \u001b[0mtensor\u001b[0m\u001b[1;33m\u001b[0m\u001b[1;33m\u001b[0m\u001b[0m\n",
      "\u001b[1;32m~\\AppData\\Roaming\\Python\\Python37\\site-packages\\tensorflow\\python\\framework\\ops.py\u001b[0m in \u001b[0;36mnumpy\u001b[1;34m(self)\u001b[0m\n\u001b[0;32m   1061\u001b[0m     \"\"\"\n\u001b[0;32m   1062\u001b[0m     \u001b[1;31m# TODO(slebedev): Consider avoiding a copy for non-CPU or remote tensors.\u001b[0m\u001b[1;33m\u001b[0m\u001b[1;33m\u001b[0m\u001b[1;33m\u001b[0m\u001b[0m\n\u001b[1;32m-> 1063\u001b[1;33m     \u001b[0mmaybe_arr\u001b[0m \u001b[1;33m=\u001b[0m \u001b[0mself\u001b[0m\u001b[1;33m.\u001b[0m\u001b[0m_numpy\u001b[0m\u001b[1;33m(\u001b[0m\u001b[1;33m)\u001b[0m  \u001b[1;31m# pylint: disable=protected-access\u001b[0m\u001b[1;33m\u001b[0m\u001b[1;33m\u001b[0m\u001b[0m\n\u001b[0m\u001b[0;32m   1064\u001b[0m     \u001b[1;32mreturn\u001b[0m \u001b[0mmaybe_arr\u001b[0m\u001b[1;33m.\u001b[0m\u001b[0mcopy\u001b[0m\u001b[1;33m(\u001b[0m\u001b[1;33m)\u001b[0m \u001b[1;32mif\u001b[0m \u001b[0misinstance\u001b[0m\u001b[1;33m(\u001b[0m\u001b[0mmaybe_arr\u001b[0m\u001b[1;33m,\u001b[0m \u001b[0mnp\u001b[0m\u001b[1;33m.\u001b[0m\u001b[0mndarray\u001b[0m\u001b[1;33m)\u001b[0m \u001b[1;32melse\u001b[0m \u001b[0mmaybe_arr\u001b[0m\u001b[1;33m\u001b[0m\u001b[1;33m\u001b[0m\u001b[0m\n\u001b[0;32m   1065\u001b[0m \u001b[1;33m\u001b[0m\u001b[0m\n",
      "\u001b[1;32m~\\AppData\\Roaming\\Python\\Python37\\site-packages\\tensorflow\\python\\framework\\ops.py\u001b[0m in \u001b[0;36m_numpy\u001b[1;34m(self)\u001b[0m\n\u001b[0;32m   1027\u001b[0m   \u001b[1;32mdef\u001b[0m \u001b[0m_numpy\u001b[0m\u001b[1;33m(\u001b[0m\u001b[0mself\u001b[0m\u001b[1;33m)\u001b[0m\u001b[1;33m:\u001b[0m\u001b[1;33m\u001b[0m\u001b[1;33m\u001b[0m\u001b[0m\n\u001b[0;32m   1028\u001b[0m     \u001b[1;32mtry\u001b[0m\u001b[1;33m:\u001b[0m\u001b[1;33m\u001b[0m\u001b[1;33m\u001b[0m\u001b[0m\n\u001b[1;32m-> 1029\u001b[1;33m       \u001b[1;32mreturn\u001b[0m \u001b[0mself\u001b[0m\u001b[1;33m.\u001b[0m\u001b[0m_numpy_internal\u001b[0m\u001b[1;33m(\u001b[0m\u001b[1;33m)\u001b[0m\u001b[1;33m\u001b[0m\u001b[1;33m\u001b[0m\u001b[0m\n\u001b[0m\u001b[0;32m   1030\u001b[0m     \u001b[1;32mexcept\u001b[0m \u001b[0mcore\u001b[0m\u001b[1;33m.\u001b[0m\u001b[0m_NotOkStatusException\u001b[0m \u001b[1;32mas\u001b[0m \u001b[0me\u001b[0m\u001b[1;33m:\u001b[0m  \u001b[1;31m# pylint: disable=protected-access\u001b[0m\u001b[1;33m\u001b[0m\u001b[1;33m\u001b[0m\u001b[0m\n\u001b[0;32m   1031\u001b[0m       \u001b[0msix\u001b[0m\u001b[1;33m.\u001b[0m\u001b[0mraise_from\u001b[0m\u001b[1;33m(\u001b[0m\u001b[0mcore\u001b[0m\u001b[1;33m.\u001b[0m\u001b[0m_status_to_exception\u001b[0m\u001b[1;33m(\u001b[0m\u001b[0me\u001b[0m\u001b[1;33m.\u001b[0m\u001b[0mcode\u001b[0m\u001b[1;33m,\u001b[0m \u001b[0me\u001b[0m\u001b[1;33m.\u001b[0m\u001b[0mmessage\u001b[0m\u001b[1;33m)\u001b[0m\u001b[1;33m,\u001b[0m \u001b[1;32mNone\u001b[0m\u001b[1;33m)\u001b[0m  \u001b[1;31m# pylint: disable=protected-access\u001b[0m\u001b[1;33m\u001b[0m\u001b[1;33m\u001b[0m\u001b[0m\n",
      "\u001b[1;31mKeyboardInterrupt\u001b[0m: "
     ]
    }
   ],
   "source": [
    "rewards = []\n",
    "mean_rewards = []\n",
    "max_steps = 40\n",
    "reached = 0\n",
    "for epoch in tqdm(range(10000)):\n",
    "    done = False\n",
    "    episode_reward = 0\n",
    "    step = 0\n",
    "    start, dest = env.give_start_dest()\n",
    "    start = np.array([0.1,0.1])\n",
    "    dest = np.array([0.1,0.3])\n",
    "    state = [start[0], start[1], dest[0], dest[1]]\n",
    "    while not done and step<max_steps:\n",
    "        state = np.array(state)\n",
    "        next_state, reward, done = user_agent.play_one_step(env, state, mod_agent)\n",
    "        state = next_state\n",
    "        episode_reward+=reward\n",
    "        step+=1\n",
    "        if done:\n",
    "            reached+=1\n",
    "        if epoch>50:\n",
    "            user_agent.train()\n",
    "#             mod_agent.train()\n",
    "    \n",
    "    if epoch>50 and epoch%25==0:\n",
    "        user_agent.target_model.set_weights(user_agent.model.get_weights())\n",
    "#         mod_agent.target_model.set_weights(mod_agent.model.get_weights())\n",
    "        print('Updated Weights')\n",
    "        \n",
    "    \n",
    "    if epoch>50 and epoch%50==0:\n",
    "#         mod_agent.epsilon*=0.9\n",
    "        user_agent.epsilon*=0.9\n",
    "            \n",
    "    mean_rewards.append(episode_reward)\n",
    "    if epoch%10==0:\n",
    "        rewards.append(np.mean(mean_rewards))\n",
    "        mean_rewards = []\n",
    "        print(f'Mean Reward = {rewards[-1]}')\n",
    "        print(reached)\n",
    "        reached = 0\n",
    "    "
   ]
  },
  {
   "cell_type": "code",
   "execution_count": 8,
   "metadata": {},
   "outputs": [
    {
     "data": {
      "text/plain": [
       "<tf.Tensor: shape=(1, 4), dtype=float32, numpy=array([[-5.8855405, -5.9053497, -5.8982234, -5.887598 ]], dtype=float32)>"
      ]
     },
     "execution_count": 8,
     "metadata": {},
     "output_type": "execute_result"
    }
   ],
   "source": [
    "user_agent.model(np.array([[0.1, 0.1, 0.1 , 0.3]]))"
   ]
  },
  {
   "cell_type": "code",
   "execution_count": 7,
   "metadata": {},
   "outputs": [
    {
     "data": {
      "text/plain": [
       "deque([0,\n",
       "       0,\n",
       "       1,\n",
       "       1,\n",
       "       1,\n",
       "       1,\n",
       "       1,\n",
       "       1,\n",
       "       1,\n",
       "       1,\n",
       "       3,\n",
       "       0,\n",
       "       2,\n",
       "       0,\n",
       "       0,\n",
       "       2,\n",
       "       3,\n",
       "       0,\n",
       "       0,\n",
       "       0,\n",
       "       2,\n",
       "       1,\n",
       "       1,\n",
       "       2,\n",
       "       1,\n",
       "       3,\n",
       "       3,\n",
       "       3,\n",
       "       3,\n",
       "       0,\n",
       "       3,\n",
       "       3,\n",
       "       0,\n",
       "       3,\n",
       "       3,\n",
       "       3,\n",
       "       2,\n",
       "       1,\n",
       "       0,\n",
       "       1,\n",
       "       3,\n",
       "       1,\n",
       "       1,\n",
       "       0,\n",
       "       0,\n",
       "       1,\n",
       "       1,\n",
       "       2,\n",
       "       0,\n",
       "       0,\n",
       "       0,\n",
       "       0,\n",
       "       0,\n",
       "       2,\n",
       "       0,\n",
       "       0,\n",
       "       2,\n",
       "       2,\n",
       "       1,\n",
       "       2,\n",
       "       1,\n",
       "       2,\n",
       "       3,\n",
       "       0,\n",
       "       2,\n",
       "       2,\n",
       "       1,\n",
       "       1,\n",
       "       0,\n",
       "       1,\n",
       "       0,\n",
       "       3,\n",
       "       3,\n",
       "       0,\n",
       "       1,\n",
       "       3,\n",
       "       0,\n",
       "       1,\n",
       "       1,\n",
       "       1,\n",
       "       2,\n",
       "       0,\n",
       "       3,\n",
       "       3,\n",
       "       3,\n",
       "       3,\n",
       "       0,\n",
       "       3,\n",
       "       3,\n",
       "       0,\n",
       "       1,\n",
       "       1,\n",
       "       1,\n",
       "       2,\n",
       "       1,\n",
       "       0,\n",
       "       0,\n",
       "       1,\n",
       "       0,\n",
       "       1,\n",
       "       0,\n",
       "       2,\n",
       "       2,\n",
       "       0,\n",
       "       0,\n",
       "       1,\n",
       "       2,\n",
       "       2,\n",
       "       0,\n",
       "       1,\n",
       "       3,\n",
       "       1,\n",
       "       2,\n",
       "       3,\n",
       "       1,\n",
       "       2,\n",
       "       1,\n",
       "       1,\n",
       "       0,\n",
       "       0,\n",
       "       1,\n",
       "       0,\n",
       "       0,\n",
       "       2,\n",
       "       2,\n",
       "       0,\n",
       "       0,\n",
       "       3,\n",
       "       0,\n",
       "       1,\n",
       "       1,\n",
       "       1,\n",
       "       2,\n",
       "       0,\n",
       "       3,\n",
       "       0,\n",
       "       3,\n",
       "       3,\n",
       "       2,\n",
       "       1,\n",
       "       3,\n",
       "       1,\n",
       "       3,\n",
       "       2,\n",
       "       3,\n",
       "       1,\n",
       "       3,\n",
       "       3,\n",
       "       2,\n",
       "       2,\n",
       "       1,\n",
       "       3,\n",
       "       3,\n",
       "       3,\n",
       "       1,\n",
       "       2,\n",
       "       1,\n",
       "       1,\n",
       "       1,\n",
       "       2,\n",
       "       1,\n",
       "       3,\n",
       "       0,\n",
       "       0,\n",
       "       2,\n",
       "       0,\n",
       "       0,\n",
       "       3,\n",
       "       3,\n",
       "       3,\n",
       "       1,\n",
       "       0,\n",
       "       1,\n",
       "       1,\n",
       "       0,\n",
       "       1,\n",
       "       2,\n",
       "       0,\n",
       "       3,\n",
       "       3,\n",
       "       1,\n",
       "       3,\n",
       "       2,\n",
       "       2,\n",
       "       3,\n",
       "       2,\n",
       "       0,\n",
       "       0,\n",
       "       2,\n",
       "       2,\n",
       "       3,\n",
       "       1,\n",
       "       1,\n",
       "       1,\n",
       "       1,\n",
       "       0,\n",
       "       3,\n",
       "       1,\n",
       "       0,\n",
       "       0,\n",
       "       3,\n",
       "       3,\n",
       "       2,\n",
       "       3,\n",
       "       3,\n",
       "       3,\n",
       "       0,\n",
       "       1,\n",
       "       0,\n",
       "       2,\n",
       "       1,\n",
       "       3,\n",
       "       3,\n",
       "       3,\n",
       "       3,\n",
       "       1,\n",
       "       1,\n",
       "       0,\n",
       "       2,\n",
       "       2,\n",
       "       0,\n",
       "       0,\n",
       "       0,\n",
       "       1,\n",
       "       0,\n",
       "       0,\n",
       "       2,\n",
       "       2,\n",
       "       3,\n",
       "       0,\n",
       "       3,\n",
       "       3,\n",
       "       1,\n",
       "       3,\n",
       "       2,\n",
       "       2,\n",
       "       2,\n",
       "       2,\n",
       "       3,\n",
       "       3,\n",
       "       3,\n",
       "       1,\n",
       "       0,\n",
       "       0,\n",
       "       0,\n",
       "       3,\n",
       "       3,\n",
       "       1,\n",
       "       3,\n",
       "       1,\n",
       "       3,\n",
       "       3,\n",
       "       2,\n",
       "       1,\n",
       "       3,\n",
       "       0,\n",
       "       0,\n",
       "       0,\n",
       "       0,\n",
       "       0,\n",
       "       0,\n",
       "       1,\n",
       "       1,\n",
       "       3,\n",
       "       3,\n",
       "       0,\n",
       "       3,\n",
       "       0,\n",
       "       1,\n",
       "       3,\n",
       "       2,\n",
       "       1,\n",
       "       1,\n",
       "       2,\n",
       "       3,\n",
       "       2,\n",
       "       0,\n",
       "       0,\n",
       "       2,\n",
       "       0,\n",
       "       1,\n",
       "       2,\n",
       "       1,\n",
       "       1,\n",
       "       2,\n",
       "       3,\n",
       "       2,\n",
       "       3,\n",
       "       3,\n",
       "       3,\n",
       "       2,\n",
       "       1,\n",
       "       2,\n",
       "       3,\n",
       "       1,\n",
       "       3,\n",
       "       1,\n",
       "       0,\n",
       "       2,\n",
       "       2,\n",
       "       1,\n",
       "       0,\n",
       "       2,\n",
       "       2,\n",
       "       0,\n",
       "       2,\n",
       "       1,\n",
       "       0,\n",
       "       0,\n",
       "       3,\n",
       "       2,\n",
       "       1,\n",
       "       2,\n",
       "       2,\n",
       "       0,\n",
       "       2,\n",
       "       3,\n",
       "       3,\n",
       "       3,\n",
       "       0,\n",
       "       3,\n",
       "       1,\n",
       "       1,\n",
       "       1,\n",
       "       1,\n",
       "       3,\n",
       "       0,\n",
       "       1,\n",
       "       3,\n",
       "       1,\n",
       "       2,\n",
       "       1,\n",
       "       3,\n",
       "       1,\n",
       "       3,\n",
       "       1,\n",
       "       0,\n",
       "       3,\n",
       "       2,\n",
       "       1,\n",
       "       1,\n",
       "       1,\n",
       "       1,\n",
       "       1,\n",
       "       1,\n",
       "       2,\n",
       "       0,\n",
       "       2,\n",
       "       2,\n",
       "       2,\n",
       "       3,\n",
       "       2,\n",
       "       2,\n",
       "       3,\n",
       "       2,\n",
       "       1,\n",
       "       1,\n",
       "       1,\n",
       "       1,\n",
       "       1,\n",
       "       3,\n",
       "       2,\n",
       "       1,\n",
       "       1,\n",
       "       2,\n",
       "       3,\n",
       "       3,\n",
       "       2,\n",
       "       1,\n",
       "       3,\n",
       "       0,\n",
       "       1,\n",
       "       2,\n",
       "       2,\n",
       "       3,\n",
       "       2,\n",
       "       0,\n",
       "       0,\n",
       "       0,\n",
       "       0,\n",
       "       1,\n",
       "       0,\n",
       "       3,\n",
       "       1,\n",
       "       2,\n",
       "       1,\n",
       "       1,\n",
       "       0,\n",
       "       3,\n",
       "       0,\n",
       "       2,\n",
       "       2,\n",
       "       2,\n",
       "       2,\n",
       "       3,\n",
       "       3,\n",
       "       3,\n",
       "       1,\n",
       "       1,\n",
       "       1,\n",
       "       2,\n",
       "       0,\n",
       "       2,\n",
       "       1,\n",
       "       2,\n",
       "       2,\n",
       "       0,\n",
       "       3,\n",
       "       3,\n",
       "       3,\n",
       "       1,\n",
       "       3,\n",
       "       2,\n",
       "       2,\n",
       "       3,\n",
       "       1,\n",
       "       3,\n",
       "       1,\n",
       "       1,\n",
       "       3,\n",
       "       1,\n",
       "       1,\n",
       "       1,\n",
       "       1,\n",
       "       0,\n",
       "       2,\n",
       "       3,\n",
       "       2,\n",
       "       1,\n",
       "       2,\n",
       "       2,\n",
       "       0,\n",
       "       2,\n",
       "       3,\n",
       "       3,\n",
       "       3,\n",
       "       3,\n",
       "       1,\n",
       "       0,\n",
       "       1,\n",
       "       0,\n",
       "       0,\n",
       "       2,\n",
       "       0,\n",
       "       3,\n",
       "       2,\n",
       "       3,\n",
       "       3,\n",
       "       3,\n",
       "       0,\n",
       "       3,\n",
       "       3,\n",
       "       0,\n",
       "       3,\n",
       "       2,\n",
       "       3,\n",
       "       2,\n",
       "       2,\n",
       "       2,\n",
       "       2,\n",
       "       1,\n",
       "       2,\n",
       "       1,\n",
       "       1,\n",
       "       1,\n",
       "       2,\n",
       "       3,\n",
       "       3,\n",
       "       3,\n",
       "       0,\n",
       "       2,\n",
       "       0,\n",
       "       0,\n",
       "       2,\n",
       "       0,\n",
       "       0,\n",
       "       2,\n",
       "       0,\n",
       "       3,\n",
       "       3,\n",
       "       2,\n",
       "       0,\n",
       "       1,\n",
       "       0,\n",
       "       0,\n",
       "       0,\n",
       "       1,\n",
       "       1,\n",
       "       1,\n",
       "       1,\n",
       "       1,\n",
       "       1,\n",
       "       0,\n",
       "       3,\n",
       "       1,\n",
       "       1,\n",
       "       1,\n",
       "       1,\n",
       "       2,\n",
       "       3,\n",
       "       2,\n",
       "       2,\n",
       "       2,\n",
       "       2,\n",
       "       2,\n",
       "       1,\n",
       "       3,\n",
       "       3,\n",
       "       3,\n",
       "       3,\n",
       "       1,\n",
       "       1,\n",
       "       1,\n",
       "       1,\n",
       "       1,\n",
       "       3,\n",
       "       2,\n",
       "       2,\n",
       "       2,\n",
       "       2,\n",
       "       3,\n",
       "       3,\n",
       "       3,\n",
       "       0,\n",
       "       3,\n",
       "       3,\n",
       "       2,\n",
       "       1,\n",
       "       3,\n",
       "       2,\n",
       "       3,\n",
       "       0,\n",
       "       0,\n",
       "       1,\n",
       "       0,\n",
       "       1,\n",
       "       1,\n",
       "       2,\n",
       "       0,\n",
       "       2,\n",
       "       1,\n",
       "       2,\n",
       "       3,\n",
       "       3,\n",
       "       3,\n",
       "       3,\n",
       "       2,\n",
       "       3,\n",
       "       2,\n",
       "       2,\n",
       "       2,\n",
       "       2,\n",
       "       2,\n",
       "       2,\n",
       "       0,\n",
       "       0,\n",
       "       3,\n",
       "       0,\n",
       "       3,\n",
       "       3,\n",
       "       3,\n",
       "       1,\n",
       "       3,\n",
       "       1,\n",
       "       0,\n",
       "       0,\n",
       "       0,\n",
       "       0,\n",
       "       0,\n",
       "       1,\n",
       "       2,\n",
       "       1,\n",
       "       2,\n",
       "       2,\n",
       "       2,\n",
       "       3,\n",
       "       3,\n",
       "       1,\n",
       "       0,\n",
       "       3,\n",
       "       1,\n",
       "       0,\n",
       "       3,\n",
       "       3,\n",
       "       2,\n",
       "       1,\n",
       "       1,\n",
       "       1,\n",
       "       2,\n",
       "       0,\n",
       "       2,\n",
       "       2,\n",
       "       1,\n",
       "       2,\n",
       "       2,\n",
       "       3,\n",
       "       3,\n",
       "       3,\n",
       "       3,\n",
       "       0,\n",
       "       3,\n",
       "       2,\n",
       "       2,\n",
       "       2,\n",
       "       3,\n",
       "       0,\n",
       "       2,\n",
       "       1,\n",
       "       2,\n",
       "       0,\n",
       "       3,\n",
       "       3,\n",
       "       1,\n",
       "       1,\n",
       "       1,\n",
       "       1,\n",
       "       1,\n",
       "       1,\n",
       "       1,\n",
       "       1,\n",
       "       3,\n",
       "       3,\n",
       "       3,\n",
       "       3,\n",
       "       3,\n",
       "       3,\n",
       "       3,\n",
       "       3,\n",
       "       3,\n",
       "       2,\n",
       "       1,\n",
       "       1,\n",
       "       1,\n",
       "       1,\n",
       "       1,\n",
       "       1,\n",
       "       1,\n",
       "       1,\n",
       "       1,\n",
       "       3,\n",
       "       2,\n",
       "       3,\n",
       "       3,\n",
       "       3,\n",
       "       3,\n",
       "       1,\n",
       "       3,\n",
       "       2,\n",
       "       2,\n",
       "       2,\n",
       "       2,\n",
       "       2,\n",
       "       3,\n",
       "       3,\n",
       "       0,\n",
       "       3,\n",
       "       0,\n",
       "       1,\n",
       "       3,\n",
       "       3,\n",
       "       3,\n",
       "       3,\n",
       "       2,\n",
       "       2,\n",
       "       2,\n",
       "       2,\n",
       "       2,\n",
       "       2,\n",
       "       2,\n",
       "       0,\n",
       "       2,\n",
       "       3,\n",
       "       3,\n",
       "       1,\n",
       "       3,\n",
       "       1,\n",
       "       0,\n",
       "       0,\n",
       "       0,\n",
       "       3,\n",
       "       3,\n",
       "       2,\n",
       "       1,\n",
       "       2,\n",
       "       3,\n",
       "       3,\n",
       "       0,\n",
       "       1,\n",
       "       3,\n",
       "       0,\n",
       "       0,\n",
       "       0,\n",
       "       0,\n",
       "       2,\n",
       "       3,\n",
       "       0,\n",
       "       3,\n",
       "       1,\n",
       "       1,\n",
       "       2,\n",
       "       2,\n",
       "       3,\n",
       "       0,\n",
       "       3,\n",
       "       3,\n",
       "       3,\n",
       "       1,\n",
       "       3,\n",
       "       3,\n",
       "       2,\n",
       "       3,\n",
       "       0,\n",
       "       2,\n",
       "       2,\n",
       "       2,\n",
       "       2,\n",
       "       3,\n",
       "       1,\n",
       "       0,\n",
       "       3,\n",
       "       3,\n",
       "       3,\n",
       "       3,\n",
       "       2,\n",
       "       3,\n",
       "       0,\n",
       "       3,\n",
       "       2,\n",
       "       2,\n",
       "       2,\n",
       "       2,\n",
       "       2,\n",
       "       0,\n",
       "       1,\n",
       "       3,\n",
       "       1,\n",
       "       1,\n",
       "       1,\n",
       "       3,\n",
       "       1,\n",
       "       1,\n",
       "       1,\n",
       "       0,\n",
       "       3,\n",
       "       1,\n",
       "       2,\n",
       "       0,\n",
       "       0,\n",
       "       0,\n",
       "       3,\n",
       "       2,\n",
       "       3,\n",
       "       0,\n",
       "       1,\n",
       "       3,\n",
       "       2,\n",
       "       2,\n",
       "       1,\n",
       "       0,\n",
       "       1,\n",
       "       1,\n",
       "       3,\n",
       "       0,\n",
       "       0,\n",
       "       0,\n",
       "       3,\n",
       "       0,\n",
       "       0,\n",
       "       0,\n",
       "       3,\n",
       "       3,\n",
       "       3,\n",
       "       3,\n",
       "       3,\n",
       "       2,\n",
       "       2,\n",
       "       2,\n",
       "       0,\n",
       "       1,\n",
       "       1,\n",
       "       0,\n",
       "       1,\n",
       "       0,\n",
       "       2,\n",
       "       0,\n",
       "       2,\n",
       "       2,\n",
       "       3,\n",
       "       3,\n",
       "       3,\n",
       "       1,\n",
       "       1,\n",
       "       1,\n",
       "       2,\n",
       "       1,\n",
       "       0,\n",
       "       2,\n",
       "       3,\n",
       "       0,\n",
       "       0,\n",
       "       0,\n",
       "       2,\n",
       "       2,\n",
       "       0,\n",
       "       2,\n",
       "       2,\n",
       "       1,\n",
       "       0,\n",
       "       2,\n",
       "       3,\n",
       "       2,\n",
       "       3,\n",
       "       1,\n",
       "       3,\n",
       "       1,\n",
       "       1,\n",
       "       2,\n",
       "       1,\n",
       "       1,\n",
       "       3,\n",
       "       1,\n",
       "       1,\n",
       "       3,\n",
       "       1,\n",
       "       3,\n",
       "       1,\n",
       "       2,\n",
       "       3,\n",
       "       1,\n",
       "       0,\n",
       "       2,\n",
       "       3,\n",
       "       2,\n",
       "       0,\n",
       "       2,\n",
       "       0,\n",
       "       1,\n",
       "       3,\n",
       "       1,\n",
       "       2,\n",
       "       1,\n",
       "       1,\n",
       "       1,\n",
       "       0,\n",
       "       1,\n",
       "       3,\n",
       "       3,\n",
       "       0,\n",
       "       3,\n",
       "       2,\n",
       "       2,\n",
       "       2,\n",
       "       2,\n",
       "       2,\n",
       "       2,\n",
       "       2,\n",
       "       1,\n",
       "       1,\n",
       "       2,\n",
       "       1,\n",
       "       2,\n",
       "       2,\n",
       "       1,\n",
       "       1,\n",
       "       0,\n",
       "       2,\n",
       "       2,\n",
       "       1,\n",
       "       1,\n",
       "       1,\n",
       "       1,\n",
       "       1,\n",
       "       1,\n",
       "       3,\n",
       "       1,\n",
       "       3,\n",
       "       3,\n",
       "       0,\n",
       "       0,\n",
       "       0,\n",
       "       0,\n",
       "       1,\n",
       "       1,\n",
       "       1,\n",
       "       0,\n",
       "       2,\n",
       "       0,\n",
       "       0,\n",
       "       0,\n",
       "       3,\n",
       "       2,\n",
       "       1,\n",
       "       2,\n",
       "       2,\n",
       "       2,\n",
       "       0,\n",
       "       2,\n",
       "       2,\n",
       "       0,\n",
       "       0,\n",
       "       1,\n",
       "       3,\n",
       "       2,\n",
       "       3,\n",
       "       2,\n",
       "       0,\n",
       "       1,\n",
       "       1,\n",
       "       0,\n",
       "       3,\n",
       "       2,\n",
       "       0,\n",
       "       3,\n",
       "       3,\n",
       "       1,\n",
       "       3,\n",
       "       0,\n",
       "       2,\n",
       "       2,\n",
       "       0,\n",
       "       1,\n",
       "       0,\n",
       "       1,\n",
       "       1,\n",
       "       2,\n",
       "       1,\n",
       "       1,\n",
       "       1,\n",
       "       1,\n",
       "       0,\n",
       "       1,\n",
       "       1,\n",
       "       0,\n",
       "       2,\n",
       "       3,\n",
       "       0,\n",
       "       2,\n",
       "       3,\n",
       "       3,\n",
       "       0,\n",
       "       3,\n",
       "       0,\n",
       "       1,\n",
       "       3,\n",
       "       0,\n",
       "       0,\n",
       "       0,\n",
       "       0,\n",
       "       0,\n",
       "       3,\n",
       "       0,\n",
       "       1,\n",
       "       0,\n",
       "       3,\n",
       "       2,\n",
       "       3,\n",
       "       0,\n",
       "       2,\n",
       "       2,\n",
       "       1,\n",
       "       1,\n",
       "       2,\n",
       "       2,\n",
       "       2,\n",
       "       2,\n",
       "       2,\n",
       "       0,\n",
       "       0,\n",
       "       1,\n",
       "       2,\n",
       "       0,\n",
       "       0,\n",
       "       3,\n",
       "       2,\n",
       "       3,\n",
       "       3,\n",
       "       3,\n",
       "       3,\n",
       "       0,\n",
       "       3,\n",
       "       3,\n",
       "       2,\n",
       "       0,\n",
       "       2,\n",
       "       0,\n",
       "       0,\n",
       "       0,\n",
       "       0,\n",
       "       0,\n",
       "       2,\n",
       "       3,\n",
       "       3,\n",
       "       3,\n",
       "       3,\n",
       "       2,\n",
       "       3,\n",
       "       3,\n",
       "       0,\n",
       "       1,\n",
       "       1,\n",
       "       ...])"
      ]
     },
     "execution_count": 7,
     "metadata": {},
     "output_type": "execute_result"
    }
   ],
   "source": [
    "user_agent.replay_buffer.action_history"
   ]
  },
  {
   "cell_type": "code",
   "execution_count": null,
   "metadata": {},
   "outputs": [],
   "source": []
  }
 ],
 "metadata": {
  "kernelspec": {
   "display_name": "Python 3.7 (tensorflow)",
   "language": "python",
   "name": "tensorflow"
  },
  "language_info": {
   "codemirror_mode": {
    "name": "ipython",
    "version": 3
   },
   "file_extension": ".py",
   "mimetype": "text/x-python",
   "name": "python",
   "nbconvert_exporter": "python",
   "pygments_lexer": "ipython3",
   "version": "3.7.6"
  }
 },
 "nbformat": 4,
 "nbformat_minor": 4
}
